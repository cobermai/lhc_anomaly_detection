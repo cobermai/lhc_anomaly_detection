{
 "cells": [
  {
   "cell_type": "code",
   "execution_count": 68,
   "id": "b16c2580",
   "metadata": {
    "pycharm": {
     "name": "#%%\n"
    }
   },
   "outputs": [],
   "source": [
    "import sys\n",
    "import os\n",
    "\n",
    "sys.path.insert(0,'..')\n",
    "#!pip install openpyxl\n",
    "import glob\n",
    "import pandas as pd\n",
    "import numpy as np\n",
    "import matplotlib.pyplot as plt"
   ]
  },
  {
   "cell_type": "markdown",
   "id": "77d912f8",
   "metadata": {
    "pycharm": {
     "name": "#%% md\n"
    }
   },
   "source": [
    "# Load excel"
   ]
  },
  {
   "cell_type": "code",
   "execution_count": null,
   "id": "5a242422",
   "metadata": {},
   "outputs": [],
   "source": [
    "df = pd.read_excel(\"../data/RB_TC_extract_2022_07_07.xlsx\", \"magnet data\")\n",
    "\n",
    "df.dropna(how=\"all\").to_csv(\"mb_features.csv\")"
   ]
  },
  {
   "cell_type": "markdown",
   "id": "bf2305fc",
   "metadata": {},
   "source": [
    "# Load processed excel"
   ]
  },
  {
   "cell_type": "code",
   "execution_count": 83,
   "id": "c7fb8dbc",
   "metadata": {},
   "outputs": [
    {
     "name": "stdout",
     "output_type": "stream",
     "text": [
      "4859 4512 923\n"
     ]
    },
    {
     "name": "stderr",
     "output_type": "stream",
     "text": [
      "<ipython-input-83-d9f526848db9>:4: SettingWithCopyWarning: \n",
      "A value is trying to be set on a copy of a slice from a DataFrame.\n",
      "Try using .loc[row_indexer,col_indexer] = value instead\n",
      "\n",
      "See the caveats in the documentation: https://pandas.pydata.org/pandas-docs/stable/user_guide/indexing.html#returning-a-view-versus-a-copy\n",
      "  df_processed['fpa_identifier'] = df_processed.apply(lambda x: f\"{x['Circuit Family']}_{x['Circuit Name']}_{int(x['timestamp_fgc'])}\", axis=1)\n",
      "<ipython-input-83-d9f526848db9>:7: SettingWithCopyWarning: \n",
      "A value is trying to be set on a copy of a slice from a DataFrame.\n",
      "Try using .loc[row_indexer,col_indexer] = value instead\n",
      "\n",
      "See the caveats in the documentation: https://pandas.pydata.org/pandas-docs/stable/user_guide/indexing.html#returning-a-view-versus-a-copy\n",
      "  acquisition_summary['datetime'] = pd.to_datetime(acquisition_summary['Date (FGC)'])\n",
      "<ipython-input-83-d9f526848db9>:8: SettingWithCopyWarning: \n",
      "A value is trying to be set on a copy of a slice from a DataFrame.\n",
      "Try using .loc[row_indexer,col_indexer] = value instead\n",
      "\n",
      "See the caveats in the documentation: https://pandas.pydata.org/pandas-docs/stable/user_guide/indexing.html#returning-a-view-versus-a-copy\n",
      "  acquisition_summary['year'] = acquisition_summary['datetime'].apply(lambda x: x.year)\n",
      "<ipython-input-83-d9f526848db9>:9: SettingWithCopyWarning: \n",
      "A value is trying to be set on a copy of a slice from a DataFrame.\n",
      "Try using .loc[row_indexer,col_indexer] = value instead\n",
      "\n",
      "See the caveats in the documentation: https://pandas.pydata.org/pandas-docs/stable/user_guide/indexing.html#returning-a-view-versus-a-copy\n",
      "  acquisition_summary['month'] = acquisition_summary['datetime'].apply(lambda x: x.month)\n",
      "<ipython-input-83-d9f526848db9>:10: SettingWithCopyWarning: \n",
      "A value is trying to be set on a copy of a slice from a DataFrame.\n",
      "Try using .loc[row_indexer,col_indexer] = value instead\n",
      "\n",
      "See the caveats in the documentation: https://pandas.pydata.org/pandas-docs/stable/user_guide/indexing.html#returning-a-view-versus-a-copy\n",
      "  acquisition_summary['day'] = acquisition_summary['datetime'].apply(lambda x: x.day)\n"
     ]
    }
   ],
   "source": [
    "df = pd.read_csv(\"../data/MP3_context_data/20230313_RB_processed.csv\", index_col=False)\n",
    "\n",
    "df_processed = df.dropna(subset=['Circuit Family','Circuit Name','timestamp_fgc'])\n",
    "df_processed['fpa_identifier'] = df_processed.apply(lambda x: f\"{x['Circuit Family']}_{x['Circuit Name']}_{int(x['timestamp_fgc'])}\", axis=1)\n",
    "\n",
    "acquisition_summary = df_processed.drop_duplicates(subset=['fpa_identifier'])\n",
    "acquisition_summary['datetime'] = pd.to_datetime(acquisition_summary['Date (FGC)'])\n",
    "acquisition_summary['year'] = acquisition_summary['datetime'].apply(lambda x: x.year)\n",
    "acquisition_summary['month'] = acquisition_summary['datetime'].apply(lambda x: x.month)\n",
    "acquisition_summary['day'] = acquisition_summary['datetime'].apply(lambda x: x.day)\n",
    "\n",
    "acquisition_summary = acquisition_summary[['Circuit Family','Circuit Name','timestamp_fgc', \"fpa_identifier\", \"year\", \"month\", \"day\"]]\n",
    "print(len(df), len(df_processed), len(acquisition_summary))"
   ]
  },
  {
   "cell_type": "code",
   "execution_count": 38,
   "id": "eed801e4",
   "metadata": {},
   "outputs": [
    {
     "data": {
      "text/plain": [
       "2009      1\n",
       "2010      8\n",
       "2014     30\n",
       "2015    173\n",
       "2016     36\n",
       "2017      5\n",
       "2018     24\n",
       "2021    561\n",
       "2022     85\n",
       "Name: year, dtype: int64"
      ]
     },
     "execution_count": 38,
     "metadata": {},
     "output_type": "execute_result"
    }
   ],
   "source": [
    "acquisition_summary.year.value_counts(sort =False) "
   ]
  },
  {
   "cell_type": "code",
   "execution_count": 39,
   "id": "aa448da4",
   "metadata": {},
   "outputs": [
    {
     "data": {
      "text/plain": [
       "2      2\n",
       "3     37\n",
       "4     19\n",
       "5      2\n",
       "6      5\n",
       "7      5\n",
       "8     11\n",
       "9      2\n",
       "10     1\n",
       "11     1\n",
       "Name: month, dtype: int64"
      ]
     },
     "execution_count": 39,
     "metadata": {},
     "output_type": "execute_result"
    }
   ],
   "source": [
    "acquisition_summary[acquisition_summary.year==2022].month.value_counts(sort =False) "
   ]
  },
  {
   "cell_type": "markdown",
   "id": "dd65f591",
   "metadata": {},
   "source": [
    "# look at images"
   ]
  },
  {
   "cell_type": "code",
   "execution_count": 62,
   "id": "b103d7e5",
   "metadata": {},
   "outputs": [],
   "source": [
    "df_aqs = pd.read_excel(\"../data/20220707_acquisition_summary.xlsx\", index_col=False)\n",
    "df_aqs['fpa_identifier'] = df_aqs.apply(lambda x: f\"RB_{x['Circuit Name']}_{int(x['timestamp_fgc'])}\", axis=1)\n",
    "\n",
    "sucessfull_ts = df_aqs.loc[df_aqs[\"VoltageNQPS.*U_DIODE\"] == 1, \"fpa_identifier\"]\n",
    "\n",
    "for fpa_identifier in sucessfull_ts.values:\n",
    "    print(fpa_identifier)\n",
    "    #os.remove(f\"/eos/project/m/ml-for-alarm-system/private/RB_signals/backup/20230313_data_plots_copy/{fpa_identifier}.png\")"
   ]
  },
  {
   "cell_type": "code",
   "execution_count": 76,
   "id": "35dc355c",
   "metadata": {},
   "outputs": [
    {
     "data": {
      "text/plain": [
       "(753, 55)"
      ]
     },
     "execution_count": 76,
     "metadata": {},
     "output_type": "execute_result"
    }
   ],
   "source": [
    "im_paths = glob.glob(\"/eos/project/m/ml-for-alarm-system/private/RB_signals/backup/20230313_data_plots/*\")\n",
    "im_fpa_identifier = np.array([s.split(\"/\")[-1][:-4] for s in im_paths])\n",
    "\n",
    "\n",
    "bad_im_paths = glob.glob(\"/eos/project/m/ml-for-alarm-system/private/RB_signals/backup/20230313_data_bad_plots/*\")\n",
    "bad_im_fpa_identifier = np.array([s.split(\"/\")[-1][:-4] for s in bad_im_paths])\n",
    "len(im_fpa_identifier), len(bad_im_fpa_identifier)"
   ]
  },
  {
   "cell_type": "markdown",
   "id": "062de4af",
   "metadata": {},
   "source": [
    "# Write acquisition_summary"
   ]
  },
  {
   "cell_type": "code",
   "execution_count": 91,
   "id": "dda04b3f",
   "metadata": {},
   "outputs": [],
   "source": [
    "acquisition_summary[[\"timestamp_fgc_available\", \"U_diode_data_available\"]] = 1\n",
    "acquisition_summary.loc[~acquisition_summary.fpa_identifier.isin(im_fpa_identifier), \"U_diode_data_available\"] = 0\n",
    "acquisition_summary[\"U_diode_data_useable\"] = acquisition_summary[\"U_diode_data_available\"]\n",
    "acquisition_summary.loc[acquisition_summary.fpa_identifier.isin(bad_im_fpa_identifier), \"U_diode_data_useable\"] = 0 #VoltageNQPS.*U_DIODE"
   ]
  },
  {
   "cell_type": "code",
   "execution_count": 88,
   "id": "ef8f1584",
   "metadata": {},
   "outputs": [],
   "source": [
    "#acquisition_summary.to_csv(\"20230313_acquisition_summary.csv\",index=False)"
   ]
  },
  {
   "cell_type": "code",
   "execution_count": 90,
   "id": "053b339e",
   "metadata": {},
   "outputs": [
    {
     "data": {
      "text/plain": [
       "array([2009, 2010, 2014, 2015, 2016, 2017, 2018, 2021, 2022])"
      ]
     },
     "execution_count": 90,
     "metadata": {},
     "output_type": "execute_result"
    }
   ],
   "source": [
    "acquisition_summary.year.unique()"
   ]
  },
  {
   "cell_type": "code",
   "execution_count": 101,
   "id": "23f52931",
   "metadata": {},
   "outputs": [],
   "source": [
    "df_summary = acquisition_summary.groupby(\"year\").sum()[[\"timestamp_fgc_available\", \"U_diode_data_available\", \"U_diode_data_useable\"]]\n",
    "df_summary.loc[\"sum\",:] = df_summary.sum(axis=0)"
   ]
  },
  {
   "cell_type": "code",
   "execution_count": 103,
   "id": "9a3f27a2",
   "metadata": {},
   "outputs": [
    {
     "data": {
      "text/html": [
       "<div>\n",
       "<style scoped>\n",
       "    .dataframe tbody tr th:only-of-type {\n",
       "        vertical-align: middle;\n",
       "    }\n",
       "\n",
       "    .dataframe tbody tr th {\n",
       "        vertical-align: top;\n",
       "    }\n",
       "\n",
       "    .dataframe thead th {\n",
       "        text-align: right;\n",
       "    }\n",
       "</style>\n",
       "<table border=\"1\" class=\"dataframe\">\n",
       "  <thead>\n",
       "    <tr style=\"text-align: right;\">\n",
       "      <th></th>\n",
       "      <th>timestamp_fgc_available</th>\n",
       "      <th>U_diode_data_available</th>\n",
       "      <th>U_diode_data_useable</th>\n",
       "    </tr>\n",
       "    <tr>\n",
       "      <th>year</th>\n",
       "      <th></th>\n",
       "      <th></th>\n",
       "      <th></th>\n",
       "    </tr>\n",
       "  </thead>\n",
       "  <tbody>\n",
       "    <tr>\n",
       "      <th>2009</th>\n",
       "      <td>1</td>\n",
       "      <td>0</td>\n",
       "      <td>0</td>\n",
       "    </tr>\n",
       "    <tr>\n",
       "      <th>2010</th>\n",
       "      <td>8</td>\n",
       "      <td>0</td>\n",
       "      <td>0</td>\n",
       "    </tr>\n",
       "    <tr>\n",
       "      <th>2014</th>\n",
       "      <td>30</td>\n",
       "      <td>3</td>\n",
       "      <td>1</td>\n",
       "    </tr>\n",
       "    <tr>\n",
       "      <th>2015</th>\n",
       "      <td>173</td>\n",
       "      <td>42</td>\n",
       "      <td>5</td>\n",
       "    </tr>\n",
       "    <tr>\n",
       "      <th>2016</th>\n",
       "      <td>36</td>\n",
       "      <td>36</td>\n",
       "      <td>32</td>\n",
       "    </tr>\n",
       "    <tr>\n",
       "      <th>2017</th>\n",
       "      <td>5</td>\n",
       "      <td>5</td>\n",
       "      <td>5</td>\n",
       "    </tr>\n",
       "    <tr>\n",
       "      <th>2018</th>\n",
       "      <td>24</td>\n",
       "      <td>24</td>\n",
       "      <td>21</td>\n",
       "    </tr>\n",
       "    <tr>\n",
       "      <th>2021</th>\n",
       "      <td>561</td>\n",
       "      <td>559</td>\n",
       "      <td>553</td>\n",
       "    </tr>\n",
       "    <tr>\n",
       "      <th>2022</th>\n",
       "      <td>85</td>\n",
       "      <td>84</td>\n",
       "      <td>81</td>\n",
       "    </tr>\n",
       "    <tr>\n",
       "      <th>sum</th>\n",
       "      <td>923</td>\n",
       "      <td>753</td>\n",
       "      <td>698</td>\n",
       "    </tr>\n",
       "  </tbody>\n",
       "</table>\n",
       "</div>"
      ],
      "text/plain": [
       "      timestamp_fgc_available  U_diode_data_available  U_diode_data_useable\n",
       "year                                                                       \n",
       "2009                        1                       0                     0\n",
       "2010                        8                       0                     0\n",
       "2014                       30                       3                     1\n",
       "2015                      173                      42                     5\n",
       "2016                       36                      36                    32\n",
       "2017                        5                       5                     5\n",
       "2018                       24                      24                    21\n",
       "2021                      561                     559                   553\n",
       "2022                       85                      84                    81\n",
       "sum                       923                     753                   698"
      ]
     },
     "execution_count": 103,
     "metadata": {},
     "output_type": "execute_result"
    }
   ],
   "source": [
    "df_summary.astype(int)"
   ]
  },
  {
   "cell_type": "markdown",
   "id": "5a31fca1",
   "metadata": {
    "pycharm": {
     "name": "#%% md\n"
    }
   },
   "source": [
    "# Look at unique values"
   ]
  },
  {
   "cell_type": "code",
   "execution_count": null,
   "id": "ab89176f",
   "metadata": {
    "pycharm": {
     "name": "#%%\n"
    }
   },
   "outputs": [],
   "source": [
    "df.columns.values"
   ]
  },
  {
   "cell_type": "code",
   "execution_count": null,
   "id": "be0aeba8",
   "metadata": {
    "pycharm": {
     "name": "#%%\n"
    }
   },
   "outputs": [],
   "source": [
    "df['FPA Reason'].value_counts()"
   ]
  },
  {
   "cell_type": "code",
   "execution_count": null,
   "id": "c4a19dc0",
   "metadata": {
    "pycharm": {
     "name": "#%%\n"
    }
   },
   "outputs": [],
   "source": [
    "df['Type of Quench'].value_counts()"
   ]
  },
  {
   "cell_type": "code",
   "execution_count": null,
   "id": "70121515",
   "metadata": {
    "pycharm": {
     "name": "#%%\n"
    }
   },
   "outputs": [],
   "source": [
    "df['Nr in Q event'].value_counts()"
   ]
  },
  {
   "cell_type": "code",
   "execution_count": null,
   "id": "1a2964a7",
   "metadata": {
    "pycharm": {
     "name": "#%%\n"
    }
   },
   "outputs": [],
   "source": [
    "df['QDS trigger origin'].value_counts() "
   ]
  },
  {
   "cell_type": "code",
   "execution_count": null,
   "id": "2d7559bf",
   "metadata": {
    "pycharm": {
     "name": "#%%\n"
    }
   },
   "outputs": [],
   "source": [
    "df['Position'].value_counts() "
   ]
  },
  {
   "cell_type": "code",
   "execution_count": null,
   "id": "00151fc0",
   "metadata": {
    "pycharm": {
     "name": "#%%\n"
    }
   },
   "outputs": [],
   "source": [
    "df['Analysis performed by'].value_counts()"
   ]
  },
  {
   "cell_type": "code",
   "execution_count": null,
   "id": "72476416",
   "metadata": {
    "pycharm": {
     "name": "#%%\n"
    }
   },
   "outputs": [],
   "source": [
    "df['Comment'].value_counts()[:20]"
   ]
  },
  {
   "cell_type": "markdown",
   "id": "3ce1d430",
   "metadata": {
    "pycharm": {
     "name": "#%% md\n"
    }
   },
   "source": [
    "# Histograms"
   ]
  },
  {
   "cell_type": "code",
   "execution_count": null,
   "id": "6d85c400",
   "metadata": {
    "pycharm": {
     "name": "#%%\n"
    }
   },
   "outputs": [],
   "source": [
    "df[\"Date (FGC)\"] = pd.to_datetime(df[\"Date (FGC)\"])\n",
    "df[\"year\"] = df[\"Date (FGC)\"].dt.year.dropna()\n",
    "df[\"month\"] = df[\"Date (FGC)\"].dt.month.dropna()"
   ]
  },
  {
   "cell_type": "code",
   "execution_count": null,
   "id": "695cadb6",
   "metadata": {
    "pycharm": {
     "name": "#%%\n"
    }
   },
   "outputs": [],
   "source": [
    "def plot_hist(df, column, ax, bins=None, title=None, range=None, em=True, xlim=None, ylog=False):\n",
    "    df[column].hist(label=\"all quenches\", ax=ax, bins=bins, align='left', rwidth=0.9, range=range)\n",
    "    df[df['Type of Quench'] ==\"GHe propagation\"][column].hist(label=\"secondary quenches (GHe)\", ax=ax, bins=bins, rwidth=0.9, align='left', range=range)\n",
    "    df[df['Nr in Q event'] == 1][column].hist(label=\"primary quenches\", ax=ax, bins=bins, rwidth=0.9, align='left', range=range)\n",
    "    if em:\n",
    "        df[df['Type of Quench'] ==\"EM disturbance\"][column].hist(label=\"secondary quenches (EM)\", ax=ax, bins=bins, rwidth=0.9, align='left', range=range)\n",
    "    if xlim:\n",
    "        ax.set_xlim(xlim)\n",
    "    if ylog:\n",
    "        ax.set_yscale(\"log\")\n",
    "    ax.legend()\n",
    "    ax.set_title(title)"
   ]
  },
  {
   "cell_type": "code",
   "execution_count": null,
   "id": "ecf976b4",
   "metadata": {
    "pycharm": {
     "name": "#%%\n"
    }
   },
   "outputs": [],
   "source": [
    "fig, ax = plt.subplots(5,3, figsize=(25,30))\n",
    "plot_hist(df, column=\"year\", ax=ax[0,0], bins=np.arange(2008, 2023), title=\"Year of Quench\")\n",
    "plot_hist(df, column=\"Circuit Name\", ax=ax[0,1], bins=8, title=\"Circuit of Quench\")\n",
    "plot_hist(df, column=\"I_Q_M\", ax=ax[0,2], title=\"Current of Quench\", range=(df[\"I_Q_M\"].min(), df[\"I_Q_M\"].max()))\n",
    "plot_hist(df, column=\"I_Q_SM18\", ax=ax[1,0], title=\"SM18 Test Current of Quenched Magnet\", range=(df[\"I_Q_SM18\"].min(), df[\"I_Q_SM18\"].max()))\n",
    "plot_hist(df, column=\"Short magnet ID\", ax=ax[1,1], bins=100, title=\"Short magnet ID\", range=(df[\"Short magnet ID\"].min(), df[\"Short magnet ID\"].max()))\n",
    "plot_hist(df, column=\"Manufacturer\", ax=ax[1,2], bins=3, title=\"Manufacturer\")\n",
    "plot_hist(df[df[\"Outer cable type\"].apply(lambda x: isinstance(x, str))], column=\"Outer cable type\", ax=ax[2,0], title=\"Outer cable type\", bins=df[df[\"Outer cable type\"].apply(lambda x: isinstance(x, str))][\"Outer cable type\"].unique())\n",
    "plot_hist(df, column=\"Inner cable type\", ax=ax[2,1], title=\"Inner cable type\", em=False)\n",
    "\n",
    "plot_hist(df, column=\"V_symm_max\", ax=ax[2,2], title=\"V_symm_max\", xlim=(0,2), bins=100, range=(df[\"V_symm_max\"].min(), df[\"V_symm_max\"].max()))\n",
    "plot_hist(df.drop(df[df[\"dU_iQPS/dt\"].apply(lambda x: isinstance(x, str))].index), column=\"dU_iQPS/dt\", ax=ax[3,0], title=\"dU_iQPS/dt\", xlim=(-25,25), bins=100, range=(df.drop(df[df[\"dU_iQPS/dt\"].apply(lambda x: isinstance(x, str))].index)[\"dU_iQPS/dt\"].min(), df.drop(df[df[\"dU_iQPS/dt\"].apply(lambda x: isinstance(x, str))].index)[\"dU_iQPS/dt\"].max()))\n",
    "\n",
    "plot_hist(df.drop(df[df[\"Quench origin\"]==\"?\"].index), column=\"Quench origin\", ax=ax[3,1], title=\"Quench origin\")\n",
    "plot_hist(df.drop(df[df[\"R_DL_max\"].apply(lambda x: isinstance(x, str))].index), column=\"R_DL_max\", ax=ax[4,0], title=\"R_DL_max\", xlim=(-5,200), bins=300, range=(df.drop(df[df[\"R_DL_max\"].apply(lambda x: isinstance(x, str))].index)[\"R_DL_max\"].min(), df.drop(df[df[\"R_DL_max\"].apply(lambda x: isinstance(x, str))].index)[\"R_DL_max\"].max()))\n",
    "plot_hist(df, column=\"I at R_DL_max\", ax=ax[4,1], title=\"I at R_DL_max\", ylog=True, bins=200, range=(df[\"I at R_DL_max\"].min(), df[\"I at R_DL_max\"].max()))"
   ]
  },
  {
   "cell_type": "code",
   "execution_count": null,
   "id": "703dc50c",
   "metadata": {
    "pycharm": {
     "name": "#%%\n"
    }
   },
   "outputs": [],
   "source": []
  }
 ],
 "metadata": {
  "kernelspec": {
   "display_name": "Python 3",
   "language": "python",
   "name": "python3"
  },
  "language_info": {
   "codemirror_mode": {
    "name": "ipython",
    "version": 3
   },
   "file_extension": ".py",
   "mimetype": "text/x-python",
   "name": "python",
   "nbconvert_exporter": "python",
   "pygments_lexer": "ipython3",
   "version": "3.8.6"
  }
 },
 "nbformat": 4,
 "nbformat_minor": 5
}
