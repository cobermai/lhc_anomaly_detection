{
 "cells": [
  {
   "cell_type": "code",
   "execution_count": 1,
   "id": "b16c2580",
   "metadata": {
    "pycharm": {
     "name": "#%%\n"
    }
   },
   "outputs": [],
   "source": [
    "import sys\n",
    "\n",
    "sys.path.insert(0,'..')\n",
    "#!pip install openpyxl\n",
    "\n",
    "import pandas as pd\n",
    "import numpy as np\n",
    "import matplotlib.pyplot as plt"
   ]
  },
  {
   "cell_type": "markdown",
   "id": "77d912f8",
   "metadata": {
    "pycharm": {
     "name": "#%% md\n"
    }
   },
   "source": [
    "# Load excel"
   ]
  },
  {
   "cell_type": "code",
   "execution_count": 5,
   "id": "07d02336",
   "metadata": {
    "pycharm": {
     "name": "#%%\n"
    }
   },
   "outputs": [],
   "source": [
    "df = pd.read_excel(\"../data/RB_TC_extract_2022_07_07.xlsx\")\n",
    "df = df.iloc[1: , :] #first line are units"
   ]
  },
  {
   "cell_type": "code",
   "execution_count": null,
   "id": "d922244f",
   "metadata": {},
   "outputs": [],
   "source": [
    "Short magnet ID\tManufacturer\tInner cable type\tOuter cable type\tI_Q_SM18"
   ]
  },
  {
   "cell_type": "code",
   "execution_count": 16,
   "id": "5a242422",
   "metadata": {},
   "outputs": [],
   "source": [
    "df = pd.read_excel(\"../data/RB_TC_extract_2022_07_07.xlsx\", \"magnet data\")\n",
    "\n",
    "df.dropna(how=\"all\").to_csv(\"mb_features.csv\")"
   ]
  },
  {
   "cell_type": "code",
   "execution_count": 18,
   "id": "c7fb8dbc",
   "metadata": {},
   "outputs": [
    {
     "data": {
      "text/plain": [
       "Index(['Short magnet ID', 'Manufacturer', 'Inner cable type',\n",
       "       'Outer cable type', 'I_Q_SM18', 'Renamed short magnet ID',\n",
       "       'MTF Status'],\n",
       "      dtype='object')"
      ]
     },
     "execution_count": 18,
     "metadata": {},
     "output_type": "execute_result"
    }
   ],
   "source": [
    "df.columns"
   ]
  },
  {
   "cell_type": "markdown",
   "id": "5a31fca1",
   "metadata": {
    "pycharm": {
     "name": "#%% md\n"
    }
   },
   "source": [
    "# Look at unique values"
   ]
  },
  {
   "cell_type": "code",
   "execution_count": null,
   "id": "ab89176f",
   "metadata": {
    "pycharm": {
     "name": "#%%\n"
    }
   },
   "outputs": [],
   "source": [
    "df.columns.values"
   ]
  },
  {
   "cell_type": "code",
   "execution_count": null,
   "id": "be0aeba8",
   "metadata": {
    "pycharm": {
     "name": "#%%\n"
    }
   },
   "outputs": [],
   "source": [
    "df['FPA Reason'].value_counts()"
   ]
  },
  {
   "cell_type": "code",
   "execution_count": null,
   "id": "c4a19dc0",
   "metadata": {
    "pycharm": {
     "name": "#%%\n"
    }
   },
   "outputs": [],
   "source": [
    "df['Type of Quench'].value_counts()"
   ]
  },
  {
   "cell_type": "code",
   "execution_count": null,
   "id": "70121515",
   "metadata": {
    "pycharm": {
     "name": "#%%\n"
    }
   },
   "outputs": [],
   "source": [
    "df['Nr in Q event'].value_counts()"
   ]
  },
  {
   "cell_type": "code",
   "execution_count": null,
   "id": "1a2964a7",
   "metadata": {
    "pycharm": {
     "name": "#%%\n"
    }
   },
   "outputs": [],
   "source": [
    "df['QDS trigger origin'].value_counts() "
   ]
  },
  {
   "cell_type": "code",
   "execution_count": null,
   "id": "2d7559bf",
   "metadata": {
    "pycharm": {
     "name": "#%%\n"
    }
   },
   "outputs": [],
   "source": [
    "df['Position'].value_counts() "
   ]
  },
  {
   "cell_type": "code",
   "execution_count": null,
   "id": "00151fc0",
   "metadata": {
    "pycharm": {
     "name": "#%%\n"
    }
   },
   "outputs": [],
   "source": [
    "df['Analysis performed by'].value_counts()"
   ]
  },
  {
   "cell_type": "code",
   "execution_count": null,
   "id": "72476416",
   "metadata": {
    "pycharm": {
     "name": "#%%\n"
    }
   },
   "outputs": [],
   "source": [
    "df['Comment'].value_counts()[:20]"
   ]
  },
  {
   "cell_type": "markdown",
   "id": "3ce1d430",
   "metadata": {
    "pycharm": {
     "name": "#%% md\n"
    }
   },
   "source": [
    "# Histograms"
   ]
  },
  {
   "cell_type": "code",
   "execution_count": null,
   "id": "6d85c400",
   "metadata": {
    "pycharm": {
     "name": "#%%\n"
    }
   },
   "outputs": [],
   "source": [
    "df[\"Date (FGC)\"] = pd.to_datetime(df[\"Date (FGC)\"])\n",
    "df[\"year\"] = df[\"Date (FGC)\"].dt.year.dropna()\n",
    "df[\"month\"] = df[\"Date (FGC)\"].dt.month.dropna()"
   ]
  },
  {
   "cell_type": "code",
   "execution_count": null,
   "id": "695cadb6",
   "metadata": {
    "pycharm": {
     "name": "#%%\n"
    }
   },
   "outputs": [],
   "source": [
    "def plot_hist(df, column, ax, bins=None, title=None, range=None, em=True, xlim=None, ylog=False):\n",
    "    df[column].hist(label=\"all quenches\", ax=ax, bins=bins, align='left', rwidth=0.9, range=range)\n",
    "    df[df['Type of Quench'] ==\"GHe propagation\"][column].hist(label=\"secondary quenches (GHe)\", ax=ax, bins=bins, rwidth=0.9, align='left', range=range)\n",
    "    df[df['Nr in Q event'] == 1][column].hist(label=\"primary quenches\", ax=ax, bins=bins, rwidth=0.9, align='left', range=range)\n",
    "    if em:\n",
    "        df[df['Type of Quench'] ==\"EM disturbance\"][column].hist(label=\"secondary quenches (EM)\", ax=ax, bins=bins, rwidth=0.9, align='left', range=range)\n",
    "    if xlim:\n",
    "        ax.set_xlim(xlim)\n",
    "    if ylog:\n",
    "        ax.set_yscale(\"log\")\n",
    "    ax.legend()\n",
    "    ax.set_title(title)"
   ]
  },
  {
   "cell_type": "code",
   "execution_count": null,
   "id": "ecf976b4",
   "metadata": {
    "pycharm": {
     "name": "#%%\n"
    }
   },
   "outputs": [],
   "source": [
    "fig, ax = plt.subplots(5,3, figsize=(25,30))\n",
    "plot_hist(df, column=\"year\", ax=ax[0,0], bins=np.arange(2008, 2023), title=\"Year of Quench\")\n",
    "plot_hist(df, column=\"Circuit Name\", ax=ax[0,1], bins=8, title=\"Circuit of Quench\")\n",
    "plot_hist(df, column=\"I_Q_M\", ax=ax[0,2], title=\"Current of Quench\", range=(df[\"I_Q_M\"].min(), df[\"I_Q_M\"].max()))\n",
    "plot_hist(df, column=\"I_Q_SM18\", ax=ax[1,0], title=\"SM18 Test Current of Quenched Magnet\", range=(df[\"I_Q_SM18\"].min(), df[\"I_Q_SM18\"].max()))\n",
    "plot_hist(df, column=\"Short magnet ID\", ax=ax[1,1], bins=100, title=\"Short magnet ID\", range=(df[\"Short magnet ID\"].min(), df[\"Short magnet ID\"].max()))\n",
    "plot_hist(df, column=\"Manufacturer\", ax=ax[1,2], bins=3, title=\"Manufacturer\")\n",
    "plot_hist(df[df[\"Outer cable type\"].apply(lambda x: isinstance(x, str))], column=\"Outer cable type\", ax=ax[2,0], title=\"Outer cable type\", bins=df[df[\"Outer cable type\"].apply(lambda x: isinstance(x, str))][\"Outer cable type\"].unique())\n",
    "plot_hist(df, column=\"Inner cable type\", ax=ax[2,1], title=\"Inner cable type\", em=False)\n",
    "\n",
    "plot_hist(df, column=\"V_symm_max\", ax=ax[2,2], title=\"V_symm_max\", xlim=(0,2), bins=100, range=(df[\"V_symm_max\"].min(), df[\"V_symm_max\"].max()))\n",
    "plot_hist(df.drop(df[df[\"dU_iQPS/dt\"].apply(lambda x: isinstance(x, str))].index), column=\"dU_iQPS/dt\", ax=ax[3,0], title=\"dU_iQPS/dt\", xlim=(-25,25), bins=100, range=(df.drop(df[df[\"dU_iQPS/dt\"].apply(lambda x: isinstance(x, str))].index)[\"dU_iQPS/dt\"].min(), df.drop(df[df[\"dU_iQPS/dt\"].apply(lambda x: isinstance(x, str))].index)[\"dU_iQPS/dt\"].max()))\n",
    "\n",
    "plot_hist(df.drop(df[df[\"Quench origin\"]==\"?\"].index), column=\"Quench origin\", ax=ax[3,1], title=\"Quench origin\")\n",
    "plot_hist(df.drop(df[df[\"R_DL_max\"].apply(lambda x: isinstance(x, str))].index), column=\"R_DL_max\", ax=ax[4,0], title=\"R_DL_max\", xlim=(-5,200), bins=300, range=(df.drop(df[df[\"R_DL_max\"].apply(lambda x: isinstance(x, str))].index)[\"R_DL_max\"].min(), df.drop(df[df[\"R_DL_max\"].apply(lambda x: isinstance(x, str))].index)[\"R_DL_max\"].max()))\n",
    "plot_hist(df, column=\"I at R_DL_max\", ax=ax[4,1], title=\"I at R_DL_max\", ylog=True, bins=200, range=(df[\"I at R_DL_max\"].min(), df[\"I at R_DL_max\"].max()))"
   ]
  },
  {
   "cell_type": "code",
   "execution_count": null,
   "id": "703dc50c",
   "metadata": {
    "pycharm": {
     "name": "#%%\n"
    }
   },
   "outputs": [],
   "source": []
  }
 ],
 "metadata": {
  "kernelspec": {
   "display_name": "Python 3",
   "language": "python",
   "name": "python3"
  },
  "language_info": {
   "codemirror_mode": {
    "name": "ipython",
    "version": 3
   },
   "file_extension": ".py",
   "mimetype": "text/x-python",
   "name": "python",
   "nbconvert_exporter": "python",
   "pygments_lexer": "ipython3",
   "version": "3.8.6"
  }
 },
 "nbformat": 4,
 "nbformat_minor": 5
}
