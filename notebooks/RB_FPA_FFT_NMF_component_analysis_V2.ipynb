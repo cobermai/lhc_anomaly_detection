{
 "cells": [
  {
   "cell_type": "markdown",
   "id": "de62fb17",
   "metadata": {
    "pycharm": {
     "name": "#%% md\n"
    }
   },
   "source": [
    "# Import libraries"
   ]
  },
  {
   "cell_type": "code",
   "execution_count": 4,
   "id": "28e55775",
   "metadata": {
    "pycharm": {
     "name": "#%%\n"
    }
   },
   "outputs": [
    {
     "data": {
      "text/html": [
       "<style>.container { width:100% !important; }</style>"
      ],
      "text/plain": [
       "<IPython.core.display.HTML object>"
      ]
     },
     "metadata": {},
     "output_type": "display_data"
    }
   ],
   "source": [
    "import sys\n",
    "sys.path.insert(0,'..')\n",
    "\n",
    "from IPython.display import display, HTML\n",
    "display(HTML(\"<style>.container { width:100% !important; }</style>\"))\n",
    "\n",
    "import matplotlib as mpl\n",
    "mpl.rcParams.update(mpl.rcParamsDefault)"
   ]
  },
  {
   "cell_type": "code",
   "execution_count": 38,
   "id": "c7662299",
   "metadata": {
    "pycharm": {
     "name": "#%%\n"
    }
   },
   "outputs": [],
   "source": [
    "import os\n",
    "import sys\n",
    "from pathlib import Path\n",
    "\n",
    "import pandas as pd\n",
    "import numpy as np\n",
    "import pickle\n",
    "import matplotlib.pyplot as plt\n",
    "import matplotlib as mpl\n",
    "import matplotlib.dates as mdates\n",
    "from matplotlib import colors\n",
    "import h5py\n",
    "import re\n",
    "from typing import Optional\n",
    "import datetime as dt\n",
    "\n",
    "from functools import partial\n",
    "from multiprocessing import Pool\n",
    "\n",
    "#from lhcsmapi.Time import Time\n",
    "#from lhcsmapi.Timer import Timer\n",
    "#from lhcsmapi.metadata.MappingMetadata import MappingMetadata\n",
    "from scipy import signal\n",
    "import xarray as xr\n",
    "import numpy as np\n",
    "from sklearn.manifold import TSNE\n",
    "from sklearn.preprocessing import StandardScaler\n",
    "from sklearn.cluster import KMeans\n",
    "from scipy.signal import find_peaks\n",
    "\n",
    "from src.dataset import load_dataset\n",
    "from src.datasets.rb_fpa_prim_quench_ee_plateau2_V2 import RBFPAPrimQuenchEEPlateau2_V2\n",
    "from src.datasets.rb_fpa_prim_quench_ee_plateau_V2 import RBFPAPrimQuenchEEPlateau_V2\n",
    "from src.utils.frequency_utils import *\n",
    "from src.visualisation.fft_visualisation import plot_nmf_components, plot_position_frequency_map, plot_NMF, plot_nmf_event_composition, plot_avg_component_weight, plot_distribution_over_column, plot_component_distribution, plot_cweight_distribution_all_data\n",
    "from src.visualisation.visualisation import make_gif\n",
    "#from src.models.nmf import NMF\n",
    "from src.utils.utils import pd_dict_filt, nanargsort, merge_array\n",
    "from src.utils.sort_utils import map_position_index, center_array, split_main_mirror, calc_snr, main_mirror_to_el, generate_sorted_value_dict\n",
    "\n",
    "pd.set_option('display.max_rows', 200)\n",
    "import warnings\n",
    "warnings.filterwarnings('ignore')\n",
    "\n",
    "default_colors = plt.rcParams['axes.prop_cycle'].by_key()['color'] *2"
   ]
  },
  {
   "cell_type": "markdown",
   "id": "3d4f7d58",
   "metadata": {
    "pycharm": {
     "name": "#%% md\n"
    }
   },
   "source": [
    "# Define Paths"
   ]
  },
  {
   "cell_type": "code",
   "execution_count": 6,
   "id": "a7cf7322",
   "metadata": {
    "pycharm": {
     "name": "#%%\n"
    }
   },
   "outputs": [],
   "source": [
    "file_path  = Path('/eos/project/m/ml-for-alarm-system/private/RB_signals')\n",
    "data_path = file_path / 'backup/20220707_data'"
   ]
  },
  {
   "cell_type": "markdown",
   "id": "05fd1b1e",
   "metadata": {
    "pycharm": {
     "name": "#%% md\n"
    }
   },
   "source": [
    "# Read the (clean) MP3 file"
   ]
  },
  {
   "cell_type": "code",
   "execution_count": 15,
   "id": "a399d8a9",
   "metadata": {
    "pycharm": {
     "name": "#%%\n"
    }
   },
   "outputs": [
    {
     "data": {
      "text/plain": [
       "(3455, 731)"
      ]
     },
     "execution_count": 15,
     "metadata": {},
     "output_type": "execute_result"
    }
   ],
   "source": [
    "# define paths to read\n",
    "context_path = Path(\"../data/MP3_context_data/20230313_RB_processed.csv\")\n",
    "snapshot_context_path = Path(\"../data/RB_snapshot_context.csv\")\n",
    "\n",
    "# define paths to read + write\n",
    "#dataset_path = Path(\"/eos/project/m/ml-for-alarm-system/private/RB_signals/backup/20230313_RBFPAPrimQuenchEEPlateau_V2\")\n",
    "#dataset_path2 = Path(\"/eos/project/m/ml-for-alarm-system/private/RB_signals/backup/20230313_RBFPAPrimQuenchEEPlateau2_V2\")\n",
    "\n",
    "dataset_path = Path('D:\\\\datasets\\\\20230313_RBFPAPrimQuenchEEPlateau_V2')\n",
    "dataset_path2 = Path('D:\\\\datasets\\\\20230313_RBFPAPrimQuenchEEPlateau2_V2')\n",
    "\n",
    "# load desired fpa_identifiers\n",
    "mp3_fpa_df = pd.read_csv(context_path)\n",
    "snapshot_context_df = pd.read_csv(snapshot_context_path)\n",
    "mp3_fpa_df = pd.concat([mp3_fpa_df[mp3_fpa_df['timestamp_fgc'] >= 1526582397220000000], snapshot_context_df])\n",
    "drop_events = [\"RB_RB.A78_1619330143440000000\", \"RB_RB.A45_1544355147780000000\", \"RB_RB.A45_1544300287820000000\"] # known outliers to drop\n",
    "\n",
    "acquisition_summary_path = Path(\"../data/20230313_acquisition_summary.csv\")\n",
    "acquisition_summary = pd.read_csv(acquisition_summary_path)\n",
    "drop_events.append(acquisition_summary[acquisition_summary[\"U_diode_data_useable\"] != 1].fpa_identifier.values)\n",
    "\n",
    "mp3_fpa_df = mp3_fpa_df[~mp3_fpa_df.fpa_identifier.isin(drop_events)]\n",
    "mp3_fpa_df_unique = mp3_fpa_df.drop_duplicates(subset=['fpa_identifier'])\n",
    "len(mp3_fpa_df), len(mp3_fpa_df_unique)"
   ]
  },
  {
   "cell_type": "code",
   "execution_count": 16,
   "id": "341b4f9d",
   "metadata": {
    "pycharm": {
     "name": "#%%\n"
    }
   },
   "outputs": [],
   "source": [
    "mp3_fpa_df_unique['I_Q_kA'] = mp3_fpa_df_unique[\"I_Q_M\"].apply(lambda x: np.round(x / 1e3)*1e3)\n",
    "#mp3_fpa_df_unique['dI_dt_from_data_round'] = mp3_fpa_df_unique[\"dI_dt_from_data\"].apply(lambda x: int(np.round(x)))\n",
    "\n",
    "mp3_fpa_df_unique['datetime'] = pd.to_datetime(mp3_fpa_df_unique['Date (FGC)'])\n",
    "mp3_fpa_df_unique['year'] = mp3_fpa_df_unique['datetime'].apply(lambda x: x.year)\n",
    "mp3_fpa_df_unique['month'] = mp3_fpa_df_unique['datetime'].apply(lambda x: x.month)\n",
    "mp3_fpa_df_unique['day'] = mp3_fpa_df_unique['datetime'].apply(lambda x: x.day)"
   ]
  },
  {
   "cell_type": "markdown",
   "id": "541b29e3",
   "metadata": {
    "pycharm": {
     "name": "#%% md\n"
    }
   },
   "source": [
    "# Read metadata"
   ]
  },
  {
   "cell_type": "code",
   "execution_count": 17,
   "id": "6538182e",
   "metadata": {
    "pycharm": {
     "name": "#%%\n"
    }
   },
   "outputs": [
    {
     "data": {
      "text/html": [
       "<div>\n",
       "<style scoped>\n",
       "    .dataframe tbody tr th:only-of-type {\n",
       "        vertical-align: middle;\n",
       "    }\n",
       "\n",
       "    .dataframe tbody tr th {\n",
       "        vertical-align: top;\n",
       "    }\n",
       "\n",
       "    .dataframe thead th {\n",
       "        text-align: right;\n",
       "    }\n",
       "</style>\n",
       "<table border=\"1\" class=\"dataframe\">\n",
       "  <thead>\n",
       "    <tr style=\"text-align: right;\">\n",
       "      <th></th>\n",
       "      <th>Circuit</th>\n",
       "      <th>Magnet</th>\n",
       "      <th>Position</th>\n",
       "      <th>B1_aperture</th>\n",
       "      <th>Diode_type</th>\n",
       "      <th>Correctors</th>\n",
       "      <th>EE place</th>\n",
       "      <th>#Electric_EE</th>\n",
       "      <th>#Electric_circuit</th>\n",
       "      <th>Cryostat</th>\n",
       "      <th>...</th>\n",
       "      <th>age</th>\n",
       "      <th>Manufacturer</th>\n",
       "      <th>Inner cable type</th>\n",
       "      <th>Outer cable type</th>\n",
       "      <th>I_Q_SM18</th>\n",
       "      <th>Renamed short magnet ID</th>\n",
       "      <th>MTF Status</th>\n",
       "      <th>Magnet_construction_order</th>\n",
       "      <th>QPS Crate Number</th>\n",
       "      <th>Cryostat Number</th>\n",
       "    </tr>\n",
       "  </thead>\n",
       "  <tbody>\n",
       "    <tr>\n",
       "      <th>0</th>\n",
       "      <td>RB.A12</td>\n",
       "      <td>MB.A8R1</td>\n",
       "      <td>276.7340</td>\n",
       "      <td>EXT</td>\n",
       "      <td>R</td>\n",
       "      <td>A</td>\n",
       "      <td>EVEN</td>\n",
       "      <td>1</td>\n",
       "      <td>78</td>\n",
       "      <td>LBARE.8R1</td>\n",
       "      <td>...</td>\n",
       "      <td>14.0</td>\n",
       "      <td>3.0</td>\n",
       "      <td>01B</td>\n",
       "      <td>02B8</td>\n",
       "      <td>11488.0</td>\n",
       "      <td>NaN</td>\n",
       "      <td>NaN</td>\n",
       "      <td>288</td>\n",
       "      <td>0</td>\n",
       "      <td>0</td>\n",
       "    </tr>\n",
       "    <tr>\n",
       "      <th>1</th>\n",
       "      <td>RB.A12</td>\n",
       "      <td>MB.B8R1</td>\n",
       "      <td>292.3940</td>\n",
       "      <td>EXT</td>\n",
       "      <td>R</td>\n",
       "      <td>B</td>\n",
       "      <td>ODD</td>\n",
       "      <td>77</td>\n",
       "      <td>77</td>\n",
       "      <td>LBBRF.8R1</td>\n",
       "      <td>...</td>\n",
       "      <td>14.0</td>\n",
       "      <td>2.0</td>\n",
       "      <td>01E</td>\n",
       "      <td>02C0</td>\n",
       "      <td>10622.0</td>\n",
       "      <td>NaN</td>\n",
       "      <td>NaN</td>\n",
       "      <td>256</td>\n",
       "      <td>0</td>\n",
       "      <td>1</td>\n",
       "    </tr>\n",
       "    <tr>\n",
       "      <th>2</th>\n",
       "      <td>RB.A12</td>\n",
       "      <td>MB.A9R1</td>\n",
       "      <td>315.7990</td>\n",
       "      <td>EXT</td>\n",
       "      <td>R</td>\n",
       "      <td>A</td>\n",
       "      <td>EVEN</td>\n",
       "      <td>2</td>\n",
       "      <td>79</td>\n",
       "      <td>LBARE.9R1</td>\n",
       "      <td>...</td>\n",
       "      <td>14.0</td>\n",
       "      <td>2.0</td>\n",
       "      <td>01E</td>\n",
       "      <td>02C9</td>\n",
       "      <td>12427.0</td>\n",
       "      <td>NaN</td>\n",
       "      <td>NaN</td>\n",
       "      <td>330</td>\n",
       "      <td>1</td>\n",
       "      <td>0</td>\n",
       "    </tr>\n",
       "    <tr>\n",
       "      <th>3</th>\n",
       "      <td>RB.A12</td>\n",
       "      <td>MB.B9R1</td>\n",
       "      <td>331.4590</td>\n",
       "      <td>EXT</td>\n",
       "      <td>R</td>\n",
       "      <td>B</td>\n",
       "      <td>ODD</td>\n",
       "      <td>76</td>\n",
       "      <td>76</td>\n",
       "      <td>LBBRG.9R1</td>\n",
       "      <td>...</td>\n",
       "      <td>14.0</td>\n",
       "      <td>2.0</td>\n",
       "      <td>01E</td>\n",
       "      <td>02C9</td>\n",
       "      <td>11155.0</td>\n",
       "      <td>NaN</td>\n",
       "      <td>NaN</td>\n",
       "      <td>319</td>\n",
       "      <td>2</td>\n",
       "      <td>1</td>\n",
       "    </tr>\n",
       "    <tr>\n",
       "      <th>4</th>\n",
       "      <td>RB.A12</td>\n",
       "      <td>MB.A10R1</td>\n",
       "      <td>356.2640</td>\n",
       "      <td>EXT</td>\n",
       "      <td>R</td>\n",
       "      <td>A</td>\n",
       "      <td>EVEN</td>\n",
       "      <td>3</td>\n",
       "      <td>80</td>\n",
       "      <td>LBARE.10R1</td>\n",
       "      <td>...</td>\n",
       "      <td>14.0</td>\n",
       "      <td>1.0</td>\n",
       "      <td>01E</td>\n",
       "      <td>02B8</td>\n",
       "      <td>11782.0</td>\n",
       "      <td>NaN</td>\n",
       "      <td>NaN</td>\n",
       "      <td>296</td>\n",
       "      <td>0</td>\n",
       "      <td>0</td>\n",
       "    </tr>\n",
       "    <tr>\n",
       "      <th>...</th>\n",
       "      <td>...</td>\n",
       "      <td>...</td>\n",
       "      <td>...</td>\n",
       "      <td>...</td>\n",
       "      <td>...</td>\n",
       "      <td>...</td>\n",
       "      <td>...</td>\n",
       "      <td>...</td>\n",
       "      <td>...</td>\n",
       "      <td>...</td>\n",
       "      <td>...</td>\n",
       "      <td>...</td>\n",
       "      <td>...</td>\n",
       "      <td>...</td>\n",
       "      <td>...</td>\n",
       "      <td>...</td>\n",
       "      <td>...</td>\n",
       "      <td>...</td>\n",
       "      <td>...</td>\n",
       "      <td>...</td>\n",
       "      <td>...</td>\n",
       "    </tr>\n",
       "    <tr>\n",
       "      <th>1227</th>\n",
       "      <td>RB.A81</td>\n",
       "      <td>MB.A10L1</td>\n",
       "      <td>26302.6192</td>\n",
       "      <td>INT</td>\n",
       "      <td>L</td>\n",
       "      <td>B</td>\n",
       "      <td>ODD</td>\n",
       "      <td>75</td>\n",
       "      <td>75</td>\n",
       "      <td>LBBLG.10L1</td>\n",
       "      <td>...</td>\n",
       "      <td>14.0</td>\n",
       "      <td>3.0</td>\n",
       "      <td>01B</td>\n",
       "      <td>02G</td>\n",
       "      <td>12645.0</td>\n",
       "      <td>NaN</td>\n",
       "      <td>NaN</td>\n",
       "      <td>123</td>\n",
       "      <td>1</td>\n",
       "      <td>1</td>\n",
       "    </tr>\n",
       "    <tr>\n",
       "      <th>1228</th>\n",
       "      <td>RB.A81</td>\n",
       "      <td>MB.B9L1</td>\n",
       "      <td>26327.4242</td>\n",
       "      <td>INT</td>\n",
       "      <td>L</td>\n",
       "      <td>A</td>\n",
       "      <td>EVEN</td>\n",
       "      <td>2</td>\n",
       "      <td>79</td>\n",
       "      <td>LBALE.9L1</td>\n",
       "      <td>...</td>\n",
       "      <td>14.0</td>\n",
       "      <td>1.0</td>\n",
       "      <td>01B</td>\n",
       "      <td>02B5</td>\n",
       "      <td>12379.0</td>\n",
       "      <td>NaN</td>\n",
       "      <td>NaN</td>\n",
       "      <td>62</td>\n",
       "      <td>1</td>\n",
       "      <td>0</td>\n",
       "    </tr>\n",
       "    <tr>\n",
       "      <th>1229</th>\n",
       "      <td>RB.A81</td>\n",
       "      <td>MB.A9L1</td>\n",
       "      <td>26343.0842</td>\n",
       "      <td>INT</td>\n",
       "      <td>L</td>\n",
       "      <td>B</td>\n",
       "      <td>ODD</td>\n",
       "      <td>76</td>\n",
       "      <td>76</td>\n",
       "      <td>LBBLF.9L1</td>\n",
       "      <td>...</td>\n",
       "      <td>14.0</td>\n",
       "      <td>2.0</td>\n",
       "      <td>01B</td>\n",
       "      <td>02K</td>\n",
       "      <td>11757.0</td>\n",
       "      <td>NaN</td>\n",
       "      <td>NaN</td>\n",
       "      <td>61</td>\n",
       "      <td>2</td>\n",
       "      <td>1</td>\n",
       "    </tr>\n",
       "    <tr>\n",
       "      <th>1230</th>\n",
       "      <td>RB.A81</td>\n",
       "      <td>MB.B8L1</td>\n",
       "      <td>26366.4892</td>\n",
       "      <td>INT</td>\n",
       "      <td>L</td>\n",
       "      <td>A</td>\n",
       "      <td>EVEN</td>\n",
       "      <td>1</td>\n",
       "      <td>78</td>\n",
       "      <td>LBALE.8L1</td>\n",
       "      <td>...</td>\n",
       "      <td>14.0</td>\n",
       "      <td>3.0</td>\n",
       "      <td>01B</td>\n",
       "      <td>02G</td>\n",
       "      <td>11656.0</td>\n",
       "      <td>NaN</td>\n",
       "      <td>NaN</td>\n",
       "      <td>172</td>\n",
       "      <td>0</td>\n",
       "      <td>0</td>\n",
       "    </tr>\n",
       "    <tr>\n",
       "      <th>1231</th>\n",
       "      <td>RB.A81</td>\n",
       "      <td>MB.A8L1</td>\n",
       "      <td>26382.1492</td>\n",
       "      <td>INT</td>\n",
       "      <td>L</td>\n",
       "      <td>B</td>\n",
       "      <td>ODD</td>\n",
       "      <td>77</td>\n",
       "      <td>77</td>\n",
       "      <td>LBBLQ.8L1</td>\n",
       "      <td>...</td>\n",
       "      <td>14.0</td>\n",
       "      <td>1.0</td>\n",
       "      <td>01B</td>\n",
       "      <td>02B5</td>\n",
       "      <td>12506.0</td>\n",
       "      <td>NaN</td>\n",
       "      <td>NaN</td>\n",
       "      <td>148</td>\n",
       "      <td>0</td>\n",
       "      <td>1</td>\n",
       "    </tr>\n",
       "  </tbody>\n",
       "</table>\n",
       "<p>1232 rows × 41 columns</p>\n",
       "</div>"
      ],
      "text/plain": [
       "     Circuit    Magnet    Position B1_aperture Diode_type Correctors EE place  \\\n",
       "0     RB.A12   MB.A8R1    276.7340         EXT          R          A     EVEN   \n",
       "1     RB.A12   MB.B8R1    292.3940         EXT          R          B      ODD   \n",
       "2     RB.A12   MB.A9R1    315.7990         EXT          R          A     EVEN   \n",
       "3     RB.A12   MB.B9R1    331.4590         EXT          R          B      ODD   \n",
       "4     RB.A12  MB.A10R1    356.2640         EXT          R          A     EVEN   \n",
       "...      ...       ...         ...         ...        ...        ...      ...   \n",
       "1227  RB.A81  MB.A10L1  26302.6192         INT          L          B      ODD   \n",
       "1228  RB.A81   MB.B9L1  26327.4242         INT          L          A     EVEN   \n",
       "1229  RB.A81   MB.A9L1  26343.0842         INT          L          B      ODD   \n",
       "1230  RB.A81   MB.B8L1  26366.4892         INT          L          A     EVEN   \n",
       "1231  RB.A81   MB.A8L1  26382.1492         INT          L          B      ODD   \n",
       "\n",
       "      #Electric_EE  #Electric_circuit    Cryostat  ...   age Manufacturer  \\\n",
       "0                1                 78   LBARE.8R1  ...  14.0          3.0   \n",
       "1               77                 77   LBBRF.8R1  ...  14.0          2.0   \n",
       "2                2                 79   LBARE.9R1  ...  14.0          2.0   \n",
       "3               76                 76   LBBRG.9R1  ...  14.0          2.0   \n",
       "4                3                 80  LBARE.10R1  ...  14.0          1.0   \n",
       "...            ...                ...         ...  ...   ...          ...   \n",
       "1227            75                 75  LBBLG.10L1  ...  14.0          3.0   \n",
       "1228             2                 79   LBALE.9L1  ...  14.0          1.0   \n",
       "1229            76                 76   LBBLF.9L1  ...  14.0          2.0   \n",
       "1230             1                 78   LBALE.8L1  ...  14.0          3.0   \n",
       "1231            77                 77   LBBLQ.8L1  ...  14.0          1.0   \n",
       "\n",
       "     Inner cable type Outer cable type I_Q_SM18  Renamed short magnet ID  \\\n",
       "0                 01B             02B8  11488.0                      NaN   \n",
       "1                 01E             02C0  10622.0                      NaN   \n",
       "2                 01E             02C9  12427.0                      NaN   \n",
       "3                 01E             02C9  11155.0                      NaN   \n",
       "4                 01E             02B8  11782.0                      NaN   \n",
       "...               ...              ...      ...                      ...   \n",
       "1227              01B              02G  12645.0                      NaN   \n",
       "1228              01B             02B5  12379.0                      NaN   \n",
       "1229              01B              02K  11757.0                      NaN   \n",
       "1230              01B              02G  11656.0                      NaN   \n",
       "1231              01B             02B5  12506.0                      NaN   \n",
       "\n",
       "      MTF Status  Magnet_construction_order QPS Crate Number  Cryostat Number  \n",
       "0            NaN                        288                0                0  \n",
       "1            NaN                        256                0                1  \n",
       "2            NaN                        330                1                0  \n",
       "3            NaN                        319                2                1  \n",
       "4            NaN                        296                0                0  \n",
       "...          ...                        ...              ...              ...  \n",
       "1227         NaN                        123                1                1  \n",
       "1228         NaN                         62                1                0  \n",
       "1229         NaN                         61                2                1  \n",
       "1230         NaN                        172                0                0  \n",
       "1231         NaN                        148                0                1  \n",
       "\n",
       "[1232 rows x 41 columns]"
      ]
     },
     "execution_count": 17,
     "metadata": {},
     "output_type": "execute_result"
    }
   ],
   "source": [
    "metadata_path = Path(\"../data/RB_metadata.csv\")\n",
    "rb_magnet_metadata = pd.read_csv(metadata_path, index_col=False)\n",
    "rb_magnet_metadata"
   ]
  },
  {
   "cell_type": "code",
   "execution_count": 18,
   "id": "406e8ab5",
   "metadata": {
    "pycharm": {
     "name": "#%%\n"
    }
   },
   "outputs": [],
   "source": [
    "mp3_fpa_df_unique = mp3_fpa_df_unique.merge(rb_magnet_metadata,\n",
    "                                            left_on=[\"Magnet\"],\n",
    "                                            right_on=[\"Magnet\"],\n",
    "                                            how=\"left\", suffixes=('', '_y'))\n",
    "\n",
    "drop_columns = mp3_fpa_df_unique.filter(regex='Unnamed').columns.to_list()\n",
    "drop_columns += mp3_fpa_df_unique.filter(regex='_y').columns.to_list()\n",
    "mp3_fpa_df_unique = mp3_fpa_df_unique.drop(columns=drop_columns)"
   ]
  },
  {
   "cell_type": "markdown",
   "id": "f4c606bd",
   "metadata": {
    "pycharm": {
     "name": "#%% md\n"
    }
   },
   "source": [
    "# Read position map"
   ]
  },
  {
   "cell_type": "code",
   "execution_count": 11,
   "id": "42b4539f",
   "metadata": {
    "pycharm": {
     "name": "#%%\n"
    }
   },
   "outputs": [],
   "source": [
    "pos_map_path = Path(\"../data/circuit_sort.csv\")\n",
    "df_pos_map = pd.read_csv(pos_map_path)"
   ]
  },
  {
   "cell_type": "code",
   "execution_count": 12,
   "id": "0016f9f6",
   "metadata": {
    "pycharm": {
     "name": "#%%\n"
    },
    "scrolled": false
   },
   "outputs": [
    {
     "data": {
      "text/html": [
       "<div>\n",
       "<style scoped>\n",
       "    .dataframe tbody tr th:only-of-type {\n",
       "        vertical-align: middle;\n",
       "    }\n",
       "\n",
       "    .dataframe tbody tr th {\n",
       "        vertical-align: top;\n",
       "    }\n",
       "\n",
       "    .dataframe thead th {\n",
       "        text-align: right;\n",
       "    }\n",
       "</style>\n",
       "<table border=\"1\" class=\"dataframe\">\n",
       "  <thead>\n",
       "    <tr style=\"text-align: right;\">\n",
       "      <th></th>\n",
       "      <th>0</th>\n",
       "      <th>1</th>\n",
       "      <th>2</th>\n",
       "      <th>3</th>\n",
       "      <th>4</th>\n",
       "      <th>5</th>\n",
       "      <th>6</th>\n",
       "      <th>7</th>\n",
       "      <th>8</th>\n",
       "      <th>9</th>\n",
       "      <th>...</th>\n",
       "      <th>144</th>\n",
       "      <th>145</th>\n",
       "      <th>146</th>\n",
       "      <th>147</th>\n",
       "      <th>148</th>\n",
       "      <th>149</th>\n",
       "      <th>150</th>\n",
       "      <th>151</th>\n",
       "      <th>152</th>\n",
       "      <th>153</th>\n",
       "    </tr>\n",
       "  </thead>\n",
       "  <tbody>\n",
       "    <tr>\n",
       "      <th>Circuit</th>\n",
       "      <td>RB.A12</td>\n",
       "      <td>RB.A12</td>\n",
       "      <td>RB.A12</td>\n",
       "      <td>RB.A12</td>\n",
       "      <td>RB.A12</td>\n",
       "      <td>RB.A12</td>\n",
       "      <td>RB.A12</td>\n",
       "      <td>RB.A12</td>\n",
       "      <td>RB.A12</td>\n",
       "      <td>RB.A12</td>\n",
       "      <td>...</td>\n",
       "      <td>RB.A12</td>\n",
       "      <td>RB.A12</td>\n",
       "      <td>RB.A12</td>\n",
       "      <td>RB.A12</td>\n",
       "      <td>RB.A12</td>\n",
       "      <td>RB.A12</td>\n",
       "      <td>RB.A12</td>\n",
       "      <td>RB.A12</td>\n",
       "      <td>RB.A12</td>\n",
       "      <td>RB.A12</td>\n",
       "    </tr>\n",
       "    <tr>\n",
       "      <th>Magnet</th>\n",
       "      <td>MB.A8L2</td>\n",
       "      <td>MB.A9L2</td>\n",
       "      <td>MB.A10L2</td>\n",
       "      <td>MB.A11L2</td>\n",
       "      <td>MB.A12L2</td>\n",
       "      <td>MB.C12L2</td>\n",
       "      <td>MB.B13L2</td>\n",
       "      <td>MB.A14L2</td>\n",
       "      <td>MB.C14L2</td>\n",
       "      <td>MB.B15L2</td>\n",
       "      <td>...</td>\n",
       "      <td>MB.C15L2</td>\n",
       "      <td>MB.A15L2</td>\n",
       "      <td>MB.B14L2</td>\n",
       "      <td>MB.C13L2</td>\n",
       "      <td>MB.A13L2</td>\n",
       "      <td>MB.B12L2</td>\n",
       "      <td>MB.B11L2</td>\n",
       "      <td>MB.B10L2</td>\n",
       "      <td>MB.B9L2</td>\n",
       "      <td>MB.B8L2</td>\n",
       "    </tr>\n",
       "    <tr>\n",
       "      <th>El. Position</th>\n",
       "      <td>1</td>\n",
       "      <td>2</td>\n",
       "      <td>3</td>\n",
       "      <td>4</td>\n",
       "      <td>5</td>\n",
       "      <td>6</td>\n",
       "      <td>7</td>\n",
       "      <td>8</td>\n",
       "      <td>9</td>\n",
       "      <td>10</td>\n",
       "      <td>...</td>\n",
       "      <td>145</td>\n",
       "      <td>146</td>\n",
       "      <td>147</td>\n",
       "      <td>148</td>\n",
       "      <td>149</td>\n",
       "      <td>150</td>\n",
       "      <td>151</td>\n",
       "      <td>152</td>\n",
       "      <td>153</td>\n",
       "      <td>154</td>\n",
       "    </tr>\n",
       "    <tr>\n",
       "      <th>Phys. Position</th>\n",
       "      <td>154</td>\n",
       "      <td>152</td>\n",
       "      <td>150</td>\n",
       "      <td>148</td>\n",
       "      <td>146</td>\n",
       "      <td>144</td>\n",
       "      <td>142</td>\n",
       "      <td>140</td>\n",
       "      <td>138</td>\n",
       "      <td>136</td>\n",
       "      <td>...</td>\n",
       "      <td>135</td>\n",
       "      <td>137</td>\n",
       "      <td>139</td>\n",
       "      <td>141</td>\n",
       "      <td>143</td>\n",
       "      <td>145</td>\n",
       "      <td>147</td>\n",
       "      <td>149</td>\n",
       "      <td>151</td>\n",
       "      <td>153</td>\n",
       "    </tr>\n",
       "    <tr>\n",
       "      <th>Phys. Dist. to PC</th>\n",
       "      <td>1</td>\n",
       "      <td>3</td>\n",
       "      <td>5</td>\n",
       "      <td>7</td>\n",
       "      <td>9</td>\n",
       "      <td>11</td>\n",
       "      <td>13</td>\n",
       "      <td>15</td>\n",
       "      <td>17</td>\n",
       "      <td>19</td>\n",
       "      <td>...</td>\n",
       "      <td>20</td>\n",
       "      <td>18</td>\n",
       "      <td>16</td>\n",
       "      <td>14</td>\n",
       "      <td>12</td>\n",
       "      <td>10</td>\n",
       "      <td>8</td>\n",
       "      <td>6</td>\n",
       "      <td>4</td>\n",
       "      <td>2</td>\n",
       "    </tr>\n",
       "    <tr>\n",
       "      <th>Phys. Position ODD</th>\n",
       "      <td>154</td>\n",
       "      <td>152</td>\n",
       "      <td>150</td>\n",
       "      <td>148</td>\n",
       "      <td>146</td>\n",
       "      <td>144</td>\n",
       "      <td>142</td>\n",
       "      <td>140</td>\n",
       "      <td>138</td>\n",
       "      <td>136</td>\n",
       "      <td>...</td>\n",
       "      <td>135</td>\n",
       "      <td>137</td>\n",
       "      <td>139</td>\n",
       "      <td>141</td>\n",
       "      <td>143</td>\n",
       "      <td>145</td>\n",
       "      <td>147</td>\n",
       "      <td>149</td>\n",
       "      <td>151</td>\n",
       "      <td>153</td>\n",
       "    </tr>\n",
       "    <tr>\n",
       "      <th>Phys. Position EVEN</th>\n",
       "      <td>2</td>\n",
       "      <td>4</td>\n",
       "      <td>6</td>\n",
       "      <td>8</td>\n",
       "      <td>10</td>\n",
       "      <td>12</td>\n",
       "      <td>14</td>\n",
       "      <td>16</td>\n",
       "      <td>18</td>\n",
       "      <td>20</td>\n",
       "      <td>...</td>\n",
       "      <td>19</td>\n",
       "      <td>17</td>\n",
       "      <td>15</td>\n",
       "      <td>13</td>\n",
       "      <td>11</td>\n",
       "      <td>9</td>\n",
       "      <td>7</td>\n",
       "      <td>5</td>\n",
       "      <td>3</td>\n",
       "      <td>1</td>\n",
       "    </tr>\n",
       "    <tr>\n",
       "      <th>El. Quench Position</th>\n",
       "      <td>1</td>\n",
       "      <td>1</td>\n",
       "      <td>1</td>\n",
       "      <td>1</td>\n",
       "      <td>1</td>\n",
       "      <td>1</td>\n",
       "      <td>1</td>\n",
       "      <td>1</td>\n",
       "      <td>1</td>\n",
       "      <td>1</td>\n",
       "      <td>...</td>\n",
       "      <td>1</td>\n",
       "      <td>1</td>\n",
       "      <td>1</td>\n",
       "      <td>1</td>\n",
       "      <td>1</td>\n",
       "      <td>1</td>\n",
       "      <td>1</td>\n",
       "      <td>1</td>\n",
       "      <td>1</td>\n",
       "      <td>1</td>\n",
       "    </tr>\n",
       "    <tr>\n",
       "      <th>Phys. Quench Position</th>\n",
       "      <td>154</td>\n",
       "      <td>154</td>\n",
       "      <td>154</td>\n",
       "      <td>154</td>\n",
       "      <td>154</td>\n",
       "      <td>154</td>\n",
       "      <td>154</td>\n",
       "      <td>154</td>\n",
       "      <td>154</td>\n",
       "      <td>154</td>\n",
       "      <td>...</td>\n",
       "      <td>154</td>\n",
       "      <td>154</td>\n",
       "      <td>154</td>\n",
       "      <td>154</td>\n",
       "      <td>154</td>\n",
       "      <td>154</td>\n",
       "      <td>154</td>\n",
       "      <td>154</td>\n",
       "      <td>154</td>\n",
       "      <td>154</td>\n",
       "    </tr>\n",
       "    <tr>\n",
       "      <th>Phys. Dist. to Quench</th>\n",
       "      <td>155</td>\n",
       "      <td>153</td>\n",
       "      <td>151</td>\n",
       "      <td>149</td>\n",
       "      <td>147</td>\n",
       "      <td>145</td>\n",
       "      <td>143</td>\n",
       "      <td>141</td>\n",
       "      <td>139</td>\n",
       "      <td>137</td>\n",
       "      <td>...</td>\n",
       "      <td>136</td>\n",
       "      <td>138</td>\n",
       "      <td>140</td>\n",
       "      <td>142</td>\n",
       "      <td>144</td>\n",
       "      <td>146</td>\n",
       "      <td>148</td>\n",
       "      <td>150</td>\n",
       "      <td>152</td>\n",
       "      <td>154</td>\n",
       "    </tr>\n",
       "    <tr>\n",
       "      <th>El. Dist. to Quench Main</th>\n",
       "      <td>78.0</td>\n",
       "      <td>79.0</td>\n",
       "      <td>80.0</td>\n",
       "      <td>81.0</td>\n",
       "      <td>82.0</td>\n",
       "      <td>83.0</td>\n",
       "      <td>84.0</td>\n",
       "      <td>85.0</td>\n",
       "      <td>86.0</td>\n",
       "      <td>87.0</td>\n",
       "      <td>...</td>\n",
       "      <td>NaN</td>\n",
       "      <td>NaN</td>\n",
       "      <td>NaN</td>\n",
       "      <td>NaN</td>\n",
       "      <td>NaN</td>\n",
       "      <td>NaN</td>\n",
       "      <td>NaN</td>\n",
       "      <td>NaN</td>\n",
       "      <td>NaN</td>\n",
       "      <td>NaN</td>\n",
       "    </tr>\n",
       "    <tr>\n",
       "      <th>El. Dist. to Quench Mirror</th>\n",
       "      <td>NaN</td>\n",
       "      <td>NaN</td>\n",
       "      <td>NaN</td>\n",
       "      <td>NaN</td>\n",
       "      <td>NaN</td>\n",
       "      <td>NaN</td>\n",
       "      <td>NaN</td>\n",
       "      <td>NaN</td>\n",
       "      <td>NaN</td>\n",
       "      <td>NaN</td>\n",
       "      <td>...</td>\n",
       "      <td>68.0</td>\n",
       "      <td>69.0</td>\n",
       "      <td>70.0</td>\n",
       "      <td>71.0</td>\n",
       "      <td>72.0</td>\n",
       "      <td>73.0</td>\n",
       "      <td>74.0</td>\n",
       "      <td>75.0</td>\n",
       "      <td>76.0</td>\n",
       "      <td>77.0</td>\n",
       "    </tr>\n",
       "  </tbody>\n",
       "</table>\n",
       "<p>12 rows × 154 columns</p>\n",
       "</div>"
      ],
      "text/plain": [
       "                                0        1         2         3         4    \\\n",
       "Circuit                      RB.A12   RB.A12    RB.A12    RB.A12    RB.A12   \n",
       "Magnet                      MB.A8L2  MB.A9L2  MB.A10L2  MB.A11L2  MB.A12L2   \n",
       "El. Position                      1        2         3         4         5   \n",
       "Phys. Position                  154      152       150       148       146   \n",
       "Phys. Dist. to PC                 1        3         5         7         9   \n",
       "Phys. Position ODD              154      152       150       148       146   \n",
       "Phys. Position EVEN               2        4         6         8        10   \n",
       "El. Quench Position               1        1         1         1         1   \n",
       "Phys. Quench Position           154      154       154       154       154   \n",
       "Phys. Dist. to Quench           155      153       151       149       147   \n",
       "El. Dist. to Quench Main       78.0     79.0      80.0      81.0      82.0   \n",
       "El. Dist. to Quench Mirror      NaN      NaN       NaN       NaN       NaN   \n",
       "\n",
       "                                 5         6         7         8         9    \\\n",
       "Circuit                       RB.A12    RB.A12    RB.A12    RB.A12    RB.A12   \n",
       "Magnet                      MB.C12L2  MB.B13L2  MB.A14L2  MB.C14L2  MB.B15L2   \n",
       "El. Position                       6         7         8         9        10   \n",
       "Phys. Position                   144       142       140       138       136   \n",
       "Phys. Dist. to PC                 11        13        15        17        19   \n",
       "Phys. Position ODD               144       142       140       138       136   \n",
       "Phys. Position EVEN               12        14        16        18        20   \n",
       "El. Quench Position                1         1         1         1         1   \n",
       "Phys. Quench Position            154       154       154       154       154   \n",
       "Phys. Dist. to Quench            145       143       141       139       137   \n",
       "El. Dist. to Quench Main        83.0      84.0      85.0      86.0      87.0   \n",
       "El. Dist. to Quench Mirror       NaN       NaN       NaN       NaN       NaN   \n",
       "\n",
       "                            ...       144       145       146       147  \\\n",
       "Circuit                     ...    RB.A12    RB.A12    RB.A12    RB.A12   \n",
       "Magnet                      ...  MB.C15L2  MB.A15L2  MB.B14L2  MB.C13L2   \n",
       "El. Position                ...       145       146       147       148   \n",
       "Phys. Position              ...       135       137       139       141   \n",
       "Phys. Dist. to PC           ...        20        18        16        14   \n",
       "Phys. Position ODD          ...       135       137       139       141   \n",
       "Phys. Position EVEN         ...        19        17        15        13   \n",
       "El. Quench Position         ...         1         1         1         1   \n",
       "Phys. Quench Position       ...       154       154       154       154   \n",
       "Phys. Dist. to Quench       ...       136       138       140       142   \n",
       "El. Dist. to Quench Main    ...       NaN       NaN       NaN       NaN   \n",
       "El. Dist. to Quench Mirror  ...      68.0      69.0      70.0      71.0   \n",
       "\n",
       "                                 148       149       150       151      152  \\\n",
       "Circuit                       RB.A12    RB.A12    RB.A12    RB.A12   RB.A12   \n",
       "Magnet                      MB.A13L2  MB.B12L2  MB.B11L2  MB.B10L2  MB.B9L2   \n",
       "El. Position                     149       150       151       152      153   \n",
       "Phys. Position                   143       145       147       149      151   \n",
       "Phys. Dist. to PC                 12        10         8         6        4   \n",
       "Phys. Position ODD               143       145       147       149      151   \n",
       "Phys. Position EVEN               11         9         7         5        3   \n",
       "El. Quench Position                1         1         1         1        1   \n",
       "Phys. Quench Position            154       154       154       154      154   \n",
       "Phys. Dist. to Quench            144       146       148       150      152   \n",
       "El. Dist. to Quench Main         NaN       NaN       NaN       NaN      NaN   \n",
       "El. Dist. to Quench Mirror      72.0      73.0      74.0      75.0     76.0   \n",
       "\n",
       "                                153  \n",
       "Circuit                      RB.A12  \n",
       "Magnet                      MB.B8L2  \n",
       "El. Position                    154  \n",
       "Phys. Position                  153  \n",
       "Phys. Dist. to PC                 2  \n",
       "Phys. Position ODD              153  \n",
       "Phys. Position EVEN               1  \n",
       "El. Quench Position               1  \n",
       "Phys. Quench Position           154  \n",
       "Phys. Dist. to Quench           154  \n",
       "El. Dist. to Quench Main        NaN  \n",
       "El. Dist. to Quench Mirror     77.0  \n",
       "\n",
       "[12 rows x 154 columns]"
      ]
     },
     "execution_count": 12,
     "metadata": {},
     "output_type": "execute_result"
    }
   ],
   "source": [
    "df_pos_map_subset = df_pos_map[(df_pos_map[\"Circuit\"] == 'RB.A12') & (df_pos_map[\"El. Quench Position\"] == 0)].reset_index(drop=True)\n",
    "value_columns = df_pos_map_subset.filter(regex= \". \").columns\n",
    "df_pos_map_subset[value_columns] = (df_pos_map_subset[value_columns] +1)\n",
    "df_pos_map_subset.T"
   ]
  },
  {
   "cell_type": "code",
   "execution_count": 13,
   "id": "0b48b709",
   "metadata": {
    "pycharm": {
     "name": "#%%\n"
    }
   },
   "outputs": [],
   "source": [
    "df_pos_map = df_pos_map.set_index(['Circuit', 'El. Quench Position', 'Phys. Quench Position']) # allows faster indexing"
   ]
  },
  {
   "cell_type": "markdown",
   "id": "207984b9",
   "metadata": {
    "pycharm": {
     "name": "#%% md\n"
    }
   },
   "source": [
    "# Load Data"
   ]
  },
  {
   "cell_type": "code",
   "execution_count": 19,
   "id": "3371105f",
   "metadata": {
    "pycharm": {
     "name": "#%%\n"
    }
   },
   "outputs": [],
   "source": [
    "# load data 1EE\n",
    "dataset_creator = RBFPAPrimQuenchEEPlateau_V2()\n",
    "ds1 = dataset_creator.load_dataset(fpa_identifiers=mp3_fpa_df_unique.fpa_identifier.values,\n",
    "                                  dataset_path=dataset_path)\n",
    "# load data 1EE\n",
    "dataset_creator = RBFPAPrimQuenchEEPlateau2_V2()\n",
    "ds2 = dataset_creator.load_dataset(fpa_identifiers=mp3_fpa_df_unique.fpa_identifier.values,\n",
    "                                  dataset_path=dataset_path2)\n",
    "\n",
    "# append 1st and second EE Plateau\n",
    "ds_detrend1 = dataset_creator.detrend_dim(ds1, deg=-1)\n",
    "ds_detrend1.coords[\"t0\"] = ds_detrend1[\"time\"].values[0]\n",
    "ds_detrend1[\"time\"] = ds_detrend1[\"time\"].values - ds_detrend1[\"time\"].values[0]\n",
    "ds_detrend2 = dataset_creator.detrend_dim(ds2, deg=-1)\n",
    "ds_detrend2 = ds_detrend2.isel(time=slice(0, 400))\n",
    "ds_detrend2.coords[\"t0\"] = ds_detrend2[\"time\"].values[0]\n",
    "ds_detrend2[\"time\"] = ds_detrend1[\"time\"]\n",
    "ds_detrend2.coords[\"plateau_number\"] = 2\n",
    "ds_detrend = xr.concat([ds_detrend1, ds_detrend2], dim=\"event\")\n",
    "\n",
    "# calculate fft\n",
    "f_window = np.hanning\n",
    "f_lim = (0, 534)\n",
    "da_fft = get_fft_of_DataArray(data=ds_detrend.data, f_window=f_window, f_lim=f_lim)\n",
    "da_fft_amplitude = scale_fft_amplitude(data=da_fft, f_window=f_window)\n",
    "da_fft_amplitude = da_fft_amplitude[:, :, da_fft_amplitude.frequency < f_lim[1]]\n",
    "\n",
    "na_fft_flat = np.nan_to_num(da_fft_amplitude.data.reshape(-1, np.shape(da_fft_amplitude.data)[2]))"
   ]
  },
  {
   "cell_type": "code",
   "execution_count": 49,
   "id": "c9a5510b",
   "metadata": {
    "pycharm": {
     "name": "#%%\n"
    }
   },
   "outputs": [
    {
     "data": {
      "text/plain": [
       "array(['#8c564b', '#e377c2', '#7f7f7f'], dtype='<U7')"
      ]
     },
     "execution_count": 49,
     "metadata": {},
     "output_type": "execute_result"
    }
   ],
   "source": [
    "np.array(default_colors)[[5,6,7]]"
   ]
  },
  {
   "cell_type": "code",
   "execution_count": 84,
   "id": "bcfb1f29",
   "metadata": {
    "pycharm": {
     "name": "#%%\n"
    }
   },
   "outputs": [
    {
     "data": {
      "image/png": "[encoded data removed]",
      "text/plain": [
       "<Figure size 600x800 with 2 Axes>"
      ]
     },
     "metadata": {},
     "output_type": "display_data"
    }
   ],
   "source": [
    "fgc_ident = \"RB_RB.A12_1647622982900000000\"\n",
    "el_indx = [0,61,77]\n",
    "\n",
    "fig, ax = plt.subplots(2,1, figsize=(6,8))\n",
    "for i, e in enumerate(el_indx):\n",
    "    ax[0].plot(ds2.time, ds2.loc[{\"event\":fgc_ident}].data.values.T[:, e], label=f\"El. Position {e}\", color=default_colors[i+5])\n",
    "    ax[1].plot(ds_detrend2.time, ds_detrend2.loc[{\"event\":fgc_ident}].data.values.T[:, e], label=f\"El. Position {e}\", color=default_colors[i+5])\n",
    "    \n",
    "    ax[0].legend()\n",
    "    ax[1].legend()\n",
    "    \n",
    "    ax[1].set_ylabel(\"Voltage / V\")\n",
    "    ax[0].set_ylabel(\"Voltage / V\")\n",
    "    \n",
    "    ax[1].set_xlabel(\"Time / s\")\n",
    "    ax[0].set_xlabel(\"Time / s\")\n",
    "    \n",
    "    ax[1].set_title(\"Unprocessed data\")\n",
    "    ax[0].set_title(\"Processed data\")\n",
    "    \n",
    "    ax[0].grid()\n",
    "    ax[1].grid()\n",
    "    \n",
    "plt.tight_layout()\n",
    "plt.show()"
   ]
  },
  {
   "cell_type": "markdown",
   "id": "7a56305e",
   "metadata": {
    "pycharm": {
     "name": "#%% md\n"
    }
   },
   "source": [
    "## Define training data"
   ]
  },
  {
   "cell_type": "code",
   "execution_count": null,
   "id": "e72f7047",
   "metadata": {
    "pycharm": {
     "name": "#%%\n"
    },
    "scrolled": true
   },
   "outputs": [],
   "source": [
    "# make bools of different plateaus and experiment types\n",
    "test_conditions = ((mp3_fpa_df['Delta_t(iQPS-PIC)'] / 1000 < 5) &\n",
    "                   (mp3_fpa_df['Nr in Q event'].astype(str) != '1'))\n",
    "bool_test = np.isin(ds_detrend.event.values, mp3_fpa_df[test_conditions].fpa_identifier.unique())\n",
    "snapshot_conditions = mp3_fpa_df[\"Date (FGC)\"].isna()\n",
    "bool_snapshot = np.isin(ds_detrend.event.values, mp3_fpa_df[snapshot_conditions].fpa_identifier.unique())\n",
    "bool_1EE = (ds_detrend.t0.values < 0.5)\n",
    "bool_2EE = (ds_detrend.t0.values > 0.5)\n",
    "\n",
    "bool_train_flattened = np.stack([~(bool_test | bool_snapshot) for l in range(na_fft_flat.shape[1])]).T.reshape(-1)\n",
    "\n",
    "print(f\"1EE: {int(len(bool_test) / 2)} events = {int(sum(~(bool_test | bool_snapshot)) / 2)} normal + {int(sum(bool_test)/ 2)} fast sec + {int(sum(bool_snapshot)/ 2)} snapshots\")"
   ]
  },
  {
   "cell_type": "markdown",
   "id": "1e57a0fc",
   "metadata": {
    "pycharm": {
     "name": "#%% md\n"
    }
   },
   "source": [
    "# Look at data"
   ]
  },
  {
   "cell_type": "code",
   "execution_count": null,
   "id": "6067807a",
   "metadata": {
    "pycharm": {
     "name": "#%%\n"
    }
   },
   "outputs": [],
   "source": [
    "def plot_feature_correlation(mp3_fpa_df_subset, column, f=np.mean):  \n",
    "    fig, ax = plt.subplots(1,1, figsize=(12,7))\n",
    "    for i, m in enumerate(mp3_fpa_df_subset.sort_values(by=column)[column].dropna().unique()):\n",
    "\n",
    "        fpa = mp3_fpa_df_unique[mp3_fpa_df_unique[column] == m].fpa_identifier.values\n",
    "\n",
    "        data = da_fft_amplitude[np.isin(da_fft_amplitude.event.values, fpa)]\n",
    "        \n",
    "        data_mean = f(data, axis=1).mean(axis=0) # max over all magnets, mean over all events\n",
    "        print(da_fft_amplitude.shape, data_mean.shape)\n",
    "        \n",
    "        ax.plot(da_fft_amplitude.frequency, data_mean, label=f\"magnet {column} {m} (# signals: ({len(data)}))\")\n",
    "        #ax.plot(data, '.')\n",
    "    \n",
    "    #df.plot(marker=\".\", figsize=(12,7), markersize=5)\n",
    "    plt.legend()\n",
    "    plt.yscale(\"log\")\n",
    "    plt.ylabel(\"Voltage / V\")\n",
    "    plt.xlabel(\"Frequency / Hz\")\n",
    "    plt.title(f\"{f.__name__} Voltage in Circuit, Average over all events\")\n",
    "    plt.grid()\n",
    "    \n",
    "def plot_feature_correlation_bool(bool_idx_list, legend, f=np.mean):  \n",
    "    fig, ax = plt.subplots(1,1, figsize=(12,7))\n",
    "    for b in bool_idx_list:\n",
    "\n",
    "        data = da_fft_amplitude[b]\n",
    "        \n",
    "        data_mean = f(data, axis=1).mean(axis=0) # max over all magnets, mean over all events\n",
    "        print(da_fft_amplitude.shape, data_mean.shape)\n",
    "        \n",
    "        ax.plot(da_fft_amplitude.frequency, data_mean)\n",
    "        #ax.plot(data, '.')\n",
    "    \n",
    "    plt.legend(legend)\n",
    "    plt.yscale(\"log\")\n",
    "    plt.ylabel(\"Voltage / V\")\n",
    "    plt.xlabel(\"Frequency / Hz\")\n",
    "    plt.title(f\"{f.__name__} Voltage in Circuit, Average over all events\")\n",
    "    plt.grid()"
   ]
  },
  {
   "cell_type": "code",
   "execution_count": null,
   "id": "cdc5f572",
   "metadata": {
    "pycharm": {
     "name": "#%%\n"
    }
   },
   "outputs": [],
   "source": [
    "column = \"Circuit\"\n",
    "plot_feature_correlation(mp3_fpa_df_unique, column)"
   ]
  },
  {
   "cell_type": "code",
   "execution_count": null,
   "id": "752779d4",
   "metadata": {
    "pycharm": {
     "name": "#%%\n"
    }
   },
   "outputs": [],
   "source": [
    "column = \"Manufacturer\"\n",
    "plot_feature_correlation(mp3_fpa_df_unique, column)"
   ]
  },
  {
   "cell_type": "code",
   "execution_count": null,
   "id": "01f1645b",
   "metadata": {
    "pycharm": {
     "name": "#%%\n"
    }
   },
   "outputs": [],
   "source": [
    "plot_feature_correlation_bool([bool_1EE, bool_2EE], legend=[\"1EE\", \"2EE\"])"
   ]
  },
  {
   "cell_type": "code",
   "execution_count": null,
   "id": "87765db7",
   "metadata": {
    "pycharm": {
     "name": "#%%\n"
    }
   },
   "outputs": [],
   "source": [
    "plot_feature_correlation_bool([~(bool_test | bool_snapshot), bool_test, bool_snapshot], legend=[\"no sec quench\", \"sec quench\", \"snapshots\"])"
   ]
  },
  {
   "cell_type": "code",
   "execution_count": null,
   "id": "666eb1e2",
   "metadata": {
    "pycharm": {
     "name": "#%%\n"
    }
   },
   "outputs": [],
   "source": [
    "column = \"Outer cable type\"\n",
    "plot_feature_correlation(mp3_fpa_df_unique, column)"
   ]
  },
  {
   "cell_type": "code",
   "execution_count": null,
   "id": "9097c55b",
   "metadata": {
    "pycharm": {
     "name": "#%%\n"
    }
   },
   "outputs": [],
   "source": [
    "column = \"Inner cable type\"\n",
    "plot_feature_correlation(mp3_fpa_df_unique, column)"
   ]
  },
  {
   "cell_type": "code",
   "execution_count": null,
   "id": "bab0ed12",
   "metadata": {
    "pycharm": {
     "name": "#%%\n"
    }
   },
   "outputs": [],
   "source": []
  }
 ],
 "metadata": {
  "kernelspec": {
   "display_name": "Python 3 (ipykernel)",
   "language": "python",
   "name": "python3"
  },
  "language_info": {
   "codemirror_mode": {
    "name": "ipython",
    "version": 3
   },
   "file_extension": ".py",
   "mimetype": "text/x-python",
   "name": "python",
   "nbconvert_exporter": "python",
   "pygments_lexer": "ipython3",
   "version": "3.7.11"
  },
  "sparkconnect": {
   "bundled_options": [
    "NXCALS"
   ],
   "list_of_options": []
  }
 },
 "nbformat": 4,
 "nbformat_minor": 5
}