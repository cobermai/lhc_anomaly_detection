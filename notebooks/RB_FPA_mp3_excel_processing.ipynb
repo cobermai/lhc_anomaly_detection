{
 "cells": [
  {
   "cell_type": "markdown",
   "id": "eb1f8265",
   "metadata": {
    "pycharm": {
     "name": "#%% md\n"
    }
   },
   "source": [
    "# Import libraries"
   ]
  },
  {
   "cell_type": "code",
   "execution_count": 1,
   "id": "f8332c67",
   "metadata": {
    "pycharm": {
     "name": "#%%\n"
    }
   },
   "outputs": [],
   "source": [
    "import sys\n",
    "from pathlib import Path\n",
    "sys.path.insert(0,'..')\n",
    "import glob\n",
    "#!pip install openpyxl"
   ]
  },
  {
   "cell_type": "code",
   "execution_count": 4,
   "id": "bade1960",
   "metadata": {
    "pycharm": {
     "name": "#%%\n"
    }
   },
   "outputs": [
    {
     "ename": "ModuleNotFoundError",
     "evalue": "No module named 'lhcsmapi'",
     "output_type": "error",
     "traceback": [
      "\u001b[0;31m---------------------------------------------------------------------------\u001b[0m",
      "\u001b[0;31mModuleNotFoundError\u001b[0m                       Traceback (most recent call last)",
      "\u001b[0;32m/tmp/ipykernel_678/3803786899.py\u001b[0m in \u001b[0;36m<module>\u001b[0;34m\u001b[0m\n\u001b[1;32m     11\u001b[0m \u001b[0;32mfrom\u001b[0m \u001b[0mmultiprocessing\u001b[0m \u001b[0;32mimport\u001b[0m \u001b[0mPool\u001b[0m\u001b[0;34m\u001b[0m\u001b[0;34m\u001b[0m\u001b[0m\n\u001b[1;32m     12\u001b[0m \u001b[0;34m\u001b[0m\u001b[0m\n\u001b[0;32m---> 13\u001b[0;31m \u001b[0;32mfrom\u001b[0m \u001b[0mlhcsmapi\u001b[0m\u001b[0;34m.\u001b[0m\u001b[0mTime\u001b[0m \u001b[0;32mimport\u001b[0m \u001b[0mTime\u001b[0m\u001b[0;34m\u001b[0m\u001b[0;34m\u001b[0m\u001b[0m\n\u001b[0m\u001b[1;32m     14\u001b[0m \u001b[0;32mfrom\u001b[0m \u001b[0mlhcsmapi\u001b[0m\u001b[0;34m.\u001b[0m\u001b[0mTimer\u001b[0m \u001b[0;32mimport\u001b[0m \u001b[0mTimer\u001b[0m\u001b[0;34m\u001b[0m\u001b[0;34m\u001b[0m\u001b[0m\n\u001b[1;32m     15\u001b[0m \u001b[0;32mfrom\u001b[0m \u001b[0mscipy\u001b[0m \u001b[0;32mimport\u001b[0m \u001b[0msignal\u001b[0m\u001b[0;34m\u001b[0m\u001b[0;34m\u001b[0m\u001b[0m\n",
      "\u001b[0;31mModuleNotFoundError\u001b[0m: No module named 'lhcsmapi'"
     ]
    }
   ],
   "source": [
    "import os\n",
    "import sys\n",
    "import pandas as pd\n",
    "import numpy as np\n",
    "import pickle\n",
    "import matplotlib.pyplot as plt\n",
    "import h5py\n",
    "import re\n",
    "\n",
    "from functools import partial\n",
    "from multiprocessing import Pool\n",
    "\n",
    "from lhcsmapi.Time import Time\n",
    "from lhcsmapi.Timer import Timer\n",
    "from scipy import signal\n",
    "from lhcsmapi.Time import Time\n",
    "from lhcsmapi.metadata import signal_metadata\n",
    "from lhcsmapi.pyedsl.dbsignal.post_mortem.PmDbRequest import PmDbRequest\n",
    "from lhcsmapi.analysis.RbCircuitQuery import RbCircuitQuery\n",
    "from scipy import stats\n",
    "\n",
    "from src.utils.mp3_excel_processing import get_fgc_timestamp, get_fgc_timestamp_missing\n",
    "from src.utils.hdf_tools import load_from_hdf_with_regex\n",
    "\n",
    "pd.set_option('display.max_rows', 200)\n",
    "import warnings\n",
    "warnings.filterwarnings('ignore')"
   ]
  },
  {
   "cell_type": "code",
   "execution_count": 5,
   "id": "7c59e5d4",
   "metadata": {
    "pycharm": {
     "name": "#%%\n"
    }
   },
   "outputs": [],
   "source": [
    "date_suffix = \"2022_07_07\""
   ]
  },
  {
   "cell_type": "markdown",
   "id": "cff8ddbf",
   "metadata": {
    "pycharm": {
     "name": "#%% md\n"
    }
   },
   "source": [
    "# Read the (clean) MP3 file"
   ]
  },
  {
   "cell_type": "code",
   "execution_count": 4,
   "id": "2878f743",
   "metadata": {
    "pycharm": {
     "name": "#%%\n"
    }
   },
   "outputs": [
    {
     "data": {
      "text/plain": [
       "4773"
      ]
     },
     "execution_count": 4,
     "metadata": {},
     "output_type": "execute_result"
    }
   ],
   "source": [
    "mp3_fpa_df_raw = pd.read_excel(f\"../data/RB_TC_extract_{date_suffix}.xlsx\")\n",
    "len(mp3_fpa_df_raw)"
   ]
  },
  {
   "cell_type": "code",
   "execution_count": 5,
   "id": "b8ea38de",
   "metadata": {
    "pycharm": {
     "name": "#%%\n"
    }
   },
   "outputs": [
    {
     "data": {
      "text/html": [
       "<div>\n",
       "<style scoped>\n",
       "    .dataframe tbody tr th:only-of-type {\n",
       "        vertical-align: middle;\n",
       "    }\n",
       "\n",
       "    .dataframe tbody tr th {\n",
       "        vertical-align: top;\n",
       "    }\n",
       "\n",
       "    .dataframe thead th {\n",
       "        text-align: right;\n",
       "    }\n",
       "</style>\n",
       "<table border=\"1\" class=\"dataframe\">\n",
       "  <thead>\n",
       "    <tr style=\"text-align: right;\">\n",
       "      <th></th>\n",
       "      <th>Circuit Name</th>\n",
       "      <th>Circuit Family</th>\n",
       "      <th>Period</th>\n",
       "      <th>Date (FGC)</th>\n",
       "      <th>Time (FGC)</th>\n",
       "      <th>FPA Reason</th>\n",
       "      <th>Timestamp_PIC</th>\n",
       "      <th>Delta_t(FGC-PIC)</th>\n",
       "      <th>Delta_t(EE_even-PIC)</th>\n",
       "      <th>Delta_t(EE_odd-PIC)</th>\n",
       "      <th>...</th>\n",
       "      <th>Outer cable type</th>\n",
       "      <th>I_Q_SM18</th>\n",
       "      <th>dI_Q_Acc</th>\n",
       "      <th>dI_Q_LHC</th>\n",
       "      <th>Comment</th>\n",
       "      <th>Analysis performed by</th>\n",
       "      <th>lhcsmapi version</th>\n",
       "      <th>lhcsm notebook version</th>\n",
       "      <th>Unnamed: 46</th>\n",
       "      <th>Unnamed: 47</th>\n",
       "    </tr>\n",
       "  </thead>\n",
       "  <tbody>\n",
       "    <tr>\n",
       "      <th>0</th>\n",
       "      <td>NaN</td>\n",
       "      <td>RB</td>\n",
       "      <td>NaN</td>\n",
       "      <td>2008-04-01 00:00:00</td>\n",
       "      <td>13:14:15</td>\n",
       "      <td>NaN</td>\n",
       "      <td>NaN</td>\n",
       "      <td>[ms]</td>\n",
       "      <td>[ms]</td>\n",
       "      <td>[ms]</td>\n",
       "      <td>...</td>\n",
       "      <td>NaN</td>\n",
       "      <td>[A]</td>\n",
       "      <td>[A]</td>\n",
       "      <td>[A]</td>\n",
       "      <td>NaN</td>\n",
       "      <td>NaN</td>\n",
       "      <td>NaN</td>\n",
       "      <td>NaN</td>\n",
       "      <td>NaN</td>\n",
       "      <td>NaN</td>\n",
       "    </tr>\n",
       "    <tr>\n",
       "      <th>1</th>\n",
       "      <td>RB.A12</td>\n",
       "      <td>RB</td>\n",
       "      <td>Before Notebooks</td>\n",
       "      <td>NaN</td>\n",
       "      <td>NaN</td>\n",
       "      <td>NaN</td>\n",
       "      <td>NaN</td>\n",
       "      <td>NaN</td>\n",
       "      <td>NaN</td>\n",
       "      <td>NaN</td>\n",
       "      <td>...</td>\n",
       "      <td>NaN</td>\n",
       "      <td>NaN</td>\n",
       "      <td>NaN</td>\n",
       "      <td>NaN</td>\n",
       "      <td>NaN</td>\n",
       "      <td>NaN</td>\n",
       "      <td>Before Notebooks</td>\n",
       "      <td>NaN</td>\n",
       "      <td>NaN</td>\n",
       "      <td>NaN</td>\n",
       "    </tr>\n",
       "    <tr>\n",
       "      <th>169</th>\n",
       "      <td>RB.A23</td>\n",
       "      <td>RB</td>\n",
       "      <td>Before Notebooks</td>\n",
       "      <td>NaN</td>\n",
       "      <td>NaN</td>\n",
       "      <td>NaN</td>\n",
       "      <td>NaN</td>\n",
       "      <td>NaN</td>\n",
       "      <td>NaN</td>\n",
       "      <td>NaN</td>\n",
       "      <td>...</td>\n",
       "      <td>NaN</td>\n",
       "      <td>NaN</td>\n",
       "      <td>NaN</td>\n",
       "      <td>NaN</td>\n",
       "      <td>NaN</td>\n",
       "      <td>NaN</td>\n",
       "      <td>Before Notebooks</td>\n",
       "      <td>NaN</td>\n",
       "      <td>NaN</td>\n",
       "      <td>NaN</td>\n",
       "    </tr>\n",
       "    <tr>\n",
       "      <th>264</th>\n",
       "      <td>RB.A34</td>\n",
       "      <td>RB</td>\n",
       "      <td>Before Notebooks</td>\n",
       "      <td>NaN</td>\n",
       "      <td>NaN</td>\n",
       "      <td>NaN</td>\n",
       "      <td>NaN</td>\n",
       "      <td>NaN</td>\n",
       "      <td>NaN</td>\n",
       "      <td>NaN</td>\n",
       "      <td>...</td>\n",
       "      <td>NaN</td>\n",
       "      <td>NaN</td>\n",
       "      <td>NaN</td>\n",
       "      <td>NaN</td>\n",
       "      <td>NaN</td>\n",
       "      <td>NaN</td>\n",
       "      <td>Before Notebooks</td>\n",
       "      <td>NaN</td>\n",
       "      <td>NaN</td>\n",
       "      <td>NaN</td>\n",
       "    </tr>\n",
       "    <tr>\n",
       "      <th>545</th>\n",
       "      <td>RB.A45</td>\n",
       "      <td>RB</td>\n",
       "      <td>Before Notebooks</td>\n",
       "      <td>NaN</td>\n",
       "      <td>NaN</td>\n",
       "      <td>NaN</td>\n",
       "      <td>NaN</td>\n",
       "      <td>NaN</td>\n",
       "      <td>NaN</td>\n",
       "      <td>NaN</td>\n",
       "      <td>...</td>\n",
       "      <td>NaN</td>\n",
       "      <td>NaN</td>\n",
       "      <td>NaN</td>\n",
       "      <td>NaN</td>\n",
       "      <td>NaN</td>\n",
       "      <td>NaN</td>\n",
       "      <td>Before Notebooks</td>\n",
       "      <td>NaN</td>\n",
       "      <td>NaN</td>\n",
       "      <td>NaN</td>\n",
       "    </tr>\n",
       "    <tr>\n",
       "      <th>897</th>\n",
       "      <td>RB.A56</td>\n",
       "      <td>RB</td>\n",
       "      <td>Before Notebooks</td>\n",
       "      <td>NaN</td>\n",
       "      <td>NaN</td>\n",
       "      <td>NaN</td>\n",
       "      <td>NaN</td>\n",
       "      <td>NaN</td>\n",
       "      <td>NaN</td>\n",
       "      <td>NaN</td>\n",
       "      <td>...</td>\n",
       "      <td>NaN</td>\n",
       "      <td>NaN</td>\n",
       "      <td>NaN</td>\n",
       "      <td>NaN</td>\n",
       "      <td>NaN</td>\n",
       "      <td>NaN</td>\n",
       "      <td>Before Notebooks</td>\n",
       "      <td>NaN</td>\n",
       "      <td>NaN</td>\n",
       "      <td>NaN</td>\n",
       "    </tr>\n",
       "    <tr>\n",
       "      <th>1146</th>\n",
       "      <td>RB.A67</td>\n",
       "      <td>RB</td>\n",
       "      <td>Before Notebooks</td>\n",
       "      <td>NaN</td>\n",
       "      <td>NaN</td>\n",
       "      <td>NaN</td>\n",
       "      <td>NaN</td>\n",
       "      <td>NaN</td>\n",
       "      <td>NaN</td>\n",
       "      <td>NaN</td>\n",
       "      <td>...</td>\n",
       "      <td>NaN</td>\n",
       "      <td>NaN</td>\n",
       "      <td>NaN</td>\n",
       "      <td>NaN</td>\n",
       "      <td>NaN</td>\n",
       "      <td>NaN</td>\n",
       "      <td>Before Notebooks</td>\n",
       "      <td>NaN</td>\n",
       "      <td>NaN</td>\n",
       "      <td>NaN</td>\n",
       "    </tr>\n",
       "    <tr>\n",
       "      <th>1268</th>\n",
       "      <td>RB.A78</td>\n",
       "      <td>RB</td>\n",
       "      <td>Before Notebooks</td>\n",
       "      <td>NaN</td>\n",
       "      <td>NaN</td>\n",
       "      <td>NaN</td>\n",
       "      <td>NaN</td>\n",
       "      <td>NaN</td>\n",
       "      <td>NaN</td>\n",
       "      <td>NaN</td>\n",
       "      <td>...</td>\n",
       "      <td>NaN</td>\n",
       "      <td>NaN</td>\n",
       "      <td>NaN</td>\n",
       "      <td>NaN</td>\n",
       "      <td>NaN</td>\n",
       "      <td>NaN</td>\n",
       "      <td>Before Notebooks</td>\n",
       "      <td>NaN</td>\n",
       "      <td>NaN</td>\n",
       "      <td>NaN</td>\n",
       "    </tr>\n",
       "    <tr>\n",
       "      <th>1430</th>\n",
       "      <td>RB.A81</td>\n",
       "      <td>RB</td>\n",
       "      <td>Before Notebooks</td>\n",
       "      <td>NaN</td>\n",
       "      <td>NaN</td>\n",
       "      <td>NaN</td>\n",
       "      <td>NaN</td>\n",
       "      <td>NaN</td>\n",
       "      <td>NaN</td>\n",
       "      <td>NaN</td>\n",
       "      <td>...</td>\n",
       "      <td>NaN</td>\n",
       "      <td>NaN</td>\n",
       "      <td>NaN</td>\n",
       "      <td>NaN</td>\n",
       "      <td>NaN</td>\n",
       "      <td>NaN</td>\n",
       "      <td>Before Notebooks</td>\n",
       "      <td>NaN</td>\n",
       "      <td>NaN</td>\n",
       "      <td>NaN</td>\n",
       "    </tr>\n",
       "    <tr>\n",
       "      <th>1581</th>\n",
       "      <td>NaN</td>\n",
       "      <td>RB</td>\n",
       "      <td>After Notebooks</td>\n",
       "      <td>NaN</td>\n",
       "      <td>NaN</td>\n",
       "      <td>NaN</td>\n",
       "      <td>NaN</td>\n",
       "      <td>NaN</td>\n",
       "      <td>NaN</td>\n",
       "      <td>NaN</td>\n",
       "      <td>...</td>\n",
       "      <td>NaN</td>\n",
       "      <td>NaN</td>\n",
       "      <td>NaN</td>\n",
       "      <td>NaN</td>\n",
       "      <td>NaN</td>\n",
       "      <td>NaN</td>\n",
       "      <td>After Notebooks</td>\n",
       "      <td>NaN</td>\n",
       "      <td>NaN</td>\n",
       "      <td>NaN</td>\n",
       "    </tr>\n",
       "  </tbody>\n",
       "</table>\n",
       "<p>10 rows × 48 columns</p>\n",
       "</div>"
      ],
      "text/plain": [
       "     Circuit Name Circuit Family            Period           Date (FGC)  \\\n",
       "0             NaN             RB               NaN  2008-04-01 00:00:00   \n",
       "1          RB.A12             RB  Before Notebooks                  NaN   \n",
       "169        RB.A23             RB  Before Notebooks                  NaN   \n",
       "264        RB.A34             RB  Before Notebooks                  NaN   \n",
       "545        RB.A45             RB  Before Notebooks                  NaN   \n",
       "897        RB.A56             RB  Before Notebooks                  NaN   \n",
       "1146       RB.A67             RB  Before Notebooks                  NaN   \n",
       "1268       RB.A78             RB  Before Notebooks                  NaN   \n",
       "1430       RB.A81             RB  Before Notebooks                  NaN   \n",
       "1581          NaN             RB   After Notebooks                  NaN   \n",
       "\n",
       "     Time (FGC) FPA Reason Timestamp_PIC Delta_t(FGC-PIC)  \\\n",
       "0      13:14:15        NaN           NaN             [ms]   \n",
       "1           NaN        NaN           NaN              NaN   \n",
       "169         NaN        NaN           NaN              NaN   \n",
       "264         NaN        NaN           NaN              NaN   \n",
       "545         NaN        NaN           NaN              NaN   \n",
       "897         NaN        NaN           NaN              NaN   \n",
       "1146        NaN        NaN           NaN              NaN   \n",
       "1268        NaN        NaN           NaN              NaN   \n",
       "1430        NaN        NaN           NaN              NaN   \n",
       "1581        NaN        NaN           NaN              NaN   \n",
       "\n",
       "     Delta_t(EE_even-PIC) Delta_t(EE_odd-PIC)  ... Outer cable type I_Q_SM18  \\\n",
       "0                    [ms]                [ms]  ...              NaN      [A]   \n",
       "1                     NaN                 NaN  ...              NaN      NaN   \n",
       "169                   NaN                 NaN  ...              NaN      NaN   \n",
       "264                   NaN                 NaN  ...              NaN      NaN   \n",
       "545                   NaN                 NaN  ...              NaN      NaN   \n",
       "897                   NaN                 NaN  ...              NaN      NaN   \n",
       "1146                  NaN                 NaN  ...              NaN      NaN   \n",
       "1268                  NaN                 NaN  ...              NaN      NaN   \n",
       "1430                  NaN                 NaN  ...              NaN      NaN   \n",
       "1581                  NaN                 NaN  ...              NaN      NaN   \n",
       "\n",
       "     dI_Q_Acc dI_Q_LHC Comment Analysis performed by  lhcsmapi version  \\\n",
       "0         [A]      [A]     NaN                   NaN               NaN   \n",
       "1         NaN      NaN     NaN                   NaN  Before Notebooks   \n",
       "169       NaN      NaN     NaN                   NaN  Before Notebooks   \n",
       "264       NaN      NaN     NaN                   NaN  Before Notebooks   \n",
       "545       NaN      NaN     NaN                   NaN  Before Notebooks   \n",
       "897       NaN      NaN     NaN                   NaN  Before Notebooks   \n",
       "1146      NaN      NaN     NaN                   NaN  Before Notebooks   \n",
       "1268      NaN      NaN     NaN                   NaN  Before Notebooks   \n",
       "1430      NaN      NaN     NaN                   NaN  Before Notebooks   \n",
       "1581      NaN      NaN     NaN                   NaN   After Notebooks   \n",
       "\n",
       "     lhcsm notebook version Unnamed: 46 Unnamed: 47  \n",
       "0                       NaN         NaN         NaN  \n",
       "1                       NaN         NaN         NaN  \n",
       "169                     NaN         NaN         NaN  \n",
       "264                     NaN         NaN         NaN  \n",
       "545                     NaN         NaN         NaN  \n",
       "897                     NaN         NaN         NaN  \n",
       "1146                    NaN         NaN         NaN  \n",
       "1268                    NaN         NaN         NaN  \n",
       "1430                    NaN         NaN         NaN  \n",
       "1581                    NaN         NaN         NaN  \n",
       "\n",
       "[10 rows x 48 columns]"
      ]
     },
     "execution_count": 5,
     "metadata": {},
     "output_type": "execute_result"
    }
   ],
   "source": [
    "# First row contains units, 9 rows contain only \"Before Notebooks\" and \"After Notebooks\" information, which need to be droped\n",
    "mp3_fpa_df = mp3_fpa_df_raw.dropna(subset = ['Date (FGC)', 'Circuit Name'])\n",
    "mp3_fpa_df_raw.iloc[~mp3_fpa_df_raw.index.isin(mp3_fpa_df.index)] #show droped rows"
   ]
  },
  {
   "cell_type": "markdown",
   "id": "a7f49d93",
   "metadata": {
    "pycharm": {
     "name": "#%% md\n"
    }
   },
   "source": [
    "# Find FGC timestamp for each FPA event in MP3 excel"
   ]
  },
  {
   "cell_type": "code",
   "execution_count": 6,
   "id": "e68d4e9b",
   "metadata": {
    "pycharm": {
     "name": "#%%\n"
    }
   },
   "outputs": [
    {
     "ename": "KeyboardInterrupt",
     "evalue": "",
     "output_type": "error",
     "traceback": [
      "\u001b[0;31m---------------------------------------------------------------------------\u001b[0m",
      "\u001b[0;31mKeyboardInterrupt\u001b[0m                         Traceback (most recent call last)",
      "\u001b[0;32m<ipython-input-6-2c984a11ae42>\u001b[0m in \u001b[0;36m<module>\u001b[0;34m\u001b[0m\n\u001b[0;32m----> 1\u001b[0;31m \u001b[0mmp3_fpa_df\u001b[0m\u001b[0;34m[\u001b[0m\u001b[0;34m'timestamp_fgc'\u001b[0m\u001b[0;34m]\u001b[0m \u001b[0;34m=\u001b[0m \u001b[0mmp3_fpa_df\u001b[0m\u001b[0;34m.\u001b[0m\u001b[0mapply\u001b[0m\u001b[0;34m(\u001b[0m\u001b[0mget_fgc_timestamp\u001b[0m\u001b[0;34m,\u001b[0m \u001b[0maxis\u001b[0m\u001b[0;34m=\u001b[0m\u001b[0;36m1\u001b[0m\u001b[0;34m)\u001b[0m\u001b[0;34m\u001b[0m\u001b[0;34m\u001b[0m\u001b[0m\n\u001b[0m",
      "\u001b[0;32m/cvmfs/sft.cern.ch/lcg/views/LCG_100_nxcals/x86_64-centos7-gcc9-opt/lib/python3.8/site-packages/pandas/core/frame.py\u001b[0m in \u001b[0;36mapply\u001b[0;34m(self, func, axis, raw, result_type, args, **kwds)\u001b[0m\n\u001b[1;32m   7763\u001b[0m             \u001b[0mkwds\u001b[0m\u001b[0;34m=\u001b[0m\u001b[0mkwds\u001b[0m\u001b[0;34m,\u001b[0m\u001b[0;34m\u001b[0m\u001b[0;34m\u001b[0m\u001b[0m\n\u001b[1;32m   7764\u001b[0m         )\n\u001b[0;32m-> 7765\u001b[0;31m         \u001b[0;32mreturn\u001b[0m \u001b[0mop\u001b[0m\u001b[0;34m.\u001b[0m\u001b[0mget_result\u001b[0m\u001b[0;34m(\u001b[0m\u001b[0;34m)\u001b[0m\u001b[0;34m\u001b[0m\u001b[0;34m\u001b[0m\u001b[0m\n\u001b[0m\u001b[1;32m   7766\u001b[0m \u001b[0;34m\u001b[0m\u001b[0m\n\u001b[1;32m   7767\u001b[0m     \u001b[0;32mdef\u001b[0m \u001b[0mapplymap\u001b[0m\u001b[0;34m(\u001b[0m\u001b[0mself\u001b[0m\u001b[0;34m,\u001b[0m \u001b[0mfunc\u001b[0m\u001b[0;34m,\u001b[0m \u001b[0mna_action\u001b[0m\u001b[0;34m:\u001b[0m \u001b[0mOptional\u001b[0m\u001b[0;34m[\u001b[0m\u001b[0mstr\u001b[0m\u001b[0;34m]\u001b[0m \u001b[0;34m=\u001b[0m \u001b[0;32mNone\u001b[0m\u001b[0;34m)\u001b[0m \u001b[0;34m->\u001b[0m \u001b[0mDataFrame\u001b[0m\u001b[0;34m:\u001b[0m\u001b[0;34m\u001b[0m\u001b[0;34m\u001b[0m\u001b[0m\n",
      "\u001b[0;32m/cvmfs/sft.cern.ch/lcg/views/LCG_100_nxcals/x86_64-centos7-gcc9-opt/lib/python3.8/site-packages/pandas/core/apply.py\u001b[0m in \u001b[0;36mget_result\u001b[0;34m(self)\u001b[0m\n\u001b[1;32m    183\u001b[0m             \u001b[0;32mreturn\u001b[0m \u001b[0mself\u001b[0m\u001b[0;34m.\u001b[0m\u001b[0mapply_raw\u001b[0m\u001b[0;34m(\u001b[0m\u001b[0;34m)\u001b[0m\u001b[0;34m\u001b[0m\u001b[0;34m\u001b[0m\u001b[0m\n\u001b[1;32m    184\u001b[0m \u001b[0;34m\u001b[0m\u001b[0m\n\u001b[0;32m--> 185\u001b[0;31m         \u001b[0;32mreturn\u001b[0m \u001b[0mself\u001b[0m\u001b[0;34m.\u001b[0m\u001b[0mapply_standard\u001b[0m\u001b[0;34m(\u001b[0m\u001b[0;34m)\u001b[0m\u001b[0;34m\u001b[0m\u001b[0;34m\u001b[0m\u001b[0m\n\u001b[0m\u001b[1;32m    186\u001b[0m \u001b[0;34m\u001b[0m\u001b[0m\n\u001b[1;32m    187\u001b[0m     \u001b[0;32mdef\u001b[0m \u001b[0mapply_empty_result\u001b[0m\u001b[0;34m(\u001b[0m\u001b[0mself\u001b[0m\u001b[0;34m)\u001b[0m\u001b[0;34m:\u001b[0m\u001b[0;34m\u001b[0m\u001b[0;34m\u001b[0m\u001b[0m\n",
      "\u001b[0;32m/cvmfs/sft.cern.ch/lcg/views/LCG_100_nxcals/x86_64-centos7-gcc9-opt/lib/python3.8/site-packages/pandas/core/apply.py\u001b[0m in \u001b[0;36mapply_standard\u001b[0;34m(self)\u001b[0m\n\u001b[1;32m    274\u001b[0m \u001b[0;34m\u001b[0m\u001b[0m\n\u001b[1;32m    275\u001b[0m     \u001b[0;32mdef\u001b[0m \u001b[0mapply_standard\u001b[0m\u001b[0;34m(\u001b[0m\u001b[0mself\u001b[0m\u001b[0;34m)\u001b[0m\u001b[0;34m:\u001b[0m\u001b[0;34m\u001b[0m\u001b[0;34m\u001b[0m\u001b[0m\n\u001b[0;32m--> 276\u001b[0;31m         \u001b[0mresults\u001b[0m\u001b[0;34m,\u001b[0m \u001b[0mres_index\u001b[0m \u001b[0;34m=\u001b[0m \u001b[0mself\u001b[0m\u001b[0;34m.\u001b[0m\u001b[0mapply_series_generator\u001b[0m\u001b[0;34m(\u001b[0m\u001b[0;34m)\u001b[0m\u001b[0;34m\u001b[0m\u001b[0;34m\u001b[0m\u001b[0m\n\u001b[0m\u001b[1;32m    277\u001b[0m \u001b[0;34m\u001b[0m\u001b[0m\n\u001b[1;32m    278\u001b[0m         \u001b[0;31m# wrap results\u001b[0m\u001b[0;34m\u001b[0m\u001b[0;34m\u001b[0m\u001b[0;34m\u001b[0m\u001b[0m\n",
      "\u001b[0;32m/cvmfs/sft.cern.ch/lcg/views/LCG_100_nxcals/x86_64-centos7-gcc9-opt/lib/python3.8/site-packages/pandas/core/apply.py\u001b[0m in \u001b[0;36mapply_series_generator\u001b[0;34m(self)\u001b[0m\n\u001b[1;32m    288\u001b[0m             \u001b[0;32mfor\u001b[0m \u001b[0mi\u001b[0m\u001b[0;34m,\u001b[0m \u001b[0mv\u001b[0m \u001b[0;32min\u001b[0m \u001b[0menumerate\u001b[0m\u001b[0;34m(\u001b[0m\u001b[0mseries_gen\u001b[0m\u001b[0;34m)\u001b[0m\u001b[0;34m:\u001b[0m\u001b[0;34m\u001b[0m\u001b[0;34m\u001b[0m\u001b[0m\n\u001b[1;32m    289\u001b[0m                 \u001b[0;31m# ignore SettingWithCopy here in case the user mutates\u001b[0m\u001b[0;34m\u001b[0m\u001b[0;34m\u001b[0m\u001b[0;34m\u001b[0m\u001b[0m\n\u001b[0;32m--> 290\u001b[0;31m                 \u001b[0mresults\u001b[0m\u001b[0;34m[\u001b[0m\u001b[0mi\u001b[0m\u001b[0;34m]\u001b[0m \u001b[0;34m=\u001b[0m \u001b[0mself\u001b[0m\u001b[0;34m.\u001b[0m\u001b[0mf\u001b[0m\u001b[0;34m(\u001b[0m\u001b[0mv\u001b[0m\u001b[0;34m)\u001b[0m\u001b[0;34m\u001b[0m\u001b[0;34m\u001b[0m\u001b[0m\n\u001b[0m\u001b[1;32m    291\u001b[0m                 \u001b[0;32mif\u001b[0m \u001b[0misinstance\u001b[0m\u001b[0;34m(\u001b[0m\u001b[0mresults\u001b[0m\u001b[0;34m[\u001b[0m\u001b[0mi\u001b[0m\u001b[0;34m]\u001b[0m\u001b[0;34m,\u001b[0m \u001b[0mABCSeries\u001b[0m\u001b[0;34m)\u001b[0m\u001b[0;34m:\u001b[0m\u001b[0;34m\u001b[0m\u001b[0;34m\u001b[0m\u001b[0m\n\u001b[1;32m    292\u001b[0m                     \u001b[0;31m# If we have a view on v, we need to make a copy because\u001b[0m\u001b[0;34m\u001b[0m\u001b[0;34m\u001b[0m\u001b[0;34m\u001b[0m\u001b[0m\n",
      "\u001b[0;32m/eos/home-c/cobermai/SWAN_projects/lhc-anomaly-detection/src/utils/mp3_excel_processing.py\u001b[0m in \u001b[0;36mget_fgc_timestamp\u001b[0;34m(mp3_df)\u001b[0m\n\u001b[1;32m     42\u001b[0m     \u001b[0mdate_time_str\u001b[0m \u001b[0;34m=\u001b[0m \u001b[0;34mf\"{mp3_df['Date (FGC)']} {mp3_df['Time (FGC)']}\"\u001b[0m\u001b[0;34m.\u001b[0m\u001b[0mreplace\u001b[0m\u001b[0;34m(\u001b[0m\u001b[0;34m\"00:00:00 \"\u001b[0m\u001b[0;34m,\u001b[0m \u001b[0;34m\"\"\u001b[0m\u001b[0;34m)\u001b[0m\u001b[0;34m\u001b[0m\u001b[0;34m\u001b[0m\u001b[0m\n\u001b[1;32m     43\u001b[0m \u001b[0;34m\u001b[0m\u001b[0m\n\u001b[0;32m---> 44\u001b[0;31m     \u001b[0mreal_fgc_timestamps\u001b[0m \u001b[0;34m=\u001b[0m \u001b[0mfind_real_fgc_timestamp\u001b[0m\u001b[0;34m(\u001b[0m\u001b[0mmp3_df\u001b[0m\u001b[0;34m[\u001b[0m\u001b[0;34m'Circuit Name'\u001b[0m\u001b[0;34m]\u001b[0m\u001b[0;34m,\u001b[0m \u001b[0mdate_time_str\u001b[0m\u001b[0;34m)\u001b[0m\u001b[0;34m\u001b[0m\u001b[0;34m\u001b[0m\u001b[0m\n\u001b[0m\u001b[1;32m     45\u001b[0m \u001b[0;34m\u001b[0m\u001b[0m\n\u001b[1;32m     46\u001b[0m     \u001b[0;32mif\u001b[0m \u001b[0;32mnot\u001b[0m \u001b[0mreal_fgc_timestamps\u001b[0m\u001b[0;34m:\u001b[0m\u001b[0;34m\u001b[0m\u001b[0;34m\u001b[0m\u001b[0m\n",
      "\u001b[0;32m/eos/home-c/cobermai/SWAN_projects/lhc-anomaly-detection/src/utils/mp3_excel_processing.py\u001b[0m in \u001b[0;36mfind_real_fgc_timestamp\u001b[0;34m(circuit_name, fgc_datetime)\u001b[0m\n\u001b[1;32m     25\u001b[0m     \u001b[0mend_time\u001b[0m \u001b[0;34m=\u001b[0m \u001b[0mfgc_timestamp\u001b[0m \u001b[0;34m+\u001b[0m \u001b[0mone_sec_in_ns\u001b[0m\u001b[0;34m\u001b[0m\u001b[0;34m\u001b[0m\u001b[0m\n\u001b[1;32m     26\u001b[0m \u001b[0;34m\u001b[0m\u001b[0m\n\u001b[0;32m---> 27\u001b[0;31m     source_timestamp_fgc = PmDbRequest.find_events(metadata_fgc['source'],\n\u001b[0m\u001b[1;32m     28\u001b[0m                                                    \u001b[0mmetadata_fgc\u001b[0m\u001b[0;34m[\u001b[0m\u001b[0;34m'system'\u001b[0m\u001b[0;34m]\u001b[0m\u001b[0;34m,\u001b[0m\u001b[0;34m\u001b[0m\u001b[0;34m\u001b[0m\u001b[0m\n\u001b[1;32m     29\u001b[0m                                                    \u001b[0mmetadata_fgc\u001b[0m\u001b[0;34m[\u001b[0m\u001b[0;34m'className'\u001b[0m\u001b[0;34m]\u001b[0m\u001b[0;34m,\u001b[0m\u001b[0;34m\u001b[0m\u001b[0;34m\u001b[0m\u001b[0m\n",
      "\u001b[0;32m/eos/project/l/lhcsm/venv/lhcsmapi/pyedsl/dbsignal/post_mortem/PmDbRequest.py\u001b[0m in \u001b[0;36mfind_events\u001b[0;34m(source, system, className, t_start, t_end, duration, pm_rest_api_path, display_warning)\u001b[0m\n\u001b[1;32m    252\u001b[0m \u001b[0;34m\u001b[0m\u001b[0m\n\u001b[1;32m    253\u001b[0m         \u001b[0;31m# Fetch PM event data\u001b[0m\u001b[0;34m\u001b[0m\u001b[0;34m\u001b[0m\u001b[0;34m\u001b[0m\u001b[0m\n\u001b[0;32m--> 254\u001b[0;31m         pm_headers = PmDbRequest.get_response(\"pmdata\",\n\u001b[0m\u001b[1;32m    255\u001b[0m                                               \u001b[0;32mTrue\u001b[0m\u001b[0;34m,\u001b[0m\u001b[0;34m\u001b[0m\u001b[0;34m\u001b[0m\u001b[0m\n\u001b[1;32m    256\u001b[0m                                               \u001b[0mdisplay_warning\u001b[0m\u001b[0;34m,\u001b[0m\u001b[0;34m\u001b[0m\u001b[0;34m\u001b[0m\u001b[0m\n",
      "\u001b[0;32m/eos/project/l/lhcsm/venv/lhcsmapi/pyedsl/dbsignal/post_mortem/PmDbRequest.py\u001b[0m in \u001b[0;36mget_response\u001b[0;34m(request_type, is_header, display_warning, pm_rest_api_path, **kwargs)\u001b[0m\n\u001b[1;32m    164\u001b[0m \u001b[0;34m\u001b[0m\u001b[0m\n\u001b[1;32m    165\u001b[0m         \u001b[0mrequest\u001b[0m \u001b[0;34m=\u001b[0m \u001b[0mPmDbRequest\u001b[0m\u001b[0;34m.\u001b[0m\u001b[0mgenerate_request\u001b[0m\u001b[0;34m(\u001b[0m\u001b[0mrequest_type\u001b[0m\u001b[0;34m,\u001b[0m \u001b[0mis_header\u001b[0m\u001b[0;34m,\u001b[0m \u001b[0mpm_rest_api_path\u001b[0m\u001b[0;34m,\u001b[0m \u001b[0;34m**\u001b[0m\u001b[0mkwargs\u001b[0m\u001b[0;34m)\u001b[0m\u001b[0;34m\u001b[0m\u001b[0;34m\u001b[0m\u001b[0m\n\u001b[0;32m--> 166\u001b[0;31m         \u001b[0mresponse\u001b[0m \u001b[0;34m=\u001b[0m \u001b[0mrequests\u001b[0m\u001b[0;34m.\u001b[0m\u001b[0mget\u001b[0m\u001b[0;34m(\u001b[0m\u001b[0mrequest\u001b[0m\u001b[0;34m)\u001b[0m\u001b[0;34m\u001b[0m\u001b[0;34m\u001b[0m\u001b[0m\n\u001b[0m\u001b[1;32m    167\u001b[0m \u001b[0;34m\u001b[0m\u001b[0m\n\u001b[1;32m    168\u001b[0m         \u001b[0;32mtry\u001b[0m\u001b[0;34m:\u001b[0m\u001b[0;34m\u001b[0m\u001b[0;34m\u001b[0m\u001b[0m\n",
      "\u001b[0;32m/eos/project/l/lhcsm/venv/requests/api.py\u001b[0m in \u001b[0;36mget\u001b[0;34m(url, params, **kwargs)\u001b[0m\n\u001b[1;32m     71\u001b[0m     \"\"\"\n\u001b[1;32m     72\u001b[0m \u001b[0;34m\u001b[0m\u001b[0m\n\u001b[0;32m---> 73\u001b[0;31m     \u001b[0;32mreturn\u001b[0m \u001b[0mrequest\u001b[0m\u001b[0;34m(\u001b[0m\u001b[0;34m\"get\"\u001b[0m\u001b[0;34m,\u001b[0m \u001b[0murl\u001b[0m\u001b[0;34m,\u001b[0m \u001b[0mparams\u001b[0m\u001b[0;34m=\u001b[0m\u001b[0mparams\u001b[0m\u001b[0;34m,\u001b[0m \u001b[0;34m**\u001b[0m\u001b[0mkwargs\u001b[0m\u001b[0;34m)\u001b[0m\u001b[0;34m\u001b[0m\u001b[0;34m\u001b[0m\u001b[0m\n\u001b[0m\u001b[1;32m     74\u001b[0m \u001b[0;34m\u001b[0m\u001b[0m\n\u001b[1;32m     75\u001b[0m \u001b[0;34m\u001b[0m\u001b[0m\n",
      "\u001b[0;32m/eos/project/l/lhcsm/venv/requests/api.py\u001b[0m in \u001b[0;36mrequest\u001b[0;34m(method, url, **kwargs)\u001b[0m\n\u001b[1;32m     57\u001b[0m     \u001b[0;31m# cases, and look like a memory leak in others.\u001b[0m\u001b[0;34m\u001b[0m\u001b[0;34m\u001b[0m\u001b[0;34m\u001b[0m\u001b[0m\n\u001b[1;32m     58\u001b[0m     \u001b[0;32mwith\u001b[0m \u001b[0msessions\u001b[0m\u001b[0;34m.\u001b[0m\u001b[0mSession\u001b[0m\u001b[0;34m(\u001b[0m\u001b[0;34m)\u001b[0m \u001b[0;32mas\u001b[0m \u001b[0msession\u001b[0m\u001b[0;34m:\u001b[0m\u001b[0;34m\u001b[0m\u001b[0;34m\u001b[0m\u001b[0m\n\u001b[0;32m---> 59\u001b[0;31m         \u001b[0;32mreturn\u001b[0m \u001b[0msession\u001b[0m\u001b[0;34m.\u001b[0m\u001b[0mrequest\u001b[0m\u001b[0;34m(\u001b[0m\u001b[0mmethod\u001b[0m\u001b[0;34m=\u001b[0m\u001b[0mmethod\u001b[0m\u001b[0;34m,\u001b[0m \u001b[0murl\u001b[0m\u001b[0;34m=\u001b[0m\u001b[0murl\u001b[0m\u001b[0;34m,\u001b[0m \u001b[0;34m**\u001b[0m\u001b[0mkwargs\u001b[0m\u001b[0;34m)\u001b[0m\u001b[0;34m\u001b[0m\u001b[0;34m\u001b[0m\u001b[0m\n\u001b[0m\u001b[1;32m     60\u001b[0m \u001b[0;34m\u001b[0m\u001b[0m\n\u001b[1;32m     61\u001b[0m \u001b[0;34m\u001b[0m\u001b[0m\n",
      "\u001b[0;32m/eos/project/l/lhcsm/venv/requests/sessions.py\u001b[0m in \u001b[0;36mrequest\u001b[0;34m(self, method, url, params, data, headers, cookies, files, auth, timeout, allow_redirects, proxies, hooks, stream, verify, cert, json)\u001b[0m\n\u001b[1;32m    585\u001b[0m         }\n\u001b[1;32m    586\u001b[0m         \u001b[0msend_kwargs\u001b[0m\u001b[0;34m.\u001b[0m\u001b[0mupdate\u001b[0m\u001b[0;34m(\u001b[0m\u001b[0msettings\u001b[0m\u001b[0;34m)\u001b[0m\u001b[0;34m\u001b[0m\u001b[0;34m\u001b[0m\u001b[0m\n\u001b[0;32m--> 587\u001b[0;31m         \u001b[0mresp\u001b[0m \u001b[0;34m=\u001b[0m \u001b[0mself\u001b[0m\u001b[0;34m.\u001b[0m\u001b[0msend\u001b[0m\u001b[0;34m(\u001b[0m\u001b[0mprep\u001b[0m\u001b[0;34m,\u001b[0m \u001b[0;34m**\u001b[0m\u001b[0msend_kwargs\u001b[0m\u001b[0;34m)\u001b[0m\u001b[0;34m\u001b[0m\u001b[0;34m\u001b[0m\u001b[0m\n\u001b[0m\u001b[1;32m    588\u001b[0m \u001b[0;34m\u001b[0m\u001b[0m\n\u001b[1;32m    589\u001b[0m         \u001b[0;32mreturn\u001b[0m \u001b[0mresp\u001b[0m\u001b[0;34m\u001b[0m\u001b[0;34m\u001b[0m\u001b[0m\n",
      "\u001b[0;32m/eos/project/l/lhcsm/venv/requests/sessions.py\u001b[0m in \u001b[0;36msend\u001b[0;34m(self, request, **kwargs)\u001b[0m\n\u001b[1;32m    699\u001b[0m \u001b[0;34m\u001b[0m\u001b[0m\n\u001b[1;32m    700\u001b[0m         \u001b[0;31m# Send the request\u001b[0m\u001b[0;34m\u001b[0m\u001b[0;34m\u001b[0m\u001b[0;34m\u001b[0m\u001b[0m\n\u001b[0;32m--> 701\u001b[0;31m         \u001b[0mr\u001b[0m \u001b[0;34m=\u001b[0m \u001b[0madapter\u001b[0m\u001b[0;34m.\u001b[0m\u001b[0msend\u001b[0m\u001b[0;34m(\u001b[0m\u001b[0mrequest\u001b[0m\u001b[0;34m,\u001b[0m \u001b[0;34m**\u001b[0m\u001b[0mkwargs\u001b[0m\u001b[0;34m)\u001b[0m\u001b[0;34m\u001b[0m\u001b[0;34m\u001b[0m\u001b[0m\n\u001b[0m\u001b[1;32m    702\u001b[0m \u001b[0;34m\u001b[0m\u001b[0m\n\u001b[1;32m    703\u001b[0m         \u001b[0;31m# Total elapsed time of the request (approximately)\u001b[0m\u001b[0;34m\u001b[0m\u001b[0;34m\u001b[0m\u001b[0;34m\u001b[0m\u001b[0m\n",
      "\u001b[0;32m/eos/project/l/lhcsm/venv/requests/adapters.py\u001b[0m in \u001b[0;36msend\u001b[0;34m(self, request, stream, timeout, verify, cert, proxies)\u001b[0m\n\u001b[1;32m    487\u001b[0m         \u001b[0;32mtry\u001b[0m\u001b[0;34m:\u001b[0m\u001b[0;34m\u001b[0m\u001b[0;34m\u001b[0m\u001b[0m\n\u001b[1;32m    488\u001b[0m             \u001b[0;32mif\u001b[0m \u001b[0;32mnot\u001b[0m \u001b[0mchunked\u001b[0m\u001b[0;34m:\u001b[0m\u001b[0;34m\u001b[0m\u001b[0;34m\u001b[0m\u001b[0m\n\u001b[0;32m--> 489\u001b[0;31m                 resp = conn.urlopen(\n\u001b[0m\u001b[1;32m    490\u001b[0m                     \u001b[0mmethod\u001b[0m\u001b[0;34m=\u001b[0m\u001b[0mrequest\u001b[0m\u001b[0;34m.\u001b[0m\u001b[0mmethod\u001b[0m\u001b[0;34m,\u001b[0m\u001b[0;34m\u001b[0m\u001b[0;34m\u001b[0m\u001b[0m\n\u001b[1;32m    491\u001b[0m                     \u001b[0murl\u001b[0m\u001b[0;34m=\u001b[0m\u001b[0murl\u001b[0m\u001b[0;34m,\u001b[0m\u001b[0;34m\u001b[0m\u001b[0;34m\u001b[0m\u001b[0m\n",
      "\u001b[0;32m/eos/project/l/lhcsm/venv/urllib3/connectionpool.py\u001b[0m in \u001b[0;36murlopen\u001b[0;34m(self, method, url, body, headers, retries, redirect, assert_same_host, timeout, pool_timeout, release_conn, chunked, body_pos, **response_kw)\u001b[0m\n\u001b[1;32m    701\u001b[0m \u001b[0;34m\u001b[0m\u001b[0m\n\u001b[1;32m    702\u001b[0m             \u001b[0;31m# Make the request on the httplib connection object.\u001b[0m\u001b[0;34m\u001b[0m\u001b[0;34m\u001b[0m\u001b[0;34m\u001b[0m\u001b[0m\n\u001b[0;32m--> 703\u001b[0;31m             httplib_response = self._make_request(\n\u001b[0m\u001b[1;32m    704\u001b[0m                 \u001b[0mconn\u001b[0m\u001b[0;34m,\u001b[0m\u001b[0;34m\u001b[0m\u001b[0;34m\u001b[0m\u001b[0m\n\u001b[1;32m    705\u001b[0m                 \u001b[0mmethod\u001b[0m\u001b[0;34m,\u001b[0m\u001b[0;34m\u001b[0m\u001b[0;34m\u001b[0m\u001b[0m\n",
      "\u001b[0;32m/eos/project/l/lhcsm/venv/urllib3/connectionpool.py\u001b[0m in \u001b[0;36m_make_request\u001b[0;34m(self, conn, method, url, timeout, chunked, **httplib_request_kw)\u001b[0m\n\u001b[1;32m    447\u001b[0m                     \u001b[0;31m# Python 3 (including for exceptions like SystemExit).\u001b[0m\u001b[0;34m\u001b[0m\u001b[0;34m\u001b[0m\u001b[0;34m\u001b[0m\u001b[0m\n\u001b[1;32m    448\u001b[0m                     \u001b[0;31m# Otherwise it looks like a bug in the code.\u001b[0m\u001b[0;34m\u001b[0m\u001b[0;34m\u001b[0m\u001b[0;34m\u001b[0m\u001b[0m\n\u001b[0;32m--> 449\u001b[0;31m                     \u001b[0msix\u001b[0m\u001b[0;34m.\u001b[0m\u001b[0mraise_from\u001b[0m\u001b[0;34m(\u001b[0m\u001b[0me\u001b[0m\u001b[0;34m,\u001b[0m \u001b[0;32mNone\u001b[0m\u001b[0;34m)\u001b[0m\u001b[0;34m\u001b[0m\u001b[0;34m\u001b[0m\u001b[0m\n\u001b[0m\u001b[1;32m    450\u001b[0m         \u001b[0;32mexcept\u001b[0m \u001b[0;34m(\u001b[0m\u001b[0mSocketTimeout\u001b[0m\u001b[0;34m,\u001b[0m \u001b[0mBaseSSLError\u001b[0m\u001b[0;34m,\u001b[0m \u001b[0mSocketError\u001b[0m\u001b[0;34m)\u001b[0m \u001b[0;32mas\u001b[0m \u001b[0me\u001b[0m\u001b[0;34m:\u001b[0m\u001b[0;34m\u001b[0m\u001b[0;34m\u001b[0m\u001b[0m\n\u001b[1;32m    451\u001b[0m             \u001b[0mself\u001b[0m\u001b[0;34m.\u001b[0m\u001b[0m_raise_timeout\u001b[0m\u001b[0;34m(\u001b[0m\u001b[0merr\u001b[0m\u001b[0;34m=\u001b[0m\u001b[0me\u001b[0m\u001b[0;34m,\u001b[0m \u001b[0murl\u001b[0m\u001b[0;34m=\u001b[0m\u001b[0murl\u001b[0m\u001b[0;34m,\u001b[0m \u001b[0mtimeout_value\u001b[0m\u001b[0;34m=\u001b[0m\u001b[0mread_timeout\u001b[0m\u001b[0;34m)\u001b[0m\u001b[0;34m\u001b[0m\u001b[0;34m\u001b[0m\u001b[0m\n",
      "\u001b[0;32m/eos/project/l/lhcsm/venv/urllib3/packages/six.py\u001b[0m in \u001b[0;36mraise_from\u001b[0;34m(value, from_value)\u001b[0m\n",
      "\u001b[0;32m/eos/project/l/lhcsm/venv/urllib3/connectionpool.py\u001b[0m in \u001b[0;36m_make_request\u001b[0;34m(self, conn, method, url, timeout, chunked, **httplib_request_kw)\u001b[0m\n\u001b[1;32m    442\u001b[0m                 \u001b[0;31m# Python 3\u001b[0m\u001b[0;34m\u001b[0m\u001b[0;34m\u001b[0m\u001b[0;34m\u001b[0m\u001b[0m\n\u001b[1;32m    443\u001b[0m                 \u001b[0;32mtry\u001b[0m\u001b[0;34m:\u001b[0m\u001b[0;34m\u001b[0m\u001b[0;34m\u001b[0m\u001b[0m\n\u001b[0;32m--> 444\u001b[0;31m                     \u001b[0mhttplib_response\u001b[0m \u001b[0;34m=\u001b[0m \u001b[0mconn\u001b[0m\u001b[0;34m.\u001b[0m\u001b[0mgetresponse\u001b[0m\u001b[0;34m(\u001b[0m\u001b[0;34m)\u001b[0m\u001b[0;34m\u001b[0m\u001b[0;34m\u001b[0m\u001b[0m\n\u001b[0m\u001b[1;32m    445\u001b[0m                 \u001b[0;32mexcept\u001b[0m \u001b[0mBaseException\u001b[0m \u001b[0;32mas\u001b[0m \u001b[0me\u001b[0m\u001b[0;34m:\u001b[0m\u001b[0;34m\u001b[0m\u001b[0;34m\u001b[0m\u001b[0m\n\u001b[1;32m    446\u001b[0m                     \u001b[0;31m# Remove the TypeError from the exception chain in\u001b[0m\u001b[0;34m\u001b[0m\u001b[0;34m\u001b[0m\u001b[0;34m\u001b[0m\u001b[0m\n",
      "\u001b[0;32m/cvmfs/sft.cern.ch/lcg/releases/Python/3.8.6-3199b/x86_64-centos7-gcc9-opt/lib/python3.8/http/client.py\u001b[0m in \u001b[0;36mgetresponse\u001b[0;34m(self)\u001b[0m\n\u001b[1;32m   1345\u001b[0m         \u001b[0;32mtry\u001b[0m\u001b[0;34m:\u001b[0m\u001b[0;34m\u001b[0m\u001b[0;34m\u001b[0m\u001b[0m\n\u001b[1;32m   1346\u001b[0m             \u001b[0;32mtry\u001b[0m\u001b[0;34m:\u001b[0m\u001b[0;34m\u001b[0m\u001b[0;34m\u001b[0m\u001b[0m\n\u001b[0;32m-> 1347\u001b[0;31m                 \u001b[0mresponse\u001b[0m\u001b[0;34m.\u001b[0m\u001b[0mbegin\u001b[0m\u001b[0;34m(\u001b[0m\u001b[0;34m)\u001b[0m\u001b[0;34m\u001b[0m\u001b[0;34m\u001b[0m\u001b[0m\n\u001b[0m\u001b[1;32m   1348\u001b[0m             \u001b[0;32mexcept\u001b[0m \u001b[0mConnectionError\u001b[0m\u001b[0;34m:\u001b[0m\u001b[0;34m\u001b[0m\u001b[0;34m\u001b[0m\u001b[0m\n\u001b[1;32m   1349\u001b[0m                 \u001b[0mself\u001b[0m\u001b[0;34m.\u001b[0m\u001b[0mclose\u001b[0m\u001b[0;34m(\u001b[0m\u001b[0;34m)\u001b[0m\u001b[0;34m\u001b[0m\u001b[0;34m\u001b[0m\u001b[0m\n",
      "\u001b[0;32m/cvmfs/sft.cern.ch/lcg/releases/Python/3.8.6-3199b/x86_64-centos7-gcc9-opt/lib/python3.8/http/client.py\u001b[0m in \u001b[0;36mbegin\u001b[0;34m(self)\u001b[0m\n\u001b[1;32m    305\u001b[0m         \u001b[0;31m# read until we get a non-100 response\u001b[0m\u001b[0;34m\u001b[0m\u001b[0;34m\u001b[0m\u001b[0;34m\u001b[0m\u001b[0m\n\u001b[1;32m    306\u001b[0m         \u001b[0;32mwhile\u001b[0m \u001b[0;32mTrue\u001b[0m\u001b[0;34m:\u001b[0m\u001b[0;34m\u001b[0m\u001b[0;34m\u001b[0m\u001b[0m\n\u001b[0;32m--> 307\u001b[0;31m             \u001b[0mversion\u001b[0m\u001b[0;34m,\u001b[0m \u001b[0mstatus\u001b[0m\u001b[0;34m,\u001b[0m \u001b[0mreason\u001b[0m \u001b[0;34m=\u001b[0m \u001b[0mself\u001b[0m\u001b[0;34m.\u001b[0m\u001b[0m_read_status\u001b[0m\u001b[0;34m(\u001b[0m\u001b[0;34m)\u001b[0m\u001b[0;34m\u001b[0m\u001b[0;34m\u001b[0m\u001b[0m\n\u001b[0m\u001b[1;32m    308\u001b[0m             \u001b[0;32mif\u001b[0m \u001b[0mstatus\u001b[0m \u001b[0;34m!=\u001b[0m \u001b[0mCONTINUE\u001b[0m\u001b[0;34m:\u001b[0m\u001b[0;34m\u001b[0m\u001b[0;34m\u001b[0m\u001b[0m\n\u001b[1;32m    309\u001b[0m                 \u001b[0;32mbreak\u001b[0m\u001b[0;34m\u001b[0m\u001b[0;34m\u001b[0m\u001b[0m\n",
      "\u001b[0;32m/cvmfs/sft.cern.ch/lcg/releases/Python/3.8.6-3199b/x86_64-centos7-gcc9-opt/lib/python3.8/http/client.py\u001b[0m in \u001b[0;36m_read_status\u001b[0;34m(self)\u001b[0m\n\u001b[1;32m    266\u001b[0m \u001b[0;34m\u001b[0m\u001b[0m\n\u001b[1;32m    267\u001b[0m     \u001b[0;32mdef\u001b[0m \u001b[0m_read_status\u001b[0m\u001b[0;34m(\u001b[0m\u001b[0mself\u001b[0m\u001b[0;34m)\u001b[0m\u001b[0;34m:\u001b[0m\u001b[0;34m\u001b[0m\u001b[0;34m\u001b[0m\u001b[0m\n\u001b[0;32m--> 268\u001b[0;31m         \u001b[0mline\u001b[0m \u001b[0;34m=\u001b[0m \u001b[0mstr\u001b[0m\u001b[0;34m(\u001b[0m\u001b[0mself\u001b[0m\u001b[0;34m.\u001b[0m\u001b[0mfp\u001b[0m\u001b[0;34m.\u001b[0m\u001b[0mreadline\u001b[0m\u001b[0;34m(\u001b[0m\u001b[0m_MAXLINE\u001b[0m \u001b[0;34m+\u001b[0m \u001b[0;36m1\u001b[0m\u001b[0;34m)\u001b[0m\u001b[0;34m,\u001b[0m \u001b[0;34m\"iso-8859-1\"\u001b[0m\u001b[0;34m)\u001b[0m\u001b[0;34m\u001b[0m\u001b[0;34m\u001b[0m\u001b[0m\n\u001b[0m\u001b[1;32m    269\u001b[0m         \u001b[0;32mif\u001b[0m \u001b[0mlen\u001b[0m\u001b[0;34m(\u001b[0m\u001b[0mline\u001b[0m\u001b[0;34m)\u001b[0m \u001b[0;34m>\u001b[0m \u001b[0m_MAXLINE\u001b[0m\u001b[0;34m:\u001b[0m\u001b[0;34m\u001b[0m\u001b[0;34m\u001b[0m\u001b[0m\n\u001b[1;32m    270\u001b[0m             \u001b[0;32mraise\u001b[0m \u001b[0mLineTooLong\u001b[0m\u001b[0;34m(\u001b[0m\u001b[0;34m\"status line\"\u001b[0m\u001b[0;34m)\u001b[0m\u001b[0;34m\u001b[0m\u001b[0;34m\u001b[0m\u001b[0m\n",
      "\u001b[0;32m/cvmfs/sft.cern.ch/lcg/releases/Python/3.8.6-3199b/x86_64-centos7-gcc9-opt/lib/python3.8/socket.py\u001b[0m in \u001b[0;36mreadinto\u001b[0;34m(self, b)\u001b[0m\n\u001b[1;32m    667\u001b[0m         \u001b[0;32mwhile\u001b[0m \u001b[0;32mTrue\u001b[0m\u001b[0;34m:\u001b[0m\u001b[0;34m\u001b[0m\u001b[0;34m\u001b[0m\u001b[0m\n\u001b[1;32m    668\u001b[0m             \u001b[0;32mtry\u001b[0m\u001b[0;34m:\u001b[0m\u001b[0;34m\u001b[0m\u001b[0;34m\u001b[0m\u001b[0m\n\u001b[0;32m--> 669\u001b[0;31m                 \u001b[0;32mreturn\u001b[0m \u001b[0mself\u001b[0m\u001b[0;34m.\u001b[0m\u001b[0m_sock\u001b[0m\u001b[0;34m.\u001b[0m\u001b[0mrecv_into\u001b[0m\u001b[0;34m(\u001b[0m\u001b[0mb\u001b[0m\u001b[0;34m)\u001b[0m\u001b[0;34m\u001b[0m\u001b[0;34m\u001b[0m\u001b[0m\n\u001b[0m\u001b[1;32m    670\u001b[0m             \u001b[0;32mexcept\u001b[0m \u001b[0mtimeout\u001b[0m\u001b[0;34m:\u001b[0m\u001b[0;34m\u001b[0m\u001b[0;34m\u001b[0m\u001b[0m\n\u001b[1;32m    671\u001b[0m                 \u001b[0mself\u001b[0m\u001b[0;34m.\u001b[0m\u001b[0m_timeout_occurred\u001b[0m \u001b[0;34m=\u001b[0m \u001b[0;32mTrue\u001b[0m\u001b[0;34m\u001b[0m\u001b[0;34m\u001b[0m\u001b[0m\n",
      "\u001b[0;31mKeyboardInterrupt\u001b[0m: "
     ]
    }
   ],
   "source": [
    "mp3_fpa_df['timestamp_fgc'] = mp3_fpa_df.apply(get_fgc_timestamp, axis=1)"
   ]
  },
  {
   "cell_type": "markdown",
   "id": "75eabcb9",
   "metadata": {
    "pycharm": {
     "name": "#%% md\n"
    }
   },
   "source": [
    "# Find missing fgc timestamps in mp3 file"
   ]
  },
  {
   "cell_type": "code",
   "execution_count": null,
   "id": "a52d2836",
   "metadata": {
    "pycharm": {
     "name": "#%%\n"
    }
   },
   "outputs": [],
   "source": [
    "# some fgc timestamps have wrong hours\n",
    "mp3_fpa_df_primary_missing = mp3_fpa_df[(mp3_fpa_df.timestamp_fgc.isna()) & (mp3_fpa_df['Nr in Q event'] == 1)]\n",
    "mp3_fpa_df_primary_missing['timestamp_fgc'] = mp3_fpa_df_primary_missing.apply(get_fgc_timestamp_missing, axis=1)\n",
    "found_fgc_timestamps_df = mp3_fpa_df_primary_missing[\"timestamp_fgc\"].dropna()\n",
    "mp3_fpa_df.loc[found_fgc_timestamps_df.index, \"timestamp_fgc\"] = mp3_fpa_df_primary_missing[\"timestamp_fgc\"].dropna().values"
   ]
  },
  {
   "cell_type": "code",
   "execution_count": null,
   "id": "07d5f072",
   "metadata": {
    "pycharm": {
     "name": "#%%\n"
    }
   },
   "outputs": [],
   "source": [
    "print(f\"{len(mp3_fpa_df)} unique fgc events\") # 841 Primary quenches?\n",
    "print(f\"{len(mp3_fpa_df[mp3_fpa_df['Nr in Q event']==1])} mp3 primary quench entries\") # 834 primary quenches with correct notes"
   ]
  },
  {
   "cell_type": "code",
   "execution_count": null,
   "id": "56c36cb2",
   "metadata": {
    "pycharm": {
     "name": "#%%\n"
    }
   },
   "outputs": [],
   "source": [
    "mp3_fpa_df.to_csv(f\"../data/RB_TC_extract_{date_suffix}_processed.csv\")"
   ]
  },
  {
   "cell_type": "markdown",
   "id": "3ffafb28",
   "metadata": {
    "pycharm": {
     "name": "#%% md\n"
    }
   },
   "source": [
    "# Select events to add features"
   ]
  },
  {
   "cell_type": "code",
   "execution_count": 8,
   "id": "a906173b",
   "metadata": {
    "pycharm": {
     "name": "#%%\n"
    }
   },
   "outputs": [
    {
     "name": "stdout",
     "output_type": "stream",
     "text": [
      "16\n"
     ]
    }
   ],
   "source": [
    "mp3_fpa_df = pd.read_csv(f\"../data/RB_TC_extract_{date_suffix}_processed.csv\")\n",
    "mp3_fpa_df_unique = mp3_fpa_df.drop_duplicates(subset=['timestamp_fgc', 'Circuit Name'])\n",
    "\n",
    "# Time.to_string(1514761200000000000), Time.to_unix_timestamp('2018-01-01 00:00:00+01:00')\n",
    "lower_limit = Time.to_unix_timestamp('2014-01-01 00:00:00+01:00')\n",
    "mp3_fpa_df_period = mp3_fpa_df_unique[mp3_fpa_df_unique['timestamp_fgc'] >= lower_limit].reset_index(drop=True) \n",
    "mp3_fpa_df_period_all = mp3_fpa_df[mp3_fpa_df['timestamp_fgc'] >= lower_limit].reset_index(drop=True) \n",
    "\n",
    "download_mask = pd.to_numeric(mp3_fpa_df_period_all['Delta_t(EE_odd-PIC)'], errors='coerce').isnull() | \\\n",
    "                pd.to_numeric(mp3_fpa_df_period_all['Delta_t(EE_even-PIC)'], errors='coerce').isnull()\n",
    "mp3_fpa_df_to_download = mp3_fpa_df_period_all[download_mask]\n",
    "print(len(mp3_fpa_df_to_download))"
   ]
  },
  {
   "cell_type": "markdown",
   "id": "7223cf7a",
   "metadata": {
    "pycharm": {
     "name": "#%% md\n"
    }
   },
   "source": [
    "# Add features with NXCALS"
   ]
  },
  {
   "cell_type": "code",
   "execution_count": 9,
   "id": "8981baca",
   "metadata": {
    "pycharm": {
     "name": "#%%\n"
    }
   },
   "outputs": [
    {
     "data": {
      "text/html": [
       "<text style=color:blue>Executing RB.A45 query function find_source_timestamp_ee: 1/45.</text>"
      ],
      "text/plain": [
       "<IPython.core.display.HTML object>"
      ]
     },
     "metadata": {},
     "output_type": "display_data"
    },
    {
     "name": "stdout",
     "output_type": "stream",
     "text": [
      "\tQuerying PM event timestamps for system: QPS, className: DQAMSNRB, source: UA47.RB.A45 from 2015-03-12 07:45:24.640 to 2015-03-12 08:02:14.640\n"
     ]
    },
    {
     "data": {
      "text/html": [
       "<text style=color:blue>Executing RB.A45 query function query_ee_u_dump_res_pm: 2/45.</text>"
      ],
      "text/plain": [
       "<IPython.core.display.HTML object>"
      ]
     },
     "metadata": {},
     "output_type": "display_data"
    },
    {
     "name": "stdout",
     "output_type": "stream",
     "text": [
      "\tQuerying PM event signal(s) UA47.RB.A45:U_DUMP_RES for system: QPS, className: DQAMSNRB, source: UA47.RB.A45 at 2015-03-12 07:45:35.211\n"
     ]
    },
    {
     "data": {
      "text/html": [
       "<text style=color:blue>Executing RB.A45 query function find_source_timestamp_ee: 3/45.</text>"
      ],
      "text/plain": [
       "<IPython.core.display.HTML object>"
      ]
     },
     "metadata": {},
     "output_type": "display_data"
    },
    {
     "name": "stdout",
     "output_type": "stream",
     "text": [
      "\tQuerying PM event timestamps for system: QPS, className: DQAMSNRB, source: RR53.RB.A45 from 2015-03-12 07:45:24.640 to 2015-03-12 08:02:14.640\n"
     ]
    },
    {
     "data": {
      "text/html": [
       "<text style=color:blue>Executing RB.A45 query function query_ee_u_dump_res_pm: 4/45.</text>"
      ],
      "text/plain": [
       "<IPython.core.display.HTML object>"
      ]
     },
     "metadata": {},
     "output_type": "display_data"
    },
    {
     "name": "stdout",
     "output_type": "stream",
     "text": [
      "\tQuerying PM event signal(s) RR53.RB.A45:U_DUMP_RES for system: QPS, className: DQAMSNRB, source: RR53.RB.A45 at 2015-03-12 07:45:34.951\n"
     ]
    },
    {
     "data": {
      "text/html": [
       "<text style=color:blue>Executing RB.A45 query function find_timestamp_pic: 5/45.</text>"
      ],
      "text/plain": [
       "<IPython.core.display.HTML object>"
      ]
     },
     "metadata": {},
     "output_type": "display_data"
    },
    {
     "name": "stdout",
     "output_type": "stream",
     "text": [
      "\tQuerying NXCALS signal(s) RB.A45.ODD:ST_ABORT_PIC, RB.A45.EVEN:ST_ABORT_PIC from 2015-03-12 07:45:33.640 to 2015-03-12 07:46:34.640\n"
     ]
    },
    {
     "data": {
      "text/html": [
       "<text style=color:blue>Executing RB.A45 query function find_source_timestamp_qds: 6/45.</text>"
      ],
      "text/plain": [
       "<IPython.core.display.HTML object>"
      ]
     },
     "metadata": {},
     "output_type": "display_data"
    },
    {
     "name": "stdout",
     "output_type": "stream",
     "text": [
      "\tQuerying PM event timestamps for system: QPS, className: DQAMCNMB_PMSTD, source: * from 2015-03-12 07:44:44.640 to 2015-03-12 07:53:54.640\n"
     ]
    },
    {
     "data": {
      "text/html": [
       "<text style=color:blue>Executing RB.A45 query function find_source_timestamp_ee: 1/45.</text>"
      ],
      "text/plain": [
       "<IPython.core.display.HTML object>"
      ]
     },
     "metadata": {},
     "output_type": "display_data"
    },
    {
     "name": "stdout",
     "output_type": "stream",
     "text": [
      "\tQuerying PM event timestamps for system: QPS, className: DQAMSNRB, source: UA47.RB.A45 from 2018-12-08 21:17:57.820 to 2018-12-08 21:34:47.820\n"
     ]
    },
    {
     "data": {
      "text/html": [
       "<text style=color:blue>Executing RB.A45 query function query_ee_u_dump_res_pm: 2/45.</text>"
      ],
      "text/plain": [
       "<IPython.core.display.HTML object>"
      ]
     },
     "metadata": {},
     "output_type": "display_data"
    },
    {
     "name": "stdout",
     "output_type": "stream",
     "text": [
      "\tQuerying PM event signal(s) UA47.RB.A45:U_DUMP_RES for system: QPS, className: DQAMSNRB, source: UA47.RB.A45 at 2018-12-08 21:18:08.384\n"
     ]
    },
    {
     "data": {
      "text/html": [
       "<text style=color:blue>Executing RB.A45 query function find_source_timestamp_ee: 3/45.</text>"
      ],
      "text/plain": [
       "<IPython.core.display.HTML object>"
      ]
     },
     "metadata": {},
     "output_type": "display_data"
    },
    {
     "name": "stdout",
     "output_type": "stream",
     "text": [
      "\tQuerying PM event timestamps for system: QPS, className: DQAMSNRB, source: RR53.RB.A45 from 2018-12-08 21:17:57.820 to 2018-12-08 21:34:47.820\n"
     ]
    },
    {
     "data": {
      "text/html": [
       "<text style=color:blue>Executing RB.A45 query function query_ee_u_dump_res_pm: 4/45.</text>"
      ],
      "text/plain": [
       "<IPython.core.display.HTML object>"
      ]
     },
     "metadata": {},
     "output_type": "display_data"
    },
    {
     "name": "stdout",
     "output_type": "stream",
     "text": [
      "\tQuerying PM event signal(s) RR53.RB.A45:U_DUMP_RES for system: QPS, className: DQAMSNRB, source: RR53.RB.A45 at 2018-12-08 21:18:07.889\n"
     ]
    },
    {
     "data": {
      "text/html": [
       "<text style=color:blue>Executing RB.A45 query function find_timestamp_pic: 5/45.</text>"
      ],
      "text/plain": [
       "<IPython.core.display.HTML object>"
      ]
     },
     "metadata": {},
     "output_type": "display_data"
    },
    {
     "name": "stdout",
     "output_type": "stream",
     "text": [
      "\tQuerying NXCALS signal(s) RB.A45.ODD:ST_ABORT_PIC, RB.A45.EVEN:ST_ABORT_PIC from 2018-12-08 21:18:06.820 to 2018-12-08 21:19:07.820\n"
     ]
    },
    {
     "data": {
      "text/html": [
       "<text style=color:blue>Executing RB.A45 query function find_source_timestamp_qds: 6/45.</text>"
      ],
      "text/plain": [
       "<IPython.core.display.HTML object>"
      ]
     },
     "metadata": {},
     "output_type": "display_data"
    },
    {
     "name": "stdout",
     "output_type": "stream",
     "text": [
      "\tQuerying PM event timestamps for system: QPS, className: DQAMCNMB_PMSTD, source: * from 2018-12-08 21:17:17.820 to 2018-12-08 21:26:27.820\n"
     ]
    },
    {
     "data": {
      "text/html": [
       "<text style=color:blue>Executing RB.A45 query function find_source_timestamp_ee: 1/45.</text>"
      ],
      "text/plain": [
       "<IPython.core.display.HTML object>"
      ]
     },
     "metadata": {},
     "output_type": "display_data"
    },
    {
     "name": "stdout",
     "output_type": "stream",
     "text": [
      "\tQuerying PM event timestamps for system: QPS, className: DQAMSNRB, source: UA47.RB.A45 from 2018-12-08 21:17:57.820 to 2018-12-08 21:34:47.820\n"
     ]
    },
    {
     "data": {
      "text/html": [
       "<text style=color:blue>Executing RB.A45 query function query_ee_u_dump_res_pm: 2/45.</text>"
      ],
      "text/plain": [
       "<IPython.core.display.HTML object>"
      ]
     },
     "metadata": {},
     "output_type": "display_data"
    },
    {
     "name": "stdout",
     "output_type": "stream",
     "text": [
      "\tQuerying PM event signal(s) UA47.RB.A45:U_DUMP_RES for system: QPS, className: DQAMSNRB, source: UA47.RB.A45 at 2018-12-08 21:18:08.384\n"
     ]
    },
    {
     "data": {
      "text/html": [
       "<text style=color:blue>Executing RB.A45 query function find_source_timestamp_ee: 3/45.</text>"
      ],
      "text/plain": [
       "<IPython.core.display.HTML object>"
      ]
     },
     "metadata": {},
     "output_type": "display_data"
    },
    {
     "name": "stdout",
     "output_type": "stream",
     "text": [
      "\tQuerying PM event timestamps for system: QPS, className: DQAMSNRB, source: RR53.RB.A45 from 2018-12-08 21:17:57.820 to 2018-12-08 21:34:47.820\n"
     ]
    },
    {
     "data": {
      "text/html": [
       "<text style=color:blue>Executing RB.A45 query function query_ee_u_dump_res_pm: 4/45.</text>"
      ],
      "text/plain": [
       "<IPython.core.display.HTML object>"
      ]
     },
     "metadata": {},
     "output_type": "display_data"
    },
    {
     "name": "stdout",
     "output_type": "stream",
     "text": [
      "\tQuerying PM event signal(s) RR53.RB.A45:U_DUMP_RES for system: QPS, className: DQAMSNRB, source: RR53.RB.A45 at 2018-12-08 21:18:07.889\n"
     ]
    },
    {
     "data": {
      "text/html": [
       "<text style=color:blue>Executing RB.A45 query function find_timestamp_pic: 5/45.</text>"
      ],
      "text/plain": [
       "<IPython.core.display.HTML object>"
      ]
     },
     "metadata": {},
     "output_type": "display_data"
    },
    {
     "name": "stdout",
     "output_type": "stream",
     "text": [
      "\tQuerying NXCALS signal(s) RB.A45.ODD:ST_ABORT_PIC, RB.A45.EVEN:ST_ABORT_PIC from 2018-12-08 21:18:06.820 to 2018-12-08 21:19:07.820\n"
     ]
    },
    {
     "data": {
      "text/html": [
       "<text style=color:blue>Executing RB.A45 query function find_source_timestamp_qds: 6/45.</text>"
      ],
      "text/plain": [
       "<IPython.core.display.HTML object>"
      ]
     },
     "metadata": {},
     "output_type": "display_data"
    },
    {
     "name": "stdout",
     "output_type": "stream",
     "text": [
      "\tQuerying PM event timestamps for system: QPS, className: DQAMCNMB_PMSTD, source: * from 2018-12-08 21:17:17.820 to 2018-12-08 21:26:27.820\n"
     ]
    },
    {
     "data": {
      "text/html": [
       "<text style=color:blue>Executing RB.A45 query function find_source_timestamp_ee: 1/45.</text>"
      ],
      "text/plain": [
       "<IPython.core.display.HTML object>"
      ]
     },
     "metadata": {},
     "output_type": "display_data"
    },
    {
     "name": "stdout",
     "output_type": "stream",
     "text": [
      "\tQuerying PM event timestamps for system: QPS, className: DQAMSNRB, source: UA47.RB.A45 from 2018-12-08 21:17:57.820 to 2018-12-08 21:34:47.820\n"
     ]
    },
    {
     "data": {
      "text/html": [
       "<text style=color:blue>Executing RB.A45 query function query_ee_u_dump_res_pm: 2/45.</text>"
      ],
      "text/plain": [
       "<IPython.core.display.HTML object>"
      ]
     },
     "metadata": {},
     "output_type": "display_data"
    },
    {
     "name": "stdout",
     "output_type": "stream",
     "text": [
      "\tQuerying PM event signal(s) UA47.RB.A45:U_DUMP_RES for system: QPS, className: DQAMSNRB, source: UA47.RB.A45 at 2018-12-08 21:18:08.384\n"
     ]
    },
    {
     "data": {
      "text/html": [
       "<text style=color:blue>Executing RB.A45 query function find_source_timestamp_ee: 3/45.</text>"
      ],
      "text/plain": [
       "<IPython.core.display.HTML object>"
      ]
     },
     "metadata": {},
     "output_type": "display_data"
    },
    {
     "name": "stdout",
     "output_type": "stream",
     "text": [
      "\tQuerying PM event timestamps for system: QPS, className: DQAMSNRB, source: RR53.RB.A45 from 2018-12-08 21:17:57.820 to 2018-12-08 21:34:47.820\n"
     ]
    },
    {
     "data": {
      "text/html": [
       "<text style=color:blue>Executing RB.A45 query function query_ee_u_dump_res_pm: 4/45.</text>"
      ],
      "text/plain": [
       "<IPython.core.display.HTML object>"
      ]
     },
     "metadata": {},
     "output_type": "display_data"
    },
    {
     "name": "stdout",
     "output_type": "stream",
     "text": [
      "\tQuerying PM event signal(s) RR53.RB.A45:U_DUMP_RES for system: QPS, className: DQAMSNRB, source: RR53.RB.A45 at 2018-12-08 21:18:07.889\n"
     ]
    },
    {
     "data": {
      "text/html": [
       "<text style=color:blue>Executing RB.A45 query function find_timestamp_pic: 5/45.</text>"
      ],
      "text/plain": [
       "<IPython.core.display.HTML object>"
      ]
     },
     "metadata": {},
     "output_type": "display_data"
    },
    {
     "name": "stdout",
     "output_type": "stream",
     "text": [
      "\tQuerying NXCALS signal(s) RB.A45.ODD:ST_ABORT_PIC, RB.A45.EVEN:ST_ABORT_PIC from 2018-12-08 21:18:06.820 to 2018-12-08 21:19:07.820\n"
     ]
    },
    {
     "data": {
      "text/html": [
       "<text style=color:blue>Executing RB.A45 query function find_source_timestamp_qds: 6/45.</text>"
      ],
      "text/plain": [
       "<IPython.core.display.HTML object>"
      ]
     },
     "metadata": {},
     "output_type": "display_data"
    },
    {
     "name": "stdout",
     "output_type": "stream",
     "text": [
      "\tQuerying PM event timestamps for system: QPS, className: DQAMCNMB_PMSTD, source: * from 2018-12-08 21:17:17.820 to 2018-12-08 21:26:27.820\n"
     ]
    },
    {
     "data": {
      "text/html": [
       "<text style=color:blue>Executing RB.A45 query function find_source_timestamp_ee: 1/45.</text>"
      ],
      "text/plain": [
       "<IPython.core.display.HTML object>"
      ]
     },
     "metadata": {},
     "output_type": "display_data"
    },
    {
     "name": "stdout",
     "output_type": "stream",
     "text": [
      "\tQuerying PM event timestamps for system: QPS, className: DQAMSNRB, source: UA47.RB.A45 from 2018-12-09 12:32:17.780 to 2018-12-09 12:49:07.780\n"
     ]
    },
    {
     "data": {
      "text/html": [
       "<text style=color:blue>Executing RB.A45 query function query_ee_u_dump_res_pm: 2/45.</text>"
      ],
      "text/plain": [
       "<IPython.core.display.HTML object>"
      ]
     },
     "metadata": {},
     "output_type": "display_data"
    },
    {
     "name": "stdout",
     "output_type": "stream",
     "text": [
      "\tQuerying PM event signal(s) UA47.RB.A45:U_DUMP_RES for system: QPS, className: DQAMSNRB, source: UA47.RB.A45 at 2018-12-09 12:32:28.343\n"
     ]
    },
    {
     "data": {
      "text/html": [
       "<text style=color:blue>Executing RB.A45 query function find_source_timestamp_ee: 3/45.</text>"
      ],
      "text/plain": [
       "<IPython.core.display.HTML object>"
      ]
     },
     "metadata": {},
     "output_type": "display_data"
    },
    {
     "name": "stdout",
     "output_type": "stream",
     "text": [
      "\tQuerying PM event timestamps for system: QPS, className: DQAMSNRB, source: RR53.RB.A45 from 2018-12-09 12:32:17.780 to 2018-12-09 12:49:07.780\n"
     ]
    },
    {
     "data": {
      "text/html": [
       "<text style=color:blue>Executing RB.A45 query function query_ee_u_dump_res_pm: 4/45.</text>"
      ],
      "text/plain": [
       "<IPython.core.display.HTML object>"
      ]
     },
     "metadata": {},
     "output_type": "display_data"
    },
    {
     "name": "stdout",
     "output_type": "stream",
     "text": [
      "\tQuerying PM event signal(s) RR53.RB.A45:U_DUMP_RES for system: QPS, className: DQAMSNRB, source: RR53.RB.A45 at 2018-12-09 12:32:27.848\n"
     ]
    },
    {
     "data": {
      "text/html": [
       "<text style=color:blue>Executing RB.A45 query function find_timestamp_pic: 5/45.</text>"
      ],
      "text/plain": [
       "<IPython.core.display.HTML object>"
      ]
     },
     "metadata": {},
     "output_type": "display_data"
    },
    {
     "name": "stdout",
     "output_type": "stream",
     "text": [
      "\tQuerying NXCALS signal(s) RB.A45.ODD:ST_ABORT_PIC, RB.A45.EVEN:ST_ABORT_PIC from 2018-12-09 12:32:26.780 to 2018-12-09 12:33:27.780\n"
     ]
    },
    {
     "data": {
      "text/html": [
       "<text style=color:blue>Executing RB.A45 query function find_source_timestamp_qds: 6/45.</text>"
      ],
      "text/plain": [
       "<IPython.core.display.HTML object>"
      ]
     },
     "metadata": {},
     "output_type": "display_data"
    },
    {
     "name": "stdout",
     "output_type": "stream",
     "text": [
      "\tQuerying PM event timestamps for system: QPS, className: DQAMCNMB_PMSTD, source: * from 2018-12-09 12:31:37.780 to 2018-12-09 12:40:47.780\n"
     ]
    },
    {
     "data": {
      "text/html": [
       "<text style=color:blue>Executing RB.A45 query function find_source_timestamp_ee: 1/45.</text>"
      ],
      "text/plain": [
       "<IPython.core.display.HTML object>"
      ]
     },
     "metadata": {},
     "output_type": "display_data"
    },
    {
     "name": "stdout",
     "output_type": "stream",
     "text": [
      "\tQuerying PM event timestamps for system: QPS, className: DQAMSNRB, source: UA47.RB.A45 from 2018-12-09 12:32:17.780 to 2018-12-09 12:49:07.780\n"
     ]
    },
    {
     "data": {
      "text/html": [
       "<text style=color:blue>Executing RB.A45 query function query_ee_u_dump_res_pm: 2/45.</text>"
      ],
      "text/plain": [
       "<IPython.core.display.HTML object>"
      ]
     },
     "metadata": {},
     "output_type": "display_data"
    },
    {
     "name": "stdout",
     "output_type": "stream",
     "text": [
      "\tQuerying PM event signal(s) UA47.RB.A45:U_DUMP_RES for system: QPS, className: DQAMSNRB, source: UA47.RB.A45 at 2018-12-09 12:32:28.343\n"
     ]
    },
    {
     "data": {
      "text/html": [
       "<text style=color:blue>Executing RB.A45 query function find_source_timestamp_ee: 3/45.</text>"
      ],
      "text/plain": [
       "<IPython.core.display.HTML object>"
      ]
     },
     "metadata": {},
     "output_type": "display_data"
    },
    {
     "name": "stdout",
     "output_type": "stream",
     "text": [
      "\tQuerying PM event timestamps for system: QPS, className: DQAMSNRB, source: RR53.RB.A45 from 2018-12-09 12:32:17.780 to 2018-12-09 12:49:07.780\n"
     ]
    },
    {
     "data": {
      "text/html": [
       "<text style=color:blue>Executing RB.A45 query function query_ee_u_dump_res_pm: 4/45.</text>"
      ],
      "text/plain": [
       "<IPython.core.display.HTML object>"
      ]
     },
     "metadata": {},
     "output_type": "display_data"
    },
    {
     "name": "stdout",
     "output_type": "stream",
     "text": [
      "\tQuerying PM event signal(s) RR53.RB.A45:U_DUMP_RES for system: QPS, className: DQAMSNRB, source: RR53.RB.A45 at 2018-12-09 12:32:27.848\n"
     ]
    },
    {
     "data": {
      "text/html": [
       "<text style=color:blue>Executing RB.A45 query function find_timestamp_pic: 5/45.</text>"
      ],
      "text/plain": [
       "<IPython.core.display.HTML object>"
      ]
     },
     "metadata": {},
     "output_type": "display_data"
    },
    {
     "name": "stdout",
     "output_type": "stream",
     "text": [
      "\tQuerying NXCALS signal(s) RB.A45.ODD:ST_ABORT_PIC, RB.A45.EVEN:ST_ABORT_PIC from 2018-12-09 12:32:26.780 to 2018-12-09 12:33:27.780\n"
     ]
    },
    {
     "data": {
      "text/html": [
       "<text style=color:blue>Executing RB.A45 query function find_source_timestamp_qds: 6/45.</text>"
      ],
      "text/plain": [
       "<IPython.core.display.HTML object>"
      ]
     },
     "metadata": {},
     "output_type": "display_data"
    },
    {
     "name": "stdout",
     "output_type": "stream",
     "text": [
      "\tQuerying PM event timestamps for system: QPS, className: DQAMCNMB_PMSTD, source: * from 2018-12-09 12:31:37.780 to 2018-12-09 12:40:47.780\n"
     ]
    },
    {
     "data": {
      "text/html": [
       "<text style=color:blue>Executing RB.A45 query function find_source_timestamp_ee: 1/45.</text>"
      ],
      "text/plain": [
       "<IPython.core.display.HTML object>"
      ]
     },
     "metadata": {},
     "output_type": "display_data"
    },
    {
     "name": "stdout",
     "output_type": "stream",
     "text": [
      "\tQuerying PM event timestamps for system: QPS, className: DQAMSNRB, source: UA47.RB.A45 from 2018-12-09 12:32:17.780 to 2018-12-09 12:49:07.780\n"
     ]
    },
    {
     "data": {
      "text/html": [
       "<text style=color:blue>Executing RB.A45 query function query_ee_u_dump_res_pm: 2/45.</text>"
      ],
      "text/plain": [
       "<IPython.core.display.HTML object>"
      ]
     },
     "metadata": {},
     "output_type": "display_data"
    },
    {
     "name": "stdout",
     "output_type": "stream",
     "text": [
      "\tQuerying PM event signal(s) UA47.RB.A45:U_DUMP_RES for system: QPS, className: DQAMSNRB, source: UA47.RB.A45 at 2018-12-09 12:32:28.343\n"
     ]
    },
    {
     "data": {
      "text/html": [
       "<text style=color:blue>Executing RB.A45 query function find_source_timestamp_ee: 3/45.</text>"
      ],
      "text/plain": [
       "<IPython.core.display.HTML object>"
      ]
     },
     "metadata": {},
     "output_type": "display_data"
    },
    {
     "name": "stdout",
     "output_type": "stream",
     "text": [
      "\tQuerying PM event timestamps for system: QPS, className: DQAMSNRB, source: RR53.RB.A45 from 2018-12-09 12:32:17.780 to 2018-12-09 12:49:07.780\n"
     ]
    },
    {
     "data": {
      "text/html": [
       "<text style=color:blue>Executing RB.A45 query function query_ee_u_dump_res_pm: 4/45.</text>"
      ],
      "text/plain": [
       "<IPython.core.display.HTML object>"
      ]
     },
     "metadata": {},
     "output_type": "display_data"
    },
    {
     "name": "stdout",
     "output_type": "stream",
     "text": [
      "\tQuerying PM event signal(s) RR53.RB.A45:U_DUMP_RES for system: QPS, className: DQAMSNRB, source: RR53.RB.A45 at 2018-12-09 12:32:27.848\n"
     ]
    },
    {
     "data": {
      "text/html": [
       "<text style=color:blue>Executing RB.A45 query function find_timestamp_pic: 5/45.</text>"
      ],
      "text/plain": [
       "<IPython.core.display.HTML object>"
      ]
     },
     "metadata": {},
     "output_type": "display_data"
    },
    {
     "name": "stdout",
     "output_type": "stream",
     "text": [
      "\tQuerying NXCALS signal(s) RB.A45.ODD:ST_ABORT_PIC, RB.A45.EVEN:ST_ABORT_PIC from 2018-12-09 12:32:26.780 to 2018-12-09 12:33:27.780\n"
     ]
    },
    {
     "data": {
      "text/html": [
       "<text style=color:blue>Executing RB.A45 query function find_source_timestamp_qds: 6/45.</text>"
      ],
      "text/plain": [
       "<IPython.core.display.HTML object>"
      ]
     },
     "metadata": {},
     "output_type": "display_data"
    },
    {
     "name": "stdout",
     "output_type": "stream",
     "text": [
      "\tQuerying PM event timestamps for system: QPS, className: DQAMCNMB_PMSTD, source: * from 2018-12-09 12:31:37.780 to 2018-12-09 12:40:47.780\n"
     ]
    },
    {
     "data": {
      "text/html": [
       "<text style=color:blue>Executing RB.A56 query function find_source_timestamp_ee: 1/45.</text>"
      ],
      "text/plain": [
       "<IPython.core.display.HTML object>"
      ]
     },
     "metadata": {},
     "output_type": "display_data"
    },
    {
     "name": "stdout",
     "output_type": "stream",
     "text": [
      "\tQuerying PM event timestamps for system: QPS, className: DQAMSNRB, source: UA63.RB.A56 from 2015-02-09 22:58:20.160 to 2015-02-09 23:15:10.160\n"
     ]
    },
    {
     "data": {
      "text/html": [
       "<text style=color:blue>Executing RB.A56 query function find_source_timestamp_ee: 1/45.</text>"
      ],
      "text/plain": [
       "<IPython.core.display.HTML object>"
      ]
     },
     "metadata": {},
     "output_type": "display_data"
    },
    {
     "name": "stdout",
     "output_type": "stream",
     "text": [
      "\tQuerying PM event timestamps for system: QPS, className: DQAMSNRB, source: UA63.RB.A56 from 2015-02-09 22:58:20.160 to 2015-02-09 23:15:10.160\n"
     ]
    },
    {
     "data": {
      "text/html": [
       "<text style=color:blue>Executing RB.A56 query function find_source_timestamp_ee: 1/45.</text>"
      ],
      "text/plain": [
       "<IPython.core.display.HTML object>"
      ]
     },
     "metadata": {},
     "output_type": "display_data"
    },
    {
     "name": "stdout",
     "output_type": "stream",
     "text": [
      "\tQuerying PM event timestamps for system: QPS, className: DQAMSNRB, source: UA63.RB.A56 from 2017-12-04 07:35:07.280 to 2017-12-04 07:51:57.280\n"
     ]
    },
    {
     "data": {
      "text/html": [
       "<text style=color:blue>Executing RB.A56 query function query_ee_u_dump_res_pm: 2/45.</text>"
      ],
      "text/plain": [
       "<IPython.core.display.HTML object>"
      ]
     },
     "metadata": {},
     "output_type": "display_data"
    },
    {
     "name": "stdout",
     "output_type": "stream",
     "text": [
      "\tQuerying PM event signal(s) UA63.RB.A56:U_DUMP_RES for system: QPS, className: DQAMSNRB, source: UA63.RB.A56 at 2017-12-04 07:35:17.825\n"
     ]
    },
    {
     "data": {
      "text/html": [
       "<text style=color:blue>Executing RB.A56 query function find_source_timestamp_ee: 3/45.</text>"
      ],
      "text/plain": [
       "<IPython.core.display.HTML object>"
      ]
     },
     "metadata": {},
     "output_type": "display_data"
    },
    {
     "name": "stdout",
     "output_type": "stream",
     "text": [
      "\tQuerying PM event timestamps for system: QPS, className: DQAMSNRB, source: RR57.RB.A56 from 2017-12-04 07:35:07.280 to 2017-12-04 07:51:57.280\n"
     ]
    },
    {
     "data": {
      "text/html": [
       "<text style=color:blue>Executing RB.A56 query function query_ee_u_dump_res_pm: 4/45.</text>"
      ],
      "text/plain": [
       "<IPython.core.display.HTML object>"
      ]
     },
     "metadata": {},
     "output_type": "display_data"
    },
    {
     "name": "stdout",
     "output_type": "stream",
     "text": [
      "\tQuerying PM event signal(s) RR57.RB.A56:U_DUMP_RES for system: QPS, className: DQAMSNRB, source: RR57.RB.A56 at 2017-12-04 07:35:17.583\n"
     ]
    },
    {
     "data": {
      "text/html": [
       "<text style=color:blue>Executing RB.A56 query function find_timestamp_pic: 5/45.</text>"
      ],
      "text/plain": [
       "<IPython.core.display.HTML object>"
      ]
     },
     "metadata": {},
     "output_type": "display_data"
    },
    {
     "name": "stdout",
     "output_type": "stream",
     "text": [
      "\tQuerying NXCALS signal(s) RB.A56.ODD:ST_ABORT_PIC, RB.A56.EVEN:ST_ABORT_PIC from 2017-12-04 07:35:16.280 to 2017-12-04 07:36:17.280\n"
     ]
    },
    {
     "data": {
      "text/html": [
       "<text style=color:blue>Executing RB.A56 query function find_source_timestamp_qds: 6/45.</text>"
      ],
      "text/plain": [
       "<IPython.core.display.HTML object>"
      ]
     },
     "metadata": {},
     "output_type": "display_data"
    },
    {
     "name": "stdout",
     "output_type": "stream",
     "text": [
      "\tQuerying PM event timestamps for system: QPS, className: DQAMCNMB_PMSTD, source: * from 2017-12-04 07:34:27.280 to 2017-12-04 07:43:37.280\n"
     ]
    },
    {
     "data": {
      "text/html": [
       "<text style=color:blue>Executing RB.A56 query function find_source_timestamp_ee: 1/45.</text>"
      ],
      "text/plain": [
       "<IPython.core.display.HTML object>"
      ]
     },
     "metadata": {},
     "output_type": "display_data"
    },
    {
     "name": "stdout",
     "output_type": "stream",
     "text": [
      "\tQuerying PM event timestamps for system: QPS, className: DQAMSNRB, source: UA63.RB.A56 from 2017-12-04 07:35:07.280 to 2017-12-04 07:51:57.280\n"
     ]
    },
    {
     "data": {
      "text/html": [
       "<text style=color:blue>Executing RB.A56 query function query_ee_u_dump_res_pm: 2/45.</text>"
      ],
      "text/plain": [
       "<IPython.core.display.HTML object>"
      ]
     },
     "metadata": {},
     "output_type": "display_data"
    },
    {
     "name": "stdout",
     "output_type": "stream",
     "text": [
      "\tQuerying PM event signal(s) UA63.RB.A56:U_DUMP_RES for system: QPS, className: DQAMSNRB, source: UA63.RB.A56 at 2017-12-04 07:35:17.825\n"
     ]
    },
    {
     "data": {
      "text/html": [
       "<text style=color:blue>Executing RB.A56 query function find_source_timestamp_ee: 3/45.</text>"
      ],
      "text/plain": [
       "<IPython.core.display.HTML object>"
      ]
     },
     "metadata": {},
     "output_type": "display_data"
    },
    {
     "name": "stdout",
     "output_type": "stream",
     "text": [
      "\tQuerying PM event timestamps for system: QPS, className: DQAMSNRB, source: RR57.RB.A56 from 2017-12-04 07:35:07.280 to 2017-12-04 07:51:57.280\n"
     ]
    },
    {
     "data": {
      "text/html": [
       "<text style=color:blue>Executing RB.A56 query function query_ee_u_dump_res_pm: 4/45.</text>"
      ],
      "text/plain": [
       "<IPython.core.display.HTML object>"
      ]
     },
     "metadata": {},
     "output_type": "display_data"
    },
    {
     "name": "stdout",
     "output_type": "stream",
     "text": [
      "\tQuerying PM event signal(s) RR57.RB.A56:U_DUMP_RES for system: QPS, className: DQAMSNRB, source: RR57.RB.A56 at 2017-12-04 07:35:17.583\n"
     ]
    },
    {
     "data": {
      "text/html": [
       "<text style=color:blue>Executing RB.A56 query function find_timestamp_pic: 5/45.</text>"
      ],
      "text/plain": [
       "<IPython.core.display.HTML object>"
      ]
     },
     "metadata": {},
     "output_type": "display_data"
    },
    {
     "name": "stdout",
     "output_type": "stream",
     "text": [
      "\tQuerying NXCALS signal(s) RB.A56.ODD:ST_ABORT_PIC, RB.A56.EVEN:ST_ABORT_PIC from 2017-12-04 07:35:16.280 to 2017-12-04 07:36:17.280\n"
     ]
    },
    {
     "data": {
      "text/html": [
       "<text style=color:blue>Executing RB.A56 query function find_source_timestamp_qds: 6/45.</text>"
      ],
      "text/plain": [
       "<IPython.core.display.HTML object>"
      ]
     },
     "metadata": {},
     "output_type": "display_data"
    },
    {
     "name": "stdout",
     "output_type": "stream",
     "text": [
      "\tQuerying PM event timestamps for system: QPS, className: DQAMCNMB_PMSTD, source: * from 2017-12-04 07:34:27.280 to 2017-12-04 07:43:37.280\n"
     ]
    },
    {
     "data": {
      "text/html": [
       "<text style=color:blue>Executing RB.A56 query function find_source_timestamp_ee: 1/45.</text>"
      ],
      "text/plain": [
       "<IPython.core.display.HTML object>"
      ]
     },
     "metadata": {},
     "output_type": "display_data"
    },
    {
     "name": "stdout",
     "output_type": "stream",
     "text": [
      "\tQuerying PM event timestamps for system: QPS, className: DQAMSNRB, source: UA63.RB.A56 from 2017-12-04 07:35:07.280 to 2017-12-04 07:51:57.280\n"
     ]
    },
    {
     "data": {
      "text/html": [
       "<text style=color:blue>Executing RB.A56 query function query_ee_u_dump_res_pm: 2/45.</text>"
      ],
      "text/plain": [
       "<IPython.core.display.HTML object>"
      ]
     },
     "metadata": {},
     "output_type": "display_data"
    },
    {
     "name": "stdout",
     "output_type": "stream",
     "text": [
      "\tQuerying PM event signal(s) UA63.RB.A56:U_DUMP_RES for system: QPS, className: DQAMSNRB, source: UA63.RB.A56 at 2017-12-04 07:35:17.825\n"
     ]
    },
    {
     "data": {
      "text/html": [
       "<text style=color:blue>Executing RB.A56 query function find_source_timestamp_ee: 3/45.</text>"
      ],
      "text/plain": [
       "<IPython.core.display.HTML object>"
      ]
     },
     "metadata": {},
     "output_type": "display_data"
    },
    {
     "name": "stdout",
     "output_type": "stream",
     "text": [
      "\tQuerying PM event timestamps for system: QPS, className: DQAMSNRB, source: RR57.RB.A56 from 2017-12-04 07:35:07.280 to 2017-12-04 07:51:57.280\n"
     ]
    },
    {
     "data": {
      "text/html": [
       "<text style=color:blue>Executing RB.A56 query function query_ee_u_dump_res_pm: 4/45.</text>"
      ],
      "text/plain": [
       "<IPython.core.display.HTML object>"
      ]
     },
     "metadata": {},
     "output_type": "display_data"
    },
    {
     "name": "stdout",
     "output_type": "stream",
     "text": [
      "\tQuerying PM event signal(s) RR57.RB.A56:U_DUMP_RES for system: QPS, className: DQAMSNRB, source: RR57.RB.A56 at 2017-12-04 07:35:17.583\n"
     ]
    },
    {
     "data": {
      "text/html": [
       "<text style=color:blue>Executing RB.A56 query function find_timestamp_pic: 5/45.</text>"
      ],
      "text/plain": [
       "<IPython.core.display.HTML object>"
      ]
     },
     "metadata": {},
     "output_type": "display_data"
    },
    {
     "name": "stdout",
     "output_type": "stream",
     "text": [
      "\tQuerying NXCALS signal(s) RB.A56.ODD:ST_ABORT_PIC, RB.A56.EVEN:ST_ABORT_PIC from 2017-12-04 07:35:16.280 to 2017-12-04 07:36:17.280\n"
     ]
    },
    {
     "data": {
      "text/html": [
       "<text style=color:blue>Executing RB.A56 query function find_source_timestamp_qds: 6/45.</text>"
      ],
      "text/plain": [
       "<IPython.core.display.HTML object>"
      ]
     },
     "metadata": {},
     "output_type": "display_data"
    },
    {
     "name": "stdout",
     "output_type": "stream",
     "text": [
      "\tQuerying PM event timestamps for system: QPS, className: DQAMCNMB_PMSTD, source: * from 2017-12-04 07:34:27.280 to 2017-12-04 07:43:37.280\n"
     ]
    },
    {
     "data": {
      "text/html": [
       "<text style=color:blue>Executing RB.A56 query function find_source_timestamp_ee: 1/45.</text>"
      ],
      "text/plain": [
       "<IPython.core.display.HTML object>"
      ]
     },
     "metadata": {},
     "output_type": "display_data"
    },
    {
     "name": "stdout",
     "output_type": "stream",
     "text": [
      "\tQuerying PM event timestamps for system: QPS, className: DQAMSNRB, source: UA63.RB.A56 from 2017-12-04 07:35:07.280 to 2017-12-04 07:51:57.280\n"
     ]
    },
    {
     "data": {
      "text/html": [
       "<text style=color:blue>Executing RB.A56 query function query_ee_u_dump_res_pm: 2/45.</text>"
      ],
      "text/plain": [
       "<IPython.core.display.HTML object>"
      ]
     },
     "metadata": {},
     "output_type": "display_data"
    },
    {
     "name": "stdout",
     "output_type": "stream",
     "text": [
      "\tQuerying PM event signal(s) UA63.RB.A56:U_DUMP_RES for system: QPS, className: DQAMSNRB, source: UA63.RB.A56 at 2017-12-04 07:35:17.825\n"
     ]
    },
    {
     "data": {
      "text/html": [
       "<text style=color:blue>Executing RB.A56 query function find_source_timestamp_ee: 3/45.</text>"
      ],
      "text/plain": [
       "<IPython.core.display.HTML object>"
      ]
     },
     "metadata": {},
     "output_type": "display_data"
    },
    {
     "name": "stdout",
     "output_type": "stream",
     "text": [
      "\tQuerying PM event timestamps for system: QPS, className: DQAMSNRB, source: RR57.RB.A56 from 2017-12-04 07:35:07.280 to 2017-12-04 07:51:57.280\n"
     ]
    },
    {
     "data": {
      "text/html": [
       "<text style=color:blue>Executing RB.A56 query function query_ee_u_dump_res_pm: 4/45.</text>"
      ],
      "text/plain": [
       "<IPython.core.display.HTML object>"
      ]
     },
     "metadata": {},
     "output_type": "display_data"
    },
    {
     "name": "stdout",
     "output_type": "stream",
     "text": [
      "\tQuerying PM event signal(s) RR57.RB.A56:U_DUMP_RES for system: QPS, className: DQAMSNRB, source: RR57.RB.A56 at 2017-12-04 07:35:17.583\n"
     ]
    },
    {
     "data": {
      "text/html": [
       "<text style=color:blue>Executing RB.A56 query function find_timestamp_pic: 5/45.</text>"
      ],
      "text/plain": [
       "<IPython.core.display.HTML object>"
      ]
     },
     "metadata": {},
     "output_type": "display_data"
    },
    {
     "name": "stdout",
     "output_type": "stream",
     "text": [
      "\tQuerying NXCALS signal(s) RB.A56.ODD:ST_ABORT_PIC, RB.A56.EVEN:ST_ABORT_PIC from 2017-12-04 07:35:16.280 to 2017-12-04 07:36:17.280\n"
     ]
    },
    {
     "data": {
      "text/html": [
       "<text style=color:blue>Executing RB.A56 query function find_source_timestamp_qds: 6/45.</text>"
      ],
      "text/plain": [
       "<IPython.core.display.HTML object>"
      ]
     },
     "metadata": {},
     "output_type": "display_data"
    },
    {
     "name": "stdout",
     "output_type": "stream",
     "text": [
      "\tQuerying PM event timestamps for system: QPS, className: DQAMCNMB_PMSTD, source: * from 2017-12-04 07:34:27.280 to 2017-12-04 07:43:37.280\n"
     ]
    },
    {
     "data": {
      "text/html": [
       "<text style=color:blue>Executing RB.A56 query function find_source_timestamp_ee: 1/45.</text>"
      ],
      "text/plain": [
       "<IPython.core.display.HTML object>"
      ]
     },
     "metadata": {},
     "output_type": "display_data"
    },
    {
     "name": "stdout",
     "output_type": "stream",
     "text": [
      "\tQuerying PM event timestamps for system: QPS, className: DQAMSNRB, source: UA63.RB.A56 from 2017-12-04 07:35:07.280 to 2017-12-04 07:51:57.280\n"
     ]
    },
    {
     "data": {
      "text/html": [
       "<text style=color:blue>Executing RB.A56 query function query_ee_u_dump_res_pm: 2/45.</text>"
      ],
      "text/plain": [
       "<IPython.core.display.HTML object>"
      ]
     },
     "metadata": {},
     "output_type": "display_data"
    },
    {
     "name": "stdout",
     "output_type": "stream",
     "text": [
      "\tQuerying PM event signal(s) UA63.RB.A56:U_DUMP_RES for system: QPS, className: DQAMSNRB, source: UA63.RB.A56 at 2017-12-04 07:35:17.825\n"
     ]
    },
    {
     "data": {
      "text/html": [
       "<text style=color:blue>Executing RB.A56 query function find_source_timestamp_ee: 3/45.</text>"
      ],
      "text/plain": [
       "<IPython.core.display.HTML object>"
      ]
     },
     "metadata": {},
     "output_type": "display_data"
    },
    {
     "name": "stdout",
     "output_type": "stream",
     "text": [
      "\tQuerying PM event timestamps for system: QPS, className: DQAMSNRB, source: RR57.RB.A56 from 2017-12-04 07:35:07.280 to 2017-12-04 07:51:57.280\n"
     ]
    },
    {
     "data": {
      "text/html": [
       "<text style=color:blue>Executing RB.A56 query function query_ee_u_dump_res_pm: 4/45.</text>"
      ],
      "text/plain": [
       "<IPython.core.display.HTML object>"
      ]
     },
     "metadata": {},
     "output_type": "display_data"
    },
    {
     "name": "stdout",
     "output_type": "stream",
     "text": [
      "\tQuerying PM event signal(s) RR57.RB.A56:U_DUMP_RES for system: QPS, className: DQAMSNRB, source: RR57.RB.A56 at 2017-12-04 07:35:17.583\n"
     ]
    },
    {
     "data": {
      "text/html": [
       "<text style=color:blue>Executing RB.A56 query function find_timestamp_pic: 5/45.</text>"
      ],
      "text/plain": [
       "<IPython.core.display.HTML object>"
      ]
     },
     "metadata": {},
     "output_type": "display_data"
    },
    {
     "name": "stdout",
     "output_type": "stream",
     "text": [
      "\tQuerying NXCALS signal(s) RB.A56.ODD:ST_ABORT_PIC, RB.A56.EVEN:ST_ABORT_PIC from 2017-12-04 07:35:16.280 to 2017-12-04 07:36:17.280\n"
     ]
    },
    {
     "data": {
      "text/html": [
       "<text style=color:blue>Executing RB.A56 query function find_source_timestamp_qds: 6/45.</text>"
      ],
      "text/plain": [
       "<IPython.core.display.HTML object>"
      ]
     },
     "metadata": {},
     "output_type": "display_data"
    },
    {
     "name": "stdout",
     "output_type": "stream",
     "text": [
      "\tQuerying PM event timestamps for system: QPS, className: DQAMCNMB_PMSTD, source: * from 2017-12-04 07:34:27.280 to 2017-12-04 07:43:37.280\n"
     ]
    },
    {
     "data": {
      "text/html": [
       "<text style=color:blue>Executing RB.A56 query function find_source_timestamp_ee: 1/45.</text>"
      ],
      "text/plain": [
       "<IPython.core.display.HTML object>"
      ]
     },
     "metadata": {},
     "output_type": "display_data"
    },
    {
     "name": "stdout",
     "output_type": "stream",
     "text": [
      "\tQuerying PM event timestamps for system: QPS, className: DQAMSNRB, source: UA63.RB.A56 from 2017-12-04 07:35:07.280 to 2017-12-04 07:51:57.280\n"
     ]
    },
    {
     "data": {
      "text/html": [
       "<text style=color:blue>Executing RB.A56 query function query_ee_u_dump_res_pm: 2/45.</text>"
      ],
      "text/plain": [
       "<IPython.core.display.HTML object>"
      ]
     },
     "metadata": {},
     "output_type": "display_data"
    },
    {
     "name": "stdout",
     "output_type": "stream",
     "text": [
      "\tQuerying PM event signal(s) UA63.RB.A56:U_DUMP_RES for system: QPS, className: DQAMSNRB, source: UA63.RB.A56 at 2017-12-04 07:35:17.825\n"
     ]
    },
    {
     "data": {
      "text/html": [
       "<text style=color:blue>Executing RB.A56 query function find_source_timestamp_ee: 3/45.</text>"
      ],
      "text/plain": [
       "<IPython.core.display.HTML object>"
      ]
     },
     "metadata": {},
     "output_type": "display_data"
    },
    {
     "name": "stdout",
     "output_type": "stream",
     "text": [
      "\tQuerying PM event timestamps for system: QPS, className: DQAMSNRB, source: RR57.RB.A56 from 2017-12-04 07:35:07.280 to 2017-12-04 07:51:57.280\n"
     ]
    },
    {
     "data": {
      "text/html": [
       "<text style=color:blue>Executing RB.A56 query function query_ee_u_dump_res_pm: 4/45.</text>"
      ],
      "text/plain": [
       "<IPython.core.display.HTML object>"
      ]
     },
     "metadata": {},
     "output_type": "display_data"
    },
    {
     "name": "stdout",
     "output_type": "stream",
     "text": [
      "\tQuerying PM event signal(s) RR57.RB.A56:U_DUMP_RES for system: QPS, className: DQAMSNRB, source: RR57.RB.A56 at 2017-12-04 07:35:17.583\n"
     ]
    },
    {
     "data": {
      "text/html": [
       "<text style=color:blue>Executing RB.A56 query function find_timestamp_pic: 5/45.</text>"
      ],
      "text/plain": [
       "<IPython.core.display.HTML object>"
      ]
     },
     "metadata": {},
     "output_type": "display_data"
    },
    {
     "name": "stdout",
     "output_type": "stream",
     "text": [
      "\tQuerying NXCALS signal(s) RB.A56.ODD:ST_ABORT_PIC, RB.A56.EVEN:ST_ABORT_PIC from 2017-12-04 07:35:16.280 to 2017-12-04 07:36:17.280\n"
     ]
    },
    {
     "data": {
      "text/html": [
       "<text style=color:blue>Executing RB.A56 query function find_source_timestamp_qds: 6/45.</text>"
      ],
      "text/plain": [
       "<IPython.core.display.HTML object>"
      ]
     },
     "metadata": {},
     "output_type": "display_data"
    },
    {
     "name": "stdout",
     "output_type": "stream",
     "text": [
      "\tQuerying PM event timestamps for system: QPS, className: DQAMCNMB_PMSTD, source: * from 2017-12-04 07:34:27.280 to 2017-12-04 07:43:37.280\n"
     ]
    },
    {
     "data": {
      "text/html": [
       "<text style=color:blue>Executing RB.A56 query function find_source_timestamp_ee: 1/45.</text>"
      ],
      "text/plain": [
       "<IPython.core.display.HTML object>"
      ]
     },
     "metadata": {},
     "output_type": "display_data"
    },
    {
     "name": "stdout",
     "output_type": "stream",
     "text": [
      "\tQuerying PM event timestamps for system: QPS, className: DQAMSNRB, source: UA63.RB.A56 from 2017-12-04 07:35:07.280 to 2017-12-04 07:51:57.280\n"
     ]
    },
    {
     "data": {
      "text/html": [
       "<text style=color:blue>Executing RB.A56 query function query_ee_u_dump_res_pm: 2/45.</text>"
      ],
      "text/plain": [
       "<IPython.core.display.HTML object>"
      ]
     },
     "metadata": {},
     "output_type": "display_data"
    },
    {
     "name": "stdout",
     "output_type": "stream",
     "text": [
      "\tQuerying PM event signal(s) UA63.RB.A56:U_DUMP_RES for system: QPS, className: DQAMSNRB, source: UA63.RB.A56 at 2017-12-04 07:35:17.825\n"
     ]
    },
    {
     "data": {
      "text/html": [
       "<text style=color:blue>Executing RB.A56 query function find_source_timestamp_ee: 3/45.</text>"
      ],
      "text/plain": [
       "<IPython.core.display.HTML object>"
      ]
     },
     "metadata": {},
     "output_type": "display_data"
    },
    {
     "name": "stdout",
     "output_type": "stream",
     "text": [
      "\tQuerying PM event timestamps for system: QPS, className: DQAMSNRB, source: RR57.RB.A56 from 2017-12-04 07:35:07.280 to 2017-12-04 07:51:57.280\n"
     ]
    },
    {
     "data": {
      "text/html": [
       "<text style=color:blue>Executing RB.A56 query function query_ee_u_dump_res_pm: 4/45.</text>"
      ],
      "text/plain": [
       "<IPython.core.display.HTML object>"
      ]
     },
     "metadata": {},
     "output_type": "display_data"
    },
    {
     "name": "stdout",
     "output_type": "stream",
     "text": [
      "\tQuerying PM event signal(s) RR57.RB.A56:U_DUMP_RES for system: QPS, className: DQAMSNRB, source: RR57.RB.A56 at 2017-12-04 07:35:17.583\n"
     ]
    },
    {
     "data": {
      "text/html": [
       "<text style=color:blue>Executing RB.A56 query function find_timestamp_pic: 5/45.</text>"
      ],
      "text/plain": [
       "<IPython.core.display.HTML object>"
      ]
     },
     "metadata": {},
     "output_type": "display_data"
    },
    {
     "name": "stdout",
     "output_type": "stream",
     "text": [
      "\tQuerying NXCALS signal(s) RB.A56.ODD:ST_ABORT_PIC, RB.A56.EVEN:ST_ABORT_PIC from 2017-12-04 07:35:16.280 to 2017-12-04 07:36:17.280\n"
     ]
    },
    {
     "data": {
      "text/html": [
       "<text style=color:blue>Executing RB.A56 query function find_source_timestamp_qds: 6/45.</text>"
      ],
      "text/plain": [
       "<IPython.core.display.HTML object>"
      ]
     },
     "metadata": {},
     "output_type": "display_data"
    },
    {
     "name": "stdout",
     "output_type": "stream",
     "text": [
      "\tQuerying PM event timestamps for system: QPS, className: DQAMCNMB_PMSTD, source: * from 2017-12-04 07:34:27.280 to 2017-12-04 07:43:37.280\n",
      "16\n"
     ]
    }
   ],
   "source": [
    "k=0\n",
    "for index, row in mp3_fpa_df_to_download.iterrows():\n",
    "    try:\n",
    "        loc_mask = (mp3_fpa_df.timestamp_fgc == row['timestamp_fgc']) & (mp3_fpa_df[\"Circuit Name\"] == row['Circuit Name'])\n",
    "\n",
    "        rb_query = RbCircuitQuery(row['Circuit Family'], row['Circuit Name'], max_executions=45)\n",
    "\n",
    "        source_timestamp_ee_even_df = rb_query.find_source_timestamp_ee(int(row['timestamp_fgc']), system='EE_EVEN')\n",
    "        timestamp_ee_even = source_timestamp_ee_even_df.timestamp[0]\n",
    "        u_dump_res_even_df = rb_query.query_ee_u_dump_res_pm(timestamp_ee_even, int(row['timestamp_fgc']), system='EE_EVEN',\n",
    "                                            signal_names=['U_DUMP_RES'])\n",
    "\n",
    "        source_timestamp_ee_odd_df = rb_query.find_source_timestamp_ee(int(row['timestamp_fgc']), system='EE_ODD')\n",
    "        timestamp_ee_odd = source_timestamp_ee_odd_df.timestamp[0]\n",
    "        u_dump_res_odd_df = rb_query.query_ee_u_dump_res_pm(timestamp_ee_odd, int(row['timestamp_fgc']), system='EE_ODD',\n",
    "                                            signal_names=['U_DUMP_RES'])\n",
    "\n",
    "        timestamp_pic = rb_query.find_timestamp_pic(int(row['timestamp_fgc']), spark=spark)\n",
    "\n",
    "        source_timestamp_qds_df = rb_query.find_source_timestamp_qds(int(row['timestamp_fgc']), duration=[(50, 's'), (500, 's')])\n",
    "        timestamp_iQps = source_timestamp_qds_df.timestamp[0]\n",
    "\n",
    "        # sometimes values are missing in the end\n",
    "        ts_iQPS_PIC = 1e-6 * (source_timestamp_qds_df['timestamp'].values - min(timestamp_pic))\n",
    "        mp3_fpa_df.loc[loc_mask, 'Delta_t(iQPS-PIC)'] = np.append(ts_iQPS_PIC, np.max(ts_iQPS_PIC)*np.ones(sum(loc_mask)-len(ts_iQPS_PIC)))\n",
    "\n",
    "        mp3_fpa_df.loc[loc_mask, 'Delta_t(EE_odd-PIC)'] = (timestamp_ee_odd - min(timestamp_pic)) / 1e6\n",
    "        mp3_fpa_df.loc[loc_mask, 'Delta_t(EE_even-PIC)'] = (timestamp_ee_even - min(timestamp_pic)) / 1e6\n",
    "        mp3_fpa_df.loc[loc_mask, 'U_EE_max_ODD'] = u_dump_res_odd_df.max()[0]\n",
    "        mp3_fpa_df.loc[loc_mask, 'U_EE_max_EVEN'] = u_dump_res_even_df.max()[0]\n",
    "    except:\n",
    "        k+=1\n",
    "print(k)"
   ]
  },
  {
   "cell_type": "markdown",
   "id": "f9875de2",
   "metadata": {
    "pycharm": {
     "name": "#%% md\n"
    }
   },
   "source": [
    "# Reanalyze file"
   ]
  },
  {
   "cell_type": "code",
   "execution_count": 11,
   "id": "15684b63",
   "metadata": {
    "pycharm": {
     "name": "#%%\n"
    }
   },
   "outputs": [
    {
     "name": "stdout",
     "output_type": "stream",
     "text": [
      "4006\n"
     ]
    }
   ],
   "source": [
    "mp3_fpa_df = pd.read_csv(f\"../data/RB_TC_extract_{date_suffix}_processed_filled.csv\")\n",
    "print(len(mp3_fpa_df))"
   ]
  },
  {
   "cell_type": "code",
   "execution_count": null,
   "id": "5c32c41d",
   "metadata": {},
   "outputs": [],
   "source": [
    "mp3_fpa_df. == mp3_fpa_df"
   ]
  },
  {
   "cell_type": "code",
   "execution_count": 14,
   "id": "f08387a3",
   "metadata": {},
   "outputs": [
    {
     "name": "stdout",
     "output_type": "stream",
     "text": [
      "3981\n"
     ]
    }
   ],
   "source": [
    "failed_mask = pd.to_numeric(mp3_fpa_df['Delta_t(EE_odd-PIC)'], errors='coerce').isnull() | \\\n",
    "                pd.to_numeric(mp3_fpa_df['Delta_t(EE_even-PIC)'], errors='coerce').isnull()\n",
    "mp3_fpa_df_to_analyze = mp3_fpa_df[~failed_mask]\n",
    "print(len(mp3_fpa_df_to_analyze))"
   ]
  },
  {
   "cell_type": "code",
   "execution_count": null,
   "id": "3271a8eb",
   "metadata": {},
   "outputs": [],
   "source": [
    "mp3_fpa_df_new.to_csv(f\"../data/RB_TC_extract_{date_suffix}_processed_filled.csv\")"
   ]
  },
  {
   "cell_type": "markdown",
   "id": "e86ac4d9",
   "metadata": {
    "pycharm": {
     "name": "#%% md\n"
    }
   },
   "source": [
    "# Add features by calculation"
   ]
  },
  {
   "cell_type": "code",
   "execution_count": 12,
   "id": "b6641645",
   "metadata": {
    "pycharm": {
     "name": "#%%\n"
    }
   },
   "outputs": [
    {
     "ename": "NameError",
     "evalue": "name 'Time' is not defined",
     "output_type": "error",
     "traceback": [
      "\u001b[0;31m---------------------------------------------------------------------------\u001b[0m",
      "\u001b[0;31mNameError\u001b[0m                                 Traceback (most recent call last)",
      "\u001b[0;32m/tmp/ipykernel_678/123325768.py\u001b[0m in \u001b[0;36m<module>\u001b[0;34m\u001b[0m\n\u001b[1;32m      8\u001b[0m \u001b[0mmp3_fpa_df_unique\u001b[0m \u001b[0;34m=\u001b[0m \u001b[0mmp3_fpa_df\u001b[0m\u001b[0;34m.\u001b[0m\u001b[0mdrop_duplicates\u001b[0m\u001b[0;34m(\u001b[0m\u001b[0msubset\u001b[0m\u001b[0;34m=\u001b[0m\u001b[0;34m[\u001b[0m\u001b[0;34m'timestamp_fgc'\u001b[0m\u001b[0;34m,\u001b[0m \u001b[0;34m'Circuit Name'\u001b[0m\u001b[0;34m]\u001b[0m\u001b[0;34m)\u001b[0m\u001b[0;34m\u001b[0m\u001b[0;34m\u001b[0m\u001b[0m\n\u001b[1;32m      9\u001b[0m \u001b[0;31m# Time.to_string(1514761200000000000), Time.to_unix_timestamp('2018-01-01 00:00:00+01:00')\u001b[0m\u001b[0;34m\u001b[0m\u001b[0;34m\u001b[0m\u001b[0m\n\u001b[0;32m---> 10\u001b[0;31m \u001b[0mlower_limit\u001b[0m \u001b[0;34m=\u001b[0m \u001b[0mTime\u001b[0m\u001b[0;34m.\u001b[0m\u001b[0mto_unix_timestamp\u001b[0m\u001b[0;34m(\u001b[0m\u001b[0;34m'2014-01-01 00:00:00+01:00'\u001b[0m\u001b[0;34m)\u001b[0m\u001b[0;34m\u001b[0m\u001b[0;34m\u001b[0m\u001b[0m\n\u001b[0m\u001b[1;32m     11\u001b[0m \u001b[0mmp3_fpa_df_period\u001b[0m \u001b[0;34m=\u001b[0m \u001b[0mmp3_fpa_df_unique\u001b[0m\u001b[0;34m[\u001b[0m\u001b[0mmp3_fpa_df_unique\u001b[0m\u001b[0;34m[\u001b[0m\u001b[0;34m'timestamp_fgc'\u001b[0m\u001b[0;34m]\u001b[0m \u001b[0;34m>=\u001b[0m \u001b[0mlower_limit\u001b[0m\u001b[0;34m]\u001b[0m\u001b[0;34m.\u001b[0m\u001b[0mreset_index\u001b[0m\u001b[0;34m(\u001b[0m\u001b[0mdrop\u001b[0m\u001b[0;34m=\u001b[0m\u001b[0;32mTrue\u001b[0m\u001b[0;34m)\u001b[0m\u001b[0;34m\u001b[0m\u001b[0;34m\u001b[0m\u001b[0m\n\u001b[1;32m     12\u001b[0m \u001b[0mmp3_fpa_df_period_all\u001b[0m \u001b[0;34m=\u001b[0m \u001b[0mmp3_fpa_df\u001b[0m\u001b[0;34m[\u001b[0m\u001b[0mmp3_fpa_df\u001b[0m\u001b[0;34m[\u001b[0m\u001b[0;34m'timestamp_fgc'\u001b[0m\u001b[0;34m]\u001b[0m \u001b[0;34m>=\u001b[0m \u001b[0mlower_limit\u001b[0m\u001b[0;34m]\u001b[0m\u001b[0;34m.\u001b[0m\u001b[0mreset_index\u001b[0m\u001b[0;34m(\u001b[0m\u001b[0mdrop\u001b[0m\u001b[0;34m=\u001b[0m\u001b[0;32mTrue\u001b[0m\u001b[0;34m)\u001b[0m\u001b[0;34m\u001b[0m\u001b[0;34m\u001b[0m\u001b[0m\n",
      "\u001b[0;31mNameError\u001b[0m: name 'Time' is not defined"
     ]
    }
   ],
   "source": [
    "#fpa_identifier\n",
    "mp3_fpa_df.loc[mp3_fpa_df['timestamp_fgc'].dropna().index, \"fpa_identifier\"] = [f\"{row['Circuit Family']}_{row['Circuit Name']}_{int(row['timestamp_fgc'])}\" for i, row in mp3_fpa_df.loc[mp3_fpa_df['timestamp_fgc'].dropna().index].iterrows()]\n",
    "\n",
    "#drop duplicated entries:\n",
    "mp3_fpa_df = mp3_fpa_df.drop_duplicates(subset=['fpa_identifier', 'Position'])\n",
    "\n",
    "#find subsets\n",
    "mp3_fpa_df_unique = mp3_fpa_df.drop_duplicates(subset=['timestamp_fgc', 'Circuit Name'])\n",
    "# Time.to_string(1514761200000000000), Time.to_unix_timestamp('2018-01-01 00:00:00+01:00')\n",
    "lower_limit = Time.to_unix_timestamp('2014-01-01 00:00:00+01:00')\n",
    "mp3_fpa_df_period = mp3_fpa_df_unique[mp3_fpa_df_unique['timestamp_fgc'] >= lower_limit].reset_index(drop=True) \n",
    "mp3_fpa_df_period_all = mp3_fpa_df[mp3_fpa_df['timestamp_fgc'] >= lower_limit].reset_index(drop=True) \n",
    "\n",
    "# find data which does not contain quench timestamps\n",
    "failed_mask = pd.to_numeric(mp3_fpa_df_period_all['Delta_t(EE_odd-PIC)'], errors='coerce').isnull() | \\\n",
    "                pd.to_numeric(mp3_fpa_df_period_all['Delta_t(EE_even-PIC)'], errors='coerce').isnull()\n",
    "mp3_fpa_df_to_analyze = mp3_fpa_df_period_all[~failed_mask]\n",
    "print(sum(failed_mask))"
   ]
  },
  {
   "cell_type": "code",
   "execution_count": 49,
   "id": "72fce13d",
   "metadata": {
    "pycharm": {
     "name": "#%%\n"
    },
    "scrolled": true
   },
   "outputs": [],
   "source": [
    "# add features for simulation\n",
    "mp3_fpa_df_new = mp3_fpa_df_period_all.copy()\n",
    "for i, row in mp3_fpa_df_to_analyze.iterrows():\n",
    "    mask = mp3_fpa_df_new.fpa_identifier == row[\"fpa_identifier\"]\n",
    "    mp3_fpa_df_subset = mp3_fpa_df_period_all[mask]\n",
    "    mp3_fpa_df_new.loc[mask, \"R_EE_odd\"] = float(mp3_fpa_df_subset['U_EE_max_ODD'].values[0]) / float(mp3_fpa_df_subset['I_Q_M'].max())\n",
    "    mp3_fpa_df_new.loc[mask, \"R_EE_even\"] = float(mp3_fpa_df_subset['U_EE_max_EVEN'].values[0]) / float(mp3_fpa_df_subset['I_Q_M'].max())\n",
    "    mp3_fpa_df_new.loc[mask, \"t_EE_odd\"] = float(mp3_fpa_df_subset['Delta_t(EE_odd-PIC)'].values[0]) / 1000\n",
    "    mp3_fpa_df_new.loc[mask, \"t_EE_even\"] = float(mp3_fpa_df_subset['Delta_t(EE_even-PIC)'].values[0]) / 1000\n",
    "    mp3_fpa_df_new.loc[mask, \"I_end_2_from_data\"] = mp3_fpa_df_subset['I_Q_M'].max()"
   ]
  },
  {
   "cell_type": "code",
   "execution_count": 28,
   "id": "81ccdcbd",
   "metadata": {
    "pycharm": {
     "name": "#%%\n"
    }
   },
   "outputs": [],
   "source": [
    "#mp3_fpa_df_new.to_csv(f\"../data/RB_TC_extract_{date_suffix}_processed_filled.csv\")"
   ]
  },
  {
   "cell_type": "markdown",
   "id": "d8dbb3e7",
   "metadata": {
    "pycharm": {
     "name": "#%% md\n"
    }
   },
   "source": [
    "# Add features from downloaded data"
   ]
  },
  {
   "cell_type": "code",
   "execution_count": 98,
   "id": "577135c8",
   "metadata": {
    "pycharm": {
     "name": "#%%\n"
    }
   },
   "outputs": [],
   "source": [
    "file_path  = Path('/eos/project/m/ml-for-alarm-system/private/RB_signals')\n",
    "data_path = file_path / '20220707_data'"
   ]
  },
  {
   "cell_type": "code",
   "execution_count": 108,
   "id": "bb5309ec",
   "metadata": {
    "pycharm": {
     "name": "#%%\n"
    },
    "scrolled": true
   },
   "outputs": [
    {
     "name": "stdout",
     "output_type": "stream",
     "text": [
      "0/828\n",
      "1/828\n",
      "2/828\n",
      "3/828\n",
      "4/828\n",
      "5/828\n",
      "6/828\n",
      "7/828\n",
      "8/828\n",
      "9/828\n",
      "10/828\n",
      "11/828\n",
      "12/828\n",
      "13/828\n",
      "14/828\n",
      "15/828\n",
      "16/828\n",
      "17/828\n",
      "18/828\n",
      "19/828\n",
      "20/828\n",
      "21/828\n",
      "22/828\n",
      "23/828\n",
      "24/828\n",
      "25/828\n",
      "26/828\n",
      "27/828\n",
      "28/828\n",
      "29/828\n",
      "30/828\n",
      "31/828\n",
      "32/828\n",
      "33/828\n",
      "34/828\n",
      "35/828\n",
      "36/828\n",
      "37/828\n",
      "38/828\n",
      "39/828\n",
      "40/828\n",
      "41/828\n",
      "42/828\n",
      "43/828\n",
      "44/828\n",
      "45/828\n",
      "46/828\n",
      "47/828\n",
      "48/828\n",
      "49/828\n",
      "50/828\n",
      "51/828\n",
      "52/828\n",
      "53/828\n",
      "54/828\n",
      "55/828\n",
      "56/828\n",
      "57/828\n",
      "58/828\n",
      "59/828\n",
      "60/828\n",
      "61/828\n",
      "62/828\n",
      "63/828\n",
      "64/828\n",
      "65/828\n",
      "66/828\n",
      "67/828\n",
      "68/828\n",
      "69/828\n",
      "70/828\n",
      "71/828\n",
      "72/828\n",
      "73/828\n",
      "74/828\n",
      "75/828\n",
      "76/828\n",
      "77/828\n",
      "78/828\n",
      "79/828\n",
      "80/828\n",
      "81/828\n",
      "82/828\n",
      "83/828\n",
      "84/828\n",
      "85/828\n",
      "86/828\n",
      "87/828\n",
      "88/828\n",
      "89/828\n",
      "90/828\n",
      "91/828\n",
      "92/828\n",
      "93/828\n",
      "94/828\n",
      "95/828\n",
      "96/828\n",
      "97/828\n",
      "98/828\n",
      "99/828\n",
      "100/828\n",
      "101/828\n",
      "102/828\n",
      "103/828\n",
      "104/828\n",
      "105/828\n",
      "106/828\n",
      "107/828\n",
      "108/828\n",
      "109/828\n",
      "110/828\n",
      "111/828\n",
      "112/828\n",
      "113/828\n",
      "114/828\n",
      "115/828\n",
      "116/828\n",
      "117/828\n",
      "118/828\n",
      "119/828\n",
      "120/828\n",
      "121/828\n",
      "122/828\n",
      "123/828\n",
      "124/828\n",
      "125/828\n",
      "126/828\n",
      "127/828\n",
      "128/828\n",
      "129/828\n",
      "130/828\n",
      "131/828\n",
      "132/828\n",
      "133/828\n",
      "134/828\n",
      "135/828\n",
      "136/828\n",
      "137/828\n",
      "138/828\n",
      "139/828\n",
      "140/828\n",
      "141/828\n",
      "142/828\n",
      "143/828\n",
      "144/828\n",
      "145/828\n",
      "146/828\n",
      "147/828\n",
      "148/828\n",
      "149/828\n",
      "150/828\n",
      "151/828\n",
      "152/828\n",
      "153/828\n",
      "154/828\n",
      "155/828\n",
      "156/828\n",
      "157/828\n",
      "158/828\n",
      "159/828\n",
      "160/828\n",
      "161/828\n",
      "162/828\n",
      "163/828\n",
      "164/828\n",
      "165/828\n",
      "166/828\n",
      "167/828\n",
      "168/828\n",
      "169/828\n",
      "170/828\n",
      "171/828\n",
      "172/828\n",
      "173/828\n",
      "174/828\n",
      "175/828\n",
      "176/828\n",
      "177/828\n",
      "178/828\n",
      "179/828\n",
      "180/828\n",
      "181/828\n",
      "182/828\n",
      "183/828\n",
      "184/828\n",
      "185/828\n",
      "186/828\n",
      "187/828\n",
      "188/828\n",
      "189/828\n",
      "190/828\n",
      "191/828\n",
      "192/828\n",
      "193/828\n",
      "194/828\n",
      "195/828\n",
      "196/828\n",
      "197/828\n",
      "198/828\n",
      "199/828\n",
      "200/828\n",
      "201/828\n",
      "202/828\n",
      "203/828\n",
      "204/828\n",
      "205/828\n",
      "206/828\n",
      "207/828\n",
      "208/828\n",
      "209/828\n",
      "210/828\n",
      "211/828\n",
      "212/828\n",
      "213/828\n",
      "214/828\n",
      "215/828\n",
      "216/828\n",
      "217/828\n",
      "218/828\n",
      "219/828\n",
      "220/828\n",
      "221/828\n",
      "222/828\n",
      "223/828\n",
      "224/828\n",
      "225/828\n",
      "226/828\n",
      "227/828\n",
      "228/828\n",
      "229/828\n",
      "230/828\n",
      "231/828\n",
      "232/828\n",
      "233/828\n",
      "234/828\n",
      "235/828\n",
      "236/828\n",
      "237/828\n",
      "238/828\n",
      "239/828\n",
      "240/828\n",
      "241/828\n",
      "242/828\n",
      "243/828\n",
      "244/828\n",
      "245/828\n",
      "246/828\n",
      "247/828\n",
      "248/828\n",
      "249/828\n",
      "250/828\n",
      "251/828\n",
      "252/828\n",
      "253/828\n",
      "254/828\n",
      "255/828\n",
      "256/828\n",
      "257/828\n",
      "258/828\n",
      "259/828\n",
      "260/828\n",
      "261/828\n",
      "262/828\n",
      "263/828\n",
      "264/828\n",
      "265/828\n",
      "266/828\n",
      "267/828\n",
      "268/828\n",
      "269/828\n",
      "270/828\n",
      "271/828\n",
      "272/828\n",
      "273/828\n",
      "274/828\n",
      "275/828\n",
      "276/828\n",
      "277/828\n",
      "278/828\n",
      "279/828\n",
      "280/828\n",
      "281/828\n",
      "282/828\n",
      "283/828\n",
      "284/828\n",
      "285/828\n",
      "286/828\n",
      "287/828\n",
      "288/828\n",
      "289/828\n",
      "290/828\n",
      "291/828\n",
      "292/828\n",
      "293/828\n",
      "294/828\n",
      "295/828\n",
      "296/828\n",
      "297/828\n",
      "298/828\n",
      "299/828\n",
      "300/828\n",
      "301/828\n",
      "302/828\n",
      "303/828\n",
      "304/828\n",
      "305/828\n",
      "306/828\n",
      "307/828\n",
      "308/828\n",
      "309/828\n",
      "310/828\n",
      "311/828\n",
      "312/828\n",
      "313/828\n",
      "314/828\n",
      "315/828\n",
      "316/828\n",
      "317/828\n",
      "318/828\n",
      "319/828\n",
      "320/828\n",
      "321/828\n",
      "322/828\n",
      "323/828\n",
      "324/828\n",
      "325/828\n",
      "326/828\n",
      "327/828\n",
      "328/828\n",
      "329/828\n",
      "330/828\n",
      "331/828\n",
      "332/828\n",
      "333/828\n",
      "334/828\n",
      "335/828\n",
      "336/828\n",
      "337/828\n",
      "338/828\n",
      "339/828\n",
      "340/828\n",
      "341/828\n",
      "342/828\n",
      "343/828\n",
      "344/828\n",
      "345/828\n",
      "346/828\n",
      "347/828\n",
      "348/828\n",
      "349/828\n",
      "350/828\n",
      "351/828\n",
      "352/828\n",
      "353/828\n",
      "354/828\n",
      "355/828\n",
      "356/828\n",
      "357/828\n",
      "358/828\n",
      "359/828\n",
      "360/828\n",
      "361/828\n",
      "362/828\n",
      "363/828\n",
      "364/828\n",
      "365/828\n",
      "366/828\n",
      "367/828\n",
      "368/828\n",
      "369/828\n",
      "370/828\n",
      "371/828\n",
      "372/828\n",
      "373/828\n",
      "374/828\n",
      "375/828\n",
      "376/828\n",
      "377/828\n",
      "378/828\n",
      "379/828\n",
      "380/828\n",
      "381/828\n",
      "382/828\n",
      "383/828\n",
      "384/828\n",
      "385/828\n",
      "386/828\n",
      "387/828\n",
      "388/828\n",
      "389/828\n",
      "390/828\n",
      "391/828\n",
      "392/828\n",
      "393/828\n",
      "394/828\n",
      "395/828\n",
      "396/828\n",
      "397/828\n",
      "398/828\n",
      "399/828\n",
      "400/828\n",
      "401/828\n",
      "402/828\n",
      "403/828\n",
      "404/828\n",
      "405/828\n",
      "406/828\n",
      "407/828\n",
      "408/828\n",
      "409/828\n",
      "410/828\n",
      "411/828\n",
      "412/828\n",
      "413/828\n",
      "414/828\n",
      "415/828\n",
      "416/828\n",
      "417/828\n",
      "418/828\n",
      "419/828\n",
      "420/828\n",
      "421/828\n",
      "422/828\n",
      "423/828\n",
      "424/828\n",
      "425/828\n",
      "426/828\n",
      "427/828\n",
      "428/828\n",
      "429/828\n",
      "430/828\n",
      "431/828\n",
      "432/828\n",
      "433/828\n",
      "434/828\n",
      "435/828\n",
      "436/828\n",
      "437/828\n",
      "438/828\n",
      "439/828\n",
      "440/828\n",
      "441/828\n",
      "442/828\n",
      "443/828\n",
      "444/828\n",
      "445/828\n",
      "446/828\n",
      "447/828\n",
      "448/828\n",
      "449/828\n",
      "450/828\n",
      "451/828\n",
      "452/828\n",
      "453/828\n",
      "454/828\n",
      "455/828\n",
      "456/828\n",
      "457/828\n",
      "458/828\n",
      "459/828\n",
      "460/828\n",
      "461/828\n",
      "462/828\n",
      "463/828\n",
      "464/828\n",
      "465/828\n",
      "466/828\n",
      "467/828\n",
      "468/828\n",
      "469/828\n",
      "470/828\n",
      "471/828\n",
      "472/828\n",
      "473/828\n",
      "474/828\n",
      "475/828\n",
      "476/828\n",
      "477/828\n",
      "478/828\n",
      "479/828\n",
      "480/828\n",
      "481/828\n",
      "482/828\n",
      "483/828\n",
      "484/828\n",
      "485/828\n",
      "486/828\n",
      "487/828\n",
      "488/828\n",
      "489/828\n",
      "490/828\n",
      "491/828\n",
      "492/828\n",
      "493/828\n",
      "494/828\n",
      "495/828\n",
      "496/828\n",
      "497/828\n",
      "498/828\n",
      "499/828\n",
      "500/828\n",
      "501/828\n",
      "502/828\n",
      "503/828\n",
      "504/828\n",
      "505/828\n",
      "506/828\n",
      "507/828\n",
      "508/828\n",
      "509/828\n",
      "510/828\n",
      "511/828\n",
      "512/828\n",
      "513/828\n",
      "514/828\n",
      "515/828\n",
      "516/828\n",
      "517/828\n",
      "518/828\n",
      "519/828\n",
      "520/828\n",
      "521/828\n",
      "522/828\n",
      "523/828\n",
      "524/828\n",
      "525/828\n",
      "526/828\n",
      "527/828\n",
      "528/828\n",
      "529/828\n",
      "530/828\n",
      "531/828\n",
      "532/828\n",
      "533/828\n",
      "534/828\n",
      "535/828\n",
      "536/828\n",
      "537/828\n",
      "538/828\n",
      "539/828\n",
      "540/828\n",
      "541/828\n",
      "542/828\n",
      "543/828\n",
      "544/828\n",
      "545/828\n",
      "546/828\n",
      "547/828\n",
      "548/828\n",
      "549/828\n",
      "550/828\n",
      "551/828\n",
      "552/828\n",
      "553/828\n",
      "554/828\n",
      "555/828\n",
      "556/828\n",
      "557/828\n",
      "558/828\n",
      "559/828\n",
      "560/828\n",
      "561/828\n",
      "562/828\n",
      "563/828\n",
      "564/828\n",
      "565/828\n",
      "566/828\n",
      "567/828\n",
      "568/828\n",
      "569/828\n",
      "570/828\n",
      "571/828\n",
      "572/828\n",
      "573/828\n",
      "574/828\n",
      "575/828\n",
      "576/828\n",
      "577/828\n",
      "578/828\n",
      "579/828\n",
      "580/828\n",
      "581/828\n",
      "582/828\n",
      "583/828\n",
      "584/828\n",
      "585/828\n",
      "586/828\n",
      "587/828\n",
      "588/828\n",
      "589/828\n",
      "590/828\n",
      "591/828\n",
      "592/828\n",
      "593/828\n",
      "594/828\n",
      "595/828\n",
      "596/828\n",
      "597/828\n",
      "598/828\n",
      "599/828\n",
      "600/828\n",
      "601/828\n",
      "602/828\n",
      "603/828\n",
      "604/828\n",
      "605/828\n",
      "606/828\n",
      "607/828\n",
      "608/828\n",
      "609/828\n",
      "610/828\n",
      "611/828\n",
      "612/828\n",
      "613/828\n",
      "614/828\n",
      "615/828\n",
      "616/828\n",
      "617/828\n",
      "618/828\n",
      "619/828\n",
      "620/828\n",
      "621/828\n",
      "622/828\n",
      "623/828\n",
      "624/828\n",
      "625/828\n",
      "626/828\n",
      "627/828\n",
      "628/828\n",
      "629/828\n",
      "630/828\n",
      "631/828\n",
      "632/828\n",
      "633/828\n",
      "634/828\n",
      "635/828\n",
      "636/828\n",
      "637/828\n",
      "638/828\n",
      "639/828\n",
      "640/828\n",
      "641/828\n",
      "642/828\n",
      "643/828\n",
      "644/828\n",
      "645/828\n",
      "646/828\n",
      "647/828\n",
      "648/828\n",
      "649/828\n",
      "650/828\n",
      "651/828\n",
      "652/828\n",
      "653/828\n",
      "654/828\n",
      "655/828\n",
      "656/828\n",
      "657/828\n",
      "658/828\n",
      "659/828\n",
      "660/828\n",
      "661/828\n",
      "662/828\n",
      "663/828\n",
      "664/828\n",
      "665/828\n",
      "666/828\n",
      "667/828\n",
      "668/828\n",
      "669/828\n",
      "670/828\n",
      "671/828\n",
      "672/828\n",
      "673/828\n",
      "674/828\n",
      "675/828\n",
      "676/828\n",
      "677/828\n",
      "678/828\n",
      "679/828\n",
      "680/828\n",
      "681/828\n",
      "682/828\n",
      "683/828\n",
      "684/828\n",
      "685/828\n",
      "686/828\n",
      "687/828\n",
      "688/828\n",
      "689/828\n",
      "690/828\n",
      "691/828\n",
      "692/828\n",
      "693/828\n",
      "694/828\n",
      "695/828\n",
      "696/828\n",
      "697/828\n",
      "698/828\n",
      "699/828\n",
      "700/828\n",
      "701/828\n",
      "702/828\n",
      "703/828\n",
      "704/828\n",
      "705/828\n",
      "706/828\n",
      "707/828\n",
      "708/828\n",
      "709/828\n",
      "710/828\n",
      "711/828\n",
      "712/828\n",
      "713/828\n",
      "714/828\n",
      "715/828\n",
      "716/828\n",
      "717/828\n",
      "718/828\n",
      "719/828\n",
      "720/828\n",
      "721/828\n",
      "722/828\n",
      "723/828\n",
      "724/828\n",
      "725/828\n",
      "726/828\n",
      "727/828\n",
      "728/828\n",
      "729/828\n",
      "730/828\n",
      "731/828\n",
      "732/828\n",
      "733/828\n",
      "734/828\n",
      "735/828\n",
      "736/828\n",
      "737/828\n",
      "738/828\n",
      "739/828\n",
      "740/828\n",
      "741/828\n",
      "742/828\n",
      "743/828\n",
      "744/828\n",
      "745/828\n",
      "746/828\n",
      "747/828\n",
      "748/828\n",
      "749/828\n",
      "750/828\n",
      "751/828\n",
      "752/828\n",
      "753/828\n",
      "754/828\n",
      "755/828\n",
      "756/828\n",
      "757/828\n",
      "758/828\n",
      "759/828\n",
      "760/828\n",
      "761/828\n",
      "762/828\n",
      "763/828\n",
      "764/828\n",
      "765/828\n",
      "766/828\n",
      "767/828\n",
      "768/828\n",
      "769/828\n",
      "770/828\n",
      "771/828\n",
      "772/828\n",
      "773/828\n",
      "774/828\n",
      "775/828\n",
      "776/828\n",
      "777/828\n",
      "778/828\n",
      "779/828\n",
      "780/828\n",
      "781/828\n",
      "782/828\n",
      "783/828\n",
      "784/828\n",
      "785/828\n",
      "786/828\n",
      "787/828\n",
      "788/828\n",
      "789/828\n",
      "790/828\n",
      "791/828\n",
      "792/828\n",
      "793/828\n",
      "794/828\n",
      "795/828\n",
      "796/828\n",
      "797/828\n",
      "798/828\n",
      "799/828\n",
      "800/828\n",
      "801/828\n",
      "802/828\n",
      "803/828\n",
      "804/828\n",
      "805/828\n",
      "806/828\n",
      "807/828\n",
      "808/828\n",
      "809/828\n",
      "810/828\n",
      "811/828\n",
      "812/828\n",
      "813/828\n",
      "814/828\n",
      "815/828\n",
      "816/828\n",
      "817/828\n",
      "818/828\n",
      "819/828\n",
      "820/828\n",
      "821/828\n",
      "822/828\n",
      "823/828\n",
      "824/828\n",
      "825/828\n",
      "826/828\n",
      "827/828\n"
     ]
    }
   ],
   "source": [
    "for i, fpa_identifier in enumerate(mp3_fpa_df[\"fpa_identifier\"].unique()):\n",
    "\n",
    "    mask = mp3_fpa_df[\"fpa_identifier\"] == fpa_identifier\n",
    "    data_dir = data_path / (fpa_identifier + \".hdf5\")\n",
    "    I_MEAS = load_from_hdf_with_regex(file_path=data_dir, regex_list=[\"I_MEAS\"])[0]\n",
    "    \n",
    "    k, intercept, r, p, std_err = stats.linregress(I_MEAS.loc[-1:0].index.values, I_MEAS.loc[-1:0].values.reshape(-1))\n",
    "    mp3_fpa_df.loc[mask, \"dI_dt_from_data\"] = k #current change per second before quench\n",
    "    print(f\"{i}/{len(mp3_fpa_df['fpa_identifier'].unique())}\")"
   ]
  },
  {
   "cell_type": "code",
   "execution_count": 95,
   "id": "03a6b9cb",
   "metadata": {
    "pycharm": {
     "name": "#%%\n"
    },
    "scrolled": true
   },
   "outputs": [
    {
     "name": "stdout",
     "output_type": "stream",
     "text": [
      "8.361036199095\n"
     ]
    },
    {
     "data": {
      "image/png": "[encoded data removed]",
      "text/plain": [
       "<Figure size 432x288 with 1 Axes>"
      ]
     },
     "metadata": {
      "needs_background": "light"
     },
     "output_type": "display_data"
    }
   ],
   "source": [
    "fpa_identifier = \"RB_RB.A78_1636654131900000000\"\n",
    "mask = mp3_fpa_df[\"fpa_identifier\"] == fpa_identifier\n",
    "data_dir = data_path / (fpa_identifier + \".hdf5\")\n",
    "I_MEAS = load_from_hdf_with_regex(file_path=data_dir, regex_list=[\"I_MEAS\"])[0]\n",
    "\n",
    "k, intercept, r, p, std_err = stats.linregress(I_MEAS.loc[-1:0].index.values, I_MEAS.loc[-1:0].values.reshape(-1))\n",
    "\n",
    "x = I_MEAS.loc[-1:0].index.values\n",
    "I_MEAS.loc[-1:0].plot()\n",
    "plt.plot(x, x*k + intercept)\n",
    "print(k )"
   ]
  },
  {
   "cell_type": "code",
   "execution_count": 109,
   "id": "2b7b62ec",
   "metadata": {
    "pycharm": {
     "name": "#%%\n"
    }
   },
   "outputs": [
    {
     "data": {
      "text/plain": [
       "<matplotlib.axes._subplots.AxesSubplot at 0x7f99b37fb0d0>"
      ]
     },
     "execution_count": 109,
     "metadata": {},
     "output_type": "execute_result"
    },
    {
     "data": {
      "image/png": "[encoded data removed]",
      "text/plain": [
       "<Figure size 432x288 with 1 Axes>"
      ]
     },
     "metadata": {
      "needs_background": "light"
     },
     "output_type": "display_data"
    }
   ],
   "source": [
    "mp3_fpa_df['dI_dt_from_data'].hist()"
   ]
  },
  {
   "cell_type": "code",
   "execution_count": 111,
   "id": "1c7737db",
   "metadata": {
    "pycharm": {
     "name": "#%%\n"
    }
   },
   "outputs": [],
   "source": [
    "mp3_fpa_df.to_csv(f\"../data/RB_TC_extract_{date_suffix}_processed_filled.csv\")"
   ]
  },
  {
   "cell_type": "markdown",
   "id": "f9c52363",
   "metadata": {
    "pycharm": {
     "name": "#%% md\n"
    }
   },
   "source": [
    "# Edit Aqusition Summary"
   ]
  },
  {
   "cell_type": "code",
   "execution_count": null,
   "id": "c40ca5ab",
   "metadata": {
    "pycharm": {
     "name": "#%%\n"
    }
   },
   "outputs": [],
   "source": [
    "acquisition_summary_path = Path(\"../data/20220707_acquisition_summary.xlsx\")\n",
    "df_acquisition = pd.read_excel(acquisition_summary_path)"
   ]
  },
  {
   "cell_type": "code",
   "execution_count": null,
   "id": "783dccb6",
   "metadata": {
    "pycharm": {
     "name": "#%%\n"
    }
   },
   "outputs": [],
   "source": [
    "df_acquisition.to_excel(Path(\"../data/20220707_acquisition_summary1.xlsx\"))"
   ]
  },
  {
   "cell_type": "code",
   "execution_count": null,
   "id": "e6b0d8c6",
   "metadata": {
    "pycharm": {
     "name": "#%%\n"
    }
   },
   "outputs": [],
   "source": []
  }
 ],
 "metadata": {
  "kernelspec": {
   "display_name": "Python 3",
   "language": "python",
   "name": "python3"
  },
  "language_info": {
   "codemirror_mode": {
    "name": "ipython",
    "version": 3
   },
   "file_extension": ".py",
   "mimetype": "text/x-python",
   "name": "python",
   "nbconvert_exporter": "python",
   "pygments_lexer": "ipython3",
   "version": "3.9.12"
  },
  "sparkconnect": {
   "bundled_options": [
    "NXCALS",
    "SparkMetrics"
   ],
   "list_of_options": []
  }
 },
 "nbformat": 4,
 "nbformat_minor": 5
}
