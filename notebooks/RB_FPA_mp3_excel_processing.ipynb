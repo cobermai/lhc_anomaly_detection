{
 "cells": [
  {
   "cell_type": "markdown",
   "id": "eb1f8265",
   "metadata": {},
   "source": [
    "# Import libraries"
   ]
  },
  {
   "cell_type": "code",
   "execution_count": 1,
   "id": "f8332c67",
   "metadata": {},
   "outputs": [],
   "source": [
    "import sys\n",
    "from pathlib import Path\n",
    "sys.path.insert(0,'..')\n",
    "import glob\n",
    "#!pip install openpyxl"
   ]
  },
  {
   "cell_type": "code",
   "execution_count": 2,
   "id": "bade1960",
   "metadata": {},
   "outputs": [
    {
     "name": "stderr",
     "output_type": "stream",
     "text": [
      "`np.float` is a deprecated alias for the builtin `float`. To silence this warning, use `float` by itself. Doing this will not modify any behavior and is safe. If you specifically wanted the numpy scalar type, use `np.float64` here.\n",
      "Deprecated in NumPy 1.20; for more details and guidance: https://numpy.org/devdocs/release/1.20.0-notes.html#deprecations\n",
      "`np.float` is a deprecated alias for the builtin `float`. To silence this warning, use `float` by itself. Doing this will not modify any behavior and is safe. If you specifically wanted the numpy scalar type, use `np.float64` here.\n",
      "Deprecated in NumPy 1.20; for more details and guidance: https://numpy.org/devdocs/release/1.20.0-notes.html#deprecations\n",
      "`np.float` is a deprecated alias for the builtin `float`. To silence this warning, use `float` by itself. Doing this will not modify any behavior and is safe. If you specifically wanted the numpy scalar type, use `np.float64` here.\n",
      "Deprecated in NumPy 1.20; for more details and guidance: https://numpy.org/devdocs/release/1.20.0-notes.html#deprecations\n",
      "`np.float` is a deprecated alias for the builtin `float`. To silence this warning, use `float` by itself. Doing this will not modify any behavior and is safe. If you specifically wanted the numpy scalar type, use `np.float64` here.\n",
      "Deprecated in NumPy 1.20; for more details and guidance: https://numpy.org/devdocs/release/1.20.0-notes.html#deprecations\n",
      "`np.float` is a deprecated alias for the builtin `float`. To silence this warning, use `float` by itself. Doing this will not modify any behavior and is safe. If you specifically wanted the numpy scalar type, use `np.float64` here.\n",
      "Deprecated in NumPy 1.20; for more details and guidance: https://numpy.org/devdocs/release/1.20.0-notes.html#deprecations\n",
      "`np.float` is a deprecated alias for the builtin `float`. To silence this warning, use `float` by itself. Doing this will not modify any behavior and is safe. If you specifically wanted the numpy scalar type, use `np.float64` here.\n",
      "Deprecated in NumPy 1.20; for more details and guidance: https://numpy.org/devdocs/release/1.20.0-notes.html#deprecations\n",
      "`np.float` is a deprecated alias for the builtin `float`. To silence this warning, use `float` by itself. Doing this will not modify any behavior and is safe. If you specifically wanted the numpy scalar type, use `np.float64` here.\n",
      "Deprecated in NumPy 1.20; for more details and guidance: https://numpy.org/devdocs/release/1.20.0-notes.html#deprecations\n",
      "`np.float` is a deprecated alias for the builtin `float`. To silence this warning, use `float` by itself. Doing this will not modify any behavior and is safe. If you specifically wanted the numpy scalar type, use `np.float64` here.\n",
      "Deprecated in NumPy 1.20; for more details and guidance: https://numpy.org/devdocs/release/1.20.0-notes.html#deprecations\n",
      "`np.float` is a deprecated alias for the builtin `float`. To silence this warning, use `float` by itself. Doing this will not modify any behavior and is safe. If you specifically wanted the numpy scalar type, use `np.float64` here.\n",
      "Deprecated in NumPy 1.20; for more details and guidance: https://numpy.org/devdocs/release/1.20.0-notes.html#deprecations\n"
     ]
    }
   ],
   "source": [
    "import os\n",
    "import sys\n",
    "import pandas as pd\n",
    "import numpy as np\n",
    "import pickle\n",
    "import matplotlib.pyplot as plt\n",
    "import h5py\n",
    "import re\n",
    "\n",
    "from functools import partial\n",
    "from multiprocessing import Pool\n",
    "\n",
    "from lhcsmapi.Time import Time\n",
    "from lhcsmapi.Timer import Timer\n",
    "from scipy import signal\n",
    "from lhcsmapi.Time import Time\n",
    "from lhcsmapi.metadata import signal_metadata\n",
    "from lhcsmapi.pyedsl.dbsignal.post_mortem.PmDbRequest import PmDbRequest\n",
    "from lhcsmapi.analysis.RbCircuitQuery import RbCircuitQuery\n",
    "\n",
    "from src.utils.mp3_excel_processing import get_fgc_timestamp, get_fgc_timestamp_missing\n",
    "\n",
    "pd.set_option('display.max_rows', 200)\n",
    "import warnings\n",
    "warnings.filterwarnings('ignore')"
   ]
  },
  {
   "cell_type": "markdown",
   "id": "cff8ddbf",
   "metadata": {},
   "source": [
    "# Read the (clean) MP3 file"
   ]
  },
  {
   "cell_type": "code",
   "execution_count": null,
   "id": "6a252771",
   "metadata": {},
   "outputs": [],
   "source": []
  },
  {
   "cell_type": "code",
   "execution_count": 4,
   "id": "2878f743",
   "metadata": {},
   "outputs": [
    {
     "data": {
      "text/plain": [
       "4773"
      ]
     },
     "execution_count": 4,
     "metadata": {},
     "output_type": "execute_result"
    }
   ],
   "source": [
    "date_suffix = \"2022_07_07\"\n",
    "mp3_fpa_df_raw = pd.read_excel(f\"../data/RB_TC_extract_{date_suffix}.xlsx\")\n",
    "len(mp3_fpa_df_raw)"
   ]
  },
  {
   "cell_type": "code",
   "execution_count": 5,
   "id": "b8ea38de",
   "metadata": {},
   "outputs": [
    {
     "data": {
      "text/html": [
       "<div>\n",
       "<style scoped>\n",
       "    .dataframe tbody tr th:only-of-type {\n",
       "        vertical-align: middle;\n",
       "    }\n",
       "\n",
       "    .dataframe tbody tr th {\n",
       "        vertical-align: top;\n",
       "    }\n",
       "\n",
       "    .dataframe thead th {\n",
       "        text-align: right;\n",
       "    }\n",
       "</style>\n",
       "<table border=\"1\" class=\"dataframe\">\n",
       "  <thead>\n",
       "    <tr style=\"text-align: right;\">\n",
       "      <th></th>\n",
       "      <th>Circuit Name</th>\n",
       "      <th>Circuit Family</th>\n",
       "      <th>Period</th>\n",
       "      <th>Date (FGC)</th>\n",
       "      <th>Time (FGC)</th>\n",
       "      <th>FPA Reason</th>\n",
       "      <th>Timestamp_PIC</th>\n",
       "      <th>Delta_t(FGC-PIC)</th>\n",
       "      <th>Delta_t(EE_even-PIC)</th>\n",
       "      <th>Delta_t(EE_odd-PIC)</th>\n",
       "      <th>...</th>\n",
       "      <th>Outer cable type</th>\n",
       "      <th>I_Q_SM18</th>\n",
       "      <th>dI_Q_Acc</th>\n",
       "      <th>dI_Q_LHC</th>\n",
       "      <th>Comment</th>\n",
       "      <th>Analysis performed by</th>\n",
       "      <th>lhcsmapi version</th>\n",
       "      <th>lhcsm notebook version</th>\n",
       "      <th>Unnamed: 46</th>\n",
       "      <th>Unnamed: 47</th>\n",
       "    </tr>\n",
       "  </thead>\n",
       "  <tbody>\n",
       "    <tr>\n",
       "      <th>0</th>\n",
       "      <td>NaN</td>\n",
       "      <td>RB</td>\n",
       "      <td>NaN</td>\n",
       "      <td>2008-04-01 00:00:00</td>\n",
       "      <td>13:14:15</td>\n",
       "      <td>NaN</td>\n",
       "      <td>NaN</td>\n",
       "      <td>[ms]</td>\n",
       "      <td>[ms]</td>\n",
       "      <td>[ms]</td>\n",
       "      <td>...</td>\n",
       "      <td>NaN</td>\n",
       "      <td>[A]</td>\n",
       "      <td>[A]</td>\n",
       "      <td>[A]</td>\n",
       "      <td>NaN</td>\n",
       "      <td>NaN</td>\n",
       "      <td>NaN</td>\n",
       "      <td>NaN</td>\n",
       "      <td>NaN</td>\n",
       "      <td>NaN</td>\n",
       "    </tr>\n",
       "    <tr>\n",
       "      <th>1</th>\n",
       "      <td>RB.A12</td>\n",
       "      <td>RB</td>\n",
       "      <td>Before Notebooks</td>\n",
       "      <td>NaN</td>\n",
       "      <td>NaN</td>\n",
       "      <td>NaN</td>\n",
       "      <td>NaN</td>\n",
       "      <td>NaN</td>\n",
       "      <td>NaN</td>\n",
       "      <td>NaN</td>\n",
       "      <td>...</td>\n",
       "      <td>NaN</td>\n",
       "      <td>NaN</td>\n",
       "      <td>NaN</td>\n",
       "      <td>NaN</td>\n",
       "      <td>NaN</td>\n",
       "      <td>NaN</td>\n",
       "      <td>Before Notebooks</td>\n",
       "      <td>NaN</td>\n",
       "      <td>NaN</td>\n",
       "      <td>NaN</td>\n",
       "    </tr>\n",
       "    <tr>\n",
       "      <th>169</th>\n",
       "      <td>RB.A23</td>\n",
       "      <td>RB</td>\n",
       "      <td>Before Notebooks</td>\n",
       "      <td>NaN</td>\n",
       "      <td>NaN</td>\n",
       "      <td>NaN</td>\n",
       "      <td>NaN</td>\n",
       "      <td>NaN</td>\n",
       "      <td>NaN</td>\n",
       "      <td>NaN</td>\n",
       "      <td>...</td>\n",
       "      <td>NaN</td>\n",
       "      <td>NaN</td>\n",
       "      <td>NaN</td>\n",
       "      <td>NaN</td>\n",
       "      <td>NaN</td>\n",
       "      <td>NaN</td>\n",
       "      <td>Before Notebooks</td>\n",
       "      <td>NaN</td>\n",
       "      <td>NaN</td>\n",
       "      <td>NaN</td>\n",
       "    </tr>\n",
       "    <tr>\n",
       "      <th>264</th>\n",
       "      <td>RB.A34</td>\n",
       "      <td>RB</td>\n",
       "      <td>Before Notebooks</td>\n",
       "      <td>NaN</td>\n",
       "      <td>NaN</td>\n",
       "      <td>NaN</td>\n",
       "      <td>NaN</td>\n",
       "      <td>NaN</td>\n",
       "      <td>NaN</td>\n",
       "      <td>NaN</td>\n",
       "      <td>...</td>\n",
       "      <td>NaN</td>\n",
       "      <td>NaN</td>\n",
       "      <td>NaN</td>\n",
       "      <td>NaN</td>\n",
       "      <td>NaN</td>\n",
       "      <td>NaN</td>\n",
       "      <td>Before Notebooks</td>\n",
       "      <td>NaN</td>\n",
       "      <td>NaN</td>\n",
       "      <td>NaN</td>\n",
       "    </tr>\n",
       "    <tr>\n",
       "      <th>545</th>\n",
       "      <td>RB.A45</td>\n",
       "      <td>RB</td>\n",
       "      <td>Before Notebooks</td>\n",
       "      <td>NaN</td>\n",
       "      <td>NaN</td>\n",
       "      <td>NaN</td>\n",
       "      <td>NaN</td>\n",
       "      <td>NaN</td>\n",
       "      <td>NaN</td>\n",
       "      <td>NaN</td>\n",
       "      <td>...</td>\n",
       "      <td>NaN</td>\n",
       "      <td>NaN</td>\n",
       "      <td>NaN</td>\n",
       "      <td>NaN</td>\n",
       "      <td>NaN</td>\n",
       "      <td>NaN</td>\n",
       "      <td>Before Notebooks</td>\n",
       "      <td>NaN</td>\n",
       "      <td>NaN</td>\n",
       "      <td>NaN</td>\n",
       "    </tr>\n",
       "    <tr>\n",
       "      <th>897</th>\n",
       "      <td>RB.A56</td>\n",
       "      <td>RB</td>\n",
       "      <td>Before Notebooks</td>\n",
       "      <td>NaN</td>\n",
       "      <td>NaN</td>\n",
       "      <td>NaN</td>\n",
       "      <td>NaN</td>\n",
       "      <td>NaN</td>\n",
       "      <td>NaN</td>\n",
       "      <td>NaN</td>\n",
       "      <td>...</td>\n",
       "      <td>NaN</td>\n",
       "      <td>NaN</td>\n",
       "      <td>NaN</td>\n",
       "      <td>NaN</td>\n",
       "      <td>NaN</td>\n",
       "      <td>NaN</td>\n",
       "      <td>Before Notebooks</td>\n",
       "      <td>NaN</td>\n",
       "      <td>NaN</td>\n",
       "      <td>NaN</td>\n",
       "    </tr>\n",
       "    <tr>\n",
       "      <th>1146</th>\n",
       "      <td>RB.A67</td>\n",
       "      <td>RB</td>\n",
       "      <td>Before Notebooks</td>\n",
       "      <td>NaN</td>\n",
       "      <td>NaN</td>\n",
       "      <td>NaN</td>\n",
       "      <td>NaN</td>\n",
       "      <td>NaN</td>\n",
       "      <td>NaN</td>\n",
       "      <td>NaN</td>\n",
       "      <td>...</td>\n",
       "      <td>NaN</td>\n",
       "      <td>NaN</td>\n",
       "      <td>NaN</td>\n",
       "      <td>NaN</td>\n",
       "      <td>NaN</td>\n",
       "      <td>NaN</td>\n",
       "      <td>Before Notebooks</td>\n",
       "      <td>NaN</td>\n",
       "      <td>NaN</td>\n",
       "      <td>NaN</td>\n",
       "    </tr>\n",
       "    <tr>\n",
       "      <th>1268</th>\n",
       "      <td>RB.A78</td>\n",
       "      <td>RB</td>\n",
       "      <td>Before Notebooks</td>\n",
       "      <td>NaN</td>\n",
       "      <td>NaN</td>\n",
       "      <td>NaN</td>\n",
       "      <td>NaN</td>\n",
       "      <td>NaN</td>\n",
       "      <td>NaN</td>\n",
       "      <td>NaN</td>\n",
       "      <td>...</td>\n",
       "      <td>NaN</td>\n",
       "      <td>NaN</td>\n",
       "      <td>NaN</td>\n",
       "      <td>NaN</td>\n",
       "      <td>NaN</td>\n",
       "      <td>NaN</td>\n",
       "      <td>Before Notebooks</td>\n",
       "      <td>NaN</td>\n",
       "      <td>NaN</td>\n",
       "      <td>NaN</td>\n",
       "    </tr>\n",
       "    <tr>\n",
       "      <th>1430</th>\n",
       "      <td>RB.A81</td>\n",
       "      <td>RB</td>\n",
       "      <td>Before Notebooks</td>\n",
       "      <td>NaN</td>\n",
       "      <td>NaN</td>\n",
       "      <td>NaN</td>\n",
       "      <td>NaN</td>\n",
       "      <td>NaN</td>\n",
       "      <td>NaN</td>\n",
       "      <td>NaN</td>\n",
       "      <td>...</td>\n",
       "      <td>NaN</td>\n",
       "      <td>NaN</td>\n",
       "      <td>NaN</td>\n",
       "      <td>NaN</td>\n",
       "      <td>NaN</td>\n",
       "      <td>NaN</td>\n",
       "      <td>Before Notebooks</td>\n",
       "      <td>NaN</td>\n",
       "      <td>NaN</td>\n",
       "      <td>NaN</td>\n",
       "    </tr>\n",
       "    <tr>\n",
       "      <th>1581</th>\n",
       "      <td>NaN</td>\n",
       "      <td>RB</td>\n",
       "      <td>After Notebooks</td>\n",
       "      <td>NaN</td>\n",
       "      <td>NaN</td>\n",
       "      <td>NaN</td>\n",
       "      <td>NaN</td>\n",
       "      <td>NaN</td>\n",
       "      <td>NaN</td>\n",
       "      <td>NaN</td>\n",
       "      <td>...</td>\n",
       "      <td>NaN</td>\n",
       "      <td>NaN</td>\n",
       "      <td>NaN</td>\n",
       "      <td>NaN</td>\n",
       "      <td>NaN</td>\n",
       "      <td>NaN</td>\n",
       "      <td>After Notebooks</td>\n",
       "      <td>NaN</td>\n",
       "      <td>NaN</td>\n",
       "      <td>NaN</td>\n",
       "    </tr>\n",
       "  </tbody>\n",
       "</table>\n",
       "<p>10 rows × 48 columns</p>\n",
       "</div>"
      ],
      "text/plain": [
       "     Circuit Name Circuit Family            Period           Date (FGC)  \\\n",
       "0             NaN             RB               NaN  2008-04-01 00:00:00   \n",
       "1          RB.A12             RB  Before Notebooks                  NaN   \n",
       "169        RB.A23             RB  Before Notebooks                  NaN   \n",
       "264        RB.A34             RB  Before Notebooks                  NaN   \n",
       "545        RB.A45             RB  Before Notebooks                  NaN   \n",
       "897        RB.A56             RB  Before Notebooks                  NaN   \n",
       "1146       RB.A67             RB  Before Notebooks                  NaN   \n",
       "1268       RB.A78             RB  Before Notebooks                  NaN   \n",
       "1430       RB.A81             RB  Before Notebooks                  NaN   \n",
       "1581          NaN             RB   After Notebooks                  NaN   \n",
       "\n",
       "     Time (FGC) FPA Reason Timestamp_PIC Delta_t(FGC-PIC)  \\\n",
       "0      13:14:15        NaN           NaN             [ms]   \n",
       "1           NaN        NaN           NaN              NaN   \n",
       "169         NaN        NaN           NaN              NaN   \n",
       "264         NaN        NaN           NaN              NaN   \n",
       "545         NaN        NaN           NaN              NaN   \n",
       "897         NaN        NaN           NaN              NaN   \n",
       "1146        NaN        NaN           NaN              NaN   \n",
       "1268        NaN        NaN           NaN              NaN   \n",
       "1430        NaN        NaN           NaN              NaN   \n",
       "1581        NaN        NaN           NaN              NaN   \n",
       "\n",
       "     Delta_t(EE_even-PIC) Delta_t(EE_odd-PIC)  ... Outer cable type I_Q_SM18  \\\n",
       "0                    [ms]                [ms]  ...              NaN      [A]   \n",
       "1                     NaN                 NaN  ...              NaN      NaN   \n",
       "169                   NaN                 NaN  ...              NaN      NaN   \n",
       "264                   NaN                 NaN  ...              NaN      NaN   \n",
       "545                   NaN                 NaN  ...              NaN      NaN   \n",
       "897                   NaN                 NaN  ...              NaN      NaN   \n",
       "1146                  NaN                 NaN  ...              NaN      NaN   \n",
       "1268                  NaN                 NaN  ...              NaN      NaN   \n",
       "1430                  NaN                 NaN  ...              NaN      NaN   \n",
       "1581                  NaN                 NaN  ...              NaN      NaN   \n",
       "\n",
       "     dI_Q_Acc dI_Q_LHC Comment Analysis performed by  lhcsmapi version  \\\n",
       "0         [A]      [A]     NaN                   NaN               NaN   \n",
       "1         NaN      NaN     NaN                   NaN  Before Notebooks   \n",
       "169       NaN      NaN     NaN                   NaN  Before Notebooks   \n",
       "264       NaN      NaN     NaN                   NaN  Before Notebooks   \n",
       "545       NaN      NaN     NaN                   NaN  Before Notebooks   \n",
       "897       NaN      NaN     NaN                   NaN  Before Notebooks   \n",
       "1146      NaN      NaN     NaN                   NaN  Before Notebooks   \n",
       "1268      NaN      NaN     NaN                   NaN  Before Notebooks   \n",
       "1430      NaN      NaN     NaN                   NaN  Before Notebooks   \n",
       "1581      NaN      NaN     NaN                   NaN   After Notebooks   \n",
       "\n",
       "     lhcsm notebook version Unnamed: 46 Unnamed: 47  \n",
       "0                       NaN         NaN         NaN  \n",
       "1                       NaN         NaN         NaN  \n",
       "169                     NaN         NaN         NaN  \n",
       "264                     NaN         NaN         NaN  \n",
       "545                     NaN         NaN         NaN  \n",
       "897                     NaN         NaN         NaN  \n",
       "1146                    NaN         NaN         NaN  \n",
       "1268                    NaN         NaN         NaN  \n",
       "1430                    NaN         NaN         NaN  \n",
       "1581                    NaN         NaN         NaN  \n",
       "\n",
       "[10 rows x 48 columns]"
      ]
     },
     "execution_count": 5,
     "metadata": {},
     "output_type": "execute_result"
    }
   ],
   "source": [
    "# First row contains units, 9 rows contain only \"Before Notebooks\" and \"After Notebooks\" information, which need to be droped\n",
    "mp3_fpa_df = mp3_fpa_df_raw.dropna(subset = ['Date (FGC)', 'Circuit Name'])\n",
    "mp3_fpa_df_raw.iloc[~mp3_fpa_df_raw.index.isin(mp3_fpa_df.index)] #show droped rows"
   ]
  },
  {
   "cell_type": "markdown",
   "id": "a7f49d93",
   "metadata": {},
   "source": [
    "# Find FGC timestamp for each FPA event in MP3 excel"
   ]
  },
  {
   "cell_type": "code",
   "execution_count": 6,
   "id": "e68d4e9b",
   "metadata": {},
   "outputs": [],
   "source": [
    "mp3_fpa_df['timestamp_fgc'] = mp3_fpa_df.apply(get_fgc_timestamp, axis=1)"
   ]
  },
  {
   "cell_type": "markdown",
   "id": "75eabcb9",
   "metadata": {},
   "source": [
    "# Find missing fgc timestamps in mp3 file"
   ]
  },
  {
   "cell_type": "code",
   "execution_count": 7,
   "id": "a52d2836",
   "metadata": {},
   "outputs": [],
   "source": [
    "# some fgc timestamps have wrong hours\n",
    "mp3_fpa_df_primary_missing = mp3_fpa_df[(mp3_fpa_df.timestamp_fgc.isna()) & (mp3_fpa_df['Nr in Q event'] == 1)]\n",
    "mp3_fpa_df_primary_missing['timestamp_fgc'] = mp3_fpa_df_primary_missing.apply(get_fgc_timestamp_missing, axis=1)\n",
    "found_fgc_timestamps_df = mp3_fpa_df_primary_missing[\"timestamp_fgc\"].dropna()\n",
    "mp3_fpa_df.loc[found_fgc_timestamps_df.index, \"timestamp_fgc\"] = mp3_fpa_df_primary_missing[\"timestamp_fgc\"].dropna().values"
   ]
  },
  {
   "cell_type": "code",
   "execution_count": 8,
   "id": "07d5f072",
   "metadata": {},
   "outputs": [
    {
     "name": "stdout",
     "output_type": "stream",
     "text": [
      "4763 unique fgc events\n",
      "986 mp3 primary quench entries\n"
     ]
    }
   ],
   "source": [
    "print(f\"{len(mp3_fpa_df)} unique fgc events\") # 841 Primary quenches?\n",
    "print(f\"{len(mp3_fpa_df[mp3_fpa_df['Nr in Q event']==1])} mp3 primary quench entries\") # 834 primary quenches with correct notes"
   ]
  },
  {
   "cell_type": "code",
   "execution_count": 9,
   "id": "56c36cb2",
   "metadata": {},
   "outputs": [],
   "source": [
    "mp3_fpa_df.to_csv(f\"../data/RB_TC_extract_{date_suffix}_processed1.csv\")"
   ]
  },
  {
   "cell_type": "markdown",
   "id": "3ffafb28",
   "metadata": {},
   "source": [
    "# Select events to add features"
   ]
  },
  {
   "cell_type": "code",
   "execution_count": 10,
   "id": "a906173b",
   "metadata": {},
   "outputs": [],
   "source": [
    "mp3_fpa_df = pd.read_csv(\"../data/RB_TC_extract_2021_11_22_processed.csv\")\n",
    "mp3_fpa_df_unique = mp3_fpa_df.drop_duplicates(subset=['timestamp_fgc', 'Circuit Name'])\n",
    "\n",
    "# Time.to_string(1514761200000000000), Time.to_unix_timestamp('2018-01-01 00:00:00+01:00')\n",
    "lower_limit = Time.to_unix_timestamp('2014-01-01 00:00:00+01:00')\n",
    "mp3_fpa_df_period = mp3_fpa_df_unique[mp3_fpa_df_unique['timestamp_fgc'] >= lower_limit].reset_index(drop=True) \n",
    "\n",
    "mp3_fpa_df_to_download = mp3_fpa_df_period[mp3_fpa_df_period['Delta_t(iQPS-PIC)'].isna()]"
   ]
  },
  {
   "cell_type": "markdown",
   "id": "651835dc",
   "metadata": {},
   "source": [
    "# Add Delta_t(iQPS-PIC) timestamp"
   ]
  },
  {
   "cell_type": "markdown",
   "id": "0955e076",
   "metadata": {},
   "source": [
    "for index, row in mp3_fpa_df_to_download.iterrows():\n",
    "\n",
    "    loc_mask = (mp3_fpa_df.timestamp_fgc == row['timestamp_fgc']) & (mp3_fpa_df[\"Circuit Name\"] == row['Circuit Name'])\n",
    "\n",
    "    rb_query = RbCircuitQuery(row['Circuit Family'], row['Circuit Name'], max_executions=45)\n",
    "    timestamp_pic = rb_query.find_timestamp_pic(int(row['timestamp_fgc']), spark=spark)\n",
    "    source_timestamp_qds_df = rb_query.find_source_timestamp_qds(int(row['timestamp_fgc']), duration=[(50, 's'), (500, 's')])\n",
    "\n",
    "    mp3_fpa_df.loc[loc_mask, 'Delta_t(iQPS-PIC)'] = 1e-6 * (source_timestamp_qds_df['timestamp'].values - min(timestamp_pic))\n"
   ]
  },
  {
   "cell_type": "markdown",
   "id": "6e9849d9",
   "metadata": {},
   "source": [
    "mp3_fpa_df.to_csv(f\"../data/RB_TC_extract_{date_suffix}_processed_filled1.csv\")"
   ]
  },
  {
   "cell_type": "markdown",
   "id": "7223cf7a",
   "metadata": {},
   "source": [
    "# Add EE features"
   ]
  },
  {
   "cell_type": "code",
   "execution_count": 41,
   "id": "8981baca",
   "metadata": {},
   "outputs": [
    {
     "data": {
      "text/html": [
       "<text style=color:blue>Executing RB.A12 query function find_source_timestamp_ee: 1/45.</text>"
      ],
      "text/plain": [
       "<IPython.core.display.HTML object>"
      ]
     },
     "metadata": {},
     "output_type": "display_data"
    },
    {
     "name": "stdout",
     "output_type": "stream",
     "text": [
      "\tQuerying PM event timestamps for system: QPS, className: DQAMSNRB, source: UA23.RB.A12 from 2014-12-11 21:45:04.580 to 2014-12-11 22:01:54.580\n"
     ]
    },
    {
     "data": {
      "text/html": [
       "<text style=color:blue>Executing RB.A12 query function query_ee_u_dump_res_pm: 2/45.</text>"
      ],
      "text/plain": [
       "<IPython.core.display.HTML object>"
      ]
     },
     "metadata": {},
     "output_type": "display_data"
    },
    {
     "name": "stdout",
     "output_type": "stream",
     "text": [
      "\tQuerying PM event signal(s) UA23.RB.A12:U_DUMP_RES for system: QPS, className: DQAMSNRB, source: UA23.RB.A12 at 2014-12-11 21:45:15.124\n"
     ]
    },
    {
     "data": {
      "text/html": [
       "<text style=color:blue>Executing RB.A12 query function find_source_timestamp_ee: 3/45.</text>"
      ],
      "text/plain": [
       "<IPython.core.display.HTML object>"
      ]
     },
     "metadata": {},
     "output_type": "display_data"
    },
    {
     "name": "stdout",
     "output_type": "stream",
     "text": [
      "\tQuerying PM event timestamps for system: QPS, className: DQAMSNRB, source: RR17.RB.A12 from 2014-12-11 21:45:04.580 to 2014-12-11 22:01:54.580\n"
     ]
    },
    {
     "data": {
      "text/html": [
       "<text style=color:blue>Executing RB.A12 query function query_ee_u_dump_res_pm: 4/45.</text>"
      ],
      "text/plain": [
       "<IPython.core.display.HTML object>"
      ]
     },
     "metadata": {},
     "output_type": "display_data"
    },
    {
     "name": "stdout",
     "output_type": "stream",
     "text": [
      "\tQuerying PM event signal(s) RR17.RB.A12:U_DUMP_RES for system: QPS, className: DQAMSNRB, source: RR17.RB.A12 at 2014-12-11 21:45:14.877\n"
     ]
    },
    {
     "data": {
      "text/html": [
       "<text style=color:blue>Executing RB.A12 query function find_timestamp_pic: 5/45.</text>"
      ],
      "text/plain": [
       "<IPython.core.display.HTML object>"
      ]
     },
     "metadata": {},
     "output_type": "display_data"
    },
    {
     "name": "stdout",
     "output_type": "stream",
     "text": [
      "\tQuerying NXCALS signal(s) RB.A12.ODD:ST_ABORT_PIC, RB.A12.EVEN:ST_ABORT_PIC from 2014-12-11 21:45:13.580 to 2014-12-11 21:46:14.580\n"
     ]
    },
    {
     "data": {
      "text/html": [
       "<text style=color:blue>Executing RB.A12 query function find_source_timestamp_qds: 6/45.</text>"
      ],
      "text/plain": [
       "<IPython.core.display.HTML object>"
      ]
     },
     "metadata": {},
     "output_type": "display_data"
    },
    {
     "name": "stdout",
     "output_type": "stream",
     "text": [
      "\tQuerying PM event timestamps for system: QPS, className: DQAMCNMB_PMSTD, source: * from 2014-12-11 21:44:24.580 to 2014-12-11 21:53:34.580\n"
     ]
    },
    {
     "data": {
      "text/html": [
       "<text style=color:blue>Executing RB.A12 query function find_source_timestamp_ee: 1/45.</text>"
      ],
      "text/plain": [
       "<IPython.core.display.HTML object>"
      ]
     },
     "metadata": {},
     "output_type": "display_data"
    },
    {
     "name": "stdout",
     "output_type": "stream",
     "text": [
      "\tQuerying PM event timestamps for system: QPS, className: DQAMSNRB, source: UA23.RB.A12 from 2014-12-12 12:45:54.500 to 2014-12-12 13:02:44.500\n"
     ]
    },
    {
     "data": {
      "text/html": [
       "<text style=color:blue>Executing RB.A12 query function query_ee_u_dump_res_pm: 2/45.</text>"
      ],
      "text/plain": [
       "<IPython.core.display.HTML object>"
      ]
     },
     "metadata": {},
     "output_type": "display_data"
    },
    {
     "name": "stdout",
     "output_type": "stream",
     "text": [
      "\tQuerying PM event signal(s) UA23.RB.A12:U_DUMP_RES for system: QPS, className: DQAMSNRB, source: UA23.RB.A12 at 2014-12-12 12:46:05.065\n"
     ]
    },
    {
     "data": {
      "text/html": [
       "<text style=color:blue>Executing RB.A12 query function find_source_timestamp_ee: 3/45.</text>"
      ],
      "text/plain": [
       "<IPython.core.display.HTML object>"
      ]
     },
     "metadata": {},
     "output_type": "display_data"
    },
    {
     "name": "stdout",
     "output_type": "stream",
     "text": [
      "\tQuerying PM event timestamps for system: QPS, className: DQAMSNRB, source: RR17.RB.A12 from 2014-12-12 12:45:54.500 to 2014-12-12 13:02:44.500\n"
     ]
    },
    {
     "data": {
      "text/html": [
       "<text style=color:blue>Executing RB.A12 query function query_ee_u_dump_res_pm: 4/45.</text>"
      ],
      "text/plain": [
       "<IPython.core.display.HTML object>"
      ]
     },
     "metadata": {},
     "output_type": "display_data"
    },
    {
     "name": "stdout",
     "output_type": "stream",
     "text": [
      "\tQuerying PM event signal(s) RR17.RB.A12:U_DUMP_RES for system: QPS, className: DQAMSNRB, source: RR17.RB.A12 at 2014-12-12 12:46:04.817\n"
     ]
    },
    {
     "data": {
      "text/html": [
       "<text style=color:blue>Executing RB.A12 query function find_timestamp_pic: 5/45.</text>"
      ],
      "text/plain": [
       "<IPython.core.display.HTML object>"
      ]
     },
     "metadata": {},
     "output_type": "display_data"
    },
    {
     "name": "stdout",
     "output_type": "stream",
     "text": [
      "\tQuerying NXCALS signal(s) RB.A12.ODD:ST_ABORT_PIC, RB.A12.EVEN:ST_ABORT_PIC from 2014-12-12 12:46:03.500 to 2014-12-12 12:47:04.500\n"
     ]
    },
    {
     "data": {
      "text/html": [
       "<text style=color:blue>Executing RB.A12 query function find_source_timestamp_qds: 6/45.</text>"
      ],
      "text/plain": [
       "<IPython.core.display.HTML object>"
      ]
     },
     "metadata": {},
     "output_type": "display_data"
    },
    {
     "name": "stdout",
     "output_type": "stream",
     "text": [
      "\tQuerying PM event timestamps for system: QPS, className: DQAMCNMB_PMSTD, source: * from 2014-12-12 12:45:14.500 to 2014-12-12 12:54:24.500\n"
     ]
    },
    {
     "data": {
      "text/html": [
       "<text style=color:blue>Executing RB.A12 query function find_source_timestamp_ee: 1/45.</text>"
      ],
      "text/plain": [
       "<IPython.core.display.HTML object>"
      ]
     },
     "metadata": {},
     "output_type": "display_data"
    },
    {
     "name": "stdout",
     "output_type": "stream",
     "text": [
      "\tQuerying PM event timestamps for system: QPS, className: DQAMSNRB, source: UA23.RB.A12 from 2014-12-13 16:31:00.560 to 2014-12-13 16:47:50.560\n"
     ]
    },
    {
     "data": {
      "text/html": [
       "<text style=color:blue>Executing RB.A12 query function query_ee_u_dump_res_pm: 2/45.</text>"
      ],
      "text/plain": [
       "<IPython.core.display.HTML object>"
      ]
     },
     "metadata": {},
     "output_type": "display_data"
    },
    {
     "name": "stdout",
     "output_type": "stream",
     "text": [
      "\tQuerying PM event signal(s) UA23.RB.A12:U_DUMP_RES for system: QPS, className: DQAMSNRB, source: UA23.RB.A12 at 2014-12-13 16:31:11.113\n"
     ]
    },
    {
     "data": {
      "text/html": [
       "<text style=color:blue>Executing RB.A12 query function find_source_timestamp_ee: 3/45.</text>"
      ],
      "text/plain": [
       "<IPython.core.display.HTML object>"
      ]
     },
     "metadata": {},
     "output_type": "display_data"
    },
    {
     "name": "stdout",
     "output_type": "stream",
     "text": [
      "\tQuerying PM event timestamps for system: QPS, className: DQAMSNRB, source: RR17.RB.A12 from 2014-12-13 16:31:00.560 to 2014-12-13 16:47:50.560\n"
     ]
    },
    {
     "data": {
      "text/html": [
       "<text style=color:blue>Executing RB.A12 query function query_ee_u_dump_res_pm: 4/45.</text>"
      ],
      "text/plain": [
       "<IPython.core.display.HTML object>"
      ]
     },
     "metadata": {},
     "output_type": "display_data"
    },
    {
     "name": "stdout",
     "output_type": "stream",
     "text": [
      "\tQuerying PM event signal(s) RR17.RB.A12:U_DUMP_RES for system: QPS, className: DQAMSNRB, source: RR17.RB.A12 at 2014-12-13 16:31:10.865\n"
     ]
    },
    {
     "data": {
      "text/html": [
       "<text style=color:blue>Executing RB.A12 query function find_timestamp_pic: 5/45.</text>"
      ],
      "text/plain": [
       "<IPython.core.display.HTML object>"
      ]
     },
     "metadata": {},
     "output_type": "display_data"
    },
    {
     "name": "stdout",
     "output_type": "stream",
     "text": [
      "\tQuerying NXCALS signal(s) RB.A12.ODD:ST_ABORT_PIC, RB.A12.EVEN:ST_ABORT_PIC from 2014-12-13 16:31:09.560 to 2014-12-13 16:32:10.560\n"
     ]
    },
    {
     "data": {
      "text/html": [
       "<text style=color:blue>Executing RB.A12 query function find_source_timestamp_qds: 6/45.</text>"
      ],
      "text/plain": [
       "<IPython.core.display.HTML object>"
      ]
     },
     "metadata": {},
     "output_type": "display_data"
    },
    {
     "name": "stdout",
     "output_type": "stream",
     "text": [
      "\tQuerying PM event timestamps for system: QPS, className: DQAMCNMB_PMSTD, source: * from 2014-12-13 16:30:20.560 to 2014-12-13 16:39:30.560\n"
     ]
    },
    {
     "data": {
      "text/html": [
       "<text style=color:blue>Executing RB.A12 query function find_source_timestamp_ee: 1/45.</text>"
      ],
      "text/plain": [
       "<IPython.core.display.HTML object>"
      ]
     },
     "metadata": {},
     "output_type": "display_data"
    },
    {
     "name": "stdout",
     "output_type": "stream",
     "text": [
      "\tQuerying PM event timestamps for system: QPS, className: DQAMSNRB, source: UA23.RB.A12 from 2014-12-14 07:33:24.280 to 2014-12-14 07:50:14.280\n"
     ]
    },
    {
     "data": {
      "text/html": [
       "<text style=color:blue>Executing RB.A12 query function query_ee_u_dump_res_pm: 2/45.</text>"
      ],
      "text/plain": [
       "<IPython.core.display.HTML object>"
      ]
     },
     "metadata": {},
     "output_type": "display_data"
    },
    {
     "name": "stdout",
     "output_type": "stream",
     "text": [
      "\tQuerying PM event signal(s) UA23.RB.A12:U_DUMP_RES for system: QPS, className: DQAMSNRB, source: UA23.RB.A12 at 2014-12-14 07:33:34.829\n"
     ]
    },
    {
     "data": {
      "text/html": [
       "<text style=color:blue>Executing RB.A12 query function find_source_timestamp_ee: 3/45.</text>"
      ],
      "text/plain": [
       "<IPython.core.display.HTML object>"
      ]
     },
     "metadata": {},
     "output_type": "display_data"
    },
    {
     "name": "stdout",
     "output_type": "stream",
     "text": [
      "\tQuerying PM event timestamps for system: QPS, className: DQAMSNRB, source: RR17.RB.A12 from 2014-12-14 07:33:24.280 to 2014-12-14 07:50:14.280\n"
     ]
    },
    {
     "data": {
      "text/html": [
       "<text style=color:blue>Executing RB.A12 query function query_ee_u_dump_res_pm: 4/45.</text>"
      ],
      "text/plain": [
       "<IPython.core.display.HTML object>"
      ]
     },
     "metadata": {},
     "output_type": "display_data"
    },
    {
     "name": "stdout",
     "output_type": "stream",
     "text": [
      "\tQuerying PM event signal(s) RR17.RB.A12:U_DUMP_RES for system: QPS, className: DQAMSNRB, source: RR17.RB.A12 at 2014-12-14 07:33:34.584\n"
     ]
    },
    {
     "data": {
      "text/html": [
       "<text style=color:blue>Executing RB.A12 query function find_timestamp_pic: 5/45.</text>"
      ],
      "text/plain": [
       "<IPython.core.display.HTML object>"
      ]
     },
     "metadata": {},
     "output_type": "display_data"
    },
    {
     "name": "stdout",
     "output_type": "stream",
     "text": [
      "\tQuerying NXCALS signal(s) RB.A12.ODD:ST_ABORT_PIC, RB.A12.EVEN:ST_ABORT_PIC from 2014-12-14 07:33:33.280 to 2014-12-14 07:34:34.280\n"
     ]
    },
    {
     "data": {
      "text/html": [
       "<text style=color:blue>Executing RB.A12 query function find_source_timestamp_qds: 6/45.</text>"
      ],
      "text/plain": [
       "<IPython.core.display.HTML object>"
      ]
     },
     "metadata": {},
     "output_type": "display_data"
    },
    {
     "name": "stdout",
     "output_type": "stream",
     "text": [
      "\tQuerying PM event timestamps for system: QPS, className: DQAMCNMB_PMSTD, source: * from 2014-12-14 07:32:44.280 to 2014-12-14 07:41:54.280\n"
     ]
    },
    {
     "data": {
      "text/html": [
       "<text style=color:blue>Executing RB.A12 query function find_source_timestamp_ee: 1/45.</text>"
      ],
      "text/plain": [
       "<IPython.core.display.HTML object>"
      ]
     },
     "metadata": {},
     "output_type": "display_data"
    },
    {
     "name": "stdout",
     "output_type": "stream",
     "text": [
      "\tQuerying PM event timestamps for system: QPS, className: DQAMSNRB, source: UA23.RB.A12 from 2014-12-14 13:40:43.860 to 2014-12-14 13:57:33.860\n"
     ]
    },
    {
     "data": {
      "text/html": [
       "<text style=color:blue>Executing RB.A12 query function query_ee_u_dump_res_pm: 2/45.</text>"
      ],
      "text/plain": [
       "<IPython.core.display.HTML object>"
      ]
     },
     "metadata": {},
     "output_type": "display_data"
    },
    {
     "name": "stdout",
     "output_type": "stream",
     "text": [
      "\tQuerying PM event signal(s) UA23.RB.A12:U_DUMP_RES for system: QPS, className: DQAMSNRB, source: UA23.RB.A12 at 2014-12-14 13:40:54.413\n"
     ]
    },
    {
     "data": {
      "text/html": [
       "<text style=color:blue>Executing RB.A12 query function find_source_timestamp_ee: 3/45.</text>"
      ],
      "text/plain": [
       "<IPython.core.display.HTML object>"
      ]
     },
     "metadata": {},
     "output_type": "display_data"
    },
    {
     "name": "stdout",
     "output_type": "stream",
     "text": [
      "\tQuerying PM event timestamps for system: QPS, className: DQAMSNRB, source: RR17.RB.A12 from 2014-12-14 13:40:43.860 to 2014-12-14 13:57:33.860\n"
     ]
    },
    {
     "data": {
      "text/html": [
       "<text style=color:blue>Executing RB.A12 query function query_ee_u_dump_res_pm: 4/45.</text>"
      ],
      "text/plain": [
       "<IPython.core.display.HTML object>"
      ]
     },
     "metadata": {},
     "output_type": "display_data"
    },
    {
     "name": "stdout",
     "output_type": "stream",
     "text": [
      "\tQuerying PM event signal(s) RR17.RB.A12:U_DUMP_RES for system: QPS, className: DQAMSNRB, source: RR17.RB.A12 at 2014-12-14 13:40:54.170\n"
     ]
    },
    {
     "data": {
      "text/html": [
       "<text style=color:blue>Executing RB.A12 query function find_timestamp_pic: 5/45.</text>"
      ],
      "text/plain": [
       "<IPython.core.display.HTML object>"
      ]
     },
     "metadata": {},
     "output_type": "display_data"
    },
    {
     "name": "stdout",
     "output_type": "stream",
     "text": [
      "\tQuerying NXCALS signal(s) RB.A12.ODD:ST_ABORT_PIC, RB.A12.EVEN:ST_ABORT_PIC from 2014-12-14 13:40:52.860 to 2014-12-14 13:41:53.860\n"
     ]
    },
    {
     "data": {
      "text/html": [
       "<text style=color:blue>Executing RB.A12 query function find_source_timestamp_qds: 6/45.</text>"
      ],
      "text/plain": [
       "<IPython.core.display.HTML object>"
      ]
     },
     "metadata": {},
     "output_type": "display_data"
    },
    {
     "name": "stdout",
     "output_type": "stream",
     "text": [
      "\tQuerying PM event timestamps for system: QPS, className: DQAMCNMB_PMSTD, source: * from 2014-12-14 13:40:03.860 to 2014-12-14 13:49:13.860\n"
     ]
    },
    {
     "data": {
      "text/html": [
       "<text style=color:blue>Executing RB.A12 query function find_source_timestamp_ee: 1/45.</text>"
      ],
      "text/plain": [
       "<IPython.core.display.HTML object>"
      ]
     },
     "metadata": {},
     "output_type": "display_data"
    },
    {
     "name": "stdout",
     "output_type": "stream",
     "text": [
      "\tQuerying PM event timestamps for system: QPS, className: DQAMSNRB, source: UA23.RB.A12 from 2014-12-14 22:48:59.920 to 2014-12-14 23:05:49.920\n"
     ]
    },
    {
     "data": {
      "text/html": [
       "<text style=color:blue>Executing RB.A12 query function query_ee_u_dump_res_pm: 2/45.</text>"
      ],
      "text/plain": [
       "<IPython.core.display.HTML object>"
      ]
     },
     "metadata": {},
     "output_type": "display_data"
    },
    {
     "name": "stdout",
     "output_type": "stream",
     "text": [
      "\tQuerying PM event signal(s) UA23.RB.A12:U_DUMP_RES for system: QPS, className: DQAMSNRB, source: UA23.RB.A12 at 2014-12-14 22:49:10.467\n"
     ]
    },
    {
     "data": {
      "text/html": [
       "<text style=color:blue>Executing RB.A12 query function find_source_timestamp_ee: 3/45.</text>"
      ],
      "text/plain": [
       "<IPython.core.display.HTML object>"
      ]
     },
     "metadata": {},
     "output_type": "display_data"
    },
    {
     "name": "stdout",
     "output_type": "stream",
     "text": [
      "\tQuerying PM event timestamps for system: QPS, className: DQAMSNRB, source: RR17.RB.A12 from 2014-12-14 22:48:59.920 to 2014-12-14 23:05:49.920\n"
     ]
    },
    {
     "data": {
      "text/html": [
       "<text style=color:blue>Executing RB.A12 query function query_ee_u_dump_res_pm: 4/45.</text>"
      ],
      "text/plain": [
       "<IPython.core.display.HTML object>"
      ]
     },
     "metadata": {},
     "output_type": "display_data"
    },
    {
     "name": "stdout",
     "output_type": "stream",
     "text": [
      "\tQuerying PM event signal(s) RR17.RB.A12:U_DUMP_RES for system: QPS, className: DQAMSNRB, source: RR17.RB.A12 at 2014-12-14 22:49:10.221\n"
     ]
    },
    {
     "data": {
      "text/html": [
       "<text style=color:blue>Executing RB.A12 query function find_timestamp_pic: 5/45.</text>"
      ],
      "text/plain": [
       "<IPython.core.display.HTML object>"
      ]
     },
     "metadata": {},
     "output_type": "display_data"
    },
    {
     "name": "stdout",
     "output_type": "stream",
     "text": [
      "\tQuerying NXCALS signal(s) RB.A12.ODD:ST_ABORT_PIC, RB.A12.EVEN:ST_ABORT_PIC from 2014-12-14 22:49:08.920 to 2014-12-14 22:50:09.920\n"
     ]
    },
    {
     "data": {
      "text/html": [
       "<text style=color:blue>Executing RB.A12 query function find_source_timestamp_qds: 6/45.</text>"
      ],
      "text/plain": [
       "<IPython.core.display.HTML object>"
      ]
     },
     "metadata": {},
     "output_type": "display_data"
    },
    {
     "name": "stdout",
     "output_type": "stream",
     "text": [
      "\tQuerying PM event timestamps for system: QPS, className: DQAMCNMB_PMSTD, source: * from 2014-12-14 22:48:19.920 to 2014-12-14 22:57:29.920\n"
     ]
    },
    {
     "data": {
      "text/html": [
       "<text style=color:blue>Executing RB.A12 query function find_source_timestamp_ee: 1/45.</text>"
      ],
      "text/plain": [
       "<IPython.core.display.HTML object>"
      ]
     },
     "metadata": {},
     "output_type": "display_data"
    },
    {
     "name": "stdout",
     "output_type": "stream",
     "text": [
      "\tQuerying PM event timestamps for system: QPS, className: DQAMSNRB, source: UA23.RB.A12 from 2014-12-15 07:54:34.100 to 2014-12-15 08:11:24.100\n"
     ]
    },
    {
     "data": {
      "text/html": [
       "<text style=color:blue>Executing RB.A12 query function query_ee_u_dump_res_pm: 2/45.</text>"
      ],
      "text/plain": [
       "<IPython.core.display.HTML object>"
      ]
     },
     "metadata": {},
     "output_type": "display_data"
    },
    {
     "name": "stdout",
     "output_type": "stream",
     "text": [
      "\tQuerying PM event signal(s) UA23.RB.A12:U_DUMP_RES for system: QPS, className: DQAMSNRB, source: UA23.RB.A12 at 2014-12-15 07:54:44.654\n"
     ]
    },
    {
     "data": {
      "text/html": [
       "<text style=color:blue>Executing RB.A12 query function find_source_timestamp_ee: 3/45.</text>"
      ],
      "text/plain": [
       "<IPython.core.display.HTML object>"
      ]
     },
     "metadata": {},
     "output_type": "display_data"
    },
    {
     "name": "stdout",
     "output_type": "stream",
     "text": [
      "\tQuerying PM event timestamps for system: QPS, className: DQAMSNRB, source: RR17.RB.A12 from 2014-12-15 07:54:34.100 to 2014-12-15 08:11:24.100\n"
     ]
    },
    {
     "data": {
      "text/html": [
       "<text style=color:blue>Executing RB.A12 query function query_ee_u_dump_res_pm: 4/45.</text>"
      ],
      "text/plain": [
       "<IPython.core.display.HTML object>"
      ]
     },
     "metadata": {},
     "output_type": "display_data"
    },
    {
     "name": "stdout",
     "output_type": "stream",
     "text": [
      "\tQuerying PM event signal(s) RR17.RB.A12:U_DUMP_RES for system: QPS, className: DQAMSNRB, source: RR17.RB.A12 at 2014-12-15 07:54:44.408\n"
     ]
    },
    {
     "data": {
      "text/html": [
       "<text style=color:blue>Executing RB.A12 query function find_timestamp_pic: 5/45.</text>"
      ],
      "text/plain": [
       "<IPython.core.display.HTML object>"
      ]
     },
     "metadata": {},
     "output_type": "display_data"
    },
    {
     "name": "stdout",
     "output_type": "stream",
     "text": [
      "\tQuerying NXCALS signal(s) RB.A12.ODD:ST_ABORT_PIC, RB.A12.EVEN:ST_ABORT_PIC from 2014-12-15 07:54:43.100 to 2014-12-15 07:55:44.100\n"
     ]
    },
    {
     "data": {
      "text/html": [
       "<text style=color:blue>Executing RB.A12 query function find_source_timestamp_qds: 6/45.</text>"
      ],
      "text/plain": [
       "<IPython.core.display.HTML object>"
      ]
     },
     "metadata": {},
     "output_type": "display_data"
    },
    {
     "name": "stdout",
     "output_type": "stream",
     "text": [
      "\tQuerying PM event timestamps for system: QPS, className: DQAMCNMB_PMSTD, source: * from 2014-12-15 07:53:54.100 to 2014-12-15 08:03:04.100\n"
     ]
    },
    {
     "data": {
      "text/html": [
       "<text style=color:blue>Executing RB.A12 query function find_source_timestamp_ee: 1/45.</text>"
      ],
      "text/plain": [
       "<IPython.core.display.HTML object>"
      ]
     },
     "metadata": {},
     "output_type": "display_data"
    },
    {
     "name": "stdout",
     "output_type": "stream",
     "text": [
      "\tQuerying PM event timestamps for system: QPS, className: DQAMSNRB, source: UA23.RB.A12 from 2015-01-17 22:56:43.780 to 2015-01-17 23:13:33.780\n"
     ]
    },
    {
     "data": {
      "text/html": [
       "<text style=color:blue>Executing RB.A12 query function query_ee_u_dump_res_pm: 2/45.</text>"
      ],
      "text/plain": [
       "<IPython.core.display.HTML object>"
      ]
     },
     "metadata": {},
     "output_type": "display_data"
    },
    {
     "name": "stdout",
     "output_type": "stream",
     "text": [
      "\tQuerying PM event signal(s) UA23.RB.A12:U_DUMP_RES for system: QPS, className: DQAMSNRB, source: UA23.RB.A12 at 2015-01-17 22:56:54.333\n"
     ]
    },
    {
     "data": {
      "text/html": [
       "<text style=color:blue>Executing RB.A12 query function find_source_timestamp_ee: 3/45.</text>"
      ],
      "text/plain": [
       "<IPython.core.display.HTML object>"
      ]
     },
     "metadata": {},
     "output_type": "display_data"
    },
    {
     "name": "stdout",
     "output_type": "stream",
     "text": [
      "\tQuerying PM event timestamps for system: QPS, className: DQAMSNRB, source: RR17.RB.A12 from 2015-01-17 22:56:43.780 to 2015-01-17 23:13:33.780\n"
     ]
    },
    {
     "data": {
      "text/html": [
       "<text style=color:blue>Executing RB.A12 query function query_ee_u_dump_res_pm: 4/45.</text>"
      ],
      "text/plain": [
       "<IPython.core.display.HTML object>"
      ]
     },
     "metadata": {},
     "output_type": "display_data"
    },
    {
     "name": "stdout",
     "output_type": "stream",
     "text": [
      "\tQuerying PM event signal(s) RR17.RB.A12:U_DUMP_RES for system: QPS, className: DQAMSNRB, source: RR17.RB.A12 at 2015-01-17 22:56:54.078\n"
     ]
    },
    {
     "data": {
      "text/html": [
       "<text style=color:blue>Executing RB.A12 query function find_timestamp_pic: 5/45.</text>"
      ],
      "text/plain": [
       "<IPython.core.display.HTML object>"
      ]
     },
     "metadata": {},
     "output_type": "display_data"
    },
    {
     "name": "stdout",
     "output_type": "stream",
     "text": [
      "\tQuerying NXCALS signal(s) RB.A12.ODD:ST_ABORT_PIC, RB.A12.EVEN:ST_ABORT_PIC from 2015-01-17 22:56:52.780 to 2015-01-17 22:57:53.780\n"
     ]
    },
    {
     "data": {
      "text/html": [
       "<text style=color:blue>Executing RB.A12 query function find_source_timestamp_qds: 6/45.</text>"
      ],
      "text/plain": [
       "<IPython.core.display.HTML object>"
      ]
     },
     "metadata": {},
     "output_type": "display_data"
    },
    {
     "name": "stdout",
     "output_type": "stream",
     "text": [
      "\tQuerying PM event timestamps for system: QPS, className: DQAMCNMB_PMSTD, source: * from 2015-01-17 22:56:03.780 to 2015-01-17 23:05:13.780\n"
     ]
    },
    {
     "data": {
      "text/html": [
       "<text style=color:blue>Executing RB.A12 query function find_source_timestamp_ee: 1/45.</text>"
      ],
      "text/plain": [
       "<IPython.core.display.HTML object>"
      ]
     },
     "metadata": {},
     "output_type": "display_data"
    },
    {
     "name": "stdout",
     "output_type": "stream",
     "text": [
      "\tQuerying PM event timestamps for system: QPS, className: DQAMSNRB, source: UA23.RB.A12 from 2015-01-18 12:28:49.680 to 2015-01-18 12:45:39.680\n"
     ]
    },
    {
     "data": {
      "text/html": [
       "<text style=color:blue>Executing RB.A12 query function query_ee_u_dump_res_pm: 2/45.</text>"
      ],
      "text/plain": [
       "<IPython.core.display.HTML object>"
      ]
     },
     "metadata": {},
     "output_type": "display_data"
    },
    {
     "name": "stdout",
     "output_type": "stream",
     "text": [
      "\tQuerying PM event signal(s) UA23.RB.A12:U_DUMP_RES for system: QPS, className: DQAMSNRB, source: UA23.RB.A12 at 2015-01-18 12:29:00.229\n"
     ]
    },
    {
     "data": {
      "text/html": [
       "<text style=color:blue>Executing RB.A12 query function find_source_timestamp_ee: 3/45.</text>"
      ],
      "text/plain": [
       "<IPython.core.display.HTML object>"
      ]
     },
     "metadata": {},
     "output_type": "display_data"
    },
    {
     "name": "stdout",
     "output_type": "stream",
     "text": [
      "\tQuerying PM event timestamps for system: QPS, className: DQAMSNRB, source: RR17.RB.A12 from 2015-01-18 12:28:49.680 to 2015-01-18 12:45:39.680\n"
     ]
    },
    {
     "data": {
      "text/html": [
       "<text style=color:blue>Executing RB.A12 query function query_ee_u_dump_res_pm: 4/45.</text>"
      ],
      "text/plain": [
       "<IPython.core.display.HTML object>"
      ]
     },
     "metadata": {},
     "output_type": "display_data"
    },
    {
     "name": "stdout",
     "output_type": "stream",
     "text": [
      "\tQuerying PM event signal(s) RR17.RB.A12:U_DUMP_RES for system: QPS, className: DQAMSNRB, source: RR17.RB.A12 at 2015-01-18 12:28:59.975\n"
     ]
    },
    {
     "data": {
      "text/html": [
       "<text style=color:blue>Executing RB.A12 query function find_timestamp_pic: 5/45.</text>"
      ],
      "text/plain": [
       "<IPython.core.display.HTML object>"
      ]
     },
     "metadata": {},
     "output_type": "display_data"
    },
    {
     "name": "stdout",
     "output_type": "stream",
     "text": [
      "\tQuerying NXCALS signal(s) RB.A12.ODD:ST_ABORT_PIC, RB.A12.EVEN:ST_ABORT_PIC from 2015-01-18 12:28:58.680 to 2015-01-18 12:29:59.680\n"
     ]
    },
    {
     "data": {
      "text/html": [
       "<text style=color:blue>Executing RB.A12 query function find_source_timestamp_qds: 6/45.</text>"
      ],
      "text/plain": [
       "<IPython.core.display.HTML object>"
      ]
     },
     "metadata": {},
     "output_type": "display_data"
    },
    {
     "name": "stdout",
     "output_type": "stream",
     "text": [
      "\tQuerying PM event timestamps for system: QPS, className: DQAMCNMB_PMSTD, source: * from 2015-01-18 12:28:09.680 to 2015-01-18 12:37:19.680\n"
     ]
    },
    {
     "data": {
      "text/html": [
       "<text style=color:blue>Executing RB.A12 query function find_source_timestamp_ee: 1/45.</text>"
      ],
      "text/plain": [
       "<IPython.core.display.HTML object>"
      ]
     },
     "metadata": {},
     "output_type": "display_data"
    },
    {
     "name": "stdout",
     "output_type": "stream",
     "text": [
      "\tQuerying PM event timestamps for system: QPS, className: DQAMSNRB, source: UA23.RB.A12 from 2015-11-03 07:25:39.860 to 2015-11-03 07:42:29.860\n"
     ]
    },
    {
     "data": {
      "text/html": [
       "<text style=color:blue>Executing RB.A12 query function query_ee_u_dump_res_pm: 2/45.</text>"
      ],
      "text/plain": [
       "<IPython.core.display.HTML object>"
      ]
     },
     "metadata": {},
     "output_type": "display_data"
    },
    {
     "name": "stdout",
     "output_type": "stream",
     "text": [
      "\tQuerying PM event signal(s) UA23.RB.A12:U_DUMP_RES for system: QPS, className: DQAMSNRB, source: UA23.RB.A12 at 2015-11-03 07:25:50.421\n"
     ]
    },
    {
     "data": {
      "text/html": [
       "<text style=color:blue>Executing RB.A12 query function find_source_timestamp_ee: 3/45.</text>"
      ],
      "text/plain": [
       "<IPython.core.display.HTML object>"
      ]
     },
     "metadata": {},
     "output_type": "display_data"
    },
    {
     "name": "stdout",
     "output_type": "stream",
     "text": [
      "\tQuerying PM event timestamps for system: QPS, className: DQAMSNRB, source: RR17.RB.A12 from 2015-11-03 07:25:39.860 to 2015-11-03 07:42:29.860\n"
     ]
    },
    {
     "data": {
      "text/html": [
       "<text style=color:blue>Executing RB.A12 query function query_ee_u_dump_res_pm: 4/45.</text>"
      ],
      "text/plain": [
       "<IPython.core.display.HTML object>"
      ]
     },
     "metadata": {},
     "output_type": "display_data"
    },
    {
     "name": "stdout",
     "output_type": "stream",
     "text": [
      "\tQuerying PM event signal(s) RR17.RB.A12:U_DUMP_RES for system: QPS, className: DQAMSNRB, source: RR17.RB.A12 at 2015-11-03 07:25:50.159\n"
     ]
    },
    {
     "data": {
      "text/html": [
       "<text style=color:blue>Executing RB.A12 query function find_timestamp_pic: 5/45.</text>"
      ],
      "text/plain": [
       "<IPython.core.display.HTML object>"
      ]
     },
     "metadata": {},
     "output_type": "display_data"
    },
    {
     "name": "stdout",
     "output_type": "stream",
     "text": [
      "\tQuerying NXCALS signal(s) RB.A12.ODD:ST_ABORT_PIC, RB.A12.EVEN:ST_ABORT_PIC from 2015-11-03 07:25:48.860 to 2015-11-03 07:26:49.860\n"
     ]
    },
    {
     "data": {
      "text/html": [
       "<text style=color:blue>Executing RB.A12 query function find_source_timestamp_qds: 6/45.</text>"
      ],
      "text/plain": [
       "<IPython.core.display.HTML object>"
      ]
     },
     "metadata": {},
     "output_type": "display_data"
    },
    {
     "name": "stdout",
     "output_type": "stream",
     "text": [
      "\tQuerying PM event timestamps for system: QPS, className: DQAMCNMB_PMSTD, source: * from 2015-11-03 07:24:59.860 to 2015-11-03 07:34:09.860\n"
     ]
    },
    {
     "data": {
      "text/html": [
       "<text style=color:blue>Executing RB.A12 query function find_source_timestamp_ee: 1/45.</text>"
      ],
      "text/plain": [
       "<IPython.core.display.HTML object>"
      ]
     },
     "metadata": {},
     "output_type": "display_data"
    },
    {
     "name": "stdout",
     "output_type": "stream",
     "text": [
      "\tQuerying PM event timestamps for system: QPS, className: DQAMSNRB, source: UA23.RB.A12 from 2016-06-10 19:12:55.320 to 2016-06-10 19:29:45.320\n"
     ]
    },
    {
     "data": {
      "text/html": [
       "<text style=color:blue>Executing RB.A12 query function query_ee_u_dump_res_pm: 2/45.</text>"
      ],
      "text/plain": [
       "<IPython.core.display.HTML object>"
      ]
     },
     "metadata": {},
     "output_type": "display_data"
    },
    {
     "name": "stdout",
     "output_type": "stream",
     "text": [
      "\tQuerying PM event signal(s) UA23.RB.A12:U_DUMP_RES for system: QPS, className: DQAMSNRB, source: UA23.RB.A12 at 2016-06-10 19:13:05.881\n"
     ]
    },
    {
     "data": {
      "text/html": [
       "<text style=color:blue>Executing RB.A12 query function find_source_timestamp_ee: 3/45.</text>"
      ],
      "text/plain": [
       "<IPython.core.display.HTML object>"
      ]
     },
     "metadata": {},
     "output_type": "display_data"
    },
    {
     "name": "stdout",
     "output_type": "stream",
     "text": [
      "\tQuerying PM event timestamps for system: QPS, className: DQAMSNRB, source: RR17.RB.A12 from 2016-06-10 19:12:55.320 to 2016-06-10 19:29:45.320\n"
     ]
    },
    {
     "data": {
      "text/html": [
       "<text style=color:blue>Executing RB.A12 query function query_ee_u_dump_res_pm: 4/45.</text>"
      ],
      "text/plain": [
       "<IPython.core.display.HTML object>"
      ]
     },
     "metadata": {},
     "output_type": "display_data"
    },
    {
     "name": "stdout",
     "output_type": "stream",
     "text": [
      "\tQuerying PM event signal(s) RR17.RB.A12:U_DUMP_RES for system: QPS, className: DQAMSNRB, source: RR17.RB.A12 at 2016-06-10 19:13:05.621\n"
     ]
    },
    {
     "data": {
      "text/html": [
       "<text style=color:blue>Executing RB.A12 query function find_timestamp_pic: 5/45.</text>"
      ],
      "text/plain": [
       "<IPython.core.display.HTML object>"
      ]
     },
     "metadata": {},
     "output_type": "display_data"
    },
    {
     "name": "stdout",
     "output_type": "stream",
     "text": [
      "\tQuerying NXCALS signal(s) RB.A12.ODD:ST_ABORT_PIC, RB.A12.EVEN:ST_ABORT_PIC from 2016-06-10 19:13:04.320 to 2016-06-10 19:14:05.320\n"
     ]
    },
    {
     "data": {
      "text/html": [
       "<text style=color:blue>Executing RB.A12 query function find_source_timestamp_qds: 6/45.</text>"
      ],
      "text/plain": [
       "<IPython.core.display.HTML object>"
      ]
     },
     "metadata": {},
     "output_type": "display_data"
    },
    {
     "name": "stdout",
     "output_type": "stream",
     "text": [
      "\tQuerying PM event timestamps for system: QPS, className: DQAMCNMB_PMSTD, source: * from 2016-06-10 19:12:15.320 to 2016-06-10 19:21:25.320\n"
     ]
    },
    {
     "data": {
      "text/html": [
       "<text style=color:blue>Executing RB.A12 query function find_source_timestamp_ee: 1/45.</text>"
      ],
      "text/plain": [
       "<IPython.core.display.HTML object>"
      ]
     },
     "metadata": {},
     "output_type": "display_data"
    },
    {
     "name": "stdout",
     "output_type": "stream",
     "text": [
      "\tQuerying PM event timestamps for system: QPS, className: DQAMSNRB, source: UA23.RB.A12 from 2016-08-03 14:59:54.900 to 2016-08-03 15:16:44.900\n"
     ]
    },
    {
     "data": {
      "text/html": [
       "<text style=color:blue>Executing RB.A12 query function query_ee_u_dump_res_pm: 2/45.</text>"
      ],
      "text/plain": [
       "<IPython.core.display.HTML object>"
      ]
     },
     "metadata": {},
     "output_type": "display_data"
    },
    {
     "name": "stdout",
     "output_type": "stream",
     "text": [
      "\tQuerying PM event signal(s) UA23.RB.A12:U_DUMP_RES for system: QPS, className: DQAMSNRB, source: UA23.RB.A12 at 2016-08-03 15:00:05.461\n"
     ]
    },
    {
     "data": {
      "text/html": [
       "<text style=color:blue>Executing RB.A12 query function find_source_timestamp_ee: 3/45.</text>"
      ],
      "text/plain": [
       "<IPython.core.display.HTML object>"
      ]
     },
     "metadata": {},
     "output_type": "display_data"
    },
    {
     "name": "stdout",
     "output_type": "stream",
     "text": [
      "\tQuerying PM event timestamps for system: QPS, className: DQAMSNRB, source: RR17.RB.A12 from 2016-08-03 14:59:54.900 to 2016-08-03 15:16:44.900\n"
     ]
    },
    {
     "data": {
      "text/html": [
       "<text style=color:blue>Executing RB.A12 query function query_ee_u_dump_res_pm: 4/45.</text>"
      ],
      "text/plain": [
       "<IPython.core.display.HTML object>"
      ]
     },
     "metadata": {},
     "output_type": "display_data"
    },
    {
     "name": "stdout",
     "output_type": "stream",
     "text": [
      "\tQuerying PM event signal(s) RR17.RB.A12:U_DUMP_RES for system: QPS, className: DQAMSNRB, source: RR17.RB.A12 at 2016-08-03 15:00:05.202\n"
     ]
    },
    {
     "data": {
      "text/html": [
       "<text style=color:blue>Executing RB.A12 query function find_timestamp_pic: 5/45.</text>"
      ],
      "text/plain": [
       "<IPython.core.display.HTML object>"
      ]
     },
     "metadata": {},
     "output_type": "display_data"
    },
    {
     "name": "stdout",
     "output_type": "stream",
     "text": [
      "\tQuerying NXCALS signal(s) RB.A12.ODD:ST_ABORT_PIC, RB.A12.EVEN:ST_ABORT_PIC from 2016-08-03 15:00:03.900 to 2016-08-03 15:01:04.900\n"
     ]
    },
    {
     "data": {
      "text/html": [
       "<text style=color:blue>Executing RB.A12 query function find_source_timestamp_qds: 6/45.</text>"
      ],
      "text/plain": [
       "<IPython.core.display.HTML object>"
      ]
     },
     "metadata": {},
     "output_type": "display_data"
    },
    {
     "name": "stdout",
     "output_type": "stream",
     "text": [
      "\tQuerying PM event timestamps for system: QPS, className: DQAMCNMB_PMSTD, source: * from 2016-08-03 14:59:14.900 to 2016-08-03 15:08:24.900\n"
     ]
    },
    {
     "data": {
      "text/html": [
       "<text style=color:blue>Executing RB.A12 query function find_source_timestamp_ee: 1/45.</text>"
      ],
      "text/plain": [
       "<IPython.core.display.HTML object>"
      ]
     },
     "metadata": {},
     "output_type": "display_data"
    },
    {
     "name": "stdout",
     "output_type": "stream",
     "text": [
      "\tQuerying PM event timestamps for system: QPS, className: DQAMSNRB, source: UA23.RB.A12 from 2017-04-22 21:48:16.140 to 2017-04-22 22:05:06.140\n"
     ]
    },
    {
     "data": {
      "text/html": [
       "<text style=color:blue>Executing RB.A12 query function query_ee_u_dump_res_pm: 2/45.</text>"
      ],
      "text/plain": [
       "<IPython.core.display.HTML object>"
      ]
     },
     "metadata": {},
     "output_type": "display_data"
    },
    {
     "name": "stdout",
     "output_type": "stream",
     "text": [
      "\tQuerying PM event signal(s) UA23.RB.A12:U_DUMP_RES for system: QPS, className: DQAMSNRB, source: UA23.RB.A12 at 2017-04-22 21:48:26.696\n"
     ]
    },
    {
     "data": {
      "text/html": [
       "<text style=color:blue>Executing RB.A12 query function find_source_timestamp_ee: 3/45.</text>"
      ],
      "text/plain": [
       "<IPython.core.display.HTML object>"
      ]
     },
     "metadata": {},
     "output_type": "display_data"
    },
    {
     "name": "stdout",
     "output_type": "stream",
     "text": [
      "\tQuerying PM event timestamps for system: QPS, className: DQAMSNRB, source: RR17.RB.A12 from 2017-04-22 21:48:16.140 to 2017-04-22 22:05:06.140\n"
     ]
    },
    {
     "data": {
      "text/html": [
       "<text style=color:blue>Executing RB.A12 query function query_ee_u_dump_res_pm: 4/45.</text>"
      ],
      "text/plain": [
       "<IPython.core.display.HTML object>"
      ]
     },
     "metadata": {},
     "output_type": "display_data"
    },
    {
     "name": "stdout",
     "output_type": "stream",
     "text": [
      "\tQuerying PM event signal(s) RR17.RB.A12:U_DUMP_RES for system: QPS, className: DQAMSNRB, source: RR17.RB.A12 at 2017-04-22 21:48:26.438\n"
     ]
    },
    {
     "data": {
      "text/html": [
       "<text style=color:blue>Executing RB.A12 query function find_timestamp_pic: 5/45.</text>"
      ],
      "text/plain": [
       "<IPython.core.display.HTML object>"
      ]
     },
     "metadata": {},
     "output_type": "display_data"
    },
    {
     "name": "stdout",
     "output_type": "stream",
     "text": [
      "\tQuerying NXCALS signal(s) RB.A12.ODD:ST_ABORT_PIC, RB.A12.EVEN:ST_ABORT_PIC from 2017-04-22 21:48:25.140 to 2017-04-22 21:49:26.140\n"
     ]
    },
    {
     "data": {
      "text/html": [
       "<text style=color:blue>Executing RB.A12 query function find_source_timestamp_qds: 6/45.</text>"
      ],
      "text/plain": [
       "<IPython.core.display.HTML object>"
      ]
     },
     "metadata": {},
     "output_type": "display_data"
    },
    {
     "name": "stdout",
     "output_type": "stream",
     "text": [
      "\tQuerying PM event timestamps for system: QPS, className: DQAMCNMB_PMSTD, source: * from 2017-04-22 21:47:36.140 to 2017-04-22 21:56:46.140\n"
     ]
    },
    {
     "data": {
      "text/html": [
       "<text style=color:blue>Executing RB.A12 query function find_source_timestamp_ee: 1/45.</text>"
      ],
      "text/plain": [
       "<IPython.core.display.HTML object>"
      ]
     },
     "metadata": {},
     "output_type": "display_data"
    },
    {
     "name": "stdout",
     "output_type": "stream",
     "text": [
      "\tQuerying PM event timestamps for system: QPS, className: DQAMSNRB, source: UA23.RB.A12 from 2017-04-23 13:28:51.100 to 2017-04-23 13:45:41.100\n"
     ]
    },
    {
     "data": {
      "text/html": [
       "<text style=color:blue>Executing RB.A12 query function query_ee_u_dump_res_pm: 2/45.</text>"
      ],
      "text/plain": [
       "<IPython.core.display.HTML object>"
      ]
     },
     "metadata": {},
     "output_type": "display_data"
    },
    {
     "name": "stdout",
     "output_type": "stream",
     "text": [
      "\tQuerying PM event signal(s) UA23.RB.A12:U_DUMP_RES for system: QPS, className: DQAMSNRB, source: UA23.RB.A12 at 2017-04-23 13:29:01.659\n"
     ]
    },
    {
     "data": {
      "text/html": [
       "<text style=color:blue>Executing RB.A12 query function find_source_timestamp_ee: 3/45.</text>"
      ],
      "text/plain": [
       "<IPython.core.display.HTML object>"
      ]
     },
     "metadata": {},
     "output_type": "display_data"
    },
    {
     "name": "stdout",
     "output_type": "stream",
     "text": [
      "\tQuerying PM event timestamps for system: QPS, className: DQAMSNRB, source: RR17.RB.A12 from 2017-04-23 13:28:51.100 to 2017-04-23 13:45:41.100\n"
     ]
    },
    {
     "data": {
      "text/html": [
       "<text style=color:blue>Executing RB.A12 query function query_ee_u_dump_res_pm: 4/45.</text>"
      ],
      "text/plain": [
       "<IPython.core.display.HTML object>"
      ]
     },
     "metadata": {},
     "output_type": "display_data"
    },
    {
     "name": "stdout",
     "output_type": "stream",
     "text": [
      "\tQuerying PM event signal(s) RR17.RB.A12:U_DUMP_RES for system: QPS, className: DQAMSNRB, source: RR17.RB.A12 at 2017-04-23 13:29:01.401\n"
     ]
    },
    {
     "data": {
      "text/html": [
       "<text style=color:blue>Executing RB.A12 query function find_timestamp_pic: 5/45.</text>"
      ],
      "text/plain": [
       "<IPython.core.display.HTML object>"
      ]
     },
     "metadata": {},
     "output_type": "display_data"
    },
    {
     "name": "stdout",
     "output_type": "stream",
     "text": [
      "\tQuerying NXCALS signal(s) RB.A12.ODD:ST_ABORT_PIC, RB.A12.EVEN:ST_ABORT_PIC from 2017-04-23 13:29:00.100 to 2017-04-23 13:30:01.100\n"
     ]
    },
    {
     "data": {
      "text/html": [
       "<text style=color:blue>Executing RB.A12 query function find_source_timestamp_qds: 6/45.</text>"
      ],
      "text/plain": [
       "<IPython.core.display.HTML object>"
      ]
     },
     "metadata": {},
     "output_type": "display_data"
    },
    {
     "name": "stdout",
     "output_type": "stream",
     "text": [
      "\tQuerying PM event timestamps for system: QPS, className: DQAMCNMB_PMSTD, source: * from 2017-04-23 13:28:11.100 to 2017-04-23 13:37:21.100\n"
     ]
    },
    {
     "data": {
      "text/html": [
       "<text style=color:blue>Executing RB.A12 query function find_source_timestamp_ee: 1/45.</text>"
      ],
      "text/plain": [
       "<IPython.core.display.HTML object>"
      ]
     },
     "metadata": {},
     "output_type": "display_data"
    },
    {
     "name": "stdout",
     "output_type": "stream",
     "text": [
      "\tQuerying PM event timestamps for system: QPS, className: DQAMSNRB, source: UA23.RB.A12 from 2017-08-12 12:14:55.800 to 2017-08-12 12:31:45.800\n"
     ]
    },
    {
     "data": {
      "text/html": [
       "<text style=color:blue>Executing RB.A12 query function query_ee_u_dump_res_pm: 2/45.</text>"
      ],
      "text/plain": [
       "<IPython.core.display.HTML object>"
      ]
     },
     "metadata": {},
     "output_type": "display_data"
    },
    {
     "name": "stdout",
     "output_type": "stream",
     "text": [
      "\tQuerying PM event signal(s) UA23.RB.A12:U_DUMP_RES for system: QPS, className: DQAMSNRB, source: UA23.RB.A12 at 2017-08-12 12:15:06.359\n"
     ]
    },
    {
     "data": {
      "text/html": [
       "<text style=color:blue>Executing RB.A12 query function find_source_timestamp_ee: 3/45.</text>"
      ],
      "text/plain": [
       "<IPython.core.display.HTML object>"
      ]
     },
     "metadata": {},
     "output_type": "display_data"
    },
    {
     "name": "stdout",
     "output_type": "stream",
     "text": [
      "\tQuerying PM event timestamps for system: QPS, className: DQAMSNRB, source: RR17.RB.A12 from 2017-08-12 12:14:55.800 to 2017-08-12 12:31:45.800\n"
     ]
    },
    {
     "data": {
      "text/html": [
       "<text style=color:blue>Executing RB.A12 query function query_ee_u_dump_res_pm: 4/45.</text>"
      ],
      "text/plain": [
       "<IPython.core.display.HTML object>"
      ]
     },
     "metadata": {},
     "output_type": "display_data"
    },
    {
     "name": "stdout",
     "output_type": "stream",
     "text": [
      "\tQuerying PM event signal(s) RR17.RB.A12:U_DUMP_RES for system: QPS, className: DQAMSNRB, source: RR17.RB.A12 at 2017-08-12 12:15:06.100\n"
     ]
    },
    {
     "data": {
      "text/html": [
       "<text style=color:blue>Executing RB.A12 query function find_timestamp_pic: 5/45.</text>"
      ],
      "text/plain": [
       "<IPython.core.display.HTML object>"
      ]
     },
     "metadata": {},
     "output_type": "display_data"
    },
    {
     "name": "stdout",
     "output_type": "stream",
     "text": [
      "\tQuerying NXCALS signal(s) RB.A12.ODD:ST_ABORT_PIC, RB.A12.EVEN:ST_ABORT_PIC from 2017-08-12 12:15:04.800 to 2017-08-12 12:16:05.800\n"
     ]
    },
    {
     "data": {
      "text/html": [
       "<text style=color:blue>Executing RB.A12 query function find_source_timestamp_qds: 6/45.</text>"
      ],
      "text/plain": [
       "<IPython.core.display.HTML object>"
      ]
     },
     "metadata": {},
     "output_type": "display_data"
    },
    {
     "name": "stdout",
     "output_type": "stream",
     "text": [
      "\tQuerying PM event timestamps for system: QPS, className: DQAMCNMB_PMSTD, source: * from 2017-08-12 12:14:15.800 to 2017-08-12 12:23:25.800\n"
     ]
    },
    {
     "data": {
      "text/html": [
       "<text style=color:blue>Executing RB.A12 query function find_source_timestamp_ee: 1/45.</text>"
      ],
      "text/plain": [
       "<IPython.core.display.HTML object>"
      ]
     },
     "metadata": {},
     "output_type": "display_data"
    },
    {
     "name": "stdout",
     "output_type": "stream",
     "text": [
      "\tQuerying PM event timestamps for system: QPS, className: DQAMSNRB, source: UA23.RB.A12 from 2018-06-01 01:11:30.520 to 2018-06-01 01:28:20.520\n"
     ]
    },
    {
     "data": {
      "text/html": [
       "<text style=color:blue>Executing RB.A12 query function query_ee_u_dump_res_pm: 2/45.</text>"
      ],
      "text/plain": [
       "<IPython.core.display.HTML object>"
      ]
     },
     "metadata": {},
     "output_type": "display_data"
    },
    {
     "name": "stdout",
     "output_type": "stream",
     "text": [
      "\tQuerying PM event signal(s) UA23.RB.A12:U_DUMP_RES for system: QPS, className: DQAMSNRB, source: UA23.RB.A12 at 2018-06-01 01:11:41.090\n"
     ]
    },
    {
     "data": {
      "text/html": [
       "<text style=color:blue>Executing RB.A12 query function find_source_timestamp_ee: 3/45.</text>"
      ],
      "text/plain": [
       "<IPython.core.display.HTML object>"
      ]
     },
     "metadata": {},
     "output_type": "display_data"
    },
    {
     "name": "stdout",
     "output_type": "stream",
     "text": [
      "\tQuerying PM event timestamps for system: QPS, className: DQAMSNRB, source: RR17.RB.A12 from 2018-06-01 01:11:30.520 to 2018-06-01 01:28:20.520\n"
     ]
    },
    {
     "data": {
      "text/html": [
       "<text style=color:blue>Executing RB.A12 query function query_ee_u_dump_res_pm: 4/45.</text>"
      ],
      "text/plain": [
       "<IPython.core.display.HTML object>"
      ]
     },
     "metadata": {},
     "output_type": "display_data"
    },
    {
     "name": "stdout",
     "output_type": "stream",
     "text": [
      "\tQuerying PM event signal(s) RR17.RB.A12:U_DUMP_RES for system: QPS, className: DQAMSNRB, source: RR17.RB.A12 at 2018-06-01 01:11:40.594\n"
     ]
    },
    {
     "data": {
      "text/html": [
       "<text style=color:blue>Executing RB.A12 query function find_timestamp_pic: 5/45.</text>"
      ],
      "text/plain": [
       "<IPython.core.display.HTML object>"
      ]
     },
     "metadata": {},
     "output_type": "display_data"
    },
    {
     "name": "stdout",
     "output_type": "stream",
     "text": [
      "\tQuerying NXCALS signal(s) RB.A12.ODD:ST_ABORT_PIC, RB.A12.EVEN:ST_ABORT_PIC from 2018-06-01 01:11:39.520 to 2018-06-01 01:12:40.520\n"
     ]
    },
    {
     "data": {
      "text/html": [
       "<text style=color:blue>Executing RB.A12 query function find_source_timestamp_qds: 6/45.</text>"
      ],
      "text/plain": [
       "<IPython.core.display.HTML object>"
      ]
     },
     "metadata": {},
     "output_type": "display_data"
    },
    {
     "name": "stdout",
     "output_type": "stream",
     "text": [
      "\tQuerying PM event timestamps for system: QPS, className: DQAMCNMB_PMSTD, source: * from 2018-06-01 01:10:50.520 to 2018-06-01 01:20:00.520\n"
     ]
    },
    {
     "data": {
      "text/html": [
       "<text style=color:blue>Executing RB.A12 query function find_source_timestamp_ee: 1/45.</text>"
      ],
      "text/plain": [
       "<IPython.core.display.HTML object>"
      ]
     },
     "metadata": {},
     "output_type": "display_data"
    },
    {
     "name": "stdout",
     "output_type": "stream",
     "text": [
      "\tQuerying PM event timestamps for system: QPS, className: DQAMSNRB, source: UA23.RB.A12 from 2018-12-03 05:20:39.860 to 2018-12-03 05:37:29.860\n"
     ]
    },
    {
     "data": {
      "text/html": [
       "<text style=color:blue>Executing RB.A12 query function query_ee_u_dump_res_pm: 2/45.</text>"
      ],
      "text/plain": [
       "<IPython.core.display.HTML object>"
      ]
     },
     "metadata": {},
     "output_type": "display_data"
    },
    {
     "name": "stdout",
     "output_type": "stream",
     "text": [
      "\tQuerying PM event signal(s) UA23.RB.A12:U_DUMP_RES for system: QPS, className: DQAMSNRB, source: UA23.RB.A12 at 2018-12-03 05:20:50.429\n"
     ]
    },
    {
     "data": {
      "text/html": [
       "<text style=color:blue>Executing RB.A12 query function find_source_timestamp_ee: 3/45.</text>"
      ],
      "text/plain": [
       "<IPython.core.display.HTML object>"
      ]
     },
     "metadata": {},
     "output_type": "display_data"
    },
    {
     "name": "stdout",
     "output_type": "stream",
     "text": [
      "\tQuerying PM event timestamps for system: QPS, className: DQAMSNRB, source: RR17.RB.A12 from 2018-12-03 05:20:39.860 to 2018-12-03 05:37:29.860\n"
     ]
    },
    {
     "data": {
      "text/html": [
       "<text style=color:blue>Executing RB.A12 query function query_ee_u_dump_res_pm: 4/45.</text>"
      ],
      "text/plain": [
       "<IPython.core.display.HTML object>"
      ]
     },
     "metadata": {},
     "output_type": "display_data"
    },
    {
     "name": "stdout",
     "output_type": "stream",
     "text": [
      "\tQuerying PM event signal(s) RR17.RB.A12:U_DUMP_RES for system: QPS, className: DQAMSNRB, source: RR17.RB.A12 at 2018-12-03 05:20:49.933\n"
     ]
    },
    {
     "data": {
      "text/html": [
       "<text style=color:blue>Executing RB.A12 query function find_timestamp_pic: 5/45.</text>"
      ],
      "text/plain": [
       "<IPython.core.display.HTML object>"
      ]
     },
     "metadata": {},
     "output_type": "display_data"
    },
    {
     "name": "stdout",
     "output_type": "stream",
     "text": [
      "\tQuerying NXCALS signal(s) RB.A12.ODD:ST_ABORT_PIC, RB.A12.EVEN:ST_ABORT_PIC from 2018-12-03 05:20:48.860 to 2018-12-03 05:21:49.860\n"
     ]
    },
    {
     "data": {
      "text/html": [
       "<text style=color:blue>Executing RB.A12 query function find_source_timestamp_qds: 6/45.</text>"
      ],
      "text/plain": [
       "<IPython.core.display.HTML object>"
      ]
     },
     "metadata": {},
     "output_type": "display_data"
    },
    {
     "name": "stdout",
     "output_type": "stream",
     "text": [
      "\tQuerying PM event timestamps for system: QPS, className: DQAMCNMB_PMSTD, source: * from 2018-12-03 05:19:59.860 to 2018-12-03 05:29:09.860\n"
     ]
    },
    {
     "data": {
      "text/html": [
       "<text style=color:blue>Executing RB.A12 query function find_source_timestamp_ee: 1/45.</text>"
      ],
      "text/plain": [
       "<IPython.core.display.HTML object>"
      ]
     },
     "metadata": {},
     "output_type": "display_data"
    },
    {
     "name": "stdout",
     "output_type": "stream",
     "text": [
      "\tQuerying PM event timestamps for system: QPS, className: DQAMSNRB, source: UA23.RB.A12 from 2018-12-03 13:20:32.440 to 2018-12-03 13:37:22.440\n"
     ]
    },
    {
     "data": {
      "text/html": [
       "<text style=color:blue>Executing RB.A12 query function query_ee_u_dump_res_pm: 2/45.</text>"
      ],
      "text/plain": [
       "<IPython.core.display.HTML object>"
      ]
     },
     "metadata": {},
     "output_type": "display_data"
    },
    {
     "name": "stdout",
     "output_type": "stream",
     "text": [
      "\tQuerying PM event signal(s) UA23.RB.A12:U_DUMP_RES for system: QPS, className: DQAMSNRB, source: UA23.RB.A12 at 2018-12-03 13:20:43.009\n"
     ]
    },
    {
     "data": {
      "text/html": [
       "<text style=color:blue>Executing RB.A12 query function find_source_timestamp_ee: 3/45.</text>"
      ],
      "text/plain": [
       "<IPython.core.display.HTML object>"
      ]
     },
     "metadata": {},
     "output_type": "display_data"
    },
    {
     "name": "stdout",
     "output_type": "stream",
     "text": [
      "\tQuerying PM event timestamps for system: QPS, className: DQAMSNRB, source: RR17.RB.A12 from 2018-12-03 13:20:32.440 to 2018-12-03 13:37:22.440\n"
     ]
    },
    {
     "data": {
      "text/html": [
       "<text style=color:blue>Executing RB.A12 query function query_ee_u_dump_res_pm: 4/45.</text>"
      ],
      "text/plain": [
       "<IPython.core.display.HTML object>"
      ]
     },
     "metadata": {},
     "output_type": "display_data"
    },
    {
     "name": "stdout",
     "output_type": "stream",
     "text": [
      "\tQuerying PM event signal(s) RR17.RB.A12:U_DUMP_RES for system: QPS, className: DQAMSNRB, source: RR17.RB.A12 at 2018-12-03 13:20:42.513\n"
     ]
    },
    {
     "data": {
      "text/html": [
       "<text style=color:blue>Executing RB.A12 query function find_timestamp_pic: 5/45.</text>"
      ],
      "text/plain": [
       "<IPython.core.display.HTML object>"
      ]
     },
     "metadata": {},
     "output_type": "display_data"
    },
    {
     "name": "stdout",
     "output_type": "stream",
     "text": [
      "\tQuerying NXCALS signal(s) RB.A12.ODD:ST_ABORT_PIC, RB.A12.EVEN:ST_ABORT_PIC from 2018-12-03 13:20:41.440 to 2018-12-03 13:21:42.440\n"
     ]
    },
    {
     "data": {
      "text/html": [
       "<text style=color:blue>Executing RB.A12 query function find_source_timestamp_qds: 6/45.</text>"
      ],
      "text/plain": [
       "<IPython.core.display.HTML object>"
      ]
     },
     "metadata": {},
     "output_type": "display_data"
    },
    {
     "name": "stdout",
     "output_type": "stream",
     "text": [
      "\tQuerying PM event timestamps for system: QPS, className: DQAMCNMB_PMSTD, source: * from 2018-12-03 13:19:52.440 to 2018-12-03 13:29:02.440\n"
     ]
    },
    {
     "data": {
      "text/html": [
       "<text style=color:blue>Executing RB.A12 query function find_source_timestamp_ee: 1/45.</text>"
      ],
      "text/plain": [
       "<IPython.core.display.HTML object>"
      ]
     },
     "metadata": {},
     "output_type": "display_data"
    },
    {
     "name": "stdout",
     "output_type": "stream",
     "text": [
      "\tQuerying PM event timestamps for system: QPS, className: DQAMSNRB, source: UA23.RB.A12 from 2018-12-06 19:02:29.400 to 2018-12-06 19:19:19.400\n"
     ]
    },
    {
     "data": {
      "text/html": [
       "<text style=color:blue>Executing RB.A12 query function query_ee_u_dump_res_pm: 2/45.</text>"
      ],
      "text/plain": [
       "<IPython.core.display.HTML object>"
      ]
     },
     "metadata": {},
     "output_type": "display_data"
    },
    {
     "name": "stdout",
     "output_type": "stream",
     "text": [
      "\tQuerying PM event signal(s) UA23.RB.A12:U_DUMP_RES for system: QPS, className: DQAMSNRB, source: UA23.RB.A12 at 2018-12-06 19:02:39.966\n"
     ]
    },
    {
     "data": {
      "text/html": [
       "<text style=color:blue>Executing RB.A12 query function find_source_timestamp_ee: 3/45.</text>"
      ],
      "text/plain": [
       "<IPython.core.display.HTML object>"
      ]
     },
     "metadata": {},
     "output_type": "display_data"
    },
    {
     "name": "stdout",
     "output_type": "stream",
     "text": [
      "\tQuerying PM event timestamps for system: QPS, className: DQAMSNRB, source: RR17.RB.A12 from 2018-12-06 19:02:29.400 to 2018-12-06 19:19:19.400\n"
     ]
    },
    {
     "data": {
      "text/html": [
       "<text style=color:blue>Executing RB.A12 query function query_ee_u_dump_res_pm: 4/45.</text>"
      ],
      "text/plain": [
       "<IPython.core.display.HTML object>"
      ]
     },
     "metadata": {},
     "output_type": "display_data"
    },
    {
     "name": "stdout",
     "output_type": "stream",
     "text": [
      "\tQuerying PM event signal(s) RR17.RB.A12:U_DUMP_RES for system: QPS, className: DQAMSNRB, source: RR17.RB.A12 at 2018-12-06 19:02:39.468\n"
     ]
    },
    {
     "data": {
      "text/html": [
       "<text style=color:blue>Executing RB.A12 query function find_timestamp_pic: 5/45.</text>"
      ],
      "text/plain": [
       "<IPython.core.display.HTML object>"
      ]
     },
     "metadata": {},
     "output_type": "display_data"
    },
    {
     "name": "stdout",
     "output_type": "stream",
     "text": [
      "\tQuerying NXCALS signal(s) RB.A12.ODD:ST_ABORT_PIC, RB.A12.EVEN:ST_ABORT_PIC from 2018-12-06 19:02:38.400 to 2018-12-06 19:03:39.400\n"
     ]
    },
    {
     "data": {
      "text/html": [
       "<text style=color:blue>Executing RB.A12 query function find_source_timestamp_qds: 6/45.</text>"
      ],
      "text/plain": [
       "<IPython.core.display.HTML object>"
      ]
     },
     "metadata": {},
     "output_type": "display_data"
    },
    {
     "name": "stdout",
     "output_type": "stream",
     "text": [
      "\tQuerying PM event timestamps for system: QPS, className: DQAMCNMB_PMSTD, source: * from 2018-12-06 19:01:49.400 to 2018-12-06 19:10:59.400\n"
     ]
    },
    {
     "data": {
      "text/html": [
       "<text style=color:blue>Executing RB.A12 query function find_source_timestamp_ee: 1/45.</text>"
      ],
      "text/plain": [
       "<IPython.core.display.HTML object>"
      ]
     },
     "metadata": {},
     "output_type": "display_data"
    },
    {
     "name": "stdout",
     "output_type": "stream",
     "text": [
      "\tQuerying PM event timestamps for system: QPS, className: DQAMSNRB, source: UA23.RB.A12 from 2018-12-07 04:26:11.300 to 2018-12-07 04:43:01.300\n"
     ]
    },
    {
     "data": {
      "text/html": [
       "<text style=color:blue>Executing RB.A12 query function query_ee_u_dump_res_pm: 2/45.</text>"
      ],
      "text/plain": [
       "<IPython.core.display.HTML object>"
      ]
     },
     "metadata": {},
     "output_type": "display_data"
    },
    {
     "name": "stdout",
     "output_type": "stream",
     "text": [
      "\tQuerying PM event signal(s) UA23.RB.A12:U_DUMP_RES for system: QPS, className: DQAMSNRB, source: UA23.RB.A12 at 2018-12-07 04:26:21.868\n"
     ]
    },
    {
     "data": {
      "text/html": [
       "<text style=color:blue>Executing RB.A12 query function find_source_timestamp_ee: 3/45.</text>"
      ],
      "text/plain": [
       "<IPython.core.display.HTML object>"
      ]
     },
     "metadata": {},
     "output_type": "display_data"
    },
    {
     "name": "stdout",
     "output_type": "stream",
     "text": [
      "\tQuerying PM event timestamps for system: QPS, className: DQAMSNRB, source: RR17.RB.A12 from 2018-12-07 04:26:11.300 to 2018-12-07 04:43:01.300\n"
     ]
    },
    {
     "data": {
      "text/html": [
       "<text style=color:blue>Executing RB.A12 query function query_ee_u_dump_res_pm: 4/45.</text>"
      ],
      "text/plain": [
       "<IPython.core.display.HTML object>"
      ]
     },
     "metadata": {},
     "output_type": "display_data"
    },
    {
     "name": "stdout",
     "output_type": "stream",
     "text": [
      "\tQuerying PM event signal(s) RR17.RB.A12:U_DUMP_RES for system: QPS, className: DQAMSNRB, source: RR17.RB.A12 at 2018-12-07 04:26:21.371\n"
     ]
    },
    {
     "data": {
      "text/html": [
       "<text style=color:blue>Executing RB.A12 query function find_timestamp_pic: 5/45.</text>"
      ],
      "text/plain": [
       "<IPython.core.display.HTML object>"
      ]
     },
     "metadata": {},
     "output_type": "display_data"
    },
    {
     "name": "stdout",
     "output_type": "stream",
     "text": [
      "\tQuerying NXCALS signal(s) RB.A12.ODD:ST_ABORT_PIC, RB.A12.EVEN:ST_ABORT_PIC from 2018-12-07 04:26:20.300 to 2018-12-07 04:27:21.300\n"
     ]
    },
    {
     "data": {
      "text/html": [
       "<text style=color:blue>Executing RB.A12 query function find_source_timestamp_qds: 6/45.</text>"
      ],
      "text/plain": [
       "<IPython.core.display.HTML object>"
      ]
     },
     "metadata": {},
     "output_type": "display_data"
    },
    {
     "name": "stdout",
     "output_type": "stream",
     "text": [
      "\tQuerying PM event timestamps for system: QPS, className: DQAMCNMB_PMSTD, source: * from 2018-12-07 04:25:31.300 to 2018-12-07 04:34:41.300\n"
     ]
    },
    {
     "data": {
      "text/html": [
       "<text style=color:blue>Executing RB.A12 query function find_source_timestamp_ee: 1/45.</text>"
      ],
      "text/plain": [
       "<IPython.core.display.HTML object>"
      ]
     },
     "metadata": {},
     "output_type": "display_data"
    },
    {
     "name": "stdout",
     "output_type": "stream",
     "text": [
      "\tQuerying PM event timestamps for system: QPS, className: DQAMSNRB, source: UA23.RB.A12 from 2018-12-07 15:45:59.420 to 2018-12-07 16:02:49.420\n"
     ]
    },
    {
     "data": {
      "text/html": [
       "<text style=color:blue>Executing RB.A12 query function query_ee_u_dump_res_pm: 2/45.</text>"
      ],
      "text/plain": [
       "<IPython.core.display.HTML object>"
      ]
     },
     "metadata": {},
     "output_type": "display_data"
    },
    {
     "name": "stdout",
     "output_type": "stream",
     "text": [
      "\tQuerying PM event signal(s) UA23.RB.A12:U_DUMP_RES for system: QPS, className: DQAMSNRB, source: UA23.RB.A12 at 2018-12-07 15:46:09.983\n"
     ]
    },
    {
     "data": {
      "text/html": [
       "<text style=color:blue>Executing RB.A12 query function find_source_timestamp_ee: 3/45.</text>"
      ],
      "text/plain": [
       "<IPython.core.display.HTML object>"
      ]
     },
     "metadata": {},
     "output_type": "display_data"
    },
    {
     "name": "stdout",
     "output_type": "stream",
     "text": [
      "\tQuerying PM event timestamps for system: QPS, className: DQAMSNRB, source: RR17.RB.A12 from 2018-12-07 15:45:59.420 to 2018-12-07 16:02:49.420\n"
     ]
    },
    {
     "data": {
      "text/html": [
       "<text style=color:blue>Executing RB.A12 query function query_ee_u_dump_res_pm: 4/45.</text>"
      ],
      "text/plain": [
       "<IPython.core.display.HTML object>"
      ]
     },
     "metadata": {},
     "output_type": "display_data"
    },
    {
     "name": "stdout",
     "output_type": "stream",
     "text": [
      "\tQuerying PM event signal(s) RR17.RB.A12:U_DUMP_RES for system: QPS, className: DQAMSNRB, source: RR17.RB.A12 at 2018-12-07 15:46:09.484\n"
     ]
    },
    {
     "data": {
      "text/html": [
       "<text style=color:blue>Executing RB.A12 query function find_timestamp_pic: 5/45.</text>"
      ],
      "text/plain": [
       "<IPython.core.display.HTML object>"
      ]
     },
     "metadata": {},
     "output_type": "display_data"
    },
    {
     "name": "stdout",
     "output_type": "stream",
     "text": [
      "\tQuerying NXCALS signal(s) RB.A12.ODD:ST_ABORT_PIC, RB.A12.EVEN:ST_ABORT_PIC from 2018-12-07 15:46:08.420 to 2018-12-07 15:47:09.420\n"
     ]
    },
    {
     "data": {
      "text/html": [
       "<text style=color:blue>Executing RB.A12 query function find_source_timestamp_qds: 6/45.</text>"
      ],
      "text/plain": [
       "<IPython.core.display.HTML object>"
      ]
     },
     "metadata": {},
     "output_type": "display_data"
    },
    {
     "name": "stdout",
     "output_type": "stream",
     "text": [
      "\tQuerying PM event timestamps for system: QPS, className: DQAMCNMB_PMSTD, source: * from 2018-12-07 15:45:19.420 to 2018-12-07 15:54:29.420\n"
     ]
    },
    {
     "data": {
      "text/html": [
       "<text style=color:blue>Executing RB.A12 query function find_source_timestamp_ee: 1/45.</text>"
      ],
      "text/plain": [
       "<IPython.core.display.HTML object>"
      ]
     },
     "metadata": {},
     "output_type": "display_data"
    },
    {
     "name": "stdout",
     "output_type": "stream",
     "text": [
      "\tQuerying PM event timestamps for system: QPS, className: DQAMSNRB, source: UA23.RB.A12 from 2018-12-08 03:14:43.300 to 2018-12-08 03:31:33.300\n"
     ]
    },
    {
     "data": {
      "text/html": [
       "<text style=color:blue>Executing RB.A12 query function query_ee_u_dump_res_pm: 2/45.</text>"
      ],
      "text/plain": [
       "<IPython.core.display.HTML object>"
      ]
     },
     "metadata": {},
     "output_type": "display_data"
    },
    {
     "name": "stdout",
     "output_type": "stream",
     "text": [
      "\tQuerying PM event signal(s) UA23.RB.A12:U_DUMP_RES for system: QPS, className: DQAMSNRB, source: UA23.RB.A12 at 2018-12-08 03:14:53.854\n"
     ]
    },
    {
     "data": {
      "text/html": [
       "<text style=color:blue>Executing RB.A12 query function find_source_timestamp_ee: 3/45.</text>"
      ],
      "text/plain": [
       "<IPython.core.display.HTML object>"
      ]
     },
     "metadata": {},
     "output_type": "display_data"
    },
    {
     "name": "stdout",
     "output_type": "stream",
     "text": [
      "\tQuerying PM event timestamps for system: QPS, className: DQAMSNRB, source: RR17.RB.A12 from 2018-12-08 03:14:43.300 to 2018-12-08 03:31:33.300\n"
     ]
    },
    {
     "data": {
      "text/html": [
       "<text style=color:blue>Executing RB.A12 query function query_ee_u_dump_res_pm: 4/45.</text>"
      ],
      "text/plain": [
       "<IPython.core.display.HTML object>"
      ]
     },
     "metadata": {},
     "output_type": "display_data"
    },
    {
     "name": "stdout",
     "output_type": "stream",
     "text": [
      "\tQuerying PM event signal(s) RR17.RB.A12:U_DUMP_RES for system: QPS, className: DQAMSNRB, source: RR17.RB.A12 at 2018-12-08 03:14:53.358\n"
     ]
    },
    {
     "data": {
      "text/html": [
       "<text style=color:blue>Executing RB.A12 query function find_timestamp_pic: 5/45.</text>"
      ],
      "text/plain": [
       "<IPython.core.display.HTML object>"
      ]
     },
     "metadata": {},
     "output_type": "display_data"
    },
    {
     "name": "stdout",
     "output_type": "stream",
     "text": [
      "\tQuerying NXCALS signal(s) RB.A12.ODD:ST_ABORT_PIC, RB.A12.EVEN:ST_ABORT_PIC from 2018-12-08 03:14:52.300 to 2018-12-08 03:15:53.300\n"
     ]
    },
    {
     "data": {
      "text/html": [
       "<text style=color:blue>Executing RB.A12 query function find_source_timestamp_qds: 6/45.</text>"
      ],
      "text/plain": [
       "<IPython.core.display.HTML object>"
      ]
     },
     "metadata": {},
     "output_type": "display_data"
    },
    {
     "name": "stdout",
     "output_type": "stream",
     "text": [
      "\tQuerying PM event timestamps for system: QPS, className: DQAMCNMB_PMSTD, source: * from 2018-12-08 03:14:03.300 to 2018-12-08 03:23:13.300\n"
     ]
    },
    {
     "data": {
      "text/html": [
       "<text style=color:blue>Executing RB.A12 query function find_source_timestamp_ee: 1/45.</text>"
      ],
      "text/plain": [
       "<IPython.core.display.HTML object>"
      ]
     },
     "metadata": {},
     "output_type": "display_data"
    },
    {
     "name": "stdout",
     "output_type": "stream",
     "text": [
      "\tQuerying PM event timestamps for system: QPS, className: DQAMSNRB, source: UA23.RB.A12 from 2018-12-08 16:17:34 to 2018-12-08 16:34:24\n"
     ]
    },
    {
     "data": {
      "text/html": [
       "<text style=color:blue>Executing RB.A12 query function query_ee_u_dump_res_pm: 2/45.</text>"
      ],
      "text/plain": [
       "<IPython.core.display.HTML object>"
      ]
     },
     "metadata": {},
     "output_type": "display_data"
    },
    {
     "name": "stdout",
     "output_type": "stream",
     "text": [
      "\tQuerying PM event signal(s) UA23.RB.A12:U_DUMP_RES for system: QPS, className: DQAMSNRB, source: UA23.RB.A12 at 2018-12-08 16:17:44.563\n"
     ]
    },
    {
     "data": {
      "text/html": [
       "<text style=color:blue>Executing RB.A12 query function find_source_timestamp_ee: 3/45.</text>"
      ],
      "text/plain": [
       "<IPython.core.display.HTML object>"
      ]
     },
     "metadata": {},
     "output_type": "display_data"
    },
    {
     "name": "stdout",
     "output_type": "stream",
     "text": [
      "\tQuerying PM event timestamps for system: QPS, className: DQAMSNRB, source: RR17.RB.A12 from 2018-12-08 16:17:34 to 2018-12-08 16:34:24\n"
     ]
    },
    {
     "data": {
      "text/html": [
       "<text style=color:blue>Executing RB.A12 query function query_ee_u_dump_res_pm: 4/45.</text>"
      ],
      "text/plain": [
       "<IPython.core.display.HTML object>"
      ]
     },
     "metadata": {},
     "output_type": "display_data"
    },
    {
     "name": "stdout",
     "output_type": "stream",
     "text": [
      "\tQuerying PM event signal(s) RR17.RB.A12:U_DUMP_RES for system: QPS, className: DQAMSNRB, source: RR17.RB.A12 at 2018-12-08 16:17:44.064\n"
     ]
    },
    {
     "data": {
      "text/html": [
       "<text style=color:blue>Executing RB.A12 query function find_timestamp_pic: 5/45.</text>"
      ],
      "text/plain": [
       "<IPython.core.display.HTML object>"
      ]
     },
     "metadata": {},
     "output_type": "display_data"
    },
    {
     "name": "stdout",
     "output_type": "stream",
     "text": [
      "\tQuerying NXCALS signal(s) RB.A12.ODD:ST_ABORT_PIC, RB.A12.EVEN:ST_ABORT_PIC from 2018-12-08 16:17:43 to 2018-12-08 16:18:44\n"
     ]
    },
    {
     "data": {
      "text/html": [
       "<text style=color:blue>Executing RB.A12 query function find_source_timestamp_qds: 6/45.</text>"
      ],
      "text/plain": [
       "<IPython.core.display.HTML object>"
      ]
     },
     "metadata": {},
     "output_type": "display_data"
    },
    {
     "name": "stdout",
     "output_type": "stream",
     "text": [
      "\tQuerying PM event timestamps for system: QPS, className: DQAMCNMB_PMSTD, source: * from 2018-12-08 16:16:54 to 2018-12-08 16:26:04\n"
     ]
    },
    {
     "data": {
      "text/html": [
       "<text style=color:blue>Executing RB.A12 query function find_source_timestamp_ee: 1/45.</text>"
      ],
      "text/plain": [
       "<IPython.core.display.HTML object>"
      ]
     },
     "metadata": {},
     "output_type": "display_data"
    },
    {
     "name": "stdout",
     "output_type": "stream",
     "text": [
      "\tQuerying PM event timestamps for system: QPS, className: DQAMSNRB, source: UA23.RB.A12 from 2018-12-09 06:20:44.560 to 2018-12-09 06:37:34.560\n"
     ]
    },
    {
     "data": {
      "text/html": [
       "<text style=color:blue>Executing RB.A12 query function query_ee_u_dump_res_pm: 2/45.</text>"
      ],
      "text/plain": [
       "<IPython.core.display.HTML object>"
      ]
     },
     "metadata": {},
     "output_type": "display_data"
    },
    {
     "name": "stdout",
     "output_type": "stream",
     "text": [
      "\tQuerying PM event signal(s) UA23.RB.A12:U_DUMP_RES for system: QPS, className: DQAMSNRB, source: UA23.RB.A12 at 2018-12-09 06:20:55.116\n"
     ]
    },
    {
     "data": {
      "text/html": [
       "<text style=color:blue>Executing RB.A12 query function find_source_timestamp_ee: 3/45.</text>"
      ],
      "text/plain": [
       "<IPython.core.display.HTML object>"
      ]
     },
     "metadata": {},
     "output_type": "display_data"
    },
    {
     "name": "stdout",
     "output_type": "stream",
     "text": [
      "\tQuerying PM event timestamps for system: QPS, className: DQAMSNRB, source: RR17.RB.A12 from 2018-12-09 06:20:44.560 to 2018-12-09 06:37:34.560\n"
     ]
    },
    {
     "data": {
      "text/html": [
       "<text style=color:blue>Executing RB.A12 query function query_ee_u_dump_res_pm: 4/45.</text>"
      ],
      "text/plain": [
       "<IPython.core.display.HTML object>"
      ]
     },
     "metadata": {},
     "output_type": "display_data"
    },
    {
     "name": "stdout",
     "output_type": "stream",
     "text": [
      "\tQuerying PM event signal(s) RR17.RB.A12:U_DUMP_RES for system: QPS, className: DQAMSNRB, source: RR17.RB.A12 at 2018-12-09 06:20:54.617\n"
     ]
    },
    {
     "data": {
      "text/html": [
       "<text style=color:blue>Executing RB.A12 query function find_timestamp_pic: 5/45.</text>"
      ],
      "text/plain": [
       "<IPython.core.display.HTML object>"
      ]
     },
     "metadata": {},
     "output_type": "display_data"
    },
    {
     "name": "stdout",
     "output_type": "stream",
     "text": [
      "\tQuerying NXCALS signal(s) RB.A12.ODD:ST_ABORT_PIC, RB.A12.EVEN:ST_ABORT_PIC from 2018-12-09 06:20:53.560 to 2018-12-09 06:21:54.560\n"
     ]
    },
    {
     "data": {
      "text/html": [
       "<text style=color:blue>Executing RB.A12 query function find_source_timestamp_qds: 6/45.</text>"
      ],
      "text/plain": [
       "<IPython.core.display.HTML object>"
      ]
     },
     "metadata": {},
     "output_type": "display_data"
    },
    {
     "name": "stdout",
     "output_type": "stream",
     "text": [
      "\tQuerying PM event timestamps for system: QPS, className: DQAMCNMB_PMSTD, source: * from 2018-12-09 06:20:04.560 to 2018-12-09 06:29:14.560\n"
     ]
    },
    {
     "data": {
      "text/html": [
       "<text style=color:blue>Executing RB.A12 query function find_source_timestamp_ee: 1/45.</text>"
      ],
      "text/plain": [
       "<IPython.core.display.HTML object>"
      ]
     },
     "metadata": {},
     "output_type": "display_data"
    },
    {
     "name": "stdout",
     "output_type": "stream",
     "text": [
      "\tQuerying PM event timestamps for system: QPS, className: DQAMSNRB, source: UA23.RB.A12 from 2018-12-09 16:52:59.180 to 2018-12-09 17:09:49.180\n"
     ]
    },
    {
     "data": {
      "text/html": [
       "<text style=color:blue>Executing RB.A12 query function query_ee_u_dump_res_pm: 2/45.</text>"
      ],
      "text/plain": [
       "<IPython.core.display.HTML object>"
      ]
     },
     "metadata": {},
     "output_type": "display_data"
    },
    {
     "name": "stdout",
     "output_type": "stream",
     "text": [
      "\tQuerying PM event signal(s) UA23.RB.A12:U_DUMP_RES for system: QPS, className: DQAMSNRB, source: UA23.RB.A12 at 2018-12-09 16:53:09.743\n"
     ]
    },
    {
     "data": {
      "text/html": [
       "<text style=color:blue>Executing RB.A12 query function find_source_timestamp_ee: 3/45.</text>"
      ],
      "text/plain": [
       "<IPython.core.display.HTML object>"
      ]
     },
     "metadata": {},
     "output_type": "display_data"
    },
    {
     "name": "stdout",
     "output_type": "stream",
     "text": [
      "\tQuerying PM event timestamps for system: QPS, className: DQAMSNRB, source: RR17.RB.A12 from 2018-12-09 16:52:59.180 to 2018-12-09 17:09:49.180\n"
     ]
    },
    {
     "data": {
      "text/html": [
       "<text style=color:blue>Executing RB.A12 query function query_ee_u_dump_res_pm: 4/45.</text>"
      ],
      "text/plain": [
       "<IPython.core.display.HTML object>"
      ]
     },
     "metadata": {},
     "output_type": "display_data"
    },
    {
     "name": "stdout",
     "output_type": "stream",
     "text": [
      "\tQuerying PM event signal(s) RR17.RB.A12:U_DUMP_RES for system: QPS, className: DQAMSNRB, source: RR17.RB.A12 at 2018-12-09 16:53:09.244\n"
     ]
    },
    {
     "data": {
      "text/html": [
       "<text style=color:blue>Executing RB.A12 query function find_timestamp_pic: 5/45.</text>"
      ],
      "text/plain": [
       "<IPython.core.display.HTML object>"
      ]
     },
     "metadata": {},
     "output_type": "display_data"
    },
    {
     "name": "stdout",
     "output_type": "stream",
     "text": [
      "\tQuerying NXCALS signal(s) RB.A12.ODD:ST_ABORT_PIC, RB.A12.EVEN:ST_ABORT_PIC from 2018-12-09 16:53:08.180 to 2018-12-09 16:54:09.180\n"
     ]
    },
    {
     "data": {
      "text/html": [
       "<text style=color:blue>Executing RB.A12 query function find_source_timestamp_qds: 6/45.</text>"
      ],
      "text/plain": [
       "<IPython.core.display.HTML object>"
      ]
     },
     "metadata": {},
     "output_type": "display_data"
    },
    {
     "name": "stdout",
     "output_type": "stream",
     "text": [
      "\tQuerying PM event timestamps for system: QPS, className: DQAMCNMB_PMSTD, source: * from 2018-12-09 16:52:19.180 to 2018-12-09 17:01:29.180\n"
     ]
    },
    {
     "data": {
      "text/html": [
       "<text style=color:blue>Executing RB.A12 query function find_source_timestamp_ee: 1/45.</text>"
      ],
      "text/plain": [
       "<IPython.core.display.HTML object>"
      ]
     },
     "metadata": {},
     "output_type": "display_data"
    },
    {
     "name": "stdout",
     "output_type": "stream",
     "text": [
      "\tQuerying PM event timestamps for system: QPS, className: DQAMSNRB, source: UA23.RB.A12 from 2018-12-10 06:31:12.440 to 2018-12-10 06:48:02.440\n"
     ]
    },
    {
     "data": {
      "text/html": [
       "<text style=color:blue>Executing RB.A12 query function query_ee_u_dump_res_pm: 2/45.</text>"
      ],
      "text/plain": [
       "<IPython.core.display.HTML object>"
      ]
     },
     "metadata": {},
     "output_type": "display_data"
    },
    {
     "name": "stdout",
     "output_type": "stream",
     "text": [
      "\tQuerying PM event signal(s) UA23.RB.A12:U_DUMP_RES for system: QPS, className: DQAMSNRB, source: UA23.RB.A12 at 2018-12-10 06:31:23.006\n"
     ]
    },
    {
     "data": {
      "text/html": [
       "<text style=color:blue>Executing RB.A12 query function find_source_timestamp_ee: 3/45.</text>"
      ],
      "text/plain": [
       "<IPython.core.display.HTML object>"
      ]
     },
     "metadata": {},
     "output_type": "display_data"
    },
    {
     "name": "stdout",
     "output_type": "stream",
     "text": [
      "\tQuerying PM event timestamps for system: QPS, className: DQAMSNRB, source: RR17.RB.A12 from 2018-12-10 06:31:12.440 to 2018-12-10 06:48:02.440\n"
     ]
    },
    {
     "data": {
      "text/html": [
       "<text style=color:blue>Executing RB.A12 query function query_ee_u_dump_res_pm: 4/45.</text>"
      ],
      "text/plain": [
       "<IPython.core.display.HTML object>"
      ]
     },
     "metadata": {},
     "output_type": "display_data"
    },
    {
     "name": "stdout",
     "output_type": "stream",
     "text": [
      "\tQuerying PM event signal(s) RR17.RB.A12:U_DUMP_RES for system: QPS, className: DQAMSNRB, source: RR17.RB.A12 at 2018-12-10 06:31:22.510\n"
     ]
    },
    {
     "data": {
      "text/html": [
       "<text style=color:blue>Executing RB.A12 query function find_timestamp_pic: 5/45.</text>"
      ],
      "text/plain": [
       "<IPython.core.display.HTML object>"
      ]
     },
     "metadata": {},
     "output_type": "display_data"
    },
    {
     "name": "stdout",
     "output_type": "stream",
     "text": [
      "\tQuerying NXCALS signal(s) RB.A12.ODD:ST_ABORT_PIC, RB.A12.EVEN:ST_ABORT_PIC from 2018-12-10 06:31:21.440 to 2018-12-10 06:32:22.440\n"
     ]
    },
    {
     "data": {
      "text/html": [
       "<text style=color:blue>Executing RB.A12 query function find_source_timestamp_qds: 6/45.</text>"
      ],
      "text/plain": [
       "<IPython.core.display.HTML object>"
      ]
     },
     "metadata": {},
     "output_type": "display_data"
    },
    {
     "name": "stdout",
     "output_type": "stream",
     "text": [
      "\tQuerying PM event timestamps for system: QPS, className: DQAMCNMB_PMSTD, source: * from 2018-12-10 06:30:32.440 to 2018-12-10 06:39:42.440\n"
     ]
    },
    {
     "data": {
      "text/html": [
       "<text style=color:blue>Executing RB.A12 query function find_source_timestamp_ee: 1/45.</text>"
      ],
      "text/plain": [
       "<IPython.core.display.HTML object>"
      ]
     },
     "metadata": {},
     "output_type": "display_data"
    },
    {
     "name": "stdout",
     "output_type": "stream",
     "text": [
      "\tQuerying PM event timestamps for system: QPS, className: DQAMSNRB, source: UA23.RB.A12 from 2018-12-10 22:27:52.220 to 2018-12-10 22:44:42.220\n"
     ]
    },
    {
     "data": {
      "text/html": [
       "<text style=color:blue>Executing RB.A12 query function query_ee_u_dump_res_pm: 2/45.</text>"
      ],
      "text/plain": [
       "<IPython.core.display.HTML object>"
      ]
     },
     "metadata": {},
     "output_type": "display_data"
    },
    {
     "name": "stdout",
     "output_type": "stream",
     "text": [
      "\tQuerying PM event signal(s) UA23.RB.A12:U_DUMP_RES for system: QPS, className: DQAMSNRB, source: UA23.RB.A12 at 2018-12-10 22:28:02.782\n"
     ]
    },
    {
     "data": {
      "text/html": [
       "<text style=color:blue>Executing RB.A12 query function find_source_timestamp_ee: 3/45.</text>"
      ],
      "text/plain": [
       "<IPython.core.display.HTML object>"
      ]
     },
     "metadata": {},
     "output_type": "display_data"
    },
    {
     "name": "stdout",
     "output_type": "stream",
     "text": [
      "\tQuerying PM event timestamps for system: QPS, className: DQAMSNRB, source: RR17.RB.A12 from 2018-12-10 22:27:52.220 to 2018-12-10 22:44:42.220\n"
     ]
    },
    {
     "data": {
      "text/html": [
       "<text style=color:blue>Executing RB.A12 query function query_ee_u_dump_res_pm: 4/45.</text>"
      ],
      "text/plain": [
       "<IPython.core.display.HTML object>"
      ]
     },
     "metadata": {},
     "output_type": "display_data"
    },
    {
     "name": "stdout",
     "output_type": "stream",
     "text": [
      "\tQuerying PM event signal(s) RR17.RB.A12:U_DUMP_RES for system: QPS, className: DQAMSNRB, source: RR17.RB.A12 at 2018-12-10 22:28:02.283\n"
     ]
    },
    {
     "data": {
      "text/html": [
       "<text style=color:blue>Executing RB.A12 query function find_timestamp_pic: 5/45.</text>"
      ],
      "text/plain": [
       "<IPython.core.display.HTML object>"
      ]
     },
     "metadata": {},
     "output_type": "display_data"
    },
    {
     "name": "stdout",
     "output_type": "stream",
     "text": [
      "\tQuerying NXCALS signal(s) RB.A12.ODD:ST_ABORT_PIC, RB.A12.EVEN:ST_ABORT_PIC from 2018-12-10 22:28:01.220 to 2018-12-10 22:29:02.220\n"
     ]
    },
    {
     "data": {
      "text/html": [
       "<text style=color:blue>Executing RB.A12 query function find_source_timestamp_qds: 6/45.</text>"
      ],
      "text/plain": [
       "<IPython.core.display.HTML object>"
      ]
     },
     "metadata": {},
     "output_type": "display_data"
    },
    {
     "name": "stdout",
     "output_type": "stream",
     "text": [
      "\tQuerying PM event timestamps for system: QPS, className: DQAMCNMB_PMSTD, source: * from 2018-12-10 22:27:12.220 to 2018-12-10 22:36:22.220\n"
     ]
    },
    {
     "data": {
      "text/html": [
       "<text style=color:blue>Executing RB.A12 query function find_source_timestamp_ee: 1/45.</text>"
      ],
      "text/plain": [
       "<IPython.core.display.HTML object>"
      ]
     },
     "metadata": {},
     "output_type": "display_data"
    },
    {
     "name": "stdout",
     "output_type": "stream",
     "text": [
      "\tQuerying PM event timestamps for system: QPS, className: DQAMSNRB, source: UA23.RB.A12 from 2018-12-11 09:40:21.800 to 2018-12-11 09:57:11.800\n"
     ]
    },
    {
     "data": {
      "text/html": [
       "<text style=color:blue>Executing RB.A12 query function query_ee_u_dump_res_pm: 2/45.</text>"
      ],
      "text/plain": [
       "<IPython.core.display.HTML object>"
      ]
     },
     "metadata": {},
     "output_type": "display_data"
    },
    {
     "name": "stdout",
     "output_type": "stream",
     "text": [
      "\tQuerying PM event signal(s) UA23.RB.A12:U_DUMP_RES for system: QPS, className: DQAMSNRB, source: UA23.RB.A12 at 2018-12-11 09:40:32.357\n"
     ]
    },
    {
     "data": {
      "text/html": [
       "<text style=color:blue>Executing RB.A12 query function find_source_timestamp_ee: 3/45.</text>"
      ],
      "text/plain": [
       "<IPython.core.display.HTML object>"
      ]
     },
     "metadata": {},
     "output_type": "display_data"
    },
    {
     "name": "stdout",
     "output_type": "stream",
     "text": [
      "\tQuerying PM event timestamps for system: QPS, className: DQAMSNRB, source: RR17.RB.A12 from 2018-12-11 09:40:21.800 to 2018-12-11 09:57:11.800\n"
     ]
    },
    {
     "data": {
      "text/html": [
       "<text style=color:blue>Executing RB.A12 query function query_ee_u_dump_res_pm: 4/45.</text>"
      ],
      "text/plain": [
       "<IPython.core.display.HTML object>"
      ]
     },
     "metadata": {},
     "output_type": "display_data"
    },
    {
     "name": "stdout",
     "output_type": "stream",
     "text": [
      "\tQuerying PM event signal(s) RR17.RB.A12:U_DUMP_RES for system: QPS, className: DQAMSNRB, source: RR17.RB.A12 at 2018-12-11 09:40:31.858\n"
     ]
    },
    {
     "data": {
      "text/html": [
       "<text style=color:blue>Executing RB.A12 query function find_timestamp_pic: 5/45.</text>"
      ],
      "text/plain": [
       "<IPython.core.display.HTML object>"
      ]
     },
     "metadata": {},
     "output_type": "display_data"
    },
    {
     "name": "stdout",
     "output_type": "stream",
     "text": [
      "\tQuerying NXCALS signal(s) RB.A12.ODD:ST_ABORT_PIC, RB.A12.EVEN:ST_ABORT_PIC from 2018-12-11 09:40:30.800 to 2018-12-11 09:41:31.800\n"
     ]
    },
    {
     "data": {
      "text/html": [
       "<text style=color:blue>Executing RB.A12 query function find_source_timestamp_qds: 6/45.</text>"
      ],
      "text/plain": [
       "<IPython.core.display.HTML object>"
      ]
     },
     "metadata": {},
     "output_type": "display_data"
    },
    {
     "name": "stdout",
     "output_type": "stream",
     "text": [
      "\tQuerying PM event timestamps for system: QPS, className: DQAMCNMB_PMSTD, source: * from 2018-12-11 09:39:41.800 to 2018-12-11 09:48:51.800\n"
     ]
    },
    {
     "data": {
      "text/html": [
       "<text style=color:blue>Executing RB.A12 query function find_source_timestamp_ee: 1/45.</text>"
      ],
      "text/plain": [
       "<IPython.core.display.HTML object>"
      ]
     },
     "metadata": {},
     "output_type": "display_data"
    },
    {
     "name": "stdout",
     "output_type": "stream",
     "text": [
      "\tQuerying PM event timestamps for system: QPS, className: DQAMSNRB, source: UA23.RB.A12 from 2018-12-11 21:08:04 to 2018-12-11 21:24:54\n"
     ]
    },
    {
     "data": {
      "text/html": [
       "<text style=color:blue>Executing RB.A12 query function query_ee_u_dump_res_pm: 2/45.</text>"
      ],
      "text/plain": [
       "<IPython.core.display.HTML object>"
      ]
     },
     "metadata": {},
     "output_type": "display_data"
    },
    {
     "name": "stdout",
     "output_type": "stream",
     "text": [
      "\tQuerying PM event signal(s) UA23.RB.A12:U_DUMP_RES for system: QPS, className: DQAMSNRB, source: UA23.RB.A12 at 2018-12-11 21:08:14.559\n"
     ]
    },
    {
     "data": {
      "text/html": [
       "<text style=color:blue>Executing RB.A12 query function find_source_timestamp_ee: 3/45.</text>"
      ],
      "text/plain": [
       "<IPython.core.display.HTML object>"
      ]
     },
     "metadata": {},
     "output_type": "display_data"
    },
    {
     "name": "stdout",
     "output_type": "stream",
     "text": [
      "\tQuerying PM event timestamps for system: QPS, className: DQAMSNRB, source: RR17.RB.A12 from 2018-12-11 21:08:04 to 2018-12-11 21:24:54\n"
     ]
    },
    {
     "data": {
      "text/html": [
       "<text style=color:blue>Executing RB.A12 query function query_ee_u_dump_res_pm: 4/45.</text>"
      ],
      "text/plain": [
       "<IPython.core.display.HTML object>"
      ]
     },
     "metadata": {},
     "output_type": "display_data"
    },
    {
     "name": "stdout",
     "output_type": "stream",
     "text": [
      "\tQuerying PM event signal(s) RR17.RB.A12:U_DUMP_RES for system: QPS, className: DQAMSNRB, source: RR17.RB.A12 at 2018-12-11 21:08:14.060\n"
     ]
    },
    {
     "data": {
      "text/html": [
       "<text style=color:blue>Executing RB.A12 query function find_timestamp_pic: 5/45.</text>"
      ],
      "text/plain": [
       "<IPython.core.display.HTML object>"
      ]
     },
     "metadata": {},
     "output_type": "display_data"
    },
    {
     "name": "stdout",
     "output_type": "stream",
     "text": [
      "\tQuerying NXCALS signal(s) RB.A12.ODD:ST_ABORT_PIC, RB.A12.EVEN:ST_ABORT_PIC from 2018-12-11 21:08:13 to 2018-12-11 21:09:14\n"
     ]
    },
    {
     "data": {
      "text/html": [
       "<text style=color:blue>Executing RB.A12 query function find_source_timestamp_qds: 6/45.</text>"
      ],
      "text/plain": [
       "<IPython.core.display.HTML object>"
      ]
     },
     "metadata": {},
     "output_type": "display_data"
    },
    {
     "name": "stdout",
     "output_type": "stream",
     "text": [
      "\tQuerying PM event timestamps for system: QPS, className: DQAMCNMB_PMSTD, source: * from 2018-12-11 21:07:24 to 2018-12-11 21:16:34\n"
     ]
    },
    {
     "data": {
      "text/html": [
       "<text style=color:blue>Executing RB.A12 query function find_source_timestamp_ee: 1/45.</text>"
      ],
      "text/plain": [
       "<IPython.core.display.HTML object>"
      ]
     },
     "metadata": {},
     "output_type": "display_data"
    },
    {
     "name": "stdout",
     "output_type": "stream",
     "text": [
      "\tQuerying PM event timestamps for system: QPS, className: DQAMSNRB, source: UA23.RB.A12 from 2018-12-12 17:21:24.840 to 2018-12-12 17:38:14.840\n"
     ]
    },
    {
     "data": {
      "text/html": [
       "<text style=color:blue>Executing RB.A12 query function query_ee_u_dump_res_pm: 2/45.</text>"
      ],
      "text/plain": [
       "<IPython.core.display.HTML object>"
      ]
     },
     "metadata": {},
     "output_type": "display_data"
    },
    {
     "name": "stdout",
     "output_type": "stream",
     "text": [
      "\tQuerying PM event signal(s) UA23.RB.A12:U_DUMP_RES for system: QPS, className: DQAMSNRB, source: UA23.RB.A12 at 2018-12-12 17:21:35.395\n"
     ]
    },
    {
     "data": {
      "text/html": [
       "<text style=color:blue>Executing RB.A12 query function find_source_timestamp_ee: 3/45.</text>"
      ],
      "text/plain": [
       "<IPython.core.display.HTML object>"
      ]
     },
     "metadata": {},
     "output_type": "display_data"
    },
    {
     "name": "stdout",
     "output_type": "stream",
     "text": [
      "\tQuerying PM event timestamps for system: QPS, className: DQAMSNRB, source: RR17.RB.A12 from 2018-12-12 17:21:24.840 to 2018-12-12 17:38:14.840\n"
     ]
    },
    {
     "data": {
      "text/html": [
       "<text style=color:blue>Executing RB.A12 query function query_ee_u_dump_res_pm: 4/45.</text>"
      ],
      "text/plain": [
       "<IPython.core.display.HTML object>"
      ]
     },
     "metadata": {},
     "output_type": "display_data"
    },
    {
     "name": "stdout",
     "output_type": "stream",
     "text": [
      "\tQuerying PM event signal(s) RR17.RB.A12:U_DUMP_RES for system: QPS, className: DQAMSNRB, source: RR17.RB.A12 at 2018-12-12 17:21:34.896\n"
     ]
    },
    {
     "data": {
      "text/html": [
       "<text style=color:blue>Executing RB.A12 query function find_timestamp_pic: 5/45.</text>"
      ],
      "text/plain": [
       "<IPython.core.display.HTML object>"
      ]
     },
     "metadata": {},
     "output_type": "display_data"
    },
    {
     "name": "stdout",
     "output_type": "stream",
     "text": [
      "\tQuerying NXCALS signal(s) RB.A12.ODD:ST_ABORT_PIC, RB.A12.EVEN:ST_ABORT_PIC from 2018-12-12 17:21:33.840 to 2018-12-12 17:22:34.840\n"
     ]
    },
    {
     "data": {
      "text/html": [
       "<text style=color:blue>Executing RB.A12 query function find_source_timestamp_qds: 6/45.</text>"
      ],
      "text/plain": [
       "<IPython.core.display.HTML object>"
      ]
     },
     "metadata": {},
     "output_type": "display_data"
    },
    {
     "name": "stdout",
     "output_type": "stream",
     "text": [
      "\tQuerying PM event timestamps for system: QPS, className: DQAMCNMB_PMSTD, source: * from 2018-12-12 17:20:44.840 to 2018-12-12 17:29:54.840\n"
     ]
    },
    {
     "data": {
      "text/html": [
       "<text style=color:blue>Executing RB.A23 query function find_source_timestamp_ee: 1/45.</text>"
      ],
      "text/plain": [
       "<IPython.core.display.HTML object>"
      ]
     },
     "metadata": {},
     "output_type": "display_data"
    },
    {
     "name": "stdout",
     "output_type": "stream",
     "text": [
      "\tQuerying PM event timestamps for system: QPS, className: DQAMSNRB, source: UA27.RB.A23 from 2015-02-14 14:46:03.720 to 2015-02-14 15:02:53.720\n"
     ]
    },
    {
     "data": {
      "text/html": [
       "<text style=color:blue>Executing RB.A23 query function query_ee_u_dump_res_pm: 2/45.</text>"
      ],
      "text/plain": [
       "<IPython.core.display.HTML object>"
      ]
     },
     "metadata": {},
     "output_type": "display_data"
    },
    {
     "name": "stdout",
     "output_type": "stream",
     "text": [
      "\tQuerying PM event signal(s) UA27.RB.A23:U_DUMP_RES for system: QPS, className: DQAMSNRB, source: UA27.RB.A23 at 2015-02-14 14:46:14.270\n"
     ]
    },
    {
     "data": {
      "text/html": [
       "<text style=color:blue>Executing RB.A23 query function find_source_timestamp_ee: 3/45.</text>"
      ],
      "text/plain": [
       "<IPython.core.display.HTML object>"
      ]
     },
     "metadata": {},
     "output_type": "display_data"
    },
    {
     "name": "stdout",
     "output_type": "stream",
     "text": [
      "\tQuerying PM event timestamps for system: QPS, className: DQAMSNRB, source: UJ33.RB.A23 from 2015-02-14 14:46:03.720 to 2015-02-14 15:02:53.720\n"
     ]
    },
    {
     "data": {
      "text/html": [
       "<text style=color:blue>Executing RB.A23 query function query_ee_u_dump_res_pm: 4/45.</text>"
      ],
      "text/plain": [
       "<IPython.core.display.HTML object>"
      ]
     },
     "metadata": {},
     "output_type": "display_data"
    },
    {
     "name": "stdout",
     "output_type": "stream",
     "text": [
      "\tQuerying PM event signal(s) UJ33.RB.A23:U_DUMP_RES for system: QPS, className: DQAMSNRB, source: UJ33.RB.A23 at 2015-02-14 14:46:14.020\n"
     ]
    },
    {
     "data": {
      "text/html": [
       "<text style=color:blue>Executing RB.A23 query function find_timestamp_pic: 5/45.</text>"
      ],
      "text/plain": [
       "<IPython.core.display.HTML object>"
      ]
     },
     "metadata": {},
     "output_type": "display_data"
    },
    {
     "name": "stdout",
     "output_type": "stream",
     "text": [
      "\tQuerying NXCALS signal(s) RB.A23.ODD:ST_ABORT_PIC, RB.A23.EVEN:ST_ABORT_PIC from 2015-02-14 14:46:12.720 to 2015-02-14 14:47:13.720\n"
     ]
    },
    {
     "data": {
      "text/html": [
       "<text style=color:blue>Executing RB.A23 query function find_source_timestamp_qds: 6/45.</text>"
      ],
      "text/plain": [
       "<IPython.core.display.HTML object>"
      ]
     },
     "metadata": {},
     "output_type": "display_data"
    },
    {
     "name": "stdout",
     "output_type": "stream",
     "text": [
      "\tQuerying PM event timestamps for system: QPS, className: DQAMCNMB_PMSTD, source: * from 2015-02-14 14:45:23.720 to 2015-02-14 14:54:33.720\n"
     ]
    },
    {
     "data": {
      "text/html": [
       "<text style=color:blue>Executing RB.A23 query function find_source_timestamp_ee: 1/45.</text>"
      ],
      "text/plain": [
       "<IPython.core.display.HTML object>"
      ]
     },
     "metadata": {},
     "output_type": "display_data"
    },
    {
     "name": "stdout",
     "output_type": "stream",
     "text": [
      "\tQuerying PM event timestamps for system: QPS, className: DQAMSNRB, source: UA27.RB.A23 from 2015-02-17 23:07:12.320 to 2015-02-17 23:24:02.320\n"
     ]
    },
    {
     "data": {
      "text/html": [
       "<text style=color:blue>Executing RB.A23 query function query_ee_u_dump_res_pm: 2/45.</text>"
      ],
      "text/plain": [
       "<IPython.core.display.HTML object>"
      ]
     },
     "metadata": {},
     "output_type": "display_data"
    },
    {
     "name": "stdout",
     "output_type": "stream",
     "text": [
      "\tQuerying PM event signal(s) UA27.RB.A23:U_DUMP_RES for system: QPS, className: DQAMSNRB, source: UA27.RB.A23 at 2015-02-17 23:07:22.879\n"
     ]
    },
    {
     "data": {
      "text/html": [
       "<text style=color:blue>Executing RB.A23 query function find_source_timestamp_ee: 3/45.</text>"
      ],
      "text/plain": [
       "<IPython.core.display.HTML object>"
      ]
     },
     "metadata": {},
     "output_type": "display_data"
    },
    {
     "name": "stdout",
     "output_type": "stream",
     "text": [
      "\tQuerying PM event timestamps for system: QPS, className: DQAMSNRB, source: UJ33.RB.A23 from 2015-02-17 23:07:12.320 to 2015-02-17 23:24:02.320\n"
     ]
    },
    {
     "data": {
      "text/html": [
       "<text style=color:blue>Executing RB.A23 query function query_ee_u_dump_res_pm: 4/45.</text>"
      ],
      "text/plain": [
       "<IPython.core.display.HTML object>"
      ]
     },
     "metadata": {},
     "output_type": "display_data"
    },
    {
     "name": "stdout",
     "output_type": "stream",
     "text": [
      "\tQuerying PM event signal(s) UJ33.RB.A23:U_DUMP_RES for system: QPS, className: DQAMSNRB, source: UJ33.RB.A23 at 2015-02-17 23:07:22.627\n"
     ]
    },
    {
     "data": {
      "text/html": [
       "<text style=color:blue>Executing RB.A23 query function find_timestamp_pic: 5/45.</text>"
      ],
      "text/plain": [
       "<IPython.core.display.HTML object>"
      ]
     },
     "metadata": {},
     "output_type": "display_data"
    },
    {
     "name": "stdout",
     "output_type": "stream",
     "text": [
      "\tQuerying NXCALS signal(s) RB.A23.ODD:ST_ABORT_PIC, RB.A23.EVEN:ST_ABORT_PIC from 2015-02-17 23:07:21.320 to 2015-02-17 23:08:22.320\n"
     ]
    },
    {
     "data": {
      "text/html": [
       "<text style=color:blue>Executing RB.A23 query function find_source_timestamp_qds: 6/45.</text>"
      ],
      "text/plain": [
       "<IPython.core.display.HTML object>"
      ]
     },
     "metadata": {},
     "output_type": "display_data"
    },
    {
     "name": "stdout",
     "output_type": "stream",
     "text": [
      "\tQuerying PM event timestamps for system: QPS, className: DQAMCNMB_PMSTD, source: * from 2015-02-17 23:06:32.320 to 2015-02-17 23:15:42.320\n"
     ]
    },
    {
     "data": {
      "text/html": [
       "<text style=color:blue>Executing RB.A23 query function find_source_timestamp_ee: 1/45.</text>"
      ],
      "text/plain": [
       "<IPython.core.display.HTML object>"
      ]
     },
     "metadata": {},
     "output_type": "display_data"
    },
    {
     "name": "stdout",
     "output_type": "stream",
     "text": [
      "\tQuerying PM event timestamps for system: QPS, className: DQAMSNRB, source: UA27.RB.A23 from 2015-02-19 21:33:35.520 to 2015-02-19 21:50:25.520\n"
     ]
    },
    {
     "data": {
      "text/html": [
       "<text style=color:blue>Executing RB.A23 query function query_ee_u_dump_res_pm: 2/45.</text>"
      ],
      "text/plain": [
       "<IPython.core.display.HTML object>"
      ]
     },
     "metadata": {},
     "output_type": "display_data"
    },
    {
     "name": "stdout",
     "output_type": "stream",
     "text": [
      "\tQuerying PM event signal(s) UA27.RB.A23:U_DUMP_RES for system: QPS, className: DQAMSNRB, source: UA27.RB.A23 at 2015-02-19 21:33:46.070\n"
     ]
    },
    {
     "data": {
      "text/html": [
       "<text style=color:blue>Executing RB.A23 query function find_source_timestamp_ee: 3/45.</text>"
      ],
      "text/plain": [
       "<IPython.core.display.HTML object>"
      ]
     },
     "metadata": {},
     "output_type": "display_data"
    },
    {
     "name": "stdout",
     "output_type": "stream",
     "text": [
      "\tQuerying PM event timestamps for system: QPS, className: DQAMSNRB, source: UJ33.RB.A23 from 2015-02-19 21:33:35.520 to 2015-02-19 21:50:25.520\n"
     ]
    },
    {
     "data": {
      "text/html": [
       "<text style=color:blue>Executing RB.A23 query function query_ee_u_dump_res_pm: 4/45.</text>"
      ],
      "text/plain": [
       "<IPython.core.display.HTML object>"
      ]
     },
     "metadata": {},
     "output_type": "display_data"
    },
    {
     "name": "stdout",
     "output_type": "stream",
     "text": [
      "\tQuerying PM event signal(s) UJ33.RB.A23:U_DUMP_RES for system: QPS, className: DQAMSNRB, source: UJ33.RB.A23 at 2015-02-19 21:33:45.820\n"
     ]
    },
    {
     "data": {
      "text/html": [
       "<text style=color:blue>Executing RB.A23 query function find_timestamp_pic: 5/45.</text>"
      ],
      "text/plain": [
       "<IPython.core.display.HTML object>"
      ]
     },
     "metadata": {},
     "output_type": "display_data"
    },
    {
     "name": "stdout",
     "output_type": "stream",
     "text": [
      "\tQuerying NXCALS signal(s) RB.A23.ODD:ST_ABORT_PIC, RB.A23.EVEN:ST_ABORT_PIC from 2015-02-19 21:33:44.520 to 2015-02-19 21:34:45.520\n"
     ]
    },
    {
     "data": {
      "text/html": [
       "<text style=color:blue>Executing RB.A23 query function find_source_timestamp_qds: 6/45.</text>"
      ],
      "text/plain": [
       "<IPython.core.display.HTML object>"
      ]
     },
     "metadata": {},
     "output_type": "display_data"
    },
    {
     "name": "stdout",
     "output_type": "stream",
     "text": [
      "\tQuerying PM event timestamps for system: QPS, className: DQAMCNMB_PMSTD, source: * from 2015-02-19 21:32:55.520 to 2015-02-19 21:42:05.520\n"
     ]
    },
    {
     "data": {
      "text/html": [
       "<text style=color:blue>Executing RB.A23 query function find_source_timestamp_ee: 1/45.</text>"
      ],
      "text/plain": [
       "<IPython.core.display.HTML object>"
      ]
     },
     "metadata": {},
     "output_type": "display_data"
    },
    {
     "name": "stdout",
     "output_type": "stream",
     "text": [
      "\tQuerying PM event timestamps for system: QPS, className: DQAMSNRB, source: UA27.RB.A23 from 2015-02-20 07:45:20.280 to 2015-02-20 08:02:10.280\n"
     ]
    },
    {
     "data": {
      "text/html": [
       "<text style=color:blue>Executing RB.A23 query function query_ee_u_dump_res_pm: 2/45.</text>"
      ],
      "text/plain": [
       "<IPython.core.display.HTML object>"
      ]
     },
     "metadata": {},
     "output_type": "display_data"
    },
    {
     "name": "stdout",
     "output_type": "stream",
     "text": [
      "\tQuerying PM event signal(s) UA27.RB.A23:U_DUMP_RES for system: QPS, className: DQAMSNRB, source: UA27.RB.A23 at 2015-02-20 07:45:30.821\n"
     ]
    },
    {
     "data": {
      "text/html": [
       "<text style=color:blue>Executing RB.A23 query function find_source_timestamp_ee: 3/45.</text>"
      ],
      "text/plain": [
       "<IPython.core.display.HTML object>"
      ]
     },
     "metadata": {},
     "output_type": "display_data"
    },
    {
     "name": "stdout",
     "output_type": "stream",
     "text": [
      "\tQuerying PM event timestamps for system: QPS, className: DQAMSNRB, source: UJ33.RB.A23 from 2015-02-20 07:45:20.280 to 2015-02-20 08:02:10.280\n"
     ]
    },
    {
     "data": {
      "text/html": [
       "<text style=color:blue>Executing RB.A23 query function query_ee_u_dump_res_pm: 4/45.</text>"
      ],
      "text/plain": [
       "<IPython.core.display.HTML object>"
      ]
     },
     "metadata": {},
     "output_type": "display_data"
    },
    {
     "name": "stdout",
     "output_type": "stream",
     "text": [
      "\tQuerying PM event signal(s) UJ33.RB.A23:U_DUMP_RES for system: QPS, className: DQAMSNRB, source: UJ33.RB.A23 at 2015-02-20 07:45:30.573\n"
     ]
    },
    {
     "data": {
      "text/html": [
       "<text style=color:blue>Executing RB.A23 query function find_timestamp_pic: 5/45.</text>"
      ],
      "text/plain": [
       "<IPython.core.display.HTML object>"
      ]
     },
     "metadata": {},
     "output_type": "display_data"
    },
    {
     "name": "stdout",
     "output_type": "stream",
     "text": [
      "\tQuerying NXCALS signal(s) RB.A23.ODD:ST_ABORT_PIC, RB.A23.EVEN:ST_ABORT_PIC from 2015-02-20 07:45:29.280 to 2015-02-20 07:46:30.280\n"
     ]
    },
    {
     "data": {
      "text/html": [
       "<text style=color:blue>Executing RB.A23 query function find_source_timestamp_qds: 6/45.</text>"
      ],
      "text/plain": [
       "<IPython.core.display.HTML object>"
      ]
     },
     "metadata": {},
     "output_type": "display_data"
    },
    {
     "name": "stdout",
     "output_type": "stream",
     "text": [
      "\tQuerying PM event timestamps for system: QPS, className: DQAMCNMB_PMSTD, source: * from 2015-02-20 07:44:40.280 to 2015-02-20 07:53:50.280\n"
     ]
    },
    {
     "data": {
      "text/html": [
       "<text style=color:blue>Executing RB.A23 query function find_source_timestamp_ee: 1/45.</text>"
      ],
      "text/plain": [
       "<IPython.core.display.HTML object>"
      ]
     },
     "metadata": {},
     "output_type": "display_data"
    },
    {
     "name": "stdout",
     "output_type": "stream",
     "text": [
      "\tQuerying PM event timestamps for system: QPS, className: DQAMSNRB, source: UA27.RB.A23 from 2015-02-20 21:48:38.420 to 2015-02-20 22:05:28.420\n"
     ]
    },
    {
     "data": {
      "text/html": [
       "<text style=color:blue>Executing RB.A23 query function query_ee_u_dump_res_pm: 2/45.</text>"
      ],
      "text/plain": [
       "<IPython.core.display.HTML object>"
      ]
     },
     "metadata": {},
     "output_type": "display_data"
    },
    {
     "name": "stdout",
     "output_type": "stream",
     "text": [
      "\tQuerying PM event signal(s) UA27.RB.A23:U_DUMP_RES for system: QPS, className: DQAMSNRB, source: UA27.RB.A23 at 2015-02-20 21:48:48.961\n"
     ]
    },
    {
     "data": {
      "text/html": [
       "<text style=color:blue>Executing RB.A23 query function find_source_timestamp_ee: 3/45.</text>"
      ],
      "text/plain": [
       "<IPython.core.display.HTML object>"
      ]
     },
     "metadata": {},
     "output_type": "display_data"
    },
    {
     "name": "stdout",
     "output_type": "stream",
     "text": [
      "\tQuerying PM event timestamps for system: QPS, className: DQAMSNRB, source: UJ33.RB.A23 from 2015-02-20 21:48:38.420 to 2015-02-20 22:05:28.420\n"
     ]
    },
    {
     "data": {
      "text/html": [
       "<text style=color:blue>Executing RB.A23 query function query_ee_u_dump_res_pm: 4/45.</text>"
      ],
      "text/plain": [
       "<IPython.core.display.HTML object>"
      ]
     },
     "metadata": {},
     "output_type": "display_data"
    },
    {
     "name": "stdout",
     "output_type": "stream",
     "text": [
      "\tQuerying PM event signal(s) UJ33.RB.A23:U_DUMP_RES for system: QPS, className: DQAMSNRB, source: UJ33.RB.A23 at 2015-02-20 21:48:48.710\n"
     ]
    },
    {
     "data": {
      "text/html": [
       "<text style=color:blue>Executing RB.A23 query function find_timestamp_pic: 5/45.</text>"
      ],
      "text/plain": [
       "<IPython.core.display.HTML object>"
      ]
     },
     "metadata": {},
     "output_type": "display_data"
    },
    {
     "name": "stdout",
     "output_type": "stream",
     "text": [
      "\tQuerying NXCALS signal(s) RB.A23.ODD:ST_ABORT_PIC, RB.A23.EVEN:ST_ABORT_PIC from 2015-02-20 21:48:47.420 to 2015-02-20 21:49:48.420\n"
     ]
    },
    {
     "data": {
      "text/html": [
       "<text style=color:blue>Executing RB.A23 query function find_source_timestamp_qds: 6/45.</text>"
      ],
      "text/plain": [
       "<IPython.core.display.HTML object>"
      ]
     },
     "metadata": {},
     "output_type": "display_data"
    },
    {
     "name": "stdout",
     "output_type": "stream",
     "text": [
      "\tQuerying PM event timestamps for system: QPS, className: DQAMCNMB_PMSTD, source: * from 2015-02-20 21:47:58.420 to 2015-02-20 21:57:08.420\n"
     ]
    },
    {
     "data": {
      "text/html": [
       "<text style=color:blue>Executing RB.A23 query function find_source_timestamp_ee: 1/45.</text>"
      ],
      "text/plain": [
       "<IPython.core.display.HTML object>"
      ]
     },
     "metadata": {},
     "output_type": "display_data"
    },
    {
     "name": "stdout",
     "output_type": "stream",
     "text": [
      "\tQuerying PM event timestamps for system: QPS, className: DQAMSNRB, source: UA27.RB.A23 from 2015-02-21 07:49:40.280 to 2015-02-21 08:06:30.280\n"
     ]
    },
    {
     "data": {
      "text/html": [
       "<text style=color:blue>Executing RB.A23 query function query_ee_u_dump_res_pm: 2/45.</text>"
      ],
      "text/plain": [
       "<IPython.core.display.HTML object>"
      ]
     },
     "metadata": {},
     "output_type": "display_data"
    },
    {
     "name": "stdout",
     "output_type": "stream",
     "text": [
      "\tQuerying PM event signal(s) UA27.RB.A23:U_DUMP_RES for system: QPS, className: DQAMSNRB, source: UA27.RB.A23 at 2015-02-21 07:49:50.823\n"
     ]
    },
    {
     "data": {
      "text/html": [
       "<text style=color:blue>Executing RB.A23 query function find_source_timestamp_ee: 3/45.</text>"
      ],
      "text/plain": [
       "<IPython.core.display.HTML object>"
      ]
     },
     "metadata": {},
     "output_type": "display_data"
    },
    {
     "name": "stdout",
     "output_type": "stream",
     "text": [
      "\tQuerying PM event timestamps for system: QPS, className: DQAMSNRB, source: UJ33.RB.A23 from 2015-02-21 07:49:40.280 to 2015-02-21 08:06:30.280\n"
     ]
    },
    {
     "data": {
      "text/html": [
       "<text style=color:blue>Executing RB.A23 query function query_ee_u_dump_res_pm: 4/45.</text>"
      ],
      "text/plain": [
       "<IPython.core.display.HTML object>"
      ]
     },
     "metadata": {},
     "output_type": "display_data"
    },
    {
     "name": "stdout",
     "output_type": "stream",
     "text": [
      "\tQuerying PM event signal(s) UJ33.RB.A23:U_DUMP_RES for system: QPS, className: DQAMSNRB, source: UJ33.RB.A23 at 2015-02-21 07:49:50.574\n"
     ]
    },
    {
     "data": {
      "text/html": [
       "<text style=color:blue>Executing RB.A23 query function find_timestamp_pic: 5/45.</text>"
      ],
      "text/plain": [
       "<IPython.core.display.HTML object>"
      ]
     },
     "metadata": {},
     "output_type": "display_data"
    },
    {
     "name": "stdout",
     "output_type": "stream",
     "text": [
      "\tQuerying NXCALS signal(s) RB.A23.ODD:ST_ABORT_PIC, RB.A23.EVEN:ST_ABORT_PIC from 2015-02-21 07:49:49.280 to 2015-02-21 07:50:50.280\n"
     ]
    },
    {
     "data": {
      "text/html": [
       "<text style=color:blue>Executing RB.A23 query function find_source_timestamp_qds: 6/45.</text>"
      ],
      "text/plain": [
       "<IPython.core.display.HTML object>"
      ]
     },
     "metadata": {},
     "output_type": "display_data"
    },
    {
     "name": "stdout",
     "output_type": "stream",
     "text": [
      "\tQuerying PM event timestamps for system: QPS, className: DQAMCNMB_PMSTD, source: * from 2015-02-21 07:49:00.280 to 2015-02-21 07:58:10.280\n"
     ]
    },
    {
     "data": {
      "text/html": [
       "<text style=color:blue>Executing RB.A23 query function find_source_timestamp_ee: 1/45.</text>"
      ],
      "text/plain": [
       "<IPython.core.display.HTML object>"
      ]
     },
     "metadata": {},
     "output_type": "display_data"
    },
    {
     "name": "stdout",
     "output_type": "stream",
     "text": [
      "\tQuerying PM event timestamps for system: QPS, className: DQAMSNRB, source: UA27.RB.A23 from 2015-02-21 19:43:24.080 to 2015-02-21 20:00:14.080\n"
     ]
    },
    {
     "data": {
      "text/html": [
       "<text style=color:blue>Executing RB.A23 query function query_ee_u_dump_res_pm: 2/45.</text>"
      ],
      "text/plain": [
       "<IPython.core.display.HTML object>"
      ]
     },
     "metadata": {},
     "output_type": "display_data"
    },
    {
     "name": "stdout",
     "output_type": "stream",
     "text": [
      "\tQuerying PM event signal(s) UA27.RB.A23:U_DUMP_RES for system: QPS, className: DQAMSNRB, source: UA27.RB.A23 at 2015-02-21 19:43:34.621\n"
     ]
    },
    {
     "data": {
      "text/html": [
       "<text style=color:blue>Executing RB.A23 query function find_source_timestamp_ee: 3/45.</text>"
      ],
      "text/plain": [
       "<IPython.core.display.HTML object>"
      ]
     },
     "metadata": {},
     "output_type": "display_data"
    },
    {
     "name": "stdout",
     "output_type": "stream",
     "text": [
      "\tQuerying PM event timestamps for system: QPS, className: DQAMSNRB, source: UJ33.RB.A23 from 2015-02-21 19:43:24.080 to 2015-02-21 20:00:14.080\n"
     ]
    },
    {
     "data": {
      "text/html": [
       "<text style=color:blue>Executing RB.A23 query function query_ee_u_dump_res_pm: 4/45.</text>"
      ],
      "text/plain": [
       "<IPython.core.display.HTML object>"
      ]
     },
     "metadata": {},
     "output_type": "display_data"
    },
    {
     "name": "stdout",
     "output_type": "stream",
     "text": [
      "\tQuerying PM event signal(s) UJ33.RB.A23:U_DUMP_RES for system: QPS, className: DQAMSNRB, source: UJ33.RB.A23 at 2015-02-21 19:43:34.373\n"
     ]
    },
    {
     "data": {
      "text/html": [
       "<text style=color:blue>Executing RB.A23 query function find_timestamp_pic: 5/45.</text>"
      ],
      "text/plain": [
       "<IPython.core.display.HTML object>"
      ]
     },
     "metadata": {},
     "output_type": "display_data"
    },
    {
     "name": "stdout",
     "output_type": "stream",
     "text": [
      "\tQuerying NXCALS signal(s) RB.A23.ODD:ST_ABORT_PIC, RB.A23.EVEN:ST_ABORT_PIC from 2015-02-21 19:43:33.080 to 2015-02-21 19:44:34.080\n"
     ]
    },
    {
     "data": {
      "text/html": [
       "<text style=color:blue>Executing RB.A23 query function find_source_timestamp_qds: 6/45.</text>"
      ],
      "text/plain": [
       "<IPython.core.display.HTML object>"
      ]
     },
     "metadata": {},
     "output_type": "display_data"
    },
    {
     "name": "stdout",
     "output_type": "stream",
     "text": [
      "\tQuerying PM event timestamps for system: QPS, className: DQAMCNMB_PMSTD, source: * from 2015-02-21 19:42:44.080 to 2015-02-21 19:51:54.080\n"
     ]
    },
    {
     "data": {
      "text/html": [
       "<text style=color:blue>Executing RB.A23 query function find_source_timestamp_ee: 1/45.</text>"
      ],
      "text/plain": [
       "<IPython.core.display.HTML object>"
      ]
     },
     "metadata": {},
     "output_type": "display_data"
    },
    {
     "name": "stdout",
     "output_type": "stream",
     "text": [
      "\tQuerying PM event timestamps for system: QPS, className: DQAMSNRB, source: UA27.RB.A23 from 2015-02-22 10:17:50.980 to 2015-02-22 10:34:40.980\n"
     ]
    },
    {
     "data": {
      "text/html": [
       "<text style=color:blue>Executing RB.A23 query function query_ee_u_dump_res_pm: 2/45.</text>"
      ],
      "text/plain": [
       "<IPython.core.display.HTML object>"
      ]
     },
     "metadata": {},
     "output_type": "display_data"
    },
    {
     "name": "stdout",
     "output_type": "stream",
     "text": [
      "\tQuerying PM event signal(s) UA27.RB.A23:U_DUMP_RES for system: QPS, className: DQAMSNRB, source: UA27.RB.A23 at 2015-02-22 10:18:01.536\n"
     ]
    },
    {
     "data": {
      "text/html": [
       "<text style=color:blue>Executing RB.A23 query function find_source_timestamp_ee: 3/45.</text>"
      ],
      "text/plain": [
       "<IPython.core.display.HTML object>"
      ]
     },
     "metadata": {},
     "output_type": "display_data"
    },
    {
     "name": "stdout",
     "output_type": "stream",
     "text": [
      "\tQuerying PM event timestamps for system: QPS, className: DQAMSNRB, source: UJ33.RB.A23 from 2015-02-22 10:17:50.980 to 2015-02-22 10:34:40.980\n"
     ]
    },
    {
     "data": {
      "text/html": [
       "<text style=color:blue>Executing RB.A23 query function query_ee_u_dump_res_pm: 4/45.</text>"
      ],
      "text/plain": [
       "<IPython.core.display.HTML object>"
      ]
     },
     "metadata": {},
     "output_type": "display_data"
    },
    {
     "name": "stdout",
     "output_type": "stream",
     "text": [
      "\tQuerying PM event signal(s) UJ33.RB.A23:U_DUMP_RES for system: QPS, className: DQAMSNRB, source: UJ33.RB.A23 at 2015-02-22 10:18:01.285\n"
     ]
    },
    {
     "data": {
      "text/html": [
       "<text style=color:blue>Executing RB.A23 query function find_timestamp_pic: 5/45.</text>"
      ],
      "text/plain": [
       "<IPython.core.display.HTML object>"
      ]
     },
     "metadata": {},
     "output_type": "display_data"
    },
    {
     "name": "stdout",
     "output_type": "stream",
     "text": [
      "\tQuerying NXCALS signal(s) RB.A23.ODD:ST_ABORT_PIC, RB.A23.EVEN:ST_ABORT_PIC from 2015-02-22 10:17:59.980 to 2015-02-22 10:19:00.980\n"
     ]
    },
    {
     "data": {
      "text/html": [
       "<text style=color:blue>Executing RB.A23 query function find_source_timestamp_qds: 6/45.</text>"
      ],
      "text/plain": [
       "<IPython.core.display.HTML object>"
      ]
     },
     "metadata": {},
     "output_type": "display_data"
    },
    {
     "name": "stdout",
     "output_type": "stream",
     "text": [
      "\tQuerying PM event timestamps for system: QPS, className: DQAMCNMB_PMSTD, source: * from 2015-02-22 10:17:10.980 to 2015-02-22 10:26:20.980\n"
     ]
    },
    {
     "data": {
      "text/html": [
       "<text style=color:blue>Executing RB.A23 query function find_source_timestamp_ee: 1/45.</text>"
      ],
      "text/plain": [
       "<IPython.core.display.HTML object>"
      ]
     },
     "metadata": {},
     "output_type": "display_data"
    },
    {
     "name": "stdout",
     "output_type": "stream",
     "text": [
      "\tQuerying PM event timestamps for system: QPS, className: DQAMSNRB, source: UA27.RB.A23 from 2015-02-22 21:55:32.740 to 2015-02-22 22:12:22.740\n"
     ]
    },
    {
     "data": {
      "text/html": [
       "<text style=color:blue>Executing RB.A23 query function query_ee_u_dump_res_pm: 2/45.</text>"
      ],
      "text/plain": [
       "<IPython.core.display.HTML object>"
      ]
     },
     "metadata": {},
     "output_type": "display_data"
    },
    {
     "name": "stdout",
     "output_type": "stream",
     "text": [
      "\tQuerying PM event signal(s) UA27.RB.A23:U_DUMP_RES for system: QPS, className: DQAMSNRB, source: UA27.RB.A23 at 2015-02-22 21:55:43.291\n"
     ]
    },
    {
     "data": {
      "text/html": [
       "<text style=color:blue>Executing RB.A23 query function find_source_timestamp_ee: 3/45.</text>"
      ],
      "text/plain": [
       "<IPython.core.display.HTML object>"
      ]
     },
     "metadata": {},
     "output_type": "display_data"
    },
    {
     "name": "stdout",
     "output_type": "stream",
     "text": [
      "\tQuerying PM event timestamps for system: QPS, className: DQAMSNRB, source: UJ33.RB.A23 from 2015-02-22 21:55:32.740 to 2015-02-22 22:12:22.740\n"
     ]
    },
    {
     "data": {
      "text/html": [
       "<text style=color:blue>Executing RB.A23 query function query_ee_u_dump_res_pm: 4/45.</text>"
      ],
      "text/plain": [
       "<IPython.core.display.HTML object>"
      ]
     },
     "metadata": {},
     "output_type": "display_data"
    },
    {
     "name": "stdout",
     "output_type": "stream",
     "text": [
      "\tQuerying PM event signal(s) UJ33.RB.A23:U_DUMP_RES for system: QPS, className: DQAMSNRB, source: UJ33.RB.A23 at 2015-02-22 21:55:43.038\n"
     ]
    },
    {
     "data": {
      "text/html": [
       "<text style=color:blue>Executing RB.A23 query function find_timestamp_pic: 5/45.</text>"
      ],
      "text/plain": [
       "<IPython.core.display.HTML object>"
      ]
     },
     "metadata": {},
     "output_type": "display_data"
    },
    {
     "name": "stdout",
     "output_type": "stream",
     "text": [
      "\tQuerying NXCALS signal(s) RB.A23.ODD:ST_ABORT_PIC, RB.A23.EVEN:ST_ABORT_PIC from 2015-02-22 21:55:41.740 to 2015-02-22 21:56:42.740\n"
     ]
    },
    {
     "data": {
      "text/html": [
       "<text style=color:blue>Executing RB.A23 query function find_source_timestamp_qds: 6/45.</text>"
      ],
      "text/plain": [
       "<IPython.core.display.HTML object>"
      ]
     },
     "metadata": {},
     "output_type": "display_data"
    },
    {
     "name": "stdout",
     "output_type": "stream",
     "text": [
      "\tQuerying PM event timestamps for system: QPS, className: DQAMCNMB_PMSTD, source: * from 2015-02-22 21:54:52.740 to 2015-02-22 22:04:02.740\n"
     ]
    },
    {
     "data": {
      "text/html": [
       "<text style=color:blue>Executing RB.A23 query function find_source_timestamp_ee: 1/45.</text>"
      ],
      "text/plain": [
       "<IPython.core.display.HTML object>"
      ]
     },
     "metadata": {},
     "output_type": "display_data"
    },
    {
     "name": "stdout",
     "output_type": "stream",
     "text": [
      "\tQuerying PM event timestamps for system: QPS, className: DQAMSNRB, source: UA27.RB.A23 from 2015-02-23 07:47:29.980 to 2015-02-23 08:04:19.980\n"
     ]
    },
    {
     "data": {
      "text/html": [
       "<text style=color:blue>Executing RB.A23 query function query_ee_u_dump_res_pm: 2/45.</text>"
      ],
      "text/plain": [
       "<IPython.core.display.HTML object>"
      ]
     },
     "metadata": {},
     "output_type": "display_data"
    },
    {
     "name": "stdout",
     "output_type": "stream",
     "text": [
      "\tQuerying PM event signal(s) UA27.RB.A23:U_DUMP_RES for system: QPS, className: DQAMSNRB, source: UA27.RB.A23 at 2015-02-23 07:47:40.526\n"
     ]
    },
    {
     "data": {
      "text/html": [
       "<text style=color:blue>Executing RB.A23 query function find_source_timestamp_ee: 3/45.</text>"
      ],
      "text/plain": [
       "<IPython.core.display.HTML object>"
      ]
     },
     "metadata": {},
     "output_type": "display_data"
    },
    {
     "name": "stdout",
     "output_type": "stream",
     "text": [
      "\tQuerying PM event timestamps for system: QPS, className: DQAMSNRB, source: UJ33.RB.A23 from 2015-02-23 07:47:29.980 to 2015-02-23 08:04:19.980\n"
     ]
    },
    {
     "data": {
      "text/html": [
       "<text style=color:blue>Executing RB.A23 query function query_ee_u_dump_res_pm: 4/45.</text>"
      ],
      "text/plain": [
       "<IPython.core.display.HTML object>"
      ]
     },
     "metadata": {},
     "output_type": "display_data"
    },
    {
     "name": "stdout",
     "output_type": "stream",
     "text": [
      "\tQuerying PM event signal(s) UJ33.RB.A23:U_DUMP_RES for system: QPS, className: DQAMSNRB, source: UJ33.RB.A23 at 2015-02-23 07:47:40.274\n"
     ]
    },
    {
     "data": {
      "text/html": [
       "<text style=color:blue>Executing RB.A23 query function find_timestamp_pic: 5/45.</text>"
      ],
      "text/plain": [
       "<IPython.core.display.HTML object>"
      ]
     },
     "metadata": {},
     "output_type": "display_data"
    },
    {
     "name": "stdout",
     "output_type": "stream",
     "text": [
      "\tQuerying NXCALS signal(s) RB.A23.ODD:ST_ABORT_PIC, RB.A23.EVEN:ST_ABORT_PIC from 2015-02-23 07:47:38.980 to 2015-02-23 07:48:39.980\n"
     ]
    },
    {
     "data": {
      "text/html": [
       "<text style=color:blue>Executing RB.A23 query function find_source_timestamp_qds: 6/45.</text>"
      ],
      "text/plain": [
       "<IPython.core.display.HTML object>"
      ]
     },
     "metadata": {},
     "output_type": "display_data"
    },
    {
     "name": "stdout",
     "output_type": "stream",
     "text": [
      "\tQuerying PM event timestamps for system: QPS, className: DQAMCNMB_PMSTD, source: * from 2015-02-23 07:46:49.980 to 2015-02-23 07:55:59.980\n"
     ]
    },
    {
     "data": {
      "text/html": [
       "<text style=color:blue>Executing RB.A23 query function find_source_timestamp_ee: 1/45.</text>"
      ],
      "text/plain": [
       "<IPython.core.display.HTML object>"
      ]
     },
     "metadata": {},
     "output_type": "display_data"
    },
    {
     "name": "stdout",
     "output_type": "stream",
     "text": [
      "\tQuerying PM event timestamps for system: QPS, className: DQAMSNRB, source: UA27.RB.A23 from 2015-02-24 07:24:45.900 to 2015-02-24 07:41:35.900\n"
     ]
    },
    {
     "data": {
      "text/html": [
       "<text style=color:blue>Executing RB.A23 query function query_ee_u_dump_res_pm: 2/45.</text>"
      ],
      "text/plain": [
       "<IPython.core.display.HTML object>"
      ]
     },
     "metadata": {},
     "output_type": "display_data"
    },
    {
     "name": "stdout",
     "output_type": "stream",
     "text": [
      "\tQuerying PM event signal(s) UA27.RB.A23:U_DUMP_RES for system: QPS, className: DQAMSNRB, source: UA27.RB.A23 at 2015-02-24 07:24:56.446\n"
     ]
    },
    {
     "data": {
      "text/html": [
       "<text style=color:blue>Executing RB.A23 query function find_source_timestamp_ee: 3/45.</text>"
      ],
      "text/plain": [
       "<IPython.core.display.HTML object>"
      ]
     },
     "metadata": {},
     "output_type": "display_data"
    },
    {
     "name": "stdout",
     "output_type": "stream",
     "text": [
      "\tQuerying PM event timestamps for system: QPS, className: DQAMSNRB, source: UJ33.RB.A23 from 2015-02-24 07:24:45.900 to 2015-02-24 07:41:35.900\n"
     ]
    },
    {
     "data": {
      "text/html": [
       "<text style=color:blue>Executing RB.A23 query function query_ee_u_dump_res_pm: 4/45.</text>"
      ],
      "text/plain": [
       "<IPython.core.display.HTML object>"
      ]
     },
     "metadata": {},
     "output_type": "display_data"
    },
    {
     "name": "stdout",
     "output_type": "stream",
     "text": [
      "\tQuerying PM event signal(s) UJ33.RB.A23:U_DUMP_RES for system: QPS, className: DQAMSNRB, source: UJ33.RB.A23 at 2015-02-24 07:24:56.198\n"
     ]
    },
    {
     "data": {
      "text/html": [
       "<text style=color:blue>Executing RB.A23 query function find_timestamp_pic: 5/45.</text>"
      ],
      "text/plain": [
       "<IPython.core.display.HTML object>"
      ]
     },
     "metadata": {},
     "output_type": "display_data"
    },
    {
     "name": "stdout",
     "output_type": "stream",
     "text": [
      "\tQuerying NXCALS signal(s) RB.A23.ODD:ST_ABORT_PIC, RB.A23.EVEN:ST_ABORT_PIC from 2015-02-24 07:24:54.900 to 2015-02-24 07:25:55.900\n"
     ]
    },
    {
     "data": {
      "text/html": [
       "<text style=color:blue>Executing RB.A23 query function find_source_timestamp_qds: 6/45.</text>"
      ],
      "text/plain": [
       "<IPython.core.display.HTML object>"
      ]
     },
     "metadata": {},
     "output_type": "display_data"
    },
    {
     "name": "stdout",
     "output_type": "stream",
     "text": [
      "\tQuerying PM event timestamps for system: QPS, className: DQAMCNMB_PMSTD, source: * from 2015-02-24 07:24:05.900 to 2015-02-24 07:33:15.900\n"
     ]
    },
    {
     "data": {
      "text/html": [
       "<text style=color:blue>Executing RB.A23 query function find_source_timestamp_ee: 1/45.</text>"
      ],
      "text/plain": [
       "<IPython.core.display.HTML object>"
      ]
     },
     "metadata": {},
     "output_type": "display_data"
    },
    {
     "name": "stdout",
     "output_type": "stream",
     "text": [
      "\tQuerying PM event timestamps for system: QPS, className: DQAMSNRB, source: UA27.RB.A23 from 2015-02-24 22:21:39.260 to 2015-02-24 22:38:29.260\n"
     ]
    },
    {
     "data": {
      "text/html": [
       "<text style=color:blue>Executing RB.A23 query function query_ee_u_dump_res_pm: 2/45.</text>"
      ],
      "text/plain": [
       "<IPython.core.display.HTML object>"
      ]
     },
     "metadata": {},
     "output_type": "display_data"
    },
    {
     "name": "stdout",
     "output_type": "stream",
     "text": [
      "\tQuerying PM event signal(s) UA27.RB.A23:U_DUMP_RES for system: QPS, className: DQAMSNRB, source: UA27.RB.A23 at 2015-02-24 22:21:49.806\n"
     ]
    },
    {
     "data": {
      "text/html": [
       "<text style=color:blue>Executing RB.A23 query function find_source_timestamp_ee: 3/45.</text>"
      ],
      "text/plain": [
       "<IPython.core.display.HTML object>"
      ]
     },
     "metadata": {},
     "output_type": "display_data"
    },
    {
     "name": "stdout",
     "output_type": "stream",
     "text": [
      "\tQuerying PM event timestamps for system: QPS, className: DQAMSNRB, source: UJ33.RB.A23 from 2015-02-24 22:21:39.260 to 2015-02-24 22:38:29.260\n"
     ]
    },
    {
     "data": {
      "text/html": [
       "<text style=color:blue>Executing RB.A23 query function query_ee_u_dump_res_pm: 4/45.</text>"
      ],
      "text/plain": [
       "<IPython.core.display.HTML object>"
      ]
     },
     "metadata": {},
     "output_type": "display_data"
    },
    {
     "name": "stdout",
     "output_type": "stream",
     "text": [
      "\tQuerying PM event signal(s) UJ33.RB.A23:U_DUMP_RES for system: QPS, className: DQAMSNRB, source: UJ33.RB.A23 at 2015-02-24 22:21:49.558\n"
     ]
    },
    {
     "data": {
      "text/html": [
       "<text style=color:blue>Executing RB.A23 query function find_timestamp_pic: 5/45.</text>"
      ],
      "text/plain": [
       "<IPython.core.display.HTML object>"
      ]
     },
     "metadata": {},
     "output_type": "display_data"
    },
    {
     "name": "stdout",
     "output_type": "stream",
     "text": [
      "\tQuerying NXCALS signal(s) RB.A23.ODD:ST_ABORT_PIC, RB.A23.EVEN:ST_ABORT_PIC from 2015-02-24 22:21:48.260 to 2015-02-24 22:22:49.260\n"
     ]
    },
    {
     "data": {
      "text/html": [
       "<text style=color:blue>Executing RB.A23 query function find_source_timestamp_qds: 6/45.</text>"
      ],
      "text/plain": [
       "<IPython.core.display.HTML object>"
      ]
     },
     "metadata": {},
     "output_type": "display_data"
    },
    {
     "name": "stdout",
     "output_type": "stream",
     "text": [
      "\tQuerying PM event timestamps for system: QPS, className: DQAMCNMB_PMSTD, source: * from 2015-02-24 22:20:59.260 to 2015-02-24 22:30:09.260\n"
     ]
    },
    {
     "data": {
      "text/html": [
       "<text style=color:blue>Executing RB.A23 query function find_source_timestamp_ee: 1/45.</text>"
      ],
      "text/plain": [
       "<IPython.core.display.HTML object>"
      ]
     },
     "metadata": {},
     "output_type": "display_data"
    },
    {
     "name": "stdout",
     "output_type": "stream",
     "text": [
      "\tQuerying PM event timestamps for system: QPS, className: DQAMSNRB, source: UA27.RB.A23 from 2015-02-25 08:38:21.280 to 2015-02-25 08:55:11.280\n"
     ]
    },
    {
     "data": {
      "text/html": [
       "<text style=color:blue>Executing RB.A23 query function query_ee_u_dump_res_pm: 2/45.</text>"
      ],
      "text/plain": [
       "<IPython.core.display.HTML object>"
      ]
     },
     "metadata": {},
     "output_type": "display_data"
    },
    {
     "name": "stdout",
     "output_type": "stream",
     "text": [
      "\tQuerying PM event signal(s) UA27.RB.A23:U_DUMP_RES for system: QPS, className: DQAMSNRB, source: UA27.RB.A23 at 2015-02-25 08:38:31.825\n"
     ]
    },
    {
     "data": {
      "text/html": [
       "<text style=color:blue>Executing RB.A23 query function find_source_timestamp_ee: 3/45.</text>"
      ],
      "text/plain": [
       "<IPython.core.display.HTML object>"
      ]
     },
     "metadata": {},
     "output_type": "display_data"
    },
    {
     "name": "stdout",
     "output_type": "stream",
     "text": [
      "\tQuerying PM event timestamps for system: QPS, className: DQAMSNRB, source: UJ33.RB.A23 from 2015-02-25 08:38:21.280 to 2015-02-25 08:55:11.280\n"
     ]
    },
    {
     "data": {
      "text/html": [
       "<text style=color:blue>Executing RB.A23 query function query_ee_u_dump_res_pm: 4/45.</text>"
      ],
      "text/plain": [
       "<IPython.core.display.HTML object>"
      ]
     },
     "metadata": {},
     "output_type": "display_data"
    },
    {
     "name": "stdout",
     "output_type": "stream",
     "text": [
      "\tQuerying PM event signal(s) UJ33.RB.A23:U_DUMP_RES for system: QPS, className: DQAMSNRB, source: UJ33.RB.A23 at 2015-02-25 08:38:31.576\n"
     ]
    },
    {
     "data": {
      "text/html": [
       "<text style=color:blue>Executing RB.A23 query function find_timestamp_pic: 5/45.</text>"
      ],
      "text/plain": [
       "<IPython.core.display.HTML object>"
      ]
     },
     "metadata": {},
     "output_type": "display_data"
    },
    {
     "name": "stdout",
     "output_type": "stream",
     "text": [
      "\tQuerying NXCALS signal(s) RB.A23.ODD:ST_ABORT_PIC, RB.A23.EVEN:ST_ABORT_PIC from 2015-02-25 08:38:30.280 to 2015-02-25 08:39:31.280\n"
     ]
    },
    {
     "data": {
      "text/html": [
       "<text style=color:blue>Executing RB.A23 query function find_source_timestamp_qds: 6/45.</text>"
      ],
      "text/plain": [
       "<IPython.core.display.HTML object>"
      ]
     },
     "metadata": {},
     "output_type": "display_data"
    },
    {
     "name": "stdout",
     "output_type": "stream",
     "text": [
      "\tQuerying PM event timestamps for system: QPS, className: DQAMCNMB_PMSTD, source: * from 2015-02-25 08:37:41.280 to 2015-02-25 08:46:51.280\n"
     ]
    },
    {
     "data": {
      "text/html": [
       "<text style=color:blue>Executing RB.A23 query function find_source_timestamp_ee: 1/45.</text>"
      ],
      "text/plain": [
       "<IPython.core.display.HTML object>"
      ]
     },
     "metadata": {},
     "output_type": "display_data"
    },
    {
     "name": "stdout",
     "output_type": "stream",
     "text": [
      "\tQuerying PM event timestamps for system: QPS, className: DQAMSNRB, source: UA27.RB.A23 from 2015-02-25 20:09:39.440 to 2015-02-25 20:26:29.440\n"
     ]
    },
    {
     "data": {
      "text/html": [
       "<text style=color:blue>Executing RB.A23 query function query_ee_u_dump_res_pm: 2/45.</text>"
      ],
      "text/plain": [
       "<IPython.core.display.HTML object>"
      ]
     },
     "metadata": {},
     "output_type": "display_data"
    },
    {
     "name": "stdout",
     "output_type": "stream",
     "text": [
      "\tQuerying PM event signal(s) UA27.RB.A23:U_DUMP_RES for system: QPS, className: DQAMSNRB, source: UA27.RB.A23 at 2015-02-25 20:09:50\n"
     ]
    },
    {
     "data": {
      "text/html": [
       "<text style=color:blue>Executing RB.A23 query function find_source_timestamp_ee: 3/45.</text>"
      ],
      "text/plain": [
       "<IPython.core.display.HTML object>"
      ]
     },
     "metadata": {},
     "output_type": "display_data"
    },
    {
     "name": "stdout",
     "output_type": "stream",
     "text": [
      "\tQuerying PM event timestamps for system: QPS, className: DQAMSNRB, source: UJ33.RB.A23 from 2015-02-25 20:09:39.440 to 2015-02-25 20:26:29.440\n"
     ]
    },
    {
     "data": {
      "text/html": [
       "<text style=color:blue>Executing RB.A23 query function query_ee_u_dump_res_pm: 4/45.</text>"
      ],
      "text/plain": [
       "<IPython.core.display.HTML object>"
      ]
     },
     "metadata": {},
     "output_type": "display_data"
    },
    {
     "name": "stdout",
     "output_type": "stream",
     "text": [
      "\tQuerying PM event signal(s) UJ33.RB.A23:U_DUMP_RES for system: QPS, className: DQAMSNRB, source: UJ33.RB.A23 at 2015-02-25 20:09:49.747\n"
     ]
    },
    {
     "data": {
      "text/html": [
       "<text style=color:blue>Executing RB.A23 query function find_timestamp_pic: 5/45.</text>"
      ],
      "text/plain": [
       "<IPython.core.display.HTML object>"
      ]
     },
     "metadata": {},
     "output_type": "display_data"
    },
    {
     "name": "stdout",
     "output_type": "stream",
     "text": [
      "\tQuerying NXCALS signal(s) RB.A23.ODD:ST_ABORT_PIC, RB.A23.EVEN:ST_ABORT_PIC from 2015-02-25 20:09:48.440 to 2015-02-25 20:10:49.440\n"
     ]
    },
    {
     "data": {
      "text/html": [
       "<text style=color:blue>Executing RB.A23 query function find_source_timestamp_qds: 6/45.</text>"
      ],
      "text/plain": [
       "<IPython.core.display.HTML object>"
      ]
     },
     "metadata": {},
     "output_type": "display_data"
    },
    {
     "name": "stdout",
     "output_type": "stream",
     "text": [
      "\tQuerying PM event timestamps for system: QPS, className: DQAMCNMB_PMSTD, source: * from 2015-02-25 20:08:59.440 to 2015-02-25 20:18:09.440\n"
     ]
    },
    {
     "data": {
      "text/html": [
       "<text style=color:blue>Executing RB.A23 query function find_source_timestamp_ee: 1/45.</text>"
      ],
      "text/plain": [
       "<IPython.core.display.HTML object>"
      ]
     },
     "metadata": {},
     "output_type": "display_data"
    },
    {
     "name": "stdout",
     "output_type": "stream",
     "text": [
      "\tQuerying PM event timestamps for system: QPS, className: DQAMSNRB, source: UA27.RB.A23 from 2015-02-26 07:31:00.920 to 2015-02-26 07:47:50.920\n"
     ]
    },
    {
     "data": {
      "text/html": [
       "<text style=color:blue>Executing RB.A23 query function query_ee_u_dump_res_pm: 2/45.</text>"
      ],
      "text/plain": [
       "<IPython.core.display.HTML object>"
      ]
     },
     "metadata": {},
     "output_type": "display_data"
    },
    {
     "name": "stdout",
     "output_type": "stream",
     "text": [
      "\tQuerying PM event signal(s) UA27.RB.A23:U_DUMP_RES for system: QPS, className: DQAMSNRB, source: UA27.RB.A23 at 2015-02-26 07:31:11.478\n"
     ]
    },
    {
     "data": {
      "text/html": [
       "<text style=color:blue>Executing RB.A23 query function find_source_timestamp_ee: 3/45.</text>"
      ],
      "text/plain": [
       "<IPython.core.display.HTML object>"
      ]
     },
     "metadata": {},
     "output_type": "display_data"
    },
    {
     "name": "stdout",
     "output_type": "stream",
     "text": [
      "\tQuerying PM event timestamps for system: QPS, className: DQAMSNRB, source: UJ33.RB.A23 from 2015-02-26 07:31:00.920 to 2015-02-26 07:47:50.920\n"
     ]
    },
    {
     "data": {
      "text/html": [
       "<text style=color:blue>Executing RB.A23 query function query_ee_u_dump_res_pm: 4/45.</text>"
      ],
      "text/plain": [
       "<IPython.core.display.HTML object>"
      ]
     },
     "metadata": {},
     "output_type": "display_data"
    },
    {
     "name": "stdout",
     "output_type": "stream",
     "text": [
      "\tQuerying PM event signal(s) UJ33.RB.A23:U_DUMP_RES for system: QPS, className: DQAMSNRB, source: UJ33.RB.A23 at 2015-02-26 07:31:11.225\n"
     ]
    },
    {
     "data": {
      "text/html": [
       "<text style=color:blue>Executing RB.A23 query function find_timestamp_pic: 5/45.</text>"
      ],
      "text/plain": [
       "<IPython.core.display.HTML object>"
      ]
     },
     "metadata": {},
     "output_type": "display_data"
    },
    {
     "name": "stdout",
     "output_type": "stream",
     "text": [
      "\tQuerying NXCALS signal(s) RB.A23.ODD:ST_ABORT_PIC, RB.A23.EVEN:ST_ABORT_PIC from 2015-02-26 07:31:09.920 to 2015-02-26 07:32:10.920\n"
     ]
    },
    {
     "data": {
      "text/html": [
       "<text style=color:blue>Executing RB.A23 query function find_source_timestamp_qds: 6/45.</text>"
      ],
      "text/plain": [
       "<IPython.core.display.HTML object>"
      ]
     },
     "metadata": {},
     "output_type": "display_data"
    },
    {
     "name": "stdout",
     "output_type": "stream",
     "text": [
      "\tQuerying PM event timestamps for system: QPS, className: DQAMCNMB_PMSTD, source: * from 2015-02-26 07:30:20.920 to 2015-02-26 07:39:30.920\n"
     ]
    },
    {
     "data": {
      "text/html": [
       "<text style=color:blue>Executing RB.A23 query function find_source_timestamp_ee: 1/45.</text>"
      ],
      "text/plain": [
       "<IPython.core.display.HTML object>"
      ]
     },
     "metadata": {},
     "output_type": "display_data"
    },
    {
     "name": "stdout",
     "output_type": "stream",
     "text": [
      "\tQuerying PM event timestamps for system: QPS, className: DQAMSNRB, source: UA27.RB.A23 from 2015-02-26 20:07:08.620 to 2015-02-26 20:23:58.620\n"
     ]
    },
    {
     "data": {
      "text/html": [
       "<text style=color:blue>Executing RB.A23 query function query_ee_u_dump_res_pm: 2/45.</text>"
      ],
      "text/plain": [
       "<IPython.core.display.HTML object>"
      ]
     },
     "metadata": {},
     "output_type": "display_data"
    },
    {
     "name": "stdout",
     "output_type": "stream",
     "text": [
      "\tQuerying PM event signal(s) UA27.RB.A23:U_DUMP_RES for system: QPS, className: DQAMSNRB, source: UA27.RB.A23 at 2015-02-26 20:07:19.179\n"
     ]
    },
    {
     "data": {
      "text/html": [
       "<text style=color:blue>Executing RB.A23 query function find_source_timestamp_ee: 3/45.</text>"
      ],
      "text/plain": [
       "<IPython.core.display.HTML object>"
      ]
     },
     "metadata": {},
     "output_type": "display_data"
    },
    {
     "name": "stdout",
     "output_type": "stream",
     "text": [
      "\tQuerying PM event timestamps for system: QPS, className: DQAMSNRB, source: UJ33.RB.A23 from 2015-02-26 20:07:08.620 to 2015-02-26 20:23:58.620\n"
     ]
    },
    {
     "data": {
      "text/html": [
       "<text style=color:blue>Executing RB.A23 query function query_ee_u_dump_res_pm: 4/45.</text>"
      ],
      "text/plain": [
       "<IPython.core.display.HTML object>"
      ]
     },
     "metadata": {},
     "output_type": "display_data"
    },
    {
     "name": "stdout",
     "output_type": "stream",
     "text": [
      "\tQuerying PM event signal(s) UJ33.RB.A23:U_DUMP_RES for system: QPS, className: DQAMSNRB, source: UJ33.RB.A23 at 2015-02-26 20:07:18.927\n"
     ]
    },
    {
     "data": {
      "text/html": [
       "<text style=color:blue>Executing RB.A23 query function find_timestamp_pic: 5/45.</text>"
      ],
      "text/plain": [
       "<IPython.core.display.HTML object>"
      ]
     },
     "metadata": {},
     "output_type": "display_data"
    },
    {
     "name": "stdout",
     "output_type": "stream",
     "text": [
      "\tQuerying NXCALS signal(s) RB.A23.ODD:ST_ABORT_PIC, RB.A23.EVEN:ST_ABORT_PIC from 2015-02-26 20:07:17.620 to 2015-02-26 20:08:18.620\n"
     ]
    },
    {
     "data": {
      "text/html": [
       "<text style=color:blue>Executing RB.A23 query function find_source_timestamp_qds: 6/45.</text>"
      ],
      "text/plain": [
       "<IPython.core.display.HTML object>"
      ]
     },
     "metadata": {},
     "output_type": "display_data"
    },
    {
     "name": "stdout",
     "output_type": "stream",
     "text": [
      "\tQuerying PM event timestamps for system: QPS, className: DQAMCNMB_PMSTD, source: * from 2015-02-26 20:06:28.620 to 2015-02-26 20:15:38.620\n"
     ]
    },
    {
     "data": {
      "text/html": [
       "<text style=color:blue>Executing RB.A23 query function find_source_timestamp_ee: 1/45.</text>"
      ],
      "text/plain": [
       "<IPython.core.display.HTML object>"
      ]
     },
     "metadata": {},
     "output_type": "display_data"
    },
    {
     "name": "stdout",
     "output_type": "stream",
     "text": [
      "\tQuerying PM event timestamps for system: QPS, className: DQAMSNRB, source: UA27.RB.A23 from 2015-02-27 07:24:16.940 to 2015-02-27 07:41:06.940\n"
     ]
    },
    {
     "data": {
      "text/html": [
       "<text style=color:blue>Executing RB.A23 query function query_ee_u_dump_res_pm: 2/45.</text>"
      ],
      "text/plain": [
       "<IPython.core.display.HTML object>"
      ]
     },
     "metadata": {},
     "output_type": "display_data"
    },
    {
     "name": "stdout",
     "output_type": "stream",
     "text": [
      "\tQuerying PM event signal(s) UA27.RB.A23:U_DUMP_RES for system: QPS, className: DQAMSNRB, source: UA27.RB.A23 at 2015-02-27 07:24:27.475\n"
     ]
    },
    {
     "data": {
      "text/html": [
       "<text style=color:blue>Executing RB.A23 query function find_source_timestamp_ee: 3/45.</text>"
      ],
      "text/plain": [
       "<IPython.core.display.HTML object>"
      ]
     },
     "metadata": {},
     "output_type": "display_data"
    },
    {
     "name": "stdout",
     "output_type": "stream",
     "text": [
      "\tQuerying PM event timestamps for system: QPS, className: DQAMSNRB, source: UJ33.RB.A23 from 2015-02-27 07:24:16.940 to 2015-02-27 07:41:06.940\n"
     ]
    },
    {
     "data": {
      "text/html": [
       "<text style=color:blue>Executing RB.A23 query function query_ee_u_dump_res_pm: 4/45.</text>"
      ],
      "text/plain": [
       "<IPython.core.display.HTML object>"
      ]
     },
     "metadata": {},
     "output_type": "display_data"
    },
    {
     "name": "stdout",
     "output_type": "stream",
     "text": [
      "\tQuerying PM event signal(s) UJ33.RB.A23:U_DUMP_RES for system: QPS, className: DQAMSNRB, source: UJ33.RB.A23 at 2015-02-27 07:24:27.239\n"
     ]
    },
    {
     "data": {
      "text/html": [
       "<text style=color:blue>Executing RB.A23 query function find_timestamp_pic: 5/45.</text>"
      ],
      "text/plain": [
       "<IPython.core.display.HTML object>"
      ]
     },
     "metadata": {},
     "output_type": "display_data"
    },
    {
     "name": "stdout",
     "output_type": "stream",
     "text": [
      "\tQuerying NXCALS signal(s) RB.A23.ODD:ST_ABORT_PIC, RB.A23.EVEN:ST_ABORT_PIC from 2015-02-27 07:24:25.940 to 2015-02-27 07:25:26.940\n"
     ]
    },
    {
     "data": {
      "text/html": [
       "<text style=color:blue>Executing RB.A23 query function find_source_timestamp_qds: 6/45.</text>"
      ],
      "text/plain": [
       "<IPython.core.display.HTML object>"
      ]
     },
     "metadata": {},
     "output_type": "display_data"
    },
    {
     "name": "stdout",
     "output_type": "stream",
     "text": [
      "\tQuerying PM event timestamps for system: QPS, className: DQAMCNMB_PMSTD, source: * from 2015-02-27 07:23:36.940 to 2015-02-27 07:32:46.940\n"
     ]
    },
    {
     "data": {
      "text/html": [
       "<text style=color:blue>Executing RB.A23 query function find_source_timestamp_ee: 1/45.</text>"
      ],
      "text/plain": [
       "<IPython.core.display.HTML object>"
      ]
     },
     "metadata": {},
     "output_type": "display_data"
    },
    {
     "name": "stdout",
     "output_type": "stream",
     "text": [
      "\tQuerying PM event timestamps for system: QPS, className: DQAMSNRB, source: UA27.RB.A23 from 2015-02-27 21:48:13.700 to 2015-02-27 22:05:03.700\n"
     ]
    },
    {
     "data": {
      "text/html": [
       "<text style=color:blue>Executing RB.A23 query function query_ee_u_dump_res_pm: 2/45.</text>"
      ],
      "text/plain": [
       "<IPython.core.display.HTML object>"
      ]
     },
     "metadata": {},
     "output_type": "display_data"
    },
    {
     "name": "stdout",
     "output_type": "stream",
     "text": [
      "\tQuerying PM event signal(s) UA27.RB.A23:U_DUMP_RES for system: QPS, className: DQAMSNRB, source: UA27.RB.A23 at 2015-02-27 21:48:24.245\n"
     ]
    },
    {
     "data": {
      "text/html": [
       "<text style=color:blue>Executing RB.A23 query function find_source_timestamp_ee: 3/45.</text>"
      ],
      "text/plain": [
       "<IPython.core.display.HTML object>"
      ]
     },
     "metadata": {},
     "output_type": "display_data"
    },
    {
     "name": "stdout",
     "output_type": "stream",
     "text": [
      "\tQuerying PM event timestamps for system: QPS, className: DQAMSNRB, source: UJ33.RB.A23 from 2015-02-27 21:48:13.700 to 2015-02-27 22:05:03.700\n"
     ]
    },
    {
     "data": {
      "text/html": [
       "<text style=color:blue>Executing RB.A23 query function query_ee_u_dump_res_pm: 4/45.</text>"
      ],
      "text/plain": [
       "<IPython.core.display.HTML object>"
      ]
     },
     "metadata": {},
     "output_type": "display_data"
    },
    {
     "name": "stdout",
     "output_type": "stream",
     "text": [
      "\tQuerying PM event signal(s) UJ33.RB.A23:U_DUMP_RES for system: QPS, className: DQAMSNRB, source: UJ33.RB.A23 at 2015-02-27 21:48:23.995\n"
     ]
    },
    {
     "data": {
      "text/html": [
       "<text style=color:blue>Executing RB.A23 query function find_timestamp_pic: 5/45.</text>"
      ],
      "text/plain": [
       "<IPython.core.display.HTML object>"
      ]
     },
     "metadata": {},
     "output_type": "display_data"
    },
    {
     "name": "stdout",
     "output_type": "stream",
     "text": [
      "\tQuerying NXCALS signal(s) RB.A23.ODD:ST_ABORT_PIC, RB.A23.EVEN:ST_ABORT_PIC from 2015-02-27 21:48:22.700 to 2015-02-27 21:49:23.700\n"
     ]
    },
    {
     "data": {
      "text/html": [
       "<text style=color:blue>Executing RB.A23 query function find_source_timestamp_qds: 6/45.</text>"
      ],
      "text/plain": [
       "<IPython.core.display.HTML object>"
      ]
     },
     "metadata": {},
     "output_type": "display_data"
    },
    {
     "name": "stdout",
     "output_type": "stream",
     "text": [
      "\tQuerying PM event timestamps for system: QPS, className: DQAMCNMB_PMSTD, source: * from 2015-02-27 21:47:33.700 to 2015-02-27 21:56:43.700\n"
     ]
    },
    {
     "data": {
      "text/html": [
       "<text style=color:blue>Executing RB.A23 query function find_source_timestamp_ee: 1/45.</text>"
      ],
      "text/plain": [
       "<IPython.core.display.HTML object>"
      ]
     },
     "metadata": {},
     "output_type": "display_data"
    },
    {
     "name": "stdout",
     "output_type": "stream",
     "text": [
      "\tQuerying PM event timestamps for system: QPS, className: DQAMSNRB, source: UA27.RB.A23 from 2015-10-01 16:00:37.840 to 2015-10-01 16:17:27.840\n"
     ]
    },
    {
     "data": {
      "text/html": [
       "<text style=color:blue>Executing RB.A23 query function query_ee_u_dump_res_pm: 2/45.</text>"
      ],
      "text/plain": [
       "<IPython.core.display.HTML object>"
      ]
     },
     "metadata": {},
     "output_type": "display_data"
    },
    {
     "name": "stdout",
     "output_type": "stream",
     "text": [
      "\tQuerying PM event signal(s) UA27.RB.A23:U_DUMP_RES for system: QPS, className: DQAMSNRB, source: UA27.RB.A23 at 2015-10-01 16:00:48.381\n"
     ]
    },
    {
     "data": {
      "text/html": [
       "<text style=color:blue>Executing RB.A23 query function find_source_timestamp_ee: 3/45.</text>"
      ],
      "text/plain": [
       "<IPython.core.display.HTML object>"
      ]
     },
     "metadata": {},
     "output_type": "display_data"
    },
    {
     "name": "stdout",
     "output_type": "stream",
     "text": [
      "\tQuerying PM event timestamps for system: QPS, className: DQAMSNRB, source: UJ33.RB.A23 from 2015-10-01 16:00:37.840 to 2015-10-01 16:17:27.840\n"
     ]
    },
    {
     "data": {
      "text/html": [
       "<text style=color:blue>Executing RB.A23 query function query_ee_u_dump_res_pm: 4/45.</text>"
      ],
      "text/plain": [
       "<IPython.core.display.HTML object>"
      ]
     },
     "metadata": {},
     "output_type": "display_data"
    },
    {
     "name": "stdout",
     "output_type": "stream",
     "text": [
      "\tQuerying PM event signal(s) UJ33.RB.A23:U_DUMP_RES for system: QPS, className: DQAMSNRB, source: UJ33.RB.A23 at 2015-10-01 16:00:48.139\n"
     ]
    },
    {
     "data": {
      "text/html": [
       "<text style=color:blue>Executing RB.A23 query function find_timestamp_pic: 5/45.</text>"
      ],
      "text/plain": [
       "<IPython.core.display.HTML object>"
      ]
     },
     "metadata": {},
     "output_type": "display_data"
    },
    {
     "name": "stdout",
     "output_type": "stream",
     "text": [
      "\tQuerying NXCALS signal(s) RB.A23.ODD:ST_ABORT_PIC, RB.A23.EVEN:ST_ABORT_PIC from 2015-10-01 16:00:46.840 to 2015-10-01 16:01:47.840\n"
     ]
    },
    {
     "data": {
      "text/html": [
       "<text style=color:blue>Executing RB.A23 query function find_source_timestamp_qds: 6/45.</text>"
      ],
      "text/plain": [
       "<IPython.core.display.HTML object>"
      ]
     },
     "metadata": {},
     "output_type": "display_data"
    },
    {
     "name": "stdout",
     "output_type": "stream",
     "text": [
      "\tQuerying PM event timestamps for system: QPS, className: DQAMCNMB_PMSTD, source: * from 2015-10-01 15:59:57.840 to 2015-10-01 16:09:07.840\n"
     ]
    },
    {
     "data": {
      "text/html": [
       "<text style=color:blue>Executing RB.A23 query function find_source_timestamp_ee: 1/45.</text>"
      ],
      "text/plain": [
       "<IPython.core.display.HTML object>"
      ]
     },
     "metadata": {},
     "output_type": "display_data"
    },
    {
     "name": "stdout",
     "output_type": "stream",
     "text": [
      "\tQuerying PM event timestamps for system: QPS, className: DQAMSNRB, source: UA27.RB.A23 from 2016-03-12 08:16:55.780 to 2016-03-12 08:33:45.780\n"
     ]
    },
    {
     "data": {
      "text/html": [
       "<text style=color:blue>Executing RB.A23 query function query_ee_u_dump_res_pm: 2/45.</text>"
      ],
      "text/plain": [
       "<IPython.core.display.HTML object>"
      ]
     },
     "metadata": {},
     "output_type": "display_data"
    },
    {
     "name": "stdout",
     "output_type": "stream",
     "text": [
      "\tQuerying PM event signal(s) UA27.RB.A23:U_DUMP_RES for system: QPS, className: DQAMSNRB, source: UA27.RB.A23 at 2016-03-12 08:17:06.320\n"
     ]
    },
    {
     "data": {
      "text/html": [
       "<text style=color:blue>Executing RB.A23 query function find_source_timestamp_ee: 3/45.</text>"
      ],
      "text/plain": [
       "<IPython.core.display.HTML object>"
      ]
     },
     "metadata": {},
     "output_type": "display_data"
    },
    {
     "name": "stdout",
     "output_type": "stream",
     "text": [
      "\tQuerying PM event timestamps for system: QPS, className: DQAMSNRB, source: UJ33.RB.A23 from 2016-03-12 08:16:55.780 to 2016-03-12 08:33:45.780\n"
     ]
    },
    {
     "data": {
      "text/html": [
       "<text style=color:blue>Executing RB.A23 query function query_ee_u_dump_res_pm: 4/45.</text>"
      ],
      "text/plain": [
       "<IPython.core.display.HTML object>"
      ]
     },
     "metadata": {},
     "output_type": "display_data"
    },
    {
     "name": "stdout",
     "output_type": "stream",
     "text": [
      "\tQuerying PM event signal(s) UJ33.RB.A23:U_DUMP_RES for system: QPS, className: DQAMSNRB, source: UJ33.RB.A23 at 2016-03-12 08:17:06.072\n"
     ]
    },
    {
     "data": {
      "text/html": [
       "<text style=color:blue>Executing RB.A23 query function find_timestamp_pic: 5/45.</text>"
      ],
      "text/plain": [
       "<IPython.core.display.HTML object>"
      ]
     },
     "metadata": {},
     "output_type": "display_data"
    },
    {
     "name": "stdout",
     "output_type": "stream",
     "text": [
      "\tQuerying NXCALS signal(s) RB.A23.ODD:ST_ABORT_PIC, RB.A23.EVEN:ST_ABORT_PIC from 2016-03-12 08:17:04.780 to 2016-03-12 08:18:05.780\n"
     ]
    },
    {
     "data": {
      "text/html": [
       "<text style=color:blue>Executing RB.A23 query function find_source_timestamp_qds: 6/45.</text>"
      ],
      "text/plain": [
       "<IPython.core.display.HTML object>"
      ]
     },
     "metadata": {},
     "output_type": "display_data"
    },
    {
     "name": "stdout",
     "output_type": "stream",
     "text": [
      "\tQuerying PM event timestamps for system: QPS, className: DQAMCNMB_PMSTD, source: * from 2016-03-12 08:16:15.780 to 2016-03-12 08:25:25.780\n"
     ]
    },
    {
     "data": {
      "text/html": [
       "<text style=color:blue>Executing RB.A34 query function find_source_timestamp_ee: 1/45.</text>"
      ],
      "text/plain": [
       "<IPython.core.display.HTML object>"
      ]
     },
     "metadata": {},
     "output_type": "display_data"
    },
    {
     "name": "stdout",
     "output_type": "stream",
     "text": [
      "\tQuerying PM event timestamps for system: QPS, className: DQAMSNRB, source: UA43.RB.A34 from 2015-03-02 07:41:16.680 to 2015-03-02 07:58:06.680\n"
     ]
    },
    {
     "data": {
      "text/html": [
       "<text style=color:blue>Executing RB.A34 query function query_ee_u_dump_res_pm: 2/45.</text>"
      ],
      "text/plain": [
       "<IPython.core.display.HTML object>"
      ]
     },
     "metadata": {},
     "output_type": "display_data"
    },
    {
     "name": "stdout",
     "output_type": "stream",
     "text": [
      "\tQuerying PM event signal(s) UA43.RB.A34:U_DUMP_RES for system: QPS, className: DQAMSNRB, source: UA43.RB.A34 at 2015-03-02 07:41:27.220\n"
     ]
    },
    {
     "data": {
      "text/html": [
       "<text style=color:blue>Executing RB.A34 query function find_source_timestamp_ee: 3/45.</text>"
      ],
      "text/plain": [
       "<IPython.core.display.HTML object>"
      ]
     },
     "metadata": {},
     "output_type": "display_data"
    },
    {
     "name": "stdout",
     "output_type": "stream",
     "text": [
      "\tQuerying PM event timestamps for system: QPS, className: DQAMSNRB, source: UJ33.RB.A34 from 2015-03-02 07:41:16.680 to 2015-03-02 07:58:06.680\n"
     ]
    },
    {
     "data": {
      "text/html": [
       "<text style=color:blue>Executing RB.A34 query function query_ee_u_dump_res_pm: 4/45.</text>"
      ],
      "text/plain": [
       "<IPython.core.display.HTML object>"
      ]
     },
     "metadata": {},
     "output_type": "display_data"
    },
    {
     "name": "stdout",
     "output_type": "stream",
     "text": [
      "\tQuerying PM event signal(s) UJ33.RB.A34:U_DUMP_RES for system: QPS, className: DQAMSNRB, source: UJ33.RB.A34 at 2015-03-02 07:41:27.003\n"
     ]
    },
    {
     "data": {
      "text/html": [
       "<text style=color:blue>Executing RB.A34 query function find_timestamp_pic: 5/45.</text>"
      ],
      "text/plain": [
       "<IPython.core.display.HTML object>"
      ]
     },
     "metadata": {},
     "output_type": "display_data"
    },
    {
     "name": "stdout",
     "output_type": "stream",
     "text": [
      "\tQuerying NXCALS signal(s) RB.A34.ODD:ST_ABORT_PIC, RB.A34.EVEN:ST_ABORT_PIC from 2015-03-02 07:41:25.680 to 2015-03-02 07:42:26.680\n"
     ]
    },
    {
     "data": {
      "text/html": [
       "<text style=color:blue>Executing RB.A34 query function find_source_timestamp_qds: 6/45.</text>"
      ],
      "text/plain": [
       "<IPython.core.display.HTML object>"
      ]
     },
     "metadata": {},
     "output_type": "display_data"
    },
    {
     "name": "stdout",
     "output_type": "stream",
     "text": [
      "\tQuerying PM event timestamps for system: QPS, className: DQAMCNMB_PMSTD, source: * from 2015-03-02 07:40:36.680 to 2015-03-02 07:49:46.680\n"
     ]
    },
    {
     "data": {
      "text/html": [
       "<text style=color:blue>Executing RB.A34 query function find_source_timestamp_ee: 1/45.</text>"
      ],
      "text/plain": [
       "<IPython.core.display.HTML object>"
      ]
     },
     "metadata": {},
     "output_type": "display_data"
    },
    {
     "name": "stdout",
     "output_type": "stream",
     "text": [
      "\tQuerying PM event timestamps for system: QPS, className: DQAMSNRB, source: UA43.RB.A34 from 2015-03-13 09:53:12.380 to 2015-03-13 10:10:02.380\n"
     ]
    },
    {
     "data": {
      "text/html": [
       "<text style=color:blue>Executing RB.A34 query function query_ee_u_dump_res_pm: 2/45.</text>"
      ],
      "text/plain": [
       "<IPython.core.display.HTML object>"
      ]
     },
     "metadata": {},
     "output_type": "display_data"
    },
    {
     "name": "stdout",
     "output_type": "stream",
     "text": [
      "\tQuerying PM event signal(s) UA43.RB.A34:U_DUMP_RES for system: QPS, className: DQAMSNRB, source: UA43.RB.A34 at 2015-03-13 09:53:22.914\n"
     ]
    },
    {
     "data": {
      "text/html": [
       "<text style=color:blue>Executing RB.A34 query function find_source_timestamp_ee: 3/45.</text>"
      ],
      "text/plain": [
       "<IPython.core.display.HTML object>"
      ]
     },
     "metadata": {},
     "output_type": "display_data"
    },
    {
     "name": "stdout",
     "output_type": "stream",
     "text": [
      "\tQuerying PM event timestamps for system: QPS, className: DQAMSNRB, source: UJ33.RB.A34 from 2015-03-13 09:53:12.380 to 2015-03-13 10:10:02.380\n"
     ]
    },
    {
     "data": {
      "text/html": [
       "<text style=color:blue>Executing RB.A34 query function query_ee_u_dump_res_pm: 4/45.</text>"
      ],
      "text/plain": [
       "<IPython.core.display.HTML object>"
      ]
     },
     "metadata": {},
     "output_type": "display_data"
    },
    {
     "name": "stdout",
     "output_type": "stream",
     "text": [
      "\tQuerying PM event signal(s) UJ33.RB.A34:U_DUMP_RES for system: QPS, className: DQAMSNRB, source: UJ33.RB.A34 at 2015-03-13 09:53:22.696\n"
     ]
    },
    {
     "data": {
      "text/html": [
       "<text style=color:blue>Executing RB.A34 query function find_timestamp_pic: 5/45.</text>"
      ],
      "text/plain": [
       "<IPython.core.display.HTML object>"
      ]
     },
     "metadata": {},
     "output_type": "display_data"
    },
    {
     "name": "stdout",
     "output_type": "stream",
     "text": [
      "\tQuerying NXCALS signal(s) RB.A34.ODD:ST_ABORT_PIC, RB.A34.EVEN:ST_ABORT_PIC from 2015-03-13 09:53:21.380 to 2015-03-13 09:54:22.380\n"
     ]
    },
    {
     "data": {
      "text/html": [
       "<text style=color:blue>Executing RB.A34 query function find_source_timestamp_qds: 6/45.</text>"
      ],
      "text/plain": [
       "<IPython.core.display.HTML object>"
      ]
     },
     "metadata": {},
     "output_type": "display_data"
    },
    {
     "name": "stdout",
     "output_type": "stream",
     "text": [
      "\tQuerying PM event timestamps for system: QPS, className: DQAMCNMB_PMSTD, source: * from 2015-03-13 09:52:32.380 to 2015-03-13 10:01:42.380\n"
     ]
    },
    {
     "data": {
      "text/html": [
       "<text style=color:blue>Executing RB.A34 query function find_source_timestamp_ee: 1/45.</text>"
      ],
      "text/plain": [
       "<IPython.core.display.HTML object>"
      ]
     },
     "metadata": {},
     "output_type": "display_data"
    },
    {
     "name": "stdout",
     "output_type": "stream",
     "text": [
      "\tQuerying PM event timestamps for system: QPS, className: DQAMSNRB, source: UA43.RB.A34 from 2015-03-13 18:32:02 to 2015-03-13 18:48:52\n"
     ]
    },
    {
     "data": {
      "text/html": [
       "<text style=color:blue>Executing RB.A34 query function query_ee_u_dump_res_pm: 2/45.</text>"
      ],
      "text/plain": [
       "<IPython.core.display.HTML object>"
      ]
     },
     "metadata": {},
     "output_type": "display_data"
    },
    {
     "name": "stdout",
     "output_type": "stream",
     "text": [
      "\tQuerying PM event signal(s) UA43.RB.A34:U_DUMP_RES for system: QPS, className: DQAMSNRB, source: UA43.RB.A34 at 2015-03-13 18:32:12.537\n"
     ]
    },
    {
     "data": {
      "text/html": [
       "<text style=color:blue>Executing RB.A34 query function find_source_timestamp_ee: 3/45.</text>"
      ],
      "text/plain": [
       "<IPython.core.display.HTML object>"
      ]
     },
     "metadata": {},
     "output_type": "display_data"
    },
    {
     "name": "stdout",
     "output_type": "stream",
     "text": [
      "\tQuerying PM event timestamps for system: QPS, className: DQAMSNRB, source: UJ33.RB.A34 from 2015-03-13 18:32:02 to 2015-03-13 18:48:52\n"
     ]
    },
    {
     "data": {
      "text/html": [
       "<text style=color:blue>Executing RB.A34 query function query_ee_u_dump_res_pm: 4/45.</text>"
      ],
      "text/plain": [
       "<IPython.core.display.HTML object>"
      ]
     },
     "metadata": {},
     "output_type": "display_data"
    },
    {
     "name": "stdout",
     "output_type": "stream",
     "text": [
      "\tQuerying PM event signal(s) UJ33.RB.A34:U_DUMP_RES for system: QPS, className: DQAMSNRB, source: UJ33.RB.A34 at 2015-03-13 18:32:12.307\n"
     ]
    },
    {
     "data": {
      "text/html": [
       "<text style=color:blue>Executing RB.A34 query function find_timestamp_pic: 5/45.</text>"
      ],
      "text/plain": [
       "<IPython.core.display.HTML object>"
      ]
     },
     "metadata": {},
     "output_type": "display_data"
    },
    {
     "name": "stdout",
     "output_type": "stream",
     "text": [
      "\tQuerying NXCALS signal(s) RB.A34.ODD:ST_ABORT_PIC, RB.A34.EVEN:ST_ABORT_PIC from 2015-03-13 18:32:11 to 2015-03-13 18:33:12\n"
     ]
    },
    {
     "data": {
      "text/html": [
       "<text style=color:blue>Executing RB.A34 query function find_source_timestamp_qds: 6/45.</text>"
      ],
      "text/plain": [
       "<IPython.core.display.HTML object>"
      ]
     },
     "metadata": {},
     "output_type": "display_data"
    },
    {
     "name": "stdout",
     "output_type": "stream",
     "text": [
      "\tQuerying PM event timestamps for system: QPS, className: DQAMCNMB_PMSTD, source: * from 2015-03-13 18:31:22 to 2015-03-13 18:40:32\n"
     ]
    },
    {
     "data": {
      "text/html": [
       "<text style=color:blue>Executing RB.A34 query function find_source_timestamp_ee: 1/45.</text>"
      ],
      "text/plain": [
       "<IPython.core.display.HTML object>"
      ]
     },
     "metadata": {},
     "output_type": "display_data"
    },
    {
     "name": "stdout",
     "output_type": "stream",
     "text": [
      "\tQuerying PM event timestamps for system: QPS, className: DQAMSNRB, source: UA43.RB.A34 from 2015-03-14 06:48:07.800 to 2015-03-14 07:04:57.800\n"
     ]
    },
    {
     "data": {
      "text/html": [
       "<text style=color:blue>Executing RB.A34 query function query_ee_u_dump_res_pm: 2/45.</text>"
      ],
      "text/plain": [
       "<IPython.core.display.HTML object>"
      ]
     },
     "metadata": {},
     "output_type": "display_data"
    },
    {
     "name": "stdout",
     "output_type": "stream",
     "text": [
      "\tQuerying PM event signal(s) UA43.RB.A34:U_DUMP_RES for system: QPS, className: DQAMSNRB, source: UA43.RB.A34 at 2015-03-14 06:48:18.335\n"
     ]
    },
    {
     "data": {
      "text/html": [
       "<text style=color:blue>Executing RB.A34 query function find_source_timestamp_ee: 3/45.</text>"
      ],
      "text/plain": [
       "<IPython.core.display.HTML object>"
      ]
     },
     "metadata": {},
     "output_type": "display_data"
    },
    {
     "name": "stdout",
     "output_type": "stream",
     "text": [
      "\tQuerying PM event timestamps for system: QPS, className: DQAMSNRB, source: UJ33.RB.A34 from 2015-03-14 06:48:07.800 to 2015-03-14 07:04:57.800\n"
     ]
    },
    {
     "data": {
      "text/html": [
       "<text style=color:blue>Executing RB.A34 query function query_ee_u_dump_res_pm: 4/45.</text>"
      ],
      "text/plain": [
       "<IPython.core.display.HTML object>"
      ]
     },
     "metadata": {},
     "output_type": "display_data"
    },
    {
     "name": "stdout",
     "output_type": "stream",
     "text": [
      "\tQuerying PM event signal(s) UJ33.RB.A34:U_DUMP_RES for system: QPS, className: DQAMSNRB, source: UJ33.RB.A34 at 2015-03-14 06:48:18.105\n"
     ]
    },
    {
     "data": {
      "text/html": [
       "<text style=color:blue>Executing RB.A34 query function find_timestamp_pic: 5/45.</text>"
      ],
      "text/plain": [
       "<IPython.core.display.HTML object>"
      ]
     },
     "metadata": {},
     "output_type": "display_data"
    },
    {
     "name": "stdout",
     "output_type": "stream",
     "text": [
      "\tQuerying NXCALS signal(s) RB.A34.ODD:ST_ABORT_PIC, RB.A34.EVEN:ST_ABORT_PIC from 2015-03-14 06:48:16.800 to 2015-03-14 06:49:17.800\n"
     ]
    },
    {
     "data": {
      "text/html": [
       "<text style=color:blue>Executing RB.A34 query function find_source_timestamp_qds: 6/45.</text>"
      ],
      "text/plain": [
       "<IPython.core.display.HTML object>"
      ]
     },
     "metadata": {},
     "output_type": "display_data"
    },
    {
     "name": "stdout",
     "output_type": "stream",
     "text": [
      "\tQuerying PM event timestamps for system: QPS, className: DQAMCNMB_PMSTD, source: * from 2015-03-14 06:47:27.800 to 2015-03-14 06:56:37.800\n"
     ]
    },
    {
     "data": {
      "text/html": [
       "<text style=color:blue>Executing RB.A34 query function find_source_timestamp_ee: 1/45.</text>"
      ],
      "text/plain": [
       "<IPython.core.display.HTML object>"
      ]
     },
     "metadata": {},
     "output_type": "display_data"
    },
    {
     "name": "stdout",
     "output_type": "stream",
     "text": [
      "\tQuerying PM event timestamps for system: QPS, className: DQAMSNRB, source: UA43.RB.A34 from 2015-03-14 18:42:01.060 to 2015-03-14 18:58:51.060\n"
     ]
    },
    {
     "data": {
      "text/html": [
       "<text style=color:blue>Executing RB.A34 query function query_ee_u_dump_res_pm: 2/45.</text>"
      ],
      "text/plain": [
       "<IPython.core.display.HTML object>"
      ]
     },
     "metadata": {},
     "output_type": "display_data"
    },
    {
     "name": "stdout",
     "output_type": "stream",
     "text": [
      "\tQuerying PM event signal(s) UA43.RB.A34:U_DUMP_RES for system: QPS, className: DQAMSNRB, source: UA43.RB.A34 at 2015-03-14 18:42:11.598\n"
     ]
    },
    {
     "data": {
      "text/html": [
       "<text style=color:blue>Executing RB.A34 query function find_source_timestamp_ee: 3/45.</text>"
      ],
      "text/plain": [
       "<IPython.core.display.HTML object>"
      ]
     },
     "metadata": {},
     "output_type": "display_data"
    },
    {
     "name": "stdout",
     "output_type": "stream",
     "text": [
      "\tQuerying PM event timestamps for system: QPS, className: DQAMSNRB, source: UJ33.RB.A34 from 2015-03-14 18:42:01.060 to 2015-03-14 18:58:51.060\n"
     ]
    },
    {
     "data": {
      "text/html": [
       "<text style=color:blue>Executing RB.A34 query function query_ee_u_dump_res_pm: 4/45.</text>"
      ],
      "text/plain": [
       "<IPython.core.display.HTML object>"
      ]
     },
     "metadata": {},
     "output_type": "display_data"
    },
    {
     "name": "stdout",
     "output_type": "stream",
     "text": [
      "\tQuerying PM event signal(s) UJ33.RB.A34:U_DUMP_RES for system: QPS, className: DQAMSNRB, source: UJ33.RB.A34 at 2015-03-14 18:42:11.367\n"
     ]
    },
    {
     "data": {
      "text/html": [
       "<text style=color:blue>Executing RB.A34 query function find_timestamp_pic: 5/45.</text>"
      ],
      "text/plain": [
       "<IPython.core.display.HTML object>"
      ]
     },
     "metadata": {},
     "output_type": "display_data"
    },
    {
     "name": "stdout",
     "output_type": "stream",
     "text": [
      "\tQuerying NXCALS signal(s) RB.A34.ODD:ST_ABORT_PIC, RB.A34.EVEN:ST_ABORT_PIC from 2015-03-14 18:42:10.060 to 2015-03-14 18:43:11.060\n"
     ]
    },
    {
     "data": {
      "text/html": [
       "<text style=color:blue>Executing RB.A34 query function find_source_timestamp_qds: 6/45.</text>"
      ],
      "text/plain": [
       "<IPython.core.display.HTML object>"
      ]
     },
     "metadata": {},
     "output_type": "display_data"
    },
    {
     "name": "stdout",
     "output_type": "stream",
     "text": [
      "\tQuerying PM event timestamps for system: QPS, className: DQAMCNMB_PMSTD, source: * from 2015-03-14 18:41:21.060 to 2015-03-14 18:50:31.060\n"
     ]
    },
    {
     "data": {
      "text/html": [
       "<text style=color:blue>Executing RB.A34 query function find_source_timestamp_ee: 1/45.</text>"
      ],
      "text/plain": [
       "<IPython.core.display.HTML object>"
      ]
     },
     "metadata": {},
     "output_type": "display_data"
    },
    {
     "name": "stdout",
     "output_type": "stream",
     "text": [
      "\tQuerying PM event timestamps for system: QPS, className: DQAMSNRB, source: UA43.RB.A34 from 2015-03-15 03:30:19.160 to 2015-03-15 03:47:09.160\n"
     ]
    },
    {
     "data": {
      "text/html": [
       "<text style=color:blue>Executing RB.A34 query function query_ee_u_dump_res_pm: 2/45.</text>"
      ],
      "text/plain": [
       "<IPython.core.display.HTML object>"
      ]
     },
     "metadata": {},
     "output_type": "display_data"
    },
    {
     "name": "stdout",
     "output_type": "stream",
     "text": [
      "\tQuerying PM event signal(s) UA43.RB.A34:U_DUMP_RES for system: QPS, className: DQAMSNRB, source: UA43.RB.A34 at 2015-03-15 03:30:29.713\n"
     ]
    },
    {
     "data": {
      "text/html": [
       "<text style=color:blue>Executing RB.A34 query function find_source_timestamp_ee: 3/45.</text>"
      ],
      "text/plain": [
       "<IPython.core.display.HTML object>"
      ]
     },
     "metadata": {},
     "output_type": "display_data"
    },
    {
     "name": "stdout",
     "output_type": "stream",
     "text": [
      "\tQuerying PM event timestamps for system: QPS, className: DQAMSNRB, source: UJ33.RB.A34 from 2015-03-15 03:30:19.160 to 2015-03-15 03:47:09.160\n"
     ]
    },
    {
     "data": {
      "text/html": [
       "<text style=color:blue>Executing RB.A34 query function query_ee_u_dump_res_pm: 4/45.</text>"
      ],
      "text/plain": [
       "<IPython.core.display.HTML object>"
      ]
     },
     "metadata": {},
     "output_type": "display_data"
    },
    {
     "name": "stdout",
     "output_type": "stream",
     "text": [
      "\tQuerying PM event signal(s) UJ33.RB.A34:U_DUMP_RES for system: QPS, className: DQAMSNRB, source: UJ33.RB.A34 at 2015-03-15 03:30:29.482\n"
     ]
    },
    {
     "data": {
      "text/html": [
       "<text style=color:blue>Executing RB.A34 query function find_timestamp_pic: 5/45.</text>"
      ],
      "text/plain": [
       "<IPython.core.display.HTML object>"
      ]
     },
     "metadata": {},
     "output_type": "display_data"
    },
    {
     "name": "stdout",
     "output_type": "stream",
     "text": [
      "\tQuerying NXCALS signal(s) RB.A34.ODD:ST_ABORT_PIC, RB.A34.EVEN:ST_ABORT_PIC from 2015-03-15 03:30:28.160 to 2015-03-15 03:31:29.160\n"
     ]
    },
    {
     "data": {
      "text/html": [
       "<text style=color:blue>Executing RB.A34 query function find_source_timestamp_qds: 6/45.</text>"
      ],
      "text/plain": [
       "<IPython.core.display.HTML object>"
      ]
     },
     "metadata": {},
     "output_type": "display_data"
    },
    {
     "name": "stdout",
     "output_type": "stream",
     "text": [
      "\tQuerying PM event timestamps for system: QPS, className: DQAMCNMB_PMSTD, source: * from 2015-03-15 03:29:39.160 to 2015-03-15 03:38:49.160\n"
     ]
    },
    {
     "data": {
      "text/html": [
       "<text style=color:blue>Executing RB.A34 query function find_source_timestamp_ee: 1/45.</text>"
      ],
      "text/plain": [
       "<IPython.core.display.HTML object>"
      ]
     },
     "metadata": {},
     "output_type": "display_data"
    },
    {
     "name": "stdout",
     "output_type": "stream",
     "text": [
      "\tQuerying PM event timestamps for system: QPS, className: DQAMSNRB, source: UA43.RB.A34 from 2015-03-15 13:47:53.740 to 2015-03-15 14:04:43.740\n"
     ]
    },
    {
     "data": {
      "text/html": [
       "<text style=color:blue>Executing RB.A34 query function query_ee_u_dump_res_pm: 2/45.</text>"
      ],
      "text/plain": [
       "<IPython.core.display.HTML object>"
      ]
     },
     "metadata": {},
     "output_type": "display_data"
    },
    {
     "name": "stdout",
     "output_type": "stream",
     "text": [
      "\tQuerying PM event signal(s) UA43.RB.A34:U_DUMP_RES for system: QPS, className: DQAMSNRB, source: UA43.RB.A34 at 2015-03-15 13:48:04.283\n"
     ]
    },
    {
     "data": {
      "text/html": [
       "<text style=color:blue>Executing RB.A34 query function find_source_timestamp_ee: 3/45.</text>"
      ],
      "text/plain": [
       "<IPython.core.display.HTML object>"
      ]
     },
     "metadata": {},
     "output_type": "display_data"
    },
    {
     "name": "stdout",
     "output_type": "stream",
     "text": [
      "\tQuerying PM event timestamps for system: QPS, className: DQAMSNRB, source: UJ33.RB.A34 from 2015-03-15 13:47:53.740 to 2015-03-15 14:04:43.740\n"
     ]
    },
    {
     "data": {
      "text/html": [
       "<text style=color:blue>Executing RB.A34 query function query_ee_u_dump_res_pm: 4/45.</text>"
      ],
      "text/plain": [
       "<IPython.core.display.HTML object>"
      ]
     },
     "metadata": {},
     "output_type": "display_data"
    },
    {
     "name": "stdout",
     "output_type": "stream",
     "text": [
      "\tQuerying PM event signal(s) UJ33.RB.A34:U_DUMP_RES for system: QPS, className: DQAMSNRB, source: UJ33.RB.A34 at 2015-03-15 13:48:04.052\n"
     ]
    },
    {
     "data": {
      "text/html": [
       "<text style=color:blue>Executing RB.A34 query function find_timestamp_pic: 5/45.</text>"
      ],
      "text/plain": [
       "<IPython.core.display.HTML object>"
      ]
     },
     "metadata": {},
     "output_type": "display_data"
    },
    {
     "name": "stdout",
     "output_type": "stream",
     "text": [
      "\tQuerying NXCALS signal(s) RB.A34.ODD:ST_ABORT_PIC, RB.A34.EVEN:ST_ABORT_PIC from 2015-03-15 13:48:02.740 to 2015-03-15 13:49:03.740\n"
     ]
    },
    {
     "data": {
      "text/html": [
       "<text style=color:blue>Executing RB.A34 query function find_source_timestamp_qds: 6/45.</text>"
      ],
      "text/plain": [
       "<IPython.core.display.HTML object>"
      ]
     },
     "metadata": {},
     "output_type": "display_data"
    },
    {
     "name": "stdout",
     "output_type": "stream",
     "text": [
      "\tQuerying PM event timestamps for system: QPS, className: DQAMCNMB_PMSTD, source: * from 2015-03-15 13:47:13.740 to 2015-03-15 13:56:23.740\n"
     ]
    },
    {
     "data": {
      "text/html": [
       "<text style=color:blue>Executing RB.A34 query function find_source_timestamp_ee: 1/45.</text>"
      ],
      "text/plain": [
       "<IPython.core.display.HTML object>"
      ]
     },
     "metadata": {},
     "output_type": "display_data"
    },
    {
     "name": "stdout",
     "output_type": "stream",
     "text": [
      "\tQuerying PM event timestamps for system: QPS, className: DQAMSNRB, source: UA43.RB.A34 from 2015-03-17 21:15:43.160 to 2015-03-17 21:32:33.160\n"
     ]
    },
    {
     "data": {
      "text/html": [
       "<text style=color:blue>Executing RB.A34 query function query_ee_u_dump_res_pm: 2/45.</text>"
      ],
      "text/plain": [
       "<IPython.core.display.HTML object>"
      ]
     },
     "metadata": {},
     "output_type": "display_data"
    },
    {
     "name": "stdout",
     "output_type": "stream",
     "text": [
      "\tQuerying PM event signal(s) UA43.RB.A34:U_DUMP_RES for system: QPS, className: DQAMSNRB, source: UA43.RB.A34 at 2015-03-17 21:15:53.699\n"
     ]
    },
    {
     "data": {
      "text/html": [
       "<text style=color:blue>Executing RB.A34 query function find_source_timestamp_ee: 3/45.</text>"
      ],
      "text/plain": [
       "<IPython.core.display.HTML object>"
      ]
     },
     "metadata": {},
     "output_type": "display_data"
    },
    {
     "name": "stdout",
     "output_type": "stream",
     "text": [
      "\tQuerying PM event timestamps for system: QPS, className: DQAMSNRB, source: UJ33.RB.A34 from 2015-03-17 21:15:43.160 to 2015-03-17 21:32:33.160\n"
     ]
    },
    {
     "data": {
      "text/html": [
       "<text style=color:blue>Executing RB.A34 query function query_ee_u_dump_res_pm: 4/45.</text>"
      ],
      "text/plain": [
       "<IPython.core.display.HTML object>"
      ]
     },
     "metadata": {},
     "output_type": "display_data"
    },
    {
     "name": "stdout",
     "output_type": "stream",
     "text": [
      "\tQuerying PM event signal(s) UJ33.RB.A34:U_DUMP_RES for system: QPS, className: DQAMSNRB, source: UJ33.RB.A34 at 2015-03-17 21:15:53.483\n"
     ]
    },
    {
     "data": {
      "text/html": [
       "<text style=color:blue>Executing RB.A34 query function find_timestamp_pic: 5/45.</text>"
      ],
      "text/plain": [
       "<IPython.core.display.HTML object>"
      ]
     },
     "metadata": {},
     "output_type": "display_data"
    },
    {
     "name": "stdout",
     "output_type": "stream",
     "text": [
      "\tQuerying NXCALS signal(s) RB.A34.ODD:ST_ABORT_PIC, RB.A34.EVEN:ST_ABORT_PIC from 2015-03-17 21:15:52.160 to 2015-03-17 21:16:53.160\n"
     ]
    },
    {
     "data": {
      "text/html": [
       "<text style=color:blue>Executing RB.A34 query function find_source_timestamp_qds: 6/45.</text>"
      ],
      "text/plain": [
       "<IPython.core.display.HTML object>"
      ]
     },
     "metadata": {},
     "output_type": "display_data"
    },
    {
     "name": "stdout",
     "output_type": "stream",
     "text": [
      "\tQuerying PM event timestamps for system: QPS, className: DQAMCNMB_PMSTD, source: * from 2015-03-17 21:15:03.160 to 2015-03-17 21:24:13.160\n"
     ]
    },
    {
     "data": {
      "text/html": [
       "<text style=color:blue>Executing RB.A34 query function find_source_timestamp_ee: 1/45.</text>"
      ],
      "text/plain": [
       "<IPython.core.display.HTML object>"
      ]
     },
     "metadata": {},
     "output_type": "display_data"
    },
    {
     "name": "stdout",
     "output_type": "stream",
     "text": [
      "\tQuerying PM event timestamps for system: QPS, className: DQAMSNRB, source: UA43.RB.A34 from 2015-03-18 07:58:43.640 to 2015-03-18 08:15:33.640\n"
     ]
    },
    {
     "data": {
      "text/html": [
       "<text style=color:blue>Executing RB.A34 query function query_ee_u_dump_res_pm: 2/45.</text>"
      ],
      "text/plain": [
       "<IPython.core.display.HTML object>"
      ]
     },
     "metadata": {},
     "output_type": "display_data"
    },
    {
     "name": "stdout",
     "output_type": "stream",
     "text": [
      "\tQuerying PM event signal(s) UA43.RB.A34:U_DUMP_RES for system: QPS, className: DQAMSNRB, source: UA43.RB.A34 at 2015-03-18 07:58:54.194\n"
     ]
    },
    {
     "data": {
      "text/html": [
       "<text style=color:blue>Executing RB.A34 query function find_source_timestamp_ee: 3/45.</text>"
      ],
      "text/plain": [
       "<IPython.core.display.HTML object>"
      ]
     },
     "metadata": {},
     "output_type": "display_data"
    },
    {
     "name": "stdout",
     "output_type": "stream",
     "text": [
      "\tQuerying PM event timestamps for system: QPS, className: DQAMSNRB, source: UJ33.RB.A34 from 2015-03-18 07:58:43.640 to 2015-03-18 08:15:33.640\n"
     ]
    },
    {
     "data": {
      "text/html": [
       "<text style=color:blue>Executing RB.A34 query function query_ee_u_dump_res_pm: 4/45.</text>"
      ],
      "text/plain": [
       "<IPython.core.display.HTML object>"
      ]
     },
     "metadata": {},
     "output_type": "display_data"
    },
    {
     "name": "stdout",
     "output_type": "stream",
     "text": [
      "\tQuerying PM event signal(s) UJ33.RB.A34:U_DUMP_RES for system: QPS, className: DQAMSNRB, source: UJ33.RB.A34 at 2015-03-18 07:58:53.976\n"
     ]
    },
    {
     "data": {
      "text/html": [
       "<text style=color:blue>Executing RB.A34 query function find_timestamp_pic: 5/45.</text>"
      ],
      "text/plain": [
       "<IPython.core.display.HTML object>"
      ]
     },
     "metadata": {},
     "output_type": "display_data"
    },
    {
     "name": "stdout",
     "output_type": "stream",
     "text": [
      "\tQuerying NXCALS signal(s) RB.A34.ODD:ST_ABORT_PIC, RB.A34.EVEN:ST_ABORT_PIC from 2015-03-18 07:58:52.640 to 2015-03-18 07:59:53.640\n"
     ]
    },
    {
     "data": {
      "text/html": [
       "<text style=color:blue>Executing RB.A34 query function find_source_timestamp_qds: 6/45.</text>"
      ],
      "text/plain": [
       "<IPython.core.display.HTML object>"
      ]
     },
     "metadata": {},
     "output_type": "display_data"
    },
    {
     "name": "stdout",
     "output_type": "stream",
     "text": [
      "\tQuerying PM event timestamps for system: QPS, className: DQAMCNMB_PMSTD, source: * from 2015-03-18 07:58:03.640 to 2015-03-18 08:07:13.640\n"
     ]
    },
    {
     "data": {
      "text/html": [
       "<text style=color:blue>Executing RB.A34 query function find_source_timestamp_ee: 1/45.</text>"
      ],
      "text/plain": [
       "<IPython.core.display.HTML object>"
      ]
     },
     "metadata": {},
     "output_type": "display_data"
    },
    {
     "name": "stdout",
     "output_type": "stream",
     "text": [
      "\tQuerying PM event timestamps for system: QPS, className: DQAMSNRB, source: UA43.RB.A34 from 2015-03-18 20:50:10.380 to 2015-03-18 21:07:00.380\n"
     ]
    },
    {
     "data": {
      "text/html": [
       "<text style=color:blue>Executing RB.A34 query function query_ee_u_dump_res_pm: 2/45.</text>"
      ],
      "text/plain": [
       "<IPython.core.display.HTML object>"
      ]
     },
     "metadata": {},
     "output_type": "display_data"
    },
    {
     "name": "stdout",
     "output_type": "stream",
     "text": [
      "\tQuerying PM event signal(s) UA43.RB.A34:U_DUMP_RES for system: QPS, className: DQAMSNRB, source: UA43.RB.A34 at 2015-03-18 20:50:20.925\n"
     ]
    },
    {
     "data": {
      "text/html": [
       "<text style=color:blue>Executing RB.A34 query function find_source_timestamp_ee: 3/45.</text>"
      ],
      "text/plain": [
       "<IPython.core.display.HTML object>"
      ]
     },
     "metadata": {},
     "output_type": "display_data"
    },
    {
     "name": "stdout",
     "output_type": "stream",
     "text": [
      "\tQuerying PM event timestamps for system: QPS, className: DQAMSNRB, source: UJ33.RB.A34 from 2015-03-18 20:50:10.380 to 2015-03-18 21:07:00.380\n"
     ]
    },
    {
     "data": {
      "text/html": [
       "<text style=color:blue>Executing RB.A34 query function query_ee_u_dump_res_pm: 4/45.</text>"
      ],
      "text/plain": [
       "<IPython.core.display.HTML object>"
      ]
     },
     "metadata": {},
     "output_type": "display_data"
    },
    {
     "name": "stdout",
     "output_type": "stream",
     "text": [
      "\tQuerying PM event signal(s) UJ33.RB.A34:U_DUMP_RES for system: QPS, className: DQAMSNRB, source: UJ33.RB.A34 at 2015-03-18 20:50:20.709\n"
     ]
    },
    {
     "data": {
      "text/html": [
       "<text style=color:blue>Executing RB.A34 query function find_timestamp_pic: 5/45.</text>"
      ],
      "text/plain": [
       "<IPython.core.display.HTML object>"
      ]
     },
     "metadata": {},
     "output_type": "display_data"
    },
    {
     "name": "stdout",
     "output_type": "stream",
     "text": [
      "\tQuerying NXCALS signal(s) RB.A34.ODD:ST_ABORT_PIC, RB.A34.EVEN:ST_ABORT_PIC from 2015-03-18 20:50:19.380 to 2015-03-18 20:51:20.380\n"
     ]
    },
    {
     "data": {
      "text/html": [
       "<text style=color:blue>Executing RB.A34 query function find_source_timestamp_qds: 6/45.</text>"
      ],
      "text/plain": [
       "<IPython.core.display.HTML object>"
      ]
     },
     "metadata": {},
     "output_type": "display_data"
    },
    {
     "name": "stdout",
     "output_type": "stream",
     "text": [
      "\tQuerying PM event timestamps for system: QPS, className: DQAMCNMB_PMSTD, source: * from 2015-03-18 20:49:30.380 to 2015-03-18 20:58:40.380\n"
     ]
    },
    {
     "data": {
      "text/html": [
       "<text style=color:blue>Executing RB.A34 query function find_source_timestamp_ee: 1/45.</text>"
      ],
      "text/plain": [
       "<IPython.core.display.HTML object>"
      ]
     },
     "metadata": {},
     "output_type": "display_data"
    },
    {
     "name": "stdout",
     "output_type": "stream",
     "text": [
      "\tQuerying PM event timestamps for system: QPS, className: DQAMSNRB, source: UA43.RB.A34 from 2015-03-19 08:41:37.160 to 2015-03-19 08:58:27.160\n"
     ]
    },
    {
     "data": {
      "text/html": [
       "<text style=color:blue>Executing RB.A34 query function query_ee_u_dump_res_pm: 2/45.</text>"
      ],
      "text/plain": [
       "<IPython.core.display.HTML object>"
      ]
     },
     "metadata": {},
     "output_type": "display_data"
    },
    {
     "name": "stdout",
     "output_type": "stream",
     "text": [
      "\tQuerying PM event signal(s) UA43.RB.A34:U_DUMP_RES for system: QPS, className: DQAMSNRB, source: UA43.RB.A34 at 2015-03-19 08:41:47.715\n"
     ]
    },
    {
     "data": {
      "text/html": [
       "<text style=color:blue>Executing RB.A34 query function find_source_timestamp_ee: 3/45.</text>"
      ],
      "text/plain": [
       "<IPython.core.display.HTML object>"
      ]
     },
     "metadata": {},
     "output_type": "display_data"
    },
    {
     "name": "stdout",
     "output_type": "stream",
     "text": [
      "\tQuerying PM event timestamps for system: QPS, className: DQAMSNRB, source: UJ33.RB.A34 from 2015-03-19 08:41:37.160 to 2015-03-19 08:58:27.160\n"
     ]
    },
    {
     "data": {
      "text/html": [
       "<text style=color:blue>Executing RB.A34 query function query_ee_u_dump_res_pm: 4/45.</text>"
      ],
      "text/plain": [
       "<IPython.core.display.HTML object>"
      ]
     },
     "metadata": {},
     "output_type": "display_data"
    },
    {
     "name": "stdout",
     "output_type": "stream",
     "text": [
      "\tQuerying PM event signal(s) UJ33.RB.A34:U_DUMP_RES for system: QPS, className: DQAMSNRB, source: UJ33.RB.A34 at 2015-03-19 08:41:47.497\n"
     ]
    },
    {
     "data": {
      "text/html": [
       "<text style=color:blue>Executing RB.A34 query function find_timestamp_pic: 5/45.</text>"
      ],
      "text/plain": [
       "<IPython.core.display.HTML object>"
      ]
     },
     "metadata": {},
     "output_type": "display_data"
    },
    {
     "name": "stdout",
     "output_type": "stream",
     "text": [
      "\tQuerying NXCALS signal(s) RB.A34.ODD:ST_ABORT_PIC, RB.A34.EVEN:ST_ABORT_PIC from 2015-03-19 08:41:46.160 to 2015-03-19 08:42:47.160\n"
     ]
    },
    {
     "data": {
      "text/html": [
       "<text style=color:blue>Executing RB.A34 query function find_source_timestamp_qds: 6/45.</text>"
      ],
      "text/plain": [
       "<IPython.core.display.HTML object>"
      ]
     },
     "metadata": {},
     "output_type": "display_data"
    },
    {
     "name": "stdout",
     "output_type": "stream",
     "text": [
      "\tQuerying PM event timestamps for system: QPS, className: DQAMCNMB_PMSTD, source: * from 2015-03-19 08:40:57.160 to 2015-03-19 08:50:07.160\n"
     ]
    },
    {
     "data": {
      "text/html": [
       "<text style=color:blue>Executing RB.A34 query function find_source_timestamp_ee: 1/45.</text>"
      ],
      "text/plain": [
       "<IPython.core.display.HTML object>"
      ]
     },
     "metadata": {},
     "output_type": "display_data"
    },
    {
     "name": "stdout",
     "output_type": "stream",
     "text": [
      "\tQuerying PM event timestamps for system: QPS, className: DQAMSNRB, source: UA43.RB.A34 from 2015-03-19 17:19:14.040 to 2015-03-19 17:36:04.040\n"
     ]
    },
    {
     "data": {
      "text/html": [
       "<text style=color:blue>Executing RB.A34 query function query_ee_u_dump_res_pm: 2/45.</text>"
      ],
      "text/plain": [
       "<IPython.core.display.HTML object>"
      ]
     },
     "metadata": {},
     "output_type": "display_data"
    },
    {
     "name": "stdout",
     "output_type": "stream",
     "text": [
      "\tQuerying PM event signal(s) UA43.RB.A34:U_DUMP_RES for system: QPS, className: DQAMSNRB, source: UA43.RB.A34 at 2015-03-19 17:19:24.576\n"
     ]
    },
    {
     "data": {
      "text/html": [
       "<text style=color:blue>Executing RB.A34 query function find_source_timestamp_ee: 3/45.</text>"
      ],
      "text/plain": [
       "<IPython.core.display.HTML object>"
      ]
     },
     "metadata": {},
     "output_type": "display_data"
    },
    {
     "name": "stdout",
     "output_type": "stream",
     "text": [
      "\tQuerying PM event timestamps for system: QPS, className: DQAMSNRB, source: UJ33.RB.A34 from 2015-03-19 17:19:14.040 to 2015-03-19 17:36:04.040\n"
     ]
    },
    {
     "data": {
      "text/html": [
       "<text style=color:blue>Executing RB.A34 query function query_ee_u_dump_res_pm: 4/45.</text>"
      ],
      "text/plain": [
       "<IPython.core.display.HTML object>"
      ]
     },
     "metadata": {},
     "output_type": "display_data"
    },
    {
     "name": "stdout",
     "output_type": "stream",
     "text": [
      "\tQuerying PM event signal(s) UJ33.RB.A34:U_DUMP_RES for system: QPS, className: DQAMSNRB, source: UJ33.RB.A34 at 2015-03-19 17:19:24.361\n"
     ]
    },
    {
     "data": {
      "text/html": [
       "<text style=color:blue>Executing RB.A34 query function find_timestamp_pic: 5/45.</text>"
      ],
      "text/plain": [
       "<IPython.core.display.HTML object>"
      ]
     },
     "metadata": {},
     "output_type": "display_data"
    },
    {
     "name": "stdout",
     "output_type": "stream",
     "text": [
      "\tQuerying NXCALS signal(s) RB.A34.ODD:ST_ABORT_PIC, RB.A34.EVEN:ST_ABORT_PIC from 2015-03-19 17:19:23.040 to 2015-03-19 17:20:24.040\n"
     ]
    },
    {
     "data": {
      "text/html": [
       "<text style=color:blue>Executing RB.A34 query function find_source_timestamp_qds: 6/45.</text>"
      ],
      "text/plain": [
       "<IPython.core.display.HTML object>"
      ]
     },
     "metadata": {},
     "output_type": "display_data"
    },
    {
     "name": "stdout",
     "output_type": "stream",
     "text": [
      "\tQuerying PM event timestamps for system: QPS, className: DQAMCNMB_PMSTD, source: * from 2015-03-19 17:18:34.040 to 2015-03-19 17:27:44.040\n"
     ]
    },
    {
     "data": {
      "text/html": [
       "<text style=color:blue>Executing RB.A34 query function find_source_timestamp_ee: 1/45.</text>"
      ],
      "text/plain": [
       "<IPython.core.display.HTML object>"
      ]
     },
     "metadata": {},
     "output_type": "display_data"
    },
    {
     "name": "stdout",
     "output_type": "stream",
     "text": [
      "\tQuerying PM event timestamps for system: QPS, className: DQAMSNRB, source: UA43.RB.A34 from 2015-03-20 12:51:01.700 to 2015-03-20 13:07:51.700\n"
     ]
    },
    {
     "data": {
      "text/html": [
       "<text style=color:blue>Executing RB.A34 query function query_ee_u_dump_res_pm: 2/45.</text>"
      ],
      "text/plain": [
       "<IPython.core.display.HTML object>"
      ]
     },
     "metadata": {},
     "output_type": "display_data"
    },
    {
     "name": "stdout",
     "output_type": "stream",
     "text": [
      "\tQuerying PM event signal(s) UA43.RB.A34:U_DUMP_RES for system: QPS, className: DQAMSNRB, source: UA43.RB.A34 at 2015-03-20 12:51:12.236\n"
     ]
    },
    {
     "data": {
      "text/html": [
       "<text style=color:blue>Executing RB.A34 query function find_source_timestamp_ee: 3/45.</text>"
      ],
      "text/plain": [
       "<IPython.core.display.HTML object>"
      ]
     },
     "metadata": {},
     "output_type": "display_data"
    },
    {
     "name": "stdout",
     "output_type": "stream",
     "text": [
      "\tQuerying PM event timestamps for system: QPS, className: DQAMSNRB, source: UJ33.RB.A34 from 2015-03-20 12:51:01.700 to 2015-03-20 13:07:51.700\n"
     ]
    },
    {
     "data": {
      "text/html": [
       "<text style=color:blue>Executing RB.A34 query function query_ee_u_dump_res_pm: 4/45.</text>"
      ],
      "text/plain": [
       "<IPython.core.display.HTML object>"
      ]
     },
     "metadata": {},
     "output_type": "display_data"
    },
    {
     "name": "stdout",
     "output_type": "stream",
     "text": [
      "\tQuerying PM event signal(s) UJ33.RB.A34:U_DUMP_RES for system: QPS, className: DQAMSNRB, source: UJ33.RB.A34 at 2015-03-20 12:51:12.019\n"
     ]
    },
    {
     "data": {
      "text/html": [
       "<text style=color:blue>Executing RB.A34 query function find_timestamp_pic: 5/45.</text>"
      ],
      "text/plain": [
       "<IPython.core.display.HTML object>"
      ]
     },
     "metadata": {},
     "output_type": "display_data"
    },
    {
     "name": "stdout",
     "output_type": "stream",
     "text": [
      "\tQuerying NXCALS signal(s) RB.A34.ODD:ST_ABORT_PIC, RB.A34.EVEN:ST_ABORT_PIC from 2015-03-20 12:51:10.700 to 2015-03-20 12:52:11.700\n"
     ]
    },
    {
     "data": {
      "text/html": [
       "<text style=color:blue>Executing RB.A34 query function find_source_timestamp_qds: 6/45.</text>"
      ],
      "text/plain": [
       "<IPython.core.display.HTML object>"
      ]
     },
     "metadata": {},
     "output_type": "display_data"
    },
    {
     "name": "stdout",
     "output_type": "stream",
     "text": [
      "\tQuerying PM event timestamps for system: QPS, className: DQAMCNMB_PMSTD, source: * from 2015-03-20 12:50:21.700 to 2015-03-20 12:59:31.700\n"
     ]
    },
    {
     "data": {
      "text/html": [
       "<text style=color:blue>Executing RB.A34 query function find_source_timestamp_ee: 1/45.</text>"
      ],
      "text/plain": [
       "<IPython.core.display.HTML object>"
      ]
     },
     "metadata": {},
     "output_type": "display_data"
    },
    {
     "name": "stdout",
     "output_type": "stream",
     "text": [
      "\tQuerying PM event timestamps for system: QPS, className: DQAMSNRB, source: UA43.RB.A34 from 2015-03-21 03:37:11.060 to 2015-03-21 03:54:01.060\n"
     ]
    },
    {
     "data": {
      "text/html": [
       "<text style=color:blue>Executing RB.A34 query function query_ee_u_dump_res_pm: 2/45.</text>"
      ],
      "text/plain": [
       "<IPython.core.display.HTML object>"
      ]
     },
     "metadata": {},
     "output_type": "display_data"
    },
    {
     "name": "stdout",
     "output_type": "stream",
     "text": [
      "\tQuerying PM event signal(s) UA43.RB.A34:U_DUMP_RES for system: QPS, className: DQAMSNRB, source: UA43.RB.A34 at 2015-03-21 03:37:21.599\n"
     ]
    },
    {
     "data": {
      "text/html": [
       "<text style=color:blue>Executing RB.A34 query function find_source_timestamp_ee: 3/45.</text>"
      ],
      "text/plain": [
       "<IPython.core.display.HTML object>"
      ]
     },
     "metadata": {},
     "output_type": "display_data"
    },
    {
     "name": "stdout",
     "output_type": "stream",
     "text": [
      "\tQuerying PM event timestamps for system: QPS, className: DQAMSNRB, source: UJ33.RB.A34 from 2015-03-21 03:37:11.060 to 2015-03-21 03:54:01.060\n"
     ]
    },
    {
     "data": {
      "text/html": [
       "<text style=color:blue>Executing RB.A34 query function query_ee_u_dump_res_pm: 4/45.</text>"
      ],
      "text/plain": [
       "<IPython.core.display.HTML object>"
      ]
     },
     "metadata": {},
     "output_type": "display_data"
    },
    {
     "name": "stdout",
     "output_type": "stream",
     "text": [
      "\tQuerying PM event signal(s) UJ33.RB.A34:U_DUMP_RES for system: QPS, className: DQAMSNRB, source: UJ33.RB.A34 at 2015-03-21 03:37:21.384\n"
     ]
    },
    {
     "data": {
      "text/html": [
       "<text style=color:blue>Executing RB.A34 query function find_timestamp_pic: 5/45.</text>"
      ],
      "text/plain": [
       "<IPython.core.display.HTML object>"
      ]
     },
     "metadata": {},
     "output_type": "display_data"
    },
    {
     "name": "stdout",
     "output_type": "stream",
     "text": [
      "\tQuerying NXCALS signal(s) RB.A34.ODD:ST_ABORT_PIC, RB.A34.EVEN:ST_ABORT_PIC from 2015-03-21 03:37:20.060 to 2015-03-21 03:38:21.060\n"
     ]
    },
    {
     "data": {
      "text/html": [
       "<text style=color:blue>Executing RB.A34 query function find_source_timestamp_qds: 6/45.</text>"
      ],
      "text/plain": [
       "<IPython.core.display.HTML object>"
      ]
     },
     "metadata": {},
     "output_type": "display_data"
    },
    {
     "name": "stdout",
     "output_type": "stream",
     "text": [
      "\tQuerying PM event timestamps for system: QPS, className: DQAMCNMB_PMSTD, source: * from 2015-03-21 03:36:31.060 to 2015-03-21 03:45:41.060\n"
     ]
    },
    {
     "data": {
      "text/html": [
       "<text style=color:blue>Executing RB.A34 query function find_source_timestamp_ee: 1/45.</text>"
      ],
      "text/plain": [
       "<IPython.core.display.HTML object>"
      ]
     },
     "metadata": {},
     "output_type": "display_data"
    },
    {
     "name": "stdout",
     "output_type": "stream",
     "text": [
      "\tQuerying PM event timestamps for system: QPS, className: DQAMSNRB, source: UA43.RB.A34 from 2015-04-01 16:11:08.980 to 2015-04-01 16:27:58.980\n"
     ]
    },
    {
     "data": {
      "text/html": [
       "<text style=color:blue>Executing RB.A34 query function query_ee_u_dump_res_pm: 2/45.</text>"
      ],
      "text/plain": [
       "<IPython.core.display.HTML object>"
      ]
     },
     "metadata": {},
     "output_type": "display_data"
    },
    {
     "name": "stdout",
     "output_type": "stream",
     "text": [
      "\tQuerying PM event signal(s) UA43.RB.A34:U_DUMP_RES for system: QPS, className: DQAMSNRB, source: UA43.RB.A34 at 2015-04-01 16:11:19.522\n"
     ]
    },
    {
     "data": {
      "text/html": [
       "<text style=color:blue>Executing RB.A34 query function find_source_timestamp_ee: 3/45.</text>"
      ],
      "text/plain": [
       "<IPython.core.display.HTML object>"
      ]
     },
     "metadata": {},
     "output_type": "display_data"
    },
    {
     "name": "stdout",
     "output_type": "stream",
     "text": [
      "\tQuerying PM event timestamps for system: QPS, className: DQAMSNRB, source: UJ33.RB.A34 from 2015-04-01 16:11:08.980 to 2015-04-01 16:27:58.980\n"
     ]
    },
    {
     "data": {
      "text/html": [
       "<text style=color:blue>Executing RB.A34 query function query_ee_u_dump_res_pm: 4/45.</text>"
      ],
      "text/plain": [
       "<IPython.core.display.HTML object>"
      ]
     },
     "metadata": {},
     "output_type": "display_data"
    },
    {
     "name": "stdout",
     "output_type": "stream",
     "text": [
      "\tQuerying PM event signal(s) UJ33.RB.A34:U_DUMP_RES for system: QPS, className: DQAMSNRB, source: UJ33.RB.A34 at 2015-04-01 16:11:19.305\n"
     ]
    },
    {
     "data": {
      "text/html": [
       "<text style=color:blue>Executing RB.A34 query function find_timestamp_pic: 5/45.</text>"
      ],
      "text/plain": [
       "<IPython.core.display.HTML object>"
      ]
     },
     "metadata": {},
     "output_type": "display_data"
    },
    {
     "name": "stdout",
     "output_type": "stream",
     "text": [
      "\tQuerying NXCALS signal(s) RB.A34.ODD:ST_ABORT_PIC, RB.A34.EVEN:ST_ABORT_PIC from 2015-04-01 16:11:17.980 to 2015-04-01 16:12:18.980\n"
     ]
    },
    {
     "data": {
      "text/html": [
       "<text style=color:blue>Executing RB.A34 query function find_source_timestamp_qds: 6/45.</text>"
      ],
      "text/plain": [
       "<IPython.core.display.HTML object>"
      ]
     },
     "metadata": {},
     "output_type": "display_data"
    },
    {
     "name": "stdout",
     "output_type": "stream",
     "text": [
      "\tQuerying PM event timestamps for system: QPS, className: DQAMCNMB_PMSTD, source: * from 2015-04-01 16:10:28.980 to 2015-04-01 16:19:38.980\n"
     ]
    },
    {
     "data": {
      "text/html": [
       "<text style=color:blue>Executing RB.A34 query function find_source_timestamp_ee: 1/45.</text>"
      ],
      "text/plain": [
       "<IPython.core.display.HTML object>"
      ]
     },
     "metadata": {},
     "output_type": "display_data"
    },
    {
     "name": "stdout",
     "output_type": "stream",
     "text": [
      "\tQuerying PM event timestamps for system: QPS, className: DQAMSNRB, source: UA43.RB.A34 from 2015-04-01 21:26:16.420 to 2015-04-01 21:43:06.420\n"
     ]
    },
    {
     "data": {
      "text/html": [
       "<text style=color:blue>Executing RB.A34 query function query_ee_u_dump_res_pm: 2/45.</text>"
      ],
      "text/plain": [
       "<IPython.core.display.HTML object>"
      ]
     },
     "metadata": {},
     "output_type": "display_data"
    },
    {
     "name": "stdout",
     "output_type": "stream",
     "text": [
      "\tQuerying PM event signal(s) UA43.RB.A34:U_DUMP_RES for system: QPS, className: DQAMSNRB, source: UA43.RB.A34 at 2015-04-01 21:26:26.962\n"
     ]
    },
    {
     "data": {
      "text/html": [
       "<text style=color:blue>Executing RB.A34 query function find_source_timestamp_ee: 3/45.</text>"
      ],
      "text/plain": [
       "<IPython.core.display.HTML object>"
      ]
     },
     "metadata": {},
     "output_type": "display_data"
    },
    {
     "name": "stdout",
     "output_type": "stream",
     "text": [
      "\tQuerying PM event timestamps for system: QPS, className: DQAMSNRB, source: UJ33.RB.A34 from 2015-04-01 21:26:16.420 to 2015-04-01 21:43:06.420\n"
     ]
    },
    {
     "data": {
      "text/html": [
       "<text style=color:blue>Executing RB.A34 query function query_ee_u_dump_res_pm: 4/45.</text>"
      ],
      "text/plain": [
       "<IPython.core.display.HTML object>"
      ]
     },
     "metadata": {},
     "output_type": "display_data"
    },
    {
     "name": "stdout",
     "output_type": "stream",
     "text": [
      "\tQuerying PM event signal(s) UJ33.RB.A34:U_DUMP_RES for system: QPS, className: DQAMSNRB, source: UJ33.RB.A34 at 2015-04-01 21:26:26.745\n"
     ]
    },
    {
     "data": {
      "text/html": [
       "<text style=color:blue>Executing RB.A34 query function find_timestamp_pic: 5/45.</text>"
      ],
      "text/plain": [
       "<IPython.core.display.HTML object>"
      ]
     },
     "metadata": {},
     "output_type": "display_data"
    },
    {
     "name": "stdout",
     "output_type": "stream",
     "text": [
      "\tQuerying NXCALS signal(s) RB.A34.ODD:ST_ABORT_PIC, RB.A34.EVEN:ST_ABORT_PIC from 2015-04-01 21:26:25.420 to 2015-04-01 21:27:26.420\n"
     ]
    },
    {
     "data": {
      "text/html": [
       "<text style=color:blue>Executing RB.A34 query function find_source_timestamp_qds: 6/45.</text>"
      ],
      "text/plain": [
       "<IPython.core.display.HTML object>"
      ]
     },
     "metadata": {},
     "output_type": "display_data"
    },
    {
     "name": "stdout",
     "output_type": "stream",
     "text": [
      "\tQuerying PM event timestamps for system: QPS, className: DQAMCNMB_PMSTD, source: * from 2015-04-01 21:25:36.420 to 2015-04-01 21:34:46.420\n"
     ]
    },
    {
     "data": {
      "text/html": [
       "<text style=color:blue>Executing RB.A34 query function find_source_timestamp_ee: 1/45.</text>"
      ],
      "text/plain": [
       "<IPython.core.display.HTML object>"
      ]
     },
     "metadata": {},
     "output_type": "display_data"
    },
    {
     "name": "stdout",
     "output_type": "stream",
     "text": [
      "\tQuerying PM event timestamps for system: QPS, className: DQAMSNRB, source: UA43.RB.A34 from 2015-04-02 05:37:22.180 to 2015-04-02 05:54:12.180\n"
     ]
    },
    {
     "data": {
      "text/html": [
       "<text style=color:blue>Executing RB.A34 query function query_ee_u_dump_res_pm: 2/45.</text>"
      ],
      "text/plain": [
       "<IPython.core.display.HTML object>"
      ]
     },
     "metadata": {},
     "output_type": "display_data"
    },
    {
     "name": "stdout",
     "output_type": "stream",
     "text": [
      "\tQuerying PM event signal(s) UA43.RB.A34:U_DUMP_RES for system: QPS, className: DQAMSNRB, source: UA43.RB.A34 at 2015-04-02 05:37:32.728\n"
     ]
    },
    {
     "data": {
      "text/html": [
       "<text style=color:blue>Executing RB.A34 query function find_source_timestamp_ee: 3/45.</text>"
      ],
      "text/plain": [
       "<IPython.core.display.HTML object>"
      ]
     },
     "metadata": {},
     "output_type": "display_data"
    },
    {
     "name": "stdout",
     "output_type": "stream",
     "text": [
      "\tQuerying PM event timestamps for system: QPS, className: DQAMSNRB, source: UJ33.RB.A34 from 2015-04-02 05:37:22.180 to 2015-04-02 05:54:12.180\n"
     ]
    },
    {
     "data": {
      "text/html": [
       "<text style=color:blue>Executing RB.A34 query function query_ee_u_dump_res_pm: 4/45.</text>"
      ],
      "text/plain": [
       "<IPython.core.display.HTML object>"
      ]
     },
     "metadata": {},
     "output_type": "display_data"
    },
    {
     "name": "stdout",
     "output_type": "stream",
     "text": [
      "\tQuerying PM event signal(s) UJ33.RB.A34:U_DUMP_RES for system: QPS, className: DQAMSNRB, source: UJ33.RB.A34 at 2015-04-02 05:37:32.511\n"
     ]
    },
    {
     "data": {
      "text/html": [
       "<text style=color:blue>Executing RB.A34 query function find_timestamp_pic: 5/45.</text>"
      ],
      "text/plain": [
       "<IPython.core.display.HTML object>"
      ]
     },
     "metadata": {},
     "output_type": "display_data"
    },
    {
     "name": "stdout",
     "output_type": "stream",
     "text": [
      "\tQuerying NXCALS signal(s) RB.A34.ODD:ST_ABORT_PIC, RB.A34.EVEN:ST_ABORT_PIC from 2015-04-02 05:37:31.180 to 2015-04-02 05:38:32.180\n"
     ]
    },
    {
     "data": {
      "text/html": [
       "<text style=color:blue>Executing RB.A34 query function find_source_timestamp_qds: 6/45.</text>"
      ],
      "text/plain": [
       "<IPython.core.display.HTML object>"
      ]
     },
     "metadata": {},
     "output_type": "display_data"
    },
    {
     "name": "stdout",
     "output_type": "stream",
     "text": [
      "\tQuerying PM event timestamps for system: QPS, className: DQAMCNMB_PMSTD, source: * from 2015-04-02 05:36:42.180 to 2015-04-02 05:45:52.180\n"
     ]
    },
    {
     "data": {
      "text/html": [
       "<text style=color:blue>Executing RB.A34 query function find_source_timestamp_ee: 1/45.</text>"
      ],
      "text/plain": [
       "<IPython.core.display.HTML object>"
      ]
     },
     "metadata": {},
     "output_type": "display_data"
    },
    {
     "name": "stdout",
     "output_type": "stream",
     "text": [
      "\tQuerying PM event timestamps for system: QPS, className: DQAMSNRB, source: UA43.RB.A34 from 2015-04-03 08:41:50.640 to 2015-04-03 08:58:40.640\n"
     ]
    },
    {
     "data": {
      "text/html": [
       "<text style=color:blue>Executing RB.A34 query function query_ee_u_dump_res_pm: 2/45.</text>"
      ],
      "text/plain": [
       "<IPython.core.display.HTML object>"
      ]
     },
     "metadata": {},
     "output_type": "display_data"
    },
    {
     "name": "stdout",
     "output_type": "stream",
     "text": [
      "\tQuerying PM event signal(s) UA43.RB.A34:U_DUMP_RES for system: QPS, className: DQAMSNRB, source: UA43.RB.A34 at 2015-04-03 08:42:01.177\n"
     ]
    },
    {
     "data": {
      "text/html": [
       "<text style=color:blue>Executing RB.A34 query function find_source_timestamp_ee: 3/45.</text>"
      ],
      "text/plain": [
       "<IPython.core.display.HTML object>"
      ]
     },
     "metadata": {},
     "output_type": "display_data"
    },
    {
     "name": "stdout",
     "output_type": "stream",
     "text": [
      "\tQuerying PM event timestamps for system: QPS, className: DQAMSNRB, source: UJ33.RB.A34 from 2015-04-03 08:41:50.640 to 2015-04-03 08:58:40.640\n"
     ]
    },
    {
     "data": {
      "text/html": [
       "<text style=color:blue>Executing RB.A34 query function query_ee_u_dump_res_pm: 4/45.</text>"
      ],
      "text/plain": [
       "<IPython.core.display.HTML object>"
      ]
     },
     "metadata": {},
     "output_type": "display_data"
    },
    {
     "name": "stdout",
     "output_type": "stream",
     "text": [
      "\tQuerying PM event signal(s) UJ33.RB.A34:U_DUMP_RES for system: QPS, className: DQAMSNRB, source: UJ33.RB.A34 at 2015-04-03 08:42:00.959\n"
     ]
    },
    {
     "data": {
      "text/html": [
       "<text style=color:blue>Executing RB.A34 query function find_timestamp_pic: 5/45.</text>"
      ],
      "text/plain": [
       "<IPython.core.display.HTML object>"
      ]
     },
     "metadata": {},
     "output_type": "display_data"
    },
    {
     "name": "stdout",
     "output_type": "stream",
     "text": [
      "\tQuerying NXCALS signal(s) RB.A34.ODD:ST_ABORT_PIC, RB.A34.EVEN:ST_ABORT_PIC from 2015-04-03 08:41:59.640 to 2015-04-03 08:43:00.640\n"
     ]
    },
    {
     "data": {
      "text/html": [
       "<text style=color:blue>Executing RB.A34 query function find_source_timestamp_qds: 6/45.</text>"
      ],
      "text/plain": [
       "<IPython.core.display.HTML object>"
      ]
     },
     "metadata": {},
     "output_type": "display_data"
    },
    {
     "name": "stdout",
     "output_type": "stream",
     "text": [
      "\tQuerying PM event timestamps for system: QPS, className: DQAMCNMB_PMSTD, source: * from 2015-04-03 08:41:10.640 to 2015-04-03 08:50:20.640\n"
     ]
    },
    {
     "data": {
      "text/html": [
       "<text style=color:blue>Executing RB.A34 query function find_source_timestamp_ee: 1/45.</text>"
      ],
      "text/plain": [
       "<IPython.core.display.HTML object>"
      ]
     },
     "metadata": {},
     "output_type": "display_data"
    },
    {
     "name": "stdout",
     "output_type": "stream",
     "text": [
      "\tQuerying PM event timestamps for system: QPS, className: DQAMSNRB, source: UA43.RB.A34 from 2015-05-14 12:56:21.240 to 2015-05-14 13:13:11.240\n"
     ]
    },
    {
     "data": {
      "text/html": [
       "<text style=color:blue>Executing RB.A34 query function query_ee_u_dump_res_pm: 2/45.</text>"
      ],
      "text/plain": [
       "<IPython.core.display.HTML object>"
      ]
     },
     "metadata": {},
     "output_type": "display_data"
    },
    {
     "name": "stdout",
     "output_type": "stream",
     "text": [
      "\tQuerying PM event signal(s) UA43.RB.A34:U_DUMP_RES for system: QPS, className: DQAMSNRB, source: UA43.RB.A34 at 2015-05-14 12:56:31.795\n"
     ]
    },
    {
     "data": {
      "text/html": [
       "<text style=color:blue>Executing RB.A34 query function find_source_timestamp_ee: 3/45.</text>"
      ],
      "text/plain": [
       "<IPython.core.display.HTML object>"
      ]
     },
     "metadata": {},
     "output_type": "display_data"
    },
    {
     "name": "stdout",
     "output_type": "stream",
     "text": [
      "\tQuerying PM event timestamps for system: QPS, className: DQAMSNRB, source: UJ33.RB.A34 from 2015-05-14 12:56:21.240 to 2015-05-14 13:13:11.240\n"
     ]
    },
    {
     "data": {
      "text/html": [
       "<text style=color:blue>Executing RB.A34 query function query_ee_u_dump_res_pm: 4/45.</text>"
      ],
      "text/plain": [
       "<IPython.core.display.HTML object>"
      ]
     },
     "metadata": {},
     "output_type": "display_data"
    },
    {
     "name": "stdout",
     "output_type": "stream",
     "text": [
      "\tQuerying PM event signal(s) UJ33.RB.A34:U_DUMP_RES for system: QPS, className: DQAMSNRB, source: UJ33.RB.A34 at 2015-05-14 12:56:31.577\n"
     ]
    },
    {
     "data": {
      "text/html": [
       "<text style=color:blue>Executing RB.A34 query function find_timestamp_pic: 5/45.</text>"
      ],
      "text/plain": [
       "<IPython.core.display.HTML object>"
      ]
     },
     "metadata": {},
     "output_type": "display_data"
    },
    {
     "name": "stdout",
     "output_type": "stream",
     "text": [
      "\tQuerying NXCALS signal(s) RB.A34.ODD:ST_ABORT_PIC, RB.A34.EVEN:ST_ABORT_PIC from 2015-05-14 12:56:30.240 to 2015-05-14 12:57:31.240\n"
     ]
    },
    {
     "data": {
      "text/html": [
       "<text style=color:blue>Executing RB.A34 query function find_source_timestamp_qds: 6/45.</text>"
      ],
      "text/plain": [
       "<IPython.core.display.HTML object>"
      ]
     },
     "metadata": {},
     "output_type": "display_data"
    },
    {
     "name": "stdout",
     "output_type": "stream",
     "text": [
      "\tQuerying PM event timestamps for system: QPS, className: DQAMCNMB_PMSTD, source: * from 2015-05-14 12:55:41.240 to 2015-05-14 13:04:51.240\n"
     ]
    },
    {
     "data": {
      "text/html": [
       "<text style=color:blue>Executing RB.A34 query function find_source_timestamp_ee: 1/45.</text>"
      ],
      "text/plain": [
       "<IPython.core.display.HTML object>"
      ]
     },
     "metadata": {},
     "output_type": "display_data"
    },
    {
     "name": "stdout",
     "output_type": "stream",
     "text": [
      "\tQuerying PM event timestamps for system: QPS, className: DQAMSNRB, source: UA43.RB.A34 from 2015-06-11 16:13:03.140 to 2015-06-11 16:29:53.140\n"
     ]
    },
    {
     "data": {
      "text/html": [
       "<text style=color:blue>Executing RB.A34 query function query_ee_u_dump_res_pm: 2/45.</text>"
      ],
      "text/plain": [
       "<IPython.core.display.HTML object>"
      ]
     },
     "metadata": {},
     "output_type": "display_data"
    },
    {
     "name": "stdout",
     "output_type": "stream",
     "text": [
      "\tQuerying PM event signal(s) UA43.RB.A34:U_DUMP_RES for system: QPS, className: DQAMSNRB, source: UA43.RB.A34 at 2015-06-11 16:13:13.687\n"
     ]
    },
    {
     "data": {
      "text/html": [
       "<text style=color:blue>Executing RB.A34 query function find_source_timestamp_ee: 3/45.</text>"
      ],
      "text/plain": [
       "<IPython.core.display.HTML object>"
      ]
     },
     "metadata": {},
     "output_type": "display_data"
    },
    {
     "name": "stdout",
     "output_type": "stream",
     "text": [
      "\tQuerying PM event timestamps for system: QPS, className: DQAMSNRB, source: UJ33.RB.A34 from 2015-06-11 16:13:03.140 to 2015-06-11 16:29:53.140\n"
     ]
    },
    {
     "data": {
      "text/html": [
       "<text style=color:blue>Executing RB.A34 query function query_ee_u_dump_res_pm: 4/45.</text>"
      ],
      "text/plain": [
       "<IPython.core.display.HTML object>"
      ]
     },
     "metadata": {},
     "output_type": "display_data"
    },
    {
     "name": "stdout",
     "output_type": "stream",
     "text": [
      "\tQuerying PM event signal(s) UJ33.RB.A34:U_DUMP_RES for system: QPS, className: DQAMSNRB, source: UJ33.RB.A34 at 2015-06-11 16:13:13.465\n"
     ]
    },
    {
     "data": {
      "text/html": [
       "<text style=color:blue>Executing RB.A34 query function find_timestamp_pic: 5/45.</text>"
      ],
      "text/plain": [
       "<IPython.core.display.HTML object>"
      ]
     },
     "metadata": {},
     "output_type": "display_data"
    },
    {
     "name": "stdout",
     "output_type": "stream",
     "text": [
      "\tQuerying NXCALS signal(s) RB.A34.ODD:ST_ABORT_PIC, RB.A34.EVEN:ST_ABORT_PIC from 2015-06-11 16:13:12.140 to 2015-06-11 16:14:13.140\n"
     ]
    },
    {
     "data": {
      "text/html": [
       "<text style=color:blue>Executing RB.A34 query function find_source_timestamp_qds: 6/45.</text>"
      ],
      "text/plain": [
       "<IPython.core.display.HTML object>"
      ]
     },
     "metadata": {},
     "output_type": "display_data"
    },
    {
     "name": "stdout",
     "output_type": "stream",
     "text": [
      "\tQuerying PM event timestamps for system: QPS, className: DQAMCNMB_PMSTD, source: * from 2015-06-11 16:12:23.140 to 2015-06-11 16:21:33.140\n"
     ]
    },
    {
     "data": {
      "text/html": [
       "<text style=color:blue>Executing RB.A34 query function find_source_timestamp_ee: 1/45.</text>"
      ],
      "text/plain": [
       "<IPython.core.display.HTML object>"
      ]
     },
     "metadata": {},
     "output_type": "display_data"
    },
    {
     "name": "stdout",
     "output_type": "stream",
     "text": [
      "\tQuerying PM event timestamps for system: QPS, className: DQAMSNRB, source: UA43.RB.A34 from 2015-07-09 07:10:59.480 to 2015-07-09 07:27:49.480\n"
     ]
    },
    {
     "data": {
      "text/html": [
       "<text style=color:blue>Executing RB.A34 query function query_ee_u_dump_res_pm: 2/45.</text>"
      ],
      "text/plain": [
       "<IPython.core.display.HTML object>"
      ]
     },
     "metadata": {},
     "output_type": "display_data"
    },
    {
     "name": "stdout",
     "output_type": "stream",
     "text": [
      "\tQuerying PM event signal(s) UA43.RB.A34:U_DUMP_RES for system: QPS, className: DQAMSNRB, source: UA43.RB.A34 at 2015-07-09 07:11:10.028\n"
     ]
    },
    {
     "data": {
      "text/html": [
       "<text style=color:blue>Executing RB.A34 query function find_source_timestamp_ee: 3/45.</text>"
      ],
      "text/plain": [
       "<IPython.core.display.HTML object>"
      ]
     },
     "metadata": {},
     "output_type": "display_data"
    },
    {
     "name": "stdout",
     "output_type": "stream",
     "text": [
      "\tQuerying PM event timestamps for system: QPS, className: DQAMSNRB, source: UJ33.RB.A34 from 2015-07-09 07:10:59.480 to 2015-07-09 07:27:49.480\n"
     ]
    },
    {
     "data": {
      "text/html": [
       "<text style=color:blue>Executing RB.A34 query function query_ee_u_dump_res_pm: 4/45.</text>"
      ],
      "text/plain": [
       "<IPython.core.display.HTML object>"
      ]
     },
     "metadata": {},
     "output_type": "display_data"
    },
    {
     "name": "stdout",
     "output_type": "stream",
     "text": [
      "\tQuerying PM event signal(s) UJ33.RB.A34:U_DUMP_RES for system: QPS, className: DQAMSNRB, source: UJ33.RB.A34 at 2015-07-09 07:11:09.809\n"
     ]
    },
    {
     "data": {
      "text/html": [
       "<text style=color:blue>Executing RB.A34 query function find_timestamp_pic: 5/45.</text>"
      ],
      "text/plain": [
       "<IPython.core.display.HTML object>"
      ]
     },
     "metadata": {},
     "output_type": "display_data"
    },
    {
     "name": "stdout",
     "output_type": "stream",
     "text": [
      "\tQuerying NXCALS signal(s) RB.A34.ODD:ST_ABORT_PIC, RB.A34.EVEN:ST_ABORT_PIC from 2015-07-09 07:11:08.480 to 2015-07-09 07:12:09.480\n"
     ]
    },
    {
     "data": {
      "text/html": [
       "<text style=color:blue>Executing RB.A34 query function find_source_timestamp_qds: 6/45.</text>"
      ],
      "text/plain": [
       "<IPython.core.display.HTML object>"
      ]
     },
     "metadata": {},
     "output_type": "display_data"
    },
    {
     "name": "stdout",
     "output_type": "stream",
     "text": [
      "\tQuerying PM event timestamps for system: QPS, className: DQAMCNMB_PMSTD, source: * from 2015-07-09 07:10:19.480 to 2015-07-09 07:19:29.480\n"
     ]
    },
    {
     "data": {
      "text/html": [
       "<text style=color:blue>Executing RB.A34 query function find_source_timestamp_ee: 1/45.</text>"
      ],
      "text/plain": [
       "<IPython.core.display.HTML object>"
      ]
     },
     "metadata": {},
     "output_type": "display_data"
    },
    {
     "name": "stdout",
     "output_type": "stream",
     "text": [
      "\tQuerying PM event timestamps for system: QPS, className: DQAMSNRB, source: UA43.RB.A34 from 2015-11-12 19:46:55.380 to 2015-11-12 20:03:45.380\n"
     ]
    },
    {
     "data": {
      "text/html": [
       "<text style=color:blue>Executing RB.A34 query function query_ee_u_dump_res_pm: 2/45.</text>"
      ],
      "text/plain": [
       "<IPython.core.display.HTML object>"
      ]
     },
     "metadata": {},
     "output_type": "display_data"
    },
    {
     "name": "stdout",
     "output_type": "stream",
     "text": [
      "\tQuerying PM event signal(s) UA43.RB.A34:U_DUMP_RES for system: QPS, className: DQAMSNRB, source: UA43.RB.A34 at 2015-11-12 19:47:05.932\n"
     ]
    },
    {
     "data": {
      "text/html": [
       "<text style=color:blue>Executing RB.A34 query function find_source_timestamp_ee: 3/45.</text>"
      ],
      "text/plain": [
       "<IPython.core.display.HTML object>"
      ]
     },
     "metadata": {},
     "output_type": "display_data"
    },
    {
     "name": "stdout",
     "output_type": "stream",
     "text": [
      "\tQuerying PM event timestamps for system: QPS, className: DQAMSNRB, source: UJ33.RB.A34 from 2015-11-12 19:46:55.380 to 2015-11-12 20:03:45.380\n"
     ]
    },
    {
     "data": {
      "text/html": [
       "<text style=color:blue>Executing RB.A34 query function query_ee_u_dump_res_pm: 4/45.</text>"
      ],
      "text/plain": [
       "<IPython.core.display.HTML object>"
      ]
     },
     "metadata": {},
     "output_type": "display_data"
    },
    {
     "name": "stdout",
     "output_type": "stream",
     "text": [
      "\tQuerying PM event signal(s) UJ33.RB.A34:U_DUMP_RES for system: QPS, className: DQAMSNRB, source: UJ33.RB.A34 at 2015-11-12 19:47:05.713\n"
     ]
    },
    {
     "data": {
      "text/html": [
       "<text style=color:blue>Executing RB.A34 query function find_timestamp_pic: 5/45.</text>"
      ],
      "text/plain": [
       "<IPython.core.display.HTML object>"
      ]
     },
     "metadata": {},
     "output_type": "display_data"
    },
    {
     "name": "stdout",
     "output_type": "stream",
     "text": [
      "\tQuerying NXCALS signal(s) RB.A34.ODD:ST_ABORT_PIC, RB.A34.EVEN:ST_ABORT_PIC from 2015-11-12 19:47:04.380 to 2015-11-12 19:48:05.380\n"
     ]
    },
    {
     "data": {
      "text/html": [
       "<text style=color:blue>Executing RB.A34 query function find_source_timestamp_qds: 6/45.</text>"
      ],
      "text/plain": [
       "<IPython.core.display.HTML object>"
      ]
     },
     "metadata": {},
     "output_type": "display_data"
    },
    {
     "name": "stdout",
     "output_type": "stream",
     "text": [
      "\tQuerying PM event timestamps for system: QPS, className: DQAMCNMB_PMSTD, source: * from 2015-11-12 19:46:15.380 to 2015-11-12 19:55:25.380\n"
     ]
    },
    {
     "data": {
      "text/html": [
       "<text style=color:blue>Executing RB.A34 query function find_source_timestamp_ee: 1/45.</text>"
      ],
      "text/plain": [
       "<IPython.core.display.HTML object>"
      ]
     },
     "metadata": {},
     "output_type": "display_data"
    },
    {
     "name": "stdout",
     "output_type": "stream",
     "text": [
      "\tQuerying PM event timestamps for system: QPS, className: DQAMSNRB, source: UA43.RB.A34 from 2016-12-05 19:15:55.780 to 2016-12-05 19:32:45.780\n"
     ]
    },
    {
     "data": {
      "text/html": [
       "<text style=color:blue>Executing RB.A34 query function query_ee_u_dump_res_pm: 2/45.</text>"
      ],
      "text/plain": [
       "<IPython.core.display.HTML object>"
      ]
     },
     "metadata": {},
     "output_type": "display_data"
    },
    {
     "name": "stdout",
     "output_type": "stream",
     "text": [
      "\tQuerying PM event signal(s) UA43.RB.A34:U_DUMP_RES for system: QPS, className: DQAMSNRB, source: UA43.RB.A34 at 2016-12-05 19:16:06.316\n"
     ]
    },
    {
     "data": {
      "text/html": [
       "<text style=color:blue>Executing RB.A34 query function find_source_timestamp_ee: 3/45.</text>"
      ],
      "text/plain": [
       "<IPython.core.display.HTML object>"
      ]
     },
     "metadata": {},
     "output_type": "display_data"
    },
    {
     "name": "stdout",
     "output_type": "stream",
     "text": [
      "\tQuerying PM event timestamps for system: QPS, className: DQAMSNRB, source: UJ33.RB.A34 from 2016-12-05 19:15:55.780 to 2016-12-05 19:32:45.780\n"
     ]
    },
    {
     "data": {
      "text/html": [
       "<text style=color:blue>Executing RB.A34 query function query_ee_u_dump_res_pm: 4/45.</text>"
      ],
      "text/plain": [
       "<IPython.core.display.HTML object>"
      ]
     },
     "metadata": {},
     "output_type": "display_data"
    },
    {
     "name": "stdout",
     "output_type": "stream",
     "text": [
      "\tQuerying PM event signal(s) UJ33.RB.A34:U_DUMP_RES for system: QPS, className: DQAMSNRB, source: UJ33.RB.A34 at 2016-12-05 19:16:06.095\n"
     ]
    },
    {
     "data": {
      "text/html": [
       "<text style=color:blue>Executing RB.A34 query function find_timestamp_pic: 5/45.</text>"
      ],
      "text/plain": [
       "<IPython.core.display.HTML object>"
      ]
     },
     "metadata": {},
     "output_type": "display_data"
    },
    {
     "name": "stdout",
     "output_type": "stream",
     "text": [
      "\tQuerying NXCALS signal(s) RB.A34.ODD:ST_ABORT_PIC, RB.A34.EVEN:ST_ABORT_PIC from 2016-12-05 19:16:04.780 to 2016-12-05 19:17:05.780\n"
     ]
    },
    {
     "data": {
      "text/html": [
       "<text style=color:blue>Executing RB.A34 query function find_source_timestamp_qds: 6/45.</text>"
      ],
      "text/plain": [
       "<IPython.core.display.HTML object>"
      ]
     },
     "metadata": {},
     "output_type": "display_data"
    },
    {
     "name": "stdout",
     "output_type": "stream",
     "text": [
      "\tQuerying PM event timestamps for system: QPS, className: DQAMCNMB_PMSTD, source: * from 2016-12-05 19:15:15.780 to 2016-12-05 19:24:25.780\n"
     ]
    },
    {
     "data": {
      "text/html": [
       "<text style=color:blue>Executing RB.A34 query function find_source_timestamp_ee: 1/45.</text>"
      ],
      "text/plain": [
       "<IPython.core.display.HTML object>"
      ]
     },
     "metadata": {},
     "output_type": "display_data"
    },
    {
     "name": "stdout",
     "output_type": "stream",
     "text": [
      "\tQuerying PM event timestamps for system: QPS, className: DQAMSNRB, source: UA43.RB.A34 from 2016-12-06 04:29:21.240 to 2016-12-06 04:46:11.240\n"
     ]
    },
    {
     "data": {
      "text/html": [
       "<text style=color:blue>Executing RB.A34 query function query_ee_u_dump_res_pm: 2/45.</text>"
      ],
      "text/plain": [
       "<IPython.core.display.HTML object>"
      ]
     },
     "metadata": {},
     "output_type": "display_data"
    },
    {
     "name": "stdout",
     "output_type": "stream",
     "text": [
      "\tQuerying PM event signal(s) UA43.RB.A34:U_DUMP_RES for system: QPS, className: DQAMSNRB, source: UA43.RB.A34 at 2016-12-06 04:29:31.776\n"
     ]
    },
    {
     "data": {
      "text/html": [
       "<text style=color:blue>Executing RB.A34 query function find_source_timestamp_ee: 3/45.</text>"
      ],
      "text/plain": [
       "<IPython.core.display.HTML object>"
      ]
     },
     "metadata": {},
     "output_type": "display_data"
    },
    {
     "name": "stdout",
     "output_type": "stream",
     "text": [
      "\tQuerying PM event timestamps for system: QPS, className: DQAMSNRB, source: UJ33.RB.A34 from 2016-12-06 04:29:21.240 to 2016-12-06 04:46:11.240\n"
     ]
    },
    {
     "data": {
      "text/html": [
       "<text style=color:blue>Executing RB.A34 query function query_ee_u_dump_res_pm: 4/45.</text>"
      ],
      "text/plain": [
       "<IPython.core.display.HTML object>"
      ]
     },
     "metadata": {},
     "output_type": "display_data"
    },
    {
     "name": "stdout",
     "output_type": "stream",
     "text": [
      "\tQuerying PM event signal(s) UJ33.RB.A34:U_DUMP_RES for system: QPS, className: DQAMSNRB, source: UJ33.RB.A34 at 2016-12-06 04:29:31.555\n"
     ]
    },
    {
     "data": {
      "text/html": [
       "<text style=color:blue>Executing RB.A34 query function find_timestamp_pic: 5/45.</text>"
      ],
      "text/plain": [
       "<IPython.core.display.HTML object>"
      ]
     },
     "metadata": {},
     "output_type": "display_data"
    },
    {
     "name": "stdout",
     "output_type": "stream",
     "text": [
      "\tQuerying NXCALS signal(s) RB.A34.ODD:ST_ABORT_PIC, RB.A34.EVEN:ST_ABORT_PIC from 2016-12-06 04:29:30.240 to 2016-12-06 04:30:31.240\n"
     ]
    },
    {
     "data": {
      "text/html": [
       "<text style=color:blue>Executing RB.A34 query function find_source_timestamp_qds: 6/45.</text>"
      ],
      "text/plain": [
       "<IPython.core.display.HTML object>"
      ]
     },
     "metadata": {},
     "output_type": "display_data"
    },
    {
     "name": "stdout",
     "output_type": "stream",
     "text": [
      "\tQuerying PM event timestamps for system: QPS, className: DQAMCNMB_PMSTD, source: * from 2016-12-06 04:28:41.240 to 2016-12-06 04:37:51.240\n"
     ]
    },
    {
     "data": {
      "text/html": [
       "<text style=color:blue>Executing RB.A34 query function find_source_timestamp_ee: 1/45.</text>"
      ],
      "text/plain": [
       "<IPython.core.display.HTML object>"
      ]
     },
     "metadata": {},
     "output_type": "display_data"
    },
    {
     "name": "stdout",
     "output_type": "stream",
     "text": [
      "\tQuerying PM event timestamps for system: QPS, className: DQAMSNRB, source: UA43.RB.A34 from 2016-12-06 15:05:07.180 to 2016-12-06 15:21:57.180\n"
     ]
    },
    {
     "data": {
      "text/html": [
       "<text style=color:blue>Executing RB.A34 query function query_ee_u_dump_res_pm: 2/45.</text>"
      ],
      "text/plain": [
       "<IPython.core.display.HTML object>"
      ]
     },
     "metadata": {},
     "output_type": "display_data"
    },
    {
     "name": "stdout",
     "output_type": "stream",
     "text": [
      "\tQuerying PM event signal(s) UA43.RB.A34:U_DUMP_RES for system: QPS, className: DQAMSNRB, source: UA43.RB.A34 at 2016-12-06 15:05:17.723\n"
     ]
    },
    {
     "data": {
      "text/html": [
       "<text style=color:blue>Executing RB.A34 query function find_source_timestamp_ee: 3/45.</text>"
      ],
      "text/plain": [
       "<IPython.core.display.HTML object>"
      ]
     },
     "metadata": {},
     "output_type": "display_data"
    },
    {
     "name": "stdout",
     "output_type": "stream",
     "text": [
      "\tQuerying PM event timestamps for system: QPS, className: DQAMSNRB, source: UJ33.RB.A34 from 2016-12-06 15:05:07.180 to 2016-12-06 15:21:57.180\n"
     ]
    },
    {
     "data": {
      "text/html": [
       "<text style=color:blue>Executing RB.A34 query function query_ee_u_dump_res_pm: 4/45.</text>"
      ],
      "text/plain": [
       "<IPython.core.display.HTML object>"
      ]
     },
     "metadata": {},
     "output_type": "display_data"
    },
    {
     "name": "stdout",
     "output_type": "stream",
     "text": [
      "\tQuerying PM event signal(s) UJ33.RB.A34:U_DUMP_RES for system: QPS, className: DQAMSNRB, source: UJ33.RB.A34 at 2016-12-06 15:05:17.503\n"
     ]
    },
    {
     "data": {
      "text/html": [
       "<text style=color:blue>Executing RB.A34 query function find_timestamp_pic: 5/45.</text>"
      ],
      "text/plain": [
       "<IPython.core.display.HTML object>"
      ]
     },
     "metadata": {},
     "output_type": "display_data"
    },
    {
     "name": "stdout",
     "output_type": "stream",
     "text": [
      "\tQuerying NXCALS signal(s) RB.A34.ODD:ST_ABORT_PIC, RB.A34.EVEN:ST_ABORT_PIC from 2016-12-06 15:05:16.180 to 2016-12-06 15:06:17.180\n"
     ]
    },
    {
     "data": {
      "text/html": [
       "<text style=color:blue>Executing RB.A34 query function find_source_timestamp_qds: 6/45.</text>"
      ],
      "text/plain": [
       "<IPython.core.display.HTML object>"
      ]
     },
     "metadata": {},
     "output_type": "display_data"
    },
    {
     "name": "stdout",
     "output_type": "stream",
     "text": [
      "\tQuerying PM event timestamps for system: QPS, className: DQAMCNMB_PMSTD, source: * from 2016-12-06 15:04:27.180 to 2016-12-06 15:13:37.180\n"
     ]
    },
    {
     "data": {
      "text/html": [
       "<text style=color:blue>Executing RB.A34 query function find_source_timestamp_ee: 1/45.</text>"
      ],
      "text/plain": [
       "<IPython.core.display.HTML object>"
      ]
     },
     "metadata": {},
     "output_type": "display_data"
    },
    {
     "name": "stdout",
     "output_type": "stream",
     "text": [
      "\tQuerying PM event timestamps for system: QPS, className: DQAMSNRB, source: UA43.RB.A34 from 2016-12-06 23:05:32.500 to 2016-12-06 23:22:22.500\n"
     ]
    },
    {
     "data": {
      "text/html": [
       "<text style=color:blue>Executing RB.A34 query function query_ee_u_dump_res_pm: 2/45.</text>"
      ],
      "text/plain": [
       "<IPython.core.display.HTML object>"
      ]
     },
     "metadata": {},
     "output_type": "display_data"
    },
    {
     "name": "stdout",
     "output_type": "stream",
     "text": [
      "\tQuerying PM event signal(s) UA43.RB.A34:U_DUMP_RES for system: QPS, className: DQAMSNRB, source: UA43.RB.A34 at 2016-12-06 23:05:43.042\n"
     ]
    },
    {
     "data": {
      "text/html": [
       "<text style=color:blue>Executing RB.A34 query function find_source_timestamp_ee: 3/45.</text>"
      ],
      "text/plain": [
       "<IPython.core.display.HTML object>"
      ]
     },
     "metadata": {},
     "output_type": "display_data"
    },
    {
     "name": "stdout",
     "output_type": "stream",
     "text": [
      "\tQuerying PM event timestamps for system: QPS, className: DQAMSNRB, source: UJ33.RB.A34 from 2016-12-06 23:05:32.500 to 2016-12-06 23:22:22.500\n"
     ]
    },
    {
     "data": {
      "text/html": [
       "<text style=color:blue>Executing RB.A34 query function query_ee_u_dump_res_pm: 4/45.</text>"
      ],
      "text/plain": [
       "<IPython.core.display.HTML object>"
      ]
     },
     "metadata": {},
     "output_type": "display_data"
    },
    {
     "name": "stdout",
     "output_type": "stream",
     "text": [
      "\tQuerying PM event signal(s) UJ33.RB.A34:U_DUMP_RES for system: QPS, className: DQAMSNRB, source: UJ33.RB.A34 at 2016-12-06 23:05:42.822\n"
     ]
    },
    {
     "data": {
      "text/html": [
       "<text style=color:blue>Executing RB.A34 query function find_timestamp_pic: 5/45.</text>"
      ],
      "text/plain": [
       "<IPython.core.display.HTML object>"
      ]
     },
     "metadata": {},
     "output_type": "display_data"
    },
    {
     "name": "stdout",
     "output_type": "stream",
     "text": [
      "\tQuerying NXCALS signal(s) RB.A34.ODD:ST_ABORT_PIC, RB.A34.EVEN:ST_ABORT_PIC from 2016-12-06 23:05:41.500 to 2016-12-06 23:06:42.500\n"
     ]
    },
    {
     "data": {
      "text/html": [
       "<text style=color:blue>Executing RB.A34 query function find_source_timestamp_qds: 6/45.</text>"
      ],
      "text/plain": [
       "<IPython.core.display.HTML object>"
      ]
     },
     "metadata": {},
     "output_type": "display_data"
    },
    {
     "name": "stdout",
     "output_type": "stream",
     "text": [
      "\tQuerying PM event timestamps for system: QPS, className: DQAMCNMB_PMSTD, source: * from 2016-12-06 23:04:52.500 to 2016-12-06 23:14:02.500\n"
     ]
    },
    {
     "data": {
      "text/html": [
       "<text style=color:blue>Executing RB.A34 query function find_source_timestamp_ee: 1/45.</text>"
      ],
      "text/plain": [
       "<IPython.core.display.HTML object>"
      ]
     },
     "metadata": {},
     "output_type": "display_data"
    },
    {
     "name": "stdout",
     "output_type": "stream",
     "text": [
      "\tQuerying PM event timestamps for system: QPS, className: DQAMSNRB, source: UA43.RB.A34 from 2016-12-07 08:04:28.440 to 2016-12-07 08:21:18.440\n"
     ]
    },
    {
     "data": {
      "text/html": [
       "<text style=color:blue>Executing RB.A34 query function query_ee_u_dump_res_pm: 2/45.</text>"
      ],
      "text/plain": [
       "<IPython.core.display.HTML object>"
      ]
     },
     "metadata": {},
     "output_type": "display_data"
    },
    {
     "name": "stdout",
     "output_type": "stream",
     "text": [
      "\tQuerying PM event signal(s) UA43.RB.A34:U_DUMP_RES for system: QPS, className: DQAMSNRB, source: UA43.RB.A34 at 2016-12-07 08:04:38.992\n"
     ]
    },
    {
     "data": {
      "text/html": [
       "<text style=color:blue>Executing RB.A34 query function find_source_timestamp_ee: 3/45.</text>"
      ],
      "text/plain": [
       "<IPython.core.display.HTML object>"
      ]
     },
     "metadata": {},
     "output_type": "display_data"
    },
    {
     "name": "stdout",
     "output_type": "stream",
     "text": [
      "\tQuerying PM event timestamps for system: QPS, className: DQAMSNRB, source: UJ33.RB.A34 from 2016-12-07 08:04:28.440 to 2016-12-07 08:21:18.440\n"
     ]
    },
    {
     "data": {
      "text/html": [
       "<text style=color:blue>Executing RB.A34 query function query_ee_u_dump_res_pm: 4/45.</text>"
      ],
      "text/plain": [
       "<IPython.core.display.HTML object>"
      ]
     },
     "metadata": {},
     "output_type": "display_data"
    },
    {
     "name": "stdout",
     "output_type": "stream",
     "text": [
      "\tQuerying PM event signal(s) UJ33.RB.A34:U_DUMP_RES for system: QPS, className: DQAMSNRB, source: UJ33.RB.A34 at 2016-12-07 08:04:38.772\n"
     ]
    },
    {
     "data": {
      "text/html": [
       "<text style=color:blue>Executing RB.A34 query function find_timestamp_pic: 5/45.</text>"
      ],
      "text/plain": [
       "<IPython.core.display.HTML object>"
      ]
     },
     "metadata": {},
     "output_type": "display_data"
    },
    {
     "name": "stdout",
     "output_type": "stream",
     "text": [
      "\tQuerying NXCALS signal(s) RB.A34.ODD:ST_ABORT_PIC, RB.A34.EVEN:ST_ABORT_PIC from 2016-12-07 08:04:37.440 to 2016-12-07 08:05:38.440\n"
     ]
    },
    {
     "data": {
      "text/html": [
       "<text style=color:blue>Executing RB.A34 query function find_source_timestamp_qds: 6/45.</text>"
      ],
      "text/plain": [
       "<IPython.core.display.HTML object>"
      ]
     },
     "metadata": {},
     "output_type": "display_data"
    },
    {
     "name": "stdout",
     "output_type": "stream",
     "text": [
      "\tQuerying PM event timestamps for system: QPS, className: DQAMCNMB_PMSTD, source: * from 2016-12-07 08:03:48.440 to 2016-12-07 08:12:58.440\n"
     ]
    },
    {
     "data": {
      "text/html": [
       "<text style=color:blue>Executing RB.A34 query function find_source_timestamp_ee: 1/45.</text>"
      ],
      "text/plain": [
       "<IPython.core.display.HTML object>"
      ]
     },
     "metadata": {},
     "output_type": "display_data"
    },
    {
     "name": "stdout",
     "output_type": "stream",
     "text": [
      "\tQuerying PM event timestamps for system: QPS, className: DQAMSNRB, source: UA43.RB.A34 from 2016-12-07 17:08:01.040 to 2016-12-07 17:24:51.040\n"
     ]
    },
    {
     "data": {
      "text/html": [
       "<text style=color:blue>Executing RB.A34 query function query_ee_u_dump_res_pm: 2/45.</text>"
      ],
      "text/plain": [
       "<IPython.core.display.HTML object>"
      ]
     },
     "metadata": {},
     "output_type": "display_data"
    },
    {
     "name": "stdout",
     "output_type": "stream",
     "text": [
      "\tQuerying PM event signal(s) UA43.RB.A34:U_DUMP_RES for system: QPS, className: DQAMSNRB, source: UA43.RB.A34 at 2016-12-07 17:08:11.590\n"
     ]
    },
    {
     "data": {
      "text/html": [
       "<text style=color:blue>Executing RB.A34 query function find_source_timestamp_ee: 3/45.</text>"
      ],
      "text/plain": [
       "<IPython.core.display.HTML object>"
      ]
     },
     "metadata": {},
     "output_type": "display_data"
    },
    {
     "name": "stdout",
     "output_type": "stream",
     "text": [
      "\tQuerying PM event timestamps for system: QPS, className: DQAMSNRB, source: UJ33.RB.A34 from 2016-12-07 17:08:01.040 to 2016-12-07 17:24:51.040\n"
     ]
    },
    {
     "data": {
      "text/html": [
       "<text style=color:blue>Executing RB.A34 query function query_ee_u_dump_res_pm: 4/45.</text>"
      ],
      "text/plain": [
       "<IPython.core.display.HTML object>"
      ]
     },
     "metadata": {},
     "output_type": "display_data"
    },
    {
     "name": "stdout",
     "output_type": "stream",
     "text": [
      "\tQuerying PM event signal(s) UJ33.RB.A34:U_DUMP_RES for system: QPS, className: DQAMSNRB, source: UJ33.RB.A34 at 2016-12-07 17:08:11.370\n"
     ]
    },
    {
     "data": {
      "text/html": [
       "<text style=color:blue>Executing RB.A34 query function find_timestamp_pic: 5/45.</text>"
      ],
      "text/plain": [
       "<IPython.core.display.HTML object>"
      ]
     },
     "metadata": {},
     "output_type": "display_data"
    },
    {
     "name": "stdout",
     "output_type": "stream",
     "text": [
      "\tQuerying NXCALS signal(s) RB.A34.ODD:ST_ABORT_PIC, RB.A34.EVEN:ST_ABORT_PIC from 2016-12-07 17:08:10.040 to 2016-12-07 17:09:11.040\n"
     ]
    },
    {
     "data": {
      "text/html": [
       "<text style=color:blue>Executing RB.A34 query function find_source_timestamp_qds: 6/45.</text>"
      ],
      "text/plain": [
       "<IPython.core.display.HTML object>"
      ]
     },
     "metadata": {},
     "output_type": "display_data"
    },
    {
     "name": "stdout",
     "output_type": "stream",
     "text": [
      "\tQuerying PM event timestamps for system: QPS, className: DQAMCNMB_PMSTD, source: * from 2016-12-07 17:07:21.040 to 2016-12-07 17:16:31.040\n"
     ]
    },
    {
     "data": {
      "text/html": [
       "<text style=color:blue>Executing RB.A34 query function find_source_timestamp_ee: 1/45.</text>"
      ],
      "text/plain": [
       "<IPython.core.display.HTML object>"
      ]
     },
     "metadata": {},
     "output_type": "display_data"
    },
    {
     "name": "stdout",
     "output_type": "stream",
     "text": [
      "\tQuerying PM event timestamps for system: QPS, className: DQAMSNRB, source: UA43.RB.A34 from 2016-12-08 02:10:26.120 to 2016-12-08 02:27:16.120\n"
     ]
    },
    {
     "data": {
      "text/html": [
       "<text style=color:blue>Executing RB.A34 query function query_ee_u_dump_res_pm: 2/45.</text>"
      ],
      "text/plain": [
       "<IPython.core.display.HTML object>"
      ]
     },
     "metadata": {},
     "output_type": "display_data"
    },
    {
     "name": "stdout",
     "output_type": "stream",
     "text": [
      "\tQuerying PM event signal(s) UA43.RB.A34:U_DUMP_RES for system: QPS, className: DQAMSNRB, source: UA43.RB.A34 at 2016-12-08 02:10:36.671\n"
     ]
    },
    {
     "data": {
      "text/html": [
       "<text style=color:blue>Executing RB.A34 query function find_source_timestamp_ee: 3/45.</text>"
      ],
      "text/plain": [
       "<IPython.core.display.HTML object>"
      ]
     },
     "metadata": {},
     "output_type": "display_data"
    },
    {
     "name": "stdout",
     "output_type": "stream",
     "text": [
      "\tQuerying PM event timestamps for system: QPS, className: DQAMSNRB, source: UJ33.RB.A34 from 2016-12-08 02:10:26.120 to 2016-12-08 02:27:16.120\n"
     ]
    },
    {
     "data": {
      "text/html": [
       "<text style=color:blue>Executing RB.A34 query function query_ee_u_dump_res_pm: 4/45.</text>"
      ],
      "text/plain": [
       "<IPython.core.display.HTML object>"
      ]
     },
     "metadata": {},
     "output_type": "display_data"
    },
    {
     "name": "stdout",
     "output_type": "stream",
     "text": [
      "\tQuerying PM event signal(s) UJ33.RB.A34:U_DUMP_RES for system: QPS, className: DQAMSNRB, source: UJ33.RB.A34 at 2016-12-08 02:10:36.452\n"
     ]
    },
    {
     "data": {
      "text/html": [
       "<text style=color:blue>Executing RB.A34 query function find_timestamp_pic: 5/45.</text>"
      ],
      "text/plain": [
       "<IPython.core.display.HTML object>"
      ]
     },
     "metadata": {},
     "output_type": "display_data"
    },
    {
     "name": "stdout",
     "output_type": "stream",
     "text": [
      "\tQuerying NXCALS signal(s) RB.A34.ODD:ST_ABORT_PIC, RB.A34.EVEN:ST_ABORT_PIC from 2016-12-08 02:10:35.120 to 2016-12-08 02:11:36.120\n"
     ]
    },
    {
     "data": {
      "text/html": [
       "<text style=color:blue>Executing RB.A34 query function find_source_timestamp_qds: 6/45.</text>"
      ],
      "text/plain": [
       "<IPython.core.display.HTML object>"
      ]
     },
     "metadata": {},
     "output_type": "display_data"
    },
    {
     "name": "stdout",
     "output_type": "stream",
     "text": [
      "\tQuerying PM event timestamps for system: QPS, className: DQAMCNMB_PMSTD, source: * from 2016-12-08 02:09:46.120 to 2016-12-08 02:18:56.120\n"
     ]
    },
    {
     "data": {
      "text/html": [
       "<text style=color:blue>Executing RB.A34 query function find_source_timestamp_ee: 1/45.</text>"
      ],
      "text/plain": [
       "<IPython.core.display.HTML object>"
      ]
     },
     "metadata": {},
     "output_type": "display_data"
    },
    {
     "name": "stdout",
     "output_type": "stream",
     "text": [
      "\tQuerying PM event timestamps for system: QPS, className: DQAMSNRB, source: UA43.RB.A34 from 2018-06-07 14:35:41.920 to 2018-06-07 14:52:31.920\n"
     ]
    },
    {
     "data": {
      "text/html": [
       "<text style=color:blue>Executing RB.A34 query function query_ee_u_dump_res_pm: 2/45.</text>"
      ],
      "text/plain": [
       "<IPython.core.display.HTML object>"
      ]
     },
     "metadata": {},
     "output_type": "display_data"
    },
    {
     "name": "stdout",
     "output_type": "stream",
     "text": [
      "\tQuerying PM event signal(s) UA43.RB.A34:U_DUMP_RES for system: QPS, className: DQAMSNRB, source: UA43.RB.A34 at 2018-06-07 14:35:52.492\n"
     ]
    },
    {
     "data": {
      "text/html": [
       "<text style=color:blue>Executing RB.A34 query function find_source_timestamp_ee: 3/45.</text>"
      ],
      "text/plain": [
       "<IPython.core.display.HTML object>"
      ]
     },
     "metadata": {},
     "output_type": "display_data"
    },
    {
     "name": "stdout",
     "output_type": "stream",
     "text": [
      "\tQuerying PM event timestamps for system: QPS, className: DQAMSNRB, source: UJ33.RB.A34 from 2018-06-07 14:35:41.920 to 2018-06-07 14:52:31.920\n"
     ]
    },
    {
     "data": {
      "text/html": [
       "<text style=color:blue>Executing RB.A34 query function query_ee_u_dump_res_pm: 4/45.</text>"
      ],
      "text/plain": [
       "<IPython.core.display.HTML object>"
      ]
     },
     "metadata": {},
     "output_type": "display_data"
    },
    {
     "name": "stdout",
     "output_type": "stream",
     "text": [
      "\tQuerying PM event signal(s) UJ33.RB.A34:U_DUMP_RES for system: QPS, className: DQAMSNRB, source: UJ33.RB.A34 at 2018-06-07 14:35:51.996\n"
     ]
    },
    {
     "data": {
      "text/html": [
       "<text style=color:blue>Executing RB.A34 query function find_timestamp_pic: 5/45.</text>"
      ],
      "text/plain": [
       "<IPython.core.display.HTML object>"
      ]
     },
     "metadata": {},
     "output_type": "display_data"
    },
    {
     "name": "stdout",
     "output_type": "stream",
     "text": [
      "\tQuerying NXCALS signal(s) RB.A34.ODD:ST_ABORT_PIC, RB.A34.EVEN:ST_ABORT_PIC from 2018-06-07 14:35:50.920 to 2018-06-07 14:36:51.920\n"
     ]
    },
    {
     "data": {
      "text/html": [
       "<text style=color:blue>Executing RB.A34 query function find_source_timestamp_qds: 6/45.</text>"
      ],
      "text/plain": [
       "<IPython.core.display.HTML object>"
      ]
     },
     "metadata": {},
     "output_type": "display_data"
    },
    {
     "name": "stdout",
     "output_type": "stream",
     "text": [
      "\tQuerying PM event timestamps for system: QPS, className: DQAMCNMB_PMSTD, source: * from 2018-06-07 14:35:01.920 to 2018-06-07 14:44:11.920\n"
     ]
    },
    {
     "data": {
      "text/html": [
       "<text style=color:blue>Executing RB.A45 query function find_source_timestamp_ee: 1/45.</text>"
      ],
      "text/plain": [
       "<IPython.core.display.HTML object>"
      ]
     },
     "metadata": {},
     "output_type": "display_data"
    },
    {
     "name": "stdout",
     "output_type": "stream",
     "text": [
      "\tQuerying PM event timestamps for system: QPS, className: DQAMSNRB, source: UA47.RB.A45 from 2015-03-02 18:42:22.120 to 2015-03-02 18:59:12.120\n"
     ]
    },
    {
     "data": {
      "text/html": [
       "<text style=color:blue>Executing RB.A45 query function query_ee_u_dump_res_pm: 2/45.</text>"
      ],
      "text/plain": [
       "<IPython.core.display.HTML object>"
      ]
     },
     "metadata": {},
     "output_type": "display_data"
    },
    {
     "name": "stdout",
     "output_type": "stream",
     "text": [
      "\tQuerying PM event signal(s) UA47.RB.A45:U_DUMP_RES for system: QPS, className: DQAMSNRB, source: UA47.RB.A45 at 2015-03-02 18:42:32.679\n"
     ]
    },
    {
     "data": {
      "text/html": [
       "<text style=color:blue>Executing RB.A45 query function find_source_timestamp_ee: 3/45.</text>"
      ],
      "text/plain": [
       "<IPython.core.display.HTML object>"
      ]
     },
     "metadata": {},
     "output_type": "display_data"
    },
    {
     "name": "stdout",
     "output_type": "stream",
     "text": [
      "\tQuerying PM event timestamps for system: QPS, className: DQAMSNRB, source: RR53.RB.A45 from 2015-03-02 18:42:22.120 to 2015-03-02 18:59:12.120\n"
     ]
    },
    {
     "data": {
      "text/html": [
       "<text style=color:blue>Executing RB.A45 query function query_ee_u_dump_res_pm: 4/45.</text>"
      ],
      "text/plain": [
       "<IPython.core.display.HTML object>"
      ]
     },
     "metadata": {},
     "output_type": "display_data"
    },
    {
     "name": "stdout",
     "output_type": "stream",
     "text": [
      "\tQuerying PM event signal(s) RR53.RB.A45:U_DUMP_RES for system: QPS, className: DQAMSNRB, source: RR53.RB.A45 at 2015-03-02 18:42:32.418\n"
     ]
    },
    {
     "data": {
      "text/html": [
       "<text style=color:blue>Executing RB.A45 query function find_timestamp_pic: 5/45.</text>"
      ],
      "text/plain": [
       "<IPython.core.display.HTML object>"
      ]
     },
     "metadata": {},
     "output_type": "display_data"
    },
    {
     "name": "stdout",
     "output_type": "stream",
     "text": [
      "\tQuerying NXCALS signal(s) RB.A45.ODD:ST_ABORT_PIC, RB.A45.EVEN:ST_ABORT_PIC from 2015-03-02 18:42:31.120 to 2015-03-02 18:43:32.120\n"
     ]
    },
    {
     "data": {
      "text/html": [
       "<text style=color:blue>Executing RB.A45 query function find_source_timestamp_qds: 6/45.</text>"
      ],
      "text/plain": [
       "<IPython.core.display.HTML object>"
      ]
     },
     "metadata": {},
     "output_type": "display_data"
    },
    {
     "name": "stdout",
     "output_type": "stream",
     "text": [
      "\tQuerying PM event timestamps for system: QPS, className: DQAMCNMB_PMSTD, source: * from 2015-03-02 18:41:42.120 to 2015-03-02 18:50:52.120\n"
     ]
    },
    {
     "data": {
      "text/html": [
       "<text style=color:blue>Executing RB.A45 query function find_source_timestamp_ee: 1/45.</text>"
      ],
      "text/plain": [
       "<IPython.core.display.HTML object>"
      ]
     },
     "metadata": {},
     "output_type": "display_data"
    },
    {
     "name": "stdout",
     "output_type": "stream",
     "text": [
      "\tQuerying PM event timestamps for system: QPS, className: DQAMSNRB, source: UA47.RB.A45 from 2015-03-09 20:54:21.480 to 2015-03-09 21:11:11.480\n"
     ]
    },
    {
     "data": {
      "text/html": [
       "<text style=color:blue>Executing RB.A45 query function query_ee_u_dump_res_pm: 2/45.</text>"
      ],
      "text/plain": [
       "<IPython.core.display.HTML object>"
      ]
     },
     "metadata": {},
     "output_type": "display_data"
    },
    {
     "name": "stdout",
     "output_type": "stream",
     "text": [
      "\tQuerying PM event signal(s) UA47.RB.A45:U_DUMP_RES for system: QPS, className: DQAMSNRB, source: UA47.RB.A45 at 2015-03-09 20:54:32.049\n"
     ]
    },
    {
     "data": {
      "text/html": [
       "<text style=color:blue>Executing RB.A45 query function find_source_timestamp_ee: 3/45.</text>"
      ],
      "text/plain": [
       "<IPython.core.display.HTML object>"
      ]
     },
     "metadata": {},
     "output_type": "display_data"
    },
    {
     "name": "stdout",
     "output_type": "stream",
     "text": [
      "\tQuerying PM event timestamps for system: QPS, className: DQAMSNRB, source: RR53.RB.A45 from 2015-03-09 20:54:21.480 to 2015-03-09 21:11:11.480\n"
     ]
    },
    {
     "data": {
      "text/html": [
       "<text style=color:blue>Executing RB.A45 query function query_ee_u_dump_res_pm: 4/45.</text>"
      ],
      "text/plain": [
       "<IPython.core.display.HTML object>"
      ]
     },
     "metadata": {},
     "output_type": "display_data"
    },
    {
     "name": "stdout",
     "output_type": "stream",
     "text": [
      "\tQuerying PM event signal(s) RR53.RB.A45:U_DUMP_RES for system: QPS, className: DQAMSNRB, source: RR53.RB.A45 at 2015-03-09 20:54:31.792\n"
     ]
    },
    {
     "data": {
      "text/html": [
       "<text style=color:blue>Executing RB.A45 query function find_timestamp_pic: 5/45.</text>"
      ],
      "text/plain": [
       "<IPython.core.display.HTML object>"
      ]
     },
     "metadata": {},
     "output_type": "display_data"
    },
    {
     "name": "stdout",
     "output_type": "stream",
     "text": [
      "\tQuerying NXCALS signal(s) RB.A45.ODD:ST_ABORT_PIC, RB.A45.EVEN:ST_ABORT_PIC from 2015-03-09 20:54:30.480 to 2015-03-09 20:55:31.480\n"
     ]
    },
    {
     "data": {
      "text/html": [
       "<text style=color:blue>Executing RB.A45 query function find_source_timestamp_qds: 6/45.</text>"
      ],
      "text/plain": [
       "<IPython.core.display.HTML object>"
      ]
     },
     "metadata": {},
     "output_type": "display_data"
    },
    {
     "name": "stdout",
     "output_type": "stream",
     "text": [
      "\tQuerying PM event timestamps for system: QPS, className: DQAMCNMB_PMSTD, source: * from 2015-03-09 20:53:41.480 to 2015-03-09 21:02:51.480\n"
     ]
    },
    {
     "data": {
      "text/html": [
       "<text style=color:blue>Executing RB.A45 query function find_source_timestamp_ee: 1/45.</text>"
      ],
      "text/plain": [
       "<IPython.core.display.HTML object>"
      ]
     },
     "metadata": {},
     "output_type": "display_data"
    },
    {
     "name": "stdout",
     "output_type": "stream",
     "text": [
      "\tQuerying PM event timestamps for system: QPS, className: DQAMSNRB, source: UA47.RB.A45 from 2015-03-10 06:43:38.080 to 2015-03-10 07:00:28.080\n"
     ]
    },
    {
     "data": {
      "text/html": [
       "<text style=color:blue>Executing RB.A45 query function query_ee_u_dump_res_pm: 2/45.</text>"
      ],
      "text/plain": [
       "<IPython.core.display.HTML object>"
      ]
     },
     "metadata": {},
     "output_type": "display_data"
    },
    {
     "name": "stdout",
     "output_type": "stream",
     "text": [
      "\tQuerying PM event signal(s) UA47.RB.A45:U_DUMP_RES for system: QPS, className: DQAMSNRB, source: UA47.RB.A45 at 2015-03-10 06:43:48.646\n"
     ]
    },
    {
     "data": {
      "text/html": [
       "<text style=color:blue>Executing RB.A45 query function find_source_timestamp_ee: 3/45.</text>"
      ],
      "text/plain": [
       "<IPython.core.display.HTML object>"
      ]
     },
     "metadata": {},
     "output_type": "display_data"
    },
    {
     "name": "stdout",
     "output_type": "stream",
     "text": [
      "\tQuerying PM event timestamps for system: QPS, className: DQAMSNRB, source: RR53.RB.A45 from 2015-03-10 06:43:38.080 to 2015-03-10 07:00:28.080\n"
     ]
    },
    {
     "data": {
      "text/html": [
       "<text style=color:blue>Executing RB.A45 query function query_ee_u_dump_res_pm: 4/45.</text>"
      ],
      "text/plain": [
       "<IPython.core.display.HTML object>"
      ]
     },
     "metadata": {},
     "output_type": "display_data"
    },
    {
     "name": "stdout",
     "output_type": "stream",
     "text": [
      "\tQuerying PM event signal(s) RR53.RB.A45:U_DUMP_RES for system: QPS, className: DQAMSNRB, source: RR53.RB.A45 at 2015-03-10 06:43:48.387\n"
     ]
    },
    {
     "data": {
      "text/html": [
       "<text style=color:blue>Executing RB.A45 query function find_timestamp_pic: 5/45.</text>"
      ],
      "text/plain": [
       "<IPython.core.display.HTML object>"
      ]
     },
     "metadata": {},
     "output_type": "display_data"
    },
    {
     "name": "stdout",
     "output_type": "stream",
     "text": [
      "\tQuerying NXCALS signal(s) RB.A45.ODD:ST_ABORT_PIC, RB.A45.EVEN:ST_ABORT_PIC from 2015-03-10 06:43:47.080 to 2015-03-10 06:44:48.080\n"
     ]
    },
    {
     "data": {
      "text/html": [
       "<text style=color:blue>Executing RB.A45 query function find_source_timestamp_qds: 6/45.</text>"
      ],
      "text/plain": [
       "<IPython.core.display.HTML object>"
      ]
     },
     "metadata": {},
     "output_type": "display_data"
    },
    {
     "name": "stdout",
     "output_type": "stream",
     "text": [
      "\tQuerying PM event timestamps for system: QPS, className: DQAMCNMB_PMSTD, source: * from 2015-03-10 06:42:58.080 to 2015-03-10 06:52:08.080\n"
     ]
    },
    {
     "data": {
      "text/html": [
       "<text style=color:blue>Executing RB.A45 query function find_source_timestamp_ee: 1/45.</text>"
      ],
      "text/plain": [
       "<IPython.core.display.HTML object>"
      ]
     },
     "metadata": {},
     "output_type": "display_data"
    },
    {
     "name": "stdout",
     "output_type": "stream",
     "text": [
      "\tQuerying PM event timestamps for system: QPS, className: DQAMSNRB, source: UA47.RB.A45 from 2015-03-10 21:05:29.080 to 2015-03-10 21:22:19.080\n"
     ]
    },
    {
     "data": {
      "text/html": [
       "<text style=color:blue>Executing RB.A45 query function query_ee_u_dump_res_pm: 2/45.</text>"
      ],
      "text/plain": [
       "<IPython.core.display.HTML object>"
      ]
     },
     "metadata": {},
     "output_type": "display_data"
    },
    {
     "name": "stdout",
     "output_type": "stream",
     "text": [
      "\tQuerying PM event signal(s) UA47.RB.A45:U_DUMP_RES for system: QPS, className: DQAMSNRB, source: UA47.RB.A45 at 2015-03-10 21:05:39.643\n"
     ]
    },
    {
     "data": {
      "text/html": [
       "<text style=color:blue>Executing RB.A45 query function find_source_timestamp_ee: 3/45.</text>"
      ],
      "text/plain": [
       "<IPython.core.display.HTML object>"
      ]
     },
     "metadata": {},
     "output_type": "display_data"
    },
    {
     "name": "stdout",
     "output_type": "stream",
     "text": [
      "\tQuerying PM event timestamps for system: QPS, className: DQAMSNRB, source: RR53.RB.A45 from 2015-03-10 21:05:29.080 to 2015-03-10 21:22:19.080\n"
     ]
    },
    {
     "data": {
      "text/html": [
       "<text style=color:blue>Executing RB.A45 query function query_ee_u_dump_res_pm: 4/45.</text>"
      ],
      "text/plain": [
       "<IPython.core.display.HTML object>"
      ]
     },
     "metadata": {},
     "output_type": "display_data"
    },
    {
     "name": "stdout",
     "output_type": "stream",
     "text": [
      "\tQuerying PM event signal(s) RR53.RB.A45:U_DUMP_RES for system: QPS, className: DQAMSNRB, source: RR53.RB.A45 at 2015-03-10 21:05:39.384\n"
     ]
    },
    {
     "data": {
      "text/html": [
       "<text style=color:blue>Executing RB.A45 query function find_timestamp_pic: 5/45.</text>"
      ],
      "text/plain": [
       "<IPython.core.display.HTML object>"
      ]
     },
     "metadata": {},
     "output_type": "display_data"
    },
    {
     "name": "stdout",
     "output_type": "stream",
     "text": [
      "\tQuerying NXCALS signal(s) RB.A45.ODD:ST_ABORT_PIC, RB.A45.EVEN:ST_ABORT_PIC from 2015-03-10 21:05:38.080 to 2015-03-10 21:06:39.080\n"
     ]
    },
    {
     "data": {
      "text/html": [
       "<text style=color:blue>Executing RB.A45 query function find_source_timestamp_qds: 6/45.</text>"
      ],
      "text/plain": [
       "<IPython.core.display.HTML object>"
      ]
     },
     "metadata": {},
     "output_type": "display_data"
    },
    {
     "name": "stdout",
     "output_type": "stream",
     "text": [
      "\tQuerying PM event timestamps for system: QPS, className: DQAMCNMB_PMSTD, source: * from 2015-03-10 21:04:49.080 to 2015-03-10 21:13:59.080\n"
     ]
    },
    {
     "data": {
      "text/html": [
       "<text style=color:blue>Executing RB.A45 query function find_source_timestamp_ee: 1/45.</text>"
      ],
      "text/plain": [
       "<IPython.core.display.HTML object>"
      ]
     },
     "metadata": {},
     "output_type": "display_data"
    },
    {
     "name": "stdout",
     "output_type": "stream",
     "text": [
      "\tQuerying PM event timestamps for system: QPS, className: DQAMSNRB, source: UA47.RB.A45 from 2015-03-11 09:04:01.120 to 2015-03-11 09:20:51.120\n"
     ]
    },
    {
     "data": {
      "text/html": [
       "<text style=color:blue>Executing RB.A45 query function query_ee_u_dump_res_pm: 2/45.</text>"
      ],
      "text/plain": [
       "<IPython.core.display.HTML object>"
      ]
     },
     "metadata": {},
     "output_type": "display_data"
    },
    {
     "name": "stdout",
     "output_type": "stream",
     "text": [
      "\tQuerying PM event signal(s) UA47.RB.A45:U_DUMP_RES for system: QPS, className: DQAMSNRB, source: UA47.RB.A45 at 2015-03-11 09:04:11.690\n"
     ]
    },
    {
     "data": {
      "text/html": [
       "<text style=color:blue>Executing RB.A45 query function find_source_timestamp_ee: 3/45.</text>"
      ],
      "text/plain": [
       "<IPython.core.display.HTML object>"
      ]
     },
     "metadata": {},
     "output_type": "display_data"
    },
    {
     "name": "stdout",
     "output_type": "stream",
     "text": [
      "\tQuerying PM event timestamps for system: QPS, className: DQAMSNRB, source: RR53.RB.A45 from 2015-03-11 09:04:01.120 to 2015-03-11 09:20:51.120\n"
     ]
    },
    {
     "data": {
      "text/html": [
       "<text style=color:blue>Executing RB.A45 query function query_ee_u_dump_res_pm: 4/45.</text>"
      ],
      "text/plain": [
       "<IPython.core.display.HTML object>"
      ]
     },
     "metadata": {},
     "output_type": "display_data"
    },
    {
     "name": "stdout",
     "output_type": "stream",
     "text": [
      "\tQuerying PM event signal(s) RR53.RB.A45:U_DUMP_RES for system: QPS, className: DQAMSNRB, source: RR53.RB.A45 at 2015-03-11 09:04:11.428\n"
     ]
    },
    {
     "data": {
      "text/html": [
       "<text style=color:blue>Executing RB.A45 query function find_timestamp_pic: 5/45.</text>"
      ],
      "text/plain": [
       "<IPython.core.display.HTML object>"
      ]
     },
     "metadata": {},
     "output_type": "display_data"
    },
    {
     "name": "stdout",
     "output_type": "stream",
     "text": [
      "\tQuerying NXCALS signal(s) RB.A45.ODD:ST_ABORT_PIC, RB.A45.EVEN:ST_ABORT_PIC from 2015-03-11 09:04:10.120 to 2015-03-11 09:05:11.120\n"
     ]
    },
    {
     "data": {
      "text/html": [
       "<text style=color:blue>Executing RB.A45 query function find_source_timestamp_qds: 6/45.</text>"
      ],
      "text/plain": [
       "<IPython.core.display.HTML object>"
      ]
     },
     "metadata": {},
     "output_type": "display_data"
    },
    {
     "name": "stdout",
     "output_type": "stream",
     "text": [
      "\tQuerying PM event timestamps for system: QPS, className: DQAMCNMB_PMSTD, source: * from 2015-03-11 09:03:21.120 to 2015-03-11 09:12:31.120\n"
     ]
    },
    {
     "data": {
      "text/html": [
       "<text style=color:blue>Executing RB.A45 query function find_source_timestamp_ee: 1/45.</text>"
      ],
      "text/plain": [
       "<IPython.core.display.HTML object>"
      ]
     },
     "metadata": {},
     "output_type": "display_data"
    },
    {
     "name": "stdout",
     "output_type": "stream",
     "text": [
      "\tQuerying PM event timestamps for system: QPS, className: DQAMSNRB, source: UA47.RB.A45 from 2015-03-11 22:13:00.040 to 2015-03-11 22:29:50.040\n"
     ]
    },
    {
     "data": {
      "text/html": [
       "<text style=color:blue>Executing RB.A45 query function query_ee_u_dump_res_pm: 2/45.</text>"
      ],
      "text/plain": [
       "<IPython.core.display.HTML object>"
      ]
     },
     "metadata": {},
     "output_type": "display_data"
    },
    {
     "name": "stdout",
     "output_type": "stream",
     "text": [
      "\tQuerying PM event signal(s) UA47.RB.A45:U_DUMP_RES for system: QPS, className: DQAMSNRB, source: UA47.RB.A45 at 2015-03-11 22:13:10.599\n"
     ]
    },
    {
     "data": {
      "text/html": [
       "<text style=color:blue>Executing RB.A45 query function find_source_timestamp_ee: 3/45.</text>"
      ],
      "text/plain": [
       "<IPython.core.display.HTML object>"
      ]
     },
     "metadata": {},
     "output_type": "display_data"
    },
    {
     "name": "stdout",
     "output_type": "stream",
     "text": [
      "\tQuerying PM event timestamps for system: QPS, className: DQAMSNRB, source: RR53.RB.A45 from 2015-03-11 22:13:00.040 to 2015-03-11 22:29:50.040\n"
     ]
    },
    {
     "data": {
      "text/html": [
       "<text style=color:blue>Executing RB.A45 query function query_ee_u_dump_res_pm: 4/45.</text>"
      ],
      "text/plain": [
       "<IPython.core.display.HTML object>"
      ]
     },
     "metadata": {},
     "output_type": "display_data"
    },
    {
     "name": "stdout",
     "output_type": "stream",
     "text": [
      "\tQuerying PM event signal(s) RR53.RB.A45:U_DUMP_RES for system: QPS, className: DQAMSNRB, source: RR53.RB.A45 at 2015-03-11 22:13:10.338\n"
     ]
    },
    {
     "data": {
      "text/html": [
       "<text style=color:blue>Executing RB.A45 query function find_timestamp_pic: 5/45.</text>"
      ],
      "text/plain": [
       "<IPython.core.display.HTML object>"
      ]
     },
     "metadata": {},
     "output_type": "display_data"
    },
    {
     "name": "stdout",
     "output_type": "stream",
     "text": [
      "\tQuerying NXCALS signal(s) RB.A45.ODD:ST_ABORT_PIC, RB.A45.EVEN:ST_ABORT_PIC from 2015-03-11 22:13:09.040 to 2015-03-11 22:14:10.040\n"
     ]
    },
    {
     "data": {
      "text/html": [
       "<text style=color:blue>Executing RB.A45 query function find_source_timestamp_qds: 6/45.</text>"
      ],
      "text/plain": [
       "<IPython.core.display.HTML object>"
      ]
     },
     "metadata": {},
     "output_type": "display_data"
    },
    {
     "name": "stdout",
     "output_type": "stream",
     "text": [
      "\tQuerying PM event timestamps for system: QPS, className: DQAMCNMB_PMSTD, source: * from 2015-03-11 22:12:20.040 to 2015-03-11 22:21:30.040\n"
     ]
    },
    {
     "data": {
      "text/html": [
       "<text style=color:blue>Executing RB.A45 query function find_source_timestamp_ee: 1/45.</text>"
      ],
      "text/plain": [
       "<IPython.core.display.HTML object>"
      ]
     },
     "metadata": {},
     "output_type": "display_data"
    },
    {
     "name": "stdout",
     "output_type": "stream",
     "text": [
      "\tQuerying PM event timestamps for system: QPS, className: DQAMSNRB, source: UA47.RB.A45 from 2015-03-12 07:45:24.640 to 2015-03-12 08:02:14.640\n"
     ]
    },
    {
     "data": {
      "text/html": [
       "<text style=color:blue>Executing RB.A45 query function query_ee_u_dump_res_pm: 2/45.</text>"
      ],
      "text/plain": [
       "<IPython.core.display.HTML object>"
      ]
     },
     "metadata": {},
     "output_type": "display_data"
    },
    {
     "name": "stdout",
     "output_type": "stream",
     "text": [
      "\tQuerying PM event signal(s) UA47.RB.A45:U_DUMP_RES for system: QPS, className: DQAMSNRB, source: UA47.RB.A45 at 2015-03-12 07:45:35.211\n"
     ]
    },
    {
     "data": {
      "text/html": [
       "<text style=color:blue>Executing RB.A45 query function find_source_timestamp_ee: 3/45.</text>"
      ],
      "text/plain": [
       "<IPython.core.display.HTML object>"
      ]
     },
     "metadata": {},
     "output_type": "display_data"
    },
    {
     "name": "stdout",
     "output_type": "stream",
     "text": [
      "\tQuerying PM event timestamps for system: QPS, className: DQAMSNRB, source: RR53.RB.A45 from 2015-03-12 07:45:24.640 to 2015-03-12 08:02:14.640\n"
     ]
    },
    {
     "data": {
      "text/html": [
       "<text style=color:blue>Executing RB.A45 query function query_ee_u_dump_res_pm: 4/45.</text>"
      ],
      "text/plain": [
       "<IPython.core.display.HTML object>"
      ]
     },
     "metadata": {},
     "output_type": "display_data"
    },
    {
     "name": "stdout",
     "output_type": "stream",
     "text": [
      "\tQuerying PM event signal(s) RR53.RB.A45:U_DUMP_RES for system: QPS, className: DQAMSNRB, source: RR53.RB.A45 at 2015-03-12 07:45:34.951\n"
     ]
    },
    {
     "data": {
      "text/html": [
       "<text style=color:blue>Executing RB.A45 query function find_timestamp_pic: 5/45.</text>"
      ],
      "text/plain": [
       "<IPython.core.display.HTML object>"
      ]
     },
     "metadata": {},
     "output_type": "display_data"
    },
    {
     "name": "stdout",
     "output_type": "stream",
     "text": [
      "\tQuerying NXCALS signal(s) RB.A45.ODD:ST_ABORT_PIC, RB.A45.EVEN:ST_ABORT_PIC from 2015-03-12 07:45:33.640 to 2015-03-12 07:46:34.640\n"
     ]
    },
    {
     "data": {
      "text/html": [
       "<text style=color:blue>Executing RB.A45 query function find_source_timestamp_qds: 6/45.</text>"
      ],
      "text/plain": [
       "<IPython.core.display.HTML object>"
      ]
     },
     "metadata": {},
     "output_type": "display_data"
    },
    {
     "name": "stdout",
     "output_type": "stream",
     "text": [
      "\tQuerying PM event timestamps for system: QPS, className: DQAMCNMB_PMSTD, source: * from 2015-03-12 07:44:44.640 to 2015-03-12 07:53:54.640\n"
     ]
    },
    {
     "data": {
      "text/html": [
       "<text style=color:blue>Executing RB.A45 query function find_source_timestamp_ee: 1/45.</text>"
      ],
      "text/plain": [
       "<IPython.core.display.HTML object>"
      ]
     },
     "metadata": {},
     "output_type": "display_data"
    },
    {
     "name": "stdout",
     "output_type": "stream",
     "text": [
      "\tQuerying PM event timestamps for system: QPS, className: DQAMSNRB, source: UA47.RB.A45 from 2015-03-12 21:11:33.680 to 2015-03-12 21:28:23.680\n"
     ]
    },
    {
     "data": {
      "text/html": [
       "<text style=color:blue>Executing RB.A45 query function query_ee_u_dump_res_pm: 2/45.</text>"
      ],
      "text/plain": [
       "<IPython.core.display.HTML object>"
      ]
     },
     "metadata": {},
     "output_type": "display_data"
    },
    {
     "name": "stdout",
     "output_type": "stream",
     "text": [
      "\tQuerying PM event signal(s) UA47.RB.A45:U_DUMP_RES for system: QPS, className: DQAMSNRB, source: UA47.RB.A45 at 2015-03-12 21:11:44.250\n"
     ]
    },
    {
     "data": {
      "text/html": [
       "<text style=color:blue>Executing RB.A45 query function find_source_timestamp_ee: 3/45.</text>"
      ],
      "text/plain": [
       "<IPython.core.display.HTML object>"
      ]
     },
     "metadata": {},
     "output_type": "display_data"
    },
    {
     "name": "stdout",
     "output_type": "stream",
     "text": [
      "\tQuerying PM event timestamps for system: QPS, className: DQAMSNRB, source: RR53.RB.A45 from 2015-03-12 21:11:33.680 to 2015-03-12 21:28:23.680\n"
     ]
    },
    {
     "data": {
      "text/html": [
       "<text style=color:blue>Executing RB.A45 query function query_ee_u_dump_res_pm: 4/45.</text>"
      ],
      "text/plain": [
       "<IPython.core.display.HTML object>"
      ]
     },
     "metadata": {},
     "output_type": "display_data"
    },
    {
     "name": "stdout",
     "output_type": "stream",
     "text": [
      "\tQuerying PM event signal(s) RR53.RB.A45:U_DUMP_RES for system: QPS, className: DQAMSNRB, source: RR53.RB.A45 at 2015-03-12 21:11:43.992\n"
     ]
    },
    {
     "data": {
      "text/html": [
       "<text style=color:blue>Executing RB.A45 query function find_timestamp_pic: 5/45.</text>"
      ],
      "text/plain": [
       "<IPython.core.display.HTML object>"
      ]
     },
     "metadata": {},
     "output_type": "display_data"
    },
    {
     "name": "stdout",
     "output_type": "stream",
     "text": [
      "\tQuerying NXCALS signal(s) RB.A45.ODD:ST_ABORT_PIC, RB.A45.EVEN:ST_ABORT_PIC from 2015-03-12 21:11:42.680 to 2015-03-12 21:12:43.680\n"
     ]
    },
    {
     "data": {
      "text/html": [
       "<text style=color:blue>Executing RB.A45 query function find_source_timestamp_qds: 6/45.</text>"
      ],
      "text/plain": [
       "<IPython.core.display.HTML object>"
      ]
     },
     "metadata": {},
     "output_type": "display_data"
    },
    {
     "name": "stdout",
     "output_type": "stream",
     "text": [
      "\tQuerying PM event timestamps for system: QPS, className: DQAMCNMB_PMSTD, source: * from 2015-03-12 21:10:53.680 to 2015-03-12 21:20:03.680\n"
     ]
    },
    {
     "data": {
      "text/html": [
       "<text style=color:blue>Executing RB.A45 query function find_source_timestamp_ee: 1/45.</text>"
      ],
      "text/plain": [
       "<IPython.core.display.HTML object>"
      ]
     },
     "metadata": {},
     "output_type": "display_data"
    },
    {
     "name": "stdout",
     "output_type": "stream",
     "text": [
      "\tQuerying PM event timestamps for system: QPS, className: DQAMSNRB, source: UA47.RB.A45 from 2015-03-13 05:20:59.520 to 2015-03-13 05:37:49.520\n"
     ]
    },
    {
     "data": {
      "text/html": [
       "<text style=color:blue>Executing RB.A45 query function query_ee_u_dump_res_pm: 2/45.</text>"
      ],
      "text/plain": [
       "<IPython.core.display.HTML object>"
      ]
     },
     "metadata": {},
     "output_type": "display_data"
    },
    {
     "name": "stdout",
     "output_type": "stream",
     "text": [
      "\tQuerying PM event signal(s) UA47.RB.A45:U_DUMP_RES for system: QPS, className: DQAMSNRB, source: UA47.RB.A45 at 2015-03-13 05:21:10.095\n"
     ]
    },
    {
     "data": {
      "text/html": [
       "<text style=color:blue>Executing RB.A45 query function find_source_timestamp_ee: 3/45.</text>"
      ],
      "text/plain": [
       "<IPython.core.display.HTML object>"
      ]
     },
     "metadata": {},
     "output_type": "display_data"
    },
    {
     "name": "stdout",
     "output_type": "stream",
     "text": [
      "\tQuerying PM event timestamps for system: QPS, className: DQAMSNRB, source: RR53.RB.A45 from 2015-03-13 05:20:59.520 to 2015-03-13 05:37:49.520\n"
     ]
    },
    {
     "data": {
      "text/html": [
       "<text style=color:blue>Executing RB.A45 query function query_ee_u_dump_res_pm: 4/45.</text>"
      ],
      "text/plain": [
       "<IPython.core.display.HTML object>"
      ]
     },
     "metadata": {},
     "output_type": "display_data"
    },
    {
     "name": "stdout",
     "output_type": "stream",
     "text": [
      "\tQuerying PM event signal(s) RR53.RB.A45:U_DUMP_RES for system: QPS, className: DQAMSNRB, source: RR53.RB.A45 at 2015-03-13 05:21:09.832\n"
     ]
    },
    {
     "data": {
      "text/html": [
       "<text style=color:blue>Executing RB.A45 query function find_timestamp_pic: 5/45.</text>"
      ],
      "text/plain": [
       "<IPython.core.display.HTML object>"
      ]
     },
     "metadata": {},
     "output_type": "display_data"
    },
    {
     "name": "stdout",
     "output_type": "stream",
     "text": [
      "\tQuerying NXCALS signal(s) RB.A45.ODD:ST_ABORT_PIC, RB.A45.EVEN:ST_ABORT_PIC from 2015-03-13 05:21:08.520 to 2015-03-13 05:22:09.520\n"
     ]
    },
    {
     "data": {
      "text/html": [
       "<text style=color:blue>Executing RB.A45 query function find_source_timestamp_qds: 6/45.</text>"
      ],
      "text/plain": [
       "<IPython.core.display.HTML object>"
      ]
     },
     "metadata": {},
     "output_type": "display_data"
    },
    {
     "name": "stdout",
     "output_type": "stream",
     "text": [
      "\tQuerying PM event timestamps for system: QPS, className: DQAMCNMB_PMSTD, source: * from 2015-03-13 05:20:19.520 to 2015-03-13 05:29:29.520\n"
     ]
    },
    {
     "data": {
      "text/html": [
       "<text style=color:blue>Executing RB.A45 query function find_source_timestamp_ee: 1/45.</text>"
      ],
      "text/plain": [
       "<IPython.core.display.HTML object>"
      ]
     },
     "metadata": {},
     "output_type": "display_data"
    },
    {
     "name": "stdout",
     "output_type": "stream",
     "text": [
      "\tQuerying PM event timestamps for system: QPS, className: DQAMSNRB, source: UA47.RB.A45 from 2015-03-13 13:54:35.740 to 2015-03-13 14:11:25.740\n"
     ]
    },
    {
     "data": {
      "text/html": [
       "<text style=color:blue>Executing RB.A45 query function query_ee_u_dump_res_pm: 2/45.</text>"
      ],
      "text/plain": [
       "<IPython.core.display.HTML object>"
      ]
     },
     "metadata": {},
     "output_type": "display_data"
    },
    {
     "name": "stdout",
     "output_type": "stream",
     "text": [
      "\tQuerying PM event signal(s) UA47.RB.A45:U_DUMP_RES for system: QPS, className: DQAMSNRB, source: UA47.RB.A45 at 2015-03-13 13:54:46.313\n"
     ]
    },
    {
     "data": {
      "text/html": [
       "<text style=color:blue>Executing RB.A45 query function find_source_timestamp_ee: 3/45.</text>"
      ],
      "text/plain": [
       "<IPython.core.display.HTML object>"
      ]
     },
     "metadata": {},
     "output_type": "display_data"
    },
    {
     "name": "stdout",
     "output_type": "stream",
     "text": [
      "\tQuerying PM event timestamps for system: QPS, className: DQAMSNRB, source: RR53.RB.A45 from 2015-03-13 13:54:35.740 to 2015-03-13 14:11:25.740\n"
     ]
    },
    {
     "data": {
      "text/html": [
       "<text style=color:blue>Executing RB.A45 query function query_ee_u_dump_res_pm: 4/45.</text>"
      ],
      "text/plain": [
       "<IPython.core.display.HTML object>"
      ]
     },
     "metadata": {},
     "output_type": "display_data"
    },
    {
     "name": "stdout",
     "output_type": "stream",
     "text": [
      "\tQuerying PM event signal(s) RR53.RB.A45:U_DUMP_RES for system: QPS, className: DQAMSNRB, source: RR53.RB.A45 at 2015-03-13 13:54:46.053\n"
     ]
    },
    {
     "data": {
      "text/html": [
       "<text style=color:blue>Executing RB.A45 query function find_timestamp_pic: 5/45.</text>"
      ],
      "text/plain": [
       "<IPython.core.display.HTML object>"
      ]
     },
     "metadata": {},
     "output_type": "display_data"
    },
    {
     "name": "stdout",
     "output_type": "stream",
     "text": [
      "\tQuerying NXCALS signal(s) RB.A45.ODD:ST_ABORT_PIC, RB.A45.EVEN:ST_ABORT_PIC from 2015-03-13 13:54:44.740 to 2015-03-13 13:55:45.740\n"
     ]
    },
    {
     "data": {
      "text/html": [
       "<text style=color:blue>Executing RB.A45 query function find_source_timestamp_qds: 6/45.</text>"
      ],
      "text/plain": [
       "<IPython.core.display.HTML object>"
      ]
     },
     "metadata": {},
     "output_type": "display_data"
    },
    {
     "name": "stdout",
     "output_type": "stream",
     "text": [
      "\tQuerying PM event timestamps for system: QPS, className: DQAMCNMB_PMSTD, source: * from 2015-03-13 13:53:55.740 to 2015-03-13 14:03:05.740\n"
     ]
    },
    {
     "data": {
      "text/html": [
       "<text style=color:blue>Executing RB.A45 query function find_source_timestamp_ee: 1/45.</text>"
      ],
      "text/plain": [
       "<IPython.core.display.HTML object>"
      ]
     },
     "metadata": {},
     "output_type": "display_data"
    },
    {
     "name": "stdout",
     "output_type": "stream",
     "text": [
      "\tQuerying PM event timestamps for system: QPS, className: DQAMSNRB, source: UA47.RB.A45 from 2015-03-13 21:13:36.400 to 2015-03-13 21:30:26.400\n"
     ]
    },
    {
     "data": {
      "text/html": [
       "<text style=color:blue>Executing RB.A45 query function query_ee_u_dump_res_pm: 2/45.</text>"
      ],
      "text/plain": [
       "<IPython.core.display.HTML object>"
      ]
     },
     "metadata": {},
     "output_type": "display_data"
    },
    {
     "name": "stdout",
     "output_type": "stream",
     "text": [
      "\tQuerying PM event signal(s) UA47.RB.A45:U_DUMP_RES for system: QPS, className: DQAMSNRB, source: UA47.RB.A45 at 2015-03-13 21:13:46.962\n"
     ]
    },
    {
     "data": {
      "text/html": [
       "<text style=color:blue>Executing RB.A45 query function find_source_timestamp_ee: 3/45.</text>"
      ],
      "text/plain": [
       "<IPython.core.display.HTML object>"
      ]
     },
     "metadata": {},
     "output_type": "display_data"
    },
    {
     "name": "stdout",
     "output_type": "stream",
     "text": [
      "\tQuerying PM event timestamps for system: QPS, className: DQAMSNRB, source: RR53.RB.A45 from 2015-03-13 21:13:36.400 to 2015-03-13 21:30:26.400\n"
     ]
    },
    {
     "data": {
      "text/html": [
       "<text style=color:blue>Executing RB.A45 query function query_ee_u_dump_res_pm: 4/45.</text>"
      ],
      "text/plain": [
       "<IPython.core.display.HTML object>"
      ]
     },
     "metadata": {},
     "output_type": "display_data"
    },
    {
     "name": "stdout",
     "output_type": "stream",
     "text": [
      "\tQuerying PM event signal(s) RR53.RB.A45:U_DUMP_RES for system: QPS, className: DQAMSNRB, source: RR53.RB.A45 at 2015-03-13 21:13:46.702\n"
     ]
    },
    {
     "data": {
      "text/html": [
       "<text style=color:blue>Executing RB.A45 query function find_timestamp_pic: 5/45.</text>"
      ],
      "text/plain": [
       "<IPython.core.display.HTML object>"
      ]
     },
     "metadata": {},
     "output_type": "display_data"
    },
    {
     "name": "stdout",
     "output_type": "stream",
     "text": [
      "\tQuerying NXCALS signal(s) RB.A45.ODD:ST_ABORT_PIC, RB.A45.EVEN:ST_ABORT_PIC from 2015-03-13 21:13:45.400 to 2015-03-13 21:14:46.400\n"
     ]
    },
    {
     "data": {
      "text/html": [
       "<text style=color:blue>Executing RB.A45 query function find_source_timestamp_qds: 6/45.</text>"
      ],
      "text/plain": [
       "<IPython.core.display.HTML object>"
      ]
     },
     "metadata": {},
     "output_type": "display_data"
    },
    {
     "name": "stdout",
     "output_type": "stream",
     "text": [
      "\tQuerying PM event timestamps for system: QPS, className: DQAMCNMB_PMSTD, source: * from 2015-03-13 21:12:56.400 to 2015-03-13 21:22:06.400\n"
     ]
    },
    {
     "data": {
      "text/html": [
       "<text style=color:blue>Executing RB.A45 query function find_source_timestamp_ee: 1/45.</text>"
      ],
      "text/plain": [
       "<IPython.core.display.HTML object>"
      ]
     },
     "metadata": {},
     "output_type": "display_data"
    },
    {
     "name": "stdout",
     "output_type": "stream",
     "text": [
      "\tQuerying PM event timestamps for system: QPS, className: DQAMSNRB, source: UA47.RB.A45 from 2015-03-14 06:45:24.980 to 2015-03-14 07:02:14.980\n"
     ]
    },
    {
     "data": {
      "text/html": [
       "<text style=color:blue>Executing RB.A45 query function query_ee_u_dump_res_pm: 2/45.</text>"
      ],
      "text/plain": [
       "<IPython.core.display.HTML object>"
      ]
     },
     "metadata": {},
     "output_type": "display_data"
    },
    {
     "name": "stdout",
     "output_type": "stream",
     "text": [
      "\tQuerying PM event signal(s) UA47.RB.A45:U_DUMP_RES for system: QPS, className: DQAMSNRB, source: UA47.RB.A45 at 2015-03-14 06:45:35.545\n"
     ]
    },
    {
     "data": {
      "text/html": [
       "<text style=color:blue>Executing RB.A45 query function find_source_timestamp_ee: 3/45.</text>"
      ],
      "text/plain": [
       "<IPython.core.display.HTML object>"
      ]
     },
     "metadata": {},
     "output_type": "display_data"
    },
    {
     "name": "stdout",
     "output_type": "stream",
     "text": [
      "\tQuerying PM event timestamps for system: QPS, className: DQAMSNRB, source: RR53.RB.A45 from 2015-03-14 06:45:24.980 to 2015-03-14 07:02:14.980\n"
     ]
    },
    {
     "data": {
      "text/html": [
       "<text style=color:blue>Executing RB.A45 query function query_ee_u_dump_res_pm: 4/45.</text>"
      ],
      "text/plain": [
       "<IPython.core.display.HTML object>"
      ]
     },
     "metadata": {},
     "output_type": "display_data"
    },
    {
     "name": "stdout",
     "output_type": "stream",
     "text": [
      "\tQuerying PM event signal(s) RR53.RB.A45:U_DUMP_RES for system: QPS, className: DQAMSNRB, source: RR53.RB.A45 at 2015-03-14 06:45:35.282\n"
     ]
    },
    {
     "data": {
      "text/html": [
       "<text style=color:blue>Executing RB.A45 query function find_timestamp_pic: 5/45.</text>"
      ],
      "text/plain": [
       "<IPython.core.display.HTML object>"
      ]
     },
     "metadata": {},
     "output_type": "display_data"
    },
    {
     "name": "stdout",
     "output_type": "stream",
     "text": [
      "\tQuerying NXCALS signal(s) RB.A45.ODD:ST_ABORT_PIC, RB.A45.EVEN:ST_ABORT_PIC from 2015-03-14 06:45:33.980 to 2015-03-14 06:46:34.980\n"
     ]
    },
    {
     "data": {
      "text/html": [
       "<text style=color:blue>Executing RB.A45 query function find_source_timestamp_qds: 6/45.</text>"
      ],
      "text/plain": [
       "<IPython.core.display.HTML object>"
      ]
     },
     "metadata": {},
     "output_type": "display_data"
    },
    {
     "name": "stdout",
     "output_type": "stream",
     "text": [
      "\tQuerying PM event timestamps for system: QPS, className: DQAMCNMB_PMSTD, source: * from 2015-03-14 06:44:44.980 to 2015-03-14 06:53:54.980\n"
     ]
    },
    {
     "data": {
      "text/html": [
       "<text style=color:blue>Executing RB.A45 query function find_source_timestamp_ee: 1/45.</text>"
      ],
      "text/plain": [
       "<IPython.core.display.HTML object>"
      ]
     },
     "metadata": {},
     "output_type": "display_data"
    },
    {
     "name": "stdout",
     "output_type": "stream",
     "text": [
      "\tQuerying PM event timestamps for system: QPS, className: DQAMSNRB, source: UA47.RB.A45 from 2015-03-14 13:39:33.420 to 2015-03-14 13:56:23.420\n"
     ]
    },
    {
     "data": {
      "text/html": [
       "<text style=color:blue>Executing RB.A45 query function query_ee_u_dump_res_pm: 2/45.</text>"
      ],
      "text/plain": [
       "<IPython.core.display.HTML object>"
      ]
     },
     "metadata": {},
     "output_type": "display_data"
    },
    {
     "name": "stdout",
     "output_type": "stream",
     "text": [
      "\tQuerying PM event signal(s) UA47.RB.A45:U_DUMP_RES for system: QPS, className: DQAMSNRB, source: UA47.RB.A45 at 2015-03-14 13:39:43.987\n"
     ]
    },
    {
     "data": {
      "text/html": [
       "<text style=color:blue>Executing RB.A45 query function find_source_timestamp_ee: 3/45.</text>"
      ],
      "text/plain": [
       "<IPython.core.display.HTML object>"
      ]
     },
     "metadata": {},
     "output_type": "display_data"
    },
    {
     "name": "stdout",
     "output_type": "stream",
     "text": [
      "\tQuerying PM event timestamps for system: QPS, className: DQAMSNRB, source: RR53.RB.A45 from 2015-03-14 13:39:33.420 to 2015-03-14 13:56:23.420\n"
     ]
    },
    {
     "data": {
      "text/html": [
       "<text style=color:blue>Executing RB.A45 query function query_ee_u_dump_res_pm: 4/45.</text>"
      ],
      "text/plain": [
       "<IPython.core.display.HTML object>"
      ]
     },
     "metadata": {},
     "output_type": "display_data"
    },
    {
     "name": "stdout",
     "output_type": "stream",
     "text": [
      "\tQuerying PM event signal(s) RR53.RB.A45:U_DUMP_RES for system: QPS, className: DQAMSNRB, source: RR53.RB.A45 at 2015-03-14 13:39:43.726\n"
     ]
    },
    {
     "data": {
      "text/html": [
       "<text style=color:blue>Executing RB.A45 query function find_timestamp_pic: 5/45.</text>"
      ],
      "text/plain": [
       "<IPython.core.display.HTML object>"
      ]
     },
     "metadata": {},
     "output_type": "display_data"
    },
    {
     "name": "stdout",
     "output_type": "stream",
     "text": [
      "\tQuerying NXCALS signal(s) RB.A45.ODD:ST_ABORT_PIC, RB.A45.EVEN:ST_ABORT_PIC from 2015-03-14 13:39:42.420 to 2015-03-14 13:40:43.420\n"
     ]
    },
    {
     "data": {
      "text/html": [
       "<text style=color:blue>Executing RB.A45 query function find_source_timestamp_qds: 6/45.</text>"
      ],
      "text/plain": [
       "<IPython.core.display.HTML object>"
      ]
     },
     "metadata": {},
     "output_type": "display_data"
    },
    {
     "name": "stdout",
     "output_type": "stream",
     "text": [
      "\tQuerying PM event timestamps for system: QPS, className: DQAMCNMB_PMSTD, source: * from 2015-03-14 13:38:53.420 to 2015-03-14 13:48:03.420\n"
     ]
    },
    {
     "data": {
      "text/html": [
       "<text style=color:blue>Executing RB.A45 query function find_source_timestamp_ee: 1/45.</text>"
      ],
      "text/plain": [
       "<IPython.core.display.HTML object>"
      ]
     },
     "metadata": {},
     "output_type": "display_data"
    },
    {
     "name": "stdout",
     "output_type": "stream",
     "text": [
      "\tQuerying PM event timestamps for system: QPS, className: DQAMSNRB, source: UA47.RB.A45 from 2015-03-15 01:01:36.320 to 2015-03-15 01:18:26.320\n"
     ]
    },
    {
     "data": {
      "text/html": [
       "<text style=color:blue>Executing RB.A45 query function query_ee_u_dump_res_pm: 2/45.</text>"
      ],
      "text/plain": [
       "<IPython.core.display.HTML object>"
      ]
     },
     "metadata": {},
     "output_type": "display_data"
    },
    {
     "name": "stdout",
     "output_type": "stream",
     "text": [
      "\tQuerying PM event signal(s) UA47.RB.A45:U_DUMP_RES for system: QPS, className: DQAMSNRB, source: UA47.RB.A45 at 2015-03-15 01:01:46.875\n"
     ]
    },
    {
     "data": {
      "text/html": [
       "<text style=color:blue>Executing RB.A45 query function find_source_timestamp_ee: 3/45.</text>"
      ],
      "text/plain": [
       "<IPython.core.display.HTML object>"
      ]
     },
     "metadata": {},
     "output_type": "display_data"
    },
    {
     "name": "stdout",
     "output_type": "stream",
     "text": [
      "\tQuerying PM event timestamps for system: QPS, className: DQAMSNRB, source: RR53.RB.A45 from 2015-03-15 01:01:36.320 to 2015-03-15 01:18:26.320\n"
     ]
    },
    {
     "data": {
      "text/html": [
       "<text style=color:blue>Executing RB.A45 query function query_ee_u_dump_res_pm: 4/45.</text>"
      ],
      "text/plain": [
       "<IPython.core.display.HTML object>"
      ]
     },
     "metadata": {},
     "output_type": "display_data"
    },
    {
     "name": "stdout",
     "output_type": "stream",
     "text": [
      "\tQuerying PM event signal(s) RR53.RB.A45:U_DUMP_RES for system: QPS, className: DQAMSNRB, source: RR53.RB.A45 at 2015-03-15 01:01:46.614\n"
     ]
    },
    {
     "data": {
      "text/html": [
       "<text style=color:blue>Executing RB.A45 query function find_timestamp_pic: 5/45.</text>"
      ],
      "text/plain": [
       "<IPython.core.display.HTML object>"
      ]
     },
     "metadata": {},
     "output_type": "display_data"
    },
    {
     "name": "stdout",
     "output_type": "stream",
     "text": [
      "\tQuerying NXCALS signal(s) RB.A45.ODD:ST_ABORT_PIC, RB.A45.EVEN:ST_ABORT_PIC from 2015-03-15 01:01:45.320 to 2015-03-15 01:02:46.320\n"
     ]
    },
    {
     "data": {
      "text/html": [
       "<text style=color:blue>Executing RB.A45 query function find_source_timestamp_qds: 6/45.</text>"
      ],
      "text/plain": [
       "<IPython.core.display.HTML object>"
      ]
     },
     "metadata": {},
     "output_type": "display_data"
    },
    {
     "name": "stdout",
     "output_type": "stream",
     "text": [
      "\tQuerying PM event timestamps for system: QPS, className: DQAMCNMB_PMSTD, source: * from 2015-03-15 01:00:56.320 to 2015-03-15 01:10:06.320\n"
     ]
    },
    {
     "data": {
      "text/html": [
       "<text style=color:blue>Executing RB.A45 query function find_source_timestamp_ee: 1/45.</text>"
      ],
      "text/plain": [
       "<IPython.core.display.HTML object>"
      ]
     },
     "metadata": {},
     "output_type": "display_data"
    },
    {
     "name": "stdout",
     "output_type": "stream",
     "text": [
      "\tQuerying PM event timestamps for system: QPS, className: DQAMSNRB, source: UA47.RB.A45 from 2015-03-15 10:57:42.640 to 2015-03-15 11:14:32.640\n"
     ]
    },
    {
     "data": {
      "text/html": [
       "<text style=color:blue>Executing RB.A45 query function query_ee_u_dump_res_pm: 2/45.</text>"
      ],
      "text/plain": [
       "<IPython.core.display.HTML object>"
      ]
     },
     "metadata": {},
     "output_type": "display_data"
    },
    {
     "name": "stdout",
     "output_type": "stream",
     "text": [
      "\tQuerying PM event signal(s) UA47.RB.A45:U_DUMP_RES for system: QPS, className: DQAMSNRB, source: UA47.RB.A45 at 2015-03-15 10:57:53.202\n"
     ]
    },
    {
     "data": {
      "text/html": [
       "<text style=color:blue>Executing RB.A45 query function find_source_timestamp_ee: 3/45.</text>"
      ],
      "text/plain": [
       "<IPython.core.display.HTML object>"
      ]
     },
     "metadata": {},
     "output_type": "display_data"
    },
    {
     "name": "stdout",
     "output_type": "stream",
     "text": [
      "\tQuerying PM event timestamps for system: QPS, className: DQAMSNRB, source: RR53.RB.A45 from 2015-03-15 10:57:42.640 to 2015-03-15 11:14:32.640\n"
     ]
    },
    {
     "data": {
      "text/html": [
       "<text style=color:blue>Executing RB.A45 query function query_ee_u_dump_res_pm: 4/45.</text>"
      ],
      "text/plain": [
       "<IPython.core.display.HTML object>"
      ]
     },
     "metadata": {},
     "output_type": "display_data"
    },
    {
     "name": "stdout",
     "output_type": "stream",
     "text": [
      "\tQuerying PM event signal(s) RR53.RB.A45:U_DUMP_RES for system: QPS, className: DQAMSNRB, source: RR53.RB.A45 at 2015-03-15 10:57:52.945\n"
     ]
    },
    {
     "data": {
      "text/html": [
       "<text style=color:blue>Executing RB.A45 query function find_timestamp_pic: 5/45.</text>"
      ],
      "text/plain": [
       "<IPython.core.display.HTML object>"
      ]
     },
     "metadata": {},
     "output_type": "display_data"
    },
    {
     "name": "stdout",
     "output_type": "stream",
     "text": [
      "\tQuerying NXCALS signal(s) RB.A45.ODD:ST_ABORT_PIC, RB.A45.EVEN:ST_ABORT_PIC from 2015-03-15 10:57:51.640 to 2015-03-15 10:58:52.640\n"
     ]
    },
    {
     "data": {
      "text/html": [
       "<text style=color:blue>Executing RB.A45 query function find_source_timestamp_qds: 6/45.</text>"
      ],
      "text/plain": [
       "<IPython.core.display.HTML object>"
      ]
     },
     "metadata": {},
     "output_type": "display_data"
    },
    {
     "name": "stdout",
     "output_type": "stream",
     "text": [
      "\tQuerying PM event timestamps for system: QPS, className: DQAMCNMB_PMSTD, source: * from 2015-03-15 10:57:02.640 to 2015-03-15 11:06:12.640\n"
     ]
    },
    {
     "data": {
      "text/html": [
       "<text style=color:blue>Executing RB.A45 query function find_source_timestamp_ee: 1/45.</text>"
      ],
      "text/plain": [
       "<IPython.core.display.HTML object>"
      ]
     },
     "metadata": {},
     "output_type": "display_data"
    },
    {
     "name": "stdout",
     "output_type": "stream",
     "text": [
      "\tQuerying PM event timestamps for system: QPS, className: DQAMSNRB, source: UA47.RB.A45 from 2015-03-15 17:17:53.400 to 2015-03-15 17:34:43.400\n"
     ]
    },
    {
     "data": {
      "text/html": [
       "<text style=color:blue>Executing RB.A45 query function query_ee_u_dump_res_pm: 2/45.</text>"
      ],
      "text/plain": [
       "<IPython.core.display.HTML object>"
      ]
     },
     "metadata": {},
     "output_type": "display_data"
    },
    {
     "name": "stdout",
     "output_type": "stream",
     "text": [
      "\tQuerying PM event signal(s) UA47.RB.A45:U_DUMP_RES for system: QPS, className: DQAMSNRB, source: UA47.RB.A45 at 2015-03-15 17:18:03.962\n"
     ]
    },
    {
     "data": {
      "text/html": [
       "<text style=color:blue>Executing RB.A45 query function find_source_timestamp_ee: 3/45.</text>"
      ],
      "text/plain": [
       "<IPython.core.display.HTML object>"
      ]
     },
     "metadata": {},
     "output_type": "display_data"
    },
    {
     "name": "stdout",
     "output_type": "stream",
     "text": [
      "\tQuerying PM event timestamps for system: QPS, className: DQAMSNRB, source: RR53.RB.A45 from 2015-03-15 17:17:53.400 to 2015-03-15 17:34:43.400\n"
     ]
    },
    {
     "data": {
      "text/html": [
       "<text style=color:blue>Executing RB.A45 query function query_ee_u_dump_res_pm: 4/45.</text>"
      ],
      "text/plain": [
       "<IPython.core.display.HTML object>"
      ]
     },
     "metadata": {},
     "output_type": "display_data"
    },
    {
     "name": "stdout",
     "output_type": "stream",
     "text": [
      "\tQuerying PM event signal(s) RR53.RB.A45:U_DUMP_RES for system: QPS, className: DQAMSNRB, source: RR53.RB.A45 at 2015-03-15 17:18:03.702\n"
     ]
    },
    {
     "data": {
      "text/html": [
       "<text style=color:blue>Executing RB.A45 query function find_timestamp_pic: 5/45.</text>"
      ],
      "text/plain": [
       "<IPython.core.display.HTML object>"
      ]
     },
     "metadata": {},
     "output_type": "display_data"
    },
    {
     "name": "stdout",
     "output_type": "stream",
     "text": [
      "\tQuerying NXCALS signal(s) RB.A45.ODD:ST_ABORT_PIC, RB.A45.EVEN:ST_ABORT_PIC from 2015-03-15 17:18:02.400 to 2015-03-15 17:19:03.400\n"
     ]
    },
    {
     "data": {
      "text/html": [
       "<text style=color:blue>Executing RB.A45 query function find_source_timestamp_qds: 6/45.</text>"
      ],
      "text/plain": [
       "<IPython.core.display.HTML object>"
      ]
     },
     "metadata": {},
     "output_type": "display_data"
    },
    {
     "name": "stdout",
     "output_type": "stream",
     "text": [
      "\tQuerying PM event timestamps for system: QPS, className: DQAMCNMB_PMSTD, source: * from 2015-03-15 17:17:13.400 to 2015-03-15 17:26:23.400\n"
     ]
    },
    {
     "data": {
      "text/html": [
       "<text style=color:blue>Executing RB.A45 query function find_source_timestamp_ee: 1/45.</text>"
      ],
      "text/plain": [
       "<IPython.core.display.HTML object>"
      ]
     },
     "metadata": {},
     "output_type": "display_data"
    },
    {
     "name": "stdout",
     "output_type": "stream",
     "text": [
      "\tQuerying PM event timestamps for system: QPS, className: DQAMSNRB, source: UA47.RB.A45 from 2015-03-16 04:38:03.740 to 2015-03-16 04:54:53.740\n"
     ]
    },
    {
     "data": {
      "text/html": [
       "<text style=color:blue>Executing RB.A45 query function query_ee_u_dump_res_pm: 2/45.</text>"
      ],
      "text/plain": [
       "<IPython.core.display.HTML object>"
      ]
     },
     "metadata": {},
     "output_type": "display_data"
    },
    {
     "name": "stdout",
     "output_type": "stream",
     "text": [
      "\tQuerying PM event signal(s) UA47.RB.A45:U_DUMP_RES for system: QPS, className: DQAMSNRB, source: UA47.RB.A45 at 2015-03-16 04:38:14.310\n"
     ]
    },
    {
     "data": {
      "text/html": [
       "<text style=color:blue>Executing RB.A45 query function find_source_timestamp_ee: 3/45.</text>"
      ],
      "text/plain": [
       "<IPython.core.display.HTML object>"
      ]
     },
     "metadata": {},
     "output_type": "display_data"
    },
    {
     "name": "stdout",
     "output_type": "stream",
     "text": [
      "\tQuerying PM event timestamps for system: QPS, className: DQAMSNRB, source: RR53.RB.A45 from 2015-03-16 04:38:03.740 to 2015-03-16 04:54:53.740\n"
     ]
    },
    {
     "data": {
      "text/html": [
       "<text style=color:blue>Executing RB.A45 query function query_ee_u_dump_res_pm: 4/45.</text>"
      ],
      "text/plain": [
       "<IPython.core.display.HTML object>"
      ]
     },
     "metadata": {},
     "output_type": "display_data"
    },
    {
     "name": "stdout",
     "output_type": "stream",
     "text": [
      "\tQuerying PM event signal(s) RR53.RB.A45:U_DUMP_RES for system: QPS, className: DQAMSNRB, source: RR53.RB.A45 at 2015-03-16 04:38:14.047\n"
     ]
    },
    {
     "data": {
      "text/html": [
       "<text style=color:blue>Executing RB.A45 query function find_timestamp_pic: 5/45.</text>"
      ],
      "text/plain": [
       "<IPython.core.display.HTML object>"
      ]
     },
     "metadata": {},
     "output_type": "display_data"
    },
    {
     "name": "stdout",
     "output_type": "stream",
     "text": [
      "\tQuerying NXCALS signal(s) RB.A45.ODD:ST_ABORT_PIC, RB.A45.EVEN:ST_ABORT_PIC from 2015-03-16 04:38:12.740 to 2015-03-16 04:39:13.740\n"
     ]
    },
    {
     "data": {
      "text/html": [
       "<text style=color:blue>Executing RB.A45 query function find_source_timestamp_qds: 6/45.</text>"
      ],
      "text/plain": [
       "<IPython.core.display.HTML object>"
      ]
     },
     "metadata": {},
     "output_type": "display_data"
    },
    {
     "name": "stdout",
     "output_type": "stream",
     "text": [
      "\tQuerying PM event timestamps for system: QPS, className: DQAMCNMB_PMSTD, source: * from 2015-03-16 04:37:23.740 to 2015-03-16 04:46:33.740\n"
     ]
    },
    {
     "data": {
      "text/html": [
       "<text style=color:blue>Executing RB.A45 query function find_source_timestamp_ee: 1/45.</text>"
      ],
      "text/plain": [
       "<IPython.core.display.HTML object>"
      ]
     },
     "metadata": {},
     "output_type": "display_data"
    },
    {
     "name": "stdout",
     "output_type": "stream",
     "text": [
      "\tQuerying PM event timestamps for system: QPS, className: DQAMSNRB, source: UA47.RB.A45 from 2015-03-16 18:21:22 to 2015-03-16 18:38:12\n"
     ]
    },
    {
     "data": {
      "text/html": [
       "<text style=color:blue>Executing RB.A45 query function query_ee_u_dump_res_pm: 2/45.</text>"
      ],
      "text/plain": [
       "<IPython.core.display.HTML object>"
      ]
     },
     "metadata": {},
     "output_type": "display_data"
    },
    {
     "name": "stdout",
     "output_type": "stream",
     "text": [
      "\tQuerying PM event signal(s) UA47.RB.A45:U_DUMP_RES for system: QPS, className: DQAMSNRB, source: UA47.RB.A45 at 2015-03-16 18:21:32.572\n"
     ]
    },
    {
     "data": {
      "text/html": [
       "<text style=color:blue>Executing RB.A45 query function find_source_timestamp_ee: 3/45.</text>"
      ],
      "text/plain": [
       "<IPython.core.display.HTML object>"
      ]
     },
     "metadata": {},
     "output_type": "display_data"
    },
    {
     "name": "stdout",
     "output_type": "stream",
     "text": [
      "\tQuerying PM event timestamps for system: QPS, className: DQAMSNRB, source: RR53.RB.A45 from 2015-03-16 18:21:22 to 2015-03-16 18:38:12\n"
     ]
    },
    {
     "data": {
      "text/html": [
       "<text style=color:blue>Executing RB.A45 query function query_ee_u_dump_res_pm: 4/45.</text>"
      ],
      "text/plain": [
       "<IPython.core.display.HTML object>"
      ]
     },
     "metadata": {},
     "output_type": "display_data"
    },
    {
     "name": "stdout",
     "output_type": "stream",
     "text": [
      "\tQuerying PM event signal(s) RR53.RB.A45:U_DUMP_RES for system: QPS, className: DQAMSNRB, source: RR53.RB.A45 at 2015-03-16 18:21:32.312\n"
     ]
    },
    {
     "data": {
      "text/html": [
       "<text style=color:blue>Executing RB.A45 query function find_timestamp_pic: 5/45.</text>"
      ],
      "text/plain": [
       "<IPython.core.display.HTML object>"
      ]
     },
     "metadata": {},
     "output_type": "display_data"
    },
    {
     "name": "stdout",
     "output_type": "stream",
     "text": [
      "\tQuerying NXCALS signal(s) RB.A45.ODD:ST_ABORT_PIC, RB.A45.EVEN:ST_ABORT_PIC from 2015-03-16 18:21:31 to 2015-03-16 18:22:32\n"
     ]
    },
    {
     "data": {
      "text/html": [
       "<text style=color:blue>Executing RB.A45 query function find_source_timestamp_qds: 6/45.</text>"
      ],
      "text/plain": [
       "<IPython.core.display.HTML object>"
      ]
     },
     "metadata": {},
     "output_type": "display_data"
    },
    {
     "name": "stdout",
     "output_type": "stream",
     "text": [
      "\tQuerying PM event timestamps for system: QPS, className: DQAMCNMB_PMSTD, source: * from 2015-03-16 18:20:42 to 2015-03-16 18:29:52\n"
     ]
    },
    {
     "data": {
      "text/html": [
       "<text style=color:blue>Executing RB.A45 query function find_source_timestamp_ee: 1/45.</text>"
      ],
      "text/plain": [
       "<IPython.core.display.HTML object>"
      ]
     },
     "metadata": {},
     "output_type": "display_data"
    },
    {
     "name": "stdout",
     "output_type": "stream",
     "text": [
      "\tQuerying PM event timestamps for system: QPS, className: DQAMSNRB, source: UA47.RB.A45 from 2015-03-17 01:28:29.360 to 2015-03-17 01:45:19.360\n"
     ]
    },
    {
     "data": {
      "text/html": [
       "<text style=color:blue>Executing RB.A45 query function query_ee_u_dump_res_pm: 2/45.</text>"
      ],
      "text/plain": [
       "<IPython.core.display.HTML object>"
      ]
     },
     "metadata": {},
     "output_type": "display_data"
    },
    {
     "name": "stdout",
     "output_type": "stream",
     "text": [
      "\tQuerying PM event signal(s) UA47.RB.A45:U_DUMP_RES for system: QPS, className: DQAMSNRB, source: UA47.RB.A45 at 2015-03-17 01:28:39.933\n"
     ]
    },
    {
     "data": {
      "text/html": [
       "<text style=color:blue>Executing RB.A45 query function find_source_timestamp_ee: 3/45.</text>"
      ],
      "text/plain": [
       "<IPython.core.display.HTML object>"
      ]
     },
     "metadata": {},
     "output_type": "display_data"
    },
    {
     "name": "stdout",
     "output_type": "stream",
     "text": [
      "\tQuerying PM event timestamps for system: QPS, className: DQAMSNRB, source: RR53.RB.A45 from 2015-03-17 01:28:29.360 to 2015-03-17 01:45:19.360\n"
     ]
    },
    {
     "data": {
      "text/html": [
       "<text style=color:blue>Executing RB.A45 query function query_ee_u_dump_res_pm: 4/45.</text>"
      ],
      "text/plain": [
       "<IPython.core.display.HTML object>"
      ]
     },
     "metadata": {},
     "output_type": "display_data"
    },
    {
     "name": "stdout",
     "output_type": "stream",
     "text": [
      "\tQuerying PM event signal(s) RR53.RB.A45:U_DUMP_RES for system: QPS, className: DQAMSNRB, source: RR53.RB.A45 at 2015-03-17 01:28:39.672\n"
     ]
    },
    {
     "data": {
      "text/html": [
       "<text style=color:blue>Executing RB.A45 query function find_timestamp_pic: 5/45.</text>"
      ],
      "text/plain": [
       "<IPython.core.display.HTML object>"
      ]
     },
     "metadata": {},
     "output_type": "display_data"
    },
    {
     "name": "stdout",
     "output_type": "stream",
     "text": [
      "\tQuerying NXCALS signal(s) RB.A45.ODD:ST_ABORT_PIC, RB.A45.EVEN:ST_ABORT_PIC from 2015-03-17 01:28:38.360 to 2015-03-17 01:29:39.360\n"
     ]
    },
    {
     "data": {
      "text/html": [
       "<text style=color:blue>Executing RB.A45 query function find_source_timestamp_qds: 6/45.</text>"
      ],
      "text/plain": [
       "<IPython.core.display.HTML object>"
      ]
     },
     "metadata": {},
     "output_type": "display_data"
    },
    {
     "name": "stdout",
     "output_type": "stream",
     "text": [
      "\tQuerying PM event timestamps for system: QPS, className: DQAMCNMB_PMSTD, source: * from 2015-03-17 01:27:49.360 to 2015-03-17 01:36:59.360\n"
     ]
    },
    {
     "data": {
      "text/html": [
       "<text style=color:blue>Executing RB.A45 query function find_source_timestamp_ee: 1/45.</text>"
      ],
      "text/plain": [
       "<IPython.core.display.HTML object>"
      ]
     },
     "metadata": {},
     "output_type": "display_data"
    },
    {
     "name": "stdout",
     "output_type": "stream",
     "text": [
      "\tQuerying PM event timestamps for system: QPS, className: DQAMSNRB, source: UA47.RB.A45 from 2015-03-17 08:39:56.280 to 2015-03-17 08:56:46.280\n"
     ]
    },
    {
     "data": {
      "text/html": [
       "<text style=color:blue>Executing RB.A45 query function query_ee_u_dump_res_pm: 2/45.</text>"
      ],
      "text/plain": [
       "<IPython.core.display.HTML object>"
      ]
     },
     "metadata": {},
     "output_type": "display_data"
    },
    {
     "name": "stdout",
     "output_type": "stream",
     "text": [
      "\tQuerying PM event signal(s) UA47.RB.A45:U_DUMP_RES for system: QPS, className: DQAMSNRB, source: UA47.RB.A45 at 2015-03-17 08:40:06.843\n"
     ]
    },
    {
     "data": {
      "text/html": [
       "<text style=color:blue>Executing RB.A45 query function find_source_timestamp_ee: 3/45.</text>"
      ],
      "text/plain": [
       "<IPython.core.display.HTML object>"
      ]
     },
     "metadata": {},
     "output_type": "display_data"
    },
    {
     "name": "stdout",
     "output_type": "stream",
     "text": [
      "\tQuerying PM event timestamps for system: QPS, className: DQAMSNRB, source: RR53.RB.A45 from 2015-03-17 08:39:56.280 to 2015-03-17 08:56:46.280\n"
     ]
    },
    {
     "data": {
      "text/html": [
       "<text style=color:blue>Executing RB.A45 query function query_ee_u_dump_res_pm: 4/45.</text>"
      ],
      "text/plain": [
       "<IPython.core.display.HTML object>"
      ]
     },
     "metadata": {},
     "output_type": "display_data"
    },
    {
     "name": "stdout",
     "output_type": "stream",
     "text": [
      "\tQuerying PM event signal(s) RR53.RB.A45:U_DUMP_RES for system: QPS, className: DQAMSNRB, source: RR53.RB.A45 at 2015-03-17 08:40:06.586\n"
     ]
    },
    {
     "data": {
      "text/html": [
       "<text style=color:blue>Executing RB.A45 query function find_timestamp_pic: 5/45.</text>"
      ],
      "text/plain": [
       "<IPython.core.display.HTML object>"
      ]
     },
     "metadata": {},
     "output_type": "display_data"
    },
    {
     "name": "stdout",
     "output_type": "stream",
     "text": [
      "\tQuerying NXCALS signal(s) RB.A45.ODD:ST_ABORT_PIC, RB.A45.EVEN:ST_ABORT_PIC from 2015-03-17 08:40:05.280 to 2015-03-17 08:41:06.280\n"
     ]
    },
    {
     "data": {
      "text/html": [
       "<text style=color:blue>Executing RB.A45 query function find_source_timestamp_qds: 6/45.</text>"
      ],
      "text/plain": [
       "<IPython.core.display.HTML object>"
      ]
     },
     "metadata": {},
     "output_type": "display_data"
    },
    {
     "name": "stdout",
     "output_type": "stream",
     "text": [
      "\tQuerying PM event timestamps for system: QPS, className: DQAMCNMB_PMSTD, source: * from 2015-03-17 08:39:16.280 to 2015-03-17 08:48:26.280\n"
     ]
    },
    {
     "data": {
      "text/html": [
       "<text style=color:blue>Executing RB.A45 query function find_source_timestamp_ee: 1/45.</text>"
      ],
      "text/plain": [
       "<IPython.core.display.HTML object>"
      ]
     },
     "metadata": {},
     "output_type": "display_data"
    },
    {
     "name": "stdout",
     "output_type": "stream",
     "text": [
      "\tQuerying PM event timestamps for system: QPS, className: DQAMSNRB, source: UA47.RB.A45 from 2015-03-17 14:00:21.480 to 2015-03-17 14:17:11.480\n"
     ]
    },
    {
     "data": {
      "text/html": [
       "<text style=color:blue>Executing RB.A45 query function query_ee_u_dump_res_pm: 2/45.</text>"
      ],
      "text/plain": [
       "<IPython.core.display.HTML object>"
      ]
     },
     "metadata": {},
     "output_type": "display_data"
    },
    {
     "name": "stdout",
     "output_type": "stream",
     "text": [
      "\tQuerying PM event signal(s) UA47.RB.A45:U_DUMP_RES for system: QPS, className: DQAMSNRB, source: UA47.RB.A45 at 2015-03-17 14:00:32.038\n"
     ]
    },
    {
     "data": {
      "text/html": [
       "<text style=color:blue>Executing RB.A45 query function find_source_timestamp_ee: 3/45.</text>"
      ],
      "text/plain": [
       "<IPython.core.display.HTML object>"
      ]
     },
     "metadata": {},
     "output_type": "display_data"
    },
    {
     "name": "stdout",
     "output_type": "stream",
     "text": [
      "\tQuerying PM event timestamps for system: QPS, className: DQAMSNRB, source: RR53.RB.A45 from 2015-03-17 14:00:21.480 to 2015-03-17 14:17:11.480\n"
     ]
    },
    {
     "data": {
      "text/html": [
       "<text style=color:blue>Executing RB.A45 query function query_ee_u_dump_res_pm: 4/45.</text>"
      ],
      "text/plain": [
       "<IPython.core.display.HTML object>"
      ]
     },
     "metadata": {},
     "output_type": "display_data"
    },
    {
     "name": "stdout",
     "output_type": "stream",
     "text": [
      "\tQuerying PM event signal(s) RR53.RB.A45:U_DUMP_RES for system: QPS, className: DQAMSNRB, source: RR53.RB.A45 at 2015-03-17 14:00:31.781\n"
     ]
    },
    {
     "data": {
      "text/html": [
       "<text style=color:blue>Executing RB.A45 query function find_timestamp_pic: 5/45.</text>"
      ],
      "text/plain": [
       "<IPython.core.display.HTML object>"
      ]
     },
     "metadata": {},
     "output_type": "display_data"
    },
    {
     "name": "stdout",
     "output_type": "stream",
     "text": [
      "\tQuerying NXCALS signal(s) RB.A45.ODD:ST_ABORT_PIC, RB.A45.EVEN:ST_ABORT_PIC from 2015-03-17 14:00:30.480 to 2015-03-17 14:01:31.480\n"
     ]
    },
    {
     "data": {
      "text/html": [
       "<text style=color:blue>Executing RB.A45 query function find_source_timestamp_qds: 6/45.</text>"
      ],
      "text/plain": [
       "<IPython.core.display.HTML object>"
      ]
     },
     "metadata": {},
     "output_type": "display_data"
    },
    {
     "name": "stdout",
     "output_type": "stream",
     "text": [
      "\tQuerying PM event timestamps for system: QPS, className: DQAMCNMB_PMSTD, source: * from 2015-03-17 13:59:41.480 to 2015-03-17 14:08:51.480\n"
     ]
    },
    {
     "data": {
      "text/html": [
       "<text style=color:blue>Executing RB.A45 query function find_source_timestamp_ee: 1/45.</text>"
      ],
      "text/plain": [
       "<IPython.core.display.HTML object>"
      ]
     },
     "metadata": {},
     "output_type": "display_data"
    },
    {
     "name": "stdout",
     "output_type": "stream",
     "text": [
      "\tQuerying PM event timestamps for system: QPS, className: DQAMSNRB, source: UA47.RB.A45 from 2015-03-17 20:41:01.940 to 2015-03-17 20:57:51.940\n"
     ]
    },
    {
     "data": {
      "text/html": [
       "<text style=color:blue>Executing RB.A45 query function query_ee_u_dump_res_pm: 2/45.</text>"
      ],
      "text/plain": [
       "<IPython.core.display.HTML object>"
      ]
     },
     "metadata": {},
     "output_type": "display_data"
    },
    {
     "name": "stdout",
     "output_type": "stream",
     "text": [
      "\tQuerying PM event signal(s) UA47.RB.A45:U_DUMP_RES for system: QPS, className: DQAMSNRB, source: UA47.RB.A45 at 2015-03-17 20:41:12.493\n"
     ]
    },
    {
     "data": {
      "text/html": [
       "<text style=color:blue>Executing RB.A45 query function find_source_timestamp_ee: 3/45.</text>"
      ],
      "text/plain": [
       "<IPython.core.display.HTML object>"
      ]
     },
     "metadata": {},
     "output_type": "display_data"
    },
    {
     "name": "stdout",
     "output_type": "stream",
     "text": [
      "\tQuerying PM event timestamps for system: QPS, className: DQAMSNRB, source: RR53.RB.A45 from 2015-03-17 20:41:01.940 to 2015-03-17 20:57:51.940\n"
     ]
    },
    {
     "data": {
      "text/html": [
       "<text style=color:blue>Executing RB.A45 query function query_ee_u_dump_res_pm: 4/45.</text>"
      ],
      "text/plain": [
       "<IPython.core.display.HTML object>"
      ]
     },
     "metadata": {},
     "output_type": "display_data"
    },
    {
     "name": "stdout",
     "output_type": "stream",
     "text": [
      "\tQuerying PM event signal(s) RR53.RB.A45:U_DUMP_RES for system: QPS, className: DQAMSNRB, source: RR53.RB.A45 at 2015-03-17 20:41:12.234\n"
     ]
    },
    {
     "data": {
      "text/html": [
       "<text style=color:blue>Executing RB.A45 query function find_timestamp_pic: 5/45.</text>"
      ],
      "text/plain": [
       "<IPython.core.display.HTML object>"
      ]
     },
     "metadata": {},
     "output_type": "display_data"
    },
    {
     "name": "stdout",
     "output_type": "stream",
     "text": [
      "\tQuerying NXCALS signal(s) RB.A45.ODD:ST_ABORT_PIC, RB.A45.EVEN:ST_ABORT_PIC from 2015-03-17 20:41:10.940 to 2015-03-17 20:42:11.940\n"
     ]
    },
    {
     "data": {
      "text/html": [
       "<text style=color:blue>Executing RB.A45 query function find_source_timestamp_qds: 6/45.</text>"
      ],
      "text/plain": [
       "<IPython.core.display.HTML object>"
      ]
     },
     "metadata": {},
     "output_type": "display_data"
    },
    {
     "name": "stdout",
     "output_type": "stream",
     "text": [
      "\tQuerying PM event timestamps for system: QPS, className: DQAMCNMB_PMSTD, source: * from 2015-03-17 20:40:21.940 to 2015-03-17 20:49:31.940\n"
     ]
    },
    {
     "data": {
      "text/html": [
       "<text style=color:blue>Executing RB.A45 query function find_source_timestamp_ee: 1/45.</text>"
      ],
      "text/plain": [
       "<IPython.core.display.HTML object>"
      ]
     },
     "metadata": {},
     "output_type": "display_data"
    },
    {
     "name": "stdout",
     "output_type": "stream",
     "text": [
      "\tQuerying PM event timestamps for system: QPS, className: DQAMSNRB, source: UA47.RB.A45 from 2015-03-18 05:33:45.180 to 2015-03-18 05:50:35.180\n"
     ]
    },
    {
     "data": {
      "text/html": [
       "<text style=color:blue>Executing RB.A45 query function query_ee_u_dump_res_pm: 2/45.</text>"
      ],
      "text/plain": [
       "<IPython.core.display.HTML object>"
      ]
     },
     "metadata": {},
     "output_type": "display_data"
    },
    {
     "name": "stdout",
     "output_type": "stream",
     "text": [
      "\tQuerying PM event signal(s) UA47.RB.A45:U_DUMP_RES for system: QPS, className: DQAMSNRB, source: UA47.RB.A45 at 2015-03-18 05:33:55.734\n"
     ]
    },
    {
     "data": {
      "text/html": [
       "<text style=color:blue>Executing RB.A45 query function find_source_timestamp_ee: 3/45.</text>"
      ],
      "text/plain": [
       "<IPython.core.display.HTML object>"
      ]
     },
     "metadata": {},
     "output_type": "display_data"
    },
    {
     "name": "stdout",
     "output_type": "stream",
     "text": [
      "\tQuerying PM event timestamps for system: QPS, className: DQAMSNRB, source: RR53.RB.A45 from 2015-03-18 05:33:45.180 to 2015-03-18 05:50:35.180\n"
     ]
    },
    {
     "data": {
      "text/html": [
       "<text style=color:blue>Executing RB.A45 query function query_ee_u_dump_res_pm: 4/45.</text>"
      ],
      "text/plain": [
       "<IPython.core.display.HTML object>"
      ]
     },
     "metadata": {},
     "output_type": "display_data"
    },
    {
     "name": "stdout",
     "output_type": "stream",
     "text": [
      "\tQuerying PM event signal(s) RR53.RB.A45:U_DUMP_RES for system: QPS, className: DQAMSNRB, source: RR53.RB.A45 at 2015-03-18 05:33:55.475\n"
     ]
    },
    {
     "data": {
      "text/html": [
       "<text style=color:blue>Executing RB.A45 query function find_timestamp_pic: 5/45.</text>"
      ],
      "text/plain": [
       "<IPython.core.display.HTML object>"
      ]
     },
     "metadata": {},
     "output_type": "display_data"
    },
    {
     "name": "stdout",
     "output_type": "stream",
     "text": [
      "\tQuerying NXCALS signal(s) RB.A45.ODD:ST_ABORT_PIC, RB.A45.EVEN:ST_ABORT_PIC from 2015-03-18 05:33:54.180 to 2015-03-18 05:34:55.180\n"
     ]
    },
    {
     "data": {
      "text/html": [
       "<text style=color:blue>Executing RB.A45 query function find_source_timestamp_qds: 6/45.</text>"
      ],
      "text/plain": [
       "<IPython.core.display.HTML object>"
      ]
     },
     "metadata": {},
     "output_type": "display_data"
    },
    {
     "name": "stdout",
     "output_type": "stream",
     "text": [
      "\tQuerying PM event timestamps for system: QPS, className: DQAMCNMB_PMSTD, source: * from 2015-03-18 05:33:05.180 to 2015-03-18 05:42:15.180\n"
     ]
    },
    {
     "data": {
      "text/html": [
       "<text style=color:blue>Executing RB.A45 query function find_source_timestamp_ee: 1/45.</text>"
      ],
      "text/plain": [
       "<IPython.core.display.HTML object>"
      ]
     },
     "metadata": {},
     "output_type": "display_data"
    },
    {
     "name": "stdout",
     "output_type": "stream",
     "text": [
      "\tQuerying PM event timestamps for system: QPS, className: DQAMSNRB, source: UA47.RB.A45 from 2015-03-18 13:32:41.100 to 2015-03-18 13:49:31.100\n"
     ]
    },
    {
     "data": {
      "text/html": [
       "<text style=color:blue>Executing RB.A45 query function query_ee_u_dump_res_pm: 2/45.</text>"
      ],
      "text/plain": [
       "<IPython.core.display.HTML object>"
      ]
     },
     "metadata": {},
     "output_type": "display_data"
    },
    {
     "name": "stdout",
     "output_type": "stream",
     "text": [
      "\tQuerying PM event signal(s) UA47.RB.A45:U_DUMP_RES for system: QPS, className: DQAMSNRB, source: UA47.RB.A45 at 2015-03-18 13:32:51.663\n"
     ]
    },
    {
     "data": {
      "text/html": [
       "<text style=color:blue>Executing RB.A45 query function find_source_timestamp_ee: 3/45.</text>"
      ],
      "text/plain": [
       "<IPython.core.display.HTML object>"
      ]
     },
     "metadata": {},
     "output_type": "display_data"
    },
    {
     "name": "stdout",
     "output_type": "stream",
     "text": [
      "\tQuerying PM event timestamps for system: QPS, className: DQAMSNRB, source: RR53.RB.A45 from 2015-03-18 13:32:41.100 to 2015-03-18 13:49:31.100\n"
     ]
    },
    {
     "data": {
      "text/html": [
       "<text style=color:blue>Executing RB.A45 query function query_ee_u_dump_res_pm: 4/45.</text>"
      ],
      "text/plain": [
       "<IPython.core.display.HTML object>"
      ]
     },
     "metadata": {},
     "output_type": "display_data"
    },
    {
     "name": "stdout",
     "output_type": "stream",
     "text": [
      "\tQuerying PM event signal(s) RR53.RB.A45:U_DUMP_RES for system: QPS, className: DQAMSNRB, source: RR53.RB.A45 at 2015-03-18 13:32:51.404\n"
     ]
    },
    {
     "data": {
      "text/html": [
       "<text style=color:blue>Executing RB.A45 query function find_timestamp_pic: 5/45.</text>"
      ],
      "text/plain": [
       "<IPython.core.display.HTML object>"
      ]
     },
     "metadata": {},
     "output_type": "display_data"
    },
    {
     "name": "stdout",
     "output_type": "stream",
     "text": [
      "\tQuerying NXCALS signal(s) RB.A45.ODD:ST_ABORT_PIC, RB.A45.EVEN:ST_ABORT_PIC from 2015-03-18 13:32:50.100 to 2015-03-18 13:33:51.100\n"
     ]
    },
    {
     "data": {
      "text/html": [
       "<text style=color:blue>Executing RB.A45 query function find_source_timestamp_qds: 6/45.</text>"
      ],
      "text/plain": [
       "<IPython.core.display.HTML object>"
      ]
     },
     "metadata": {},
     "output_type": "display_data"
    },
    {
     "name": "stdout",
     "output_type": "stream",
     "text": [
      "\tQuerying PM event timestamps for system: QPS, className: DQAMCNMB_PMSTD, source: * from 2015-03-18 13:32:01.100 to 2015-03-18 13:41:11.100\n"
     ]
    },
    {
     "data": {
      "text/html": [
       "<text style=color:blue>Executing RB.A45 query function find_source_timestamp_ee: 1/45.</text>"
      ],
      "text/plain": [
       "<IPython.core.display.HTML object>"
      ]
     },
     "metadata": {},
     "output_type": "display_data"
    },
    {
     "name": "stdout",
     "output_type": "stream",
     "text": [
      "\tQuerying PM event timestamps for system: QPS, className: DQAMSNRB, source: UA47.RB.A45 from 2015-03-18 22:03:11.600 to 2015-03-18 22:20:01.600\n"
     ]
    },
    {
     "data": {
      "text/html": [
       "<text style=color:blue>Executing RB.A45 query function query_ee_u_dump_res_pm: 2/45.</text>"
      ],
      "text/plain": [
       "<IPython.core.display.HTML object>"
      ]
     },
     "metadata": {},
     "output_type": "display_data"
    },
    {
     "name": "stdout",
     "output_type": "stream",
     "text": [
      "\tQuerying PM event signal(s) UA47.RB.A45:U_DUMP_RES for system: QPS, className: DQAMSNRB, source: UA47.RB.A45 at 2015-03-18 22:03:22.169\n"
     ]
    },
    {
     "data": {
      "text/html": [
       "<text style=color:blue>Executing RB.A45 query function find_source_timestamp_ee: 3/45.</text>"
      ],
      "text/plain": [
       "<IPython.core.display.HTML object>"
      ]
     },
     "metadata": {},
     "output_type": "display_data"
    },
    {
     "name": "stdout",
     "output_type": "stream",
     "text": [
      "\tQuerying PM event timestamps for system: QPS, className: DQAMSNRB, source: RR53.RB.A45 from 2015-03-18 22:03:11.600 to 2015-03-18 22:20:01.600\n"
     ]
    },
    {
     "data": {
      "text/html": [
       "<text style=color:blue>Executing RB.A45 query function query_ee_u_dump_res_pm: 4/45.</text>"
      ],
      "text/plain": [
       "<IPython.core.display.HTML object>"
      ]
     },
     "metadata": {},
     "output_type": "display_data"
    },
    {
     "name": "stdout",
     "output_type": "stream",
     "text": [
      "\tQuerying PM event signal(s) RR53.RB.A45:U_DUMP_RES for system: QPS, className: DQAMSNRB, source: RR53.RB.A45 at 2015-03-18 22:03:21.909\n"
     ]
    },
    {
     "data": {
      "text/html": [
       "<text style=color:blue>Executing RB.A45 query function find_timestamp_pic: 5/45.</text>"
      ],
      "text/plain": [
       "<IPython.core.display.HTML object>"
      ]
     },
     "metadata": {},
     "output_type": "display_data"
    },
    {
     "name": "stdout",
     "output_type": "stream",
     "text": [
      "\tQuerying NXCALS signal(s) RB.A45.ODD:ST_ABORT_PIC, RB.A45.EVEN:ST_ABORT_PIC from 2015-03-18 22:03:20.600 to 2015-03-18 22:04:21.600\n"
     ]
    },
    {
     "data": {
      "text/html": [
       "<text style=color:blue>Executing RB.A45 query function find_source_timestamp_qds: 6/45.</text>"
      ],
      "text/plain": [
       "<IPython.core.display.HTML object>"
      ]
     },
     "metadata": {},
     "output_type": "display_data"
    },
    {
     "name": "stdout",
     "output_type": "stream",
     "text": [
      "\tQuerying PM event timestamps for system: QPS, className: DQAMCNMB_PMSTD, source: * from 2015-03-18 22:02:31.600 to 2015-03-18 22:11:41.600\n"
     ]
    },
    {
     "data": {
      "text/html": [
       "<text style=color:blue>Executing RB.A45 query function find_source_timestamp_ee: 1/45.</text>"
      ],
      "text/plain": [
       "<IPython.core.display.HTML object>"
      ]
     },
     "metadata": {},
     "output_type": "display_data"
    },
    {
     "name": "stdout",
     "output_type": "stream",
     "text": [
      "\tQuerying PM event timestamps for system: QPS, className: DQAMSNRB, source: UA47.RB.A45 from 2015-03-19 09:19:10.220 to 2015-03-19 09:36:00.220\n"
     ]
    },
    {
     "data": {
      "text/html": [
       "<text style=color:blue>Executing RB.A45 query function query_ee_u_dump_res_pm: 2/45.</text>"
      ],
      "text/plain": [
       "<IPython.core.display.HTML object>"
      ]
     },
     "metadata": {},
     "output_type": "display_data"
    },
    {
     "name": "stdout",
     "output_type": "stream",
     "text": [
      "\tQuerying PM event signal(s) UA47.RB.A45:U_DUMP_RES for system: QPS, className: DQAMSNRB, source: UA47.RB.A45 at 2015-03-19 09:19:20.782\n"
     ]
    },
    {
     "data": {
      "text/html": [
       "<text style=color:blue>Executing RB.A45 query function find_source_timestamp_ee: 3/45.</text>"
      ],
      "text/plain": [
       "<IPython.core.display.HTML object>"
      ]
     },
     "metadata": {},
     "output_type": "display_data"
    },
    {
     "name": "stdout",
     "output_type": "stream",
     "text": [
      "\tQuerying PM event timestamps for system: QPS, className: DQAMSNRB, source: RR53.RB.A45 from 2015-03-19 09:19:10.220 to 2015-03-19 09:36:00.220\n"
     ]
    },
    {
     "data": {
      "text/html": [
       "<text style=color:blue>Executing RB.A45 query function query_ee_u_dump_res_pm: 4/45.</text>"
      ],
      "text/plain": [
       "<IPython.core.display.HTML object>"
      ]
     },
     "metadata": {},
     "output_type": "display_data"
    },
    {
     "name": "stdout",
     "output_type": "stream",
     "text": [
      "\tQuerying PM event signal(s) RR53.RB.A45:U_DUMP_RES for system: QPS, className: DQAMSNRB, source: RR53.RB.A45 at 2015-03-19 09:19:20.520\n"
     ]
    },
    {
     "data": {
      "text/html": [
       "<text style=color:blue>Executing RB.A45 query function find_timestamp_pic: 5/45.</text>"
      ],
      "text/plain": [
       "<IPython.core.display.HTML object>"
      ]
     },
     "metadata": {},
     "output_type": "display_data"
    },
    {
     "name": "stdout",
     "output_type": "stream",
     "text": [
      "\tQuerying NXCALS signal(s) RB.A45.ODD:ST_ABORT_PIC, RB.A45.EVEN:ST_ABORT_PIC from 2015-03-19 09:19:19.220 to 2015-03-19 09:20:20.220\n"
     ]
    },
    {
     "data": {
      "text/html": [
       "<text style=color:blue>Executing RB.A45 query function find_source_timestamp_qds: 6/45.</text>"
      ],
      "text/plain": [
       "<IPython.core.display.HTML object>"
      ]
     },
     "metadata": {},
     "output_type": "display_data"
    },
    {
     "name": "stdout",
     "output_type": "stream",
     "text": [
      "\tQuerying PM event timestamps for system: QPS, className: DQAMCNMB_PMSTD, source: * from 2015-03-19 09:18:30.220 to 2015-03-19 09:27:40.220\n"
     ]
    },
    {
     "data": {
      "text/html": [
       "<text style=color:blue>Executing RB.A45 query function find_source_timestamp_ee: 1/45.</text>"
      ],
      "text/plain": [
       "<IPython.core.display.HTML object>"
      ]
     },
     "metadata": {},
     "output_type": "display_data"
    },
    {
     "name": "stdout",
     "output_type": "stream",
     "text": [
      "\tQuerying PM event timestamps for system: QPS, className: DQAMSNRB, source: UA47.RB.A45 from 2015-03-19 16:49:47.500 to 2015-03-19 17:06:37.500\n"
     ]
    },
    {
     "data": {
      "text/html": [
       "<text style=color:blue>Executing RB.A45 query function query_ee_u_dump_res_pm: 2/45.</text>"
      ],
      "text/plain": [
       "<IPython.core.display.HTML object>"
      ]
     },
     "metadata": {},
     "output_type": "display_data"
    },
    {
     "name": "stdout",
     "output_type": "stream",
     "text": [
      "\tQuerying PM event signal(s) UA47.RB.A45:U_DUMP_RES for system: QPS, className: DQAMSNRB, source: UA47.RB.A45 at 2015-03-19 16:49:58.070\n"
     ]
    },
    {
     "data": {
      "text/html": [
       "<text style=color:blue>Executing RB.A45 query function find_source_timestamp_ee: 3/45.</text>"
      ],
      "text/plain": [
       "<IPython.core.display.HTML object>"
      ]
     },
     "metadata": {},
     "output_type": "display_data"
    },
    {
     "name": "stdout",
     "output_type": "stream",
     "text": [
      "\tQuerying PM event timestamps for system: QPS, className: DQAMSNRB, source: RR53.RB.A45 from 2015-03-19 16:49:47.500 to 2015-03-19 17:06:37.500\n"
     ]
    },
    {
     "data": {
      "text/html": [
       "<text style=color:blue>Executing RB.A45 query function query_ee_u_dump_res_pm: 4/45.</text>"
      ],
      "text/plain": [
       "<IPython.core.display.HTML object>"
      ]
     },
     "metadata": {},
     "output_type": "display_data"
    },
    {
     "name": "stdout",
     "output_type": "stream",
     "text": [
      "\tQuerying PM event signal(s) RR53.RB.A45:U_DUMP_RES for system: QPS, className: DQAMSNRB, source: RR53.RB.A45 at 2015-03-19 16:49:57.812\n"
     ]
    },
    {
     "data": {
      "text/html": [
       "<text style=color:blue>Executing RB.A45 query function find_timestamp_pic: 5/45.</text>"
      ],
      "text/plain": [
       "<IPython.core.display.HTML object>"
      ]
     },
     "metadata": {},
     "output_type": "display_data"
    },
    {
     "name": "stdout",
     "output_type": "stream",
     "text": [
      "\tQuerying NXCALS signal(s) RB.A45.ODD:ST_ABORT_PIC, RB.A45.EVEN:ST_ABORT_PIC from 2015-03-19 16:49:56.500 to 2015-03-19 16:50:57.500\n"
     ]
    },
    {
     "data": {
      "text/html": [
       "<text style=color:blue>Executing RB.A45 query function find_source_timestamp_qds: 6/45.</text>"
      ],
      "text/plain": [
       "<IPython.core.display.HTML object>"
      ]
     },
     "metadata": {},
     "output_type": "display_data"
    },
    {
     "name": "stdout",
     "output_type": "stream",
     "text": [
      "\tQuerying PM event timestamps for system: QPS, className: DQAMCNMB_PMSTD, source: * from 2015-03-19 16:49:07.500 to 2015-03-19 16:58:17.500\n"
     ]
    },
    {
     "data": {
      "text/html": [
       "<text style=color:blue>Executing RB.A45 query function find_source_timestamp_ee: 1/45.</text>"
      ],
      "text/plain": [
       "<IPython.core.display.HTML object>"
      ]
     },
     "metadata": {},
     "output_type": "display_data"
    },
    {
     "name": "stdout",
     "output_type": "stream",
     "text": [
      "\tQuerying PM event timestamps for system: QPS, className: DQAMSNRB, source: UA47.RB.A45 from 2015-03-19 21:49:16.120 to 2015-03-19 22:06:06.120\n"
     ]
    },
    {
     "data": {
      "text/html": [
       "<text style=color:blue>Executing RB.A45 query function query_ee_u_dump_res_pm: 2/45.</text>"
      ],
      "text/plain": [
       "<IPython.core.display.HTML object>"
      ]
     },
     "metadata": {},
     "output_type": "display_data"
    },
    {
     "name": "stdout",
     "output_type": "stream",
     "text": [
      "\tQuerying PM event signal(s) UA47.RB.A45:U_DUMP_RES for system: QPS, className: DQAMSNRB, source: UA47.RB.A45 at 2015-03-19 21:49:26.680\n"
     ]
    },
    {
     "data": {
      "text/html": [
       "<text style=color:blue>Executing RB.A45 query function find_source_timestamp_ee: 3/45.</text>"
      ],
      "text/plain": [
       "<IPython.core.display.HTML object>"
      ]
     },
     "metadata": {},
     "output_type": "display_data"
    },
    {
     "name": "stdout",
     "output_type": "stream",
     "text": [
      "\tQuerying PM event timestamps for system: QPS, className: DQAMSNRB, source: RR53.RB.A45 from 2015-03-19 21:49:16.120 to 2015-03-19 22:06:06.120\n"
     ]
    },
    {
     "data": {
      "text/html": [
       "<text style=color:blue>Executing RB.A45 query function query_ee_u_dump_res_pm: 4/45.</text>"
      ],
      "text/plain": [
       "<IPython.core.display.HTML object>"
      ]
     },
     "metadata": {},
     "output_type": "display_data"
    },
    {
     "name": "stdout",
     "output_type": "stream",
     "text": [
      "\tQuerying PM event signal(s) RR53.RB.A45:U_DUMP_RES for system: QPS, className: DQAMSNRB, source: RR53.RB.A45 at 2015-03-19 21:49:26.422\n"
     ]
    },
    {
     "data": {
      "text/html": [
       "<text style=color:blue>Executing RB.A45 query function find_timestamp_pic: 5/45.</text>"
      ],
      "text/plain": [
       "<IPython.core.display.HTML object>"
      ]
     },
     "metadata": {},
     "output_type": "display_data"
    },
    {
     "name": "stdout",
     "output_type": "stream",
     "text": [
      "\tQuerying NXCALS signal(s) RB.A45.ODD:ST_ABORT_PIC, RB.A45.EVEN:ST_ABORT_PIC from 2015-03-19 21:49:25.120 to 2015-03-19 21:50:26.120\n"
     ]
    },
    {
     "data": {
      "text/html": [
       "<text style=color:blue>Executing RB.A45 query function find_source_timestamp_qds: 6/45.</text>"
      ],
      "text/plain": [
       "<IPython.core.display.HTML object>"
      ]
     },
     "metadata": {},
     "output_type": "display_data"
    },
    {
     "name": "stdout",
     "output_type": "stream",
     "text": [
      "\tQuerying PM event timestamps for system: QPS, className: DQAMCNMB_PMSTD, source: * from 2015-03-19 21:48:36.120 to 2015-03-19 21:57:46.120\n"
     ]
    },
    {
     "data": {
      "text/html": [
       "<text style=color:blue>Executing RB.A45 query function find_source_timestamp_ee: 1/45.</text>"
      ],
      "text/plain": [
       "<IPython.core.display.HTML object>"
      ]
     },
     "metadata": {},
     "output_type": "display_data"
    },
    {
     "name": "stdout",
     "output_type": "stream",
     "text": [
      "\tQuerying PM event timestamps for system: QPS, className: DQAMSNRB, source: UA47.RB.A45 from 2015-03-20 05:49:36.180 to 2015-03-20 06:06:26.180\n"
     ]
    },
    {
     "data": {
      "text/html": [
       "<text style=color:blue>Executing RB.A45 query function query_ee_u_dump_res_pm: 2/45.</text>"
      ],
      "text/plain": [
       "<IPython.core.display.HTML object>"
      ]
     },
     "metadata": {},
     "output_type": "display_data"
    },
    {
     "name": "stdout",
     "output_type": "stream",
     "text": [
      "\tQuerying PM event signal(s) UA47.RB.A45:U_DUMP_RES for system: QPS, className: DQAMSNRB, source: UA47.RB.A45 at 2015-03-20 05:49:46.737\n"
     ]
    },
    {
     "data": {
      "text/html": [
       "<text style=color:blue>Executing RB.A45 query function find_source_timestamp_ee: 3/45.</text>"
      ],
      "text/plain": [
       "<IPython.core.display.HTML object>"
      ]
     },
     "metadata": {},
     "output_type": "display_data"
    },
    {
     "name": "stdout",
     "output_type": "stream",
     "text": [
      "\tQuerying PM event timestamps for system: QPS, className: DQAMSNRB, source: RR53.RB.A45 from 2015-03-20 05:49:36.180 to 2015-03-20 06:06:26.180\n"
     ]
    },
    {
     "data": {
      "text/html": [
       "<text style=color:blue>Executing RB.A45 query function query_ee_u_dump_res_pm: 4/45.</text>"
      ],
      "text/plain": [
       "<IPython.core.display.HTML object>"
      ]
     },
     "metadata": {},
     "output_type": "display_data"
    },
    {
     "name": "stdout",
     "output_type": "stream",
     "text": [
      "\tQuerying PM event signal(s) RR53.RB.A45:U_DUMP_RES for system: QPS, className: DQAMSNRB, source: RR53.RB.A45 at 2015-03-20 05:49:46.477\n"
     ]
    },
    {
     "data": {
      "text/html": [
       "<text style=color:blue>Executing RB.A45 query function find_timestamp_pic: 5/45.</text>"
      ],
      "text/plain": [
       "<IPython.core.display.HTML object>"
      ]
     },
     "metadata": {},
     "output_type": "display_data"
    },
    {
     "name": "stdout",
     "output_type": "stream",
     "text": [
      "\tQuerying NXCALS signal(s) RB.A45.ODD:ST_ABORT_PIC, RB.A45.EVEN:ST_ABORT_PIC from 2015-03-20 05:49:45.180 to 2015-03-20 05:50:46.180\n"
     ]
    },
    {
     "data": {
      "text/html": [
       "<text style=color:blue>Executing RB.A45 query function find_source_timestamp_qds: 6/45.</text>"
      ],
      "text/plain": [
       "<IPython.core.display.HTML object>"
      ]
     },
     "metadata": {},
     "output_type": "display_data"
    },
    {
     "name": "stdout",
     "output_type": "stream",
     "text": [
      "\tQuerying PM event timestamps for system: QPS, className: DQAMCNMB_PMSTD, source: * from 2015-03-20 05:48:56.180 to 2015-03-20 05:58:06.180\n"
     ]
    },
    {
     "data": {
      "text/html": [
       "<text style=color:blue>Executing RB.A45 query function find_source_timestamp_ee: 1/45.</text>"
      ],
      "text/plain": [
       "<IPython.core.display.HTML object>"
      ]
     },
     "metadata": {},
     "output_type": "display_data"
    },
    {
     "name": "stdout",
     "output_type": "stream",
     "text": [
      "\tQuerying PM event timestamps for system: QPS, className: DQAMSNRB, source: UA47.RB.A45 from 2015-03-20 13:28:24.140 to 2015-03-20 13:45:14.140\n"
     ]
    },
    {
     "data": {
      "text/html": [
       "<text style=color:blue>Executing RB.A45 query function query_ee_u_dump_res_pm: 2/45.</text>"
      ],
      "text/plain": [
       "<IPython.core.display.HTML object>"
      ]
     },
     "metadata": {},
     "output_type": "display_data"
    },
    {
     "name": "stdout",
     "output_type": "stream",
     "text": [
      "\tQuerying PM event signal(s) UA47.RB.A45:U_DUMP_RES for system: QPS, className: DQAMSNRB, source: UA47.RB.A45 at 2015-03-20 13:28:34.700\n"
     ]
    },
    {
     "data": {
      "text/html": [
       "<text style=color:blue>Executing RB.A45 query function find_source_timestamp_ee: 3/45.</text>"
      ],
      "text/plain": [
       "<IPython.core.display.HTML object>"
      ]
     },
     "metadata": {},
     "output_type": "display_data"
    },
    {
     "name": "stdout",
     "output_type": "stream",
     "text": [
      "\tQuerying PM event timestamps for system: QPS, className: DQAMSNRB, source: RR53.RB.A45 from 2015-03-20 13:28:24.140 to 2015-03-20 13:45:14.140\n"
     ]
    },
    {
     "data": {
      "text/html": [
       "<text style=color:blue>Executing RB.A45 query function query_ee_u_dump_res_pm: 4/45.</text>"
      ],
      "text/plain": [
       "<IPython.core.display.HTML object>"
      ]
     },
     "metadata": {},
     "output_type": "display_data"
    },
    {
     "name": "stdout",
     "output_type": "stream",
     "text": [
      "\tQuerying PM event signal(s) RR53.RB.A45:U_DUMP_RES for system: QPS, className: DQAMSNRB, source: RR53.RB.A45 at 2015-03-20 13:28:34.442\n"
     ]
    },
    {
     "data": {
      "text/html": [
       "<text style=color:blue>Executing RB.A45 query function find_timestamp_pic: 5/45.</text>"
      ],
      "text/plain": [
       "<IPython.core.display.HTML object>"
      ]
     },
     "metadata": {},
     "output_type": "display_data"
    },
    {
     "name": "stdout",
     "output_type": "stream",
     "text": [
      "\tQuerying NXCALS signal(s) RB.A45.ODD:ST_ABORT_PIC, RB.A45.EVEN:ST_ABORT_PIC from 2015-03-20 13:28:33.140 to 2015-03-20 13:29:34.140\n"
     ]
    },
    {
     "data": {
      "text/html": [
       "<text style=color:blue>Executing RB.A45 query function find_source_timestamp_qds: 6/45.</text>"
      ],
      "text/plain": [
       "<IPython.core.display.HTML object>"
      ]
     },
     "metadata": {},
     "output_type": "display_data"
    },
    {
     "name": "stdout",
     "output_type": "stream",
     "text": [
      "\tQuerying PM event timestamps for system: QPS, className: DQAMCNMB_PMSTD, source: * from 2015-03-20 13:27:44.140 to 2015-03-20 13:36:54.140\n"
     ]
    },
    {
     "data": {
      "text/html": [
       "<text style=color:blue>Executing RB.A45 query function find_source_timestamp_ee: 1/45.</text>"
      ],
      "text/plain": [
       "<IPython.core.display.HTML object>"
      ]
     },
     "metadata": {},
     "output_type": "display_data"
    },
    {
     "name": "stdout",
     "output_type": "stream",
     "text": [
      "\tQuerying PM event timestamps for system: QPS, className: DQAMSNRB, source: UA47.RB.A45 from 2015-03-20 20:53:56.200 to 2015-03-20 21:10:46.200\n"
     ]
    },
    {
     "data": {
      "text/html": [
       "<text style=color:blue>Executing RB.A45 query function query_ee_u_dump_res_pm: 2/45.</text>"
      ],
      "text/plain": [
       "<IPython.core.display.HTML object>"
      ]
     },
     "metadata": {},
     "output_type": "display_data"
    },
    {
     "name": "stdout",
     "output_type": "stream",
     "text": [
      "\tQuerying PM event signal(s) UA47.RB.A45:U_DUMP_RES for system: QPS, className: DQAMSNRB, source: UA47.RB.A45 at 2015-03-20 20:54:06.773\n"
     ]
    },
    {
     "data": {
      "text/html": [
       "<text style=color:blue>Executing RB.A45 query function find_source_timestamp_ee: 3/45.</text>"
      ],
      "text/plain": [
       "<IPython.core.display.HTML object>"
      ]
     },
     "metadata": {},
     "output_type": "display_data"
    },
    {
     "name": "stdout",
     "output_type": "stream",
     "text": [
      "\tQuerying PM event timestamps for system: QPS, className: DQAMSNRB, source: RR53.RB.A45 from 2015-03-20 20:53:56.200 to 2015-03-20 21:10:46.200\n"
     ]
    },
    {
     "data": {
      "text/html": [
       "<text style=color:blue>Executing RB.A45 query function query_ee_u_dump_res_pm: 4/45.</text>"
      ],
      "text/plain": [
       "<IPython.core.display.HTML object>"
      ]
     },
     "metadata": {},
     "output_type": "display_data"
    },
    {
     "name": "stdout",
     "output_type": "stream",
     "text": [
      "\tQuerying PM event signal(s) RR53.RB.A45:U_DUMP_RES for system: QPS, className: DQAMSNRB, source: RR53.RB.A45 at 2015-03-20 20:54:06.514\n"
     ]
    },
    {
     "data": {
      "text/html": [
       "<text style=color:blue>Executing RB.A45 query function find_timestamp_pic: 5/45.</text>"
      ],
      "text/plain": [
       "<IPython.core.display.HTML object>"
      ]
     },
     "metadata": {},
     "output_type": "display_data"
    },
    {
     "name": "stdout",
     "output_type": "stream",
     "text": [
      "\tQuerying NXCALS signal(s) RB.A45.ODD:ST_ABORT_PIC, RB.A45.EVEN:ST_ABORT_PIC from 2015-03-20 20:54:05.200 to 2015-03-20 20:55:06.200\n"
     ]
    },
    {
     "data": {
      "text/html": [
       "<text style=color:blue>Executing RB.A45 query function find_source_timestamp_qds: 6/45.</text>"
      ],
      "text/plain": [
       "<IPython.core.display.HTML object>"
      ]
     },
     "metadata": {},
     "output_type": "display_data"
    },
    {
     "name": "stdout",
     "output_type": "stream",
     "text": [
      "\tQuerying PM event timestamps for system: QPS, className: DQAMCNMB_PMSTD, source: * from 2015-03-20 20:53:16.200 to 2015-03-20 21:02:26.200\n"
     ]
    },
    {
     "data": {
      "text/html": [
       "<text style=color:blue>Executing RB.A45 query function find_source_timestamp_ee: 1/45.</text>"
      ],
      "text/plain": [
       "<IPython.core.display.HTML object>"
      ]
     },
     "metadata": {},
     "output_type": "display_data"
    },
    {
     "name": "stdout",
     "output_type": "stream",
     "text": [
      "\tQuerying PM event timestamps for system: QPS, className: DQAMSNRB, source: UA47.RB.A45 from 2015-03-21 06:32:27.700 to 2015-03-21 06:49:17.700\n"
     ]
    },
    {
     "data": {
      "text/html": [
       "<text style=color:blue>Executing RB.A45 query function query_ee_u_dump_res_pm: 2/45.</text>"
      ],
      "text/plain": [
       "<IPython.core.display.HTML object>"
      ]
     },
     "metadata": {},
     "output_type": "display_data"
    },
    {
     "name": "stdout",
     "output_type": "stream",
     "text": [
      "\tQuerying PM event signal(s) UA47.RB.A45:U_DUMP_RES for system: QPS, className: DQAMSNRB, source: UA47.RB.A45 at 2015-03-21 06:32:38.258\n"
     ]
    },
    {
     "data": {
      "text/html": [
       "<text style=color:blue>Executing RB.A45 query function find_source_timestamp_ee: 3/45.</text>"
      ],
      "text/plain": [
       "<IPython.core.display.HTML object>"
      ]
     },
     "metadata": {},
     "output_type": "display_data"
    },
    {
     "name": "stdout",
     "output_type": "stream",
     "text": [
      "\tQuerying PM event timestamps for system: QPS, className: DQAMSNRB, source: RR53.RB.A45 from 2015-03-21 06:32:27.700 to 2015-03-21 06:49:17.700\n"
     ]
    },
    {
     "data": {
      "text/html": [
       "<text style=color:blue>Executing RB.A45 query function query_ee_u_dump_res_pm: 4/45.</text>"
      ],
      "text/plain": [
       "<IPython.core.display.HTML object>"
      ]
     },
     "metadata": {},
     "output_type": "display_data"
    },
    {
     "name": "stdout",
     "output_type": "stream",
     "text": [
      "\tQuerying PM event signal(s) RR53.RB.A45:U_DUMP_RES for system: QPS, className: DQAMSNRB, source: RR53.RB.A45 at 2015-03-21 06:32:38.001\n"
     ]
    },
    {
     "data": {
      "text/html": [
       "<text style=color:blue>Executing RB.A45 query function find_timestamp_pic: 5/45.</text>"
      ],
      "text/plain": [
       "<IPython.core.display.HTML object>"
      ]
     },
     "metadata": {},
     "output_type": "display_data"
    },
    {
     "name": "stdout",
     "output_type": "stream",
     "text": [
      "\tQuerying NXCALS signal(s) RB.A45.ODD:ST_ABORT_PIC, RB.A45.EVEN:ST_ABORT_PIC from 2015-03-21 06:32:36.700 to 2015-03-21 06:33:37.700\n"
     ]
    },
    {
     "data": {
      "text/html": [
       "<text style=color:blue>Executing RB.A45 query function find_source_timestamp_qds: 6/45.</text>"
      ],
      "text/plain": [
       "<IPython.core.display.HTML object>"
      ]
     },
     "metadata": {},
     "output_type": "display_data"
    },
    {
     "name": "stdout",
     "output_type": "stream",
     "text": [
      "\tQuerying PM event timestamps for system: QPS, className: DQAMCNMB_PMSTD, source: * from 2015-03-21 06:31:47.700 to 2015-03-21 06:40:57.700\n"
     ]
    },
    {
     "data": {
      "text/html": [
       "<text style=color:blue>Executing RB.A45 query function find_source_timestamp_ee: 1/45.</text>"
      ],
      "text/plain": [
       "<IPython.core.display.HTML object>"
      ]
     },
     "metadata": {},
     "output_type": "display_data"
    },
    {
     "name": "stdout",
     "output_type": "stream",
     "text": [
      "\tQuerying PM event timestamps for system: QPS, className: DQAMSNRB, source: UA47.RB.A45 from 2015-03-21 13:07:11.220 to 2015-03-21 13:24:01.220\n"
     ]
    },
    {
     "data": {
      "text/html": [
       "<text style=color:blue>Executing RB.A45 query function query_ee_u_dump_res_pm: 2/45.</text>"
      ],
      "text/plain": [
       "<IPython.core.display.HTML object>"
      ]
     },
     "metadata": {},
     "output_type": "display_data"
    },
    {
     "name": "stdout",
     "output_type": "stream",
     "text": [
      "\tQuerying PM event signal(s) UA47.RB.A45:U_DUMP_RES for system: QPS, className: DQAMSNRB, source: UA47.RB.A45 at 2015-03-21 13:07:21.782\n"
     ]
    },
    {
     "data": {
      "text/html": [
       "<text style=color:blue>Executing RB.A45 query function find_source_timestamp_ee: 3/45.</text>"
      ],
      "text/plain": [
       "<IPython.core.display.HTML object>"
      ]
     },
     "metadata": {},
     "output_type": "display_data"
    },
    {
     "name": "stdout",
     "output_type": "stream",
     "text": [
      "\tQuerying PM event timestamps for system: QPS, className: DQAMSNRB, source: RR53.RB.A45 from 2015-03-21 13:07:11.220 to 2015-03-21 13:24:01.220\n"
     ]
    },
    {
     "data": {
      "text/html": [
       "<text style=color:blue>Executing RB.A45 query function query_ee_u_dump_res_pm: 4/45.</text>"
      ],
      "text/plain": [
       "<IPython.core.display.HTML object>"
      ]
     },
     "metadata": {},
     "output_type": "display_data"
    },
    {
     "name": "stdout",
     "output_type": "stream",
     "text": [
      "\tQuerying PM event signal(s) RR53.RB.A45:U_DUMP_RES for system: QPS, className: DQAMSNRB, source: RR53.RB.A45 at 2015-03-21 13:07:21.523\n"
     ]
    },
    {
     "data": {
      "text/html": [
       "<text style=color:blue>Executing RB.A45 query function find_timestamp_pic: 5/45.</text>"
      ],
      "text/plain": [
       "<IPython.core.display.HTML object>"
      ]
     },
     "metadata": {},
     "output_type": "display_data"
    },
    {
     "name": "stdout",
     "output_type": "stream",
     "text": [
      "\tQuerying NXCALS signal(s) RB.A45.ODD:ST_ABORT_PIC, RB.A45.EVEN:ST_ABORT_PIC from 2015-03-21 13:07:20.220 to 2015-03-21 13:08:21.220\n"
     ]
    },
    {
     "data": {
      "text/html": [
       "<text style=color:blue>Executing RB.A45 query function find_source_timestamp_qds: 6/45.</text>"
      ],
      "text/plain": [
       "<IPython.core.display.HTML object>"
      ]
     },
     "metadata": {},
     "output_type": "display_data"
    },
    {
     "name": "stdout",
     "output_type": "stream",
     "text": [
      "\tQuerying PM event timestamps for system: QPS, className: DQAMCNMB_PMSTD, source: * from 2015-03-21 13:06:31.220 to 2015-03-21 13:15:41.220\n"
     ]
    },
    {
     "data": {
      "text/html": [
       "<text style=color:blue>Executing RB.A45 query function find_source_timestamp_ee: 1/45.</text>"
      ],
      "text/plain": [
       "<IPython.core.display.HTML object>"
      ]
     },
     "metadata": {},
     "output_type": "display_data"
    },
    {
     "name": "stdout",
     "output_type": "stream",
     "text": [
      "\tQuerying PM event timestamps for system: QPS, className: DQAMSNRB, source: UA47.RB.A45 from 2015-03-21 21:51:42.780 to 2015-03-21 22:08:32.780\n"
     ]
    },
    {
     "data": {
      "text/html": [
       "<text style=color:blue>Executing RB.A45 query function query_ee_u_dump_res_pm: 2/45.</text>"
      ],
      "text/plain": [
       "<IPython.core.display.HTML object>"
      ]
     },
     "metadata": {},
     "output_type": "display_data"
    },
    {
     "name": "stdout",
     "output_type": "stream",
     "text": [
      "\tQuerying PM event signal(s) UA47.RB.A45:U_DUMP_RES for system: QPS, className: DQAMSNRB, source: UA47.RB.A45 at 2015-03-21 21:51:53.351\n"
     ]
    },
    {
     "data": {
      "text/html": [
       "<text style=color:blue>Executing RB.A45 query function find_source_timestamp_ee: 3/45.</text>"
      ],
      "text/plain": [
       "<IPython.core.display.HTML object>"
      ]
     },
     "metadata": {},
     "output_type": "display_data"
    },
    {
     "name": "stdout",
     "output_type": "stream",
     "text": [
      "\tQuerying PM event timestamps for system: QPS, className: DQAMSNRB, source: RR53.RB.A45 from 2015-03-21 21:51:42.780 to 2015-03-21 22:08:32.780\n"
     ]
    },
    {
     "data": {
      "text/html": [
       "<text style=color:blue>Executing RB.A45 query function query_ee_u_dump_res_pm: 4/45.</text>"
      ],
      "text/plain": [
       "<IPython.core.display.HTML object>"
      ]
     },
     "metadata": {},
     "output_type": "display_data"
    },
    {
     "name": "stdout",
     "output_type": "stream",
     "text": [
      "\tQuerying PM event signal(s) RR53.RB.A45:U_DUMP_RES for system: QPS, className: DQAMSNRB, source: RR53.RB.A45 at 2015-03-21 21:51:53.093\n"
     ]
    },
    {
     "data": {
      "text/html": [
       "<text style=color:blue>Executing RB.A45 query function find_timestamp_pic: 5/45.</text>"
      ],
      "text/plain": [
       "<IPython.core.display.HTML object>"
      ]
     },
     "metadata": {},
     "output_type": "display_data"
    },
    {
     "name": "stdout",
     "output_type": "stream",
     "text": [
      "\tQuerying NXCALS signal(s) RB.A45.ODD:ST_ABORT_PIC, RB.A45.EVEN:ST_ABORT_PIC from 2015-03-21 21:51:51.780 to 2015-03-21 21:52:52.780\n"
     ]
    },
    {
     "data": {
      "text/html": [
       "<text style=color:blue>Executing RB.A45 query function find_source_timestamp_qds: 6/45.</text>"
      ],
      "text/plain": [
       "<IPython.core.display.HTML object>"
      ]
     },
     "metadata": {},
     "output_type": "display_data"
    },
    {
     "name": "stdout",
     "output_type": "stream",
     "text": [
      "\tQuerying PM event timestamps for system: QPS, className: DQAMCNMB_PMSTD, source: * from 2015-03-21 21:51:02.780 to 2015-03-21 22:00:12.780\n"
     ]
    },
    {
     "data": {
      "text/html": [
       "<text style=color:blue>Executing RB.A45 query function find_source_timestamp_ee: 1/45.</text>"
      ],
      "text/plain": [
       "<IPython.core.display.HTML object>"
      ]
     },
     "metadata": {},
     "output_type": "display_data"
    },
    {
     "name": "stdout",
     "output_type": "stream",
     "text": [
      "\tQuerying PM event timestamps for system: QPS, className: DQAMSNRB, source: UA47.RB.A45 from 2015-03-22 03:38:44.800 to 2015-03-22 03:55:34.800\n"
     ]
    },
    {
     "data": {
      "text/html": [
       "<text style=color:blue>Executing RB.A45 query function query_ee_u_dump_res_pm: 2/45.</text>"
      ],
      "text/plain": [
       "<IPython.core.display.HTML object>"
      ]
     },
     "metadata": {},
     "output_type": "display_data"
    },
    {
     "name": "stdout",
     "output_type": "stream",
     "text": [
      "\tQuerying PM event signal(s) UA47.RB.A45:U_DUMP_RES for system: QPS, className: DQAMSNRB, source: UA47.RB.A45 at 2015-03-22 03:38:55.375\n"
     ]
    },
    {
     "data": {
      "text/html": [
       "<text style=color:blue>Executing RB.A45 query function find_source_timestamp_ee: 3/45.</text>"
      ],
      "text/plain": [
       "<IPython.core.display.HTML object>"
      ]
     },
     "metadata": {},
     "output_type": "display_data"
    },
    {
     "name": "stdout",
     "output_type": "stream",
     "text": [
      "\tQuerying PM event timestamps for system: QPS, className: DQAMSNRB, source: RR53.RB.A45 from 2015-03-22 03:38:44.800 to 2015-03-22 03:55:34.800\n"
     ]
    },
    {
     "data": {
      "text/html": [
       "<text style=color:blue>Executing RB.A45 query function query_ee_u_dump_res_pm: 4/45.</text>"
      ],
      "text/plain": [
       "<IPython.core.display.HTML object>"
      ]
     },
     "metadata": {},
     "output_type": "display_data"
    },
    {
     "name": "stdout",
     "output_type": "stream",
     "text": [
      "\tQuerying PM event signal(s) RR53.RB.A45:U_DUMP_RES for system: QPS, className: DQAMSNRB, source: RR53.RB.A45 at 2015-03-22 03:38:55.114\n"
     ]
    },
    {
     "data": {
      "text/html": [
       "<text style=color:blue>Executing RB.A45 query function find_timestamp_pic: 5/45.</text>"
      ],
      "text/plain": [
       "<IPython.core.display.HTML object>"
      ]
     },
     "metadata": {},
     "output_type": "display_data"
    },
    {
     "name": "stdout",
     "output_type": "stream",
     "text": [
      "\tQuerying NXCALS signal(s) RB.A45.ODD:ST_ABORT_PIC, RB.A45.EVEN:ST_ABORT_PIC from 2015-03-22 03:38:53.800 to 2015-03-22 03:39:54.800\n"
     ]
    },
    {
     "data": {
      "text/html": [
       "<text style=color:blue>Executing RB.A45 query function find_source_timestamp_qds: 6/45.</text>"
      ],
      "text/plain": [
       "<IPython.core.display.HTML object>"
      ]
     },
     "metadata": {},
     "output_type": "display_data"
    },
    {
     "name": "stdout",
     "output_type": "stream",
     "text": [
      "\tQuerying PM event timestamps for system: QPS, className: DQAMCNMB_PMSTD, source: * from 2015-03-22 03:38:04.800 to 2015-03-22 03:47:14.800\n"
     ]
    },
    {
     "data": {
      "text/html": [
       "<text style=color:blue>Executing RB.A45 query function find_source_timestamp_ee: 1/45.</text>"
      ],
      "text/plain": [
       "<IPython.core.display.HTML object>"
      ]
     },
     "metadata": {},
     "output_type": "display_data"
    },
    {
     "name": "stdout",
     "output_type": "stream",
     "text": [
      "\tQuerying PM event timestamps for system: QPS, className: DQAMSNRB, source: UA47.RB.A45 from 2015-03-22 09:14:15.360 to 2015-03-22 09:31:05.360\n"
     ]
    },
    {
     "data": {
      "text/html": [
       "<text style=color:blue>Executing RB.A45 query function query_ee_u_dump_res_pm: 2/45.</text>"
      ],
      "text/plain": [
       "<IPython.core.display.HTML object>"
      ]
     },
     "metadata": {},
     "output_type": "display_data"
    },
    {
     "name": "stdout",
     "output_type": "stream",
     "text": [
      "\tQuerying PM event signal(s) UA47.RB.A45:U_DUMP_RES for system: QPS, className: DQAMSNRB, source: UA47.RB.A45 at 2015-03-22 09:14:25.930\n"
     ]
    },
    {
     "data": {
      "text/html": [
       "<text style=color:blue>Executing RB.A45 query function find_source_timestamp_ee: 3/45.</text>"
      ],
      "text/plain": [
       "<IPython.core.display.HTML object>"
      ]
     },
     "metadata": {},
     "output_type": "display_data"
    },
    {
     "name": "stdout",
     "output_type": "stream",
     "text": [
      "\tQuerying PM event timestamps for system: QPS, className: DQAMSNRB, source: RR53.RB.A45 from 2015-03-22 09:14:15.360 to 2015-03-22 09:31:05.360\n"
     ]
    },
    {
     "data": {
      "text/html": [
       "<text style=color:blue>Executing RB.A45 query function query_ee_u_dump_res_pm: 4/45.</text>"
      ],
      "text/plain": [
       "<IPython.core.display.HTML object>"
      ]
     },
     "metadata": {},
     "output_type": "display_data"
    },
    {
     "name": "stdout",
     "output_type": "stream",
     "text": [
      "\tQuerying PM event signal(s) RR53.RB.A45:U_DUMP_RES for system: QPS, className: DQAMSNRB, source: RR53.RB.A45 at 2015-03-22 09:14:25.670\n"
     ]
    },
    {
     "data": {
      "text/html": [
       "<text style=color:blue>Executing RB.A45 query function find_timestamp_pic: 5/45.</text>"
      ],
      "text/plain": [
       "<IPython.core.display.HTML object>"
      ]
     },
     "metadata": {},
     "output_type": "display_data"
    },
    {
     "name": "stdout",
     "output_type": "stream",
     "text": [
      "\tQuerying NXCALS signal(s) RB.A45.ODD:ST_ABORT_PIC, RB.A45.EVEN:ST_ABORT_PIC from 2015-03-22 09:14:24.360 to 2015-03-22 09:15:25.360\n"
     ]
    },
    {
     "data": {
      "text/html": [
       "<text style=color:blue>Executing RB.A45 query function find_source_timestamp_qds: 6/45.</text>"
      ],
      "text/plain": [
       "<IPython.core.display.HTML object>"
      ]
     },
     "metadata": {},
     "output_type": "display_data"
    },
    {
     "name": "stdout",
     "output_type": "stream",
     "text": [
      "\tQuerying PM event timestamps for system: QPS, className: DQAMCNMB_PMSTD, source: * from 2015-03-22 09:13:35.360 to 2015-03-22 09:22:45.360\n"
     ]
    },
    {
     "data": {
      "text/html": [
       "<text style=color:blue>Executing RB.A45 query function find_source_timestamp_ee: 1/45.</text>"
      ],
      "text/plain": [
       "<IPython.core.display.HTML object>"
      ]
     },
     "metadata": {},
     "output_type": "display_data"
    },
    {
     "name": "stdout",
     "output_type": "stream",
     "text": [
      "\tQuerying PM event timestamps for system: QPS, className: DQAMSNRB, source: UA47.RB.A45 from 2015-03-22 18:50:51.080 to 2015-03-22 19:07:41.080\n"
     ]
    },
    {
     "data": {
      "text/html": [
       "<text style=color:blue>Executing RB.A45 query function query_ee_u_dump_res_pm: 2/45.</text>"
      ],
      "text/plain": [
       "<IPython.core.display.HTML object>"
      ]
     },
     "metadata": {},
     "output_type": "display_data"
    },
    {
     "name": "stdout",
     "output_type": "stream",
     "text": [
      "\tQuerying PM event signal(s) UA47.RB.A45:U_DUMP_RES for system: QPS, className: DQAMSNRB, source: UA47.RB.A45 at 2015-03-22 18:51:01.641\n"
     ]
    },
    {
     "data": {
      "text/html": [
       "<text style=color:blue>Executing RB.A45 query function find_source_timestamp_ee: 3/45.</text>"
      ],
      "text/plain": [
       "<IPython.core.display.HTML object>"
      ]
     },
     "metadata": {},
     "output_type": "display_data"
    },
    {
     "name": "stdout",
     "output_type": "stream",
     "text": [
      "\tQuerying PM event timestamps for system: QPS, className: DQAMSNRB, source: RR53.RB.A45 from 2015-03-22 18:50:51.080 to 2015-03-22 19:07:41.080\n"
     ]
    },
    {
     "data": {
      "text/html": [
       "<text style=color:blue>Executing RB.A45 query function query_ee_u_dump_res_pm: 4/45.</text>"
      ],
      "text/plain": [
       "<IPython.core.display.HTML object>"
      ]
     },
     "metadata": {},
     "output_type": "display_data"
    },
    {
     "name": "stdout",
     "output_type": "stream",
     "text": [
      "\tQuerying PM event signal(s) RR53.RB.A45:U_DUMP_RES for system: QPS, className: DQAMSNRB, source: RR53.RB.A45 at 2015-03-22 18:51:01.386\n"
     ]
    },
    {
     "data": {
      "text/html": [
       "<text style=color:blue>Executing RB.A45 query function find_timestamp_pic: 5/45.</text>"
      ],
      "text/plain": [
       "<IPython.core.display.HTML object>"
      ]
     },
     "metadata": {},
     "output_type": "display_data"
    },
    {
     "name": "stdout",
     "output_type": "stream",
     "text": [
      "\tQuerying NXCALS signal(s) RB.A45.ODD:ST_ABORT_PIC, RB.A45.EVEN:ST_ABORT_PIC from 2015-03-22 18:51:00.080 to 2015-03-22 18:52:01.080\n"
     ]
    },
    {
     "data": {
      "text/html": [
       "<text style=color:blue>Executing RB.A45 query function find_source_timestamp_qds: 6/45.</text>"
      ],
      "text/plain": [
       "<IPython.core.display.HTML object>"
      ]
     },
     "metadata": {},
     "output_type": "display_data"
    },
    {
     "name": "stdout",
     "output_type": "stream",
     "text": [
      "\tQuerying PM event timestamps for system: QPS, className: DQAMCNMB_PMSTD, source: * from 2015-03-22 18:50:11.080 to 2015-03-22 18:59:21.080\n"
     ]
    },
    {
     "data": {
      "text/html": [
       "<text style=color:blue>Executing RB.A45 query function find_source_timestamp_ee: 1/45.</text>"
      ],
      "text/plain": [
       "<IPython.core.display.HTML object>"
      ]
     },
     "metadata": {},
     "output_type": "display_data"
    },
    {
     "name": "stdout",
     "output_type": "stream",
     "text": [
      "\tQuerying PM event timestamps for system: QPS, className: DQAMSNRB, source: UA47.RB.A45 from 2015-03-23 00:20:40.380 to 2015-03-23 00:37:30.380\n"
     ]
    },
    {
     "data": {
      "text/html": [
       "<text style=color:blue>Executing RB.A45 query function query_ee_u_dump_res_pm: 2/45.</text>"
      ],
      "text/plain": [
       "<IPython.core.display.HTML object>"
      ]
     },
     "metadata": {},
     "output_type": "display_data"
    },
    {
     "name": "stdout",
     "output_type": "stream",
     "text": [
      "\tQuerying PM event signal(s) UA47.RB.A45:U_DUMP_RES for system: QPS, className: DQAMSNRB, source: UA47.RB.A45 at 2015-03-23 00:20:50.938\n"
     ]
    },
    {
     "data": {
      "text/html": [
       "<text style=color:blue>Executing RB.A45 query function find_source_timestamp_ee: 3/45.</text>"
      ],
      "text/plain": [
       "<IPython.core.display.HTML object>"
      ]
     },
     "metadata": {},
     "output_type": "display_data"
    },
    {
     "name": "stdout",
     "output_type": "stream",
     "text": [
      "\tQuerying PM event timestamps for system: QPS, className: DQAMSNRB, source: RR53.RB.A45 from 2015-03-23 00:20:40.380 to 2015-03-23 00:37:30.380\n"
     ]
    },
    {
     "data": {
      "text/html": [
       "<text style=color:blue>Executing RB.A45 query function query_ee_u_dump_res_pm: 4/45.</text>"
      ],
      "text/plain": [
       "<IPython.core.display.HTML object>"
      ]
     },
     "metadata": {},
     "output_type": "display_data"
    },
    {
     "name": "stdout",
     "output_type": "stream",
     "text": [
      "\tQuerying PM event signal(s) RR53.RB.A45:U_DUMP_RES for system: QPS, className: DQAMSNRB, source: RR53.RB.A45 at 2015-03-23 00:20:50.679\n"
     ]
    },
    {
     "data": {
      "text/html": [
       "<text style=color:blue>Executing RB.A45 query function find_timestamp_pic: 5/45.</text>"
      ],
      "text/plain": [
       "<IPython.core.display.HTML object>"
      ]
     },
     "metadata": {},
     "output_type": "display_data"
    },
    {
     "name": "stdout",
     "output_type": "stream",
     "text": [
      "\tQuerying NXCALS signal(s) RB.A45.ODD:ST_ABORT_PIC, RB.A45.EVEN:ST_ABORT_PIC from 2015-03-23 00:20:49.380 to 2015-03-23 00:21:50.380\n"
     ]
    },
    {
     "data": {
      "text/html": [
       "<text style=color:blue>Executing RB.A45 query function find_source_timestamp_qds: 6/45.</text>"
      ],
      "text/plain": [
       "<IPython.core.display.HTML object>"
      ]
     },
     "metadata": {},
     "output_type": "display_data"
    },
    {
     "name": "stdout",
     "output_type": "stream",
     "text": [
      "\tQuerying PM event timestamps for system: QPS, className: DQAMCNMB_PMSTD, source: * from 2015-03-23 00:20:00.380 to 2015-03-23 00:29:10.380\n"
     ]
    },
    {
     "data": {
      "text/html": [
       "<text style=color:blue>Executing RB.A45 query function find_source_timestamp_ee: 1/45.</text>"
      ],
      "text/plain": [
       "<IPython.core.display.HTML object>"
      ]
     },
     "metadata": {},
     "output_type": "display_data"
    },
    {
     "name": "stdout",
     "output_type": "stream",
     "text": [
      "\tQuerying PM event timestamps for system: QPS, className: DQAMSNRB, source: UA47.RB.A45 from 2015-03-23 09:26:09.980 to 2015-03-23 09:42:59.980\n"
     ]
    },
    {
     "data": {
      "text/html": [
       "<text style=color:blue>Executing RB.A45 query function query_ee_u_dump_res_pm: 2/45.</text>"
      ],
      "text/plain": [
       "<IPython.core.display.HTML object>"
      ]
     },
     "metadata": {},
     "output_type": "display_data"
    },
    {
     "name": "stdout",
     "output_type": "stream",
     "text": [
      "\tQuerying PM event signal(s) UA47.RB.A45:U_DUMP_RES for system: QPS, className: DQAMSNRB, source: UA47.RB.A45 at 2015-03-23 09:26:20.539\n"
     ]
    },
    {
     "data": {
      "text/html": [
       "<text style=color:blue>Executing RB.A45 query function find_source_timestamp_ee: 3/45.</text>"
      ],
      "text/plain": [
       "<IPython.core.display.HTML object>"
      ]
     },
     "metadata": {},
     "output_type": "display_data"
    },
    {
     "name": "stdout",
     "output_type": "stream",
     "text": [
      "\tQuerying PM event timestamps for system: QPS, className: DQAMSNRB, source: RR53.RB.A45 from 2015-03-23 09:26:09.980 to 2015-03-23 09:42:59.980\n"
     ]
    },
    {
     "data": {
      "text/html": [
       "<text style=color:blue>Executing RB.A45 query function query_ee_u_dump_res_pm: 4/45.</text>"
      ],
      "text/plain": [
       "<IPython.core.display.HTML object>"
      ]
     },
     "metadata": {},
     "output_type": "display_data"
    },
    {
     "name": "stdout",
     "output_type": "stream",
     "text": [
      "\tQuerying PM event signal(s) RR53.RB.A45:U_DUMP_RES for system: QPS, className: DQAMSNRB, source: RR53.RB.A45 at 2015-03-23 09:26:20.280\n"
     ]
    },
    {
     "data": {
      "text/html": [
       "<text style=color:blue>Executing RB.A45 query function find_timestamp_pic: 5/45.</text>"
      ],
      "text/plain": [
       "<IPython.core.display.HTML object>"
      ]
     },
     "metadata": {},
     "output_type": "display_data"
    },
    {
     "name": "stdout",
     "output_type": "stream",
     "text": [
      "\tQuerying NXCALS signal(s) RB.A45.ODD:ST_ABORT_PIC, RB.A45.EVEN:ST_ABORT_PIC from 2015-03-23 09:26:18.980 to 2015-03-23 09:27:19.980\n"
     ]
    },
    {
     "data": {
      "text/html": [
       "<text style=color:blue>Executing RB.A45 query function find_source_timestamp_qds: 6/45.</text>"
      ],
      "text/plain": [
       "<IPython.core.display.HTML object>"
      ]
     },
     "metadata": {},
     "output_type": "display_data"
    },
    {
     "name": "stdout",
     "output_type": "stream",
     "text": [
      "\tQuerying PM event timestamps for system: QPS, className: DQAMCNMB_PMSTD, source: * from 2015-03-23 09:25:29.980 to 2015-03-23 09:34:39.980\n"
     ]
    },
    {
     "data": {
      "text/html": [
       "<text style=color:blue>Executing RB.A45 query function find_source_timestamp_ee: 1/45.</text>"
      ],
      "text/plain": [
       "<IPython.core.display.HTML object>"
      ]
     },
     "metadata": {},
     "output_type": "display_data"
    },
    {
     "name": "stdout",
     "output_type": "stream",
     "text": [
      "\tQuerying PM event timestamps for system: QPS, className: DQAMSNRB, source: UA47.RB.A45 from 2015-03-23 21:20:07 to 2015-03-23 21:36:57\n"
     ]
    },
    {
     "data": {
      "text/html": [
       "<text style=color:blue>Executing RB.A45 query function query_ee_u_dump_res_pm: 2/45.</text>"
      ],
      "text/plain": [
       "<IPython.core.display.HTML object>"
      ]
     },
     "metadata": {},
     "output_type": "display_data"
    },
    {
     "name": "stdout",
     "output_type": "stream",
     "text": [
      "\tQuerying PM event signal(s) UA47.RB.A45:U_DUMP_RES for system: QPS, className: DQAMSNRB, source: UA47.RB.A45 at 2015-03-23 21:20:17.561\n"
     ]
    },
    {
     "data": {
      "text/html": [
       "<text style=color:blue>Executing RB.A45 query function find_source_timestamp_ee: 3/45.</text>"
      ],
      "text/plain": [
       "<IPython.core.display.HTML object>"
      ]
     },
     "metadata": {},
     "output_type": "display_data"
    },
    {
     "name": "stdout",
     "output_type": "stream",
     "text": [
      "\tQuerying PM event timestamps for system: QPS, className: DQAMSNRB, source: RR53.RB.A45 from 2015-03-23 21:20:07 to 2015-03-23 21:36:57\n"
     ]
    },
    {
     "data": {
      "text/html": [
       "<text style=color:blue>Executing RB.A45 query function query_ee_u_dump_res_pm: 4/45.</text>"
      ],
      "text/plain": [
       "<IPython.core.display.HTML object>"
      ]
     },
     "metadata": {},
     "output_type": "display_data"
    },
    {
     "name": "stdout",
     "output_type": "stream",
     "text": [
      "\tQuerying PM event signal(s) RR53.RB.A45:U_DUMP_RES for system: QPS, className: DQAMSNRB, source: RR53.RB.A45 at 2015-03-23 21:20:17.302\n"
     ]
    },
    {
     "data": {
      "text/html": [
       "<text style=color:blue>Executing RB.A45 query function find_timestamp_pic: 5/45.</text>"
      ],
      "text/plain": [
       "<IPython.core.display.HTML object>"
      ]
     },
     "metadata": {},
     "output_type": "display_data"
    },
    {
     "name": "stdout",
     "output_type": "stream",
     "text": [
      "\tQuerying NXCALS signal(s) RB.A45.ODD:ST_ABORT_PIC, RB.A45.EVEN:ST_ABORT_PIC from 2015-03-23 21:20:16 to 2015-03-23 21:21:17\n"
     ]
    },
    {
     "data": {
      "text/html": [
       "<text style=color:blue>Executing RB.A45 query function find_source_timestamp_qds: 6/45.</text>"
      ],
      "text/plain": [
       "<IPython.core.display.HTML object>"
      ]
     },
     "metadata": {},
     "output_type": "display_data"
    },
    {
     "name": "stdout",
     "output_type": "stream",
     "text": [
      "\tQuerying PM event timestamps for system: QPS, className: DQAMCNMB_PMSTD, source: * from 2015-03-23 21:19:27 to 2015-03-23 21:28:37\n"
     ]
    },
    {
     "data": {
      "text/html": [
       "<text style=color:blue>Executing RB.A45 query function find_source_timestamp_ee: 1/45.</text>"
      ],
      "text/plain": [
       "<IPython.core.display.HTML object>"
      ]
     },
     "metadata": {},
     "output_type": "display_data"
    },
    {
     "name": "stdout",
     "output_type": "stream",
     "text": [
      "\tQuerying PM event timestamps for system: QPS, className: DQAMSNRB, source: UA47.RB.A45 from 2015-03-24 05:17:36.060 to 2015-03-24 05:34:26.060\n"
     ]
    },
    {
     "data": {
      "text/html": [
       "<text style=color:blue>Executing RB.A45 query function query_ee_u_dump_res_pm: 2/45.</text>"
      ],
      "text/plain": [
       "<IPython.core.display.HTML object>"
      ]
     },
     "metadata": {},
     "output_type": "display_data"
    },
    {
     "name": "stdout",
     "output_type": "stream",
     "text": [
      "\tQuerying PM event signal(s) UA47.RB.A45:U_DUMP_RES for system: QPS, className: DQAMSNRB, source: UA47.RB.A45 at 2015-03-24 05:17:46.614\n"
     ]
    },
    {
     "data": {
      "text/html": [
       "<text style=color:blue>Executing RB.A45 query function find_source_timestamp_ee: 3/45.</text>"
      ],
      "text/plain": [
       "<IPython.core.display.HTML object>"
      ]
     },
     "metadata": {},
     "output_type": "display_data"
    },
    {
     "name": "stdout",
     "output_type": "stream",
     "text": [
      "\tQuerying PM event timestamps for system: QPS, className: DQAMSNRB, source: RR53.RB.A45 from 2015-03-24 05:17:36.060 to 2015-03-24 05:34:26.060\n"
     ]
    },
    {
     "data": {
      "text/html": [
       "<text style=color:blue>Executing RB.A45 query function query_ee_u_dump_res_pm: 4/45.</text>"
      ],
      "text/plain": [
       "<IPython.core.display.HTML object>"
      ]
     },
     "metadata": {},
     "output_type": "display_data"
    },
    {
     "name": "stdout",
     "output_type": "stream",
     "text": [
      "\tQuerying PM event signal(s) RR53.RB.A45:U_DUMP_RES for system: QPS, className: DQAMSNRB, source: RR53.RB.A45 at 2015-03-24 05:17:46.358\n"
     ]
    },
    {
     "data": {
      "text/html": [
       "<text style=color:blue>Executing RB.A45 query function find_timestamp_pic: 5/45.</text>"
      ],
      "text/plain": [
       "<IPython.core.display.HTML object>"
      ]
     },
     "metadata": {},
     "output_type": "display_data"
    },
    {
     "name": "stdout",
     "output_type": "stream",
     "text": [
      "\tQuerying NXCALS signal(s) RB.A45.ODD:ST_ABORT_PIC, RB.A45.EVEN:ST_ABORT_PIC from 2015-03-24 05:17:45.060 to 2015-03-24 05:18:46.060\n"
     ]
    },
    {
     "data": {
      "text/html": [
       "<text style=color:blue>Executing RB.A45 query function find_source_timestamp_qds: 6/45.</text>"
      ],
      "text/plain": [
       "<IPython.core.display.HTML object>"
      ]
     },
     "metadata": {},
     "output_type": "display_data"
    },
    {
     "name": "stdout",
     "output_type": "stream",
     "text": [
      "\tQuerying PM event timestamps for system: QPS, className: DQAMCNMB_PMSTD, source: * from 2015-03-24 05:16:56.060 to 2015-03-24 05:26:06.060\n"
     ]
    },
    {
     "data": {
      "text/html": [
       "<text style=color:blue>Executing RB.A45 query function find_source_timestamp_ee: 1/45.</text>"
      ],
      "text/plain": [
       "<IPython.core.display.HTML object>"
      ]
     },
     "metadata": {},
     "output_type": "display_data"
    },
    {
     "name": "stdout",
     "output_type": "stream",
     "text": [
      "\tQuerying PM event timestamps for system: QPS, className: DQAMSNRB, source: UA47.RB.A45 from 2015-03-24 16:03:18.720 to 2015-03-24 16:20:08.720\n"
     ]
    },
    {
     "data": {
      "text/html": [
       "<text style=color:blue>Executing RB.A45 query function query_ee_u_dump_res_pm: 2/45.</text>"
      ],
      "text/plain": [
       "<IPython.core.display.HTML object>"
      ]
     },
     "metadata": {},
     "output_type": "display_data"
    },
    {
     "name": "stdout",
     "output_type": "stream",
     "text": [
      "\tQuerying PM event signal(s) UA47.RB.A45:U_DUMP_RES for system: QPS, className: DQAMSNRB, source: UA47.RB.A45 at 2015-03-24 16:03:29.289\n"
     ]
    },
    {
     "data": {
      "text/html": [
       "<text style=color:blue>Executing RB.A45 query function find_source_timestamp_ee: 3/45.</text>"
      ],
      "text/plain": [
       "<IPython.core.display.HTML object>"
      ]
     },
     "metadata": {},
     "output_type": "display_data"
    },
    {
     "name": "stdout",
     "output_type": "stream",
     "text": [
      "\tQuerying PM event timestamps for system: QPS, className: DQAMSNRB, source: RR53.RB.A45 from 2015-03-24 16:03:18.720 to 2015-03-24 16:20:08.720\n"
     ]
    },
    {
     "data": {
      "text/html": [
       "<text style=color:blue>Executing RB.A45 query function query_ee_u_dump_res_pm: 4/45.</text>"
      ],
      "text/plain": [
       "<IPython.core.display.HTML object>"
      ]
     },
     "metadata": {},
     "output_type": "display_data"
    },
    {
     "name": "stdout",
     "output_type": "stream",
     "text": [
      "\tQuerying PM event signal(s) RR53.RB.A45:U_DUMP_RES for system: QPS, className: DQAMSNRB, source: RR53.RB.A45 at 2015-03-24 16:03:29.031\n"
     ]
    },
    {
     "data": {
      "text/html": [
       "<text style=color:blue>Executing RB.A45 query function find_timestamp_pic: 5/45.</text>"
      ],
      "text/plain": [
       "<IPython.core.display.HTML object>"
      ]
     },
     "metadata": {},
     "output_type": "display_data"
    },
    {
     "name": "stdout",
     "output_type": "stream",
     "text": [
      "\tQuerying NXCALS signal(s) RB.A45.ODD:ST_ABORT_PIC, RB.A45.EVEN:ST_ABORT_PIC from 2015-03-24 16:03:27.720 to 2015-03-24 16:04:28.720\n"
     ]
    },
    {
     "data": {
      "text/html": [
       "<text style=color:blue>Executing RB.A45 query function find_source_timestamp_qds: 6/45.</text>"
      ],
      "text/plain": [
       "<IPython.core.display.HTML object>"
      ]
     },
     "metadata": {},
     "output_type": "display_data"
    },
    {
     "name": "stdout",
     "output_type": "stream",
     "text": [
      "\tQuerying PM event timestamps for system: QPS, className: DQAMCNMB_PMSTD, source: * from 2015-03-24 16:02:38.720 to 2015-03-24 16:11:48.720\n"
     ]
    },
    {
     "data": {
      "text/html": [
       "<text style=color:blue>Executing RB.A45 query function find_source_timestamp_ee: 1/45.</text>"
      ],
      "text/plain": [
       "<IPython.core.display.HTML object>"
      ]
     },
     "metadata": {},
     "output_type": "display_data"
    },
    {
     "name": "stdout",
     "output_type": "stream",
     "text": [
      "\tQuerying PM event timestamps for system: QPS, className: DQAMSNRB, source: UA47.RB.A45 from 2015-03-24 21:46:49.700 to 2015-03-24 22:03:39.700\n"
     ]
    },
    {
     "data": {
      "text/html": [
       "<text style=color:blue>Executing RB.A45 query function query_ee_u_dump_res_pm: 2/45.</text>"
      ],
      "text/plain": [
       "<IPython.core.display.HTML object>"
      ]
     },
     "metadata": {},
     "output_type": "display_data"
    },
    {
     "name": "stdout",
     "output_type": "stream",
     "text": [
      "\tQuerying PM event signal(s) UA47.RB.A45:U_DUMP_RES for system: QPS, className: DQAMSNRB, source: UA47.RB.A45 at 2015-03-24 21:47:00.267\n"
     ]
    },
    {
     "data": {
      "text/html": [
       "<text style=color:blue>Executing RB.A45 query function find_source_timestamp_ee: 3/45.</text>"
      ],
      "text/plain": [
       "<IPython.core.display.HTML object>"
      ]
     },
     "metadata": {},
     "output_type": "display_data"
    },
    {
     "name": "stdout",
     "output_type": "stream",
     "text": [
      "\tQuerying PM event timestamps for system: QPS, className: DQAMSNRB, source: RR53.RB.A45 from 2015-03-24 21:46:49.700 to 2015-03-24 22:03:39.700\n"
     ]
    },
    {
     "data": {
      "text/html": [
       "<text style=color:blue>Executing RB.A45 query function query_ee_u_dump_res_pm: 4/45.</text>"
      ],
      "text/plain": [
       "<IPython.core.display.HTML object>"
      ]
     },
     "metadata": {},
     "output_type": "display_data"
    },
    {
     "name": "stdout",
     "output_type": "stream",
     "text": [
      "\tQuerying PM event signal(s) RR53.RB.A45:U_DUMP_RES for system: QPS, className: DQAMSNRB, source: RR53.RB.A45 at 2015-03-24 21:47:00.008\n"
     ]
    },
    {
     "data": {
      "text/html": [
       "<text style=color:blue>Executing RB.A45 query function find_timestamp_pic: 5/45.</text>"
      ],
      "text/plain": [
       "<IPython.core.display.HTML object>"
      ]
     },
     "metadata": {},
     "output_type": "display_data"
    },
    {
     "name": "stdout",
     "output_type": "stream",
     "text": [
      "\tQuerying NXCALS signal(s) RB.A45.ODD:ST_ABORT_PIC, RB.A45.EVEN:ST_ABORT_PIC from 2015-03-24 21:46:58.700 to 2015-03-24 21:47:59.700\n"
     ]
    },
    {
     "data": {
      "text/html": [
       "<text style=color:blue>Executing RB.A45 query function find_source_timestamp_qds: 6/45.</text>"
      ],
      "text/plain": [
       "<IPython.core.display.HTML object>"
      ]
     },
     "metadata": {},
     "output_type": "display_data"
    },
    {
     "name": "stdout",
     "output_type": "stream",
     "text": [
      "\tQuerying PM event timestamps for system: QPS, className: DQAMCNMB_PMSTD, source: * from 2015-03-24 21:46:09.700 to 2015-03-24 21:55:19.700\n"
     ]
    },
    {
     "data": {
      "text/html": [
       "<text style=color:blue>Executing RB.A45 query function find_source_timestamp_ee: 1/45.</text>"
      ],
      "text/plain": [
       "<IPython.core.display.HTML object>"
      ]
     },
     "metadata": {},
     "output_type": "display_data"
    },
    {
     "name": "stdout",
     "output_type": "stream",
     "text": [
      "\tQuerying PM event timestamps for system: QPS, className: DQAMSNRB, source: UA47.RB.A45 from 2015-03-25 06:01:58.540 to 2015-03-25 06:18:48.540\n"
     ]
    },
    {
     "data": {
      "text/html": [
       "<text style=color:blue>Executing RB.A45 query function query_ee_u_dump_res_pm: 2/45.</text>"
      ],
      "text/plain": [
       "<IPython.core.display.HTML object>"
      ]
     },
     "metadata": {},
     "output_type": "display_data"
    },
    {
     "name": "stdout",
     "output_type": "stream",
     "text": [
      "\tQuerying PM event signal(s) UA47.RB.A45:U_DUMP_RES for system: QPS, className: DQAMSNRB, source: UA47.RB.A45 at 2015-03-25 06:02:09.098\n"
     ]
    },
    {
     "data": {
      "text/html": [
       "<text style=color:blue>Executing RB.A45 query function find_source_timestamp_ee: 3/45.</text>"
      ],
      "text/plain": [
       "<IPython.core.display.HTML object>"
      ]
     },
     "metadata": {},
     "output_type": "display_data"
    },
    {
     "name": "stdout",
     "output_type": "stream",
     "text": [
      "\tQuerying PM event timestamps for system: QPS, className: DQAMSNRB, source: RR53.RB.A45 from 2015-03-25 06:01:58.540 to 2015-03-25 06:18:48.540\n"
     ]
    },
    {
     "data": {
      "text/html": [
       "<text style=color:blue>Executing RB.A45 query function query_ee_u_dump_res_pm: 4/45.</text>"
      ],
      "text/plain": [
       "<IPython.core.display.HTML object>"
      ]
     },
     "metadata": {},
     "output_type": "display_data"
    },
    {
     "name": "stdout",
     "output_type": "stream",
     "text": [
      "\tQuerying PM event signal(s) RR53.RB.A45:U_DUMP_RES for system: QPS, className: DQAMSNRB, source: RR53.RB.A45 at 2015-03-25 06:02:08.840\n"
     ]
    },
    {
     "data": {
      "text/html": [
       "<text style=color:blue>Executing RB.A45 query function find_timestamp_pic: 5/45.</text>"
      ],
      "text/plain": [
       "<IPython.core.display.HTML object>"
      ]
     },
     "metadata": {},
     "output_type": "display_data"
    },
    {
     "name": "stdout",
     "output_type": "stream",
     "text": [
      "\tQuerying NXCALS signal(s) RB.A45.ODD:ST_ABORT_PIC, RB.A45.EVEN:ST_ABORT_PIC from 2015-03-25 06:02:07.540 to 2015-03-25 06:03:08.540\n"
     ]
    },
    {
     "data": {
      "text/html": [
       "<text style=color:blue>Executing RB.A45 query function find_source_timestamp_qds: 6/45.</text>"
      ],
      "text/plain": [
       "<IPython.core.display.HTML object>"
      ]
     },
     "metadata": {},
     "output_type": "display_data"
    },
    {
     "name": "stdout",
     "output_type": "stream",
     "text": [
      "\tQuerying PM event timestamps for system: QPS, className: DQAMCNMB_PMSTD, source: * from 2015-03-25 06:01:18.540 to 2015-03-25 06:10:28.540\n"
     ]
    },
    {
     "data": {
      "text/html": [
       "<text style=color:blue>Executing RB.A45 query function find_source_timestamp_ee: 1/45.</text>"
      ],
      "text/plain": [
       "<IPython.core.display.HTML object>"
      ]
     },
     "metadata": {},
     "output_type": "display_data"
    },
    {
     "name": "stdout",
     "output_type": "stream",
     "text": [
      "\tQuerying PM event timestamps for system: QPS, className: DQAMSNRB, source: UA47.RB.A45 from 2015-03-25 17:42:45.660 to 2015-03-25 17:59:35.660\n"
     ]
    },
    {
     "data": {
      "text/html": [
       "<text style=color:blue>Executing RB.A45 query function query_ee_u_dump_res_pm: 2/45.</text>"
      ],
      "text/plain": [
       "<IPython.core.display.HTML object>"
      ]
     },
     "metadata": {},
     "output_type": "display_data"
    },
    {
     "name": "stdout",
     "output_type": "stream",
     "text": [
      "\tQuerying PM event signal(s) UA47.RB.A45:U_DUMP_RES for system: QPS, className: DQAMSNRB, source: UA47.RB.A45 at 2015-03-25 17:42:56.225\n"
     ]
    },
    {
     "data": {
      "text/html": [
       "<text style=color:blue>Executing RB.A45 query function find_source_timestamp_ee: 3/45.</text>"
      ],
      "text/plain": [
       "<IPython.core.display.HTML object>"
      ]
     },
     "metadata": {},
     "output_type": "display_data"
    },
    {
     "name": "stdout",
     "output_type": "stream",
     "text": [
      "\tQuerying PM event timestamps for system: QPS, className: DQAMSNRB, source: RR53.RB.A45 from 2015-03-25 17:42:45.660 to 2015-03-25 17:59:35.660\n"
     ]
    },
    {
     "data": {
      "text/html": [
       "<text style=color:blue>Executing RB.A45 query function query_ee_u_dump_res_pm: 4/45.</text>"
      ],
      "text/plain": [
       "<IPython.core.display.HTML object>"
      ]
     },
     "metadata": {},
     "output_type": "display_data"
    },
    {
     "name": "stdout",
     "output_type": "stream",
     "text": [
      "\tQuerying PM event signal(s) RR53.RB.A45:U_DUMP_RES for system: QPS, className: DQAMSNRB, source: RR53.RB.A45 at 2015-03-25 17:42:55.968\n"
     ]
    },
    {
     "data": {
      "text/html": [
       "<text style=color:blue>Executing RB.A45 query function find_timestamp_pic: 5/45.</text>"
      ],
      "text/plain": [
       "<IPython.core.display.HTML object>"
      ]
     },
     "metadata": {},
     "output_type": "display_data"
    },
    {
     "name": "stdout",
     "output_type": "stream",
     "text": [
      "\tQuerying NXCALS signal(s) RB.A45.ODD:ST_ABORT_PIC, RB.A45.EVEN:ST_ABORT_PIC from 2015-03-25 17:42:54.660 to 2015-03-25 17:43:55.660\n"
     ]
    },
    {
     "data": {
      "text/html": [
       "<text style=color:blue>Executing RB.A45 query function find_source_timestamp_qds: 6/45.</text>"
      ],
      "text/plain": [
       "<IPython.core.display.HTML object>"
      ]
     },
     "metadata": {},
     "output_type": "display_data"
    },
    {
     "name": "stdout",
     "output_type": "stream",
     "text": [
      "\tQuerying PM event timestamps for system: QPS, className: DQAMCNMB_PMSTD, source: * from 2015-03-25 17:42:05.660 to 2015-03-25 17:51:15.660\n"
     ]
    },
    {
     "data": {
      "text/html": [
       "<text style=color:blue>Executing RB.A45 query function find_source_timestamp_ee: 1/45.</text>"
      ],
      "text/plain": [
       "<IPython.core.display.HTML object>"
      ]
     },
     "metadata": {},
     "output_type": "display_data"
    },
    {
     "name": "stdout",
     "output_type": "stream",
     "text": [
      "\tQuerying PM event timestamps for system: QPS, className: DQAMSNRB, source: UA47.RB.A45 from 2015-03-26 05:19:27.420 to 2015-03-26 05:36:17.420\n"
     ]
    },
    {
     "data": {
      "text/html": [
       "<text style=color:blue>Executing RB.A45 query function query_ee_u_dump_res_pm: 2/45.</text>"
      ],
      "text/plain": [
       "<IPython.core.display.HTML object>"
      ]
     },
     "metadata": {},
     "output_type": "display_data"
    },
    {
     "name": "stdout",
     "output_type": "stream",
     "text": [
      "\tQuerying PM event signal(s) UA47.RB.A45:U_DUMP_RES for system: QPS, className: DQAMSNRB, source: UA47.RB.A45 at 2015-03-26 05:19:37.981\n"
     ]
    },
    {
     "data": {
      "text/html": [
       "<text style=color:blue>Executing RB.A45 query function find_source_timestamp_ee: 3/45.</text>"
      ],
      "text/plain": [
       "<IPython.core.display.HTML object>"
      ]
     },
     "metadata": {},
     "output_type": "display_data"
    },
    {
     "name": "stdout",
     "output_type": "stream",
     "text": [
      "\tQuerying PM event timestamps for system: QPS, className: DQAMSNRB, source: RR53.RB.A45 from 2015-03-26 05:19:27.420 to 2015-03-26 05:36:17.420\n"
     ]
    },
    {
     "data": {
      "text/html": [
       "<text style=color:blue>Executing RB.A45 query function query_ee_u_dump_res_pm: 4/45.</text>"
      ],
      "text/plain": [
       "<IPython.core.display.HTML object>"
      ]
     },
     "metadata": {},
     "output_type": "display_data"
    },
    {
     "name": "stdout",
     "output_type": "stream",
     "text": [
      "\tQuerying PM event signal(s) RR53.RB.A45:U_DUMP_RES for system: QPS, className: DQAMSNRB, source: RR53.RB.A45 at 2015-03-26 05:19:37.719\n"
     ]
    },
    {
     "data": {
      "text/html": [
       "<text style=color:blue>Executing RB.A45 query function find_timestamp_pic: 5/45.</text>"
      ],
      "text/plain": [
       "<IPython.core.display.HTML object>"
      ]
     },
     "metadata": {},
     "output_type": "display_data"
    },
    {
     "name": "stdout",
     "output_type": "stream",
     "text": [
      "\tQuerying NXCALS signal(s) RB.A45.ODD:ST_ABORT_PIC, RB.A45.EVEN:ST_ABORT_PIC from 2015-03-26 05:19:36.420 to 2015-03-26 05:20:37.420\n"
     ]
    },
    {
     "data": {
      "text/html": [
       "<text style=color:blue>Executing RB.A45 query function find_source_timestamp_qds: 6/45.</text>"
      ],
      "text/plain": [
       "<IPython.core.display.HTML object>"
      ]
     },
     "metadata": {},
     "output_type": "display_data"
    },
    {
     "name": "stdout",
     "output_type": "stream",
     "text": [
      "\tQuerying PM event timestamps for system: QPS, className: DQAMCNMB_PMSTD, source: * from 2015-03-26 05:18:47.420 to 2015-03-26 05:27:57.420\n"
     ]
    },
    {
     "data": {
      "text/html": [
       "<text style=color:blue>Executing RB.A45 query function find_source_timestamp_ee: 1/45.</text>"
      ],
      "text/plain": [
       "<IPython.core.display.HTML object>"
      ]
     },
     "metadata": {},
     "output_type": "display_data"
    },
    {
     "name": "stdout",
     "output_type": "stream",
     "text": [
      "\tQuerying PM event timestamps for system: QPS, className: DQAMSNRB, source: UA47.RB.A45 from 2015-03-26 15:34:36.060 to 2015-03-26 15:51:26.060\n"
     ]
    },
    {
     "data": {
      "text/html": [
       "<text style=color:blue>Executing RB.A45 query function query_ee_u_dump_res_pm: 2/45.</text>"
      ],
      "text/plain": [
       "<IPython.core.display.HTML object>"
      ]
     },
     "metadata": {},
     "output_type": "display_data"
    },
    {
     "name": "stdout",
     "output_type": "stream",
     "text": [
      "\tQuerying PM event signal(s) UA47.RB.A45:U_DUMP_RES for system: QPS, className: DQAMSNRB, source: UA47.RB.A45 at 2015-03-26 15:34:46.627\n"
     ]
    },
    {
     "data": {
      "text/html": [
       "<text style=color:blue>Executing RB.A45 query function find_source_timestamp_ee: 3/45.</text>"
      ],
      "text/plain": [
       "<IPython.core.display.HTML object>"
      ]
     },
     "metadata": {},
     "output_type": "display_data"
    },
    {
     "name": "stdout",
     "output_type": "stream",
     "text": [
      "\tQuerying PM event timestamps for system: QPS, className: DQAMSNRB, source: RR53.RB.A45 from 2015-03-26 15:34:36.060 to 2015-03-26 15:51:26.060\n"
     ]
    },
    {
     "data": {
      "text/html": [
       "<text style=color:blue>Executing RB.A45 query function query_ee_u_dump_res_pm: 4/45.</text>"
      ],
      "text/plain": [
       "<IPython.core.display.HTML object>"
      ]
     },
     "metadata": {},
     "output_type": "display_data"
    },
    {
     "name": "stdout",
     "output_type": "stream",
     "text": [
      "\tQuerying PM event signal(s) RR53.RB.A45:U_DUMP_RES for system: QPS, className: DQAMSNRB, source: RR53.RB.A45 at 2015-03-26 15:34:46.371\n"
     ]
    },
    {
     "data": {
      "text/html": [
       "<text style=color:blue>Executing RB.A45 query function find_timestamp_pic: 5/45.</text>"
      ],
      "text/plain": [
       "<IPython.core.display.HTML object>"
      ]
     },
     "metadata": {},
     "output_type": "display_data"
    },
    {
     "name": "stdout",
     "output_type": "stream",
     "text": [
      "\tQuerying NXCALS signal(s) RB.A45.ODD:ST_ABORT_PIC, RB.A45.EVEN:ST_ABORT_PIC from 2015-03-26 15:34:45.060 to 2015-03-26 15:35:46.060\n"
     ]
    },
    {
     "data": {
      "text/html": [
       "<text style=color:blue>Executing RB.A45 query function find_source_timestamp_qds: 6/45.</text>"
      ],
      "text/plain": [
       "<IPython.core.display.HTML object>"
      ]
     },
     "metadata": {},
     "output_type": "display_data"
    },
    {
     "name": "stdout",
     "output_type": "stream",
     "text": [
      "\tQuerying PM event timestamps for system: QPS, className: DQAMCNMB_PMSTD, source: * from 2015-03-26 15:33:56.060 to 2015-03-26 15:43:06.060\n"
     ]
    },
    {
     "data": {
      "text/html": [
       "<text style=color:blue>Executing RB.A45 query function find_source_timestamp_ee: 1/45.</text>"
      ],
      "text/plain": [
       "<IPython.core.display.HTML object>"
      ]
     },
     "metadata": {},
     "output_type": "display_data"
    },
    {
     "name": "stdout",
     "output_type": "stream",
     "text": [
      "\tQuerying PM event timestamps for system: QPS, className: DQAMSNRB, source: UA47.RB.A45 from 2015-03-26 22:18:20.640 to 2015-03-26 22:35:10.640\n"
     ]
    },
    {
     "data": {
      "text/html": [
       "<text style=color:blue>Executing RB.A45 query function query_ee_u_dump_res_pm: 2/45.</text>"
      ],
      "text/plain": [
       "<IPython.core.display.HTML object>"
      ]
     },
     "metadata": {},
     "output_type": "display_data"
    },
    {
     "name": "stdout",
     "output_type": "stream",
     "text": [
      "\tQuerying PM event signal(s) UA47.RB.A45:U_DUMP_RES for system: QPS, className: DQAMSNRB, source: UA47.RB.A45 at 2015-03-26 22:18:31.209\n"
     ]
    },
    {
     "data": {
      "text/html": [
       "<text style=color:blue>Executing RB.A45 query function find_source_timestamp_ee: 3/45.</text>"
      ],
      "text/plain": [
       "<IPython.core.display.HTML object>"
      ]
     },
     "metadata": {},
     "output_type": "display_data"
    },
    {
     "name": "stdout",
     "output_type": "stream",
     "text": [
      "\tQuerying PM event timestamps for system: QPS, className: DQAMSNRB, source: RR53.RB.A45 from 2015-03-26 22:18:20.640 to 2015-03-26 22:35:10.640\n"
     ]
    },
    {
     "data": {
      "text/html": [
       "<text style=color:blue>Executing RB.A45 query function query_ee_u_dump_res_pm: 4/45.</text>"
      ],
      "text/plain": [
       "<IPython.core.display.HTML object>"
      ]
     },
     "metadata": {},
     "output_type": "display_data"
    },
    {
     "name": "stdout",
     "output_type": "stream",
     "text": [
      "\tQuerying PM event signal(s) RR53.RB.A45:U_DUMP_RES for system: QPS, className: DQAMSNRB, source: RR53.RB.A45 at 2015-03-26 22:18:30.952\n"
     ]
    },
    {
     "data": {
      "text/html": [
       "<text style=color:blue>Executing RB.A45 query function find_timestamp_pic: 5/45.</text>"
      ],
      "text/plain": [
       "<IPython.core.display.HTML object>"
      ]
     },
     "metadata": {},
     "output_type": "display_data"
    },
    {
     "name": "stdout",
     "output_type": "stream",
     "text": [
      "\tQuerying NXCALS signal(s) RB.A45.ODD:ST_ABORT_PIC, RB.A45.EVEN:ST_ABORT_PIC from 2015-03-26 22:18:29.640 to 2015-03-26 22:19:30.640\n"
     ]
    },
    {
     "data": {
      "text/html": [
       "<text style=color:blue>Executing RB.A45 query function find_source_timestamp_qds: 6/45.</text>"
      ],
      "text/plain": [
       "<IPython.core.display.HTML object>"
      ]
     },
     "metadata": {},
     "output_type": "display_data"
    },
    {
     "name": "stdout",
     "output_type": "stream",
     "text": [
      "\tQuerying PM event timestamps for system: QPS, className: DQAMCNMB_PMSTD, source: * from 2015-03-26 22:17:40.640 to 2015-03-26 22:26:50.640\n"
     ]
    },
    {
     "data": {
      "text/html": [
       "<text style=color:blue>Executing RB.A45 query function find_source_timestamp_ee: 1/45.</text>"
      ],
      "text/plain": [
       "<IPython.core.display.HTML object>"
      ]
     },
     "metadata": {},
     "output_type": "display_data"
    },
    {
     "name": "stdout",
     "output_type": "stream",
     "text": [
      "\tQuerying PM event timestamps for system: QPS, className: DQAMSNRB, source: UA47.RB.A45 from 2015-03-27 06:50:08.120 to 2015-03-27 07:06:58.120\n"
     ]
    },
    {
     "data": {
      "text/html": [
       "<text style=color:blue>Executing RB.A45 query function query_ee_u_dump_res_pm: 2/45.</text>"
      ],
      "text/plain": [
       "<IPython.core.display.HTML object>"
      ]
     },
     "metadata": {},
     "output_type": "display_data"
    },
    {
     "name": "stdout",
     "output_type": "stream",
     "text": [
      "\tQuerying PM event signal(s) UA47.RB.A45:U_DUMP_RES for system: QPS, className: DQAMSNRB, source: UA47.RB.A45 at 2015-03-27 06:50:18.682\n"
     ]
    },
    {
     "data": {
      "text/html": [
       "<text style=color:blue>Executing RB.A45 query function find_source_timestamp_ee: 3/45.</text>"
      ],
      "text/plain": [
       "<IPython.core.display.HTML object>"
      ]
     },
     "metadata": {},
     "output_type": "display_data"
    },
    {
     "name": "stdout",
     "output_type": "stream",
     "text": [
      "\tQuerying PM event timestamps for system: QPS, className: DQAMSNRB, source: RR53.RB.A45 from 2015-03-27 06:50:08.120 to 2015-03-27 07:06:58.120\n"
     ]
    },
    {
     "data": {
      "text/html": [
       "<text style=color:blue>Executing RB.A45 query function query_ee_u_dump_res_pm: 4/45.</text>"
      ],
      "text/plain": [
       "<IPython.core.display.HTML object>"
      ]
     },
     "metadata": {},
     "output_type": "display_data"
    },
    {
     "name": "stdout",
     "output_type": "stream",
     "text": [
      "\tQuerying PM event signal(s) RR53.RB.A45:U_DUMP_RES for system: QPS, className: DQAMSNRB, source: RR53.RB.A45 at 2015-03-27 06:50:18.424\n"
     ]
    },
    {
     "data": {
      "text/html": [
       "<text style=color:blue>Executing RB.A45 query function find_timestamp_pic: 5/45.</text>"
      ],
      "text/plain": [
       "<IPython.core.display.HTML object>"
      ]
     },
     "metadata": {},
     "output_type": "display_data"
    },
    {
     "name": "stdout",
     "output_type": "stream",
     "text": [
      "\tQuerying NXCALS signal(s) RB.A45.ODD:ST_ABORT_PIC, RB.A45.EVEN:ST_ABORT_PIC from 2015-03-27 06:50:17.120 to 2015-03-27 06:51:18.120\n"
     ]
    },
    {
     "data": {
      "text/html": [
       "<text style=color:blue>Executing RB.A45 query function find_source_timestamp_qds: 6/45.</text>"
      ],
      "text/plain": [
       "<IPython.core.display.HTML object>"
      ]
     },
     "metadata": {},
     "output_type": "display_data"
    },
    {
     "name": "stdout",
     "output_type": "stream",
     "text": [
      "\tQuerying PM event timestamps for system: QPS, className: DQAMCNMB_PMSTD, source: * from 2015-03-27 06:49:28.120 to 2015-03-27 06:58:38.120\n"
     ]
    },
    {
     "data": {
      "text/html": [
       "<text style=color:blue>Executing RB.A45 query function find_source_timestamp_ee: 1/45.</text>"
      ],
      "text/plain": [
       "<IPython.core.display.HTML object>"
      ]
     },
     "metadata": {},
     "output_type": "display_data"
    },
    {
     "name": "stdout",
     "output_type": "stream",
     "text": [
      "\tQuerying PM event timestamps for system: QPS, className: DQAMSNRB, source: UA47.RB.A45 from 2015-03-27 13:39:35.900 to 2015-03-27 13:56:25.900\n"
     ]
    },
    {
     "data": {
      "text/html": [
       "<text style=color:blue>Executing RB.A45 query function query_ee_u_dump_res_pm: 2/45.</text>"
      ],
      "text/plain": [
       "<IPython.core.display.HTML object>"
      ]
     },
     "metadata": {},
     "output_type": "display_data"
    },
    {
     "name": "stdout",
     "output_type": "stream",
     "text": [
      "\tQuerying PM event signal(s) UA47.RB.A45:U_DUMP_RES for system: QPS, className: DQAMSNRB, source: UA47.RB.A45 at 2015-03-27 13:39:46.467\n"
     ]
    },
    {
     "data": {
      "text/html": [
       "<text style=color:blue>Executing RB.A45 query function find_source_timestamp_ee: 3/45.</text>"
      ],
      "text/plain": [
       "<IPython.core.display.HTML object>"
      ]
     },
     "metadata": {},
     "output_type": "display_data"
    },
    {
     "name": "stdout",
     "output_type": "stream",
     "text": [
      "\tQuerying PM event timestamps for system: QPS, className: DQAMSNRB, source: RR53.RB.A45 from 2015-03-27 13:39:35.900 to 2015-03-27 13:56:25.900\n"
     ]
    },
    {
     "data": {
      "text/html": [
       "<text style=color:blue>Executing RB.A45 query function query_ee_u_dump_res_pm: 4/45.</text>"
      ],
      "text/plain": [
       "<IPython.core.display.HTML object>"
      ]
     },
     "metadata": {},
     "output_type": "display_data"
    },
    {
     "name": "stdout",
     "output_type": "stream",
     "text": [
      "\tQuerying PM event signal(s) RR53.RB.A45:U_DUMP_RES for system: QPS, className: DQAMSNRB, source: RR53.RB.A45 at 2015-03-27 13:39:46.207\n"
     ]
    },
    {
     "data": {
      "text/html": [
       "<text style=color:blue>Executing RB.A45 query function find_timestamp_pic: 5/45.</text>"
      ],
      "text/plain": [
       "<IPython.core.display.HTML object>"
      ]
     },
     "metadata": {},
     "output_type": "display_data"
    },
    {
     "name": "stdout",
     "output_type": "stream",
     "text": [
      "\tQuerying NXCALS signal(s) RB.A45.ODD:ST_ABORT_PIC, RB.A45.EVEN:ST_ABORT_PIC from 2015-03-27 13:39:44.900 to 2015-03-27 13:40:45.900\n"
     ]
    },
    {
     "data": {
      "text/html": [
       "<text style=color:blue>Executing RB.A45 query function find_source_timestamp_qds: 6/45.</text>"
      ],
      "text/plain": [
       "<IPython.core.display.HTML object>"
      ]
     },
     "metadata": {},
     "output_type": "display_data"
    },
    {
     "name": "stdout",
     "output_type": "stream",
     "text": [
      "\tQuerying PM event timestamps for system: QPS, className: DQAMCNMB_PMSTD, source: * from 2015-03-27 13:38:55.900 to 2015-03-27 13:48:05.900\n"
     ]
    },
    {
     "data": {
      "text/html": [
       "<text style=color:blue>Executing RB.A45 query function find_source_timestamp_ee: 1/45.</text>"
      ],
      "text/plain": [
       "<IPython.core.display.HTML object>"
      ]
     },
     "metadata": {},
     "output_type": "display_data"
    },
    {
     "name": "stdout",
     "output_type": "stream",
     "text": [
      "\tQuerying PM event timestamps for system: QPS, className: DQAMSNRB, source: UA47.RB.A45 from 2015-12-08 21:07:02.820 to 2015-12-08 21:23:52.820\n"
     ]
    },
    {
     "data": {
      "text/html": [
       "<text style=color:blue>Executing RB.A45 query function query_ee_u_dump_res_pm: 2/45.</text>"
      ],
      "text/plain": [
       "<IPython.core.display.HTML object>"
      ]
     },
     "metadata": {},
     "output_type": "display_data"
    },
    {
     "name": "stdout",
     "output_type": "stream",
     "text": [
      "\tQuerying PM event signal(s) UA47.RB.A45:U_DUMP_RES for system: QPS, className: DQAMSNRB, source: UA47.RB.A45 at 2015-12-08 21:07:13.376\n"
     ]
    },
    {
     "data": {
      "text/html": [
       "<text style=color:blue>Executing RB.A45 query function find_source_timestamp_ee: 3/45.</text>"
      ],
      "text/plain": [
       "<IPython.core.display.HTML object>"
      ]
     },
     "metadata": {},
     "output_type": "display_data"
    },
    {
     "name": "stdout",
     "output_type": "stream",
     "text": [
      "\tQuerying PM event timestamps for system: QPS, className: DQAMSNRB, source: RR53.RB.A45 from 2015-12-08 21:07:02.820 to 2015-12-08 21:23:52.820\n"
     ]
    },
    {
     "data": {
      "text/html": [
       "<text style=color:blue>Executing RB.A45 query function query_ee_u_dump_res_pm: 4/45.</text>"
      ],
      "text/plain": [
       "<IPython.core.display.HTML object>"
      ]
     },
     "metadata": {},
     "output_type": "display_data"
    },
    {
     "name": "stdout",
     "output_type": "stream",
     "text": [
      "\tQuerying PM event signal(s) RR53.RB.A45:U_DUMP_RES for system: QPS, className: DQAMSNRB, source: RR53.RB.A45 at 2015-12-08 21:07:13.118\n"
     ]
    },
    {
     "data": {
      "text/html": [
       "<text style=color:blue>Executing RB.A45 query function find_timestamp_pic: 5/45.</text>"
      ],
      "text/plain": [
       "<IPython.core.display.HTML object>"
      ]
     },
     "metadata": {},
     "output_type": "display_data"
    },
    {
     "name": "stdout",
     "output_type": "stream",
     "text": [
      "\tQuerying NXCALS signal(s) RB.A45.ODD:ST_ABORT_PIC, RB.A45.EVEN:ST_ABORT_PIC from 2015-12-08 21:07:11.820 to 2015-12-08 21:08:12.820\n"
     ]
    },
    {
     "data": {
      "text/html": [
       "<text style=color:blue>Executing RB.A45 query function find_source_timestamp_qds: 6/45.</text>"
      ],
      "text/plain": [
       "<IPython.core.display.HTML object>"
      ]
     },
     "metadata": {},
     "output_type": "display_data"
    },
    {
     "name": "stdout",
     "output_type": "stream",
     "text": [
      "\tQuerying PM event timestamps for system: QPS, className: DQAMCNMB_PMSTD, source: * from 2015-12-08 21:06:22.820 to 2015-12-08 21:15:32.820\n"
     ]
    },
    {
     "data": {
      "text/html": [
       "<text style=color:blue>Executing RB.A45 query function find_source_timestamp_ee: 1/45.</text>"
      ],
      "text/plain": [
       "<IPython.core.display.HTML object>"
      ]
     },
     "metadata": {},
     "output_type": "display_data"
    },
    {
     "name": "stdout",
     "output_type": "stream",
     "text": [
      "\tQuerying PM event timestamps for system: QPS, className: DQAMSNRB, source: UA47.RB.A45 from 2016-07-12 14:16:56.320 to 2016-07-12 14:33:46.320\n"
     ]
    },
    {
     "data": {
      "text/html": [
       "<text style=color:blue>Executing RB.A45 query function query_ee_u_dump_res_pm: 2/45.</text>"
      ],
      "text/plain": [
       "<IPython.core.display.HTML object>"
      ]
     },
     "metadata": {},
     "output_type": "display_data"
    },
    {
     "name": "stdout",
     "output_type": "stream",
     "text": [
      "\tQuerying PM event signal(s) UA47.RB.A45:U_DUMP_RES for system: QPS, className: DQAMSNRB, source: UA47.RB.A45 at 2016-07-12 14:17:06.899\n"
     ]
    },
    {
     "data": {
      "text/html": [
       "<text style=color:blue>Executing RB.A45 query function find_source_timestamp_ee: 3/45.</text>"
      ],
      "text/plain": [
       "<IPython.core.display.HTML object>"
      ]
     },
     "metadata": {},
     "output_type": "display_data"
    },
    {
     "name": "stdout",
     "output_type": "stream",
     "text": [
      "\tQuerying PM event timestamps for system: QPS, className: DQAMSNRB, source: RR53.RB.A45 from 2016-07-12 14:16:56.320 to 2016-07-12 14:33:46.320\n"
     ]
    },
    {
     "data": {
      "text/html": [
       "<text style=color:blue>Executing RB.A45 query function query_ee_u_dump_res_pm: 4/45.</text>"
      ],
      "text/plain": [
       "<IPython.core.display.HTML object>"
      ]
     },
     "metadata": {},
     "output_type": "display_data"
    },
    {
     "name": "stdout",
     "output_type": "stream",
     "text": [
      "\tQuerying PM event signal(s) RR53.RB.A45:U_DUMP_RES for system: QPS, className: DQAMSNRB, source: RR53.RB.A45 at 2016-07-12 14:17:06.636\n"
     ]
    },
    {
     "data": {
      "text/html": [
       "<text style=color:blue>Executing RB.A45 query function find_timestamp_pic: 5/45.</text>"
      ],
      "text/plain": [
       "<IPython.core.display.HTML object>"
      ]
     },
     "metadata": {},
     "output_type": "display_data"
    },
    {
     "name": "stdout",
     "output_type": "stream",
     "text": [
      "\tQuerying NXCALS signal(s) RB.A45.ODD:ST_ABORT_PIC, RB.A45.EVEN:ST_ABORT_PIC from 2016-07-12 14:17:05.320 to 2016-07-12 14:18:06.320\n"
     ]
    },
    {
     "data": {
      "text/html": [
       "<text style=color:blue>Executing RB.A45 query function find_source_timestamp_qds: 6/45.</text>"
      ],
      "text/plain": [
       "<IPython.core.display.HTML object>"
      ]
     },
     "metadata": {},
     "output_type": "display_data"
    },
    {
     "name": "stdout",
     "output_type": "stream",
     "text": [
      "\tQuerying PM event timestamps for system: QPS, className: DQAMCNMB_PMSTD, source: * from 2016-07-12 14:16:16.320 to 2016-07-12 14:25:26.320\n"
     ]
    },
    {
     "data": {
      "text/html": [
       "<text style=color:blue>Executing RB.A45 query function find_source_timestamp_ee: 1/45.</text>"
      ],
      "text/plain": [
       "<IPython.core.display.HTML object>"
      ]
     },
     "metadata": {},
     "output_type": "display_data"
    },
    {
     "name": "stdout",
     "output_type": "stream",
     "text": [
      "\tQuerying PM event timestamps for system: QPS, className: DQAMSNRB, source: UA47.RB.A45 from 2016-12-05 18:58:50.800 to 2016-12-05 19:15:40.800\n"
     ]
    },
    {
     "data": {
      "text/html": [
       "<text style=color:blue>Executing RB.A45 query function query_ee_u_dump_res_pm: 2/45.</text>"
      ],
      "text/plain": [
       "<IPython.core.display.HTML object>"
      ]
     },
     "metadata": {},
     "output_type": "display_data"
    },
    {
     "name": "stdout",
     "output_type": "stream",
     "text": [
      "\tQuerying PM event signal(s) UA47.RB.A45:U_DUMP_RES for system: QPS, className: DQAMSNRB, source: UA47.RB.A45 at 2016-12-05 18:59:01.365\n"
     ]
    },
    {
     "data": {
      "text/html": [
       "<text style=color:blue>Executing RB.A45 query function find_source_timestamp_ee: 3/45.</text>"
      ],
      "text/plain": [
       "<IPython.core.display.HTML object>"
      ]
     },
     "metadata": {},
     "output_type": "display_data"
    },
    {
     "name": "stdout",
     "output_type": "stream",
     "text": [
      "\tQuerying PM event timestamps for system: QPS, className: DQAMSNRB, source: RR53.RB.A45 from 2016-12-05 18:58:50.800 to 2016-12-05 19:15:40.800\n"
     ]
    },
    {
     "data": {
      "text/html": [
       "<text style=color:blue>Executing RB.A45 query function query_ee_u_dump_res_pm: 4/45.</text>"
      ],
      "text/plain": [
       "<IPython.core.display.HTML object>"
      ]
     },
     "metadata": {},
     "output_type": "display_data"
    },
    {
     "name": "stdout",
     "output_type": "stream",
     "text": [
      "\tQuerying PM event signal(s) RR53.RB.A45:U_DUMP_RES for system: QPS, className: DQAMSNRB, source: RR53.RB.A45 at 2016-12-05 18:59:01.108\n"
     ]
    },
    {
     "data": {
      "text/html": [
       "<text style=color:blue>Executing RB.A45 query function find_timestamp_pic: 5/45.</text>"
      ],
      "text/plain": [
       "<IPython.core.display.HTML object>"
      ]
     },
     "metadata": {},
     "output_type": "display_data"
    },
    {
     "name": "stdout",
     "output_type": "stream",
     "text": [
      "\tQuerying NXCALS signal(s) RB.A45.ODD:ST_ABORT_PIC, RB.A45.EVEN:ST_ABORT_PIC from 2016-12-05 18:58:59.800 to 2016-12-05 19:00:00.800\n"
     ]
    },
    {
     "data": {
      "text/html": [
       "<text style=color:blue>Executing RB.A45 query function find_source_timestamp_qds: 6/45.</text>"
      ],
      "text/plain": [
       "<IPython.core.display.HTML object>"
      ]
     },
     "metadata": {},
     "output_type": "display_data"
    },
    {
     "name": "stdout",
     "output_type": "stream",
     "text": [
      "\tQuerying PM event timestamps for system: QPS, className: DQAMCNMB_PMSTD, source: * from 2016-12-05 18:58:10.800 to 2016-12-05 19:07:20.800\n"
     ]
    },
    {
     "data": {
      "text/html": [
       "<text style=color:blue>Executing RB.A45 query function find_source_timestamp_ee: 1/45.</text>"
      ],
      "text/plain": [
       "<IPython.core.display.HTML object>"
      ]
     },
     "metadata": {},
     "output_type": "display_data"
    },
    {
     "name": "stdout",
     "output_type": "stream",
     "text": [
      "\tQuerying PM event timestamps for system: QPS, className: DQAMSNRB, source: UA47.RB.A45 from 2016-12-06 02:47:24.040 to 2016-12-06 03:04:14.040\n"
     ]
    },
    {
     "data": {
      "text/html": [
       "<text style=color:blue>Executing RB.A45 query function query_ee_u_dump_res_pm: 2/45.</text>"
      ],
      "text/plain": [
       "<IPython.core.display.HTML object>"
      ]
     },
     "metadata": {},
     "output_type": "display_data"
    },
    {
     "name": "stdout",
     "output_type": "stream",
     "text": [
      "\tQuerying PM event signal(s) UA47.RB.A45:U_DUMP_RES for system: QPS, className: DQAMSNRB, source: UA47.RB.A45 at 2016-12-06 02:47:34.608\n"
     ]
    },
    {
     "data": {
      "text/html": [
       "<text style=color:blue>Executing RB.A45 query function find_source_timestamp_ee: 3/45.</text>"
      ],
      "text/plain": [
       "<IPython.core.display.HTML object>"
      ]
     },
     "metadata": {},
     "output_type": "display_data"
    },
    {
     "name": "stdout",
     "output_type": "stream",
     "text": [
      "\tQuerying PM event timestamps for system: QPS, className: DQAMSNRB, source: RR53.RB.A45 from 2016-12-06 02:47:24.040 to 2016-12-06 03:04:14.040\n"
     ]
    },
    {
     "data": {
      "text/html": [
       "<text style=color:blue>Executing RB.A45 query function query_ee_u_dump_res_pm: 4/45.</text>"
      ],
      "text/plain": [
       "<IPython.core.display.HTML object>"
      ]
     },
     "metadata": {},
     "output_type": "display_data"
    },
    {
     "name": "stdout",
     "output_type": "stream",
     "text": [
      "\tQuerying PM event signal(s) RR53.RB.A45:U_DUMP_RES for system: QPS, className: DQAMSNRB, source: RR53.RB.A45 at 2016-12-06 02:47:34.353\n"
     ]
    },
    {
     "data": {
      "text/html": [
       "<text style=color:blue>Executing RB.A45 query function find_timestamp_pic: 5/45.</text>"
      ],
      "text/plain": [
       "<IPython.core.display.HTML object>"
      ]
     },
     "metadata": {},
     "output_type": "display_data"
    },
    {
     "name": "stdout",
     "output_type": "stream",
     "text": [
      "\tQuerying NXCALS signal(s) RB.A45.ODD:ST_ABORT_PIC, RB.A45.EVEN:ST_ABORT_PIC from 2016-12-06 02:47:33.040 to 2016-12-06 02:48:34.040\n"
     ]
    },
    {
     "data": {
      "text/html": [
       "<text style=color:blue>Executing RB.A45 query function find_source_timestamp_qds: 6/45.</text>"
      ],
      "text/plain": [
       "<IPython.core.display.HTML object>"
      ]
     },
     "metadata": {},
     "output_type": "display_data"
    },
    {
     "name": "stdout",
     "output_type": "stream",
     "text": [
      "\tQuerying PM event timestamps for system: QPS, className: DQAMCNMB_PMSTD, source: * from 2016-12-06 02:46:44.040 to 2016-12-06 02:55:54.040\n"
     ]
    },
    {
     "data": {
      "text/html": [
       "<text style=color:blue>Executing RB.A45 query function find_source_timestamp_ee: 1/45.</text>"
      ],
      "text/plain": [
       "<IPython.core.display.HTML object>"
      ]
     },
     "metadata": {},
     "output_type": "display_data"
    },
    {
     "name": "stdout",
     "output_type": "stream",
     "text": [
      "\tQuerying PM event timestamps for system: QPS, className: DQAMSNRB, source: UA47.RB.A45 from 2016-12-06 14:24:41.920 to 2016-12-06 14:41:31.920\n"
     ]
    },
    {
     "data": {
      "text/html": [
       "<text style=color:blue>Executing RB.A45 query function query_ee_u_dump_res_pm: 2/45.</text>"
      ],
      "text/plain": [
       "<IPython.core.display.HTML object>"
      ]
     },
     "metadata": {},
     "output_type": "display_data"
    },
    {
     "name": "stdout",
     "output_type": "stream",
     "text": [
      "\tQuerying PM event signal(s) UA47.RB.A45:U_DUMP_RES for system: QPS, className: DQAMSNRB, source: UA47.RB.A45 at 2016-12-06 14:24:52.476\n"
     ]
    },
    {
     "data": {
      "text/html": [
       "<text style=color:blue>Executing RB.A45 query function find_source_timestamp_ee: 3/45.</text>"
      ],
      "text/plain": [
       "<IPython.core.display.HTML object>"
      ]
     },
     "metadata": {},
     "output_type": "display_data"
    },
    {
     "name": "stdout",
     "output_type": "stream",
     "text": [
      "\tQuerying PM event timestamps for system: QPS, className: DQAMSNRB, source: RR53.RB.A45 from 2016-12-06 14:24:41.920 to 2016-12-06 14:41:31.920\n"
     ]
    },
    {
     "data": {
      "text/html": [
       "<text style=color:blue>Executing RB.A45 query function query_ee_u_dump_res_pm: 4/45.</text>"
      ],
      "text/plain": [
       "<IPython.core.display.HTML object>"
      ]
     },
     "metadata": {},
     "output_type": "display_data"
    },
    {
     "name": "stdout",
     "output_type": "stream",
     "text": [
      "\tQuerying PM event signal(s) RR53.RB.A45:U_DUMP_RES for system: QPS, className: DQAMSNRB, source: RR53.RB.A45 at 2016-12-06 14:24:52.217\n"
     ]
    },
    {
     "data": {
      "text/html": [
       "<text style=color:blue>Executing RB.A45 query function find_timestamp_pic: 5/45.</text>"
      ],
      "text/plain": [
       "<IPython.core.display.HTML object>"
      ]
     },
     "metadata": {},
     "output_type": "display_data"
    },
    {
     "name": "stdout",
     "output_type": "stream",
     "text": [
      "\tQuerying NXCALS signal(s) RB.A45.ODD:ST_ABORT_PIC, RB.A45.EVEN:ST_ABORT_PIC from 2016-12-06 14:24:50.920 to 2016-12-06 14:25:51.920\n"
     ]
    },
    {
     "data": {
      "text/html": [
       "<text style=color:blue>Executing RB.A45 query function find_source_timestamp_qds: 6/45.</text>"
      ],
      "text/plain": [
       "<IPython.core.display.HTML object>"
      ]
     },
     "metadata": {},
     "output_type": "display_data"
    },
    {
     "name": "stdout",
     "output_type": "stream",
     "text": [
      "\tQuerying PM event timestamps for system: QPS, className: DQAMCNMB_PMSTD, source: * from 2016-12-06 14:24:01.920 to 2016-12-06 14:33:11.920\n"
     ]
    },
    {
     "data": {
      "text/html": [
       "<text style=color:blue>Executing RB.A45 query function find_source_timestamp_ee: 1/45.</text>"
      ],
      "text/plain": [
       "<IPython.core.display.HTML object>"
      ]
     },
     "metadata": {},
     "output_type": "display_data"
    },
    {
     "name": "stdout",
     "output_type": "stream",
     "text": [
      "\tQuerying PM event timestamps for system: QPS, className: DQAMSNRB, source: UA47.RB.A45 from 2016-12-06 20:07:46.200 to 2016-12-06 20:24:36.200\n"
     ]
    },
    {
     "data": {
      "text/html": [
       "<text style=color:blue>Executing RB.A45 query function query_ee_u_dump_res_pm: 2/45.</text>"
      ],
      "text/plain": [
       "<IPython.core.display.HTML object>"
      ]
     },
     "metadata": {},
     "output_type": "display_data"
    },
    {
     "name": "stdout",
     "output_type": "stream",
     "text": [
      "\tQuerying PM event signal(s) UA47.RB.A45:U_DUMP_RES for system: QPS, className: DQAMSNRB, source: UA47.RB.A45 at 2016-12-06 20:07:56.771\n"
     ]
    },
    {
     "data": {
      "text/html": [
       "<text style=color:blue>Executing RB.A45 query function find_source_timestamp_ee: 3/45.</text>"
      ],
      "text/plain": [
       "<IPython.core.display.HTML object>"
      ]
     },
     "metadata": {},
     "output_type": "display_data"
    },
    {
     "name": "stdout",
     "output_type": "stream",
     "text": [
      "\tQuerying PM event timestamps for system: QPS, className: DQAMSNRB, source: RR53.RB.A45 from 2016-12-06 20:07:46.200 to 2016-12-06 20:24:36.200\n"
     ]
    },
    {
     "data": {
      "text/html": [
       "<text style=color:blue>Executing RB.A45 query function query_ee_u_dump_res_pm: 4/45.</text>"
      ],
      "text/plain": [
       "<IPython.core.display.HTML object>"
      ]
     },
     "metadata": {},
     "output_type": "display_data"
    },
    {
     "name": "stdout",
     "output_type": "stream",
     "text": [
      "\tQuerying PM event signal(s) RR53.RB.A45:U_DUMP_RES for system: QPS, className: DQAMSNRB, source: RR53.RB.A45 at 2016-12-06 20:07:56.513\n"
     ]
    },
    {
     "data": {
      "text/html": [
       "<text style=color:blue>Executing RB.A45 query function find_timestamp_pic: 5/45.</text>"
      ],
      "text/plain": [
       "<IPython.core.display.HTML object>"
      ]
     },
     "metadata": {},
     "output_type": "display_data"
    },
    {
     "name": "stdout",
     "output_type": "stream",
     "text": [
      "\tQuerying NXCALS signal(s) RB.A45.ODD:ST_ABORT_PIC, RB.A45.EVEN:ST_ABORT_PIC from 2016-12-06 20:07:55.200 to 2016-12-06 20:08:56.200\n"
     ]
    },
    {
     "data": {
      "text/html": [
       "<text style=color:blue>Executing RB.A45 query function find_source_timestamp_qds: 6/45.</text>"
      ],
      "text/plain": [
       "<IPython.core.display.HTML object>"
      ]
     },
     "metadata": {},
     "output_type": "display_data"
    },
    {
     "name": "stdout",
     "output_type": "stream",
     "text": [
      "\tQuerying PM event timestamps for system: QPS, className: DQAMCNMB_PMSTD, source: * from 2016-12-06 20:07:06.200 to 2016-12-06 20:16:16.200\n"
     ]
    },
    {
     "data": {
      "text/html": [
       "<text style=color:blue>Executing RB.A45 query function find_source_timestamp_ee: 1/45.</text>"
      ],
      "text/plain": [
       "<IPython.core.display.HTML object>"
      ]
     },
     "metadata": {},
     "output_type": "display_data"
    },
    {
     "name": "stdout",
     "output_type": "stream",
     "text": [
      "\tQuerying PM event timestamps for system: QPS, className: DQAMSNRB, source: UA47.RB.A45 from 2016-12-07 04:02:38.740 to 2016-12-07 04:19:28.740\n"
     ]
    },
    {
     "data": {
      "text/html": [
       "<text style=color:blue>Executing RB.A45 query function query_ee_u_dump_res_pm: 2/45.</text>"
      ],
      "text/plain": [
       "<IPython.core.display.HTML object>"
      ]
     },
     "metadata": {},
     "output_type": "display_data"
    },
    {
     "name": "stdout",
     "output_type": "stream",
     "text": [
      "\tQuerying PM event signal(s) UA47.RB.A45:U_DUMP_RES for system: QPS, className: DQAMSNRB, source: UA47.RB.A45 at 2016-12-07 04:02:49.295\n"
     ]
    },
    {
     "data": {
      "text/html": [
       "<text style=color:blue>Executing RB.A45 query function find_source_timestamp_ee: 3/45.</text>"
      ],
      "text/plain": [
       "<IPython.core.display.HTML object>"
      ]
     },
     "metadata": {},
     "output_type": "display_data"
    },
    {
     "name": "stdout",
     "output_type": "stream",
     "text": [
      "\tQuerying PM event timestamps for system: QPS, className: DQAMSNRB, source: RR53.RB.A45 from 2016-12-07 04:02:38.740 to 2016-12-07 04:19:28.740\n"
     ]
    },
    {
     "data": {
      "text/html": [
       "<text style=color:blue>Executing RB.A45 query function query_ee_u_dump_res_pm: 4/45.</text>"
      ],
      "text/plain": [
       "<IPython.core.display.HTML object>"
      ]
     },
     "metadata": {},
     "output_type": "display_data"
    },
    {
     "name": "stdout",
     "output_type": "stream",
     "text": [
      "\tQuerying PM event signal(s) RR53.RB.A45:U_DUMP_RES for system: QPS, className: DQAMSNRB, source: RR53.RB.A45 at 2016-12-07 04:02:49.037\n"
     ]
    },
    {
     "data": {
      "text/html": [
       "<text style=color:blue>Executing RB.A45 query function find_timestamp_pic: 5/45.</text>"
      ],
      "text/plain": [
       "<IPython.core.display.HTML object>"
      ]
     },
     "metadata": {},
     "output_type": "display_data"
    },
    {
     "name": "stdout",
     "output_type": "stream",
     "text": [
      "\tQuerying NXCALS signal(s) RB.A45.ODD:ST_ABORT_PIC, RB.A45.EVEN:ST_ABORT_PIC from 2016-12-07 04:02:47.740 to 2016-12-07 04:03:48.740\n"
     ]
    },
    {
     "data": {
      "text/html": [
       "<text style=color:blue>Executing RB.A45 query function find_source_timestamp_qds: 6/45.</text>"
      ],
      "text/plain": [
       "<IPython.core.display.HTML object>"
      ]
     },
     "metadata": {},
     "output_type": "display_data"
    },
    {
     "name": "stdout",
     "output_type": "stream",
     "text": [
      "\tQuerying PM event timestamps for system: QPS, className: DQAMCNMB_PMSTD, source: * from 2016-12-07 04:01:58.740 to 2016-12-07 04:11:08.740\n"
     ]
    },
    {
     "data": {
      "text/html": [
       "<text style=color:blue>Executing RB.A45 query function find_source_timestamp_ee: 1/45.</text>"
      ],
      "text/plain": [
       "<IPython.core.display.HTML object>"
      ]
     },
     "metadata": {},
     "output_type": "display_data"
    },
    {
     "name": "stdout",
     "output_type": "stream",
     "text": [
      "\tQuerying PM event timestamps for system: QPS, className: DQAMSNRB, source: UA47.RB.A45 from 2016-12-07 11:14:42.300 to 2016-12-07 11:31:32.300\n"
     ]
    },
    {
     "data": {
      "text/html": [
       "<text style=color:blue>Executing RB.A45 query function query_ee_u_dump_res_pm: 2/45.</text>"
      ],
      "text/plain": [
       "<IPython.core.display.HTML object>"
      ]
     },
     "metadata": {},
     "output_type": "display_data"
    },
    {
     "name": "stdout",
     "output_type": "stream",
     "text": [
      "\tQuerying PM event signal(s) UA47.RB.A45:U_DUMP_RES for system: QPS, className: DQAMSNRB, source: UA47.RB.A45 at 2016-12-07 11:14:52.871\n"
     ]
    },
    {
     "data": {
      "text/html": [
       "<text style=color:blue>Executing RB.A45 query function find_source_timestamp_ee: 3/45.</text>"
      ],
      "text/plain": [
       "<IPython.core.display.HTML object>"
      ]
     },
     "metadata": {},
     "output_type": "display_data"
    },
    {
     "name": "stdout",
     "output_type": "stream",
     "text": [
      "\tQuerying PM event timestamps for system: QPS, className: DQAMSNRB, source: RR53.RB.A45 from 2016-12-07 11:14:42.300 to 2016-12-07 11:31:32.300\n"
     ]
    },
    {
     "data": {
      "text/html": [
       "<text style=color:blue>Executing RB.A45 query function query_ee_u_dump_res_pm: 4/45.</text>"
      ],
      "text/plain": [
       "<IPython.core.display.HTML object>"
      ]
     },
     "metadata": {},
     "output_type": "display_data"
    },
    {
     "name": "stdout",
     "output_type": "stream",
     "text": [
      "\tQuerying PM event signal(s) RR53.RB.A45:U_DUMP_RES for system: QPS, className: DQAMSNRB, source: RR53.RB.A45 at 2016-12-07 11:14:52.614\n"
     ]
    },
    {
     "data": {
      "text/html": [
       "<text style=color:blue>Executing RB.A45 query function find_timestamp_pic: 5/45.</text>"
      ],
      "text/plain": [
       "<IPython.core.display.HTML object>"
      ]
     },
     "metadata": {},
     "output_type": "display_data"
    },
    {
     "name": "stdout",
     "output_type": "stream",
     "text": [
      "\tQuerying NXCALS signal(s) RB.A45.ODD:ST_ABORT_PIC, RB.A45.EVEN:ST_ABORT_PIC from 2016-12-07 11:14:51.300 to 2016-12-07 11:15:52.300\n"
     ]
    },
    {
     "data": {
      "text/html": [
       "<text style=color:blue>Executing RB.A45 query function find_source_timestamp_qds: 6/45.</text>"
      ],
      "text/plain": [
       "<IPython.core.display.HTML object>"
      ]
     },
     "metadata": {},
     "output_type": "display_data"
    },
    {
     "name": "stdout",
     "output_type": "stream",
     "text": [
      "\tQuerying PM event timestamps for system: QPS, className: DQAMCNMB_PMSTD, source: * from 2016-12-07 11:14:02.300 to 2016-12-07 11:23:12.300\n"
     ]
    },
    {
     "data": {
      "text/html": [
       "<text style=color:blue>Executing RB.A45 query function find_source_timestamp_ee: 1/45.</text>"
      ],
      "text/plain": [
       "<IPython.core.display.HTML object>"
      ]
     },
     "metadata": {},
     "output_type": "display_data"
    },
    {
     "name": "stdout",
     "output_type": "stream",
     "text": [
      "\tQuerying PM event timestamps for system: QPS, className: DQAMSNRB, source: UA47.RB.A45 from 2016-12-07 20:15:28.300 to 2016-12-07 20:32:18.300\n"
     ]
    },
    {
     "data": {
      "text/html": [
       "<text style=color:blue>Executing RB.A45 query function query_ee_u_dump_res_pm: 2/45.</text>"
      ],
      "text/plain": [
       "<IPython.core.display.HTML object>"
      ]
     },
     "metadata": {},
     "output_type": "display_data"
    },
    {
     "name": "stdout",
     "output_type": "stream",
     "text": [
      "\tQuerying PM event signal(s) UA47.RB.A45:U_DUMP_RES for system: QPS, className: DQAMSNRB, source: UA47.RB.A45 at 2016-12-07 20:15:38.868\n"
     ]
    },
    {
     "data": {
      "text/html": [
       "<text style=color:blue>Executing RB.A45 query function find_source_timestamp_ee: 3/45.</text>"
      ],
      "text/plain": [
       "<IPython.core.display.HTML object>"
      ]
     },
     "metadata": {},
     "output_type": "display_data"
    },
    {
     "name": "stdout",
     "output_type": "stream",
     "text": [
      "\tQuerying PM event timestamps for system: QPS, className: DQAMSNRB, source: RR53.RB.A45 from 2016-12-07 20:15:28.300 to 2016-12-07 20:32:18.300\n"
     ]
    },
    {
     "data": {
      "text/html": [
       "<text style=color:blue>Executing RB.A45 query function query_ee_u_dump_res_pm: 4/45.</text>"
      ],
      "text/plain": [
       "<IPython.core.display.HTML object>"
      ]
     },
     "metadata": {},
     "output_type": "display_data"
    },
    {
     "name": "stdout",
     "output_type": "stream",
     "text": [
      "\tQuerying PM event signal(s) RR53.RB.A45:U_DUMP_RES for system: QPS, className: DQAMSNRB, source: RR53.RB.A45 at 2016-12-07 20:15:38.611\n"
     ]
    },
    {
     "data": {
      "text/html": [
       "<text style=color:blue>Executing RB.A45 query function find_timestamp_pic: 5/45.</text>"
      ],
      "text/plain": [
       "<IPython.core.display.HTML object>"
      ]
     },
     "metadata": {},
     "output_type": "display_data"
    },
    {
     "name": "stdout",
     "output_type": "stream",
     "text": [
      "\tQuerying NXCALS signal(s) RB.A45.ODD:ST_ABORT_PIC, RB.A45.EVEN:ST_ABORT_PIC from 2016-12-07 20:15:37.300 to 2016-12-07 20:16:38.300\n"
     ]
    },
    {
     "data": {
      "text/html": [
       "<text style=color:blue>Executing RB.A45 query function find_source_timestamp_qds: 6/45.</text>"
      ],
      "text/plain": [
       "<IPython.core.display.HTML object>"
      ]
     },
     "metadata": {},
     "output_type": "display_data"
    },
    {
     "name": "stdout",
     "output_type": "stream",
     "text": [
      "\tQuerying PM event timestamps for system: QPS, className: DQAMCNMB_PMSTD, source: * from 2016-12-07 20:14:48.300 to 2016-12-07 20:23:58.300\n"
     ]
    },
    {
     "data": {
      "text/html": [
       "<text style=color:blue>Executing RB.A45 query function find_source_timestamp_ee: 1/45.</text>"
      ],
      "text/plain": [
       "<IPython.core.display.HTML object>"
      ]
     },
     "metadata": {},
     "output_type": "display_data"
    },
    {
     "name": "stdout",
     "output_type": "stream",
     "text": [
      "\tQuerying PM event timestamps for system: QPS, className: DQAMSNRB, source: UA47.RB.A45 from 2016-12-09 13:29:29.860 to 2016-12-09 13:46:19.860\n"
     ]
    },
    {
     "data": {
      "text/html": [
       "<text style=color:blue>Executing RB.A45 query function query_ee_u_dump_res_pm: 2/45.</text>"
      ],
      "text/plain": [
       "<IPython.core.display.HTML object>"
      ]
     },
     "metadata": {},
     "output_type": "display_data"
    },
    {
     "name": "stdout",
     "output_type": "stream",
     "text": [
      "\tQuerying PM event signal(s) UA47.RB.A45:U_DUMP_RES for system: QPS, className: DQAMSNRB, source: UA47.RB.A45 at 2016-12-09 13:29:40.417\n"
     ]
    },
    {
     "data": {
      "text/html": [
       "<text style=color:blue>Executing RB.A45 query function find_source_timestamp_ee: 3/45.</text>"
      ],
      "text/plain": [
       "<IPython.core.display.HTML object>"
      ]
     },
     "metadata": {},
     "output_type": "display_data"
    },
    {
     "name": "stdout",
     "output_type": "stream",
     "text": [
      "\tQuerying PM event timestamps for system: QPS, className: DQAMSNRB, source: RR53.RB.A45 from 2016-12-09 13:29:29.860 to 2016-12-09 13:46:19.860\n"
     ]
    },
    {
     "data": {
      "text/html": [
       "<text style=color:blue>Executing RB.A45 query function query_ee_u_dump_res_pm: 4/45.</text>"
      ],
      "text/plain": [
       "<IPython.core.display.HTML object>"
      ]
     },
     "metadata": {},
     "output_type": "display_data"
    },
    {
     "name": "stdout",
     "output_type": "stream",
     "text": [
      "\tQuerying PM event signal(s) RR53.RB.A45:U_DUMP_RES for system: QPS, className: DQAMSNRB, source: RR53.RB.A45 at 2016-12-09 13:29:40.162\n"
     ]
    },
    {
     "data": {
      "text/html": [
       "<text style=color:blue>Executing RB.A45 query function find_timestamp_pic: 5/45.</text>"
      ],
      "text/plain": [
       "<IPython.core.display.HTML object>"
      ]
     },
     "metadata": {},
     "output_type": "display_data"
    },
    {
     "name": "stdout",
     "output_type": "stream",
     "text": [
      "\tQuerying NXCALS signal(s) RB.A45.ODD:ST_ABORT_PIC, RB.A45.EVEN:ST_ABORT_PIC from 2016-12-09 13:29:38.860 to 2016-12-09 13:30:39.860\n"
     ]
    },
    {
     "data": {
      "text/html": [
       "<text style=color:blue>Executing RB.A45 query function find_source_timestamp_qds: 6/45.</text>"
      ],
      "text/plain": [
       "<IPython.core.display.HTML object>"
      ]
     },
     "metadata": {},
     "output_type": "display_data"
    },
    {
     "name": "stdout",
     "output_type": "stream",
     "text": [
      "\tQuerying PM event timestamps for system: QPS, className: DQAMCNMB_PMSTD, source: * from 2016-12-09 13:28:49.860 to 2016-12-09 13:37:59.860\n"
     ]
    },
    {
     "data": {
      "text/html": [
       "<text style=color:blue>Executing RB.A45 query function find_source_timestamp_ee: 1/45.</text>"
      ],
      "text/plain": [
       "<IPython.core.display.HTML object>"
      ]
     },
     "metadata": {},
     "output_type": "display_data"
    },
    {
     "name": "stdout",
     "output_type": "stream",
     "text": [
      "\tQuerying PM event timestamps for system: QPS, className: DQAMSNRB, source: UA47.RB.A45 from 2016-12-10 00:49:56.860 to 2016-12-10 01:06:46.860\n"
     ]
    },
    {
     "data": {
      "text/html": [
       "<text style=color:blue>Executing RB.A45 query function query_ee_u_dump_res_pm: 2/45.</text>"
      ],
      "text/plain": [
       "<IPython.core.display.HTML object>"
      ]
     },
     "metadata": {},
     "output_type": "display_data"
    },
    {
     "name": "stdout",
     "output_type": "stream",
     "text": [
      "\tQuerying PM event signal(s) UA47.RB.A45:U_DUMP_RES for system: QPS, className: DQAMSNRB, source: UA47.RB.A45 at 2016-12-10 00:50:07.421\n"
     ]
    },
    {
     "data": {
      "text/html": [
       "<text style=color:blue>Executing RB.A45 query function find_source_timestamp_ee: 3/45.</text>"
      ],
      "text/plain": [
       "<IPython.core.display.HTML object>"
      ]
     },
     "metadata": {},
     "output_type": "display_data"
    },
    {
     "name": "stdout",
     "output_type": "stream",
     "text": [
      "\tQuerying PM event timestamps for system: QPS, className: DQAMSNRB, source: RR53.RB.A45 from 2016-12-10 00:49:56.860 to 2016-12-10 01:06:46.860\n"
     ]
    },
    {
     "data": {
      "text/html": [
       "<text style=color:blue>Executing RB.A45 query function query_ee_u_dump_res_pm: 4/45.</text>"
      ],
      "text/plain": [
       "<IPython.core.display.HTML object>"
      ]
     },
     "metadata": {},
     "output_type": "display_data"
    },
    {
     "name": "stdout",
     "output_type": "stream",
     "text": [
      "\tQuerying PM event signal(s) RR53.RB.A45:U_DUMP_RES for system: QPS, className: DQAMSNRB, source: RR53.RB.A45 at 2016-12-10 00:50:07.166\n"
     ]
    },
    {
     "data": {
      "text/html": [
       "<text style=color:blue>Executing RB.A45 query function find_timestamp_pic: 5/45.</text>"
      ],
      "text/plain": [
       "<IPython.core.display.HTML object>"
      ]
     },
     "metadata": {},
     "output_type": "display_data"
    },
    {
     "name": "stdout",
     "output_type": "stream",
     "text": [
      "\tQuerying NXCALS signal(s) RB.A45.ODD:ST_ABORT_PIC, RB.A45.EVEN:ST_ABORT_PIC from 2016-12-10 00:50:05.860 to 2016-12-10 00:51:06.860\n"
     ]
    },
    {
     "data": {
      "text/html": [
       "<text style=color:blue>Executing RB.A45 query function find_source_timestamp_qds: 6/45.</text>"
      ],
      "text/plain": [
       "<IPython.core.display.HTML object>"
      ]
     },
     "metadata": {},
     "output_type": "display_data"
    },
    {
     "name": "stdout",
     "output_type": "stream",
     "text": [
      "\tQuerying PM event timestamps for system: QPS, className: DQAMCNMB_PMSTD, source: * from 2016-12-10 00:49:16.860 to 2016-12-10 00:58:26.860\n"
     ]
    },
    {
     "data": {
      "text/html": [
       "<text style=color:blue>Executing RB.A45 query function find_source_timestamp_ee: 1/45.</text>"
      ],
      "text/plain": [
       "<IPython.core.display.HTML object>"
      ]
     },
     "metadata": {},
     "output_type": "display_data"
    },
    {
     "name": "stdout",
     "output_type": "stream",
     "text": [
      "\tQuerying PM event timestamps for system: QPS, className: DQAMSNRB, source: UA47.RB.A45 from 2016-12-10 11:01:53.100 to 2016-12-10 11:18:43.100\n"
     ]
    },
    {
     "data": {
      "text/html": [
       "<text style=color:blue>Executing RB.A45 query function query_ee_u_dump_res_pm: 2/45.</text>"
      ],
      "text/plain": [
       "<IPython.core.display.HTML object>"
      ]
     },
     "metadata": {},
     "output_type": "display_data"
    },
    {
     "name": "stdout",
     "output_type": "stream",
     "text": [
      "\tQuerying PM event signal(s) UA47.RB.A45:U_DUMP_RES for system: QPS, className: DQAMSNRB, source: UA47.RB.A45 at 2016-12-10 11:02:03.671\n"
     ]
    },
    {
     "data": {
      "text/html": [
       "<text style=color:blue>Executing RB.A45 query function find_source_timestamp_ee: 3/45.</text>"
      ],
      "text/plain": [
       "<IPython.core.display.HTML object>"
      ]
     },
     "metadata": {},
     "output_type": "display_data"
    },
    {
     "name": "stdout",
     "output_type": "stream",
     "text": [
      "\tQuerying PM event timestamps for system: QPS, className: DQAMSNRB, source: RR53.RB.A45 from 2016-12-10 11:01:53.100 to 2016-12-10 11:18:43.100\n"
     ]
    },
    {
     "data": {
      "text/html": [
       "<text style=color:blue>Executing RB.A45 query function query_ee_u_dump_res_pm: 4/45.</text>"
      ],
      "text/plain": [
       "<IPython.core.display.HTML object>"
      ]
     },
     "metadata": {},
     "output_type": "display_data"
    },
    {
     "name": "stdout",
     "output_type": "stream",
     "text": [
      "\tQuerying PM event signal(s) RR53.RB.A45:U_DUMP_RES for system: QPS, className: DQAMSNRB, source: RR53.RB.A45 at 2016-12-10 11:02:03.412\n"
     ]
    },
    {
     "data": {
      "text/html": [
       "<text style=color:blue>Executing RB.A45 query function find_timestamp_pic: 5/45.</text>"
      ],
      "text/plain": [
       "<IPython.core.display.HTML object>"
      ]
     },
     "metadata": {},
     "output_type": "display_data"
    },
    {
     "name": "stdout",
     "output_type": "stream",
     "text": [
      "\tQuerying NXCALS signal(s) RB.A45.ODD:ST_ABORT_PIC, RB.A45.EVEN:ST_ABORT_PIC from 2016-12-10 11:02:02.100 to 2016-12-10 11:03:03.100\n"
     ]
    },
    {
     "data": {
      "text/html": [
       "<text style=color:blue>Executing RB.A45 query function find_source_timestamp_qds: 6/45.</text>"
      ],
      "text/plain": [
       "<IPython.core.display.HTML object>"
      ]
     },
     "metadata": {},
     "output_type": "display_data"
    },
    {
     "name": "stdout",
     "output_type": "stream",
     "text": [
      "\tQuerying PM event timestamps for system: QPS, className: DQAMCNMB_PMSTD, source: * from 2016-12-10 11:01:13.100 to 2016-12-10 11:10:23.100\n"
     ]
    },
    {
     "data": {
      "text/html": [
       "<text style=color:blue>Executing RB.A45 query function find_source_timestamp_ee: 1/45.</text>"
      ],
      "text/plain": [
       "<IPython.core.display.HTML object>"
      ]
     },
     "metadata": {},
     "output_type": "display_data"
    },
    {
     "name": "stdout",
     "output_type": "stream",
     "text": [
      "\tQuerying PM event timestamps for system: QPS, className: DQAMSNRB, source: UA47.RB.A45 from 2016-12-10 18:41:15.800 to 2016-12-10 18:58:05.800\n"
     ]
    },
    {
     "data": {
      "text/html": [
       "<text style=color:blue>Executing RB.A45 query function query_ee_u_dump_res_pm: 2/45.</text>"
      ],
      "text/plain": [
       "<IPython.core.display.HTML object>"
      ]
     },
     "metadata": {},
     "output_type": "display_data"
    },
    {
     "name": "stdout",
     "output_type": "stream",
     "text": [
      "\tQuerying PM event signal(s) UA47.RB.A45:U_DUMP_RES for system: QPS, className: DQAMSNRB, source: UA47.RB.A45 at 2016-12-10 18:41:26.360\n"
     ]
    },
    {
     "data": {
      "text/html": [
       "<text style=color:blue>Executing RB.A45 query function find_source_timestamp_ee: 3/45.</text>"
      ],
      "text/plain": [
       "<IPython.core.display.HTML object>"
      ]
     },
     "metadata": {},
     "output_type": "display_data"
    },
    {
     "name": "stdout",
     "output_type": "stream",
     "text": [
      "\tQuerying PM event timestamps for system: QPS, className: DQAMSNRB, source: RR53.RB.A45 from 2016-12-10 18:41:15.800 to 2016-12-10 18:58:05.800\n"
     ]
    },
    {
     "data": {
      "text/html": [
       "<text style=color:blue>Executing RB.A45 query function query_ee_u_dump_res_pm: 4/45.</text>"
      ],
      "text/plain": [
       "<IPython.core.display.HTML object>"
      ]
     },
     "metadata": {},
     "output_type": "display_data"
    },
    {
     "name": "stdout",
     "output_type": "stream",
     "text": [
      "\tQuerying PM event signal(s) RR53.RB.A45:U_DUMP_RES for system: QPS, className: DQAMSNRB, source: RR53.RB.A45 at 2016-12-10 18:41:26.100\n"
     ]
    },
    {
     "data": {
      "text/html": [
       "<text style=color:blue>Executing RB.A45 query function find_timestamp_pic: 5/45.</text>"
      ],
      "text/plain": [
       "<IPython.core.display.HTML object>"
      ]
     },
     "metadata": {},
     "output_type": "display_data"
    },
    {
     "name": "stdout",
     "output_type": "stream",
     "text": [
      "\tQuerying NXCALS signal(s) RB.A45.ODD:ST_ABORT_PIC, RB.A45.EVEN:ST_ABORT_PIC from 2016-12-10 18:41:24.800 to 2016-12-10 18:42:25.800\n"
     ]
    },
    {
     "data": {
      "text/html": [
       "<text style=color:blue>Executing RB.A45 query function find_source_timestamp_qds: 6/45.</text>"
      ],
      "text/plain": [
       "<IPython.core.display.HTML object>"
      ]
     },
     "metadata": {},
     "output_type": "display_data"
    },
    {
     "name": "stdout",
     "output_type": "stream",
     "text": [
      "\tQuerying PM event timestamps for system: QPS, className: DQAMCNMB_PMSTD, source: * from 2016-12-10 18:40:35.800 to 2016-12-10 18:49:45.800\n"
     ]
    },
    {
     "data": {
      "text/html": [
       "<text style=color:blue>Executing RB.A45 query function find_source_timestamp_ee: 1/45.</text>"
      ],
      "text/plain": [
       "<IPython.core.display.HTML object>"
      ]
     },
     "metadata": {},
     "output_type": "display_data"
    },
    {
     "name": "stdout",
     "output_type": "stream",
     "text": [
      "\tQuerying PM event timestamps for system: QPS, className: DQAMSNRB, source: UA47.RB.A45 from 2016-12-11 04:34:10.620 to 2016-12-11 04:51:00.620\n"
     ]
    },
    {
     "data": {
      "text/html": [
       "<text style=color:blue>Executing RB.A45 query function query_ee_u_dump_res_pm: 2/45.</text>"
      ],
      "text/plain": [
       "<IPython.core.display.HTML object>"
      ]
     },
     "metadata": {},
     "output_type": "display_data"
    },
    {
     "name": "stdout",
     "output_type": "stream",
     "text": [
      "\tQuerying PM event signal(s) UA47.RB.A45:U_DUMP_RES for system: QPS, className: DQAMSNRB, source: UA47.RB.A45 at 2016-12-11 04:34:21.186\n"
     ]
    },
    {
     "data": {
      "text/html": [
       "<text style=color:blue>Executing RB.A45 query function find_source_timestamp_ee: 3/45.</text>"
      ],
      "text/plain": [
       "<IPython.core.display.HTML object>"
      ]
     },
     "metadata": {},
     "output_type": "display_data"
    },
    {
     "name": "stdout",
     "output_type": "stream",
     "text": [
      "\tQuerying PM event timestamps for system: QPS, className: DQAMSNRB, source: RR53.RB.A45 from 2016-12-11 04:34:10.620 to 2016-12-11 04:51:00.620\n"
     ]
    },
    {
     "data": {
      "text/html": [
       "<text style=color:blue>Executing RB.A45 query function query_ee_u_dump_res_pm: 4/45.</text>"
      ],
      "text/plain": [
       "<IPython.core.display.HTML object>"
      ]
     },
     "metadata": {},
     "output_type": "display_data"
    },
    {
     "name": "stdout",
     "output_type": "stream",
     "text": [
      "\tQuerying PM event signal(s) RR53.RB.A45:U_DUMP_RES for system: QPS, className: DQAMSNRB, source: RR53.RB.A45 at 2016-12-11 04:34:20.928\n"
     ]
    },
    {
     "data": {
      "text/html": [
       "<text style=color:blue>Executing RB.A45 query function find_timestamp_pic: 5/45.</text>"
      ],
      "text/plain": [
       "<IPython.core.display.HTML object>"
      ]
     },
     "metadata": {},
     "output_type": "display_data"
    },
    {
     "name": "stdout",
     "output_type": "stream",
     "text": [
      "\tQuerying NXCALS signal(s) RB.A45.ODD:ST_ABORT_PIC, RB.A45.EVEN:ST_ABORT_PIC from 2016-12-11 04:34:19.620 to 2016-12-11 04:35:20.620\n"
     ]
    },
    {
     "data": {
      "text/html": [
       "<text style=color:blue>Executing RB.A45 query function find_source_timestamp_qds: 6/45.</text>"
      ],
      "text/plain": [
       "<IPython.core.display.HTML object>"
      ]
     },
     "metadata": {},
     "output_type": "display_data"
    },
    {
     "name": "stdout",
     "output_type": "stream",
     "text": [
      "\tQuerying PM event timestamps for system: QPS, className: DQAMCNMB_PMSTD, source: * from 2016-12-11 04:33:30.620 to 2016-12-11 04:42:40.620\n"
     ]
    },
    {
     "data": {
      "text/html": [
       "<text style=color:blue>Executing RB.A45 query function find_source_timestamp_ee: 1/45.</text>"
      ],
      "text/plain": [
       "<IPython.core.display.HTML object>"
      ]
     },
     "metadata": {},
     "output_type": "display_data"
    },
    {
     "name": "stdout",
     "output_type": "stream",
     "text": [
      "\tQuerying PM event timestamps for system: QPS, className: DQAMSNRB, source: UA47.RB.A45 from 2016-12-11 11:30:17.040 to 2016-12-11 11:47:07.040\n"
     ]
    },
    {
     "data": {
      "text/html": [
       "<text style=color:blue>Executing RB.A45 query function query_ee_u_dump_res_pm: 2/45.</text>"
      ],
      "text/plain": [
       "<IPython.core.display.HTML object>"
      ]
     },
     "metadata": {},
     "output_type": "display_data"
    },
    {
     "name": "stdout",
     "output_type": "stream",
     "text": [
      "\tQuerying PM event signal(s) UA47.RB.A45:U_DUMP_RES for system: QPS, className: DQAMSNRB, source: UA47.RB.A45 at 2016-12-11 11:30:27.617\n"
     ]
    },
    {
     "data": {
      "text/html": [
       "<text style=color:blue>Executing RB.A45 query function find_source_timestamp_ee: 3/45.</text>"
      ],
      "text/plain": [
       "<IPython.core.display.HTML object>"
      ]
     },
     "metadata": {},
     "output_type": "display_data"
    },
    {
     "name": "stdout",
     "output_type": "stream",
     "text": [
      "\tQuerying PM event timestamps for system: QPS, className: DQAMSNRB, source: RR53.RB.A45 from 2016-12-11 11:30:17.040 to 2016-12-11 11:47:07.040\n"
     ]
    },
    {
     "data": {
      "text/html": [
       "<text style=color:blue>Executing RB.A45 query function query_ee_u_dump_res_pm: 4/45.</text>"
      ],
      "text/plain": [
       "<IPython.core.display.HTML object>"
      ]
     },
     "metadata": {},
     "output_type": "display_data"
    },
    {
     "name": "stdout",
     "output_type": "stream",
     "text": [
      "\tQuerying PM event signal(s) RR53.RB.A45:U_DUMP_RES for system: QPS, className: DQAMSNRB, source: RR53.RB.A45 at 2016-12-11 11:30:27.357\n"
     ]
    },
    {
     "data": {
      "text/html": [
       "<text style=color:blue>Executing RB.A45 query function find_timestamp_pic: 5/45.</text>"
      ],
      "text/plain": [
       "<IPython.core.display.HTML object>"
      ]
     },
     "metadata": {},
     "output_type": "display_data"
    },
    {
     "name": "stdout",
     "output_type": "stream",
     "text": [
      "\tQuerying NXCALS signal(s) RB.A45.ODD:ST_ABORT_PIC, RB.A45.EVEN:ST_ABORT_PIC from 2016-12-11 11:30:26.040 to 2016-12-11 11:31:27.040\n"
     ]
    },
    {
     "data": {
      "text/html": [
       "<text style=color:blue>Executing RB.A45 query function find_source_timestamp_qds: 6/45.</text>"
      ],
      "text/plain": [
       "<IPython.core.display.HTML object>"
      ]
     },
     "metadata": {},
     "output_type": "display_data"
    },
    {
     "name": "stdout",
     "output_type": "stream",
     "text": [
      "\tQuerying PM event timestamps for system: QPS, className: DQAMCNMB_PMSTD, source: * from 2016-12-11 11:29:37.040 to 2016-12-11 11:38:47.040\n"
     ]
    },
    {
     "data": {
      "text/html": [
       "<text style=color:blue>Executing RB.A45 query function find_source_timestamp_ee: 1/45.</text>"
      ],
      "text/plain": [
       "<IPython.core.display.HTML object>"
      ]
     },
     "metadata": {},
     "output_type": "display_data"
    },
    {
     "name": "stdout",
     "output_type": "stream",
     "text": [
      "\tQuerying PM event timestamps for system: QPS, className: DQAMSNRB, source: UA47.RB.A45 from 2016-12-11 17:39:15.700 to 2016-12-11 17:56:05.700\n"
     ]
    },
    {
     "data": {
      "text/html": [
       "<text style=color:blue>Executing RB.A45 query function query_ee_u_dump_res_pm: 2/45.</text>"
      ],
      "text/plain": [
       "<IPython.core.display.HTML object>"
      ]
     },
     "metadata": {},
     "output_type": "display_data"
    },
    {
     "name": "stdout",
     "output_type": "stream",
     "text": [
      "\tQuerying PM event signal(s) UA47.RB.A45:U_DUMP_RES for system: QPS, className: DQAMSNRB, source: UA47.RB.A45 at 2016-12-11 17:39:26.264\n"
     ]
    },
    {
     "data": {
      "text/html": [
       "<text style=color:blue>Executing RB.A45 query function find_source_timestamp_ee: 3/45.</text>"
      ],
      "text/plain": [
       "<IPython.core.display.HTML object>"
      ]
     },
     "metadata": {},
     "output_type": "display_data"
    },
    {
     "name": "stdout",
     "output_type": "stream",
     "text": [
      "\tQuerying PM event timestamps for system: QPS, className: DQAMSNRB, source: RR53.RB.A45 from 2016-12-11 17:39:15.700 to 2016-12-11 17:56:05.700\n"
     ]
    },
    {
     "data": {
      "text/html": [
       "<text style=color:blue>Executing RB.A45 query function query_ee_u_dump_res_pm: 4/45.</text>"
      ],
      "text/plain": [
       "<IPython.core.display.HTML object>"
      ]
     },
     "metadata": {},
     "output_type": "display_data"
    },
    {
     "name": "stdout",
     "output_type": "stream",
     "text": [
      "\tQuerying PM event signal(s) RR53.RB.A45:U_DUMP_RES for system: QPS, className: DQAMSNRB, source: RR53.RB.A45 at 2016-12-11 17:39:26.004\n"
     ]
    },
    {
     "data": {
      "text/html": [
       "<text style=color:blue>Executing RB.A45 query function find_timestamp_pic: 5/45.</text>"
      ],
      "text/plain": [
       "<IPython.core.display.HTML object>"
      ]
     },
     "metadata": {},
     "output_type": "display_data"
    },
    {
     "name": "stdout",
     "output_type": "stream",
     "text": [
      "\tQuerying NXCALS signal(s) RB.A45.ODD:ST_ABORT_PIC, RB.A45.EVEN:ST_ABORT_PIC from 2016-12-11 17:39:24.700 to 2016-12-11 17:40:25.700\n"
     ]
    },
    {
     "data": {
      "text/html": [
       "<text style=color:blue>Executing RB.A45 query function find_source_timestamp_qds: 6/45.</text>"
      ],
      "text/plain": [
       "<IPython.core.display.HTML object>"
      ]
     },
     "metadata": {},
     "output_type": "display_data"
    },
    {
     "name": "stdout",
     "output_type": "stream",
     "text": [
      "\tQuerying PM event timestamps for system: QPS, className: DQAMCNMB_PMSTD, source: * from 2016-12-11 17:38:35.700 to 2016-12-11 17:47:45.700\n"
     ]
    },
    {
     "data": {
      "text/html": [
       "<text style=color:blue>Executing RB.A45 query function find_source_timestamp_ee: 1/45.</text>"
      ],
      "text/plain": [
       "<IPython.core.display.HTML object>"
      ]
     },
     "metadata": {},
     "output_type": "display_data"
    },
    {
     "name": "stdout",
     "output_type": "stream",
     "text": [
      "\tQuerying PM event timestamps for system: QPS, className: DQAMSNRB, source: UA47.RB.A45 from 2016-12-12 03:14:54.620 to 2016-12-12 03:31:44.620\n"
     ]
    },
    {
     "data": {
      "text/html": [
       "<text style=color:blue>Executing RB.A45 query function query_ee_u_dump_res_pm: 2/45.</text>"
      ],
      "text/plain": [
       "<IPython.core.display.HTML object>"
      ]
     },
     "metadata": {},
     "output_type": "display_data"
    },
    {
     "name": "stdout",
     "output_type": "stream",
     "text": [
      "\tQuerying PM event signal(s) UA47.RB.A45:U_DUMP_RES for system: QPS, className: DQAMSNRB, source: UA47.RB.A45 at 2016-12-12 03:15:05.179\n"
     ]
    },
    {
     "data": {
      "text/html": [
       "<text style=color:blue>Executing RB.A45 query function find_source_timestamp_ee: 3/45.</text>"
      ],
      "text/plain": [
       "<IPython.core.display.HTML object>"
      ]
     },
     "metadata": {},
     "output_type": "display_data"
    },
    {
     "name": "stdout",
     "output_type": "stream",
     "text": [
      "\tQuerying PM event timestamps for system: QPS, className: DQAMSNRB, source: RR53.RB.A45 from 2016-12-12 03:14:54.620 to 2016-12-12 03:31:44.620\n"
     ]
    },
    {
     "data": {
      "text/html": [
       "<text style=color:blue>Executing RB.A45 query function query_ee_u_dump_res_pm: 4/45.</text>"
      ],
      "text/plain": [
       "<IPython.core.display.HTML object>"
      ]
     },
     "metadata": {},
     "output_type": "display_data"
    },
    {
     "name": "stdout",
     "output_type": "stream",
     "text": [
      "\tQuerying PM event signal(s) RR53.RB.A45:U_DUMP_RES for system: QPS, className: DQAMSNRB, source: RR53.RB.A45 at 2016-12-12 03:15:04.922\n"
     ]
    },
    {
     "data": {
      "text/html": [
       "<text style=color:blue>Executing RB.A45 query function find_timestamp_pic: 5/45.</text>"
      ],
      "text/plain": [
       "<IPython.core.display.HTML object>"
      ]
     },
     "metadata": {},
     "output_type": "display_data"
    },
    {
     "name": "stdout",
     "output_type": "stream",
     "text": [
      "\tQuerying NXCALS signal(s) RB.A45.ODD:ST_ABORT_PIC, RB.A45.EVEN:ST_ABORT_PIC from 2016-12-12 03:15:03.620 to 2016-12-12 03:16:04.620\n"
     ]
    },
    {
     "data": {
      "text/html": [
       "<text style=color:blue>Executing RB.A45 query function find_source_timestamp_qds: 6/45.</text>"
      ],
      "text/plain": [
       "<IPython.core.display.HTML object>"
      ]
     },
     "metadata": {},
     "output_type": "display_data"
    },
    {
     "name": "stdout",
     "output_type": "stream",
     "text": [
      "\tQuerying PM event timestamps for system: QPS, className: DQAMCNMB_PMSTD, source: * from 2016-12-12 03:14:14.620 to 2016-12-12 03:23:24.620\n"
     ]
    },
    {
     "data": {
      "text/html": [
       "<text style=color:blue>Executing RB.A45 query function find_source_timestamp_ee: 1/45.</text>"
      ],
      "text/plain": [
       "<IPython.core.display.HTML object>"
      ]
     },
     "metadata": {},
     "output_type": "display_data"
    },
    {
     "name": "stdout",
     "output_type": "stream",
     "text": [
      "\tQuerying PM event timestamps for system: QPS, className: DQAMSNRB, source: UA47.RB.A45 from 2016-12-12 11:37:42.580 to 2016-12-12 11:54:32.580\n"
     ]
    },
    {
     "data": {
      "text/html": [
       "<text style=color:blue>Executing RB.A45 query function query_ee_u_dump_res_pm: 2/45.</text>"
      ],
      "text/plain": [
       "<IPython.core.display.HTML object>"
      ]
     },
     "metadata": {},
     "output_type": "display_data"
    },
    {
     "name": "stdout",
     "output_type": "stream",
     "text": [
      "\tQuerying PM event signal(s) UA47.RB.A45:U_DUMP_RES for system: QPS, className: DQAMSNRB, source: UA47.RB.A45 at 2016-12-12 11:37:53.145\n"
     ]
    },
    {
     "data": {
      "text/html": [
       "<text style=color:blue>Executing RB.A45 query function find_source_timestamp_ee: 3/45.</text>"
      ],
      "text/plain": [
       "<IPython.core.display.HTML object>"
      ]
     },
     "metadata": {},
     "output_type": "display_data"
    },
    {
     "name": "stdout",
     "output_type": "stream",
     "text": [
      "\tQuerying PM event timestamps for system: QPS, className: DQAMSNRB, source: RR53.RB.A45 from 2016-12-12 11:37:42.580 to 2016-12-12 11:54:32.580\n"
     ]
    },
    {
     "data": {
      "text/html": [
       "<text style=color:blue>Executing RB.A45 query function query_ee_u_dump_res_pm: 4/45.</text>"
      ],
      "text/plain": [
       "<IPython.core.display.HTML object>"
      ]
     },
     "metadata": {},
     "output_type": "display_data"
    },
    {
     "name": "stdout",
     "output_type": "stream",
     "text": [
      "\tQuerying PM event signal(s) RR53.RB.A45:U_DUMP_RES for system: QPS, className: DQAMSNRB, source: RR53.RB.A45 at 2016-12-12 11:37:52.887\n"
     ]
    },
    {
     "data": {
      "text/html": [
       "<text style=color:blue>Executing RB.A45 query function find_timestamp_pic: 5/45.</text>"
      ],
      "text/plain": [
       "<IPython.core.display.HTML object>"
      ]
     },
     "metadata": {},
     "output_type": "display_data"
    },
    {
     "name": "stdout",
     "output_type": "stream",
     "text": [
      "\tQuerying NXCALS signal(s) RB.A45.ODD:ST_ABORT_PIC, RB.A45.EVEN:ST_ABORT_PIC from 2016-12-12 11:37:51.580 to 2016-12-12 11:38:52.580\n"
     ]
    },
    {
     "data": {
      "text/html": [
       "<text style=color:blue>Executing RB.A45 query function find_source_timestamp_qds: 6/45.</text>"
      ],
      "text/plain": [
       "<IPython.core.display.HTML object>"
      ]
     },
     "metadata": {},
     "output_type": "display_data"
    },
    {
     "name": "stdout",
     "output_type": "stream",
     "text": [
      "\tQuerying PM event timestamps for system: QPS, className: DQAMCNMB_PMSTD, source: * from 2016-12-12 11:37:02.580 to 2016-12-12 11:46:12.580\n"
     ]
    },
    {
     "data": {
      "text/html": [
       "<text style=color:blue>Executing RB.A45 query function find_source_timestamp_ee: 1/45.</text>"
      ],
      "text/plain": [
       "<IPython.core.display.HTML object>"
      ]
     },
     "metadata": {},
     "output_type": "display_data"
    },
    {
     "name": "stdout",
     "output_type": "stream",
     "text": [
      "\tQuerying PM event timestamps for system: QPS, className: DQAMSNRB, source: UA47.RB.A45 from 2016-12-12 21:45:24.460 to 2016-12-12 22:02:14.460\n"
     ]
    },
    {
     "data": {
      "text/html": [
       "<text style=color:blue>Executing RB.A45 query function query_ee_u_dump_res_pm: 2/45.</text>"
      ],
      "text/plain": [
       "<IPython.core.display.HTML object>"
      ]
     },
     "metadata": {},
     "output_type": "display_data"
    },
    {
     "name": "stdout",
     "output_type": "stream",
     "text": [
      "\tQuerying PM event signal(s) UA47.RB.A45:U_DUMP_RES for system: QPS, className: DQAMSNRB, source: UA47.RB.A45 at 2016-12-12 21:45:35.015\n"
     ]
    },
    {
     "data": {
      "text/html": [
       "<text style=color:blue>Executing RB.A45 query function find_source_timestamp_ee: 3/45.</text>"
      ],
      "text/plain": [
       "<IPython.core.display.HTML object>"
      ]
     },
     "metadata": {},
     "output_type": "display_data"
    },
    {
     "name": "stdout",
     "output_type": "stream",
     "text": [
      "\tQuerying PM event timestamps for system: QPS, className: DQAMSNRB, source: RR53.RB.A45 from 2016-12-12 21:45:24.460 to 2016-12-12 22:02:14.460\n"
     ]
    },
    {
     "data": {
      "text/html": [
       "<text style=color:blue>Executing RB.A45 query function query_ee_u_dump_res_pm: 4/45.</text>"
      ],
      "text/plain": [
       "<IPython.core.display.HTML object>"
      ]
     },
     "metadata": {},
     "output_type": "display_data"
    },
    {
     "name": "stdout",
     "output_type": "stream",
     "text": [
      "\tQuerying PM event signal(s) RR53.RB.A45:U_DUMP_RES for system: QPS, className: DQAMSNRB, source: RR53.RB.A45 at 2016-12-12 21:45:34.761\n"
     ]
    },
    {
     "data": {
      "text/html": [
       "<text style=color:blue>Executing RB.A45 query function find_timestamp_pic: 5/45.</text>"
      ],
      "text/plain": [
       "<IPython.core.display.HTML object>"
      ]
     },
     "metadata": {},
     "output_type": "display_data"
    },
    {
     "name": "stdout",
     "output_type": "stream",
     "text": [
      "\tQuerying NXCALS signal(s) RB.A45.ODD:ST_ABORT_PIC, RB.A45.EVEN:ST_ABORT_PIC from 2016-12-12 21:45:33.460 to 2016-12-12 21:46:34.460\n"
     ]
    },
    {
     "data": {
      "text/html": [
       "<text style=color:blue>Executing RB.A45 query function find_source_timestamp_qds: 6/45.</text>"
      ],
      "text/plain": [
       "<IPython.core.display.HTML object>"
      ]
     },
     "metadata": {},
     "output_type": "display_data"
    },
    {
     "name": "stdout",
     "output_type": "stream",
     "text": [
      "\tQuerying PM event timestamps for system: QPS, className: DQAMCNMB_PMSTD, source: * from 2016-12-12 21:44:44.460 to 2016-12-12 21:53:54.460\n"
     ]
    },
    {
     "data": {
      "text/html": [
       "<text style=color:blue>Executing RB.A45 query function find_source_timestamp_ee: 1/45.</text>"
      ],
      "text/plain": [
       "<IPython.core.display.HTML object>"
      ]
     },
     "metadata": {},
     "output_type": "display_data"
    },
    {
     "name": "stdout",
     "output_type": "stream",
     "text": [
      "\tQuerying PM event timestamps for system: QPS, className: DQAMSNRB, source: UA47.RB.A45 from 2016-12-13 07:51:56.220 to 2016-12-13 08:08:46.220\n"
     ]
    },
    {
     "data": {
      "text/html": [
       "<text style=color:blue>Executing RB.A45 query function query_ee_u_dump_res_pm: 2/45.</text>"
      ],
      "text/plain": [
       "<IPython.core.display.HTML object>"
      ]
     },
     "metadata": {},
     "output_type": "display_data"
    },
    {
     "name": "stdout",
     "output_type": "stream",
     "text": [
      "\tQuerying PM event signal(s) UA47.RB.A45:U_DUMP_RES for system: QPS, className: DQAMSNRB, source: UA47.RB.A45 at 2016-12-13 07:52:06.778\n"
     ]
    },
    {
     "data": {
      "text/html": [
       "<text style=color:blue>Executing RB.A45 query function find_source_timestamp_ee: 3/45.</text>"
      ],
      "text/plain": [
       "<IPython.core.display.HTML object>"
      ]
     },
     "metadata": {},
     "output_type": "display_data"
    },
    {
     "name": "stdout",
     "output_type": "stream",
     "text": [
      "\tQuerying PM event timestamps for system: QPS, className: DQAMSNRB, source: RR53.RB.A45 from 2016-12-13 07:51:56.220 to 2016-12-13 08:08:46.220\n"
     ]
    },
    {
     "data": {
      "text/html": [
       "<text style=color:blue>Executing RB.A45 query function query_ee_u_dump_res_pm: 4/45.</text>"
      ],
      "text/plain": [
       "<IPython.core.display.HTML object>"
      ]
     },
     "metadata": {},
     "output_type": "display_data"
    },
    {
     "name": "stdout",
     "output_type": "stream",
     "text": [
      "\tQuerying PM event signal(s) RR53.RB.A45:U_DUMP_RES for system: QPS, className: DQAMSNRB, source: RR53.RB.A45 at 2016-12-13 07:52:06.518\n"
     ]
    },
    {
     "data": {
      "text/html": [
       "<text style=color:blue>Executing RB.A45 query function find_timestamp_pic: 5/45.</text>"
      ],
      "text/plain": [
       "<IPython.core.display.HTML object>"
      ]
     },
     "metadata": {},
     "output_type": "display_data"
    },
    {
     "name": "stdout",
     "output_type": "stream",
     "text": [
      "\tQuerying NXCALS signal(s) RB.A45.ODD:ST_ABORT_PIC, RB.A45.EVEN:ST_ABORT_PIC from 2016-12-13 07:52:05.220 to 2016-12-13 07:53:06.220\n"
     ]
    },
    {
     "data": {
      "text/html": [
       "<text style=color:blue>Executing RB.A45 query function find_source_timestamp_qds: 6/45.</text>"
      ],
      "text/plain": [
       "<IPython.core.display.HTML object>"
      ]
     },
     "metadata": {},
     "output_type": "display_data"
    },
    {
     "name": "stdout",
     "output_type": "stream",
     "text": [
      "\tQuerying PM event timestamps for system: QPS, className: DQAMCNMB_PMSTD, source: * from 2016-12-13 07:51:16.220 to 2016-12-13 08:00:26.220\n"
     ]
    },
    {
     "data": {
      "text/html": [
       "<text style=color:blue>Executing RB.A45 query function find_source_timestamp_ee: 1/45.</text>"
      ],
      "text/plain": [
       "<IPython.core.display.HTML object>"
      ]
     },
     "metadata": {},
     "output_type": "display_data"
    },
    {
     "name": "stdout",
     "output_type": "stream",
     "text": [
      "\tQuerying PM event timestamps for system: QPS, className: DQAMSNRB, source: UA47.RB.A45 from 2016-12-13 14:39:17.560 to 2016-12-13 14:56:07.560\n"
     ]
    },
    {
     "data": {
      "text/html": [
       "<text style=color:blue>Executing RB.A45 query function query_ee_u_dump_res_pm: 2/45.</text>"
      ],
      "text/plain": [
       "<IPython.core.display.HTML object>"
      ]
     },
     "metadata": {},
     "output_type": "display_data"
    },
    {
     "name": "stdout",
     "output_type": "stream",
     "text": [
      "\tQuerying PM event signal(s) UA47.RB.A45:U_DUMP_RES for system: QPS, className: DQAMSNRB, source: UA47.RB.A45 at 2016-12-13 14:39:28.121\n"
     ]
    },
    {
     "data": {
      "text/html": [
       "<text style=color:blue>Executing RB.A45 query function find_source_timestamp_ee: 3/45.</text>"
      ],
      "text/plain": [
       "<IPython.core.display.HTML object>"
      ]
     },
     "metadata": {},
     "output_type": "display_data"
    },
    {
     "name": "stdout",
     "output_type": "stream",
     "text": [
      "\tQuerying PM event timestamps for system: QPS, className: DQAMSNRB, source: RR53.RB.A45 from 2016-12-13 14:39:17.560 to 2016-12-13 14:56:07.560\n"
     ]
    },
    {
     "data": {
      "text/html": [
       "<text style=color:blue>Executing RB.A45 query function query_ee_u_dump_res_pm: 4/45.</text>"
      ],
      "text/plain": [
       "<IPython.core.display.HTML object>"
      ]
     },
     "metadata": {},
     "output_type": "display_data"
    },
    {
     "name": "stdout",
     "output_type": "stream",
     "text": [
      "\tQuerying PM event signal(s) RR53.RB.A45:U_DUMP_RES for system: QPS, className: DQAMSNRB, source: RR53.RB.A45 at 2016-12-13 14:39:27.862\n"
     ]
    },
    {
     "data": {
      "text/html": [
       "<text style=color:blue>Executing RB.A45 query function find_timestamp_pic: 5/45.</text>"
      ],
      "text/plain": [
       "<IPython.core.display.HTML object>"
      ]
     },
     "metadata": {},
     "output_type": "display_data"
    },
    {
     "name": "stdout",
     "output_type": "stream",
     "text": [
      "\tQuerying NXCALS signal(s) RB.A45.ODD:ST_ABORT_PIC, RB.A45.EVEN:ST_ABORT_PIC from 2016-12-13 14:39:26.560 to 2016-12-13 14:40:27.560\n"
     ]
    },
    {
     "data": {
      "text/html": [
       "<text style=color:blue>Executing RB.A45 query function find_source_timestamp_qds: 6/45.</text>"
      ],
      "text/plain": [
       "<IPython.core.display.HTML object>"
      ]
     },
     "metadata": {},
     "output_type": "display_data"
    },
    {
     "name": "stdout",
     "output_type": "stream",
     "text": [
      "\tQuerying PM event timestamps for system: QPS, className: DQAMCNMB_PMSTD, source: * from 2016-12-13 14:38:37.560 to 2016-12-13 14:47:47.560\n"
     ]
    },
    {
     "data": {
      "text/html": [
       "<text style=color:blue>Executing RB.A45 query function find_source_timestamp_ee: 1/45.</text>"
      ],
      "text/plain": [
       "<IPython.core.display.HTML object>"
      ]
     },
     "metadata": {},
     "output_type": "display_data"
    },
    {
     "name": "stdout",
     "output_type": "stream",
     "text": [
      "\tQuerying PM event timestamps for system: QPS, className: DQAMSNRB, source: UA47.RB.A45 from 2016-12-14 07:49:49.220 to 2016-12-14 08:06:39.220\n"
     ]
    },
    {
     "data": {
      "text/html": [
       "<text style=color:blue>Executing RB.A45 query function query_ee_u_dump_res_pm: 2/45.</text>"
      ],
      "text/plain": [
       "<IPython.core.display.HTML object>"
      ]
     },
     "metadata": {},
     "output_type": "display_data"
    },
    {
     "name": "stdout",
     "output_type": "stream",
     "text": [
      "\tQuerying PM event signal(s) UA47.RB.A45:U_DUMP_RES for system: QPS, className: DQAMSNRB, source: UA47.RB.A45 at 2016-12-14 07:49:59.775\n"
     ]
    },
    {
     "data": {
      "text/html": [
       "<text style=color:blue>Executing RB.A45 query function find_source_timestamp_ee: 3/45.</text>"
      ],
      "text/plain": [
       "<IPython.core.display.HTML object>"
      ]
     },
     "metadata": {},
     "output_type": "display_data"
    },
    {
     "name": "stdout",
     "output_type": "stream",
     "text": [
      "\tQuerying PM event timestamps for system: QPS, className: DQAMSNRB, source: RR53.RB.A45 from 2016-12-14 07:49:49.220 to 2016-12-14 08:06:39.220\n"
     ]
    },
    {
     "data": {
      "text/html": [
       "<text style=color:blue>Executing RB.A45 query function query_ee_u_dump_res_pm: 4/45.</text>"
      ],
      "text/plain": [
       "<IPython.core.display.HTML object>"
      ]
     },
     "metadata": {},
     "output_type": "display_data"
    },
    {
     "name": "stdout",
     "output_type": "stream",
     "text": [
      "\tQuerying PM event signal(s) RR53.RB.A45:U_DUMP_RES for system: QPS, className: DQAMSNRB, source: RR53.RB.A45 at 2016-12-14 07:49:59.518\n"
     ]
    },
    {
     "data": {
      "text/html": [
       "<text style=color:blue>Executing RB.A45 query function find_timestamp_pic: 5/45.</text>"
      ],
      "text/plain": [
       "<IPython.core.display.HTML object>"
      ]
     },
     "metadata": {},
     "output_type": "display_data"
    },
    {
     "name": "stdout",
     "output_type": "stream",
     "text": [
      "\tQuerying NXCALS signal(s) RB.A45.ODD:ST_ABORT_PIC, RB.A45.EVEN:ST_ABORT_PIC from 2016-12-14 07:49:58.220 to 2016-12-14 07:50:59.220\n"
     ]
    },
    {
     "data": {
      "text/html": [
       "<text style=color:blue>Executing RB.A45 query function find_source_timestamp_qds: 6/45.</text>"
      ],
      "text/plain": [
       "<IPython.core.display.HTML object>"
      ]
     },
     "metadata": {},
     "output_type": "display_data"
    },
    {
     "name": "stdout",
     "output_type": "stream",
     "text": [
      "\tQuerying PM event timestamps for system: QPS, className: DQAMCNMB_PMSTD, source: * from 2016-12-14 07:49:09.220 to 2016-12-14 07:58:19.220\n"
     ]
    },
    {
     "data": {
      "text/html": [
       "<text style=color:blue>Executing RB.A45 query function find_source_timestamp_ee: 1/45.</text>"
      ],
      "text/plain": [
       "<IPython.core.display.HTML object>"
      ]
     },
     "metadata": {},
     "output_type": "display_data"
    },
    {
     "name": "stdout",
     "output_type": "stream",
     "text": [
      "\tQuerying PM event timestamps for system: QPS, className: DQAMSNRB, source: UA47.RB.A45 from 2018-10-31 01:36:26.440 to 2018-10-31 01:53:16.440\n"
     ]
    },
    {
     "data": {
      "text/html": [
       "<text style=color:blue>Executing RB.A45 query function query_ee_u_dump_res_pm: 2/45.</text>"
      ],
      "text/plain": [
       "<IPython.core.display.HTML object>"
      ]
     },
     "metadata": {},
     "output_type": "display_data"
    },
    {
     "name": "stdout",
     "output_type": "stream",
     "text": [
      "\tQuerying PM event signal(s) UA47.RB.A45:U_DUMP_RES for system: QPS, className: DQAMSNRB, source: UA47.RB.A45 at 2018-10-31 01:36:37.001\n"
     ]
    },
    {
     "data": {
      "text/html": [
       "<text style=color:blue>Executing RB.A45 query function find_source_timestamp_ee: 3/45.</text>"
      ],
      "text/plain": [
       "<IPython.core.display.HTML object>"
      ]
     },
     "metadata": {},
     "output_type": "display_data"
    },
    {
     "name": "stdout",
     "output_type": "stream",
     "text": [
      "\tQuerying PM event timestamps for system: QPS, className: DQAMSNRB, source: RR53.RB.A45 from 2018-10-31 01:36:26.440 to 2018-10-31 01:53:16.440\n"
     ]
    },
    {
     "data": {
      "text/html": [
       "<text style=color:blue>Executing RB.A45 query function query_ee_u_dump_res_pm: 4/45.</text>"
      ],
      "text/plain": [
       "<IPython.core.display.HTML object>"
      ]
     },
     "metadata": {},
     "output_type": "display_data"
    },
    {
     "name": "stdout",
     "output_type": "stream",
     "text": [
      "\tQuerying PM event signal(s) RR53.RB.A45:U_DUMP_RES for system: QPS, className: DQAMSNRB, source: RR53.RB.A45 at 2018-10-31 01:36:36.506\n"
     ]
    },
    {
     "data": {
      "text/html": [
       "<text style=color:blue>Executing RB.A45 query function find_timestamp_pic: 5/45.</text>"
      ],
      "text/plain": [
       "<IPython.core.display.HTML object>"
      ]
     },
     "metadata": {},
     "output_type": "display_data"
    },
    {
     "name": "stdout",
     "output_type": "stream",
     "text": [
      "\tQuerying NXCALS signal(s) RB.A45.ODD:ST_ABORT_PIC, RB.A45.EVEN:ST_ABORT_PIC from 2018-10-31 01:36:35.440 to 2018-10-31 01:37:36.440\n"
     ]
    },
    {
     "data": {
      "text/html": [
       "<text style=color:blue>Executing RB.A45 query function find_source_timestamp_qds: 6/45.</text>"
      ],
      "text/plain": [
       "<IPython.core.display.HTML object>"
      ]
     },
     "metadata": {},
     "output_type": "display_data"
    },
    {
     "name": "stdout",
     "output_type": "stream",
     "text": [
      "\tQuerying PM event timestamps for system: QPS, className: DQAMCNMB_PMSTD, source: * from 2018-10-31 01:35:46.440 to 2018-10-31 01:44:56.440\n"
     ]
    },
    {
     "data": {
      "text/html": [
       "<text style=color:blue>Executing RB.A45 query function find_source_timestamp_ee: 1/45.</text>"
      ],
      "text/plain": [
       "<IPython.core.display.HTML object>"
      ]
     },
     "metadata": {},
     "output_type": "display_data"
    },
    {
     "name": "stdout",
     "output_type": "stream",
     "text": [
      "\tQuerying PM event timestamps for system: QPS, className: DQAMSNRB, source: UA47.RB.A45 from 2018-10-31 06:44:33.040 to 2018-10-31 07:01:23.040\n"
     ]
    },
    {
     "data": {
      "text/html": [
       "<text style=color:blue>Executing RB.A45 query function query_ee_u_dump_res_pm: 2/45.</text>"
      ],
      "text/plain": [
       "<IPython.core.display.HTML object>"
      ]
     },
     "metadata": {},
     "output_type": "display_data"
    },
    {
     "name": "stdout",
     "output_type": "stream",
     "text": [
      "\tQuerying PM event signal(s) UA47.RB.A45:U_DUMP_RES for system: QPS, className: DQAMSNRB, source: UA47.RB.A45 at 2018-10-31 06:44:43.601\n"
     ]
    },
    {
     "data": {
      "text/html": [
       "<text style=color:blue>Executing RB.A45 query function find_source_timestamp_ee: 3/45.</text>"
      ],
      "text/plain": [
       "<IPython.core.display.HTML object>"
      ]
     },
     "metadata": {},
     "output_type": "display_data"
    },
    {
     "name": "stdout",
     "output_type": "stream",
     "text": [
      "\tQuerying PM event timestamps for system: QPS, className: DQAMSNRB, source: RR53.RB.A45 from 2018-10-31 06:44:33.040 to 2018-10-31 07:01:23.040\n"
     ]
    },
    {
     "data": {
      "text/html": [
       "<text style=color:blue>Executing RB.A45 query function query_ee_u_dump_res_pm: 4/45.</text>"
      ],
      "text/plain": [
       "<IPython.core.display.HTML object>"
      ]
     },
     "metadata": {},
     "output_type": "display_data"
    },
    {
     "name": "stdout",
     "output_type": "stream",
     "text": [
      "\tQuerying PM event signal(s) RR53.RB.A45:U_DUMP_RES for system: QPS, className: DQAMSNRB, source: RR53.RB.A45 at 2018-10-31 06:44:43.107\n"
     ]
    },
    {
     "data": {
      "text/html": [
       "<text style=color:blue>Executing RB.A45 query function find_timestamp_pic: 5/45.</text>"
      ],
      "text/plain": [
       "<IPython.core.display.HTML object>"
      ]
     },
     "metadata": {},
     "output_type": "display_data"
    },
    {
     "name": "stdout",
     "output_type": "stream",
     "text": [
      "\tQuerying NXCALS signal(s) RB.A45.ODD:ST_ABORT_PIC, RB.A45.EVEN:ST_ABORT_PIC from 2018-10-31 06:44:42.040 to 2018-10-31 06:45:43.040\n"
     ]
    },
    {
     "data": {
      "text/html": [
       "<text style=color:blue>Executing RB.A45 query function find_source_timestamp_qds: 6/45.</text>"
      ],
      "text/plain": [
       "<IPython.core.display.HTML object>"
      ]
     },
     "metadata": {},
     "output_type": "display_data"
    },
    {
     "name": "stdout",
     "output_type": "stream",
     "text": [
      "\tQuerying PM event timestamps for system: QPS, className: DQAMCNMB_PMSTD, source: * from 2018-10-31 06:43:53.040 to 2018-10-31 06:53:03.040\n"
     ]
    },
    {
     "data": {
      "text/html": [
       "<text style=color:blue>Executing RB.A45 query function find_source_timestamp_ee: 1/45.</text>"
      ],
      "text/plain": [
       "<IPython.core.display.HTML object>"
      ]
     },
     "metadata": {},
     "output_type": "display_data"
    },
    {
     "name": "stdout",
     "output_type": "stream",
     "text": [
      "\tQuerying PM event timestamps for system: QPS, className: DQAMSNRB, source: UA47.RB.A45 from 2018-12-08 21:17:57.820 to 2018-12-08 21:34:47.820\n"
     ]
    },
    {
     "data": {
      "text/html": [
       "<text style=color:blue>Executing RB.A45 query function query_ee_u_dump_res_pm: 2/45.</text>"
      ],
      "text/plain": [
       "<IPython.core.display.HTML object>"
      ]
     },
     "metadata": {},
     "output_type": "display_data"
    },
    {
     "name": "stdout",
     "output_type": "stream",
     "text": [
      "\tQuerying PM event signal(s) UA47.RB.A45:U_DUMP_RES for system: QPS, className: DQAMSNRB, source: UA47.RB.A45 at 2018-12-08 21:18:08.384\n"
     ]
    },
    {
     "data": {
      "text/html": [
       "<text style=color:blue>Executing RB.A45 query function find_source_timestamp_ee: 3/45.</text>"
      ],
      "text/plain": [
       "<IPython.core.display.HTML object>"
      ]
     },
     "metadata": {},
     "output_type": "display_data"
    },
    {
     "name": "stdout",
     "output_type": "stream",
     "text": [
      "\tQuerying PM event timestamps for system: QPS, className: DQAMSNRB, source: RR53.RB.A45 from 2018-12-08 21:17:57.820 to 2018-12-08 21:34:47.820\n"
     ]
    },
    {
     "data": {
      "text/html": [
       "<text style=color:blue>Executing RB.A45 query function query_ee_u_dump_res_pm: 4/45.</text>"
      ],
      "text/plain": [
       "<IPython.core.display.HTML object>"
      ]
     },
     "metadata": {},
     "output_type": "display_data"
    },
    {
     "name": "stdout",
     "output_type": "stream",
     "text": [
      "\tQuerying PM event signal(s) RR53.RB.A45:U_DUMP_RES for system: QPS, className: DQAMSNRB, source: RR53.RB.A45 at 2018-12-08 21:18:07.889\n"
     ]
    },
    {
     "data": {
      "text/html": [
       "<text style=color:blue>Executing RB.A45 query function find_timestamp_pic: 5/45.</text>"
      ],
      "text/plain": [
       "<IPython.core.display.HTML object>"
      ]
     },
     "metadata": {},
     "output_type": "display_data"
    },
    {
     "name": "stdout",
     "output_type": "stream",
     "text": [
      "\tQuerying NXCALS signal(s) RB.A45.ODD:ST_ABORT_PIC, RB.A45.EVEN:ST_ABORT_PIC from 2018-12-08 21:18:06.820 to 2018-12-08 21:19:07.820\n"
     ]
    },
    {
     "data": {
      "text/html": [
       "<text style=color:blue>Executing RB.A45 query function find_source_timestamp_qds: 6/45.</text>"
      ],
      "text/plain": [
       "<IPython.core.display.HTML object>"
      ]
     },
     "metadata": {},
     "output_type": "display_data"
    },
    {
     "name": "stdout",
     "output_type": "stream",
     "text": [
      "\tQuerying PM event timestamps for system: QPS, className: DQAMCNMB_PMSTD, source: * from 2018-12-08 21:17:17.820 to 2018-12-08 21:26:27.820\n"
     ]
    },
    {
     "data": {
      "text/html": [
       "<text style=color:blue>Executing RB.A45 query function find_source_timestamp_ee: 1/45.</text>"
      ],
      "text/plain": [
       "<IPython.core.display.HTML object>"
      ]
     },
     "metadata": {},
     "output_type": "display_data"
    },
    {
     "name": "stdout",
     "output_type": "stream",
     "text": [
      "\tQuerying PM event timestamps for system: QPS, className: DQAMSNRB, source: UA47.RB.A45 from 2018-12-09 12:32:17.780 to 2018-12-09 12:49:07.780\n"
     ]
    },
    {
     "data": {
      "text/html": [
       "<text style=color:blue>Executing RB.A45 query function query_ee_u_dump_res_pm: 2/45.</text>"
      ],
      "text/plain": [
       "<IPython.core.display.HTML object>"
      ]
     },
     "metadata": {},
     "output_type": "display_data"
    },
    {
     "name": "stdout",
     "output_type": "stream",
     "text": [
      "\tQuerying PM event signal(s) UA47.RB.A45:U_DUMP_RES for system: QPS, className: DQAMSNRB, source: UA47.RB.A45 at 2018-12-09 12:32:28.343\n"
     ]
    },
    {
     "data": {
      "text/html": [
       "<text style=color:blue>Executing RB.A45 query function find_source_timestamp_ee: 3/45.</text>"
      ],
      "text/plain": [
       "<IPython.core.display.HTML object>"
      ]
     },
     "metadata": {},
     "output_type": "display_data"
    },
    {
     "name": "stdout",
     "output_type": "stream",
     "text": [
      "\tQuerying PM event timestamps for system: QPS, className: DQAMSNRB, source: RR53.RB.A45 from 2018-12-09 12:32:17.780 to 2018-12-09 12:49:07.780\n"
     ]
    },
    {
     "data": {
      "text/html": [
       "<text style=color:blue>Executing RB.A45 query function query_ee_u_dump_res_pm: 4/45.</text>"
      ],
      "text/plain": [
       "<IPython.core.display.HTML object>"
      ]
     },
     "metadata": {},
     "output_type": "display_data"
    },
    {
     "name": "stdout",
     "output_type": "stream",
     "text": [
      "\tQuerying PM event signal(s) RR53.RB.A45:U_DUMP_RES for system: QPS, className: DQAMSNRB, source: RR53.RB.A45 at 2018-12-09 12:32:27.848\n"
     ]
    },
    {
     "data": {
      "text/html": [
       "<text style=color:blue>Executing RB.A45 query function find_timestamp_pic: 5/45.</text>"
      ],
      "text/plain": [
       "<IPython.core.display.HTML object>"
      ]
     },
     "metadata": {},
     "output_type": "display_data"
    },
    {
     "name": "stdout",
     "output_type": "stream",
     "text": [
      "\tQuerying NXCALS signal(s) RB.A45.ODD:ST_ABORT_PIC, RB.A45.EVEN:ST_ABORT_PIC from 2018-12-09 12:32:26.780 to 2018-12-09 12:33:27.780\n"
     ]
    },
    {
     "data": {
      "text/html": [
       "<text style=color:blue>Executing RB.A45 query function find_source_timestamp_qds: 6/45.</text>"
      ],
      "text/plain": [
       "<IPython.core.display.HTML object>"
      ]
     },
     "metadata": {},
     "output_type": "display_data"
    },
    {
     "name": "stdout",
     "output_type": "stream",
     "text": [
      "\tQuerying PM event timestamps for system: QPS, className: DQAMCNMB_PMSTD, source: * from 2018-12-09 12:31:37.780 to 2018-12-09 12:40:47.780\n"
     ]
    },
    {
     "data": {
      "text/html": [
       "<text style=color:blue>Executing RB.A56 query function find_source_timestamp_ee: 1/45.</text>"
      ],
      "text/plain": [
       "<IPython.core.display.HTML object>"
      ]
     },
     "metadata": {},
     "output_type": "display_data"
    },
    {
     "name": "stdout",
     "output_type": "stream",
     "text": [
      "\tQuerying PM event timestamps for system: QPS, className: DQAMSNRB, source: UA63.RB.A56 from 2015-01-30 18:40:43.960 to 2015-01-30 18:57:33.960\n"
     ]
    },
    {
     "data": {
      "text/html": [
       "<text style=color:blue>Executing RB.A56 query function query_ee_u_dump_res_pm: 2/45.</text>"
      ],
      "text/plain": [
       "<IPython.core.display.HTML object>"
      ]
     },
     "metadata": {},
     "output_type": "display_data"
    },
    {
     "name": "stdout",
     "output_type": "stream",
     "text": [
      "\tQuerying PM event signal(s) UA63.RB.A56:U_DUMP_RES for system: QPS, className: DQAMSNRB, source: UA63.RB.A56 at 2015-01-30 18:40:54.499\n"
     ]
    },
    {
     "data": {
      "text/html": [
       "<text style=color:blue>Executing RB.A56 query function find_source_timestamp_ee: 3/45.</text>"
      ],
      "text/plain": [
       "<IPython.core.display.HTML object>"
      ]
     },
     "metadata": {},
     "output_type": "display_data"
    },
    {
     "name": "stdout",
     "output_type": "stream",
     "text": [
      "\tQuerying PM event timestamps for system: QPS, className: DQAMSNRB, source: RR57.RB.A56 from 2015-01-30 18:40:43.960 to 2015-01-30 18:57:33.960\n"
     ]
    },
    {
     "data": {
      "text/html": [
       "<text style=color:blue>Executing RB.A56 query function query_ee_u_dump_res_pm: 4/45.</text>"
      ],
      "text/plain": [
       "<IPython.core.display.HTML object>"
      ]
     },
     "metadata": {},
     "output_type": "display_data"
    },
    {
     "name": "stdout",
     "output_type": "stream",
     "text": [
      "\tQuerying PM event signal(s) RR57.RB.A56:U_DUMP_RES for system: QPS, className: DQAMSNRB, source: RR57.RB.A56 at 2015-01-30 18:40:54.252\n"
     ]
    },
    {
     "data": {
      "text/html": [
       "<text style=color:blue>Executing RB.A56 query function find_timestamp_pic: 5/45.</text>"
      ],
      "text/plain": [
       "<IPython.core.display.HTML object>"
      ]
     },
     "metadata": {},
     "output_type": "display_data"
    },
    {
     "name": "stdout",
     "output_type": "stream",
     "text": [
      "\tQuerying NXCALS signal(s) RB.A56.ODD:ST_ABORT_PIC, RB.A56.EVEN:ST_ABORT_PIC from 2015-01-30 18:40:52.960 to 2015-01-30 18:41:53.960\n"
     ]
    },
    {
     "data": {
      "text/html": [
       "<text style=color:blue>Executing RB.A56 query function find_source_timestamp_qds: 6/45.</text>"
      ],
      "text/plain": [
       "<IPython.core.display.HTML object>"
      ]
     },
     "metadata": {},
     "output_type": "display_data"
    },
    {
     "name": "stdout",
     "output_type": "stream",
     "text": [
      "\tQuerying PM event timestamps for system: QPS, className: DQAMCNMB_PMSTD, source: * from 2015-01-30 18:40:03.960 to 2015-01-30 18:49:13.960\n"
     ]
    },
    {
     "data": {
      "text/html": [
       "<text style=color:blue>Executing RB.A56 query function find_source_timestamp_ee: 1/45.</text>"
      ],
      "text/plain": [
       "<IPython.core.display.HTML object>"
      ]
     },
     "metadata": {},
     "output_type": "display_data"
    },
    {
     "name": "stdout",
     "output_type": "stream",
     "text": [
      "\tQuerying PM event timestamps for system: QPS, className: DQAMSNRB, source: UA63.RB.A56 from 2015-02-02 08:30:25.380 to 2015-02-02 08:47:15.380\n"
     ]
    },
    {
     "data": {
      "text/html": [
       "<text style=color:blue>Executing RB.A56 query function query_ee_u_dump_res_pm: 2/45.</text>"
      ],
      "text/plain": [
       "<IPython.core.display.HTML object>"
      ]
     },
     "metadata": {},
     "output_type": "display_data"
    },
    {
     "name": "stdout",
     "output_type": "stream",
     "text": [
      "\tQuerying PM event signal(s) UA63.RB.A56:U_DUMP_RES for system: QPS, className: DQAMSNRB, source: UA63.RB.A56 at 2015-02-02 08:30:35.926\n"
     ]
    },
    {
     "data": {
      "text/html": [
       "<text style=color:blue>Executing RB.A56 query function find_source_timestamp_ee: 3/45.</text>"
      ],
      "text/plain": [
       "<IPython.core.display.HTML object>"
      ]
     },
     "metadata": {},
     "output_type": "display_data"
    },
    {
     "name": "stdout",
     "output_type": "stream",
     "text": [
      "\tQuerying PM event timestamps for system: QPS, className: DQAMSNRB, source: RR57.RB.A56 from 2015-02-02 08:30:25.380 to 2015-02-02 08:47:15.380\n"
     ]
    },
    {
     "data": {
      "text/html": [
       "<text style=color:blue>Executing RB.A56 query function query_ee_u_dump_res_pm: 4/45.</text>"
      ],
      "text/plain": [
       "<IPython.core.display.HTML object>"
      ]
     },
     "metadata": {},
     "output_type": "display_data"
    },
    {
     "name": "stdout",
     "output_type": "stream",
     "text": [
      "\tQuerying PM event signal(s) RR57.RB.A56:U_DUMP_RES for system: QPS, className: DQAMSNRB, source: RR57.RB.A56 at 2015-02-02 08:30:35.678\n"
     ]
    },
    {
     "data": {
      "text/html": [
       "<text style=color:blue>Executing RB.A56 query function find_timestamp_pic: 5/45.</text>"
      ],
      "text/plain": [
       "<IPython.core.display.HTML object>"
      ]
     },
     "metadata": {},
     "output_type": "display_data"
    },
    {
     "name": "stdout",
     "output_type": "stream",
     "text": [
      "\tQuerying NXCALS signal(s) RB.A56.ODD:ST_ABORT_PIC, RB.A56.EVEN:ST_ABORT_PIC from 2015-02-02 08:30:34.380 to 2015-02-02 08:31:35.380\n"
     ]
    },
    {
     "data": {
      "text/html": [
       "<text style=color:blue>Executing RB.A56 query function find_source_timestamp_qds: 6/45.</text>"
      ],
      "text/plain": [
       "<IPython.core.display.HTML object>"
      ]
     },
     "metadata": {},
     "output_type": "display_data"
    },
    {
     "name": "stdout",
     "output_type": "stream",
     "text": [
      "\tQuerying PM event timestamps for system: QPS, className: DQAMCNMB_PMSTD, source: * from 2015-02-02 08:29:45.380 to 2015-02-02 08:38:55.380\n"
     ]
    },
    {
     "data": {
      "text/html": [
       "<text style=color:blue>Executing RB.A56 query function find_source_timestamp_ee: 1/45.</text>"
      ],
      "text/plain": [
       "<IPython.core.display.HTML object>"
      ]
     },
     "metadata": {},
     "output_type": "display_data"
    },
    {
     "name": "stdout",
     "output_type": "stream",
     "text": [
      "\tQuerying PM event timestamps for system: QPS, className: DQAMSNRB, source: UA63.RB.A56 from 2015-02-02 16:22:09.520 to 2015-02-02 16:38:59.520\n"
     ]
    },
    {
     "data": {
      "text/html": [
       "<text style=color:blue>Executing RB.A56 query function query_ee_u_dump_res_pm: 2/45.</text>"
      ],
      "text/plain": [
       "<IPython.core.display.HTML object>"
      ]
     },
     "metadata": {},
     "output_type": "display_data"
    },
    {
     "name": "stdout",
     "output_type": "stream",
     "text": [
      "\tQuerying PM event signal(s) UA63.RB.A56:U_DUMP_RES for system: QPS, className: DQAMSNRB, source: UA63.RB.A56 at 2015-02-02 16:22:20.070\n"
     ]
    },
    {
     "data": {
      "text/html": [
       "<text style=color:blue>Executing RB.A56 query function find_source_timestamp_ee: 3/45.</text>"
      ],
      "text/plain": [
       "<IPython.core.display.HTML object>"
      ]
     },
     "metadata": {},
     "output_type": "display_data"
    },
    {
     "name": "stdout",
     "output_type": "stream",
     "text": [
      "\tQuerying PM event timestamps for system: QPS, className: DQAMSNRB, source: RR57.RB.A56 from 2015-02-02 16:22:09.520 to 2015-02-02 16:38:59.520\n"
     ]
    },
    {
     "data": {
      "text/html": [
       "<text style=color:blue>Executing RB.A56 query function query_ee_u_dump_res_pm: 4/45.</text>"
      ],
      "text/plain": [
       "<IPython.core.display.HTML object>"
      ]
     },
     "metadata": {},
     "output_type": "display_data"
    },
    {
     "name": "stdout",
     "output_type": "stream",
     "text": [
      "\tQuerying PM event signal(s) RR57.RB.A56:U_DUMP_RES for system: QPS, className: DQAMSNRB, source: RR57.RB.A56 at 2015-02-02 16:22:19.823\n"
     ]
    },
    {
     "data": {
      "text/html": [
       "<text style=color:blue>Executing RB.A56 query function find_timestamp_pic: 5/45.</text>"
      ],
      "text/plain": [
       "<IPython.core.display.HTML object>"
      ]
     },
     "metadata": {},
     "output_type": "display_data"
    },
    {
     "name": "stdout",
     "output_type": "stream",
     "text": [
      "\tQuerying NXCALS signal(s) RB.A56.ODD:ST_ABORT_PIC, RB.A56.EVEN:ST_ABORT_PIC from 2015-02-02 16:22:18.520 to 2015-02-02 16:23:19.520\n"
     ]
    },
    {
     "data": {
      "text/html": [
       "<text style=color:blue>Executing RB.A56 query function find_source_timestamp_qds: 6/45.</text>"
      ],
      "text/plain": [
       "<IPython.core.display.HTML object>"
      ]
     },
     "metadata": {},
     "output_type": "display_data"
    },
    {
     "name": "stdout",
     "output_type": "stream",
     "text": [
      "\tQuerying PM event timestamps for system: QPS, className: DQAMCNMB_PMSTD, source: * from 2015-02-02 16:21:29.520 to 2015-02-02 16:30:39.520\n"
     ]
    },
    {
     "data": {
      "text/html": [
       "<text style=color:blue>Executing RB.A56 query function find_source_timestamp_ee: 1/45.</text>"
      ],
      "text/plain": [
       "<IPython.core.display.HTML object>"
      ]
     },
     "metadata": {},
     "output_type": "display_data"
    },
    {
     "name": "stdout",
     "output_type": "stream",
     "text": [
      "\tQuerying PM event timestamps for system: QPS, className: DQAMSNRB, source: UA63.RB.A56 from 2015-02-03 09:06:52.500 to 2015-02-03 09:23:42.500\n"
     ]
    },
    {
     "data": {
      "text/html": [
       "<text style=color:blue>Executing RB.A56 query function query_ee_u_dump_res_pm: 2/45.</text>"
      ],
      "text/plain": [
       "<IPython.core.display.HTML object>"
      ]
     },
     "metadata": {},
     "output_type": "display_data"
    },
    {
     "name": "stdout",
     "output_type": "stream",
     "text": [
      "\tQuerying PM event signal(s) UA63.RB.A56:U_DUMP_RES for system: QPS, className: DQAMSNRB, source: UA63.RB.A56 at 2015-02-03 09:07:03.037\n"
     ]
    },
    {
     "data": {
      "text/html": [
       "<text style=color:blue>Executing RB.A56 query function find_source_timestamp_ee: 3/45.</text>"
      ],
      "text/plain": [
       "<IPython.core.display.HTML object>"
      ]
     },
     "metadata": {},
     "output_type": "display_data"
    },
    {
     "name": "stdout",
     "output_type": "stream",
     "text": [
      "\tQuerying PM event timestamps for system: QPS, className: DQAMSNRB, source: RR57.RB.A56 from 2015-02-03 09:06:52.500 to 2015-02-03 09:23:42.500\n"
     ]
    },
    {
     "data": {
      "text/html": [
       "<text style=color:blue>Executing RB.A56 query function query_ee_u_dump_res_pm: 4/45.</text>"
      ],
      "text/plain": [
       "<IPython.core.display.HTML object>"
      ]
     },
     "metadata": {},
     "output_type": "display_data"
    },
    {
     "name": "stdout",
     "output_type": "stream",
     "text": [
      "\tQuerying PM event signal(s) RR57.RB.A56:U_DUMP_RES for system: QPS, className: DQAMSNRB, source: RR57.RB.A56 at 2015-02-03 09:07:02.793\n"
     ]
    },
    {
     "data": {
      "text/html": [
       "<text style=color:blue>Executing RB.A56 query function find_timestamp_pic: 5/45.</text>"
      ],
      "text/plain": [
       "<IPython.core.display.HTML object>"
      ]
     },
     "metadata": {},
     "output_type": "display_data"
    },
    {
     "name": "stdout",
     "output_type": "stream",
     "text": [
      "\tQuerying NXCALS signal(s) RB.A56.ODD:ST_ABORT_PIC, RB.A56.EVEN:ST_ABORT_PIC from 2015-02-03 09:07:01.500 to 2015-02-03 09:08:02.500\n"
     ]
    },
    {
     "data": {
      "text/html": [
       "<text style=color:blue>Executing RB.A56 query function find_source_timestamp_qds: 6/45.</text>"
      ],
      "text/plain": [
       "<IPython.core.display.HTML object>"
      ]
     },
     "metadata": {},
     "output_type": "display_data"
    },
    {
     "name": "stdout",
     "output_type": "stream",
     "text": [
      "\tQuerying PM event timestamps for system: QPS, className: DQAMCNMB_PMSTD, source: * from 2015-02-03 09:06:12.500 to 2015-02-03 09:15:22.500\n"
     ]
    },
    {
     "data": {
      "text/html": [
       "<text style=color:blue>Executing RB.A56 query function find_source_timestamp_ee: 1/45.</text>"
      ],
      "text/plain": [
       "<IPython.core.display.HTML object>"
      ]
     },
     "metadata": {},
     "output_type": "display_data"
    },
    {
     "name": "stdout",
     "output_type": "stream",
     "text": [
      "\tQuerying PM event timestamps for system: QPS, className: DQAMSNRB, source: UA63.RB.A56 from 2015-02-03 20:30:13.940 to 2015-02-03 20:47:03.940\n"
     ]
    },
    {
     "data": {
      "text/html": [
       "<text style=color:blue>Executing RB.A56 query function query_ee_u_dump_res_pm: 2/45.</text>"
      ],
      "text/plain": [
       "<IPython.core.display.HTML object>"
      ]
     },
     "metadata": {},
     "output_type": "display_data"
    },
    {
     "name": "stdout",
     "output_type": "stream",
     "text": [
      "\tQuerying PM event signal(s) UA63.RB.A56:U_DUMP_RES for system: QPS, className: DQAMSNRB, source: UA63.RB.A56 at 2015-02-03 20:30:24.474\n"
     ]
    },
    {
     "data": {
      "text/html": [
       "<text style=color:blue>Executing RB.A56 query function find_source_timestamp_ee: 3/45.</text>"
      ],
      "text/plain": [
       "<IPython.core.display.HTML object>"
      ]
     },
     "metadata": {},
     "output_type": "display_data"
    },
    {
     "name": "stdout",
     "output_type": "stream",
     "text": [
      "\tQuerying PM event timestamps for system: QPS, className: DQAMSNRB, source: RR57.RB.A56 from 2015-02-03 20:30:13.940 to 2015-02-03 20:47:03.940\n"
     ]
    },
    {
     "data": {
      "text/html": [
       "<text style=color:blue>Executing RB.A56 query function query_ee_u_dump_res_pm: 4/45.</text>"
      ],
      "text/plain": [
       "<IPython.core.display.HTML object>"
      ]
     },
     "metadata": {},
     "output_type": "display_data"
    },
    {
     "name": "stdout",
     "output_type": "stream",
     "text": [
      "\tQuerying PM event signal(s) RR57.RB.A56:U_DUMP_RES for system: QPS, className: DQAMSNRB, source: RR57.RB.A56 at 2015-02-03 20:30:24.227\n"
     ]
    },
    {
     "data": {
      "text/html": [
       "<text style=color:blue>Executing RB.A56 query function find_timestamp_pic: 5/45.</text>"
      ],
      "text/plain": [
       "<IPython.core.display.HTML object>"
      ]
     },
     "metadata": {},
     "output_type": "display_data"
    },
    {
     "name": "stdout",
     "output_type": "stream",
     "text": [
      "\tQuerying NXCALS signal(s) RB.A56.ODD:ST_ABORT_PIC, RB.A56.EVEN:ST_ABORT_PIC from 2015-02-03 20:30:22.940 to 2015-02-03 20:31:23.940\n"
     ]
    },
    {
     "data": {
      "text/html": [
       "<text style=color:blue>Executing RB.A56 query function find_source_timestamp_qds: 6/45.</text>"
      ],
      "text/plain": [
       "<IPython.core.display.HTML object>"
      ]
     },
     "metadata": {},
     "output_type": "display_data"
    },
    {
     "name": "stdout",
     "output_type": "stream",
     "text": [
      "\tQuerying PM event timestamps for system: QPS, className: DQAMCNMB_PMSTD, source: * from 2015-02-03 20:29:33.940 to 2015-02-03 20:38:43.940\n"
     ]
    },
    {
     "data": {
      "text/html": [
       "<text style=color:blue>Executing RB.A56 query function find_source_timestamp_ee: 1/45.</text>"
      ],
      "text/plain": [
       "<IPython.core.display.HTML object>"
      ]
     },
     "metadata": {},
     "output_type": "display_data"
    },
    {
     "name": "stdout",
     "output_type": "stream",
     "text": [
      "\tQuerying PM event timestamps for system: QPS, className: DQAMSNRB, source: UA63.RB.A56 from 2015-02-04 07:48:11.200 to 2015-02-04 08:05:01.200\n"
     ]
    },
    {
     "data": {
      "text/html": [
       "<text style=color:blue>Executing RB.A56 query function query_ee_u_dump_res_pm: 2/45.</text>"
      ],
      "text/plain": [
       "<IPython.core.display.HTML object>"
      ]
     },
     "metadata": {},
     "output_type": "display_data"
    },
    {
     "name": "stdout",
     "output_type": "stream",
     "text": [
      "\tQuerying PM event signal(s) UA63.RB.A56:U_DUMP_RES for system: QPS, className: DQAMSNRB, source: UA63.RB.A56 at 2015-02-04 07:48:21.736\n"
     ]
    },
    {
     "data": {
      "text/html": [
       "<text style=color:blue>Executing RB.A56 query function find_source_timestamp_ee: 3/45.</text>"
      ],
      "text/plain": [
       "<IPython.core.display.HTML object>"
      ]
     },
     "metadata": {},
     "output_type": "display_data"
    },
    {
     "name": "stdout",
     "output_type": "stream",
     "text": [
      "\tQuerying PM event timestamps for system: QPS, className: DQAMSNRB, source: RR57.RB.A56 from 2015-02-04 07:48:11.200 to 2015-02-04 08:05:01.200\n"
     ]
    },
    {
     "data": {
      "text/html": [
       "<text style=color:blue>Executing RB.A56 query function query_ee_u_dump_res_pm: 4/45.</text>"
      ],
      "text/plain": [
       "<IPython.core.display.HTML object>"
      ]
     },
     "metadata": {},
     "output_type": "display_data"
    },
    {
     "name": "stdout",
     "output_type": "stream",
     "text": [
      "\tQuerying PM event signal(s) RR57.RB.A56:U_DUMP_RES for system: QPS, className: DQAMSNRB, source: RR57.RB.A56 at 2015-02-04 07:48:21.487\n"
     ]
    },
    {
     "data": {
      "text/html": [
       "<text style=color:blue>Executing RB.A56 query function find_timestamp_pic: 5/45.</text>"
      ],
      "text/plain": [
       "<IPython.core.display.HTML object>"
      ]
     },
     "metadata": {},
     "output_type": "display_data"
    },
    {
     "name": "stdout",
     "output_type": "stream",
     "text": [
      "\tQuerying NXCALS signal(s) RB.A56.ODD:ST_ABORT_PIC, RB.A56.EVEN:ST_ABORT_PIC from 2015-02-04 07:48:20.200 to 2015-02-04 07:49:21.200\n"
     ]
    },
    {
     "data": {
      "text/html": [
       "<text style=color:blue>Executing RB.A56 query function find_source_timestamp_qds: 6/45.</text>"
      ],
      "text/plain": [
       "<IPython.core.display.HTML object>"
      ]
     },
     "metadata": {},
     "output_type": "display_data"
    },
    {
     "name": "stdout",
     "output_type": "stream",
     "text": [
      "\tQuerying PM event timestamps for system: QPS, className: DQAMCNMB_PMSTD, source: * from 2015-02-04 07:47:31.200 to 2015-02-04 07:56:41.200\n"
     ]
    },
    {
     "data": {
      "text/html": [
       "<text style=color:blue>Executing RB.A56 query function find_source_timestamp_ee: 1/45.</text>"
      ],
      "text/plain": [
       "<IPython.core.display.HTML object>"
      ]
     },
     "metadata": {},
     "output_type": "display_data"
    },
    {
     "name": "stdout",
     "output_type": "stream",
     "text": [
      "\tQuerying PM event timestamps for system: QPS, className: DQAMSNRB, source: UA63.RB.A56 from 2015-02-04 19:26:33.880 to 2015-02-04 19:43:23.880\n"
     ]
    },
    {
     "data": {
      "text/html": [
       "<text style=color:blue>Executing RB.A56 query function query_ee_u_dump_res_pm: 2/45.</text>"
      ],
      "text/plain": [
       "<IPython.core.display.HTML object>"
      ]
     },
     "metadata": {},
     "output_type": "display_data"
    },
    {
     "name": "stdout",
     "output_type": "stream",
     "text": [
      "\tQuerying PM event signal(s) UA63.RB.A56:U_DUMP_RES for system: QPS, className: DQAMSNRB, source: UA63.RB.A56 at 2015-02-04 19:26:44.423\n"
     ]
    },
    {
     "data": {
      "text/html": [
       "<text style=color:blue>Executing RB.A56 query function find_source_timestamp_ee: 3/45.</text>"
      ],
      "text/plain": [
       "<IPython.core.display.HTML object>"
      ]
     },
     "metadata": {},
     "output_type": "display_data"
    },
    {
     "name": "stdout",
     "output_type": "stream",
     "text": [
      "\tQuerying PM event timestamps for system: QPS, className: DQAMSNRB, source: RR57.RB.A56 from 2015-02-04 19:26:33.880 to 2015-02-04 19:43:23.880\n"
     ]
    },
    {
     "data": {
      "text/html": [
       "<text style=color:blue>Executing RB.A56 query function query_ee_u_dump_res_pm: 4/45.</text>"
      ],
      "text/plain": [
       "<IPython.core.display.HTML object>"
      ]
     },
     "metadata": {},
     "output_type": "display_data"
    },
    {
     "name": "stdout",
     "output_type": "stream",
     "text": [
      "\tQuerying PM event signal(s) RR57.RB.A56:U_DUMP_RES for system: QPS, className: DQAMSNRB, source: RR57.RB.A56 at 2015-02-04 19:26:44.177\n"
     ]
    },
    {
     "data": {
      "text/html": [
       "<text style=color:blue>Executing RB.A56 query function find_timestamp_pic: 5/45.</text>"
      ],
      "text/plain": [
       "<IPython.core.display.HTML object>"
      ]
     },
     "metadata": {},
     "output_type": "display_data"
    },
    {
     "name": "stdout",
     "output_type": "stream",
     "text": [
      "\tQuerying NXCALS signal(s) RB.A56.ODD:ST_ABORT_PIC, RB.A56.EVEN:ST_ABORT_PIC from 2015-02-04 19:26:42.880 to 2015-02-04 19:27:43.880\n"
     ]
    },
    {
     "data": {
      "text/html": [
       "<text style=color:blue>Executing RB.A56 query function find_source_timestamp_qds: 6/45.</text>"
      ],
      "text/plain": [
       "<IPython.core.display.HTML object>"
      ]
     },
     "metadata": {},
     "output_type": "display_data"
    },
    {
     "name": "stdout",
     "output_type": "stream",
     "text": [
      "\tQuerying PM event timestamps for system: QPS, className: DQAMCNMB_PMSTD, source: * from 2015-02-04 19:25:53.880 to 2015-02-04 19:35:03.880\n"
     ]
    },
    {
     "data": {
      "text/html": [
       "<text style=color:blue>Executing RB.A56 query function find_source_timestamp_ee: 1/45.</text>"
      ],
      "text/plain": [
       "<IPython.core.display.HTML object>"
      ]
     },
     "metadata": {},
     "output_type": "display_data"
    },
    {
     "name": "stdout",
     "output_type": "stream",
     "text": [
      "\tQuerying PM event timestamps for system: QPS, className: DQAMSNRB, source: UA63.RB.A56 from 2015-02-05 04:11:32.600 to 2015-02-05 04:28:22.600\n"
     ]
    },
    {
     "data": {
      "text/html": [
       "<text style=color:blue>Executing RB.A56 query function query_ee_u_dump_res_pm: 2/45.</text>"
      ],
      "text/plain": [
       "<IPython.core.display.HTML object>"
      ]
     },
     "metadata": {},
     "output_type": "display_data"
    },
    {
     "name": "stdout",
     "output_type": "stream",
     "text": [
      "\tQuerying PM event signal(s) UA63.RB.A56:U_DUMP_RES for system: QPS, className: DQAMSNRB, source: UA63.RB.A56 at 2015-02-05 04:11:43.153\n"
     ]
    },
    {
     "data": {
      "text/html": [
       "<text style=color:blue>Executing RB.A56 query function find_source_timestamp_ee: 3/45.</text>"
      ],
      "text/plain": [
       "<IPython.core.display.HTML object>"
      ]
     },
     "metadata": {},
     "output_type": "display_data"
    },
    {
     "name": "stdout",
     "output_type": "stream",
     "text": [
      "\tQuerying PM event timestamps for system: QPS, className: DQAMSNRB, source: RR57.RB.A56 from 2015-02-05 04:11:32.600 to 2015-02-05 04:28:22.600\n"
     ]
    },
    {
     "data": {
      "text/html": [
       "<text style=color:blue>Executing RB.A56 query function query_ee_u_dump_res_pm: 4/45.</text>"
      ],
      "text/plain": [
       "<IPython.core.display.HTML object>"
      ]
     },
     "metadata": {},
     "output_type": "display_data"
    },
    {
     "name": "stdout",
     "output_type": "stream",
     "text": [
      "\tQuerying PM event signal(s) RR57.RB.A56:U_DUMP_RES for system: QPS, className: DQAMSNRB, source: RR57.RB.A56 at 2015-02-05 04:11:42.906\n"
     ]
    },
    {
     "data": {
      "text/html": [
       "<text style=color:blue>Executing RB.A56 query function find_timestamp_pic: 5/45.</text>"
      ],
      "text/plain": [
       "<IPython.core.display.HTML object>"
      ]
     },
     "metadata": {},
     "output_type": "display_data"
    },
    {
     "name": "stdout",
     "output_type": "stream",
     "text": [
      "\tQuerying NXCALS signal(s) RB.A56.ODD:ST_ABORT_PIC, RB.A56.EVEN:ST_ABORT_PIC from 2015-02-05 04:11:41.600 to 2015-02-05 04:12:42.600\n"
     ]
    },
    {
     "data": {
      "text/html": [
       "<text style=color:blue>Executing RB.A56 query function find_source_timestamp_qds: 6/45.</text>"
      ],
      "text/plain": [
       "<IPython.core.display.HTML object>"
      ]
     },
     "metadata": {},
     "output_type": "display_data"
    },
    {
     "name": "stdout",
     "output_type": "stream",
     "text": [
      "\tQuerying PM event timestamps for system: QPS, className: DQAMCNMB_PMSTD, source: * from 2015-02-05 04:10:52.600 to 2015-02-05 04:20:02.600\n"
     ]
    },
    {
     "data": {
      "text/html": [
       "<text style=color:blue>Executing RB.A56 query function find_source_timestamp_ee: 1/45.</text>"
      ],
      "text/plain": [
       "<IPython.core.display.HTML object>"
      ]
     },
     "metadata": {},
     "output_type": "display_data"
    },
    {
     "name": "stdout",
     "output_type": "stream",
     "text": [
      "\tQuerying PM event timestamps for system: QPS, className: DQAMSNRB, source: UA63.RB.A56 from 2015-02-05 13:39:27.240 to 2015-02-05 13:56:17.240\n"
     ]
    },
    {
     "data": {
      "text/html": [
       "<text style=color:blue>Executing RB.A56 query function query_ee_u_dump_res_pm: 2/45.</text>"
      ],
      "text/plain": [
       "<IPython.core.display.HTML object>"
      ]
     },
     "metadata": {},
     "output_type": "display_data"
    },
    {
     "name": "stdout",
     "output_type": "stream",
     "text": [
      "\tQuerying PM event signal(s) UA63.RB.A56:U_DUMP_RES for system: QPS, className: DQAMSNRB, source: UA63.RB.A56 at 2015-02-05 13:39:37.781\n"
     ]
    },
    {
     "data": {
      "text/html": [
       "<text style=color:blue>Executing RB.A56 query function find_source_timestamp_ee: 3/45.</text>"
      ],
      "text/plain": [
       "<IPython.core.display.HTML object>"
      ]
     },
     "metadata": {},
     "output_type": "display_data"
    },
    {
     "name": "stdout",
     "output_type": "stream",
     "text": [
      "\tQuerying PM event timestamps for system: QPS, className: DQAMSNRB, source: RR57.RB.A56 from 2015-02-05 13:39:27.240 to 2015-02-05 13:56:17.240\n"
     ]
    },
    {
     "data": {
      "text/html": [
       "<text style=color:blue>Executing RB.A56 query function query_ee_u_dump_res_pm: 4/45.</text>"
      ],
      "text/plain": [
       "<IPython.core.display.HTML object>"
      ]
     },
     "metadata": {},
     "output_type": "display_data"
    },
    {
     "name": "stdout",
     "output_type": "stream",
     "text": [
      "\tQuerying PM event signal(s) RR57.RB.A56:U_DUMP_RES for system: QPS, className: DQAMSNRB, source: RR57.RB.A56 at 2015-02-05 13:39:37.535\n"
     ]
    },
    {
     "data": {
      "text/html": [
       "<text style=color:blue>Executing RB.A56 query function find_timestamp_pic: 5/45.</text>"
      ],
      "text/plain": [
       "<IPython.core.display.HTML object>"
      ]
     },
     "metadata": {},
     "output_type": "display_data"
    },
    {
     "name": "stdout",
     "output_type": "stream",
     "text": [
      "\tQuerying NXCALS signal(s) RB.A56.ODD:ST_ABORT_PIC, RB.A56.EVEN:ST_ABORT_PIC from 2015-02-05 13:39:36.240 to 2015-02-05 13:40:37.240\n"
     ]
    },
    {
     "data": {
      "text/html": [
       "<text style=color:blue>Executing RB.A56 query function find_source_timestamp_qds: 6/45.</text>"
      ],
      "text/plain": [
       "<IPython.core.display.HTML object>"
      ]
     },
     "metadata": {},
     "output_type": "display_data"
    },
    {
     "name": "stdout",
     "output_type": "stream",
     "text": [
      "\tQuerying PM event timestamps for system: QPS, className: DQAMCNMB_PMSTD, source: * from 2015-02-05 13:38:47.240 to 2015-02-05 13:47:57.240\n"
     ]
    },
    {
     "data": {
      "text/html": [
       "<text style=color:blue>Executing RB.A56 query function find_source_timestamp_ee: 1/45.</text>"
      ],
      "text/plain": [
       "<IPython.core.display.HTML object>"
      ]
     },
     "metadata": {},
     "output_type": "display_data"
    },
    {
     "name": "stdout",
     "output_type": "stream",
     "text": [
      "\tQuerying PM event timestamps for system: QPS, className: DQAMSNRB, source: UA63.RB.A56 from 2015-02-05 21:03:24.320 to 2015-02-05 21:20:14.320\n"
     ]
    },
    {
     "data": {
      "text/html": [
       "<text style=color:blue>Executing RB.A56 query function query_ee_u_dump_res_pm: 2/45.</text>"
      ],
      "text/plain": [
       "<IPython.core.display.HTML object>"
      ]
     },
     "metadata": {},
     "output_type": "display_data"
    },
    {
     "name": "stdout",
     "output_type": "stream",
     "text": [
      "\tQuerying PM event signal(s) UA63.RB.A56:U_DUMP_RES for system: QPS, className: DQAMSNRB, source: UA63.RB.A56 at 2015-02-05 21:03:34.864\n"
     ]
    },
    {
     "data": {
      "text/html": [
       "<text style=color:blue>Executing RB.A56 query function find_source_timestamp_ee: 3/45.</text>"
      ],
      "text/plain": [
       "<IPython.core.display.HTML object>"
      ]
     },
     "metadata": {},
     "output_type": "display_data"
    },
    {
     "name": "stdout",
     "output_type": "stream",
     "text": [
      "\tQuerying PM event timestamps for system: QPS, className: DQAMSNRB, source: RR57.RB.A56 from 2015-02-05 21:03:24.320 to 2015-02-05 21:20:14.320\n"
     ]
    },
    {
     "data": {
      "text/html": [
       "<text style=color:blue>Executing RB.A56 query function query_ee_u_dump_res_pm: 4/45.</text>"
      ],
      "text/plain": [
       "<IPython.core.display.HTML object>"
      ]
     },
     "metadata": {},
     "output_type": "display_data"
    },
    {
     "name": "stdout",
     "output_type": "stream",
     "text": [
      "\tQuerying PM event signal(s) RR57.RB.A56:U_DUMP_RES for system: QPS, className: DQAMSNRB, source: RR57.RB.A56 at 2015-02-05 21:03:34.617\n"
     ]
    },
    {
     "data": {
      "text/html": [
       "<text style=color:blue>Executing RB.A56 query function find_timestamp_pic: 5/45.</text>"
      ],
      "text/plain": [
       "<IPython.core.display.HTML object>"
      ]
     },
     "metadata": {},
     "output_type": "display_data"
    },
    {
     "name": "stdout",
     "output_type": "stream",
     "text": [
      "\tQuerying NXCALS signal(s) RB.A56.ODD:ST_ABORT_PIC, RB.A56.EVEN:ST_ABORT_PIC from 2015-02-05 21:03:33.320 to 2015-02-05 21:04:34.320\n"
     ]
    },
    {
     "data": {
      "text/html": [
       "<text style=color:blue>Executing RB.A56 query function find_source_timestamp_qds: 6/45.</text>"
      ],
      "text/plain": [
       "<IPython.core.display.HTML object>"
      ]
     },
     "metadata": {},
     "output_type": "display_data"
    },
    {
     "name": "stdout",
     "output_type": "stream",
     "text": [
      "\tQuerying PM event timestamps for system: QPS, className: DQAMCNMB_PMSTD, source: * from 2015-02-05 21:02:44.320 to 2015-02-05 21:11:54.320\n"
     ]
    },
    {
     "data": {
      "text/html": [
       "<text style=color:blue>Executing RB.A56 query function find_source_timestamp_ee: 1/45.</text>"
      ],
      "text/plain": [
       "<IPython.core.display.HTML object>"
      ]
     },
     "metadata": {},
     "output_type": "display_data"
    },
    {
     "name": "stdout",
     "output_type": "stream",
     "text": [
      "\tQuerying PM event timestamps for system: QPS, className: DQAMSNRB, source: UA63.RB.A56 from 2015-02-06 04:13:05.280 to 2015-02-06 04:29:55.280\n"
     ]
    },
    {
     "data": {
      "text/html": [
       "<text style=color:blue>Executing RB.A56 query function query_ee_u_dump_res_pm: 2/45.</text>"
      ],
      "text/plain": [
       "<IPython.core.display.HTML object>"
      ]
     },
     "metadata": {},
     "output_type": "display_data"
    },
    {
     "name": "stdout",
     "output_type": "stream",
     "text": [
      "\tQuerying PM event signal(s) UA63.RB.A56:U_DUMP_RES for system: QPS, className: DQAMSNRB, source: UA63.RB.A56 at 2015-02-06 04:13:15.822\n"
     ]
    },
    {
     "data": {
      "text/html": [
       "<text style=color:blue>Executing RB.A56 query function find_source_timestamp_ee: 3/45.</text>"
      ],
      "text/plain": [
       "<IPython.core.display.HTML object>"
      ]
     },
     "metadata": {},
     "output_type": "display_data"
    },
    {
     "name": "stdout",
     "output_type": "stream",
     "text": [
      "\tQuerying PM event timestamps for system: QPS, className: DQAMSNRB, source: RR57.RB.A56 from 2015-02-06 04:13:05.280 to 2015-02-06 04:29:55.280\n"
     ]
    },
    {
     "data": {
      "text/html": [
       "<text style=color:blue>Executing RB.A56 query function query_ee_u_dump_res_pm: 4/45.</text>"
      ],
      "text/plain": [
       "<IPython.core.display.HTML object>"
      ]
     },
     "metadata": {},
     "output_type": "display_data"
    },
    {
     "name": "stdout",
     "output_type": "stream",
     "text": [
      "\tQuerying PM event signal(s) RR57.RB.A56:U_DUMP_RES for system: QPS, className: DQAMSNRB, source: RR57.RB.A56 at 2015-02-06 04:13:15.577\n"
     ]
    },
    {
     "data": {
      "text/html": [
       "<text style=color:blue>Executing RB.A56 query function find_timestamp_pic: 5/45.</text>"
      ],
      "text/plain": [
       "<IPython.core.display.HTML object>"
      ]
     },
     "metadata": {},
     "output_type": "display_data"
    },
    {
     "name": "stdout",
     "output_type": "stream",
     "text": [
      "\tQuerying NXCALS signal(s) RB.A56.ODD:ST_ABORT_PIC, RB.A56.EVEN:ST_ABORT_PIC from 2015-02-06 04:13:14.280 to 2015-02-06 04:14:15.280\n"
     ]
    },
    {
     "data": {
      "text/html": [
       "<text style=color:blue>Executing RB.A56 query function find_source_timestamp_qds: 6/45.</text>"
      ],
      "text/plain": [
       "<IPython.core.display.HTML object>"
      ]
     },
     "metadata": {},
     "output_type": "display_data"
    },
    {
     "name": "stdout",
     "output_type": "stream",
     "text": [
      "\tQuerying PM event timestamps for system: QPS, className: DQAMCNMB_PMSTD, source: * from 2015-02-06 04:12:25.280 to 2015-02-06 04:21:35.280\n"
     ]
    },
    {
     "data": {
      "text/html": [
       "<text style=color:blue>Executing RB.A56 query function find_source_timestamp_ee: 1/45.</text>"
      ],
      "text/plain": [
       "<IPython.core.display.HTML object>"
      ]
     },
     "metadata": {},
     "output_type": "display_data"
    },
    {
     "name": "stdout",
     "output_type": "stream",
     "text": [
      "\tQuerying PM event timestamps for system: QPS, className: DQAMSNRB, source: UA63.RB.A56 from 2015-02-06 14:00:25.740 to 2015-02-06 14:17:15.740\n"
     ]
    },
    {
     "data": {
      "text/html": [
       "<text style=color:blue>Executing RB.A56 query function query_ee_u_dump_res_pm: 2/45.</text>"
      ],
      "text/plain": [
       "<IPython.core.display.HTML object>"
      ]
     },
     "metadata": {},
     "output_type": "display_data"
    },
    {
     "name": "stdout",
     "output_type": "stream",
     "text": [
      "\tQuerying PM event signal(s) UA63.RB.A56:U_DUMP_RES for system: QPS, className: DQAMSNRB, source: UA63.RB.A56 at 2015-02-06 14:00:36.281\n"
     ]
    },
    {
     "data": {
      "text/html": [
       "<text style=color:blue>Executing RB.A56 query function find_source_timestamp_ee: 3/45.</text>"
      ],
      "text/plain": [
       "<IPython.core.display.HTML object>"
      ]
     },
     "metadata": {},
     "output_type": "display_data"
    },
    {
     "name": "stdout",
     "output_type": "stream",
     "text": [
      "\tQuerying PM event timestamps for system: QPS, className: DQAMSNRB, source: RR57.RB.A56 from 2015-02-06 14:00:25.740 to 2015-02-06 14:17:15.740\n"
     ]
    },
    {
     "data": {
      "text/html": [
       "<text style=color:blue>Executing RB.A56 query function query_ee_u_dump_res_pm: 4/45.</text>"
      ],
      "text/plain": [
       "<IPython.core.display.HTML object>"
      ]
     },
     "metadata": {},
     "output_type": "display_data"
    },
    {
     "name": "stdout",
     "output_type": "stream",
     "text": [
      "\tQuerying PM event signal(s) RR57.RB.A56:U_DUMP_RES for system: QPS, className: DQAMSNRB, source: RR57.RB.A56 at 2015-02-06 14:00:36.034\n"
     ]
    },
    {
     "data": {
      "text/html": [
       "<text style=color:blue>Executing RB.A56 query function find_timestamp_pic: 5/45.</text>"
      ],
      "text/plain": [
       "<IPython.core.display.HTML object>"
      ]
     },
     "metadata": {},
     "output_type": "display_data"
    },
    {
     "name": "stdout",
     "output_type": "stream",
     "text": [
      "\tQuerying NXCALS signal(s) RB.A56.ODD:ST_ABORT_PIC, RB.A56.EVEN:ST_ABORT_PIC from 2015-02-06 14:00:34.740 to 2015-02-06 14:01:35.740\n"
     ]
    },
    {
     "data": {
      "text/html": [
       "<text style=color:blue>Executing RB.A56 query function find_source_timestamp_qds: 6/45.</text>"
      ],
      "text/plain": [
       "<IPython.core.display.HTML object>"
      ]
     },
     "metadata": {},
     "output_type": "display_data"
    },
    {
     "name": "stdout",
     "output_type": "stream",
     "text": [
      "\tQuerying PM event timestamps for system: QPS, className: DQAMCNMB_PMSTD, source: * from 2015-02-06 13:59:45.740 to 2015-02-06 14:08:55.740\n"
     ]
    },
    {
     "data": {
      "text/html": [
       "<text style=color:blue>Executing RB.A56 query function find_source_timestamp_ee: 1/45.</text>"
      ],
      "text/plain": [
       "<IPython.core.display.HTML object>"
      ]
     },
     "metadata": {},
     "output_type": "display_data"
    },
    {
     "name": "stdout",
     "output_type": "stream",
     "text": [
      "\tQuerying PM event timestamps for system: QPS, className: DQAMSNRB, source: UA63.RB.A56 from 2015-02-06 21:00:21.900 to 2015-02-06 21:17:11.900\n"
     ]
    },
    {
     "data": {
      "text/html": [
       "<text style=color:blue>Executing RB.A56 query function query_ee_u_dump_res_pm: 2/45.</text>"
      ],
      "text/plain": [
       "<IPython.core.display.HTML object>"
      ]
     },
     "metadata": {},
     "output_type": "display_data"
    },
    {
     "name": "stdout",
     "output_type": "stream",
     "text": [
      "\tQuerying PM event signal(s) UA63.RB.A56:U_DUMP_RES for system: QPS, className: DQAMSNRB, source: UA63.RB.A56 at 2015-02-06 21:00:32.438\n"
     ]
    },
    {
     "data": {
      "text/html": [
       "<text style=color:blue>Executing RB.A56 query function find_source_timestamp_ee: 3/45.</text>"
      ],
      "text/plain": [
       "<IPython.core.display.HTML object>"
      ]
     },
     "metadata": {},
     "output_type": "display_data"
    },
    {
     "name": "stdout",
     "output_type": "stream",
     "text": [
      "\tQuerying PM event timestamps for system: QPS, className: DQAMSNRB, source: RR57.RB.A56 from 2015-02-06 21:00:21.900 to 2015-02-06 21:17:11.900\n"
     ]
    },
    {
     "data": {
      "text/html": [
       "<text style=color:blue>Executing RB.A56 query function query_ee_u_dump_res_pm: 4/45.</text>"
      ],
      "text/plain": [
       "<IPython.core.display.HTML object>"
      ]
     },
     "metadata": {},
     "output_type": "display_data"
    },
    {
     "name": "stdout",
     "output_type": "stream",
     "text": [
      "\tQuerying PM event signal(s) RR57.RB.A56:U_DUMP_RES for system: QPS, className: DQAMSNRB, source: RR57.RB.A56 at 2015-02-06 21:00:32.192\n"
     ]
    },
    {
     "data": {
      "text/html": [
       "<text style=color:blue>Executing RB.A56 query function find_timestamp_pic: 5/45.</text>"
      ],
      "text/plain": [
       "<IPython.core.display.HTML object>"
      ]
     },
     "metadata": {},
     "output_type": "display_data"
    },
    {
     "name": "stdout",
     "output_type": "stream",
     "text": [
      "\tQuerying NXCALS signal(s) RB.A56.ODD:ST_ABORT_PIC, RB.A56.EVEN:ST_ABORT_PIC from 2015-02-06 21:00:30.900 to 2015-02-06 21:01:31.900\n"
     ]
    },
    {
     "data": {
      "text/html": [
       "<text style=color:blue>Executing RB.A56 query function find_source_timestamp_qds: 6/45.</text>"
      ],
      "text/plain": [
       "<IPython.core.display.HTML object>"
      ]
     },
     "metadata": {},
     "output_type": "display_data"
    },
    {
     "name": "stdout",
     "output_type": "stream",
     "text": [
      "\tQuerying PM event timestamps for system: QPS, className: DQAMCNMB_PMSTD, source: * from 2015-02-06 20:59:41.900 to 2015-02-06 21:08:51.900\n"
     ]
    },
    {
     "data": {
      "text/html": [
       "<text style=color:blue>Executing RB.A56 query function find_source_timestamp_ee: 1/45.</text>"
      ],
      "text/plain": [
       "<IPython.core.display.HTML object>"
      ]
     },
     "metadata": {},
     "output_type": "display_data"
    },
    {
     "name": "stdout",
     "output_type": "stream",
     "text": [
      "\tQuerying PM event timestamps for system: QPS, className: DQAMSNRB, source: UA63.RB.A56 from 2015-02-07 11:53:19.920 to 2015-02-07 12:10:09.920\n"
     ]
    },
    {
     "data": {
      "text/html": [
       "<text style=color:blue>Executing RB.A56 query function query_ee_u_dump_res_pm: 2/45.</text>"
      ],
      "text/plain": [
       "<IPython.core.display.HTML object>"
      ]
     },
     "metadata": {},
     "output_type": "display_data"
    },
    {
     "name": "stdout",
     "output_type": "stream",
     "text": [
      "\tQuerying PM event signal(s) UA63.RB.A56:U_DUMP_RES for system: QPS, className: DQAMSNRB, source: UA63.RB.A56 at 2015-02-07 11:53:30.462\n"
     ]
    },
    {
     "data": {
      "text/html": [
       "<text style=color:blue>Executing RB.A56 query function find_source_timestamp_ee: 3/45.</text>"
      ],
      "text/plain": [
       "<IPython.core.display.HTML object>"
      ]
     },
     "metadata": {},
     "output_type": "display_data"
    },
    {
     "name": "stdout",
     "output_type": "stream",
     "text": [
      "\tQuerying PM event timestamps for system: QPS, className: DQAMSNRB, source: RR57.RB.A56 from 2015-02-07 11:53:19.920 to 2015-02-07 12:10:09.920\n"
     ]
    },
    {
     "data": {
      "text/html": [
       "<text style=color:blue>Executing RB.A56 query function query_ee_u_dump_res_pm: 4/45.</text>"
      ],
      "text/plain": [
       "<IPython.core.display.HTML object>"
      ]
     },
     "metadata": {},
     "output_type": "display_data"
    },
    {
     "name": "stdout",
     "output_type": "stream",
     "text": [
      "\tQuerying PM event signal(s) RR57.RB.A56:U_DUMP_RES for system: QPS, className: DQAMSNRB, source: RR57.RB.A56 at 2015-02-07 11:53:30.215\n"
     ]
    },
    {
     "data": {
      "text/html": [
       "<text style=color:blue>Executing RB.A56 query function find_timestamp_pic: 5/45.</text>"
      ],
      "text/plain": [
       "<IPython.core.display.HTML object>"
      ]
     },
     "metadata": {},
     "output_type": "display_data"
    },
    {
     "name": "stdout",
     "output_type": "stream",
     "text": [
      "\tQuerying NXCALS signal(s) RB.A56.ODD:ST_ABORT_PIC, RB.A56.EVEN:ST_ABORT_PIC from 2015-02-07 11:53:28.920 to 2015-02-07 11:54:29.920\n"
     ]
    },
    {
     "data": {
      "text/html": [
       "<text style=color:blue>Executing RB.A56 query function find_source_timestamp_qds: 6/45.</text>"
      ],
      "text/plain": [
       "<IPython.core.display.HTML object>"
      ]
     },
     "metadata": {},
     "output_type": "display_data"
    },
    {
     "name": "stdout",
     "output_type": "stream",
     "text": [
      "\tQuerying PM event timestamps for system: QPS, className: DQAMCNMB_PMSTD, source: * from 2015-02-07 11:52:39.920 to 2015-02-07 12:01:49.920\n"
     ]
    },
    {
     "data": {
      "text/html": [
       "<text style=color:blue>Executing RB.A56 query function find_source_timestamp_ee: 1/45.</text>"
      ],
      "text/plain": [
       "<IPython.core.display.HTML object>"
      ]
     },
     "metadata": {},
     "output_type": "display_data"
    },
    {
     "name": "stdout",
     "output_type": "stream",
     "text": [
      "\tQuerying PM event timestamps for system: QPS, className: DQAMSNRB, source: UA63.RB.A56 from 2015-02-07 18:00:52.020 to 2015-02-07 18:17:42.020\n"
     ]
    },
    {
     "data": {
      "text/html": [
       "<text style=color:blue>Executing RB.A56 query function query_ee_u_dump_res_pm: 2/45.</text>"
      ],
      "text/plain": [
       "<IPython.core.display.HTML object>"
      ]
     },
     "metadata": {},
     "output_type": "display_data"
    },
    {
     "name": "stdout",
     "output_type": "stream",
     "text": [
      "\tQuerying PM event signal(s) UA63.RB.A56:U_DUMP_RES for system: QPS, className: DQAMSNRB, source: UA63.RB.A56 at 2015-02-07 18:01:02.564\n"
     ]
    },
    {
     "data": {
      "text/html": [
       "<text style=color:blue>Executing RB.A56 query function find_source_timestamp_ee: 3/45.</text>"
      ],
      "text/plain": [
       "<IPython.core.display.HTML object>"
      ]
     },
     "metadata": {},
     "output_type": "display_data"
    },
    {
     "name": "stdout",
     "output_type": "stream",
     "text": [
      "\tQuerying PM event timestamps for system: QPS, className: DQAMSNRB, source: RR57.RB.A56 from 2015-02-07 18:00:52.020 to 2015-02-07 18:17:42.020\n"
     ]
    },
    {
     "data": {
      "text/html": [
       "<text style=color:blue>Executing RB.A56 query function query_ee_u_dump_res_pm: 4/45.</text>"
      ],
      "text/plain": [
       "<IPython.core.display.HTML object>"
      ]
     },
     "metadata": {},
     "output_type": "display_data"
    },
    {
     "name": "stdout",
     "output_type": "stream",
     "text": [
      "\tQuerying PM event signal(s) RR57.RB.A56:U_DUMP_RES for system: QPS, className: DQAMSNRB, source: RR57.RB.A56 at 2015-02-07 18:01:02.318\n"
     ]
    },
    {
     "data": {
      "text/html": [
       "<text style=color:blue>Executing RB.A56 query function find_timestamp_pic: 5/45.</text>"
      ],
      "text/plain": [
       "<IPython.core.display.HTML object>"
      ]
     },
     "metadata": {},
     "output_type": "display_data"
    },
    {
     "name": "stdout",
     "output_type": "stream",
     "text": [
      "\tQuerying NXCALS signal(s) RB.A56.ODD:ST_ABORT_PIC, RB.A56.EVEN:ST_ABORT_PIC from 2015-02-07 18:01:01.020 to 2015-02-07 18:02:02.020\n"
     ]
    },
    {
     "data": {
      "text/html": [
       "<text style=color:blue>Executing RB.A56 query function find_source_timestamp_qds: 6/45.</text>"
      ],
      "text/plain": [
       "<IPython.core.display.HTML object>"
      ]
     },
     "metadata": {},
     "output_type": "display_data"
    },
    {
     "name": "stdout",
     "output_type": "stream",
     "text": [
      "\tQuerying PM event timestamps for system: QPS, className: DQAMCNMB_PMSTD, source: * from 2015-02-07 18:00:12.020 to 2015-02-07 18:09:22.020\n"
     ]
    },
    {
     "data": {
      "text/html": [
       "<text style=color:blue>Executing RB.A56 query function find_source_timestamp_ee: 1/45.</text>"
      ],
      "text/plain": [
       "<IPython.core.display.HTML object>"
      ]
     },
     "metadata": {},
     "output_type": "display_data"
    },
    {
     "name": "stdout",
     "output_type": "stream",
     "text": [
      "\tQuerying PM event timestamps for system: QPS, className: DQAMSNRB, source: UA63.RB.A56 from 2015-02-08 07:34:50.260 to 2015-02-08 07:51:40.260\n"
     ]
    },
    {
     "data": {
      "text/html": [
       "<text style=color:blue>Executing RB.A56 query function query_ee_u_dump_res_pm: 2/45.</text>"
      ],
      "text/plain": [
       "<IPython.core.display.HTML object>"
      ]
     },
     "metadata": {},
     "output_type": "display_data"
    },
    {
     "name": "stdout",
     "output_type": "stream",
     "text": [
      "\tQuerying PM event signal(s) UA63.RB.A56:U_DUMP_RES for system: QPS, className: DQAMSNRB, source: UA63.RB.A56 at 2015-02-08 07:35:00.792\n"
     ]
    },
    {
     "data": {
      "text/html": [
       "<text style=color:blue>Executing RB.A56 query function find_source_timestamp_ee: 3/45.</text>"
      ],
      "text/plain": [
       "<IPython.core.display.HTML object>"
      ]
     },
     "metadata": {},
     "output_type": "display_data"
    },
    {
     "name": "stdout",
     "output_type": "stream",
     "text": [
      "\tQuerying PM event timestamps for system: QPS, className: DQAMSNRB, source: RR57.RB.A56 from 2015-02-08 07:34:50.260 to 2015-02-08 07:51:40.260\n"
     ]
    },
    {
     "data": {
      "text/html": [
       "<text style=color:blue>Executing RB.A56 query function query_ee_u_dump_res_pm: 4/45.</text>"
      ],
      "text/plain": [
       "<IPython.core.display.HTML object>"
      ]
     },
     "metadata": {},
     "output_type": "display_data"
    },
    {
     "name": "stdout",
     "output_type": "stream",
     "text": [
      "\tQuerying PM event signal(s) RR57.RB.A56:U_DUMP_RES for system: QPS, className: DQAMSNRB, source: RR57.RB.A56 at 2015-02-08 07:35:00.545\n"
     ]
    },
    {
     "data": {
      "text/html": [
       "<text style=color:blue>Executing RB.A56 query function find_timestamp_pic: 5/45.</text>"
      ],
      "text/plain": [
       "<IPython.core.display.HTML object>"
      ]
     },
     "metadata": {},
     "output_type": "display_data"
    },
    {
     "name": "stdout",
     "output_type": "stream",
     "text": [
      "\tQuerying NXCALS signal(s) RB.A56.ODD:ST_ABORT_PIC, RB.A56.EVEN:ST_ABORT_PIC from 2015-02-08 07:34:59.260 to 2015-02-08 07:36:00.260\n"
     ]
    },
    {
     "data": {
      "text/html": [
       "<text style=color:blue>Executing RB.A56 query function find_source_timestamp_qds: 6/45.</text>"
      ],
      "text/plain": [
       "<IPython.core.display.HTML object>"
      ]
     },
     "metadata": {},
     "output_type": "display_data"
    },
    {
     "name": "stdout",
     "output_type": "stream",
     "text": [
      "\tQuerying PM event timestamps for system: QPS, className: DQAMCNMB_PMSTD, source: * from 2015-02-08 07:34:10.260 to 2015-02-08 07:43:20.260\n"
     ]
    },
    {
     "data": {
      "text/html": [
       "<text style=color:blue>Executing RB.A56 query function find_source_timestamp_ee: 1/45.</text>"
      ],
      "text/plain": [
       "<IPython.core.display.HTML object>"
      ]
     },
     "metadata": {},
     "output_type": "display_data"
    },
    {
     "name": "stdout",
     "output_type": "stream",
     "text": [
      "\tQuerying PM event timestamps for system: QPS, className: DQAMSNRB, source: UA63.RB.A56 from 2015-02-08 15:26:46.340 to 2015-02-08 15:43:36.340\n"
     ]
    },
    {
     "data": {
      "text/html": [
       "<text style=color:blue>Executing RB.A56 query function query_ee_u_dump_res_pm: 2/45.</text>"
      ],
      "text/plain": [
       "<IPython.core.display.HTML object>"
      ]
     },
     "metadata": {},
     "output_type": "display_data"
    },
    {
     "name": "stdout",
     "output_type": "stream",
     "text": [
      "\tQuerying PM event signal(s) UA63.RB.A56:U_DUMP_RES for system: QPS, className: DQAMSNRB, source: UA63.RB.A56 at 2015-02-08 15:26:56.873\n"
     ]
    },
    {
     "data": {
      "text/html": [
       "<text style=color:blue>Executing RB.A56 query function find_source_timestamp_ee: 3/45.</text>"
      ],
      "text/plain": [
       "<IPython.core.display.HTML object>"
      ]
     },
     "metadata": {},
     "output_type": "display_data"
    },
    {
     "name": "stdout",
     "output_type": "stream",
     "text": [
      "\tQuerying PM event timestamps for system: QPS, className: DQAMSNRB, source: RR57.RB.A56 from 2015-02-08 15:26:46.340 to 2015-02-08 15:43:36.340\n"
     ]
    },
    {
     "data": {
      "text/html": [
       "<text style=color:blue>Executing RB.A56 query function query_ee_u_dump_res_pm: 4/45.</text>"
      ],
      "text/plain": [
       "<IPython.core.display.HTML object>"
      ]
     },
     "metadata": {},
     "output_type": "display_data"
    },
    {
     "name": "stdout",
     "output_type": "stream",
     "text": [
      "\tQuerying PM event signal(s) RR57.RB.A56:U_DUMP_RES for system: QPS, className: DQAMSNRB, source: RR57.RB.A56 at 2015-02-08 15:26:56.626\n"
     ]
    },
    {
     "data": {
      "text/html": [
       "<text style=color:blue>Executing RB.A56 query function find_timestamp_pic: 5/45.</text>"
      ],
      "text/plain": [
       "<IPython.core.display.HTML object>"
      ]
     },
     "metadata": {},
     "output_type": "display_data"
    },
    {
     "name": "stdout",
     "output_type": "stream",
     "text": [
      "\tQuerying NXCALS signal(s) RB.A56.ODD:ST_ABORT_PIC, RB.A56.EVEN:ST_ABORT_PIC from 2015-02-08 15:26:55.340 to 2015-02-08 15:27:56.340\n"
     ]
    },
    {
     "data": {
      "text/html": [
       "<text style=color:blue>Executing RB.A56 query function find_source_timestamp_qds: 6/45.</text>"
      ],
      "text/plain": [
       "<IPython.core.display.HTML object>"
      ]
     },
     "metadata": {},
     "output_type": "display_data"
    },
    {
     "name": "stdout",
     "output_type": "stream",
     "text": [
      "\tQuerying PM event timestamps for system: QPS, className: DQAMCNMB_PMSTD, source: * from 2015-02-08 15:26:06.340 to 2015-02-08 15:35:16.340\n"
     ]
    },
    {
     "data": {
      "text/html": [
       "<text style=color:blue>Executing RB.A56 query function find_source_timestamp_ee: 1/45.</text>"
      ],
      "text/plain": [
       "<IPython.core.display.HTML object>"
      ]
     },
     "metadata": {},
     "output_type": "display_data"
    },
    {
     "name": "stdout",
     "output_type": "stream",
     "text": [
      "\tQuerying PM event timestamps for system: QPS, className: DQAMSNRB, source: UA63.RB.A56 from 2015-02-09 22:58:20.160 to 2015-02-09 23:15:10.160\n"
     ]
    },
    {
     "data": {
      "text/html": [
       "<text style=color:blue>Executing RB.A56 query function find_source_timestamp_ee: 1/45.</text>"
      ],
      "text/plain": [
       "<IPython.core.display.HTML object>"
      ]
     },
     "metadata": {},
     "output_type": "display_data"
    },
    {
     "name": "stdout",
     "output_type": "stream",
     "text": [
      "\tQuerying PM event timestamps for system: QPS, className: DQAMSNRB, source: UA63.RB.A56 from 2015-03-18 22:52:12.580 to 2015-03-18 23:09:02.580\n"
     ]
    },
    {
     "data": {
      "text/html": [
       "<text style=color:blue>Executing RB.A56 query function query_ee_u_dump_res_pm: 2/45.</text>"
      ],
      "text/plain": [
       "<IPython.core.display.HTML object>"
      ]
     },
     "metadata": {},
     "output_type": "display_data"
    },
    {
     "name": "stdout",
     "output_type": "stream",
     "text": [
      "\tQuerying PM event signal(s) UA63.RB.A56:U_DUMP_RES for system: QPS, className: DQAMSNRB, source: UA63.RB.A56 at 2015-03-18 22:52:23.121\n"
     ]
    },
    {
     "data": {
      "text/html": [
       "<text style=color:blue>Executing RB.A56 query function find_source_timestamp_ee: 3/45.</text>"
      ],
      "text/plain": [
       "<IPython.core.display.HTML object>"
      ]
     },
     "metadata": {},
     "output_type": "display_data"
    },
    {
     "name": "stdout",
     "output_type": "stream",
     "text": [
      "\tQuerying PM event timestamps for system: QPS, className: DQAMSNRB, source: RR57.RB.A56 from 2015-03-18 22:52:12.580 to 2015-03-18 23:09:02.580\n"
     ]
    },
    {
     "data": {
      "text/html": [
       "<text style=color:blue>Executing RB.A56 query function query_ee_u_dump_res_pm: 4/45.</text>"
      ],
      "text/plain": [
       "<IPython.core.display.HTML object>"
      ]
     },
     "metadata": {},
     "output_type": "display_data"
    },
    {
     "name": "stdout",
     "output_type": "stream",
     "text": [
      "\tQuerying PM event signal(s) RR57.RB.A56:U_DUMP_RES for system: QPS, className: DQAMSNRB, source: RR57.RB.A56 at 2015-03-18 22:52:22.874\n"
     ]
    },
    {
     "data": {
      "text/html": [
       "<text style=color:blue>Executing RB.A56 query function find_timestamp_pic: 5/45.</text>"
      ],
      "text/plain": [
       "<IPython.core.display.HTML object>"
      ]
     },
     "metadata": {},
     "output_type": "display_data"
    },
    {
     "name": "stdout",
     "output_type": "stream",
     "text": [
      "\tQuerying NXCALS signal(s) RB.A56.ODD:ST_ABORT_PIC, RB.A56.EVEN:ST_ABORT_PIC from 2015-03-18 22:52:21.580 to 2015-03-18 22:53:22.580\n"
     ]
    },
    {
     "data": {
      "text/html": [
       "<text style=color:blue>Executing RB.A56 query function find_source_timestamp_qds: 6/45.</text>"
      ],
      "text/plain": [
       "<IPython.core.display.HTML object>"
      ]
     },
     "metadata": {},
     "output_type": "display_data"
    },
    {
     "name": "stdout",
     "output_type": "stream",
     "text": [
      "\tQuerying PM event timestamps for system: QPS, className: DQAMCNMB_PMSTD, source: * from 2015-03-18 22:51:32.580 to 2015-03-18 23:00:42.580\n"
     ]
    },
    {
     "data": {
      "text/html": [
       "<text style=color:blue>Executing RB.A56 query function find_source_timestamp_ee: 1/45.</text>"
      ],
      "text/plain": [
       "<IPython.core.display.HTML object>"
      ]
     },
     "metadata": {},
     "output_type": "display_data"
    },
    {
     "name": "stdout",
     "output_type": "stream",
     "text": [
      "\tQuerying PM event timestamps for system: QPS, className: DQAMSNRB, source: UA63.RB.A56 from 2015-08-15 00:56:40 to 2015-08-15 01:13:30\n"
     ]
    },
    {
     "data": {
      "text/html": [
       "<text style=color:blue>Executing RB.A56 query function query_ee_u_dump_res_pm: 2/45.</text>"
      ],
      "text/plain": [
       "<IPython.core.display.HTML object>"
      ]
     },
     "metadata": {},
     "output_type": "display_data"
    },
    {
     "name": "stdout",
     "output_type": "stream",
     "text": [
      "\tQuerying PM event signal(s) UA63.RB.A56:U_DUMP_RES for system: QPS, className: DQAMSNRB, source: UA63.RB.A56 at 2015-08-15 00:56:50.539\n"
     ]
    },
    {
     "data": {
      "text/html": [
       "<text style=color:blue>Executing RB.A56 query function find_source_timestamp_ee: 3/45.</text>"
      ],
      "text/plain": [
       "<IPython.core.display.HTML object>"
      ]
     },
     "metadata": {},
     "output_type": "display_data"
    },
    {
     "name": "stdout",
     "output_type": "stream",
     "text": [
      "\tQuerying PM event timestamps for system: QPS, className: DQAMSNRB, source: RR57.RB.A56 from 2015-08-15 00:56:40 to 2015-08-15 01:13:30\n"
     ]
    },
    {
     "data": {
      "text/html": [
       "<text style=color:blue>Executing RB.A56 query function query_ee_u_dump_res_pm: 4/45.</text>"
      ],
      "text/plain": [
       "<IPython.core.display.HTML object>"
      ]
     },
     "metadata": {},
     "output_type": "display_data"
    },
    {
     "name": "stdout",
     "output_type": "stream",
     "text": [
      "\tQuerying PM event signal(s) RR57.RB.A56:U_DUMP_RES for system: QPS, className: DQAMSNRB, source: RR57.RB.A56 at 2015-08-15 00:56:50.288\n"
     ]
    },
    {
     "data": {
      "text/html": [
       "<text style=color:blue>Executing RB.A56 query function find_timestamp_pic: 5/45.</text>"
      ],
      "text/plain": [
       "<IPython.core.display.HTML object>"
      ]
     },
     "metadata": {},
     "output_type": "display_data"
    },
    {
     "name": "stdout",
     "output_type": "stream",
     "text": [
      "\tQuerying NXCALS signal(s) RB.A56.ODD:ST_ABORT_PIC, RB.A56.EVEN:ST_ABORT_PIC from 2015-08-15 00:56:49 to 2015-08-15 00:57:50\n"
     ]
    },
    {
     "data": {
      "text/html": [
       "<text style=color:blue>Executing RB.A56 query function find_source_timestamp_qds: 6/45.</text>"
      ],
      "text/plain": [
       "<IPython.core.display.HTML object>"
      ]
     },
     "metadata": {},
     "output_type": "display_data"
    },
    {
     "name": "stdout",
     "output_type": "stream",
     "text": [
      "\tQuerying PM event timestamps for system: QPS, className: DQAMCNMB_PMSTD, source: * from 2015-08-15 00:56:00 to 2015-08-15 01:05:10\n"
     ]
    },
    {
     "data": {
      "text/html": [
       "<text style=color:blue>Executing RB.A56 query function find_source_timestamp_ee: 1/45.</text>"
      ],
      "text/plain": [
       "<IPython.core.display.HTML object>"
      ]
     },
     "metadata": {},
     "output_type": "display_data"
    },
    {
     "name": "stdout",
     "output_type": "stream",
     "text": [
      "\tQuerying PM event timestamps for system: QPS, className: DQAMSNRB, source: UA63.RB.A56 from 2016-03-13 16:28:59.940 to 2016-03-13 16:45:49.940\n"
     ]
    },
    {
     "data": {
      "text/html": [
       "<text style=color:blue>Executing RB.A56 query function query_ee_u_dump_res_pm: 2/45.</text>"
      ],
      "text/plain": [
       "<IPython.core.display.HTML object>"
      ]
     },
     "metadata": {},
     "output_type": "display_data"
    },
    {
     "name": "stdout",
     "output_type": "stream",
     "text": [
      "\tQuerying PM event signal(s) UA63.RB.A56:U_DUMP_RES for system: QPS, className: DQAMSNRB, source: UA63.RB.A56 at 2016-03-13 16:29:10.480\n"
     ]
    },
    {
     "data": {
      "text/html": [
       "<text style=color:blue>Executing RB.A56 query function find_source_timestamp_ee: 3/45.</text>"
      ],
      "text/plain": [
       "<IPython.core.display.HTML object>"
      ]
     },
     "metadata": {},
     "output_type": "display_data"
    },
    {
     "name": "stdout",
     "output_type": "stream",
     "text": [
      "\tQuerying PM event timestamps for system: QPS, className: DQAMSNRB, source: RR57.RB.A56 from 2016-03-13 16:28:59.940 to 2016-03-13 16:45:49.940\n"
     ]
    },
    {
     "data": {
      "text/html": [
       "<text style=color:blue>Executing RB.A56 query function query_ee_u_dump_res_pm: 4/45.</text>"
      ],
      "text/plain": [
       "<IPython.core.display.HTML object>"
      ]
     },
     "metadata": {},
     "output_type": "display_data"
    },
    {
     "name": "stdout",
     "output_type": "stream",
     "text": [
      "\tQuerying PM event signal(s) RR57.RB.A56:U_DUMP_RES for system: QPS, className: DQAMSNRB, source: RR57.RB.A56 at 2016-03-13 16:29:10.233\n"
     ]
    },
    {
     "data": {
      "text/html": [
       "<text style=color:blue>Executing RB.A56 query function find_timestamp_pic: 5/45.</text>"
      ],
      "text/plain": [
       "<IPython.core.display.HTML object>"
      ]
     },
     "metadata": {},
     "output_type": "display_data"
    },
    {
     "name": "stdout",
     "output_type": "stream",
     "text": [
      "\tQuerying NXCALS signal(s) RB.A56.ODD:ST_ABORT_PIC, RB.A56.EVEN:ST_ABORT_PIC from 2016-03-13 16:29:08.940 to 2016-03-13 16:30:09.940\n"
     ]
    },
    {
     "data": {
      "text/html": [
       "<text style=color:blue>Executing RB.A56 query function find_source_timestamp_qds: 6/45.</text>"
      ],
      "text/plain": [
       "<IPython.core.display.HTML object>"
      ]
     },
     "metadata": {},
     "output_type": "display_data"
    },
    {
     "name": "stdout",
     "output_type": "stream",
     "text": [
      "\tQuerying PM event timestamps for system: QPS, className: DQAMCNMB_PMSTD, source: * from 2016-03-13 16:28:19.940 to 2016-03-13 16:37:29.940\n"
     ]
    },
    {
     "data": {
      "text/html": [
       "<text style=color:blue>Executing RB.A56 query function find_source_timestamp_ee: 1/45.</text>"
      ],
      "text/plain": [
       "<IPython.core.display.HTML object>"
      ]
     },
     "metadata": {},
     "output_type": "display_data"
    },
    {
     "name": "stdout",
     "output_type": "stream",
     "text": [
      "\tQuerying PM event timestamps for system: QPS, className: DQAMSNRB, source: UA63.RB.A56 from 2017-12-04 07:35:07.280 to 2017-12-04 07:51:57.280\n"
     ]
    },
    {
     "data": {
      "text/html": [
       "<text style=color:blue>Executing RB.A56 query function query_ee_u_dump_res_pm: 2/45.</text>"
      ],
      "text/plain": [
       "<IPython.core.display.HTML object>"
      ]
     },
     "metadata": {},
     "output_type": "display_data"
    },
    {
     "name": "stdout",
     "output_type": "stream",
     "text": [
      "\tQuerying PM event signal(s) UA63.RB.A56:U_DUMP_RES for system: QPS, className: DQAMSNRB, source: UA63.RB.A56 at 2017-12-04 07:35:17.825\n"
     ]
    },
    {
     "data": {
      "text/html": [
       "<text style=color:blue>Executing RB.A56 query function find_source_timestamp_ee: 3/45.</text>"
      ],
      "text/plain": [
       "<IPython.core.display.HTML object>"
      ]
     },
     "metadata": {},
     "output_type": "display_data"
    },
    {
     "name": "stdout",
     "output_type": "stream",
     "text": [
      "\tQuerying PM event timestamps for system: QPS, className: DQAMSNRB, source: RR57.RB.A56 from 2017-12-04 07:35:07.280 to 2017-12-04 07:51:57.280\n"
     ]
    },
    {
     "data": {
      "text/html": [
       "<text style=color:blue>Executing RB.A56 query function query_ee_u_dump_res_pm: 4/45.</text>"
      ],
      "text/plain": [
       "<IPython.core.display.HTML object>"
      ]
     },
     "metadata": {},
     "output_type": "display_data"
    },
    {
     "name": "stdout",
     "output_type": "stream",
     "text": [
      "\tQuerying PM event signal(s) RR57.RB.A56:U_DUMP_RES for system: QPS, className: DQAMSNRB, source: RR57.RB.A56 at 2017-12-04 07:35:17.583\n"
     ]
    },
    {
     "data": {
      "text/html": [
       "<text style=color:blue>Executing RB.A56 query function find_timestamp_pic: 5/45.</text>"
      ],
      "text/plain": [
       "<IPython.core.display.HTML object>"
      ]
     },
     "metadata": {},
     "output_type": "display_data"
    },
    {
     "name": "stdout",
     "output_type": "stream",
     "text": [
      "\tQuerying NXCALS signal(s) RB.A56.ODD:ST_ABORT_PIC, RB.A56.EVEN:ST_ABORT_PIC from 2017-12-04 07:35:16.280 to 2017-12-04 07:36:17.280\n"
     ]
    },
    {
     "data": {
      "text/html": [
       "<text style=color:blue>Executing RB.A56 query function find_source_timestamp_qds: 6/45.</text>"
      ],
      "text/plain": [
       "<IPython.core.display.HTML object>"
      ]
     },
     "metadata": {},
     "output_type": "display_data"
    },
    {
     "name": "stdout",
     "output_type": "stream",
     "text": [
      "\tQuerying PM event timestamps for system: QPS, className: DQAMCNMB_PMSTD, source: * from 2017-12-04 07:34:27.280 to 2017-12-04 07:43:37.280\n"
     ]
    },
    {
     "data": {
      "text/html": [
       "<text style=color:blue>Executing RB.A67 query function find_source_timestamp_ee: 1/45.</text>"
      ],
      "text/plain": [
       "<IPython.core.display.HTML object>"
      ]
     },
     "metadata": {},
     "output_type": "display_data"
    },
    {
     "name": "stdout",
     "output_type": "stream",
     "text": [
      "\tQuerying PM event timestamps for system: QPS, className: DQAMSNRB, source: UA67.RB.A67 from 2014-10-24 19:54:19.580 to 2014-10-24 20:11:09.580\n"
     ]
    },
    {
     "data": {
      "text/html": [
       "<text style=color:blue>Executing RB.A67 query function query_ee_u_dump_res_pm: 2/45.</text>"
      ],
      "text/plain": [
       "<IPython.core.display.HTML object>"
      ]
     },
     "metadata": {},
     "output_type": "display_data"
    },
    {
     "name": "stdout",
     "output_type": "stream",
     "text": [
      "\tQuerying PM event signal(s) UA67.RB.A67:U_DUMP_RES for system: QPS, className: DQAMSNRB, source: UA67.RB.A67 at 2014-10-24 19:54:30.136\n"
     ]
    },
    {
     "data": {
      "text/html": [
       "<text style=color:blue>Executing RB.A67 query function find_source_timestamp_ee: 3/45.</text>"
      ],
      "text/plain": [
       "<IPython.core.display.HTML object>"
      ]
     },
     "metadata": {},
     "output_type": "display_data"
    },
    {
     "name": "stdout",
     "output_type": "stream",
     "text": [
      "\tQuerying PM event timestamps for system: QPS, className: DQAMSNRB, source: RR73.RB.A67 from 2014-10-24 19:54:19.580 to 2014-10-24 20:11:09.580\n"
     ]
    },
    {
     "data": {
      "text/html": [
       "<text style=color:blue>Executing RB.A67 query function query_ee_u_dump_res_pm: 4/45.</text>"
      ],
      "text/plain": [
       "<IPython.core.display.HTML object>"
      ]
     },
     "metadata": {},
     "output_type": "display_data"
    },
    {
     "name": "stdout",
     "output_type": "stream",
     "text": [
      "\tQuerying PM event signal(s) RR73.RB.A67:U_DUMP_RES for system: QPS, className: DQAMSNRB, source: RR73.RB.A67 at 2014-10-24 19:54:29.878\n"
     ]
    },
    {
     "data": {
      "text/html": [
       "<text style=color:blue>Executing RB.A67 query function find_timestamp_pic: 5/45.</text>"
      ],
      "text/plain": [
       "<IPython.core.display.HTML object>"
      ]
     },
     "metadata": {},
     "output_type": "display_data"
    },
    {
     "name": "stdout",
     "output_type": "stream",
     "text": [
      "\tQuerying NXCALS signal(s) RB.A67.ODD:ST_ABORT_PIC, RB.A67.EVEN:ST_ABORT_PIC from 2014-10-24 19:54:28.580 to 2014-10-24 19:55:29.580\n"
     ]
    },
    {
     "data": {
      "text/html": [
       "<text style=color:blue>Executing RB.A67 query function find_source_timestamp_qds: 6/45.</text>"
      ],
      "text/plain": [
       "<IPython.core.display.HTML object>"
      ]
     },
     "metadata": {},
     "output_type": "display_data"
    },
    {
     "name": "stdout",
     "output_type": "stream",
     "text": [
      "\tQuerying PM event timestamps for system: QPS, className: DQAMCNMB_PMSTD, source: * from 2014-10-24 19:53:39.580 to 2014-10-24 20:02:49.580\n"
     ]
    },
    {
     "data": {
      "text/html": [
       "<text style=color:blue>Executing RB.A67 query function find_source_timestamp_ee: 1/45.</text>"
      ],
      "text/plain": [
       "<IPython.core.display.HTML object>"
      ]
     },
     "metadata": {},
     "output_type": "display_data"
    },
    {
     "name": "stdout",
     "output_type": "stream",
     "text": [
      "\tQuerying PM event timestamps for system: QPS, className: DQAMSNRB, source: UA67.RB.A67 from 2014-10-29 16:07:49.380 to 2014-10-29 16:24:39.380\n"
     ]
    },
    {
     "data": {
      "text/html": [
       "<text style=color:blue>Executing RB.A67 query function query_ee_u_dump_res_pm: 2/45.</text>"
      ],
      "text/plain": [
       "<IPython.core.display.HTML object>"
      ]
     },
     "metadata": {},
     "output_type": "display_data"
    },
    {
     "name": "stdout",
     "output_type": "stream",
     "text": [
      "\tQuerying PM event signal(s) UA67.RB.A67:U_DUMP_RES for system: QPS, className: DQAMSNRB, source: UA67.RB.A67 at 2014-10-29 16:07:59.930\n"
     ]
    },
    {
     "data": {
      "text/html": [
       "<text style=color:blue>Executing RB.A67 query function find_source_timestamp_ee: 3/45.</text>"
      ],
      "text/plain": [
       "<IPython.core.display.HTML object>"
      ]
     },
     "metadata": {},
     "output_type": "display_data"
    },
    {
     "name": "stdout",
     "output_type": "stream",
     "text": [
      "\tQuerying PM event timestamps for system: QPS, className: DQAMSNRB, source: RR73.RB.A67 from 2014-10-29 16:07:49.380 to 2014-10-29 16:24:39.380\n"
     ]
    },
    {
     "data": {
      "text/html": [
       "<text style=color:blue>Executing RB.A67 query function query_ee_u_dump_res_pm: 4/45.</text>"
      ],
      "text/plain": [
       "<IPython.core.display.HTML object>"
      ]
     },
     "metadata": {},
     "output_type": "display_data"
    },
    {
     "name": "stdout",
     "output_type": "stream",
     "text": [
      "\tQuerying PM event signal(s) RR73.RB.A67:U_DUMP_RES for system: QPS, className: DQAMSNRB, source: RR73.RB.A67 at 2014-10-29 16:07:59.670\n"
     ]
    },
    {
     "data": {
      "text/html": [
       "<text style=color:blue>Executing RB.A67 query function find_timestamp_pic: 5/45.</text>"
      ],
      "text/plain": [
       "<IPython.core.display.HTML object>"
      ]
     },
     "metadata": {},
     "output_type": "display_data"
    },
    {
     "name": "stdout",
     "output_type": "stream",
     "text": [
      "\tQuerying NXCALS signal(s) RB.A67.ODD:ST_ABORT_PIC, RB.A67.EVEN:ST_ABORT_PIC from 2014-10-29 16:07:58.380 to 2014-10-29 16:08:59.380\n"
     ]
    },
    {
     "data": {
      "text/html": [
       "<text style=color:blue>Executing RB.A67 query function find_source_timestamp_qds: 6/45.</text>"
      ],
      "text/plain": [
       "<IPython.core.display.HTML object>"
      ]
     },
     "metadata": {},
     "output_type": "display_data"
    },
    {
     "name": "stdout",
     "output_type": "stream",
     "text": [
      "\tQuerying PM event timestamps for system: QPS, className: DQAMCNMB_PMSTD, source: * from 2014-10-29 16:07:09.380 to 2014-10-29 16:16:19.380\n"
     ]
    },
    {
     "data": {
      "text/html": [
       "<text style=color:blue>Executing RB.A67 query function find_source_timestamp_ee: 1/45.</text>"
      ],
      "text/plain": [
       "<IPython.core.display.HTML object>"
      ]
     },
     "metadata": {},
     "output_type": "display_data"
    },
    {
     "name": "stdout",
     "output_type": "stream",
     "text": [
      "\tQuerying PM event timestamps for system: QPS, className: DQAMSNRB, source: UA67.RB.A67 from 2014-10-29 18:54:20.280 to 2014-10-29 19:11:10.280\n"
     ]
    },
    {
     "data": {
      "text/html": [
       "<text style=color:blue>Executing RB.A67 query function query_ee_u_dump_res_pm: 2/45.</text>"
      ],
      "text/plain": [
       "<IPython.core.display.HTML object>"
      ]
     },
     "metadata": {},
     "output_type": "display_data"
    },
    {
     "name": "stdout",
     "output_type": "stream",
     "text": [
      "\tQuerying PM event signal(s) UA67.RB.A67:U_DUMP_RES for system: QPS, className: DQAMSNRB, source: UA67.RB.A67 at 2014-10-29 18:54:30.831\n"
     ]
    },
    {
     "data": {
      "text/html": [
       "<text style=color:blue>Executing RB.A67 query function find_source_timestamp_ee: 3/45.</text>"
      ],
      "text/plain": [
       "<IPython.core.display.HTML object>"
      ]
     },
     "metadata": {},
     "output_type": "display_data"
    },
    {
     "name": "stdout",
     "output_type": "stream",
     "text": [
      "\tQuerying PM event timestamps for system: QPS, className: DQAMSNRB, source: RR73.RB.A67 from 2014-10-29 18:54:20.280 to 2014-10-29 19:11:10.280\n"
     ]
    },
    {
     "data": {
      "text/html": [
       "<text style=color:blue>Executing RB.A67 query function query_ee_u_dump_res_pm: 4/45.</text>"
      ],
      "text/plain": [
       "<IPython.core.display.HTML object>"
      ]
     },
     "metadata": {},
     "output_type": "display_data"
    },
    {
     "name": "stdout",
     "output_type": "stream",
     "text": [
      "\tQuerying PM event signal(s) RR73.RB.A67:U_DUMP_RES for system: QPS, className: DQAMSNRB, source: RR73.RB.A67 at 2014-10-29 18:54:30.570\n"
     ]
    },
    {
     "data": {
      "text/html": [
       "<text style=color:blue>Executing RB.A67 query function find_timestamp_pic: 5/45.</text>"
      ],
      "text/plain": [
       "<IPython.core.display.HTML object>"
      ]
     },
     "metadata": {},
     "output_type": "display_data"
    },
    {
     "name": "stdout",
     "output_type": "stream",
     "text": [
      "\tQuerying NXCALS signal(s) RB.A67.ODD:ST_ABORT_PIC, RB.A67.EVEN:ST_ABORT_PIC from 2014-10-29 18:54:29.280 to 2014-10-29 18:55:30.280\n"
     ]
    },
    {
     "data": {
      "text/html": [
       "<text style=color:blue>Executing RB.A67 query function find_source_timestamp_qds: 6/45.</text>"
      ],
      "text/plain": [
       "<IPython.core.display.HTML object>"
      ]
     },
     "metadata": {},
     "output_type": "display_data"
    },
    {
     "name": "stdout",
     "output_type": "stream",
     "text": [
      "\tQuerying PM event timestamps for system: QPS, className: DQAMCNMB_PMSTD, source: * from 2014-10-29 18:53:40.280 to 2014-10-29 19:02:50.280\n"
     ]
    },
    {
     "data": {
      "text/html": [
       "<text style=color:blue>Executing RB.A67 query function find_source_timestamp_ee: 1/45.</text>"
      ],
      "text/plain": [
       "<IPython.core.display.HTML object>"
      ]
     },
     "metadata": {},
     "output_type": "display_data"
    },
    {
     "name": "stdout",
     "output_type": "stream",
     "text": [
      "\tQuerying PM event timestamps for system: QPS, className: DQAMSNRB, source: UA67.RB.A67 from 2014-10-31 18:18:38.440 to 2014-10-31 18:35:28.440\n"
     ]
    },
    {
     "data": {
      "text/html": [
       "<text style=color:blue>Executing RB.A67 query function query_ee_u_dump_res_pm: 2/45.</text>"
      ],
      "text/plain": [
       "<IPython.core.display.HTML object>"
      ]
     },
     "metadata": {},
     "output_type": "display_data"
    },
    {
     "name": "stdout",
     "output_type": "stream",
     "text": [
      "\tQuerying PM event signal(s) UA67.RB.A67:U_DUMP_RES for system: QPS, className: DQAMSNRB, source: UA67.RB.A67 at 2014-10-31 18:18:48.993\n"
     ]
    },
    {
     "data": {
      "text/html": [
       "<text style=color:blue>Executing RB.A67 query function find_source_timestamp_ee: 3/45.</text>"
      ],
      "text/plain": [
       "<IPython.core.display.HTML object>"
      ]
     },
     "metadata": {},
     "output_type": "display_data"
    },
    {
     "name": "stdout",
     "output_type": "stream",
     "text": [
      "\tQuerying PM event timestamps for system: QPS, className: DQAMSNRB, source: RR73.RB.A67 from 2014-10-31 18:18:38.440 to 2014-10-31 18:35:28.440\n"
     ]
    },
    {
     "data": {
      "text/html": [
       "<text style=color:blue>Executing RB.A67 query function query_ee_u_dump_res_pm: 4/45.</text>"
      ],
      "text/plain": [
       "<IPython.core.display.HTML object>"
      ]
     },
     "metadata": {},
     "output_type": "display_data"
    },
    {
     "name": "stdout",
     "output_type": "stream",
     "text": [
      "\tQuerying PM event signal(s) RR73.RB.A67:U_DUMP_RES for system: QPS, className: DQAMSNRB, source: RR73.RB.A67 at 2014-10-31 18:18:48.732\n"
     ]
    },
    {
     "data": {
      "text/html": [
       "<text style=color:blue>Executing RB.A67 query function find_timestamp_pic: 5/45.</text>"
      ],
      "text/plain": [
       "<IPython.core.display.HTML object>"
      ]
     },
     "metadata": {},
     "output_type": "display_data"
    },
    {
     "name": "stdout",
     "output_type": "stream",
     "text": [
      "\tQuerying NXCALS signal(s) RB.A67.ODD:ST_ABORT_PIC, RB.A67.EVEN:ST_ABORT_PIC from 2014-10-31 18:18:47.440 to 2014-10-31 18:19:48.440\n"
     ]
    },
    {
     "data": {
      "text/html": [
       "<text style=color:blue>Executing RB.A67 query function find_source_timestamp_qds: 6/45.</text>"
      ],
      "text/plain": [
       "<IPython.core.display.HTML object>"
      ]
     },
     "metadata": {},
     "output_type": "display_data"
    },
    {
     "name": "stdout",
     "output_type": "stream",
     "text": [
      "\tQuerying PM event timestamps for system: QPS, className: DQAMCNMB_PMSTD, source: * from 2014-10-31 18:17:58.440 to 2014-10-31 18:27:08.440\n"
     ]
    },
    {
     "data": {
      "text/html": [
       "<text style=color:blue>Executing RB.A67 query function find_source_timestamp_ee: 1/45.</text>"
      ],
      "text/plain": [
       "<IPython.core.display.HTML object>"
      ]
     },
     "metadata": {},
     "output_type": "display_data"
    },
    {
     "name": "stdout",
     "output_type": "stream",
     "text": [
      "\tQuerying PM event timestamps for system: QPS, className: DQAMSNRB, source: UA67.RB.A67 from 2014-12-01 14:21:13.740 to 2014-12-01 14:38:03.740\n"
     ]
    },
    {
     "data": {
      "text/html": [
       "<text style=color:blue>Executing RB.A67 query function query_ee_u_dump_res_pm: 2/45.</text>"
      ],
      "text/plain": [
       "<IPython.core.display.HTML object>"
      ]
     },
     "metadata": {},
     "output_type": "display_data"
    },
    {
     "name": "stdout",
     "output_type": "stream",
     "text": [
      "\tQuerying PM event signal(s) UA67.RB.A67:U_DUMP_RES for system: QPS, className: DQAMSNRB, source: UA67.RB.A67 at 2014-12-01 14:21:24.300\n"
     ]
    },
    {
     "data": {
      "text/html": [
       "<text style=color:blue>Executing RB.A67 query function find_source_timestamp_ee: 3/45.</text>"
      ],
      "text/plain": [
       "<IPython.core.display.HTML object>"
      ]
     },
     "metadata": {},
     "output_type": "display_data"
    },
    {
     "name": "stdout",
     "output_type": "stream",
     "text": [
      "\tQuerying PM event timestamps for system: QPS, className: DQAMSNRB, source: RR73.RB.A67 from 2014-12-01 14:21:13.740 to 2014-12-01 14:38:03.740\n"
     ]
    },
    {
     "data": {
      "text/html": [
       "<text style=color:blue>Executing RB.A67 query function query_ee_u_dump_res_pm: 4/45.</text>"
      ],
      "text/plain": [
       "<IPython.core.display.HTML object>"
      ]
     },
     "metadata": {},
     "output_type": "display_data"
    },
    {
     "name": "stdout",
     "output_type": "stream",
     "text": [
      "\tQuerying PM event signal(s) RR73.RB.A67:U_DUMP_RES for system: QPS, className: DQAMSNRB, source: RR73.RB.A67 at 2014-12-01 14:21:24.039\n"
     ]
    },
    {
     "data": {
      "text/html": [
       "<text style=color:blue>Executing RB.A67 query function find_timestamp_pic: 5/45.</text>"
      ],
      "text/plain": [
       "<IPython.core.display.HTML object>"
      ]
     },
     "metadata": {},
     "output_type": "display_data"
    },
    {
     "name": "stdout",
     "output_type": "stream",
     "text": [
      "\tQuerying NXCALS signal(s) RB.A67.ODD:ST_ABORT_PIC, RB.A67.EVEN:ST_ABORT_PIC from 2014-12-01 14:21:22.740 to 2014-12-01 14:22:23.740\n"
     ]
    },
    {
     "data": {
      "text/html": [
       "<text style=color:blue>Executing RB.A67 query function find_source_timestamp_qds: 6/45.</text>"
      ],
      "text/plain": [
       "<IPython.core.display.HTML object>"
      ]
     },
     "metadata": {},
     "output_type": "display_data"
    },
    {
     "name": "stdout",
     "output_type": "stream",
     "text": [
      "\tQuerying PM event timestamps for system: QPS, className: DQAMCNMB_PMSTD, source: * from 2014-12-01 14:20:33.740 to 2014-12-01 14:29:43.740\n"
     ]
    },
    {
     "data": {
      "text/html": [
       "<text style=color:blue>Executing RB.A67 query function find_source_timestamp_ee: 1/45.</text>"
      ],
      "text/plain": [
       "<IPython.core.display.HTML object>"
      ]
     },
     "metadata": {},
     "output_type": "display_data"
    },
    {
     "name": "stdout",
     "output_type": "stream",
     "text": [
      "\tQuerying PM event timestamps for system: QPS, className: DQAMSNRB, source: UA67.RB.A67 from 2014-12-01 22:27:04.140 to 2014-12-01 22:43:54.140\n"
     ]
    },
    {
     "data": {
      "text/html": [
       "<text style=color:blue>Executing RB.A67 query function query_ee_u_dump_res_pm: 2/45.</text>"
      ],
      "text/plain": [
       "<IPython.core.display.HTML object>"
      ]
     },
     "metadata": {},
     "output_type": "display_data"
    },
    {
     "name": "stdout",
     "output_type": "stream",
     "text": [
      "\tQuerying PM event signal(s) UA67.RB.A67:U_DUMP_RES for system: QPS, className: DQAMSNRB, source: UA67.RB.A67 at 2014-12-01 22:27:14.708\n"
     ]
    },
    {
     "data": {
      "text/html": [
       "<text style=color:blue>Executing RB.A67 query function find_source_timestamp_ee: 3/45.</text>"
      ],
      "text/plain": [
       "<IPython.core.display.HTML object>"
      ]
     },
     "metadata": {},
     "output_type": "display_data"
    },
    {
     "name": "stdout",
     "output_type": "stream",
     "text": [
      "\tQuerying PM event timestamps for system: QPS, className: DQAMSNRB, source: RR73.RB.A67 from 2014-12-01 22:27:04.140 to 2014-12-01 22:43:54.140\n"
     ]
    },
    {
     "data": {
      "text/html": [
       "<text style=color:blue>Executing RB.A67 query function query_ee_u_dump_res_pm: 4/45.</text>"
      ],
      "text/plain": [
       "<IPython.core.display.HTML object>"
      ]
     },
     "metadata": {},
     "output_type": "display_data"
    },
    {
     "name": "stdout",
     "output_type": "stream",
     "text": [
      "\tQuerying PM event signal(s) RR73.RB.A67:U_DUMP_RES for system: QPS, className: DQAMSNRB, source: RR73.RB.A67 at 2014-12-01 22:27:14.447\n"
     ]
    },
    {
     "data": {
      "text/html": [
       "<text style=color:blue>Executing RB.A67 query function find_timestamp_pic: 5/45.</text>"
      ],
      "text/plain": [
       "<IPython.core.display.HTML object>"
      ]
     },
     "metadata": {},
     "output_type": "display_data"
    },
    {
     "name": "stdout",
     "output_type": "stream",
     "text": [
      "\tQuerying NXCALS signal(s) RB.A67.ODD:ST_ABORT_PIC, RB.A67.EVEN:ST_ABORT_PIC from 2014-12-01 22:27:13.140 to 2014-12-01 22:28:14.140\n"
     ]
    },
    {
     "data": {
      "text/html": [
       "<text style=color:blue>Executing RB.A67 query function find_source_timestamp_qds: 6/45.</text>"
      ],
      "text/plain": [
       "<IPython.core.display.HTML object>"
      ]
     },
     "metadata": {},
     "output_type": "display_data"
    },
    {
     "name": "stdout",
     "output_type": "stream",
     "text": [
      "\tQuerying PM event timestamps for system: QPS, className: DQAMCNMB_PMSTD, source: * from 2014-12-01 22:26:24.140 to 2014-12-01 22:35:34.140\n"
     ]
    },
    {
     "data": {
      "text/html": [
       "<text style=color:blue>Executing RB.A67 query function find_source_timestamp_ee: 1/45.</text>"
      ],
      "text/plain": [
       "<IPython.core.display.HTML object>"
      ]
     },
     "metadata": {},
     "output_type": "display_data"
    },
    {
     "name": "stdout",
     "output_type": "stream",
     "text": [
      "\tQuerying PM event timestamps for system: QPS, className: DQAMSNRB, source: UA67.RB.A67 from 2014-12-03 07:57:52.020 to 2014-12-03 08:14:42.020\n"
     ]
    },
    {
     "data": {
      "text/html": [
       "<text style=color:blue>Executing RB.A67 query function query_ee_u_dump_res_pm: 2/45.</text>"
      ],
      "text/plain": [
       "<IPython.core.display.HTML object>"
      ]
     },
     "metadata": {},
     "output_type": "display_data"
    },
    {
     "name": "stdout",
     "output_type": "stream",
     "text": [
      "\tQuerying PM event signal(s) UA67.RB.A67:U_DUMP_RES for system: QPS, className: DQAMSNRB, source: UA67.RB.A67 at 2014-12-03 07:58:02.576\n"
     ]
    },
    {
     "data": {
      "text/html": [
       "<text style=color:blue>Executing RB.A67 query function find_source_timestamp_ee: 3/45.</text>"
      ],
      "text/plain": [
       "<IPython.core.display.HTML object>"
      ]
     },
     "metadata": {},
     "output_type": "display_data"
    },
    {
     "name": "stdout",
     "output_type": "stream",
     "text": [
      "\tQuerying PM event timestamps for system: QPS, className: DQAMSNRB, source: RR73.RB.A67 from 2014-12-03 07:57:52.020 to 2014-12-03 08:14:42.020\n"
     ]
    },
    {
     "data": {
      "text/html": [
       "<text style=color:blue>Executing RB.A67 query function query_ee_u_dump_res_pm: 4/45.</text>"
      ],
      "text/plain": [
       "<IPython.core.display.HTML object>"
      ]
     },
     "metadata": {},
     "output_type": "display_data"
    },
    {
     "name": "stdout",
     "output_type": "stream",
     "text": [
      "\tQuerying PM event signal(s) RR73.RB.A67:U_DUMP_RES for system: QPS, className: DQAMSNRB, source: RR73.RB.A67 at 2014-12-03 07:58:02.316\n"
     ]
    },
    {
     "data": {
      "text/html": [
       "<text style=color:blue>Executing RB.A67 query function find_timestamp_pic: 5/45.</text>"
      ],
      "text/plain": [
       "<IPython.core.display.HTML object>"
      ]
     },
     "metadata": {},
     "output_type": "display_data"
    },
    {
     "name": "stdout",
     "output_type": "stream",
     "text": [
      "\tQuerying NXCALS signal(s) RB.A67.ODD:ST_ABORT_PIC, RB.A67.EVEN:ST_ABORT_PIC from 2014-12-03 07:58:01.020 to 2014-12-03 07:59:02.020\n"
     ]
    },
    {
     "data": {
      "text/html": [
       "<text style=color:blue>Executing RB.A67 query function find_source_timestamp_qds: 6/45.</text>"
      ],
      "text/plain": [
       "<IPython.core.display.HTML object>"
      ]
     },
     "metadata": {},
     "output_type": "display_data"
    },
    {
     "name": "stdout",
     "output_type": "stream",
     "text": [
      "\tQuerying PM event timestamps for system: QPS, className: DQAMCNMB_PMSTD, source: * from 2014-12-03 07:57:12.020 to 2014-12-03 08:06:22.020\n"
     ]
    },
    {
     "data": {
      "text/html": [
       "<text style=color:blue>Executing RB.A67 query function find_source_timestamp_ee: 1/45.</text>"
      ],
      "text/plain": [
       "<IPython.core.display.HTML object>"
      ]
     },
     "metadata": {},
     "output_type": "display_data"
    },
    {
     "name": "stdout",
     "output_type": "stream",
     "text": [
      "\tQuerying PM event timestamps for system: QPS, className: DQAMSNRB, source: UA67.RB.A67 from 2014-12-03 20:48:26.160 to 2014-12-03 21:05:16.160\n"
     ]
    },
    {
     "data": {
      "text/html": [
       "<text style=color:blue>Executing RB.A67 query function query_ee_u_dump_res_pm: 2/45.</text>"
      ],
      "text/plain": [
       "<IPython.core.display.HTML object>"
      ]
     },
     "metadata": {},
     "output_type": "display_data"
    },
    {
     "name": "stdout",
     "output_type": "stream",
     "text": [
      "\tQuerying PM event signal(s) UA67.RB.A67:U_DUMP_RES for system: QPS, className: DQAMSNRB, source: UA67.RB.A67 at 2014-12-03 20:48:36.713\n"
     ]
    },
    {
     "data": {
      "text/html": [
       "<text style=color:blue>Executing RB.A67 query function find_source_timestamp_ee: 3/45.</text>"
      ],
      "text/plain": [
       "<IPython.core.display.HTML object>"
      ]
     },
     "metadata": {},
     "output_type": "display_data"
    },
    {
     "name": "stdout",
     "output_type": "stream",
     "text": [
      "\tQuerying PM event timestamps for system: QPS, className: DQAMSNRB, source: RR73.RB.A67 from 2014-12-03 20:48:26.160 to 2014-12-03 21:05:16.160\n"
     ]
    },
    {
     "data": {
      "text/html": [
       "<text style=color:blue>Executing RB.A67 query function query_ee_u_dump_res_pm: 4/45.</text>"
      ],
      "text/plain": [
       "<IPython.core.display.HTML object>"
      ]
     },
     "metadata": {},
     "output_type": "display_data"
    },
    {
     "name": "stdout",
     "output_type": "stream",
     "text": [
      "\tQuerying PM event signal(s) RR73.RB.A67:U_DUMP_RES for system: QPS, className: DQAMSNRB, source: RR73.RB.A67 at 2014-12-03 20:48:36.453\n"
     ]
    },
    {
     "data": {
      "text/html": [
       "<text style=color:blue>Executing RB.A67 query function find_timestamp_pic: 5/45.</text>"
      ],
      "text/plain": [
       "<IPython.core.display.HTML object>"
      ]
     },
     "metadata": {},
     "output_type": "display_data"
    },
    {
     "name": "stdout",
     "output_type": "stream",
     "text": [
      "\tQuerying NXCALS signal(s) RB.A67.ODD:ST_ABORT_PIC, RB.A67.EVEN:ST_ABORT_PIC from 2014-12-03 20:48:35.160 to 2014-12-03 20:49:36.160\n"
     ]
    },
    {
     "data": {
      "text/html": [
       "<text style=color:blue>Executing RB.A67 query function find_source_timestamp_qds: 6/45.</text>"
      ],
      "text/plain": [
       "<IPython.core.display.HTML object>"
      ]
     },
     "metadata": {},
     "output_type": "display_data"
    },
    {
     "name": "stdout",
     "output_type": "stream",
     "text": [
      "\tQuerying PM event timestamps for system: QPS, className: DQAMCNMB_PMSTD, source: * from 2014-12-03 20:47:46.160 to 2014-12-03 20:56:56.160\n"
     ]
    },
    {
     "data": {
      "text/html": [
       "<text style=color:blue>Executing RB.A67 query function find_source_timestamp_ee: 1/45.</text>"
      ],
      "text/plain": [
       "<IPython.core.display.HTML object>"
      ]
     },
     "metadata": {},
     "output_type": "display_data"
    },
    {
     "name": "stdout",
     "output_type": "stream",
     "text": [
      "\tQuerying PM event timestamps for system: QPS, className: DQAMSNRB, source: UA67.RB.A67 from 2014-12-04 08:17:30.560 to 2014-12-04 08:34:20.560\n"
     ]
    },
    {
     "data": {
      "text/html": [
       "<text style=color:blue>Executing RB.A67 query function query_ee_u_dump_res_pm: 2/45.</text>"
      ],
      "text/plain": [
       "<IPython.core.display.HTML object>"
      ]
     },
     "metadata": {},
     "output_type": "display_data"
    },
    {
     "name": "stdout",
     "output_type": "stream",
     "text": [
      "\tQuerying PM event signal(s) UA67.RB.A67:U_DUMP_RES for system: QPS, className: DQAMSNRB, source: UA67.RB.A67 at 2014-12-04 08:17:41.126\n"
     ]
    },
    {
     "data": {
      "text/html": [
       "<text style=color:blue>Executing RB.A67 query function find_source_timestamp_ee: 3/45.</text>"
      ],
      "text/plain": [
       "<IPython.core.display.HTML object>"
      ]
     },
     "metadata": {},
     "output_type": "display_data"
    },
    {
     "name": "stdout",
     "output_type": "stream",
     "text": [
      "\tQuerying PM event timestamps for system: QPS, className: DQAMSNRB, source: RR73.RB.A67 from 2014-12-04 08:17:30.560 to 2014-12-04 08:34:20.560\n"
     ]
    },
    {
     "data": {
      "text/html": [
       "<text style=color:blue>Executing RB.A67 query function query_ee_u_dump_res_pm: 4/45.</text>"
      ],
      "text/plain": [
       "<IPython.core.display.HTML object>"
      ]
     },
     "metadata": {},
     "output_type": "display_data"
    },
    {
     "name": "stdout",
     "output_type": "stream",
     "text": [
      "\tQuerying PM event signal(s) RR73.RB.A67:U_DUMP_RES for system: QPS, className: DQAMSNRB, source: RR73.RB.A67 at 2014-12-04 08:17:40.866\n"
     ]
    },
    {
     "data": {
      "text/html": [
       "<text style=color:blue>Executing RB.A67 query function find_timestamp_pic: 5/45.</text>"
      ],
      "text/plain": [
       "<IPython.core.display.HTML object>"
      ]
     },
     "metadata": {},
     "output_type": "display_data"
    },
    {
     "name": "stdout",
     "output_type": "stream",
     "text": [
      "\tQuerying NXCALS signal(s) RB.A67.ODD:ST_ABORT_PIC, RB.A67.EVEN:ST_ABORT_PIC from 2014-12-04 08:17:39.560 to 2014-12-04 08:18:40.560\n"
     ]
    },
    {
     "data": {
      "text/html": [
       "<text style=color:blue>Executing RB.A67 query function find_source_timestamp_qds: 6/45.</text>"
      ],
      "text/plain": [
       "<IPython.core.display.HTML object>"
      ]
     },
     "metadata": {},
     "output_type": "display_data"
    },
    {
     "name": "stdout",
     "output_type": "stream",
     "text": [
      "\tQuerying PM event timestamps for system: QPS, className: DQAMCNMB_PMSTD, source: * from 2014-12-04 08:16:50.560 to 2014-12-04 08:26:00.560\n"
     ]
    },
    {
     "data": {
      "text/html": [
       "<text style=color:blue>Executing RB.A67 query function find_source_timestamp_ee: 1/45.</text>"
      ],
      "text/plain": [
       "<IPython.core.display.HTML object>"
      ]
     },
     "metadata": {},
     "output_type": "display_data"
    },
    {
     "name": "stdout",
     "output_type": "stream",
     "text": [
      "\tQuerying PM event timestamps for system: QPS, className: DQAMSNRB, source: UA67.RB.A67 from 2014-12-04 19:30:29.540 to 2014-12-04 19:47:19.540\n"
     ]
    },
    {
     "data": {
      "text/html": [
       "<text style=color:blue>Executing RB.A67 query function query_ee_u_dump_res_pm: 2/45.</text>"
      ],
      "text/plain": [
       "<IPython.core.display.HTML object>"
      ]
     },
     "metadata": {},
     "output_type": "display_data"
    },
    {
     "name": "stdout",
     "output_type": "stream",
     "text": [
      "\tQuerying PM event signal(s) UA67.RB.A67:U_DUMP_RES for system: QPS, className: DQAMSNRB, source: UA67.RB.A67 at 2014-12-04 19:30:40.092\n"
     ]
    },
    {
     "data": {
      "text/html": [
       "<text style=color:blue>Executing RB.A67 query function find_source_timestamp_ee: 3/45.</text>"
      ],
      "text/plain": [
       "<IPython.core.display.HTML object>"
      ]
     },
     "metadata": {},
     "output_type": "display_data"
    },
    {
     "name": "stdout",
     "output_type": "stream",
     "text": [
      "\tQuerying PM event timestamps for system: QPS, className: DQAMSNRB, source: RR73.RB.A67 from 2014-12-04 19:30:29.540 to 2014-12-04 19:47:19.540\n"
     ]
    },
    {
     "data": {
      "text/html": [
       "<text style=color:blue>Executing RB.A67 query function query_ee_u_dump_res_pm: 4/45.</text>"
      ],
      "text/plain": [
       "<IPython.core.display.HTML object>"
      ]
     },
     "metadata": {},
     "output_type": "display_data"
    },
    {
     "name": "stdout",
     "output_type": "stream",
     "text": [
      "\tQuerying PM event signal(s) RR73.RB.A67:U_DUMP_RES for system: QPS, className: DQAMSNRB, source: RR73.RB.A67 at 2014-12-04 19:30:39.832\n"
     ]
    },
    {
     "data": {
      "text/html": [
       "<text style=color:blue>Executing RB.A67 query function find_timestamp_pic: 5/45.</text>"
      ],
      "text/plain": [
       "<IPython.core.display.HTML object>"
      ]
     },
     "metadata": {},
     "output_type": "display_data"
    },
    {
     "name": "stdout",
     "output_type": "stream",
     "text": [
      "\tQuerying NXCALS signal(s) RB.A67.ODD:ST_ABORT_PIC, RB.A67.EVEN:ST_ABORT_PIC from 2014-12-04 19:30:38.540 to 2014-12-04 19:31:39.540\n"
     ]
    },
    {
     "data": {
      "text/html": [
       "<text style=color:blue>Executing RB.A67 query function find_source_timestamp_qds: 6/45.</text>"
      ],
      "text/plain": [
       "<IPython.core.display.HTML object>"
      ]
     },
     "metadata": {},
     "output_type": "display_data"
    },
    {
     "name": "stdout",
     "output_type": "stream",
     "text": [
      "\tQuerying PM event timestamps for system: QPS, className: DQAMCNMB_PMSTD, source: * from 2014-12-04 19:29:49.540 to 2014-12-04 19:38:59.540\n"
     ]
    },
    {
     "data": {
      "text/html": [
       "<text style=color:blue>Executing RB.A67 query function find_source_timestamp_ee: 1/45.</text>"
      ],
      "text/plain": [
       "<IPython.core.display.HTML object>"
      ]
     },
     "metadata": {},
     "output_type": "display_data"
    },
    {
     "name": "stdout",
     "output_type": "stream",
     "text": [
      "\tQuerying PM event timestamps for system: QPS, className: DQAMSNRB, source: UA67.RB.A67 from 2014-12-05 08:19:11.500 to 2014-12-05 08:36:01.500\n"
     ]
    },
    {
     "data": {
      "text/html": [
       "<text style=color:blue>Executing RB.A67 query function query_ee_u_dump_res_pm: 2/45.</text>"
      ],
      "text/plain": [
       "<IPython.core.display.HTML object>"
      ]
     },
     "metadata": {},
     "output_type": "display_data"
    },
    {
     "name": "stdout",
     "output_type": "stream",
     "text": [
      "\tQuerying PM event signal(s) UA67.RB.A67:U_DUMP_RES for system: QPS, className: DQAMSNRB, source: UA67.RB.A67 at 2014-12-05 08:19:22.069\n"
     ]
    },
    {
     "data": {
      "text/html": [
       "<text style=color:blue>Executing RB.A67 query function find_source_timestamp_ee: 3/45.</text>"
      ],
      "text/plain": [
       "<IPython.core.display.HTML object>"
      ]
     },
     "metadata": {},
     "output_type": "display_data"
    },
    {
     "name": "stdout",
     "output_type": "stream",
     "text": [
      "\tQuerying PM event timestamps for system: QPS, className: DQAMSNRB, source: RR73.RB.A67 from 2014-12-05 08:19:11.500 to 2014-12-05 08:36:01.500\n"
     ]
    },
    {
     "data": {
      "text/html": [
       "<text style=color:blue>Executing RB.A67 query function query_ee_u_dump_res_pm: 4/45.</text>"
      ],
      "text/plain": [
       "<IPython.core.display.HTML object>"
      ]
     },
     "metadata": {},
     "output_type": "display_data"
    },
    {
     "name": "stdout",
     "output_type": "stream",
     "text": [
      "\tQuerying PM event signal(s) RR73.RB.A67:U_DUMP_RES for system: QPS, className: DQAMSNRB, source: RR73.RB.A67 at 2014-12-05 08:19:21.809\n"
     ]
    },
    {
     "data": {
      "text/html": [
       "<text style=color:blue>Executing RB.A67 query function find_timestamp_pic: 5/45.</text>"
      ],
      "text/plain": [
       "<IPython.core.display.HTML object>"
      ]
     },
     "metadata": {},
     "output_type": "display_data"
    },
    {
     "name": "stdout",
     "output_type": "stream",
     "text": [
      "\tQuerying NXCALS signal(s) RB.A67.ODD:ST_ABORT_PIC, RB.A67.EVEN:ST_ABORT_PIC from 2014-12-05 08:19:20.500 to 2014-12-05 08:20:21.500\n"
     ]
    },
    {
     "data": {
      "text/html": [
       "<text style=color:blue>Executing RB.A67 query function find_source_timestamp_qds: 6/45.</text>"
      ],
      "text/plain": [
       "<IPython.core.display.HTML object>"
      ]
     },
     "metadata": {},
     "output_type": "display_data"
    },
    {
     "name": "stdout",
     "output_type": "stream",
     "text": [
      "\tQuerying PM event timestamps for system: QPS, className: DQAMCNMB_PMSTD, source: * from 2014-12-05 08:18:31.500 to 2014-12-05 08:27:41.500\n"
     ]
    },
    {
     "data": {
      "text/html": [
       "<text style=color:blue>Executing RB.A67 query function find_source_timestamp_ee: 1/45.</text>"
      ],
      "text/plain": [
       "<IPython.core.display.HTML object>"
      ]
     },
     "metadata": {},
     "output_type": "display_data"
    },
    {
     "name": "stdout",
     "output_type": "stream",
     "text": [
      "\tQuerying PM event timestamps for system: QPS, className: DQAMSNRB, source: UA67.RB.A67 from 2014-12-05 15:39:57.960 to 2014-12-05 15:56:47.960\n"
     ]
    },
    {
     "data": {
      "text/html": [
       "<text style=color:blue>Executing RB.A67 query function query_ee_u_dump_res_pm: 2/45.</text>"
      ],
      "text/plain": [
       "<IPython.core.display.HTML object>"
      ]
     },
     "metadata": {},
     "output_type": "display_data"
    },
    {
     "name": "stdout",
     "output_type": "stream",
     "text": [
      "\tQuerying PM event signal(s) UA67.RB.A67:U_DUMP_RES for system: QPS, className: DQAMSNRB, source: UA67.RB.A67 at 2014-12-05 15:40:08.524\n"
     ]
    },
    {
     "data": {
      "text/html": [
       "<text style=color:blue>Executing RB.A67 query function find_source_timestamp_ee: 3/45.</text>"
      ],
      "text/plain": [
       "<IPython.core.display.HTML object>"
      ]
     },
     "metadata": {},
     "output_type": "display_data"
    },
    {
     "name": "stdout",
     "output_type": "stream",
     "text": [
      "\tQuerying PM event timestamps for system: QPS, className: DQAMSNRB, source: RR73.RB.A67 from 2014-12-05 15:39:57.960 to 2014-12-05 15:56:47.960\n"
     ]
    },
    {
     "data": {
      "text/html": [
       "<text style=color:blue>Executing RB.A67 query function query_ee_u_dump_res_pm: 4/45.</text>"
      ],
      "text/plain": [
       "<IPython.core.display.HTML object>"
      ]
     },
     "metadata": {},
     "output_type": "display_data"
    },
    {
     "name": "stdout",
     "output_type": "stream",
     "text": [
      "\tQuerying PM event signal(s) RR73.RB.A67:U_DUMP_RES for system: QPS, className: DQAMSNRB, source: RR73.RB.A67 at 2014-12-05 15:40:08.266\n"
     ]
    },
    {
     "data": {
      "text/html": [
       "<text style=color:blue>Executing RB.A67 query function find_timestamp_pic: 5/45.</text>"
      ],
      "text/plain": [
       "<IPython.core.display.HTML object>"
      ]
     },
     "metadata": {},
     "output_type": "display_data"
    },
    {
     "name": "stdout",
     "output_type": "stream",
     "text": [
      "\tQuerying NXCALS signal(s) RB.A67.ODD:ST_ABORT_PIC, RB.A67.EVEN:ST_ABORT_PIC from 2014-12-05 15:40:06.960 to 2014-12-05 15:41:07.960\n"
     ]
    },
    {
     "data": {
      "text/html": [
       "<text style=color:blue>Executing RB.A67 query function find_source_timestamp_qds: 6/45.</text>"
      ],
      "text/plain": [
       "<IPython.core.display.HTML object>"
      ]
     },
     "metadata": {},
     "output_type": "display_data"
    },
    {
     "name": "stdout",
     "output_type": "stream",
     "text": [
      "\tQuerying PM event timestamps for system: QPS, className: DQAMCNMB_PMSTD, source: * from 2014-12-05 15:39:17.960 to 2014-12-05 15:48:27.960\n"
     ]
    },
    {
     "data": {
      "text/html": [
       "<text style=color:blue>Executing RB.A67 query function find_source_timestamp_ee: 1/45.</text>"
      ],
      "text/plain": [
       "<IPython.core.display.HTML object>"
      ]
     },
     "metadata": {},
     "output_type": "display_data"
    },
    {
     "name": "stdout",
     "output_type": "stream",
     "text": [
      "\tQuerying PM event timestamps for system: QPS, className: DQAMSNRB, source: UA67.RB.A67 from 2014-12-05 21:29:16.760 to 2014-12-05 21:46:06.760\n"
     ]
    },
    {
     "data": {
      "text/html": [
       "<text style=color:blue>Executing RB.A67 query function query_ee_u_dump_res_pm: 2/45.</text>"
      ],
      "text/plain": [
       "<IPython.core.display.HTML object>"
      ]
     },
     "metadata": {},
     "output_type": "display_data"
    },
    {
     "name": "stdout",
     "output_type": "stream",
     "text": [
      "\tQuerying PM event signal(s) UA67.RB.A67:U_DUMP_RES for system: QPS, className: DQAMSNRB, source: UA67.RB.A67 at 2014-12-05 21:29:27.322\n"
     ]
    },
    {
     "data": {
      "text/html": [
       "<text style=color:blue>Executing RB.A67 query function find_source_timestamp_ee: 3/45.</text>"
      ],
      "text/plain": [
       "<IPython.core.display.HTML object>"
      ]
     },
     "metadata": {},
     "output_type": "display_data"
    },
    {
     "name": "stdout",
     "output_type": "stream",
     "text": [
      "\tQuerying PM event timestamps for system: QPS, className: DQAMSNRB, source: RR73.RB.A67 from 2014-12-05 21:29:16.760 to 2014-12-05 21:46:06.760\n"
     ]
    },
    {
     "data": {
      "text/html": [
       "<text style=color:blue>Executing RB.A67 query function query_ee_u_dump_res_pm: 4/45.</text>"
      ],
      "text/plain": [
       "<IPython.core.display.HTML object>"
      ]
     },
     "metadata": {},
     "output_type": "display_data"
    },
    {
     "name": "stdout",
     "output_type": "stream",
     "text": [
      "\tQuerying PM event signal(s) RR73.RB.A67:U_DUMP_RES for system: QPS, className: DQAMSNRB, source: RR73.RB.A67 at 2014-12-05 21:29:27.060\n"
     ]
    },
    {
     "data": {
      "text/html": [
       "<text style=color:blue>Executing RB.A67 query function find_timestamp_pic: 5/45.</text>"
      ],
      "text/plain": [
       "<IPython.core.display.HTML object>"
      ]
     },
     "metadata": {},
     "output_type": "display_data"
    },
    {
     "name": "stdout",
     "output_type": "stream",
     "text": [
      "\tQuerying NXCALS signal(s) RB.A67.ODD:ST_ABORT_PIC, RB.A67.EVEN:ST_ABORT_PIC from 2014-12-05 21:29:25.760 to 2014-12-05 21:30:26.760\n"
     ]
    },
    {
     "data": {
      "text/html": [
       "<text style=color:blue>Executing RB.A67 query function find_source_timestamp_qds: 6/45.</text>"
      ],
      "text/plain": [
       "<IPython.core.display.HTML object>"
      ]
     },
     "metadata": {},
     "output_type": "display_data"
    },
    {
     "name": "stdout",
     "output_type": "stream",
     "text": [
      "\tQuerying PM event timestamps for system: QPS, className: DQAMCNMB_PMSTD, source: * from 2014-12-05 21:28:36.760 to 2014-12-05 21:37:46.760\n"
     ]
    },
    {
     "data": {
      "text/html": [
       "<text style=color:blue>Executing RB.A67 query function find_source_timestamp_ee: 1/45.</text>"
      ],
      "text/plain": [
       "<IPython.core.display.HTML object>"
      ]
     },
     "metadata": {},
     "output_type": "display_data"
    },
    {
     "name": "stdout",
     "output_type": "stream",
     "text": [
      "\tQuerying PM event timestamps for system: QPS, className: DQAMSNRB, source: UA67.RB.A67 from 2014-12-06 10:17:50.560 to 2014-12-06 10:34:40.560\n"
     ]
    },
    {
     "data": {
      "text/html": [
       "<text style=color:blue>Executing RB.A67 query function query_ee_u_dump_res_pm: 2/45.</text>"
      ],
      "text/plain": [
       "<IPython.core.display.HTML object>"
      ]
     },
     "metadata": {},
     "output_type": "display_data"
    },
    {
     "name": "stdout",
     "output_type": "stream",
     "text": [
      "\tQuerying PM event signal(s) UA67.RB.A67:U_DUMP_RES for system: QPS, className: DQAMSNRB, source: UA67.RB.A67 at 2014-12-06 10:18:01.115\n"
     ]
    },
    {
     "data": {
      "text/html": [
       "<text style=color:blue>Executing RB.A67 query function find_source_timestamp_ee: 3/45.</text>"
      ],
      "text/plain": [
       "<IPython.core.display.HTML object>"
      ]
     },
     "metadata": {},
     "output_type": "display_data"
    },
    {
     "name": "stdout",
     "output_type": "stream",
     "text": [
      "\tQuerying PM event timestamps for system: QPS, className: DQAMSNRB, source: RR73.RB.A67 from 2014-12-06 10:17:50.560 to 2014-12-06 10:34:40.560\n"
     ]
    },
    {
     "data": {
      "text/html": [
       "<text style=color:blue>Executing RB.A67 query function query_ee_u_dump_res_pm: 4/45.</text>"
      ],
      "text/plain": [
       "<IPython.core.display.HTML object>"
      ]
     },
     "metadata": {},
     "output_type": "display_data"
    },
    {
     "name": "stdout",
     "output_type": "stream",
     "text": [
      "\tQuerying PM event signal(s) RR73.RB.A67:U_DUMP_RES for system: QPS, className: DQAMSNRB, source: RR73.RB.A67 at 2014-12-06 10:18:00.854\n"
     ]
    },
    {
     "data": {
      "text/html": [
       "<text style=color:blue>Executing RB.A67 query function find_timestamp_pic: 5/45.</text>"
      ],
      "text/plain": [
       "<IPython.core.display.HTML object>"
      ]
     },
     "metadata": {},
     "output_type": "display_data"
    },
    {
     "name": "stdout",
     "output_type": "stream",
     "text": [
      "\tQuerying NXCALS signal(s) RB.A67.ODD:ST_ABORT_PIC, RB.A67.EVEN:ST_ABORT_PIC from 2014-12-06 10:17:59.560 to 2014-12-06 10:19:00.560\n"
     ]
    },
    {
     "data": {
      "text/html": [
       "<text style=color:blue>Executing RB.A67 query function find_source_timestamp_qds: 6/45.</text>"
      ],
      "text/plain": [
       "<IPython.core.display.HTML object>"
      ]
     },
     "metadata": {},
     "output_type": "display_data"
    },
    {
     "name": "stdout",
     "output_type": "stream",
     "text": [
      "\tQuerying PM event timestamps for system: QPS, className: DQAMCNMB_PMSTD, source: * from 2014-12-06 10:17:10.560 to 2014-12-06 10:26:20.560\n"
     ]
    },
    {
     "data": {
      "text/html": [
       "<text style=color:blue>Executing RB.A67 query function find_source_timestamp_ee: 1/45.</text>"
      ],
      "text/plain": [
       "<IPython.core.display.HTML object>"
      ]
     },
     "metadata": {},
     "output_type": "display_data"
    },
    {
     "name": "stdout",
     "output_type": "stream",
     "text": [
      "\tQuerying PM event timestamps for system: QPS, className: DQAMSNRB, source: UA67.RB.A67 from 2014-12-06 16:16:31.840 to 2014-12-06 16:33:21.840\n"
     ]
    },
    {
     "data": {
      "text/html": [
       "<text style=color:blue>Executing RB.A67 query function query_ee_u_dump_res_pm: 2/45.</text>"
      ],
      "text/plain": [
       "<IPython.core.display.HTML object>"
      ]
     },
     "metadata": {},
     "output_type": "display_data"
    },
    {
     "name": "stdout",
     "output_type": "stream",
     "text": [
      "\tQuerying PM event signal(s) UA67.RB.A67:U_DUMP_RES for system: QPS, className: DQAMSNRB, source: UA67.RB.A67 at 2014-12-06 16:16:42.399\n"
     ]
    },
    {
     "data": {
      "text/html": [
       "<text style=color:blue>Executing RB.A67 query function find_source_timestamp_ee: 3/45.</text>"
      ],
      "text/plain": [
       "<IPython.core.display.HTML object>"
      ]
     },
     "metadata": {},
     "output_type": "display_data"
    },
    {
     "name": "stdout",
     "output_type": "stream",
     "text": [
      "\tQuerying PM event timestamps for system: QPS, className: DQAMSNRB, source: RR73.RB.A67 from 2014-12-06 16:16:31.840 to 2014-12-06 16:33:21.840\n"
     ]
    },
    {
     "data": {
      "text/html": [
       "<text style=color:blue>Executing RB.A67 query function query_ee_u_dump_res_pm: 4/45.</text>"
      ],
      "text/plain": [
       "<IPython.core.display.HTML object>"
      ]
     },
     "metadata": {},
     "output_type": "display_data"
    },
    {
     "name": "stdout",
     "output_type": "stream",
     "text": [
      "\tQuerying PM event signal(s) RR73.RB.A67:U_DUMP_RES for system: QPS, className: DQAMSNRB, source: RR73.RB.A67 at 2014-12-06 16:16:42.138\n"
     ]
    },
    {
     "data": {
      "text/html": [
       "<text style=color:blue>Executing RB.A67 query function find_timestamp_pic: 5/45.</text>"
      ],
      "text/plain": [
       "<IPython.core.display.HTML object>"
      ]
     },
     "metadata": {},
     "output_type": "display_data"
    },
    {
     "name": "stdout",
     "output_type": "stream",
     "text": [
      "\tQuerying NXCALS signal(s) RB.A67.ODD:ST_ABORT_PIC, RB.A67.EVEN:ST_ABORT_PIC from 2014-12-06 16:16:40.840 to 2014-12-06 16:17:41.840\n"
     ]
    },
    {
     "data": {
      "text/html": [
       "<text style=color:blue>Executing RB.A67 query function find_source_timestamp_qds: 6/45.</text>"
      ],
      "text/plain": [
       "<IPython.core.display.HTML object>"
      ]
     },
     "metadata": {},
     "output_type": "display_data"
    },
    {
     "name": "stdout",
     "output_type": "stream",
     "text": [
      "\tQuerying PM event timestamps for system: QPS, className: DQAMCNMB_PMSTD, source: * from 2014-12-06 16:15:51.840 to 2014-12-06 16:25:01.840\n"
     ]
    },
    {
     "data": {
      "text/html": [
       "<text style=color:blue>Executing RB.A67 query function find_source_timestamp_ee: 1/45.</text>"
      ],
      "text/plain": [
       "<IPython.core.display.HTML object>"
      ]
     },
     "metadata": {},
     "output_type": "display_data"
    },
    {
     "name": "stdout",
     "output_type": "stream",
     "text": [
      "\tQuerying PM event timestamps for system: QPS, className: DQAMSNRB, source: UA67.RB.A67 from 2014-12-07 07:40:04.180 to 2014-12-07 07:56:54.180\n"
     ]
    },
    {
     "data": {
      "text/html": [
       "<text style=color:blue>Executing RB.A67 query function query_ee_u_dump_res_pm: 2/45.</text>"
      ],
      "text/plain": [
       "<IPython.core.display.HTML object>"
      ]
     },
     "metadata": {},
     "output_type": "display_data"
    },
    {
     "name": "stdout",
     "output_type": "stream",
     "text": [
      "\tQuerying PM event signal(s) UA67.RB.A67:U_DUMP_RES for system: QPS, className: DQAMSNRB, source: UA67.RB.A67 at 2014-12-07 07:40:14.738\n"
     ]
    },
    {
     "data": {
      "text/html": [
       "<text style=color:blue>Executing RB.A67 query function find_source_timestamp_ee: 3/45.</text>"
      ],
      "text/plain": [
       "<IPython.core.display.HTML object>"
      ]
     },
     "metadata": {},
     "output_type": "display_data"
    },
    {
     "name": "stdout",
     "output_type": "stream",
     "text": [
      "\tQuerying PM event timestamps for system: QPS, className: DQAMSNRB, source: RR73.RB.A67 from 2014-12-07 07:40:04.180 to 2014-12-07 07:56:54.180\n"
     ]
    },
    {
     "data": {
      "text/html": [
       "<text style=color:blue>Executing RB.A67 query function query_ee_u_dump_res_pm: 4/45.</text>"
      ],
      "text/plain": [
       "<IPython.core.display.HTML object>"
      ]
     },
     "metadata": {},
     "output_type": "display_data"
    },
    {
     "name": "stdout",
     "output_type": "stream",
     "text": [
      "\tQuerying PM event signal(s) RR73.RB.A67:U_DUMP_RES for system: QPS, className: DQAMSNRB, source: RR73.RB.A67 at 2014-12-07 07:40:14.479\n"
     ]
    },
    {
     "data": {
      "text/html": [
       "<text style=color:blue>Executing RB.A67 query function find_timestamp_pic: 5/45.</text>"
      ],
      "text/plain": [
       "<IPython.core.display.HTML object>"
      ]
     },
     "metadata": {},
     "output_type": "display_data"
    },
    {
     "name": "stdout",
     "output_type": "stream",
     "text": [
      "\tQuerying NXCALS signal(s) RB.A67.ODD:ST_ABORT_PIC, RB.A67.EVEN:ST_ABORT_PIC from 2014-12-07 07:40:13.180 to 2014-12-07 07:41:14.180\n"
     ]
    },
    {
     "data": {
      "text/html": [
       "<text style=color:blue>Executing RB.A67 query function find_source_timestamp_qds: 6/45.</text>"
      ],
      "text/plain": [
       "<IPython.core.display.HTML object>"
      ]
     },
     "metadata": {},
     "output_type": "display_data"
    },
    {
     "name": "stdout",
     "output_type": "stream",
     "text": [
      "\tQuerying PM event timestamps for system: QPS, className: DQAMCNMB_PMSTD, source: * from 2014-12-07 07:39:24.180 to 2014-12-07 07:48:34.180\n"
     ]
    },
    {
     "data": {
      "text/html": [
       "<text style=color:blue>Executing RB.A67 query function find_source_timestamp_ee: 1/45.</text>"
      ],
      "text/plain": [
       "<IPython.core.display.HTML object>"
      ]
     },
     "metadata": {},
     "output_type": "display_data"
    },
    {
     "name": "stdout",
     "output_type": "stream",
     "text": [
      "\tQuerying PM event timestamps for system: QPS, className: DQAMSNRB, source: UA67.RB.A67 from 2014-12-07 16:28:22.400 to 2014-12-07 16:45:12.400\n"
     ]
    },
    {
     "data": {
      "text/html": [
       "<text style=color:blue>Executing RB.A67 query function query_ee_u_dump_res_pm: 2/45.</text>"
      ],
      "text/plain": [
       "<IPython.core.display.HTML object>"
      ]
     },
     "metadata": {},
     "output_type": "display_data"
    },
    {
     "name": "stdout",
     "output_type": "stream",
     "text": [
      "\tQuerying PM event signal(s) UA67.RB.A67:U_DUMP_RES for system: QPS, className: DQAMSNRB, source: UA67.RB.A67 at 2014-12-07 16:28:32.966\n"
     ]
    },
    {
     "data": {
      "text/html": [
       "<text style=color:blue>Executing RB.A67 query function find_source_timestamp_ee: 3/45.</text>"
      ],
      "text/plain": [
       "<IPython.core.display.HTML object>"
      ]
     },
     "metadata": {},
     "output_type": "display_data"
    },
    {
     "name": "stdout",
     "output_type": "stream",
     "text": [
      "\tQuerying PM event timestamps for system: QPS, className: DQAMSNRB, source: RR73.RB.A67 from 2014-12-07 16:28:22.400 to 2014-12-07 16:45:12.400\n"
     ]
    },
    {
     "data": {
      "text/html": [
       "<text style=color:blue>Executing RB.A67 query function query_ee_u_dump_res_pm: 4/45.</text>"
      ],
      "text/plain": [
       "<IPython.core.display.HTML object>"
      ]
     },
     "metadata": {},
     "output_type": "display_data"
    },
    {
     "name": "stdout",
     "output_type": "stream",
     "text": [
      "\tQuerying PM event signal(s) RR73.RB.A67:U_DUMP_RES for system: QPS, className: DQAMSNRB, source: RR73.RB.A67 at 2014-12-07 16:28:32.706\n"
     ]
    },
    {
     "data": {
      "text/html": [
       "<text style=color:blue>Executing RB.A67 query function find_timestamp_pic: 5/45.</text>"
      ],
      "text/plain": [
       "<IPython.core.display.HTML object>"
      ]
     },
     "metadata": {},
     "output_type": "display_data"
    },
    {
     "name": "stdout",
     "output_type": "stream",
     "text": [
      "\tQuerying NXCALS signal(s) RB.A67.ODD:ST_ABORT_PIC, RB.A67.EVEN:ST_ABORT_PIC from 2014-12-07 16:28:31.400 to 2014-12-07 16:29:32.400\n"
     ]
    },
    {
     "data": {
      "text/html": [
       "<text style=color:blue>Executing RB.A67 query function find_source_timestamp_qds: 6/45.</text>"
      ],
      "text/plain": [
       "<IPython.core.display.HTML object>"
      ]
     },
     "metadata": {},
     "output_type": "display_data"
    },
    {
     "name": "stdout",
     "output_type": "stream",
     "text": [
      "\tQuerying PM event timestamps for system: QPS, className: DQAMCNMB_PMSTD, source: * from 2014-12-07 16:27:42.400 to 2014-12-07 16:36:52.400\n"
     ]
    },
    {
     "data": {
      "text/html": [
       "<text style=color:blue>Executing RB.A67 query function find_source_timestamp_ee: 1/45.</text>"
      ],
      "text/plain": [
       "<IPython.core.display.HTML object>"
      ]
     },
     "metadata": {},
     "output_type": "display_data"
    },
    {
     "name": "stdout",
     "output_type": "stream",
     "text": [
      "\tQuerying PM event timestamps for system: QPS, className: DQAMSNRB, source: UA67.RB.A67 from 2014-12-07 22:59:48.020 to 2014-12-07 23:16:38.020\n"
     ]
    },
    {
     "data": {
      "text/html": [
       "<text style=color:blue>Executing RB.A67 query function query_ee_u_dump_res_pm: 2/45.</text>"
      ],
      "text/plain": [
       "<IPython.core.display.HTML object>"
      ]
     },
     "metadata": {},
     "output_type": "display_data"
    },
    {
     "name": "stdout",
     "output_type": "stream",
     "text": [
      "\tQuerying PM event signal(s) UA67.RB.A67:U_DUMP_RES for system: QPS, className: DQAMSNRB, source: UA67.RB.A67 at 2014-12-07 22:59:58.584\n"
     ]
    },
    {
     "data": {
      "text/html": [
       "<text style=color:blue>Executing RB.A67 query function find_source_timestamp_ee: 3/45.</text>"
      ],
      "text/plain": [
       "<IPython.core.display.HTML object>"
      ]
     },
     "metadata": {},
     "output_type": "display_data"
    },
    {
     "name": "stdout",
     "output_type": "stream",
     "text": [
      "\tQuerying PM event timestamps for system: QPS, className: DQAMSNRB, source: RR73.RB.A67 from 2014-12-07 22:59:48.020 to 2014-12-07 23:16:38.020\n"
     ]
    },
    {
     "data": {
      "text/html": [
       "<text style=color:blue>Executing RB.A67 query function query_ee_u_dump_res_pm: 4/45.</text>"
      ],
      "text/plain": [
       "<IPython.core.display.HTML object>"
      ]
     },
     "metadata": {},
     "output_type": "display_data"
    },
    {
     "name": "stdout",
     "output_type": "stream",
     "text": [
      "\tQuerying PM event signal(s) RR73.RB.A67:U_DUMP_RES for system: QPS, className: DQAMSNRB, source: RR73.RB.A67 at 2014-12-07 22:59:58.325\n"
     ]
    },
    {
     "data": {
      "text/html": [
       "<text style=color:blue>Executing RB.A67 query function find_timestamp_pic: 5/45.</text>"
      ],
      "text/plain": [
       "<IPython.core.display.HTML object>"
      ]
     },
     "metadata": {},
     "output_type": "display_data"
    },
    {
     "name": "stdout",
     "output_type": "stream",
     "text": [
      "\tQuerying NXCALS signal(s) RB.A67.ODD:ST_ABORT_PIC, RB.A67.EVEN:ST_ABORT_PIC from 2014-12-07 22:59:57.020 to 2014-12-07 23:00:58.020\n"
     ]
    },
    {
     "data": {
      "text/html": [
       "<text style=color:blue>Executing RB.A67 query function find_source_timestamp_qds: 6/45.</text>"
      ],
      "text/plain": [
       "<IPython.core.display.HTML object>"
      ]
     },
     "metadata": {},
     "output_type": "display_data"
    },
    {
     "name": "stdout",
     "output_type": "stream",
     "text": [
      "\tQuerying PM event timestamps for system: QPS, className: DQAMCNMB_PMSTD, source: * from 2014-12-07 22:59:08.020 to 2014-12-07 23:08:18.020\n"
     ]
    },
    {
     "data": {
      "text/html": [
       "<text style=color:blue>Executing RB.A67 query function find_source_timestamp_ee: 1/45.</text>"
      ],
      "text/plain": [
       "<IPython.core.display.HTML object>"
      ]
     },
     "metadata": {},
     "output_type": "display_data"
    },
    {
     "name": "stdout",
     "output_type": "stream",
     "text": [
      "\tQuerying PM event timestamps for system: QPS, className: DQAMSNRB, source: UA67.RB.A67 from 2014-12-08 09:05:28.540 to 2014-12-08 09:22:18.540\n"
     ]
    },
    {
     "data": {
      "text/html": [
       "<text style=color:blue>Executing RB.A67 query function query_ee_u_dump_res_pm: 2/45.</text>"
      ],
      "text/plain": [
       "<IPython.core.display.HTML object>"
      ]
     },
     "metadata": {},
     "output_type": "display_data"
    },
    {
     "name": "stdout",
     "output_type": "stream",
     "text": [
      "\tQuerying PM event signal(s) UA67.RB.A67:U_DUMP_RES for system: QPS, className: DQAMSNRB, source: UA67.RB.A67 at 2014-12-08 09:05:39.101\n"
     ]
    },
    {
     "data": {
      "text/html": [
       "<text style=color:blue>Executing RB.A67 query function find_source_timestamp_ee: 3/45.</text>"
      ],
      "text/plain": [
       "<IPython.core.display.HTML object>"
      ]
     },
     "metadata": {},
     "output_type": "display_data"
    },
    {
     "name": "stdout",
     "output_type": "stream",
     "text": [
      "\tQuerying PM event timestamps for system: QPS, className: DQAMSNRB, source: RR73.RB.A67 from 2014-12-08 09:05:28.540 to 2014-12-08 09:22:18.540\n"
     ]
    },
    {
     "data": {
      "text/html": [
       "<text style=color:blue>Executing RB.A67 query function query_ee_u_dump_res_pm: 4/45.</text>"
      ],
      "text/plain": [
       "<IPython.core.display.HTML object>"
      ]
     },
     "metadata": {},
     "output_type": "display_data"
    },
    {
     "name": "stdout",
     "output_type": "stream",
     "text": [
      "\tQuerying PM event signal(s) RR73.RB.A67:U_DUMP_RES for system: QPS, className: DQAMSNRB, source: RR73.RB.A67 at 2014-12-08 09:05:38.841\n"
     ]
    },
    {
     "data": {
      "text/html": [
       "<text style=color:blue>Executing RB.A67 query function find_timestamp_pic: 5/45.</text>"
      ],
      "text/plain": [
       "<IPython.core.display.HTML object>"
      ]
     },
     "metadata": {},
     "output_type": "display_data"
    },
    {
     "name": "stdout",
     "output_type": "stream",
     "text": [
      "\tQuerying NXCALS signal(s) RB.A67.ODD:ST_ABORT_PIC, RB.A67.EVEN:ST_ABORT_PIC from 2014-12-08 09:05:37.540 to 2014-12-08 09:06:38.540\n"
     ]
    },
    {
     "data": {
      "text/html": [
       "<text style=color:blue>Executing RB.A67 query function find_source_timestamp_qds: 6/45.</text>"
      ],
      "text/plain": [
       "<IPython.core.display.HTML object>"
      ]
     },
     "metadata": {},
     "output_type": "display_data"
    },
    {
     "name": "stdout",
     "output_type": "stream",
     "text": [
      "\tQuerying PM event timestamps for system: QPS, className: DQAMCNMB_PMSTD, source: * from 2014-12-08 09:04:48.540 to 2014-12-08 09:13:58.540\n"
     ]
    },
    {
     "data": {
      "text/html": [
       "<text style=color:blue>Executing RB.A67 query function find_source_timestamp_ee: 1/45.</text>"
      ],
      "text/plain": [
       "<IPython.core.display.HTML object>"
      ]
     },
     "metadata": {},
     "output_type": "display_data"
    },
    {
     "name": "stdout",
     "output_type": "stream",
     "text": [
      "\tQuerying PM event timestamps for system: QPS, className: DQAMSNRB, source: UA67.RB.A67 from 2014-12-08 20:58:24.640 to 2014-12-08 21:15:14.640\n"
     ]
    },
    {
     "data": {
      "text/html": [
       "<text style=color:blue>Executing RB.A67 query function query_ee_u_dump_res_pm: 2/45.</text>"
      ],
      "text/plain": [
       "<IPython.core.display.HTML object>"
      ]
     },
     "metadata": {},
     "output_type": "display_data"
    },
    {
     "name": "stdout",
     "output_type": "stream",
     "text": [
      "\tQuerying PM event signal(s) UA67.RB.A67:U_DUMP_RES for system: QPS, className: DQAMSNRB, source: UA67.RB.A67 at 2014-12-08 20:58:35.206\n"
     ]
    },
    {
     "data": {
      "text/html": [
       "<text style=color:blue>Executing RB.A67 query function find_source_timestamp_ee: 3/45.</text>"
      ],
      "text/plain": [
       "<IPython.core.display.HTML object>"
      ]
     },
     "metadata": {},
     "output_type": "display_data"
    },
    {
     "name": "stdout",
     "output_type": "stream",
     "text": [
      "\tQuerying PM event timestamps for system: QPS, className: DQAMSNRB, source: RR73.RB.A67 from 2014-12-08 20:58:24.640 to 2014-12-08 21:15:14.640\n"
     ]
    },
    {
     "data": {
      "text/html": [
       "<text style=color:blue>Executing RB.A67 query function query_ee_u_dump_res_pm: 4/45.</text>"
      ],
      "text/plain": [
       "<IPython.core.display.HTML object>"
      ]
     },
     "metadata": {},
     "output_type": "display_data"
    },
    {
     "name": "stdout",
     "output_type": "stream",
     "text": [
      "\tQuerying PM event signal(s) RR73.RB.A67:U_DUMP_RES for system: QPS, className: DQAMSNRB, source: RR73.RB.A67 at 2014-12-08 20:58:34.949\n"
     ]
    },
    {
     "data": {
      "text/html": [
       "<text style=color:blue>Executing RB.A67 query function find_timestamp_pic: 5/45.</text>"
      ],
      "text/plain": [
       "<IPython.core.display.HTML object>"
      ]
     },
     "metadata": {},
     "output_type": "display_data"
    },
    {
     "name": "stdout",
     "output_type": "stream",
     "text": [
      "\tQuerying NXCALS signal(s) RB.A67.ODD:ST_ABORT_PIC, RB.A67.EVEN:ST_ABORT_PIC from 2014-12-08 20:58:33.640 to 2014-12-08 20:59:34.640\n"
     ]
    },
    {
     "data": {
      "text/html": [
       "<text style=color:blue>Executing RB.A67 query function find_source_timestamp_qds: 6/45.</text>"
      ],
      "text/plain": [
       "<IPython.core.display.HTML object>"
      ]
     },
     "metadata": {},
     "output_type": "display_data"
    },
    {
     "name": "stdout",
     "output_type": "stream",
     "text": [
      "\tQuerying PM event timestamps for system: QPS, className: DQAMCNMB_PMSTD, source: * from 2014-12-08 20:57:44.640 to 2014-12-08 21:06:54.640\n"
     ]
    },
    {
     "data": {
      "text/html": [
       "<text style=color:blue>Executing RB.A67 query function find_source_timestamp_ee: 1/45.</text>"
      ],
      "text/plain": [
       "<IPython.core.display.HTML object>"
      ]
     },
     "metadata": {},
     "output_type": "display_data"
    },
    {
     "name": "stdout",
     "output_type": "stream",
     "text": [
      "\tQuerying PM event timestamps for system: QPS, className: DQAMSNRB, source: UA67.RB.A67 from 2014-12-09 14:17:35.500 to 2014-12-09 14:34:25.500\n"
     ]
    },
    {
     "data": {
      "text/html": [
       "<text style=color:blue>Executing RB.A67 query function query_ee_u_dump_res_pm: 2/45.</text>"
      ],
      "text/plain": [
       "<IPython.core.display.HTML object>"
      ]
     },
     "metadata": {},
     "output_type": "display_data"
    },
    {
     "name": "stdout",
     "output_type": "stream",
     "text": [
      "\tQuerying PM event signal(s) UA67.RB.A67:U_DUMP_RES for system: QPS, className: DQAMSNRB, source: UA67.RB.A67 at 2014-12-09 14:17:46.061\n"
     ]
    },
    {
     "data": {
      "text/html": [
       "<text style=color:blue>Executing RB.A67 query function find_source_timestamp_ee: 3/45.</text>"
      ],
      "text/plain": [
       "<IPython.core.display.HTML object>"
      ]
     },
     "metadata": {},
     "output_type": "display_data"
    },
    {
     "name": "stdout",
     "output_type": "stream",
     "text": [
      "\tQuerying PM event timestamps for system: QPS, className: DQAMSNRB, source: RR73.RB.A67 from 2014-12-09 14:17:35.500 to 2014-12-09 14:34:25.500\n"
     ]
    },
    {
     "data": {
      "text/html": [
       "<text style=color:blue>Executing RB.A67 query function query_ee_u_dump_res_pm: 4/45.</text>"
      ],
      "text/plain": [
       "<IPython.core.display.HTML object>"
      ]
     },
     "metadata": {},
     "output_type": "display_data"
    },
    {
     "name": "stdout",
     "output_type": "stream",
     "text": [
      "\tQuerying PM event signal(s) RR73.RB.A67:U_DUMP_RES for system: QPS, className: DQAMSNRB, source: RR73.RB.A67 at 2014-12-09 14:17:45.802\n"
     ]
    },
    {
     "data": {
      "text/html": [
       "<text style=color:blue>Executing RB.A67 query function find_timestamp_pic: 5/45.</text>"
      ],
      "text/plain": [
       "<IPython.core.display.HTML object>"
      ]
     },
     "metadata": {},
     "output_type": "display_data"
    },
    {
     "name": "stdout",
     "output_type": "stream",
     "text": [
      "\tQuerying NXCALS signal(s) RB.A67.ODD:ST_ABORT_PIC, RB.A67.EVEN:ST_ABORT_PIC from 2014-12-09 14:17:44.500 to 2014-12-09 14:18:45.500\n"
     ]
    },
    {
     "data": {
      "text/html": [
       "<text style=color:blue>Executing RB.A67 query function find_source_timestamp_qds: 6/45.</text>"
      ],
      "text/plain": [
       "<IPython.core.display.HTML object>"
      ]
     },
     "metadata": {},
     "output_type": "display_data"
    },
    {
     "name": "stdout",
     "output_type": "stream",
     "text": [
      "\tQuerying PM event timestamps for system: QPS, className: DQAMCNMB_PMSTD, source: * from 2014-12-09 14:16:55.500 to 2014-12-09 14:26:05.500\n"
     ]
    },
    {
     "data": {
      "text/html": [
       "<text style=color:blue>Executing RB.A67 query function find_source_timestamp_ee: 1/45.</text>"
      ],
      "text/plain": [
       "<IPython.core.display.HTML object>"
      ]
     },
     "metadata": {},
     "output_type": "display_data"
    },
    {
     "name": "stdout",
     "output_type": "stream",
     "text": [
      "\tQuerying PM event timestamps for system: QPS, className: DQAMSNRB, source: UA67.RB.A67 from 2014-12-09 23:56:50.820 to 2014-12-10 00:13:40.820\n"
     ]
    },
    {
     "data": {
      "text/html": [
       "<text style=color:blue>Executing RB.A67 query function query_ee_u_dump_res_pm: 2/45.</text>"
      ],
      "text/plain": [
       "<IPython.core.display.HTML object>"
      ]
     },
     "metadata": {},
     "output_type": "display_data"
    },
    {
     "name": "stdout",
     "output_type": "stream",
     "text": [
      "\tQuerying PM event signal(s) UA67.RB.A67:U_DUMP_RES for system: QPS, className: DQAMSNRB, source: UA67.RB.A67 at 2014-12-09 23:57:01.390\n"
     ]
    },
    {
     "data": {
      "text/html": [
       "<text style=color:blue>Executing RB.A67 query function find_source_timestamp_ee: 3/45.</text>"
      ],
      "text/plain": [
       "<IPython.core.display.HTML object>"
      ]
     },
     "metadata": {},
     "output_type": "display_data"
    },
    {
     "name": "stdout",
     "output_type": "stream",
     "text": [
      "\tQuerying PM event timestamps for system: QPS, className: DQAMSNRB, source: RR73.RB.A67 from 2014-12-09 23:56:50.820 to 2014-12-10 00:13:40.820\n"
     ]
    },
    {
     "data": {
      "text/html": [
       "<text style=color:blue>Executing RB.A67 query function query_ee_u_dump_res_pm: 4/45.</text>"
      ],
      "text/plain": [
       "<IPython.core.display.HTML object>"
      ]
     },
     "metadata": {},
     "output_type": "display_data"
    },
    {
     "name": "stdout",
     "output_type": "stream",
     "text": [
      "\tQuerying PM event signal(s) RR73.RB.A67:U_DUMP_RES for system: QPS, className: DQAMSNRB, source: RR73.RB.A67 at 2014-12-09 23:57:01.129\n"
     ]
    },
    {
     "data": {
      "text/html": [
       "<text style=color:blue>Executing RB.A67 query function find_timestamp_pic: 5/45.</text>"
      ],
      "text/plain": [
       "<IPython.core.display.HTML object>"
      ]
     },
     "metadata": {},
     "output_type": "display_data"
    },
    {
     "name": "stdout",
     "output_type": "stream",
     "text": [
      "\tQuerying NXCALS signal(s) RB.A67.ODD:ST_ABORT_PIC, RB.A67.EVEN:ST_ABORT_PIC from 2014-12-09 23:56:59.820 to 2014-12-09 23:58:00.820\n"
     ]
    },
    {
     "data": {
      "text/html": [
       "<text style=color:blue>Executing RB.A67 query function find_source_timestamp_qds: 6/45.</text>"
      ],
      "text/plain": [
       "<IPython.core.display.HTML object>"
      ]
     },
     "metadata": {},
     "output_type": "display_data"
    },
    {
     "name": "stdout",
     "output_type": "stream",
     "text": [
      "\tQuerying PM event timestamps for system: QPS, className: DQAMCNMB_PMSTD, source: * from 2014-12-09 23:56:10.820 to 2014-12-10 00:05:20.820\n"
     ]
    },
    {
     "data": {
      "text/html": [
       "<text style=color:blue>Executing RB.A67 query function find_source_timestamp_ee: 1/45.</text>"
      ],
      "text/plain": [
       "<IPython.core.display.HTML object>"
      ]
     },
     "metadata": {},
     "output_type": "display_data"
    },
    {
     "name": "stdout",
     "output_type": "stream",
     "text": [
      "\tQuerying PM event timestamps for system: QPS, className: DQAMSNRB, source: UA67.RB.A67 from 2014-12-10 17:01:24.240 to 2014-12-10 17:18:14.240\n"
     ]
    },
    {
     "data": {
      "text/html": [
       "<text style=color:blue>Executing RB.A67 query function query_ee_u_dump_res_pm: 2/45.</text>"
      ],
      "text/plain": [
       "<IPython.core.display.HTML object>"
      ]
     },
     "metadata": {},
     "output_type": "display_data"
    },
    {
     "name": "stdout",
     "output_type": "stream",
     "text": [
      "\tQuerying PM event signal(s) UA67.RB.A67:U_DUMP_RES for system: QPS, className: DQAMSNRB, source: UA67.RB.A67 at 2014-12-10 17:01:34.801\n"
     ]
    },
    {
     "data": {
      "text/html": [
       "<text style=color:blue>Executing RB.A67 query function find_source_timestamp_ee: 3/45.</text>"
      ],
      "text/plain": [
       "<IPython.core.display.HTML object>"
      ]
     },
     "metadata": {},
     "output_type": "display_data"
    },
    {
     "name": "stdout",
     "output_type": "stream",
     "text": [
      "\tQuerying PM event timestamps for system: QPS, className: DQAMSNRB, source: RR73.RB.A67 from 2014-12-10 17:01:24.240 to 2014-12-10 17:18:14.240\n"
     ]
    },
    {
     "data": {
      "text/html": [
       "<text style=color:blue>Executing RB.A67 query function query_ee_u_dump_res_pm: 4/45.</text>"
      ],
      "text/plain": [
       "<IPython.core.display.HTML object>"
      ]
     },
     "metadata": {},
     "output_type": "display_data"
    },
    {
     "name": "stdout",
     "output_type": "stream",
     "text": [
      "\tQuerying PM event signal(s) RR73.RB.A67:U_DUMP_RES for system: QPS, className: DQAMSNRB, source: RR73.RB.A67 at 2014-12-10 17:01:34.540\n"
     ]
    },
    {
     "data": {
      "text/html": [
       "<text style=color:blue>Executing RB.A67 query function find_timestamp_pic: 5/45.</text>"
      ],
      "text/plain": [
       "<IPython.core.display.HTML object>"
      ]
     },
     "metadata": {},
     "output_type": "display_data"
    },
    {
     "name": "stdout",
     "output_type": "stream",
     "text": [
      "\tQuerying NXCALS signal(s) RB.A67.ODD:ST_ABORT_PIC, RB.A67.EVEN:ST_ABORT_PIC from 2014-12-10 17:01:33.240 to 2014-12-10 17:02:34.240\n"
     ]
    },
    {
     "data": {
      "text/html": [
       "<text style=color:blue>Executing RB.A67 query function find_source_timestamp_qds: 6/45.</text>"
      ],
      "text/plain": [
       "<IPython.core.display.HTML object>"
      ]
     },
     "metadata": {},
     "output_type": "display_data"
    },
    {
     "name": "stdout",
     "output_type": "stream",
     "text": [
      "\tQuerying PM event timestamps for system: QPS, className: DQAMCNMB_PMSTD, source: * from 2014-12-10 17:00:44.240 to 2014-12-10 17:09:54.240\n"
     ]
    },
    {
     "data": {
      "text/html": [
       "<text style=color:blue>Executing RB.A67 query function find_source_timestamp_ee: 1/45.</text>"
      ],
      "text/plain": [
       "<IPython.core.display.HTML object>"
      ]
     },
     "metadata": {},
     "output_type": "display_data"
    },
    {
     "name": "stdout",
     "output_type": "stream",
     "text": [
      "\tQuerying PM event timestamps for system: QPS, className: DQAMSNRB, source: UA67.RB.A67 from 2015-04-01 23:07:58.760 to 2015-04-01 23:24:48.760\n"
     ]
    },
    {
     "data": {
      "text/html": [
       "<text style=color:blue>Executing RB.A67 query function query_ee_u_dump_res_pm: 2/45.</text>"
      ],
      "text/plain": [
       "<IPython.core.display.HTML object>"
      ]
     },
     "metadata": {},
     "output_type": "display_data"
    },
    {
     "name": "stdout",
     "output_type": "stream",
     "text": [
      "\tQuerying PM event signal(s) UA67.RB.A67:U_DUMP_RES for system: QPS, className: DQAMSNRB, source: UA67.RB.A67 at 2015-04-01 23:08:09.314\n"
     ]
    },
    {
     "data": {
      "text/html": [
       "<text style=color:blue>Executing RB.A67 query function find_source_timestamp_ee: 3/45.</text>"
      ],
      "text/plain": [
       "<IPython.core.display.HTML object>"
      ]
     },
     "metadata": {},
     "output_type": "display_data"
    },
    {
     "name": "stdout",
     "output_type": "stream",
     "text": [
      "\tQuerying PM event timestamps for system: QPS, className: DQAMSNRB, source: RR73.RB.A67 from 2015-04-01 23:07:58.760 to 2015-04-01 23:24:48.760\n"
     ]
    },
    {
     "data": {
      "text/html": [
       "<text style=color:blue>Executing RB.A67 query function query_ee_u_dump_res_pm: 4/45.</text>"
      ],
      "text/plain": [
       "<IPython.core.display.HTML object>"
      ]
     },
     "metadata": {},
     "output_type": "display_data"
    },
    {
     "name": "stdout",
     "output_type": "stream",
     "text": [
      "\tQuerying PM event signal(s) RR73.RB.A67:U_DUMP_RES for system: QPS, className: DQAMSNRB, source: RR73.RB.A67 at 2015-04-01 23:08:09.052\n"
     ]
    },
    {
     "data": {
      "text/html": [
       "<text style=color:blue>Executing RB.A67 query function find_timestamp_pic: 5/45.</text>"
      ],
      "text/plain": [
       "<IPython.core.display.HTML object>"
      ]
     },
     "metadata": {},
     "output_type": "display_data"
    },
    {
     "name": "stdout",
     "output_type": "stream",
     "text": [
      "\tQuerying NXCALS signal(s) RB.A67.ODD:ST_ABORT_PIC, RB.A67.EVEN:ST_ABORT_PIC from 2015-04-01 23:08:07.760 to 2015-04-01 23:09:08.760\n"
     ]
    },
    {
     "data": {
      "text/html": [
       "<text style=color:blue>Executing RB.A67 query function find_source_timestamp_qds: 6/45.</text>"
      ],
      "text/plain": [
       "<IPython.core.display.HTML object>"
      ]
     },
     "metadata": {},
     "output_type": "display_data"
    },
    {
     "name": "stdout",
     "output_type": "stream",
     "text": [
      "\tQuerying PM event timestamps for system: QPS, className: DQAMCNMB_PMSTD, source: * from 2015-04-01 23:07:18.760 to 2015-04-01 23:16:28.760\n"
     ]
    },
    {
     "data": {
      "text/html": [
       "<text style=color:blue>Executing RB.A67 query function find_source_timestamp_ee: 1/45.</text>"
      ],
      "text/plain": [
       "<IPython.core.display.HTML object>"
      ]
     },
     "metadata": {},
     "output_type": "display_data"
    },
    {
     "name": "stdout",
     "output_type": "stream",
     "text": [
      "\tQuerying PM event timestamps for system: QPS, className: DQAMSNRB, source: UA67.RB.A67 from 2015-05-19 14:54:21.140 to 2015-05-19 15:11:11.140\n"
     ]
    },
    {
     "data": {
      "text/html": [
       "<text style=color:blue>Executing RB.A67 query function query_ee_u_dump_res_pm: 2/45.</text>"
      ],
      "text/plain": [
       "<IPython.core.display.HTML object>"
      ]
     },
     "metadata": {},
     "output_type": "display_data"
    },
    {
     "name": "stdout",
     "output_type": "stream",
     "text": [
      "\tQuerying PM event signal(s) UA67.RB.A67:U_DUMP_RES for system: QPS, className: DQAMSNRB, source: UA67.RB.A67 at 2015-05-19 14:54:31.694\n"
     ]
    },
    {
     "data": {
      "text/html": [
       "<text style=color:blue>Executing RB.A67 query function find_source_timestamp_ee: 3/45.</text>"
      ],
      "text/plain": [
       "<IPython.core.display.HTML object>"
      ]
     },
     "metadata": {},
     "output_type": "display_data"
    },
    {
     "name": "stdout",
     "output_type": "stream",
     "text": [
      "\tQuerying PM event timestamps for system: QPS, className: DQAMSNRB, source: RR73.RB.A67 from 2015-05-19 14:54:21.140 to 2015-05-19 15:11:11.140\n"
     ]
    },
    {
     "data": {
      "text/html": [
       "<text style=color:blue>Executing RB.A67 query function query_ee_u_dump_res_pm: 4/45.</text>"
      ],
      "text/plain": [
       "<IPython.core.display.HTML object>"
      ]
     },
     "metadata": {},
     "output_type": "display_data"
    },
    {
     "name": "stdout",
     "output_type": "stream",
     "text": [
      "\tQuerying PM event signal(s) RR73.RB.A67:U_DUMP_RES for system: QPS, className: DQAMSNRB, source: RR73.RB.A67 at 2015-05-19 14:54:31.433\n"
     ]
    },
    {
     "data": {
      "text/html": [
       "<text style=color:blue>Executing RB.A67 query function find_timestamp_pic: 5/45.</text>"
      ],
      "text/plain": [
       "<IPython.core.display.HTML object>"
      ]
     },
     "metadata": {},
     "output_type": "display_data"
    },
    {
     "name": "stdout",
     "output_type": "stream",
     "text": [
      "\tQuerying NXCALS signal(s) RB.A67.ODD:ST_ABORT_PIC, RB.A67.EVEN:ST_ABORT_PIC from 2015-05-19 14:54:30.140 to 2015-05-19 14:55:31.140\n"
     ]
    },
    {
     "data": {
      "text/html": [
       "<text style=color:blue>Executing RB.A67 query function find_source_timestamp_qds: 6/45.</text>"
      ],
      "text/plain": [
       "<IPython.core.display.HTML object>"
      ]
     },
     "metadata": {},
     "output_type": "display_data"
    },
    {
     "name": "stdout",
     "output_type": "stream",
     "text": [
      "\tQuerying PM event timestamps for system: QPS, className: DQAMCNMB_PMSTD, source: * from 2015-05-19 14:53:41.140 to 2015-05-19 15:02:51.140\n"
     ]
    },
    {
     "data": {
      "text/html": [
       "<text style=color:blue>Executing RB.A67 query function find_source_timestamp_ee: 1/45.</text>"
      ],
      "text/plain": [
       "<IPython.core.display.HTML object>"
      ]
     },
     "metadata": {},
     "output_type": "display_data"
    },
    {
     "name": "stdout",
     "output_type": "stream",
     "text": [
      "\tQuerying PM event timestamps for system: QPS, className: DQAMSNRB, source: UA67.RB.A67 from 2015-05-26 16:27:55.440 to 2015-05-26 16:44:45.440\n"
     ]
    },
    {
     "data": {
      "text/html": [
       "<text style=color:blue>Executing RB.A67 query function query_ee_u_dump_res_pm: 2/45.</text>"
      ],
      "text/plain": [
       "<IPython.core.display.HTML object>"
      ]
     },
     "metadata": {},
     "output_type": "display_data"
    },
    {
     "name": "stdout",
     "output_type": "stream",
     "text": [
      "\tQuerying PM event signal(s) UA67.RB.A67:U_DUMP_RES for system: QPS, className: DQAMSNRB, source: UA67.RB.A67 at 2015-05-26 16:28:05.997\n"
     ]
    },
    {
     "data": {
      "text/html": [
       "<text style=color:blue>Executing RB.A67 query function find_source_timestamp_ee: 3/45.</text>"
      ],
      "text/plain": [
       "<IPython.core.display.HTML object>"
      ]
     },
     "metadata": {},
     "output_type": "display_data"
    },
    {
     "name": "stdout",
     "output_type": "stream",
     "text": [
      "\tQuerying PM event timestamps for system: QPS, className: DQAMSNRB, source: RR73.RB.A67 from 2015-05-26 16:27:55.440 to 2015-05-26 16:44:45.440\n"
     ]
    },
    {
     "data": {
      "text/html": [
       "<text style=color:blue>Executing RB.A67 query function query_ee_u_dump_res_pm: 4/45.</text>"
      ],
      "text/plain": [
       "<IPython.core.display.HTML object>"
      ]
     },
     "metadata": {},
     "output_type": "display_data"
    },
    {
     "name": "stdout",
     "output_type": "stream",
     "text": [
      "\tQuerying PM event signal(s) RR73.RB.A67:U_DUMP_RES for system: QPS, className: DQAMSNRB, source: RR73.RB.A67 at 2015-05-26 16:28:05.736\n"
     ]
    },
    {
     "data": {
      "text/html": [
       "<text style=color:blue>Executing RB.A67 query function find_timestamp_pic: 5/45.</text>"
      ],
      "text/plain": [
       "<IPython.core.display.HTML object>"
      ]
     },
     "metadata": {},
     "output_type": "display_data"
    },
    {
     "name": "stdout",
     "output_type": "stream",
     "text": [
      "\tQuerying NXCALS signal(s) RB.A67.ODD:ST_ABORT_PIC, RB.A67.EVEN:ST_ABORT_PIC from 2015-05-26 16:28:04.440 to 2015-05-26 16:29:05.440\n"
     ]
    },
    {
     "data": {
      "text/html": [
       "<text style=color:blue>Executing RB.A67 query function find_source_timestamp_qds: 6/45.</text>"
      ],
      "text/plain": [
       "<IPython.core.display.HTML object>"
      ]
     },
     "metadata": {},
     "output_type": "display_data"
    },
    {
     "name": "stdout",
     "output_type": "stream",
     "text": [
      "\tQuerying PM event timestamps for system: QPS, className: DQAMCNMB_PMSTD, source: * from 2015-05-26 16:27:15.440 to 2015-05-26 16:36:25.440\n"
     ]
    },
    {
     "data": {
      "text/html": [
       "<text style=color:blue>Executing RB.A67 query function find_source_timestamp_ee: 1/45.</text>"
      ],
      "text/plain": [
       "<IPython.core.display.HTML object>"
      ]
     },
     "metadata": {},
     "output_type": "display_data"
    },
    {
     "name": "stdout",
     "output_type": "stream",
     "text": [
      "\tQuerying PM event timestamps for system: QPS, className: DQAMSNRB, source: UA67.RB.A67 from 2015-09-20 04:21:05.040 to 2015-09-20 04:37:55.040\n"
     ]
    },
    {
     "data": {
      "text/html": [
       "<text style=color:blue>Executing RB.A67 query function query_ee_u_dump_res_pm: 2/45.</text>"
      ],
      "text/plain": [
       "<IPython.core.display.HTML object>"
      ]
     },
     "metadata": {},
     "output_type": "display_data"
    },
    {
     "name": "stdout",
     "output_type": "stream",
     "text": [
      "\tQuerying PM event signal(s) UA67.RB.A67:U_DUMP_RES for system: QPS, className: DQAMSNRB, source: UA67.RB.A67 at 2015-09-20 04:21:15.605\n"
     ]
    },
    {
     "data": {
      "text/html": [
       "<text style=color:blue>Executing RB.A67 query function find_source_timestamp_ee: 3/45.</text>"
      ],
      "text/plain": [
       "<IPython.core.display.HTML object>"
      ]
     },
     "metadata": {},
     "output_type": "display_data"
    },
    {
     "name": "stdout",
     "output_type": "stream",
     "text": [
      "\tQuerying PM event timestamps for system: QPS, className: DQAMSNRB, source: RR73.RB.A67 from 2015-09-20 04:21:05.040 to 2015-09-20 04:37:55.040\n"
     ]
    },
    {
     "data": {
      "text/html": [
       "<text style=color:blue>Executing RB.A67 query function query_ee_u_dump_res_pm: 4/45.</text>"
      ],
      "text/plain": [
       "<IPython.core.display.HTML object>"
      ]
     },
     "metadata": {},
     "output_type": "display_data"
    },
    {
     "name": "stdout",
     "output_type": "stream",
     "text": [
      "\tQuerying PM event signal(s) RR73.RB.A67:U_DUMP_RES for system: QPS, className: DQAMSNRB, source: RR73.RB.A67 at 2015-09-20 04:21:15.342\n"
     ]
    },
    {
     "data": {
      "text/html": [
       "<text style=color:blue>Executing RB.A67 query function find_timestamp_pic: 5/45.</text>"
      ],
      "text/plain": [
       "<IPython.core.display.HTML object>"
      ]
     },
     "metadata": {},
     "output_type": "display_data"
    },
    {
     "name": "stdout",
     "output_type": "stream",
     "text": [
      "\tQuerying NXCALS signal(s) RB.A67.ODD:ST_ABORT_PIC, RB.A67.EVEN:ST_ABORT_PIC from 2015-09-20 04:21:14.040 to 2015-09-20 04:22:15.040\n"
     ]
    },
    {
     "data": {
      "text/html": [
       "<text style=color:blue>Executing RB.A67 query function find_source_timestamp_qds: 6/45.</text>"
      ],
      "text/plain": [
       "<IPython.core.display.HTML object>"
      ]
     },
     "metadata": {},
     "output_type": "display_data"
    },
    {
     "name": "stdout",
     "output_type": "stream",
     "text": [
      "\tQuerying PM event timestamps for system: QPS, className: DQAMCNMB_PMSTD, source: * from 2015-09-20 04:20:25.040 to 2015-09-20 04:29:35.040\n"
     ]
    },
    {
     "data": {
      "text/html": [
       "<text style=color:blue>Executing RB.A67 query function find_source_timestamp_ee: 1/45.</text>"
      ],
      "text/plain": [
       "<IPython.core.display.HTML object>"
      ]
     },
     "metadata": {},
     "output_type": "display_data"
    },
    {
     "name": "stdout",
     "output_type": "stream",
     "text": [
      "\tQuerying PM event timestamps for system: QPS, className: DQAMSNRB, source: UA67.RB.A67 from 2015-11-12 19:59:20.800 to 2015-11-12 20:16:10.800\n"
     ]
    },
    {
     "data": {
      "text/html": [
       "<text style=color:blue>Executing RB.A67 query function query_ee_u_dump_res_pm: 2/45.</text>"
      ],
      "text/plain": [
       "<IPython.core.display.HTML object>"
      ]
     },
     "metadata": {},
     "output_type": "display_data"
    },
    {
     "name": "stdout",
     "output_type": "stream",
     "text": [
      "\tQuerying PM event signal(s) UA67.RB.A67:U_DUMP_RES for system: QPS, className: DQAMSNRB, source: UA67.RB.A67 at 2015-11-12 19:59:31.362\n"
     ]
    },
    {
     "data": {
      "text/html": [
       "<text style=color:blue>Executing RB.A67 query function find_source_timestamp_ee: 3/45.</text>"
      ],
      "text/plain": [
       "<IPython.core.display.HTML object>"
      ]
     },
     "metadata": {},
     "output_type": "display_data"
    },
    {
     "name": "stdout",
     "output_type": "stream",
     "text": [
      "\tQuerying PM event timestamps for system: QPS, className: DQAMSNRB, source: RR73.RB.A67 from 2015-11-12 19:59:20.800 to 2015-11-12 20:16:10.800\n"
     ]
    },
    {
     "data": {
      "text/html": [
       "<text style=color:blue>Executing RB.A67 query function query_ee_u_dump_res_pm: 4/45.</text>"
      ],
      "text/plain": [
       "<IPython.core.display.HTML object>"
      ]
     },
     "metadata": {},
     "output_type": "display_data"
    },
    {
     "name": "stdout",
     "output_type": "stream",
     "text": [
      "\tQuerying PM event signal(s) RR73.RB.A67:U_DUMP_RES for system: QPS, className: DQAMSNRB, source: RR73.RB.A67 at 2015-11-12 19:59:31.102\n"
     ]
    },
    {
     "data": {
      "text/html": [
       "<text style=color:blue>Executing RB.A67 query function find_timestamp_pic: 5/45.</text>"
      ],
      "text/plain": [
       "<IPython.core.display.HTML object>"
      ]
     },
     "metadata": {},
     "output_type": "display_data"
    },
    {
     "name": "stdout",
     "output_type": "stream",
     "text": [
      "\tQuerying NXCALS signal(s) RB.A67.ODD:ST_ABORT_PIC, RB.A67.EVEN:ST_ABORT_PIC from 2015-11-12 19:59:29.800 to 2015-11-12 20:00:30.800\n"
     ]
    },
    {
     "data": {
      "text/html": [
       "<text style=color:blue>Executing RB.A67 query function find_source_timestamp_qds: 6/45.</text>"
      ],
      "text/plain": [
       "<IPython.core.display.HTML object>"
      ]
     },
     "metadata": {},
     "output_type": "display_data"
    },
    {
     "name": "stdout",
     "output_type": "stream",
     "text": [
      "\tQuerying PM event timestamps for system: QPS, className: DQAMCNMB_PMSTD, source: * from 2015-11-12 19:58:40.800 to 2015-11-12 20:07:50.800\n"
     ]
    },
    {
     "data": {
      "text/html": [
       "<text style=color:blue>Executing RB.A67 query function find_source_timestamp_ee: 1/45.</text>"
      ],
      "text/plain": [
       "<IPython.core.display.HTML object>"
      ]
     },
     "metadata": {},
     "output_type": "display_data"
    },
    {
     "name": "stdout",
     "output_type": "stream",
     "text": [
      "\tQuerying PM event timestamps for system: QPS, className: DQAMSNRB, source: UA67.RB.A67 from 2015-12-13 22:07:49.700 to 2015-12-13 22:24:39.700\n"
     ]
    },
    {
     "data": {
      "text/html": [
       "<text style=color:blue>Executing RB.A67 query function query_ee_u_dump_res_pm: 2/45.</text>"
      ],
      "text/plain": [
       "<IPython.core.display.HTML object>"
      ]
     },
     "metadata": {},
     "output_type": "display_data"
    },
    {
     "name": "stdout",
     "output_type": "stream",
     "text": [
      "\tQuerying PM event signal(s) UA67.RB.A67:U_DUMP_RES for system: QPS, className: DQAMSNRB, source: UA67.RB.A67 at 2015-12-13 22:08:00.255\n"
     ]
    },
    {
     "data": {
      "text/html": [
       "<text style=color:blue>Executing RB.A67 query function find_source_timestamp_ee: 3/45.</text>"
      ],
      "text/plain": [
       "<IPython.core.display.HTML object>"
      ]
     },
     "metadata": {},
     "output_type": "display_data"
    },
    {
     "name": "stdout",
     "output_type": "stream",
     "text": [
      "\tQuerying PM event timestamps for system: QPS, className: DQAMSNRB, source: RR73.RB.A67 from 2015-12-13 22:07:49.700 to 2015-12-13 22:24:39.700\n"
     ]
    },
    {
     "data": {
      "text/html": [
       "<text style=color:blue>Executing RB.A67 query function query_ee_u_dump_res_pm: 4/45.</text>"
      ],
      "text/plain": [
       "<IPython.core.display.HTML object>"
      ]
     },
     "metadata": {},
     "output_type": "display_data"
    },
    {
     "name": "stdout",
     "output_type": "stream",
     "text": [
      "\tQuerying PM event signal(s) RR73.RB.A67:U_DUMP_RES for system: QPS, className: DQAMSNRB, source: RR73.RB.A67 at 2015-12-13 22:07:59.998\n"
     ]
    },
    {
     "data": {
      "text/html": [
       "<text style=color:blue>Executing RB.A67 query function find_timestamp_pic: 5/45.</text>"
      ],
      "text/plain": [
       "<IPython.core.display.HTML object>"
      ]
     },
     "metadata": {},
     "output_type": "display_data"
    },
    {
     "name": "stdout",
     "output_type": "stream",
     "text": [
      "\tQuerying NXCALS signal(s) RB.A67.ODD:ST_ABORT_PIC, RB.A67.EVEN:ST_ABORT_PIC from 2015-12-13 22:07:58.700 to 2015-12-13 22:08:59.700\n"
     ]
    },
    {
     "data": {
      "text/html": [
       "<text style=color:blue>Executing RB.A67 query function find_source_timestamp_qds: 6/45.</text>"
      ],
      "text/plain": [
       "<IPython.core.display.HTML object>"
      ]
     },
     "metadata": {},
     "output_type": "display_data"
    },
    {
     "name": "stdout",
     "output_type": "stream",
     "text": [
      "\tQuerying PM event timestamps for system: QPS, className: DQAMCNMB_PMSTD, source: * from 2015-12-13 22:07:09.700 to 2015-12-13 22:16:19.700\n"
     ]
    },
    {
     "data": {
      "text/html": [
       "<text style=color:blue>Executing RB.A67 query function find_source_timestamp_ee: 1/45.</text>"
      ],
      "text/plain": [
       "<IPython.core.display.HTML object>"
      ]
     },
     "metadata": {},
     "output_type": "display_data"
    },
    {
     "name": "stdout",
     "output_type": "stream",
     "text": [
      "\tQuerying PM event timestamps for system: QPS, className: DQAMSNRB, source: UA67.RB.A67 from 2016-05-09 01:55:47.600 to 2016-05-09 02:12:37.600\n"
     ]
    },
    {
     "data": {
      "text/html": [
       "<text style=color:blue>Executing RB.A67 query function query_ee_u_dump_res_pm: 2/45.</text>"
      ],
      "text/plain": [
       "<IPython.core.display.HTML object>"
      ]
     },
     "metadata": {},
     "output_type": "display_data"
    },
    {
     "name": "stdout",
     "output_type": "stream",
     "text": [
      "\tQuerying PM event signal(s) UA67.RB.A67:U_DUMP_RES for system: QPS, className: DQAMSNRB, source: UA67.RB.A67 at 2016-05-09 01:55:58.167\n"
     ]
    },
    {
     "data": {
      "text/html": [
       "<text style=color:blue>Executing RB.A67 query function find_source_timestamp_ee: 3/45.</text>"
      ],
      "text/plain": [
       "<IPython.core.display.HTML object>"
      ]
     },
     "metadata": {},
     "output_type": "display_data"
    },
    {
     "name": "stdout",
     "output_type": "stream",
     "text": [
      "\tQuerying PM event timestamps for system: QPS, className: DQAMSNRB, source: RR73.RB.A67 from 2016-05-09 01:55:47.600 to 2016-05-09 02:12:37.600\n"
     ]
    },
    {
     "data": {
      "text/html": [
       "<text style=color:blue>Executing RB.A67 query function query_ee_u_dump_res_pm: 4/45.</text>"
      ],
      "text/plain": [
       "<IPython.core.display.HTML object>"
      ]
     },
     "metadata": {},
     "output_type": "display_data"
    },
    {
     "name": "stdout",
     "output_type": "stream",
     "text": [
      "\tQuerying PM event signal(s) RR73.RB.A67:U_DUMP_RES for system: QPS, className: DQAMSNRB, source: RR73.RB.A67 at 2016-05-09 01:55:57.901\n"
     ]
    },
    {
     "data": {
      "text/html": [
       "<text style=color:blue>Executing RB.A67 query function find_timestamp_pic: 5/45.</text>"
      ],
      "text/plain": [
       "<IPython.core.display.HTML object>"
      ]
     },
     "metadata": {},
     "output_type": "display_data"
    },
    {
     "name": "stdout",
     "output_type": "stream",
     "text": [
      "\tQuerying NXCALS signal(s) RB.A67.ODD:ST_ABORT_PIC, RB.A67.EVEN:ST_ABORT_PIC from 2016-05-09 01:55:56.600 to 2016-05-09 01:56:57.600\n"
     ]
    },
    {
     "data": {
      "text/html": [
       "<text style=color:blue>Executing RB.A67 query function find_source_timestamp_qds: 6/45.</text>"
      ],
      "text/plain": [
       "<IPython.core.display.HTML object>"
      ]
     },
     "metadata": {},
     "output_type": "display_data"
    },
    {
     "name": "stdout",
     "output_type": "stream",
     "text": [
      "\tQuerying PM event timestamps for system: QPS, className: DQAMCNMB_PMSTD, source: * from 2016-05-09 01:55:07.600 to 2016-05-09 02:04:17.600\n"
     ]
    },
    {
     "data": {
      "text/html": [
       "<text style=color:blue>Executing RB.A67 query function find_source_timestamp_ee: 1/45.</text>"
      ],
      "text/plain": [
       "<IPython.core.display.HTML object>"
      ]
     },
     "metadata": {},
     "output_type": "display_data"
    },
    {
     "name": "stdout",
     "output_type": "stream",
     "text": [
      "\tQuerying PM event timestamps for system: QPS, className: DQAMSNRB, source: UA67.RB.A67 from 2016-05-15 12:08:35.820 to 2016-05-15 12:25:25.820\n"
     ]
    },
    {
     "data": {
      "text/html": [
       "<text style=color:blue>Executing RB.A67 query function query_ee_u_dump_res_pm: 2/45.</text>"
      ],
      "text/plain": [
       "<IPython.core.display.HTML object>"
      ]
     },
     "metadata": {},
     "output_type": "display_data"
    },
    {
     "name": "stdout",
     "output_type": "stream",
     "text": [
      "\tQuerying PM event signal(s) UA67.RB.A67:U_DUMP_RES for system: QPS, className: DQAMSNRB, source: UA67.RB.A67 at 2016-05-15 12:08:46.388\n"
     ]
    },
    {
     "data": {
      "text/html": [
       "<text style=color:blue>Executing RB.A67 query function find_source_timestamp_ee: 3/45.</text>"
      ],
      "text/plain": [
       "<IPython.core.display.HTML object>"
      ]
     },
     "metadata": {},
     "output_type": "display_data"
    },
    {
     "name": "stdout",
     "output_type": "stream",
     "text": [
      "\tQuerying PM event timestamps for system: QPS, className: DQAMSNRB, source: RR73.RB.A67 from 2016-05-15 12:08:35.820 to 2016-05-15 12:25:25.820\n"
     ]
    },
    {
     "data": {
      "text/html": [
       "<text style=color:blue>Executing RB.A67 query function query_ee_u_dump_res_pm: 4/45.</text>"
      ],
      "text/plain": [
       "<IPython.core.display.HTML object>"
      ]
     },
     "metadata": {},
     "output_type": "display_data"
    },
    {
     "name": "stdout",
     "output_type": "stream",
     "text": [
      "\tQuerying PM event signal(s) RR73.RB.A67:U_DUMP_RES for system: QPS, className: DQAMSNRB, source: RR73.RB.A67 at 2016-05-15 12:08:46.122\n"
     ]
    },
    {
     "data": {
      "text/html": [
       "<text style=color:blue>Executing RB.A67 query function find_timestamp_pic: 5/45.</text>"
      ],
      "text/plain": [
       "<IPython.core.display.HTML object>"
      ]
     },
     "metadata": {},
     "output_type": "display_data"
    },
    {
     "name": "stdout",
     "output_type": "stream",
     "text": [
      "\tQuerying NXCALS signal(s) RB.A67.ODD:ST_ABORT_PIC, RB.A67.EVEN:ST_ABORT_PIC from 2016-05-15 12:08:44.820 to 2016-05-15 12:09:45.820\n"
     ]
    },
    {
     "data": {
      "text/html": [
       "<text style=color:blue>Executing RB.A67 query function find_source_timestamp_qds: 6/45.</text>"
      ],
      "text/plain": [
       "<IPython.core.display.HTML object>"
      ]
     },
     "metadata": {},
     "output_type": "display_data"
    },
    {
     "name": "stdout",
     "output_type": "stream",
     "text": [
      "\tQuerying PM event timestamps for system: QPS, className: DQAMCNMB_PMSTD, source: * from 2016-05-15 12:07:55.820 to 2016-05-15 12:17:05.820\n"
     ]
    },
    {
     "data": {
      "text/html": [
       "<text style=color:blue>Executing RB.A67 query function find_source_timestamp_ee: 1/45.</text>"
      ],
      "text/plain": [
       "<IPython.core.display.HTML object>"
      ]
     },
     "metadata": {},
     "output_type": "display_data"
    },
    {
     "name": "stdout",
     "output_type": "stream",
     "text": [
      "\tQuerying PM event timestamps for system: QPS, className: DQAMSNRB, source: UA67.RB.A67 from 2017-12-04 04:00:03.920 to 2017-12-04 04:16:53.920\n"
     ]
    },
    {
     "data": {
      "text/html": [
       "<text style=color:blue>Executing RB.A67 query function query_ee_u_dump_res_pm: 2/45.</text>"
      ],
      "text/plain": [
       "<IPython.core.display.HTML object>"
      ]
     },
     "metadata": {},
     "output_type": "display_data"
    },
    {
     "name": "stdout",
     "output_type": "stream",
     "text": [
      "\tQuerying PM event signal(s) UA67.RB.A67:U_DUMP_RES for system: QPS, className: DQAMSNRB, source: UA67.RB.A67 at 2017-12-04 04:00:14.471\n"
     ]
    },
    {
     "data": {
      "text/html": [
       "<text style=color:blue>Executing RB.A67 query function find_source_timestamp_ee: 3/45.</text>"
      ],
      "text/plain": [
       "<IPython.core.display.HTML object>"
      ]
     },
     "metadata": {},
     "output_type": "display_data"
    },
    {
     "name": "stdout",
     "output_type": "stream",
     "text": [
      "\tQuerying PM event timestamps for system: QPS, className: DQAMSNRB, source: RR73.RB.A67 from 2017-12-04 04:00:03.920 to 2017-12-04 04:16:53.920\n"
     ]
    },
    {
     "data": {
      "text/html": [
       "<text style=color:blue>Executing RB.A67 query function query_ee_u_dump_res_pm: 4/45.</text>"
      ],
      "text/plain": [
       "<IPython.core.display.HTML object>"
      ]
     },
     "metadata": {},
     "output_type": "display_data"
    },
    {
     "name": "stdout",
     "output_type": "stream",
     "text": [
      "\tQuerying PM event signal(s) RR73.RB.A67:U_DUMP_RES for system: QPS, className: DQAMSNRB, source: RR73.RB.A67 at 2017-12-04 04:00:14.214\n"
     ]
    },
    {
     "data": {
      "text/html": [
       "<text style=color:blue>Executing RB.A67 query function find_timestamp_pic: 5/45.</text>"
      ],
      "text/plain": [
       "<IPython.core.display.HTML object>"
      ]
     },
     "metadata": {},
     "output_type": "display_data"
    },
    {
     "name": "stdout",
     "output_type": "stream",
     "text": [
      "\tQuerying NXCALS signal(s) RB.A67.ODD:ST_ABORT_PIC, RB.A67.EVEN:ST_ABORT_PIC from 2017-12-04 04:00:12.920 to 2017-12-04 04:01:13.920\n"
     ]
    },
    {
     "data": {
      "text/html": [
       "<text style=color:blue>Executing RB.A67 query function find_source_timestamp_qds: 6/45.</text>"
      ],
      "text/plain": [
       "<IPython.core.display.HTML object>"
      ]
     },
     "metadata": {},
     "output_type": "display_data"
    },
    {
     "name": "stdout",
     "output_type": "stream",
     "text": [
      "\tQuerying PM event timestamps for system: QPS, className: DQAMCNMB_PMSTD, source: * from 2017-12-04 03:59:23.920 to 2017-12-04 04:08:33.920\n"
     ]
    },
    {
     "data": {
      "text/html": [
       "<text style=color:blue>Executing RB.A67 query function find_source_timestamp_ee: 1/45.</text>"
      ],
      "text/plain": [
       "<IPython.core.display.HTML object>"
      ]
     },
     "metadata": {},
     "output_type": "display_data"
    },
    {
     "name": "stdout",
     "output_type": "stream",
     "text": [
      "\tQuerying PM event timestamps for system: QPS, className: DQAMSNRB, source: UA67.RB.A67 from 2018-09-17 01:44:42.840 to 2018-09-17 02:01:32.840\n"
     ]
    },
    {
     "data": {
      "text/html": [
       "<text style=color:blue>Executing RB.A67 query function query_ee_u_dump_res_pm: 2/45.</text>"
      ],
      "text/plain": [
       "<IPython.core.display.HTML object>"
      ]
     },
     "metadata": {},
     "output_type": "display_data"
    },
    {
     "name": "stdout",
     "output_type": "stream",
     "text": [
      "\tQuerying PM event signal(s) UA67.RB.A67:U_DUMP_RES for system: QPS, className: DQAMSNRB, source: UA67.RB.A67 at 2018-09-17 01:44:53.411\n"
     ]
    },
    {
     "data": {
      "text/html": [
       "<text style=color:blue>Executing RB.A67 query function find_source_timestamp_ee: 3/45.</text>"
      ],
      "text/plain": [
       "<IPython.core.display.HTML object>"
      ]
     },
     "metadata": {},
     "output_type": "display_data"
    },
    {
     "name": "stdout",
     "output_type": "stream",
     "text": [
      "\tQuerying PM event timestamps for system: QPS, className: DQAMSNRB, source: RR73.RB.A67 from 2018-09-17 01:44:42.840 to 2018-09-17 02:01:32.840\n"
     ]
    },
    {
     "data": {
      "text/html": [
       "<text style=color:blue>Executing RB.A67 query function query_ee_u_dump_res_pm: 4/45.</text>"
      ],
      "text/plain": [
       "<IPython.core.display.HTML object>"
      ]
     },
     "metadata": {},
     "output_type": "display_data"
    },
    {
     "name": "stdout",
     "output_type": "stream",
     "text": [
      "\tQuerying PM event signal(s) RR73.RB.A67:U_DUMP_RES for system: QPS, className: DQAMSNRB, source: RR73.RB.A67 at 2018-09-17 01:44:52.908\n"
     ]
    },
    {
     "data": {
      "text/html": [
       "<text style=color:blue>Executing RB.A67 query function find_timestamp_pic: 5/45.</text>"
      ],
      "text/plain": [
       "<IPython.core.display.HTML object>"
      ]
     },
     "metadata": {},
     "output_type": "display_data"
    },
    {
     "name": "stdout",
     "output_type": "stream",
     "text": [
      "\tQuerying NXCALS signal(s) RB.A67.ODD:ST_ABORT_PIC, RB.A67.EVEN:ST_ABORT_PIC from 2018-09-17 01:44:51.840 to 2018-09-17 01:45:52.840\n"
     ]
    },
    {
     "data": {
      "text/html": [
       "<text style=color:blue>Executing RB.A67 query function find_source_timestamp_qds: 6/45.</text>"
      ],
      "text/plain": [
       "<IPython.core.display.HTML object>"
      ]
     },
     "metadata": {},
     "output_type": "display_data"
    },
    {
     "name": "stdout",
     "output_type": "stream",
     "text": [
      "\tQuerying PM event timestamps for system: QPS, className: DQAMCNMB_PMSTD, source: * from 2018-09-17 01:44:02.840 to 2018-09-17 01:53:12.840\n"
     ]
    },
    {
     "data": {
      "text/html": [
       "<text style=color:blue>Executing RB.A78 query function find_source_timestamp_ee: 1/45.</text>"
      ],
      "text/plain": [
       "<IPython.core.display.HTML object>"
      ]
     },
     "metadata": {},
     "output_type": "display_data"
    },
    {
     "name": "stdout",
     "output_type": "stream",
     "text": [
      "\tQuerying PM event timestamps for system: QPS, className: DQAMSNRB, source: UA83.RB.A78 from 2015-02-23 12:01:25.960 to 2015-02-23 12:18:15.960\n"
     ]
    },
    {
     "data": {
      "text/html": [
       "<text style=color:blue>Executing RB.A78 query function query_ee_u_dump_res_pm: 2/45.</text>"
      ],
      "text/plain": [
       "<IPython.core.display.HTML object>"
      ]
     },
     "metadata": {},
     "output_type": "display_data"
    },
    {
     "name": "stdout",
     "output_type": "stream",
     "text": [
      "\tQuerying PM event signal(s) UA83.RB.A78:U_DUMP_RES for system: QPS, className: DQAMSNRB, source: UA83.RB.A78 at 2015-02-23 12:01:36.527\n"
     ]
    },
    {
     "data": {
      "text/html": [
       "<text style=color:blue>Executing RB.A78 query function find_source_timestamp_ee: 3/45.</text>"
      ],
      "text/plain": [
       "<IPython.core.display.HTML object>"
      ]
     },
     "metadata": {},
     "output_type": "display_data"
    },
    {
     "name": "stdout",
     "output_type": "stream",
     "text": [
      "\tQuerying PM event timestamps for system: QPS, className: DQAMSNRB, source: RR77.RB.A78 from 2015-02-23 12:01:25.960 to 2015-02-23 12:18:15.960\n"
     ]
    },
    {
     "data": {
      "text/html": [
       "<text style=color:blue>Executing RB.A78 query function query_ee_u_dump_res_pm: 4/45.</text>"
      ],
      "text/plain": [
       "<IPython.core.display.HTML object>"
      ]
     },
     "metadata": {},
     "output_type": "display_data"
    },
    {
     "name": "stdout",
     "output_type": "stream",
     "text": [
      "\tQuerying PM event signal(s) RR77.RB.A78:U_DUMP_RES for system: QPS, className: DQAMSNRB, source: RR77.RB.A78 at 2015-02-23 12:01:36.252\n"
     ]
    },
    {
     "data": {
      "text/html": [
       "<text style=color:blue>Executing RB.A78 query function find_timestamp_pic: 5/45.</text>"
      ],
      "text/plain": [
       "<IPython.core.display.HTML object>"
      ]
     },
     "metadata": {},
     "output_type": "display_data"
    },
    {
     "name": "stdout",
     "output_type": "stream",
     "text": [
      "\tQuerying NXCALS signal(s) RB.A78.ODD:ST_ABORT_PIC, RB.A78.EVEN:ST_ABORT_PIC from 2015-02-23 12:01:34.960 to 2015-02-23 12:02:35.960\n"
     ]
    },
    {
     "data": {
      "text/html": [
       "<text style=color:blue>Executing RB.A78 query function find_source_timestamp_qds: 6/45.</text>"
      ],
      "text/plain": [
       "<IPython.core.display.HTML object>"
      ]
     },
     "metadata": {},
     "output_type": "display_data"
    },
    {
     "name": "stdout",
     "output_type": "stream",
     "text": [
      "\tQuerying PM event timestamps for system: QPS, className: DQAMCNMB_PMSTD, source: * from 2015-02-23 12:00:45.960 to 2015-02-23 12:09:55.960\n"
     ]
    },
    {
     "data": {
      "text/html": [
       "<text style=color:blue>Executing RB.A78 query function find_source_timestamp_ee: 1/45.</text>"
      ],
      "text/plain": [
       "<IPython.core.display.HTML object>"
      ]
     },
     "metadata": {},
     "output_type": "display_data"
    },
    {
     "name": "stdout",
     "output_type": "stream",
     "text": [
      "\tQuerying PM event timestamps for system: QPS, className: DQAMSNRB, source: UA83.RB.A78 from 2015-02-23 17:23:28.840 to 2015-02-23 17:40:18.840\n"
     ]
    },
    {
     "data": {
      "text/html": [
       "<text style=color:blue>Executing RB.A78 query function query_ee_u_dump_res_pm: 2/45.</text>"
      ],
      "text/plain": [
       "<IPython.core.display.HTML object>"
      ]
     },
     "metadata": {},
     "output_type": "display_data"
    },
    {
     "name": "stdout",
     "output_type": "stream",
     "text": [
      "\tQuerying PM event signal(s) UA83.RB.A78:U_DUMP_RES for system: QPS, className: DQAMSNRB, source: UA83.RB.A78 at 2015-02-23 17:23:39.401\n"
     ]
    },
    {
     "data": {
      "text/html": [
       "<text style=color:blue>Executing RB.A78 query function find_source_timestamp_ee: 3/45.</text>"
      ],
      "text/plain": [
       "<IPython.core.display.HTML object>"
      ]
     },
     "metadata": {},
     "output_type": "display_data"
    },
    {
     "name": "stdout",
     "output_type": "stream",
     "text": [
      "\tQuerying PM event timestamps for system: QPS, className: DQAMSNRB, source: RR77.RB.A78 from 2015-02-23 17:23:28.840 to 2015-02-23 17:40:18.840\n"
     ]
    },
    {
     "data": {
      "text/html": [
       "<text style=color:blue>Executing RB.A78 query function query_ee_u_dump_res_pm: 4/45.</text>"
      ],
      "text/plain": [
       "<IPython.core.display.HTML object>"
      ]
     },
     "metadata": {},
     "output_type": "display_data"
    },
    {
     "name": "stdout",
     "output_type": "stream",
     "text": [
      "\tQuerying PM event signal(s) RR77.RB.A78:U_DUMP_RES for system: QPS, className: DQAMSNRB, source: RR77.RB.A78 at 2015-02-23 17:23:39.130\n"
     ]
    },
    {
     "data": {
      "text/html": [
       "<text style=color:blue>Executing RB.A78 query function find_timestamp_pic: 5/45.</text>"
      ],
      "text/plain": [
       "<IPython.core.display.HTML object>"
      ]
     },
     "metadata": {},
     "output_type": "display_data"
    },
    {
     "name": "stdout",
     "output_type": "stream",
     "text": [
      "\tQuerying NXCALS signal(s) RB.A78.ODD:ST_ABORT_PIC, RB.A78.EVEN:ST_ABORT_PIC from 2015-02-23 17:23:37.840 to 2015-02-23 17:24:38.840\n"
     ]
    },
    {
     "data": {
      "text/html": [
       "<text style=color:blue>Executing RB.A78 query function find_source_timestamp_qds: 6/45.</text>"
      ],
      "text/plain": [
       "<IPython.core.display.HTML object>"
      ]
     },
     "metadata": {},
     "output_type": "display_data"
    },
    {
     "name": "stdout",
     "output_type": "stream",
     "text": [
      "\tQuerying PM event timestamps for system: QPS, className: DQAMCNMB_PMSTD, source: * from 2015-02-23 17:22:48.840 to 2015-02-23 17:31:58.840\n"
     ]
    },
    {
     "data": {
      "text/html": [
       "<text style=color:blue>Executing RB.A78 query function find_source_timestamp_ee: 1/45.</text>"
      ],
      "text/plain": [
       "<IPython.core.display.HTML object>"
      ]
     },
     "metadata": {},
     "output_type": "display_data"
    },
    {
     "name": "stdout",
     "output_type": "stream",
     "text": [
      "\tQuerying PM event timestamps for system: QPS, className: DQAMSNRB, source: UA83.RB.A78 from 2015-02-26 20:05:48.840 to 2015-02-26 20:22:38.840\n"
     ]
    },
    {
     "data": {
      "text/html": [
       "<text style=color:blue>Executing RB.A78 query function query_ee_u_dump_res_pm: 2/45.</text>"
      ],
      "text/plain": [
       "<IPython.core.display.HTML object>"
      ]
     },
     "metadata": {},
     "output_type": "display_data"
    },
    {
     "name": "stdout",
     "output_type": "stream",
     "text": [
      "\tQuerying PM event signal(s) UA83.RB.A78:U_DUMP_RES for system: QPS, className: DQAMSNRB, source: UA83.RB.A78 at 2015-02-26 20:05:59.402\n"
     ]
    },
    {
     "data": {
      "text/html": [
       "<text style=color:blue>Executing RB.A78 query function find_source_timestamp_ee: 3/45.</text>"
      ],
      "text/plain": [
       "<IPython.core.display.HTML object>"
      ]
     },
     "metadata": {},
     "output_type": "display_data"
    },
    {
     "name": "stdout",
     "output_type": "stream",
     "text": [
      "\tQuerying PM event timestamps for system: QPS, className: DQAMSNRB, source: RR77.RB.A78 from 2015-02-26 20:05:48.840 to 2015-02-26 20:22:38.840\n"
     ]
    },
    {
     "data": {
      "text/html": [
       "<text style=color:blue>Executing RB.A78 query function query_ee_u_dump_res_pm: 4/45.</text>"
      ],
      "text/plain": [
       "<IPython.core.display.HTML object>"
      ]
     },
     "metadata": {},
     "output_type": "display_data"
    },
    {
     "name": "stdout",
     "output_type": "stream",
     "text": [
      "\tQuerying PM event signal(s) RR77.RB.A78:U_DUMP_RES for system: QPS, className: DQAMSNRB, source: RR77.RB.A78 at 2015-02-26 20:05:59.129\n"
     ]
    },
    {
     "data": {
      "text/html": [
       "<text style=color:blue>Executing RB.A78 query function find_timestamp_pic: 5/45.</text>"
      ],
      "text/plain": [
       "<IPython.core.display.HTML object>"
      ]
     },
     "metadata": {},
     "output_type": "display_data"
    },
    {
     "name": "stdout",
     "output_type": "stream",
     "text": [
      "\tQuerying NXCALS signal(s) RB.A78.ODD:ST_ABORT_PIC, RB.A78.EVEN:ST_ABORT_PIC from 2015-02-26 20:05:57.840 to 2015-02-26 20:06:58.840\n"
     ]
    },
    {
     "data": {
      "text/html": [
       "<text style=color:blue>Executing RB.A78 query function find_source_timestamp_qds: 6/45.</text>"
      ],
      "text/plain": [
       "<IPython.core.display.HTML object>"
      ]
     },
     "metadata": {},
     "output_type": "display_data"
    },
    {
     "name": "stdout",
     "output_type": "stream",
     "text": [
      "\tQuerying PM event timestamps for system: QPS, className: DQAMCNMB_PMSTD, source: * from 2015-02-26 20:05:08.840 to 2015-02-26 20:14:18.840\n"
     ]
    },
    {
     "data": {
      "text/html": [
       "<text style=color:blue>Executing RB.A78 query function find_source_timestamp_ee: 1/45.</text>"
      ],
      "text/plain": [
       "<IPython.core.display.HTML object>"
      ]
     },
     "metadata": {},
     "output_type": "display_data"
    },
    {
     "name": "stdout",
     "output_type": "stream",
     "text": [
      "\tQuerying PM event timestamps for system: QPS, className: DQAMSNRB, source: UA83.RB.A78 from 2015-02-28 17:35:51.060 to 2015-02-28 17:52:41.060\n"
     ]
    },
    {
     "data": {
      "text/html": [
       "<text style=color:blue>Executing RB.A78 query function query_ee_u_dump_res_pm: 2/45.</text>"
      ],
      "text/plain": [
       "<IPython.core.display.HTML object>"
      ]
     },
     "metadata": {},
     "output_type": "display_data"
    },
    {
     "name": "stdout",
     "output_type": "stream",
     "text": [
      "\tQuerying PM event signal(s) UA83.RB.A78:U_DUMP_RES for system: QPS, className: DQAMSNRB, source: UA83.RB.A78 at 2015-02-28 17:36:01.616\n"
     ]
    },
    {
     "data": {
      "text/html": [
       "<text style=color:blue>Executing RB.A78 query function find_source_timestamp_ee: 3/45.</text>"
      ],
      "text/plain": [
       "<IPython.core.display.HTML object>"
      ]
     },
     "metadata": {},
     "output_type": "display_data"
    },
    {
     "name": "stdout",
     "output_type": "stream",
     "text": [
      "\tQuerying PM event timestamps for system: QPS, className: DQAMSNRB, source: RR77.RB.A78 from 2015-02-28 17:35:51.060 to 2015-02-28 17:52:41.060\n"
     ]
    },
    {
     "data": {
      "text/html": [
       "<text style=color:blue>Executing RB.A78 query function query_ee_u_dump_res_pm: 4/45.</text>"
      ],
      "text/plain": [
       "<IPython.core.display.HTML object>"
      ]
     },
     "metadata": {},
     "output_type": "display_data"
    },
    {
     "name": "stdout",
     "output_type": "stream",
     "text": [
      "\tQuerying PM event signal(s) RR77.RB.A78:U_DUMP_RES for system: QPS, className: DQAMSNRB, source: RR77.RB.A78 at 2015-02-28 17:36:01.358\n"
     ]
    },
    {
     "data": {
      "text/html": [
       "<text style=color:blue>Executing RB.A78 query function find_timestamp_pic: 5/45.</text>"
      ],
      "text/plain": [
       "<IPython.core.display.HTML object>"
      ]
     },
     "metadata": {},
     "output_type": "display_data"
    },
    {
     "name": "stdout",
     "output_type": "stream",
     "text": [
      "\tQuerying NXCALS signal(s) RB.A78.ODD:ST_ABORT_PIC, RB.A78.EVEN:ST_ABORT_PIC from 2015-02-28 17:36:00.060 to 2015-02-28 17:37:01.060\n"
     ]
    },
    {
     "data": {
      "text/html": [
       "<text style=color:blue>Executing RB.A78 query function find_source_timestamp_qds: 6/45.</text>"
      ],
      "text/plain": [
       "<IPython.core.display.HTML object>"
      ]
     },
     "metadata": {},
     "output_type": "display_data"
    },
    {
     "name": "stdout",
     "output_type": "stream",
     "text": [
      "\tQuerying PM event timestamps for system: QPS, className: DQAMCNMB_PMSTD, source: * from 2015-02-28 17:35:11.060 to 2015-02-28 17:44:21.060\n"
     ]
    },
    {
     "data": {
      "text/html": [
       "<text style=color:blue>Executing RB.A78 query function find_source_timestamp_ee: 1/45.</text>"
      ],
      "text/plain": [
       "<IPython.core.display.HTML object>"
      ]
     },
     "metadata": {},
     "output_type": "display_data"
    },
    {
     "name": "stdout",
     "output_type": "stream",
     "text": [
      "\tQuerying PM event timestamps for system: QPS, className: DQAMSNRB, source: UA83.RB.A78 from 2015-03-01 07:33:58.740 to 2015-03-01 07:50:48.740\n"
     ]
    },
    {
     "data": {
      "text/html": [
       "<text style=color:blue>Executing RB.A78 query function query_ee_u_dump_res_pm: 2/45.</text>"
      ],
      "text/plain": [
       "<IPython.core.display.HTML object>"
      ]
     },
     "metadata": {},
     "output_type": "display_data"
    },
    {
     "name": "stdout",
     "output_type": "stream",
     "text": [
      "\tQuerying PM event signal(s) UA83.RB.A78:U_DUMP_RES for system: QPS, className: DQAMSNRB, source: UA83.RB.A78 at 2015-03-01 07:34:09.293\n"
     ]
    },
    {
     "data": {
      "text/html": [
       "<text style=color:blue>Executing RB.A78 query function find_source_timestamp_ee: 3/45.</text>"
      ],
      "text/plain": [
       "<IPython.core.display.HTML object>"
      ]
     },
     "metadata": {},
     "output_type": "display_data"
    },
    {
     "name": "stdout",
     "output_type": "stream",
     "text": [
      "\tQuerying PM event timestamps for system: QPS, className: DQAMSNRB, source: RR77.RB.A78 from 2015-03-01 07:33:58.740 to 2015-03-01 07:50:48.740\n"
     ]
    },
    {
     "data": {
      "text/html": [
       "<text style=color:blue>Executing RB.A78 query function query_ee_u_dump_res_pm: 4/45.</text>"
      ],
      "text/plain": [
       "<IPython.core.display.HTML object>"
      ]
     },
     "metadata": {},
     "output_type": "display_data"
    },
    {
     "name": "stdout",
     "output_type": "stream",
     "text": [
      "\tQuerying PM event signal(s) RR77.RB.A78:U_DUMP_RES for system: QPS, className: DQAMSNRB, source: RR77.RB.A78 at 2015-03-01 07:34:09.033\n"
     ]
    },
    {
     "data": {
      "text/html": [
       "<text style=color:blue>Executing RB.A78 query function find_timestamp_pic: 5/45.</text>"
      ],
      "text/plain": [
       "<IPython.core.display.HTML object>"
      ]
     },
     "metadata": {},
     "output_type": "display_data"
    },
    {
     "name": "stdout",
     "output_type": "stream",
     "text": [
      "\tQuerying NXCALS signal(s) RB.A78.ODD:ST_ABORT_PIC, RB.A78.EVEN:ST_ABORT_PIC from 2015-03-01 07:34:07.740 to 2015-03-01 07:35:08.740\n"
     ]
    },
    {
     "data": {
      "text/html": [
       "<text style=color:blue>Executing RB.A78 query function find_source_timestamp_qds: 6/45.</text>"
      ],
      "text/plain": [
       "<IPython.core.display.HTML object>"
      ]
     },
     "metadata": {},
     "output_type": "display_data"
    },
    {
     "name": "stdout",
     "output_type": "stream",
     "text": [
      "\tQuerying PM event timestamps for system: QPS, className: DQAMCNMB_PMSTD, source: * from 2015-03-01 07:33:18.740 to 2015-03-01 07:42:28.740\n"
     ]
    },
    {
     "data": {
      "text/html": [
       "<text style=color:blue>Executing RB.A78 query function find_source_timestamp_ee: 1/45.</text>"
      ],
      "text/plain": [
       "<IPython.core.display.HTML object>"
      ]
     },
     "metadata": {},
     "output_type": "display_data"
    },
    {
     "name": "stdout",
     "output_type": "stream",
     "text": [
      "\tQuerying PM event timestamps for system: QPS, className: DQAMSNRB, source: UA83.RB.A78 from 2015-03-01 19:30:47.580 to 2015-03-01 19:47:37.580\n"
     ]
    },
    {
     "data": {
      "text/html": [
       "<text style=color:blue>Executing RB.A78 query function query_ee_u_dump_res_pm: 2/45.</text>"
      ],
      "text/plain": [
       "<IPython.core.display.HTML object>"
      ]
     },
     "metadata": {},
     "output_type": "display_data"
    },
    {
     "name": "stdout",
     "output_type": "stream",
     "text": [
      "\tQuerying PM event signal(s) UA83.RB.A78:U_DUMP_RES for system: QPS, className: DQAMSNRB, source: UA83.RB.A78 at 2015-03-01 19:30:58.129\n"
     ]
    },
    {
     "data": {
      "text/html": [
       "<text style=color:blue>Executing RB.A78 query function find_source_timestamp_ee: 3/45.</text>"
      ],
      "text/plain": [
       "<IPython.core.display.HTML object>"
      ]
     },
     "metadata": {},
     "output_type": "display_data"
    },
    {
     "name": "stdout",
     "output_type": "stream",
     "text": [
      "\tQuerying PM event timestamps for system: QPS, className: DQAMSNRB, source: RR77.RB.A78 from 2015-03-01 19:30:47.580 to 2015-03-01 19:47:37.580\n"
     ]
    },
    {
     "data": {
      "text/html": [
       "<text style=color:blue>Executing RB.A78 query function query_ee_u_dump_res_pm: 4/45.</text>"
      ],
      "text/plain": [
       "<IPython.core.display.HTML object>"
      ]
     },
     "metadata": {},
     "output_type": "display_data"
    },
    {
     "name": "stdout",
     "output_type": "stream",
     "text": [
      "\tQuerying PM event signal(s) RR77.RB.A78:U_DUMP_RES for system: QPS, className: DQAMSNRB, source: RR77.RB.A78 at 2015-03-01 19:30:57.869\n"
     ]
    },
    {
     "data": {
      "text/html": [
       "<text style=color:blue>Executing RB.A78 query function find_timestamp_pic: 5/45.</text>"
      ],
      "text/plain": [
       "<IPython.core.display.HTML object>"
      ]
     },
     "metadata": {},
     "output_type": "display_data"
    },
    {
     "name": "stdout",
     "output_type": "stream",
     "text": [
      "\tQuerying NXCALS signal(s) RB.A78.ODD:ST_ABORT_PIC, RB.A78.EVEN:ST_ABORT_PIC from 2015-03-01 19:30:56.580 to 2015-03-01 19:31:57.580\n"
     ]
    },
    {
     "data": {
      "text/html": [
       "<text style=color:blue>Executing RB.A78 query function find_source_timestamp_qds: 6/45.</text>"
      ],
      "text/plain": [
       "<IPython.core.display.HTML object>"
      ]
     },
     "metadata": {},
     "output_type": "display_data"
    },
    {
     "name": "stdout",
     "output_type": "stream",
     "text": [
      "\tQuerying PM event timestamps for system: QPS, className: DQAMCNMB_PMSTD, source: * from 2015-03-01 19:30:07.580 to 2015-03-01 19:39:17.580\n"
     ]
    },
    {
     "data": {
      "text/html": [
       "<text style=color:blue>Executing RB.A78 query function find_source_timestamp_ee: 1/45.</text>"
      ],
      "text/plain": [
       "<IPython.core.display.HTML object>"
      ]
     },
     "metadata": {},
     "output_type": "display_data"
    },
    {
     "name": "stdout",
     "output_type": "stream",
     "text": [
      "\tQuerying PM event timestamps for system: QPS, className: DQAMSNRB, source: UA83.RB.A78 from 2015-03-02 07:23:21.100 to 2015-03-02 07:40:11.100\n"
     ]
    },
    {
     "data": {
      "text/html": [
       "<text style=color:blue>Executing RB.A78 query function query_ee_u_dump_res_pm: 2/45.</text>"
      ],
      "text/plain": [
       "<IPython.core.display.HTML object>"
      ]
     },
     "metadata": {},
     "output_type": "display_data"
    },
    {
     "name": "stdout",
     "output_type": "stream",
     "text": [
      "\tQuerying PM event signal(s) UA83.RB.A78:U_DUMP_RES for system: QPS, className: DQAMSNRB, source: UA83.RB.A78 at 2015-03-02 07:23:31.647\n"
     ]
    },
    {
     "data": {
      "text/html": [
       "<text style=color:blue>Executing RB.A78 query function find_source_timestamp_ee: 3/45.</text>"
      ],
      "text/plain": [
       "<IPython.core.display.HTML object>"
      ]
     },
     "metadata": {},
     "output_type": "display_data"
    },
    {
     "name": "stdout",
     "output_type": "stream",
     "text": [
      "\tQuerying PM event timestamps for system: QPS, className: DQAMSNRB, source: RR77.RB.A78 from 2015-03-02 07:23:21.100 to 2015-03-02 07:40:11.100\n"
     ]
    },
    {
     "data": {
      "text/html": [
       "<text style=color:blue>Executing RB.A78 query function query_ee_u_dump_res_pm: 4/45.</text>"
      ],
      "text/plain": [
       "<IPython.core.display.HTML object>"
      ]
     },
     "metadata": {},
     "output_type": "display_data"
    },
    {
     "name": "stdout",
     "output_type": "stream",
     "text": [
      "\tQuerying PM event signal(s) RR77.RB.A78:U_DUMP_RES for system: QPS, className: DQAMSNRB, source: RR77.RB.A78 at 2015-03-02 07:23:31.390\n"
     ]
    },
    {
     "data": {
      "text/html": [
       "<text style=color:blue>Executing RB.A78 query function find_timestamp_pic: 5/45.</text>"
      ],
      "text/plain": [
       "<IPython.core.display.HTML object>"
      ]
     },
     "metadata": {},
     "output_type": "display_data"
    },
    {
     "name": "stdout",
     "output_type": "stream",
     "text": [
      "\tQuerying NXCALS signal(s) RB.A78.ODD:ST_ABORT_PIC, RB.A78.EVEN:ST_ABORT_PIC from 2015-03-02 07:23:30.100 to 2015-03-02 07:24:31.100\n"
     ]
    },
    {
     "data": {
      "text/html": [
       "<text style=color:blue>Executing RB.A78 query function find_source_timestamp_qds: 6/45.</text>"
      ],
      "text/plain": [
       "<IPython.core.display.HTML object>"
      ]
     },
     "metadata": {},
     "output_type": "display_data"
    },
    {
     "name": "stdout",
     "output_type": "stream",
     "text": [
      "\tQuerying PM event timestamps for system: QPS, className: DQAMCNMB_PMSTD, source: * from 2015-03-02 07:22:41.100 to 2015-03-02 07:31:51.100\n"
     ]
    },
    {
     "data": {
      "text/html": [
       "<text style=color:blue>Executing RB.A78 query function find_source_timestamp_ee: 1/45.</text>"
      ],
      "text/plain": [
       "<IPython.core.display.HTML object>"
      ]
     },
     "metadata": {},
     "output_type": "display_data"
    },
    {
     "name": "stdout",
     "output_type": "stream",
     "text": [
      "\tQuerying PM event timestamps for system: QPS, className: DQAMSNRB, source: UA83.RB.A78 from 2015-03-02 22:45:58.380 to 2015-03-02 23:02:48.380\n"
     ]
    },
    {
     "data": {
      "text/html": [
       "<text style=color:blue>Executing RB.A78 query function query_ee_u_dump_res_pm: 2/45.</text>"
      ],
      "text/plain": [
       "<IPython.core.display.HTML object>"
      ]
     },
     "metadata": {},
     "output_type": "display_data"
    },
    {
     "name": "stdout",
     "output_type": "stream",
     "text": [
      "\tQuerying PM event signal(s) UA83.RB.A78:U_DUMP_RES for system: QPS, className: DQAMSNRB, source: UA83.RB.A78 at 2015-03-02 22:46:08.939\n"
     ]
    },
    {
     "data": {
      "text/html": [
       "<text style=color:blue>Executing RB.A78 query function find_source_timestamp_ee: 3/45.</text>"
      ],
      "text/plain": [
       "<IPython.core.display.HTML object>"
      ]
     },
     "metadata": {},
     "output_type": "display_data"
    },
    {
     "name": "stdout",
     "output_type": "stream",
     "text": [
      "\tQuerying PM event timestamps for system: QPS, className: DQAMSNRB, source: RR77.RB.A78 from 2015-03-02 22:45:58.380 to 2015-03-02 23:02:48.380\n"
     ]
    },
    {
     "data": {
      "text/html": [
       "<text style=color:blue>Executing RB.A78 query function query_ee_u_dump_res_pm: 4/45.</text>"
      ],
      "text/plain": [
       "<IPython.core.display.HTML object>"
      ]
     },
     "metadata": {},
     "output_type": "display_data"
    },
    {
     "name": "stdout",
     "output_type": "stream",
     "text": [
      "\tQuerying PM event signal(s) RR77.RB.A78:U_DUMP_RES for system: QPS, className: DQAMSNRB, source: RR77.RB.A78 at 2015-03-02 22:46:08.680\n"
     ]
    },
    {
     "data": {
      "text/html": [
       "<text style=color:blue>Executing RB.A78 query function find_timestamp_pic: 5/45.</text>"
      ],
      "text/plain": [
       "<IPython.core.display.HTML object>"
      ]
     },
     "metadata": {},
     "output_type": "display_data"
    },
    {
     "name": "stdout",
     "output_type": "stream",
     "text": [
      "\tQuerying NXCALS signal(s) RB.A78.ODD:ST_ABORT_PIC, RB.A78.EVEN:ST_ABORT_PIC from 2015-03-02 22:46:07.380 to 2015-03-02 22:47:08.380\n"
     ]
    },
    {
     "data": {
      "text/html": [
       "<text style=color:blue>Executing RB.A78 query function find_source_timestamp_qds: 6/45.</text>"
      ],
      "text/plain": [
       "<IPython.core.display.HTML object>"
      ]
     },
     "metadata": {},
     "output_type": "display_data"
    },
    {
     "name": "stdout",
     "output_type": "stream",
     "text": [
      "\tQuerying PM event timestamps for system: QPS, className: DQAMCNMB_PMSTD, source: * from 2015-03-02 22:45:18.380 to 2015-03-02 22:54:28.380\n"
     ]
    },
    {
     "data": {
      "text/html": [
       "<text style=color:blue>Executing RB.A78 query function find_source_timestamp_ee: 1/45.</text>"
      ],
      "text/plain": [
       "<IPython.core.display.HTML object>"
      ]
     },
     "metadata": {},
     "output_type": "display_data"
    },
    {
     "name": "stdout",
     "output_type": "stream",
     "text": [
      "\tQuerying PM event timestamps for system: QPS, className: DQAMSNRB, source: UA83.RB.A78 from 2015-03-03 09:18:33.720 to 2015-03-03 09:35:23.720\n"
     ]
    },
    {
     "data": {
      "text/html": [
       "<text style=color:blue>Executing RB.A78 query function query_ee_u_dump_res_pm: 2/45.</text>"
      ],
      "text/plain": [
       "<IPython.core.display.HTML object>"
      ]
     },
     "metadata": {},
     "output_type": "display_data"
    },
    {
     "name": "stdout",
     "output_type": "stream",
     "text": [
      "\tQuerying PM event signal(s) UA83.RB.A78:U_DUMP_RES for system: QPS, className: DQAMSNRB, source: UA83.RB.A78 at 2015-03-03 09:18:44.273\n"
     ]
    },
    {
     "data": {
      "text/html": [
       "<text style=color:blue>Executing RB.A78 query function find_source_timestamp_ee: 3/45.</text>"
      ],
      "text/plain": [
       "<IPython.core.display.HTML object>"
      ]
     },
     "metadata": {},
     "output_type": "display_data"
    },
    {
     "name": "stdout",
     "output_type": "stream",
     "text": [
      "\tQuerying PM event timestamps for system: QPS, className: DQAMSNRB, source: RR77.RB.A78 from 2015-03-03 09:18:33.720 to 2015-03-03 09:35:23.720\n"
     ]
    },
    {
     "data": {
      "text/html": [
       "<text style=color:blue>Executing RB.A78 query function query_ee_u_dump_res_pm: 4/45.</text>"
      ],
      "text/plain": [
       "<IPython.core.display.HTML object>"
      ]
     },
     "metadata": {},
     "output_type": "display_data"
    },
    {
     "name": "stdout",
     "output_type": "stream",
     "text": [
      "\tQuerying PM event signal(s) RR77.RB.A78:U_DUMP_RES for system: QPS, className: DQAMSNRB, source: RR77.RB.A78 at 2015-03-03 09:18:44.014\n"
     ]
    },
    {
     "data": {
      "text/html": [
       "<text style=color:blue>Executing RB.A78 query function find_timestamp_pic: 5/45.</text>"
      ],
      "text/plain": [
       "<IPython.core.display.HTML object>"
      ]
     },
     "metadata": {},
     "output_type": "display_data"
    },
    {
     "name": "stdout",
     "output_type": "stream",
     "text": [
      "\tQuerying NXCALS signal(s) RB.A78.ODD:ST_ABORT_PIC, RB.A78.EVEN:ST_ABORT_PIC from 2015-03-03 09:18:42.720 to 2015-03-03 09:19:43.720\n"
     ]
    },
    {
     "data": {
      "text/html": [
       "<text style=color:blue>Executing RB.A78 query function find_source_timestamp_qds: 6/45.</text>"
      ],
      "text/plain": [
       "<IPython.core.display.HTML object>"
      ]
     },
     "metadata": {},
     "output_type": "display_data"
    },
    {
     "name": "stdout",
     "output_type": "stream",
     "text": [
      "\tQuerying PM event timestamps for system: QPS, className: DQAMCNMB_PMSTD, source: * from 2015-03-03 09:17:53.720 to 2015-03-03 09:27:03.720\n"
     ]
    },
    {
     "data": {
      "text/html": [
       "<text style=color:blue>Executing RB.A78 query function find_source_timestamp_ee: 1/45.</text>"
      ],
      "text/plain": [
       "<IPython.core.display.HTML object>"
      ]
     },
     "metadata": {},
     "output_type": "display_data"
    },
    {
     "name": "stdout",
     "output_type": "stream",
     "text": [
      "\tQuerying PM event timestamps for system: QPS, className: DQAMSNRB, source: UA83.RB.A78 from 2015-03-04 07:53:24.300 to 2015-03-04 08:10:14.300\n"
     ]
    },
    {
     "data": {
      "text/html": [
       "<text style=color:blue>Executing RB.A78 query function query_ee_u_dump_res_pm: 2/45.</text>"
      ],
      "text/plain": [
       "<IPython.core.display.HTML object>"
      ]
     },
     "metadata": {},
     "output_type": "display_data"
    },
    {
     "name": "stdout",
     "output_type": "stream",
     "text": [
      "\tQuerying PM event signal(s) UA83.RB.A78:U_DUMP_RES for system: QPS, className: DQAMSNRB, source: UA83.RB.A78 at 2015-03-04 07:53:34.851\n"
     ]
    },
    {
     "data": {
      "text/html": [
       "<text style=color:blue>Executing RB.A78 query function find_source_timestamp_ee: 3/45.</text>"
      ],
      "text/plain": [
       "<IPython.core.display.HTML object>"
      ]
     },
     "metadata": {},
     "output_type": "display_data"
    },
    {
     "name": "stdout",
     "output_type": "stream",
     "text": [
      "\tQuerying PM event timestamps for system: QPS, className: DQAMSNRB, source: RR77.RB.A78 from 2015-03-04 07:53:24.300 to 2015-03-04 08:10:14.300\n"
     ]
    },
    {
     "data": {
      "text/html": [
       "<text style=color:blue>Executing RB.A78 query function query_ee_u_dump_res_pm: 4/45.</text>"
      ],
      "text/plain": [
       "<IPython.core.display.HTML object>"
      ]
     },
     "metadata": {},
     "output_type": "display_data"
    },
    {
     "name": "stdout",
     "output_type": "stream",
     "text": [
      "\tQuerying PM event signal(s) RR77.RB.A78:U_DUMP_RES for system: QPS, className: DQAMSNRB, source: RR77.RB.A78 at 2015-03-04 07:53:34.595\n"
     ]
    },
    {
     "data": {
      "text/html": [
       "<text style=color:blue>Executing RB.A78 query function find_timestamp_pic: 5/45.</text>"
      ],
      "text/plain": [
       "<IPython.core.display.HTML object>"
      ]
     },
     "metadata": {},
     "output_type": "display_data"
    },
    {
     "name": "stdout",
     "output_type": "stream",
     "text": [
      "\tQuerying NXCALS signal(s) RB.A78.ODD:ST_ABORT_PIC, RB.A78.EVEN:ST_ABORT_PIC from 2015-03-04 07:53:33.300 to 2015-03-04 07:54:34.300\n"
     ]
    },
    {
     "data": {
      "text/html": [
       "<text style=color:blue>Executing RB.A78 query function find_source_timestamp_qds: 6/45.</text>"
      ],
      "text/plain": [
       "<IPython.core.display.HTML object>"
      ]
     },
     "metadata": {},
     "output_type": "display_data"
    },
    {
     "name": "stdout",
     "output_type": "stream",
     "text": [
      "\tQuerying PM event timestamps for system: QPS, className: DQAMCNMB_PMSTD, source: * from 2015-03-04 07:52:44.300 to 2015-03-04 08:01:54.300\n"
     ]
    },
    {
     "data": {
      "text/html": [
       "<text style=color:blue>Executing RB.A78 query function find_source_timestamp_ee: 1/45.</text>"
      ],
      "text/plain": [
       "<IPython.core.display.HTML object>"
      ]
     },
     "metadata": {},
     "output_type": "display_data"
    },
    {
     "name": "stdout",
     "output_type": "stream",
     "text": [
      "\tQuerying PM event timestamps for system: QPS, className: DQAMSNRB, source: UA83.RB.A78 from 2015-03-05 00:48:35.040 to 2015-03-05 01:05:25.040\n"
     ]
    },
    {
     "data": {
      "text/html": [
       "<text style=color:blue>Executing RB.A78 query function query_ee_u_dump_res_pm: 2/45.</text>"
      ],
      "text/plain": [
       "<IPython.core.display.HTML object>"
      ]
     },
     "metadata": {},
     "output_type": "display_data"
    },
    {
     "name": "stdout",
     "output_type": "stream",
     "text": [
      "\tQuerying PM event signal(s) UA83.RB.A78:U_DUMP_RES for system: QPS, className: DQAMSNRB, source: UA83.RB.A78 at 2015-03-05 00:48:45.592\n"
     ]
    },
    {
     "data": {
      "text/html": [
       "<text style=color:blue>Executing RB.A78 query function find_source_timestamp_ee: 3/45.</text>"
      ],
      "text/plain": [
       "<IPython.core.display.HTML object>"
      ]
     },
     "metadata": {},
     "output_type": "display_data"
    },
    {
     "name": "stdout",
     "output_type": "stream",
     "text": [
      "\tQuerying PM event timestamps for system: QPS, className: DQAMSNRB, source: RR77.RB.A78 from 2015-03-05 00:48:35.040 to 2015-03-05 01:05:25.040\n"
     ]
    },
    {
     "data": {
      "text/html": [
       "<text style=color:blue>Executing RB.A78 query function query_ee_u_dump_res_pm: 4/45.</text>"
      ],
      "text/plain": [
       "<IPython.core.display.HTML object>"
      ]
     },
     "metadata": {},
     "output_type": "display_data"
    },
    {
     "name": "stdout",
     "output_type": "stream",
     "text": [
      "\tQuerying PM event signal(s) RR77.RB.A78:U_DUMP_RES for system: QPS, className: DQAMSNRB, source: RR77.RB.A78 at 2015-03-05 00:48:45.334\n"
     ]
    },
    {
     "data": {
      "text/html": [
       "<text style=color:blue>Executing RB.A78 query function find_timestamp_pic: 5/45.</text>"
      ],
      "text/plain": [
       "<IPython.core.display.HTML object>"
      ]
     },
     "metadata": {},
     "output_type": "display_data"
    },
    {
     "name": "stdout",
     "output_type": "stream",
     "text": [
      "\tQuerying NXCALS signal(s) RB.A78.ODD:ST_ABORT_PIC, RB.A78.EVEN:ST_ABORT_PIC from 2015-03-05 00:48:44.040 to 2015-03-05 00:49:45.040\n"
     ]
    },
    {
     "data": {
      "text/html": [
       "<text style=color:blue>Executing RB.A78 query function find_source_timestamp_qds: 6/45.</text>"
      ],
      "text/plain": [
       "<IPython.core.display.HTML object>"
      ]
     },
     "metadata": {},
     "output_type": "display_data"
    },
    {
     "name": "stdout",
     "output_type": "stream",
     "text": [
      "\tQuerying PM event timestamps for system: QPS, className: DQAMCNMB_PMSTD, source: * from 2015-03-05 00:47:55.040 to 2015-03-05 00:57:05.040\n"
     ]
    },
    {
     "data": {
      "text/html": [
       "<text style=color:blue>Executing RB.A78 query function find_source_timestamp_ee: 1/45.</text>"
      ],
      "text/plain": [
       "<IPython.core.display.HTML object>"
      ]
     },
     "metadata": {},
     "output_type": "display_data"
    },
    {
     "name": "stdout",
     "output_type": "stream",
     "text": [
      "\tQuerying PM event timestamps for system: QPS, className: DQAMSNRB, source: UA83.RB.A78 from 2015-03-05 09:22:52.840 to 2015-03-05 09:39:42.840\n"
     ]
    },
    {
     "data": {
      "text/html": [
       "<text style=color:blue>Executing RB.A78 query function query_ee_u_dump_res_pm: 2/45.</text>"
      ],
      "text/plain": [
       "<IPython.core.display.HTML object>"
      ]
     },
     "metadata": {},
     "output_type": "display_data"
    },
    {
     "name": "stdout",
     "output_type": "stream",
     "text": [
      "\tQuerying PM event signal(s) UA83.RB.A78:U_DUMP_RES for system: QPS, className: DQAMSNRB, source: UA83.RB.A78 at 2015-03-05 09:23:03.401\n"
     ]
    },
    {
     "data": {
      "text/html": [
       "<text style=color:blue>Executing RB.A78 query function find_source_timestamp_ee: 3/45.</text>"
      ],
      "text/plain": [
       "<IPython.core.display.HTML object>"
      ]
     },
     "metadata": {},
     "output_type": "display_data"
    },
    {
     "name": "stdout",
     "output_type": "stream",
     "text": [
      "\tQuerying PM event timestamps for system: QPS, className: DQAMSNRB, source: RR77.RB.A78 from 2015-03-05 09:22:52.840 to 2015-03-05 09:39:42.840\n"
     ]
    },
    {
     "data": {
      "text/html": [
       "<text style=color:blue>Executing RB.A78 query function query_ee_u_dump_res_pm: 4/45.</text>"
      ],
      "text/plain": [
       "<IPython.core.display.HTML object>"
      ]
     },
     "metadata": {},
     "output_type": "display_data"
    },
    {
     "name": "stdout",
     "output_type": "stream",
     "text": [
      "\tQuerying PM event signal(s) RR77.RB.A78:U_DUMP_RES for system: QPS, className: DQAMSNRB, source: RR77.RB.A78 at 2015-03-05 09:23:03.143\n"
     ]
    },
    {
     "data": {
      "text/html": [
       "<text style=color:blue>Executing RB.A78 query function find_timestamp_pic: 5/45.</text>"
      ],
      "text/plain": [
       "<IPython.core.display.HTML object>"
      ]
     },
     "metadata": {},
     "output_type": "display_data"
    },
    {
     "name": "stdout",
     "output_type": "stream",
     "text": [
      "\tQuerying NXCALS signal(s) RB.A78.ODD:ST_ABORT_PIC, RB.A78.EVEN:ST_ABORT_PIC from 2015-03-05 09:23:01.840 to 2015-03-05 09:24:02.840\n"
     ]
    },
    {
     "data": {
      "text/html": [
       "<text style=color:blue>Executing RB.A78 query function find_source_timestamp_qds: 6/45.</text>"
      ],
      "text/plain": [
       "<IPython.core.display.HTML object>"
      ]
     },
     "metadata": {},
     "output_type": "display_data"
    },
    {
     "name": "stdout",
     "output_type": "stream",
     "text": [
      "\tQuerying PM event timestamps for system: QPS, className: DQAMCNMB_PMSTD, source: * from 2015-03-05 09:22:12.840 to 2015-03-05 09:31:22.840\n"
     ]
    },
    {
     "data": {
      "text/html": [
       "<text style=color:blue>Executing RB.A78 query function find_source_timestamp_ee: 1/45.</text>"
      ],
      "text/plain": [
       "<IPython.core.display.HTML object>"
      ]
     },
     "metadata": {},
     "output_type": "display_data"
    },
    {
     "name": "stdout",
     "output_type": "stream",
     "text": [
      "\tQuerying PM event timestamps for system: QPS, className: DQAMSNRB, source: UA83.RB.A78 from 2015-03-09 06:50:50.660 to 2015-03-09 07:07:40.660\n"
     ]
    },
    {
     "data": {
      "text/html": [
       "<text style=color:blue>Executing RB.A78 query function query_ee_u_dump_res_pm: 2/45.</text>"
      ],
      "text/plain": [
       "<IPython.core.display.HTML object>"
      ]
     },
     "metadata": {},
     "output_type": "display_data"
    },
    {
     "name": "stdout",
     "output_type": "stream",
     "text": [
      "\tQuerying PM event signal(s) UA83.RB.A78:U_DUMP_RES for system: QPS, className: DQAMSNRB, source: UA83.RB.A78 at 2015-03-09 06:51:01.203\n"
     ]
    },
    {
     "data": {
      "text/html": [
       "<text style=color:blue>Executing RB.A78 query function find_source_timestamp_ee: 3/45.</text>"
      ],
      "text/plain": [
       "<IPython.core.display.HTML object>"
      ]
     },
     "metadata": {},
     "output_type": "display_data"
    },
    {
     "name": "stdout",
     "output_type": "stream",
     "text": [
      "\tQuerying PM event timestamps for system: QPS, className: DQAMSNRB, source: RR77.RB.A78 from 2015-03-09 06:50:50.660 to 2015-03-09 07:07:40.660\n"
     ]
    },
    {
     "data": {
      "text/html": [
       "<text style=color:blue>Executing RB.A78 query function query_ee_u_dump_res_pm: 4/45.</text>"
      ],
      "text/plain": [
       "<IPython.core.display.HTML object>"
      ]
     },
     "metadata": {},
     "output_type": "display_data"
    },
    {
     "name": "stdout",
     "output_type": "stream",
     "text": [
      "\tQuerying PM event signal(s) RR77.RB.A78:U_DUMP_RES for system: QPS, className: DQAMSNRB, source: RR77.RB.A78 at 2015-03-09 06:51:00.948\n"
     ]
    },
    {
     "data": {
      "text/html": [
       "<text style=color:blue>Executing RB.A78 query function find_timestamp_pic: 5/45.</text>"
      ],
      "text/plain": [
       "<IPython.core.display.HTML object>"
      ]
     },
     "metadata": {},
     "output_type": "display_data"
    },
    {
     "name": "stdout",
     "output_type": "stream",
     "text": [
      "\tQuerying NXCALS signal(s) RB.A78.ODD:ST_ABORT_PIC, RB.A78.EVEN:ST_ABORT_PIC from 2015-03-09 06:50:59.660 to 2015-03-09 06:52:00.660\n"
     ]
    },
    {
     "data": {
      "text/html": [
       "<text style=color:blue>Executing RB.A78 query function find_source_timestamp_qds: 6/45.</text>"
      ],
      "text/plain": [
       "<IPython.core.display.HTML object>"
      ]
     },
     "metadata": {},
     "output_type": "display_data"
    },
    {
     "name": "stdout",
     "output_type": "stream",
     "text": [
      "\tQuerying PM event timestamps for system: QPS, className: DQAMCNMB_PMSTD, source: * from 2015-03-09 06:50:10.660 to 2015-03-09 06:59:20.660\n"
     ]
    },
    {
     "data": {
      "text/html": [
       "<text style=color:blue>Executing RB.A78 query function find_source_timestamp_ee: 1/45.</text>"
      ],
      "text/plain": [
       "<IPython.core.display.HTML object>"
      ]
     },
     "metadata": {},
     "output_type": "display_data"
    },
    {
     "name": "stdout",
     "output_type": "stream",
     "text": [
      "\tQuerying PM event timestamps for system: QPS, className: DQAMSNRB, source: UA83.RB.A78 from 2015-03-09 16:35:36.400 to 2015-03-09 16:52:26.400\n"
     ]
    },
    {
     "data": {
      "text/html": [
       "<text style=color:blue>Executing RB.A78 query function query_ee_u_dump_res_pm: 2/45.</text>"
      ],
      "text/plain": [
       "<IPython.core.display.HTML object>"
      ]
     },
     "metadata": {},
     "output_type": "display_data"
    },
    {
     "name": "stdout",
     "output_type": "stream",
     "text": [
      "\tQuerying PM event signal(s) UA83.RB.A78:U_DUMP_RES for system: QPS, className: DQAMSNRB, source: UA83.RB.A78 at 2015-03-09 16:35:46.955\n"
     ]
    },
    {
     "data": {
      "text/html": [
       "<text style=color:blue>Executing RB.A78 query function find_source_timestamp_ee: 3/45.</text>"
      ],
      "text/plain": [
       "<IPython.core.display.HTML object>"
      ]
     },
     "metadata": {},
     "output_type": "display_data"
    },
    {
     "name": "stdout",
     "output_type": "stream",
     "text": [
      "\tQuerying PM event timestamps for system: QPS, className: DQAMSNRB, source: RR77.RB.A78 from 2015-03-09 16:35:36.400 to 2015-03-09 16:52:26.400\n"
     ]
    },
    {
     "data": {
      "text/html": [
       "<text style=color:blue>Executing RB.A78 query function query_ee_u_dump_res_pm: 4/45.</text>"
      ],
      "text/plain": [
       "<IPython.core.display.HTML object>"
      ]
     },
     "metadata": {},
     "output_type": "display_data"
    },
    {
     "name": "stdout",
     "output_type": "stream",
     "text": [
      "\tQuerying PM event signal(s) RR77.RB.A78:U_DUMP_RES for system: QPS, className: DQAMSNRB, source: RR77.RB.A78 at 2015-03-09 16:35:46.696\n"
     ]
    },
    {
     "data": {
      "text/html": [
       "<text style=color:blue>Executing RB.A78 query function find_timestamp_pic: 5/45.</text>"
      ],
      "text/plain": [
       "<IPython.core.display.HTML object>"
      ]
     },
     "metadata": {},
     "output_type": "display_data"
    },
    {
     "name": "stdout",
     "output_type": "stream",
     "text": [
      "\tQuerying NXCALS signal(s) RB.A78.ODD:ST_ABORT_PIC, RB.A78.EVEN:ST_ABORT_PIC from 2015-03-09 16:35:45.400 to 2015-03-09 16:36:46.400\n"
     ]
    },
    {
     "data": {
      "text/html": [
       "<text style=color:blue>Executing RB.A78 query function find_source_timestamp_qds: 6/45.</text>"
      ],
      "text/plain": [
       "<IPython.core.display.HTML object>"
      ]
     },
     "metadata": {},
     "output_type": "display_data"
    },
    {
     "name": "stdout",
     "output_type": "stream",
     "text": [
      "\tQuerying PM event timestamps for system: QPS, className: DQAMCNMB_PMSTD, source: * from 2015-03-09 16:34:56.400 to 2015-03-09 16:44:06.400\n"
     ]
    },
    {
     "data": {
      "text/html": [
       "<text style=color:blue>Executing RB.A78 query function find_source_timestamp_ee: 1/45.</text>"
      ],
      "text/plain": [
       "<IPython.core.display.HTML object>"
      ]
     },
     "metadata": {},
     "output_type": "display_data"
    },
    {
     "name": "stdout",
     "output_type": "stream",
     "text": [
      "\tQuerying PM event timestamps for system: QPS, className: DQAMSNRB, source: UA83.RB.A78 from 2015-03-10 01:22:09.820 to 2015-03-10 01:38:59.820\n"
     ]
    },
    {
     "data": {
      "text/html": [
       "<text style=color:blue>Executing RB.A78 query function query_ee_u_dump_res_pm: 2/45.</text>"
      ],
      "text/plain": [
       "<IPython.core.display.HTML object>"
      ]
     },
     "metadata": {},
     "output_type": "display_data"
    },
    {
     "name": "stdout",
     "output_type": "stream",
     "text": [
      "\tQuerying PM event signal(s) UA83.RB.A78:U_DUMP_RES for system: QPS, className: DQAMSNRB, source: UA83.RB.A78 at 2015-03-10 01:22:20.384\n"
     ]
    },
    {
     "data": {
      "text/html": [
       "<text style=color:blue>Executing RB.A78 query function find_source_timestamp_ee: 3/45.</text>"
      ],
      "text/plain": [
       "<IPython.core.display.HTML object>"
      ]
     },
     "metadata": {},
     "output_type": "display_data"
    },
    {
     "name": "stdout",
     "output_type": "stream",
     "text": [
      "\tQuerying PM event timestamps for system: QPS, className: DQAMSNRB, source: RR77.RB.A78 from 2015-03-10 01:22:09.820 to 2015-03-10 01:38:59.820\n"
     ]
    },
    {
     "data": {
      "text/html": [
       "<text style=color:blue>Executing RB.A78 query function query_ee_u_dump_res_pm: 4/45.</text>"
      ],
      "text/plain": [
       "<IPython.core.display.HTML object>"
      ]
     },
     "metadata": {},
     "output_type": "display_data"
    },
    {
     "name": "stdout",
     "output_type": "stream",
     "text": [
      "\tQuerying PM event signal(s) RR77.RB.A78:U_DUMP_RES for system: QPS, className: DQAMSNRB, source: RR77.RB.A78 at 2015-03-10 01:22:20.124\n"
     ]
    },
    {
     "data": {
      "text/html": [
       "<text style=color:blue>Executing RB.A78 query function find_timestamp_pic: 5/45.</text>"
      ],
      "text/plain": [
       "<IPython.core.display.HTML object>"
      ]
     },
     "metadata": {},
     "output_type": "display_data"
    },
    {
     "name": "stdout",
     "output_type": "stream",
     "text": [
      "\tQuerying NXCALS signal(s) RB.A78.ODD:ST_ABORT_PIC, RB.A78.EVEN:ST_ABORT_PIC from 2015-03-10 01:22:18.820 to 2015-03-10 01:23:19.820\n"
     ]
    },
    {
     "data": {
      "text/html": [
       "<text style=color:blue>Executing RB.A78 query function find_source_timestamp_qds: 6/45.</text>"
      ],
      "text/plain": [
       "<IPython.core.display.HTML object>"
      ]
     },
     "metadata": {},
     "output_type": "display_data"
    },
    {
     "name": "stdout",
     "output_type": "stream",
     "text": [
      "\tQuerying PM event timestamps for system: QPS, className: DQAMCNMB_PMSTD, source: * from 2015-03-10 01:21:29.820 to 2015-03-10 01:30:39.820\n"
     ]
    },
    {
     "data": {
      "text/html": [
       "<text style=color:blue>Executing RB.A78 query function find_source_timestamp_ee: 1/45.</text>"
      ],
      "text/plain": [
       "<IPython.core.display.HTML object>"
      ]
     },
     "metadata": {},
     "output_type": "display_data"
    },
    {
     "name": "stdout",
     "output_type": "stream",
     "text": [
      "\tQuerying PM event timestamps for system: QPS, className: DQAMSNRB, source: UA83.RB.A78 from 2015-03-11 21:58:50.760 to 2015-03-11 22:15:40.760\n"
     ]
    },
    {
     "data": {
      "text/html": [
       "<text style=color:blue>Executing RB.A78 query function query_ee_u_dump_res_pm: 2/45.</text>"
      ],
      "text/plain": [
       "<IPython.core.display.HTML object>"
      ]
     },
     "metadata": {},
     "output_type": "display_data"
    },
    {
     "name": "stdout",
     "output_type": "stream",
     "text": [
      "\tQuerying PM event signal(s) UA83.RB.A78:U_DUMP_RES for system: QPS, className: DQAMSNRB, source: UA83.RB.A78 at 2015-03-11 21:59:01.315\n"
     ]
    },
    {
     "data": {
      "text/html": [
       "<text style=color:blue>Executing RB.A78 query function find_source_timestamp_ee: 3/45.</text>"
      ],
      "text/plain": [
       "<IPython.core.display.HTML object>"
      ]
     },
     "metadata": {},
     "output_type": "display_data"
    },
    {
     "name": "stdout",
     "output_type": "stream",
     "text": [
      "\tQuerying PM event timestamps for system: QPS, className: DQAMSNRB, source: RR77.RB.A78 from 2015-03-11 21:58:50.760 to 2015-03-11 22:15:40.760\n"
     ]
    },
    {
     "data": {
      "text/html": [
       "<text style=color:blue>Executing RB.A78 query function query_ee_u_dump_res_pm: 4/45.</text>"
      ],
      "text/plain": [
       "<IPython.core.display.HTML object>"
      ]
     },
     "metadata": {},
     "output_type": "display_data"
    },
    {
     "name": "stdout",
     "output_type": "stream",
     "text": [
      "\tQuerying PM event signal(s) RR77.RB.A78:U_DUMP_RES for system: QPS, className: DQAMSNRB, source: RR77.RB.A78 at 2015-03-11 21:59:01.055\n"
     ]
    },
    {
     "data": {
      "text/html": [
       "<text style=color:blue>Executing RB.A78 query function find_timestamp_pic: 5/45.</text>"
      ],
      "text/plain": [
       "<IPython.core.display.HTML object>"
      ]
     },
     "metadata": {},
     "output_type": "display_data"
    },
    {
     "name": "stdout",
     "output_type": "stream",
     "text": [
      "\tQuerying NXCALS signal(s) RB.A78.ODD:ST_ABORT_PIC, RB.A78.EVEN:ST_ABORT_PIC from 2015-03-11 21:58:59.760 to 2015-03-11 22:00:00.760\n"
     ]
    },
    {
     "data": {
      "text/html": [
       "<text style=color:blue>Executing RB.A78 query function find_source_timestamp_qds: 6/45.</text>"
      ],
      "text/plain": [
       "<IPython.core.display.HTML object>"
      ]
     },
     "metadata": {},
     "output_type": "display_data"
    },
    {
     "name": "stdout",
     "output_type": "stream",
     "text": [
      "\tQuerying PM event timestamps for system: QPS, className: DQAMCNMB_PMSTD, source: * from 2015-03-11 21:58:10.760 to 2015-03-11 22:07:20.760\n"
     ]
    },
    {
     "data": {
      "text/html": [
       "<text style=color:blue>Executing RB.A78 query function find_source_timestamp_ee: 1/45.</text>"
      ],
      "text/plain": [
       "<IPython.core.display.HTML object>"
      ]
     },
     "metadata": {},
     "output_type": "display_data"
    },
    {
     "name": "stdout",
     "output_type": "stream",
     "text": [
      "\tQuerying PM event timestamps for system: QPS, className: DQAMSNRB, source: UA83.RB.A78 from 2015-03-13 15:58:26.320 to 2015-03-13 16:15:16.320\n"
     ]
    },
    {
     "data": {
      "text/html": [
       "<text style=color:blue>Executing RB.A78 query function query_ee_u_dump_res_pm: 2/45.</text>"
      ],
      "text/plain": [
       "<IPython.core.display.HTML object>"
      ]
     },
     "metadata": {},
     "output_type": "display_data"
    },
    {
     "name": "stdout",
     "output_type": "stream",
     "text": [
      "\tQuerying PM event signal(s) UA83.RB.A78:U_DUMP_RES for system: QPS, className: DQAMSNRB, source: UA83.RB.A78 at 2015-03-13 15:58:36.869\n"
     ]
    },
    {
     "data": {
      "text/html": [
       "<text style=color:blue>Executing RB.A78 query function find_source_timestamp_ee: 3/45.</text>"
      ],
      "text/plain": [
       "<IPython.core.display.HTML object>"
      ]
     },
     "metadata": {},
     "output_type": "display_data"
    },
    {
     "name": "stdout",
     "output_type": "stream",
     "text": [
      "\tQuerying PM event timestamps for system: QPS, className: DQAMSNRB, source: RR77.RB.A78 from 2015-03-13 15:58:26.320 to 2015-03-13 16:15:16.320\n"
     ]
    },
    {
     "data": {
      "text/html": [
       "<text style=color:blue>Executing RB.A78 query function query_ee_u_dump_res_pm: 4/45.</text>"
      ],
      "text/plain": [
       "<IPython.core.display.HTML object>"
      ]
     },
     "metadata": {},
     "output_type": "display_data"
    },
    {
     "name": "stdout",
     "output_type": "stream",
     "text": [
      "\tQuerying PM event signal(s) RR77.RB.A78:U_DUMP_RES for system: QPS, className: DQAMSNRB, source: RR77.RB.A78 at 2015-03-13 15:58:36.608\n"
     ]
    },
    {
     "data": {
      "text/html": [
       "<text style=color:blue>Executing RB.A78 query function find_timestamp_pic: 5/45.</text>"
      ],
      "text/plain": [
       "<IPython.core.display.HTML object>"
      ]
     },
     "metadata": {},
     "output_type": "display_data"
    },
    {
     "name": "stdout",
     "output_type": "stream",
     "text": [
      "\tQuerying NXCALS signal(s) RB.A78.ODD:ST_ABORT_PIC, RB.A78.EVEN:ST_ABORT_PIC from 2015-03-13 15:58:35.320 to 2015-03-13 15:59:36.320\n"
     ]
    },
    {
     "data": {
      "text/html": [
       "<text style=color:blue>Executing RB.A78 query function find_source_timestamp_qds: 6/45.</text>"
      ],
      "text/plain": [
       "<IPython.core.display.HTML object>"
      ]
     },
     "metadata": {},
     "output_type": "display_data"
    },
    {
     "name": "stdout",
     "output_type": "stream",
     "text": [
      "\tQuerying PM event timestamps for system: QPS, className: DQAMCNMB_PMSTD, source: * from 2015-03-13 15:57:46.320 to 2015-03-13 16:06:56.320\n"
     ]
    },
    {
     "data": {
      "text/html": [
       "<text style=color:blue>Executing RB.A78 query function find_source_timestamp_ee: 1/45.</text>"
      ],
      "text/plain": [
       "<IPython.core.display.HTML object>"
      ]
     },
     "metadata": {},
     "output_type": "display_data"
    },
    {
     "name": "stdout",
     "output_type": "stream",
     "text": [
      "\tQuerying PM event timestamps for system: QPS, className: DQAMSNRB, source: UA83.RB.A78 from 2015-03-14 07:43:35.080 to 2015-03-14 08:00:25.080\n"
     ]
    },
    {
     "data": {
      "text/html": [
       "<text style=color:blue>Executing RB.A78 query function query_ee_u_dump_res_pm: 2/45.</text>"
      ],
      "text/plain": [
       "<IPython.core.display.HTML object>"
      ]
     },
     "metadata": {},
     "output_type": "display_data"
    },
    {
     "name": "stdout",
     "output_type": "stream",
     "text": [
      "\tQuerying PM event signal(s) UA83.RB.A78:U_DUMP_RES for system: QPS, className: DQAMSNRB, source: UA83.RB.A78 at 2015-03-14 07:43:45.635\n"
     ]
    },
    {
     "data": {
      "text/html": [
       "<text style=color:blue>Executing RB.A78 query function find_source_timestamp_ee: 3/45.</text>"
      ],
      "text/plain": [
       "<IPython.core.display.HTML object>"
      ]
     },
     "metadata": {},
     "output_type": "display_data"
    },
    {
     "name": "stdout",
     "output_type": "stream",
     "text": [
      "\tQuerying PM event timestamps for system: QPS, className: DQAMSNRB, source: RR77.RB.A78 from 2015-03-14 07:43:35.080 to 2015-03-14 08:00:25.080\n"
     ]
    },
    {
     "data": {
      "text/html": [
       "<text style=color:blue>Executing RB.A78 query function query_ee_u_dump_res_pm: 4/45.</text>"
      ],
      "text/plain": [
       "<IPython.core.display.HTML object>"
      ]
     },
     "metadata": {},
     "output_type": "display_data"
    },
    {
     "name": "stdout",
     "output_type": "stream",
     "text": [
      "\tQuerying PM event signal(s) RR77.RB.A78:U_DUMP_RES for system: QPS, className: DQAMSNRB, source: RR77.RB.A78 at 2015-03-14 07:43:45.376\n"
     ]
    },
    {
     "data": {
      "text/html": [
       "<text style=color:blue>Executing RB.A78 query function find_timestamp_pic: 5/45.</text>"
      ],
      "text/plain": [
       "<IPython.core.display.HTML object>"
      ]
     },
     "metadata": {},
     "output_type": "display_data"
    },
    {
     "name": "stdout",
     "output_type": "stream",
     "text": [
      "\tQuerying NXCALS signal(s) RB.A78.ODD:ST_ABORT_PIC, RB.A78.EVEN:ST_ABORT_PIC from 2015-03-14 07:43:44.080 to 2015-03-14 07:44:45.080\n"
     ]
    },
    {
     "data": {
      "text/html": [
       "<text style=color:blue>Executing RB.A78 query function find_source_timestamp_qds: 6/45.</text>"
      ],
      "text/plain": [
       "<IPython.core.display.HTML object>"
      ]
     },
     "metadata": {},
     "output_type": "display_data"
    },
    {
     "name": "stdout",
     "output_type": "stream",
     "text": [
      "\tQuerying PM event timestamps for system: QPS, className: DQAMCNMB_PMSTD, source: * from 2015-03-14 07:42:55.080 to 2015-03-14 07:52:05.080\n"
     ]
    },
    {
     "data": {
      "text/html": [
       "<text style=color:blue>Executing RB.A78 query function find_source_timestamp_ee: 1/45.</text>"
      ],
      "text/plain": [
       "<IPython.core.display.HTML object>"
      ]
     },
     "metadata": {},
     "output_type": "display_data"
    },
    {
     "name": "stdout",
     "output_type": "stream",
     "text": [
      "\tQuerying PM event timestamps for system: QPS, className: DQAMSNRB, source: UA83.RB.A78 from 2015-03-25 17:17:07.580 to 2015-03-25 17:33:57.580\n"
     ]
    },
    {
     "data": {
      "text/html": [
       "<text style=color:blue>Executing RB.A78 query function query_ee_u_dump_res_pm: 2/45.</text>"
      ],
      "text/plain": [
       "<IPython.core.display.HTML object>"
      ]
     },
     "metadata": {},
     "output_type": "display_data"
    },
    {
     "name": "stdout",
     "output_type": "stream",
     "text": [
      "\tQuerying PM event signal(s) UA83.RB.A78:U_DUMP_RES for system: QPS, className: DQAMSNRB, source: UA83.RB.A78 at 2015-03-25 17:17:18.138\n"
     ]
    },
    {
     "data": {
      "text/html": [
       "<text style=color:blue>Executing RB.A78 query function find_source_timestamp_ee: 3/45.</text>"
      ],
      "text/plain": [
       "<IPython.core.display.HTML object>"
      ]
     },
     "metadata": {},
     "output_type": "display_data"
    },
    {
     "name": "stdout",
     "output_type": "stream",
     "text": [
      "\tQuerying PM event timestamps for system: QPS, className: DQAMSNRB, source: RR77.RB.A78 from 2015-03-25 17:17:07.580 to 2015-03-25 17:33:57.580\n"
     ]
    },
    {
     "data": {
      "text/html": [
       "<text style=color:blue>Executing RB.A78 query function query_ee_u_dump_res_pm: 4/45.</text>"
      ],
      "text/plain": [
       "<IPython.core.display.HTML object>"
      ]
     },
     "metadata": {},
     "output_type": "display_data"
    },
    {
     "name": "stdout",
     "output_type": "stream",
     "text": [
      "\tQuerying PM event signal(s) RR77.RB.A78:U_DUMP_RES for system: QPS, className: DQAMSNRB, source: RR77.RB.A78 at 2015-03-25 17:17:17.877\n"
     ]
    },
    {
     "data": {
      "text/html": [
       "<text style=color:blue>Executing RB.A78 query function find_timestamp_pic: 5/45.</text>"
      ],
      "text/plain": [
       "<IPython.core.display.HTML object>"
      ]
     },
     "metadata": {},
     "output_type": "display_data"
    },
    {
     "name": "stdout",
     "output_type": "stream",
     "text": [
      "\tQuerying NXCALS signal(s) RB.A78.ODD:ST_ABORT_PIC, RB.A78.EVEN:ST_ABORT_PIC from 2015-03-25 17:17:16.580 to 2015-03-25 17:18:17.580\n"
     ]
    },
    {
     "data": {
      "text/html": [
       "<text style=color:blue>Executing RB.A78 query function find_source_timestamp_qds: 6/45.</text>"
      ],
      "text/plain": [
       "<IPython.core.display.HTML object>"
      ]
     },
     "metadata": {},
     "output_type": "display_data"
    },
    {
     "name": "stdout",
     "output_type": "stream",
     "text": [
      "\tQuerying PM event timestamps for system: QPS, className: DQAMCNMB_PMSTD, source: * from 2015-03-25 17:16:27.580 to 2015-03-25 17:25:37.580\n"
     ]
    },
    {
     "data": {
      "text/html": [
       "<text style=color:blue>Executing RB.A78 query function find_source_timestamp_ee: 1/45.</text>"
      ],
      "text/plain": [
       "<IPython.core.display.HTML object>"
      ]
     },
     "metadata": {},
     "output_type": "display_data"
    },
    {
     "name": "stdout",
     "output_type": "stream",
     "text": [
      "\tQuerying PM event timestamps for system: QPS, className: DQAMSNRB, source: UA83.RB.A78 from 2015-07-14 00:04:53.740 to 2015-07-14 00:21:43.740\n"
     ]
    },
    {
     "data": {
      "text/html": [
       "<text style=color:blue>Executing RB.A78 query function query_ee_u_dump_res_pm: 2/45.</text>"
      ],
      "text/plain": [
       "<IPython.core.display.HTML object>"
      ]
     },
     "metadata": {},
     "output_type": "display_data"
    },
    {
     "name": "stdout",
     "output_type": "stream",
     "text": [
      "\tQuerying PM event signal(s) UA83.RB.A78:U_DUMP_RES for system: QPS, className: DQAMSNRB, source: UA83.RB.A78 at 2015-07-14 00:05:04.296\n"
     ]
    },
    {
     "data": {
      "text/html": [
       "<text style=color:blue>Executing RB.A78 query function find_source_timestamp_ee: 3/45.</text>"
      ],
      "text/plain": [
       "<IPython.core.display.HTML object>"
      ]
     },
     "metadata": {},
     "output_type": "display_data"
    },
    {
     "name": "stdout",
     "output_type": "stream",
     "text": [
      "\tQuerying PM event timestamps for system: QPS, className: DQAMSNRB, source: RR77.RB.A78 from 2015-07-14 00:04:53.740 to 2015-07-14 00:21:43.740\n"
     ]
    },
    {
     "data": {
      "text/html": [
       "<text style=color:blue>Executing RB.A78 query function query_ee_u_dump_res_pm: 4/45.</text>"
      ],
      "text/plain": [
       "<IPython.core.display.HTML object>"
      ]
     },
     "metadata": {},
     "output_type": "display_data"
    },
    {
     "name": "stdout",
     "output_type": "stream",
     "text": [
      "\tQuerying PM event signal(s) RR77.RB.A78:U_DUMP_RES for system: QPS, className: DQAMSNRB, source: RR77.RB.A78 at 2015-07-14 00:05:04.038\n"
     ]
    },
    {
     "data": {
      "text/html": [
       "<text style=color:blue>Executing RB.A78 query function find_timestamp_pic: 5/45.</text>"
      ],
      "text/plain": [
       "<IPython.core.display.HTML object>"
      ]
     },
     "metadata": {},
     "output_type": "display_data"
    },
    {
     "name": "stdout",
     "output_type": "stream",
     "text": [
      "\tQuerying NXCALS signal(s) RB.A78.ODD:ST_ABORT_PIC, RB.A78.EVEN:ST_ABORT_PIC from 2015-07-14 00:05:02.740 to 2015-07-14 00:06:03.740\n"
     ]
    },
    {
     "data": {
      "text/html": [
       "<text style=color:blue>Executing RB.A78 query function find_source_timestamp_qds: 6/45.</text>"
      ],
      "text/plain": [
       "<IPython.core.display.HTML object>"
      ]
     },
     "metadata": {},
     "output_type": "display_data"
    },
    {
     "name": "stdout",
     "output_type": "stream",
     "text": [
      "\tQuerying PM event timestamps for system: QPS, className: DQAMCNMB_PMSTD, source: * from 2015-07-14 00:04:13.740 to 2015-07-14 00:13:23.740\n"
     ]
    },
    {
     "data": {
      "text/html": [
       "<text style=color:blue>Executing RB.A78 query function find_source_timestamp_ee: 1/45.</text>"
      ],
      "text/plain": [
       "<IPython.core.display.HTML object>"
      ]
     },
     "metadata": {},
     "output_type": "display_data"
    },
    {
     "name": "stdout",
     "output_type": "stream",
     "text": [
      "\tQuerying PM event timestamps for system: QPS, className: DQAMSNRB, source: UA83.RB.A78 from 2015-10-03 07:24:25.620 to 2015-10-03 07:41:15.620\n"
     ]
    },
    {
     "data": {
      "text/html": [
       "<text style=color:blue>Executing RB.A78 query function query_ee_u_dump_res_pm: 2/45.</text>"
      ],
      "text/plain": [
       "<IPython.core.display.HTML object>"
      ]
     },
     "metadata": {},
     "output_type": "display_data"
    },
    {
     "name": "stdout",
     "output_type": "stream",
     "text": [
      "\tQuerying PM event signal(s) UA83.RB.A78:U_DUMP_RES for system: QPS, className: DQAMSNRB, source: UA83.RB.A78 at 2015-10-03 07:24:36.181\n"
     ]
    },
    {
     "data": {
      "text/html": [
       "<text style=color:blue>Executing RB.A78 query function find_source_timestamp_ee: 3/45.</text>"
      ],
      "text/plain": [
       "<IPython.core.display.HTML object>"
      ]
     },
     "metadata": {},
     "output_type": "display_data"
    },
    {
     "name": "stdout",
     "output_type": "stream",
     "text": [
      "\tQuerying PM event timestamps for system: QPS, className: DQAMSNRB, source: RR77.RB.A78 from 2015-10-03 07:24:25.620 to 2015-10-03 07:41:15.620\n"
     ]
    },
    {
     "data": {
      "text/html": [
       "<text style=color:blue>Executing RB.A78 query function query_ee_u_dump_res_pm: 4/45.</text>"
      ],
      "text/plain": [
       "<IPython.core.display.HTML object>"
      ]
     },
     "metadata": {},
     "output_type": "display_data"
    },
    {
     "name": "stdout",
     "output_type": "stream",
     "text": [
      "\tQuerying PM event signal(s) RR77.RB.A78:U_DUMP_RES for system: QPS, className: DQAMSNRB, source: RR77.RB.A78 at 2015-10-03 07:24:35.913\n"
     ]
    },
    {
     "data": {
      "text/html": [
       "<text style=color:blue>Executing RB.A78 query function find_timestamp_pic: 5/45.</text>"
      ],
      "text/plain": [
       "<IPython.core.display.HTML object>"
      ]
     },
     "metadata": {},
     "output_type": "display_data"
    },
    {
     "name": "stdout",
     "output_type": "stream",
     "text": [
      "\tQuerying NXCALS signal(s) RB.A78.ODD:ST_ABORT_PIC, RB.A78.EVEN:ST_ABORT_PIC from 2015-10-03 07:24:34.620 to 2015-10-03 07:25:35.620\n"
     ]
    },
    {
     "data": {
      "text/html": [
       "<text style=color:blue>Executing RB.A78 query function find_source_timestamp_qds: 6/45.</text>"
      ],
      "text/plain": [
       "<IPython.core.display.HTML object>"
      ]
     },
     "metadata": {},
     "output_type": "display_data"
    },
    {
     "name": "stdout",
     "output_type": "stream",
     "text": [
      "\tQuerying PM event timestamps for system: QPS, className: DQAMCNMB_PMSTD, source: * from 2015-10-03 07:23:45.620 to 2015-10-03 07:32:55.620\n"
     ]
    },
    {
     "data": {
      "text/html": [
       "<text style=color:blue>Executing RB.A78 query function find_source_timestamp_ee: 1/45.</text>"
      ],
      "text/plain": [
       "<IPython.core.display.HTML object>"
      ]
     },
     "metadata": {},
     "output_type": "display_data"
    },
    {
     "name": "stdout",
     "output_type": "stream",
     "text": [
      "\tQuerying PM event timestamps for system: QPS, className: DQAMSNRB, source: UA83.RB.A78 from 2016-06-06 08:33:54.220 to 2016-06-06 08:50:44.220\n"
     ]
    },
    {
     "data": {
      "text/html": [
       "<text style=color:blue>Executing RB.A78 query function query_ee_u_dump_res_pm: 2/45.</text>"
      ],
      "text/plain": [
       "<IPython.core.display.HTML object>"
      ]
     },
     "metadata": {},
     "output_type": "display_data"
    },
    {
     "name": "stdout",
     "output_type": "stream",
     "text": [
      "\tQuerying PM event signal(s) UA83.RB.A78:U_DUMP_RES for system: QPS, className: DQAMSNRB, source: UA83.RB.A78 at 2016-06-06 08:34:04.796\n"
     ]
    },
    {
     "data": {
      "text/html": [
       "<text style=color:blue>Executing RB.A78 query function find_source_timestamp_ee: 3/45.</text>"
      ],
      "text/plain": [
       "<IPython.core.display.HTML object>"
      ]
     },
     "metadata": {},
     "output_type": "display_data"
    },
    {
     "name": "stdout",
     "output_type": "stream",
     "text": [
      "\tQuerying PM event timestamps for system: QPS, className: DQAMSNRB, source: RR77.RB.A78 from 2016-06-06 08:33:54.220 to 2016-06-06 08:50:44.220\n"
     ]
    },
    {
     "data": {
      "text/html": [
       "<text style=color:blue>Executing RB.A78 query function query_ee_u_dump_res_pm: 4/45.</text>"
      ],
      "text/plain": [
       "<IPython.core.display.HTML object>"
      ]
     },
     "metadata": {},
     "output_type": "display_data"
    },
    {
     "name": "stdout",
     "output_type": "stream",
     "text": [
      "\tQuerying PM event signal(s) RR77.RB.A78:U_DUMP_RES for system: QPS, className: DQAMSNRB, source: RR77.RB.A78 at 2016-06-06 08:34:04.515\n"
     ]
    },
    {
     "data": {
      "text/html": [
       "<text style=color:blue>Executing RB.A78 query function find_timestamp_pic: 5/45.</text>"
      ],
      "text/plain": [
       "<IPython.core.display.HTML object>"
      ]
     },
     "metadata": {},
     "output_type": "display_data"
    },
    {
     "name": "stdout",
     "output_type": "stream",
     "text": [
      "\tQuerying NXCALS signal(s) RB.A78.ODD:ST_ABORT_PIC, RB.A78.EVEN:ST_ABORT_PIC from 2016-06-06 08:34:03.220 to 2016-06-06 08:35:04.220\n"
     ]
    },
    {
     "data": {
      "text/html": [
       "<text style=color:blue>Executing RB.A78 query function find_source_timestamp_qds: 6/45.</text>"
      ],
      "text/plain": [
       "<IPython.core.display.HTML object>"
      ]
     },
     "metadata": {},
     "output_type": "display_data"
    },
    {
     "name": "stdout",
     "output_type": "stream",
     "text": [
      "\tQuerying PM event timestamps for system: QPS, className: DQAMCNMB_PMSTD, source: * from 2016-06-06 08:33:14.220 to 2016-06-06 08:42:24.220\n"
     ]
    },
    {
     "data": {
      "text/html": [
       "<text style=color:blue>Executing RB.A78 query function find_source_timestamp_ee: 1/45.</text>"
      ],
      "text/plain": [
       "<IPython.core.display.HTML object>"
      ]
     },
     "metadata": {},
     "output_type": "display_data"
    },
    {
     "name": "stdout",
     "output_type": "stream",
     "text": [
      "\tQuerying PM event timestamps for system: QPS, className: DQAMSNRB, source: UA83.RB.A78 from 2016-11-24 04:18:25.740 to 2016-11-24 04:35:15.740\n"
     ]
    },
    {
     "data": {
      "text/html": [
       "<text style=color:blue>Executing RB.A78 query function query_ee_u_dump_res_pm: 2/45.</text>"
      ],
      "text/plain": [
       "<IPython.core.display.HTML object>"
      ]
     },
     "metadata": {},
     "output_type": "display_data"
    },
    {
     "name": "stdout",
     "output_type": "stream",
     "text": [
      "\tQuerying PM event signal(s) UA83.RB.A78:U_DUMP_RES for system: QPS, className: DQAMSNRB, source: UA83.RB.A78 at 2016-11-24 04:18:36.310\n"
     ]
    },
    {
     "data": {
      "text/html": [
       "<text style=color:blue>Executing RB.A78 query function find_source_timestamp_ee: 3/45.</text>"
      ],
      "text/plain": [
       "<IPython.core.display.HTML object>"
      ]
     },
     "metadata": {},
     "output_type": "display_data"
    },
    {
     "name": "stdout",
     "output_type": "stream",
     "text": [
      "\tQuerying PM event timestamps for system: QPS, className: DQAMSNRB, source: RR77.RB.A78 from 2016-11-24 04:18:25.740 to 2016-11-24 04:35:15.740\n"
     ]
    },
    {
     "data": {
      "text/html": [
       "<text style=color:blue>Executing RB.A78 query function query_ee_u_dump_res_pm: 4/45.</text>"
      ],
      "text/plain": [
       "<IPython.core.display.HTML object>"
      ]
     },
     "metadata": {},
     "output_type": "display_data"
    },
    {
     "name": "stdout",
     "output_type": "stream",
     "text": [
      "\tQuerying PM event signal(s) RR77.RB.A78:U_DUMP_RES for system: QPS, className: DQAMSNRB, source: RR77.RB.A78 at 2016-11-24 04:18:36.034\n"
     ]
    },
    {
     "data": {
      "text/html": [
       "<text style=color:blue>Executing RB.A78 query function find_timestamp_pic: 5/45.</text>"
      ],
      "text/plain": [
       "<IPython.core.display.HTML object>"
      ]
     },
     "metadata": {},
     "output_type": "display_data"
    },
    {
     "name": "stdout",
     "output_type": "stream",
     "text": [
      "\tQuerying NXCALS signal(s) RB.A78.ODD:ST_ABORT_PIC, RB.A78.EVEN:ST_ABORT_PIC from 2016-11-24 04:18:34.740 to 2016-11-24 04:19:35.740\n"
     ]
    },
    {
     "data": {
      "text/html": [
       "<text style=color:blue>Executing RB.A78 query function find_source_timestamp_qds: 6/45.</text>"
      ],
      "text/plain": [
       "<IPython.core.display.HTML object>"
      ]
     },
     "metadata": {},
     "output_type": "display_data"
    },
    {
     "name": "stdout",
     "output_type": "stream",
     "text": [
      "\tQuerying PM event timestamps for system: QPS, className: DQAMCNMB_PMSTD, source: * from 2016-11-24 04:17:45.740 to 2016-11-24 04:26:55.740\n"
     ]
    },
    {
     "data": {
      "text/html": [
       "<text style=color:blue>Executing RB.A78 query function find_source_timestamp_ee: 1/45.</text>"
      ],
      "text/plain": [
       "<IPython.core.display.HTML object>"
      ]
     },
     "metadata": {},
     "output_type": "display_data"
    },
    {
     "name": "stdout",
     "output_type": "stream",
     "text": [
      "\tQuerying PM event timestamps for system: QPS, className: DQAMSNRB, source: UA83.RB.A78 from 2018-09-28 11:03:39.460 to 2018-09-28 11:20:29.460\n"
     ]
    },
    {
     "data": {
      "text/html": [
       "<text style=color:blue>Executing RB.A78 query function query_ee_u_dump_res_pm: 2/45.</text>"
      ],
      "text/plain": [
       "<IPython.core.display.HTML object>"
      ]
     },
     "metadata": {},
     "output_type": "display_data"
    },
    {
     "name": "stdout",
     "output_type": "stream",
     "text": [
      "\tQuerying PM event signal(s) UA83.RB.A78:U_DUMP_RES for system: QPS, className: DQAMSNRB, source: UA83.RB.A78 at 2018-09-28 11:03:50.030\n"
     ]
    },
    {
     "data": {
      "text/html": [
       "<text style=color:blue>Executing RB.A78 query function find_source_timestamp_ee: 3/45.</text>"
      ],
      "text/plain": [
       "<IPython.core.display.HTML object>"
      ]
     },
     "metadata": {},
     "output_type": "display_data"
    },
    {
     "name": "stdout",
     "output_type": "stream",
     "text": [
      "\tQuerying PM event timestamps for system: QPS, className: DQAMSNRB, source: RR77.RB.A78 from 2018-09-28 11:03:39.460 to 2018-09-28 11:20:29.460\n"
     ]
    },
    {
     "data": {
      "text/html": [
       "<text style=color:blue>Executing RB.A78 query function query_ee_u_dump_res_pm: 4/45.</text>"
      ],
      "text/plain": [
       "<IPython.core.display.HTML object>"
      ]
     },
     "metadata": {},
     "output_type": "display_data"
    },
    {
     "name": "stdout",
     "output_type": "stream",
     "text": [
      "\tQuerying PM event signal(s) RR77.RB.A78:U_DUMP_RES for system: QPS, className: DQAMSNRB, source: RR77.RB.A78 at 2018-09-28 11:03:49.534\n"
     ]
    },
    {
     "data": {
      "text/html": [
       "<text style=color:blue>Executing RB.A78 query function find_timestamp_pic: 5/45.</text>"
      ],
      "text/plain": [
       "<IPython.core.display.HTML object>"
      ]
     },
     "metadata": {},
     "output_type": "display_data"
    },
    {
     "name": "stdout",
     "output_type": "stream",
     "text": [
      "\tQuerying NXCALS signal(s) RB.A78.ODD:ST_ABORT_PIC, RB.A78.EVEN:ST_ABORT_PIC from 2018-09-28 11:03:48.460 to 2018-09-28 11:04:49.460\n"
     ]
    },
    {
     "data": {
      "text/html": [
       "<text style=color:blue>Executing RB.A78 query function find_source_timestamp_qds: 6/45.</text>"
      ],
      "text/plain": [
       "<IPython.core.display.HTML object>"
      ]
     },
     "metadata": {},
     "output_type": "display_data"
    },
    {
     "name": "stdout",
     "output_type": "stream",
     "text": [
      "\tQuerying PM event timestamps for system: QPS, className: DQAMCNMB_PMSTD, source: * from 2018-09-28 11:02:59.460 to 2018-09-28 11:12:09.460\n"
     ]
    },
    {
     "data": {
      "text/html": [
       "<text style=color:blue>Executing RB.A78 query function find_source_timestamp_ee: 1/45.</text>"
      ],
      "text/plain": [
       "<IPython.core.display.HTML object>"
      ]
     },
     "metadata": {},
     "output_type": "display_data"
    },
    {
     "name": "stdout",
     "output_type": "stream",
     "text": [
      "\tQuerying PM event timestamps for system: QPS, className: DQAMSNRB, source: UA83.RB.A78 from 2018-12-08 18:42:28.880 to 2018-12-08 18:59:18.880\n"
     ]
    },
    {
     "data": {
      "text/html": [
       "<text style=color:blue>Executing RB.A78 query function query_ee_u_dump_res_pm: 2/45.</text>"
      ],
      "text/plain": [
       "<IPython.core.display.HTML object>"
      ]
     },
     "metadata": {},
     "output_type": "display_data"
    },
    {
     "name": "stdout",
     "output_type": "stream",
     "text": [
      "\tQuerying PM event signal(s) UA83.RB.A78:U_DUMP_RES for system: QPS, className: DQAMSNRB, source: UA83.RB.A78 at 2018-12-08 18:42:39.446\n"
     ]
    },
    {
     "data": {
      "text/html": [
       "<text style=color:blue>Executing RB.A78 query function find_source_timestamp_ee: 3/45.</text>"
      ],
      "text/plain": [
       "<IPython.core.display.HTML object>"
      ]
     },
     "metadata": {},
     "output_type": "display_data"
    },
    {
     "name": "stdout",
     "output_type": "stream",
     "text": [
      "\tQuerying PM event timestamps for system: QPS, className: DQAMSNRB, source: RR77.RB.A78 from 2018-12-08 18:42:28.880 to 2018-12-08 18:59:18.880\n"
     ]
    },
    {
     "data": {
      "text/html": [
       "<text style=color:blue>Executing RB.A78 query function query_ee_u_dump_res_pm: 4/45.</text>"
      ],
      "text/plain": [
       "<IPython.core.display.HTML object>"
      ]
     },
     "metadata": {},
     "output_type": "display_data"
    },
    {
     "name": "stdout",
     "output_type": "stream",
     "text": [
      "\tQuerying PM event signal(s) RR77.RB.A78:U_DUMP_RES for system: QPS, className: DQAMSNRB, source: RR77.RB.A78 at 2018-12-08 18:42:38.950\n"
     ]
    },
    {
     "data": {
      "text/html": [
       "<text style=color:blue>Executing RB.A78 query function find_timestamp_pic: 5/45.</text>"
      ],
      "text/plain": [
       "<IPython.core.display.HTML object>"
      ]
     },
     "metadata": {},
     "output_type": "display_data"
    },
    {
     "name": "stdout",
     "output_type": "stream",
     "text": [
      "\tQuerying NXCALS signal(s) RB.A78.ODD:ST_ABORT_PIC, RB.A78.EVEN:ST_ABORT_PIC from 2018-12-08 18:42:37.880 to 2018-12-08 18:43:38.880\n"
     ]
    },
    {
     "data": {
      "text/html": [
       "<text style=color:blue>Executing RB.A78 query function find_source_timestamp_qds: 6/45.</text>"
      ],
      "text/plain": [
       "<IPython.core.display.HTML object>"
      ]
     },
     "metadata": {},
     "output_type": "display_data"
    },
    {
     "name": "stdout",
     "output_type": "stream",
     "text": [
      "\tQuerying PM event timestamps for system: QPS, className: DQAMCNMB_PMSTD, source: * from 2018-12-08 18:41:48.880 to 2018-12-08 18:50:58.880\n"
     ]
    },
    {
     "data": {
      "text/html": [
       "<text style=color:blue>Executing RB.A81 query function find_source_timestamp_ee: 1/45.</text>"
      ],
      "text/plain": [
       "<IPython.core.display.HTML object>"
      ]
     },
     "metadata": {},
     "output_type": "display_data"
    },
    {
     "name": "stdout",
     "output_type": "stream",
     "text": [
      "\tQuerying PM event timestamps for system: QPS, className: DQAMSNRB, source: UA87.RB.A81 from 2015-02-02 22:26:07.020 to 2015-02-02 22:42:57.020\n"
     ]
    },
    {
     "data": {
      "text/html": [
       "<text style=color:blue>Executing RB.A81 query function query_ee_u_dump_res_pm: 2/45.</text>"
      ],
      "text/plain": [
       "<IPython.core.display.HTML object>"
      ]
     },
     "metadata": {},
     "output_type": "display_data"
    },
    {
     "name": "stdout",
     "output_type": "stream",
     "text": [
      "\tQuerying PM event signal(s) UA87.RB.A81:U_DUMP_RES for system: QPS, className: DQAMSNRB, source: UA87.RB.A81 at 2015-02-02 22:26:17.580\n"
     ]
    },
    {
     "data": {
      "text/html": [
       "<text style=color:blue>Executing RB.A81 query function find_source_timestamp_ee: 3/45.</text>"
      ],
      "text/plain": [
       "<IPython.core.display.HTML object>"
      ]
     },
     "metadata": {},
     "output_type": "display_data"
    },
    {
     "name": "stdout",
     "output_type": "stream",
     "text": [
      "\tQuerying PM event timestamps for system: QPS, className: DQAMSNRB, source: RR13.RB.A81 from 2015-02-02 22:26:07.020 to 2015-02-02 22:42:57.020\n"
     ]
    },
    {
     "data": {
      "text/html": [
       "<text style=color:blue>Executing RB.A81 query function query_ee_u_dump_res_pm: 4/45.</text>"
      ],
      "text/plain": [
       "<IPython.core.display.HTML object>"
      ]
     },
     "metadata": {},
     "output_type": "display_data"
    },
    {
     "name": "stdout",
     "output_type": "stream",
     "text": [
      "\tQuerying PM event signal(s) RR13.RB.A81:U_DUMP_RES for system: QPS, className: DQAMSNRB, source: RR13.RB.A81 at 2015-02-02 22:26:17.338\n"
     ]
    },
    {
     "data": {
      "text/html": [
       "<text style=color:blue>Executing RB.A81 query function find_timestamp_pic: 5/45.</text>"
      ],
      "text/plain": [
       "<IPython.core.display.HTML object>"
      ]
     },
     "metadata": {},
     "output_type": "display_data"
    },
    {
     "name": "stdout",
     "output_type": "stream",
     "text": [
      "\tQuerying NXCALS signal(s) RB.A81.ODD:ST_ABORT_PIC, RB.A81.EVEN:ST_ABORT_PIC from 2015-02-02 22:26:16.020 to 2015-02-02 22:27:17.020\n"
     ]
    },
    {
     "data": {
      "text/html": [
       "<text style=color:blue>Executing RB.A81 query function find_source_timestamp_qds: 6/45.</text>"
      ],
      "text/plain": [
       "<IPython.core.display.HTML object>"
      ]
     },
     "metadata": {},
     "output_type": "display_data"
    },
    {
     "name": "stdout",
     "output_type": "stream",
     "text": [
      "\tQuerying PM event timestamps for system: QPS, className: DQAMCNMB_PMSTD, source: * from 2015-02-02 22:25:27.020 to 2015-02-02 22:34:37.020\n"
     ]
    },
    {
     "data": {
      "text/html": [
       "<text style=color:blue>Executing RB.A81 query function find_source_timestamp_ee: 1/45.</text>"
      ],
      "text/plain": [
       "<IPython.core.display.HTML object>"
      ]
     },
     "metadata": {},
     "output_type": "display_data"
    },
    {
     "name": "stdout",
     "output_type": "stream",
     "text": [
      "\tQuerying PM event timestamps for system: QPS, className: DQAMSNRB, source: UA87.RB.A81 from 2015-02-06 14:39:09.100 to 2015-02-06 14:55:59.100\n"
     ]
    },
    {
     "data": {
      "text/html": [
       "<text style=color:blue>Executing RB.A81 query function query_ee_u_dump_res_pm: 2/45.</text>"
      ],
      "text/plain": [
       "<IPython.core.display.HTML object>"
      ]
     },
     "metadata": {},
     "output_type": "display_data"
    },
    {
     "name": "stdout",
     "output_type": "stream",
     "text": [
      "\tQuerying PM event signal(s) UA87.RB.A81:U_DUMP_RES for system: QPS, className: DQAMSNRB, source: UA87.RB.A81 at 2015-02-06 14:39:19.647\n"
     ]
    },
    {
     "data": {
      "text/html": [
       "<text style=color:blue>Executing RB.A81 query function find_source_timestamp_ee: 3/45.</text>"
      ],
      "text/plain": [
       "<IPython.core.display.HTML object>"
      ]
     },
     "metadata": {},
     "output_type": "display_data"
    },
    {
     "name": "stdout",
     "output_type": "stream",
     "text": [
      "\tQuerying PM event timestamps for system: QPS, className: DQAMSNRB, source: RR13.RB.A81 from 2015-02-06 14:39:09.100 to 2015-02-06 14:55:59.100\n"
     ]
    },
    {
     "data": {
      "text/html": [
       "<text style=color:blue>Executing RB.A81 query function query_ee_u_dump_res_pm: 4/45.</text>"
      ],
      "text/plain": [
       "<IPython.core.display.HTML object>"
      ]
     },
     "metadata": {},
     "output_type": "display_data"
    },
    {
     "name": "stdout",
     "output_type": "stream",
     "text": [
      "\tQuerying PM event signal(s) RR13.RB.A81:U_DUMP_RES for system: QPS, className: DQAMSNRB, source: RR13.RB.A81 at 2015-02-06 14:39:19.401\n"
     ]
    },
    {
     "data": {
      "text/html": [
       "<text style=color:blue>Executing RB.A81 query function find_timestamp_pic: 5/45.</text>"
      ],
      "text/plain": [
       "<IPython.core.display.HTML object>"
      ]
     },
     "metadata": {},
     "output_type": "display_data"
    },
    {
     "name": "stdout",
     "output_type": "stream",
     "text": [
      "\tQuerying NXCALS signal(s) RB.A81.ODD:ST_ABORT_PIC, RB.A81.EVEN:ST_ABORT_PIC from 2015-02-06 14:39:18.100 to 2015-02-06 14:40:19.100\n"
     ]
    },
    {
     "data": {
      "text/html": [
       "<text style=color:blue>Executing RB.A81 query function find_source_timestamp_qds: 6/45.</text>"
      ],
      "text/plain": [
       "<IPython.core.display.HTML object>"
      ]
     },
     "metadata": {},
     "output_type": "display_data"
    },
    {
     "name": "stdout",
     "output_type": "stream",
     "text": [
      "\tQuerying PM event timestamps for system: QPS, className: DQAMCNMB_PMSTD, source: * from 2015-02-06 14:38:29.100 to 2015-02-06 14:47:39.100\n"
     ]
    },
    {
     "data": {
      "text/html": [
       "<text style=color:blue>Executing RB.A81 query function find_source_timestamp_ee: 1/45.</text>"
      ],
      "text/plain": [
       "<IPython.core.display.HTML object>"
      ]
     },
     "metadata": {},
     "output_type": "display_data"
    },
    {
     "name": "stdout",
     "output_type": "stream",
     "text": [
      "\tQuerying PM event timestamps for system: QPS, className: DQAMSNRB, source: UA87.RB.A81 from 2015-02-07 07:28:52 to 2015-02-07 07:45:42\n"
     ]
    },
    {
     "data": {
      "text/html": [
       "<text style=color:blue>Executing RB.A81 query function query_ee_u_dump_res_pm: 2/45.</text>"
      ],
      "text/plain": [
       "<IPython.core.display.HTML object>"
      ]
     },
     "metadata": {},
     "output_type": "display_data"
    },
    {
     "name": "stdout",
     "output_type": "stream",
     "text": [
      "\tQuerying PM event signal(s) UA87.RB.A81:U_DUMP_RES for system: QPS, className: DQAMSNRB, source: UA87.RB.A81 at 2015-02-07 07:29:02.564\n"
     ]
    },
    {
     "data": {
      "text/html": [
       "<text style=color:blue>Executing RB.A81 query function find_source_timestamp_ee: 3/45.</text>"
      ],
      "text/plain": [
       "<IPython.core.display.HTML object>"
      ]
     },
     "metadata": {},
     "output_type": "display_data"
    },
    {
     "name": "stdout",
     "output_type": "stream",
     "text": [
      "\tQuerying PM event timestamps for system: QPS, className: DQAMSNRB, source: RR13.RB.A81 from 2015-02-07 07:28:52 to 2015-02-07 07:45:42\n"
     ]
    },
    {
     "data": {
      "text/html": [
       "<text style=color:blue>Executing RB.A81 query function query_ee_u_dump_res_pm: 4/45.</text>"
      ],
      "text/plain": [
       "<IPython.core.display.HTML object>"
      ]
     },
     "metadata": {},
     "output_type": "display_data"
    },
    {
     "name": "stdout",
     "output_type": "stream",
     "text": [
      "\tQuerying PM event signal(s) RR13.RB.A81:U_DUMP_RES for system: QPS, className: DQAMSNRB, source: RR13.RB.A81 at 2015-02-07 07:29:02.318\n"
     ]
    },
    {
     "data": {
      "text/html": [
       "<text style=color:blue>Executing RB.A81 query function find_timestamp_pic: 5/45.</text>"
      ],
      "text/plain": [
       "<IPython.core.display.HTML object>"
      ]
     },
     "metadata": {},
     "output_type": "display_data"
    },
    {
     "name": "stdout",
     "output_type": "stream",
     "text": [
      "\tQuerying NXCALS signal(s) RB.A81.ODD:ST_ABORT_PIC, RB.A81.EVEN:ST_ABORT_PIC from 2015-02-07 07:29:01 to 2015-02-07 07:30:02\n"
     ]
    },
    {
     "data": {
      "text/html": [
       "<text style=color:blue>Executing RB.A81 query function find_source_timestamp_qds: 6/45.</text>"
      ],
      "text/plain": [
       "<IPython.core.display.HTML object>"
      ]
     },
     "metadata": {},
     "output_type": "display_data"
    },
    {
     "name": "stdout",
     "output_type": "stream",
     "text": [
      "\tQuerying PM event timestamps for system: QPS, className: DQAMCNMB_PMSTD, source: * from 2015-02-07 07:28:12 to 2015-02-07 07:37:22\n"
     ]
    },
    {
     "data": {
      "text/html": [
       "<text style=color:blue>Executing RB.A81 query function find_source_timestamp_ee: 1/45.</text>"
      ],
      "text/plain": [
       "<IPython.core.display.HTML object>"
      ]
     },
     "metadata": {},
     "output_type": "display_data"
    },
    {
     "name": "stdout",
     "output_type": "stream",
     "text": [
      "\tQuerying PM event timestamps for system: QPS, className: DQAMSNRB, source: UA87.RB.A81 from 2015-02-07 14:47:49.980 to 2015-02-07 15:04:39.980\n"
     ]
    },
    {
     "data": {
      "text/html": [
       "<text style=color:blue>Executing RB.A81 query function query_ee_u_dump_res_pm: 2/45.</text>"
      ],
      "text/plain": [
       "<IPython.core.display.HTML object>"
      ]
     },
     "metadata": {},
     "output_type": "display_data"
    },
    {
     "name": "stdout",
     "output_type": "stream",
     "text": [
      "\tQuerying PM event signal(s) UA87.RB.A81:U_DUMP_RES for system: QPS, className: DQAMSNRB, source: UA87.RB.A81 at 2015-02-07 14:48:00.544\n"
     ]
    },
    {
     "data": {
      "text/html": [
       "<text style=color:blue>Executing RB.A81 query function find_source_timestamp_ee: 3/45.</text>"
      ],
      "text/plain": [
       "<IPython.core.display.HTML object>"
      ]
     },
     "metadata": {},
     "output_type": "display_data"
    },
    {
     "name": "stdout",
     "output_type": "stream",
     "text": [
      "\tQuerying PM event timestamps for system: QPS, className: DQAMSNRB, source: RR13.RB.A81 from 2015-02-07 14:47:49.980 to 2015-02-07 15:04:39.980\n"
     ]
    },
    {
     "data": {
      "text/html": [
       "<text style=color:blue>Executing RB.A81 query function query_ee_u_dump_res_pm: 4/45.</text>"
      ],
      "text/plain": [
       "<IPython.core.display.HTML object>"
      ]
     },
     "metadata": {},
     "output_type": "display_data"
    },
    {
     "name": "stdout",
     "output_type": "stream",
     "text": [
      "\tQuerying PM event signal(s) RR13.RB.A81:U_DUMP_RES for system: QPS, className: DQAMSNRB, source: RR13.RB.A81 at 2015-02-07 14:48:00.298\n"
     ]
    },
    {
     "data": {
      "text/html": [
       "<text style=color:blue>Executing RB.A81 query function find_timestamp_pic: 5/45.</text>"
      ],
      "text/plain": [
       "<IPython.core.display.HTML object>"
      ]
     },
     "metadata": {},
     "output_type": "display_data"
    },
    {
     "name": "stdout",
     "output_type": "stream",
     "text": [
      "\tQuerying NXCALS signal(s) RB.A81.ODD:ST_ABORT_PIC, RB.A81.EVEN:ST_ABORT_PIC from 2015-02-07 14:47:58.980 to 2015-02-07 14:48:59.980\n"
     ]
    },
    {
     "data": {
      "text/html": [
       "<text style=color:blue>Executing RB.A81 query function find_source_timestamp_qds: 6/45.</text>"
      ],
      "text/plain": [
       "<IPython.core.display.HTML object>"
      ]
     },
     "metadata": {},
     "output_type": "display_data"
    },
    {
     "name": "stdout",
     "output_type": "stream",
     "text": [
      "\tQuerying PM event timestamps for system: QPS, className: DQAMCNMB_PMSTD, source: * from 2015-02-07 14:47:09.980 to 2015-02-07 14:56:19.980\n"
     ]
    },
    {
     "data": {
      "text/html": [
       "<text style=color:blue>Executing RB.A81 query function find_source_timestamp_ee: 1/45.</text>"
      ],
      "text/plain": [
       "<IPython.core.display.HTML object>"
      ]
     },
     "metadata": {},
     "output_type": "display_data"
    },
    {
     "name": "stdout",
     "output_type": "stream",
     "text": [
      "\tQuerying PM event timestamps for system: QPS, className: DQAMSNRB, source: UA87.RB.A81 from 2015-02-08 08:05:45.120 to 2015-02-08 08:22:35.120\n"
     ]
    },
    {
     "data": {
      "text/html": [
       "<text style=color:blue>Executing RB.A81 query function query_ee_u_dump_res_pm: 2/45.</text>"
      ],
      "text/plain": [
       "<IPython.core.display.HTML object>"
      ]
     },
     "metadata": {},
     "output_type": "display_data"
    },
    {
     "name": "stdout",
     "output_type": "stream",
     "text": [
      "\tQuerying PM event signal(s) UA87.RB.A81:U_DUMP_RES for system: QPS, className: DQAMSNRB, source: UA87.RB.A81 at 2015-02-08 08:05:55.674\n"
     ]
    },
    {
     "data": {
      "text/html": [
       "<text style=color:blue>Executing RB.A81 query function find_source_timestamp_ee: 3/45.</text>"
      ],
      "text/plain": [
       "<IPython.core.display.HTML object>"
      ]
     },
     "metadata": {},
     "output_type": "display_data"
    },
    {
     "name": "stdout",
     "output_type": "stream",
     "text": [
      "\tQuerying PM event timestamps for system: QPS, className: DQAMSNRB, source: RR13.RB.A81 from 2015-02-08 08:05:45.120 to 2015-02-08 08:22:35.120\n"
     ]
    },
    {
     "data": {
      "text/html": [
       "<text style=color:blue>Executing RB.A81 query function query_ee_u_dump_res_pm: 4/45.</text>"
      ],
      "text/plain": [
       "<IPython.core.display.HTML object>"
      ]
     },
     "metadata": {},
     "output_type": "display_data"
    },
    {
     "name": "stdout",
     "output_type": "stream",
     "text": [
      "\tQuerying PM event signal(s) RR13.RB.A81:U_DUMP_RES for system: QPS, className: DQAMSNRB, source: RR13.RB.A81 at 2015-02-08 08:05:55.429\n"
     ]
    },
    {
     "data": {
      "text/html": [
       "<text style=color:blue>Executing RB.A81 query function find_timestamp_pic: 5/45.</text>"
      ],
      "text/plain": [
       "<IPython.core.display.HTML object>"
      ]
     },
     "metadata": {},
     "output_type": "display_data"
    },
    {
     "name": "stdout",
     "output_type": "stream",
     "text": [
      "\tQuerying NXCALS signal(s) RB.A81.ODD:ST_ABORT_PIC, RB.A81.EVEN:ST_ABORT_PIC from 2015-02-08 08:05:54.120 to 2015-02-08 08:06:55.120\n"
     ]
    },
    {
     "data": {
      "text/html": [
       "<text style=color:blue>Executing RB.A81 query function find_source_timestamp_qds: 6/45.</text>"
      ],
      "text/plain": [
       "<IPython.core.display.HTML object>"
      ]
     },
     "metadata": {},
     "output_type": "display_data"
    },
    {
     "name": "stdout",
     "output_type": "stream",
     "text": [
      "\tQuerying PM event timestamps for system: QPS, className: DQAMCNMB_PMSTD, source: * from 2015-02-08 08:05:05.120 to 2015-02-08 08:14:15.120\n"
     ]
    },
    {
     "data": {
      "text/html": [
       "<text style=color:blue>Executing RB.A81 query function find_source_timestamp_ee: 1/45.</text>"
      ],
      "text/plain": [
       "<IPython.core.display.HTML object>"
      ]
     },
     "metadata": {},
     "output_type": "display_data"
    },
    {
     "name": "stdout",
     "output_type": "stream",
     "text": [
      "\tQuerying PM event timestamps for system: QPS, className: DQAMSNRB, source: UA87.RB.A81 from 2015-02-09 19:32:05 to 2015-02-09 19:48:55\n"
     ]
    },
    {
     "data": {
      "text/html": [
       "<text style=color:blue>Executing RB.A81 query function query_ee_u_dump_res_pm: 2/45.</text>"
      ],
      "text/plain": [
       "<IPython.core.display.HTML object>"
      ]
     },
     "metadata": {},
     "output_type": "display_data"
    },
    {
     "name": "stdout",
     "output_type": "stream",
     "text": [
      "\tQuerying PM event signal(s) UA87.RB.A81:U_DUMP_RES for system: QPS, className: DQAMSNRB, source: UA87.RB.A81 at 2015-02-09 19:32:15.567\n"
     ]
    },
    {
     "data": {
      "text/html": [
       "<text style=color:blue>Executing RB.A81 query function find_source_timestamp_ee: 3/45.</text>"
      ],
      "text/plain": [
       "<IPython.core.display.HTML object>"
      ]
     },
     "metadata": {},
     "output_type": "display_data"
    },
    {
     "name": "stdout",
     "output_type": "stream",
     "text": [
      "\tQuerying PM event timestamps for system: QPS, className: DQAMSNRB, source: RR13.RB.A81 from 2015-02-09 19:32:05 to 2015-02-09 19:48:55\n"
     ]
    },
    {
     "data": {
      "text/html": [
       "<text style=color:blue>Executing RB.A81 query function query_ee_u_dump_res_pm: 4/45.</text>"
      ],
      "text/plain": [
       "<IPython.core.display.HTML object>"
      ]
     },
     "metadata": {},
     "output_type": "display_data"
    },
    {
     "name": "stdout",
     "output_type": "stream",
     "text": [
      "\tQuerying PM event signal(s) RR13.RB.A81:U_DUMP_RES for system: QPS, className: DQAMSNRB, source: RR13.RB.A81 at 2015-02-09 19:32:15.318\n"
     ]
    },
    {
     "data": {
      "text/html": [
       "<text style=color:blue>Executing RB.A81 query function find_timestamp_pic: 5/45.</text>"
      ],
      "text/plain": [
       "<IPython.core.display.HTML object>"
      ]
     },
     "metadata": {},
     "output_type": "display_data"
    },
    {
     "name": "stdout",
     "output_type": "stream",
     "text": [
      "\tQuerying NXCALS signal(s) RB.A81.ODD:ST_ABORT_PIC, RB.A81.EVEN:ST_ABORT_PIC from 2015-02-09 19:32:14 to 2015-02-09 19:33:15\n"
     ]
    },
    {
     "data": {
      "text/html": [
       "<text style=color:blue>Executing RB.A81 query function find_source_timestamp_qds: 6/45.</text>"
      ],
      "text/plain": [
       "<IPython.core.display.HTML object>"
      ]
     },
     "metadata": {},
     "output_type": "display_data"
    },
    {
     "name": "stdout",
     "output_type": "stream",
     "text": [
      "\tQuerying PM event timestamps for system: QPS, className: DQAMCNMB_PMSTD, source: * from 2015-02-09 19:31:25 to 2015-02-09 19:40:35\n"
     ]
    },
    {
     "data": {
      "text/html": [
       "<text style=color:blue>Executing RB.A81 query function find_source_timestamp_ee: 1/45.</text>"
      ],
      "text/plain": [
       "<IPython.core.display.HTML object>"
      ]
     },
     "metadata": {},
     "output_type": "display_data"
    },
    {
     "name": "stdout",
     "output_type": "stream",
     "text": [
      "\tQuerying PM event timestamps for system: QPS, className: DQAMSNRB, source: UA87.RB.A81 from 2015-02-10 08:39:02.400 to 2015-02-10 08:55:52.400\n"
     ]
    },
    {
     "data": {
      "text/html": [
       "<text style=color:blue>Executing RB.A81 query function query_ee_u_dump_res_pm: 2/45.</text>"
      ],
      "text/plain": [
       "<IPython.core.display.HTML object>"
      ]
     },
     "metadata": {},
     "output_type": "display_data"
    },
    {
     "name": "stdout",
     "output_type": "stream",
     "text": [
      "\tQuerying PM event signal(s) UA87.RB.A81:U_DUMP_RES for system: QPS, className: DQAMSNRB, source: UA87.RB.A81 at 2015-02-10 08:39:12.951\n"
     ]
    },
    {
     "data": {
      "text/html": [
       "<text style=color:blue>Executing RB.A81 query function find_source_timestamp_ee: 3/45.</text>"
      ],
      "text/plain": [
       "<IPython.core.display.HTML object>"
      ]
     },
     "metadata": {},
     "output_type": "display_data"
    },
    {
     "name": "stdout",
     "output_type": "stream",
     "text": [
      "\tQuerying PM event timestamps for system: QPS, className: DQAMSNRB, source: RR13.RB.A81 from 2015-02-10 08:39:02.400 to 2015-02-10 08:55:52.400\n"
     ]
    },
    {
     "data": {
      "text/html": [
       "<text style=color:blue>Executing RB.A81 query function query_ee_u_dump_res_pm: 4/45.</text>"
      ],
      "text/plain": [
       "<IPython.core.display.HTML object>"
      ]
     },
     "metadata": {},
     "output_type": "display_data"
    },
    {
     "name": "stdout",
     "output_type": "stream",
     "text": [
      "\tQuerying PM event signal(s) RR13.RB.A81:U_DUMP_RES for system: QPS, className: DQAMSNRB, source: RR13.RB.A81 at 2015-02-10 08:39:12.703\n"
     ]
    },
    {
     "data": {
      "text/html": [
       "<text style=color:blue>Executing RB.A81 query function find_timestamp_pic: 5/45.</text>"
      ],
      "text/plain": [
       "<IPython.core.display.HTML object>"
      ]
     },
     "metadata": {},
     "output_type": "display_data"
    },
    {
     "name": "stdout",
     "output_type": "stream",
     "text": [
      "\tQuerying NXCALS signal(s) RB.A81.ODD:ST_ABORT_PIC, RB.A81.EVEN:ST_ABORT_PIC from 2015-02-10 08:39:11.400 to 2015-02-10 08:40:12.400\n"
     ]
    },
    {
     "data": {
      "text/html": [
       "<text style=color:blue>Executing RB.A81 query function find_source_timestamp_qds: 6/45.</text>"
      ],
      "text/plain": [
       "<IPython.core.display.HTML object>"
      ]
     },
     "metadata": {},
     "output_type": "display_data"
    },
    {
     "name": "stdout",
     "output_type": "stream",
     "text": [
      "\tQuerying PM event timestamps for system: QPS, className: DQAMCNMB_PMSTD, source: * from 2015-02-10 08:38:22.400 to 2015-02-10 08:47:32.400\n"
     ]
    },
    {
     "data": {
      "text/html": [
       "<text style=color:blue>Executing RB.A81 query function find_source_timestamp_ee: 1/45.</text>"
      ],
      "text/plain": [
       "<IPython.core.display.HTML object>"
      ]
     },
     "metadata": {},
     "output_type": "display_data"
    },
    {
     "name": "stdout",
     "output_type": "stream",
     "text": [
      "\tQuerying PM event timestamps for system: QPS, className: DQAMSNRB, source: UA87.RB.A81 from 2015-02-11 09:34:19.800 to 2015-02-11 09:51:09.800\n"
     ]
    },
    {
     "data": {
      "text/html": [
       "<text style=color:blue>Executing RB.A81 query function query_ee_u_dump_res_pm: 2/45.</text>"
      ],
      "text/plain": [
       "<IPython.core.display.HTML object>"
      ]
     },
     "metadata": {},
     "output_type": "display_data"
    },
    {
     "name": "stdout",
     "output_type": "stream",
     "text": [
      "\tQuerying PM event signal(s) UA87.RB.A81:U_DUMP_RES for system: QPS, className: DQAMSNRB, source: UA87.RB.A81 at 2015-02-11 09:34:30.346\n"
     ]
    },
    {
     "data": {
      "text/html": [
       "<text style=color:blue>Executing RB.A81 query function find_source_timestamp_ee: 3/45.</text>"
      ],
      "text/plain": [
       "<IPython.core.display.HTML object>"
      ]
     },
     "metadata": {},
     "output_type": "display_data"
    },
    {
     "name": "stdout",
     "output_type": "stream",
     "text": [
      "\tQuerying PM event timestamps for system: QPS, className: DQAMSNRB, source: RR13.RB.A81 from 2015-02-11 09:34:19.800 to 2015-02-11 09:51:09.800\n"
     ]
    },
    {
     "data": {
      "text/html": [
       "<text style=color:blue>Executing RB.A81 query function query_ee_u_dump_res_pm: 4/45.</text>"
      ],
      "text/plain": [
       "<IPython.core.display.HTML object>"
      ]
     },
     "metadata": {},
     "output_type": "display_data"
    },
    {
     "name": "stdout",
     "output_type": "stream",
     "text": [
      "\tQuerying PM event signal(s) RR13.RB.A81:U_DUMP_RES for system: QPS, className: DQAMSNRB, source: RR13.RB.A81 at 2015-02-11 09:34:30.099\n"
     ]
    },
    {
     "data": {
      "text/html": [
       "<text style=color:blue>Executing RB.A81 query function find_timestamp_pic: 5/45.</text>"
      ],
      "text/plain": [
       "<IPython.core.display.HTML object>"
      ]
     },
     "metadata": {},
     "output_type": "display_data"
    },
    {
     "name": "stdout",
     "output_type": "stream",
     "text": [
      "\tQuerying NXCALS signal(s) RB.A81.ODD:ST_ABORT_PIC, RB.A81.EVEN:ST_ABORT_PIC from 2015-02-11 09:34:28.800 to 2015-02-11 09:35:29.800\n"
     ]
    },
    {
     "data": {
      "text/html": [
       "<text style=color:blue>Executing RB.A81 query function find_source_timestamp_qds: 6/45.</text>"
      ],
      "text/plain": [
       "<IPython.core.display.HTML object>"
      ]
     },
     "metadata": {},
     "output_type": "display_data"
    },
    {
     "name": "stdout",
     "output_type": "stream",
     "text": [
      "\tQuerying PM event timestamps for system: QPS, className: DQAMCNMB_PMSTD, source: * from 2015-02-11 09:33:39.800 to 2015-02-11 09:42:49.800\n"
     ]
    },
    {
     "data": {
      "text/html": [
       "<text style=color:blue>Executing RB.A81 query function find_source_timestamp_ee: 1/45.</text>"
      ],
      "text/plain": [
       "<IPython.core.display.HTML object>"
      ]
     },
     "metadata": {},
     "output_type": "display_data"
    },
    {
     "name": "stdout",
     "output_type": "stream",
     "text": [
      "\tQuerying PM event timestamps for system: QPS, className: DQAMSNRB, source: UA87.RB.A81 from 2015-02-11 16:49:20.640 to 2015-02-11 17:06:10.640\n"
     ]
    },
    {
     "data": {
      "text/html": [
       "<text style=color:blue>Executing RB.A81 query function query_ee_u_dump_res_pm: 2/45.</text>"
      ],
      "text/plain": [
       "<IPython.core.display.HTML object>"
      ]
     },
     "metadata": {},
     "output_type": "display_data"
    },
    {
     "name": "stdout",
     "output_type": "stream",
     "text": [
      "\tQuerying PM event signal(s) UA87.RB.A81:U_DUMP_RES for system: QPS, className: DQAMSNRB, source: UA87.RB.A81 at 2015-02-11 16:49:31.202\n"
     ]
    },
    {
     "data": {
      "text/html": [
       "<text style=color:blue>Executing RB.A81 query function find_source_timestamp_ee: 3/45.</text>"
      ],
      "text/plain": [
       "<IPython.core.display.HTML object>"
      ]
     },
     "metadata": {},
     "output_type": "display_data"
    },
    {
     "name": "stdout",
     "output_type": "stream",
     "text": [
      "\tQuerying PM event timestamps for system: QPS, className: DQAMSNRB, source: RR13.RB.A81 from 2015-02-11 16:49:20.640 to 2015-02-11 17:06:10.640\n"
     ]
    },
    {
     "data": {
      "text/html": [
       "<text style=color:blue>Executing RB.A81 query function query_ee_u_dump_res_pm: 4/45.</text>"
      ],
      "text/plain": [
       "<IPython.core.display.HTML object>"
      ]
     },
     "metadata": {},
     "output_type": "display_data"
    },
    {
     "name": "stdout",
     "output_type": "stream",
     "text": [
      "\tQuerying PM event signal(s) RR13.RB.A81:U_DUMP_RES for system: QPS, className: DQAMSNRB, source: RR13.RB.A81 at 2015-02-11 16:49:30.958\n"
     ]
    },
    {
     "data": {
      "text/html": [
       "<text style=color:blue>Executing RB.A81 query function find_timestamp_pic: 5/45.</text>"
      ],
      "text/plain": [
       "<IPython.core.display.HTML object>"
      ]
     },
     "metadata": {},
     "output_type": "display_data"
    },
    {
     "name": "stdout",
     "output_type": "stream",
     "text": [
      "\tQuerying NXCALS signal(s) RB.A81.ODD:ST_ABORT_PIC, RB.A81.EVEN:ST_ABORT_PIC from 2015-02-11 16:49:29.640 to 2015-02-11 16:50:30.640\n"
     ]
    },
    {
     "data": {
      "text/html": [
       "<text style=color:blue>Executing RB.A81 query function find_source_timestamp_qds: 6/45.</text>"
      ],
      "text/plain": [
       "<IPython.core.display.HTML object>"
      ]
     },
     "metadata": {},
     "output_type": "display_data"
    },
    {
     "name": "stdout",
     "output_type": "stream",
     "text": [
      "\tQuerying PM event timestamps for system: QPS, className: DQAMCNMB_PMSTD, source: * from 2015-02-11 16:48:40.640 to 2015-02-11 16:57:50.640\n"
     ]
    },
    {
     "data": {
      "text/html": [
       "<text style=color:blue>Executing RB.A81 query function find_source_timestamp_ee: 1/45.</text>"
      ],
      "text/plain": [
       "<IPython.core.display.HTML object>"
      ]
     },
     "metadata": {},
     "output_type": "display_data"
    },
    {
     "name": "stdout",
     "output_type": "stream",
     "text": [
      "\tQuerying PM event timestamps for system: QPS, className: DQAMSNRB, source: UA87.RB.A81 from 2015-02-12 03:07:18.020 to 2015-02-12 03:24:08.020\n"
     ]
    },
    {
     "data": {
      "text/html": [
       "<text style=color:blue>Executing RB.A81 query function query_ee_u_dump_res_pm: 2/45.</text>"
      ],
      "text/plain": [
       "<IPython.core.display.HTML object>"
      ]
     },
     "metadata": {},
     "output_type": "display_data"
    },
    {
     "name": "stdout",
     "output_type": "stream",
     "text": [
      "\tQuerying PM event signal(s) UA87.RB.A81:U_DUMP_RES for system: QPS, className: DQAMSNRB, source: UA87.RB.A81 at 2015-02-12 03:07:28.580\n"
     ]
    },
    {
     "data": {
      "text/html": [
       "<text style=color:blue>Executing RB.A81 query function find_source_timestamp_ee: 3/45.</text>"
      ],
      "text/plain": [
       "<IPython.core.display.HTML object>"
      ]
     },
     "metadata": {},
     "output_type": "display_data"
    },
    {
     "name": "stdout",
     "output_type": "stream",
     "text": [
      "\tQuerying PM event timestamps for system: QPS, className: DQAMSNRB, source: RR13.RB.A81 from 2015-02-12 03:07:18.020 to 2015-02-12 03:24:08.020\n"
     ]
    },
    {
     "data": {
      "text/html": [
       "<text style=color:blue>Executing RB.A81 query function query_ee_u_dump_res_pm: 4/45.</text>"
      ],
      "text/plain": [
       "<IPython.core.display.HTML object>"
      ]
     },
     "metadata": {},
     "output_type": "display_data"
    },
    {
     "name": "stdout",
     "output_type": "stream",
     "text": [
      "\tQuerying PM event signal(s) RR13.RB.A81:U_DUMP_RES for system: QPS, className: DQAMSNRB, source: RR13.RB.A81 at 2015-02-12 03:07:28.337\n"
     ]
    },
    {
     "data": {
      "text/html": [
       "<text style=color:blue>Executing RB.A81 query function find_timestamp_pic: 5/45.</text>"
      ],
      "text/plain": [
       "<IPython.core.display.HTML object>"
      ]
     },
     "metadata": {},
     "output_type": "display_data"
    },
    {
     "name": "stdout",
     "output_type": "stream",
     "text": [
      "\tQuerying NXCALS signal(s) RB.A81.ODD:ST_ABORT_PIC, RB.A81.EVEN:ST_ABORT_PIC from 2015-02-12 03:07:27.020 to 2015-02-12 03:08:28.020\n"
     ]
    },
    {
     "data": {
      "text/html": [
       "<text style=color:blue>Executing RB.A81 query function find_source_timestamp_qds: 6/45.</text>"
      ],
      "text/plain": [
       "<IPython.core.display.HTML object>"
      ]
     },
     "metadata": {},
     "output_type": "display_data"
    },
    {
     "name": "stdout",
     "output_type": "stream",
     "text": [
      "\tQuerying PM event timestamps for system: QPS, className: DQAMCNMB_PMSTD, source: * from 2015-02-12 03:06:38.020 to 2015-02-12 03:15:48.020\n"
     ]
    },
    {
     "data": {
      "text/html": [
       "<text style=color:blue>Executing RB.A81 query function find_source_timestamp_ee: 1/45.</text>"
      ],
      "text/plain": [
       "<IPython.core.display.HTML object>"
      ]
     },
     "metadata": {},
     "output_type": "display_data"
    },
    {
     "name": "stdout",
     "output_type": "stream",
     "text": [
      "\tQuerying PM event timestamps for system: QPS, className: DQAMSNRB, source: UA87.RB.A81 from 2015-02-12 19:30:16.100 to 2015-02-12 19:47:06.100\n"
     ]
    },
    {
     "data": {
      "text/html": [
       "<text style=color:blue>Executing RB.A81 query function query_ee_u_dump_res_pm: 2/45.</text>"
      ],
      "text/plain": [
       "<IPython.core.display.HTML object>"
      ]
     },
     "metadata": {},
     "output_type": "display_data"
    },
    {
     "name": "stdout",
     "output_type": "stream",
     "text": [
      "\tQuerying PM event signal(s) UA87.RB.A81:U_DUMP_RES for system: QPS, className: DQAMSNRB, source: UA87.RB.A81 at 2015-02-12 19:30:26.647\n"
     ]
    },
    {
     "data": {
      "text/html": [
       "<text style=color:blue>Executing RB.A81 query function find_source_timestamp_ee: 3/45.</text>"
      ],
      "text/plain": [
       "<IPython.core.display.HTML object>"
      ]
     },
     "metadata": {},
     "output_type": "display_data"
    },
    {
     "name": "stdout",
     "output_type": "stream",
     "text": [
      "\tQuerying PM event timestamps for system: QPS, className: DQAMSNRB, source: RR13.RB.A81 from 2015-02-12 19:30:16.100 to 2015-02-12 19:47:06.100\n"
     ]
    },
    {
     "data": {
      "text/html": [
       "<text style=color:blue>Executing RB.A81 query function query_ee_u_dump_res_pm: 4/45.</text>"
      ],
      "text/plain": [
       "<IPython.core.display.HTML object>"
      ]
     },
     "metadata": {},
     "output_type": "display_data"
    },
    {
     "name": "stdout",
     "output_type": "stream",
     "text": [
      "\tQuerying PM event signal(s) RR13.RB.A81:U_DUMP_RES for system: QPS, className: DQAMSNRB, source: RR13.RB.A81 at 2015-02-12 19:30:26.404\n"
     ]
    },
    {
     "data": {
      "text/html": [
       "<text style=color:blue>Executing RB.A81 query function find_timestamp_pic: 5/45.</text>"
      ],
      "text/plain": [
       "<IPython.core.display.HTML object>"
      ]
     },
     "metadata": {},
     "output_type": "display_data"
    },
    {
     "name": "stdout",
     "output_type": "stream",
     "text": [
      "\tQuerying NXCALS signal(s) RB.A81.ODD:ST_ABORT_PIC, RB.A81.EVEN:ST_ABORT_PIC from 2015-02-12 19:30:25.100 to 2015-02-12 19:31:26.100\n"
     ]
    },
    {
     "data": {
      "text/html": [
       "<text style=color:blue>Executing RB.A81 query function find_source_timestamp_qds: 6/45.</text>"
      ],
      "text/plain": [
       "<IPython.core.display.HTML object>"
      ]
     },
     "metadata": {},
     "output_type": "display_data"
    },
    {
     "name": "stdout",
     "output_type": "stream",
     "text": [
      "\tQuerying PM event timestamps for system: QPS, className: DQAMCNMB_PMSTD, source: * from 2015-02-12 19:29:36.100 to 2015-02-12 19:38:46.100\n"
     ]
    },
    {
     "data": {
      "text/html": [
       "<text style=color:blue>Executing RB.A81 query function find_source_timestamp_ee: 1/45.</text>"
      ],
      "text/plain": [
       "<IPython.core.display.HTML object>"
      ]
     },
     "metadata": {},
     "output_type": "display_data"
    },
    {
     "name": "stdout",
     "output_type": "stream",
     "text": [
      "\tQuerying PM event timestamps for system: QPS, className: DQAMSNRB, source: UA87.RB.A81 from 2015-02-13 07:27:23.080 to 2015-02-13 07:44:13.080\n"
     ]
    },
    {
     "data": {
      "text/html": [
       "<text style=color:blue>Executing RB.A81 query function query_ee_u_dump_res_pm: 2/45.</text>"
      ],
      "text/plain": [
       "<IPython.core.display.HTML object>"
      ]
     },
     "metadata": {},
     "output_type": "display_data"
    },
    {
     "name": "stdout",
     "output_type": "stream",
     "text": [
      "\tQuerying PM event signal(s) UA87.RB.A81:U_DUMP_RES for system: QPS, className: DQAMSNRB, source: UA87.RB.A81 at 2015-02-13 07:27:33.639\n"
     ]
    },
    {
     "data": {
      "text/html": [
       "<text style=color:blue>Executing RB.A81 query function find_source_timestamp_ee: 3/45.</text>"
      ],
      "text/plain": [
       "<IPython.core.display.HTML object>"
      ]
     },
     "metadata": {},
     "output_type": "display_data"
    },
    {
     "name": "stdout",
     "output_type": "stream",
     "text": [
      "\tQuerying PM event timestamps for system: QPS, className: DQAMSNRB, source: RR13.RB.A81 from 2015-02-13 07:27:23.080 to 2015-02-13 07:44:13.080\n"
     ]
    },
    {
     "data": {
      "text/html": [
       "<text style=color:blue>Executing RB.A81 query function query_ee_u_dump_res_pm: 4/45.</text>"
      ],
      "text/plain": [
       "<IPython.core.display.HTML object>"
      ]
     },
     "metadata": {},
     "output_type": "display_data"
    },
    {
     "name": "stdout",
     "output_type": "stream",
     "text": [
      "\tQuerying PM event signal(s) RR13.RB.A81:U_DUMP_RES for system: QPS, className: DQAMSNRB, source: RR13.RB.A81 at 2015-02-13 07:27:33.393\n"
     ]
    },
    {
     "data": {
      "text/html": [
       "<text style=color:blue>Executing RB.A81 query function find_timestamp_pic: 5/45.</text>"
      ],
      "text/plain": [
       "<IPython.core.display.HTML object>"
      ]
     },
     "metadata": {},
     "output_type": "display_data"
    },
    {
     "name": "stdout",
     "output_type": "stream",
     "text": [
      "\tQuerying NXCALS signal(s) RB.A81.ODD:ST_ABORT_PIC, RB.A81.EVEN:ST_ABORT_PIC from 2015-02-13 07:27:32.080 to 2015-02-13 07:28:33.080\n"
     ]
    },
    {
     "data": {
      "text/html": [
       "<text style=color:blue>Executing RB.A81 query function find_source_timestamp_qds: 6/45.</text>"
      ],
      "text/plain": [
       "<IPython.core.display.HTML object>"
      ]
     },
     "metadata": {},
     "output_type": "display_data"
    },
    {
     "name": "stdout",
     "output_type": "stream",
     "text": [
      "\tQuerying PM event timestamps for system: QPS, className: DQAMCNMB_PMSTD, source: * from 2015-02-13 07:26:43.080 to 2015-02-13 07:35:53.080\n"
     ]
    },
    {
     "data": {
      "text/html": [
       "<text style=color:blue>Executing RB.A81 query function find_source_timestamp_ee: 1/45.</text>"
      ],
      "text/plain": [
       "<IPython.core.display.HTML object>"
      ]
     },
     "metadata": {},
     "output_type": "display_data"
    },
    {
     "name": "stdout",
     "output_type": "stream",
     "text": [
      "\tQuerying PM event timestamps for system: QPS, className: DQAMSNRB, source: UA87.RB.A81 from 2015-02-13 21:00:41.220 to 2015-02-13 21:17:31.220\n"
     ]
    },
    {
     "data": {
      "text/html": [
       "<text style=color:blue>Executing RB.A81 query function query_ee_u_dump_res_pm: 2/45.</text>"
      ],
      "text/plain": [
       "<IPython.core.display.HTML object>"
      ]
     },
     "metadata": {},
     "output_type": "display_data"
    },
    {
     "name": "stdout",
     "output_type": "stream",
     "text": [
      "\tQuerying PM event signal(s) UA87.RB.A81:U_DUMP_RES for system: QPS, className: DQAMSNRB, source: UA87.RB.A81 at 2015-02-13 21:00:51.771\n"
     ]
    },
    {
     "data": {
      "text/html": [
       "<text style=color:blue>Executing RB.A81 query function find_source_timestamp_ee: 3/45.</text>"
      ],
      "text/plain": [
       "<IPython.core.display.HTML object>"
      ]
     },
     "metadata": {},
     "output_type": "display_data"
    },
    {
     "name": "stdout",
     "output_type": "stream",
     "text": [
      "\tQuerying PM event timestamps for system: QPS, className: DQAMSNRB, source: RR13.RB.A81 from 2015-02-13 21:00:41.220 to 2015-02-13 21:17:31.220\n"
     ]
    },
    {
     "data": {
      "text/html": [
       "<text style=color:blue>Executing RB.A81 query function query_ee_u_dump_res_pm: 4/45.</text>"
      ],
      "text/plain": [
       "<IPython.core.display.HTML object>"
      ]
     },
     "metadata": {},
     "output_type": "display_data"
    },
    {
     "name": "stdout",
     "output_type": "stream",
     "text": [
      "\tQuerying PM event signal(s) RR13.RB.A81:U_DUMP_RES for system: QPS, className: DQAMSNRB, source: RR13.RB.A81 at 2015-02-13 21:00:51.528\n"
     ]
    },
    {
     "data": {
      "text/html": [
       "<text style=color:blue>Executing RB.A81 query function find_timestamp_pic: 5/45.</text>"
      ],
      "text/plain": [
       "<IPython.core.display.HTML object>"
      ]
     },
     "metadata": {},
     "output_type": "display_data"
    },
    {
     "name": "stdout",
     "output_type": "stream",
     "text": [
      "\tQuerying NXCALS signal(s) RB.A81.ODD:ST_ABORT_PIC, RB.A81.EVEN:ST_ABORT_PIC from 2015-02-13 21:00:50.220 to 2015-02-13 21:01:51.220\n"
     ]
    },
    {
     "data": {
      "text/html": [
       "<text style=color:blue>Executing RB.A81 query function find_source_timestamp_qds: 6/45.</text>"
      ],
      "text/plain": [
       "<IPython.core.display.HTML object>"
      ]
     },
     "metadata": {},
     "output_type": "display_data"
    },
    {
     "name": "stdout",
     "output_type": "stream",
     "text": [
      "\tQuerying PM event timestamps for system: QPS, className: DQAMCNMB_PMSTD, source: * from 2015-02-13 21:00:01.220 to 2015-02-13 21:09:11.220\n"
     ]
    },
    {
     "data": {
      "text/html": [
       "<text style=color:blue>Executing RB.A81 query function find_source_timestamp_ee: 1/45.</text>"
      ],
      "text/plain": [
       "<IPython.core.display.HTML object>"
      ]
     },
     "metadata": {},
     "output_type": "display_data"
    },
    {
     "name": "stdout",
     "output_type": "stream",
     "text": [
      "\tQuerying PM event timestamps for system: QPS, className: DQAMSNRB, source: UA87.RB.A81 from 2015-02-14 08:25:28.500 to 2015-02-14 08:42:18.500\n"
     ]
    },
    {
     "data": {
      "text/html": [
       "<text style=color:blue>Executing RB.A81 query function query_ee_u_dump_res_pm: 2/45.</text>"
      ],
      "text/plain": [
       "<IPython.core.display.HTML object>"
      ]
     },
     "metadata": {},
     "output_type": "display_data"
    },
    {
     "name": "stdout",
     "output_type": "stream",
     "text": [
      "\tQuerying PM event signal(s) UA87.RB.A81:U_DUMP_RES for system: QPS, className: DQAMSNRB, source: UA87.RB.A81 at 2015-02-14 08:25:39.056\n"
     ]
    },
    {
     "data": {
      "text/html": [
       "<text style=color:blue>Executing RB.A81 query function find_source_timestamp_ee: 3/45.</text>"
      ],
      "text/plain": [
       "<IPython.core.display.HTML object>"
      ]
     },
     "metadata": {},
     "output_type": "display_data"
    },
    {
     "name": "stdout",
     "output_type": "stream",
     "text": [
      "\tQuerying PM event timestamps for system: QPS, className: DQAMSNRB, source: RR13.RB.A81 from 2015-02-14 08:25:28.500 to 2015-02-14 08:42:18.500\n"
     ]
    },
    {
     "data": {
      "text/html": [
       "<text style=color:blue>Executing RB.A81 query function query_ee_u_dump_res_pm: 4/45.</text>"
      ],
      "text/plain": [
       "<IPython.core.display.HTML object>"
      ]
     },
     "metadata": {},
     "output_type": "display_data"
    },
    {
     "name": "stdout",
     "output_type": "stream",
     "text": [
      "\tQuerying PM event signal(s) RR13.RB.A81:U_DUMP_RES for system: QPS, className: DQAMSNRB, source: RR13.RB.A81 at 2015-02-14 08:25:38.809\n"
     ]
    },
    {
     "data": {
      "text/html": [
       "<text style=color:blue>Executing RB.A81 query function find_timestamp_pic: 5/45.</text>"
      ],
      "text/plain": [
       "<IPython.core.display.HTML object>"
      ]
     },
     "metadata": {},
     "output_type": "display_data"
    },
    {
     "name": "stdout",
     "output_type": "stream",
     "text": [
      "\tQuerying NXCALS signal(s) RB.A81.ODD:ST_ABORT_PIC, RB.A81.EVEN:ST_ABORT_PIC from 2015-02-14 08:25:37.500 to 2015-02-14 08:26:38.500\n"
     ]
    },
    {
     "data": {
      "text/html": [
       "<text style=color:blue>Executing RB.A81 query function find_source_timestamp_qds: 6/45.</text>"
      ],
      "text/plain": [
       "<IPython.core.display.HTML object>"
      ]
     },
     "metadata": {},
     "output_type": "display_data"
    },
    {
     "name": "stdout",
     "output_type": "stream",
     "text": [
      "\tQuerying PM event timestamps for system: QPS, className: DQAMCNMB_PMSTD, source: * from 2015-02-14 08:24:48.500 to 2015-02-14 08:33:58.500\n"
     ]
    },
    {
     "data": {
      "text/html": [
       "<text style=color:blue>Executing RB.A81 query function find_source_timestamp_ee: 1/45.</text>"
      ],
      "text/plain": [
       "<IPython.core.display.HTML object>"
      ]
     },
     "metadata": {},
     "output_type": "display_data"
    },
    {
     "name": "stdout",
     "output_type": "stream",
     "text": [
      "\tQuerying PM event timestamps for system: QPS, className: DQAMSNRB, source: UA87.RB.A81 from 2015-02-14 19:19:51.300 to 2015-02-14 19:36:41.300\n"
     ]
    },
    {
     "data": {
      "text/html": [
       "<text style=color:blue>Executing RB.A81 query function query_ee_u_dump_res_pm: 2/45.</text>"
      ],
      "text/plain": [
       "<IPython.core.display.HTML object>"
      ]
     },
     "metadata": {},
     "output_type": "display_data"
    },
    {
     "name": "stdout",
     "output_type": "stream",
     "text": [
      "\tQuerying PM event signal(s) UA87.RB.A81:U_DUMP_RES for system: QPS, className: DQAMSNRB, source: UA87.RB.A81 at 2015-02-14 19:20:01.863\n"
     ]
    },
    {
     "data": {
      "text/html": [
       "<text style=color:blue>Executing RB.A81 query function find_source_timestamp_ee: 3/45.</text>"
      ],
      "text/plain": [
       "<IPython.core.display.HTML object>"
      ]
     },
     "metadata": {},
     "output_type": "display_data"
    },
    {
     "name": "stdout",
     "output_type": "stream",
     "text": [
      "\tQuerying PM event timestamps for system: QPS, className: DQAMSNRB, source: RR13.RB.A81 from 2015-02-14 19:19:51.300 to 2015-02-14 19:36:41.300\n"
     ]
    },
    {
     "data": {
      "text/html": [
       "<text style=color:blue>Executing RB.A81 query function query_ee_u_dump_res_pm: 4/45.</text>"
      ],
      "text/plain": [
       "<IPython.core.display.HTML object>"
      ]
     },
     "metadata": {},
     "output_type": "display_data"
    },
    {
     "name": "stdout",
     "output_type": "stream",
     "text": [
      "\tQuerying PM event signal(s) RR13.RB.A81:U_DUMP_RES for system: QPS, className: DQAMSNRB, source: RR13.RB.A81 at 2015-02-14 19:20:01.615\n"
     ]
    },
    {
     "data": {
      "text/html": [
       "<text style=color:blue>Executing RB.A81 query function find_timestamp_pic: 5/45.</text>"
      ],
      "text/plain": [
       "<IPython.core.display.HTML object>"
      ]
     },
     "metadata": {},
     "output_type": "display_data"
    },
    {
     "name": "stdout",
     "output_type": "stream",
     "text": [
      "\tQuerying NXCALS signal(s) RB.A81.ODD:ST_ABORT_PIC, RB.A81.EVEN:ST_ABORT_PIC from 2015-02-14 19:20:00.300 to 2015-02-14 19:21:01.300\n"
     ]
    },
    {
     "data": {
      "text/html": [
       "<text style=color:blue>Executing RB.A81 query function find_source_timestamp_qds: 6/45.</text>"
      ],
      "text/plain": [
       "<IPython.core.display.HTML object>"
      ]
     },
     "metadata": {},
     "output_type": "display_data"
    },
    {
     "name": "stdout",
     "output_type": "stream",
     "text": [
      "\tQuerying PM event timestamps for system: QPS, className: DQAMCNMB_PMSTD, source: * from 2015-02-14 19:19:11.300 to 2015-02-14 19:28:21.300\n"
     ]
    },
    {
     "data": {
      "text/html": [
       "<text style=color:blue>Executing RB.A81 query function find_source_timestamp_ee: 1/45.</text>"
      ],
      "text/plain": [
       "<IPython.core.display.HTML object>"
      ]
     },
     "metadata": {},
     "output_type": "display_data"
    },
    {
     "name": "stdout",
     "output_type": "stream",
     "text": [
      "\tQuerying PM event timestamps for system: QPS, className: DQAMSNRB, source: UA87.RB.A81 from 2015-02-15 07:35:37.160 to 2015-02-15 07:52:27.160\n"
     ]
    },
    {
     "data": {
      "text/html": [
       "<text style=color:blue>Executing RB.A81 query function query_ee_u_dump_res_pm: 2/45.</text>"
      ],
      "text/plain": [
       "<IPython.core.display.HTML object>"
      ]
     },
     "metadata": {},
     "output_type": "display_data"
    },
    {
     "name": "stdout",
     "output_type": "stream",
     "text": [
      "\tQuerying PM event signal(s) UA87.RB.A81:U_DUMP_RES for system: QPS, className: DQAMSNRB, source: UA87.RB.A81 at 2015-02-15 07:35:47.709\n"
     ]
    },
    {
     "data": {
      "text/html": [
       "<text style=color:blue>Executing RB.A81 query function find_source_timestamp_ee: 3/45.</text>"
      ],
      "text/plain": [
       "<IPython.core.display.HTML object>"
      ]
     },
     "metadata": {},
     "output_type": "display_data"
    },
    {
     "name": "stdout",
     "output_type": "stream",
     "text": [
      "\tQuerying PM event timestamps for system: QPS, className: DQAMSNRB, source: RR13.RB.A81 from 2015-02-15 07:35:37.160 to 2015-02-15 07:52:27.160\n"
     ]
    },
    {
     "data": {
      "text/html": [
       "<text style=color:blue>Executing RB.A81 query function query_ee_u_dump_res_pm: 4/45.</text>"
      ],
      "text/plain": [
       "<IPython.core.display.HTML object>"
      ]
     },
     "metadata": {},
     "output_type": "display_data"
    },
    {
     "name": "stdout",
     "output_type": "stream",
     "text": [
      "\tQuerying PM event signal(s) RR13.RB.A81:U_DUMP_RES for system: QPS, className: DQAMSNRB, source: RR13.RB.A81 at 2015-02-15 07:35:47.461\n"
     ]
    },
    {
     "data": {
      "text/html": [
       "<text style=color:blue>Executing RB.A81 query function find_timestamp_pic: 5/45.</text>"
      ],
      "text/plain": [
       "<IPython.core.display.HTML object>"
      ]
     },
     "metadata": {},
     "output_type": "display_data"
    },
    {
     "name": "stdout",
     "output_type": "stream",
     "text": [
      "\tQuerying NXCALS signal(s) RB.A81.ODD:ST_ABORT_PIC, RB.A81.EVEN:ST_ABORT_PIC from 2015-02-15 07:35:46.160 to 2015-02-15 07:36:47.160\n"
     ]
    },
    {
     "data": {
      "text/html": [
       "<text style=color:blue>Executing RB.A81 query function find_source_timestamp_qds: 6/45.</text>"
      ],
      "text/plain": [
       "<IPython.core.display.HTML object>"
      ]
     },
     "metadata": {},
     "output_type": "display_data"
    },
    {
     "name": "stdout",
     "output_type": "stream",
     "text": [
      "\tQuerying PM event timestamps for system: QPS, className: DQAMCNMB_PMSTD, source: * from 2015-02-15 07:34:57.160 to 2015-02-15 07:44:07.160\n"
     ]
    },
    {
     "data": {
      "text/html": [
       "<text style=color:blue>Executing RB.A81 query function find_source_timestamp_ee: 1/45.</text>"
      ],
      "text/plain": [
       "<IPython.core.display.HTML object>"
      ]
     },
     "metadata": {},
     "output_type": "display_data"
    },
    {
     "name": "stdout",
     "output_type": "stream",
     "text": [
      "\tQuerying PM event timestamps for system: QPS, className: DQAMSNRB, source: UA87.RB.A81 from 2015-02-15 18:35:37.100 to 2015-02-15 18:52:27.100\n"
     ]
    },
    {
     "data": {
      "text/html": [
       "<text style=color:blue>Executing RB.A81 query function query_ee_u_dump_res_pm: 2/45.</text>"
      ],
      "text/plain": [
       "<IPython.core.display.HTML object>"
      ]
     },
     "metadata": {},
     "output_type": "display_data"
    },
    {
     "name": "stdout",
     "output_type": "stream",
     "text": [
      "\tQuerying PM event signal(s) UA87.RB.A81:U_DUMP_RES for system: QPS, className: DQAMSNRB, source: UA87.RB.A81 at 2015-02-15 18:35:47.661\n"
     ]
    },
    {
     "data": {
      "text/html": [
       "<text style=color:blue>Executing RB.A81 query function find_source_timestamp_ee: 3/45.</text>"
      ],
      "text/plain": [
       "<IPython.core.display.HTML object>"
      ]
     },
     "metadata": {},
     "output_type": "display_data"
    },
    {
     "name": "stdout",
     "output_type": "stream",
     "text": [
      "\tQuerying PM event timestamps for system: QPS, className: DQAMSNRB, source: RR13.RB.A81 from 2015-02-15 18:35:37.100 to 2015-02-15 18:52:27.100\n"
     ]
    },
    {
     "data": {
      "text/html": [
       "<text style=color:blue>Executing RB.A81 query function query_ee_u_dump_res_pm: 4/45.</text>"
      ],
      "text/plain": [
       "<IPython.core.display.HTML object>"
      ]
     },
     "metadata": {},
     "output_type": "display_data"
    },
    {
     "name": "stdout",
     "output_type": "stream",
     "text": [
      "\tQuerying PM event signal(s) RR13.RB.A81:U_DUMP_RES for system: QPS, className: DQAMSNRB, source: RR13.RB.A81 at 2015-02-15 18:35:47.413\n"
     ]
    },
    {
     "data": {
      "text/html": [
       "<text style=color:blue>Executing RB.A81 query function find_timestamp_pic: 5/45.</text>"
      ],
      "text/plain": [
       "<IPython.core.display.HTML object>"
      ]
     },
     "metadata": {},
     "output_type": "display_data"
    },
    {
     "name": "stdout",
     "output_type": "stream",
     "text": [
      "\tQuerying NXCALS signal(s) RB.A81.ODD:ST_ABORT_PIC, RB.A81.EVEN:ST_ABORT_PIC from 2015-02-15 18:35:46.100 to 2015-02-15 18:36:47.100\n"
     ]
    },
    {
     "data": {
      "text/html": [
       "<text style=color:blue>Executing RB.A81 query function find_source_timestamp_qds: 6/45.</text>"
      ],
      "text/plain": [
       "<IPython.core.display.HTML object>"
      ]
     },
     "metadata": {},
     "output_type": "display_data"
    },
    {
     "name": "stdout",
     "output_type": "stream",
     "text": [
      "\tQuerying PM event timestamps for system: QPS, className: DQAMCNMB_PMSTD, source: * from 2015-02-15 18:34:57.100 to 2015-02-15 18:44:07.100\n"
     ]
    },
    {
     "data": {
      "text/html": [
       "<text style=color:blue>Executing RB.A81 query function find_source_timestamp_ee: 1/45.</text>"
      ],
      "text/plain": [
       "<IPython.core.display.HTML object>"
      ]
     },
     "metadata": {},
     "output_type": "display_data"
    },
    {
     "name": "stdout",
     "output_type": "stream",
     "text": [
      "\tQuerying PM event timestamps for system: QPS, className: DQAMSNRB, source: UA87.RB.A81 from 2015-02-16 07:59:35.040 to 2015-02-16 08:16:25.040\n"
     ]
    },
    {
     "data": {
      "text/html": [
       "<text style=color:blue>Executing RB.A81 query function query_ee_u_dump_res_pm: 2/45.</text>"
      ],
      "text/plain": [
       "<IPython.core.display.HTML object>"
      ]
     },
     "metadata": {},
     "output_type": "display_data"
    },
    {
     "name": "stdout",
     "output_type": "stream",
     "text": [
      "\tQuerying PM event signal(s) UA87.RB.A81:U_DUMP_RES for system: QPS, className: DQAMSNRB, source: UA87.RB.A81 at 2015-02-16 07:59:45.586\n"
     ]
    },
    {
     "data": {
      "text/html": [
       "<text style=color:blue>Executing RB.A81 query function find_source_timestamp_ee: 3/45.</text>"
      ],
      "text/plain": [
       "<IPython.core.display.HTML object>"
      ]
     },
     "metadata": {},
     "output_type": "display_data"
    },
    {
     "name": "stdout",
     "output_type": "stream",
     "text": [
      "\tQuerying PM event timestamps for system: QPS, className: DQAMSNRB, source: RR13.RB.A81 from 2015-02-16 07:59:35.040 to 2015-02-16 08:16:25.040\n"
     ]
    },
    {
     "data": {
      "text/html": [
       "<text style=color:blue>Executing RB.A81 query function query_ee_u_dump_res_pm: 4/45.</text>"
      ],
      "text/plain": [
       "<IPython.core.display.HTML object>"
      ]
     },
     "metadata": {},
     "output_type": "display_data"
    },
    {
     "name": "stdout",
     "output_type": "stream",
     "text": [
      "\tQuerying PM event signal(s) RR13.RB.A81:U_DUMP_RES for system: QPS, className: DQAMSNRB, source: RR13.RB.A81 at 2015-02-16 07:59:45.338\n"
     ]
    },
    {
     "data": {
      "text/html": [
       "<text style=color:blue>Executing RB.A81 query function find_timestamp_pic: 5/45.</text>"
      ],
      "text/plain": [
       "<IPython.core.display.HTML object>"
      ]
     },
     "metadata": {},
     "output_type": "display_data"
    },
    {
     "name": "stdout",
     "output_type": "stream",
     "text": [
      "\tQuerying NXCALS signal(s) RB.A81.ODD:ST_ABORT_PIC, RB.A81.EVEN:ST_ABORT_PIC from 2015-02-16 07:59:44.040 to 2015-02-16 08:00:45.040\n"
     ]
    },
    {
     "data": {
      "text/html": [
       "<text style=color:blue>Executing RB.A81 query function find_source_timestamp_qds: 6/45.</text>"
      ],
      "text/plain": [
       "<IPython.core.display.HTML object>"
      ]
     },
     "metadata": {},
     "output_type": "display_data"
    },
    {
     "name": "stdout",
     "output_type": "stream",
     "text": [
      "\tQuerying PM event timestamps for system: QPS, className: DQAMCNMB_PMSTD, source: * from 2015-02-16 07:58:55.040 to 2015-02-16 08:08:05.040\n"
     ]
    },
    {
     "data": {
      "text/html": [
       "<text style=color:blue>Executing RB.A81 query function find_source_timestamp_ee: 1/45.</text>"
      ],
      "text/plain": [
       "<IPython.core.display.HTML object>"
      ]
     },
     "metadata": {},
     "output_type": "display_data"
    },
    {
     "name": "stdout",
     "output_type": "stream",
     "text": [
      "\tQuerying PM event timestamps for system: QPS, className: DQAMSNRB, source: UA87.RB.A81 from 2015-02-17 07:28:55.760 to 2015-02-17 07:45:45.760\n"
     ]
    },
    {
     "data": {
      "text/html": [
       "<text style=color:blue>Executing RB.A81 query function query_ee_u_dump_res_pm: 2/45.</text>"
      ],
      "text/plain": [
       "<IPython.core.display.HTML object>"
      ]
     },
     "metadata": {},
     "output_type": "display_data"
    },
    {
     "name": "stdout",
     "output_type": "stream",
     "text": [
      "\tQuerying PM event signal(s) UA87.RB.A81:U_DUMP_RES for system: QPS, className: DQAMSNRB, source: UA87.RB.A81 at 2015-02-17 07:29:06.310\n"
     ]
    },
    {
     "data": {
      "text/html": [
       "<text style=color:blue>Executing RB.A81 query function find_source_timestamp_ee: 3/45.</text>"
      ],
      "text/plain": [
       "<IPython.core.display.HTML object>"
      ]
     },
     "metadata": {},
     "output_type": "display_data"
    },
    {
     "name": "stdout",
     "output_type": "stream",
     "text": [
      "\tQuerying PM event timestamps for system: QPS, className: DQAMSNRB, source: RR13.RB.A81 from 2015-02-17 07:28:55.760 to 2015-02-17 07:45:45.760\n"
     ]
    },
    {
     "data": {
      "text/html": [
       "<text style=color:blue>Executing RB.A81 query function query_ee_u_dump_res_pm: 4/45.</text>"
      ],
      "text/plain": [
       "<IPython.core.display.HTML object>"
      ]
     },
     "metadata": {},
     "output_type": "display_data"
    },
    {
     "name": "stdout",
     "output_type": "stream",
     "text": [
      "\tQuerying PM event signal(s) RR13.RB.A81:U_DUMP_RES for system: QPS, className: DQAMSNRB, source: RR13.RB.A81 at 2015-02-17 07:29:06.063\n"
     ]
    },
    {
     "data": {
      "text/html": [
       "<text style=color:blue>Executing RB.A81 query function find_timestamp_pic: 5/45.</text>"
      ],
      "text/plain": [
       "<IPython.core.display.HTML object>"
      ]
     },
     "metadata": {},
     "output_type": "display_data"
    },
    {
     "name": "stdout",
     "output_type": "stream",
     "text": [
      "\tQuerying NXCALS signal(s) RB.A81.ODD:ST_ABORT_PIC, RB.A81.EVEN:ST_ABORT_PIC from 2015-02-17 07:29:04.760 to 2015-02-17 07:30:05.760\n"
     ]
    },
    {
     "data": {
      "text/html": [
       "<text style=color:blue>Executing RB.A81 query function find_source_timestamp_qds: 6/45.</text>"
      ],
      "text/plain": [
       "<IPython.core.display.HTML object>"
      ]
     },
     "metadata": {},
     "output_type": "display_data"
    },
    {
     "name": "stdout",
     "output_type": "stream",
     "text": [
      "\tQuerying PM event timestamps for system: QPS, className: DQAMCNMB_PMSTD, source: * from 2015-02-17 07:28:15.760 to 2015-02-17 07:37:25.760\n"
     ]
    },
    {
     "data": {
      "text/html": [
       "<text style=color:blue>Executing RB.A81 query function find_source_timestamp_ee: 1/45.</text>"
      ],
      "text/plain": [
       "<IPython.core.display.HTML object>"
      ]
     },
     "metadata": {},
     "output_type": "display_data"
    },
    {
     "name": "stdout",
     "output_type": "stream",
     "text": [
      "\tQuerying PM event timestamps for system: QPS, className: DQAMSNRB, source: UA87.RB.A81 from 2015-02-17 18:36:43.120 to 2015-02-17 18:53:33.120\n"
     ]
    },
    {
     "data": {
      "text/html": [
       "<text style=color:blue>Executing RB.A81 query function query_ee_u_dump_res_pm: 2/45.</text>"
      ],
      "text/plain": [
       "<IPython.core.display.HTML object>"
      ]
     },
     "metadata": {},
     "output_type": "display_data"
    },
    {
     "name": "stdout",
     "output_type": "stream",
     "text": [
      "\tQuerying PM event signal(s) UA87.RB.A81:U_DUMP_RES for system: QPS, className: DQAMSNRB, source: UA87.RB.A81 at 2015-02-17 18:36:53.678\n"
     ]
    },
    {
     "data": {
      "text/html": [
       "<text style=color:blue>Executing RB.A81 query function find_source_timestamp_ee: 3/45.</text>"
      ],
      "text/plain": [
       "<IPython.core.display.HTML object>"
      ]
     },
     "metadata": {},
     "output_type": "display_data"
    },
    {
     "name": "stdout",
     "output_type": "stream",
     "text": [
      "\tQuerying PM event timestamps for system: QPS, className: DQAMSNRB, source: RR13.RB.A81 from 2015-02-17 18:36:43.120 to 2015-02-17 18:53:33.120\n"
     ]
    },
    {
     "data": {
      "text/html": [
       "<text style=color:blue>Executing RB.A81 query function query_ee_u_dump_res_pm: 4/45.</text>"
      ],
      "text/plain": [
       "<IPython.core.display.HTML object>"
      ]
     },
     "metadata": {},
     "output_type": "display_data"
    },
    {
     "name": "stdout",
     "output_type": "stream",
     "text": [
      "\tQuerying PM event signal(s) RR13.RB.A81:U_DUMP_RES for system: QPS, className: DQAMSNRB, source: RR13.RB.A81 at 2015-02-17 18:36:53.432\n"
     ]
    },
    {
     "data": {
      "text/html": [
       "<text style=color:blue>Executing RB.A81 query function find_timestamp_pic: 5/45.</text>"
      ],
      "text/plain": [
       "<IPython.core.display.HTML object>"
      ]
     },
     "metadata": {},
     "output_type": "display_data"
    },
    {
     "name": "stdout",
     "output_type": "stream",
     "text": [
      "\tQuerying NXCALS signal(s) RB.A81.ODD:ST_ABORT_PIC, RB.A81.EVEN:ST_ABORT_PIC from 2015-02-17 18:36:52.120 to 2015-02-17 18:37:53.120\n"
     ]
    },
    {
     "data": {
      "text/html": [
       "<text style=color:blue>Executing RB.A81 query function find_source_timestamp_qds: 6/45.</text>"
      ],
      "text/plain": [
       "<IPython.core.display.HTML object>"
      ]
     },
     "metadata": {},
     "output_type": "display_data"
    },
    {
     "name": "stdout",
     "output_type": "stream",
     "text": [
      "\tQuerying PM event timestamps for system: QPS, className: DQAMCNMB_PMSTD, source: * from 2015-02-17 18:36:03.120 to 2015-02-17 18:45:13.120\n"
     ]
    },
    {
     "data": {
      "text/html": [
       "<text style=color:blue>Executing RB.A81 query function find_source_timestamp_ee: 1/45.</text>"
      ],
      "text/plain": [
       "<IPython.core.display.HTML object>"
      ]
     },
     "metadata": {},
     "output_type": "display_data"
    },
    {
     "name": "stdout",
     "output_type": "stream",
     "text": [
      "\tQuerying PM event timestamps for system: QPS, className: DQAMSNRB, source: UA87.RB.A81 from 2015-02-18 12:35:01.140 to 2015-02-18 12:51:51.140\n"
     ]
    },
    {
     "data": {
      "text/html": [
       "<text style=color:blue>Executing RB.A81 query function query_ee_u_dump_res_pm: 2/45.</text>"
      ],
      "text/plain": [
       "<IPython.core.display.HTML object>"
      ]
     },
     "metadata": {},
     "output_type": "display_data"
    },
    {
     "name": "stdout",
     "output_type": "stream",
     "text": [
      "\tQuerying PM event signal(s) UA87.RB.A81:U_DUMP_RES for system: QPS, className: DQAMSNRB, source: UA87.RB.A81 at 2015-02-18 12:35:11.692\n"
     ]
    },
    {
     "data": {
      "text/html": [
       "<text style=color:blue>Executing RB.A81 query function find_source_timestamp_ee: 3/45.</text>"
      ],
      "text/plain": [
       "<IPython.core.display.HTML object>"
      ]
     },
     "metadata": {},
     "output_type": "display_data"
    },
    {
     "name": "stdout",
     "output_type": "stream",
     "text": [
      "\tQuerying PM event timestamps for system: QPS, className: DQAMSNRB, source: RR13.RB.A81 from 2015-02-18 12:35:01.140 to 2015-02-18 12:51:51.140\n"
     ]
    },
    {
     "data": {
      "text/html": [
       "<text style=color:blue>Executing RB.A81 query function query_ee_u_dump_res_pm: 4/45.</text>"
      ],
      "text/plain": [
       "<IPython.core.display.HTML object>"
      ]
     },
     "metadata": {},
     "output_type": "display_data"
    },
    {
     "name": "stdout",
     "output_type": "stream",
     "text": [
      "\tQuerying PM event signal(s) RR13.RB.A81:U_DUMP_RES for system: QPS, className: DQAMSNRB, source: RR13.RB.A81 at 2015-02-18 12:35:11.447\n"
     ]
    },
    {
     "data": {
      "text/html": [
       "<text style=color:blue>Executing RB.A81 query function find_timestamp_pic: 5/45.</text>"
      ],
      "text/plain": [
       "<IPython.core.display.HTML object>"
      ]
     },
     "metadata": {},
     "output_type": "display_data"
    },
    {
     "name": "stdout",
     "output_type": "stream",
     "text": [
      "\tQuerying NXCALS signal(s) RB.A81.ODD:ST_ABORT_PIC, RB.A81.EVEN:ST_ABORT_PIC from 2015-02-18 12:35:10.140 to 2015-02-18 12:36:11.140\n"
     ]
    },
    {
     "data": {
      "text/html": [
       "<text style=color:blue>Executing RB.A81 query function find_source_timestamp_qds: 6/45.</text>"
      ],
      "text/plain": [
       "<IPython.core.display.HTML object>"
      ]
     },
     "metadata": {},
     "output_type": "display_data"
    },
    {
     "name": "stdout",
     "output_type": "stream",
     "text": [
      "\tQuerying PM event timestamps for system: QPS, className: DQAMCNMB_PMSTD, source: * from 2015-02-18 12:34:21.140 to 2015-02-18 12:43:31.140\n"
     ]
    },
    {
     "data": {
      "text/html": [
       "<text style=color:blue>Executing RB.A81 query function find_source_timestamp_ee: 1/45.</text>"
      ],
      "text/plain": [
       "<IPython.core.display.HTML object>"
      ]
     },
     "metadata": {},
     "output_type": "display_data"
    },
    {
     "name": "stdout",
     "output_type": "stream",
     "text": [
      "\tQuerying PM event timestamps for system: QPS, className: DQAMSNRB, source: UA87.RB.A81 from 2015-02-18 21:46:29.680 to 2015-02-18 22:03:19.680\n"
     ]
    },
    {
     "data": {
      "text/html": [
       "<text style=color:blue>Executing RB.A81 query function query_ee_u_dump_res_pm: 2/45.</text>"
      ],
      "text/plain": [
       "<IPython.core.display.HTML object>"
      ]
     },
     "metadata": {},
     "output_type": "display_data"
    },
    {
     "name": "stdout",
     "output_type": "stream",
     "text": [
      "\tQuerying PM event signal(s) UA87.RB.A81:U_DUMP_RES for system: QPS, className: DQAMSNRB, source: UA87.RB.A81 at 2015-02-18 21:46:40.225\n"
     ]
    },
    {
     "data": {
      "text/html": [
       "<text style=color:blue>Executing RB.A81 query function find_source_timestamp_ee: 3/45.</text>"
      ],
      "text/plain": [
       "<IPython.core.display.HTML object>"
      ]
     },
     "metadata": {},
     "output_type": "display_data"
    },
    {
     "name": "stdout",
     "output_type": "stream",
     "text": [
      "\tQuerying PM event timestamps for system: QPS, className: DQAMSNRB, source: RR13.RB.A81 from 2015-02-18 21:46:29.680 to 2015-02-18 22:03:19.680\n"
     ]
    },
    {
     "data": {
      "text/html": [
       "<text style=color:blue>Executing RB.A81 query function query_ee_u_dump_res_pm: 4/45.</text>"
      ],
      "text/plain": [
       "<IPython.core.display.HTML object>"
      ]
     },
     "metadata": {},
     "output_type": "display_data"
    },
    {
     "name": "stdout",
     "output_type": "stream",
     "text": [
      "\tQuerying PM event signal(s) RR13.RB.A81:U_DUMP_RES for system: QPS, className: DQAMSNRB, source: RR13.RB.A81 at 2015-02-18 21:46:39.979\n"
     ]
    },
    {
     "data": {
      "text/html": [
       "<text style=color:blue>Executing RB.A81 query function find_timestamp_pic: 5/45.</text>"
      ],
      "text/plain": [
       "<IPython.core.display.HTML object>"
      ]
     },
     "metadata": {},
     "output_type": "display_data"
    },
    {
     "name": "stdout",
     "output_type": "stream",
     "text": [
      "\tQuerying NXCALS signal(s) RB.A81.ODD:ST_ABORT_PIC, RB.A81.EVEN:ST_ABORT_PIC from 2015-02-18 21:46:38.680 to 2015-02-18 21:47:39.680\n"
     ]
    },
    {
     "data": {
      "text/html": [
       "<text style=color:blue>Executing RB.A81 query function find_source_timestamp_qds: 6/45.</text>"
      ],
      "text/plain": [
       "<IPython.core.display.HTML object>"
      ]
     },
     "metadata": {},
     "output_type": "display_data"
    },
    {
     "name": "stdout",
     "output_type": "stream",
     "text": [
      "\tQuerying PM event timestamps for system: QPS, className: DQAMCNMB_PMSTD, source: * from 2015-02-18 21:45:49.680 to 2015-02-18 21:54:59.680\n"
     ]
    },
    {
     "data": {
      "text/html": [
       "<text style=color:blue>Executing RB.A81 query function find_source_timestamp_ee: 1/45.</text>"
      ],
      "text/plain": [
       "<IPython.core.display.HTML object>"
      ]
     },
     "metadata": {},
     "output_type": "display_data"
    },
    {
     "name": "stdout",
     "output_type": "stream",
     "text": [
      "\tQuerying PM event timestamps for system: QPS, className: DQAMSNRB, source: UA87.RB.A81 from 2015-02-19 13:15:29.200 to 2015-02-19 13:32:19.200\n"
     ]
    },
    {
     "data": {
      "text/html": [
       "<text style=color:blue>Executing RB.A81 query function query_ee_u_dump_res_pm: 2/45.</text>"
      ],
      "text/plain": [
       "<IPython.core.display.HTML object>"
      ]
     },
     "metadata": {},
     "output_type": "display_data"
    },
    {
     "name": "stdout",
     "output_type": "stream",
     "text": [
      "\tQuerying PM event signal(s) UA87.RB.A81:U_DUMP_RES for system: QPS, className: DQAMSNRB, source: UA87.RB.A81 at 2015-02-19 13:15:39.748\n"
     ]
    },
    {
     "data": {
      "text/html": [
       "<text style=color:blue>Executing RB.A81 query function find_source_timestamp_ee: 3/45.</text>"
      ],
      "text/plain": [
       "<IPython.core.display.HTML object>"
      ]
     },
     "metadata": {},
     "output_type": "display_data"
    },
    {
     "name": "stdout",
     "output_type": "stream",
     "text": [
      "\tQuerying PM event timestamps for system: QPS, className: DQAMSNRB, source: RR13.RB.A81 from 2015-02-19 13:15:29.200 to 2015-02-19 13:32:19.200\n"
     ]
    },
    {
     "data": {
      "text/html": [
       "<text style=color:blue>Executing RB.A81 query function query_ee_u_dump_res_pm: 4/45.</text>"
      ],
      "text/plain": [
       "<IPython.core.display.HTML object>"
      ]
     },
     "metadata": {},
     "output_type": "display_data"
    },
    {
     "name": "stdout",
     "output_type": "stream",
     "text": [
      "\tQuerying PM event signal(s) RR13.RB.A81:U_DUMP_RES for system: QPS, className: DQAMSNRB, source: RR13.RB.A81 at 2015-02-19 13:15:39.501\n"
     ]
    },
    {
     "data": {
      "text/html": [
       "<text style=color:blue>Executing RB.A81 query function find_timestamp_pic: 5/45.</text>"
      ],
      "text/plain": [
       "<IPython.core.display.HTML object>"
      ]
     },
     "metadata": {},
     "output_type": "display_data"
    },
    {
     "name": "stdout",
     "output_type": "stream",
     "text": [
      "\tQuerying NXCALS signal(s) RB.A81.ODD:ST_ABORT_PIC, RB.A81.EVEN:ST_ABORT_PIC from 2015-02-19 13:15:38.200 to 2015-02-19 13:16:39.200\n"
     ]
    },
    {
     "data": {
      "text/html": [
       "<text style=color:blue>Executing RB.A81 query function find_source_timestamp_qds: 6/45.</text>"
      ],
      "text/plain": [
       "<IPython.core.display.HTML object>"
      ]
     },
     "metadata": {},
     "output_type": "display_data"
    },
    {
     "name": "stdout",
     "output_type": "stream",
     "text": [
      "\tQuerying PM event timestamps for system: QPS, className: DQAMCNMB_PMSTD, source: * from 2015-02-19 13:14:49.200 to 2015-02-19 13:23:59.200\n"
     ]
    },
    {
     "data": {
      "text/html": [
       "<text style=color:blue>Executing RB.A81 query function find_source_timestamp_ee: 1/45.</text>"
      ],
      "text/plain": [
       "<IPython.core.display.HTML object>"
      ]
     },
     "metadata": {},
     "output_type": "display_data"
    },
    {
     "name": "stdout",
     "output_type": "stream",
     "text": [
      "\tQuerying PM event timestamps for system: QPS, className: DQAMSNRB, source: UA87.RB.A81 from 2015-02-19 20:55:11.660 to 2015-02-19 21:12:01.660\n"
     ]
    },
    {
     "data": {
      "text/html": [
       "<text style=color:blue>Executing RB.A81 query function query_ee_u_dump_res_pm: 2/45.</text>"
      ],
      "text/plain": [
       "<IPython.core.display.HTML object>"
      ]
     },
     "metadata": {},
     "output_type": "display_data"
    },
    {
     "name": "stdout",
     "output_type": "stream",
     "text": [
      "\tQuerying PM event signal(s) UA87.RB.A81:U_DUMP_RES for system: QPS, className: DQAMSNRB, source: UA87.RB.A81 at 2015-02-19 20:55:22.205\n"
     ]
    },
    {
     "data": {
      "text/html": [
       "<text style=color:blue>Executing RB.A81 query function find_source_timestamp_ee: 3/45.</text>"
      ],
      "text/plain": [
       "<IPython.core.display.HTML object>"
      ]
     },
     "metadata": {},
     "output_type": "display_data"
    },
    {
     "name": "stdout",
     "output_type": "stream",
     "text": [
      "\tQuerying PM event timestamps for system: QPS, className: DQAMSNRB, source: RR13.RB.A81 from 2015-02-19 20:55:11.660 to 2015-02-19 21:12:01.660\n"
     ]
    },
    {
     "data": {
      "text/html": [
       "<text style=color:blue>Executing RB.A81 query function query_ee_u_dump_res_pm: 4/45.</text>"
      ],
      "text/plain": [
       "<IPython.core.display.HTML object>"
      ]
     },
     "metadata": {},
     "output_type": "display_data"
    },
    {
     "name": "stdout",
     "output_type": "stream",
     "text": [
      "\tQuerying PM event signal(s) RR13.RB.A81:U_DUMP_RES for system: QPS, className: DQAMSNRB, source: RR13.RB.A81 at 2015-02-19 20:55:21.963\n"
     ]
    },
    {
     "data": {
      "text/html": [
       "<text style=color:blue>Executing RB.A81 query function find_timestamp_pic: 5/45.</text>"
      ],
      "text/plain": [
       "<IPython.core.display.HTML object>"
      ]
     },
     "metadata": {},
     "output_type": "display_data"
    },
    {
     "name": "stdout",
     "output_type": "stream",
     "text": [
      "\tQuerying NXCALS signal(s) RB.A81.ODD:ST_ABORT_PIC, RB.A81.EVEN:ST_ABORT_PIC from 2015-02-19 20:55:20.660 to 2015-02-19 20:56:21.660\n"
     ]
    },
    {
     "data": {
      "text/html": [
       "<text style=color:blue>Executing RB.A81 query function find_source_timestamp_qds: 6/45.</text>"
      ],
      "text/plain": [
       "<IPython.core.display.HTML object>"
      ]
     },
     "metadata": {},
     "output_type": "display_data"
    },
    {
     "name": "stdout",
     "output_type": "stream",
     "text": [
      "\tQuerying PM event timestamps for system: QPS, className: DQAMCNMB_PMSTD, source: * from 2015-02-19 20:54:31.660 to 2015-02-19 21:03:41.660\n"
     ]
    },
    {
     "data": {
      "text/html": [
       "<text style=color:blue>Executing RB.A81 query function find_source_timestamp_ee: 1/45.</text>"
      ],
      "text/plain": [
       "<IPython.core.display.HTML object>"
      ]
     },
     "metadata": {},
     "output_type": "display_data"
    },
    {
     "name": "stdout",
     "output_type": "stream",
     "text": [
      "\tQuerying PM event timestamps for system: QPS, className: DQAMSNRB, source: UA87.RB.A81 from 2015-02-20 08:33:06.920 to 2015-02-20 08:49:56.920\n"
     ]
    },
    {
     "data": {
      "text/html": [
       "<text style=color:blue>Executing RB.A81 query function query_ee_u_dump_res_pm: 2/45.</text>"
      ],
      "text/plain": [
       "<IPython.core.display.HTML object>"
      ]
     },
     "metadata": {},
     "output_type": "display_data"
    },
    {
     "name": "stdout",
     "output_type": "stream",
     "text": [
      "\tQuerying PM event signal(s) UA87.RB.A81:U_DUMP_RES for system: QPS, className: DQAMSNRB, source: UA87.RB.A81 at 2015-02-20 08:33:17.461\n"
     ]
    },
    {
     "data": {
      "text/html": [
       "<text style=color:blue>Executing RB.A81 query function find_source_timestamp_ee: 3/45.</text>"
      ],
      "text/plain": [
       "<IPython.core.display.HTML object>"
      ]
     },
     "metadata": {},
     "output_type": "display_data"
    },
    {
     "name": "stdout",
     "output_type": "stream",
     "text": [
      "\tQuerying PM event timestamps for system: QPS, className: DQAMSNRB, source: RR13.RB.A81 from 2015-02-20 08:33:06.920 to 2015-02-20 08:49:56.920\n"
     ]
    },
    {
     "data": {
      "text/html": [
       "<text style=color:blue>Executing RB.A81 query function query_ee_u_dump_res_pm: 4/45.</text>"
      ],
      "text/plain": [
       "<IPython.core.display.HTML object>"
      ]
     },
     "metadata": {},
     "output_type": "display_data"
    },
    {
     "name": "stdout",
     "output_type": "stream",
     "text": [
      "\tQuerying PM event signal(s) RR13.RB.A81:U_DUMP_RES for system: QPS, className: DQAMSNRB, source: RR13.RB.A81 at 2015-02-20 08:33:17.216\n"
     ]
    },
    {
     "data": {
      "text/html": [
       "<text style=color:blue>Executing RB.A81 query function find_timestamp_pic: 5/45.</text>"
      ],
      "text/plain": [
       "<IPython.core.display.HTML object>"
      ]
     },
     "metadata": {},
     "output_type": "display_data"
    },
    {
     "name": "stdout",
     "output_type": "stream",
     "text": [
      "\tQuerying NXCALS signal(s) RB.A81.ODD:ST_ABORT_PIC, RB.A81.EVEN:ST_ABORT_PIC from 2015-02-20 08:33:15.920 to 2015-02-20 08:34:16.920\n"
     ]
    },
    {
     "data": {
      "text/html": [
       "<text style=color:blue>Executing RB.A81 query function find_source_timestamp_qds: 6/45.</text>"
      ],
      "text/plain": [
       "<IPython.core.display.HTML object>"
      ]
     },
     "metadata": {},
     "output_type": "display_data"
    },
    {
     "name": "stdout",
     "output_type": "stream",
     "text": [
      "\tQuerying PM event timestamps for system: QPS, className: DQAMCNMB_PMSTD, source: * from 2015-02-20 08:32:26.920 to 2015-02-20 08:41:36.920\n"
     ]
    },
    {
     "data": {
      "text/html": [
       "<text style=color:blue>Executing RB.A81 query function find_source_timestamp_ee: 1/45.</text>"
      ],
      "text/plain": [
       "<IPython.core.display.HTML object>"
      ]
     },
     "metadata": {},
     "output_type": "display_data"
    },
    {
     "name": "stdout",
     "output_type": "stream",
     "text": [
      "\tQuerying PM event timestamps for system: QPS, className: DQAMSNRB, source: UA87.RB.A81 from 2015-02-20 21:50:07.880 to 2015-02-20 22:06:57.880\n"
     ]
    },
    {
     "data": {
      "text/html": [
       "<text style=color:blue>Executing RB.A81 query function query_ee_u_dump_res_pm: 2/45.</text>"
      ],
      "text/plain": [
       "<IPython.core.display.HTML object>"
      ]
     },
     "metadata": {},
     "output_type": "display_data"
    },
    {
     "name": "stdout",
     "output_type": "stream",
     "text": [
      "\tQuerying PM event signal(s) UA87.RB.A81:U_DUMP_RES for system: QPS, className: DQAMSNRB, source: UA87.RB.A81 at 2015-02-20 21:50:18.426\n"
     ]
    },
    {
     "data": {
      "text/html": [
       "<text style=color:blue>Executing RB.A81 query function find_source_timestamp_ee: 3/45.</text>"
      ],
      "text/plain": [
       "<IPython.core.display.HTML object>"
      ]
     },
     "metadata": {},
     "output_type": "display_data"
    },
    {
     "name": "stdout",
     "output_type": "stream",
     "text": [
      "\tQuerying PM event timestamps for system: QPS, className: DQAMSNRB, source: RR13.RB.A81 from 2015-02-20 21:50:07.880 to 2015-02-20 22:06:57.880\n"
     ]
    },
    {
     "data": {
      "text/html": [
       "<text style=color:blue>Executing RB.A81 query function query_ee_u_dump_res_pm: 4/45.</text>"
      ],
      "text/plain": [
       "<IPython.core.display.HTML object>"
      ]
     },
     "metadata": {},
     "output_type": "display_data"
    },
    {
     "name": "stdout",
     "output_type": "stream",
     "text": [
      "\tQuerying PM event signal(s) RR13.RB.A81:U_DUMP_RES for system: QPS, className: DQAMSNRB, source: RR13.RB.A81 at 2015-02-20 21:50:18.185\n"
     ]
    },
    {
     "data": {
      "text/html": [
       "<text style=color:blue>Executing RB.A81 query function find_timestamp_pic: 5/45.</text>"
      ],
      "text/plain": [
       "<IPython.core.display.HTML object>"
      ]
     },
     "metadata": {},
     "output_type": "display_data"
    },
    {
     "name": "stdout",
     "output_type": "stream",
     "text": [
      "\tQuerying NXCALS signal(s) RB.A81.ODD:ST_ABORT_PIC, RB.A81.EVEN:ST_ABORT_PIC from 2015-02-20 21:50:16.880 to 2015-02-20 21:51:17.880\n"
     ]
    },
    {
     "data": {
      "text/html": [
       "<text style=color:blue>Executing RB.A81 query function find_source_timestamp_qds: 6/45.</text>"
      ],
      "text/plain": [
       "<IPython.core.display.HTML object>"
      ]
     },
     "metadata": {},
     "output_type": "display_data"
    },
    {
     "name": "stdout",
     "output_type": "stream",
     "text": [
      "\tQuerying PM event timestamps for system: QPS, className: DQAMCNMB_PMSTD, source: * from 2015-02-20 21:49:27.880 to 2015-02-20 21:58:37.880\n"
     ]
    },
    {
     "data": {
      "text/html": [
       "<text style=color:blue>Executing RB.A81 query function find_source_timestamp_ee: 1/45.</text>"
      ],
      "text/plain": [
       "<IPython.core.display.HTML object>"
      ]
     },
     "metadata": {},
     "output_type": "display_data"
    },
    {
     "name": "stdout",
     "output_type": "stream",
     "text": [
      "\tQuerying PM event timestamps for system: QPS, className: DQAMSNRB, source: UA87.RB.A81 from 2015-02-21 07:48:03.480 to 2015-02-21 08:04:53.480\n"
     ]
    },
    {
     "data": {
      "text/html": [
       "<text style=color:blue>Executing RB.A81 query function query_ee_u_dump_res_pm: 2/45.</text>"
      ],
      "text/plain": [
       "<IPython.core.display.HTML object>"
      ]
     },
     "metadata": {},
     "output_type": "display_data"
    },
    {
     "name": "stdout",
     "output_type": "stream",
     "text": [
      "\tQuerying PM event signal(s) UA87.RB.A81:U_DUMP_RES for system: QPS, className: DQAMSNRB, source: UA87.RB.A81 at 2015-02-21 07:48:14.035\n"
     ]
    },
    {
     "data": {
      "text/html": [
       "<text style=color:blue>Executing RB.A81 query function find_source_timestamp_ee: 3/45.</text>"
      ],
      "text/plain": [
       "<IPython.core.display.HTML object>"
      ]
     },
     "metadata": {},
     "output_type": "display_data"
    },
    {
     "name": "stdout",
     "output_type": "stream",
     "text": [
      "\tQuerying PM event timestamps for system: QPS, className: DQAMSNRB, source: RR13.RB.A81 from 2015-02-21 07:48:03.480 to 2015-02-21 08:04:53.480\n"
     ]
    },
    {
     "data": {
      "text/html": [
       "<text style=color:blue>Executing RB.A81 query function query_ee_u_dump_res_pm: 4/45.</text>"
      ],
      "text/plain": [
       "<IPython.core.display.HTML object>"
      ]
     },
     "metadata": {},
     "output_type": "display_data"
    },
    {
     "name": "stdout",
     "output_type": "stream",
     "text": [
      "\tQuerying PM event signal(s) RR13.RB.A81:U_DUMP_RES for system: QPS, className: DQAMSNRB, source: RR13.RB.A81 at 2015-02-21 07:48:13.796\n"
     ]
    },
    {
     "data": {
      "text/html": [
       "<text style=color:blue>Executing RB.A81 query function find_timestamp_pic: 5/45.</text>"
      ],
      "text/plain": [
       "<IPython.core.display.HTML object>"
      ]
     },
     "metadata": {},
     "output_type": "display_data"
    },
    {
     "name": "stdout",
     "output_type": "stream",
     "text": [
      "\tQuerying NXCALS signal(s) RB.A81.ODD:ST_ABORT_PIC, RB.A81.EVEN:ST_ABORT_PIC from 2015-02-21 07:48:12.480 to 2015-02-21 07:49:13.480\n"
     ]
    },
    {
     "data": {
      "text/html": [
       "<text style=color:blue>Executing RB.A81 query function find_source_timestamp_qds: 6/45.</text>"
      ],
      "text/plain": [
       "<IPython.core.display.HTML object>"
      ]
     },
     "metadata": {},
     "output_type": "display_data"
    },
    {
     "name": "stdout",
     "output_type": "stream",
     "text": [
      "\tQuerying PM event timestamps for system: QPS, className: DQAMCNMB_PMSTD, source: * from 2015-02-21 07:47:23.480 to 2015-02-21 07:56:33.480\n"
     ]
    },
    {
     "data": {
      "text/html": [
       "<text style=color:blue>Executing RB.A81 query function find_source_timestamp_ee: 1/45.</text>"
      ],
      "text/plain": [
       "<IPython.core.display.HTML object>"
      ]
     },
     "metadata": {},
     "output_type": "display_data"
    },
    {
     "name": "stdout",
     "output_type": "stream",
     "text": [
      "\tQuerying PM event timestamps for system: QPS, className: DQAMSNRB, source: UA87.RB.A81 from 2015-04-13 04:13:26.980 to 2015-04-13 04:30:16.980\n"
     ]
    },
    {
     "data": {
      "text/html": [
       "<text style=color:blue>Executing RB.A81 query function query_ee_u_dump_res_pm: 2/45.</text>"
      ],
      "text/plain": [
       "<IPython.core.display.HTML object>"
      ]
     },
     "metadata": {},
     "output_type": "display_data"
    },
    {
     "name": "stdout",
     "output_type": "stream",
     "text": [
      "\tQuerying PM event signal(s) UA87.RB.A81:U_DUMP_RES for system: QPS, className: DQAMSNRB, source: UA87.RB.A81 at 2015-04-13 04:13:37.531\n"
     ]
    },
    {
     "data": {
      "text/html": [
       "<text style=color:blue>Executing RB.A81 query function find_source_timestamp_ee: 3/45.</text>"
      ],
      "text/plain": [
       "<IPython.core.display.HTML object>"
      ]
     },
     "metadata": {},
     "output_type": "display_data"
    },
    {
     "name": "stdout",
     "output_type": "stream",
     "text": [
      "\tQuerying PM event timestamps for system: QPS, className: DQAMSNRB, source: RR13.RB.A81 from 2015-04-13 04:13:26.980 to 2015-04-13 04:30:16.980\n"
     ]
    },
    {
     "data": {
      "text/html": [
       "<text style=color:blue>Executing RB.A81 query function query_ee_u_dump_res_pm: 4/45.</text>"
      ],
      "text/plain": [
       "<IPython.core.display.HTML object>"
      ]
     },
     "metadata": {},
     "output_type": "display_data"
    },
    {
     "name": "stdout",
     "output_type": "stream",
     "text": [
      "\tQuerying PM event signal(s) RR13.RB.A81:U_DUMP_RES for system: QPS, className: DQAMSNRB, source: RR13.RB.A81 at 2015-04-13 04:13:37.290\n"
     ]
    },
    {
     "data": {
      "text/html": [
       "<text style=color:blue>Executing RB.A81 query function find_timestamp_pic: 5/45.</text>"
      ],
      "text/plain": [
       "<IPython.core.display.HTML object>"
      ]
     },
     "metadata": {},
     "output_type": "display_data"
    },
    {
     "name": "stdout",
     "output_type": "stream",
     "text": [
      "\tQuerying NXCALS signal(s) RB.A81.ODD:ST_ABORT_PIC, RB.A81.EVEN:ST_ABORT_PIC from 2015-04-13 04:13:35.980 to 2015-04-13 04:14:36.980\n"
     ]
    },
    {
     "data": {
      "text/html": [
       "<text style=color:blue>Executing RB.A81 query function find_source_timestamp_qds: 6/45.</text>"
      ],
      "text/plain": [
       "<IPython.core.display.HTML object>"
      ]
     },
     "metadata": {},
     "output_type": "display_data"
    },
    {
     "name": "stdout",
     "output_type": "stream",
     "text": [
      "\tQuerying PM event timestamps for system: QPS, className: DQAMCNMB_PMSTD, source: * from 2015-04-13 04:12:46.980 to 2015-04-13 04:21:56.980\n"
     ]
    },
    {
     "data": {
      "text/html": [
       "<text style=color:blue>Executing RB.A81 query function find_source_timestamp_ee: 1/45.</text>"
      ],
      "text/plain": [
       "<IPython.core.display.HTML object>"
      ]
     },
     "metadata": {},
     "output_type": "display_data"
    },
    {
     "name": "stdout",
     "output_type": "stream",
     "text": [
      "\tQuerying PM event timestamps for system: QPS, className: DQAMSNRB, source: UA87.RB.A81 from 2015-04-14 09:22:11.520 to 2015-04-14 09:39:01.520\n"
     ]
    },
    {
     "data": {
      "text/html": [
       "<text style=color:blue>Executing RB.A81 query function query_ee_u_dump_res_pm: 2/45.</text>"
      ],
      "text/plain": [
       "<IPython.core.display.HTML object>"
      ]
     },
     "metadata": {},
     "output_type": "display_data"
    },
    {
     "name": "stdout",
     "output_type": "stream",
     "text": [
      "\tQuerying PM event signal(s) UA87.RB.A81:U_DUMP_RES for system: QPS, className: DQAMSNRB, source: UA87.RB.A81 at 2015-04-14 09:22:22.071\n"
     ]
    },
    {
     "data": {
      "text/html": [
       "<text style=color:blue>Executing RB.A81 query function find_source_timestamp_ee: 3/45.</text>"
      ],
      "text/plain": [
       "<IPython.core.display.HTML object>"
      ]
     },
     "metadata": {},
     "output_type": "display_data"
    },
    {
     "name": "stdout",
     "output_type": "stream",
     "text": [
      "\tQuerying PM event timestamps for system: QPS, className: DQAMSNRB, source: RR13.RB.A81 from 2015-04-14 09:22:11.520 to 2015-04-14 09:39:01.520\n"
     ]
    },
    {
     "data": {
      "text/html": [
       "<text style=color:blue>Executing RB.A81 query function query_ee_u_dump_res_pm: 4/45.</text>"
      ],
      "text/plain": [
       "<IPython.core.display.HTML object>"
      ]
     },
     "metadata": {},
     "output_type": "display_data"
    },
    {
     "name": "stdout",
     "output_type": "stream",
     "text": [
      "\tQuerying PM event signal(s) RR13.RB.A81:U_DUMP_RES for system: QPS, className: DQAMSNRB, source: RR13.RB.A81 at 2015-04-14 09:22:21.830\n"
     ]
    },
    {
     "data": {
      "text/html": [
       "<text style=color:blue>Executing RB.A81 query function find_timestamp_pic: 5/45.</text>"
      ],
      "text/plain": [
       "<IPython.core.display.HTML object>"
      ]
     },
     "metadata": {},
     "output_type": "display_data"
    },
    {
     "name": "stdout",
     "output_type": "stream",
     "text": [
      "\tQuerying NXCALS signal(s) RB.A81.ODD:ST_ABORT_PIC, RB.A81.EVEN:ST_ABORT_PIC from 2015-04-14 09:22:20.520 to 2015-04-14 09:23:21.520\n"
     ]
    },
    {
     "data": {
      "text/html": [
       "<text style=color:blue>Executing RB.A81 query function find_source_timestamp_qds: 6/45.</text>"
      ],
      "text/plain": [
       "<IPython.core.display.HTML object>"
      ]
     },
     "metadata": {},
     "output_type": "display_data"
    },
    {
     "name": "stdout",
     "output_type": "stream",
     "text": [
      "\tQuerying PM event timestamps for system: QPS, className: DQAMCNMB_PMSTD, source: * from 2015-04-14 09:21:31.520 to 2015-04-14 09:30:41.520\n"
     ]
    },
    {
     "data": {
      "text/html": [
       "<text style=color:blue>Executing RB.A81 query function find_source_timestamp_ee: 1/45.</text>"
      ],
      "text/plain": [
       "<IPython.core.display.HTML object>"
      ]
     },
     "metadata": {},
     "output_type": "display_data"
    },
    {
     "name": "stdout",
     "output_type": "stream",
     "text": [
      "\tQuerying PM event timestamps for system: QPS, className: DQAMSNRB, source: UA87.RB.A81 from 2015-07-14 23:19:01.420 to 2015-07-14 23:35:51.420\n"
     ]
    },
    {
     "data": {
      "text/html": [
       "<text style=color:blue>Executing RB.A81 query function query_ee_u_dump_res_pm: 2/45.</text>"
      ],
      "text/plain": [
       "<IPython.core.display.HTML object>"
      ]
     },
     "metadata": {},
     "output_type": "display_data"
    },
    {
     "name": "stdout",
     "output_type": "stream",
     "text": [
      "\tQuerying PM event signal(s) UA87.RB.A81:U_DUMP_RES for system: QPS, className: DQAMSNRB, source: UA87.RB.A81 at 2015-07-14 23:19:11.976\n"
     ]
    },
    {
     "data": {
      "text/html": [
       "<text style=color:blue>Executing RB.A81 query function find_source_timestamp_ee: 3/45.</text>"
      ],
      "text/plain": [
       "<IPython.core.display.HTML object>"
      ]
     },
     "metadata": {},
     "output_type": "display_data"
    },
    {
     "name": "stdout",
     "output_type": "stream",
     "text": [
      "\tQuerying PM event timestamps for system: QPS, className: DQAMSNRB, source: RR13.RB.A81 from 2015-07-14 23:19:01.420 to 2015-07-14 23:35:51.420\n"
     ]
    },
    {
     "data": {
      "text/html": [
       "<text style=color:blue>Executing RB.A81 query function query_ee_u_dump_res_pm: 4/45.</text>"
      ],
      "text/plain": [
       "<IPython.core.display.HTML object>"
      ]
     },
     "metadata": {},
     "output_type": "display_data"
    },
    {
     "name": "stdout",
     "output_type": "stream",
     "text": [
      "\tQuerying PM event signal(s) RR13.RB.A81:U_DUMP_RES for system: QPS, className: DQAMSNRB, source: RR13.RB.A81 at 2015-07-14 23:19:11.735\n"
     ]
    },
    {
     "data": {
      "text/html": [
       "<text style=color:blue>Executing RB.A81 query function find_timestamp_pic: 5/45.</text>"
      ],
      "text/plain": [
       "<IPython.core.display.HTML object>"
      ]
     },
     "metadata": {},
     "output_type": "display_data"
    },
    {
     "name": "stdout",
     "output_type": "stream",
     "text": [
      "\tQuerying NXCALS signal(s) RB.A81.ODD:ST_ABORT_PIC, RB.A81.EVEN:ST_ABORT_PIC from 2015-07-14 23:19:10.420 to 2015-07-14 23:20:11.420\n"
     ]
    },
    {
     "data": {
      "text/html": [
       "<text style=color:blue>Executing RB.A81 query function find_source_timestamp_qds: 6/45.</text>"
      ],
      "text/plain": [
       "<IPython.core.display.HTML object>"
      ]
     },
     "metadata": {},
     "output_type": "display_data"
    },
    {
     "name": "stdout",
     "output_type": "stream",
     "text": [
      "\tQuerying PM event timestamps for system: QPS, className: DQAMCNMB_PMSTD, source: * from 2015-07-14 23:18:21.420 to 2015-07-14 23:27:31.420\n"
     ]
    },
    {
     "data": {
      "text/html": [
       "<text style=color:blue>Executing RB.A81 query function find_source_timestamp_ee: 1/45.</text>"
      ],
      "text/plain": [
       "<IPython.core.display.HTML object>"
      ]
     },
     "metadata": {},
     "output_type": "display_data"
    },
    {
     "name": "stdout",
     "output_type": "stream",
     "text": [
      "\tQuerying PM event timestamps for system: QPS, className: DQAMSNRB, source: UA87.RB.A81 from 2018-05-17 20:39:47.220 to 2018-05-17 20:56:37.220\n"
     ]
    },
    {
     "data": {
      "text/html": [
       "<text style=color:blue>Executing RB.A81 query function query_ee_u_dump_res_pm: 2/45.</text>"
      ],
      "text/plain": [
       "<IPython.core.display.HTML object>"
      ]
     },
     "metadata": {},
     "output_type": "display_data"
    },
    {
     "name": "stdout",
     "output_type": "stream",
     "text": [
      "\tQuerying PM event signal(s) UA87.RB.A81:U_DUMP_RES for system: QPS, className: DQAMSNRB, source: UA87.RB.A81 at 2018-05-17 20:39:57.801\n"
     ]
    },
    {
     "data": {
      "text/html": [
       "<text style=color:blue>Executing RB.A81 query function find_source_timestamp_ee: 3/45.</text>"
      ],
      "text/plain": [
       "<IPython.core.display.HTML object>"
      ]
     },
     "metadata": {},
     "output_type": "display_data"
    },
    {
     "name": "stdout",
     "output_type": "stream",
     "text": [
      "\tQuerying PM event timestamps for system: QPS, className: DQAMSNRB, source: RR13.RB.A81 from 2018-05-17 20:39:47.220 to 2018-05-17 20:56:37.220\n"
     ]
    },
    {
     "data": {
      "text/html": [
       "<text style=color:blue>Executing RB.A81 query function query_ee_u_dump_res_pm: 4/45.</text>"
      ],
      "text/plain": [
       "<IPython.core.display.HTML object>"
      ]
     },
     "metadata": {},
     "output_type": "display_data"
    },
    {
     "name": "stdout",
     "output_type": "stream",
     "text": [
      "\tQuerying PM event signal(s) RR13.RB.A81:U_DUMP_RES for system: QPS, className: DQAMSNRB, source: RR13.RB.A81 at 2018-05-17 20:39:57.300\n"
     ]
    },
    {
     "data": {
      "text/html": [
       "<text style=color:blue>Executing RB.A81 query function find_timestamp_pic: 5/45.</text>"
      ],
      "text/plain": [
       "<IPython.core.display.HTML object>"
      ]
     },
     "metadata": {},
     "output_type": "display_data"
    },
    {
     "name": "stdout",
     "output_type": "stream",
     "text": [
      "\tQuerying NXCALS signal(s) RB.A81.ODD:ST_ABORT_PIC, RB.A81.EVEN:ST_ABORT_PIC from 2018-05-17 20:39:56.220 to 2018-05-17 20:40:57.220\n"
     ]
    },
    {
     "data": {
      "text/html": [
       "<text style=color:blue>Executing RB.A81 query function find_source_timestamp_qds: 6/45.</text>"
      ],
      "text/plain": [
       "<IPython.core.display.HTML object>"
      ]
     },
     "metadata": {},
     "output_type": "display_data"
    },
    {
     "name": "stdout",
     "output_type": "stream",
     "text": [
      "\tQuerying PM event timestamps for system: QPS, className: DQAMCNMB_PMSTD, source: * from 2018-05-17 20:39:07.220 to 2018-05-17 20:48:17.220\n",
      "5\n"
     ]
    }
   ],
   "source": [
    "k=0\n",
    "for index, row in mp3_fpa_df_to_download.iterrows():\n",
    "    try:\n",
    "        loc_mask = (mp3_fpa_df.timestamp_fgc == row['timestamp_fgc']) & (mp3_fpa_df[\"Circuit Name\"] == row['Circuit Name'])\n",
    "\n",
    "        rb_query = RbCircuitQuery(row['Circuit Family'], row['Circuit Name'], max_executions=45)\n",
    "\n",
    "        source_timestamp_ee_even_df = rb_query.find_source_timestamp_ee(int(row['timestamp_fgc']), system='EE_EVEN')\n",
    "        timestamp_ee_even = source_timestamp_ee_even_df.timestamp[0]\n",
    "        u_dump_res_even_df = rb_query.query_ee_u_dump_res_pm(timestamp_ee_even, int(row['timestamp_fgc']), system='EE_EVEN',\n",
    "                                            signal_names=['U_DUMP_RES'])\n",
    "\n",
    "        source_timestamp_ee_odd_df = rb_query.find_source_timestamp_ee(int(row['timestamp_fgc']), system='EE_ODD')\n",
    "        timestamp_ee_odd = source_timestamp_ee_odd_df.timestamp[0]\n",
    "        u_dump_res_odd_df = rb_query.query_ee_u_dump_res_pm(timestamp_ee_odd, int(row['timestamp_fgc']), system='EE_ODD',\n",
    "                                            signal_names=['U_DUMP_RES'])\n",
    "\n",
    "        timestamp_pic = rb_query.find_timestamp_pic(int(row['timestamp_fgc']), spark=spark)\n",
    "\n",
    "        source_timestamp_qds_df = rb_query.find_source_timestamp_qds(int(row['timestamp_fgc']), duration=[(50, 's'), (500, 's')])\n",
    "        timestamp_iQps = source_timestamp_qds_df.timestamp[0]\n",
    "\n",
    "        # sometimes values are missing in the end\n",
    "        ts_iQPS_PIC = 1e-6 * (source_timestamp_qds_df['timestamp'].values - min(timestamp_pic))\n",
    "        mp3_fpa_df.loc[loc_mask, 'Delta_t(iQPS-PIC)'] = np.append(ts_iQPS_PIC, np.max(ts_iQPS_PIC)*np.ones(sum(loc_mask)-len(ts_iQPS_PIC)))\n",
    "\n",
    "        mp3_fpa_df.loc[loc_mask, 'Delta_t(EE_odd-PIC)'] = (timestamp_ee_odd - min(timestamp_pic)) / 1e6\n",
    "        mp3_fpa_df.loc[loc_mask, 'Delta_t(EE_even-PIC)'] = (timestamp_ee_even - min(timestamp_pic)) / 1e6\n",
    "        mp3_fpa_df.loc[loc_mask, 'U_EE_max_ODD'] = u_dump_res_odd_df.max()[0]\n",
    "        mp3_fpa_df.loc[loc_mask, 'U_EE_max_EVEN'] = u_dump_res_even_df.max()[0]\n",
    "    except:\n",
    "        k+=1\n",
    "print(k)"
   ]
  },
  {
   "cell_type": "code",
   "execution_count": 13,
   "id": "6653e62a",
   "metadata": {},
   "outputs": [],
   "source": [
    "mp3_fpa_df.to_csv(f\"../data/RB_TC_extract_{date_suffix}_processed_filled1.csv\")"
   ]
  },
  {
   "cell_type": "markdown",
   "id": "ad045569",
   "metadata": {},
   "source": [
    "# Reanalyze file"
   ]
  },
  {
   "cell_type": "code",
   "execution_count": 16,
   "id": "15684b63",
   "metadata": {},
   "outputs": [
    {
     "data": {
      "text/plain": [
       "(267, 267)"
      ]
     },
     "execution_count": 16,
     "metadata": {},
     "output_type": "execute_result"
    }
   ],
   "source": [
    "mp3_fpa_df = pd.read_csv(f\"../data/RB_TC_extract_{date_suffix}_processed_filled1.csv\")\n",
    "# Time.to_string(1514761200000000000), Time.to_unix_timestamp('2018-01-01 00:00:00+01:00')\n",
    "lower_limit = Time.to_unix_timestamp('2014-01-01 00:00:00+01:00')\n",
    "mp3_fpa_df_period = mp3_fpa_df_unique[mp3_fpa_df_unique['timestamp_fgc'] >= lower_limit].reset_index(drop=True) \n",
    "\n",
    "mp3_fpa_missing_values = mp3_fpa_df_period[mp3_fpa_df_period['Delta_t(iQPS-PIC)'].isna()]\n",
    "len(mp3_fpa_missing_values), len(mp3_fpa_df_to_download)"
   ]
  },
  {
   "cell_type": "code",
   "execution_count": null,
   "id": "34962374",
   "metadata": {},
   "outputs": [],
   "source": []
  }
 ],
 "metadata": {
  "kernelspec": {
   "display_name": "Python 3",
   "language": "python",
   "name": "python3"
  },
  "language_info": {
   "codemirror_mode": {
    "name": "ipython",
    "version": 3
   },
   "file_extension": ".py",
   "mimetype": "text/x-python",
   "name": "python",
   "nbconvert_exporter": "python",
   "pygments_lexer": "ipython3",
   "version": "3.8.6"
  },
  "sparkconnect": {
   "bundled_options": [
    "NXCALS",
    "SparkMetrics"
   ],
   "list_of_options": []
  }
 },
 "nbformat": 4,
 "nbformat_minor": 5
}
