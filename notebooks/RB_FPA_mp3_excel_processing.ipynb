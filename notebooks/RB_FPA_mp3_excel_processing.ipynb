{
 "cells": [
  {
   "cell_type": "markdown",
   "id": "eb1f8265",
   "metadata": {
    "pycharm": {
     "name": "#%% md\n"
    }
   },
   "source": [
    "# Import libraries"
   ]
  },
  {
   "cell_type": "code",
   "execution_count": 1,
   "id": "f8332c67",
   "metadata": {
    "pycharm": {
     "name": "#%%\n"
    }
   },
   "outputs": [],
   "source": [
    "import sys\n",
    "from pathlib import Path\n",
    "sys.path.insert(0,'..')\n",
    "#!pip install openpyxl"
   ]
  },
  {
   "cell_type": "code",
   "execution_count": 3,
   "id": "bade1960",
   "metadata": {
    "pycharm": {
     "name": "#%%\n"
    }
   },
   "outputs": [],
   "source": [
    "import pandas as pd\n",
    "import numpy as np\n",
    "import matplotlib.pyplot as plt\n",
    "\n",
    "from lhcsmapi.Time import Time\n",
    "#from lhcsmapi.analysis.RbCircuitQuery import RbCircuitQuery\n",
    "from scipy import stats\n",
    "\n",
    "from src.utils.mp3_excel_processing import get_fgc_timestamp, get_fgc_timestamp_missing\n",
    "from src.utils.hdf_tools import load_from_hdf_with_regex\n",
    "\n",
    "pd.set_option('display.max_rows', 200)\n",
    "import warnings\n",
    "warnings.filterwarnings('ignore')"
   ]
  },
  {
   "cell_type": "markdown",
   "id": "cff8ddbf",
   "metadata": {
    "pycharm": {
     "name": "#%% md\n"
    }
   },
   "source": [
    "# Read the (clean) MP3 file"
   ]
  },
  {
   "cell_type": "code",
   "execution_count": 4,
   "id": "2878f743",
   "metadata": {
    "pycharm": {
     "name": "#%%\n"
    }
   },
   "outputs": [
    {
     "data": {
      "text/plain": [
       "4862"
      ]
     },
     "execution_count": 4,
     "metadata": {},
     "output_type": "execute_result"
    }
   ],
   "source": [
    "mp3_fpa_df_raw = pd.read_excel(f\"../data/MP3_context_data/20230313_RB.xlsx\")\n",
    "len(mp3_fpa_df_raw)"
   ]
  },
  {
   "cell_type": "code",
   "execution_count": 5,
   "id": "b8ea38de",
   "metadata": {
    "pycharm": {
     "name": "#%%\n"
    }
   },
   "outputs": [
    {
     "data": {
      "text/html": [
       "<div>\n",
       "<style scoped>\n",
       "    .dataframe tbody tr th:only-of-type {\n",
       "        vertical-align: middle;\n",
       "    }\n",
       "\n",
       "    .dataframe tbody tr th {\n",
       "        vertical-align: top;\n",
       "    }\n",
       "\n",
       "    .dataframe thead th {\n",
       "        text-align: right;\n",
       "    }\n",
       "</style>\n",
       "<table border=\"1\" class=\"dataframe\">\n",
       "  <thead>\n",
       "    <tr style=\"text-align: right;\">\n",
       "      <th></th>\n",
       "      <th>Circuit Name</th>\n",
       "      <th>Circuit Family</th>\n",
       "      <th>Period</th>\n",
       "      <th>Date (FGC)</th>\n",
       "      <th>Time (FGC)</th>\n",
       "      <th>FPA Reason</th>\n",
       "      <th>Timestamp_PIC</th>\n",
       "      <th>Delta_t(FGC-PIC)</th>\n",
       "      <th>Delta_t(EE_even-PIC)</th>\n",
       "      <th>Delta_t(EE_odd-PIC)</th>\n",
       "      <th>...</th>\n",
       "      <th>Outer cable type</th>\n",
       "      <th>I_Q_SM18</th>\n",
       "      <th>dI_Q_Acc</th>\n",
       "      <th>dI_Q_LHC</th>\n",
       "      <th>Comment</th>\n",
       "      <th>Analysis performed by</th>\n",
       "      <th>lhcsmapi version</th>\n",
       "      <th>lhcsm notebook version</th>\n",
       "      <th>Unnamed: 46</th>\n",
       "      <th>Unnamed: 47</th>\n",
       "    </tr>\n",
       "  </thead>\n",
       "  <tbody>\n",
       "    <tr>\n",
       "      <th>0</th>\n",
       "      <td>NaN</td>\n",
       "      <td>RB</td>\n",
       "      <td>NaN</td>\n",
       "      <td>2008-04-01</td>\n",
       "      <td>13:14:15</td>\n",
       "      <td>NaN</td>\n",
       "      <td>NaN</td>\n",
       "      <td>[ms]</td>\n",
       "      <td>[ms]</td>\n",
       "      <td>[ms]</td>\n",
       "      <td>...</td>\n",
       "      <td>NaN</td>\n",
       "      <td>[A]</td>\n",
       "      <td>[A]</td>\n",
       "      <td>[A]</td>\n",
       "      <td>NaN</td>\n",
       "      <td>NaN</td>\n",
       "      <td>NaN</td>\n",
       "      <td>NaN</td>\n",
       "      <td>NaN</td>\n",
       "      <td>NaN</td>\n",
       "    </tr>\n",
       "    <tr>\n",
       "      <th>1</th>\n",
       "      <td>NaN</td>\n",
       "      <td>RB</td>\n",
       "      <td>Before Notebooks</td>\n",
       "      <td>NaT</td>\n",
       "      <td>NaN</td>\n",
       "      <td>NaN</td>\n",
       "      <td>NaN</td>\n",
       "      <td>NaN</td>\n",
       "      <td>NaN</td>\n",
       "      <td>NaN</td>\n",
       "      <td>...</td>\n",
       "      <td>NaN</td>\n",
       "      <td>NaN</td>\n",
       "      <td>NaN</td>\n",
       "      <td>NaN</td>\n",
       "      <td>NaN</td>\n",
       "      <td>NaN</td>\n",
       "      <td>Before Notebooks</td>\n",
       "      <td>NaN</td>\n",
       "      <td>NaN</td>\n",
       "      <td>NaN</td>\n",
       "    </tr>\n",
       "    <tr>\n",
       "      <th>27</th>\n",
       "      <td>NaN</td>\n",
       "      <td>RB</td>\n",
       "      <td>After Notebooks</td>\n",
       "      <td>NaT</td>\n",
       "      <td>NaN</td>\n",
       "      <td>NaN</td>\n",
       "      <td>NaN</td>\n",
       "      <td>NaN</td>\n",
       "      <td>NaN</td>\n",
       "      <td>NaN</td>\n",
       "      <td>...</td>\n",
       "      <td>NaN</td>\n",
       "      <td>NaN</td>\n",
       "      <td>NaN</td>\n",
       "      <td>NaN</td>\n",
       "      <td>NaN</td>\n",
       "      <td>NaN</td>\n",
       "      <td>After Notebooks</td>\n",
       "      <td>NaN</td>\n",
       "      <td>NaN</td>\n",
       "      <td>NaN</td>\n",
       "    </tr>\n",
       "  </tbody>\n",
       "</table>\n",
       "<p>3 rows × 48 columns</p>\n",
       "</div>"
      ],
      "text/plain": [
       "   Circuit Name Circuit Family            Period Date (FGC) Time (FGC)  \\\n",
       "0           NaN             RB               NaN 2008-04-01   13:14:15   \n",
       "1           NaN             RB  Before Notebooks        NaT        NaN   \n",
       "27          NaN             RB   After Notebooks        NaT        NaN   \n",
       "\n",
       "   FPA Reason Timestamp_PIC Delta_t(FGC-PIC) Delta_t(EE_even-PIC)  \\\n",
       "0         NaN           NaN             [ms]                 [ms]   \n",
       "1         NaN           NaN              NaN                  NaN   \n",
       "27        NaN           NaN              NaN                  NaN   \n",
       "\n",
       "   Delta_t(EE_odd-PIC)  ... Outer cable type I_Q_SM18 dI_Q_Acc dI_Q_LHC  \\\n",
       "0                 [ms]  ...              NaN      [A]      [A]      [A]   \n",
       "1                  NaN  ...              NaN      NaN      NaN      NaN   \n",
       "27                 NaN  ...              NaN      NaN      NaN      NaN   \n",
       "\n",
       "   Comment Analysis performed by  lhcsmapi version lhcsm notebook version  \\\n",
       "0      NaN                   NaN               NaN                    NaN   \n",
       "1      NaN                   NaN  Before Notebooks                    NaN   \n",
       "27     NaN                   NaN   After Notebooks                    NaN   \n",
       "\n",
       "   Unnamed: 46 Unnamed: 47  \n",
       "0          NaN         NaN  \n",
       "1          NaN         NaN  \n",
       "27         NaN         NaN  \n",
       "\n",
       "[3 rows x 48 columns]"
      ]
     },
     "execution_count": 5,
     "metadata": {},
     "output_type": "execute_result"
    }
   ],
   "source": [
    "# First row contains units, 9 rows contain only \"Before Notebooks\" and \"After Notebooks\" information, which need to be droped\n",
    "mp3_fpa_df = mp3_fpa_df_raw.dropna(subset = ['Date (FGC)', 'Circuit Name'])\n",
    "mp3_fpa_df_raw.iloc[~mp3_fpa_df_raw.index.isin(mp3_fpa_df.index)] #show droped rows"
   ]
  },
  {
   "cell_type": "markdown",
   "id": "a7f49d93",
   "metadata": {
    "pycharm": {
     "name": "#%% md\n"
    }
   },
   "source": [
    "# Find FGC timestamp for each FPA event in MP3 excel"
   ]
  },
  {
   "cell_type": "code",
   "execution_count": 6,
   "id": "e68d4e9b",
   "metadata": {
    "pycharm": {
     "name": "#%%\n"
    }
   },
   "outputs": [],
   "source": [
    "mp3_fpa_df['timestamp_fgc'] = mp3_fpa_df.apply(get_fgc_timestamp, axis=1)"
   ]
  },
  {
   "cell_type": "markdown",
   "id": "75eabcb9",
   "metadata": {
    "pycharm": {
     "name": "#%% md\n"
    }
   },
   "source": [
    "# Find missing fgc timestamps in mp3 file"
   ]
  },
  {
   "cell_type": "code",
   "execution_count": 7,
   "id": "a52d2836",
   "metadata": {
    "pycharm": {
     "name": "#%%\n"
    }
   },
   "outputs": [],
   "source": [
    "# some fgc timestamps have wrong hours\n",
    "mp3_fpa_df_primary_missing = mp3_fpa_df[(mp3_fpa_df.timestamp_fgc.isna()) & (mp3_fpa_df['Nr in Q event'] == 1)]\n",
    "mp3_fpa_df_primary_missing['timestamp_fgc'] = mp3_fpa_df_primary_missing.apply(get_fgc_timestamp_missing, axis=1)\n",
    "found_fgc_timestamps_df = mp3_fpa_df_primary_missing[\"timestamp_fgc\"].dropna()\n",
    "mp3_fpa_df.loc[found_fgc_timestamps_df.index, \"timestamp_fgc\"] = mp3_fpa_df_primary_missing[\"timestamp_fgc\"].dropna().values"
   ]
  },
  {
   "cell_type": "code",
   "execution_count": 8,
   "id": "07d5f072",
   "metadata": {
    "pycharm": {
     "name": "#%%\n"
    }
   },
   "outputs": [
    {
     "name": "stdout",
     "output_type": "stream",
     "text": [
      "4859 unique fgc events\n",
      "998 mp3 primary quench entries\n"
     ]
    }
   ],
   "source": [
    "print(f\"{len(mp3_fpa_df)} unique fgc events\") # 841 Primary quenches?\n",
    "print(f\"{len(mp3_fpa_df[mp3_fpa_df['Nr in Q event']==1])} mp3 primary quench entries\") # 834 primary quenches with correct notes"
   ]
  },
  {
   "cell_type": "code",
   "execution_count": 9,
   "id": "56c36cb2",
   "metadata": {
    "pycharm": {
     "name": "#%%\n"
    }
   },
   "outputs": [],
   "source": [
    "mp3_fpa_df.to_csv(f\"../data/MP3_context_data/20230313_RB_processed.csv\")"
   ]
  },
  {
   "cell_type": "markdown",
   "id": "3ffafb28",
   "metadata": {
    "pycharm": {
     "name": "#%% md\n"
    }
   },
   "source": [
    "# Select events to add features"
   ]
  },
  {
   "cell_type": "code",
   "execution_count": 10,
   "id": "a906173b",
   "metadata": {
    "pycharm": {
     "name": "#%%\n"
    }
   },
   "outputs": [
    {
     "name": "stdout",
     "output_type": "stream",
     "text": [
      "24\n"
     ]
    }
   ],
   "source": [
    "mp3_fpa_df = pd.read_csv(f\"../data/MP3_context_data/20230313_RB_processed.csv\")\n",
    "mp3_fpa_df_unique = mp3_fpa_df.drop_duplicates(subset=['timestamp_fgc', 'Circuit Name'])\n",
    "\n",
    "lower_limit = Time.to_unix_timestamp('2014-01-01 00:00:00+01:00')\n",
    "mp3_fpa_df_period = mp3_fpa_df_unique[mp3_fpa_df_unique['timestamp_fgc'] >= lower_limit].reset_index(drop=True) \n",
    "mp3_fpa_df_period_all = mp3_fpa_df[mp3_fpa_df['timestamp_fgc'] >= lower_limit].reset_index(drop=True) \n",
    "\n",
    "download_mask = pd.to_numeric(mp3_fpa_df_period_all['Delta_t(EE_odd-PIC)'], errors='coerce').isnull() | \\\n",
    "                pd.to_numeric(mp3_fpa_df_period_all['Delta_t(EE_even-PIC)'], errors='coerce').isnull()\n",
    "mp3_fpa_df_to_download = mp3_fpa_df_period_all[download_mask]\n",
    "print(len(mp3_fpa_df_to_download))"
   ]
  },
  {
   "cell_type": "markdown",
   "id": "7223cf7a",
   "metadata": {
    "pycharm": {
     "name": "#%% md\n"
    }
   },
   "source": [
    "# Add features with NXCALS"
   ]
  },
  {
   "cell_type": "code",
   "execution_count": 9,
   "id": "8981baca",
   "metadata": {
    "pycharm": {
     "name": "#%%\n"
    }
   },
   "outputs": [
    {
     "data": {
      "text/html": [
       "<text style=color:blue>Executing RB.A45 query function find_source_timestamp_ee: 1/45.</text>"
      ],
      "text/plain": [
       "<IPython.core.display.HTML object>"
      ]
     },
     "metadata": {},
     "output_type": "display_data"
    },
    {
     "name": "stdout",
     "output_type": "stream",
     "text": [
      "\tQuerying PM event timestamps for system: QPS, className: DQAMSNRB, source: UA47.RB.A45 from 2015-03-12 07:45:24.640 to 2015-03-12 08:02:14.640\n"
     ]
    },
    {
     "data": {
      "text/html": [
       "<text style=color:blue>Executing RB.A45 query function query_ee_u_dump_res_pm: 2/45.</text>"
      ],
      "text/plain": [
       "<IPython.core.display.HTML object>"
      ]
     },
     "metadata": {},
     "output_type": "display_data"
    },
    {
     "name": "stdout",
     "output_type": "stream",
     "text": [
      "\tQuerying PM event signal(s) UA47.RB.A45:U_DUMP_RES for system: QPS, className: DQAMSNRB, source: UA47.RB.A45 at 2015-03-12 07:45:35.211\n"
     ]
    },
    {
     "data": {
      "text/html": [
       "<text style=color:blue>Executing RB.A45 query function find_source_timestamp_ee: 3/45.</text>"
      ],
      "text/plain": [
       "<IPython.core.display.HTML object>"
      ]
     },
     "metadata": {},
     "output_type": "display_data"
    },
    {
     "name": "stdout",
     "output_type": "stream",
     "text": [
      "\tQuerying PM event timestamps for system: QPS, className: DQAMSNRB, source: RR53.RB.A45 from 2015-03-12 07:45:24.640 to 2015-03-12 08:02:14.640\n"
     ]
    },
    {
     "data": {
      "text/html": [
       "<text style=color:blue>Executing RB.A45 query function query_ee_u_dump_res_pm: 4/45.</text>"
      ],
      "text/plain": [
       "<IPython.core.display.HTML object>"
      ]
     },
     "metadata": {},
     "output_type": "display_data"
    },
    {
     "name": "stdout",
     "output_type": "stream",
     "text": [
      "\tQuerying PM event signal(s) RR53.RB.A45:U_DUMP_RES for system: QPS, className: DQAMSNRB, source: RR53.RB.A45 at 2015-03-12 07:45:34.951\n"
     ]
    },
    {
     "data": {
      "text/html": [
       "<text style=color:blue>Executing RB.A45 query function find_timestamp_pic: 5/45.</text>"
      ],
      "text/plain": [
       "<IPython.core.display.HTML object>"
      ]
     },
     "metadata": {},
     "output_type": "display_data"
    },
    {
     "name": "stdout",
     "output_type": "stream",
     "text": [
      "\tQuerying NXCALS signal(s) RB.A45.ODD:ST_ABORT_PIC, RB.A45.EVEN:ST_ABORT_PIC from 2015-03-12 07:45:33.640 to 2015-03-12 07:46:34.640\n"
     ]
    },
    {
     "data": {
      "text/html": [
       "<text style=color:blue>Executing RB.A45 query function find_source_timestamp_qds: 6/45.</text>"
      ],
      "text/plain": [
       "<IPython.core.display.HTML object>"
      ]
     },
     "metadata": {},
     "output_type": "display_data"
    },
    {
     "name": "stdout",
     "output_type": "stream",
     "text": [
      "\tQuerying PM event timestamps for system: QPS, className: DQAMCNMB_PMSTD, source: * from 2015-03-12 07:44:44.640 to 2015-03-12 07:53:54.640\n"
     ]
    },
    {
     "data": {
      "text/html": [
       "<text style=color:blue>Executing RB.A45 query function find_source_timestamp_ee: 1/45.</text>"
      ],
      "text/plain": [
       "<IPython.core.display.HTML object>"
      ]
     },
     "metadata": {},
     "output_type": "display_data"
    },
    {
     "name": "stdout",
     "output_type": "stream",
     "text": [
      "\tQuerying PM event timestamps for system: QPS, className: DQAMSNRB, source: UA47.RB.A45 from 2018-12-08 21:17:57.820 to 2018-12-08 21:34:47.820\n"
     ]
    },
    {
     "data": {
      "text/html": [
       "<text style=color:blue>Executing RB.A45 query function query_ee_u_dump_res_pm: 2/45.</text>"
      ],
      "text/plain": [
       "<IPython.core.display.HTML object>"
      ]
     },
     "metadata": {},
     "output_type": "display_data"
    },
    {
     "name": "stdout",
     "output_type": "stream",
     "text": [
      "\tQuerying PM event signal(s) UA47.RB.A45:U_DUMP_RES for system: QPS, className: DQAMSNRB, source: UA47.RB.A45 at 2018-12-08 21:18:08.384\n"
     ]
    },
    {
     "data": {
      "text/html": [
       "<text style=color:blue>Executing RB.A45 query function find_source_timestamp_ee: 3/45.</text>"
      ],
      "text/plain": [
       "<IPython.core.display.HTML object>"
      ]
     },
     "metadata": {},
     "output_type": "display_data"
    },
    {
     "name": "stdout",
     "output_type": "stream",
     "text": [
      "\tQuerying PM event timestamps for system: QPS, className: DQAMSNRB, source: RR53.RB.A45 from 2018-12-08 21:17:57.820 to 2018-12-08 21:34:47.820\n"
     ]
    },
    {
     "data": {
      "text/html": [
       "<text style=color:blue>Executing RB.A45 query function query_ee_u_dump_res_pm: 4/45.</text>"
      ],
      "text/plain": [
       "<IPython.core.display.HTML object>"
      ]
     },
     "metadata": {},
     "output_type": "display_data"
    },
    {
     "name": "stdout",
     "output_type": "stream",
     "text": [
      "\tQuerying PM event signal(s) RR53.RB.A45:U_DUMP_RES for system: QPS, className: DQAMSNRB, source: RR53.RB.A45 at 2018-12-08 21:18:07.889\n"
     ]
    },
    {
     "data": {
      "text/html": [
       "<text style=color:blue>Executing RB.A45 query function find_timestamp_pic: 5/45.</text>"
      ],
      "text/plain": [
       "<IPython.core.display.HTML object>"
      ]
     },
     "metadata": {},
     "output_type": "display_data"
    },
    {
     "name": "stdout",
     "output_type": "stream",
     "text": [
      "\tQuerying NXCALS signal(s) RB.A45.ODD:ST_ABORT_PIC, RB.A45.EVEN:ST_ABORT_PIC from 2018-12-08 21:18:06.820 to 2018-12-08 21:19:07.820\n"
     ]
    },
    {
     "data": {
      "text/html": [
       "<text style=color:blue>Executing RB.A45 query function find_source_timestamp_qds: 6/45.</text>"
      ],
      "text/plain": [
       "<IPython.core.display.HTML object>"
      ]
     },
     "metadata": {},
     "output_type": "display_data"
    },
    {
     "name": "stdout",
     "output_type": "stream",
     "text": [
      "\tQuerying PM event timestamps for system: QPS, className: DQAMCNMB_PMSTD, source: * from 2018-12-08 21:17:17.820 to 2018-12-08 21:26:27.820\n"
     ]
    },
    {
     "data": {
      "text/html": [
       "<text style=color:blue>Executing RB.A45 query function find_source_timestamp_ee: 1/45.</text>"
      ],
      "text/plain": [
       "<IPython.core.display.HTML object>"
      ]
     },
     "metadata": {},
     "output_type": "display_data"
    },
    {
     "name": "stdout",
     "output_type": "stream",
     "text": [
      "\tQuerying PM event timestamps for system: QPS, className: DQAMSNRB, source: UA47.RB.A45 from 2018-12-08 21:17:57.820 to 2018-12-08 21:34:47.820\n"
     ]
    },
    {
     "data": {
      "text/html": [
       "<text style=color:blue>Executing RB.A45 query function query_ee_u_dump_res_pm: 2/45.</text>"
      ],
      "text/plain": [
       "<IPython.core.display.HTML object>"
      ]
     },
     "metadata": {},
     "output_type": "display_data"
    },
    {
     "name": "stdout",
     "output_type": "stream",
     "text": [
      "\tQuerying PM event signal(s) UA47.RB.A45:U_DUMP_RES for system: QPS, className: DQAMSNRB, source: UA47.RB.A45 at 2018-12-08 21:18:08.384\n"
     ]
    },
    {
     "data": {
      "text/html": [
       "<text style=color:blue>Executing RB.A45 query function find_source_timestamp_ee: 3/45.</text>"
      ],
      "text/plain": [
       "<IPython.core.display.HTML object>"
      ]
     },
     "metadata": {},
     "output_type": "display_data"
    },
    {
     "name": "stdout",
     "output_type": "stream",
     "text": [
      "\tQuerying PM event timestamps for system: QPS, className: DQAMSNRB, source: RR53.RB.A45 from 2018-12-08 21:17:57.820 to 2018-12-08 21:34:47.820\n"
     ]
    },
    {
     "data": {
      "text/html": [
       "<text style=color:blue>Executing RB.A45 query function query_ee_u_dump_res_pm: 4/45.</text>"
      ],
      "text/plain": [
       "<IPython.core.display.HTML object>"
      ]
     },
     "metadata": {},
     "output_type": "display_data"
    },
    {
     "name": "stdout",
     "output_type": "stream",
     "text": [
      "\tQuerying PM event signal(s) RR53.RB.A45:U_DUMP_RES for system: QPS, className: DQAMSNRB, source: RR53.RB.A45 at 2018-12-08 21:18:07.889\n"
     ]
    },
    {
     "data": {
      "text/html": [
       "<text style=color:blue>Executing RB.A45 query function find_timestamp_pic: 5/45.</text>"
      ],
      "text/plain": [
       "<IPython.core.display.HTML object>"
      ]
     },
     "metadata": {},
     "output_type": "display_data"
    },
    {
     "name": "stdout",
     "output_type": "stream",
     "text": [
      "\tQuerying NXCALS signal(s) RB.A45.ODD:ST_ABORT_PIC, RB.A45.EVEN:ST_ABORT_PIC from 2018-12-08 21:18:06.820 to 2018-12-08 21:19:07.820\n"
     ]
    },
    {
     "data": {
      "text/html": [
       "<text style=color:blue>Executing RB.A45 query function find_source_timestamp_qds: 6/45.</text>"
      ],
      "text/plain": [
       "<IPython.core.display.HTML object>"
      ]
     },
     "metadata": {},
     "output_type": "display_data"
    },
    {
     "name": "stdout",
     "output_type": "stream",
     "text": [
      "\tQuerying PM event timestamps for system: QPS, className: DQAMCNMB_PMSTD, source: * from 2018-12-08 21:17:17.820 to 2018-12-08 21:26:27.820\n"
     ]
    },
    {
     "data": {
      "text/html": [
       "<text style=color:blue>Executing RB.A45 query function find_source_timestamp_ee: 1/45.</text>"
      ],
      "text/plain": [
       "<IPython.core.display.HTML object>"
      ]
     },
     "metadata": {},
     "output_type": "display_data"
    },
    {
     "name": "stdout",
     "output_type": "stream",
     "text": [
      "\tQuerying PM event timestamps for system: QPS, className: DQAMSNRB, source: UA47.RB.A45 from 2018-12-08 21:17:57.820 to 2018-12-08 21:34:47.820\n"
     ]
    },
    {
     "data": {
      "text/html": [
       "<text style=color:blue>Executing RB.A45 query function query_ee_u_dump_res_pm: 2/45.</text>"
      ],
      "text/plain": [
       "<IPython.core.display.HTML object>"
      ]
     },
     "metadata": {},
     "output_type": "display_data"
    },
    {
     "name": "stdout",
     "output_type": "stream",
     "text": [
      "\tQuerying PM event signal(s) UA47.RB.A45:U_DUMP_RES for system: QPS, className: DQAMSNRB, source: UA47.RB.A45 at 2018-12-08 21:18:08.384\n"
     ]
    },
    {
     "data": {
      "text/html": [
       "<text style=color:blue>Executing RB.A45 query function find_source_timestamp_ee: 3/45.</text>"
      ],
      "text/plain": [
       "<IPython.core.display.HTML object>"
      ]
     },
     "metadata": {},
     "output_type": "display_data"
    },
    {
     "name": "stdout",
     "output_type": "stream",
     "text": [
      "\tQuerying PM event timestamps for system: QPS, className: DQAMSNRB, source: RR53.RB.A45 from 2018-12-08 21:17:57.820 to 2018-12-08 21:34:47.820\n"
     ]
    },
    {
     "data": {
      "text/html": [
       "<text style=color:blue>Executing RB.A45 query function query_ee_u_dump_res_pm: 4/45.</text>"
      ],
      "text/plain": [
       "<IPython.core.display.HTML object>"
      ]
     },
     "metadata": {},
     "output_type": "display_data"
    },
    {
     "name": "stdout",
     "output_type": "stream",
     "text": [
      "\tQuerying PM event signal(s) RR53.RB.A45:U_DUMP_RES for system: QPS, className: DQAMSNRB, source: RR53.RB.A45 at 2018-12-08 21:18:07.889\n"
     ]
    },
    {
     "data": {
      "text/html": [
       "<text style=color:blue>Executing RB.A45 query function find_timestamp_pic: 5/45.</text>"
      ],
      "text/plain": [
       "<IPython.core.display.HTML object>"
      ]
     },
     "metadata": {},
     "output_type": "display_data"
    },
    {
     "name": "stdout",
     "output_type": "stream",
     "text": [
      "\tQuerying NXCALS signal(s) RB.A45.ODD:ST_ABORT_PIC, RB.A45.EVEN:ST_ABORT_PIC from 2018-12-08 21:18:06.820 to 2018-12-08 21:19:07.820\n"
     ]
    },
    {
     "data": {
      "text/html": [
       "<text style=color:blue>Executing RB.A45 query function find_source_timestamp_qds: 6/45.</text>"
      ],
      "text/plain": [
       "<IPython.core.display.HTML object>"
      ]
     },
     "metadata": {},
     "output_type": "display_data"
    },
    {
     "name": "stdout",
     "output_type": "stream",
     "text": [
      "\tQuerying PM event timestamps for system: QPS, className: DQAMCNMB_PMSTD, source: * from 2018-12-08 21:17:17.820 to 2018-12-08 21:26:27.820\n"
     ]
    },
    {
     "data": {
      "text/html": [
       "<text style=color:blue>Executing RB.A45 query function find_source_timestamp_ee: 1/45.</text>"
      ],
      "text/plain": [
       "<IPython.core.display.HTML object>"
      ]
     },
     "metadata": {},
     "output_type": "display_data"
    },
    {
     "name": "stdout",
     "output_type": "stream",
     "text": [
      "\tQuerying PM event timestamps for system: QPS, className: DQAMSNRB, source: UA47.RB.A45 from 2018-12-09 12:32:17.780 to 2018-12-09 12:49:07.780\n"
     ]
    },
    {
     "data": {
      "text/html": [
       "<text style=color:blue>Executing RB.A45 query function query_ee_u_dump_res_pm: 2/45.</text>"
      ],
      "text/plain": [
       "<IPython.core.display.HTML object>"
      ]
     },
     "metadata": {},
     "output_type": "display_data"
    },
    {
     "name": "stdout",
     "output_type": "stream",
     "text": [
      "\tQuerying PM event signal(s) UA47.RB.A45:U_DUMP_RES for system: QPS, className: DQAMSNRB, source: UA47.RB.A45 at 2018-12-09 12:32:28.343\n"
     ]
    },
    {
     "data": {
      "text/html": [
       "<text style=color:blue>Executing RB.A45 query function find_source_timestamp_ee: 3/45.</text>"
      ],
      "text/plain": [
       "<IPython.core.display.HTML object>"
      ]
     },
     "metadata": {},
     "output_type": "display_data"
    },
    {
     "name": "stdout",
     "output_type": "stream",
     "text": [
      "\tQuerying PM event timestamps for system: QPS, className: DQAMSNRB, source: RR53.RB.A45 from 2018-12-09 12:32:17.780 to 2018-12-09 12:49:07.780\n"
     ]
    },
    {
     "data": {
      "text/html": [
       "<text style=color:blue>Executing RB.A45 query function query_ee_u_dump_res_pm: 4/45.</text>"
      ],
      "text/plain": [
       "<IPython.core.display.HTML object>"
      ]
     },
     "metadata": {},
     "output_type": "display_data"
    },
    {
     "name": "stdout",
     "output_type": "stream",
     "text": [
      "\tQuerying PM event signal(s) RR53.RB.A45:U_DUMP_RES for system: QPS, className: DQAMSNRB, source: RR53.RB.A45 at 2018-12-09 12:32:27.848\n"
     ]
    },
    {
     "data": {
      "text/html": [
       "<text style=color:blue>Executing RB.A45 query function find_timestamp_pic: 5/45.</text>"
      ],
      "text/plain": [
       "<IPython.core.display.HTML object>"
      ]
     },
     "metadata": {},
     "output_type": "display_data"
    },
    {
     "name": "stdout",
     "output_type": "stream",
     "text": [
      "\tQuerying NXCALS signal(s) RB.A45.ODD:ST_ABORT_PIC, RB.A45.EVEN:ST_ABORT_PIC from 2018-12-09 12:32:26.780 to 2018-12-09 12:33:27.780\n"
     ]
    },
    {
     "data": {
      "text/html": [
       "<text style=color:blue>Executing RB.A45 query function find_source_timestamp_qds: 6/45.</text>"
      ],
      "text/plain": [
       "<IPython.core.display.HTML object>"
      ]
     },
     "metadata": {},
     "output_type": "display_data"
    },
    {
     "name": "stdout",
     "output_type": "stream",
     "text": [
      "\tQuerying PM event timestamps for system: QPS, className: DQAMCNMB_PMSTD, source: * from 2018-12-09 12:31:37.780 to 2018-12-09 12:40:47.780\n"
     ]
    },
    {
     "data": {
      "text/html": [
       "<text style=color:blue>Executing RB.A45 query function find_source_timestamp_ee: 1/45.</text>"
      ],
      "text/plain": [
       "<IPython.core.display.HTML object>"
      ]
     },
     "metadata": {},
     "output_type": "display_data"
    },
    {
     "name": "stdout",
     "output_type": "stream",
     "text": [
      "\tQuerying PM event timestamps for system: QPS, className: DQAMSNRB, source: UA47.RB.A45 from 2018-12-09 12:32:17.780 to 2018-12-09 12:49:07.780\n"
     ]
    },
    {
     "data": {
      "text/html": [
       "<text style=color:blue>Executing RB.A45 query function query_ee_u_dump_res_pm: 2/45.</text>"
      ],
      "text/plain": [
       "<IPython.core.display.HTML object>"
      ]
     },
     "metadata": {},
     "output_type": "display_data"
    },
    {
     "name": "stdout",
     "output_type": "stream",
     "text": [
      "\tQuerying PM event signal(s) UA47.RB.A45:U_DUMP_RES for system: QPS, className: DQAMSNRB, source: UA47.RB.A45 at 2018-12-09 12:32:28.343\n"
     ]
    },
    {
     "data": {
      "text/html": [
       "<text style=color:blue>Executing RB.A45 query function find_source_timestamp_ee: 3/45.</text>"
      ],
      "text/plain": [
       "<IPython.core.display.HTML object>"
      ]
     },
     "metadata": {},
     "output_type": "display_data"
    },
    {
     "name": "stdout",
     "output_type": "stream",
     "text": [
      "\tQuerying PM event timestamps for system: QPS, className: DQAMSNRB, source: RR53.RB.A45 from 2018-12-09 12:32:17.780 to 2018-12-09 12:49:07.780\n"
     ]
    },
    {
     "data": {
      "text/html": [
       "<text style=color:blue>Executing RB.A45 query function query_ee_u_dump_res_pm: 4/45.</text>"
      ],
      "text/plain": [
       "<IPython.core.display.HTML object>"
      ]
     },
     "metadata": {},
     "output_type": "display_data"
    },
    {
     "name": "stdout",
     "output_type": "stream",
     "text": [
      "\tQuerying PM event signal(s) RR53.RB.A45:U_DUMP_RES for system: QPS, className: DQAMSNRB, source: RR53.RB.A45 at 2018-12-09 12:32:27.848\n"
     ]
    },
    {
     "data": {
      "text/html": [
       "<text style=color:blue>Executing RB.A45 query function find_timestamp_pic: 5/45.</text>"
      ],
      "text/plain": [
       "<IPython.core.display.HTML object>"
      ]
     },
     "metadata": {},
     "output_type": "display_data"
    },
    {
     "name": "stdout",
     "output_type": "stream",
     "text": [
      "\tQuerying NXCALS signal(s) RB.A45.ODD:ST_ABORT_PIC, RB.A45.EVEN:ST_ABORT_PIC from 2018-12-09 12:32:26.780 to 2018-12-09 12:33:27.780\n"
     ]
    },
    {
     "data": {
      "text/html": [
       "<text style=color:blue>Executing RB.A45 query function find_source_timestamp_qds: 6/45.</text>"
      ],
      "text/plain": [
       "<IPython.core.display.HTML object>"
      ]
     },
     "metadata": {},
     "output_type": "display_data"
    },
    {
     "name": "stdout",
     "output_type": "stream",
     "text": [
      "\tQuerying PM event timestamps for system: QPS, className: DQAMCNMB_PMSTD, source: * from 2018-12-09 12:31:37.780 to 2018-12-09 12:40:47.780\n"
     ]
    },
    {
     "data": {
      "text/html": [
       "<text style=color:blue>Executing RB.A45 query function find_source_timestamp_ee: 1/45.</text>"
      ],
      "text/plain": [
       "<IPython.core.display.HTML object>"
      ]
     },
     "metadata": {},
     "output_type": "display_data"
    },
    {
     "name": "stdout",
     "output_type": "stream",
     "text": [
      "\tQuerying PM event timestamps for system: QPS, className: DQAMSNRB, source: UA47.RB.A45 from 2018-12-09 12:32:17.780 to 2018-12-09 12:49:07.780\n"
     ]
    },
    {
     "data": {
      "text/html": [
       "<text style=color:blue>Executing RB.A45 query function query_ee_u_dump_res_pm: 2/45.</text>"
      ],
      "text/plain": [
       "<IPython.core.display.HTML object>"
      ]
     },
     "metadata": {},
     "output_type": "display_data"
    },
    {
     "name": "stdout",
     "output_type": "stream",
     "text": [
      "\tQuerying PM event signal(s) UA47.RB.A45:U_DUMP_RES for system: QPS, className: DQAMSNRB, source: UA47.RB.A45 at 2018-12-09 12:32:28.343\n"
     ]
    },
    {
     "data": {
      "text/html": [
       "<text style=color:blue>Executing RB.A45 query function find_source_timestamp_ee: 3/45.</text>"
      ],
      "text/plain": [
       "<IPython.core.display.HTML object>"
      ]
     },
     "metadata": {},
     "output_type": "display_data"
    },
    {
     "name": "stdout",
     "output_type": "stream",
     "text": [
      "\tQuerying PM event timestamps for system: QPS, className: DQAMSNRB, source: RR53.RB.A45 from 2018-12-09 12:32:17.780 to 2018-12-09 12:49:07.780\n"
     ]
    },
    {
     "data": {
      "text/html": [
       "<text style=color:blue>Executing RB.A45 query function query_ee_u_dump_res_pm: 4/45.</text>"
      ],
      "text/plain": [
       "<IPython.core.display.HTML object>"
      ]
     },
     "metadata": {},
     "output_type": "display_data"
    },
    {
     "name": "stdout",
     "output_type": "stream",
     "text": [
      "\tQuerying PM event signal(s) RR53.RB.A45:U_DUMP_RES for system: QPS, className: DQAMSNRB, source: RR53.RB.A45 at 2018-12-09 12:32:27.848\n"
     ]
    },
    {
     "data": {
      "text/html": [
       "<text style=color:blue>Executing RB.A45 query function find_timestamp_pic: 5/45.</text>"
      ],
      "text/plain": [
       "<IPython.core.display.HTML object>"
      ]
     },
     "metadata": {},
     "output_type": "display_data"
    },
    {
     "name": "stdout",
     "output_type": "stream",
     "text": [
      "\tQuerying NXCALS signal(s) RB.A45.ODD:ST_ABORT_PIC, RB.A45.EVEN:ST_ABORT_PIC from 2018-12-09 12:32:26.780 to 2018-12-09 12:33:27.780\n"
     ]
    },
    {
     "data": {
      "text/html": [
       "<text style=color:blue>Executing RB.A45 query function find_source_timestamp_qds: 6/45.</text>"
      ],
      "text/plain": [
       "<IPython.core.display.HTML object>"
      ]
     },
     "metadata": {},
     "output_type": "display_data"
    },
    {
     "name": "stdout",
     "output_type": "stream",
     "text": [
      "\tQuerying PM event timestamps for system: QPS, className: DQAMCNMB_PMSTD, source: * from 2018-12-09 12:31:37.780 to 2018-12-09 12:40:47.780\n"
     ]
    },
    {
     "data": {
      "text/html": [
       "<text style=color:blue>Executing RB.A56 query function find_source_timestamp_ee: 1/45.</text>"
      ],
      "text/plain": [
       "<IPython.core.display.HTML object>"
      ]
     },
     "metadata": {},
     "output_type": "display_data"
    },
    {
     "name": "stdout",
     "output_type": "stream",
     "text": [
      "\tQuerying PM event timestamps for system: QPS, className: DQAMSNRB, source: UA63.RB.A56 from 2015-02-09 22:58:20.160 to 2015-02-09 23:15:10.160\n"
     ]
    },
    {
     "data": {
      "text/html": [
       "<text style=color:blue>Executing RB.A56 query function find_source_timestamp_ee: 1/45.</text>"
      ],
      "text/plain": [
       "<IPython.core.display.HTML object>"
      ]
     },
     "metadata": {},
     "output_type": "display_data"
    },
    {
     "name": "stdout",
     "output_type": "stream",
     "text": [
      "\tQuerying PM event timestamps for system: QPS, className: DQAMSNRB, source: UA63.RB.A56 from 2015-02-09 22:58:20.160 to 2015-02-09 23:15:10.160\n"
     ]
    },
    {
     "data": {
      "text/html": [
       "<text style=color:blue>Executing RB.A56 query function find_source_timestamp_ee: 1/45.</text>"
      ],
      "text/plain": [
       "<IPython.core.display.HTML object>"
      ]
     },
     "metadata": {},
     "output_type": "display_data"
    },
    {
     "name": "stdout",
     "output_type": "stream",
     "text": [
      "\tQuerying PM event timestamps for system: QPS, className: DQAMSNRB, source: UA63.RB.A56 from 2017-12-04 07:35:07.280 to 2017-12-04 07:51:57.280\n"
     ]
    },
    {
     "data": {
      "text/html": [
       "<text style=color:blue>Executing RB.A56 query function query_ee_u_dump_res_pm: 2/45.</text>"
      ],
      "text/plain": [
       "<IPython.core.display.HTML object>"
      ]
     },
     "metadata": {},
     "output_type": "display_data"
    },
    {
     "name": "stdout",
     "output_type": "stream",
     "text": [
      "\tQuerying PM event signal(s) UA63.RB.A56:U_DUMP_RES for system: QPS, className: DQAMSNRB, source: UA63.RB.A56 at 2017-12-04 07:35:17.825\n"
     ]
    },
    {
     "data": {
      "text/html": [
       "<text style=color:blue>Executing RB.A56 query function find_source_timestamp_ee: 3/45.</text>"
      ],
      "text/plain": [
       "<IPython.core.display.HTML object>"
      ]
     },
     "metadata": {},
     "output_type": "display_data"
    },
    {
     "name": "stdout",
     "output_type": "stream",
     "text": [
      "\tQuerying PM event timestamps for system: QPS, className: DQAMSNRB, source: RR57.RB.A56 from 2017-12-04 07:35:07.280 to 2017-12-04 07:51:57.280\n"
     ]
    },
    {
     "data": {
      "text/html": [
       "<text style=color:blue>Executing RB.A56 query function query_ee_u_dump_res_pm: 4/45.</text>"
      ],
      "text/plain": [
       "<IPython.core.display.HTML object>"
      ]
     },
     "metadata": {},
     "output_type": "display_data"
    },
    {
     "name": "stdout",
     "output_type": "stream",
     "text": [
      "\tQuerying PM event signal(s) RR57.RB.A56:U_DUMP_RES for system: QPS, className: DQAMSNRB, source: RR57.RB.A56 at 2017-12-04 07:35:17.583\n"
     ]
    },
    {
     "data": {
      "text/html": [
       "<text style=color:blue>Executing RB.A56 query function find_timestamp_pic: 5/45.</text>"
      ],
      "text/plain": [
       "<IPython.core.display.HTML object>"
      ]
     },
     "metadata": {},
     "output_type": "display_data"
    },
    {
     "name": "stdout",
     "output_type": "stream",
     "text": [
      "\tQuerying NXCALS signal(s) RB.A56.ODD:ST_ABORT_PIC, RB.A56.EVEN:ST_ABORT_PIC from 2017-12-04 07:35:16.280 to 2017-12-04 07:36:17.280\n"
     ]
    },
    {
     "data": {
      "text/html": [
       "<text style=color:blue>Executing RB.A56 query function find_source_timestamp_qds: 6/45.</text>"
      ],
      "text/plain": [
       "<IPython.core.display.HTML object>"
      ]
     },
     "metadata": {},
     "output_type": "display_data"
    },
    {
     "name": "stdout",
     "output_type": "stream",
     "text": [
      "\tQuerying PM event timestamps for system: QPS, className: DQAMCNMB_PMSTD, source: * from 2017-12-04 07:34:27.280 to 2017-12-04 07:43:37.280\n"
     ]
    },
    {
     "data": {
      "text/html": [
       "<text style=color:blue>Executing RB.A56 query function find_source_timestamp_ee: 1/45.</text>"
      ],
      "text/plain": [
       "<IPython.core.display.HTML object>"
      ]
     },
     "metadata": {},
     "output_type": "display_data"
    },
    {
     "name": "stdout",
     "output_type": "stream",
     "text": [
      "\tQuerying PM event timestamps for system: QPS, className: DQAMSNRB, source: UA63.RB.A56 from 2017-12-04 07:35:07.280 to 2017-12-04 07:51:57.280\n"
     ]
    },
    {
     "data": {
      "text/html": [
       "<text style=color:blue>Executing RB.A56 query function query_ee_u_dump_res_pm: 2/45.</text>"
      ],
      "text/plain": [
       "<IPython.core.display.HTML object>"
      ]
     },
     "metadata": {},
     "output_type": "display_data"
    },
    {
     "name": "stdout",
     "output_type": "stream",
     "text": [
      "\tQuerying PM event signal(s) UA63.RB.A56:U_DUMP_RES for system: QPS, className: DQAMSNRB, source: UA63.RB.A56 at 2017-12-04 07:35:17.825\n"
     ]
    },
    {
     "data": {
      "text/html": [
       "<text style=color:blue>Executing RB.A56 query function find_source_timestamp_ee: 3/45.</text>"
      ],
      "text/plain": [
       "<IPython.core.display.HTML object>"
      ]
     },
     "metadata": {},
     "output_type": "display_data"
    },
    {
     "name": "stdout",
     "output_type": "stream",
     "text": [
      "\tQuerying PM event timestamps for system: QPS, className: DQAMSNRB, source: RR57.RB.A56 from 2017-12-04 07:35:07.280 to 2017-12-04 07:51:57.280\n"
     ]
    },
    {
     "data": {
      "text/html": [
       "<text style=color:blue>Executing RB.A56 query function query_ee_u_dump_res_pm: 4/45.</text>"
      ],
      "text/plain": [
       "<IPython.core.display.HTML object>"
      ]
     },
     "metadata": {},
     "output_type": "display_data"
    },
    {
     "name": "stdout",
     "output_type": "stream",
     "text": [
      "\tQuerying PM event signal(s) RR57.RB.A56:U_DUMP_RES for system: QPS, className: DQAMSNRB, source: RR57.RB.A56 at 2017-12-04 07:35:17.583\n"
     ]
    },
    {
     "data": {
      "text/html": [
       "<text style=color:blue>Executing RB.A56 query function find_timestamp_pic: 5/45.</text>"
      ],
      "text/plain": [
       "<IPython.core.display.HTML object>"
      ]
     },
     "metadata": {},
     "output_type": "display_data"
    },
    {
     "name": "stdout",
     "output_type": "stream",
     "text": [
      "\tQuerying NXCALS signal(s) RB.A56.ODD:ST_ABORT_PIC, RB.A56.EVEN:ST_ABORT_PIC from 2017-12-04 07:35:16.280 to 2017-12-04 07:36:17.280\n"
     ]
    },
    {
     "data": {
      "text/html": [
       "<text style=color:blue>Executing RB.A56 query function find_source_timestamp_qds: 6/45.</text>"
      ],
      "text/plain": [
       "<IPython.core.display.HTML object>"
      ]
     },
     "metadata": {},
     "output_type": "display_data"
    },
    {
     "name": "stdout",
     "output_type": "stream",
     "text": [
      "\tQuerying PM event timestamps for system: QPS, className: DQAMCNMB_PMSTD, source: * from 2017-12-04 07:34:27.280 to 2017-12-04 07:43:37.280\n"
     ]
    },
    {
     "data": {
      "text/html": [
       "<text style=color:blue>Executing RB.A56 query function find_source_timestamp_ee: 1/45.</text>"
      ],
      "text/plain": [
       "<IPython.core.display.HTML object>"
      ]
     },
     "metadata": {},
     "output_type": "display_data"
    },
    {
     "name": "stdout",
     "output_type": "stream",
     "text": [
      "\tQuerying PM event timestamps for system: QPS, className: DQAMSNRB, source: UA63.RB.A56 from 2017-12-04 07:35:07.280 to 2017-12-04 07:51:57.280\n"
     ]
    },
    {
     "data": {
      "text/html": [
       "<text style=color:blue>Executing RB.A56 query function query_ee_u_dump_res_pm: 2/45.</text>"
      ],
      "text/plain": [
       "<IPython.core.display.HTML object>"
      ]
     },
     "metadata": {},
     "output_type": "display_data"
    },
    {
     "name": "stdout",
     "output_type": "stream",
     "text": [
      "\tQuerying PM event signal(s) UA63.RB.A56:U_DUMP_RES for system: QPS, className: DQAMSNRB, source: UA63.RB.A56 at 2017-12-04 07:35:17.825\n"
     ]
    },
    {
     "data": {
      "text/html": [
       "<text style=color:blue>Executing RB.A56 query function find_source_timestamp_ee: 3/45.</text>"
      ],
      "text/plain": [
       "<IPython.core.display.HTML object>"
      ]
     },
     "metadata": {},
     "output_type": "display_data"
    },
    {
     "name": "stdout",
     "output_type": "stream",
     "text": [
      "\tQuerying PM event timestamps for system: QPS, className: DQAMSNRB, source: RR57.RB.A56 from 2017-12-04 07:35:07.280 to 2017-12-04 07:51:57.280\n"
     ]
    },
    {
     "data": {
      "text/html": [
       "<text style=color:blue>Executing RB.A56 query function query_ee_u_dump_res_pm: 4/45.</text>"
      ],
      "text/plain": [
       "<IPython.core.display.HTML object>"
      ]
     },
     "metadata": {},
     "output_type": "display_data"
    },
    {
     "name": "stdout",
     "output_type": "stream",
     "text": [
      "\tQuerying PM event signal(s) RR57.RB.A56:U_DUMP_RES for system: QPS, className: DQAMSNRB, source: RR57.RB.A56 at 2017-12-04 07:35:17.583\n"
     ]
    },
    {
     "data": {
      "text/html": [
       "<text style=color:blue>Executing RB.A56 query function find_timestamp_pic: 5/45.</text>"
      ],
      "text/plain": [
       "<IPython.core.display.HTML object>"
      ]
     },
     "metadata": {},
     "output_type": "display_data"
    },
    {
     "name": "stdout",
     "output_type": "stream",
     "text": [
      "\tQuerying NXCALS signal(s) RB.A56.ODD:ST_ABORT_PIC, RB.A56.EVEN:ST_ABORT_PIC from 2017-12-04 07:35:16.280 to 2017-12-04 07:36:17.280\n"
     ]
    },
    {
     "data": {
      "text/html": [
       "<text style=color:blue>Executing RB.A56 query function find_source_timestamp_qds: 6/45.</text>"
      ],
      "text/plain": [
       "<IPython.core.display.HTML object>"
      ]
     },
     "metadata": {},
     "output_type": "display_data"
    },
    {
     "name": "stdout",
     "output_type": "stream",
     "text": [
      "\tQuerying PM event timestamps for system: QPS, className: DQAMCNMB_PMSTD, source: * from 2017-12-04 07:34:27.280 to 2017-12-04 07:43:37.280\n"
     ]
    },
    {
     "data": {
      "text/html": [
       "<text style=color:blue>Executing RB.A56 query function find_source_timestamp_ee: 1/45.</text>"
      ],
      "text/plain": [
       "<IPython.core.display.HTML object>"
      ]
     },
     "metadata": {},
     "output_type": "display_data"
    },
    {
     "name": "stdout",
     "output_type": "stream",
     "text": [
      "\tQuerying PM event timestamps for system: QPS, className: DQAMSNRB, source: UA63.RB.A56 from 2017-12-04 07:35:07.280 to 2017-12-04 07:51:57.280\n"
     ]
    },
    {
     "data": {
      "text/html": [
       "<text style=color:blue>Executing RB.A56 query function query_ee_u_dump_res_pm: 2/45.</text>"
      ],
      "text/plain": [
       "<IPython.core.display.HTML object>"
      ]
     },
     "metadata": {},
     "output_type": "display_data"
    },
    {
     "name": "stdout",
     "output_type": "stream",
     "text": [
      "\tQuerying PM event signal(s) UA63.RB.A56:U_DUMP_RES for system: QPS, className: DQAMSNRB, source: UA63.RB.A56 at 2017-12-04 07:35:17.825\n"
     ]
    },
    {
     "data": {
      "text/html": [
       "<text style=color:blue>Executing RB.A56 query function find_source_timestamp_ee: 3/45.</text>"
      ],
      "text/plain": [
       "<IPython.core.display.HTML object>"
      ]
     },
     "metadata": {},
     "output_type": "display_data"
    },
    {
     "name": "stdout",
     "output_type": "stream",
     "text": [
      "\tQuerying PM event timestamps for system: QPS, className: DQAMSNRB, source: RR57.RB.A56 from 2017-12-04 07:35:07.280 to 2017-12-04 07:51:57.280\n"
     ]
    },
    {
     "data": {
      "text/html": [
       "<text style=color:blue>Executing RB.A56 query function query_ee_u_dump_res_pm: 4/45.</text>"
      ],
      "text/plain": [
       "<IPython.core.display.HTML object>"
      ]
     },
     "metadata": {},
     "output_type": "display_data"
    },
    {
     "name": "stdout",
     "output_type": "stream",
     "text": [
      "\tQuerying PM event signal(s) RR57.RB.A56:U_DUMP_RES for system: QPS, className: DQAMSNRB, source: RR57.RB.A56 at 2017-12-04 07:35:17.583\n"
     ]
    },
    {
     "data": {
      "text/html": [
       "<text style=color:blue>Executing RB.A56 query function find_timestamp_pic: 5/45.</text>"
      ],
      "text/plain": [
       "<IPython.core.display.HTML object>"
      ]
     },
     "metadata": {},
     "output_type": "display_data"
    },
    {
     "name": "stdout",
     "output_type": "stream",
     "text": [
      "\tQuerying NXCALS signal(s) RB.A56.ODD:ST_ABORT_PIC, RB.A56.EVEN:ST_ABORT_PIC from 2017-12-04 07:35:16.280 to 2017-12-04 07:36:17.280\n"
     ]
    },
    {
     "data": {
      "text/html": [
       "<text style=color:blue>Executing RB.A56 query function find_source_timestamp_qds: 6/45.</text>"
      ],
      "text/plain": [
       "<IPython.core.display.HTML object>"
      ]
     },
     "metadata": {},
     "output_type": "display_data"
    },
    {
     "name": "stdout",
     "output_type": "stream",
     "text": [
      "\tQuerying PM event timestamps for system: QPS, className: DQAMCNMB_PMSTD, source: * from 2017-12-04 07:34:27.280 to 2017-12-04 07:43:37.280\n"
     ]
    },
    {
     "data": {
      "text/html": [
       "<text style=color:blue>Executing RB.A56 query function find_source_timestamp_ee: 1/45.</text>"
      ],
      "text/plain": [
       "<IPython.core.display.HTML object>"
      ]
     },
     "metadata": {},
     "output_type": "display_data"
    },
    {
     "name": "stdout",
     "output_type": "stream",
     "text": [
      "\tQuerying PM event timestamps for system: QPS, className: DQAMSNRB, source: UA63.RB.A56 from 2017-12-04 07:35:07.280 to 2017-12-04 07:51:57.280\n"
     ]
    },
    {
     "data": {
      "text/html": [
       "<text style=color:blue>Executing RB.A56 query function query_ee_u_dump_res_pm: 2/45.</text>"
      ],
      "text/plain": [
       "<IPython.core.display.HTML object>"
      ]
     },
     "metadata": {},
     "output_type": "display_data"
    },
    {
     "name": "stdout",
     "output_type": "stream",
     "text": [
      "\tQuerying PM event signal(s) UA63.RB.A56:U_DUMP_RES for system: QPS, className: DQAMSNRB, source: UA63.RB.A56 at 2017-12-04 07:35:17.825\n"
     ]
    },
    {
     "data": {
      "text/html": [
       "<text style=color:blue>Executing RB.A56 query function find_source_timestamp_ee: 3/45.</text>"
      ],
      "text/plain": [
       "<IPython.core.display.HTML object>"
      ]
     },
     "metadata": {},
     "output_type": "display_data"
    },
    {
     "name": "stdout",
     "output_type": "stream",
     "text": [
      "\tQuerying PM event timestamps for system: QPS, className: DQAMSNRB, source: RR57.RB.A56 from 2017-12-04 07:35:07.280 to 2017-12-04 07:51:57.280\n"
     ]
    },
    {
     "data": {
      "text/html": [
       "<text style=color:blue>Executing RB.A56 query function query_ee_u_dump_res_pm: 4/45.</text>"
      ],
      "text/plain": [
       "<IPython.core.display.HTML object>"
      ]
     },
     "metadata": {},
     "output_type": "display_data"
    },
    {
     "name": "stdout",
     "output_type": "stream",
     "text": [
      "\tQuerying PM event signal(s) RR57.RB.A56:U_DUMP_RES for system: QPS, className: DQAMSNRB, source: RR57.RB.A56 at 2017-12-04 07:35:17.583\n"
     ]
    },
    {
     "data": {
      "text/html": [
       "<text style=color:blue>Executing RB.A56 query function find_timestamp_pic: 5/45.</text>"
      ],
      "text/plain": [
       "<IPython.core.display.HTML object>"
      ]
     },
     "metadata": {},
     "output_type": "display_data"
    },
    {
     "name": "stdout",
     "output_type": "stream",
     "text": [
      "\tQuerying NXCALS signal(s) RB.A56.ODD:ST_ABORT_PIC, RB.A56.EVEN:ST_ABORT_PIC from 2017-12-04 07:35:16.280 to 2017-12-04 07:36:17.280\n"
     ]
    },
    {
     "data": {
      "text/html": [
       "<text style=color:blue>Executing RB.A56 query function find_source_timestamp_qds: 6/45.</text>"
      ],
      "text/plain": [
       "<IPython.core.display.HTML object>"
      ]
     },
     "metadata": {},
     "output_type": "display_data"
    },
    {
     "name": "stdout",
     "output_type": "stream",
     "text": [
      "\tQuerying PM event timestamps for system: QPS, className: DQAMCNMB_PMSTD, source: * from 2017-12-04 07:34:27.280 to 2017-12-04 07:43:37.280\n"
     ]
    },
    {
     "data": {
      "text/html": [
       "<text style=color:blue>Executing RB.A56 query function find_source_timestamp_ee: 1/45.</text>"
      ],
      "text/plain": [
       "<IPython.core.display.HTML object>"
      ]
     },
     "metadata": {},
     "output_type": "display_data"
    },
    {
     "name": "stdout",
     "output_type": "stream",
     "text": [
      "\tQuerying PM event timestamps for system: QPS, className: DQAMSNRB, source: UA63.RB.A56 from 2017-12-04 07:35:07.280 to 2017-12-04 07:51:57.280\n"
     ]
    },
    {
     "data": {
      "text/html": [
       "<text style=color:blue>Executing RB.A56 query function query_ee_u_dump_res_pm: 2/45.</text>"
      ],
      "text/plain": [
       "<IPython.core.display.HTML object>"
      ]
     },
     "metadata": {},
     "output_type": "display_data"
    },
    {
     "name": "stdout",
     "output_type": "stream",
     "text": [
      "\tQuerying PM event signal(s) UA63.RB.A56:U_DUMP_RES for system: QPS, className: DQAMSNRB, source: UA63.RB.A56 at 2017-12-04 07:35:17.825\n"
     ]
    },
    {
     "data": {
      "text/html": [
       "<text style=color:blue>Executing RB.A56 query function find_source_timestamp_ee: 3/45.</text>"
      ],
      "text/plain": [
       "<IPython.core.display.HTML object>"
      ]
     },
     "metadata": {},
     "output_type": "display_data"
    },
    {
     "name": "stdout",
     "output_type": "stream",
     "text": [
      "\tQuerying PM event timestamps for system: QPS, className: DQAMSNRB, source: RR57.RB.A56 from 2017-12-04 07:35:07.280 to 2017-12-04 07:51:57.280\n"
     ]
    },
    {
     "data": {
      "text/html": [
       "<text style=color:blue>Executing RB.A56 query function query_ee_u_dump_res_pm: 4/45.</text>"
      ],
      "text/plain": [
       "<IPython.core.display.HTML object>"
      ]
     },
     "metadata": {},
     "output_type": "display_data"
    },
    {
     "name": "stdout",
     "output_type": "stream",
     "text": [
      "\tQuerying PM event signal(s) RR57.RB.A56:U_DUMP_RES for system: QPS, className: DQAMSNRB, source: RR57.RB.A56 at 2017-12-04 07:35:17.583\n"
     ]
    },
    {
     "data": {
      "text/html": [
       "<text style=color:blue>Executing RB.A56 query function find_timestamp_pic: 5/45.</text>"
      ],
      "text/plain": [
       "<IPython.core.display.HTML object>"
      ]
     },
     "metadata": {},
     "output_type": "display_data"
    },
    {
     "name": "stdout",
     "output_type": "stream",
     "text": [
      "\tQuerying NXCALS signal(s) RB.A56.ODD:ST_ABORT_PIC, RB.A56.EVEN:ST_ABORT_PIC from 2017-12-04 07:35:16.280 to 2017-12-04 07:36:17.280\n"
     ]
    },
    {
     "data": {
      "text/html": [
       "<text style=color:blue>Executing RB.A56 query function find_source_timestamp_qds: 6/45.</text>"
      ],
      "text/plain": [
       "<IPython.core.display.HTML object>"
      ]
     },
     "metadata": {},
     "output_type": "display_data"
    },
    {
     "name": "stdout",
     "output_type": "stream",
     "text": [
      "\tQuerying PM event timestamps for system: QPS, className: DQAMCNMB_PMSTD, source: * from 2017-12-04 07:34:27.280 to 2017-12-04 07:43:37.280\n"
     ]
    },
    {
     "data": {
      "text/html": [
       "<text style=color:blue>Executing RB.A56 query function find_source_timestamp_ee: 1/45.</text>"
      ],
      "text/plain": [
       "<IPython.core.display.HTML object>"
      ]
     },
     "metadata": {},
     "output_type": "display_data"
    },
    {
     "name": "stdout",
     "output_type": "stream",
     "text": [
      "\tQuerying PM event timestamps for system: QPS, className: DQAMSNRB, source: UA63.RB.A56 from 2017-12-04 07:35:07.280 to 2017-12-04 07:51:57.280\n"
     ]
    },
    {
     "data": {
      "text/html": [
       "<text style=color:blue>Executing RB.A56 query function query_ee_u_dump_res_pm: 2/45.</text>"
      ],
      "text/plain": [
       "<IPython.core.display.HTML object>"
      ]
     },
     "metadata": {},
     "output_type": "display_data"
    },
    {
     "name": "stdout",
     "output_type": "stream",
     "text": [
      "\tQuerying PM event signal(s) UA63.RB.A56:U_DUMP_RES for system: QPS, className: DQAMSNRB, source: UA63.RB.A56 at 2017-12-04 07:35:17.825\n"
     ]
    },
    {
     "data": {
      "text/html": [
       "<text style=color:blue>Executing RB.A56 query function find_source_timestamp_ee: 3/45.</text>"
      ],
      "text/plain": [
       "<IPython.core.display.HTML object>"
      ]
     },
     "metadata": {},
     "output_type": "display_data"
    },
    {
     "name": "stdout",
     "output_type": "stream",
     "text": [
      "\tQuerying PM event timestamps for system: QPS, className: DQAMSNRB, source: RR57.RB.A56 from 2017-12-04 07:35:07.280 to 2017-12-04 07:51:57.280\n"
     ]
    },
    {
     "data": {
      "text/html": [
       "<text style=color:blue>Executing RB.A56 query function query_ee_u_dump_res_pm: 4/45.</text>"
      ],
      "text/plain": [
       "<IPython.core.display.HTML object>"
      ]
     },
     "metadata": {},
     "output_type": "display_data"
    },
    {
     "name": "stdout",
     "output_type": "stream",
     "text": [
      "\tQuerying PM event signal(s) RR57.RB.A56:U_DUMP_RES for system: QPS, className: DQAMSNRB, source: RR57.RB.A56 at 2017-12-04 07:35:17.583\n"
     ]
    },
    {
     "data": {
      "text/html": [
       "<text style=color:blue>Executing RB.A56 query function find_timestamp_pic: 5/45.</text>"
      ],
      "text/plain": [
       "<IPython.core.display.HTML object>"
      ]
     },
     "metadata": {},
     "output_type": "display_data"
    },
    {
     "name": "stdout",
     "output_type": "stream",
     "text": [
      "\tQuerying NXCALS signal(s) RB.A56.ODD:ST_ABORT_PIC, RB.A56.EVEN:ST_ABORT_PIC from 2017-12-04 07:35:16.280 to 2017-12-04 07:36:17.280\n"
     ]
    },
    {
     "data": {
      "text/html": [
       "<text style=color:blue>Executing RB.A56 query function find_source_timestamp_qds: 6/45.</text>"
      ],
      "text/plain": [
       "<IPython.core.display.HTML object>"
      ]
     },
     "metadata": {},
     "output_type": "display_data"
    },
    {
     "name": "stdout",
     "output_type": "stream",
     "text": [
      "\tQuerying PM event timestamps for system: QPS, className: DQAMCNMB_PMSTD, source: * from 2017-12-04 07:34:27.280 to 2017-12-04 07:43:37.280\n",
      "16\n"
     ]
    }
   ],
   "source": [
    "k=0\n",
    "for index, row in mp3_fpa_df_to_download.iterrows():\n",
    "    try:\n",
    "        loc_mask = (mp3_fpa_df.timestamp_fgc == row['timestamp_fgc']) & (mp3_fpa_df[\"Circuit Name\"] == row['Circuit Name'])\n",
    "\n",
    "        rb_query = RbCircuitQuery(row['Circuit Family'], row['Circuit Name'], max_executions=45)\n",
    "\n",
    "        source_timestamp_ee_even_df = rb_query.find_source_timestamp_ee(int(row['timestamp_fgc']), system='EE_EVEN')\n",
    "        timestamp_ee_even = source_timestamp_ee_even_df.timestamp[0]\n",
    "        u_dump_res_even_df = rb_query.query_ee_u_dump_res_pm(timestamp_ee_even, int(row['timestamp_fgc']), system='EE_EVEN',\n",
    "                                            signal_names=['U_DUMP_RES'])\n",
    "\n",
    "        source_timestamp_ee_odd_df = rb_query.find_source_timestamp_ee(int(row['timestamp_fgc']), system='EE_ODD')\n",
    "        timestamp_ee_odd = source_timestamp_ee_odd_df.timestamp[0]\n",
    "        u_dump_res_odd_df = rb_query.query_ee_u_dump_res_pm(timestamp_ee_odd, int(row['timestamp_fgc']), system='EE_ODD',\n",
    "                                            signal_names=['U_DUMP_RES'])\n",
    "\n",
    "        timestamp_pic = rb_query.find_timestamp_pic(int(row['timestamp_fgc']), spark=spark)\n",
    "\n",
    "        source_timestamp_qds_df = rb_query.find_source_timestamp_qds(int(row['timestamp_fgc']), duration=[(50, 's'), (500, 's')])\n",
    "        timestamp_iQps = source_timestamp_qds_df.timestamp[0]\n",
    "\n",
    "        # sometimes values are missing in the end\n",
    "        ts_iQPS_PIC = 1e-6 * (source_timestamp_qds_df['timestamp'].values - min(timestamp_pic))\n",
    "        mp3_fpa_df.loc[loc_mask, 'Delta_t(iQPS-PIC)'] = np.append(ts_iQPS_PIC, np.max(ts_iQPS_PIC)*np.ones(sum(loc_mask)-len(ts_iQPS_PIC)))\n",
    "\n",
    "        mp3_fpa_df.loc[loc_mask, 'Delta_t(EE_odd-PIC)'] = (timestamp_ee_odd - min(timestamp_pic)) / 1e6\n",
    "        mp3_fpa_df.loc[loc_mask, 'Delta_t(EE_even-PIC)'] = (timestamp_ee_even - min(timestamp_pic)) / 1e6\n",
    "        mp3_fpa_df.loc[loc_mask, 'U_EE_max_ODD'] = u_dump_res_odd_df.max()[0]\n",
    "        mp3_fpa_df.loc[loc_mask, 'U_EE_max_EVEN'] = u_dump_res_even_df.max()[0]\n",
    "    except:\n",
    "        k+=1\n",
    "print(k)"
   ]
  },
  {
   "cell_type": "markdown",
   "id": "e86ac4d9",
   "metadata": {
    "pycharm": {
     "name": "#%% md\n"
    }
   },
   "source": [
    "# Add features by calculation"
   ]
  },
  {
   "cell_type": "code",
   "execution_count": 11,
   "id": "15684b63",
   "metadata": {
    "pycharm": {
     "name": "#%%\n"
    }
   },
   "outputs": [
    {
     "name": "stdout",
     "output_type": "stream",
     "text": [
      "4006\n"
     ]
    }
   ],
   "source": [
    "mp3_fpa_df = pd.read_csv(f\"../data/RB_TC_extract_{date_suffix}_processed_filled.csv\")\n",
    "print(len(mp3_fpa_df))"
   ]
  },
  {
   "cell_type": "code",
   "execution_count": 12,
   "id": "b6641645",
   "metadata": {
    "pycharm": {
     "name": "#%%\n"
    }
   },
   "outputs": [
    {
     "ename": "NameError",
     "evalue": "name 'Time' is not defined",
     "output_type": "error",
     "traceback": [
      "\u001b[0;31m---------------------------------------------------------------------------\u001b[0m",
      "\u001b[0;31mNameError\u001b[0m                                 Traceback (most recent call last)",
      "\u001b[0;32m/tmp/ipykernel_678/123325768.py\u001b[0m in \u001b[0;36m<module>\u001b[0;34m\u001b[0m\n\u001b[1;32m      8\u001b[0m \u001b[0mmp3_fpa_df_unique\u001b[0m \u001b[0;34m=\u001b[0m \u001b[0mmp3_fpa_df\u001b[0m\u001b[0;34m.\u001b[0m\u001b[0mdrop_duplicates\u001b[0m\u001b[0;34m(\u001b[0m\u001b[0msubset\u001b[0m\u001b[0;34m=\u001b[0m\u001b[0;34m[\u001b[0m\u001b[0;34m'timestamp_fgc'\u001b[0m\u001b[0;34m,\u001b[0m \u001b[0;34m'Circuit Name'\u001b[0m\u001b[0;34m]\u001b[0m\u001b[0;34m)\u001b[0m\u001b[0;34m\u001b[0m\u001b[0;34m\u001b[0m\u001b[0m\n\u001b[1;32m      9\u001b[0m \u001b[0;31m# Time.to_string(1514761200000000000), Time.to_unix_timestamp('2018-01-01 00:00:00+01:00')\u001b[0m\u001b[0;34m\u001b[0m\u001b[0;34m\u001b[0m\u001b[0m\n\u001b[0;32m---> 10\u001b[0;31m \u001b[0mlower_limit\u001b[0m \u001b[0;34m=\u001b[0m \u001b[0mTime\u001b[0m\u001b[0;34m.\u001b[0m\u001b[0mto_unix_timestamp\u001b[0m\u001b[0;34m(\u001b[0m\u001b[0;34m'2014-01-01 00:00:00+01:00'\u001b[0m\u001b[0;34m)\u001b[0m\u001b[0;34m\u001b[0m\u001b[0;34m\u001b[0m\u001b[0m\n\u001b[0m\u001b[1;32m     11\u001b[0m \u001b[0mmp3_fpa_df_period\u001b[0m \u001b[0;34m=\u001b[0m \u001b[0mmp3_fpa_df_unique\u001b[0m\u001b[0;34m[\u001b[0m\u001b[0mmp3_fpa_df_unique\u001b[0m\u001b[0;34m[\u001b[0m\u001b[0;34m'timestamp_fgc'\u001b[0m\u001b[0;34m]\u001b[0m \u001b[0;34m>=\u001b[0m \u001b[0mlower_limit\u001b[0m\u001b[0;34m]\u001b[0m\u001b[0;34m.\u001b[0m\u001b[0mreset_index\u001b[0m\u001b[0;34m(\u001b[0m\u001b[0mdrop\u001b[0m\u001b[0;34m=\u001b[0m\u001b[0;32mTrue\u001b[0m\u001b[0;34m)\u001b[0m\u001b[0;34m\u001b[0m\u001b[0;34m\u001b[0m\u001b[0m\n\u001b[1;32m     12\u001b[0m \u001b[0mmp3_fpa_df_period_all\u001b[0m \u001b[0;34m=\u001b[0m \u001b[0mmp3_fpa_df\u001b[0m\u001b[0;34m[\u001b[0m\u001b[0mmp3_fpa_df\u001b[0m\u001b[0;34m[\u001b[0m\u001b[0;34m'timestamp_fgc'\u001b[0m\u001b[0;34m]\u001b[0m \u001b[0;34m>=\u001b[0m \u001b[0mlower_limit\u001b[0m\u001b[0;34m]\u001b[0m\u001b[0;34m.\u001b[0m\u001b[0mreset_index\u001b[0m\u001b[0;34m(\u001b[0m\u001b[0mdrop\u001b[0m\u001b[0;34m=\u001b[0m\u001b[0;32mTrue\u001b[0m\u001b[0;34m)\u001b[0m\u001b[0;34m\u001b[0m\u001b[0;34m\u001b[0m\u001b[0m\n",
      "\u001b[0;31mNameError\u001b[0m: name 'Time' is not defined"
     ]
    }
   ],
   "source": [
    "#fpa_identifier\n",
    "mp3_fpa_df.loc[mp3_fpa_df['timestamp_fgc'].dropna().index, \"fpa_identifier\"] = [f\"{row['Circuit Family']}_{row['Circuit Name']}_{int(row['timestamp_fgc'])}\" for i, row in mp3_fpa_df.loc[mp3_fpa_df['timestamp_fgc'].dropna().index].iterrows()]\n",
    "\n",
    "#drop duplicated entries:\n",
    "mp3_fpa_df = mp3_fpa_df.drop_duplicates(subset=['fpa_identifier', 'Position'])\n",
    "\n",
    "#find subsets\n",
    "mp3_fpa_df_unique = mp3_fpa_df.drop_duplicates(subset=['timestamp_fgc', 'Circuit Name'])\n",
    "# Time.to_string(1514761200000000000), Time.to_unix_timestamp('2018-01-01 00:00:00+01:00')\n",
    "lower_limit = Time.to_unix_timestamp('2014-01-01 00:00:00+01:00')\n",
    "mp3_fpa_df_period = mp3_fpa_df_unique[mp3_fpa_df_unique['timestamp_fgc'] >= lower_limit].reset_index(drop=True) \n",
    "mp3_fpa_df_period_all = mp3_fpa_df[mp3_fpa_df['timestamp_fgc'] >= lower_limit].reset_index(drop=True) \n",
    "\n",
    "# find data which does not contain quench timestamps\n",
    "failed_mask = pd.to_numeric(mp3_fpa_df_period_all['Delta_t(EE_odd-PIC)'], errors='coerce').isnull() | \\\n",
    "                pd.to_numeric(mp3_fpa_df_period_all['Delta_t(EE_even-PIC)'], errors='coerce').isnull()\n",
    "mp3_fpa_df_to_analyze = mp3_fpa_df_period_all[~failed_mask]\n",
    "print(sum(failed_mask))"
   ]
  },
  {
   "cell_type": "code",
   "execution_count": 49,
   "id": "72fce13d",
   "metadata": {
    "pycharm": {
     "name": "#%%\n"
    },
    "scrolled": true
   },
   "outputs": [],
   "source": [
    "# add features for simulation\n",
    "mp3_fpa_df_new = mp3_fpa_df_to_analyze.copy()\n",
    "for i, row in mp3_fpa_df_to_analyze.iterrows():\n",
    "    mask = mp3_fpa_df_new.fpa_identifier == row[\"fpa_identifier\"]\n",
    "    mp3_fpa_df_subset = mp3_fpa_df_period_all[mask]\n",
    "    mp3_fpa_df_new.loc[mask, \"R_EE_odd\"] = float(mp3_fpa_df_subset['U_EE_max_ODD'].values[0]) / float(mp3_fpa_df_subset['I_Q_M'].max())\n",
    "    mp3_fpa_df_new.loc[mask, \"R_EE_even\"] = float(mp3_fpa_df_subset['U_EE_max_EVEN'].values[0]) / float(mp3_fpa_df_subset['I_Q_M'].max())\n",
    "    mp3_fpa_df_new.loc[mask, \"t_EE_odd\"] = float(mp3_fpa_df_subset['Delta_t(EE_odd-PIC)'].values[0]) / 1000\n",
    "    mp3_fpa_df_new.loc[mask, \"t_EE_even\"] = float(mp3_fpa_df_subset['Delta_t(EE_even-PIC)'].values[0]) / 1000\n",
    "    mp3_fpa_df_new.loc[mask, \"I_end_2_from_data\"] = mp3_fpa_df_subset['I_Q_M'].max()"
   ]
  },
  {
   "cell_type": "code",
   "execution_count": 28,
   "id": "81ccdcbd",
   "metadata": {
    "pycharm": {
     "name": "#%%\n"
    }
   },
   "outputs": [],
   "source": [
    "#mp3_fpa_df_new.to_csv(f\"../data/RB_TC_extract_{date_suffix}_processed_filled.csv\",index=False)"
   ]
  },
  {
   "cell_type": "markdown",
   "id": "d8dbb3e7",
   "metadata": {
    "pycharm": {
     "name": "#%% md\n"
    }
   },
   "source": [
    "# Add features from downloaded data"
   ]
  },
  {
   "cell_type": "code",
   "execution_count": 5,
   "id": "7e111b78",
   "metadata": {
    "pycharm": {
     "name": "#%%\n"
    }
   },
   "outputs": [
    {
     "name": "stdout",
     "output_type": "stream",
     "text": [
      "3981\n"
     ]
    }
   ],
   "source": [
    "mp3_fpa_df = pd.read_csv(f\"../data/RB_TC_extract_{date_suffix}_processed_filled.csv\")\n",
    "print(len(mp3_fpa_df))"
   ]
  },
  {
   "cell_type": "code",
   "execution_count": 98,
   "id": "577135c8",
   "metadata": {
    "pycharm": {
     "name": "#%%\n"
    }
   },
   "outputs": [],
   "source": [
    "file_path  = Path('/eos/project/m/ml-for-alarm-system/private/RB_signals')\n",
    "data_path = file_path / '20220707_data'"
   ]
  },
  {
   "cell_type": "code",
   "execution_count": 108,
   "id": "bb5309ec",
   "metadata": {
    "pycharm": {
     "name": "#%%\n"
    },
    "scrolled": true
   },
   "outputs": [
    {
     "name": "stdout",
     "output_type": "stream",
     "text": [
      "0/828\n",
      "1/828\n",
      "2/828\n",
      "3/828\n",
      "4/828\n",
      "5/828\n",
      "6/828\n",
      "7/828\n",
      "8/828\n",
      "9/828\n",
      "10/828\n",
      "11/828\n",
      "12/828\n",
      "13/828\n",
      "14/828\n",
      "15/828\n",
      "16/828\n",
      "17/828\n",
      "18/828\n",
      "19/828\n",
      "20/828\n",
      "21/828\n",
      "22/828\n",
      "23/828\n",
      "24/828\n",
      "25/828\n",
      "26/828\n",
      "27/828\n",
      "28/828\n",
      "29/828\n",
      "30/828\n",
      "31/828\n",
      "32/828\n",
      "33/828\n",
      "34/828\n",
      "35/828\n",
      "36/828\n",
      "37/828\n",
      "38/828\n",
      "39/828\n",
      "40/828\n",
      "41/828\n",
      "42/828\n",
      "43/828\n",
      "44/828\n",
      "45/828\n",
      "46/828\n",
      "47/828\n",
      "48/828\n",
      "49/828\n",
      "50/828\n",
      "51/828\n",
      "52/828\n",
      "53/828\n",
      "54/828\n",
      "55/828\n",
      "56/828\n",
      "57/828\n",
      "58/828\n",
      "59/828\n",
      "60/828\n",
      "61/828\n",
      "62/828\n",
      "63/828\n",
      "64/828\n",
      "65/828\n",
      "66/828\n",
      "67/828\n",
      "68/828\n",
      "69/828\n",
      "70/828\n",
      "71/828\n",
      "72/828\n",
      "73/828\n",
      "74/828\n",
      "75/828\n",
      "76/828\n",
      "77/828\n",
      "78/828\n",
      "79/828\n",
      "80/828\n",
      "81/828\n",
      "82/828\n",
      "83/828\n",
      "84/828\n",
      "85/828\n",
      "86/828\n",
      "87/828\n",
      "88/828\n",
      "89/828\n",
      "90/828\n",
      "91/828\n",
      "92/828\n",
      "93/828\n",
      "94/828\n",
      "95/828\n",
      "96/828\n",
      "97/828\n",
      "98/828\n",
      "99/828\n",
      "100/828\n",
      "101/828\n",
      "102/828\n",
      "103/828\n",
      "104/828\n",
      "105/828\n",
      "106/828\n",
      "107/828\n",
      "108/828\n",
      "109/828\n",
      "110/828\n",
      "111/828\n",
      "112/828\n",
      "113/828\n",
      "114/828\n",
      "115/828\n",
      "116/828\n",
      "117/828\n",
      "118/828\n",
      "119/828\n",
      "120/828\n",
      "121/828\n",
      "122/828\n",
      "123/828\n",
      "124/828\n",
      "125/828\n",
      "126/828\n",
      "127/828\n",
      "128/828\n",
      "129/828\n",
      "130/828\n",
      "131/828\n",
      "132/828\n",
      "133/828\n",
      "134/828\n",
      "135/828\n",
      "136/828\n",
      "137/828\n",
      "138/828\n",
      "139/828\n",
      "140/828\n",
      "141/828\n",
      "142/828\n",
      "143/828\n",
      "144/828\n",
      "145/828\n",
      "146/828\n",
      "147/828\n",
      "148/828\n",
      "149/828\n",
      "150/828\n",
      "151/828\n",
      "152/828\n",
      "153/828\n",
      "154/828\n",
      "155/828\n",
      "156/828\n",
      "157/828\n",
      "158/828\n",
      "159/828\n",
      "160/828\n",
      "161/828\n",
      "162/828\n",
      "163/828\n",
      "164/828\n",
      "165/828\n",
      "166/828\n",
      "167/828\n",
      "168/828\n",
      "169/828\n",
      "170/828\n",
      "171/828\n",
      "172/828\n",
      "173/828\n",
      "174/828\n",
      "175/828\n",
      "176/828\n",
      "177/828\n",
      "178/828\n",
      "179/828\n",
      "180/828\n",
      "181/828\n",
      "182/828\n",
      "183/828\n",
      "184/828\n",
      "185/828\n",
      "186/828\n",
      "187/828\n",
      "188/828\n",
      "189/828\n",
      "190/828\n",
      "191/828\n",
      "192/828\n",
      "193/828\n",
      "194/828\n",
      "195/828\n",
      "196/828\n",
      "197/828\n",
      "198/828\n",
      "199/828\n",
      "200/828\n",
      "201/828\n",
      "202/828\n",
      "203/828\n",
      "204/828\n",
      "205/828\n",
      "206/828\n",
      "207/828\n",
      "208/828\n",
      "209/828\n",
      "210/828\n",
      "211/828\n",
      "212/828\n",
      "213/828\n",
      "214/828\n",
      "215/828\n",
      "216/828\n",
      "217/828\n",
      "218/828\n",
      "219/828\n",
      "220/828\n",
      "221/828\n",
      "222/828\n",
      "223/828\n",
      "224/828\n",
      "225/828\n",
      "226/828\n",
      "227/828\n",
      "228/828\n",
      "229/828\n",
      "230/828\n",
      "231/828\n",
      "232/828\n",
      "233/828\n",
      "234/828\n",
      "235/828\n",
      "236/828\n",
      "237/828\n",
      "238/828\n",
      "239/828\n",
      "240/828\n",
      "241/828\n",
      "242/828\n",
      "243/828\n",
      "244/828\n",
      "245/828\n",
      "246/828\n",
      "247/828\n",
      "248/828\n",
      "249/828\n",
      "250/828\n",
      "251/828\n",
      "252/828\n",
      "253/828\n",
      "254/828\n",
      "255/828\n",
      "256/828\n",
      "257/828\n",
      "258/828\n",
      "259/828\n",
      "260/828\n",
      "261/828\n",
      "262/828\n",
      "263/828\n",
      "264/828\n",
      "265/828\n",
      "266/828\n",
      "267/828\n",
      "268/828\n",
      "269/828\n",
      "270/828\n",
      "271/828\n",
      "272/828\n",
      "273/828\n",
      "274/828\n",
      "275/828\n",
      "276/828\n",
      "277/828\n",
      "278/828\n",
      "279/828\n",
      "280/828\n",
      "281/828\n",
      "282/828\n",
      "283/828\n",
      "284/828\n",
      "285/828\n",
      "286/828\n",
      "287/828\n",
      "288/828\n",
      "289/828\n",
      "290/828\n",
      "291/828\n",
      "292/828\n",
      "293/828\n",
      "294/828\n",
      "295/828\n",
      "296/828\n",
      "297/828\n",
      "298/828\n",
      "299/828\n",
      "300/828\n",
      "301/828\n",
      "302/828\n",
      "303/828\n",
      "304/828\n",
      "305/828\n",
      "306/828\n",
      "307/828\n",
      "308/828\n",
      "309/828\n",
      "310/828\n",
      "311/828\n",
      "312/828\n",
      "313/828\n",
      "314/828\n",
      "315/828\n",
      "316/828\n",
      "317/828\n",
      "318/828\n",
      "319/828\n",
      "320/828\n",
      "321/828\n",
      "322/828\n",
      "323/828\n",
      "324/828\n",
      "325/828\n",
      "326/828\n",
      "327/828\n",
      "328/828\n",
      "329/828\n",
      "330/828\n",
      "331/828\n",
      "332/828\n",
      "333/828\n",
      "334/828\n",
      "335/828\n",
      "336/828\n",
      "337/828\n",
      "338/828\n",
      "339/828\n",
      "340/828\n",
      "341/828\n",
      "342/828\n",
      "343/828\n",
      "344/828\n",
      "345/828\n",
      "346/828\n",
      "347/828\n",
      "348/828\n",
      "349/828\n",
      "350/828\n",
      "351/828\n",
      "352/828\n",
      "353/828\n",
      "354/828\n",
      "355/828\n",
      "356/828\n",
      "357/828\n",
      "358/828\n",
      "359/828\n",
      "360/828\n",
      "361/828\n",
      "362/828\n",
      "363/828\n",
      "364/828\n",
      "365/828\n",
      "366/828\n",
      "367/828\n",
      "368/828\n",
      "369/828\n",
      "370/828\n",
      "371/828\n",
      "372/828\n",
      "373/828\n",
      "374/828\n",
      "375/828\n",
      "376/828\n",
      "377/828\n",
      "378/828\n",
      "379/828\n",
      "380/828\n",
      "381/828\n",
      "382/828\n",
      "383/828\n",
      "384/828\n",
      "385/828\n",
      "386/828\n",
      "387/828\n",
      "388/828\n",
      "389/828\n",
      "390/828\n",
      "391/828\n",
      "392/828\n",
      "393/828\n",
      "394/828\n",
      "395/828\n",
      "396/828\n",
      "397/828\n",
      "398/828\n",
      "399/828\n",
      "400/828\n",
      "401/828\n",
      "402/828\n",
      "403/828\n",
      "404/828\n",
      "405/828\n",
      "406/828\n",
      "407/828\n",
      "408/828\n",
      "409/828\n",
      "410/828\n",
      "411/828\n",
      "412/828\n",
      "413/828\n",
      "414/828\n",
      "415/828\n",
      "416/828\n",
      "417/828\n",
      "418/828\n",
      "419/828\n",
      "420/828\n",
      "421/828\n",
      "422/828\n",
      "423/828\n",
      "424/828\n",
      "425/828\n",
      "426/828\n",
      "427/828\n",
      "428/828\n",
      "429/828\n",
      "430/828\n",
      "431/828\n",
      "432/828\n",
      "433/828\n",
      "434/828\n",
      "435/828\n",
      "436/828\n",
      "437/828\n",
      "438/828\n",
      "439/828\n",
      "440/828\n",
      "441/828\n",
      "442/828\n",
      "443/828\n",
      "444/828\n",
      "445/828\n",
      "446/828\n",
      "447/828\n",
      "448/828\n",
      "449/828\n",
      "450/828\n",
      "451/828\n",
      "452/828\n",
      "453/828\n",
      "454/828\n",
      "455/828\n",
      "456/828\n",
      "457/828\n",
      "458/828\n",
      "459/828\n",
      "460/828\n",
      "461/828\n",
      "462/828\n",
      "463/828\n",
      "464/828\n",
      "465/828\n",
      "466/828\n",
      "467/828\n",
      "468/828\n",
      "469/828\n",
      "470/828\n",
      "471/828\n",
      "472/828\n",
      "473/828\n",
      "474/828\n",
      "475/828\n",
      "476/828\n",
      "477/828\n",
      "478/828\n",
      "479/828\n",
      "480/828\n",
      "481/828\n",
      "482/828\n",
      "483/828\n",
      "484/828\n",
      "485/828\n",
      "486/828\n",
      "487/828\n",
      "488/828\n",
      "489/828\n",
      "490/828\n",
      "491/828\n",
      "492/828\n",
      "493/828\n",
      "494/828\n",
      "495/828\n",
      "496/828\n",
      "497/828\n",
      "498/828\n",
      "499/828\n",
      "500/828\n",
      "501/828\n",
      "502/828\n",
      "503/828\n",
      "504/828\n",
      "505/828\n",
      "506/828\n",
      "507/828\n",
      "508/828\n",
      "509/828\n",
      "510/828\n",
      "511/828\n",
      "512/828\n",
      "513/828\n",
      "514/828\n",
      "515/828\n",
      "516/828\n",
      "517/828\n",
      "518/828\n",
      "519/828\n",
      "520/828\n",
      "521/828\n",
      "522/828\n",
      "523/828\n",
      "524/828\n",
      "525/828\n",
      "526/828\n",
      "527/828\n",
      "528/828\n",
      "529/828\n",
      "530/828\n",
      "531/828\n",
      "532/828\n",
      "533/828\n",
      "534/828\n",
      "535/828\n",
      "536/828\n",
      "537/828\n",
      "538/828\n",
      "539/828\n",
      "540/828\n",
      "541/828\n",
      "542/828\n",
      "543/828\n",
      "544/828\n",
      "545/828\n",
      "546/828\n",
      "547/828\n",
      "548/828\n",
      "549/828\n",
      "550/828\n",
      "551/828\n",
      "552/828\n",
      "553/828\n",
      "554/828\n",
      "555/828\n",
      "556/828\n",
      "557/828\n",
      "558/828\n",
      "559/828\n",
      "560/828\n",
      "561/828\n",
      "562/828\n",
      "563/828\n",
      "564/828\n",
      "565/828\n",
      "566/828\n",
      "567/828\n",
      "568/828\n",
      "569/828\n",
      "570/828\n",
      "571/828\n",
      "572/828\n",
      "573/828\n",
      "574/828\n",
      "575/828\n",
      "576/828\n",
      "577/828\n",
      "578/828\n",
      "579/828\n",
      "580/828\n",
      "581/828\n",
      "582/828\n",
      "583/828\n",
      "584/828\n",
      "585/828\n",
      "586/828\n",
      "587/828\n",
      "588/828\n",
      "589/828\n",
      "590/828\n",
      "591/828\n",
      "592/828\n",
      "593/828\n",
      "594/828\n",
      "595/828\n",
      "596/828\n",
      "597/828\n",
      "598/828\n",
      "599/828\n",
      "600/828\n",
      "601/828\n",
      "602/828\n",
      "603/828\n",
      "604/828\n",
      "605/828\n",
      "606/828\n",
      "607/828\n",
      "608/828\n",
      "609/828\n",
      "610/828\n",
      "611/828\n",
      "612/828\n",
      "613/828\n",
      "614/828\n",
      "615/828\n",
      "616/828\n",
      "617/828\n",
      "618/828\n",
      "619/828\n",
      "620/828\n",
      "621/828\n",
      "622/828\n",
      "623/828\n",
      "624/828\n",
      "625/828\n",
      "626/828\n",
      "627/828\n",
      "628/828\n",
      "629/828\n",
      "630/828\n",
      "631/828\n",
      "632/828\n",
      "633/828\n",
      "634/828\n",
      "635/828\n",
      "636/828\n",
      "637/828\n",
      "638/828\n",
      "639/828\n",
      "640/828\n",
      "641/828\n",
      "642/828\n",
      "643/828\n",
      "644/828\n",
      "645/828\n",
      "646/828\n",
      "647/828\n",
      "648/828\n",
      "649/828\n",
      "650/828\n",
      "651/828\n",
      "652/828\n",
      "653/828\n",
      "654/828\n",
      "655/828\n",
      "656/828\n",
      "657/828\n",
      "658/828\n",
      "659/828\n",
      "660/828\n",
      "661/828\n",
      "662/828\n",
      "663/828\n",
      "664/828\n",
      "665/828\n",
      "666/828\n",
      "667/828\n",
      "668/828\n",
      "669/828\n",
      "670/828\n",
      "671/828\n",
      "672/828\n",
      "673/828\n",
      "674/828\n",
      "675/828\n",
      "676/828\n",
      "677/828\n",
      "678/828\n",
      "679/828\n",
      "680/828\n",
      "681/828\n",
      "682/828\n",
      "683/828\n",
      "684/828\n",
      "685/828\n",
      "686/828\n",
      "687/828\n",
      "688/828\n",
      "689/828\n",
      "690/828\n",
      "691/828\n",
      "692/828\n",
      "693/828\n",
      "694/828\n",
      "695/828\n",
      "696/828\n",
      "697/828\n",
      "698/828\n",
      "699/828\n",
      "700/828\n",
      "701/828\n",
      "702/828\n",
      "703/828\n",
      "704/828\n",
      "705/828\n",
      "706/828\n",
      "707/828\n",
      "708/828\n",
      "709/828\n",
      "710/828\n",
      "711/828\n",
      "712/828\n",
      "713/828\n",
      "714/828\n",
      "715/828\n",
      "716/828\n",
      "717/828\n",
      "718/828\n",
      "719/828\n",
      "720/828\n",
      "721/828\n",
      "722/828\n",
      "723/828\n",
      "724/828\n",
      "725/828\n",
      "726/828\n",
      "727/828\n",
      "728/828\n",
      "729/828\n",
      "730/828\n",
      "731/828\n",
      "732/828\n",
      "733/828\n",
      "734/828\n",
      "735/828\n",
      "736/828\n",
      "737/828\n",
      "738/828\n",
      "739/828\n",
      "740/828\n",
      "741/828\n",
      "742/828\n",
      "743/828\n",
      "744/828\n",
      "745/828\n",
      "746/828\n",
      "747/828\n",
      "748/828\n",
      "749/828\n",
      "750/828\n",
      "751/828\n",
      "752/828\n",
      "753/828\n",
      "754/828\n",
      "755/828\n",
      "756/828\n",
      "757/828\n",
      "758/828\n",
      "759/828\n",
      "760/828\n",
      "761/828\n",
      "762/828\n",
      "763/828\n",
      "764/828\n",
      "765/828\n",
      "766/828\n",
      "767/828\n",
      "768/828\n",
      "769/828\n",
      "770/828\n",
      "771/828\n",
      "772/828\n",
      "773/828\n",
      "774/828\n",
      "775/828\n",
      "776/828\n",
      "777/828\n",
      "778/828\n",
      "779/828\n",
      "780/828\n",
      "781/828\n",
      "782/828\n",
      "783/828\n",
      "784/828\n",
      "785/828\n",
      "786/828\n",
      "787/828\n",
      "788/828\n",
      "789/828\n",
      "790/828\n",
      "791/828\n",
      "792/828\n",
      "793/828\n",
      "794/828\n",
      "795/828\n",
      "796/828\n",
      "797/828\n",
      "798/828\n",
      "799/828\n",
      "800/828\n",
      "801/828\n",
      "802/828\n",
      "803/828\n",
      "804/828\n",
      "805/828\n",
      "806/828\n",
      "807/828\n",
      "808/828\n",
      "809/828\n",
      "810/828\n",
      "811/828\n",
      "812/828\n",
      "813/828\n",
      "814/828\n",
      "815/828\n",
      "816/828\n",
      "817/828\n",
      "818/828\n",
      "819/828\n",
      "820/828\n",
      "821/828\n",
      "822/828\n",
      "823/828\n",
      "824/828\n",
      "825/828\n",
      "826/828\n",
      "827/828\n"
     ]
    }
   ],
   "source": [
    "for i, fpa_identifier in enumerate(mp3_fpa_df[\"fpa_identifier\"].unique()):\n",
    "\n",
    "    mask = mp3_fpa_df[\"fpa_identifier\"] == fpa_identifier\n",
    "    data_dir = data_path / (fpa_identifier + \".hdf5\")\n",
    "    I_MEAS = load_from_hdf_with_regex(file_path=data_dir, regex_list=[\"I_MEAS\"])[0]\n",
    "    \n",
    "    k, intercept, r, p, std_err = stats.linregress(I_MEAS.loc[-1:0].index.values, I_MEAS.loc[-1:0].values.reshape(-1))\n",
    "    mp3_fpa_df.loc[mask, \"dI_dt_from_data\"] = k #current change per second before quench\n",
    "    print(f\"{i}/{len(mp3_fpa_df['fpa_identifier'].unique())}\")"
   ]
  },
  {
   "cell_type": "code",
   "execution_count": 95,
   "id": "03a6b9cb",
   "metadata": {
    "pycharm": {
     "name": "#%%\n"
    },
    "scrolled": true
   },
   "outputs": [
    {
     "name": "stdout",
     "output_type": "stream",
     "text": [
      "8.361036199095\n"
     ]
    },
    {
     "data": {
      "image/png": "[encoded data removed]",
      "text/plain": [
       "<Figure size 432x288 with 1 Axes>"
      ]
     },
     "metadata": {
      "needs_background": "light"
     },
     "output_type": "display_data"
    }
   ],
   "source": [
    "fpa_identifier = \"RB_RB.A78_1636654131900000000\"\n",
    "mask = mp3_fpa_df[\"fpa_identifier\"] == fpa_identifier\n",
    "data_dir = data_path / (fpa_identifier + \".hdf5\")\n",
    "I_MEAS = load_from_hdf_with_regex(file_path=data_dir, regex_list=[\"I_MEAS\"])[0]\n",
    "\n",
    "k, intercept, r, p, std_err = stats.linregress(I_MEAS.loc[-1:0].index.values, I_MEAS.loc[-1:0].values.reshape(-1))\n",
    "\n",
    "x = I_MEAS.loc[-1:0].index.values\n",
    "I_MEAS.loc[-1:0].plot()\n",
    "plt.plot(x, x*k + intercept)\n",
    "print(k )"
   ]
  },
  {
   "cell_type": "code",
   "execution_count": 6,
   "id": "c0725e32",
   "metadata": {},
   "outputs": [],
   "source": [
    "mp3_fpa_df[['dU_iQPS/dt','R_DL_max',\"dI_Q_Acc\"]] = mp3_fpa_df[['dU_iQPS/dt','R_DL_max',\"dI_Q_Acc\"]].apply(pd.to_numeric, errors='coerce')"
   ]
  },
  {
   "cell_type": "code",
   "execution_count": 7,
   "id": "1c7737db",
   "metadata": {
    "pycharm": {
     "name": "#%%\n"
    }
   },
   "outputs": [],
   "source": [
    "mp3_fpa_df.to_csv(f\"../data/RB_TC_extract_{date_suffix}_processed_filled.csv\")"
   ]
  },
  {
   "cell_type": "markdown",
   "id": "a4fff894",
   "metadata": {
    "pycharm": {
     "name": "#%% md\n"
    }
   },
   "source": [
    "# Add magnet metadata"
   ]
  },
  {
   "cell_type": "code",
   "execution_count": 11,
   "id": "d8eb40e3",
   "metadata": {
    "pycharm": {
     "name": "#%%\n"
    }
   },
   "outputs": [
    {
     "name": "stdout",
     "output_type": "stream",
     "text": [
      "4859\n"
     ]
    }
   ],
   "source": [
    "mp3_fpa_df = pd.read_csv(f\"../data/MP3_context_data/20230313_RB_processed.csv\")\n",
    "mp3_fpa_df['Magnet'] = mp3_fpa_df.Position.apply(lambda x: \"MB.\" + x )\n",
    "print(len(mp3_fpa_df))"
   ]
  },
  {
   "cell_type": "code",
   "execution_count": 12,
   "id": "e67d9b7b",
   "metadata": {
    "pycharm": {
     "name": "#%%\n"
    }
   },
   "outputs": [],
   "source": [
    "metadata_path = Path(\"../data/RB_metadata.csv\")\n",
    "rb_magnet_metadata = pd.read_csv(metadata_path)"
   ]
  },
  {
   "cell_type": "code",
   "execution_count": 13,
   "id": "5a98ee9d",
   "metadata": {
    "pycharm": {
     "name": "#%%\n"
    }
   },
   "outputs": [],
   "source": [
    "for circuit in rb_magnet_metadata.Circuit.unique():\n",
    "    rb_magnet_metadata.loc[rb_magnet_metadata.Circuit==circuit,'phys_position'] = np.arange(1, 155)"
   ]
  },
  {
   "cell_type": "code",
   "execution_count": 14,
   "id": "9ccfcd60",
   "metadata": {
    "pycharm": {
     "name": "#%%\n"
    }
   },
   "outputs": [],
   "source": [
    "mp3_fpa_df_new = mp3_fpa_df.merge(rb_magnet_metadata, left_on=['Circuit Name', 'Magnet'], right_on=['Circuit', 'Magnet'], how=\"left\", suffixes=('', '_1'))"
   ]
  },
  {
   "cell_type": "code",
   "execution_count": 15,
   "id": "27348a1a",
   "metadata": {
    "pycharm": {
     "name": "#%%\n"
    }
   },
   "outputs": [],
   "source": [
    "mp3_fpa_df_new.to_csv(f\"../data/MP3_context_data/20230313_RB_processed.csv\", index=False)"
   ]
  },
  {
   "cell_type": "code",
   "execution_count": null,
   "id": "e6b0d8c6",
   "metadata": {
    "pycharm": {
     "name": "#%%\n"
    }
   },
   "outputs": [],
   "source": []
  }
 ],
 "metadata": {
  "kernelspec": {
   "display_name": "Python 3",
   "language": "python",
   "name": "python3"
  },
  "language_info": {
   "codemirror_mode": {
    "name": "ipython",
    "version": 3
   },
   "file_extension": ".py",
   "mimetype": "text/x-python",
   "name": "python",
   "nbconvert_exporter": "python",
   "pygments_lexer": "ipython3",
   "version": "3.8.6"
  },
  "sparkconnect": {
   "bundled_options": [
    "NXCALS",
    "SparkMetrics"
   ],
   "list_of_options": []
  }
 },
 "nbformat": 4,
 "nbformat_minor": 5
}
