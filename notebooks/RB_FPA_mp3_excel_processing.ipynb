{
 "cells": [
  {
   "cell_type": "markdown",
   "id": "eb1f8265",
   "metadata": {},
   "source": [
    "# Import libraries"
   ]
  },
  {
   "cell_type": "code",
   "execution_count": 1,
   "id": "f8332c67",
   "metadata": {},
   "outputs": [],
   "source": [
    "import sys\n",
    "from pathlib import Path\n",
    "sys.path.insert(0,'..')\n",
    "import glob\n",
    "#!pip install openpyxl"
   ]
  },
  {
   "cell_type": "code",
   "execution_count": 2,
   "id": "bade1960",
   "metadata": {},
   "outputs": [
    {
     "name": "stderr",
     "output_type": "stream",
     "text": [
      "`np.float` is a deprecated alias for the builtin `float`. To silence this warning, use `float` by itself. Doing this will not modify any behavior and is safe. If you specifically wanted the numpy scalar type, use `np.float64` here.\n",
      "Deprecated in NumPy 1.20; for more details and guidance: https://numpy.org/devdocs/release/1.20.0-notes.html#deprecations\n",
      "`np.float` is a deprecated alias for the builtin `float`. To silence this warning, use `float` by itself. Doing this will not modify any behavior and is safe. If you specifically wanted the numpy scalar type, use `np.float64` here.\n",
      "Deprecated in NumPy 1.20; for more details and guidance: https://numpy.org/devdocs/release/1.20.0-notes.html#deprecations\n",
      "`np.float` is a deprecated alias for the builtin `float`. To silence this warning, use `float` by itself. Doing this will not modify any behavior and is safe. If you specifically wanted the numpy scalar type, use `np.float64` here.\n",
      "Deprecated in NumPy 1.20; for more details and guidance: https://numpy.org/devdocs/release/1.20.0-notes.html#deprecations\n",
      "`np.float` is a deprecated alias for the builtin `float`. To silence this warning, use `float` by itself. Doing this will not modify any behavior and is safe. If you specifically wanted the numpy scalar type, use `np.float64` here.\n",
      "Deprecated in NumPy 1.20; for more details and guidance: https://numpy.org/devdocs/release/1.20.0-notes.html#deprecations\n",
      "`np.float` is a deprecated alias for the builtin `float`. To silence this warning, use `float` by itself. Doing this will not modify any behavior and is safe. If you specifically wanted the numpy scalar type, use `np.float64` here.\n",
      "Deprecated in NumPy 1.20; for more details and guidance: https://numpy.org/devdocs/release/1.20.0-notes.html#deprecations\n",
      "`np.float` is a deprecated alias for the builtin `float`. To silence this warning, use `float` by itself. Doing this will not modify any behavior and is safe. If you specifically wanted the numpy scalar type, use `np.float64` here.\n",
      "Deprecated in NumPy 1.20; for more details and guidance: https://numpy.org/devdocs/release/1.20.0-notes.html#deprecations\n",
      "`np.float` is a deprecated alias for the builtin `float`. To silence this warning, use `float` by itself. Doing this will not modify any behavior and is safe. If you specifically wanted the numpy scalar type, use `np.float64` here.\n",
      "Deprecated in NumPy 1.20; for more details and guidance: https://numpy.org/devdocs/release/1.20.0-notes.html#deprecations\n",
      "`np.float` is a deprecated alias for the builtin `float`. To silence this warning, use `float` by itself. Doing this will not modify any behavior and is safe. If you specifically wanted the numpy scalar type, use `np.float64` here.\n",
      "Deprecated in NumPy 1.20; for more details and guidance: https://numpy.org/devdocs/release/1.20.0-notes.html#deprecations\n",
      "`np.float` is a deprecated alias for the builtin `float`. To silence this warning, use `float` by itself. Doing this will not modify any behavior and is safe. If you specifically wanted the numpy scalar type, use `np.float64` here.\n",
      "Deprecated in NumPy 1.20; for more details and guidance: https://numpy.org/devdocs/release/1.20.0-notes.html#deprecations\n"
     ]
    }
   ],
   "source": [
    "import os\n",
    "import sys\n",
    "import pandas as pd\n",
    "import numpy as np\n",
    "import pickle\n",
    "import matplotlib.pyplot as plt\n",
    "import h5py\n",
    "import re\n",
    "\n",
    "from functools import partial\n",
    "from multiprocessing import Pool\n",
    "\n",
    "from lhcsmapi.Time import Time\n",
    "from lhcsmapi.Timer import Timer\n",
    "from scipy import signal\n",
    "from lhcsmapi.Time import Time\n",
    "from lhcsmapi.metadata import signal_metadata\n",
    "from lhcsmapi.pyedsl.dbsignal.post_mortem.PmDbRequest import PmDbRequest\n",
    "from lhcsmapi.analysis.RbCircuitQuery import RbCircuitQuery\n",
    "\n",
    "from src.utils.mp3_excel_processing import get_fgc_timestamp, get_fgc_timestamp_missing\n",
    "\n",
    "pd.set_option('display.max_rows', 200)\n",
    "import warnings\n",
    "warnings.filterwarnings('ignore')"
   ]
  },
  {
   "cell_type": "code",
   "execution_count": 3,
   "id": "7c59e5d4",
   "metadata": {},
   "outputs": [],
   "source": [
    "date_suffix = \"2022_07_07\""
   ]
  },
  {
   "cell_type": "markdown",
   "id": "cff8ddbf",
   "metadata": {},
   "source": [
    "# Read the (clean) MP3 file"
   ]
  },
  {
   "cell_type": "code",
   "execution_count": null,
   "id": "2878f743",
   "metadata": {},
   "outputs": [],
   "source": [
    "mp3_fpa_df_raw = pd.read_excel(f\"../data/RB_TC_extract_{date_suffix}.xlsx\")\n",
    "len(mp3_fpa_df_raw)"
   ]
  },
  {
   "cell_type": "code",
   "execution_count": null,
   "id": "b8ea38de",
   "metadata": {},
   "outputs": [],
   "source": [
    "# First row contains units, 9 rows contain only \"Before Notebooks\" and \"After Notebooks\" information, which need to be droped\n",
    "mp3_fpa_df = mp3_fpa_df_raw.dropna(subset = ['Date (FGC)', 'Circuit Name'])\n",
    "mp3_fpa_df_raw.iloc[~mp3_fpa_df_raw.index.isin(mp3_fpa_df.index)] #show droped rows"
   ]
  },
  {
   "cell_type": "markdown",
   "id": "a7f49d93",
   "metadata": {},
   "source": [
    "# Find FGC timestamp for each FPA event in MP3 excel"
   ]
  },
  {
   "cell_type": "code",
   "execution_count": null,
   "id": "e68d4e9b",
   "metadata": {},
   "outputs": [],
   "source": [
    "mp3_fpa_df['timestamp_fgc'] = mp3_fpa_df.apply(get_fgc_timestamp, axis=1)"
   ]
  },
  {
   "cell_type": "markdown",
   "id": "75eabcb9",
   "metadata": {},
   "source": [
    "# Find missing fgc timestamps in mp3 file"
   ]
  },
  {
   "cell_type": "code",
   "execution_count": null,
   "id": "a52d2836",
   "metadata": {},
   "outputs": [],
   "source": [
    "# some fgc timestamps have wrong hours\n",
    "mp3_fpa_df_primary_missing = mp3_fpa_df[(mp3_fpa_df.timestamp_fgc.isna()) & (mp3_fpa_df['Nr in Q event'] == 1)]\n",
    "mp3_fpa_df_primary_missing['timestamp_fgc'] = mp3_fpa_df_primary_missing.apply(get_fgc_timestamp_missing, axis=1)\n",
    "found_fgc_timestamps_df = mp3_fpa_df_primary_missing[\"timestamp_fgc\"].dropna()\n",
    "mp3_fpa_df.loc[found_fgc_timestamps_df.index, \"timestamp_fgc\"] = mp3_fpa_df_primary_missing[\"timestamp_fgc\"].dropna().values"
   ]
  },
  {
   "cell_type": "code",
   "execution_count": null,
   "id": "07d5f072",
   "metadata": {},
   "outputs": [],
   "source": [
    "print(f\"{len(mp3_fpa_df)} unique fgc events\") # 841 Primary quenches?\n",
    "print(f\"{len(mp3_fpa_df[mp3_fpa_df['Nr in Q event']==1])} mp3 primary quench entries\") # 834 primary quenches with correct notes"
   ]
  },
  {
   "cell_type": "code",
   "execution_count": null,
   "id": "56c36cb2",
   "metadata": {},
   "outputs": [],
   "source": [
    "mp3_fpa_df.to_csv(f\"../data/RB_TC_extract_{date_suffix}_processed.csv\")"
   ]
  },
  {
   "cell_type": "markdown",
   "id": "3ffafb28",
   "metadata": {},
   "source": [
    "# Select events to add features"
   ]
  },
  {
   "cell_type": "code",
   "execution_count": null,
   "id": "a906173b",
   "metadata": {},
   "outputs": [],
   "source": [
    "mp3_fpa_df = pd.read_csv(\"../data/RB_TC_extract_2021_11_22_processed.csv\")\n",
    "mp3_fpa_df_unique = mp3_fpa_df.drop_duplicates(subset=['timestamp_fgc', 'Circuit Name'])\n",
    "\n",
    "# Time.to_string(1514761200000000000), Time.to_unix_timestamp('2018-01-01 00:00:00+01:00')\n",
    "lower_limit = Time.to_unix_timestamp('2014-01-01 00:00:00+01:00')\n",
    "mp3_fpa_df_period = mp3_fpa_df_unique[mp3_fpa_df_unique['timestamp_fgc'] >= lower_limit].reset_index(drop=True) \n",
    "\n",
    "mp3_fpa_df_to_download = mp3_fpa_df_period[mp3_fpa_df_period['Delta_t(iQPS-PIC)'].isna()]"
   ]
  },
  {
   "cell_type": "markdown",
   "id": "651835dc",
   "metadata": {},
   "source": [
    "# Add Delta_t(iQPS-PIC) timestamp"
   ]
  },
  {
   "cell_type": "markdown",
   "id": "926aae9f",
   "metadata": {},
   "source": [
    "for index, row in mp3_fpa_df_to_download.iterrows():\n",
    "\n",
    "    loc_mask = (mp3_fpa_df.timestamp_fgc == row['timestamp_fgc']) & (mp3_fpa_df[\"Circuit Name\"] == row['Circuit Name'])\n",
    "\n",
    "    rb_query = RbCircuitQuery(row['Circuit Family'], row['Circuit Name'], max_executions=45)\n",
    "    timestamp_pic = rb_query.find_timestamp_pic(int(row['timestamp_fgc']), spark=spark)\n",
    "    source_timestamp_qds_df = rb_query.find_source_timestamp_qds(int(row['timestamp_fgc']), duration=[(50, 's'), (500, 's')])\n",
    "\n",
    "    mp3_fpa_df.loc[loc_mask, 'Delta_t(iQPS-PIC)'] = 1e-6 * (source_timestamp_qds_df['timestamp'].values - min(timestamp_pic))\n"
   ]
  },
  {
   "cell_type": "markdown",
   "id": "ac5de998",
   "metadata": {},
   "source": [
    "mp3_fpa_df.to_csv(f\"../data/RB_TC_extract_{date_suffix}_processed_filled1.csv\")"
   ]
  },
  {
   "cell_type": "markdown",
   "id": "7223cf7a",
   "metadata": {},
   "source": [
    "# Add EE features"
   ]
  },
  {
   "cell_type": "code",
   "execution_count": null,
   "id": "8981baca",
   "metadata": {},
   "outputs": [],
   "source": [
    "k=0\n",
    "for index, row in mp3_fpa_df_to_download.iterrows():\n",
    "    try:\n",
    "        loc_mask = (mp3_fpa_df.timestamp_fgc == row['timestamp_fgc']) & (mp3_fpa_df[\"Circuit Name\"] == row['Circuit Name'])\n",
    "\n",
    "        rb_query = RbCircuitQuery(row['Circuit Family'], row['Circuit Name'], max_executions=45)\n",
    "\n",
    "        source_timestamp_ee_even_df = rb_query.find_source_timestamp_ee(int(row['timestamp_fgc']), system='EE_EVEN')\n",
    "        timestamp_ee_even = source_timestamp_ee_even_df.timestamp[0]\n",
    "        u_dump_res_even_df = rb_query.query_ee_u_dump_res_pm(timestamp_ee_even, int(row['timestamp_fgc']), system='EE_EVEN',\n",
    "                                            signal_names=['U_DUMP_RES'])\n",
    "\n",
    "        source_timestamp_ee_odd_df = rb_query.find_source_timestamp_ee(int(row['timestamp_fgc']), system='EE_ODD')\n",
    "        timestamp_ee_odd = source_timestamp_ee_odd_df.timestamp[0]\n",
    "        u_dump_res_odd_df = rb_query.query_ee_u_dump_res_pm(timestamp_ee_odd, int(row['timestamp_fgc']), system='EE_ODD',\n",
    "                                            signal_names=['U_DUMP_RES'])\n",
    "\n",
    "        timestamp_pic = rb_query.find_timestamp_pic(int(row['timestamp_fgc']), spark=spark)\n",
    "\n",
    "        source_timestamp_qds_df = rb_query.find_source_timestamp_qds(int(row['timestamp_fgc']), duration=[(50, 's'), (500, 's')])\n",
    "        timestamp_iQps = source_timestamp_qds_df.timestamp[0]\n",
    "\n",
    "        # sometimes values are missing in the end\n",
    "        ts_iQPS_PIC = 1e-6 * (source_timestamp_qds_df['timestamp'].values - min(timestamp_pic))\n",
    "        mp3_fpa_df.loc[loc_mask, 'Delta_t(iQPS-PIC)'] = np.append(ts_iQPS_PIC, np.max(ts_iQPS_PIC)*np.ones(sum(loc_mask)-len(ts_iQPS_PIC)))\n",
    "\n",
    "        mp3_fpa_df.loc[loc_mask, 'Delta_t(EE_odd-PIC)'] = (timestamp_ee_odd - min(timestamp_pic)) / 1e6\n",
    "        mp3_fpa_df.loc[loc_mask, 'Delta_t(EE_even-PIC)'] = (timestamp_ee_even - min(timestamp_pic)) / 1e6\n",
    "        mp3_fpa_df.loc[loc_mask, 'U_EE_max_ODD'] = u_dump_res_odd_df.max()[0]\n",
    "        mp3_fpa_df.loc[loc_mask, 'U_EE_max_EVEN'] = u_dump_res_even_df.max()[0]\n",
    "    except:\n",
    "        k+=1\n",
    "print(k)"
   ]
  },
  {
   "cell_type": "code",
   "execution_count": null,
   "id": "6653e62a",
   "metadata": {},
   "outputs": [],
   "source": [
    "mp3_fpa_df.to_csv(f\"../data/RB_TC_extract_{date_suffix}_processed_filled.csv\")"
   ]
  },
  {
   "cell_type": "markdown",
   "id": "f9875de2",
   "metadata": {},
   "source": [
    "# Reanalyze file"
   ]
  },
  {
   "cell_type": "code",
   "execution_count": 20,
   "id": "15684b63",
   "metadata": {},
   "outputs": [
    {
     "data": {
      "text/plain": [
       "5"
      ]
     },
     "execution_count": 20,
     "metadata": {},
     "output_type": "execute_result"
    }
   ],
   "source": [
    "mp3_fpa_df = pd.read_csv(f\"../data/RB_TC_extract_{date_suffix}_processed_filled.csv\")\n",
    "mp3_fpa_df_unique = mp3_fpa_df.drop_duplicates(subset=['timestamp_fgc', 'Circuit Name'])\n",
    "# Time.to_string(1514761200000000000), Time.to_unix_timestamp('2018-01-01 00:00:00+01:00')\n",
    "lower_limit = Time.to_unix_timestamp('2014-01-01 00:00:00+01:00')\n",
    "mp3_fpa_df_period = mp3_fpa_df_unique[mp3_fpa_df_unique['timestamp_fgc'] >= lower_limit].reset_index(drop=True) \n",
    "\n",
    "mp3_fpa_missing_values = mp3_fpa_df_period[mp3_fpa_df_period['Delta_t(iQPS-PIC)'].isna()]\n",
    "len(mp3_fpa_missing_values)#, len(mp3_fpa_df_to_download)"
   ]
  },
  {
   "cell_type": "markdown",
   "id": "e86ac4d9",
   "metadata": {},
   "source": [
    "# add fpa identifier"
   ]
  },
  {
   "cell_type": "code",
   "execution_count": 31,
   "id": "b6641645",
   "metadata": {},
   "outputs": [],
   "source": [
    "mp3_fpa_df.loc[mp3_fpa_df['timestamp_fgc'].dropna().index, \"fpa_identifier\"] = [f\"{row['Circuit Family']}_{row['Circuit Name']}_{int(row['timestamp_fgc'])}\" for i, row in mp3_fpa_df.loc[mp3_fpa_df['timestamp_fgc'].dropna().index].iterrows()]\n",
    "mp3_fpa_df.to_csv(f\"../data/RB_TC_extract_{date_suffix}_processed_filled.csv\")"
   ]
  },
  {
   "cell_type": "markdown",
   "id": "f9c52363",
   "metadata": {},
   "source": [
    "# Edit Aqusition Summary"
   ]
  },
  {
   "cell_type": "code",
   "execution_count": 4,
   "id": "c40ca5ab",
   "metadata": {},
   "outputs": [],
   "source": [
    "acquisition_summary_path = Path(\"../data/20220707_acquisition_summary.xlsx\")\n",
    "df_acquisition = pd.read_excel(acquisition_summary_path)"
   ]
  },
  {
   "cell_type": "code",
   "execution_count": 19,
   "id": "783dccb6",
   "metadata": {},
   "outputs": [],
   "source": [
    "df_acquisition.to_excel(Path(\"../data/20220707_acquisition_summary1.xlsx\"))"
   ]
  },
  {
   "cell_type": "code",
   "execution_count": null,
   "id": "e6b0d8c6",
   "metadata": {},
   "outputs": [],
   "source": []
  }
 ],
 "metadata": {
  "kernelspec": {
   "display_name": "Python 3",
   "language": "python",
   "name": "python3"
  },
  "language_info": {
   "codemirror_mode": {
    "name": "ipython",
    "version": 3
   },
   "file_extension": ".py",
   "mimetype": "text/x-python",
   "name": "python",
   "nbconvert_exporter": "python",
   "pygments_lexer": "ipython3",
   "version": "3.8.6"
  },
  "sparkconnect": {
   "bundled_options": [
    "NXCALS",
    "SparkMetrics"
   ],
   "list_of_options": []
  }
 },
 "nbformat": 4,
 "nbformat_minor": 5
}
