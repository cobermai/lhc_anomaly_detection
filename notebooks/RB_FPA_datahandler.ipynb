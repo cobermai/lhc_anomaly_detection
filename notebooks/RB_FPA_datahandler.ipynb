{
 "cells": [
  {
   "cell_type": "code",
   "execution_count": null,
   "id": "f0260dd6",
   "metadata": {},
   "outputs": [],
   "source": [
    "from pathlib import Path\n",
    "\n",
    "import pandas as pd\n",
    "import numpy as np\n",
    "import matplotlib.pyplot as plt\n",
    "import h5py\n",
    "import glob\n",
    "\n",
    "from lhcsmapi.Time import Time"
   ]
  },
  {
   "cell_type": "code",
   "execution_count": null,
   "id": "4a08c515",
   "metadata": {},
   "outputs": [],
   "source": [
    "hdf_dir = Path('/eos/project/m/ml-for-alarm-system/private/RB_signals/data')\n",
    "failed_dir = Path('/eos/project/m/ml-for-alarm-system/private/RB_signals/failed')\n",
    "context_path = Path('/eos/project/m/ml-for-alarm-system/private/RB_signals/context')"
   ]
  },
  {
   "cell_type": "code",
   "execution_count": null,
   "id": "a69a9cd7",
   "metadata": {},
   "outputs": [],
   "source": [
    "mp3_fpa_df = pd.read_csv(\"../data/RB_TC_extract_2021_11_22_processed.csv\")"
   ]
  },
  {
   "cell_type": "code",
   "execution_count": null,
   "id": "fe6009df",
   "metadata": {},
   "outputs": [],
   "source": [
    "files = sorted(glob.glob(str(context_path / \"*.csv\")))\n",
    "df_context = pd.concat(map(pd.read_csv, files))\n",
    "df_context[\"timestamp_fgc_datetime\"] = df_context.timestamp_fgc.apply(Time.to_datetime)\n",
    "df_context.reset_index(drop=True, inplace=True)"
   ]
  },
  {
   "cell_type": "code",
   "execution_count": 9,
   "id": "241fce63",
   "metadata": {},
   "outputs": [],
   "source": [
    "files = sorted(glob.glob(str(failed_dir / \"*.csv\")))\n",
    "df_failed = pd.concat(map(pd.read_csv, files))\n",
    "df_failed[\"timestamp_fgc_datetime\"] = df_failed.timestamp_fgc.apply(Time.to_datetime)\n",
    "df_failed.reset_index(drop=True, inplace=True)"
   ]
  },
  {
   "cell_type": "markdown",
   "id": "fca721e8",
   "metadata": {},
   "source": [
    "# Missing events I_MEAS "
   ]
  },
  {
   "cell_type": "code",
   "execution_count": null,
   "id": "9bb4d6da",
   "metadata": {},
   "outputs": [],
   "source": [
    "df_no_IMEAS = df_context[df_context['PCPM_STATUS.I_MEAS'].isna()][[\"circuit_name\", \"timestamp_fgc\", \"timestamp_fgc_datetime\"]]\n",
    "df_no_IMEAS"
   ]
  },
  {
   "cell_type": "code",
   "execution_count": null,
   "id": "8941c6f3",
   "metadata": {},
   "outputs": [],
   "source": [
    "df_failed[df_failed.timestamp_fgc.isin(df_no_IMEAS.timestamp_fgc)]['PCPM'].value_counts()"
   ]
  },
  {
   "cell_type": "markdown",
   "id": "bb1eb899",
   "metadata": {},
   "source": [
    "# Missing events U_DIODE NXCALS"
   ]
  },
  {
   "cell_type": "code",
   "execution_count": null,
   "id": "efd81405",
   "metadata": {},
   "outputs": [],
   "source": [
    "# find distinct key\n",
    "df_diode = df_context.filter(regex=\"DIODE\")\n",
    "print(len(df_diode.columns))\n",
    "\n",
    "columns = df_diode.columns.values\n",
    "unique_signals = [c.split(\"_\")[0] for c in columns]\n",
    "list(dict.fromkeys(unique_signals))"
   ]
  },
  {
   "cell_type": "code",
   "execution_count": 6,
   "id": "a184ef94",
   "metadata": {},
   "outputs": [
    {
     "data": {
      "text/html": [
       "<div>\n",
       "<style scoped>\n",
       "    .dataframe tbody tr th:only-of-type {\n",
       "        vertical-align: middle;\n",
       "    }\n",
       "\n",
       "    .dataframe tbody tr th {\n",
       "        vertical-align: top;\n",
       "    }\n",
       "\n",
       "    .dataframe thead th {\n",
       "        text-align: right;\n",
       "    }\n",
       "</style>\n",
       "<table border=\"1\" class=\"dataframe\">\n",
       "  <thead>\n",
       "    <tr style=\"text-align: right;\">\n",
       "      <th></th>\n",
       "      <th>circuit_name</th>\n",
       "      <th>timestamp_fgc</th>\n",
       "      <th>timestamp_fgc_datetime</th>\n",
       "    </tr>\n",
       "  </thead>\n",
       "  <tbody>\n",
       "    <tr>\n",
       "      <th>0</th>\n",
       "      <td>RB.A12</td>\n",
       "      <td>1418330714580000000</td>\n",
       "      <td>2014-12-11 21:45:14.580000+01:00</td>\n",
       "    </tr>\n",
       "    <tr>\n",
       "      <th>1</th>\n",
       "      <td>RB.A12</td>\n",
       "      <td>1418384764500000000</td>\n",
       "      <td>2014-12-12 12:46:04.500000+01:00</td>\n",
       "    </tr>\n",
       "    <tr>\n",
       "      <th>2</th>\n",
       "      <td>RB.A12</td>\n",
       "      <td>1418484670560000000</td>\n",
       "      <td>2014-12-13 16:31:10.560000+01:00</td>\n",
       "    </tr>\n",
       "    <tr>\n",
       "      <th>3</th>\n",
       "      <td>RB.A12</td>\n",
       "      <td>1418538814280000000</td>\n",
       "      <td>2014-12-14 07:33:34.280000+01:00</td>\n",
       "    </tr>\n",
       "    <tr>\n",
       "      <th>4</th>\n",
       "      <td>RB.A12</td>\n",
       "      <td>1418560853860000000</td>\n",
       "      <td>2014-12-14 13:40:53.860000+01:00</td>\n",
       "    </tr>\n",
       "    <tr>\n",
       "      <th>...</th>\n",
       "      <td>...</td>\n",
       "      <td>...</td>\n",
       "      <td>...</td>\n",
       "    </tr>\n",
       "    <tr>\n",
       "      <th>766</th>\n",
       "      <td>RB.A81</td>\n",
       "      <td>1424501293480000000</td>\n",
       "      <td>2015-02-21 07:48:13.480000+01:00</td>\n",
       "    </tr>\n",
       "    <tr>\n",
       "      <th>767</th>\n",
       "      <td>RB.A81</td>\n",
       "      <td>1428891216980000000</td>\n",
       "      <td>2015-04-13 04:13:36.980000+02:00</td>\n",
       "    </tr>\n",
       "    <tr>\n",
       "      <th>768</th>\n",
       "      <td>RB.A81</td>\n",
       "      <td>1428996141520000000</td>\n",
       "      <td>2015-04-14 09:22:21.520000+02:00</td>\n",
       "    </tr>\n",
       "    <tr>\n",
       "      <th>769</th>\n",
       "      <td>RB.A81</td>\n",
       "      <td>1436908751420000000</td>\n",
       "      <td>2015-07-14 23:19:11.420000+02:00</td>\n",
       "    </tr>\n",
       "    <tr>\n",
       "      <th>770</th>\n",
       "      <td>RB.A81</td>\n",
       "      <td>1526582397220000000</td>\n",
       "      <td>2018-05-17 20:39:57.220000+02:00</td>\n",
       "    </tr>\n",
       "  </tbody>\n",
       "</table>\n",
       "<p>339 rows × 3 columns</p>\n",
       "</div>"
      ],
      "text/plain": [
       "    circuit_name        timestamp_fgc           timestamp_fgc_datetime\n",
       "0         RB.A12  1418330714580000000 2014-12-11 21:45:14.580000+01:00\n",
       "1         RB.A12  1418384764500000000 2014-12-12 12:46:04.500000+01:00\n",
       "2         RB.A12  1418484670560000000 2014-12-13 16:31:10.560000+01:00\n",
       "3         RB.A12  1418538814280000000 2014-12-14 07:33:34.280000+01:00\n",
       "4         RB.A12  1418560853860000000 2014-12-14 13:40:53.860000+01:00\n",
       "..           ...                  ...                              ...\n",
       "766       RB.A81  1424501293480000000 2015-02-21 07:48:13.480000+01:00\n",
       "767       RB.A81  1428891216980000000 2015-04-13 04:13:36.980000+02:00\n",
       "768       RB.A81  1428996141520000000 2015-04-14 09:22:21.520000+02:00\n",
       "769       RB.A81  1436908751420000000 2015-07-14 23:19:11.420000+02:00\n",
       "770       RB.A81  1526582397220000000 2018-05-17 20:39:57.220000+02:00\n",
       "\n",
       "[339 rows x 3 columns]"
      ]
     },
     "execution_count": 6,
     "metadata": {},
     "output_type": "execute_result"
    }
   ],
   "source": [
    "valid_udiode_nxcals_index = df_context.filter(regex=\"VoltageNXCALS.*U_DIODE\").dropna(how='all').index.values\n",
    "df_context_valid = df_context.iloc[valid_udiode_nxcals_index][[\"circuit_name\", \"timestamp_fgc\", \"timestamp_fgc_datetime\"]]\n",
    "df_context_valid"
   ]
  },
  {
   "cell_type": "code",
   "execution_count": 7,
   "id": "b41b4936",
   "metadata": {},
   "outputs": [
    {
     "data": {
      "text/plain": [
       "empty DataFrame returned                        421\n",
       "Unable to create group (name already exists)     67\n",
       "Name: VoltageNXCALS, dtype: int64"
      ]
     },
     "execution_count": 7,
     "metadata": {},
     "output_type": "execute_result"
    }
   ],
   "source": [
    "df_failed[~df_failed.timestamp_fgc.isin(df_context_valid.timestamp_fgc)].VoltageNXCALS.value_counts()"
   ]
  },
  {
   "cell_type": "code",
   "execution_count": 12,
   "id": "cab8d757",
   "metadata": {},
   "outputs": [
    {
     "data": {
      "text/html": [
       "<div>\n",
       "<style scoped>\n",
       "    .dataframe tbody tr th:only-of-type {\n",
       "        vertical-align: middle;\n",
       "    }\n",
       "\n",
       "    .dataframe tbody tr th {\n",
       "        vertical-align: top;\n",
       "    }\n",
       "\n",
       "    .dataframe thead th {\n",
       "        text-align: right;\n",
       "    }\n",
       "</style>\n",
       "<table border=\"1\" class=\"dataframe\">\n",
       "  <thead>\n",
       "    <tr style=\"text-align: right;\">\n",
       "      <th></th>\n",
       "      <th>VoltageNXCALS</th>\n",
       "      <th>circuit_name</th>\n",
       "      <th>timestamp_fgc</th>\n",
       "      <th>timestamp_fgc_datetime</th>\n",
       "    </tr>\n",
       "  </thead>\n",
       "  <tbody>\n",
       "    <tr>\n",
       "      <th>30</th>\n",
       "      <td>empty DataFrame returned</td>\n",
       "      <td>RB.A12</td>\n",
       "      <td>1619196160600000000</td>\n",
       "      <td>2021-04-23 18:42:40.600000+02:00</td>\n",
       "    </tr>\n",
       "    <tr>\n",
       "      <th>31</th>\n",
       "      <td>empty DataFrame returned</td>\n",
       "      <td>RB.A12</td>\n",
       "      <td>1619244358440000000</td>\n",
       "      <td>2021-04-24 08:05:58.440000+02:00</td>\n",
       "    </tr>\n",
       "    <tr>\n",
       "      <th>32</th>\n",
       "      <td>empty DataFrame returned</td>\n",
       "      <td>RB.A12</td>\n",
       "      <td>1619349125540000000</td>\n",
       "      <td>2021-04-25 13:12:05.540000+02:00</td>\n",
       "    </tr>\n",
       "    <tr>\n",
       "      <th>33</th>\n",
       "      <td>empty DataFrame returned</td>\n",
       "      <td>RB.A12</td>\n",
       "      <td>1619374541080000000</td>\n",
       "      <td>2021-04-25 20:15:41.080000+02:00</td>\n",
       "    </tr>\n",
       "    <tr>\n",
       "      <th>34</th>\n",
       "      <td>empty DataFrame returned</td>\n",
       "      <td>RB.A12</td>\n",
       "      <td>1619417171040000000</td>\n",
       "      <td>2021-04-26 08:06:11.040000+02:00</td>\n",
       "    </tr>\n",
       "    <tr>\n",
       "      <th>...</th>\n",
       "      <td>...</td>\n",
       "      <td>...</td>\n",
       "      <td>...</td>\n",
       "      <td>...</td>\n",
       "    </tr>\n",
       "    <tr>\n",
       "      <th>822</th>\n",
       "      <td>empty DataFrame returned</td>\n",
       "      <td>RB.A81</td>\n",
       "      <td>1629782243260000000</td>\n",
       "      <td>2021-08-24 07:17:23.260000+02:00</td>\n",
       "    </tr>\n",
       "    <tr>\n",
       "      <th>823</th>\n",
       "      <td>empty DataFrame returned</td>\n",
       "      <td>RB.A81</td>\n",
       "      <td>1629831279760000000</td>\n",
       "      <td>2021-08-24 20:54:39.760000+02:00</td>\n",
       "    </tr>\n",
       "    <tr>\n",
       "      <th>824</th>\n",
       "      <td>empty DataFrame returned</td>\n",
       "      <td>RB.A81</td>\n",
       "      <td>1629911725660000000</td>\n",
       "      <td>2021-08-25 19:15:25.660000+02:00</td>\n",
       "    </tr>\n",
       "    <tr>\n",
       "      <th>825</th>\n",
       "      <td>empty DataFrame returned</td>\n",
       "      <td>RB.A81</td>\n",
       "      <td>1629956195440000000</td>\n",
       "      <td>2021-08-26 07:36:35.440000+02:00</td>\n",
       "    </tr>\n",
       "    <tr>\n",
       "      <th>826</th>\n",
       "      <td>empty DataFrame returned</td>\n",
       "      <td>RB.A81</td>\n",
       "      <td>1629995493580000000</td>\n",
       "      <td>2021-08-26 18:31:33.580000+02:00</td>\n",
       "    </tr>\n",
       "  </tbody>\n",
       "</table>\n",
       "<p>421 rows × 4 columns</p>\n",
       "</div>"
      ],
      "text/plain": [
       "                VoltageNXCALS circuit_name        timestamp_fgc  \\\n",
       "30   empty DataFrame returned       RB.A12  1619196160600000000   \n",
       "31   empty DataFrame returned       RB.A12  1619244358440000000   \n",
       "32   empty DataFrame returned       RB.A12  1619349125540000000   \n",
       "33   empty DataFrame returned       RB.A12  1619374541080000000   \n",
       "34   empty DataFrame returned       RB.A12  1619417171040000000   \n",
       "..                        ...          ...                  ...   \n",
       "822  empty DataFrame returned       RB.A81  1629782243260000000   \n",
       "823  empty DataFrame returned       RB.A81  1629831279760000000   \n",
       "824  empty DataFrame returned       RB.A81  1629911725660000000   \n",
       "825  empty DataFrame returned       RB.A81  1629956195440000000   \n",
       "826  empty DataFrame returned       RB.A81  1629995493580000000   \n",
       "\n",
       "              timestamp_fgc_datetime  \n",
       "30  2021-04-23 18:42:40.600000+02:00  \n",
       "31  2021-04-24 08:05:58.440000+02:00  \n",
       "32  2021-04-25 13:12:05.540000+02:00  \n",
       "33  2021-04-25 20:15:41.080000+02:00  \n",
       "34  2021-04-26 08:06:11.040000+02:00  \n",
       "..                               ...  \n",
       "822 2021-08-24 07:17:23.260000+02:00  \n",
       "823 2021-08-24 20:54:39.760000+02:00  \n",
       "824 2021-08-25 19:15:25.660000+02:00  \n",
       "825 2021-08-26 07:36:35.440000+02:00  \n",
       "826 2021-08-26 18:31:33.580000+02:00  \n",
       "\n",
       "[421 rows x 4 columns]"
      ]
     },
     "execution_count": 12,
     "metadata": {},
     "output_type": "execute_result"
    }
   ],
   "source": [
    "# get reason of failure for missing files\n",
    "df_failed_empty = df_failed[(~df_failed.timestamp_fgc.isin(df_context_valid.timestamp_fgc)) & (df_failed.VoltageNXCALS == \"empty DataFrame returned\")][[\"VoltageNXCALS\", \"circuit_name\", \"timestamp_fgc\", \"timestamp_fgc_datetime\"]]\n",
    "#df_failed_empty.to_csv(\"VoltageNXCALS_U_DIODE_empty.csv\")\n",
    "df_failed_empty"
   ]
  },
  {
   "cell_type": "code",
   "execution_count": 16,
   "id": "0c84234a",
   "metadata": {},
   "outputs": [
    {
     "data": {
      "text/plain": [
       "True"
      ]
     },
     "execution_count": 16,
     "metadata": {},
     "output_type": "execute_result"
    }
   ],
   "source": [
    "1619196160600000000 ==1619196160600000000"
   ]
  },
  {
   "cell_type": "markdown",
   "id": "53d9aa66",
   "metadata": {},
   "source": [
    "## Open h5 files"
   ]
  },
  {
   "cell_type": "code",
   "execution_count": 15,
   "id": "09a10211",
   "metadata": {},
   "outputs": [
    {
     "name": "stdout",
     "output_type": "stream",
     "text": [
      "<KeysViewHDF5 ['CurrentVoltageDiodeLeadsPM', 'EETResPM', 'EEUDumpResPM', 'Leads', 'PCPM', 'QHPM', 'VoltageLogicIQPS', 'VoltageLogicNQPS']>\n"
     ]
    }
   ],
   "source": [
    "file_dir = Path('/eos/project/m/ml-for-alarm-system/private/RB_signals/data')\n",
    "\n",
    "for index, row in df_context.iterrows():   \n",
    "    circuit_type = 'RB' #row['circuit_type']\n",
    "    circuit_name = 'RB.A12' #row['circuit_name']\n",
    "    timestamp_fgc = 1619196160600000000 #row['timestamp_fgc']\n",
    "    \n",
    "    filename = f\"{circuit_type}_{circuit_name}_{timestamp_fgc}.hdf5\"\n",
    "    \n",
    "    with h5py.File(file_dir / filename, \"r\") as f:\n",
    "        \n",
    "        k = np.array(f.keys())\n",
    "        print(k)\n",
    "\n",
    "        #plt.plot(np.array(f[\"VoltageNXCALS\"][\"MB.A31L2:U_DIODE_RB\"].get(\"values\")))\n",
    "        \n",
    "    break"
   ]
  },
  {
   "cell_type": "markdown",
   "id": "53a4d0f6",
   "metadata": {},
   "source": [
    "# Missing events U_DIODE PM"
   ]
  },
  {
   "cell_type": "code",
   "execution_count": null,
   "id": "eeeb4de0",
   "metadata": {},
   "outputs": [],
   "source": [
    "df_context.filter(regex=\"VoltageLogicNQPS.*U_DIODE\").dropna(how='all')"
   ]
  },
  {
   "cell_type": "code",
   "execution_count": null,
   "id": "56cce24c",
   "metadata": {},
   "outputs": [],
   "source": [
    "valid_udiode_pm_index = df_context.filter(regex=\"VoltageLogicNQPS.*U_DIODE\").dropna(how='all').index.values\n",
    "df_context_valid = df_context.iloc[valid_udiode_pm_index][[\"circuit_name\", \"timestamp_fgc\", \"timestamp_fgc_datetime\"]]\n",
    "df_context_valid"
   ]
  },
  {
   "cell_type": "code",
   "execution_count": null,
   "id": "72c8377f",
   "metadata": {},
   "outputs": [],
   "source": [
    "df_failed[~df_failed.timestamp_fgc.isin(df_context_valid.timestamp_fgc)].VoltageLogicNQPS.value_counts()"
   ]
  },
  {
   "cell_type": "code",
   "execution_count": null,
   "id": "02336b9e",
   "metadata": {},
   "outputs": [],
   "source": []
  }
 ],
 "metadata": {
  "kernelspec": {
   "display_name": "Python 3",
   "language": "python",
   "name": "python3"
  },
  "language_info": {
   "codemirror_mode": {
    "name": "ipython",
    "version": 3
   },
   "file_extension": ".py",
   "mimetype": "text/x-python",
   "name": "python",
   "nbconvert_exporter": "python",
   "pygments_lexer": "ipython3",
   "version": "3.8.6"
  },
  "sparkconnect": {
   "bundled_options": [],
   "list_of_options": []
  }
 },
 "nbformat": 4,
 "nbformat_minor": 5
}
