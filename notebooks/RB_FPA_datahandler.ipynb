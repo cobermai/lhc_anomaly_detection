{
 "cells": [
  {
   "cell_type": "code",
   "execution_count": 1,
   "id": "f0260dd6",
   "metadata": {},
   "outputs": [
    {
     "ename": "ModuleNotFoundError",
     "evalue": "No module named 'lhcsmapi'",
     "output_type": "error",
     "traceback": [
      "\u001b[0;31m---------------------------------------------------------------------------\u001b[0m",
      "\u001b[0;31mModuleNotFoundError\u001b[0m                       Traceback (most recent call last)",
      "\u001b[0;32m/tmp/ipykernel_624/1683240716.py\u001b[0m in \u001b[0;36m<module>\u001b[0;34m\u001b[0m\n\u001b[1;32m      7\u001b[0m \u001b[0;32mimport\u001b[0m \u001b[0mglob\u001b[0m\u001b[0;34m\u001b[0m\u001b[0;34m\u001b[0m\u001b[0m\n\u001b[1;32m      8\u001b[0m \u001b[0;34m\u001b[0m\u001b[0m\n\u001b[0;32m----> 9\u001b[0;31m \u001b[0;32mfrom\u001b[0m \u001b[0mlhcsmapi\u001b[0m\u001b[0;34m.\u001b[0m\u001b[0mTime\u001b[0m \u001b[0;32mimport\u001b[0m \u001b[0mTime\u001b[0m\u001b[0;34m\u001b[0m\u001b[0;34m\u001b[0m\u001b[0m\n\u001b[0m",
      "\u001b[0;31mModuleNotFoundError\u001b[0m: No module named 'lhcsmapi'"
     ]
    }
   ],
   "source": [
    "from pathlib import Path\n",
    "\n",
    "import pandas as pd\n",
    "import numpy as np\n",
    "import matplotlib.pyplot as plt\n",
    "import h5py\n",
    "import glob\n",
    "\n",
    "from lhcsmapi.Time import Time"
   ]
  },
  {
   "cell_type": "code",
   "execution_count": 2,
   "id": "f7c13de3",
   "metadata": {},
   "outputs": [
    {
     "data": {
      "text/plain": [
       "(1388530800000000000, 1672527600000000000)"
      ]
     },
     "execution_count": 2,
     "metadata": {},
     "output_type": "execute_result"
    }
   ],
   "source": [
    "Time.to_unix_timestamp('2014-01-01 00:00:00+01:00'), Time.to_unix_timestamp('2023-01-01 00:00:00+01:00')"
   ]
  },
  {
   "cell_type": "code",
   "execution_count": 5,
   "id": "4a08c515",
   "metadata": {},
   "outputs": [],
   "source": [
    "hdf_dir = Path('/eos/project/m/ml-for-alarm-system/private/RB_signals/data_1')\n",
    "failed_dir = Path('/eos/project/m/ml-for-alarm-system/private/RB_signals/failed_1')\n",
    "context_path = Path('/eos/project/m/ml-for-alarm-system/private/RB_signals/context_1')"
   ]
  },
  {
   "cell_type": "code",
   "execution_count": 6,
   "id": "a69a9cd7",
   "metadata": {},
   "outputs": [],
   "source": [
    "mp3_fpa_df = pd.read_csv(\"../data/RB_TC_extract_2021_11_22_processed.csv\")"
   ]
  },
  {
   "cell_type": "code",
   "execution_count": 7,
   "id": "fe6009df",
   "metadata": {},
   "outputs": [
    {
     "ename": "NameError",
     "evalue": "name 'Time' is not defined",
     "output_type": "error",
     "traceback": [
      "\u001b[0;31m---------------------------------------------------------------------------\u001b[0m",
      "\u001b[0;31mNameError\u001b[0m                                 Traceback (most recent call last)",
      "\u001b[0;32m/tmp/ipykernel_624/3453613819.py\u001b[0m in \u001b[0;36m<module>\u001b[0;34m\u001b[0m\n\u001b[1;32m      1\u001b[0m \u001b[0mfiles\u001b[0m \u001b[0;34m=\u001b[0m \u001b[0msorted\u001b[0m\u001b[0;34m(\u001b[0m\u001b[0mglob\u001b[0m\u001b[0;34m.\u001b[0m\u001b[0mglob\u001b[0m\u001b[0;34m(\u001b[0m\u001b[0mstr\u001b[0m\u001b[0;34m(\u001b[0m\u001b[0mcontext_path\u001b[0m \u001b[0;34m/\u001b[0m \u001b[0;34m\"*.csv\"\u001b[0m\u001b[0;34m)\u001b[0m\u001b[0;34m)\u001b[0m\u001b[0;34m)\u001b[0m\u001b[0;34m\u001b[0m\u001b[0;34m\u001b[0m\u001b[0m\n\u001b[1;32m      2\u001b[0m \u001b[0mdf_context\u001b[0m \u001b[0;34m=\u001b[0m \u001b[0mpd\u001b[0m\u001b[0;34m.\u001b[0m\u001b[0mconcat\u001b[0m\u001b[0;34m(\u001b[0m\u001b[0mmap\u001b[0m\u001b[0;34m(\u001b[0m\u001b[0mpd\u001b[0m\u001b[0;34m.\u001b[0m\u001b[0mread_csv\u001b[0m\u001b[0;34m,\u001b[0m \u001b[0mfiles\u001b[0m\u001b[0;34m)\u001b[0m\u001b[0;34m)\u001b[0m\u001b[0;34m\u001b[0m\u001b[0;34m\u001b[0m\u001b[0m\n\u001b[0;32m----> 3\u001b[0;31m \u001b[0mdf_context\u001b[0m\u001b[0;34m[\u001b[0m\u001b[0;34m\"timestamp_fgc_datetime\"\u001b[0m\u001b[0;34m]\u001b[0m \u001b[0;34m=\u001b[0m \u001b[0mdf_context\u001b[0m\u001b[0;34m.\u001b[0m\u001b[0mtimestamp_fgc\u001b[0m\u001b[0;34m.\u001b[0m\u001b[0mapply\u001b[0m\u001b[0;34m(\u001b[0m\u001b[0mTime\u001b[0m\u001b[0;34m.\u001b[0m\u001b[0mto_datetime\u001b[0m\u001b[0;34m)\u001b[0m\u001b[0;34m\u001b[0m\u001b[0;34m\u001b[0m\u001b[0m\n\u001b[0m\u001b[1;32m      4\u001b[0m \u001b[0mdf_context\u001b[0m\u001b[0;34m.\u001b[0m\u001b[0mreset_index\u001b[0m\u001b[0;34m(\u001b[0m\u001b[0mdrop\u001b[0m\u001b[0;34m=\u001b[0m\u001b[0;32mTrue\u001b[0m\u001b[0;34m,\u001b[0m \u001b[0minplace\u001b[0m\u001b[0;34m=\u001b[0m\u001b[0;32mTrue\u001b[0m\u001b[0;34m)\u001b[0m\u001b[0;34m\u001b[0m\u001b[0;34m\u001b[0m\u001b[0m\n",
      "\u001b[0;31mNameError\u001b[0m: name 'Time' is not defined"
     ]
    }
   ],
   "source": [
    "files = sorted(glob.glob(str(context_path / \"*.csv\")))\n",
    "df_context = pd.concat(map(pd.read_csv, files))\n",
    "df_context[\"timestamp_fgc_datetime\"] = df_context.timestamp_fgc.apply(Time.to_datetime)\n",
    "df_context.reset_index(drop=True, inplace=True)"
   ]
  },
  {
   "cell_type": "code",
   "execution_count": null,
   "id": "241fce63",
   "metadata": {},
   "outputs": [],
   "source": [
    "files = sorted(glob.glob(str(failed_dir / \"*.csv\")))\n",
    "df_failed = pd.concat(map(pd.read_csv, files))\n",
    "df_failed[\"timestamp_fgc_datetime\"] = df_failed.timestamp_fgc.apply(Time.to_datetime)\n",
    "df_failed.reset_index(drop=True, inplace=True)"
   ]
  },
  {
   "cell_type": "markdown",
   "id": "fca721e8",
   "metadata": {},
   "source": [
    "# Missing events I_MEAS "
   ]
  },
  {
   "cell_type": "code",
   "execution_count": 4,
   "id": "9bb4d6da",
   "metadata": {},
   "outputs": [
    {
     "ename": "NameError",
     "evalue": "name 'df_context' is not defined",
     "output_type": "error",
     "traceback": [
      "\u001b[0;31m---------------------------------------------------------------------------\u001b[0m",
      "\u001b[0;31mNameError\u001b[0m                                 Traceback (most recent call last)",
      "\u001b[0;32m/tmp/ipykernel_624/1360843936.py\u001b[0m in \u001b[0;36m<module>\u001b[0;34m\u001b[0m\n\u001b[0;32m----> 1\u001b[0;31m \u001b[0mdf_IMEAS\u001b[0m \u001b[0;34m=\u001b[0m \u001b[0mdf_context\u001b[0m\u001b[0;34m[\u001b[0m\u001b[0;34m~\u001b[0m\u001b[0mdf_context\u001b[0m\u001b[0;34m[\u001b[0m\u001b[0;34m'PCPM_STATUS.I_MEAS'\u001b[0m\u001b[0;34m]\u001b[0m\u001b[0;34m.\u001b[0m\u001b[0misna\u001b[0m\u001b[0;34m(\u001b[0m\u001b[0;34m)\u001b[0m\u001b[0;34m]\u001b[0m\u001b[0;34m[\u001b[0m\u001b[0;34m[\u001b[0m\u001b[0;34m\"circuit_name\"\u001b[0m\u001b[0;34m,\u001b[0m \u001b[0;34m\"timestamp_fgc\"\u001b[0m\u001b[0;34m,\u001b[0m \u001b[0;34m\"timestamp_fgc_datetime\"\u001b[0m\u001b[0;34m,\u001b[0m\u001b[0;34m'PCPM_STATUS.I_MEAS'\u001b[0m\u001b[0;34m]\u001b[0m\u001b[0;34m]\u001b[0m\u001b[0;34m\u001b[0m\u001b[0;34m\u001b[0m\u001b[0m\n\u001b[0m\u001b[1;32m      2\u001b[0m \u001b[0mdf_IMEAS\u001b[0m\u001b[0;34m\u001b[0m\u001b[0;34m\u001b[0m\u001b[0m\n",
      "\u001b[0;31mNameError\u001b[0m: name 'df_context' is not defined"
     ]
    }
   ],
   "source": [
    "df_IMEAS = df_context[~df_context['PCPM_STATUS.I_MEAS'].isna()][[\"circuit_name\", \"timestamp_fgc\", \"timestamp_fgc_datetime\",'PCPM_STATUS.I_MEAS']]\n",
    "df_IMEAS"
   ]
  },
  {
   "cell_type": "markdown",
   "id": "bb1eb899",
   "metadata": {},
   "source": [
    "# Missing events U_DIODE NXCALS"
   ]
  },
  {
   "cell_type": "code",
   "execution_count": 7,
   "id": "efd81405",
   "metadata": {},
   "outputs": [
    {
     "name": "stdout",
     "output_type": "stream",
     "text": [
      "2444\n"
     ]
    },
    {
     "data": {
      "text/plain": [
       "['VoltageNXCALS', 'VoltageNQPS']"
      ]
     },
     "execution_count": 7,
     "metadata": {},
     "output_type": "execute_result"
    }
   ],
   "source": [
    "# find distinct key\n",
    "df_diode = df_context.filter(regex=\"DIODE\")\n",
    "print(len(df_diode.columns))\n",
    "\n",
    "columns = df_diode.columns.values\n",
    "unique_signals = [c.split(\"_\")[0] for c in columns]\n",
    "list(dict.fromkeys(unique_signals))"
   ]
  },
  {
   "cell_type": "code",
   "execution_count": 8,
   "id": "a184ef94",
   "metadata": {},
   "outputs": [
    {
     "data": {
      "text/html": [
       "<div>\n",
       "<style scoped>\n",
       "    .dataframe tbody tr th:only-of-type {\n",
       "        vertical-align: middle;\n",
       "    }\n",
       "\n",
       "    .dataframe tbody tr th {\n",
       "        vertical-align: top;\n",
       "    }\n",
       "\n",
       "    .dataframe thead th {\n",
       "        text-align: right;\n",
       "    }\n",
       "</style>\n",
       "<table border=\"1\" class=\"dataframe\">\n",
       "  <thead>\n",
       "    <tr style=\"text-align: right;\">\n",
       "      <th></th>\n",
       "      <th>circuit_name</th>\n",
       "      <th>timestamp_fgc</th>\n",
       "      <th>timestamp_fgc_datetime</th>\n",
       "    </tr>\n",
       "  </thead>\n",
       "  <tbody>\n",
       "    <tr>\n",
       "      <th>0</th>\n",
       "      <td>RB.A12</td>\n",
       "      <td>1418330714580000000</td>\n",
       "      <td>2014-12-11 21:45:14.580000+01:00</td>\n",
       "    </tr>\n",
       "    <tr>\n",
       "      <th>1</th>\n",
       "      <td>RB.A12</td>\n",
       "      <td>1418384764500000000</td>\n",
       "      <td>2014-12-12 12:46:04.500000+01:00</td>\n",
       "    </tr>\n",
       "    <tr>\n",
       "      <th>2</th>\n",
       "      <td>RB.A12</td>\n",
       "      <td>1418484670560000000</td>\n",
       "      <td>2014-12-13 16:31:10.560000+01:00</td>\n",
       "    </tr>\n",
       "    <tr>\n",
       "      <th>3</th>\n",
       "      <td>RB.A12</td>\n",
       "      <td>1418538814280000000</td>\n",
       "      <td>2014-12-14 07:33:34.280000+01:00</td>\n",
       "    </tr>\n",
       "    <tr>\n",
       "      <th>4</th>\n",
       "      <td>RB.A12</td>\n",
       "      <td>1418560853860000000</td>\n",
       "      <td>2014-12-14 13:40:53.860000+01:00</td>\n",
       "    </tr>\n",
       "    <tr>\n",
       "      <th>...</th>\n",
       "      <td>...</td>\n",
       "      <td>...</td>\n",
       "      <td>...</td>\n",
       "    </tr>\n",
       "    <tr>\n",
       "      <th>823</th>\n",
       "      <td>RB.A81</td>\n",
       "      <td>1629782243260000000</td>\n",
       "      <td>2021-08-24 07:17:23.260000+02:00</td>\n",
       "    </tr>\n",
       "    <tr>\n",
       "      <th>824</th>\n",
       "      <td>RB.A81</td>\n",
       "      <td>1629831279760000000</td>\n",
       "      <td>2021-08-24 20:54:39.760000+02:00</td>\n",
       "    </tr>\n",
       "    <tr>\n",
       "      <th>825</th>\n",
       "      <td>RB.A81</td>\n",
       "      <td>1629911725660000000</td>\n",
       "      <td>2021-08-25 19:15:25.660000+02:00</td>\n",
       "    </tr>\n",
       "    <tr>\n",
       "      <th>826</th>\n",
       "      <td>RB.A81</td>\n",
       "      <td>1629956195440000000</td>\n",
       "      <td>2021-08-26 07:36:35.440000+02:00</td>\n",
       "    </tr>\n",
       "    <tr>\n",
       "      <th>827</th>\n",
       "      <td>RB.A81</td>\n",
       "      <td>1629995493580000000</td>\n",
       "      <td>2021-08-26 18:31:33.580000+02:00</td>\n",
       "    </tr>\n",
       "  </tbody>\n",
       "</table>\n",
       "<p>828 rows × 3 columns</p>\n",
       "</div>"
      ],
      "text/plain": [
       "    circuit_name        timestamp_fgc           timestamp_fgc_datetime\n",
       "0         RB.A12  1418330714580000000 2014-12-11 21:45:14.580000+01:00\n",
       "1         RB.A12  1418384764500000000 2014-12-12 12:46:04.500000+01:00\n",
       "2         RB.A12  1418484670560000000 2014-12-13 16:31:10.560000+01:00\n",
       "3         RB.A12  1418538814280000000 2014-12-14 07:33:34.280000+01:00\n",
       "4         RB.A12  1418560853860000000 2014-12-14 13:40:53.860000+01:00\n",
       "..           ...                  ...                              ...\n",
       "823       RB.A81  1629782243260000000 2021-08-24 07:17:23.260000+02:00\n",
       "824       RB.A81  1629831279760000000 2021-08-24 20:54:39.760000+02:00\n",
       "825       RB.A81  1629911725660000000 2021-08-25 19:15:25.660000+02:00\n",
       "826       RB.A81  1629956195440000000 2021-08-26 07:36:35.440000+02:00\n",
       "827       RB.A81  1629995493580000000 2021-08-26 18:31:33.580000+02:00\n",
       "\n",
       "[828 rows x 3 columns]"
      ]
     },
     "execution_count": 8,
     "metadata": {},
     "output_type": "execute_result"
    }
   ],
   "source": [
    "valid_udiode_nxcals_index = df_context.filter(regex=\"VoltageNXCALS.*U_DIODE\").dropna(how='all').index.values\n",
    "df_context_valid = df_context.iloc[valid_udiode_nxcals_index][[\"circuit_name\", \"timestamp_fgc\", \"timestamp_fgc_datetime\"]]\n",
    "df_context_valid"
   ]
  },
  {
   "cell_type": "markdown",
   "id": "53a4d0f6",
   "metadata": {},
   "source": [
    "# Missing events U_DIODE PM"
   ]
  },
  {
   "cell_type": "code",
   "execution_count": 9,
   "id": "20ee8c2e",
   "metadata": {},
   "outputs": [
    {
     "data": {
      "text/html": [
       "<div>\n",
       "<style scoped>\n",
       "    .dataframe tbody tr th:only-of-type {\n",
       "        vertical-align: middle;\n",
       "    }\n",
       "\n",
       "    .dataframe tbody tr th {\n",
       "        vertical-align: top;\n",
       "    }\n",
       "\n",
       "    .dataframe thead th {\n",
       "        text-align: right;\n",
       "    }\n",
       "</style>\n",
       "<table border=\"1\" class=\"dataframe\">\n",
       "  <thead>\n",
       "    <tr style=\"text-align: right;\">\n",
       "      <th></th>\n",
       "      <th>circuit_name</th>\n",
       "      <th>timestamp_fgc</th>\n",
       "      <th>timestamp_fgc_datetime</th>\n",
       "    </tr>\n",
       "  </thead>\n",
       "  <tbody>\n",
       "    <tr>\n",
       "      <th>9</th>\n",
       "      <td>RB.A12</td>\n",
       "      <td>1446531949860000000</td>\n",
       "      <td>2015-11-03 07:25:49.860000+01:00</td>\n",
       "    </tr>\n",
       "    <tr>\n",
       "      <th>10</th>\n",
       "      <td>RB.A12</td>\n",
       "      <td>1465578785320000000</td>\n",
       "      <td>2016-06-10 19:13:05.320000+02:00</td>\n",
       "    </tr>\n",
       "    <tr>\n",
       "      <th>11</th>\n",
       "      <td>RB.A12</td>\n",
       "      <td>1470229204900000000</td>\n",
       "      <td>2016-08-03 15:00:04.900000+02:00</td>\n",
       "    </tr>\n",
       "    <tr>\n",
       "      <th>12</th>\n",
       "      <td>RB.A12</td>\n",
       "      <td>1492890506140000000</td>\n",
       "      <td>2017-04-22 21:48:26.140000+02:00</td>\n",
       "    </tr>\n",
       "    <tr>\n",
       "      <th>13</th>\n",
       "      <td>RB.A12</td>\n",
       "      <td>1492946941100000000</td>\n",
       "      <td>2017-04-23 13:29:01.100000+02:00</td>\n",
       "    </tr>\n",
       "    <tr>\n",
       "      <th>...</th>\n",
       "      <td>...</td>\n",
       "      <td>...</td>\n",
       "      <td>...</td>\n",
       "    </tr>\n",
       "    <tr>\n",
       "      <th>823</th>\n",
       "      <td>RB.A81</td>\n",
       "      <td>1629782243260000000</td>\n",
       "      <td>2021-08-24 07:17:23.260000+02:00</td>\n",
       "    </tr>\n",
       "    <tr>\n",
       "      <th>824</th>\n",
       "      <td>RB.A81</td>\n",
       "      <td>1629831279760000000</td>\n",
       "      <td>2021-08-24 20:54:39.760000+02:00</td>\n",
       "    </tr>\n",
       "    <tr>\n",
       "      <th>825</th>\n",
       "      <td>RB.A81</td>\n",
       "      <td>1629911725660000000</td>\n",
       "      <td>2021-08-25 19:15:25.660000+02:00</td>\n",
       "    </tr>\n",
       "    <tr>\n",
       "      <th>826</th>\n",
       "      <td>RB.A81</td>\n",
       "      <td>1629956195440000000</td>\n",
       "      <td>2021-08-26 07:36:35.440000+02:00</td>\n",
       "    </tr>\n",
       "    <tr>\n",
       "      <th>827</th>\n",
       "      <td>RB.A81</td>\n",
       "      <td>1629995493580000000</td>\n",
       "      <td>2021-08-26 18:31:33.580000+02:00</td>\n",
       "    </tr>\n",
       "  </tbody>\n",
       "</table>\n",
       "<p>668 rows × 3 columns</p>\n",
       "</div>"
      ],
      "text/plain": [
       "    circuit_name        timestamp_fgc           timestamp_fgc_datetime\n",
       "9         RB.A12  1446531949860000000 2015-11-03 07:25:49.860000+01:00\n",
       "10        RB.A12  1465578785320000000 2016-06-10 19:13:05.320000+02:00\n",
       "11        RB.A12  1470229204900000000 2016-08-03 15:00:04.900000+02:00\n",
       "12        RB.A12  1492890506140000000 2017-04-22 21:48:26.140000+02:00\n",
       "13        RB.A12  1492946941100000000 2017-04-23 13:29:01.100000+02:00\n",
       "..           ...                  ...                              ...\n",
       "823       RB.A81  1629782243260000000 2021-08-24 07:17:23.260000+02:00\n",
       "824       RB.A81  1629831279760000000 2021-08-24 20:54:39.760000+02:00\n",
       "825       RB.A81  1629911725660000000 2021-08-25 19:15:25.660000+02:00\n",
       "826       RB.A81  1629956195440000000 2021-08-26 07:36:35.440000+02:00\n",
       "827       RB.A81  1629995493580000000 2021-08-26 18:31:33.580000+02:00\n",
       "\n",
       "[668 rows x 3 columns]"
      ]
     },
     "execution_count": 9,
     "metadata": {},
     "output_type": "execute_result"
    }
   ],
   "source": [
    "valid_udiode_pm_index = df_context.filter(regex=\"VoltageNQPS\").dropna(how='all').index.values\n",
    "df_context_valid = df_context.iloc[valid_udiode_pm_index][[\"circuit_name\", \"timestamp_fgc\", \"timestamp_fgc_datetime\"]]\n",
    "df_context_valid"
   ]
  },
  {
   "cell_type": "code",
   "execution_count": 10,
   "id": "9f66b7e5",
   "metadata": {},
   "outputs": [
    {
     "data": {
      "text/html": [
       "<div>\n",
       "<style scoped>\n",
       "    .dataframe tbody tr th:only-of-type {\n",
       "        vertical-align: middle;\n",
       "    }\n",
       "\n",
       "    .dataframe tbody tr th {\n",
       "        vertical-align: top;\n",
       "    }\n",
       "\n",
       "    .dataframe thead th {\n",
       "        text-align: right;\n",
       "    }\n",
       "</style>\n",
       "<table border=\"1\" class=\"dataframe\">\n",
       "  <thead>\n",
       "    <tr style=\"text-align: right;\">\n",
       "      <th></th>\n",
       "      <th>circuit_name</th>\n",
       "      <th>timestamp_fgc</th>\n",
       "      <th>timestamp_fgc_datetime</th>\n",
       "    </tr>\n",
       "  </thead>\n",
       "  <tbody>\n",
       "    <tr>\n",
       "      <th>0</th>\n",
       "      <td>RB.A12</td>\n",
       "      <td>1418330714580000000</td>\n",
       "      <td>2014-12-11 21:45:14.580000+01:00</td>\n",
       "    </tr>\n",
       "    <tr>\n",
       "      <th>1</th>\n",
       "      <td>RB.A12</td>\n",
       "      <td>1418384764500000000</td>\n",
       "      <td>2014-12-12 12:46:04.500000+01:00</td>\n",
       "    </tr>\n",
       "    <tr>\n",
       "      <th>2</th>\n",
       "      <td>RB.A12</td>\n",
       "      <td>1418484670560000000</td>\n",
       "      <td>2014-12-13 16:31:10.560000+01:00</td>\n",
       "    </tr>\n",
       "    <tr>\n",
       "      <th>3</th>\n",
       "      <td>RB.A12</td>\n",
       "      <td>1418538814280000000</td>\n",
       "      <td>2014-12-14 07:33:34.280000+01:00</td>\n",
       "    </tr>\n",
       "    <tr>\n",
       "      <th>4</th>\n",
       "      <td>RB.A12</td>\n",
       "      <td>1418560853860000000</td>\n",
       "      <td>2014-12-14 13:40:53.860000+01:00</td>\n",
       "    </tr>\n",
       "    <tr>\n",
       "      <th>...</th>\n",
       "      <td>...</td>\n",
       "      <td>...</td>\n",
       "      <td>...</td>\n",
       "    </tr>\n",
       "    <tr>\n",
       "      <th>764</th>\n",
       "      <td>RB.A81</td>\n",
       "      <td>1424375721660000000</td>\n",
       "      <td>2015-02-19 20:55:21.660000+01:00</td>\n",
       "    </tr>\n",
       "    <tr>\n",
       "      <th>765</th>\n",
       "      <td>RB.A81</td>\n",
       "      <td>1424417596920000000</td>\n",
       "      <td>2015-02-20 08:33:16.920000+01:00</td>\n",
       "    </tr>\n",
       "    <tr>\n",
       "      <th>766</th>\n",
       "      <td>RB.A81</td>\n",
       "      <td>1424465417880000000</td>\n",
       "      <td>2015-02-20 21:50:17.880000+01:00</td>\n",
       "    </tr>\n",
       "    <tr>\n",
       "      <th>767</th>\n",
       "      <td>RB.A81</td>\n",
       "      <td>1424501293480000000</td>\n",
       "      <td>2015-02-21 07:48:13.480000+01:00</td>\n",
       "    </tr>\n",
       "    <tr>\n",
       "      <th>770</th>\n",
       "      <td>RB.A81</td>\n",
       "      <td>1436908751420000000</td>\n",
       "      <td>2015-07-14 23:19:11.420000+02:00</td>\n",
       "    </tr>\n",
       "  </tbody>\n",
       "</table>\n",
       "<p>160 rows × 3 columns</p>\n",
       "</div>"
      ],
      "text/plain": [
       "    circuit_name        timestamp_fgc           timestamp_fgc_datetime\n",
       "0         RB.A12  1418330714580000000 2014-12-11 21:45:14.580000+01:00\n",
       "1         RB.A12  1418384764500000000 2014-12-12 12:46:04.500000+01:00\n",
       "2         RB.A12  1418484670560000000 2014-12-13 16:31:10.560000+01:00\n",
       "3         RB.A12  1418538814280000000 2014-12-14 07:33:34.280000+01:00\n",
       "4         RB.A12  1418560853860000000 2014-12-14 13:40:53.860000+01:00\n",
       "..           ...                  ...                              ...\n",
       "764       RB.A81  1424375721660000000 2015-02-19 20:55:21.660000+01:00\n",
       "765       RB.A81  1424417596920000000 2015-02-20 08:33:16.920000+01:00\n",
       "766       RB.A81  1424465417880000000 2015-02-20 21:50:17.880000+01:00\n",
       "767       RB.A81  1424501293480000000 2015-02-21 07:48:13.480000+01:00\n",
       "770       RB.A81  1436908751420000000 2015-07-14 23:19:11.420000+02:00\n",
       "\n",
       "[160 rows x 3 columns]"
      ]
     },
     "execution_count": 10,
     "metadata": {},
     "output_type": "execute_result"
    }
   ],
   "source": [
    "df_context[~df_context.index.isin(valid_udiode_pm_index)][[\"circuit_name\", \"timestamp_fgc\", \"timestamp_fgc_datetime\"]]#.to_csv(\"missing_U_DIODE_PM.csv\")"
   ]
  },
  {
   "cell_type": "code",
   "execution_count": 50,
   "id": "1dce71ae",
   "metadata": {},
   "outputs": [
    {
     "data": {
      "text/html": [
       "<div>\n",
       "<style scoped>\n",
       "    .dataframe tbody tr th:only-of-type {\n",
       "        vertical-align: middle;\n",
       "    }\n",
       "\n",
       "    .dataframe tbody tr th {\n",
       "        vertical-align: top;\n",
       "    }\n",
       "\n",
       "    .dataframe thead th {\n",
       "        text-align: right;\n",
       "    }\n",
       "</style>\n",
       "<table border=\"1\" class=\"dataframe\">\n",
       "  <thead>\n",
       "    <tr style=\"text-align: right;\">\n",
       "      <th></th>\n",
       "      <th>circuit_name</th>\n",
       "      <th>timestamp_fgc</th>\n",
       "      <th>timestamp_fgc_datetime</th>\n",
       "      <th>VoltageNQPS_MB.C25L1:U_DIODE_RB</th>\n",
       "    </tr>\n",
       "  </thead>\n",
       "  <tbody>\n",
       "    <tr>\n",
       "      <th>810</th>\n",
       "      <td>RB.A81</td>\n",
       "      <td>1628794110760000000</td>\n",
       "      <td>2021-08-12 20:48:30.760000+02:00</td>\n",
       "      <td>2267.0</td>\n",
       "    </tr>\n",
       "    <tr>\n",
       "      <th>811</th>\n",
       "      <td>RB.A81</td>\n",
       "      <td>1628838059560000000</td>\n",
       "      <td>2021-08-13 09:00:59.560000+02:00</td>\n",
       "      <td>3600.0</td>\n",
       "    </tr>\n",
       "    <tr>\n",
       "      <th>812</th>\n",
       "      <td>RB.A81</td>\n",
       "      <td>1628882955080000000</td>\n",
       "      <td>2021-08-13 21:29:15.080000+02:00</td>\n",
       "      <td>3600.0</td>\n",
       "    </tr>\n",
       "  </tbody>\n",
       "</table>\n",
       "</div>"
      ],
      "text/plain": [
       "    circuit_name        timestamp_fgc           timestamp_fgc_datetime  \\\n",
       "810       RB.A81  1628794110760000000 2021-08-12 20:48:30.760000+02:00   \n",
       "811       RB.A81  1628838059560000000 2021-08-13 09:00:59.560000+02:00   \n",
       "812       RB.A81  1628882955080000000 2021-08-13 21:29:15.080000+02:00   \n",
       "\n",
       "     VoltageNQPS_MB.C25L1:U_DIODE_RB  \n",
       "810                           2267.0  \n",
       "811                           3600.0  \n",
       "812                           3600.0  "
      ]
     },
     "execution_count": 50,
     "metadata": {},
     "output_type": "execute_result"
    }
   ],
   "source": [
    "signal_name = \"VoltageNQPS_MB.C25L1:U_DIODE_RB\"\n",
    "df_context.iloc[df_context.filter(regex=signal_name).dropna(how='all').index.values][[\"circuit_name\", \"timestamp_fgc\", \"timestamp_fgc_datetime\",signal_name]]"
   ]
  },
  {
   "cell_type": "code",
   "execution_count": 54,
   "id": "a2cc87f2",
   "metadata": {},
   "outputs": [
    {
     "data": {
      "text/html": [
       "<div>\n",
       "<style scoped>\n",
       "    .dataframe tbody tr th:only-of-type {\n",
       "        vertical-align: middle;\n",
       "    }\n",
       "\n",
       "    .dataframe tbody tr th {\n",
       "        vertical-align: top;\n",
       "    }\n",
       "\n",
       "    .dataframe thead th {\n",
       "        text-align: right;\n",
       "    }\n",
       "</style>\n",
       "<table border=\"1\" class=\"dataframe\">\n",
       "  <thead>\n",
       "    <tr style=\"text-align: right;\">\n",
       "      <th></th>\n",
       "      <th>circuit_type</th>\n",
       "      <th>circuit_name</th>\n",
       "      <th>timestamp_fgc</th>\n",
       "      <th>PCPM_STATUS.I_MEAS</th>\n",
       "      <th>PCPM_IAB.I_A</th>\n",
       "      <th>PCPM_IEARTH.IEARTH</th>\n",
       "      <th>PCPM_STATUS.I_EARTH_PCNT</th>\n",
       "      <th>PCPM_STATUS.I_REF</th>\n",
       "      <th>VoltageNXCALS_MB.A8R1:U_DIODE_RB</th>\n",
       "      <th>VoltageNXCALS_MB.B8R1:U_DIODE_RB</th>\n",
       "      <th>...</th>\n",
       "      <th>VoltageNXCALS_MB.A8L2:U_EARTH_RB</th>\n",
       "      <th>VoltageNQPS_MB.C33L2:U_DIODE_RB</th>\n",
       "      <th>VoltageNQPS_MB.A33L2:U_DIODE_RB</th>\n",
       "      <th>VoltageNQPS_MB.B32L2:U_DIODE_RB</th>\n",
       "      <th>VoltageNQPS_DQQDS.B33L2.RB.A12:U_REF_N1</th>\n",
       "      <th>VoltageNQPS_MB.B33L2:U_DIODE_RB</th>\n",
       "      <th>VoltageNQPS_MB.C32L2:U_DIODE_RB</th>\n",
       "      <th>VoltageNQPS_MB.A32L2:U_DIODE_RB</th>\n",
       "      <th>VoltageNQPS_DQQDS.B32L2.RB.A12:U_REF_N1</th>\n",
       "      <th>timestamp_fgc_datetime</th>\n",
       "    </tr>\n",
       "  </thead>\n",
       "  <tbody>\n",
       "    <tr>\n",
       "      <th>9</th>\n",
       "      <td>RB</td>\n",
       "      <td>RB.A12</td>\n",
       "      <td>1446531949860000000</td>\n",
       "      <td>21000.0</td>\n",
       "      <td>8192.0</td>\n",
       "      <td>1024.0</td>\n",
       "      <td>21000.0</td>\n",
       "      <td>21000.0</td>\n",
       "      <td>5500.0</td>\n",
       "      <td>5500.0</td>\n",
       "      <td>...</td>\n",
       "      <td>687.0</td>\n",
       "      <td>3600.0</td>\n",
       "      <td>3600.0</td>\n",
       "      <td>3600.0</td>\n",
       "      <td>3600.0</td>\n",
       "      <td>3600.0</td>\n",
       "      <td>3600.0</td>\n",
       "      <td>3600.0</td>\n",
       "      <td>3600.0</td>\n",
       "      <td>2015-11-03 07:25:49.860000+01:00</td>\n",
       "    </tr>\n",
       "  </tbody>\n",
       "</table>\n",
       "<p>1 rows × 225 columns</p>\n",
       "</div>"
      ],
      "text/plain": [
       "  circuit_type circuit_name        timestamp_fgc  PCPM_STATUS.I_MEAS  \\\n",
       "9           RB       RB.A12  1446531949860000000             21000.0   \n",
       "\n",
       "   PCPM_IAB.I_A  PCPM_IEARTH.IEARTH  PCPM_STATUS.I_EARTH_PCNT  \\\n",
       "9        8192.0              1024.0                   21000.0   \n",
       "\n",
       "   PCPM_STATUS.I_REF  VoltageNXCALS_MB.A8R1:U_DIODE_RB  \\\n",
       "9            21000.0                            5500.0   \n",
       "\n",
       "   VoltageNXCALS_MB.B8R1:U_DIODE_RB  ...  VoltageNXCALS_MB.A8L2:U_EARTH_RB  \\\n",
       "9                            5500.0  ...                             687.0   \n",
       "\n",
       "   VoltageNQPS_MB.C33L2:U_DIODE_RB  VoltageNQPS_MB.A33L2:U_DIODE_RB  \\\n",
       "9                           3600.0                           3600.0   \n",
       "\n",
       "   VoltageNQPS_MB.B32L2:U_DIODE_RB  VoltageNQPS_DQQDS.B33L2.RB.A12:U_REF_N1  \\\n",
       "9                           3600.0                                   3600.0   \n",
       "\n",
       "   VoltageNQPS_MB.B33L2:U_DIODE_RB  VoltageNQPS_MB.C32L2:U_DIODE_RB  \\\n",
       "9                           3600.0                           3600.0   \n",
       "\n",
       "   VoltageNQPS_MB.A32L2:U_DIODE_RB  VoltageNQPS_DQQDS.B32L2.RB.A12:U_REF_N1  \\\n",
       "9                           3600.0                                   3600.0   \n",
       "\n",
       "            timestamp_fgc_datetime  \n",
       "9 2015-11-03 07:25:49.860000+01:00  \n",
       "\n",
       "[1 rows x 225 columns]"
      ]
     },
     "execution_count": 54,
     "metadata": {},
     "output_type": "execute_result"
    }
   ],
   "source": [
    "df_context[df_context.timestamp_fgc == 1446531949860000000].dropna(axis=1)"
   ]
  },
  {
   "cell_type": "markdown",
   "id": "53d9aa66",
   "metadata": {},
   "source": [
    "## Open h5 files"
   ]
  },
  {
   "cell_type": "code",
   "execution_count": 2,
   "id": "09a10211",
   "metadata": {},
   "outputs": [
    {
     "ename": "NameError",
     "evalue": "name 'df_context' is not defined",
     "output_type": "error",
     "traceback": [
      "\u001b[0;31m---------------------------------------------------------------------------\u001b[0m",
      "\u001b[0;31mNameError\u001b[0m                                 Traceback (most recent call last)",
      "\u001b[0;32m/tmp/ipykernel_624/1924203364.py\u001b[0m in \u001b[0;36m<module>\u001b[0;34m\u001b[0m\n\u001b[1;32m      1\u001b[0m \u001b[0mfile_dir\u001b[0m \u001b[0;34m=\u001b[0m \u001b[0mPath\u001b[0m\u001b[0;34m(\u001b[0m\u001b[0;34m'/eos/project/m/ml-for-alarm-system/private/RB_signals/data'\u001b[0m\u001b[0;34m)\u001b[0m\u001b[0;34m\u001b[0m\u001b[0;34m\u001b[0m\u001b[0m\n\u001b[1;32m      2\u001b[0m \u001b[0;34m\u001b[0m\u001b[0m\n\u001b[0;32m----> 3\u001b[0;31m \u001b[0;32mfor\u001b[0m \u001b[0mindex\u001b[0m\u001b[0;34m,\u001b[0m \u001b[0mrow\u001b[0m \u001b[0;32min\u001b[0m \u001b[0mdf_context\u001b[0m\u001b[0;34m.\u001b[0m\u001b[0miterrows\u001b[0m\u001b[0;34m(\u001b[0m\u001b[0;34m)\u001b[0m\u001b[0;34m:\u001b[0m\u001b[0;34m\u001b[0m\u001b[0;34m\u001b[0m\u001b[0m\n\u001b[0m\u001b[1;32m      4\u001b[0m     \u001b[0mcircuit_type\u001b[0m \u001b[0;34m=\u001b[0m \u001b[0;34m'RB'\u001b[0m \u001b[0;31m#row['circuit_type']\u001b[0m\u001b[0;34m\u001b[0m\u001b[0;34m\u001b[0m\u001b[0m\n\u001b[1;32m      5\u001b[0m     \u001b[0mcircuit_name\u001b[0m \u001b[0;34m=\u001b[0m \u001b[0;34m'RB.A12'\u001b[0m \u001b[0;31m#row['circuit_name']\u001b[0m\u001b[0;34m\u001b[0m\u001b[0;34m\u001b[0m\u001b[0m\n",
      "\u001b[0;31mNameError\u001b[0m: name 'df_context' is not defined"
     ]
    }
   ],
   "source": [
    "file_dir = Path('/eos/project/m/ml-for-alarm-system/private/RB_signals/data')\n",
    "\n",
    "for index, row in df_context.iterrows():   \n",
    "    circuit_type = 'RB' #row['circuit_type']\n",
    "    circuit_name = 'RB.A12' #row['circuit_name']\n",
    "    timestamp_fgc = 1619196160600000000 #row['timestamp_fgc']\n",
    "    \n",
    "    filename = f\"{circuit_type}_{circuit_name}_{timestamp_fgc}.hdf5\"\n",
    "    \n",
    "    with h5py.File(file_dir / filename, \"r\") as f:\n",
    "        \n",
    "        k = np.array(f.keys())\n",
    "        print(k)\n",
    "\n",
    "        #plt.plot(np.array(f[\"VoltageNXCALS\"][\"MB.A31L2:U_DIODE_RB\"].get(\"values\")))\n",
    "        \n",
    "    break"
   ]
  },
  {
   "cell_type": "code",
   "execution_count": 8,
   "id": "0c473068",
   "metadata": {},
   "outputs": [],
   "source": [
    "import matplotlib.pyplot as plt"
   ]
  },
  {
   "cell_type": "code",
   "execution_count": 18,
   "id": "25ef5f2c",
   "metadata": {},
   "outputs": [
    {
     "data": {
      "text/plain": [
       "array([2, 4, 6])"
      ]
     },
     "execution_count": 18,
     "metadata": {},
     "output_type": "execute_result"
    }
   ],
   "source": [
    "np.array([1,2,3])*2"
   ]
  },
  {
   "cell_type": "code",
   "execution_count": 32,
   "id": "a101023f",
   "metadata": {},
   "outputs": [],
   "source": [
    "def fun(x):\n",
    "    plt.plot(np.array([1,2,3])*x)\n"
   ]
  },
  {
   "cell_type": "code",
   "execution_count": 36,
   "id": "fc150ac9",
   "metadata": {},
   "outputs": [
    {
     "data": {
      "text/plain": [
       "Text(0.5, 0.98, 'Main title')"
      ]
     },
     "execution_count": 36,
     "metadata": {},
     "output_type": "execute_result"
    },
    {
     "data": {
      "image/png": "[encoded data removed]",
      "text/plain": [
       "<Figure size 432x288 with 3 Axes>"
      ]
     },
     "metadata": {
      "needs_background": "light"
     },
     "output_type": "display_data"
    }
   ],
   "source": [
    "fig = plt.figure()\n",
    "fig.add_subplot(1, 3, 1)\n",
    "fun(1)\n",
    "fig.add_subplot(1, 3, 2)\n",
    "fun(2)\n",
    "fig.add_subplot(1, 3, 3)\n",
    "fun(2)\n",
    "\n",
    "fig.suptitle('Main title')"
   ]
  },
  {
   "cell_type": "code",
   "execution_count": 35,
   "id": "f5a64094",
   "metadata": {},
   "outputs": [
    {
     "ename": "AttributeError",
     "evalue": "'str' object has no attribute 'contain'",
     "output_type": "error",
     "traceback": [
      "\u001b[0;31m---------------------------------------------------------------------------\u001b[0m",
      "\u001b[0;31mAttributeError\u001b[0m                            Traceback (most recent call last)",
      "\u001b[0;32m/tmp/ipykernel_624/881902604.py\u001b[0m in \u001b[0;36m<module>\u001b[0;34m\u001b[0m\n\u001b[1;32m      1\u001b[0m \u001b[0mk\u001b[0m \u001b[0;34m=\u001b[0m \u001b[0;34m\"baby\"\u001b[0m\u001b[0;34m\u001b[0m\u001b[0;34m\u001b[0m\u001b[0m\n\u001b[0;32m----> 2\u001b[0;31m \u001b[0mk\u001b[0m\u001b[0;34m.\u001b[0m\u001b[0mcontain\u001b[0m\u001b[0;34m(\u001b[0m\u001b[0;34m\"by\"\u001b[0m\u001b[0;34m)\u001b[0m\u001b[0;34m\u001b[0m\u001b[0;34m\u001b[0m\u001b[0m\n\u001b[0m",
      "\u001b[0;31mAttributeError\u001b[0m: 'str' object has no attribute 'contain'"
     ]
    }
   ],
   "source": [
    "k = \"baby\"\n",
    "k.contain(\"by\")"
   ]
  },
  {
   "cell_type": "code",
   "execution_count": null,
   "id": "2d1627c2",
   "metadata": {},
   "outputs": [],
   "source": []
  },
  {
   "cell_type": "code",
   "execution_count": null,
   "id": "3806696a",
   "metadata": {},
   "outputs": [],
   "source": []
  }
 ],
 "metadata": {
  "kernelspec": {
   "display_name": "Python 3",
   "language": "python",
   "name": "python3"
  },
  "language_info": {
   "codemirror_mode": {
    "name": "ipython",
    "version": 3
   },
   "file_extension": ".py",
   "mimetype": "text/x-python",
   "name": "python",
   "nbconvert_exporter": "python",
   "pygments_lexer": "ipython3",
   "version": "3.9.6"
  },
  "sparkconnect": {
   "bundled_options": [],
   "list_of_options": []
  }
 },
 "nbformat": 4,
 "nbformat_minor": 5
}
