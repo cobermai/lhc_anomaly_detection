{
 "cells": [
  {
   "cell_type": "code",
   "execution_count": null,
   "id": "f0260dd6",
   "metadata": {},
   "outputs": [],
   "source": [
    "from pathlib import Path\n",
    "\n",
    "import pandas as pd\n",
    "import numpy as np\n",
    "import matplotlib.pyplot as plt\n",
    "import h5py"
   ]
  },
  {
   "cell_type": "code",
   "execution_count": null,
   "id": "4a08c515",
   "metadata": {},
   "outputs": [],
   "source": [
    "hdf_dir = Path('/eos/project/m/ml-for-alarm-system/private/RB_signals/data')\n",
    "failed_dir = Path('/eos/project/m/ml-for-alarm-system/private/RB_signals/failed_queries.csv')\n",
    "context_path = Path('/eos/project/m/ml-for-alarm-system/private/RB_signals/context_data.csv')"
   ]
  },
  {
   "cell_type": "markdown",
   "id": "bb1eb899",
   "metadata": {},
   "source": [
    "# Analyze data aquisition"
   ]
  },
  {
   "cell_type": "code",
   "execution_count": null,
   "id": "998b111e",
   "metadata": {},
   "outputs": [],
   "source": [
    "df_context = pd.read_csv(context_path)\n",
    "df_context"
   ]
  },
  {
   "cell_type": "code",
   "execution_count": null,
   "id": "8f9a4a4d",
   "metadata": {},
   "outputs": [],
   "source": [
    "df_failed = pd.read_csv(failed_dir)\n",
    "df_failed"
   ]
  },
  {
   "cell_type": "markdown",
   "id": "53d9aa66",
   "metadata": {},
   "source": [
    "# Open h5 files"
   ]
  },
  {
   "cell_type": "code",
   "execution_count": null,
   "id": "09a10211",
   "metadata": {},
   "outputs": [],
   "source": [
    "file_dir = Path('/eos/project/m/ml-for-alarm-system/private/RB_signals/data')\n",
    "\n",
    "for index, row in df_context.iterrows():   \n",
    "    circuit_type = 'RB' #row['circuit_type']\n",
    "    circuit_name = 'RB.A45' #row['circuit_name']\n",
    "    timestamp_fgc = 1492946941100000000 #row['timestamp_fgc']\n",
    "    \n",
    "    filename = f\"{circuit_type}_{circuit_name}_{timestamp_fgc}.hdf5\"\n",
    "    \n",
    "    with h5py.File(file_dir / filename, \"r\") as f:\n",
    "        k = np.array(f.keys())\n",
    "        print(k)\n",
    "        print(np.array(f[\"IEARTH.IEARTH\"].get(\"values\")))\n",
    "        \n",
    "    break"
   ]
  },
  {
   "cell_type": "code",
   "execution_count": null,
   "id": "78bcc4db",
   "metadata": {
    "scrolled": false
   },
   "outputs": [],
   "source": [
    "import sys\n",
    "from pathlib import Path\n",
    "sys.path.insert(0,'..')\n",
    "from src.acquisitions.pc_pm import PCPM\n",
    "from src.acquisitions.voltage_logic_nqps import VoltageLogicNQPS\n",
    "\n",
    "circuit_type = 'RB' #row['circuit_type']\n",
    "circuit_name = 'RB.A45' #row['circuit_name']\n",
    "timestamp_fgc = 1481636367560000000 #row['timestamp_fgc']\n",
    "\n",
    "VoltageLogicNQPS(circuit_type, circuit_name, timestamp_fgc, spark=spark).get_signal_data()"
   ]
  },
  {
   "cell_type": "code",
   "execution_count": null,
   "id": "11d2d7ab",
   "metadata": {},
   "outputs": [],
   "source": [
    "c = CurrentVoltageDiodeLeadsNXCALS(circuit_type, circuit_name, timestamp_fgc, spark=spark)\n",
    "\n",
    "c.query_builder.query_current_voltage_diode_leads_nxcals(c.signal_timestamp, spark=c.spark, duration=c.duration)"
   ]
  },
  {
   "cell_type": "code",
   "execution_count": null,
   "id": "02336b9e",
   "metadata": {},
   "outputs": [],
   "source": []
  }
 ],
 "metadata": {
  "kernelspec": {
   "display_name": "Python 3",
   "language": "python",
   "name": "python3"
  },
  "language_info": {
   "codemirror_mode": {
    "name": "ipython",
    "version": 3
   },
   "file_extension": ".py",
   "mimetype": "text/x-python",
   "name": "python",
   "nbconvert_exporter": "python",
   "pygments_lexer": "ipython3",
   "version": "3.8.6"
  },
  "sparkconnect": {
   "bundled_options": [],
   "list_of_options": []
  }
 },
 "nbformat": 4,
 "nbformat_minor": 5
}
