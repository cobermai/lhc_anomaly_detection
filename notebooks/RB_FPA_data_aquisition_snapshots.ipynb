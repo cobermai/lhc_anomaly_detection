{
 "cells": [
  {
   "cell_type": "markdown",
   "id": "de62fb17",
   "metadata": {
    "pycharm": {
     "name": "#%% md\n"
    }
   },
   "source": [
    "# Import libraries"
   ]
  },
  {
   "cell_type": "code",
   "execution_count": 3,
   "id": "28e55775",
   "metadata": {
    "pycharm": {
     "name": "#%%\n"
    }
   },
   "outputs": [],
   "source": [
    "import sys\n",
    "from pathlib import Path\n",
    "sys.path.insert(0,'..')\n",
    "#!pip install openpyxl"
   ]
  },
  {
   "cell_type": "code",
   "execution_count": 4,
   "id": "c7662299",
   "metadata": {
    "pycharm": {
     "name": "#%%\n"
    }
   },
   "outputs": [
    {
     "name": "stderr",
     "output_type": "stream",
     "text": [
      "`np.float` is a deprecated alias for the builtin `float`. To silence this warning, use `float` by itself. Doing this will not modify any behavior and is safe. If you specifically wanted the numpy scalar type, use `np.float64` here.\n",
      "Deprecated in NumPy 1.20; for more details and guidance: https://numpy.org/devdocs/release/1.20.0-notes.html#deprecations\n",
      "`np.float` is a deprecated alias for the builtin `float`. To silence this warning, use `float` by itself. Doing this will not modify any behavior and is safe. If you specifically wanted the numpy scalar type, use `np.float64` here.\n",
      "Deprecated in NumPy 1.20; for more details and guidance: https://numpy.org/devdocs/release/1.20.0-notes.html#deprecations\n",
      "`np.float` is a deprecated alias for the builtin `float`. To silence this warning, use `float` by itself. Doing this will not modify any behavior and is safe. If you specifically wanted the numpy scalar type, use `np.float64` here.\n",
      "Deprecated in NumPy 1.20; for more details and guidance: https://numpy.org/devdocs/release/1.20.0-notes.html#deprecations\n",
      "`np.float` is a deprecated alias for the builtin `float`. To silence this warning, use `float` by itself. Doing this will not modify any behavior and is safe. If you specifically wanted the numpy scalar type, use `np.float64` here.\n",
      "Deprecated in NumPy 1.20; for more details and guidance: https://numpy.org/devdocs/release/1.20.0-notes.html#deprecations\n",
      "`np.float` is a deprecated alias for the builtin `float`. To silence this warning, use `float` by itself. Doing this will not modify any behavior and is safe. If you specifically wanted the numpy scalar type, use `np.float64` here.\n",
      "Deprecated in NumPy 1.20; for more details and guidance: https://numpy.org/devdocs/release/1.20.0-notes.html#deprecations\n",
      "`np.float` is a deprecated alias for the builtin `float`. To silence this warning, use `float` by itself. Doing this will not modify any behavior and is safe. If you specifically wanted the numpy scalar type, use `np.float64` here.\n",
      "Deprecated in NumPy 1.20; for more details and guidance: https://numpy.org/devdocs/release/1.20.0-notes.html#deprecations\n",
      "`np.float` is a deprecated alias for the builtin `float`. To silence this warning, use `float` by itself. Doing this will not modify any behavior and is safe. If you specifically wanted the numpy scalar type, use `np.float64` here.\n",
      "Deprecated in NumPy 1.20; for more details and guidance: https://numpy.org/devdocs/release/1.20.0-notes.html#deprecations\n",
      "`np.float` is a deprecated alias for the builtin `float`. To silence this warning, use `float` by itself. Doing this will not modify any behavior and is safe. If you specifically wanted the numpy scalar type, use `np.float64` here.\n",
      "Deprecated in NumPy 1.20; for more details and guidance: https://numpy.org/devdocs/release/1.20.0-notes.html#deprecations\n",
      "`np.float` is a deprecated alias for the builtin `float`. To silence this warning, use `float` by itself. Doing this will not modify any behavior and is safe. If you specifically wanted the numpy scalar type, use `np.float64` here.\n",
      "Deprecated in NumPy 1.20; for more details and guidance: https://numpy.org/devdocs/release/1.20.0-notes.html#deprecations\n"
     ]
    }
   ],
   "source": [
    "import os\n",
    "import pandas as pd\n",
    "import matplotlib.pyplot as plt\n",
    "import re\n",
    "\n",
    "from lhcsmapi.Time import Time\n",
    "from lhcsmapi.analysis.RbCircuitQuery import RbCircuitQuery\n",
    "from scipy import stats\n",
    "\n",
    "from src.acquisitions.pc_pm import PCPM\n",
    "from src.acquisitions.voltage_nqps import VoltageNQPS\n",
    "\n",
    "from src.utils.utils import log_acquisition\n",
    "from src.utils.hdf_tools import acquisition_to_hdf5, load_from_hdf_with_regex\n",
    "from src.visualisation.visualisation import plot_hdf"
   ]
  },
  {
   "cell_type": "markdown",
   "id": "cd937e9f",
   "metadata": {
    "pycharm": {
     "name": "#%% md\n"
    }
   },
   "source": [
    "# Select events to download"
   ]
  },
  {
   "cell_type": "code",
   "execution_count": 3,
   "id": "1f8bceae",
   "metadata": {
    "pycharm": {
     "name": "#%%\n"
    }
   },
   "outputs": [],
   "source": [
    "# Define list of relevant tests (from https://twiki.cern.ch/twiki/bin/viewauth/MP3/FPAinRB)\n",
    "list_timestamp_fgc_string = {\n",
    "    # Cases :  2kA@10A/s,             2kA flat top,            5kA@10A/s,           5kA flat top,          8kA@10A/s,             8kA flat top,          11kA@10A/s,            11kA flat top\n",
    "    'RB.A12': ['20210929-171841.860', '20220324-142234.020', '20220317-173754.160', '20220318-180302.900', '20220324-113250.100', '20220317-082527.640', '20220321-174349.880', '20220314-182111.500',], # RB.A12\n",
    "    'RB.A23': ['20211007-172946.940', '20220513-151726.480', '20220420-154328.720', '20220513-164703.480', '20220516-172626.320', '20220311-164815.980', '20220420-094801.980', '20220412-110941.500',], # RB.A23\n",
    "    'RB.A34': ['20210917-165956.200', '20220321-173018.160', '20220317-173859.020', '20220317-143906.740', '20220317-114529.560', '20220317-082141.440', '20220315-180726.000', '20220314-180355.300',], # RB.A34\n",
    "    'RB.A45': ['20210714-172843.720', '20220324-172052.620', '20220317-173955.340', '20220324-161221.920', '20220324-142807.040', '20220317-082212.300', '20220315-180946.660', '20220314-180432.060',], # RB.A45\n",
    "    'RB.A56': ['20210715-172329.660', '20220325-133158.060', '20220317-174047.920', '20220324-171334.780', '20220324-152927.080', '20220317-082233.180', '20220315-180837.380', '20220314-180456.120',], # RB.A56\n",
    "    'RB.A67': ['20210716-165040.520', '20220310-104434.420', '20220310-112544.240', '20220303-175132.120', '20220310-143922.380', '20220310-120722.100', '20220311-170356.700', '20220314-180525.040',], # RB.A67\n",
    "    'RB.A78': ['20220225-164757.500', '20220310-104452.800', '20220310-125030.720', '20220310-112559.500', '20220310-165252.980', '20220310-143749.600', '20220321-172944.960', '20220311-170212.220',], # RB.A78\n",
    "    'RB.A81': ['20210811-171210.020', '20220324-142253.660', '20220324-171155.840', '20220325-121835.180', '20220317-173556.780', '20220324-152810.860', '20220321-172902.140', '20220324-113328.260',], # RB.A81\n",
    "    }\n",
    "list_cases = ['2kA@10A/s', '2kA flat top', '5kA@10A/s', '5kA flat top', '8kA@10A/s', '8kA flat top', '11kA@10A/s', '11kA flat top']  # list of relevant cases"
   ]
  },
  {
   "cell_type": "code",
   "execution_count": 4,
   "id": "5daacaa1",
   "metadata": {
    "pycharm": {
     "name": "#%%\n"
    }
   },
   "outputs": [],
   "source": [
    "fpa_identifiers = ['RB_RB.A12_1632928721860000000',\n",
    "                 'RB_RB.A12_1647278471500000000',\n",
    "                 'RB_RB.A12_1647501927640000000',\n",
    "                 'RB_RB.A12_1647535074160000000',\n",
    "                 'RB_RB.A12_1647622982900000000',\n",
    "                 'RB_RB.A12_1647881029880000000',\n",
    "                 'RB_RB.A12_1648117970100000000',\n",
    "                 'RB_RB.A12_1648128154020000000',\n",
    "                 'RB_RB.A23_1633620586940000000',\n",
    "                 'RB_RB.A23_1647013695980000000',\n",
    "                 'RB_RB.A23_1649754581500000000',\n",
    "                 'RB_RB.A23_1650440881980000000',\n",
    "                 'RB_RB.A23_1650462208720000000',\n",
    "                 'RB_RB.A23_1652447846480000000',\n",
    "                 'RB_RB.A23_1652453223480000000',\n",
    "                 'RB_RB.A23_1652714786320000000',\n",
    "                 'RB_RB.A34_1631890796200000000',\n",
    "                 'RB_RB.A34_1647277435300000000',\n",
    "                 'RB_RB.A34_1647364046000000000',\n",
    "                 'RB_RB.A34_1647501701440000000',\n",
    "                 'RB_RB.A34_1647513929560000000',\n",
    "                 'RB_RB.A34_1647524346740000000',\n",
    "                 'RB_RB.A34_1647535139020000000',\n",
    "                 'RB_RB.A34_1647880218160000000',\n",
    "                 'RB_RB.A45_1626276523720000000',\n",
    "                 'RB_RB.A45_1647277472060000000',\n",
    "                 'RB_RB.A45_1647364186660000000',\n",
    "                 'RB_RB.A45_1647501732300000000',\n",
    "                 'RB_RB.A45_1647535195340000000',\n",
    "                 'RB_RB.A45_1648128487040000000',\n",
    "                 'RB_RB.A45_1648134741920000000',\n",
    "                 'RB_RB.A45_1648138852620000000',\n",
    "                 'RB_RB.A56_1626362609660000000',\n",
    "                 'RB_RB.A56_1647277496120000000',\n",
    "                 'RB_RB.A56_1647364117380000000',\n",
    "                 'RB_RB.A56_1647501753180000000',\n",
    "                 'RB_RB.A56_1647535247920000000',\n",
    "                 'RB_RB.A56_1648132167080000000',\n",
    "                 'RB_RB.A56_1648138414780000000',\n",
    "                 'RB_RB.A56_1648211518060000000',\n",
    "                 'RB_RB.A67_1626447040520000000',\n",
    "                 'RB_RB.A67_1646326292120000000',\n",
    "                 'RB_RB.A67_1646905474420000000',\n",
    "                 'RB_RB.A67_1646907944240000000',\n",
    "                 'RB_RB.A67_1646910442100000000',\n",
    "                 'RB_RB.A67_1646919562380000000',\n",
    "                 'RB_RB.A67_1647014636700000000',\n",
    "                 'RB_RB.A67_1647277525040000000',\n",
    "                 'RB_RB.A78_1645804077500000000',\n",
    "                 'RB_RB.A78_1646905492800000000',\n",
    "                 'RB_RB.A78_1646907959500000000',\n",
    "                 'RB_RB.A78_1646913030720000000',\n",
    "                 'RB_RB.A78_1646919469600000000',\n",
    "                 'RB_RB.A78_1646927572980000000',\n",
    "                 'RB_RB.A78_1647014532220000000',\n",
    "                 'RB_RB.A78_1647880184960000000',\n",
    "                 'RB_RB.A81_1628694730020000000',\n",
    "                 'RB_RB.A81_1647534956780000000',\n",
    "                 'RB_RB.A81_1647880142140000000',\n",
    "                 'RB_RB.A81_1648118008260000000',\n",
    "                 'RB_RB.A81_1648128173660000000',\n",
    "                 'RB_RB.A81_1648132090860000000',\n",
    "                 'RB_RB.A81_1648138315840000000',\n",
    "                 'RB_RB.A81_1648207115180000000']"
   ]
  },
  {
   "cell_type": "code",
   "execution_count": 5,
   "id": "3a4a09f6",
   "metadata": {
    "pycharm": {
     "name": "#%%\n"
    }
   },
   "outputs": [],
   "source": [
    "signal_groups = [PCPM, VoltageNQPS]\n",
    "file_dir = Path('/eos/project/m/ml-for-alarm-system/private/RB_signals')"
   ]
  },
  {
   "cell_type": "markdown",
   "id": "d38ea646",
   "metadata": {
    "pycharm": {
     "name": "#%% md\n"
    }
   },
   "source": [
    "## Test query"
   ]
  },
  {
   "cell_type": "code",
   "execution_count": null,
   "id": "d2185d39",
   "metadata": {
    "pycharm": {
     "name": "#%%\n"
    }
   },
   "outputs": [],
   "source": [
    "# quench with precursor\n",
    "fpa_identifier = {'circuit_type': 'RB',\n",
    "                 'circuit_name': 'RB.A81',\n",
    "                 'timestamp_fgc': 1648207115180000000}"
   ]
  },
  {
   "cell_type": "code",
   "execution_count": null,
   "id": "27819830",
   "metadata": {
    "pycharm": {
     "name": "#%%\n"
    }
   },
   "outputs": [],
   "source": [
    "context_path = file_dir / \"20221123_context_snapshots\"\n",
    "\n",
    "for signal_group in signal_groups:\n",
    "    group = signal_group(**fpa_identifier, spark=spark)\n",
    "    acquisition_to_hdf5(acquisition=group, \n",
    "                        file_dir=file_dir, \n",
    "                        context_dir_name=\"20221123_snapshots_context\",\n",
    "                        failed_queries_dir_name=\"20221123_snapshots_failed\",\n",
    "                        data_dir_name=\"\")\n",
    "        \n",
    "log_acquisition(identifier=fpa_identifier, log_data={\"download_complete\": True}, log_path=context_path)"
   ]
  },
  {
   "cell_type": "markdown",
   "id": "70688c74",
   "metadata": {
    "pycharm": {
     "name": "#%% md\n"
    }
   },
   "source": [
    "## Load data"
   ]
  },
  {
   "cell_type": "code",
   "execution_count": null,
   "id": "fe0bc150",
   "metadata": {
    "pycharm": {
     "name": "#%%\n"
    }
   },
   "outputs": [],
   "source": [
    "file_name = f\"RB_RB.A81_1648207115180000000.hdf5\"\n",
    "file_path = file_dir / Path(\"20221123_snapshots_data\") / file_name\n",
    "\n",
    "signals = ['I_MEAS','VoltageNQPS.*U_DIODE']\n",
    "len(signals)"
   ]
  },
  {
   "cell_type": "code",
   "execution_count": null,
   "id": "5d1dc84d",
   "metadata": {
    "pycharm": {
     "name": "#%%\n"
    }
   },
   "outputs": [],
   "source": [
    "data = load_from_hdf_with_regex(file_path)"
   ]
  },
  {
   "cell_type": "code",
   "execution_count": null,
   "id": "f9225787",
   "metadata": {
    "pycharm": {
     "name": "#%%\n"
    }
   },
   "outputs": [],
   "source": [
    "plot_hdf(data, column_regex=signals)"
   ]
  },
  {
   "cell_type": "markdown",
   "id": "9b1bf5b8",
   "metadata": {
    "pycharm": {
     "name": "#%% md\n"
    }
   },
   "source": [
    "## Query all FGC events"
   ]
  },
  {
   "cell_type": "code",
   "execution_count": 6,
   "id": "cf70a41c",
   "metadata": {
    "pycharm": {
     "name": "#%%\n"
    }
   },
   "outputs": [],
   "source": [
    "signals = ['I_MEAS','VoltageNQPS.*U_DIODE']"
   ]
  },
  {
   "cell_type": "code",
   "execution_count": 13,
   "id": "434809ed",
   "metadata": {
    "scrolled": false,
    "pycharm": {
     "name": "#%%\n"
    }
   },
   "outputs": [
    {
     "name": "stdout",
     "output_type": "stream",
     "text": [
      "\tQuerying PM event signal(s) STATUS.I_MEAS, IAB.I_A, IEARTH.I_EARTH, STATUS.I_EARTH_PCNT, STATUS.I_REF for system: FGC, className: lhc_self_pmd, source: RPTE.UA23.RB.A12 at 2021-09-29 17:18:41.860\n",
      "\tQuerying PM event timestamps for system: QPS, className: DQAMGNSRB_PMREL, source: * from 2021-09-29 17:18:31.860 to 2021-09-29 17:25:21.860\n"
     ]
    },
    {
     "name": "stderr",
     "output_type": "stream",
     "text": [
      "Post Mortem returned no data for the following query: http://pm-rest.cern.ch/v2//pmdata/header/within/duration?system=QPS&className=DQAMGNSRB_PMREL&source=*&fromTimestampInNanos=1632928711860000000&durationInNanos=410000000000\n",
      "Some nQPS PM buffers missing. ['B8R1', 'B9R1', 'B10R1', 'B11R1', 'B12R1', 'B13R1', 'B14R1', 'B15R1', 'B16R1', 'B17R1', 'B18R1', 'B19R1', 'B20R1', 'B21R1', 'B22R1', 'B23R1', 'B24R1', 'B25R1', 'B26R1', 'B27R1', 'B28R1', 'B29R1', 'B30R1', 'B31R1', 'B32R1', 'B33R1', 'B34R1', 'B34L2', 'B33L2', 'B32L2', 'B31L2', 'B30L2', 'B29L2', 'B28L2', 'B27L2', 'B26L2', 'B25L2', 'B24L2', 'B23L2', 'B22L2', 'B21L2', 'B20L2', 'B19L2', 'B18L2', 'B17L2', 'B16L2', 'B15L2', 'B14L2', 'B13L2', 'B12L2', 'B11L2', 'B10L2', 'B9L2', 'B8L2'] not found for RB.A12 within [(10, 's'), (400, 's')] around 1632928721860000000.\n"
     ]
    },
    {
     "name": "stdout",
     "output_type": "stream",
     "text": [
      "\tQuerying PM event signal(s) STATUS.I_MEAS, IAB.I_A, IEARTH.I_EARTH, STATUS.I_EARTH_PCNT, STATUS.I_REF for system: FGC, className: lhc_self_pmd, source: RPTE.UA23.RB.A12 at 2022-03-14 18:21:11.500\n",
      "\tQuerying PM event timestamps for system: QPS, className: DQAMGNSRB_PMREL, source: * from 2022-03-14 18:21:01.500 to 2022-03-14 18:27:51.500\n"
     ]
    },
    {
     "name": "stderr",
     "output_type": "stream",
     "text": [
      "Some nQPS PM buffers missing. ['B13R1'] not found for RB.A12 within [(10, 's'), (400, 's')] around 1647278471500000000.\n"
     ]
    },
    {
     "name": "stdout",
     "output_type": "stream",
     "text": [
      "\tQuerying PM event signal(s) STATUS.I_MEAS, IAB.I_A, IEARTH.I_EARTH, STATUS.I_EARTH_PCNT, STATUS.I_REF for system: FGC, className: lhc_self_pmd, source: RPTE.UA23.RB.A12 at 2022-03-17 08:25:27.640\n",
      "\tQuerying PM event timestamps for system: QPS, className: DQAMGNSRB_PMREL, source: * from 2022-03-17 08:25:17.640 to 2022-03-17 08:32:07.640\n"
     ]
    },
    {
     "name": "stderr",
     "output_type": "stream",
     "text": [
      "Some nQPS PM buffers missing. ['B13R1'] not found for RB.A12 within [(10, 's'), (400, 's')] around 1647501927640000000.\n"
     ]
    },
    {
     "name": "stdout",
     "output_type": "stream",
     "text": [
      "\tQuerying PM event signal(s) STATUS.I_MEAS, IAB.I_A, IEARTH.I_EARTH, STATUS.I_EARTH_PCNT, STATUS.I_REF for system: FGC, className: lhc_self_pmd, source: RPTE.UA23.RB.A12 at 2022-03-17 17:37:54.160\n",
      "\tQuerying PM event timestamps for system: QPS, className: DQAMGNSRB_PMREL, source: * from 2022-03-17 17:37:44.160 to 2022-03-17 17:44:34.160\n"
     ]
    },
    {
     "name": "stderr",
     "output_type": "stream",
     "text": [
      "Some nQPS PM buffers missing. ['B13R1'] not found for RB.A12 within [(10, 's'), (400, 's')] around 1647535074160000000.\n"
     ]
    },
    {
     "name": "stdout",
     "output_type": "stream",
     "text": [
      "\tQuerying PM event signal(s) STATUS.I_MEAS, IAB.I_A, IEARTH.I_EARTH, STATUS.I_EARTH_PCNT, STATUS.I_REF for system: FGC, className: lhc_self_pmd, source: RPTE.UA23.RB.A12 at 2022-03-18 18:03:02.900\n",
      "\tQuerying PM event timestamps for system: QPS, className: DQAMGNSRB_PMREL, source: * from 2022-03-18 18:02:52.900 to 2022-03-18 18:09:42.900\n"
     ]
    },
    {
     "name": "stderr",
     "output_type": "stream",
     "text": [
      "Some nQPS PM buffers missing. ['B13R1'] not found for RB.A12 within [(10, 's'), (400, 's')] around 1647622982900000000.\n"
     ]
    },
    {
     "name": "stdout",
     "output_type": "stream",
     "text": [
      "\tQuerying PM event signal(s) STATUS.I_MEAS, IAB.I_A, IEARTH.I_EARTH, STATUS.I_EARTH_PCNT, STATUS.I_REF for system: FGC, className: lhc_self_pmd, source: RPTE.UA23.RB.A12 at 2022-03-21 17:43:49.880\n",
      "\tQuerying PM event timestamps for system: QPS, className: DQAMGNSRB_PMREL, source: * from 2022-03-21 17:43:39.880 to 2022-03-21 17:50:29.880\n"
     ]
    },
    {
     "name": "stderr",
     "output_type": "stream",
     "text": [
      "Some nQPS PM buffers missing. ['B13R1'] not found for RB.A12 within [(10, 's'), (400, 's')] around 1647881029880000000.\n"
     ]
    },
    {
     "name": "stdout",
     "output_type": "stream",
     "text": [
      "\tQuerying PM event signal(s) STATUS.I_MEAS, IAB.I_A, IEARTH.I_EARTH, STATUS.I_EARTH_PCNT, STATUS.I_REF for system: FGC, className: lhc_self_pmd, source: RPTE.UA23.RB.A12 at 2022-03-24 11:32:50.100\n",
      "\tQuerying PM event timestamps for system: QPS, className: DQAMGNSRB_PMREL, source: * from 2022-03-24 11:32:40.100 to 2022-03-24 11:39:30.100\n"
     ]
    },
    {
     "name": "stderr",
     "output_type": "stream",
     "text": [
      "Some nQPS PM buffers missing. ['B13R1'] not found for RB.A12 within [(10, 's'), (400, 's')] around 1648117970100000000.\n"
     ]
    },
    {
     "name": "stdout",
     "output_type": "stream",
     "text": [
      "\tQuerying PM event signal(s) STATUS.I_MEAS, IAB.I_A, IEARTH.I_EARTH, STATUS.I_EARTH_PCNT, STATUS.I_REF for system: FGC, className: lhc_self_pmd, source: RPTE.UA23.RB.A12 at 2022-03-24 14:22:34.020\n",
      "\tQuerying PM event timestamps for system: QPS, className: DQAMGNSRB_PMREL, source: * from 2022-03-24 14:22:24.020 to 2022-03-24 14:29:14.020\n"
     ]
    },
    {
     "name": "stderr",
     "output_type": "stream",
     "text": [
      "Some nQPS PM buffers missing. ['B8R1', 'B9R1', 'B10R1', 'B11R1', 'B12R1', 'B13R1', 'B14R1', 'B15R1', 'B16R1', 'B17R1', 'B18R1', 'B19R1', 'B20R1', 'B21R1', 'B22R1', 'B23R1', 'B24R1', 'B25R1', 'B26R1', 'B27R1', 'B28R1', 'B29R1', 'B30R1', 'B31R1', 'B32R1', 'B33R1', 'B34R1', 'B34L2', 'B33L2', 'B32L2', 'B31L2', 'B30L2', 'B29L2', 'B28L2', 'B27L2', 'B26L2', 'B25L2', 'B24L2', 'B23L2', 'B22L2', 'B21L2', 'B20L2', 'B19L2', 'B18L2', 'B17L2', 'B16L2', 'B15L2', 'B14L2', 'B13L2', 'B12L2', 'B11L2', 'B10L2', 'B9L2', 'B8L2'] not found for RB.A12 within [(10, 's'), (400, 's')] around 1648128154020000000.\n"
     ]
    },
    {
     "name": "stdout",
     "output_type": "stream",
     "text": [
      "\tQuerying PM event signal(s) STATUS.I_MEAS, IAB.I_A, IEARTH.I_EARTH, STATUS.I_EARTH_PCNT, STATUS.I_REF for system: FGC, className: lhc_self_pmd, source: RPTE.UA27.RB.A23 at 2021-10-07 17:29:46.940\n",
      "\tQuerying PM event timestamps for system: QPS, className: DQAMGNSRB_PMREL, source: * from 2021-10-07 17:29:36.940 to 2021-10-07 17:36:26.940\n"
     ]
    },
    {
     "name": "stderr",
     "output_type": "stream",
     "text": [
      "Post Mortem returned no data for the following query: http://pm-rest.cern.ch/v2//pmdata/header/within/duration?system=QPS&className=DQAMGNSRB_PMREL&source=*&fromTimestampInNanos=1633620576940000000&durationInNanos=410000000000\n",
      "Some nQPS PM buffers missing. ['B8R2', 'B9R2', 'B10R2', 'B11R2', 'B12R2', 'B13R2', 'B14R2', 'B15R2', 'B16R2', 'B17R2', 'B18R2', 'B19R2', 'B20R2', 'B21R2', 'B22R2', 'B23R2', 'B24R2', 'B25R2', 'B26R2', 'B27R2', 'B28R2', 'B29R2', 'B30R2', 'B31R2', 'B32R2', 'B33R2', 'B34R2', 'B34L3', 'B33L3', 'B32L3', 'B31L3', 'B30L3', 'B29L3', 'B28L3', 'B27L3', 'B26L3', 'B25L3', 'B24L3', 'B23L3', 'B22L3', 'B21L3', 'B20L3', 'B19L3', 'B18L3', 'B17L3', 'B16L3', 'B15L3', 'B14L3', 'B13L3', 'B12L3', 'B11L3', 'B10L3', 'B9L3', 'B8L3'] not found for RB.A23 within [(10, 's'), (400, 's')] around 1633620586940000000.\n"
     ]
    },
    {
     "name": "stdout",
     "output_type": "stream",
     "text": [
      "\tQuerying PM event signal(s) STATUS.I_MEAS, IAB.I_A, IEARTH.I_EARTH, STATUS.I_EARTH_PCNT, STATUS.I_REF for system: FGC, className: lhc_self_pmd, source: RPTE.UA27.RB.A23 at 2022-03-11 16:48:15.980\n",
      "\tQuerying PM event timestamps for system: QPS, className: DQAMGNSRB_PMREL, source: * from 2022-03-11 16:48:05.980 to 2022-03-11 16:54:55.980\n",
      "\tQuerying PM event signal(s) STATUS.I_MEAS, IAB.I_A, IEARTH.I_EARTH, STATUS.I_EARTH_PCNT, STATUS.I_REF for system: FGC, className: lhc_self_pmd, source: RPTE.UA27.RB.A23 at 2022-04-12 11:09:41.500\n",
      "\tQuerying PM event timestamps for system: QPS, className: DQAMGNSRB_PMREL, source: * from 2022-04-12 11:09:31.500 to 2022-04-12 11:16:21.500\n",
      "\tQuerying PM event signal(s) STATUS.I_MEAS, IAB.I_A, IEARTH.I_EARTH, STATUS.I_EARTH_PCNT, STATUS.I_REF for system: FGC, className: lhc_self_pmd, source: RPTE.UA27.RB.A23 at 2022-04-20 09:48:01.980\n",
      "\tQuerying PM event timestamps for system: QPS, className: DQAMGNSRB_PMREL, source: * from 2022-04-20 09:47:51.980 to 2022-04-20 09:54:41.980\n",
      "\tQuerying PM event signal(s) STATUS.I_MEAS, IAB.I_A, IEARTH.I_EARTH, STATUS.I_EARTH_PCNT, STATUS.I_REF for system: FGC, className: lhc_self_pmd, source: RPTE.UA27.RB.A23 at 2022-04-20 15:43:28.720\n",
      "\tQuerying PM event timestamps for system: QPS, className: DQAMGNSRB_PMREL, source: * from 2022-04-20 15:43:18.720 to 2022-04-20 15:50:08.720\n",
      "\tQuerying PM event signal(s) STATUS.I_MEAS, IAB.I_A, IEARTH.I_EARTH, STATUS.I_EARTH_PCNT, STATUS.I_REF for system: FGC, className: lhc_self_pmd, source: RPTE.UA27.RB.A23 at 2022-05-13 15:17:26.480\n",
      "\tQuerying PM event timestamps for system: QPS, className: DQAMGNSRB_PMREL, source: * from 2022-05-13 15:17:16.480 to 2022-05-13 15:24:06.480\n"
     ]
    },
    {
     "name": "stderr",
     "output_type": "stream",
     "text": [
      "Post Mortem returned no data for the following query: http://pm-rest.cern.ch/v2//pmdata/header/within/duration?system=QPS&className=DQAMGNSRB_PMREL&source=*&fromTimestampInNanos=1652447836480000000&durationInNanos=410000000000\n",
      "Some nQPS PM buffers missing. ['B8R2', 'B9R2', 'B10R2', 'B11R2', 'B12R2', 'B13R2', 'B14R2', 'B15R2', 'B16R2', 'B17R2', 'B18R2', 'B19R2', 'B20R2', 'B21R2', 'B22R2', 'B23R2', 'B24R2', 'B25R2', 'B26R2', 'B27R2', 'B28R2', 'B29R2', 'B30R2', 'B31R2', 'B32R2', 'B33R2', 'B34R2', 'B34L3', 'B33L3', 'B32L3', 'B31L3', 'B30L3', 'B29L3', 'B28L3', 'B27L3', 'B26L3', 'B25L3', 'B24L3', 'B23L3', 'B22L3', 'B21L3', 'B20L3', 'B19L3', 'B18L3', 'B17L3', 'B16L3', 'B15L3', 'B14L3', 'B13L3', 'B12L3', 'B11L3', 'B10L3', 'B9L3', 'B8L3'] not found for RB.A23 within [(10, 's'), (400, 's')] around 1652447846480000000.\n"
     ]
    },
    {
     "name": "stdout",
     "output_type": "stream",
     "text": [
      "\tQuerying PM event signal(s) STATUS.I_MEAS, IAB.I_A, IEARTH.I_EARTH, STATUS.I_EARTH_PCNT, STATUS.I_REF for system: FGC, className: lhc_self_pmd, source: RPTE.UA27.RB.A23 at 2022-05-13 16:47:03.480\n",
      "\tQuerying PM event timestamps for system: QPS, className: DQAMGNSRB_PMREL, source: * from 2022-05-13 16:46:53.480 to 2022-05-13 16:53:43.480\n",
      "\tQuerying PM event signal(s) STATUS.I_MEAS, IAB.I_A, IEARTH.I_EARTH, STATUS.I_EARTH_PCNT, STATUS.I_REF for system: FGC, className: lhc_self_pmd, source: RPTE.UA27.RB.A23 at 2022-05-16 17:26:26.320\n",
      "\tQuerying PM event timestamps for system: QPS, className: DQAMGNSRB_PMREL, source: * from 2022-05-16 17:26:16.320 to 2022-05-16 17:33:06.320\n",
      "\tQuerying PM event signal(s) STATUS.I_MEAS, IAB.I_A, IEARTH.I_EARTH, STATUS.I_EARTH_PCNT, STATUS.I_REF for system: FGC, className: lhc_self_pmd, source: RPTE.UA43.RB.A34 at 2021-09-17 16:59:56.200\n",
      "\tQuerying PM event timestamps for system: QPS, className: DQAMGNSRB_PMREL, source: * from 2021-09-17 16:59:46.200 to 2021-09-17 17:06:36.200\n"
     ]
    },
    {
     "name": "stderr",
     "output_type": "stream",
     "text": [
      "Some nQPS PM buffers missing. ['B8R3', 'B9R3', 'B10R3', 'B11R3', 'B12R3', 'B13R3', 'B14R3', 'B15R3', 'B16R3', 'B17R3', 'B18R3', 'B19R3', 'B20R3', 'B21R3', 'B22R3', 'B23R3', 'B24R3', 'B25R3', 'B26R3', 'B27R3', 'B28R3', 'B29R3', 'B30R3', 'B31R3', 'B32R3', 'B33R3', 'B34R3', 'B34L4', 'B32L4', 'B31L4', 'B30L4', 'B29L4', 'B28L4', 'B27L4', 'B26L4', 'B25L4', 'B24L4', 'B23L4', 'B22L4', 'B21L4', 'B20L4', 'B19L4', 'B18L4', 'B17L4', 'B16L4', 'B15L4', 'B14L4', 'B13L4', 'B12L4', 'B11L4', 'B10L4', 'B9L4', 'B8L4'] not found for RB.A34 within [(10, 's'), (400, 's')] around 1631890796200000000.\n"
     ]
    },
    {
     "name": "stdout",
     "output_type": "stream",
     "text": [
      "\tQuerying PM event signal(s) STATUS.I_MEAS, IAB.I_A, IEARTH.I_EARTH, STATUS.I_EARTH_PCNT, STATUS.I_REF for system: FGC, className: lhc_self_pmd, source: RPTE.UA43.RB.A34 at 2022-03-14 18:03:55.300\n",
      "\tQuerying PM event timestamps for system: QPS, className: DQAMGNSRB_PMREL, source: * from 2022-03-14 18:03:45.300 to 2022-03-14 18:10:35.300\n",
      "\tQuerying PM event signal(s) STATUS.I_MEAS, IAB.I_A, IEARTH.I_EARTH, STATUS.I_EARTH_PCNT, STATUS.I_REF for system: FGC, className: lhc_self_pmd, source: RPTE.UA43.RB.A34 at 2022-03-15 18:07:26\n",
      "\tQuerying PM event timestamps for system: QPS, className: DQAMGNSRB_PMREL, source: * from 2022-03-15 18:07:16 to 2022-03-15 18:14:06\n",
      "\tQuerying PM event signal(s) STATUS.I_MEAS, IAB.I_A, IEARTH.I_EARTH, STATUS.I_EARTH_PCNT, STATUS.I_REF for system: FGC, className: lhc_self_pmd, source: RPTE.UA43.RB.A34 at 2022-03-17 08:21:41.440\n",
      "\tQuerying PM event timestamps for system: QPS, className: DQAMGNSRB_PMREL, source: * from 2022-03-17 08:21:31.440 to 2022-03-17 08:28:21.440\n",
      "\tQuerying PM event signal(s) STATUS.I_MEAS, IAB.I_A, IEARTH.I_EARTH, STATUS.I_EARTH_PCNT, STATUS.I_REF for system: FGC, className: lhc_self_pmd, source: RPTE.UA43.RB.A34 at 2022-03-17 11:45:29.560\n",
      "\tQuerying PM event timestamps for system: QPS, className: DQAMGNSRB_PMREL, source: * from 2022-03-17 11:45:19.560 to 2022-03-17 11:52:09.560\n",
      "\tQuerying PM event signal(s) STATUS.I_MEAS, IAB.I_A, IEARTH.I_EARTH, STATUS.I_EARTH_PCNT, STATUS.I_REF for system: FGC, className: lhc_self_pmd, source: RPTE.UA43.RB.A34 at 2022-03-17 14:39:06.740\n",
      "\tQuerying PM event timestamps for system: QPS, className: DQAMGNSRB_PMREL, source: * from 2022-03-17 14:38:56.740 to 2022-03-17 14:45:46.740\n",
      "\tQuerying PM event signal(s) STATUS.I_MEAS, IAB.I_A, IEARTH.I_EARTH, STATUS.I_EARTH_PCNT, STATUS.I_REF for system: FGC, className: lhc_self_pmd, source: RPTE.UA43.RB.A34 at 2022-03-17 17:38:59.020\n",
      "\tQuerying PM event timestamps for system: QPS, className: DQAMGNSRB_PMREL, source: * from 2022-03-17 17:38:49.020 to 2022-03-17 17:45:39.020\n",
      "\tQuerying PM event signal(s) STATUS.I_MEAS, IAB.I_A, IEARTH.I_EARTH, STATUS.I_EARTH_PCNT, STATUS.I_REF for system: FGC, className: lhc_self_pmd, source: RPTE.UA43.RB.A34 at 2022-03-21 17:30:18.160\n",
      "\tQuerying PM event timestamps for system: QPS, className: DQAMGNSRB_PMREL, source: * from 2022-03-21 17:30:08.160 to 2022-03-21 17:36:58.160\n"
     ]
    },
    {
     "name": "stderr",
     "output_type": "stream",
     "text": [
      "Some nQPS PM buffers missing. ['B8R3', 'B9R3', 'B10R3', 'B11R3', 'B12R3', 'B13R3', 'B14R3', 'B15R3', 'B16R3', 'B17R3', 'B18R3', 'B19R3', 'B20R3', 'B21R3', 'B22R3', 'B23R3', 'B24R3', 'B25R3', 'B26R3', 'B27R3', 'B28R3', 'B29R3', 'B30R3', 'B31R3', 'B32R3', 'B33R3', 'B34R3', 'B34L4', 'B32L4', 'B31L4', 'B30L4', 'B29L4', 'B28L4', 'B27L4', 'B26L4', 'B25L4', 'B24L4', 'B23L4', 'B22L4', 'B21L4', 'B20L4', 'B19L4', 'B18L4', 'B17L4', 'B16L4', 'B15L4', 'B14L4', 'B13L4', 'B12L4', 'B11L4', 'B10L4', 'B9L4', 'B8L4'] not found for RB.A34 within [(10, 's'), (400, 's')] around 1647880218160000000.\n"
     ]
    },
    {
     "name": "stdout",
     "output_type": "stream",
     "text": [
      "\tQuerying PM event signal(s) STATUS.I_MEAS, IAB.I_A, IEARTH.I_EARTH, STATUS.I_EARTH_PCNT, STATUS.I_REF for system: FGC, className: lhc_self_pmd, source: RPTE.UA47.RB.A45 at 2021-07-14 17:28:43.720\n",
      "\tQuerying PM event timestamps for system: QPS, className: DQAMGNSRB_PMREL, source: * from 2021-07-14 17:28:33.720 to 2021-07-14 17:35:23.720\n"
     ]
    },
    {
     "name": "stderr",
     "output_type": "stream",
     "text": [
      "Post Mortem returned no data for the following query: http://pm-rest.cern.ch/v2//pmdata/header/within/duration?system=QPS&className=DQAMGNSRB_PMREL&source=*&fromTimestampInNanos=1626276513720000000&durationInNanos=410000000000\n",
      "Some nQPS PM buffers missing. ['B8R4', 'B9R4', 'B10R4', 'B11R4', 'B12R4', 'B13R4', 'B14R4', 'B15R4', 'B16R4', 'B17R4', 'B18R4', 'B19R4', 'B20R4', 'B21R4', 'B22R4', 'B23R4', 'B24R4', 'B25R4', 'B26R4', 'B27R4', 'B28R4', 'B29R4', 'B30R4', 'B31R4', 'B32R4', 'B33R4', 'B34R4', 'B34L5', 'B33L5', 'B32L5', 'B31L5', 'B30L5', 'B29L5', 'B28L5', 'B27L5', 'B26L5', 'B25L5', 'B24L5', 'B23L5', 'B22L5', 'B21L5', 'B20L5', 'B19L5', 'B18L5', 'B17L5', 'B16L5', 'B15L5', 'B14L5', 'B13L5', 'B12L5', 'B11L5', 'B10L5', 'B9L5', 'B8L5'] not found for RB.A45 within [(10, 's'), (400, 's')] around 1626276523720000000.\n"
     ]
    },
    {
     "name": "stdout",
     "output_type": "stream",
     "text": [
      "\tQuerying PM event signal(s) STATUS.I_MEAS, IAB.I_A, IEARTH.I_EARTH, STATUS.I_EARTH_PCNT, STATUS.I_REF for system: FGC, className: lhc_self_pmd, source: RPTE.UA47.RB.A45 at 2022-03-14 18:04:32.060\n",
      "\tQuerying PM event timestamps for system: QPS, className: DQAMGNSRB_PMREL, source: * from 2022-03-14 18:04:22.060 to 2022-03-14 18:11:12.060\n",
      "\tQuerying PM event signal(s) STATUS.I_MEAS, IAB.I_A, IEARTH.I_EARTH, STATUS.I_EARTH_PCNT, STATUS.I_REF for system: FGC, className: lhc_self_pmd, source: RPTE.UA47.RB.A45 at 2022-03-15 18:09:46.660\n",
      "\tQuerying PM event timestamps for system: QPS, className: DQAMGNSRB_PMREL, source: * from 2022-03-15 18:09:36.660 to 2022-03-15 18:16:26.660\n",
      "\tQuerying PM event signal(s) STATUS.I_MEAS, IAB.I_A, IEARTH.I_EARTH, STATUS.I_EARTH_PCNT, STATUS.I_REF for system: FGC, className: lhc_self_pmd, source: RPTE.UA47.RB.A45 at 2022-03-17 08:22:12.300\n",
      "\tQuerying PM event timestamps for system: QPS, className: DQAMGNSRB_PMREL, source: * from 2022-03-17 08:22:02.300 to 2022-03-17 08:28:52.300\n",
      "\tQuerying PM event signal(s) STATUS.I_MEAS, IAB.I_A, IEARTH.I_EARTH, STATUS.I_EARTH_PCNT, STATUS.I_REF for system: FGC, className: lhc_self_pmd, source: RPTE.UA47.RB.A45 at 2022-03-17 17:39:55.340\n",
      "\tQuerying PM event timestamps for system: QPS, className: DQAMGNSRB_PMREL, source: * from 2022-03-17 17:39:45.340 to 2022-03-17 17:46:35.340\n",
      "\tQuerying PM event signal(s) STATUS.I_MEAS, IAB.I_A, IEARTH.I_EARTH, STATUS.I_EARTH_PCNT, STATUS.I_REF for system: FGC, className: lhc_self_pmd, source: RPTE.UA47.RB.A45 at 2022-03-24 14:28:07.040\n",
      "\tQuerying PM event timestamps for system: QPS, className: DQAMGNSRB_PMREL, source: * from 2022-03-24 14:27:57.040 to 2022-03-24 14:34:47.040\n",
      "\tQuerying PM event signal(s) STATUS.I_MEAS, IAB.I_A, IEARTH.I_EARTH, STATUS.I_EARTH_PCNT, STATUS.I_REF for system: FGC, className: lhc_self_pmd, source: RPTE.UA47.RB.A45 at 2022-03-24 16:12:21.920\n",
      "\tQuerying PM event timestamps for system: QPS, className: DQAMGNSRB_PMREL, source: * from 2022-03-24 16:12:11.920 to 2022-03-24 16:19:01.920\n",
      "\tQuerying PM event signal(s) STATUS.I_MEAS, IAB.I_A, IEARTH.I_EARTH, STATUS.I_EARTH_PCNT, STATUS.I_REF for system: FGC, className: lhc_self_pmd, source: RPTE.UA47.RB.A45 at 2022-03-24 17:20:52.620\n",
      "\tQuerying PM event timestamps for system: QPS, className: DQAMGNSRB_PMREL, source: * from 2022-03-24 17:20:42.620 to 2022-03-24 17:27:32.620\n"
     ]
    },
    {
     "name": "stderr",
     "output_type": "stream",
     "text": [
      "Post Mortem returned no data for the following query: http://pm-rest.cern.ch/v2//pmdata/header/within/duration?system=QPS&className=DQAMGNSRB_PMREL&source=*&fromTimestampInNanos=1648138842620000000&durationInNanos=410000000000\n",
      "Some nQPS PM buffers missing. ['B8R4', 'B9R4', 'B10R4', 'B11R4', 'B12R4', 'B13R4', 'B14R4', 'B15R4', 'B16R4', 'B17R4', 'B18R4', 'B19R4', 'B20R4', 'B21R4', 'B22R4', 'B23R4', 'B24R4', 'B25R4', 'B26R4', 'B27R4', 'B28R4', 'B29R4', 'B30R4', 'B31R4', 'B32R4', 'B33R4', 'B34R4', 'B34L5', 'B33L5', 'B32L5', 'B31L5', 'B30L5', 'B29L5', 'B28L5', 'B27L5', 'B26L5', 'B25L5', 'B24L5', 'B23L5', 'B22L5', 'B21L5', 'B20L5', 'B19L5', 'B18L5', 'B17L5', 'B16L5', 'B15L5', 'B14L5', 'B13L5', 'B12L5', 'B11L5', 'B10L5', 'B9L5', 'B8L5'] not found for RB.A45 within [(10, 's'), (400, 's')] around 1648138852620000000.\n"
     ]
    },
    {
     "name": "stdout",
     "output_type": "stream",
     "text": [
      "\tQuerying PM event signal(s) STATUS.I_MEAS, IAB.I_A, IEARTH.I_EARTH, STATUS.I_EARTH_PCNT, STATUS.I_REF for system: FGC, className: lhc_self_pmd, source: RPTE.UA63.RB.A56 at 2021-07-15 17:23:29.660\n",
      "\tQuerying PM event timestamps for system: QPS, className: DQAMGNSRB_PMREL, source: * from 2021-07-15 17:23:19.660 to 2021-07-15 17:30:09.660\n"
     ]
    },
    {
     "name": "stderr",
     "output_type": "stream",
     "text": [
      "Post Mortem returned no data for the following query: http://pm-rest.cern.ch/v2//pmdata/header/within/duration?system=QPS&className=DQAMGNSRB_PMREL&source=*&fromTimestampInNanos=1626362599660000000&durationInNanos=410000000000\n",
      "Some nQPS PM buffers missing. ['B8R5', 'B9R5', 'B10R5', 'B11R5', 'B12R5', 'B13R5', 'B14R5', 'B15R5', 'B16R5', 'B17R5', 'B18R5', 'B19R5', 'B20R5', 'B21R5', 'B22R5', 'B23R5', 'B24R5', 'B25R5', 'B26R5', 'B27R5', 'B28R5', 'B29R5', 'B30R5', 'B31R5', 'B32R5', 'B33R5', 'B34R5', 'B34L6', 'B33L6', 'B32L6', 'B31L6', 'B30L6', 'B29L6', 'B28L6', 'B27L6', 'B26L6', 'B25L6', 'B24L6', 'B23L6', 'B22L6', 'B21L6', 'B20L6', 'B19L6', 'B18L6', 'B17L6', 'B16L6', 'B15L6', 'B14L6', 'B13L6', 'B12L6', 'B11L6', 'B10L6', 'B9L6', 'B8L6'] not found for RB.A56 within [(10, 's'), (400, 's')] around 1626362609660000000.\n"
     ]
    },
    {
     "name": "stdout",
     "output_type": "stream",
     "text": [
      "\tQuerying PM event signal(s) STATUS.I_MEAS, IAB.I_A, IEARTH.I_EARTH, STATUS.I_EARTH_PCNT, STATUS.I_REF for system: FGC, className: lhc_self_pmd, source: RPTE.UA63.RB.A56 at 2022-03-14 18:04:56.120\n",
      "\tQuerying PM event timestamps for system: QPS, className: DQAMGNSRB_PMREL, source: * from 2022-03-14 18:04:46.120 to 2022-03-14 18:11:36.120\n",
      "\tQuerying PM event signal(s) STATUS.I_MEAS, IAB.I_A, IEARTH.I_EARTH, STATUS.I_EARTH_PCNT, STATUS.I_REF for system: FGC, className: lhc_self_pmd, source: RPTE.UA63.RB.A56 at 2022-03-15 18:08:37.380\n",
      "\tQuerying PM event timestamps for system: QPS, className: DQAMGNSRB_PMREL, source: * from 2022-03-15 18:08:27.380 to 2022-03-15 18:15:17.380\n",
      "\tQuerying PM event signal(s) STATUS.I_MEAS, IAB.I_A, IEARTH.I_EARTH, STATUS.I_EARTH_PCNT, STATUS.I_REF for system: FGC, className: lhc_self_pmd, source: RPTE.UA63.RB.A56 at 2022-03-17 08:22:33.180\n",
      "\tQuerying PM event timestamps for system: QPS, className: DQAMGNSRB_PMREL, source: * from 2022-03-17 08:22:23.180 to 2022-03-17 08:29:13.180\n",
      "\tQuerying PM event signal(s) STATUS.I_MEAS, IAB.I_A, IEARTH.I_EARTH, STATUS.I_EARTH_PCNT, STATUS.I_REF for system: FGC, className: lhc_self_pmd, source: RPTE.UA63.RB.A56 at 2022-03-17 17:40:47.920\n",
      "\tQuerying PM event timestamps for system: QPS, className: DQAMGNSRB_PMREL, source: * from 2022-03-17 17:40:37.920 to 2022-03-17 17:47:27.920\n",
      "\tQuerying PM event signal(s) STATUS.I_MEAS, IAB.I_A, IEARTH.I_EARTH, STATUS.I_EARTH_PCNT, STATUS.I_REF for system: FGC, className: lhc_self_pmd, source: RPTE.UA63.RB.A56 at 2022-03-24 15:29:27.080\n",
      "\tQuerying PM event timestamps for system: QPS, className: DQAMGNSRB_PMREL, source: * from 2022-03-24 15:29:17.080 to 2022-03-24 15:36:07.080\n",
      "\tQuerying PM event signal(s) STATUS.I_MEAS, IAB.I_A, IEARTH.I_EARTH, STATUS.I_EARTH_PCNT, STATUS.I_REF for system: FGC, className: lhc_self_pmd, source: RPTE.UA63.RB.A56 at 2022-03-24 17:13:34.780\n",
      "\tQuerying PM event timestamps for system: QPS, className: DQAMGNSRB_PMREL, source: * from 2022-03-24 17:13:24.780 to 2022-03-24 17:20:14.780\n",
      "\tQuerying PM event signal(s) STATUS.I_MEAS, IAB.I_A, IEARTH.I_EARTH, STATUS.I_EARTH_PCNT, STATUS.I_REF for system: FGC, className: lhc_self_pmd, source: RPTE.UA63.RB.A56 at 2022-03-25 13:31:58.060\n",
      "\tQuerying PM event timestamps for system: QPS, className: DQAMGNSRB_PMREL, source: * from 2022-03-25 13:31:48.060 to 2022-03-25 13:38:38.060\n"
     ]
    },
    {
     "name": "stderr",
     "output_type": "stream",
     "text": [
      "Post Mortem returned no data for the following query: http://pm-rest.cern.ch/v2//pmdata/header/within/duration?system=QPS&className=DQAMGNSRB_PMREL&source=*&fromTimestampInNanos=1648211508060000000&durationInNanos=410000000000\n",
      "Some nQPS PM buffers missing. ['B8R5', 'B9R5', 'B10R5', 'B11R5', 'B12R5', 'B13R5', 'B14R5', 'B15R5', 'B16R5', 'B17R5', 'B18R5', 'B19R5', 'B20R5', 'B21R5', 'B22R5', 'B23R5', 'B24R5', 'B25R5', 'B26R5', 'B27R5', 'B28R5', 'B29R5', 'B30R5', 'B31R5', 'B32R5', 'B33R5', 'B34R5', 'B34L6', 'B33L6', 'B32L6', 'B31L6', 'B30L6', 'B29L6', 'B28L6', 'B27L6', 'B26L6', 'B25L6', 'B24L6', 'B23L6', 'B22L6', 'B21L6', 'B20L6', 'B19L6', 'B18L6', 'B17L6', 'B16L6', 'B15L6', 'B14L6', 'B13L6', 'B12L6', 'B11L6', 'B10L6', 'B9L6', 'B8L6'] not found for RB.A56 within [(10, 's'), (400, 's')] around 1648211518060000000.\n"
     ]
    },
    {
     "name": "stdout",
     "output_type": "stream",
     "text": [
      "\tQuerying PM event signal(s) STATUS.I_MEAS, IAB.I_A, IEARTH.I_EARTH, STATUS.I_EARTH_PCNT, STATUS.I_REF for system: FGC, className: lhc_self_pmd, source: RPTE.UA67.RB.A67 at 2021-07-16 16:50:40.520\n",
      "\tQuerying PM event timestamps for system: QPS, className: DQAMGNSRB_PMREL, source: * from 2021-07-16 16:50:30.520 to 2021-07-16 16:57:20.520\n"
     ]
    },
    {
     "name": "stderr",
     "output_type": "stream",
     "text": [
      "Post Mortem returned no data for the following query: http://pm-rest.cern.ch/v2//pmdata/header/within/duration?system=QPS&className=DQAMGNSRB_PMREL&source=*&fromTimestampInNanos=1626447030520000000&durationInNanos=410000000000\n",
      "Some nQPS PM buffers missing. ['B8R6', 'B9R6', 'B10R6', 'B11R6', 'B12R6', 'B13R6', 'B14R6', 'B15R6', 'B16R6', 'B17R6', 'B18R6', 'B19R6', 'B20R6', 'B21R6', 'B22R6', 'B23R6', 'B24R6', 'B25R6', 'B26R6', 'B27R6', 'B28R6', 'B29R6', 'B30R6', 'B31R6', 'B32R6', 'B33R6', 'B34R6', 'B34L7', 'B33L7', 'B32L7', 'B31L7', 'B30L7', 'B29L7', 'B28L7', 'B27L7', 'B26L7', 'B25L7', 'B24L7', 'B23L7', 'B22L7', 'B21L7', 'B20L7', 'B19L7', 'B18L7', 'B17L7', 'B16L7', 'B15L7', 'B14L7', 'B13L7', 'B12L7', 'B11L7', 'B10L7', 'B9L7', 'B8L7'] not found for RB.A67 within [(10, 's'), (400, 's')] around 1626447040520000000.\n"
     ]
    },
    {
     "name": "stdout",
     "output_type": "stream",
     "text": [
      "\tQuerying PM event signal(s) STATUS.I_MEAS, IAB.I_A, IEARTH.I_EARTH, STATUS.I_EARTH_PCNT, STATUS.I_REF for system: FGC, className: lhc_self_pmd, source: RPTE.UA67.RB.A67 at 2022-03-03 17:51:32.120\n",
      "\tQuerying PM event timestamps for system: QPS, className: DQAMGNSRB_PMREL, source: * from 2022-03-03 17:51:22.120 to 2022-03-03 17:58:12.120\n",
      "\tQuerying PM event signal(s) STATUS.I_MEAS, IAB.I_A, IEARTH.I_EARTH, STATUS.I_EARTH_PCNT, STATUS.I_REF for system: FGC, className: lhc_self_pmd, source: RPTE.UA67.RB.A67 at 2022-03-10 10:44:34.420\n",
      "\tQuerying PM event timestamps for system: QPS, className: DQAMGNSRB_PMREL, source: * from 2022-03-10 10:44:24.420 to 2022-03-10 10:51:14.420\n"
     ]
    },
    {
     "name": "stderr",
     "output_type": "stream",
     "text": [
      "Some nQPS PM buffers missing. ['B8R6', 'B9R6', 'B10R6', 'B11R6', 'B12R6', 'B13R6', 'B14R6', 'B15R6', 'B16R6', 'B17R6', 'B18R6', 'B19R6', 'B20R6', 'B21R6', 'B22R6', 'B23R6', 'B24R6', 'B25R6', 'B26R6', 'B27R6', 'B28R6', 'B29R6', 'B30R6', 'B31R6', 'B32R6', 'B33R6', 'B34R6', 'B34L7', 'B33L7', 'B32L7', 'B31L7', 'B30L7', 'B29L7', 'B28L7', 'B27L7', 'B26L7', 'B25L7', 'B24L7', 'B23L7', 'B22L7', 'B21L7', 'B20L7', 'B19L7', 'B18L7', 'B17L7', 'B16L7', 'B15L7', 'B14L7', 'B13L7', 'B12L7', 'B11L7', 'B10L7', 'B9L7', 'B8L7'] not found for RB.A67 within [(10, 's'), (400, 's')] around 1646905474420000000.\n"
     ]
    },
    {
     "name": "stdout",
     "output_type": "stream",
     "text": [
      "\tQuerying PM event signal(s) STATUS.I_MEAS, IAB.I_A, IEARTH.I_EARTH, STATUS.I_EARTH_PCNT, STATUS.I_REF for system: FGC, className: lhc_self_pmd, source: RPTE.UA67.RB.A67 at 2022-03-10 11:25:44.240\n",
      "\tQuerying PM event timestamps for system: QPS, className: DQAMGNSRB_PMREL, source: * from 2022-03-10 11:25:34.240 to 2022-03-10 11:32:24.240\n",
      "\tQuerying PM event signal(s) STATUS.I_MEAS, IAB.I_A, IEARTH.I_EARTH, STATUS.I_EARTH_PCNT, STATUS.I_REF for system: FGC, className: lhc_self_pmd, source: RPTE.UA67.RB.A67 at 2022-03-10 12:07:22.100\n",
      "\tQuerying PM event timestamps for system: QPS, className: DQAMGNSRB_PMREL, source: * from 2022-03-10 12:07:12.100 to 2022-03-10 12:14:02.100\n",
      "\tQuerying PM event signal(s) STATUS.I_MEAS, IAB.I_A, IEARTH.I_EARTH, STATUS.I_EARTH_PCNT, STATUS.I_REF for system: FGC, className: lhc_self_pmd, source: RPTE.UA67.RB.A67 at 2022-03-10 14:39:22.380\n",
      "\tQuerying PM event timestamps for system: QPS, className: DQAMGNSRB_PMREL, source: * from 2022-03-10 14:39:12.380 to 2022-03-10 14:46:02.380\n",
      "\tQuerying PM event signal(s) STATUS.I_MEAS, IAB.I_A, IEARTH.I_EARTH, STATUS.I_EARTH_PCNT, STATUS.I_REF for system: FGC, className: lhc_self_pmd, source: RPTE.UA67.RB.A67 at 2022-03-11 17:03:56.700\n",
      "\tQuerying PM event timestamps for system: QPS, className: DQAMGNSRB_PMREL, source: * from 2022-03-11 17:03:46.700 to 2022-03-11 17:10:36.700\n",
      "\tQuerying PM event signal(s) STATUS.I_MEAS, IAB.I_A, IEARTH.I_EARTH, STATUS.I_EARTH_PCNT, STATUS.I_REF for system: FGC, className: lhc_self_pmd, source: RPTE.UA67.RB.A67 at 2022-03-14 18:05:25.040\n",
      "\tQuerying PM event timestamps for system: QPS, className: DQAMGNSRB_PMREL, source: * from 2022-03-14 18:05:15.040 to 2022-03-14 18:12:05.040\n",
      "\tQuerying PM event signal(s) STATUS.I_MEAS, IAB.I_A, IEARTH.I_EARTH, STATUS.I_EARTH_PCNT, STATUS.I_REF for system: FGC, className: lhc_self_pmd, source: RPTE.UA83.RB.A78 at 2022-02-25 16:47:57.500\n",
      "\tQuerying PM event timestamps for system: QPS, className: DQAMGNSRB_PMREL, source: * from 2022-02-25 16:47:47.500 to 2022-02-25 16:54:37.500\n"
     ]
    },
    {
     "name": "stderr",
     "output_type": "stream",
     "text": [
      "Post Mortem returned no data for the following query: http://pm-rest.cern.ch/v2//pmdata/header/within/duration?system=QPS&className=DQAMGNSRB_PMREL&source=*&fromTimestampInNanos=1645804067500000000&durationInNanos=410000000000\n",
      "Some nQPS PM buffers missing. ['B8R7', 'B9R7', 'B10R7', 'B11R7', 'B12R7', 'B13R7', 'B14R7', 'B15R7', 'B16R7', 'B17R7', 'B18R7', 'B19R7', 'B20R7', 'B21R7', 'B22R7', 'B23R7', 'B24R7', 'B25R7', 'B26R7', 'B27R7', 'B28R7', 'B29R7', 'B30R7', 'B31R7', 'B32R7', 'B33R7', 'B34R7', 'B34L8', 'B33L8', 'B32L8', 'B31L8', 'B30L8', 'B29L8', 'B28L8', 'B27L8', 'B26L8', 'B25L8', 'B24L8', 'B23L8', 'B22L8', 'B21L8', 'B20L8', 'B19L8', 'B18L8', 'B17L8', 'B16L8', 'B15L8', 'B14L8', 'B13L8', 'B12L8', 'B11L8', 'B10L8', 'B9L8', 'B8L8'] not found for RB.A78 within [(10, 's'), (400, 's')] around 1645804077500000000.\n"
     ]
    },
    {
     "name": "stdout",
     "output_type": "stream",
     "text": [
      "\tQuerying PM event signal(s) STATUS.I_MEAS, IAB.I_A, IEARTH.I_EARTH, STATUS.I_EARTH_PCNT, STATUS.I_REF for system: FGC, className: lhc_self_pmd, source: RPTE.UA83.RB.A78 at 2022-03-10 10:44:52.800\n",
      "\tQuerying PM event timestamps for system: QPS, className: DQAMGNSRB_PMREL, source: * from 2022-03-10 10:44:42.800 to 2022-03-10 10:51:32.800\n"
     ]
    },
    {
     "name": "stderr",
     "output_type": "stream",
     "text": [
      "Some nQPS PM buffers missing. ['B8R7', 'B9R7', 'B10R7', 'B11R7', 'B12R7', 'B13R7', 'B14R7', 'B15R7', 'B17R7', 'B18R7', 'B19R7', 'B20R7', 'B21R7', 'B22R7', 'B23R7', 'B24R7', 'B25R7', 'B26R7', 'B27R7', 'B28R7', 'B29R7', 'B30R7', 'B31R7', 'B32R7', 'B33R7', 'B34R7', 'B34L8', 'B33L8', 'B32L8', 'B31L8', 'B30L8', 'B29L8', 'B28L8', 'B27L8', 'B26L8', 'B25L8', 'B24L8', 'B23L8', 'B22L8', 'B21L8', 'B20L8', 'B19L8', 'B18L8', 'B17L8', 'B16L8', 'B15L8', 'B14L8', 'B13L8', 'B12L8', 'B11L8', 'B10L8', 'B9L8', 'B8L8'] not found for RB.A78 within [(10, 's'), (400, 's')] around 1646905492800000000.\n"
     ]
    },
    {
     "name": "stdout",
     "output_type": "stream",
     "text": [
      "\tQuerying PM event signal(s) STATUS.I_MEAS, IAB.I_A, IEARTH.I_EARTH, STATUS.I_EARTH_PCNT, STATUS.I_REF for system: FGC, className: lhc_self_pmd, source: RPTE.UA83.RB.A78 at 2022-03-10 11:25:59.500\n",
      "\tQuerying PM event timestamps for system: QPS, className: DQAMGNSRB_PMREL, source: * from 2022-03-10 11:25:49.500 to 2022-03-10 11:32:39.500\n",
      "\tQuerying PM event signal(s) STATUS.I_MEAS, IAB.I_A, IEARTH.I_EARTH, STATUS.I_EARTH_PCNT, STATUS.I_REF for system: FGC, className: lhc_self_pmd, source: RPTE.UA83.RB.A78 at 2022-03-10 12:50:30.720\n",
      "\tQuerying PM event timestamps for system: QPS, className: DQAMGNSRB_PMREL, source: * from 2022-03-10 12:50:20.720 to 2022-03-10 12:57:10.720\n",
      "\tQuerying PM event signal(s) STATUS.I_MEAS, IAB.I_A, IEARTH.I_EARTH, STATUS.I_EARTH_PCNT, STATUS.I_REF for system: FGC, className: lhc_self_pmd, source: RPTE.UA83.RB.A78 at 2022-03-10 14:37:49.600\n",
      "\tQuerying PM event timestamps for system: QPS, className: DQAMGNSRB_PMREL, source: * from 2022-03-10 14:37:39.600 to 2022-03-10 14:44:29.600\n",
      "\tQuerying PM event signal(s) STATUS.I_MEAS, IAB.I_A, IEARTH.I_EARTH, STATUS.I_EARTH_PCNT, STATUS.I_REF for system: FGC, className: lhc_self_pmd, source: RPTE.UA83.RB.A78 at 2022-03-10 16:52:52.980\n",
      "\tQuerying PM event timestamps for system: QPS, className: DQAMGNSRB_PMREL, source: * from 2022-03-10 16:52:42.980 to 2022-03-10 16:59:32.980\n",
      "\tQuerying PM event signal(s) STATUS.I_MEAS, IAB.I_A, IEARTH.I_EARTH, STATUS.I_EARTH_PCNT, STATUS.I_REF for system: FGC, className: lhc_self_pmd, source: RPTE.UA83.RB.A78 at 2022-03-11 17:02:12.220\n",
      "\tQuerying PM event timestamps for system: QPS, className: DQAMGNSRB_PMREL, source: * from 2022-03-11 17:02:02.220 to 2022-03-11 17:08:52.220\n",
      "\tQuerying PM event signal(s) STATUS.I_MEAS, IAB.I_A, IEARTH.I_EARTH, STATUS.I_EARTH_PCNT, STATUS.I_REF for system: FGC, className: lhc_self_pmd, source: RPTE.UA83.RB.A78 at 2022-03-21 17:29:44.960\n",
      "\tQuerying PM event timestamps for system: QPS, className: DQAMGNSRB_PMREL, source: * from 2022-03-21 17:29:34.960 to 2022-03-21 17:36:24.960\n",
      "\tQuerying PM event signal(s) STATUS.I_MEAS, IAB.I_A, IEARTH.I_EARTH, STATUS.I_EARTH_PCNT, STATUS.I_REF for system: FGC, className: lhc_self_pmd, source: RPTE.UA87.RB.A81 at 2021-08-11 17:12:10.020\n",
      "\tQuerying PM event timestamps for system: QPS, className: DQAMGNSRB_PMREL, source: * from 2021-08-11 17:12:00.020 to 2021-08-11 17:18:50.020\n"
     ]
    },
    {
     "name": "stderr",
     "output_type": "stream",
     "text": [
      "Post Mortem returned no data for the following query: http://pm-rest.cern.ch/v2//pmdata/header/within/duration?system=QPS&className=DQAMGNSRB_PMREL&source=*&fromTimestampInNanos=1628694720020000000&durationInNanos=410000000000\n",
      "Some nQPS PM buffers missing. ['B8R8', 'B9R8', 'B10R8', 'B11R8', 'B12R8', 'B13R8', 'B14R8', 'B15R8', 'B16R8', 'B17R8', 'B18R8', 'B19R8', 'B20R8', 'B21R8', 'B22R8', 'B23R8', 'B24R8', 'B25R8', 'B26R8', 'B27R8', 'B28R8', 'B29R8', 'B30R8', 'B31R8', 'B32R8', 'B33R8', 'B34R8', 'B34L1', 'B33L1', 'B32L1', 'B31L1', 'B30L1', 'B29L1', 'B28L1', 'B27L1', 'B26L1', 'B25L1', 'B24L1', 'B23L1', 'B22L1', 'B21L1', 'B20L1', 'B19L1', 'B18L1', 'B17L1', 'B16L1', 'B15L1', 'B14L1', 'B13L1', 'B12L1', 'B11L1', 'B10L1', 'B9L1', 'B8L1'] not found for RB.A81 within [(10, 's'), (400, 's')] around 1628694730020000000.\n"
     ]
    },
    {
     "name": "stdout",
     "output_type": "stream",
     "text": [
      "\tQuerying PM event signal(s) STATUS.I_MEAS, IAB.I_A, IEARTH.I_EARTH, STATUS.I_EARTH_PCNT, STATUS.I_REF for system: FGC, className: lhc_self_pmd, source: RPTE.UA87.RB.A81 at 2022-03-17 17:35:56.780\n",
      "\tQuerying PM event timestamps for system: QPS, className: DQAMGNSRB_PMREL, source: * from 2022-03-17 17:35:46.780 to 2022-03-17 17:42:36.780\n",
      "\tQuerying PM event signal(s) STATUS.I_MEAS, IAB.I_A, IEARTH.I_EARTH, STATUS.I_EARTH_PCNT, STATUS.I_REF for system: FGC, className: lhc_self_pmd, source: RPTE.UA87.RB.A81 at 2022-03-21 17:29:02.140\n",
      "\tQuerying PM event timestamps for system: QPS, className: DQAMGNSRB_PMREL, source: * from 2022-03-21 17:28:52.140 to 2022-03-21 17:35:42.140\n",
      "\tQuerying PM event signal(s) STATUS.I_MEAS, IAB.I_A, IEARTH.I_EARTH, STATUS.I_EARTH_PCNT, STATUS.I_REF for system: FGC, className: lhc_self_pmd, source: RPTE.UA87.RB.A81 at 2022-03-24 11:33:28.260\n",
      "\tQuerying PM event timestamps for system: QPS, className: DQAMGNSRB_PMREL, source: * from 2022-03-24 11:33:18.260 to 2022-03-24 11:40:08.260\n",
      "\tQuerying PM event signal(s) STATUS.I_MEAS, IAB.I_A, IEARTH.I_EARTH, STATUS.I_EARTH_PCNT, STATUS.I_REF for system: FGC, className: lhc_self_pmd, source: RPTE.UA87.RB.A81 at 2022-03-24 14:22:53.660\n",
      "\tQuerying PM event timestamps for system: QPS, className: DQAMGNSRB_PMREL, source: * from 2022-03-24 14:22:43.660 to 2022-03-24 14:29:33.660\n"
     ]
    },
    {
     "name": "stderr",
     "output_type": "stream",
     "text": [
      "Some nQPS PM buffers missing. ['B8R8', 'B9R8', 'B10R8', 'B11R8', 'B12R8', 'B13R8', 'B14R8', 'B15R8', 'B16R8', 'B17R8', 'B18R8', 'B19R8', 'B20R8', 'B21R8', 'B22R8', 'B23R8', 'B24R8', 'B25R8', 'B26R8', 'B27R8', 'B28R8', 'B29R8', 'B30R8', 'B31R8', 'B32R8', 'B33R8', 'B34R8', 'B34L1', 'B33L1', 'B32L1', 'B31L1', 'B30L1', 'B29L1', 'B28L1', 'B27L1', 'B26L1', 'B25L1', 'B24L1', 'B23L1', 'B22L1', 'B21L1', 'B20L1', 'B19L1', 'B18L1', 'B17L1', 'B16L1', 'B15L1', 'B14L1', 'B13L1', 'B12L1', 'B11L1', 'B10L1', 'B9L1', 'B8L1'] not found for RB.A81 within [(10, 's'), (400, 's')] around 1648128173660000000.\n"
     ]
    },
    {
     "name": "stdout",
     "output_type": "stream",
     "text": [
      "\tQuerying PM event signal(s) STATUS.I_MEAS, IAB.I_A, IEARTH.I_EARTH, STATUS.I_EARTH_PCNT, STATUS.I_REF for system: FGC, className: lhc_self_pmd, source: RPTE.UA87.RB.A81 at 2022-03-24 15:28:10.860\n",
      "\tQuerying PM event timestamps for system: QPS, className: DQAMGNSRB_PMREL, source: * from 2022-03-24 15:28:00.860 to 2022-03-24 15:34:50.860\n",
      "\tQuerying PM event signal(s) STATUS.I_MEAS, IAB.I_A, IEARTH.I_EARTH, STATUS.I_EARTH_PCNT, STATUS.I_REF for system: FGC, className: lhc_self_pmd, source: RPTE.UA87.RB.A81 at 2022-03-24 17:11:55.840\n",
      "\tQuerying PM event timestamps for system: QPS, className: DQAMGNSRB_PMREL, source: * from 2022-03-24 17:11:45.840 to 2022-03-24 17:18:35.840\n",
      "\tQuerying PM event signal(s) STATUS.I_MEAS, IAB.I_A, IEARTH.I_EARTH, STATUS.I_EARTH_PCNT, STATUS.I_REF for system: FGC, className: lhc_self_pmd, source: RPTE.UA87.RB.A81 at 2022-03-25 12:18:35.180\n",
      "\tQuerying PM event timestamps for system: QPS, className: DQAMGNSRB_PMREL, source: * from 2022-03-25 12:18:25.180 to 2022-03-25 12:25:15.180\n"
     ]
    }
   ],
   "source": [
    "for f in fpa_identifiers:\n",
    "    \n",
    "    fpa_identifier = {'circuit_type': 'RB',\n",
    "                     'circuit_name': f.split(\"_\")[1],\n",
    "                     'timestamp_fgc': int(f.split(\"_\")[2])}\n",
    "    \n",
    "    file_name = f\"{f}.hdf5\"\n",
    "    Path(file_dir / Path('20221123_snapshots_plots')).mkdir(parents=True, exist_ok=True)\n",
    "    \n",
    "    if not os.path.isfile(str(file_dir / Path('20221123_snapshots_data') / f\"{f}.png\")):\n",
    "        for signal_group in signal_groups:\n",
    "            group = signal_group(**fpa_identifier)\n",
    "            acquisition_to_hdf5(acquisition=group, \n",
    "                                file_dir=file_dir,\n",
    "                                context_dir_name=\"20221123_snapshots_context\",\n",
    "                                failed_queries_dir_name=\"20221123_snapshots_failed\",\n",
    "                                data_dir_name=\"20221123_snapshots_data\")\n",
    "\n",
    "        file_path = file_dir / Path('20221123_snapshots_data') / file_name\n",
    "        data = load_from_hdf_with_regex(file_path)\n",
    "        fig = plt.figure(figsize=(20, 15))\n",
    "        for i, s in enumerate(signals):\n",
    "            fig.add_subplot(4, 3, i+1)\n",
    "            n_signals = 0\n",
    "            for df in data:\n",
    "                if bool(re.search(s, df.columns.values[0])):\n",
    "                    plt.plot(df.index.values, df.values)\n",
    "                    n_signals += 1\n",
    "            plt.title(f\"{s} ({n_signals})\")\n",
    "\n",
    "        plt.savefig(str(file_dir / Path('20221123_snapshots_data') / f\"{f}.png\"))\n",
    "        plt.close()\n",
    "    else:\n",
    "        print(f\"done: {file_name}\")"
   ]
  },
  {
   "cell_type": "markdown",
   "id": "99aa2c9e",
   "metadata": {
    "pycharm": {
     "name": "#%% md\n"
    }
   },
   "source": [
    "# Write Metadata"
   ]
  },
  {
   "cell_type": "code",
   "execution_count": 18,
   "id": "3d42673e",
   "metadata": {
    "pycharm": {
     "name": "#%%\n"
    }
   },
   "outputs": [],
   "source": [
    "df = pd.DataFrame({\"fpa_identifier\":fpa_identifiers})\n",
    "df[\"Circuit\"] = df[\"fpa_identifier\"].apply(lambda x: x.split(\"_\")[1])\n",
    "df[\"timestamp_fgc\"] = df[\"fpa_identifier\"].apply(lambda x: x.split(\"_\")[2])"
   ]
  },
  {
   "cell_type": "code",
   "execution_count": 18,
   "id": "68622c5c",
   "metadata": {
    "pycharm": {
     "name": "#%%\n"
    }
   },
   "outputs": [],
   "source": [
    "#df.to_excel(\"snapshots.xlsx\", index=False)\n",
    "df = pd.read_excel(\"snapshots.xlsx\")"
   ]
  },
  {
   "cell_type": "code",
   "execution_count": 20,
   "id": "fb4dd16a",
   "metadata": {
    "pycharm": {
     "name": "#%%\n"
    }
   },
   "outputs": [],
   "source": [
    "signals = ['I_MEAS']\n",
    "for fpa_identifier in fpa_identifiers:\n",
    "    data_dir = file_dir / Path('20221123_snapshots_data') / (fpa_identifier + \".hdf5\")\n",
    "    data_pm = load_from_hdf_with_regex(file_path=data_dir, regex_list=signals)\n",
    "    \n",
    "    bool_idx = df.fpa_identifier == fpa_identifier\n",
    "    df.loc[bool_idx, \"I_Q_M\"] = data_pm[0].max().values[0]\n",
    "    df.loc[bool_idx, \"dt_I_Q_M\"] = data_pm[0].idxmax().values[0]\n",
    "    \n",
    "    k, intercept, r, p, std_err = stats.linregress(data_pm[0].loc[-1:0].loc[-1:0].index.values, data_pm[0].loc[-1:0].loc[-1:0].values.reshape(-1))\n",
    "    df.loc[bool_idx, \"dI_dt_from_data\"] = k"
   ]
  },
  {
   "cell_type": "markdown",
   "id": "26ff433f",
   "metadata": {
    "pycharm": {
     "name": "#%% md\n"
    }
   },
   "source": [
    "# Add features with NXCALS"
   ]
  },
  {
   "cell_type": "code",
   "execution_count": 47,
   "id": "c890e7b4",
   "metadata": {
    "pycharm": {
     "name": "#%%\n"
    }
   },
   "outputs": [
    {
     "data": {
      "text/html": [
       "<text style=color:blue>Executing RB.A12 query function find_source_timestamp_ee: 1/45.</text>"
      ],
      "text/plain": [
       "<IPython.core.display.HTML object>"
      ]
     },
     "metadata": {},
     "output_type": "display_data"
    },
    {
     "name": "stdout",
     "output_type": "stream",
     "text": [
      "\tQuerying PM event timestamps for system: QPS, className: DQAMSNRB, source: UA23.RB.A12 from 2021-09-29 17:18:31.860 to 2021-09-29 17:35:21.860\n"
     ]
    },
    {
     "data": {
      "text/html": [
       "<text style=color:blue>Executing RB.A12 query function query_ee_u_dump_res_pm: 2/45.</text>"
      ],
      "text/plain": [
       "<IPython.core.display.HTML object>"
      ]
     },
     "metadata": {},
     "output_type": "display_data"
    },
    {
     "name": "stdout",
     "output_type": "stream",
     "text": [
      "\tQuerying PM event signal(s) UA23.RB.A12:U_DUMP_RES for system: QPS, className: DQAMSNRB, source: UA23.RB.A12 at 2021-09-29 17:18:42.426\n"
     ]
    },
    {
     "data": {
      "text/html": [
       "<text style=color:blue>Executing RB.A12 query function find_source_timestamp_ee: 3/45.</text>"
      ],
      "text/plain": [
       "<IPython.core.display.HTML object>"
      ]
     },
     "metadata": {},
     "output_type": "display_data"
    },
    {
     "name": "stdout",
     "output_type": "stream",
     "text": [
      "\tQuerying PM event timestamps for system: QPS, className: DQAMSNRB, source: RR17.RB.A12 from 2021-09-29 17:18:31.860 to 2021-09-29 17:35:21.860\n"
     ]
    },
    {
     "data": {
      "text/html": [
       "<text style=color:blue>Executing RB.A12 query function query_ee_u_dump_res_pm: 4/45.</text>"
      ],
      "text/plain": [
       "<IPython.core.display.HTML object>"
      ]
     },
     "metadata": {},
     "output_type": "display_data"
    },
    {
     "name": "stdout",
     "output_type": "stream",
     "text": [
      "\tQuerying PM event signal(s) RR17.RB.A12:U_DUMP_RES for system: QPS, className: DQAMSNRB, source: RR17.RB.A12 at 2021-09-29 17:18:41.930\n"
     ]
    },
    {
     "data": {
      "text/html": [
       "<text style=color:blue>Executing RB.A12 query function find_timestamp_pic: 5/45.</text>"
      ],
      "text/plain": [
       "<IPython.core.display.HTML object>"
      ]
     },
     "metadata": {},
     "output_type": "display_data"
    },
    {
     "name": "stdout",
     "output_type": "stream",
     "text": [
      "\tQuerying NXCALS signal(s) RB.A12.ODD:ST_ABORT_PIC, RB.A12.EVEN:ST_ABORT_PIC from 2021-09-29 17:18:40.860 to 2021-09-29 17:19:41.860\n"
     ]
    },
    {
     "data": {
      "text/html": [
       "<text style=color:blue>Executing RB.A12 query function find_source_timestamp_qds: 6/45.</text>"
      ],
      "text/plain": [
       "<IPython.core.display.HTML object>"
      ]
     },
     "metadata": {},
     "output_type": "display_data"
    },
    {
     "name": "stdout",
     "output_type": "stream",
     "text": [
      "\tQuerying PM event timestamps for system: QPS, className: DQAMCNMB_PMSTD, source: * from 2021-09-29 17:17:51.860 to 2021-09-29 17:27:01.860\n"
     ]
    },
    {
     "data": {
      "text/html": [
       "<text style=color:blue>Executing RB.A12 query function find_source_timestamp_ee: 1/45.</text>"
      ],
      "text/plain": [
       "<IPython.core.display.HTML object>"
      ]
     },
     "metadata": {},
     "output_type": "display_data"
    },
    {
     "name": "stdout",
     "output_type": "stream",
     "text": [
      "\tQuerying PM event timestamps for system: QPS, className: DQAMSNRB, source: UA23.RB.A12 from 2022-03-14 18:21:01.500 to 2022-03-14 18:37:51.500\n"
     ]
    },
    {
     "data": {
      "text/html": [
       "<text style=color:blue>Executing RB.A12 query function query_ee_u_dump_res_pm: 2/45.</text>"
      ],
      "text/plain": [
       "<IPython.core.display.HTML object>"
      ]
     },
     "metadata": {},
     "output_type": "display_data"
    },
    {
     "name": "stdout",
     "output_type": "stream",
     "text": [
      "\tQuerying PM event signal(s) UA23.RB.A12:U_DUMP_RES for system: QPS, className: DQAMSNRB, source: UA23.RB.A12 at 2022-03-14 18:21:12.060\n"
     ]
    },
    {
     "data": {
      "text/html": [
       "<text style=color:blue>Executing RB.A12 query function find_source_timestamp_ee: 3/45.</text>"
      ],
      "text/plain": [
       "<IPython.core.display.HTML object>"
      ]
     },
     "metadata": {},
     "output_type": "display_data"
    },
    {
     "name": "stdout",
     "output_type": "stream",
     "text": [
      "\tQuerying PM event timestamps for system: QPS, className: DQAMSNRB, source: RR17.RB.A12 from 2022-03-14 18:21:01.500 to 2022-03-14 18:37:51.500\n"
     ]
    },
    {
     "data": {
      "text/html": [
       "<text style=color:blue>Executing RB.A12 query function query_ee_u_dump_res_pm: 4/45.</text>"
      ],
      "text/plain": [
       "<IPython.core.display.HTML object>"
      ]
     },
     "metadata": {},
     "output_type": "display_data"
    },
    {
     "name": "stdout",
     "output_type": "stream",
     "text": [
      "\tQuerying PM event signal(s) RR17.RB.A12:U_DUMP_RES for system: QPS, className: DQAMSNRB, source: RR17.RB.A12 at 2022-03-14 18:21:11.564\n"
     ]
    },
    {
     "name": "stderr",
     "output_type": "stream",
     "text": [
      "\n",
      "A value is trying to be set on a copy of a slice from a DataFrame\n",
      "\n",
      "See the caveats in the documentation: https://pandas.pydata.org/pandas-docs/stable/user_guide/indexing.html#returning-a-view-versus-a-copy\n"
     ]
    },
    {
     "data": {
      "text/html": [
       "<text style=color:blue>Executing RB.A12 query function find_timestamp_pic: 5/45.</text>"
      ],
      "text/plain": [
       "<IPython.core.display.HTML object>"
      ]
     },
     "metadata": {},
     "output_type": "display_data"
    },
    {
     "name": "stdout",
     "output_type": "stream",
     "text": [
      "\tQuerying NXCALS signal(s) RB.A12.ODD:ST_ABORT_PIC, RB.A12.EVEN:ST_ABORT_PIC from 2022-03-14 18:21:10.500 to 2022-03-14 18:22:11.500\n"
     ]
    },
    {
     "data": {
      "text/html": [
       "<text style=color:blue>Executing RB.A12 query function find_source_timestamp_qds: 6/45.</text>"
      ],
      "text/plain": [
       "<IPython.core.display.HTML object>"
      ]
     },
     "metadata": {},
     "output_type": "display_data"
    },
    {
     "name": "stdout",
     "output_type": "stream",
     "text": [
      "\tQuerying PM event timestamps for system: QPS, className: DQAMCNMB_PMSTD, source: * from 2022-03-14 18:20:21.500 to 2022-03-14 18:29:31.500\n"
     ]
    },
    {
     "data": {
      "text/html": [
       "<text style=color:blue>Executing RB.A12 query function find_source_timestamp_ee: 1/45.</text>"
      ],
      "text/plain": [
       "<IPython.core.display.HTML object>"
      ]
     },
     "metadata": {},
     "output_type": "display_data"
    },
    {
     "name": "stdout",
     "output_type": "stream",
     "text": [
      "\tQuerying PM event timestamps for system: QPS, className: DQAMSNRB, source: UA23.RB.A12 from 2022-03-17 08:25:17.640 to 2022-03-17 08:42:07.640\n"
     ]
    },
    {
     "data": {
      "text/html": [
       "<text style=color:blue>Executing RB.A12 query function query_ee_u_dump_res_pm: 2/45.</text>"
      ],
      "text/plain": [
       "<IPython.core.display.HTML object>"
      ]
     },
     "metadata": {},
     "output_type": "display_data"
    },
    {
     "name": "stdout",
     "output_type": "stream",
     "text": [
      "\tQuerying PM event signal(s) UA23.RB.A12:U_DUMP_RES for system: QPS, className: DQAMSNRB, source: UA23.RB.A12 at 2022-03-17 08:25:28.201\n"
     ]
    },
    {
     "data": {
      "text/html": [
       "<text style=color:blue>Executing RB.A12 query function find_source_timestamp_ee: 3/45.</text>"
      ],
      "text/plain": [
       "<IPython.core.display.HTML object>"
      ]
     },
     "metadata": {},
     "output_type": "display_data"
    },
    {
     "name": "stdout",
     "output_type": "stream",
     "text": [
      "\tQuerying PM event timestamps for system: QPS, className: DQAMSNRB, source: RR17.RB.A12 from 2022-03-17 08:25:17.640 to 2022-03-17 08:42:07.640\n"
     ]
    },
    {
     "data": {
      "text/html": [
       "<text style=color:blue>Executing RB.A12 query function query_ee_u_dump_res_pm: 4/45.</text>"
      ],
      "text/plain": [
       "<IPython.core.display.HTML object>"
      ]
     },
     "metadata": {},
     "output_type": "display_data"
    },
    {
     "name": "stdout",
     "output_type": "stream",
     "text": [
      "\tQuerying PM event signal(s) RR17.RB.A12:U_DUMP_RES for system: QPS, className: DQAMSNRB, source: RR17.RB.A12 at 2022-03-17 08:25:27.705\n"
     ]
    },
    {
     "data": {
      "text/html": [
       "<text style=color:blue>Executing RB.A12 query function find_timestamp_pic: 5/45.</text>"
      ],
      "text/plain": [
       "<IPython.core.display.HTML object>"
      ]
     },
     "metadata": {},
     "output_type": "display_data"
    },
    {
     "name": "stdout",
     "output_type": "stream",
     "text": [
      "\tQuerying NXCALS signal(s) RB.A12.ODD:ST_ABORT_PIC, RB.A12.EVEN:ST_ABORT_PIC from 2022-03-17 08:25:26.640 to 2022-03-17 08:26:27.640\n"
     ]
    },
    {
     "data": {
      "text/html": [
       "<text style=color:blue>Executing RB.A12 query function find_source_timestamp_qds: 6/45.</text>"
      ],
      "text/plain": [
       "<IPython.core.display.HTML object>"
      ]
     },
     "metadata": {},
     "output_type": "display_data"
    },
    {
     "name": "stdout",
     "output_type": "stream",
     "text": [
      "\tQuerying PM event timestamps for system: QPS, className: DQAMCNMB_PMSTD, source: * from 2022-03-17 08:24:37.640 to 2022-03-17 08:33:47.640\n"
     ]
    },
    {
     "data": {
      "text/html": [
       "<text style=color:blue>Executing RB.A12 query function find_source_timestamp_ee: 1/45.</text>"
      ],
      "text/plain": [
       "<IPython.core.display.HTML object>"
      ]
     },
     "metadata": {},
     "output_type": "display_data"
    },
    {
     "name": "stdout",
     "output_type": "stream",
     "text": [
      "\tQuerying PM event timestamps for system: QPS, className: DQAMSNRB, source: UA23.RB.A12 from 2022-03-17 17:37:44.160 to 2022-03-17 17:54:34.160\n"
     ]
    },
    {
     "data": {
      "text/html": [
       "<text style=color:blue>Executing RB.A12 query function query_ee_u_dump_res_pm: 2/45.</text>"
      ],
      "text/plain": [
       "<IPython.core.display.HTML object>"
      ]
     },
     "metadata": {},
     "output_type": "display_data"
    },
    {
     "name": "stdout",
     "output_type": "stream",
     "text": [
      "\tQuerying PM event signal(s) UA23.RB.A12:U_DUMP_RES for system: QPS, className: DQAMSNRB, source: UA23.RB.A12 at 2022-03-17 17:37:54.727\n"
     ]
    },
    {
     "data": {
      "text/html": [
       "<text style=color:blue>Executing RB.A12 query function find_source_timestamp_ee: 3/45.</text>"
      ],
      "text/plain": [
       "<IPython.core.display.HTML object>"
      ]
     },
     "metadata": {},
     "output_type": "display_data"
    },
    {
     "name": "stdout",
     "output_type": "stream",
     "text": [
      "\tQuerying PM event timestamps for system: QPS, className: DQAMSNRB, source: RR17.RB.A12 from 2022-03-17 17:37:44.160 to 2022-03-17 17:54:34.160\n"
     ]
    },
    {
     "data": {
      "text/html": [
       "<text style=color:blue>Executing RB.A12 query function query_ee_u_dump_res_pm: 4/45.</text>"
      ],
      "text/plain": [
       "<IPython.core.display.HTML object>"
      ]
     },
     "metadata": {},
     "output_type": "display_data"
    },
    {
     "name": "stdout",
     "output_type": "stream",
     "text": [
      "\tQuerying PM event signal(s) RR17.RB.A12:U_DUMP_RES for system: QPS, className: DQAMSNRB, source: RR17.RB.A12 at 2022-03-17 17:37:54.228\n"
     ]
    },
    {
     "data": {
      "text/html": [
       "<text style=color:blue>Executing RB.A12 query function find_timestamp_pic: 5/45.</text>"
      ],
      "text/plain": [
       "<IPython.core.display.HTML object>"
      ]
     },
     "metadata": {},
     "output_type": "display_data"
    },
    {
     "name": "stdout",
     "output_type": "stream",
     "text": [
      "\tQuerying NXCALS signal(s) RB.A12.ODD:ST_ABORT_PIC, RB.A12.EVEN:ST_ABORT_PIC from 2022-03-17 17:37:53.160 to 2022-03-17 17:38:54.160\n"
     ]
    },
    {
     "data": {
      "text/html": [
       "<text style=color:blue>Executing RB.A12 query function find_source_timestamp_qds: 6/45.</text>"
      ],
      "text/plain": [
       "<IPython.core.display.HTML object>"
      ]
     },
     "metadata": {},
     "output_type": "display_data"
    },
    {
     "name": "stdout",
     "output_type": "stream",
     "text": [
      "\tQuerying PM event timestamps for system: QPS, className: DQAMCNMB_PMSTD, source: * from 2022-03-17 17:37:04.160 to 2022-03-17 17:46:14.160\n"
     ]
    },
    {
     "data": {
      "text/html": [
       "<text style=color:blue>Executing RB.A12 query function find_source_timestamp_ee: 1/45.</text>"
      ],
      "text/plain": [
       "<IPython.core.display.HTML object>"
      ]
     },
     "metadata": {},
     "output_type": "display_data"
    },
    {
     "name": "stdout",
     "output_type": "stream",
     "text": [
      "\tQuerying PM event timestamps for system: QPS, className: DQAMSNRB, source: UA23.RB.A12 from 2022-03-18 18:02:52.900 to 2022-03-18 18:19:42.900\n"
     ]
    },
    {
     "data": {
      "text/html": [
       "<text style=color:blue>Executing RB.A12 query function query_ee_u_dump_res_pm: 2/45.</text>"
      ],
      "text/plain": [
       "<IPython.core.display.HTML object>"
      ]
     },
     "metadata": {},
     "output_type": "display_data"
    },
    {
     "name": "stdout",
     "output_type": "stream",
     "text": [
      "\tQuerying PM event signal(s) UA23.RB.A12:U_DUMP_RES for system: QPS, className: DQAMSNRB, source: UA23.RB.A12 at 2022-03-18 18:03:03.463\n"
     ]
    },
    {
     "data": {
      "text/html": [
       "<text style=color:blue>Executing RB.A12 query function find_source_timestamp_ee: 3/45.</text>"
      ],
      "text/plain": [
       "<IPython.core.display.HTML object>"
      ]
     },
     "metadata": {},
     "output_type": "display_data"
    },
    {
     "name": "stdout",
     "output_type": "stream",
     "text": [
      "\tQuerying PM event timestamps for system: QPS, className: DQAMSNRB, source: RR17.RB.A12 from 2022-03-18 18:02:52.900 to 2022-03-18 18:19:42.900\n"
     ]
    },
    {
     "data": {
      "text/html": [
       "<text style=color:blue>Executing RB.A12 query function query_ee_u_dump_res_pm: 4/45.</text>"
      ],
      "text/plain": [
       "<IPython.core.display.HTML object>"
      ]
     },
     "metadata": {},
     "output_type": "display_data"
    },
    {
     "name": "stdout",
     "output_type": "stream",
     "text": [
      "\tQuerying PM event signal(s) RR17.RB.A12:U_DUMP_RES for system: QPS, className: DQAMSNRB, source: RR17.RB.A12 at 2022-03-18 18:03:02.968\n"
     ]
    },
    {
     "data": {
      "text/html": [
       "<text style=color:blue>Executing RB.A12 query function find_timestamp_pic: 5/45.</text>"
      ],
      "text/plain": [
       "<IPython.core.display.HTML object>"
      ]
     },
     "metadata": {},
     "output_type": "display_data"
    },
    {
     "name": "stdout",
     "output_type": "stream",
     "text": [
      "\tQuerying NXCALS signal(s) RB.A12.ODD:ST_ABORT_PIC, RB.A12.EVEN:ST_ABORT_PIC from 2022-03-18 18:03:01.900 to 2022-03-18 18:04:02.900\n"
     ]
    },
    {
     "data": {
      "text/html": [
       "<text style=color:blue>Executing RB.A12 query function find_source_timestamp_qds: 6/45.</text>"
      ],
      "text/plain": [
       "<IPython.core.display.HTML object>"
      ]
     },
     "metadata": {},
     "output_type": "display_data"
    },
    {
     "name": "stdout",
     "output_type": "stream",
     "text": [
      "\tQuerying PM event timestamps for system: QPS, className: DQAMCNMB_PMSTD, source: * from 2022-03-18 18:02:12.900 to 2022-03-18 18:11:22.900\n"
     ]
    },
    {
     "data": {
      "text/html": [
       "<text style=color:blue>Executing RB.A12 query function find_source_timestamp_ee: 1/45.</text>"
      ],
      "text/plain": [
       "<IPython.core.display.HTML object>"
      ]
     },
     "metadata": {},
     "output_type": "display_data"
    },
    {
     "name": "stdout",
     "output_type": "stream",
     "text": [
      "\tQuerying PM event timestamps for system: QPS, className: DQAMSNRB, source: UA23.RB.A12 from 2022-03-21 17:43:39.880 to 2022-03-21 18:00:29.880\n"
     ]
    },
    {
     "data": {
      "text/html": [
       "<text style=color:blue>Executing RB.A12 query function query_ee_u_dump_res_pm: 2/45.</text>"
      ],
      "text/plain": [
       "<IPython.core.display.HTML object>"
      ]
     },
     "metadata": {},
     "output_type": "display_data"
    },
    {
     "name": "stdout",
     "output_type": "stream",
     "text": [
      "\tQuerying PM event signal(s) UA23.RB.A12:U_DUMP_RES for system: QPS, className: DQAMSNRB, source: UA23.RB.A12 at 2022-03-21 17:43:50.451\n"
     ]
    },
    {
     "name": "stderr",
     "output_type": "stream",
     "text": [
      "\n",
      "A value is trying to be set on a copy of a slice from a DataFrame\n",
      "\n",
      "See the caveats in the documentation: https://pandas.pydata.org/pandas-docs/stable/user_guide/indexing.html#returning-a-view-versus-a-copy\n"
     ]
    },
    {
     "data": {
      "text/html": [
       "<text style=color:blue>Executing RB.A12 query function find_source_timestamp_ee: 3/45.</text>"
      ],
      "text/plain": [
       "<IPython.core.display.HTML object>"
      ]
     },
     "metadata": {},
     "output_type": "display_data"
    },
    {
     "name": "stdout",
     "output_type": "stream",
     "text": [
      "\tQuerying PM event timestamps for system: QPS, className: DQAMSNRB, source: RR17.RB.A12 from 2022-03-21 17:43:39.880 to 2022-03-21 18:00:29.880\n"
     ]
    },
    {
     "data": {
      "text/html": [
       "<text style=color:blue>Executing RB.A12 query function query_ee_u_dump_res_pm: 4/45.</text>"
      ],
      "text/plain": [
       "<IPython.core.display.HTML object>"
      ]
     },
     "metadata": {},
     "output_type": "display_data"
    },
    {
     "name": "stdout",
     "output_type": "stream",
     "text": [
      "\tQuerying PM event signal(s) RR17.RB.A12:U_DUMP_RES for system: QPS, className: DQAMSNRB, source: RR17.RB.A12 at 2022-03-21 17:43:49.955\n"
     ]
    },
    {
     "data": {
      "text/html": [
       "<text style=color:blue>Executing RB.A12 query function find_timestamp_pic: 5/45.</text>"
      ],
      "text/plain": [
       "<IPython.core.display.HTML object>"
      ]
     },
     "metadata": {},
     "output_type": "display_data"
    },
    {
     "name": "stdout",
     "output_type": "stream",
     "text": [
      "\tQuerying NXCALS signal(s) RB.A12.ODD:ST_ABORT_PIC, RB.A12.EVEN:ST_ABORT_PIC from 2022-03-21 17:43:48.880 to 2022-03-21 17:44:49.880\n"
     ]
    },
    {
     "data": {
      "text/html": [
       "<text style=color:blue>Executing RB.A12 query function find_source_timestamp_qds: 6/45.</text>"
      ],
      "text/plain": [
       "<IPython.core.display.HTML object>"
      ]
     },
     "metadata": {},
     "output_type": "display_data"
    },
    {
     "name": "stdout",
     "output_type": "stream",
     "text": [
      "\tQuerying PM event timestamps for system: QPS, className: DQAMCNMB_PMSTD, source: * from 2022-03-21 17:42:59.880 to 2022-03-21 17:52:09.880\n"
     ]
    },
    {
     "data": {
      "text/html": [
       "<text style=color:blue>Executing RB.A12 query function find_source_timestamp_ee: 1/45.</text>"
      ],
      "text/plain": [
       "<IPython.core.display.HTML object>"
      ]
     },
     "metadata": {},
     "output_type": "display_data"
    },
    {
     "name": "stdout",
     "output_type": "stream",
     "text": [
      "\tQuerying PM event timestamps for system: QPS, className: DQAMSNRB, source: UA23.RB.A12 from 2022-03-24 11:32:40.100 to 2022-03-24 11:49:30.100\n"
     ]
    },
    {
     "data": {
      "text/html": [
       "<text style=color:blue>Executing RB.A12 query function query_ee_u_dump_res_pm: 2/45.</text>"
      ],
      "text/plain": [
       "<IPython.core.display.HTML object>"
      ]
     },
     "metadata": {},
     "output_type": "display_data"
    },
    {
     "name": "stdout",
     "output_type": "stream",
     "text": [
      "\tQuerying PM event signal(s) UA23.RB.A12:U_DUMP_RES for system: QPS, className: DQAMSNRB, source: UA23.RB.A12 at 2022-03-24 11:32:50.653\n"
     ]
    },
    {
     "data": {
      "text/html": [
       "<text style=color:blue>Executing RB.A12 query function find_source_timestamp_ee: 3/45.</text>"
      ],
      "text/plain": [
       "<IPython.core.display.HTML object>"
      ]
     },
     "metadata": {},
     "output_type": "display_data"
    },
    {
     "name": "stdout",
     "output_type": "stream",
     "text": [
      "\tQuerying PM event timestamps for system: QPS, className: DQAMSNRB, source: RR17.RB.A12 from 2022-03-24 11:32:40.100 to 2022-03-24 11:49:30.100\n"
     ]
    },
    {
     "data": {
      "text/html": [
       "<text style=color:blue>Executing RB.A12 query function query_ee_u_dump_res_pm: 4/45.</text>"
      ],
      "text/plain": [
       "<IPython.core.display.HTML object>"
      ]
     },
     "metadata": {},
     "output_type": "display_data"
    },
    {
     "name": "stdout",
     "output_type": "stream",
     "text": [
      "\tQuerying PM event signal(s) RR17.RB.A12:U_DUMP_RES for system: QPS, className: DQAMSNRB, source: RR17.RB.A12 at 2022-03-24 11:32:50.157\n"
     ]
    },
    {
     "data": {
      "text/html": [
       "<text style=color:blue>Executing RB.A12 query function find_timestamp_pic: 5/45.</text>"
      ],
      "text/plain": [
       "<IPython.core.display.HTML object>"
      ]
     },
     "metadata": {},
     "output_type": "display_data"
    },
    {
     "name": "stdout",
     "output_type": "stream",
     "text": [
      "\tQuerying NXCALS signal(s) RB.A12.ODD:ST_ABORT_PIC, RB.A12.EVEN:ST_ABORT_PIC from 2022-03-24 11:32:49.100 to 2022-03-24 11:33:50.100\n"
     ]
    },
    {
     "data": {
      "text/html": [
       "<text style=color:blue>Executing RB.A12 query function find_source_timestamp_qds: 6/45.</text>"
      ],
      "text/plain": [
       "<IPython.core.display.HTML object>"
      ]
     },
     "metadata": {},
     "output_type": "display_data"
    },
    {
     "name": "stdout",
     "output_type": "stream",
     "text": [
      "\tQuerying PM event timestamps for system: QPS, className: DQAMCNMB_PMSTD, source: * from 2022-03-24 11:32:00.100 to 2022-03-24 11:41:10.100\n"
     ]
    },
    {
     "data": {
      "text/html": [
       "<text style=color:blue>Executing RB.A12 query function find_source_timestamp_ee: 1/45.</text>"
      ],
      "text/plain": [
       "<IPython.core.display.HTML object>"
      ]
     },
     "metadata": {},
     "output_type": "display_data"
    },
    {
     "name": "stdout",
     "output_type": "stream",
     "text": [
      "\tQuerying PM event timestamps for system: QPS, className: DQAMSNRB, source: UA23.RB.A12 from 2022-03-24 14:22:24.020 to 2022-03-24 14:39:14.020\n"
     ]
    },
    {
     "data": {
      "text/html": [
       "<text style=color:blue>Executing RB.A12 query function query_ee_u_dump_res_pm: 2/45.</text>"
      ],
      "text/plain": [
       "<IPython.core.display.HTML object>"
      ]
     },
     "metadata": {},
     "output_type": "display_data"
    },
    {
     "name": "stdout",
     "output_type": "stream",
     "text": [
      "\tQuerying PM event signal(s) UA23.RB.A12:U_DUMP_RES for system: QPS, className: DQAMSNRB, source: UA23.RB.A12 at 2022-03-24 14:22:34.575\n"
     ]
    },
    {
     "data": {
      "text/html": [
       "<text style=color:blue>Executing RB.A12 query function find_source_timestamp_ee: 3/45.</text>"
      ],
      "text/plain": [
       "<IPython.core.display.HTML object>"
      ]
     },
     "metadata": {},
     "output_type": "display_data"
    },
    {
     "name": "stdout",
     "output_type": "stream",
     "text": [
      "\tQuerying PM event timestamps for system: QPS, className: DQAMSNRB, source: RR17.RB.A12 from 2022-03-24 14:22:24.020 to 2022-03-24 14:39:14.020\n"
     ]
    },
    {
     "data": {
      "text/html": [
       "<text style=color:blue>Executing RB.A12 query function query_ee_u_dump_res_pm: 4/45.</text>"
      ],
      "text/plain": [
       "<IPython.core.display.HTML object>"
      ]
     },
     "metadata": {},
     "output_type": "display_data"
    },
    {
     "name": "stdout",
     "output_type": "stream",
     "text": [
      "\tQuerying PM event signal(s) RR17.RB.A12:U_DUMP_RES for system: QPS, className: DQAMSNRB, source: RR17.RB.A12 at 2022-03-24 14:22:34.076\n"
     ]
    },
    {
     "data": {
      "text/html": [
       "<text style=color:blue>Executing RB.A12 query function find_timestamp_pic: 5/45.</text>"
      ],
      "text/plain": [
       "<IPython.core.display.HTML object>"
      ]
     },
     "metadata": {},
     "output_type": "display_data"
    },
    {
     "name": "stdout",
     "output_type": "stream",
     "text": [
      "\tQuerying NXCALS signal(s) RB.A12.ODD:ST_ABORT_PIC, RB.A12.EVEN:ST_ABORT_PIC from 2022-03-24 14:22:33.020 to 2022-03-24 14:23:34.020\n"
     ]
    },
    {
     "data": {
      "text/html": [
       "<text style=color:blue>Executing RB.A12 query function find_source_timestamp_qds: 6/45.</text>"
      ],
      "text/plain": [
       "<IPython.core.display.HTML object>"
      ]
     },
     "metadata": {},
     "output_type": "display_data"
    },
    {
     "name": "stdout",
     "output_type": "stream",
     "text": [
      "\tQuerying PM event timestamps for system: QPS, className: DQAMCNMB_PMSTD, source: * from 2022-03-24 14:21:44.020 to 2022-03-24 14:30:54.020\n"
     ]
    },
    {
     "data": {
      "text/html": [
       "<text style=color:blue>Executing RB.A23 query function find_source_timestamp_ee: 1/45.</text>"
      ],
      "text/plain": [
       "<IPython.core.display.HTML object>"
      ]
     },
     "metadata": {},
     "output_type": "display_data"
    },
    {
     "name": "stdout",
     "output_type": "stream",
     "text": [
      "\tQuerying PM event timestamps for system: QPS, className: DQAMSNRB, source: UA27.RB.A23 from 2021-10-07 17:29:36.940 to 2021-10-07 17:46:26.940\n"
     ]
    },
    {
     "data": {
      "text/html": [
       "<text style=color:blue>Executing RB.A23 query function query_ee_u_dump_res_pm: 2/45.</text>"
      ],
      "text/plain": [
       "<IPython.core.display.HTML object>"
      ]
     },
     "metadata": {},
     "output_type": "display_data"
    },
    {
     "name": "stdout",
     "output_type": "stream",
     "text": [
      "\tQuerying PM event signal(s) UA27.RB.A23:U_DUMP_RES for system: QPS, className: DQAMSNRB, source: UA27.RB.A23 at 2021-10-07 17:29:47.514\n"
     ]
    },
    {
     "data": {
      "text/html": [
       "<text style=color:blue>Executing RB.A23 query function find_source_timestamp_ee: 3/45.</text>"
      ],
      "text/plain": [
       "<IPython.core.display.HTML object>"
      ]
     },
     "metadata": {},
     "output_type": "display_data"
    },
    {
     "name": "stdout",
     "output_type": "stream",
     "text": [
      "\tQuerying PM event timestamps for system: QPS, className: DQAMSNRB, source: UJ33.RB.A23 from 2021-10-07 17:29:36.940 to 2021-10-07 17:46:26.940\n"
     ]
    },
    {
     "data": {
      "text/html": [
       "<text style=color:blue>Executing RB.A23 query function query_ee_u_dump_res_pm: 4/45.</text>"
      ],
      "text/plain": [
       "<IPython.core.display.HTML object>"
      ]
     },
     "metadata": {},
     "output_type": "display_data"
    },
    {
     "name": "stdout",
     "output_type": "stream",
     "text": [
      "\tQuerying PM event signal(s) UJ33.RB.A23:U_DUMP_RES for system: QPS, className: DQAMSNRB, source: UJ33.RB.A23 at 2021-10-07 17:29:47.009\n"
     ]
    },
    {
     "data": {
      "text/html": [
       "<text style=color:blue>Executing RB.A23 query function find_timestamp_pic: 5/45.</text>"
      ],
      "text/plain": [
       "<IPython.core.display.HTML object>"
      ]
     },
     "metadata": {},
     "output_type": "display_data"
    },
    {
     "name": "stdout",
     "output_type": "stream",
     "text": [
      "\tQuerying NXCALS signal(s) RB.A23.ODD:ST_ABORT_PIC, RB.A23.EVEN:ST_ABORT_PIC from 2021-10-07 17:29:45.940 to 2021-10-07 17:30:46.940\n"
     ]
    },
    {
     "data": {
      "text/html": [
       "<text style=color:blue>Executing RB.A23 query function find_source_timestamp_qds: 6/45.</text>"
      ],
      "text/plain": [
       "<IPython.core.display.HTML object>"
      ]
     },
     "metadata": {},
     "output_type": "display_data"
    },
    {
     "name": "stdout",
     "output_type": "stream",
     "text": [
      "\tQuerying PM event timestamps for system: QPS, className: DQAMCNMB_PMSTD, source: * from 2021-10-07 17:28:56.940 to 2021-10-07 17:38:06.940\n"
     ]
    },
    {
     "data": {
      "text/html": [
       "<text style=color:blue>Executing RB.A23 query function find_source_timestamp_ee: 1/45.</text>"
      ],
      "text/plain": [
       "<IPython.core.display.HTML object>"
      ]
     },
     "metadata": {},
     "output_type": "display_data"
    },
    {
     "name": "stdout",
     "output_type": "stream",
     "text": [
      "\tQuerying PM event timestamps for system: QPS, className: DQAMSNRB, source: UA27.RB.A23 from 2022-03-11 16:48:05.980 to 2022-03-11 17:04:55.980\n"
     ]
    },
    {
     "data": {
      "text/html": [
       "<text style=color:blue>Executing RB.A23 query function query_ee_u_dump_res_pm: 2/45.</text>"
      ],
      "text/plain": [
       "<IPython.core.display.HTML object>"
      ]
     },
     "metadata": {},
     "output_type": "display_data"
    },
    {
     "name": "stdout",
     "output_type": "stream",
     "text": [
      "\tQuerying PM event signal(s) UA27.RB.A23:U_DUMP_RES for system: QPS, className: DQAMSNRB, source: UA27.RB.A23 at 2022-03-11 16:48:16.567\n"
     ]
    },
    {
     "data": {
      "text/html": [
       "<text style=color:blue>Executing RB.A23 query function find_source_timestamp_ee: 3/45.</text>"
      ],
      "text/plain": [
       "<IPython.core.display.HTML object>"
      ]
     },
     "metadata": {},
     "output_type": "display_data"
    },
    {
     "name": "stdout",
     "output_type": "stream",
     "text": [
      "\tQuerying PM event timestamps for system: QPS, className: DQAMSNRB, source: UJ33.RB.A23 from 2022-03-11 16:48:05.980 to 2022-03-11 17:04:55.980\n"
     ]
    },
    {
     "data": {
      "text/html": [
       "<text style=color:blue>Executing RB.A23 query function query_ee_u_dump_res_pm: 4/45.</text>"
      ],
      "text/plain": [
       "<IPython.core.display.HTML object>"
      ]
     },
     "metadata": {},
     "output_type": "display_data"
    },
    {
     "name": "stdout",
     "output_type": "stream",
     "text": [
      "\tQuerying PM event signal(s) UJ33.RB.A23:U_DUMP_RES for system: QPS, className: DQAMSNRB, source: UJ33.RB.A23 at 2022-03-11 16:48:16.061\n"
     ]
    },
    {
     "data": {
      "text/html": [
       "<text style=color:blue>Executing RB.A23 query function find_timestamp_pic: 5/45.</text>"
      ],
      "text/plain": [
       "<IPython.core.display.HTML object>"
      ]
     },
     "metadata": {},
     "output_type": "display_data"
    },
    {
     "name": "stdout",
     "output_type": "stream",
     "text": [
      "\tQuerying NXCALS signal(s) RB.A23.ODD:ST_ABORT_PIC, RB.A23.EVEN:ST_ABORT_PIC from 2022-03-11 16:48:14.980 to 2022-03-11 16:49:15.980\n"
     ]
    },
    {
     "data": {
      "text/html": [
       "<text style=color:blue>Executing RB.A23 query function find_source_timestamp_qds: 6/45.</text>"
      ],
      "text/plain": [
       "<IPython.core.display.HTML object>"
      ]
     },
     "metadata": {},
     "output_type": "display_data"
    },
    {
     "name": "stdout",
     "output_type": "stream",
     "text": [
      "\tQuerying PM event timestamps for system: QPS, className: DQAMCNMB_PMSTD, source: * from 2022-03-11 16:47:25.980 to 2022-03-11 16:56:35.980\n"
     ]
    },
    {
     "data": {
      "text/html": [
       "<text style=color:blue>Executing RB.A23 query function find_source_timestamp_ee: 1/45.</text>"
      ],
      "text/plain": [
       "<IPython.core.display.HTML object>"
      ]
     },
     "metadata": {},
     "output_type": "display_data"
    },
    {
     "name": "stdout",
     "output_type": "stream",
     "text": [
      "\tQuerying PM event timestamps for system: QPS, className: DQAMSNRB, source: UA27.RB.A23 from 2022-04-12 11:09:31.500 to 2022-04-12 11:26:21.500\n"
     ]
    },
    {
     "data": {
      "text/html": [
       "<text style=color:blue>Executing RB.A23 query function query_ee_u_dump_res_pm: 2/45.</text>"
      ],
      "text/plain": [
       "<IPython.core.display.HTML object>"
      ]
     },
     "metadata": {},
     "output_type": "display_data"
    },
    {
     "name": "stdout",
     "output_type": "stream",
     "text": [
      "\tQuerying PM event signal(s) UA27.RB.A23:U_DUMP_RES for system: QPS, className: DQAMSNRB, source: UA27.RB.A23 at 2022-04-12 11:09:42.077\n"
     ]
    },
    {
     "data": {
      "text/html": [
       "<text style=color:blue>Executing RB.A23 query function find_source_timestamp_ee: 3/45.</text>"
      ],
      "text/plain": [
       "<IPython.core.display.HTML object>"
      ]
     },
     "metadata": {},
     "output_type": "display_data"
    },
    {
     "name": "stdout",
     "output_type": "stream",
     "text": [
      "\tQuerying PM event timestamps for system: QPS, className: DQAMSNRB, source: UJ33.RB.A23 from 2022-04-12 11:09:31.500 to 2022-04-12 11:26:21.500\n"
     ]
    },
    {
     "data": {
      "text/html": [
       "<text style=color:blue>Executing RB.A23 query function query_ee_u_dump_res_pm: 4/45.</text>"
      ],
      "text/plain": [
       "<IPython.core.display.HTML object>"
      ]
     },
     "metadata": {},
     "output_type": "display_data"
    },
    {
     "name": "stdout",
     "output_type": "stream",
     "text": [
      "\tQuerying PM event signal(s) UJ33.RB.A23:U_DUMP_RES for system: QPS, className: DQAMSNRB, source: UJ33.RB.A23 at 2022-04-12 11:09:41.574\n"
     ]
    },
    {
     "data": {
      "text/html": [
       "<text style=color:blue>Executing RB.A23 query function find_timestamp_pic: 5/45.</text>"
      ],
      "text/plain": [
       "<IPython.core.display.HTML object>"
      ]
     },
     "metadata": {},
     "output_type": "display_data"
    },
    {
     "name": "stdout",
     "output_type": "stream",
     "text": [
      "\tQuerying NXCALS signal(s) RB.A23.ODD:ST_ABORT_PIC, RB.A23.EVEN:ST_ABORT_PIC from 2022-04-12 11:09:40.500 to 2022-04-12 11:10:41.500\n"
     ]
    },
    {
     "data": {
      "text/html": [
       "<text style=color:blue>Executing RB.A23 query function find_source_timestamp_qds: 6/45.</text>"
      ],
      "text/plain": [
       "<IPython.core.display.HTML object>"
      ]
     },
     "metadata": {},
     "output_type": "display_data"
    },
    {
     "name": "stdout",
     "output_type": "stream",
     "text": [
      "\tQuerying PM event timestamps for system: QPS, className: DQAMCNMB_PMSTD, source: * from 2022-04-12 11:08:51.500 to 2022-04-12 11:18:01.500\n"
     ]
    },
    {
     "data": {
      "text/html": [
       "<text style=color:blue>Executing RB.A23 query function find_source_timestamp_ee: 1/45.</text>"
      ],
      "text/plain": [
       "<IPython.core.display.HTML object>"
      ]
     },
     "metadata": {},
     "output_type": "display_data"
    },
    {
     "name": "stdout",
     "output_type": "stream",
     "text": [
      "\tQuerying PM event timestamps for system: QPS, className: DQAMSNRB, source: UA27.RB.A23 from 2022-04-20 09:47:51.980 to 2022-04-20 10:04:41.980\n"
     ]
    },
    {
     "data": {
      "text/html": [
       "<text style=color:blue>Executing RB.A23 query function query_ee_u_dump_res_pm: 2/45.</text>"
      ],
      "text/plain": [
       "<IPython.core.display.HTML object>"
      ]
     },
     "metadata": {},
     "output_type": "display_data"
    },
    {
     "name": "stdout",
     "output_type": "stream",
     "text": [
      "\tQuerying PM event signal(s) UA27.RB.A23:U_DUMP_RES for system: QPS, className: DQAMSNRB, source: UA27.RB.A23 at 2022-04-20 09:48:02.565\n"
     ]
    },
    {
     "data": {
      "text/html": [
       "<text style=color:blue>Executing RB.A23 query function find_source_timestamp_ee: 3/45.</text>"
      ],
      "text/plain": [
       "<IPython.core.display.HTML object>"
      ]
     },
     "metadata": {},
     "output_type": "display_data"
    },
    {
     "name": "stdout",
     "output_type": "stream",
     "text": [
      "\tQuerying PM event timestamps for system: QPS, className: DQAMSNRB, source: UJ33.RB.A23 from 2022-04-20 09:47:51.980 to 2022-04-20 10:04:41.980\n"
     ]
    },
    {
     "data": {
      "text/html": [
       "<text style=color:blue>Executing RB.A23 query function query_ee_u_dump_res_pm: 4/45.</text>"
      ],
      "text/plain": [
       "<IPython.core.display.HTML object>"
      ]
     },
     "metadata": {},
     "output_type": "display_data"
    },
    {
     "name": "stdout",
     "output_type": "stream",
     "text": [
      "\tQuerying PM event signal(s) UJ33.RB.A23:U_DUMP_RES for system: QPS, className: DQAMSNRB, source: UJ33.RB.A23 at 2022-04-20 09:48:02.059\n"
     ]
    },
    {
     "data": {
      "text/html": [
       "<text style=color:blue>Executing RB.A23 query function find_timestamp_pic: 5/45.</text>"
      ],
      "text/plain": [
       "<IPython.core.display.HTML object>"
      ]
     },
     "metadata": {},
     "output_type": "display_data"
    },
    {
     "name": "stdout",
     "output_type": "stream",
     "text": [
      "\tQuerying NXCALS signal(s) RB.A23.ODD:ST_ABORT_PIC, RB.A23.EVEN:ST_ABORT_PIC from 2022-04-20 09:48:00.980 to 2022-04-20 09:49:01.980\n"
     ]
    },
    {
     "data": {
      "text/html": [
       "<text style=color:blue>Executing RB.A23 query function find_source_timestamp_qds: 6/45.</text>"
      ],
      "text/plain": [
       "<IPython.core.display.HTML object>"
      ]
     },
     "metadata": {},
     "output_type": "display_data"
    },
    {
     "name": "stdout",
     "output_type": "stream",
     "text": [
      "\tQuerying PM event timestamps for system: QPS, className: DQAMCNMB_PMSTD, source: * from 2022-04-20 09:47:11.980 to 2022-04-20 09:56:21.980\n"
     ]
    },
    {
     "data": {
      "text/html": [
       "<text style=color:blue>Executing RB.A23 query function find_source_timestamp_ee: 1/45.</text>"
      ],
      "text/plain": [
       "<IPython.core.display.HTML object>"
      ]
     },
     "metadata": {},
     "output_type": "display_data"
    },
    {
     "name": "stdout",
     "output_type": "stream",
     "text": [
      "\tQuerying PM event timestamps for system: QPS, className: DQAMSNRB, source: UA27.RB.A23 from 2022-04-20 15:43:18.720 to 2022-04-20 16:00:08.720\n"
     ]
    },
    {
     "data": {
      "text/html": [
       "<text style=color:blue>Executing RB.A23 query function query_ee_u_dump_res_pm: 2/45.</text>"
      ],
      "text/plain": [
       "<IPython.core.display.HTML object>"
      ]
     },
     "metadata": {},
     "output_type": "display_data"
    },
    {
     "name": "stdout",
     "output_type": "stream",
     "text": [
      "\tQuerying PM event signal(s) UA27.RB.A23:U_DUMP_RES for system: QPS, className: DQAMSNRB, source: UA27.RB.A23 at 2022-04-20 15:43:29.288\n"
     ]
    },
    {
     "data": {
      "text/html": [
       "<text style=color:blue>Executing RB.A23 query function find_source_timestamp_ee: 3/45.</text>"
      ],
      "text/plain": [
       "<IPython.core.display.HTML object>"
      ]
     },
     "metadata": {},
     "output_type": "display_data"
    },
    {
     "name": "stdout",
     "output_type": "stream",
     "text": [
      "\tQuerying PM event timestamps for system: QPS, className: DQAMSNRB, source: UJ33.RB.A23 from 2022-04-20 15:43:18.720 to 2022-04-20 16:00:08.720\n"
     ]
    },
    {
     "data": {
      "text/html": [
       "<text style=color:blue>Executing RB.A23 query function query_ee_u_dump_res_pm: 4/45.</text>"
      ],
      "text/plain": [
       "<IPython.core.display.HTML object>"
      ]
     },
     "metadata": {},
     "output_type": "display_data"
    },
    {
     "name": "stdout",
     "output_type": "stream",
     "text": [
      "\tQuerying PM event signal(s) UJ33.RB.A23:U_DUMP_RES for system: QPS, className: DQAMSNRB, source: UJ33.RB.A23 at 2022-04-20 15:43:28.785\n"
     ]
    },
    {
     "data": {
      "text/html": [
       "<text style=color:blue>Executing RB.A23 query function find_timestamp_pic: 5/45.</text>"
      ],
      "text/plain": [
       "<IPython.core.display.HTML object>"
      ]
     },
     "metadata": {},
     "output_type": "display_data"
    },
    {
     "name": "stdout",
     "output_type": "stream",
     "text": [
      "\tQuerying NXCALS signal(s) RB.A23.ODD:ST_ABORT_PIC, RB.A23.EVEN:ST_ABORT_PIC from 2022-04-20 15:43:27.720 to 2022-04-20 15:44:28.720\n"
     ]
    },
    {
     "data": {
      "text/html": [
       "<text style=color:blue>Executing RB.A23 query function find_source_timestamp_qds: 6/45.</text>"
      ],
      "text/plain": [
       "<IPython.core.display.HTML object>"
      ]
     },
     "metadata": {},
     "output_type": "display_data"
    },
    {
     "name": "stdout",
     "output_type": "stream",
     "text": [
      "\tQuerying PM event timestamps for system: QPS, className: DQAMCNMB_PMSTD, source: * from 2022-04-20 15:42:38.720 to 2022-04-20 15:51:48.720\n"
     ]
    },
    {
     "data": {
      "text/html": [
       "<text style=color:blue>Executing RB.A23 query function find_source_timestamp_ee: 1/45.</text>"
      ],
      "text/plain": [
       "<IPython.core.display.HTML object>"
      ]
     },
     "metadata": {},
     "output_type": "display_data"
    },
    {
     "name": "stdout",
     "output_type": "stream",
     "text": [
      "\tQuerying PM event timestamps for system: QPS, className: DQAMSNRB, source: UA27.RB.A23 from 2022-05-13 15:17:16.480 to 2022-05-13 15:34:06.480\n"
     ]
    },
    {
     "data": {
      "text/html": [
       "<text style=color:blue>Executing RB.A23 query function query_ee_u_dump_res_pm: 2/45.</text>"
      ],
      "text/plain": [
       "<IPython.core.display.HTML object>"
      ]
     },
     "metadata": {},
     "output_type": "display_data"
    },
    {
     "name": "stdout",
     "output_type": "stream",
     "text": [
      "\tQuerying PM event signal(s) UA27.RB.A23:U_DUMP_RES for system: QPS, className: DQAMSNRB, source: UA27.RB.A23 at 2022-05-13 15:17:27.056\n"
     ]
    },
    {
     "data": {
      "text/html": [
       "<text style=color:blue>Executing RB.A23 query function find_source_timestamp_ee: 3/45.</text>"
      ],
      "text/plain": [
       "<IPython.core.display.HTML object>"
      ]
     },
     "metadata": {},
     "output_type": "display_data"
    },
    {
     "name": "stdout",
     "output_type": "stream",
     "text": [
      "\tQuerying PM event timestamps for system: QPS, className: DQAMSNRB, source: UJ33.RB.A23 from 2022-05-13 15:17:16.480 to 2022-05-13 15:34:06.480\n"
     ]
    },
    {
     "data": {
      "text/html": [
       "<text style=color:blue>Executing RB.A23 query function query_ee_u_dump_res_pm: 4/45.</text>"
      ],
      "text/plain": [
       "<IPython.core.display.HTML object>"
      ]
     },
     "metadata": {},
     "output_type": "display_data"
    },
    {
     "name": "stdout",
     "output_type": "stream",
     "text": [
      "\tQuerying PM event signal(s) UJ33.RB.A23:U_DUMP_RES for system: QPS, className: DQAMSNRB, source: UJ33.RB.A23 at 2022-05-13 15:17:26.552\n"
     ]
    },
    {
     "data": {
      "text/html": [
       "<text style=color:blue>Executing RB.A23 query function find_timestamp_pic: 5/45.</text>"
      ],
      "text/plain": [
       "<IPython.core.display.HTML object>"
      ]
     },
     "metadata": {},
     "output_type": "display_data"
    },
    {
     "name": "stdout",
     "output_type": "stream",
     "text": [
      "\tQuerying NXCALS signal(s) RB.A23.ODD:ST_ABORT_PIC, RB.A23.EVEN:ST_ABORT_PIC from 2022-05-13 15:17:25.480 to 2022-05-13 15:18:26.480\n"
     ]
    },
    {
     "data": {
      "text/html": [
       "<text style=color:blue>Executing RB.A23 query function find_source_timestamp_qds: 6/45.</text>"
      ],
      "text/plain": [
       "<IPython.core.display.HTML object>"
      ]
     },
     "metadata": {},
     "output_type": "display_data"
    },
    {
     "name": "stdout",
     "output_type": "stream",
     "text": [
      "\tQuerying PM event timestamps for system: QPS, className: DQAMCNMB_PMSTD, source: * from 2022-05-13 15:16:36.480 to 2022-05-13 15:25:46.480\n"
     ]
    },
    {
     "data": {
      "text/html": [
       "<text style=color:blue>Executing RB.A23 query function find_source_timestamp_ee: 1/45.</text>"
      ],
      "text/plain": [
       "<IPython.core.display.HTML object>"
      ]
     },
     "metadata": {},
     "output_type": "display_data"
    },
    {
     "name": "stdout",
     "output_type": "stream",
     "text": [
      "\tQuerying PM event timestamps for system: QPS, className: DQAMSNRB, source: UA27.RB.A23 from 2022-05-13 16:46:53.480 to 2022-05-13 17:03:43.480\n"
     ]
    },
    {
     "data": {
      "text/html": [
       "<text style=color:blue>Executing RB.A23 query function query_ee_u_dump_res_pm: 2/45.</text>"
      ],
      "text/plain": [
       "<IPython.core.display.HTML object>"
      ]
     },
     "metadata": {},
     "output_type": "display_data"
    },
    {
     "name": "stdout",
     "output_type": "stream",
     "text": [
      "\tQuerying PM event signal(s) UA27.RB.A23:U_DUMP_RES for system: QPS, className: DQAMSNRB, source: UA27.RB.A23 at 2022-05-13 16:47:04.064\n"
     ]
    },
    {
     "data": {
      "text/html": [
       "<text style=color:blue>Executing RB.A23 query function find_source_timestamp_ee: 3/45.</text>"
      ],
      "text/plain": [
       "<IPython.core.display.HTML object>"
      ]
     },
     "metadata": {},
     "output_type": "display_data"
    },
    {
     "name": "stdout",
     "output_type": "stream",
     "text": [
      "\tQuerying PM event timestamps for system: QPS, className: DQAMSNRB, source: UJ33.RB.A23 from 2022-05-13 16:46:53.480 to 2022-05-13 17:03:43.480\n"
     ]
    },
    {
     "data": {
      "text/html": [
       "<text style=color:blue>Executing RB.A23 query function query_ee_u_dump_res_pm: 4/45.</text>"
      ],
      "text/plain": [
       "<IPython.core.display.HTML object>"
      ]
     },
     "metadata": {},
     "output_type": "display_data"
    },
    {
     "name": "stdout",
     "output_type": "stream",
     "text": [
      "\tQuerying PM event signal(s) UJ33.RB.A23:U_DUMP_RES for system: QPS, className: DQAMSNRB, source: UJ33.RB.A23 at 2022-05-13 16:47:03.561\n"
     ]
    },
    {
     "data": {
      "text/html": [
       "<text style=color:blue>Executing RB.A23 query function find_timestamp_pic: 5/45.</text>"
      ],
      "text/plain": [
       "<IPython.core.display.HTML object>"
      ]
     },
     "metadata": {},
     "output_type": "display_data"
    },
    {
     "name": "stdout",
     "output_type": "stream",
     "text": [
      "\tQuerying NXCALS signal(s) RB.A23.ODD:ST_ABORT_PIC, RB.A23.EVEN:ST_ABORT_PIC from 2022-05-13 16:47:02.480 to 2022-05-13 16:48:03.480\n"
     ]
    },
    {
     "data": {
      "text/html": [
       "<text style=color:blue>Executing RB.A23 query function find_source_timestamp_qds: 6/45.</text>"
      ],
      "text/plain": [
       "<IPython.core.display.HTML object>"
      ]
     },
     "metadata": {},
     "output_type": "display_data"
    },
    {
     "name": "stdout",
     "output_type": "stream",
     "text": [
      "\tQuerying PM event timestamps for system: QPS, className: DQAMCNMB_PMSTD, source: * from 2022-05-13 16:46:13.480 to 2022-05-13 16:55:23.480\n"
     ]
    },
    {
     "data": {
      "text/html": [
       "<text style=color:blue>Executing RB.A23 query function find_source_timestamp_ee: 1/45.</text>"
      ],
      "text/plain": [
       "<IPython.core.display.HTML object>"
      ]
     },
     "metadata": {},
     "output_type": "display_data"
    },
    {
     "name": "stdout",
     "output_type": "stream",
     "text": [
      "\tQuerying PM event timestamps for system: QPS, className: DQAMSNRB, source: UA27.RB.A23 from 2022-05-16 17:26:16.320 to 2022-05-16 17:43:06.320\n"
     ]
    },
    {
     "data": {
      "text/html": [
       "<text style=color:blue>Executing RB.A23 query function query_ee_u_dump_res_pm: 2/45.</text>"
      ],
      "text/plain": [
       "<IPython.core.display.HTML object>"
      ]
     },
     "metadata": {},
     "output_type": "display_data"
    },
    {
     "name": "stdout",
     "output_type": "stream",
     "text": [
      "\tQuerying PM event signal(s) UA27.RB.A23:U_DUMP_RES for system: QPS, className: DQAMSNRB, source: UA27.RB.A23 at 2022-05-16 17:26:26.887\n"
     ]
    },
    {
     "data": {
      "text/html": [
       "<text style=color:blue>Executing RB.A23 query function find_source_timestamp_ee: 3/45.</text>"
      ],
      "text/plain": [
       "<IPython.core.display.HTML object>"
      ]
     },
     "metadata": {},
     "output_type": "display_data"
    },
    {
     "name": "stdout",
     "output_type": "stream",
     "text": [
      "\tQuerying PM event timestamps for system: QPS, className: DQAMSNRB, source: UJ33.RB.A23 from 2022-05-16 17:26:16.320 to 2022-05-16 17:43:06.320\n"
     ]
    },
    {
     "data": {
      "text/html": [
       "<text style=color:blue>Executing RB.A23 query function query_ee_u_dump_res_pm: 4/45.</text>"
      ],
      "text/plain": [
       "<IPython.core.display.HTML object>"
      ]
     },
     "metadata": {},
     "output_type": "display_data"
    },
    {
     "name": "stdout",
     "output_type": "stream",
     "text": [
      "\tQuerying PM event signal(s) UJ33.RB.A23:U_DUMP_RES for system: QPS, className: DQAMSNRB, source: UJ33.RB.A23 at 2022-05-16 17:26:26.384\n"
     ]
    },
    {
     "data": {
      "text/html": [
       "<text style=color:blue>Executing RB.A23 query function find_timestamp_pic: 5/45.</text>"
      ],
      "text/plain": [
       "<IPython.core.display.HTML object>"
      ]
     },
     "metadata": {},
     "output_type": "display_data"
    },
    {
     "name": "stdout",
     "output_type": "stream",
     "text": [
      "\tQuerying NXCALS signal(s) RB.A23.ODD:ST_ABORT_PIC, RB.A23.EVEN:ST_ABORT_PIC from 2022-05-16 17:26:25.320 to 2022-05-16 17:27:26.320\n"
     ]
    },
    {
     "data": {
      "text/html": [
       "<text style=color:blue>Executing RB.A23 query function find_source_timestamp_qds: 6/45.</text>"
      ],
      "text/plain": [
       "<IPython.core.display.HTML object>"
      ]
     },
     "metadata": {},
     "output_type": "display_data"
    },
    {
     "name": "stdout",
     "output_type": "stream",
     "text": [
      "\tQuerying PM event timestamps for system: QPS, className: DQAMCNMB_PMSTD, source: * from 2022-05-16 17:25:36.320 to 2022-05-16 17:34:46.320\n"
     ]
    },
    {
     "data": {
      "text/html": [
       "<text style=color:blue>Executing RB.A34 query function find_source_timestamp_ee: 1/45.</text>"
      ],
      "text/plain": [
       "<IPython.core.display.HTML object>"
      ]
     },
     "metadata": {},
     "output_type": "display_data"
    },
    {
     "name": "stdout",
     "output_type": "stream",
     "text": [
      "\tQuerying PM event timestamps for system: QPS, className: DQAMSNRB, source: UA43.RB.A34 from 2021-09-17 16:59:46.200 to 2021-09-17 17:16:36.200\n"
     ]
    },
    {
     "data": {
      "text/html": [
       "<text style=color:blue>Executing RB.A34 query function query_ee_u_dump_res_pm: 2/45.</text>"
      ],
      "text/plain": [
       "<IPython.core.display.HTML object>"
      ]
     },
     "metadata": {},
     "output_type": "display_data"
    },
    {
     "name": "stdout",
     "output_type": "stream",
     "text": [
      "\tQuerying PM event signal(s) UA43.RB.A34:U_DUMP_RES for system: QPS, className: DQAMSNRB, source: UA43.RB.A34 at 2021-09-17 16:59:56.779\n"
     ]
    },
    {
     "data": {
      "text/html": [
       "<text style=color:blue>Executing RB.A34 query function find_source_timestamp_ee: 3/45.</text>"
      ],
      "text/plain": [
       "<IPython.core.display.HTML object>"
      ]
     },
     "metadata": {},
     "output_type": "display_data"
    },
    {
     "name": "stdout",
     "output_type": "stream",
     "text": [
      "\tQuerying PM event timestamps for system: QPS, className: DQAMSNRB, source: UJ33.RB.A34 from 2021-09-17 16:59:46.200 to 2021-09-17 17:16:36.200\n"
     ]
    },
    {
     "data": {
      "text/html": [
       "<text style=color:blue>Executing RB.A34 query function query_ee_u_dump_res_pm: 4/45.</text>"
      ],
      "text/plain": [
       "<IPython.core.display.HTML object>"
      ]
     },
     "metadata": {},
     "output_type": "display_data"
    },
    {
     "name": "stdout",
     "output_type": "stream",
     "text": [
      "\tQuerying PM event signal(s) UJ33.RB.A34:U_DUMP_RES for system: QPS, className: DQAMSNRB, source: UJ33.RB.A34 at 2021-09-17 16:59:56.280\n"
     ]
    },
    {
     "data": {
      "text/html": [
       "<text style=color:blue>Executing RB.A34 query function find_timestamp_pic: 5/45.</text>"
      ],
      "text/plain": [
       "<IPython.core.display.HTML object>"
      ]
     },
     "metadata": {},
     "output_type": "display_data"
    },
    {
     "name": "stdout",
     "output_type": "stream",
     "text": [
      "\tQuerying NXCALS signal(s) RB.A34.ODD:ST_ABORT_PIC, RB.A34.EVEN:ST_ABORT_PIC from 2021-09-17 16:59:55.200 to 2021-09-17 17:00:56.200\n"
     ]
    },
    {
     "data": {
      "text/html": [
       "<text style=color:blue>Executing RB.A34 query function find_source_timestamp_qds: 6/45.</text>"
      ],
      "text/plain": [
       "<IPython.core.display.HTML object>"
      ]
     },
     "metadata": {},
     "output_type": "display_data"
    },
    {
     "name": "stdout",
     "output_type": "stream",
     "text": [
      "\tQuerying PM event timestamps for system: QPS, className: DQAMCNMB_PMSTD, source: * from 2021-09-17 16:59:06.200 to 2021-09-17 17:08:16.200\n"
     ]
    },
    {
     "data": {
      "text/html": [
       "<text style=color:blue>Executing RB.A34 query function find_source_timestamp_ee: 1/45.</text>"
      ],
      "text/plain": [
       "<IPython.core.display.HTML object>"
      ]
     },
     "metadata": {},
     "output_type": "display_data"
    },
    {
     "name": "stdout",
     "output_type": "stream",
     "text": [
      "\tQuerying PM event timestamps for system: QPS, className: DQAMSNRB, source: UA43.RB.A34 from 2022-03-14 18:03:45.300 to 2022-03-14 18:20:35.300\n"
     ]
    },
    {
     "data": {
      "text/html": [
       "<text style=color:blue>Executing RB.A34 query function query_ee_u_dump_res_pm: 2/45.</text>"
      ],
      "text/plain": [
       "<IPython.core.display.HTML object>"
      ]
     },
     "metadata": {},
     "output_type": "display_data"
    },
    {
     "name": "stdout",
     "output_type": "stream",
     "text": [
      "\tQuerying PM event signal(s) UA43.RB.A34:U_DUMP_RES for system: QPS, className: DQAMSNRB, source: UA43.RB.A34 at 2022-03-14 18:03:55.863\n"
     ]
    },
    {
     "data": {
      "text/html": [
       "<text style=color:blue>Executing RB.A34 query function find_source_timestamp_ee: 3/45.</text>"
      ],
      "text/plain": [
       "<IPython.core.display.HTML object>"
      ]
     },
     "metadata": {},
     "output_type": "display_data"
    },
    {
     "name": "stdout",
     "output_type": "stream",
     "text": [
      "\tQuerying PM event timestamps for system: QPS, className: DQAMSNRB, source: UJ33.RB.A34 from 2022-03-14 18:03:45.300 to 2022-03-14 18:20:35.300\n"
     ]
    },
    {
     "data": {
      "text/html": [
       "<text style=color:blue>Executing RB.A34 query function query_ee_u_dump_res_pm: 4/45.</text>"
      ],
      "text/plain": [
       "<IPython.core.display.HTML object>"
      ]
     },
     "metadata": {},
     "output_type": "display_data"
    },
    {
     "name": "stdout",
     "output_type": "stream",
     "text": [
      "\tQuerying PM event signal(s) UJ33.RB.A34:U_DUMP_RES for system: QPS, className: DQAMSNRB, source: UJ33.RB.A34 at 2022-03-14 18:03:55.366\n"
     ]
    },
    {
     "data": {
      "text/html": [
       "<text style=color:blue>Executing RB.A34 query function find_timestamp_pic: 5/45.</text>"
      ],
      "text/plain": [
       "<IPython.core.display.HTML object>"
      ]
     },
     "metadata": {},
     "output_type": "display_data"
    },
    {
     "name": "stdout",
     "output_type": "stream",
     "text": [
      "\tQuerying NXCALS signal(s) RB.A34.ODD:ST_ABORT_PIC, RB.A34.EVEN:ST_ABORT_PIC from 2022-03-14 18:03:54.300 to 2022-03-14 18:04:55.300\n"
     ]
    },
    {
     "data": {
      "text/html": [
       "<text style=color:blue>Executing RB.A34 query function find_source_timestamp_qds: 6/45.</text>"
      ],
      "text/plain": [
       "<IPython.core.display.HTML object>"
      ]
     },
     "metadata": {},
     "output_type": "display_data"
    },
    {
     "name": "stdout",
     "output_type": "stream",
     "text": [
      "\tQuerying PM event timestamps for system: QPS, className: DQAMCNMB_PMSTD, source: * from 2022-03-14 18:03:05.300 to 2022-03-14 18:12:15.300\n"
     ]
    },
    {
     "data": {
      "text/html": [
       "<text style=color:blue>Executing RB.A34 query function find_source_timestamp_ee: 1/45.</text>"
      ],
      "text/plain": [
       "<IPython.core.display.HTML object>"
      ]
     },
     "metadata": {},
     "output_type": "display_data"
    },
    {
     "name": "stdout",
     "output_type": "stream",
     "text": [
      "\tQuerying PM event timestamps for system: QPS, className: DQAMSNRB, source: UA43.RB.A34 from 2022-03-15 18:07:16 to 2022-03-15 18:24:06\n"
     ]
    },
    {
     "data": {
      "text/html": [
       "<text style=color:blue>Executing RB.A34 query function query_ee_u_dump_res_pm: 2/45.</text>"
      ],
      "text/plain": [
       "<IPython.core.display.HTML object>"
      ]
     },
     "metadata": {},
     "output_type": "display_data"
    },
    {
     "name": "stdout",
     "output_type": "stream",
     "text": [
      "\tQuerying PM event signal(s) UA43.RB.A34:U_DUMP_RES for system: QPS, className: DQAMSNRB, source: UA43.RB.A34 at 2022-03-15 18:07:26.571\n"
     ]
    },
    {
     "data": {
      "text/html": [
       "<text style=color:blue>Executing RB.A34 query function find_source_timestamp_ee: 3/45.</text>"
      ],
      "text/plain": [
       "<IPython.core.display.HTML object>"
      ]
     },
     "metadata": {},
     "output_type": "display_data"
    },
    {
     "name": "stdout",
     "output_type": "stream",
     "text": [
      "\tQuerying PM event timestamps for system: QPS, className: DQAMSNRB, source: UJ33.RB.A34 from 2022-03-15 18:07:16 to 2022-03-15 18:24:06\n"
     ]
    },
    {
     "data": {
      "text/html": [
       "<text style=color:blue>Executing RB.A34 query function query_ee_u_dump_res_pm: 4/45.</text>"
      ],
      "text/plain": [
       "<IPython.core.display.HTML object>"
      ]
     },
     "metadata": {},
     "output_type": "display_data"
    },
    {
     "name": "stdout",
     "output_type": "stream",
     "text": [
      "\tQuerying PM event signal(s) UJ33.RB.A34:U_DUMP_RES for system: QPS, className: DQAMSNRB, source: UJ33.RB.A34 at 2022-03-15 18:07:26.071\n"
     ]
    },
    {
     "data": {
      "text/html": [
       "<text style=color:blue>Executing RB.A34 query function find_timestamp_pic: 5/45.</text>"
      ],
      "text/plain": [
       "<IPython.core.display.HTML object>"
      ]
     },
     "metadata": {},
     "output_type": "display_data"
    },
    {
     "name": "stdout",
     "output_type": "stream",
     "text": [
      "\tQuerying NXCALS signal(s) RB.A34.ODD:ST_ABORT_PIC, RB.A34.EVEN:ST_ABORT_PIC from 2022-03-15 18:07:25 to 2022-03-15 18:08:26\n"
     ]
    },
    {
     "data": {
      "text/html": [
       "<text style=color:blue>Executing RB.A34 query function find_source_timestamp_qds: 6/45.</text>"
      ],
      "text/plain": [
       "<IPython.core.display.HTML object>"
      ]
     },
     "metadata": {},
     "output_type": "display_data"
    },
    {
     "name": "stdout",
     "output_type": "stream",
     "text": [
      "\tQuerying PM event timestamps for system: QPS, className: DQAMCNMB_PMSTD, source: * from 2022-03-15 18:06:36 to 2022-03-15 18:15:46\n"
     ]
    },
    {
     "data": {
      "text/html": [
       "<text style=color:blue>Executing RB.A34 query function find_source_timestamp_ee: 1/45.</text>"
      ],
      "text/plain": [
       "<IPython.core.display.HTML object>"
      ]
     },
     "metadata": {},
     "output_type": "display_data"
    },
    {
     "name": "stdout",
     "output_type": "stream",
     "text": [
      "\tQuerying PM event timestamps for system: QPS, className: DQAMSNRB, source: UA43.RB.A34 from 2022-03-17 08:21:31.440 to 2022-03-17 08:38:21.440\n"
     ]
    },
    {
     "data": {
      "text/html": [
       "<text style=color:blue>Executing RB.A34 query function query_ee_u_dump_res_pm: 2/45.</text>"
      ],
      "text/plain": [
       "<IPython.core.display.HTML object>"
      ]
     },
     "metadata": {},
     "output_type": "display_data"
    },
    {
     "name": "stdout",
     "output_type": "stream",
     "text": [
      "\tQuerying PM event signal(s) UA43.RB.A34:U_DUMP_RES for system: QPS, className: DQAMSNRB, source: UA43.RB.A34 at 2022-03-17 08:21:42.011\n"
     ]
    },
    {
     "data": {
      "text/html": [
       "<text style=color:blue>Executing RB.A34 query function find_source_timestamp_ee: 3/45.</text>"
      ],
      "text/plain": [
       "<IPython.core.display.HTML object>"
      ]
     },
     "metadata": {},
     "output_type": "display_data"
    },
    {
     "name": "stdout",
     "output_type": "stream",
     "text": [
      "\tQuerying PM event timestamps for system: QPS, className: DQAMSNRB, source: UJ33.RB.A34 from 2022-03-17 08:21:31.440 to 2022-03-17 08:38:21.440\n"
     ]
    },
    {
     "data": {
      "text/html": [
       "<text style=color:blue>Executing RB.A34 query function query_ee_u_dump_res_pm: 4/45.</text>"
      ],
      "text/plain": [
       "<IPython.core.display.HTML object>"
      ]
     },
     "metadata": {},
     "output_type": "display_data"
    },
    {
     "name": "stdout",
     "output_type": "stream",
     "text": [
      "\tQuerying PM event signal(s) UJ33.RB.A34:U_DUMP_RES for system: QPS, className: DQAMSNRB, source: UJ33.RB.A34 at 2022-03-17 08:21:41.515\n"
     ]
    },
    {
     "data": {
      "text/html": [
       "<text style=color:blue>Executing RB.A34 query function find_timestamp_pic: 5/45.</text>"
      ],
      "text/plain": [
       "<IPython.core.display.HTML object>"
      ]
     },
     "metadata": {},
     "output_type": "display_data"
    },
    {
     "name": "stdout",
     "output_type": "stream",
     "text": [
      "\tQuerying NXCALS signal(s) RB.A34.ODD:ST_ABORT_PIC, RB.A34.EVEN:ST_ABORT_PIC from 2022-03-17 08:21:40.440 to 2022-03-17 08:22:41.440\n"
     ]
    },
    {
     "data": {
      "text/html": [
       "<text style=color:blue>Executing RB.A34 query function find_source_timestamp_qds: 6/45.</text>"
      ],
      "text/plain": [
       "<IPython.core.display.HTML object>"
      ]
     },
     "metadata": {},
     "output_type": "display_data"
    },
    {
     "name": "stdout",
     "output_type": "stream",
     "text": [
      "\tQuerying PM event timestamps for system: QPS, className: DQAMCNMB_PMSTD, source: * from 2022-03-17 08:20:51.440 to 2022-03-17 08:30:01.440\n"
     ]
    },
    {
     "data": {
      "text/html": [
       "<text style=color:blue>Executing RB.A34 query function find_source_timestamp_ee: 1/45.</text>"
      ],
      "text/plain": [
       "<IPython.core.display.HTML object>"
      ]
     },
     "metadata": {},
     "output_type": "display_data"
    },
    {
     "name": "stdout",
     "output_type": "stream",
     "text": [
      "\tQuerying PM event timestamps for system: QPS, className: DQAMSNRB, source: UA43.RB.A34 from 2022-03-17 11:45:19.560 to 2022-03-17 12:02:09.560\n"
     ]
    },
    {
     "data": {
      "text/html": [
       "<text style=color:blue>Executing RB.A34 query function query_ee_u_dump_res_pm: 2/45.</text>"
      ],
      "text/plain": [
       "<IPython.core.display.HTML object>"
      ]
     },
     "metadata": {},
     "output_type": "display_data"
    },
    {
     "name": "stdout",
     "output_type": "stream",
     "text": [
      "\tQuerying PM event signal(s) UA43.RB.A34:U_DUMP_RES for system: QPS, className: DQAMSNRB, source: UA43.RB.A34 at 2022-03-17 11:45:30.124\n"
     ]
    },
    {
     "data": {
      "text/html": [
       "<text style=color:blue>Executing RB.A34 query function find_source_timestamp_ee: 3/45.</text>"
      ],
      "text/plain": [
       "<IPython.core.display.HTML object>"
      ]
     },
     "metadata": {},
     "output_type": "display_data"
    },
    {
     "name": "stdout",
     "output_type": "stream",
     "text": [
      "\tQuerying PM event timestamps for system: QPS, className: DQAMSNRB, source: UJ33.RB.A34 from 2022-03-17 11:45:19.560 to 2022-03-17 12:02:09.560\n"
     ]
    },
    {
     "data": {
      "text/html": [
       "<text style=color:blue>Executing RB.A34 query function query_ee_u_dump_res_pm: 4/45.</text>"
      ],
      "text/plain": [
       "<IPython.core.display.HTML object>"
      ]
     },
     "metadata": {},
     "output_type": "display_data"
    },
    {
     "name": "stdout",
     "output_type": "stream",
     "text": [
      "\tQuerying PM event signal(s) UJ33.RB.A34:U_DUMP_RES for system: QPS, className: DQAMSNRB, source: UJ33.RB.A34 at 2022-03-17 11:45:29.626\n"
     ]
    },
    {
     "data": {
      "text/html": [
       "<text style=color:blue>Executing RB.A34 query function find_timestamp_pic: 5/45.</text>"
      ],
      "text/plain": [
       "<IPython.core.display.HTML object>"
      ]
     },
     "metadata": {},
     "output_type": "display_data"
    },
    {
     "name": "stdout",
     "output_type": "stream",
     "text": [
      "\tQuerying NXCALS signal(s) RB.A34.ODD:ST_ABORT_PIC, RB.A34.EVEN:ST_ABORT_PIC from 2022-03-17 11:45:28.560 to 2022-03-17 11:46:29.560\n"
     ]
    },
    {
     "data": {
      "text/html": [
       "<text style=color:blue>Executing RB.A34 query function find_source_timestamp_qds: 6/45.</text>"
      ],
      "text/plain": [
       "<IPython.core.display.HTML object>"
      ]
     },
     "metadata": {},
     "output_type": "display_data"
    },
    {
     "name": "stdout",
     "output_type": "stream",
     "text": [
      "\tQuerying PM event timestamps for system: QPS, className: DQAMCNMB_PMSTD, source: * from 2022-03-17 11:44:39.560 to 2022-03-17 11:53:49.560\n"
     ]
    },
    {
     "data": {
      "text/html": [
       "<text style=color:blue>Executing RB.A34 query function find_source_timestamp_ee: 1/45.</text>"
      ],
      "text/plain": [
       "<IPython.core.display.HTML object>"
      ]
     },
     "metadata": {},
     "output_type": "display_data"
    },
    {
     "name": "stdout",
     "output_type": "stream",
     "text": [
      "\tQuerying PM event timestamps for system: QPS, className: DQAMSNRB, source: UA43.RB.A34 from 2022-03-17 14:38:56.740 to 2022-03-17 14:55:46.740\n"
     ]
    },
    {
     "data": {
      "text/html": [
       "<text style=color:blue>Executing RB.A34 query function query_ee_u_dump_res_pm: 2/45.</text>"
      ],
      "text/plain": [
       "<IPython.core.display.HTML object>"
      ]
     },
     "metadata": {},
     "output_type": "display_data"
    },
    {
     "name": "stdout",
     "output_type": "stream",
     "text": [
      "\tQuerying PM event signal(s) UA43.RB.A34:U_DUMP_RES for system: QPS, className: DQAMSNRB, source: UA43.RB.A34 at 2022-03-17 14:39:07.308\n"
     ]
    },
    {
     "data": {
      "text/html": [
       "<text style=color:blue>Executing RB.A34 query function find_source_timestamp_ee: 3/45.</text>"
      ],
      "text/plain": [
       "<IPython.core.display.HTML object>"
      ]
     },
     "metadata": {},
     "output_type": "display_data"
    },
    {
     "name": "stdout",
     "output_type": "stream",
     "text": [
      "\tQuerying PM event timestamps for system: QPS, className: DQAMSNRB, source: UJ33.RB.A34 from 2022-03-17 14:38:56.740 to 2022-03-17 14:55:46.740\n"
     ]
    },
    {
     "data": {
      "text/html": [
       "<text style=color:blue>Executing RB.A34 query function query_ee_u_dump_res_pm: 4/45.</text>"
      ],
      "text/plain": [
       "<IPython.core.display.HTML object>"
      ]
     },
     "metadata": {},
     "output_type": "display_data"
    },
    {
     "name": "stdout",
     "output_type": "stream",
     "text": [
      "\tQuerying PM event signal(s) UJ33.RB.A34:U_DUMP_RES for system: QPS, className: DQAMSNRB, source: UJ33.RB.A34 at 2022-03-17 14:39:06.809\n"
     ]
    },
    {
     "data": {
      "text/html": [
       "<text style=color:blue>Executing RB.A34 query function find_timestamp_pic: 5/45.</text>"
      ],
      "text/plain": [
       "<IPython.core.display.HTML object>"
      ]
     },
     "metadata": {},
     "output_type": "display_data"
    },
    {
     "name": "stdout",
     "output_type": "stream",
     "text": [
      "\tQuerying NXCALS signal(s) RB.A34.ODD:ST_ABORT_PIC, RB.A34.EVEN:ST_ABORT_PIC from 2022-03-17 14:39:05.740 to 2022-03-17 14:40:06.740\n"
     ]
    },
    {
     "data": {
      "text/html": [
       "<text style=color:blue>Executing RB.A34 query function find_source_timestamp_qds: 6/45.</text>"
      ],
      "text/plain": [
       "<IPython.core.display.HTML object>"
      ]
     },
     "metadata": {},
     "output_type": "display_data"
    },
    {
     "name": "stdout",
     "output_type": "stream",
     "text": [
      "\tQuerying PM event timestamps for system: QPS, className: DQAMCNMB_PMSTD, source: * from 2022-03-17 14:38:16.740 to 2022-03-17 14:47:26.740\n"
     ]
    },
    {
     "data": {
      "text/html": [
       "<text style=color:blue>Executing RB.A34 query function find_source_timestamp_ee: 1/45.</text>"
      ],
      "text/plain": [
       "<IPython.core.display.HTML object>"
      ]
     },
     "metadata": {},
     "output_type": "display_data"
    },
    {
     "name": "stdout",
     "output_type": "stream",
     "text": [
      "\tQuerying PM event timestamps for system: QPS, className: DQAMSNRB, source: UA43.RB.A34 from 2022-03-17 17:38:49.020 to 2022-03-17 17:55:39.020\n"
     ]
    },
    {
     "data": {
      "text/html": [
       "<text style=color:blue>Executing RB.A34 query function query_ee_u_dump_res_pm: 2/45.</text>"
      ],
      "text/plain": [
       "<IPython.core.display.HTML object>"
      ]
     },
     "metadata": {},
     "output_type": "display_data"
    },
    {
     "name": "stdout",
     "output_type": "stream",
     "text": [
      "\tQuerying PM event signal(s) UA43.RB.A34:U_DUMP_RES for system: QPS, className: DQAMSNRB, source: UA43.RB.A34 at 2022-03-17 17:38:59.584\n"
     ]
    },
    {
     "data": {
      "text/html": [
       "<text style=color:blue>Executing RB.A34 query function find_source_timestamp_ee: 3/45.</text>"
      ],
      "text/plain": [
       "<IPython.core.display.HTML object>"
      ]
     },
     "metadata": {},
     "output_type": "display_data"
    },
    {
     "name": "stdout",
     "output_type": "stream",
     "text": [
      "\tQuerying PM event timestamps for system: QPS, className: DQAMSNRB, source: UJ33.RB.A34 from 2022-03-17 17:38:49.020 to 2022-03-17 17:55:39.020\n"
     ]
    },
    {
     "data": {
      "text/html": [
       "<text style=color:blue>Executing RB.A34 query function query_ee_u_dump_res_pm: 4/45.</text>"
      ],
      "text/plain": [
       "<IPython.core.display.HTML object>"
      ]
     },
     "metadata": {},
     "output_type": "display_data"
    },
    {
     "name": "stdout",
     "output_type": "stream",
     "text": [
      "\tQuerying PM event signal(s) UJ33.RB.A34:U_DUMP_RES for system: QPS, className: DQAMSNRB, source: UJ33.RB.A34 at 2022-03-17 17:38:59.086\n"
     ]
    },
    {
     "data": {
      "text/html": [
       "<text style=color:blue>Executing RB.A34 query function find_timestamp_pic: 5/45.</text>"
      ],
      "text/plain": [
       "<IPython.core.display.HTML object>"
      ]
     },
     "metadata": {},
     "output_type": "display_data"
    },
    {
     "name": "stdout",
     "output_type": "stream",
     "text": [
      "\tQuerying NXCALS signal(s) RB.A34.ODD:ST_ABORT_PIC, RB.A34.EVEN:ST_ABORT_PIC from 2022-03-17 17:38:58.020 to 2022-03-17 17:39:59.020\n"
     ]
    },
    {
     "data": {
      "text/html": [
       "<text style=color:blue>Executing RB.A34 query function find_source_timestamp_qds: 6/45.</text>"
      ],
      "text/plain": [
       "<IPython.core.display.HTML object>"
      ]
     },
     "metadata": {},
     "output_type": "display_data"
    },
    {
     "name": "stdout",
     "output_type": "stream",
     "text": [
      "\tQuerying PM event timestamps for system: QPS, className: DQAMCNMB_PMSTD, source: * from 2022-03-17 17:38:09.020 to 2022-03-17 17:47:19.020\n"
     ]
    },
    {
     "data": {
      "text/html": [
       "<text style=color:blue>Executing RB.A34 query function find_source_timestamp_ee: 1/45.</text>"
      ],
      "text/plain": [
       "<IPython.core.display.HTML object>"
      ]
     },
     "metadata": {},
     "output_type": "display_data"
    },
    {
     "name": "stdout",
     "output_type": "stream",
     "text": [
      "\tQuerying PM event timestamps for system: QPS, className: DQAMSNRB, source: UA43.RB.A34 from 2022-03-21 17:30:08.160 to 2022-03-21 17:46:58.160\n"
     ]
    },
    {
     "data": {
      "text/html": [
       "<text style=color:blue>Executing RB.A34 query function query_ee_u_dump_res_pm: 2/45.</text>"
      ],
      "text/plain": [
       "<IPython.core.display.HTML object>"
      ]
     },
     "metadata": {},
     "output_type": "display_data"
    },
    {
     "name": "stdout",
     "output_type": "stream",
     "text": [
      "\tQuerying PM event signal(s) UA43.RB.A34:U_DUMP_RES for system: QPS, className: DQAMSNRB, source: UA43.RB.A34 at 2022-03-21 17:30:18.726\n"
     ]
    },
    {
     "data": {
      "text/html": [
       "<text style=color:blue>Executing RB.A34 query function find_source_timestamp_ee: 3/45.</text>"
      ],
      "text/plain": [
       "<IPython.core.display.HTML object>"
      ]
     },
     "metadata": {},
     "output_type": "display_data"
    },
    {
     "name": "stdout",
     "output_type": "stream",
     "text": [
      "\tQuerying PM event timestamps for system: QPS, className: DQAMSNRB, source: UJ33.RB.A34 from 2022-03-21 17:30:08.160 to 2022-03-21 17:46:58.160\n"
     ]
    },
    {
     "data": {
      "text/html": [
       "<text style=color:blue>Executing RB.A34 query function query_ee_u_dump_res_pm: 4/45.</text>"
      ],
      "text/plain": [
       "<IPython.core.display.HTML object>"
      ]
     },
     "metadata": {},
     "output_type": "display_data"
    },
    {
     "name": "stdout",
     "output_type": "stream",
     "text": [
      "\tQuerying PM event signal(s) UJ33.RB.A34:U_DUMP_RES for system: QPS, className: DQAMSNRB, source: UJ33.RB.A34 at 2022-03-21 17:30:18.227\n"
     ]
    },
    {
     "data": {
      "text/html": [
       "<text style=color:blue>Executing RB.A34 query function find_timestamp_pic: 5/45.</text>"
      ],
      "text/plain": [
       "<IPython.core.display.HTML object>"
      ]
     },
     "metadata": {},
     "output_type": "display_data"
    },
    {
     "name": "stdout",
     "output_type": "stream",
     "text": [
      "\tQuerying NXCALS signal(s) RB.A34.ODD:ST_ABORT_PIC, RB.A34.EVEN:ST_ABORT_PIC from 2022-03-21 17:30:17.160 to 2022-03-21 17:31:18.160\n"
     ]
    },
    {
     "data": {
      "text/html": [
       "<text style=color:blue>Executing RB.A34 query function find_source_timestamp_qds: 6/45.</text>"
      ],
      "text/plain": [
       "<IPython.core.display.HTML object>"
      ]
     },
     "metadata": {},
     "output_type": "display_data"
    },
    {
     "name": "stdout",
     "output_type": "stream",
     "text": [
      "\tQuerying PM event timestamps for system: QPS, className: DQAMCNMB_PMSTD, source: * from 2022-03-21 17:29:28.160 to 2022-03-21 17:38:38.160\n"
     ]
    },
    {
     "data": {
      "text/html": [
       "<text style=color:blue>Executing RB.A45 query function find_source_timestamp_ee: 1/45.</text>"
      ],
      "text/plain": [
       "<IPython.core.display.HTML object>"
      ]
     },
     "metadata": {},
     "output_type": "display_data"
    },
    {
     "name": "stdout",
     "output_type": "stream",
     "text": [
      "\tQuerying PM event timestamps for system: QPS, className: DQAMSNRB, source: UA47.RB.A45 from 2021-07-14 17:28:33.720 to 2021-07-14 17:45:23.720\n"
     ]
    },
    {
     "data": {
      "text/html": [
       "<text style=color:blue>Executing RB.A45 query function query_ee_u_dump_res_pm: 2/45.</text>"
      ],
      "text/plain": [
       "<IPython.core.display.HTML object>"
      ]
     },
     "metadata": {},
     "output_type": "display_data"
    },
    {
     "name": "stdout",
     "output_type": "stream",
     "text": [
      "\tQuerying PM event signal(s) UA47.RB.A45:U_DUMP_RES for system: QPS, className: DQAMSNRB, source: UA47.RB.A45 at 2021-07-14 17:28:44.277\n"
     ]
    },
    {
     "data": {
      "text/html": [
       "<text style=color:blue>Executing RB.A45 query function find_source_timestamp_ee: 3/45.</text>"
      ],
      "text/plain": [
       "<IPython.core.display.HTML object>"
      ]
     },
     "metadata": {},
     "output_type": "display_data"
    },
    {
     "name": "stdout",
     "output_type": "stream",
     "text": [
      "\tQuerying PM event timestamps for system: QPS, className: DQAMSNRB, source: RR53.RB.A45 from 2021-07-14 17:28:33.720 to 2021-07-14 17:45:23.720\n"
     ]
    },
    {
     "data": {
      "text/html": [
       "<text style=color:blue>Executing RB.A45 query function query_ee_u_dump_res_pm: 4/45.</text>"
      ],
      "text/plain": [
       "<IPython.core.display.HTML object>"
      ]
     },
     "metadata": {},
     "output_type": "display_data"
    },
    {
     "name": "stdout",
     "output_type": "stream",
     "text": [
      "\tQuerying PM event signal(s) RR53.RB.A45:U_DUMP_RES for system: QPS, className: DQAMSNRB, source: RR53.RB.A45 at 2021-07-14 17:28:43.785\n"
     ]
    },
    {
     "data": {
      "text/html": [
       "<text style=color:blue>Executing RB.A45 query function find_timestamp_pic: 5/45.</text>"
      ],
      "text/plain": [
       "<IPython.core.display.HTML object>"
      ]
     },
     "metadata": {},
     "output_type": "display_data"
    },
    {
     "name": "stdout",
     "output_type": "stream",
     "text": [
      "\tQuerying NXCALS signal(s) RB.A45.ODD:ST_ABORT_PIC, RB.A45.EVEN:ST_ABORT_PIC from 2021-07-14 17:28:42.720 to 2021-07-14 17:29:43.720\n"
     ]
    },
    {
     "data": {
      "text/html": [
       "<text style=color:blue>Executing RB.A45 query function find_source_timestamp_qds: 6/45.</text>"
      ],
      "text/plain": [
       "<IPython.core.display.HTML object>"
      ]
     },
     "metadata": {},
     "output_type": "display_data"
    },
    {
     "name": "stdout",
     "output_type": "stream",
     "text": [
      "\tQuerying PM event timestamps for system: QPS, className: DQAMCNMB_PMSTD, source: * from 2021-07-14 17:27:53.720 to 2021-07-14 17:37:03.720\n"
     ]
    },
    {
     "data": {
      "text/html": [
       "<text style=color:blue>Executing RB.A45 query function find_source_timestamp_ee: 1/45.</text>"
      ],
      "text/plain": [
       "<IPython.core.display.HTML object>"
      ]
     },
     "metadata": {},
     "output_type": "display_data"
    },
    {
     "name": "stdout",
     "output_type": "stream",
     "text": [
      "\tQuerying PM event timestamps for system: QPS, className: DQAMSNRB, source: UA47.RB.A45 from 2022-03-14 18:04:22.060 to 2022-03-14 18:21:12.060\n"
     ]
    },
    {
     "data": {
      "text/html": [
       "<text style=color:blue>Executing RB.A45 query function query_ee_u_dump_res_pm: 2/45.</text>"
      ],
      "text/plain": [
       "<IPython.core.display.HTML object>"
      ]
     },
     "metadata": {},
     "output_type": "display_data"
    },
    {
     "name": "stdout",
     "output_type": "stream",
     "text": [
      "\tQuerying PM event signal(s) UA47.RB.A45:U_DUMP_RES for system: QPS, className: DQAMSNRB, source: UA47.RB.A45 at 2022-03-14 18:04:32.621\n"
     ]
    },
    {
     "name": "stderr",
     "output_type": "stream",
     "text": [
      "\n",
      "A value is trying to be set on a copy of a slice from a DataFrame\n",
      "\n",
      "See the caveats in the documentation: https://pandas.pydata.org/pandas-docs/stable/user_guide/indexing.html#returning-a-view-versus-a-copy\n"
     ]
    },
    {
     "data": {
      "text/html": [
       "<text style=color:blue>Executing RB.A45 query function find_source_timestamp_ee: 3/45.</text>"
      ],
      "text/plain": [
       "<IPython.core.display.HTML object>"
      ]
     },
     "metadata": {},
     "output_type": "display_data"
    },
    {
     "name": "stdout",
     "output_type": "stream",
     "text": [
      "\tQuerying PM event timestamps for system: QPS, className: DQAMSNRB, source: RR53.RB.A45 from 2022-03-14 18:04:22.060 to 2022-03-14 18:21:12.060\n"
     ]
    },
    {
     "data": {
      "text/html": [
       "<text style=color:blue>Executing RB.A45 query function query_ee_u_dump_res_pm: 4/45.</text>"
      ],
      "text/plain": [
       "<IPython.core.display.HTML object>"
      ]
     },
     "metadata": {},
     "output_type": "display_data"
    },
    {
     "name": "stdout",
     "output_type": "stream",
     "text": [
      "\tQuerying PM event signal(s) RR53.RB.A45:U_DUMP_RES for system: QPS, className: DQAMSNRB, source: RR53.RB.A45 at 2022-03-14 18:04:32.129\n"
     ]
    },
    {
     "data": {
      "text/html": [
       "<text style=color:blue>Executing RB.A45 query function find_timestamp_pic: 5/45.</text>"
      ],
      "text/plain": [
       "<IPython.core.display.HTML object>"
      ]
     },
     "metadata": {},
     "output_type": "display_data"
    },
    {
     "name": "stdout",
     "output_type": "stream",
     "text": [
      "\tQuerying NXCALS signal(s) RB.A45.ODD:ST_ABORT_PIC, RB.A45.EVEN:ST_ABORT_PIC from 2022-03-14 18:04:31.060 to 2022-03-14 18:05:32.060\n"
     ]
    },
    {
     "data": {
      "text/html": [
       "<text style=color:blue>Executing RB.A45 query function find_source_timestamp_qds: 6/45.</text>"
      ],
      "text/plain": [
       "<IPython.core.display.HTML object>"
      ]
     },
     "metadata": {},
     "output_type": "display_data"
    },
    {
     "name": "stdout",
     "output_type": "stream",
     "text": [
      "\tQuerying PM event timestamps for system: QPS, className: DQAMCNMB_PMSTD, source: * from 2022-03-14 18:03:42.060 to 2022-03-14 18:12:52.060\n"
     ]
    },
    {
     "data": {
      "text/html": [
       "<text style=color:blue>Executing RB.A45 query function find_source_timestamp_ee: 1/45.</text>"
      ],
      "text/plain": [
       "<IPython.core.display.HTML object>"
      ]
     },
     "metadata": {},
     "output_type": "display_data"
    },
    {
     "name": "stdout",
     "output_type": "stream",
     "text": [
      "\tQuerying PM event timestamps for system: QPS, className: DQAMSNRB, source: UA47.RB.A45 from 2022-03-15 18:09:36.660 to 2022-03-15 18:26:26.660\n"
     ]
    },
    {
     "data": {
      "text/html": [
       "<text style=color:blue>Executing RB.A45 query function query_ee_u_dump_res_pm: 2/45.</text>"
      ],
      "text/plain": [
       "<IPython.core.display.HTML object>"
      ]
     },
     "metadata": {},
     "output_type": "display_data"
    },
    {
     "name": "stdout",
     "output_type": "stream",
     "text": [
      "\tQuerying PM event signal(s) UA47.RB.A45:U_DUMP_RES for system: QPS, className: DQAMSNRB, source: UA47.RB.A45 at 2022-03-15 18:09:47.215\n"
     ]
    },
    {
     "data": {
      "text/html": [
       "<text style=color:blue>Executing RB.A45 query function find_source_timestamp_ee: 3/45.</text>"
      ],
      "text/plain": [
       "<IPython.core.display.HTML object>"
      ]
     },
     "metadata": {},
     "output_type": "display_data"
    },
    {
     "name": "stdout",
     "output_type": "stream",
     "text": [
      "\tQuerying PM event timestamps for system: QPS, className: DQAMSNRB, source: RR53.RB.A45 from 2022-03-15 18:09:36.660 to 2022-03-15 18:26:26.660\n"
     ]
    },
    {
     "data": {
      "text/html": [
       "<text style=color:blue>Executing RB.A45 query function query_ee_u_dump_res_pm: 4/45.</text>"
      ],
      "text/plain": [
       "<IPython.core.display.HTML object>"
      ]
     },
     "metadata": {},
     "output_type": "display_data"
    },
    {
     "name": "stdout",
     "output_type": "stream",
     "text": [
      "\tQuerying PM event signal(s) RR53.RB.A45:U_DUMP_RES for system: QPS, className: DQAMSNRB, source: RR53.RB.A45 at 2022-03-15 18:09:46.724\n"
     ]
    },
    {
     "data": {
      "text/html": [
       "<text style=color:blue>Executing RB.A45 query function find_timestamp_pic: 5/45.</text>"
      ],
      "text/plain": [
       "<IPython.core.display.HTML object>"
      ]
     },
     "metadata": {},
     "output_type": "display_data"
    },
    {
     "name": "stdout",
     "output_type": "stream",
     "text": [
      "\tQuerying NXCALS signal(s) RB.A45.ODD:ST_ABORT_PIC, RB.A45.EVEN:ST_ABORT_PIC from 2022-03-15 18:09:45.660 to 2022-03-15 18:10:46.660\n"
     ]
    },
    {
     "data": {
      "text/html": [
       "<text style=color:blue>Executing RB.A45 query function find_source_timestamp_qds: 6/45.</text>"
      ],
      "text/plain": [
       "<IPython.core.display.HTML object>"
      ]
     },
     "metadata": {},
     "output_type": "display_data"
    },
    {
     "name": "stdout",
     "output_type": "stream",
     "text": [
      "\tQuerying PM event timestamps for system: QPS, className: DQAMCNMB_PMSTD, source: * from 2022-03-15 18:08:56.660 to 2022-03-15 18:18:06.660\n"
     ]
    },
    {
     "data": {
      "text/html": [
       "<text style=color:blue>Executing RB.A45 query function find_source_timestamp_ee: 1/45.</text>"
      ],
      "text/plain": [
       "<IPython.core.display.HTML object>"
      ]
     },
     "metadata": {},
     "output_type": "display_data"
    },
    {
     "name": "stdout",
     "output_type": "stream",
     "text": [
      "\tQuerying PM event timestamps for system: QPS, className: DQAMSNRB, source: UA47.RB.A45 from 2022-03-17 08:22:02.300 to 2022-03-17 08:38:52.300\n"
     ]
    },
    {
     "data": {
      "text/html": [
       "<text style=color:blue>Executing RB.A45 query function query_ee_u_dump_res_pm: 2/45.</text>"
      ],
      "text/plain": [
       "<IPython.core.display.HTML object>"
      ]
     },
     "metadata": {},
     "output_type": "display_data"
    },
    {
     "name": "stdout",
     "output_type": "stream",
     "text": [
      "\tQuerying PM event signal(s) UA47.RB.A45:U_DUMP_RES for system: QPS, className: DQAMSNRB, source: UA47.RB.A45 at 2022-03-17 08:22:12.867\n"
     ]
    },
    {
     "data": {
      "text/html": [
       "<text style=color:blue>Executing RB.A45 query function find_source_timestamp_ee: 3/45.</text>"
      ],
      "text/plain": [
       "<IPython.core.display.HTML object>"
      ]
     },
     "metadata": {},
     "output_type": "display_data"
    },
    {
     "name": "stdout",
     "output_type": "stream",
     "text": [
      "\tQuerying PM event timestamps for system: QPS, className: DQAMSNRB, source: RR53.RB.A45 from 2022-03-17 08:22:02.300 to 2022-03-17 08:38:52.300\n"
     ]
    },
    {
     "data": {
      "text/html": [
       "<text style=color:blue>Executing RB.A45 query function query_ee_u_dump_res_pm: 4/45.</text>"
      ],
      "text/plain": [
       "<IPython.core.display.HTML object>"
      ]
     },
     "metadata": {},
     "output_type": "display_data"
    },
    {
     "name": "stdout",
     "output_type": "stream",
     "text": [
      "\tQuerying PM event signal(s) RR53.RB.A45:U_DUMP_RES for system: QPS, className: DQAMSNRB, source: RR53.RB.A45 at 2022-03-17 08:22:12.376\n"
     ]
    },
    {
     "data": {
      "text/html": [
       "<text style=color:blue>Executing RB.A45 query function find_timestamp_pic: 5/45.</text>"
      ],
      "text/plain": [
       "<IPython.core.display.HTML object>"
      ]
     },
     "metadata": {},
     "output_type": "display_data"
    },
    {
     "name": "stdout",
     "output_type": "stream",
     "text": [
      "\tQuerying NXCALS signal(s) RB.A45.ODD:ST_ABORT_PIC, RB.A45.EVEN:ST_ABORT_PIC from 2022-03-17 08:22:11.300 to 2022-03-17 08:23:12.300\n"
     ]
    },
    {
     "data": {
      "text/html": [
       "<text style=color:blue>Executing RB.A45 query function find_source_timestamp_qds: 6/45.</text>"
      ],
      "text/plain": [
       "<IPython.core.display.HTML object>"
      ]
     },
     "metadata": {},
     "output_type": "display_data"
    },
    {
     "name": "stdout",
     "output_type": "stream",
     "text": [
      "\tQuerying PM event timestamps for system: QPS, className: DQAMCNMB_PMSTD, source: * from 2022-03-17 08:21:22.300 to 2022-03-17 08:30:32.300\n"
     ]
    },
    {
     "data": {
      "text/html": [
       "<text style=color:blue>Executing RB.A45 query function find_source_timestamp_ee: 1/45.</text>"
      ],
      "text/plain": [
       "<IPython.core.display.HTML object>"
      ]
     },
     "metadata": {},
     "output_type": "display_data"
    },
    {
     "name": "stdout",
     "output_type": "stream",
     "text": [
      "\tQuerying PM event timestamps for system: QPS, className: DQAMSNRB, source: UA47.RB.A45 from 2022-03-17 17:39:45.340 to 2022-03-17 17:56:35.340\n"
     ]
    },
    {
     "data": {
      "text/html": [
       "<text style=color:blue>Executing RB.A45 query function query_ee_u_dump_res_pm: 2/45.</text>"
      ],
      "text/plain": [
       "<IPython.core.display.HTML object>"
      ]
     },
     "metadata": {},
     "output_type": "display_data"
    },
    {
     "name": "stdout",
     "output_type": "stream",
     "text": [
      "\tQuerying PM event signal(s) UA47.RB.A45:U_DUMP_RES for system: QPS, className: DQAMSNRB, source: UA47.RB.A45 at 2022-03-17 17:39:55.907\n"
     ]
    },
    {
     "name": "stderr",
     "output_type": "stream",
     "text": [
      "\n",
      "A value is trying to be set on a copy of a slice from a DataFrame\n",
      "\n",
      "See the caveats in the documentation: https://pandas.pydata.org/pandas-docs/stable/user_guide/indexing.html#returning-a-view-versus-a-copy\n"
     ]
    },
    {
     "data": {
      "text/html": [
       "<text style=color:blue>Executing RB.A45 query function find_source_timestamp_ee: 3/45.</text>"
      ],
      "text/plain": [
       "<IPython.core.display.HTML object>"
      ]
     },
     "metadata": {},
     "output_type": "display_data"
    },
    {
     "name": "stdout",
     "output_type": "stream",
     "text": [
      "\tQuerying PM event timestamps for system: QPS, className: DQAMSNRB, source: RR53.RB.A45 from 2022-03-17 17:39:45.340 to 2022-03-17 17:56:35.340\n"
     ]
    },
    {
     "data": {
      "text/html": [
       "<text style=color:blue>Executing RB.A45 query function query_ee_u_dump_res_pm: 4/45.</text>"
      ],
      "text/plain": [
       "<IPython.core.display.HTML object>"
      ]
     },
     "metadata": {},
     "output_type": "display_data"
    },
    {
     "name": "stdout",
     "output_type": "stream",
     "text": [
      "\tQuerying PM event signal(s) RR53.RB.A45:U_DUMP_RES for system: QPS, className: DQAMSNRB, source: RR53.RB.A45 at 2022-03-17 17:39:55.413\n"
     ]
    },
    {
     "name": "stderr",
     "output_type": "stream",
     "text": [
      "\n",
      "A value is trying to be set on a copy of a slice from a DataFrame\n",
      "\n",
      "See the caveats in the documentation: https://pandas.pydata.org/pandas-docs/stable/user_guide/indexing.html#returning-a-view-versus-a-copy\n"
     ]
    },
    {
     "data": {
      "text/html": [
       "<text style=color:blue>Executing RB.A45 query function find_timestamp_pic: 5/45.</text>"
      ],
      "text/plain": [
       "<IPython.core.display.HTML object>"
      ]
     },
     "metadata": {},
     "output_type": "display_data"
    },
    {
     "name": "stdout",
     "output_type": "stream",
     "text": [
      "\tQuerying NXCALS signal(s) RB.A45.ODD:ST_ABORT_PIC, RB.A45.EVEN:ST_ABORT_PIC from 2022-03-17 17:39:54.340 to 2022-03-17 17:40:55.340\n"
     ]
    },
    {
     "data": {
      "text/html": [
       "<text style=color:blue>Executing RB.A45 query function find_source_timestamp_qds: 6/45.</text>"
      ],
      "text/plain": [
       "<IPython.core.display.HTML object>"
      ]
     },
     "metadata": {},
     "output_type": "display_data"
    },
    {
     "name": "stdout",
     "output_type": "stream",
     "text": [
      "\tQuerying PM event timestamps for system: QPS, className: DQAMCNMB_PMSTD, source: * from 2022-03-17 17:39:05.340 to 2022-03-17 17:48:15.340\n"
     ]
    },
    {
     "data": {
      "text/html": [
       "<text style=color:blue>Executing RB.A45 query function find_source_timestamp_ee: 1/45.</text>"
      ],
      "text/plain": [
       "<IPython.core.display.HTML object>"
      ]
     },
     "metadata": {},
     "output_type": "display_data"
    },
    {
     "name": "stdout",
     "output_type": "stream",
     "text": [
      "\tQuerying PM event timestamps for system: QPS, className: DQAMSNRB, source: UA47.RB.A45 from 2022-03-24 14:27:57.040 to 2022-03-24 14:44:47.040\n"
     ]
    },
    {
     "data": {
      "text/html": [
       "<text style=color:blue>Executing RB.A45 query function query_ee_u_dump_res_pm: 2/45.</text>"
      ],
      "text/plain": [
       "<IPython.core.display.HTML object>"
      ]
     },
     "metadata": {},
     "output_type": "display_data"
    },
    {
     "name": "stdout",
     "output_type": "stream",
     "text": [
      "\tQuerying PM event signal(s) UA47.RB.A45:U_DUMP_RES for system: QPS, className: DQAMSNRB, source: UA47.RB.A45 at 2022-03-24 14:28:07.612\n"
     ]
    },
    {
     "data": {
      "text/html": [
       "<text style=color:blue>Executing RB.A45 query function find_source_timestamp_ee: 3/45.</text>"
      ],
      "text/plain": [
       "<IPython.core.display.HTML object>"
      ]
     },
     "metadata": {},
     "output_type": "display_data"
    },
    {
     "name": "stdout",
     "output_type": "stream",
     "text": [
      "\tQuerying PM event timestamps for system: QPS, className: DQAMSNRB, source: RR53.RB.A45 from 2022-03-24 14:27:57.040 to 2022-03-24 14:44:47.040\n"
     ]
    },
    {
     "data": {
      "text/html": [
       "<text style=color:blue>Executing RB.A45 query function query_ee_u_dump_res_pm: 4/45.</text>"
      ],
      "text/plain": [
       "<IPython.core.display.HTML object>"
      ]
     },
     "metadata": {},
     "output_type": "display_data"
    },
    {
     "name": "stdout",
     "output_type": "stream",
     "text": [
      "\tQuerying PM event signal(s) RR53.RB.A45:U_DUMP_RES for system: QPS, className: DQAMSNRB, source: RR53.RB.A45 at 2022-03-24 14:28:07.120\n"
     ]
    },
    {
     "data": {
      "text/html": [
       "<text style=color:blue>Executing RB.A45 query function find_timestamp_pic: 5/45.</text>"
      ],
      "text/plain": [
       "<IPython.core.display.HTML object>"
      ]
     },
     "metadata": {},
     "output_type": "display_data"
    },
    {
     "name": "stdout",
     "output_type": "stream",
     "text": [
      "\tQuerying NXCALS signal(s) RB.A45.ODD:ST_ABORT_PIC, RB.A45.EVEN:ST_ABORT_PIC from 2022-03-24 14:28:06.040 to 2022-03-24 14:29:07.040\n"
     ]
    },
    {
     "data": {
      "text/html": [
       "<text style=color:blue>Executing RB.A45 query function find_source_timestamp_qds: 6/45.</text>"
      ],
      "text/plain": [
       "<IPython.core.display.HTML object>"
      ]
     },
     "metadata": {},
     "output_type": "display_data"
    },
    {
     "name": "stdout",
     "output_type": "stream",
     "text": [
      "\tQuerying PM event timestamps for system: QPS, className: DQAMCNMB_PMSTD, source: * from 2022-03-24 14:27:17.040 to 2022-03-24 14:36:27.040\n"
     ]
    },
    {
     "data": {
      "text/html": [
       "<text style=color:blue>Executing RB.A45 query function find_source_timestamp_ee: 1/45.</text>"
      ],
      "text/plain": [
       "<IPython.core.display.HTML object>"
      ]
     },
     "metadata": {},
     "output_type": "display_data"
    },
    {
     "name": "stdout",
     "output_type": "stream",
     "text": [
      "\tQuerying PM event timestamps for system: QPS, className: DQAMSNRB, source: UA47.RB.A45 from 2022-03-24 16:12:11.920 to 2022-03-24 16:29:01.920\n"
     ]
    },
    {
     "data": {
      "text/html": [
       "<text style=color:blue>Executing RB.A45 query function query_ee_u_dump_res_pm: 2/45.</text>"
      ],
      "text/plain": [
       "<IPython.core.display.HTML object>"
      ]
     },
     "metadata": {},
     "output_type": "display_data"
    },
    {
     "name": "stdout",
     "output_type": "stream",
     "text": [
      "\tQuerying PM event signal(s) UA47.RB.A45:U_DUMP_RES for system: QPS, className: DQAMSNRB, source: UA47.RB.A45 at 2022-03-24 16:12:22.493\n"
     ]
    },
    {
     "data": {
      "text/html": [
       "<text style=color:blue>Executing RB.A45 query function find_source_timestamp_ee: 3/45.</text>"
      ],
      "text/plain": [
       "<IPython.core.display.HTML object>"
      ]
     },
     "metadata": {},
     "output_type": "display_data"
    },
    {
     "name": "stdout",
     "output_type": "stream",
     "text": [
      "\tQuerying PM event timestamps for system: QPS, className: DQAMSNRB, source: RR53.RB.A45 from 2022-03-24 16:12:11.920 to 2022-03-24 16:29:01.920\n"
     ]
    },
    {
     "data": {
      "text/html": [
       "<text style=color:blue>Executing RB.A45 query function query_ee_u_dump_res_pm: 4/45.</text>"
      ],
      "text/plain": [
       "<IPython.core.display.HTML object>"
      ]
     },
     "metadata": {},
     "output_type": "display_data"
    },
    {
     "name": "stdout",
     "output_type": "stream",
     "text": [
      "\tQuerying PM event signal(s) RR53.RB.A45:U_DUMP_RES for system: QPS, className: DQAMSNRB, source: RR53.RB.A45 at 2022-03-24 16:12:22.001\n"
     ]
    },
    {
     "data": {
      "text/html": [
       "<text style=color:blue>Executing RB.A45 query function find_timestamp_pic: 5/45.</text>"
      ],
      "text/plain": [
       "<IPython.core.display.HTML object>"
      ]
     },
     "metadata": {},
     "output_type": "display_data"
    },
    {
     "name": "stdout",
     "output_type": "stream",
     "text": [
      "\tQuerying NXCALS signal(s) RB.A45.ODD:ST_ABORT_PIC, RB.A45.EVEN:ST_ABORT_PIC from 2022-03-24 16:12:20.920 to 2022-03-24 16:13:21.920\n"
     ]
    },
    {
     "data": {
      "text/html": [
       "<text style=color:blue>Executing RB.A45 query function find_source_timestamp_qds: 6/45.</text>"
      ],
      "text/plain": [
       "<IPython.core.display.HTML object>"
      ]
     },
     "metadata": {},
     "output_type": "display_data"
    },
    {
     "name": "stdout",
     "output_type": "stream",
     "text": [
      "\tQuerying PM event timestamps for system: QPS, className: DQAMCNMB_PMSTD, source: * from 2022-03-24 16:11:31.920 to 2022-03-24 16:20:41.920\n"
     ]
    },
    {
     "data": {
      "text/html": [
       "<text style=color:blue>Executing RB.A45 query function find_source_timestamp_ee: 1/45.</text>"
      ],
      "text/plain": [
       "<IPython.core.display.HTML object>"
      ]
     },
     "metadata": {},
     "output_type": "display_data"
    },
    {
     "name": "stdout",
     "output_type": "stream",
     "text": [
      "\tQuerying PM event timestamps for system: QPS, className: DQAMSNRB, source: UA47.RB.A45 from 2022-03-24 17:20:42.620 to 2022-03-24 17:37:32.620\n"
     ]
    },
    {
     "data": {
      "text/html": [
       "<text style=color:blue>Executing RB.A45 query function query_ee_u_dump_res_pm: 2/45.</text>"
      ],
      "text/plain": [
       "<IPython.core.display.HTML object>"
      ]
     },
     "metadata": {},
     "output_type": "display_data"
    },
    {
     "name": "stdout",
     "output_type": "stream",
     "text": [
      "\tQuerying PM event signal(s) UA47.RB.A45:U_DUMP_RES for system: QPS, className: DQAMSNRB, source: UA47.RB.A45 at 2022-03-24 17:20:53.182\n"
     ]
    },
    {
     "data": {
      "text/html": [
       "<text style=color:blue>Executing RB.A45 query function find_source_timestamp_ee: 3/45.</text>"
      ],
      "text/plain": [
       "<IPython.core.display.HTML object>"
      ]
     },
     "metadata": {},
     "output_type": "display_data"
    },
    {
     "name": "stdout",
     "output_type": "stream",
     "text": [
      "\tQuerying PM event timestamps for system: QPS, className: DQAMSNRB, source: RR53.RB.A45 from 2022-03-24 17:20:42.620 to 2022-03-24 17:37:32.620\n"
     ]
    },
    {
     "data": {
      "text/html": [
       "<text style=color:blue>Executing RB.A45 query function query_ee_u_dump_res_pm: 4/45.</text>"
      ],
      "text/plain": [
       "<IPython.core.display.HTML object>"
      ]
     },
     "metadata": {},
     "output_type": "display_data"
    },
    {
     "name": "stdout",
     "output_type": "stream",
     "text": [
      "\tQuerying PM event signal(s) RR53.RB.A45:U_DUMP_RES for system: QPS, className: DQAMSNRB, source: RR53.RB.A45 at 2022-03-24 17:20:52.688\n"
     ]
    },
    {
     "data": {
      "text/html": [
       "<text style=color:blue>Executing RB.A45 query function find_timestamp_pic: 5/45.</text>"
      ],
      "text/plain": [
       "<IPython.core.display.HTML object>"
      ]
     },
     "metadata": {},
     "output_type": "display_data"
    },
    {
     "name": "stdout",
     "output_type": "stream",
     "text": [
      "\tQuerying NXCALS signal(s) RB.A45.ODD:ST_ABORT_PIC, RB.A45.EVEN:ST_ABORT_PIC from 2022-03-24 17:20:51.620 to 2022-03-24 17:21:52.620\n"
     ]
    },
    {
     "data": {
      "text/html": [
       "<text style=color:blue>Executing RB.A45 query function find_source_timestamp_qds: 6/45.</text>"
      ],
      "text/plain": [
       "<IPython.core.display.HTML object>"
      ]
     },
     "metadata": {},
     "output_type": "display_data"
    },
    {
     "name": "stdout",
     "output_type": "stream",
     "text": [
      "\tQuerying PM event timestamps for system: QPS, className: DQAMCNMB_PMSTD, source: * from 2022-03-24 17:20:02.620 to 2022-03-24 17:29:12.620\n"
     ]
    },
    {
     "data": {
      "text/html": [
       "<text style=color:blue>Executing RB.A56 query function find_source_timestamp_ee: 1/45.</text>"
      ],
      "text/plain": [
       "<IPython.core.display.HTML object>"
      ]
     },
     "metadata": {},
     "output_type": "display_data"
    },
    {
     "name": "stdout",
     "output_type": "stream",
     "text": [
      "\tQuerying PM event timestamps for system: QPS, className: DQAMSNRB, source: UA63.RB.A56 from 2021-07-15 17:23:19.660 to 2021-07-15 17:40:09.660\n"
     ]
    },
    {
     "data": {
      "text/html": [
       "<text style=color:blue>Executing RB.A56 query function query_ee_u_dump_res_pm: 2/45.</text>"
      ],
      "text/plain": [
       "<IPython.core.display.HTML object>"
      ]
     },
     "metadata": {},
     "output_type": "display_data"
    },
    {
     "name": "stdout",
     "output_type": "stream",
     "text": [
      "\tQuerying PM event signal(s) UA63.RB.A56:U_DUMP_RES for system: QPS, className: DQAMSNRB, source: UA63.RB.A56 at 2021-07-15 17:23:30.234\n"
     ]
    },
    {
     "data": {
      "text/html": [
       "<text style=color:blue>Executing RB.A56 query function find_source_timestamp_ee: 3/45.</text>"
      ],
      "text/plain": [
       "<IPython.core.display.HTML object>"
      ]
     },
     "metadata": {},
     "output_type": "display_data"
    },
    {
     "name": "stdout",
     "output_type": "stream",
     "text": [
      "\tQuerying PM event timestamps for system: QPS, className: DQAMSNRB, source: RR57.RB.A56 from 2021-07-15 17:23:19.660 to 2021-07-15 17:40:09.660\n"
     ]
    },
    {
     "data": {
      "text/html": [
       "<text style=color:blue>Executing RB.A56 query function query_ee_u_dump_res_pm: 4/45.</text>"
      ],
      "text/plain": [
       "<IPython.core.display.HTML object>"
      ]
     },
     "metadata": {},
     "output_type": "display_data"
    },
    {
     "name": "stdout",
     "output_type": "stream",
     "text": [
      "\tQuerying PM event signal(s) RR57.RB.A56:U_DUMP_RES for system: QPS, className: DQAMSNRB, source: RR57.RB.A56 at 2021-07-15 17:23:29.737\n"
     ]
    },
    {
     "data": {
      "text/html": [
       "<text style=color:blue>Executing RB.A56 query function find_timestamp_pic: 5/45.</text>"
      ],
      "text/plain": [
       "<IPython.core.display.HTML object>"
      ]
     },
     "metadata": {},
     "output_type": "display_data"
    },
    {
     "name": "stdout",
     "output_type": "stream",
     "text": [
      "\tQuerying NXCALS signal(s) RB.A56.ODD:ST_ABORT_PIC, RB.A56.EVEN:ST_ABORT_PIC from 2021-07-15 17:23:28.660 to 2021-07-15 17:24:29.660\n"
     ]
    },
    {
     "data": {
      "text/html": [
       "<text style=color:blue>Executing RB.A56 query function find_source_timestamp_qds: 6/45.</text>"
      ],
      "text/plain": [
       "<IPython.core.display.HTML object>"
      ]
     },
     "metadata": {},
     "output_type": "display_data"
    },
    {
     "name": "stdout",
     "output_type": "stream",
     "text": [
      "\tQuerying PM event timestamps for system: QPS, className: DQAMCNMB_PMSTD, source: * from 2021-07-15 17:22:39.660 to 2021-07-15 17:31:49.660\n"
     ]
    },
    {
     "data": {
      "text/html": [
       "<text style=color:blue>Executing RB.A56 query function find_source_timestamp_ee: 1/45.</text>"
      ],
      "text/plain": [
       "<IPython.core.display.HTML object>"
      ]
     },
     "metadata": {},
     "output_type": "display_data"
    },
    {
     "name": "stdout",
     "output_type": "stream",
     "text": [
      "\tQuerying PM event timestamps for system: QPS, className: DQAMSNRB, source: UA63.RB.A56 from 2022-03-14 18:04:46.120 to 2022-03-14 18:21:36.120\n"
     ]
    },
    {
     "data": {
      "text/html": [
       "<text style=color:blue>Executing RB.A56 query function query_ee_u_dump_res_pm: 2/45.</text>"
      ],
      "text/plain": [
       "<IPython.core.display.HTML object>"
      ]
     },
     "metadata": {},
     "output_type": "display_data"
    },
    {
     "name": "stdout",
     "output_type": "stream",
     "text": [
      "\tQuerying PM event signal(s) UA63.RB.A56:U_DUMP_RES for system: QPS, className: DQAMSNRB, source: UA63.RB.A56 at 2022-03-14 18:04:56.696\n"
     ]
    },
    {
     "data": {
      "text/html": [
       "<text style=color:blue>Executing RB.A56 query function find_source_timestamp_ee: 3/45.</text>"
      ],
      "text/plain": [
       "<IPython.core.display.HTML object>"
      ]
     },
     "metadata": {},
     "output_type": "display_data"
    },
    {
     "name": "stdout",
     "output_type": "stream",
     "text": [
      "\tQuerying PM event timestamps for system: QPS, className: DQAMSNRB, source: RR57.RB.A56 from 2022-03-14 18:04:46.120 to 2022-03-14 18:21:36.120\n"
     ]
    },
    {
     "data": {
      "text/html": [
       "<text style=color:blue>Executing RB.A56 query function query_ee_u_dump_res_pm: 4/45.</text>"
      ],
      "text/plain": [
       "<IPython.core.display.HTML object>"
      ]
     },
     "metadata": {},
     "output_type": "display_data"
    },
    {
     "name": "stdout",
     "output_type": "stream",
     "text": [
      "\tQuerying PM event signal(s) RR57.RB.A56:U_DUMP_RES for system: QPS, className: DQAMSNRB, source: RR57.RB.A56 at 2022-03-14 18:04:56.199\n"
     ]
    },
    {
     "data": {
      "text/html": [
       "<text style=color:blue>Executing RB.A56 query function find_timestamp_pic: 5/45.</text>"
      ],
      "text/plain": [
       "<IPython.core.display.HTML object>"
      ]
     },
     "metadata": {},
     "output_type": "display_data"
    },
    {
     "name": "stdout",
     "output_type": "stream",
     "text": [
      "\tQuerying NXCALS signal(s) RB.A56.ODD:ST_ABORT_PIC, RB.A56.EVEN:ST_ABORT_PIC from 2022-03-14 18:04:55.120 to 2022-03-14 18:05:56.120\n"
     ]
    },
    {
     "data": {
      "text/html": [
       "<text style=color:blue>Executing RB.A56 query function find_source_timestamp_qds: 6/45.</text>"
      ],
      "text/plain": [
       "<IPython.core.display.HTML object>"
      ]
     },
     "metadata": {},
     "output_type": "display_data"
    },
    {
     "name": "stdout",
     "output_type": "stream",
     "text": [
      "\tQuerying PM event timestamps for system: QPS, className: DQAMCNMB_PMSTD, source: * from 2022-03-14 18:04:06.120 to 2022-03-14 18:13:16.120\n"
     ]
    },
    {
     "data": {
      "text/html": [
       "<text style=color:blue>Executing RB.A56 query function find_source_timestamp_ee: 1/45.</text>"
      ],
      "text/plain": [
       "<IPython.core.display.HTML object>"
      ]
     },
     "metadata": {},
     "output_type": "display_data"
    },
    {
     "name": "stdout",
     "output_type": "stream",
     "text": [
      "\tQuerying PM event timestamps for system: QPS, className: DQAMSNRB, source: UA63.RB.A56 from 2022-03-15 18:08:27.380 to 2022-03-15 18:25:17.380\n"
     ]
    },
    {
     "data": {
      "text/html": [
       "<text style=color:blue>Executing RB.A56 query function query_ee_u_dump_res_pm: 2/45.</text>"
      ],
      "text/plain": [
       "<IPython.core.display.HTML object>"
      ]
     },
     "metadata": {},
     "output_type": "display_data"
    },
    {
     "name": "stdout",
     "output_type": "stream",
     "text": [
      "\tQuerying PM event signal(s) UA63.RB.A56:U_DUMP_RES for system: QPS, className: DQAMSNRB, source: UA63.RB.A56 at 2022-03-15 18:08:37.946\n"
     ]
    },
    {
     "data": {
      "text/html": [
       "<text style=color:blue>Executing RB.A56 query function find_source_timestamp_ee: 3/45.</text>"
      ],
      "text/plain": [
       "<IPython.core.display.HTML object>"
      ]
     },
     "metadata": {},
     "output_type": "display_data"
    },
    {
     "name": "stdout",
     "output_type": "stream",
     "text": [
      "\tQuerying PM event timestamps for system: QPS, className: DQAMSNRB, source: RR57.RB.A56 from 2022-03-15 18:08:27.380 to 2022-03-15 18:25:17.380\n"
     ]
    },
    {
     "data": {
      "text/html": [
       "<text style=color:blue>Executing RB.A56 query function query_ee_u_dump_res_pm: 4/45.</text>"
      ],
      "text/plain": [
       "<IPython.core.display.HTML object>"
      ]
     },
     "metadata": {},
     "output_type": "display_data"
    },
    {
     "name": "stdout",
     "output_type": "stream",
     "text": [
      "\tQuerying PM event signal(s) RR57.RB.A56:U_DUMP_RES for system: QPS, className: DQAMSNRB, source: RR57.RB.A56 at 2022-03-15 18:08:37.446\n"
     ]
    },
    {
     "data": {
      "text/html": [
       "<text style=color:blue>Executing RB.A56 query function find_timestamp_pic: 5/45.</text>"
      ],
      "text/plain": [
       "<IPython.core.display.HTML object>"
      ]
     },
     "metadata": {},
     "output_type": "display_data"
    },
    {
     "name": "stdout",
     "output_type": "stream",
     "text": [
      "\tQuerying NXCALS signal(s) RB.A56.ODD:ST_ABORT_PIC, RB.A56.EVEN:ST_ABORT_PIC from 2022-03-15 18:08:36.380 to 2022-03-15 18:09:37.380\n"
     ]
    },
    {
     "data": {
      "text/html": [
       "<text style=color:blue>Executing RB.A56 query function find_source_timestamp_qds: 6/45.</text>"
      ],
      "text/plain": [
       "<IPython.core.display.HTML object>"
      ]
     },
     "metadata": {},
     "output_type": "display_data"
    },
    {
     "name": "stdout",
     "output_type": "stream",
     "text": [
      "\tQuerying PM event timestamps for system: QPS, className: DQAMCNMB_PMSTD, source: * from 2022-03-15 18:07:47.380 to 2022-03-15 18:16:57.380\n"
     ]
    },
    {
     "data": {
      "text/html": [
       "<text style=color:blue>Executing RB.A56 query function find_source_timestamp_ee: 1/45.</text>"
      ],
      "text/plain": [
       "<IPython.core.display.HTML object>"
      ]
     },
     "metadata": {},
     "output_type": "display_data"
    },
    {
     "name": "stdout",
     "output_type": "stream",
     "text": [
      "\tQuerying PM event timestamps for system: QPS, className: DQAMSNRB, source: UA63.RB.A56 from 2022-03-17 08:22:23.180 to 2022-03-17 08:39:13.180\n"
     ]
    },
    {
     "data": {
      "text/html": [
       "<text style=color:blue>Executing RB.A56 query function query_ee_u_dump_res_pm: 2/45.</text>"
      ],
      "text/plain": [
       "<IPython.core.display.HTML object>"
      ]
     },
     "metadata": {},
     "output_type": "display_data"
    },
    {
     "name": "stdout",
     "output_type": "stream",
     "text": [
      "\tQuerying PM event signal(s) UA63.RB.A56:U_DUMP_RES for system: QPS, className: DQAMSNRB, source: UA63.RB.A56 at 2022-03-17 08:22:33.757\n"
     ]
    },
    {
     "data": {
      "text/html": [
       "<text style=color:blue>Executing RB.A56 query function find_source_timestamp_ee: 3/45.</text>"
      ],
      "text/plain": [
       "<IPython.core.display.HTML object>"
      ]
     },
     "metadata": {},
     "output_type": "display_data"
    },
    {
     "name": "stdout",
     "output_type": "stream",
     "text": [
      "\tQuerying PM event timestamps for system: QPS, className: DQAMSNRB, source: RR57.RB.A56 from 2022-03-17 08:22:23.180 to 2022-03-17 08:39:13.180\n"
     ]
    },
    {
     "data": {
      "text/html": [
       "<text style=color:blue>Executing RB.A56 query function query_ee_u_dump_res_pm: 4/45.</text>"
      ],
      "text/plain": [
       "<IPython.core.display.HTML object>"
      ]
     },
     "metadata": {},
     "output_type": "display_data"
    },
    {
     "name": "stdout",
     "output_type": "stream",
     "text": [
      "\tQuerying PM event signal(s) RR57.RB.A56:U_DUMP_RES for system: QPS, className: DQAMSNRB, source: RR57.RB.A56 at 2022-03-17 08:22:33.257\n"
     ]
    },
    {
     "data": {
      "text/html": [
       "<text style=color:blue>Executing RB.A56 query function find_timestamp_pic: 5/45.</text>"
      ],
      "text/plain": [
       "<IPython.core.display.HTML object>"
      ]
     },
     "metadata": {},
     "output_type": "display_data"
    },
    {
     "name": "stdout",
     "output_type": "stream",
     "text": [
      "\tQuerying NXCALS signal(s) RB.A56.ODD:ST_ABORT_PIC, RB.A56.EVEN:ST_ABORT_PIC from 2022-03-17 08:22:32.180 to 2022-03-17 08:23:33.180\n"
     ]
    },
    {
     "data": {
      "text/html": [
       "<text style=color:blue>Executing RB.A56 query function find_source_timestamp_qds: 6/45.</text>"
      ],
      "text/plain": [
       "<IPython.core.display.HTML object>"
      ]
     },
     "metadata": {},
     "output_type": "display_data"
    },
    {
     "name": "stdout",
     "output_type": "stream",
     "text": [
      "\tQuerying PM event timestamps for system: QPS, className: DQAMCNMB_PMSTD, source: * from 2022-03-17 08:21:43.180 to 2022-03-17 08:30:53.180\n"
     ]
    },
    {
     "data": {
      "text/html": [
       "<text style=color:blue>Executing RB.A56 query function find_source_timestamp_ee: 1/45.</text>"
      ],
      "text/plain": [
       "<IPython.core.display.HTML object>"
      ]
     },
     "metadata": {},
     "output_type": "display_data"
    },
    {
     "name": "stdout",
     "output_type": "stream",
     "text": [
      "\tQuerying PM event timestamps for system: QPS, className: DQAMSNRB, source: UA63.RB.A56 from 2022-03-17 17:40:37.920 to 2022-03-17 17:57:27.920\n"
     ]
    },
    {
     "data": {
      "text/html": [
       "<text style=color:blue>Executing RB.A56 query function query_ee_u_dump_res_pm: 2/45.</text>"
      ],
      "text/plain": [
       "<IPython.core.display.HTML object>"
      ]
     },
     "metadata": {},
     "output_type": "display_data"
    },
    {
     "name": "stdout",
     "output_type": "stream",
     "text": [
      "\tQuerying PM event signal(s) UA63.RB.A56:U_DUMP_RES for system: QPS, className: DQAMSNRB, source: UA63.RB.A56 at 2022-03-17 17:40:48.491\n"
     ]
    },
    {
     "data": {
      "text/html": [
       "<text style=color:blue>Executing RB.A56 query function find_source_timestamp_ee: 3/45.</text>"
      ],
      "text/plain": [
       "<IPython.core.display.HTML object>"
      ]
     },
     "metadata": {},
     "output_type": "display_data"
    },
    {
     "name": "stdout",
     "output_type": "stream",
     "text": [
      "\tQuerying PM event timestamps for system: QPS, className: DQAMSNRB, source: RR57.RB.A56 from 2022-03-17 17:40:37.920 to 2022-03-17 17:57:27.920\n"
     ]
    },
    {
     "data": {
      "text/html": [
       "<text style=color:blue>Executing RB.A56 query function query_ee_u_dump_res_pm: 4/45.</text>"
      ],
      "text/plain": [
       "<IPython.core.display.HTML object>"
      ]
     },
     "metadata": {},
     "output_type": "display_data"
    },
    {
     "name": "stdout",
     "output_type": "stream",
     "text": [
      "\tQuerying PM event signal(s) RR57.RB.A56:U_DUMP_RES for system: QPS, className: DQAMSNRB, source: RR57.RB.A56 at 2022-03-17 17:40:47.995\n"
     ]
    },
    {
     "data": {
      "text/html": [
       "<text style=color:blue>Executing RB.A56 query function find_timestamp_pic: 5/45.</text>"
      ],
      "text/plain": [
       "<IPython.core.display.HTML object>"
      ]
     },
     "metadata": {},
     "output_type": "display_data"
    },
    {
     "name": "stdout",
     "output_type": "stream",
     "text": [
      "\tQuerying NXCALS signal(s) RB.A56.ODD:ST_ABORT_PIC, RB.A56.EVEN:ST_ABORT_PIC from 2022-03-17 17:40:46.920 to 2022-03-17 17:41:47.920\n"
     ]
    },
    {
     "data": {
      "text/html": [
       "<text style=color:blue>Executing RB.A56 query function find_source_timestamp_qds: 6/45.</text>"
      ],
      "text/plain": [
       "<IPython.core.display.HTML object>"
      ]
     },
     "metadata": {},
     "output_type": "display_data"
    },
    {
     "name": "stdout",
     "output_type": "stream",
     "text": [
      "\tQuerying PM event timestamps for system: QPS, className: DQAMCNMB_PMSTD, source: * from 2022-03-17 17:39:57.920 to 2022-03-17 17:49:07.920\n"
     ]
    },
    {
     "data": {
      "text/html": [
       "<text style=color:blue>Executing RB.A56 query function find_source_timestamp_ee: 1/45.</text>"
      ],
      "text/plain": [
       "<IPython.core.display.HTML object>"
      ]
     },
     "metadata": {},
     "output_type": "display_data"
    },
    {
     "name": "stdout",
     "output_type": "stream",
     "text": [
      "\tQuerying PM event timestamps for system: QPS, className: DQAMSNRB, source: UA63.RB.A56 from 2022-03-24 15:29:17.080 to 2022-03-24 15:46:07.080\n"
     ]
    },
    {
     "data": {
      "text/html": [
       "<text style=color:blue>Executing RB.A56 query function query_ee_u_dump_res_pm: 2/45.</text>"
      ],
      "text/plain": [
       "<IPython.core.display.HTML object>"
      ]
     },
     "metadata": {},
     "output_type": "display_data"
    },
    {
     "name": "stdout",
     "output_type": "stream",
     "text": [
      "\tQuerying PM event signal(s) UA63.RB.A56:U_DUMP_RES for system: QPS, className: DQAMSNRB, source: UA63.RB.A56 at 2022-03-24 15:29:27.654\n"
     ]
    },
    {
     "data": {
      "text/html": [
       "<text style=color:blue>Executing RB.A56 query function find_source_timestamp_ee: 3/45.</text>"
      ],
      "text/plain": [
       "<IPython.core.display.HTML object>"
      ]
     },
     "metadata": {},
     "output_type": "display_data"
    },
    {
     "name": "stdout",
     "output_type": "stream",
     "text": [
      "\tQuerying PM event timestamps for system: QPS, className: DQAMSNRB, source: RR57.RB.A56 from 2022-03-24 15:29:17.080 to 2022-03-24 15:46:07.080\n"
     ]
    },
    {
     "data": {
      "text/html": [
       "<text style=color:blue>Executing RB.A56 query function query_ee_u_dump_res_pm: 4/45.</text>"
      ],
      "text/plain": [
       "<IPython.core.display.HTML object>"
      ]
     },
     "metadata": {},
     "output_type": "display_data"
    },
    {
     "name": "stdout",
     "output_type": "stream",
     "text": [
      "\tQuerying PM event signal(s) RR57.RB.A56:U_DUMP_RES for system: QPS, className: DQAMSNRB, source: RR57.RB.A56 at 2022-03-24 15:29:27.157\n"
     ]
    },
    {
     "data": {
      "text/html": [
       "<text style=color:blue>Executing RB.A56 query function find_timestamp_pic: 5/45.</text>"
      ],
      "text/plain": [
       "<IPython.core.display.HTML object>"
      ]
     },
     "metadata": {},
     "output_type": "display_data"
    },
    {
     "name": "stdout",
     "output_type": "stream",
     "text": [
      "\tQuerying NXCALS signal(s) RB.A56.ODD:ST_ABORT_PIC, RB.A56.EVEN:ST_ABORT_PIC from 2022-03-24 15:29:26.080 to 2022-03-24 15:30:27.080\n"
     ]
    },
    {
     "data": {
      "text/html": [
       "<text style=color:blue>Executing RB.A56 query function find_source_timestamp_qds: 6/45.</text>"
      ],
      "text/plain": [
       "<IPython.core.display.HTML object>"
      ]
     },
     "metadata": {},
     "output_type": "display_data"
    },
    {
     "name": "stdout",
     "output_type": "stream",
     "text": [
      "\tQuerying PM event timestamps for system: QPS, className: DQAMCNMB_PMSTD, source: * from 2022-03-24 15:28:37.080 to 2022-03-24 15:37:47.080\n"
     ]
    },
    {
     "data": {
      "text/html": [
       "<text style=color:blue>Executing RB.A56 query function find_source_timestamp_ee: 1/45.</text>"
      ],
      "text/plain": [
       "<IPython.core.display.HTML object>"
      ]
     },
     "metadata": {},
     "output_type": "display_data"
    },
    {
     "name": "stdout",
     "output_type": "stream",
     "text": [
      "\tQuerying PM event timestamps for system: QPS, className: DQAMSNRB, source: UA63.RB.A56 from 2022-03-24 17:13:24.780 to 2022-03-24 17:30:14.780\n"
     ]
    },
    {
     "data": {
      "text/html": [
       "<text style=color:blue>Executing RB.A56 query function query_ee_u_dump_res_pm: 2/45.</text>"
      ],
      "text/plain": [
       "<IPython.core.display.HTML object>"
      ]
     },
     "metadata": {},
     "output_type": "display_data"
    },
    {
     "name": "stdout",
     "output_type": "stream",
     "text": [
      "\tQuerying PM event signal(s) UA63.RB.A56:U_DUMP_RES for system: QPS, className: DQAMSNRB, source: UA63.RB.A56 at 2022-03-24 17:13:35.356\n"
     ]
    },
    {
     "data": {
      "text/html": [
       "<text style=color:blue>Executing RB.A56 query function find_source_timestamp_ee: 3/45.</text>"
      ],
      "text/plain": [
       "<IPython.core.display.HTML object>"
      ]
     },
     "metadata": {},
     "output_type": "display_data"
    },
    {
     "name": "stdout",
     "output_type": "stream",
     "text": [
      "\tQuerying PM event timestamps for system: QPS, className: DQAMSNRB, source: RR57.RB.A56 from 2022-03-24 17:13:24.780 to 2022-03-24 17:30:14.780\n"
     ]
    },
    {
     "data": {
      "text/html": [
       "<text style=color:blue>Executing RB.A56 query function query_ee_u_dump_res_pm: 4/45.</text>"
      ],
      "text/plain": [
       "<IPython.core.display.HTML object>"
      ]
     },
     "metadata": {},
     "output_type": "display_data"
    },
    {
     "name": "stdout",
     "output_type": "stream",
     "text": [
      "\tQuerying PM event signal(s) RR57.RB.A56:U_DUMP_RES for system: QPS, className: DQAMSNRB, source: RR57.RB.A56 at 2022-03-24 17:13:34.856\n"
     ]
    },
    {
     "data": {
      "text/html": [
       "<text style=color:blue>Executing RB.A56 query function find_timestamp_pic: 5/45.</text>"
      ],
      "text/plain": [
       "<IPython.core.display.HTML object>"
      ]
     },
     "metadata": {},
     "output_type": "display_data"
    },
    {
     "name": "stdout",
     "output_type": "stream",
     "text": [
      "\tQuerying NXCALS signal(s) RB.A56.ODD:ST_ABORT_PIC, RB.A56.EVEN:ST_ABORT_PIC from 2022-03-24 17:13:33.780 to 2022-03-24 17:14:34.780\n"
     ]
    },
    {
     "data": {
      "text/html": [
       "<text style=color:blue>Executing RB.A56 query function find_source_timestamp_qds: 6/45.</text>"
      ],
      "text/plain": [
       "<IPython.core.display.HTML object>"
      ]
     },
     "metadata": {},
     "output_type": "display_data"
    },
    {
     "name": "stdout",
     "output_type": "stream",
     "text": [
      "\tQuerying PM event timestamps for system: QPS, className: DQAMCNMB_PMSTD, source: * from 2022-03-24 17:12:44.780 to 2022-03-24 17:21:54.780\n"
     ]
    },
    {
     "data": {
      "text/html": [
       "<text style=color:blue>Executing RB.A56 query function find_source_timestamp_ee: 1/45.</text>"
      ],
      "text/plain": [
       "<IPython.core.display.HTML object>"
      ]
     },
     "metadata": {},
     "output_type": "display_data"
    },
    {
     "name": "stdout",
     "output_type": "stream",
     "text": [
      "\tQuerying PM event timestamps for system: QPS, className: DQAMSNRB, source: UA63.RB.A56 from 2022-03-25 13:31:48.060 to 2022-03-25 13:48:38.060\n"
     ]
    },
    {
     "data": {
      "text/html": [
       "<text style=color:blue>Executing RB.A56 query function query_ee_u_dump_res_pm: 2/45.</text>"
      ],
      "text/plain": [
       "<IPython.core.display.HTML object>"
      ]
     },
     "metadata": {},
     "output_type": "display_data"
    },
    {
     "name": "stdout",
     "output_type": "stream",
     "text": [
      "\tQuerying PM event signal(s) UA63.RB.A56:U_DUMP_RES for system: QPS, className: DQAMSNRB, source: UA63.RB.A56 at 2022-03-25 13:31:58.631\n"
     ]
    },
    {
     "data": {
      "text/html": [
       "<text style=color:blue>Executing RB.A56 query function find_source_timestamp_ee: 3/45.</text>"
      ],
      "text/plain": [
       "<IPython.core.display.HTML object>"
      ]
     },
     "metadata": {},
     "output_type": "display_data"
    },
    {
     "name": "stdout",
     "output_type": "stream",
     "text": [
      "\tQuerying PM event timestamps for system: QPS, className: DQAMSNRB, source: RR57.RB.A56 from 2022-03-25 13:31:48.060 to 2022-03-25 13:48:38.060\n"
     ]
    },
    {
     "data": {
      "text/html": [
       "<text style=color:blue>Executing RB.A56 query function query_ee_u_dump_res_pm: 4/45.</text>"
      ],
      "text/plain": [
       "<IPython.core.display.HTML object>"
      ]
     },
     "metadata": {},
     "output_type": "display_data"
    },
    {
     "name": "stdout",
     "output_type": "stream",
     "text": [
      "\tQuerying PM event signal(s) RR57.RB.A56:U_DUMP_RES for system: QPS, className: DQAMSNRB, source: RR57.RB.A56 at 2022-03-25 13:31:58.135\n"
     ]
    },
    {
     "data": {
      "text/html": [
       "<text style=color:blue>Executing RB.A56 query function find_timestamp_pic: 5/45.</text>"
      ],
      "text/plain": [
       "<IPython.core.display.HTML object>"
      ]
     },
     "metadata": {},
     "output_type": "display_data"
    },
    {
     "name": "stdout",
     "output_type": "stream",
     "text": [
      "\tQuerying NXCALS signal(s) RB.A56.ODD:ST_ABORT_PIC, RB.A56.EVEN:ST_ABORT_PIC from 2022-03-25 13:31:57.060 to 2022-03-25 13:32:58.060\n"
     ]
    },
    {
     "data": {
      "text/html": [
       "<text style=color:blue>Executing RB.A56 query function find_source_timestamp_qds: 6/45.</text>"
      ],
      "text/plain": [
       "<IPython.core.display.HTML object>"
      ]
     },
     "metadata": {},
     "output_type": "display_data"
    },
    {
     "name": "stdout",
     "output_type": "stream",
     "text": [
      "\tQuerying PM event timestamps for system: QPS, className: DQAMCNMB_PMSTD, source: * from 2022-03-25 13:31:08.060 to 2022-03-25 13:40:18.060\n"
     ]
    },
    {
     "data": {
      "text/html": [
       "<text style=color:blue>Executing RB.A67 query function find_source_timestamp_ee: 1/45.</text>"
      ],
      "text/plain": [
       "<IPython.core.display.HTML object>"
      ]
     },
     "metadata": {},
     "output_type": "display_data"
    },
    {
     "name": "stdout",
     "output_type": "stream",
     "text": [
      "\tQuerying PM event timestamps for system: QPS, className: DQAMSNRB, source: UA67.RB.A67 from 2021-07-16 16:50:30.520 to 2021-07-16 17:07:20.520\n"
     ]
    },
    {
     "data": {
      "text/html": [
       "<text style=color:blue>Executing RB.A67 query function query_ee_u_dump_res_pm: 2/45.</text>"
      ],
      "text/plain": [
       "<IPython.core.display.HTML object>"
      ]
     },
     "metadata": {},
     "output_type": "display_data"
    },
    {
     "name": "stdout",
     "output_type": "stream",
     "text": [
      "\tQuerying PM event signal(s) UA67.RB.A67:U_DUMP_RES for system: QPS, className: DQAMSNRB, source: UA67.RB.A67 at 2021-07-16 16:50:41.087\n"
     ]
    },
    {
     "data": {
      "text/html": [
       "<text style=color:blue>Executing RB.A67 query function find_source_timestamp_ee: 3/45.</text>"
      ],
      "text/plain": [
       "<IPython.core.display.HTML object>"
      ]
     },
     "metadata": {},
     "output_type": "display_data"
    },
    {
     "name": "stdout",
     "output_type": "stream",
     "text": [
      "\tQuerying PM event timestamps for system: QPS, className: DQAMSNRB, source: RR73.RB.A67 from 2021-07-16 16:50:30.520 to 2021-07-16 17:07:20.520\n"
     ]
    },
    {
     "data": {
      "text/html": [
       "<text style=color:blue>Executing RB.A67 query function query_ee_u_dump_res_pm: 4/45.</text>"
      ],
      "text/plain": [
       "<IPython.core.display.HTML object>"
      ]
     },
     "metadata": {},
     "output_type": "display_data"
    },
    {
     "name": "stdout",
     "output_type": "stream",
     "text": [
      "\tQuerying PM event signal(s) RR73.RB.A67:U_DUMP_RES for system: QPS, className: DQAMSNRB, source: RR73.RB.A67 at 2021-07-16 16:50:40.585\n"
     ]
    },
    {
     "data": {
      "text/html": [
       "<text style=color:blue>Executing RB.A67 query function find_timestamp_pic: 5/45.</text>"
      ],
      "text/plain": [
       "<IPython.core.display.HTML object>"
      ]
     },
     "metadata": {},
     "output_type": "display_data"
    },
    {
     "name": "stdout",
     "output_type": "stream",
     "text": [
      "\tQuerying NXCALS signal(s) RB.A67.ODD:ST_ABORT_PIC, RB.A67.EVEN:ST_ABORT_PIC from 2021-07-16 16:50:39.520 to 2021-07-16 16:51:40.520\n"
     ]
    },
    {
     "data": {
      "text/html": [
       "<text style=color:blue>Executing RB.A67 query function find_source_timestamp_qds: 6/45.</text>"
      ],
      "text/plain": [
       "<IPython.core.display.HTML object>"
      ]
     },
     "metadata": {},
     "output_type": "display_data"
    },
    {
     "name": "stdout",
     "output_type": "stream",
     "text": [
      "\tQuerying PM event timestamps for system: QPS, className: DQAMCNMB_PMSTD, source: * from 2021-07-16 16:49:50.520 to 2021-07-16 16:59:00.520\n"
     ]
    },
    {
     "data": {
      "text/html": [
       "<text style=color:blue>Executing RB.A67 query function find_source_timestamp_ee: 1/45.</text>"
      ],
      "text/plain": [
       "<IPython.core.display.HTML object>"
      ]
     },
     "metadata": {},
     "output_type": "display_data"
    },
    {
     "name": "stdout",
     "output_type": "stream",
     "text": [
      "\tQuerying PM event timestamps for system: QPS, className: DQAMSNRB, source: UA67.RB.A67 from 2022-03-03 17:51:22.120 to 2022-03-03 18:08:12.120\n"
     ]
    },
    {
     "data": {
      "text/html": [
       "<text style=color:blue>Executing RB.A67 query function query_ee_u_dump_res_pm: 2/45.</text>"
      ],
      "text/plain": [
       "<IPython.core.display.HTML object>"
      ]
     },
     "metadata": {},
     "output_type": "display_data"
    },
    {
     "name": "stdout",
     "output_type": "stream",
     "text": [
      "\tQuerying PM event signal(s) UA67.RB.A67:U_DUMP_RES for system: QPS, className: DQAMSNRB, source: UA67.RB.A67 at 2022-03-03 17:51:32.689\n"
     ]
    },
    {
     "data": {
      "text/html": [
       "<text style=color:blue>Executing RB.A67 query function find_source_timestamp_ee: 3/45.</text>"
      ],
      "text/plain": [
       "<IPython.core.display.HTML object>"
      ]
     },
     "metadata": {},
     "output_type": "display_data"
    },
    {
     "name": "stdout",
     "output_type": "stream",
     "text": [
      "\tQuerying PM event timestamps for system: QPS, className: DQAMSNRB, source: RR73.RB.A67 from 2022-03-03 17:51:22.120 to 2022-03-03 18:08:12.120\n"
     ]
    },
    {
     "data": {
      "text/html": [
       "<text style=color:blue>Executing RB.A67 query function query_ee_u_dump_res_pm: 4/45.</text>"
      ],
      "text/plain": [
       "<IPython.core.display.HTML object>"
      ]
     },
     "metadata": {},
     "output_type": "display_data"
    },
    {
     "name": "stdout",
     "output_type": "stream",
     "text": [
      "\tQuerying PM event signal(s) RR73.RB.A67:U_DUMP_RES for system: QPS, className: DQAMSNRB, source: RR73.RB.A67 at 2022-03-03 17:51:32.186\n"
     ]
    },
    {
     "data": {
      "text/html": [
       "<text style=color:blue>Executing RB.A67 query function find_timestamp_pic: 5/45.</text>"
      ],
      "text/plain": [
       "<IPython.core.display.HTML object>"
      ]
     },
     "metadata": {},
     "output_type": "display_data"
    },
    {
     "name": "stdout",
     "output_type": "stream",
     "text": [
      "\tQuerying NXCALS signal(s) RB.A67.ODD:ST_ABORT_PIC, RB.A67.EVEN:ST_ABORT_PIC from 2022-03-03 17:51:31.120 to 2022-03-03 17:52:32.120\n"
     ]
    },
    {
     "data": {
      "text/html": [
       "<text style=color:blue>Executing RB.A67 query function find_source_timestamp_qds: 6/45.</text>"
      ],
      "text/plain": [
       "<IPython.core.display.HTML object>"
      ]
     },
     "metadata": {},
     "output_type": "display_data"
    },
    {
     "name": "stdout",
     "output_type": "stream",
     "text": [
      "\tQuerying PM event timestamps for system: QPS, className: DQAMCNMB_PMSTD, source: * from 2022-03-03 17:50:42.120 to 2022-03-03 17:59:52.120\n"
     ]
    },
    {
     "data": {
      "text/html": [
       "<text style=color:blue>Executing RB.A67 query function find_source_timestamp_ee: 1/45.</text>"
      ],
      "text/plain": [
       "<IPython.core.display.HTML object>"
      ]
     },
     "metadata": {},
     "output_type": "display_data"
    },
    {
     "name": "stdout",
     "output_type": "stream",
     "text": [
      "\tQuerying PM event timestamps for system: QPS, className: DQAMSNRB, source: UA67.RB.A67 from 2022-03-10 10:44:24.420 to 2022-03-10 11:01:14.420\n"
     ]
    },
    {
     "data": {
      "text/html": [
       "<text style=color:blue>Executing RB.A67 query function query_ee_u_dump_res_pm: 2/45.</text>"
      ],
      "text/plain": [
       "<IPython.core.display.HTML object>"
      ]
     },
     "metadata": {},
     "output_type": "display_data"
    },
    {
     "name": "stdout",
     "output_type": "stream",
     "text": [
      "\tQuerying PM event signal(s) UA67.RB.A67:U_DUMP_RES for system: QPS, className: DQAMSNRB, source: UA67.RB.A67 at 2022-03-10 10:44:35.001\n"
     ]
    },
    {
     "data": {
      "text/html": [
       "<text style=color:blue>Executing RB.A67 query function find_source_timestamp_ee: 3/45.</text>"
      ],
      "text/plain": [
       "<IPython.core.display.HTML object>"
      ]
     },
     "metadata": {},
     "output_type": "display_data"
    },
    {
     "name": "stdout",
     "output_type": "stream",
     "text": [
      "\tQuerying PM event timestamps for system: QPS, className: DQAMSNRB, source: RR73.RB.A67 from 2022-03-10 10:44:24.420 to 2022-03-10 11:01:14.420\n"
     ]
    },
    {
     "data": {
      "text/html": [
       "<text style=color:blue>Executing RB.A67 query function query_ee_u_dump_res_pm: 4/45.</text>"
      ],
      "text/plain": [
       "<IPython.core.display.HTML object>"
      ]
     },
     "metadata": {},
     "output_type": "display_data"
    },
    {
     "name": "stdout",
     "output_type": "stream",
     "text": [
      "\tQuerying PM event signal(s) RR73.RB.A67:U_DUMP_RES for system: QPS, className: DQAMSNRB, source: RR73.RB.A67 at 2022-03-10 10:44:34.499\n"
     ]
    },
    {
     "data": {
      "text/html": [
       "<text style=color:blue>Executing RB.A67 query function find_timestamp_pic: 5/45.</text>"
      ],
      "text/plain": [
       "<IPython.core.display.HTML object>"
      ]
     },
     "metadata": {},
     "output_type": "display_data"
    },
    {
     "name": "stdout",
     "output_type": "stream",
     "text": [
      "\tQuerying NXCALS signal(s) RB.A67.ODD:ST_ABORT_PIC, RB.A67.EVEN:ST_ABORT_PIC from 2022-03-10 10:44:33.420 to 2022-03-10 10:45:34.420\n"
     ]
    },
    {
     "data": {
      "text/html": [
       "<text style=color:blue>Executing RB.A67 query function find_source_timestamp_qds: 6/45.</text>"
      ],
      "text/plain": [
       "<IPython.core.display.HTML object>"
      ]
     },
     "metadata": {},
     "output_type": "display_data"
    },
    {
     "name": "stdout",
     "output_type": "stream",
     "text": [
      "\tQuerying PM event timestamps for system: QPS, className: DQAMCNMB_PMSTD, source: * from 2022-03-10 10:43:44.420 to 2022-03-10 10:52:54.420\n"
     ]
    },
    {
     "data": {
      "text/html": [
       "<text style=color:blue>Executing RB.A67 query function find_source_timestamp_ee: 1/45.</text>"
      ],
      "text/plain": [
       "<IPython.core.display.HTML object>"
      ]
     },
     "metadata": {},
     "output_type": "display_data"
    },
    {
     "name": "stdout",
     "output_type": "stream",
     "text": [
      "\tQuerying PM event timestamps for system: QPS, className: DQAMSNRB, source: UA67.RB.A67 from 2022-03-10 11:25:34.240 to 2022-03-10 11:42:24.240\n"
     ]
    },
    {
     "data": {
      "text/html": [
       "<text style=color:blue>Executing RB.A67 query function query_ee_u_dump_res_pm: 2/45.</text>"
      ],
      "text/plain": [
       "<IPython.core.display.HTML object>"
      ]
     },
     "metadata": {},
     "output_type": "display_data"
    },
    {
     "name": "stdout",
     "output_type": "stream",
     "text": [
      "\tQuerying PM event signal(s) UA67.RB.A67:U_DUMP_RES for system: QPS, className: DQAMSNRB, source: UA67.RB.A67 at 2022-03-10 11:25:44.806\n"
     ]
    },
    {
     "data": {
      "text/html": [
       "<text style=color:blue>Executing RB.A67 query function find_source_timestamp_ee: 3/45.</text>"
      ],
      "text/plain": [
       "<IPython.core.display.HTML object>"
      ]
     },
     "metadata": {},
     "output_type": "display_data"
    },
    {
     "name": "stdout",
     "output_type": "stream",
     "text": [
      "\tQuerying PM event timestamps for system: QPS, className: DQAMSNRB, source: RR73.RB.A67 from 2022-03-10 11:25:34.240 to 2022-03-10 11:42:24.240\n"
     ]
    },
    {
     "data": {
      "text/html": [
       "<text style=color:blue>Executing RB.A67 query function query_ee_u_dump_res_pm: 4/45.</text>"
      ],
      "text/plain": [
       "<IPython.core.display.HTML object>"
      ]
     },
     "metadata": {},
     "output_type": "display_data"
    },
    {
     "name": "stdout",
     "output_type": "stream",
     "text": [
      "\tQuerying PM event signal(s) RR73.RB.A67:U_DUMP_RES for system: QPS, className: DQAMSNRB, source: RR73.RB.A67 at 2022-03-10 11:25:44.304\n"
     ]
    },
    {
     "data": {
      "text/html": [
       "<text style=color:blue>Executing RB.A67 query function find_timestamp_pic: 5/45.</text>"
      ],
      "text/plain": [
       "<IPython.core.display.HTML object>"
      ]
     },
     "metadata": {},
     "output_type": "display_data"
    },
    {
     "name": "stdout",
     "output_type": "stream",
     "text": [
      "\tQuerying NXCALS signal(s) RB.A67.ODD:ST_ABORT_PIC, RB.A67.EVEN:ST_ABORT_PIC from 2022-03-10 11:25:43.240 to 2022-03-10 11:26:44.240\n"
     ]
    },
    {
     "data": {
      "text/html": [
       "<text style=color:blue>Executing RB.A67 query function find_source_timestamp_qds: 6/45.</text>"
      ],
      "text/plain": [
       "<IPython.core.display.HTML object>"
      ]
     },
     "metadata": {},
     "output_type": "display_data"
    },
    {
     "name": "stdout",
     "output_type": "stream",
     "text": [
      "\tQuerying PM event timestamps for system: QPS, className: DQAMCNMB_PMSTD, source: * from 2022-03-10 11:24:54.240 to 2022-03-10 11:34:04.240\n"
     ]
    },
    {
     "data": {
      "text/html": [
       "<text style=color:blue>Executing RB.A67 query function find_source_timestamp_ee: 1/45.</text>"
      ],
      "text/plain": [
       "<IPython.core.display.HTML object>"
      ]
     },
     "metadata": {},
     "output_type": "display_data"
    },
    {
     "name": "stdout",
     "output_type": "stream",
     "text": [
      "\tQuerying PM event timestamps for system: QPS, className: DQAMSNRB, source: UA67.RB.A67 from 2022-03-10 12:07:12.100 to 2022-03-10 12:24:02.100\n"
     ]
    },
    {
     "data": {
      "text/html": [
       "<text style=color:blue>Executing RB.A67 query function query_ee_u_dump_res_pm: 2/45.</text>"
      ],
      "text/plain": [
       "<IPython.core.display.HTML object>"
      ]
     },
     "metadata": {},
     "output_type": "display_data"
    },
    {
     "name": "stdout",
     "output_type": "stream",
     "text": [
      "\tQuerying PM event signal(s) UA67.RB.A67:U_DUMP_RES for system: QPS, className: DQAMSNRB, source: UA67.RB.A67 at 2022-03-10 12:07:22.685\n"
     ]
    },
    {
     "data": {
      "text/html": [
       "<text style=color:blue>Executing RB.A67 query function find_source_timestamp_ee: 3/45.</text>"
      ],
      "text/plain": [
       "<IPython.core.display.HTML object>"
      ]
     },
     "metadata": {},
     "output_type": "display_data"
    },
    {
     "name": "stdout",
     "output_type": "stream",
     "text": [
      "\tQuerying PM event timestamps for system: QPS, className: DQAMSNRB, source: RR73.RB.A67 from 2022-03-10 12:07:12.100 to 2022-03-10 12:24:02.100\n"
     ]
    },
    {
     "data": {
      "text/html": [
       "<text style=color:blue>Executing RB.A67 query function query_ee_u_dump_res_pm: 4/45.</text>"
      ],
      "text/plain": [
       "<IPython.core.display.HTML object>"
      ]
     },
     "metadata": {},
     "output_type": "display_data"
    },
    {
     "name": "stdout",
     "output_type": "stream",
     "text": [
      "\tQuerying PM event signal(s) RR73.RB.A67:U_DUMP_RES for system: QPS, className: DQAMSNRB, source: RR73.RB.A67 at 2022-03-10 12:07:22.183\n"
     ]
    },
    {
     "data": {
      "text/html": [
       "<text style=color:blue>Executing RB.A67 query function find_timestamp_pic: 5/45.</text>"
      ],
      "text/plain": [
       "<IPython.core.display.HTML object>"
      ]
     },
     "metadata": {},
     "output_type": "display_data"
    },
    {
     "name": "stdout",
     "output_type": "stream",
     "text": [
      "\tQuerying NXCALS signal(s) RB.A67.ODD:ST_ABORT_PIC, RB.A67.EVEN:ST_ABORT_PIC from 2022-03-10 12:07:21.100 to 2022-03-10 12:08:22.100\n"
     ]
    },
    {
     "data": {
      "text/html": [
       "<text style=color:blue>Executing RB.A67 query function find_source_timestamp_qds: 6/45.</text>"
      ],
      "text/plain": [
       "<IPython.core.display.HTML object>"
      ]
     },
     "metadata": {},
     "output_type": "display_data"
    },
    {
     "name": "stdout",
     "output_type": "stream",
     "text": [
      "\tQuerying PM event timestamps for system: QPS, className: DQAMCNMB_PMSTD, source: * from 2022-03-10 12:06:32.100 to 2022-03-10 12:15:42.100\n"
     ]
    },
    {
     "data": {
      "text/html": [
       "<text style=color:blue>Executing RB.A67 query function find_source_timestamp_ee: 1/45.</text>"
      ],
      "text/plain": [
       "<IPython.core.display.HTML object>"
      ]
     },
     "metadata": {},
     "output_type": "display_data"
    },
    {
     "name": "stdout",
     "output_type": "stream",
     "text": [
      "\tQuerying PM event timestamps for system: QPS, className: DQAMSNRB, source: UA67.RB.A67 from 2022-03-10 14:39:12.380 to 2022-03-10 14:56:02.380\n"
     ]
    },
    {
     "data": {
      "text/html": [
       "<text style=color:blue>Executing RB.A67 query function query_ee_u_dump_res_pm: 2/45.</text>"
      ],
      "text/plain": [
       "<IPython.core.display.HTML object>"
      ]
     },
     "metadata": {},
     "output_type": "display_data"
    },
    {
     "name": "stdout",
     "output_type": "stream",
     "text": [
      "\tQuerying PM event signal(s) UA67.RB.A67:U_DUMP_RES for system: QPS, className: DQAMSNRB, source: UA67.RB.A67 at 2022-03-10 14:39:22.958\n"
     ]
    },
    {
     "data": {
      "text/html": [
       "<text style=color:blue>Executing RB.A67 query function find_source_timestamp_ee: 3/45.</text>"
      ],
      "text/plain": [
       "<IPython.core.display.HTML object>"
      ]
     },
     "metadata": {},
     "output_type": "display_data"
    },
    {
     "name": "stdout",
     "output_type": "stream",
     "text": [
      "\tQuerying PM event timestamps for system: QPS, className: DQAMSNRB, source: RR73.RB.A67 from 2022-03-10 14:39:12.380 to 2022-03-10 14:56:02.380\n"
     ]
    },
    {
     "data": {
      "text/html": [
       "<text style=color:blue>Executing RB.A67 query function query_ee_u_dump_res_pm: 4/45.</text>"
      ],
      "text/plain": [
       "<IPython.core.display.HTML object>"
      ]
     },
     "metadata": {},
     "output_type": "display_data"
    },
    {
     "name": "stdout",
     "output_type": "stream",
     "text": [
      "\tQuerying PM event signal(s) RR73.RB.A67:U_DUMP_RES for system: QPS, className: DQAMSNRB, source: RR73.RB.A67 at 2022-03-10 14:39:22.453\n"
     ]
    },
    {
     "data": {
      "text/html": [
       "<text style=color:blue>Executing RB.A67 query function find_timestamp_pic: 5/45.</text>"
      ],
      "text/plain": [
       "<IPython.core.display.HTML object>"
      ]
     },
     "metadata": {},
     "output_type": "display_data"
    },
    {
     "name": "stdout",
     "output_type": "stream",
     "text": [
      "\tQuerying NXCALS signal(s) RB.A67.ODD:ST_ABORT_PIC, RB.A67.EVEN:ST_ABORT_PIC from 2022-03-10 14:39:21.380 to 2022-03-10 14:40:22.380\n"
     ]
    },
    {
     "data": {
      "text/html": [
       "<text style=color:blue>Executing RB.A67 query function find_source_timestamp_qds: 6/45.</text>"
      ],
      "text/plain": [
       "<IPython.core.display.HTML object>"
      ]
     },
     "metadata": {},
     "output_type": "display_data"
    },
    {
     "name": "stdout",
     "output_type": "stream",
     "text": [
      "\tQuerying PM event timestamps for system: QPS, className: DQAMCNMB_PMSTD, source: * from 2022-03-10 14:38:32.380 to 2022-03-10 14:47:42.380\n"
     ]
    },
    {
     "data": {
      "text/html": [
       "<text style=color:blue>Executing RB.A67 query function find_source_timestamp_ee: 1/45.</text>"
      ],
      "text/plain": [
       "<IPython.core.display.HTML object>"
      ]
     },
     "metadata": {},
     "output_type": "display_data"
    },
    {
     "name": "stdout",
     "output_type": "stream",
     "text": [
      "\tQuerying PM event timestamps for system: QPS, className: DQAMSNRB, source: UA67.RB.A67 from 2022-03-11 17:03:46.700 to 2022-03-11 17:20:36.700\n"
     ]
    },
    {
     "data": {
      "text/html": [
       "<text style=color:blue>Executing RB.A67 query function query_ee_u_dump_res_pm: 2/45.</text>"
      ],
      "text/plain": [
       "<IPython.core.display.HTML object>"
      ]
     },
     "metadata": {},
     "output_type": "display_data"
    },
    {
     "name": "stdout",
     "output_type": "stream",
     "text": [
      "\tQuerying PM event signal(s) UA67.RB.A67:U_DUMP_RES for system: QPS, className: DQAMSNRB, source: UA67.RB.A67 at 2022-03-11 17:03:57.281\n"
     ]
    },
    {
     "name": "stderr",
     "output_type": "stream",
     "text": [
      "\n",
      "A value is trying to be set on a copy of a slice from a DataFrame\n",
      "\n",
      "See the caveats in the documentation: https://pandas.pydata.org/pandas-docs/stable/user_guide/indexing.html#returning-a-view-versus-a-copy\n"
     ]
    },
    {
     "data": {
      "text/html": [
       "<text style=color:blue>Executing RB.A67 query function find_source_timestamp_ee: 3/45.</text>"
      ],
      "text/plain": [
       "<IPython.core.display.HTML object>"
      ]
     },
     "metadata": {},
     "output_type": "display_data"
    },
    {
     "name": "stdout",
     "output_type": "stream",
     "text": [
      "\tQuerying PM event timestamps for system: QPS, className: DQAMSNRB, source: RR73.RB.A67 from 2022-03-11 17:03:46.700 to 2022-03-11 17:20:36.700\n"
     ]
    },
    {
     "data": {
      "text/html": [
       "<text style=color:blue>Executing RB.A67 query function query_ee_u_dump_res_pm: 4/45.</text>"
      ],
      "text/plain": [
       "<IPython.core.display.HTML object>"
      ]
     },
     "metadata": {},
     "output_type": "display_data"
    },
    {
     "name": "stdout",
     "output_type": "stream",
     "text": [
      "\tQuerying PM event signal(s) RR73.RB.A67:U_DUMP_RES for system: QPS, className: DQAMSNRB, source: RR73.RB.A67 at 2022-03-11 17:03:56.779\n"
     ]
    },
    {
     "data": {
      "text/html": [
       "<text style=color:blue>Executing RB.A67 query function find_timestamp_pic: 5/45.</text>"
      ],
      "text/plain": [
       "<IPython.core.display.HTML object>"
      ]
     },
     "metadata": {},
     "output_type": "display_data"
    },
    {
     "name": "stdout",
     "output_type": "stream",
     "text": [
      "\tQuerying NXCALS signal(s) RB.A67.ODD:ST_ABORT_PIC, RB.A67.EVEN:ST_ABORT_PIC from 2022-03-11 17:03:55.700 to 2022-03-11 17:04:56.700\n"
     ]
    },
    {
     "data": {
      "text/html": [
       "<text style=color:blue>Executing RB.A67 query function find_source_timestamp_qds: 6/45.</text>"
      ],
      "text/plain": [
       "<IPython.core.display.HTML object>"
      ]
     },
     "metadata": {},
     "output_type": "display_data"
    },
    {
     "name": "stdout",
     "output_type": "stream",
     "text": [
      "\tQuerying PM event timestamps for system: QPS, className: DQAMCNMB_PMSTD, source: * from 2022-03-11 17:03:06.700 to 2022-03-11 17:12:16.700\n"
     ]
    },
    {
     "data": {
      "text/html": [
       "<text style=color:blue>Executing RB.A67 query function find_source_timestamp_ee: 1/45.</text>"
      ],
      "text/plain": [
       "<IPython.core.display.HTML object>"
      ]
     },
     "metadata": {},
     "output_type": "display_data"
    },
    {
     "name": "stdout",
     "output_type": "stream",
     "text": [
      "\tQuerying PM event timestamps for system: QPS, className: DQAMSNRB, source: UA67.RB.A67 from 2022-03-14 18:05:15.040 to 2022-03-14 18:22:05.040\n"
     ]
    },
    {
     "data": {
      "text/html": [
       "<text style=color:blue>Executing RB.A67 query function query_ee_u_dump_res_pm: 2/45.</text>"
      ],
      "text/plain": [
       "<IPython.core.display.HTML object>"
      ]
     },
     "metadata": {},
     "output_type": "display_data"
    },
    {
     "name": "stdout",
     "output_type": "stream",
     "text": [
      "\tQuerying PM event signal(s) UA67.RB.A67:U_DUMP_RES for system: QPS, className: DQAMSNRB, source: UA67.RB.A67 at 2022-03-14 18:05:25.610\n"
     ]
    },
    {
     "data": {
      "text/html": [
       "<text style=color:blue>Executing RB.A67 query function find_source_timestamp_ee: 3/45.</text>"
      ],
      "text/plain": [
       "<IPython.core.display.HTML object>"
      ]
     },
     "metadata": {},
     "output_type": "display_data"
    },
    {
     "name": "stdout",
     "output_type": "stream",
     "text": [
      "\tQuerying PM event timestamps for system: QPS, className: DQAMSNRB, source: RR73.RB.A67 from 2022-03-14 18:05:15.040 to 2022-03-14 18:22:05.040\n"
     ]
    },
    {
     "data": {
      "text/html": [
       "<text style=color:blue>Executing RB.A67 query function query_ee_u_dump_res_pm: 4/45.</text>"
      ],
      "text/plain": [
       "<IPython.core.display.HTML object>"
      ]
     },
     "metadata": {},
     "output_type": "display_data"
    },
    {
     "name": "stdout",
     "output_type": "stream",
     "text": [
      "\tQuerying PM event signal(s) RR73.RB.A67:U_DUMP_RES for system: QPS, className: DQAMSNRB, source: RR73.RB.A67 at 2022-03-14 18:05:25.108\n"
     ]
    },
    {
     "name": "stderr",
     "output_type": "stream",
     "text": [
      "\n",
      "A value is trying to be set on a copy of a slice from a DataFrame\n",
      "\n",
      "See the caveats in the documentation: https://pandas.pydata.org/pandas-docs/stable/user_guide/indexing.html#returning-a-view-versus-a-copy\n"
     ]
    },
    {
     "data": {
      "text/html": [
       "<text style=color:blue>Executing RB.A67 query function find_timestamp_pic: 5/45.</text>"
      ],
      "text/plain": [
       "<IPython.core.display.HTML object>"
      ]
     },
     "metadata": {},
     "output_type": "display_data"
    },
    {
     "name": "stdout",
     "output_type": "stream",
     "text": [
      "\tQuerying NXCALS signal(s) RB.A67.ODD:ST_ABORT_PIC, RB.A67.EVEN:ST_ABORT_PIC from 2022-03-14 18:05:24.040 to 2022-03-14 18:06:25.040\n"
     ]
    },
    {
     "data": {
      "text/html": [
       "<text style=color:blue>Executing RB.A67 query function find_source_timestamp_qds: 6/45.</text>"
      ],
      "text/plain": [
       "<IPython.core.display.HTML object>"
      ]
     },
     "metadata": {},
     "output_type": "display_data"
    },
    {
     "name": "stdout",
     "output_type": "stream",
     "text": [
      "\tQuerying PM event timestamps for system: QPS, className: DQAMCNMB_PMSTD, source: * from 2022-03-14 18:04:35.040 to 2022-03-14 18:13:45.040\n"
     ]
    },
    {
     "data": {
      "text/html": [
       "<text style=color:blue>Executing RB.A78 query function find_source_timestamp_ee: 1/45.</text>"
      ],
      "text/plain": [
       "<IPython.core.display.HTML object>"
      ]
     },
     "metadata": {},
     "output_type": "display_data"
    },
    {
     "name": "stdout",
     "output_type": "stream",
     "text": [
      "\tQuerying PM event timestamps for system: QPS, className: DQAMSNRB, source: UA83.RB.A78 from 2022-02-25 16:47:47.500 to 2022-02-25 17:04:37.500\n"
     ]
    },
    {
     "data": {
      "text/html": [
       "<text style=color:blue>Executing RB.A78 query function query_ee_u_dump_res_pm: 2/45.</text>"
      ],
      "text/plain": [
       "<IPython.core.display.HTML object>"
      ]
     },
     "metadata": {},
     "output_type": "display_data"
    },
    {
     "name": "stdout",
     "output_type": "stream",
     "text": [
      "\tQuerying PM event signal(s) UA83.RB.A78:U_DUMP_RES for system: QPS, className: DQAMSNRB, source: UA83.RB.A78 at 2022-02-25 16:47:58.059\n"
     ]
    },
    {
     "data": {
      "text/html": [
       "<text style=color:blue>Executing RB.A78 query function find_source_timestamp_ee: 3/45.</text>"
      ],
      "text/plain": [
       "<IPython.core.display.HTML object>"
      ]
     },
     "metadata": {},
     "output_type": "display_data"
    },
    {
     "name": "stdout",
     "output_type": "stream",
     "text": [
      "\tQuerying PM event timestamps for system: QPS, className: DQAMSNRB, source: RR77.RB.A78 from 2022-02-25 16:47:47.500 to 2022-02-25 17:04:37.500\n"
     ]
    },
    {
     "data": {
      "text/html": [
       "<text style=color:blue>Executing RB.A78 query function query_ee_u_dump_res_pm: 4/45.</text>"
      ],
      "text/plain": [
       "<IPython.core.display.HTML object>"
      ]
     },
     "metadata": {},
     "output_type": "display_data"
    },
    {
     "name": "stdout",
     "output_type": "stream",
     "text": [
      "\tQuerying PM event signal(s) RR77.RB.A78:U_DUMP_RES for system: QPS, className: DQAMSNRB, source: RR77.RB.A78 at 2022-02-25 16:47:57.564\n"
     ]
    },
    {
     "data": {
      "text/html": [
       "<text style=color:blue>Executing RB.A78 query function find_timestamp_pic: 5/45.</text>"
      ],
      "text/plain": [
       "<IPython.core.display.HTML object>"
      ]
     },
     "metadata": {},
     "output_type": "display_data"
    },
    {
     "name": "stdout",
     "output_type": "stream",
     "text": [
      "\tQuerying NXCALS signal(s) RB.A78.ODD:ST_ABORT_PIC, RB.A78.EVEN:ST_ABORT_PIC from 2022-02-25 16:47:56.500 to 2022-02-25 16:48:57.500\n"
     ]
    },
    {
     "data": {
      "text/html": [
       "<text style=color:blue>Executing RB.A78 query function find_source_timestamp_qds: 6/45.</text>"
      ],
      "text/plain": [
       "<IPython.core.display.HTML object>"
      ]
     },
     "metadata": {},
     "output_type": "display_data"
    },
    {
     "name": "stdout",
     "output_type": "stream",
     "text": [
      "\tQuerying PM event timestamps for system: QPS, className: DQAMCNMB_PMSTD, source: * from 2022-02-25 16:47:07.500 to 2022-02-25 16:56:17.500\n"
     ]
    },
    {
     "data": {
      "text/html": [
       "<text style=color:blue>Executing RB.A78 query function find_source_timestamp_ee: 1/45.</text>"
      ],
      "text/plain": [
       "<IPython.core.display.HTML object>"
      ]
     },
     "metadata": {},
     "output_type": "display_data"
    },
    {
     "name": "stdout",
     "output_type": "stream",
     "text": [
      "\tQuerying PM event timestamps for system: QPS, className: DQAMSNRB, source: UA83.RB.A78 from 2022-03-10 10:44:42.800 to 2022-03-10 11:01:32.800\n"
     ]
    },
    {
     "data": {
      "text/html": [
       "<text style=color:blue>Executing RB.A78 query function query_ee_u_dump_res_pm: 2/45.</text>"
      ],
      "text/plain": [
       "<IPython.core.display.HTML object>"
      ]
     },
     "metadata": {},
     "output_type": "display_data"
    },
    {
     "name": "stdout",
     "output_type": "stream",
     "text": [
      "\tQuerying PM event signal(s) UA83.RB.A78:U_DUMP_RES for system: QPS, className: DQAMSNRB, source: UA83.RB.A78 at 2022-03-10 10:44:53.376\n"
     ]
    },
    {
     "data": {
      "text/html": [
       "<text style=color:blue>Executing RB.A78 query function find_source_timestamp_ee: 3/45.</text>"
      ],
      "text/plain": [
       "<IPython.core.display.HTML object>"
      ]
     },
     "metadata": {},
     "output_type": "display_data"
    },
    {
     "name": "stdout",
     "output_type": "stream",
     "text": [
      "\tQuerying PM event timestamps for system: QPS, className: DQAMSNRB, source: RR77.RB.A78 from 2022-03-10 10:44:42.800 to 2022-03-10 11:01:32.800\n"
     ]
    },
    {
     "data": {
      "text/html": [
       "<text style=color:blue>Executing RB.A78 query function query_ee_u_dump_res_pm: 4/45.</text>"
      ],
      "text/plain": [
       "<IPython.core.display.HTML object>"
      ]
     },
     "metadata": {},
     "output_type": "display_data"
    },
    {
     "name": "stdout",
     "output_type": "stream",
     "text": [
      "\tQuerying PM event signal(s) RR77.RB.A78:U_DUMP_RES for system: QPS, className: DQAMSNRB, source: RR77.RB.A78 at 2022-03-10 10:44:52.878\n"
     ]
    },
    {
     "data": {
      "text/html": [
       "<text style=color:blue>Executing RB.A78 query function find_timestamp_pic: 5/45.</text>"
      ],
      "text/plain": [
       "<IPython.core.display.HTML object>"
      ]
     },
     "metadata": {},
     "output_type": "display_data"
    },
    {
     "name": "stdout",
     "output_type": "stream",
     "text": [
      "\tQuerying NXCALS signal(s) RB.A78.ODD:ST_ABORT_PIC, RB.A78.EVEN:ST_ABORT_PIC from 2022-03-10 10:44:51.800 to 2022-03-10 10:45:52.800\n"
     ]
    },
    {
     "data": {
      "text/html": [
       "<text style=color:blue>Executing RB.A78 query function find_source_timestamp_qds: 6/45.</text>"
      ],
      "text/plain": [
       "<IPython.core.display.HTML object>"
      ]
     },
     "metadata": {},
     "output_type": "display_data"
    },
    {
     "name": "stdout",
     "output_type": "stream",
     "text": [
      "\tQuerying PM event timestamps for system: QPS, className: DQAMCNMB_PMSTD, source: * from 2022-03-10 10:44:02.800 to 2022-03-10 10:53:12.800\n"
     ]
    },
    {
     "data": {
      "text/html": [
       "<text style=color:blue>Executing RB.A78 query function find_source_timestamp_ee: 1/45.</text>"
      ],
      "text/plain": [
       "<IPython.core.display.HTML object>"
      ]
     },
     "metadata": {},
     "output_type": "display_data"
    },
    {
     "name": "stdout",
     "output_type": "stream",
     "text": [
      "\tQuerying PM event timestamps for system: QPS, className: DQAMSNRB, source: UA83.RB.A78 from 2022-03-10 11:25:49.500 to 2022-03-10 11:42:39.500\n"
     ]
    },
    {
     "data": {
      "text/html": [
       "<text style=color:blue>Executing RB.A78 query function query_ee_u_dump_res_pm: 2/45.</text>"
      ],
      "text/plain": [
       "<IPython.core.display.HTML object>"
      ]
     },
     "metadata": {},
     "output_type": "display_data"
    },
    {
     "name": "stdout",
     "output_type": "stream",
     "text": [
      "\tQuerying PM event signal(s) UA83.RB.A78:U_DUMP_RES for system: QPS, className: DQAMSNRB, source: UA83.RB.A78 at 2022-03-10 11:26:00.063\n"
     ]
    },
    {
     "data": {
      "text/html": [
       "<text style=color:blue>Executing RB.A78 query function find_source_timestamp_ee: 3/45.</text>"
      ],
      "text/plain": [
       "<IPython.core.display.HTML object>"
      ]
     },
     "metadata": {},
     "output_type": "display_data"
    },
    {
     "name": "stdout",
     "output_type": "stream",
     "text": [
      "\tQuerying PM event timestamps for system: QPS, className: DQAMSNRB, source: RR77.RB.A78 from 2022-03-10 11:25:49.500 to 2022-03-10 11:42:39.500\n"
     ]
    },
    {
     "data": {
      "text/html": [
       "<text style=color:blue>Executing RB.A78 query function query_ee_u_dump_res_pm: 4/45.</text>"
      ],
      "text/plain": [
       "<IPython.core.display.HTML object>"
      ]
     },
     "metadata": {},
     "output_type": "display_data"
    },
    {
     "name": "stdout",
     "output_type": "stream",
     "text": [
      "\tQuerying PM event signal(s) RR77.RB.A78:U_DUMP_RES for system: QPS, className: DQAMSNRB, source: RR77.RB.A78 at 2022-03-10 11:25:59.568\n"
     ]
    },
    {
     "data": {
      "text/html": [
       "<text style=color:blue>Executing RB.A78 query function find_timestamp_pic: 5/45.</text>"
      ],
      "text/plain": [
       "<IPython.core.display.HTML object>"
      ]
     },
     "metadata": {},
     "output_type": "display_data"
    },
    {
     "name": "stdout",
     "output_type": "stream",
     "text": [
      "\tQuerying NXCALS signal(s) RB.A78.ODD:ST_ABORT_PIC, RB.A78.EVEN:ST_ABORT_PIC from 2022-03-10 11:25:58.500 to 2022-03-10 11:26:59.500\n"
     ]
    },
    {
     "data": {
      "text/html": [
       "<text style=color:blue>Executing RB.A78 query function find_source_timestamp_qds: 6/45.</text>"
      ],
      "text/plain": [
       "<IPython.core.display.HTML object>"
      ]
     },
     "metadata": {},
     "output_type": "display_data"
    },
    {
     "name": "stdout",
     "output_type": "stream",
     "text": [
      "\tQuerying PM event timestamps for system: QPS, className: DQAMCNMB_PMSTD, source: * from 2022-03-10 11:25:09.500 to 2022-03-10 11:34:19.500\n"
     ]
    },
    {
     "data": {
      "text/html": [
       "<text style=color:blue>Executing RB.A78 query function find_source_timestamp_ee: 1/45.</text>"
      ],
      "text/plain": [
       "<IPython.core.display.HTML object>"
      ]
     },
     "metadata": {},
     "output_type": "display_data"
    },
    {
     "name": "stdout",
     "output_type": "stream",
     "text": [
      "\tQuerying PM event timestamps for system: QPS, className: DQAMSNRB, source: UA83.RB.A78 from 2022-03-10 12:50:20.720 to 2022-03-10 13:07:10.720\n"
     ]
    },
    {
     "data": {
      "text/html": [
       "<text style=color:blue>Executing RB.A78 query function query_ee_u_dump_res_pm: 2/45.</text>"
      ],
      "text/plain": [
       "<IPython.core.display.HTML object>"
      ]
     },
     "metadata": {},
     "output_type": "display_data"
    },
    {
     "name": "stdout",
     "output_type": "stream",
     "text": [
      "\tQuerying PM event signal(s) UA83.RB.A78:U_DUMP_RES for system: QPS, className: DQAMSNRB, source: UA83.RB.A78 at 2022-03-10 12:50:31.286\n"
     ]
    },
    {
     "name": "stderr",
     "output_type": "stream",
     "text": [
      "\n",
      "A value is trying to be set on a copy of a slice from a DataFrame\n",
      "\n",
      "See the caveats in the documentation: https://pandas.pydata.org/pandas-docs/stable/user_guide/indexing.html#returning-a-view-versus-a-copy\n"
     ]
    },
    {
     "data": {
      "text/html": [
       "<text style=color:blue>Executing RB.A78 query function find_source_timestamp_ee: 3/45.</text>"
      ],
      "text/plain": [
       "<IPython.core.display.HTML object>"
      ]
     },
     "metadata": {},
     "output_type": "display_data"
    },
    {
     "name": "stdout",
     "output_type": "stream",
     "text": [
      "\tQuerying PM event timestamps for system: QPS, className: DQAMSNRB, source: RR77.RB.A78 from 2022-03-10 12:50:20.720 to 2022-03-10 13:07:10.720\n"
     ]
    },
    {
     "data": {
      "text/html": [
       "<text style=color:blue>Executing RB.A78 query function query_ee_u_dump_res_pm: 4/45.</text>"
      ],
      "text/plain": [
       "<IPython.core.display.HTML object>"
      ]
     },
     "metadata": {},
     "output_type": "display_data"
    },
    {
     "name": "stdout",
     "output_type": "stream",
     "text": [
      "\tQuerying PM event signal(s) RR77.RB.A78:U_DUMP_RES for system: QPS, className: DQAMSNRB, source: RR77.RB.A78 at 2022-03-10 12:50:30.790\n"
     ]
    },
    {
     "data": {
      "text/html": [
       "<text style=color:blue>Executing RB.A78 query function find_timestamp_pic: 5/45.</text>"
      ],
      "text/plain": [
       "<IPython.core.display.HTML object>"
      ]
     },
     "metadata": {},
     "output_type": "display_data"
    },
    {
     "name": "stdout",
     "output_type": "stream",
     "text": [
      "\tQuerying NXCALS signal(s) RB.A78.ODD:ST_ABORT_PIC, RB.A78.EVEN:ST_ABORT_PIC from 2022-03-10 12:50:29.720 to 2022-03-10 12:51:30.720\n"
     ]
    },
    {
     "data": {
      "text/html": [
       "<text style=color:blue>Executing RB.A78 query function find_source_timestamp_qds: 6/45.</text>"
      ],
      "text/plain": [
       "<IPython.core.display.HTML object>"
      ]
     },
     "metadata": {},
     "output_type": "display_data"
    },
    {
     "name": "stdout",
     "output_type": "stream",
     "text": [
      "\tQuerying PM event timestamps for system: QPS, className: DQAMCNMB_PMSTD, source: * from 2022-03-10 12:49:40.720 to 2022-03-10 12:58:50.720\n"
     ]
    },
    {
     "data": {
      "text/html": [
       "<text style=color:blue>Executing RB.A78 query function find_source_timestamp_ee: 1/45.</text>"
      ],
      "text/plain": [
       "<IPython.core.display.HTML object>"
      ]
     },
     "metadata": {},
     "output_type": "display_data"
    },
    {
     "name": "stdout",
     "output_type": "stream",
     "text": [
      "\tQuerying PM event timestamps for system: QPS, className: DQAMSNRB, source: UA83.RB.A78 from 2022-03-10 14:37:39.600 to 2022-03-10 14:54:29.600\n"
     ]
    },
    {
     "data": {
      "text/html": [
       "<text style=color:blue>Executing RB.A78 query function query_ee_u_dump_res_pm: 2/45.</text>"
      ],
      "text/plain": [
       "<IPython.core.display.HTML object>"
      ]
     },
     "metadata": {},
     "output_type": "display_data"
    },
    {
     "name": "stdout",
     "output_type": "stream",
     "text": [
      "\tQuerying PM event signal(s) UA83.RB.A78:U_DUMP_RES for system: QPS, className: DQAMSNRB, source: UA83.RB.A78 at 2022-03-10 14:37:50.169\n"
     ]
    },
    {
     "data": {
      "text/html": [
       "<text style=color:blue>Executing RB.A78 query function find_source_timestamp_ee: 3/45.</text>"
      ],
      "text/plain": [
       "<IPython.core.display.HTML object>"
      ]
     },
     "metadata": {},
     "output_type": "display_data"
    },
    {
     "name": "stdout",
     "output_type": "stream",
     "text": [
      "\tQuerying PM event timestamps for system: QPS, className: DQAMSNRB, source: RR77.RB.A78 from 2022-03-10 14:37:39.600 to 2022-03-10 14:54:29.600\n"
     ]
    },
    {
     "data": {
      "text/html": [
       "<text style=color:blue>Executing RB.A78 query function query_ee_u_dump_res_pm: 4/45.</text>"
      ],
      "text/plain": [
       "<IPython.core.display.HTML object>"
      ]
     },
     "metadata": {},
     "output_type": "display_data"
    },
    {
     "name": "stdout",
     "output_type": "stream",
     "text": [
      "\tQuerying PM event signal(s) RR77.RB.A78:U_DUMP_RES for system: QPS, className: DQAMSNRB, source: RR77.RB.A78 at 2022-03-10 14:37:49.671\n"
     ]
    },
    {
     "data": {
      "text/html": [
       "<text style=color:blue>Executing RB.A78 query function find_timestamp_pic: 5/45.</text>"
      ],
      "text/plain": [
       "<IPython.core.display.HTML object>"
      ]
     },
     "metadata": {},
     "output_type": "display_data"
    },
    {
     "name": "stdout",
     "output_type": "stream",
     "text": [
      "\tQuerying NXCALS signal(s) RB.A78.ODD:ST_ABORT_PIC, RB.A78.EVEN:ST_ABORT_PIC from 2022-03-10 14:37:48.600 to 2022-03-10 14:38:49.600\n"
     ]
    },
    {
     "data": {
      "text/html": [
       "<text style=color:blue>Executing RB.A78 query function find_source_timestamp_qds: 6/45.</text>"
      ],
      "text/plain": [
       "<IPython.core.display.HTML object>"
      ]
     },
     "metadata": {},
     "output_type": "display_data"
    },
    {
     "name": "stdout",
     "output_type": "stream",
     "text": [
      "\tQuerying PM event timestamps for system: QPS, className: DQAMCNMB_PMSTD, source: * from 2022-03-10 14:36:59.600 to 2022-03-10 14:46:09.600\n"
     ]
    },
    {
     "data": {
      "text/html": [
       "<text style=color:blue>Executing RB.A78 query function find_source_timestamp_ee: 1/45.</text>"
      ],
      "text/plain": [
       "<IPython.core.display.HTML object>"
      ]
     },
     "metadata": {},
     "output_type": "display_data"
    },
    {
     "name": "stdout",
     "output_type": "stream",
     "text": [
      "\tQuerying PM event timestamps for system: QPS, className: DQAMSNRB, source: UA83.RB.A78 from 2022-03-10 16:52:42.980 to 2022-03-10 17:09:32.980\n"
     ]
    },
    {
     "data": {
      "text/html": [
       "<text style=color:blue>Executing RB.A78 query function query_ee_u_dump_res_pm: 2/45.</text>"
      ],
      "text/plain": [
       "<IPython.core.display.HTML object>"
      ]
     },
     "metadata": {},
     "output_type": "display_data"
    },
    {
     "name": "stdout",
     "output_type": "stream",
     "text": [
      "\tQuerying PM event signal(s) UA83.RB.A78:U_DUMP_RES for system: QPS, className: DQAMSNRB, source: UA83.RB.A78 at 2022-03-10 16:52:53.555\n"
     ]
    },
    {
     "data": {
      "text/html": [
       "<text style=color:blue>Executing RB.A78 query function find_source_timestamp_ee: 3/45.</text>"
      ],
      "text/plain": [
       "<IPython.core.display.HTML object>"
      ]
     },
     "metadata": {},
     "output_type": "display_data"
    },
    {
     "name": "stdout",
     "output_type": "stream",
     "text": [
      "\tQuerying PM event timestamps for system: QPS, className: DQAMSNRB, source: RR77.RB.A78 from 2022-03-10 16:52:42.980 to 2022-03-10 17:09:32.980\n"
     ]
    },
    {
     "data": {
      "text/html": [
       "<text style=color:blue>Executing RB.A78 query function query_ee_u_dump_res_pm: 4/45.</text>"
      ],
      "text/plain": [
       "<IPython.core.display.HTML object>"
      ]
     },
     "metadata": {},
     "output_type": "display_data"
    },
    {
     "name": "stdout",
     "output_type": "stream",
     "text": [
      "\tQuerying PM event signal(s) RR77.RB.A78:U_DUMP_RES for system: QPS, className: DQAMSNRB, source: RR77.RB.A78 at 2022-03-10 16:52:53.057\n"
     ]
    },
    {
     "data": {
      "text/html": [
       "<text style=color:blue>Executing RB.A78 query function find_timestamp_pic: 5/45.</text>"
      ],
      "text/plain": [
       "<IPython.core.display.HTML object>"
      ]
     },
     "metadata": {},
     "output_type": "display_data"
    },
    {
     "name": "stdout",
     "output_type": "stream",
     "text": [
      "\tQuerying NXCALS signal(s) RB.A78.ODD:ST_ABORT_PIC, RB.A78.EVEN:ST_ABORT_PIC from 2022-03-10 16:52:51.980 to 2022-03-10 16:53:52.980\n"
     ]
    },
    {
     "data": {
      "text/html": [
       "<text style=color:blue>Executing RB.A78 query function find_source_timestamp_qds: 6/45.</text>"
      ],
      "text/plain": [
       "<IPython.core.display.HTML object>"
      ]
     },
     "metadata": {},
     "output_type": "display_data"
    },
    {
     "name": "stdout",
     "output_type": "stream",
     "text": [
      "\tQuerying PM event timestamps for system: QPS, className: DQAMCNMB_PMSTD, source: * from 2022-03-10 16:52:02.980 to 2022-03-10 17:01:12.980\n"
     ]
    },
    {
     "data": {
      "text/html": [
       "<text style=color:blue>Executing RB.A78 query function find_source_timestamp_ee: 1/45.</text>"
      ],
      "text/plain": [
       "<IPython.core.display.HTML object>"
      ]
     },
     "metadata": {},
     "output_type": "display_data"
    },
    {
     "name": "stdout",
     "output_type": "stream",
     "text": [
      "\tQuerying PM event timestamps for system: QPS, className: DQAMSNRB, source: UA83.RB.A78 from 2022-03-11 17:02:02.220 to 2022-03-11 17:18:52.220\n"
     ]
    },
    {
     "data": {
      "text/html": [
       "<text style=color:blue>Executing RB.A78 query function query_ee_u_dump_res_pm: 2/45.</text>"
      ],
      "text/plain": [
       "<IPython.core.display.HTML object>"
      ]
     },
     "metadata": {},
     "output_type": "display_data"
    },
    {
     "name": "stdout",
     "output_type": "stream",
     "text": [
      "\tQuerying PM event signal(s) UA83.RB.A78:U_DUMP_RES for system: QPS, className: DQAMSNRB, source: UA83.RB.A78 at 2022-03-11 17:02:12.789\n"
     ]
    },
    {
     "data": {
      "text/html": [
       "<text style=color:blue>Executing RB.A78 query function find_source_timestamp_ee: 3/45.</text>"
      ],
      "text/plain": [
       "<IPython.core.display.HTML object>"
      ]
     },
     "metadata": {},
     "output_type": "display_data"
    },
    {
     "name": "stdout",
     "output_type": "stream",
     "text": [
      "\tQuerying PM event timestamps for system: QPS, className: DQAMSNRB, source: RR77.RB.A78 from 2022-03-11 17:02:02.220 to 2022-03-11 17:18:52.220\n"
     ]
    },
    {
     "data": {
      "text/html": [
       "<text style=color:blue>Executing RB.A78 query function query_ee_u_dump_res_pm: 4/45.</text>"
      ],
      "text/plain": [
       "<IPython.core.display.HTML object>"
      ]
     },
     "metadata": {},
     "output_type": "display_data"
    },
    {
     "name": "stdout",
     "output_type": "stream",
     "text": [
      "\tQuerying PM event signal(s) RR77.RB.A78:U_DUMP_RES for system: QPS, className: DQAMSNRB, source: RR77.RB.A78 at 2022-03-11 17:02:12.291\n"
     ]
    },
    {
     "data": {
      "text/html": [
       "<text style=color:blue>Executing RB.A78 query function find_timestamp_pic: 5/45.</text>"
      ],
      "text/plain": [
       "<IPython.core.display.HTML object>"
      ]
     },
     "metadata": {},
     "output_type": "display_data"
    },
    {
     "name": "stdout",
     "output_type": "stream",
     "text": [
      "\tQuerying NXCALS signal(s) RB.A78.ODD:ST_ABORT_PIC, RB.A78.EVEN:ST_ABORT_PIC from 2022-03-11 17:02:11.220 to 2022-03-11 17:03:12.220\n"
     ]
    },
    {
     "data": {
      "text/html": [
       "<text style=color:blue>Executing RB.A78 query function find_source_timestamp_qds: 6/45.</text>"
      ],
      "text/plain": [
       "<IPython.core.display.HTML object>"
      ]
     },
     "metadata": {},
     "output_type": "display_data"
    },
    {
     "name": "stdout",
     "output_type": "stream",
     "text": [
      "\tQuerying PM event timestamps for system: QPS, className: DQAMCNMB_PMSTD, source: * from 2022-03-11 17:01:22.220 to 2022-03-11 17:10:32.220\n"
     ]
    },
    {
     "data": {
      "text/html": [
       "<text style=color:blue>Executing RB.A78 query function find_source_timestamp_ee: 1/45.</text>"
      ],
      "text/plain": [
       "<IPython.core.display.HTML object>"
      ]
     },
     "metadata": {},
     "output_type": "display_data"
    },
    {
     "name": "stdout",
     "output_type": "stream",
     "text": [
      "\tQuerying PM event timestamps for system: QPS, className: DQAMSNRB, source: UA83.RB.A78 from 2022-03-21 17:29:34.960 to 2022-03-21 17:46:24.960\n"
     ]
    },
    {
     "data": {
      "text/html": [
       "<text style=color:blue>Executing RB.A78 query function query_ee_u_dump_res_pm: 2/45.</text>"
      ],
      "text/plain": [
       "<IPython.core.display.HTML object>"
      ]
     },
     "metadata": {},
     "output_type": "display_data"
    },
    {
     "name": "stdout",
     "output_type": "stream",
     "text": [
      "\tQuerying PM event signal(s) UA83.RB.A78:U_DUMP_RES for system: QPS, className: DQAMSNRB, source: UA83.RB.A78 at 2022-03-21 17:29:45.529\n"
     ]
    },
    {
     "data": {
      "text/html": [
       "<text style=color:blue>Executing RB.A78 query function find_source_timestamp_ee: 3/45.</text>"
      ],
      "text/plain": [
       "<IPython.core.display.HTML object>"
      ]
     },
     "metadata": {},
     "output_type": "display_data"
    },
    {
     "name": "stdout",
     "output_type": "stream",
     "text": [
      "\tQuerying PM event timestamps for system: QPS, className: DQAMSNRB, source: RR77.RB.A78 from 2022-03-21 17:29:34.960 to 2022-03-21 17:46:24.960\n"
     ]
    },
    {
     "data": {
      "text/html": [
       "<text style=color:blue>Executing RB.A78 query function query_ee_u_dump_res_pm: 4/45.</text>"
      ],
      "text/plain": [
       "<IPython.core.display.HTML object>"
      ]
     },
     "metadata": {},
     "output_type": "display_data"
    },
    {
     "name": "stdout",
     "output_type": "stream",
     "text": [
      "\tQuerying PM event signal(s) RR77.RB.A78:U_DUMP_RES for system: QPS, className: DQAMSNRB, source: RR77.RB.A78 at 2022-03-21 17:29:45.031\n"
     ]
    },
    {
     "data": {
      "text/html": [
       "<text style=color:blue>Executing RB.A78 query function find_timestamp_pic: 5/45.</text>"
      ],
      "text/plain": [
       "<IPython.core.display.HTML object>"
      ]
     },
     "metadata": {},
     "output_type": "display_data"
    },
    {
     "name": "stdout",
     "output_type": "stream",
     "text": [
      "\tQuerying NXCALS signal(s) RB.A78.ODD:ST_ABORT_PIC, RB.A78.EVEN:ST_ABORT_PIC from 2022-03-21 17:29:43.960 to 2022-03-21 17:30:44.960\n"
     ]
    },
    {
     "data": {
      "text/html": [
       "<text style=color:blue>Executing RB.A78 query function find_source_timestamp_qds: 6/45.</text>"
      ],
      "text/plain": [
       "<IPython.core.display.HTML object>"
      ]
     },
     "metadata": {},
     "output_type": "display_data"
    },
    {
     "name": "stdout",
     "output_type": "stream",
     "text": [
      "\tQuerying PM event timestamps for system: QPS, className: DQAMCNMB_PMSTD, source: * from 2022-03-21 17:28:54.960 to 2022-03-21 17:38:04.960\n"
     ]
    },
    {
     "data": {
      "text/html": [
       "<text style=color:blue>Executing RB.A81 query function find_source_timestamp_ee: 1/45.</text>"
      ],
      "text/plain": [
       "<IPython.core.display.HTML object>"
      ]
     },
     "metadata": {},
     "output_type": "display_data"
    },
    {
     "name": "stdout",
     "output_type": "stream",
     "text": [
      "\tQuerying PM event timestamps for system: QPS, className: DQAMSNRB, source: UA87.RB.A81 from 2021-08-11 17:12:00.020 to 2021-08-11 17:28:50.020\n"
     ]
    },
    {
     "data": {
      "text/html": [
       "<text style=color:blue>Executing RB.A81 query function query_ee_u_dump_res_pm: 2/45.</text>"
      ],
      "text/plain": [
       "<IPython.core.display.HTML object>"
      ]
     },
     "metadata": {},
     "output_type": "display_data"
    },
    {
     "name": "stdout",
     "output_type": "stream",
     "text": [
      "\tQuerying PM event signal(s) UA87.RB.A81:U_DUMP_RES for system: QPS, className: DQAMSNRB, source: UA87.RB.A81 at 2021-08-11 17:12:10.595\n"
     ]
    },
    {
     "data": {
      "text/html": [
       "<text style=color:blue>Executing RB.A81 query function find_source_timestamp_ee: 3/45.</text>"
      ],
      "text/plain": [
       "<IPython.core.display.HTML object>"
      ]
     },
     "metadata": {},
     "output_type": "display_data"
    },
    {
     "name": "stdout",
     "output_type": "stream",
     "text": [
      "\tQuerying PM event timestamps for system: QPS, className: DQAMSNRB, source: RR13.RB.A81 from 2021-08-11 17:12:00.020 to 2021-08-11 17:28:50.020\n"
     ]
    },
    {
     "data": {
      "text/html": [
       "<text style=color:blue>Executing RB.A81 query function query_ee_u_dump_res_pm: 4/45.</text>"
      ],
      "text/plain": [
       "<IPython.core.display.HTML object>"
      ]
     },
     "metadata": {},
     "output_type": "display_data"
    },
    {
     "name": "stdout",
     "output_type": "stream",
     "text": [
      "\tQuerying PM event signal(s) RR13.RB.A81:U_DUMP_RES for system: QPS, className: DQAMSNRB, source: RR13.RB.A81 at 2021-08-11 17:12:10.092\n"
     ]
    },
    {
     "data": {
      "text/html": [
       "<text style=color:blue>Executing RB.A81 query function find_timestamp_pic: 5/45.</text>"
      ],
      "text/plain": [
       "<IPython.core.display.HTML object>"
      ]
     },
     "metadata": {},
     "output_type": "display_data"
    },
    {
     "name": "stdout",
     "output_type": "stream",
     "text": [
      "\tQuerying NXCALS signal(s) RB.A81.ODD:ST_ABORT_PIC, RB.A81.EVEN:ST_ABORT_PIC from 2021-08-11 17:12:09.020 to 2021-08-11 17:13:10.020\n"
     ]
    },
    {
     "data": {
      "text/html": [
       "<text style=color:blue>Executing RB.A81 query function find_source_timestamp_qds: 6/45.</text>"
      ],
      "text/plain": [
       "<IPython.core.display.HTML object>"
      ]
     },
     "metadata": {},
     "output_type": "display_data"
    },
    {
     "name": "stdout",
     "output_type": "stream",
     "text": [
      "\tQuerying PM event timestamps for system: QPS, className: DQAMCNMB_PMSTD, source: * from 2021-08-11 17:11:20.020 to 2021-08-11 17:20:30.020\n"
     ]
    },
    {
     "data": {
      "text/html": [
       "<text style=color:blue>Executing RB.A81 query function find_source_timestamp_ee: 1/45.</text>"
      ],
      "text/plain": [
       "<IPython.core.display.HTML object>"
      ]
     },
     "metadata": {},
     "output_type": "display_data"
    },
    {
     "name": "stdout",
     "output_type": "stream",
     "text": [
      "\tQuerying PM event timestamps for system: QPS, className: DQAMSNRB, source: UA87.RB.A81 from 2022-03-17 17:35:46.780 to 2022-03-17 17:52:36.780\n"
     ]
    },
    {
     "data": {
      "text/html": [
       "<text style=color:blue>Executing RB.A81 query function query_ee_u_dump_res_pm: 2/45.</text>"
      ],
      "text/plain": [
       "<IPython.core.display.HTML object>"
      ]
     },
     "metadata": {},
     "output_type": "display_data"
    },
    {
     "name": "stdout",
     "output_type": "stream",
     "text": [
      "\tQuerying PM event signal(s) UA87.RB.A81:U_DUMP_RES for system: QPS, className: DQAMSNRB, source: UA87.RB.A81 at 2022-03-17 17:35:57.350\n"
     ]
    },
    {
     "data": {
      "text/html": [
       "<text style=color:blue>Executing RB.A81 query function find_source_timestamp_ee: 3/45.</text>"
      ],
      "text/plain": [
       "<IPython.core.display.HTML object>"
      ]
     },
     "metadata": {},
     "output_type": "display_data"
    },
    {
     "name": "stdout",
     "output_type": "stream",
     "text": [
      "\tQuerying PM event timestamps for system: QPS, className: DQAMSNRB, source: RR13.RB.A81 from 2022-03-17 17:35:46.780 to 2022-03-17 17:52:36.780\n"
     ]
    },
    {
     "data": {
      "text/html": [
       "<text style=color:blue>Executing RB.A81 query function query_ee_u_dump_res_pm: 4/45.</text>"
      ],
      "text/plain": [
       "<IPython.core.display.HTML object>"
      ]
     },
     "metadata": {},
     "output_type": "display_data"
    },
    {
     "name": "stdout",
     "output_type": "stream",
     "text": [
      "\tQuerying PM event signal(s) RR13.RB.A81:U_DUMP_RES for system: QPS, className: DQAMSNRB, source: RR13.RB.A81 at 2022-03-17 17:35:56.848\n"
     ]
    },
    {
     "name": "stderr",
     "output_type": "stream",
     "text": [
      "\n",
      "A value is trying to be set on a copy of a slice from a DataFrame\n",
      "\n",
      "See the caveats in the documentation: https://pandas.pydata.org/pandas-docs/stable/user_guide/indexing.html#returning-a-view-versus-a-copy\n"
     ]
    },
    {
     "data": {
      "text/html": [
       "<text style=color:blue>Executing RB.A81 query function find_timestamp_pic: 5/45.</text>"
      ],
      "text/plain": [
       "<IPython.core.display.HTML object>"
      ]
     },
     "metadata": {},
     "output_type": "display_data"
    },
    {
     "name": "stdout",
     "output_type": "stream",
     "text": [
      "\tQuerying NXCALS signal(s) RB.A81.ODD:ST_ABORT_PIC, RB.A81.EVEN:ST_ABORT_PIC from 2022-03-17 17:35:55.780 to 2022-03-17 17:36:56.780\n"
     ]
    },
    {
     "data": {
      "text/html": [
       "<text style=color:blue>Executing RB.A81 query function find_source_timestamp_qds: 6/45.</text>"
      ],
      "text/plain": [
       "<IPython.core.display.HTML object>"
      ]
     },
     "metadata": {},
     "output_type": "display_data"
    },
    {
     "name": "stdout",
     "output_type": "stream",
     "text": [
      "\tQuerying PM event timestamps for system: QPS, className: DQAMCNMB_PMSTD, source: * from 2022-03-17 17:35:06.780 to 2022-03-17 17:44:16.780\n"
     ]
    },
    {
     "data": {
      "text/html": [
       "<text style=color:blue>Executing RB.A81 query function find_source_timestamp_ee: 1/45.</text>"
      ],
      "text/plain": [
       "<IPython.core.display.HTML object>"
      ]
     },
     "metadata": {},
     "output_type": "display_data"
    },
    {
     "name": "stdout",
     "output_type": "stream",
     "text": [
      "\tQuerying PM event timestamps for system: QPS, className: DQAMSNRB, source: UA87.RB.A81 from 2022-03-21 17:28:52.140 to 2022-03-21 17:45:42.140\n"
     ]
    },
    {
     "data": {
      "text/html": [
       "<text style=color:blue>Executing RB.A81 query function query_ee_u_dump_res_pm: 2/45.</text>"
      ],
      "text/plain": [
       "<IPython.core.display.HTML object>"
      ]
     },
     "metadata": {},
     "output_type": "display_data"
    },
    {
     "name": "stdout",
     "output_type": "stream",
     "text": [
      "\tQuerying PM event signal(s) UA87.RB.A81:U_DUMP_RES for system: QPS, className: DQAMSNRB, source: UA87.RB.A81 at 2022-03-21 17:29:02.714\n"
     ]
    },
    {
     "data": {
      "text/html": [
       "<text style=color:blue>Executing RB.A81 query function find_source_timestamp_ee: 3/45.</text>"
      ],
      "text/plain": [
       "<IPython.core.display.HTML object>"
      ]
     },
     "metadata": {},
     "output_type": "display_data"
    },
    {
     "name": "stdout",
     "output_type": "stream",
     "text": [
      "\tQuerying PM event timestamps for system: QPS, className: DQAMSNRB, source: RR13.RB.A81 from 2022-03-21 17:28:52.140 to 2022-03-21 17:45:42.140\n"
     ]
    },
    {
     "data": {
      "text/html": [
       "<text style=color:blue>Executing RB.A81 query function query_ee_u_dump_res_pm: 4/45.</text>"
      ],
      "text/plain": [
       "<IPython.core.display.HTML object>"
      ]
     },
     "metadata": {},
     "output_type": "display_data"
    },
    {
     "name": "stdout",
     "output_type": "stream",
     "text": [
      "\tQuerying PM event signal(s) RR13.RB.A81:U_DUMP_RES for system: QPS, className: DQAMSNRB, source: RR13.RB.A81 at 2022-03-21 17:29:02.212\n"
     ]
    },
    {
     "data": {
      "text/html": [
       "<text style=color:blue>Executing RB.A81 query function find_timestamp_pic: 5/45.</text>"
      ],
      "text/plain": [
       "<IPython.core.display.HTML object>"
      ]
     },
     "metadata": {},
     "output_type": "display_data"
    },
    {
     "name": "stdout",
     "output_type": "stream",
     "text": [
      "\tQuerying NXCALS signal(s) RB.A81.ODD:ST_ABORT_PIC, RB.A81.EVEN:ST_ABORT_PIC from 2022-03-21 17:29:01.140 to 2022-03-21 17:30:02.140\n"
     ]
    },
    {
     "data": {
      "text/html": [
       "<text style=color:blue>Executing RB.A81 query function find_source_timestamp_qds: 6/45.</text>"
      ],
      "text/plain": [
       "<IPython.core.display.HTML object>"
      ]
     },
     "metadata": {},
     "output_type": "display_data"
    },
    {
     "name": "stdout",
     "output_type": "stream",
     "text": [
      "\tQuerying PM event timestamps for system: QPS, className: DQAMCNMB_PMSTD, source: * from 2022-03-21 17:28:12.140 to 2022-03-21 17:37:22.140\n"
     ]
    },
    {
     "data": {
      "text/html": [
       "<text style=color:blue>Executing RB.A81 query function find_source_timestamp_ee: 1/45.</text>"
      ],
      "text/plain": [
       "<IPython.core.display.HTML object>"
      ]
     },
     "metadata": {},
     "output_type": "display_data"
    },
    {
     "name": "stdout",
     "output_type": "stream",
     "text": [
      "\tQuerying PM event timestamps for system: QPS, className: DQAMSNRB, source: UA87.RB.A81 from 2022-03-24 11:33:18.260 to 2022-03-24 11:50:08.260\n"
     ]
    },
    {
     "data": {
      "text/html": [
       "<text style=color:blue>Executing RB.A81 query function query_ee_u_dump_res_pm: 2/45.</text>"
      ],
      "text/plain": [
       "<IPython.core.display.HTML object>"
      ]
     },
     "metadata": {},
     "output_type": "display_data"
    },
    {
     "name": "stdout",
     "output_type": "stream",
     "text": [
      "\tQuerying PM event signal(s) UA87.RB.A81:U_DUMP_RES for system: QPS, className: DQAMSNRB, source: UA87.RB.A81 at 2022-03-24 11:33:28.841\n"
     ]
    },
    {
     "data": {
      "text/html": [
       "<text style=color:blue>Executing RB.A81 query function find_source_timestamp_ee: 3/45.</text>"
      ],
      "text/plain": [
       "<IPython.core.display.HTML object>"
      ]
     },
     "metadata": {},
     "output_type": "display_data"
    },
    {
     "name": "stdout",
     "output_type": "stream",
     "text": [
      "\tQuerying PM event timestamps for system: QPS, className: DQAMSNRB, source: RR13.RB.A81 from 2022-03-24 11:33:18.260 to 2022-03-24 11:50:08.260\n"
     ]
    },
    {
     "data": {
      "text/html": [
       "<text style=color:blue>Executing RB.A81 query function query_ee_u_dump_res_pm: 4/45.</text>"
      ],
      "text/plain": [
       "<IPython.core.display.HTML object>"
      ]
     },
     "metadata": {},
     "output_type": "display_data"
    },
    {
     "name": "stdout",
     "output_type": "stream",
     "text": [
      "\tQuerying PM event signal(s) RR13.RB.A81:U_DUMP_RES for system: QPS, className: DQAMSNRB, source: RR13.RB.A81 at 2022-03-24 11:33:28.342\n"
     ]
    },
    {
     "data": {
      "text/html": [
       "<text style=color:blue>Executing RB.A81 query function find_timestamp_pic: 5/45.</text>"
      ],
      "text/plain": [
       "<IPython.core.display.HTML object>"
      ]
     },
     "metadata": {},
     "output_type": "display_data"
    },
    {
     "name": "stdout",
     "output_type": "stream",
     "text": [
      "\tQuerying NXCALS signal(s) RB.A81.ODD:ST_ABORT_PIC, RB.A81.EVEN:ST_ABORT_PIC from 2022-03-24 11:33:27.260 to 2022-03-24 11:34:28.260\n"
     ]
    },
    {
     "data": {
      "text/html": [
       "<text style=color:blue>Executing RB.A81 query function find_source_timestamp_qds: 6/45.</text>"
      ],
      "text/plain": [
       "<IPython.core.display.HTML object>"
      ]
     },
     "metadata": {},
     "output_type": "display_data"
    },
    {
     "name": "stdout",
     "output_type": "stream",
     "text": [
      "\tQuerying PM event timestamps for system: QPS, className: DQAMCNMB_PMSTD, source: * from 2022-03-24 11:32:38.260 to 2022-03-24 11:41:48.260\n"
     ]
    },
    {
     "data": {
      "text/html": [
       "<text style=color:blue>Executing RB.A81 query function find_source_timestamp_ee: 1/45.</text>"
      ],
      "text/plain": [
       "<IPython.core.display.HTML object>"
      ]
     },
     "metadata": {},
     "output_type": "display_data"
    },
    {
     "name": "stdout",
     "output_type": "stream",
     "text": [
      "\tQuerying PM event timestamps for system: QPS, className: DQAMSNRB, source: UA87.RB.A81 from 2022-03-24 14:22:43.660 to 2022-03-24 14:39:33.660\n"
     ]
    },
    {
     "data": {
      "text/html": [
       "<text style=color:blue>Executing RB.A81 query function query_ee_u_dump_res_pm: 2/45.</text>"
      ],
      "text/plain": [
       "<IPython.core.display.HTML object>"
      ]
     },
     "metadata": {},
     "output_type": "display_data"
    },
    {
     "name": "stdout",
     "output_type": "stream",
     "text": [
      "\tQuerying PM event signal(s) UA87.RB.A81:U_DUMP_RES for system: QPS, className: DQAMSNRB, source: UA87.RB.A81 at 2022-03-24 14:22:54.242\n"
     ]
    },
    {
     "data": {
      "text/html": [
       "<text style=color:blue>Executing RB.A81 query function find_source_timestamp_ee: 3/45.</text>"
      ],
      "text/plain": [
       "<IPython.core.display.HTML object>"
      ]
     },
     "metadata": {},
     "output_type": "display_data"
    },
    {
     "name": "stdout",
     "output_type": "stream",
     "text": [
      "\tQuerying PM event timestamps for system: QPS, className: DQAMSNRB, source: RR13.RB.A81 from 2022-03-24 14:22:43.660 to 2022-03-24 14:39:33.660\n"
     ]
    },
    {
     "data": {
      "text/html": [
       "<text style=color:blue>Executing RB.A81 query function query_ee_u_dump_res_pm: 4/45.</text>"
      ],
      "text/plain": [
       "<IPython.core.display.HTML object>"
      ]
     },
     "metadata": {},
     "output_type": "display_data"
    },
    {
     "name": "stdout",
     "output_type": "stream",
     "text": [
      "\tQuerying PM event signal(s) RR13.RB.A81:U_DUMP_RES for system: QPS, className: DQAMSNRB, source: RR13.RB.A81 at 2022-03-24 14:22:53.742\n"
     ]
    },
    {
     "data": {
      "text/html": [
       "<text style=color:blue>Executing RB.A81 query function find_timestamp_pic: 5/45.</text>"
      ],
      "text/plain": [
       "<IPython.core.display.HTML object>"
      ]
     },
     "metadata": {},
     "output_type": "display_data"
    },
    {
     "name": "stdout",
     "output_type": "stream",
     "text": [
      "\tQuerying NXCALS signal(s) RB.A81.ODD:ST_ABORT_PIC, RB.A81.EVEN:ST_ABORT_PIC from 2022-03-24 14:22:52.660 to 2022-03-24 14:23:53.660\n"
     ]
    },
    {
     "data": {
      "text/html": [
       "<text style=color:blue>Executing RB.A81 query function find_source_timestamp_qds: 6/45.</text>"
      ],
      "text/plain": [
       "<IPython.core.display.HTML object>"
      ]
     },
     "metadata": {},
     "output_type": "display_data"
    },
    {
     "name": "stdout",
     "output_type": "stream",
     "text": [
      "\tQuerying PM event timestamps for system: QPS, className: DQAMCNMB_PMSTD, source: * from 2022-03-24 14:22:03.660 to 2022-03-24 14:31:13.660\n"
     ]
    },
    {
     "data": {
      "text/html": [
       "<text style=color:blue>Executing RB.A81 query function find_source_timestamp_ee: 1/45.</text>"
      ],
      "text/plain": [
       "<IPython.core.display.HTML object>"
      ]
     },
     "metadata": {},
     "output_type": "display_data"
    },
    {
     "name": "stdout",
     "output_type": "stream",
     "text": [
      "\tQuerying PM event timestamps for system: QPS, className: DQAMSNRB, source: UA87.RB.A81 from 2022-03-24 15:28:00.860 to 2022-03-24 15:44:50.860\n"
     ]
    },
    {
     "data": {
      "text/html": [
       "<text style=color:blue>Executing RB.A81 query function query_ee_u_dump_res_pm: 2/45.</text>"
      ],
      "text/plain": [
       "<IPython.core.display.HTML object>"
      ]
     },
     "metadata": {},
     "output_type": "display_data"
    },
    {
     "name": "stdout",
     "output_type": "stream",
     "text": [
      "\tQuerying PM event signal(s) UA87.RB.A81:U_DUMP_RES for system: QPS, className: DQAMSNRB, source: UA87.RB.A81 at 2022-03-24 15:28:11.430\n"
     ]
    },
    {
     "data": {
      "text/html": [
       "<text style=color:blue>Executing RB.A81 query function find_source_timestamp_ee: 3/45.</text>"
      ],
      "text/plain": [
       "<IPython.core.display.HTML object>"
      ]
     },
     "metadata": {},
     "output_type": "display_data"
    },
    {
     "name": "stdout",
     "output_type": "stream",
     "text": [
      "\tQuerying PM event timestamps for system: QPS, className: DQAMSNRB, source: RR13.RB.A81 from 2022-03-24 15:28:00.860 to 2022-03-24 15:44:50.860\n"
     ]
    },
    {
     "data": {
      "text/html": [
       "<text style=color:blue>Executing RB.A81 query function query_ee_u_dump_res_pm: 4/45.</text>"
      ],
      "text/plain": [
       "<IPython.core.display.HTML object>"
      ]
     },
     "metadata": {},
     "output_type": "display_data"
    },
    {
     "name": "stdout",
     "output_type": "stream",
     "text": [
      "\tQuerying PM event signal(s) RR13.RB.A81:U_DUMP_RES for system: QPS, className: DQAMSNRB, source: RR13.RB.A81 at 2022-03-24 15:28:10.931\n"
     ]
    },
    {
     "data": {
      "text/html": [
       "<text style=color:blue>Executing RB.A81 query function find_timestamp_pic: 5/45.</text>"
      ],
      "text/plain": [
       "<IPython.core.display.HTML object>"
      ]
     },
     "metadata": {},
     "output_type": "display_data"
    },
    {
     "name": "stdout",
     "output_type": "stream",
     "text": [
      "\tQuerying NXCALS signal(s) RB.A81.ODD:ST_ABORT_PIC, RB.A81.EVEN:ST_ABORT_PIC from 2022-03-24 15:28:09.860 to 2022-03-24 15:29:10.860\n"
     ]
    },
    {
     "data": {
      "text/html": [
       "<text style=color:blue>Executing RB.A81 query function find_source_timestamp_qds: 6/45.</text>"
      ],
      "text/plain": [
       "<IPython.core.display.HTML object>"
      ]
     },
     "metadata": {},
     "output_type": "display_data"
    },
    {
     "name": "stdout",
     "output_type": "stream",
     "text": [
      "\tQuerying PM event timestamps for system: QPS, className: DQAMCNMB_PMSTD, source: * from 2022-03-24 15:27:20.860 to 2022-03-24 15:36:30.860\n"
     ]
    },
    {
     "data": {
      "text/html": [
       "<text style=color:blue>Executing RB.A81 query function find_source_timestamp_ee: 1/45.</text>"
      ],
      "text/plain": [
       "<IPython.core.display.HTML object>"
      ]
     },
     "metadata": {},
     "output_type": "display_data"
    },
    {
     "name": "stdout",
     "output_type": "stream",
     "text": [
      "\tQuerying PM event timestamps for system: QPS, className: DQAMSNRB, source: UA87.RB.A81 from 2022-03-24 17:11:45.840 to 2022-03-24 17:28:35.840\n"
     ]
    },
    {
     "data": {
      "text/html": [
       "<text style=color:blue>Executing RB.A81 query function query_ee_u_dump_res_pm: 2/45.</text>"
      ],
      "text/plain": [
       "<IPython.core.display.HTML object>"
      ]
     },
     "metadata": {},
     "output_type": "display_data"
    },
    {
     "name": "stdout",
     "output_type": "stream",
     "text": [
      "\tQuerying PM event signal(s) UA87.RB.A81:U_DUMP_RES for system: QPS, className: DQAMSNRB, source: UA87.RB.A81 at 2022-03-24 17:11:56.406\n"
     ]
    },
    {
     "data": {
      "text/html": [
       "<text style=color:blue>Executing RB.A81 query function find_source_timestamp_ee: 3/45.</text>"
      ],
      "text/plain": [
       "<IPython.core.display.HTML object>"
      ]
     },
     "metadata": {},
     "output_type": "display_data"
    },
    {
     "name": "stdout",
     "output_type": "stream",
     "text": [
      "\tQuerying PM event timestamps for system: QPS, className: DQAMSNRB, source: RR13.RB.A81 from 2022-03-24 17:11:45.840 to 2022-03-24 17:28:35.840\n"
     ]
    },
    {
     "data": {
      "text/html": [
       "<text style=color:blue>Executing RB.A81 query function query_ee_u_dump_res_pm: 4/45.</text>"
      ],
      "text/plain": [
       "<IPython.core.display.HTML object>"
      ]
     },
     "metadata": {},
     "output_type": "display_data"
    },
    {
     "name": "stdout",
     "output_type": "stream",
     "text": [
      "\tQuerying PM event signal(s) RR13.RB.A81:U_DUMP_RES for system: QPS, className: DQAMSNRB, source: RR13.RB.A81 at 2022-03-24 17:11:55.907\n"
     ]
    },
    {
     "data": {
      "text/html": [
       "<text style=color:blue>Executing RB.A81 query function find_timestamp_pic: 5/45.</text>"
      ],
      "text/plain": [
       "<IPython.core.display.HTML object>"
      ]
     },
     "metadata": {},
     "output_type": "display_data"
    },
    {
     "name": "stdout",
     "output_type": "stream",
     "text": [
      "\tQuerying NXCALS signal(s) RB.A81.ODD:ST_ABORT_PIC, RB.A81.EVEN:ST_ABORT_PIC from 2022-03-24 17:11:54.840 to 2022-03-24 17:12:55.840\n"
     ]
    },
    {
     "data": {
      "text/html": [
       "<text style=color:blue>Executing RB.A81 query function find_source_timestamp_qds: 6/45.</text>"
      ],
      "text/plain": [
       "<IPython.core.display.HTML object>"
      ]
     },
     "metadata": {},
     "output_type": "display_data"
    },
    {
     "name": "stdout",
     "output_type": "stream",
     "text": [
      "\tQuerying PM event timestamps for system: QPS, className: DQAMCNMB_PMSTD, source: * from 2022-03-24 17:11:05.840 to 2022-03-24 17:20:15.840\n"
     ]
    },
    {
     "data": {
      "text/html": [
       "<text style=color:blue>Executing RB.A81 query function find_source_timestamp_ee: 1/45.</text>"
      ],
      "text/plain": [
       "<IPython.core.display.HTML object>"
      ]
     },
     "metadata": {},
     "output_type": "display_data"
    },
    {
     "name": "stdout",
     "output_type": "stream",
     "text": [
      "\tQuerying PM event timestamps for system: QPS, className: DQAMSNRB, source: UA87.RB.A81 from 2022-03-25 12:18:25.180 to 2022-03-25 12:35:15.180\n"
     ]
    },
    {
     "data": {
      "text/html": [
       "<text style=color:blue>Executing RB.A81 query function query_ee_u_dump_res_pm: 2/45.</text>"
      ],
      "text/plain": [
       "<IPython.core.display.HTML object>"
      ]
     },
     "metadata": {},
     "output_type": "display_data"
    },
    {
     "name": "stdout",
     "output_type": "stream",
     "text": [
      "\tQuerying PM event signal(s) UA87.RB.A81:U_DUMP_RES for system: QPS, className: DQAMSNRB, source: UA87.RB.A81 at 2022-03-25 12:18:35.760\n"
     ]
    },
    {
     "name": "stderr",
     "output_type": "stream",
     "text": [
      "\n",
      "A value is trying to be set on a copy of a slice from a DataFrame\n",
      "\n",
      "See the caveats in the documentation: https://pandas.pydata.org/pandas-docs/stable/user_guide/indexing.html#returning-a-view-versus-a-copy\n"
     ]
    },
    {
     "data": {
      "text/html": [
       "<text style=color:blue>Executing RB.A81 query function find_source_timestamp_ee: 3/45.</text>"
      ],
      "text/plain": [
       "<IPython.core.display.HTML object>"
      ]
     },
     "metadata": {},
     "output_type": "display_data"
    },
    {
     "name": "stdout",
     "output_type": "stream",
     "text": [
      "\tQuerying PM event timestamps for system: QPS, className: DQAMSNRB, source: RR13.RB.A81 from 2022-03-25 12:18:25.180 to 2022-03-25 12:35:15.180\n"
     ]
    },
    {
     "data": {
      "text/html": [
       "<text style=color:blue>Executing RB.A81 query function query_ee_u_dump_res_pm: 4/45.</text>"
      ],
      "text/plain": [
       "<IPython.core.display.HTML object>"
      ]
     },
     "metadata": {},
     "output_type": "display_data"
    },
    {
     "name": "stdout",
     "output_type": "stream",
     "text": [
      "\tQuerying PM event signal(s) RR13.RB.A81:U_DUMP_RES for system: QPS, className: DQAMSNRB, source: RR13.RB.A81 at 2022-03-25 12:18:35.258\n"
     ]
    },
    {
     "data": {
      "text/html": [
       "<text style=color:blue>Executing RB.A81 query function find_timestamp_pic: 5/45.</text>"
      ],
      "text/plain": [
       "<IPython.core.display.HTML object>"
      ]
     },
     "metadata": {},
     "output_type": "display_data"
    },
    {
     "name": "stdout",
     "output_type": "stream",
     "text": [
      "\tQuerying NXCALS signal(s) RB.A81.ODD:ST_ABORT_PIC, RB.A81.EVEN:ST_ABORT_PIC from 2022-03-25 12:18:34.180 to 2022-03-25 12:19:35.180\n"
     ]
    },
    {
     "data": {
      "text/html": [
       "<text style=color:blue>Executing RB.A81 query function find_source_timestamp_qds: 6/45.</text>"
      ],
      "text/plain": [
       "<IPython.core.display.HTML object>"
      ]
     },
     "metadata": {},
     "output_type": "display_data"
    },
    {
     "name": "stdout",
     "output_type": "stream",
     "text": [
      "\tQuerying PM event timestamps for system: QPS, className: DQAMCNMB_PMSTD, source: * from 2022-03-25 12:17:45.180 to 2022-03-25 12:26:55.180\n",
      "0\n"
     ]
    }
   ],
   "source": [
    "k=0\n",
    "for fpa_identifier in fpa_identifiers:\n",
    "    \n",
    "    circuit_name= fpa_identifier.split(\"_\")[1]\n",
    "    timestamp_fgc= int(fpa_identifier.split(\"_\")[2])\n",
    "    \n",
    "    \n",
    "    loc_mask = df.fpa_identifier == fpa_identifier\n",
    "\n",
    "    rb_query = RbCircuitQuery(\"RB\", circuit_name, max_executions=45)\n",
    "    \n",
    "    source_timestamp_ee_even_df = rb_query.find_source_timestamp_ee(timestamp_fgc, system='EE_EVEN')\n",
    "    timestamp_ee_even = source_timestamp_ee_even_df.timestamp[0]\n",
    "    u_dump_res_even_df = rb_query.query_ee_u_dump_res_pm(timestamp_ee_even, timestamp_fgc, system='EE_EVEN', signal_names=['U_DUMP_RES'])\n",
    "\n",
    "    source_timestamp_ee_odd_df = rb_query.find_source_timestamp_ee(timestamp_fgc, system='EE_ODD')\n",
    "    timestamp_ee_odd = source_timestamp_ee_odd_df.timestamp[0]\n",
    "    u_dump_res_odd_df = rb_query.query_ee_u_dump_res_pm(timestamp_ee_odd, timestamp_fgc, system='EE_ODD', signal_names=['U_DUMP_RES'])\n",
    "\n",
    "    timestamp_pic = rb_query.find_timestamp_pic(timestamp_fgc, spark=spark)\n",
    "\n",
    "    source_timestamp_qds_df = rb_query.find_source_timestamp_qds(timestamp_fgc, duration=[(50, 's'), (500, 's')])\n",
    "    timestamp_iQps = source_timestamp_qds_df.timestamp[0]\n",
    "\n",
    "    # sometimes values are missing in the end\n",
    "    #ts_iQPS_PIC = 1e-6 * (source_timestamp_qds_df['timestamp'].values - min(timestamp_pic))\n",
    "    #df.loc[loc_mask, 'Delta_t(iQPS-PIC)'] = [ts_iQPS_PIC] #np.append(ts_iQPS_PIC, np.max(ts_iQPS_PIC)*np.ones(sum(loc_mask)-len(ts_iQPS_PIC)))\n",
    "\n",
    "    df.loc[loc_mask, 'Delta_t(EE_odd-PIC)'] = (timestamp_ee_odd - min(timestamp_pic)) / 1e6\n",
    "    df.loc[loc_mask, 'Delta_t(EE_even-PIC)'] = (timestamp_ee_even - min(timestamp_pic)) / 1e6\n",
    "    df.loc[loc_mask, 'U_EE_max_ODD'] = u_dump_res_odd_df.max()[0]\n",
    "    df.loc[loc_mask, 'U_EE_max_EVEN'] = u_dump_res_even_df.max()[0]\n",
    "    #except Exception as e:\n",
    "    #    print(e)\n",
    "    #    k+=1\n",
    "print(k)"
   ]
  },
  {
   "cell_type": "markdown",
   "id": "a10d105c",
   "metadata": {
    "pycharm": {
     "name": "#%% md\n"
    }
   },
   "source": [
    "# Add other features"
   ]
  },
  {
   "cell_type": "code",
   "execution_count": 5,
   "id": "24edd8f1",
   "metadata": {
    "pycharm": {
     "name": "#%%\n"
    }
   },
   "outputs": [],
   "source": [
    "df = pd.read_csv(\"../data/RB_snapshot_context.csv\")"
   ]
  },
  {
   "cell_type": "code",
   "execution_count": 12,
   "id": "9995f013",
   "metadata": {
    "pycharm": {
     "name": "#%%\n"
    }
   },
   "outputs": [],
   "source": [
    "df[\"date\"] = df[\"timestamp_fgc\"].apply(lambda x: Time.to_string(x))"
   ]
  },
  {
   "cell_type": "code",
   "execution_count": 13,
   "id": "f388a61e",
   "metadata": {
    "pycharm": {
     "name": "#%%\n"
    }
   },
   "outputs": [],
   "source": [
    "df.to_csv(\"../data/RB_snapshot_context.csv\")"
   ]
  },
  {
   "cell_type": "code",
   "execution_count": null,
   "id": "7ab7c0cc",
   "metadata": {
    "pycharm": {
     "name": "#%%\n"
    }
   },
   "outputs": [],
   "source": []
  }
 ],
 "metadata": {
  "kernelspec": {
   "display_name": "Python 3",
   "language": "python",
   "name": "python3"
  },
  "language_info": {
   "codemirror_mode": {
    "name": "ipython",
    "version": 3
   },
   "file_extension": ".py",
   "mimetype": "text/x-python",
   "name": "python",
   "nbconvert_exporter": "python",
   "pygments_lexer": "ipython3",
   "version": "3.8.6"
  },
  "sparkconnect": {
   "bundled_options": [
    "NXCALS",
    "SparkMetrics"
   ],
   "list_of_options": []
  }
 },
 "nbformat": 4,
 "nbformat_minor": 5
}