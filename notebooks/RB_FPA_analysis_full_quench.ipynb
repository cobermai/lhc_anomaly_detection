{
 "cells": [
  {
   "cell_type": "markdown",
   "id": "de62fb17",
   "metadata": {
    "pycharm": {
     "name": "#%% md\n"
    }
   },
   "source": [
    "# Import libraries"
   ]
  },
  {
   "cell_type": "code",
   "execution_count": 1,
   "id": "28e55775",
   "metadata": {
    "pycharm": {
     "name": "#%%\n"
    }
   },
   "outputs": [],
   "source": [
    "import sys\n",
    "from pathlib import Path\n",
    "sys.path.insert(0,'..')\n",
    "import glob\n",
    "#!pip install openpyxl"
   ]
  },
  {
   "cell_type": "code",
   "execution_count": 13,
   "id": "c7662299",
   "metadata": {
    "pycharm": {
     "name": "#%%\n"
    }
   },
   "outputs": [],
   "source": [
    "import os\n",
    "import sys\n",
    "import pandas as pd\n",
    "import numpy as np\n",
    "import pickle\n",
    "import matplotlib.pyplot as plt\n",
    "import matplotlib as mpl\n",
    "import h5py\n",
    "import re\n",
    "\n",
    "from functools import partial\n",
    "from multiprocessing import Pool\n",
    "\n",
    "from lhcsmapi.Time import Time\n",
    "from lhcsmapi.Timer import Timer\n",
    "from lhcsmapi.metadata.MappingMetadata import MappingMetadata\n",
    "from scipy import signal\n",
    "import xarray as xr\n",
    "\n",
    "from src.utils.utils import log_acquisition\n",
    "from src.utils.hdf_tools import acquisition_to_hdf5, load_from_hdf_with_regex\n",
    "from src.visualisation.sec_quench_visualisation import plot_wiggle_analysis\n",
    "from src.modeling.sec_quench import *\n",
    "from src.utils.dataset_utils import *\n",
    "from src.utils.utils import interp\n",
    "\n",
    "pd.set_option('display.max_rows', 200)\n",
    "import warnings\n",
    "warnings.filterwarnings('ignore')\n",
    "#%matplotlib widget\n",
    "#%matplotlib inline\n",
    "#%load_ext autoreload"
   ]
  },
  {
   "cell_type": "markdown",
   "id": "3d4f7d58",
   "metadata": {
    "pycharm": {
     "name": "#%% md\n"
    }
   },
   "source": [
    "# Define Paths"
   ]
  },
  {
   "cell_type": "code",
   "execution_count": 3,
   "id": "a7cf7322",
   "metadata": {
    "pycharm": {
     "name": "#%%\n"
    }
   },
   "outputs": [],
   "source": [
    "file_path  = Path('/eos/project/m/ml-for-alarm-system/private/RB_signals')\n",
    "data_path = file_path / '20220707_data'\n",
    "simulation_path = file_path / '20220707_simulation'"
   ]
  },
  {
   "cell_type": "markdown",
   "id": "05fd1b1e",
   "metadata": {
    "pycharm": {
     "name": "#%% md\n"
    }
   },
   "source": [
    "# Read the (clean) MP3 file"
   ]
  },
  {
   "cell_type": "code",
   "execution_count": 4,
   "id": "a399d8a9",
   "metadata": {
    "pycharm": {
     "name": "#%%\n"
    }
   },
   "outputs": [
    {
     "data": {
      "text/plain": [
       "3981"
      ]
     },
     "execution_count": 4,
     "metadata": {},
     "output_type": "execute_result"
    }
   ],
   "source": [
    "mp3_fpa_df = pd.read_csv(\"../data/RB_TC_extract_2022_07_07_processed_filled.csv\")\n",
    "len(mp3_fpa_df)"
   ]
  },
  {
   "cell_type": "markdown",
   "id": "cd937e9f",
   "metadata": {
    "pycharm": {
     "name": "#%% md\n"
    }
   },
   "source": [
    "# Select events to analyze"
   ]
  },
  {
   "cell_type": "code",
   "execution_count": 5,
   "id": "6524a86a",
   "metadata": {
    "pycharm": {
     "name": "#%%\n"
    }
   },
   "outputs": [
    {
     "name": "stdout",
     "output_type": "stream",
     "text": [
      "822 3981\n"
     ]
    }
   ],
   "source": [
    "mp3_fpa_df_unique = mp3_fpa_df.drop_duplicates(subset=['timestamp_fgc', 'Circuit Name'])\n",
    "lower_limit = Time.to_unix_timestamp('2014-01-01 00:00:00+01:00')\n",
    "mp3_fpa_df_period = mp3_fpa_df_unique[mp3_fpa_df_unique['timestamp_fgc'] >= lower_limit].reset_index(drop=True) \n",
    "\n",
    "mp3_fpa_df_period_all = mp3_fpa_df[mp3_fpa_df['timestamp_fgc'] >= lower_limit].reset_index(drop=True) \n",
    "print(len(mp3_fpa_df_period), len(mp3_fpa_df_period_all))"
   ]
  },
  {
   "cell_type": "code",
   "execution_count": 6,
   "id": "f573ded8",
   "metadata": {
    "pycharm": {
     "name": "#%%\n"
    }
   },
   "outputs": [
    {
     "data": {
      "text/plain": [
       "563"
      ]
     },
     "execution_count": 6,
     "metadata": {},
     "output_type": "execute_result"
    }
   ],
   "source": [
    "# Add information, whether download was successfull\n",
    "df_acquisition = pd.read_excel(\"../data/20220707_acquisition_summary.xlsx\")\n",
    "mp3_fpa_df_period_merged = mp3_fpa_df_period.merge(df_acquisition , left_on=['Circuit Name', 'timestamp_fgc'], right_on=['Circuit Name', 'timestamp_fgc'], how=\"left\")\n",
    "df_to_analyze = mp3_fpa_df_period_merged[mp3_fpa_df_period_merged['VoltageNQPS.*U_DIODE']==1]\n",
    "len(df_to_analyze)"
   ]
  },
  {
   "cell_type": "code",
   "execution_count": 7,
   "id": "21a8d4e5",
   "metadata": {
    "pycharm": {
     "name": "#%%\n"
    }
   },
   "outputs": [
    {
     "name": "stdout",
     "output_type": "stream",
     "text": [
      "Available events Circuit Name: 0\n",
      "Available events timestamp_fgc: 0\n",
      "Available events date_fgc: 0\n",
      "Available events I_MEAS: 896\n",
      "Available events VoltageNQPS.*U_DIODE: 629\n",
      "Available events VoltageNXCALS.*U_DIODE: 867\n",
      "Available events I_EARTH_PCNT: 895\n",
      "Available events IEARTH.I_EARTH: 629\n",
      "Available events U_QS0: 893\n",
      "Available events U_1: 893\n",
      "Available events U_2: 893\n",
      "Available events I_HDS: 896\n",
      "Available events U_HDS: 896\n",
      "Available events EEUDumpResPM: 896\n",
      "Available events simulation_data: 875\n",
      "Available events nominal_data: 863\n"
     ]
    }
   ],
   "source": [
    "for c in df_acquisition.columns:\n",
    "    available = len(df_acquisition[df_acquisition[c]==1])\n",
    "    print(f\"Available events {c}: {available}\")"
   ]
  },
  {
   "cell_type": "markdown",
   "id": "d38ea646",
   "metadata": {
    "pycharm": {
     "name": "#%% md\n"
    }
   },
   "source": [
    "# Analyze all events"
   ]
  },
  {
   "cell_type": "code",
   "execution_count": 8,
   "id": "eea8570d",
   "metadata": {
    "pycharm": {
     "name": "#%%\n"
    }
   },
   "outputs": [],
   "source": [
    "%matplotlib inline"
   ]
  },
  {
   "cell_type": "code",
   "execution_count": 21,
   "id": "7656b2df",
   "metadata": {
    "pycharm": {
     "name": "#%%\n"
    }
   },
   "outputs": [],
   "source": [
    "fpa_identifier = \"RB_RB.A45_1620109620660000000\" # \"RB_RB.A45_1620109620660000000\"  #\"RB_RB.A78_1617170255140000000\"      \n",
    "circuit_name = fpa_identifier.split(\"_\")[1]\n",
    "timestamp_fgc = int(fpa_identifier.split(\"_\")[2])\n",
    "\n",
    "mp3_fpa_df_subset = mp3_fpa_df[(mp3_fpa_df.timestamp_fgc == timestamp_fgc) & \n",
    "                               (mp3_fpa_df['Circuit Name'] == circuit_name)]\n",
    "all_quenched_magnets = mp3_fpa_df_subset.Position.values\n",
    "quench_times = mp3_fpa_df_subset[\"Delta_t(iQPS-PIC)\"].values /1e3\n",
    "        \n",
    "# load data pm\n",
    "data_dir = data_path / (fpa_identifier + \".hdf5\")\n",
    "data_pm = load_from_hdf_with_regex(file_path=data_dir, regex_list=['VoltageNQPS.*U_DIODE'])\n",
    "df_data_pm = u_diode_data_to_df(data_pm, len_data=len(data_pm[0]))\n",
    "\n",
    "# load data nxcals\n",
    "data_nxcals = load_from_hdf_with_regex(file_path=data_dir, regex_list=[\"VoltageNXCALS.*U_DIODE\"])\n",
    "df_data_nxcals = u_diode_data_to_df(data_nxcals, len_data=len(data_nxcals[0]))\n",
    "\n",
    "# load simulation\n",
    "simulation_dir = simulation_path / (fpa_identifier + \".hdf\")\n",
    "data_sim = load_from_hdf_with_regex(file_path=simulation_dir, regex_list=[\"0v_magf\"])\n",
    "df_sim = u_diode_simulation_to_df(data_sim, circuit_name=circuit_name)\n",
    "\n",
    "# save magnet order for later usage\n",
    "magnet_list = df_sim.columns\n",
    "\n",
    "# drop quenched magnet for alignment\n",
    "max_time = df_data_pm.index.max()#np.inf\n",
    "df_data_pm_noq = drop_quenched_magnets(df_data_pm, all_quenched_magnets, quench_times, max_time)\n",
    "#df_data_nxcals_noq = drop_quenched_magnets(df_data_nxcals, all_quenched_magnets, quench_times, max_time)\n",
    "df_sim_noq = drop_quenched_magnets(df_sim, all_quenched_magnets, quench_times, max_time)\n",
    "\n",
    "# sometimes only noise is stored, mean must be in window -1, -10\n",
    "mean_range = [-1.5, -10]\n",
    "drop_columns = df_data_pm_noq.columns[~(mean_range[0] > df_data_pm_noq.mean()) | \n",
    "                                      (mean_range[1] > df_data_pm_noq.mean())]\n",
    "df_data_pm_noq = df_data_pm_noq.drop(drop_columns, axis=1)\n",
    "df_data_nxcals = df_data_nxcals.drop(drop_columns, axis=1)\n",
    "\n",
    "# align with simulation data\n",
    "# align with energy extraction timestamp\n",
    "ee_margins = [-0.25, 0.25] # first ee must be within this interval\n",
    "t_first_extraction = get_u_diode_data_alignment_timestamps(df_sim_noq, ee_margins=ee_margins) # also integer from mp3 excel can be used\n",
    "df_data_pm_aligned = align_u_diode_data(df_data=df_data_pm_noq.copy(),\n",
    "                                     t_first_extraction=t_first_extraction,\n",
    "                                     ee_margins=ee_margins)\n",
    "\n",
    "# add quenched magnets\n",
    "dropped_quench = df_data_pm.loc[:,~df_data_pm.columns.isin(df_data_pm_noq.columns.values)].columns.values\n",
    "df_data_pm_aligned.loc[:,dropped_quench] = df_data_pm[dropped_quench]\n",
    "\n",
    "# cut out time frame to analyze, samples are used instead of intervall to ensure equal len in all events\n",
    "# 1763 samples is intervall [-0.25, 1.4]\n",
    "time_frame_pm = [-0.25, 1.4]\n",
    "n_samples_pm = 1763\n",
    "df_data_pm_cut = get_df_time_window(df=df_data_pm_aligned, timestamp=0, time_frame=time_frame_pm, n_samples=n_samples_pm)\n",
    "time_frame_nxcals = [time_frame_pm[1], np.inf]\n",
    "n_samples_nxcals = 4900\n",
    "df_data_nxcals_cut = get_df_time_window(df=df_data_nxcals, timestamp=0, time_frame=time_frame_nxcals, n_samples=n_samples_nxcals)\n",
    "\n",
    "df_data_cut = pd.concat([df_data_pm_cut, df_data_nxcals_cut.dropna()])\n",
    "\n",
    "# adjust simulation length to data\n",
    "df_sim_resampled = interp(df_sim, df_data_cut.index)\n",
    "\n",
    "\n",
    "# add dropped magnets again for continuity\n",
    "dropped_columns_data = magnet_list[~magnet_list.isin(df_data_cut.columns)]\n",
    "dropped_columns_simulation = magnet_list[~magnet_list.isin(df_sim_resampled.columns)]\n",
    "df_data_cut[dropped_columns_data] = np.nan\n",
    "df_sim_resampled[dropped_columns_simulation] = np.nan\n",
    "# bring into electrical order again\n",
    "df_data_cut = df_data_cut[magnet_list]\n",
    "df_sim_resampled = df_sim_resampled[magnet_list]\n"
   ]
  },
  {
   "cell_type": "code",
   "execution_count": 44,
   "id": "cd03709e",
   "metadata": {},
   "outputs": [
    {
     "data": {
      "image/png": "[encoded data removed]",
      "text/plain": [
       "<Figure size 504x360 with 2 Axes>"
      ]
     },
     "metadata": {
      "needs_background": "light"
     },
     "output_type": "display_data"
    }
   ],
   "source": [
    "fig, ax = plt.subplots(1,2, figsize=(7,5))\n",
    "cmap = mpl.cm.jet(np.linspace(0,0.95,154))\n",
    "\n",
    "for i, m in enumerate(magnet_list):\n",
    "    df_sim_resampled[m].plot(legend=False, ax=ax[0], c=cmap[i], lw=1.5)\n",
    "    df_sim_resampled[m].plot(legend=False, ax=ax[1], c=cmap[i], lw=1.5)\n",
    "\n",
    "ax[0].set_xlabel('Time / s')\n",
    "ax[0].set_ylabel('Voltage / V')\n",
    "\n",
    "ax[1].set_yticks([])\n",
    "ax[1].set_xlabel('Time / s')\n",
    "\n",
    "ax[0].set_xlim((-0.25,1.4))\n",
    "ax[1].set_xlim((1.4,300))\n",
    "\n",
    "ax[0].set_ylim((-16,7))\n",
    "ax[1].set_ylim((-16,7))\n",
    "\n",
    "ax[0].set_title('Simulated signal')\n",
    "ax[1].set_title('Simulated signal')\n",
    "\n",
    "\n",
    "plt.tight_layout()\n",
    "#plt.show()\n",
    "plt.savefig('udiode_sim.png', dpi=300)"
   ]
  },
  {
   "cell_type": "code",
   "execution_count": 42,
   "id": "e4acdf29",
   "metadata": {
    "pycharm": {
     "name": "#%%\n"
    }
   },
   "outputs": [
    {
     "data": {
      "image/png": "[encoded data removed]",
      "text/plain": [
       "<Figure size 504x360 with 2 Axes>"
      ]
     },
     "metadata": {
      "needs_background": "light"
     },
     "output_type": "display_data"
    }
   ],
   "source": [
    "fig, ax = plt.subplots(1,2, figsize=(7,5))\n",
    "cmap = mpl.cm.jet(np.linspace(0,0.95,154))\n",
    "\n",
    "for i, m in enumerate(magnet_list):\n",
    "    df_data_pm_cut[m].plot(legend=False, ax=ax[0], c=cmap[i])\n",
    "    df_data_nxcals_cut[m].plot(legend=False, ax=ax[1], c=cmap[i])\n",
    "\n",
    "ax[0].set_xlabel('Time / s')\n",
    "ax[0].set_ylabel('Voltage / V')\n",
    "\n",
    "ax[1].set_yticks([])\n",
    "ax[1].set_xlabel('Time / s')\n",
    "\n",
    "ax[0].set_xlim((-0.25,1.4))\n",
    "ax[1].set_xlim((1.4,300))\n",
    "\n",
    "ax[0].set_ylim((-16,7))\n",
    "ax[1].set_ylim((-16,7))\n",
    "\n",
    "ax[0].set_title('PM data: 1068 Hz sampling')\n",
    "ax[1].set_title('NXCALS data: 10 Hz sampling')\n",
    "\n",
    "\n",
    "plt.tight_layout()\n",
    "#plt.show()\n",
    "plt.savefig('udiode.png', dpi=300)"
   ]
  },
  {
   "cell_type": "code",
   "execution_count": null,
   "id": "b8ec4ccc",
   "metadata": {},
   "outputs": [],
   "source": []
  },
  {
   "cell_type": "code",
   "execution_count": null,
   "id": "a5eb0479",
   "metadata": {
    "pycharm": {
     "name": "#%%\n"
    },
    "scrolled": false
   },
   "outputs": [],
   "source": [
    "i =1\n",
    "for c in df_data_aligned.columns:\n",
    "    fig, ax = plt.subplots(figsize = (15,10))\n",
    "    df_data_cut[c].plot(ax=ax, label=\"data_aligned\")\n",
    "    #df_data_noq[c].plot(ax=ax, label=\"data\")\n",
    "    #df_data_aligned\n",
    "    df_sim_noq_resampled[c].plot(ax=ax, label=\"simulation\")\n",
    "    plt.title(f\"{i,c}\")\n",
    "    plt.legend()\n",
    "    \n",
    "    ee_odd = float(mp3_fpa_df_subset['Delta_t(EE_odd-PIC)'].values[0]) / 1000\n",
    "    ee_even = float(mp3_fpa_df_subset['Delta_t(EE_even-PIC)'].values[0]) / 1000\n",
    "    plt.axvline(x=ee_odd)\n",
    "    plt.axvline(x=ee_even)\n",
    "\n",
    "    i+=1\n",
    "    if i > 20:\n",
    "        break"
   ]
  },
  {
   "cell_type": "markdown",
   "id": "207984b9",
   "metadata": {
    "pycharm": {
     "name": "#%% md\n"
    }
   },
   "source": [
    "# Get all events"
   ]
  },
  {
   "cell_type": "code",
   "execution_count": 60,
   "id": "2f517057",
   "metadata": {
    "pycharm": {
     "name": "#%%\n"
    }
   },
   "outputs": [
    {
     "name": "stderr",
     "output_type": "stream",
     "text": [
      "/cvmfs/sft.cern.ch/lcg/views/LCG_100_nxcals/x86_64-centos7-gcc9-opt/lib/python3.8/site-packages/sklearn/linear_model/least_angle.py:30: DeprecationWarning: `np.float` is a deprecated alias for the builtin `float`. To silence this warning, use `float` by itself. Doing this will not modify any behavior and is safe. If you specifically wanted the numpy scalar type, use `np.float64` here.\n",
      "Deprecated in NumPy 1.20; for more details and guidance: https://numpy.org/devdocs/release/1.20.0-notes.html#deprecations\n",
      "  method='lar', copy_X=True, eps=np.finfo(np.float).eps,\n",
      "/cvmfs/sft.cern.ch/lcg/views/LCG_100_nxcals/x86_64-centos7-gcc9-opt/lib/python3.8/site-packages/sklearn/linear_model/least_angle.py:167: DeprecationWarning: `np.float` is a deprecated alias for the builtin `float`. To silence this warning, use `float` by itself. Doing this will not modify any behavior and is safe. If you specifically wanted the numpy scalar type, use `np.float64` here.\n",
      "Deprecated in NumPy 1.20; for more details and guidance: https://numpy.org/devdocs/release/1.20.0-notes.html#deprecations\n",
      "  method='lar', copy_X=True, eps=np.finfo(np.float).eps,\n",
      "/cvmfs/sft.cern.ch/lcg/views/LCG_100_nxcals/x86_64-centos7-gcc9-opt/lib/python3.8/site-packages/sklearn/linear_model/least_angle.py:284: DeprecationWarning: `np.float` is a deprecated alias for the builtin `float`. To silence this warning, use `float` by itself. Doing this will not modify any behavior and is safe. If you specifically wanted the numpy scalar type, use `np.float64` here.\n",
      "Deprecated in NumPy 1.20; for more details and guidance: https://numpy.org/devdocs/release/1.20.0-notes.html#deprecations\n",
      "  eps=np.finfo(np.float).eps, copy_Gram=True, verbose=0,\n",
      "/cvmfs/sft.cern.ch/lcg/views/LCG_100_nxcals/x86_64-centos7-gcc9-opt/lib/python3.8/site-packages/sklearn/linear_model/least_angle.py:862: DeprecationWarning: `np.float` is a deprecated alias for the builtin `float`. To silence this warning, use `float` by itself. Doing this will not modify any behavior and is safe. If you specifically wanted the numpy scalar type, use `np.float64` here.\n",
      "Deprecated in NumPy 1.20; for more details and guidance: https://numpy.org/devdocs/release/1.20.0-notes.html#deprecations\n",
      "  eps=np.finfo(np.float).eps, copy_X=True, fit_path=True,\n",
      "/cvmfs/sft.cern.ch/lcg/views/LCG_100_nxcals/x86_64-centos7-gcc9-opt/lib/python3.8/site-packages/sklearn/linear_model/least_angle.py:1101: DeprecationWarning: `np.float` is a deprecated alias for the builtin `float`. To silence this warning, use `float` by itself. Doing this will not modify any behavior and is safe. If you specifically wanted the numpy scalar type, use `np.float64` here.\n",
      "Deprecated in NumPy 1.20; for more details and guidance: https://numpy.org/devdocs/release/1.20.0-notes.html#deprecations\n",
      "  eps=np.finfo(np.float).eps, copy_X=True, fit_path=True,\n",
      "/cvmfs/sft.cern.ch/lcg/views/LCG_100_nxcals/x86_64-centos7-gcc9-opt/lib/python3.8/site-packages/sklearn/linear_model/least_angle.py:1127: DeprecationWarning: `np.float` is a deprecated alias for the builtin `float`. To silence this warning, use `float` by itself. Doing this will not modify any behavior and is safe. If you specifically wanted the numpy scalar type, use `np.float64` here.\n",
      "Deprecated in NumPy 1.20; for more details and guidance: https://numpy.org/devdocs/release/1.20.0-notes.html#deprecations\n",
      "  eps=np.finfo(np.float).eps, positive=False):\n",
      "/cvmfs/sft.cern.ch/lcg/views/LCG_100_nxcals/x86_64-centos7-gcc9-opt/lib/python3.8/site-packages/sklearn/linear_model/least_angle.py:1362: DeprecationWarning: `np.float` is a deprecated alias for the builtin `float`. To silence this warning, use `float` by itself. Doing this will not modify any behavior and is safe. If you specifically wanted the numpy scalar type, use `np.float64` here.\n",
      "Deprecated in NumPy 1.20; for more details and guidance: https://numpy.org/devdocs/release/1.20.0-notes.html#deprecations\n",
      "  max_n_alphas=1000, n_jobs=None, eps=np.finfo(np.float).eps,\n",
      "/cvmfs/sft.cern.ch/lcg/views/LCG_100_nxcals/x86_64-centos7-gcc9-opt/lib/python3.8/site-packages/sklearn/linear_model/least_angle.py:1602: DeprecationWarning: `np.float` is a deprecated alias for the builtin `float`. To silence this warning, use `float` by itself. Doing this will not modify any behavior and is safe. If you specifically wanted the numpy scalar type, use `np.float64` here.\n",
      "Deprecated in NumPy 1.20; for more details and guidance: https://numpy.org/devdocs/release/1.20.0-notes.html#deprecations\n",
      "  max_n_alphas=1000, n_jobs=None, eps=np.finfo(np.float).eps,\n",
      "/cvmfs/sft.cern.ch/lcg/views/LCG_100_nxcals/x86_64-centos7-gcc9-opt/lib/python3.8/site-packages/sklearn/linear_model/least_angle.py:1738: DeprecationWarning: `np.float` is a deprecated alias for the builtin `float`. To silence this warning, use `float` by itself. Doing this will not modify any behavior and is safe. If you specifically wanted the numpy scalar type, use `np.float64` here.\n",
      "Deprecated in NumPy 1.20; for more details and guidance: https://numpy.org/devdocs/release/1.20.0-notes.html#deprecations\n",
      "  eps=np.finfo(np.float).eps, copy_X=True, positive=False):\n",
      "/cvmfs/sft.cern.ch/lcg/views/LCG_100_nxcals/x86_64-centos7-gcc9-opt/lib/python3.8/site-packages/sklearn/decomposition/online_lda.py:29: DeprecationWarning: `np.float` is a deprecated alias for the builtin `float`. To silence this warning, use `float` by itself. Doing this will not modify any behavior and is safe. If you specifically wanted the numpy scalar type, use `np.float64` here.\n",
      "Deprecated in NumPy 1.20; for more details and guidance: https://numpy.org/devdocs/release/1.20.0-notes.html#deprecations\n",
      "  EPS = np.finfo(np.float).eps\n"
     ]
    }
   ],
   "source": [
    "import numpy as np\n",
    "from sklearn.manifold import TSNE\n",
    "from sklearn.preprocessing import StandardScaler\n",
    "from sklearn.cluster import KMeans\n",
    "\n",
    "\n",
    "from src.dataset import load_dataset\n",
    "from src.datasets.rb_fpa_prim_quench import RBFPAPrimQuench\n",
    "from src.datasets.rb_fpa_prim_quench_ee_plateau import RBFPAPrimQuenchEEPlateau\n",
    "from src.datasets.rb_fpa_sec_quench import RBFPASecQuench"
   ]
  },
  {
   "cell_type": "code",
   "execution_count": null,
   "id": "b382b34f",
   "metadata": {
    "pycharm": {
     "name": "#%%\n"
    },
    "scrolled": false
   },
   "outputs": [],
   "source": [
    "dataset_path = Path(\"/eos/project/m/ml-for-alarm-system/private/RB_signals/backup/20220707_full_dataset\")\n",
    "plot_dataset_path = Path(\"/eos/project/m/ml-for-alarm-system/private/RB_signals/backup/20220707_prim_ee_plateau_plots\")\n",
    "context_path = Path(\"../data/RB_TC_extract_2022_07_07_processed_filled.csv\")\n",
    "acquisition_summary_path = Path(\"../data/20220707_acquisition_summary.xlsx\")\n",
    "data_path = Path(\"/eos/project/m/ml-for-alarm-system/private/RB_signals/backup/20220707_data\")\n",
    "simulation_path = Path(\"/eos/project/m/ml-for-alarm-system/private/RB_signals/backup/20220707_simulation\")\n",
    "\n",
    "\n",
    "# load dataset\n",
    "dataset = load_dataset(creator=RBFPAPrimQuenchEEPlateau,\n",
    "                       dataset_path=dataset_path,\n",
    "                       context_path=context_path,\n",
    "                       acquisition_summary_path=acquisition_summary_path,\n",
    "                       data_path=data_path,\n",
    "                       simulation_path=simulation_path,\n",
    "                       plot_dataset_path=plot_dataset_path,\n",
    "                       generate_dataset=False)"
   ]
  },
  {
   "cell_type": "code",
   "execution_count": null,
   "id": "5f3f6224",
   "metadata": {
    "pycharm": {
     "name": "#%%\n"
    }
   },
   "outputs": [],
   "source": [
    "mp3_fpa_df_in_dataset = mp3_fpa_df_period[mp3_fpa_df_period.fpa_identifier.isin(dataset.event.values)]\n",
    "mp3_fpa_df_in_dataset[\"first_exrtraction\"] = [min(float(row['Delta_t(EE_odd-PIC)']) / 1000, float(row['Delta_t(EE_even-PIC)']) / 1000) for i, row in mp3_fpa_df_in_dataset.iterrows()]"
   ]
  },
  {
   "cell_type": "markdown",
   "id": "2c5e2369",
   "metadata": {
    "pycharm": {
     "name": "#%% md\n"
    }
   },
   "source": [
    "# Split dataset"
   ]
  },
  {
   "cell_type": "code",
   "execution_count": null,
   "id": "974561fb",
   "metadata": {
    "pycharm": {
     "name": "#%%\n"
    }
   },
   "outputs": [],
   "source": []
  }
 ],
 "metadata": {
  "kernelspec": {
   "display_name": "Python 3",
   "language": "python",
   "name": "python3"
  },
  "language_info": {
   "codemirror_mode": {
    "name": "ipython",
    "version": 3
   },
   "file_extension": ".py",
   "mimetype": "text/x-python",
   "name": "python",
   "nbconvert_exporter": "python",
   "pygments_lexer": "ipython3",
   "version": "3.8.6"
  },
  "sparkconnect": {
   "bundled_options": [
    "NXCALS"
   ],
   "list_of_options": []
  }
 },
 "nbformat": 4,
 "nbformat_minor": 5
}
