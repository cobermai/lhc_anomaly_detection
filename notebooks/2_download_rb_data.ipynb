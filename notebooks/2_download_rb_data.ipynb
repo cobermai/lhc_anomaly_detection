{
 "cells": [
  {
   "cell_type": "markdown",
   "id": "de62fb17",
   "metadata": {
    "pycharm": {
     "name": "#%% md\n"
    }
   },
   "source": [
    "# Import libraries"
   ]
  },
  {
   "cell_type": "code",
   "execution_count": 2,
   "id": "28e55775",
   "metadata": {
    "pycharm": {
     "name": "#%%\n"
    }
   },
   "outputs": [],
   "source": [
    "import sys\n",
    "from pathlib import Path\n",
    "sys.path.insert(0,'..')"
   ]
  },
  {
   "cell_type": "code",
   "execution_count": 13,
   "id": "c7662299",
   "metadata": {
    "pycharm": {
     "name": "#%%\n"
    }
   },
   "outputs": [],
   "source": [
    "from pathlib import Path\n",
    "\n",
    "import pandas as pd\n",
    "\n",
    "from src.acquisition import download_data\n",
    "from src.acquisitions.voltage_nqps import VoltageNQPS\n",
    "from src.utils.fgc_timestamp_utils import select_fgc_period\n",
    "from src.utils.hdf_tools import load_from_hdf_with_regex"
   ]
  },
  {
   "cell_type": "markdown",
   "id": "cd937e9f",
   "metadata": {
    "pycharm": {
     "name": "#%% md\n"
    }
   },
   "source": [
    "# Select events to download"
   ]
  },
  {
   "cell_type": "code",
   "execution_count": 5,
   "id": "1c09dc3e",
   "metadata": {},
   "outputs": [],
   "source": [
    "# get list of fpa_identifiers\n",
    "mp3_excel_path = Path(\"../data/processed/MP3_context/RB_TC_extract_2023_03_13_processed.csv\")\n",
    "mp3_fpa_df = pd.read_csv(mp3_excel_path)\n",
    "\n",
    "# secondary quenches have same timestamp as primary quenches\n",
    "mp3_fpa_df_unique = mp3_fpa_df.drop_duplicates(subset=['fpa_identifier']).dropna(subset=['fpa_identifier'])\n",
    "mp3_fpa_df_period = select_fgc_period(mp3_fpa_df_unique,\n",
    "                                      lower_threshold='2014-01-01 00:00:00+01:00',\n",
    "                                      upper_threshold='2024-01-01 00:00:00+01:00')"
   ]
  },
  {
   "cell_type": "markdown",
   "id": "7c306297",
   "metadata": {},
   "source": [
    "# Download data"
   ]
  },
  {
   "cell_type": "code",
   "execution_count": 10,
   "id": "9fcc283f",
   "metadata": {},
   "outputs": [
    {
     "name": "stdout",
     "output_type": "stream",
     "text": [
      "\tQuerying PM event timestamps for system: QPS, className: DQAMGNSRB_PMREL, source: * from 2022-11-13 18:24:24.140 to 2022-11-13 18:31:14.140\n"
     ]
    },
    {
     "name": "stderr",
     "output_type": "stream",
     "text": [
      "Some nQPS PM buffers missing. ['B11L5'] not found for RB.A45 within [(10, 's'), (400, 's')] around 1668360274140000000.\n"
     ]
    },
    {
     "data": {
      "text/plain": [
       "<Figure size 288x216 with 0 Axes>"
      ]
     },
     "metadata": {},
     "output_type": "display_data"
    }
   ],
   "source": [
    "output_dir = Path('/eos/project/m/ml-for-alarm-system/private/RB_signals/raw')\n",
    "signal_groups = [VoltageNQPS]  # select all signals to download from src/acquisition\n",
    "plot_regex = ['VoltageNQPS.*U_DIODE']  # Regex of signals can be found in src/acquisition/acquisition_example.png\n",
    "\n",
    "download_data(fpa_identifiers=mp3_fpa_df_period['fpa_identifier'],\n",
    "              signal_groups=signal_groups,\n",
    "              output_dir=output_dir,\n",
    "              plot_regex=plot_regex,\n",
    "              spark=None) #spark = spark for NXCals signals"
   ]
  },
  {
   "cell_type": "code",
   "execution_count": null,
   "id": "04f3e7a5",
   "metadata": {
    "pycharm": {
     "name": "#%%\n"
    }
   },
   "outputs": [],
   "source": []
  }
 ],
 "metadata": {
  "kernelspec": {
   "display_name": "Python 3",
   "language": "python",
   "name": "python3"
  },
  "language_info": {
   "codemirror_mode": {
    "name": "ipython",
    "version": 3
   },
   "file_extension": ".py",
   "mimetype": "text/x-python",
   "name": "python",
   "nbconvert_exporter": "python",
   "pygments_lexer": "ipython3",
   "version": "3.9.12"
  },
  "sparkconnect": {
   "bundled_options": [
    "NXCALS",
    "SparkMetrics"
   ],
   "list_of_options": []
  }
 },
 "nbformat": 4,
 "nbformat_minor": 5
}
