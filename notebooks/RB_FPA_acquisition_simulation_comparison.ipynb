{
 "cells": [
  {
   "cell_type": "markdown",
   "id": "de62fb17",
   "metadata": {},
   "source": [
    "# Import libraries"
   ]
  },
  {
   "cell_type": "code",
   "execution_count": 1,
   "id": "28e55775",
   "metadata": {},
   "outputs": [],
   "source": [
    "import sys\n",
    "from pathlib import Path\n",
    "sys.path.insert(0,'..')\n",
    "import glob\n",
    "#!pip install openpyxl"
   ]
  },
  {
   "cell_type": "code",
   "execution_count": 2,
   "id": "c7662299",
   "metadata": {},
   "outputs": [],
   "source": [
    "import os\n",
    "import sys\n",
    "import pandas as pd\n",
    "import numpy as np\n",
    "import pickle\n",
    "import matplotlib.pyplot as plt\n",
    "import h5py\n",
    "import re\n",
    "\n",
    "from functools import partial\n",
    "from multiprocessing import Pool\n",
    "\n",
    "from lhcsmapi.Time import Time\n",
    "from lhcsmapi.Timer import Timer\n",
    "from scipy import signal\n",
    "\n",
    "\n",
    "from src.utils.utils import log_acquisition\n",
    "from src.utils.hdf_tools import acquisition_to_hdf5, load_from_hdf_with_regex, data_list_to_df\n",
    "from src.visualisation.visualisation import plot_hdf\n",
    "from src.modeling.sec_quench import *\n",
    "\n",
    "pd.set_option('display.max_rows', 200)\n",
    "import warnings\n",
    "warnings.filterwarnings('ignore')\n"
   ]
  },
  {
   "cell_type": "code",
   "execution_count": 3,
   "id": "669e557c",
   "metadata": {},
   "outputs": [],
   "source": [
    "%matplotlib widget"
   ]
  },
  {
   "cell_type": "markdown",
   "id": "05fd1b1e",
   "metadata": {},
   "source": [
    "# Read the (clean) MP3 file"
   ]
  },
  {
   "cell_type": "code",
   "execution_count": 4,
   "id": "a399d8a9",
   "metadata": {},
   "outputs": [
    {
     "data": {
      "text/plain": [
       "4399"
      ]
     },
     "execution_count": 4,
     "metadata": {},
     "output_type": "execute_result"
    }
   ],
   "source": [
    "mp3_fpa_df = pd.read_csv(\"../data/RB_TC_extract_2021_11_22_processed_filled.csv\")\n",
    "len(mp3_fpa_df)"
   ]
  },
  {
   "cell_type": "markdown",
   "id": "cd937e9f",
   "metadata": {},
   "source": [
    "# Select events to download"
   ]
  },
  {
   "cell_type": "code",
   "execution_count": 5,
   "id": "be19fc57",
   "metadata": {},
   "outputs": [],
   "source": [
    "mp3_fpa_df_unique = mp3_fpa_df.drop_duplicates(subset=['timestamp_fgc', 'Circuit Name'])"
   ]
  },
  {
   "cell_type": "code",
   "execution_count": 6,
   "id": "6524a86a",
   "metadata": {},
   "outputs": [
    {
     "name": "stdout",
     "output_type": "stream",
     "text": [
      "828 3996\n"
     ]
    }
   ],
   "source": [
    "lower_limit = Time.to_unix_timestamp('2014-01-01 00:00:00+01:00')\n",
    "mp3_fpa_df_period = mp3_fpa_df_unique[mp3_fpa_df_unique['timestamp_fgc'] >= lower_limit].reset_index(drop=True) \n",
    "\n",
    "\n",
    "mp3_fpa_df_period_all = mp3_fpa_df[mp3_fpa_df['timestamp_fgc'] >= lower_limit].reset_index(drop=True) \n",
    "print(len(mp3_fpa_df_period), len(mp3_fpa_df_period_all))"
   ]
  },
  {
   "cell_type": "markdown",
   "id": "3d4f7d58",
   "metadata": {},
   "source": [
    "# Define Paths"
   ]
  },
  {
   "cell_type": "code",
   "execution_count": 7,
   "id": "a7cf7322",
   "metadata": {},
   "outputs": [],
   "source": [
    "file_path  = Path('/eos/project/m/ml-for-alarm-system/private/RB_signals')\n",
    "\n",
    "data_path = file_path / '20220707_data'\n",
    "simulation_path_old = file_path / 'archive/20220627_simulation'\n",
    "simulation_path = file_path / '20220707_simulation'\n",
    "plots_path = file_path / 'plots'"
   ]
  },
  {
   "cell_type": "code",
   "execution_count": 8,
   "id": "d2185d39",
   "metadata": {},
   "outputs": [],
   "source": [
    "row = {'circuit_type': 'RB',\n",
    "       'Circuit Name': 'RB.A78',\n",
    "       'timestamp_fgc': 1616962174400000000}\n",
    "\n",
    "quench_number = 2\n",
    "sec_quench_number = quench_number - 2\n",
    "\n",
    "fpa_identifier = f\"{row['circuit_type']}_{row['Circuit Name']}_{int(row['timestamp_fgc'])}\"\n",
    "data_dir = data_path / (fpa_identifier + \".hdf5\")\n",
    "\n",
    "mp3_fpa_df_subset = mp3_fpa_df[(mp3_fpa_df.timestamp_fgc == row['timestamp_fgc']) & (mp3_fpa_df['Circuit Name'] == row['Circuit Name'])]\n",
    "\n",
    "simulation_dir = simulation_path  / (fpa_identifier + \".hdf\")\n",
    "simulation_dir_old = simulation_path_old  / (fpa_identifier + \".hdf\")\n",
    "data_dir = data_path  / (fpa_identifier + \".hdf5\")"
   ]
  },
  {
   "cell_type": "markdown",
   "id": "70688c74",
   "metadata": {},
   "source": [
    "## Analyze one event"
   ]
  },
  {
   "cell_type": "code",
   "execution_count": 9,
   "id": "03c40955",
   "metadata": {
    "scrolled": false
   },
   "outputs": [
    {
     "data": {
      "application/vnd.jupyter.widget-view+json": {
       "model_id": "ccbfa3c30bfb471287f503bb25957b21",
       "version_major": 2,
       "version_minor": 0
      },
      "text/plain": [
       "Canvas(toolbar=Toolbar(toolitems=[('Home', 'Reset original view', 'home', 'home'), ('Back', 'Back to previous …"
      ]
     },
     "metadata": {},
     "output_type": "display_data"
    }
   ],
   "source": [
    "regex_list = [\"I_MEAS\",  \"EEUDumpResPM\", \"VoltageNXCALS.*U_DIODE\"]\n",
    "regex_list_sim = ['r1_warm', \"V\\(1\", \"0v_magf\"]\n",
    "regex_list_sim_old = ['r1_warm', \"V\\(1\", \"0v_mag\"]\n",
    "\n",
    "data_sim = load_from_hdf_with_regex(file_path=simulation_dir, regex_list=regex_list_sim)\n",
    "df_simulation_all = pd.concat(data_sim, axis=1) \n",
    "\n",
    "data_sim_old = load_from_hdf_with_regex(file_path=simulation_dir_old, regex_list=regex_list_sim_old)\n",
    "df_simulation_all_old = pd.concat(data_sim_old, axis=1) \n",
    "\n",
    "fig, ax = plt.subplots(3,1, figsize=(10,15))\n",
    "i=0\n",
    "for regex, regex_sim, regex_sim_old in zip(regex_list, regex_list_sim, regex_list_sim_old):\n",
    "    data = load_from_hdf_with_regex(data_dir, regex_list=[regex])\n",
    "    for df in data:\n",
    "        df.plot(ax=ax[i], legend=False, title=f\"{regex} data (blue), magf (orange), mag (green)\", c=\"blue\")\n",
    "        \n",
    "    df_simulation_all_old.filter(regex=regex_sim_old).plot(ax=ax[i], legend=False, c = \"green\")\n",
    "    \n",
    "    df_simulation_all.filter(regex=regex_sim).plot(ax=ax[i], legend=False, c = \"orange\")\n",
    "    \n",
    "    plt.setp(ax[i], xlim=ax[i].get_xlim(), ylim=ax[i].get_ylim())\n",
    "    i+=1\n",
    "    \n",
    "plt.tight_layout()"
   ]
  },
  {
   "cell_type": "code",
   "execution_count": null,
   "id": "e35c717d",
   "metadata": {},
   "outputs": [],
   "source": []
  },
  {
   "cell_type": "markdown",
   "id": "be976b4c",
   "metadata": {},
   "source": [
    "# Compare data and simulations"
   ]
  },
  {
   "cell_type": "code",
   "execution_count": 10,
   "id": "467d3d7f",
   "metadata": {},
   "outputs": [],
   "source": [
    "def load_data_simulation_comparison(regex_list, regex_list_sim, file_dir, simulation_dir, quenchtimes):  \n",
    "    data = load_from_hdf_with_regex(file_path=file_dir, regex_list=regex_list)\n",
    "    df_data = data_list_to_df(data)\n",
    "\n",
    "    data_sim = load_from_hdf_with_regex(file_path=simulation_dir, regex_list=regex_list_sim)\n",
    "    df_simulation = pd.concat(data_sim, axis=1) \n",
    "\n",
    "    cut_list = [get_df_time_window(df_data, timestamp) for timestamp in quenchtimes]\n",
    "    cut_list_sim = [get_df_time_window(df_simulation, timestamp) for timestamp in quenchtimes]\n",
    "    return cut_list, cut_list_sim\n",
    "    \n",
    "def plot_data_simulation_comparison(sec_quenches, sec_quenches_sim):\n",
    "    fig, ax = plt.subplots(len(sec_quenches), 2, figsize=(10,10))\n",
    "    i =0\n",
    "    for df, df_sim in zip(sec_quenches, sec_quenches_sim):\n",
    "        df.plot(legend=False, ax=ax[i,0])\n",
    "        ax[i,0].set_title(\"data\")\n",
    "        ax[i,0].set_xlabel(\"Time \\ s\")\n",
    "        ax[i,0].set_ylabel(\"Voltage \\ V\")\n",
    "\n",
    "        df_sim.plot(legend=False, ax=ax[i,1])\n",
    "        ax[i,1].set_title(\"simulations\")\n",
    "        ax[i,1].set_xlabel(\"Time \\ s\")\n",
    "        ax[i,1].set_ylabel(\"Voltage \\ V\")\n",
    "\n",
    "        #plt.setp(ax[i], ylim=ax[i,1].get_ylim())\n",
    "        i+=1\n",
    "    plt.tight_layout()"
   ]
  },
  {
   "cell_type": "code",
   "execution_count": 11,
   "id": "b01b6778",
   "metadata": {},
   "outputs": [],
   "source": [
    "file_dir = file_path / '20220707_data' / (fpa_identifier + \".hdf5\")\n",
    "simulation_dir = simulation_path  / (fpa_identifier + \".hdf\")"
   ]
  },
  {
   "cell_type": "markdown",
   "id": "138986c0",
   "metadata": {},
   "source": [
    "## I Meas"
   ]
  },
  {
   "cell_type": "code",
   "execution_count": 12,
   "id": "f81aab6f",
   "metadata": {},
   "outputs": [
    {
     "data": {
      "application/vnd.jupyter.widget-view+json": {
       "model_id": "daf58e92a74c4716b712207090946fa3",
       "version_major": 2,
       "version_minor": 0
      },
      "text/plain": [
       "Canvas(toolbar=Toolbar(toolitems=[('Home', 'Reset original view', 'home', 'home'), ('Back', 'Back to previous …"
      ]
     },
     "metadata": {},
     "output_type": "display_data"
    }
   ],
   "source": [
    "regex_list=[\"I_MEAS\"]#, \"EEUDumpResPM\"]\n",
    "regex_list_sim = ['r1_warm']#, \"RB_EE\"]\n",
    "\n",
    "quenchtimes=mp3_fpa_df_subset[\"Delta_t(iQPS-PIC)\"].values / 1e3\n",
    "cut_list, cut_list_sim = load_data_simulation_comparison(regex_list, regex_list_sim, file_dir, simulation_dir, quenchtimes)\n",
    "plot_data_simulation_comparison(cut_list, cut_list_sim)"
   ]
  },
  {
   "cell_type": "markdown",
   "id": "1364fbab",
   "metadata": {},
   "source": [
    "## U EE"
   ]
  },
  {
   "cell_type": "code",
   "execution_count": 13,
   "id": "5d149e03",
   "metadata": {},
   "outputs": [
    {
     "data": {
      "application/vnd.jupyter.widget-view+json": {
       "model_id": "bb43e9415d3f4af68d906c5bbd4a6481",
       "version_major": 2,
       "version_minor": 0
      },
      "text/plain": [
       "Canvas(toolbar=Toolbar(toolitems=[('Home', 'Reset original view', 'home', 'home'), ('Back', 'Back to previous …"
      ]
     },
     "metadata": {},
     "output_type": "display_data"
    }
   ],
   "source": [
    "regex_list=[\"EEUDumpResPM\"]\n",
    "regex_list_sim = [\"V\\(1\"]\n",
    "\n",
    "quenchtimes=mp3_fpa_df_subset[\"Delta_t(iQPS-PIC)\"].values / 1e3\n",
    "cut_list, cut_list_sim = load_data_simulation_comparison(regex_list, regex_list_sim, file_dir, simulation_dir, quenchtimes)\n",
    "plot_data_simulation_comparison(cut_list, cut_list_sim)"
   ]
  },
  {
   "cell_type": "markdown",
   "id": "9257de1b",
   "metadata": {},
   "source": [
    "## U_Diode: Quenched magnets are included"
   ]
  },
  {
   "cell_type": "code",
   "execution_count": 14,
   "id": "607764d6",
   "metadata": {},
   "outputs": [],
   "source": [
    "data = load_from_hdf_with_regex(file_path / '20220707_data' / (fpa_identifier + \".hdf5\"), regex_list=[\"VoltageNXCALS.*U_DIODE\"])\n",
    "df_data = data_list_to_df(data)\n",
    "\n",
    "sec_quenches = get_sec_quench_frame_exclude_quench(df_data=df_data, \n",
    "                                 all_quenched_magnets=mp3_fpa_df_subset.Position.values, \n",
    "                                 quench_times=mp3_fpa_df_subset[\"Delta_t(iQPS-PIC)\"].values /1e3, \n",
    "                                 time_frame=2)"
   ]
  },
  {
   "cell_type": "code",
   "execution_count": 15,
   "id": "5ee82e86",
   "metadata": {},
   "outputs": [],
   "source": [
    "sorted_columns = [f\"V(0v_mag{i})\"for i in range(1, len(df_simulation_all.filter(regex=\"0v_mag\").columns)+1)]\n",
    "df_simulation = df_simulation_all[sorted_columns]\n",
    "\n",
    "df_metadata = MappingMetadata.read_layout_details(\"RB\")\n",
    "df_metadata = df_metadata[df_metadata.Circuit ==row['Circuit Name']].sort_values(\"#Electric_circuit\")\n",
    "\n",
    "magnet_names = df_metadata.Magnet.apply(lambda x: x + \":U_DIODE_RB\" ).values\n",
    "df_simulation.columns = magnet_names\n",
    "\n",
    "sec_quenches_sim = get_sec_quench_frame_exclude_quench(df_data=df_simulation, \n",
    "                                 all_quenched_magnets=mp3_fpa_df_subset.Position.values, \n",
    "                                 quench_times=mp3_fpa_df_subset[\"Delta_t(iQPS-PIC)\"].values /1e3, \n",
    "                                 time_frame=2)"
   ]
  },
  {
   "cell_type": "code",
   "execution_count": 16,
   "id": "7d52bf7d",
   "metadata": {},
   "outputs": [
    {
     "data": {
      "application/vnd.jupyter.widget-view+json": {
       "model_id": "1f8852ec12854dcdb889d13cf8e8092c",
       "version_major": 2,
       "version_minor": 0
      },
      "text/plain": [
       "Canvas(toolbar=Toolbar(toolitems=[('Home', 'Reset original view', 'home', 'home'), ('Back', 'Back to previous …"
      ]
     },
     "metadata": {},
     "output_type": "display_data"
    }
   ],
   "source": [
    "plot_data_simulation_comparison(sec_quenches, sec_quenches_sim)"
   ]
  },
  {
   "cell_type": "markdown",
   "id": "ec667b56",
   "metadata": {},
   "source": [
    "# Analyze wiggle of one event"
   ]
  },
  {
   "cell_type": "code",
   "execution_count": 17,
   "id": "06d59ee7",
   "metadata": {},
   "outputs": [],
   "source": [
    "data = load_from_hdf_with_regex(file_path / '20220707_data' / (fpa_identifier + \".hdf5\"), regex_list=[\"VoltageNXCALS.*U_DIODE\"])\n",
    "df_data_nxcals = data_list_to_df(data)\n",
    "\n",
    "sec_quenches = get_sec_quench_frame_exclude_quench(df_data=df_data_nxcals, \n",
    "                                 all_quenched_magnets=mp3_fpa_df_subset.Position.values, \n",
    "                                 quench_times=mp3_fpa_df_subset[\"Delta_t(iQPS-PIC)\"].values /1e3, \n",
    "                                 time_frame=2)"
   ]
  },
  {
   "cell_type": "code",
   "execution_count": 18,
   "id": "ed52598c",
   "metadata": {},
   "outputs": [
    {
     "data": {
      "application/vnd.jupyter.widget-view+json": {
       "model_id": "4892f81838954a829bd8b43d387a09b2",
       "version_major": 2,
       "version_minor": 0
      },
      "text/plain": [
       "Canvas(toolbar=Toolbar(toolitems=[('Home', 'Reset original view', 'home', 'home'), ('Back', 'Back to previous …"
      ]
     },
     "metadata": {},
     "output_type": "display_data"
    },
    {
     "data": {
      "text/plain": [
       "<matplotlib.axes._subplots.AxesSubplot at 0x7fc2ff002d00>"
      ]
     },
     "execution_count": 18,
     "metadata": {},
     "output_type": "execute_result"
    }
   ],
   "source": [
    "df_quench_frame = sec_quenches[sec_quench_number]\n",
    "\n",
    "df_quench_frame.plot(legend=False)"
   ]
  },
  {
   "cell_type": "code",
   "execution_count": 21,
   "id": "f271cfa2",
   "metadata": {},
   "outputs": [
    {
     "data": {
      "application/vnd.jupyter.widget-view+json": {
       "model_id": "125688c042024d438c9467cb7e280a0b",
       "version_major": 2,
       "version_minor": 0
      },
      "text/plain": [
       "Canvas(toolbar=Toolbar(toolitems=[('Home', 'Reset original view', 'home', 'home'), ('Back', 'Back to previous …"
      ]
     },
     "metadata": {},
     "output_type": "display_data"
    },
    {
     "data": {
      "text/plain": [
       "Text(0.5, 1.0, 'max: 0.330@0.60 min:0.151@0.50 \\n wiggle_area: 21 \\n box: 2.04 exp: 2.43 exp: 2.25')"
      ]
     },
     "execution_count": 21,
     "metadata": {},
     "output_type": "execute_result"
    }
   ],
   "source": [
    "df_std = get_std_of_diff(df=df_quench_frame)\n",
    "df_std_meta = sort_by_metadata(\n",
    "    df=df_std, \n",
    "    quenched_magnet=mp3_fpa_df_subset.Position.values[sec_quench_number+1],\n",
    "    circuit=row[\"Circuit Name\"],\n",
    "    by=\"#Electric_EE\")\n",
    "\n",
    "dstd_score = get_dstd_score(df_std_meta, window_len=15)\n",
    "dstd_score_exp = get_dstd_score(df_std_meta, window_len=15, window_function=signal.windows.exponential, tau=2)\n",
    "dstd_score_tuk = get_dstd_score(df_std_meta, window_len=15, window_function=signal.windows.tukey)\n",
    "\n",
    "idx_0 = df_quench_frame.index[0]\n",
    "idx_min = df_quench_frame.min(axis=1).idxmin()\n",
    "idx_max = df_quench_frame.max(axis=1).idxmax()\n",
    "min_time = idx_min - idx_0\n",
    "max_time = idx_max - idx_0\n",
    "min_amplitude = df_quench_frame.loc[idx_min].mean() -df_quench_frame.loc[idx_min].min() \n",
    "max_amplitude = df_quench_frame.loc[idx_max].max() - df_quench_frame.loc[idx_max].mean()\n",
    "\n",
    "wiggle_area = calc_wiggle_area(df_std_meta)\n",
    "\n",
    "df_std_meta[\"dstd_medfilt\"] = df_std_meta.dstd.rolling(3).median()\n",
    "df_std_meta.plot(x =\"distance_to_quench\", y=[\"dstd\"])\n",
    "plt.title(f\"max: {max_amplitude:.3f}@{max_time:.2f} min:{min_amplitude:.3f}@{min_time:.2f} \\n wiggle_area: {wiggle_area} \\n box: {dstd_score:.2f} exp: {dstd_score_exp:.2f} exp: {dstd_score_tuk:.2f}\")"
   ]
  },
  {
   "cell_type": "code",
   "execution_count": null,
   "id": "862f1a97",
   "metadata": {},
   "outputs": [],
   "source": []
  }
 ],
 "metadata": {
  "kernelspec": {
   "display_name": "Python 3",
   "language": "python",
   "name": "python3"
  },
  "language_info": {
   "codemirror_mode": {
    "name": "ipython",
    "version": 3
   },
   "file_extension": ".py",
   "mimetype": "text/x-python",
   "name": "python",
   "nbconvert_exporter": "python",
   "pygments_lexer": "ipython3",
   "version": "3.8.6"
  },
  "sparkconnect": {
   "bundled_options": [
    "NXCALS"
   ],
   "list_of_options": []
  }
 },
 "nbformat": 4,
 "nbformat_minor": 5
}
