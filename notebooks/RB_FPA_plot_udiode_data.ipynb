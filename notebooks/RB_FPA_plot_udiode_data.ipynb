{
 "cells": [
  {
   "cell_type": "markdown",
   "id": "e495c518",
   "metadata": {},
   "source": [
    "# Import libraries"
   ]
  },
  {
   "cell_type": "code",
   "execution_count": 1,
   "id": "184b54c5",
   "metadata": {},
   "outputs": [],
   "source": [
    "import sys\n",
    "from pathlib import Path\n",
    "sys.path.insert(0,'..')\n",
    "import glob\n",
    "#!pip install openpyxl"
   ]
  },
  {
   "cell_type": "code",
   "execution_count": 2,
   "id": "2f85e3a5",
   "metadata": {},
   "outputs": [
    {
     "name": "stderr",
     "output_type": "stream",
     "text": [
      "`np.float` is a deprecated alias for the builtin `float`. To silence this warning, use `float` by itself. Doing this will not modify any behavior and is safe. If you specifically wanted the numpy scalar type, use `np.float64` here.\n",
      "Deprecated in NumPy 1.20; for more details and guidance: https://numpy.org/devdocs/release/1.20.0-notes.html#deprecations\n",
      "`np.float` is a deprecated alias for the builtin `float`. To silence this warning, use `float` by itself. Doing this will not modify any behavior and is safe. If you specifically wanted the numpy scalar type, use `np.float64` here.\n",
      "Deprecated in NumPy 1.20; for more details and guidance: https://numpy.org/devdocs/release/1.20.0-notes.html#deprecations\n",
      "`np.float` is a deprecated alias for the builtin `float`. To silence this warning, use `float` by itself. Doing this will not modify any behavior and is safe. If you specifically wanted the numpy scalar type, use `np.float64` here.\n",
      "Deprecated in NumPy 1.20; for more details and guidance: https://numpy.org/devdocs/release/1.20.0-notes.html#deprecations\n",
      "`np.float` is a deprecated alias for the builtin `float`. To silence this warning, use `float` by itself. Doing this will not modify any behavior and is safe. If you specifically wanted the numpy scalar type, use `np.float64` here.\n",
      "Deprecated in NumPy 1.20; for more details and guidance: https://numpy.org/devdocs/release/1.20.0-notes.html#deprecations\n",
      "`np.float` is a deprecated alias for the builtin `float`. To silence this warning, use `float` by itself. Doing this will not modify any behavior and is safe. If you specifically wanted the numpy scalar type, use `np.float64` here.\n",
      "Deprecated in NumPy 1.20; for more details and guidance: https://numpy.org/devdocs/release/1.20.0-notes.html#deprecations\n",
      "`np.float` is a deprecated alias for the builtin `float`. To silence this warning, use `float` by itself. Doing this will not modify any behavior and is safe. If you specifically wanted the numpy scalar type, use `np.float64` here.\n",
      "Deprecated in NumPy 1.20; for more details and guidance: https://numpy.org/devdocs/release/1.20.0-notes.html#deprecations\n",
      "`np.float` is a deprecated alias for the builtin `float`. To silence this warning, use `float` by itself. Doing this will not modify any behavior and is safe. If you specifically wanted the numpy scalar type, use `np.float64` here.\n",
      "Deprecated in NumPy 1.20; for more details and guidance: https://numpy.org/devdocs/release/1.20.0-notes.html#deprecations\n",
      "`np.float` is a deprecated alias for the builtin `float`. To silence this warning, use `float` by itself. Doing this will not modify any behavior and is safe. If you specifically wanted the numpy scalar type, use `np.float64` here.\n",
      "Deprecated in NumPy 1.20; for more details and guidance: https://numpy.org/devdocs/release/1.20.0-notes.html#deprecations\n",
      "`np.float` is a deprecated alias for the builtin `float`. To silence this warning, use `float` by itself. Doing this will not modify any behavior and is safe. If you specifically wanted the numpy scalar type, use `np.float64` here.\n",
      "Deprecated in NumPy 1.20; for more details and guidance: https://numpy.org/devdocs/release/1.20.0-notes.html#deprecations\n"
     ]
    }
   ],
   "source": [
    "import os\n",
    "import sys\n",
    "import pandas as pd\n",
    "import numpy as np\n",
    "import pickle\n",
    "import matplotlib.pyplot as plt\n",
    "import h5py\n",
    "import re\n",
    "\n",
    "from functools import partial\n",
    "from multiprocessing import Pool\n",
    "\n",
    "from lhcsmapi.Time import Time\n",
    "from lhcsmapi.Timer import Timer\n",
    "from scipy import signal\n",
    "from lhcsmapi.Time import Time\n",
    "from lhcsmapi.metadata import signal_metadata\n",
    "from lhcsmapi.pyedsl.dbsignal.post_mortem.PmDbRequest import PmDbRequest\n",
    "from lhcsmapi.analysis.RbCircuitQuery import RbCircuitQuery\n",
    "\n",
    "from src.utils.utils import log_acquisition\n",
    "from src.utils.hdf_tools import acquisition_to_hdf5, load_from_hdf_with_regex, load_u_diode_nxcals\n",
    "from src.modeling.sec_quench import *\n",
    "\n",
    "pd.set_option('display.max_rows', 200)\n",
    "import warnings\n",
    "warnings.filterwarnings('ignore')"
   ]
  },
  {
   "cell_type": "markdown",
   "id": "7932fda0",
   "metadata": {},
   "source": [
    "# Read the (clean) MP3 file"
   ]
  },
  {
   "cell_type": "code",
   "execution_count": 3,
   "id": "07057acc",
   "metadata": {},
   "outputs": [],
   "source": [
    "mp3_fpa_df = pd.read_csv(\"../data/RB_TC_extract_2021_11_22_processed_filled.csv\")\n",
    "mp3_fpa_df_unique = mp3_fpa_df.drop_duplicates(subset=['timestamp_fgc', 'Circuit Name'])\n",
    "\n",
    "# Time.to_string(1514761200000000000), Time.to_unix_timestamp('2018-01-01 00:00:00+01:00')\n",
    "lower_limit = Time.to_unix_timestamp('2014-01-01 00:00:00+01:00')\n",
    "mp3_fpa_df_period = mp3_fpa_df_unique[mp3_fpa_df_unique['timestamp_fgc'] >= lower_limit].reset_index(drop=True) "
   ]
  },
  {
   "cell_type": "code",
   "execution_count": null,
   "id": "f95bedb0",
   "metadata": {},
   "outputs": [],
   "source": []
  },
  {
   "cell_type": "markdown",
   "id": "3061a6d1",
   "metadata": {},
   "source": [
    "# Plot Udiode"
   ]
  },
  {
   "cell_type": "code",
   "execution_count": 4,
   "id": "6c7d27e4",
   "metadata": {},
   "outputs": [],
   "source": [
    "file_path  = Path('/eos/project/m/ml-for-alarm-system/private/RB_signals')\n",
    "\n",
    "data_path = file_path / 'data'\n",
    "simulation_path = file_path / 'PSPICE'\n",
    "plots_path = file_path / 'plots_u_diode'"
   ]
  },
  {
   "cell_type": "code",
   "execution_count": 7,
   "id": "33c2c686",
   "metadata": {},
   "outputs": [
    {
     "data": {
      "text/html": [
       "<div>\n",
       "<style scoped>\n",
       "    .dataframe tbody tr th:only-of-type {\n",
       "        vertical-align: middle;\n",
       "    }\n",
       "\n",
       "    .dataframe tbody tr th {\n",
       "        vertical-align: top;\n",
       "    }\n",
       "\n",
       "    .dataframe thead th {\n",
       "        text-align: right;\n",
       "    }\n",
       "</style>\n",
       "<table border=\"1\" class=\"dataframe\">\n",
       "  <thead>\n",
       "    <tr style=\"text-align: right;\">\n",
       "      <th></th>\n",
       "      <th>Unnamed: 0</th>\n",
       "      <th>Unnamed: 0.1</th>\n",
       "      <th>Circuit Name</th>\n",
       "      <th>Circuit Family</th>\n",
       "      <th>Period</th>\n",
       "      <th>Date (FGC)</th>\n",
       "      <th>Time (FGC)</th>\n",
       "      <th>FPA Reason</th>\n",
       "      <th>Timestamp_PIC</th>\n",
       "      <th>Delta_t(FGC-PIC)</th>\n",
       "      <th>...</th>\n",
       "      <th>I_Q_SM18</th>\n",
       "      <th>dI_Q_Acc</th>\n",
       "      <th>dI_Q_LHC</th>\n",
       "      <th>Comment</th>\n",
       "      <th>Analysis performed by</th>\n",
       "      <th>lhcsmapi version</th>\n",
       "      <th>lhcsm notebook version</th>\n",
       "      <th>Unnamed: 46</th>\n",
       "      <th>Unnamed: 47</th>\n",
       "      <th>timestamp_fgc</th>\n",
       "    </tr>\n",
       "  </thead>\n",
       "  <tbody>\n",
       "    <tr>\n",
       "      <th>60</th>\n",
       "      <td>60</td>\n",
       "      <td>62</td>\n",
       "      <td>RB.A12</td>\n",
       "      <td>RB</td>\n",
       "      <td>Operation 2016</td>\n",
       "      <td>2016-06-10 00:00:00</td>\n",
       "      <td>19:13:05</td>\n",
       "      <td>Unknown</td>\n",
       "      <td>NaN</td>\n",
       "      <td>NaN</td>\n",
       "      <td>...</td>\n",
       "      <td>12360</td>\n",
       "      <td>-</td>\n",
       "      <td>NaN</td>\n",
       "      <td>https://issues.cern.ch/browse/TEMPECOMS-592</td>\n",
       "      <td>NaN</td>\n",
       "      <td>NaN</td>\n",
       "      <td>NaN</td>\n",
       "      <td>NaN</td>\n",
       "      <td>NaN</td>\n",
       "      <td>1.465579e+18</td>\n",
       "    </tr>\n",
       "  </tbody>\n",
       "</table>\n",
       "<p>1 rows × 51 columns</p>\n",
       "</div>"
      ],
      "text/plain": [
       "    Unnamed: 0  Unnamed: 0.1 Circuit Name Circuit Family          Period  \\\n",
       "60          60            62       RB.A12             RB  Operation 2016   \n",
       "\n",
       "             Date (FGC) Time (FGC) FPA Reason Timestamp_PIC Delta_t(FGC-PIC)  \\\n",
       "60  2016-06-10 00:00:00   19:13:05    Unknown           NaN              NaN   \n",
       "\n",
       "    ...  I_Q_SM18 dI_Q_Acc  dI_Q_LHC  \\\n",
       "60  ...     12360        -       NaN   \n",
       "\n",
       "                                        Comment  Analysis performed by  \\\n",
       "60  https://issues.cern.ch/browse/TEMPECOMS-592                    NaN   \n",
       "\n",
       "    lhcsmapi version  lhcsm notebook version Unnamed: 46 Unnamed: 47  \\\n",
       "60               NaN                     NaN         NaN         NaN   \n",
       "\n",
       "    timestamp_fgc  \n",
       "60   1.465579e+18  \n",
       "\n",
       "[1 rows x 51 columns]"
      ]
     },
     "execution_count": 7,
     "metadata": {},
     "output_type": "execute_result"
    }
   ],
   "source": [
    "mp3_fpa_df[mp3_fpa_df.timestamp_fgc==1465578785320000000]"
   ]
  },
  {
   "cell_type": "code",
   "execution_count": 10,
   "id": "9026df45",
   "metadata": {},
   "outputs": [
    {
     "data": {
      "text/html": [
       "<div>\n",
       "<style scoped>\n",
       "    .dataframe tbody tr th:only-of-type {\n",
       "        vertical-align: middle;\n",
       "    }\n",
       "\n",
       "    .dataframe tbody tr th {\n",
       "        vertical-align: top;\n",
       "    }\n",
       "\n",
       "    .dataframe thead th {\n",
       "        text-align: right;\n",
       "    }\n",
       "</style>\n",
       "<table border=\"1\" class=\"dataframe\">\n",
       "  <thead>\n",
       "    <tr style=\"text-align: right;\">\n",
       "      <th></th>\n",
       "      <th>Unnamed: 0</th>\n",
       "      <th>Unnamed: 0.1</th>\n",
       "      <th>Circuit Name</th>\n",
       "      <th>Circuit Family</th>\n",
       "      <th>Period</th>\n",
       "      <th>Date (FGC)</th>\n",
       "      <th>Time (FGC)</th>\n",
       "      <th>FPA Reason</th>\n",
       "      <th>Timestamp_PIC</th>\n",
       "      <th>Delta_t(FGC-PIC)</th>\n",
       "      <th>...</th>\n",
       "      <th>I_Q_SM18</th>\n",
       "      <th>dI_Q_Acc</th>\n",
       "      <th>dI_Q_LHC</th>\n",
       "      <th>Comment</th>\n",
       "      <th>Analysis performed by</th>\n",
       "      <th>lhcsmapi version</th>\n",
       "      <th>lhcsm notebook version</th>\n",
       "      <th>Unnamed: 46</th>\n",
       "      <th>Unnamed: 47</th>\n",
       "      <th>timestamp_fgc</th>\n",
       "    </tr>\n",
       "  </thead>\n",
       "  <tbody>\n",
       "  </tbody>\n",
       "</table>\n",
       "<p>0 rows × 51 columns</p>\n",
       "</div>"
      ],
      "text/plain": [
       "Empty DataFrame\n",
       "Columns: [Unnamed: 0, Unnamed: 0.1, Circuit Name, Circuit Family, Period, Date (FGC), Time (FGC), FPA Reason, Timestamp_PIC, Delta_t(FGC-PIC), Delta_t(EE_even-PIC), Delta_t(EE_odd-PIC), Ramp rate, Plateau duration, I_Q_circ, MIITS_circ, I_Earth_max, EE analysis, V feeler analysis, U_EE_max_ODD, U_EE_max_EVEN, Position, I_Q_M, Nr in Q event, Delta_t(iQPS-PIC), nQPS crate name, Delta_t(nQPS-PIC), Type of Quench, Quench origin, Quench count, QDS trigger origin, dU_iQPS/dt, V_symm_max, dV_symm/dt, R_DL_max, I at R_DL_max, QH analysis, Short magnet ID, Manufacturer, Inner cable type, Outer cable type, I_Q_SM18, dI_Q_Acc, dI_Q_LHC, Comment, Analysis performed by, lhcsmapi version, lhcsm notebook version, Unnamed: 46, Unnamed: 47, timestamp_fgc]\n",
       "Index: []\n",
       "\n",
       "[0 rows x 51 columns]"
      ]
     },
     "execution_count": 10,
     "metadata": {},
     "output_type": "execute_result"
    }
   ],
   "source": [
    "mp3_fpa_df_period[mp3_fpa_df_period[\"Date (FGC)\"]==\"2016-03-25 00:00:00\"]"
   ]
  },
  {
   "cell_type": "code",
   "execution_count": 8,
   "id": "29b7ba9b",
   "metadata": {},
   "outputs": [
    {
     "data": {
      "text/plain": [
       "Text(0, 0.5, 'Voltage \\\\ V')"
      ]
     },
     "execution_count": 8,
     "metadata": {},
     "output_type": "execute_result"
    },
    {
     "data": {
      "image/png": "[encoded data removed]",
      "text/plain": [
       "<Figure size 504x288 with 1 Axes>"
      ]
     },
     "metadata": {
      "needs_background": "light"
     },
     "output_type": "display_data"
    }
   ],
   "source": [
    "fpa_identifier = f\"RB_RB.A12_{1465578785320000000}\"\n",
    "\n",
    "fig_dir = str(plots_path / (fpa_identifier+\".png\"))\n",
    "data_dir = data_path / (fpa_identifier + \".hdf5\")\n",
    "\n",
    "df_subset = mp3_fpa_df[(mp3_fpa_df.timestamp_fgc == int(row['timestamp_fgc'])) & (mp3_fpa_df[\"Circuit Name\"] == row['Circuit Name'])]\n",
    "\n",
    "df_data_nxcals = load_u_diode_nxcals(data_dir)\n",
    "fig, ax = plt.subplots(figsize=(7,4))\n",
    "quenc_times = df_subset['Delta_t(iQPS-PIC)'].values\n",
    "for quenc_time in quenc_times:\n",
    "    ax.axvline(quenc_time/1e3, color='b', linestyle='--', label=\"time of next quench\")\n",
    "df_data_nxcals.plot(legend=False, ax = ax)\n",
    "\n",
    "ax.set_xlabel(\"Time \\ s\")\n",
    "ax.set_ylabel(\"Voltage \\ V\")"
   ]
  },
  {
   "cell_type": "code",
   "execution_count": 6,
   "id": "dd4e44ce",
   "metadata": {
    "scrolled": true
   },
   "outputs": [
    {
     "name": "stdout",
     "output_type": "stream",
     "text": [
      "1/828 plotted\n",
      "2/828 plotted\n",
      "3/828 plotted\n",
      "4/828 plotted\n",
      "5/828 plotted\n",
      "6/828 plotted\n",
      "7/828 plotted\n",
      "8/828 plotted\n",
      "9/828 plotted\n",
      "10/828 plotted\n",
      "11/828 plotted\n",
      "12/828 plotted\n",
      "13/828 plotted\n",
      "14/828 plotted\n",
      "15/828 plotted\n",
      "16/828 plotted\n",
      "17/828 plotted\n",
      "18/828 plotted\n",
      "19/828 plotted\n",
      "20/828 plotted\n",
      "21/828 plotted\n",
      "22/828 plotted\n",
      "23/828 plotted\n",
      "24/828 plotted\n",
      "25/828 plotted\n",
      "26/828 plotted\n",
      "27/828 plotted\n",
      "28/828 plotted\n",
      "29/828 plotted\n",
      "30/828 plotted\n",
      "31/828 plotted\n",
      "32/828 plotted\n",
      "33/828 plotted\n",
      "34/828 plotted\n",
      "35/828 plotted\n",
      "36/828 plotted\n",
      "37/828 plotted\n",
      "38/828 plotted\n",
      "39/828 plotted\n",
      "40/828 plotted\n",
      "41/828 plotted\n",
      "42/828 plotted\n",
      "43/828 plotted\n",
      "44/828 plotted\n",
      "45/828 plotted\n",
      "46/828 plotted\n",
      "47/828 plotted\n",
      "48/828 plotted\n",
      "49/828 plotted\n",
      "50/828 plotted\n",
      "51/828 plotted\n",
      "52/828 plotted\n",
      "53/828 plotted\n",
      "54/828 plotted\n",
      "55/828 plotted\n",
      "56/828 plotted\n",
      "57/828 plotted\n",
      "58/828 plotted\n",
      "59/828 plotted\n",
      "60/828 plotted\n",
      "61/828 plotted\n",
      "62/828 plotted\n",
      "63/828 plotted\n",
      "64/828 plotted\n",
      "65/828 plotted\n",
      "66/828 plotted\n",
      "67/828 plotted\n",
      "68/828 plotted\n",
      "69/828 plotted\n",
      "70/828 plotted\n",
      "71/828 plotted\n",
      "72/828 plotted\n",
      "73/828 plotted\n",
      "74/828 plotted\n",
      "75/828 plotted\n",
      "76/828 plotted\n",
      "77/828 plotted\n",
      "78/828 plotted\n",
      "79/828 plotted\n",
      "80/828 plotted\n",
      "81/828 plotted\n",
      "82/828 plotted\n",
      "83/828 plotted\n",
      "84/828 plotted\n",
      "85/828 plotted\n",
      "86/828 plotted\n",
      "87/828 plotted\n",
      "88/828 plotted\n",
      "89/828 plotted\n",
      "90/828 plotted\n",
      "91/828 plotted\n",
      "92/828 plotted\n",
      "93/828 plotted\n",
      "94/828 plotted\n",
      "95/828 plotted\n",
      "96/828 plotted\n",
      "97/828 plotted\n",
      "98/828 plotted\n",
      "99/828 plotted\n",
      "100/828 plotted\n",
      "101/828 plotted\n",
      "102/828 plotted\n",
      "103/828 plotted\n",
      "104/828 plotted\n",
      "105/828 plotted\n",
      "106/828 plotted\n",
      "107/828 plotted\n",
      "108/828 plotted\n",
      "109/828 plotted\n",
      "110/828 plotted\n",
      "111/828 plotted\n",
      "112/828 plotted\n",
      "113/828 plotted\n",
      "114/828 plotted\n",
      "115/828 plotted\n",
      "116/828 plotted\n",
      "117/828 plotted\n",
      "118/828 plotted\n",
      "119/828 plotted\n",
      "120/828 plotted\n",
      "121/828 plotted\n",
      "122/828 plotted\n",
      "123/828 plotted\n",
      "124/828 plotted\n",
      "125/828 plotted\n",
      "126/828 plotted\n",
      "127/828 plotted\n",
      "128/828 plotted\n",
      "129/828 plotted\n",
      "130/828 plotted\n",
      "131/828 plotted\n",
      "132/828 plotted\n",
      "133/828 plotted\n",
      "134/828 plotted\n",
      "135/828 plotted\n",
      "136/828 plotted\n",
      "137/828 plotted\n",
      "138/828 plotted\n",
      "139/828 plotted\n",
      "140/828 plotted\n",
      "141/828 plotted\n",
      "142/828 plotted\n",
      "143/828 plotted\n",
      "144/828 plotted\n",
      "145/828 plotted\n",
      "146/828 plotted\n",
      "147/828 plotted\n",
      "148/828 plotted\n",
      "149/828 plotted\n",
      "150/828 plotted\n",
      "151/828 plotted\n",
      "152/828 plotted\n",
      "153/828 plotted\n",
      "154/828 plotted\n",
      "155/828 plotted\n",
      "156/828 plotted\n",
      "157/828 plotted\n",
      "158/828 plotted\n",
      "159/828 plotted\n",
      "160/828 plotted\n",
      "161/828 plotted\n",
      "162/828 plotted\n",
      "163/828 plotted\n",
      "164/828 plotted\n",
      "165/828 plotted\n",
      "166/828 plotted\n",
      "167/828 plotted\n",
      "168/828 plotted\n",
      "169/828 plotted\n",
      "170/828 plotted\n",
      "171/828 plotted\n",
      "172/828 plotted\n",
      "173/828 plotted\n",
      "174/828 plotted\n",
      "175/828 plotted\n",
      "176/828 plotted\n",
      "177/828 plotted\n",
      "178/828 plotted\n",
      "179/828 plotted\n",
      "180/828 plotted\n",
      "181/828 plotted\n",
      "182/828 plotted\n",
      "183/828 plotted\n",
      "184/828 plotted\n",
      "185/828 plotted\n",
      "186/828 plotted\n",
      "187/828 plotted\n",
      "188/828 plotted\n",
      "189/828 plotted\n",
      "190/828 plotted\n",
      "191/828 plotted\n",
      "192/828 plotted\n",
      "193/828 plotted\n",
      "194/828 plotted\n",
      "195/828 plotted\n",
      "196/828 plotted\n",
      "197/828 plotted\n",
      "198/828 plotted\n",
      "199/828 plotted\n",
      "200/828 plotted\n",
      "201/828 plotted\n",
      "202/828 plotted\n",
      "203/828 plotted\n",
      "204/828 plotted\n",
      "205/828 plotted\n",
      "206/828 plotted\n",
      "207/828 plotted\n",
      "208/828 plotted\n",
      "209/828 plotted\n",
      "210/828 plotted\n",
      "211/828 plotted\n",
      "212/828 plotted\n",
      "213/828 plotted\n",
      "214/828 plotted\n",
      "215/828 plotted\n",
      "216/828 plotted\n",
      "217/828 plotted\n",
      "218/828 plotted\n",
      "219/828 plotted\n",
      "220/828 plotted\n",
      "221/828 plotted\n",
      "222/828 plotted\n",
      "223/828 plotted\n",
      "224/828 plotted\n",
      "225/828 plotted\n",
      "226/828 plotted\n",
      "227/828 plotted\n",
      "228/828 plotted\n",
      "229/828 plotted\n",
      "230/828 plotted\n",
      "231/828 plotted\n",
      "232/828 plotted\n",
      "233/828 plotted\n",
      "234/828 plotted\n",
      "235/828 plotted\n",
      "236/828 plotted\n",
      "237/828 plotted\n",
      "238/828 plotted\n",
      "239/828 plotted\n",
      "240/828 plotted\n",
      "241/828 plotted\n",
      "242/828 plotted\n",
      "243/828 plotted\n",
      "244/828 plotted\n",
      "245/828 plotted\n",
      "246/828 plotted\n",
      "247/828 plotted\n",
      "248/828 plotted\n",
      "249/828 plotted\n",
      "250/828 plotted\n",
      "251/828 plotted\n",
      "252/828 plotted\n",
      "253/828 plotted\n",
      "254/828 plotted\n",
      "255/828 plotted\n",
      "256/828 plotted\n",
      "257/828 plotted\n",
      "258/828 plotted\n",
      "259/828 plotted\n",
      "260/828 plotted\n",
      "261/828 plotted\n",
      "262/828 plotted\n",
      "263/828 plotted\n",
      "264/828 plotted\n",
      "265/828 plotted\n",
      "266/828 plotted\n",
      "267/828 plotted\n",
      "268/828 plotted\n",
      "269/828 plotted\n",
      "270/828 plotted\n",
      "271/828 plotted\n",
      "272/828 plotted\n",
      "273/828 plotted\n",
      "274/828 plotted\n",
      "275/828 plotted\n",
      "276/828 plotted\n",
      "277/828 plotted\n",
      "278/828 plotted\n",
      "279/828 plotted\n",
      "280/828 plotted\n",
      "281/828 plotted\n",
      "282/828 plotted\n",
      "283/828 plotted\n",
      "284/828 plotted\n",
      "285/828 plotted\n",
      "286/828 plotted\n",
      "287/828 plotted\n",
      "288/828 plotted\n",
      "289/828 plotted\n",
      "290/828 plotted\n",
      "291/828 plotted\n",
      "292/828 plotted\n",
      "293/828 plotted\n",
      "294/828 plotted\n",
      "295/828 plotted\n",
      "296/828 plotted\n",
      "297/828 plotted\n",
      "298/828 plotted\n",
      "299/828 plotted\n",
      "300/828 plotted\n",
      "301/828 plotted\n",
      "302/828 plotted\n",
      "303/828 plotted\n",
      "304/828 plotted\n",
      "305/828 plotted\n",
      "306/828 plotted\n",
      "307/828 plotted\n",
      "308/828 plotted\n",
      "309/828 plotted\n",
      "310/828 plotted\n",
      "311/828 plotted\n",
      "312/828 plotted\n",
      "313/828 plotted\n",
      "314/828 plotted\n",
      "315/828 plotted\n",
      "316/828 plotted\n",
      "317/828 plotted\n",
      "318/828 plotted\n",
      "319/828 plotted\n",
      "320/828 plotted\n",
      "321/828 plotted\n",
      "322/828 plotted\n",
      "323/828 plotted\n",
      "324/828 plotted\n",
      "325/828 plotted\n",
      "326/828 plotted\n",
      "327/828 plotted\n",
      "328/828 plotted\n",
      "329/828 plotted\n",
      "330/828 plotted\n",
      "331/828 plotted\n",
      "332/828 plotted\n",
      "333/828 plotted\n",
      "334/828 plotted\n",
      "335/828 plotted\n",
      "336/828 plotted\n",
      "337/828 plotted\n",
      "338/828 plotted\n",
      "339/828 plotted\n",
      "340/828 plotted\n",
      "341/828 plotted\n",
      "342/828 plotted\n",
      "343/828 plotted\n",
      "344/828 plotted\n",
      "345/828 plotted\n",
      "346/828 plotted\n",
      "347/828 plotted\n",
      "348/828 plotted\n",
      "349/828 plotted\n",
      "350/828 plotted\n",
      "351/828 plotted\n",
      "352/828 plotted\n",
      "353/828 plotted\n",
      "354/828 plotted\n",
      "355/828 plotted\n",
      "356/828 plotted\n",
      "357/828 plotted\n",
      "358/828 plotted\n",
      "359/828 plotted\n",
      "360/828 plotted\n",
      "361/828 plotted\n",
      "362/828 plotted\n",
      "363/828 plotted\n",
      "364/828 plotted\n",
      "365/828 plotted\n",
      "366/828 plotted\n",
      "367/828 plotted\n",
      "368/828 plotted\n",
      "369/828 plotted\n",
      "370/828 plotted\n",
      "371/828 plotted\n",
      "372/828 plotted\n",
      "373/828 plotted\n",
      "374/828 plotted\n",
      "375/828 plotted\n",
      "376/828 plotted\n",
      "377/828 plotted\n",
      "378/828 plotted\n",
      "379/828 plotted\n",
      "380/828 plotted\n",
      "381/828 plotted\n",
      "382/828 plotted\n",
      "383/828 plotted\n",
      "384/828 plotted\n",
      "385/828 plotted\n",
      "386/828 plotted\n",
      "387/828 plotted\n",
      "388/828 plotted\n",
      "389/828 plotted\n",
      "390/828 plotted\n",
      "391/828 plotted\n",
      "392/828 plotted\n",
      "393/828 plotted\n",
      "394/828 plotted\n",
      "395/828 plotted\n",
      "396/828 plotted\n",
      "397/828 plotted\n",
      "398/828 plotted\n",
      "399/828 plotted\n",
      "400/828 plotted\n",
      "401/828 plotted\n",
      "402/828 plotted\n",
      "403/828 plotted\n",
      "404/828 plotted\n",
      "405/828 plotted\n",
      "406/828 plotted\n",
      "407/828 plotted\n",
      "408/828 plotted\n",
      "409/828 plotted\n",
      "410/828 plotted\n",
      "411/828 plotted\n",
      "412/828 plotted\n",
      "413/828 plotted\n",
      "414/828 plotted\n",
      "415/828 plotted\n",
      "416/828 plotted\n",
      "417/828 plotted\n",
      "418/828 plotted\n",
      "419/828 plotted\n",
      "420/828 plotted\n",
      "421/828 plotted\n",
      "422/828 plotted\n",
      "423/828 plotted\n",
      "424/828 plotted\n",
      "425/828 plotted\n",
      "426/828 plotted\n",
      "427/828 plotted\n",
      "428/828 plotted\n",
      "429/828 plotted\n",
      "430/828 plotted\n",
      "431/828 plotted\n",
      "432/828 plotted\n",
      "433/828 plotted\n",
      "434/828 plotted\n",
      "435/828 plotted\n",
      "436/828 plotted\n",
      "437/828 plotted\n",
      "438/828 plotted\n",
      "439/828 plotted\n",
      "440/828 plotted\n",
      "441/828 plotted\n",
      "442/828 plotted\n",
      "443/828 plotted\n",
      "444/828 plotted\n",
      "445/828 plotted\n",
      "446/828 plotted\n",
      "447/828 plotted\n",
      "448/828 plotted\n",
      "449/828 plotted\n",
      "450/828 plotted\n",
      "451/828 plotted\n",
      "452/828 plotted\n",
      "453/828 plotted\n",
      "454/828 plotted\n",
      "455/828 plotted\n",
      "456/828 plotted\n",
      "457/828 plotted\n",
      "458/828 plotted\n",
      "459/828 plotted\n",
      "460/828 plotted\n",
      "461/828 plotted\n",
      "462/828 plotted\n",
      "463/828 plotted\n",
      "464/828 plotted\n",
      "465/828 plotted\n",
      "466/828 plotted\n",
      "467/828 plotted\n",
      "468/828 plotted\n",
      "469/828 plotted\n",
      "470/828 plotted\n",
      "471/828 plotted\n",
      "472/828 plotted\n",
      "473/828 plotted\n",
      "474/828 plotted\n",
      "475/828 plotted\n",
      "476/828 plotted\n",
      "477/828 plotted\n",
      "478/828 plotted\n",
      "479/828 plotted\n",
      "480/828 plotted\n",
      "481/828 plotted\n",
      "482/828 plotted\n",
      "483/828 plotted\n",
      "484/828 plotted\n",
      "485/828 plotted\n",
      "486/828 plotted\n",
      "487/828 plotted\n",
      "488/828 plotted\n",
      "489/828 plotted\n",
      "490/828 plotted\n",
      "491/828 plotted\n",
      "492/828 plotted\n",
      "493/828 plotted\n",
      "494/828 plotted\n",
      "495/828 plotted\n",
      "496/828 plotted\n",
      "497/828 plotted\n",
      "498/828 plotted\n",
      "499/828 plotted\n",
      "500/828 plotted\n",
      "501/828 plotted\n",
      "502/828 plotted\n",
      "503/828 plotted\n",
      "504/828 plotted\n",
      "505/828 plotted\n",
      "506/828 plotted\n",
      "507/828 plotted\n",
      "508/828 plotted\n",
      "509/828 plotted\n",
      "510/828 plotted\n",
      "511/828 plotted\n",
      "512/828 plotted\n",
      "513/828 plotted\n",
      "514/828 plotted\n",
      "515/828 plotted\n",
      "516/828 plotted\n",
      "517/828 plotted\n",
      "518/828 plotted\n",
      "519/828 plotted\n"
     ]
    },
    {
     "name": "stdout",
     "output_type": "stream",
     "text": [
      "520/828 plotted\n",
      "521/828 plotted\n",
      "522/828 plotted\n",
      "523/828 plotted\n",
      "524/828 plotted\n",
      "525/828 plotted\n",
      "526/828 plotted\n",
      "527/828 plotted\n",
      "528/828 plotted\n",
      "529/828 plotted\n",
      "530/828 plotted\n",
      "531/828 plotted\n",
      "532/828 plotted\n",
      "533/828 plotted\n",
      "534/828 plotted\n",
      "535/828 plotted\n",
      "536/828 plotted\n",
      "537/828 plotted\n",
      "538/828 plotted\n",
      "539/828 plotted\n",
      "540/828 plotted\n",
      "541/828 plotted\n",
      "542/828 plotted\n",
      "543/828 plotted\n",
      "544/828 plotted\n",
      "545/828 plotted\n",
      "546/828 plotted\n",
      "547/828 plotted\n",
      "548/828 plotted\n",
      "549/828 plotted\n",
      "550/828 plotted\n",
      "551/828 plotted\n",
      "552/828 plotted\n",
      "553/828 plotted\n",
      "554/828 plotted\n",
      "555/828 plotted\n",
      "556/828 plotted\n",
      "557/828 plotted\n",
      "558/828 plotted\n",
      "559/828 plotted\n",
      "560/828 plotted\n",
      "561/828 plotted\n",
      "562/828 plotted\n",
      "563/828 plotted\n",
      "564/828 plotted\n",
      "565/828 plotted\n",
      "566/828 plotted\n",
      "567/828 plotted\n",
      "568/828 plotted\n",
      "569/828 plotted\n",
      "570/828 plotted\n",
      "571/828 plotted\n",
      "572/828 plotted\n",
      "573/828 plotted\n",
      "574/828 plotted\n",
      "575/828 plotted\n",
      "576/828 plotted\n",
      "577/828 plotted\n",
      "578/828 plotted\n",
      "579/828 plotted\n",
      "580/828 plotted\n",
      "581/828 plotted\n",
      "582/828 plotted\n",
      "583/828 plotted\n",
      "584/828 plotted\n",
      "585/828 plotted\n",
      "586/828 plotted\n",
      "587/828 plotted\n",
      "588/828 plotted\n",
      "589/828 plotted\n",
      "590/828 plotted\n",
      "591/828 plotted\n",
      "592/828 plotted\n",
      "593/828 plotted\n",
      "594/828 plotted\n",
      "595/828 plotted\n",
      "596/828 plotted\n",
      "597/828 plotted\n",
      "598/828 plotted\n",
      "599/828 plotted\n",
      "600/828 plotted\n",
      "601/828 plotted\n",
      "602/828 plotted\n",
      "603/828 plotted\n",
      "604/828 plotted\n",
      "605/828 plotted\n",
      "606/828 plotted\n",
      "607/828 plotted\n",
      "608/828 plotted\n",
      "609/828 plotted\n",
      "610/828 plotted\n",
      "611/828 plotted\n",
      "612/828 plotted\n",
      "613/828 plotted\n",
      "614/828 plotted\n",
      "615/828 plotted\n",
      "616/828 plotted\n",
      "617/828 plotted\n",
      "618/828 plotted\n",
      "619/828 plotted\n",
      "620/828 plotted\n",
      "621/828 plotted\n",
      "622/828 plotted\n",
      "623/828 plotted\n",
      "624/828 plotted\n",
      "625/828 plotted\n",
      "626/828 plotted\n",
      "627/828 plotted\n",
      "628/828 plotted\n",
      "629/828 plotted\n",
      "630/828 plotted\n",
      "631/828 plotted\n",
      "632/828 plotted\n",
      "633/828 plotted\n",
      "634/828 plotted\n",
      "635/828 plotted\n",
      "636/828 plotted\n",
      "637/828 plotted\n",
      "638/828 plotted\n",
      "639/828 plotted\n",
      "640/828 plotted\n",
      "641/828 plotted\n",
      "642/828 plotted\n",
      "643/828 plotted\n",
      "644/828 plotted\n",
      "645/828 plotted\n",
      "646/828 plotted\n",
      "647/828 plotted\n",
      "648/828 plotted\n",
      "649/828 plotted\n",
      "650/828 plotted\n",
      "651/828 plotted\n",
      "652/828 plotted\n",
      "653/828 plotted\n",
      "654/828 plotted\n",
      "655/828 plotted\n",
      "656/828 plotted\n",
      "657/828 plotted\n",
      "658/828 plotted\n",
      "659/828 plotted\n",
      "660/828 plotted\n",
      "661/828 plotted\n",
      "662/828 plotted\n",
      "663/828 plotted\n",
      "664/828 plotted\n",
      "665/828 plotted\n",
      "666/828 plotted\n",
      "667/828 plotted\n",
      "668/828 plotted\n",
      "669/828 plotted\n",
      "670/828 plotted\n",
      "671/828 plotted\n",
      "672/828 plotted\n",
      "673/828 plotted\n",
      "674/828 plotted\n",
      "675/828 plotted\n",
      "676/828 plotted\n",
      "677/828 plotted\n",
      "678/828 plotted\n",
      "679/828 plotted\n",
      "680/828 plotted\n",
      "681/828 plotted\n",
      "682/828 plotted\n",
      "683/828 plotted\n",
      "684/828 plotted\n",
      "685/828 plotted\n",
      "686/828 plotted\n",
      "687/828 plotted\n",
      "688/828 plotted\n",
      "689/828 plotted\n",
      "690/828 plotted\n",
      "691/828 plotted\n",
      "692/828 plotted\n",
      "693/828 plotted\n",
      "694/828 plotted\n",
      "695/828 plotted\n",
      "696/828 plotted\n",
      "697/828 plotted\n",
      "698/828 plotted\n",
      "699/828 plotted\n",
      "700/828 plotted\n",
      "701/828 plotted\n",
      "702/828 plotted\n",
      "703/828 plotted\n",
      "704/828 plotted\n",
      "705/828 plotted\n",
      "706/828 plotted\n",
      "707/828 plotted\n",
      "708/828 plotted\n",
      "709/828 plotted\n",
      "710/828 plotted\n",
      "711/828 plotted\n",
      "712/828 plotted\n",
      "713/828 plotted\n",
      "714/828 plotted\n",
      "715/828 plotted\n",
      "716/828 plotted\n",
      "717/828 plotted\n",
      "718/828 plotted\n",
      "719/828 plotted\n",
      "720/828 plotted\n",
      "721/828 plotted\n",
      "722/828 plotted\n",
      "723/828 plotted\n",
      "724/828 plotted\n",
      "725/828 plotted\n",
      "726/828 plotted\n",
      "727/828 plotted\n",
      "728/828 plotted\n",
      "729/828 plotted\n",
      "730/828 plotted\n",
      "731/828 plotted\n",
      "732/828 plotted\n",
      "733/828 plotted\n",
      "734/828 plotted\n",
      "735/828 plotted\n",
      "736/828 plotted\n",
      "737/828 plotted\n",
      "738/828 plotted\n",
      "739/828 plotted\n",
      "740/828 plotted\n",
      "741/828 plotted\n",
      "742/828 plotted\n",
      "743/828 plotted\n",
      "744/828 plotted\n",
      "745/828 plotted\n",
      "746/828 plotted\n",
      "747/828 plotted\n",
      "748/828 plotted\n",
      "749/828 plotted\n",
      "750/828 plotted\n",
      "751/828 plotted\n",
      "752/828 plotted\n",
      "753/828 plotted\n",
      "754/828 plotted\n",
      "755/828 plotted\n",
      "756/828 plotted\n",
      "757/828 plotted\n",
      "758/828 plotted\n",
      "759/828 plotted\n",
      "760/828 plotted\n",
      "761/828 plotted\n",
      "762/828 plotted\n",
      "763/828 plotted\n",
      "764/828 plotted\n",
      "765/828 plotted\n",
      "766/828 plotted\n",
      "767/828 plotted\n",
      "768/828 plotted\n",
      "769/828 plotted\n",
      "770/828 plotted\n",
      "771/828 plotted\n",
      "772/828 plotted\n",
      "773/828 plotted\n",
      "774/828 plotted\n",
      "775/828 plotted\n",
      "776/828 plotted\n",
      "777/828 plotted\n",
      "778/828 plotted\n",
      "779/828 plotted\n",
      "780/828 plotted\n",
      "781/828 plotted\n",
      "782/828 plotted\n",
      "783/828 plotted\n",
      "784/828 plotted\n",
      "785/828 plotted\n",
      "786/828 plotted\n",
      "787/828 plotted\n",
      "788/828 plotted\n",
      "789/828 plotted\n",
      "790/828 plotted\n",
      "791/828 plotted\n",
      "792/828 plotted\n",
      "793/828 plotted\n",
      "794/828 plotted\n",
      "795/828 plotted\n",
      "796/828 plotted\n",
      "797/828 plotted\n",
      "798/828 plotted\n",
      "799/828 plotted\n",
      "800/828 plotted\n",
      "801/828 plotted\n",
      "802/828 plotted\n",
      "803/828 plotted\n",
      "804/828 plotted\n",
      "805/828 plotted\n",
      "806/828 plotted\n",
      "807/828 plotted\n",
      "808/828 plotted\n",
      "809/828 plotted\n",
      "810/828 plotted\n",
      "811/828 plotted\n",
      "812/828 plotted\n",
      "813/828 plotted\n",
      "814/828 plotted\n",
      "815/828 plotted\n",
      "816/828 plotted\n",
      "817/828 plotted\n",
      "818/828 plotted\n",
      "819/828 plotted\n",
      "820/828 plotted\n",
      "821/828 plotted\n",
      "822/828 plotted\n",
      "823/828 plotted\n",
      "824/828 plotted\n",
      "825/828 plotted\n",
      "826/828 plotted\n",
      "827/828 plotted\n",
      "828/828 plotted\n"
     ]
    },
    {
     "data": {
      "text/plain": [
       "<Figure size 504x288 with 0 Axes>"
      ]
     },
     "metadata": {},
     "output_type": "display_data"
    },
    {
     "data": {
      "text/plain": [
       "<Figure size 504x288 with 0 Axes>"
      ]
     },
     "metadata": {},
     "output_type": "display_data"
    },
    {
     "data": {
      "text/plain": [
       "<Figure size 504x288 with 0 Axes>"
      ]
     },
     "metadata": {},
     "output_type": "display_data"
    },
    {
     "data": {
      "text/plain": [
       "<Figure size 504x288 with 0 Axes>"
      ]
     },
     "metadata": {},
     "output_type": "display_data"
    },
    {
     "data": {
      "text/plain": [
       "<Figure size 504x288 with 0 Axes>"
      ]
     },
     "metadata": {},
     "output_type": "display_data"
    },
    {
     "data": {
      "text/plain": [
       "<Figure size 504x288 with 0 Axes>"
      ]
     },
     "metadata": {},
     "output_type": "display_data"
    },
    {
     "data": {
      "text/plain": [
       "<Figure size 504x288 with 0 Axes>"
      ]
     },
     "metadata": {},
     "output_type": "display_data"
    },
    {
     "data": {
      "text/plain": [
       "<Figure size 504x288 with 0 Axes>"
      ]
     },
     "metadata": {},
     "output_type": "display_data"
    },
    {
     "data": {
      "text/plain": [
       "<Figure size 504x288 with 0 Axes>"
      ]
     },
     "metadata": {},
     "output_type": "display_data"
    },
    {
     "data": {
      "text/plain": [
       "<Figure size 504x288 with 0 Axes>"
      ]
     },
     "metadata": {},
     "output_type": "display_data"
    },
    {
     "data": {
      "text/plain": [
       "<Figure size 504x288 with 0 Axes>"
      ]
     },
     "metadata": {},
     "output_type": "display_data"
    },
    {
     "data": {
      "text/plain": [
       "<Figure size 504x288 with 0 Axes>"
      ]
     },
     "metadata": {},
     "output_type": "display_data"
    },
    {
     "data": {
      "text/plain": [
       "<Figure size 504x288 with 0 Axes>"
      ]
     },
     "metadata": {},
     "output_type": "display_data"
    },
    {
     "data": {
      "text/plain": [
       "<Figure size 504x288 with 0 Axes>"
      ]
     },
     "metadata": {},
     "output_type": "display_data"
    },
    {
     "data": {
      "text/plain": [
       "<Figure size 504x288 with 0 Axes>"
      ]
     },
     "metadata": {},
     "output_type": "display_data"
    },
    {
     "data": {
      "text/plain": [
       "<Figure size 504x288 with 0 Axes>"
      ]
     },
     "metadata": {},
     "output_type": "display_data"
    },
    {
     "data": {
      "text/plain": [
       "<Figure size 504x288 with 0 Axes>"
      ]
     },
     "metadata": {},
     "output_type": "display_data"
    },
    {
     "data": {
      "text/plain": [
       "<Figure size 504x288 with 0 Axes>"
      ]
     },
     "metadata": {},
     "output_type": "display_data"
    },
    {
     "data": {
      "text/plain": [
       "<Figure size 504x288 with 0 Axes>"
      ]
     },
     "metadata": {},
     "output_type": "display_data"
    },
    {
     "data": {
      "text/plain": [
       "<Figure size 504x288 with 0 Axes>"
      ]
     },
     "metadata": {},
     "output_type": "display_data"
    },
    {
     "data": {
      "text/plain": [
       "<Figure size 504x288 with 0 Axes>"
      ]
     },
     "metadata": {},
     "output_type": "display_data"
    },
    {
     "data": {
      "text/plain": [
       "<Figure size 504x288 with 0 Axes>"
      ]
     },
     "metadata": {},
     "output_type": "display_data"
    },
    {
     "data": {
      "text/plain": [
       "<Figure size 504x288 with 0 Axes>"
      ]
     },
     "metadata": {},
     "output_type": "display_data"
    },
    {
     "data": {
      "text/plain": [
       "<Figure size 504x288 with 0 Axes>"
      ]
     },
     "metadata": {},
     "output_type": "display_data"
    },
    {
     "data": {
      "text/plain": [
       "<Figure size 504x288 with 0 Axes>"
      ]
     },
     "metadata": {},
     "output_type": "display_data"
    },
    {
     "data": {
      "text/plain": [
       "<Figure size 504x288 with 0 Axes>"
      ]
     },
     "metadata": {},
     "output_type": "display_data"
    },
    {
     "data": {
      "text/plain": [
       "<Figure size 504x288 with 0 Axes>"
      ]
     },
     "metadata": {},
     "output_type": "display_data"
    },
    {
     "data": {
      "text/plain": [
       "<Figure size 504x288 with 0 Axes>"
      ]
     },
     "metadata": {},
     "output_type": "display_data"
    },
    {
     "data": {
      "text/plain": [
       "<Figure size 504x288 with 0 Axes>"
      ]
     },
     "metadata": {},
     "output_type": "display_data"
    },
    {
     "data": {
      "text/plain": [
       "<Figure size 504x288 with 0 Axes>"
      ]
     },
     "metadata": {},
     "output_type": "display_data"
    },
    {
     "data": {
      "text/plain": [
       "<Figure size 504x288 with 0 Axes>"
      ]
     },
     "metadata": {},
     "output_type": "display_data"
    },
    {
     "data": {
      "text/plain": [
       "<Figure size 504x288 with 0 Axes>"
      ]
     },
     "metadata": {},
     "output_type": "display_data"
    },
    {
     "data": {
      "text/plain": [
       "<Figure size 504x288 with 0 Axes>"
      ]
     },
     "metadata": {},
     "output_type": "display_data"
    },
    {
     "data": {
      "text/plain": [
       "<Figure size 504x288 with 0 Axes>"
      ]
     },
     "metadata": {},
     "output_type": "display_data"
    },
    {
     "data": {
      "text/plain": [
       "<Figure size 504x288 with 0 Axes>"
      ]
     },
     "metadata": {},
     "output_type": "display_data"
    },
    {
     "data": {
      "text/plain": [
       "<Figure size 504x288 with 0 Axes>"
      ]
     },
     "metadata": {},
     "output_type": "display_data"
    },
    {
     "data": {
      "text/plain": [
       "<Figure size 504x288 with 0 Axes>"
      ]
     },
     "metadata": {},
     "output_type": "display_data"
    },
    {
     "data": {
      "text/plain": [
       "<Figure size 504x288 with 0 Axes>"
      ]
     },
     "metadata": {},
     "output_type": "display_data"
    },
    {
     "data": {
      "text/plain": [
       "<Figure size 504x288 with 0 Axes>"
      ]
     },
     "metadata": {},
     "output_type": "display_data"
    },
    {
     "data": {
      "text/plain": [
       "<Figure size 504x288 with 0 Axes>"
      ]
     },
     "metadata": {},
     "output_type": "display_data"
    },
    {
     "data": {
      "text/plain": [
       "<Figure size 504x288 with 0 Axes>"
      ]
     },
     "metadata": {},
     "output_type": "display_data"
    },
    {
     "data": {
      "text/plain": [
       "<Figure size 504x288 with 0 Axes>"
      ]
     },
     "metadata": {},
     "output_type": "display_data"
    },
    {
     "data": {
      "text/plain": [
       "<Figure size 504x288 with 0 Axes>"
      ]
     },
     "metadata": {},
     "output_type": "display_data"
    },
    {
     "data": {
      "text/plain": [
       "<Figure size 504x288 with 0 Axes>"
      ]
     },
     "metadata": {},
     "output_type": "display_data"
    },
    {
     "data": {
      "text/plain": [
       "<Figure size 504x288 with 0 Axes>"
      ]
     },
     "metadata": {},
     "output_type": "display_data"
    },
    {
     "data": {
      "text/plain": [
       "<Figure size 504x288 with 0 Axes>"
      ]
     },
     "metadata": {},
     "output_type": "display_data"
    },
    {
     "data": {
      "text/plain": [
       "<Figure size 504x288 with 0 Axes>"
      ]
     },
     "metadata": {},
     "output_type": "display_data"
    },
    {
     "data": {
      "text/plain": [
       "<Figure size 504x288 with 0 Axes>"
      ]
     },
     "metadata": {},
     "output_type": "display_data"
    },
    {
     "data": {
      "text/plain": [
       "<Figure size 504x288 with 0 Axes>"
      ]
     },
     "metadata": {},
     "output_type": "display_data"
    },
    {
     "data": {
      "text/plain": [
       "<Figure size 504x288 with 0 Axes>"
      ]
     },
     "metadata": {},
     "output_type": "display_data"
    },
    {
     "data": {
      "text/plain": [
       "<Figure size 504x288 with 0 Axes>"
      ]
     },
     "metadata": {},
     "output_type": "display_data"
    },
    {
     "data": {
      "text/plain": [
       "<Figure size 504x288 with 0 Axes>"
      ]
     },
     "metadata": {},
     "output_type": "display_data"
    },
    {
     "data": {
      "text/plain": [
       "<Figure size 504x288 with 0 Axes>"
      ]
     },
     "metadata": {},
     "output_type": "display_data"
    },
    {
     "data": {
      "text/plain": [
       "<Figure size 504x288 with 0 Axes>"
      ]
     },
     "metadata": {},
     "output_type": "display_data"
    },
    {
     "data": {
      "text/plain": [
       "<Figure size 504x288 with 0 Axes>"
      ]
     },
     "metadata": {},
     "output_type": "display_data"
    },
    {
     "data": {
      "text/plain": [
       "<Figure size 504x288 with 0 Axes>"
      ]
     },
     "metadata": {},
     "output_type": "display_data"
    },
    {
     "data": {
      "text/plain": [
       "<Figure size 504x288 with 0 Axes>"
      ]
     },
     "metadata": {},
     "output_type": "display_data"
    },
    {
     "data": {
      "text/plain": [
       "<Figure size 504x288 with 0 Axes>"
      ]
     },
     "metadata": {},
     "output_type": "display_data"
    },
    {
     "data": {
      "text/plain": [
       "<Figure size 504x288 with 0 Axes>"
      ]
     },
     "metadata": {},
     "output_type": "display_data"
    },
    {
     "data": {
      "text/plain": [
       "<Figure size 504x288 with 0 Axes>"
      ]
     },
     "metadata": {},
     "output_type": "display_data"
    },
    {
     "data": {
      "text/plain": [
       "<Figure size 504x288 with 0 Axes>"
      ]
     },
     "metadata": {},
     "output_type": "display_data"
    },
    {
     "data": {
      "text/plain": [
       "<Figure size 504x288 with 0 Axes>"
      ]
     },
     "metadata": {},
     "output_type": "display_data"
    },
    {
     "data": {
      "text/plain": [
       "<Figure size 504x288 with 0 Axes>"
      ]
     },
     "metadata": {},
     "output_type": "display_data"
    },
    {
     "data": {
      "text/plain": [
       "<Figure size 504x288 with 0 Axes>"
      ]
     },
     "metadata": {},
     "output_type": "display_data"
    },
    {
     "data": {
      "text/plain": [
       "<Figure size 504x288 with 0 Axes>"
      ]
     },
     "metadata": {},
     "output_type": "display_data"
    },
    {
     "data": {
      "text/plain": [
       "<Figure size 504x288 with 0 Axes>"
      ]
     },
     "metadata": {},
     "output_type": "display_data"
    },
    {
     "data": {
      "text/plain": [
       "<Figure size 504x288 with 0 Axes>"
      ]
     },
     "metadata": {},
     "output_type": "display_data"
    },
    {
     "data": {
      "text/plain": [
       "<Figure size 504x288 with 0 Axes>"
      ]
     },
     "metadata": {},
     "output_type": "display_data"
    },
    {
     "data": {
      "text/plain": [
       "<Figure size 504x288 with 0 Axes>"
      ]
     },
     "metadata": {},
     "output_type": "display_data"
    },
    {
     "data": {
      "text/plain": [
       "<Figure size 504x288 with 0 Axes>"
      ]
     },
     "metadata": {},
     "output_type": "display_data"
    },
    {
     "data": {
      "text/plain": [
       "<Figure size 504x288 with 0 Axes>"
      ]
     },
     "metadata": {},
     "output_type": "display_data"
    },
    {
     "data": {
      "text/plain": [
       "<Figure size 504x288 with 0 Axes>"
      ]
     },
     "metadata": {},
     "output_type": "display_data"
    },
    {
     "data": {
      "text/plain": [
       "<Figure size 504x288 with 0 Axes>"
      ]
     },
     "metadata": {},
     "output_type": "display_data"
    },
    {
     "data": {
      "text/plain": [
       "<Figure size 504x288 with 0 Axes>"
      ]
     },
     "metadata": {},
     "output_type": "display_data"
    },
    {
     "data": {
      "text/plain": [
       "<Figure size 504x288 with 0 Axes>"
      ]
     },
     "metadata": {},
     "output_type": "display_data"
    },
    {
     "data": {
      "text/plain": [
       "<Figure size 504x288 with 0 Axes>"
      ]
     },
     "metadata": {},
     "output_type": "display_data"
    },
    {
     "data": {
      "text/plain": [
       "<Figure size 504x288 with 0 Axes>"
      ]
     },
     "metadata": {},
     "output_type": "display_data"
    },
    {
     "data": {
      "text/plain": [
       "<Figure size 504x288 with 0 Axes>"
      ]
     },
     "metadata": {},
     "output_type": "display_data"
    },
    {
     "data": {
      "text/plain": [
       "<Figure size 504x288 with 0 Axes>"
      ]
     },
     "metadata": {},
     "output_type": "display_data"
    },
    {
     "data": {
      "text/plain": [
       "<Figure size 504x288 with 0 Axes>"
      ]
     },
     "metadata": {},
     "output_type": "display_data"
    },
    {
     "data": {
      "text/plain": [
       "<Figure size 504x288 with 0 Axes>"
      ]
     },
     "metadata": {},
     "output_type": "display_data"
    },
    {
     "data": {
      "text/plain": [
       "<Figure size 504x288 with 0 Axes>"
      ]
     },
     "metadata": {},
     "output_type": "display_data"
    },
    {
     "data": {
      "text/plain": [
       "<Figure size 504x288 with 0 Axes>"
      ]
     },
     "metadata": {},
     "output_type": "display_data"
    },
    {
     "data": {
      "text/plain": [
       "<Figure size 504x288 with 0 Axes>"
      ]
     },
     "metadata": {},
     "output_type": "display_data"
    },
    {
     "data": {
      "text/plain": [
       "<Figure size 504x288 with 0 Axes>"
      ]
     },
     "metadata": {},
     "output_type": "display_data"
    },
    {
     "data": {
      "text/plain": [
       "<Figure size 504x288 with 0 Axes>"
      ]
     },
     "metadata": {},
     "output_type": "display_data"
    },
    {
     "data": {
      "text/plain": [
       "<Figure size 504x288 with 0 Axes>"
      ]
     },
     "metadata": {},
     "output_type": "display_data"
    },
    {
     "data": {
      "text/plain": [
       "<Figure size 504x288 with 0 Axes>"
      ]
     },
     "metadata": {},
     "output_type": "display_data"
    },
    {
     "data": {
      "text/plain": [
       "<Figure size 504x288 with 0 Axes>"
      ]
     },
     "metadata": {},
     "output_type": "display_data"
    },
    {
     "data": {
      "text/plain": [
       "<Figure size 504x288 with 0 Axes>"
      ]
     },
     "metadata": {},
     "output_type": "display_data"
    },
    {
     "data": {
      "text/plain": [
       "<Figure size 504x288 with 0 Axes>"
      ]
     },
     "metadata": {},
     "output_type": "display_data"
    },
    {
     "data": {
      "text/plain": [
       "<Figure size 504x288 with 0 Axes>"
      ]
     },
     "metadata": {},
     "output_type": "display_data"
    },
    {
     "data": {
      "text/plain": [
       "<Figure size 504x288 with 0 Axes>"
      ]
     },
     "metadata": {},
     "output_type": "display_data"
    },
    {
     "data": {
      "text/plain": [
       "<Figure size 504x288 with 0 Axes>"
      ]
     },
     "metadata": {},
     "output_type": "display_data"
    },
    {
     "data": {
      "text/plain": [
       "<Figure size 504x288 with 0 Axes>"
      ]
     },
     "metadata": {},
     "output_type": "display_data"
    },
    {
     "data": {
      "text/plain": [
       "<Figure size 504x288 with 0 Axes>"
      ]
     },
     "metadata": {},
     "output_type": "display_data"
    },
    {
     "data": {
      "text/plain": [
       "<Figure size 504x288 with 0 Axes>"
      ]
     },
     "metadata": {},
     "output_type": "display_data"
    },
    {
     "data": {
      "text/plain": [
       "<Figure size 504x288 with 0 Axes>"
      ]
     },
     "metadata": {},
     "output_type": "display_data"
    },
    {
     "data": {
      "text/plain": [
       "<Figure size 504x288 with 0 Axes>"
      ]
     },
     "metadata": {},
     "output_type": "display_data"
    },
    {
     "data": {
      "text/plain": [
       "<Figure size 504x288 with 0 Axes>"
      ]
     },
     "metadata": {},
     "output_type": "display_data"
    },
    {
     "data": {
      "text/plain": [
       "<Figure size 504x288 with 0 Axes>"
      ]
     },
     "metadata": {},
     "output_type": "display_data"
    },
    {
     "data": {
      "text/plain": [
       "<Figure size 504x288 with 0 Axes>"
      ]
     },
     "metadata": {},
     "output_type": "display_data"
    },
    {
     "data": {
      "text/plain": [
       "<Figure size 504x288 with 0 Axes>"
      ]
     },
     "metadata": {},
     "output_type": "display_data"
    },
    {
     "data": {
      "text/plain": [
       "<Figure size 504x288 with 0 Axes>"
      ]
     },
     "metadata": {},
     "output_type": "display_data"
    },
    {
     "data": {
      "text/plain": [
       "<Figure size 504x288 with 0 Axes>"
      ]
     },
     "metadata": {},
     "output_type": "display_data"
    },
    {
     "data": {
      "text/plain": [
       "<Figure size 504x288 with 0 Axes>"
      ]
     },
     "metadata": {},
     "output_type": "display_data"
    },
    {
     "data": {
      "text/plain": [
       "<Figure size 504x288 with 0 Axes>"
      ]
     },
     "metadata": {},
     "output_type": "display_data"
    },
    {
     "data": {
      "text/plain": [
       "<Figure size 504x288 with 0 Axes>"
      ]
     },
     "metadata": {},
     "output_type": "display_data"
    },
    {
     "data": {
      "text/plain": [
       "<Figure size 504x288 with 0 Axes>"
      ]
     },
     "metadata": {},
     "output_type": "display_data"
    },
    {
     "data": {
      "text/plain": [
       "<Figure size 504x288 with 0 Axes>"
      ]
     },
     "metadata": {},
     "output_type": "display_data"
    },
    {
     "data": {
      "text/plain": [
       "<Figure size 504x288 with 0 Axes>"
      ]
     },
     "metadata": {},
     "output_type": "display_data"
    },
    {
     "data": {
      "text/plain": [
       "<Figure size 504x288 with 0 Axes>"
      ]
     },
     "metadata": {},
     "output_type": "display_data"
    },
    {
     "data": {
      "text/plain": [
       "<Figure size 504x288 with 0 Axes>"
      ]
     },
     "metadata": {},
     "output_type": "display_data"
    },
    {
     "data": {
      "text/plain": [
       "<Figure size 504x288 with 0 Axes>"
      ]
     },
     "metadata": {},
     "output_type": "display_data"
    },
    {
     "data": {
      "text/plain": [
       "<Figure size 504x288 with 0 Axes>"
      ]
     },
     "metadata": {},
     "output_type": "display_data"
    },
    {
     "data": {
      "text/plain": [
       "<Figure size 504x288 with 0 Axes>"
      ]
     },
     "metadata": {},
     "output_type": "display_data"
    },
    {
     "data": {
      "text/plain": [
       "<Figure size 504x288 with 0 Axes>"
      ]
     },
     "metadata": {},
     "output_type": "display_data"
    },
    {
     "data": {
      "text/plain": [
       "<Figure size 504x288 with 0 Axes>"
      ]
     },
     "metadata": {},
     "output_type": "display_data"
    },
    {
     "data": {
      "text/plain": [
       "<Figure size 504x288 with 0 Axes>"
      ]
     },
     "metadata": {},
     "output_type": "display_data"
    },
    {
     "data": {
      "text/plain": [
       "<Figure size 504x288 with 0 Axes>"
      ]
     },
     "metadata": {},
     "output_type": "display_data"
    },
    {
     "data": {
      "text/plain": [
       "<Figure size 504x288 with 0 Axes>"
      ]
     },
     "metadata": {},
     "output_type": "display_data"
    },
    {
     "data": {
      "text/plain": [
       "<Figure size 504x288 with 0 Axes>"
      ]
     },
     "metadata": {},
     "output_type": "display_data"
    },
    {
     "data": {
      "text/plain": [
       "<Figure size 504x288 with 0 Axes>"
      ]
     },
     "metadata": {},
     "output_type": "display_data"
    },
    {
     "data": {
      "text/plain": [
       "<Figure size 504x288 with 0 Axes>"
      ]
     },
     "metadata": {},
     "output_type": "display_data"
    },
    {
     "data": {
      "text/plain": [
       "<Figure size 504x288 with 0 Axes>"
      ]
     },
     "metadata": {},
     "output_type": "display_data"
    },
    {
     "data": {
      "text/plain": [
       "<Figure size 504x288 with 0 Axes>"
      ]
     },
     "metadata": {},
     "output_type": "display_data"
    },
    {
     "data": {
      "text/plain": [
       "<Figure size 504x288 with 0 Axes>"
      ]
     },
     "metadata": {},
     "output_type": "display_data"
    },
    {
     "data": {
      "text/plain": [
       "<Figure size 504x288 with 0 Axes>"
      ]
     },
     "metadata": {},
     "output_type": "display_data"
    },
    {
     "data": {
      "text/plain": [
       "<Figure size 504x288 with 0 Axes>"
      ]
     },
     "metadata": {},
     "output_type": "display_data"
    },
    {
     "data": {
      "text/plain": [
       "<Figure size 504x288 with 0 Axes>"
      ]
     },
     "metadata": {},
     "output_type": "display_data"
    },
    {
     "data": {
      "text/plain": [
       "<Figure size 504x288 with 0 Axes>"
      ]
     },
     "metadata": {},
     "output_type": "display_data"
    },
    {
     "data": {
      "text/plain": [
       "<Figure size 504x288 with 0 Axes>"
      ]
     },
     "metadata": {},
     "output_type": "display_data"
    },
    {
     "data": {
      "text/plain": [
       "<Figure size 504x288 with 0 Axes>"
      ]
     },
     "metadata": {},
     "output_type": "display_data"
    },
    {
     "data": {
      "text/plain": [
       "<Figure size 504x288 with 0 Axes>"
      ]
     },
     "metadata": {},
     "output_type": "display_data"
    },
    {
     "data": {
      "text/plain": [
       "<Figure size 504x288 with 0 Axes>"
      ]
     },
     "metadata": {},
     "output_type": "display_data"
    },
    {
     "data": {
      "text/plain": [
       "<Figure size 504x288 with 0 Axes>"
      ]
     },
     "metadata": {},
     "output_type": "display_data"
    },
    {
     "data": {
      "text/plain": [
       "<Figure size 504x288 with 0 Axes>"
      ]
     },
     "metadata": {},
     "output_type": "display_data"
    },
    {
     "data": {
      "text/plain": [
       "<Figure size 504x288 with 0 Axes>"
      ]
     },
     "metadata": {},
     "output_type": "display_data"
    },
    {
     "data": {
      "text/plain": [
       "<Figure size 504x288 with 0 Axes>"
      ]
     },
     "metadata": {},
     "output_type": "display_data"
    },
    {
     "data": {
      "text/plain": [
       "<Figure size 504x288 with 0 Axes>"
      ]
     },
     "metadata": {},
     "output_type": "display_data"
    },
    {
     "data": {
      "text/plain": [
       "<Figure size 504x288 with 0 Axes>"
      ]
     },
     "metadata": {},
     "output_type": "display_data"
    },
    {
     "data": {
      "text/plain": [
       "<Figure size 504x288 with 0 Axes>"
      ]
     },
     "metadata": {},
     "output_type": "display_data"
    },
    {
     "data": {
      "text/plain": [
       "<Figure size 504x288 with 0 Axes>"
      ]
     },
     "metadata": {},
     "output_type": "display_data"
    },
    {
     "data": {
      "text/plain": [
       "<Figure size 504x288 with 0 Axes>"
      ]
     },
     "metadata": {},
     "output_type": "display_data"
    },
    {
     "data": {
      "text/plain": [
       "<Figure size 504x288 with 0 Axes>"
      ]
     },
     "metadata": {},
     "output_type": "display_data"
    },
    {
     "data": {
      "text/plain": [
       "<Figure size 504x288 with 0 Axes>"
      ]
     },
     "metadata": {},
     "output_type": "display_data"
    },
    {
     "data": {
      "text/plain": [
       "<Figure size 504x288 with 0 Axes>"
      ]
     },
     "metadata": {},
     "output_type": "display_data"
    },
    {
     "data": {
      "text/plain": [
       "<Figure size 504x288 with 0 Axes>"
      ]
     },
     "metadata": {},
     "output_type": "display_data"
    },
    {
     "data": {
      "text/plain": [
       "<Figure size 504x288 with 0 Axes>"
      ]
     },
     "metadata": {},
     "output_type": "display_data"
    },
    {
     "data": {
      "text/plain": [
       "<Figure size 504x288 with 0 Axes>"
      ]
     },
     "metadata": {},
     "output_type": "display_data"
    },
    {
     "data": {
      "text/plain": [
       "<Figure size 504x288 with 0 Axes>"
      ]
     },
     "metadata": {},
     "output_type": "display_data"
    },
    {
     "data": {
      "text/plain": [
       "<Figure size 504x288 with 0 Axes>"
      ]
     },
     "metadata": {},
     "output_type": "display_data"
    },
    {
     "data": {
      "text/plain": [
       "<Figure size 504x288 with 0 Axes>"
      ]
     },
     "metadata": {},
     "output_type": "display_data"
    },
    {
     "data": {
      "text/plain": [
       "<Figure size 504x288 with 0 Axes>"
      ]
     },
     "metadata": {},
     "output_type": "display_data"
    },
    {
     "data": {
      "text/plain": [
       "<Figure size 504x288 with 0 Axes>"
      ]
     },
     "metadata": {},
     "output_type": "display_data"
    },
    {
     "data": {
      "text/plain": [
       "<Figure size 504x288 with 0 Axes>"
      ]
     },
     "metadata": {},
     "output_type": "display_data"
    },
    {
     "data": {
      "text/plain": [
       "<Figure size 504x288 with 0 Axes>"
      ]
     },
     "metadata": {},
     "output_type": "display_data"
    },
    {
     "data": {
      "text/plain": [
       "<Figure size 504x288 with 0 Axes>"
      ]
     },
     "metadata": {},
     "output_type": "display_data"
    },
    {
     "data": {
      "text/plain": [
       "<Figure size 504x288 with 0 Axes>"
      ]
     },
     "metadata": {},
     "output_type": "display_data"
    },
    {
     "data": {
      "text/plain": [
       "<Figure size 504x288 with 0 Axes>"
      ]
     },
     "metadata": {},
     "output_type": "display_data"
    },
    {
     "data": {
      "text/plain": [
       "<Figure size 504x288 with 0 Axes>"
      ]
     },
     "metadata": {},
     "output_type": "display_data"
    },
    {
     "data": {
      "text/plain": [
       "<Figure size 504x288 with 0 Axes>"
      ]
     },
     "metadata": {},
     "output_type": "display_data"
    },
    {
     "data": {
      "text/plain": [
       "<Figure size 504x288 with 0 Axes>"
      ]
     },
     "metadata": {},
     "output_type": "display_data"
    },
    {
     "data": {
      "text/plain": [
       "<Figure size 504x288 with 0 Axes>"
      ]
     },
     "metadata": {},
     "output_type": "display_data"
    },
    {
     "data": {
      "text/plain": [
       "<Figure size 504x288 with 0 Axes>"
      ]
     },
     "metadata": {},
     "output_type": "display_data"
    },
    {
     "data": {
      "text/plain": [
       "<Figure size 504x288 with 0 Axes>"
      ]
     },
     "metadata": {},
     "output_type": "display_data"
    },
    {
     "data": {
      "text/plain": [
       "<Figure size 504x288 with 0 Axes>"
      ]
     },
     "metadata": {},
     "output_type": "display_data"
    },
    {
     "data": {
      "text/plain": [
       "<Figure size 504x288 with 0 Axes>"
      ]
     },
     "metadata": {},
     "output_type": "display_data"
    },
    {
     "data": {
      "text/plain": [
       "<Figure size 504x288 with 0 Axes>"
      ]
     },
     "metadata": {},
     "output_type": "display_data"
    },
    {
     "data": {
      "text/plain": [
       "<Figure size 504x288 with 0 Axes>"
      ]
     },
     "metadata": {},
     "output_type": "display_data"
    },
    {
     "data": {
      "text/plain": [
       "<Figure size 504x288 with 0 Axes>"
      ]
     },
     "metadata": {},
     "output_type": "display_data"
    },
    {
     "data": {
      "text/plain": [
       "<Figure size 504x288 with 0 Axes>"
      ]
     },
     "metadata": {},
     "output_type": "display_data"
    },
    {
     "data": {
      "text/plain": [
       "<Figure size 504x288 with 0 Axes>"
      ]
     },
     "metadata": {},
     "output_type": "display_data"
    },
    {
     "data": {
      "text/plain": [
       "<Figure size 504x288 with 0 Axes>"
      ]
     },
     "metadata": {},
     "output_type": "display_data"
    },
    {
     "data": {
      "text/plain": [
       "<Figure size 504x288 with 0 Axes>"
      ]
     },
     "metadata": {},
     "output_type": "display_data"
    },
    {
     "data": {
      "text/plain": [
       "<Figure size 504x288 with 0 Axes>"
      ]
     },
     "metadata": {},
     "output_type": "display_data"
    },
    {
     "data": {
      "text/plain": [
       "<Figure size 504x288 with 0 Axes>"
      ]
     },
     "metadata": {},
     "output_type": "display_data"
    },
    {
     "data": {
      "text/plain": [
       "<Figure size 504x288 with 0 Axes>"
      ]
     },
     "metadata": {},
     "output_type": "display_data"
    },
    {
     "data": {
      "text/plain": [
       "<Figure size 504x288 with 0 Axes>"
      ]
     },
     "metadata": {},
     "output_type": "display_data"
    },
    {
     "data": {
      "text/plain": [
       "<Figure size 504x288 with 0 Axes>"
      ]
     },
     "metadata": {},
     "output_type": "display_data"
    },
    {
     "data": {
      "text/plain": [
       "<Figure size 504x288 with 0 Axes>"
      ]
     },
     "metadata": {},
     "output_type": "display_data"
    },
    {
     "data": {
      "text/plain": [
       "<Figure size 504x288 with 0 Axes>"
      ]
     },
     "metadata": {},
     "output_type": "display_data"
    },
    {
     "data": {
      "text/plain": [
       "<Figure size 504x288 with 0 Axes>"
      ]
     },
     "metadata": {},
     "output_type": "display_data"
    },
    {
     "data": {
      "text/plain": [
       "<Figure size 504x288 with 0 Axes>"
      ]
     },
     "metadata": {},
     "output_type": "display_data"
    },
    {
     "data": {
      "text/plain": [
       "<Figure size 504x288 with 0 Axes>"
      ]
     },
     "metadata": {},
     "output_type": "display_data"
    },
    {
     "data": {
      "text/plain": [
       "<Figure size 504x288 with 0 Axes>"
      ]
     },
     "metadata": {},
     "output_type": "display_data"
    },
    {
     "data": {
      "text/plain": [
       "<Figure size 504x288 with 0 Axes>"
      ]
     },
     "metadata": {},
     "output_type": "display_data"
    },
    {
     "data": {
      "text/plain": [
       "<Figure size 504x288 with 0 Axes>"
      ]
     },
     "metadata": {},
     "output_type": "display_data"
    },
    {
     "data": {
      "text/plain": [
       "<Figure size 504x288 with 0 Axes>"
      ]
     },
     "metadata": {},
     "output_type": "display_data"
    },
    {
     "data": {
      "text/plain": [
       "<Figure size 504x288 with 0 Axes>"
      ]
     },
     "metadata": {},
     "output_type": "display_data"
    },
    {
     "data": {
      "text/plain": [
       "<Figure size 504x288 with 0 Axes>"
      ]
     },
     "metadata": {},
     "output_type": "display_data"
    },
    {
     "data": {
      "text/plain": [
       "<Figure size 504x288 with 0 Axes>"
      ]
     },
     "metadata": {},
     "output_type": "display_data"
    },
    {
     "data": {
      "text/plain": [
       "<Figure size 504x288 with 0 Axes>"
      ]
     },
     "metadata": {},
     "output_type": "display_data"
    },
    {
     "data": {
      "text/plain": [
       "<Figure size 504x288 with 0 Axes>"
      ]
     },
     "metadata": {},
     "output_type": "display_data"
    },
    {
     "data": {
      "text/plain": [
       "<Figure size 504x288 with 0 Axes>"
      ]
     },
     "metadata": {},
     "output_type": "display_data"
    },
    {
     "data": {
      "text/plain": [
       "<Figure size 504x288 with 0 Axes>"
      ]
     },
     "metadata": {},
     "output_type": "display_data"
    },
    {
     "data": {
      "text/plain": [
       "<Figure size 504x288 with 0 Axes>"
      ]
     },
     "metadata": {},
     "output_type": "display_data"
    },
    {
     "data": {
      "text/plain": [
       "<Figure size 504x288 with 0 Axes>"
      ]
     },
     "metadata": {},
     "output_type": "display_data"
    },
    {
     "data": {
      "text/plain": [
       "<Figure size 504x288 with 0 Axes>"
      ]
     },
     "metadata": {},
     "output_type": "display_data"
    },
    {
     "data": {
      "text/plain": [
       "<Figure size 504x288 with 0 Axes>"
      ]
     },
     "metadata": {},
     "output_type": "display_data"
    },
    {
     "data": {
      "text/plain": [
       "<Figure size 504x288 with 0 Axes>"
      ]
     },
     "metadata": {},
     "output_type": "display_data"
    },
    {
     "data": {
      "text/plain": [
       "<Figure size 504x288 with 0 Axes>"
      ]
     },
     "metadata": {},
     "output_type": "display_data"
    },
    {
     "data": {
      "text/plain": [
       "<Figure size 504x288 with 0 Axes>"
      ]
     },
     "metadata": {},
     "output_type": "display_data"
    },
    {
     "data": {
      "text/plain": [
       "<Figure size 504x288 with 0 Axes>"
      ]
     },
     "metadata": {},
     "output_type": "display_data"
    },
    {
     "data": {
      "text/plain": [
       "<Figure size 504x288 with 0 Axes>"
      ]
     },
     "metadata": {},
     "output_type": "display_data"
    },
    {
     "data": {
      "text/plain": [
       "<Figure size 504x288 with 0 Axes>"
      ]
     },
     "metadata": {},
     "output_type": "display_data"
    },
    {
     "data": {
      "text/plain": [
       "<Figure size 504x288 with 0 Axes>"
      ]
     },
     "metadata": {},
     "output_type": "display_data"
    },
    {
     "data": {
      "text/plain": [
       "<Figure size 504x288 with 0 Axes>"
      ]
     },
     "metadata": {},
     "output_type": "display_data"
    },
    {
     "data": {
      "text/plain": [
       "<Figure size 504x288 with 0 Axes>"
      ]
     },
     "metadata": {},
     "output_type": "display_data"
    },
    {
     "data": {
      "text/plain": [
       "<Figure size 504x288 with 0 Axes>"
      ]
     },
     "metadata": {},
     "output_type": "display_data"
    },
    {
     "data": {
      "text/plain": [
       "<Figure size 504x288 with 0 Axes>"
      ]
     },
     "metadata": {},
     "output_type": "display_data"
    },
    {
     "data": {
      "text/plain": [
       "<Figure size 504x288 with 0 Axes>"
      ]
     },
     "metadata": {},
     "output_type": "display_data"
    },
    {
     "data": {
      "text/plain": [
       "<Figure size 504x288 with 0 Axes>"
      ]
     },
     "metadata": {},
     "output_type": "display_data"
    },
    {
     "data": {
      "text/plain": [
       "<Figure size 504x288 with 0 Axes>"
      ]
     },
     "metadata": {},
     "output_type": "display_data"
    },
    {
     "data": {
      "text/plain": [
       "<Figure size 504x288 with 0 Axes>"
      ]
     },
     "metadata": {},
     "output_type": "display_data"
    },
    {
     "data": {
      "text/plain": [
       "<Figure size 504x288 with 0 Axes>"
      ]
     },
     "metadata": {},
     "output_type": "display_data"
    },
    {
     "data": {
      "text/plain": [
       "<Figure size 504x288 with 0 Axes>"
      ]
     },
     "metadata": {},
     "output_type": "display_data"
    },
    {
     "data": {
      "text/plain": [
       "<Figure size 504x288 with 0 Axes>"
      ]
     },
     "metadata": {},
     "output_type": "display_data"
    },
    {
     "data": {
      "text/plain": [
       "<Figure size 504x288 with 0 Axes>"
      ]
     },
     "metadata": {},
     "output_type": "display_data"
    },
    {
     "data": {
      "text/plain": [
       "<Figure size 504x288 with 0 Axes>"
      ]
     },
     "metadata": {},
     "output_type": "display_data"
    },
    {
     "data": {
      "text/plain": [
       "<Figure size 504x288 with 0 Axes>"
      ]
     },
     "metadata": {},
     "output_type": "display_data"
    },
    {
     "data": {
      "text/plain": [
       "<Figure size 504x288 with 0 Axes>"
      ]
     },
     "metadata": {},
     "output_type": "display_data"
    },
    {
     "data": {
      "text/plain": [
       "<Figure size 504x288 with 0 Axes>"
      ]
     },
     "metadata": {},
     "output_type": "display_data"
    },
    {
     "data": {
      "text/plain": [
       "<Figure size 504x288 with 0 Axes>"
      ]
     },
     "metadata": {},
     "output_type": "display_data"
    },
    {
     "data": {
      "text/plain": [
       "<Figure size 504x288 with 0 Axes>"
      ]
     },
     "metadata": {},
     "output_type": "display_data"
    },
    {
     "data": {
      "text/plain": [
       "<Figure size 504x288 with 0 Axes>"
      ]
     },
     "metadata": {},
     "output_type": "display_data"
    },
    {
     "data": {
      "text/plain": [
       "<Figure size 504x288 with 0 Axes>"
      ]
     },
     "metadata": {},
     "output_type": "display_data"
    },
    {
     "data": {
      "text/plain": [
       "<Figure size 504x288 with 0 Axes>"
      ]
     },
     "metadata": {},
     "output_type": "display_data"
    },
    {
     "data": {
      "text/plain": [
       "<Figure size 504x288 with 0 Axes>"
      ]
     },
     "metadata": {},
     "output_type": "display_data"
    },
    {
     "data": {
      "text/plain": [
       "<Figure size 504x288 with 0 Axes>"
      ]
     },
     "metadata": {},
     "output_type": "display_data"
    },
    {
     "data": {
      "text/plain": [
       "<Figure size 504x288 with 0 Axes>"
      ]
     },
     "metadata": {},
     "output_type": "display_data"
    },
    {
     "data": {
      "text/plain": [
       "<Figure size 504x288 with 0 Axes>"
      ]
     },
     "metadata": {},
     "output_type": "display_data"
    },
    {
     "data": {
      "text/plain": [
       "<Figure size 504x288 with 0 Axes>"
      ]
     },
     "metadata": {},
     "output_type": "display_data"
    },
    {
     "data": {
      "text/plain": [
       "<Figure size 504x288 with 0 Axes>"
      ]
     },
     "metadata": {},
     "output_type": "display_data"
    },
    {
     "data": {
      "text/plain": [
       "<Figure size 504x288 with 0 Axes>"
      ]
     },
     "metadata": {},
     "output_type": "display_data"
    },
    {
     "data": {
      "text/plain": [
       "<Figure size 504x288 with 0 Axes>"
      ]
     },
     "metadata": {},
     "output_type": "display_data"
    },
    {
     "data": {
      "text/plain": [
       "<Figure size 504x288 with 0 Axes>"
      ]
     },
     "metadata": {},
     "output_type": "display_data"
    },
    {
     "data": {
      "text/plain": [
       "<Figure size 504x288 with 0 Axes>"
      ]
     },
     "metadata": {},
     "output_type": "display_data"
    },
    {
     "data": {
      "text/plain": [
       "<Figure size 504x288 with 0 Axes>"
      ]
     },
     "metadata": {},
     "output_type": "display_data"
    },
    {
     "data": {
      "text/plain": [
       "<Figure size 504x288 with 0 Axes>"
      ]
     },
     "metadata": {},
     "output_type": "display_data"
    },
    {
     "data": {
      "text/plain": [
       "<Figure size 504x288 with 0 Axes>"
      ]
     },
     "metadata": {},
     "output_type": "display_data"
    },
    {
     "data": {
      "text/plain": [
       "<Figure size 504x288 with 0 Axes>"
      ]
     },
     "metadata": {},
     "output_type": "display_data"
    },
    {
     "data": {
      "text/plain": [
       "<Figure size 504x288 with 0 Axes>"
      ]
     },
     "metadata": {},
     "output_type": "display_data"
    },
    {
     "data": {
      "text/plain": [
       "<Figure size 504x288 with 0 Axes>"
      ]
     },
     "metadata": {},
     "output_type": "display_data"
    },
    {
     "data": {
      "text/plain": [
       "<Figure size 504x288 with 0 Axes>"
      ]
     },
     "metadata": {},
     "output_type": "display_data"
    },
    {
     "data": {
      "text/plain": [
       "<Figure size 504x288 with 0 Axes>"
      ]
     },
     "metadata": {},
     "output_type": "display_data"
    },
    {
     "data": {
      "text/plain": [
       "<Figure size 504x288 with 0 Axes>"
      ]
     },
     "metadata": {},
     "output_type": "display_data"
    },
    {
     "data": {
      "text/plain": [
       "<Figure size 504x288 with 0 Axes>"
      ]
     },
     "metadata": {},
     "output_type": "display_data"
    },
    {
     "data": {
      "text/plain": [
       "<Figure size 504x288 with 0 Axes>"
      ]
     },
     "metadata": {},
     "output_type": "display_data"
    },
    {
     "data": {
      "text/plain": [
       "<Figure size 504x288 with 0 Axes>"
      ]
     },
     "metadata": {},
     "output_type": "display_data"
    },
    {
     "data": {
      "text/plain": [
       "<Figure size 504x288 with 0 Axes>"
      ]
     },
     "metadata": {},
     "output_type": "display_data"
    },
    {
     "data": {
      "text/plain": [
       "<Figure size 504x288 with 0 Axes>"
      ]
     },
     "metadata": {},
     "output_type": "display_data"
    },
    {
     "data": {
      "text/plain": [
       "<Figure size 504x288 with 0 Axes>"
      ]
     },
     "metadata": {},
     "output_type": "display_data"
    },
    {
     "data": {
      "text/plain": [
       "<Figure size 504x288 with 0 Axes>"
      ]
     },
     "metadata": {},
     "output_type": "display_data"
    },
    {
     "data": {
      "text/plain": [
       "<Figure size 504x288 with 0 Axes>"
      ]
     },
     "metadata": {},
     "output_type": "display_data"
    },
    {
     "data": {
      "text/plain": [
       "<Figure size 504x288 with 0 Axes>"
      ]
     },
     "metadata": {},
     "output_type": "display_data"
    },
    {
     "data": {
      "text/plain": [
       "<Figure size 504x288 with 0 Axes>"
      ]
     },
     "metadata": {},
     "output_type": "display_data"
    },
    {
     "data": {
      "text/plain": [
       "<Figure size 504x288 with 0 Axes>"
      ]
     },
     "metadata": {},
     "output_type": "display_data"
    },
    {
     "data": {
      "text/plain": [
       "<Figure size 504x288 with 0 Axes>"
      ]
     },
     "metadata": {},
     "output_type": "display_data"
    },
    {
     "data": {
      "text/plain": [
       "<Figure size 504x288 with 0 Axes>"
      ]
     },
     "metadata": {},
     "output_type": "display_data"
    },
    {
     "data": {
      "text/plain": [
       "<Figure size 504x288 with 0 Axes>"
      ]
     },
     "metadata": {},
     "output_type": "display_data"
    },
    {
     "data": {
      "text/plain": [
       "<Figure size 504x288 with 0 Axes>"
      ]
     },
     "metadata": {},
     "output_type": "display_data"
    },
    {
     "data": {
      "text/plain": [
       "<Figure size 504x288 with 0 Axes>"
      ]
     },
     "metadata": {},
     "output_type": "display_data"
    },
    {
     "data": {
      "text/plain": [
       "<Figure size 504x288 with 0 Axes>"
      ]
     },
     "metadata": {},
     "output_type": "display_data"
    },
    {
     "data": {
      "text/plain": [
       "<Figure size 504x288 with 0 Axes>"
      ]
     },
     "metadata": {},
     "output_type": "display_data"
    },
    {
     "data": {
      "text/plain": [
       "<Figure size 504x288 with 0 Axes>"
      ]
     },
     "metadata": {},
     "output_type": "display_data"
    },
    {
     "data": {
      "text/plain": [
       "<Figure size 504x288 with 0 Axes>"
      ]
     },
     "metadata": {},
     "output_type": "display_data"
    },
    {
     "data": {
      "text/plain": [
       "<Figure size 504x288 with 0 Axes>"
      ]
     },
     "metadata": {},
     "output_type": "display_data"
    },
    {
     "data": {
      "text/plain": [
       "<Figure size 504x288 with 0 Axes>"
      ]
     },
     "metadata": {},
     "output_type": "display_data"
    },
    {
     "data": {
      "text/plain": [
       "<Figure size 504x288 with 0 Axes>"
      ]
     },
     "metadata": {},
     "output_type": "display_data"
    },
    {
     "data": {
      "text/plain": [
       "<Figure size 504x288 with 0 Axes>"
      ]
     },
     "metadata": {},
     "output_type": "display_data"
    },
    {
     "data": {
      "text/plain": [
       "<Figure size 504x288 with 0 Axes>"
      ]
     },
     "metadata": {},
     "output_type": "display_data"
    },
    {
     "data": {
      "text/plain": [
       "<Figure size 504x288 with 0 Axes>"
      ]
     },
     "metadata": {},
     "output_type": "display_data"
    },
    {
     "data": {
      "text/plain": [
       "<Figure size 504x288 with 0 Axes>"
      ]
     },
     "metadata": {},
     "output_type": "display_data"
    },
    {
     "data": {
      "text/plain": [
       "<Figure size 504x288 with 0 Axes>"
      ]
     },
     "metadata": {},
     "output_type": "display_data"
    },
    {
     "data": {
      "text/plain": [
       "<Figure size 504x288 with 0 Axes>"
      ]
     },
     "metadata": {},
     "output_type": "display_data"
    },
    {
     "data": {
      "text/plain": [
       "<Figure size 504x288 with 0 Axes>"
      ]
     },
     "metadata": {},
     "output_type": "display_data"
    },
    {
     "data": {
      "text/plain": [
       "<Figure size 504x288 with 0 Axes>"
      ]
     },
     "metadata": {},
     "output_type": "display_data"
    },
    {
     "data": {
      "text/plain": [
       "<Figure size 504x288 with 0 Axes>"
      ]
     },
     "metadata": {},
     "output_type": "display_data"
    },
    {
     "data": {
      "text/plain": [
       "<Figure size 504x288 with 0 Axes>"
      ]
     },
     "metadata": {},
     "output_type": "display_data"
    },
    {
     "data": {
      "text/plain": [
       "<Figure size 504x288 with 0 Axes>"
      ]
     },
     "metadata": {},
     "output_type": "display_data"
    },
    {
     "data": {
      "text/plain": [
       "<Figure size 504x288 with 0 Axes>"
      ]
     },
     "metadata": {},
     "output_type": "display_data"
    },
    {
     "data": {
      "text/plain": [
       "<Figure size 504x288 with 0 Axes>"
      ]
     },
     "metadata": {},
     "output_type": "display_data"
    },
    {
     "data": {
      "text/plain": [
       "<Figure size 504x288 with 0 Axes>"
      ]
     },
     "metadata": {},
     "output_type": "display_data"
    },
    {
     "data": {
      "text/plain": [
       "<Figure size 504x288 with 0 Axes>"
      ]
     },
     "metadata": {},
     "output_type": "display_data"
    },
    {
     "data": {
      "text/plain": [
       "<Figure size 504x288 with 0 Axes>"
      ]
     },
     "metadata": {},
     "output_type": "display_data"
    },
    {
     "data": {
      "text/plain": [
       "<Figure size 504x288 with 0 Axes>"
      ]
     },
     "metadata": {},
     "output_type": "display_data"
    },
    {
     "data": {
      "text/plain": [
       "<Figure size 504x288 with 0 Axes>"
      ]
     },
     "metadata": {},
     "output_type": "display_data"
    },
    {
     "data": {
      "text/plain": [
       "<Figure size 504x288 with 0 Axes>"
      ]
     },
     "metadata": {},
     "output_type": "display_data"
    },
    {
     "data": {
      "text/plain": [
       "<Figure size 504x288 with 0 Axes>"
      ]
     },
     "metadata": {},
     "output_type": "display_data"
    },
    {
     "data": {
      "text/plain": [
       "<Figure size 504x288 with 0 Axes>"
      ]
     },
     "metadata": {},
     "output_type": "display_data"
    },
    {
     "data": {
      "text/plain": [
       "<Figure size 504x288 with 0 Axes>"
      ]
     },
     "metadata": {},
     "output_type": "display_data"
    },
    {
     "data": {
      "text/plain": [
       "<Figure size 504x288 with 0 Axes>"
      ]
     },
     "metadata": {},
     "output_type": "display_data"
    },
    {
     "data": {
      "text/plain": [
       "<Figure size 504x288 with 0 Axes>"
      ]
     },
     "metadata": {},
     "output_type": "display_data"
    },
    {
     "data": {
      "text/plain": [
       "<Figure size 504x288 with 0 Axes>"
      ]
     },
     "metadata": {},
     "output_type": "display_data"
    },
    {
     "data": {
      "text/plain": [
       "<Figure size 504x288 with 0 Axes>"
      ]
     },
     "metadata": {},
     "output_type": "display_data"
    },
    {
     "data": {
      "text/plain": [
       "<Figure size 504x288 with 0 Axes>"
      ]
     },
     "metadata": {},
     "output_type": "display_data"
    },
    {
     "data": {
      "text/plain": [
       "<Figure size 504x288 with 0 Axes>"
      ]
     },
     "metadata": {},
     "output_type": "display_data"
    },
    {
     "data": {
      "text/plain": [
       "<Figure size 504x288 with 0 Axes>"
      ]
     },
     "metadata": {},
     "output_type": "display_data"
    },
    {
     "data": {
      "text/plain": [
       "<Figure size 504x288 with 0 Axes>"
      ]
     },
     "metadata": {},
     "output_type": "display_data"
    },
    {
     "data": {
      "text/plain": [
       "<Figure size 504x288 with 0 Axes>"
      ]
     },
     "metadata": {},
     "output_type": "display_data"
    },
    {
     "data": {
      "text/plain": [
       "<Figure size 504x288 with 0 Axes>"
      ]
     },
     "metadata": {},
     "output_type": "display_data"
    },
    {
     "data": {
      "text/plain": [
       "<Figure size 504x288 with 0 Axes>"
      ]
     },
     "metadata": {},
     "output_type": "display_data"
    },
    {
     "data": {
      "text/plain": [
       "<Figure size 504x288 with 0 Axes>"
      ]
     },
     "metadata": {},
     "output_type": "display_data"
    },
    {
     "data": {
      "text/plain": [
       "<Figure size 504x288 with 0 Axes>"
      ]
     },
     "metadata": {},
     "output_type": "display_data"
    },
    {
     "data": {
      "text/plain": [
       "<Figure size 504x288 with 0 Axes>"
      ]
     },
     "metadata": {},
     "output_type": "display_data"
    },
    {
     "data": {
      "text/plain": [
       "<Figure size 504x288 with 0 Axes>"
      ]
     },
     "metadata": {},
     "output_type": "display_data"
    },
    {
     "data": {
      "text/plain": [
       "<Figure size 504x288 with 0 Axes>"
      ]
     },
     "metadata": {},
     "output_type": "display_data"
    },
    {
     "data": {
      "text/plain": [
       "<Figure size 504x288 with 0 Axes>"
      ]
     },
     "metadata": {},
     "output_type": "display_data"
    },
    {
     "data": {
      "text/plain": [
       "<Figure size 504x288 with 0 Axes>"
      ]
     },
     "metadata": {},
     "output_type": "display_data"
    },
    {
     "data": {
      "text/plain": [
       "<Figure size 504x288 with 0 Axes>"
      ]
     },
     "metadata": {},
     "output_type": "display_data"
    },
    {
     "data": {
      "text/plain": [
       "<Figure size 504x288 with 0 Axes>"
      ]
     },
     "metadata": {},
     "output_type": "display_data"
    },
    {
     "data": {
      "text/plain": [
       "<Figure size 504x288 with 0 Axes>"
      ]
     },
     "metadata": {},
     "output_type": "display_data"
    },
    {
     "data": {
      "text/plain": [
       "<Figure size 504x288 with 0 Axes>"
      ]
     },
     "metadata": {},
     "output_type": "display_data"
    },
    {
     "data": {
      "text/plain": [
       "<Figure size 504x288 with 0 Axes>"
      ]
     },
     "metadata": {},
     "output_type": "display_data"
    },
    {
     "data": {
      "text/plain": [
       "<Figure size 504x288 with 0 Axes>"
      ]
     },
     "metadata": {},
     "output_type": "display_data"
    },
    {
     "data": {
      "text/plain": [
       "<Figure size 504x288 with 0 Axes>"
      ]
     },
     "metadata": {},
     "output_type": "display_data"
    },
    {
     "data": {
      "text/plain": [
       "<Figure size 504x288 with 0 Axes>"
      ]
     },
     "metadata": {},
     "output_type": "display_data"
    },
    {
     "data": {
      "text/plain": [
       "<Figure size 504x288 with 0 Axes>"
      ]
     },
     "metadata": {},
     "output_type": "display_data"
    },
    {
     "data": {
      "text/plain": [
       "<Figure size 504x288 with 0 Axes>"
      ]
     },
     "metadata": {},
     "output_type": "display_data"
    },
    {
     "data": {
      "text/plain": [
       "<Figure size 504x288 with 0 Axes>"
      ]
     },
     "metadata": {},
     "output_type": "display_data"
    },
    {
     "data": {
      "text/plain": [
       "<Figure size 504x288 with 0 Axes>"
      ]
     },
     "metadata": {},
     "output_type": "display_data"
    },
    {
     "data": {
      "text/plain": [
       "<Figure size 504x288 with 0 Axes>"
      ]
     },
     "metadata": {},
     "output_type": "display_data"
    },
    {
     "data": {
      "text/plain": [
       "<Figure size 504x288 with 0 Axes>"
      ]
     },
     "metadata": {},
     "output_type": "display_data"
    },
    {
     "data": {
      "text/plain": [
       "<Figure size 504x288 with 0 Axes>"
      ]
     },
     "metadata": {},
     "output_type": "display_data"
    },
    {
     "data": {
      "text/plain": [
       "<Figure size 504x288 with 0 Axes>"
      ]
     },
     "metadata": {},
     "output_type": "display_data"
    },
    {
     "data": {
      "text/plain": [
       "<Figure size 504x288 with 0 Axes>"
      ]
     },
     "metadata": {},
     "output_type": "display_data"
    },
    {
     "data": {
      "text/plain": [
       "<Figure size 504x288 with 0 Axes>"
      ]
     },
     "metadata": {},
     "output_type": "display_data"
    },
    {
     "data": {
      "text/plain": [
       "<Figure size 504x288 with 0 Axes>"
      ]
     },
     "metadata": {},
     "output_type": "display_data"
    },
    {
     "data": {
      "text/plain": [
       "<Figure size 504x288 with 0 Axes>"
      ]
     },
     "metadata": {},
     "output_type": "display_data"
    },
    {
     "data": {
      "text/plain": [
       "<Figure size 504x288 with 0 Axes>"
      ]
     },
     "metadata": {},
     "output_type": "display_data"
    },
    {
     "data": {
      "text/plain": [
       "<Figure size 504x288 with 0 Axes>"
      ]
     },
     "metadata": {},
     "output_type": "display_data"
    },
    {
     "data": {
      "text/plain": [
       "<Figure size 504x288 with 0 Axes>"
      ]
     },
     "metadata": {},
     "output_type": "display_data"
    },
    {
     "data": {
      "text/plain": [
       "<Figure size 504x288 with 0 Axes>"
      ]
     },
     "metadata": {},
     "output_type": "display_data"
    },
    {
     "data": {
      "text/plain": [
       "<Figure size 504x288 with 0 Axes>"
      ]
     },
     "metadata": {},
     "output_type": "display_data"
    },
    {
     "data": {
      "text/plain": [
       "<Figure size 504x288 with 0 Axes>"
      ]
     },
     "metadata": {},
     "output_type": "display_data"
    },
    {
     "data": {
      "text/plain": [
       "<Figure size 504x288 with 0 Axes>"
      ]
     },
     "metadata": {},
     "output_type": "display_data"
    },
    {
     "data": {
      "text/plain": [
       "<Figure size 504x288 with 0 Axes>"
      ]
     },
     "metadata": {},
     "output_type": "display_data"
    },
    {
     "data": {
      "text/plain": [
       "<Figure size 504x288 with 0 Axes>"
      ]
     },
     "metadata": {},
     "output_type": "display_data"
    },
    {
     "data": {
      "text/plain": [
       "<Figure size 504x288 with 0 Axes>"
      ]
     },
     "metadata": {},
     "output_type": "display_data"
    },
    {
     "data": {
      "text/plain": [
       "<Figure size 504x288 with 0 Axes>"
      ]
     },
     "metadata": {},
     "output_type": "display_data"
    },
    {
     "data": {
      "text/plain": [
       "<Figure size 504x288 with 0 Axes>"
      ]
     },
     "metadata": {},
     "output_type": "display_data"
    },
    {
     "data": {
      "text/plain": [
       "<Figure size 504x288 with 0 Axes>"
      ]
     },
     "metadata": {},
     "output_type": "display_data"
    },
    {
     "data": {
      "text/plain": [
       "<Figure size 504x288 with 0 Axes>"
      ]
     },
     "metadata": {},
     "output_type": "display_data"
    },
    {
     "data": {
      "text/plain": [
       "<Figure size 504x288 with 0 Axes>"
      ]
     },
     "metadata": {},
     "output_type": "display_data"
    },
    {
     "data": {
      "text/plain": [
       "<Figure size 504x288 with 0 Axes>"
      ]
     },
     "metadata": {},
     "output_type": "display_data"
    },
    {
     "data": {
      "text/plain": [
       "<Figure size 504x288 with 0 Axes>"
      ]
     },
     "metadata": {},
     "output_type": "display_data"
    },
    {
     "data": {
      "text/plain": [
       "<Figure size 504x288 with 0 Axes>"
      ]
     },
     "metadata": {},
     "output_type": "display_data"
    },
    {
     "data": {
      "text/plain": [
       "<Figure size 504x288 with 0 Axes>"
      ]
     },
     "metadata": {},
     "output_type": "display_data"
    },
    {
     "data": {
      "text/plain": [
       "<Figure size 504x288 with 0 Axes>"
      ]
     },
     "metadata": {},
     "output_type": "display_data"
    },
    {
     "data": {
      "text/plain": [
       "<Figure size 504x288 with 0 Axes>"
      ]
     },
     "metadata": {},
     "output_type": "display_data"
    },
    {
     "data": {
      "text/plain": [
       "<Figure size 504x288 with 0 Axes>"
      ]
     },
     "metadata": {},
     "output_type": "display_data"
    },
    {
     "data": {
      "text/plain": [
       "<Figure size 504x288 with 0 Axes>"
      ]
     },
     "metadata": {},
     "output_type": "display_data"
    },
    {
     "data": {
      "text/plain": [
       "<Figure size 504x288 with 0 Axes>"
      ]
     },
     "metadata": {},
     "output_type": "display_data"
    },
    {
     "data": {
      "text/plain": [
       "<Figure size 504x288 with 0 Axes>"
      ]
     },
     "metadata": {},
     "output_type": "display_data"
    },
    {
     "data": {
      "text/plain": [
       "<Figure size 504x288 with 0 Axes>"
      ]
     },
     "metadata": {},
     "output_type": "display_data"
    },
    {
     "data": {
      "text/plain": [
       "<Figure size 504x288 with 0 Axes>"
      ]
     },
     "metadata": {},
     "output_type": "display_data"
    },
    {
     "data": {
      "text/plain": [
       "<Figure size 504x288 with 0 Axes>"
      ]
     },
     "metadata": {},
     "output_type": "display_data"
    },
    {
     "data": {
      "text/plain": [
       "<Figure size 504x288 with 0 Axes>"
      ]
     },
     "metadata": {},
     "output_type": "display_data"
    },
    {
     "data": {
      "text/plain": [
       "<Figure size 504x288 with 0 Axes>"
      ]
     },
     "metadata": {},
     "output_type": "display_data"
    }
   ],
   "source": [
    "i = 1\n",
    "for index, row in mp3_fpa_df_period.iterrows():\n",
    "    fpa_identifier = f\"{row['Circuit Family']}_{row['Circuit Name']}_{int(row['timestamp_fgc'])}\"\n",
    "    fig_dir = str(plots_path / (fpa_identifier+\".png\"))\n",
    "    data_dir = data_path / (fpa_identifier + \".hdf5\")\n",
    "    if not os.path.isfile(fig_dir):\n",
    "        df_subset = mp3_fpa_df[(mp3_fpa_df.timestamp_fgc == int(row['timestamp_fgc'])) & (mp3_fpa_df[\"Circuit Name\"] == row['Circuit Name'])]\n",
    "\n",
    "        df_data_nxcals = load_u_diode_nxcals(data_dir)\n",
    "        fig, ax = plt.subplots(figsize=(7,4))\n",
    "        quenc_times = df_subset['Delta_t(iQPS-PIC)'].values\n",
    "        for quenc_time in quenc_times:\n",
    "            ax.axvline(quenc_time/1e3, color='b', linestyle='--', label=\"time of next quench\")\n",
    "        df_data_nxcals.plot(legend=False, ax = ax)\n",
    "\n",
    "        ax.set_xlabel(\"Time \\ s\")\n",
    "        ax.set_ylabel(\"Voltage \\ V\")\n",
    "\n",
    "        plt.savefig(fig_dir)\n",
    "        fig.clf()\n",
    "    print(f\"{i}/{len(mp3_fpa_df_period)} plotted\" )\n",
    "    i +=1\n",
    "    "
   ]
  },
  {
   "cell_type": "code",
   "execution_count": null,
   "id": "c81a1697",
   "metadata": {},
   "outputs": [],
   "source": [
    "df_data_nxcals"
   ]
  },
  {
   "cell_type": "code",
   "execution_count": null,
   "id": "7d4e7806",
   "metadata": {},
   "outputs": [],
   "source": []
  }
 ],
 "metadata": {
  "kernelspec": {
   "display_name": "Python 3",
   "language": "python",
   "name": "python3"
  },
  "language_info": {
   "codemirror_mode": {
    "name": "ipython",
    "version": 3
   },
   "file_extension": ".py",
   "mimetype": "text/x-python",
   "name": "python",
   "nbconvert_exporter": "python",
   "pygments_lexer": "ipython3",
   "version": "3.8.6"
  },
  "sparkconnect": {
   "bundled_options": [
    "NXCALS",
    "SparkMetrics"
   ],
   "list_of_options": []
  }
 },
 "nbformat": 4,
 "nbformat_minor": 5
}
