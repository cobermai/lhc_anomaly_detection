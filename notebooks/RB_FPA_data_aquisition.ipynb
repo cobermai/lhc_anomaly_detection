{
 "cells": [
  {
   "cell_type": "markdown",
   "id": "de62fb17",
   "metadata": {},
   "source": [
    "# Import libraries"
   ]
  },
  {
   "cell_type": "code",
   "execution_count": 1,
   "id": "28e55775",
   "metadata": {},
   "outputs": [],
   "source": [
    "import sys\n",
    "from pathlib import Path\n",
    "sys.path.insert(0,'..')\n",
    "import glob\n",
    "#!pip install openpyxl"
   ]
  },
  {
   "cell_type": "code",
   "execution_count": 2,
   "id": "c7662299",
   "metadata": {},
   "outputs": [
    {
     "name": "stderr",
     "output_type": "stream",
     "text": [
      "`np.float` is a deprecated alias for the builtin `float`. To silence this warning, use `float` by itself. Doing this will not modify any behavior and is safe. If you specifically wanted the numpy scalar type, use `np.float64` here.\n",
      "Deprecated in NumPy 1.20; for more details and guidance: https://numpy.org/devdocs/release/1.20.0-notes.html#deprecations\n",
      "`np.float` is a deprecated alias for the builtin `float`. To silence this warning, use `float` by itself. Doing this will not modify any behavior and is safe. If you specifically wanted the numpy scalar type, use `np.float64` here.\n",
      "Deprecated in NumPy 1.20; for more details and guidance: https://numpy.org/devdocs/release/1.20.0-notes.html#deprecations\n",
      "`np.float` is a deprecated alias for the builtin `float`. To silence this warning, use `float` by itself. Doing this will not modify any behavior and is safe. If you specifically wanted the numpy scalar type, use `np.float64` here.\n",
      "Deprecated in NumPy 1.20; for more details and guidance: https://numpy.org/devdocs/release/1.20.0-notes.html#deprecations\n",
      "`np.float` is a deprecated alias for the builtin `float`. To silence this warning, use `float` by itself. Doing this will not modify any behavior and is safe. If you specifically wanted the numpy scalar type, use `np.float64` here.\n",
      "Deprecated in NumPy 1.20; for more details and guidance: https://numpy.org/devdocs/release/1.20.0-notes.html#deprecations\n",
      "`np.float` is a deprecated alias for the builtin `float`. To silence this warning, use `float` by itself. Doing this will not modify any behavior and is safe. If you specifically wanted the numpy scalar type, use `np.float64` here.\n",
      "Deprecated in NumPy 1.20; for more details and guidance: https://numpy.org/devdocs/release/1.20.0-notes.html#deprecations\n",
      "`np.float` is a deprecated alias for the builtin `float`. To silence this warning, use `float` by itself. Doing this will not modify any behavior and is safe. If you specifically wanted the numpy scalar type, use `np.float64` here.\n",
      "Deprecated in NumPy 1.20; for more details and guidance: https://numpy.org/devdocs/release/1.20.0-notes.html#deprecations\n",
      "`np.float` is a deprecated alias for the builtin `float`. To silence this warning, use `float` by itself. Doing this will not modify any behavior and is safe. If you specifically wanted the numpy scalar type, use `np.float64` here.\n",
      "Deprecated in NumPy 1.20; for more details and guidance: https://numpy.org/devdocs/release/1.20.0-notes.html#deprecations\n",
      "`np.float` is a deprecated alias for the builtin `float`. To silence this warning, use `float` by itself. Doing this will not modify any behavior and is safe. If you specifically wanted the numpy scalar type, use `np.float64` here.\n",
      "Deprecated in NumPy 1.20; for more details and guidance: https://numpy.org/devdocs/release/1.20.0-notes.html#deprecations\n",
      "`np.float` is a deprecated alias for the builtin `float`. To silence this warning, use `float` by itself. Doing this will not modify any behavior and is safe. If you specifically wanted the numpy scalar type, use `np.float64` here.\n",
      "Deprecated in NumPy 1.20; for more details and guidance: https://numpy.org/devdocs/release/1.20.0-notes.html#deprecations\n"
     ]
    }
   ],
   "source": [
    "import os\n",
    "import sys\n",
    "import pandas as pd\n",
    "import numpy as np\n",
    "import pickle\n",
    "import matplotlib.pyplot as plt\n",
    "import h5py\n",
    "import re\n",
    "\n",
    "from functools import partial\n",
    "from multiprocessing import Pool\n",
    "\n",
    "from lhcsmapi.Time import Time\n",
    "from lhcsmapi.metadata import signal_metadata\n",
    "from lhcsmapi.pyedsl.dbsignal.post_mortem.PmDbRequest import PmDbRequest\n",
    "from lhcsmapi.analysis.RbCircuitQuery import RbCircuitQuery\n",
    "\n",
    "from src.acquisitions.current_voltage_diode_leads_nxcals import CurrentVoltageDiodeLeadsNXCALS\n",
    "from src.acquisitions.current_voltage_diode_leads_pm import CurrentVoltageDiodeLeadsPM\n",
    "from src.acquisitions.ee_t_res_pm import EETResPM\n",
    "from src.acquisitions.ee_u_dump_res_pm import EEUDumpResPM\n",
    "from src.acquisitions.leads import Leads\n",
    "from src.acquisitions.pc_pm import PCPM\n",
    "from src.acquisitions.qh_pm import QHPM\n",
    "from src.acquisitions.voltage_logic_iqps import VoltageLogicIQPS\n",
    "from src.acquisitions.voltage_nqps import VoltageNQPS\n",
    "from src.acquisitions.voltage_nxcals import VoltageNXCALS\n",
    "\n",
    "from src.utils.utils import log_acquisition\n",
    "from src.utils.hdf_tools import acquisition_to_hdf5, load_from_hdf_with_regex\n",
    "from src.utils.mp3_excel_processing import get_fgc_timestamp, get_fgc_timestamp_missing\n",
    "from src.visualisation.visualisation import plot_hdf"
   ]
  },
  {
   "cell_type": "markdown",
   "id": "cd937e9f",
   "metadata": {},
   "source": [
    "# Select events to download"
   ]
  },
  {
   "cell_type": "code",
   "execution_count": 3,
   "id": "be19fc57",
   "metadata": {},
   "outputs": [],
   "source": [
    "mp3_fpa_df = pd.read_csv(\"../data/RB_TC_extract_2021_11_22_processed.csv\")\n",
    "mp3_fpa_df_unique = mp3_fpa_df.drop_duplicates(subset=['timestamp_fgc', 'Circuit Name'])"
   ]
  },
  {
   "cell_type": "code",
   "execution_count": 4,
   "id": "6524a86a",
   "metadata": {},
   "outputs": [
    {
     "data": {
      "text/plain": [
       "561"
      ]
     },
     "execution_count": 4,
     "metadata": {},
     "output_type": "execute_result"
    }
   ],
   "source": [
    "lower_limit = Time.to_unix_timestamp('2021-01-01 00:00:00+01:00')\n",
    "mp3_fpa_df_period = mp3_fpa_df_unique[mp3_fpa_df_unique['timestamp_fgc'] >= lower_limit].reset_index(drop=True) \n",
    "len(mp3_fpa_df_period)"
   ]
  },
  {
   "cell_type": "code",
   "execution_count": 5,
   "id": "3a4a09f6",
   "metadata": {},
   "outputs": [],
   "source": [
    "signal_groups = [PCPM, VoltageNXCALS, VoltageNQPS, VoltageLogicIQPS, EEUDumpResPM, QHPM]\n",
    "file_dir = Path('/eos/project/m/ml-for-alarm-system/private/RB_signals')"
   ]
  },
  {
   "cell_type": "markdown",
   "id": "d38ea646",
   "metadata": {},
   "source": [
    "## Test query"
   ]
  },
  {
   "cell_type": "code",
   "execution_count": 6,
   "id": "ddb2306c",
   "metadata": {},
   "outputs": [],
   "source": [
    "signal_groups = [VoltageNXCALS, VoltageNQPS]\n",
    "file_dir = Path('/eos/project/m/ml-for-alarm-system/private/RB_signals')"
   ]
  },
  {
   "cell_type": "code",
   "execution_count": 7,
   "id": "d2185d39",
   "metadata": {},
   "outputs": [],
   "source": [
    "# quench with precursor\n",
    "fpa_identifier = {'circuit_type': 'RB',\n",
    "                 'circuit_name': 'RB.A78',\n",
    "                 'timestamp_fgc': 1616962174400000000}\n",
    "\n",
    "# udiode not available\n",
    "fpa_identifier = {'circuit_type': 'RB',\n",
    "                 'circuit_name': 'RB.A45',\n",
    "                 'timestamp_fgc': 1619328389660000000}"
   ]
  },
  {
   "cell_type": "code",
   "execution_count": null,
   "id": "27819830",
   "metadata": {},
   "outputs": [
    {
     "name": "stdout",
     "output_type": "stream",
     "text": [
      "\tQuerying NXCALS signal(s) MB.A8R4:U_DIODE_RB, MB.B8R4:U_DIODE_RB, MB.A9R4:U_DIODE_RB, MB.B9R4:U_DIODE_RB, MB.A10R4:U_DIODE_RB... from 2021-04-25 07:25:39.660 to 2021-04-25 07:34:49.660\n",
      "\tQuerying NXCALS signal(s) MB.A8R4:U_EARTH_RB, MB.B8R4:U_EARTH_RB, MB.A11R4:U_EARTH_RB, MB.B10R4:U_EARTH_RB, MB.B13R4:U_EARTH_RB... from 2021-04-25 07:25:39.660 to 2021-04-25 07:34:49.660\n"
     ]
    }
   ],
   "source": [
    "context_path = file_dir / \"context_test1\"\n",
    "\n",
    "for signal_group in signal_groups:\n",
    "    group = signal_group(**fpa_identifier, spark=spark)\n",
    "    acquisition_to_hdf5(acquisition=group, \n",
    "                        file_dir=file_dir, \n",
    "                        context_dir_name=\"context_test1\",\n",
    "                        failed_queries_dir_name=\"failed_test1\",\n",
    "                        data_dir_name=\"data_test1\")\n",
    "        \n",
    "log_acquisition(identifier=fpa_identifier, log_data={\"download_complete\": True}, log_path=context_path)"
   ]
  },
  {
   "cell_type": "markdown",
   "id": "70688c74",
   "metadata": {},
   "source": [
    "## Load data"
   ]
  },
  {
   "cell_type": "code",
   "execution_count": null,
   "id": "fe0bc150",
   "metadata": {},
   "outputs": [],
   "source": [
    "file_name = f\"{fpa_identifier['circuit_type']}_{fpa_identifier['circuit_name']}_{fpa_identifier['timestamp_fgc']}.hdf5\"\n",
    "file_path = file_dir / Path('data_test1') / file_name\n",
    "\n",
    "signals = ['I_MEAS','VoltageNQPS.*U_DIODE','VoltageNXCALS.*U_DIODE','I_EARTH_PCNT', 'IEARTH.I_EARTH','U_QS0','U_1','U_2','I_HDS', 'U_HDS','EEUDumpResPM']\n",
    "len(signals)"
   ]
  },
  {
   "cell_type": "code",
   "execution_count": null,
   "id": "5d1dc84d",
   "metadata": {},
   "outputs": [],
   "source": [
    "data = load_from_hdf_with_regex(file_path)"
   ]
  },
  {
   "cell_type": "code",
   "execution_count": null,
   "id": "f9225787",
   "metadata": {},
   "outputs": [],
   "source": [
    "plot_hdf(data, column_regex=['I_MEAS','VoltageNQPS.*U_DIODE','VoltageNXCALS.*U_DIODE','I_EARTH_PCNT', 'IEARTH.I_EARTH'])"
   ]
  },
  {
   "cell_type": "markdown",
   "id": "353c19e2",
   "metadata": {},
   "source": [
    "# Test"
   ]
  },
  {
   "cell_type": "code",
   "execution_count": null,
   "id": "95d62c02",
   "metadata": {},
   "outputs": [],
   "source": [
    "from src.utils.hdf_tools import df_to_hdf, append_or_overwrite_hdf_group"
   ]
  },
  {
   "cell_type": "code",
   "execution_count": null,
   "id": "2fa8dfa1",
   "metadata": {},
   "outputs": [],
   "source": [
    "df_to_hdf\n",
    "\n",
    "df = pd.DataFrame({\"test\":[1,2,3],\"test1\":[6,2,6]})\n",
    "\n",
    "df_to_hdf(file_path=Path(\"test.hdf5\"), df=df, hdf_dir=\"test_group\")"
   ]
  },
  {
   "cell_type": "code",
   "execution_count": null,
   "id": "6184d7cc",
   "metadata": {},
   "outputs": [],
   "source": [
    "data = load_from_hdf_with_regex(file_path=Path(\"test.hdf5\"))\n",
    "data"
   ]
  },
  {
   "cell_type": "markdown",
   "id": "9b1bf5b8",
   "metadata": {},
   "source": [
    "## Query all FGC events"
   ]
  },
  {
   "cell_type": "code",
   "execution_count": null,
   "id": "f7a829bf",
   "metadata": {},
   "outputs": [],
   "source": [
    "Time.to_unix_timestamp('2021-01-01 00:00:00+01:00')"
   ]
  },
  {
   "cell_type": "code",
   "execution_count": null,
   "id": "cf70a41c",
   "metadata": {},
   "outputs": [],
   "source": [
    "# Time.to_string(1514761200000000000), Time.to_unix_timestamp('2018-01-01 00:00:00+01:00')\n",
    "mp3_fpa_df_period = mp3_fpa_df_unique[mp3_fpa_df_unique['timestamp_fgc'] >= 1609455600000000000].reset_index(drop=True) \n",
    "len(mp3_fpa_df_period)\n",
    "\n",
    "signals = ['I_MEAS','VoltageNQPS.*U_DIODE','VoltageNXCALS.*U_DIODE','I_EARTH_PCNT', 'IEARTH.I_EARTH','U_QS0','U_1','U_2','I_HDS', 'U_HDS','EEUDumpResPM']"
   ]
  },
  {
   "cell_type": "code",
   "execution_count": null,
   "id": "434809ed",
   "metadata": {
    "scrolled": false
   },
   "outputs": [],
   "source": [
    "for index, row in mp3_fpa_df_period.iterrows():\n",
    "    \n",
    "    fpa_identifier = {'circuit_type': row['Circuit Family'],\n",
    "                      'circuit_name': row['Circuit Name'],\n",
    "                      'timestamp_fgc': int(row['timestamp_fgc'])}\n",
    "    file_name = f\"{fpa_identifier['circuit_type']}_{fpa_identifier['circuit_name']}_{fpa_identifier['timestamp_fgc']}.hdf5\"\n",
    "    Path(file_dir / Path('20220624_plots')).mkdir(parents=True, exist_ok=True)\n",
    "    \n",
    "    if not os.path.isfile(str(file_dir / Path('20220624_plots') / f\"{fpa_identifier['circuit_type']}_{fpa_identifier['circuit_name']}_{fpa_identifier['timestamp_fgc']}.png\")):\n",
    "        for signal_group in signal_groups:\n",
    "            group = signal_group(**fpa_identifier, spark=spark)\n",
    "            acquisition_to_hdf5(acquisition=group, \n",
    "                                file_dir=file_dir,\n",
    "                                context_dir_name=\"20220624_context\",\n",
    "                                failed_queries_dir_name=\"20220624_failed\",\n",
    "                                data_dir_name=\"20220624_data\")\n",
    "\n",
    "        log_acquisition(identifier=fpa_identifier, log_data={\"download_complete\": True}, log_path=context_path)\n",
    "\n",
    "        file_path = file_dir / Path('20220624_data') / file_name\n",
    "        data = load_from_hdf_with_regex(file_path)\n",
    "        fig = plt.figure(figsize=(20, 15))\n",
    "        for i, s in enumerate(signals):\n",
    "            fig.add_subplot(4, 3, i+1)\n",
    "            n_signals = 0\n",
    "            for df in data:\n",
    "                if bool(re.search(s, df.columns.values[0])):\n",
    "                    plt.plot(df.index.values, df.values)\n",
    "                    n_signals += 1\n",
    "            plt.title(f\"{s} ({n_signals})\")\n",
    "\n",
    "        plt.savefig(str(file_dir / Path('20220624_plots') / f\"{fpa_identifier['circuit_type']}_{fpa_identifier['circuit_name']}_{fpa_identifier['timestamp_fgc']}.png\"))\n",
    "        plt.close()\n",
    "    else:\n",
    "        print(f\"done: {file_name}\")"
   ]
  },
  {
   "cell_type": "code",
   "execution_count": null,
   "id": "987d0b5f",
   "metadata": {},
   "outputs": [],
   "source": []
  },
  {
   "cell_type": "code",
   "execution_count": null,
   "id": "a8f4cbf3",
   "metadata": {},
   "outputs": [],
   "source": [
    "    file_path = file_dir / Path('20220624_data') / file_name\n",
    "    data = load_from_hdf_with_regex(file_path)\n",
    "    fig = plt.figure(figsize=(20, 15))\n",
    "    for i, s in enumerate(signals):\n",
    "        fig.add_subplot(4, 3, i+1)\n",
    "        n_signals = 0\n",
    "        for df in data:\n",
    "            if bool(re.search(s, df.columns.values[0])):\n",
    "                plt.plot(df.index.values, df.values)\n",
    "                n_signals += 1\n",
    "        plt.title(f\"{s} ({n_signals})\")\n",
    "        \n",
    "    Path(file_dir / Path('20220624_plots')).mkdir(parents=True, exist_ok=True)\n",
    "    plt.savefig(str(file_dir / Path('20220624_plots') / f\"{fpa_identifier['circuit_type']}_{fpa_identifier['circuit_name']}_{fpa_identifier['timestamp_fgc']}.png\"))"
   ]
  },
  {
   "cell_type": "code",
   "execution_count": null,
   "id": "04f3e7a5",
   "metadata": {},
   "outputs": [],
   "source": []
  }
 ],
 "metadata": {
  "kernelspec": {
   "display_name": "Python 3",
   "language": "python",
   "name": "python3"
  },
  "language_info": {
   "codemirror_mode": {
    "name": "ipython",
    "version": 3
   },
   "file_extension": ".py",
   "mimetype": "text/x-python",
   "name": "python",
   "nbconvert_exporter": "python",
   "pygments_lexer": "ipython3",
   "version": "3.8.6"
  },
  "sparkconnect": {
   "bundled_options": [
    "NXCALS",
    "SparkMetrics"
   ],
   "list_of_options": []
  }
 },
 "nbformat": 4,
 "nbformat_minor": 5
}
