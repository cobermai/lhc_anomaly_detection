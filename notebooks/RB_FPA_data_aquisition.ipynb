{
 "cells": [
  {
   "cell_type": "markdown",
   "id": "de62fb17",
   "metadata": {},
   "source": [
    "# Import libraries"
   ]
  },
  {
   "cell_type": "code",
   "execution_count": null,
   "id": "28e55775",
   "metadata": {},
   "outputs": [],
   "source": [
    "import sys\n",
    "from pathlib import Path\n",
    "sys.path.insert(0,'..')\n",
    "import glob\n",
    "#!pip install openpyxl"
   ]
  },
  {
   "cell_type": "code",
   "execution_count": null,
   "id": "c7662299",
   "metadata": {},
   "outputs": [],
   "source": [
    "import os\n",
    "import sys\n",
    "import pandas as pd\n",
    "import numpy as np\n",
    "import pickle\n",
    "import matplotlib.pyplot as plt\n",
    "import h5py\n",
    "\n",
    "from functools import partial\n",
    "from multiprocessing import Pool\n",
    "\n",
    "from lhcsmapi.Time import Time\n",
    "from lhcsmapi.metadata import signal_metadata\n",
    "from lhcsmapi.pyedsl.dbsignal.post_mortem.PmDbRequest import PmDbRequest\n",
    "from lhcsmapi.analysis.RbCircuitQuery import RbCircuitQuery\n",
    "\n",
    "from src.acquisitions.current_voltage_diode_leads_nxcals import CurrentVoltageDiodeLeadsNXCALS\n",
    "from src.acquisitions.current_voltage_diode_leads_pm import CurrentVoltageDiodeLeadsPM\n",
    "from src.acquisitions.ee_t_res_pm import EETResPM\n",
    "from src.acquisitions.ee_u_dump_res_pm import EEUDumpResPM\n",
    "from src.acquisitions.leads import Leads\n",
    "from src.acquisitions.pc_pm import PCPM\n",
    "from src.acquisitions.qh_pm import QHPM\n",
    "from src.acquisitions.voltage_logic_iqps import VoltageLogicIQPS\n",
    "from src.acquisitions.voltage_nqps import VoltageNQPS\n",
    "from src.acquisitions.voltage_nxcals import VoltageNXCALS\n",
    "\n",
    "from src.utils.utils import log_acquisition\n",
    "from src.utils.hdf_tools import acquisition_to_hdf5, load_from_hdf_with_regex\n",
    "from src.utils.mp3_excel_processing import get_fgc_timestamp, get_fgc_timestamp_missing"
   ]
  },
  {
   "cell_type": "markdown",
   "id": "05fd1b1e",
   "metadata": {},
   "source": [
    "# Read the (clean) MP3 file"
   ]
  },
  {
   "cell_type": "code",
   "execution_count": null,
   "id": "a399d8a9",
   "metadata": {},
   "outputs": [],
   "source": [
    "mp3_fpa_df_raw = pd.read_excel(\"../data/RB_TC_extract_2021_11_22.xlsx\")\n",
    "len(mp3_fpa_df_raw)"
   ]
  },
  {
   "cell_type": "code",
   "execution_count": null,
   "id": "a8e46e55",
   "metadata": {},
   "outputs": [],
   "source": [
    "# First row contains units, 9 rows contain only \"Before Notebooks\" and \"After Notebooks\" information, which need to be droped\n",
    "mp3_fpa_df = mp3_fpa_df_raw.dropna(subset = ['Date (FGC)', 'Circuit Name'])\n",
    "mp3_fpa_df_raw.iloc[~mp3_fpa_df_raw.index.isin(mp3_fpa_df.index)] #show droped rows"
   ]
  },
  {
   "cell_type": "markdown",
   "id": "5f89d2d1",
   "metadata": {},
   "source": [
    "# Find FGC timestamp for each FPA event in MP3 excel"
   ]
  },
  {
   "cell_type": "code",
   "execution_count": null,
   "id": "efe61bf3",
   "metadata": {
    "scrolled": true
   },
   "outputs": [],
   "source": [
    "mp3_fpa_df['timestamp_fgc'] = mp3_fpa_df.apply(get_fgc_timestamp, axis=1)"
   ]
  },
  {
   "cell_type": "markdown",
   "id": "3b4cb5d4",
   "metadata": {},
   "source": [
    "# Find missing fgc timestamps in mp3 file"
   ]
  },
  {
   "cell_type": "code",
   "execution_count": null,
   "id": "10e173ff",
   "metadata": {},
   "outputs": [],
   "source": [
    "# some fgc timestamps have wrong hours\n",
    "mp3_fpa_df_primary_missing = mp3_fpa_df[(mp3_fpa_df.timestamp_fgc.isna()) & (mp3_fpa_df['Nr in Q event'] == 1)]\n",
    "mp3_fpa_df_primary_missing['timestamp_fgc'] = mp3_fpa_df_primary_missing.apply(get_fgc_timestamp_missing, axis=1)\n",
    "found_fgc_timestamps_df = mp3_fpa_df_primary_missing[\"timestamp_fgc\"].dropna()\n",
    "mp3_fpa_df.loc[found_fgc_timestamps_df.index, \"timestamp_fgc\"] = mp3_fpa_df_primary_missing[\"timestamp_fgc\"].dropna().values"
   ]
  },
  {
   "cell_type": "code",
   "execution_count": null,
   "id": "0df3202f",
   "metadata": {},
   "outputs": [],
   "source": [
    "print(f\"{len(mp3_fpa_df)} unique fgc events\") # 841 Primary quenches?\n",
    "print(f\"{len(mp3_fpa_df[mp3_fpa_df['Nr in Q event']==1])} mp3 primary quench entries\") # 834 primary quenches with correct notes"
   ]
  },
  {
   "cell_type": "markdown",
   "id": "cd937e9f",
   "metadata": {},
   "source": [
    "# Select events to download"
   ]
  },
  {
   "cell_type": "code",
   "execution_count": null,
   "id": "be19fc57",
   "metadata": {},
   "outputs": [],
   "source": [
    "mp3_fpa_df_unique = mp3_fpa_df.drop_duplicates(subset=['timestamp_fgc', 'Circuit Name'])"
   ]
  },
  {
   "cell_type": "code",
   "execution_count": null,
   "id": "6524a86a",
   "metadata": {},
   "outputs": [],
   "source": [
    "# Time.to_string(1514761200000000000), Time.to_unix_timestamp('2018-01-01 00:00:00+01:00')\n",
    "mp3_fpa_df_period = mp3_fpa_df_unique[mp3_fpa_df_unique['timestamp_fgc'] >= 1388530800000000000].reset_index(drop=True) \n",
    "len(mp3_fpa_df_period)"
   ]
  },
  {
   "cell_type": "code",
   "execution_count": null,
   "id": "3a4a09f6",
   "metadata": {},
   "outputs": [],
   "source": [
    "signal_groups = [CurrentVoltageDiodeLeadsPM, CurrentVoltageDiodeLeadsNXCALS, EETResPM, EEUDumpResPM, Leads, PCPM, QHPM, VoltageLogicIQPS, VoltageNQPS, VoltageNXCALS]\n",
    "file_dir = Path('/eos/project/m/ml-for-alarm-system/private/RB_signals')"
   ]
  },
  {
   "cell_type": "markdown",
   "id": "d38ea646",
   "metadata": {},
   "source": [
    "## Test query"
   ]
  },
  {
   "cell_type": "code",
   "execution_count": null,
   "id": "27819830",
   "metadata": {},
   "outputs": [],
   "source": [
    "context_path = file_dir / \"data_test\"\n",
    "fpa_identifier = {'circuit_type': 'RB',\n",
    "                 'circuit_name': 'RB.A78',\n",
    "                 'timestamp_fgc': 1616962174400000000}\n",
    "    \n",
    "for signal_group in signal_groups:\n",
    "    group = signal_group(**fpa_identifier, spark=spark)\n",
    "    acquisition_to_hdf5(acquisition=group, \n",
    "                        file_dir=file_dir, \n",
    "                        context_dir_name=\"context_test\",\n",
    "                        failed_queries_dir_name=\"failed_test\",\n",
    "                        data_dir_name=\"data_test\")\n",
    "        \n",
    "log_acquisition(identifier=fpa_identifier, log_data={\"download_complete\": True}, log_path=context_path)"
   ]
  },
  {
   "cell_type": "markdown",
   "id": "70688c74",
   "metadata": {},
   "source": [
    "## Load data"
   ]
  },
  {
   "cell_type": "code",
   "execution_count": null,
   "id": "fe0bc150",
   "metadata": {},
   "outputs": [],
   "source": [
    "file_name = f\"{fpa_identifier['circuit_type']}_{fpa_identifier['circuit_name']}_{fpa_identifier['timestamp_fgc']}.hdf5\"\n",
    "file_path = file_dir / Path('data_test') / file_name"
   ]
  },
  {
   "cell_type": "code",
   "execution_count": null,
   "id": "5d1dc84d",
   "metadata": {},
   "outputs": [],
   "source": [
    "load_from_hdf_with_regex(file_path, regex_list=['U_DIODE'])"
   ]
  },
  {
   "cell_type": "markdown",
   "id": "9b1bf5b8",
   "metadata": {},
   "source": [
    "## Query all FGC events"
   ]
  },
  {
   "cell_type": "code",
   "execution_count": null,
   "id": "434809ed",
   "metadata": {
    "scrolled": true
   },
   "outputs": [],
   "source": [
    "for index, row in mp3_fpa_df_period.iterrows():\n",
    "    fpa_identifier = {'circuit_type': row['Circuit Family'],\n",
    "                      'circuit_name': row['Circuit Name'],\n",
    "                      'timestamp_fgc': int(row['timestamp_fgc'])}\n",
    "\n",
    "    for signal_group in signal_groups:\n",
    "        group = signal_group(**fpa_identifier, spark=spark)\n",
    "        acquisition_to_hdf5(acquisition=group, \n",
    "                            file_dir=file_dir)\n",
    "\n",
    "    log_acquisition(identifier=fpa_identifier, log_data={\"download_complete\": True}, log_path=context_path)"
   ]
  },
  {
   "cell_type": "code",
   "execution_count": null,
   "id": "a8f4cbf3",
   "metadata": {},
   "outputs": [],
   "source": []
  }
 ],
 "metadata": {
  "kernelspec": {
   "display_name": "Python 3",
   "language": "python",
   "name": "python3"
  },
  "language_info": {
   "codemirror_mode": {
    "name": "ipython",
    "version": 3
   },
   "file_extension": ".py",
   "mimetype": "text/x-python",
   "name": "python",
   "nbconvert_exporter": "python",
   "pygments_lexer": "ipython3",
   "version": "3.8.6"
  },
  "sparkconnect": {
   "bundled_options": [
    "NXCALS"
   ],
   "list_of_options": []
  }
 },
 "nbformat": 4,
 "nbformat_minor": 5
}