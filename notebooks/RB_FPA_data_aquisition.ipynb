{
 "cells": [
  {
   "cell_type": "markdown",
   "id": "de62fb17",
   "metadata": {},
   "source": [
    "# Import libraries"
   ]
  },
  {
   "cell_type": "code",
   "execution_count": 1,
   "id": "28e55775",
   "metadata": {},
   "outputs": [],
   "source": [
    "import sys\n",
    "from pathlib import Path\n",
    "sys.path.insert(0,'..')\n",
    "#!pip install openpyxl"
   ]
  },
  {
   "cell_type": "code",
   "execution_count": 2,
   "id": "c7662299",
   "metadata": {},
   "outputs": [
    {
     "name": "stderr",
     "output_type": "stream",
     "text": [
      "`np.float` is a deprecated alias for the builtin `float`. To silence this warning, use `float` by itself. Doing this will not modify any behavior and is safe. If you specifically wanted the numpy scalar type, use `np.float64` here.\n",
      "Deprecated in NumPy 1.20; for more details and guidance: https://numpy.org/devdocs/release/1.20.0-notes.html#deprecations\n",
      "`np.float` is a deprecated alias for the builtin `float`. To silence this warning, use `float` by itself. Doing this will not modify any behavior and is safe. If you specifically wanted the numpy scalar type, use `np.float64` here.\n",
      "Deprecated in NumPy 1.20; for more details and guidance: https://numpy.org/devdocs/release/1.20.0-notes.html#deprecations\n",
      "`np.float` is a deprecated alias for the builtin `float`. To silence this warning, use `float` by itself. Doing this will not modify any behavior and is safe. If you specifically wanted the numpy scalar type, use `np.float64` here.\n",
      "Deprecated in NumPy 1.20; for more details and guidance: https://numpy.org/devdocs/release/1.20.0-notes.html#deprecations\n",
      "`np.float` is a deprecated alias for the builtin `float`. To silence this warning, use `float` by itself. Doing this will not modify any behavior and is safe. If you specifically wanted the numpy scalar type, use `np.float64` here.\n",
      "Deprecated in NumPy 1.20; for more details and guidance: https://numpy.org/devdocs/release/1.20.0-notes.html#deprecations\n",
      "`np.float` is a deprecated alias for the builtin `float`. To silence this warning, use `float` by itself. Doing this will not modify any behavior and is safe. If you specifically wanted the numpy scalar type, use `np.float64` here.\n",
      "Deprecated in NumPy 1.20; for more details and guidance: https://numpy.org/devdocs/release/1.20.0-notes.html#deprecations\n",
      "`np.float` is a deprecated alias for the builtin `float`. To silence this warning, use `float` by itself. Doing this will not modify any behavior and is safe. If you specifically wanted the numpy scalar type, use `np.float64` here.\n",
      "Deprecated in NumPy 1.20; for more details and guidance: https://numpy.org/devdocs/release/1.20.0-notes.html#deprecations\n",
      "`np.float` is a deprecated alias for the builtin `float`. To silence this warning, use `float` by itself. Doing this will not modify any behavior and is safe. If you specifically wanted the numpy scalar type, use `np.float64` here.\n",
      "Deprecated in NumPy 1.20; for more details and guidance: https://numpy.org/devdocs/release/1.20.0-notes.html#deprecations\n",
      "`np.float` is a deprecated alias for the builtin `float`. To silence this warning, use `float` by itself. Doing this will not modify any behavior and is safe. If you specifically wanted the numpy scalar type, use `np.float64` here.\n",
      "Deprecated in NumPy 1.20; for more details and guidance: https://numpy.org/devdocs/release/1.20.0-notes.html#deprecations\n",
      "`np.float` is a deprecated alias for the builtin `float`. To silence this warning, use `float` by itself. Doing this will not modify any behavior and is safe. If you specifically wanted the numpy scalar type, use `np.float64` here.\n",
      "Deprecated in NumPy 1.20; for more details and guidance: https://numpy.org/devdocs/release/1.20.0-notes.html#deprecations\n"
     ]
    }
   ],
   "source": [
    "import os\n",
    "import sys\n",
    "import pandas as pd\n",
    "import pickle\n",
    "import matplotlib.pyplot as plt\n",
    "\n",
    "from functools import partial\n",
    "from multiprocessing import Pool\n",
    "\n",
    "from lhcsmapi.Time import Time\n",
    "from lhcsmapi.metadata.SignalMetadata import SignalMetadata\n",
    "from lhcsmapi.pyedsl.dbsignal.post_mortem.PmDbRequest import PmDbRequest\n",
    "from lhcsmapi.analysis.RbCircuitQuery import RbCircuitQuery\n",
    "\n",
    "from src.acquisitions.current_voltage_diode_leads_nxcals import CURRENT_VOLTAGE_DIODE_LEADS_NXCALS\n",
    "from src.acquisitions.current_voltage_diode_leads_pm import CURRENT_VOLTAGE_DIODE_LEADS_PM\n",
    "from src.acquisitions.ee_t_res_pm import EE_T_RES_PM\n",
    "from src.acquisitions.ee_u_dump_res_pm import EE_U_DUMP_RES_PM\n",
    "from src.acquisitions.leads import LEADS\n",
    "from src.acquisitions.pc_pm import PC_PM\n",
    "from src.acquisitions.qh_pm import QH_PM\n",
    "from src.acquisitions.voltage_logic_iqps import VOLTAGE_LOGIC_IQPS\n",
    "from src.acquisitions.voltage_logic_nqps import VOLTAGE_LOGIC_NQPS\n",
    "from src.acquisitions.voltage_nxcals import VOLTAGE_NXCALS"
   ]
  },
  {
   "cell_type": "markdown",
   "id": "05fd1b1e",
   "metadata": {},
   "source": [
    "# Read the (clean) MP3 file"
   ]
  },
  {
   "cell_type": "code",
   "execution_count": 3,
   "id": "a399d8a9",
   "metadata": {},
   "outputs": [
    {
     "data": {
      "text/plain": [
       "4409"
      ]
     },
     "execution_count": 3,
     "metadata": {},
     "output_type": "execute_result"
    }
   ],
   "source": [
    "mp3_fpa_df_raw = pd.read_excel(\"./RB_TC_extract_2021_11_22.xlsx\")\n",
    "len(mp3_fpa_df_raw)"
   ]
  },
  {
   "cell_type": "code",
   "execution_count": 4,
   "id": "a8e46e55",
   "metadata": {},
   "outputs": [
    {
     "data": {
      "text/html": [
       "<div>\n",
       "<style scoped>\n",
       "    .dataframe tbody tr th:only-of-type {\n",
       "        vertical-align: middle;\n",
       "    }\n",
       "\n",
       "    .dataframe tbody tr th {\n",
       "        vertical-align: top;\n",
       "    }\n",
       "\n",
       "    .dataframe thead th {\n",
       "        text-align: right;\n",
       "    }\n",
       "</style>\n",
       "<table border=\"1\" class=\"dataframe\">\n",
       "  <thead>\n",
       "    <tr style=\"text-align: right;\">\n",
       "      <th></th>\n",
       "      <th>Circuit Name</th>\n",
       "      <th>Circuit Family</th>\n",
       "      <th>Period</th>\n",
       "      <th>Date (FGC)</th>\n",
       "      <th>Time (FGC)</th>\n",
       "      <th>FPA Reason</th>\n",
       "      <th>Timestamp_PIC</th>\n",
       "      <th>Delta_t(FGC-PIC)</th>\n",
       "      <th>Delta_t(EE_even-PIC)</th>\n",
       "      <th>Delta_t(EE_odd-PIC)</th>\n",
       "      <th>...</th>\n",
       "      <th>Outer cable type</th>\n",
       "      <th>I_Q_SM18</th>\n",
       "      <th>dI_Q_Acc</th>\n",
       "      <th>dI_Q_LHC</th>\n",
       "      <th>Comment</th>\n",
       "      <th>Analysis performed by</th>\n",
       "      <th>lhcsmapi version</th>\n",
       "      <th>lhcsm notebook version</th>\n",
       "      <th>Unnamed: 46</th>\n",
       "      <th>Unnamed: 47</th>\n",
       "    </tr>\n",
       "  </thead>\n",
       "  <tbody>\n",
       "    <tr>\n",
       "      <th>0</th>\n",
       "      <td>NaN</td>\n",
       "      <td>RB</td>\n",
       "      <td>NaN</td>\n",
       "      <td>2008-04-01 00:00:00</td>\n",
       "      <td>13:14:15</td>\n",
       "      <td>NaN</td>\n",
       "      <td>NaN</td>\n",
       "      <td>[ms]</td>\n",
       "      <td>[ms]</td>\n",
       "      <td>[ms]</td>\n",
       "      <td>...</td>\n",
       "      <td>NaN</td>\n",
       "      <td>[A]</td>\n",
       "      <td>[A]</td>\n",
       "      <td>[A]</td>\n",
       "      <td>NaN</td>\n",
       "      <td>NaN</td>\n",
       "      <td>NaN</td>\n",
       "      <td>NaN</td>\n",
       "      <td>NaN</td>\n",
       "      <td>NaN</td>\n",
       "    </tr>\n",
       "    <tr>\n",
       "      <th>1</th>\n",
       "      <td>RB.A12</td>\n",
       "      <td>RB</td>\n",
       "      <td>Before Notebooks</td>\n",
       "      <td>NaN</td>\n",
       "      <td>NaN</td>\n",
       "      <td>NaN</td>\n",
       "      <td>NaN</td>\n",
       "      <td>NaN</td>\n",
       "      <td>NaN</td>\n",
       "      <td>NaN</td>\n",
       "      <td>...</td>\n",
       "      <td>NaN</td>\n",
       "      <td>NaN</td>\n",
       "      <td>NaN</td>\n",
       "      <td>NaN</td>\n",
       "      <td>NaN</td>\n",
       "      <td>NaN</td>\n",
       "      <td>Before Notebooks</td>\n",
       "      <td>NaN</td>\n",
       "      <td>NaN</td>\n",
       "      <td>NaN</td>\n",
       "    </tr>\n",
       "    <tr>\n",
       "      <th>169</th>\n",
       "      <td>RB.A23</td>\n",
       "      <td>RB</td>\n",
       "      <td>Before Notebooks</td>\n",
       "      <td>NaN</td>\n",
       "      <td>NaN</td>\n",
       "      <td>NaN</td>\n",
       "      <td>NaN</td>\n",
       "      <td>NaN</td>\n",
       "      <td>NaN</td>\n",
       "      <td>NaN</td>\n",
       "      <td>...</td>\n",
       "      <td>NaN</td>\n",
       "      <td>NaN</td>\n",
       "      <td>NaN</td>\n",
       "      <td>NaN</td>\n",
       "      <td>NaN</td>\n",
       "      <td>NaN</td>\n",
       "      <td>Before Notebooks</td>\n",
       "      <td>NaN</td>\n",
       "      <td>NaN</td>\n",
       "      <td>NaN</td>\n",
       "    </tr>\n",
       "    <tr>\n",
       "      <th>264</th>\n",
       "      <td>RB.A34</td>\n",
       "      <td>RB</td>\n",
       "      <td>Before Notebooks</td>\n",
       "      <td>NaN</td>\n",
       "      <td>NaN</td>\n",
       "      <td>NaN</td>\n",
       "      <td>NaN</td>\n",
       "      <td>NaN</td>\n",
       "      <td>NaN</td>\n",
       "      <td>NaN</td>\n",
       "      <td>...</td>\n",
       "      <td>NaN</td>\n",
       "      <td>NaN</td>\n",
       "      <td>NaN</td>\n",
       "      <td>NaN</td>\n",
       "      <td>NaN</td>\n",
       "      <td>NaN</td>\n",
       "      <td>Before Notebooks</td>\n",
       "      <td>NaN</td>\n",
       "      <td>NaN</td>\n",
       "      <td>NaN</td>\n",
       "    </tr>\n",
       "    <tr>\n",
       "      <th>545</th>\n",
       "      <td>RB.A45</td>\n",
       "      <td>RB</td>\n",
       "      <td>Before Notebooks</td>\n",
       "      <td>NaN</td>\n",
       "      <td>NaN</td>\n",
       "      <td>NaN</td>\n",
       "      <td>NaN</td>\n",
       "      <td>NaN</td>\n",
       "      <td>NaN</td>\n",
       "      <td>NaN</td>\n",
       "      <td>...</td>\n",
       "      <td>NaN</td>\n",
       "      <td>NaN</td>\n",
       "      <td>NaN</td>\n",
       "      <td>NaN</td>\n",
       "      <td>NaN</td>\n",
       "      <td>NaN</td>\n",
       "      <td>Before Notebooks</td>\n",
       "      <td>NaN</td>\n",
       "      <td>NaN</td>\n",
       "      <td>NaN</td>\n",
       "    </tr>\n",
       "    <tr>\n",
       "      <th>897</th>\n",
       "      <td>RB.A56</td>\n",
       "      <td>RB</td>\n",
       "      <td>Before Notebooks</td>\n",
       "      <td>NaN</td>\n",
       "      <td>NaN</td>\n",
       "      <td>NaN</td>\n",
       "      <td>NaN</td>\n",
       "      <td>NaN</td>\n",
       "      <td>NaN</td>\n",
       "      <td>NaN</td>\n",
       "      <td>...</td>\n",
       "      <td>NaN</td>\n",
       "      <td>NaN</td>\n",
       "      <td>NaN</td>\n",
       "      <td>NaN</td>\n",
       "      <td>NaN</td>\n",
       "      <td>NaN</td>\n",
       "      <td>Before Notebooks</td>\n",
       "      <td>NaN</td>\n",
       "      <td>NaN</td>\n",
       "      <td>NaN</td>\n",
       "    </tr>\n",
       "    <tr>\n",
       "      <th>1146</th>\n",
       "      <td>RB.A67</td>\n",
       "      <td>RB</td>\n",
       "      <td>Before Notebooks</td>\n",
       "      <td>NaN</td>\n",
       "      <td>NaN</td>\n",
       "      <td>NaN</td>\n",
       "      <td>NaN</td>\n",
       "      <td>NaN</td>\n",
       "      <td>NaN</td>\n",
       "      <td>NaN</td>\n",
       "      <td>...</td>\n",
       "      <td>NaN</td>\n",
       "      <td>NaN</td>\n",
       "      <td>NaN</td>\n",
       "      <td>NaN</td>\n",
       "      <td>NaN</td>\n",
       "      <td>NaN</td>\n",
       "      <td>Before Notebooks</td>\n",
       "      <td>NaN</td>\n",
       "      <td>NaN</td>\n",
       "      <td>NaN</td>\n",
       "    </tr>\n",
       "    <tr>\n",
       "      <th>1268</th>\n",
       "      <td>RB.A78</td>\n",
       "      <td>RB</td>\n",
       "      <td>Before Notebooks</td>\n",
       "      <td>NaN</td>\n",
       "      <td>NaN</td>\n",
       "      <td>NaN</td>\n",
       "      <td>NaN</td>\n",
       "      <td>NaN</td>\n",
       "      <td>NaN</td>\n",
       "      <td>NaN</td>\n",
       "      <td>...</td>\n",
       "      <td>NaN</td>\n",
       "      <td>NaN</td>\n",
       "      <td>NaN</td>\n",
       "      <td>NaN</td>\n",
       "      <td>NaN</td>\n",
       "      <td>NaN</td>\n",
       "      <td>Before Notebooks</td>\n",
       "      <td>NaN</td>\n",
       "      <td>NaN</td>\n",
       "      <td>NaN</td>\n",
       "    </tr>\n",
       "    <tr>\n",
       "      <th>1430</th>\n",
       "      <td>RB.A81</td>\n",
       "      <td>RB</td>\n",
       "      <td>Before Notebooks</td>\n",
       "      <td>NaN</td>\n",
       "      <td>NaN</td>\n",
       "      <td>NaN</td>\n",
       "      <td>NaN</td>\n",
       "      <td>NaN</td>\n",
       "      <td>NaN</td>\n",
       "      <td>NaN</td>\n",
       "      <td>...</td>\n",
       "      <td>NaN</td>\n",
       "      <td>NaN</td>\n",
       "      <td>NaN</td>\n",
       "      <td>NaN</td>\n",
       "      <td>NaN</td>\n",
       "      <td>NaN</td>\n",
       "      <td>Before Notebooks</td>\n",
       "      <td>NaN</td>\n",
       "      <td>NaN</td>\n",
       "      <td>NaN</td>\n",
       "    </tr>\n",
       "    <tr>\n",
       "      <th>1581</th>\n",
       "      <td>NaN</td>\n",
       "      <td>RB</td>\n",
       "      <td>After Notebooks</td>\n",
       "      <td>NaN</td>\n",
       "      <td>NaN</td>\n",
       "      <td>NaN</td>\n",
       "      <td>NaN</td>\n",
       "      <td>NaN</td>\n",
       "      <td>NaN</td>\n",
       "      <td>NaN</td>\n",
       "      <td>...</td>\n",
       "      <td>NaN</td>\n",
       "      <td>NaN</td>\n",
       "      <td>NaN</td>\n",
       "      <td>NaN</td>\n",
       "      <td>NaN</td>\n",
       "      <td>NaN</td>\n",
       "      <td>After Notebooks</td>\n",
       "      <td>NaN</td>\n",
       "      <td>NaN</td>\n",
       "      <td>NaN</td>\n",
       "    </tr>\n",
       "  </tbody>\n",
       "</table>\n",
       "<p>10 rows × 48 columns</p>\n",
       "</div>"
      ],
      "text/plain": [
       "     Circuit Name Circuit Family            Period           Date (FGC)  \\\n",
       "0             NaN             RB               NaN  2008-04-01 00:00:00   \n",
       "1          RB.A12             RB  Before Notebooks                  NaN   \n",
       "169        RB.A23             RB  Before Notebooks                  NaN   \n",
       "264        RB.A34             RB  Before Notebooks                  NaN   \n",
       "545        RB.A45             RB  Before Notebooks                  NaN   \n",
       "897        RB.A56             RB  Before Notebooks                  NaN   \n",
       "1146       RB.A67             RB  Before Notebooks                  NaN   \n",
       "1268       RB.A78             RB  Before Notebooks                  NaN   \n",
       "1430       RB.A81             RB  Before Notebooks                  NaN   \n",
       "1581          NaN             RB   After Notebooks                  NaN   \n",
       "\n",
       "     Time (FGC) FPA Reason Timestamp_PIC Delta_t(FGC-PIC)  \\\n",
       "0      13:14:15        NaN           NaN             [ms]   \n",
       "1           NaN        NaN           NaN              NaN   \n",
       "169         NaN        NaN           NaN              NaN   \n",
       "264         NaN        NaN           NaN              NaN   \n",
       "545         NaN        NaN           NaN              NaN   \n",
       "897         NaN        NaN           NaN              NaN   \n",
       "1146        NaN        NaN           NaN              NaN   \n",
       "1268        NaN        NaN           NaN              NaN   \n",
       "1430        NaN        NaN           NaN              NaN   \n",
       "1581        NaN        NaN           NaN              NaN   \n",
       "\n",
       "     Delta_t(EE_even-PIC) Delta_t(EE_odd-PIC)  ... Outer cable type I_Q_SM18  \\\n",
       "0                    [ms]                [ms]  ...              NaN      [A]   \n",
       "1                     NaN                 NaN  ...              NaN      NaN   \n",
       "169                   NaN                 NaN  ...              NaN      NaN   \n",
       "264                   NaN                 NaN  ...              NaN      NaN   \n",
       "545                   NaN                 NaN  ...              NaN      NaN   \n",
       "897                   NaN                 NaN  ...              NaN      NaN   \n",
       "1146                  NaN                 NaN  ...              NaN      NaN   \n",
       "1268                  NaN                 NaN  ...              NaN      NaN   \n",
       "1430                  NaN                 NaN  ...              NaN      NaN   \n",
       "1581                  NaN                 NaN  ...              NaN      NaN   \n",
       "\n",
       "     dI_Q_Acc dI_Q_LHC Comment Analysis performed by  lhcsmapi version  \\\n",
       "0         [A]      [A]     NaN                   NaN               NaN   \n",
       "1         NaN      NaN     NaN                   NaN  Before Notebooks   \n",
       "169       NaN      NaN     NaN                   NaN  Before Notebooks   \n",
       "264       NaN      NaN     NaN                   NaN  Before Notebooks   \n",
       "545       NaN      NaN     NaN                   NaN  Before Notebooks   \n",
       "897       NaN      NaN     NaN                   NaN  Before Notebooks   \n",
       "1146      NaN      NaN     NaN                   NaN  Before Notebooks   \n",
       "1268      NaN      NaN     NaN                   NaN  Before Notebooks   \n",
       "1430      NaN      NaN     NaN                   NaN  Before Notebooks   \n",
       "1581      NaN      NaN     NaN                   NaN   After Notebooks   \n",
       "\n",
       "     lhcsm notebook version Unnamed: 46 Unnamed: 47  \n",
       "0                       NaN         NaN         NaN  \n",
       "1                       NaN         NaN         NaN  \n",
       "169                     NaN         NaN         NaN  \n",
       "264                     NaN         NaN         NaN  \n",
       "545                     NaN         NaN         NaN  \n",
       "897                     NaN         NaN         NaN  \n",
       "1146                    NaN         NaN         NaN  \n",
       "1268                    NaN         NaN         NaN  \n",
       "1430                    NaN         NaN         NaN  \n",
       "1581                    NaN         NaN         NaN  \n",
       "\n",
       "[10 rows x 48 columns]"
      ]
     },
     "execution_count": 4,
     "metadata": {},
     "output_type": "execute_result"
    }
   ],
   "source": [
    "# First row contains units, 9 rows contain only \"Before Notebooks\" and \"After Notebooks\" information, which need to be droped\n",
    "mp3_fpa_df = mp3_fpa_df_raw.dropna(subset = ['Date (FGC)', 'Circuit Name'])\n",
    "mp3_fpa_df_raw.iloc[~mp3_fpa_df_raw.index.isin(mp3_fpa_df.index)] #show droped rows"
   ]
  },
  {
   "cell_type": "markdown",
   "id": "5f89d2d1",
   "metadata": {},
   "source": [
    "# Find FGC timestamp for each FPA event in MP3 excel"
   ]
  },
  {
   "cell_type": "code",
   "execution_count": 5,
   "id": "8807c573",
   "metadata": {},
   "outputs": [],
   "source": [
    "def find_real_fgc_timestamp(circuit_name, fgc_datetime):\n",
    "    \n",
    "    fgc_timestamp = Time.to_unix_timestamp(fgc_datetime)\n",
    "    metadata_fgc = SignalMetadata.get_circuit_signal_database_metadata(\n",
    "            'RB', circuit_name, 'PC', 'PM', timestamp_query=fgc_timestamp)\n",
    "\n",
    "    one_sec_in_ns = 1e9 \n",
    "    start_time = fgc_timestamp - one_sec_in_ns\n",
    "    end_time = fgc_timestamp + one_sec_in_ns\n",
    " \n",
    "    source_timestamp_fgc = PmDbRequest.find_events(metadata_fgc['source'],\n",
    "                                                   metadata_fgc['system'],\n",
    "                                                   metadata_fgc['className'],\n",
    "                                                   t_start=start_time,\n",
    "                                                   t_end=end_time)\n",
    "\n",
    "    return [(circuit_name, el[1]) for el in source_timestamp_fgc]\n",
    "\n",
    "# getting the list of timestamps\n",
    "def get_fgc_timestamp(d):\n",
    "    date_time_str = f\"{d['Date (FGC)']} {d['Time (FGC)']}\".replace(\"00:00:00 \",\"\")\n",
    "    real_fgc_timestamps = find_real_fgc_timestamp(d['Circuit Name'], date_time_str)\n",
    "    if len(real_fgc_timestamps) > 1:\n",
    "        print(f\"Found more than one event for timestamp {date_time_str}\")\n",
    "    elif not real_fgc_timestamps:\n",
    "        print(f\"Found no event for timestamp {date_time_str}\")\n",
    "        return None\n",
    "    _, real_fgc_timestamp = real_fgc_timestamps[0]\n",
    "    return int(real_fgc_timestamp)"
   ]
  },
  {
   "cell_type": "code",
   "execution_count": 6,
   "id": "efe61bf3",
   "metadata": {
    "scrolled": true
   },
   "outputs": [
    {
     "name": "stdout",
     "output_type": "stream",
     "text": [
      "Found no event for timestamp 2008-08-19 12:13:28\n",
      "Found no event for timestamp 2008-08-19 18:53:12\n",
      "Found no event for timestamp 2008-08-19 20:15:07\n",
      "Found no event for timestamp 2008-08-19 20:15:07\n",
      "Found no event for timestamp 2008-08-20 18:41:36\n",
      "Found no event for timestamp 2008-08-22 09:59:25\n",
      "Found no event for timestamp 2008-08-22 09:59:25\n",
      "Found no event for timestamp 2008-08-22 09:59:25\n",
      "Found no event for timestamp 2008-07-08 08:30:10\n",
      "Found no event for timestamp 2008-07-08 14:39:16\n",
      "Found no event for timestamp 2008-07-09 17:14:45\n",
      "Found no event for timestamp 2008-07-11 14:42:00\n",
      "Found no event for timestamp 2008-07-15 21:20:30\n",
      "Found no event for timestamp 2008-07-15 21:20:30\n",
      "Found no event for timestamp 2008-07-15 21:20:30\n",
      "Found no event for timestamp 2008-07-15 21:20:30\n",
      "Found no event for timestamp 2008-07-15 21:20:30\n",
      "Found no event for timestamp 2008-08-09 02:19:48\n",
      "Found no event for timestamp 2008-09-07 17:34:03\n",
      "Found no event for timestamp 2009-12-04 11:19:48\n",
      "Found no event for timestamp 2008-09-03 19:49:06\n",
      "Found no event for timestamp 2008-09-04 17:28:47\n",
      "Found no event for timestamp 2008-09-05 13:04:53\n",
      "Found no event for timestamp 2008-09-05 13:04:53\n",
      "Found no event for timestamp 2008-09-05 13:04:53\n",
      "Found no event for timestamp 2008-09-05 21:43:11\n",
      "Found no event for timestamp 2008-09-16 19:12:51\n",
      "Found no event for timestamp 2008-09-16 19:12:51\n",
      "Found no event for timestamp 2008-09-16 19:12:51\n",
      "Found no event for timestamp 2008-09-16 19:12:51\n",
      "Found no event for timestamp 2008-09-16 19:12:51\n",
      "Found no event for timestamp 2008-09-19 11:18:36\n",
      "Found no event for timestamp 2008-09-19 11:18:36\n",
      "Found no event for timestamp 2008-09-19 11:18:36\n",
      "Found no event for timestamp 2008-09-19 11:18:36\n",
      "Found no event for timestamp 2008-09-19 11:18:36\n",
      "Found no event for timestamp 2008-09-19 11:18:36\n",
      "Found no event for timestamp 2008-09-19 11:18:36\n",
      "Found no event for timestamp 2008-09-19 11:18:36\n",
      "Found no event for timestamp 2008-09-19 11:18:36\n",
      "Found no event for timestamp 2008-09-19 11:18:36\n",
      "Found no event for timestamp 2008-09-19 11:18:36\n",
      "Found no event for timestamp 2008-09-19 11:18:36\n",
      "Found no event for timestamp 2008-09-19 11:18:36\n",
      "Found no event for timestamp 2008-09-19 11:18:36\n",
      "Found no event for timestamp 2008-09-19 11:18:36\n",
      "Found no event for timestamp 2008-09-19 11:18:36\n",
      "Found no event for timestamp 2008-09-19 11:18:36\n",
      "Found no event for timestamp 2008-09-19 11:18:36\n",
      "Found no event for timestamp 2008-09-19 11:18:36\n",
      "Found no event for timestamp 2008-09-19 11:18:36\n",
      "Found no event for timestamp 2008-09-19 11:18:36\n",
      "Found no event for timestamp 2008-09-19 11:18:36\n",
      "Found no event for timestamp 2008-09-19 11:18:36\n",
      "Found no event for timestamp 2008-09-19 11:18:36\n",
      "Found no event for timestamp 2008-09-19 11:18:36\n",
      "Found no event for timestamp 2008-09-19 11:18:36\n",
      "Found no event for timestamp 2008-09-19 11:18:36\n",
      "Found no event for timestamp 2008-09-19 11:18:36\n",
      "Found no event for timestamp 2008-09-19 11:18:36\n",
      "Found no event for timestamp 2008-09-19 11:18:36\n",
      "Found no event for timestamp 2008-09-19 11:18:36\n",
      "Found no event for timestamp 2008-09-19 11:18:36\n",
      "Found no event for timestamp 2008-09-19 11:18:36\n",
      "Found no event for timestamp 2008-09-19 11:18:36\n",
      "Found no event for timestamp 2008-09-19 11:18:36\n",
      "Found no event for timestamp 2008-09-19 11:18:36\n",
      "Found no event for timestamp 2008-09-19 11:18:36\n",
      "Found no event for timestamp 2008-09-19 11:18:36\n",
      "Found no event for timestamp 2008-09-19 11:18:36\n",
      "Found no event for timestamp 2008-09-19 11:18:36\n",
      "Found no event for timestamp 2008-09-19 11:18:36\n",
      "Found no event for timestamp 2008-09-19 11:18:36\n",
      "Found no event for timestamp 2008-09-19 11:18:36\n",
      "Found no event for timestamp 2008-09-19 11:18:36\n",
      "Found no event for timestamp 2008-09-19 11:18:36\n",
      "Found no event for timestamp 2008-09-19 11:18:36\n",
      "Found no event for timestamp 2008-09-19 11:18:36\n",
      "Found no event for timestamp 2008-09-19 11:18:36\n",
      "Found no event for timestamp 2008-09-19 11:18:36\n",
      "Found no event for timestamp 2008-09-19 11:18:36\n",
      "Found no event for timestamp 2008-09-19 11:18:36\n",
      "Found no event for timestamp 2008-09-19 11:18:36\n",
      "Found no event for timestamp 2008-09-19 11:18:36\n",
      "Found no event for timestamp 2008-09-19 11:18:36\n",
      "Found no event for timestamp 2008-09-19 11:18:36\n",
      "Found no event for timestamp 2008-09-19 11:18:36\n",
      "Found no event for timestamp 2008-09-19 11:18:36\n",
      "Found no event for timestamp 2008-09-19 11:18:36\n",
      "Found no event for timestamp 2008-09-19 11:18:36\n",
      "Found no event for timestamp 2008-09-19 11:18:36\n",
      "Found no event for timestamp 2008-09-19 11:18:36\n",
      "Found no event for timestamp 2008-09-19 11:18:36\n",
      "Found no event for timestamp 2008-09-19 11:18:36\n",
      "Found no event for timestamp 2008-09-19 11:18:36\n",
      "Found no event for timestamp 2008-09-19 11:18:36\n",
      "Found no event for timestamp 2008-09-19 11:18:36\n",
      "Found no event for timestamp 2008-09-19 11:18:36\n",
      "Found no event for timestamp 2008-09-19 11:18:36\n",
      "Found no event for timestamp 2008-09-19 11:18:36\n",
      "Found no event for timestamp 2008-09-19 11:18:36\n",
      "Found no event for timestamp 2008-09-19 11:18:36\n",
      "Found no event for timestamp 2008-09-19 11:18:36\n",
      "Found no event for timestamp 2008-09-19 11:18:36\n",
      "Found no event for timestamp 2008-09-19 11:18:36\n",
      "Found no event for timestamp 2008-09-19 11:18:36\n",
      "Found no event for timestamp 2008-09-19 11:18:36\n",
      "Found no event for timestamp 2008-09-19 11:18:36\n",
      "Found no event for timestamp 2008-09-19 11:18:36\n",
      "Found no event for timestamp 2008-09-19 11:18:36\n",
      "Found no event for timestamp 2008-09-19 11:18:36\n",
      "Found no event for timestamp 2008-09-19 11:18:36\n",
      "Found no event for timestamp 2008-09-19 11:18:36\n",
      "Found no event for timestamp 2008-09-19 11:18:36\n",
      "Found no event for timestamp 2008-09-19 11:18:36\n",
      "Found no event for timestamp 2008-09-19 11:18:36\n",
      "Found no event for timestamp 2008-09-19 11:18:36\n",
      "Found no event for timestamp 2008-09-19 11:18:36\n",
      "Found no event for timestamp 2008-09-19 11:18:36\n",
      "Found no event for timestamp 2008-09-19 11:18:36\n",
      "Found no event for timestamp 2008-09-19 11:18:36\n",
      "Found no event for timestamp 2008-09-19 11:18:36\n",
      "Found no event for timestamp 2008-09-19 11:18:36\n",
      "Found no event for timestamp 2008-09-19 11:18:36\n",
      "Found no event for timestamp 2008-09-19 11:18:36\n",
      "Found no event for timestamp 2008-09-19 11:18:36\n",
      "Found no event for timestamp 2008-09-19 11:18:36\n",
      "Found no event for timestamp 2008-09-19 11:18:36\n",
      "Found no event for timestamp 2008-09-19 11:18:36\n",
      "Found no event for timestamp 2008-09-19 11:18:36\n",
      "Found no event for timestamp 2007-12-18 10:10:35\n",
      "Found no event for timestamp 2007-12-18 18:19:06\n",
      "Found no event for timestamp 2007-12-19 11:22:00\n",
      "Found no event for timestamp 2008-01-23 18:18:08\n",
      "Found no event for timestamp 2008-01-23 18:18:08\n",
      "Found no event for timestamp 2008-01-23 18:18:08\n",
      "Found no event for timestamp 2008-01-23 18:18:08\n",
      "Found no event for timestamp 2008-01-24 15:54:27\n",
      "Found no event for timestamp 2008-01-24 16:57:37\n",
      "Found no event for timestamp 2008-01-24 16:57:37\n",
      "Found no event for timestamp 2008-01-24 16:57:37\n",
      "Found no event for timestamp 2008-01-25 16:50:34\n",
      "Found no event for timestamp 2008-01-25 16:50:34\n",
      "Found no event for timestamp 2008-01-25 16:50:34\n",
      "Found no event for timestamp 2008-01-25 16:50:34\n",
      "Found no event for timestamp 2008-01-25 16:50:34\n",
      "Found no event for timestamp 2008-01-31 13:44:37\n",
      "Found no event for timestamp 2008-01-31 13:44:37\n",
      "Found no event for timestamp 2008-01-31 13:44:37\n",
      "Found no event for timestamp 2008-01-31 13:44:37\n",
      "Found no event for timestamp 2008-01-31 13:44:37\n",
      "Found no event for timestamp 2008-01-31 13:44:37\n",
      "Found no event for timestamp 2008-09-05 12:21:01\n",
      "Found no event for timestamp 2015-03-12 09:52:07\n",
      "Found no event for timestamp 2015-03-12 09:52:07\n",
      "Found no event for timestamp 2015-03-12 09:52:07\n",
      "Found no event for timestamp 2008-04-14 12:37:09\n",
      "Found no event for timestamp 2008-04-14 18:54:05\n",
      "Found no event for timestamp 2008-04-15 21:10:53\n",
      "Found no event for timestamp 2008-04-15 21:10:53\n",
      "Found no event for timestamp 2008-04-15 21:10:53\n",
      "Found no event for timestamp 2008-04-28 09:59:06\n",
      "Found no event for timestamp 2008-04-28 09:59:06\n",
      "Found no event for timestamp 2008-04-28 09:59:06\n",
      "Found no event for timestamp 2008-04-28 09:59:06\n",
      "Found no event for timestamp 2008-04-28 09:59:06\n",
      "Found no event for timestamp 2008-04-28 09:59:06\n",
      "Found no event for timestamp 2008-04-28 09:59:06\n",
      "Found no event for timestamp 2008-04-28 09:59:06\n",
      "Found no event for timestamp 2008-04-28 17:08:50\n"
     ]
    },
    {
     "name": "stdout",
     "output_type": "stream",
     "text": [
      "Found no event for timestamp 2008-04-28 17:08:50\n",
      "Found no event for timestamp 2008-04-28 17:08:50\n",
      "Found no event for timestamp 2008-04-29 16:42:45\n",
      "Found no event for timestamp 2008-04-29 16:42:45\n",
      "Found no event for timestamp 2008-04-29 16:42:45\n",
      "Found no event for timestamp 2008-04-29 16:42:45\n",
      "Found no event for timestamp 2008-04-30 09:02:32\n",
      "Found no event for timestamp 2008-04-30 09:02:32\n",
      "Found no event for timestamp 2008-04-30 09:02:32\n",
      "Found no event for timestamp 2008-04-30 09:02:32\n",
      "Found no event for timestamp 2008-04-30 09:02:32\n",
      "Found no event for timestamp 2008-05-06 18:12:16\n",
      "Found no event for timestamp 2008-05-06 18:12:16\n",
      "Found no event for timestamp 2008-05-06 18:12:16\n",
      "Found no event for timestamp 2008-05-06 18:12:16\n",
      "Found no event for timestamp 2008-05-07 17:53:50\n",
      "Found no event for timestamp 2008-05-07 17:53:50\n",
      "Found no event for timestamp 2008-05-07 17:53:50\n",
      "Found no event for timestamp 2008-05-07 17:53:50\n",
      "Found no event for timestamp 2008-05-07 17:53:50\n",
      "Found no event for timestamp 2008-05-07 17:53:50\n",
      "Found no event for timestamp 2008-05-07 17:53:50\n",
      "Found no event for timestamp 2008-05-09 15:13:38\n",
      "Found no event for timestamp 2008-05-09 15:13:38\n",
      "Found no event for timestamp 2008-05-09 15:13:38\n",
      "Found no event for timestamp 2008-05-09 15:13:38\n",
      "Found no event for timestamp 2008-05-15 19:43:14\n",
      "Found no event for timestamp 2008-05-15 19:43:14\n",
      "Found no event for timestamp 2008-05-16 17:22:27\n",
      "Found no event for timestamp 2008-05-16 17:22:27\n",
      "Found no event for timestamp 2008-05-16 17:22:27\n",
      "Found no event for timestamp 2008-05-16 17:22:27\n",
      "Found no event for timestamp 2008-05-19 12:34:10\n",
      "Found no event for timestamp 2008-05-19 12:34:10\n",
      "Found no event for timestamp 2008-05-19 12:34:10\n",
      "Found no event for timestamp 2008-05-19 12:34:10\n",
      "Found no event for timestamp 2008-05-19 19:19:57\n",
      "Found no event for timestamp 2008-05-19 19:19:57\n",
      "Found no event for timestamp 2008-05-19 19:19:57\n",
      "Found no event for timestamp 2008-05-19 19:19:57\n",
      "Found no event for timestamp 2008-05-20 07:35:59\n",
      "Found no event for timestamp 2008-05-20 07:35:59\n",
      "Found no event for timestamp 2008-05-20 07:35:59\n",
      "Found no event for timestamp 2008-05-20 07:35:59\n",
      "Found no event for timestamp 2008-05-20 18:07:21\n",
      "Found no event for timestamp 2008-05-20 18:07:21\n",
      "Found no event for timestamp 2008-05-20 18:07:21\n",
      "Found no event for timestamp 2008-05-21 18:17:47\n",
      "Found no event for timestamp 2008-05-21 18:17:47\n",
      "Found no event for timestamp 2008-05-21 18:17:47\n",
      "Found no event for timestamp 2008-05-21 18:17:47\n",
      "Found no event for timestamp 2008-05-23 07:44:16\n",
      "Found no event for timestamp 2008-05-23 07:44:16\n",
      "Found no event for timestamp 2008-05-23 07:44:16\n",
      "Found no event for timestamp 2008-05-23 07:44:16\n",
      "Found no event for timestamp 2008-05-23 07:44:16\n",
      "Found no event for timestamp 2008-05-23 07:44:16\n",
      "Found no event for timestamp 2008-05-23 07:44:16\n",
      "Found no event for timestamp 2008-05-23 17:48:21\n",
      "Found no event for timestamp 2008-05-23 17:48:21\n",
      "Found no event for timestamp 2008-05-23 17:48:21\n",
      "Found no event for timestamp 2008-05-23 17:48:21\n",
      "Found no event for timestamp 2008-05-26 07:41:44\n",
      "Found no event for timestamp 2008-05-26 07:41:44\n",
      "Found no event for timestamp 2008-05-26 07:41:44\n",
      "Found no event for timestamp 2008-05-26 07:41:44\n",
      "Found no event for timestamp 2008-05-26 07:41:44\n",
      "Found no event for timestamp 2008-05-26 07:41:44\n",
      "Found no event for timestamp 2008-05-26 16:54:18\n",
      "Found no event for timestamp 2008-05-26 16:54:18\n",
      "Found no event for timestamp 2008-05-26 16:54:18\n",
      "Found no event for timestamp 2008-05-26 16:54:18\n",
      "Found no event for timestamp 2008-05-26 16:54:18\n",
      "Found no event for timestamp 2008-05-27 10:48:29\n",
      "Found no event for timestamp 2008-05-27 10:48:29\n",
      "Found no event for timestamp 2008-05-27 10:48:29\n",
      "Found no event for timestamp 2008-05-27 17:40:42\n",
      "Found no event for timestamp 2008-05-27 17:40:42\n",
      "Found no event for timestamp 2008-05-28 07:35:58\n",
      "Found no event for timestamp 2008-05-28 07:35:58\n",
      "Found no event for timestamp 2008-05-28 07:35:58\n",
      "Found no event for timestamp 2008-05-28 19:08:27\n",
      "Found no event for timestamp 2008-05-28 19:08:27\n",
      "Found no event for timestamp 2008-05-28 19:08:27\n",
      "Found no event for timestamp 2008-05-28 19:08:27\n",
      "Found no event for timestamp 2008-05-28 19:08:27\n",
      "Found no event for timestamp 2008-05-29 07:30:57\n",
      "Found no event for timestamp 2008-05-29 07:30:57\n",
      "Found no event for timestamp 2008-05-29 07:30:57\n",
      "Found no event for timestamp 2008-05-29 07:30:57\n",
      "Found no event for timestamp 2008-05-29 07:30:57\n",
      "Found no event for timestamp 2008-05-29 18:39:39\n",
      "Found no event for timestamp 2008-05-29 18:39:39\n",
      "Found no event for timestamp 2008-05-29 18:39:39\n",
      "Found no event for timestamp 2008-05-29 18:39:39\n",
      "Found no event for timestamp 2008-05-29 18:39:39\n",
      "Found no event for timestamp 2008-06-04 08:55:16\n",
      "Found no event for timestamp 2008-06-04 08:55:16\n",
      "Found no event for timestamp 2008-06-04 08:55:16\n",
      "Found no event for timestamp 2008-06-04 08:55:16\n",
      "Found no event for timestamp 2008-06-04 17:38:03\n",
      "Found no event for timestamp 2008-06-04 17:38:03\n",
      "Found no event for timestamp 2008-06-04 17:38:03\n",
      "Found no event for timestamp 2008-06-04 17:38:03\n",
      "Found no event for timestamp 2008-06-04 17:38:03\n",
      "Found no event for timestamp 2008-06-04 17:38:03\n",
      "Found no event for timestamp 2008-06-04 17:38:03\n",
      "Found no event for timestamp 2008-06-04 17:38:03\n",
      "Found no event for timestamp 2008-06-04 17:38:03\n",
      "Found no event for timestamp 2008-06-04 17:38:03\n",
      "Found no event for timestamp 2008-06-05 08:16:18\n",
      "Found no event for timestamp 2008-06-05 08:16:18\n",
      "Found no event for timestamp 2008-06-05 08:16:18\n",
      "Found no event for timestamp 2008-06-05 08:16:18\n",
      "Found no event for timestamp 2008-06-05 14:39:20\n",
      "Found no event for timestamp 2008-06-05 14:39:20\n",
      "Found no event for timestamp 2008-06-05 14:39:20\n",
      "Found no event for timestamp 2008-06-05 14:39:20\n",
      "Found no event for timestamp 2008-06-05 14:39:20\n",
      "Found no event for timestamp 2008-06-05 14:39:20\n",
      "Found no event for timestamp 2008-06-05 14:39:20\n",
      "Found no event for timestamp 2008-06-05 14:39:20\n",
      "Found no event for timestamp 2008-06-05 14:39:20\n",
      "Found no event for timestamp 2008-06-05 14:39:20\n",
      "Found no event for timestamp 2008-06-05 14:39:20\n",
      "Found no event for timestamp 2008-06-05 14:39:20\n",
      "Found no event for timestamp 2008-06-05 14:39:20\n",
      "Found no event for timestamp 2008-06-05 14:39:20\n",
      "Found no event for timestamp 2008-06-06 14:38:32\n",
      "Found no event for timestamp 2008-06-06 14:38:32\n",
      "Found no event for timestamp 2008-06-06 14:38:32\n",
      "Found no event for timestamp 18/06/2008 14:17:26\n",
      "Found no event for timestamp 2008-07-25 08:25:32\n",
      "Found no event for timestamp 2008-07-25 11:44:27\n",
      "Found no event for timestamp 2007-06-27 07:40:31\n",
      "Found no event for timestamp 2007-06-27 11:13:10\n",
      "Found no event for timestamp 2007-06-27 12:16:37\n",
      "Found no event for timestamp 2008-06-05 11:22:05\n",
      "Found no event for timestamp 2008-06-06 12:32:32\n",
      "Found no event for timestamp 2008-06-06 15:36:50\n",
      "Found no event for timestamp 2008-06-09 15:22:44\n",
      "Found no event for timestamp 2008-06-09 15:22:44\n",
      "Found no event for timestamp 2008-06-09 15:22:44\n",
      "Found no event for timestamp 2008-06-09 15:22:44\n",
      "Found no event for timestamp 2008-06-09 15:22:44\n",
      "Found no event for timestamp 2008-06-09 15:22:44\n",
      "Found no event for timestamp 2008-06-09 15:22:44\n",
      "Found no event for timestamp 2008-06-09 15:22:44\n",
      "Found no event for timestamp 2008-06-11 07:26:17\n",
      "Found no event for timestamp 2008-06-11 07:26:17\n",
      "Found no event for timestamp 2008-06-11 07:26:17\n",
      "Found no event for timestamp 2008-06-11 07:26:17\n",
      "Found no event for timestamp 2008-06-19 19:34:23\n",
      "Found no event for timestamp 2008-06-19 19:34:23\n",
      "Found no event for timestamp 2008-06-19 19:34:23\n",
      "Found no event for timestamp 2008-06-19 19:34:23\n",
      "Found no event for timestamp 2008-06-19 19:34:23\n",
      "Found no event for timestamp 2008-06-19 19:34:23\n",
      "Found no event for timestamp 2008-06-19 19:34:23\n",
      "Found no event for timestamp 2008-06-19 19:34:23\n",
      "Found no event for timestamp 2008-06-19 19:34:23\n",
      "Found no event for timestamp 2008-06-19 19:34:23\n",
      "Found no event for timestamp 2008-06-19 19:34:23\n",
      "Found no event for timestamp 2008-06-19 19:34:23\n",
      "Found no event for timestamp 2008-06-19 19:34:23\n",
      "Found no event for timestamp 2008-06-19 19:34:23\n",
      "Found no event for timestamp 2008-06-30 20:05:08\n",
      "Found no event for timestamp 2015-02-27 22:44:08\n",
      "Found no event for timestamp 2015-02-27 22:44:08\n",
      "Found no event for timestamp 2015-02-27 22:44:08\n",
      "Found no event for timestamp 2015-02-27 22:44:08\n",
      "Found no event for timestamp 2015-02-27 22:44:08\n"
     ]
    },
    {
     "name": "stdout",
     "output_type": "stream",
     "text": [
      "Found no event for timestamp 2015-12-03 09:52:07\n",
      "Found no event for timestamp 2015-12-03 09:52:07\n",
      "Found no event for timestamp 2015-12-03 09:52:07\n",
      "Found no event for timestamp 2008-06-30 11:40:04\n",
      "Found no event for timestamp 2008-06-30 15:39:44\n",
      "Found no event for timestamp 2008-07-01 09:58:44\n",
      "Found no event for timestamp 2008-07-01 09:58:44\n",
      "Found no event for timestamp 2008-07-01 09:58:44\n",
      "Found no event for timestamp 2008-07-01 09:58:44\n",
      "Found no event for timestamp 2008-07-01 09:58:44\n",
      "Found no event for timestamp 2008-07-01 09:58:44\n",
      "Found no event for timestamp 2021-05-22 00:43:20.100000\n",
      "Found no event for timestamp 2021-05-22 00:43:20.100000\n",
      "Found no event for timestamp 2021-05-22 00:43:20.100000\n",
      "Found no event for timestamp 2021-05-22 00:43:20.100000\n",
      "Found no event for timestamp 2021-05-22 00:43:20.100000\n",
      "Found no event for timestamp 2021-05-22 00:43:20.100000\n",
      "Found no event for timestamp 2021-05-22 00:58:40.300000\n",
      "Found no event for timestamp 2021-05-22 00:58:40.300000\n",
      "Found no event for timestamp 2021-05-22 00:58:40.300000\n",
      "Found no event for timestamp 2021-05-22 00:58:40.300000\n",
      "Found no event for timestamp 2021-05-22 00:58:40.300000\n",
      "Found no event for timestamp 2021-05-22 00:58:40.300000\n",
      "Found no event for timestamp 2021-06-15 00:10:53.600000\n",
      "Found no event for timestamp 2021-06-15 00:10:53.600000\n",
      "Found no event for timestamp 2021-06-15 00:10:53.600000\n",
      "Found no event for timestamp 2021-06-15 00:10:53.600000\n",
      "Found no event for timestamp 2021-06-15 00:10:53.600000\n",
      "Found no event for timestamp 2021-06-19 00:25:03.400000\n",
      "Found no event for timestamp 2021-06-19 00:25:03.400000\n",
      "Found no event for timestamp 2021-06-19 00:25:03.400000\n",
      "Found no event for timestamp 2021-06-19 00:25:03.400000\n",
      "Found no event for timestamp 2021-06-19 00:25:03.400000\n",
      "Found no event for timestamp 2021-06-19 00:25:03.400000\n"
     ]
    },
    {
     "name": "stderr",
     "output_type": "stream",
     "text": [
      "\n",
      "A value is trying to be set on a copy of a slice from a DataFrame.\n",
      "Try using .loc[row_indexer,col_indexer] = value instead\n",
      "\n",
      "See the caveats in the documentation: https://pandas.pydata.org/pandas-docs/stable/user_guide/indexing.html#returning-a-view-versus-a-copy\n"
     ]
    }
   ],
   "source": [
    "mp3_fpa_df['timestamp_fgc'] = mp3_fpa_df.apply(get_fgc_timestamp, axis=1)"
   ]
  },
  {
   "cell_type": "markdown",
   "id": "3b4cb5d4",
   "metadata": {},
   "source": [
    "# Filter mp3 file"
   ]
  },
  {
   "cell_type": "code",
   "execution_count": 7,
   "id": "61d13a91",
   "metadata": {},
   "outputs": [
    {
     "name": "stdout",
     "output_type": "stream",
     "text": [
      "4399 mp3 excel file entries\n",
      "841 unique fgc events\n",
      "918 mp3 primary quench entries\n"
     ]
    }
   ],
   "source": [
    "# dropping duplicates of timestamps\n",
    "print(f\"{len(mp3_fpa_df['timestamp_fgc'])} mp3 excel file entries\")\n",
    "mp3_fpa_df_unique = mp3_fpa_df.drop_duplicates(subset=['timestamp_fgc', 'Circuit Name']) ### you need timestamp + circuit !!! \n",
    "\n",
    "print(f\"{len(mp3_fpa_df_unique)} unique fgc events\") # 841 Primary quenches?\n",
    "print(f\"{len(mp3_fpa_df[mp3_fpa_df['Nr in Q event']==1])} mp3 primary quench entries\") # 834 primary quenches with correct notes"
   ]
  },
  {
   "cell_type": "code",
   "execution_count": 8,
   "id": "cfced1c9",
   "metadata": {},
   "outputs": [],
   "source": [
    "operation_periods =[\n",
    "    'HWC 2007', \n",
    "    'HWC 2008', \n",
    "    'HWC 2009',\n",
    "    'HWC 2010', \n",
    "    'HWC Oct 2014', \n",
    "    'HWC Dec 2014', \n",
    "    'HWC 2015', \n",
    "    'Operation 2015', \n",
    "    'HWC 2016',\n",
    "    'Operation 2016',\n",
    "    'HWC Dec 2016', \n",
    "    'HWC 2017', \n",
    "    'Operation 2017', \n",
    "    'Operation 2018',\n",
    "    'HWC Dec 2018',\n",
    "    'HWC 2021', \n",
    "]"
   ]
  },
  {
   "cell_type": "code",
   "execution_count": 9,
   "id": "aeec62fd",
   "metadata": {},
   "outputs": [
    {
     "data": {
      "text/plain": [
       "<matplotlib.legend.Legend at 0x7fa6c5277310>"
      ]
     },
     "execution_count": 9,
     "metadata": {},
     "output_type": "execute_result"
    },
    {
     "data": {
      "image/png": "[encoded data removed]",
      "text/plain": [
       "<Figure size 720x720 with 1 Axes>"
      ]
     },
     "metadata": {
      "needs_background": "light"
     },
     "output_type": "display_data"
    }
   ],
   "source": [
    "fig, ax = plt.subplots(figsize=(10,10))\n",
    "width=0.3\n",
    "mp3_fpa_df.Period.value_counts()[operation_periods].plot(ax=ax, kind='barh', width=width, position=0, label='mp3 fpa entries')\n",
    "mp3_fpa_df_unique.Period.value_counts()[operation_periods].plot(ax=ax, kind='barh', width=width, position=1, color='red', label='unique fgc event')\n",
    "#mp3_fpa_df[mp3_fpa_df['Nr in Q event']==1].Period.value_counts()[operation_periods].plot(ax=ax, kind='barh', width=width, position=2, color='orange', label='unique fgc event')\n",
    "plt.legend()"
   ]
  },
  {
   "cell_type": "code",
   "execution_count": 10,
   "id": "8507768a",
   "metadata": {
    "scrolled": true
   },
   "outputs": [
    {
     "data": {
      "text/plain": [
       "HWC 2008          69\n",
       "HWC 2007           4\n",
       "HWC 2021           4\n",
       "HWC 2010           2\n",
       "HWC 2015           2\n",
       "HWC 2009           1\n",
       "Operation 2017     1\n",
       "HWC Dec 2018       1\n",
       "Name: Period, dtype: int64"
      ]
     },
     "execution_count": 10,
     "metadata": {},
     "output_type": "execute_result"
    }
   ],
   "source": [
    "# mp3 primary quench entries with no unique fgc entry\n",
    "mp3_fpa_df_missing = mp3_fpa_df[mp3_fpa_df['Nr in Q event']==1][~mp3_fpa_df[mp3_fpa_df['Nr in Q event']==1].index.isin(mp3_fpa_df_unique.index)] \n",
    "mp3_fpa_df_missing.Period.value_counts()"
   ]
  },
  {
   "cell_type": "code",
   "execution_count": 11,
   "id": "1c8b5ad9",
   "metadata": {},
   "outputs": [
    {
     "data": {
      "text/html": [
       "<div>\n",
       "<style scoped>\n",
       "    .dataframe tbody tr th:only-of-type {\n",
       "        vertical-align: middle;\n",
       "    }\n",
       "\n",
       "    .dataframe tbody tr th {\n",
       "        vertical-align: top;\n",
       "    }\n",
       "\n",
       "    .dataframe thead th {\n",
       "        text-align: right;\n",
       "    }\n",
       "</style>\n",
       "<table border=\"1\" class=\"dataframe\">\n",
       "  <thead>\n",
       "    <tr style=\"text-align: right;\">\n",
       "      <th></th>\n",
       "      <th>Circuit Name</th>\n",
       "      <th>Circuit Family</th>\n",
       "      <th>Period</th>\n",
       "      <th>Date (FGC)</th>\n",
       "      <th>Time (FGC)</th>\n",
       "      <th>FPA Reason</th>\n",
       "      <th>Timestamp_PIC</th>\n",
       "      <th>Delta_t(FGC-PIC)</th>\n",
       "      <th>Delta_t(EE_even-PIC)</th>\n",
       "      <th>Delta_t(EE_odd-PIC)</th>\n",
       "      <th>...</th>\n",
       "      <th>I_Q_SM18</th>\n",
       "      <th>dI_Q_Acc</th>\n",
       "      <th>dI_Q_LHC</th>\n",
       "      <th>Comment</th>\n",
       "      <th>Analysis performed by</th>\n",
       "      <th>lhcsmapi version</th>\n",
       "      <th>lhcsm notebook version</th>\n",
       "      <th>Unnamed: 46</th>\n",
       "      <th>Unnamed: 47</th>\n",
       "      <th>timestamp_fgc</th>\n",
       "    </tr>\n",
       "  </thead>\n",
       "  <tbody>\n",
       "    <tr>\n",
       "      <th>3050</th>\n",
       "      <td>RB.A12</td>\n",
       "      <td>RB</td>\n",
       "      <td>HWC 2021</td>\n",
       "      <td>2021-05-22 00:00:00</td>\n",
       "      <td>00:43:20.100000</td>\n",
       "      <td>Magnet quench</td>\n",
       "      <td>2021-05-22 00:43:20</td>\n",
       "      <td>31</td>\n",
       "      <td>592</td>\n",
       "      <td>96</td>\n",
       "      <td>...</td>\n",
       "      <td>11313</td>\n",
       "      <td>550</td>\n",
       "      <td>NaN</td>\n",
       "      <td>NaN</td>\n",
       "      <td>emm</td>\n",
       "      <td>1.5.13</td>\n",
       "      <td>1.5.63</td>\n",
       "      <td>NaN</td>\n",
       "      <td>NaN</td>\n",
       "      <td>NaN</td>\n",
       "    </tr>\n",
       "    <tr>\n",
       "      <th>3056</th>\n",
       "      <td>RB.A23</td>\n",
       "      <td>RB</td>\n",
       "      <td>HWC 2021</td>\n",
       "      <td>2021-05-22 00:00:00</td>\n",
       "      <td>00:58:40.300000</td>\n",
       "      <td>Magnet quench</td>\n",
       "      <td>2021-05-22 00:58:40</td>\n",
       "      <td>27</td>\n",
       "      <td>594</td>\n",
       "      <td>91</td>\n",
       "      <td>...</td>\n",
       "      <td>11213</td>\n",
       "      <td>261</td>\n",
       "      <td>NaN</td>\n",
       "      <td>NaN</td>\n",
       "      <td>emm</td>\n",
       "      <td>1.5.13</td>\n",
       "      <td>1.5.63</td>\n",
       "      <td>NaN</td>\n",
       "      <td>NaN</td>\n",
       "      <td>NaN</td>\n",
       "    </tr>\n",
       "    <tr>\n",
       "      <th>3529</th>\n",
       "      <td>RB.A56</td>\n",
       "      <td>RB</td>\n",
       "      <td>HWC 2021</td>\n",
       "      <td>2021-06-15 00:00:00</td>\n",
       "      <td>00:10:53.600000</td>\n",
       "      <td>Magnet quench</td>\n",
       "      <td>00:10:53.500000</td>\n",
       "      <td>20</td>\n",
       "      <td>596</td>\n",
       "      <td>96</td>\n",
       "      <td>...</td>\n",
       "      <td>12394</td>\n",
       "      <td>-1050</td>\n",
       "      <td>NaN</td>\n",
       "      <td>NaN</td>\n",
       "      <td>emm</td>\n",
       "      <td>1.5.14</td>\n",
       "      <td>1.5.64</td>\n",
       "      <td>NaN</td>\n",
       "      <td>NaN</td>\n",
       "      <td>NaN</td>\n",
       "    </tr>\n",
       "    <tr>\n",
       "      <th>3569</th>\n",
       "      <td>RB.A56</td>\n",
       "      <td>RB</td>\n",
       "      <td>HWC 2021</td>\n",
       "      <td>2021-06-19 00:00:00</td>\n",
       "      <td>00:25:03.400000</td>\n",
       "      <td>Magnet quench</td>\n",
       "      <td>00:25:03.400000</td>\n",
       "      <td>31</td>\n",
       "      <td>596</td>\n",
       "      <td>95</td>\n",
       "      <td>...</td>\n",
       "      <td>12307</td>\n",
       "      <td>-890</td>\n",
       "      <td>NaN</td>\n",
       "      <td>NaN</td>\n",
       "      <td>hagen</td>\n",
       "      <td>1.5.14</td>\n",
       "      <td>1.5.64</td>\n",
       "      <td>NaN</td>\n",
       "      <td>NaN</td>\n",
       "      <td>NaN</td>\n",
       "    </tr>\n",
       "  </tbody>\n",
       "</table>\n",
       "<p>4 rows × 49 columns</p>\n",
       "</div>"
      ],
      "text/plain": [
       "     Circuit Name Circuit Family    Period           Date (FGC)  \\\n",
       "3050       RB.A12             RB  HWC 2021  2021-05-22 00:00:00   \n",
       "3056       RB.A23             RB  HWC 2021  2021-05-22 00:00:00   \n",
       "3529       RB.A56             RB  HWC 2021  2021-06-15 00:00:00   \n",
       "3569       RB.A56             RB  HWC 2021  2021-06-19 00:00:00   \n",
       "\n",
       "           Time (FGC)     FPA Reason        Timestamp_PIC Delta_t(FGC-PIC)  \\\n",
       "3050  00:43:20.100000  Magnet quench  2021-05-22 00:43:20               31   \n",
       "3056  00:58:40.300000  Magnet quench  2021-05-22 00:58:40               27   \n",
       "3529  00:10:53.600000  Magnet quench      00:10:53.500000               20   \n",
       "3569  00:25:03.400000  Magnet quench      00:25:03.400000               31   \n",
       "\n",
       "     Delta_t(EE_even-PIC) Delta_t(EE_odd-PIC)  ... I_Q_SM18 dI_Q_Acc dI_Q_LHC  \\\n",
       "3050                  592                  96  ...    11313      550      NaN   \n",
       "3056                  594                  91  ...    11213      261      NaN   \n",
       "3529                  596                  96  ...    12394    -1050      NaN   \n",
       "3569                  596                  95  ...    12307     -890      NaN   \n",
       "\n",
       "     Comment Analysis performed by lhcsmapi version lhcsm notebook version  \\\n",
       "3050     NaN                   emm           1.5.13                 1.5.63   \n",
       "3056     NaN                   emm           1.5.13                 1.5.63   \n",
       "3529     NaN                   emm           1.5.14                 1.5.64   \n",
       "3569     NaN                 hagen           1.5.14                 1.5.64   \n",
       "\n",
       "     Unnamed: 46 Unnamed: 47 timestamp_fgc  \n",
       "3050         NaN         NaN           NaN  \n",
       "3056         NaN         NaN           NaN  \n",
       "3529         NaN         NaN           NaN  \n",
       "3569         NaN         NaN           NaN  \n",
       "\n",
       "[4 rows x 49 columns]"
      ]
     },
     "execution_count": 11,
     "metadata": {},
     "output_type": "execute_result"
    }
   ],
   "source": [
    "mp3_fpa_df_missing[mp3_fpa_df_missing['Period'] == 'HWC 2021']"
   ]
  },
  {
   "cell_type": "markdown",
   "id": "cd937e9f",
   "metadata": {},
   "source": [
    "# Select events to download"
   ]
  },
  {
   "cell_type": "code",
   "execution_count": 13,
   "id": "6524a86a",
   "metadata": {},
   "outputs": [
    {
     "data": {
      "text/plain": [
       "824"
      ]
     },
     "execution_count": 13,
     "metadata": {},
     "output_type": "execute_result"
    }
   ],
   "source": [
    "# Time.to_string(1514761200000000000), Time.to_unix_timestamp('2018-01-01 00:00:00+01:00')\n",
    "mp3_fpa_df_period = mp3_fpa_df_unique[mp3_fpa_df_unique['timestamp_fgc'] >= 1388530800000000000].reset_index(drop=True) ### we want to analyse >= 2017.01.01\n",
    "len(mp3_fpa_df_period)"
   ]
  },
  {
   "cell_type": "code",
   "execution_count": 14,
   "id": "ee0247e2",
   "metadata": {},
   "outputs": [],
   "source": [
    "def log_failed_files(circuit_type, circuit_name, timestamp_fgc):\n",
    "    identifier = {'circuit_type': circuit_type,\n",
    "                  'circuit_name': circuit_name,\n",
    "                  'timestamp_fgc': timestamp_fgc}\n",
    "    filename=Path('failed_files.csv')\n",
    "    if not filename.is_file():\n",
    "        df = pd.DataFrame(identifier, index=[0])\n",
    "    else:\n",
    "        df = pd.read_csv(filename)\n",
    "        df_new = pd.DataFrame(identifier, index=[0])\n",
    "        df = pd.concat([df, df_new], axis=0)\n",
    "    df.to_csv(filename, index=False)"
   ]
  },
  {
   "cell_type": "code",
   "execution_count": 15,
   "id": "3a4a09f6",
   "metadata": {},
   "outputs": [],
   "source": [
    "signal_groups = [PC_PM, EE_U_DUMP_RES_PM, EE_T_RES_PM, VOLTAGE_NXCALS, VOLTAGE_LOGIC_IQPS, VOLTAGE_LOGIC_NQPS, QH_PM, \n",
    "                 CURRENT_VOLTAGE_DIODE_LEADS_PM, CURRENT_VOLTAGE_DIODE_LEADS_NXCALS, LEADS]\n",
    "\n",
    "hdf_dir = Path('data')\n",
    "context_path = Path('context_data.csv')"
   ]
  },
  {
   "cell_type": "code",
   "execution_count": null,
   "id": "4b20540c",
   "metadata": {},
   "outputs": [
    {
     "name": "stdout",
     "output_type": "stream",
     "text": [
      "\tQuerying PM event signal(s) IAB.I_A, STATUS.I_EARTH_PCNT, STATUS.I_MEAS, STATUS.I_REF, IEARTH.IEARTH for system: RPTE.UA23.RB.A12, className: 51_self_pmd, source: FGC at 2014-12-11 21:45:14.580\n",
      "successfully downloaded: <class 'src.acquisitions.pc_pm.PC_PM'>\n",
      "\tQuerying PM event timestamps for system: QPS, className: DQAMSNRB, source: RR17.RB.A12, UA23.RB.A12 from 2014-12-11 21:45:04.580 to 2014-12-11 22:01:54.580\n",
      "\tQuerying PM event signal(s) RR17.RB.A12:U_DUMP_RES, UA23.RB.A12:U_DUMP_RES for system: RR17.RB.A12, UA23.RB.A12, className: DQAMSNRB, source: QPS at 2014-12-11 21:45:14.877\n"
     ]
    },
    {
     "name": "stderr",
     "output_type": "stream",
     "text": [
      "Post Mortem returned no data for the following query: http://pm-api-pro/v2/pmdata/signal?system=QPS&className=DQAMSNRB&source=UA23.RB.A12&timestampInNanos=1418330714877000000&signal=UA23.RB.A12:U_DUMP_RES\n"
     ]
    },
    {
     "name": "stdout",
     "output_type": "stream",
     "text": [
      "successfully downloaded: <class 'src.acquisitions.ee_u_dump_res_pm.EE_U_DUMP_RES_PM'>\n",
      "\tQuerying PM event timestamps for system: QPS, className: DQAMSNRB, source: RR17.RB.A12, UA23.RB.A12 from 2014-12-11 21:45:04.580 to 2014-12-11 22:01:54.580\n",
      "\tQuerying PM event signal(s) UA23.RB.A12:T_RES_BODY_2, RR17.RB.A12:T_RES_BODY_2, UA23.RB.A12:T_RES_BODY_1, RR17.RB.A12:T_RES_BODY_1, RR17.RB.A12:T_RES_BODY_3... for system: RR17.RB.A12, UA23.RB.A12..., className: DQAMSNRB..., source: QPS... at 2014-12-11 21:45:14.877\n"
     ]
    },
    {
     "name": "stderr",
     "output_type": "stream",
     "text": [
      "Post Mortem returned no data for the following query: http://pm-api-pro/v2/pmdata/signal?system=QPS&className=DQAMSNRB&source=UA23.RB.A12&timestampInNanos=1418330714877000000&signal=UA23.RB.A12:T_RES_BODY_1\n",
      "Post Mortem returned no data for the following query: http://pm-api-pro/v2/pmdata/signal?system=QPS&className=DQAMSNRB&source=UA23.RB.A12&timestampInNanos=1418330714877000000&signal=UA23.RB.A12:T_RES_BODY_2\n",
      "Post Mortem returned no data for the following query: http://pm-api-pro/v2/pmdata/signal?system=QPS&className=DQAMSNRB&source=UA23.RB.A12&timestampInNanos=1418330714877000000&signal=UA23.RB.A12:T_RES_BODY_3\n"
     ]
    },
    {
     "name": "stdout",
     "output_type": "stream",
     "text": [
      "successfully downloaded: <class 'src.acquisitions.ee_t_res_pm.EE_T_RES_PM'>\n",
      "\tQuerying NXCALS signal(s) MB.A10R1:U_DIODE_RB, MB.A9R1:U_DIODE_RB, MB.B9R1:U_DIODE_RB, MB.A8R1:U_DIODE_RB, MB.B8R1:U_DIODE_RB... from 2014-12-11 21:44:24.580 to 2014-12-11 21:53:34.580\n",
      "\tQuerying NXCALS signal(s) MB.C12R1:U_EARTH_RB, MB.B8R1:U_EARTH_RB, MB.B11R1:U_EARTH_RB, MB.A8R1:U_EARTH_RB, MB.A10R1:U_EARTH_RB... from 2014-12-11 21:44:24.580 to 2014-12-11 21:53:34.580\n",
      "successfully downloaded: <class 'src.acquisitions.voltage_nxcals.VOLTAGE_NXCALS'>\n",
      "\tQuerying PM event timestamps for system: QPS, className: DQAMCNMB_PMSTD, source: * from 2014-12-11 21:44:24.580 to 2014-12-11 21:53:34.580\n"
     ]
    },
    {
     "data": {
      "application/vnd.jupyter.widget-view+json": {
       "model_id": "f505d70583c649be8dbfb8bf42829301",
       "version_major": 2,
       "version_minor": 0
      },
      "text/plain": [
       "Querying iQPS logic PM:   0%|          | 0/1 [00:00<?, ?it/s]"
      ]
     },
     "metadata": {},
     "output_type": "display_data"
    },
    {
     "name": "stdout",
     "output_type": "stream",
     "text": [
      "successfully downloaded: <class 'src.acquisitions.voltage_logic_iqps.VOLTAGE_LOGIC_IQPS'>\n",
      "\tQuerying PM event timestamps for system: QPS, className: DQAMCNMB_PMSTD, source: * from 2014-12-11 21:44:24.580 to 2014-12-11 21:53:34.580\n",
      "\tQuerying PM event timestamps for system: QPS, className: DQAMGNSRB_PMREL, source: * from 2014-12-11 21:45:04.580 to 2014-12-11 21:51:54.580\n",
      "successfully downloaded: <class 'src.acquisitions.voltage_logic_nqps.VOLTAGE_LOGIC_NQPS'>\n",
      "\tQuerying PM event timestamps for system: QPS, className: DQAMCNMB_PMHSU, source: * from 2014-12-11 21:45:04.580 to 2014-12-11 21:53:34.580\n"
     ]
    },
    {
     "name": "stderr",
     "output_type": "stream",
     "text": [
      "Some nQPS PM buffers missing. ['B8R1', 'B9R1', 'B10R1', 'B11R1', 'B12R1', 'B13R1', 'B14R1', 'B15R1', 'B16R1', 'B17R1', 'B18R1', 'B19R1', 'B20R1', 'B21R1', 'B22R1', 'B23R1', 'B24R1', 'B25R1', 'B26R1', 'B27R1', 'B28R1', 'B29R1', 'B30R1', 'B31R1', 'B32R1', 'B33R1', 'B34R1', 'B34L2', 'B33L2', 'B32L2', 'B31L2', 'B30L2', 'B29L2', 'B28L2', 'B27L2', 'B26L2', 'B25L2', 'B24L2', 'B23L2', 'B22L2', 'B21L2', 'B20L2', 'B19L2', 'B18L2', 'B17L2', 'B16L2', 'B15L2', 'B14L2', 'B13L2', 'B12L2', 'B11L2', 'B10L2', 'B9L2', 'B8L2'] not found for RB.A12 within [(10, 's'), (400, 's')] around 1418330714580000000.\n",
      "At least one of the timestamps (nQPS or QDS) is missing, query skipped returning empty pd.DataFrame.\n"
     ]
    },
    {
     "data": {
      "application/vnd.jupyter.widget-view+json": {
       "model_id": "88fd080d1ebf4eb7b96eb725e5f6daff",
       "version_major": 2,
       "version_minor": 0
      },
      "text/plain": [
       "Querying PM:   0%|          | 0/1 [00:00<?, ?it/s]"
      ]
     },
     "metadata": {},
     "output_type": "display_data"
    },
    {
     "name": "stdout",
     "output_type": "stream",
     "text": [
      "successfully downloaded: <class 'src.acquisitions.qh_pm.QH_PM'>\n",
      "\tQuerying PM event timestamps for system: QPS, className: DQAMCNMB_PMSTD, source: * from 2014-12-11 21:44:24.580 to 2014-12-11 21:53:34.580\n"
     ]
    },
    {
     "data": {
      "application/vnd.jupyter.widget-view+json": {
       "model_id": "ca8cb60b8c76431e98a8d7dbf2273d52",
       "version_major": 2,
       "version_minor": 0
      },
      "text/plain": [
       "Querying U, I Diode PM:   0%|          | 0/1 [00:00<?, ?it/s]"
      ]
     },
     "metadata": {},
     "output_type": "display_data"
    },
    {
     "name": "stdout",
     "output_type": "stream",
     "text": [
      "\tQuerying PM event timestamps for system: QPS, className: DQAMGNSRB_PMREL, source: B17R1 from 2014-12-11 21:35:14.533 to 2014-12-11 21:55:14.533\n",
      "successfully downloaded: <class 'src.acquisitions.current_voltage_diode_leads_pm.CURRENT_VOLTAGE_DIODE_LEADS_PM'>\n",
      "\tQuerying PM event timestamps for system: QPS, className: DQAMCNMB_PMSTD, source: * from 2014-12-11 21:44:24.580 to 2014-12-11 21:51:04.580\n"
     ]
    },
    {
     "data": {
      "application/vnd.jupyter.widget-view+json": {
       "model_id": "52f228ae9599477aa965d4acbade6753",
       "version_major": 2,
       "version_minor": 0
      },
      "text/plain": [
       "Querying U, I Diode leads NXCALS:   0%|          | 0/1 [00:00<?, ?it/s]"
      ]
     },
     "metadata": {},
     "output_type": "display_data"
    },
    {
     "name": "stdout",
     "output_type": "stream",
     "text": [
      "successfully downloaded: <class 'src.acquisitions.current_voltage_diode_leads_nxcals.CURRENT_VOLTAGE_DIODE_LEADS_NXCALS'>\n",
      "\tQuerying PM event timestamps for system: QPS, className: DQAMGNDRBODD, DQAMGNDRBEVEN, source: RB.A12 from 2014-12-11 21:45:04.580 to 2014-12-11 21:51:54.580\n",
      "\tQuerying NXCALS signal(s) DFLAS.7R1.RB.A12.LD3:U_RES, DFLAS.7R1.RB.A12.LD4:U_HTS, DFLAS.7L2.RB.A12.LD1:U_HTS, DFLAS.7R1.RB.A12.LD3:U_HTS, DFLAS.7R1.RB.A12.LD4:U_RES... from 2014-12-11 21:44:44.580 to 2014-12-11 21:46:44.580\n",
      "successfully downloaded: <class 'src.acquisitions.leads.LEADS'>\n",
      "\tQuerying PM event signal(s) IAB.I_A, STATUS.I_EARTH_PCNT, STATUS.I_MEAS, STATUS.I_REF, IEARTH.IEARTH for system: RPTE.UA23.RB.A12, className: 51_self_pmd, source: FGC at 2014-12-12 12:46:04.500\n",
      "successfully downloaded: <class 'src.acquisitions.pc_pm.PC_PM'>\n",
      "\tQuerying PM event timestamps for system: QPS, className: DQAMSNRB, source: RR17.RB.A12, UA23.RB.A12 from 2014-12-12 12:45:54.500 to 2014-12-12 13:02:44.500\n",
      "\tQuerying PM event signal(s) RR17.RB.A12:U_DUMP_RES, UA23.RB.A12:U_DUMP_RES for system: RR17.RB.A12, UA23.RB.A12, className: DQAMSNRB, source: QPS at 2014-12-12 12:46:04.817\n"
     ]
    },
    {
     "name": "stderr",
     "output_type": "stream",
     "text": [
      "Post Mortem returned no data for the following query: http://pm-api-pro/v2/pmdata/signal?system=QPS&className=DQAMSNRB&source=UA23.RB.A12&timestampInNanos=1418384764817000000&signal=UA23.RB.A12:U_DUMP_RES\n"
     ]
    },
    {
     "name": "stdout",
     "output_type": "stream",
     "text": [
      "successfully downloaded: <class 'src.acquisitions.ee_u_dump_res_pm.EE_U_DUMP_RES_PM'>\n",
      "\tQuerying PM event timestamps for system: QPS, className: DQAMSNRB, source: RR17.RB.A12, UA23.RB.A12 from 2014-12-12 12:45:54.500 to 2014-12-12 13:02:44.500\n",
      "\tQuerying PM event signal(s) UA23.RB.A12:T_RES_BODY_2, RR17.RB.A12:T_RES_BODY_2, UA23.RB.A12:T_RES_BODY_1, RR17.RB.A12:T_RES_BODY_1, RR17.RB.A12:T_RES_BODY_3... for system: RR17.RB.A12, UA23.RB.A12..., className: DQAMSNRB..., source: QPS... at 2014-12-12 12:46:04.817\n"
     ]
    },
    {
     "name": "stderr",
     "output_type": "stream",
     "text": [
      "Post Mortem returned no data for the following query: http://pm-api-pro/v2/pmdata/signal?system=QPS&className=DQAMSNRB&source=UA23.RB.A12&timestampInNanos=1418384764817000000&signal=UA23.RB.A12:T_RES_BODY_1\n",
      "Post Mortem returned no data for the following query: http://pm-api-pro/v2/pmdata/signal?system=QPS&className=DQAMSNRB&source=UA23.RB.A12&timestampInNanos=1418384764817000000&signal=UA23.RB.A12:T_RES_BODY_2\n",
      "Post Mortem returned no data for the following query: http://pm-api-pro/v2/pmdata/signal?system=QPS&className=DQAMSNRB&source=UA23.RB.A12&timestampInNanos=1418384764817000000&signal=UA23.RB.A12:T_RES_BODY_3\n"
     ]
    },
    {
     "name": "stdout",
     "output_type": "stream",
     "text": [
      "successfully downloaded: <class 'src.acquisitions.ee_t_res_pm.EE_T_RES_PM'>\n",
      "\tQuerying NXCALS signal(s) MB.A10R1:U_DIODE_RB, MB.A9R1:U_DIODE_RB, MB.B9R1:U_DIODE_RB, MB.A8R1:U_DIODE_RB, MB.B8R1:U_DIODE_RB... from 2014-12-12 12:45:14.500 to 2014-12-12 12:54:24.500\n",
      "\tQuerying NXCALS signal(s) MB.C12R1:U_EARTH_RB, MB.B8R1:U_EARTH_RB, MB.B11R1:U_EARTH_RB, MB.A8R1:U_EARTH_RB, MB.A10R1:U_EARTH_RB... from 2014-12-12 12:45:14.500 to 2014-12-12 12:54:24.500\n",
      "successfully downloaded: <class 'src.acquisitions.voltage_nxcals.VOLTAGE_NXCALS'>\n",
      "\tQuerying PM event timestamps for system: QPS, className: DQAMCNMB_PMSTD, source: * from 2014-12-12 12:45:14.500 to 2014-12-12 12:54:24.500\n"
     ]
    },
    {
     "data": {
      "application/vnd.jupyter.widget-view+json": {
       "model_id": "9104e66286c24b55bf48c0cd8137db21",
       "version_major": 2,
       "version_minor": 0
      },
      "text/plain": [
       "Querying iQPS logic PM:   0%|          | 0/1 [00:00<?, ?it/s]"
      ]
     },
     "metadata": {},
     "output_type": "display_data"
    },
    {
     "name": "stdout",
     "output_type": "stream",
     "text": [
      "successfully downloaded: <class 'src.acquisitions.voltage_logic_iqps.VOLTAGE_LOGIC_IQPS'>\n",
      "\tQuerying PM event timestamps for system: QPS, className: DQAMCNMB_PMSTD, source: * from 2014-12-12 12:45:14.500 to 2014-12-12 12:54:24.500\n",
      "\tQuerying PM event timestamps for system: QPS, className: DQAMGNSRB_PMREL, source: * from 2014-12-12 12:45:54.500 to 2014-12-12 12:52:44.500\n",
      "successfully downloaded: <class 'src.acquisitions.voltage_logic_nqps.VOLTAGE_LOGIC_NQPS'>\n",
      "\tQuerying PM event timestamps for system: QPS, className: DQAMCNMB_PMHSU, source: * from 2014-12-12 12:45:54.500 to 2014-12-12 12:54:24.500\n"
     ]
    },
    {
     "name": "stderr",
     "output_type": "stream",
     "text": [
      "Some nQPS PM buffers missing. ['B8R1', 'B9R1', 'B10R1', 'B11R1', 'B12R1', 'B13R1', 'B14R1', 'B15R1', 'B16R1', 'B17R1', 'B18R1', 'B19R1', 'B20R1', 'B21R1', 'B22R1', 'B23R1', 'B24R1', 'B25R1', 'B26R1', 'B27R1', 'B28R1', 'B29R1', 'B30R1', 'B31R1', 'B32R1', 'B33R1', 'B34R1', 'B34L2', 'B33L2', 'B32L2', 'B31L2', 'B30L2', 'B29L2', 'B28L2', 'B27L2', 'B26L2', 'B25L2', 'B24L2', 'B23L2', 'B22L2', 'B21L2', 'B20L2', 'B19L2', 'B18L2', 'B17L2', 'B16L2', 'B15L2', 'B14L2', 'B13L2', 'B12L2', 'B11L2', 'B10L2', 'B9L2', 'B8L2'] not found for RB.A12 within [(10, 's'), (400, 's')] around 1418384764500000000.\n",
      "At least one of the timestamps (nQPS or QDS) is missing, query skipped returning empty pd.DataFrame.\n"
     ]
    },
    {
     "data": {
      "application/vnd.jupyter.widget-view+json": {
       "model_id": "3609e61dbbc84b15bda74c3dfa2e2953",
       "version_major": 2,
       "version_minor": 0
      },
      "text/plain": [
       "Querying PM:   0%|          | 0/1 [00:00<?, ?it/s]"
      ]
     },
     "metadata": {},
     "output_type": "display_data"
    },
    {
     "name": "stdout",
     "output_type": "stream",
     "text": [
      "successfully downloaded: <class 'src.acquisitions.qh_pm.QH_PM'>\n",
      "\tQuerying PM event timestamps for system: QPS, className: DQAMCNMB_PMSTD, source: * from 2014-12-12 12:45:14.500 to 2014-12-12 12:54:24.500\n"
     ]
    },
    {
     "data": {
      "application/vnd.jupyter.widget-view+json": {
       "model_id": "b9b6500efb0d4abb8855d6d681e62d2f",
       "version_major": 2,
       "version_minor": 0
      },
      "text/plain": [
       "Querying U, I Diode PM:   0%|          | 0/1 [00:00<?, ?it/s]"
      ]
     },
     "metadata": {},
     "output_type": "display_data"
    },
    {
     "name": "stdout",
     "output_type": "stream",
     "text": [
      "\tQuerying PM event timestamps for system: QPS, className: DQAMGNSRB_PMREL, source: B26L2 from 2014-12-12 12:36:04.470 to 2014-12-12 12:56:04.470\n",
      "successfully downloaded: <class 'src.acquisitions.current_voltage_diode_leads_pm.CURRENT_VOLTAGE_DIODE_LEADS_PM'>\n",
      "\tQuerying PM event timestamps for system: QPS, className: DQAMCNMB_PMSTD, source: * from 2014-12-12 12:45:14.500 to 2014-12-12 12:51:54.500\n"
     ]
    },
    {
     "data": {
      "application/vnd.jupyter.widget-view+json": {
       "model_id": "ce6c182f8ce14df09f17ca7dce96582c",
       "version_major": 2,
       "version_minor": 0
      },
      "text/plain": [
       "Querying U, I Diode leads NXCALS:   0%|          | 0/1 [00:00<?, ?it/s]"
      ]
     },
     "metadata": {},
     "output_type": "display_data"
    },
    {
     "name": "stdout",
     "output_type": "stream",
     "text": [
      "successfully downloaded: <class 'src.acquisitions.current_voltage_diode_leads_nxcals.CURRENT_VOLTAGE_DIODE_LEADS_NXCALS'>\n",
      "\tQuerying PM event timestamps for system: QPS, className: DQAMGNDRBODD, DQAMGNDRBEVEN, source: RB.A12 from 2014-12-12 12:45:54.500 to 2014-12-12 12:52:44.500\n",
      "\tQuerying NXCALS signal(s) DFLAS.7R1.RB.A12.LD3:U_RES, DFLAS.7R1.RB.A12.LD4:U_HTS, DFLAS.7L2.RB.A12.LD1:U_HTS, DFLAS.7R1.RB.A12.LD3:U_HTS, DFLAS.7R1.RB.A12.LD4:U_RES... from 2014-12-12 12:45:34.500 to 2014-12-12 12:47:34.500\n",
      "successfully downloaded: <class 'src.acquisitions.leads.LEADS'>\n",
      "\tQuerying PM event signal(s) IAB.I_A, STATUS.I_EARTH_PCNT, STATUS.I_MEAS, STATUS.I_REF, IEARTH.IEARTH for system: RPTE.UA23.RB.A12, className: 51_self_pmd, source: FGC at 2014-12-13 16:31:10.560\n",
      "successfully downloaded: <class 'src.acquisitions.pc_pm.PC_PM'>\n",
      "\tQuerying PM event timestamps for system: QPS, className: DQAMSNRB, source: RR17.RB.A12, UA23.RB.A12 from 2014-12-13 16:31:00.560 to 2014-12-13 16:47:50.560\n",
      "\tQuerying PM event signal(s) RR17.RB.A12:U_DUMP_RES, UA23.RB.A12:U_DUMP_RES for system: RR17.RB.A12, UA23.RB.A12, className: DQAMSNRB, source: QPS at 2014-12-13 16:31:10.865\n"
     ]
    },
    {
     "name": "stderr",
     "output_type": "stream",
     "text": [
      "Post Mortem returned no data for the following query: http://pm-api-pro/v2/pmdata/signal?system=QPS&className=DQAMSNRB&source=UA23.RB.A12&timestampInNanos=1418484670865000000&signal=UA23.RB.A12:U_DUMP_RES\n"
     ]
    },
    {
     "name": "stdout",
     "output_type": "stream",
     "text": [
      "successfully downloaded: <class 'src.acquisitions.ee_u_dump_res_pm.EE_U_DUMP_RES_PM'>\n",
      "\tQuerying PM event timestamps for system: QPS, className: DQAMSNRB, source: RR17.RB.A12, UA23.RB.A12 from 2014-12-13 16:31:00.560 to 2014-12-13 16:47:50.560\n",
      "\tQuerying PM event signal(s) UA23.RB.A12:T_RES_BODY_2, RR17.RB.A12:T_RES_BODY_2, UA23.RB.A12:T_RES_BODY_1, RR17.RB.A12:T_RES_BODY_1, RR17.RB.A12:T_RES_BODY_3... for system: RR17.RB.A12, UA23.RB.A12..., className: DQAMSNRB..., source: QPS... at 2014-12-13 16:31:10.865\n"
     ]
    },
    {
     "name": "stderr",
     "output_type": "stream",
     "text": [
      "Post Mortem returned no data for the following query: http://pm-api-pro/v2/pmdata/signal?system=QPS&className=DQAMSNRB&source=UA23.RB.A12&timestampInNanos=1418484670865000000&signal=UA23.RB.A12:T_RES_BODY_1\n",
      "Post Mortem returned no data for the following query: http://pm-api-pro/v2/pmdata/signal?system=QPS&className=DQAMSNRB&source=UA23.RB.A12&timestampInNanos=1418484670865000000&signal=UA23.RB.A12:T_RES_BODY_2\n",
      "Post Mortem returned no data for the following query: http://pm-api-pro/v2/pmdata/signal?system=QPS&className=DQAMSNRB&source=UA23.RB.A12&timestampInNanos=1418484670865000000&signal=UA23.RB.A12:T_RES_BODY_3\n"
     ]
    },
    {
     "name": "stdout",
     "output_type": "stream",
     "text": [
      "successfully downloaded: <class 'src.acquisitions.ee_t_res_pm.EE_T_RES_PM'>\n",
      "\tQuerying NXCALS signal(s) MB.A10R1:U_DIODE_RB, MB.A9R1:U_DIODE_RB, MB.B9R1:U_DIODE_RB, MB.A8R1:U_DIODE_RB, MB.B8R1:U_DIODE_RB... from 2014-12-13 16:30:20.560 to 2014-12-13 16:39:30.560\n",
      "\tQuerying NXCALS signal(s) MB.C12R1:U_EARTH_RB, MB.B8R1:U_EARTH_RB, MB.B11R1:U_EARTH_RB, MB.A8R1:U_EARTH_RB, MB.A10R1:U_EARTH_RB... from 2014-12-13 16:30:20.560 to 2014-12-13 16:39:30.560\n",
      "successfully downloaded: <class 'src.acquisitions.voltage_nxcals.VOLTAGE_NXCALS'>\n",
      "\tQuerying PM event timestamps for system: QPS, className: DQAMCNMB_PMSTD, source: * from 2014-12-13 16:30:20.560 to 2014-12-13 16:39:30.560\n"
     ]
    },
    {
     "data": {
      "application/vnd.jupyter.widget-view+json": {
       "model_id": "404664e8ad8a4b329c052164da6e65d0",
       "version_major": 2,
       "version_minor": 0
      },
      "text/plain": [
       "Querying iQPS logic PM:   0%|          | 0/4 [00:00<?, ?it/s]"
      ]
     },
     "metadata": {},
     "output_type": "display_data"
    },
    {
     "name": "stdout",
     "output_type": "stream",
     "text": [
      "successfully downloaded: <class 'src.acquisitions.voltage_logic_iqps.VOLTAGE_LOGIC_IQPS'>\n",
      "\tQuerying PM event timestamps for system: QPS, className: DQAMCNMB_PMSTD, source: * from 2014-12-13 16:30:20.560 to 2014-12-13 16:39:30.560\n",
      "\tQuerying PM event timestamps for system: QPS, className: DQAMGNSRB_PMREL, source: * from 2014-12-13 16:31:00.560 to 2014-12-13 16:37:50.560\n",
      "successfully downloaded: <class 'src.acquisitions.voltage_logic_nqps.VOLTAGE_LOGIC_NQPS'>\n",
      "\tQuerying PM event timestamps for system: QPS, className: DQAMCNMB_PMHSU, source: * from 2014-12-13 16:31:00.560 to 2014-12-13 16:39:30.560\n"
     ]
    },
    {
     "name": "stderr",
     "output_type": "stream",
     "text": [
      "Some nQPS PM buffers missing. ['B8R1', 'B9R1', 'B10R1', 'B11R1', 'B12R1', 'B13R1', 'B14R1', 'B15R1', 'B16R1', 'B17R1', 'B18R1', 'B19R1', 'B20R1', 'B21R1', 'B22R1', 'B23R1', 'B24R1', 'B25R1', 'B26R1', 'B27R1', 'B28R1', 'B29R1', 'B30R1', 'B31R1', 'B32R1', 'B33R1', 'B34R1', 'B34L2', 'B33L2', 'B32L2', 'B31L2', 'B30L2', 'B29L2', 'B28L2', 'B27L2', 'B26L2', 'B25L2', 'B24L2', 'B23L2', 'B22L2', 'B21L2', 'B20L2', 'B19L2', 'B18L2', 'B17L2', 'B16L2', 'B15L2', 'B14L2', 'B13L2', 'B12L2', 'B11L2', 'B10L2', 'B9L2', 'B8L2'] not found for RB.A12 within [(10, 's'), (400, 's')] around 1418484670560000000.\n",
      "At least one of the timestamps (nQPS or QDS) is missing, query skipped returning empty pd.DataFrame.\n"
     ]
    },
    {
     "data": {
      "application/vnd.jupyter.widget-view+json": {
       "model_id": "a1bb8c6a277849ecb85ad7244c59cbb6",
       "version_major": 2,
       "version_minor": 0
      },
      "text/plain": [
       "Querying PM:   0%|          | 0/4 [00:00<?, ?it/s]"
      ]
     },
     "metadata": {},
     "output_type": "display_data"
    },
    {
     "name": "stdout",
     "output_type": "stream",
     "text": [
      "successfully downloaded: <class 'src.acquisitions.qh_pm.QH_PM'>\n",
      "\tQuerying PM event timestamps for system: QPS, className: DQAMCNMB_PMSTD, source: * from 2014-12-13 16:30:20.560 to 2014-12-13 16:39:30.560\n"
     ]
    },
    {
     "data": {
      "application/vnd.jupyter.widget-view+json": {
       "model_id": "5ca2106404a842efa7f1bb33a1223322",
       "version_major": 2,
       "version_minor": 0
      },
      "text/plain": [
       "Querying U, I Diode PM:   0%|          | 0/4 [00:00<?, ?it/s]"
      ]
     },
     "metadata": {},
     "output_type": "display_data"
    },
    {
     "name": "stdout",
     "output_type": "stream",
     "text": [
      "\tQuerying PM event timestamps for system: QPS, className: DQAMGNSRB_PMREL, source: B27R1 from 2014-12-13 16:21:10.521 to 2014-12-13 16:41:10.521\n",
      "successfully downloaded: <class 'src.acquisitions.current_voltage_diode_leads_pm.CURRENT_VOLTAGE_DIODE_LEADS_PM'>\n",
      "\tQuerying PM event timestamps for system: QPS, className: DQAMCNMB_PMSTD, source: * from 2014-12-13 16:30:20.560 to 2014-12-13 16:37:00.560\n"
     ]
    },
    {
     "data": {
      "application/vnd.jupyter.widget-view+json": {
       "model_id": "b0de6179132e479a88e5119457a767ef",
       "version_major": 2,
       "version_minor": 0
      },
      "text/plain": [
       "Querying U, I Diode leads NXCALS:   0%|          | 0/4 [00:00<?, ?it/s]"
      ]
     },
     "metadata": {},
     "output_type": "display_data"
    },
    {
     "name": "stdout",
     "output_type": "stream",
     "text": [
      "successfully downloaded: <class 'src.acquisitions.current_voltage_diode_leads_nxcals.CURRENT_VOLTAGE_DIODE_LEADS_NXCALS'>\n",
      "\tQuerying PM event timestamps for system: QPS, className: DQAMGNDRBODD, DQAMGNDRBEVEN, source: RB.A12 from 2014-12-13 16:31:00.560 to 2014-12-13 16:37:50.560\n",
      "\tQuerying PM event signal(s) DFLAS.7R1.RB.A12.LD3:U_RES, DFLAS.7R1.RB.A12.LD4:U_HTS, DFLAS.7L2.RB.A12.LD1:U_HTS, DFLAS.7R1.RB.A12.LD3:U_HTS, DFLAS.7R1.RB.A12.LD4:U_RES... for system: RB.A12..., className: DQAMGNDRBODD, DQAMGNDRBEVEN..., source: QPS... at 2014-12-13 16:31:11.206\n"
     ]
    },
    {
     "name": "stderr",
     "output_type": "stream",
     "text": [
      "Post Mortem returned no data for the following query: http://pm-api-pro/v2/pmdata/signal?system=QPS&className=DQAMGNDRBEVEN&source=RB.A12&timestampInNanos=1418484671206000000&signal=DFLAS.7L2.RB.A12.LD1:U_HTS\n",
      "Post Mortem returned no data for the following query: http://pm-api-pro/v2/pmdata/signal?system=QPS&className=DQAMGNDRBEVEN&source=RB.A12&timestampInNanos=1418484671206000000&signal=DFLAS.7L2.RB.A12.LD2:U_HTS\n",
      "Post Mortem returned no data for the following query: http://pm-api-pro/v2/pmdata/signal?system=QPS&className=DQAMGNDRBEVEN&source=RB.A12&timestampInNanos=1418484671206000000&signal=DFLAS.7L2.RB.A12.LD1:U_RES\n",
      "Post Mortem returned no data for the following query: http://pm-api-pro/v2/pmdata/signal?system=QPS&className=DQAMGNDRBEVEN&source=RB.A12&timestampInNanos=1418484671206000000&signal=DFLAS.7L2.RB.A12.LD2:U_RES\n"
     ]
    },
    {
     "name": "stdout",
     "output_type": "stream",
     "text": [
      "successfully downloaded: <class 'src.acquisitions.leads.LEADS'>\n",
      "\tQuerying PM event signal(s) IAB.I_A, STATUS.I_EARTH_PCNT, STATUS.I_MEAS, STATUS.I_REF, IEARTH.IEARTH for system: RPTE.UA23.RB.A12, className: 51_self_pmd, source: FGC at 2014-12-14 07:33:34.280\n",
      "successfully downloaded: <class 'src.acquisitions.pc_pm.PC_PM'>\n",
      "\tQuerying PM event timestamps for system: QPS, className: DQAMSNRB, source: RR17.RB.A12, UA23.RB.A12 from 2014-12-14 07:33:24.280 to 2014-12-14 07:50:14.280\n",
      "\tQuerying PM event signal(s) RR17.RB.A12:U_DUMP_RES, UA23.RB.A12:U_DUMP_RES for system: RR17.RB.A12, UA23.RB.A12, className: DQAMSNRB, source: QPS at 2014-12-14 07:33:34.584\n"
     ]
    },
    {
     "name": "stderr",
     "output_type": "stream",
     "text": [
      "Post Mortem returned no data for the following query: http://pm-api-pro/v2/pmdata/signal?system=QPS&className=DQAMSNRB&source=UA23.RB.A12&timestampInNanos=1418538814584000000&signal=UA23.RB.A12:U_DUMP_RES\n"
     ]
    },
    {
     "name": "stdout",
     "output_type": "stream",
     "text": [
      "successfully downloaded: <class 'src.acquisitions.ee_u_dump_res_pm.EE_U_DUMP_RES_PM'>\n",
      "\tQuerying PM event timestamps for system: QPS, className: DQAMSNRB, source: RR17.RB.A12, UA23.RB.A12 from 2014-12-14 07:33:24.280 to 2014-12-14 07:50:14.280\n",
      "\tQuerying PM event signal(s) UA23.RB.A12:T_RES_BODY_2, RR17.RB.A12:T_RES_BODY_2, UA23.RB.A12:T_RES_BODY_1, RR17.RB.A12:T_RES_BODY_1, RR17.RB.A12:T_RES_BODY_3... for system: RR17.RB.A12, UA23.RB.A12..., className: DQAMSNRB..., source: QPS... at 2014-12-14 07:33:34.584\n"
     ]
    },
    {
     "name": "stderr",
     "output_type": "stream",
     "text": [
      "Post Mortem returned no data for the following query: http://pm-api-pro/v2/pmdata/signal?system=QPS&className=DQAMSNRB&source=UA23.RB.A12&timestampInNanos=1418538814584000000&signal=UA23.RB.A12:T_RES_BODY_1\n",
      "Post Mortem returned no data for the following query: http://pm-api-pro/v2/pmdata/signal?system=QPS&className=DQAMSNRB&source=UA23.RB.A12&timestampInNanos=1418538814584000000&signal=UA23.RB.A12:T_RES_BODY_2\n",
      "Post Mortem returned no data for the following query: http://pm-api-pro/v2/pmdata/signal?system=QPS&className=DQAMSNRB&source=UA23.RB.A12&timestampInNanos=1418538814584000000&signal=UA23.RB.A12:T_RES_BODY_3\n"
     ]
    },
    {
     "name": "stdout",
     "output_type": "stream",
     "text": [
      "successfully downloaded: <class 'src.acquisitions.ee_t_res_pm.EE_T_RES_PM'>\n",
      "\tQuerying NXCALS signal(s) MB.A10R1:U_DIODE_RB, MB.A9R1:U_DIODE_RB, MB.B9R1:U_DIODE_RB, MB.A8R1:U_DIODE_RB, MB.B8R1:U_DIODE_RB... from 2014-12-14 07:32:44.280 to 2014-12-14 07:41:54.280\n",
      "\tQuerying NXCALS signal(s) MB.C12R1:U_EARTH_RB, MB.B8R1:U_EARTH_RB, MB.B11R1:U_EARTH_RB, MB.A8R1:U_EARTH_RB, MB.A10R1:U_EARTH_RB... from 2014-12-14 07:32:44.280 to 2014-12-14 07:41:54.280\n",
      "successfully downloaded: <class 'src.acquisitions.voltage_nxcals.VOLTAGE_NXCALS'>\n",
      "\tQuerying PM event timestamps for system: QPS, className: DQAMCNMB_PMSTD, source: * from 2014-12-14 07:32:44.280 to 2014-12-14 07:41:54.280\n"
     ]
    },
    {
     "data": {
      "application/vnd.jupyter.widget-view+json": {
       "model_id": "a062dac185e34f98871ee7097262db24",
       "version_major": 2,
       "version_minor": 0
      },
      "text/plain": [
       "Querying iQPS logic PM:   0%|          | 0/5 [00:00<?, ?it/s]"
      ]
     },
     "metadata": {},
     "output_type": "display_data"
    },
    {
     "name": "stdout",
     "output_type": "stream",
     "text": [
      "successfully downloaded: <class 'src.acquisitions.voltage_logic_iqps.VOLTAGE_LOGIC_IQPS'>\n",
      "\tQuerying PM event timestamps for system: QPS, className: DQAMCNMB_PMSTD, source: * from 2014-12-14 07:32:44.280 to 2014-12-14 07:41:54.280\n",
      "\tQuerying PM event timestamps for system: QPS, className: DQAMGNSRB_PMREL, source: * from 2014-12-14 07:33:24.280 to 2014-12-14 07:40:14.280\n",
      "successfully downloaded: <class 'src.acquisitions.voltage_logic_nqps.VOLTAGE_LOGIC_NQPS'>\n",
      "\tQuerying PM event timestamps for system: QPS, className: DQAMCNMB_PMHSU, source: * from 2014-12-14 07:33:24.280 to 2014-12-14 07:41:54.280\n"
     ]
    },
    {
     "name": "stderr",
     "output_type": "stream",
     "text": [
      "Some nQPS PM buffers missing. ['B8R1', 'B9R1', 'B10R1', 'B11R1', 'B12R1', 'B13R1', 'B14R1', 'B15R1', 'B16R1', 'B17R1', 'B18R1', 'B19R1', 'B20R1', 'B21R1', 'B22R1', 'B23R1', 'B24R1', 'B25R1', 'B26R1', 'B27R1', 'B28R1', 'B29R1', 'B30R1', 'B31R1', 'B32R1', 'B33R1', 'B34R1', 'B34L2', 'B33L2', 'B32L2', 'B31L2', 'B30L2', 'B29L2', 'B28L2', 'B27L2', 'B26L2', 'B25L2', 'B24L2', 'B23L2', 'B22L2', 'B21L2', 'B20L2', 'B19L2', 'B18L2', 'B17L2', 'B16L2', 'B15L2', 'B14L2', 'B13L2', 'B12L2', 'B11L2', 'B10L2', 'B9L2', 'B8L2'] not found for RB.A12 within [(10, 's'), (400, 's')] around 1418538814280000000.\n",
      "At least one of the timestamps (nQPS or QDS) is missing, query skipped returning empty pd.DataFrame.\n"
     ]
    },
    {
     "data": {
      "application/vnd.jupyter.widget-view+json": {
       "model_id": "79bcc13611424a74baec4b76236189d7",
       "version_major": 2,
       "version_minor": 0
      },
      "text/plain": [
       "Querying PM:   0%|          | 0/5 [00:00<?, ?it/s]"
      ]
     },
     "metadata": {},
     "output_type": "display_data"
    },
    {
     "name": "stdout",
     "output_type": "stream",
     "text": [
      "successfully downloaded: <class 'src.acquisitions.qh_pm.QH_PM'>\n",
      "\tQuerying PM event timestamps for system: QPS, className: DQAMCNMB_PMSTD, source: * from 2014-12-14 07:32:44.280 to 2014-12-14 07:41:54.280\n"
     ]
    },
    {
     "data": {
      "application/vnd.jupyter.widget-view+json": {
       "model_id": "06ab9e57a1f54613be8f3bf4e5bb972e",
       "version_major": 2,
       "version_minor": 0
      },
      "text/plain": [
       "Querying U, I Diode PM:   0%|          | 0/5 [00:00<?, ?it/s]"
      ]
     },
     "metadata": {},
     "output_type": "display_data"
    },
    {
     "name": "stdout",
     "output_type": "stream",
     "text": [
      "\tQuerying PM event timestamps for system: QPS, className: DQAMGNSRB_PMREL, source: B29R1 from 2014-12-14 07:23:34.237 to 2014-12-14 07:43:34.237\n",
      "successfully downloaded: <class 'src.acquisitions.current_voltage_diode_leads_pm.CURRENT_VOLTAGE_DIODE_LEADS_PM'>\n",
      "\tQuerying PM event timestamps for system: QPS, className: DQAMCNMB_PMSTD, source: * from 2014-12-14 07:32:44.280 to 2014-12-14 07:39:24.280\n"
     ]
    },
    {
     "data": {
      "application/vnd.jupyter.widget-view+json": {
       "model_id": "516b5db58cc2426aa304856505aca13d",
       "version_major": 2,
       "version_minor": 0
      },
      "text/plain": [
       "Querying U, I Diode leads NXCALS:   0%|          | 0/4 [00:00<?, ?it/s]"
      ]
     },
     "metadata": {},
     "output_type": "display_data"
    },
    {
     "name": "stdout",
     "output_type": "stream",
     "text": [
      "successfully downloaded: <class 'src.acquisitions.current_voltage_diode_leads_nxcals.CURRENT_VOLTAGE_DIODE_LEADS_NXCALS'>\n",
      "\tQuerying PM event timestamps for system: QPS, className: DQAMGNDRBODD, DQAMGNDRBEVEN, source: RB.A12 from 2014-12-14 07:33:24.280 to 2014-12-14 07:40:14.280\n",
      "\tQuerying NXCALS signal(s) DFLAS.7R1.RB.A12.LD3:U_RES, DFLAS.7R1.RB.A12.LD4:U_HTS, DFLAS.7L2.RB.A12.LD1:U_HTS, DFLAS.7R1.RB.A12.LD3:U_HTS, DFLAS.7R1.RB.A12.LD4:U_RES... from 2014-12-14 07:33:04.280 to 2014-12-14 07:35:04.280\n",
      "successfully downloaded: <class 'src.acquisitions.leads.LEADS'>\n",
      "\tQuerying PM event signal(s) IAB.I_A, STATUS.I_EARTH_PCNT, STATUS.I_MEAS, STATUS.I_REF, IEARTH.IEARTH for system: RPTE.UA23.RB.A12, className: 51_self_pmd, source: FGC at 2014-12-14 13:40:53.860\n",
      "successfully downloaded: <class 'src.acquisitions.pc_pm.PC_PM'>\n",
      "\tQuerying PM event timestamps for system: QPS, className: DQAMSNRB, source: RR17.RB.A12, UA23.RB.A12 from 2014-12-14 13:40:43.860 to 2014-12-14 13:57:33.860\n",
      "\tQuerying PM event signal(s) RR17.RB.A12:U_DUMP_RES, UA23.RB.A12:U_DUMP_RES for system: RR17.RB.A12, UA23.RB.A12, className: DQAMSNRB, source: QPS at 2014-12-14 13:40:54.170\n"
     ]
    },
    {
     "name": "stderr",
     "output_type": "stream",
     "text": [
      "Post Mortem returned no data for the following query: http://pm-api-pro/v2/pmdata/signal?system=QPS&className=DQAMSNRB&source=UA23.RB.A12&timestampInNanos=1418560854170000000&signal=UA23.RB.A12:U_DUMP_RES\n"
     ]
    },
    {
     "name": "stdout",
     "output_type": "stream",
     "text": [
      "successfully downloaded: <class 'src.acquisitions.ee_u_dump_res_pm.EE_U_DUMP_RES_PM'>\n",
      "\tQuerying PM event timestamps for system: QPS, className: DQAMSNRB, source: RR17.RB.A12, UA23.RB.A12 from 2014-12-14 13:40:43.860 to 2014-12-14 13:57:33.860\n",
      "\tQuerying PM event signal(s) UA23.RB.A12:T_RES_BODY_2, RR17.RB.A12:T_RES_BODY_2, UA23.RB.A12:T_RES_BODY_1, RR17.RB.A12:T_RES_BODY_1, RR17.RB.A12:T_RES_BODY_3... for system: RR17.RB.A12, UA23.RB.A12..., className: DQAMSNRB..., source: QPS... at 2014-12-14 13:40:54.170\n"
     ]
    },
    {
     "name": "stderr",
     "output_type": "stream",
     "text": [
      "Post Mortem returned no data for the following query: http://pm-api-pro/v2/pmdata/signal?system=QPS&className=DQAMSNRB&source=UA23.RB.A12&timestampInNanos=1418560854170000000&signal=UA23.RB.A12:T_RES_BODY_1\n",
      "Post Mortem returned no data for the following query: http://pm-api-pro/v2/pmdata/signal?system=QPS&className=DQAMSNRB&source=UA23.RB.A12&timestampInNanos=1418560854170000000&signal=UA23.RB.A12:T_RES_BODY_2\n",
      "Post Mortem returned no data for the following query: http://pm-api-pro/v2/pmdata/signal?system=QPS&className=DQAMSNRB&source=UA23.RB.A12&timestampInNanos=1418560854170000000&signal=UA23.RB.A12:T_RES_BODY_3\n"
     ]
    },
    {
     "name": "stdout",
     "output_type": "stream",
     "text": [
      "successfully downloaded: <class 'src.acquisitions.ee_t_res_pm.EE_T_RES_PM'>\n",
      "\tQuerying NXCALS signal(s) MB.A10R1:U_DIODE_RB, MB.A9R1:U_DIODE_RB, MB.B9R1:U_DIODE_RB, MB.A8R1:U_DIODE_RB, MB.B8R1:U_DIODE_RB... from 2014-12-14 13:40:03.860 to 2014-12-14 13:49:13.860\n",
      "\tQuerying NXCALS signal(s) MB.C12R1:U_EARTH_RB, MB.B8R1:U_EARTH_RB, MB.B11R1:U_EARTH_RB, MB.A8R1:U_EARTH_RB, MB.A10R1:U_EARTH_RB... from 2014-12-14 13:40:03.860 to 2014-12-14 13:49:13.860\n",
      "successfully downloaded: <class 'src.acquisitions.voltage_nxcals.VOLTAGE_NXCALS'>\n",
      "\tQuerying PM event timestamps for system: QPS, className: DQAMCNMB_PMSTD, source: * from 2014-12-14 13:40:03.860 to 2014-12-14 13:49:13.860\n"
     ]
    },
    {
     "data": {
      "application/vnd.jupyter.widget-view+json": {
       "model_id": "68fa084a0da94f549283f27def1cb09e",
       "version_major": 2,
       "version_minor": 0
      },
      "text/plain": [
       "Querying iQPS logic PM:   0%|          | 0/4 [00:00<?, ?it/s]"
      ]
     },
     "metadata": {},
     "output_type": "display_data"
    },
    {
     "name": "stdout",
     "output_type": "stream",
     "text": [
      "successfully downloaded: <class 'src.acquisitions.voltage_logic_iqps.VOLTAGE_LOGIC_IQPS'>\n",
      "\tQuerying PM event timestamps for system: QPS, className: DQAMCNMB_PMSTD, source: * from 2014-12-14 13:40:03.860 to 2014-12-14 13:49:13.860\n",
      "\tQuerying PM event timestamps for system: QPS, className: DQAMGNSRB_PMREL, source: * from 2014-12-14 13:40:43.860 to 2014-12-14 13:47:33.860\n",
      "successfully downloaded: <class 'src.acquisitions.voltage_logic_nqps.VOLTAGE_LOGIC_NQPS'>\n",
      "\tQuerying PM event timestamps for system: QPS, className: DQAMCNMB_PMHSU, source: * from 2014-12-14 13:40:43.860 to 2014-12-14 13:49:13.860\n"
     ]
    },
    {
     "name": "stderr",
     "output_type": "stream",
     "text": [
      "Some nQPS PM buffers missing. ['B8R1', 'B9R1', 'B10R1', 'B11R1', 'B12R1', 'B13R1', 'B14R1', 'B15R1', 'B16R1', 'B17R1', 'B18R1', 'B19R1', 'B20R1', 'B21R1', 'B22R1', 'B23R1', 'B24R1', 'B25R1', 'B26R1', 'B27R1', 'B28R1', 'B29R1', 'B30R1', 'B31R1', 'B32R1', 'B33R1', 'B34R1', 'B34L2', 'B33L2', 'B32L2', 'B31L2', 'B30L2', 'B29L2', 'B28L2', 'B27L2', 'B26L2', 'B25L2', 'B24L2', 'B23L2', 'B22L2', 'B21L2', 'B20L2', 'B19L2', 'B18L2', 'B17L2', 'B16L2', 'B15L2', 'B14L2', 'B13L2', 'B12L2', 'B11L2', 'B10L2', 'B9L2', 'B8L2'] not found for RB.A12 within [(10, 's'), (400, 's')] around 1418560853860000000.\n",
      "At least one of the timestamps (nQPS or QDS) is missing, query skipped returning empty pd.DataFrame.\n"
     ]
    },
    {
     "data": {
      "application/vnd.jupyter.widget-view+json": {
       "model_id": "6e0e5bed7ed94eec83e4235c5cf78e32",
       "version_major": 2,
       "version_minor": 0
      },
      "text/plain": [
       "Querying PM:   0%|          | 0/4 [00:00<?, ?it/s]"
      ]
     },
     "metadata": {},
     "output_type": "display_data"
    },
    {
     "name": "stdout",
     "output_type": "stream",
     "text": [
      "successfully downloaded: <class 'src.acquisitions.qh_pm.QH_PM'>\n",
      "\tQuerying PM event timestamps for system: QPS, className: DQAMCNMB_PMSTD, source: * from 2014-12-14 13:40:03.860 to 2014-12-14 13:49:13.860\n"
     ]
    },
    {
     "data": {
      "application/vnd.jupyter.widget-view+json": {
       "model_id": "0474e666e17d4d00b2ba772d93c5bf15",
       "version_major": 2,
       "version_minor": 0
      },
      "text/plain": [
       "Querying U, I Diode PM:   0%|          | 0/4 [00:00<?, ?it/s]"
      ]
     },
     "metadata": {},
     "output_type": "display_data"
    },
    {
     "name": "stdout",
     "output_type": "stream",
     "text": [
      "\tQuerying PM event timestamps for system: QPS, className: DQAMGNSRB_PMREL, source: B27R1 from 2014-12-14 13:30:53.823 to 2014-12-14 13:50:53.823\n",
      "successfully downloaded: <class 'src.acquisitions.current_voltage_diode_leads_pm.CURRENT_VOLTAGE_DIODE_LEADS_PM'>\n",
      "\tQuerying PM event timestamps for system: QPS, className: DQAMCNMB_PMSTD, source: * from 2014-12-14 13:40:03.860 to 2014-12-14 13:46:43.860\n"
     ]
    },
    {
     "data": {
      "application/vnd.jupyter.widget-view+json": {
       "model_id": "b53c32dbfd524e0dba80350c96802a63",
       "version_major": 2,
       "version_minor": 0
      },
      "text/plain": [
       "Querying U, I Diode leads NXCALS:   0%|          | 0/4 [00:00<?, ?it/s]"
      ]
     },
     "metadata": {},
     "output_type": "display_data"
    },
    {
     "name": "stdout",
     "output_type": "stream",
     "text": [
      "successfully downloaded: <class 'src.acquisitions.current_voltage_diode_leads_nxcals.CURRENT_VOLTAGE_DIODE_LEADS_NXCALS'>\n",
      "\tQuerying PM event timestamps for system: QPS, className: DQAMGNDRBODD, DQAMGNDRBEVEN, source: RB.A12 from 2014-12-14 13:40:43.860 to 2014-12-14 13:47:33.860\n",
      "\tQuerying NXCALS signal(s) DFLAS.7R1.RB.A12.LD3:U_RES, DFLAS.7R1.RB.A12.LD4:U_HTS, DFLAS.7L2.RB.A12.LD1:U_HTS, DFLAS.7R1.RB.A12.LD3:U_HTS, DFLAS.7R1.RB.A12.LD4:U_RES... from 2014-12-14 13:40:23.860 to 2014-12-14 13:42:23.860\n",
      "successfully downloaded: <class 'src.acquisitions.leads.LEADS'>\n",
      "\tQuerying PM event signal(s) IAB.I_A, STATUS.I_EARTH_PCNT, STATUS.I_MEAS, STATUS.I_REF, IEARTH.IEARTH for system: RPTE.UA23.RB.A12, className: 51_self_pmd, source: FGC at 2014-12-14 22:49:09.920\n",
      "successfully downloaded: <class 'src.acquisitions.pc_pm.PC_PM'>\n",
      "\tQuerying PM event timestamps for system: QPS, className: DQAMSNRB, source: RR17.RB.A12, UA23.RB.A12 from 2014-12-14 22:48:59.920 to 2014-12-14 23:05:49.920\n",
      "\tQuerying PM event signal(s) RR17.RB.A12:U_DUMP_RES, UA23.RB.A12:U_DUMP_RES for system: RR17.RB.A12, UA23.RB.A12, className: DQAMSNRB, source: QPS at 2014-12-14 22:49:10.221\n"
     ]
    },
    {
     "name": "stderr",
     "output_type": "stream",
     "text": [
      "Post Mortem returned no data for the following query: http://pm-api-pro/v2/pmdata/signal?system=QPS&className=DQAMSNRB&source=UA23.RB.A12&timestampInNanos=1418593750221000000&signal=UA23.RB.A12:U_DUMP_RES\n"
     ]
    },
    {
     "name": "stdout",
     "output_type": "stream",
     "text": [
      "successfully downloaded: <class 'src.acquisitions.ee_u_dump_res_pm.EE_U_DUMP_RES_PM'>\n",
      "\tQuerying PM event timestamps for system: QPS, className: DQAMSNRB, source: RR17.RB.A12, UA23.RB.A12 from 2014-12-14 22:48:59.920 to 2014-12-14 23:05:49.920\n",
      "\tQuerying PM event signal(s) UA23.RB.A12:T_RES_BODY_2, RR17.RB.A12:T_RES_BODY_2, UA23.RB.A12:T_RES_BODY_1, RR17.RB.A12:T_RES_BODY_1, RR17.RB.A12:T_RES_BODY_3... for system: RR17.RB.A12, UA23.RB.A12..., className: DQAMSNRB..., source: QPS... at 2014-12-14 22:49:10.221\n"
     ]
    },
    {
     "name": "stderr",
     "output_type": "stream",
     "text": [
      "Post Mortem returned no data for the following query: http://pm-api-pro/v2/pmdata/signal?system=QPS&className=DQAMSNRB&source=UA23.RB.A12&timestampInNanos=1418593750221000000&signal=UA23.RB.A12:T_RES_BODY_1\n",
      "Post Mortem returned no data for the following query: http://pm-api-pro/v2/pmdata/signal?system=QPS&className=DQAMSNRB&source=UA23.RB.A12&timestampInNanos=1418593750221000000&signal=UA23.RB.A12:T_RES_BODY_2\n",
      "Post Mortem returned no data for the following query: http://pm-api-pro/v2/pmdata/signal?system=QPS&className=DQAMSNRB&source=UA23.RB.A12&timestampInNanos=1418593750221000000&signal=UA23.RB.A12:T_RES_BODY_3\n"
     ]
    },
    {
     "name": "stdout",
     "output_type": "stream",
     "text": [
      "successfully downloaded: <class 'src.acquisitions.ee_t_res_pm.EE_T_RES_PM'>\n",
      "\tQuerying NXCALS signal(s) MB.A10R1:U_DIODE_RB, MB.A9R1:U_DIODE_RB, MB.B9R1:U_DIODE_RB, MB.A8R1:U_DIODE_RB, MB.B8R1:U_DIODE_RB... from 2014-12-14 22:48:19.920 to 2014-12-14 22:57:29.920\n",
      "\tQuerying NXCALS signal(s) MB.C12R1:U_EARTH_RB, MB.B8R1:U_EARTH_RB, MB.B11R1:U_EARTH_RB, MB.A8R1:U_EARTH_RB, MB.A10R1:U_EARTH_RB... from 2014-12-14 22:48:19.920 to 2014-12-14 22:57:29.920\n",
      "successfully downloaded: <class 'src.acquisitions.voltage_nxcals.VOLTAGE_NXCALS'>\n",
      "\tQuerying PM event timestamps for system: QPS, className: DQAMCNMB_PMSTD, source: * from 2014-12-14 22:48:19.920 to 2014-12-14 22:57:29.920\n"
     ]
    },
    {
     "data": {
      "application/vnd.jupyter.widget-view+json": {
       "model_id": "7ce80ab9f6b1477e9d363cf4fb1ab314",
       "version_major": 2,
       "version_minor": 0
      },
      "text/plain": [
       "Querying iQPS logic PM:   0%|          | 0/4 [00:00<?, ?it/s]"
      ]
     },
     "metadata": {},
     "output_type": "display_data"
    },
    {
     "name": "stdout",
     "output_type": "stream",
     "text": [
      "successfully downloaded: <class 'src.acquisitions.voltage_logic_iqps.VOLTAGE_LOGIC_IQPS'>\n",
      "\tQuerying PM event timestamps for system: QPS, className: DQAMCNMB_PMSTD, source: * from 2014-12-14 22:48:19.920 to 2014-12-14 22:57:29.920\n",
      "\tQuerying PM event timestamps for system: QPS, className: DQAMGNSRB_PMREL, source: * from 2014-12-14 22:48:59.920 to 2014-12-14 22:55:49.920\n",
      "successfully downloaded: <class 'src.acquisitions.voltage_logic_nqps.VOLTAGE_LOGIC_NQPS'>\n",
      "\tQuerying PM event timestamps for system: QPS, className: DQAMCNMB_PMHSU, source: * from 2014-12-14 22:48:59.920 to 2014-12-14 22:57:29.920\n"
     ]
    },
    {
     "name": "stderr",
     "output_type": "stream",
     "text": [
      "Some nQPS PM buffers missing. ['B8R1', 'B9R1', 'B10R1', 'B11R1', 'B12R1', 'B13R1', 'B14R1', 'B15R1', 'B16R1', 'B17R1', 'B18R1', 'B19R1', 'B20R1', 'B21R1', 'B22R1', 'B23R1', 'B24R1', 'B25R1', 'B26R1', 'B27R1', 'B28R1', 'B29R1', 'B30R1', 'B31R1', 'B32R1', 'B33R1', 'B34R1', 'B34L2', 'B33L2', 'B32L2', 'B31L2', 'B30L2', 'B29L2', 'B28L2', 'B27L2', 'B26L2', 'B25L2', 'B24L2', 'B23L2', 'B22L2', 'B21L2', 'B20L2', 'B19L2', 'B18L2', 'B17L2', 'B16L2', 'B15L2', 'B14L2', 'B13L2', 'B12L2', 'B11L2', 'B10L2', 'B9L2', 'B8L2'] not found for RB.A12 within [(10, 's'), (400, 's')] around 1418593749920000000.\n",
      "At least one of the timestamps (nQPS or QDS) is missing, query skipped returning empty pd.DataFrame.\n"
     ]
    },
    {
     "data": {
      "application/vnd.jupyter.widget-view+json": {
       "model_id": "3a307ca87bbb46c5a275c5d2c9352176",
       "version_major": 2,
       "version_minor": 0
      },
      "text/plain": [
       "Querying PM:   0%|          | 0/4 [00:00<?, ?it/s]"
      ]
     },
     "metadata": {},
     "output_type": "display_data"
    },
    {
     "name": "stdout",
     "output_type": "stream",
     "text": [
      "successfully downloaded: <class 'src.acquisitions.qh_pm.QH_PM'>\n",
      "\tQuerying PM event timestamps for system: QPS, className: DQAMCNMB_PMSTD, source: * from 2014-12-14 22:48:19.920 to 2014-12-14 22:57:29.920\n"
     ]
    },
    {
     "data": {
      "application/vnd.jupyter.widget-view+json": {
       "model_id": "724aae273c4f4dc0ae9770c04e40da49",
       "version_major": 2,
       "version_minor": 0
      },
      "text/plain": [
       "Querying U, I Diode PM:   0%|          | 0/4 [00:00<?, ?it/s]"
      ]
     },
     "metadata": {},
     "output_type": "display_data"
    },
    {
     "name": "stdout",
     "output_type": "stream",
     "text": [
      "\tQuerying PM event timestamps for system: QPS, className: DQAMGNSRB_PMREL, source: B31L2 from 2014-12-14 22:39:09.878 to 2014-12-14 22:59:09.878\n",
      "successfully downloaded: <class 'src.acquisitions.current_voltage_diode_leads_pm.CURRENT_VOLTAGE_DIODE_LEADS_PM'>\n",
      "\tQuerying PM event timestamps for system: QPS, className: DQAMCNMB_PMSTD, source: * from 2014-12-14 22:48:19.920 to 2014-12-14 22:54:59.920\n"
     ]
    },
    {
     "data": {
      "application/vnd.jupyter.widget-view+json": {
       "model_id": "517b35a0ca9d43f6ab23c680e16703b5",
       "version_major": 2,
       "version_minor": 0
      },
      "text/plain": [
       "Querying U, I Diode leads NXCALS:   0%|          | 0/4 [00:00<?, ?it/s]"
      ]
     },
     "metadata": {},
     "output_type": "display_data"
    },
    {
     "name": "stdout",
     "output_type": "stream",
     "text": [
      "successfully downloaded: <class 'src.acquisitions.current_voltage_diode_leads_nxcals.CURRENT_VOLTAGE_DIODE_LEADS_NXCALS'>\n",
      "\tQuerying PM event timestamps for system: QPS, className: DQAMGNDRBODD, DQAMGNDRBEVEN, source: RB.A12 from 2014-12-14 22:48:59.920 to 2014-12-14 22:55:49.920\n",
      "\tQuerying PM event signal(s) DFLAS.7R1.RB.A12.LD3:U_RES, DFLAS.7R1.RB.A12.LD4:U_HTS, DFLAS.7L2.RB.A12.LD1:U_HTS, DFLAS.7R1.RB.A12.LD3:U_HTS, DFLAS.7R1.RB.A12.LD4:U_RES... for system: RB.A12..., className: DQAMGNDRBODD, DQAMGNDRBEVEN..., source: QPS... at 2014-12-14 22:49:10.206\n"
     ]
    },
    {
     "name": "stderr",
     "output_type": "stream",
     "text": [
      "Post Mortem returned no data for the following query: http://pm-api-pro/v2/pmdata/signal?system=QPS&className=DQAMGNDRBEVEN&source=RB.A12&timestampInNanos=1418593750206000000&signal=DFLAS.7L2.RB.A12.LD1:U_HTS\n",
      "Post Mortem returned no data for the following query: http://pm-api-pro/v2/pmdata/signal?system=QPS&className=DQAMGNDRBEVEN&source=RB.A12&timestampInNanos=1418593750206000000&signal=DFLAS.7L2.RB.A12.LD2:U_HTS\n",
      "Post Mortem returned no data for the following query: http://pm-api-pro/v2/pmdata/signal?system=QPS&className=DQAMGNDRBEVEN&source=RB.A12&timestampInNanos=1418593750206000000&signal=DFLAS.7L2.RB.A12.LD1:U_RES\n",
      "Post Mortem returned no data for the following query: http://pm-api-pro/v2/pmdata/signal?system=QPS&className=DQAMGNDRBEVEN&source=RB.A12&timestampInNanos=1418593750206000000&signal=DFLAS.7L2.RB.A12.LD2:U_RES\n"
     ]
    },
    {
     "name": "stdout",
     "output_type": "stream",
     "text": [
      "successfully downloaded: <class 'src.acquisitions.leads.LEADS'>\n",
      "\tQuerying PM event signal(s) IAB.I_A, STATUS.I_EARTH_PCNT, STATUS.I_MEAS, STATUS.I_REF, IEARTH.IEARTH for system: RPTE.UA23.RB.A12, className: 51_self_pmd, source: FGC at 2014-12-15 07:54:44.100\n",
      "successfully downloaded: <class 'src.acquisitions.pc_pm.PC_PM'>\n",
      "\tQuerying PM event timestamps for system: QPS, className: DQAMSNRB, source: RR17.RB.A12, UA23.RB.A12 from 2014-12-15 07:54:34.100 to 2014-12-15 08:11:24.100\n",
      "\tQuerying PM event signal(s) RR17.RB.A12:U_DUMP_RES, UA23.RB.A12:U_DUMP_RES for system: RR17.RB.A12, UA23.RB.A12, className: DQAMSNRB, source: QPS at 2014-12-15 07:54:44.408\n"
     ]
    },
    {
     "name": "stderr",
     "output_type": "stream",
     "text": [
      "Post Mortem returned no data for the following query: http://pm-api-pro/v2/pmdata/signal?system=QPS&className=DQAMSNRB&source=UA23.RB.A12&timestampInNanos=1418626484408000000&signal=UA23.RB.A12:U_DUMP_RES\n"
     ]
    },
    {
     "name": "stdout",
     "output_type": "stream",
     "text": [
      "successfully downloaded: <class 'src.acquisitions.ee_u_dump_res_pm.EE_U_DUMP_RES_PM'>\n",
      "\tQuerying PM event timestamps for system: QPS, className: DQAMSNRB, source: RR17.RB.A12, UA23.RB.A12 from 2014-12-15 07:54:34.100 to 2014-12-15 08:11:24.100\n",
      "\tQuerying PM event signal(s) UA23.RB.A12:T_RES_BODY_2, RR17.RB.A12:T_RES_BODY_2, UA23.RB.A12:T_RES_BODY_1, RR17.RB.A12:T_RES_BODY_1, RR17.RB.A12:T_RES_BODY_3... for system: RR17.RB.A12, UA23.RB.A12..., className: DQAMSNRB..., source: QPS... at 2014-12-15 07:54:44.408\n"
     ]
    },
    {
     "name": "stderr",
     "output_type": "stream",
     "text": [
      "Post Mortem returned no data for the following query: http://pm-api-pro/v2/pmdata/signal?system=QPS&className=DQAMSNRB&source=UA23.RB.A12&timestampInNanos=1418626484408000000&signal=UA23.RB.A12:T_RES_BODY_1\n",
      "Post Mortem returned no data for the following query: http://pm-api-pro/v2/pmdata/signal?system=QPS&className=DQAMSNRB&source=UA23.RB.A12&timestampInNanos=1418626484408000000&signal=UA23.RB.A12:T_RES_BODY_2\n",
      "Post Mortem returned no data for the following query: http://pm-api-pro/v2/pmdata/signal?system=QPS&className=DQAMSNRB&source=UA23.RB.A12&timestampInNanos=1418626484408000000&signal=UA23.RB.A12:T_RES_BODY_3\n"
     ]
    },
    {
     "name": "stdout",
     "output_type": "stream",
     "text": [
      "successfully downloaded: <class 'src.acquisitions.ee_t_res_pm.EE_T_RES_PM'>\n",
      "\tQuerying NXCALS signal(s) MB.A10R1:U_DIODE_RB, MB.A9R1:U_DIODE_RB, MB.B9R1:U_DIODE_RB, MB.A8R1:U_DIODE_RB, MB.B8R1:U_DIODE_RB... from 2014-12-15 07:53:54.100 to 2014-12-15 08:03:04.100\n",
      "\tQuerying NXCALS signal(s) MB.C12R1:U_EARTH_RB, MB.B8R1:U_EARTH_RB, MB.B11R1:U_EARTH_RB, MB.A8R1:U_EARTH_RB, MB.A10R1:U_EARTH_RB... from 2014-12-15 07:53:54.100 to 2014-12-15 08:03:04.100\n",
      "successfully downloaded: <class 'src.acquisitions.voltage_nxcals.VOLTAGE_NXCALS'>\n",
      "\tQuerying PM event timestamps for system: QPS, className: DQAMCNMB_PMSTD, source: * from 2014-12-15 07:53:54.100 to 2014-12-15 08:03:04.100\n"
     ]
    },
    {
     "data": {
      "application/vnd.jupyter.widget-view+json": {
       "model_id": "02364f3af9ad4bf5b9f39b9dc5870d0f",
       "version_major": 2,
       "version_minor": 0
      },
      "text/plain": [
       "Querying iQPS logic PM:   0%|          | 0/7 [00:00<?, ?it/s]"
      ]
     },
     "metadata": {},
     "output_type": "display_data"
    },
    {
     "name": "stdout",
     "output_type": "stream",
     "text": [
      "successfully downloaded: <class 'src.acquisitions.voltage_logic_iqps.VOLTAGE_LOGIC_IQPS'>\n",
      "\tQuerying PM event timestamps for system: QPS, className: DQAMCNMB_PMSTD, source: * from 2014-12-15 07:53:54.100 to 2014-12-15 08:03:04.100\n",
      "\tQuerying PM event timestamps for system: QPS, className: DQAMGNSRB_PMREL, source: * from 2014-12-15 07:54:34.100 to 2014-12-15 08:01:24.100\n",
      "successfully downloaded: <class 'src.acquisitions.voltage_logic_nqps.VOLTAGE_LOGIC_NQPS'>\n",
      "\tQuerying PM event timestamps for system: QPS, className: DQAMCNMB_PMHSU, source: * from 2014-12-15 07:54:34.100 to 2014-12-15 08:03:04.100\n"
     ]
    },
    {
     "name": "stderr",
     "output_type": "stream",
     "text": [
      "Some nQPS PM buffers missing. ['B8R1', 'B9R1', 'B10R1', 'B11R1', 'B12R1', 'B13R1', 'B14R1', 'B15R1', 'B16R1', 'B17R1', 'B18R1', 'B19R1', 'B20R1', 'B21R1', 'B22R1', 'B23R1', 'B24R1', 'B25R1', 'B26R1', 'B27R1', 'B28R1', 'B29R1', 'B30R1', 'B31R1', 'B32R1', 'B33R1', 'B34R1', 'B34L2', 'B33L2', 'B32L2', 'B31L2', 'B30L2', 'B29L2', 'B28L2', 'B27L2', 'B26L2', 'B25L2', 'B24L2', 'B23L2', 'B22L2', 'B21L2', 'B20L2', 'B19L2', 'B18L2', 'B17L2', 'B16L2', 'B15L2', 'B14L2', 'B13L2', 'B12L2', 'B11L2', 'B10L2', 'B9L2', 'B8L2'] not found for RB.A12 within [(10, 's'), (400, 's')] around 1418626484100000000.\n",
      "At least one of the timestamps (nQPS or QDS) is missing, query skipped returning empty pd.DataFrame.\n"
     ]
    },
    {
     "data": {
      "application/vnd.jupyter.widget-view+json": {
       "model_id": "376e6b0c88584437b3945ee81eb13c63",
       "version_major": 2,
       "version_minor": 0
      },
      "text/plain": [
       "Querying PM:   0%|          | 0/7 [00:00<?, ?it/s]"
      ]
     },
     "metadata": {},
     "output_type": "display_data"
    },
    {
     "name": "stdout",
     "output_type": "stream",
     "text": [
      "successfully downloaded: <class 'src.acquisitions.qh_pm.QH_PM'>\n",
      "\tQuerying PM event timestamps for system: QPS, className: DQAMCNMB_PMSTD, source: * from 2014-12-15 07:53:54.100 to 2014-12-15 08:03:04.100\n"
     ]
    },
    {
     "data": {
      "application/vnd.jupyter.widget-view+json": {
       "model_id": "087f155670b44f9b8139447161ab1831",
       "version_major": 2,
       "version_minor": 0
      },
      "text/plain": [
       "Querying U, I Diode PM:   0%|          | 0/7 [00:00<?, ?it/s]"
      ]
     },
     "metadata": {},
     "output_type": "display_data"
    },
    {
     "name": "stdout",
     "output_type": "stream",
     "text": [
      "\tQuerying PM event timestamps for system: QPS, className: DQAMGNSRB_PMREL, source: B23R1 from 2014-12-15 07:44:44.064 to 2014-12-15 08:04:44.064\n",
      "\tQuerying PM event timestamps for system: QPS, className: DQAMGNSRB_PMREL, source: B22R1 from 2014-12-15 07:44:44.292 to 2014-12-15 08:04:44.292\n",
      "successfully downloaded: <class 'src.acquisitions.current_voltage_diode_leads_pm.CURRENT_VOLTAGE_DIODE_LEADS_PM'>\n",
      "\tQuerying PM event timestamps for system: QPS, className: DQAMCNMB_PMSTD, source: * from 2014-12-15 07:53:54.100 to 2014-12-15 08:00:34.100\n"
     ]
    },
    {
     "data": {
      "application/vnd.jupyter.widget-view+json": {
       "model_id": "feb2faeebec64c31ba0f3c9d988b93b4",
       "version_major": 2,
       "version_minor": 0
      },
      "text/plain": [
       "Querying U, I Diode leads NXCALS:   0%|          | 0/7 [00:00<?, ?it/s]"
      ]
     },
     "metadata": {},
     "output_type": "display_data"
    },
    {
     "name": "stdout",
     "output_type": "stream",
     "text": [
      "successfully downloaded: <class 'src.acquisitions.current_voltage_diode_leads_nxcals.CURRENT_VOLTAGE_DIODE_LEADS_NXCALS'>\n",
      "\tQuerying PM event timestamps for system: QPS, className: DQAMGNDRBODD, DQAMGNDRBEVEN, source: RB.A12 from 2014-12-15 07:54:34.100 to 2014-12-15 08:01:24.100\n",
      "\tQuerying NXCALS signal(s) DFLAS.7R1.RB.A12.LD3:U_RES, DFLAS.7R1.RB.A12.LD4:U_HTS, DFLAS.7L2.RB.A12.LD1:U_HTS, DFLAS.7R1.RB.A12.LD3:U_HTS, DFLAS.7R1.RB.A12.LD4:U_RES... from 2014-12-15 07:54:14.100 to 2014-12-15 07:56:14.100\n",
      "successfully downloaded: <class 'src.acquisitions.leads.LEADS'>\n",
      "\tQuerying PM event signal(s) IAB.I_A, STATUS.I_EARTH_PCNT, STATUS.I_MEAS, STATUS.I_REF, IEARTH.IEARTH for system: RPTE.UA23.RB.A12, className: 51_self_pmd, source: FGC at 2015-01-17 22:56:53.780\n",
      "successfully downloaded: <class 'src.acquisitions.pc_pm.PC_PM'>\n",
      "\tQuerying PM event timestamps for system: QPS, className: DQAMSNRB, source: RR17.RB.A12, UA23.RB.A12 from 2015-01-17 22:56:43.780 to 2015-01-17 23:13:33.780\n",
      "\tQuerying PM event signal(s) RR17.RB.A12:U_DUMP_RES, UA23.RB.A12:U_DUMP_RES for system: RR17.RB.A12, UA23.RB.A12, className: DQAMSNRB, source: QPS at 2015-01-17 22:56:54.078\n"
     ]
    },
    {
     "name": "stderr",
     "output_type": "stream",
     "text": [
      "Post Mortem returned no data for the following query: http://pm-api-pro/v2/pmdata/signal?system=QPS&className=DQAMSNRB&source=UA23.RB.A12&timestampInNanos=1421531814078000000&signal=UA23.RB.A12:U_DUMP_RES\n"
     ]
    },
    {
     "name": "stdout",
     "output_type": "stream",
     "text": [
      "successfully downloaded: <class 'src.acquisitions.ee_u_dump_res_pm.EE_U_DUMP_RES_PM'>\n",
      "\tQuerying PM event timestamps for system: QPS, className: DQAMSNRB, source: RR17.RB.A12, UA23.RB.A12 from 2015-01-17 22:56:43.780 to 2015-01-17 23:13:33.780\n",
      "\tQuerying PM event signal(s) UA23.RB.A12:T_RES_BODY_2, RR17.RB.A12:T_RES_BODY_2, UA23.RB.A12:T_RES_BODY_1, RR17.RB.A12:T_RES_BODY_1, RR17.RB.A12:T_RES_BODY_3... for system: RR17.RB.A12, UA23.RB.A12..., className: DQAMSNRB..., source: QPS... at 2015-01-17 22:56:54.078\n"
     ]
    },
    {
     "name": "stderr",
     "output_type": "stream",
     "text": [
      "Post Mortem returned no data for the following query: http://pm-api-pro/v2/pmdata/signal?system=QPS&className=DQAMSNRB&source=UA23.RB.A12&timestampInNanos=1421531814078000000&signal=UA23.RB.A12:T_RES_BODY_1\n",
      "Post Mortem returned no data for the following query: http://pm-api-pro/v2/pmdata/signal?system=QPS&className=DQAMSNRB&source=UA23.RB.A12&timestampInNanos=1421531814078000000&signal=UA23.RB.A12:T_RES_BODY_2\n",
      "Post Mortem returned no data for the following query: http://pm-api-pro/v2/pmdata/signal?system=QPS&className=DQAMSNRB&source=UA23.RB.A12&timestampInNanos=1421531814078000000&signal=UA23.RB.A12:T_RES_BODY_3\n"
     ]
    },
    {
     "name": "stdout",
     "output_type": "stream",
     "text": [
      "successfully downloaded: <class 'src.acquisitions.ee_t_res_pm.EE_T_RES_PM'>\n",
      "\tQuerying NXCALS signal(s) MB.A10R1:U_DIODE_RB, MB.A9R1:U_DIODE_RB, MB.B9R1:U_DIODE_RB, MB.A8R1:U_DIODE_RB, MB.B8R1:U_DIODE_RB... from 2015-01-17 22:56:03.780 to 2015-01-17 23:05:13.780\n",
      "\tQuerying NXCALS signal(s) MB.C12R1:U_EARTH_RB, MB.B8R1:U_EARTH_RB, MB.B11R1:U_EARTH_RB, MB.A8R1:U_EARTH_RB, MB.A10R1:U_EARTH_RB... from 2015-01-17 22:56:03.780 to 2015-01-17 23:05:13.780\n",
      "successfully downloaded: <class 'src.acquisitions.voltage_nxcals.VOLTAGE_NXCALS'>\n",
      "\tQuerying PM event timestamps for system: QPS, className: DQAMCNMB_PMSTD, source: * from 2015-01-17 22:56:03.780 to 2015-01-17 23:05:13.780\n"
     ]
    },
    {
     "data": {
      "application/vnd.jupyter.widget-view+json": {
       "model_id": "75d6af39d7e6477c9b9acc0be0bbfb81",
       "version_major": 2,
       "version_minor": 0
      },
      "text/plain": [
       "Querying iQPS logic PM:   0%|          | 0/4 [00:00<?, ?it/s]"
      ]
     },
     "metadata": {},
     "output_type": "display_data"
    },
    {
     "name": "stdout",
     "output_type": "stream",
     "text": [
      "successfully downloaded: <class 'src.acquisitions.voltage_logic_iqps.VOLTAGE_LOGIC_IQPS'>\n",
      "\tQuerying PM event timestamps for system: QPS, className: DQAMCNMB_PMSTD, source: * from 2015-01-17 22:56:03.780 to 2015-01-17 23:05:13.780\n",
      "\tQuerying PM event timestamps for system: QPS, className: DQAMGNSRB_PMREL, source: * from 2015-01-17 22:56:43.780 to 2015-01-17 23:03:33.780\n",
      "successfully downloaded: <class 'src.acquisitions.voltage_logic_nqps.VOLTAGE_LOGIC_NQPS'>\n",
      "\tQuerying PM event timestamps for system: QPS, className: DQAMCNMB_PMHSU, source: * from 2015-01-17 22:56:43.780 to 2015-01-17 23:05:13.780\n"
     ]
    },
    {
     "name": "stderr",
     "output_type": "stream",
     "text": [
      "Some nQPS PM buffers missing. ['B8R1', 'B9R1', 'B10R1', 'B11R1', 'B12R1', 'B13R1', 'B14R1', 'B15R1', 'B16R1', 'B17R1', 'B18R1', 'B19R1', 'B20R1', 'B21R1', 'B22R1', 'B23R1', 'B24R1', 'B25R1', 'B26R1', 'B27R1', 'B28R1', 'B29R1', 'B30R1', 'B31R1', 'B32R1', 'B33R1', 'B34R1', 'B34L2', 'B33L2', 'B32L2', 'B31L2', 'B30L2', 'B29L2', 'B28L2', 'B27L2', 'B26L2', 'B25L2', 'B24L2', 'B23L2', 'B22L2', 'B21L2', 'B20L2', 'B19L2', 'B18L2', 'B17L2', 'B16L2', 'B15L2', 'B14L2', 'B13L2', 'B12L2', 'B11L2', 'B10L2', 'B9L2', 'B8L2'] not found for RB.A12 within [(10, 's'), (400, 's')] around 1421531813780000000.\n",
      "At least one of the timestamps (nQPS or QDS) is missing, query skipped returning empty pd.DataFrame.\n"
     ]
    },
    {
     "data": {
      "application/vnd.jupyter.widget-view+json": {
       "model_id": "1cccef4c25914d69a595876fe0572e6f",
       "version_major": 2,
       "version_minor": 0
      },
      "text/plain": [
       "Querying PM:   0%|          | 0/4 [00:00<?, ?it/s]"
      ]
     },
     "metadata": {},
     "output_type": "display_data"
    },
    {
     "name": "stdout",
     "output_type": "stream",
     "text": [
      "successfully downloaded: <class 'src.acquisitions.qh_pm.QH_PM'>\n",
      "\tQuerying PM event timestamps for system: QPS, className: DQAMCNMB_PMSTD, source: * from 2015-01-17 22:56:03.780 to 2015-01-17 23:05:13.780\n"
     ]
    },
    {
     "data": {
      "application/vnd.jupyter.widget-view+json": {
       "model_id": "b3077f3c91d24275b9e714f1f8cf43a4",
       "version_major": 2,
       "version_minor": 0
      },
      "text/plain": [
       "Querying U, I Diode PM:   0%|          | 0/4 [00:00<?, ?it/s]"
      ]
     },
     "metadata": {},
     "output_type": "display_data"
    },
    {
     "name": "stdout",
     "output_type": "stream",
     "text": [
      "\tQuerying PM event timestamps for system: QPS, className: DQAMGNSRB_PMREL, source: B21L2 from 2015-01-17 22:46:53.744 to 2015-01-17 23:06:53.744\n",
      "\tQuerying PM event timestamps for system: QPS, className: DQAMGNSRB_PMREL, source: B20L2 from 2015-01-17 22:46:53.953 to 2015-01-17 23:06:53.953\n",
      "successfully downloaded: <class 'src.acquisitions.current_voltage_diode_leads_pm.CURRENT_VOLTAGE_DIODE_LEADS_PM'>\n",
      "\tQuerying PM event timestamps for system: QPS, className: DQAMCNMB_PMSTD, source: * from 2015-01-17 22:56:03.780 to 2015-01-17 23:02:43.780\n"
     ]
    },
    {
     "data": {
      "application/vnd.jupyter.widget-view+json": {
       "model_id": "e744ea46e6e34946a6393fd53a07cc6c",
       "version_major": 2,
       "version_minor": 0
      },
      "text/plain": [
       "Querying U, I Diode leads NXCALS:   0%|          | 0/4 [00:00<?, ?it/s]"
      ]
     },
     "metadata": {},
     "output_type": "display_data"
    },
    {
     "name": "stdout",
     "output_type": "stream",
     "text": [
      "successfully downloaded: <class 'src.acquisitions.current_voltage_diode_leads_nxcals.CURRENT_VOLTAGE_DIODE_LEADS_NXCALS'>\n",
      "\tQuerying PM event timestamps for system: QPS, className: DQAMGNDRBODD, DQAMGNDRBEVEN, source: RB.A12 from 2015-01-17 22:56:43.780 to 2015-01-17 23:03:33.780\n",
      "\tQuerying PM event signal(s) DFLAS.7R1.RB.A12.LD3:U_RES, DFLAS.7R1.RB.A12.LD4:U_HTS, DFLAS.7L2.RB.A12.LD1:U_HTS, DFLAS.7R1.RB.A12.LD3:U_HTS, DFLAS.7R1.RB.A12.LD4:U_RES... for system: RB.A12..., className: DQAMGNDRBODD, DQAMGNDRBEVEN..., source: QPS... at 2015-01-17 22:56:54.807\n"
     ]
    },
    {
     "name": "stderr",
     "output_type": "stream",
     "text": [
      "Post Mortem returned no data for the following query: http://pm-api-pro/v2/pmdata/signal?system=QPS&className=DQAMGNDRBEVEN&source=RB.A12&timestampInNanos=1421531814807000000&signal=DFLAS.7L2.RB.A12.LD1:U_HTS\n",
      "Post Mortem returned no data for the following query: http://pm-api-pro/v2/pmdata/signal?system=QPS&className=DQAMGNDRBEVEN&source=RB.A12&timestampInNanos=1421531814807000000&signal=DFLAS.7L2.RB.A12.LD2:U_HTS\n",
      "Post Mortem returned no data for the following query: http://pm-api-pro/v2/pmdata/signal?system=QPS&className=DQAMGNDRBEVEN&source=RB.A12&timestampInNanos=1421531814807000000&signal=DFLAS.7L2.RB.A12.LD1:U_RES\n",
      "Post Mortem returned no data for the following query: http://pm-api-pro/v2/pmdata/signal?system=QPS&className=DQAMGNDRBEVEN&source=RB.A12&timestampInNanos=1421531814807000000&signal=DFLAS.7L2.RB.A12.LD2:U_RES\n"
     ]
    },
    {
     "name": "stdout",
     "output_type": "stream",
     "text": [
      "successfully downloaded: <class 'src.acquisitions.leads.LEADS'>\n",
      "\tQuerying PM event signal(s) IAB.I_A, STATUS.I_EARTH_PCNT, STATUS.I_MEAS, STATUS.I_REF, IEARTH.IEARTH for system: RPTE.UA23.RB.A12, className: 51_self_pmd, source: FGC at 2015-01-18 12:28:59.680\n",
      "successfully downloaded: <class 'src.acquisitions.pc_pm.PC_PM'>\n",
      "\tQuerying PM event timestamps for system: QPS, className: DQAMSNRB, source: RR17.RB.A12, UA23.RB.A12 from 2015-01-18 12:28:49.680 to 2015-01-18 12:45:39.680\n",
      "\tQuerying PM event signal(s) RR17.RB.A12:U_DUMP_RES, UA23.RB.A12:U_DUMP_RES for system: RR17.RB.A12, UA23.RB.A12, className: DQAMSNRB, source: QPS at 2015-01-18 12:28:59.975\n"
     ]
    },
    {
     "name": "stderr",
     "output_type": "stream",
     "text": [
      "Post Mortem returned no data for the following query: http://pm-api-pro/v2/pmdata/signal?system=QPS&className=DQAMSNRB&source=UA23.RB.A12&timestampInNanos=1421580539975000000&signal=UA23.RB.A12:U_DUMP_RES\n"
     ]
    },
    {
     "name": "stdout",
     "output_type": "stream",
     "text": [
      "successfully downloaded: <class 'src.acquisitions.ee_u_dump_res_pm.EE_U_DUMP_RES_PM'>\n",
      "\tQuerying PM event timestamps for system: QPS, className: DQAMSNRB, source: RR17.RB.A12, UA23.RB.A12 from 2015-01-18 12:28:49.680 to 2015-01-18 12:45:39.680\n",
      "\tQuerying PM event signal(s) UA23.RB.A12:T_RES_BODY_2, RR17.RB.A12:T_RES_BODY_2, UA23.RB.A12:T_RES_BODY_1, RR17.RB.A12:T_RES_BODY_1, RR17.RB.A12:T_RES_BODY_3... for system: RR17.RB.A12, UA23.RB.A12..., className: DQAMSNRB..., source: QPS... at 2015-01-18 12:28:59.975\n"
     ]
    },
    {
     "name": "stderr",
     "output_type": "stream",
     "text": [
      "Post Mortem returned no data for the following query: http://pm-api-pro/v2/pmdata/signal?system=QPS&className=DQAMSNRB&source=UA23.RB.A12&timestampInNanos=1421580539975000000&signal=UA23.RB.A12:T_RES_BODY_1\n",
      "Post Mortem returned no data for the following query: http://pm-api-pro/v2/pmdata/signal?system=QPS&className=DQAMSNRB&source=UA23.RB.A12&timestampInNanos=1421580539975000000&signal=UA23.RB.A12:T_RES_BODY_2\n",
      "Post Mortem returned no data for the following query: http://pm-api-pro/v2/pmdata/signal?system=QPS&className=DQAMSNRB&source=UA23.RB.A12&timestampInNanos=1421580539975000000&signal=UA23.RB.A12:T_RES_BODY_3\n"
     ]
    },
    {
     "name": "stdout",
     "output_type": "stream",
     "text": [
      "successfully downloaded: <class 'src.acquisitions.ee_t_res_pm.EE_T_RES_PM'>\n",
      "\tQuerying NXCALS signal(s) MB.A10R1:U_DIODE_RB, MB.A9R1:U_DIODE_RB, MB.B9R1:U_DIODE_RB, MB.A8R1:U_DIODE_RB, MB.B8R1:U_DIODE_RB... from 2015-01-18 12:28:09.680 to 2015-01-18 12:37:19.680\n",
      "\tQuerying NXCALS signal(s) MB.C12R1:U_EARTH_RB, MB.B8R1:U_EARTH_RB, MB.B11R1:U_EARTH_RB, MB.A8R1:U_EARTH_RB, MB.A10R1:U_EARTH_RB... from 2015-01-18 12:28:09.680 to 2015-01-18 12:37:19.680\n",
      "successfully downloaded: <class 'src.acquisitions.voltage_nxcals.VOLTAGE_NXCALS'>\n",
      "\tQuerying PM event timestamps for system: QPS, className: DQAMCNMB_PMSTD, source: * from 2015-01-18 12:28:09.680 to 2015-01-18 12:37:19.680\n"
     ]
    },
    {
     "data": {
      "application/vnd.jupyter.widget-view+json": {
       "model_id": "84a61f1a1a3d400aa4294bd34615c27f",
       "version_major": 2,
       "version_minor": 0
      },
      "text/plain": [
       "Querying iQPS logic PM:   0%|          | 0/7 [00:00<?, ?it/s]"
      ]
     },
     "metadata": {},
     "output_type": "display_data"
    },
    {
     "name": "stdout",
     "output_type": "stream",
     "text": [
      "successfully downloaded: <class 'src.acquisitions.voltage_logic_iqps.VOLTAGE_LOGIC_IQPS'>\n",
      "\tQuerying PM event timestamps for system: QPS, className: DQAMCNMB_PMSTD, source: * from 2015-01-18 12:28:09.680 to 2015-01-18 12:37:19.680\n",
      "\tQuerying PM event timestamps for system: QPS, className: DQAMGNSRB_PMREL, source: * from 2015-01-18 12:28:49.680 to 2015-01-18 12:35:39.680\n",
      "successfully downloaded: <class 'src.acquisitions.voltage_logic_nqps.VOLTAGE_LOGIC_NQPS'>\n",
      "\tQuerying PM event timestamps for system: QPS, className: DQAMCNMB_PMHSU, source: * from 2015-01-18 12:28:49.680 to 2015-01-18 12:37:19.680\n"
     ]
    },
    {
     "name": "stderr",
     "output_type": "stream",
     "text": [
      "Some nQPS PM buffers missing. ['B8R1', 'B9R1', 'B10R1', 'B11R1', 'B12R1', 'B13R1', 'B14R1', 'B15R1', 'B16R1', 'B17R1', 'B18R1', 'B19R1', 'B20R1', 'B21R1', 'B22R1', 'B23R1', 'B24R1', 'B25R1', 'B26R1', 'B27R1', 'B28R1', 'B29R1', 'B30R1', 'B31R1', 'B32R1', 'B33R1', 'B34R1', 'B34L2', 'B33L2', 'B32L2', 'B31L2', 'B30L2', 'B29L2', 'B28L2', 'B27L2', 'B26L2', 'B25L2', 'B24L2', 'B23L2', 'B22L2', 'B21L2', 'B20L2', 'B19L2', 'B18L2', 'B17L2', 'B16L2', 'B15L2', 'B14L2', 'B13L2', 'B12L2', 'B11L2', 'B10L2', 'B9L2', 'B8L2'] not found for RB.A12 within [(10, 's'), (400, 's')] around 1421580539680000000.\n",
      "At least one of the timestamps (nQPS or QDS) is missing, query skipped returning empty pd.DataFrame.\n"
     ]
    },
    {
     "data": {
      "application/vnd.jupyter.widget-view+json": {
       "model_id": "538fff10c7cc4ad6ac4c33212bf6698a",
       "version_major": 2,
       "version_minor": 0
      },
      "text/plain": [
       "Querying PM:   0%|          | 0/7 [00:00<?, ?it/s]"
      ]
     },
     "metadata": {},
     "output_type": "display_data"
    },
    {
     "name": "stdout",
     "output_type": "stream",
     "text": [
      "successfully downloaded: <class 'src.acquisitions.qh_pm.QH_PM'>\n",
      "\tQuerying PM event timestamps for system: QPS, className: DQAMCNMB_PMSTD, source: * from 2015-01-18 12:28:09.680 to 2015-01-18 12:37:19.680\n"
     ]
    },
    {
     "data": {
      "application/vnd.jupyter.widget-view+json": {
       "model_id": "fcde7215f9ca4cfc938142192b46a447",
       "version_major": 2,
       "version_minor": 0
      },
      "text/plain": [
       "Querying U, I Diode PM:   0%|          | 0/7 [00:00<?, ?it/s]"
      ]
     },
     "metadata": {},
     "output_type": "display_data"
    },
    {
     "name": "stdout",
     "output_type": "stream",
     "text": [
      "\tQuerying PM event timestamps for system: QPS, className: DQAMGNSRB_PMREL, source: B19L2 from 2015-01-18 12:18:59.637 to 2015-01-18 12:38:59.637\n",
      "\tQuerying PM event timestamps for system: QPS, className: DQAMGNSRB_PMREL, source: B19L2 from 2015-01-18 12:18:59.871 to 2015-01-18 12:38:59.871\n",
      "\tQuerying PM event timestamps for system: QPS, className: DQAMGNSRB_PMREL, source: B18L2 from 2015-01-18 12:19:00.071 to 2015-01-18 12:39:00.071\n",
      "\tQuerying PM event timestamps for system: QPS, className: DQAMGNSRB_PMREL, source: B18L2 from 2015-01-18 12:19:00.277 to 2015-01-18 12:39:00.277\n",
      "successfully downloaded: <class 'src.acquisitions.current_voltage_diode_leads_pm.CURRENT_VOLTAGE_DIODE_LEADS_PM'>\n",
      "\tQuerying PM event timestamps for system: QPS, className: DQAMCNMB_PMSTD, source: * from 2015-01-18 12:28:09.680 to 2015-01-18 12:34:49.680\n"
     ]
    },
    {
     "data": {
      "application/vnd.jupyter.widget-view+json": {
       "model_id": "05e3ec56b3474270990f22768867dbbb",
       "version_major": 2,
       "version_minor": 0
      },
      "text/plain": [
       "Querying U, I Diode leads NXCALS:   0%|          | 0/6 [00:00<?, ?it/s]"
      ]
     },
     "metadata": {},
     "output_type": "display_data"
    },
    {
     "name": "stdout",
     "output_type": "stream",
     "text": [
      "successfully downloaded: <class 'src.acquisitions.current_voltage_diode_leads_nxcals.CURRENT_VOLTAGE_DIODE_LEADS_NXCALS'>\n",
      "\tQuerying PM event timestamps for system: QPS, className: DQAMGNDRBODD, DQAMGNDRBEVEN, source: RB.A12 from 2015-01-18 12:28:49.680 to 2015-01-18 12:35:39.680\n",
      "\tQuerying PM event signal(s) DFLAS.7R1.RB.A12.LD3:U_RES, DFLAS.7R1.RB.A12.LD4:U_HTS, DFLAS.7L2.RB.A12.LD1:U_HTS, DFLAS.7R1.RB.A12.LD3:U_HTS, DFLAS.7R1.RB.A12.LD4:U_RES... for system: RB.A12..., className: DQAMGNDRBODD, DQAMGNDRBEVEN..., source: QPS... at 2015-01-18 12:29:00.607\n"
     ]
    },
    {
     "name": "stderr",
     "output_type": "stream",
     "text": [
      "Post Mortem returned no data for the following query: http://pm-api-pro/v2/pmdata/signal?system=QPS&className=DQAMGNDRBEVEN&source=RB.A12&timestampInNanos=1421580540607000000&signal=DFLAS.7L2.RB.A12.LD1:U_HTS\n",
      "Post Mortem returned no data for the following query: http://pm-api-pro/v2/pmdata/signal?system=QPS&className=DQAMGNDRBEVEN&source=RB.A12&timestampInNanos=1421580540607000000&signal=DFLAS.7L2.RB.A12.LD2:U_HTS\n",
      "Post Mortem returned no data for the following query: http://pm-api-pro/v2/pmdata/signal?system=QPS&className=DQAMGNDRBEVEN&source=RB.A12&timestampInNanos=1421580540607000000&signal=DFLAS.7L2.RB.A12.LD1:U_RES\n",
      "Post Mortem returned no data for the following query: http://pm-api-pro/v2/pmdata/signal?system=QPS&className=DQAMGNDRBEVEN&source=RB.A12&timestampInNanos=1421580540607000000&signal=DFLAS.7L2.RB.A12.LD2:U_RES\n"
     ]
    },
    {
     "name": "stdout",
     "output_type": "stream",
     "text": [
      "successfully downloaded: <class 'src.acquisitions.leads.LEADS'>\n",
      "\tQuerying PM event signal(s) IAB.I_A, STATUS.I_EARTH_PCNT, STATUS.I_MEAS, STATUS.I_REF, IEARTH.IEARTH for system: RPTE.UA23.RB.A12, className: 51_self_pmd, source: FGC at 2015-11-03 07:25:49.860\n",
      "successfully downloaded: <class 'src.acquisitions.pc_pm.PC_PM'>\n",
      "\tQuerying PM event timestamps for system: QPS, className: DQAMSNRB, source: RR17.RB.A12, UA23.RB.A12 from 2015-11-03 07:25:39.860 to 2015-11-03 07:42:29.860\n",
      "\tQuerying PM event signal(s) RR17.RB.A12:U_DUMP_RES, UA23.RB.A12:U_DUMP_RES for system: RR17.RB.A12, UA23.RB.A12, className: DQAMSNRB, source: QPS at 2015-11-03 07:25:50.159\n"
     ]
    },
    {
     "name": "stderr",
     "output_type": "stream",
     "text": [
      "Post Mortem returned no data for the following query: http://pm-api-pro/v2/pmdata/signal?system=QPS&className=DQAMSNRB&source=UA23.RB.A12&timestampInNanos=1446531950159000000&signal=UA23.RB.A12:U_DUMP_RES\n"
     ]
    },
    {
     "name": "stdout",
     "output_type": "stream",
     "text": [
      "successfully downloaded: <class 'src.acquisitions.ee_u_dump_res_pm.EE_U_DUMP_RES_PM'>\n",
      "\tQuerying PM event timestamps for system: QPS, className: DQAMSNRB, source: RR17.RB.A12, UA23.RB.A12 from 2015-11-03 07:25:39.860 to 2015-11-03 07:42:29.860\n",
      "\tQuerying PM event signal(s) UA23.RB.A12:T_RES_BODY_2, RR17.RB.A12:T_RES_BODY_2, UA23.RB.A12:T_RES_BODY_1, RR17.RB.A12:T_RES_BODY_1, RR17.RB.A12:T_RES_BODY_3... for system: RR17.RB.A12, UA23.RB.A12..., className: DQAMSNRB..., source: QPS... at 2015-11-03 07:25:50.159\n"
     ]
    },
    {
     "name": "stderr",
     "output_type": "stream",
     "text": [
      "Post Mortem returned no data for the following query: http://pm-api-pro/v2/pmdata/signal?system=QPS&className=DQAMSNRB&source=UA23.RB.A12&timestampInNanos=1446531950159000000&signal=UA23.RB.A12:T_RES_BODY_1\n",
      "Post Mortem returned no data for the following query: http://pm-api-pro/v2/pmdata/signal?system=QPS&className=DQAMSNRB&source=UA23.RB.A12&timestampInNanos=1446531950159000000&signal=UA23.RB.A12:T_RES_BODY_2\n",
      "Post Mortem returned no data for the following query: http://pm-api-pro/v2/pmdata/signal?system=QPS&className=DQAMSNRB&source=UA23.RB.A12&timestampInNanos=1446531950159000000&signal=UA23.RB.A12:T_RES_BODY_3\n"
     ]
    },
    {
     "name": "stdout",
     "output_type": "stream",
     "text": [
      "successfully downloaded: <class 'src.acquisitions.ee_t_res_pm.EE_T_RES_PM'>\n",
      "\tQuerying NXCALS signal(s) MB.A10R1:U_DIODE_RB, MB.A9R1:U_DIODE_RB, MB.B9R1:U_DIODE_RB, MB.A8R1:U_DIODE_RB, MB.B8R1:U_DIODE_RB... from 2015-11-03 07:24:59.860 to 2015-11-03 07:34:09.860\n",
      "\tQuerying NXCALS signal(s) MB.C12R1:U_EARTH_RB, MB.B8R1:U_EARTH_RB, MB.B11R1:U_EARTH_RB, MB.A8R1:U_EARTH_RB, MB.A10R1:U_EARTH_RB... from 2015-11-03 07:24:59.860 to 2015-11-03 07:34:09.860\n",
      "successfully downloaded: <class 'src.acquisitions.voltage_nxcals.VOLTAGE_NXCALS'>\n",
      "\tQuerying PM event timestamps for system: QPS, className: DQAMCNMB_PMSTD, source: * from 2015-11-03 07:24:59.860 to 2015-11-03 07:34:09.860\n"
     ]
    },
    {
     "data": {
      "application/vnd.jupyter.widget-view+json": {
       "model_id": "264331a8cedd4651a12c3c8880604f4e",
       "version_major": 2,
       "version_minor": 0
      },
      "text/plain": [
       "Querying iQPS logic PM:   0%|          | 0/3 [00:00<?, ?it/s]"
      ]
     },
     "metadata": {},
     "output_type": "display_data"
    },
    {
     "name": "stdout",
     "output_type": "stream",
     "text": [
      "successfully downloaded: <class 'src.acquisitions.voltage_logic_iqps.VOLTAGE_LOGIC_IQPS'>\n",
      "\tQuerying PM event timestamps for system: QPS, className: DQAMCNMB_PMSTD, source: * from 2015-11-03 07:24:59.860 to 2015-11-03 07:34:09.860\n",
      "\tQuerying PM event timestamps for system: QPS, className: DQAMGNSRB_PMREL, source: * from 2015-11-03 07:25:39.860 to 2015-11-03 07:32:29.860\n"
     ]
    },
    {
     "name": "stderr",
     "output_type": "stream",
     "text": [
      "Some nQPS PM buffers missing. ['B8R1', 'B9R1', 'B10R1', 'B11R1', 'B12R1', 'B13R1', 'B14R1', 'B15R1', 'B16R1', 'B17R1', 'B18R1', 'B19R1', 'B20R1', 'B21R1', 'B22R1', 'B23R1', 'B24R1', 'B25R1', 'B26R1', 'B27R1', 'B28R1', 'B29R1', 'B30R1', 'B31R1', 'B32R1', 'B33R1', 'B34R1', 'B34L2', 'B33L2', 'B32L2', 'B31L2', 'B30L2', 'B29L2', 'B28L2', 'B27L2', 'B26L2', 'B25L2', 'B21L2', 'B20L2', 'B19L2', 'B18L2', 'B17L2', 'B16L2', 'B15L2', 'B14L2', 'B10L2', 'B9L2', 'B8L2'] not found for RB.A12 within [(10, 's'), (400, 's')] around 1446531949860000000.\n"
     ]
    },
    {
     "data": {
      "application/vnd.jupyter.widget-view+json": {
       "model_id": "11148a0f2ed84becae308f39e2d38ffb",
       "version_major": 2,
       "version_minor": 0
      },
      "text/plain": [
       "Querying PM/NXCALS U_DIODE_RB, U_REF_N1:   0%|          | 0/3 [00:00<?, ?it/s]"
      ]
     },
     "metadata": {},
     "output_type": "display_data"
    },
    {
     "name": "stderr",
     "output_type": "stream",
     "text": [
      "In function NqpsRbQuery._query_nqps_pm: Input timestamp is NaN, query skipped returning default return_type.\n"
     ]
    },
    {
     "data": {
      "application/vnd.jupyter.widget-view+json": {
       "model_id": "49fde4807b56495cbb47683a670b7d54",
       "version_major": 2,
       "version_minor": 0
      },
      "text/plain": [
       "Querying PM/NXCALS U_DIODE_RB, U_REF_N1:   0%|          | 0/3 [00:00<?, ?it/s]"
      ]
     },
     "metadata": {},
     "output_type": "display_data"
    },
    {
     "name": "stderr",
     "output_type": "stream",
     "text": [
      "In function NqpsRbQuery._query_nqps_pm: Input timestamp is NaN, query skipped returning default return_type.\n"
     ]
    },
    {
     "name": "stdout",
     "output_type": "stream",
     "text": [
      "successfully downloaded: <class 'src.acquisitions.voltage_logic_nqps.VOLTAGE_LOGIC_NQPS'>\n",
      "\tQuerying PM event timestamps for system: QPS, className: DQAMCNMB_PMHSU, source: * from 2015-11-03 07:25:39.860 to 2015-11-03 07:34:09.860\n"
     ]
    },
    {
     "data": {
      "application/vnd.jupyter.widget-view+json": {
       "model_id": "0bbd45def5ce4eb8a53c8240a6ca39a0",
       "version_major": 2,
       "version_minor": 0
      },
      "text/plain": [
       "Querying PM:   0%|          | 0/3 [00:00<?, ?it/s]"
      ]
     },
     "metadata": {},
     "output_type": "display_data"
    },
    {
     "name": "stdout",
     "output_type": "stream",
     "text": [
      "successfully downloaded: <class 'src.acquisitions.qh_pm.QH_PM'>\n",
      "\tQuerying PM event timestamps for system: QPS, className: DQAMCNMB_PMSTD, source: * from 2015-11-03 07:24:59.860 to 2015-11-03 07:34:09.860\n"
     ]
    },
    {
     "data": {
      "application/vnd.jupyter.widget-view+json": {
       "model_id": "1f8f048fa2b34193ae9ef68c792d5ca9",
       "version_major": 2,
       "version_minor": 0
      },
      "text/plain": [
       "Querying U, I Diode PM:   0%|          | 0/3 [00:00<?, ?it/s]"
      ]
     },
     "metadata": {},
     "output_type": "display_data"
    },
    {
     "name": "stdout",
     "output_type": "stream",
     "text": [
      "\tQuerying PM event timestamps for system: QPS, className: DQAMGNSRB_PMREL, source: B32L2 from 2015-11-03 07:15:49.819 to 2015-11-03 07:35:49.819\n",
      "successfully downloaded: <class 'src.acquisitions.current_voltage_diode_leads_pm.CURRENT_VOLTAGE_DIODE_LEADS_PM'>\n",
      "\tQuerying PM event timestamps for system: QPS, className: DQAMCNMB_PMSTD, source: * from 2015-11-03 07:24:59.860 to 2015-11-03 07:31:39.860\n"
     ]
    },
    {
     "data": {
      "application/vnd.jupyter.widget-view+json": {
       "model_id": "1c8f63a314f3464ca4b519ff5802429d",
       "version_major": 2,
       "version_minor": 0
      },
      "text/plain": [
       "Querying U, I Diode leads NXCALS:   0%|          | 0/3 [00:00<?, ?it/s]"
      ]
     },
     "metadata": {},
     "output_type": "display_data"
    },
    {
     "name": "stdout",
     "output_type": "stream",
     "text": [
      "successfully downloaded: <class 'src.acquisitions.current_voltage_diode_leads_nxcals.CURRENT_VOLTAGE_DIODE_LEADS_NXCALS'>\n",
      "\tQuerying PM event timestamps for system: QPS, className: DQAMGNDRBODD, DQAMGNDRBEVEN, source: RB.A12 from 2015-11-03 07:25:39.860 to 2015-11-03 07:32:29.860\n",
      "\tQuerying PM event signal(s) DFLAS.7R1.RB.A12.LD3:U_RES, DFLAS.7R1.RB.A12.LD4:U_HTS, DFLAS.7L2.RB.A12.LD1:U_HTS, DFLAS.7R1.RB.A12.LD3:U_HTS, DFLAS.7R1.RB.A12.LD4:U_RES... for system: RB.A12..., className: DQAMGNDRBODD, DQAMGNDRBEVEN..., source: QPS... at 2015-11-03 07:25:51.006\n"
     ]
    },
    {
     "name": "stderr",
     "output_type": "stream",
     "text": [
      "Post Mortem returned no data for the following query: http://pm-api-pro/v2/pmdata/signal?system=QPS&className=DQAMGNDRBEVEN&source=RB.A12&timestampInNanos=1446531951006000000&signal=DFLAS.7L2.RB.A12.LD1:U_HTS\n",
      "Post Mortem returned no data for the following query: http://pm-api-pro/v2/pmdata/signal?system=QPS&className=DQAMGNDRBEVEN&source=RB.A12&timestampInNanos=1446531951006000000&signal=DFLAS.7L2.RB.A12.LD2:U_HTS\n",
      "Post Mortem returned no data for the following query: http://pm-api-pro/v2/pmdata/signal?system=QPS&className=DQAMGNDRBEVEN&source=RB.A12&timestampInNanos=1446531951006000000&signal=DFLAS.7L2.RB.A12.LD1:U_RES\n",
      "Post Mortem returned no data for the following query: http://pm-api-pro/v2/pmdata/signal?system=QPS&className=DQAMGNDRBEVEN&source=RB.A12&timestampInNanos=1446531951006000000&signal=DFLAS.7L2.RB.A12.LD2:U_RES\n"
     ]
    },
    {
     "name": "stdout",
     "output_type": "stream",
     "text": [
      "successfully downloaded: <class 'src.acquisitions.leads.LEADS'>\n",
      "\tQuerying PM event signal(s) IAB.I_A, STATUS.I_EARTH_PCNT, STATUS.I_MEAS, STATUS.I_REF, IEARTH.IEARTH for system: RPTE.UA23.RB.A12, className: 51_self_pmd, source: FGC at 2016-06-10 19:13:05.320\n",
      "successfully downloaded: <class 'src.acquisitions.pc_pm.PC_PM'>\n",
      "\tQuerying PM event timestamps for system: QPS, className: DQAMSNRB, source: RR17.RB.A12, UA23.RB.A12 from 2016-06-10 19:12:55.320 to 2016-06-10 19:29:45.320\n",
      "\tQuerying PM event signal(s) RR17.RB.A12:U_DUMP_RES, UA23.RB.A12:U_DUMP_RES for system: RR17.RB.A12, UA23.RB.A12, className: DQAMSNRB, source: QPS at 2016-06-10 19:13:05.621\n"
     ]
    },
    {
     "name": "stderr",
     "output_type": "stream",
     "text": [
      "Post Mortem returned no data for the following query: http://pm-api-pro/v2/pmdata/signal?system=QPS&className=DQAMSNRB&source=UA23.RB.A12&timestampInNanos=1465578785621000000&signal=UA23.RB.A12:U_DUMP_RES\n"
     ]
    },
    {
     "name": "stdout",
     "output_type": "stream",
     "text": [
      "successfully downloaded: <class 'src.acquisitions.ee_u_dump_res_pm.EE_U_DUMP_RES_PM'>\n",
      "\tQuerying PM event timestamps for system: QPS, className: DQAMSNRB, source: RR17.RB.A12, UA23.RB.A12 from 2016-06-10 19:12:55.320 to 2016-06-10 19:29:45.320\n",
      "\tQuerying PM event signal(s) UA23.RB.A12:T_RES_BODY_2, RR17.RB.A12:T_RES_BODY_2, UA23.RB.A12:T_RES_BODY_1, RR17.RB.A12:T_RES_BODY_1, RR17.RB.A12:T_RES_BODY_3... for system: RR17.RB.A12, UA23.RB.A12..., className: DQAMSNRB..., source: QPS... at 2016-06-10 19:13:05.621\n"
     ]
    },
    {
     "name": "stderr",
     "output_type": "stream",
     "text": [
      "Post Mortem returned no data for the following query: http://pm-api-pro/v2/pmdata/signal?system=QPS&className=DQAMSNRB&source=UA23.RB.A12&timestampInNanos=1465578785621000000&signal=UA23.RB.A12:T_RES_BODY_1\n",
      "Post Mortem returned no data for the following query: http://pm-api-pro/v2/pmdata/signal?system=QPS&className=DQAMSNRB&source=UA23.RB.A12&timestampInNanos=1465578785621000000&signal=UA23.RB.A12:T_RES_BODY_2\n",
      "Post Mortem returned no data for the following query: http://pm-api-pro/v2/pmdata/signal?system=QPS&className=DQAMSNRB&source=UA23.RB.A12&timestampInNanos=1465578785621000000&signal=UA23.RB.A12:T_RES_BODY_3\n"
     ]
    },
    {
     "name": "stdout",
     "output_type": "stream",
     "text": [
      "successfully downloaded: <class 'src.acquisitions.ee_t_res_pm.EE_T_RES_PM'>\n",
      "\tQuerying NXCALS signal(s) MB.A10R1:U_DIODE_RB, MB.A9R1:U_DIODE_RB, MB.B9R1:U_DIODE_RB, MB.A8R1:U_DIODE_RB, MB.B8R1:U_DIODE_RB... from 2016-06-10 19:12:15.320 to 2016-06-10 19:21:25.320\n",
      "\tQuerying NXCALS signal(s) MB.C12R1:U_EARTH_RB, MB.B8R1:U_EARTH_RB, MB.B11R1:U_EARTH_RB, MB.A8R1:U_EARTH_RB, MB.A10R1:U_EARTH_RB... from 2016-06-10 19:12:15.320 to 2016-06-10 19:21:25.320\n",
      "successfully downloaded: <class 'src.acquisitions.voltage_nxcals.VOLTAGE_NXCALS'>\n",
      "\tQuerying PM event timestamps for system: QPS, className: DQAMCNMB_PMSTD, source: * from 2016-06-10 19:12:15.320 to 2016-06-10 19:21:25.320\n"
     ]
    },
    {
     "data": {
      "application/vnd.jupyter.widget-view+json": {
       "model_id": "dca41b5feb3a4ae58fefa4ae050bbbeb",
       "version_major": 2,
       "version_minor": 0
      },
      "text/plain": [
       "Querying iQPS logic PM:   0%|          | 0/1 [00:00<?, ?it/s]"
      ]
     },
     "metadata": {},
     "output_type": "display_data"
    },
    {
     "name": "stdout",
     "output_type": "stream",
     "text": [
      "successfully downloaded: <class 'src.acquisitions.voltage_logic_iqps.VOLTAGE_LOGIC_IQPS'>\n",
      "\tQuerying PM event timestamps for system: QPS, className: DQAMCNMB_PMSTD, source: * from 2016-06-10 19:12:15.320 to 2016-06-10 19:21:25.320\n",
      "\tQuerying PM event timestamps for system: QPS, className: DQAMGNSRB_PMREL, source: * from 2016-06-10 19:12:55.320 to 2016-06-10 19:19:45.320\n"
     ]
    },
    {
     "name": "stderr",
     "output_type": "stream",
     "text": [
      "Some nQPS PM buffers missing. ['B8R1', 'B9R1', 'B10R1', 'B11R1', 'B12R1', 'B13R1', 'B14R1', 'B15R1', 'B16R1', 'B17R1', 'B18R1', 'B19R1', 'B20R1', 'B21R1', 'B22R1', 'B23R1', 'B24R1', 'B25R1', 'B26R1', 'B27R1', 'B28R1', 'B29R1', 'B30R1', 'B31R1', 'B32R1', 'B33R1', 'B34R1', 'B34L2', 'B33L2', 'B32L2', 'B30L2', 'B29L2', 'B28L2', 'B27L2', 'B26L2', 'B25L2', 'B24L2', 'B23L2', 'B22L2', 'B21L2', 'B20L2', 'B19L2', 'B18L2', 'B17L2', 'B16L2', 'B15L2', 'B14L2', 'B13L2', 'B12L2', 'B11L2', 'B10L2', 'B9L2', 'B8L2'] not found for RB.A12 within [(10, 's'), (400, 's')] around 1465578785320000000.\n"
     ]
    },
    {
     "data": {
      "application/vnd.jupyter.widget-view+json": {
       "model_id": "40c322271f8448f2b2efc093a5638c13",
       "version_major": 2,
       "version_minor": 0
      },
      "text/plain": [
       "Querying PM/NXCALS U_DIODE_RB, U_REF_N1:   0%|          | 0/1 [00:00<?, ?it/s]"
      ]
     },
     "metadata": {},
     "output_type": "display_data"
    },
    {
     "data": {
      "application/vnd.jupyter.widget-view+json": {
       "model_id": "eaa9fa55e4c94be8915e6c73fbe564fc",
       "version_major": 2,
       "version_minor": 0
      },
      "text/plain": [
       "Querying PM/NXCALS U_DIODE_RB, U_REF_N1:   0%|          | 0/1 [00:00<?, ?it/s]"
      ]
     },
     "metadata": {},
     "output_type": "display_data"
    },
    {
     "name": "stdout",
     "output_type": "stream",
     "text": [
      "successfully downloaded: <class 'src.acquisitions.voltage_logic_nqps.VOLTAGE_LOGIC_NQPS'>\n",
      "\tQuerying PM event timestamps for system: QPS, className: DQAMCNMB_PMHSU, source: * from 2016-06-10 19:12:55.320 to 2016-06-10 19:21:25.320\n"
     ]
    },
    {
     "data": {
      "application/vnd.jupyter.widget-view+json": {
       "model_id": "5c9d598157894c489ccc8a91c5b46009",
       "version_major": 2,
       "version_minor": 0
      },
      "text/plain": [
       "Querying PM:   0%|          | 0/1 [00:00<?, ?it/s]"
      ]
     },
     "metadata": {},
     "output_type": "display_data"
    },
    {
     "name": "stdout",
     "output_type": "stream",
     "text": [
      "successfully downloaded: <class 'src.acquisitions.qh_pm.QH_PM'>\n",
      "\tQuerying PM event timestamps for system: QPS, className: DQAMCNMB_PMSTD, source: * from 2016-06-10 19:12:15.320 to 2016-06-10 19:21:25.320\n"
     ]
    },
    {
     "data": {
      "application/vnd.jupyter.widget-view+json": {
       "model_id": "020a94a257734c38a1326894b4f76ce9",
       "version_major": 2,
       "version_minor": 0
      },
      "text/plain": [
       "Querying U, I Diode PM:   0%|          | 0/1 [00:00<?, ?it/s]"
      ]
     },
     "metadata": {},
     "output_type": "display_data"
    },
    {
     "name": "stdout",
     "output_type": "stream",
     "text": [
      "\tQuerying PM event timestamps for system: QPS, className: DQAMGNSRB_PMREL, source: B31L2 from 2016-06-10 19:03:05.287 to 2016-06-10 19:23:05.287\n",
      "successfully downloaded: <class 'src.acquisitions.current_voltage_diode_leads_pm.CURRENT_VOLTAGE_DIODE_LEADS_PM'>\n",
      "\tQuerying PM event timestamps for system: QPS, className: DQAMCNMB_PMSTD, source: * from 2016-06-10 19:12:15.320 to 2016-06-10 19:18:55.320\n"
     ]
    },
    {
     "data": {
      "application/vnd.jupyter.widget-view+json": {
       "model_id": "e20c6a9d7b164b35ae7fae48a99a643d",
       "version_major": 2,
       "version_minor": 0
      },
      "text/plain": [
       "Querying U, I Diode leads NXCALS:   0%|          | 0/1 [00:00<?, ?it/s]"
      ]
     },
     "metadata": {},
     "output_type": "display_data"
    },
    {
     "name": "stdout",
     "output_type": "stream",
     "text": [
      "successfully downloaded: <class 'src.acquisitions.current_voltage_diode_leads_nxcals.CURRENT_VOLTAGE_DIODE_LEADS_NXCALS'>\n",
      "\tQuerying PM event timestamps for system: QPS, className: DQAMGNDRBODD, DQAMGNDRBEVEN, source: RB.A12 from 2016-06-10 19:12:55.320 to 2016-06-10 19:19:45.320\n",
      "\tQuerying NXCALS signal(s) DFLAS.7R1.RB.A12.LD3:U_RES, DFLAS.7R1.RB.A12.LD4:U_HTS, DFLAS.7L2.RB.A12.LD1:U_HTS, DFLAS.7R1.RB.A12.LD3:U_HTS, DFLAS.7R1.RB.A12.LD4:U_RES... from 2016-06-10 19:12:35.320 to 2016-06-10 19:14:35.320\n",
      "successfully downloaded: <class 'src.acquisitions.leads.LEADS'>\n",
      "\tQuerying PM event signal(s) IAB.I_A, STATUS.I_EARTH_PCNT, STATUS.I_MEAS, STATUS.I_REF, IEARTH.IEARTH for system: RPTE.UA23.RB.A12, className: 51_self_pmd, source: FGC at 2016-08-03 15:00:04.900\n",
      "successfully downloaded: <class 'src.acquisitions.pc_pm.PC_PM'>\n",
      "\tQuerying PM event timestamps for system: QPS, className: DQAMSNRB, source: RR17.RB.A12, UA23.RB.A12 from 2016-08-03 14:59:54.900 to 2016-08-03 15:16:44.900\n",
      "\tQuerying PM event signal(s) RR17.RB.A12:U_DUMP_RES, UA23.RB.A12:U_DUMP_RES for system: RR17.RB.A12, UA23.RB.A12, className: DQAMSNRB, source: QPS at 2016-08-03 15:00:05.202\n"
     ]
    },
    {
     "name": "stderr",
     "output_type": "stream",
     "text": [
      "Post Mortem returned no data for the following query: http://pm-api-pro/v2/pmdata/signal?system=QPS&className=DQAMSNRB&source=UA23.RB.A12&timestampInNanos=1470229205202000000&signal=UA23.RB.A12:U_DUMP_RES\n"
     ]
    },
    {
     "name": "stdout",
     "output_type": "stream",
     "text": [
      "successfully downloaded: <class 'src.acquisitions.ee_u_dump_res_pm.EE_U_DUMP_RES_PM'>\n",
      "\tQuerying PM event timestamps for system: QPS, className: DQAMSNRB, source: RR17.RB.A12, UA23.RB.A12 from 2016-08-03 14:59:54.900 to 2016-08-03 15:16:44.900\n",
      "\tQuerying PM event signal(s) UA23.RB.A12:T_RES_BODY_2, RR17.RB.A12:T_RES_BODY_2, UA23.RB.A12:T_RES_BODY_1, RR17.RB.A12:T_RES_BODY_1, RR17.RB.A12:T_RES_BODY_3... for system: RR17.RB.A12, UA23.RB.A12..., className: DQAMSNRB..., source: QPS... at 2016-08-03 15:00:05.202\n"
     ]
    },
    {
     "name": "stderr",
     "output_type": "stream",
     "text": [
      "Post Mortem returned no data for the following query: http://pm-api-pro/v2/pmdata/signal?system=QPS&className=DQAMSNRB&source=UA23.RB.A12&timestampInNanos=1470229205202000000&signal=UA23.RB.A12:T_RES_BODY_1\n",
      "Post Mortem returned no data for the following query: http://pm-api-pro/v2/pmdata/signal?system=QPS&className=DQAMSNRB&source=UA23.RB.A12&timestampInNanos=1470229205202000000&signal=UA23.RB.A12:T_RES_BODY_2\n",
      "Post Mortem returned no data for the following query: http://pm-api-pro/v2/pmdata/signal?system=QPS&className=DQAMSNRB&source=UA23.RB.A12&timestampInNanos=1470229205202000000&signal=UA23.RB.A12:T_RES_BODY_3\n"
     ]
    },
    {
     "name": "stdout",
     "output_type": "stream",
     "text": [
      "successfully downloaded: <class 'src.acquisitions.ee_t_res_pm.EE_T_RES_PM'>\n",
      "\tQuerying NXCALS signal(s) MB.A10R1:U_DIODE_RB, MB.A9R1:U_DIODE_RB, MB.B9R1:U_DIODE_RB, MB.A8R1:U_DIODE_RB, MB.B8R1:U_DIODE_RB... from 2016-08-03 14:59:14.900 to 2016-08-03 15:08:24.900\n",
      "\tQuerying NXCALS signal(s) MB.C12R1:U_EARTH_RB, MB.B8R1:U_EARTH_RB, MB.B11R1:U_EARTH_RB, MB.A8R1:U_EARTH_RB, MB.A10R1:U_EARTH_RB... from 2016-08-03 14:59:14.900 to 2016-08-03 15:08:24.900\n",
      "successfully downloaded: <class 'src.acquisitions.voltage_nxcals.VOLTAGE_NXCALS'>\n",
      "\tQuerying PM event timestamps for system: QPS, className: DQAMCNMB_PMSTD, source: * from 2016-08-03 14:59:14.900 to 2016-08-03 15:08:24.900\n"
     ]
    },
    {
     "data": {
      "application/vnd.jupyter.widget-view+json": {
       "model_id": "c36311c4b4b5421c9cdccbb288bbb774",
       "version_major": 2,
       "version_minor": 0
      },
      "text/plain": [
       "Querying iQPS logic PM:   0%|          | 0/1 [00:00<?, ?it/s]"
      ]
     },
     "metadata": {},
     "output_type": "display_data"
    },
    {
     "name": "stdout",
     "output_type": "stream",
     "text": [
      "successfully downloaded: <class 'src.acquisitions.voltage_logic_iqps.VOLTAGE_LOGIC_IQPS'>\n",
      "\tQuerying PM event timestamps for system: QPS, className: DQAMCNMB_PMSTD, source: * from 2016-08-03 14:59:14.900 to 2016-08-03 15:08:24.900\n",
      "\tQuerying PM event timestamps for system: QPS, className: DQAMGNSRB_PMREL, source: * from 2016-08-03 14:59:54.900 to 2016-08-03 15:06:44.900\n"
     ]
    },
    {
     "name": "stderr",
     "output_type": "stream",
     "text": [
      "Some nQPS PM buffers missing. ['B8R1', 'B9R1', 'B10R1', 'B11R1', 'B12R1', 'B13R1', 'B14R1', 'B15R1', 'B16R1', 'B17R1', 'B18R1', 'B19R1', 'B20R1', 'B21R1', 'B22R1', 'B23R1', 'B24R1', 'B25R1', 'B26R1', 'B27R1', 'B28R1', 'B29R1', 'B30R1', 'B31R1', 'B32R1', 'B33R1', 'B34R1', 'B34L2', 'B33L2', 'B32L2', 'B30L2', 'B29L2', 'B28L2', 'B27L2', 'B26L2', 'B25L2', 'B24L2', 'B23L2', 'B22L2', 'B21L2', 'B20L2', 'B19L2', 'B18L2', 'B17L2', 'B16L2', 'B15L2', 'B14L2', 'B13L2', 'B12L2', 'B11L2', 'B10L2', 'B9L2', 'B8L2'] not found for RB.A12 within [(10, 's'), (400, 's')] around 1470229204900000000.\n"
     ]
    },
    {
     "data": {
      "application/vnd.jupyter.widget-view+json": {
       "model_id": "4024c50d58cf47988c91dae4c2c7a334",
       "version_major": 2,
       "version_minor": 0
      },
      "text/plain": [
       "Querying PM/NXCALS U_DIODE_RB, U_REF_N1:   0%|          | 0/1 [00:00<?, ?it/s]"
      ]
     },
     "metadata": {},
     "output_type": "display_data"
    },
    {
     "data": {
      "application/vnd.jupyter.widget-view+json": {
       "model_id": "5c5ba299187442139bee62ee3d314f05",
       "version_major": 2,
       "version_minor": 0
      },
      "text/plain": [
       "Querying PM/NXCALS U_DIODE_RB, U_REF_N1:   0%|          | 0/1 [00:00<?, ?it/s]"
      ]
     },
     "metadata": {},
     "output_type": "display_data"
    },
    {
     "name": "stdout",
     "output_type": "stream",
     "text": [
      "successfully downloaded: <class 'src.acquisitions.voltage_logic_nqps.VOLTAGE_LOGIC_NQPS'>\n",
      "\tQuerying PM event timestamps for system: QPS, className: DQAMCNMB_PMHSU, source: * from 2016-08-03 14:59:54.900 to 2016-08-03 15:08:24.900\n"
     ]
    },
    {
     "data": {
      "application/vnd.jupyter.widget-view+json": {
       "model_id": "ee2557e4a5fd4cc6b63860dc7cc61e32",
       "version_major": 2,
       "version_minor": 0
      },
      "text/plain": [
       "Querying PM:   0%|          | 0/1 [00:00<?, ?it/s]"
      ]
     },
     "metadata": {},
     "output_type": "display_data"
    },
    {
     "name": "stdout",
     "output_type": "stream",
     "text": [
      "successfully downloaded: <class 'src.acquisitions.qh_pm.QH_PM'>\n",
      "\tQuerying PM event timestamps for system: QPS, className: DQAMCNMB_PMSTD, source: * from 2016-08-03 14:59:14.900 to 2016-08-03 15:08:24.900\n"
     ]
    },
    {
     "data": {
      "application/vnd.jupyter.widget-view+json": {
       "model_id": "f5912a1d9d414d69a4cdd9cd1eaa67e3",
       "version_major": 2,
       "version_minor": 0
      },
      "text/plain": [
       "Querying U, I Diode PM:   0%|          | 0/1 [00:00<?, ?it/s]"
      ]
     },
     "metadata": {},
     "output_type": "display_data"
    },
    {
     "name": "stdout",
     "output_type": "stream",
     "text": [
      "\tQuerying PM event timestamps for system: QPS, className: DQAMGNSRB_PMREL, source: B31L2 from 2016-08-03 14:50:04.869 to 2016-08-03 15:10:04.869\n",
      "successfully downloaded: <class 'src.acquisitions.current_voltage_diode_leads_pm.CURRENT_VOLTAGE_DIODE_LEADS_PM'>\n",
      "\tQuerying PM event timestamps for system: QPS, className: DQAMCNMB_PMSTD, source: * from 2016-08-03 14:59:14.900 to 2016-08-03 15:05:54.900\n"
     ]
    },
    {
     "data": {
      "application/vnd.jupyter.widget-view+json": {
       "model_id": "704aebd8038a417ebc2e3639499909d0",
       "version_major": 2,
       "version_minor": 0
      },
      "text/plain": [
       "Querying U, I Diode leads NXCALS:   0%|          | 0/1 [00:00<?, ?it/s]"
      ]
     },
     "metadata": {},
     "output_type": "display_data"
    },
    {
     "name": "stdout",
     "output_type": "stream",
     "text": [
      "successfully downloaded: <class 'src.acquisitions.current_voltage_diode_leads_nxcals.CURRENT_VOLTAGE_DIODE_LEADS_NXCALS'>\n",
      "\tQuerying PM event timestamps for system: QPS, className: DQAMGNDRBODD, DQAMGNDRBEVEN, source: RB.A12 from 2016-08-03 14:59:54.900 to 2016-08-03 15:06:44.900\n",
      "\tQuerying NXCALS signal(s) DFLAS.7R1.RB.A12.LD3:U_RES, DFLAS.7R1.RB.A12.LD4:U_HTS, DFLAS.7L2.RB.A12.LD1:U_HTS, DFLAS.7R1.RB.A12.LD3:U_HTS, DFLAS.7R1.RB.A12.LD4:U_RES... from 2016-08-03 14:59:34.900 to 2016-08-03 15:01:34.900\n",
      "successfully downloaded: <class 'src.acquisitions.leads.LEADS'>\n",
      "\tQuerying PM event signal(s) IAB.I_A, STATUS.I_EARTH_PCNT, STATUS.I_MEAS, STATUS.I_REF, IEARTH.IEARTH for system: RPTE.UA23.RB.A12, className: 51_self_pmd, source: FGC at 2017-04-22 21:48:26.140\n",
      "successfully downloaded: <class 'src.acquisitions.pc_pm.PC_PM'>\n",
      "\tQuerying PM event timestamps for system: QPS, className: DQAMSNRB, source: RR17.RB.A12, UA23.RB.A12 from 2017-04-22 21:48:16.140 to 2017-04-22 22:05:06.140\n",
      "\tQuerying PM event signal(s) RR17.RB.A12:U_DUMP_RES, UA23.RB.A12:U_DUMP_RES for system: RR17.RB.A12, UA23.RB.A12, className: DQAMSNRB, source: QPS at 2017-04-22 21:48:26.438\n"
     ]
    },
    {
     "name": "stderr",
     "output_type": "stream",
     "text": [
      "Post Mortem returned no data for the following query: http://pm-api-pro/v2/pmdata/signal?system=QPS&className=DQAMSNRB&source=UA23.RB.A12&timestampInNanos=1492890506438000000&signal=UA23.RB.A12:U_DUMP_RES\n"
     ]
    },
    {
     "name": "stdout",
     "output_type": "stream",
     "text": [
      "successfully downloaded: <class 'src.acquisitions.ee_u_dump_res_pm.EE_U_DUMP_RES_PM'>\n",
      "\tQuerying PM event timestamps for system: QPS, className: DQAMSNRB, source: RR17.RB.A12, UA23.RB.A12 from 2017-04-22 21:48:16.140 to 2017-04-22 22:05:06.140\n",
      "\tQuerying PM event signal(s) UA23.RB.A12:T_RES_BODY_2, RR17.RB.A12:T_RES_BODY_2, UA23.RB.A12:T_RES_BODY_1, RR17.RB.A12:T_RES_BODY_1, RR17.RB.A12:T_RES_BODY_3... for system: RR17.RB.A12, UA23.RB.A12..., className: DQAMSNRB..., source: QPS... at 2017-04-22 21:48:26.438\n"
     ]
    },
    {
     "name": "stderr",
     "output_type": "stream",
     "text": [
      "Post Mortem returned no data for the following query: http://pm-api-pro/v2/pmdata/signal?system=QPS&className=DQAMSNRB&source=UA23.RB.A12&timestampInNanos=1492890506438000000&signal=UA23.RB.A12:T_RES_BODY_1\n",
      "Post Mortem returned no data for the following query: http://pm-api-pro/v2/pmdata/signal?system=QPS&className=DQAMSNRB&source=UA23.RB.A12&timestampInNanos=1492890506438000000&signal=UA23.RB.A12:T_RES_BODY_2\n",
      "Post Mortem returned no data for the following query: http://pm-api-pro/v2/pmdata/signal?system=QPS&className=DQAMSNRB&source=UA23.RB.A12&timestampInNanos=1492890506438000000&signal=UA23.RB.A12:T_RES_BODY_3\n"
     ]
    },
    {
     "name": "stdout",
     "output_type": "stream",
     "text": [
      "successfully downloaded: <class 'src.acquisitions.ee_t_res_pm.EE_T_RES_PM'>\n",
      "\tQuerying NXCALS signal(s) MB.A10R1:U_DIODE_RB, MB.A9R1:U_DIODE_RB, MB.B9R1:U_DIODE_RB, MB.A8R1:U_DIODE_RB, MB.B8R1:U_DIODE_RB... from 2017-04-22 21:47:36.140 to 2017-04-22 21:56:46.140\n",
      "\tQuerying NXCALS signal(s) MB.C12R1:U_EARTH_RB, MB.B8R1:U_EARTH_RB, MB.B11R1:U_EARTH_RB, MB.A8R1:U_EARTH_RB, MB.A10R1:U_EARTH_RB... from 2017-04-22 21:47:36.140 to 2017-04-22 21:56:46.140\n",
      "successfully downloaded: <class 'src.acquisitions.voltage_nxcals.VOLTAGE_NXCALS'>\n",
      "\tQuerying PM event timestamps for system: QPS, className: DQAMCNMB_PMSTD, source: * from 2017-04-22 21:47:36.140 to 2017-04-22 21:56:46.140\n"
     ]
    },
    {
     "data": {
      "application/vnd.jupyter.widget-view+json": {
       "model_id": "7685e66df7eb45d78395fa4721142b82",
       "version_major": 2,
       "version_minor": 0
      },
      "text/plain": [
       "Querying iQPS logic PM:   0%|          | 0/6 [00:00<?, ?it/s]"
      ]
     },
     "metadata": {},
     "output_type": "display_data"
    },
    {
     "name": "stdout",
     "output_type": "stream",
     "text": [
      "successfully downloaded: <class 'src.acquisitions.voltage_logic_iqps.VOLTAGE_LOGIC_IQPS'>\n",
      "\tQuerying PM event timestamps for system: QPS, className: DQAMCNMB_PMSTD, source: * from 2017-04-22 21:47:36.140 to 2017-04-22 21:56:46.140\n",
      "\tQuerying PM event timestamps for system: QPS, className: DQAMGNSRB_PMREL, source: * from 2017-04-22 21:48:16.140 to 2017-04-22 21:55:06.140\n"
     ]
    },
    {
     "data": {
      "application/vnd.jupyter.widget-view+json": {
       "model_id": "36f9a72b95f3454591f012b8b63ce9e8",
       "version_major": 2,
       "version_minor": 0
      },
      "text/plain": [
       "Querying PM/NXCALS U_DIODE_RB, U_REF_N1:   0%|          | 0/6 [00:00<?, ?it/s]"
      ]
     },
     "metadata": {},
     "output_type": "display_data"
    },
    {
     "data": {
      "application/vnd.jupyter.widget-view+json": {
       "model_id": "15dbe7a411fc4907b5c9a4d6d3dfd854",
       "version_major": 2,
       "version_minor": 0
      },
      "text/plain": [
       "Querying PM/NXCALS U_DIODE_RB, U_REF_N1:   0%|          | 0/6 [00:00<?, ?it/s]"
      ]
     },
     "metadata": {},
     "output_type": "display_data"
    },
    {
     "name": "stdout",
     "output_type": "stream",
     "text": [
      "successfully downloaded: <class 'src.acquisitions.voltage_logic_nqps.VOLTAGE_LOGIC_NQPS'>\n",
      "\tQuerying PM event timestamps for system: QPS, className: DQAMCNMB_PMHSU, source: * from 2017-04-22 21:48:16.140 to 2017-04-22 21:56:46.140\n"
     ]
    },
    {
     "data": {
      "application/vnd.jupyter.widget-view+json": {
       "model_id": "72f442607b684708a7a9f5a4ac43c178",
       "version_major": 2,
       "version_minor": 0
      },
      "text/plain": [
       "Querying PM:   0%|          | 0/6 [00:00<?, ?it/s]"
      ]
     },
     "metadata": {},
     "output_type": "display_data"
    },
    {
     "name": "stdout",
     "output_type": "stream",
     "text": [
      "successfully downloaded: <class 'src.acquisitions.qh_pm.QH_PM'>\n",
      "\tQuerying PM event timestamps for system: QPS, className: DQAMCNMB_PMSTD, source: * from 2017-04-22 21:47:36.140 to 2017-04-22 21:56:46.140\n"
     ]
    },
    {
     "data": {
      "application/vnd.jupyter.widget-view+json": {
       "model_id": "40b0756bfa6d43aeb01c048f30369e9c",
       "version_major": 2,
       "version_minor": 0
      },
      "text/plain": [
       "Querying U, I Diode PM:   0%|          | 0/6 [00:00<?, ?it/s]"
      ]
     },
     "metadata": {},
     "output_type": "display_data"
    },
    {
     "name": "stdout",
     "output_type": "stream",
     "text": [
      "\tQuerying PM event timestamps for system: QPS, className: DQAMGNSRB_PMREL, source: B28R1 from 2017-04-22 21:38:26.102 to 2017-04-22 21:58:26.102\n",
      "successfully downloaded: <class 'src.acquisitions.current_voltage_diode_leads_pm.CURRENT_VOLTAGE_DIODE_LEADS_PM'>\n",
      "\tQuerying PM event timestamps for system: QPS, className: DQAMCNMB_PMSTD, source: * from 2017-04-22 21:47:36.140 to 2017-04-22 21:54:16.140\n"
     ]
    },
    {
     "data": {
      "application/vnd.jupyter.widget-view+json": {
       "model_id": "07f74a1c09874dc9b433714844e72b9d",
       "version_major": 2,
       "version_minor": 0
      },
      "text/plain": [
       "Querying U, I Diode leads NXCALS:   0%|          | 0/6 [00:00<?, ?it/s]"
      ]
     },
     "metadata": {},
     "output_type": "display_data"
    },
    {
     "name": "stdout",
     "output_type": "stream",
     "text": [
      "successfully downloaded: <class 'src.acquisitions.current_voltage_diode_leads_nxcals.CURRENT_VOLTAGE_DIODE_LEADS_NXCALS'>\n",
      "\tQuerying PM event timestamps for system: QPS, className: DQAMGNDRBODD, DQAMGNDRBEVEN, source: RB.A12 from 2017-04-22 21:48:16.140 to 2017-04-22 21:55:06.140\n",
      "\tQuerying PM event signal(s) DFLAS.7R1.RB.A12.LD3:U_RES, DFLAS.7R1.RB.A12.LD4:U_HTS, DFLAS.7L2.RB.A12.LD1:U_HTS, DFLAS.7R1.RB.A12.LD3:U_HTS, DFLAS.7R1.RB.A12.LD4:U_RES... for system: RB.A12..., className: DQAMGNDRBODD, DQAMGNDRBEVEN..., source: QPS... at 2017-04-22 21:48:26.812\n"
     ]
    },
    {
     "name": "stderr",
     "output_type": "stream",
     "text": [
      "Post Mortem returned no data for the following query: http://pm-api-pro/v2/pmdata/signal?system=QPS&className=DQAMGNDRBEVEN&source=RB.A12&timestampInNanos=1492890506812000000&signal=DFLAS.7L2.RB.A12.LD1:U_HTS\n",
      "Post Mortem returned no data for the following query: http://pm-api-pro/v2/pmdata/signal?system=QPS&className=DQAMGNDRBEVEN&source=RB.A12&timestampInNanos=1492890506812000000&signal=DFLAS.7L2.RB.A12.LD2:U_HTS\n",
      "Post Mortem returned no data for the following query: http://pm-api-pro/v2/pmdata/signal?system=QPS&className=DQAMGNDRBEVEN&source=RB.A12&timestampInNanos=1492890506812000000&signal=DFLAS.7L2.RB.A12.LD1:U_RES\n",
      "Post Mortem returned no data for the following query: http://pm-api-pro/v2/pmdata/signal?system=QPS&className=DQAMGNDRBEVEN&source=RB.A12&timestampInNanos=1492890506812000000&signal=DFLAS.7L2.RB.A12.LD2:U_RES\n"
     ]
    },
    {
     "name": "stdout",
     "output_type": "stream",
     "text": [
      "successfully downloaded: <class 'src.acquisitions.leads.LEADS'>\n",
      "\tQuerying PM event signal(s) IAB.I_A, STATUS.I_EARTH_PCNT, STATUS.I_MEAS, STATUS.I_REF, IEARTH.IEARTH for system: RPTE.UA23.RB.A12, className: 51_self_pmd, source: FGC at 2017-04-23 13:29:01.100\n",
      "successfully downloaded: <class 'src.acquisitions.pc_pm.PC_PM'>\n",
      "\tQuerying PM event timestamps for system: QPS, className: DQAMSNRB, source: RR17.RB.A12, UA23.RB.A12 from 2017-04-23 13:28:51.100 to 2017-04-23 13:45:41.100\n",
      "\tQuerying PM event signal(s) RR17.RB.A12:U_DUMP_RES, UA23.RB.A12:U_DUMP_RES for system: RR17.RB.A12, UA23.RB.A12, className: DQAMSNRB, source: QPS at 2017-04-23 13:29:01.401\n"
     ]
    },
    {
     "name": "stderr",
     "output_type": "stream",
     "text": [
      "Post Mortem returned no data for the following query: http://pm-api-pro/v2/pmdata/signal?system=QPS&className=DQAMSNRB&source=UA23.RB.A12&timestampInNanos=1492946941401000000&signal=UA23.RB.A12:U_DUMP_RES\n"
     ]
    },
    {
     "name": "stdout",
     "output_type": "stream",
     "text": [
      "successfully downloaded: <class 'src.acquisitions.ee_u_dump_res_pm.EE_U_DUMP_RES_PM'>\n",
      "\tQuerying PM event timestamps for system: QPS, className: DQAMSNRB, source: RR17.RB.A12, UA23.RB.A12 from 2017-04-23 13:28:51.100 to 2017-04-23 13:45:41.100\n",
      "\tQuerying PM event signal(s) UA23.RB.A12:T_RES_BODY_2, RR17.RB.A12:T_RES_BODY_2, UA23.RB.A12:T_RES_BODY_1, RR17.RB.A12:T_RES_BODY_1, RR17.RB.A12:T_RES_BODY_3... for system: RR17.RB.A12, UA23.RB.A12..., className: DQAMSNRB..., source: QPS... at 2017-04-23 13:29:01.401\n"
     ]
    },
    {
     "name": "stderr",
     "output_type": "stream",
     "text": [
      "Post Mortem returned no data for the following query: http://pm-api-pro/v2/pmdata/signal?system=QPS&className=DQAMSNRB&source=UA23.RB.A12&timestampInNanos=1492946941401000000&signal=UA23.RB.A12:T_RES_BODY_1\n",
      "Post Mortem returned no data for the following query: http://pm-api-pro/v2/pmdata/signal?system=QPS&className=DQAMSNRB&source=UA23.RB.A12&timestampInNanos=1492946941401000000&signal=UA23.RB.A12:T_RES_BODY_2\n",
      "Post Mortem returned no data for the following query: http://pm-api-pro/v2/pmdata/signal?system=QPS&className=DQAMSNRB&source=UA23.RB.A12&timestampInNanos=1492946941401000000&signal=UA23.RB.A12:T_RES_BODY_3\n"
     ]
    },
    {
     "name": "stdout",
     "output_type": "stream",
     "text": [
      "successfully downloaded: <class 'src.acquisitions.ee_t_res_pm.EE_T_RES_PM'>\n",
      "\tQuerying NXCALS signal(s) MB.A10R1:U_DIODE_RB, MB.A9R1:U_DIODE_RB, MB.B9R1:U_DIODE_RB, MB.A8R1:U_DIODE_RB, MB.B8R1:U_DIODE_RB... from 2017-04-23 13:28:11.100 to 2017-04-23 13:37:21.100\n",
      "\tQuerying NXCALS signal(s) MB.C12R1:U_EARTH_RB, MB.B8R1:U_EARTH_RB, MB.B11R1:U_EARTH_RB, MB.A8R1:U_EARTH_RB, MB.A10R1:U_EARTH_RB... from 2017-04-23 13:28:11.100 to 2017-04-23 13:37:21.100\n",
      "successfully downloaded: <class 'src.acquisitions.voltage_nxcals.VOLTAGE_NXCALS'>\n",
      "\tQuerying PM event timestamps for system: QPS, className: DQAMCNMB_PMSTD, source: * from 2017-04-23 13:28:11.100 to 2017-04-23 13:37:21.100\n"
     ]
    },
    {
     "data": {
      "application/vnd.jupyter.widget-view+json": {
       "model_id": "aa98f02a1eef461da28e6932feafbc33",
       "version_major": 2,
       "version_minor": 0
      },
      "text/plain": [
       "Querying iQPS logic PM:   0%|          | 0/6 [00:00<?, ?it/s]"
      ]
     },
     "metadata": {},
     "output_type": "display_data"
    },
    {
     "name": "stdout",
     "output_type": "stream",
     "text": [
      "successfully downloaded: <class 'src.acquisitions.voltage_logic_iqps.VOLTAGE_LOGIC_IQPS'>\n",
      "\tQuerying PM event timestamps for system: QPS, className: DQAMCNMB_PMSTD, source: * from 2017-04-23 13:28:11.100 to 2017-04-23 13:37:21.100\n",
      "\tQuerying PM event timestamps for system: QPS, className: DQAMGNSRB_PMREL, source: * from 2017-04-23 13:28:51.100 to 2017-04-23 13:35:41.100\n"
     ]
    },
    {
     "data": {
      "application/vnd.jupyter.widget-view+json": {
       "model_id": "8cc7fd0f441440899acd2e86803754d1",
       "version_major": 2,
       "version_minor": 0
      },
      "text/plain": [
       "Querying PM/NXCALS U_DIODE_RB, U_REF_N1:   0%|          | 0/6 [00:00<?, ?it/s]"
      ]
     },
     "metadata": {},
     "output_type": "display_data"
    },
    {
     "data": {
      "application/vnd.jupyter.widget-view+json": {
       "model_id": "a1e9b8f9d06d404583e8d23f786a56f2",
       "version_major": 2,
       "version_minor": 0
      },
      "text/plain": [
       "Querying PM/NXCALS U_DIODE_RB, U_REF_N1:   0%|          | 0/6 [00:00<?, ?it/s]"
      ]
     },
     "metadata": {},
     "output_type": "display_data"
    },
    {
     "name": "stdout",
     "output_type": "stream",
     "text": [
      "successfully downloaded: <class 'src.acquisitions.voltage_logic_nqps.VOLTAGE_LOGIC_NQPS'>\n",
      "\tQuerying PM event timestamps for system: QPS, className: DQAMCNMB_PMHSU, source: * from 2017-04-23 13:28:51.100 to 2017-04-23 13:37:21.100\n"
     ]
    },
    {
     "data": {
      "application/vnd.jupyter.widget-view+json": {
       "model_id": "4e4cfff6376c4fb1b1b7ed46c3537a03",
       "version_major": 2,
       "version_minor": 0
      },
      "text/plain": [
       "Querying PM:   0%|          | 0/6 [00:00<?, ?it/s]"
      ]
     },
     "metadata": {},
     "output_type": "display_data"
    },
    {
     "name": "stdout",
     "output_type": "stream",
     "text": [
      "successfully downloaded: <class 'src.acquisitions.qh_pm.QH_PM'>\n",
      "\tQuerying PM event timestamps for system: QPS, className: DQAMCNMB_PMSTD, source: * from 2017-04-23 13:28:11.100 to 2017-04-23 13:37:21.100\n"
     ]
    },
    {
     "data": {
      "application/vnd.jupyter.widget-view+json": {
       "model_id": "0db08085a69340fd9945799576723602",
       "version_major": 2,
       "version_minor": 0
      },
      "text/plain": [
       "Querying U, I Diode PM:   0%|          | 0/6 [00:00<?, ?it/s]"
      ]
     },
     "metadata": {},
     "output_type": "display_data"
    },
    {
     "name": "stdout",
     "output_type": "stream",
     "text": [
      "\tQuerying PM event timestamps for system: QPS, className: DQAMGNSRB_PMREL, source: B25R1 from 2017-04-23 13:19:01.065 to 2017-04-23 13:39:01.065\n",
      "\tQuerying PM event timestamps for system: QPS, className: DQAMGNSRB_PMREL, source: B24R1 from 2017-04-23 13:19:01.333 to 2017-04-23 13:39:01.333\n",
      "\tQuerying PM event timestamps for system: QPS, className: DQAMGNSRB_PMREL, source: B25R1 from 2017-04-23 13:19:01.523 to 2017-04-23 13:39:01.523\n",
      "successfully downloaded: <class 'src.acquisitions.current_voltage_diode_leads_pm.CURRENT_VOLTAGE_DIODE_LEADS_PM'>\n",
      "\tQuerying PM event timestamps for system: QPS, className: DQAMCNMB_PMSTD, source: * from 2017-04-23 13:28:11.100 to 2017-04-23 13:34:51.100\n"
     ]
    },
    {
     "data": {
      "application/vnd.jupyter.widget-view+json": {
       "model_id": "9c5a1e634ca44fddad3905f8e63e879f",
       "version_major": 2,
       "version_minor": 0
      },
      "text/plain": [
       "Querying U, I Diode leads NXCALS:   0%|          | 0/6 [00:00<?, ?it/s]"
      ]
     },
     "metadata": {},
     "output_type": "display_data"
    },
    {
     "name": "stdout",
     "output_type": "stream",
     "text": [
      "successfully downloaded: <class 'src.acquisitions.current_voltage_diode_leads_nxcals.CURRENT_VOLTAGE_DIODE_LEADS_NXCALS'>\n",
      "\tQuerying PM event timestamps for system: QPS, className: DQAMGNDRBODD, DQAMGNDRBEVEN, source: RB.A12 from 2017-04-23 13:28:51.100 to 2017-04-23 13:35:41.100\n",
      "\tQuerying PM event signal(s) DFLAS.7R1.RB.A12.LD3:U_RES, DFLAS.7R1.RB.A12.LD4:U_HTS, DFLAS.7L2.RB.A12.LD1:U_HTS, DFLAS.7R1.RB.A12.LD3:U_HTS, DFLAS.7R1.RB.A12.LD4:U_RES... for system: RB.A12..., className: DQAMGNDRBODD, DQAMGNDRBEVEN..., source: QPS... at 2017-04-23 13:29:02.206\n"
     ]
    },
    {
     "name": "stderr",
     "output_type": "stream",
     "text": [
      "Post Mortem returned no data for the following query: http://pm-api-pro/v2/pmdata/signal?system=QPS&className=DQAMGNDRBEVEN&source=RB.A12&timestampInNanos=1492946942206000000&signal=DFLAS.7L2.RB.A12.LD1:U_HTS\n",
      "Post Mortem returned no data for the following query: http://pm-api-pro/v2/pmdata/signal?system=QPS&className=DQAMGNDRBEVEN&source=RB.A12&timestampInNanos=1492946942206000000&signal=DFLAS.7L2.RB.A12.LD2:U_HTS\n",
      "Post Mortem returned no data for the following query: http://pm-api-pro/v2/pmdata/signal?system=QPS&className=DQAMGNDRBEVEN&source=RB.A12&timestampInNanos=1492946942206000000&signal=DFLAS.7L2.RB.A12.LD1:U_RES\n",
      "Post Mortem returned no data for the following query: http://pm-api-pro/v2/pmdata/signal?system=QPS&className=DQAMGNDRBEVEN&source=RB.A12&timestampInNanos=1492946942206000000&signal=DFLAS.7L2.RB.A12.LD2:U_RES\n"
     ]
    },
    {
     "name": "stdout",
     "output_type": "stream",
     "text": [
      "successfully downloaded: <class 'src.acquisitions.leads.LEADS'>\n",
      "\tQuerying PM event signal(s) IAB.I_A, STATUS.I_EARTH_PCNT, STATUS.I_MEAS, STATUS.I_REF, IEARTH.IEARTH for system: RPTE.UA23.RB.A12, className: 51_self_pmd, source: FGC at 2017-08-12 12:15:05.800\n",
      "successfully downloaded: <class 'src.acquisitions.pc_pm.PC_PM'>\n",
      "\tQuerying PM event timestamps for system: QPS, className: DQAMSNRB, source: RR17.RB.A12, UA23.RB.A12 from 2017-08-12 12:14:55.800 to 2017-08-12 12:31:45.800\n",
      "\tQuerying PM event signal(s) RR17.RB.A12:U_DUMP_RES, UA23.RB.A12:U_DUMP_RES for system: RR17.RB.A12, UA23.RB.A12, className: DQAMSNRB, source: QPS at 2017-08-12 12:15:06.100\n"
     ]
    },
    {
     "name": "stderr",
     "output_type": "stream",
     "text": [
      "Post Mortem returned no data for the following query: http://pm-api-pro/v2/pmdata/signal?system=QPS&className=DQAMSNRB&source=UA23.RB.A12&timestampInNanos=1502532906100000000&signal=UA23.RB.A12:U_DUMP_RES\n"
     ]
    },
    {
     "name": "stdout",
     "output_type": "stream",
     "text": [
      "successfully downloaded: <class 'src.acquisitions.ee_u_dump_res_pm.EE_U_DUMP_RES_PM'>\n",
      "\tQuerying PM event timestamps for system: QPS, className: DQAMSNRB, source: RR17.RB.A12, UA23.RB.A12 from 2017-08-12 12:14:55.800 to 2017-08-12 12:31:45.800\n",
      "\tQuerying PM event signal(s) UA23.RB.A12:T_RES_BODY_2, RR17.RB.A12:T_RES_BODY_2, UA23.RB.A12:T_RES_BODY_1, RR17.RB.A12:T_RES_BODY_1, RR17.RB.A12:T_RES_BODY_3... for system: RR17.RB.A12, UA23.RB.A12..., className: DQAMSNRB..., source: QPS... at 2017-08-12 12:15:06.100\n"
     ]
    },
    {
     "name": "stderr",
     "output_type": "stream",
     "text": [
      "Post Mortem returned no data for the following query: http://pm-api-pro/v2/pmdata/signal?system=QPS&className=DQAMSNRB&source=UA23.RB.A12&timestampInNanos=1502532906100000000&signal=UA23.RB.A12:T_RES_BODY_1\n",
      "Post Mortem returned no data for the following query: http://pm-api-pro/v2/pmdata/signal?system=QPS&className=DQAMSNRB&source=UA23.RB.A12&timestampInNanos=1502532906100000000&signal=UA23.RB.A12:T_RES_BODY_2\n",
      "Post Mortem returned no data for the following query: http://pm-api-pro/v2/pmdata/signal?system=QPS&className=DQAMSNRB&source=UA23.RB.A12&timestampInNanos=1502532906100000000&signal=UA23.RB.A12:T_RES_BODY_3\n"
     ]
    },
    {
     "name": "stdout",
     "output_type": "stream",
     "text": [
      "successfully downloaded: <class 'src.acquisitions.ee_t_res_pm.EE_T_RES_PM'>\n",
      "\tQuerying NXCALS signal(s) MB.A10R1:U_DIODE_RB, MB.A9R1:U_DIODE_RB, MB.B9R1:U_DIODE_RB, MB.A8R1:U_DIODE_RB, MB.B8R1:U_DIODE_RB... from 2017-08-12 12:14:15.800 to 2017-08-12 12:23:25.800\n",
      "\tQuerying NXCALS signal(s) MB.C12R1:U_EARTH_RB, MB.B8R1:U_EARTH_RB, MB.B11R1:U_EARTH_RB, MB.A8R1:U_EARTH_RB, MB.A10R1:U_EARTH_RB... from 2017-08-12 12:14:15.800 to 2017-08-12 12:23:25.800\n",
      "successfully downloaded: <class 'src.acquisitions.voltage_nxcals.VOLTAGE_NXCALS'>\n",
      "\tQuerying PM event timestamps for system: QPS, className: DQAMCNMB_PMSTD, source: * from 2017-08-12 12:14:15.800 to 2017-08-12 12:23:25.800\n"
     ]
    },
    {
     "data": {
      "application/vnd.jupyter.widget-view+json": {
       "model_id": "979eb6fb2c8446ee9ed7bdab75587bf8",
       "version_major": 2,
       "version_minor": 0
      },
      "text/plain": [
       "Querying iQPS logic PM:   0%|          | 0/4 [00:00<?, ?it/s]"
      ]
     },
     "metadata": {},
     "output_type": "display_data"
    },
    {
     "name": "stdout",
     "output_type": "stream",
     "text": [
      "successfully downloaded: <class 'src.acquisitions.voltage_logic_iqps.VOLTAGE_LOGIC_IQPS'>\n",
      "\tQuerying PM event timestamps for system: QPS, className: DQAMCNMB_PMSTD, source: * from 2017-08-12 12:14:15.800 to 2017-08-12 12:23:25.800\n",
      "\tQuerying PM event timestamps for system: QPS, className: DQAMGNSRB_PMREL, source: * from 2017-08-12 12:14:55.800 to 2017-08-12 12:21:45.800\n"
     ]
    },
    {
     "data": {
      "application/vnd.jupyter.widget-view+json": {
       "model_id": "ffc0681925f641eda70d1db27d5831c6",
       "version_major": 2,
       "version_minor": 0
      },
      "text/plain": [
       "Querying PM/NXCALS U_DIODE_RB, U_REF_N1:   0%|          | 0/4 [00:00<?, ?it/s]"
      ]
     },
     "metadata": {},
     "output_type": "display_data"
    },
    {
     "data": {
      "application/vnd.jupyter.widget-view+json": {
       "model_id": "bd52c176aefc47eeb0b4837b2fe516be",
       "version_major": 2,
       "version_minor": 0
      },
      "text/plain": [
       "Querying PM/NXCALS U_DIODE_RB, U_REF_N1:   0%|          | 0/4 [00:00<?, ?it/s]"
      ]
     },
     "metadata": {},
     "output_type": "display_data"
    },
    {
     "name": "stdout",
     "output_type": "stream",
     "text": [
      "successfully downloaded: <class 'src.acquisitions.voltage_logic_nqps.VOLTAGE_LOGIC_NQPS'>\n",
      "\tQuerying PM event timestamps for system: QPS, className: DQAMCNMB_PMHSU, source: * from 2017-08-12 12:14:55.800 to 2017-08-12 12:23:25.800\n"
     ]
    },
    {
     "data": {
      "application/vnd.jupyter.widget-view+json": {
       "model_id": "597faa1a2f5447f781b872de71777561",
       "version_major": 2,
       "version_minor": 0
      },
      "text/plain": [
       "Querying PM:   0%|          | 0/4 [00:00<?, ?it/s]"
      ]
     },
     "metadata": {},
     "output_type": "display_data"
    },
    {
     "name": "stdout",
     "output_type": "stream",
     "text": [
      "successfully downloaded: <class 'src.acquisitions.qh_pm.QH_PM'>\n",
      "\tQuerying PM event timestamps for system: QPS, className: DQAMCNMB_PMSTD, source: * from 2017-08-12 12:14:15.800 to 2017-08-12 12:23:25.800\n"
     ]
    },
    {
     "data": {
      "application/vnd.jupyter.widget-view+json": {
       "model_id": "0c86f40866cd46d8a5e1f684d43fa854",
       "version_major": 2,
       "version_minor": 0
      },
      "text/plain": [
       "Querying U, I Diode PM:   0%|          | 0/4 [00:00<?, ?it/s]"
      ]
     },
     "metadata": {},
     "output_type": "display_data"
    },
    {
     "name": "stdout",
     "output_type": "stream",
     "text": [
      "successfully downloaded: <class 'src.acquisitions.current_voltage_diode_leads_pm.CURRENT_VOLTAGE_DIODE_LEADS_PM'>\n",
      "\tQuerying PM event timestamps for system: QPS, className: DQAMCNMB_PMSTD, source: * from 2017-08-12 12:14:15.800 to 2017-08-12 12:20:55.800\n"
     ]
    },
    {
     "data": {
      "application/vnd.jupyter.widget-view+json": {
       "model_id": "21d1c0f5841141deb309488ac08d454f",
       "version_major": 2,
       "version_minor": 0
      },
      "text/plain": [
       "Querying U, I Diode leads NXCALS:   0%|          | 0/4 [00:00<?, ?it/s]"
      ]
     },
     "metadata": {},
     "output_type": "display_data"
    },
    {
     "name": "stdout",
     "output_type": "stream",
     "text": [
      "successfully downloaded: <class 'src.acquisitions.current_voltage_diode_leads_nxcals.CURRENT_VOLTAGE_DIODE_LEADS_NXCALS'>\n",
      "\tQuerying PM event timestamps for system: QPS, className: DQAMGNDRBODD, DQAMGNDRBEVEN, source: RB.A12 from 2017-08-12 12:14:55.800 to 2017-08-12 12:21:45.800\n",
      "\tQuerying PM event signal(s) DFLAS.7R1.RB.A12.LD3:U_RES, DFLAS.7R1.RB.A12.LD4:U_HTS, DFLAS.7L2.RB.A12.LD1:U_HTS, DFLAS.7R1.RB.A12.LD3:U_HTS, DFLAS.7R1.RB.A12.LD4:U_RES... for system: RB.A12..., className: DQAMGNDRBODD, DQAMGNDRBEVEN..., source: QPS... at 2017-08-12 12:15:06.806\n"
     ]
    },
    {
     "name": "stderr",
     "output_type": "stream",
     "text": [
      "Post Mortem returned no data for the following query: http://pm-api-pro/v2/pmdata/signal?system=QPS&className=DQAMGNDRBEVEN&source=RB.A12&timestampInNanos=1502532906806000000&signal=DFLAS.7L2.RB.A12.LD1:U_HTS\n",
      "Post Mortem returned no data for the following query: http://pm-api-pro/v2/pmdata/signal?system=QPS&className=DQAMGNDRBEVEN&source=RB.A12&timestampInNanos=1502532906806000000&signal=DFLAS.7L2.RB.A12.LD2:U_HTS\n",
      "Post Mortem returned no data for the following query: http://pm-api-pro/v2/pmdata/signal?system=QPS&className=DQAMGNDRBEVEN&source=RB.A12&timestampInNanos=1502532906806000000&signal=DFLAS.7L2.RB.A12.LD1:U_RES\n",
      "Post Mortem returned no data for the following query: http://pm-api-pro/v2/pmdata/signal?system=QPS&className=DQAMGNDRBEVEN&source=RB.A12&timestampInNanos=1502532906806000000&signal=DFLAS.7L2.RB.A12.LD2:U_RES\n"
     ]
    },
    {
     "name": "stdout",
     "output_type": "stream",
     "text": [
      "successfully downloaded: <class 'src.acquisitions.leads.LEADS'>\n",
      "\tQuerying PM event signal(s) IAB.I_A, STATUS.I_EARTH_PCNT, STATUS.I_MEAS, STATUS.I_REF, IEARTH.IEARTH for system: RPTE.UA23.RB.A12, className: 51_self_pmd, source: FGC at 2018-06-01 01:11:40.520\n",
      "successfully downloaded: <class 'src.acquisitions.pc_pm.PC_PM'>\n",
      "\tQuerying PM event timestamps for system: QPS, className: DQAMSNRB, source: RR17.RB.A12, UA23.RB.A12 from 2018-06-01 01:11:30.520 to 2018-06-01 01:28:20.520\n",
      "\tQuerying PM event signal(s) RR17.RB.A12:U_DUMP_RES, UA23.RB.A12:U_DUMP_RES for system: RR17.RB.A12, UA23.RB.A12, className: DQAMSNRB, source: QPS at 2018-06-01 01:11:40.594\n"
     ]
    },
    {
     "name": "stderr",
     "output_type": "stream",
     "text": [
      "Post Mortem returned no data for the following query: http://pm-api-pro/v2/pmdata/signal?system=QPS&className=DQAMSNRB&source=UA23.RB.A12&timestampInNanos=1527808300594000000&signal=UA23.RB.A12:U_DUMP_RES\n"
     ]
    },
    {
     "name": "stdout",
     "output_type": "stream",
     "text": [
      "successfully downloaded: <class 'src.acquisitions.ee_u_dump_res_pm.EE_U_DUMP_RES_PM'>\n",
      "\tQuerying PM event timestamps for system: QPS, className: DQAMSNRB, source: RR17.RB.A12, UA23.RB.A12 from 2018-06-01 01:11:30.520 to 2018-06-01 01:28:20.520\n",
      "\tQuerying PM event signal(s) UA23.RB.A12:T_RES_BODY_2, RR17.RB.A12:T_RES_BODY_2, UA23.RB.A12:T_RES_BODY_1, RR17.RB.A12:T_RES_BODY_1, RR17.RB.A12:T_RES_BODY_3... for system: RR17.RB.A12, UA23.RB.A12..., className: DQAMSNRB..., source: QPS... at 2018-06-01 01:11:40.594\n"
     ]
    },
    {
     "name": "stderr",
     "output_type": "stream",
     "text": [
      "Post Mortem returned no data for the following query: http://pm-api-pro/v2/pmdata/signal?system=QPS&className=DQAMSNRB&source=UA23.RB.A12&timestampInNanos=1527808300594000000&signal=UA23.RB.A12:T_RES_BODY_1\n",
      "Post Mortem returned no data for the following query: http://pm-api-pro/v2/pmdata/signal?system=QPS&className=DQAMSNRB&source=UA23.RB.A12&timestampInNanos=1527808300594000000&signal=UA23.RB.A12:T_RES_BODY_2\n",
      "Post Mortem returned no data for the following query: http://pm-api-pro/v2/pmdata/signal?system=QPS&className=DQAMSNRB&source=UA23.RB.A12&timestampInNanos=1527808300594000000&signal=UA23.RB.A12:T_RES_BODY_3\n"
     ]
    },
    {
     "name": "stdout",
     "output_type": "stream",
     "text": [
      "successfully downloaded: <class 'src.acquisitions.ee_t_res_pm.EE_T_RES_PM'>\n",
      "\tQuerying NXCALS signal(s) MB.A10R1:U_DIODE_RB, MB.A9R1:U_DIODE_RB, MB.B9R1:U_DIODE_RB, MB.A8R1:U_DIODE_RB, MB.B8R1:U_DIODE_RB... from 2018-06-01 01:10:50.520 to 2018-06-01 01:20:00.520\n",
      "\tQuerying NXCALS signal(s) MB.C12R1:U_EARTH_RB, MB.B8R1:U_EARTH_RB, MB.B11R1:U_EARTH_RB, MB.A8R1:U_EARTH_RB, MB.A10R1:U_EARTH_RB... from 2018-06-01 01:10:50.520 to 2018-06-01 01:20:00.520\n",
      "successfully downloaded: <class 'src.acquisitions.voltage_nxcals.VOLTAGE_NXCALS'>\n",
      "\tQuerying PM event timestamps for system: QPS, className: DQAMCNMB_PMSTD, source: * from 2018-06-01 01:10:50.520 to 2018-06-01 01:20:00.520\n"
     ]
    },
    {
     "data": {
      "application/vnd.jupyter.widget-view+json": {
       "model_id": "739995790deb4b419911362d30aaae01",
       "version_major": 2,
       "version_minor": 0
      },
      "text/plain": [
       "Querying iQPS logic PM:   0%|          | 0/1 [00:00<?, ?it/s]"
      ]
     },
     "metadata": {},
     "output_type": "display_data"
    },
    {
     "name": "stdout",
     "output_type": "stream",
     "text": [
      "successfully downloaded: <class 'src.acquisitions.voltage_logic_iqps.VOLTAGE_LOGIC_IQPS'>\n",
      "\tQuerying PM event timestamps for system: QPS, className: DQAMCNMB_PMSTD, source: * from 2018-06-01 01:10:50.520 to 2018-06-01 01:20:00.520\n",
      "\tQuerying PM event timestamps for system: QPS, className: DQAMGNSRB_PMREL, source: * from 2018-06-01 01:11:30.520 to 2018-06-01 01:18:20.520\n"
     ]
    },
    {
     "name": "stderr",
     "output_type": "stream",
     "text": [
      "Some nQPS PM buffers missing. ['B8R1', 'B9R1', 'B10R1', 'B11R1', 'B12R1', 'B13R1', 'B14R1', 'B15R1', 'B16R1', 'B17R1', 'B18R1', 'B19R1', 'B20R1', 'B21R1', 'B22R1', 'B23R1', 'B24R1', 'B25R1', 'B26R1', 'B27R1', 'B28R1', 'B29R1', 'B30R1', 'B31R1', 'B32R1', 'B33R1', 'B34R1', 'B34L2', 'B33L2', 'B32L2', 'B31L2', 'B30L2', 'B29L2', 'B28L2', 'B27L2', 'B26L2', 'B25L2', 'B24L2', 'B23L2', 'B22L2', 'B21L2', 'B20L2', 'B19L2', 'B18L2', 'B17L2', 'B16L2', 'B15L2', 'B14L2', 'B13L2', 'B12L2', 'B11L2', 'B10L2', 'B8L2'] not found for RB.A12 within [(10, 's'), (400, 's')] around 1527808300520000000.\n"
     ]
    },
    {
     "data": {
      "application/vnd.jupyter.widget-view+json": {
       "model_id": "cb3e305e3280495991df470e554abdb1",
       "version_major": 2,
       "version_minor": 0
      },
      "text/plain": [
       "Querying PM/NXCALS U_DIODE_RB, U_REF_N1:   0%|          | 0/1 [00:00<?, ?it/s]"
      ]
     },
     "metadata": {},
     "output_type": "display_data"
    },
    {
     "data": {
      "application/vnd.jupyter.widget-view+json": {
       "model_id": "714654baca804fb98f063c91c18f61af",
       "version_major": 2,
       "version_minor": 0
      },
      "text/plain": [
       "Querying PM/NXCALS U_DIODE_RB, U_REF_N1:   0%|          | 0/1 [00:00<?, ?it/s]"
      ]
     },
     "metadata": {},
     "output_type": "display_data"
    },
    {
     "name": "stdout",
     "output_type": "stream",
     "text": [
      "successfully downloaded: <class 'src.acquisitions.voltage_logic_nqps.VOLTAGE_LOGIC_NQPS'>\n",
      "\tQuerying PM event timestamps for system: QPS, className: DQAMCNMB_PMHSU, source: * from 2018-06-01 01:11:30.520 to 2018-06-01 01:20:00.520\n"
     ]
    },
    {
     "data": {
      "application/vnd.jupyter.widget-view+json": {
       "model_id": "7ff97254b38146908073221f563039eb",
       "version_major": 2,
       "version_minor": 0
      },
      "text/plain": [
       "Querying PM:   0%|          | 0/1 [00:00<?, ?it/s]"
      ]
     },
     "metadata": {},
     "output_type": "display_data"
    },
    {
     "name": "stdout",
     "output_type": "stream",
     "text": [
      "successfully downloaded: <class 'src.acquisitions.qh_pm.QH_PM'>\n",
      "\tQuerying PM event timestamps for system: QPS, className: DQAMCNMB_PMSTD, source: * from 2018-06-01 01:10:50.520 to 2018-06-01 01:20:00.520\n"
     ]
    },
    {
     "data": {
      "application/vnd.jupyter.widget-view+json": {
       "model_id": "79ecc941e7714745b16e44a7e2008219",
       "version_major": 2,
       "version_minor": 0
      },
      "text/plain": [
       "Querying U, I Diode PM:   0%|          | 0/1 [00:00<?, ?it/s]"
      ]
     },
     "metadata": {},
     "output_type": "display_data"
    },
    {
     "name": "stdout",
     "output_type": "stream",
     "text": [
      "\tQuerying PM event timestamps for system: QPS, className: DQAMGNSRB_PMREL, source: B9L2 from 2018-06-01 01:01:40.312 to 2018-06-01 01:21:40.312\n",
      "successfully downloaded: <class 'src.acquisitions.current_voltage_diode_leads_pm.CURRENT_VOLTAGE_DIODE_LEADS_PM'>\n",
      "\tQuerying PM event timestamps for system: QPS, className: DQAMCNMB_PMSTD, source: * from 2018-06-01 01:10:50.520 to 2018-06-01 01:17:30.520\n"
     ]
    },
    {
     "data": {
      "application/vnd.jupyter.widget-view+json": {
       "model_id": "3ab176e564e6477ea304a1160e19be56",
       "version_major": 2,
       "version_minor": 0
      },
      "text/plain": [
       "Querying U, I Diode leads NXCALS:   0%|          | 0/1 [00:00<?, ?it/s]"
      ]
     },
     "metadata": {},
     "output_type": "display_data"
    },
    {
     "name": "stdout",
     "output_type": "stream",
     "text": [
      "successfully downloaded: <class 'src.acquisitions.current_voltage_diode_leads_nxcals.CURRENT_VOLTAGE_DIODE_LEADS_NXCALS'>\n",
      "\tQuerying PM event timestamps for system: QPS, className: DQAMGNDRBODD, DQAMGNDRBEVEN, source: RB.A12 from 2018-06-01 01:11:30.520 to 2018-06-01 01:18:20.520\n",
      "\tQuerying NXCALS signal(s) DFLAS.7R1.RB.A12.LD3:U_RES, DFLAS.7R1.RB.A12.LD4:U_HTS, DFLAS.7L2.RB.A12.LD1:U_HTS, DFLAS.7R1.RB.A12.LD3:U_HTS, DFLAS.7R1.RB.A12.LD4:U_RES... from 2018-06-01 01:11:10.520 to 2018-06-01 01:13:10.520\n",
      "successfully downloaded: <class 'src.acquisitions.leads.LEADS'>\n",
      "\tQuerying PM event signal(s) IAB.I_A, STATUS.I_EARTH_PCNT, STATUS.I_MEAS, STATUS.I_REF, IEARTH.IEARTH for system: RPTE.UA23.RB.A12, className: 51_self_pmd, source: FGC at 2018-12-03 05:20:49.860\n",
      "successfully downloaded: <class 'src.acquisitions.pc_pm.PC_PM'>\n",
      "\tQuerying PM event timestamps for system: QPS, className: DQAMSNRB, source: RR17.RB.A12, UA23.RB.A12 from 2018-12-03 05:20:39.860 to 2018-12-03 05:37:29.860\n",
      "\tQuerying PM event signal(s) RR17.RB.A12:U_DUMP_RES, UA23.RB.A12:U_DUMP_RES for system: RR17.RB.A12, UA23.RB.A12, className: DQAMSNRB, source: QPS at 2018-12-03 05:20:49.933\n"
     ]
    },
    {
     "name": "stderr",
     "output_type": "stream",
     "text": [
      "Post Mortem returned no data for the following query: http://pm-api-pro/v2/pmdata/signal?system=QPS&className=DQAMSNRB&source=UA23.RB.A12&timestampInNanos=1543810849933000000&signal=UA23.RB.A12:U_DUMP_RES\n"
     ]
    },
    {
     "name": "stdout",
     "output_type": "stream",
     "text": [
      "successfully downloaded: <class 'src.acquisitions.ee_u_dump_res_pm.EE_U_DUMP_RES_PM'>\n",
      "\tQuerying PM event timestamps for system: QPS, className: DQAMSNRB, source: RR17.RB.A12, UA23.RB.A12 from 2018-12-03 05:20:39.860 to 2018-12-03 05:37:29.860\n",
      "\tQuerying PM event signal(s) UA23.RB.A12:T_RES_BODY_2, RR17.RB.A12:T_RES_BODY_2, UA23.RB.A12:T_RES_BODY_1, RR17.RB.A12:T_RES_BODY_1, RR17.RB.A12:T_RES_BODY_3... for system: RR17.RB.A12, UA23.RB.A12..., className: DQAMSNRB..., source: QPS... at 2018-12-03 05:20:49.933\n"
     ]
    },
    {
     "name": "stderr",
     "output_type": "stream",
     "text": [
      "Post Mortem returned no data for the following query: http://pm-api-pro/v2/pmdata/signal?system=QPS&className=DQAMSNRB&source=UA23.RB.A12&timestampInNanos=1543810849933000000&signal=UA23.RB.A12:T_RES_BODY_1\n",
      "Post Mortem returned no data for the following query: http://pm-api-pro/v2/pmdata/signal?system=QPS&className=DQAMSNRB&source=UA23.RB.A12&timestampInNanos=1543810849933000000&signal=UA23.RB.A12:T_RES_BODY_2\n",
      "Post Mortem returned no data for the following query: http://pm-api-pro/v2/pmdata/signal?system=QPS&className=DQAMSNRB&source=UA23.RB.A12&timestampInNanos=1543810849933000000&signal=UA23.RB.A12:T_RES_BODY_3\n"
     ]
    },
    {
     "name": "stdout",
     "output_type": "stream",
     "text": [
      "successfully downloaded: <class 'src.acquisitions.ee_t_res_pm.EE_T_RES_PM'>\n",
      "\tQuerying NXCALS signal(s) MB.A10R1:U_DIODE_RB, MB.A9R1:U_DIODE_RB, MB.B9R1:U_DIODE_RB, MB.A8R1:U_DIODE_RB, MB.B8R1:U_DIODE_RB... from 2018-12-03 05:19:59.860 to 2018-12-03 05:29:09.860\n",
      "\tQuerying NXCALS signal(s) MB.C12R1:U_EARTH_RB, MB.B8R1:U_EARTH_RB, MB.B11R1:U_EARTH_RB, MB.A8R1:U_EARTH_RB, MB.A10R1:U_EARTH_RB... from 2018-12-03 05:19:59.860 to 2018-12-03 05:29:09.860\n",
      "successfully downloaded: <class 'src.acquisitions.voltage_nxcals.VOLTAGE_NXCALS'>\n",
      "\tQuerying PM event timestamps for system: QPS, className: DQAMCNMB_PMSTD, source: * from 2018-12-03 05:19:59.860 to 2018-12-03 05:29:09.860\n"
     ]
    },
    {
     "data": {
      "application/vnd.jupyter.widget-view+json": {
       "model_id": "6d0e295ad19e4456bd3eb2d99c8afd62",
       "version_major": 2,
       "version_minor": 0
      },
      "text/plain": [
       "Querying iQPS logic PM:   0%|          | 0/3 [00:00<?, ?it/s]"
      ]
     },
     "metadata": {},
     "output_type": "display_data"
    },
    {
     "name": "stdout",
     "output_type": "stream",
     "text": [
      "successfully downloaded: <class 'src.acquisitions.voltage_logic_iqps.VOLTAGE_LOGIC_IQPS'>\n",
      "\tQuerying PM event timestamps for system: QPS, className: DQAMCNMB_PMSTD, source: * from 2018-12-03 05:19:59.860 to 2018-12-03 05:29:09.860\n",
      "\tQuerying PM event timestamps for system: QPS, className: DQAMGNSRB_PMREL, source: * from 2018-12-03 05:20:39.860 to 2018-12-03 05:27:29.860\n"
     ]
    },
    {
     "data": {
      "application/vnd.jupyter.widget-view+json": {
       "model_id": "0a95becc57a84b28a2484b15753f37ca",
       "version_major": 2,
       "version_minor": 0
      },
      "text/plain": [
       "Querying PM/NXCALS U_DIODE_RB, U_REF_N1:   0%|          | 0/3 [00:00<?, ?it/s]"
      ]
     },
     "metadata": {},
     "output_type": "display_data"
    },
    {
     "data": {
      "application/vnd.jupyter.widget-view+json": {
       "model_id": "14482601347e4646845fe21b66b4f02c",
       "version_major": 2,
       "version_minor": 0
      },
      "text/plain": [
       "Querying PM/NXCALS U_DIODE_RB, U_REF_N1:   0%|          | 0/3 [00:00<?, ?it/s]"
      ]
     },
     "metadata": {},
     "output_type": "display_data"
    },
    {
     "name": "stdout",
     "output_type": "stream",
     "text": [
      "successfully downloaded: <class 'src.acquisitions.voltage_logic_nqps.VOLTAGE_LOGIC_NQPS'>\n",
      "\tQuerying PM event timestamps for system: QPS, className: DQAMCNMB_PMHSU, source: * from 2018-12-03 05:20:39.860 to 2018-12-03 05:29:09.860\n"
     ]
    },
    {
     "data": {
      "application/vnd.jupyter.widget-view+json": {
       "model_id": "7f6b8b815b32420a8aa43818aced0ffc",
       "version_major": 2,
       "version_minor": 0
      },
      "text/plain": [
       "Querying PM:   0%|          | 0/3 [00:00<?, ?it/s]"
      ]
     },
     "metadata": {},
     "output_type": "display_data"
    },
    {
     "name": "stdout",
     "output_type": "stream",
     "text": [
      "successfully downloaded: <class 'src.acquisitions.qh_pm.QH_PM'>\n",
      "\tQuerying PM event timestamps for system: QPS, className: DQAMCNMB_PMSTD, source: * from 2018-12-03 05:19:59.860 to 2018-12-03 05:29:09.860\n"
     ]
    },
    {
     "data": {
      "application/vnd.jupyter.widget-view+json": {
       "model_id": "3b32b7b56ba948b3b6a2a911cb8a2aea",
       "version_major": 2,
       "version_minor": 0
      },
      "text/plain": [
       "Querying U, I Diode PM:   0%|          | 0/3 [00:00<?, ?it/s]"
      ]
     },
     "metadata": {},
     "output_type": "display_data"
    },
    {
     "name": "stdout",
     "output_type": "stream",
     "text": [
      "\tQuerying PM event timestamps for system: QPS, className: DQAMGNSRB_PMREL, source: B10L2 from 2018-12-03 05:10:49.912 to 2018-12-03 05:30:49.912\n",
      "successfully downloaded: <class 'src.acquisitions.current_voltage_diode_leads_pm.CURRENT_VOLTAGE_DIODE_LEADS_PM'>\n",
      "\tQuerying PM event timestamps for system: QPS, className: DQAMCNMB_PMSTD, source: * from 2018-12-03 05:19:59.860 to 2018-12-03 05:26:39.860\n"
     ]
    },
    {
     "data": {
      "application/vnd.jupyter.widget-view+json": {
       "model_id": "01bb7ae0a4ff44858492af194b6a7d48",
       "version_major": 2,
       "version_minor": 0
      },
      "text/plain": [
       "Querying U, I Diode leads NXCALS:   0%|          | 0/3 [00:00<?, ?it/s]"
      ]
     },
     "metadata": {},
     "output_type": "display_data"
    },
    {
     "name": "stdout",
     "output_type": "stream",
     "text": [
      "successfully downloaded: <class 'src.acquisitions.current_voltage_diode_leads_nxcals.CURRENT_VOLTAGE_DIODE_LEADS_NXCALS'>\n",
      "\tQuerying PM event timestamps for system: QPS, className: DQAMGNDRBODD, DQAMGNDRBEVEN, source: RB.A12 from 2018-12-03 05:20:39.860 to 2018-12-03 05:27:29.860\n",
      "\tQuerying PM event signal(s) DFLAS.7R1.RB.A12.LD3:U_RES, DFLAS.7R1.RB.A12.LD4:U_HTS, DFLAS.7L2.RB.A12.LD1:U_HTS, DFLAS.7R1.RB.A12.LD3:U_HTS, DFLAS.7R1.RB.A12.LD4:U_RES... for system: RB.A12..., className: DQAMGNDRBODD, DQAMGNDRBEVEN..., source: QPS... at 2018-12-03 05:20:50.415\n"
     ]
    },
    {
     "name": "stderr",
     "output_type": "stream",
     "text": [
      "Post Mortem returned no data for the following query: http://pm-api-pro/v2/pmdata/signal?system=QPS&className=DQAMGNDRBEVEN&source=RB.A12&timestampInNanos=1543810850415000000&signal=DFLAS.7L2.RB.A12.LD1:U_HTS\n",
      "Post Mortem returned no data for the following query: http://pm-api-pro/v2/pmdata/signal?system=QPS&className=DQAMGNDRBEVEN&source=RB.A12&timestampInNanos=1543810850415000000&signal=DFLAS.7L2.RB.A12.LD2:U_HTS\n",
      "Post Mortem returned no data for the following query: http://pm-api-pro/v2/pmdata/signal?system=QPS&className=DQAMGNDRBEVEN&source=RB.A12&timestampInNanos=1543810850415000000&signal=DFLAS.7L2.RB.A12.LD1:U_RES\n",
      "Post Mortem returned no data for the following query: http://pm-api-pro/v2/pmdata/signal?system=QPS&className=DQAMGNDRBEVEN&source=RB.A12&timestampInNanos=1543810850415000000&signal=DFLAS.7L2.RB.A12.LD2:U_RES\n"
     ]
    },
    {
     "name": "stdout",
     "output_type": "stream",
     "text": [
      "successfully downloaded: <class 'src.acquisitions.leads.LEADS'>\n",
      "\tQuerying PM event signal(s) IAB.I_A, STATUS.I_EARTH_PCNT, STATUS.I_MEAS, STATUS.I_REF, IEARTH.IEARTH for system: RPTE.UA23.RB.A12, className: 51_self_pmd, source: FGC at 2018-12-03 13:20:42.440\n",
      "successfully downloaded: <class 'src.acquisitions.pc_pm.PC_PM'>\n",
      "\tQuerying PM event timestamps for system: QPS, className: DQAMSNRB, source: RR17.RB.A12, UA23.RB.A12 from 2018-12-03 13:20:32.440 to 2018-12-03 13:37:22.440\n",
      "\tQuerying PM event signal(s) RR17.RB.A12:U_DUMP_RES, UA23.RB.A12:U_DUMP_RES for system: RR17.RB.A12, UA23.RB.A12, className: DQAMSNRB, source: QPS at 2018-12-03 13:20:42.513\n"
     ]
    },
    {
     "name": "stderr",
     "output_type": "stream",
     "text": [
      "Post Mortem returned no data for the following query: http://pm-api-pro/v2/pmdata/signal?system=QPS&className=DQAMSNRB&source=UA23.RB.A12&timestampInNanos=1543839642513000000&signal=UA23.RB.A12:U_DUMP_RES\n"
     ]
    },
    {
     "name": "stdout",
     "output_type": "stream",
     "text": [
      "successfully downloaded: <class 'src.acquisitions.ee_u_dump_res_pm.EE_U_DUMP_RES_PM'>\n",
      "\tQuerying PM event timestamps for system: QPS, className: DQAMSNRB, source: RR17.RB.A12, UA23.RB.A12 from 2018-12-03 13:20:32.440 to 2018-12-03 13:37:22.440\n",
      "\tQuerying PM event signal(s) UA23.RB.A12:T_RES_BODY_2, RR17.RB.A12:T_RES_BODY_2, UA23.RB.A12:T_RES_BODY_1, RR17.RB.A12:T_RES_BODY_1, RR17.RB.A12:T_RES_BODY_3... for system: RR17.RB.A12, UA23.RB.A12..., className: DQAMSNRB..., source: QPS... at 2018-12-03 13:20:42.513\n"
     ]
    },
    {
     "name": "stderr",
     "output_type": "stream",
     "text": [
      "Post Mortem returned no data for the following query: http://pm-api-pro/v2/pmdata/signal?system=QPS&className=DQAMSNRB&source=UA23.RB.A12&timestampInNanos=1543839642513000000&signal=UA23.RB.A12:T_RES_BODY_1\n",
      "Post Mortem returned no data for the following query: http://pm-api-pro/v2/pmdata/signal?system=QPS&className=DQAMSNRB&source=UA23.RB.A12&timestampInNanos=1543839642513000000&signal=UA23.RB.A12:T_RES_BODY_2\n",
      "Post Mortem returned no data for the following query: http://pm-api-pro/v2/pmdata/signal?system=QPS&className=DQAMSNRB&source=UA23.RB.A12&timestampInNanos=1543839642513000000&signal=UA23.RB.A12:T_RES_BODY_3\n"
     ]
    },
    {
     "name": "stdout",
     "output_type": "stream",
     "text": [
      "successfully downloaded: <class 'src.acquisitions.ee_t_res_pm.EE_T_RES_PM'>\n",
      "\tQuerying NXCALS signal(s) MB.A10R1:U_DIODE_RB, MB.A9R1:U_DIODE_RB, MB.B9R1:U_DIODE_RB, MB.A8R1:U_DIODE_RB, MB.B8R1:U_DIODE_RB... from 2018-12-03 13:19:52.440 to 2018-12-03 13:29:02.440\n",
      "\tQuerying NXCALS signal(s) MB.C12R1:U_EARTH_RB, MB.B8R1:U_EARTH_RB, MB.B11R1:U_EARTH_RB, MB.A8R1:U_EARTH_RB, MB.A10R1:U_EARTH_RB... from 2018-12-03 13:19:52.440 to 2018-12-03 13:29:02.440\n",
      "successfully downloaded: <class 'src.acquisitions.voltage_nxcals.VOLTAGE_NXCALS'>\n",
      "\tQuerying PM event timestamps for system: QPS, className: DQAMCNMB_PMSTD, source: * from 2018-12-03 13:19:52.440 to 2018-12-03 13:29:02.440\n"
     ]
    },
    {
     "data": {
      "application/vnd.jupyter.widget-view+json": {
       "model_id": "98fc1be139a04a59a2a1a9e31c179f11",
       "version_major": 2,
       "version_minor": 0
      },
      "text/plain": [
       "Querying iQPS logic PM:   0%|          | 0/7 [00:00<?, ?it/s]"
      ]
     },
     "metadata": {},
     "output_type": "display_data"
    },
    {
     "name": "stdout",
     "output_type": "stream",
     "text": [
      "successfully downloaded: <class 'src.acquisitions.voltage_logic_iqps.VOLTAGE_LOGIC_IQPS'>\n",
      "\tQuerying PM event timestamps for system: QPS, className: DQAMCNMB_PMSTD, source: * from 2018-12-03 13:19:52.440 to 2018-12-03 13:29:02.440\n",
      "\tQuerying PM event timestamps for system: QPS, className: DQAMGNSRB_PMREL, source: * from 2018-12-03 13:20:32.440 to 2018-12-03 13:27:22.440\n"
     ]
    },
    {
     "data": {
      "application/vnd.jupyter.widget-view+json": {
       "model_id": "bcae76f210f349718eae1937dfa1867e",
       "version_major": 2,
       "version_minor": 0
      },
      "text/plain": [
       "Querying PM/NXCALS U_DIODE_RB, U_REF_N1:   0%|          | 0/7 [00:00<?, ?it/s]"
      ]
     },
     "metadata": {},
     "output_type": "display_data"
    },
    {
     "data": {
      "application/vnd.jupyter.widget-view+json": {
       "model_id": "acfc9a43d8714c449c917eb305409c88",
       "version_major": 2,
       "version_minor": 0
      },
      "text/plain": [
       "Querying PM/NXCALS U_DIODE_RB, U_REF_N1:   0%|          | 0/7 [00:00<?, ?it/s]"
      ]
     },
     "metadata": {},
     "output_type": "display_data"
    },
    {
     "name": "stdout",
     "output_type": "stream",
     "text": [
      "successfully downloaded: <class 'src.acquisitions.voltage_logic_nqps.VOLTAGE_LOGIC_NQPS'>\n",
      "\tQuerying PM event timestamps for system: QPS, className: DQAMCNMB_PMHSU, source: * from 2018-12-03 13:20:32.440 to 2018-12-03 13:29:02.440\n"
     ]
    },
    {
     "data": {
      "application/vnd.jupyter.widget-view+json": {
       "model_id": "b7967e7962d2456abbb340aa5627164e",
       "version_major": 2,
       "version_minor": 0
      },
      "text/plain": [
       "Querying PM:   0%|          | 0/7 [00:00<?, ?it/s]"
      ]
     },
     "metadata": {},
     "output_type": "display_data"
    },
    {
     "name": "stdout",
     "output_type": "stream",
     "text": [
      "successfully downloaded: <class 'src.acquisitions.qh_pm.QH_PM'>\n",
      "\tQuerying PM event timestamps for system: QPS, className: DQAMCNMB_PMSTD, source: * from 2018-12-03 13:19:52.440 to 2018-12-03 13:29:02.440\n"
     ]
    },
    {
     "data": {
      "application/vnd.jupyter.widget-view+json": {
       "model_id": "2dde91fd281e430da679232333426a4f",
       "version_major": 2,
       "version_minor": 0
      },
      "text/plain": [
       "Querying U, I Diode PM:   0%|          | 0/7 [00:00<?, ?it/s]"
      ]
     },
     "metadata": {},
     "output_type": "display_data"
    },
    {
     "name": "stdout",
     "output_type": "stream",
     "text": [
      "\tQuerying PM event timestamps for system: QPS, className: DQAMGNSRB_PMREL, source: B19L2 from 2018-12-03 13:10:42.409 to 2018-12-03 13:30:42.409\n",
      "\tQuerying PM event timestamps for system: QPS, className: DQAMGNSRB_PMREL, source: B18L2 from 2018-12-03 13:10:42.627 to 2018-12-03 13:30:42.627\n",
      "\tQuerying PM event timestamps for system: QPS, className: DQAMGNSRB_PMREL, source: B19L2 from 2018-12-03 13:10:42.856 to 2018-12-03 13:30:42.856\n",
      "\tQuerying PM event timestamps for system: QPS, className: DQAMGNSRB_PMREL, source: B18L2 from 2018-12-03 13:10:42.888 to 2018-12-03 13:30:42.888\n",
      "successfully downloaded: <class 'src.acquisitions.current_voltage_diode_leads_pm.CURRENT_VOLTAGE_DIODE_LEADS_PM'>\n",
      "\tQuerying PM event timestamps for system: QPS, className: DQAMCNMB_PMSTD, source: * from 2018-12-03 13:19:52.440 to 2018-12-03 13:26:32.440\n"
     ]
    },
    {
     "data": {
      "application/vnd.jupyter.widget-view+json": {
       "model_id": "e42f1a5784f744fbbb670c260b73e037",
       "version_major": 2,
       "version_minor": 0
      },
      "text/plain": [
       "Querying U, I Diode leads NXCALS:   0%|          | 0/6 [00:00<?, ?it/s]"
      ]
     },
     "metadata": {},
     "output_type": "display_data"
    },
    {
     "name": "stdout",
     "output_type": "stream",
     "text": [
      "successfully downloaded: <class 'src.acquisitions.current_voltage_diode_leads_nxcals.CURRENT_VOLTAGE_DIODE_LEADS_NXCALS'>\n",
      "\tQuerying PM event timestamps for system: QPS, className: DQAMGNDRBODD, DQAMGNDRBEVEN, source: RB.A12 from 2018-12-03 13:20:32.440 to 2018-12-03 13:27:22.440\n",
      "\tQuerying PM event signal(s) DFLAS.7R1.RB.A12.LD3:U_RES, DFLAS.7R1.RB.A12.LD4:U_HTS, DFLAS.7L2.RB.A12.LD1:U_HTS, DFLAS.7R1.RB.A12.LD3:U_HTS, DFLAS.7R1.RB.A12.LD4:U_RES... for system: RB.A12..., className: DQAMGNDRBODD, DQAMGNDRBEVEN..., source: QPS... at 2018-12-03 13:20:43.611\n"
     ]
    },
    {
     "name": "stderr",
     "output_type": "stream",
     "text": [
      "Post Mortem returned no data for the following query: http://pm-api-pro/v2/pmdata/signal?system=QPS&className=DQAMGNDRBEVEN&source=RB.A12&timestampInNanos=1543839643611000000&signal=DFLAS.7L2.RB.A12.LD1:U_HTS\n",
      "Post Mortem returned no data for the following query: http://pm-api-pro/v2/pmdata/signal?system=QPS&className=DQAMGNDRBEVEN&source=RB.A12&timestampInNanos=1543839643611000000&signal=DFLAS.7L2.RB.A12.LD2:U_HTS\n",
      "Post Mortem returned no data for the following query: http://pm-api-pro/v2/pmdata/signal?system=QPS&className=DQAMGNDRBEVEN&source=RB.A12&timestampInNanos=1543839643611000000&signal=DFLAS.7L2.RB.A12.LD1:U_RES\n",
      "Post Mortem returned no data for the following query: http://pm-api-pro/v2/pmdata/signal?system=QPS&className=DQAMGNDRBEVEN&source=RB.A12&timestampInNanos=1543839643611000000&signal=DFLAS.7L2.RB.A12.LD2:U_RES\n"
     ]
    },
    {
     "name": "stdout",
     "output_type": "stream",
     "text": [
      "successfully downloaded: <class 'src.acquisitions.leads.LEADS'>\n",
      "\tQuerying PM event signal(s) IAB.I_A, STATUS.I_EARTH_PCNT, STATUS.I_MEAS, STATUS.I_REF, IEARTH.IEARTH for system: RPTE.UA23.RB.A12, className: 51_self_pmd, source: FGC at 2018-12-06 19:02:39.400\n",
      "successfully downloaded: <class 'src.acquisitions.pc_pm.PC_PM'>\n",
      "\tQuerying PM event timestamps for system: QPS, className: DQAMSNRB, source: RR17.RB.A12, UA23.RB.A12 from 2018-12-06 19:02:29.400 to 2018-12-06 19:19:19.400\n",
      "\tQuerying PM event signal(s) RR17.RB.A12:U_DUMP_RES, UA23.RB.A12:U_DUMP_RES for system: RR17.RB.A12, UA23.RB.A12, className: DQAMSNRB, source: QPS at 2018-12-06 19:02:39.468\n"
     ]
    },
    {
     "name": "stderr",
     "output_type": "stream",
     "text": [
      "Post Mortem returned no data for the following query: http://pm-api-pro/v2/pmdata/signal?system=QPS&className=DQAMSNRB&source=UA23.RB.A12&timestampInNanos=1544119359468000000&signal=UA23.RB.A12:U_DUMP_RES\n"
     ]
    },
    {
     "name": "stdout",
     "output_type": "stream",
     "text": [
      "successfully downloaded: <class 'src.acquisitions.ee_u_dump_res_pm.EE_U_DUMP_RES_PM'>\n",
      "\tQuerying PM event timestamps for system: QPS, className: DQAMSNRB, source: RR17.RB.A12, UA23.RB.A12 from 2018-12-06 19:02:29.400 to 2018-12-06 19:19:19.400\n",
      "\tQuerying PM event signal(s) UA23.RB.A12:T_RES_BODY_2, RR17.RB.A12:T_RES_BODY_2, UA23.RB.A12:T_RES_BODY_1, RR17.RB.A12:T_RES_BODY_1, RR17.RB.A12:T_RES_BODY_3... for system: RR17.RB.A12, UA23.RB.A12..., className: DQAMSNRB..., source: QPS... at 2018-12-06 19:02:39.468\n"
     ]
    },
    {
     "name": "stderr",
     "output_type": "stream",
     "text": [
      "Post Mortem returned no data for the following query: http://pm-api-pro/v2/pmdata/signal?system=QPS&className=DQAMSNRB&source=UA23.RB.A12&timestampInNanos=1544119359468000000&signal=UA23.RB.A12:T_RES_BODY_1\n",
      "Post Mortem returned no data for the following query: http://pm-api-pro/v2/pmdata/signal?system=QPS&className=DQAMSNRB&source=UA23.RB.A12&timestampInNanos=1544119359468000000&signal=UA23.RB.A12:T_RES_BODY_2\n",
      "Post Mortem returned no data for the following query: http://pm-api-pro/v2/pmdata/signal?system=QPS&className=DQAMSNRB&source=UA23.RB.A12&timestampInNanos=1544119359468000000&signal=UA23.RB.A12:T_RES_BODY_3\n"
     ]
    },
    {
     "name": "stdout",
     "output_type": "stream",
     "text": [
      "successfully downloaded: <class 'src.acquisitions.ee_t_res_pm.EE_T_RES_PM'>\n",
      "\tQuerying NXCALS signal(s) MB.A10R1:U_DIODE_RB, MB.A9R1:U_DIODE_RB, MB.B9R1:U_DIODE_RB, MB.A8R1:U_DIODE_RB, MB.B8R1:U_DIODE_RB... from 2018-12-06 19:01:49.400 to 2018-12-06 19:10:59.400\n",
      "\tQuerying NXCALS signal(s) MB.C12R1:U_EARTH_RB, MB.B8R1:U_EARTH_RB, MB.B11R1:U_EARTH_RB, MB.A8R1:U_EARTH_RB, MB.A10R1:U_EARTH_RB... from 2018-12-06 19:01:49.400 to 2018-12-06 19:10:59.400\n",
      "successfully downloaded: <class 'src.acquisitions.voltage_nxcals.VOLTAGE_NXCALS'>\n",
      "\tQuerying PM event timestamps for system: QPS, className: DQAMCNMB_PMSTD, source: * from 2018-12-06 19:01:49.400 to 2018-12-06 19:10:59.400\n"
     ]
    },
    {
     "data": {
      "application/vnd.jupyter.widget-view+json": {
       "model_id": "c139c81c65964e36990ae812e6bc5ad1",
       "version_major": 2,
       "version_minor": 0
      },
      "text/plain": [
       "Querying iQPS logic PM:   0%|          | 0/6 [00:00<?, ?it/s]"
      ]
     },
     "metadata": {},
     "output_type": "display_data"
    },
    {
     "name": "stdout",
     "output_type": "stream",
     "text": [
      "successfully downloaded: <class 'src.acquisitions.voltage_logic_iqps.VOLTAGE_LOGIC_IQPS'>\n",
      "\tQuerying PM event timestamps for system: QPS, className: DQAMCNMB_PMSTD, source: * from 2018-12-06 19:01:49.400 to 2018-12-06 19:10:59.400\n",
      "\tQuerying PM event timestamps for system: QPS, className: DQAMGNSRB_PMREL, source: * from 2018-12-06 19:02:29.400 to 2018-12-06 19:09:19.400\n"
     ]
    },
    {
     "data": {
      "application/vnd.jupyter.widget-view+json": {
       "model_id": "91fd111f745e4ae88f880e21b1712b58",
       "version_major": 2,
       "version_minor": 0
      },
      "text/plain": [
       "Querying PM/NXCALS U_DIODE_RB, U_REF_N1:   0%|          | 0/6 [00:00<?, ?it/s]"
      ]
     },
     "metadata": {},
     "output_type": "display_data"
    },
    {
     "data": {
      "application/vnd.jupyter.widget-view+json": {
       "model_id": "a8cd625e5d7b48829547eebae0bd2206",
       "version_major": 2,
       "version_minor": 0
      },
      "text/plain": [
       "Querying PM/NXCALS U_DIODE_RB, U_REF_N1:   0%|          | 0/6 [00:00<?, ?it/s]"
      ]
     },
     "metadata": {},
     "output_type": "display_data"
    },
    {
     "name": "stdout",
     "output_type": "stream",
     "text": [
      "successfully downloaded: <class 'src.acquisitions.voltage_logic_nqps.VOLTAGE_LOGIC_NQPS'>\n",
      "\tQuerying PM event timestamps for system: QPS, className: DQAMCNMB_PMHSU, source: * from 2018-12-06 19:02:29.400 to 2018-12-06 19:10:59.400\n"
     ]
    },
    {
     "data": {
      "application/vnd.jupyter.widget-view+json": {
       "model_id": "3013e85833e3474e8c7b27b37280c817",
       "version_major": 2,
       "version_minor": 0
      },
      "text/plain": [
       "Querying PM:   0%|          | 0/6 [00:00<?, ?it/s]"
      ]
     },
     "metadata": {},
     "output_type": "display_data"
    },
    {
     "name": "stdout",
     "output_type": "stream",
     "text": [
      "successfully downloaded: <class 'src.acquisitions.qh_pm.QH_PM'>\n",
      "\tQuerying PM event timestamps for system: QPS, className: DQAMCNMB_PMSTD, source: * from 2018-12-06 19:01:49.400 to 2018-12-06 19:10:59.400\n"
     ]
    },
    {
     "data": {
      "application/vnd.jupyter.widget-view+json": {
       "model_id": "b7ce5f39dcf44719b5816626c34e21d2",
       "version_major": 2,
       "version_minor": 0
      },
      "text/plain": [
       "Querying U, I Diode PM:   0%|          | 0/6 [00:00<?, ?it/s]"
      ]
     },
     "metadata": {},
     "output_type": "display_data"
    },
    {
     "name": "stdout",
     "output_type": "stream",
     "text": [
      "\tQuerying PM event timestamps for system: QPS, className: DQAMGNSRB_PMREL, source: B11L2 from 2018-12-06 18:52:39.366 to 2018-12-06 19:12:39.366\n",
      "\tQuerying PM event timestamps for system: QPS, className: DQAMGNSRB_PMREL, source: B10L2 from 2018-12-06 18:52:39.603 to 2018-12-06 19:12:39.603\n",
      "successfully downloaded: <class 'src.acquisitions.current_voltage_diode_leads_pm.CURRENT_VOLTAGE_DIODE_LEADS_PM'>\n",
      "\tQuerying PM event timestamps for system: QPS, className: DQAMCNMB_PMSTD, source: * from 2018-12-06 19:01:49.400 to 2018-12-06 19:08:29.400\n"
     ]
    },
    {
     "data": {
      "application/vnd.jupyter.widget-view+json": {
       "model_id": "bd5376b8f4f8407a9b85c36c65b027d2",
       "version_major": 2,
       "version_minor": 0
      },
      "text/plain": [
       "Querying U, I Diode leads NXCALS:   0%|          | 0/4 [00:00<?, ?it/s]"
      ]
     },
     "metadata": {},
     "output_type": "display_data"
    },
    {
     "name": "stdout",
     "output_type": "stream",
     "text": [
      "successfully downloaded: <class 'src.acquisitions.current_voltage_diode_leads_nxcals.CURRENT_VOLTAGE_DIODE_LEADS_NXCALS'>\n",
      "\tQuerying PM event timestamps for system: QPS, className: DQAMGNDRBODD, DQAMGNDRBEVEN, source: RB.A12 from 2018-12-06 19:02:29.400 to 2018-12-06 19:09:19.400\n",
      "\tQuerying PM event signal(s) DFLAS.7R1.RB.A12.LD3:U_RES, DFLAS.7R1.RB.A12.LD4:U_HTS, DFLAS.7L2.RB.A12.LD1:U_HTS, DFLAS.7R1.RB.A12.LD3:U_HTS, DFLAS.7R1.RB.A12.LD4:U_RES... for system: RB.A12..., className: DQAMGNDRBODD, DQAMGNDRBEVEN..., source: QPS... at 2018-12-06 19:02:40.212\n"
     ]
    },
    {
     "name": "stderr",
     "output_type": "stream",
     "text": [
      "Post Mortem returned no data for the following query: http://pm-api-pro/v2/pmdata/signal?system=QPS&className=DQAMGNDRBEVEN&source=RB.A12&timestampInNanos=1544119360212000000&signal=DFLAS.7L2.RB.A12.LD1:U_HTS\n",
      "Post Mortem returned no data for the following query: http://pm-api-pro/v2/pmdata/signal?system=QPS&className=DQAMGNDRBEVEN&source=RB.A12&timestampInNanos=1544119360212000000&signal=DFLAS.7L2.RB.A12.LD2:U_HTS\n",
      "Post Mortem returned no data for the following query: http://pm-api-pro/v2/pmdata/signal?system=QPS&className=DQAMGNDRBEVEN&source=RB.A12&timestampInNanos=1544119360212000000&signal=DFLAS.7L2.RB.A12.LD1:U_RES\n",
      "Post Mortem returned no data for the following query: http://pm-api-pro/v2/pmdata/signal?system=QPS&className=DQAMGNDRBEVEN&source=RB.A12&timestampInNanos=1544119360212000000&signal=DFLAS.7L2.RB.A12.LD2:U_RES\n"
     ]
    },
    {
     "name": "stdout",
     "output_type": "stream",
     "text": [
      "successfully downloaded: <class 'src.acquisitions.leads.LEADS'>\n",
      "\tQuerying PM event signal(s) IAB.I_A, STATUS.I_EARTH_PCNT, STATUS.I_MEAS, STATUS.I_REF, IEARTH.IEARTH for system: RPTE.UA23.RB.A12, className: 51_self_pmd, source: FGC at 2018-12-07 04:26:21.300\n",
      "successfully downloaded: <class 'src.acquisitions.pc_pm.PC_PM'>\n",
      "\tQuerying PM event timestamps for system: QPS, className: DQAMSNRB, source: RR17.RB.A12, UA23.RB.A12 from 2018-12-07 04:26:11.300 to 2018-12-07 04:43:01.300\n",
      "\tQuerying PM event signal(s) RR17.RB.A12:U_DUMP_RES, UA23.RB.A12:U_DUMP_RES for system: RR17.RB.A12, UA23.RB.A12, className: DQAMSNRB, source: QPS at 2018-12-07 04:26:21.371\n"
     ]
    },
    {
     "name": "stderr",
     "output_type": "stream",
     "text": [
      "Post Mortem returned no data for the following query: http://pm-api-pro/v2/pmdata/signal?system=QPS&className=DQAMSNRB&source=UA23.RB.A12&timestampInNanos=1544153181371000000&signal=UA23.RB.A12:U_DUMP_RES\n"
     ]
    },
    {
     "name": "stdout",
     "output_type": "stream",
     "text": [
      "successfully downloaded: <class 'src.acquisitions.ee_u_dump_res_pm.EE_U_DUMP_RES_PM'>\n",
      "\tQuerying PM event timestamps for system: QPS, className: DQAMSNRB, source: RR17.RB.A12, UA23.RB.A12 from 2018-12-07 04:26:11.300 to 2018-12-07 04:43:01.300\n",
      "\tQuerying PM event signal(s) UA23.RB.A12:T_RES_BODY_2, RR17.RB.A12:T_RES_BODY_2, UA23.RB.A12:T_RES_BODY_1, RR17.RB.A12:T_RES_BODY_1, RR17.RB.A12:T_RES_BODY_3... for system: RR17.RB.A12, UA23.RB.A12..., className: DQAMSNRB..., source: QPS... at 2018-12-07 04:26:21.371\n"
     ]
    },
    {
     "name": "stderr",
     "output_type": "stream",
     "text": [
      "Post Mortem returned no data for the following query: http://pm-api-pro/v2/pmdata/signal?system=QPS&className=DQAMSNRB&source=UA23.RB.A12&timestampInNanos=1544153181371000000&signal=UA23.RB.A12:T_RES_BODY_1\n",
      "Post Mortem returned no data for the following query: http://pm-api-pro/v2/pmdata/signal?system=QPS&className=DQAMSNRB&source=UA23.RB.A12&timestampInNanos=1544153181371000000&signal=UA23.RB.A12:T_RES_BODY_2\n",
      "Post Mortem returned no data for the following query: http://pm-api-pro/v2/pmdata/signal?system=QPS&className=DQAMSNRB&source=UA23.RB.A12&timestampInNanos=1544153181371000000&signal=UA23.RB.A12:T_RES_BODY_3\n"
     ]
    },
    {
     "name": "stdout",
     "output_type": "stream",
     "text": [
      "successfully downloaded: <class 'src.acquisitions.ee_t_res_pm.EE_T_RES_PM'>\n",
      "\tQuerying NXCALS signal(s) MB.A10R1:U_DIODE_RB, MB.A9R1:U_DIODE_RB, MB.B9R1:U_DIODE_RB, MB.A8R1:U_DIODE_RB, MB.B8R1:U_DIODE_RB... from 2018-12-07 04:25:31.300 to 2018-12-07 04:34:41.300\n",
      "\tQuerying NXCALS signal(s) MB.C12R1:U_EARTH_RB, MB.B8R1:U_EARTH_RB, MB.B11R1:U_EARTH_RB, MB.A8R1:U_EARTH_RB, MB.A10R1:U_EARTH_RB... from 2018-12-07 04:25:31.300 to 2018-12-07 04:34:41.300\n",
      "successfully downloaded: <class 'src.acquisitions.voltage_nxcals.VOLTAGE_NXCALS'>\n",
      "\tQuerying PM event timestamps for system: QPS, className: DQAMCNMB_PMSTD, source: * from 2018-12-07 04:25:31.300 to 2018-12-07 04:34:41.300\n"
     ]
    },
    {
     "data": {
      "application/vnd.jupyter.widget-view+json": {
       "model_id": "f939f7967785490a9ddc7ca461517108",
       "version_major": 2,
       "version_minor": 0
      },
      "text/plain": [
       "Querying iQPS logic PM:   0%|          | 0/7 [00:00<?, ?it/s]"
      ]
     },
     "metadata": {},
     "output_type": "display_data"
    },
    {
     "name": "stdout",
     "output_type": "stream",
     "text": [
      "successfully downloaded: <class 'src.acquisitions.voltage_logic_iqps.VOLTAGE_LOGIC_IQPS'>\n",
      "\tQuerying PM event timestamps for system: QPS, className: DQAMCNMB_PMSTD, source: * from 2018-12-07 04:25:31.300 to 2018-12-07 04:34:41.300\n",
      "\tQuerying PM event timestamps for system: QPS, className: DQAMGNSRB_PMREL, source: * from 2018-12-07 04:26:11.300 to 2018-12-07 04:33:01.300\n"
     ]
    },
    {
     "data": {
      "application/vnd.jupyter.widget-view+json": {
       "model_id": "25dd000009e04d68bb692618283c8e62",
       "version_major": 2,
       "version_minor": 0
      },
      "text/plain": [
       "Querying PM/NXCALS U_DIODE_RB, U_REF_N1:   0%|          | 0/7 [00:00<?, ?it/s]"
      ]
     },
     "metadata": {},
     "output_type": "display_data"
    },
    {
     "data": {
      "application/vnd.jupyter.widget-view+json": {
       "model_id": "8b91b77c76154304aa9996cae287577b",
       "version_major": 2,
       "version_minor": 0
      },
      "text/plain": [
       "Querying PM/NXCALS U_DIODE_RB, U_REF_N1:   0%|          | 0/7 [00:00<?, ?it/s]"
      ]
     },
     "metadata": {},
     "output_type": "display_data"
    },
    {
     "name": "stdout",
     "output_type": "stream",
     "text": [
      "successfully downloaded: <class 'src.acquisitions.voltage_logic_nqps.VOLTAGE_LOGIC_NQPS'>\n",
      "\tQuerying PM event timestamps for system: QPS, className: DQAMCNMB_PMHSU, source: * from 2018-12-07 04:26:11.300 to 2018-12-07 04:34:41.300\n"
     ]
    },
    {
     "data": {
      "application/vnd.jupyter.widget-view+json": {
       "model_id": "5972b1952ebc44b9b95bcde5ce028fae",
       "version_major": 2,
       "version_minor": 0
      },
      "text/plain": [
       "Querying PM:   0%|          | 0/7 [00:00<?, ?it/s]"
      ]
     },
     "metadata": {},
     "output_type": "display_data"
    },
    {
     "name": "stdout",
     "output_type": "stream",
     "text": [
      "successfully downloaded: <class 'src.acquisitions.qh_pm.QH_PM'>\n",
      "\tQuerying PM event timestamps for system: QPS, className: DQAMCNMB_PMSTD, source: * from 2018-12-07 04:25:31.300 to 2018-12-07 04:34:41.300\n"
     ]
    },
    {
     "data": {
      "application/vnd.jupyter.widget-view+json": {
       "model_id": "e8c3371d2b104ca8a8a992b2cd3f4bae",
       "version_major": 2,
       "version_minor": 0
      },
      "text/plain": [
       "Querying U, I Diode PM:   0%|          | 0/7 [00:00<?, ?it/s]"
      ]
     },
     "metadata": {},
     "output_type": "display_data"
    },
    {
     "name": "stdout",
     "output_type": "stream",
     "text": [
      "\tQuerying PM event timestamps for system: QPS, className: DQAMGNSRB_PMREL, source: B8R1 from 2018-12-07 04:16:21.266 to 2018-12-07 04:36:21.266\n",
      "\tQuerying PM event timestamps for system: QPS, className: DQAMGNSRB_PMREL, source: B21L2 from 2018-12-07 04:16:21.600 to 2018-12-07 04:36:21.600\n",
      "successfully downloaded: <class 'src.acquisitions.current_voltage_diode_leads_pm.CURRENT_VOLTAGE_DIODE_LEADS_PM'>\n",
      "\tQuerying PM event timestamps for system: QPS, className: DQAMCNMB_PMSTD, source: * from 2018-12-07 04:25:31.300 to 2018-12-07 04:32:11.300\n"
     ]
    },
    {
     "data": {
      "application/vnd.jupyter.widget-view+json": {
       "model_id": "9c3b4b4585eb40569fc8bde96e1986a9",
       "version_major": 2,
       "version_minor": 0
      },
      "text/plain": [
       "Querying U, I Diode leads NXCALS:   0%|          | 0/7 [00:00<?, ?it/s]"
      ]
     },
     "metadata": {},
     "output_type": "display_data"
    },
    {
     "name": "stdout",
     "output_type": "stream",
     "text": [
      "successfully downloaded: <class 'src.acquisitions.current_voltage_diode_leads_nxcals.CURRENT_VOLTAGE_DIODE_LEADS_NXCALS'>\n",
      "\tQuerying PM event timestamps for system: QPS, className: DQAMGNDRBODD, DQAMGNDRBEVEN, source: RB.A12 from 2018-12-07 04:26:11.300 to 2018-12-07 04:33:01.300\n",
      "\tQuerying PM event signal(s) DFLAS.7R1.RB.A12.LD3:U_RES, DFLAS.7R1.RB.A12.LD4:U_HTS, DFLAS.7L2.RB.A12.LD1:U_HTS, DFLAS.7R1.RB.A12.LD3:U_HTS, DFLAS.7R1.RB.A12.LD4:U_RES... for system: RB.A12..., className: DQAMGNDRBODD, DQAMGNDRBEVEN..., source: QPS... at 2018-12-07 04:26:22.207\n"
     ]
    },
    {
     "name": "stderr",
     "output_type": "stream",
     "text": [
      "Post Mortem returned no data for the following query: http://pm-api-pro/v2/pmdata/signal?system=QPS&className=DQAMGNDRBEVEN&source=RB.A12&timestampInNanos=1544153182207000000&signal=DFLAS.7L2.RB.A12.LD1:U_HTS\n",
      "Post Mortem returned no data for the following query: http://pm-api-pro/v2/pmdata/signal?system=QPS&className=DQAMGNDRBEVEN&source=RB.A12&timestampInNanos=1544153182207000000&signal=DFLAS.7L2.RB.A12.LD2:U_HTS\n",
      "Post Mortem returned no data for the following query: http://pm-api-pro/v2/pmdata/signal?system=QPS&className=DQAMGNDRBEVEN&source=RB.A12&timestampInNanos=1544153182207000000&signal=DFLAS.7L2.RB.A12.LD1:U_RES\n",
      "Post Mortem returned no data for the following query: http://pm-api-pro/v2/pmdata/signal?system=QPS&className=DQAMGNDRBEVEN&source=RB.A12&timestampInNanos=1544153182207000000&signal=DFLAS.7L2.RB.A12.LD2:U_RES\n"
     ]
    },
    {
     "name": "stdout",
     "output_type": "stream",
     "text": [
      "successfully downloaded: <class 'src.acquisitions.leads.LEADS'>\n",
      "\tQuerying PM event signal(s) IAB.I_A, STATUS.I_EARTH_PCNT, STATUS.I_MEAS, STATUS.I_REF, IEARTH.IEARTH for system: RPTE.UA23.RB.A12, className: 51_self_pmd, source: FGC at 2018-12-07 15:46:09.420\n",
      "successfully downloaded: <class 'src.acquisitions.pc_pm.PC_PM'>\n",
      "\tQuerying PM event timestamps for system: QPS, className: DQAMSNRB, source: RR17.RB.A12, UA23.RB.A12 from 2018-12-07 15:45:59.420 to 2018-12-07 16:02:49.420\n",
      "\tQuerying PM event signal(s) RR17.RB.A12:U_DUMP_RES, UA23.RB.A12:U_DUMP_RES for system: RR17.RB.A12, UA23.RB.A12, className: DQAMSNRB, source: QPS at 2018-12-07 15:46:09.484\n"
     ]
    },
    {
     "name": "stderr",
     "output_type": "stream",
     "text": [
      "Post Mortem returned no data for the following query: http://pm-api-pro/v2/pmdata/signal?system=QPS&className=DQAMSNRB&source=UA23.RB.A12&timestampInNanos=1544193969484000000&signal=UA23.RB.A12:U_DUMP_RES\n"
     ]
    },
    {
     "name": "stdout",
     "output_type": "stream",
     "text": [
      "successfully downloaded: <class 'src.acquisitions.ee_u_dump_res_pm.EE_U_DUMP_RES_PM'>\n",
      "\tQuerying PM event timestamps for system: QPS, className: DQAMSNRB, source: RR17.RB.A12, UA23.RB.A12 from 2018-12-07 15:45:59.420 to 2018-12-07 16:02:49.420\n",
      "\tQuerying PM event signal(s) UA23.RB.A12:T_RES_BODY_2, RR17.RB.A12:T_RES_BODY_2, UA23.RB.A12:T_RES_BODY_1, RR17.RB.A12:T_RES_BODY_1, RR17.RB.A12:T_RES_BODY_3... for system: RR17.RB.A12, UA23.RB.A12..., className: DQAMSNRB..., source: QPS... at 2018-12-07 15:46:09.484\n"
     ]
    },
    {
     "name": "stderr",
     "output_type": "stream",
     "text": [
      "Post Mortem returned no data for the following query: http://pm-api-pro/v2/pmdata/signal?system=QPS&className=DQAMSNRB&source=UA23.RB.A12&timestampInNanos=1544193969484000000&signal=UA23.RB.A12:T_RES_BODY_1\n",
      "Post Mortem returned no data for the following query: http://pm-api-pro/v2/pmdata/signal?system=QPS&className=DQAMSNRB&source=UA23.RB.A12&timestampInNanos=1544193969484000000&signal=UA23.RB.A12:T_RES_BODY_2\n",
      "Post Mortem returned no data for the following query: http://pm-api-pro/v2/pmdata/signal?system=QPS&className=DQAMSNRB&source=UA23.RB.A12&timestampInNanos=1544193969484000000&signal=UA23.RB.A12:T_RES_BODY_3\n"
     ]
    },
    {
     "name": "stdout",
     "output_type": "stream",
     "text": [
      "successfully downloaded: <class 'src.acquisitions.ee_t_res_pm.EE_T_RES_PM'>\n",
      "\tQuerying NXCALS signal(s) MB.A10R1:U_DIODE_RB, MB.A9R1:U_DIODE_RB, MB.B9R1:U_DIODE_RB, MB.A8R1:U_DIODE_RB, MB.B8R1:U_DIODE_RB... from 2018-12-07 15:45:19.420 to 2018-12-07 15:54:29.420\n",
      "\tQuerying NXCALS signal(s) MB.C12R1:U_EARTH_RB, MB.B8R1:U_EARTH_RB, MB.B11R1:U_EARTH_RB, MB.A8R1:U_EARTH_RB, MB.A10R1:U_EARTH_RB... from 2018-12-07 15:45:19.420 to 2018-12-07 15:54:29.420\n",
      "successfully downloaded: <class 'src.acquisitions.voltage_nxcals.VOLTAGE_NXCALS'>\n",
      "\tQuerying PM event timestamps for system: QPS, className: DQAMCNMB_PMSTD, source: * from 2018-12-07 15:45:19.420 to 2018-12-07 15:54:29.420\n"
     ]
    },
    {
     "data": {
      "application/vnd.jupyter.widget-view+json": {
       "model_id": "d87107865d5a441592a29fc804ecfe25",
       "version_major": 2,
       "version_minor": 0
      },
      "text/plain": [
       "Querying iQPS logic PM:   0%|          | 0/5 [00:00<?, ?it/s]"
      ]
     },
     "metadata": {},
     "output_type": "display_data"
    },
    {
     "name": "stdout",
     "output_type": "stream",
     "text": [
      "successfully downloaded: <class 'src.acquisitions.voltage_logic_iqps.VOLTAGE_LOGIC_IQPS'>\n",
      "\tQuerying PM event timestamps for system: QPS, className: DQAMCNMB_PMSTD, source: * from 2018-12-07 15:45:19.420 to 2018-12-07 15:54:29.420\n",
      "\tQuerying PM event timestamps for system: QPS, className: DQAMGNSRB_PMREL, source: * from 2018-12-07 15:45:59.420 to 2018-12-07 15:52:49.420\n"
     ]
    },
    {
     "data": {
      "application/vnd.jupyter.widget-view+json": {
       "model_id": "05e653a6f5124f6495ae3c2ab015aa1e",
       "version_major": 2,
       "version_minor": 0
      },
      "text/plain": [
       "Querying PM/NXCALS U_DIODE_RB, U_REF_N1:   0%|          | 0/5 [00:00<?, ?it/s]"
      ]
     },
     "metadata": {},
     "output_type": "display_data"
    },
    {
     "data": {
      "application/vnd.jupyter.widget-view+json": {
       "model_id": "3aef6f2e5d004488a8e49b7ba234a78d",
       "version_major": 2,
       "version_minor": 0
      },
      "text/plain": [
       "Querying PM/NXCALS U_DIODE_RB, U_REF_N1:   0%|          | 0/5 [00:00<?, ?it/s]"
      ]
     },
     "metadata": {},
     "output_type": "display_data"
    },
    {
     "name": "stdout",
     "output_type": "stream",
     "text": [
      "successfully downloaded: <class 'src.acquisitions.voltage_logic_nqps.VOLTAGE_LOGIC_NQPS'>\n",
      "\tQuerying PM event timestamps for system: QPS, className: DQAMCNMB_PMHSU, source: * from 2018-12-07 15:45:59.420 to 2018-12-07 15:54:29.420\n"
     ]
    },
    {
     "data": {
      "application/vnd.jupyter.widget-view+json": {
       "model_id": "9393be665b0c4b8481bafda604c6908f",
       "version_major": 2,
       "version_minor": 0
      },
      "text/plain": [
       "Querying PM:   0%|          | 0/5 [00:00<?, ?it/s]"
      ]
     },
     "metadata": {},
     "output_type": "display_data"
    },
    {
     "name": "stdout",
     "output_type": "stream",
     "text": [
      "successfully downloaded: <class 'src.acquisitions.qh_pm.QH_PM'>\n",
      "\tQuerying PM event timestamps for system: QPS, className: DQAMCNMB_PMSTD, source: * from 2018-12-07 15:45:19.420 to 2018-12-07 15:54:29.420\n"
     ]
    },
    {
     "data": {
      "application/vnd.jupyter.widget-view+json": {
       "model_id": "2290b7e029af40a8806be685e1bb88e3",
       "version_major": 2,
       "version_minor": 0
      },
      "text/plain": [
       "Querying U, I Diode PM:   0%|          | 0/5 [00:00<?, ?it/s]"
      ]
     },
     "metadata": {},
     "output_type": "display_data"
    },
    {
     "name": "stdout",
     "output_type": "stream",
     "text": [
      "\tQuerying PM event timestamps for system: QPS, className: DQAMGNSRB_PMREL, source: B15L2 from 2018-12-07 15:36:09.382 to 2018-12-07 15:56:09.382\n",
      "successfully downloaded: <class 'src.acquisitions.current_voltage_diode_leads_pm.CURRENT_VOLTAGE_DIODE_LEADS_PM'>\n",
      "\tQuerying PM event timestamps for system: QPS, className: DQAMCNMB_PMSTD, source: * from 2018-12-07 15:45:19.420 to 2018-12-07 15:51:59.420\n"
     ]
    },
    {
     "data": {
      "application/vnd.jupyter.widget-view+json": {
       "model_id": "d01d9dfa22af4d5c833ff29710e22133",
       "version_major": 2,
       "version_minor": 0
      },
      "text/plain": [
       "Querying U, I Diode leads NXCALS:   0%|          | 0/5 [00:00<?, ?it/s]"
      ]
     },
     "metadata": {},
     "output_type": "display_data"
    },
    {
     "name": "stdout",
     "output_type": "stream",
     "text": [
      "successfully downloaded: <class 'src.acquisitions.current_voltage_diode_leads_nxcals.CURRENT_VOLTAGE_DIODE_LEADS_NXCALS'>\n",
      "\tQuerying PM event timestamps for system: QPS, className: DQAMGNDRBODD, DQAMGNDRBEVEN, source: RB.A12 from 2018-12-07 15:45:59.420 to 2018-12-07 15:52:49.420\n",
      "\tQuerying PM event signal(s) DFLAS.7R1.RB.A12.LD3:U_RES, DFLAS.7R1.RB.A12.LD4:U_HTS, DFLAS.7L2.RB.A12.LD1:U_HTS, DFLAS.7R1.RB.A12.LD3:U_HTS, DFLAS.7R1.RB.A12.LD4:U_RES... for system: RB.A12..., className: DQAMGNDRBODD, DQAMGNDRBEVEN..., source: QPS... at 2018-12-07 15:46:10.012\n"
     ]
    },
    {
     "name": "stderr",
     "output_type": "stream",
     "text": [
      "Post Mortem returned no data for the following query: http://pm-api-pro/v2/pmdata/signal?system=QPS&className=DQAMGNDRBEVEN&source=RB.A12&timestampInNanos=1544193970012000000&signal=DFLAS.7L2.RB.A12.LD1:U_HTS\n",
      "Post Mortem returned no data for the following query: http://pm-api-pro/v2/pmdata/signal?system=QPS&className=DQAMGNDRBEVEN&source=RB.A12&timestampInNanos=1544193970012000000&signal=DFLAS.7L2.RB.A12.LD2:U_HTS\n",
      "Post Mortem returned no data for the following query: http://pm-api-pro/v2/pmdata/signal?system=QPS&className=DQAMGNDRBEVEN&source=RB.A12&timestampInNanos=1544193970012000000&signal=DFLAS.7L2.RB.A12.LD1:U_RES\n",
      "Post Mortem returned no data for the following query: http://pm-api-pro/v2/pmdata/signal?system=QPS&className=DQAMGNDRBEVEN&source=RB.A12&timestampInNanos=1544193970012000000&signal=DFLAS.7L2.RB.A12.LD2:U_RES\n"
     ]
    },
    {
     "name": "stdout",
     "output_type": "stream",
     "text": [
      "successfully downloaded: <class 'src.acquisitions.leads.LEADS'>\n",
      "\tQuerying PM event signal(s) IAB.I_A, STATUS.I_EARTH_PCNT, STATUS.I_MEAS, STATUS.I_REF, IEARTH.IEARTH for system: RPTE.UA23.RB.A12, className: 51_self_pmd, source: FGC at 2018-12-08 03:14:53.300\n",
      "successfully downloaded: <class 'src.acquisitions.pc_pm.PC_PM'>\n",
      "\tQuerying PM event timestamps for system: QPS, className: DQAMSNRB, source: RR17.RB.A12, UA23.RB.A12 from 2018-12-08 03:14:43.300 to 2018-12-08 03:31:33.300\n",
      "\tQuerying PM event signal(s) RR17.RB.A12:U_DUMP_RES, UA23.RB.A12:U_DUMP_RES for system: RR17.RB.A12, UA23.RB.A12, className: DQAMSNRB, source: QPS at 2018-12-08 03:14:53.358\n"
     ]
    },
    {
     "name": "stderr",
     "output_type": "stream",
     "text": [
      "Post Mortem returned no data for the following query: http://pm-api-pro/v2/pmdata/signal?system=QPS&className=DQAMSNRB&source=UA23.RB.A12&timestampInNanos=1544235293358000000&signal=UA23.RB.A12:U_DUMP_RES\n"
     ]
    },
    {
     "name": "stdout",
     "output_type": "stream",
     "text": [
      "successfully downloaded: <class 'src.acquisitions.ee_u_dump_res_pm.EE_U_DUMP_RES_PM'>\n",
      "\tQuerying PM event timestamps for system: QPS, className: DQAMSNRB, source: RR17.RB.A12, UA23.RB.A12 from 2018-12-08 03:14:43.300 to 2018-12-08 03:31:33.300\n",
      "\tQuerying PM event signal(s) UA23.RB.A12:T_RES_BODY_2, RR17.RB.A12:T_RES_BODY_2, UA23.RB.A12:T_RES_BODY_1, RR17.RB.A12:T_RES_BODY_1, RR17.RB.A12:T_RES_BODY_3... for system: RR17.RB.A12, UA23.RB.A12..., className: DQAMSNRB..., source: QPS... at 2018-12-08 03:14:53.358\n"
     ]
    },
    {
     "name": "stderr",
     "output_type": "stream",
     "text": [
      "Post Mortem returned no data for the following query: http://pm-api-pro/v2/pmdata/signal?system=QPS&className=DQAMSNRB&source=UA23.RB.A12&timestampInNanos=1544235293358000000&signal=UA23.RB.A12:T_RES_BODY_1\n",
      "Post Mortem returned no data for the following query: http://pm-api-pro/v2/pmdata/signal?system=QPS&className=DQAMSNRB&source=UA23.RB.A12&timestampInNanos=1544235293358000000&signal=UA23.RB.A12:T_RES_BODY_2\n",
      "Post Mortem returned no data for the following query: http://pm-api-pro/v2/pmdata/signal?system=QPS&className=DQAMSNRB&source=UA23.RB.A12&timestampInNanos=1544235293358000000&signal=UA23.RB.A12:T_RES_BODY_3\n"
     ]
    },
    {
     "name": "stdout",
     "output_type": "stream",
     "text": [
      "successfully downloaded: <class 'src.acquisitions.ee_t_res_pm.EE_T_RES_PM'>\n",
      "\tQuerying NXCALS signal(s) MB.A10R1:U_DIODE_RB, MB.A9R1:U_DIODE_RB, MB.B9R1:U_DIODE_RB, MB.A8R1:U_DIODE_RB, MB.B8R1:U_DIODE_RB... from 2018-12-08 03:14:03.300 to 2018-12-08 03:23:13.300\n",
      "\tQuerying NXCALS signal(s) MB.C12R1:U_EARTH_RB, MB.B8R1:U_EARTH_RB, MB.B11R1:U_EARTH_RB, MB.A8R1:U_EARTH_RB, MB.A10R1:U_EARTH_RB... from 2018-12-08 03:14:03.300 to 2018-12-08 03:23:13.300\n",
      "successfully downloaded: <class 'src.acquisitions.voltage_nxcals.VOLTAGE_NXCALS'>\n",
      "\tQuerying PM event timestamps for system: QPS, className: DQAMCNMB_PMSTD, source: * from 2018-12-08 03:14:03.300 to 2018-12-08 03:23:13.300\n"
     ]
    },
    {
     "data": {
      "application/vnd.jupyter.widget-view+json": {
       "model_id": "59e24d0b992542dea7f91e09f799ae55",
       "version_major": 2,
       "version_minor": 0
      },
      "text/plain": [
       "Querying iQPS logic PM:   0%|          | 0/10 [00:00<?, ?it/s]"
      ]
     },
     "metadata": {},
     "output_type": "display_data"
    },
    {
     "name": "stdout",
     "output_type": "stream",
     "text": [
      "successfully downloaded: <class 'src.acquisitions.voltage_logic_iqps.VOLTAGE_LOGIC_IQPS'>\n",
      "\tQuerying PM event timestamps for system: QPS, className: DQAMCNMB_PMSTD, source: * from 2018-12-08 03:14:03.300 to 2018-12-08 03:23:13.300\n",
      "\tQuerying PM event timestamps for system: QPS, className: DQAMGNSRB_PMREL, source: * from 2018-12-08 03:14:43.300 to 2018-12-08 03:21:33.300\n"
     ]
    },
    {
     "data": {
      "application/vnd.jupyter.widget-view+json": {
       "model_id": "37e9651c0ac04b35929cd09ce197fd22",
       "version_major": 2,
       "version_minor": 0
      },
      "text/plain": [
       "Querying PM/NXCALS U_DIODE_RB, U_REF_N1:   0%|          | 0/10 [00:00<?, ?it/s]"
      ]
     },
     "metadata": {},
     "output_type": "display_data"
    },
    {
     "data": {
      "application/vnd.jupyter.widget-view+json": {
       "model_id": "0957d563c58846228e42e648e95fa73d",
       "version_major": 2,
       "version_minor": 0
      },
      "text/plain": [
       "Querying PM/NXCALS U_DIODE_RB, U_REF_N1:   0%|          | 0/10 [00:00<?, ?it/s]"
      ]
     },
     "metadata": {},
     "output_type": "display_data"
    },
    {
     "name": "stdout",
     "output_type": "stream",
     "text": [
      "successfully downloaded: <class 'src.acquisitions.voltage_logic_nqps.VOLTAGE_LOGIC_NQPS'>\n",
      "\tQuerying PM event timestamps for system: QPS, className: DQAMCNMB_PMHSU, source: * from 2018-12-08 03:14:43.300 to 2018-12-08 03:23:13.300\n"
     ]
    },
    {
     "data": {
      "application/vnd.jupyter.widget-view+json": {
       "model_id": "1a91296318b8428e81dc01d17a77591b",
       "version_major": 2,
       "version_minor": 0
      },
      "text/plain": [
       "Querying PM:   0%|          | 0/10 [00:00<?, ?it/s]"
      ]
     },
     "metadata": {},
     "output_type": "display_data"
    },
    {
     "name": "stdout",
     "output_type": "stream",
     "text": [
      "successfully downloaded: <class 'src.acquisitions.qh_pm.QH_PM'>\n",
      "\tQuerying PM event timestamps for system: QPS, className: DQAMCNMB_PMSTD, source: * from 2018-12-08 03:14:03.300 to 2018-12-08 03:23:13.300\n"
     ]
    },
    {
     "data": {
      "application/vnd.jupyter.widget-view+json": {
       "model_id": "d206e5fa7de245e9b7f315aa865eb27b",
       "version_major": 2,
       "version_minor": 0
      },
      "text/plain": [
       "Querying U, I Diode PM:   0%|          | 0/10 [00:00<?, ?it/s]"
      ]
     },
     "metadata": {},
     "output_type": "display_data"
    },
    {
     "name": "stdout",
     "output_type": "stream",
     "text": [
      "\tQuerying PM event timestamps for system: QPS, className: DQAMGNSRB_PMREL, source: B32R1 from 2018-12-08 03:04:53.254 to 2018-12-08 03:24:53.254\n",
      "\tQuerying PM event timestamps for system: QPS, className: DQAMGNSRB_PMREL, source: B21R1 from 2018-12-08 03:04:53.278 to 2018-12-08 03:24:53.278\n",
      "\tQuerying PM event timestamps for system: QPS, className: DQAMGNSRB_PMREL, source: B33R1 from 2018-12-08 03:04:53.504 to 2018-12-08 03:24:53.504\n",
      "successfully downloaded: <class 'src.acquisitions.current_voltage_diode_leads_pm.CURRENT_VOLTAGE_DIODE_LEADS_PM'>\n",
      "\tQuerying PM event timestamps for system: QPS, className: DQAMCNMB_PMSTD, source: * from 2018-12-08 03:14:03.300 to 2018-12-08 03:20:43.300\n"
     ]
    },
    {
     "data": {
      "application/vnd.jupyter.widget-view+json": {
       "model_id": "bc34a92426fc41c0a3161ecbffc9fc81",
       "version_major": 2,
       "version_minor": 0
      },
      "text/plain": [
       "Querying U, I Diode leads NXCALS:   0%|          | 0/10 [00:00<?, ?it/s]"
      ]
     },
     "metadata": {},
     "output_type": "display_data"
    },
    {
     "name": "stdout",
     "output_type": "stream",
     "text": [
      "successfully downloaded: <class 'src.acquisitions.current_voltage_diode_leads_nxcals.CURRENT_VOLTAGE_DIODE_LEADS_NXCALS'>\n",
      "\tQuerying PM event timestamps for system: QPS, className: DQAMGNDRBODD, DQAMGNDRBEVEN, source: RB.A12 from 2018-12-08 03:14:43.300 to 2018-12-08 03:21:33.300\n",
      "\tQuerying PM event signal(s) DFLAS.7R1.RB.A12.LD3:U_RES, DFLAS.7R1.RB.A12.LD4:U_HTS, DFLAS.7L2.RB.A12.LD1:U_HTS, DFLAS.7R1.RB.A12.LD3:U_HTS, DFLAS.7R1.RB.A12.LD4:U_RES... for system: RB.A12..., className: DQAMGNDRBODD, DQAMGNDRBEVEN..., source: QPS... at 2018-12-08 03:14:53.806\n"
     ]
    },
    {
     "name": "stderr",
     "output_type": "stream",
     "text": [
      "Post Mortem returned no data for the following query: http://pm-api-pro/v2/pmdata/signal?system=QPS&className=DQAMGNDRBEVEN&source=RB.A12&timestampInNanos=1544235293806000000&signal=DFLAS.7L2.RB.A12.LD1:U_HTS\n",
      "Post Mortem returned no data for the following query: http://pm-api-pro/v2/pmdata/signal?system=QPS&className=DQAMGNDRBEVEN&source=RB.A12&timestampInNanos=1544235293806000000&signal=DFLAS.7L2.RB.A12.LD2:U_HTS\n",
      "Post Mortem returned no data for the following query: http://pm-api-pro/v2/pmdata/signal?system=QPS&className=DQAMGNDRBEVEN&source=RB.A12&timestampInNanos=1544235293806000000&signal=DFLAS.7L2.RB.A12.LD1:U_RES\n",
      "Post Mortem returned no data for the following query: http://pm-api-pro/v2/pmdata/signal?system=QPS&className=DQAMGNDRBEVEN&source=RB.A12&timestampInNanos=1544235293806000000&signal=DFLAS.7L2.RB.A12.LD2:U_RES\n"
     ]
    },
    {
     "name": "stdout",
     "output_type": "stream",
     "text": [
      "successfully downloaded: <class 'src.acquisitions.leads.LEADS'>\n",
      "\tQuerying PM event signal(s) IAB.I_A, STATUS.I_EARTH_PCNT, STATUS.I_MEAS, STATUS.I_REF, IEARTH.IEARTH for system: RPTE.UA23.RB.A12, className: 51_self_pmd, source: FGC at 2018-12-08 16:17:44\n",
      "successfully downloaded: <class 'src.acquisitions.pc_pm.PC_PM'>\n",
      "\tQuerying PM event timestamps for system: QPS, className: DQAMSNRB, source: RR17.RB.A12, UA23.RB.A12 from 2018-12-08 16:17:34 to 2018-12-08 16:34:24\n",
      "\tQuerying PM event signal(s) RR17.RB.A12:U_DUMP_RES, UA23.RB.A12:U_DUMP_RES for system: RR17.RB.A12, UA23.RB.A12, className: DQAMSNRB, source: QPS at 2018-12-08 16:17:44.064\n"
     ]
    },
    {
     "name": "stderr",
     "output_type": "stream",
     "text": [
      "Post Mortem returned no data for the following query: http://pm-api-pro/v2/pmdata/signal?system=QPS&className=DQAMSNRB&source=UA23.RB.A12&timestampInNanos=1544282264064000000&signal=UA23.RB.A12:U_DUMP_RES\n"
     ]
    },
    {
     "name": "stdout",
     "output_type": "stream",
     "text": [
      "successfully downloaded: <class 'src.acquisitions.ee_u_dump_res_pm.EE_U_DUMP_RES_PM'>\n",
      "\tQuerying PM event timestamps for system: QPS, className: DQAMSNRB, source: RR17.RB.A12, UA23.RB.A12 from 2018-12-08 16:17:34 to 2018-12-08 16:34:24\n",
      "\tQuerying PM event signal(s) UA23.RB.A12:T_RES_BODY_2, RR17.RB.A12:T_RES_BODY_2, UA23.RB.A12:T_RES_BODY_1, RR17.RB.A12:T_RES_BODY_1, RR17.RB.A12:T_RES_BODY_3... for system: RR17.RB.A12, UA23.RB.A12..., className: DQAMSNRB..., source: QPS... at 2018-12-08 16:17:44.064\n"
     ]
    },
    {
     "name": "stderr",
     "output_type": "stream",
     "text": [
      "Post Mortem returned no data for the following query: http://pm-api-pro/v2/pmdata/signal?system=QPS&className=DQAMSNRB&source=UA23.RB.A12&timestampInNanos=1544282264064000000&signal=UA23.RB.A12:T_RES_BODY_1\n",
      "Post Mortem returned no data for the following query: http://pm-api-pro/v2/pmdata/signal?system=QPS&className=DQAMSNRB&source=UA23.RB.A12&timestampInNanos=1544282264064000000&signal=UA23.RB.A12:T_RES_BODY_2\n",
      "Post Mortem returned no data for the following query: http://pm-api-pro/v2/pmdata/signal?system=QPS&className=DQAMSNRB&source=UA23.RB.A12&timestampInNanos=1544282264064000000&signal=UA23.RB.A12:T_RES_BODY_3\n"
     ]
    },
    {
     "name": "stdout",
     "output_type": "stream",
     "text": [
      "successfully downloaded: <class 'src.acquisitions.ee_t_res_pm.EE_T_RES_PM'>\n",
      "\tQuerying NXCALS signal(s) MB.A10R1:U_DIODE_RB, MB.A9R1:U_DIODE_RB, MB.B9R1:U_DIODE_RB, MB.A8R1:U_DIODE_RB, MB.B8R1:U_DIODE_RB... from 2018-12-08 16:16:54 to 2018-12-08 16:26:04\n",
      "\tQuerying NXCALS signal(s) MB.C12R1:U_EARTH_RB, MB.B8R1:U_EARTH_RB, MB.B11R1:U_EARTH_RB, MB.A8R1:U_EARTH_RB, MB.A10R1:U_EARTH_RB... from 2018-12-08 16:16:54 to 2018-12-08 16:26:04\n",
      "successfully downloaded: <class 'src.acquisitions.voltage_nxcals.VOLTAGE_NXCALS'>\n",
      "\tQuerying PM event timestamps for system: QPS, className: DQAMCNMB_PMSTD, source: * from 2018-12-08 16:16:54 to 2018-12-08 16:26:04\n"
     ]
    },
    {
     "data": {
      "application/vnd.jupyter.widget-view+json": {
       "model_id": "fd5de6a376ba4f2180fce9adc7f1f6d8",
       "version_major": 2,
       "version_minor": 0
      },
      "text/plain": [
       "Querying iQPS logic PM:   0%|          | 0/6 [00:00<?, ?it/s]"
      ]
     },
     "metadata": {},
     "output_type": "display_data"
    },
    {
     "name": "stdout",
     "output_type": "stream",
     "text": [
      "successfully downloaded: <class 'src.acquisitions.voltage_logic_iqps.VOLTAGE_LOGIC_IQPS'>\n",
      "\tQuerying PM event timestamps for system: QPS, className: DQAMCNMB_PMSTD, source: * from 2018-12-08 16:16:54 to 2018-12-08 16:26:04\n",
      "\tQuerying PM event timestamps for system: QPS, className: DQAMGNSRB_PMREL, source: * from 2018-12-08 16:17:34 to 2018-12-08 16:24:24\n"
     ]
    },
    {
     "data": {
      "application/vnd.jupyter.widget-view+json": {
       "model_id": "1303445beb6a468a867a5998846379dd",
       "version_major": 2,
       "version_minor": 0
      },
      "text/plain": [
       "Querying PM/NXCALS U_DIODE_RB, U_REF_N1:   0%|          | 0/6 [00:00<?, ?it/s]"
      ]
     },
     "metadata": {},
     "output_type": "display_data"
    },
    {
     "data": {
      "application/vnd.jupyter.widget-view+json": {
       "model_id": "54d70abf3f4d43c18f1c9c29dd6e302e",
       "version_major": 2,
       "version_minor": 0
      },
      "text/plain": [
       "Querying PM/NXCALS U_DIODE_RB, U_REF_N1:   0%|          | 0/6 [00:00<?, ?it/s]"
      ]
     },
     "metadata": {},
     "output_type": "display_data"
    },
    {
     "name": "stdout",
     "output_type": "stream",
     "text": [
      "successfully downloaded: <class 'src.acquisitions.voltage_logic_nqps.VOLTAGE_LOGIC_NQPS'>\n",
      "\tQuerying PM event timestamps for system: QPS, className: DQAMCNMB_PMHSU, source: * from 2018-12-08 16:17:34 to 2018-12-08 16:26:04\n"
     ]
    },
    {
     "data": {
      "application/vnd.jupyter.widget-view+json": {
       "model_id": "e75be21d298e43588b161280894caa6a",
       "version_major": 2,
       "version_minor": 0
      },
      "text/plain": [
       "Querying PM:   0%|          | 0/6 [00:00<?, ?it/s]"
      ]
     },
     "metadata": {},
     "output_type": "display_data"
    },
    {
     "name": "stdout",
     "output_type": "stream",
     "text": [
      "successfully downloaded: <class 'src.acquisitions.qh_pm.QH_PM'>\n",
      "\tQuerying PM event timestamps for system: QPS, className: DQAMCNMB_PMSTD, source: * from 2018-12-08 16:16:54 to 2018-12-08 16:26:04\n"
     ]
    },
    {
     "data": {
      "application/vnd.jupyter.widget-view+json": {
       "model_id": "8e4359ca22514afbacc4fc5d560caf04",
       "version_major": 2,
       "version_minor": 0
      },
      "text/plain": [
       "Querying U, I Diode PM:   0%|          | 0/6 [00:00<?, ?it/s]"
      ]
     },
     "metadata": {},
     "output_type": "display_data"
    },
    {
     "name": "stdout",
     "output_type": "stream",
     "text": [
      "\tQuerying PM event timestamps for system: QPS, className: DQAMGNSRB_PMREL, source: B16R1 from 2018-12-08 16:07:43.961 to 2018-12-08 16:27:43.961\n",
      "\tQuerying PM event timestamps for system: QPS, className: DQAMGNSRB_PMREL, source: B17R1 from 2018-12-08 16:07:44.182 to 2018-12-08 16:27:44.182\n",
      "\tQuerying PM event timestamps for system: QPS, className: DQAMGNSRB_PMREL, source: B16R1 from 2018-12-08 16:07:44.478 to 2018-12-08 16:27:44.478\n",
      "\tQuerying PM event timestamps for system: QPS, className: DQAMGNSRB_PMREL, source: B17R1 from 2018-12-08 16:07:44.528 to 2018-12-08 16:27:44.528\n",
      "successfully downloaded: <class 'src.acquisitions.current_voltage_diode_leads_pm.CURRENT_VOLTAGE_DIODE_LEADS_PM'>\n",
      "\tQuerying PM event timestamps for system: QPS, className: DQAMCNMB_PMSTD, source: * from 2018-12-08 16:16:54 to 2018-12-08 16:23:34\n"
     ]
    },
    {
     "data": {
      "application/vnd.jupyter.widget-view+json": {
       "model_id": "1757a41695a2469da15e920031a6984c",
       "version_major": 2,
       "version_minor": 0
      },
      "text/plain": [
       "Querying U, I Diode leads NXCALS:   0%|          | 0/6 [00:00<?, ?it/s]"
      ]
     },
     "metadata": {},
     "output_type": "display_data"
    },
    {
     "name": "stdout",
     "output_type": "stream",
     "text": [
      "successfully downloaded: <class 'src.acquisitions.current_voltage_diode_leads_nxcals.CURRENT_VOLTAGE_DIODE_LEADS_NXCALS'>\n",
      "\tQuerying PM event timestamps for system: QPS, className: DQAMGNDRBODD, DQAMGNDRBEVEN, source: RB.A12 from 2018-12-08 16:17:34 to 2018-12-08 16:24:24\n",
      "\tQuerying PM event signal(s) DFLAS.7R1.RB.A12.LD3:U_RES, DFLAS.7R1.RB.A12.LD4:U_HTS, DFLAS.7L2.RB.A12.LD1:U_HTS, DFLAS.7R1.RB.A12.LD3:U_HTS, DFLAS.7R1.RB.A12.LD4:U_RES... for system: RB.A12..., className: DQAMGNDRBODD, DQAMGNDRBEVEN..., source: QPS... at 2018-12-08 16:17:44.807\n"
     ]
    },
    {
     "name": "stderr",
     "output_type": "stream",
     "text": [
      "Post Mortem returned no data for the following query: http://pm-api-pro/v2/pmdata/signal?system=QPS&className=DQAMGNDRBEVEN&source=RB.A12&timestampInNanos=1544282264807000000&signal=DFLAS.7L2.RB.A12.LD1:U_HTS\n",
      "Post Mortem returned no data for the following query: http://pm-api-pro/v2/pmdata/signal?system=QPS&className=DQAMGNDRBEVEN&source=RB.A12&timestampInNanos=1544282264807000000&signal=DFLAS.7L2.RB.A12.LD2:U_HTS\n",
      "Post Mortem returned no data for the following query: http://pm-api-pro/v2/pmdata/signal?system=QPS&className=DQAMGNDRBEVEN&source=RB.A12&timestampInNanos=1544282264807000000&signal=DFLAS.7L2.RB.A12.LD1:U_RES\n",
      "Post Mortem returned no data for the following query: http://pm-api-pro/v2/pmdata/signal?system=QPS&className=DQAMGNDRBEVEN&source=RB.A12&timestampInNanos=1544282264807000000&signal=DFLAS.7L2.RB.A12.LD2:U_RES\n"
     ]
    },
    {
     "name": "stdout",
     "output_type": "stream",
     "text": [
      "successfully downloaded: <class 'src.acquisitions.leads.LEADS'>\n",
      "\tQuerying PM event signal(s) IAB.I_A, STATUS.I_EARTH_PCNT, STATUS.I_MEAS, STATUS.I_REF, IEARTH.IEARTH for system: RPTE.UA23.RB.A12, className: 51_self_pmd, source: FGC at 2018-12-09 06:20:54.560\n",
      "successfully downloaded: <class 'src.acquisitions.pc_pm.PC_PM'>\n",
      "\tQuerying PM event timestamps for system: QPS, className: DQAMSNRB, source: RR17.RB.A12, UA23.RB.A12 from 2018-12-09 06:20:44.560 to 2018-12-09 06:37:34.560\n",
      "\tQuerying PM event signal(s) RR17.RB.A12:U_DUMP_RES, UA23.RB.A12:U_DUMP_RES for system: RR17.RB.A12, UA23.RB.A12, className: DQAMSNRB, source: QPS at 2018-12-09 06:20:54.617\n"
     ]
    },
    {
     "name": "stderr",
     "output_type": "stream",
     "text": [
      "Post Mortem returned no data for the following query: http://pm-api-pro/v2/pmdata/signal?system=QPS&className=DQAMSNRB&source=UA23.RB.A12&timestampInNanos=1544332854617000000&signal=UA23.RB.A12:U_DUMP_RES\n"
     ]
    },
    {
     "name": "stdout",
     "output_type": "stream",
     "text": [
      "successfully downloaded: <class 'src.acquisitions.ee_u_dump_res_pm.EE_U_DUMP_RES_PM'>\n",
      "\tQuerying PM event timestamps for system: QPS, className: DQAMSNRB, source: RR17.RB.A12, UA23.RB.A12 from 2018-12-09 06:20:44.560 to 2018-12-09 06:37:34.560\n",
      "\tQuerying PM event signal(s) UA23.RB.A12:T_RES_BODY_2, RR17.RB.A12:T_RES_BODY_2, UA23.RB.A12:T_RES_BODY_1, RR17.RB.A12:T_RES_BODY_1, RR17.RB.A12:T_RES_BODY_3... for system: RR17.RB.A12, UA23.RB.A12..., className: DQAMSNRB..., source: QPS... at 2018-12-09 06:20:54.617\n"
     ]
    },
    {
     "name": "stderr",
     "output_type": "stream",
     "text": [
      "Post Mortem returned no data for the following query: http://pm-api-pro/v2/pmdata/signal?system=QPS&className=DQAMSNRB&source=UA23.RB.A12&timestampInNanos=1544332854617000000&signal=UA23.RB.A12:T_RES_BODY_1\n",
      "Post Mortem returned no data for the following query: http://pm-api-pro/v2/pmdata/signal?system=QPS&className=DQAMSNRB&source=UA23.RB.A12&timestampInNanos=1544332854617000000&signal=UA23.RB.A12:T_RES_BODY_2\n",
      "Post Mortem returned no data for the following query: http://pm-api-pro/v2/pmdata/signal?system=QPS&className=DQAMSNRB&source=UA23.RB.A12&timestampInNanos=1544332854617000000&signal=UA23.RB.A12:T_RES_BODY_3\n"
     ]
    },
    {
     "name": "stdout",
     "output_type": "stream",
     "text": [
      "successfully downloaded: <class 'src.acquisitions.ee_t_res_pm.EE_T_RES_PM'>\n",
      "\tQuerying NXCALS signal(s) MB.A10R1:U_DIODE_RB, MB.A9R1:U_DIODE_RB, MB.B9R1:U_DIODE_RB, MB.A8R1:U_DIODE_RB, MB.B8R1:U_DIODE_RB... from 2018-12-09 06:20:04.560 to 2018-12-09 06:29:14.560\n",
      "\tQuerying NXCALS signal(s) MB.C12R1:U_EARTH_RB, MB.B8R1:U_EARTH_RB, MB.B11R1:U_EARTH_RB, MB.A8R1:U_EARTH_RB, MB.A10R1:U_EARTH_RB... from 2018-12-09 06:20:04.560 to 2018-12-09 06:29:14.560\n",
      "successfully downloaded: <class 'src.acquisitions.voltage_nxcals.VOLTAGE_NXCALS'>\n",
      "\tQuerying PM event timestamps for system: QPS, className: DQAMCNMB_PMSTD, source: * from 2018-12-09 06:20:04.560 to 2018-12-09 06:29:14.560\n"
     ]
    },
    {
     "data": {
      "application/vnd.jupyter.widget-view+json": {
       "model_id": "59dc262b4c8e42bca4a32d3f28850ff5",
       "version_major": 2,
       "version_minor": 0
      },
      "text/plain": [
       "Querying iQPS logic PM:   0%|          | 0/5 [00:00<?, ?it/s]"
      ]
     },
     "metadata": {},
     "output_type": "display_data"
    },
    {
     "name": "stdout",
     "output_type": "stream",
     "text": [
      "successfully downloaded: <class 'src.acquisitions.voltage_logic_iqps.VOLTAGE_LOGIC_IQPS'>\n",
      "\tQuerying PM event timestamps for system: QPS, className: DQAMCNMB_PMSTD, source: * from 2018-12-09 06:20:04.560 to 2018-12-09 06:29:14.560\n",
      "\tQuerying PM event timestamps for system: QPS, className: DQAMGNSRB_PMREL, source: * from 2018-12-09 06:20:44.560 to 2018-12-09 06:27:34.560\n"
     ]
    },
    {
     "data": {
      "application/vnd.jupyter.widget-view+json": {
       "model_id": "68aae0b728c34f76aa64e21d5ed58b6a",
       "version_major": 2,
       "version_minor": 0
      },
      "text/plain": [
       "Querying PM/NXCALS U_DIODE_RB, U_REF_N1:   0%|          | 0/5 [00:00<?, ?it/s]"
      ]
     },
     "metadata": {},
     "output_type": "display_data"
    },
    {
     "data": {
      "application/vnd.jupyter.widget-view+json": {
       "model_id": "a601f06c559944b6bd373bae70dff155",
       "version_major": 2,
       "version_minor": 0
      },
      "text/plain": [
       "Querying PM/NXCALS U_DIODE_RB, U_REF_N1:   0%|          | 0/5 [00:00<?, ?it/s]"
      ]
     },
     "metadata": {},
     "output_type": "display_data"
    },
    {
     "name": "stdout",
     "output_type": "stream",
     "text": [
      "successfully downloaded: <class 'src.acquisitions.voltage_logic_nqps.VOLTAGE_LOGIC_NQPS'>\n",
      "\tQuerying PM event timestamps for system: QPS, className: DQAMCNMB_PMHSU, source: * from 2018-12-09 06:20:44.560 to 2018-12-09 06:29:14.560\n"
     ]
    },
    {
     "data": {
      "application/vnd.jupyter.widget-view+json": {
       "model_id": "8bd5911624534121a189a8a8476deb6d",
       "version_major": 2,
       "version_minor": 0
      },
      "text/plain": [
       "Querying PM:   0%|          | 0/5 [00:00<?, ?it/s]"
      ]
     },
     "metadata": {},
     "output_type": "display_data"
    },
    {
     "name": "stdout",
     "output_type": "stream",
     "text": [
      "successfully downloaded: <class 'src.acquisitions.qh_pm.QH_PM'>\n",
      "\tQuerying PM event timestamps for system: QPS, className: DQAMCNMB_PMSTD, source: * from 2018-12-09 06:20:04.560 to 2018-12-09 06:29:14.560\n"
     ]
    },
    {
     "data": {
      "application/vnd.jupyter.widget-view+json": {
       "model_id": "ecf4e6fec41544c2b85c335b3940c41a",
       "version_major": 2,
       "version_minor": 0
      },
      "text/plain": [
       "Querying U, I Diode PM:   0%|          | 0/5 [00:00<?, ?it/s]"
      ]
     },
     "metadata": {},
     "output_type": "display_data"
    },
    {
     "name": "stdout",
     "output_type": "stream",
     "text": [
      "\tQuerying PM event timestamps for system: QPS, className: DQAMGNSRB_PMREL, source: B27R1 from 2018-12-09 06:10:54.513 to 2018-12-09 06:30:54.513\n",
      "\tQuerying PM event timestamps for system: QPS, className: DQAMGNSRB_PMREL, source: B26R1 from 2018-12-09 06:10:54.728 to 2018-12-09 06:30:54.728\n",
      "successfully downloaded: <class 'src.acquisitions.current_voltage_diode_leads_pm.CURRENT_VOLTAGE_DIODE_LEADS_PM'>\n",
      "\tQuerying PM event timestamps for system: QPS, className: DQAMCNMB_PMSTD, source: * from 2018-12-09 06:20:04.560 to 2018-12-09 06:26:44.560\n"
     ]
    },
    {
     "data": {
      "application/vnd.jupyter.widget-view+json": {
       "model_id": "8e3cc1a132264be9bcd00a5913e9f68a",
       "version_major": 2,
       "version_minor": 0
      },
      "text/plain": [
       "Querying U, I Diode leads NXCALS:   0%|          | 0/5 [00:00<?, ?it/s]"
      ]
     },
     "metadata": {},
     "output_type": "display_data"
    },
    {
     "name": "stdout",
     "output_type": "stream",
     "text": [
      "successfully downloaded: <class 'src.acquisitions.current_voltage_diode_leads_nxcals.CURRENT_VOLTAGE_DIODE_LEADS_NXCALS'>\n",
      "\tQuerying PM event timestamps for system: QPS, className: DQAMGNDRBODD, DQAMGNDRBEVEN, source: RB.A12 from 2018-12-09 06:20:44.560 to 2018-12-09 06:27:34.560\n",
      "\tQuerying PM event signal(s) DFLAS.7R1.RB.A12.LD3:U_RES, DFLAS.7R1.RB.A12.LD4:U_HTS, DFLAS.7L2.RB.A12.LD1:U_HTS, DFLAS.7R1.RB.A12.LD3:U_HTS, DFLAS.7R1.RB.A12.LD4:U_RES... for system: RB.A12..., className: DQAMGNDRBODD, DQAMGNDRBEVEN..., source: QPS... at 2018-12-09 06:20:55.412\n"
     ]
    },
    {
     "name": "stderr",
     "output_type": "stream",
     "text": [
      "Post Mortem returned no data for the following query: http://pm-api-pro/v2/pmdata/signal?system=QPS&className=DQAMGNDRBEVEN&source=RB.A12&timestampInNanos=1544332855412000000&signal=DFLAS.7L2.RB.A12.LD1:U_HTS\n",
      "Post Mortem returned no data for the following query: http://pm-api-pro/v2/pmdata/signal?system=QPS&className=DQAMGNDRBEVEN&source=RB.A12&timestampInNanos=1544332855412000000&signal=DFLAS.7L2.RB.A12.LD2:U_HTS\n",
      "Post Mortem returned no data for the following query: http://pm-api-pro/v2/pmdata/signal?system=QPS&className=DQAMGNDRBEVEN&source=RB.A12&timestampInNanos=1544332855412000000&signal=DFLAS.7L2.RB.A12.LD1:U_RES\n",
      "Post Mortem returned no data for the following query: http://pm-api-pro/v2/pmdata/signal?system=QPS&className=DQAMGNDRBEVEN&source=RB.A12&timestampInNanos=1544332855412000000&signal=DFLAS.7L2.RB.A12.LD2:U_RES\n"
     ]
    },
    {
     "name": "stdout",
     "output_type": "stream",
     "text": [
      "successfully downloaded: <class 'src.acquisitions.leads.LEADS'>\n",
      "\tQuerying PM event signal(s) IAB.I_A, STATUS.I_EARTH_PCNT, STATUS.I_MEAS, STATUS.I_REF, IEARTH.IEARTH for system: RPTE.UA23.RB.A12, className: 51_self_pmd, source: FGC at 2018-12-09 16:53:09.180\n",
      "successfully downloaded: <class 'src.acquisitions.pc_pm.PC_PM'>\n",
      "\tQuerying PM event timestamps for system: QPS, className: DQAMSNRB, source: RR17.RB.A12, UA23.RB.A12 from 2018-12-09 16:52:59.180 to 2018-12-09 17:09:49.180\n",
      "\tQuerying PM event signal(s) RR17.RB.A12:U_DUMP_RES, UA23.RB.A12:U_DUMP_RES for system: RR17.RB.A12, UA23.RB.A12, className: DQAMSNRB, source: QPS at 2018-12-09 16:53:09.244\n"
     ]
    },
    {
     "name": "stderr",
     "output_type": "stream",
     "text": [
      "Post Mortem returned no data for the following query: http://pm-api-pro/v2/pmdata/signal?system=QPS&className=DQAMSNRB&source=UA23.RB.A12&timestampInNanos=1544370789244000000&signal=UA23.RB.A12:U_DUMP_RES\n"
     ]
    },
    {
     "name": "stdout",
     "output_type": "stream",
     "text": [
      "successfully downloaded: <class 'src.acquisitions.ee_u_dump_res_pm.EE_U_DUMP_RES_PM'>\n",
      "\tQuerying PM event timestamps for system: QPS, className: DQAMSNRB, source: RR17.RB.A12, UA23.RB.A12 from 2018-12-09 16:52:59.180 to 2018-12-09 17:09:49.180\n",
      "\tQuerying PM event signal(s) UA23.RB.A12:T_RES_BODY_2, RR17.RB.A12:T_RES_BODY_2, UA23.RB.A12:T_RES_BODY_1, RR17.RB.A12:T_RES_BODY_1, RR17.RB.A12:T_RES_BODY_3... for system: RR17.RB.A12, UA23.RB.A12..., className: DQAMSNRB..., source: QPS... at 2018-12-09 16:53:09.244\n"
     ]
    },
    {
     "name": "stderr",
     "output_type": "stream",
     "text": [
      "Post Mortem returned no data for the following query: http://pm-api-pro/v2/pmdata/signal?system=QPS&className=DQAMSNRB&source=UA23.RB.A12&timestampInNanos=1544370789244000000&signal=UA23.RB.A12:T_RES_BODY_1\n",
      "Post Mortem returned no data for the following query: http://pm-api-pro/v2/pmdata/signal?system=QPS&className=DQAMSNRB&source=UA23.RB.A12&timestampInNanos=1544370789244000000&signal=UA23.RB.A12:T_RES_BODY_2\n",
      "Post Mortem returned no data for the following query: http://pm-api-pro/v2/pmdata/signal?system=QPS&className=DQAMSNRB&source=UA23.RB.A12&timestampInNanos=1544370789244000000&signal=UA23.RB.A12:T_RES_BODY_3\n"
     ]
    },
    {
     "name": "stdout",
     "output_type": "stream",
     "text": [
      "successfully downloaded: <class 'src.acquisitions.ee_t_res_pm.EE_T_RES_PM'>\n",
      "\tQuerying NXCALS signal(s) MB.A10R1:U_DIODE_RB, MB.A9R1:U_DIODE_RB, MB.B9R1:U_DIODE_RB, MB.A8R1:U_DIODE_RB, MB.B8R1:U_DIODE_RB... from 2018-12-09 16:52:19.180 to 2018-12-09 17:01:29.180\n",
      "\tQuerying NXCALS signal(s) MB.C12R1:U_EARTH_RB, MB.B8R1:U_EARTH_RB, MB.B11R1:U_EARTH_RB, MB.A8R1:U_EARTH_RB, MB.A10R1:U_EARTH_RB... from 2018-12-09 16:52:19.180 to 2018-12-09 17:01:29.180\n",
      "successfully downloaded: <class 'src.acquisitions.voltage_nxcals.VOLTAGE_NXCALS'>\n",
      "\tQuerying PM event timestamps for system: QPS, className: DQAMCNMB_PMSTD, source: * from 2018-12-09 16:52:19.180 to 2018-12-09 17:01:29.180\n"
     ]
    },
    {
     "data": {
      "application/vnd.jupyter.widget-view+json": {
       "model_id": "3eb21d903ec14a3dad121141c4e33d25",
       "version_major": 2,
       "version_minor": 0
      },
      "text/plain": [
       "Querying iQPS logic PM:   0%|          | 0/7 [00:00<?, ?it/s]"
      ]
     },
     "metadata": {},
     "output_type": "display_data"
    },
    {
     "name": "stdout",
     "output_type": "stream",
     "text": [
      "successfully downloaded: <class 'src.acquisitions.voltage_logic_iqps.VOLTAGE_LOGIC_IQPS'>\n",
      "\tQuerying PM event timestamps for system: QPS, className: DQAMCNMB_PMSTD, source: * from 2018-12-09 16:52:19.180 to 2018-12-09 17:01:29.180\n",
      "\tQuerying PM event timestamps for system: QPS, className: DQAMGNSRB_PMREL, source: * from 2018-12-09 16:52:59.180 to 2018-12-09 16:59:49.180\n"
     ]
    },
    {
     "data": {
      "application/vnd.jupyter.widget-view+json": {
       "model_id": "3c95f32cb20c407f964e19c5974532da",
       "version_major": 2,
       "version_minor": 0
      },
      "text/plain": [
       "Querying PM/NXCALS U_DIODE_RB, U_REF_N1:   0%|          | 0/7 [00:00<?, ?it/s]"
      ]
     },
     "metadata": {},
     "output_type": "display_data"
    },
    {
     "data": {
      "application/vnd.jupyter.widget-view+json": {
       "model_id": "60d3ff1055894fe89324ef8344037047",
       "version_major": 2,
       "version_minor": 0
      },
      "text/plain": [
       "Querying PM/NXCALS U_DIODE_RB, U_REF_N1:   0%|          | 0/7 [00:00<?, ?it/s]"
      ]
     },
     "metadata": {},
     "output_type": "display_data"
    },
    {
     "name": "stdout",
     "output_type": "stream",
     "text": [
      "successfully downloaded: <class 'src.acquisitions.voltage_logic_nqps.VOLTAGE_LOGIC_NQPS'>\n",
      "\tQuerying PM event timestamps for system: QPS, className: DQAMCNMB_PMHSU, source: * from 2018-12-09 16:52:59.180 to 2018-12-09 17:01:29.180\n"
     ]
    },
    {
     "data": {
      "application/vnd.jupyter.widget-view+json": {
       "model_id": "2a2d6a9312074fdeaf0f49bfe402f116",
       "version_major": 2,
       "version_minor": 0
      },
      "text/plain": [
       "Querying PM:   0%|          | 0/7 [00:00<?, ?it/s]"
      ]
     },
     "metadata": {},
     "output_type": "display_data"
    },
    {
     "name": "stdout",
     "output_type": "stream",
     "text": [
      "successfully downloaded: <class 'src.acquisitions.qh_pm.QH_PM'>\n",
      "\tQuerying PM event timestamps for system: QPS, className: DQAMCNMB_PMSTD, source: * from 2018-12-09 16:52:19.180 to 2018-12-09 17:01:29.180\n"
     ]
    },
    {
     "data": {
      "application/vnd.jupyter.widget-view+json": {
       "model_id": "61266dea68de4a9cb125c89f7b6ab2d6",
       "version_major": 2,
       "version_minor": 0
      },
      "text/plain": [
       "Querying U, I Diode PM:   0%|          | 0/7 [00:00<?, ?it/s]"
      ]
     },
     "metadata": {},
     "output_type": "display_data"
    },
    {
     "name": "stdout",
     "output_type": "stream",
     "text": [
      "\tQuerying PM event timestamps for system: QPS, className: DQAMGNSRB_PMREL, source: B23R1 from 2018-12-09 16:43:09.141 to 2018-12-09 17:03:09.141\n",
      "\tQuerying PM event timestamps for system: QPS, className: DQAMGNSRB_PMREL, source: B22R1 from 2018-12-09 16:43:09.417 to 2018-12-09 17:03:09.417\n",
      "successfully downloaded: <class 'src.acquisitions.current_voltage_diode_leads_pm.CURRENT_VOLTAGE_DIODE_LEADS_PM'>\n",
      "\tQuerying PM event timestamps for system: QPS, className: DQAMCNMB_PMSTD, source: * from 2018-12-09 16:52:19.180 to 2018-12-09 16:58:59.180\n"
     ]
    },
    {
     "data": {
      "application/vnd.jupyter.widget-view+json": {
       "model_id": "5457151cfd434f6fbc700b401ace8be3",
       "version_major": 2,
       "version_minor": 0
      },
      "text/plain": [
       "Querying U, I Diode leads NXCALS:   0%|          | 0/7 [00:00<?, ?it/s]"
      ]
     },
     "metadata": {},
     "output_type": "display_data"
    },
    {
     "name": "stdout",
     "output_type": "stream",
     "text": [
      "successfully downloaded: <class 'src.acquisitions.current_voltage_diode_leads_nxcals.CURRENT_VOLTAGE_DIODE_LEADS_NXCALS'>\n",
      "\tQuerying PM event timestamps for system: QPS, className: DQAMGNDRBODD, DQAMGNDRBEVEN, source: RB.A12 from 2018-12-09 16:52:59.180 to 2018-12-09 16:59:49.180\n",
      "\tQuerying PM event signal(s) DFLAS.7R1.RB.A12.LD3:U_RES, DFLAS.7R1.RB.A12.LD4:U_HTS, DFLAS.7L2.RB.A12.LD1:U_HTS, DFLAS.7R1.RB.A12.LD3:U_HTS, DFLAS.7R1.RB.A12.LD4:U_RES... for system: RB.A12..., className: DQAMGNDRBODD, DQAMGNDRBEVEN..., source: QPS... at 2018-12-09 16:53:10.007\n"
     ]
    },
    {
     "name": "stderr",
     "output_type": "stream",
     "text": [
      "Post Mortem returned no data for the following query: http://pm-api-pro/v2/pmdata/signal?system=QPS&className=DQAMGNDRBEVEN&source=RB.A12&timestampInNanos=1544370790007000000&signal=DFLAS.7L2.RB.A12.LD1:U_HTS\n",
      "Post Mortem returned no data for the following query: http://pm-api-pro/v2/pmdata/signal?system=QPS&className=DQAMGNDRBEVEN&source=RB.A12&timestampInNanos=1544370790007000000&signal=DFLAS.7L2.RB.A12.LD2:U_HTS\n",
      "Post Mortem returned no data for the following query: http://pm-api-pro/v2/pmdata/signal?system=QPS&className=DQAMGNDRBEVEN&source=RB.A12&timestampInNanos=1544370790007000000&signal=DFLAS.7L2.RB.A12.LD1:U_RES\n",
      "Post Mortem returned no data for the following query: http://pm-api-pro/v2/pmdata/signal?system=QPS&className=DQAMGNDRBEVEN&source=RB.A12&timestampInNanos=1544370790007000000&signal=DFLAS.7L2.RB.A12.LD2:U_RES\n"
     ]
    },
    {
     "name": "stdout",
     "output_type": "stream",
     "text": [
      "successfully downloaded: <class 'src.acquisitions.leads.LEADS'>\n",
      "\tQuerying PM event signal(s) IAB.I_A, STATUS.I_EARTH_PCNT, STATUS.I_MEAS, STATUS.I_REF, IEARTH.IEARTH for system: RPTE.UA23.RB.A12, className: 51_self_pmd, source: FGC at 2018-12-10 06:31:22.440\n",
      "successfully downloaded: <class 'src.acquisitions.pc_pm.PC_PM'>\n",
      "\tQuerying PM event timestamps for system: QPS, className: DQAMSNRB, source: RR17.RB.A12, UA23.RB.A12 from 2018-12-10 06:31:12.440 to 2018-12-10 06:48:02.440\n",
      "\tQuerying PM event signal(s) RR17.RB.A12:U_DUMP_RES, UA23.RB.A12:U_DUMP_RES for system: RR17.RB.A12, UA23.RB.A12, className: DQAMSNRB, source: QPS at 2018-12-10 06:31:22.510\n"
     ]
    },
    {
     "name": "stderr",
     "output_type": "stream",
     "text": [
      "Post Mortem returned no data for the following query: http://pm-api-pro/v2/pmdata/signal?system=QPS&className=DQAMSNRB&source=UA23.RB.A12&timestampInNanos=1544419882510000000&signal=UA23.RB.A12:U_DUMP_RES\n"
     ]
    },
    {
     "name": "stdout",
     "output_type": "stream",
     "text": [
      "successfully downloaded: <class 'src.acquisitions.ee_u_dump_res_pm.EE_U_DUMP_RES_PM'>\n",
      "\tQuerying PM event timestamps for system: QPS, className: DQAMSNRB, source: RR17.RB.A12, UA23.RB.A12 from 2018-12-10 06:31:12.440 to 2018-12-10 06:48:02.440\n",
      "\tQuerying PM event signal(s) UA23.RB.A12:T_RES_BODY_2, RR17.RB.A12:T_RES_BODY_2, UA23.RB.A12:T_RES_BODY_1, RR17.RB.A12:T_RES_BODY_1, RR17.RB.A12:T_RES_BODY_3... for system: RR17.RB.A12, UA23.RB.A12..., className: DQAMSNRB..., source: QPS... at 2018-12-10 06:31:22.510\n"
     ]
    },
    {
     "name": "stderr",
     "output_type": "stream",
     "text": [
      "Post Mortem returned no data for the following query: http://pm-api-pro/v2/pmdata/signal?system=QPS&className=DQAMSNRB&source=UA23.RB.A12&timestampInNanos=1544419882510000000&signal=UA23.RB.A12:T_RES_BODY_1\n",
      "Post Mortem returned no data for the following query: http://pm-api-pro/v2/pmdata/signal?system=QPS&className=DQAMSNRB&source=UA23.RB.A12&timestampInNanos=1544419882510000000&signal=UA23.RB.A12:T_RES_BODY_2\n",
      "Post Mortem returned no data for the following query: http://pm-api-pro/v2/pmdata/signal?system=QPS&className=DQAMSNRB&source=UA23.RB.A12&timestampInNanos=1544419882510000000&signal=UA23.RB.A12:T_RES_BODY_3\n"
     ]
    },
    {
     "name": "stdout",
     "output_type": "stream",
     "text": [
      "successfully downloaded: <class 'src.acquisitions.ee_t_res_pm.EE_T_RES_PM'>\n",
      "\tQuerying NXCALS signal(s) MB.A10R1:U_DIODE_RB, MB.A9R1:U_DIODE_RB, MB.B9R1:U_DIODE_RB, MB.A8R1:U_DIODE_RB, MB.B8R1:U_DIODE_RB... from 2018-12-10 06:30:32.440 to 2018-12-10 06:39:42.440\n",
      "\tQuerying NXCALS signal(s) MB.C12R1:U_EARTH_RB, MB.B8R1:U_EARTH_RB, MB.B11R1:U_EARTH_RB, MB.A8R1:U_EARTH_RB, MB.A10R1:U_EARTH_RB... from 2018-12-10 06:30:32.440 to 2018-12-10 06:39:42.440\n",
      "successfully downloaded: <class 'src.acquisitions.voltage_nxcals.VOLTAGE_NXCALS'>\n",
      "\tQuerying PM event timestamps for system: QPS, className: DQAMCNMB_PMSTD, source: * from 2018-12-10 06:30:32.440 to 2018-12-10 06:39:42.440\n"
     ]
    },
    {
     "data": {
      "application/vnd.jupyter.widget-view+json": {
       "model_id": "6bc97da4630145899396cb0a056ea185",
       "version_major": 2,
       "version_minor": 0
      },
      "text/plain": [
       "Querying iQPS logic PM:   0%|          | 0/6 [00:00<?, ?it/s]"
      ]
     },
     "metadata": {},
     "output_type": "display_data"
    },
    {
     "name": "stdout",
     "output_type": "stream",
     "text": [
      "successfully downloaded: <class 'src.acquisitions.voltage_logic_iqps.VOLTAGE_LOGIC_IQPS'>\n",
      "\tQuerying PM event timestamps for system: QPS, className: DQAMCNMB_PMSTD, source: * from 2018-12-10 06:30:32.440 to 2018-12-10 06:39:42.440\n",
      "\tQuerying PM event timestamps for system: QPS, className: DQAMGNSRB_PMREL, source: * from 2018-12-10 06:31:12.440 to 2018-12-10 06:38:02.440\n"
     ]
    },
    {
     "data": {
      "application/vnd.jupyter.widget-view+json": {
       "model_id": "ebf58367f48447d7993c1aed3c989524",
       "version_major": 2,
       "version_minor": 0
      },
      "text/plain": [
       "Querying PM/NXCALS U_DIODE_RB, U_REF_N1:   0%|          | 0/6 [00:00<?, ?it/s]"
      ]
     },
     "metadata": {},
     "output_type": "display_data"
    },
    {
     "data": {
      "application/vnd.jupyter.widget-view+json": {
       "model_id": "d8585bd8a8a840bf8578941eeb2b4d61",
       "version_major": 2,
       "version_minor": 0
      },
      "text/plain": [
       "Querying PM/NXCALS U_DIODE_RB, U_REF_N1:   0%|          | 0/6 [00:00<?, ?it/s]"
      ]
     },
     "metadata": {},
     "output_type": "display_data"
    },
    {
     "name": "stdout",
     "output_type": "stream",
     "text": [
      "successfully downloaded: <class 'src.acquisitions.voltage_logic_nqps.VOLTAGE_LOGIC_NQPS'>\n",
      "\tQuerying PM event timestamps for system: QPS, className: DQAMCNMB_PMHSU, source: * from 2018-12-10 06:31:12.440 to 2018-12-10 06:39:42.440\n"
     ]
    },
    {
     "data": {
      "application/vnd.jupyter.widget-view+json": {
       "model_id": "cb56a0e6a3854c87a84d0e316b90b4ca",
       "version_major": 2,
       "version_minor": 0
      },
      "text/plain": [
       "Querying PM:   0%|          | 0/6 [00:00<?, ?it/s]"
      ]
     },
     "metadata": {},
     "output_type": "display_data"
    },
    {
     "name": "stdout",
     "output_type": "stream",
     "text": [
      "successfully downloaded: <class 'src.acquisitions.qh_pm.QH_PM'>\n",
      "\tQuerying PM event timestamps for system: QPS, className: DQAMCNMB_PMSTD, source: * from 2018-12-10 06:30:32.440 to 2018-12-10 06:39:42.440\n"
     ]
    },
    {
     "data": {
      "application/vnd.jupyter.widget-view+json": {
       "model_id": "f5f635fae4e64a869355c0b72b3c3af2",
       "version_major": 2,
       "version_minor": 0
      },
      "text/plain": [
       "Querying U, I Diode PM:   0%|          | 0/6 [00:00<?, ?it/s]"
      ]
     },
     "metadata": {},
     "output_type": "display_data"
    },
    {
     "name": "stdout",
     "output_type": "stream",
     "text": [
      "\tQuerying PM event timestamps for system: QPS, className: DQAMGNSRB_PMREL, source: B20R1 from 2018-12-10 06:21:22.407 to 2018-12-10 06:41:22.407\n",
      "\tQuerying PM event timestamps for system: QPS, className: DQAMGNSRB_PMREL, source: B21R1 from 2018-12-10 06:21:22.823 to 2018-12-10 06:41:22.823\n",
      "successfully downloaded: <class 'src.acquisitions.current_voltage_diode_leads_pm.CURRENT_VOLTAGE_DIODE_LEADS_PM'>\n",
      "\tQuerying PM event timestamps for system: QPS, className: DQAMCNMB_PMSTD, source: * from 2018-12-10 06:30:32.440 to 2018-12-10 06:37:12.440\n"
     ]
    },
    {
     "data": {
      "application/vnd.jupyter.widget-view+json": {
       "model_id": "2b1c49dc1e0c44af9d76a0101a67d558",
       "version_major": 2,
       "version_minor": 0
      },
      "text/plain": [
       "Querying U, I Diode leads NXCALS:   0%|          | 0/6 [00:00<?, ?it/s]"
      ]
     },
     "metadata": {},
     "output_type": "display_data"
    },
    {
     "name": "stdout",
     "output_type": "stream",
     "text": [
      "successfully downloaded: <class 'src.acquisitions.current_voltage_diode_leads_nxcals.CURRENT_VOLTAGE_DIODE_LEADS_NXCALS'>\n",
      "\tQuerying PM event timestamps for system: QPS, className: DQAMGNDRBODD, DQAMGNDRBEVEN, source: RB.A12 from 2018-12-10 06:31:12.440 to 2018-12-10 06:38:02.440\n",
      "\tQuerying PM event signal(s) DFLAS.7R1.RB.A12.LD3:U_RES, DFLAS.7R1.RB.A12.LD4:U_HTS, DFLAS.7L2.RB.A12.LD1:U_HTS, DFLAS.7R1.RB.A12.LD3:U_HTS, DFLAS.7R1.RB.A12.LD4:U_RES... for system: RB.A12..., className: DQAMGNDRBODD, DQAMGNDRBEVEN..., source: QPS... at 2018-12-10 06:31:23.007\n"
     ]
    },
    {
     "name": "stderr",
     "output_type": "stream",
     "text": [
      "Post Mortem returned no data for the following query: http://pm-api-pro/v2/pmdata/signal?system=QPS&className=DQAMGNDRBEVEN&source=RB.A12&timestampInNanos=1544419883007000000&signal=DFLAS.7L2.RB.A12.LD1:U_HTS\n",
      "Post Mortem returned no data for the following query: http://pm-api-pro/v2/pmdata/signal?system=QPS&className=DQAMGNDRBEVEN&source=RB.A12&timestampInNanos=1544419883007000000&signal=DFLAS.7L2.RB.A12.LD2:U_HTS\n",
      "Post Mortem returned no data for the following query: http://pm-api-pro/v2/pmdata/signal?system=QPS&className=DQAMGNDRBEVEN&source=RB.A12&timestampInNanos=1544419883007000000&signal=DFLAS.7L2.RB.A12.LD1:U_RES\n",
      "Post Mortem returned no data for the following query: http://pm-api-pro/v2/pmdata/signal?system=QPS&className=DQAMGNDRBEVEN&source=RB.A12&timestampInNanos=1544419883007000000&signal=DFLAS.7L2.RB.A12.LD2:U_RES\n"
     ]
    },
    {
     "name": "stdout",
     "output_type": "stream",
     "text": [
      "successfully downloaded: <class 'src.acquisitions.leads.LEADS'>\n",
      "\tQuerying PM event signal(s) IAB.I_A, STATUS.I_EARTH_PCNT, STATUS.I_MEAS, STATUS.I_REF, IEARTH.IEARTH for system: RPTE.UA23.RB.A12, className: 51_self_pmd, source: FGC at 2018-12-10 22:28:02.220\n",
      "successfully downloaded: <class 'src.acquisitions.pc_pm.PC_PM'>\n",
      "\tQuerying PM event timestamps for system: QPS, className: DQAMSNRB, source: RR17.RB.A12, UA23.RB.A12 from 2018-12-10 22:27:52.220 to 2018-12-10 22:44:42.220\n",
      "\tQuerying PM event signal(s) RR17.RB.A12:U_DUMP_RES, UA23.RB.A12:U_DUMP_RES for system: RR17.RB.A12, UA23.RB.A12, className: DQAMSNRB, source: QPS at 2018-12-10 22:28:02.283\n"
     ]
    },
    {
     "name": "stderr",
     "output_type": "stream",
     "text": [
      "Post Mortem returned no data for the following query: http://pm-api-pro/v2/pmdata/signal?system=QPS&className=DQAMSNRB&source=UA23.RB.A12&timestampInNanos=1544477282283000000&signal=UA23.RB.A12:U_DUMP_RES\n"
     ]
    },
    {
     "name": "stdout",
     "output_type": "stream",
     "text": [
      "successfully downloaded: <class 'src.acquisitions.ee_u_dump_res_pm.EE_U_DUMP_RES_PM'>\n",
      "\tQuerying PM event timestamps for system: QPS, className: DQAMSNRB, source: RR17.RB.A12, UA23.RB.A12 from 2018-12-10 22:27:52.220 to 2018-12-10 22:44:42.220\n",
      "\tQuerying PM event signal(s) UA23.RB.A12:T_RES_BODY_2, RR17.RB.A12:T_RES_BODY_2, UA23.RB.A12:T_RES_BODY_1, RR17.RB.A12:T_RES_BODY_1, RR17.RB.A12:T_RES_BODY_3... for system: RR17.RB.A12, UA23.RB.A12..., className: DQAMSNRB..., source: QPS... at 2018-12-10 22:28:02.283\n"
     ]
    },
    {
     "name": "stderr",
     "output_type": "stream",
     "text": [
      "Post Mortem returned no data for the following query: http://pm-api-pro/v2/pmdata/signal?system=QPS&className=DQAMSNRB&source=UA23.RB.A12&timestampInNanos=1544477282283000000&signal=UA23.RB.A12:T_RES_BODY_1\n",
      "Post Mortem returned no data for the following query: http://pm-api-pro/v2/pmdata/signal?system=QPS&className=DQAMSNRB&source=UA23.RB.A12&timestampInNanos=1544477282283000000&signal=UA23.RB.A12:T_RES_BODY_2\n",
      "Post Mortem returned no data for the following query: http://pm-api-pro/v2/pmdata/signal?system=QPS&className=DQAMSNRB&source=UA23.RB.A12&timestampInNanos=1544477282283000000&signal=UA23.RB.A12:T_RES_BODY_3\n"
     ]
    },
    {
     "name": "stdout",
     "output_type": "stream",
     "text": [
      "successfully downloaded: <class 'src.acquisitions.ee_t_res_pm.EE_T_RES_PM'>\n",
      "\tQuerying NXCALS signal(s) MB.A10R1:U_DIODE_RB, MB.A9R1:U_DIODE_RB, MB.B9R1:U_DIODE_RB, MB.A8R1:U_DIODE_RB, MB.B8R1:U_DIODE_RB... from 2018-12-10 22:27:12.220 to 2018-12-10 22:36:22.220\n",
      "\tQuerying NXCALS signal(s) MB.C12R1:U_EARTH_RB, MB.B8R1:U_EARTH_RB, MB.B11R1:U_EARTH_RB, MB.A8R1:U_EARTH_RB, MB.A10R1:U_EARTH_RB... from 2018-12-10 22:27:12.220 to 2018-12-10 22:36:22.220\n",
      "successfully downloaded: <class 'src.acquisitions.voltage_nxcals.VOLTAGE_NXCALS'>\n",
      "\tQuerying PM event timestamps for system: QPS, className: DQAMCNMB_PMSTD, source: * from 2018-12-10 22:27:12.220 to 2018-12-10 22:36:22.220\n"
     ]
    },
    {
     "data": {
      "application/vnd.jupyter.widget-view+json": {
       "model_id": "fad6af042adf48ea9ddd84721c68fd6d",
       "version_major": 2,
       "version_minor": 0
      },
      "text/plain": [
       "Querying iQPS logic PM:   0%|          | 0/4 [00:00<?, ?it/s]"
      ]
     },
     "metadata": {},
     "output_type": "display_data"
    },
    {
     "name": "stdout",
     "output_type": "stream",
     "text": [
      "successfully downloaded: <class 'src.acquisitions.voltage_logic_iqps.VOLTAGE_LOGIC_IQPS'>\n",
      "\tQuerying PM event timestamps for system: QPS, className: DQAMCNMB_PMSTD, source: * from 2018-12-10 22:27:12.220 to 2018-12-10 22:36:22.220\n",
      "\tQuerying PM event timestamps for system: QPS, className: DQAMGNSRB_PMREL, source: * from 2018-12-10 22:27:52.220 to 2018-12-10 22:34:42.220\n"
     ]
    },
    {
     "data": {
      "application/vnd.jupyter.widget-view+json": {
       "model_id": "2ca511759d1e47fb83435d626e73e39e",
       "version_major": 2,
       "version_minor": 0
      },
      "text/plain": [
       "Querying PM/NXCALS U_DIODE_RB, U_REF_N1:   0%|          | 0/4 [00:00<?, ?it/s]"
      ]
     },
     "metadata": {},
     "output_type": "display_data"
    },
    {
     "data": {
      "application/vnd.jupyter.widget-view+json": {
       "model_id": "1b6c9001808842ca85465e8a9631e35a",
       "version_major": 2,
       "version_minor": 0
      },
      "text/plain": [
       "Querying PM/NXCALS U_DIODE_RB, U_REF_N1:   0%|          | 0/4 [00:00<?, ?it/s]"
      ]
     },
     "metadata": {},
     "output_type": "display_data"
    },
    {
     "name": "stdout",
     "output_type": "stream",
     "text": [
      "successfully downloaded: <class 'src.acquisitions.voltage_logic_nqps.VOLTAGE_LOGIC_NQPS'>\n",
      "\tQuerying PM event timestamps for system: QPS, className: DQAMCNMB_PMHSU, source: * from 2018-12-10 22:27:52.220 to 2018-12-10 22:36:22.220\n"
     ]
    },
    {
     "data": {
      "application/vnd.jupyter.widget-view+json": {
       "model_id": "fe7ebe26684a412bb99894ba89a0a81e",
       "version_major": 2,
       "version_minor": 0
      },
      "text/plain": [
       "Querying PM:   0%|          | 0/4 [00:00<?, ?it/s]"
      ]
     },
     "metadata": {},
     "output_type": "display_data"
    },
    {
     "name": "stdout",
     "output_type": "stream",
     "text": [
      "successfully downloaded: <class 'src.acquisitions.qh_pm.QH_PM'>\n",
      "\tQuerying PM event timestamps for system: QPS, className: DQAMCNMB_PMSTD, source: * from 2018-12-10 22:27:12.220 to 2018-12-10 22:36:22.220\n"
     ]
    },
    {
     "data": {
      "application/vnd.jupyter.widget-view+json": {
       "model_id": "7c7ca87295a749a9aab0d66adb81d66e",
       "version_major": 2,
       "version_minor": 0
      },
      "text/plain": [
       "Querying U, I Diode PM:   0%|          | 0/4 [00:00<?, ?it/s]"
      ]
     },
     "metadata": {},
     "output_type": "display_data"
    },
    {
     "name": "stdout",
     "output_type": "stream",
     "text": [
      "\tQuerying PM event timestamps for system: QPS, className: DQAMGNSRB_PMREL, source: B11L2 from 2018-12-10 22:18:02.181 to 2018-12-10 22:38:02.181\n",
      "\tQuerying PM event timestamps for system: QPS, className: DQAMGNSRB_PMREL, source: B10L2 from 2018-12-10 22:18:02.411 to 2018-12-10 22:38:02.411\n",
      "successfully downloaded: <class 'src.acquisitions.current_voltage_diode_leads_pm.CURRENT_VOLTAGE_DIODE_LEADS_PM'>\n",
      "\tQuerying PM event timestamps for system: QPS, className: DQAMCNMB_PMSTD, source: * from 2018-12-10 22:27:12.220 to 2018-12-10 22:33:52.220\n"
     ]
    },
    {
     "data": {
      "application/vnd.jupyter.widget-view+json": {
       "model_id": "ed0a7ce96a8f4b59a232927dc1d16b17",
       "version_major": 2,
       "version_minor": 0
      },
      "text/plain": [
       "Querying U, I Diode leads NXCALS:   0%|          | 0/4 [00:00<?, ?it/s]"
      ]
     },
     "metadata": {},
     "output_type": "display_data"
    },
    {
     "name": "stdout",
     "output_type": "stream",
     "text": [
      "successfully downloaded: <class 'src.acquisitions.current_voltage_diode_leads_nxcals.CURRENT_VOLTAGE_DIODE_LEADS_NXCALS'>\n",
      "\tQuerying PM event timestamps for system: QPS, className: DQAMGNDRBODD, DQAMGNDRBEVEN, source: RB.A12 from 2018-12-10 22:27:52.220 to 2018-12-10 22:34:42.220\n",
      "\tQuerying PM event signal(s) DFLAS.7R1.RB.A12.LD3:U_RES, DFLAS.7R1.RB.A12.LD4:U_HTS, DFLAS.7L2.RB.A12.LD1:U_HTS, DFLAS.7R1.RB.A12.LD3:U_HTS, DFLAS.7R1.RB.A12.LD4:U_RES... for system: RB.A12..., className: DQAMGNDRBODD, DQAMGNDRBEVEN..., source: QPS... at 2018-12-10 22:28:02.832\n"
     ]
    },
    {
     "name": "stderr",
     "output_type": "stream",
     "text": [
      "Post Mortem returned no data for the following query: http://pm-api-pro/v2/pmdata/signal?system=QPS&className=DQAMGNDRBEVEN&source=RB.A12&timestampInNanos=1544477282832000000&signal=DFLAS.7L2.RB.A12.LD1:U_HTS\n",
      "Post Mortem returned no data for the following query: http://pm-api-pro/v2/pmdata/signal?system=QPS&className=DQAMGNDRBEVEN&source=RB.A12&timestampInNanos=1544477282832000000&signal=DFLAS.7L2.RB.A12.LD2:U_HTS\n",
      "Post Mortem returned no data for the following query: http://pm-api-pro/v2/pmdata/signal?system=QPS&className=DQAMGNDRBEVEN&source=RB.A12&timestampInNanos=1544477282832000000&signal=DFLAS.7L2.RB.A12.LD1:U_RES\n",
      "Post Mortem returned no data for the following query: http://pm-api-pro/v2/pmdata/signal?system=QPS&className=DQAMGNDRBEVEN&source=RB.A12&timestampInNanos=1544477282832000000&signal=DFLAS.7L2.RB.A12.LD2:U_RES\n"
     ]
    },
    {
     "name": "stdout",
     "output_type": "stream",
     "text": [
      "successfully downloaded: <class 'src.acquisitions.leads.LEADS'>\n",
      "\tQuerying PM event signal(s) IAB.I_A, STATUS.I_EARTH_PCNT, STATUS.I_MEAS, STATUS.I_REF, IEARTH.IEARTH for system: RPTE.UA23.RB.A12, className: 51_self_pmd, source: FGC at 2018-12-11 09:40:31.800\n",
      "successfully downloaded: <class 'src.acquisitions.pc_pm.PC_PM'>\n",
      "\tQuerying PM event timestamps for system: QPS, className: DQAMSNRB, source: RR17.RB.A12, UA23.RB.A12 from 2018-12-11 09:40:21.800 to 2018-12-11 09:57:11.800\n",
      "\tQuerying PM event signal(s) RR17.RB.A12:U_DUMP_RES, UA23.RB.A12:U_DUMP_RES for system: RR17.RB.A12, UA23.RB.A12, className: DQAMSNRB, source: QPS at 2018-12-11 09:40:31.858\n"
     ]
    },
    {
     "name": "stderr",
     "output_type": "stream",
     "text": [
      "Post Mortem returned no data for the following query: http://pm-api-pro/v2/pmdata/signal?system=QPS&className=DQAMSNRB&source=UA23.RB.A12&timestampInNanos=1544517631858000000&signal=UA23.RB.A12:U_DUMP_RES\n"
     ]
    },
    {
     "name": "stdout",
     "output_type": "stream",
     "text": [
      "successfully downloaded: <class 'src.acquisitions.ee_u_dump_res_pm.EE_U_DUMP_RES_PM'>\n",
      "\tQuerying PM event timestamps for system: QPS, className: DQAMSNRB, source: RR17.RB.A12, UA23.RB.A12 from 2018-12-11 09:40:21.800 to 2018-12-11 09:57:11.800\n",
      "\tQuerying PM event signal(s) UA23.RB.A12:T_RES_BODY_2, RR17.RB.A12:T_RES_BODY_2, UA23.RB.A12:T_RES_BODY_1, RR17.RB.A12:T_RES_BODY_1, RR17.RB.A12:T_RES_BODY_3... for system: RR17.RB.A12, UA23.RB.A12..., className: DQAMSNRB..., source: QPS... at 2018-12-11 09:40:31.858\n"
     ]
    },
    {
     "name": "stderr",
     "output_type": "stream",
     "text": [
      "Post Mortem returned no data for the following query: http://pm-api-pro/v2/pmdata/signal?system=QPS&className=DQAMSNRB&source=UA23.RB.A12&timestampInNanos=1544517631858000000&signal=UA23.RB.A12:T_RES_BODY_1\n",
      "Post Mortem returned no data for the following query: http://pm-api-pro/v2/pmdata/signal?system=QPS&className=DQAMSNRB&source=UA23.RB.A12&timestampInNanos=1544517631858000000&signal=UA23.RB.A12:T_RES_BODY_2\n",
      "Post Mortem returned no data for the following query: http://pm-api-pro/v2/pmdata/signal?system=QPS&className=DQAMSNRB&source=UA23.RB.A12&timestampInNanos=1544517631858000000&signal=UA23.RB.A12:T_RES_BODY_3\n"
     ]
    },
    {
     "name": "stdout",
     "output_type": "stream",
     "text": [
      "successfully downloaded: <class 'src.acquisitions.ee_t_res_pm.EE_T_RES_PM'>\n",
      "\tQuerying NXCALS signal(s) MB.A10R1:U_DIODE_RB, MB.A9R1:U_DIODE_RB, MB.B9R1:U_DIODE_RB, MB.A8R1:U_DIODE_RB, MB.B8R1:U_DIODE_RB... from 2018-12-11 09:39:41.800 to 2018-12-11 09:48:51.800\n",
      "\tQuerying NXCALS signal(s) MB.C12R1:U_EARTH_RB, MB.B8R1:U_EARTH_RB, MB.B11R1:U_EARTH_RB, MB.A8R1:U_EARTH_RB, MB.A10R1:U_EARTH_RB... from 2018-12-11 09:39:41.800 to 2018-12-11 09:48:51.800\n",
      "successfully downloaded: <class 'src.acquisitions.voltage_nxcals.VOLTAGE_NXCALS'>\n",
      "\tQuerying PM event timestamps for system: QPS, className: DQAMCNMB_PMSTD, source: * from 2018-12-11 09:39:41.800 to 2018-12-11 09:48:51.800\n"
     ]
    },
    {
     "data": {
      "application/vnd.jupyter.widget-view+json": {
       "model_id": "0530860d2ebd497583d0037e0b5568f5",
       "version_major": 2,
       "version_minor": 0
      },
      "text/plain": [
       "Querying iQPS logic PM:   0%|          | 0/5 [00:00<?, ?it/s]"
      ]
     },
     "metadata": {},
     "output_type": "display_data"
    },
    {
     "name": "stdout",
     "output_type": "stream",
     "text": [
      "successfully downloaded: <class 'src.acquisitions.voltage_logic_iqps.VOLTAGE_LOGIC_IQPS'>\n",
      "\tQuerying PM event timestamps for system: QPS, className: DQAMCNMB_PMSTD, source: * from 2018-12-11 09:39:41.800 to 2018-12-11 09:48:51.800\n",
      "\tQuerying PM event timestamps for system: QPS, className: DQAMGNSRB_PMREL, source: * from 2018-12-11 09:40:21.800 to 2018-12-11 09:47:11.800\n"
     ]
    },
    {
     "data": {
      "application/vnd.jupyter.widget-view+json": {
       "model_id": "09f43daa73d54e44a27898f4d8bdff10",
       "version_major": 2,
       "version_minor": 0
      },
      "text/plain": [
       "Querying PM/NXCALS U_DIODE_RB, U_REF_N1:   0%|          | 0/5 [00:00<?, ?it/s]"
      ]
     },
     "metadata": {},
     "output_type": "display_data"
    },
    {
     "data": {
      "application/vnd.jupyter.widget-view+json": {
       "model_id": "26e4dd626e384536a28c9e3608500032",
       "version_major": 2,
       "version_minor": 0
      },
      "text/plain": [
       "Querying PM/NXCALS U_DIODE_RB, U_REF_N1:   0%|          | 0/5 [00:00<?, ?it/s]"
      ]
     },
     "metadata": {},
     "output_type": "display_data"
    },
    {
     "name": "stdout",
     "output_type": "stream",
     "text": [
      "successfully downloaded: <class 'src.acquisitions.voltage_logic_nqps.VOLTAGE_LOGIC_NQPS'>\n",
      "\tQuerying PM event timestamps for system: QPS, className: DQAMCNMB_PMHSU, source: * from 2018-12-11 09:40:21.800 to 2018-12-11 09:48:51.800\n"
     ]
    },
    {
     "data": {
      "application/vnd.jupyter.widget-view+json": {
       "model_id": "f05fd14666ff4484beeac9a9077cafc8",
       "version_major": 2,
       "version_minor": 0
      },
      "text/plain": [
       "Querying PM:   0%|          | 0/5 [00:00<?, ?it/s]"
      ]
     },
     "metadata": {},
     "output_type": "display_data"
    },
    {
     "name": "stdout",
     "output_type": "stream",
     "text": [
      "successfully downloaded: <class 'src.acquisitions.qh_pm.QH_PM'>\n",
      "\tQuerying PM event timestamps for system: QPS, className: DQAMCNMB_PMSTD, source: * from 2018-12-11 09:39:41.800 to 2018-12-11 09:48:51.800\n"
     ]
    },
    {
     "data": {
      "application/vnd.jupyter.widget-view+json": {
       "model_id": "bc059f42105d4d2bab8c10db5826e2dc",
       "version_major": 2,
       "version_minor": 0
      },
      "text/plain": [
       "Querying U, I Diode PM:   0%|          | 0/5 [00:00<?, ?it/s]"
      ]
     },
     "metadata": {},
     "output_type": "display_data"
    },
    {
     "name": "stdout",
     "output_type": "stream",
     "text": [
      "\tQuerying PM event timestamps for system: QPS, className: DQAMGNSRB_PMREL, source: B30L2 from 2018-12-11 09:30:31.756 to 2018-12-11 09:50:31.756\n",
      "successfully downloaded: <class 'src.acquisitions.current_voltage_diode_leads_pm.CURRENT_VOLTAGE_DIODE_LEADS_PM'>\n",
      "\tQuerying PM event timestamps for system: QPS, className: DQAMCNMB_PMSTD, source: * from 2018-12-11 09:39:41.800 to 2018-12-11 09:46:21.800\n"
     ]
    },
    {
     "data": {
      "application/vnd.jupyter.widget-view+json": {
       "model_id": "337b2c7ca43845c6936a6f0e3a55e1a2",
       "version_major": 2,
       "version_minor": 0
      },
      "text/plain": [
       "Querying U, I Diode leads NXCALS:   0%|          | 0/5 [00:00<?, ?it/s]"
      ]
     },
     "metadata": {},
     "output_type": "display_data"
    },
    {
     "name": "stdout",
     "output_type": "stream",
     "text": [
      "successfully downloaded: <class 'src.acquisitions.current_voltage_diode_leads_nxcals.CURRENT_VOLTAGE_DIODE_LEADS_NXCALS'>\n",
      "\tQuerying PM event timestamps for system: QPS, className: DQAMGNDRBODD, DQAMGNDRBEVEN, source: RB.A12 from 2018-12-11 09:40:21.800 to 2018-12-11 09:47:11.800\n",
      "\tQuerying PM event signal(s) DFLAS.7R1.RB.A12.LD3:U_RES, DFLAS.7R1.RB.A12.LD4:U_HTS, DFLAS.7L2.RB.A12.LD1:U_HTS, DFLAS.7R1.RB.A12.LD3:U_HTS, DFLAS.7R1.RB.A12.LD4:U_RES... for system: RB.A12..., className: DQAMGNDRBODD, DQAMGNDRBEVEN..., source: QPS... at 2018-12-11 09:40:32.413\n"
     ]
    },
    {
     "name": "stderr",
     "output_type": "stream",
     "text": [
      "Post Mortem returned no data for the following query: http://pm-api-pro/v2/pmdata/signal?system=QPS&className=DQAMGNDRBEVEN&source=RB.A12&timestampInNanos=1544517632413000000&signal=DFLAS.7L2.RB.A12.LD1:U_HTS\n",
      "Post Mortem returned no data for the following query: http://pm-api-pro/v2/pmdata/signal?system=QPS&className=DQAMGNDRBEVEN&source=RB.A12&timestampInNanos=1544517632413000000&signal=DFLAS.7L2.RB.A12.LD2:U_HTS\n",
      "Post Mortem returned no data for the following query: http://pm-api-pro/v2/pmdata/signal?system=QPS&className=DQAMGNDRBEVEN&source=RB.A12&timestampInNanos=1544517632413000000&signal=DFLAS.7L2.RB.A12.LD1:U_RES\n",
      "Post Mortem returned no data for the following query: http://pm-api-pro/v2/pmdata/signal?system=QPS&className=DQAMGNDRBEVEN&source=RB.A12&timestampInNanos=1544517632413000000&signal=DFLAS.7L2.RB.A12.LD2:U_RES\n"
     ]
    },
    {
     "name": "stdout",
     "output_type": "stream",
     "text": [
      "successfully downloaded: <class 'src.acquisitions.leads.LEADS'>\n",
      "\tQuerying PM event signal(s) IAB.I_A, STATUS.I_EARTH_PCNT, STATUS.I_MEAS, STATUS.I_REF, IEARTH.IEARTH for system: RPTE.UA23.RB.A12, className: 51_self_pmd, source: FGC at 2018-12-11 21:08:14\n",
      "successfully downloaded: <class 'src.acquisitions.pc_pm.PC_PM'>\n",
      "\tQuerying PM event timestamps for system: QPS, className: DQAMSNRB, source: RR17.RB.A12, UA23.RB.A12 from 2018-12-11 21:08:04 to 2018-12-11 21:24:54\n",
      "\tQuerying PM event signal(s) RR17.RB.A12:U_DUMP_RES, UA23.RB.A12:U_DUMP_RES for system: RR17.RB.A12, UA23.RB.A12, className: DQAMSNRB, source: QPS at 2018-12-11 21:08:14.060\n"
     ]
    },
    {
     "name": "stderr",
     "output_type": "stream",
     "text": [
      "Post Mortem returned no data for the following query: http://pm-api-pro/v2/pmdata/signal?system=QPS&className=DQAMSNRB&source=UA23.RB.A12&timestampInNanos=1544558894060000000&signal=UA23.RB.A12:U_DUMP_RES\n"
     ]
    },
    {
     "name": "stdout",
     "output_type": "stream",
     "text": [
      "successfully downloaded: <class 'src.acquisitions.ee_u_dump_res_pm.EE_U_DUMP_RES_PM'>\n",
      "\tQuerying PM event timestamps for system: QPS, className: DQAMSNRB, source: RR17.RB.A12, UA23.RB.A12 from 2018-12-11 21:08:04 to 2018-12-11 21:24:54\n",
      "\tQuerying PM event signal(s) UA23.RB.A12:T_RES_BODY_2, RR17.RB.A12:T_RES_BODY_2, UA23.RB.A12:T_RES_BODY_1, RR17.RB.A12:T_RES_BODY_1, RR17.RB.A12:T_RES_BODY_3... for system: RR17.RB.A12, UA23.RB.A12..., className: DQAMSNRB..., source: QPS... at 2018-12-11 21:08:14.060\n"
     ]
    },
    {
     "name": "stderr",
     "output_type": "stream",
     "text": [
      "Post Mortem returned no data for the following query: http://pm-api-pro/v2/pmdata/signal?system=QPS&className=DQAMSNRB&source=UA23.RB.A12&timestampInNanos=1544558894060000000&signal=UA23.RB.A12:T_RES_BODY_1\n",
      "Post Mortem returned no data for the following query: http://pm-api-pro/v2/pmdata/signal?system=QPS&className=DQAMSNRB&source=UA23.RB.A12&timestampInNanos=1544558894060000000&signal=UA23.RB.A12:T_RES_BODY_2\n",
      "Post Mortem returned no data for the following query: http://pm-api-pro/v2/pmdata/signal?system=QPS&className=DQAMSNRB&source=UA23.RB.A12&timestampInNanos=1544558894060000000&signal=UA23.RB.A12:T_RES_BODY_3\n"
     ]
    },
    {
     "name": "stdout",
     "output_type": "stream",
     "text": [
      "successfully downloaded: <class 'src.acquisitions.ee_t_res_pm.EE_T_RES_PM'>\n",
      "\tQuerying NXCALS signal(s) MB.A10R1:U_DIODE_RB, MB.A9R1:U_DIODE_RB, MB.B9R1:U_DIODE_RB, MB.A8R1:U_DIODE_RB, MB.B8R1:U_DIODE_RB... from 2018-12-11 21:07:24 to 2018-12-11 21:16:34\n",
      "\tQuerying NXCALS signal(s) MB.C12R1:U_EARTH_RB, MB.B8R1:U_EARTH_RB, MB.B11R1:U_EARTH_RB, MB.A8R1:U_EARTH_RB, MB.A10R1:U_EARTH_RB... from 2018-12-11 21:07:24 to 2018-12-11 21:16:34\n",
      "successfully downloaded: <class 'src.acquisitions.voltage_nxcals.VOLTAGE_NXCALS'>\n",
      "\tQuerying PM event timestamps for system: QPS, className: DQAMCNMB_PMSTD, source: * from 2018-12-11 21:07:24 to 2018-12-11 21:16:34\n"
     ]
    },
    {
     "data": {
      "application/vnd.jupyter.widget-view+json": {
       "model_id": "9bd2965b45724f008f73b6686e6145dd",
       "version_major": 2,
       "version_minor": 0
      },
      "text/plain": [
       "Querying iQPS logic PM:   0%|          | 0/6 [00:00<?, ?it/s]"
      ]
     },
     "metadata": {},
     "output_type": "display_data"
    },
    {
     "name": "stdout",
     "output_type": "stream",
     "text": [
      "successfully downloaded: <class 'src.acquisitions.voltage_logic_iqps.VOLTAGE_LOGIC_IQPS'>\n",
      "\tQuerying PM event timestamps for system: QPS, className: DQAMCNMB_PMSTD, source: * from 2018-12-11 21:07:24 to 2018-12-11 21:16:34\n",
      "\tQuerying PM event timestamps for system: QPS, className: DQAMGNSRB_PMREL, source: * from 2018-12-11 21:08:04 to 2018-12-11 21:14:54\n"
     ]
    },
    {
     "data": {
      "application/vnd.jupyter.widget-view+json": {
       "model_id": "397cab9836c44f5facaa4d7d2a4e91ee",
       "version_major": 2,
       "version_minor": 0
      },
      "text/plain": [
       "Querying PM/NXCALS U_DIODE_RB, U_REF_N1:   0%|          | 0/6 [00:00<?, ?it/s]"
      ]
     },
     "metadata": {},
     "output_type": "display_data"
    },
    {
     "data": {
      "application/vnd.jupyter.widget-view+json": {
       "model_id": "ad6d6c207aa74cb48d014b5e97ef75ee",
       "version_major": 2,
       "version_minor": 0
      },
      "text/plain": [
       "Querying PM/NXCALS U_DIODE_RB, U_REF_N1:   0%|          | 0/6 [00:00<?, ?it/s]"
      ]
     },
     "metadata": {},
     "output_type": "display_data"
    },
    {
     "name": "stdout",
     "output_type": "stream",
     "text": [
      "successfully downloaded: <class 'src.acquisitions.voltage_logic_nqps.VOLTAGE_LOGIC_NQPS'>\n",
      "\tQuerying PM event timestamps for system: QPS, className: DQAMCNMB_PMHSU, source: * from 2018-12-11 21:08:04 to 2018-12-11 21:16:34\n"
     ]
    },
    {
     "data": {
      "application/vnd.jupyter.widget-view+json": {
       "model_id": "fba95978a2a242f08e4705d528612771",
       "version_major": 2,
       "version_minor": 0
      },
      "text/plain": [
       "Querying PM:   0%|          | 0/6 [00:00<?, ?it/s]"
      ]
     },
     "metadata": {},
     "output_type": "display_data"
    },
    {
     "name": "stdout",
     "output_type": "stream",
     "text": [
      "successfully downloaded: <class 'src.acquisitions.qh_pm.QH_PM'>\n",
      "\tQuerying PM event timestamps for system: QPS, className: DQAMCNMB_PMSTD, source: * from 2018-12-11 21:07:24 to 2018-12-11 21:16:34\n"
     ]
    },
    {
     "data": {
      "application/vnd.jupyter.widget-view+json": {
       "model_id": "a0d5cdda57f1482da92075ce56d18d2c",
       "version_major": 2,
       "version_minor": 0
      },
      "text/plain": [
       "Querying U, I Diode PM:   0%|          | 0/6 [00:00<?, ?it/s]"
      ]
     },
     "metadata": {},
     "output_type": "display_data"
    },
    {
     "name": "stdout",
     "output_type": "stream",
     "text": [
      "\tQuerying PM event timestamps for system: QPS, className: DQAMGNSRB_PMREL, source: B10R1 from 2018-12-11 20:58:13.957 to 2018-12-11 21:18:13.957\n",
      "\tQuerying PM event timestamps for system: QPS, className: DQAMGNSRB_PMREL, source: B11R1 from 2018-12-11 20:58:14.144 to 2018-12-11 21:18:14.144\n",
      "\tQuerying PM event timestamps for system: QPS, className: DQAMGNSRB_PMREL, source: B11R1 from 2018-12-11 20:58:14.375 to 2018-12-11 21:18:14.375\n",
      "successfully downloaded: <class 'src.acquisitions.current_voltage_diode_leads_pm.CURRENT_VOLTAGE_DIODE_LEADS_PM'>\n",
      "\tQuerying PM event timestamps for system: QPS, className: DQAMCNMB_PMSTD, source: * from 2018-12-11 21:07:24 to 2018-12-11 21:14:04\n"
     ]
    },
    {
     "data": {
      "application/vnd.jupyter.widget-view+json": {
       "model_id": "351c10daa4964b59a6c3fd9cd87945e2",
       "version_major": 2,
       "version_minor": 0
      },
      "text/plain": [
       "Querying U, I Diode leads NXCALS:   0%|          | 0/6 [00:00<?, ?it/s]"
      ]
     },
     "metadata": {},
     "output_type": "display_data"
    },
    {
     "name": "stdout",
     "output_type": "stream",
     "text": [
      "successfully downloaded: <class 'src.acquisitions.current_voltage_diode_leads_nxcals.CURRENT_VOLTAGE_DIODE_LEADS_NXCALS'>\n",
      "\tQuerying PM event timestamps for system: QPS, className: DQAMGNDRBODD, DQAMGNDRBEVEN, source: RB.A12 from 2018-12-11 21:08:04 to 2018-12-11 21:14:54\n",
      "\tQuerying PM event signal(s) DFLAS.7R1.RB.A12.LD3:U_RES, DFLAS.7R1.RB.A12.LD4:U_HTS, DFLAS.7L2.RB.A12.LD1:U_HTS, DFLAS.7R1.RB.A12.LD3:U_HTS, DFLAS.7R1.RB.A12.LD4:U_RES... for system: RB.A12..., className: DQAMGNDRBODD, DQAMGNDRBEVEN..., source: QPS... at 2018-12-11 21:08:14.812\n"
     ]
    },
    {
     "name": "stderr",
     "output_type": "stream",
     "text": [
      "Post Mortem returned no data for the following query: http://pm-api-pro/v2/pmdata/signal?system=QPS&className=DQAMGNDRBEVEN&source=RB.A12&timestampInNanos=1544558894812000000&signal=DFLAS.7L2.RB.A12.LD1:U_HTS\n",
      "Post Mortem returned no data for the following query: http://pm-api-pro/v2/pmdata/signal?system=QPS&className=DQAMGNDRBEVEN&source=RB.A12&timestampInNanos=1544558894812000000&signal=DFLAS.7L2.RB.A12.LD2:U_HTS\n",
      "Post Mortem returned no data for the following query: http://pm-api-pro/v2/pmdata/signal?system=QPS&className=DQAMGNDRBEVEN&source=RB.A12&timestampInNanos=1544558894812000000&signal=DFLAS.7L2.RB.A12.LD1:U_RES\n",
      "Post Mortem returned no data for the following query: http://pm-api-pro/v2/pmdata/signal?system=QPS&className=DQAMGNDRBEVEN&source=RB.A12&timestampInNanos=1544558894812000000&signal=DFLAS.7L2.RB.A12.LD2:U_RES\n"
     ]
    },
    {
     "name": "stdout",
     "output_type": "stream",
     "text": [
      "successfully downloaded: <class 'src.acquisitions.leads.LEADS'>\n",
      "\tQuerying PM event signal(s) IAB.I_A, STATUS.I_EARTH_PCNT, STATUS.I_MEAS, STATUS.I_REF, IEARTH.IEARTH for system: RPTE.UA23.RB.A12, className: 51_self_pmd, source: FGC at 2018-12-12 17:21:34.840\n",
      "successfully downloaded: <class 'src.acquisitions.pc_pm.PC_PM'>\n",
      "\tQuerying PM event timestamps for system: QPS, className: DQAMSNRB, source: RR17.RB.A12, UA23.RB.A12 from 2018-12-12 17:21:24.840 to 2018-12-12 17:38:14.840\n",
      "\tQuerying PM event signal(s) RR17.RB.A12:U_DUMP_RES, UA23.RB.A12:U_DUMP_RES for system: RR17.RB.A12, UA23.RB.A12, className: DQAMSNRB, source: QPS at 2018-12-12 17:21:34.896\n"
     ]
    },
    {
     "name": "stderr",
     "output_type": "stream",
     "text": [
      "Post Mortem returned no data for the following query: http://pm-api-pro/v2/pmdata/signal?system=QPS&className=DQAMSNRB&source=UA23.RB.A12&timestampInNanos=1544631694896000000&signal=UA23.RB.A12:U_DUMP_RES\n"
     ]
    },
    {
     "name": "stdout",
     "output_type": "stream",
     "text": [
      "successfully downloaded: <class 'src.acquisitions.ee_u_dump_res_pm.EE_U_DUMP_RES_PM'>\n",
      "\tQuerying PM event timestamps for system: QPS, className: DQAMSNRB, source: RR17.RB.A12, UA23.RB.A12 from 2018-12-12 17:21:24.840 to 2018-12-12 17:38:14.840\n",
      "\tQuerying PM event signal(s) UA23.RB.A12:T_RES_BODY_2, RR17.RB.A12:T_RES_BODY_2, UA23.RB.A12:T_RES_BODY_1, RR17.RB.A12:T_RES_BODY_1, RR17.RB.A12:T_RES_BODY_3... for system: RR17.RB.A12, UA23.RB.A12..., className: DQAMSNRB..., source: QPS... at 2018-12-12 17:21:34.896\n"
     ]
    },
    {
     "name": "stderr",
     "output_type": "stream",
     "text": [
      "Post Mortem returned no data for the following query: http://pm-api-pro/v2/pmdata/signal?system=QPS&className=DQAMSNRB&source=UA23.RB.A12&timestampInNanos=1544631694896000000&signal=UA23.RB.A12:T_RES_BODY_1\n",
      "Post Mortem returned no data for the following query: http://pm-api-pro/v2/pmdata/signal?system=QPS&className=DQAMSNRB&source=UA23.RB.A12&timestampInNanos=1544631694896000000&signal=UA23.RB.A12:T_RES_BODY_2\n",
      "Post Mortem returned no data for the following query: http://pm-api-pro/v2/pmdata/signal?system=QPS&className=DQAMSNRB&source=UA23.RB.A12&timestampInNanos=1544631694896000000&signal=UA23.RB.A12:T_RES_BODY_3\n"
     ]
    },
    {
     "name": "stdout",
     "output_type": "stream",
     "text": [
      "successfully downloaded: <class 'src.acquisitions.ee_t_res_pm.EE_T_RES_PM'>\n",
      "\tQuerying NXCALS signal(s) MB.A10R1:U_DIODE_RB, MB.A9R1:U_DIODE_RB, MB.B9R1:U_DIODE_RB, MB.A8R1:U_DIODE_RB, MB.B8R1:U_DIODE_RB... from 2018-12-12 17:20:44.840 to 2018-12-12 17:29:54.840\n",
      "\tQuerying NXCALS signal(s) MB.C12R1:U_EARTH_RB, MB.B8R1:U_EARTH_RB, MB.B11R1:U_EARTH_RB, MB.A8R1:U_EARTH_RB, MB.A10R1:U_EARTH_RB... from 2018-12-12 17:20:44.840 to 2018-12-12 17:29:54.840\n",
      "successfully downloaded: <class 'src.acquisitions.voltage_nxcals.VOLTAGE_NXCALS'>\n",
      "\tQuerying PM event timestamps for system: QPS, className: DQAMCNMB_PMSTD, source: * from 2018-12-12 17:20:44.840 to 2018-12-12 17:29:54.840\n"
     ]
    },
    {
     "data": {
      "application/vnd.jupyter.widget-view+json": {
       "model_id": "6c7fbe9215594fca93209133dda85420",
       "version_major": 2,
       "version_minor": 0
      },
      "text/plain": [
       "Querying iQPS logic PM:   0%|          | 0/9 [00:00<?, ?it/s]"
      ]
     },
     "metadata": {},
     "output_type": "display_data"
    },
    {
     "name": "stdout",
     "output_type": "stream",
     "text": [
      "successfully downloaded: <class 'src.acquisitions.voltage_logic_iqps.VOLTAGE_LOGIC_IQPS'>\n",
      "\tQuerying PM event timestamps for system: QPS, className: DQAMCNMB_PMSTD, source: * from 2018-12-12 17:20:44.840 to 2018-12-12 17:29:54.840\n",
      "\tQuerying PM event timestamps for system: QPS, className: DQAMGNSRB_PMREL, source: * from 2018-12-12 17:21:24.840 to 2018-12-12 17:28:14.840\n"
     ]
    },
    {
     "data": {
      "application/vnd.jupyter.widget-view+json": {
       "model_id": "4b3d3ff54ae34f019e1badde3b338c06",
       "version_major": 2,
       "version_minor": 0
      },
      "text/plain": [
       "Querying PM/NXCALS U_DIODE_RB, U_REF_N1:   0%|          | 0/9 [00:00<?, ?it/s]"
      ]
     },
     "metadata": {},
     "output_type": "display_data"
    },
    {
     "data": {
      "application/vnd.jupyter.widget-view+json": {
       "model_id": "d016ce877b20408dbaccdf5a21aa95ea",
       "version_major": 2,
       "version_minor": 0
      },
      "text/plain": [
       "Querying PM/NXCALS U_DIODE_RB, U_REF_N1:   0%|          | 0/9 [00:00<?, ?it/s]"
      ]
     },
     "metadata": {},
     "output_type": "display_data"
    },
    {
     "name": "stdout",
     "output_type": "stream",
     "text": [
      "successfully downloaded: <class 'src.acquisitions.voltage_logic_nqps.VOLTAGE_LOGIC_NQPS'>\n",
      "\tQuerying PM event timestamps for system: QPS, className: DQAMCNMB_PMHSU, source: * from 2018-12-12 17:21:24.840 to 2018-12-12 17:29:54.840\n"
     ]
    },
    {
     "data": {
      "application/vnd.jupyter.widget-view+json": {
       "model_id": "5a23438fd2ae4409b854eeb8340372b6",
       "version_major": 2,
       "version_minor": 0
      },
      "text/plain": [
       "Querying PM:   0%|          | 0/9 [00:00<?, ?it/s]"
      ]
     },
     "metadata": {},
     "output_type": "display_data"
    },
    {
     "name": "stdout",
     "output_type": "stream",
     "text": [
      "successfully downloaded: <class 'src.acquisitions.qh_pm.QH_PM'>\n",
      "\tQuerying PM event timestamps for system: QPS, className: DQAMCNMB_PMSTD, source: * from 2018-12-12 17:20:44.840 to 2018-12-12 17:29:54.840\n"
     ]
    },
    {
     "data": {
      "application/vnd.jupyter.widget-view+json": {
       "model_id": "682639572848426d8abc1755c76f5f59",
       "version_major": 2,
       "version_minor": 0
      },
      "text/plain": [
       "Querying U, I Diode PM:   0%|          | 0/9 [00:00<?, ?it/s]"
      ]
     },
     "metadata": {},
     "output_type": "display_data"
    },
    {
     "name": "stdout",
     "output_type": "stream",
     "text": [
      "\tQuerying PM event timestamps for system: QPS, className: DQAMGNSRB_PMREL, source: B31R1 from 2018-12-12 17:11:34.792 to 2018-12-12 17:31:34.792\n",
      "\tQuerying PM event timestamps for system: QPS, className: DQAMGNSRB_PMREL, source: B31R1 from 2018-12-12 17:11:35.256 to 2018-12-12 17:31:35.256\n",
      "\tQuerying PM event timestamps for system: QPS, className: DQAMGNSRB_PMREL, source: B11R1 from 2018-12-12 17:11:35.370 to 2018-12-12 17:31:35.370\n",
      "successfully downloaded: <class 'src.acquisitions.current_voltage_diode_leads_pm.CURRENT_VOLTAGE_DIODE_LEADS_PM'>\n",
      "\tQuerying PM event timestamps for system: QPS, className: DQAMCNMB_PMSTD, source: * from 2018-12-12 17:20:44.840 to 2018-12-12 17:27:24.840\n"
     ]
    },
    {
     "data": {
      "application/vnd.jupyter.widget-view+json": {
       "model_id": "195d4bfeb3ed49138f60bcd4ad14ee87",
       "version_major": 2,
       "version_minor": 0
      },
      "text/plain": [
       "Querying U, I Diode leads NXCALS:   0%|          | 0/9 [00:00<?, ?it/s]"
      ]
     },
     "metadata": {},
     "output_type": "display_data"
    },
    {
     "name": "stdout",
     "output_type": "stream",
     "text": [
      "successfully downloaded: <class 'src.acquisitions.current_voltage_diode_leads_nxcals.CURRENT_VOLTAGE_DIODE_LEADS_NXCALS'>\n",
      "\tQuerying PM event timestamps for system: QPS, className: DQAMGNDRBODD, DQAMGNDRBEVEN, source: RB.A12 from 2018-12-12 17:21:24.840 to 2018-12-12 17:28:14.840\n",
      "\tQuerying PM event signal(s) DFLAS.7R1.RB.A12.LD3:U_RES, DFLAS.7R1.RB.A12.LD4:U_HTS, DFLAS.7L2.RB.A12.LD1:U_HTS, DFLAS.7R1.RB.A12.LD3:U_HTS, DFLAS.7R1.RB.A12.LD4:U_RES... for system: RB.A12..., className: DQAMGNDRBODD, DQAMGNDRBEVEN..., source: QPS... at 2018-12-12 17:21:35.407\n"
     ]
    },
    {
     "name": "stderr",
     "output_type": "stream",
     "text": [
      "Post Mortem returned no data for the following query: http://pm-api-pro/v2/pmdata/signal?system=QPS&className=DQAMGNDRBEVEN&source=RB.A12&timestampInNanos=1544631695407000000&signal=DFLAS.7L2.RB.A12.LD1:U_HTS\n",
      "Post Mortem returned no data for the following query: http://pm-api-pro/v2/pmdata/signal?system=QPS&className=DQAMGNDRBEVEN&source=RB.A12&timestampInNanos=1544631695407000000&signal=DFLAS.7L2.RB.A12.LD2:U_HTS\n",
      "Post Mortem returned no data for the following query: http://pm-api-pro/v2/pmdata/signal?system=QPS&className=DQAMGNDRBEVEN&source=RB.A12&timestampInNanos=1544631695407000000&signal=DFLAS.7L2.RB.A12.LD1:U_RES\n",
      "Post Mortem returned no data for the following query: http://pm-api-pro/v2/pmdata/signal?system=QPS&className=DQAMGNDRBEVEN&source=RB.A12&timestampInNanos=1544631695407000000&signal=DFLAS.7L2.RB.A12.LD2:U_RES\n"
     ]
    },
    {
     "name": "stdout",
     "output_type": "stream",
     "text": [
      "successfully downloaded: <class 'src.acquisitions.leads.LEADS'>\n",
      "\tQuerying PM event signal(s) IAB.I_A, STATUS.I_EARTH_PCNT, STATUS.I_MEAS, STATUS.I_REF, IEARTH.IEARTH for system: RPTE.UA27.RB.A23, className: 51_self_pmd, source: FGC at 2015-02-14 14:46:13.720\n",
      "successfully downloaded: <class 'src.acquisitions.pc_pm.PC_PM'>\n",
      "\tQuerying PM event timestamps for system: QPS, className: DQAMSNRB, source: UJ33.RB.A23, UA27.RB.A23 from 2015-02-14 14:46:03.720 to 2015-02-14 15:02:53.720\n",
      "\tQuerying PM event signal(s) UA27.RB.A23:U_DUMP_RES, UJ33.RB.A23:U_DUMP_RES for system: UJ33.RB.A23, UA27.RB.A23, className: DQAMSNRB, source: QPS at 2015-02-14 14:46:14.020\n"
     ]
    },
    {
     "name": "stderr",
     "output_type": "stream",
     "text": [
      "Post Mortem returned no data for the following query: http://pm-api-pro/v2/pmdata/signal?system=QPS&className=DQAMSNRB&source=UA27.RB.A23&timestampInNanos=1423921574020000000&signal=UA27.RB.A23:U_DUMP_RES\n"
     ]
    },
    {
     "name": "stdout",
     "output_type": "stream",
     "text": [
      "successfully downloaded: <class 'src.acquisitions.ee_u_dump_res_pm.EE_U_DUMP_RES_PM'>\n",
      "\tQuerying PM event timestamps for system: QPS, className: DQAMSNRB, source: UJ33.RB.A23, UA27.RB.A23 from 2015-02-14 14:46:03.720 to 2015-02-14 15:02:53.720\n",
      "\tQuerying PM event signal(s) UJ33.RB.A23:T_RES_BODY_2, UJ33.RB.A23:T_RES_BODY_3, UJ33.RB.A23:T_RES_BODY_1, UA27.RB.A23:T_RES_BODY_1, UA27.RB.A23:T_RES_BODY_2... for system: UJ33.RB.A23, UA27.RB.A23..., className: DQAMSNRB..., source: QPS... at 2015-02-14 14:46:14.020\n"
     ]
    },
    {
     "name": "stderr",
     "output_type": "stream",
     "text": [
      "Post Mortem returned no data for the following query: http://pm-api-pro/v2/pmdata/signal?system=QPS&className=DQAMSNRB&source=UA27.RB.A23&timestampInNanos=1423921574020000000&signal=UA27.RB.A23:T_RES_BODY_1\n",
      "Post Mortem returned no data for the following query: http://pm-api-pro/v2/pmdata/signal?system=QPS&className=DQAMSNRB&source=UA27.RB.A23&timestampInNanos=1423921574020000000&signal=UA27.RB.A23:T_RES_BODY_2\n",
      "Post Mortem returned no data for the following query: http://pm-api-pro/v2/pmdata/signal?system=QPS&className=DQAMSNRB&source=UA27.RB.A23&timestampInNanos=1423921574020000000&signal=UA27.RB.A23:T_RES_BODY_3\n"
     ]
    },
    {
     "name": "stdout",
     "output_type": "stream",
     "text": [
      "successfully downloaded: <class 'src.acquisitions.ee_t_res_pm.EE_T_RES_PM'>\n",
      "\tQuerying NXCALS signal(s) MB.A8R2:U_DIODE_RB, MB.A9R2:U_DIODE_RB, MB.B9R2:U_DIODE_RB, MB.A10R2:U_DIODE_RB, MB.B8R2:U_DIODE_RB... from 2015-02-14 14:45:23.720 to 2015-02-14 14:54:33.720\n",
      "\tQuerying NXCALS signal(s) MB.B8R2:U_EARTH_RB, MB.A11R2:U_EARTH_RB, MB.A8R2:U_EARTH_RB, MB.B10R2:U_EARTH_RB, MB.B13R2:U_EARTH_RB... from 2015-02-14 14:45:23.720 to 2015-02-14 14:54:33.720\n",
      "successfully downloaded: <class 'src.acquisitions.voltage_nxcals.VOLTAGE_NXCALS'>\n",
      "\tQuerying PM event timestamps for system: QPS, className: DQAMCNMB_PMSTD, source: * from 2015-02-14 14:45:23.720 to 2015-02-14 14:54:33.720\n"
     ]
    },
    {
     "data": {
      "application/vnd.jupyter.widget-view+json": {
       "model_id": "00d7243181cd4e9ea3430e8b0206f356",
       "version_major": 2,
       "version_minor": 0
      },
      "text/plain": [
       "Querying iQPS logic PM:   0%|          | 0/1 [00:00<?, ?it/s]"
      ]
     },
     "metadata": {},
     "output_type": "display_data"
    },
    {
     "name": "stdout",
     "output_type": "stream",
     "text": [
      "successfully downloaded: <class 'src.acquisitions.voltage_logic_iqps.VOLTAGE_LOGIC_IQPS'>\n",
      "\tQuerying PM event timestamps for system: QPS, className: DQAMCNMB_PMSTD, source: * from 2015-02-14 14:45:23.720 to 2015-02-14 14:54:33.720\n",
      "\tQuerying PM event timestamps for system: QPS, className: DQAMGNSRB_PMREL, source: * from 2015-02-14 14:46:03.720 to 2015-02-14 14:52:53.720\n",
      "successfully downloaded: <class 'src.acquisitions.voltage_logic_nqps.VOLTAGE_LOGIC_NQPS'>\n",
      "\tQuerying PM event timestamps for system: QPS, className: DQAMCNMB_PMHSU, source: * from 2015-02-14 14:46:03.720 to 2015-02-14 14:54:33.720\n"
     ]
    },
    {
     "name": "stderr",
     "output_type": "stream",
     "text": [
      "Some nQPS PM buffers missing. ['B8R2', 'B9R2', 'B10R2', 'B11R2', 'B12R2', 'B13R2', 'B14R2', 'B15R2', 'B16R2', 'B17R2', 'B18R2', 'B19R2', 'B20R2', 'B21R2', 'B22R2', 'B23R2', 'B24R2', 'B25R2', 'B26R2', 'B27R2', 'B28R2', 'B29R2', 'B30R2', 'B31R2', 'B32R2', 'B33R2', 'B34R2', 'B34L3', 'B33L3', 'B32L3', 'B31L3', 'B30L3', 'B29L3', 'B28L3', 'B27L3', 'B26L3', 'B25L3', 'B24L3', 'B23L3', 'B22L3', 'B21L3', 'B20L3', 'B19L3', 'B18L3', 'B17L3', 'B16L3', 'B15L3', 'B14L3', 'B13L3', 'B12L3', 'B11L3', 'B10L3', 'B9L3', 'B8L3'] not found for RB.A23 within [(10, 's'), (400, 's')] around 1423921573720000000.\n",
      "At least one of the timestamps (nQPS or QDS) is missing, query skipped returning empty pd.DataFrame.\n"
     ]
    },
    {
     "data": {
      "application/vnd.jupyter.widget-view+json": {
       "model_id": "3a1da4b48c4042f69e9c68d4ad43844f",
       "version_major": 2,
       "version_minor": 0
      },
      "text/plain": [
       "Querying PM:   0%|          | 0/1 [00:00<?, ?it/s]"
      ]
     },
     "metadata": {},
     "output_type": "display_data"
    },
    {
     "name": "stdout",
     "output_type": "stream",
     "text": [
      "successfully downloaded: <class 'src.acquisitions.qh_pm.QH_PM'>\n",
      "\tQuerying PM event timestamps for system: QPS, className: DQAMCNMB_PMSTD, source: * from 2015-02-14 14:45:23.720 to 2015-02-14 14:54:33.720\n"
     ]
    },
    {
     "data": {
      "application/vnd.jupyter.widget-view+json": {
       "model_id": "782f292c025443f599d01fce1141246a",
       "version_major": 2,
       "version_minor": 0
      },
      "text/plain": [
       "Querying U, I Diode PM:   0%|          | 0/1 [00:00<?, ?it/s]"
      ]
     },
     "metadata": {},
     "output_type": "display_data"
    },
    {
     "name": "stdout",
     "output_type": "stream",
     "text": [
      "\tQuerying PM event timestamps for system: QPS, className: DQAMGNSRB_PMREL, source: B27L3 from 2015-02-14 14:36:13.699 to 2015-02-14 14:56:13.699\n",
      "successfully downloaded: <class 'src.acquisitions.current_voltage_diode_leads_pm.CURRENT_VOLTAGE_DIODE_LEADS_PM'>\n",
      "\tQuerying PM event timestamps for system: QPS, className: DQAMCNMB_PMSTD, source: * from 2015-02-14 14:45:23.720 to 2015-02-14 14:52:03.720\n"
     ]
    },
    {
     "data": {
      "application/vnd.jupyter.widget-view+json": {
       "model_id": "29620768c076498a8ad892aae638b8e5",
       "version_major": 2,
       "version_minor": 0
      },
      "text/plain": [
       "Querying U, I Diode leads NXCALS:   0%|          | 0/1 [00:00<?, ?it/s]"
      ]
     },
     "metadata": {},
     "output_type": "display_data"
    },
    {
     "name": "stdout",
     "output_type": "stream",
     "text": [
      "successfully downloaded: <class 'src.acquisitions.current_voltage_diode_leads_nxcals.CURRENT_VOLTAGE_DIODE_LEADS_NXCALS'>\n",
      "\tQuerying PM event timestamps for system: QPS, className: DQAMGNDRBODD, DQAMGNDRBEVEN, source: RB.A23 from 2015-02-14 14:46:03.720 to 2015-02-14 14:52:53.720\n",
      "\tQuerying NXCALS signal(s) DFLAS.7L3.RB.A23.LD3:U_RES, DFLAS.7L3.RB.A23.LD4:U_RES, DFLAS.7L3.RB.A23.LD3:U_HTS, DFLAS.7R2.RB.A23.LD1:U_HTS, DFLAS.7L3.RB.A23.LD4:U_HTS... from 2015-02-14 14:45:43.720 to 2015-02-14 14:47:43.720\n",
      "successfully downloaded: <class 'src.acquisitions.leads.LEADS'>\n",
      "\tQuerying PM event signal(s) IAB.I_A, STATUS.I_EARTH_PCNT, STATUS.I_MEAS, STATUS.I_REF, IEARTH.IEARTH for system: RPTE.UA27.RB.A23, className: 51_self_pmd, source: FGC at 2015-02-17 23:07:22.320\n",
      "successfully downloaded: <class 'src.acquisitions.pc_pm.PC_PM'>\n",
      "\tQuerying PM event timestamps for system: QPS, className: DQAMSNRB, source: UJ33.RB.A23, UA27.RB.A23 from 2015-02-17 23:07:12.320 to 2015-02-17 23:24:02.320\n",
      "\tQuerying PM event signal(s) UA27.RB.A23:U_DUMP_RES, UJ33.RB.A23:U_DUMP_RES for system: UJ33.RB.A23, UA27.RB.A23, className: DQAMSNRB, source: QPS at 2015-02-17 23:07:22.627\n"
     ]
    },
    {
     "name": "stderr",
     "output_type": "stream",
     "text": [
      "Post Mortem returned no data for the following query: http://pm-api-pro/v2/pmdata/signal?system=QPS&className=DQAMSNRB&source=UA27.RB.A23&timestampInNanos=1424210842627000000&signal=UA27.RB.A23:U_DUMP_RES\n"
     ]
    },
    {
     "name": "stdout",
     "output_type": "stream",
     "text": [
      "successfully downloaded: <class 'src.acquisitions.ee_u_dump_res_pm.EE_U_DUMP_RES_PM'>\n",
      "\tQuerying PM event timestamps for system: QPS, className: DQAMSNRB, source: UJ33.RB.A23, UA27.RB.A23 from 2015-02-17 23:07:12.320 to 2015-02-17 23:24:02.320\n",
      "\tQuerying PM event signal(s) UJ33.RB.A23:T_RES_BODY_2, UJ33.RB.A23:T_RES_BODY_3, UJ33.RB.A23:T_RES_BODY_1, UA27.RB.A23:T_RES_BODY_1, UA27.RB.A23:T_RES_BODY_2... for system: UJ33.RB.A23, UA27.RB.A23..., className: DQAMSNRB..., source: QPS... at 2015-02-17 23:07:22.627\n"
     ]
    },
    {
     "name": "stderr",
     "output_type": "stream",
     "text": [
      "Post Mortem returned no data for the following query: http://pm-api-pro/v2/pmdata/signal?system=QPS&className=DQAMSNRB&source=UA27.RB.A23&timestampInNanos=1424210842627000000&signal=UA27.RB.A23:T_RES_BODY_1\n",
      "Post Mortem returned no data for the following query: http://pm-api-pro/v2/pmdata/signal?system=QPS&className=DQAMSNRB&source=UA27.RB.A23&timestampInNanos=1424210842627000000&signal=UA27.RB.A23:T_RES_BODY_2\n",
      "Post Mortem returned no data for the following query: http://pm-api-pro/v2/pmdata/signal?system=QPS&className=DQAMSNRB&source=UA27.RB.A23&timestampInNanos=1424210842627000000&signal=UA27.RB.A23:T_RES_BODY_3\n"
     ]
    },
    {
     "name": "stdout",
     "output_type": "stream",
     "text": [
      "successfully downloaded: <class 'src.acquisitions.ee_t_res_pm.EE_T_RES_PM'>\n",
      "\tQuerying NXCALS signal(s) MB.A8R2:U_DIODE_RB, MB.A9R2:U_DIODE_RB, MB.B9R2:U_DIODE_RB, MB.A10R2:U_DIODE_RB, MB.B8R2:U_DIODE_RB... from 2015-02-17 23:06:32.320 to 2015-02-17 23:15:42.320\n",
      "\tQuerying NXCALS signal(s) MB.B8R2:U_EARTH_RB, MB.A11R2:U_EARTH_RB, MB.A8R2:U_EARTH_RB, MB.B10R2:U_EARTH_RB, MB.B13R2:U_EARTH_RB... from 2015-02-17 23:06:32.320 to 2015-02-17 23:15:42.320\n",
      "successfully downloaded: <class 'src.acquisitions.voltage_nxcals.VOLTAGE_NXCALS'>\n",
      "\tQuerying PM event timestamps for system: QPS, className: DQAMCNMB_PMSTD, source: * from 2015-02-17 23:06:32.320 to 2015-02-17 23:15:42.320\n"
     ]
    },
    {
     "data": {
      "application/vnd.jupyter.widget-view+json": {
       "model_id": "e79110afabf14b2c843d6e4bdd13094e",
       "version_major": 2,
       "version_minor": 0
      },
      "text/plain": [
       "Querying iQPS logic PM:   0%|          | 0/4 [00:00<?, ?it/s]"
      ]
     },
     "metadata": {},
     "output_type": "display_data"
    },
    {
     "name": "stdout",
     "output_type": "stream",
     "text": [
      "successfully downloaded: <class 'src.acquisitions.voltage_logic_iqps.VOLTAGE_LOGIC_IQPS'>\n",
      "\tQuerying PM event timestamps for system: QPS, className: DQAMCNMB_PMSTD, source: * from 2015-02-17 23:06:32.320 to 2015-02-17 23:15:42.320\n",
      "\tQuerying PM event timestamps for system: QPS, className: DQAMGNSRB_PMREL, source: * from 2015-02-17 23:07:12.320 to 2015-02-17 23:14:02.320\n",
      "successfully downloaded: <class 'src.acquisitions.voltage_logic_nqps.VOLTAGE_LOGIC_NQPS'>\n"
     ]
    },
    {
     "name": "stderr",
     "output_type": "stream",
     "text": [
      "Some nQPS PM buffers missing. ['B8R2', 'B9R2', 'B10R2', 'B11R2', 'B12R2', 'B13R2', 'B14R2', 'B15R2', 'B16R2', 'B17R2', 'B18R2', 'B19R2', 'B20R2', 'B21R2', 'B22R2', 'B23R2', 'B24R2', 'B25R2', 'B26R2', 'B27R2', 'B28R2', 'B29R2', 'B30R2', 'B31R2', 'B32R2', 'B33R2', 'B34R2', 'B34L3', 'B33L3', 'B32L3', 'B31L3', 'B30L3', 'B29L3', 'B28L3', 'B27L3', 'B26L3', 'B25L3', 'B24L3', 'B23L3', 'B22L3', 'B21L3', 'B20L3', 'B19L3', 'B18L3', 'B17L3', 'B16L3', 'B15L3', 'B14L3', 'B13L3', 'B12L3', 'B11L3', 'B10L3', 'B9L3', 'B8L3'] not found for RB.A23 within [(10, 's'), (400, 's')] around 1424210842320000000.\n",
      "At least one of the timestamps (nQPS or QDS) is missing, query skipped returning empty pd.DataFrame.\n"
     ]
    },
    {
     "name": "stdout",
     "output_type": "stream",
     "text": [
      "\tQuerying PM event timestamps for system: QPS, className: DQAMCNMB_PMHSU, source: * from 2015-02-17 23:07:12.320 to 2015-02-17 23:15:42.320\n"
     ]
    },
    {
     "data": {
      "application/vnd.jupyter.widget-view+json": {
       "model_id": "d3530b9e06d14fe7991ab0390fcdfe4e",
       "version_major": 2,
       "version_minor": 0
      },
      "text/plain": [
       "Querying PM:   0%|          | 0/4 [00:00<?, ?it/s]"
      ]
     },
     "metadata": {},
     "output_type": "display_data"
    },
    {
     "name": "stdout",
     "output_type": "stream",
     "text": [
      "successfully downloaded: <class 'src.acquisitions.qh_pm.QH_PM'>\n",
      "\tQuerying PM event timestamps for system: QPS, className: DQAMCNMB_PMSTD, source: * from 2015-02-17 23:06:32.320 to 2015-02-17 23:15:42.320\n"
     ]
    },
    {
     "data": {
      "application/vnd.jupyter.widget-view+json": {
       "model_id": "c3978d7832834ce88f0af759f84d4a4d",
       "version_major": 2,
       "version_minor": 0
      },
      "text/plain": [
       "Querying U, I Diode PM:   0%|          | 0/4 [00:00<?, ?it/s]"
      ]
     },
     "metadata": {},
     "output_type": "display_data"
    },
    {
     "name": "stdout",
     "output_type": "stream",
     "text": [
      "\tQuerying PM event timestamps for system: QPS, className: DQAMGNSRB_PMREL, source: B18L3 from 2015-02-17 22:57:22.294 to 2015-02-17 23:17:22.294\n",
      "successfully downloaded: <class 'src.acquisitions.current_voltage_diode_leads_pm.CURRENT_VOLTAGE_DIODE_LEADS_PM'>\n",
      "\tQuerying PM event timestamps for system: QPS, className: DQAMCNMB_PMSTD, source: * from 2015-02-17 23:06:32.320 to 2015-02-17 23:13:12.320\n"
     ]
    },
    {
     "data": {
      "application/vnd.jupyter.widget-view+json": {
       "model_id": "49d5f373f2e749e59e2ffe438ca89289",
       "version_major": 2,
       "version_minor": 0
      },
      "text/plain": [
       "Querying U, I Diode leads NXCALS:   0%|          | 0/4 [00:00<?, ?it/s]"
      ]
     },
     "metadata": {},
     "output_type": "display_data"
    },
    {
     "name": "stdout",
     "output_type": "stream",
     "text": [
      "successfully downloaded: <class 'src.acquisitions.current_voltage_diode_leads_nxcals.CURRENT_VOLTAGE_DIODE_LEADS_NXCALS'>\n",
      "\tQuerying PM event timestamps for system: QPS, className: DQAMGNDRBODD, DQAMGNDRBEVEN, source: RB.A23 from 2015-02-17 23:07:12.320 to 2015-02-17 23:14:02.320\n",
      "\tQuerying PM event signal(s) DFLAS.7L3.RB.A23.LD3:U_RES, DFLAS.7L3.RB.A23.LD4:U_RES, DFLAS.7L3.RB.A23.LD3:U_HTS, DFLAS.7R2.RB.A23.LD1:U_HTS, DFLAS.7L3.RB.A23.LD4:U_HTS... for system: RB.A23..., className: DQAMGNDRBODD, DQAMGNDRBEVEN..., source: QPS... at 2015-02-17 23:07:23.224\n"
     ]
    },
    {
     "name": "stderr",
     "output_type": "stream",
     "text": [
      "Post Mortem returned no data for the following query: http://pm-api-pro/v2/pmdata/signal?system=QPS&className=DQAMGNDRBEVEN&source=RB.A23&timestampInNanos=1424210843224000000&signal=DFLAS.7R2.RB.A23.LD1:U_HTS\n",
      "Post Mortem returned no data for the following query: http://pm-api-pro/v2/pmdata/signal?system=QPS&className=DQAMGNDRBEVEN&source=RB.A23&timestampInNanos=1424210843224000000&signal=DFLAS.7R2.RB.A23.LD2:U_HTS\n",
      "Post Mortem returned no data for the following query: http://pm-api-pro/v2/pmdata/signal?system=QPS&className=DQAMGNDRBEVEN&source=RB.A23&timestampInNanos=1424210843224000000&signal=DFLAS.7R2.RB.A23.LD1:U_RES\n",
      "Post Mortem returned no data for the following query: http://pm-api-pro/v2/pmdata/signal?system=QPS&className=DQAMGNDRBEVEN&source=RB.A23&timestampInNanos=1424210843224000000&signal=DFLAS.7R2.RB.A23.LD2:U_RES\n"
     ]
    },
    {
     "name": "stdout",
     "output_type": "stream",
     "text": [
      "successfully downloaded: <class 'src.acquisitions.leads.LEADS'>\n",
      "\tQuerying PM event signal(s) IAB.I_A, STATUS.I_EARTH_PCNT, STATUS.I_MEAS, STATUS.I_REF, IEARTH.IEARTH for system: RPTE.UA27.RB.A23, className: 51_self_pmd, source: FGC at 2015-02-19 21:33:45.520\n",
      "successfully downloaded: <class 'src.acquisitions.pc_pm.PC_PM'>\n",
      "\tQuerying PM event timestamps for system: QPS, className: DQAMSNRB, source: UJ33.RB.A23, UA27.RB.A23 from 2015-02-19 21:33:35.520 to 2015-02-19 21:50:25.520\n",
      "\tQuerying PM event signal(s) UA27.RB.A23:U_DUMP_RES, UJ33.RB.A23:U_DUMP_RES for system: UJ33.RB.A23, UA27.RB.A23, className: DQAMSNRB, source: QPS at 2015-02-19 21:33:45.820\n"
     ]
    },
    {
     "name": "stderr",
     "output_type": "stream",
     "text": [
      "Post Mortem returned no data for the following query: http://pm-api-pro/v2/pmdata/signal?system=QPS&className=DQAMSNRB&source=UA27.RB.A23&timestampInNanos=1424378025820000000&signal=UA27.RB.A23:U_DUMP_RES\n"
     ]
    },
    {
     "name": "stdout",
     "output_type": "stream",
     "text": [
      "successfully downloaded: <class 'src.acquisitions.ee_u_dump_res_pm.EE_U_DUMP_RES_PM'>\n",
      "\tQuerying PM event timestamps for system: QPS, className: DQAMSNRB, source: UJ33.RB.A23, UA27.RB.A23 from 2015-02-19 21:33:35.520 to 2015-02-19 21:50:25.520\n",
      "\tQuerying PM event signal(s) UJ33.RB.A23:T_RES_BODY_2, UJ33.RB.A23:T_RES_BODY_3, UJ33.RB.A23:T_RES_BODY_1, UA27.RB.A23:T_RES_BODY_1, UA27.RB.A23:T_RES_BODY_2... for system: UJ33.RB.A23, UA27.RB.A23..., className: DQAMSNRB..., source: QPS... at 2015-02-19 21:33:45.820\n"
     ]
    },
    {
     "name": "stderr",
     "output_type": "stream",
     "text": [
      "Post Mortem returned no data for the following query: http://pm-api-pro/v2/pmdata/signal?system=QPS&className=DQAMSNRB&source=UA27.RB.A23&timestampInNanos=1424378025820000000&signal=UA27.RB.A23:T_RES_BODY_1\n",
      "Post Mortem returned no data for the following query: http://pm-api-pro/v2/pmdata/signal?system=QPS&className=DQAMSNRB&source=UA27.RB.A23&timestampInNanos=1424378025820000000&signal=UA27.RB.A23:T_RES_BODY_2\n",
      "Post Mortem returned no data for the following query: http://pm-api-pro/v2/pmdata/signal?system=QPS&className=DQAMSNRB&source=UA27.RB.A23&timestampInNanos=1424378025820000000&signal=UA27.RB.A23:T_RES_BODY_3\n"
     ]
    },
    {
     "name": "stdout",
     "output_type": "stream",
     "text": [
      "successfully downloaded: <class 'src.acquisitions.ee_t_res_pm.EE_T_RES_PM'>\n",
      "\tQuerying NXCALS signal(s) MB.A8R2:U_DIODE_RB, MB.A9R2:U_DIODE_RB, MB.B9R2:U_DIODE_RB, MB.A10R2:U_DIODE_RB, MB.B8R2:U_DIODE_RB... from 2015-02-19 21:32:55.520 to 2015-02-19 21:42:05.520\n",
      "\tQuerying NXCALS signal(s) MB.B8R2:U_EARTH_RB, MB.A11R2:U_EARTH_RB, MB.A8R2:U_EARTH_RB, MB.B10R2:U_EARTH_RB, MB.B13R2:U_EARTH_RB... from 2015-02-19 21:32:55.520 to 2015-02-19 21:42:05.520\n",
      "successfully downloaded: <class 'src.acquisitions.voltage_nxcals.VOLTAGE_NXCALS'>\n",
      "\tQuerying PM event timestamps for system: QPS, className: DQAMCNMB_PMSTD, source: * from 2015-02-19 21:32:55.520 to 2015-02-19 21:42:05.520\n"
     ]
    },
    {
     "data": {
      "application/vnd.jupyter.widget-view+json": {
       "model_id": "598bdddef2254bbe9fba72b59aae18d9",
       "version_major": 2,
       "version_minor": 0
      },
      "text/plain": [
       "Querying iQPS logic PM:   0%|          | 0/4 [00:00<?, ?it/s]"
      ]
     },
     "metadata": {},
     "output_type": "display_data"
    },
    {
     "name": "stdout",
     "output_type": "stream",
     "text": [
      "successfully downloaded: <class 'src.acquisitions.voltage_logic_iqps.VOLTAGE_LOGIC_IQPS'>\n",
      "\tQuerying PM event timestamps for system: QPS, className: DQAMCNMB_PMSTD, source: * from 2015-02-19 21:32:55.520 to 2015-02-19 21:42:05.520\n",
      "\tQuerying PM event timestamps for system: QPS, className: DQAMGNSRB_PMREL, source: * from 2015-02-19 21:33:35.520 to 2015-02-19 21:40:25.520\n",
      "successfully downloaded: <class 'src.acquisitions.voltage_logic_nqps.VOLTAGE_LOGIC_NQPS'>\n",
      "\tQuerying PM event timestamps for system: QPS, className: DQAMCNMB_PMHSU, source: * from 2015-02-19 21:33:35.520 to 2015-02-19 21:42:05.520\n"
     ]
    },
    {
     "name": "stderr",
     "output_type": "stream",
     "text": [
      "Some nQPS PM buffers missing. ['B8R2', 'B9R2', 'B10R2', 'B11R2', 'B12R2', 'B13R2', 'B14R2', 'B15R2', 'B16R2', 'B17R2', 'B18R2', 'B19R2', 'B20R2', 'B21R2', 'B22R2', 'B23R2', 'B24R2', 'B25R2', 'B26R2', 'B27R2', 'B28R2', 'B29R2', 'B30R2', 'B31R2', 'B32R2', 'B33R2', 'B34R2', 'B34L3', 'B33L3', 'B32L3', 'B31L3', 'B30L3', 'B29L3', 'B28L3', 'B27L3', 'B26L3', 'B25L3', 'B24L3', 'B23L3', 'B22L3', 'B21L3', 'B20L3', 'B19L3', 'B18L3', 'B17L3', 'B16L3', 'B15L3', 'B14L3', 'B13L3', 'B12L3', 'B11L3', 'B10L3', 'B9L3', 'B8L3'] not found for RB.A23 within [(10, 's'), (400, 's')] around 1424378025520000000.\n",
      "At least one of the timestamps (nQPS or QDS) is missing, query skipped returning empty pd.DataFrame.\n"
     ]
    },
    {
     "data": {
      "application/vnd.jupyter.widget-view+json": {
       "model_id": "7edd7d07b841459e9680d64af2a58e14",
       "version_major": 2,
       "version_minor": 0
      },
      "text/plain": [
       "Querying PM:   0%|          | 0/4 [00:00<?, ?it/s]"
      ]
     },
     "metadata": {},
     "output_type": "display_data"
    },
    {
     "name": "stdout",
     "output_type": "stream",
     "text": [
      "successfully downloaded: <class 'src.acquisitions.qh_pm.QH_PM'>\n",
      "\tQuerying PM event timestamps for system: QPS, className: DQAMCNMB_PMSTD, source: * from 2015-02-19 21:32:55.520 to 2015-02-19 21:42:05.520\n"
     ]
    },
    {
     "data": {
      "application/vnd.jupyter.widget-view+json": {
       "model_id": "bdc630781e694f8cb31a0ea15035eddb",
       "version_major": 2,
       "version_minor": 0
      },
      "text/plain": [
       "Querying U, I Diode PM:   0%|          | 0/4 [00:00<?, ?it/s]"
      ]
     },
     "metadata": {},
     "output_type": "display_data"
    },
    {
     "name": "stdout",
     "output_type": "stream",
     "text": [
      "\tQuerying PM event timestamps for system: QPS, className: DQAMGNSRB_PMREL, source: B34L3 from 2015-02-19 21:23:45.490 to 2015-02-19 21:43:45.490\n",
      "successfully downloaded: <class 'src.acquisitions.current_voltage_diode_leads_pm.CURRENT_VOLTAGE_DIODE_LEADS_PM'>\n",
      "\tQuerying PM event timestamps for system: QPS, className: DQAMCNMB_PMSTD, source: * from 2015-02-19 21:32:55.520 to 2015-02-19 21:39:35.520\n"
     ]
    },
    {
     "data": {
      "application/vnd.jupyter.widget-view+json": {
       "model_id": "5cc820d8bb434bd0895b8c415f64253a",
       "version_major": 2,
       "version_minor": 0
      },
      "text/plain": [
       "Querying U, I Diode leads NXCALS:   0%|          | 0/4 [00:00<?, ?it/s]"
      ]
     },
     "metadata": {},
     "output_type": "display_data"
    },
    {
     "name": "stdout",
     "output_type": "stream",
     "text": [
      "successfully downloaded: <class 'src.acquisitions.current_voltage_diode_leads_nxcals.CURRENT_VOLTAGE_DIODE_LEADS_NXCALS'>\n",
      "\tQuerying PM event timestamps for system: QPS, className: DQAMGNDRBODD, DQAMGNDRBEVEN, source: RB.A23 from 2015-02-19 21:33:35.520 to 2015-02-19 21:40:25.520\n",
      "\tQuerying PM event signal(s) DFLAS.7L3.RB.A23.LD3:U_RES, DFLAS.7L3.RB.A23.LD4:U_RES, DFLAS.7L3.RB.A23.LD3:U_HTS, DFLAS.7R2.RB.A23.LD1:U_HTS, DFLAS.7L3.RB.A23.LD4:U_HTS... for system: RB.A23..., className: DQAMGNDRBODD, DQAMGNDRBEVEN..., source: QPS... at 2015-02-19 21:33:46.623\n"
     ]
    },
    {
     "name": "stderr",
     "output_type": "stream",
     "text": [
      "Post Mortem returned no data for the following query: http://pm-api-pro/v2/pmdata/signal?system=QPS&className=DQAMGNDRBEVEN&source=RB.A23&timestampInNanos=1424378026623000000&signal=DFLAS.7R2.RB.A23.LD1:U_HTS\n",
      "Post Mortem returned no data for the following query: http://pm-api-pro/v2/pmdata/signal?system=QPS&className=DQAMGNDRBEVEN&source=RB.A23&timestampInNanos=1424378026623000000&signal=DFLAS.7R2.RB.A23.LD2:U_HTS\n",
      "Post Mortem returned no data for the following query: http://pm-api-pro/v2/pmdata/signal?system=QPS&className=DQAMGNDRBEVEN&source=RB.A23&timestampInNanos=1424378026623000000&signal=DFLAS.7R2.RB.A23.LD1:U_RES\n",
      "Post Mortem returned no data for the following query: http://pm-api-pro/v2/pmdata/signal?system=QPS&className=DQAMGNDRBEVEN&source=RB.A23&timestampInNanos=1424378026623000000&signal=DFLAS.7R2.RB.A23.LD2:U_RES\n"
     ]
    },
    {
     "name": "stdout",
     "output_type": "stream",
     "text": [
      "successfully downloaded: <class 'src.acquisitions.leads.LEADS'>\n",
      "\tQuerying PM event signal(s) IAB.I_A, STATUS.I_EARTH_PCNT, STATUS.I_MEAS, STATUS.I_REF, IEARTH.IEARTH for system: RPTE.UA27.RB.A23, className: 51_self_pmd, source: FGC at 2015-02-20 07:45:30.280\n",
      "successfully downloaded: <class 'src.acquisitions.pc_pm.PC_PM'>\n",
      "\tQuerying PM event timestamps for system: QPS, className: DQAMSNRB, source: UJ33.RB.A23, UA27.RB.A23 from 2015-02-20 07:45:20.280 to 2015-02-20 08:02:10.280\n",
      "\tQuerying PM event signal(s) UA27.RB.A23:U_DUMP_RES, UJ33.RB.A23:U_DUMP_RES for system: UJ33.RB.A23, UA27.RB.A23, className: DQAMSNRB, source: QPS at 2015-02-20 07:45:30.573\n"
     ]
    },
    {
     "name": "stderr",
     "output_type": "stream",
     "text": [
      "Post Mortem returned no data for the following query: http://pm-api-pro/v2/pmdata/signal?system=QPS&className=DQAMSNRB&source=UA27.RB.A23&timestampInNanos=1424414730573000000&signal=UA27.RB.A23:U_DUMP_RES\n"
     ]
    },
    {
     "name": "stdout",
     "output_type": "stream",
     "text": [
      "successfully downloaded: <class 'src.acquisitions.ee_u_dump_res_pm.EE_U_DUMP_RES_PM'>\n",
      "\tQuerying PM event timestamps for system: QPS, className: DQAMSNRB, source: UJ33.RB.A23, UA27.RB.A23 from 2015-02-20 07:45:20.280 to 2015-02-20 08:02:10.280\n",
      "\tQuerying PM event signal(s) UJ33.RB.A23:T_RES_BODY_2, UJ33.RB.A23:T_RES_BODY_3, UJ33.RB.A23:T_RES_BODY_1, UA27.RB.A23:T_RES_BODY_1, UA27.RB.A23:T_RES_BODY_2... for system: UJ33.RB.A23, UA27.RB.A23..., className: DQAMSNRB..., source: QPS... at 2015-02-20 07:45:30.573\n"
     ]
    },
    {
     "name": "stderr",
     "output_type": "stream",
     "text": [
      "Post Mortem returned no data for the following query: http://pm-api-pro/v2/pmdata/signal?system=QPS&className=DQAMSNRB&source=UA27.RB.A23&timestampInNanos=1424414730573000000&signal=UA27.RB.A23:T_RES_BODY_1\n",
      "Post Mortem returned no data for the following query: http://pm-api-pro/v2/pmdata/signal?system=QPS&className=DQAMSNRB&source=UA27.RB.A23&timestampInNanos=1424414730573000000&signal=UA27.RB.A23:T_RES_BODY_2\n",
      "Post Mortem returned no data for the following query: http://pm-api-pro/v2/pmdata/signal?system=QPS&className=DQAMSNRB&source=UA27.RB.A23&timestampInNanos=1424414730573000000&signal=UA27.RB.A23:T_RES_BODY_3\n"
     ]
    },
    {
     "name": "stdout",
     "output_type": "stream",
     "text": [
      "successfully downloaded: <class 'src.acquisitions.ee_t_res_pm.EE_T_RES_PM'>\n",
      "\tQuerying NXCALS signal(s) MB.A8R2:U_DIODE_RB, MB.A9R2:U_DIODE_RB, MB.B9R2:U_DIODE_RB, MB.A10R2:U_DIODE_RB, MB.B8R2:U_DIODE_RB... from 2015-02-20 07:44:40.280 to 2015-02-20 07:53:50.280\n",
      "\tQuerying NXCALS signal(s) MB.B8R2:U_EARTH_RB, MB.A11R2:U_EARTH_RB, MB.A8R2:U_EARTH_RB, MB.B10R2:U_EARTH_RB, MB.B13R2:U_EARTH_RB... from 2015-02-20 07:44:40.280 to 2015-02-20 07:53:50.280\n",
      "successfully downloaded: <class 'src.acquisitions.voltage_nxcals.VOLTAGE_NXCALS'>\n",
      "\tQuerying PM event timestamps for system: QPS, className: DQAMCNMB_PMSTD, source: * from 2015-02-20 07:44:40.280 to 2015-02-20 07:53:50.280\n"
     ]
    },
    {
     "data": {
      "application/vnd.jupyter.widget-view+json": {
       "model_id": "27739c6bee76438183c58d4c8f0a70cc",
       "version_major": 2,
       "version_minor": 0
      },
      "text/plain": [
       "Querying iQPS logic PM:   0%|          | 0/5 [00:00<?, ?it/s]"
      ]
     },
     "metadata": {},
     "output_type": "display_data"
    },
    {
     "name": "stdout",
     "output_type": "stream",
     "text": [
      "successfully downloaded: <class 'src.acquisitions.voltage_logic_iqps.VOLTAGE_LOGIC_IQPS'>\n",
      "\tQuerying PM event timestamps for system: QPS, className: DQAMCNMB_PMSTD, source: * from 2015-02-20 07:44:40.280 to 2015-02-20 07:53:50.280\n",
      "\tQuerying PM event timestamps for system: QPS, className: DQAMGNSRB_PMREL, source: * from 2015-02-20 07:45:20.280 to 2015-02-20 07:52:10.280\n",
      "successfully downloaded: <class 'src.acquisitions.voltage_logic_nqps.VOLTAGE_LOGIC_NQPS'>\n",
      "\tQuerying PM event timestamps for system: QPS, className: DQAMCNMB_PMHSU, source: * from 2015-02-20 07:45:20.280 to 2015-02-20 07:53:50.280\n"
     ]
    },
    {
     "name": "stderr",
     "output_type": "stream",
     "text": [
      "Some nQPS PM buffers missing. ['B8R2', 'B9R2', 'B10R2', 'B11R2', 'B12R2', 'B13R2', 'B14R2', 'B15R2', 'B16R2', 'B17R2', 'B18R2', 'B19R2', 'B20R2', 'B21R2', 'B22R2', 'B23R2', 'B24R2', 'B25R2', 'B26R2', 'B27R2', 'B28R2', 'B29R2', 'B30R2', 'B31R2', 'B32R2', 'B33R2', 'B34R2', 'B34L3', 'B33L3', 'B32L3', 'B31L3', 'B30L3', 'B29L3', 'B28L3', 'B27L3', 'B26L3', 'B25L3', 'B24L3', 'B23L3', 'B22L3', 'B21L3', 'B20L3', 'B19L3', 'B18L3', 'B17L3', 'B16L3', 'B15L3', 'B14L3', 'B13L3', 'B12L3', 'B11L3', 'B10L3', 'B9L3', 'B8L3'] not found for RB.A23 within [(10, 's'), (400, 's')] around 1424414730280000000.\n",
      "At least one of the timestamps (nQPS or QDS) is missing, query skipped returning empty pd.DataFrame.\n"
     ]
    },
    {
     "data": {
      "application/vnd.jupyter.widget-view+json": {
       "model_id": "21aaca1ec3d0477084019cab86e60bce",
       "version_major": 2,
       "version_minor": 0
      },
      "text/plain": [
       "Querying PM:   0%|          | 0/5 [00:00<?, ?it/s]"
      ]
     },
     "metadata": {},
     "output_type": "display_data"
    },
    {
     "name": "stdout",
     "output_type": "stream",
     "text": [
      "successfully downloaded: <class 'src.acquisitions.qh_pm.QH_PM'>\n",
      "\tQuerying PM event timestamps for system: QPS, className: DQAMCNMB_PMSTD, source: * from 2015-02-20 07:44:40.280 to 2015-02-20 07:53:50.280\n"
     ]
    },
    {
     "data": {
      "application/vnd.jupyter.widget-view+json": {
       "model_id": "4f47edd486a442f89ea1b98c7fbaa988",
       "version_major": 2,
       "version_minor": 0
      },
      "text/plain": [
       "Querying U, I Diode PM:   0%|          | 0/5 [00:00<?, ?it/s]"
      ]
     },
     "metadata": {},
     "output_type": "display_data"
    },
    {
     "name": "stdout",
     "output_type": "stream",
     "text": [
      "\tQuerying PM event timestamps for system: QPS, className: DQAMGNSRB_PMREL, source: B30L3 from 2015-02-20 07:35:30.284 to 2015-02-20 07:55:30.284\n",
      "successfully downloaded: <class 'src.acquisitions.current_voltage_diode_leads_pm.CURRENT_VOLTAGE_DIODE_LEADS_PM'>\n",
      "\tQuerying PM event timestamps for system: QPS, className: DQAMCNMB_PMSTD, source: * from 2015-02-20 07:44:40.280 to 2015-02-20 07:51:20.280\n"
     ]
    },
    {
     "data": {
      "application/vnd.jupyter.widget-view+json": {
       "model_id": "0575194e39db4976af4efe44730b0b6e",
       "version_major": 2,
       "version_minor": 0
      },
      "text/plain": [
       "Querying U, I Diode leads NXCALS:   0%|          | 0/5 [00:00<?, ?it/s]"
      ]
     },
     "metadata": {},
     "output_type": "display_data"
    },
    {
     "name": "stdout",
     "output_type": "stream",
     "text": [
      "successfully downloaded: <class 'src.acquisitions.current_voltage_diode_leads_nxcals.CURRENT_VOLTAGE_DIODE_LEADS_NXCALS'>\n",
      "\tQuerying PM event timestamps for system: QPS, className: DQAMGNDRBODD, DQAMGNDRBEVEN, source: RB.A23 from 2015-02-20 07:45:20.280 to 2015-02-20 07:52:10.280\n",
      "\tQuerying PM event signal(s) DFLAS.7L3.RB.A23.LD3:U_RES, DFLAS.7L3.RB.A23.LD4:U_RES, DFLAS.7L3.RB.A23.LD3:U_HTS, DFLAS.7R2.RB.A23.LD1:U_HTS, DFLAS.7L3.RB.A23.LD4:U_HTS... for system: RB.A23..., className: DQAMGNDRBODD, DQAMGNDRBEVEN..., source: QPS... at 2015-02-20 07:45:31.017\n"
     ]
    },
    {
     "name": "stderr",
     "output_type": "stream",
     "text": [
      "Post Mortem returned no data for the following query: http://pm-api-pro/v2/pmdata/signal?system=QPS&className=DQAMGNDRBEVEN&source=RB.A23&timestampInNanos=1424414731017000000&signal=DFLAS.7R2.RB.A23.LD1:U_HTS\n",
      "Post Mortem returned no data for the following query: http://pm-api-pro/v2/pmdata/signal?system=QPS&className=DQAMGNDRBEVEN&source=RB.A23&timestampInNanos=1424414731017000000&signal=DFLAS.7R2.RB.A23.LD2:U_HTS\n",
      "Post Mortem returned no data for the following query: http://pm-api-pro/v2/pmdata/signal?system=QPS&className=DQAMGNDRBEVEN&source=RB.A23&timestampInNanos=1424414731017000000&signal=DFLAS.7R2.RB.A23.LD1:U_RES\n",
      "Post Mortem returned no data for the following query: http://pm-api-pro/v2/pmdata/signal?system=QPS&className=DQAMGNDRBEVEN&source=RB.A23&timestampInNanos=1424414731017000000&signal=DFLAS.7R2.RB.A23.LD2:U_RES\n"
     ]
    },
    {
     "name": "stdout",
     "output_type": "stream",
     "text": [
      "successfully downloaded: <class 'src.acquisitions.leads.LEADS'>\n",
      "\tQuerying PM event signal(s) IAB.I_A, STATUS.I_EARTH_PCNT, STATUS.I_MEAS, STATUS.I_REF, IEARTH.IEARTH for system: RPTE.UA27.RB.A23, className: 51_self_pmd, source: FGC at 2015-02-20 21:48:48.420\n",
      "successfully downloaded: <class 'src.acquisitions.pc_pm.PC_PM'>\n",
      "\tQuerying PM event timestamps for system: QPS, className: DQAMSNRB, source: UJ33.RB.A23, UA27.RB.A23 from 2015-02-20 21:48:38.420 to 2015-02-20 22:05:28.420\n",
      "\tQuerying PM event signal(s) UA27.RB.A23:U_DUMP_RES, UJ33.RB.A23:U_DUMP_RES for system: UJ33.RB.A23, UA27.RB.A23, className: DQAMSNRB, source: QPS at 2015-02-20 21:48:48.710\n"
     ]
    },
    {
     "name": "stderr",
     "output_type": "stream",
     "text": [
      "Post Mortem returned no data for the following query: http://pm-api-pro/v2/pmdata/signal?system=QPS&className=DQAMSNRB&source=UA27.RB.A23&timestampInNanos=1424465328710000000&signal=UA27.RB.A23:U_DUMP_RES\n"
     ]
    },
    {
     "name": "stdout",
     "output_type": "stream",
     "text": [
      "successfully downloaded: <class 'src.acquisitions.ee_u_dump_res_pm.EE_U_DUMP_RES_PM'>\n",
      "\tQuerying PM event timestamps for system: QPS, className: DQAMSNRB, source: UJ33.RB.A23, UA27.RB.A23 from 2015-02-20 21:48:38.420 to 2015-02-20 22:05:28.420\n",
      "\tQuerying PM event signal(s) UJ33.RB.A23:T_RES_BODY_2, UJ33.RB.A23:T_RES_BODY_3, UJ33.RB.A23:T_RES_BODY_1, UA27.RB.A23:T_RES_BODY_1, UA27.RB.A23:T_RES_BODY_2... for system: UJ33.RB.A23, UA27.RB.A23..., className: DQAMSNRB..., source: QPS... at 2015-02-20 21:48:48.710\n"
     ]
    },
    {
     "name": "stderr",
     "output_type": "stream",
     "text": [
      "Post Mortem returned no data for the following query: http://pm-api-pro/v2/pmdata/signal?system=QPS&className=DQAMSNRB&source=UA27.RB.A23&timestampInNanos=1424465328710000000&signal=UA27.RB.A23:T_RES_BODY_1\n",
      "Post Mortem returned no data for the following query: http://pm-api-pro/v2/pmdata/signal?system=QPS&className=DQAMSNRB&source=UA27.RB.A23&timestampInNanos=1424465328710000000&signal=UA27.RB.A23:T_RES_BODY_2\n",
      "Post Mortem returned no data for the following query: http://pm-api-pro/v2/pmdata/signal?system=QPS&className=DQAMSNRB&source=UA27.RB.A23&timestampInNanos=1424465328710000000&signal=UA27.RB.A23:T_RES_BODY_3\n"
     ]
    },
    {
     "name": "stdout",
     "output_type": "stream",
     "text": [
      "successfully downloaded: <class 'src.acquisitions.ee_t_res_pm.EE_T_RES_PM'>\n",
      "\tQuerying NXCALS signal(s) MB.A8R2:U_DIODE_RB, MB.A9R2:U_DIODE_RB, MB.B9R2:U_DIODE_RB, MB.A10R2:U_DIODE_RB, MB.B8R2:U_DIODE_RB... from 2015-02-20 21:47:58.420 to 2015-02-20 21:57:08.420\n",
      "\tQuerying NXCALS signal(s) MB.B8R2:U_EARTH_RB, MB.A11R2:U_EARTH_RB, MB.A8R2:U_EARTH_RB, MB.B10R2:U_EARTH_RB, MB.B13R2:U_EARTH_RB... from 2015-02-20 21:47:58.420 to 2015-02-20 21:57:08.420\n",
      "successfully downloaded: <class 'src.acquisitions.voltage_nxcals.VOLTAGE_NXCALS'>\n",
      "\tQuerying PM event timestamps for system: QPS, className: DQAMCNMB_PMSTD, source: * from 2015-02-20 21:47:58.420 to 2015-02-20 21:57:08.420\n"
     ]
    },
    {
     "data": {
      "application/vnd.jupyter.widget-view+json": {
       "model_id": "b0cec4f4fd6d46a6aff16481d2280fe5",
       "version_major": 2,
       "version_minor": 0
      },
      "text/plain": [
       "Querying iQPS logic PM:   0%|          | 0/4 [00:00<?, ?it/s]"
      ]
     },
     "metadata": {},
     "output_type": "display_data"
    },
    {
     "name": "stdout",
     "output_type": "stream",
     "text": [
      "successfully downloaded: <class 'src.acquisitions.voltage_logic_iqps.VOLTAGE_LOGIC_IQPS'>\n",
      "\tQuerying PM event timestamps for system: QPS, className: DQAMCNMB_PMSTD, source: * from 2015-02-20 21:47:58.420 to 2015-02-20 21:57:08.420\n",
      "\tQuerying PM event timestamps for system: QPS, className: DQAMGNSRB_PMREL, source: * from 2015-02-20 21:48:38.420 to 2015-02-20 21:55:28.420\n",
      "successfully downloaded: <class 'src.acquisitions.voltage_logic_nqps.VOLTAGE_LOGIC_NQPS'>\n",
      "\tQuerying PM event timestamps for system: QPS, className: DQAMCNMB_PMHSU, source: * from 2015-02-20 21:48:38.420 to 2015-02-20 21:57:08.420\n"
     ]
    },
    {
     "name": "stderr",
     "output_type": "stream",
     "text": [
      "Some nQPS PM buffers missing. ['B8R2', 'B9R2', 'B10R2', 'B11R2', 'B12R2', 'B13R2', 'B14R2', 'B15R2', 'B16R2', 'B17R2', 'B18R2', 'B19R2', 'B20R2', 'B21R2', 'B22R2', 'B23R2', 'B24R2', 'B25R2', 'B26R2', 'B27R2', 'B28R2', 'B29R2', 'B30R2', 'B31R2', 'B32R2', 'B33R2', 'B34R2', 'B34L3', 'B33L3', 'B32L3', 'B31L3', 'B30L3', 'B29L3', 'B28L3', 'B27L3', 'B26L3', 'B25L3', 'B24L3', 'B23L3', 'B22L3', 'B21L3', 'B20L3', 'B19L3', 'B18L3', 'B17L3', 'B16L3', 'B15L3', 'B14L3', 'B13L3', 'B12L3', 'B11L3', 'B10L3', 'B9L3', 'B8L3'] not found for RB.A23 within [(10, 's'), (400, 's')] around 1424465328420000000.\n",
      "At least one of the timestamps (nQPS or QDS) is missing, query skipped returning empty pd.DataFrame.\n"
     ]
    },
    {
     "data": {
      "application/vnd.jupyter.widget-view+json": {
       "model_id": "de71e97ffa6b40bab4ac3bd19db3b080",
       "version_major": 2,
       "version_minor": 0
      },
      "text/plain": [
       "Querying PM:   0%|          | 0/4 [00:00<?, ?it/s]"
      ]
     },
     "metadata": {},
     "output_type": "display_data"
    },
    {
     "name": "stdout",
     "output_type": "stream",
     "text": [
      "successfully downloaded: <class 'src.acquisitions.qh_pm.QH_PM'>\n",
      "\tQuerying PM event timestamps for system: QPS, className: DQAMCNMB_PMSTD, source: * from 2015-02-20 21:47:58.420 to 2015-02-20 21:57:08.420\n"
     ]
    },
    {
     "data": {
      "application/vnd.jupyter.widget-view+json": {
       "model_id": "76c3a254104c4146bc41af9c23999367",
       "version_major": 2,
       "version_minor": 0
      },
      "text/plain": [
       "Querying U, I Diode PM:   0%|          | 0/4 [00:00<?, ?it/s]"
      ]
     },
     "metadata": {},
     "output_type": "display_data"
    },
    {
     "name": "stdout",
     "output_type": "stream",
     "text": [
      "\tQuerying PM event timestamps for system: QPS, className: DQAMGNSRB_PMREL, source: B27R2 from 2015-02-20 21:38:48.374 to 2015-02-20 21:58:48.374\n",
      "successfully downloaded: <class 'src.acquisitions.current_voltage_diode_leads_pm.CURRENT_VOLTAGE_DIODE_LEADS_PM'>\n",
      "\tQuerying PM event timestamps for system: QPS, className: DQAMCNMB_PMSTD, source: * from 2015-02-20 21:47:58.420 to 2015-02-20 21:54:38.420\n"
     ]
    },
    {
     "data": {
      "application/vnd.jupyter.widget-view+json": {
       "model_id": "e0548ee1c8ac4a97b92d035a73745bc3",
       "version_major": 2,
       "version_minor": 0
      },
      "text/plain": [
       "Querying U, I Diode leads NXCALS:   0%|          | 0/4 [00:00<?, ?it/s]"
      ]
     },
     "metadata": {},
     "output_type": "display_data"
    },
    {
     "name": "stdout",
     "output_type": "stream",
     "text": [
      "successfully downloaded: <class 'src.acquisitions.current_voltage_diode_leads_nxcals.CURRENT_VOLTAGE_DIODE_LEADS_NXCALS'>\n",
      "\tQuerying PM event timestamps for system: QPS, className: DQAMGNDRBODD, DQAMGNDRBEVEN, source: RB.A23 from 2015-02-20 21:48:38.420 to 2015-02-20 21:55:28.420\n",
      "\tQuerying PM event signal(s) DFLAS.7L3.RB.A23.LD3:U_RES, DFLAS.7L3.RB.A23.LD4:U_RES, DFLAS.7L3.RB.A23.LD3:U_HTS, DFLAS.7R2.RB.A23.LD1:U_HTS, DFLAS.7L3.RB.A23.LD4:U_HTS... for system: RB.A23..., className: DQAMGNDRBODD, DQAMGNDRBEVEN..., source: QPS... at 2015-02-20 21:48:49.218\n"
     ]
    },
    {
     "name": "stderr",
     "output_type": "stream",
     "text": [
      "Post Mortem returned no data for the following query: http://pm-api-pro/v2/pmdata/signal?system=QPS&className=DQAMGNDRBEVEN&source=RB.A23&timestampInNanos=1424465329218000000&signal=DFLAS.7R2.RB.A23.LD1:U_HTS\n",
      "Post Mortem returned no data for the following query: http://pm-api-pro/v2/pmdata/signal?system=QPS&className=DQAMGNDRBEVEN&source=RB.A23&timestampInNanos=1424465329218000000&signal=DFLAS.7R2.RB.A23.LD2:U_HTS\n",
      "Post Mortem returned no data for the following query: http://pm-api-pro/v2/pmdata/signal?system=QPS&className=DQAMGNDRBEVEN&source=RB.A23&timestampInNanos=1424465329218000000&signal=DFLAS.7R2.RB.A23.LD1:U_RES\n",
      "Post Mortem returned no data for the following query: http://pm-api-pro/v2/pmdata/signal?system=QPS&className=DQAMGNDRBEVEN&source=RB.A23&timestampInNanos=1424465329218000000&signal=DFLAS.7R2.RB.A23.LD2:U_RES\n"
     ]
    },
    {
     "name": "stdout",
     "output_type": "stream",
     "text": [
      "successfully downloaded: <class 'src.acquisitions.leads.LEADS'>\n",
      "\tQuerying PM event signal(s) IAB.I_A, STATUS.I_EARTH_PCNT, STATUS.I_MEAS, STATUS.I_REF, IEARTH.IEARTH for system: RPTE.UA27.RB.A23, className: 51_self_pmd, source: FGC at 2015-02-21 07:49:50.280\n",
      "successfully downloaded: <class 'src.acquisitions.pc_pm.PC_PM'>\n",
      "\tQuerying PM event timestamps for system: QPS, className: DQAMSNRB, source: UJ33.RB.A23, UA27.RB.A23 from 2015-02-21 07:49:40.280 to 2015-02-21 08:06:30.280\n",
      "\tQuerying PM event signal(s) UA27.RB.A23:U_DUMP_RES, UJ33.RB.A23:U_DUMP_RES for system: UJ33.RB.A23, UA27.RB.A23, className: DQAMSNRB, source: QPS at 2015-02-21 07:49:50.574\n"
     ]
    },
    {
     "name": "stderr",
     "output_type": "stream",
     "text": [
      "Post Mortem returned no data for the following query: http://pm-api-pro/v2/pmdata/signal?system=QPS&className=DQAMSNRB&source=UA27.RB.A23&timestampInNanos=1424501390574000000&signal=UA27.RB.A23:U_DUMP_RES\n"
     ]
    },
    {
     "name": "stdout",
     "output_type": "stream",
     "text": [
      "successfully downloaded: <class 'src.acquisitions.ee_u_dump_res_pm.EE_U_DUMP_RES_PM'>\n",
      "\tQuerying PM event timestamps for system: QPS, className: DQAMSNRB, source: UJ33.RB.A23, UA27.RB.A23 from 2015-02-21 07:49:40.280 to 2015-02-21 08:06:30.280\n",
      "\tQuerying PM event signal(s) UJ33.RB.A23:T_RES_BODY_2, UJ33.RB.A23:T_RES_BODY_3, UJ33.RB.A23:T_RES_BODY_1, UA27.RB.A23:T_RES_BODY_1, UA27.RB.A23:T_RES_BODY_2... for system: UJ33.RB.A23, UA27.RB.A23..., className: DQAMSNRB..., source: QPS... at 2015-02-21 07:49:50.574\n"
     ]
    },
    {
     "name": "stderr",
     "output_type": "stream",
     "text": [
      "Post Mortem returned no data for the following query: http://pm-api-pro/v2/pmdata/signal?system=QPS&className=DQAMSNRB&source=UA27.RB.A23&timestampInNanos=1424501390574000000&signal=UA27.RB.A23:T_RES_BODY_1\n",
      "Post Mortem returned no data for the following query: http://pm-api-pro/v2/pmdata/signal?system=QPS&className=DQAMSNRB&source=UA27.RB.A23&timestampInNanos=1424501390574000000&signal=UA27.RB.A23:T_RES_BODY_2\n",
      "Post Mortem returned no data for the following query: http://pm-api-pro/v2/pmdata/signal?system=QPS&className=DQAMSNRB&source=UA27.RB.A23&timestampInNanos=1424501390574000000&signal=UA27.RB.A23:T_RES_BODY_3\n"
     ]
    },
    {
     "name": "stdout",
     "output_type": "stream",
     "text": [
      "successfully downloaded: <class 'src.acquisitions.ee_t_res_pm.EE_T_RES_PM'>\n",
      "\tQuerying NXCALS signal(s) MB.A8R2:U_DIODE_RB, MB.A9R2:U_DIODE_RB, MB.B9R2:U_DIODE_RB, MB.A10R2:U_DIODE_RB, MB.B8R2:U_DIODE_RB... from 2015-02-21 07:49:00.280 to 2015-02-21 07:58:10.280\n",
      "\tQuerying NXCALS signal(s) MB.B8R2:U_EARTH_RB, MB.A11R2:U_EARTH_RB, MB.A8R2:U_EARTH_RB, MB.B10R2:U_EARTH_RB, MB.B13R2:U_EARTH_RB... from 2015-02-21 07:49:00.280 to 2015-02-21 07:58:10.280\n",
      "successfully downloaded: <class 'src.acquisitions.voltage_nxcals.VOLTAGE_NXCALS'>\n",
      "\tQuerying PM event timestamps for system: QPS, className: DQAMCNMB_PMSTD, source: * from 2015-02-21 07:49:00.280 to 2015-02-21 07:58:10.280\n"
     ]
    },
    {
     "data": {
      "application/vnd.jupyter.widget-view+json": {
       "model_id": "357985cb63e44e71af8a2ab2d1187cf2",
       "version_major": 2,
       "version_minor": 0
      },
      "text/plain": [
       "Querying iQPS logic PM:   0%|          | 0/4 [00:00<?, ?it/s]"
      ]
     },
     "metadata": {},
     "output_type": "display_data"
    },
    {
     "name": "stdout",
     "output_type": "stream",
     "text": [
      "successfully downloaded: <class 'src.acquisitions.voltage_logic_iqps.VOLTAGE_LOGIC_IQPS'>\n",
      "\tQuerying PM event timestamps for system: QPS, className: DQAMCNMB_PMSTD, source: * from 2015-02-21 07:49:00.280 to 2015-02-21 07:58:10.280\n",
      "\tQuerying PM event timestamps for system: QPS, className: DQAMGNSRB_PMREL, source: * from 2015-02-21 07:49:40.280 to 2015-02-21 07:56:30.280\n",
      "successfully downloaded: <class 'src.acquisitions.voltage_logic_nqps.VOLTAGE_LOGIC_NQPS'>\n",
      "\tQuerying PM event timestamps for system: QPS, className: DQAMCNMB_PMHSU, source: * from 2015-02-21 07:49:40.280 to 2015-02-21 07:58:10.280\n"
     ]
    },
    {
     "name": "stderr",
     "output_type": "stream",
     "text": [
      "Some nQPS PM buffers missing. ['B8R2', 'B9R2', 'B10R2', 'B11R2', 'B12R2', 'B13R2', 'B14R2', 'B15R2', 'B16R2', 'B17R2', 'B18R2', 'B19R2', 'B20R2', 'B21R2', 'B22R2', 'B23R2', 'B24R2', 'B25R2', 'B26R2', 'B27R2', 'B28R2', 'B29R2', 'B30R2', 'B31R2', 'B32R2', 'B33R2', 'B34R2', 'B34L3', 'B33L3', 'B32L3', 'B31L3', 'B30L3', 'B29L3', 'B28L3', 'B27L3', 'B26L3', 'B25L3', 'B24L3', 'B23L3', 'B22L3', 'B21L3', 'B20L3', 'B19L3', 'B18L3', 'B17L3', 'B16L3', 'B15L3', 'B14L3', 'B13L3', 'B12L3', 'B11L3', 'B10L3', 'B9L3', 'B8L3'] not found for RB.A23 within [(10, 's'), (400, 's')] around 1424501390280000000.\n",
      "At least one of the timestamps (nQPS or QDS) is missing, query skipped returning empty pd.DataFrame.\n"
     ]
    },
    {
     "data": {
      "application/vnd.jupyter.widget-view+json": {
       "model_id": "0c46331dcce84729a4c7ea96c4339f89",
       "version_major": 2,
       "version_minor": 0
      },
      "text/plain": [
       "Querying PM:   0%|          | 0/4 [00:00<?, ?it/s]"
      ]
     },
     "metadata": {},
     "output_type": "display_data"
    },
    {
     "name": "stdout",
     "output_type": "stream",
     "text": [
      "successfully downloaded: <class 'src.acquisitions.qh_pm.QH_PM'>\n",
      "\tQuerying PM event timestamps for system: QPS, className: DQAMCNMB_PMSTD, source: * from 2015-02-21 07:49:00.280 to 2015-02-21 07:58:10.280\n"
     ]
    },
    {
     "data": {
      "application/vnd.jupyter.widget-view+json": {
       "model_id": "ca03c9f11d6b40f098fae0f5fa562546",
       "version_major": 2,
       "version_minor": 0
      },
      "text/plain": [
       "Querying U, I Diode PM:   0%|          | 0/4 [00:00<?, ?it/s]"
      ]
     },
     "metadata": {},
     "output_type": "display_data"
    },
    {
     "name": "stdout",
     "output_type": "stream",
     "text": [
      "\tQuerying PM event timestamps for system: QPS, className: DQAMGNSRB_PMREL, source: B29R2 from 2015-02-21 07:39:50.238 to 2015-02-21 07:59:50.238\n",
      "successfully downloaded: <class 'src.acquisitions.current_voltage_diode_leads_pm.CURRENT_VOLTAGE_DIODE_LEADS_PM'>\n",
      "\tQuerying PM event timestamps for system: QPS, className: DQAMCNMB_PMSTD, source: * from 2015-02-21 07:49:00.280 to 2015-02-21 07:55:40.280\n"
     ]
    },
    {
     "data": {
      "application/vnd.jupyter.widget-view+json": {
       "model_id": "14dd3220ab4e4d4897ed7d4feb400dfb",
       "version_major": 2,
       "version_minor": 0
      },
      "text/plain": [
       "Querying U, I Diode leads NXCALS:   0%|          | 0/4 [00:00<?, ?it/s]"
      ]
     },
     "metadata": {},
     "output_type": "display_data"
    },
    {
     "name": "stdout",
     "output_type": "stream",
     "text": [
      "successfully downloaded: <class 'src.acquisitions.current_voltage_diode_leads_nxcals.CURRENT_VOLTAGE_DIODE_LEADS_NXCALS'>\n",
      "\tQuerying PM event timestamps for system: QPS, className: DQAMGNDRBODD, DQAMGNDRBEVEN, source: RB.A23 from 2015-02-21 07:49:40.280 to 2015-02-21 07:56:30.280\n",
      "\tQuerying PM event signal(s) DFLAS.7L3.RB.A23.LD3:U_RES, DFLAS.7L3.RB.A23.LD4:U_RES, DFLAS.7L3.RB.A23.LD3:U_HTS, DFLAS.7R2.RB.A23.LD1:U_HTS, DFLAS.7L3.RB.A23.LD4:U_HTS... for system: RB.A23..., className: DQAMGNDRBODD, DQAMGNDRBEVEN..., source: QPS... at 2015-02-21 07:49:51.213\n"
     ]
    },
    {
     "name": "stderr",
     "output_type": "stream",
     "text": [
      "Post Mortem returned no data for the following query: http://pm-api-pro/v2/pmdata/signal?system=QPS&className=DQAMGNDRBEVEN&source=RB.A23&timestampInNanos=1424501391213000000&signal=DFLAS.7R2.RB.A23.LD1:U_HTS\n",
      "Post Mortem returned no data for the following query: http://pm-api-pro/v2/pmdata/signal?system=QPS&className=DQAMGNDRBEVEN&source=RB.A23&timestampInNanos=1424501391213000000&signal=DFLAS.7R2.RB.A23.LD2:U_HTS\n",
      "Post Mortem returned no data for the following query: http://pm-api-pro/v2/pmdata/signal?system=QPS&className=DQAMGNDRBEVEN&source=RB.A23&timestampInNanos=1424501391213000000&signal=DFLAS.7R2.RB.A23.LD1:U_RES\n",
      "Post Mortem returned no data for the following query: http://pm-api-pro/v2/pmdata/signal?system=QPS&className=DQAMGNDRBEVEN&source=RB.A23&timestampInNanos=1424501391213000000&signal=DFLAS.7R2.RB.A23.LD2:U_RES\n"
     ]
    },
    {
     "name": "stdout",
     "output_type": "stream",
     "text": [
      "successfully downloaded: <class 'src.acquisitions.leads.LEADS'>\n",
      "\tQuerying PM event signal(s) IAB.I_A, STATUS.I_EARTH_PCNT, STATUS.I_MEAS, STATUS.I_REF, IEARTH.IEARTH for system: RPTE.UA27.RB.A23, className: 51_self_pmd, source: FGC at 2015-02-21 19:43:34.080\n",
      "successfully downloaded: <class 'src.acquisitions.pc_pm.PC_PM'>\n",
      "\tQuerying PM event timestamps for system: QPS, className: DQAMSNRB, source: UJ33.RB.A23, UA27.RB.A23 from 2015-02-21 19:43:24.080 to 2015-02-21 20:00:14.080\n",
      "\tQuerying PM event signal(s) UA27.RB.A23:U_DUMP_RES, UJ33.RB.A23:U_DUMP_RES for system: UJ33.RB.A23, UA27.RB.A23, className: DQAMSNRB, source: QPS at 2015-02-21 19:43:34.373\n"
     ]
    },
    {
     "name": "stderr",
     "output_type": "stream",
     "text": [
      "Post Mortem returned no data for the following query: http://pm-api-pro/v2/pmdata/signal?system=QPS&className=DQAMSNRB&source=UA27.RB.A23&timestampInNanos=1424544214373000000&signal=UA27.RB.A23:U_DUMP_RES\n"
     ]
    },
    {
     "name": "stdout",
     "output_type": "stream",
     "text": [
      "successfully downloaded: <class 'src.acquisitions.ee_u_dump_res_pm.EE_U_DUMP_RES_PM'>\n",
      "\tQuerying PM event timestamps for system: QPS, className: DQAMSNRB, source: UJ33.RB.A23, UA27.RB.A23 from 2015-02-21 19:43:24.080 to 2015-02-21 20:00:14.080\n",
      "\tQuerying PM event signal(s) UJ33.RB.A23:T_RES_BODY_2, UJ33.RB.A23:T_RES_BODY_3, UJ33.RB.A23:T_RES_BODY_1, UA27.RB.A23:T_RES_BODY_1, UA27.RB.A23:T_RES_BODY_2... for system: UJ33.RB.A23, UA27.RB.A23..., className: DQAMSNRB..., source: QPS... at 2015-02-21 19:43:34.373\n"
     ]
    },
    {
     "name": "stderr",
     "output_type": "stream",
     "text": [
      "Post Mortem returned no data for the following query: http://pm-api-pro/v2/pmdata/signal?system=QPS&className=DQAMSNRB&source=UA27.RB.A23&timestampInNanos=1424544214373000000&signal=UA27.RB.A23:T_RES_BODY_1\n",
      "Post Mortem returned no data for the following query: http://pm-api-pro/v2/pmdata/signal?system=QPS&className=DQAMSNRB&source=UA27.RB.A23&timestampInNanos=1424544214373000000&signal=UA27.RB.A23:T_RES_BODY_2\n",
      "Post Mortem returned no data for the following query: http://pm-api-pro/v2/pmdata/signal?system=QPS&className=DQAMSNRB&source=UA27.RB.A23&timestampInNanos=1424544214373000000&signal=UA27.RB.A23:T_RES_BODY_3\n"
     ]
    },
    {
     "name": "stdout",
     "output_type": "stream",
     "text": [
      "successfully downloaded: <class 'src.acquisitions.ee_t_res_pm.EE_T_RES_PM'>\n",
      "\tQuerying NXCALS signal(s) MB.A8R2:U_DIODE_RB, MB.A9R2:U_DIODE_RB, MB.B9R2:U_DIODE_RB, MB.A10R2:U_DIODE_RB, MB.B8R2:U_DIODE_RB... from 2015-02-21 19:42:44.080 to 2015-02-21 19:51:54.080\n",
      "\tQuerying NXCALS signal(s) MB.B8R2:U_EARTH_RB, MB.A11R2:U_EARTH_RB, MB.A8R2:U_EARTH_RB, MB.B10R2:U_EARTH_RB, MB.B13R2:U_EARTH_RB... from 2015-02-21 19:42:44.080 to 2015-02-21 19:51:54.080\n",
      "successfully downloaded: <class 'src.acquisitions.voltage_nxcals.VOLTAGE_NXCALS'>\n",
      "\tQuerying PM event timestamps for system: QPS, className: DQAMCNMB_PMSTD, source: * from 2015-02-21 19:42:44.080 to 2015-02-21 19:51:54.080\n"
     ]
    },
    {
     "data": {
      "application/vnd.jupyter.widget-view+json": {
       "model_id": "0dae53854db54f4aa6c4a7ce58432702",
       "version_major": 2,
       "version_minor": 0
      },
      "text/plain": [
       "Querying iQPS logic PM:   0%|          | 0/5 [00:00<?, ?it/s]"
      ]
     },
     "metadata": {},
     "output_type": "display_data"
    },
    {
     "name": "stdout",
     "output_type": "stream",
     "text": [
      "successfully downloaded: <class 'src.acquisitions.voltage_logic_iqps.VOLTAGE_LOGIC_IQPS'>\n",
      "\tQuerying PM event timestamps for system: QPS, className: DQAMCNMB_PMSTD, source: * from 2015-02-21 19:42:44.080 to 2015-02-21 19:51:54.080\n",
      "\tQuerying PM event timestamps for system: QPS, className: DQAMGNSRB_PMREL, source: * from 2015-02-21 19:43:24.080 to 2015-02-21 19:50:14.080\n",
      "successfully downloaded: <class 'src.acquisitions.voltage_logic_nqps.VOLTAGE_LOGIC_NQPS'>\n",
      "\tQuerying PM event timestamps for system: QPS, className: DQAMCNMB_PMHSU, source: * from 2015-02-21 19:43:24.080 to 2015-02-21 19:51:54.080\n"
     ]
    },
    {
     "name": "stderr",
     "output_type": "stream",
     "text": [
      "Some nQPS PM buffers missing. ['B8R2', 'B9R2', 'B10R2', 'B11R2', 'B12R2', 'B13R2', 'B14R2', 'B15R2', 'B16R2', 'B17R2', 'B18R2', 'B19R2', 'B20R2', 'B21R2', 'B22R2', 'B23R2', 'B24R2', 'B25R2', 'B26R2', 'B27R2', 'B28R2', 'B29R2', 'B30R2', 'B31R2', 'B32R2', 'B33R2', 'B34R2', 'B34L3', 'B33L3', 'B32L3', 'B31L3', 'B30L3', 'B29L3', 'B28L3', 'B27L3', 'B26L3', 'B25L3', 'B24L3', 'B23L3', 'B22L3', 'B21L3', 'B20L3', 'B19L3', 'B18L3', 'B17L3', 'B16L3', 'B15L3', 'B14L3', 'B13L3', 'B12L3', 'B11L3', 'B10L3', 'B9L3', 'B8L3'] not found for RB.A23 within [(10, 's'), (400, 's')] around 1424544214080000000.\n",
      "At least one of the timestamps (nQPS or QDS) is missing, query skipped returning empty pd.DataFrame.\n"
     ]
    },
    {
     "data": {
      "application/vnd.jupyter.widget-view+json": {
       "model_id": "9f2a2ef36769485c8bd387319c7f2f31",
       "version_major": 2,
       "version_minor": 0
      },
      "text/plain": [
       "Querying PM:   0%|          | 0/5 [00:00<?, ?it/s]"
      ]
     },
     "metadata": {},
     "output_type": "display_data"
    },
    {
     "name": "stdout",
     "output_type": "stream",
     "text": [
      "successfully downloaded: <class 'src.acquisitions.qh_pm.QH_PM'>\n",
      "\tQuerying PM event timestamps for system: QPS, className: DQAMCNMB_PMSTD, source: * from 2015-02-21 19:42:44.080 to 2015-02-21 19:51:54.080\n"
     ]
    },
    {
     "data": {
      "application/vnd.jupyter.widget-view+json": {
       "model_id": "1920513323b94fa7b6785b3527b820d8",
       "version_major": 2,
       "version_minor": 0
      },
      "text/plain": [
       "Querying U, I Diode PM:   0%|          | 0/5 [00:00<?, ?it/s]"
      ]
     },
     "metadata": {},
     "output_type": "display_data"
    },
    {
     "name": "stdout",
     "output_type": "stream",
     "text": [
      "\tQuerying PM event timestamps for system: QPS, className: DQAMGNSRB_PMREL, source: B29R2 from 2015-02-21 19:33:34.037 to 2015-02-21 19:53:34.037\n",
      "successfully downloaded: <class 'src.acquisitions.current_voltage_diode_leads_pm.CURRENT_VOLTAGE_DIODE_LEADS_PM'>\n",
      "\tQuerying PM event timestamps for system: QPS, className: DQAMCNMB_PMSTD, source: * from 2015-02-21 19:42:44.080 to 2015-02-21 19:49:24.080\n"
     ]
    },
    {
     "data": {
      "application/vnd.jupyter.widget-view+json": {
       "model_id": "41fb53c649a64068b5d25cf720ff7cfb",
       "version_major": 2,
       "version_minor": 0
      },
      "text/plain": [
       "Querying U, I Diode leads NXCALS:   0%|          | 0/5 [00:00<?, ?it/s]"
      ]
     },
     "metadata": {},
     "output_type": "display_data"
    },
    {
     "name": "stdout",
     "output_type": "stream",
     "text": [
      "successfully downloaded: <class 'src.acquisitions.current_voltage_diode_leads_nxcals.CURRENT_VOLTAGE_DIODE_LEADS_NXCALS'>\n",
      "\tQuerying PM event timestamps for system: QPS, className: DQAMGNDRBODD, DQAMGNDRBEVEN, source: RB.A23 from 2015-02-21 19:43:24.080 to 2015-02-21 19:50:14.080\n",
      "\tQuerying PM event signal(s) DFLAS.7L3.RB.A23.LD3:U_RES, DFLAS.7L3.RB.A23.LD4:U_RES, DFLAS.7L3.RB.A23.LD3:U_HTS, DFLAS.7R2.RB.A23.LD1:U_HTS, DFLAS.7L3.RB.A23.LD4:U_HTS... for system: RB.A23..., className: DQAMGNDRBODD, DQAMGNDRBEVEN..., source: QPS... at 2015-02-21 19:43:35.242\n"
     ]
    },
    {
     "name": "stderr",
     "output_type": "stream",
     "text": [
      "Post Mortem returned no data for the following query: http://pm-api-pro/v2/pmdata/signal?system=QPS&className=DQAMGNDRBEVEN&source=RB.A23&timestampInNanos=1424544215242000000&signal=DFLAS.7R2.RB.A23.LD1:U_HTS\n",
      "Post Mortem returned no data for the following query: http://pm-api-pro/v2/pmdata/signal?system=QPS&className=DQAMGNDRBEVEN&source=RB.A23&timestampInNanos=1424544215242000000&signal=DFLAS.7R2.RB.A23.LD2:U_HTS\n",
      "Post Mortem returned no data for the following query: http://pm-api-pro/v2/pmdata/signal?system=QPS&className=DQAMGNDRBEVEN&source=RB.A23&timestampInNanos=1424544215242000000&signal=DFLAS.7R2.RB.A23.LD1:U_RES\n",
      "Post Mortem returned no data for the following query: http://pm-api-pro/v2/pmdata/signal?system=QPS&className=DQAMGNDRBEVEN&source=RB.A23&timestampInNanos=1424544215242000000&signal=DFLAS.7R2.RB.A23.LD2:U_RES\n"
     ]
    },
    {
     "name": "stdout",
     "output_type": "stream",
     "text": [
      "successfully downloaded: <class 'src.acquisitions.leads.LEADS'>\n",
      "\tQuerying PM event signal(s) IAB.I_A, STATUS.I_EARTH_PCNT, STATUS.I_MEAS, STATUS.I_REF, IEARTH.IEARTH for system: RPTE.UA27.RB.A23, className: 51_self_pmd, source: FGC at 2015-02-22 10:18:00.980\n",
      "successfully downloaded: <class 'src.acquisitions.pc_pm.PC_PM'>\n",
      "\tQuerying PM event timestamps for system: QPS, className: DQAMSNRB, source: UJ33.RB.A23, UA27.RB.A23 from 2015-02-22 10:17:50.980 to 2015-02-22 10:34:40.980\n",
      "\tQuerying PM event signal(s) UA27.RB.A23:U_DUMP_RES, UJ33.RB.A23:U_DUMP_RES for system: UJ33.RB.A23, UA27.RB.A23, className: DQAMSNRB, source: QPS at 2015-02-22 10:18:01.285\n"
     ]
    },
    {
     "name": "stderr",
     "output_type": "stream",
     "text": [
      "Post Mortem returned no data for the following query: http://pm-api-pro/v2/pmdata/signal?system=QPS&className=DQAMSNRB&source=UA27.RB.A23&timestampInNanos=1424596681285000000&signal=UA27.RB.A23:U_DUMP_RES\n"
     ]
    },
    {
     "name": "stdout",
     "output_type": "stream",
     "text": [
      "successfully downloaded: <class 'src.acquisitions.ee_u_dump_res_pm.EE_U_DUMP_RES_PM'>\n",
      "\tQuerying PM event timestamps for system: QPS, className: DQAMSNRB, source: UJ33.RB.A23, UA27.RB.A23 from 2015-02-22 10:17:50.980 to 2015-02-22 10:34:40.980\n",
      "\tQuerying PM event signal(s) UJ33.RB.A23:T_RES_BODY_2, UJ33.RB.A23:T_RES_BODY_3, UJ33.RB.A23:T_RES_BODY_1, UA27.RB.A23:T_RES_BODY_1, UA27.RB.A23:T_RES_BODY_2... for system: UJ33.RB.A23, UA27.RB.A23..., className: DQAMSNRB..., source: QPS... at 2015-02-22 10:18:01.285\n"
     ]
    },
    {
     "name": "stderr",
     "output_type": "stream",
     "text": [
      "Post Mortem returned no data for the following query: http://pm-api-pro/v2/pmdata/signal?system=QPS&className=DQAMSNRB&source=UA27.RB.A23&timestampInNanos=1424596681285000000&signal=UA27.RB.A23:T_RES_BODY_1\n",
      "Post Mortem returned no data for the following query: http://pm-api-pro/v2/pmdata/signal?system=QPS&className=DQAMSNRB&source=UA27.RB.A23&timestampInNanos=1424596681285000000&signal=UA27.RB.A23:T_RES_BODY_2\n",
      "Post Mortem returned no data for the following query: http://pm-api-pro/v2/pmdata/signal?system=QPS&className=DQAMSNRB&source=UA27.RB.A23&timestampInNanos=1424596681285000000&signal=UA27.RB.A23:T_RES_BODY_3\n"
     ]
    },
    {
     "name": "stdout",
     "output_type": "stream",
     "text": [
      "successfully downloaded: <class 'src.acquisitions.ee_t_res_pm.EE_T_RES_PM'>\n",
      "\tQuerying NXCALS signal(s) MB.A8R2:U_DIODE_RB, MB.A9R2:U_DIODE_RB, MB.B9R2:U_DIODE_RB, MB.A10R2:U_DIODE_RB, MB.B8R2:U_DIODE_RB... from 2015-02-22 10:17:10.980 to 2015-02-22 10:26:20.980\n",
      "\tQuerying NXCALS signal(s) MB.B8R2:U_EARTH_RB, MB.A11R2:U_EARTH_RB, MB.A8R2:U_EARTH_RB, MB.B10R2:U_EARTH_RB, MB.B13R2:U_EARTH_RB... from 2015-02-22 10:17:10.980 to 2015-02-22 10:26:20.980\n",
      "successfully downloaded: <class 'src.acquisitions.voltage_nxcals.VOLTAGE_NXCALS'>\n",
      "\tQuerying PM event timestamps for system: QPS, className: DQAMCNMB_PMSTD, source: * from 2015-02-22 10:17:10.980 to 2015-02-22 10:26:20.980\n"
     ]
    },
    {
     "data": {
      "application/vnd.jupyter.widget-view+json": {
       "model_id": "fc95122c819047fa98f589e1f386d984",
       "version_major": 2,
       "version_minor": 0
      },
      "text/plain": [
       "Querying iQPS logic PM:   0%|          | 0/3 [00:00<?, ?it/s]"
      ]
     },
     "metadata": {},
     "output_type": "display_data"
    },
    {
     "name": "stdout",
     "output_type": "stream",
     "text": [
      "successfully downloaded: <class 'src.acquisitions.voltage_logic_iqps.VOLTAGE_LOGIC_IQPS'>\n",
      "\tQuerying PM event timestamps for system: QPS, className: DQAMCNMB_PMSTD, source: * from 2015-02-22 10:17:10.980 to 2015-02-22 10:26:20.980\n",
      "\tQuerying PM event timestamps for system: QPS, className: DQAMGNSRB_PMREL, source: * from 2015-02-22 10:17:50.980 to 2015-02-22 10:24:40.980\n",
      "successfully downloaded: <class 'src.acquisitions.voltage_logic_nqps.VOLTAGE_LOGIC_NQPS'>\n",
      "\tQuerying PM event timestamps for system: QPS, className: DQAMCNMB_PMHSU, source: * from 2015-02-22 10:17:50.980 to 2015-02-22 10:26:20.980\n"
     ]
    },
    {
     "name": "stderr",
     "output_type": "stream",
     "text": [
      "Some nQPS PM buffers missing. ['B8R2', 'B9R2', 'B10R2', 'B11R2', 'B12R2', 'B13R2', 'B14R2', 'B15R2', 'B16R2', 'B17R2', 'B18R2', 'B19R2', 'B20R2', 'B21R2', 'B22R2', 'B23R2', 'B24R2', 'B25R2', 'B26R2', 'B27R2', 'B28R2', 'B29R2', 'B30R2', 'B31R2', 'B32R2', 'B33R2', 'B34R2', 'B34L3', 'B33L3', 'B32L3', 'B31L3', 'B30L3', 'B29L3', 'B28L3', 'B27L3', 'B26L3', 'B25L3', 'B24L3', 'B23L3', 'B22L3', 'B21L3', 'B20L3', 'B19L3', 'B18L3', 'B17L3', 'B16L3', 'B15L3', 'B14L3', 'B13L3', 'B12L3', 'B11L3', 'B10L3', 'B9L3', 'B8L3'] not found for RB.A23 within [(10, 's'), (400, 's')] around 1424596680980000000.\n",
      "At least one of the timestamps (nQPS or QDS) is missing, query skipped returning empty pd.DataFrame.\n"
     ]
    },
    {
     "data": {
      "application/vnd.jupyter.widget-view+json": {
       "model_id": "5f858ca050a644d18d93af7bb296202e",
       "version_major": 2,
       "version_minor": 0
      },
      "text/plain": [
       "Querying PM:   0%|          | 0/3 [00:00<?, ?it/s]"
      ]
     },
     "metadata": {},
     "output_type": "display_data"
    },
    {
     "name": "stdout",
     "output_type": "stream",
     "text": [
      "successfully downloaded: <class 'src.acquisitions.qh_pm.QH_PM'>\n",
      "\tQuerying PM event timestamps for system: QPS, className: DQAMCNMB_PMSTD, source: * from 2015-02-22 10:17:10.980 to 2015-02-22 10:26:20.980\n"
     ]
    },
    {
     "data": {
      "application/vnd.jupyter.widget-view+json": {
       "model_id": "4e3b98a60f3b4e93a94ad845c94039fd",
       "version_major": 2,
       "version_minor": 0
      },
      "text/plain": [
       "Querying U, I Diode PM:   0%|          | 0/3 [00:00<?, ?it/s]"
      ]
     },
     "metadata": {},
     "output_type": "display_data"
    },
    {
     "name": "stdout",
     "output_type": "stream",
     "text": [
      "\tQuerying PM event timestamps for system: QPS, className: DQAMGNSRB_PMREL, source: B28L3 from 2015-02-22 10:08:00.958 to 2015-02-22 10:28:00.958\n",
      "successfully downloaded: <class 'src.acquisitions.current_voltage_diode_leads_pm.CURRENT_VOLTAGE_DIODE_LEADS_PM'>\n",
      "\tQuerying PM event timestamps for system: QPS, className: DQAMCNMB_PMSTD, source: * from 2015-02-22 10:17:10.980 to 2015-02-22 10:23:50.980\n"
     ]
    },
    {
     "data": {
      "application/vnd.jupyter.widget-view+json": {
       "model_id": "c8a4cac37ae34ed4b717c12c9045f8dd",
       "version_major": 2,
       "version_minor": 0
      },
      "text/plain": [
       "Querying U, I Diode leads NXCALS:   0%|          | 0/3 [00:00<?, ?it/s]"
      ]
     },
     "metadata": {},
     "output_type": "display_data"
    },
    {
     "name": "stdout",
     "output_type": "stream",
     "text": [
      "successfully downloaded: <class 'src.acquisitions.current_voltage_diode_leads_nxcals.CURRENT_VOLTAGE_DIODE_LEADS_NXCALS'>\n",
      "\tQuerying PM event timestamps for system: QPS, className: DQAMGNDRBODD, DQAMGNDRBEVEN, source: RB.A23 from 2015-02-22 10:17:50.980 to 2015-02-22 10:24:40.980\n",
      "\tQuerying PM event signal(s) DFLAS.7L3.RB.A23.LD3:U_RES, DFLAS.7L3.RB.A23.LD4:U_RES, DFLAS.7L3.RB.A23.LD3:U_HTS, DFLAS.7R2.RB.A23.LD1:U_HTS, DFLAS.7L3.RB.A23.LD4:U_HTS... for system: RB.A23..., className: DQAMGNDRBODD, DQAMGNDRBEVEN..., source: QPS... at 2015-02-22 10:18:02.024\n"
     ]
    },
    {
     "name": "stderr",
     "output_type": "stream",
     "text": [
      "Post Mortem returned no data for the following query: http://pm-api-pro/v2/pmdata/signal?system=QPS&className=DQAMGNDRBEVEN&source=RB.A23&timestampInNanos=1424596682024000000&signal=DFLAS.7R2.RB.A23.LD1:U_HTS\n",
      "Post Mortem returned no data for the following query: http://pm-api-pro/v2/pmdata/signal?system=QPS&className=DQAMGNDRBEVEN&source=RB.A23&timestampInNanos=1424596682024000000&signal=DFLAS.7R2.RB.A23.LD2:U_HTS\n",
      "Post Mortem returned no data for the following query: http://pm-api-pro/v2/pmdata/signal?system=QPS&className=DQAMGNDRBEVEN&source=RB.A23&timestampInNanos=1424596682024000000&signal=DFLAS.7R2.RB.A23.LD1:U_RES\n",
      "Post Mortem returned no data for the following query: http://pm-api-pro/v2/pmdata/signal?system=QPS&className=DQAMGNDRBEVEN&source=RB.A23&timestampInNanos=1424596682024000000&signal=DFLAS.7R2.RB.A23.LD2:U_RES\n"
     ]
    },
    {
     "name": "stdout",
     "output_type": "stream",
     "text": [
      "successfully downloaded: <class 'src.acquisitions.leads.LEADS'>\n",
      "\tQuerying PM event signal(s) IAB.I_A, STATUS.I_EARTH_PCNT, STATUS.I_MEAS, STATUS.I_REF, IEARTH.IEARTH for system: RPTE.UA27.RB.A23, className: 51_self_pmd, source: FGC at 2015-02-22 21:55:42.740\n",
      "successfully downloaded: <class 'src.acquisitions.pc_pm.PC_PM'>\n",
      "\tQuerying PM event timestamps for system: QPS, className: DQAMSNRB, source: UJ33.RB.A23, UA27.RB.A23 from 2015-02-22 21:55:32.740 to 2015-02-22 22:12:22.740\n",
      "\tQuerying PM event signal(s) UA27.RB.A23:U_DUMP_RES, UJ33.RB.A23:U_DUMP_RES for system: UJ33.RB.A23, UA27.RB.A23, className: DQAMSNRB, source: QPS at 2015-02-22 21:55:43.038\n"
     ]
    },
    {
     "name": "stderr",
     "output_type": "stream",
     "text": [
      "Post Mortem returned no data for the following query: http://pm-api-pro/v2/pmdata/signal?system=QPS&className=DQAMSNRB&source=UA27.RB.A23&timestampInNanos=1424638543038000000&signal=UA27.RB.A23:U_DUMP_RES\n"
     ]
    },
    {
     "name": "stdout",
     "output_type": "stream",
     "text": [
      "successfully downloaded: <class 'src.acquisitions.ee_u_dump_res_pm.EE_U_DUMP_RES_PM'>\n",
      "\tQuerying PM event timestamps for system: QPS, className: DQAMSNRB, source: UJ33.RB.A23, UA27.RB.A23 from 2015-02-22 21:55:32.740 to 2015-02-22 22:12:22.740\n",
      "\tQuerying PM event signal(s) UJ33.RB.A23:T_RES_BODY_2, UJ33.RB.A23:T_RES_BODY_3, UJ33.RB.A23:T_RES_BODY_1, UA27.RB.A23:T_RES_BODY_1, UA27.RB.A23:T_RES_BODY_2... for system: UJ33.RB.A23, UA27.RB.A23..., className: DQAMSNRB..., source: QPS... at 2015-02-22 21:55:43.038\n"
     ]
    },
    {
     "name": "stderr",
     "output_type": "stream",
     "text": [
      "Post Mortem returned no data for the following query: http://pm-api-pro/v2/pmdata/signal?system=QPS&className=DQAMSNRB&source=UA27.RB.A23&timestampInNanos=1424638543038000000&signal=UA27.RB.A23:T_RES_BODY_1\n",
      "Post Mortem returned no data for the following query: http://pm-api-pro/v2/pmdata/signal?system=QPS&className=DQAMSNRB&source=UA27.RB.A23&timestampInNanos=1424638543038000000&signal=UA27.RB.A23:T_RES_BODY_2\n",
      "Post Mortem returned no data for the following query: http://pm-api-pro/v2/pmdata/signal?system=QPS&className=DQAMSNRB&source=UA27.RB.A23&timestampInNanos=1424638543038000000&signal=UA27.RB.A23:T_RES_BODY_3\n"
     ]
    },
    {
     "name": "stdout",
     "output_type": "stream",
     "text": [
      "successfully downloaded: <class 'src.acquisitions.ee_t_res_pm.EE_T_RES_PM'>\n",
      "\tQuerying NXCALS signal(s) MB.A8R2:U_DIODE_RB, MB.A9R2:U_DIODE_RB, MB.B9R2:U_DIODE_RB, MB.A10R2:U_DIODE_RB, MB.B8R2:U_DIODE_RB... from 2015-02-22 21:54:52.740 to 2015-02-22 22:04:02.740\n",
      "\tQuerying NXCALS signal(s) MB.B8R2:U_EARTH_RB, MB.A11R2:U_EARTH_RB, MB.A8R2:U_EARTH_RB, MB.B10R2:U_EARTH_RB, MB.B13R2:U_EARTH_RB... from 2015-02-22 21:54:52.740 to 2015-02-22 22:04:02.740\n",
      "successfully downloaded: <class 'src.acquisitions.voltage_nxcals.VOLTAGE_NXCALS'>\n",
      "\tQuerying PM event timestamps for system: QPS, className: DQAMCNMB_PMSTD, source: * from 2015-02-22 21:54:52.740 to 2015-02-22 22:04:02.740\n"
     ]
    },
    {
     "data": {
      "application/vnd.jupyter.widget-view+json": {
       "model_id": "b43999bdf770485c90d7af1838cb6bc5",
       "version_major": 2,
       "version_minor": 0
      },
      "text/plain": [
       "Querying iQPS logic PM:   0%|          | 0/2 [00:00<?, ?it/s]"
      ]
     },
     "metadata": {},
     "output_type": "display_data"
    },
    {
     "name": "stdout",
     "output_type": "stream",
     "text": [
      "successfully downloaded: <class 'src.acquisitions.voltage_logic_iqps.VOLTAGE_LOGIC_IQPS'>\n",
      "\tQuerying PM event timestamps for system: QPS, className: DQAMCNMB_PMSTD, source: * from 2015-02-22 21:54:52.740 to 2015-02-22 22:04:02.740\n",
      "\tQuerying PM event timestamps for system: QPS, className: DQAMGNSRB_PMREL, source: * from 2015-02-22 21:55:32.740 to 2015-02-22 22:02:22.740\n",
      "successfully downloaded: <class 'src.acquisitions.voltage_logic_nqps.VOLTAGE_LOGIC_NQPS'>\n",
      "\tQuerying PM event timestamps for system: QPS, className: DQAMCNMB_PMHSU, source: * from 2015-02-22 21:55:32.740 to 2015-02-22 22:04:02.740\n"
     ]
    },
    {
     "name": "stderr",
     "output_type": "stream",
     "text": [
      "Some nQPS PM buffers missing. ['B8R2', 'B9R2', 'B10R2', 'B11R2', 'B12R2', 'B13R2', 'B14R2', 'B15R2', 'B16R2', 'B17R2', 'B18R2', 'B19R2', 'B20R2', 'B21R2', 'B22R2', 'B23R2', 'B24R2', 'B25R2', 'B26R2', 'B27R2', 'B28R2', 'B29R2', 'B30R2', 'B31R2', 'B32R2', 'B33R2', 'B34R2', 'B34L3', 'B33L3', 'B32L3', 'B31L3', 'B30L3', 'B29L3', 'B28L3', 'B27L3', 'B26L3', 'B25L3', 'B24L3', 'B23L3', 'B22L3', 'B21L3', 'B20L3', 'B19L3', 'B18L3', 'B17L3', 'B16L3', 'B15L3', 'B14L3', 'B13L3', 'B12L3', 'B11L3', 'B10L3', 'B9L3', 'B8L3'] not found for RB.A23 within [(10, 's'), (400, 's')] around 1424638542740000000.\n",
      "At least one of the timestamps (nQPS or QDS) is missing, query skipped returning empty pd.DataFrame.\n"
     ]
    },
    {
     "data": {
      "application/vnd.jupyter.widget-view+json": {
       "model_id": "b8d21229ad044e9b9bdb8f823c826667",
       "version_major": 2,
       "version_minor": 0
      },
      "text/plain": [
       "Querying PM:   0%|          | 0/2 [00:00<?, ?it/s]"
      ]
     },
     "metadata": {},
     "output_type": "display_data"
    },
    {
     "name": "stdout",
     "output_type": "stream",
     "text": [
      "successfully downloaded: <class 'src.acquisitions.qh_pm.QH_PM'>\n",
      "\tQuerying PM event timestamps for system: QPS, className: DQAMCNMB_PMSTD, source: * from 2015-02-22 21:54:52.740 to 2015-02-22 22:04:02.740\n"
     ]
    },
    {
     "data": {
      "application/vnd.jupyter.widget-view+json": {
       "model_id": "c6d6b4746495494495f82d3f75e6d380",
       "version_major": 2,
       "version_minor": 0
      },
      "text/plain": [
       "Querying U, I Diode PM:   0%|          | 0/2 [00:00<?, ?it/s]"
      ]
     },
     "metadata": {},
     "output_type": "display_data"
    },
    {
     "name": "stdout",
     "output_type": "stream",
     "text": [
      "\tQuerying PM event timestamps for system: QPS, className: DQAMGNSRB_PMREL, source: B11R2 from 2015-02-22 21:45:42.703 to 2015-02-22 22:05:42.703\n",
      "successfully downloaded: <class 'src.acquisitions.current_voltage_diode_leads_pm.CURRENT_VOLTAGE_DIODE_LEADS_PM'>\n",
      "\tQuerying PM event timestamps for system: QPS, className: DQAMCNMB_PMSTD, source: * from 2015-02-22 21:54:52.740 to 2015-02-22 22:01:32.740\n"
     ]
    },
    {
     "data": {
      "application/vnd.jupyter.widget-view+json": {
       "model_id": "a04a00162d55454a910970d552ab9c8c",
       "version_major": 2,
       "version_minor": 0
      },
      "text/plain": [
       "Querying U, I Diode leads NXCALS:   0%|          | 0/2 [00:00<?, ?it/s]"
      ]
     },
     "metadata": {},
     "output_type": "display_data"
    },
    {
     "name": "stdout",
     "output_type": "stream",
     "text": [
      "successfully downloaded: <class 'src.acquisitions.current_voltage_diode_leads_nxcals.CURRENT_VOLTAGE_DIODE_LEADS_NXCALS'>\n",
      "\tQuerying PM event timestamps for system: QPS, className: DQAMGNDRBODD, DQAMGNDRBEVEN, source: RB.A23 from 2015-02-22 21:55:32.740 to 2015-02-22 22:02:22.740\n",
      "\tQuerying PM event signal(s) DFLAS.7L3.RB.A23.LD3:U_RES, DFLAS.7L3.RB.A23.LD4:U_RES, DFLAS.7L3.RB.A23.LD3:U_HTS, DFLAS.7R2.RB.A23.LD1:U_HTS, DFLAS.7L3.RB.A23.LD4:U_HTS... for system: RB.A23..., className: DQAMGNDRBODD, DQAMGNDRBEVEN..., source: QPS... at 2015-02-22 21:55:43.817\n"
     ]
    },
    {
     "name": "stderr",
     "output_type": "stream",
     "text": [
      "Post Mortem returned no data for the following query: http://pm-api-pro/v2/pmdata/signal?system=QPS&className=DQAMGNDRBEVEN&source=RB.A23&timestampInNanos=1424638543817000000&signal=DFLAS.7R2.RB.A23.LD1:U_HTS\n",
      "Post Mortem returned no data for the following query: http://pm-api-pro/v2/pmdata/signal?system=QPS&className=DQAMGNDRBEVEN&source=RB.A23&timestampInNanos=1424638543817000000&signal=DFLAS.7R2.RB.A23.LD2:U_HTS\n",
      "Post Mortem returned no data for the following query: http://pm-api-pro/v2/pmdata/signal?system=QPS&className=DQAMGNDRBEVEN&source=RB.A23&timestampInNanos=1424638543817000000&signal=DFLAS.7R2.RB.A23.LD1:U_RES\n",
      "Post Mortem returned no data for the following query: http://pm-api-pro/v2/pmdata/signal?system=QPS&className=DQAMGNDRBEVEN&source=RB.A23&timestampInNanos=1424638543817000000&signal=DFLAS.7R2.RB.A23.LD2:U_RES\n"
     ]
    },
    {
     "name": "stdout",
     "output_type": "stream",
     "text": [
      "successfully downloaded: <class 'src.acquisitions.leads.LEADS'>\n",
      "\tQuerying PM event signal(s) IAB.I_A, STATUS.I_EARTH_PCNT, STATUS.I_MEAS, STATUS.I_REF, IEARTH.IEARTH for system: RPTE.UA27.RB.A23, className: 51_self_pmd, source: FGC at 2015-02-23 07:47:39.980\n",
      "successfully downloaded: <class 'src.acquisitions.pc_pm.PC_PM'>\n",
      "\tQuerying PM event timestamps for system: QPS, className: DQAMSNRB, source: UJ33.RB.A23, UA27.RB.A23 from 2015-02-23 07:47:29.980 to 2015-02-23 08:04:19.980\n",
      "\tQuerying PM event signal(s) UA27.RB.A23:U_DUMP_RES, UJ33.RB.A23:U_DUMP_RES for system: UJ33.RB.A23, UA27.RB.A23, className: DQAMSNRB, source: QPS at 2015-02-23 07:47:40.274\n"
     ]
    },
    {
     "name": "stderr",
     "output_type": "stream",
     "text": [
      "Post Mortem returned no data for the following query: http://pm-api-pro/v2/pmdata/signal?system=QPS&className=DQAMSNRB&source=UA27.RB.A23&timestampInNanos=1424674060274000000&signal=UA27.RB.A23:U_DUMP_RES\n"
     ]
    },
    {
     "name": "stdout",
     "output_type": "stream",
     "text": [
      "successfully downloaded: <class 'src.acquisitions.ee_u_dump_res_pm.EE_U_DUMP_RES_PM'>\n",
      "\tQuerying PM event timestamps for system: QPS, className: DQAMSNRB, source: UJ33.RB.A23, UA27.RB.A23 from 2015-02-23 07:47:29.980 to 2015-02-23 08:04:19.980\n",
      "\tQuerying PM event signal(s) UJ33.RB.A23:T_RES_BODY_2, UJ33.RB.A23:T_RES_BODY_3, UJ33.RB.A23:T_RES_BODY_1, UA27.RB.A23:T_RES_BODY_1, UA27.RB.A23:T_RES_BODY_2... for system: UJ33.RB.A23, UA27.RB.A23..., className: DQAMSNRB..., source: QPS... at 2015-02-23 07:47:40.274\n"
     ]
    },
    {
     "name": "stderr",
     "output_type": "stream",
     "text": [
      "Post Mortem returned no data for the following query: http://pm-api-pro/v2/pmdata/signal?system=QPS&className=DQAMSNRB&source=UA27.RB.A23&timestampInNanos=1424674060274000000&signal=UA27.RB.A23:T_RES_BODY_1\n",
      "Post Mortem returned no data for the following query: http://pm-api-pro/v2/pmdata/signal?system=QPS&className=DQAMSNRB&source=UA27.RB.A23&timestampInNanos=1424674060274000000&signal=UA27.RB.A23:T_RES_BODY_2\n",
      "Post Mortem returned no data for the following query: http://pm-api-pro/v2/pmdata/signal?system=QPS&className=DQAMSNRB&source=UA27.RB.A23&timestampInNanos=1424674060274000000&signal=UA27.RB.A23:T_RES_BODY_3\n"
     ]
    },
    {
     "name": "stdout",
     "output_type": "stream",
     "text": [
      "successfully downloaded: <class 'src.acquisitions.ee_t_res_pm.EE_T_RES_PM'>\n",
      "\tQuerying NXCALS signal(s) MB.A8R2:U_DIODE_RB, MB.A9R2:U_DIODE_RB, MB.B9R2:U_DIODE_RB, MB.A10R2:U_DIODE_RB, MB.B8R2:U_DIODE_RB... from 2015-02-23 07:46:49.980 to 2015-02-23 07:55:59.980\n",
      "\tQuerying NXCALS signal(s) MB.B8R2:U_EARTH_RB, MB.A11R2:U_EARTH_RB, MB.A8R2:U_EARTH_RB, MB.B10R2:U_EARTH_RB, MB.B13R2:U_EARTH_RB... from 2015-02-23 07:46:49.980 to 2015-02-23 07:55:59.980\n",
      "successfully downloaded: <class 'src.acquisitions.voltage_nxcals.VOLTAGE_NXCALS'>\n",
      "\tQuerying PM event timestamps for system: QPS, className: DQAMCNMB_PMSTD, source: * from 2015-02-23 07:46:49.980 to 2015-02-23 07:55:59.980\n"
     ]
    },
    {
     "data": {
      "application/vnd.jupyter.widget-view+json": {
       "model_id": "4650a03cab024387b122f96573dca330",
       "version_major": 2,
       "version_minor": 0
      },
      "text/plain": [
       "Querying iQPS logic PM:   0%|          | 0/4 [00:00<?, ?it/s]"
      ]
     },
     "metadata": {},
     "output_type": "display_data"
    },
    {
     "name": "stdout",
     "output_type": "stream",
     "text": [
      "successfully downloaded: <class 'src.acquisitions.voltage_logic_iqps.VOLTAGE_LOGIC_IQPS'>\n",
      "\tQuerying PM event timestamps for system: QPS, className: DQAMCNMB_PMSTD, source: * from 2015-02-23 07:46:49.980 to 2015-02-23 07:55:59.980\n",
      "\tQuerying PM event timestamps for system: QPS, className: DQAMGNSRB_PMREL, source: * from 2015-02-23 07:47:29.980 to 2015-02-23 07:54:19.980\n",
      "successfully downloaded: <class 'src.acquisitions.voltage_logic_nqps.VOLTAGE_LOGIC_NQPS'>\n",
      "\tQuerying PM event timestamps for system: QPS, className: DQAMCNMB_PMHSU, source: * from 2015-02-23 07:47:29.980 to 2015-02-23 07:55:59.980\n"
     ]
    },
    {
     "name": "stderr",
     "output_type": "stream",
     "text": [
      "Some nQPS PM buffers missing. ['B8R2', 'B9R2', 'B10R2', 'B11R2', 'B12R2', 'B13R2', 'B14R2', 'B15R2', 'B16R2', 'B17R2', 'B18R2', 'B19R2', 'B20R2', 'B21R2', 'B22R2', 'B23R2', 'B24R2', 'B25R2', 'B26R2', 'B27R2', 'B28R2', 'B29R2', 'B30R2', 'B31R2', 'B32R2', 'B33R2', 'B34R2', 'B34L3', 'B33L3', 'B32L3', 'B31L3', 'B30L3', 'B29L3', 'B28L3', 'B27L3', 'B26L3', 'B25L3', 'B24L3', 'B23L3', 'B22L3', 'B21L3', 'B20L3', 'B19L3', 'B18L3', 'B17L3', 'B16L3', 'B15L3', 'B14L3', 'B13L3', 'B12L3', 'B11L3', 'B10L3', 'B9L3', 'B8L3'] not found for RB.A23 within [(10, 's'), (400, 's')] around 1424674059980000000.\n",
      "At least one of the timestamps (nQPS or QDS) is missing, query skipped returning empty pd.DataFrame.\n"
     ]
    },
    {
     "data": {
      "application/vnd.jupyter.widget-view+json": {
       "model_id": "e523615fc2db4a539989f0e27bf35119",
       "version_major": 2,
       "version_minor": 0
      },
      "text/plain": [
       "Querying PM:   0%|          | 0/4 [00:00<?, ?it/s]"
      ]
     },
     "metadata": {},
     "output_type": "display_data"
    },
    {
     "name": "stdout",
     "output_type": "stream",
     "text": [
      "successfully downloaded: <class 'src.acquisitions.qh_pm.QH_PM'>\n",
      "\tQuerying PM event timestamps for system: QPS, className: DQAMCNMB_PMSTD, source: * from 2015-02-23 07:46:49.980 to 2015-02-23 07:55:59.980\n"
     ]
    },
    {
     "data": {
      "application/vnd.jupyter.widget-view+json": {
       "model_id": "20a7386cff964d8592676ef3a0ff0974",
       "version_major": 2,
       "version_minor": 0
      },
      "text/plain": [
       "Querying U, I Diode PM:   0%|          | 0/4 [00:00<?, ?it/s]"
      ]
     },
     "metadata": {},
     "output_type": "display_data"
    },
    {
     "name": "stdout",
     "output_type": "stream",
     "text": [
      "\tQuerying PM event timestamps for system: QPS, className: DQAMGNSRB_PMREL, source: B25L3 from 2015-02-23 07:37:39.940 to 2015-02-23 07:57:39.940\n",
      "successfully downloaded: <class 'src.acquisitions.current_voltage_diode_leads_pm.CURRENT_VOLTAGE_DIODE_LEADS_PM'>\n",
      "\tQuerying PM event timestamps for system: QPS, className: DQAMCNMB_PMSTD, source: * from 2015-02-23 07:46:49.980 to 2015-02-23 07:53:29.980\n"
     ]
    },
    {
     "data": {
      "application/vnd.jupyter.widget-view+json": {
       "model_id": "c5679301af2347d2ae5a118103efc683",
       "version_major": 2,
       "version_minor": 0
      },
      "text/plain": [
       "Querying U, I Diode leads NXCALS:   0%|          | 0/4 [00:00<?, ?it/s]"
      ]
     },
     "metadata": {},
     "output_type": "display_data"
    },
    {
     "name": "stdout",
     "output_type": "stream",
     "text": [
      "successfully downloaded: <class 'src.acquisitions.current_voltage_diode_leads_nxcals.CURRENT_VOLTAGE_DIODE_LEADS_NXCALS'>\n",
      "\tQuerying PM event timestamps for system: QPS, className: DQAMGNDRBODD, DQAMGNDRBEVEN, source: RB.A23 from 2015-02-23 07:47:29.980 to 2015-02-23 07:54:19.980\n",
      "\tQuerying PM event signal(s) DFLAS.7L3.RB.A23.LD3:U_RES, DFLAS.7L3.RB.A23.LD4:U_RES, DFLAS.7L3.RB.A23.LD3:U_HTS, DFLAS.7R2.RB.A23.LD1:U_HTS, DFLAS.7L3.RB.A23.LD4:U_HTS... for system: RB.A23..., className: DQAMGNDRBODD, DQAMGNDRBEVEN..., source: QPS... at 2015-02-23 07:47:41.012\n"
     ]
    },
    {
     "name": "stderr",
     "output_type": "stream",
     "text": [
      "Post Mortem returned no data for the following query: http://pm-api-pro/v2/pmdata/signal?system=QPS&className=DQAMGNDRBEVEN&source=RB.A23&timestampInNanos=1424674061012000000&signal=DFLAS.7R2.RB.A23.LD1:U_HTS\n",
      "Post Mortem returned no data for the following query: http://pm-api-pro/v2/pmdata/signal?system=QPS&className=DQAMGNDRBEVEN&source=RB.A23&timestampInNanos=1424674061012000000&signal=DFLAS.7R2.RB.A23.LD2:U_HTS\n",
      "Post Mortem returned no data for the following query: http://pm-api-pro/v2/pmdata/signal?system=QPS&className=DQAMGNDRBEVEN&source=RB.A23&timestampInNanos=1424674061012000000&signal=DFLAS.7R2.RB.A23.LD1:U_RES\n",
      "Post Mortem returned no data for the following query: http://pm-api-pro/v2/pmdata/signal?system=QPS&className=DQAMGNDRBEVEN&source=RB.A23&timestampInNanos=1424674061012000000&signal=DFLAS.7R2.RB.A23.LD2:U_RES\n"
     ]
    },
    {
     "name": "stdout",
     "output_type": "stream",
     "text": [
      "successfully downloaded: <class 'src.acquisitions.leads.LEADS'>\n",
      "\tQuerying PM event signal(s) IAB.I_A, STATUS.I_EARTH_PCNT, STATUS.I_MEAS, STATUS.I_REF, IEARTH.IEARTH for system: RPTE.UA27.RB.A23, className: 51_self_pmd, source: FGC at 2015-02-24 07:24:55.900\n",
      "successfully downloaded: <class 'src.acquisitions.pc_pm.PC_PM'>\n",
      "\tQuerying PM event timestamps for system: QPS, className: DQAMSNRB, source: UJ33.RB.A23, UA27.RB.A23 from 2015-02-24 07:24:45.900 to 2015-02-24 07:41:35.900\n",
      "\tQuerying PM event signal(s) UA27.RB.A23:U_DUMP_RES, UJ33.RB.A23:U_DUMP_RES for system: UJ33.RB.A23, UA27.RB.A23, className: DQAMSNRB, source: QPS at 2015-02-24 07:24:56.198\n"
     ]
    },
    {
     "name": "stderr",
     "output_type": "stream",
     "text": [
      "Post Mortem returned no data for the following query: http://pm-api-pro/v2/pmdata/signal?system=QPS&className=DQAMSNRB&source=UA27.RB.A23&timestampInNanos=1424759096198000000&signal=UA27.RB.A23:U_DUMP_RES\n"
     ]
    },
    {
     "name": "stdout",
     "output_type": "stream",
     "text": [
      "successfully downloaded: <class 'src.acquisitions.ee_u_dump_res_pm.EE_U_DUMP_RES_PM'>\n",
      "\tQuerying PM event timestamps for system: QPS, className: DQAMSNRB, source: UJ33.RB.A23, UA27.RB.A23 from 2015-02-24 07:24:45.900 to 2015-02-24 07:41:35.900\n",
      "\tQuerying PM event signal(s) UJ33.RB.A23:T_RES_BODY_2, UJ33.RB.A23:T_RES_BODY_3, UJ33.RB.A23:T_RES_BODY_1, UA27.RB.A23:T_RES_BODY_1, UA27.RB.A23:T_RES_BODY_2... for system: UJ33.RB.A23, UA27.RB.A23..., className: DQAMSNRB..., source: QPS... at 2015-02-24 07:24:56.198\n"
     ]
    },
    {
     "name": "stderr",
     "output_type": "stream",
     "text": [
      "Post Mortem returned no data for the following query: http://pm-api-pro/v2/pmdata/signal?system=QPS&className=DQAMSNRB&source=UA27.RB.A23&timestampInNanos=1424759096198000000&signal=UA27.RB.A23:T_RES_BODY_1\n",
      "Post Mortem returned no data for the following query: http://pm-api-pro/v2/pmdata/signal?system=QPS&className=DQAMSNRB&source=UA27.RB.A23&timestampInNanos=1424759096198000000&signal=UA27.RB.A23:T_RES_BODY_2\n",
      "Post Mortem returned no data for the following query: http://pm-api-pro/v2/pmdata/signal?system=QPS&className=DQAMSNRB&source=UA27.RB.A23&timestampInNanos=1424759096198000000&signal=UA27.RB.A23:T_RES_BODY_3\n"
     ]
    },
    {
     "name": "stdout",
     "output_type": "stream",
     "text": [
      "successfully downloaded: <class 'src.acquisitions.ee_t_res_pm.EE_T_RES_PM'>\n",
      "\tQuerying NXCALS signal(s) MB.A8R2:U_DIODE_RB, MB.A9R2:U_DIODE_RB, MB.B9R2:U_DIODE_RB, MB.A10R2:U_DIODE_RB, MB.B8R2:U_DIODE_RB... from 2015-02-24 07:24:05.900 to 2015-02-24 07:33:15.900\n",
      "\tQuerying NXCALS signal(s) MB.B8R2:U_EARTH_RB, MB.A11R2:U_EARTH_RB, MB.A8R2:U_EARTH_RB, MB.B10R2:U_EARTH_RB, MB.B13R2:U_EARTH_RB... from 2015-02-24 07:24:05.900 to 2015-02-24 07:33:15.900\n",
      "successfully downloaded: <class 'src.acquisitions.voltage_nxcals.VOLTAGE_NXCALS'>\n",
      "\tQuerying PM event timestamps for system: QPS, className: DQAMCNMB_PMSTD, source: * from 2015-02-24 07:24:05.900 to 2015-02-24 07:33:15.900\n"
     ]
    },
    {
     "data": {
      "application/vnd.jupyter.widget-view+json": {
       "model_id": "2c7006cf4f9e4dfc8e76230cd5a7aeea",
       "version_major": 2,
       "version_minor": 0
      },
      "text/plain": [
       "Querying iQPS logic PM:   0%|          | 0/4 [00:00<?, ?it/s]"
      ]
     },
     "metadata": {},
     "output_type": "display_data"
    },
    {
     "name": "stdout",
     "output_type": "stream",
     "text": [
      "successfully downloaded: <class 'src.acquisitions.voltage_logic_iqps.VOLTAGE_LOGIC_IQPS'>\n",
      "\tQuerying PM event timestamps for system: QPS, className: DQAMCNMB_PMSTD, source: * from 2015-02-24 07:24:05.900 to 2015-02-24 07:33:15.900\n",
      "\tQuerying PM event timestamps for system: QPS, className: DQAMGNSRB_PMREL, source: * from 2015-02-24 07:24:45.900 to 2015-02-24 07:31:35.900\n",
      "successfully downloaded: <class 'src.acquisitions.voltage_logic_nqps.VOLTAGE_LOGIC_NQPS'>\n",
      "\tQuerying PM event timestamps for system: QPS, className: DQAMCNMB_PMHSU, source: * from 2015-02-24 07:24:45.900 to 2015-02-24 07:33:15.900\n"
     ]
    },
    {
     "name": "stderr",
     "output_type": "stream",
     "text": [
      "Some nQPS PM buffers missing. ['B8R2', 'B9R2', 'B10R2', 'B11R2', 'B12R2', 'B13R2', 'B14R2', 'B15R2', 'B16R2', 'B17R2', 'B18R2', 'B19R2', 'B20R2', 'B21R2', 'B22R2', 'B23R2', 'B24R2', 'B25R2', 'B26R2', 'B27R2', 'B28R2', 'B29R2', 'B30R2', 'B31R2', 'B32R2', 'B33R2', 'B34R2', 'B34L3', 'B33L3', 'B32L3', 'B31L3', 'B30L3', 'B29L3', 'B28L3', 'B27L3', 'B26L3', 'B25L3', 'B24L3', 'B23L3', 'B22L3', 'B21L3', 'B20L3', 'B19L3', 'B18L3', 'B17L3', 'B16L3', 'B15L3', 'B14L3', 'B13L3', 'B12L3', 'B11L3', 'B10L3', 'B9L3', 'B8L3'] not found for RB.A23 within [(10, 's'), (400, 's')] around 1424759095900000000.\n",
      "At least one of the timestamps (nQPS or QDS) is missing, query skipped returning empty pd.DataFrame.\n"
     ]
    },
    {
     "data": {
      "application/vnd.jupyter.widget-view+json": {
       "model_id": "75859a47ca7648349665f4a66e775a24",
       "version_major": 2,
       "version_minor": 0
      },
      "text/plain": [
       "Querying PM:   0%|          | 0/4 [00:00<?, ?it/s]"
      ]
     },
     "metadata": {},
     "output_type": "display_data"
    },
    {
     "name": "stdout",
     "output_type": "stream",
     "text": [
      "successfully downloaded: <class 'src.acquisitions.qh_pm.QH_PM'>\n",
      "\tQuerying PM event timestamps for system: QPS, className: DQAMCNMB_PMSTD, source: * from 2015-02-24 07:24:05.900 to 2015-02-24 07:33:15.900\n"
     ]
    },
    {
     "data": {
      "application/vnd.jupyter.widget-view+json": {
       "model_id": "1ee8488f5f8c445c976067e90287722c",
       "version_major": 2,
       "version_minor": 0
      },
      "text/plain": [
       "Querying U, I Diode PM:   0%|          | 0/4 [00:00<?, ?it/s]"
      ]
     },
     "metadata": {},
     "output_type": "display_data"
    },
    {
     "name": "stdout",
     "output_type": "stream",
     "text": [
      "\tQuerying PM event timestamps for system: QPS, className: DQAMGNSRB_PMREL, source: B15R2 from 2015-02-24 07:14:55.862 to 2015-02-24 07:34:55.862\n",
      "successfully downloaded: <class 'src.acquisitions.current_voltage_diode_leads_pm.CURRENT_VOLTAGE_DIODE_LEADS_PM'>\n",
      "\tQuerying PM event timestamps for system: QPS, className: DQAMCNMB_PMSTD, source: * from 2015-02-24 07:24:05.900 to 2015-02-24 07:30:45.900\n"
     ]
    },
    {
     "data": {
      "application/vnd.jupyter.widget-view+json": {
       "model_id": "07df19b5e5c243359dd8876da9407a23",
       "version_major": 2,
       "version_minor": 0
      },
      "text/plain": [
       "Querying U, I Diode leads NXCALS:   0%|          | 0/4 [00:00<?, ?it/s]"
      ]
     },
     "metadata": {},
     "output_type": "display_data"
    },
    {
     "name": "stdout",
     "output_type": "stream",
     "text": [
      "successfully downloaded: <class 'src.acquisitions.current_voltage_diode_leads_nxcals.CURRENT_VOLTAGE_DIODE_LEADS_NXCALS'>\n",
      "\tQuerying PM event timestamps for system: QPS, className: DQAMGNDRBODD, DQAMGNDRBEVEN, source: RB.A23 from 2015-02-24 07:24:45.900 to 2015-02-24 07:31:35.900\n",
      "\tQuerying PM event signal(s) DFLAS.7L3.RB.A23.LD3:U_RES, DFLAS.7L3.RB.A23.LD4:U_RES, DFLAS.7L3.RB.A23.LD3:U_HTS, DFLAS.7R2.RB.A23.LD1:U_HTS, DFLAS.7L3.RB.A23.LD4:U_HTS... for system: RB.A23..., className: DQAMGNDRBODD, DQAMGNDRBEVEN..., source: QPS... at 2015-02-24 07:24:56.806\n"
     ]
    },
    {
     "name": "stderr",
     "output_type": "stream",
     "text": [
      "Post Mortem returned no data for the following query: http://pm-api-pro/v2/pmdata/signal?system=QPS&className=DQAMGNDRBEVEN&source=RB.A23&timestampInNanos=1424759096806000000&signal=DFLAS.7R2.RB.A23.LD1:U_HTS\n",
      "Post Mortem returned no data for the following query: http://pm-api-pro/v2/pmdata/signal?system=QPS&className=DQAMGNDRBEVEN&source=RB.A23&timestampInNanos=1424759096806000000&signal=DFLAS.7R2.RB.A23.LD2:U_HTS\n",
      "Post Mortem returned no data for the following query: http://pm-api-pro/v2/pmdata/signal?system=QPS&className=DQAMGNDRBEVEN&source=RB.A23&timestampInNanos=1424759096806000000&signal=DFLAS.7R2.RB.A23.LD1:U_RES\n",
      "Post Mortem returned no data for the following query: http://pm-api-pro/v2/pmdata/signal?system=QPS&className=DQAMGNDRBEVEN&source=RB.A23&timestampInNanos=1424759096806000000&signal=DFLAS.7R2.RB.A23.LD2:U_RES\n"
     ]
    },
    {
     "name": "stdout",
     "output_type": "stream",
     "text": [
      "successfully downloaded: <class 'src.acquisitions.leads.LEADS'>\n",
      "\tQuerying PM event signal(s) IAB.I_A, STATUS.I_EARTH_PCNT, STATUS.I_MEAS, STATUS.I_REF, IEARTH.IEARTH for system: RPTE.UA27.RB.A23, className: 51_self_pmd, source: FGC at 2015-02-24 22:21:49.260\n",
      "successfully downloaded: <class 'src.acquisitions.pc_pm.PC_PM'>\n",
      "\tQuerying PM event timestamps for system: QPS, className: DQAMSNRB, source: UJ33.RB.A23, UA27.RB.A23 from 2015-02-24 22:21:39.260 to 2015-02-24 22:38:29.260\n",
      "\tQuerying PM event signal(s) UA27.RB.A23:U_DUMP_RES, UJ33.RB.A23:U_DUMP_RES for system: UJ33.RB.A23, UA27.RB.A23, className: DQAMSNRB, source: QPS at 2015-02-24 22:21:49.558\n"
     ]
    },
    {
     "name": "stderr",
     "output_type": "stream",
     "text": [
      "Post Mortem returned no data for the following query: http://pm-api-pro/v2/pmdata/signal?system=QPS&className=DQAMSNRB&source=UA27.RB.A23&timestampInNanos=1424812909558000000&signal=UA27.RB.A23:U_DUMP_RES\n"
     ]
    },
    {
     "name": "stdout",
     "output_type": "stream",
     "text": [
      "successfully downloaded: <class 'src.acquisitions.ee_u_dump_res_pm.EE_U_DUMP_RES_PM'>\n",
      "\tQuerying PM event timestamps for system: QPS, className: DQAMSNRB, source: UJ33.RB.A23, UA27.RB.A23 from 2015-02-24 22:21:39.260 to 2015-02-24 22:38:29.260\n",
      "\tQuerying PM event signal(s) UJ33.RB.A23:T_RES_BODY_2, UJ33.RB.A23:T_RES_BODY_3, UJ33.RB.A23:T_RES_BODY_1, UA27.RB.A23:T_RES_BODY_1, UA27.RB.A23:T_RES_BODY_2... for system: UJ33.RB.A23, UA27.RB.A23..., className: DQAMSNRB..., source: QPS... at 2015-02-24 22:21:49.558\n"
     ]
    },
    {
     "name": "stderr",
     "output_type": "stream",
     "text": [
      "Post Mortem returned no data for the following query: http://pm-api-pro/v2/pmdata/signal?system=QPS&className=DQAMSNRB&source=UA27.RB.A23&timestampInNanos=1424812909558000000&signal=UA27.RB.A23:T_RES_BODY_1\n",
      "Post Mortem returned no data for the following query: http://pm-api-pro/v2/pmdata/signal?system=QPS&className=DQAMSNRB&source=UA27.RB.A23&timestampInNanos=1424812909558000000&signal=UA27.RB.A23:T_RES_BODY_2\n",
      "Post Mortem returned no data for the following query: http://pm-api-pro/v2/pmdata/signal?system=QPS&className=DQAMSNRB&source=UA27.RB.A23&timestampInNanos=1424812909558000000&signal=UA27.RB.A23:T_RES_BODY_3\n"
     ]
    },
    {
     "name": "stdout",
     "output_type": "stream",
     "text": [
      "successfully downloaded: <class 'src.acquisitions.ee_t_res_pm.EE_T_RES_PM'>\n",
      "\tQuerying NXCALS signal(s) MB.A8R2:U_DIODE_RB, MB.A9R2:U_DIODE_RB, MB.B9R2:U_DIODE_RB, MB.A10R2:U_DIODE_RB, MB.B8R2:U_DIODE_RB... from 2015-02-24 22:20:59.260 to 2015-02-24 22:30:09.260\n",
      "\tQuerying NXCALS signal(s) MB.B8R2:U_EARTH_RB, MB.A11R2:U_EARTH_RB, MB.A8R2:U_EARTH_RB, MB.B10R2:U_EARTH_RB, MB.B13R2:U_EARTH_RB... from 2015-02-24 22:20:59.260 to 2015-02-24 22:30:09.260\n",
      "successfully downloaded: <class 'src.acquisitions.voltage_nxcals.VOLTAGE_NXCALS'>\n",
      "\tQuerying PM event timestamps for system: QPS, className: DQAMCNMB_PMSTD, source: * from 2015-02-24 22:20:59.260 to 2015-02-24 22:30:09.260\n"
     ]
    },
    {
     "data": {
      "application/vnd.jupyter.widget-view+json": {
       "model_id": "7f35fb28cee148f29900263e2b971e2c",
       "version_major": 2,
       "version_minor": 0
      },
      "text/plain": [
       "Querying iQPS logic PM:   0%|          | 0/5 [00:00<?, ?it/s]"
      ]
     },
     "metadata": {},
     "output_type": "display_data"
    },
    {
     "name": "stdout",
     "output_type": "stream",
     "text": [
      "successfully downloaded: <class 'src.acquisitions.voltage_logic_iqps.VOLTAGE_LOGIC_IQPS'>\n",
      "\tQuerying PM event timestamps for system: QPS, className: DQAMCNMB_PMSTD, source: * from 2015-02-24 22:20:59.260 to 2015-02-24 22:30:09.260\n",
      "\tQuerying PM event timestamps for system: QPS, className: DQAMGNSRB_PMREL, source: * from 2015-02-24 22:21:39.260 to 2015-02-24 22:28:29.260\n",
      "successfully downloaded: <class 'src.acquisitions.voltage_logic_nqps.VOLTAGE_LOGIC_NQPS'>\n",
      "\tQuerying PM event timestamps for system: QPS, className: DQAMCNMB_PMHSU, source: * from 2015-02-24 22:21:39.260 to 2015-02-24 22:30:09.260\n"
     ]
    },
    {
     "name": "stderr",
     "output_type": "stream",
     "text": [
      "Some nQPS PM buffers missing. ['B8R2', 'B9R2', 'B10R2', 'B11R2', 'B12R2', 'B13R2', 'B14R2', 'B15R2', 'B16R2', 'B17R2', 'B18R2', 'B19R2', 'B20R2', 'B21R2', 'B22R2', 'B23R2', 'B24R2', 'B25R2', 'B26R2', 'B27R2', 'B28R2', 'B29R2', 'B30R2', 'B31R2', 'B32R2', 'B33R2', 'B34R2', 'B34L3', 'B33L3', 'B32L3', 'B31L3', 'B30L3', 'B29L3', 'B28L3', 'B27L3', 'B26L3', 'B25L3', 'B24L3', 'B23L3', 'B22L3', 'B21L3', 'B20L3', 'B19L3', 'B18L3', 'B17L3', 'B16L3', 'B15L3', 'B14L3', 'B13L3', 'B12L3', 'B11L3', 'B10L3', 'B9L3', 'B8L3'] not found for RB.A23 within [(10, 's'), (400, 's')] around 1424812909260000000.\n",
      "At least one of the timestamps (nQPS or QDS) is missing, query skipped returning empty pd.DataFrame.\n"
     ]
    },
    {
     "data": {
      "application/vnd.jupyter.widget-view+json": {
       "model_id": "d036c6067cab4fa09ddbf472213c1364",
       "version_major": 2,
       "version_minor": 0
      },
      "text/plain": [
       "Querying PM:   0%|          | 0/5 [00:00<?, ?it/s]"
      ]
     },
     "metadata": {},
     "output_type": "display_data"
    },
    {
     "name": "stdout",
     "output_type": "stream",
     "text": [
      "successfully downloaded: <class 'src.acquisitions.qh_pm.QH_PM'>\n",
      "\tQuerying PM event timestamps for system: QPS, className: DQAMCNMB_PMSTD, source: * from 2015-02-24 22:20:59.260 to 2015-02-24 22:30:09.260\n"
     ]
    },
    {
     "data": {
      "application/vnd.jupyter.widget-view+json": {
       "model_id": "25219c18d8a3474483b9233876e23312",
       "version_major": 2,
       "version_minor": 0
      },
      "text/plain": [
       "Querying U, I Diode PM:   0%|          | 0/5 [00:00<?, ?it/s]"
      ]
     },
     "metadata": {},
     "output_type": "display_data"
    },
    {
     "name": "stdout",
     "output_type": "stream",
     "text": [
      "\tQuerying PM event timestamps for system: QPS, className: DQAMGNSRB_PMREL, source: B33L3 from 2015-02-24 22:11:49.285 to 2015-02-24 22:31:49.285\n",
      "successfully downloaded: <class 'src.acquisitions.current_voltage_diode_leads_pm.CURRENT_VOLTAGE_DIODE_LEADS_PM'>\n",
      "\tQuerying PM event timestamps for system: QPS, className: DQAMCNMB_PMSTD, source: * from 2015-02-24 22:20:59.260 to 2015-02-24 22:27:39.260\n"
     ]
    },
    {
     "data": {
      "application/vnd.jupyter.widget-view+json": {
       "model_id": "2b202513810f4281856a03e7dceda4cf",
       "version_major": 2,
       "version_minor": 0
      },
      "text/plain": [
       "Querying U, I Diode leads NXCALS:   0%|          | 0/4 [00:00<?, ?it/s]"
      ]
     },
     "metadata": {},
     "output_type": "display_data"
    },
    {
     "name": "stdout",
     "output_type": "stream",
     "text": [
      "successfully downloaded: <class 'src.acquisitions.current_voltage_diode_leads_nxcals.CURRENT_VOLTAGE_DIODE_LEADS_NXCALS'>\n",
      "\tQuerying PM event timestamps for system: QPS, className: DQAMGNDRBODD, DQAMGNDRBEVEN, source: RB.A23 from 2015-02-24 22:21:39.260 to 2015-02-24 22:28:29.260\n",
      "\tQuerying PM event signal(s) DFLAS.7L3.RB.A23.LD3:U_RES, DFLAS.7L3.RB.A23.LD4:U_RES, DFLAS.7L3.RB.A23.LD3:U_HTS, DFLAS.7R2.RB.A23.LD1:U_HTS, DFLAS.7L3.RB.A23.LD4:U_HTS... for system: RB.A23..., className: DQAMGNDRBODD, DQAMGNDRBEVEN..., source: QPS... at 2015-02-24 22:21:50.232\n"
     ]
    },
    {
     "name": "stderr",
     "output_type": "stream",
     "text": [
      "Post Mortem returned no data for the following query: http://pm-api-pro/v2/pmdata/signal?system=QPS&className=DQAMGNDRBEVEN&source=RB.A23&timestampInNanos=1424812910232000000&signal=DFLAS.7R2.RB.A23.LD1:U_HTS\n",
      "Post Mortem returned no data for the following query: http://pm-api-pro/v2/pmdata/signal?system=QPS&className=DQAMGNDRBEVEN&source=RB.A23&timestampInNanos=1424812910232000000&signal=DFLAS.7R2.RB.A23.LD2:U_HTS\n",
      "Post Mortem returned no data for the following query: http://pm-api-pro/v2/pmdata/signal?system=QPS&className=DQAMGNDRBEVEN&source=RB.A23&timestampInNanos=1424812910232000000&signal=DFLAS.7R2.RB.A23.LD1:U_RES\n",
      "Post Mortem returned no data for the following query: http://pm-api-pro/v2/pmdata/signal?system=QPS&className=DQAMGNDRBEVEN&source=RB.A23&timestampInNanos=1424812910232000000&signal=DFLAS.7R2.RB.A23.LD2:U_RES\n"
     ]
    },
    {
     "name": "stdout",
     "output_type": "stream",
     "text": [
      "successfully downloaded: <class 'src.acquisitions.leads.LEADS'>\n",
      "\tQuerying PM event signal(s) IAB.I_A, STATUS.I_EARTH_PCNT, STATUS.I_MEAS, STATUS.I_REF, IEARTH.IEARTH for system: RPTE.UA27.RB.A23, className: 51_self_pmd, source: FGC at 2015-02-25 08:38:31.280\n",
      "successfully downloaded: <class 'src.acquisitions.pc_pm.PC_PM'>\n",
      "\tQuerying PM event timestamps for system: QPS, className: DQAMSNRB, source: UJ33.RB.A23, UA27.RB.A23 from 2015-02-25 08:38:21.280 to 2015-02-25 08:55:11.280\n",
      "\tQuerying PM event signal(s) UA27.RB.A23:U_DUMP_RES, UJ33.RB.A23:U_DUMP_RES for system: UJ33.RB.A23, UA27.RB.A23, className: DQAMSNRB, source: QPS at 2015-02-25 08:38:31.576\n"
     ]
    },
    {
     "name": "stderr",
     "output_type": "stream",
     "text": [
      "Post Mortem returned no data for the following query: http://pm-api-pro/v2/pmdata/signal?system=QPS&className=DQAMSNRB&source=UA27.RB.A23&timestampInNanos=1424849911576000000&signal=UA27.RB.A23:U_DUMP_RES\n"
     ]
    },
    {
     "name": "stdout",
     "output_type": "stream",
     "text": [
      "successfully downloaded: <class 'src.acquisitions.ee_u_dump_res_pm.EE_U_DUMP_RES_PM'>\n",
      "\tQuerying PM event timestamps for system: QPS, className: DQAMSNRB, source: UJ33.RB.A23, UA27.RB.A23 from 2015-02-25 08:38:21.280 to 2015-02-25 08:55:11.280\n",
      "\tQuerying PM event signal(s) UJ33.RB.A23:T_RES_BODY_2, UJ33.RB.A23:T_RES_BODY_3, UJ33.RB.A23:T_RES_BODY_1, UA27.RB.A23:T_RES_BODY_1, UA27.RB.A23:T_RES_BODY_2... for system: UJ33.RB.A23, UA27.RB.A23..., className: DQAMSNRB..., source: QPS... at 2015-02-25 08:38:31.576\n"
     ]
    },
    {
     "name": "stderr",
     "output_type": "stream",
     "text": [
      "Post Mortem returned no data for the following query: http://pm-api-pro/v2/pmdata/signal?system=QPS&className=DQAMSNRB&source=UA27.RB.A23&timestampInNanos=1424849911576000000&signal=UA27.RB.A23:T_RES_BODY_1\n",
      "Post Mortem returned no data for the following query: http://pm-api-pro/v2/pmdata/signal?system=QPS&className=DQAMSNRB&source=UA27.RB.A23&timestampInNanos=1424849911576000000&signal=UA27.RB.A23:T_RES_BODY_2\n",
      "Post Mortem returned no data for the following query: http://pm-api-pro/v2/pmdata/signal?system=QPS&className=DQAMSNRB&source=UA27.RB.A23&timestampInNanos=1424849911576000000&signal=UA27.RB.A23:T_RES_BODY_3\n"
     ]
    },
    {
     "name": "stdout",
     "output_type": "stream",
     "text": [
      "successfully downloaded: <class 'src.acquisitions.ee_t_res_pm.EE_T_RES_PM'>\n",
      "\tQuerying NXCALS signal(s) MB.A8R2:U_DIODE_RB, MB.A9R2:U_DIODE_RB, MB.B9R2:U_DIODE_RB, MB.A10R2:U_DIODE_RB, MB.B8R2:U_DIODE_RB... from 2015-02-25 08:37:41.280 to 2015-02-25 08:46:51.280\n",
      "\tQuerying NXCALS signal(s) MB.B8R2:U_EARTH_RB, MB.A11R2:U_EARTH_RB, MB.A8R2:U_EARTH_RB, MB.B10R2:U_EARTH_RB, MB.B13R2:U_EARTH_RB... from 2015-02-25 08:37:41.280 to 2015-02-25 08:46:51.280\n",
      "successfully downloaded: <class 'src.acquisitions.voltage_nxcals.VOLTAGE_NXCALS'>\n",
      "\tQuerying PM event timestamps for system: QPS, className: DQAMCNMB_PMSTD, source: * from 2015-02-25 08:37:41.280 to 2015-02-25 08:46:51.280\n"
     ]
    },
    {
     "data": {
      "application/vnd.jupyter.widget-view+json": {
       "model_id": "40548e369dcb4d229d125482d7cee4f4",
       "version_major": 2,
       "version_minor": 0
      },
      "text/plain": [
       "Querying iQPS logic PM:   0%|          | 0/4 [00:00<?, ?it/s]"
      ]
     },
     "metadata": {},
     "output_type": "display_data"
    },
    {
     "name": "stdout",
     "output_type": "stream",
     "text": [
      "successfully downloaded: <class 'src.acquisitions.voltage_logic_iqps.VOLTAGE_LOGIC_IQPS'>\n",
      "\tQuerying PM event timestamps for system: QPS, className: DQAMCNMB_PMSTD, source: * from 2015-02-25 08:37:41.280 to 2015-02-25 08:46:51.280\n",
      "\tQuerying PM event timestamps for system: QPS, className: DQAMGNSRB_PMREL, source: * from 2015-02-25 08:38:21.280 to 2015-02-25 08:45:11.280\n",
      "successfully downloaded: <class 'src.acquisitions.voltage_logic_nqps.VOLTAGE_LOGIC_NQPS'>\n",
      "\tQuerying PM event timestamps for system: QPS, className: DQAMCNMB_PMHSU, source: * from 2015-02-25 08:38:21.280 to 2015-02-25 08:46:51.280\n"
     ]
    },
    {
     "name": "stderr",
     "output_type": "stream",
     "text": [
      "Some nQPS PM buffers missing. ['B8R2', 'B9R2', 'B10R2', 'B11R2', 'B12R2', 'B13R2', 'B14R2', 'B15R2', 'B16R2', 'B17R2', 'B18R2', 'B19R2', 'B20R2', 'B21R2', 'B22R2', 'B23R2', 'B24R2', 'B25R2', 'B26R2', 'B27R2', 'B28R2', 'B29R2', 'B30R2', 'B31R2', 'B32R2', 'B33R2', 'B34R2', 'B34L3', 'B33L3', 'B32L3', 'B31L3', 'B30L3', 'B29L3', 'B28L3', 'B27L3', 'B26L3', 'B25L3', 'B24L3', 'B23L3', 'B22L3', 'B21L3', 'B20L3', 'B19L3', 'B18L3', 'B17L3', 'B16L3', 'B15L3', 'B14L3', 'B13L3', 'B12L3', 'B11L3', 'B10L3', 'B9L3', 'B8L3'] not found for RB.A23 within [(10, 's'), (400, 's')] around 1424849911280000000.\n",
      "At least one of the timestamps (nQPS or QDS) is missing, query skipped returning empty pd.DataFrame.\n"
     ]
    },
    {
     "data": {
      "application/vnd.jupyter.widget-view+json": {
       "model_id": "f0d43303c1a04ffb92afca04be2b49bc",
       "version_major": 2,
       "version_minor": 0
      },
      "text/plain": [
       "Querying PM:   0%|          | 0/4 [00:00<?, ?it/s]"
      ]
     },
     "metadata": {},
     "output_type": "display_data"
    },
    {
     "name": "stdout",
     "output_type": "stream",
     "text": [
      "successfully downloaded: <class 'src.acquisitions.qh_pm.QH_PM'>\n",
      "\tQuerying PM event timestamps for system: QPS, className: DQAMCNMB_PMSTD, source: * from 2015-02-25 08:37:41.280 to 2015-02-25 08:46:51.280\n"
     ]
    },
    {
     "data": {
      "application/vnd.jupyter.widget-view+json": {
       "model_id": "b98fb818f09b4aff9ea5844be88aee52",
       "version_major": 2,
       "version_minor": 0
      },
      "text/plain": [
       "Querying U, I Diode PM:   0%|          | 0/4 [00:00<?, ?it/s]"
      ]
     },
     "metadata": {},
     "output_type": "display_data"
    },
    {
     "name": "stdout",
     "output_type": "stream",
     "text": [
      "\tQuerying PM event timestamps for system: QPS, className: DQAMGNSRB_PMREL, source: B30L3 from 2015-02-25 08:28:31.250 to 2015-02-25 08:48:31.250\n",
      "successfully downloaded: <class 'src.acquisitions.current_voltage_diode_leads_pm.CURRENT_VOLTAGE_DIODE_LEADS_PM'>\n",
      "\tQuerying PM event timestamps for system: QPS, className: DQAMCNMB_PMSTD, source: * from 2015-02-25 08:37:41.280 to 2015-02-25 08:44:21.280\n"
     ]
    },
    {
     "data": {
      "application/vnd.jupyter.widget-view+json": {
       "model_id": "2ee68efdcb804e7ba4c0a4932348a87e",
       "version_major": 2,
       "version_minor": 0
      },
      "text/plain": [
       "Querying U, I Diode leads NXCALS:   0%|          | 0/4 [00:00<?, ?it/s]"
      ]
     },
     "metadata": {},
     "output_type": "display_data"
    },
    {
     "name": "stdout",
     "output_type": "stream",
     "text": [
      "successfully downloaded: <class 'src.acquisitions.current_voltage_diode_leads_nxcals.CURRENT_VOLTAGE_DIODE_LEADS_NXCALS'>\n",
      "\tQuerying PM event timestamps for system: QPS, className: DQAMGNDRBODD, DQAMGNDRBEVEN, source: RB.A23 from 2015-02-25 08:38:21.280 to 2015-02-25 08:45:11.280\n",
      "\tQuerying PM event signal(s) DFLAS.7L3.RB.A23.LD3:U_RES, DFLAS.7L3.RB.A23.LD4:U_RES, DFLAS.7L3.RB.A23.LD3:U_HTS, DFLAS.7R2.RB.A23.LD1:U_HTS, DFLAS.7L3.RB.A23.LD4:U_HTS... for system: RB.A23..., className: DQAMGNDRBODD, DQAMGNDRBEVEN..., source: QPS... at 2015-02-25 08:38:32.426\n"
     ]
    },
    {
     "name": "stderr",
     "output_type": "stream",
     "text": [
      "Post Mortem returned no data for the following query: http://pm-api-pro/v2/pmdata/signal?system=QPS&className=DQAMGNDRBEVEN&source=RB.A23&timestampInNanos=1424849912426000000&signal=DFLAS.7R2.RB.A23.LD1:U_HTS\n",
      "Post Mortem returned no data for the following query: http://pm-api-pro/v2/pmdata/signal?system=QPS&className=DQAMGNDRBEVEN&source=RB.A23&timestampInNanos=1424849912426000000&signal=DFLAS.7R2.RB.A23.LD2:U_HTS\n",
      "Post Mortem returned no data for the following query: http://pm-api-pro/v2/pmdata/signal?system=QPS&className=DQAMGNDRBEVEN&source=RB.A23&timestampInNanos=1424849912426000000&signal=DFLAS.7R2.RB.A23.LD1:U_RES\n",
      "Post Mortem returned no data for the following query: http://pm-api-pro/v2/pmdata/signal?system=QPS&className=DQAMGNDRBEVEN&source=RB.A23&timestampInNanos=1424849912426000000&signal=DFLAS.7R2.RB.A23.LD2:U_RES\n"
     ]
    },
    {
     "name": "stdout",
     "output_type": "stream",
     "text": [
      "successfully downloaded: <class 'src.acquisitions.leads.LEADS'>\n",
      "\tQuerying PM event signal(s) IAB.I_A, STATUS.I_EARTH_PCNT, STATUS.I_MEAS, STATUS.I_REF, IEARTH.IEARTH for system: RPTE.UA27.RB.A23, className: 51_self_pmd, source: FGC at 2015-02-25 20:09:49.440\n",
      "successfully downloaded: <class 'src.acquisitions.pc_pm.PC_PM'>\n",
      "\tQuerying PM event timestamps for system: QPS, className: DQAMSNRB, source: UJ33.RB.A23, UA27.RB.A23 from 2015-02-25 20:09:39.440 to 2015-02-25 20:26:29.440\n",
      "\tQuerying PM event signal(s) UA27.RB.A23:U_DUMP_RES, UJ33.RB.A23:U_DUMP_RES for system: UJ33.RB.A23, UA27.RB.A23, className: DQAMSNRB, source: QPS at 2015-02-25 20:09:49.747\n"
     ]
    },
    {
     "name": "stderr",
     "output_type": "stream",
     "text": [
      "Post Mortem returned no data for the following query: http://pm-api-pro/v2/pmdata/signal?system=QPS&className=DQAMSNRB&source=UA27.RB.A23&timestampInNanos=1424891389747000000&signal=UA27.RB.A23:U_DUMP_RES\n"
     ]
    },
    {
     "name": "stdout",
     "output_type": "stream",
     "text": [
      "successfully downloaded: <class 'src.acquisitions.ee_u_dump_res_pm.EE_U_DUMP_RES_PM'>\n",
      "\tQuerying PM event timestamps for system: QPS, className: DQAMSNRB, source: UJ33.RB.A23, UA27.RB.A23 from 2015-02-25 20:09:39.440 to 2015-02-25 20:26:29.440\n",
      "\tQuerying PM event signal(s) UJ33.RB.A23:T_RES_BODY_2, UJ33.RB.A23:T_RES_BODY_3, UJ33.RB.A23:T_RES_BODY_1, UA27.RB.A23:T_RES_BODY_1, UA27.RB.A23:T_RES_BODY_2... for system: UJ33.RB.A23, UA27.RB.A23..., className: DQAMSNRB..., source: QPS... at 2015-02-25 20:09:49.747\n"
     ]
    },
    {
     "name": "stderr",
     "output_type": "stream",
     "text": [
      "Post Mortem returned no data for the following query: http://pm-api-pro/v2/pmdata/signal?system=QPS&className=DQAMSNRB&source=UA27.RB.A23&timestampInNanos=1424891389747000000&signal=UA27.RB.A23:T_RES_BODY_1\n",
      "Post Mortem returned no data for the following query: http://pm-api-pro/v2/pmdata/signal?system=QPS&className=DQAMSNRB&source=UA27.RB.A23&timestampInNanos=1424891389747000000&signal=UA27.RB.A23:T_RES_BODY_2\n",
      "Post Mortem returned no data for the following query: http://pm-api-pro/v2/pmdata/signal?system=QPS&className=DQAMSNRB&source=UA27.RB.A23&timestampInNanos=1424891389747000000&signal=UA27.RB.A23:T_RES_BODY_3\n"
     ]
    },
    {
     "name": "stdout",
     "output_type": "stream",
     "text": [
      "successfully downloaded: <class 'src.acquisitions.ee_t_res_pm.EE_T_RES_PM'>\n",
      "\tQuerying NXCALS signal(s) MB.A8R2:U_DIODE_RB, MB.A9R2:U_DIODE_RB, MB.B9R2:U_DIODE_RB, MB.A10R2:U_DIODE_RB, MB.B8R2:U_DIODE_RB... from 2015-02-25 20:08:59.440 to 2015-02-25 20:18:09.440\n",
      "\tQuerying NXCALS signal(s) MB.B8R2:U_EARTH_RB, MB.A11R2:U_EARTH_RB, MB.A8R2:U_EARTH_RB, MB.B10R2:U_EARTH_RB, MB.B13R2:U_EARTH_RB... from 2015-02-25 20:08:59.440 to 2015-02-25 20:18:09.440\n",
      "successfully downloaded: <class 'src.acquisitions.voltage_nxcals.VOLTAGE_NXCALS'>\n",
      "\tQuerying PM event timestamps for system: QPS, className: DQAMCNMB_PMSTD, source: * from 2015-02-25 20:08:59.440 to 2015-02-25 20:18:09.440\n"
     ]
    },
    {
     "data": {
      "application/vnd.jupyter.widget-view+json": {
       "model_id": "98ec16a8e2974728bb0645c7ecb524b8",
       "version_major": 2,
       "version_minor": 0
      },
      "text/plain": [
       "Querying iQPS logic PM:   0%|          | 0/4 [00:00<?, ?it/s]"
      ]
     },
     "metadata": {},
     "output_type": "display_data"
    },
    {
     "name": "stdout",
     "output_type": "stream",
     "text": [
      "successfully downloaded: <class 'src.acquisitions.voltage_logic_iqps.VOLTAGE_LOGIC_IQPS'>\n",
      "\tQuerying PM event timestamps for system: QPS, className: DQAMCNMB_PMSTD, source: * from 2015-02-25 20:08:59.440 to 2015-02-25 20:18:09.440\n",
      "\tQuerying PM event timestamps for system: QPS, className: DQAMGNSRB_PMREL, source: * from 2015-02-25 20:09:39.440 to 2015-02-25 20:16:29.440\n",
      "successfully downloaded: <class 'src.acquisitions.voltage_logic_nqps.VOLTAGE_LOGIC_NQPS'>\n",
      "\tQuerying PM event timestamps for system: QPS, className: DQAMCNMB_PMHSU, source: * from 2015-02-25 20:09:39.440 to 2015-02-25 20:18:09.440\n"
     ]
    },
    {
     "name": "stderr",
     "output_type": "stream",
     "text": [
      "Some nQPS PM buffers missing. ['B8R2', 'B9R2', 'B10R2', 'B11R2', 'B12R2', 'B13R2', 'B14R2', 'B15R2', 'B16R2', 'B17R2', 'B18R2', 'B19R2', 'B20R2', 'B21R2', 'B22R2', 'B23R2', 'B24R2', 'B25R2', 'B26R2', 'B27R2', 'B28R2', 'B29R2', 'B30R2', 'B31R2', 'B32R2', 'B33R2', 'B34R2', 'B34L3', 'B33L3', 'B32L3', 'B31L3', 'B30L3', 'B29L3', 'B28L3', 'B27L3', 'B26L3', 'B25L3', 'B24L3', 'B23L3', 'B22L3', 'B21L3', 'B20L3', 'B19L3', 'B18L3', 'B17L3', 'B16L3', 'B15L3', 'B14L3', 'B13L3', 'B12L3', 'B11L3', 'B10L3', 'B9L3', 'B8L3'] not found for RB.A23 within [(10, 's'), (400, 's')] around 1424891389440000000.\n",
      "At least one of the timestamps (nQPS or QDS) is missing, query skipped returning empty pd.DataFrame.\n"
     ]
    },
    {
     "data": {
      "application/vnd.jupyter.widget-view+json": {
       "model_id": "d1537497df0c41e6be55b2bc34bf7cee",
       "version_major": 2,
       "version_minor": 0
      },
      "text/plain": [
       "Querying PM:   0%|          | 0/4 [00:00<?, ?it/s]"
      ]
     },
     "metadata": {},
     "output_type": "display_data"
    },
    {
     "name": "stdout",
     "output_type": "stream",
     "text": [
      "successfully downloaded: <class 'src.acquisitions.qh_pm.QH_PM'>\n",
      "\tQuerying PM event timestamps for system: QPS, className: DQAMCNMB_PMSTD, source: * from 2015-02-25 20:08:59.440 to 2015-02-25 20:18:09.440\n"
     ]
    },
    {
     "data": {
      "application/vnd.jupyter.widget-view+json": {
       "model_id": "b238fff62d664bfd8a2ffa5ded990e69",
       "version_major": 2,
       "version_minor": 0
      },
      "text/plain": [
       "Querying U, I Diode PM:   0%|          | 0/4 [00:00<?, ?it/s]"
      ]
     },
     "metadata": {},
     "output_type": "display_data"
    },
    {
     "name": "stdout",
     "output_type": "stream",
     "text": [
      "\tQuerying PM event timestamps for system: QPS, className: DQAMGNSRB_PMREL, source: B18R2 from 2015-02-25 19:59:49.409 to 2015-02-25 20:19:49.409\n",
      "successfully downloaded: <class 'src.acquisitions.current_voltage_diode_leads_pm.CURRENT_VOLTAGE_DIODE_LEADS_PM'>\n",
      "\tQuerying PM event timestamps for system: QPS, className: DQAMCNMB_PMSTD, source: * from 2015-02-25 20:08:59.440 to 2015-02-25 20:15:39.440\n"
     ]
    },
    {
     "data": {
      "application/vnd.jupyter.widget-view+json": {
       "model_id": "61476489e53f48c9a446320ee4569145",
       "version_major": 2,
       "version_minor": 0
      },
      "text/plain": [
       "Querying U, I Diode leads NXCALS:   0%|          | 0/4 [00:00<?, ?it/s]"
      ]
     },
     "metadata": {},
     "output_type": "display_data"
    },
    {
     "name": "stdout",
     "output_type": "stream",
     "text": [
      "successfully downloaded: <class 'src.acquisitions.current_voltage_diode_leads_nxcals.CURRENT_VOLTAGE_DIODE_LEADS_NXCALS'>\n",
      "\tQuerying PM event timestamps for system: QPS, className: DQAMGNDRBODD, DQAMGNDRBEVEN, source: RB.A23 from 2015-02-25 20:09:39.440 to 2015-02-25 20:16:29.440\n",
      "\tQuerying PM event signal(s) DFLAS.7L3.RB.A23.LD3:U_RES, DFLAS.7L3.RB.A23.LD4:U_RES, DFLAS.7L3.RB.A23.LD3:U_HTS, DFLAS.7R2.RB.A23.LD1:U_HTS, DFLAS.7L3.RB.A23.LD4:U_HTS... for system: RB.A23..., className: DQAMGNDRBODD, DQAMGNDRBEVEN..., source: QPS... at 2015-02-25 20:09:50.006\n"
     ]
    },
    {
     "name": "stderr",
     "output_type": "stream",
     "text": [
      "Post Mortem returned no data for the following query: http://pm-api-pro/v2/pmdata/signal?system=QPS&className=DQAMGNDRBEVEN&source=RB.A23&timestampInNanos=1424891390006000000&signal=DFLAS.7R2.RB.A23.LD1:U_HTS\n",
      "Post Mortem returned no data for the following query: http://pm-api-pro/v2/pmdata/signal?system=QPS&className=DQAMGNDRBEVEN&source=RB.A23&timestampInNanos=1424891390006000000&signal=DFLAS.7R2.RB.A23.LD2:U_HTS\n",
      "Post Mortem returned no data for the following query: http://pm-api-pro/v2/pmdata/signal?system=QPS&className=DQAMGNDRBEVEN&source=RB.A23&timestampInNanos=1424891390006000000&signal=DFLAS.7R2.RB.A23.LD1:U_RES\n",
      "Post Mortem returned no data for the following query: http://pm-api-pro/v2/pmdata/signal?system=QPS&className=DQAMGNDRBEVEN&source=RB.A23&timestampInNanos=1424891390006000000&signal=DFLAS.7R2.RB.A23.LD2:U_RES\n"
     ]
    },
    {
     "name": "stdout",
     "output_type": "stream",
     "text": [
      "successfully downloaded: <class 'src.acquisitions.leads.LEADS'>\n",
      "\tQuerying PM event signal(s) IAB.I_A, STATUS.I_EARTH_PCNT, STATUS.I_MEAS, STATUS.I_REF, IEARTH.IEARTH for system: RPTE.UA27.RB.A23, className: 51_self_pmd, source: FGC at 2015-02-26 07:31:10.920\n",
      "successfully downloaded: <class 'src.acquisitions.pc_pm.PC_PM'>\n",
      "\tQuerying PM event timestamps for system: QPS, className: DQAMSNRB, source: UJ33.RB.A23, UA27.RB.A23 from 2015-02-26 07:31:00.920 to 2015-02-26 07:47:50.920\n",
      "\tQuerying PM event signal(s) UA27.RB.A23:U_DUMP_RES, UJ33.RB.A23:U_DUMP_RES for system: UJ33.RB.A23, UA27.RB.A23, className: DQAMSNRB, source: QPS at 2015-02-26 07:31:11.225\n"
     ]
    },
    {
     "name": "stderr",
     "output_type": "stream",
     "text": [
      "Post Mortem returned no data for the following query: http://pm-api-pro/v2/pmdata/signal?system=QPS&className=DQAMSNRB&source=UA27.RB.A23&timestampInNanos=1424932271225000000&signal=UA27.RB.A23:U_DUMP_RES\n"
     ]
    },
    {
     "name": "stdout",
     "output_type": "stream",
     "text": [
      "successfully downloaded: <class 'src.acquisitions.ee_u_dump_res_pm.EE_U_DUMP_RES_PM'>\n",
      "\tQuerying PM event timestamps for system: QPS, className: DQAMSNRB, source: UJ33.RB.A23, UA27.RB.A23 from 2015-02-26 07:31:00.920 to 2015-02-26 07:47:50.920\n",
      "\tQuerying PM event signal(s) UJ33.RB.A23:T_RES_BODY_2, UJ33.RB.A23:T_RES_BODY_3, UJ33.RB.A23:T_RES_BODY_1, UA27.RB.A23:T_RES_BODY_1, UA27.RB.A23:T_RES_BODY_2... for system: UJ33.RB.A23, UA27.RB.A23..., className: DQAMSNRB..., source: QPS... at 2015-02-26 07:31:11.225\n"
     ]
    },
    {
     "name": "stderr",
     "output_type": "stream",
     "text": [
      "Post Mortem returned no data for the following query: http://pm-api-pro/v2/pmdata/signal?system=QPS&className=DQAMSNRB&source=UA27.RB.A23&timestampInNanos=1424932271225000000&signal=UA27.RB.A23:T_RES_BODY_1\n",
      "Post Mortem returned no data for the following query: http://pm-api-pro/v2/pmdata/signal?system=QPS&className=DQAMSNRB&source=UA27.RB.A23&timestampInNanos=1424932271225000000&signal=UA27.RB.A23:T_RES_BODY_2\n",
      "Post Mortem returned no data for the following query: http://pm-api-pro/v2/pmdata/signal?system=QPS&className=DQAMSNRB&source=UA27.RB.A23&timestampInNanos=1424932271225000000&signal=UA27.RB.A23:T_RES_BODY_3\n"
     ]
    },
    {
     "name": "stdout",
     "output_type": "stream",
     "text": [
      "successfully downloaded: <class 'src.acquisitions.ee_t_res_pm.EE_T_RES_PM'>\n",
      "\tQuerying NXCALS signal(s) MB.A8R2:U_DIODE_RB, MB.A9R2:U_DIODE_RB, MB.B9R2:U_DIODE_RB, MB.A10R2:U_DIODE_RB, MB.B8R2:U_DIODE_RB... from 2015-02-26 07:30:20.920 to 2015-02-26 07:39:30.920\n",
      "\tQuerying NXCALS signal(s) MB.B8R2:U_EARTH_RB, MB.A11R2:U_EARTH_RB, MB.A8R2:U_EARTH_RB, MB.B10R2:U_EARTH_RB, MB.B13R2:U_EARTH_RB... from 2015-02-26 07:30:20.920 to 2015-02-26 07:39:30.920\n",
      "successfully downloaded: <class 'src.acquisitions.voltage_nxcals.VOLTAGE_NXCALS'>\n",
      "\tQuerying PM event timestamps for system: QPS, className: DQAMCNMB_PMSTD, source: * from 2015-02-26 07:30:20.920 to 2015-02-26 07:39:30.920\n"
     ]
    },
    {
     "data": {
      "application/vnd.jupyter.widget-view+json": {
       "model_id": "db6d2d2f2d9745a49fc5e856bc7d1c53",
       "version_major": 2,
       "version_minor": 0
      },
      "text/plain": [
       "Querying iQPS logic PM:   0%|          | 0/4 [00:00<?, ?it/s]"
      ]
     },
     "metadata": {},
     "output_type": "display_data"
    },
    {
     "name": "stdout",
     "output_type": "stream",
     "text": [
      "successfully downloaded: <class 'src.acquisitions.voltage_logic_iqps.VOLTAGE_LOGIC_IQPS'>\n",
      "\tQuerying PM event timestamps for system: QPS, className: DQAMCNMB_PMSTD, source: * from 2015-02-26 07:30:20.920 to 2015-02-26 07:39:30.920\n",
      "\tQuerying PM event timestamps for system: QPS, className: DQAMGNSRB_PMREL, source: * from 2015-02-26 07:31:00.920 to 2015-02-26 07:37:50.920\n",
      "successfully downloaded: <class 'src.acquisitions.voltage_logic_nqps.VOLTAGE_LOGIC_NQPS'>\n",
      "\tQuerying PM event timestamps for system: QPS, className: DQAMCNMB_PMHSU, source: * from 2015-02-26 07:31:00.920 to 2015-02-26 07:39:30.920\n"
     ]
    },
    {
     "name": "stderr",
     "output_type": "stream",
     "text": [
      "Some nQPS PM buffers missing. ['B8R2', 'B9R2', 'B10R2', 'B11R2', 'B12R2', 'B13R2', 'B14R2', 'B15R2', 'B16R2', 'B17R2', 'B18R2', 'B19R2', 'B20R2', 'B21R2', 'B22R2', 'B23R2', 'B24R2', 'B25R2', 'B26R2', 'B27R2', 'B28R2', 'B29R2', 'B30R2', 'B31R2', 'B32R2', 'B33R2', 'B34R2', 'B34L3', 'B33L3', 'B32L3', 'B31L3', 'B30L3', 'B29L3', 'B28L3', 'B27L3', 'B26L3', 'B25L3', 'B24L3', 'B23L3', 'B22L3', 'B21L3', 'B20L3', 'B19L3', 'B18L3', 'B17L3', 'B16L3', 'B15L3', 'B14L3', 'B13L3', 'B12L3', 'B11L3', 'B10L3', 'B9L3', 'B8L3'] not found for RB.A23 within [(10, 's'), (400, 's')] around 1424932270920000000.\n",
      "At least one of the timestamps (nQPS or QDS) is missing, query skipped returning empty pd.DataFrame.\n"
     ]
    },
    {
     "data": {
      "application/vnd.jupyter.widget-view+json": {
       "model_id": "a453d0cd59b74432a57fd1fdb2d61c5c",
       "version_major": 2,
       "version_minor": 0
      },
      "text/plain": [
       "Querying PM:   0%|          | 0/4 [00:00<?, ?it/s]"
      ]
     },
     "metadata": {},
     "output_type": "display_data"
    },
    {
     "name": "stdout",
     "output_type": "stream",
     "text": [
      "successfully downloaded: <class 'src.acquisitions.qh_pm.QH_PM'>\n",
      "\tQuerying PM event timestamps for system: QPS, className: DQAMCNMB_PMSTD, source: * from 2015-02-26 07:30:20.920 to 2015-02-26 07:39:30.920\n"
     ]
    },
    {
     "data": {
      "application/vnd.jupyter.widget-view+json": {
       "model_id": "6d883e457baf4d959ad3db64bf241581",
       "version_major": 2,
       "version_minor": 0
      },
      "text/plain": [
       "Querying U, I Diode PM:   0%|          | 0/4 [00:00<?, ?it/s]"
      ]
     },
     "metadata": {},
     "output_type": "display_data"
    },
    {
     "name": "stdout",
     "output_type": "stream",
     "text": [
      "\tQuerying PM event timestamps for system: QPS, className: DQAMGNSRB_PMREL, source: B12L3 from 2015-02-26 07:21:10.890 to 2015-02-26 07:41:10.890\n",
      "successfully downloaded: <class 'src.acquisitions.current_voltage_diode_leads_pm.CURRENT_VOLTAGE_DIODE_LEADS_PM'>\n",
      "\tQuerying PM event timestamps for system: QPS, className: DQAMCNMB_PMSTD, source: * from 2015-02-26 07:30:20.920 to 2015-02-26 07:37:00.920\n"
     ]
    },
    {
     "data": {
      "application/vnd.jupyter.widget-view+json": {
       "model_id": "eedd8cdf6bc14dc9954a3ecea7aeef6c",
       "version_major": 2,
       "version_minor": 0
      },
      "text/plain": [
       "Querying U, I Diode leads NXCALS:   0%|          | 0/4 [00:00<?, ?it/s]"
      ]
     },
     "metadata": {},
     "output_type": "display_data"
    },
    {
     "name": "stdout",
     "output_type": "stream",
     "text": [
      "successfully downloaded: <class 'src.acquisitions.current_voltage_diode_leads_nxcals.CURRENT_VOLTAGE_DIODE_LEADS_NXCALS'>\n",
      "\tQuerying PM event timestamps for system: QPS, className: DQAMGNDRBODD, DQAMGNDRBEVEN, source: RB.A23 from 2015-02-26 07:31:00.920 to 2015-02-26 07:37:50.920\n",
      "\tQuerying PM event signal(s) DFLAS.7L3.RB.A23.LD3:U_RES, DFLAS.7L3.RB.A23.LD4:U_RES, DFLAS.7L3.RB.A23.LD3:U_HTS, DFLAS.7R2.RB.A23.LD1:U_HTS, DFLAS.7L3.RB.A23.LD4:U_HTS... for system: RB.A23..., className: DQAMGNDRBODD, DQAMGNDRBEVEN..., source: QPS... at 2015-02-26 07:31:12.032\n"
     ]
    },
    {
     "name": "stderr",
     "output_type": "stream",
     "text": [
      "Post Mortem returned no data for the following query: http://pm-api-pro/v2/pmdata/signal?system=QPS&className=DQAMGNDRBEVEN&source=RB.A23&timestampInNanos=1424932272032000000&signal=DFLAS.7R2.RB.A23.LD1:U_HTS\n",
      "Post Mortem returned no data for the following query: http://pm-api-pro/v2/pmdata/signal?system=QPS&className=DQAMGNDRBEVEN&source=RB.A23&timestampInNanos=1424932272032000000&signal=DFLAS.7R2.RB.A23.LD2:U_HTS\n",
      "Post Mortem returned no data for the following query: http://pm-api-pro/v2/pmdata/signal?system=QPS&className=DQAMGNDRBEVEN&source=RB.A23&timestampInNanos=1424932272032000000&signal=DFLAS.7R2.RB.A23.LD1:U_RES\n",
      "Post Mortem returned no data for the following query: http://pm-api-pro/v2/pmdata/signal?system=QPS&className=DQAMGNDRBEVEN&source=RB.A23&timestampInNanos=1424932272032000000&signal=DFLAS.7R2.RB.A23.LD2:U_RES\n"
     ]
    },
    {
     "name": "stdout",
     "output_type": "stream",
     "text": [
      "successfully downloaded: <class 'src.acquisitions.leads.LEADS'>\n",
      "\tQuerying PM event signal(s) IAB.I_A, STATUS.I_EARTH_PCNT, STATUS.I_MEAS, STATUS.I_REF, IEARTH.IEARTH for system: RPTE.UA27.RB.A23, className: 51_self_pmd, source: FGC at 2015-02-26 20:07:18.620\n",
      "successfully downloaded: <class 'src.acquisitions.pc_pm.PC_PM'>\n",
      "\tQuerying PM event timestamps for system: QPS, className: DQAMSNRB, source: UJ33.RB.A23, UA27.RB.A23 from 2015-02-26 20:07:08.620 to 2015-02-26 20:23:58.620\n",
      "\tQuerying PM event signal(s) UA27.RB.A23:U_DUMP_RES, UJ33.RB.A23:U_DUMP_RES for system: UJ33.RB.A23, UA27.RB.A23, className: DQAMSNRB, source: QPS at 2015-02-26 20:07:18.927\n"
     ]
    },
    {
     "name": "stderr",
     "output_type": "stream",
     "text": [
      "Post Mortem returned no data for the following query: http://pm-api-pro/v2/pmdata/signal?system=QPS&className=DQAMSNRB&source=UA27.RB.A23&timestampInNanos=1424977638927000000&signal=UA27.RB.A23:U_DUMP_RES\n"
     ]
    },
    {
     "name": "stdout",
     "output_type": "stream",
     "text": [
      "successfully downloaded: <class 'src.acquisitions.ee_u_dump_res_pm.EE_U_DUMP_RES_PM'>\n",
      "\tQuerying PM event timestamps for system: QPS, className: DQAMSNRB, source: UJ33.RB.A23, UA27.RB.A23 from 2015-02-26 20:07:08.620 to 2015-02-26 20:23:58.620\n",
      "\tQuerying PM event signal(s) UJ33.RB.A23:T_RES_BODY_2, UJ33.RB.A23:T_RES_BODY_3, UJ33.RB.A23:T_RES_BODY_1, UA27.RB.A23:T_RES_BODY_1, UA27.RB.A23:T_RES_BODY_2... for system: UJ33.RB.A23, UA27.RB.A23..., className: DQAMSNRB..., source: QPS... at 2015-02-26 20:07:18.927\n"
     ]
    },
    {
     "name": "stderr",
     "output_type": "stream",
     "text": [
      "Post Mortem returned no data for the following query: http://pm-api-pro/v2/pmdata/signal?system=QPS&className=DQAMSNRB&source=UA27.RB.A23&timestampInNanos=1424977638927000000&signal=UA27.RB.A23:T_RES_BODY_1\n",
      "Post Mortem returned no data for the following query: http://pm-api-pro/v2/pmdata/signal?system=QPS&className=DQAMSNRB&source=UA27.RB.A23&timestampInNanos=1424977638927000000&signal=UA27.RB.A23:T_RES_BODY_2\n",
      "Post Mortem returned no data for the following query: http://pm-api-pro/v2/pmdata/signal?system=QPS&className=DQAMSNRB&source=UA27.RB.A23&timestampInNanos=1424977638927000000&signal=UA27.RB.A23:T_RES_BODY_3\n"
     ]
    },
    {
     "name": "stdout",
     "output_type": "stream",
     "text": [
      "successfully downloaded: <class 'src.acquisitions.ee_t_res_pm.EE_T_RES_PM'>\n",
      "\tQuerying NXCALS signal(s) MB.A8R2:U_DIODE_RB, MB.A9R2:U_DIODE_RB, MB.B9R2:U_DIODE_RB, MB.A10R2:U_DIODE_RB, MB.B8R2:U_DIODE_RB... from 2015-02-26 20:06:28.620 to 2015-02-26 20:15:38.620\n",
      "\tQuerying NXCALS signal(s) MB.B8R2:U_EARTH_RB, MB.A11R2:U_EARTH_RB, MB.A8R2:U_EARTH_RB, MB.B10R2:U_EARTH_RB, MB.B13R2:U_EARTH_RB... from 2015-02-26 20:06:28.620 to 2015-02-26 20:15:38.620\n",
      "successfully downloaded: <class 'src.acquisitions.voltage_nxcals.VOLTAGE_NXCALS'>\n",
      "\tQuerying PM event timestamps for system: QPS, className: DQAMCNMB_PMSTD, source: * from 2015-02-26 20:06:28.620 to 2015-02-26 20:15:38.620\n"
     ]
    },
    {
     "data": {
      "application/vnd.jupyter.widget-view+json": {
       "model_id": "7232e16ba6be4ad7a7be41b535b17c72",
       "version_major": 2,
       "version_minor": 0
      },
      "text/plain": [
       "Querying iQPS logic PM:   0%|          | 0/4 [00:00<?, ?it/s]"
      ]
     },
     "metadata": {},
     "output_type": "display_data"
    },
    {
     "name": "stdout",
     "output_type": "stream",
     "text": [
      "successfully downloaded: <class 'src.acquisitions.voltage_logic_iqps.VOLTAGE_LOGIC_IQPS'>\n",
      "\tQuerying PM event timestamps for system: QPS, className: DQAMCNMB_PMSTD, source: * from 2015-02-26 20:06:28.620 to 2015-02-26 20:15:38.620\n",
      "\tQuerying PM event timestamps for system: QPS, className: DQAMGNSRB_PMREL, source: * from 2015-02-26 20:07:08.620 to 2015-02-26 20:13:58.620\n",
      "successfully downloaded: <class 'src.acquisitions.voltage_logic_nqps.VOLTAGE_LOGIC_NQPS'>\n",
      "\tQuerying PM event timestamps for system: QPS, className: DQAMCNMB_PMHSU, source: * from 2015-02-26 20:07:08.620 to 2015-02-26 20:15:38.620\n"
     ]
    },
    {
     "name": "stderr",
     "output_type": "stream",
     "text": [
      "Some nQPS PM buffers missing. ['B8R2', 'B9R2', 'B10R2', 'B11R2', 'B12R2', 'B13R2', 'B14R2', 'B15R2', 'B16R2', 'B17R2', 'B18R2', 'B19R2', 'B20R2', 'B21R2', 'B22R2', 'B23R2', 'B24R2', 'B25R2', 'B26R2', 'B27R2', 'B28R2', 'B29R2', 'B30R2', 'B31R2', 'B32R2', 'B33R2', 'B34R2', 'B34L3', 'B33L3', 'B32L3', 'B31L3', 'B30L3', 'B29L3', 'B28L3', 'B27L3', 'B26L3', 'B25L3', 'B24L3', 'B23L3', 'B22L3', 'B21L3', 'B20L3', 'B19L3', 'B18L3', 'B17L3', 'B16L3', 'B15L3', 'B14L3', 'B13L3', 'B12L3', 'B11L3', 'B10L3', 'B9L3', 'B8L3'] not found for RB.A23 within [(10, 's'), (400, 's')] around 1424977638620000000.\n",
      "At least one of the timestamps (nQPS or QDS) is missing, query skipped returning empty pd.DataFrame.\n"
     ]
    },
    {
     "data": {
      "application/vnd.jupyter.widget-view+json": {
       "model_id": "2a7f6de2d4b1441e81242ff3cd2b58fe",
       "version_major": 2,
       "version_minor": 0
      },
      "text/plain": [
       "Querying PM:   0%|          | 0/4 [00:00<?, ?it/s]"
      ]
     },
     "metadata": {},
     "output_type": "display_data"
    },
    {
     "name": "stdout",
     "output_type": "stream",
     "text": [
      "successfully downloaded: <class 'src.acquisitions.qh_pm.QH_PM'>\n",
      "\tQuerying PM event timestamps for system: QPS, className: DQAMCNMB_PMSTD, source: * from 2015-02-26 20:06:28.620 to 2015-02-26 20:15:38.620\n"
     ]
    },
    {
     "data": {
      "application/vnd.jupyter.widget-view+json": {
       "model_id": "22e1b42c57574104ac48286e47d142ce",
       "version_major": 2,
       "version_minor": 0
      },
      "text/plain": [
       "Querying U, I Diode PM:   0%|          | 0/4 [00:00<?, ?it/s]"
      ]
     },
     "metadata": {},
     "output_type": "display_data"
    },
    {
     "name": "stdout",
     "output_type": "stream",
     "text": [
      "\tQuerying PM event timestamps for system: QPS, className: DQAMGNSRB_PMREL, source: B9R2 from 2015-02-26 19:57:18.592 to 2015-02-26 20:17:18.592\n",
      "successfully downloaded: <class 'src.acquisitions.current_voltage_diode_leads_pm.CURRENT_VOLTAGE_DIODE_LEADS_PM'>\n",
      "\tQuerying PM event timestamps for system: QPS, className: DQAMCNMB_PMSTD, source: * from 2015-02-26 20:06:28.620 to 2015-02-26 20:13:08.620\n"
     ]
    },
    {
     "data": {
      "application/vnd.jupyter.widget-view+json": {
       "model_id": "8fd234f08d544741aef3a77d6a73b939",
       "version_major": 2,
       "version_minor": 0
      },
      "text/plain": [
       "Querying U, I Diode leads NXCALS:   0%|          | 0/4 [00:00<?, ?it/s]"
      ]
     },
     "metadata": {},
     "output_type": "display_data"
    },
    {
     "name": "stdout",
     "output_type": "stream",
     "text": [
      "successfully downloaded: <class 'src.acquisitions.current_voltage_diode_leads_nxcals.CURRENT_VOLTAGE_DIODE_LEADS_NXCALS'>\n",
      "\tQuerying PM event timestamps for system: QPS, className: DQAMGNDRBODD, DQAMGNDRBEVEN, source: RB.A23 from 2015-02-26 20:07:08.620 to 2015-02-26 20:13:58.620\n",
      "\tQuerying PM event signal(s) DFLAS.7L3.RB.A23.LD3:U_RES, DFLAS.7L3.RB.A23.LD4:U_RES, DFLAS.7L3.RB.A23.LD3:U_HTS, DFLAS.7R2.RB.A23.LD1:U_HTS, DFLAS.7L3.RB.A23.LD4:U_HTS... for system: RB.A23..., className: DQAMGNDRBODD, DQAMGNDRBEVEN..., source: QPS... at 2015-02-26 20:07:19.207\n"
     ]
    },
    {
     "name": "stderr",
     "output_type": "stream",
     "text": [
      "Post Mortem returned no data for the following query: http://pm-api-pro/v2/pmdata/signal?system=QPS&className=DQAMGNDRBEVEN&source=RB.A23&timestampInNanos=1424977639207000000&signal=DFLAS.7R2.RB.A23.LD1:U_HTS\n",
      "Post Mortem returned no data for the following query: http://pm-api-pro/v2/pmdata/signal?system=QPS&className=DQAMGNDRBEVEN&source=RB.A23&timestampInNanos=1424977639207000000&signal=DFLAS.7R2.RB.A23.LD2:U_HTS\n",
      "Post Mortem returned no data for the following query: http://pm-api-pro/v2/pmdata/signal?system=QPS&className=DQAMGNDRBEVEN&source=RB.A23&timestampInNanos=1424977639207000000&signal=DFLAS.7R2.RB.A23.LD1:U_RES\n",
      "Post Mortem returned no data for the following query: http://pm-api-pro/v2/pmdata/signal?system=QPS&className=DQAMGNDRBEVEN&source=RB.A23&timestampInNanos=1424977639207000000&signal=DFLAS.7R2.RB.A23.LD2:U_RES\n"
     ]
    },
    {
     "name": "stdout",
     "output_type": "stream",
     "text": [
      "successfully downloaded: <class 'src.acquisitions.leads.LEADS'>\n",
      "\tQuerying PM event signal(s) IAB.I_A, STATUS.I_EARTH_PCNT, STATUS.I_MEAS, STATUS.I_REF, IEARTH.IEARTH for system: RPTE.UA27.RB.A23, className: 51_self_pmd, source: FGC at 2015-02-27 07:24:26.940\n",
      "successfully downloaded: <class 'src.acquisitions.pc_pm.PC_PM'>\n",
      "\tQuerying PM event timestamps for system: QPS, className: DQAMSNRB, source: UJ33.RB.A23, UA27.RB.A23 from 2015-02-27 07:24:16.940 to 2015-02-27 07:41:06.940\n",
      "\tQuerying PM event signal(s) UA27.RB.A23:U_DUMP_RES, UJ33.RB.A23:U_DUMP_RES for system: UJ33.RB.A23, UA27.RB.A23, className: DQAMSNRB, source: QPS at 2015-02-27 07:24:27.239\n"
     ]
    },
    {
     "name": "stderr",
     "output_type": "stream",
     "text": [
      "Post Mortem returned no data for the following query: http://pm-api-pro/v2/pmdata/signal?system=QPS&className=DQAMSNRB&source=UA27.RB.A23&timestampInNanos=1425018267239000000&signal=UA27.RB.A23:U_DUMP_RES\n"
     ]
    },
    {
     "name": "stdout",
     "output_type": "stream",
     "text": [
      "successfully downloaded: <class 'src.acquisitions.ee_u_dump_res_pm.EE_U_DUMP_RES_PM'>\n",
      "\tQuerying PM event timestamps for system: QPS, className: DQAMSNRB, source: UJ33.RB.A23, UA27.RB.A23 from 2015-02-27 07:24:16.940 to 2015-02-27 07:41:06.940\n",
      "\tQuerying PM event signal(s) UJ33.RB.A23:T_RES_BODY_2, UJ33.RB.A23:T_RES_BODY_3, UJ33.RB.A23:T_RES_BODY_1, UA27.RB.A23:T_RES_BODY_1, UA27.RB.A23:T_RES_BODY_2... for system: UJ33.RB.A23, UA27.RB.A23..., className: DQAMSNRB..., source: QPS... at 2015-02-27 07:24:27.239\n"
     ]
    },
    {
     "name": "stderr",
     "output_type": "stream",
     "text": [
      "Post Mortem returned no data for the following query: http://pm-api-pro/v2/pmdata/signal?system=QPS&className=DQAMSNRB&source=UA27.RB.A23&timestampInNanos=1425018267239000000&signal=UA27.RB.A23:T_RES_BODY_1\n",
      "Post Mortem returned no data for the following query: http://pm-api-pro/v2/pmdata/signal?system=QPS&className=DQAMSNRB&source=UA27.RB.A23&timestampInNanos=1425018267239000000&signal=UA27.RB.A23:T_RES_BODY_2\n",
      "Post Mortem returned no data for the following query: http://pm-api-pro/v2/pmdata/signal?system=QPS&className=DQAMSNRB&source=UA27.RB.A23&timestampInNanos=1425018267239000000&signal=UA27.RB.A23:T_RES_BODY_3\n"
     ]
    },
    {
     "name": "stdout",
     "output_type": "stream",
     "text": [
      "successfully downloaded: <class 'src.acquisitions.ee_t_res_pm.EE_T_RES_PM'>\n",
      "\tQuerying NXCALS signal(s) MB.A8R2:U_DIODE_RB, MB.A9R2:U_DIODE_RB, MB.B9R2:U_DIODE_RB, MB.A10R2:U_DIODE_RB, MB.B8R2:U_DIODE_RB... from 2015-02-27 07:23:36.940 to 2015-02-27 07:32:46.940\n",
      "\tQuerying NXCALS signal(s) MB.B8R2:U_EARTH_RB, MB.A11R2:U_EARTH_RB, MB.A8R2:U_EARTH_RB, MB.B10R2:U_EARTH_RB, MB.B13R2:U_EARTH_RB... from 2015-02-27 07:23:36.940 to 2015-02-27 07:32:46.940\n",
      "successfully downloaded: <class 'src.acquisitions.voltage_nxcals.VOLTAGE_NXCALS'>\n",
      "\tQuerying PM event timestamps for system: QPS, className: DQAMCNMB_PMSTD, source: * from 2015-02-27 07:23:36.940 to 2015-02-27 07:32:46.940\n"
     ]
    },
    {
     "data": {
      "application/vnd.jupyter.widget-view+json": {
       "model_id": "d6161d276adb43dcbd4aa53438b544fe",
       "version_major": 2,
       "version_minor": 0
      },
      "text/plain": [
       "Querying iQPS logic PM:   0%|          | 0/3 [00:00<?, ?it/s]"
      ]
     },
     "metadata": {},
     "output_type": "display_data"
    },
    {
     "name": "stdout",
     "output_type": "stream",
     "text": [
      "successfully downloaded: <class 'src.acquisitions.voltage_logic_iqps.VOLTAGE_LOGIC_IQPS'>\n",
      "\tQuerying PM event timestamps for system: QPS, className: DQAMCNMB_PMSTD, source: * from 2015-02-27 07:23:36.940 to 2015-02-27 07:32:46.940\n",
      "\tQuerying PM event timestamps for system: QPS, className: DQAMGNSRB_PMREL, source: * from 2015-02-27 07:24:16.940 to 2015-02-27 07:31:06.940\n"
     ]
    },
    {
     "name": "stderr",
     "output_type": "stream",
     "text": [
      "Some nQPS PM buffers missing. ['B8R2', 'B9R2', 'B10R2', 'B11R2', 'B12R2', 'B13R2', 'B14R2', 'B15R2', 'B16R2', 'B17R2', 'B18R2', 'B19R2', 'B20R2', 'B21R2', 'B22R2', 'B23R2', 'B24R2', 'B25R2', 'B26R2', 'B27R2', 'B28R2', 'B29R2', 'B30R2', 'B31R2', 'B32R2', 'B33R2', 'B34R2', 'B34L3', 'B33L3', 'B32L3', 'B31L3', 'B30L3', 'B29L3', 'B28L3', 'B27L3', 'B26L3', 'B25L3', 'B24L3', 'B23L3', 'B22L3', 'B21L3', 'B20L3', 'B19L3', 'B18L3', 'B17L3', 'B16L3', 'B15L3', 'B14L3', 'B13L3', 'B12L3', 'B11L3', 'B10L3', 'B9L3', 'B8L3'] not found for RB.A23 within [(10, 's'), (400, 's')] around 1425018266940000000.\n",
      "At least one of the timestamps (nQPS or QDS) is missing, query skipped returning empty pd.DataFrame.\n"
     ]
    },
    {
     "name": "stdout",
     "output_type": "stream",
     "text": [
      "successfully downloaded: <class 'src.acquisitions.voltage_logic_nqps.VOLTAGE_LOGIC_NQPS'>\n",
      "\tQuerying PM event timestamps for system: QPS, className: DQAMCNMB_PMHSU, source: * from 2015-02-27 07:24:16.940 to 2015-02-27 07:32:46.940\n"
     ]
    },
    {
     "data": {
      "application/vnd.jupyter.widget-view+json": {
       "model_id": "f674eebef68c405e8ad068c8facc4f1f",
       "version_major": 2,
       "version_minor": 0
      },
      "text/plain": [
       "Querying PM:   0%|          | 0/3 [00:00<?, ?it/s]"
      ]
     },
     "metadata": {},
     "output_type": "display_data"
    },
    {
     "name": "stdout",
     "output_type": "stream",
     "text": [
      "successfully downloaded: <class 'src.acquisitions.qh_pm.QH_PM'>\n",
      "\tQuerying PM event timestamps for system: QPS, className: DQAMCNMB_PMSTD, source: * from 2015-02-27 07:23:36.940 to 2015-02-27 07:32:46.940\n"
     ]
    },
    {
     "data": {
      "application/vnd.jupyter.widget-view+json": {
       "model_id": "8bbf480a43744ff09f6531aa9f66911f",
       "version_major": 2,
       "version_minor": 0
      },
      "text/plain": [
       "Querying U, I Diode PM:   0%|          | 0/3 [00:00<?, ?it/s]"
      ]
     },
     "metadata": {},
     "output_type": "display_data"
    },
    {
     "name": "stdout",
     "output_type": "stream",
     "text": [
      "\tQuerying PM event timestamps for system: QPS, className: DQAMGNSRB_PMREL, source: B16L3 from 2015-02-27 07:14:26.903 to 2015-02-27 07:34:26.903\n",
      "successfully downloaded: <class 'src.acquisitions.current_voltage_diode_leads_pm.CURRENT_VOLTAGE_DIODE_LEADS_PM'>\n",
      "\tQuerying PM event timestamps for system: QPS, className: DQAMCNMB_PMSTD, source: * from 2015-02-27 07:23:36.940 to 2015-02-27 07:30:16.940\n"
     ]
    },
    {
     "data": {
      "application/vnd.jupyter.widget-view+json": {
       "model_id": "96c76fec2ace4048b93cc332b65aad33",
       "version_major": 2,
       "version_minor": 0
      },
      "text/plain": [
       "Querying U, I Diode leads NXCALS:   0%|          | 0/3 [00:00<?, ?it/s]"
      ]
     },
     "metadata": {},
     "output_type": "display_data"
    },
    {
     "name": "stdout",
     "output_type": "stream",
     "text": [
      "successfully downloaded: <class 'src.acquisitions.current_voltage_diode_leads_nxcals.CURRENT_VOLTAGE_DIODE_LEADS_NXCALS'>\n",
      "\tQuerying PM event timestamps for system: QPS, className: DQAMGNDRBODD, DQAMGNDRBEVEN, source: RB.A23 from 2015-02-27 07:24:16.940 to 2015-02-27 07:31:06.940\n",
      "\tQuerying PM event signal(s) DFLAS.7L3.RB.A23.LD3:U_RES, DFLAS.7L3.RB.A23.LD4:U_RES, DFLAS.7L3.RB.A23.LD3:U_HTS, DFLAS.7R2.RB.A23.LD1:U_HTS, DFLAS.7L3.RB.A23.LD4:U_HTS... for system: RB.A23..., className: DQAMGNDRBODD, DQAMGNDRBEVEN..., source: QPS... at 2015-02-27 07:24:27.822\n"
     ]
    },
    {
     "name": "stderr",
     "output_type": "stream",
     "text": [
      "Post Mortem returned no data for the following query: http://pm-api-pro/v2/pmdata/signal?system=QPS&className=DQAMGNDRBEVEN&source=RB.A23&timestampInNanos=1425018267822000000&signal=DFLAS.7R2.RB.A23.LD1:U_HTS\n",
      "Post Mortem returned no data for the following query: http://pm-api-pro/v2/pmdata/signal?system=QPS&className=DQAMGNDRBEVEN&source=RB.A23&timestampInNanos=1425018267822000000&signal=DFLAS.7R2.RB.A23.LD2:U_HTS\n",
      "Post Mortem returned no data for the following query: http://pm-api-pro/v2/pmdata/signal?system=QPS&className=DQAMGNDRBEVEN&source=RB.A23&timestampInNanos=1425018267822000000&signal=DFLAS.7R2.RB.A23.LD1:U_RES\n",
      "Post Mortem returned no data for the following query: http://pm-api-pro/v2/pmdata/signal?system=QPS&className=DQAMGNDRBEVEN&source=RB.A23&timestampInNanos=1425018267822000000&signal=DFLAS.7R2.RB.A23.LD2:U_RES\n"
     ]
    },
    {
     "name": "stdout",
     "output_type": "stream",
     "text": [
      "successfully downloaded: <class 'src.acquisitions.leads.LEADS'>\n",
      "\tQuerying PM event signal(s) IAB.I_A, STATUS.I_EARTH_PCNT, STATUS.I_MEAS, STATUS.I_REF, IEARTH.IEARTH for system: RPTE.UA27.RB.A23, className: 51_self_pmd, source: FGC at 2015-02-27 21:48:23.700\n",
      "successfully downloaded: <class 'src.acquisitions.pc_pm.PC_PM'>\n",
      "\tQuerying PM event timestamps for system: QPS, className: DQAMSNRB, source: UJ33.RB.A23, UA27.RB.A23 from 2015-02-27 21:48:13.700 to 2015-02-27 22:05:03.700\n",
      "\tQuerying PM event signal(s) UA27.RB.A23:U_DUMP_RES, UJ33.RB.A23:U_DUMP_RES for system: UJ33.RB.A23, UA27.RB.A23, className: DQAMSNRB, source: QPS at 2015-02-27 21:48:23.995\n"
     ]
    },
    {
     "name": "stderr",
     "output_type": "stream",
     "text": [
      "Post Mortem returned no data for the following query: http://pm-api-pro/v2/pmdata/signal?system=QPS&className=DQAMSNRB&source=UA27.RB.A23&timestampInNanos=1425070103995000000&signal=UA27.RB.A23:U_DUMP_RES\n"
     ]
    },
    {
     "name": "stdout",
     "output_type": "stream",
     "text": [
      "successfully downloaded: <class 'src.acquisitions.ee_u_dump_res_pm.EE_U_DUMP_RES_PM'>\n",
      "\tQuerying PM event timestamps for system: QPS, className: DQAMSNRB, source: UJ33.RB.A23, UA27.RB.A23 from 2015-02-27 21:48:13.700 to 2015-02-27 22:05:03.700\n",
      "\tQuerying PM event signal(s) UJ33.RB.A23:T_RES_BODY_2, UJ33.RB.A23:T_RES_BODY_3, UJ33.RB.A23:T_RES_BODY_1, UA27.RB.A23:T_RES_BODY_1, UA27.RB.A23:T_RES_BODY_2... for system: UJ33.RB.A23, UA27.RB.A23..., className: DQAMSNRB..., source: QPS... at 2015-02-27 21:48:23.995\n"
     ]
    },
    {
     "name": "stderr",
     "output_type": "stream",
     "text": [
      "Post Mortem returned no data for the following query: http://pm-api-pro/v2/pmdata/signal?system=QPS&className=DQAMSNRB&source=UA27.RB.A23&timestampInNanos=1425070103995000000&signal=UA27.RB.A23:T_RES_BODY_1\n",
      "Post Mortem returned no data for the following query: http://pm-api-pro/v2/pmdata/signal?system=QPS&className=DQAMSNRB&source=UA27.RB.A23&timestampInNanos=1425070103995000000&signal=UA27.RB.A23:T_RES_BODY_2\n",
      "Post Mortem returned no data for the following query: http://pm-api-pro/v2/pmdata/signal?system=QPS&className=DQAMSNRB&source=UA27.RB.A23&timestampInNanos=1425070103995000000&signal=UA27.RB.A23:T_RES_BODY_3\n"
     ]
    },
    {
     "name": "stdout",
     "output_type": "stream",
     "text": [
      "successfully downloaded: <class 'src.acquisitions.ee_t_res_pm.EE_T_RES_PM'>\n",
      "\tQuerying NXCALS signal(s) MB.A8R2:U_DIODE_RB, MB.A9R2:U_DIODE_RB, MB.B9R2:U_DIODE_RB, MB.A10R2:U_DIODE_RB, MB.B8R2:U_DIODE_RB... from 2015-02-27 21:47:33.700 to 2015-02-27 21:56:43.700\n",
      "\tQuerying NXCALS signal(s) MB.B8R2:U_EARTH_RB, MB.A11R2:U_EARTH_RB, MB.A8R2:U_EARTH_RB, MB.B10R2:U_EARTH_RB, MB.B13R2:U_EARTH_RB... from 2015-02-27 21:47:33.700 to 2015-02-27 21:56:43.700\n",
      "successfully downloaded: <class 'src.acquisitions.voltage_nxcals.VOLTAGE_NXCALS'>\n",
      "\tQuerying PM event timestamps for system: QPS, className: DQAMCNMB_PMSTD, source: * from 2015-02-27 21:47:33.700 to 2015-02-27 21:56:43.700\n"
     ]
    },
    {
     "data": {
      "application/vnd.jupyter.widget-view+json": {
       "model_id": "4c5ab0ffe3474d199ca1e0440650397e",
       "version_major": 2,
       "version_minor": 0
      },
      "text/plain": [
       "Querying iQPS logic PM:   0%|          | 0/4 [00:00<?, ?it/s]"
      ]
     },
     "metadata": {},
     "output_type": "display_data"
    },
    {
     "name": "stdout",
     "output_type": "stream",
     "text": [
      "successfully downloaded: <class 'src.acquisitions.voltage_logic_iqps.VOLTAGE_LOGIC_IQPS'>\n",
      "\tQuerying PM event timestamps for system: QPS, className: DQAMCNMB_PMSTD, source: * from 2015-02-27 21:47:33.700 to 2015-02-27 21:56:43.700\n",
      "\tQuerying PM event timestamps for system: QPS, className: DQAMGNSRB_PMREL, source: * from 2015-02-27 21:48:13.700 to 2015-02-27 21:55:03.700\n"
     ]
    },
    {
     "name": "stderr",
     "output_type": "stream",
     "text": [
      "Some nQPS PM buffers missing. ['B8R2', 'B9R2', 'B10R2', 'B11R2', 'B12R2', 'B13R2', 'B14R2', 'B15R2', 'B16R2', 'B17R2', 'B18R2', 'B19R2', 'B20R2', 'B21R2', 'B22R2', 'B23R2', 'B24R2', 'B25R2', 'B26R2', 'B27R2', 'B28R2', 'B29R2', 'B30R2', 'B31R2', 'B32R2', 'B33R2', 'B34R2', 'B34L3', 'B33L3', 'B32L3', 'B31L3', 'B30L3', 'B29L3', 'B28L3', 'B27L3', 'B26L3', 'B25L3', 'B24L3', 'B23L3', 'B22L3', 'B21L3', 'B20L3', 'B19L3', 'B18L3', 'B17L3', 'B16L3', 'B15L3', 'B14L3', 'B13L3', 'B12L3', 'B11L3', 'B10L3', 'B9L3', 'B8L3'] not found for RB.A23 within [(10, 's'), (400, 's')] around 1425070103700000000.\n",
      "At least one of the timestamps (nQPS or QDS) is missing, query skipped returning empty pd.DataFrame.\n"
     ]
    },
    {
     "name": "stdout",
     "output_type": "stream",
     "text": [
      "successfully downloaded: <class 'src.acquisitions.voltage_logic_nqps.VOLTAGE_LOGIC_NQPS'>\n",
      "\tQuerying PM event timestamps for system: QPS, className: DQAMCNMB_PMHSU, source: * from 2015-02-27 21:48:13.700 to 2015-02-27 21:56:43.700\n"
     ]
    },
    {
     "data": {
      "application/vnd.jupyter.widget-view+json": {
       "model_id": "4df75aed9b3b496287e94285cf67939d",
       "version_major": 2,
       "version_minor": 0
      },
      "text/plain": [
       "Querying PM:   0%|          | 0/4 [00:00<?, ?it/s]"
      ]
     },
     "metadata": {},
     "output_type": "display_data"
    },
    {
     "name": "stdout",
     "output_type": "stream",
     "text": [
      "successfully downloaded: <class 'src.acquisitions.qh_pm.QH_PM'>\n",
      "\tQuerying PM event timestamps for system: QPS, className: DQAMCNMB_PMSTD, source: * from 2015-02-27 21:47:33.700 to 2015-02-27 21:56:43.700\n"
     ]
    },
    {
     "data": {
      "application/vnd.jupyter.widget-view+json": {
       "model_id": "aef0f230f4e24c5299f48fe943f59d18",
       "version_major": 2,
       "version_minor": 0
      },
      "text/plain": [
       "Querying U, I Diode PM:   0%|          | 0/4 [00:00<?, ?it/s]"
      ]
     },
     "metadata": {},
     "output_type": "display_data"
    },
    {
     "name": "stdout",
     "output_type": "stream",
     "text": [
      "\tQuerying PM event timestamps for system: QPS, className: DQAMGNSRB_PMREL, source: B14L3 from 2015-02-27 21:38:23.658 to 2015-02-27 21:58:23.658\n",
      "successfully downloaded: <class 'src.acquisitions.current_voltage_diode_leads_pm.CURRENT_VOLTAGE_DIODE_LEADS_PM'>\n",
      "\tQuerying PM event timestamps for system: QPS, className: DQAMCNMB_PMSTD, source: * from 2015-02-27 21:47:33.700 to 2015-02-27 21:54:13.700\n"
     ]
    },
    {
     "data": {
      "application/vnd.jupyter.widget-view+json": {
       "model_id": "c93c974cecc347428ca111f0012c49eb",
       "version_major": 2,
       "version_minor": 0
      },
      "text/plain": [
       "Querying U, I Diode leads NXCALS:   0%|          | 0/4 [00:00<?, ?it/s]"
      ]
     },
     "metadata": {},
     "output_type": "display_data"
    },
    {
     "name": "stdout",
     "output_type": "stream",
     "text": [
      "successfully downloaded: <class 'src.acquisitions.current_voltage_diode_leads_nxcals.CURRENT_VOLTAGE_DIODE_LEADS_NXCALS'>\n",
      "\tQuerying PM event timestamps for system: QPS, className: DQAMGNDRBODD, DQAMGNDRBEVEN, source: RB.A23 from 2015-02-27 21:48:13.700 to 2015-02-27 21:55:03.700\n",
      "\tQuerying PM event signal(s) DFLAS.7L3.RB.A23.LD3:U_RES, DFLAS.7L3.RB.A23.LD4:U_RES, DFLAS.7L3.RB.A23.LD3:U_HTS, DFLAS.7R2.RB.A23.LD1:U_HTS, DFLAS.7L3.RB.A23.LD4:U_HTS... for system: RB.A23..., className: DQAMGNDRBODD, DQAMGNDRBEVEN..., source: QPS... at 2015-02-27 21:48:24.632\n"
     ]
    },
    {
     "name": "stderr",
     "output_type": "stream",
     "text": [
      "Post Mortem returned no data for the following query: http://pm-api-pro/v2/pmdata/signal?system=QPS&className=DQAMGNDRBEVEN&source=RB.A23&timestampInNanos=1425070104632000000&signal=DFLAS.7R2.RB.A23.LD1:U_HTS\n",
      "Post Mortem returned no data for the following query: http://pm-api-pro/v2/pmdata/signal?system=QPS&className=DQAMGNDRBEVEN&source=RB.A23&timestampInNanos=1425070104632000000&signal=DFLAS.7R2.RB.A23.LD2:U_HTS\n",
      "Post Mortem returned no data for the following query: http://pm-api-pro/v2/pmdata/signal?system=QPS&className=DQAMGNDRBEVEN&source=RB.A23&timestampInNanos=1425070104632000000&signal=DFLAS.7R2.RB.A23.LD1:U_RES\n",
      "Post Mortem returned no data for the following query: http://pm-api-pro/v2/pmdata/signal?system=QPS&className=DQAMGNDRBEVEN&source=RB.A23&timestampInNanos=1425070104632000000&signal=DFLAS.7R2.RB.A23.LD2:U_RES\n"
     ]
    },
    {
     "name": "stdout",
     "output_type": "stream",
     "text": [
      "successfully downloaded: <class 'src.acquisitions.leads.LEADS'>\n",
      "\tQuerying PM event signal(s) IAB.I_A, STATUS.I_EARTH_PCNT, STATUS.I_MEAS, STATUS.I_REF, IEARTH.IEARTH for system: RPTE.UA27.RB.A23, className: 51_self_pmd, source: FGC at 2015-10-01 16:00:47.840\n",
      "successfully downloaded: <class 'src.acquisitions.pc_pm.PC_PM'>\n",
      "\tQuerying PM event timestamps for system: QPS, className: DQAMSNRB, source: UJ33.RB.A23, UA27.RB.A23 from 2015-10-01 16:00:37.840 to 2015-10-01 16:17:27.840\n",
      "\tQuerying PM event signal(s) UA27.RB.A23:U_DUMP_RES, UJ33.RB.A23:U_DUMP_RES for system: UJ33.RB.A23, UA27.RB.A23, className: DQAMSNRB, source: QPS at 2015-10-01 16:00:48.139\n"
     ]
    },
    {
     "name": "stderr",
     "output_type": "stream",
     "text": [
      "Post Mortem returned no data for the following query: http://pm-api-pro/v2/pmdata/signal?system=QPS&className=DQAMSNRB&source=UA27.RB.A23&timestampInNanos=1443708048139000000&signal=UA27.RB.A23:U_DUMP_RES\n"
     ]
    },
    {
     "name": "stdout",
     "output_type": "stream",
     "text": [
      "successfully downloaded: <class 'src.acquisitions.ee_u_dump_res_pm.EE_U_DUMP_RES_PM'>\n",
      "\tQuerying PM event timestamps for system: QPS, className: DQAMSNRB, source: UJ33.RB.A23, UA27.RB.A23 from 2015-10-01 16:00:37.840 to 2015-10-01 16:17:27.840\n",
      "\tQuerying PM event signal(s) UJ33.RB.A23:T_RES_BODY_2, UJ33.RB.A23:T_RES_BODY_3, UJ33.RB.A23:T_RES_BODY_1, UA27.RB.A23:T_RES_BODY_1, UA27.RB.A23:T_RES_BODY_2... for system: UJ33.RB.A23, UA27.RB.A23..., className: DQAMSNRB..., source: QPS... at 2015-10-01 16:00:48.139\n"
     ]
    },
    {
     "name": "stderr",
     "output_type": "stream",
     "text": [
      "Post Mortem returned no data for the following query: http://pm-api-pro/v2/pmdata/signal?system=QPS&className=DQAMSNRB&source=UA27.RB.A23&timestampInNanos=1443708048139000000&signal=UA27.RB.A23:T_RES_BODY_1\n",
      "Post Mortem returned no data for the following query: http://pm-api-pro/v2/pmdata/signal?system=QPS&className=DQAMSNRB&source=UA27.RB.A23&timestampInNanos=1443708048139000000&signal=UA27.RB.A23:T_RES_BODY_2\n",
      "Post Mortem returned no data for the following query: http://pm-api-pro/v2/pmdata/signal?system=QPS&className=DQAMSNRB&source=UA27.RB.A23&timestampInNanos=1443708048139000000&signal=UA27.RB.A23:T_RES_BODY_3\n"
     ]
    },
    {
     "name": "stdout",
     "output_type": "stream",
     "text": [
      "successfully downloaded: <class 'src.acquisitions.ee_t_res_pm.EE_T_RES_PM'>\n",
      "\tQuerying NXCALS signal(s) MB.A8R2:U_DIODE_RB, MB.A9R2:U_DIODE_RB, MB.B9R2:U_DIODE_RB, MB.A10R2:U_DIODE_RB, MB.B8R2:U_DIODE_RB... from 2015-10-01 15:59:57.840 to 2015-10-01 16:09:07.840\n",
      "\tQuerying NXCALS signal(s) MB.B8R2:U_EARTH_RB, MB.A11R2:U_EARTH_RB, MB.A8R2:U_EARTH_RB, MB.B10R2:U_EARTH_RB, MB.B13R2:U_EARTH_RB... from 2015-10-01 15:59:57.840 to 2015-10-01 16:09:07.840\n",
      "successfully downloaded: <class 'src.acquisitions.voltage_nxcals.VOLTAGE_NXCALS'>\n",
      "\tQuerying PM event timestamps for system: QPS, className: DQAMCNMB_PMSTD, source: * from 2015-10-01 15:59:57.840 to 2015-10-01 16:09:07.840\n"
     ]
    },
    {
     "data": {
      "application/vnd.jupyter.widget-view+json": {
       "model_id": "93d15d69f15c417bb9657781be227ec5",
       "version_major": 2,
       "version_minor": 0
      },
      "text/plain": [
       "Querying iQPS logic PM:   0%|          | 0/5 [00:00<?, ?it/s]"
      ]
     },
     "metadata": {},
     "output_type": "display_data"
    },
    {
     "name": "stdout",
     "output_type": "stream",
     "text": [
      "successfully downloaded: <class 'src.acquisitions.voltage_logic_iqps.VOLTAGE_LOGIC_IQPS'>\n",
      "\tQuerying PM event timestamps for system: QPS, className: DQAMCNMB_PMSTD, source: * from 2015-10-01 15:59:57.840 to 2015-10-01 16:09:07.840\n",
      "\tQuerying PM event timestamps for system: QPS, className: DQAMGNSRB_PMREL, source: * from 2015-10-01 16:00:37.840 to 2015-10-01 16:07:27.840\n",
      "successfully downloaded: <class 'src.acquisitions.voltage_logic_nqps.VOLTAGE_LOGIC_NQPS'>\n",
      "\tQuerying PM event timestamps for system: QPS, className: DQAMCNMB_PMHSU, source: * from 2015-10-01 16:00:37.840 to 2015-10-01 16:09:07.840\n"
     ]
    },
    {
     "name": "stderr",
     "output_type": "stream",
     "text": [
      "Some nQPS PM buffers missing. ['B8R2', 'B9R2', 'B10R2', 'B11R2', 'B12R2', 'B13R2', 'B14R2', 'B15R2', 'B16R2', 'B17R2', 'B18R2', 'B19R2', 'B20R2', 'B21R2', 'B22R2', 'B23R2', 'B24R2', 'B25R2', 'B26R2', 'B27R2', 'B28R2', 'B29R2', 'B30R2', 'B31R2', 'B32R2', 'B33R2', 'B34R2', 'B34L3', 'B33L3', 'B32L3', 'B31L3', 'B30L3', 'B29L3', 'B28L3', 'B27L3', 'B26L3', 'B25L3', 'B24L3', 'B23L3', 'B22L3', 'B21L3', 'B20L3', 'B19L3', 'B18L3', 'B17L3', 'B16L3', 'B15L3', 'B14L3', 'B13L3', 'B12L3', 'B11L3', 'B10L3', 'B9L3', 'B8L3'] not found for RB.A23 within [(10, 's'), (400, 's')] around 1443708047840000000.\n",
      "At least one of the timestamps (nQPS or QDS) is missing, query skipped returning empty pd.DataFrame.\n"
     ]
    },
    {
     "data": {
      "application/vnd.jupyter.widget-view+json": {
       "model_id": "ea8acc5d23714862b163ff68e2f6f02e",
       "version_major": 2,
       "version_minor": 0
      },
      "text/plain": [
       "Querying PM:   0%|          | 0/5 [00:00<?, ?it/s]"
      ]
     },
     "metadata": {},
     "output_type": "display_data"
    },
    {
     "name": "stdout",
     "output_type": "stream",
     "text": [
      "successfully downloaded: <class 'src.acquisitions.qh_pm.QH_PM'>\n",
      "\tQuerying PM event timestamps for system: QPS, className: DQAMCNMB_PMSTD, source: * from 2015-10-01 15:59:57.840 to 2015-10-01 16:09:07.840\n"
     ]
    },
    {
     "data": {
      "application/vnd.jupyter.widget-view+json": {
       "model_id": "c6a496264ee44e278610539bd1f55b8a",
       "version_major": 2,
       "version_minor": 0
      },
      "text/plain": [
       "Querying U, I Diode PM:   0%|          | 0/5 [00:00<?, ?it/s]"
      ]
     },
     "metadata": {},
     "output_type": "display_data"
    },
    {
     "name": "stdout",
     "output_type": "stream",
     "text": [
      "\tQuerying PM event timestamps for system: QPS, className: DQAMGNSRB_PMREL, source: B21L3 from 2015-10-01 15:50:47.803 to 2015-10-01 16:10:47.803\n",
      "\tQuerying PM event timestamps for system: QPS, className: DQAMGNSRB_PMREL, source: B20L3 from 2015-10-01 15:50:48.065 to 2015-10-01 16:10:48.065\n",
      "successfully downloaded: <class 'src.acquisitions.current_voltage_diode_leads_pm.CURRENT_VOLTAGE_DIODE_LEADS_PM'>\n",
      "\tQuerying PM event timestamps for system: QPS, className: DQAMCNMB_PMSTD, source: * from 2015-10-01 15:59:57.840 to 2015-10-01 16:06:37.840\n"
     ]
    },
    {
     "data": {
      "application/vnd.jupyter.widget-view+json": {
       "model_id": "6d38fbc0ea094f9ea7ba1c3c58f4d7bb",
       "version_major": 2,
       "version_minor": 0
      },
      "text/plain": [
       "Querying U, I Diode leads NXCALS:   0%|          | 0/5 [00:00<?, ?it/s]"
      ]
     },
     "metadata": {},
     "output_type": "display_data"
    },
    {
     "name": "stdout",
     "output_type": "stream",
     "text": [
      "successfully downloaded: <class 'src.acquisitions.current_voltage_diode_leads_nxcals.CURRENT_VOLTAGE_DIODE_LEADS_NXCALS'>\n",
      "\tQuerying PM event timestamps for system: QPS, className: DQAMGNDRBODD, DQAMGNDRBEVEN, source: RB.A23 from 2015-10-01 16:00:37.840 to 2015-10-01 16:07:27.840\n",
      "\tQuerying PM event signal(s) DFLAS.7L3.RB.A23.LD3:U_RES, DFLAS.7L3.RB.A23.LD4:U_RES, DFLAS.7L3.RB.A23.LD3:U_HTS, DFLAS.7R2.RB.A23.LD1:U_HTS, DFLAS.7L3.RB.A23.LD4:U_HTS... for system: RB.A23..., className: DQAMGNDRBODD, DQAMGNDRBEVEN..., source: QPS... at 2015-10-01 16:00:48.820\n"
     ]
    },
    {
     "name": "stderr",
     "output_type": "stream",
     "text": [
      "Post Mortem returned no data for the following query: http://pm-api-pro/v2/pmdata/signal?system=QPS&className=DQAMGNDRBEVEN&source=RB.A23&timestampInNanos=1443708048820000000&signal=DFLAS.7R2.RB.A23.LD1:U_HTS\n",
      "Post Mortem returned no data for the following query: http://pm-api-pro/v2/pmdata/signal?system=QPS&className=DQAMGNDRBEVEN&source=RB.A23&timestampInNanos=1443708048820000000&signal=DFLAS.7R2.RB.A23.LD2:U_HTS\n",
      "Post Mortem returned no data for the following query: http://pm-api-pro/v2/pmdata/signal?system=QPS&className=DQAMGNDRBEVEN&source=RB.A23&timestampInNanos=1443708048820000000&signal=DFLAS.7R2.RB.A23.LD1:U_RES\n",
      "Post Mortem returned no data for the following query: http://pm-api-pro/v2/pmdata/signal?system=QPS&className=DQAMGNDRBEVEN&source=RB.A23&timestampInNanos=1443708048820000000&signal=DFLAS.7R2.RB.A23.LD2:U_RES\n"
     ]
    },
    {
     "name": "stdout",
     "output_type": "stream",
     "text": [
      "successfully downloaded: <class 'src.acquisitions.leads.LEADS'>\n",
      "\tQuerying PM event signal(s) IAB.I_A, STATUS.I_EARTH_PCNT, STATUS.I_MEAS, STATUS.I_REF, IEARTH.IEARTH for system: RPTE.UA27.RB.A23, className: 51_self_pmd, source: FGC at 2016-03-12 08:17:05.780\n",
      "successfully downloaded: <class 'src.acquisitions.pc_pm.PC_PM'>\n",
      "\tQuerying PM event timestamps for system: QPS, className: DQAMSNRB, source: UJ33.RB.A23, UA27.RB.A23 from 2016-03-12 08:16:55.780 to 2016-03-12 08:33:45.780\n",
      "\tQuerying PM event signal(s) UA27.RB.A23:U_DUMP_RES, UJ33.RB.A23:U_DUMP_RES for system: UJ33.RB.A23, UA27.RB.A23, className: DQAMSNRB, source: QPS at 2016-03-12 08:17:06.072\n"
     ]
    },
    {
     "name": "stderr",
     "output_type": "stream",
     "text": [
      "Post Mortem returned no data for the following query: http://pm-api-pro/v2/pmdata/signal?system=QPS&className=DQAMSNRB&source=UA27.RB.A23&timestampInNanos=1457767026072000000&signal=UA27.RB.A23:U_DUMP_RES\n"
     ]
    },
    {
     "name": "stdout",
     "output_type": "stream",
     "text": [
      "successfully downloaded: <class 'src.acquisitions.ee_u_dump_res_pm.EE_U_DUMP_RES_PM'>\n",
      "\tQuerying PM event timestamps for system: QPS, className: DQAMSNRB, source: UJ33.RB.A23, UA27.RB.A23 from 2016-03-12 08:16:55.780 to 2016-03-12 08:33:45.780\n",
      "\tQuerying PM event signal(s) UJ33.RB.A23:T_RES_BODY_2, UJ33.RB.A23:T_RES_BODY_3, UJ33.RB.A23:T_RES_BODY_1, UA27.RB.A23:T_RES_BODY_1, UA27.RB.A23:T_RES_BODY_2... for system: UJ33.RB.A23, UA27.RB.A23..., className: DQAMSNRB..., source: QPS... at 2016-03-12 08:17:06.072\n"
     ]
    },
    {
     "name": "stderr",
     "output_type": "stream",
     "text": [
      "Post Mortem returned no data for the following query: http://pm-api-pro/v2/pmdata/signal?system=QPS&className=DQAMSNRB&source=UA27.RB.A23&timestampInNanos=1457767026072000000&signal=UA27.RB.A23:T_RES_BODY_1\n",
      "Post Mortem returned no data for the following query: http://pm-api-pro/v2/pmdata/signal?system=QPS&className=DQAMSNRB&source=UA27.RB.A23&timestampInNanos=1457767026072000000&signal=UA27.RB.A23:T_RES_BODY_2\n",
      "Post Mortem returned no data for the following query: http://pm-api-pro/v2/pmdata/signal?system=QPS&className=DQAMSNRB&source=UA27.RB.A23&timestampInNanos=1457767026072000000&signal=UA27.RB.A23:T_RES_BODY_3\n"
     ]
    },
    {
     "name": "stdout",
     "output_type": "stream",
     "text": [
      "successfully downloaded: <class 'src.acquisitions.ee_t_res_pm.EE_T_RES_PM'>\n",
      "\tQuerying NXCALS signal(s) MB.A8R2:U_DIODE_RB, MB.A9R2:U_DIODE_RB, MB.B9R2:U_DIODE_RB, MB.A10R2:U_DIODE_RB, MB.B8R2:U_DIODE_RB... from 2016-03-12 08:16:15.780 to 2016-03-12 08:25:25.780\n",
      "\tQuerying NXCALS signal(s) MB.B8R2:U_EARTH_RB, MB.A11R2:U_EARTH_RB, MB.A8R2:U_EARTH_RB, MB.B10R2:U_EARTH_RB, MB.B13R2:U_EARTH_RB... from 2016-03-12 08:16:15.780 to 2016-03-12 08:25:25.780\n",
      "successfully downloaded: <class 'src.acquisitions.voltage_nxcals.VOLTAGE_NXCALS'>\n",
      "\tQuerying PM event timestamps for system: QPS, className: DQAMCNMB_PMSTD, source: * from 2016-03-12 08:16:15.780 to 2016-03-12 08:25:25.780\n"
     ]
    },
    {
     "data": {
      "application/vnd.jupyter.widget-view+json": {
       "model_id": "6991b0171f3c42b3ae5f7fa36248baaa",
       "version_major": 2,
       "version_minor": 0
      },
      "text/plain": [
       "Querying iQPS logic PM:   0%|          | 0/5 [00:00<?, ?it/s]"
      ]
     },
     "metadata": {},
     "output_type": "display_data"
    },
    {
     "name": "stdout",
     "output_type": "stream",
     "text": [
      "successfully downloaded: <class 'src.acquisitions.voltage_logic_iqps.VOLTAGE_LOGIC_IQPS'>\n",
      "\tQuerying PM event timestamps for system: QPS, className: DQAMCNMB_PMSTD, source: * from 2016-03-12 08:16:15.780 to 2016-03-12 08:25:25.780\n",
      "\tQuerying PM event timestamps for system: QPS, className: DQAMGNSRB_PMREL, source: * from 2016-03-12 08:16:55.780 to 2016-03-12 08:23:45.780\n"
     ]
    },
    {
     "data": {
      "application/vnd.jupyter.widget-view+json": {
       "model_id": "a92ce555649744f3a2f8565b101c6138",
       "version_major": 2,
       "version_minor": 0
      },
      "text/plain": [
       "Querying PM/NXCALS U_DIODE_RB, U_REF_N1:   0%|          | 0/5 [00:00<?, ?it/s]"
      ]
     },
     "metadata": {},
     "output_type": "display_data"
    },
    {
     "data": {
      "application/vnd.jupyter.widget-view+json": {
       "model_id": "972fa408d17e408e857b1045c326d46c",
       "version_major": 2,
       "version_minor": 0
      },
      "text/plain": [
       "Querying PM/NXCALS U_DIODE_RB, U_REF_N1:   0%|          | 0/5 [00:00<?, ?it/s]"
      ]
     },
     "metadata": {},
     "output_type": "display_data"
    },
    {
     "name": "stdout",
     "output_type": "stream",
     "text": [
      "successfully downloaded: <class 'src.acquisitions.voltage_logic_nqps.VOLTAGE_LOGIC_NQPS'>\n",
      "\tQuerying PM event timestamps for system: QPS, className: DQAMCNMB_PMHSU, source: * from 2016-03-12 08:16:55.780 to 2016-03-12 08:25:25.780\n"
     ]
    },
    {
     "data": {
      "application/vnd.jupyter.widget-view+json": {
       "model_id": "99b82655518f4029954efb662de98ff0",
       "version_major": 2,
       "version_minor": 0
      },
      "text/plain": [
       "Querying PM:   0%|          | 0/5 [00:00<?, ?it/s]"
      ]
     },
     "metadata": {},
     "output_type": "display_data"
    },
    {
     "name": "stdout",
     "output_type": "stream",
     "text": [
      "successfully downloaded: <class 'src.acquisitions.qh_pm.QH_PM'>\n",
      "\tQuerying PM event timestamps for system: QPS, className: DQAMCNMB_PMSTD, source: * from 2016-03-12 08:16:15.780 to 2016-03-12 08:25:25.780\n"
     ]
    },
    {
     "data": {
      "application/vnd.jupyter.widget-view+json": {
       "model_id": "229dfe66e8df4b8e84cf3766f825f067",
       "version_major": 2,
       "version_minor": 0
      },
      "text/plain": [
       "Querying U, I Diode PM:   0%|          | 0/5 [00:00<?, ?it/s]"
      ]
     },
     "metadata": {},
     "output_type": "display_data"
    },
    {
     "name": "stdout",
     "output_type": "stream",
     "text": [
      "\tQuerying PM event timestamps for system: QPS, className: DQAMGNSRB_PMREL, source: B24R2 from 2016-03-12 08:07:05.736 to 2016-03-12 08:27:05.736\n",
      "successfully downloaded: <class 'src.acquisitions.current_voltage_diode_leads_pm.CURRENT_VOLTAGE_DIODE_LEADS_PM'>\n",
      "\tQuerying PM event timestamps for system: QPS, className: DQAMCNMB_PMSTD, source: * from 2016-03-12 08:16:15.780 to 2016-03-12 08:22:55.780\n"
     ]
    },
    {
     "data": {
      "application/vnd.jupyter.widget-view+json": {
       "model_id": "cbc311f89579404899c0a5fe5df1f270",
       "version_major": 2,
       "version_minor": 0
      },
      "text/plain": [
       "Querying U, I Diode leads NXCALS:   0%|          | 0/5 [00:00<?, ?it/s]"
      ]
     },
     "metadata": {},
     "output_type": "display_data"
    },
    {
     "name": "stdout",
     "output_type": "stream",
     "text": [
      "successfully downloaded: <class 'src.acquisitions.current_voltage_diode_leads_nxcals.CURRENT_VOLTAGE_DIODE_LEADS_NXCALS'>\n",
      "\tQuerying PM event timestamps for system: QPS, className: DQAMGNDRBODD, DQAMGNDRBEVEN, source: RB.A23 from 2016-03-12 08:16:55.780 to 2016-03-12 08:23:45.780\n",
      "\tQuerying PM event signal(s) DFLAS.7L3.RB.A23.LD3:U_RES, DFLAS.7L3.RB.A23.LD4:U_RES, DFLAS.7L3.RB.A23.LD3:U_HTS, DFLAS.7R2.RB.A23.LD1:U_HTS, DFLAS.7L3.RB.A23.LD4:U_HTS... for system: RB.A23..., className: DQAMGNDRBODD, DQAMGNDRBEVEN..., source: QPS... at 2016-03-12 08:17:06.815\n"
     ]
    },
    {
     "name": "stderr",
     "output_type": "stream",
     "text": [
      "Post Mortem returned no data for the following query: http://pm-api-pro/v2/pmdata/signal?system=QPS&className=DQAMGNDRBEVEN&source=RB.A23&timestampInNanos=1457767026815000000&signal=DFLAS.7R2.RB.A23.LD1:U_HTS\n",
      "Post Mortem returned no data for the following query: http://pm-api-pro/v2/pmdata/signal?system=QPS&className=DQAMGNDRBEVEN&source=RB.A23&timestampInNanos=1457767026815000000&signal=DFLAS.7R2.RB.A23.LD2:U_HTS\n",
      "Post Mortem returned no data for the following query: http://pm-api-pro/v2/pmdata/signal?system=QPS&className=DQAMGNDRBEVEN&source=RB.A23&timestampInNanos=1457767026815000000&signal=DFLAS.7R2.RB.A23.LD1:U_RES\n",
      "Post Mortem returned no data for the following query: http://pm-api-pro/v2/pmdata/signal?system=QPS&className=DQAMGNDRBEVEN&source=RB.A23&timestampInNanos=1457767026815000000&signal=DFLAS.7R2.RB.A23.LD2:U_RES\n"
     ]
    },
    {
     "name": "stdout",
     "output_type": "stream",
     "text": [
      "successfully downloaded: <class 'src.acquisitions.leads.LEADS'>\n",
      "\tQuerying PM event signal(s) IAB.I_A, STATUS.I_EARTH_PCNT, STATUS.I_MEAS, STATUS.I_REF, IEARTH.IEARTH for system: RPTE.UA43.RB.A34, className: 51_self_pmd, source: FGC at 2015-03-02 07:41:26.680\n",
      "successfully downloaded: <class 'src.acquisitions.pc_pm.PC_PM'>\n",
      "\tQuerying PM event timestamps for system: QPS, className: DQAMSNRB, source: UA43.RB.A34, UJ33.RB.A34 from 2015-03-02 07:41:16.680 to 2015-03-02 07:58:06.680\n",
      "\tQuerying PM event signal(s) UA43.RB.A34:U_DUMP_RES, UJ33.RB.A34:U_DUMP_RES for system: UA43.RB.A34, UJ33.RB.A34, className: DQAMSNRB, source: QPS at 2015-03-02 07:41:27.003\n"
     ]
    },
    {
     "name": "stderr",
     "output_type": "stream",
     "text": [
      "Post Mortem returned no data for the following query: http://pm-api-pro/v2/pmdata/signal?system=QPS&className=DQAMSNRB&source=UA43.RB.A34&timestampInNanos=1425278487003000000&signal=UA43.RB.A34:U_DUMP_RES\n"
     ]
    },
    {
     "name": "stdout",
     "output_type": "stream",
     "text": [
      "successfully downloaded: <class 'src.acquisitions.ee_u_dump_res_pm.EE_U_DUMP_RES_PM'>\n",
      "\tQuerying PM event timestamps for system: QPS, className: DQAMSNRB, source: UA43.RB.A34, UJ33.RB.A34 from 2015-03-02 07:41:16.680 to 2015-03-02 07:58:06.680\n",
      "\tQuerying PM event signal(s) UJ33.RB.A34:T_RES_BODY_1, UA43.RB.A34:T_RES_BODY_2, UJ33.RB.A34:T_RES_BODY_3, UJ33.RB.A34:T_RES_BODY_2, UA43.RB.A34:T_RES_BODY_1... for system: UA43.RB.A34, UJ33.RB.A34..., className: DQAMSNRB..., source: QPS... at 2015-03-02 07:41:27.003\n"
     ]
    },
    {
     "name": "stderr",
     "output_type": "stream",
     "text": [
      "Post Mortem returned no data for the following query: http://pm-api-pro/v2/pmdata/signal?system=QPS&className=DQAMSNRB&source=UA43.RB.A34&timestampInNanos=1425278487003000000&signal=UA43.RB.A34:T_RES_BODY_1\n",
      "Post Mortem returned no data for the following query: http://pm-api-pro/v2/pmdata/signal?system=QPS&className=DQAMSNRB&source=UA43.RB.A34&timestampInNanos=1425278487003000000&signal=UA43.RB.A34:T_RES_BODY_2\n",
      "Post Mortem returned no data for the following query: http://pm-api-pro/v2/pmdata/signal?system=QPS&className=DQAMSNRB&source=UA43.RB.A34&timestampInNanos=1425278487003000000&signal=UA43.RB.A34:T_RES_BODY_3\n"
     ]
    },
    {
     "name": "stdout",
     "output_type": "stream",
     "text": [
      "successfully downloaded: <class 'src.acquisitions.ee_t_res_pm.EE_T_RES_PM'>\n",
      "\tQuerying NXCALS signal(s) MB.B9R3:U_DIODE_RB, MB.A8R3:U_DIODE_RB, MB.A10R3:U_DIODE_RB, MB.B8R3:U_DIODE_RB, MB.A9R3:U_DIODE_RB... from 2015-03-02 07:40:36.680 to 2015-03-02 07:49:46.680\n",
      "\tQuerying NXCALS signal(s) MB.A12R3:U_EARTH_RB, MB.B9R3:U_EARTH_RB, MB.A9R3:U_EARTH_RB, MB.A14R3:U_EARTH_RB, DFLAS.7R3.1:U_EARTH_RB... from 2015-03-02 07:40:36.680 to 2015-03-02 07:49:46.680\n",
      "successfully downloaded: <class 'src.acquisitions.voltage_nxcals.VOLTAGE_NXCALS'>\n",
      "\tQuerying PM event timestamps for system: QPS, className: DQAMCNMB_PMSTD, source: * from 2015-03-02 07:40:36.680 to 2015-03-02 07:49:46.680\n"
     ]
    },
    {
     "data": {
      "application/vnd.jupyter.widget-view+json": {
       "model_id": "87c6a71286f44b2dadc41c807a3d6469",
       "version_major": 2,
       "version_minor": 0
      },
      "text/plain": [
       "Querying iQPS logic PM:   0%|          | 0/1 [00:00<?, ?it/s]"
      ]
     },
     "metadata": {},
     "output_type": "display_data"
    },
    {
     "name": "stdout",
     "output_type": "stream",
     "text": [
      "successfully downloaded: <class 'src.acquisitions.voltage_logic_iqps.VOLTAGE_LOGIC_IQPS'>\n",
      "\tQuerying PM event timestamps for system: QPS, className: DQAMCNMB_PMSTD, source: * from 2015-03-02 07:40:36.680 to 2015-03-02 07:49:46.680\n",
      "\tQuerying PM event timestamps for system: QPS, className: DQAMGNSRB_PMREL, source: * from 2015-03-02 07:41:16.680 to 2015-03-02 07:48:06.680\n"
     ]
    },
    {
     "name": "stderr",
     "output_type": "stream",
     "text": [
      "Some nQPS PM buffers missing. ['B8R3', 'B9R3', 'B10R3', 'B11R3', 'B12R3', 'B13R3', 'B14R3', 'B15R3', 'B16R3', 'B17R3', 'B18R3', 'B19R3', 'B20R3', 'B21R3', 'B22R3', 'B23R3', 'B24R3', 'B25R3', 'B26R3', 'B27R3', 'B28R3', 'B29R3', 'B30R3', 'B31R3', 'B32R3', 'B33R3', 'B34R3', 'B34L4', 'B33L4', 'B32L4', 'B31L4', 'B30L4', 'B29L4', 'B28L4', 'B27L4', 'B26L4', 'B25L4', 'B24L4', 'B23L4', 'B22L4', 'B21L4', 'B19L4', 'B18L4', 'B17L4', 'B16L4', 'B15L4', 'B14L4', 'B13L4', 'B12L4', 'B11L4', 'B10L4', 'B9L4', 'B8L4'] not found for RB.A34 within [(10, 's'), (400, 's')] around 1425278486680000000.\n"
     ]
    },
    {
     "data": {
      "application/vnd.jupyter.widget-view+json": {
       "model_id": "e06852cb56ff427fbd6e46ac71d515f0",
       "version_major": 2,
       "version_minor": 0
      },
      "text/plain": [
       "Querying PM/NXCALS U_DIODE_RB, U_REF_N1:   0%|          | 0/1 [00:00<?, ?it/s]"
      ]
     },
     "metadata": {},
     "output_type": "display_data"
    },
    {
     "data": {
      "application/vnd.jupyter.widget-view+json": {
       "model_id": "87dbefb8723441d187e325f8853d9819",
       "version_major": 2,
       "version_minor": 0
      },
      "text/plain": [
       "Querying PM/NXCALS U_DIODE_RB, U_REF_N1:   0%|          | 0/1 [00:00<?, ?it/s]"
      ]
     },
     "metadata": {},
     "output_type": "display_data"
    },
    {
     "name": "stdout",
     "output_type": "stream",
     "text": [
      "successfully downloaded: <class 'src.acquisitions.voltage_logic_nqps.VOLTAGE_LOGIC_NQPS'>\n",
      "\tQuerying PM event timestamps for system: QPS, className: DQAMCNMB_PMHSU, source: * from 2015-03-02 07:41:16.680 to 2015-03-02 07:49:46.680\n"
     ]
    },
    {
     "data": {
      "application/vnd.jupyter.widget-view+json": {
       "model_id": "5012fd77883f4f8e90e30356c6f2e4c4",
       "version_major": 2,
       "version_minor": 0
      },
      "text/plain": [
       "Querying PM:   0%|          | 0/1 [00:00<?, ?it/s]"
      ]
     },
     "metadata": {},
     "output_type": "display_data"
    },
    {
     "name": "stdout",
     "output_type": "stream",
     "text": [
      "successfully downloaded: <class 'src.acquisitions.qh_pm.QH_PM'>\n",
      "\tQuerying PM event timestamps for system: QPS, className: DQAMCNMB_PMSTD, source: * from 2015-03-02 07:40:36.680 to 2015-03-02 07:49:46.680\n"
     ]
    },
    {
     "data": {
      "application/vnd.jupyter.widget-view+json": {
       "model_id": "a846e72dd59e4232a3cc0f63457cd398",
       "version_major": 2,
       "version_minor": 0
      },
      "text/plain": [
       "Querying U, I Diode PM:   0%|          | 0/1 [00:00<?, ?it/s]"
      ]
     },
     "metadata": {},
     "output_type": "display_data"
    },
    {
     "name": "stdout",
     "output_type": "stream",
     "text": [
      "\tQuerying PM event timestamps for system: QPS, className: DQAMGNSRB_PMREL, source: B20L4 from 2015-03-02 07:31:26.641 to 2015-03-02 07:51:26.641\n",
      "successfully downloaded: <class 'src.acquisitions.current_voltage_diode_leads_pm.CURRENT_VOLTAGE_DIODE_LEADS_PM'>\n",
      "\tQuerying PM event timestamps for system: QPS, className: DQAMCNMB_PMSTD, source: * from 2015-03-02 07:40:36.680 to 2015-03-02 07:47:16.680\n"
     ]
    },
    {
     "data": {
      "application/vnd.jupyter.widget-view+json": {
       "model_id": "517b84fef8cc4e4c848a82c97f2b85a2",
       "version_major": 2,
       "version_minor": 0
      },
      "text/plain": [
       "Querying U, I Diode leads NXCALS:   0%|          | 0/1 [00:00<?, ?it/s]"
      ]
     },
     "metadata": {},
     "output_type": "display_data"
    },
    {
     "name": "stdout",
     "output_type": "stream",
     "text": [
      "successfully downloaded: <class 'src.acquisitions.current_voltage_diode_leads_nxcals.CURRENT_VOLTAGE_DIODE_LEADS_NXCALS'>\n",
      "\tQuerying PM event timestamps for system: QPS, className: DQAMGNDRBODD, DQAMGNDRBEVEN, source: RB.A34 from 2015-03-02 07:41:16.680 to 2015-03-02 07:48:06.680\n",
      "\tQuerying NXCALS signal(s) DFLAS.7R3.RB.A34.LD3:U_HTS, DFLAS.7R3.RB.A34.LD4:U_RES, DFLAS.7R3.RB.A34.LD4:U_HTS, DFLAS.7R3.RB.A34.LD3:U_RES, DFLAS.7L4.RB.A34.LD1:U_HTS... from 2015-03-02 07:40:56.680 to 2015-03-02 07:42:56.680\n",
      "successfully downloaded: <class 'src.acquisitions.leads.LEADS'>\n",
      "\tQuerying PM event signal(s) IAB.I_A, STATUS.I_EARTH_PCNT, STATUS.I_MEAS, STATUS.I_REF, IEARTH.IEARTH for system: RPTE.UA43.RB.A34, className: 51_self_pmd, source: FGC at 2015-03-13 09:53:22.380\n",
      "successfully downloaded: <class 'src.acquisitions.pc_pm.PC_PM'>\n",
      "\tQuerying PM event timestamps for system: QPS, className: DQAMSNRB, source: UA43.RB.A34, UJ33.RB.A34 from 2015-03-13 09:53:12.380 to 2015-03-13 10:10:02.380\n",
      "\tQuerying PM event signal(s) UA43.RB.A34:U_DUMP_RES, UJ33.RB.A34:U_DUMP_RES for system: UA43.RB.A34, UJ33.RB.A34, className: DQAMSNRB, source: QPS at 2015-03-13 09:53:22.696\n"
     ]
    },
    {
     "name": "stderr",
     "output_type": "stream",
     "text": [
      "Post Mortem returned no data for the following query: http://pm-api-pro/v2/pmdata/signal?system=QPS&className=DQAMSNRB&source=UA43.RB.A34&timestampInNanos=1426236802696000000&signal=UA43.RB.A34:U_DUMP_RES\n"
     ]
    },
    {
     "name": "stdout",
     "output_type": "stream",
     "text": [
      "successfully downloaded: <class 'src.acquisitions.ee_u_dump_res_pm.EE_U_DUMP_RES_PM'>\n",
      "\tQuerying PM event timestamps for system: QPS, className: DQAMSNRB, source: UA43.RB.A34, UJ33.RB.A34 from 2015-03-13 09:53:12.380 to 2015-03-13 10:10:02.380\n",
      "\tQuerying PM event signal(s) UJ33.RB.A34:T_RES_BODY_1, UA43.RB.A34:T_RES_BODY_2, UJ33.RB.A34:T_RES_BODY_3, UJ33.RB.A34:T_RES_BODY_2, UA43.RB.A34:T_RES_BODY_1... for system: UA43.RB.A34, UJ33.RB.A34..., className: DQAMSNRB..., source: QPS... at 2015-03-13 09:53:22.696\n"
     ]
    },
    {
     "name": "stderr",
     "output_type": "stream",
     "text": [
      "Post Mortem returned no data for the following query: http://pm-api-pro/v2/pmdata/signal?system=QPS&className=DQAMSNRB&source=UA43.RB.A34&timestampInNanos=1426236802696000000&signal=UA43.RB.A34:T_RES_BODY_1\n",
      "Post Mortem returned no data for the following query: http://pm-api-pro/v2/pmdata/signal?system=QPS&className=DQAMSNRB&source=UA43.RB.A34&timestampInNanos=1426236802696000000&signal=UA43.RB.A34:T_RES_BODY_2\n",
      "Post Mortem returned no data for the following query: http://pm-api-pro/v2/pmdata/signal?system=QPS&className=DQAMSNRB&source=UA43.RB.A34&timestampInNanos=1426236802696000000&signal=UA43.RB.A34:T_RES_BODY_3\n"
     ]
    },
    {
     "name": "stdout",
     "output_type": "stream",
     "text": [
      "successfully downloaded: <class 'src.acquisitions.ee_t_res_pm.EE_T_RES_PM'>\n",
      "\tQuerying NXCALS signal(s) MB.B9R3:U_DIODE_RB, MB.A8R3:U_DIODE_RB, MB.A10R3:U_DIODE_RB, MB.B8R3:U_DIODE_RB, MB.A9R3:U_DIODE_RB... from 2015-03-13 09:52:32.380 to 2015-03-13 10:01:42.380\n",
      "\tQuerying NXCALS signal(s) MB.A12R3:U_EARTH_RB, MB.B9R3:U_EARTH_RB, MB.A9R3:U_EARTH_RB, MB.A14R3:U_EARTH_RB, DFLAS.7R3.1:U_EARTH_RB... from 2015-03-13 09:52:32.380 to 2015-03-13 10:01:42.380\n",
      "successfully downloaded: <class 'src.acquisitions.voltage_nxcals.VOLTAGE_NXCALS'>\n",
      "\tQuerying PM event timestamps for system: QPS, className: DQAMCNMB_PMSTD, source: * from 2015-03-13 09:52:32.380 to 2015-03-13 10:01:42.380\n"
     ]
    },
    {
     "data": {
      "application/vnd.jupyter.widget-view+json": {
       "model_id": "c5e61ea0d54d483faed4bfc4b074c97d",
       "version_major": 2,
       "version_minor": 0
      },
      "text/plain": [
       "Querying iQPS logic PM:   0%|          | 0/4 [00:00<?, ?it/s]"
      ]
     },
     "metadata": {},
     "output_type": "display_data"
    },
    {
     "name": "stdout",
     "output_type": "stream",
     "text": [
      "successfully downloaded: <class 'src.acquisitions.voltage_logic_iqps.VOLTAGE_LOGIC_IQPS'>\n",
      "\tQuerying PM event timestamps for system: QPS, className: DQAMCNMB_PMSTD, source: * from 2015-03-13 09:52:32.380 to 2015-03-13 10:01:42.380\n",
      "\tQuerying PM event timestamps for system: QPS, className: DQAMGNSRB_PMREL, source: * from 2015-03-13 09:53:12.380 to 2015-03-13 10:00:02.380\n",
      "successfully downloaded: <class 'src.acquisitions.voltage_logic_nqps.VOLTAGE_LOGIC_NQPS'>\n",
      "\tQuerying PM event timestamps for system: QPS, className: DQAMCNMB_PMHSU, source: * from 2015-03-13 09:53:12.380 to 2015-03-13 10:01:42.380\n"
     ]
    },
    {
     "name": "stderr",
     "output_type": "stream",
     "text": [
      "Some nQPS PM buffers missing. ['B8R3', 'B9R3', 'B10R3', 'B11R3', 'B12R3', 'B13R3', 'B14R3', 'B15R3', 'B16R3', 'B17R3', 'B18R3', 'B19R3', 'B20R3', 'B21R3', 'B22R3', 'B23R3', 'B24R3', 'B25R3', 'B26R3', 'B27R3', 'B28R3', 'B29R3', 'B30R3', 'B31R3', 'B32R3', 'B33R3', 'B34R3', 'B34L4', 'B33L4', 'B32L4', 'B31L4', 'B30L4', 'B29L4', 'B28L4', 'B27L4', 'B26L4', 'B25L4', 'B24L4', 'B23L4', 'B22L4', 'B21L4', 'B20L4', 'B19L4', 'B18L4', 'B17L4', 'B16L4', 'B15L4', 'B14L4', 'B13L4', 'B12L4', 'B11L4', 'B10L4', 'B9L4', 'B8L4'] not found for RB.A34 within [(10, 's'), (400, 's')] around 1426236802380000000.\n",
      "At least one of the timestamps (nQPS or QDS) is missing, query skipped returning empty pd.DataFrame.\n"
     ]
    },
    {
     "data": {
      "application/vnd.jupyter.widget-view+json": {
       "model_id": "a781d8ab5f564b94aaea4e7817ba2005",
       "version_major": 2,
       "version_minor": 0
      },
      "text/plain": [
       "Querying PM:   0%|          | 0/4 [00:00<?, ?it/s]"
      ]
     },
     "metadata": {},
     "output_type": "display_data"
    },
    {
     "name": "stdout",
     "output_type": "stream",
     "text": [
      "successfully downloaded: <class 'src.acquisitions.qh_pm.QH_PM'>\n",
      "\tQuerying PM event timestamps for system: QPS, className: DQAMCNMB_PMSTD, source: * from 2015-03-13 09:52:32.380 to 2015-03-13 10:01:42.380\n"
     ]
    },
    {
     "data": {
      "application/vnd.jupyter.widget-view+json": {
       "model_id": "6dfea3ad56e84c969b619b3d4bad8ff2",
       "version_major": 2,
       "version_minor": 0
      },
      "text/plain": [
       "Querying U, I Diode PM:   0%|          | 0/4 [00:00<?, ?it/s]"
      ]
     },
     "metadata": {},
     "output_type": "display_data"
    },
    {
     "name": "stdout",
     "output_type": "stream",
     "text": [
      "\tQuerying PM event timestamps for system: QPS, className: DQAMGNSRB_PMREL, source: B23L4 from 2015-03-13 09:43:22.331 to 2015-03-13 10:03:22.331\n",
      "successfully downloaded: <class 'src.acquisitions.current_voltage_diode_leads_pm.CURRENT_VOLTAGE_DIODE_LEADS_PM'>\n",
      "\tQuerying PM event timestamps for system: QPS, className: DQAMCNMB_PMSTD, source: * from 2015-03-13 09:52:32.380 to 2015-03-13 09:59:12.380\n"
     ]
    },
    {
     "data": {
      "application/vnd.jupyter.widget-view+json": {
       "model_id": "e57ce5ecfbb8432d8fc89b633e5c23d1",
       "version_major": 2,
       "version_minor": 0
      },
      "text/plain": [
       "Querying U, I Diode leads NXCALS:   0%|          | 0/4 [00:00<?, ?it/s]"
      ]
     },
     "metadata": {},
     "output_type": "display_data"
    },
    {
     "name": "stdout",
     "output_type": "stream",
     "text": [
      "successfully downloaded: <class 'src.acquisitions.current_voltage_diode_leads_nxcals.CURRENT_VOLTAGE_DIODE_LEADS_NXCALS'>\n",
      "\tQuerying PM event timestamps for system: QPS, className: DQAMGNDRBODD, DQAMGNDRBEVEN, source: RB.A34 from 2015-03-13 09:53:12.380 to 2015-03-13 10:00:02.380\n",
      "\tQuerying PM event signal(s) DFLAS.7R3.RB.A34.LD3:U_HTS, DFLAS.7R3.RB.A34.LD4:U_RES, DFLAS.7R3.RB.A34.LD4:U_HTS, DFLAS.7R3.RB.A34.LD3:U_RES, DFLAS.7L4.RB.A34.LD1:U_HTS... for system: RB.A34..., className: DQAMGNDRBODD, DQAMGNDRBEVEN..., source: QPS... at 2015-03-13 09:53:23.812\n"
     ]
    },
    {
     "name": "stderr",
     "output_type": "stream",
     "text": [
      "Post Mortem returned no data for the following query: http://pm-api-pro/v2/pmdata/signal?system=QPS&className=DQAMGNDRBEVEN&source=RB.A34&timestampInNanos=1426236803812000000&signal=DFLAS.7L4.RB.A34.LD1:U_HTS\n",
      "Post Mortem returned no data for the following query: http://pm-api-pro/v2/pmdata/signal?system=QPS&className=DQAMGNDRBEVEN&source=RB.A34&timestampInNanos=1426236803812000000&signal=DFLAS.7L4.RB.A34.LD2:U_HTS\n",
      "Post Mortem returned no data for the following query: http://pm-api-pro/v2/pmdata/signal?system=QPS&className=DQAMGNDRBEVEN&source=RB.A34&timestampInNanos=1426236803812000000&signal=DFLAS.7L4.RB.A34.LD1:U_RES\n",
      "Post Mortem returned no data for the following query: http://pm-api-pro/v2/pmdata/signal?system=QPS&className=DQAMGNDRBEVEN&source=RB.A34&timestampInNanos=1426236803812000000&signal=DFLAS.7L4.RB.A34.LD2:U_RES\n"
     ]
    },
    {
     "name": "stdout",
     "output_type": "stream",
     "text": [
      "successfully downloaded: <class 'src.acquisitions.leads.LEADS'>\n",
      "\tQuerying PM event signal(s) IAB.I_A, STATUS.I_EARTH_PCNT, STATUS.I_MEAS, STATUS.I_REF, IEARTH.IEARTH for system: RPTE.UA43.RB.A34, className: 51_self_pmd, source: FGC at 2015-03-13 18:32:12\n",
      "successfully downloaded: <class 'src.acquisitions.pc_pm.PC_PM'>\n",
      "\tQuerying PM event timestamps for system: QPS, className: DQAMSNRB, source: UA43.RB.A34, UJ33.RB.A34 from 2015-03-13 18:32:02 to 2015-03-13 18:48:52\n",
      "\tQuerying PM event signal(s) UA43.RB.A34:U_DUMP_RES, UJ33.RB.A34:U_DUMP_RES for system: UA43.RB.A34, UJ33.RB.A34, className: DQAMSNRB, source: QPS at 2015-03-13 18:32:12.307\n"
     ]
    },
    {
     "name": "stderr",
     "output_type": "stream",
     "text": [
      "Post Mortem returned no data for the following query: http://pm-api-pro/v2/pmdata/signal?system=QPS&className=DQAMSNRB&source=UA43.RB.A34&timestampInNanos=1426267932307000000&signal=UA43.RB.A34:U_DUMP_RES\n"
     ]
    },
    {
     "name": "stdout",
     "output_type": "stream",
     "text": [
      "successfully downloaded: <class 'src.acquisitions.ee_u_dump_res_pm.EE_U_DUMP_RES_PM'>\n",
      "\tQuerying PM event timestamps for system: QPS, className: DQAMSNRB, source: UA43.RB.A34, UJ33.RB.A34 from 2015-03-13 18:32:02 to 2015-03-13 18:48:52\n",
      "\tQuerying PM event signal(s) UJ33.RB.A34:T_RES_BODY_1, UA43.RB.A34:T_RES_BODY_2, UJ33.RB.A34:T_RES_BODY_3, UJ33.RB.A34:T_RES_BODY_2, UA43.RB.A34:T_RES_BODY_1... for system: UA43.RB.A34, UJ33.RB.A34..., className: DQAMSNRB..., source: QPS... at 2015-03-13 18:32:12.307\n"
     ]
    },
    {
     "name": "stderr",
     "output_type": "stream",
     "text": [
      "Post Mortem returned no data for the following query: http://pm-api-pro/v2/pmdata/signal?system=QPS&className=DQAMSNRB&source=UA43.RB.A34&timestampInNanos=1426267932307000000&signal=UA43.RB.A34:T_RES_BODY_1\n",
      "Post Mortem returned no data for the following query: http://pm-api-pro/v2/pmdata/signal?system=QPS&className=DQAMSNRB&source=UA43.RB.A34&timestampInNanos=1426267932307000000&signal=UA43.RB.A34:T_RES_BODY_2\n",
      "Post Mortem returned no data for the following query: http://pm-api-pro/v2/pmdata/signal?system=QPS&className=DQAMSNRB&source=UA43.RB.A34&timestampInNanos=1426267932307000000&signal=UA43.RB.A34:T_RES_BODY_3\n"
     ]
    },
    {
     "name": "stdout",
     "output_type": "stream",
     "text": [
      "successfully downloaded: <class 'src.acquisitions.ee_t_res_pm.EE_T_RES_PM'>\n",
      "\tQuerying NXCALS signal(s) MB.B9R3:U_DIODE_RB, MB.A8R3:U_DIODE_RB, MB.A10R3:U_DIODE_RB, MB.B8R3:U_DIODE_RB, MB.A9R3:U_DIODE_RB... from 2015-03-13 18:31:22 to 2015-03-13 18:40:32\n",
      "\tQuerying NXCALS signal(s) MB.A12R3:U_EARTH_RB, MB.B9R3:U_EARTH_RB, MB.A9R3:U_EARTH_RB, MB.A14R3:U_EARTH_RB, DFLAS.7R3.1:U_EARTH_RB... from 2015-03-13 18:31:22 to 2015-03-13 18:40:32\n",
      "successfully downloaded: <class 'src.acquisitions.voltage_nxcals.VOLTAGE_NXCALS'>\n",
      "\tQuerying PM event timestamps for system: QPS, className: DQAMCNMB_PMSTD, source: * from 2015-03-13 18:31:22 to 2015-03-13 18:40:32\n"
     ]
    },
    {
     "data": {
      "application/vnd.jupyter.widget-view+json": {
       "model_id": "c1b3382af3204a3991a3c4943622fd43",
       "version_major": 2,
       "version_minor": 0
      },
      "text/plain": [
       "Querying iQPS logic PM:   0%|          | 0/3 [00:00<?, ?it/s]"
      ]
     },
     "metadata": {},
     "output_type": "display_data"
    },
    {
     "name": "stdout",
     "output_type": "stream",
     "text": [
      "successfully downloaded: <class 'src.acquisitions.voltage_logic_iqps.VOLTAGE_LOGIC_IQPS'>\n",
      "\tQuerying PM event timestamps for system: QPS, className: DQAMCNMB_PMSTD, source: * from 2015-03-13 18:31:22 to 2015-03-13 18:40:32\n",
      "\tQuerying PM event timestamps for system: QPS, className: DQAMGNSRB_PMREL, source: * from 2015-03-13 18:32:02 to 2015-03-13 18:38:52\n",
      "successfully downloaded: <class 'src.acquisitions.voltage_logic_nqps.VOLTAGE_LOGIC_NQPS'>\n",
      "\tQuerying PM event timestamps for system: QPS, className: DQAMCNMB_PMHSU, source: * from 2015-03-13 18:32:02 to 2015-03-13 18:40:32\n"
     ]
    },
    {
     "name": "stderr",
     "output_type": "stream",
     "text": [
      "Some nQPS PM buffers missing. ['B8R3', 'B9R3', 'B10R3', 'B11R3', 'B12R3', 'B13R3', 'B14R3', 'B15R3', 'B16R3', 'B17R3', 'B18R3', 'B19R3', 'B20R3', 'B21R3', 'B22R3', 'B23R3', 'B24R3', 'B25R3', 'B26R3', 'B27R3', 'B28R3', 'B29R3', 'B30R3', 'B31R3', 'B32R3', 'B33R3', 'B34R3', 'B34L4', 'B33L4', 'B32L4', 'B31L4', 'B30L4', 'B29L4', 'B28L4', 'B27L4', 'B26L4', 'B25L4', 'B24L4', 'B23L4', 'B22L4', 'B21L4', 'B20L4', 'B19L4', 'B18L4', 'B17L4', 'B16L4', 'B15L4', 'B14L4', 'B13L4', 'B12L4', 'B11L4', 'B10L4', 'B9L4', 'B8L4'] not found for RB.A34 within [(10, 's'), (400, 's')] around 1426267932000000000.\n",
      "At least one of the timestamps (nQPS or QDS) is missing, query skipped returning empty pd.DataFrame.\n"
     ]
    },
    {
     "data": {
      "application/vnd.jupyter.widget-view+json": {
       "model_id": "06508d196f3140ad9281046086d4b1b4",
       "version_major": 2,
       "version_minor": 0
      },
      "text/plain": [
       "Querying PM:   0%|          | 0/3 [00:00<?, ?it/s]"
      ]
     },
     "metadata": {},
     "output_type": "display_data"
    },
    {
     "name": "stdout",
     "output_type": "stream",
     "text": [
      "successfully downloaded: <class 'src.acquisitions.qh_pm.QH_PM'>\n",
      "\tQuerying PM event timestamps for system: QPS, className: DQAMCNMB_PMSTD, source: * from 2015-03-13 18:31:22 to 2015-03-13 18:40:32\n"
     ]
    },
    {
     "data": {
      "application/vnd.jupyter.widget-view+json": {
       "model_id": "862e41d18c4a4ac2a585f66d87fda702",
       "version_major": 2,
       "version_minor": 0
      },
      "text/plain": [
       "Querying U, I Diode PM:   0%|          | 0/3 [00:00<?, ?it/s]"
      ]
     },
     "metadata": {},
     "output_type": "display_data"
    },
    {
     "name": "stdout",
     "output_type": "stream",
     "text": [
      "\tQuerying PM event timestamps for system: QPS, className: DQAMGNSRB_PMREL, source: B20R3 from 2015-03-13 18:22:11.955 to 2015-03-13 18:42:11.955\n",
      "successfully downloaded: <class 'src.acquisitions.current_voltage_diode_leads_pm.CURRENT_VOLTAGE_DIODE_LEADS_PM'>\n",
      "\tQuerying PM event timestamps for system: QPS, className: DQAMCNMB_PMSTD, source: * from 2015-03-13 18:31:22 to 2015-03-13 18:38:02\n"
     ]
    },
    {
     "data": {
      "application/vnd.jupyter.widget-view+json": {
       "model_id": "19ca15c1ecaa4e4e9eef5d2b6293d854",
       "version_major": 2,
       "version_minor": 0
      },
      "text/plain": [
       "Querying U, I Diode leads NXCALS:   0%|          | 0/3 [00:00<?, ?it/s]"
      ]
     },
     "metadata": {},
     "output_type": "display_data"
    },
    {
     "name": "stdout",
     "output_type": "stream",
     "text": [
      "successfully downloaded: <class 'src.acquisitions.current_voltage_diode_leads_nxcals.CURRENT_VOLTAGE_DIODE_LEADS_NXCALS'>\n",
      "\tQuerying PM event timestamps for system: QPS, className: DQAMGNDRBODD, DQAMGNDRBEVEN, source: RB.A34 from 2015-03-13 18:32:02 to 2015-03-13 18:38:52\n",
      "\tQuerying PM event signal(s) DFLAS.7R3.RB.A34.LD3:U_HTS, DFLAS.7R3.RB.A34.LD4:U_RES, DFLAS.7R3.RB.A34.LD4:U_HTS, DFLAS.7R3.RB.A34.LD3:U_RES, DFLAS.7L4.RB.A34.LD1:U_HTS... for system: RB.A34..., className: DQAMGNDRBODD, DQAMGNDRBEVEN..., source: QPS... at 2015-03-13 18:32:12.612\n"
     ]
    },
    {
     "name": "stderr",
     "output_type": "stream",
     "text": [
      "Post Mortem returned no data for the following query: http://pm-api-pro/v2/pmdata/signal?system=QPS&className=DQAMGNDRBEVEN&source=RB.A34&timestampInNanos=1426267932612000000&signal=DFLAS.7L4.RB.A34.LD1:U_HTS\n",
      "Post Mortem returned no data for the following query: http://pm-api-pro/v2/pmdata/signal?system=QPS&className=DQAMGNDRBEVEN&source=RB.A34&timestampInNanos=1426267932612000000&signal=DFLAS.7L4.RB.A34.LD2:U_HTS\n",
      "Post Mortem returned no data for the following query: http://pm-api-pro/v2/pmdata/signal?system=QPS&className=DQAMGNDRBEVEN&source=RB.A34&timestampInNanos=1426267932612000000&signal=DFLAS.7L4.RB.A34.LD1:U_RES\n",
      "Post Mortem returned no data for the following query: http://pm-api-pro/v2/pmdata/signal?system=QPS&className=DQAMGNDRBEVEN&source=RB.A34&timestampInNanos=1426267932612000000&signal=DFLAS.7L4.RB.A34.LD2:U_RES\n"
     ]
    },
    {
     "name": "stdout",
     "output_type": "stream",
     "text": [
      "successfully downloaded: <class 'src.acquisitions.leads.LEADS'>\n",
      "\tQuerying PM event signal(s) IAB.I_A, STATUS.I_EARTH_PCNT, STATUS.I_MEAS, STATUS.I_REF, IEARTH.IEARTH for system: RPTE.UA43.RB.A34, className: 51_self_pmd, source: FGC at 2015-03-14 06:48:17.800\n",
      "successfully downloaded: <class 'src.acquisitions.pc_pm.PC_PM'>\n",
      "\tQuerying PM event timestamps for system: QPS, className: DQAMSNRB, source: UA43.RB.A34, UJ33.RB.A34 from 2015-03-14 06:48:07.800 to 2015-03-14 07:04:57.800\n",
      "\tQuerying PM event signal(s) UA43.RB.A34:U_DUMP_RES, UJ33.RB.A34:U_DUMP_RES for system: UA43.RB.A34, UJ33.RB.A34, className: DQAMSNRB, source: QPS at 2015-03-14 06:48:18.105\n"
     ]
    },
    {
     "name": "stderr",
     "output_type": "stream",
     "text": [
      "Post Mortem returned no data for the following query: http://pm-api-pro/v2/pmdata/signal?system=QPS&className=DQAMSNRB&source=UA43.RB.A34&timestampInNanos=1426312098105000000&signal=UA43.RB.A34:U_DUMP_RES\n"
     ]
    },
    {
     "name": "stdout",
     "output_type": "stream",
     "text": [
      "successfully downloaded: <class 'src.acquisitions.ee_u_dump_res_pm.EE_U_DUMP_RES_PM'>\n",
      "\tQuerying PM event timestamps for system: QPS, className: DQAMSNRB, source: UA43.RB.A34, UJ33.RB.A34 from 2015-03-14 06:48:07.800 to 2015-03-14 07:04:57.800\n",
      "\tQuerying PM event signal(s) UJ33.RB.A34:T_RES_BODY_1, UA43.RB.A34:T_RES_BODY_2, UJ33.RB.A34:T_RES_BODY_3, UJ33.RB.A34:T_RES_BODY_2, UA43.RB.A34:T_RES_BODY_1... for system: UA43.RB.A34, UJ33.RB.A34..., className: DQAMSNRB..., source: QPS... at 2015-03-14 06:48:18.105\n"
     ]
    },
    {
     "name": "stderr",
     "output_type": "stream",
     "text": [
      "Post Mortem returned no data for the following query: http://pm-api-pro/v2/pmdata/signal?system=QPS&className=DQAMSNRB&source=UA43.RB.A34&timestampInNanos=1426312098105000000&signal=UA43.RB.A34:T_RES_BODY_1\n",
      "Post Mortem returned no data for the following query: http://pm-api-pro/v2/pmdata/signal?system=QPS&className=DQAMSNRB&source=UA43.RB.A34&timestampInNanos=1426312098105000000&signal=UA43.RB.A34:T_RES_BODY_2\n",
      "Post Mortem returned no data for the following query: http://pm-api-pro/v2/pmdata/signal?system=QPS&className=DQAMSNRB&source=UA43.RB.A34&timestampInNanos=1426312098105000000&signal=UA43.RB.A34:T_RES_BODY_3\n"
     ]
    },
    {
     "name": "stdout",
     "output_type": "stream",
     "text": [
      "successfully downloaded: <class 'src.acquisitions.ee_t_res_pm.EE_T_RES_PM'>\n",
      "\tQuerying NXCALS signal(s) MB.B9R3:U_DIODE_RB, MB.A8R3:U_DIODE_RB, MB.A10R3:U_DIODE_RB, MB.B8R3:U_DIODE_RB, MB.A9R3:U_DIODE_RB... from 2015-03-14 06:47:27.800 to 2015-03-14 06:56:37.800\n",
      "\tQuerying NXCALS signal(s) MB.A12R3:U_EARTH_RB, MB.B9R3:U_EARTH_RB, MB.A9R3:U_EARTH_RB, MB.A14R3:U_EARTH_RB, DFLAS.7R3.1:U_EARTH_RB... from 2015-03-14 06:47:27.800 to 2015-03-14 06:56:37.800\n",
      "successfully downloaded: <class 'src.acquisitions.voltage_nxcals.VOLTAGE_NXCALS'>\n",
      "\tQuerying PM event timestamps for system: QPS, className: DQAMCNMB_PMSTD, source: * from 2015-03-14 06:47:27.800 to 2015-03-14 06:56:37.800\n"
     ]
    },
    {
     "data": {
      "application/vnd.jupyter.widget-view+json": {
       "model_id": "e434043199a641759a4a6544795919ac",
       "version_major": 2,
       "version_minor": 0
      },
      "text/plain": [
       "Querying iQPS logic PM:   0%|          | 0/4 [00:00<?, ?it/s]"
      ]
     },
     "metadata": {},
     "output_type": "display_data"
    },
    {
     "name": "stdout",
     "output_type": "stream",
     "text": [
      "successfully downloaded: <class 'src.acquisitions.voltage_logic_iqps.VOLTAGE_LOGIC_IQPS'>\n",
      "\tQuerying PM event timestamps for system: QPS, className: DQAMCNMB_PMSTD, source: * from 2015-03-14 06:47:27.800 to 2015-03-14 06:56:37.800\n",
      "\tQuerying PM event timestamps for system: QPS, className: DQAMGNSRB_PMREL, source: * from 2015-03-14 06:48:07.800 to 2015-03-14 06:54:57.800\n",
      "successfully downloaded: <class 'src.acquisitions.voltage_logic_nqps.VOLTAGE_LOGIC_NQPS'>\n",
      "\tQuerying PM event timestamps for system: QPS, className: DQAMCNMB_PMHSU, source: * from 2015-03-14 06:48:07.800 to 2015-03-14 06:56:37.800\n"
     ]
    },
    {
     "name": "stderr",
     "output_type": "stream",
     "text": [
      "Some nQPS PM buffers missing. ['B8R3', 'B9R3', 'B10R3', 'B11R3', 'B12R3', 'B13R3', 'B14R3', 'B15R3', 'B16R3', 'B17R3', 'B18R3', 'B19R3', 'B20R3', 'B21R3', 'B22R3', 'B23R3', 'B24R3', 'B25R3', 'B26R3', 'B27R3', 'B28R3', 'B29R3', 'B30R3', 'B31R3', 'B32R3', 'B33R3', 'B34R3', 'B34L4', 'B33L4', 'B32L4', 'B31L4', 'B30L4', 'B29L4', 'B28L4', 'B27L4', 'B26L4', 'B25L4', 'B24L4', 'B23L4', 'B22L4', 'B21L4', 'B20L4', 'B19L4', 'B18L4', 'B17L4', 'B16L4', 'B15L4', 'B14L4', 'B13L4', 'B12L4', 'B11L4', 'B10L4', 'B9L4', 'B8L4'] not found for RB.A34 within [(10, 's'), (400, 's')] around 1426312097800000000.\n",
      "At least one of the timestamps (nQPS or QDS) is missing, query skipped returning empty pd.DataFrame.\n"
     ]
    },
    {
     "data": {
      "application/vnd.jupyter.widget-view+json": {
       "model_id": "8ce0743fbab7422ab30c8eaf81308878",
       "version_major": 2,
       "version_minor": 0
      },
      "text/plain": [
       "Querying PM:   0%|          | 0/4 [00:00<?, ?it/s]"
      ]
     },
     "metadata": {},
     "output_type": "display_data"
    },
    {
     "name": "stdout",
     "output_type": "stream",
     "text": [
      "successfully downloaded: <class 'src.acquisitions.qh_pm.QH_PM'>\n",
      "\tQuerying PM event timestamps for system: QPS, className: DQAMCNMB_PMSTD, source: * from 2015-03-14 06:47:27.800 to 2015-03-14 06:56:37.800\n"
     ]
    },
    {
     "data": {
      "application/vnd.jupyter.widget-view+json": {
       "model_id": "474d5329668e4bb1ad87de22d838c1cf",
       "version_major": 2,
       "version_minor": 0
      },
      "text/plain": [
       "Querying U, I Diode PM:   0%|          | 0/4 [00:00<?, ?it/s]"
      ]
     },
     "metadata": {},
     "output_type": "display_data"
    },
    {
     "name": "stdout",
     "output_type": "stream",
     "text": [
      "\tQuerying PM event timestamps for system: QPS, className: DQAMGNSRB_PMREL, source: B17R3 from 2015-03-14 06:38:17.753 to 2015-03-14 06:58:17.753\n",
      "successfully downloaded: <class 'src.acquisitions.current_voltage_diode_leads_pm.CURRENT_VOLTAGE_DIODE_LEADS_PM'>\n",
      "\tQuerying PM event timestamps for system: QPS, className: DQAMCNMB_PMSTD, source: * from 2015-03-14 06:47:27.800 to 2015-03-14 06:54:07.800\n"
     ]
    },
    {
     "data": {
      "application/vnd.jupyter.widget-view+json": {
       "model_id": "37bc106be6bc4d9ea8154211a941ca27",
       "version_major": 2,
       "version_minor": 0
      },
      "text/plain": [
       "Querying U, I Diode leads NXCALS:   0%|          | 0/4 [00:00<?, ?it/s]"
      ]
     },
     "metadata": {},
     "output_type": "display_data"
    },
    {
     "name": "stdout",
     "output_type": "stream",
     "text": [
      "successfully downloaded: <class 'src.acquisitions.current_voltage_diode_leads_nxcals.CURRENT_VOLTAGE_DIODE_LEADS_NXCALS'>\n",
      "\tQuerying PM event timestamps for system: QPS, className: DQAMGNDRBODD, DQAMGNDRBEVEN, source: RB.A34 from 2015-03-14 06:48:07.800 to 2015-03-14 06:54:57.800\n",
      "\tQuerying PM event signal(s) DFLAS.7R3.RB.A34.LD3:U_HTS, DFLAS.7R3.RB.A34.LD4:U_RES, DFLAS.7R3.RB.A34.LD4:U_HTS, DFLAS.7R3.RB.A34.LD3:U_RES, DFLAS.7L4.RB.A34.LD1:U_HTS... for system: RB.A34..., className: DQAMGNDRBODD, DQAMGNDRBEVEN..., source: QPS... at 2015-03-14 06:48:18.807\n"
     ]
    },
    {
     "name": "stderr",
     "output_type": "stream",
     "text": [
      "Post Mortem returned no data for the following query: http://pm-api-pro/v2/pmdata/signal?system=QPS&className=DQAMGNDRBEVEN&source=RB.A34&timestampInNanos=1426312098807000000&signal=DFLAS.7L4.RB.A34.LD1:U_HTS\n",
      "Post Mortem returned no data for the following query: http://pm-api-pro/v2/pmdata/signal?system=QPS&className=DQAMGNDRBEVEN&source=RB.A34&timestampInNanos=1426312098807000000&signal=DFLAS.7L4.RB.A34.LD2:U_HTS\n",
      "Post Mortem returned no data for the following query: http://pm-api-pro/v2/pmdata/signal?system=QPS&className=DQAMGNDRBEVEN&source=RB.A34&timestampInNanos=1426312098807000000&signal=DFLAS.7L4.RB.A34.LD1:U_RES\n",
      "Post Mortem returned no data for the following query: http://pm-api-pro/v2/pmdata/signal?system=QPS&className=DQAMGNDRBEVEN&source=RB.A34&timestampInNanos=1426312098807000000&signal=DFLAS.7L4.RB.A34.LD2:U_RES\n"
     ]
    },
    {
     "name": "stdout",
     "output_type": "stream",
     "text": [
      "successfully downloaded: <class 'src.acquisitions.leads.LEADS'>\n",
      "\tQuerying PM event signal(s) IAB.I_A, STATUS.I_EARTH_PCNT, STATUS.I_MEAS, STATUS.I_REF, IEARTH.IEARTH for system: RPTE.UA43.RB.A34, className: 51_self_pmd, source: FGC at 2015-03-14 18:42:11.060\n",
      "successfully downloaded: <class 'src.acquisitions.pc_pm.PC_PM'>\n",
      "\tQuerying PM event timestamps for system: QPS, className: DQAMSNRB, source: UA43.RB.A34, UJ33.RB.A34 from 2015-03-14 18:42:01.060 to 2015-03-14 18:58:51.060\n",
      "\tQuerying PM event signal(s) UA43.RB.A34:U_DUMP_RES, UJ33.RB.A34:U_DUMP_RES for system: UA43.RB.A34, UJ33.RB.A34, className: DQAMSNRB, source: QPS at 2015-03-14 18:42:11.367\n"
     ]
    },
    {
     "name": "stderr",
     "output_type": "stream",
     "text": [
      "Post Mortem returned no data for the following query: http://pm-api-pro/v2/pmdata/signal?system=QPS&className=DQAMSNRB&source=UA43.RB.A34&timestampInNanos=1426354931367000000&signal=UA43.RB.A34:U_DUMP_RES\n"
     ]
    },
    {
     "name": "stdout",
     "output_type": "stream",
     "text": [
      "successfully downloaded: <class 'src.acquisitions.ee_u_dump_res_pm.EE_U_DUMP_RES_PM'>\n",
      "\tQuerying PM event timestamps for system: QPS, className: DQAMSNRB, source: UA43.RB.A34, UJ33.RB.A34 from 2015-03-14 18:42:01.060 to 2015-03-14 18:58:51.060\n",
      "\tQuerying PM event signal(s) UJ33.RB.A34:T_RES_BODY_1, UA43.RB.A34:T_RES_BODY_2, UJ33.RB.A34:T_RES_BODY_3, UJ33.RB.A34:T_RES_BODY_2, UA43.RB.A34:T_RES_BODY_1... for system: UA43.RB.A34, UJ33.RB.A34..., className: DQAMSNRB..., source: QPS... at 2015-03-14 18:42:11.367\n"
     ]
    },
    {
     "name": "stderr",
     "output_type": "stream",
     "text": [
      "Post Mortem returned no data for the following query: http://pm-api-pro/v2/pmdata/signal?system=QPS&className=DQAMSNRB&source=UA43.RB.A34&timestampInNanos=1426354931367000000&signal=UA43.RB.A34:T_RES_BODY_1\n",
      "Post Mortem returned no data for the following query: http://pm-api-pro/v2/pmdata/signal?system=QPS&className=DQAMSNRB&source=UA43.RB.A34&timestampInNanos=1426354931367000000&signal=UA43.RB.A34:T_RES_BODY_2\n",
      "Post Mortem returned no data for the following query: http://pm-api-pro/v2/pmdata/signal?system=QPS&className=DQAMSNRB&source=UA43.RB.A34&timestampInNanos=1426354931367000000&signal=UA43.RB.A34:T_RES_BODY_3\n"
     ]
    },
    {
     "name": "stdout",
     "output_type": "stream",
     "text": [
      "successfully downloaded: <class 'src.acquisitions.ee_t_res_pm.EE_T_RES_PM'>\n",
      "\tQuerying NXCALS signal(s) MB.B9R3:U_DIODE_RB, MB.A8R3:U_DIODE_RB, MB.A10R3:U_DIODE_RB, MB.B8R3:U_DIODE_RB, MB.A9R3:U_DIODE_RB... from 2015-03-14 18:41:21.060 to 2015-03-14 18:50:31.060\n",
      "\tQuerying NXCALS signal(s) MB.A12R3:U_EARTH_RB, MB.B9R3:U_EARTH_RB, MB.A9R3:U_EARTH_RB, MB.A14R3:U_EARTH_RB, DFLAS.7R3.1:U_EARTH_RB... from 2015-03-14 18:41:21.060 to 2015-03-14 18:50:31.060\n",
      "successfully downloaded: <class 'src.acquisitions.voltage_nxcals.VOLTAGE_NXCALS'>\n",
      "\tQuerying PM event timestamps for system: QPS, className: DQAMCNMB_PMSTD, source: * from 2015-03-14 18:41:21.060 to 2015-03-14 18:50:31.060\n"
     ]
    },
    {
     "data": {
      "application/vnd.jupyter.widget-view+json": {
       "model_id": "f62a5c8773e94aa4945dc6838c4e763e",
       "version_major": 2,
       "version_minor": 0
      },
      "text/plain": [
       "Querying iQPS logic PM:   0%|          | 0/4 [00:00<?, ?it/s]"
      ]
     },
     "metadata": {},
     "output_type": "display_data"
    },
    {
     "name": "stdout",
     "output_type": "stream",
     "text": [
      "successfully downloaded: <class 'src.acquisitions.voltage_logic_iqps.VOLTAGE_LOGIC_IQPS'>\n",
      "\tQuerying PM event timestamps for system: QPS, className: DQAMCNMB_PMSTD, source: * from 2015-03-14 18:41:21.060 to 2015-03-14 18:50:31.060\n",
      "\tQuerying PM event timestamps for system: QPS, className: DQAMGNSRB_PMREL, source: * from 2015-03-14 18:42:01.060 to 2015-03-14 18:48:51.060\n",
      "successfully downloaded: <class 'src.acquisitions.voltage_logic_nqps.VOLTAGE_LOGIC_NQPS'>\n",
      "\tQuerying PM event timestamps for system: QPS, className: DQAMCNMB_PMHSU, source: * from 2015-03-14 18:42:01.060 to 2015-03-14 18:50:31.060\n"
     ]
    },
    {
     "name": "stderr",
     "output_type": "stream",
     "text": [
      "Some nQPS PM buffers missing. ['B8R3', 'B9R3', 'B10R3', 'B11R3', 'B12R3', 'B13R3', 'B14R3', 'B15R3', 'B16R3', 'B17R3', 'B18R3', 'B19R3', 'B20R3', 'B21R3', 'B22R3', 'B23R3', 'B24R3', 'B25R3', 'B26R3', 'B27R3', 'B28R3', 'B29R3', 'B30R3', 'B31R3', 'B32R3', 'B33R3', 'B34R3', 'B34L4', 'B33L4', 'B32L4', 'B31L4', 'B30L4', 'B29L4', 'B28L4', 'B27L4', 'B26L4', 'B25L4', 'B24L4', 'B23L4', 'B22L4', 'B21L4', 'B20L4', 'B19L4', 'B18L4', 'B17L4', 'B16L4', 'B15L4', 'B14L4', 'B13L4', 'B12L4', 'B11L4', 'B10L4', 'B9L4', 'B8L4'] not found for RB.A34 within [(10, 's'), (400, 's')] around 1426354931060000000.\n",
      "At least one of the timestamps (nQPS or QDS) is missing, query skipped returning empty pd.DataFrame.\n"
     ]
    },
    {
     "data": {
      "application/vnd.jupyter.widget-view+json": {
       "model_id": "2d3c377e51ae468bb2a31e4364072d19",
       "version_major": 2,
       "version_minor": 0
      },
      "text/plain": [
       "Querying PM:   0%|          | 0/4 [00:00<?, ?it/s]"
      ]
     },
     "metadata": {},
     "output_type": "display_data"
    },
    {
     "name": "stdout",
     "output_type": "stream",
     "text": [
      "successfully downloaded: <class 'src.acquisitions.qh_pm.QH_PM'>\n",
      "\tQuerying PM event timestamps for system: QPS, className: DQAMCNMB_PMSTD, source: * from 2015-03-14 18:41:21.060 to 2015-03-14 18:50:31.060\n"
     ]
    },
    {
     "data": {
      "application/vnd.jupyter.widget-view+json": {
       "model_id": "dd0b44dce3d147499f61011713f368c0",
       "version_major": 2,
       "version_minor": 0
      },
      "text/plain": [
       "Querying U, I Diode PM:   0%|          | 0/4 [00:00<?, ?it/s]"
      ]
     },
     "metadata": {},
     "output_type": "display_data"
    },
    {
     "name": "stdout",
     "output_type": "stream",
     "text": [
      "\tQuerying PM event timestamps for system: QPS, className: DQAMGNSRB_PMREL, source: B29L4 from 2015-03-14 18:32:11.012 to 2015-03-14 18:52:11.012\n",
      "successfully downloaded: <class 'src.acquisitions.current_voltage_diode_leads_pm.CURRENT_VOLTAGE_DIODE_LEADS_PM'>\n",
      "\tQuerying PM event timestamps for system: QPS, className: DQAMCNMB_PMSTD, source: * from 2015-03-14 18:41:21.060 to 2015-03-14 18:48:01.060\n"
     ]
    },
    {
     "data": {
      "application/vnd.jupyter.widget-view+json": {
       "model_id": "e245557b4323416c819e11d7bd59673b",
       "version_major": 2,
       "version_minor": 0
      },
      "text/plain": [
       "Querying U, I Diode leads NXCALS:   0%|          | 0/4 [00:00<?, ?it/s]"
      ]
     },
     "metadata": {},
     "output_type": "display_data"
    },
    {
     "name": "stdout",
     "output_type": "stream",
     "text": [
      "successfully downloaded: <class 'src.acquisitions.current_voltage_diode_leads_nxcals.CURRENT_VOLTAGE_DIODE_LEADS_NXCALS'>\n",
      "\tQuerying PM event timestamps for system: QPS, className: DQAMGNDRBODD, DQAMGNDRBEVEN, source: RB.A34 from 2015-03-14 18:42:01.060 to 2015-03-14 18:48:51.060\n",
      "\tQuerying PM event signal(s) DFLAS.7R3.RB.A34.LD3:U_HTS, DFLAS.7R3.RB.A34.LD4:U_RES, DFLAS.7R3.RB.A34.LD4:U_HTS, DFLAS.7R3.RB.A34.LD3:U_RES, DFLAS.7L4.RB.A34.LD1:U_HTS... for system: RB.A34..., className: DQAMGNDRBODD, DQAMGNDRBEVEN..., source: QPS... at 2015-03-14 18:42:11.606\n"
     ]
    },
    {
     "name": "stderr",
     "output_type": "stream",
     "text": [
      "Post Mortem returned no data for the following query: http://pm-api-pro/v2/pmdata/signal?system=QPS&className=DQAMGNDRBEVEN&source=RB.A34&timestampInNanos=1426354931606000000&signal=DFLAS.7L4.RB.A34.LD1:U_HTS\n",
      "Post Mortem returned no data for the following query: http://pm-api-pro/v2/pmdata/signal?system=QPS&className=DQAMGNDRBEVEN&source=RB.A34&timestampInNanos=1426354931606000000&signal=DFLAS.7L4.RB.A34.LD2:U_HTS\n",
      "Post Mortem returned no data for the following query: http://pm-api-pro/v2/pmdata/signal?system=QPS&className=DQAMGNDRBEVEN&source=RB.A34&timestampInNanos=1426354931606000000&signal=DFLAS.7L4.RB.A34.LD1:U_RES\n",
      "Post Mortem returned no data for the following query: http://pm-api-pro/v2/pmdata/signal?system=QPS&className=DQAMGNDRBEVEN&source=RB.A34&timestampInNanos=1426354931606000000&signal=DFLAS.7L4.RB.A34.LD2:U_RES\n"
     ]
    },
    {
     "name": "stdout",
     "output_type": "stream",
     "text": [
      "successfully downloaded: <class 'src.acquisitions.leads.LEADS'>\n",
      "\tQuerying PM event signal(s) IAB.I_A, STATUS.I_EARTH_PCNT, STATUS.I_MEAS, STATUS.I_REF, IEARTH.IEARTH for system: RPTE.UA43.RB.A34, className: 51_self_pmd, source: FGC at 2015-03-15 03:30:29.160\n",
      "successfully downloaded: <class 'src.acquisitions.pc_pm.PC_PM'>\n",
      "\tQuerying PM event timestamps for system: QPS, className: DQAMSNRB, source: UA43.RB.A34, UJ33.RB.A34 from 2015-03-15 03:30:19.160 to 2015-03-15 03:47:09.160\n",
      "\tQuerying PM event signal(s) UA43.RB.A34:U_DUMP_RES, UJ33.RB.A34:U_DUMP_RES for system: UA43.RB.A34, UJ33.RB.A34, className: DQAMSNRB, source: QPS at 2015-03-15 03:30:29.482\n"
     ]
    },
    {
     "name": "stderr",
     "output_type": "stream",
     "text": [
      "Post Mortem returned no data for the following query: http://pm-api-pro/v2/pmdata/signal?system=QPS&className=DQAMSNRB&source=UA43.RB.A34&timestampInNanos=1426386629482000000&signal=UA43.RB.A34:U_DUMP_RES\n"
     ]
    },
    {
     "name": "stdout",
     "output_type": "stream",
     "text": [
      "successfully downloaded: <class 'src.acquisitions.ee_u_dump_res_pm.EE_U_DUMP_RES_PM'>\n",
      "\tQuerying PM event timestamps for system: QPS, className: DQAMSNRB, source: UA43.RB.A34, UJ33.RB.A34 from 2015-03-15 03:30:19.160 to 2015-03-15 03:47:09.160\n",
      "\tQuerying PM event signal(s) UJ33.RB.A34:T_RES_BODY_1, UA43.RB.A34:T_RES_BODY_2, UJ33.RB.A34:T_RES_BODY_3, UJ33.RB.A34:T_RES_BODY_2, UA43.RB.A34:T_RES_BODY_1... for system: UA43.RB.A34, UJ33.RB.A34..., className: DQAMSNRB..., source: QPS... at 2015-03-15 03:30:29.482\n"
     ]
    },
    {
     "name": "stderr",
     "output_type": "stream",
     "text": [
      "Post Mortem returned no data for the following query: http://pm-api-pro/v2/pmdata/signal?system=QPS&className=DQAMSNRB&source=UA43.RB.A34&timestampInNanos=1426386629482000000&signal=UA43.RB.A34:T_RES_BODY_1\n",
      "Post Mortem returned no data for the following query: http://pm-api-pro/v2/pmdata/signal?system=QPS&className=DQAMSNRB&source=UA43.RB.A34&timestampInNanos=1426386629482000000&signal=UA43.RB.A34:T_RES_BODY_2\n",
      "Post Mortem returned no data for the following query: http://pm-api-pro/v2/pmdata/signal?system=QPS&className=DQAMSNRB&source=UA43.RB.A34&timestampInNanos=1426386629482000000&signal=UA43.RB.A34:T_RES_BODY_3\n"
     ]
    },
    {
     "name": "stdout",
     "output_type": "stream",
     "text": [
      "successfully downloaded: <class 'src.acquisitions.ee_t_res_pm.EE_T_RES_PM'>\n",
      "\tQuerying NXCALS signal(s) MB.B9R3:U_DIODE_RB, MB.A8R3:U_DIODE_RB, MB.A10R3:U_DIODE_RB, MB.B8R3:U_DIODE_RB, MB.A9R3:U_DIODE_RB... from 2015-03-15 03:29:39.160 to 2015-03-15 03:38:49.160\n",
      "\tQuerying NXCALS signal(s) MB.A12R3:U_EARTH_RB, MB.B9R3:U_EARTH_RB, MB.A9R3:U_EARTH_RB, MB.A14R3:U_EARTH_RB, DFLAS.7R3.1:U_EARTH_RB... from 2015-03-15 03:29:39.160 to 2015-03-15 03:38:49.160\n"
     ]
    }
   ],
   "source": [
    "for index, row in mp3_fpa_df_period.iterrows():\n",
    "    circuit_type = row['Circuit Family']\n",
    "    circuit_name = row['Circuit Name']\n",
    "    timestamp_fgc = int(row['timestamp_fgc'])\n",
    "    try:\n",
    "        for signal_group in signal_groups:\n",
    "            group = signal_group(circuit_type, circuit_name, timestamp_fgc, spark=spark)\n",
    "            group.to_hdf5(hdf_dir=hdf_dir, context_path=context_path)\n",
    "            print(f\"successfully downloaded: {str(signal_group)}\")\n",
    "    except:\n",
    "        log_failed_files(circuit_type, circuit_name, timestamp_fgc)\n",
    "        print(f\"failed to download: {str(signal_group)}\")"
   ]
  },
  {
   "cell_type": "markdown",
   "id": "e2744641",
   "metadata": {},
   "source": [
    "# Analyze downloaded files"
   ]
  },
  {
   "cell_type": "code",
   "execution_count": 14,
   "id": "1c67b2e6",
   "metadata": {},
   "outputs": [
    {
     "data": {
      "text/plain": [
       "18088"
      ]
     },
     "execution_count": 14,
     "metadata": {},
     "output_type": "execute_result"
    }
   ],
   "source": [
    "context_df = pd.read_csv(\"./context_data.csv\")\n",
    "len(context_df)"
   ]
  },
  {
   "cell_type": "code",
   "execution_count": 15,
   "id": "9eea4a7d",
   "metadata": {},
   "outputs": [
    {
     "data": {
      "text/html": [
       "<div>\n",
       "<style scoped>\n",
       "    .dataframe tbody tr th:only-of-type {\n",
       "        vertical-align: middle;\n",
       "    }\n",
       "\n",
       "    .dataframe tbody tr th {\n",
       "        vertical-align: top;\n",
       "    }\n",
       "\n",
       "    .dataframe thead th {\n",
       "        text-align: right;\n",
       "    }\n",
       "</style>\n",
       "<table border=\"1\" class=\"dataframe\">\n",
       "  <thead>\n",
       "    <tr style=\"text-align: right;\">\n",
       "      <th></th>\n",
       "      <th>circuit_type</th>\n",
       "      <th>circuit_name</th>\n",
       "      <th>timestamp_fgc</th>\n",
       "      <th>STATUS.I_MEAS</th>\n",
       "      <th>IAB.I_A</th>\n",
       "      <th>IEARTH.IEARTH</th>\n",
       "      <th>STATUS.I_EARTH_PCNT</th>\n",
       "      <th>STATUS.I_REF</th>\n",
       "      <th>RR17.RB.A12:U_DUMP_RES</th>\n",
       "      <th>RR17.RB.A12:T_RES_BODY_1</th>\n",
       "      <th>...</th>\n",
       "      <th>B12L4:ST_NQD0</th>\n",
       "      <th>B12L4:ST_MAGNET_OK</th>\n",
       "      <th>B11L4:U_QS0</th>\n",
       "      <th>B11L4:U_1</th>\n",
       "      <th>B11L4:U_2</th>\n",
       "      <th>B11L4:ST_NQD0</th>\n",
       "      <th>B11L4:ST_MAGNET_OK</th>\n",
       "      <th>A18L4:U_QS0</th>\n",
       "      <th>A18L4:U_1</th>\n",
       "      <th>A18L4:U_2</th>\n",
       "    </tr>\n",
       "  </thead>\n",
       "  <tbody>\n",
       "    <tr>\n",
       "      <th>0</th>\n",
       "      <td>RB</td>\n",
       "      <td>RB.A12</td>\n",
       "      <td>1418330714580000000</td>\n",
       "      <td>21000.0</td>\n",
       "      <td>8192.0</td>\n",
       "      <td>1024.0</td>\n",
       "      <td>21000.0</td>\n",
       "      <td>21000.0</td>\n",
       "      <td>1198.0</td>\n",
       "      <td>998.0</td>\n",
       "      <td>...</td>\n",
       "      <td>NaN</td>\n",
       "      <td>NaN</td>\n",
       "      <td>NaN</td>\n",
       "      <td>NaN</td>\n",
       "      <td>NaN</td>\n",
       "      <td>NaN</td>\n",
       "      <td>NaN</td>\n",
       "      <td>NaN</td>\n",
       "      <td>NaN</td>\n",
       "      <td>NaN</td>\n",
       "    </tr>\n",
       "    <tr>\n",
       "      <th>1</th>\n",
       "      <td>RB</td>\n",
       "      <td>RB.A12</td>\n",
       "      <td>1418384764500000000</td>\n",
       "      <td>21000.0</td>\n",
       "      <td>8192.0</td>\n",
       "      <td>1024.0</td>\n",
       "      <td>21000.0</td>\n",
       "      <td>21000.0</td>\n",
       "      <td>1198.0</td>\n",
       "      <td>998.0</td>\n",
       "      <td>...</td>\n",
       "      <td>NaN</td>\n",
       "      <td>NaN</td>\n",
       "      <td>NaN</td>\n",
       "      <td>NaN</td>\n",
       "      <td>NaN</td>\n",
       "      <td>NaN</td>\n",
       "      <td>NaN</td>\n",
       "      <td>NaN</td>\n",
       "      <td>NaN</td>\n",
       "      <td>NaN</td>\n",
       "    </tr>\n",
       "    <tr>\n",
       "      <th>2</th>\n",
       "      <td>RB</td>\n",
       "      <td>RB.A12</td>\n",
       "      <td>1418384764500000000</td>\n",
       "      <td>NaN</td>\n",
       "      <td>8192.0</td>\n",
       "      <td>1024.0</td>\n",
       "      <td>21000.0</td>\n",
       "      <td>21000.0</td>\n",
       "      <td>1198.0</td>\n",
       "      <td>998.0</td>\n",
       "      <td>...</td>\n",
       "      <td>NaN</td>\n",
       "      <td>NaN</td>\n",
       "      <td>NaN</td>\n",
       "      <td>NaN</td>\n",
       "      <td>NaN</td>\n",
       "      <td>NaN</td>\n",
       "      <td>NaN</td>\n",
       "      <td>NaN</td>\n",
       "      <td>NaN</td>\n",
       "      <td>NaN</td>\n",
       "    </tr>\n",
       "    <tr>\n",
       "      <th>3</th>\n",
       "      <td>RB</td>\n",
       "      <td>RB.A12</td>\n",
       "      <td>1418384764500000000</td>\n",
       "      <td>NaN</td>\n",
       "      <td>NaN</td>\n",
       "      <td>1024.0</td>\n",
       "      <td>21000.0</td>\n",
       "      <td>21000.0</td>\n",
       "      <td>1198.0</td>\n",
       "      <td>998.0</td>\n",
       "      <td>...</td>\n",
       "      <td>NaN</td>\n",
       "      <td>NaN</td>\n",
       "      <td>NaN</td>\n",
       "      <td>NaN</td>\n",
       "      <td>NaN</td>\n",
       "      <td>NaN</td>\n",
       "      <td>NaN</td>\n",
       "      <td>NaN</td>\n",
       "      <td>NaN</td>\n",
       "      <td>NaN</td>\n",
       "    </tr>\n",
       "    <tr>\n",
       "      <th>4</th>\n",
       "      <td>RB</td>\n",
       "      <td>RB.A12</td>\n",
       "      <td>1418384764500000000</td>\n",
       "      <td>NaN</td>\n",
       "      <td>NaN</td>\n",
       "      <td>NaN</td>\n",
       "      <td>21000.0</td>\n",
       "      <td>21000.0</td>\n",
       "      <td>1198.0</td>\n",
       "      <td>998.0</td>\n",
       "      <td>...</td>\n",
       "      <td>NaN</td>\n",
       "      <td>NaN</td>\n",
       "      <td>NaN</td>\n",
       "      <td>NaN</td>\n",
       "      <td>NaN</td>\n",
       "      <td>NaN</td>\n",
       "      <td>NaN</td>\n",
       "      <td>NaN</td>\n",
       "      <td>NaN</td>\n",
       "      <td>NaN</td>\n",
       "    </tr>\n",
       "    <tr>\n",
       "      <th>...</th>\n",
       "      <td>...</td>\n",
       "      <td>...</td>\n",
       "      <td>...</td>\n",
       "      <td>...</td>\n",
       "      <td>...</td>\n",
       "      <td>...</td>\n",
       "      <td>...</td>\n",
       "      <td>...</td>\n",
       "      <td>...</td>\n",
       "      <td>...</td>\n",
       "      <td>...</td>\n",
       "      <td>...</td>\n",
       "      <td>...</td>\n",
       "      <td>...</td>\n",
       "      <td>...</td>\n",
       "      <td>...</td>\n",
       "      <td>...</td>\n",
       "      <td>...</td>\n",
       "      <td>...</td>\n",
       "      <td>...</td>\n",
       "      <td>...</td>\n",
       "    </tr>\n",
       "    <tr>\n",
       "      <th>18083</th>\n",
       "      <td>RB</td>\n",
       "      <td>RB.A34</td>\n",
       "      <td>1426750907160000000</td>\n",
       "      <td>NaN</td>\n",
       "      <td>NaN</td>\n",
       "      <td>NaN</td>\n",
       "      <td>NaN</td>\n",
       "      <td>NaN</td>\n",
       "      <td>NaN</td>\n",
       "      <td>NaN</td>\n",
       "      <td>...</td>\n",
       "      <td>NaN</td>\n",
       "      <td>NaN</td>\n",
       "      <td>NaN</td>\n",
       "      <td>NaN</td>\n",
       "      <td>NaN</td>\n",
       "      <td>NaN</td>\n",
       "      <td>NaN</td>\n",
       "      <td>NaN</td>\n",
       "      <td>NaN</td>\n",
       "      <td>NaN</td>\n",
       "    </tr>\n",
       "    <tr>\n",
       "      <th>18084</th>\n",
       "      <td>RB</td>\n",
       "      <td>RB.A34</td>\n",
       "      <td>1426750907160000000</td>\n",
       "      <td>NaN</td>\n",
       "      <td>NaN</td>\n",
       "      <td>NaN</td>\n",
       "      <td>NaN</td>\n",
       "      <td>NaN</td>\n",
       "      <td>NaN</td>\n",
       "      <td>NaN</td>\n",
       "      <td>...</td>\n",
       "      <td>NaN</td>\n",
       "      <td>NaN</td>\n",
       "      <td>NaN</td>\n",
       "      <td>NaN</td>\n",
       "      <td>NaN</td>\n",
       "      <td>NaN</td>\n",
       "      <td>NaN</td>\n",
       "      <td>NaN</td>\n",
       "      <td>NaN</td>\n",
       "      <td>NaN</td>\n",
       "    </tr>\n",
       "    <tr>\n",
       "      <th>18085</th>\n",
       "      <td>RB</td>\n",
       "      <td>RB.A34</td>\n",
       "      <td>1426750907160000000</td>\n",
       "      <td>NaN</td>\n",
       "      <td>NaN</td>\n",
       "      <td>NaN</td>\n",
       "      <td>NaN</td>\n",
       "      <td>NaN</td>\n",
       "      <td>NaN</td>\n",
       "      <td>NaN</td>\n",
       "      <td>...</td>\n",
       "      <td>NaN</td>\n",
       "      <td>NaN</td>\n",
       "      <td>NaN</td>\n",
       "      <td>NaN</td>\n",
       "      <td>NaN</td>\n",
       "      <td>NaN</td>\n",
       "      <td>NaN</td>\n",
       "      <td>NaN</td>\n",
       "      <td>NaN</td>\n",
       "      <td>NaN</td>\n",
       "    </tr>\n",
       "    <tr>\n",
       "      <th>18086</th>\n",
       "      <td>RB</td>\n",
       "      <td>RB.A34</td>\n",
       "      <td>1426750907160000000</td>\n",
       "      <td>NaN</td>\n",
       "      <td>NaN</td>\n",
       "      <td>NaN</td>\n",
       "      <td>NaN</td>\n",
       "      <td>NaN</td>\n",
       "      <td>NaN</td>\n",
       "      <td>NaN</td>\n",
       "      <td>...</td>\n",
       "      <td>NaN</td>\n",
       "      <td>NaN</td>\n",
       "      <td>NaN</td>\n",
       "      <td>NaN</td>\n",
       "      <td>NaN</td>\n",
       "      <td>NaN</td>\n",
       "      <td>NaN</td>\n",
       "      <td>NaN</td>\n",
       "      <td>NaN</td>\n",
       "      <td>NaN</td>\n",
       "    </tr>\n",
       "    <tr>\n",
       "      <th>18087</th>\n",
       "      <td>RB</td>\n",
       "      <td>RB.A34</td>\n",
       "      <td>1426750907160000000</td>\n",
       "      <td>NaN</td>\n",
       "      <td>NaN</td>\n",
       "      <td>NaN</td>\n",
       "      <td>NaN</td>\n",
       "      <td>NaN</td>\n",
       "      <td>NaN</td>\n",
       "      <td>NaN</td>\n",
       "      <td>...</td>\n",
       "      <td>NaN</td>\n",
       "      <td>NaN</td>\n",
       "      <td>NaN</td>\n",
       "      <td>NaN</td>\n",
       "      <td>NaN</td>\n",
       "      <td>NaN</td>\n",
       "      <td>NaN</td>\n",
       "      <td>NaN</td>\n",
       "      <td>NaN</td>\n",
       "      <td>NaN</td>\n",
       "    </tr>\n",
       "  </tbody>\n",
       "</table>\n",
       "<p>18088 rows × 3663 columns</p>\n",
       "</div>"
      ],
      "text/plain": [
       "      circuit_type circuit_name        timestamp_fgc  STATUS.I_MEAS  IAB.I_A  \\\n",
       "0               RB       RB.A12  1418330714580000000        21000.0   8192.0   \n",
       "1               RB       RB.A12  1418384764500000000        21000.0   8192.0   \n",
       "2               RB       RB.A12  1418384764500000000            NaN   8192.0   \n",
       "3               RB       RB.A12  1418384764500000000            NaN      NaN   \n",
       "4               RB       RB.A12  1418384764500000000            NaN      NaN   \n",
       "...            ...          ...                  ...            ...      ...   \n",
       "18083           RB       RB.A34  1426750907160000000            NaN      NaN   \n",
       "18084           RB       RB.A34  1426750907160000000            NaN      NaN   \n",
       "18085           RB       RB.A34  1426750907160000000            NaN      NaN   \n",
       "18086           RB       RB.A34  1426750907160000000            NaN      NaN   \n",
       "18087           RB       RB.A34  1426750907160000000            NaN      NaN   \n",
       "\n",
       "       IEARTH.IEARTH  STATUS.I_EARTH_PCNT  STATUS.I_REF  \\\n",
       "0             1024.0              21000.0       21000.0   \n",
       "1             1024.0              21000.0       21000.0   \n",
       "2             1024.0              21000.0       21000.0   \n",
       "3             1024.0              21000.0       21000.0   \n",
       "4                NaN              21000.0       21000.0   \n",
       "...              ...                  ...           ...   \n",
       "18083            NaN                  NaN           NaN   \n",
       "18084            NaN                  NaN           NaN   \n",
       "18085            NaN                  NaN           NaN   \n",
       "18086            NaN                  NaN           NaN   \n",
       "18087            NaN                  NaN           NaN   \n",
       "\n",
       "       RR17.RB.A12:U_DUMP_RES  RR17.RB.A12:T_RES_BODY_1  ...  B12L4:ST_NQD0  \\\n",
       "0                      1198.0                     998.0  ...            NaN   \n",
       "1                      1198.0                     998.0  ...            NaN   \n",
       "2                      1198.0                     998.0  ...            NaN   \n",
       "3                      1198.0                     998.0  ...            NaN   \n",
       "4                      1198.0                     998.0  ...            NaN   \n",
       "...                       ...                       ...  ...            ...   \n",
       "18083                     NaN                       NaN  ...            NaN   \n",
       "18084                     NaN                       NaN  ...            NaN   \n",
       "18085                     NaN                       NaN  ...            NaN   \n",
       "18086                     NaN                       NaN  ...            NaN   \n",
       "18087                     NaN                       NaN  ...            NaN   \n",
       "\n",
       "       B12L4:ST_MAGNET_OK  B11L4:U_QS0  B11L4:U_1  B11L4:U_2  B11L4:ST_NQD0  \\\n",
       "0                     NaN          NaN        NaN        NaN            NaN   \n",
       "1                     NaN          NaN        NaN        NaN            NaN   \n",
       "2                     NaN          NaN        NaN        NaN            NaN   \n",
       "3                     NaN          NaN        NaN        NaN            NaN   \n",
       "4                     NaN          NaN        NaN        NaN            NaN   \n",
       "...                   ...          ...        ...        ...            ...   \n",
       "18083                 NaN          NaN        NaN        NaN            NaN   \n",
       "18084                 NaN          NaN        NaN        NaN            NaN   \n",
       "18085                 NaN          NaN        NaN        NaN            NaN   \n",
       "18086                 NaN          NaN        NaN        NaN            NaN   \n",
       "18087                 NaN          NaN        NaN        NaN            NaN   \n",
       "\n",
       "       B11L4:ST_MAGNET_OK  A18L4:U_QS0  A18L4:U_1  A18L4:U_2  \n",
       "0                     NaN          NaN        NaN        NaN  \n",
       "1                     NaN          NaN        NaN        NaN  \n",
       "2                     NaN          NaN        NaN        NaN  \n",
       "3                     NaN          NaN        NaN        NaN  \n",
       "4                     NaN          NaN        NaN        NaN  \n",
       "...                   ...          ...        ...        ...  \n",
       "18083                 NaN          NaN        NaN        NaN  \n",
       "18084                 NaN          NaN        NaN        NaN  \n",
       "18085                 NaN          NaN        NaN        NaN  \n",
       "18086                 NaN          NaN        NaN        NaN  \n",
       "18087                 NaN          NaN        NaN        NaN  \n",
       "\n",
       "[18088 rows x 3663 columns]"
      ]
     },
     "execution_count": 15,
     "metadata": {},
     "output_type": "execute_result"
    }
   ],
   "source": [
    "context_df"
   ]
  }
 ],
 "metadata": {
  "kernelspec": {
   "display_name": "Python 3",
   "language": "python",
   "name": "python3"
  },
  "language_info": {
   "codemirror_mode": {
    "name": "ipython",
    "version": 3
   },
   "file_extension": ".py",
   "mimetype": "text/x-python",
   "name": "python",
   "nbconvert_exporter": "python",
   "pygments_lexer": "ipython3",
   "version": "3.8.6"
  },
  "sparkconnect": {
   "bundled_options": [
    "NXCALS"
   ],
   "list_of_options": []
  }
 },
 "nbformat": 4,
 "nbformat_minor": 5
}
