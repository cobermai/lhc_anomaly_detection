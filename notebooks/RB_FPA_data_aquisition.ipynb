{
 "cells": [
  {
   "cell_type": "markdown",
   "id": "de62fb17",
   "metadata": {},
   "source": [
    "# Import libraries"
   ]
  },
  {
   "cell_type": "code",
   "execution_count": null,
   "id": "28e55775",
   "metadata": {},
   "outputs": [],
   "source": [
    "import sys\n",
    "from pathlib import Path\n",
    "sys.path.insert(0,'..')\n",
    "import glob\n",
    "#!pip install openpyxl"
   ]
  },
  {
   "cell_type": "code",
   "execution_count": 3,
   "id": "c7662299",
   "metadata": {},
   "outputs": [],
   "source": [
    "import os\n",
    "import sys\n",
    "import pandas as pd\n",
    "import pickle\n",
    "import matplotlib.pyplot as plt\n",
    "import h5py\n",
    "\n",
    "from functools import partial\n",
    "from multiprocessing import Pool\n",
    "\n",
    "# sigmon env: /eos/project/l/lhcsm/public/1.5.20.sh\n",
    "from lhcsmapi.Time import Time\n",
    "from lhcsmapi.metadata.SignalMetadata import SignalMetadata\n",
    "from lhcsmapi.pyedsl.dbsignal.post_mortem.PmDbRequest import PmDbRequest\n",
    "from lhcsmapi.analysis.RbCircuitQuery import RbCircuitQuery\n",
    "\n",
    "from src.acquisitions.current_voltage_diode_leads_nxcals import CurrentVoltageDiodeLeadsNXCALS\n",
    "from src.acquisitions.current_voltage_diode_leads_pm import CurrentVoltageDiodeLeadsPM\n",
    "from src.acquisitions.ee_t_res_pm import EETResPM\n",
    "from src.acquisitions.ee_u_dump_res_pm import EEUDumpResPM\n",
    "from src.acquisitions.leads import Leads\n",
    "from src.acquisitions.pc_pm import PCPM\n",
    "from src.acquisitions.qh_pm import QHPM\n",
    "from src.acquisitions.voltage_logic_iqps import VoltageLogicIQPS\n",
    "from src.acquisitions.voltage_logic_nqps import VoltageLogicNQPS\n",
    "from src.acquisitions.voltage_nxcals import VoltageNXCALS\n",
    "\n",
    "from src.utils.utils import log_acquisition\n",
    "from src.utils.hdf_tools import acquisition_to_hdf5"
   ]
  },
  {
   "cell_type": "markdown",
   "id": "05fd1b1e",
   "metadata": {},
   "source": [
    "# Read the (clean) MP3 file"
   ]
  },
  {
   "cell_type": "code",
   "execution_count": null,
   "id": "a399d8a9",
   "metadata": {},
   "outputs": [],
   "source": [
    "mp3_fpa_df_raw = pd.read_excel(\"./RB_TC_extract_2021_11_22.xlsx\")\n",
    "len(mp3_fpa_df_raw)"
   ]
  },
  {
   "cell_type": "code",
   "execution_count": null,
   "id": "a8e46e55",
   "metadata": {},
   "outputs": [],
   "source": [
    "# First row contains units, 9 rows contain only \"Before Notebooks\" and \"After Notebooks\" information, which need to be droped\n",
    "mp3_fpa_df = mp3_fpa_df_raw.dropna(subset = ['Date (FGC)', 'Circuit Name'])\n",
    "mp3_fpa_df_raw.iloc[~mp3_fpa_df_raw.index.isin(mp3_fpa_df.index)] #show droped rows"
   ]
  },
  {
   "cell_type": "markdown",
   "id": "5f89d2d1",
   "metadata": {},
   "source": [
    "# Find FGC timestamp for each FPA event in MP3 excel"
   ]
  },
  {
   "cell_type": "code",
   "execution_count": null,
   "id": "8807c573",
   "metadata": {},
   "outputs": [],
   "source": [
    "def find_real_fgc_timestamp(circuit_name, fgc_datetime):\n",
    "    \n",
    "    fgc_timestamp = Time.to_unix_timestamp(fgc_datetime)\n",
    "    metadata_fgc = SignalMetadata.get_circuit_signal_database_metadata(\n",
    "            'RB', circuit_name, 'PC', 'PM', timestamp_query=fgc_timestamp)\n",
    "\n",
    "    one_sec_in_ns = 1e9 \n",
    "    start_time = fgc_timestamp - one_sec_in_ns\n",
    "    end_time = fgc_timestamp + one_sec_in_ns\n",
    " \n",
    "    source_timestamp_fgc = PmDbRequest.find_events(metadata_fgc['source'],\n",
    "                                                   metadata_fgc['system'],\n",
    "                                                   metadata_fgc['className'],\n",
    "                                                   t_start=start_time,\n",
    "                                                   t_end=end_time)\n",
    "\n",
    "    return [(circuit_name, el[1]) for el in source_timestamp_fgc]\n",
    "\n",
    "# getting the list of timestamps\n",
    "def get_fgc_timestamp(d):\n",
    "    date_time_str = f\"{d['Date (FGC)']} {d['Time (FGC)']}\".replace(\"00:00:00 \",\"\")\n",
    "    \n",
    "    real_fgc_timestamps = find_real_fgc_timestamp(d['Circuit Name'], date_time_str)\n",
    "    if len(real_fgc_timestamps) > 1:\n",
    "        print(f\"Found more than one event for timestamp {date_time_str}\")\n",
    "    elif not real_fgc_timestamps:\n",
    "        print(f\"Found no event for timestamp {date_time_str}\")\n",
    "        return None\n",
    "    _, real_fgc_timestamp = real_fgc_timestamps[0]\n",
    "    return int(real_fgc_timestamp)"
   ]
  },
  {
   "cell_type": "code",
   "execution_count": null,
   "id": "efe61bf3",
   "metadata": {
    "scrolled": true
   },
   "outputs": [],
   "source": [
    "mp3_fpa_df['timestamp_fgc'] = mp3_fpa_df.apply(get_fgc_timestamp, axis=1)"
   ]
  },
  {
   "cell_type": "markdown",
   "id": "3b4cb5d4",
   "metadata": {},
   "source": [
    "# Find missing fgc timestamps in mp3 file"
   ]
  },
  {
   "cell_type": "code",
   "execution_count": null,
   "id": "f68bc889",
   "metadata": {},
   "outputs": [],
   "source": [
    "mp3_fpa_df_primary_missing = mp3_fpa_df[(mp3_fpa_df.timestamp_fgc.isna()) & (mp3_fpa_df['Nr in Q event']==1)]\n",
    "print(f\"missing primary events: {len(mp3_fpa_df_primary_missing)}\")\n",
    "mp3_fpa_df_primary_missing.Period.value_counts()"
   ]
  },
  {
   "cell_type": "code",
   "execution_count": null,
   "id": "d0f0246a",
   "metadata": {},
   "outputs": [],
   "source": [
    "def get_fgc_timestamp_missing(d):\n",
    "    date_time_str = f\"{d['Date (FGC)']} {d['Time (FGC)']}\".replace(\"00:00:00\",\"\")\n",
    "    for t in range(6,24):\n",
    "        date_time_str_new = date_time_str.replace(\" 00:\",f\" {t}:\")\n",
    "        real_fgc_timestamps = find_real_fgc_timestamp(d['Circuit Name'], date_time_str_new)\n",
    "        if real_fgc_timestamps:\n",
    "            print(f\"Found event for timestamp {date_time_str_new}\")\n",
    "            _, real_fgc_timestamp = real_fgc_timestamps[0]\n",
    "            return int(real_fgc_timestamp)"
   ]
  },
  {
   "cell_type": "code",
   "execution_count": null,
   "id": "8057df93",
   "metadata": {
    "scrolled": true
   },
   "outputs": [],
   "source": [
    "mp3_fpa_df_primary_missing['timestamp_fgc'] = mp3_fpa_df_primary_missing.apply(get_fgc_timestamp_missing, axis=1)"
   ]
  },
  {
   "cell_type": "code",
   "execution_count": null,
   "id": "5a05e1d4",
   "metadata": {},
   "outputs": [],
   "source": [
    "found_fgc_timestamps_df = mp3_fpa_df_primary_missing[\"timestamp_fgc\"].dropna()\n",
    "mp3_fpa_df.loc[found_fgc_timestamps_df.index, \"timestamp_fgc\"] = mp3_fpa_df_primary_missing[\"timestamp_fgc\"].dropna().values\n",
    "\n",
    "mp3_fpa_df_primary_missing = mp3_fpa_df[(mp3_fpa_df.timestamp_fgc.isna()) & (mp3_fpa_df['Nr in Q event']==1)]\n",
    "print(f\"missing primary events: {len(mp3_fpa_df_primary_missing)}\")\n",
    "mp3_fpa_df_primary_missing.Period.value_counts()"
   ]
  },
  {
   "cell_type": "code",
   "execution_count": null,
   "id": "0df3202f",
   "metadata": {},
   "outputs": [],
   "source": [
    "# dropping duplicates of timestamps\n",
    "print(f\"{len(mp3_fpa_df['timestamp_fgc'])} mp3 excel file entries\")\n",
    "mp3_fpa_df_unique = mp3_fpa_df.drop_duplicates(subset=['timestamp_fgc', 'Circuit Name']) ### you need timestamp + circuit !!! \n",
    "\n",
    "print(f\"{len(mp3_fpa_df_unique)} unique fgc events\") # 841 Primary quenches?\n",
    "print(f\"{len(mp3_fpa_df[mp3_fpa_df['Nr in Q event']==1])} mp3 primary quench entries\") # 834 primary quenches with correct notes"
   ]
  },
  {
   "cell_type": "markdown",
   "id": "909edf09",
   "metadata": {},
   "source": [
    "# Prepare csv for marvins notebooks"
   ]
  },
  {
   "cell_type": "code",
   "execution_count": null,
   "id": "278b5172",
   "metadata": {},
   "outputs": [],
   "source": [
    "mp3_fpa_df[\"Date (FGC)\"].iloc[0].strftime('%Y%m%d')"
   ]
  },
  {
   "cell_type": "code",
   "execution_count": null,
   "id": "14d5cfc5",
   "metadata": {},
   "outputs": [],
   "source": [
    "#mp3_fpa_df#[mp3_fpa_df[\"Date (FGC)\"]==\"2021-03-08 00:00:00\"]\n",
    "import datetime\n",
    "mp3_fpa_df[mp3_fpa_df[\"Period\"]==\"HWC 2021\"][\"Date (FGC)\"].iloc[0]\n",
    "mp3_fpa_df[mp3_fpa_df[\"Date (FGC)\"]==datetime.datetime(2021, 3, 28, 0, 0)]\n",
    "\n",
    "def format_date(d):\n",
    "    return str(d).replace(\" 00:00:00\",\"\")\n",
    "mp3_fpa_df[\"Date (FGC)\"] = mp3_fpa_df[\"Date (FGC)\"].apply(format_date)\n",
    "\n",
    "mp3_fpa_df.loc[1691:1695].to_csv(\"RB.A78_FPA-2021-03-28-22h09.csv\")"
   ]
  },
  {
   "cell_type": "markdown",
   "id": "cd937e9f",
   "metadata": {},
   "source": [
    "# Select events to download"
   ]
  },
  {
   "cell_type": "code",
   "execution_count": null,
   "id": "6524a86a",
   "metadata": {},
   "outputs": [],
   "source": [
    "# Time.to_string(1514761200000000000), Time.to_unix_timestamp('2018-01-01 00:00:00+01:00')\n",
    "mp3_fpa_df_period = mp3_fpa_df_unique[mp3_fpa_df_unique['timestamp_fgc'] >= 1388530800000000000].reset_index(drop=True) \n",
    "len(mp3_fpa_df_period)"
   ]
  },
  {
   "cell_type": "code",
   "execution_count": null,
   "id": "9eb611a2",
   "metadata": {
    "scrolled": true
   },
   "outputs": [],
   "source": [
    "# use columns where download is not complete\n",
    "context_path = Path('/eos/project/m/ml-for-alarm-system/private/RB_signals/context_data.csv')\n",
    "if os.path.exists(context_path):\n",
    "    df_context = pd.read_csv(context_path)\n",
    "    dowloaded_fgc_ts = df_context[df_context.download_complete == True].timestamp_fgc.values\n",
    "\n",
    "    mp3_fpa_df_to_download = mp3_fpa_df_period[~mp3_fpa_df_period.timestamp_fgc.isin(dowloaded_fgc_ts)]\n",
    "else:\n",
    "    mp3_fpa_df_to_download = mp3_fpa_df_period\n",
    "len(mp3_fpa_df_to_download)"
   ]
  },
  {
   "cell_type": "code",
   "execution_count": null,
   "id": "3a4a09f6",
   "metadata": {},
   "outputs": [],
   "source": [
    "signal_groups = [CurrentVoltageDiodeLeadsPM, CurrentVoltageDiodeLeadsNXCALS, EETResPM, EEUDumpResPM, Leads, PCPM, QHPM, VoltageLogicIQPS, VoltageLogicNQPS, VoltageNXCALS]\n",
    "\n",
    "file_dir = Path('/eos/project/m/ml-for-alarm-system/private/RB_signals')"
   ]
  },
  {
   "cell_type": "code",
   "execution_count": null,
   "id": "c5b1a0f9",
   "metadata": {},
   "outputs": [],
   "source": [
    "# what is wrong with this one?\n",
    "mp3_fpa_df_to_download.drop( mp3_fpa_df_to_download[mp3_fpa_df_to_download.timestamp_fgc == 1423519110160000000].index, inplace=True)"
   ]
  },
  {
   "cell_type": "code",
   "execution_count": null,
   "id": "434809ed",
   "metadata": {
    "scrolled": true
   },
   "outputs": [],
   "source": [
    "for index, row in mp3_fpa_df_to_download.iterrows():\n",
    "    fpa_identifier = {'circuit_type': row['Circuit Family'],\n",
    "                      'circuit_name': row['Circuit Name'],\n",
    "                      'timestamp_fgc': int(row['timestamp_fgc'])}\n",
    "    \n",
    "    for signal_group in signal_groups:\n",
    "        group = signal_group(**fpa_identifier, spark=spark)\n",
    "        acquisition_to_hdf5(acquisition=group, file_dir=file_dir)\n",
    "        \n",
    "    log_acquisition(identifier=fpa_identifier, log_data={\"download_complete\": True}, log_path=context_path)"
   ]
  },
  {
   "cell_type": "code",
   "execution_count": null,
   "id": "3e64a773",
   "metadata": {},
   "outputs": [],
   "source": []
  }
 ],
 "metadata": {
  "kernelspec": {
   "display_name": "Python 3",
   "language": "python",
   "name": "python3"
  },
  "language_info": {
   "codemirror_mode": {
    "name": "ipython",
    "version": 3
   },
   "file_extension": ".py",
   "mimetype": "text/x-python",
   "name": "python",
   "nbconvert_exporter": "python",
   "pygments_lexer": "ipython3",
   "version": "3.8.6"
  },
  "sparkconnect": {
   "bundled_options": [
    "NXCALS"
   ],
   "list_of_options": []
  }
 },
 "nbformat": 4,
 "nbformat_minor": 5
}
