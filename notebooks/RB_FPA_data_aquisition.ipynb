{
 "cells": [
  {
   "cell_type": "markdown",
   "id": "de62fb17",
   "metadata": {},
   "source": [
    "# Import libraries"
   ]
  },
  {
   "cell_type": "code",
   "execution_count": null,
   "id": "28e55775",
   "metadata": {},
   "outputs": [],
   "source": [
    "import sys\n",
    "from pathlib import Path\n",
    "sys.path.insert(0,'..')\n",
    "import glob \n",
    "#!pip install openpyxl"
   ]
  },
  {
   "cell_type": "code",
   "execution_count": null,
   "id": "c7662299",
   "metadata": {},
   "outputs": [],
   "source": [
    "import os\n",
    "import sys\n",
    "import pandas as pd\n",
    "import numpy as np\n",
    "import pickle\n",
    "import matplotlib.pyplot as plt\n",
    "import h5py\n",
    "import re\n",
    "\n",
    "from functools import partial\n",
    "from multiprocessing import Pool\n",
    "\n",
    "from lhcsmapi.Time import Time\n",
    "from lhcsmapi.metadata import signal_metadata\n",
    "from lhcsmapi.pyedsl.dbsignal.post_mortem.PmDbRequest import PmDbRequest\n",
    "from lhcsmapi.analysis.RbCircuitQuery import RbCircuitQuery\n",
    "\n",
    "from src.acquisitions.current_voltage_diode_leads_nxcals import CurrentVoltageDiodeLeadsNXCALS\n",
    "from src.acquisitions.current_voltage_diode_leads_pm import CurrentVoltageDiodeLeadsPM\n",
    "from src.acquisitions.ee_t_res_pm import EETResPM\n",
    "from src.acquisitions.ee_u_dump_res_pm import EEUDumpResPM\n",
    "from src.acquisitions.leads import Leads\n",
    "from src.acquisitions.pc_pm import PCPM\n",
    "from src.acquisitions.qh_pm import QHPM\n",
    "from src.acquisitions.voltage_logic_iqps import VoltageLogicIQPS\n",
    "from src.acquisitions.voltage_nqps import VoltageNQPS\n",
    "from src.acquisitions.voltage_nxcals import VoltageNXCALS\n",
    "\n",
    "from src.utils.utils import log_acquisition\n",
    "from src.utils.hdf_tools import acquisition_to_hdf5, load_from_hdf_with_regex\n",
    "from src.utils.mp3_excel_processing import get_fgc_timestamp, get_fgc_timestamp_missing\n",
    "from src.visualisation.visualisation import plot_hdf"
   ]
  },
  {
   "cell_type": "markdown",
   "id": "cd937e9f",
   "metadata": {},
   "source": [
    "# Select events to download"
   ]
  },
  {
   "cell_type": "code",
   "execution_count": null,
   "id": "be19fc57",
   "metadata": {},
   "outputs": [],
   "source": [
    "mp3_fpa_df = pd.read_csv(\"../data/RB_TC_extract_2021_11_22_processed.csv\")\n",
    "mp3_fpa_df_unique = mp3_fpa_df.drop_duplicates(subset=['timestamp_fgc', 'Circuit Name'])"
   ]
  },
  {
   "cell_type": "code",
   "execution_count": null,
   "id": "6524a86a",
   "metadata": {},
   "outputs": [],
   "source": [
    "lower_limit = Time.to_unix_timestamp('2021-01-01 00:00:00+01:00')\n",
    "mp3_fpa_df_period = mp3_fpa_df_unique[mp3_fpa_df_unique['timestamp_fgc'] >= lower_limit].reset_index(drop=True) \n",
    "len(mp3_fpa_df_period)"
   ]
  },
  {
   "cell_type": "code",
   "execution_count": null,
   "id": "3a4a09f6",
   "metadata": {},
   "outputs": [],
   "source": [
    "signal_groups = [PCPM, VoltageNXCALS, VoltageNQPS, VoltageLogicIQPS, EEUDumpResPM, QHPM]\n",
    "file_dir = Path('/eos/project/m/ml-for-alarm-system/private/RB_signals')"
   ]
  },
  {
   "cell_type": "markdown",
   "id": "d38ea646",
   "metadata": {},
   "source": [
    "## Test query"
   ]
  },
  {
   "cell_type": "code",
   "execution_count": null,
   "id": "d2185d39",
   "metadata": {},
   "outputs": [],
   "source": [
    "# quench with precursor\n",
    "fpa_identifier = {'circuit_type': 'RB',\n",
    "                 'circuit_name': 'RB.A78',\n",
    "                 'timestamp_fgc': 1616962174400000000}"
   ]
  },
  {
   "cell_type": "code",
   "execution_count": null,
   "id": "27819830",
   "metadata": {},
   "outputs": [],
   "source": [
    "context_path = file_dir / \"context_test1\"\n",
    "\n",
    "for signal_group in signal_groups:\n",
    "    group = signal_group(**fpa_identifier, spark=spark)\n",
    "    acquisition_to_hdf5(acquisition=group, \n",
    "                        file_dir=file_dir, \n",
    "                        context_dir_name=\"context_test1\",\n",
    "                        failed_queries_dir_name=\"failed_test1\",\n",
    "                        data_dir_name=\"data_test1\")\n",
    "        \n",
    "log_acquisition(identifier=fpa_identifier, log_data={\"download_complete\": True}, log_path=context_path)"
   ]
  },
  {
   "cell_type": "markdown",
   "id": "70688c74",
   "metadata": {},
   "source": [
    "## Load data"
   ]
  },
  {
   "cell_type": "code",
   "execution_count": null,
   "id": "fe0bc150",
   "metadata": {},
   "outputs": [],
   "source": [
    "file_name = f\"{fpa_identifier['circuit_type']}_{fpa_identifier['circuit_name']}_{fpa_identifier['timestamp_fgc']}.hdf5\"\n",
    "file_path = file_dir / Path('data_test1') / file_name\n",
    "\n",
    "signals = ['I_MEAS','VoltageNQPS.*U_DIODE','VoltageNXCALS.*U_DIODE','I_EARTH_PCNT', 'IEARTH.I_EARTH','U_QS0','U_1','U_2','I_HDS', 'U_HDS','EEUDumpResPM']\n",
    "len(signals)"
   ]
  },
  {
   "cell_type": "code",
   "execution_count": null,
   "id": "5d1dc84d",
   "metadata": {},
   "outputs": [],
   "source": [
    "data = load_from_hdf_with_regex(file_path)"
   ]
  },
  {
   "cell_type": "code",
   "execution_count": null,
   "id": "f9225787",
   "metadata": {},
   "outputs": [],
   "source": [
    "plot_hdf(data, column_regex=signals)"
   ]
  },
  {
   "cell_type": "markdown",
   "id": "9b1bf5b8",
   "metadata": {},
   "source": [
    "## Query all FGC events"
   ]
  },
  {
   "cell_type": "code",
   "execution_count": null,
   "id": "cf70a41c",
   "metadata": {},
   "outputs": [],
   "source": [
    "# Time.to_string(1514761200000000000), Time.to_unix_timestamp('2018-01-01 00:00:00+01:00')\n",
    "mp3_fpa_df_period = mp3_fpa_df_unique[mp3_fpa_df_unique['timestamp_fgc'] >= 1609455600000000000].reset_index(drop=True) \n",
    "len(mp3_fpa_df_period)\n",
    "\n",
    "signals = ['I_MEAS','VoltageNQPS.*U_DIODE','VoltageNXCALS.*U_DIODE','I_EARTH_PCNT', 'IEARTH.I_EARTH','U_QS0','U_1','U_2','I_HDS', 'U_HDS','EEUDumpResPM']"
   ]
  },
  {
   "cell_type": "code",
   "execution_count": null,
   "id": "434809ed",
   "metadata": {
    "scrolled": false
   },
   "outputs": [],
   "source": [
    "for index, row in mp3_fpa_df_period.iterrows():\n",
    "    \n",
    "    fpa_identifier = {'circuit_type': row['Circuit Family'],\n",
    "                      'circuit_name': row['Circuit Name'],\n",
    "                      'timestamp_fgc': int(row['timestamp_fgc'])}\n",
    "    file_name = f\"{fpa_identifier['circuit_type']}_{fpa_identifier['circuit_name']}_{fpa_identifier['timestamp_fgc']}.hdf5\"\n",
    "    Path(file_dir / Path('20220707_plots')).mkdir(parents=True, exist_ok=True)\n",
    "    \n",
    "    if not os.path.isfile(str(file_dir / Path('20220707_plots') / f\"{fpa_identifier['circuit_type']}_{fpa_identifier['circuit_name']}_{fpa_identifier['timestamp_fgc']}.png\")):\n",
    "        for signal_group in signal_groups:\n",
    "            group = signal_group(**fpa_identifier, spark=spark)\n",
    "            acquisition_to_hdf5(acquisition=group, \n",
    "                                file_dir=file_dir,\n",
    "                                context_dir_name=\"20220707_context\",\n",
    "                                failed_queries_dir_name=\"20220707_failed\",\n",
    "                                data_dir_name=\"20220707_data\")\n",
    "\n",
    "        #log_acquisition(identifier=fpa_identifier, log_data={\"download_complete\": True}, log_path=context_path)\n",
    "\n",
    "        file_path = file_dir / Path('20220707_data') / file_name\n",
    "        data = load_from_hdf_with_regex(file_path)\n",
    "        fig = plt.figure(figsize=(20, 15))\n",
    "        for i, s in enumerate(signals):\n",
    "            fig.add_subplot(4, 3, i+1)\n",
    "            n_signals = 0\n",
    "            for df in data:\n",
    "                if bool(re.search(s, df.columns.values[0])):\n",
    "                    plt.plot(df.index.values, df.values)\n",
    "                    n_signals += 1\n",
    "            plt.title(f\"{s} ({n_signals})\")\n",
    "\n",
    "        plt.savefig(str(file_dir / Path('20220707_plots') / f\"{fpa_identifier['circuit_type']}_{fpa_identifier['circuit_name']}_{fpa_identifier['timestamp_fgc']}.png\"))\n",
    "        plt.close()\n",
    "    else:\n",
    "        print(f\"done: {file_name}\")"
   ]
  },
  {
   "cell_type": "code",
   "execution_count": null,
   "id": "04f3e7a5",
   "metadata": {},
   "outputs": [],
   "source": []
  }
 ],
 "metadata": {
  "kernelspec": {
   "display_name": "Python 3",
   "language": "python",
   "name": "python3"
  },
  "language_info": {
   "codemirror_mode": {
    "name": "ipython",
    "version": 3
   },
   "file_extension": ".py",
   "mimetype": "text/x-python",
   "name": "python",
   "nbconvert_exporter": "python",
   "pygments_lexer": "ipython3",
   "version": "3.8.6"
  },
  "sparkconnect": {
   "bundled_options": [
    "NXCALS",
    "SparkMetrics"
   ],
   "list_of_options": []
  }
 },
 "nbformat": 4,
 "nbformat_minor": 5
}
