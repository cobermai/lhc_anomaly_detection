{
 "cells": [
  {
   "cell_type": "markdown",
   "id": "de62fb17",
   "metadata": {},
   "source": [
    "# Import libraries"
   ]
  },
  {
   "cell_type": "code",
   "execution_count": 1,
   "id": "28e55775",
   "metadata": {},
   "outputs": [],
   "source": [
    "import sys\n",
    "from pathlib import Path\n",
    "sys.path.insert(0,'..')\n",
    "import glob\n",
    "#!pip install openpyxl"
   ]
  },
  {
   "cell_type": "code",
   "execution_count": 2,
   "id": "c7662299",
   "metadata": {},
   "outputs": [
    {
     "name": "stderr",
     "output_type": "stream",
     "text": [
      "`np.float` is a deprecated alias for the builtin `float`. To silence this warning, use `float` by itself. Doing this will not modify any behavior and is safe. If you specifically wanted the numpy scalar type, use `np.float64` here.\n",
      "Deprecated in NumPy 1.20; for more details and guidance: https://numpy.org/devdocs/release/1.20.0-notes.html#deprecations\n",
      "`np.float` is a deprecated alias for the builtin `float`. To silence this warning, use `float` by itself. Doing this will not modify any behavior and is safe. If you specifically wanted the numpy scalar type, use `np.float64` here.\n",
      "Deprecated in NumPy 1.20; for more details and guidance: https://numpy.org/devdocs/release/1.20.0-notes.html#deprecations\n",
      "`np.float` is a deprecated alias for the builtin `float`. To silence this warning, use `float` by itself. Doing this will not modify any behavior and is safe. If you specifically wanted the numpy scalar type, use `np.float64` here.\n",
      "Deprecated in NumPy 1.20; for more details and guidance: https://numpy.org/devdocs/release/1.20.0-notes.html#deprecations\n",
      "`np.float` is a deprecated alias for the builtin `float`. To silence this warning, use `float` by itself. Doing this will not modify any behavior and is safe. If you specifically wanted the numpy scalar type, use `np.float64` here.\n",
      "Deprecated in NumPy 1.20; for more details and guidance: https://numpy.org/devdocs/release/1.20.0-notes.html#deprecations\n",
      "`np.float` is a deprecated alias for the builtin `float`. To silence this warning, use `float` by itself. Doing this will not modify any behavior and is safe. If you specifically wanted the numpy scalar type, use `np.float64` here.\n",
      "Deprecated in NumPy 1.20; for more details and guidance: https://numpy.org/devdocs/release/1.20.0-notes.html#deprecations\n",
      "`np.float` is a deprecated alias for the builtin `float`. To silence this warning, use `float` by itself. Doing this will not modify any behavior and is safe. If you specifically wanted the numpy scalar type, use `np.float64` here.\n",
      "Deprecated in NumPy 1.20; for more details and guidance: https://numpy.org/devdocs/release/1.20.0-notes.html#deprecations\n",
      "`np.float` is a deprecated alias for the builtin `float`. To silence this warning, use `float` by itself. Doing this will not modify any behavior and is safe. If you specifically wanted the numpy scalar type, use `np.float64` here.\n",
      "Deprecated in NumPy 1.20; for more details and guidance: https://numpy.org/devdocs/release/1.20.0-notes.html#deprecations\n",
      "`np.float` is a deprecated alias for the builtin `float`. To silence this warning, use `float` by itself. Doing this will not modify any behavior and is safe. If you specifically wanted the numpy scalar type, use `np.float64` here.\n",
      "Deprecated in NumPy 1.20; for more details and guidance: https://numpy.org/devdocs/release/1.20.0-notes.html#deprecations\n",
      "`np.float` is a deprecated alias for the builtin `float`. To silence this warning, use `float` by itself. Doing this will not modify any behavior and is safe. If you specifically wanted the numpy scalar type, use `np.float64` here.\n",
      "Deprecated in NumPy 1.20; for more details and guidance: https://numpy.org/devdocs/release/1.20.0-notes.html#deprecations\n"
     ]
    }
   ],
   "source": [
    "import os\n",
    "import sys\n",
    "import pandas as pd\n",
    "import numpy as np\n",
    "import pickle\n",
    "import matplotlib.pyplot as plt\n",
    "import h5py\n",
    "import re\n",
    "\n",
    "from functools import partial\n",
    "from multiprocessing import Pool\n",
    "\n",
    "from lhcsmapi.Time import Time\n",
    "from lhcsmapi.metadata import signal_metadata\n",
    "from lhcsmapi.pyedsl.dbsignal.post_mortem.PmDbRequest import PmDbRequest\n",
    "from lhcsmapi.analysis.RbCircuitQuery import RbCircuitQuery\n",
    "\n",
    "from src.acquisitions.current_voltage_diode_leads_nxcals import CurrentVoltageDiodeLeadsNXCALS\n",
    "from src.acquisitions.current_voltage_diode_leads_pm import CurrentVoltageDiodeLeadsPM\n",
    "from src.acquisitions.ee_t_res_pm import EETResPM\n",
    "from src.acquisitions.ee_u_dump_res_pm import EEUDumpResPM\n",
    "from src.acquisitions.leads import Leads\n",
    "from src.acquisitions.pc_pm import PCPM\n",
    "from src.acquisitions.qh_pm import QHPM\n",
    "from src.acquisitions.voltage_logic_iqps import VoltageLogicIQPS\n",
    "from src.acquisitions.voltage_nqps import VoltageNQPS\n",
    "from src.acquisitions.voltage_nxcals import VoltageNXCALS\n",
    "\n",
    "from src.utils.utils import log_acquisition\n",
    "from src.utils.hdf_tools import acquisition_to_hdf5, load_from_hdf_with_regex\n",
    "from src.utils.mp3_excel_processing import get_fgc_timestamp, get_fgc_timestamp_missing\n",
    "from src.visualisation.visualisation import plot_hdf"
   ]
  },
  {
   "cell_type": "markdown",
   "id": "cd937e9f",
   "metadata": {},
   "source": [
    "# Select events to download"
   ]
  },
  {
   "cell_type": "code",
   "execution_count": 3,
   "id": "be19fc57",
   "metadata": {},
   "outputs": [],
   "source": [
    "mp3_fpa_df = pd.read_csv(\"../data/RB_TC_extract_2021_11_22_processed.csv\")\n",
    "mp3_fpa_df_unique = mp3_fpa_df.drop_duplicates(subset=['timestamp_fgc', 'Circuit Name'])"
   ]
  },
  {
   "cell_type": "code",
   "execution_count": 4,
   "id": "6524a86a",
   "metadata": {},
   "outputs": [
    {
     "data": {
      "text/plain": [
       "561"
      ]
     },
     "execution_count": 4,
     "metadata": {},
     "output_type": "execute_result"
    }
   ],
   "source": [
    "lower_limit = Time.to_unix_timestamp('2021-01-01 00:00:00+01:00')\n",
    "mp3_fpa_df_period = mp3_fpa_df_unique[mp3_fpa_df_unique['timestamp_fgc'] >= lower_limit].reset_index(drop=True) \n",
    "len(mp3_fpa_df_period)"
   ]
  },
  {
   "cell_type": "code",
   "execution_count": 5,
   "id": "3a4a09f6",
   "metadata": {},
   "outputs": [],
   "source": [
    "signal_groups = [PCPM, VoltageNXCALS, VoltageNQPS, VoltageLogicIQPS, EEUDumpResPM, QHPM]\n",
    "file_dir = Path('/eos/project/m/ml-for-alarm-system/private/RB_signals')"
   ]
  },
  {
   "cell_type": "markdown",
   "id": "d38ea646",
   "metadata": {},
   "source": [
    "## Test query"
   ]
  },
  {
   "cell_type": "code",
   "execution_count": 6,
   "id": "d2185d39",
   "metadata": {},
   "outputs": [],
   "source": [
    "# quench with precursor\n",
    "fpa_identifier = {'circuit_type': 'RB',\n",
    "                 'circuit_name': 'RB.A78',\n",
    "                 'timestamp_fgc': 1616962174400000000}\n",
    "\n",
    "# udiode not available\n",
    "fpa_identifier = {'circuit_type': 'RB',\n",
    "                 'circuit_name': 'RB.A45',\n",
    "                 'timestamp_fgc': 1619328389660000000}"
   ]
  },
  {
   "cell_type": "code",
   "execution_count": 7,
   "id": "27819830",
   "metadata": {},
   "outputs": [
    {
     "name": "stdout",
     "output_type": "stream",
     "text": [
      "\tQuerying PM event signal(s) STATUS.I_MEAS, IAB.I_A, IEARTH.I_EARTH, STATUS.I_EARTH_PCNT, STATUS.I_REF for system: FGC, className: lhc_self_pmd, source: RPTE.UA47.RB.A45 at 2021-04-25 07:26:29.660\n",
      "\tQuerying NXCALS signal(s) MB.A8R4:U_DIODE_RB, MB.B8R4:U_DIODE_RB, MB.A9R4:U_DIODE_RB, MB.B9R4:U_DIODE_RB, MB.A10R4:U_DIODE_RB... from 2021-04-25 07:25:39.660 to 2021-04-25 07:34:49.660\n",
      "\tQuerying NXCALS signal(s) MB.A8R4:U_EARTH_RB, MB.B8R4:U_EARTH_RB, MB.A11R4:U_EARTH_RB, MB.B10R4:U_EARTH_RB, MB.B13R4:U_EARTH_RB... from 2021-04-25 07:25:39.660 to 2021-04-25 07:34:49.660\n",
      "\tQuerying PM event timestamps for system: QPS, className: DQAMGNSRB_PMREL, source: * from 2021-04-25 07:26:19.660 to 2021-04-25 07:33:09.660\n",
      "\tQuerying PM event timestamps for system: QPS, className: DQAMCNMB_PMSTD, source: * from 2021-04-25 07:26:19.660 to 2021-04-25 07:26:39.660\n"
     ]
    },
    {
     "data": {
      "application/vnd.jupyter.widget-view+json": {
       "model_id": "9273e5f992604149bedd3cd6b7c8b5ed",
       "version_major": 2,
       "version_minor": 0
      },
      "text/plain": [
       "Querying PM:   0%|          | 0/2 [00:00<?, ?it/s]"
      ]
     },
     "metadata": {},
     "output_type": "display_data"
    },
    {
     "data": {
      "application/vnd.jupyter.widget-view+json": {
       "model_id": "d995f050aef44c77a079e6c3aded2a61",
       "version_major": 2,
       "version_minor": 0
      },
      "text/plain": [
       "Querying iQPS logic PM:   0%|          | 0/2 [00:00<?, ?it/s]"
      ]
     },
     "metadata": {},
     "output_type": "display_data"
    },
    {
     "name": "stdout",
     "output_type": "stream",
     "text": [
      "\tQuerying PM event timestamps for system: QPS, className: DQAMSNRB, source: RR53.RB.A45 from 2021-04-25 07:26:19.660 to 2021-04-25 07:43:09.660\n",
      "\tQuerying PM event timestamps for system: QPS, className: DQAMSNRB, source: UA47.RB.A45 from 2021-04-25 07:26:19.660 to 2021-04-25 07:43:09.660\n",
      "\tQuerying PM event signal(s) RR53.RB.A45:U_DUMP_RES for system: QPS, className: DQAMSNRB, source: RR53.RB.A45 at 2021-04-25 07:26:29.722\n",
      "\tQuerying PM event signal(s) UA47.RB.A45:U_DUMP_RES for system: QPS, className: DQAMSNRB, source: UA47.RB.A45 at 2021-04-25 07:26:30.214\n",
      "\tQuerying PM event timestamps for system: QPS, className: DQAMCNMB_PMHSU, source: * from 2021-04-25 07:26:19.660 to 2021-04-25 07:34:49.660\n"
     ]
    },
    {
     "data": {
      "application/vnd.jupyter.widget-view+json": {
       "model_id": "0b5178006d1a4e9d96e8d05ceb7b6f1f",
       "version_major": 2,
       "version_minor": 0
      },
      "text/plain": [
       "Querying PM:   0%|          | 0/3 [00:00<?, ?it/s]"
      ]
     },
     "metadata": {},
     "output_type": "display_data"
    }
   ],
   "source": [
    "context_path = file_dir / \"context_test1\"\n",
    "\n",
    "for signal_group in signal_groups:\n",
    "    group = signal_group(**fpa_identifier, spark=spark)\n",
    "    acquisition_to_hdf5(acquisition=group, \n",
    "                        file_dir=file_dir, \n",
    "                        context_dir_name=\"context_test1\",\n",
    "                        failed_queries_dir_name=\"failed_test1\",\n",
    "                        data_dir_name=\"data_test1\")\n",
    "        \n",
    "log_acquisition(identifier=fpa_identifier, log_data={\"download_complete\": True}, log_path=context_path)"
   ]
  },
  {
   "cell_type": "markdown",
   "id": "70688c74",
   "metadata": {},
   "source": [
    "## Load data"
   ]
  },
  {
   "cell_type": "code",
   "execution_count": 8,
   "id": "fe0bc150",
   "metadata": {},
   "outputs": [
    {
     "data": {
      "text/plain": [
       "11"
      ]
     },
     "execution_count": 8,
     "metadata": {},
     "output_type": "execute_result"
    }
   ],
   "source": [
    "file_name = f\"{fpa_identifier['circuit_type']}_{fpa_identifier['circuit_name']}_{fpa_identifier['timestamp_fgc']}.hdf5\"\n",
    "file_path = file_dir / Path('data_test1') / file_name\n",
    "\n",
    "signals = ['I_MEAS','VoltageNQPS.*U_DIODE','VoltageNXCALS.*U_DIODE','I_EARTH_PCNT', 'IEARTH.I_EARTH','U_QS0','U_1','U_2','I_HDS', 'U_HDS','EEUDumpResPM']\n",
    "len(signals)"
   ]
  },
  {
   "cell_type": "code",
   "execution_count": 9,
   "id": "5d1dc84d",
   "metadata": {},
   "outputs": [],
   "source": [
    "data = load_from_hdf_with_regex(file_path)"
   ]
  },
  {
   "cell_type": "code",
   "execution_count": 11,
   "id": "f9225787",
   "metadata": {},
   "outputs": [
    {
     "data": {
      "image/png": "[encoded data removed]",
      "text/plain": [
       "<Figure size 3168x216 with 11 Axes>"
      ]
     },
     "metadata": {
      "needs_background": "light"
     },
     "output_type": "display_data"
    }
   ],
   "source": [
    "plot_hdf(data, column_regex=signals)"
   ]
  },
  {
   "cell_type": "markdown",
   "id": "9b1bf5b8",
   "metadata": {},
   "source": [
    "## Query all FGC events"
   ]
  },
  {
   "cell_type": "code",
   "execution_count": 6,
   "id": "cf70a41c",
   "metadata": {},
   "outputs": [],
   "source": [
    "# Time.to_string(1514761200000000000), Time.to_unix_timestamp('2018-01-01 00:00:00+01:00')\n",
    "mp3_fpa_df_period = mp3_fpa_df_unique[mp3_fpa_df_unique['timestamp_fgc'] >= 1609455600000000000].reset_index(drop=True) \n",
    "len(mp3_fpa_df_period)\n",
    "\n",
    "signals = ['I_MEAS','VoltageNQPS.*U_DIODE','VoltageNXCALS.*U_DIODE','I_EARTH_PCNT', 'IEARTH.I_EARTH','U_QS0','U_1','U_2','I_HDS', 'U_HDS','EEUDumpResPM']"
   ]
  },
  {
   "cell_type": "code",
   "execution_count": 9,
   "id": "434809ed",
   "metadata": {
    "scrolled": false
   },
   "outputs": [
    {
     "name": "stdout",
     "output_type": "stream",
     "text": [
      "\tQuerying PM event signal(s) STATUS.I_MEAS, IAB.I_A, IEARTH.I_EARTH, STATUS.I_EARTH_PCNT, STATUS.I_REF for system: FGC, className: lhc_self_pmd, source: RPTE.UA83.RB.A78 at 2021-03-05 18:33:44.460\n",
      "\tQuerying NXCALS signal(s) MB.A8R7:U_DIODE_RB, MB.B8R7:U_DIODE_RB, MB.A9R7:U_DIODE_RB, MB.B9R7:U_DIODE_RB, MB.A10R7:U_DIODE_RB... from 2021-03-05 18:32:54.460 to 2021-03-05 18:42:04.460\n",
      "\tQuerying NXCALS signal(s) DFLAS.7R7.2:U_EARTH_RB, MB.B9R7:U_EARTH_RB, MB.A9R7:U_EARTH_RB, MB.B12R7:U_EARTH_RB, MB.A12R7:U_EARTH_RB... from 2021-03-05 18:32:54.460 to 2021-03-05 18:42:04.460\n",
      "\tQuerying PM event timestamps for system: QPS, className: DQAMGNSRB_PMREL, source: * from 2021-03-05 18:33:34.460 to 2021-03-05 18:40:24.460\n",
      "\tQuerying PM event timestamps for system: QPS, className: DQAMCNMB_PMSTD, source: * from 2021-03-05 18:33:34.460 to 2021-03-05 18:33:54.460\n"
     ]
    },
    {
     "name": "stderr",
     "output_type": "stream",
     "text": [
      "Post Mortem returned no data for the following query: http://pm-rest.cern.ch/v2//pmdata/header/within/duration?system=QPS&className=DQAMGNSRB_PMREL&source=*&fromTimestampInNanos=1614965614460000000&durationInNanos=410000000000\n",
      "Some nQPS PM buffers missing. ['B8R7', 'B9R7', 'B10R7', 'B11R7', 'B12R7', 'B13R7', 'B14R7', 'B15R7', 'B16R7', 'B17R7', 'B18R7', 'B19R7', 'B20R7', 'B21R7', 'B22R7', 'B23R7', 'B24R7', 'B25R7', 'B26R7', 'B27R7', 'B28R7', 'B29R7', 'B30R7', 'B31R7', 'B32R7', 'B33R7', 'B34R7', 'B34L8', 'B33L8', 'B32L8', 'B31L8', 'B30L8', 'B29L8', 'B28L8', 'B27L8', 'B26L8', 'B25L8', 'B24L8', 'B23L8', 'B22L8', 'B21L8', 'B20L8', 'B19L8', 'B18L8', 'B17L8', 'B16L8', 'B15L8', 'B14L8', 'B13L8', 'B12L8', 'B11L8', 'B10L8', 'B9L8', 'B8L8'] not found for RB.A78 within [(10, 's'), (400, 's')] around 1614965624460000000.\n"
     ]
    },
    {
     "data": {
      "application/vnd.jupyter.widget-view+json": {
       "model_id": "32ae446edd654122b70c9ff7d53b7314",
       "version_major": 2,
       "version_minor": 0
      },
      "text/plain": [
       "Querying PM:   0%|          | 0/2 [00:00<?, ?it/s]"
      ]
     },
     "metadata": {},
     "output_type": "display_data"
    },
    {
     "data": {
      "application/vnd.jupyter.widget-view+json": {
       "model_id": "5fad5c8821a1432a9b6a0ab8d0490a2a",
       "version_major": 2,
       "version_minor": 0
      },
      "text/plain": [
       "Querying iQPS logic PM:   0%|          | 0/2 [00:00<?, ?it/s]"
      ]
     },
     "metadata": {},
     "output_type": "display_data"
    },
    {
     "name": "stdout",
     "output_type": "stream",
     "text": [
      "\tQuerying PM event timestamps for system: QPS, className: DQAMSNRB, source: RR77.RB.A78 from 2021-03-05 18:33:34.460 to 2021-03-05 18:50:24.460\n",
      "\tQuerying PM event timestamps for system: QPS, className: DQAMSNRB, source: UA83.RB.A78 from 2021-03-05 18:33:34.460 to 2021-03-05 18:50:24.460\n",
      "\tQuerying PM event signal(s) RR77.RB.A78:U_DUMP_RES for system: QPS, className: DQAMSNRB, source: RR77.RB.A78 at 2021-03-05 18:33:44.523\n",
      "\tQuerying PM event signal(s) UA83.RB.A78:U_DUMP_RES for system: QPS, className: DQAMSNRB, source: UA83.RB.A78 at 2021-03-05 18:33:45.018\n",
      "\tQuerying PM event timestamps for system: QPS, className: DQAMCNMB_PMHSU, source: * from 2021-03-05 18:33:34.460 to 2021-03-05 18:42:04.460\n"
     ]
    },
    {
     "data": {
      "application/vnd.jupyter.widget-view+json": {
       "model_id": "b7a2372e73c942d09cf241984a403e64",
       "version_major": 2,
       "version_minor": 0
      },
      "text/plain": [
       "Querying PM:   0%|          | 0/1 [00:00<?, ?it/s]"
      ]
     },
     "metadata": {},
     "output_type": "display_data"
    },
    {
     "name": "stderr",
     "output_type": "stream",
     "text": [
      "\n",
      "A value is trying to be set on a copy of a slice from a DataFrame\n",
      "\n",
      "See the caveats in the documentation: https://pandas.pydata.org/pandas-docs/stable/user_guide/indexing.html#returning-a-view-versus-a-copy\n",
      "\n",
      "A value is trying to be set on a copy of a slice from a DataFrame\n",
      "\n",
      "See the caveats in the documentation: https://pandas.pydata.org/pandas-docs/stable/user_guide/indexing.html#returning-a-view-versus-a-copy\n",
      "\n",
      "A value is trying to be set on a copy of a slice from a DataFrame\n",
      "\n",
      "See the caveats in the documentation: https://pandas.pydata.org/pandas-docs/stable/user_guide/indexing.html#returning-a-view-versus-a-copy\n",
      "\n",
      "A value is trying to be set on a copy of a slice from a DataFrame\n",
      "\n",
      "See the caveats in the documentation: https://pandas.pydata.org/pandas-docs/stable/user_guide/indexing.html#returning-a-view-versus-a-copy\n",
      "\n",
      "A value is trying to be set on a copy of a slice from a DataFrame\n",
      "\n",
      "See the caveats in the documentation: https://pandas.pydata.org/pandas-docs/stable/user_guide/indexing.html#returning-a-view-versus-a-copy\n",
      "\n",
      "A value is trying to be set on a copy of a slice from a DataFrame\n",
      "\n",
      "See the caveats in the documentation: https://pandas.pydata.org/pandas-docs/stable/user_guide/indexing.html#returning-a-view-versus-a-copy\n",
      "\n",
      "A value is trying to be set on a copy of a slice from a DataFrame\n",
      "\n",
      "See the caveats in the documentation: https://pandas.pydata.org/pandas-docs/stable/user_guide/indexing.html#returning-a-view-versus-a-copy\n",
      "\n",
      "A value is trying to be set on a copy of a slice from a DataFrame\n",
      "\n",
      "See the caveats in the documentation: https://pandas.pydata.org/pandas-docs/stable/user_guide/indexing.html#returning-a-view-versus-a-copy\n"
     ]
    },
    {
     "name": "stdout",
     "output_type": "stream",
     "text": [
      "\tQuerying PM event signal(s) STATUS.I_MEAS, IAB.I_A, IEARTH.I_EARTH, STATUS.I_EARTH_PCNT, STATUS.I_REF for system: FGC, className: lhc_self_pmd, source: RPTE.UA83.RB.A78 at 2021-03-08 08:50:48.140\n",
      "\tQuerying NXCALS signal(s) MB.A8R7:U_DIODE_RB, MB.B8R7:U_DIODE_RB, MB.A9R7:U_DIODE_RB, MB.B9R7:U_DIODE_RB, MB.A10R7:U_DIODE_RB... from 2021-03-08 08:49:58.140 to 2021-03-08 08:59:08.140\n",
      "\tQuerying NXCALS signal(s) DFLAS.7R7.2:U_EARTH_RB, MB.B9R7:U_EARTH_RB, MB.A9R7:U_EARTH_RB, MB.B12R7:U_EARTH_RB, MB.A12R7:U_EARTH_RB... from 2021-03-08 08:49:58.140 to 2021-03-08 08:59:08.140\n",
      "\tQuerying PM event timestamps for system: QPS, className: DQAMGNSRB_PMREL, source: * from 2021-03-08 08:50:38.140 to 2021-03-08 08:57:28.140\n",
      "\tQuerying PM event timestamps for system: QPS, className: DQAMCNMB_PMSTD, source: * from 2021-03-08 08:50:38.140 to 2021-03-08 08:50:58.140\n"
     ]
    },
    {
     "data": {
      "application/vnd.jupyter.widget-view+json": {
       "model_id": "479d51691a2844b7b66ccf6b7c111af2",
       "version_major": 2,
       "version_minor": 0
      },
      "text/plain": [
       "Querying PM:   0%|          | 0/2 [00:00<?, ?it/s]"
      ]
     },
     "metadata": {},
     "output_type": "display_data"
    },
    {
     "data": {
      "application/vnd.jupyter.widget-view+json": {
       "model_id": "9948e14c79e14f949e122aeb4cd38137",
       "version_major": 2,
       "version_minor": 0
      },
      "text/plain": [
       "Querying iQPS logic PM:   0%|          | 0/2 [00:00<?, ?it/s]"
      ]
     },
     "metadata": {},
     "output_type": "display_data"
    },
    {
     "name": "stdout",
     "output_type": "stream",
     "text": [
      "\tQuerying PM event timestamps for system: QPS, className: DQAMSNRB, source: RR77.RB.A78 from 2021-03-08 08:50:38.140 to 2021-03-08 09:07:28.140\n",
      "\tQuerying PM event timestamps for system: QPS, className: DQAMSNRB, source: UA83.RB.A78 from 2021-03-08 08:50:38.140 to 2021-03-08 09:07:28.140\n",
      "\tQuerying PM event signal(s) RR77.RB.A78:U_DUMP_RES for system: QPS, className: DQAMSNRB, source: RR77.RB.A78 at 2021-03-08 08:50:48.212\n",
      "\tQuerying PM event signal(s) UA83.RB.A78:U_DUMP_RES for system: QPS, className: DQAMSNRB, source: UA83.RB.A78 at 2021-03-08 08:50:48.711\n",
      "\tQuerying PM event timestamps for system: QPS, className: DQAMCNMB_PMHSU, source: * from 2021-03-08 08:50:38.140 to 2021-03-08 08:59:08.140\n"
     ]
    },
    {
     "data": {
      "application/vnd.jupyter.widget-view+json": {
       "model_id": "8597c856a395484a89e7dc5f049b9e88",
       "version_major": 2,
       "version_minor": 0
      },
      "text/plain": [
       "Querying PM:   0%|          | 0/1 [00:00<?, ?it/s]"
      ]
     },
     "metadata": {},
     "output_type": "display_data"
    },
    {
     "name": "stderr",
     "output_type": "stream",
     "text": [
      "\n",
      "A value is trying to be set on a copy of a slice from a DataFrame\n",
      "\n",
      "See the caveats in the documentation: https://pandas.pydata.org/pandas-docs/stable/user_guide/indexing.html#returning-a-view-versus-a-copy\n",
      "\n",
      "A value is trying to be set on a copy of a slice from a DataFrame\n",
      "\n",
      "See the caveats in the documentation: https://pandas.pydata.org/pandas-docs/stable/user_guide/indexing.html#returning-a-view-versus-a-copy\n",
      "\n",
      "A value is trying to be set on a copy of a slice from a DataFrame\n",
      "\n",
      "See the caveats in the documentation: https://pandas.pydata.org/pandas-docs/stable/user_guide/indexing.html#returning-a-view-versus-a-copy\n",
      "\n",
      "A value is trying to be set on a copy of a slice from a DataFrame\n",
      "\n",
      "See the caveats in the documentation: https://pandas.pydata.org/pandas-docs/stable/user_guide/indexing.html#returning-a-view-versus-a-copy\n",
      "\n",
      "A value is trying to be set on a copy of a slice from a DataFrame\n",
      "\n",
      "See the caveats in the documentation: https://pandas.pydata.org/pandas-docs/stable/user_guide/indexing.html#returning-a-view-versus-a-copy\n",
      "\n",
      "A value is trying to be set on a copy of a slice from a DataFrame\n",
      "\n",
      "See the caveats in the documentation: https://pandas.pydata.org/pandas-docs/stable/user_guide/indexing.html#returning-a-view-versus-a-copy\n",
      "\n",
      "A value is trying to be set on a copy of a slice from a DataFrame\n",
      "\n",
      "See the caveats in the documentation: https://pandas.pydata.org/pandas-docs/stable/user_guide/indexing.html#returning-a-view-versus-a-copy\n",
      "\n",
      "A value is trying to be set on a copy of a slice from a DataFrame\n",
      "\n",
      "See the caveats in the documentation: https://pandas.pydata.org/pandas-docs/stable/user_guide/indexing.html#returning-a-view-versus-a-copy\n"
     ]
    },
    {
     "name": "stdout",
     "output_type": "stream",
     "text": [
      "\tQuerying PM event signal(s) STATUS.I_MEAS, IAB.I_A, IEARTH.I_EARTH, STATUS.I_EARTH_PCNT, STATUS.I_REF for system: FGC, className: lhc_self_pmd, source: RPTE.UA83.RB.A78 at 2021-03-08 14:39:07.420\n",
      "\tQuerying NXCALS signal(s) MB.A8R7:U_DIODE_RB, MB.B8R7:U_DIODE_RB, MB.A9R7:U_DIODE_RB, MB.B9R7:U_DIODE_RB, MB.A10R7:U_DIODE_RB... from 2021-03-08 14:38:17.420 to 2021-03-08 14:47:27.420\n",
      "\tQuerying NXCALS signal(s) DFLAS.7R7.2:U_EARTH_RB, MB.B9R7:U_EARTH_RB, MB.A9R7:U_EARTH_RB, MB.B12R7:U_EARTH_RB, MB.A12R7:U_EARTH_RB... from 2021-03-08 14:38:17.420 to 2021-03-08 14:47:27.420\n",
      "\tQuerying PM event timestamps for system: QPS, className: DQAMGNSRB_PMREL, source: * from 2021-03-08 14:38:57.420 to 2021-03-08 14:45:47.420\n",
      "\tQuerying PM event timestamps for system: QPS, className: DQAMCNMB_PMSTD, source: * from 2021-03-08 14:38:57.420 to 2021-03-08 14:39:17.420\n"
     ]
    },
    {
     "data": {
      "application/vnd.jupyter.widget-view+json": {
       "model_id": "b8bf61aec0bd4859985ad3a7a22bdd91",
       "version_major": 2,
       "version_minor": 0
      },
      "text/plain": [
       "Querying PM:   0%|          | 0/2 [00:00<?, ?it/s]"
      ]
     },
     "metadata": {},
     "output_type": "display_data"
    },
    {
     "data": {
      "application/vnd.jupyter.widget-view+json": {
       "model_id": "89b8a9448e2549cb91a3e964ad2e9360",
       "version_major": 2,
       "version_minor": 0
      },
      "text/plain": [
       "Querying iQPS logic PM:   0%|          | 0/2 [00:00<?, ?it/s]"
      ]
     },
     "metadata": {},
     "output_type": "display_data"
    },
    {
     "name": "stdout",
     "output_type": "stream",
     "text": [
      "\tQuerying PM event timestamps for system: QPS, className: DQAMSNRB, source: RR77.RB.A78 from 2021-03-08 14:38:57.420 to 2021-03-08 14:55:47.420\n",
      "\tQuerying PM event timestamps for system: QPS, className: DQAMSNRB, source: UA83.RB.A78 from 2021-03-08 14:38:57.420 to 2021-03-08 14:55:47.420\n",
      "\tQuerying PM event signal(s) RR77.RB.A78:U_DUMP_RES for system: QPS, className: DQAMSNRB, source: RR77.RB.A78 at 2021-03-08 14:39:07.494\n",
      "\tQuerying PM event signal(s) UA83.RB.A78:U_DUMP_RES for system: QPS, className: DQAMSNRB, source: UA83.RB.A78 at 2021-03-08 14:39:07.993\n",
      "\tQuerying PM event timestamps for system: QPS, className: DQAMCNMB_PMHSU, source: * from 2021-03-08 14:38:57.420 to 2021-03-08 14:47:27.420\n"
     ]
    },
    {
     "data": {
      "application/vnd.jupyter.widget-view+json": {
       "model_id": "cad39f8620dd4d61bc2b4ff19966fc3e",
       "version_major": 2,
       "version_minor": 0
      },
      "text/plain": [
       "Querying PM:   0%|          | 0/4 [00:00<?, ?it/s]"
      ]
     },
     "metadata": {},
     "output_type": "display_data"
    },
    {
     "name": "stderr",
     "output_type": "stream",
     "text": [
      "\n",
      "A value is trying to be set on a copy of a slice from a DataFrame\n",
      "\n",
      "See the caveats in the documentation: https://pandas.pydata.org/pandas-docs/stable/user_guide/indexing.html#returning-a-view-versus-a-copy\n",
      "\n",
      "A value is trying to be set on a copy of a slice from a DataFrame\n",
      "\n",
      "See the caveats in the documentation: https://pandas.pydata.org/pandas-docs/stable/user_guide/indexing.html#returning-a-view-versus-a-copy\n",
      "\n",
      "A value is trying to be set on a copy of a slice from a DataFrame\n",
      "\n",
      "See the caveats in the documentation: https://pandas.pydata.org/pandas-docs/stable/user_guide/indexing.html#returning-a-view-versus-a-copy\n",
      "\n",
      "A value is trying to be set on a copy of a slice from a DataFrame\n",
      "\n",
      "See the caveats in the documentation: https://pandas.pydata.org/pandas-docs/stable/user_guide/indexing.html#returning-a-view-versus-a-copy\n",
      "\n",
      "A value is trying to be set on a copy of a slice from a DataFrame\n",
      "\n",
      "See the caveats in the documentation: https://pandas.pydata.org/pandas-docs/stable/user_guide/indexing.html#returning-a-view-versus-a-copy\n",
      "\n",
      "A value is trying to be set on a copy of a slice from a DataFrame\n",
      "\n",
      "See the caveats in the documentation: https://pandas.pydata.org/pandas-docs/stable/user_guide/indexing.html#returning-a-view-versus-a-copy\n",
      "\n",
      "A value is trying to be set on a copy of a slice from a DataFrame\n",
      "\n",
      "See the caveats in the documentation: https://pandas.pydata.org/pandas-docs/stable/user_guide/indexing.html#returning-a-view-versus-a-copy\n",
      "\n",
      "A value is trying to be set on a copy of a slice from a DataFrame\n",
      "\n",
      "See the caveats in the documentation: https://pandas.pydata.org/pandas-docs/stable/user_guide/indexing.html#returning-a-view-versus-a-copy\n",
      "\n",
      "A value is trying to be set on a copy of a slice from a DataFrame\n",
      "\n",
      "See the caveats in the documentation: https://pandas.pydata.org/pandas-docs/stable/user_guide/indexing.html#returning-a-view-versus-a-copy\n",
      "\n",
      "A value is trying to be set on a copy of a slice from a DataFrame\n",
      "\n",
      "See the caveats in the documentation: https://pandas.pydata.org/pandas-docs/stable/user_guide/indexing.html#returning-a-view-versus-a-copy\n",
      "\n",
      "A value is trying to be set on a copy of a slice from a DataFrame\n",
      "\n",
      "See the caveats in the documentation: https://pandas.pydata.org/pandas-docs/stable/user_guide/indexing.html#returning-a-view-versus-a-copy\n",
      "\n",
      "A value is trying to be set on a copy of a slice from a DataFrame\n",
      "\n",
      "See the caveats in the documentation: https://pandas.pydata.org/pandas-docs/stable/user_guide/indexing.html#returning-a-view-versus-a-copy\n",
      "\n",
      "A value is trying to be set on a copy of a slice from a DataFrame\n",
      "\n",
      "See the caveats in the documentation: https://pandas.pydata.org/pandas-docs/stable/user_guide/indexing.html#returning-a-view-versus-a-copy\n",
      "\n",
      "A value is trying to be set on a copy of a slice from a DataFrame\n",
      "\n",
      "See the caveats in the documentation: https://pandas.pydata.org/pandas-docs/stable/user_guide/indexing.html#returning-a-view-versus-a-copy\n",
      "\n",
      "A value is trying to be set on a copy of a slice from a DataFrame\n",
      "\n",
      "See the caveats in the documentation: https://pandas.pydata.org/pandas-docs/stable/user_guide/indexing.html#returning-a-view-versus-a-copy\n",
      "\n",
      "A value is trying to be set on a copy of a slice from a DataFrame\n",
      "\n",
      "See the caveats in the documentation: https://pandas.pydata.org/pandas-docs/stable/user_guide/indexing.html#returning-a-view-versus-a-copy\n",
      "\n",
      "A value is trying to be set on a copy of a slice from a DataFrame\n",
      "\n",
      "See the caveats in the documentation: https://pandas.pydata.org/pandas-docs/stable/user_guide/indexing.html#returning-a-view-versus-a-copy\n",
      "\n",
      "A value is trying to be set on a copy of a slice from a DataFrame\n",
      "\n",
      "See the caveats in the documentation: https://pandas.pydata.org/pandas-docs/stable/user_guide/indexing.html#returning-a-view-versus-a-copy\n",
      "\n",
      "A value is trying to be set on a copy of a slice from a DataFrame\n",
      "\n",
      "See the caveats in the documentation: https://pandas.pydata.org/pandas-docs/stable/user_guide/indexing.html#returning-a-view-versus-a-copy\n",
      "\n",
      "A value is trying to be set on a copy of a slice from a DataFrame\n",
      "\n",
      "See the caveats in the documentation: https://pandas.pydata.org/pandas-docs/stable/user_guide/indexing.html#returning-a-view-versus-a-copy\n",
      "\n",
      "A value is trying to be set on a copy of a slice from a DataFrame\n",
      "\n",
      "See the caveats in the documentation: https://pandas.pydata.org/pandas-docs/stable/user_guide/indexing.html#returning-a-view-versus-a-copy\n",
      "\n",
      "A value is trying to be set on a copy of a slice from a DataFrame\n",
      "\n",
      "See the caveats in the documentation: https://pandas.pydata.org/pandas-docs/stable/user_guide/indexing.html#returning-a-view-versus-a-copy\n",
      "\n",
      "A value is trying to be set on a copy of a slice from a DataFrame\n",
      "\n",
      "See the caveats in the documentation: https://pandas.pydata.org/pandas-docs/stable/user_guide/indexing.html#returning-a-view-versus-a-copy\n",
      "\n",
      "A value is trying to be set on a copy of a slice from a DataFrame\n",
      "\n",
      "See the caveats in the documentation: https://pandas.pydata.org/pandas-docs/stable/user_guide/indexing.html#returning-a-view-versus-a-copy\n"
     ]
    },
    {
     "name": "stdout",
     "output_type": "stream",
     "text": [
      "\tQuerying PM event signal(s) STATUS.I_MEAS, IAB.I_A, IEARTH.I_EARTH, STATUS.I_EARTH_PCNT, STATUS.I_REF for system: FGC, className: lhc_self_pmd, source: RPTE.UA83.RB.A78 at 2021-03-09 07:39:33.700\n",
      "\tQuerying NXCALS signal(s) MB.A8R7:U_DIODE_RB, MB.B8R7:U_DIODE_RB, MB.A9R7:U_DIODE_RB, MB.B9R7:U_DIODE_RB, MB.A10R7:U_DIODE_RB... from 2021-03-09 07:38:43.700 to 2021-03-09 07:47:53.700\n",
      "\tQuerying NXCALS signal(s) DFLAS.7R7.2:U_EARTH_RB, MB.B9R7:U_EARTH_RB, MB.A9R7:U_EARTH_RB, MB.B12R7:U_EARTH_RB, MB.A12R7:U_EARTH_RB... from 2021-03-09 07:38:43.700 to 2021-03-09 07:47:53.700\n",
      "\tQuerying PM event timestamps for system: QPS, className: DQAMGNSRB_PMREL, source: * from 2021-03-09 07:39:23.700 to 2021-03-09 07:46:13.700\n",
      "\tQuerying PM event timestamps for system: QPS, className: DQAMCNMB_PMSTD, source: * from 2021-03-09 07:39:23.700 to 2021-03-09 07:39:43.700\n"
     ]
    },
    {
     "data": {
      "application/vnd.jupyter.widget-view+json": {
       "model_id": "7c36eac0b56744bd85c8abcce1144680",
       "version_major": 2,
       "version_minor": 0
      },
      "text/plain": [
       "Querying PM:   0%|          | 0/2 [00:00<?, ?it/s]"
      ]
     },
     "metadata": {},
     "output_type": "display_data"
    },
    {
     "data": {
      "application/vnd.jupyter.widget-view+json": {
       "model_id": "7ddd91a9525e48b8b189cc2b3da705d2",
       "version_major": 2,
       "version_minor": 0
      },
      "text/plain": [
       "Querying iQPS logic PM:   0%|          | 0/2 [00:00<?, ?it/s]"
      ]
     },
     "metadata": {},
     "output_type": "display_data"
    },
    {
     "name": "stdout",
     "output_type": "stream",
     "text": [
      "\tQuerying PM event timestamps for system: QPS, className: DQAMSNRB, source: RR77.RB.A78 from 2021-03-09 07:39:23.700 to 2021-03-09 07:56:13.700\n",
      "\tQuerying PM event timestamps for system: QPS, className: DQAMSNRB, source: UA83.RB.A78 from 2021-03-09 07:39:23.700 to 2021-03-09 07:56:13.700\n",
      "\tQuerying PM event signal(s) RR77.RB.A78:U_DUMP_RES for system: QPS, className: DQAMSNRB, source: RR77.RB.A78 at 2021-03-09 07:39:33.773\n",
      "\tQuerying PM event signal(s) UA83.RB.A78:U_DUMP_RES for system: QPS, className: DQAMSNRB, source: UA83.RB.A78 at 2021-03-09 07:39:34.268\n",
      "\tQuerying PM event timestamps for system: QPS, className: DQAMCNMB_PMHSU, source: * from 2021-03-09 07:39:23.700 to 2021-03-09 07:47:53.700\n"
     ]
    },
    {
     "data": {
      "application/vnd.jupyter.widget-view+json": {
       "model_id": "2a05ca616cd340558c4a36098ee23fbc",
       "version_major": 2,
       "version_minor": 0
      },
      "text/plain": [
       "Querying PM:   0%|          | 0/4 [00:00<?, ?it/s]"
      ]
     },
     "metadata": {},
     "output_type": "display_data"
    },
    {
     "name": "stderr",
     "output_type": "stream",
     "text": [
      "\n",
      "A value is trying to be set on a copy of a slice from a DataFrame\n",
      "\n",
      "See the caveats in the documentation: https://pandas.pydata.org/pandas-docs/stable/user_guide/indexing.html#returning-a-view-versus-a-copy\n",
      "\n",
      "A value is trying to be set on a copy of a slice from a DataFrame\n",
      "\n",
      "See the caveats in the documentation: https://pandas.pydata.org/pandas-docs/stable/user_guide/indexing.html#returning-a-view-versus-a-copy\n",
      "\n",
      "A value is trying to be set on a copy of a slice from a DataFrame\n",
      "\n",
      "See the caveats in the documentation: https://pandas.pydata.org/pandas-docs/stable/user_guide/indexing.html#returning-a-view-versus-a-copy\n",
      "\n",
      "A value is trying to be set on a copy of a slice from a DataFrame\n",
      "\n",
      "See the caveats in the documentation: https://pandas.pydata.org/pandas-docs/stable/user_guide/indexing.html#returning-a-view-versus-a-copy\n",
      "\n",
      "A value is trying to be set on a copy of a slice from a DataFrame\n",
      "\n",
      "See the caveats in the documentation: https://pandas.pydata.org/pandas-docs/stable/user_guide/indexing.html#returning-a-view-versus-a-copy\n",
      "\n",
      "A value is trying to be set on a copy of a slice from a DataFrame\n",
      "\n",
      "See the caveats in the documentation: https://pandas.pydata.org/pandas-docs/stable/user_guide/indexing.html#returning-a-view-versus-a-copy\n",
      "\n",
      "A value is trying to be set on a copy of a slice from a DataFrame\n",
      "\n",
      "See the caveats in the documentation: https://pandas.pydata.org/pandas-docs/stable/user_guide/indexing.html#returning-a-view-versus-a-copy\n",
      "\n",
      "A value is trying to be set on a copy of a slice from a DataFrame\n",
      "\n",
      "See the caveats in the documentation: https://pandas.pydata.org/pandas-docs/stable/user_guide/indexing.html#returning-a-view-versus-a-copy\n",
      "\n",
      "A value is trying to be set on a copy of a slice from a DataFrame\n",
      "\n",
      "See the caveats in the documentation: https://pandas.pydata.org/pandas-docs/stable/user_guide/indexing.html#returning-a-view-versus-a-copy\n",
      "\n",
      "A value is trying to be set on a copy of a slice from a DataFrame\n",
      "\n",
      "See the caveats in the documentation: https://pandas.pydata.org/pandas-docs/stable/user_guide/indexing.html#returning-a-view-versus-a-copy\n",
      "\n",
      "A value is trying to be set on a copy of a slice from a DataFrame\n",
      "\n",
      "See the caveats in the documentation: https://pandas.pydata.org/pandas-docs/stable/user_guide/indexing.html#returning-a-view-versus-a-copy\n",
      "\n",
      "A value is trying to be set on a copy of a slice from a DataFrame\n",
      "\n",
      "See the caveats in the documentation: https://pandas.pydata.org/pandas-docs/stable/user_guide/indexing.html#returning-a-view-versus-a-copy\n",
      "\n",
      "A value is trying to be set on a copy of a slice from a DataFrame\n",
      "\n",
      "See the caveats in the documentation: https://pandas.pydata.org/pandas-docs/stable/user_guide/indexing.html#returning-a-view-versus-a-copy\n",
      "\n",
      "A value is trying to be set on a copy of a slice from a DataFrame\n",
      "\n",
      "See the caveats in the documentation: https://pandas.pydata.org/pandas-docs/stable/user_guide/indexing.html#returning-a-view-versus-a-copy\n",
      "\n",
      "A value is trying to be set on a copy of a slice from a DataFrame\n",
      "\n",
      "See the caveats in the documentation: https://pandas.pydata.org/pandas-docs/stable/user_guide/indexing.html#returning-a-view-versus-a-copy\n",
      "\n",
      "A value is trying to be set on a copy of a slice from a DataFrame\n",
      "\n",
      "See the caveats in the documentation: https://pandas.pydata.org/pandas-docs/stable/user_guide/indexing.html#returning-a-view-versus-a-copy\n",
      "\n",
      "A value is trying to be set on a copy of a slice from a DataFrame\n",
      "\n",
      "See the caveats in the documentation: https://pandas.pydata.org/pandas-docs/stable/user_guide/indexing.html#returning-a-view-versus-a-copy\n",
      "\n",
      "A value is trying to be set on a copy of a slice from a DataFrame\n",
      "\n",
      "See the caveats in the documentation: https://pandas.pydata.org/pandas-docs/stable/user_guide/indexing.html#returning-a-view-versus-a-copy\n",
      "\n",
      "A value is trying to be set on a copy of a slice from a DataFrame\n",
      "\n",
      "See the caveats in the documentation: https://pandas.pydata.org/pandas-docs/stable/user_guide/indexing.html#returning-a-view-versus-a-copy\n",
      "\n",
      "A value is trying to be set on a copy of a slice from a DataFrame\n",
      "\n",
      "See the caveats in the documentation: https://pandas.pydata.org/pandas-docs/stable/user_guide/indexing.html#returning-a-view-versus-a-copy\n",
      "\n",
      "A value is trying to be set on a copy of a slice from a DataFrame\n",
      "\n",
      "See the caveats in the documentation: https://pandas.pydata.org/pandas-docs/stable/user_guide/indexing.html#returning-a-view-versus-a-copy\n",
      "\n",
      "A value is trying to be set on a copy of a slice from a DataFrame\n",
      "\n",
      "See the caveats in the documentation: https://pandas.pydata.org/pandas-docs/stable/user_guide/indexing.html#returning-a-view-versus-a-copy\n",
      "\n",
      "A value is trying to be set on a copy of a slice from a DataFrame\n",
      "\n",
      "See the caveats in the documentation: https://pandas.pydata.org/pandas-docs/stable/user_guide/indexing.html#returning-a-view-versus-a-copy\n",
      "\n",
      "A value is trying to be set on a copy of a slice from a DataFrame\n",
      "\n",
      "See the caveats in the documentation: https://pandas.pydata.org/pandas-docs/stable/user_guide/indexing.html#returning-a-view-versus-a-copy\n",
      "\n",
      "A value is trying to be set on a copy of a slice from a DataFrame\n",
      "\n",
      "See the caveats in the documentation: https://pandas.pydata.org/pandas-docs/stable/user_guide/indexing.html#returning-a-view-versus-a-copy\n",
      "\n",
      "A value is trying to be set on a copy of a slice from a DataFrame\n",
      "\n",
      "See the caveats in the documentation: https://pandas.pydata.org/pandas-docs/stable/user_guide/indexing.html#returning-a-view-versus-a-copy\n",
      "\n",
      "A value is trying to be set on a copy of a slice from a DataFrame\n",
      "\n",
      "See the caveats in the documentation: https://pandas.pydata.org/pandas-docs/stable/user_guide/indexing.html#returning-a-view-versus-a-copy\n",
      "\n",
      "A value is trying to be set on a copy of a slice from a DataFrame\n",
      "\n",
      "See the caveats in the documentation: https://pandas.pydata.org/pandas-docs/stable/user_guide/indexing.html#returning-a-view-versus-a-copy\n",
      "\n",
      "A value is trying to be set on a copy of a slice from a DataFrame\n",
      "\n",
      "See the caveats in the documentation: https://pandas.pydata.org/pandas-docs/stable/user_guide/indexing.html#returning-a-view-versus-a-copy\n",
      "\n",
      "A value is trying to be set on a copy of a slice from a DataFrame\n",
      "\n",
      "See the caveats in the documentation: https://pandas.pydata.org/pandas-docs/stable/user_guide/indexing.html#returning-a-view-versus-a-copy\n",
      "\n",
      "A value is trying to be set on a copy of a slice from a DataFrame\n",
      "\n",
      "See the caveats in the documentation: https://pandas.pydata.org/pandas-docs/stable/user_guide/indexing.html#returning-a-view-versus-a-copy\n",
      "\n",
      "A value is trying to be set on a copy of a slice from a DataFrame\n",
      "\n",
      "See the caveats in the documentation: https://pandas.pydata.org/pandas-docs/stable/user_guide/indexing.html#returning-a-view-versus-a-copy\n"
     ]
    },
    {
     "name": "stdout",
     "output_type": "stream",
     "text": [
      "\tQuerying PM event signal(s) STATUS.I_MEAS, IAB.I_A, IEARTH.I_EARTH, STATUS.I_EARTH_PCNT, STATUS.I_REF for system: FGC, className: lhc_self_pmd, source: RPTE.UA83.RB.A78 at 2021-03-09 17:51:03.520\n",
      "\tQuerying NXCALS signal(s) MB.A8R7:U_DIODE_RB, MB.B8R7:U_DIODE_RB, MB.A9R7:U_DIODE_RB, MB.B9R7:U_DIODE_RB, MB.A10R7:U_DIODE_RB... from 2021-03-09 17:50:13.520 to 2021-03-09 17:59:23.520\n",
      "\tQuerying NXCALS signal(s) DFLAS.7R7.2:U_EARTH_RB, MB.B9R7:U_EARTH_RB, MB.A9R7:U_EARTH_RB, MB.B12R7:U_EARTH_RB, MB.A12R7:U_EARTH_RB... from 2021-03-09 17:50:13.520 to 2021-03-09 17:59:23.520\n",
      "\tQuerying PM event timestamps for system: QPS, className: DQAMGNSRB_PMREL, source: * from 2021-03-09 17:50:53.520 to 2021-03-09 17:57:43.520\n",
      "\tQuerying PM event timestamps for system: QPS, className: DQAMCNMB_PMSTD, source: * from 2021-03-09 17:50:53.520 to 2021-03-09 17:51:13.520\n"
     ]
    },
    {
     "data": {
      "application/vnd.jupyter.widget-view+json": {
       "model_id": "f120be5de19d42adbf36796e35c5296b",
       "version_major": 2,
       "version_minor": 0
      },
      "text/plain": [
       "Querying PM:   0%|          | 0/2 [00:00<?, ?it/s]"
      ]
     },
     "metadata": {},
     "output_type": "display_data"
    },
    {
     "data": {
      "application/vnd.jupyter.widget-view+json": {
       "model_id": "896de0851ee648949e000eddf62148ed",
       "version_major": 2,
       "version_minor": 0
      },
      "text/plain": [
       "Querying iQPS logic PM:   0%|          | 0/2 [00:00<?, ?it/s]"
      ]
     },
     "metadata": {},
     "output_type": "display_data"
    },
    {
     "name": "stdout",
     "output_type": "stream",
     "text": [
      "\tQuerying PM event timestamps for system: QPS, className: DQAMSNRB, source: RR77.RB.A78 from 2021-03-09 17:50:53.520 to 2021-03-09 18:07:43.520\n",
      "\tQuerying PM event timestamps for system: QPS, className: DQAMSNRB, source: UA83.RB.A78 from 2021-03-09 17:50:53.520 to 2021-03-09 18:07:43.520\n",
      "\tQuerying PM event signal(s) RR77.RB.A78:U_DUMP_RES for system: QPS, className: DQAMSNRB, source: RR77.RB.A78 at 2021-03-09 17:51:03.593\n",
      "\tQuerying PM event signal(s) UA83.RB.A78:U_DUMP_RES for system: QPS, className: DQAMSNRB, source: UA83.RB.A78 at 2021-03-09 17:51:04.088\n"
     ]
    },
    {
     "name": "stderr",
     "output_type": "stream",
     "text": [
      "\n",
      "A value is trying to be set on a copy of a slice from a DataFrame\n",
      "\n",
      "See the caveats in the documentation: https://pandas.pydata.org/pandas-docs/stable/user_guide/indexing.html#returning-a-view-versus-a-copy\n"
     ]
    },
    {
     "name": "stdout",
     "output_type": "stream",
     "text": [
      "\tQuerying PM event timestamps for system: QPS, className: DQAMCNMB_PMHSU, source: * from 2021-03-09 17:50:53.520 to 2021-03-09 17:59:23.520\n"
     ]
    },
    {
     "data": {
      "application/vnd.jupyter.widget-view+json": {
       "model_id": "c8e9e878902f465f95774ed87273c244",
       "version_major": 2,
       "version_minor": 0
      },
      "text/plain": [
       "Querying PM:   0%|          | 0/3 [00:00<?, ?it/s]"
      ]
     },
     "metadata": {},
     "output_type": "display_data"
    },
    {
     "name": "stdout",
     "output_type": "stream",
     "text": [
      "\tQuerying PM event signal(s) STATUS.I_MEAS, IAB.I_A, IEARTH.I_EARTH, STATUS.I_EARTH_PCNT, STATUS.I_REF for system: FGC, className: lhc_self_pmd, source: RPTE.UA83.RB.A78 at 2021-03-10 09:03:22.260\n",
      "\tQuerying NXCALS signal(s) MB.A8R7:U_DIODE_RB, MB.B8R7:U_DIODE_RB, MB.A9R7:U_DIODE_RB, MB.B9R7:U_DIODE_RB, MB.A10R7:U_DIODE_RB... from 2021-03-10 09:02:32.260 to 2021-03-10 09:11:42.260\n",
      "\tQuerying NXCALS signal(s) DFLAS.7R7.2:U_EARTH_RB, MB.B9R7:U_EARTH_RB, MB.A9R7:U_EARTH_RB, MB.B12R7:U_EARTH_RB, MB.A12R7:U_EARTH_RB... from 2021-03-10 09:02:32.260 to 2021-03-10 09:11:42.260\n",
      "\tQuerying PM event timestamps for system: QPS, className: DQAMGNSRB_PMREL, source: * from 2021-03-10 09:03:12.260 to 2021-03-10 09:10:02.260\n",
      "\tQuerying PM event timestamps for system: QPS, className: DQAMCNMB_PMSTD, source: * from 2021-03-10 09:03:12.260 to 2021-03-10 09:03:32.260\n"
     ]
    },
    {
     "data": {
      "application/vnd.jupyter.widget-view+json": {
       "model_id": "9f071a4b3b7542ac9a6578506ff7738d",
       "version_major": 2,
       "version_minor": 0
      },
      "text/plain": [
       "Querying PM:   0%|          | 0/2 [00:00<?, ?it/s]"
      ]
     },
     "metadata": {},
     "output_type": "display_data"
    },
    {
     "data": {
      "application/vnd.jupyter.widget-view+json": {
       "model_id": "c0f9cd6a52054430a8bf680f3eb7183b",
       "version_major": 2,
       "version_minor": 0
      },
      "text/plain": [
       "Querying iQPS logic PM:   0%|          | 0/2 [00:00<?, ?it/s]"
      ]
     },
     "metadata": {},
     "output_type": "display_data"
    },
    {
     "name": "stdout",
     "output_type": "stream",
     "text": [
      "\tQuerying PM event timestamps for system: QPS, className: DQAMSNRB, source: RR77.RB.A78 from 2021-03-10 09:03:12.260 to 2021-03-10 09:20:02.260\n",
      "\tQuerying PM event timestamps for system: QPS, className: DQAMSNRB, source: UA83.RB.A78 from 2021-03-10 09:03:12.260 to 2021-03-10 09:20:02.260\n",
      "\tQuerying PM event signal(s) RR77.RB.A78:U_DUMP_RES for system: QPS, className: DQAMSNRB, source: RR77.RB.A78 at 2021-03-10 09:03:22.319\n",
      "\tQuerying PM event signal(s) UA83.RB.A78:U_DUMP_RES for system: QPS, className: DQAMSNRB, source: UA83.RB.A78 at 2021-03-10 09:03:22.814\n",
      "\tQuerying PM event timestamps for system: QPS, className: DQAMCNMB_PMHSU, source: * from 2021-03-10 09:03:12.260 to 2021-03-10 09:11:42.260\n"
     ]
    },
    {
     "data": {
      "application/vnd.jupyter.widget-view+json": {
       "model_id": "0fd0f9f9a2824cc0bd2fc6b93a3a78ef",
       "version_major": 2,
       "version_minor": 0
      },
      "text/plain": [
       "Querying PM:   0%|          | 0/4 [00:00<?, ?it/s]"
      ]
     },
     "metadata": {},
     "output_type": "display_data"
    },
    {
     "name": "stdout",
     "output_type": "stream",
     "text": [
      "\tQuerying PM event signal(s) STATUS.I_MEAS, IAB.I_A, IEARTH.I_EARTH, STATUS.I_EARTH_PCNT, STATUS.I_REF for system: FGC, className: lhc_self_pmd, source: RPTE.UA83.RB.A78 at 2021-03-10 17:37:01.340\n",
      "\tQuerying NXCALS signal(s) MB.A8R7:U_DIODE_RB, MB.B8R7:U_DIODE_RB, MB.A9R7:U_DIODE_RB, MB.B9R7:U_DIODE_RB, MB.A10R7:U_DIODE_RB... from 2021-03-10 17:36:11.340 to 2021-03-10 17:45:21.340\n",
      "\tQuerying NXCALS signal(s) DFLAS.7R7.2:U_EARTH_RB, MB.B9R7:U_EARTH_RB, MB.A9R7:U_EARTH_RB, MB.B12R7:U_EARTH_RB, MB.A12R7:U_EARTH_RB... from 2021-03-10 17:36:11.340 to 2021-03-10 17:45:21.340\n",
      "\tQuerying PM event timestamps for system: QPS, className: DQAMGNSRB_PMREL, source: * from 2021-03-10 17:36:51.340 to 2021-03-10 17:43:41.340\n",
      "\tQuerying PM event timestamps for system: QPS, className: DQAMCNMB_PMSTD, source: * from 2021-03-10 17:36:51.340 to 2021-03-10 17:37:11.340\n"
     ]
    },
    {
     "data": {
      "application/vnd.jupyter.widget-view+json": {
       "model_id": "e3681e63f19d4e03a672d49186d79006",
       "version_major": 2,
       "version_minor": 0
      },
      "text/plain": [
       "Querying PM:   0%|          | 0/2 [00:00<?, ?it/s]"
      ]
     },
     "metadata": {},
     "output_type": "display_data"
    },
    {
     "data": {
      "application/vnd.jupyter.widget-view+json": {
       "model_id": "eddb9c1fd57e4b178d9152e56daa883f",
       "version_major": 2,
       "version_minor": 0
      },
      "text/plain": [
       "Querying iQPS logic PM:   0%|          | 0/2 [00:00<?, ?it/s]"
      ]
     },
     "metadata": {},
     "output_type": "display_data"
    },
    {
     "name": "stdout",
     "output_type": "stream",
     "text": [
      "\tQuerying PM event timestamps for system: QPS, className: DQAMSNRB, source: RR77.RB.A78 from 2021-03-10 17:36:51.340 to 2021-03-10 17:53:41.340\n",
      "\tQuerying PM event timestamps for system: QPS, className: DQAMSNRB, source: UA83.RB.A78 from 2021-03-10 17:36:51.340 to 2021-03-10 17:53:41.340\n",
      "\tQuerying PM event signal(s) RR77.RB.A78:U_DUMP_RES for system: QPS, className: DQAMSNRB, source: RR77.RB.A78 at 2021-03-10 17:37:01.401\n",
      "\tQuerying PM event signal(s) UA83.RB.A78:U_DUMP_RES for system: QPS, className: DQAMSNRB, source: UA83.RB.A78 at 2021-03-10 17:37:01.897\n",
      "\tQuerying PM event timestamps for system: QPS, className: DQAMCNMB_PMHSU, source: * from 2021-03-10 17:36:51.340 to 2021-03-10 17:45:21.340\n"
     ]
    },
    {
     "data": {
      "application/vnd.jupyter.widget-view+json": {
       "model_id": "5a6ac71ecefb4e89a482552f2ea957f9",
       "version_major": 2,
       "version_minor": 0
      },
      "text/plain": [
       "Querying PM:   0%|          | 0/4 [00:00<?, ?it/s]"
      ]
     },
     "metadata": {},
     "output_type": "display_data"
    },
    {
     "name": "stderr",
     "output_type": "stream",
     "text": [
      "\n",
      "A value is trying to be set on a copy of a slice from a DataFrame\n",
      "\n",
      "See the caveats in the documentation: https://pandas.pydata.org/pandas-docs/stable/user_guide/indexing.html#returning-a-view-versus-a-copy\n",
      "\n",
      "A value is trying to be set on a copy of a slice from a DataFrame\n",
      "\n",
      "See the caveats in the documentation: https://pandas.pydata.org/pandas-docs/stable/user_guide/indexing.html#returning-a-view-versus-a-copy\n",
      "\n",
      "A value is trying to be set on a copy of a slice from a DataFrame\n",
      "\n",
      "See the caveats in the documentation: https://pandas.pydata.org/pandas-docs/stable/user_guide/indexing.html#returning-a-view-versus-a-copy\n",
      "\n",
      "A value is trying to be set on a copy of a slice from a DataFrame\n",
      "\n",
      "See the caveats in the documentation: https://pandas.pydata.org/pandas-docs/stable/user_guide/indexing.html#returning-a-view-versus-a-copy\n",
      "\n",
      "A value is trying to be set on a copy of a slice from a DataFrame\n",
      "\n",
      "See the caveats in the documentation: https://pandas.pydata.org/pandas-docs/stable/user_guide/indexing.html#returning-a-view-versus-a-copy\n",
      "\n",
      "A value is trying to be set on a copy of a slice from a DataFrame\n",
      "\n",
      "See the caveats in the documentation: https://pandas.pydata.org/pandas-docs/stable/user_guide/indexing.html#returning-a-view-versus-a-copy\n",
      "\n",
      "A value is trying to be set on a copy of a slice from a DataFrame\n",
      "\n",
      "See the caveats in the documentation: https://pandas.pydata.org/pandas-docs/stable/user_guide/indexing.html#returning-a-view-versus-a-copy\n",
      "\n",
      "A value is trying to be set on a copy of a slice from a DataFrame\n",
      "\n",
      "See the caveats in the documentation: https://pandas.pydata.org/pandas-docs/stable/user_guide/indexing.html#returning-a-view-versus-a-copy\n",
      "\n",
      "A value is trying to be set on a copy of a slice from a DataFrame\n",
      "\n",
      "See the caveats in the documentation: https://pandas.pydata.org/pandas-docs/stable/user_guide/indexing.html#returning-a-view-versus-a-copy\n",
      "\n",
      "A value is trying to be set on a copy of a slice from a DataFrame\n",
      "\n",
      "See the caveats in the documentation: https://pandas.pydata.org/pandas-docs/stable/user_guide/indexing.html#returning-a-view-versus-a-copy\n",
      "\n",
      "A value is trying to be set on a copy of a slice from a DataFrame\n",
      "\n",
      "See the caveats in the documentation: https://pandas.pydata.org/pandas-docs/stable/user_guide/indexing.html#returning-a-view-versus-a-copy\n",
      "\n",
      "A value is trying to be set on a copy of a slice from a DataFrame\n",
      "\n",
      "See the caveats in the documentation: https://pandas.pydata.org/pandas-docs/stable/user_guide/indexing.html#returning-a-view-versus-a-copy\n",
      "\n",
      "A value is trying to be set on a copy of a slice from a DataFrame\n",
      "\n",
      "See the caveats in the documentation: https://pandas.pydata.org/pandas-docs/stable/user_guide/indexing.html#returning-a-view-versus-a-copy\n",
      "\n",
      "A value is trying to be set on a copy of a slice from a DataFrame\n",
      "\n",
      "See the caveats in the documentation: https://pandas.pydata.org/pandas-docs/stable/user_guide/indexing.html#returning-a-view-versus-a-copy\n",
      "\n",
      "A value is trying to be set on a copy of a slice from a DataFrame\n",
      "\n",
      "See the caveats in the documentation: https://pandas.pydata.org/pandas-docs/stable/user_guide/indexing.html#returning-a-view-versus-a-copy\n",
      "\n",
      "A value is trying to be set on a copy of a slice from a DataFrame\n",
      "\n",
      "See the caveats in the documentation: https://pandas.pydata.org/pandas-docs/stable/user_guide/indexing.html#returning-a-view-versus-a-copy\n",
      "\n",
      "A value is trying to be set on a copy of a slice from a DataFrame\n",
      "\n",
      "See the caveats in the documentation: https://pandas.pydata.org/pandas-docs/stable/user_guide/indexing.html#returning-a-view-versus-a-copy\n",
      "\n",
      "A value is trying to be set on a copy of a slice from a DataFrame\n",
      "\n",
      "See the caveats in the documentation: https://pandas.pydata.org/pandas-docs/stable/user_guide/indexing.html#returning-a-view-versus-a-copy\n",
      "\n",
      "A value is trying to be set on a copy of a slice from a DataFrame\n",
      "\n",
      "See the caveats in the documentation: https://pandas.pydata.org/pandas-docs/stable/user_guide/indexing.html#returning-a-view-versus-a-copy\n",
      "\n",
      "A value is trying to be set on a copy of a slice from a DataFrame\n",
      "\n",
      "See the caveats in the documentation: https://pandas.pydata.org/pandas-docs/stable/user_guide/indexing.html#returning-a-view-versus-a-copy\n",
      "\n",
      "A value is trying to be set on a copy of a slice from a DataFrame\n",
      "\n",
      "See the caveats in the documentation: https://pandas.pydata.org/pandas-docs/stable/user_guide/indexing.html#returning-a-view-versus-a-copy\n",
      "\n",
      "A value is trying to be set on a copy of a slice from a DataFrame\n",
      "\n",
      "See the caveats in the documentation: https://pandas.pydata.org/pandas-docs/stable/user_guide/indexing.html#returning-a-view-versus-a-copy\n",
      "\n",
      "A value is trying to be set on a copy of a slice from a DataFrame\n",
      "\n",
      "See the caveats in the documentation: https://pandas.pydata.org/pandas-docs/stable/user_guide/indexing.html#returning-a-view-versus-a-copy\n",
      "\n",
      "A value is trying to be set on a copy of a slice from a DataFrame\n",
      "\n",
      "See the caveats in the documentation: https://pandas.pydata.org/pandas-docs/stable/user_guide/indexing.html#returning-a-view-versus-a-copy\n",
      "\n",
      "A value is trying to be set on a copy of a slice from a DataFrame\n",
      "\n",
      "See the caveats in the documentation: https://pandas.pydata.org/pandas-docs/stable/user_guide/indexing.html#returning-a-view-versus-a-copy\n",
      "\n",
      "A value is trying to be set on a copy of a slice from a DataFrame\n",
      "\n",
      "See the caveats in the documentation: https://pandas.pydata.org/pandas-docs/stable/user_guide/indexing.html#returning-a-view-versus-a-copy\n",
      "\n",
      "A value is trying to be set on a copy of a slice from a DataFrame\n",
      "\n",
      "See the caveats in the documentation: https://pandas.pydata.org/pandas-docs/stable/user_guide/indexing.html#returning-a-view-versus-a-copy\n",
      "\n",
      "A value is trying to be set on a copy of a slice from a DataFrame\n",
      "\n",
      "See the caveats in the documentation: https://pandas.pydata.org/pandas-docs/stable/user_guide/indexing.html#returning-a-view-versus-a-copy\n",
      "\n",
      "A value is trying to be set on a copy of a slice from a DataFrame\n",
      "\n",
      "See the caveats in the documentation: https://pandas.pydata.org/pandas-docs/stable/user_guide/indexing.html#returning-a-view-versus-a-copy\n",
      "\n",
      "A value is trying to be set on a copy of a slice from a DataFrame\n",
      "\n",
      "See the caveats in the documentation: https://pandas.pydata.org/pandas-docs/stable/user_guide/indexing.html#returning-a-view-versus-a-copy\n",
      "\n",
      "A value is trying to be set on a copy of a slice from a DataFrame\n",
      "\n",
      "See the caveats in the documentation: https://pandas.pydata.org/pandas-docs/stable/user_guide/indexing.html#returning-a-view-versus-a-copy\n",
      "\n",
      "A value is trying to be set on a copy of a slice from a DataFrame\n",
      "\n",
      "See the caveats in the documentation: https://pandas.pydata.org/pandas-docs/stable/user_guide/indexing.html#returning-a-view-versus-a-copy\n"
     ]
    },
    {
     "name": "stdout",
     "output_type": "stream",
     "text": [
      "\tQuerying PM event signal(s) STATUS.I_MEAS, IAB.I_A, IEARTH.I_EARTH, STATUS.I_EARTH_PCNT, STATUS.I_REF for system: FGC, className: lhc_self_pmd, source: RPTE.UA83.RB.A78 at 2021-03-11 07:26:28.700\n",
      "\tQuerying NXCALS signal(s) MB.A8R7:U_DIODE_RB, MB.B8R7:U_DIODE_RB, MB.A9R7:U_DIODE_RB, MB.B9R7:U_DIODE_RB, MB.A10R7:U_DIODE_RB... from 2021-03-11 07:25:38.700 to 2021-03-11 07:34:48.700\n",
      "\tQuerying NXCALS signal(s) DFLAS.7R7.2:U_EARTH_RB, MB.B9R7:U_EARTH_RB, MB.A9R7:U_EARTH_RB, MB.B12R7:U_EARTH_RB, MB.A12R7:U_EARTH_RB... from 2021-03-11 07:25:38.700 to 2021-03-11 07:34:48.700\n",
      "\tQuerying PM event timestamps for system: QPS, className: DQAMGNSRB_PMREL, source: * from 2021-03-11 07:26:18.700 to 2021-03-11 07:33:08.700\n",
      "\tQuerying PM event timestamps for system: QPS, className: DQAMCNMB_PMSTD, source: * from 2021-03-11 07:26:18.700 to 2021-03-11 07:26:38.700\n"
     ]
    },
    {
     "data": {
      "application/vnd.jupyter.widget-view+json": {
       "model_id": "2a03d54a4acc44d1bdf8729e4ae235ff",
       "version_major": 2,
       "version_minor": 0
      },
      "text/plain": [
       "Querying PM:   0%|          | 0/2 [00:00<?, ?it/s]"
      ]
     },
     "metadata": {},
     "output_type": "display_data"
    },
    {
     "data": {
      "application/vnd.jupyter.widget-view+json": {
       "model_id": "c9722da24a2e4d6faac0bcf780585f28",
       "version_major": 2,
       "version_minor": 0
      },
      "text/plain": [
       "Querying iQPS logic PM:   0%|          | 0/2 [00:00<?, ?it/s]"
      ]
     },
     "metadata": {},
     "output_type": "display_data"
    },
    {
     "name": "stdout",
     "output_type": "stream",
     "text": [
      "\tQuerying PM event timestamps for system: QPS, className: DQAMSNRB, source: RR77.RB.A78 from 2021-03-11 07:26:18.700 to 2021-03-11 07:43:08.700\n",
      "\tQuerying PM event timestamps for system: QPS, className: DQAMSNRB, source: UA83.RB.A78 from 2021-03-11 07:26:18.700 to 2021-03-11 07:43:08.700\n",
      "\tQuerying PM event signal(s) RR77.RB.A78:U_DUMP_RES for system: QPS, className: DQAMSNRB, source: RR77.RB.A78 at 2021-03-11 07:26:28.771\n",
      "\tQuerying PM event signal(s) UA83.RB.A78:U_DUMP_RES for system: QPS, className: DQAMSNRB, source: UA83.RB.A78 at 2021-03-11 07:26:29.266\n",
      "\tQuerying PM event timestamps for system: QPS, className: DQAMCNMB_PMHSU, source: * from 2021-03-11 07:26:18.700 to 2021-03-11 07:34:48.700\n"
     ]
    },
    {
     "data": {
      "application/vnd.jupyter.widget-view+json": {
       "model_id": "d2207da19f37494689e9c740083252cb",
       "version_major": 2,
       "version_minor": 0
      },
      "text/plain": [
       "Querying PM:   0%|          | 0/6 [00:00<?, ?it/s]"
      ]
     },
     "metadata": {},
     "output_type": "display_data"
    },
    {
     "name": "stdout",
     "output_type": "stream",
     "text": [
      "\tQuerying PM event signal(s) STATUS.I_MEAS, IAB.I_A, IEARTH.I_EARTH, STATUS.I_EARTH_PCNT, STATUS.I_REF for system: FGC, className: lhc_self_pmd, source: RPTE.UA83.RB.A78 at 2021-03-11 17:53:49.600\n",
      "\tQuerying NXCALS signal(s) MB.A8R7:U_DIODE_RB, MB.B8R7:U_DIODE_RB, MB.A9R7:U_DIODE_RB, MB.B9R7:U_DIODE_RB, MB.A10R7:U_DIODE_RB... from 2021-03-11 17:52:59.600 to 2021-03-11 18:02:09.600\n",
      "\tQuerying NXCALS signal(s) DFLAS.7R7.2:U_EARTH_RB, MB.B9R7:U_EARTH_RB, MB.A9R7:U_EARTH_RB, MB.B12R7:U_EARTH_RB, MB.A12R7:U_EARTH_RB... from 2021-03-11 17:52:59.600 to 2021-03-11 18:02:09.600\n",
      "\tQuerying PM event timestamps for system: QPS, className: DQAMGNSRB_PMREL, source: * from 2021-03-11 17:53:39.600 to 2021-03-11 18:00:29.600\n",
      "\tQuerying PM event timestamps for system: QPS, className: DQAMCNMB_PMSTD, source: * from 2021-03-11 17:53:39.600 to 2021-03-11 17:53:59.600\n"
     ]
    },
    {
     "data": {
      "application/vnd.jupyter.widget-view+json": {
       "model_id": "57e2be41d107484eb2162016394dadd1",
       "version_major": 2,
       "version_minor": 0
      },
      "text/plain": [
       "Querying PM:   0%|          | 0/2 [00:00<?, ?it/s]"
      ]
     },
     "metadata": {},
     "output_type": "display_data"
    },
    {
     "data": {
      "application/vnd.jupyter.widget-view+json": {
       "model_id": "c5407789de1148bba24d89849e66eec3",
       "version_major": 2,
       "version_minor": 0
      },
      "text/plain": [
       "Querying iQPS logic PM:   0%|          | 0/2 [00:00<?, ?it/s]"
      ]
     },
     "metadata": {},
     "output_type": "display_data"
    },
    {
     "name": "stdout",
     "output_type": "stream",
     "text": [
      "\tQuerying PM event timestamps for system: QPS, className: DQAMSNRB, source: RR77.RB.A78 from 2021-03-11 17:53:39.600 to 2021-03-11 18:10:29.600\n",
      "\tQuerying PM event timestamps for system: QPS, className: DQAMSNRB, source: UA83.RB.A78 from 2021-03-11 17:53:39.600 to 2021-03-11 18:10:29.600\n",
      "\tQuerying PM event signal(s) RR77.RB.A78:U_DUMP_RES for system: QPS, className: DQAMSNRB, source: RR77.RB.A78 at 2021-03-11 17:53:49.668\n",
      "\tQuerying PM event signal(s) UA83.RB.A78:U_DUMP_RES for system: QPS, className: DQAMSNRB, source: UA83.RB.A78 at 2021-03-11 17:53:50.166\n",
      "\tQuerying PM event timestamps for system: QPS, className: DQAMCNMB_PMHSU, source: * from 2021-03-11 17:53:39.600 to 2021-03-11 18:02:09.600\n"
     ]
    },
    {
     "data": {
      "application/vnd.jupyter.widget-view+json": {
       "model_id": "0536687fbcf74b0184d21b77ffba33b9",
       "version_major": 2,
       "version_minor": 0
      },
      "text/plain": [
       "Querying PM:   0%|          | 0/4 [00:00<?, ?it/s]"
      ]
     },
     "metadata": {},
     "output_type": "display_data"
    },
    {
     "name": "stdout",
     "output_type": "stream",
     "text": [
      "\tQuerying PM event signal(s) STATUS.I_MEAS, IAB.I_A, IEARTH.I_EARTH, STATUS.I_EARTH_PCNT, STATUS.I_REF for system: FGC, className: lhc_self_pmd, source: RPTE.UA83.RB.A78 at 2021-03-12 07:09:04.580\n",
      "\tQuerying NXCALS signal(s) MB.A8R7:U_DIODE_RB, MB.B8R7:U_DIODE_RB, MB.A9R7:U_DIODE_RB, MB.B9R7:U_DIODE_RB, MB.A10R7:U_DIODE_RB... from 2021-03-12 07:08:14.580 to 2021-03-12 07:17:24.580\n",
      "\tQuerying NXCALS signal(s) DFLAS.7R7.2:U_EARTH_RB, MB.B9R7:U_EARTH_RB, MB.A9R7:U_EARTH_RB, MB.B12R7:U_EARTH_RB, MB.A12R7:U_EARTH_RB... from 2021-03-12 07:08:14.580 to 2021-03-12 07:17:24.580\n",
      "\tQuerying PM event timestamps for system: QPS, className: DQAMGNSRB_PMREL, source: * from 2021-03-12 07:08:54.580 to 2021-03-12 07:15:44.580\n",
      "\tQuerying PM event timestamps for system: QPS, className: DQAMCNMB_PMSTD, source: * from 2021-03-12 07:08:54.580 to 2021-03-12 07:09:14.580\n"
     ]
    },
    {
     "data": {
      "application/vnd.jupyter.widget-view+json": {
       "model_id": "63e3c2a869ea4e928e36063cea47a83b",
       "version_major": 2,
       "version_minor": 0
      },
      "text/plain": [
       "Querying PM:   0%|          | 0/2 [00:00<?, ?it/s]"
      ]
     },
     "metadata": {},
     "output_type": "display_data"
    },
    {
     "data": {
      "application/vnd.jupyter.widget-view+json": {
       "model_id": "2686770f925848cdb5c872d8edab3c45",
       "version_major": 2,
       "version_minor": 0
      },
      "text/plain": [
       "Querying iQPS logic PM:   0%|          | 0/2 [00:00<?, ?it/s]"
      ]
     },
     "metadata": {},
     "output_type": "display_data"
    },
    {
     "name": "stdout",
     "output_type": "stream",
     "text": [
      "\tQuerying PM event timestamps for system: QPS, className: DQAMSNRB, source: RR77.RB.A78 from 2021-03-12 07:08:54.580 to 2021-03-12 07:25:44.580\n",
      "\tQuerying PM event timestamps for system: QPS, className: DQAMSNRB, source: UA83.RB.A78 from 2021-03-12 07:08:54.580 to 2021-03-12 07:25:44.580\n",
      "\tQuerying PM event signal(s) RR77.RB.A78:U_DUMP_RES for system: QPS, className: DQAMSNRB, source: RR77.RB.A78 at 2021-03-12 07:09:04.650\n",
      "\tQuerying PM event signal(s) UA83.RB.A78:U_DUMP_RES for system: QPS, className: DQAMSNRB, source: UA83.RB.A78 at 2021-03-12 07:09:05.149\n"
     ]
    },
    {
     "name": "stderr",
     "output_type": "stream",
     "text": [
      "\n",
      "A value is trying to be set on a copy of a slice from a DataFrame\n",
      "\n",
      "See the caveats in the documentation: https://pandas.pydata.org/pandas-docs/stable/user_guide/indexing.html#returning-a-view-versus-a-copy\n"
     ]
    },
    {
     "name": "stdout",
     "output_type": "stream",
     "text": [
      "\tQuerying PM event timestamps for system: QPS, className: DQAMCNMB_PMHSU, source: * from 2021-03-12 07:08:54.580 to 2021-03-12 07:17:24.580\n"
     ]
    },
    {
     "data": {
      "application/vnd.jupyter.widget-view+json": {
       "model_id": "735dc8f18d2443f388d32c7c4254e10b",
       "version_major": 2,
       "version_minor": 0
      },
      "text/plain": [
       "Querying PM:   0%|          | 0/4 [00:00<?, ?it/s]"
      ]
     },
     "metadata": {},
     "output_type": "display_data"
    },
    {
     "name": "stderr",
     "output_type": "stream",
     "text": [
      "\n",
      "A value is trying to be set on a copy of a slice from a DataFrame\n",
      "\n",
      "See the caveats in the documentation: https://pandas.pydata.org/pandas-docs/stable/user_guide/indexing.html#returning-a-view-versus-a-copy\n",
      "\n",
      "A value is trying to be set on a copy of a slice from a DataFrame\n",
      "\n",
      "See the caveats in the documentation: https://pandas.pydata.org/pandas-docs/stable/user_guide/indexing.html#returning-a-view-versus-a-copy\n",
      "\n",
      "A value is trying to be set on a copy of a slice from a DataFrame\n",
      "\n",
      "See the caveats in the documentation: https://pandas.pydata.org/pandas-docs/stable/user_guide/indexing.html#returning-a-view-versus-a-copy\n",
      "\n",
      "A value is trying to be set on a copy of a slice from a DataFrame\n",
      "\n",
      "See the caveats in the documentation: https://pandas.pydata.org/pandas-docs/stable/user_guide/indexing.html#returning-a-view-versus-a-copy\n",
      "\n",
      "A value is trying to be set on a copy of a slice from a DataFrame\n",
      "\n",
      "See the caveats in the documentation: https://pandas.pydata.org/pandas-docs/stable/user_guide/indexing.html#returning-a-view-versus-a-copy\n",
      "\n",
      "A value is trying to be set on a copy of a slice from a DataFrame\n",
      "\n",
      "See the caveats in the documentation: https://pandas.pydata.org/pandas-docs/stable/user_guide/indexing.html#returning-a-view-versus-a-copy\n",
      "\n",
      "A value is trying to be set on a copy of a slice from a DataFrame\n",
      "\n",
      "See the caveats in the documentation: https://pandas.pydata.org/pandas-docs/stable/user_guide/indexing.html#returning-a-view-versus-a-copy\n",
      "\n",
      "A value is trying to be set on a copy of a slice from a DataFrame\n",
      "\n",
      "See the caveats in the documentation: https://pandas.pydata.org/pandas-docs/stable/user_guide/indexing.html#returning-a-view-versus-a-copy\n"
     ]
    },
    {
     "name": "stdout",
     "output_type": "stream",
     "text": [
      "\tQuerying PM event signal(s) STATUS.I_MEAS, IAB.I_A, IEARTH.I_EARTH, STATUS.I_EARTH_PCNT, STATUS.I_REF for system: FGC, className: lhc_self_pmd, source: RPTE.UA83.RB.A78 at 2021-03-12 17:21:05.200\n",
      "\tQuerying NXCALS signal(s) MB.A8R7:U_DIODE_RB, MB.B8R7:U_DIODE_RB, MB.A9R7:U_DIODE_RB, MB.B9R7:U_DIODE_RB, MB.A10R7:U_DIODE_RB... from 2021-03-12 17:20:15.200 to 2021-03-12 17:29:25.200\n",
      "\tQuerying NXCALS signal(s) DFLAS.7R7.2:U_EARTH_RB, MB.B9R7:U_EARTH_RB, MB.A9R7:U_EARTH_RB, MB.B12R7:U_EARTH_RB, MB.A12R7:U_EARTH_RB... from 2021-03-12 17:20:15.200 to 2021-03-12 17:29:25.200\n",
      "\tQuerying PM event timestamps for system: QPS, className: DQAMGNSRB_PMREL, source: * from 2021-03-12 17:20:55.200 to 2021-03-12 17:27:45.200\n",
      "\tQuerying PM event timestamps for system: QPS, className: DQAMCNMB_PMSTD, source: * from 2021-03-12 17:20:55.200 to 2021-03-12 17:21:15.200\n"
     ]
    },
    {
     "data": {
      "application/vnd.jupyter.widget-view+json": {
       "model_id": "57e9c90ad4e34d92af43b1080c9fa37d",
       "version_major": 2,
       "version_minor": 0
      },
      "text/plain": [
       "Querying PM:   0%|          | 0/2 [00:00<?, ?it/s]"
      ]
     },
     "metadata": {},
     "output_type": "display_data"
    },
    {
     "data": {
      "application/vnd.jupyter.widget-view+json": {
       "model_id": "9a12d4eec5db42f6a88c80c01aa9305b",
       "version_major": 2,
       "version_minor": 0
      },
      "text/plain": [
       "Querying iQPS logic PM:   0%|          | 0/2 [00:00<?, ?it/s]"
      ]
     },
     "metadata": {},
     "output_type": "display_data"
    },
    {
     "name": "stdout",
     "output_type": "stream",
     "text": [
      "\tQuerying PM event timestamps for system: QPS, className: DQAMSNRB, source: RR77.RB.A78 from 2021-03-12 17:20:55.200 to 2021-03-12 17:37:45.200\n",
      "\tQuerying PM event timestamps for system: QPS, className: DQAMSNRB, source: UA83.RB.A78 from 2021-03-12 17:20:55.200 to 2021-03-12 17:37:45.200\n",
      "\tQuerying PM event signal(s) RR77.RB.A78:U_DUMP_RES for system: QPS, className: DQAMSNRB, source: RR77.RB.A78 at 2021-03-12 17:21:05.266\n",
      "\tQuerying PM event signal(s) UA83.RB.A78:U_DUMP_RES for system: QPS, className: DQAMSNRB, source: UA83.RB.A78 at 2021-03-12 17:21:05.764\n",
      "\tQuerying PM event timestamps for system: QPS, className: DQAMCNMB_PMHSU, source: * from 2021-03-12 17:20:55.200 to 2021-03-12 17:29:25.200\n"
     ]
    },
    {
     "data": {
      "application/vnd.jupyter.widget-view+json": {
       "model_id": "a20d1876c04548b99e75582386d6c41e",
       "version_major": 2,
       "version_minor": 0
      },
      "text/plain": [
       "Querying PM:   0%|          | 0/5 [00:00<?, ?it/s]"
      ]
     },
     "metadata": {},
     "output_type": "display_data"
    },
    {
     "name": "stdout",
     "output_type": "stream",
     "text": [
      "\tQuerying PM event signal(s) STATUS.I_MEAS, IAB.I_A, IEARTH.I_EARTH, STATUS.I_EARTH_PCNT, STATUS.I_REF for system: FGC, className: lhc_self_pmd, source: RPTE.UA83.RB.A78 at 2021-03-13 08:59:49.080\n",
      "\tQuerying NXCALS signal(s) MB.A8R7:U_DIODE_RB, MB.B8R7:U_DIODE_RB, MB.A9R7:U_DIODE_RB, MB.B9R7:U_DIODE_RB, MB.A10R7:U_DIODE_RB... from 2021-03-13 08:58:59.080 to 2021-03-13 09:08:09.080\n",
      "\tQuerying NXCALS signal(s) DFLAS.7R7.2:U_EARTH_RB, MB.B9R7:U_EARTH_RB, MB.A9R7:U_EARTH_RB, MB.B12R7:U_EARTH_RB, MB.A12R7:U_EARTH_RB... from 2021-03-13 08:58:59.080 to 2021-03-13 09:08:09.080\n",
      "\tQuerying PM event timestamps for system: QPS, className: DQAMGNSRB_PMREL, source: * from 2021-03-13 08:59:39.080 to 2021-03-13 09:06:29.080\n",
      "\tQuerying PM event timestamps for system: QPS, className: DQAMCNMB_PMSTD, source: * from 2021-03-13 08:59:39.080 to 2021-03-13 08:59:59.080\n"
     ]
    },
    {
     "data": {
      "application/vnd.jupyter.widget-view+json": {
       "model_id": "8f92f66d3dab4895a2d1995a24d59150",
       "version_major": 2,
       "version_minor": 0
      },
      "text/plain": [
       "Querying PM:   0%|          | 0/4 [00:00<?, ?it/s]"
      ]
     },
     "metadata": {},
     "output_type": "display_data"
    },
    {
     "data": {
      "application/vnd.jupyter.widget-view+json": {
       "model_id": "e9a5cfef14204cb89913f37c90cbc865",
       "version_major": 2,
       "version_minor": 0
      },
      "text/plain": [
       "Querying iQPS logic PM:   0%|          | 0/4 [00:00<?, ?it/s]"
      ]
     },
     "metadata": {},
     "output_type": "display_data"
    },
    {
     "name": "stdout",
     "output_type": "stream",
     "text": [
      "\tQuerying PM event timestamps for system: QPS, className: DQAMSNRB, source: RR77.RB.A78 from 2021-03-13 08:59:39.080 to 2021-03-13 09:16:29.080\n",
      "\tQuerying PM event timestamps for system: QPS, className: DQAMSNRB, source: UA83.RB.A78 from 2021-03-13 08:59:39.080 to 2021-03-13 09:16:29.080\n",
      "\tQuerying PM event signal(s) RR77.RB.A78:U_DUMP_RES for system: QPS, className: DQAMSNRB, source: RR77.RB.A78 at 2021-03-13 08:59:49.140\n",
      "\tQuerying PM event signal(s) UA83.RB.A78:U_DUMP_RES for system: QPS, className: DQAMSNRB, source: UA83.RB.A78 at 2021-03-13 08:59:49.636\n",
      "\tQuerying PM event timestamps for system: QPS, className: DQAMCNMB_PMHSU, source: * from 2021-03-13 08:59:39.080 to 2021-03-13 09:08:09.080\n"
     ]
    },
    {
     "data": {
      "application/vnd.jupyter.widget-view+json": {
       "model_id": "94a63486ca8d4328832ced1fa3cab79d",
       "version_major": 2,
       "version_minor": 0
      },
      "text/plain": [
       "Querying PM:   0%|          | 0/8 [00:00<?, ?it/s]"
      ]
     },
     "metadata": {},
     "output_type": "display_data"
    },
    {
     "name": "stderr",
     "output_type": "stream",
     "text": [
      "\n",
      "A value is trying to be set on a copy of a slice from a DataFrame\n",
      "\n",
      "See the caveats in the documentation: https://pandas.pydata.org/pandas-docs/stable/user_guide/indexing.html#returning-a-view-versus-a-copy\n",
      "\n",
      "A value is trying to be set on a copy of a slice from a DataFrame\n",
      "\n",
      "See the caveats in the documentation: https://pandas.pydata.org/pandas-docs/stable/user_guide/indexing.html#returning-a-view-versus-a-copy\n",
      "\n",
      "A value is trying to be set on a copy of a slice from a DataFrame\n",
      "\n",
      "See the caveats in the documentation: https://pandas.pydata.org/pandas-docs/stable/user_guide/indexing.html#returning-a-view-versus-a-copy\n",
      "\n",
      "A value is trying to be set on a copy of a slice from a DataFrame\n",
      "\n",
      "See the caveats in the documentation: https://pandas.pydata.org/pandas-docs/stable/user_guide/indexing.html#returning-a-view-versus-a-copy\n",
      "\n",
      "A value is trying to be set on a copy of a slice from a DataFrame\n",
      "\n",
      "See the caveats in the documentation: https://pandas.pydata.org/pandas-docs/stable/user_guide/indexing.html#returning-a-view-versus-a-copy\n",
      "\n",
      "A value is trying to be set on a copy of a slice from a DataFrame\n",
      "\n",
      "See the caveats in the documentation: https://pandas.pydata.org/pandas-docs/stable/user_guide/indexing.html#returning-a-view-versus-a-copy\n",
      "\n",
      "A value is trying to be set on a copy of a slice from a DataFrame\n",
      "\n",
      "See the caveats in the documentation: https://pandas.pydata.org/pandas-docs/stable/user_guide/indexing.html#returning-a-view-versus-a-copy\n",
      "\n",
      "A value is trying to be set on a copy of a slice from a DataFrame\n",
      "\n",
      "See the caveats in the documentation: https://pandas.pydata.org/pandas-docs/stable/user_guide/indexing.html#returning-a-view-versus-a-copy\n",
      "\n",
      "A value is trying to be set on a copy of a slice from a DataFrame\n",
      "\n",
      "See the caveats in the documentation: https://pandas.pydata.org/pandas-docs/stable/user_guide/indexing.html#returning-a-view-versus-a-copy\n",
      "\n",
      "A value is trying to be set on a copy of a slice from a DataFrame\n",
      "\n",
      "See the caveats in the documentation: https://pandas.pydata.org/pandas-docs/stable/user_guide/indexing.html#returning-a-view-versus-a-copy\n",
      "\n",
      "A value is trying to be set on a copy of a slice from a DataFrame\n",
      "\n",
      "See the caveats in the documentation: https://pandas.pydata.org/pandas-docs/stable/user_guide/indexing.html#returning-a-view-versus-a-copy\n",
      "\n",
      "A value is trying to be set on a copy of a slice from a DataFrame\n",
      "\n",
      "See the caveats in the documentation: https://pandas.pydata.org/pandas-docs/stable/user_guide/indexing.html#returning-a-view-versus-a-copy\n",
      "\n",
      "A value is trying to be set on a copy of a slice from a DataFrame\n",
      "\n",
      "See the caveats in the documentation: https://pandas.pydata.org/pandas-docs/stable/user_guide/indexing.html#returning-a-view-versus-a-copy\n",
      "\n",
      "A value is trying to be set on a copy of a slice from a DataFrame\n",
      "\n",
      "See the caveats in the documentation: https://pandas.pydata.org/pandas-docs/stable/user_guide/indexing.html#returning-a-view-versus-a-copy\n",
      "\n",
      "A value is trying to be set on a copy of a slice from a DataFrame\n",
      "\n",
      "See the caveats in the documentation: https://pandas.pydata.org/pandas-docs/stable/user_guide/indexing.html#returning-a-view-versus-a-copy\n",
      "\n",
      "A value is trying to be set on a copy of a slice from a DataFrame\n",
      "\n",
      "See the caveats in the documentation: https://pandas.pydata.org/pandas-docs/stable/user_guide/indexing.html#returning-a-view-versus-a-copy\n",
      "\n",
      "A value is trying to be set on a copy of a slice from a DataFrame\n",
      "\n",
      "See the caveats in the documentation: https://pandas.pydata.org/pandas-docs/stable/user_guide/indexing.html#returning-a-view-versus-a-copy\n",
      "\n",
      "A value is trying to be set on a copy of a slice from a DataFrame\n",
      "\n",
      "See the caveats in the documentation: https://pandas.pydata.org/pandas-docs/stable/user_guide/indexing.html#returning-a-view-versus-a-copy\n",
      "\n",
      "A value is trying to be set on a copy of a slice from a DataFrame\n",
      "\n",
      "See the caveats in the documentation: https://pandas.pydata.org/pandas-docs/stable/user_guide/indexing.html#returning-a-view-versus-a-copy\n",
      "\n",
      "A value is trying to be set on a copy of a slice from a DataFrame\n",
      "\n",
      "See the caveats in the documentation: https://pandas.pydata.org/pandas-docs/stable/user_guide/indexing.html#returning-a-view-versus-a-copy\n",
      "\n",
      "A value is trying to be set on a copy of a slice from a DataFrame\n",
      "\n",
      "See the caveats in the documentation: https://pandas.pydata.org/pandas-docs/stable/user_guide/indexing.html#returning-a-view-versus-a-copy\n",
      "\n",
      "A value is trying to be set on a copy of a slice from a DataFrame\n",
      "\n",
      "See the caveats in the documentation: https://pandas.pydata.org/pandas-docs/stable/user_guide/indexing.html#returning-a-view-versus-a-copy\n",
      "\n",
      "A value is trying to be set on a copy of a slice from a DataFrame\n",
      "\n",
      "See the caveats in the documentation: https://pandas.pydata.org/pandas-docs/stable/user_guide/indexing.html#returning-a-view-versus-a-copy\n",
      "\n",
      "A value is trying to be set on a copy of a slice from a DataFrame\n",
      "\n",
      "See the caveats in the documentation: https://pandas.pydata.org/pandas-docs/stable/user_guide/indexing.html#returning-a-view-versus-a-copy\n",
      "\n",
      "A value is trying to be set on a copy of a slice from a DataFrame\n",
      "\n",
      "See the caveats in the documentation: https://pandas.pydata.org/pandas-docs/stable/user_guide/indexing.html#returning-a-view-versus-a-copy\n",
      "\n",
      "A value is trying to be set on a copy of a slice from a DataFrame\n",
      "\n",
      "See the caveats in the documentation: https://pandas.pydata.org/pandas-docs/stable/user_guide/indexing.html#returning-a-view-versus-a-copy\n",
      "\n",
      "A value is trying to be set on a copy of a slice from a DataFrame\n",
      "\n",
      "See the caveats in the documentation: https://pandas.pydata.org/pandas-docs/stable/user_guide/indexing.html#returning-a-view-versus-a-copy\n",
      "\n",
      "A value is trying to be set on a copy of a slice from a DataFrame\n",
      "\n",
      "See the caveats in the documentation: https://pandas.pydata.org/pandas-docs/stable/user_guide/indexing.html#returning-a-view-versus-a-copy\n",
      "\n",
      "A value is trying to be set on a copy of a slice from a DataFrame\n",
      "\n",
      "See the caveats in the documentation: https://pandas.pydata.org/pandas-docs/stable/user_guide/indexing.html#returning-a-view-versus-a-copy\n",
      "\n",
      "A value is trying to be set on a copy of a slice from a DataFrame\n",
      "\n",
      "See the caveats in the documentation: https://pandas.pydata.org/pandas-docs/stable/user_guide/indexing.html#returning-a-view-versus-a-copy\n",
      "\n",
      "A value is trying to be set on a copy of a slice from a DataFrame\n",
      "\n",
      "See the caveats in the documentation: https://pandas.pydata.org/pandas-docs/stable/user_guide/indexing.html#returning-a-view-versus-a-copy\n",
      "\n",
      "A value is trying to be set on a copy of a slice from a DataFrame\n",
      "\n",
      "See the caveats in the documentation: https://pandas.pydata.org/pandas-docs/stable/user_guide/indexing.html#returning-a-view-versus-a-copy\n"
     ]
    },
    {
     "name": "stdout",
     "output_type": "stream",
     "text": [
      "\tQuerying PM event signal(s) STATUS.I_MEAS, IAB.I_A, IEARTH.I_EARTH, STATUS.I_EARTH_PCNT, STATUS.I_REF for system: FGC, className: lhc_self_pmd, source: RPTE.UA83.RB.A78 at 2021-03-13 18:46:40.480\n",
      "\tQuerying NXCALS signal(s) MB.A8R7:U_DIODE_RB, MB.B8R7:U_DIODE_RB, MB.A9R7:U_DIODE_RB, MB.B9R7:U_DIODE_RB, MB.A10R7:U_DIODE_RB... from 2021-03-13 18:45:50.480 to 2021-03-13 18:55:00.480\n",
      "\tQuerying NXCALS signal(s) DFLAS.7R7.2:U_EARTH_RB, MB.B9R7:U_EARTH_RB, MB.A9R7:U_EARTH_RB, MB.B12R7:U_EARTH_RB, MB.A12R7:U_EARTH_RB... from 2021-03-13 18:45:50.480 to 2021-03-13 18:55:00.480\n",
      "\tQuerying PM event timestamps for system: QPS, className: DQAMGNSRB_PMREL, source: * from 2021-03-13 18:46:30.480 to 2021-03-13 18:53:20.480\n",
      "\tQuerying PM event timestamps for system: QPS, className: DQAMCNMB_PMSTD, source: * from 2021-03-13 18:46:30.480 to 2021-03-13 18:46:50.480\n"
     ]
    },
    {
     "data": {
      "application/vnd.jupyter.widget-view+json": {
       "model_id": "823e1a8f168642a989bf6162e29fbfc1",
       "version_major": 2,
       "version_minor": 0
      },
      "text/plain": [
       "Querying PM:   0%|          | 0/2 [00:00<?, ?it/s]"
      ]
     },
     "metadata": {},
     "output_type": "display_data"
    },
    {
     "data": {
      "application/vnd.jupyter.widget-view+json": {
       "model_id": "6c06bc43a61f4238b15b7c0375e24e90",
       "version_major": 2,
       "version_minor": 0
      },
      "text/plain": [
       "Querying iQPS logic PM:   0%|          | 0/2 [00:00<?, ?it/s]"
      ]
     },
     "metadata": {},
     "output_type": "display_data"
    },
    {
     "name": "stdout",
     "output_type": "stream",
     "text": [
      "\tQuerying PM event timestamps for system: QPS, className: DQAMSNRB, source: RR77.RB.A78 from 2021-03-13 18:46:30.480 to 2021-03-13 19:03:20.480\n",
      "\tQuerying PM event timestamps for system: QPS, className: DQAMSNRB, source: UA83.RB.A78 from 2021-03-13 18:46:30.480 to 2021-03-13 19:03:20.480\n",
      "\tQuerying PM event signal(s) RR77.RB.A78:U_DUMP_RES for system: QPS, className: DQAMSNRB, source: RR77.RB.A78 at 2021-03-13 18:46:40.552\n"
     ]
    },
    {
     "name": "stderr",
     "output_type": "stream",
     "text": [
      "\n",
      "A value is trying to be set on a copy of a slice from a DataFrame\n",
      "\n",
      "See the caveats in the documentation: https://pandas.pydata.org/pandas-docs/stable/user_guide/indexing.html#returning-a-view-versus-a-copy\n"
     ]
    },
    {
     "name": "stdout",
     "output_type": "stream",
     "text": [
      "\tQuerying PM event signal(s) UA83.RB.A78:U_DUMP_RES for system: QPS, className: DQAMSNRB, source: UA83.RB.A78 at 2021-03-13 18:46:41.048\n",
      "\tQuerying PM event timestamps for system: QPS, className: DQAMCNMB_PMHSU, source: * from 2021-03-13 18:46:30.480 to 2021-03-13 18:55:00.480\n"
     ]
    },
    {
     "data": {
      "application/vnd.jupyter.widget-view+json": {
       "model_id": "6ae79c76754b4be18141daab7fb8d4b5",
       "version_major": 2,
       "version_minor": 0
      },
      "text/plain": [
       "Querying PM:   0%|          | 0/5 [00:00<?, ?it/s]"
      ]
     },
     "metadata": {},
     "output_type": "display_data"
    },
    {
     "name": "stderr",
     "output_type": "stream",
     "text": [
      "\n",
      "A value is trying to be set on a copy of a slice from a DataFrame\n",
      "\n",
      "See the caveats in the documentation: https://pandas.pydata.org/pandas-docs/stable/user_guide/indexing.html#returning-a-view-versus-a-copy\n",
      "\n",
      "A value is trying to be set on a copy of a slice from a DataFrame\n",
      "\n",
      "See the caveats in the documentation: https://pandas.pydata.org/pandas-docs/stable/user_guide/indexing.html#returning-a-view-versus-a-copy\n",
      "\n",
      "A value is trying to be set on a copy of a slice from a DataFrame\n",
      "\n",
      "See the caveats in the documentation: https://pandas.pydata.org/pandas-docs/stable/user_guide/indexing.html#returning-a-view-versus-a-copy\n",
      "\n",
      "A value is trying to be set on a copy of a slice from a DataFrame\n",
      "\n",
      "See the caveats in the documentation: https://pandas.pydata.org/pandas-docs/stable/user_guide/indexing.html#returning-a-view-versus-a-copy\n",
      "\n",
      "A value is trying to be set on a copy of a slice from a DataFrame\n",
      "\n",
      "See the caveats in the documentation: https://pandas.pydata.org/pandas-docs/stable/user_guide/indexing.html#returning-a-view-versus-a-copy\n",
      "\n",
      "A value is trying to be set on a copy of a slice from a DataFrame\n",
      "\n",
      "See the caveats in the documentation: https://pandas.pydata.org/pandas-docs/stable/user_guide/indexing.html#returning-a-view-versus-a-copy\n",
      "\n",
      "A value is trying to be set on a copy of a slice from a DataFrame\n",
      "\n",
      "See the caveats in the documentation: https://pandas.pydata.org/pandas-docs/stable/user_guide/indexing.html#returning-a-view-versus-a-copy\n",
      "\n",
      "A value is trying to be set on a copy of a slice from a DataFrame\n",
      "\n",
      "See the caveats in the documentation: https://pandas.pydata.org/pandas-docs/stable/user_guide/indexing.html#returning-a-view-versus-a-copy\n",
      "\n",
      "A value is trying to be set on a copy of a slice from a DataFrame\n",
      "\n",
      "See the caveats in the documentation: https://pandas.pydata.org/pandas-docs/stable/user_guide/indexing.html#returning-a-view-versus-a-copy\n",
      "\n",
      "A value is trying to be set on a copy of a slice from a DataFrame\n",
      "\n",
      "See the caveats in the documentation: https://pandas.pydata.org/pandas-docs/stable/user_guide/indexing.html#returning-a-view-versus-a-copy\n",
      "\n",
      "A value is trying to be set on a copy of a slice from a DataFrame\n",
      "\n",
      "See the caveats in the documentation: https://pandas.pydata.org/pandas-docs/stable/user_guide/indexing.html#returning-a-view-versus-a-copy\n",
      "\n",
      "A value is trying to be set on a copy of a slice from a DataFrame\n",
      "\n",
      "See the caveats in the documentation: https://pandas.pydata.org/pandas-docs/stable/user_guide/indexing.html#returning-a-view-versus-a-copy\n",
      "\n",
      "A value is trying to be set on a copy of a slice from a DataFrame\n",
      "\n",
      "See the caveats in the documentation: https://pandas.pydata.org/pandas-docs/stable/user_guide/indexing.html#returning-a-view-versus-a-copy\n",
      "\n",
      "A value is trying to be set on a copy of a slice from a DataFrame\n",
      "\n",
      "See the caveats in the documentation: https://pandas.pydata.org/pandas-docs/stable/user_guide/indexing.html#returning-a-view-versus-a-copy\n",
      "\n",
      "A value is trying to be set on a copy of a slice from a DataFrame\n",
      "\n",
      "See the caveats in the documentation: https://pandas.pydata.org/pandas-docs/stable/user_guide/indexing.html#returning-a-view-versus-a-copy\n",
      "\n",
      "A value is trying to be set on a copy of a slice from a DataFrame\n",
      "\n",
      "See the caveats in the documentation: https://pandas.pydata.org/pandas-docs/stable/user_guide/indexing.html#returning-a-view-versus-a-copy\n"
     ]
    },
    {
     "name": "stdout",
     "output_type": "stream",
     "text": [
      "\tQuerying PM event signal(s) STATUS.I_MEAS, IAB.I_A, IEARTH.I_EARTH, STATUS.I_EARTH_PCNT, STATUS.I_REF for system: FGC, className: lhc_self_pmd, source: RPTE.UA83.RB.A78 at 2021-03-14 09:05:36.200\n",
      "\tQuerying NXCALS signal(s) MB.A8R7:U_DIODE_RB, MB.B8R7:U_DIODE_RB, MB.A9R7:U_DIODE_RB, MB.B9R7:U_DIODE_RB, MB.A10R7:U_DIODE_RB... from 2021-03-14 09:04:46.200 to 2021-03-14 09:13:56.200\n",
      "\tQuerying NXCALS signal(s) DFLAS.7R7.2:U_EARTH_RB, MB.B9R7:U_EARTH_RB, MB.A9R7:U_EARTH_RB, MB.B12R7:U_EARTH_RB, MB.A12R7:U_EARTH_RB... from 2021-03-14 09:04:46.200 to 2021-03-14 09:13:56.200\n",
      "\tQuerying PM event timestamps for system: QPS, className: DQAMGNSRB_PMREL, source: * from 2021-03-14 09:05:26.200 to 2021-03-14 09:12:16.200\n",
      "\tQuerying PM event timestamps for system: QPS, className: DQAMCNMB_PMSTD, source: * from 2021-03-14 09:05:26.200 to 2021-03-14 09:05:46.200\n"
     ]
    },
    {
     "data": {
      "application/vnd.jupyter.widget-view+json": {
       "model_id": "ca9f806419ee42b691b24eab6bffaf07",
       "version_major": 2,
       "version_minor": 0
      },
      "text/plain": [
       "Querying PM:   0%|          | 0/2 [00:00<?, ?it/s]"
      ]
     },
     "metadata": {},
     "output_type": "display_data"
    },
    {
     "data": {
      "application/vnd.jupyter.widget-view+json": {
       "model_id": "432eb689987c4128b0092385376e3142",
       "version_major": 2,
       "version_minor": 0
      },
      "text/plain": [
       "Querying iQPS logic PM:   0%|          | 0/2 [00:00<?, ?it/s]"
      ]
     },
     "metadata": {},
     "output_type": "display_data"
    },
    {
     "name": "stdout",
     "output_type": "stream",
     "text": [
      "\tQuerying PM event timestamps for system: QPS, className: DQAMSNRB, source: RR77.RB.A78 from 2021-03-14 09:05:26.200 to 2021-03-14 09:22:16.200\n",
      "\tQuerying PM event timestamps for system: QPS, className: DQAMSNRB, source: UA83.RB.A78 from 2021-03-14 09:05:26.200 to 2021-03-14 09:22:16.200\n",
      "\tQuerying PM event signal(s) RR77.RB.A78:U_DUMP_RES for system: QPS, className: DQAMSNRB, source: RR77.RB.A78 at 2021-03-14 09:05:36.259\n",
      "\tQuerying PM event signal(s) UA83.RB.A78:U_DUMP_RES for system: QPS, className: DQAMSNRB, source: UA83.RB.A78 at 2021-03-14 09:05:36.758\n"
     ]
    },
    {
     "name": "stderr",
     "output_type": "stream",
     "text": [
      "\n",
      "A value is trying to be set on a copy of a slice from a DataFrame\n",
      "\n",
      "See the caveats in the documentation: https://pandas.pydata.org/pandas-docs/stable/user_guide/indexing.html#returning-a-view-versus-a-copy\n"
     ]
    },
    {
     "name": "stdout",
     "output_type": "stream",
     "text": [
      "\tQuerying PM event timestamps for system: QPS, className: DQAMCNMB_PMHSU, source: * from 2021-03-14 09:05:26.200 to 2021-03-14 09:13:56.200\n"
     ]
    },
    {
     "data": {
      "application/vnd.jupyter.widget-view+json": {
       "model_id": "fe4dd99394234f4f8b8762412d1c3778",
       "version_major": 2,
       "version_minor": 0
      },
      "text/plain": [
       "Querying PM:   0%|          | 0/4 [00:00<?, ?it/s]"
      ]
     },
     "metadata": {},
     "output_type": "display_data"
    },
    {
     "name": "stderr",
     "output_type": "stream",
     "text": [
      "\n",
      "A value is trying to be set on a copy of a slice from a DataFrame\n",
      "\n",
      "See the caveats in the documentation: https://pandas.pydata.org/pandas-docs/stable/user_guide/indexing.html#returning-a-view-versus-a-copy\n",
      "\n",
      "A value is trying to be set on a copy of a slice from a DataFrame\n",
      "\n",
      "See the caveats in the documentation: https://pandas.pydata.org/pandas-docs/stable/user_guide/indexing.html#returning-a-view-versus-a-copy\n",
      "\n",
      "A value is trying to be set on a copy of a slice from a DataFrame\n",
      "\n",
      "See the caveats in the documentation: https://pandas.pydata.org/pandas-docs/stable/user_guide/indexing.html#returning-a-view-versus-a-copy\n",
      "\n",
      "A value is trying to be set on a copy of a slice from a DataFrame\n",
      "\n",
      "See the caveats in the documentation: https://pandas.pydata.org/pandas-docs/stable/user_guide/indexing.html#returning-a-view-versus-a-copy\n",
      "\n",
      "A value is trying to be set on a copy of a slice from a DataFrame\n",
      "\n",
      "See the caveats in the documentation: https://pandas.pydata.org/pandas-docs/stable/user_guide/indexing.html#returning-a-view-versus-a-copy\n",
      "\n",
      "A value is trying to be set on a copy of a slice from a DataFrame\n",
      "\n",
      "See the caveats in the documentation: https://pandas.pydata.org/pandas-docs/stable/user_guide/indexing.html#returning-a-view-versus-a-copy\n",
      "\n",
      "A value is trying to be set on a copy of a slice from a DataFrame\n",
      "\n",
      "See the caveats in the documentation: https://pandas.pydata.org/pandas-docs/stable/user_guide/indexing.html#returning-a-view-versus-a-copy\n",
      "\n",
      "A value is trying to be set on a copy of a slice from a DataFrame\n",
      "\n",
      "See the caveats in the documentation: https://pandas.pydata.org/pandas-docs/stable/user_guide/indexing.html#returning-a-view-versus-a-copy\n"
     ]
    },
    {
     "name": "stdout",
     "output_type": "stream",
     "text": [
      "\tQuerying PM event signal(s) STATUS.I_MEAS, IAB.I_A, IEARTH.I_EARTH, STATUS.I_EARTH_PCNT, STATUS.I_REF for system: FGC, className: lhc_self_pmd, source: RPTE.UA83.RB.A78 at 2021-03-14 18:14:57.640\n",
      "\tQuerying NXCALS signal(s) MB.A8R7:U_DIODE_RB, MB.B8R7:U_DIODE_RB, MB.A9R7:U_DIODE_RB, MB.B9R7:U_DIODE_RB, MB.A10R7:U_DIODE_RB... from 2021-03-14 18:14:07.640 to 2021-03-14 18:23:17.640\n",
      "\tQuerying NXCALS signal(s) DFLAS.7R7.2:U_EARTH_RB, MB.B9R7:U_EARTH_RB, MB.A9R7:U_EARTH_RB, MB.B12R7:U_EARTH_RB, MB.A12R7:U_EARTH_RB... from 2021-03-14 18:14:07.640 to 2021-03-14 18:23:17.640\n",
      "\tQuerying PM event timestamps for system: QPS, className: DQAMGNSRB_PMREL, source: * from 2021-03-14 18:14:47.640 to 2021-03-14 18:21:37.640\n",
      "\tQuerying PM event timestamps for system: QPS, className: DQAMCNMB_PMSTD, source: * from 2021-03-14 18:14:47.640 to 2021-03-14 18:15:07.640\n"
     ]
    },
    {
     "data": {
      "application/vnd.jupyter.widget-view+json": {
       "model_id": "19911b1853864705bf6da843d3317e33",
       "version_major": 2,
       "version_minor": 0
      },
      "text/plain": [
       "Querying PM:   0%|          | 0/2 [00:00<?, ?it/s]"
      ]
     },
     "metadata": {},
     "output_type": "display_data"
    },
    {
     "data": {
      "application/vnd.jupyter.widget-view+json": {
       "model_id": "bce7651c63e3446f821bb0257e2bcfad",
       "version_major": 2,
       "version_minor": 0
      },
      "text/plain": [
       "Querying iQPS logic PM:   0%|          | 0/2 [00:00<?, ?it/s]"
      ]
     },
     "metadata": {},
     "output_type": "display_data"
    },
    {
     "name": "stdout",
     "output_type": "stream",
     "text": [
      "\tQuerying PM event timestamps for system: QPS, className: DQAMSNRB, source: RR77.RB.A78 from 2021-03-14 18:14:47.640 to 2021-03-14 18:31:37.640\n",
      "\tQuerying PM event timestamps for system: QPS, className: DQAMSNRB, source: UA83.RB.A78 from 2021-03-14 18:14:47.640 to 2021-03-14 18:31:37.640\n",
      "\tQuerying PM event signal(s) RR77.RB.A78:U_DUMP_RES for system: QPS, className: DQAMSNRB, source: RR77.RB.A78 at 2021-03-14 18:14:57.706\n",
      "\tQuerying PM event signal(s) UA83.RB.A78:U_DUMP_RES for system: QPS, className: DQAMSNRB, source: UA83.RB.A78 at 2021-03-14 18:14:58.201\n",
      "\tQuerying PM event timestamps for system: QPS, className: DQAMCNMB_PMHSU, source: * from 2021-03-14 18:14:47.640 to 2021-03-14 18:23:17.640\n"
     ]
    },
    {
     "data": {
      "application/vnd.jupyter.widget-view+json": {
       "model_id": "b0a67037b432480aa394d881ded9ce84",
       "version_major": 2,
       "version_minor": 0
      },
      "text/plain": [
       "Querying PM:   0%|          | 0/5 [00:00<?, ?it/s]"
      ]
     },
     "metadata": {},
     "output_type": "display_data"
    },
    {
     "name": "stderr",
     "output_type": "stream",
     "text": [
      "\n",
      "A value is trying to be set on a copy of a slice from a DataFrame\n",
      "\n",
      "See the caveats in the documentation: https://pandas.pydata.org/pandas-docs/stable/user_guide/indexing.html#returning-a-view-versus-a-copy\n",
      "\n",
      "A value is trying to be set on a copy of a slice from a DataFrame\n",
      "\n",
      "See the caveats in the documentation: https://pandas.pydata.org/pandas-docs/stable/user_guide/indexing.html#returning-a-view-versus-a-copy\n",
      "\n",
      "A value is trying to be set on a copy of a slice from a DataFrame\n",
      "\n",
      "See the caveats in the documentation: https://pandas.pydata.org/pandas-docs/stable/user_guide/indexing.html#returning-a-view-versus-a-copy\n",
      "\n",
      "A value is trying to be set on a copy of a slice from a DataFrame\n",
      "\n",
      "See the caveats in the documentation: https://pandas.pydata.org/pandas-docs/stable/user_guide/indexing.html#returning-a-view-versus-a-copy\n",
      "\n",
      "A value is trying to be set on a copy of a slice from a DataFrame\n",
      "\n",
      "See the caveats in the documentation: https://pandas.pydata.org/pandas-docs/stable/user_guide/indexing.html#returning-a-view-versus-a-copy\n",
      "\n",
      "A value is trying to be set on a copy of a slice from a DataFrame\n",
      "\n",
      "See the caveats in the documentation: https://pandas.pydata.org/pandas-docs/stable/user_guide/indexing.html#returning-a-view-versus-a-copy\n",
      "\n",
      "A value is trying to be set on a copy of a slice from a DataFrame\n",
      "\n",
      "See the caveats in the documentation: https://pandas.pydata.org/pandas-docs/stable/user_guide/indexing.html#returning-a-view-versus-a-copy\n",
      "\n",
      "A value is trying to be set on a copy of a slice from a DataFrame\n",
      "\n",
      "See the caveats in the documentation: https://pandas.pydata.org/pandas-docs/stable/user_guide/indexing.html#returning-a-view-versus-a-copy\n",
      "\n",
      "A value is trying to be set on a copy of a slice from a DataFrame\n",
      "\n",
      "See the caveats in the documentation: https://pandas.pydata.org/pandas-docs/stable/user_guide/indexing.html#returning-a-view-versus-a-copy\n",
      "\n",
      "A value is trying to be set on a copy of a slice from a DataFrame\n",
      "\n",
      "See the caveats in the documentation: https://pandas.pydata.org/pandas-docs/stable/user_guide/indexing.html#returning-a-view-versus-a-copy\n",
      "\n",
      "A value is trying to be set on a copy of a slice from a DataFrame\n",
      "\n",
      "See the caveats in the documentation: https://pandas.pydata.org/pandas-docs/stable/user_guide/indexing.html#returning-a-view-versus-a-copy\n",
      "\n",
      "A value is trying to be set on a copy of a slice from a DataFrame\n",
      "\n",
      "See the caveats in the documentation: https://pandas.pydata.org/pandas-docs/stable/user_guide/indexing.html#returning-a-view-versus-a-copy\n",
      "\n",
      "A value is trying to be set on a copy of a slice from a DataFrame\n",
      "\n",
      "See the caveats in the documentation: https://pandas.pydata.org/pandas-docs/stable/user_guide/indexing.html#returning-a-view-versus-a-copy\n",
      "\n",
      "A value is trying to be set on a copy of a slice from a DataFrame\n",
      "\n",
      "See the caveats in the documentation: https://pandas.pydata.org/pandas-docs/stable/user_guide/indexing.html#returning-a-view-versus-a-copy\n",
      "\n",
      "A value is trying to be set on a copy of a slice from a DataFrame\n",
      "\n",
      "See the caveats in the documentation: https://pandas.pydata.org/pandas-docs/stable/user_guide/indexing.html#returning-a-view-versus-a-copy\n",
      "\n",
      "A value is trying to be set on a copy of a slice from a DataFrame\n",
      "\n",
      "See the caveats in the documentation: https://pandas.pydata.org/pandas-docs/stable/user_guide/indexing.html#returning-a-view-versus-a-copy\n",
      "\n",
      "A value is trying to be set on a copy of a slice from a DataFrame\n",
      "\n",
      "See the caveats in the documentation: https://pandas.pydata.org/pandas-docs/stable/user_guide/indexing.html#returning-a-view-versus-a-copy\n",
      "\n",
      "A value is trying to be set on a copy of a slice from a DataFrame\n",
      "\n",
      "See the caveats in the documentation: https://pandas.pydata.org/pandas-docs/stable/user_guide/indexing.html#returning-a-view-versus-a-copy\n",
      "\n",
      "A value is trying to be set on a copy of a slice from a DataFrame\n",
      "\n",
      "See the caveats in the documentation: https://pandas.pydata.org/pandas-docs/stable/user_guide/indexing.html#returning-a-view-versus-a-copy\n",
      "\n",
      "A value is trying to be set on a copy of a slice from a DataFrame\n",
      "\n",
      "See the caveats in the documentation: https://pandas.pydata.org/pandas-docs/stable/user_guide/indexing.html#returning-a-view-versus-a-copy\n",
      "\n",
      "A value is trying to be set on a copy of a slice from a DataFrame\n",
      "\n",
      "See the caveats in the documentation: https://pandas.pydata.org/pandas-docs/stable/user_guide/indexing.html#returning-a-view-versus-a-copy\n",
      "\n",
      "A value is trying to be set on a copy of a slice from a DataFrame\n",
      "\n",
      "See the caveats in the documentation: https://pandas.pydata.org/pandas-docs/stable/user_guide/indexing.html#returning-a-view-versus-a-copy\n",
      "\n",
      "A value is trying to be set on a copy of a slice from a DataFrame\n",
      "\n",
      "See the caveats in the documentation: https://pandas.pydata.org/pandas-docs/stable/user_guide/indexing.html#returning-a-view-versus-a-copy\n",
      "\n",
      "A value is trying to be set on a copy of a slice from a DataFrame\n",
      "\n",
      "See the caveats in the documentation: https://pandas.pydata.org/pandas-docs/stable/user_guide/indexing.html#returning-a-view-versus-a-copy\n",
      "\n",
      "A value is trying to be set on a copy of a slice from a DataFrame\n",
      "\n",
      "See the caveats in the documentation: https://pandas.pydata.org/pandas-docs/stable/user_guide/indexing.html#returning-a-view-versus-a-copy\n",
      "\n",
      "A value is trying to be set on a copy of a slice from a DataFrame\n",
      "\n",
      "See the caveats in the documentation: https://pandas.pydata.org/pandas-docs/stable/user_guide/indexing.html#returning-a-view-versus-a-copy\n",
      "\n",
      "A value is trying to be set on a copy of a slice from a DataFrame\n",
      "\n",
      "See the caveats in the documentation: https://pandas.pydata.org/pandas-docs/stable/user_guide/indexing.html#returning-a-view-versus-a-copy\n",
      "\n",
      "A value is trying to be set on a copy of a slice from a DataFrame\n",
      "\n",
      "See the caveats in the documentation: https://pandas.pydata.org/pandas-docs/stable/user_guide/indexing.html#returning-a-view-versus-a-copy\n",
      "\n",
      "A value is trying to be set on a copy of a slice from a DataFrame\n",
      "\n",
      "See the caveats in the documentation: https://pandas.pydata.org/pandas-docs/stable/user_guide/indexing.html#returning-a-view-versus-a-copy\n",
      "\n",
      "A value is trying to be set on a copy of a slice from a DataFrame\n",
      "\n",
      "See the caveats in the documentation: https://pandas.pydata.org/pandas-docs/stable/user_guide/indexing.html#returning-a-view-versus-a-copy\n",
      "\n",
      "A value is trying to be set on a copy of a slice from a DataFrame\n",
      "\n",
      "See the caveats in the documentation: https://pandas.pydata.org/pandas-docs/stable/user_guide/indexing.html#returning-a-view-versus-a-copy\n",
      "\n",
      "A value is trying to be set on a copy of a slice from a DataFrame\n",
      "\n",
      "See the caveats in the documentation: https://pandas.pydata.org/pandas-docs/stable/user_guide/indexing.html#returning-a-view-versus-a-copy\n",
      "\n",
      "A value is trying to be set on a copy of a slice from a DataFrame\n",
      "\n",
      "See the caveats in the documentation: https://pandas.pydata.org/pandas-docs/stable/user_guide/indexing.html#returning-a-view-versus-a-copy\n",
      "\n",
      "A value is trying to be set on a copy of a slice from a DataFrame\n",
      "\n",
      "See the caveats in the documentation: https://pandas.pydata.org/pandas-docs/stable/user_guide/indexing.html#returning-a-view-versus-a-copy\n",
      "\n",
      "A value is trying to be set on a copy of a slice from a DataFrame\n",
      "\n",
      "See the caveats in the documentation: https://pandas.pydata.org/pandas-docs/stable/user_guide/indexing.html#returning-a-view-versus-a-copy\n",
      "\n",
      "A value is trying to be set on a copy of a slice from a DataFrame\n",
      "\n",
      "See the caveats in the documentation: https://pandas.pydata.org/pandas-docs/stable/user_guide/indexing.html#returning-a-view-versus-a-copy\n",
      "\n",
      "A value is trying to be set on a copy of a slice from a DataFrame\n",
      "\n",
      "See the caveats in the documentation: https://pandas.pydata.org/pandas-docs/stable/user_guide/indexing.html#returning-a-view-versus-a-copy\n",
      "\n",
      "A value is trying to be set on a copy of a slice from a DataFrame\n",
      "\n",
      "See the caveats in the documentation: https://pandas.pydata.org/pandas-docs/stable/user_guide/indexing.html#returning-a-view-versus-a-copy\n",
      "\n",
      "A value is trying to be set on a copy of a slice from a DataFrame\n",
      "\n",
      "See the caveats in the documentation: https://pandas.pydata.org/pandas-docs/stable/user_guide/indexing.html#returning-a-view-versus-a-copy\n",
      "\n",
      "A value is trying to be set on a copy of a slice from a DataFrame\n",
      "\n",
      "See the caveats in the documentation: https://pandas.pydata.org/pandas-docs/stable/user_guide/indexing.html#returning-a-view-versus-a-copy\n"
     ]
    },
    {
     "name": "stdout",
     "output_type": "stream",
     "text": [
      "\tQuerying PM event signal(s) STATUS.I_MEAS, IAB.I_A, IEARTH.I_EARTH, STATUS.I_EARTH_PCNT, STATUS.I_REF for system: FGC, className: lhc_self_pmd, source: RPTE.UA83.RB.A78 at 2021-03-15 07:08:36.120\n",
      "\tQuerying NXCALS signal(s) MB.A8R7:U_DIODE_RB, MB.B8R7:U_DIODE_RB, MB.A9R7:U_DIODE_RB, MB.B9R7:U_DIODE_RB, MB.A10R7:U_DIODE_RB... from 2021-03-15 07:07:46.120 to 2021-03-15 07:16:56.120\n",
      "\tQuerying NXCALS signal(s) DFLAS.7R7.2:U_EARTH_RB, MB.B9R7:U_EARTH_RB, MB.A9R7:U_EARTH_RB, MB.B12R7:U_EARTH_RB, MB.A12R7:U_EARTH_RB... from 2021-03-15 07:07:46.120 to 2021-03-15 07:16:56.120\n",
      "\tQuerying PM event timestamps for system: QPS, className: DQAMGNSRB_PMREL, source: * from 2021-03-15 07:08:26.120 to 2021-03-15 07:15:16.120\n",
      "\tQuerying PM event timestamps for system: QPS, className: DQAMCNMB_PMSTD, source: * from 2021-03-15 07:08:26.120 to 2021-03-15 07:08:46.120\n"
     ]
    },
    {
     "data": {
      "application/vnd.jupyter.widget-view+json": {
       "model_id": "87818009e5c049838db98c9bda0a2b83",
       "version_major": 2,
       "version_minor": 0
      },
      "text/plain": [
       "Querying PM:   0%|          | 0/2 [00:00<?, ?it/s]"
      ]
     },
     "metadata": {},
     "output_type": "display_data"
    },
    {
     "data": {
      "application/vnd.jupyter.widget-view+json": {
       "model_id": "c587cae34b0644fbb1b715d08578f19f",
       "version_major": 2,
       "version_minor": 0
      },
      "text/plain": [
       "Querying iQPS logic PM:   0%|          | 0/2 [00:00<?, ?it/s]"
      ]
     },
     "metadata": {},
     "output_type": "display_data"
    },
    {
     "name": "stdout",
     "output_type": "stream",
     "text": [
      "\tQuerying PM event timestamps for system: QPS, className: DQAMSNRB, source: RR77.RB.A78 from 2021-03-15 07:08:26.120 to 2021-03-15 07:25:16.120\n",
      "\tQuerying PM event timestamps for system: QPS, className: DQAMSNRB, source: UA83.RB.A78 from 2021-03-15 07:08:26.120 to 2021-03-15 07:25:16.120\n",
      "\tQuerying PM event signal(s) RR77.RB.A78:U_DUMP_RES for system: QPS, className: DQAMSNRB, source: RR77.RB.A78 at 2021-03-15 07:08:36.196\n",
      "\tQuerying PM event signal(s) UA83.RB.A78:U_DUMP_RES for system: QPS, className: DQAMSNRB, source: UA83.RB.A78 at 2021-03-15 07:08:36.692\n",
      "\tQuerying PM event timestamps for system: QPS, className: DQAMCNMB_PMHSU, source: * from 2021-03-15 07:08:26.120 to 2021-03-15 07:16:56.120\n"
     ]
    },
    {
     "data": {
      "application/vnd.jupyter.widget-view+json": {
       "model_id": "9d3390de1afc41ce9ab3b619c0fe08af",
       "version_major": 2,
       "version_minor": 0
      },
      "text/plain": [
       "Querying PM:   0%|          | 0/4 [00:00<?, ?it/s]"
      ]
     },
     "metadata": {},
     "output_type": "display_data"
    },
    {
     "name": "stderr",
     "output_type": "stream",
     "text": [
      "\n",
      "A value is trying to be set on a copy of a slice from a DataFrame\n",
      "\n",
      "See the caveats in the documentation: https://pandas.pydata.org/pandas-docs/stable/user_guide/indexing.html#returning-a-view-versus-a-copy\n",
      "\n",
      "A value is trying to be set on a copy of a slice from a DataFrame\n",
      "\n",
      "See the caveats in the documentation: https://pandas.pydata.org/pandas-docs/stable/user_guide/indexing.html#returning-a-view-versus-a-copy\n",
      "\n",
      "A value is trying to be set on a copy of a slice from a DataFrame\n",
      "\n",
      "See the caveats in the documentation: https://pandas.pydata.org/pandas-docs/stable/user_guide/indexing.html#returning-a-view-versus-a-copy\n",
      "\n",
      "A value is trying to be set on a copy of a slice from a DataFrame\n",
      "\n",
      "See the caveats in the documentation: https://pandas.pydata.org/pandas-docs/stable/user_guide/indexing.html#returning-a-view-versus-a-copy\n",
      "\n",
      "A value is trying to be set on a copy of a slice from a DataFrame\n",
      "\n",
      "See the caveats in the documentation: https://pandas.pydata.org/pandas-docs/stable/user_guide/indexing.html#returning-a-view-versus-a-copy\n",
      "\n",
      "A value is trying to be set on a copy of a slice from a DataFrame\n",
      "\n",
      "See the caveats in the documentation: https://pandas.pydata.org/pandas-docs/stable/user_guide/indexing.html#returning-a-view-versus-a-copy\n",
      "\n",
      "A value is trying to be set on a copy of a slice from a DataFrame\n",
      "\n",
      "See the caveats in the documentation: https://pandas.pydata.org/pandas-docs/stable/user_guide/indexing.html#returning-a-view-versus-a-copy\n",
      "\n",
      "A value is trying to be set on a copy of a slice from a DataFrame\n",
      "\n",
      "See the caveats in the documentation: https://pandas.pydata.org/pandas-docs/stable/user_guide/indexing.html#returning-a-view-versus-a-copy\n",
      "\n",
      "A value is trying to be set on a copy of a slice from a DataFrame\n",
      "\n",
      "See the caveats in the documentation: https://pandas.pydata.org/pandas-docs/stable/user_guide/indexing.html#returning-a-view-versus-a-copy\n",
      "\n",
      "A value is trying to be set on a copy of a slice from a DataFrame\n",
      "\n",
      "See the caveats in the documentation: https://pandas.pydata.org/pandas-docs/stable/user_guide/indexing.html#returning-a-view-versus-a-copy\n",
      "\n",
      "A value is trying to be set on a copy of a slice from a DataFrame\n",
      "\n",
      "See the caveats in the documentation: https://pandas.pydata.org/pandas-docs/stable/user_guide/indexing.html#returning-a-view-versus-a-copy\n",
      "\n",
      "A value is trying to be set on a copy of a slice from a DataFrame\n",
      "\n",
      "See the caveats in the documentation: https://pandas.pydata.org/pandas-docs/stable/user_guide/indexing.html#returning-a-view-versus-a-copy\n",
      "\n",
      "A value is trying to be set on a copy of a slice from a DataFrame\n",
      "\n",
      "See the caveats in the documentation: https://pandas.pydata.org/pandas-docs/stable/user_guide/indexing.html#returning-a-view-versus-a-copy\n",
      "\n",
      "A value is trying to be set on a copy of a slice from a DataFrame\n",
      "\n",
      "See the caveats in the documentation: https://pandas.pydata.org/pandas-docs/stable/user_guide/indexing.html#returning-a-view-versus-a-copy\n",
      "\n",
      "A value is trying to be set on a copy of a slice from a DataFrame\n",
      "\n",
      "See the caveats in the documentation: https://pandas.pydata.org/pandas-docs/stable/user_guide/indexing.html#returning-a-view-versus-a-copy\n",
      "\n",
      "A value is trying to be set on a copy of a slice from a DataFrame\n",
      "\n",
      "See the caveats in the documentation: https://pandas.pydata.org/pandas-docs/stable/user_guide/indexing.html#returning-a-view-versus-a-copy\n",
      "\n",
      "A value is trying to be set on a copy of a slice from a DataFrame\n",
      "\n",
      "See the caveats in the documentation: https://pandas.pydata.org/pandas-docs/stable/user_guide/indexing.html#returning-a-view-versus-a-copy\n",
      "\n",
      "A value is trying to be set on a copy of a slice from a DataFrame\n",
      "\n",
      "See the caveats in the documentation: https://pandas.pydata.org/pandas-docs/stable/user_guide/indexing.html#returning-a-view-versus-a-copy\n",
      "\n",
      "A value is trying to be set on a copy of a slice from a DataFrame\n",
      "\n",
      "See the caveats in the documentation: https://pandas.pydata.org/pandas-docs/stable/user_guide/indexing.html#returning-a-view-versus-a-copy\n",
      "\n",
      "A value is trying to be set on a copy of a slice from a DataFrame\n",
      "\n",
      "See the caveats in the documentation: https://pandas.pydata.org/pandas-docs/stable/user_guide/indexing.html#returning-a-view-versus-a-copy\n",
      "\n",
      "A value is trying to be set on a copy of a slice from a DataFrame\n",
      "\n",
      "See the caveats in the documentation: https://pandas.pydata.org/pandas-docs/stable/user_guide/indexing.html#returning-a-view-versus-a-copy\n",
      "\n",
      "A value is trying to be set on a copy of a slice from a DataFrame\n",
      "\n",
      "See the caveats in the documentation: https://pandas.pydata.org/pandas-docs/stable/user_guide/indexing.html#returning-a-view-versus-a-copy\n",
      "\n",
      "A value is trying to be set on a copy of a slice from a DataFrame\n",
      "\n",
      "See the caveats in the documentation: https://pandas.pydata.org/pandas-docs/stable/user_guide/indexing.html#returning-a-view-versus-a-copy\n",
      "\n",
      "A value is trying to be set on a copy of a slice from a DataFrame\n",
      "\n",
      "See the caveats in the documentation: https://pandas.pydata.org/pandas-docs/stable/user_guide/indexing.html#returning-a-view-versus-a-copy\n"
     ]
    },
    {
     "name": "stdout",
     "output_type": "stream",
     "text": [
      "\tQuerying PM event signal(s) STATUS.I_MEAS, IAB.I_A, IEARTH.I_EARTH, STATUS.I_EARTH_PCNT, STATUS.I_REF for system: FGC, className: lhc_self_pmd, source: RPTE.UA43.RB.A34 at 2021-03-16 21:57:17.080\n",
      "\tQuerying NXCALS signal(s) MB.A8R3:U_DIODE_RB, MB.B8R3:U_DIODE_RB, MB.A9R3:U_DIODE_RB, MB.B9R3:U_DIODE_RB, MB.A10R3:U_DIODE_RB... from 2021-03-16 21:56:27.080 to 2021-03-16 22:05:37.080\n",
      "\tQuerying NXCALS signal(s) MB.A9R3:U_EARTH_RB, DFLAS.7R3.1:U_EARTH_RB, MB.A12R3:U_EARTH_RB, MB.B9R3:U_EARTH_RB, MB.A14R3:U_EARTH_RB... from 2021-03-16 21:56:27.080 to 2021-03-16 22:05:37.080\n",
      "\tQuerying PM event timestamps for system: QPS, className: DQAMGNSRB_PMREL, source: * from 2021-03-16 21:57:07.080 to 2021-03-16 22:03:57.080\n",
      "\tQuerying PM event timestamps for system: QPS, className: DQAMCNMB_PMSTD, source: * from 2021-03-16 21:57:07.080 to 2021-03-16 21:57:27.080\n"
     ]
    },
    {
     "name": "stderr",
     "output_type": "stream",
     "text": [
      "Post Mortem returned no data for the following query: http://pm-rest.cern.ch/v2//pmdata/header/within/duration?system=QPS&className=DQAMGNSRB_PMREL&source=*&fromTimestampInNanos=1615928227080000000&durationInNanos=410000000000\n",
      "Some nQPS PM buffers missing. ['B8R3', 'B9R3', 'B10R3', 'B11R3', 'B12R3', 'B13R3', 'B14R3', 'B15R3', 'B16R3', 'B17R3', 'B18R3', 'B19R3', 'B20R3', 'B21R3', 'B22R3', 'B23R3', 'B24R3', 'B25R3', 'B26R3', 'B27R3', 'B28R3', 'B29R3', 'B30R3', 'B31R3', 'B32R3', 'B33R3', 'B34R3', 'B34L4', 'B33L4', 'B32L4', 'B31L4', 'B30L4', 'B29L4', 'B28L4', 'B27L4', 'B26L4', 'B25L4', 'B24L4', 'B23L4', 'B22L4', 'B21L4', 'B20L4', 'B19L4', 'B18L4', 'B17L4', 'B16L4', 'B15L4', 'B14L4', 'B13L4', 'B12L4', 'B11L4', 'B10L4', 'B9L4', 'B8L4'] not found for RB.A34 within [(10, 's'), (400, 's')] around 1615928237080000000.\n"
     ]
    },
    {
     "data": {
      "application/vnd.jupyter.widget-view+json": {
       "model_id": "e5766e9bb19444c2b89460803aab71c1",
       "version_major": 2,
       "version_minor": 0
      },
      "text/plain": [
       "Querying PM:   0%|          | 0/2 [00:00<?, ?it/s]"
      ]
     },
     "metadata": {},
     "output_type": "display_data"
    },
    {
     "data": {
      "application/vnd.jupyter.widget-view+json": {
       "model_id": "596fad4103774dd2bd02dd7b97ffc318",
       "version_major": 2,
       "version_minor": 0
      },
      "text/plain": [
       "Querying iQPS logic PM:   0%|          | 0/2 [00:00<?, ?it/s]"
      ]
     },
     "metadata": {},
     "output_type": "display_data"
    },
    {
     "name": "stdout",
     "output_type": "stream",
     "text": [
      "\tQuerying PM event timestamps for system: QPS, className: DQAMSNRB, source: UJ33.RB.A34 from 2021-03-16 21:57:07.080 to 2021-03-16 22:13:57.080\n",
      "\tQuerying PM event timestamps for system: QPS, className: DQAMSNRB, source: UA43.RB.A34 from 2021-03-16 21:57:07.080 to 2021-03-16 22:13:57.080\n",
      "\tQuerying PM event signal(s) UJ33.RB.A34:U_DUMP_RES for system: QPS, className: DQAMSNRB, source: UJ33.RB.A34 at 2021-03-16 21:57:17.155\n",
      "\tQuerying PM event signal(s) UA43.RB.A34:U_DUMP_RES for system: QPS, className: DQAMSNRB, source: UA43.RB.A34 at 2021-03-16 21:57:17.652\n",
      "\tQuerying PM event timestamps for system: QPS, className: DQAMCNMB_PMHSU, source: * from 2021-03-16 21:57:07.080 to 2021-03-16 22:05:37.080\n"
     ]
    },
    {
     "data": {
      "application/vnd.jupyter.widget-view+json": {
       "model_id": "5aa93629a593450bbbd854495072f898",
       "version_major": 2,
       "version_minor": 0
      },
      "text/plain": [
       "Querying PM:   0%|          | 0/1 [00:00<?, ?it/s]"
      ]
     },
     "metadata": {},
     "output_type": "display_data"
    },
    {
     "name": "stdout",
     "output_type": "stream",
     "text": [
      "\tQuerying PM event signal(s) STATUS.I_MEAS, IAB.I_A, IEARTH.I_EARTH, STATUS.I_EARTH_PCNT, STATUS.I_REF for system: FGC, className: lhc_self_pmd, source: RPTE.UA83.RB.A78 at 2021-03-26 17:44:29.680\n",
      "\tQuerying NXCALS signal(s) MB.A8R7:U_DIODE_RB, MB.B8R7:U_DIODE_RB, MB.A9R7:U_DIODE_RB, MB.B9R7:U_DIODE_RB, MB.A10R7:U_DIODE_RB... from 2021-03-26 17:43:39.680 to 2021-03-26 17:52:49.680\n",
      "\tQuerying NXCALS signal(s) DFLAS.7R7.2:U_EARTH_RB, MB.B9R7:U_EARTH_RB, MB.A9R7:U_EARTH_RB, MB.B12R7:U_EARTH_RB, MB.A12R7:U_EARTH_RB... from 2021-03-26 17:43:39.680 to 2021-03-26 17:52:49.680\n",
      "\tQuerying PM event timestamps for system: QPS, className: DQAMGNSRB_PMREL, source: * from 2021-03-26 17:44:19.680 to 2021-03-26 17:51:09.680\n",
      "\tQuerying PM event timestamps for system: QPS, className: DQAMCNMB_PMSTD, source: * from 2021-03-26 17:44:19.680 to 2021-03-26 17:44:39.680\n"
     ]
    },
    {
     "data": {
      "application/vnd.jupyter.widget-view+json": {
       "model_id": "fa90dce1b96e4069aed771ff1692af84",
       "version_major": 2,
       "version_minor": 0
      },
      "text/plain": [
       "Querying PM:   0%|          | 0/2 [00:00<?, ?it/s]"
      ]
     },
     "metadata": {},
     "output_type": "display_data"
    },
    {
     "data": {
      "application/vnd.jupyter.widget-view+json": {
       "model_id": "117040b4c55145808b2a17d2248f5c38",
       "version_major": 2,
       "version_minor": 0
      },
      "text/plain": [
       "Querying iQPS logic PM:   0%|          | 0/2 [00:00<?, ?it/s]"
      ]
     },
     "metadata": {},
     "output_type": "display_data"
    },
    {
     "name": "stdout",
     "output_type": "stream",
     "text": [
      "\tQuerying PM event timestamps for system: QPS, className: DQAMSNRB, source: RR77.RB.A78 from 2021-03-26 17:44:19.680 to 2021-03-26 18:01:09.680\n",
      "\tQuerying PM event timestamps for system: QPS, className: DQAMSNRB, source: UA83.RB.A78 from 2021-03-26 17:44:19.680 to 2021-03-26 18:01:09.680\n",
      "\tQuerying PM event signal(s) RR77.RB.A78:U_DUMP_RES for system: QPS, className: DQAMSNRB, source: RR77.RB.A78 at 2021-03-26 17:44:29.750\n",
      "\tQuerying PM event signal(s) UA83.RB.A78:U_DUMP_RES for system: QPS, className: DQAMSNRB, source: UA83.RB.A78 at 2021-03-26 17:44:30.246\n",
      "\tQuerying PM event timestamps for system: QPS, className: DQAMCNMB_PMHSU, source: * from 2021-03-26 17:44:19.680 to 2021-03-26 17:52:49.680\n"
     ]
    },
    {
     "data": {
      "application/vnd.jupyter.widget-view+json": {
       "model_id": "ed2240d6662d4201bff5c09558fc913b",
       "version_major": 2,
       "version_minor": 0
      },
      "text/plain": [
       "Querying PM:   0%|          | 0/6 [00:00<?, ?it/s]"
      ]
     },
     "metadata": {},
     "output_type": "display_data"
    },
    {
     "name": "stdout",
     "output_type": "stream",
     "text": [
      "\tQuerying PM event signal(s) STATUS.I_MEAS, IAB.I_A, IEARTH.I_EARTH, STATUS.I_EARTH_PCNT, STATUS.I_REF for system: FGC, className: lhc_self_pmd, source: RPTE.UA83.RB.A78 at 2021-03-27 07:34:43\n",
      "\tQuerying NXCALS signal(s) MB.A8R7:U_DIODE_RB, MB.B8R7:U_DIODE_RB, MB.A9R7:U_DIODE_RB, MB.B9R7:U_DIODE_RB, MB.A10R7:U_DIODE_RB... from 2021-03-27 07:33:53 to 2021-03-27 07:43:03\n",
      "\tQuerying NXCALS signal(s) DFLAS.7R7.2:U_EARTH_RB, MB.B9R7:U_EARTH_RB, MB.A9R7:U_EARTH_RB, MB.B12R7:U_EARTH_RB, MB.A12R7:U_EARTH_RB... from 2021-03-27 07:33:53 to 2021-03-27 07:43:03\n",
      "\tQuerying PM event timestamps for system: QPS, className: DQAMGNSRB_PMREL, source: * from 2021-03-27 07:34:33 to 2021-03-27 07:41:23\n",
      "\tQuerying PM event timestamps for system: QPS, className: DQAMCNMB_PMSTD, source: * from 2021-03-27 07:34:33 to 2021-03-27 07:34:53\n"
     ]
    },
    {
     "data": {
      "application/vnd.jupyter.widget-view+json": {
       "model_id": "cf1d0e6afce745cba53adda74be3e220",
       "version_major": 2,
       "version_minor": 0
      },
      "text/plain": [
       "Querying PM:   0%|          | 0/4 [00:00<?, ?it/s]"
      ]
     },
     "metadata": {},
     "output_type": "display_data"
    },
    {
     "data": {
      "application/vnd.jupyter.widget-view+json": {
       "model_id": "f5f6e7b6eaaf4bf7a9c71138c9e7cdb2",
       "version_major": 2,
       "version_minor": 0
      },
      "text/plain": [
       "Querying iQPS logic PM:   0%|          | 0/4 [00:00<?, ?it/s]"
      ]
     },
     "metadata": {},
     "output_type": "display_data"
    },
    {
     "name": "stdout",
     "output_type": "stream",
     "text": [
      "\tQuerying PM event timestamps for system: QPS, className: DQAMSNRB, source: RR77.RB.A78 from 2021-03-27 07:34:33 to 2021-03-27 07:51:23\n",
      "\tQuerying PM event timestamps for system: QPS, className: DQAMSNRB, source: UA83.RB.A78 from 2021-03-27 07:34:33 to 2021-03-27 07:51:23\n",
      "\tQuerying PM event signal(s) RR77.RB.A78:U_DUMP_RES for system: QPS, className: DQAMSNRB, source: RR77.RB.A78 at 2021-03-27 07:34:43.058\n"
     ]
    },
    {
     "name": "stderr",
     "output_type": "stream",
     "text": [
      "\n",
      "A value is trying to be set on a copy of a slice from a DataFrame\n",
      "\n",
      "See the caveats in the documentation: https://pandas.pydata.org/pandas-docs/stable/user_guide/indexing.html#returning-a-view-versus-a-copy\n"
     ]
    },
    {
     "name": "stdout",
     "output_type": "stream",
     "text": [
      "\tQuerying PM event signal(s) UA83.RB.A78:U_DUMP_RES for system: QPS, className: DQAMSNRB, source: UA83.RB.A78 at 2021-03-27 07:34:43.556\n",
      "\tQuerying PM event timestamps for system: QPS, className: DQAMCNMB_PMHSU, source: * from 2021-03-27 07:34:33 to 2021-03-27 07:43:03\n"
     ]
    },
    {
     "data": {
      "application/vnd.jupyter.widget-view+json": {
       "model_id": "6e180e8d8c3d4358986ccc0c9de2f806",
       "version_major": 2,
       "version_minor": 0
      },
      "text/plain": [
       "Querying PM:   0%|          | 0/10 [00:00<?, ?it/s]"
      ]
     },
     "metadata": {},
     "output_type": "display_data"
    },
    {
     "name": "stderr",
     "output_type": "stream",
     "text": [
      "\n",
      "A value is trying to be set on a copy of a slice from a DataFrame\n",
      "\n",
      "See the caveats in the documentation: https://pandas.pydata.org/pandas-docs/stable/user_guide/indexing.html#returning-a-view-versus-a-copy\n",
      "\n",
      "A value is trying to be set on a copy of a slice from a DataFrame\n",
      "\n",
      "See the caveats in the documentation: https://pandas.pydata.org/pandas-docs/stable/user_guide/indexing.html#returning-a-view-versus-a-copy\n",
      "\n",
      "A value is trying to be set on a copy of a slice from a DataFrame\n",
      "\n",
      "See the caveats in the documentation: https://pandas.pydata.org/pandas-docs/stable/user_guide/indexing.html#returning-a-view-versus-a-copy\n",
      "\n",
      "A value is trying to be set on a copy of a slice from a DataFrame\n",
      "\n",
      "See the caveats in the documentation: https://pandas.pydata.org/pandas-docs/stable/user_guide/indexing.html#returning-a-view-versus-a-copy\n",
      "\n",
      "A value is trying to be set on a copy of a slice from a DataFrame\n",
      "\n",
      "See the caveats in the documentation: https://pandas.pydata.org/pandas-docs/stable/user_guide/indexing.html#returning-a-view-versus-a-copy\n",
      "\n",
      "A value is trying to be set on a copy of a slice from a DataFrame\n",
      "\n",
      "See the caveats in the documentation: https://pandas.pydata.org/pandas-docs/stable/user_guide/indexing.html#returning-a-view-versus-a-copy\n",
      "\n",
      "A value is trying to be set on a copy of a slice from a DataFrame\n",
      "\n",
      "See the caveats in the documentation: https://pandas.pydata.org/pandas-docs/stable/user_guide/indexing.html#returning-a-view-versus-a-copy\n",
      "\n",
      "A value is trying to be set on a copy of a slice from a DataFrame\n",
      "\n",
      "See the caveats in the documentation: https://pandas.pydata.org/pandas-docs/stable/user_guide/indexing.html#returning-a-view-versus-a-copy\n",
      "\n",
      "A value is trying to be set on a copy of a slice from a DataFrame\n",
      "\n",
      "See the caveats in the documentation: https://pandas.pydata.org/pandas-docs/stable/user_guide/indexing.html#returning-a-view-versus-a-copy\n",
      "\n",
      "A value is trying to be set on a copy of a slice from a DataFrame\n",
      "\n",
      "See the caveats in the documentation: https://pandas.pydata.org/pandas-docs/stable/user_guide/indexing.html#returning-a-view-versus-a-copy\n",
      "\n",
      "A value is trying to be set on a copy of a slice from a DataFrame\n",
      "\n",
      "See the caveats in the documentation: https://pandas.pydata.org/pandas-docs/stable/user_guide/indexing.html#returning-a-view-versus-a-copy\n",
      "\n",
      "A value is trying to be set on a copy of a slice from a DataFrame\n",
      "\n",
      "See the caveats in the documentation: https://pandas.pydata.org/pandas-docs/stable/user_guide/indexing.html#returning-a-view-versus-a-copy\n",
      "\n",
      "A value is trying to be set on a copy of a slice from a DataFrame\n",
      "\n",
      "See the caveats in the documentation: https://pandas.pydata.org/pandas-docs/stable/user_guide/indexing.html#returning-a-view-versus-a-copy\n",
      "\n",
      "A value is trying to be set on a copy of a slice from a DataFrame\n",
      "\n",
      "See the caveats in the documentation: https://pandas.pydata.org/pandas-docs/stable/user_guide/indexing.html#returning-a-view-versus-a-copy\n",
      "\n",
      "A value is trying to be set on a copy of a slice from a DataFrame\n",
      "\n",
      "See the caveats in the documentation: https://pandas.pydata.org/pandas-docs/stable/user_guide/indexing.html#returning-a-view-versus-a-copy\n",
      "\n",
      "A value is trying to be set on a copy of a slice from a DataFrame\n",
      "\n",
      "See the caveats in the documentation: https://pandas.pydata.org/pandas-docs/stable/user_guide/indexing.html#returning-a-view-versus-a-copy\n",
      "\n",
      "A value is trying to be set on a copy of a slice from a DataFrame\n",
      "\n",
      "See the caveats in the documentation: https://pandas.pydata.org/pandas-docs/stable/user_guide/indexing.html#returning-a-view-versus-a-copy\n",
      "\n",
      "A value is trying to be set on a copy of a slice from a DataFrame\n",
      "\n",
      "See the caveats in the documentation: https://pandas.pydata.org/pandas-docs/stable/user_guide/indexing.html#returning-a-view-versus-a-copy\n",
      "\n",
      "A value is trying to be set on a copy of a slice from a DataFrame\n",
      "\n",
      "See the caveats in the documentation: https://pandas.pydata.org/pandas-docs/stable/user_guide/indexing.html#returning-a-view-versus-a-copy\n",
      "\n",
      "A value is trying to be set on a copy of a slice from a DataFrame\n",
      "\n",
      "See the caveats in the documentation: https://pandas.pydata.org/pandas-docs/stable/user_guide/indexing.html#returning-a-view-versus-a-copy\n",
      "\n",
      "A value is trying to be set on a copy of a slice from a DataFrame\n",
      "\n",
      "See the caveats in the documentation: https://pandas.pydata.org/pandas-docs/stable/user_guide/indexing.html#returning-a-view-versus-a-copy\n",
      "\n",
      "A value is trying to be set on a copy of a slice from a DataFrame\n",
      "\n",
      "See the caveats in the documentation: https://pandas.pydata.org/pandas-docs/stable/user_guide/indexing.html#returning-a-view-versus-a-copy\n",
      "\n",
      "A value is trying to be set on a copy of a slice from a DataFrame\n",
      "\n",
      "See the caveats in the documentation: https://pandas.pydata.org/pandas-docs/stable/user_guide/indexing.html#returning-a-view-versus-a-copy\n",
      "\n",
      "A value is trying to be set on a copy of a slice from a DataFrame\n",
      "\n",
      "See the caveats in the documentation: https://pandas.pydata.org/pandas-docs/stable/user_guide/indexing.html#returning-a-view-versus-a-copy\n"
     ]
    },
    {
     "name": "stdout",
     "output_type": "stream",
     "text": [
      "\tQuerying PM event signal(s) STATUS.I_MEAS, IAB.I_A, IEARTH.I_EARTH, STATUS.I_EARTH_PCNT, STATUS.I_REF for system: FGC, className: lhc_self_pmd, source: RPTE.UA43.RB.A34 at 2021-03-27 09:06:14.440\n",
      "\tQuerying NXCALS signal(s) MB.A8R3:U_DIODE_RB, MB.B8R3:U_DIODE_RB, MB.A9R3:U_DIODE_RB, MB.B9R3:U_DIODE_RB, MB.A10R3:U_DIODE_RB... from 2021-03-27 09:05:24.440 to 2021-03-27 09:14:34.440\n",
      "\tQuerying NXCALS signal(s) MB.A9R3:U_EARTH_RB, DFLAS.7R3.1:U_EARTH_RB, MB.A12R3:U_EARTH_RB, MB.B9R3:U_EARTH_RB, MB.A14R3:U_EARTH_RB... from 2021-03-27 09:05:24.440 to 2021-03-27 09:14:34.440\n",
      "\tQuerying PM event timestamps for system: QPS, className: DQAMGNSRB_PMREL, source: * from 2021-03-27 09:06:04.440 to 2021-03-27 09:12:54.440\n",
      "\tQuerying PM event timestamps for system: QPS, className: DQAMCNMB_PMSTD, source: * from 2021-03-27 09:06:04.440 to 2021-03-27 09:06:24.440\n"
     ]
    },
    {
     "data": {
      "application/vnd.jupyter.widget-view+json": {
       "model_id": "d5de6d2bf15c47909366770c3cfbb09f",
       "version_major": 2,
       "version_minor": 0
      },
      "text/plain": [
       "Querying PM:   0%|          | 0/2 [00:00<?, ?it/s]"
      ]
     },
     "metadata": {},
     "output_type": "display_data"
    },
    {
     "data": {
      "application/vnd.jupyter.widget-view+json": {
       "model_id": "beebb22accb243fa86a20f19fb08bcce",
       "version_major": 2,
       "version_minor": 0
      },
      "text/plain": [
       "Querying iQPS logic PM:   0%|          | 0/2 [00:00<?, ?it/s]"
      ]
     },
     "metadata": {},
     "output_type": "display_data"
    },
    {
     "name": "stdout",
     "output_type": "stream",
     "text": [
      "\tQuerying PM event timestamps for system: QPS, className: DQAMSNRB, source: UJ33.RB.A34 from 2021-03-27 09:06:04.440 to 2021-03-27 09:22:54.440\n",
      "\tQuerying PM event timestamps for system: QPS, className: DQAMSNRB, source: UA43.RB.A34 from 2021-03-27 09:06:04.440 to 2021-03-27 09:22:54.440\n",
      "\tQuerying PM event signal(s) UJ33.RB.A34:U_DUMP_RES for system: QPS, className: DQAMSNRB, source: UJ33.RB.A34 at 2021-03-27 09:06:14.501\n",
      "\tQuerying PM event signal(s) UA43.RB.A34:U_DUMP_RES for system: QPS, className: DQAMSNRB, source: UA43.RB.A34 at 2021-03-27 09:06:15.001\n",
      "\tQuerying PM event timestamps for system: QPS, className: DQAMCNMB_PMHSU, source: * from 2021-03-27 09:06:04.440 to 2021-03-27 09:14:34.440\n"
     ]
    },
    {
     "data": {
      "application/vnd.jupyter.widget-view+json": {
       "model_id": "86936cceeee949eaae9c6c95e31c943e",
       "version_major": 2,
       "version_minor": 0
      },
      "text/plain": [
       "Querying PM:   0%|          | 0/3 [00:00<?, ?it/s]"
      ]
     },
     "metadata": {},
     "output_type": "display_data"
    },
    {
     "name": "stdout",
     "output_type": "stream",
     "text": [
      "\tQuerying PM event signal(s) STATUS.I_MEAS, IAB.I_A, IEARTH.I_EARTH, STATUS.I_EARTH_PCNT, STATUS.I_REF for system: FGC, className: lhc_self_pmd, source: RPTE.UA43.RB.A34 at 2021-03-27 18:19:22.720\n",
      "\tQuerying NXCALS signal(s) MB.A8R3:U_DIODE_RB, MB.B8R3:U_DIODE_RB, MB.A9R3:U_DIODE_RB, MB.B9R3:U_DIODE_RB, MB.A10R3:U_DIODE_RB... from 2021-03-27 18:18:32.720 to 2021-03-27 18:27:42.720\n",
      "\tQuerying NXCALS signal(s) MB.A9R3:U_EARTH_RB, DFLAS.7R3.1:U_EARTH_RB, MB.A12R3:U_EARTH_RB, MB.B9R3:U_EARTH_RB, MB.A14R3:U_EARTH_RB... from 2021-03-27 18:18:32.720 to 2021-03-27 18:27:42.720\n",
      "\tQuerying PM event timestamps for system: QPS, className: DQAMGNSRB_PMREL, source: * from 2021-03-27 18:19:12.720 to 2021-03-27 18:26:02.720\n",
      "\tQuerying PM event timestamps for system: QPS, className: DQAMCNMB_PMSTD, source: * from 2021-03-27 18:19:12.720 to 2021-03-27 18:19:32.720\n"
     ]
    },
    {
     "data": {
      "application/vnd.jupyter.widget-view+json": {
       "model_id": "1e9f1f6b22db49cbad72b98fee3833fd",
       "version_major": 2,
       "version_minor": 0
      },
      "text/plain": [
       "Querying PM:   0%|          | 0/2 [00:00<?, ?it/s]"
      ]
     },
     "metadata": {},
     "output_type": "display_data"
    },
    {
     "data": {
      "application/vnd.jupyter.widget-view+json": {
       "model_id": "57615d06e78043e49a1075f5a5adf4af",
       "version_major": 2,
       "version_minor": 0
      },
      "text/plain": [
       "Querying iQPS logic PM:   0%|          | 0/2 [00:00<?, ?it/s]"
      ]
     },
     "metadata": {},
     "output_type": "display_data"
    },
    {
     "name": "stdout",
     "output_type": "stream",
     "text": [
      "\tQuerying PM event timestamps for system: QPS, className: DQAMSNRB, source: UJ33.RB.A34 from 2021-03-27 18:19:12.720 to 2021-03-27 18:36:02.720\n",
      "\tQuerying PM event timestamps for system: QPS, className: DQAMSNRB, source: UA43.RB.A34 from 2021-03-27 18:19:12.720 to 2021-03-27 18:36:02.720\n",
      "\tQuerying PM event signal(s) UJ33.RB.A34:U_DUMP_RES for system: QPS, className: DQAMSNRB, source: UJ33.RB.A34 at 2021-03-27 18:19:22.783\n",
      "\tQuerying PM event signal(s) UA43.RB.A34:U_DUMP_RES for system: QPS, className: DQAMSNRB, source: UA43.RB.A34 at 2021-03-27 18:19:23.280\n"
     ]
    },
    {
     "name": "stderr",
     "output_type": "stream",
     "text": [
      "\n",
      "A value is trying to be set on a copy of a slice from a DataFrame\n",
      "\n",
      "See the caveats in the documentation: https://pandas.pydata.org/pandas-docs/stable/user_guide/indexing.html#returning-a-view-versus-a-copy\n"
     ]
    },
    {
     "name": "stdout",
     "output_type": "stream",
     "text": [
      "\tQuerying PM event timestamps for system: QPS, className: DQAMCNMB_PMHSU, source: * from 2021-03-27 18:19:12.720 to 2021-03-27 18:27:42.720\n"
     ]
    },
    {
     "data": {
      "application/vnd.jupyter.widget-view+json": {
       "model_id": "1b71a4aa8e36409da81fcea88d77bd60",
       "version_major": 2,
       "version_minor": 0
      },
      "text/plain": [
       "Querying PM:   0%|          | 0/3 [00:00<?, ?it/s]"
      ]
     },
     "metadata": {},
     "output_type": "display_data"
    },
    {
     "name": "stderr",
     "output_type": "stream",
     "text": [
      "\n",
      "A value is trying to be set on a copy of a slice from a DataFrame\n",
      "\n",
      "See the caveats in the documentation: https://pandas.pydata.org/pandas-docs/stable/user_guide/indexing.html#returning-a-view-versus-a-copy\n",
      "\n",
      "A value is trying to be set on a copy of a slice from a DataFrame\n",
      "\n",
      "See the caveats in the documentation: https://pandas.pydata.org/pandas-docs/stable/user_guide/indexing.html#returning-a-view-versus-a-copy\n",
      "\n",
      "A value is trying to be set on a copy of a slice from a DataFrame\n",
      "\n",
      "See the caveats in the documentation: https://pandas.pydata.org/pandas-docs/stable/user_guide/indexing.html#returning-a-view-versus-a-copy\n",
      "\n",
      "A value is trying to be set on a copy of a slice from a DataFrame\n",
      "\n",
      "See the caveats in the documentation: https://pandas.pydata.org/pandas-docs/stable/user_guide/indexing.html#returning-a-view-versus-a-copy\n",
      "\n",
      "A value is trying to be set on a copy of a slice from a DataFrame\n",
      "\n",
      "See the caveats in the documentation: https://pandas.pydata.org/pandas-docs/stable/user_guide/indexing.html#returning-a-view-versus-a-copy\n",
      "\n",
      "A value is trying to be set on a copy of a slice from a DataFrame\n",
      "\n",
      "See the caveats in the documentation: https://pandas.pydata.org/pandas-docs/stable/user_guide/indexing.html#returning-a-view-versus-a-copy\n",
      "\n",
      "A value is trying to be set on a copy of a slice from a DataFrame\n",
      "\n",
      "See the caveats in the documentation: https://pandas.pydata.org/pandas-docs/stable/user_guide/indexing.html#returning-a-view-versus-a-copy\n",
      "\n",
      "A value is trying to be set on a copy of a slice from a DataFrame\n",
      "\n",
      "See the caveats in the documentation: https://pandas.pydata.org/pandas-docs/stable/user_guide/indexing.html#returning-a-view-versus-a-copy\n",
      "\n",
      "A value is trying to be set on a copy of a slice from a DataFrame\n",
      "\n",
      "See the caveats in the documentation: https://pandas.pydata.org/pandas-docs/stable/user_guide/indexing.html#returning-a-view-versus-a-copy\n",
      "\n",
      "A value is trying to be set on a copy of a slice from a DataFrame\n",
      "\n",
      "See the caveats in the documentation: https://pandas.pydata.org/pandas-docs/stable/user_guide/indexing.html#returning-a-view-versus-a-copy\n",
      "\n",
      "A value is trying to be set on a copy of a slice from a DataFrame\n",
      "\n",
      "See the caveats in the documentation: https://pandas.pydata.org/pandas-docs/stable/user_guide/indexing.html#returning-a-view-versus-a-copy\n",
      "\n",
      "A value is trying to be set on a copy of a slice from a DataFrame\n",
      "\n",
      "See the caveats in the documentation: https://pandas.pydata.org/pandas-docs/stable/user_guide/indexing.html#returning-a-view-versus-a-copy\n",
      "\n",
      "A value is trying to be set on a copy of a slice from a DataFrame\n",
      "\n",
      "See the caveats in the documentation: https://pandas.pydata.org/pandas-docs/stable/user_guide/indexing.html#returning-a-view-versus-a-copy\n",
      "\n",
      "A value is trying to be set on a copy of a slice from a DataFrame\n",
      "\n",
      "See the caveats in the documentation: https://pandas.pydata.org/pandas-docs/stable/user_guide/indexing.html#returning-a-view-versus-a-copy\n",
      "\n",
      "A value is trying to be set on a copy of a slice from a DataFrame\n",
      "\n",
      "See the caveats in the documentation: https://pandas.pydata.org/pandas-docs/stable/user_guide/indexing.html#returning-a-view-versus-a-copy\n",
      "\n",
      "A value is trying to be set on a copy of a slice from a DataFrame\n",
      "\n",
      "See the caveats in the documentation: https://pandas.pydata.org/pandas-docs/stable/user_guide/indexing.html#returning-a-view-versus-a-copy\n",
      "\n",
      "A value is trying to be set on a copy of a slice from a DataFrame\n",
      "\n",
      "See the caveats in the documentation: https://pandas.pydata.org/pandas-docs/stable/user_guide/indexing.html#returning-a-view-versus-a-copy\n",
      "\n",
      "A value is trying to be set on a copy of a slice from a DataFrame\n",
      "\n",
      "See the caveats in the documentation: https://pandas.pydata.org/pandas-docs/stable/user_guide/indexing.html#returning-a-view-versus-a-copy\n",
      "\n",
      "A value is trying to be set on a copy of a slice from a DataFrame\n",
      "\n",
      "See the caveats in the documentation: https://pandas.pydata.org/pandas-docs/stable/user_guide/indexing.html#returning-a-view-versus-a-copy\n",
      "\n",
      "A value is trying to be set on a copy of a slice from a DataFrame\n",
      "\n",
      "See the caveats in the documentation: https://pandas.pydata.org/pandas-docs/stable/user_guide/indexing.html#returning-a-view-versus-a-copy\n",
      "\n",
      "A value is trying to be set on a copy of a slice from a DataFrame\n",
      "\n",
      "See the caveats in the documentation: https://pandas.pydata.org/pandas-docs/stable/user_guide/indexing.html#returning-a-view-versus-a-copy\n",
      "\n",
      "A value is trying to be set on a copy of a slice from a DataFrame\n",
      "\n",
      "See the caveats in the documentation: https://pandas.pydata.org/pandas-docs/stable/user_guide/indexing.html#returning-a-view-versus-a-copy\n",
      "\n",
      "A value is trying to be set on a copy of a slice from a DataFrame\n",
      "\n",
      "See the caveats in the documentation: https://pandas.pydata.org/pandas-docs/stable/user_guide/indexing.html#returning-a-view-versus-a-copy\n",
      "\n",
      "A value is trying to be set on a copy of a slice from a DataFrame\n",
      "\n",
      "See the caveats in the documentation: https://pandas.pydata.org/pandas-docs/stable/user_guide/indexing.html#returning-a-view-versus-a-copy\n"
     ]
    },
    {
     "name": "stdout",
     "output_type": "stream",
     "text": [
      "\tQuerying PM event signal(s) STATUS.I_MEAS, IAB.I_A, IEARTH.I_EARTH, STATUS.I_EARTH_PCNT, STATUS.I_REF for system: FGC, className: lhc_self_pmd, source: RPTE.UA43.RB.A34 at 2021-03-28 09:41:29.180\n",
      "\tQuerying NXCALS signal(s) MB.A8R3:U_DIODE_RB, MB.B8R3:U_DIODE_RB, MB.A9R3:U_DIODE_RB, MB.B9R3:U_DIODE_RB, MB.A10R3:U_DIODE_RB... from 2021-03-28 09:40:39.180 to 2021-03-28 09:49:49.180\n",
      "\tQuerying NXCALS signal(s) MB.A9R3:U_EARTH_RB, DFLAS.7R3.1:U_EARTH_RB, MB.A12R3:U_EARTH_RB, MB.B9R3:U_EARTH_RB, MB.A14R3:U_EARTH_RB... from 2021-03-28 09:40:39.180 to 2021-03-28 09:49:49.180\n",
      "\tQuerying PM event timestamps for system: QPS, className: DQAMGNSRB_PMREL, source: * from 2021-03-28 09:41:19.180 to 2021-03-28 09:48:09.180\n",
      "\tQuerying PM event timestamps for system: QPS, className: DQAMCNMB_PMSTD, source: * from 2021-03-28 09:41:19.180 to 2021-03-28 09:41:39.180\n"
     ]
    },
    {
     "data": {
      "application/vnd.jupyter.widget-view+json": {
       "model_id": "be809e63686d4c23b4980e9718adac7e",
       "version_major": 2,
       "version_minor": 0
      },
      "text/plain": [
       "Querying PM:   0%|          | 0/4 [00:00<?, ?it/s]"
      ]
     },
     "metadata": {},
     "output_type": "display_data"
    },
    {
     "data": {
      "application/vnd.jupyter.widget-view+json": {
       "model_id": "cdd9c33b5b6d4060b65393813e3a759c",
       "version_major": 2,
       "version_minor": 0
      },
      "text/plain": [
       "Querying iQPS logic PM:   0%|          | 0/4 [00:00<?, ?it/s]"
      ]
     },
     "metadata": {},
     "output_type": "display_data"
    },
    {
     "name": "stdout",
     "output_type": "stream",
     "text": [
      "\tQuerying PM event timestamps for system: QPS, className: DQAMSNRB, source: UJ33.RB.A34 from 2021-03-28 09:41:19.180 to 2021-03-28 09:58:09.180\n",
      "\tQuerying PM event timestamps for system: QPS, className: DQAMSNRB, source: UA43.RB.A34 from 2021-03-28 09:41:19.180 to 2021-03-28 09:58:09.180\n",
      "\tQuerying PM event signal(s) UJ33.RB.A34:U_DUMP_RES for system: QPS, className: DQAMSNRB, source: UJ33.RB.A34 at 2021-03-28 09:41:29.241\n",
      "\tQuerying PM event signal(s) UA43.RB.A34:U_DUMP_RES for system: QPS, className: DQAMSNRB, source: UA43.RB.A34 at 2021-03-28 09:41:29.741\n",
      "\tQuerying PM event timestamps for system: QPS, className: DQAMCNMB_PMHSU, source: * from 2021-03-28 09:41:19.180 to 2021-03-28 09:49:49.180\n"
     ]
    },
    {
     "data": {
      "application/vnd.jupyter.widget-view+json": {
       "model_id": "4a86317efebb4dd3aa16b0f6be0bd237",
       "version_major": 2,
       "version_minor": 0
      },
      "text/plain": [
       "Querying PM:   0%|          | 0/7 [00:00<?, ?it/s]"
      ]
     },
     "metadata": {},
     "output_type": "display_data"
    },
    {
     "name": "stderr",
     "output_type": "stream",
     "text": [
      "\n",
      "A value is trying to be set on a copy of a slice from a DataFrame\n",
      "\n",
      "See the caveats in the documentation: https://pandas.pydata.org/pandas-docs/stable/user_guide/indexing.html#returning-a-view-versus-a-copy\n",
      "\n",
      "A value is trying to be set on a copy of a slice from a DataFrame\n",
      "\n",
      "See the caveats in the documentation: https://pandas.pydata.org/pandas-docs/stable/user_guide/indexing.html#returning-a-view-versus-a-copy\n",
      "\n",
      "A value is trying to be set on a copy of a slice from a DataFrame\n",
      "\n",
      "See the caveats in the documentation: https://pandas.pydata.org/pandas-docs/stable/user_guide/indexing.html#returning-a-view-versus-a-copy\n",
      "\n",
      "A value is trying to be set on a copy of a slice from a DataFrame\n",
      "\n",
      "See the caveats in the documentation: https://pandas.pydata.org/pandas-docs/stable/user_guide/indexing.html#returning-a-view-versus-a-copy\n",
      "\n",
      "A value is trying to be set on a copy of a slice from a DataFrame\n",
      "\n",
      "See the caveats in the documentation: https://pandas.pydata.org/pandas-docs/stable/user_guide/indexing.html#returning-a-view-versus-a-copy\n",
      "\n",
      "A value is trying to be set on a copy of a slice from a DataFrame\n",
      "\n",
      "See the caveats in the documentation: https://pandas.pydata.org/pandas-docs/stable/user_guide/indexing.html#returning-a-view-versus-a-copy\n",
      "\n",
      "A value is trying to be set on a copy of a slice from a DataFrame\n",
      "\n",
      "See the caveats in the documentation: https://pandas.pydata.org/pandas-docs/stable/user_guide/indexing.html#returning-a-view-versus-a-copy\n",
      "\n",
      "A value is trying to be set on a copy of a slice from a DataFrame\n",
      "\n",
      "See the caveats in the documentation: https://pandas.pydata.org/pandas-docs/stable/user_guide/indexing.html#returning-a-view-versus-a-copy\n",
      "\n",
      "A value is trying to be set on a copy of a slice from a DataFrame\n",
      "\n",
      "See the caveats in the documentation: https://pandas.pydata.org/pandas-docs/stable/user_guide/indexing.html#returning-a-view-versus-a-copy\n",
      "\n",
      "A value is trying to be set on a copy of a slice from a DataFrame\n",
      "\n",
      "See the caveats in the documentation: https://pandas.pydata.org/pandas-docs/stable/user_guide/indexing.html#returning-a-view-versus-a-copy\n",
      "\n",
      "A value is trying to be set on a copy of a slice from a DataFrame\n",
      "\n",
      "See the caveats in the documentation: https://pandas.pydata.org/pandas-docs/stable/user_guide/indexing.html#returning-a-view-versus-a-copy\n",
      "\n",
      "A value is trying to be set on a copy of a slice from a DataFrame\n",
      "\n",
      "See the caveats in the documentation: https://pandas.pydata.org/pandas-docs/stable/user_guide/indexing.html#returning-a-view-versus-a-copy\n",
      "\n",
      "A value is trying to be set on a copy of a slice from a DataFrame\n",
      "\n",
      "See the caveats in the documentation: https://pandas.pydata.org/pandas-docs/stable/user_guide/indexing.html#returning-a-view-versus-a-copy\n",
      "\n",
      "A value is trying to be set on a copy of a slice from a DataFrame\n",
      "\n",
      "See the caveats in the documentation: https://pandas.pydata.org/pandas-docs/stable/user_guide/indexing.html#returning-a-view-versus-a-copy\n",
      "\n",
      "A value is trying to be set on a copy of a slice from a DataFrame\n",
      "\n",
      "See the caveats in the documentation: https://pandas.pydata.org/pandas-docs/stable/user_guide/indexing.html#returning-a-view-versus-a-copy\n",
      "\n",
      "A value is trying to be set on a copy of a slice from a DataFrame\n",
      "\n",
      "See the caveats in the documentation: https://pandas.pydata.org/pandas-docs/stable/user_guide/indexing.html#returning-a-view-versus-a-copy\n",
      "\n",
      "A value is trying to be set on a copy of a slice from a DataFrame\n",
      "\n",
      "See the caveats in the documentation: https://pandas.pydata.org/pandas-docs/stable/user_guide/indexing.html#returning-a-view-versus-a-copy\n",
      "\n",
      "A value is trying to be set on a copy of a slice from a DataFrame\n",
      "\n",
      "See the caveats in the documentation: https://pandas.pydata.org/pandas-docs/stable/user_guide/indexing.html#returning-a-view-versus-a-copy\n",
      "\n",
      "A value is trying to be set on a copy of a slice from a DataFrame\n",
      "\n",
      "See the caveats in the documentation: https://pandas.pydata.org/pandas-docs/stable/user_guide/indexing.html#returning-a-view-versus-a-copy\n",
      "\n",
      "A value is trying to be set on a copy of a slice from a DataFrame\n",
      "\n",
      "See the caveats in the documentation: https://pandas.pydata.org/pandas-docs/stable/user_guide/indexing.html#returning-a-view-versus-a-copy\n",
      "\n",
      "A value is trying to be set on a copy of a slice from a DataFrame\n",
      "\n",
      "See the caveats in the documentation: https://pandas.pydata.org/pandas-docs/stable/user_guide/indexing.html#returning-a-view-versus-a-copy\n",
      "\n",
      "A value is trying to be set on a copy of a slice from a DataFrame\n",
      "\n",
      "See the caveats in the documentation: https://pandas.pydata.org/pandas-docs/stable/user_guide/indexing.html#returning-a-view-versus-a-copy\n",
      "\n",
      "A value is trying to be set on a copy of a slice from a DataFrame\n",
      "\n",
      "See the caveats in the documentation: https://pandas.pydata.org/pandas-docs/stable/user_guide/indexing.html#returning-a-view-versus-a-copy\n",
      "\n",
      "A value is trying to be set on a copy of a slice from a DataFrame\n",
      "\n",
      "See the caveats in the documentation: https://pandas.pydata.org/pandas-docs/stable/user_guide/indexing.html#returning-a-view-versus-a-copy\n"
     ]
    },
    {
     "name": "stdout",
     "output_type": "stream",
     "text": [
      "\tQuerying PM event signal(s) STATUS.I_MEAS, IAB.I_A, IEARTH.I_EARTH, STATUS.I_EARTH_PCNT, STATUS.I_REF for system: FGC, className: lhc_self_pmd, source: RPTE.UA83.RB.A78 at 2021-03-28 15:44:46\n",
      "\tQuerying NXCALS signal(s) MB.A8R7:U_DIODE_RB, MB.B8R7:U_DIODE_RB, MB.A9R7:U_DIODE_RB, MB.B9R7:U_DIODE_RB, MB.A10R7:U_DIODE_RB... from 2021-03-28 15:43:56 to 2021-03-28 15:53:06\n",
      "\tQuerying NXCALS signal(s) DFLAS.7R7.2:U_EARTH_RB, MB.B9R7:U_EARTH_RB, MB.A9R7:U_EARTH_RB, MB.B12R7:U_EARTH_RB, MB.A12R7:U_EARTH_RB... from 2021-03-28 15:43:56 to 2021-03-28 15:53:06\n",
      "\tQuerying PM event timestamps for system: QPS, className: DQAMGNSRB_PMREL, source: * from 2021-03-28 15:44:36 to 2021-03-28 15:51:26\n",
      "\tQuerying PM event timestamps for system: QPS, className: DQAMCNMB_PMSTD, source: * from 2021-03-28 15:44:36 to 2021-03-28 15:44:56\n"
     ]
    },
    {
     "data": {
      "application/vnd.jupyter.widget-view+json": {
       "model_id": "e89a605b93ad4402a510a37d25c3528a",
       "version_major": 2,
       "version_minor": 0
      },
      "text/plain": [
       "Querying PM:   0%|          | 0/2 [00:00<?, ?it/s]"
      ]
     },
     "metadata": {},
     "output_type": "display_data"
    },
    {
     "data": {
      "application/vnd.jupyter.widget-view+json": {
       "model_id": "2d5faeafd7094751a39a0a0ea8aa2cdc",
       "version_major": 2,
       "version_minor": 0
      },
      "text/plain": [
       "Querying iQPS logic PM:   0%|          | 0/2 [00:00<?, ?it/s]"
      ]
     },
     "metadata": {},
     "output_type": "display_data"
    },
    {
     "name": "stdout",
     "output_type": "stream",
     "text": [
      "\tQuerying PM event timestamps for system: QPS, className: DQAMSNRB, source: RR77.RB.A78 from 2021-03-28 15:44:36 to 2021-03-28 16:01:26\n",
      "\tQuerying PM event timestamps for system: QPS, className: DQAMSNRB, source: UA83.RB.A78 from 2021-03-28 15:44:36 to 2021-03-28 16:01:26\n",
      "\tQuerying PM event signal(s) RR77.RB.A78:U_DUMP_RES for system: QPS, className: DQAMSNRB, source: RR77.RB.A78 at 2021-03-28 15:44:46.066\n",
      "\tQuerying PM event signal(s) UA83.RB.A78:U_DUMP_RES for system: QPS, className: DQAMSNRB, source: UA83.RB.A78 at 2021-03-28 15:44:46.564\n",
      "\tQuerying PM event timestamps for system: QPS, className: DQAMCNMB_PMHSU, source: * from 2021-03-28 15:44:36 to 2021-03-28 15:53:06\n"
     ]
    },
    {
     "data": {
      "application/vnd.jupyter.widget-view+json": {
       "model_id": "c478497603c74a769a8c304bcd0b8c75",
       "version_major": 2,
       "version_minor": 0
      },
      "text/plain": [
       "Querying PM:   0%|          | 0/4 [00:00<?, ?it/s]"
      ]
     },
     "metadata": {},
     "output_type": "display_data"
    },
    {
     "name": "stdout",
     "output_type": "stream",
     "text": [
      "\tQuerying PM event signal(s) STATUS.I_MEAS, IAB.I_A, IEARTH.I_EARTH, STATUS.I_EARTH_PCNT, STATUS.I_REF for system: FGC, className: lhc_self_pmd, source: RPTE.UA83.RB.A78 at 2021-03-28 22:09:34.400\n",
      "\tQuerying NXCALS signal(s) MB.A8R7:U_DIODE_RB, MB.B8R7:U_DIODE_RB, MB.A9R7:U_DIODE_RB, MB.B9R7:U_DIODE_RB, MB.A10R7:U_DIODE_RB... from 2021-03-28 22:08:44.400 to 2021-03-28 22:17:54.400\n",
      "\tQuerying NXCALS signal(s) DFLAS.7R7.2:U_EARTH_RB, MB.B9R7:U_EARTH_RB, MB.A9R7:U_EARTH_RB, MB.B12R7:U_EARTH_RB, MB.A12R7:U_EARTH_RB... from 2021-03-28 22:08:44.400 to 2021-03-28 22:17:54.400\n",
      "\tQuerying PM event timestamps for system: QPS, className: DQAMGNSRB_PMREL, source: * from 2021-03-28 22:09:24.400 to 2021-03-28 22:16:14.400\n",
      "\tQuerying PM event timestamps for system: QPS, className: DQAMCNMB_PMSTD, source: * from 2021-03-28 22:09:24.400 to 2021-03-28 22:09:44.400\n"
     ]
    },
    {
     "data": {
      "application/vnd.jupyter.widget-view+json": {
       "model_id": "a0345b868e4341df9cd440a3cf4c6ef9",
       "version_major": 2,
       "version_minor": 0
      },
      "text/plain": [
       "Querying PM:   0%|          | 0/2 [00:00<?, ?it/s]"
      ]
     },
     "metadata": {},
     "output_type": "display_data"
    },
    {
     "data": {
      "application/vnd.jupyter.widget-view+json": {
       "model_id": "3428c2aec94141ec9633511c07b2d22e",
       "version_major": 2,
       "version_minor": 0
      },
      "text/plain": [
       "Querying iQPS logic PM:   0%|          | 0/2 [00:00<?, ?it/s]"
      ]
     },
     "metadata": {},
     "output_type": "display_data"
    },
    {
     "name": "stdout",
     "output_type": "stream",
     "text": [
      "\tQuerying PM event timestamps for system: QPS, className: DQAMSNRB, source: RR77.RB.A78 from 2021-03-28 22:09:24.400 to 2021-03-28 22:26:14.400\n",
      "\tQuerying PM event timestamps for system: QPS, className: DQAMSNRB, source: UA83.RB.A78 from 2021-03-28 22:09:24.400 to 2021-03-28 22:26:14.400\n",
      "\tQuerying PM event signal(s) RR77.RB.A78:U_DUMP_RES for system: QPS, className: DQAMSNRB, source: RR77.RB.A78 at 2021-03-28 22:09:34.462\n",
      "\tQuerying PM event signal(s) UA83.RB.A78:U_DUMP_RES for system: QPS, className: DQAMSNRB, source: UA83.RB.A78 at 2021-03-28 22:09:34.960\n",
      "\tQuerying PM event timestamps for system: QPS, className: DQAMCNMB_PMHSU, source: * from 2021-03-28 22:09:24.400 to 2021-03-28 22:17:54.400\n"
     ]
    },
    {
     "data": {
      "application/vnd.jupyter.widget-view+json": {
       "model_id": "a97845d753bb48be9feba4a003e3bdc8",
       "version_major": 2,
       "version_minor": 0
      },
      "text/plain": [
       "Querying PM:   0%|          | 0/5 [00:00<?, ?it/s]"
      ]
     },
     "metadata": {},
     "output_type": "display_data"
    },
    {
     "name": "stderr",
     "output_type": "stream",
     "text": [
      "\n",
      "A value is trying to be set on a copy of a slice from a DataFrame\n",
      "\n",
      "See the caveats in the documentation: https://pandas.pydata.org/pandas-docs/stable/user_guide/indexing.html#returning-a-view-versus-a-copy\n",
      "\n",
      "A value is trying to be set on a copy of a slice from a DataFrame\n",
      "\n",
      "See the caveats in the documentation: https://pandas.pydata.org/pandas-docs/stable/user_guide/indexing.html#returning-a-view-versus-a-copy\n",
      "\n",
      "A value is trying to be set on a copy of a slice from a DataFrame\n",
      "\n",
      "See the caveats in the documentation: https://pandas.pydata.org/pandas-docs/stable/user_guide/indexing.html#returning-a-view-versus-a-copy\n",
      "\n",
      "A value is trying to be set on a copy of a slice from a DataFrame\n",
      "\n",
      "See the caveats in the documentation: https://pandas.pydata.org/pandas-docs/stable/user_guide/indexing.html#returning-a-view-versus-a-copy\n",
      "\n",
      "A value is trying to be set on a copy of a slice from a DataFrame\n",
      "\n",
      "See the caveats in the documentation: https://pandas.pydata.org/pandas-docs/stable/user_guide/indexing.html#returning-a-view-versus-a-copy\n",
      "\n",
      "A value is trying to be set on a copy of a slice from a DataFrame\n",
      "\n",
      "See the caveats in the documentation: https://pandas.pydata.org/pandas-docs/stable/user_guide/indexing.html#returning-a-view-versus-a-copy\n",
      "\n",
      "A value is trying to be set on a copy of a slice from a DataFrame\n",
      "\n",
      "See the caveats in the documentation: https://pandas.pydata.org/pandas-docs/stable/user_guide/indexing.html#returning-a-view-versus-a-copy\n",
      "\n",
      "A value is trying to be set on a copy of a slice from a DataFrame\n",
      "\n",
      "See the caveats in the documentation: https://pandas.pydata.org/pandas-docs/stable/user_guide/indexing.html#returning-a-view-versus-a-copy\n",
      "\n",
      "A value is trying to be set on a copy of a slice from a DataFrame\n",
      "\n",
      "See the caveats in the documentation: https://pandas.pydata.org/pandas-docs/stable/user_guide/indexing.html#returning-a-view-versus-a-copy\n",
      "\n",
      "A value is trying to be set on a copy of a slice from a DataFrame\n",
      "\n",
      "See the caveats in the documentation: https://pandas.pydata.org/pandas-docs/stable/user_guide/indexing.html#returning-a-view-versus-a-copy\n",
      "\n",
      "A value is trying to be set on a copy of a slice from a DataFrame\n",
      "\n",
      "See the caveats in the documentation: https://pandas.pydata.org/pandas-docs/stable/user_guide/indexing.html#returning-a-view-versus-a-copy\n",
      "\n",
      "A value is trying to be set on a copy of a slice from a DataFrame\n",
      "\n",
      "See the caveats in the documentation: https://pandas.pydata.org/pandas-docs/stable/user_guide/indexing.html#returning-a-view-versus-a-copy\n",
      "\n",
      "A value is trying to be set on a copy of a slice from a DataFrame\n",
      "\n",
      "See the caveats in the documentation: https://pandas.pydata.org/pandas-docs/stable/user_guide/indexing.html#returning-a-view-versus-a-copy\n",
      "\n",
      "A value is trying to be set on a copy of a slice from a DataFrame\n",
      "\n",
      "See the caveats in the documentation: https://pandas.pydata.org/pandas-docs/stable/user_guide/indexing.html#returning-a-view-versus-a-copy\n",
      "\n",
      "A value is trying to be set on a copy of a slice from a DataFrame\n",
      "\n",
      "See the caveats in the documentation: https://pandas.pydata.org/pandas-docs/stable/user_guide/indexing.html#returning-a-view-versus-a-copy\n",
      "\n",
      "A value is trying to be set on a copy of a slice from a DataFrame\n",
      "\n",
      "See the caveats in the documentation: https://pandas.pydata.org/pandas-docs/stable/user_guide/indexing.html#returning-a-view-versus-a-copy\n",
      "\n",
      "A value is trying to be set on a copy of a slice from a DataFrame\n",
      "\n",
      "See the caveats in the documentation: https://pandas.pydata.org/pandas-docs/stable/user_guide/indexing.html#returning-a-view-versus-a-copy\n",
      "\n",
      "A value is trying to be set on a copy of a slice from a DataFrame\n",
      "\n",
      "See the caveats in the documentation: https://pandas.pydata.org/pandas-docs/stable/user_guide/indexing.html#returning-a-view-versus-a-copy\n",
      "\n",
      "A value is trying to be set on a copy of a slice from a DataFrame\n",
      "\n",
      "See the caveats in the documentation: https://pandas.pydata.org/pandas-docs/stable/user_guide/indexing.html#returning-a-view-versus-a-copy\n",
      "\n",
      "A value is trying to be set on a copy of a slice from a DataFrame\n",
      "\n",
      "See the caveats in the documentation: https://pandas.pydata.org/pandas-docs/stable/user_guide/indexing.html#returning-a-view-versus-a-copy\n",
      "\n",
      "A value is trying to be set on a copy of a slice from a DataFrame\n",
      "\n",
      "See the caveats in the documentation: https://pandas.pydata.org/pandas-docs/stable/user_guide/indexing.html#returning-a-view-versus-a-copy\n",
      "\n",
      "A value is trying to be set on a copy of a slice from a DataFrame\n",
      "\n",
      "See the caveats in the documentation: https://pandas.pydata.org/pandas-docs/stable/user_guide/indexing.html#returning-a-view-versus-a-copy\n",
      "\n",
      "A value is trying to be set on a copy of a slice from a DataFrame\n",
      "\n",
      "See the caveats in the documentation: https://pandas.pydata.org/pandas-docs/stable/user_guide/indexing.html#returning-a-view-versus-a-copy\n",
      "\n",
      "A value is trying to be set on a copy of a slice from a DataFrame\n",
      "\n",
      "See the caveats in the documentation: https://pandas.pydata.org/pandas-docs/stable/user_guide/indexing.html#returning-a-view-versus-a-copy\n",
      "\n",
      "A value is trying to be set on a copy of a slice from a DataFrame\n",
      "\n",
      "See the caveats in the documentation: https://pandas.pydata.org/pandas-docs/stable/user_guide/indexing.html#returning-a-view-versus-a-copy\n",
      "\n",
      "A value is trying to be set on a copy of a slice from a DataFrame\n",
      "\n",
      "See the caveats in the documentation: https://pandas.pydata.org/pandas-docs/stable/user_guide/indexing.html#returning-a-view-versus-a-copy\n",
      "\n",
      "A value is trying to be set on a copy of a slice from a DataFrame\n",
      "\n",
      "See the caveats in the documentation: https://pandas.pydata.org/pandas-docs/stable/user_guide/indexing.html#returning-a-view-versus-a-copy\n",
      "\n",
      "A value is trying to be set on a copy of a slice from a DataFrame\n",
      "\n",
      "See the caveats in the documentation: https://pandas.pydata.org/pandas-docs/stable/user_guide/indexing.html#returning-a-view-versus-a-copy\n",
      "\n",
      "A value is trying to be set on a copy of a slice from a DataFrame\n",
      "\n",
      "See the caveats in the documentation: https://pandas.pydata.org/pandas-docs/stable/user_guide/indexing.html#returning-a-view-versus-a-copy\n",
      "\n",
      "A value is trying to be set on a copy of a slice from a DataFrame\n",
      "\n",
      "See the caveats in the documentation: https://pandas.pydata.org/pandas-docs/stable/user_guide/indexing.html#returning-a-view-versus-a-copy\n",
      "\n",
      "A value is trying to be set on a copy of a slice from a DataFrame\n",
      "\n",
      "See the caveats in the documentation: https://pandas.pydata.org/pandas-docs/stable/user_guide/indexing.html#returning-a-view-versus-a-copy\n",
      "\n",
      "A value is trying to be set on a copy of a slice from a DataFrame\n",
      "\n",
      "See the caveats in the documentation: https://pandas.pydata.org/pandas-docs/stable/user_guide/indexing.html#returning-a-view-versus-a-copy\n",
      "\n",
      "A value is trying to be set on a copy of a slice from a DataFrame\n",
      "\n",
      "See the caveats in the documentation: https://pandas.pydata.org/pandas-docs/stable/user_guide/indexing.html#returning-a-view-versus-a-copy\n",
      "\n",
      "A value is trying to be set on a copy of a slice from a DataFrame\n",
      "\n",
      "See the caveats in the documentation: https://pandas.pydata.org/pandas-docs/stable/user_guide/indexing.html#returning-a-view-versus-a-copy\n",
      "\n",
      "A value is trying to be set on a copy of a slice from a DataFrame\n",
      "\n",
      "See the caveats in the documentation: https://pandas.pydata.org/pandas-docs/stable/user_guide/indexing.html#returning-a-view-versus-a-copy\n",
      "\n",
      "A value is trying to be set on a copy of a slice from a DataFrame\n",
      "\n",
      "See the caveats in the documentation: https://pandas.pydata.org/pandas-docs/stable/user_guide/indexing.html#returning-a-view-versus-a-copy\n",
      "\n",
      "A value is trying to be set on a copy of a slice from a DataFrame\n",
      "\n",
      "See the caveats in the documentation: https://pandas.pydata.org/pandas-docs/stable/user_guide/indexing.html#returning-a-view-versus-a-copy\n",
      "\n",
      "A value is trying to be set on a copy of a slice from a DataFrame\n",
      "\n",
      "See the caveats in the documentation: https://pandas.pydata.org/pandas-docs/stable/user_guide/indexing.html#returning-a-view-versus-a-copy\n",
      "\n",
      "A value is trying to be set on a copy of a slice from a DataFrame\n",
      "\n",
      "See the caveats in the documentation: https://pandas.pydata.org/pandas-docs/stable/user_guide/indexing.html#returning-a-view-versus-a-copy\n",
      "\n",
      "A value is trying to be set on a copy of a slice from a DataFrame\n",
      "\n",
      "See the caveats in the documentation: https://pandas.pydata.org/pandas-docs/stable/user_guide/indexing.html#returning-a-view-versus-a-copy\n"
     ]
    },
    {
     "name": "stdout",
     "output_type": "stream",
     "text": [
      "\tQuerying PM event signal(s) STATUS.I_MEAS, IAB.I_A, IEARTH.I_EARTH, STATUS.I_EARTH_PCNT, STATUS.I_REF for system: FGC, className: lhc_self_pmd, source: RPTE.UA43.RB.A34 at 2021-03-28 23:08:14.360\n",
      "\tQuerying NXCALS signal(s) MB.A8R3:U_DIODE_RB, MB.B8R3:U_DIODE_RB, MB.A9R3:U_DIODE_RB, MB.B9R3:U_DIODE_RB, MB.A10R3:U_DIODE_RB... from 2021-03-28 23:07:24.360 to 2021-03-28 23:16:34.360\n",
      "\tQuerying NXCALS signal(s) MB.A9R3:U_EARTH_RB, DFLAS.7R3.1:U_EARTH_RB, MB.A12R3:U_EARTH_RB, MB.B9R3:U_EARTH_RB, MB.A14R3:U_EARTH_RB... from 2021-03-28 23:07:24.360 to 2021-03-28 23:16:34.360\n",
      "\tQuerying PM event timestamps for system: QPS, className: DQAMGNSRB_PMREL, source: * from 2021-03-28 23:08:04.360 to 2021-03-28 23:14:54.360\n",
      "\tQuerying PM event timestamps for system: QPS, className: DQAMCNMB_PMSTD, source: * from 2021-03-28 23:08:04.360 to 2021-03-28 23:08:24.360\n"
     ]
    },
    {
     "data": {
      "application/vnd.jupyter.widget-view+json": {
       "model_id": "530b8c8a6f424460bb820b172cc10b2f",
       "version_major": 2,
       "version_minor": 0
      },
      "text/plain": [
       "Querying PM:   0%|          | 0/2 [00:00<?, ?it/s]"
      ]
     },
     "metadata": {},
     "output_type": "display_data"
    },
    {
     "data": {
      "application/vnd.jupyter.widget-view+json": {
       "model_id": "8c7b49ab776f4b5eafae90a391d4a44d",
       "version_major": 2,
       "version_minor": 0
      },
      "text/plain": [
       "Querying iQPS logic PM:   0%|          | 0/2 [00:00<?, ?it/s]"
      ]
     },
     "metadata": {},
     "output_type": "display_data"
    },
    {
     "name": "stdout",
     "output_type": "stream",
     "text": [
      "\tQuerying PM event timestamps for system: QPS, className: DQAMSNRB, source: UJ33.RB.A34 from 2021-03-28 23:08:04.360 to 2021-03-28 23:24:54.360\n",
      "\tQuerying PM event timestamps for system: QPS, className: DQAMSNRB, source: UA43.RB.A34 from 2021-03-28 23:08:04.360 to 2021-03-28 23:24:54.360\n",
      "\tQuerying PM event signal(s) UJ33.RB.A34:U_DUMP_RES for system: QPS, className: DQAMSNRB, source: UJ33.RB.A34 at 2021-03-28 23:08:14.418\n",
      "\tQuerying PM event signal(s) UA43.RB.A34:U_DUMP_RES for system: QPS, className: DQAMSNRB, source: UA43.RB.A34 at 2021-03-28 23:08:14.918\n",
      "\tQuerying PM event timestamps for system: QPS, className: DQAMCNMB_PMHSU, source: * from 2021-03-28 23:08:04.360 to 2021-03-28 23:16:34.360\n"
     ]
    },
    {
     "data": {
      "application/vnd.jupyter.widget-view+json": {
       "model_id": "39e29cae1a6740cc89d6818f3d85e64b",
       "version_major": 2,
       "version_minor": 0
      },
      "text/plain": [
       "Querying PM:   0%|          | 0/4 [00:00<?, ?it/s]"
      ]
     },
     "metadata": {},
     "output_type": "display_data"
    },
    {
     "name": "stdout",
     "output_type": "stream",
     "text": [
      "\tQuerying PM event signal(s) STATUS.I_MEAS, IAB.I_A, IEARTH.I_EARTH, STATUS.I_EARTH_PCNT, STATUS.I_REF for system: FGC, className: lhc_self_pmd, source: RPTE.UA83.RB.A78 at 2021-03-29 07:59:40.340\n",
      "\tQuerying NXCALS signal(s) MB.A8R7:U_DIODE_RB, MB.B8R7:U_DIODE_RB, MB.A9R7:U_DIODE_RB, MB.B9R7:U_DIODE_RB, MB.A10R7:U_DIODE_RB... from 2021-03-29 07:58:50.340 to 2021-03-29 08:08:00.340\n",
      "\tQuerying NXCALS signal(s) DFLAS.7R7.2:U_EARTH_RB, MB.B9R7:U_EARTH_RB, MB.A9R7:U_EARTH_RB, MB.B12R7:U_EARTH_RB, MB.A12R7:U_EARTH_RB... from 2021-03-29 07:58:50.340 to 2021-03-29 08:08:00.340\n",
      "\tQuerying PM event timestamps for system: QPS, className: DQAMGNSRB_PMREL, source: * from 2021-03-29 07:59:30.340 to 2021-03-29 08:06:20.340\n",
      "\tQuerying PM event timestamps for system: QPS, className: DQAMCNMB_PMSTD, source: * from 2021-03-29 07:59:30.340 to 2021-03-29 07:59:50.340\n"
     ]
    },
    {
     "data": {
      "application/vnd.jupyter.widget-view+json": {
       "model_id": "808904213c414d6a865d62f26c645a50",
       "version_major": 2,
       "version_minor": 0
      },
      "text/plain": [
       "Querying PM:   0%|          | 0/2 [00:00<?, ?it/s]"
      ]
     },
     "metadata": {},
     "output_type": "display_data"
    },
    {
     "data": {
      "application/vnd.jupyter.widget-view+json": {
       "model_id": "3d198600401c429380f189193df8df7d",
       "version_major": 2,
       "version_minor": 0
      },
      "text/plain": [
       "Querying iQPS logic PM:   0%|          | 0/2 [00:00<?, ?it/s]"
      ]
     },
     "metadata": {},
     "output_type": "display_data"
    },
    {
     "name": "stdout",
     "output_type": "stream",
     "text": [
      "\tQuerying PM event timestamps for system: QPS, className: DQAMSNRB, source: RR77.RB.A78 from 2021-03-29 07:59:30.340 to 2021-03-29 08:16:20.340\n",
      "\tQuerying PM event timestamps for system: QPS, className: DQAMSNRB, source: UA83.RB.A78 from 2021-03-29 07:59:30.340 to 2021-03-29 08:16:20.340\n",
      "\tQuerying PM event signal(s) RR77.RB.A78:U_DUMP_RES for system: QPS, className: DQAMSNRB, source: RR77.RB.A78 at 2021-03-29 07:59:40.408\n",
      "\tQuerying PM event signal(s) UA83.RB.A78:U_DUMP_RES for system: QPS, className: DQAMSNRB, source: UA83.RB.A78 at 2021-03-29 07:59:40.907\n",
      "\tQuerying PM event timestamps for system: QPS, className: DQAMCNMB_PMHSU, source: * from 2021-03-29 07:59:30.340 to 2021-03-29 08:08:00.340\n"
     ]
    },
    {
     "data": {
      "application/vnd.jupyter.widget-view+json": {
       "model_id": "4e8228e09c244e0d82bd2139a9058709",
       "version_major": 2,
       "version_minor": 0
      },
      "text/plain": [
       "Querying PM:   0%|          | 0/3 [00:00<?, ?it/s]"
      ]
     },
     "metadata": {},
     "output_type": "display_data"
    },
    {
     "name": "stdout",
     "output_type": "stream",
     "text": [
      "\tQuerying PM event signal(s) STATUS.I_MEAS, IAB.I_A, IEARTH.I_EARTH, STATUS.I_EARTH_PCNT, STATUS.I_REF for system: FGC, className: lhc_self_pmd, source: RPTE.UA43.RB.A34 at 2021-03-29 18:28:56.080\n",
      "\tQuerying NXCALS signal(s) MB.A8R3:U_DIODE_RB, MB.B8R3:U_DIODE_RB, MB.A9R3:U_DIODE_RB, MB.B9R3:U_DIODE_RB, MB.A10R3:U_DIODE_RB... from 2021-03-29 18:28:06.080 to 2021-03-29 18:37:16.080\n",
      "\tQuerying NXCALS signal(s) MB.A9R3:U_EARTH_RB, DFLAS.7R3.1:U_EARTH_RB, MB.A12R3:U_EARTH_RB, MB.B9R3:U_EARTH_RB, MB.A14R3:U_EARTH_RB... from 2021-03-29 18:28:06.080 to 2021-03-29 18:37:16.080\n",
      "\tQuerying PM event timestamps for system: QPS, className: DQAMGNSRB_PMREL, source: * from 2021-03-29 18:28:46.080 to 2021-03-29 18:35:36.080\n",
      "\tQuerying PM event timestamps for system: QPS, className: DQAMCNMB_PMSTD, source: * from 2021-03-29 18:28:46.080 to 2021-03-29 18:29:06.080\n"
     ]
    },
    {
     "data": {
      "application/vnd.jupyter.widget-view+json": {
       "model_id": "0823dfbeb77a4cbc8fddbf450bfa182c",
       "version_major": 2,
       "version_minor": 0
      },
      "text/plain": [
       "Querying PM:   0%|          | 0/2 [00:00<?, ?it/s]"
      ]
     },
     "metadata": {},
     "output_type": "display_data"
    },
    {
     "data": {
      "application/vnd.jupyter.widget-view+json": {
       "model_id": "cfdbe7cc09af44f78e2d15af07bf8be5",
       "version_major": 2,
       "version_minor": 0
      },
      "text/plain": [
       "Querying iQPS logic PM:   0%|          | 0/2 [00:00<?, ?it/s]"
      ]
     },
     "metadata": {},
     "output_type": "display_data"
    },
    {
     "name": "stdout",
     "output_type": "stream",
     "text": [
      "\tQuerying PM event timestamps for system: QPS, className: DQAMSNRB, source: UJ33.RB.A34 from 2021-03-29 18:28:46.080 to 2021-03-29 18:45:36.080\n",
      "\tQuerying PM event timestamps for system: QPS, className: DQAMSNRB, source: UA43.RB.A34 from 2021-03-29 18:28:46.080 to 2021-03-29 18:45:36.080\n",
      "\tQuerying PM event signal(s) UJ33.RB.A34:U_DUMP_RES for system: QPS, className: DQAMSNRB, source: UJ33.RB.A34 at 2021-03-29 18:28:56.152\n",
      "\tQuerying PM event signal(s) UA43.RB.A34:U_DUMP_RES for system: QPS, className: DQAMSNRB, source: UA43.RB.A34 at 2021-03-29 18:28:56.648\n"
     ]
    },
    {
     "name": "stderr",
     "output_type": "stream",
     "text": [
      "\n",
      "A value is trying to be set on a copy of a slice from a DataFrame\n",
      "\n",
      "See the caveats in the documentation: https://pandas.pydata.org/pandas-docs/stable/user_guide/indexing.html#returning-a-view-versus-a-copy\n"
     ]
    },
    {
     "name": "stdout",
     "output_type": "stream",
     "text": [
      "\tQuerying PM event timestamps for system: QPS, className: DQAMCNMB_PMHSU, source: * from 2021-03-29 18:28:46.080 to 2021-03-29 18:37:16.080\n"
     ]
    },
    {
     "data": {
      "application/vnd.jupyter.widget-view+json": {
       "model_id": "5fef18ec767049519779d27130d6e223",
       "version_major": 2,
       "version_minor": 0
      },
      "text/plain": [
       "Querying PM:   0%|          | 0/3 [00:00<?, ?it/s]"
      ]
     },
     "metadata": {},
     "output_type": "display_data"
    },
    {
     "name": "stderr",
     "output_type": "stream",
     "text": [
      "\n",
      "A value is trying to be set on a copy of a slice from a DataFrame\n",
      "\n",
      "See the caveats in the documentation: https://pandas.pydata.org/pandas-docs/stable/user_guide/indexing.html#returning-a-view-versus-a-copy\n",
      "\n",
      "A value is trying to be set on a copy of a slice from a DataFrame\n",
      "\n",
      "See the caveats in the documentation: https://pandas.pydata.org/pandas-docs/stable/user_guide/indexing.html#returning-a-view-versus-a-copy\n",
      "\n",
      "A value is trying to be set on a copy of a slice from a DataFrame\n",
      "\n",
      "See the caveats in the documentation: https://pandas.pydata.org/pandas-docs/stable/user_guide/indexing.html#returning-a-view-versus-a-copy\n",
      "\n",
      "A value is trying to be set on a copy of a slice from a DataFrame\n",
      "\n",
      "See the caveats in the documentation: https://pandas.pydata.org/pandas-docs/stable/user_guide/indexing.html#returning-a-view-versus-a-copy\n",
      "\n",
      "A value is trying to be set on a copy of a slice from a DataFrame\n",
      "\n",
      "See the caveats in the documentation: https://pandas.pydata.org/pandas-docs/stable/user_guide/indexing.html#returning-a-view-versus-a-copy\n",
      "\n",
      "A value is trying to be set on a copy of a slice from a DataFrame\n",
      "\n",
      "See the caveats in the documentation: https://pandas.pydata.org/pandas-docs/stable/user_guide/indexing.html#returning-a-view-versus-a-copy\n",
      "\n",
      "A value is trying to be set on a copy of a slice from a DataFrame\n",
      "\n",
      "See the caveats in the documentation: https://pandas.pydata.org/pandas-docs/stable/user_guide/indexing.html#returning-a-view-versus-a-copy\n",
      "\n",
      "A value is trying to be set on a copy of a slice from a DataFrame\n",
      "\n",
      "See the caveats in the documentation: https://pandas.pydata.org/pandas-docs/stable/user_guide/indexing.html#returning-a-view-versus-a-copy\n",
      "\n",
      "A value is trying to be set on a copy of a slice from a DataFrame\n",
      "\n",
      "See the caveats in the documentation: https://pandas.pydata.org/pandas-docs/stable/user_guide/indexing.html#returning-a-view-versus-a-copy\n",
      "\n",
      "A value is trying to be set on a copy of a slice from a DataFrame\n",
      "\n",
      "See the caveats in the documentation: https://pandas.pydata.org/pandas-docs/stable/user_guide/indexing.html#returning-a-view-versus-a-copy\n",
      "\n",
      "A value is trying to be set on a copy of a slice from a DataFrame\n",
      "\n",
      "See the caveats in the documentation: https://pandas.pydata.org/pandas-docs/stable/user_guide/indexing.html#returning-a-view-versus-a-copy\n",
      "\n",
      "A value is trying to be set on a copy of a slice from a DataFrame\n",
      "\n",
      "See the caveats in the documentation: https://pandas.pydata.org/pandas-docs/stable/user_guide/indexing.html#returning-a-view-versus-a-copy\n",
      "\n",
      "A value is trying to be set on a copy of a slice from a DataFrame\n",
      "\n",
      "See the caveats in the documentation: https://pandas.pydata.org/pandas-docs/stable/user_guide/indexing.html#returning-a-view-versus-a-copy\n",
      "\n",
      "A value is trying to be set on a copy of a slice from a DataFrame\n",
      "\n",
      "See the caveats in the documentation: https://pandas.pydata.org/pandas-docs/stable/user_guide/indexing.html#returning-a-view-versus-a-copy\n",
      "\n",
      "A value is trying to be set on a copy of a slice from a DataFrame\n",
      "\n",
      "See the caveats in the documentation: https://pandas.pydata.org/pandas-docs/stable/user_guide/indexing.html#returning-a-view-versus-a-copy\n",
      "\n",
      "A value is trying to be set on a copy of a slice from a DataFrame\n",
      "\n",
      "See the caveats in the documentation: https://pandas.pydata.org/pandas-docs/stable/user_guide/indexing.html#returning-a-view-versus-a-copy\n"
     ]
    },
    {
     "name": "stdout",
     "output_type": "stream",
     "text": [
      "\tQuerying PM event signal(s) STATUS.I_MEAS, IAB.I_A, IEARTH.I_EARTH, STATUS.I_EARTH_PCNT, STATUS.I_REF for system: FGC, className: lhc_self_pmd, source: RPTE.UA83.RB.A78 at 2021-03-29 19:27:43.620\n",
      "\tQuerying NXCALS signal(s) MB.A8R7:U_DIODE_RB, MB.B8R7:U_DIODE_RB, MB.A9R7:U_DIODE_RB, MB.B9R7:U_DIODE_RB, MB.A10R7:U_DIODE_RB... from 2021-03-29 19:26:53.620 to 2021-03-29 19:36:03.620\n",
      "\tQuerying NXCALS signal(s) DFLAS.7R7.2:U_EARTH_RB, MB.B9R7:U_EARTH_RB, MB.A9R7:U_EARTH_RB, MB.B12R7:U_EARTH_RB, MB.A12R7:U_EARTH_RB... from 2021-03-29 19:26:53.620 to 2021-03-29 19:36:03.620\n",
      "\tQuerying PM event timestamps for system: QPS, className: DQAMGNSRB_PMREL, source: * from 2021-03-29 19:27:33.620 to 2021-03-29 19:34:23.620\n",
      "\tQuerying PM event timestamps for system: QPS, className: DQAMCNMB_PMSTD, source: * from 2021-03-29 19:27:33.620 to 2021-03-29 19:27:53.620\n"
     ]
    },
    {
     "data": {
      "application/vnd.jupyter.widget-view+json": {
       "model_id": "bd0ed8813ebf4a73a6434f057a0faa48",
       "version_major": 2,
       "version_minor": 0
      },
      "text/plain": [
       "Querying PM:   0%|          | 0/2 [00:00<?, ?it/s]"
      ]
     },
     "metadata": {},
     "output_type": "display_data"
    },
    {
     "data": {
      "application/vnd.jupyter.widget-view+json": {
       "model_id": "47658fa9a3ec48c3bf6f1fe48bb7a6af",
       "version_major": 2,
       "version_minor": 0
      },
      "text/plain": [
       "Querying iQPS logic PM:   0%|          | 0/2 [00:00<?, ?it/s]"
      ]
     },
     "metadata": {},
     "output_type": "display_data"
    },
    {
     "name": "stdout",
     "output_type": "stream",
     "text": [
      "\tQuerying PM event timestamps for system: QPS, className: DQAMSNRB, source: RR77.RB.A78 from 2021-03-29 19:27:33.620 to 2021-03-29 19:44:23.620\n",
      "\tQuerying PM event timestamps for system: QPS, className: DQAMSNRB, source: UA83.RB.A78 from 2021-03-29 19:27:33.620 to 2021-03-29 19:44:23.620\n",
      "\tQuerying PM event signal(s) RR77.RB.A78:U_DUMP_RES for system: QPS, className: DQAMSNRB, source: RR77.RB.A78 at 2021-03-29 19:27:43.676\n",
      "\tQuerying PM event signal(s) UA83.RB.A78:U_DUMP_RES for system: QPS, className: DQAMSNRB, source: UA83.RB.A78 at 2021-03-29 19:27:44.175\n",
      "\tQuerying PM event timestamps for system: QPS, className: DQAMCNMB_PMHSU, source: * from 2021-03-29 19:27:33.620 to 2021-03-29 19:36:03.620\n"
     ]
    },
    {
     "data": {
      "application/vnd.jupyter.widget-view+json": {
       "model_id": "3cdbf4120d6c41beb4c9f771860c9ec3",
       "version_major": 2,
       "version_minor": 0
      },
      "text/plain": [
       "Querying PM:   0%|          | 0/2 [00:00<?, ?it/s]"
      ]
     },
     "metadata": {},
     "output_type": "display_data"
    },
    {
     "name": "stderr",
     "output_type": "stream",
     "text": [
      "\n",
      "A value is trying to be set on a copy of a slice from a DataFrame\n",
      "\n",
      "See the caveats in the documentation: https://pandas.pydata.org/pandas-docs/stable/user_guide/indexing.html#returning-a-view-versus-a-copy\n",
      "\n",
      "A value is trying to be set on a copy of a slice from a DataFrame\n",
      "\n",
      "See the caveats in the documentation: https://pandas.pydata.org/pandas-docs/stable/user_guide/indexing.html#returning-a-view-versus-a-copy\n",
      "\n",
      "A value is trying to be set on a copy of a slice from a DataFrame\n",
      "\n",
      "See the caveats in the documentation: https://pandas.pydata.org/pandas-docs/stable/user_guide/indexing.html#returning-a-view-versus-a-copy\n",
      "\n",
      "A value is trying to be set on a copy of a slice from a DataFrame\n",
      "\n",
      "See the caveats in the documentation: https://pandas.pydata.org/pandas-docs/stable/user_guide/indexing.html#returning-a-view-versus-a-copy\n",
      "\n",
      "A value is trying to be set on a copy of a slice from a DataFrame\n",
      "\n",
      "See the caveats in the documentation: https://pandas.pydata.org/pandas-docs/stable/user_guide/indexing.html#returning-a-view-versus-a-copy\n",
      "\n",
      "A value is trying to be set on a copy of a slice from a DataFrame\n",
      "\n",
      "See the caveats in the documentation: https://pandas.pydata.org/pandas-docs/stable/user_guide/indexing.html#returning-a-view-versus-a-copy\n",
      "\n",
      "A value is trying to be set on a copy of a slice from a DataFrame\n",
      "\n",
      "See the caveats in the documentation: https://pandas.pydata.org/pandas-docs/stable/user_guide/indexing.html#returning-a-view-versus-a-copy\n",
      "\n",
      "A value is trying to be set on a copy of a slice from a DataFrame\n",
      "\n",
      "See the caveats in the documentation: https://pandas.pydata.org/pandas-docs/stable/user_guide/indexing.html#returning-a-view-versus-a-copy\n",
      "\n",
      "A value is trying to be set on a copy of a slice from a DataFrame\n",
      "\n",
      "See the caveats in the documentation: https://pandas.pydata.org/pandas-docs/stable/user_guide/indexing.html#returning-a-view-versus-a-copy\n",
      "\n",
      "A value is trying to be set on a copy of a slice from a DataFrame\n",
      "\n",
      "See the caveats in the documentation: https://pandas.pydata.org/pandas-docs/stable/user_guide/indexing.html#returning-a-view-versus-a-copy\n",
      "\n",
      "A value is trying to be set on a copy of a slice from a DataFrame\n",
      "\n",
      "See the caveats in the documentation: https://pandas.pydata.org/pandas-docs/stable/user_guide/indexing.html#returning-a-view-versus-a-copy\n",
      "\n",
      "A value is trying to be set on a copy of a slice from a DataFrame\n",
      "\n",
      "See the caveats in the documentation: https://pandas.pydata.org/pandas-docs/stable/user_guide/indexing.html#returning-a-view-versus-a-copy\n",
      "\n",
      "A value is trying to be set on a copy of a slice from a DataFrame\n",
      "\n",
      "See the caveats in the documentation: https://pandas.pydata.org/pandas-docs/stable/user_guide/indexing.html#returning-a-view-versus-a-copy\n",
      "\n",
      "A value is trying to be set on a copy of a slice from a DataFrame\n",
      "\n",
      "See the caveats in the documentation: https://pandas.pydata.org/pandas-docs/stable/user_guide/indexing.html#returning-a-view-versus-a-copy\n",
      "\n",
      "A value is trying to be set on a copy of a slice from a DataFrame\n",
      "\n",
      "See the caveats in the documentation: https://pandas.pydata.org/pandas-docs/stable/user_guide/indexing.html#returning-a-view-versus-a-copy\n",
      "\n",
      "A value is trying to be set on a copy of a slice from a DataFrame\n",
      "\n",
      "See the caveats in the documentation: https://pandas.pydata.org/pandas-docs/stable/user_guide/indexing.html#returning-a-view-versus-a-copy\n"
     ]
    },
    {
     "name": "stdout",
     "output_type": "stream",
     "text": [
      "\tQuerying PM event signal(s) STATUS.I_MEAS, IAB.I_A, IEARTH.I_EARTH, STATUS.I_EARTH_PCNT, STATUS.I_REF for system: FGC, className: lhc_self_pmd, source: RPTE.UA43.RB.A34 at 2021-03-30 07:14:12.900\n",
      "\tQuerying NXCALS signal(s) MB.A8R3:U_DIODE_RB, MB.B8R3:U_DIODE_RB, MB.A9R3:U_DIODE_RB, MB.B9R3:U_DIODE_RB, MB.A10R3:U_DIODE_RB... from 2021-03-30 07:13:22.900 to 2021-03-30 07:22:32.900\n",
      "\tQuerying NXCALS signal(s) MB.A9R3:U_EARTH_RB, DFLAS.7R3.1:U_EARTH_RB, MB.A12R3:U_EARTH_RB, MB.B9R3:U_EARTH_RB, MB.A14R3:U_EARTH_RB... from 2021-03-30 07:13:22.900 to 2021-03-30 07:22:32.900\n",
      "\tQuerying PM event timestamps for system: QPS, className: DQAMGNSRB_PMREL, source: * from 2021-03-30 07:14:02.900 to 2021-03-30 07:20:52.900\n",
      "\tQuerying PM event timestamps for system: QPS, className: DQAMCNMB_PMSTD, source: * from 2021-03-30 07:14:02.900 to 2021-03-30 07:14:22.900\n"
     ]
    },
    {
     "data": {
      "application/vnd.jupyter.widget-view+json": {
       "model_id": "cb6559fbc22d4e19af9fbfcfe1780a07",
       "version_major": 2,
       "version_minor": 0
      },
      "text/plain": [
       "Querying PM:   0%|          | 0/4 [00:00<?, ?it/s]"
      ]
     },
     "metadata": {},
     "output_type": "display_data"
    },
    {
     "data": {
      "application/vnd.jupyter.widget-view+json": {
       "model_id": "12a7d92c264a4e279704fd778dece044",
       "version_major": 2,
       "version_minor": 0
      },
      "text/plain": [
       "Querying iQPS logic PM:   0%|          | 0/4 [00:00<?, ?it/s]"
      ]
     },
     "metadata": {},
     "output_type": "display_data"
    },
    {
     "name": "stdout",
     "output_type": "stream",
     "text": [
      "\tQuerying PM event timestamps for system: QPS, className: DQAMSNRB, source: UJ33.RB.A34 from 2021-03-30 07:14:02.900 to 2021-03-30 07:30:52.900\n",
      "\tQuerying PM event timestamps for system: QPS, className: DQAMSNRB, source: UA43.RB.A34 from 2021-03-30 07:14:02.900 to 2021-03-30 07:30:52.900\n",
      "\tQuerying PM event signal(s) UJ33.RB.A34:U_DUMP_RES for system: QPS, className: DQAMSNRB, source: UJ33.RB.A34 at 2021-03-30 07:14:12.973\n",
      "\tQuerying PM event signal(s) UA43.RB.A34:U_DUMP_RES for system: QPS, className: DQAMSNRB, source: UA43.RB.A34 at 2021-03-30 07:14:13.469\n",
      "\tQuerying PM event timestamps for system: QPS, className: DQAMCNMB_PMHSU, source: * from 2021-03-30 07:14:02.900 to 2021-03-30 07:22:32.900\n"
     ]
    },
    {
     "data": {
      "application/vnd.jupyter.widget-view+json": {
       "model_id": "60f556d9a79a48f7804914e306f6c3a9",
       "version_major": 2,
       "version_minor": 0
      },
      "text/plain": [
       "Querying PM:   0%|          | 0/7 [00:00<?, ?it/s]"
      ]
     },
     "metadata": {},
     "output_type": "display_data"
    },
    {
     "name": "stdout",
     "output_type": "stream",
     "text": [
      "\tQuerying PM event signal(s) STATUS.I_MEAS, IAB.I_A, IEARTH.I_EARTH, STATUS.I_EARTH_PCNT, STATUS.I_REF for system: FGC, className: lhc_self_pmd, source: RPTE.UA83.RB.A78 at 2021-03-30 07:47:12.740\n",
      "\tQuerying NXCALS signal(s) MB.A8R7:U_DIODE_RB, MB.B8R7:U_DIODE_RB, MB.A9R7:U_DIODE_RB, MB.B9R7:U_DIODE_RB, MB.A10R7:U_DIODE_RB... from 2021-03-30 07:46:22.740 to 2021-03-30 07:55:32.740\n",
      "\tQuerying NXCALS signal(s) DFLAS.7R7.2:U_EARTH_RB, MB.B9R7:U_EARTH_RB, MB.A9R7:U_EARTH_RB, MB.B12R7:U_EARTH_RB, MB.A12R7:U_EARTH_RB... from 2021-03-30 07:46:22.740 to 2021-03-30 07:55:32.740\n",
      "\tQuerying PM event timestamps for system: QPS, className: DQAMGNSRB_PMREL, source: * from 2021-03-30 07:47:02.740 to 2021-03-30 07:53:52.740\n",
      "\tQuerying PM event timestamps for system: QPS, className: DQAMCNMB_PMSTD, source: * from 2021-03-30 07:47:02.740 to 2021-03-30 07:47:22.740\n"
     ]
    },
    {
     "data": {
      "application/vnd.jupyter.widget-view+json": {
       "model_id": "12771d89076141bdbc0a88ee58c9aa5c",
       "version_major": 2,
       "version_minor": 0
      },
      "text/plain": [
       "Querying PM:   0%|          | 0/2 [00:00<?, ?it/s]"
      ]
     },
     "metadata": {},
     "output_type": "display_data"
    },
    {
     "data": {
      "application/vnd.jupyter.widget-view+json": {
       "model_id": "4623f243b83545ba9cbc060b8316a778",
       "version_major": 2,
       "version_minor": 0
      },
      "text/plain": [
       "Querying iQPS logic PM:   0%|          | 0/2 [00:00<?, ?it/s]"
      ]
     },
     "metadata": {},
     "output_type": "display_data"
    },
    {
     "name": "stdout",
     "output_type": "stream",
     "text": [
      "\tQuerying PM event timestamps for system: QPS, className: DQAMSNRB, source: RR77.RB.A78 from 2021-03-30 07:47:02.740 to 2021-03-30 08:03:52.740\n",
      "\tQuerying PM event timestamps for system: QPS, className: DQAMSNRB, source: UA83.RB.A78 from 2021-03-30 07:47:02.740 to 2021-03-30 08:03:52.740\n",
      "\tQuerying PM event signal(s) RR77.RB.A78:U_DUMP_RES for system: QPS, className: DQAMSNRB, source: RR77.RB.A78 at 2021-03-30 07:47:12.812\n",
      "\tQuerying PM event signal(s) UA83.RB.A78:U_DUMP_RES for system: QPS, className: DQAMSNRB, source: UA83.RB.A78 at 2021-03-30 07:47:13.311\n",
      "\tQuerying PM event timestamps for system: QPS, className: DQAMCNMB_PMHSU, source: * from 2021-03-30 07:47:02.740 to 2021-03-30 07:55:32.740\n"
     ]
    },
    {
     "data": {
      "application/vnd.jupyter.widget-view+json": {
       "model_id": "6c1ce0d05e174fa0bc457aaeab6b56a4",
       "version_major": 2,
       "version_minor": 0
      },
      "text/plain": [
       "Querying PM:   0%|          | 0/4 [00:00<?, ?it/s]"
      ]
     },
     "metadata": {},
     "output_type": "display_data"
    },
    {
     "name": "stderr",
     "output_type": "stream",
     "text": [
      "\n",
      "A value is trying to be set on a copy of a slice from a DataFrame\n",
      "\n",
      "See the caveats in the documentation: https://pandas.pydata.org/pandas-docs/stable/user_guide/indexing.html#returning-a-view-versus-a-copy\n",
      "\n",
      "A value is trying to be set on a copy of a slice from a DataFrame\n",
      "\n",
      "See the caveats in the documentation: https://pandas.pydata.org/pandas-docs/stable/user_guide/indexing.html#returning-a-view-versus-a-copy\n",
      "\n",
      "A value is trying to be set on a copy of a slice from a DataFrame\n",
      "\n",
      "See the caveats in the documentation: https://pandas.pydata.org/pandas-docs/stable/user_guide/indexing.html#returning-a-view-versus-a-copy\n",
      "\n",
      "A value is trying to be set on a copy of a slice from a DataFrame\n",
      "\n",
      "See the caveats in the documentation: https://pandas.pydata.org/pandas-docs/stable/user_guide/indexing.html#returning-a-view-versus-a-copy\n",
      "\n",
      "A value is trying to be set on a copy of a slice from a DataFrame\n",
      "\n",
      "See the caveats in the documentation: https://pandas.pydata.org/pandas-docs/stable/user_guide/indexing.html#returning-a-view-versus-a-copy\n",
      "\n",
      "A value is trying to be set on a copy of a slice from a DataFrame\n",
      "\n",
      "See the caveats in the documentation: https://pandas.pydata.org/pandas-docs/stable/user_guide/indexing.html#returning-a-view-versus-a-copy\n",
      "\n",
      "A value is trying to be set on a copy of a slice from a DataFrame\n",
      "\n",
      "See the caveats in the documentation: https://pandas.pydata.org/pandas-docs/stable/user_guide/indexing.html#returning-a-view-versus-a-copy\n",
      "\n",
      "A value is trying to be set on a copy of a slice from a DataFrame\n",
      "\n",
      "See the caveats in the documentation: https://pandas.pydata.org/pandas-docs/stable/user_guide/indexing.html#returning-a-view-versus-a-copy\n",
      "\n",
      "A value is trying to be set on a copy of a slice from a DataFrame\n",
      "\n",
      "See the caveats in the documentation: https://pandas.pydata.org/pandas-docs/stable/user_guide/indexing.html#returning-a-view-versus-a-copy\n",
      "\n",
      "A value is trying to be set on a copy of a slice from a DataFrame\n",
      "\n",
      "See the caveats in the documentation: https://pandas.pydata.org/pandas-docs/stable/user_guide/indexing.html#returning-a-view-versus-a-copy\n",
      "\n",
      "A value is trying to be set on a copy of a slice from a DataFrame\n",
      "\n",
      "See the caveats in the documentation: https://pandas.pydata.org/pandas-docs/stable/user_guide/indexing.html#returning-a-view-versus-a-copy\n",
      "\n",
      "A value is trying to be set on a copy of a slice from a DataFrame\n",
      "\n",
      "See the caveats in the documentation: https://pandas.pydata.org/pandas-docs/stable/user_guide/indexing.html#returning-a-view-versus-a-copy\n",
      "\n",
      "A value is trying to be set on a copy of a slice from a DataFrame\n",
      "\n",
      "See the caveats in the documentation: https://pandas.pydata.org/pandas-docs/stable/user_guide/indexing.html#returning-a-view-versus-a-copy\n",
      "\n",
      "A value is trying to be set on a copy of a slice from a DataFrame\n",
      "\n",
      "See the caveats in the documentation: https://pandas.pydata.org/pandas-docs/stable/user_guide/indexing.html#returning-a-view-versus-a-copy\n",
      "\n",
      "A value is trying to be set on a copy of a slice from a DataFrame\n",
      "\n",
      "See the caveats in the documentation: https://pandas.pydata.org/pandas-docs/stable/user_guide/indexing.html#returning-a-view-versus-a-copy\n",
      "\n",
      "A value is trying to be set on a copy of a slice from a DataFrame\n",
      "\n",
      "See the caveats in the documentation: https://pandas.pydata.org/pandas-docs/stable/user_guide/indexing.html#returning-a-view-versus-a-copy\n",
      "\n",
      "A value is trying to be set on a copy of a slice from a DataFrame\n",
      "\n",
      "See the caveats in the documentation: https://pandas.pydata.org/pandas-docs/stable/user_guide/indexing.html#returning-a-view-versus-a-copy\n",
      "\n",
      "A value is trying to be set on a copy of a slice from a DataFrame\n",
      "\n",
      "See the caveats in the documentation: https://pandas.pydata.org/pandas-docs/stable/user_guide/indexing.html#returning-a-view-versus-a-copy\n",
      "\n",
      "A value is trying to be set on a copy of a slice from a DataFrame\n",
      "\n",
      "See the caveats in the documentation: https://pandas.pydata.org/pandas-docs/stable/user_guide/indexing.html#returning-a-view-versus-a-copy\n",
      "\n",
      "A value is trying to be set on a copy of a slice from a DataFrame\n",
      "\n",
      "See the caveats in the documentation: https://pandas.pydata.org/pandas-docs/stable/user_guide/indexing.html#returning-a-view-versus-a-copy\n",
      "\n",
      "A value is trying to be set on a copy of a slice from a DataFrame\n",
      "\n",
      "See the caveats in the documentation: https://pandas.pydata.org/pandas-docs/stable/user_guide/indexing.html#returning-a-view-versus-a-copy\n",
      "\n",
      "A value is trying to be set on a copy of a slice from a DataFrame\n",
      "\n",
      "See the caveats in the documentation: https://pandas.pydata.org/pandas-docs/stable/user_guide/indexing.html#returning-a-view-versus-a-copy\n",
      "\n",
      "A value is trying to be set on a copy of a slice from a DataFrame\n",
      "\n",
      "See the caveats in the documentation: https://pandas.pydata.org/pandas-docs/stable/user_guide/indexing.html#returning-a-view-versus-a-copy\n",
      "\n",
      "A value is trying to be set on a copy of a slice from a DataFrame\n",
      "\n",
      "See the caveats in the documentation: https://pandas.pydata.org/pandas-docs/stable/user_guide/indexing.html#returning-a-view-versus-a-copy\n",
      "\n",
      "A value is trying to be set on a copy of a slice from a DataFrame\n",
      "\n",
      "See the caveats in the documentation: https://pandas.pydata.org/pandas-docs/stable/user_guide/indexing.html#returning-a-view-versus-a-copy\n",
      "\n",
      "A value is trying to be set on a copy of a slice from a DataFrame\n",
      "\n",
      "See the caveats in the documentation: https://pandas.pydata.org/pandas-docs/stable/user_guide/indexing.html#returning-a-view-versus-a-copy\n",
      "\n",
      "A value is trying to be set on a copy of a slice from a DataFrame\n",
      "\n",
      "See the caveats in the documentation: https://pandas.pydata.org/pandas-docs/stable/user_guide/indexing.html#returning-a-view-versus-a-copy\n",
      "\n",
      "A value is trying to be set on a copy of a slice from a DataFrame\n",
      "\n",
      "See the caveats in the documentation: https://pandas.pydata.org/pandas-docs/stable/user_guide/indexing.html#returning-a-view-versus-a-copy\n",
      "\n",
      "A value is trying to be set on a copy of a slice from a DataFrame\n",
      "\n",
      "See the caveats in the documentation: https://pandas.pydata.org/pandas-docs/stable/user_guide/indexing.html#returning-a-view-versus-a-copy\n",
      "\n",
      "A value is trying to be set on a copy of a slice from a DataFrame\n",
      "\n",
      "See the caveats in the documentation: https://pandas.pydata.org/pandas-docs/stable/user_guide/indexing.html#returning-a-view-versus-a-copy\n",
      "\n",
      "A value is trying to be set on a copy of a slice from a DataFrame\n",
      "\n",
      "See the caveats in the documentation: https://pandas.pydata.org/pandas-docs/stable/user_guide/indexing.html#returning-a-view-versus-a-copy\n",
      "\n",
      "A value is trying to be set on a copy of a slice from a DataFrame\n",
      "\n",
      "See the caveats in the documentation: https://pandas.pydata.org/pandas-docs/stable/user_guide/indexing.html#returning-a-view-versus-a-copy\n"
     ]
    },
    {
     "name": "stdout",
     "output_type": "stream",
     "text": [
      "\tQuerying PM event signal(s) STATUS.I_MEAS, IAB.I_A, IEARTH.I_EARTH, STATUS.I_EARTH_PCNT, STATUS.I_REF for system: FGC, className: lhc_self_pmd, source: RPTE.UA43.RB.A34 at 2021-03-30 18:07:45.340\n",
      "\tQuerying NXCALS signal(s) MB.A8R3:U_DIODE_RB, MB.B8R3:U_DIODE_RB, MB.A9R3:U_DIODE_RB, MB.B9R3:U_DIODE_RB, MB.A10R3:U_DIODE_RB... from 2021-03-30 18:06:55.340 to 2021-03-30 18:16:05.340\n",
      "\tQuerying NXCALS signal(s) MB.A9R3:U_EARTH_RB, DFLAS.7R3.1:U_EARTH_RB, MB.A12R3:U_EARTH_RB, MB.B9R3:U_EARTH_RB, MB.A14R3:U_EARTH_RB... from 2021-03-30 18:06:55.340 to 2021-03-30 18:16:05.340\n",
      "\tQuerying PM event timestamps for system: QPS, className: DQAMGNSRB_PMREL, source: * from 2021-03-30 18:07:35.340 to 2021-03-30 18:14:25.340\n",
      "\tQuerying PM event timestamps for system: QPS, className: DQAMCNMB_PMSTD, source: * from 2021-03-30 18:07:35.340 to 2021-03-30 18:07:55.340\n"
     ]
    },
    {
     "data": {
      "application/vnd.jupyter.widget-view+json": {
       "model_id": "b12198d765914e80b3ab14c51d1579a0",
       "version_major": 2,
       "version_minor": 0
      },
      "text/plain": [
       "Querying PM:   0%|          | 0/2 [00:00<?, ?it/s]"
      ]
     },
     "metadata": {},
     "output_type": "display_data"
    },
    {
     "data": {
      "application/vnd.jupyter.widget-view+json": {
       "model_id": "20fa13511e7c45e2972b965eb81b6f73",
       "version_major": 2,
       "version_minor": 0
      },
      "text/plain": [
       "Querying iQPS logic PM:   0%|          | 0/2 [00:00<?, ?it/s]"
      ]
     },
     "metadata": {},
     "output_type": "display_data"
    },
    {
     "name": "stdout",
     "output_type": "stream",
     "text": [
      "\tQuerying PM event timestamps for system: QPS, className: DQAMSNRB, source: UJ33.RB.A34 from 2021-03-30 18:07:35.340 to 2021-03-30 18:24:25.340\n",
      "\tQuerying PM event timestamps for system: QPS, className: DQAMSNRB, source: UA43.RB.A34 from 2021-03-30 18:07:35.340 to 2021-03-30 18:24:25.340\n",
      "\tQuerying PM event signal(s) UJ33.RB.A34:U_DUMP_RES for system: QPS, className: DQAMSNRB, source: UJ33.RB.A34 at 2021-03-30 18:07:45.400\n",
      "\tQuerying PM event signal(s) UA43.RB.A34:U_DUMP_RES for system: QPS, className: DQAMSNRB, source: UA43.RB.A34 at 2021-03-30 18:07:45.897\n",
      "\tQuerying PM event timestamps for system: QPS, className: DQAMCNMB_PMHSU, source: * from 2021-03-30 18:07:35.340 to 2021-03-30 18:16:05.340\n"
     ]
    },
    {
     "data": {
      "application/vnd.jupyter.widget-view+json": {
       "model_id": "c1d17ba5c95b405fa7784be06e212bad",
       "version_major": 2,
       "version_minor": 0
      },
      "text/plain": [
       "Querying PM:   0%|          | 0/4 [00:00<?, ?it/s]"
      ]
     },
     "metadata": {},
     "output_type": "display_data"
    },
    {
     "name": "stderr",
     "output_type": "stream",
     "text": [
      "\n",
      "A value is trying to be set on a copy of a slice from a DataFrame\n",
      "\n",
      "See the caveats in the documentation: https://pandas.pydata.org/pandas-docs/stable/user_guide/indexing.html#returning-a-view-versus-a-copy\n",
      "\n",
      "A value is trying to be set on a copy of a slice from a DataFrame\n",
      "\n",
      "See the caveats in the documentation: https://pandas.pydata.org/pandas-docs/stable/user_guide/indexing.html#returning-a-view-versus-a-copy\n",
      "\n",
      "A value is trying to be set on a copy of a slice from a DataFrame\n",
      "\n",
      "See the caveats in the documentation: https://pandas.pydata.org/pandas-docs/stable/user_guide/indexing.html#returning-a-view-versus-a-copy\n",
      "\n",
      "A value is trying to be set on a copy of a slice from a DataFrame\n",
      "\n",
      "See the caveats in the documentation: https://pandas.pydata.org/pandas-docs/stable/user_guide/indexing.html#returning-a-view-versus-a-copy\n",
      "\n",
      "A value is trying to be set on a copy of a slice from a DataFrame\n",
      "\n",
      "See the caveats in the documentation: https://pandas.pydata.org/pandas-docs/stable/user_guide/indexing.html#returning-a-view-versus-a-copy\n",
      "\n",
      "A value is trying to be set on a copy of a slice from a DataFrame\n",
      "\n",
      "See the caveats in the documentation: https://pandas.pydata.org/pandas-docs/stable/user_guide/indexing.html#returning-a-view-versus-a-copy\n",
      "\n",
      "A value is trying to be set on a copy of a slice from a DataFrame\n",
      "\n",
      "See the caveats in the documentation: https://pandas.pydata.org/pandas-docs/stable/user_guide/indexing.html#returning-a-view-versus-a-copy\n",
      "\n",
      "A value is trying to be set on a copy of a slice from a DataFrame\n",
      "\n",
      "See the caveats in the documentation: https://pandas.pydata.org/pandas-docs/stable/user_guide/indexing.html#returning-a-view-versus-a-copy\n",
      "\n",
      "A value is trying to be set on a copy of a slice from a DataFrame\n",
      "\n",
      "See the caveats in the documentation: https://pandas.pydata.org/pandas-docs/stable/user_guide/indexing.html#returning-a-view-versus-a-copy\n",
      "\n",
      "A value is trying to be set on a copy of a slice from a DataFrame\n",
      "\n",
      "See the caveats in the documentation: https://pandas.pydata.org/pandas-docs/stable/user_guide/indexing.html#returning-a-view-versus-a-copy\n",
      "\n",
      "A value is trying to be set on a copy of a slice from a DataFrame\n",
      "\n",
      "See the caveats in the documentation: https://pandas.pydata.org/pandas-docs/stable/user_guide/indexing.html#returning-a-view-versus-a-copy\n",
      "\n",
      "A value is trying to be set on a copy of a slice from a DataFrame\n",
      "\n",
      "See the caveats in the documentation: https://pandas.pydata.org/pandas-docs/stable/user_guide/indexing.html#returning-a-view-versus-a-copy\n",
      "\n",
      "A value is trying to be set on a copy of a slice from a DataFrame\n",
      "\n",
      "See the caveats in the documentation: https://pandas.pydata.org/pandas-docs/stable/user_guide/indexing.html#returning-a-view-versus-a-copy\n",
      "\n",
      "A value is trying to be set on a copy of a slice from a DataFrame\n",
      "\n",
      "See the caveats in the documentation: https://pandas.pydata.org/pandas-docs/stable/user_guide/indexing.html#returning-a-view-versus-a-copy\n",
      "\n",
      "A value is trying to be set on a copy of a slice from a DataFrame\n",
      "\n",
      "See the caveats in the documentation: https://pandas.pydata.org/pandas-docs/stable/user_guide/indexing.html#returning-a-view-versus-a-copy\n",
      "\n",
      "A value is trying to be set on a copy of a slice from a DataFrame\n",
      "\n",
      "See the caveats in the documentation: https://pandas.pydata.org/pandas-docs/stable/user_guide/indexing.html#returning-a-view-versus-a-copy\n",
      "\n",
      "A value is trying to be set on a copy of a slice from a DataFrame\n",
      "\n",
      "See the caveats in the documentation: https://pandas.pydata.org/pandas-docs/stable/user_guide/indexing.html#returning-a-view-versus-a-copy\n",
      "\n",
      "A value is trying to be set on a copy of a slice from a DataFrame\n",
      "\n",
      "See the caveats in the documentation: https://pandas.pydata.org/pandas-docs/stable/user_guide/indexing.html#returning-a-view-versus-a-copy\n",
      "\n",
      "A value is trying to be set on a copy of a slice from a DataFrame\n",
      "\n",
      "See the caveats in the documentation: https://pandas.pydata.org/pandas-docs/stable/user_guide/indexing.html#returning-a-view-versus-a-copy\n",
      "\n",
      "A value is trying to be set on a copy of a slice from a DataFrame\n",
      "\n",
      "See the caveats in the documentation: https://pandas.pydata.org/pandas-docs/stable/user_guide/indexing.html#returning-a-view-versus-a-copy\n",
      "\n",
      "A value is trying to be set on a copy of a slice from a DataFrame\n",
      "\n",
      "See the caveats in the documentation: https://pandas.pydata.org/pandas-docs/stable/user_guide/indexing.html#returning-a-view-versus-a-copy\n",
      "\n",
      "A value is trying to be set on a copy of a slice from a DataFrame\n",
      "\n",
      "See the caveats in the documentation: https://pandas.pydata.org/pandas-docs/stable/user_guide/indexing.html#returning-a-view-versus-a-copy\n",
      "\n",
      "A value is trying to be set on a copy of a slice from a DataFrame\n",
      "\n",
      "See the caveats in the documentation: https://pandas.pydata.org/pandas-docs/stable/user_guide/indexing.html#returning-a-view-versus-a-copy\n",
      "\n",
      "A value is trying to be set on a copy of a slice from a DataFrame\n",
      "\n",
      "See the caveats in the documentation: https://pandas.pydata.org/pandas-docs/stable/user_guide/indexing.html#returning-a-view-versus-a-copy\n",
      "\n",
      "A value is trying to be set on a copy of a slice from a DataFrame\n",
      "\n",
      "See the caveats in the documentation: https://pandas.pydata.org/pandas-docs/stable/user_guide/indexing.html#returning-a-view-versus-a-copy\n",
      "\n",
      "A value is trying to be set on a copy of a slice from a DataFrame\n",
      "\n",
      "See the caveats in the documentation: https://pandas.pydata.org/pandas-docs/stable/user_guide/indexing.html#returning-a-view-versus-a-copy\n",
      "\n",
      "A value is trying to be set on a copy of a slice from a DataFrame\n",
      "\n",
      "See the caveats in the documentation: https://pandas.pydata.org/pandas-docs/stable/user_guide/indexing.html#returning-a-view-versus-a-copy\n",
      "\n",
      "A value is trying to be set on a copy of a slice from a DataFrame\n",
      "\n",
      "See the caveats in the documentation: https://pandas.pydata.org/pandas-docs/stable/user_guide/indexing.html#returning-a-view-versus-a-copy\n",
      "\n",
      "A value is trying to be set on a copy of a slice from a DataFrame\n",
      "\n",
      "See the caveats in the documentation: https://pandas.pydata.org/pandas-docs/stable/user_guide/indexing.html#returning-a-view-versus-a-copy\n",
      "\n",
      "A value is trying to be set on a copy of a slice from a DataFrame\n",
      "\n",
      "See the caveats in the documentation: https://pandas.pydata.org/pandas-docs/stable/user_guide/indexing.html#returning-a-view-versus-a-copy\n",
      "\n",
      "A value is trying to be set on a copy of a slice from a DataFrame\n",
      "\n",
      "See the caveats in the documentation: https://pandas.pydata.org/pandas-docs/stable/user_guide/indexing.html#returning-a-view-versus-a-copy\n",
      "\n",
      "A value is trying to be set on a copy of a slice from a DataFrame\n",
      "\n",
      "See the caveats in the documentation: https://pandas.pydata.org/pandas-docs/stable/user_guide/indexing.html#returning-a-view-versus-a-copy\n"
     ]
    },
    {
     "name": "stdout",
     "output_type": "stream",
     "text": [
      "\tQuerying PM event signal(s) STATUS.I_MEAS, IAB.I_A, IEARTH.I_EARTH, STATUS.I_EARTH_PCNT, STATUS.I_REF for system: FGC, className: lhc_self_pmd, source: RPTE.UA83.RB.A78 at 2021-03-30 18:57:38.120\n",
      "\tQuerying NXCALS signal(s) MB.A8R7:U_DIODE_RB, MB.B8R7:U_DIODE_RB, MB.A9R7:U_DIODE_RB, MB.B9R7:U_DIODE_RB, MB.A10R7:U_DIODE_RB... from 2021-03-30 18:56:48.120 to 2021-03-30 19:05:58.120\n",
      "\tQuerying NXCALS signal(s) DFLAS.7R7.2:U_EARTH_RB, MB.B9R7:U_EARTH_RB, MB.A9R7:U_EARTH_RB, MB.B12R7:U_EARTH_RB, MB.A12R7:U_EARTH_RB... from 2021-03-30 18:56:48.120 to 2021-03-30 19:05:58.120\n",
      "\tQuerying PM event timestamps for system: QPS, className: DQAMGNSRB_PMREL, source: * from 2021-03-30 18:57:28.120 to 2021-03-30 19:04:18.120\n",
      "\tQuerying PM event timestamps for system: QPS, className: DQAMCNMB_PMSTD, source: * from 2021-03-30 18:57:28.120 to 2021-03-30 18:57:48.120\n"
     ]
    },
    {
     "data": {
      "application/vnd.jupyter.widget-view+json": {
       "model_id": "33b31c8ac81d431095ffb598efbc7bc0",
       "version_major": 2,
       "version_minor": 0
      },
      "text/plain": [
       "Querying PM:   0%|          | 0/2 [00:00<?, ?it/s]"
      ]
     },
     "metadata": {},
     "output_type": "display_data"
    },
    {
     "data": {
      "application/vnd.jupyter.widget-view+json": {
       "model_id": "c4edffbf229e4083bc1ebb21e9ad8ea9",
       "version_major": 2,
       "version_minor": 0
      },
      "text/plain": [
       "Querying iQPS logic PM:   0%|          | 0/2 [00:00<?, ?it/s]"
      ]
     },
     "metadata": {},
     "output_type": "display_data"
    },
    {
     "name": "stdout",
     "output_type": "stream",
     "text": [
      "\tQuerying PM event timestamps for system: QPS, className: DQAMSNRB, source: RR77.RB.A78 from 2021-03-30 18:57:28.120 to 2021-03-30 19:14:18.120\n",
      "\tQuerying PM event timestamps for system: QPS, className: DQAMSNRB, source: UA83.RB.A78 from 2021-03-30 18:57:28.120 to 2021-03-30 19:14:18.120\n",
      "\tQuerying PM event signal(s) RR77.RB.A78:U_DUMP_RES for system: QPS, className: DQAMSNRB, source: RR77.RB.A78 at 2021-03-30 18:57:38.177\n"
     ]
    },
    {
     "name": "stderr",
     "output_type": "stream",
     "text": [
      "\n",
      "A value is trying to be set on a copy of a slice from a DataFrame\n",
      "\n",
      "See the caveats in the documentation: https://pandas.pydata.org/pandas-docs/stable/user_guide/indexing.html#returning-a-view-versus-a-copy\n"
     ]
    },
    {
     "name": "stdout",
     "output_type": "stream",
     "text": [
      "\tQuerying PM event signal(s) UA83.RB.A78:U_DUMP_RES for system: QPS, className: DQAMSNRB, source: UA83.RB.A78 at 2021-03-30 18:57:38.673\n",
      "\tQuerying PM event timestamps for system: QPS, className: DQAMCNMB_PMHSU, source: * from 2021-03-30 18:57:28.120 to 2021-03-30 19:05:58.120\n"
     ]
    },
    {
     "data": {
      "application/vnd.jupyter.widget-view+json": {
       "model_id": "407f4a52a3ca436189b1afe855be90ab",
       "version_major": 2,
       "version_minor": 0
      },
      "text/plain": [
       "Querying PM:   0%|          | 0/3 [00:00<?, ?it/s]"
      ]
     },
     "metadata": {},
     "output_type": "display_data"
    },
    {
     "name": "stderr",
     "output_type": "stream",
     "text": [
      "\n",
      "A value is trying to be set on a copy of a slice from a DataFrame\n",
      "\n",
      "See the caveats in the documentation: https://pandas.pydata.org/pandas-docs/stable/user_guide/indexing.html#returning-a-view-versus-a-copy\n",
      "\n",
      "A value is trying to be set on a copy of a slice from a DataFrame\n",
      "\n",
      "See the caveats in the documentation: https://pandas.pydata.org/pandas-docs/stable/user_guide/indexing.html#returning-a-view-versus-a-copy\n",
      "\n",
      "A value is trying to be set on a copy of a slice from a DataFrame\n",
      "\n",
      "See the caveats in the documentation: https://pandas.pydata.org/pandas-docs/stable/user_guide/indexing.html#returning-a-view-versus-a-copy\n",
      "\n",
      "A value is trying to be set on a copy of a slice from a DataFrame\n",
      "\n",
      "See the caveats in the documentation: https://pandas.pydata.org/pandas-docs/stable/user_guide/indexing.html#returning-a-view-versus-a-copy\n",
      "\n",
      "A value is trying to be set on a copy of a slice from a DataFrame\n",
      "\n",
      "See the caveats in the documentation: https://pandas.pydata.org/pandas-docs/stable/user_guide/indexing.html#returning-a-view-versus-a-copy\n",
      "\n",
      "A value is trying to be set on a copy of a slice from a DataFrame\n",
      "\n",
      "See the caveats in the documentation: https://pandas.pydata.org/pandas-docs/stable/user_guide/indexing.html#returning-a-view-versus-a-copy\n",
      "\n",
      "A value is trying to be set on a copy of a slice from a DataFrame\n",
      "\n",
      "See the caveats in the documentation: https://pandas.pydata.org/pandas-docs/stable/user_guide/indexing.html#returning-a-view-versus-a-copy\n",
      "\n",
      "A value is trying to be set on a copy of a slice from a DataFrame\n",
      "\n",
      "See the caveats in the documentation: https://pandas.pydata.org/pandas-docs/stable/user_guide/indexing.html#returning-a-view-versus-a-copy\n"
     ]
    },
    {
     "name": "stdout",
     "output_type": "stream",
     "text": [
      "\tQuerying PM event signal(s) STATUS.I_MEAS, IAB.I_A, IEARTH.I_EARTH, STATUS.I_EARTH_PCNT, STATUS.I_REF for system: FGC, className: lhc_self_pmd, source: RPTE.UA43.RB.A34 at 2021-03-31 07:29:03.820\n",
      "\tQuerying NXCALS signal(s) MB.A8R3:U_DIODE_RB, MB.B8R3:U_DIODE_RB, MB.A9R3:U_DIODE_RB, MB.B9R3:U_DIODE_RB, MB.A10R3:U_DIODE_RB... from 2021-03-31 07:28:13.820 to 2021-03-31 07:37:23.820\n",
      "\tQuerying NXCALS signal(s) MB.A9R3:U_EARTH_RB, DFLAS.7R3.1:U_EARTH_RB, MB.A12R3:U_EARTH_RB, MB.B9R3:U_EARTH_RB, MB.A14R3:U_EARTH_RB... from 2021-03-31 07:28:13.820 to 2021-03-31 07:37:23.820\n",
      "\tQuerying PM event timestamps for system: QPS, className: DQAMGNSRB_PMREL, source: * from 2021-03-31 07:28:53.820 to 2021-03-31 07:35:43.820\n",
      "\tQuerying PM event timestamps for system: QPS, className: DQAMCNMB_PMSTD, source: * from 2021-03-31 07:28:53.820 to 2021-03-31 07:29:13.820\n"
     ]
    },
    {
     "data": {
      "application/vnd.jupyter.widget-view+json": {
       "model_id": "2f1ccc3bd3084a97a3241da1d08840b8",
       "version_major": 2,
       "version_minor": 0
      },
      "text/plain": [
       "Querying PM:   0%|          | 0/2 [00:00<?, ?it/s]"
      ]
     },
     "metadata": {},
     "output_type": "display_data"
    },
    {
     "data": {
      "application/vnd.jupyter.widget-view+json": {
       "model_id": "a55bd6c1762942f2ad2ed856664c92fc",
       "version_major": 2,
       "version_minor": 0
      },
      "text/plain": [
       "Querying iQPS logic PM:   0%|          | 0/2 [00:00<?, ?it/s]"
      ]
     },
     "metadata": {},
     "output_type": "display_data"
    },
    {
     "name": "stdout",
     "output_type": "stream",
     "text": [
      "\tQuerying PM event timestamps for system: QPS, className: DQAMSNRB, source: UJ33.RB.A34 from 2021-03-31 07:28:53.820 to 2021-03-31 07:45:43.820\n",
      "\tQuerying PM event timestamps for system: QPS, className: DQAMSNRB, source: UA43.RB.A34 from 2021-03-31 07:28:53.820 to 2021-03-31 07:45:43.820\n",
      "\tQuerying PM event signal(s) UJ33.RB.A34:U_DUMP_RES for system: QPS, className: DQAMSNRB, source: UJ33.RB.A34 at 2021-03-31 07:29:03.895\n",
      "\tQuerying PM event signal(s) UA43.RB.A34:U_DUMP_RES for system: QPS, className: DQAMSNRB, source: UA43.RB.A34 at 2021-03-31 07:29:04.395\n",
      "\tQuerying PM event timestamps for system: QPS, className: DQAMCNMB_PMHSU, source: * from 2021-03-31 07:28:53.820 to 2021-03-31 07:37:23.820\n"
     ]
    },
    {
     "data": {
      "application/vnd.jupyter.widget-view+json": {
       "model_id": "84bf0a0b36ae4103a23cc622fe7d9e89",
       "version_major": 2,
       "version_minor": 0
      },
      "text/plain": [
       "Querying PM:   0%|          | 0/4 [00:00<?, ?it/s]"
      ]
     },
     "metadata": {},
     "output_type": "display_data"
    },
    {
     "name": "stderr",
     "output_type": "stream",
     "text": [
      "\n",
      "A value is trying to be set on a copy of a slice from a DataFrame\n",
      "\n",
      "See the caveats in the documentation: https://pandas.pydata.org/pandas-docs/stable/user_guide/indexing.html#returning-a-view-versus-a-copy\n",
      "\n",
      "A value is trying to be set on a copy of a slice from a DataFrame\n",
      "\n",
      "See the caveats in the documentation: https://pandas.pydata.org/pandas-docs/stable/user_guide/indexing.html#returning-a-view-versus-a-copy\n",
      "\n",
      "A value is trying to be set on a copy of a slice from a DataFrame\n",
      "\n",
      "See the caveats in the documentation: https://pandas.pydata.org/pandas-docs/stable/user_guide/indexing.html#returning-a-view-versus-a-copy\n",
      "\n",
      "A value is trying to be set on a copy of a slice from a DataFrame\n",
      "\n",
      "See the caveats in the documentation: https://pandas.pydata.org/pandas-docs/stable/user_guide/indexing.html#returning-a-view-versus-a-copy\n",
      "\n",
      "A value is trying to be set on a copy of a slice from a DataFrame\n",
      "\n",
      "See the caveats in the documentation: https://pandas.pydata.org/pandas-docs/stable/user_guide/indexing.html#returning-a-view-versus-a-copy\n",
      "\n",
      "A value is trying to be set on a copy of a slice from a DataFrame\n",
      "\n",
      "See the caveats in the documentation: https://pandas.pydata.org/pandas-docs/stable/user_guide/indexing.html#returning-a-view-versus-a-copy\n",
      "\n",
      "A value is trying to be set on a copy of a slice from a DataFrame\n",
      "\n",
      "See the caveats in the documentation: https://pandas.pydata.org/pandas-docs/stable/user_guide/indexing.html#returning-a-view-versus-a-copy\n",
      "\n",
      "A value is trying to be set on a copy of a slice from a DataFrame\n",
      "\n",
      "See the caveats in the documentation: https://pandas.pydata.org/pandas-docs/stable/user_guide/indexing.html#returning-a-view-versus-a-copy\n",
      "\n",
      "A value is trying to be set on a copy of a slice from a DataFrame\n",
      "\n",
      "See the caveats in the documentation: https://pandas.pydata.org/pandas-docs/stable/user_guide/indexing.html#returning-a-view-versus-a-copy\n",
      "\n",
      "A value is trying to be set on a copy of a slice from a DataFrame\n",
      "\n",
      "See the caveats in the documentation: https://pandas.pydata.org/pandas-docs/stable/user_guide/indexing.html#returning-a-view-versus-a-copy\n",
      "\n",
      "A value is trying to be set on a copy of a slice from a DataFrame\n",
      "\n",
      "See the caveats in the documentation: https://pandas.pydata.org/pandas-docs/stable/user_guide/indexing.html#returning-a-view-versus-a-copy\n",
      "\n",
      "A value is trying to be set on a copy of a slice from a DataFrame\n",
      "\n",
      "See the caveats in the documentation: https://pandas.pydata.org/pandas-docs/stable/user_guide/indexing.html#returning-a-view-versus-a-copy\n",
      "\n",
      "A value is trying to be set on a copy of a slice from a DataFrame\n",
      "\n",
      "See the caveats in the documentation: https://pandas.pydata.org/pandas-docs/stable/user_guide/indexing.html#returning-a-view-versus-a-copy\n",
      "\n",
      "A value is trying to be set on a copy of a slice from a DataFrame\n",
      "\n",
      "See the caveats in the documentation: https://pandas.pydata.org/pandas-docs/stable/user_guide/indexing.html#returning-a-view-versus-a-copy\n",
      "\n",
      "A value is trying to be set on a copy of a slice from a DataFrame\n",
      "\n",
      "See the caveats in the documentation: https://pandas.pydata.org/pandas-docs/stable/user_guide/indexing.html#returning-a-view-versus-a-copy\n",
      "\n",
      "A value is trying to be set on a copy of a slice from a DataFrame\n",
      "\n",
      "See the caveats in the documentation: https://pandas.pydata.org/pandas-docs/stable/user_guide/indexing.html#returning-a-view-versus-a-copy\n",
      "\n",
      "A value is trying to be set on a copy of a slice from a DataFrame\n",
      "\n",
      "See the caveats in the documentation: https://pandas.pydata.org/pandas-docs/stable/user_guide/indexing.html#returning-a-view-versus-a-copy\n",
      "\n",
      "A value is trying to be set on a copy of a slice from a DataFrame\n",
      "\n",
      "See the caveats in the documentation: https://pandas.pydata.org/pandas-docs/stable/user_guide/indexing.html#returning-a-view-versus-a-copy\n",
      "\n",
      "A value is trying to be set on a copy of a slice from a DataFrame\n",
      "\n",
      "See the caveats in the documentation: https://pandas.pydata.org/pandas-docs/stable/user_guide/indexing.html#returning-a-view-versus-a-copy\n",
      "\n",
      "A value is trying to be set on a copy of a slice from a DataFrame\n",
      "\n",
      "See the caveats in the documentation: https://pandas.pydata.org/pandas-docs/stable/user_guide/indexing.html#returning-a-view-versus-a-copy\n",
      "\n",
      "A value is trying to be set on a copy of a slice from a DataFrame\n",
      "\n",
      "See the caveats in the documentation: https://pandas.pydata.org/pandas-docs/stable/user_guide/indexing.html#returning-a-view-versus-a-copy\n",
      "\n",
      "A value is trying to be set on a copy of a slice from a DataFrame\n",
      "\n",
      "See the caveats in the documentation: https://pandas.pydata.org/pandas-docs/stable/user_guide/indexing.html#returning-a-view-versus-a-copy\n",
      "\n",
      "A value is trying to be set on a copy of a slice from a DataFrame\n",
      "\n",
      "See the caveats in the documentation: https://pandas.pydata.org/pandas-docs/stable/user_guide/indexing.html#returning-a-view-versus-a-copy\n",
      "\n",
      "A value is trying to be set on a copy of a slice from a DataFrame\n",
      "\n",
      "See the caveats in the documentation: https://pandas.pydata.org/pandas-docs/stable/user_guide/indexing.html#returning-a-view-versus-a-copy\n",
      "\n",
      "A value is trying to be set on a copy of a slice from a DataFrame\n",
      "\n",
      "See the caveats in the documentation: https://pandas.pydata.org/pandas-docs/stable/user_guide/indexing.html#returning-a-view-versus-a-copy\n",
      "\n",
      "A value is trying to be set on a copy of a slice from a DataFrame\n",
      "\n",
      "See the caveats in the documentation: https://pandas.pydata.org/pandas-docs/stable/user_guide/indexing.html#returning-a-view-versus-a-copy\n",
      "\n",
      "A value is trying to be set on a copy of a slice from a DataFrame\n",
      "\n",
      "See the caveats in the documentation: https://pandas.pydata.org/pandas-docs/stable/user_guide/indexing.html#returning-a-view-versus-a-copy\n",
      "\n",
      "A value is trying to be set on a copy of a slice from a DataFrame\n",
      "\n",
      "See the caveats in the documentation: https://pandas.pydata.org/pandas-docs/stable/user_guide/indexing.html#returning-a-view-versus-a-copy\n",
      "\n",
      "A value is trying to be set on a copy of a slice from a DataFrame\n",
      "\n",
      "See the caveats in the documentation: https://pandas.pydata.org/pandas-docs/stable/user_guide/indexing.html#returning-a-view-versus-a-copy\n",
      "\n",
      "A value is trying to be set on a copy of a slice from a DataFrame\n",
      "\n",
      "See the caveats in the documentation: https://pandas.pydata.org/pandas-docs/stable/user_guide/indexing.html#returning-a-view-versus-a-copy\n",
      "\n",
      "A value is trying to be set on a copy of a slice from a DataFrame\n",
      "\n",
      "See the caveats in the documentation: https://pandas.pydata.org/pandas-docs/stable/user_guide/indexing.html#returning-a-view-versus-a-copy\n",
      "\n",
      "A value is trying to be set on a copy of a slice from a DataFrame\n",
      "\n",
      "See the caveats in the documentation: https://pandas.pydata.org/pandas-docs/stable/user_guide/indexing.html#returning-a-view-versus-a-copy\n"
     ]
    },
    {
     "name": "stdout",
     "output_type": "stream",
     "text": [
      "\tQuerying PM event signal(s) STATUS.I_MEAS, IAB.I_A, IEARTH.I_EARTH, STATUS.I_EARTH_PCNT, STATUS.I_REF for system: FGC, className: lhc_self_pmd, source: RPTE.UA83.RB.A78 at 2021-03-31 07:57:35.140\n",
      "\tQuerying NXCALS signal(s) MB.A8R7:U_DIODE_RB, MB.B8R7:U_DIODE_RB, MB.A9R7:U_DIODE_RB, MB.B9R7:U_DIODE_RB, MB.A10R7:U_DIODE_RB... from 2021-03-31 07:56:45.140 to 2021-03-31 08:05:55.140\n",
      "\tQuerying NXCALS signal(s) DFLAS.7R7.2:U_EARTH_RB, MB.B9R7:U_EARTH_RB, MB.A9R7:U_EARTH_RB, MB.B12R7:U_EARTH_RB, MB.A12R7:U_EARTH_RB... from 2021-03-31 07:56:45.140 to 2021-03-31 08:05:55.140\n",
      "\tQuerying PM event timestamps for system: QPS, className: DQAMGNSRB_PMREL, source: * from 2021-03-31 07:57:25.140 to 2021-03-31 08:04:15.140\n",
      "\tQuerying PM event timestamps for system: QPS, className: DQAMCNMB_PMSTD, source: * from 2021-03-31 07:57:25.140 to 2021-03-31 07:57:45.140\n"
     ]
    },
    {
     "data": {
      "application/vnd.jupyter.widget-view+json": {
       "model_id": "9ae7fd49741c418181b5d34508573768",
       "version_major": 2,
       "version_minor": 0
      },
      "text/plain": [
       "Querying PM:   0%|          | 0/2 [00:00<?, ?it/s]"
      ]
     },
     "metadata": {},
     "output_type": "display_data"
    },
    {
     "data": {
      "application/vnd.jupyter.widget-view+json": {
       "model_id": "99a5d71a629746668d5b91ccad96b79d",
       "version_major": 2,
       "version_minor": 0
      },
      "text/plain": [
       "Querying iQPS logic PM:   0%|          | 0/2 [00:00<?, ?it/s]"
      ]
     },
     "metadata": {},
     "output_type": "display_data"
    },
    {
     "name": "stdout",
     "output_type": "stream",
     "text": [
      "\tQuerying PM event timestamps for system: QPS, className: DQAMSNRB, source: RR77.RB.A78 from 2021-03-31 07:57:25.140 to 2021-03-31 08:14:15.140\n",
      "\tQuerying PM event timestamps for system: QPS, className: DQAMSNRB, source: UA83.RB.A78 from 2021-03-31 07:57:25.140 to 2021-03-31 08:14:15.140\n",
      "\tQuerying PM event signal(s) RR77.RB.A78:U_DUMP_RES for system: QPS, className: DQAMSNRB, source: RR77.RB.A78 at 2021-03-31 07:57:35.212\n",
      "\tQuerying PM event signal(s) UA83.RB.A78:U_DUMP_RES for system: QPS, className: DQAMSNRB, source: UA83.RB.A78 at 2021-03-31 07:57:35.710\n",
      "\tQuerying PM event timestamps for system: QPS, className: DQAMCNMB_PMHSU, source: * from 2021-03-31 07:57:25.140 to 2021-03-31 08:05:55.140\n"
     ]
    },
    {
     "data": {
      "application/vnd.jupyter.widget-view+json": {
       "model_id": "afb64434899b49a3b0e65a6ff3623957",
       "version_major": 2,
       "version_minor": 0
      },
      "text/plain": [
       "Querying PM:   0%|          | 0/4 [00:00<?, ?it/s]"
      ]
     },
     "metadata": {},
     "output_type": "display_data"
    },
    {
     "name": "stderr",
     "output_type": "stream",
     "text": [
      "\n",
      "A value is trying to be set on a copy of a slice from a DataFrame\n",
      "\n",
      "See the caveats in the documentation: https://pandas.pydata.org/pandas-docs/stable/user_guide/indexing.html#returning-a-view-versus-a-copy\n",
      "\n",
      "A value is trying to be set on a copy of a slice from a DataFrame\n",
      "\n",
      "See the caveats in the documentation: https://pandas.pydata.org/pandas-docs/stable/user_guide/indexing.html#returning-a-view-versus-a-copy\n",
      "\n",
      "A value is trying to be set on a copy of a slice from a DataFrame\n",
      "\n",
      "See the caveats in the documentation: https://pandas.pydata.org/pandas-docs/stable/user_guide/indexing.html#returning-a-view-versus-a-copy\n",
      "\n",
      "A value is trying to be set on a copy of a slice from a DataFrame\n",
      "\n",
      "See the caveats in the documentation: https://pandas.pydata.org/pandas-docs/stable/user_guide/indexing.html#returning-a-view-versus-a-copy\n",
      "\n",
      "A value is trying to be set on a copy of a slice from a DataFrame\n",
      "\n",
      "See the caveats in the documentation: https://pandas.pydata.org/pandas-docs/stable/user_guide/indexing.html#returning-a-view-versus-a-copy\n",
      "\n",
      "A value is trying to be set on a copy of a slice from a DataFrame\n",
      "\n",
      "See the caveats in the documentation: https://pandas.pydata.org/pandas-docs/stable/user_guide/indexing.html#returning-a-view-versus-a-copy\n",
      "\n",
      "A value is trying to be set on a copy of a slice from a DataFrame\n",
      "\n",
      "See the caveats in the documentation: https://pandas.pydata.org/pandas-docs/stable/user_guide/indexing.html#returning-a-view-versus-a-copy\n",
      "\n",
      "A value is trying to be set on a copy of a slice from a DataFrame\n",
      "\n",
      "See the caveats in the documentation: https://pandas.pydata.org/pandas-docs/stable/user_guide/indexing.html#returning-a-view-versus-a-copy\n",
      "\n",
      "A value is trying to be set on a copy of a slice from a DataFrame\n",
      "\n",
      "See the caveats in the documentation: https://pandas.pydata.org/pandas-docs/stable/user_guide/indexing.html#returning-a-view-versus-a-copy\n",
      "\n",
      "A value is trying to be set on a copy of a slice from a DataFrame\n",
      "\n",
      "See the caveats in the documentation: https://pandas.pydata.org/pandas-docs/stable/user_guide/indexing.html#returning-a-view-versus-a-copy\n",
      "\n",
      "A value is trying to be set on a copy of a slice from a DataFrame\n",
      "\n",
      "See the caveats in the documentation: https://pandas.pydata.org/pandas-docs/stable/user_guide/indexing.html#returning-a-view-versus-a-copy\n",
      "\n",
      "A value is trying to be set on a copy of a slice from a DataFrame\n",
      "\n",
      "See the caveats in the documentation: https://pandas.pydata.org/pandas-docs/stable/user_guide/indexing.html#returning-a-view-versus-a-copy\n",
      "\n",
      "A value is trying to be set on a copy of a slice from a DataFrame\n",
      "\n",
      "See the caveats in the documentation: https://pandas.pydata.org/pandas-docs/stable/user_guide/indexing.html#returning-a-view-versus-a-copy\n",
      "\n",
      "A value is trying to be set on a copy of a slice from a DataFrame\n",
      "\n",
      "See the caveats in the documentation: https://pandas.pydata.org/pandas-docs/stable/user_guide/indexing.html#returning-a-view-versus-a-copy\n",
      "\n",
      "A value is trying to be set on a copy of a slice from a DataFrame\n",
      "\n",
      "See the caveats in the documentation: https://pandas.pydata.org/pandas-docs/stable/user_guide/indexing.html#returning-a-view-versus-a-copy\n",
      "\n",
      "A value is trying to be set on a copy of a slice from a DataFrame\n",
      "\n",
      "See the caveats in the documentation: https://pandas.pydata.org/pandas-docs/stable/user_guide/indexing.html#returning-a-view-versus-a-copy\n",
      "\n",
      "A value is trying to be set on a copy of a slice from a DataFrame\n",
      "\n",
      "See the caveats in the documentation: https://pandas.pydata.org/pandas-docs/stable/user_guide/indexing.html#returning-a-view-versus-a-copy\n",
      "\n",
      "A value is trying to be set on a copy of a slice from a DataFrame\n",
      "\n",
      "See the caveats in the documentation: https://pandas.pydata.org/pandas-docs/stable/user_guide/indexing.html#returning-a-view-versus-a-copy\n",
      "\n",
      "A value is trying to be set on a copy of a slice from a DataFrame\n",
      "\n",
      "See the caveats in the documentation: https://pandas.pydata.org/pandas-docs/stable/user_guide/indexing.html#returning-a-view-versus-a-copy\n",
      "\n",
      "A value is trying to be set on a copy of a slice from a DataFrame\n",
      "\n",
      "See the caveats in the documentation: https://pandas.pydata.org/pandas-docs/stable/user_guide/indexing.html#returning-a-view-versus-a-copy\n",
      "\n",
      "A value is trying to be set on a copy of a slice from a DataFrame\n",
      "\n",
      "See the caveats in the documentation: https://pandas.pydata.org/pandas-docs/stable/user_guide/indexing.html#returning-a-view-versus-a-copy\n",
      "\n",
      "A value is trying to be set on a copy of a slice from a DataFrame\n",
      "\n",
      "See the caveats in the documentation: https://pandas.pydata.org/pandas-docs/stable/user_guide/indexing.html#returning-a-view-versus-a-copy\n",
      "\n",
      "A value is trying to be set on a copy of a slice from a DataFrame\n",
      "\n",
      "See the caveats in the documentation: https://pandas.pydata.org/pandas-docs/stable/user_guide/indexing.html#returning-a-view-versus-a-copy\n",
      "\n",
      "A value is trying to be set on a copy of a slice from a DataFrame\n",
      "\n",
      "See the caveats in the documentation: https://pandas.pydata.org/pandas-docs/stable/user_guide/indexing.html#returning-a-view-versus-a-copy\n",
      "\n",
      "A value is trying to be set on a copy of a slice from a DataFrame\n",
      "\n",
      "See the caveats in the documentation: https://pandas.pydata.org/pandas-docs/stable/user_guide/indexing.html#returning-a-view-versus-a-copy\n",
      "\n",
      "A value is trying to be set on a copy of a slice from a DataFrame\n",
      "\n",
      "See the caveats in the documentation: https://pandas.pydata.org/pandas-docs/stable/user_guide/indexing.html#returning-a-view-versus-a-copy\n",
      "\n",
      "A value is trying to be set on a copy of a slice from a DataFrame\n",
      "\n",
      "See the caveats in the documentation: https://pandas.pydata.org/pandas-docs/stable/user_guide/indexing.html#returning-a-view-versus-a-copy\n",
      "\n",
      "A value is trying to be set on a copy of a slice from a DataFrame\n",
      "\n",
      "See the caveats in the documentation: https://pandas.pydata.org/pandas-docs/stable/user_guide/indexing.html#returning-a-view-versus-a-copy\n",
      "\n",
      "A value is trying to be set on a copy of a slice from a DataFrame\n",
      "\n",
      "See the caveats in the documentation: https://pandas.pydata.org/pandas-docs/stable/user_guide/indexing.html#returning-a-view-versus-a-copy\n",
      "\n",
      "A value is trying to be set on a copy of a slice from a DataFrame\n",
      "\n",
      "See the caveats in the documentation: https://pandas.pydata.org/pandas-docs/stable/user_guide/indexing.html#returning-a-view-versus-a-copy\n",
      "\n",
      "A value is trying to be set on a copy of a slice from a DataFrame\n",
      "\n",
      "See the caveats in the documentation: https://pandas.pydata.org/pandas-docs/stable/user_guide/indexing.html#returning-a-view-versus-a-copy\n",
      "\n",
      "A value is trying to be set on a copy of a slice from a DataFrame\n",
      "\n",
      "See the caveats in the documentation: https://pandas.pydata.org/pandas-docs/stable/user_guide/indexing.html#returning-a-view-versus-a-copy\n"
     ]
    },
    {
     "name": "stdout",
     "output_type": "stream",
     "text": [
      "\tQuerying PM event signal(s) STATUS.I_MEAS, IAB.I_A, IEARTH.I_EARTH, STATUS.I_EARTH_PCNT, STATUS.I_REF for system: FGC, className: lhc_self_pmd, source: RPTE.UA83.RB.A78 at 2021-03-31 20:09:45.940\n",
      "\tQuerying NXCALS signal(s) MB.A8R7:U_DIODE_RB, MB.B8R7:U_DIODE_RB, MB.A9R7:U_DIODE_RB, MB.B9R7:U_DIODE_RB, MB.A10R7:U_DIODE_RB... from 2021-03-31 20:08:55.940 to 2021-03-31 20:18:05.940\n",
      "\tQuerying NXCALS signal(s) DFLAS.7R7.2:U_EARTH_RB, MB.B9R7:U_EARTH_RB, MB.A9R7:U_EARTH_RB, MB.B12R7:U_EARTH_RB, MB.A12R7:U_EARTH_RB... from 2021-03-31 20:08:55.940 to 2021-03-31 20:18:05.940\n",
      "\tQuerying PM event timestamps for system: QPS, className: DQAMGNSRB_PMREL, source: * from 2021-03-31 20:09:35.940 to 2021-03-31 20:16:25.940\n",
      "\tQuerying PM event timestamps for system: QPS, className: DQAMCNMB_PMSTD, source: * from 2021-03-31 20:09:35.940 to 2021-03-31 20:09:55.940\n"
     ]
    },
    {
     "data": {
      "application/vnd.jupyter.widget-view+json": {
       "model_id": "3a2dc0b54a35471db69049687ef39e02",
       "version_major": 2,
       "version_minor": 0
      },
      "text/plain": [
       "Querying PM:   0%|          | 0/2 [00:00<?, ?it/s]"
      ]
     },
     "metadata": {},
     "output_type": "display_data"
    },
    {
     "data": {
      "application/vnd.jupyter.widget-view+json": {
       "model_id": "16e247fa1bd1419f8e9c28899423b9d8",
       "version_major": 2,
       "version_minor": 0
      },
      "text/plain": [
       "Querying iQPS logic PM:   0%|          | 0/2 [00:00<?, ?it/s]"
      ]
     },
     "metadata": {},
     "output_type": "display_data"
    },
    {
     "name": "stdout",
     "output_type": "stream",
     "text": [
      "\tQuerying PM event timestamps for system: QPS, className: DQAMSNRB, source: RR77.RB.A78 from 2021-03-31 20:09:35.940 to 2021-03-31 20:26:25.940\n",
      "\tQuerying PM event timestamps for system: QPS, className: DQAMSNRB, source: UA83.RB.A78 from 2021-03-31 20:09:35.940 to 2021-03-31 20:26:25.940\n",
      "\tQuerying PM event signal(s) RR77.RB.A78:U_DUMP_RES for system: QPS, className: DQAMSNRB, source: RR77.RB.A78 at 2021-03-31 20:09:46.001\n",
      "\tQuerying PM event signal(s) UA83.RB.A78:U_DUMP_RES for system: QPS, className: DQAMSNRB, source: UA83.RB.A78 at 2021-03-31 20:09:46.496\n",
      "\tQuerying PM event timestamps for system: QPS, className: DQAMCNMB_PMHSU, source: * from 2021-03-31 20:09:35.940 to 2021-03-31 20:18:05.940\n"
     ]
    },
    {
     "data": {
      "application/vnd.jupyter.widget-view+json": {
       "model_id": "3140631d85ff480eb3570702f062eb9f",
       "version_major": 2,
       "version_minor": 0
      },
      "text/plain": [
       "Querying PM:   0%|          | 0/2 [00:00<?, ?it/s]"
      ]
     },
     "metadata": {},
     "output_type": "display_data"
    },
    {
     "name": "stdout",
     "output_type": "stream",
     "text": [
      "\tQuerying PM event signal(s) STATUS.I_MEAS, IAB.I_A, IEARTH.I_EARTH, STATUS.I_EARTH_PCNT, STATUS.I_REF for system: FGC, className: lhc_self_pmd, source: RPTE.UA83.RB.A78 at 2021-04-01 07:16:02.380\n",
      "\tQuerying NXCALS signal(s) MB.A8R7:U_DIODE_RB, MB.B8R7:U_DIODE_RB, MB.A9R7:U_DIODE_RB, MB.B9R7:U_DIODE_RB, MB.A10R7:U_DIODE_RB... from 2021-04-01 07:15:12.380 to 2021-04-01 07:24:22.380\n",
      "\tQuerying NXCALS signal(s) DFLAS.7R7.2:U_EARTH_RB, MB.B9R7:U_EARTH_RB, MB.A9R7:U_EARTH_RB, MB.B12R7:U_EARTH_RB, MB.A12R7:U_EARTH_RB... from 2021-04-01 07:15:12.380 to 2021-04-01 07:24:22.380\n",
      "\tQuerying PM event timestamps for system: QPS, className: DQAMGNSRB_PMREL, source: * from 2021-04-01 07:15:52.380 to 2021-04-01 07:22:42.380\n",
      "\tQuerying PM event timestamps for system: QPS, className: DQAMCNMB_PMSTD, source: * from 2021-04-01 07:15:52.380 to 2021-04-01 07:16:12.380\n"
     ]
    },
    {
     "data": {
      "application/vnd.jupyter.widget-view+json": {
       "model_id": "a37ce851a9074fb0aa23220b120c8bb4",
       "version_major": 2,
       "version_minor": 0
      },
      "text/plain": [
       "Querying PM:   0%|          | 0/2 [00:00<?, ?it/s]"
      ]
     },
     "metadata": {},
     "output_type": "display_data"
    },
    {
     "data": {
      "application/vnd.jupyter.widget-view+json": {
       "model_id": "abef14e982634fa5a53887f170645364",
       "version_major": 2,
       "version_minor": 0
      },
      "text/plain": [
       "Querying iQPS logic PM:   0%|          | 0/2 [00:00<?, ?it/s]"
      ]
     },
     "metadata": {},
     "output_type": "display_data"
    },
    {
     "name": "stdout",
     "output_type": "stream",
     "text": [
      "\tQuerying PM event timestamps for system: QPS, className: DQAMSNRB, source: RR77.RB.A78 from 2021-04-01 07:15:52.380 to 2021-04-01 07:32:42.380\n",
      "\tQuerying PM event timestamps for system: QPS, className: DQAMSNRB, source: UA83.RB.A78 from 2021-04-01 07:15:52.380 to 2021-04-01 07:32:42.380\n",
      "\tQuerying PM event signal(s) RR77.RB.A78:U_DUMP_RES for system: QPS, className: DQAMSNRB, source: RR77.RB.A78 at 2021-04-01 07:16:02.454\n",
      "\tQuerying PM event signal(s) UA83.RB.A78:U_DUMP_RES for system: QPS, className: DQAMSNRB, source: UA83.RB.A78 at 2021-04-01 07:16:02.952\n",
      "\tQuerying PM event timestamps for system: QPS, className: DQAMCNMB_PMHSU, source: * from 2021-04-01 07:15:52.380 to 2021-04-01 07:24:22.380\n"
     ]
    },
    {
     "data": {
      "application/vnd.jupyter.widget-view+json": {
       "model_id": "05399cedd7bf4a52a8cadecc6edcfe99",
       "version_major": 2,
       "version_minor": 0
      },
      "text/plain": [
       "Querying PM:   0%|          | 0/4 [00:00<?, ?it/s]"
      ]
     },
     "metadata": {},
     "output_type": "display_data"
    },
    {
     "name": "stdout",
     "output_type": "stream",
     "text": [
      "\tQuerying PM event signal(s) STATUS.I_MEAS, IAB.I_A, IEARTH.I_EARTH, STATUS.I_EARTH_PCNT, STATUS.I_REF for system: FGC, className: lhc_self_pmd, source: RPTE.UA43.RB.A34 at 2021-04-01 17:23:29.520\n",
      "\tQuerying NXCALS signal(s) MB.A8R3:U_DIODE_RB, MB.B8R3:U_DIODE_RB, MB.A9R3:U_DIODE_RB, MB.B9R3:U_DIODE_RB, MB.A10R3:U_DIODE_RB... from 2021-04-01 17:22:39.520 to 2021-04-01 17:31:49.520\n",
      "\tQuerying NXCALS signal(s) MB.A9R3:U_EARTH_RB, DFLAS.7R3.1:U_EARTH_RB, MB.A12R3:U_EARTH_RB, MB.B9R3:U_EARTH_RB, MB.A14R3:U_EARTH_RB... from 2021-04-01 17:22:39.520 to 2021-04-01 17:31:49.520\n",
      "\tQuerying PM event timestamps for system: QPS, className: DQAMGNSRB_PMREL, source: * from 2021-04-01 17:23:19.520 to 2021-04-01 17:30:09.520\n",
      "\tQuerying PM event timestamps for system: QPS, className: DQAMCNMB_PMSTD, source: * from 2021-04-01 17:23:19.520 to 2021-04-01 17:23:39.520\n"
     ]
    },
    {
     "data": {
      "application/vnd.jupyter.widget-view+json": {
       "model_id": "16bab3d6c2a34511ace28534ce1c8653",
       "version_major": 2,
       "version_minor": 0
      },
      "text/plain": [
       "Querying PM:   0%|          | 0/2 [00:00<?, ?it/s]"
      ]
     },
     "metadata": {},
     "output_type": "display_data"
    },
    {
     "data": {
      "application/vnd.jupyter.widget-view+json": {
       "model_id": "5020b88b4f73456ebb5aced86018e6e7",
       "version_major": 2,
       "version_minor": 0
      },
      "text/plain": [
       "Querying iQPS logic PM:   0%|          | 0/2 [00:00<?, ?it/s]"
      ]
     },
     "metadata": {},
     "output_type": "display_data"
    },
    {
     "name": "stdout",
     "output_type": "stream",
     "text": [
      "\tQuerying PM event timestamps for system: QPS, className: DQAMSNRB, source: UJ33.RB.A34 from 2021-04-01 17:23:19.520 to 2021-04-01 17:40:09.520\n",
      "\tQuerying PM event timestamps for system: QPS, className: DQAMSNRB, source: UA43.RB.A34 from 2021-04-01 17:23:19.520 to 2021-04-01 17:40:09.520\n",
      "\tQuerying PM event signal(s) UJ33.RB.A34:U_DUMP_RES for system: QPS, className: DQAMSNRB, source: UJ33.RB.A34 at 2021-04-01 17:23:29.594\n",
      "\tQuerying PM event signal(s) UA43.RB.A34:U_DUMP_RES for system: QPS, className: DQAMSNRB, source: UA43.RB.A34 at 2021-04-01 17:23:30.091\n",
      "\tQuerying PM event timestamps for system: QPS, className: DQAMCNMB_PMHSU, source: * from 2021-04-01 17:23:19.520 to 2021-04-01 17:31:49.520\n"
     ]
    },
    {
     "data": {
      "application/vnd.jupyter.widget-view+json": {
       "model_id": "4f058b6440cc405794de8cd87d05911e",
       "version_major": 2,
       "version_minor": 0
      },
      "text/plain": [
       "Querying PM:   0%|          | 0/4 [00:00<?, ?it/s]"
      ]
     },
     "metadata": {},
     "output_type": "display_data"
    },
    {
     "name": "stdout",
     "output_type": "stream",
     "text": [
      "\tQuerying PM event signal(s) STATUS.I_MEAS, IAB.I_A, IEARTH.I_EARTH, STATUS.I_EARTH_PCNT, STATUS.I_REF for system: FGC, className: lhc_self_pmd, source: RPTE.UA83.RB.A78 at 2021-04-01 19:25:10.840\n",
      "\tQuerying NXCALS signal(s) MB.A8R7:U_DIODE_RB, MB.B8R7:U_DIODE_RB, MB.A9R7:U_DIODE_RB, MB.B9R7:U_DIODE_RB, MB.A10R7:U_DIODE_RB... from 2021-04-01 19:24:20.840 to 2021-04-01 19:33:30.840\n",
      "\tQuerying NXCALS signal(s) DFLAS.7R7.2:U_EARTH_RB, MB.B9R7:U_EARTH_RB, MB.A9R7:U_EARTH_RB, MB.B12R7:U_EARTH_RB, MB.A12R7:U_EARTH_RB... from 2021-04-01 19:24:20.840 to 2021-04-01 19:33:30.840\n",
      "\tQuerying PM event timestamps for system: QPS, className: DQAMGNSRB_PMREL, source: * from 2021-04-01 19:25:00.840 to 2021-04-01 19:31:50.840\n",
      "\tQuerying PM event timestamps for system: QPS, className: DQAMCNMB_PMSTD, source: * from 2021-04-01 19:25:00.840 to 2021-04-01 19:25:20.840\n"
     ]
    },
    {
     "data": {
      "application/vnd.jupyter.widget-view+json": {
       "model_id": "70360ab341f04cbe999c30476aebdafa",
       "version_major": 2,
       "version_minor": 0
      },
      "text/plain": [
       "Querying PM:   0%|          | 0/2 [00:00<?, ?it/s]"
      ]
     },
     "metadata": {},
     "output_type": "display_data"
    },
    {
     "data": {
      "application/vnd.jupyter.widget-view+json": {
       "model_id": "5c610ba6fba146ff819f61494b06a878",
       "version_major": 2,
       "version_minor": 0
      },
      "text/plain": [
       "Querying iQPS logic PM:   0%|          | 0/2 [00:00<?, ?it/s]"
      ]
     },
     "metadata": {},
     "output_type": "display_data"
    },
    {
     "name": "stdout",
     "output_type": "stream",
     "text": [
      "\tQuerying PM event timestamps for system: QPS, className: DQAMSNRB, source: RR77.RB.A78 from 2021-04-01 19:25:00.840 to 2021-04-01 19:41:50.840\n",
      "\tQuerying PM event timestamps for system: QPS, className: DQAMSNRB, source: UA83.RB.A78 from 2021-04-01 19:25:00.840 to 2021-04-01 19:41:50.840\n",
      "\tQuerying PM event signal(s) RR77.RB.A78:U_DUMP_RES for system: QPS, className: DQAMSNRB, source: RR77.RB.A78 at 2021-04-01 19:25:10.915\n",
      "\tQuerying PM event signal(s) UA83.RB.A78:U_DUMP_RES for system: QPS, className: DQAMSNRB, source: UA83.RB.A78 at 2021-04-01 19:25:11.410\n",
      "\tQuerying PM event timestamps for system: QPS, className: DQAMCNMB_PMHSU, source: * from 2021-04-01 19:25:00.840 to 2021-04-01 19:33:30.840\n"
     ]
    },
    {
     "data": {
      "application/vnd.jupyter.widget-view+json": {
       "model_id": "4f07d199946e4d2b85889371dd217d38",
       "version_major": 2,
       "version_minor": 0
      },
      "text/plain": [
       "Querying PM:   0%|          | 0/4 [00:00<?, ?it/s]"
      ]
     },
     "metadata": {},
     "output_type": "display_data"
    },
    {
     "name": "stdout",
     "output_type": "stream",
     "text": [
      "\tQuerying PM event signal(s) STATUS.I_MEAS, IAB.I_A, IEARTH.I_EARTH, STATUS.I_EARTH_PCNT, STATUS.I_REF for system: FGC, className: lhc_self_pmd, source: RPTE.UA83.RB.A78 at 2021-04-02 07:04:10.740\n",
      "\tQuerying NXCALS signal(s) MB.A8R7:U_DIODE_RB, MB.B8R7:U_DIODE_RB, MB.A9R7:U_DIODE_RB, MB.B9R7:U_DIODE_RB, MB.A10R7:U_DIODE_RB... from 2021-04-02 07:03:20.740 to 2021-04-02 07:12:30.740\n",
      "\tQuerying NXCALS signal(s) DFLAS.7R7.2:U_EARTH_RB, MB.B9R7:U_EARTH_RB, MB.A9R7:U_EARTH_RB, MB.B12R7:U_EARTH_RB, MB.A12R7:U_EARTH_RB... from 2021-04-02 07:03:20.740 to 2021-04-02 07:12:30.740\n",
      "\tQuerying PM event timestamps for system: QPS, className: DQAMGNSRB_PMREL, source: * from 2021-04-02 07:04:00.740 to 2021-04-02 07:10:50.740\n",
      "\tQuerying PM event timestamps for system: QPS, className: DQAMCNMB_PMSTD, source: * from 2021-04-02 07:04:00.740 to 2021-04-02 07:04:20.740\n"
     ]
    },
    {
     "data": {
      "application/vnd.jupyter.widget-view+json": {
       "model_id": "75fddde5a8d247779eb725d353b01766",
       "version_major": 2,
       "version_minor": 0
      },
      "text/plain": [
       "Querying PM:   0%|          | 0/2 [00:00<?, ?it/s]"
      ]
     },
     "metadata": {},
     "output_type": "display_data"
    },
    {
     "data": {
      "application/vnd.jupyter.widget-view+json": {
       "model_id": "2e5fac0dc7584ad1a49c8d97f12b3512",
       "version_major": 2,
       "version_minor": 0
      },
      "text/plain": [
       "Querying iQPS logic PM:   0%|          | 0/2 [00:00<?, ?it/s]"
      ]
     },
     "metadata": {},
     "output_type": "display_data"
    },
    {
     "name": "stdout",
     "output_type": "stream",
     "text": [
      "\tQuerying PM event timestamps for system: QPS, className: DQAMSNRB, source: RR77.RB.A78 from 2021-04-02 07:04:00.740 to 2021-04-02 07:20:50.740\n",
      "\tQuerying PM event timestamps for system: QPS, className: DQAMSNRB, source: UA83.RB.A78 from 2021-04-02 07:04:00.740 to 2021-04-02 07:20:50.740\n",
      "\tQuerying PM event signal(s) RR77.RB.A78:U_DUMP_RES for system: QPS, className: DQAMSNRB, source: RR77.RB.A78 at 2021-04-02 07:04:10.798\n",
      "\tQuerying PM event signal(s) UA83.RB.A78:U_DUMP_RES for system: QPS, className: DQAMSNRB, source: UA83.RB.A78 at 2021-04-02 07:04:11.295\n",
      "\tQuerying PM event timestamps for system: QPS, className: DQAMCNMB_PMHSU, source: * from 2021-04-02 07:04:00.740 to 2021-04-02 07:12:30.740\n"
     ]
    },
    {
     "data": {
      "application/vnd.jupyter.widget-view+json": {
       "model_id": "7dbd9ebd07594d2187040e2cd64b8aea",
       "version_major": 2,
       "version_minor": 0
      },
      "text/plain": [
       "Querying PM:   0%|          | 0/3 [00:00<?, ?it/s]"
      ]
     },
     "metadata": {},
     "output_type": "display_data"
    },
    {
     "name": "stderr",
     "output_type": "stream",
     "text": [
      "\n",
      "A value is trying to be set on a copy of a slice from a DataFrame\n",
      "\n",
      "See the caveats in the documentation: https://pandas.pydata.org/pandas-docs/stable/user_guide/indexing.html#returning-a-view-versus-a-copy\n",
      "\n",
      "A value is trying to be set on a copy of a slice from a DataFrame\n",
      "\n",
      "See the caveats in the documentation: https://pandas.pydata.org/pandas-docs/stable/user_guide/indexing.html#returning-a-view-versus-a-copy\n",
      "\n",
      "A value is trying to be set on a copy of a slice from a DataFrame\n",
      "\n",
      "See the caveats in the documentation: https://pandas.pydata.org/pandas-docs/stable/user_guide/indexing.html#returning-a-view-versus-a-copy\n",
      "\n",
      "A value is trying to be set on a copy of a slice from a DataFrame\n",
      "\n",
      "See the caveats in the documentation: https://pandas.pydata.org/pandas-docs/stable/user_guide/indexing.html#returning-a-view-versus-a-copy\n",
      "\n",
      "A value is trying to be set on a copy of a slice from a DataFrame\n",
      "\n",
      "See the caveats in the documentation: https://pandas.pydata.org/pandas-docs/stable/user_guide/indexing.html#returning-a-view-versus-a-copy\n",
      "\n",
      "A value is trying to be set on a copy of a slice from a DataFrame\n",
      "\n",
      "See the caveats in the documentation: https://pandas.pydata.org/pandas-docs/stable/user_guide/indexing.html#returning-a-view-versus-a-copy\n",
      "\n",
      "A value is trying to be set on a copy of a slice from a DataFrame\n",
      "\n",
      "See the caveats in the documentation: https://pandas.pydata.org/pandas-docs/stable/user_guide/indexing.html#returning-a-view-versus-a-copy\n",
      "\n",
      "A value is trying to be set on a copy of a slice from a DataFrame\n",
      "\n",
      "See the caveats in the documentation: https://pandas.pydata.org/pandas-docs/stable/user_guide/indexing.html#returning-a-view-versus-a-copy\n",
      "\n",
      "A value is trying to be set on a copy of a slice from a DataFrame\n",
      "\n",
      "See the caveats in the documentation: https://pandas.pydata.org/pandas-docs/stable/user_guide/indexing.html#returning-a-view-versus-a-copy\n",
      "\n",
      "A value is trying to be set on a copy of a slice from a DataFrame\n",
      "\n",
      "See the caveats in the documentation: https://pandas.pydata.org/pandas-docs/stable/user_guide/indexing.html#returning-a-view-versus-a-copy\n",
      "\n",
      "A value is trying to be set on a copy of a slice from a DataFrame\n",
      "\n",
      "See the caveats in the documentation: https://pandas.pydata.org/pandas-docs/stable/user_guide/indexing.html#returning-a-view-versus-a-copy\n",
      "\n",
      "A value is trying to be set on a copy of a slice from a DataFrame\n",
      "\n",
      "See the caveats in the documentation: https://pandas.pydata.org/pandas-docs/stable/user_guide/indexing.html#returning-a-view-versus-a-copy\n",
      "\n",
      "A value is trying to be set on a copy of a slice from a DataFrame\n",
      "\n",
      "See the caveats in the documentation: https://pandas.pydata.org/pandas-docs/stable/user_guide/indexing.html#returning-a-view-versus-a-copy\n",
      "\n",
      "A value is trying to be set on a copy of a slice from a DataFrame\n",
      "\n",
      "See the caveats in the documentation: https://pandas.pydata.org/pandas-docs/stable/user_guide/indexing.html#returning-a-view-versus-a-copy\n",
      "\n",
      "A value is trying to be set on a copy of a slice from a DataFrame\n",
      "\n",
      "See the caveats in the documentation: https://pandas.pydata.org/pandas-docs/stable/user_guide/indexing.html#returning-a-view-versus-a-copy\n",
      "\n",
      "A value is trying to be set on a copy of a slice from a DataFrame\n",
      "\n",
      "See the caveats in the documentation: https://pandas.pydata.org/pandas-docs/stable/user_guide/indexing.html#returning-a-view-versus-a-copy\n",
      "\n",
      "A value is trying to be set on a copy of a slice from a DataFrame\n",
      "\n",
      "See the caveats in the documentation: https://pandas.pydata.org/pandas-docs/stable/user_guide/indexing.html#returning-a-view-versus-a-copy\n",
      "\n",
      "A value is trying to be set on a copy of a slice from a DataFrame\n",
      "\n",
      "See the caveats in the documentation: https://pandas.pydata.org/pandas-docs/stable/user_guide/indexing.html#returning-a-view-versus-a-copy\n",
      "\n",
      "A value is trying to be set on a copy of a slice from a DataFrame\n",
      "\n",
      "See the caveats in the documentation: https://pandas.pydata.org/pandas-docs/stable/user_guide/indexing.html#returning-a-view-versus-a-copy\n",
      "\n",
      "A value is trying to be set on a copy of a slice from a DataFrame\n",
      "\n",
      "See the caveats in the documentation: https://pandas.pydata.org/pandas-docs/stable/user_guide/indexing.html#returning-a-view-versus-a-copy\n",
      "\n",
      "A value is trying to be set on a copy of a slice from a DataFrame\n",
      "\n",
      "See the caveats in the documentation: https://pandas.pydata.org/pandas-docs/stable/user_guide/indexing.html#returning-a-view-versus-a-copy\n",
      "\n",
      "A value is trying to be set on a copy of a slice from a DataFrame\n",
      "\n",
      "See the caveats in the documentation: https://pandas.pydata.org/pandas-docs/stable/user_guide/indexing.html#returning-a-view-versus-a-copy\n",
      "\n",
      "A value is trying to be set on a copy of a slice from a DataFrame\n",
      "\n",
      "See the caveats in the documentation: https://pandas.pydata.org/pandas-docs/stable/user_guide/indexing.html#returning-a-view-versus-a-copy\n",
      "\n",
      "A value is trying to be set on a copy of a slice from a DataFrame\n",
      "\n",
      "See the caveats in the documentation: https://pandas.pydata.org/pandas-docs/stable/user_guide/indexing.html#returning-a-view-versus-a-copy\n"
     ]
    },
    {
     "name": "stdout",
     "output_type": "stream",
     "text": [
      "\tQuerying PM event signal(s) STATUS.I_MEAS, IAB.I_A, IEARTH.I_EARTH, STATUS.I_EARTH_PCNT, STATUS.I_REF for system: FGC, className: lhc_self_pmd, source: RPTE.UA43.RB.A34 at 2021-04-02 07:43:51.140\n",
      "\tQuerying NXCALS signal(s) MB.A8R3:U_DIODE_RB, MB.B8R3:U_DIODE_RB, MB.A9R3:U_DIODE_RB, MB.B9R3:U_DIODE_RB, MB.A10R3:U_DIODE_RB... from 2021-04-02 07:43:01.140 to 2021-04-02 07:52:11.140\n",
      "\tQuerying NXCALS signal(s) MB.A9R3:U_EARTH_RB, DFLAS.7R3.1:U_EARTH_RB, MB.A12R3:U_EARTH_RB, MB.B9R3:U_EARTH_RB, MB.A14R3:U_EARTH_RB... from 2021-04-02 07:43:01.140 to 2021-04-02 07:52:11.140\n",
      "\tQuerying PM event timestamps for system: QPS, className: DQAMGNSRB_PMREL, source: * from 2021-04-02 07:43:41.140 to 2021-04-02 07:50:31.140\n",
      "\tQuerying PM event timestamps for system: QPS, className: DQAMCNMB_PMSTD, source: * from 2021-04-02 07:43:41.140 to 2021-04-02 07:44:01.140\n"
     ]
    },
    {
     "data": {
      "application/vnd.jupyter.widget-view+json": {
       "model_id": "c05456e7f4234c22a99e489f84a1a204",
       "version_major": 2,
       "version_minor": 0
      },
      "text/plain": [
       "Querying PM:   0%|          | 0/2 [00:00<?, ?it/s]"
      ]
     },
     "metadata": {},
     "output_type": "display_data"
    },
    {
     "data": {
      "application/vnd.jupyter.widget-view+json": {
       "model_id": "a3e96798889242f5b929229eb0ccec76",
       "version_major": 2,
       "version_minor": 0
      },
      "text/plain": [
       "Querying iQPS logic PM:   0%|          | 0/2 [00:00<?, ?it/s]"
      ]
     },
     "metadata": {},
     "output_type": "display_data"
    },
    {
     "name": "stdout",
     "output_type": "stream",
     "text": [
      "\tQuerying PM event timestamps for system: QPS, className: DQAMSNRB, source: UJ33.RB.A34 from 2021-04-02 07:43:41.140 to 2021-04-02 08:00:31.140\n",
      "\tQuerying PM event timestamps for system: QPS, className: DQAMSNRB, source: UA43.RB.A34 from 2021-04-02 07:43:41.140 to 2021-04-02 08:00:31.140\n",
      "\tQuerying PM event signal(s) UJ33.RB.A34:U_DUMP_RES for system: QPS, className: DQAMSNRB, source: UJ33.RB.A34 at 2021-04-02 07:43:51.203\n",
      "\tQuerying PM event signal(s) UA43.RB.A34:U_DUMP_RES for system: QPS, className: DQAMSNRB, source: UA43.RB.A34 at 2021-04-02 07:43:51.703\n",
      "\tQuerying PM event timestamps for system: QPS, className: DQAMCNMB_PMHSU, source: * from 2021-04-02 07:43:41.140 to 2021-04-02 07:52:11.140\n"
     ]
    },
    {
     "data": {
      "application/vnd.jupyter.widget-view+json": {
       "model_id": "b652279b6bc243c1a7e2ece046e93b74",
       "version_major": 2,
       "version_minor": 0
      },
      "text/plain": [
       "Querying PM:   0%|          | 0/4 [00:00<?, ?it/s]"
      ]
     },
     "metadata": {},
     "output_type": "display_data"
    },
    {
     "name": "stdout",
     "output_type": "stream",
     "text": [
      "\tQuerying PM event signal(s) STATUS.I_MEAS, IAB.I_A, IEARTH.I_EARTH, STATUS.I_EARTH_PCNT, STATUS.I_REF for system: FGC, className: lhc_self_pmd, source: RPTE.UA83.RB.A78 at 2021-04-02 18:01:29.280\n",
      "\tQuerying NXCALS signal(s) MB.A8R7:U_DIODE_RB, MB.B8R7:U_DIODE_RB, MB.A9R7:U_DIODE_RB, MB.B9R7:U_DIODE_RB, MB.A10R7:U_DIODE_RB... from 2021-04-02 18:00:39.280 to 2021-04-02 18:09:49.280\n",
      "\tQuerying NXCALS signal(s) DFLAS.7R7.2:U_EARTH_RB, MB.B9R7:U_EARTH_RB, MB.A9R7:U_EARTH_RB, MB.B12R7:U_EARTH_RB, MB.A12R7:U_EARTH_RB... from 2021-04-02 18:00:39.280 to 2021-04-02 18:09:49.280\n",
      "\tQuerying PM event timestamps for system: QPS, className: DQAMGNSRB_PMREL, source: * from 2021-04-02 18:01:19.280 to 2021-04-02 18:08:09.280\n",
      "\tQuerying PM event timestamps for system: QPS, className: DQAMCNMB_PMSTD, source: * from 2021-04-02 18:01:19.280 to 2021-04-02 18:01:39.280\n"
     ]
    },
    {
     "data": {
      "application/vnd.jupyter.widget-view+json": {
       "model_id": "73f4c84606024af695212bb2ce4e4ffa",
       "version_major": 2,
       "version_minor": 0
      },
      "text/plain": [
       "Querying PM:   0%|          | 0/2 [00:00<?, ?it/s]"
      ]
     },
     "metadata": {},
     "output_type": "display_data"
    },
    {
     "data": {
      "application/vnd.jupyter.widget-view+json": {
       "model_id": "de1eb7ad9bbf46a89668fe29c66c89d2",
       "version_major": 2,
       "version_minor": 0
      },
      "text/plain": [
       "Querying iQPS logic PM:   0%|          | 0/2 [00:00<?, ?it/s]"
      ]
     },
     "metadata": {},
     "output_type": "display_data"
    },
    {
     "name": "stdout",
     "output_type": "stream",
     "text": [
      "\tQuerying PM event timestamps for system: QPS, className: DQAMSNRB, source: RR77.RB.A78 from 2021-04-02 18:01:19.280 to 2021-04-02 18:18:09.280\n",
      "\tQuerying PM event timestamps for system: QPS, className: DQAMSNRB, source: UA83.RB.A78 from 2021-04-02 18:01:19.280 to 2021-04-02 18:18:09.280\n",
      "\tQuerying PM event signal(s) RR77.RB.A78:U_DUMP_RES for system: QPS, className: DQAMSNRB, source: RR77.RB.A78 at 2021-04-02 18:01:29.355\n",
      "\tQuerying PM event signal(s) UA83.RB.A78:U_DUMP_RES for system: QPS, className: DQAMSNRB, source: UA83.RB.A78 at 2021-04-02 18:01:29.851\n",
      "\tQuerying PM event timestamps for system: QPS, className: DQAMCNMB_PMHSU, source: * from 2021-04-02 18:01:19.280 to 2021-04-02 18:09:49.280\n"
     ]
    },
    {
     "data": {
      "application/vnd.jupyter.widget-view+json": {
       "model_id": "fa7b3f50d1164661898d8bc7bde1ae13",
       "version_major": 2,
       "version_minor": 0
      },
      "text/plain": [
       "Querying PM:   0%|          | 0/3 [00:00<?, ?it/s]"
      ]
     },
     "metadata": {},
     "output_type": "display_data"
    },
    {
     "name": "stderr",
     "output_type": "stream",
     "text": [
      "\n",
      "A value is trying to be set on a copy of a slice from a DataFrame\n",
      "\n",
      "See the caveats in the documentation: https://pandas.pydata.org/pandas-docs/stable/user_guide/indexing.html#returning-a-view-versus-a-copy\n",
      "\n",
      "A value is trying to be set on a copy of a slice from a DataFrame\n",
      "\n",
      "See the caveats in the documentation: https://pandas.pydata.org/pandas-docs/stable/user_guide/indexing.html#returning-a-view-versus-a-copy\n",
      "\n",
      "A value is trying to be set on a copy of a slice from a DataFrame\n",
      "\n",
      "See the caveats in the documentation: https://pandas.pydata.org/pandas-docs/stable/user_guide/indexing.html#returning-a-view-versus-a-copy\n",
      "\n",
      "A value is trying to be set on a copy of a slice from a DataFrame\n",
      "\n",
      "See the caveats in the documentation: https://pandas.pydata.org/pandas-docs/stable/user_guide/indexing.html#returning-a-view-versus-a-copy\n",
      "\n",
      "A value is trying to be set on a copy of a slice from a DataFrame\n",
      "\n",
      "See the caveats in the documentation: https://pandas.pydata.org/pandas-docs/stable/user_guide/indexing.html#returning-a-view-versus-a-copy\n",
      "\n",
      "A value is trying to be set on a copy of a slice from a DataFrame\n",
      "\n",
      "See the caveats in the documentation: https://pandas.pydata.org/pandas-docs/stable/user_guide/indexing.html#returning-a-view-versus-a-copy\n",
      "\n",
      "A value is trying to be set on a copy of a slice from a DataFrame\n",
      "\n",
      "See the caveats in the documentation: https://pandas.pydata.org/pandas-docs/stable/user_guide/indexing.html#returning-a-view-versus-a-copy\n",
      "\n",
      "A value is trying to be set on a copy of a slice from a DataFrame\n",
      "\n",
      "See the caveats in the documentation: https://pandas.pydata.org/pandas-docs/stable/user_guide/indexing.html#returning-a-view-versus-a-copy\n",
      "\n",
      "A value is trying to be set on a copy of a slice from a DataFrame\n",
      "\n",
      "See the caveats in the documentation: https://pandas.pydata.org/pandas-docs/stable/user_guide/indexing.html#returning-a-view-versus-a-copy\n",
      "\n",
      "A value is trying to be set on a copy of a slice from a DataFrame\n",
      "\n",
      "See the caveats in the documentation: https://pandas.pydata.org/pandas-docs/stable/user_guide/indexing.html#returning-a-view-versus-a-copy\n",
      "\n",
      "A value is trying to be set on a copy of a slice from a DataFrame\n",
      "\n",
      "See the caveats in the documentation: https://pandas.pydata.org/pandas-docs/stable/user_guide/indexing.html#returning-a-view-versus-a-copy\n",
      "\n",
      "A value is trying to be set on a copy of a slice from a DataFrame\n",
      "\n",
      "See the caveats in the documentation: https://pandas.pydata.org/pandas-docs/stable/user_guide/indexing.html#returning-a-view-versus-a-copy\n",
      "\n",
      "A value is trying to be set on a copy of a slice from a DataFrame\n",
      "\n",
      "See the caveats in the documentation: https://pandas.pydata.org/pandas-docs/stable/user_guide/indexing.html#returning-a-view-versus-a-copy\n",
      "\n",
      "A value is trying to be set on a copy of a slice from a DataFrame\n",
      "\n",
      "See the caveats in the documentation: https://pandas.pydata.org/pandas-docs/stable/user_guide/indexing.html#returning-a-view-versus-a-copy\n",
      "\n",
      "A value is trying to be set on a copy of a slice from a DataFrame\n",
      "\n",
      "See the caveats in the documentation: https://pandas.pydata.org/pandas-docs/stable/user_guide/indexing.html#returning-a-view-versus-a-copy\n",
      "\n",
      "A value is trying to be set on a copy of a slice from a DataFrame\n",
      "\n",
      "See the caveats in the documentation: https://pandas.pydata.org/pandas-docs/stable/user_guide/indexing.html#returning-a-view-versus-a-copy\n",
      "\n",
      "A value is trying to be set on a copy of a slice from a DataFrame\n",
      "\n",
      "See the caveats in the documentation: https://pandas.pydata.org/pandas-docs/stable/user_guide/indexing.html#returning-a-view-versus-a-copy\n",
      "\n",
      "A value is trying to be set on a copy of a slice from a DataFrame\n",
      "\n",
      "See the caveats in the documentation: https://pandas.pydata.org/pandas-docs/stable/user_guide/indexing.html#returning-a-view-versus-a-copy\n",
      "\n",
      "A value is trying to be set on a copy of a slice from a DataFrame\n",
      "\n",
      "See the caveats in the documentation: https://pandas.pydata.org/pandas-docs/stable/user_guide/indexing.html#returning-a-view-versus-a-copy\n",
      "\n",
      "A value is trying to be set on a copy of a slice from a DataFrame\n",
      "\n",
      "See the caveats in the documentation: https://pandas.pydata.org/pandas-docs/stable/user_guide/indexing.html#returning-a-view-versus-a-copy\n",
      "\n",
      "A value is trying to be set on a copy of a slice from a DataFrame\n",
      "\n",
      "See the caveats in the documentation: https://pandas.pydata.org/pandas-docs/stable/user_guide/indexing.html#returning-a-view-versus-a-copy\n",
      "\n",
      "A value is trying to be set on a copy of a slice from a DataFrame\n",
      "\n",
      "See the caveats in the documentation: https://pandas.pydata.org/pandas-docs/stable/user_guide/indexing.html#returning-a-view-versus-a-copy\n",
      "\n",
      "A value is trying to be set on a copy of a slice from a DataFrame\n",
      "\n",
      "See the caveats in the documentation: https://pandas.pydata.org/pandas-docs/stable/user_guide/indexing.html#returning-a-view-versus-a-copy\n",
      "\n",
      "A value is trying to be set on a copy of a slice from a DataFrame\n",
      "\n",
      "See the caveats in the documentation: https://pandas.pydata.org/pandas-docs/stable/user_guide/indexing.html#returning-a-view-versus-a-copy\n"
     ]
    },
    {
     "name": "stdout",
     "output_type": "stream",
     "text": [
      "\tQuerying PM event signal(s) STATUS.I_MEAS, IAB.I_A, IEARTH.I_EARTH, STATUS.I_EARTH_PCNT, STATUS.I_REF for system: FGC, className: lhc_self_pmd, source: RPTE.UA43.RB.A34 at 2021-04-02 20:56:47.160\n",
      "\tQuerying NXCALS signal(s) MB.A8R3:U_DIODE_RB, MB.B8R3:U_DIODE_RB, MB.A9R3:U_DIODE_RB, MB.B9R3:U_DIODE_RB, MB.A10R3:U_DIODE_RB... from 2021-04-02 20:55:57.160 to 2021-04-02 21:05:07.160\n",
      "\tQuerying NXCALS signal(s) MB.A9R3:U_EARTH_RB, DFLAS.7R3.1:U_EARTH_RB, MB.A12R3:U_EARTH_RB, MB.B9R3:U_EARTH_RB, MB.A14R3:U_EARTH_RB... from 2021-04-02 20:55:57.160 to 2021-04-02 21:05:07.160\n",
      "\tQuerying PM event timestamps for system: QPS, className: DQAMGNSRB_PMREL, source: * from 2021-04-02 20:56:37.160 to 2021-04-02 21:03:27.160\n",
      "\tQuerying PM event timestamps for system: QPS, className: DQAMCNMB_PMSTD, source: * from 2021-04-02 20:56:37.160 to 2021-04-02 20:56:57.160\n"
     ]
    },
    {
     "data": {
      "application/vnd.jupyter.widget-view+json": {
       "model_id": "01789a13fcd84be19eaba752fce23c7a",
       "version_major": 2,
       "version_minor": 0
      },
      "text/plain": [
       "Querying PM:   0%|          | 0/2 [00:00<?, ?it/s]"
      ]
     },
     "metadata": {},
     "output_type": "display_data"
    },
    {
     "data": {
      "application/vnd.jupyter.widget-view+json": {
       "model_id": "1dfd52396c3542d4acd2250bc8b75c08",
       "version_major": 2,
       "version_minor": 0
      },
      "text/plain": [
       "Querying iQPS logic PM:   0%|          | 0/2 [00:00<?, ?it/s]"
      ]
     },
     "metadata": {},
     "output_type": "display_data"
    },
    {
     "name": "stdout",
     "output_type": "stream",
     "text": [
      "\tQuerying PM event timestamps for system: QPS, className: DQAMSNRB, source: UJ33.RB.A34 from 2021-04-02 20:56:37.160 to 2021-04-02 21:13:27.160\n",
      "\tQuerying PM event timestamps for system: QPS, className: DQAMSNRB, source: UA43.RB.A34 from 2021-04-02 20:56:37.160 to 2021-04-02 21:13:27.160\n",
      "\tQuerying PM event signal(s) UJ33.RB.A34:U_DUMP_RES for system: QPS, className: DQAMSNRB, source: UJ33.RB.A34 at 2021-04-02 20:56:47.225\n",
      "\tQuerying PM event signal(s) UA43.RB.A34:U_DUMP_RES for system: QPS, className: DQAMSNRB, source: UA43.RB.A34 at 2021-04-02 20:56:47.725\n",
      "\tQuerying PM event timestamps for system: QPS, className: DQAMCNMB_PMHSU, source: * from 2021-04-02 20:56:37.160 to 2021-04-02 21:05:07.160\n"
     ]
    },
    {
     "data": {
      "application/vnd.jupyter.widget-view+json": {
       "model_id": "f3a20a811e9c4851969e72d5de0314bc",
       "version_major": 2,
       "version_minor": 0
      },
      "text/plain": [
       "Querying PM:   0%|          | 0/4 [00:00<?, ?it/s]"
      ]
     },
     "metadata": {},
     "output_type": "display_data"
    },
    {
     "name": "stdout",
     "output_type": "stream",
     "text": [
      "\tQuerying PM event signal(s) STATUS.I_MEAS, IAB.I_A, IEARTH.I_EARTH, STATUS.I_EARTH_PCNT, STATUS.I_REF for system: FGC, className: lhc_self_pmd, source: RPTE.UA43.RB.A34 at 2021-04-03 07:04:51.140\n",
      "\tQuerying NXCALS signal(s) MB.A8R3:U_DIODE_RB, MB.B8R3:U_DIODE_RB, MB.A9R3:U_DIODE_RB, MB.B9R3:U_DIODE_RB, MB.A10R3:U_DIODE_RB... from 2021-04-03 07:04:01.140 to 2021-04-03 07:13:11.140\n",
      "\tQuerying NXCALS signal(s) MB.A9R3:U_EARTH_RB, DFLAS.7R3.1:U_EARTH_RB, MB.A12R3:U_EARTH_RB, MB.B9R3:U_EARTH_RB, MB.A14R3:U_EARTH_RB... from 2021-04-03 07:04:01.140 to 2021-04-03 07:13:11.140\n",
      "\tQuerying PM event timestamps for system: QPS, className: DQAMGNSRB_PMREL, source: * from 2021-04-03 07:04:41.140 to 2021-04-03 07:11:31.140\n",
      "\tQuerying PM event timestamps for system: QPS, className: DQAMCNMB_PMSTD, source: * from 2021-04-03 07:04:41.140 to 2021-04-03 07:05:01.140\n"
     ]
    },
    {
     "data": {
      "application/vnd.jupyter.widget-view+json": {
       "model_id": "44d1860cd23d4e0c981db0a0afdaf861",
       "version_major": 2,
       "version_minor": 0
      },
      "text/plain": [
       "Querying PM:   0%|          | 0/4 [00:00<?, ?it/s]"
      ]
     },
     "metadata": {},
     "output_type": "display_data"
    },
    {
     "data": {
      "application/vnd.jupyter.widget-view+json": {
       "model_id": "5a6f7eea3b0b4183991d6e4aa3b0b183",
       "version_major": 2,
       "version_minor": 0
      },
      "text/plain": [
       "Querying iQPS logic PM:   0%|          | 0/4 [00:00<?, ?it/s]"
      ]
     },
     "metadata": {},
     "output_type": "display_data"
    },
    {
     "name": "stdout",
     "output_type": "stream",
     "text": [
      "\tQuerying PM event timestamps for system: QPS, className: DQAMSNRB, source: UJ33.RB.A34 from 2021-04-03 07:04:41.140 to 2021-04-03 07:21:31.140\n",
      "\tQuerying PM event timestamps for system: QPS, className: DQAMSNRB, source: UA43.RB.A34 from 2021-04-03 07:04:41.140 to 2021-04-03 07:21:31.140\n",
      "\tQuerying PM event signal(s) UJ33.RB.A34:U_DUMP_RES for system: QPS, className: DQAMSNRB, source: UJ33.RB.A34 at 2021-04-03 07:04:51.201\n",
      "\tQuerying PM event signal(s) UA43.RB.A34:U_DUMP_RES for system: QPS, className: DQAMSNRB, source: UA43.RB.A34 at 2021-04-03 07:04:51.698\n",
      "\tQuerying PM event timestamps for system: QPS, className: DQAMCNMB_PMHSU, source: * from 2021-04-03 07:04:41.140 to 2021-04-03 07:13:11.140\n"
     ]
    },
    {
     "data": {
      "application/vnd.jupyter.widget-view+json": {
       "model_id": "fb8c3679224449068a055730c7f2315d",
       "version_major": 2,
       "version_minor": 0
      },
      "text/plain": [
       "Querying PM:   0%|          | 0/9 [00:00<?, ?it/s]"
      ]
     },
     "metadata": {},
     "output_type": "display_data"
    },
    {
     "name": "stderr",
     "output_type": "stream",
     "text": [
      "\n",
      "A value is trying to be set on a copy of a slice from a DataFrame\n",
      "\n",
      "See the caveats in the documentation: https://pandas.pydata.org/pandas-docs/stable/user_guide/indexing.html#returning-a-view-versus-a-copy\n",
      "\n",
      "A value is trying to be set on a copy of a slice from a DataFrame\n",
      "\n",
      "See the caveats in the documentation: https://pandas.pydata.org/pandas-docs/stable/user_guide/indexing.html#returning-a-view-versus-a-copy\n",
      "\n",
      "A value is trying to be set on a copy of a slice from a DataFrame\n",
      "\n",
      "See the caveats in the documentation: https://pandas.pydata.org/pandas-docs/stable/user_guide/indexing.html#returning-a-view-versus-a-copy\n",
      "\n",
      "A value is trying to be set on a copy of a slice from a DataFrame\n",
      "\n",
      "See the caveats in the documentation: https://pandas.pydata.org/pandas-docs/stable/user_guide/indexing.html#returning-a-view-versus-a-copy\n",
      "\n",
      "A value is trying to be set on a copy of a slice from a DataFrame\n",
      "\n",
      "See the caveats in the documentation: https://pandas.pydata.org/pandas-docs/stable/user_guide/indexing.html#returning-a-view-versus-a-copy\n",
      "\n",
      "A value is trying to be set on a copy of a slice from a DataFrame\n",
      "\n",
      "See the caveats in the documentation: https://pandas.pydata.org/pandas-docs/stable/user_guide/indexing.html#returning-a-view-versus-a-copy\n",
      "\n",
      "A value is trying to be set on a copy of a slice from a DataFrame\n",
      "\n",
      "See the caveats in the documentation: https://pandas.pydata.org/pandas-docs/stable/user_guide/indexing.html#returning-a-view-versus-a-copy\n",
      "\n",
      "A value is trying to be set on a copy of a slice from a DataFrame\n",
      "\n",
      "See the caveats in the documentation: https://pandas.pydata.org/pandas-docs/stable/user_guide/indexing.html#returning-a-view-versus-a-copy\n"
     ]
    },
    {
     "name": "stdout",
     "output_type": "stream",
     "text": [
      "\tQuerying PM event signal(s) STATUS.I_MEAS, IAB.I_A, IEARTH.I_EARTH, STATUS.I_EARTH_PCNT, STATUS.I_REF for system: FGC, className: lhc_self_pmd, source: RPTE.UA83.RB.A78 at 2021-04-03 08:23:21.300\n",
      "\tQuerying NXCALS signal(s) MB.A8R7:U_DIODE_RB, MB.B8R7:U_DIODE_RB, MB.A9R7:U_DIODE_RB, MB.B9R7:U_DIODE_RB, MB.A10R7:U_DIODE_RB... from 2021-04-03 08:22:31.300 to 2021-04-03 08:31:41.300\n",
      "\tQuerying NXCALS signal(s) DFLAS.7R7.2:U_EARTH_RB, MB.B9R7:U_EARTH_RB, MB.A9R7:U_EARTH_RB, MB.B12R7:U_EARTH_RB, MB.A12R7:U_EARTH_RB... from 2021-04-03 08:22:31.300 to 2021-04-03 08:31:41.300\n",
      "\tQuerying PM event timestamps for system: QPS, className: DQAMGNSRB_PMREL, source: * from 2021-04-03 08:23:11.300 to 2021-04-03 08:30:01.300\n",
      "\tQuerying PM event timestamps for system: QPS, className: DQAMCNMB_PMSTD, source: * from 2021-04-03 08:23:11.300 to 2021-04-03 08:23:31.300\n"
     ]
    },
    {
     "data": {
      "application/vnd.jupyter.widget-view+json": {
       "model_id": "4ce9aef7c7e141e2a92406e2aaea149e",
       "version_major": 2,
       "version_minor": 0
      },
      "text/plain": [
       "Querying PM:   0%|          | 0/4 [00:00<?, ?it/s]"
      ]
     },
     "metadata": {},
     "output_type": "display_data"
    },
    {
     "data": {
      "application/vnd.jupyter.widget-view+json": {
       "model_id": "f026c85807fb465c9653199460d7d15b",
       "version_major": 2,
       "version_minor": 0
      },
      "text/plain": [
       "Querying iQPS logic PM:   0%|          | 0/4 [00:00<?, ?it/s]"
      ]
     },
     "metadata": {},
     "output_type": "display_data"
    },
    {
     "name": "stdout",
     "output_type": "stream",
     "text": [
      "\tQuerying PM event timestamps for system: QPS, className: DQAMSNRB, source: RR77.RB.A78 from 2021-04-03 08:23:11.300 to 2021-04-03 08:40:01.300\n",
      "\tQuerying PM event timestamps for system: QPS, className: DQAMSNRB, source: UA83.RB.A78 from 2021-04-03 08:23:11.300 to 2021-04-03 08:40:01.300\n",
      "\tQuerying PM event signal(s) RR77.RB.A78:U_DUMP_RES for system: QPS, className: DQAMSNRB, source: RR77.RB.A78 at 2021-04-03 08:23:21.359\n",
      "\tQuerying PM event signal(s) UA83.RB.A78:U_DUMP_RES for system: QPS, className: DQAMSNRB, source: UA83.RB.A78 at 2021-04-03 08:23:21.855\n",
      "\tQuerying PM event timestamps for system: QPS, className: DQAMCNMB_PMHSU, source: * from 2021-04-03 08:23:11.300 to 2021-04-03 08:31:41.300\n"
     ]
    },
    {
     "data": {
      "application/vnd.jupyter.widget-view+json": {
       "model_id": "320ff892dd0d451bb521d72ca463a800",
       "version_major": 2,
       "version_minor": 0
      },
      "text/plain": [
       "Querying PM:   0%|          | 0/8 [00:00<?, ?it/s]"
      ]
     },
     "metadata": {},
     "output_type": "display_data"
    },
    {
     "name": "stdout",
     "output_type": "stream",
     "text": [
      "\tQuerying PM event signal(s) STATUS.I_MEAS, IAB.I_A, IEARTH.I_EARTH, STATUS.I_EARTH_PCNT, STATUS.I_REF for system: FGC, className: lhc_self_pmd, source: RPTE.UA83.RB.A78 at 2021-04-03 17:56:27.780\n",
      "\tQuerying NXCALS signal(s) MB.A8R7:U_DIODE_RB, MB.B8R7:U_DIODE_RB, MB.A9R7:U_DIODE_RB, MB.B9R7:U_DIODE_RB, MB.A10R7:U_DIODE_RB... from 2021-04-03 17:55:37.780 to 2021-04-03 18:04:47.780\n",
      "\tQuerying NXCALS signal(s) DFLAS.7R7.2:U_EARTH_RB, MB.B9R7:U_EARTH_RB, MB.A9R7:U_EARTH_RB, MB.B12R7:U_EARTH_RB, MB.A12R7:U_EARTH_RB... from 2021-04-03 17:55:37.780 to 2021-04-03 18:04:47.780\n",
      "\tQuerying PM event timestamps for system: QPS, className: DQAMGNSRB_PMREL, source: * from 2021-04-03 17:56:17.780 to 2021-04-03 18:03:07.780\n",
      "\tQuerying PM event timestamps for system: QPS, className: DQAMCNMB_PMSTD, source: * from 2021-04-03 17:56:17.780 to 2021-04-03 17:56:37.780\n"
     ]
    },
    {
     "data": {
      "application/vnd.jupyter.widget-view+json": {
       "model_id": "339efd6679ad4a5699a7b2e1db5d5fcc",
       "version_major": 2,
       "version_minor": 0
      },
      "text/plain": [
       "Querying PM:   0%|          | 0/2 [00:00<?, ?it/s]"
      ]
     },
     "metadata": {},
     "output_type": "display_data"
    },
    {
     "data": {
      "application/vnd.jupyter.widget-view+json": {
       "model_id": "51398b4b21a142429b4d282ea4b31e9f",
       "version_major": 2,
       "version_minor": 0
      },
      "text/plain": [
       "Querying iQPS logic PM:   0%|          | 0/2 [00:00<?, ?it/s]"
      ]
     },
     "metadata": {},
     "output_type": "display_data"
    },
    {
     "name": "stdout",
     "output_type": "stream",
     "text": [
      "\tQuerying PM event timestamps for system: QPS, className: DQAMSNRB, source: RR77.RB.A78 from 2021-04-03 17:56:17.780 to 2021-04-03 18:13:07.780\n",
      "\tQuerying PM event timestamps for system: QPS, className: DQAMSNRB, source: UA83.RB.A78 from 2021-04-03 17:56:17.780 to 2021-04-03 18:13:07.780\n",
      "\tQuerying PM event signal(s) RR77.RB.A78:U_DUMP_RES for system: QPS, className: DQAMSNRB, source: RR77.RB.A78 at 2021-04-03 17:56:27.844\n",
      "\tQuerying PM event signal(s) UA83.RB.A78:U_DUMP_RES for system: QPS, className: DQAMSNRB, source: UA83.RB.A78 at 2021-04-03 17:56:28.343\n",
      "\tQuerying PM event timestamps for system: QPS, className: DQAMCNMB_PMHSU, source: * from 2021-04-03 17:56:17.780 to 2021-04-03 18:04:47.780\n"
     ]
    },
    {
     "data": {
      "application/vnd.jupyter.widget-view+json": {
       "model_id": "959c5dbdeb4a48dbbc85f150092df21e",
       "version_major": 2,
       "version_minor": 0
      },
      "text/plain": [
       "Querying PM:   0%|          | 0/8 [00:00<?, ?it/s]"
      ]
     },
     "metadata": {},
     "output_type": "display_data"
    },
    {
     "name": "stderr",
     "output_type": "stream",
     "text": [
      "\n",
      "A value is trying to be set on a copy of a slice from a DataFrame\n",
      "\n",
      "See the caveats in the documentation: https://pandas.pydata.org/pandas-docs/stable/user_guide/indexing.html#returning-a-view-versus-a-copy\n",
      "\n",
      "A value is trying to be set on a copy of a slice from a DataFrame\n",
      "\n",
      "See the caveats in the documentation: https://pandas.pydata.org/pandas-docs/stable/user_guide/indexing.html#returning-a-view-versus-a-copy\n",
      "\n",
      "A value is trying to be set on a copy of a slice from a DataFrame\n",
      "\n",
      "See the caveats in the documentation: https://pandas.pydata.org/pandas-docs/stable/user_guide/indexing.html#returning-a-view-versus-a-copy\n",
      "\n",
      "A value is trying to be set on a copy of a slice from a DataFrame\n",
      "\n",
      "See the caveats in the documentation: https://pandas.pydata.org/pandas-docs/stable/user_guide/indexing.html#returning-a-view-versus-a-copy\n",
      "\n",
      "A value is trying to be set on a copy of a slice from a DataFrame\n",
      "\n",
      "See the caveats in the documentation: https://pandas.pydata.org/pandas-docs/stable/user_guide/indexing.html#returning-a-view-versus-a-copy\n",
      "\n",
      "A value is trying to be set on a copy of a slice from a DataFrame\n",
      "\n",
      "See the caveats in the documentation: https://pandas.pydata.org/pandas-docs/stable/user_guide/indexing.html#returning-a-view-versus-a-copy\n",
      "\n",
      "A value is trying to be set on a copy of a slice from a DataFrame\n",
      "\n",
      "See the caveats in the documentation: https://pandas.pydata.org/pandas-docs/stable/user_guide/indexing.html#returning-a-view-versus-a-copy\n",
      "\n",
      "A value is trying to be set on a copy of a slice from a DataFrame\n",
      "\n",
      "See the caveats in the documentation: https://pandas.pydata.org/pandas-docs/stable/user_guide/indexing.html#returning-a-view-versus-a-copy\n",
      "\n",
      "A value is trying to be set on a copy of a slice from a DataFrame\n",
      "\n",
      "See the caveats in the documentation: https://pandas.pydata.org/pandas-docs/stable/user_guide/indexing.html#returning-a-view-versus-a-copy\n",
      "\n",
      "A value is trying to be set on a copy of a slice from a DataFrame\n",
      "\n",
      "See the caveats in the documentation: https://pandas.pydata.org/pandas-docs/stable/user_guide/indexing.html#returning-a-view-versus-a-copy\n",
      "\n",
      "A value is trying to be set on a copy of a slice from a DataFrame\n",
      "\n",
      "See the caveats in the documentation: https://pandas.pydata.org/pandas-docs/stable/user_guide/indexing.html#returning-a-view-versus-a-copy\n",
      "\n",
      "A value is trying to be set on a copy of a slice from a DataFrame\n",
      "\n",
      "See the caveats in the documentation: https://pandas.pydata.org/pandas-docs/stable/user_guide/indexing.html#returning-a-view-versus-a-copy\n",
      "\n",
      "A value is trying to be set on a copy of a slice from a DataFrame\n",
      "\n",
      "See the caveats in the documentation: https://pandas.pydata.org/pandas-docs/stable/user_guide/indexing.html#returning-a-view-versus-a-copy\n",
      "\n",
      "A value is trying to be set on a copy of a slice from a DataFrame\n",
      "\n",
      "See the caveats in the documentation: https://pandas.pydata.org/pandas-docs/stable/user_guide/indexing.html#returning-a-view-versus-a-copy\n",
      "\n",
      "A value is trying to be set on a copy of a slice from a DataFrame\n",
      "\n",
      "See the caveats in the documentation: https://pandas.pydata.org/pandas-docs/stable/user_guide/indexing.html#returning-a-view-versus-a-copy\n",
      "\n",
      "A value is trying to be set on a copy of a slice from a DataFrame\n",
      "\n",
      "See the caveats in the documentation: https://pandas.pydata.org/pandas-docs/stable/user_guide/indexing.html#returning-a-view-versus-a-copy\n",
      "\n",
      "A value is trying to be set on a copy of a slice from a DataFrame\n",
      "\n",
      "See the caveats in the documentation: https://pandas.pydata.org/pandas-docs/stable/user_guide/indexing.html#returning-a-view-versus-a-copy\n",
      "\n",
      "A value is trying to be set on a copy of a slice from a DataFrame\n",
      "\n",
      "See the caveats in the documentation: https://pandas.pydata.org/pandas-docs/stable/user_guide/indexing.html#returning-a-view-versus-a-copy\n",
      "\n",
      "A value is trying to be set on a copy of a slice from a DataFrame\n",
      "\n",
      "See the caveats in the documentation: https://pandas.pydata.org/pandas-docs/stable/user_guide/indexing.html#returning-a-view-versus-a-copy\n",
      "\n",
      "A value is trying to be set on a copy of a slice from a DataFrame\n",
      "\n",
      "See the caveats in the documentation: https://pandas.pydata.org/pandas-docs/stable/user_guide/indexing.html#returning-a-view-versus-a-copy\n",
      "\n",
      "A value is trying to be set on a copy of a slice from a DataFrame\n",
      "\n",
      "See the caveats in the documentation: https://pandas.pydata.org/pandas-docs/stable/user_guide/indexing.html#returning-a-view-versus-a-copy\n",
      "\n",
      "A value is trying to be set on a copy of a slice from a DataFrame\n",
      "\n",
      "See the caveats in the documentation: https://pandas.pydata.org/pandas-docs/stable/user_guide/indexing.html#returning-a-view-versus-a-copy\n",
      "\n",
      "A value is trying to be set on a copy of a slice from a DataFrame\n",
      "\n",
      "See the caveats in the documentation: https://pandas.pydata.org/pandas-docs/stable/user_guide/indexing.html#returning-a-view-versus-a-copy\n",
      "\n",
      "A value is trying to be set on a copy of a slice from a DataFrame\n",
      "\n",
      "See the caveats in the documentation: https://pandas.pydata.org/pandas-docs/stable/user_guide/indexing.html#returning-a-view-versus-a-copy\n",
      "\n",
      "A value is trying to be set on a copy of a slice from a DataFrame\n",
      "\n",
      "See the caveats in the documentation: https://pandas.pydata.org/pandas-docs/stable/user_guide/indexing.html#returning-a-view-versus-a-copy\n",
      "\n",
      "A value is trying to be set on a copy of a slice from a DataFrame\n",
      "\n",
      "See the caveats in the documentation: https://pandas.pydata.org/pandas-docs/stable/user_guide/indexing.html#returning-a-view-versus-a-copy\n",
      "\n",
      "A value is trying to be set on a copy of a slice from a DataFrame\n",
      "\n",
      "See the caveats in the documentation: https://pandas.pydata.org/pandas-docs/stable/user_guide/indexing.html#returning-a-view-versus-a-copy\n",
      "\n",
      "A value is trying to be set on a copy of a slice from a DataFrame\n",
      "\n",
      "See the caveats in the documentation: https://pandas.pydata.org/pandas-docs/stable/user_guide/indexing.html#returning-a-view-versus-a-copy\n",
      "\n",
      "A value is trying to be set on a copy of a slice from a DataFrame\n",
      "\n",
      "See the caveats in the documentation: https://pandas.pydata.org/pandas-docs/stable/user_guide/indexing.html#returning-a-view-versus-a-copy\n",
      "\n",
      "A value is trying to be set on a copy of a slice from a DataFrame\n",
      "\n",
      "See the caveats in the documentation: https://pandas.pydata.org/pandas-docs/stable/user_guide/indexing.html#returning-a-view-versus-a-copy\n",
      "\n",
      "A value is trying to be set on a copy of a slice from a DataFrame\n",
      "\n",
      "See the caveats in the documentation: https://pandas.pydata.org/pandas-docs/stable/user_guide/indexing.html#returning-a-view-versus-a-copy\n",
      "\n",
      "A value is trying to be set on a copy of a slice from a DataFrame\n",
      "\n",
      "See the caveats in the documentation: https://pandas.pydata.org/pandas-docs/stable/user_guide/indexing.html#returning-a-view-versus-a-copy\n",
      "\n",
      "A value is trying to be set on a copy of a slice from a DataFrame\n",
      "\n",
      "See the caveats in the documentation: https://pandas.pydata.org/pandas-docs/stable/user_guide/indexing.html#returning-a-view-versus-a-copy\n",
      "\n",
      "A value is trying to be set on a copy of a slice from a DataFrame\n",
      "\n",
      "See the caveats in the documentation: https://pandas.pydata.org/pandas-docs/stable/user_guide/indexing.html#returning-a-view-versus-a-copy\n",
      "\n",
      "A value is trying to be set on a copy of a slice from a DataFrame\n",
      "\n",
      "See the caveats in the documentation: https://pandas.pydata.org/pandas-docs/stable/user_guide/indexing.html#returning-a-view-versus-a-copy\n",
      "\n",
      "A value is trying to be set on a copy of a slice from a DataFrame\n",
      "\n",
      "See the caveats in the documentation: https://pandas.pydata.org/pandas-docs/stable/user_guide/indexing.html#returning-a-view-versus-a-copy\n",
      "\n",
      "A value is trying to be set on a copy of a slice from a DataFrame\n",
      "\n",
      "See the caveats in the documentation: https://pandas.pydata.org/pandas-docs/stable/user_guide/indexing.html#returning-a-view-versus-a-copy\n",
      "\n",
      "A value is trying to be set on a copy of a slice from a DataFrame\n",
      "\n",
      "See the caveats in the documentation: https://pandas.pydata.org/pandas-docs/stable/user_guide/indexing.html#returning-a-view-versus-a-copy\n",
      "\n",
      "A value is trying to be set on a copy of a slice from a DataFrame\n",
      "\n",
      "See the caveats in the documentation: https://pandas.pydata.org/pandas-docs/stable/user_guide/indexing.html#returning-a-view-versus-a-copy\n",
      "\n",
      "A value is trying to be set on a copy of a slice from a DataFrame\n",
      "\n",
      "See the caveats in the documentation: https://pandas.pydata.org/pandas-docs/stable/user_guide/indexing.html#returning-a-view-versus-a-copy\n"
     ]
    },
    {
     "name": "stdout",
     "output_type": "stream",
     "text": [
      "\tQuerying PM event signal(s) STATUS.I_MEAS, IAB.I_A, IEARTH.I_EARTH, STATUS.I_EARTH_PCNT, STATUS.I_REF for system: FGC, className: lhc_self_pmd, source: RPTE.UA43.RB.A34 at 2021-04-03 18:28:40.360\n",
      "\tQuerying NXCALS signal(s) MB.A8R3:U_DIODE_RB, MB.B8R3:U_DIODE_RB, MB.A9R3:U_DIODE_RB, MB.B9R3:U_DIODE_RB, MB.A10R3:U_DIODE_RB... from 2021-04-03 18:27:50.360 to 2021-04-03 18:37:00.360\n",
      "\tQuerying NXCALS signal(s) MB.A9R3:U_EARTH_RB, DFLAS.7R3.1:U_EARTH_RB, MB.A12R3:U_EARTH_RB, MB.B9R3:U_EARTH_RB, MB.A14R3:U_EARTH_RB... from 2021-04-03 18:27:50.360 to 2021-04-03 18:37:00.360\n",
      "\tQuerying PM event timestamps for system: QPS, className: DQAMGNSRB_PMREL, source: * from 2021-04-03 18:28:30.360 to 2021-04-03 18:35:20.360\n"
     ]
    },
    {
     "name": "stderr",
     "output_type": "stream",
     "text": [
      "Some nQPS PM buffers missing. ['B19L4'] not found for RB.A34 within [(10, 's'), (400, 's')] around 1617467320360000000.\n"
     ]
    },
    {
     "name": "stdout",
     "output_type": "stream",
     "text": [
      "\tQuerying PM event timestamps for system: QPS, className: DQAMCNMB_PMSTD, source: * from 2021-04-03 18:28:30.360 to 2021-04-03 18:28:50.360\n"
     ]
    },
    {
     "data": {
      "application/vnd.jupyter.widget-view+json": {
       "model_id": "0e660e2939634cc98b92e27c326818c2",
       "version_major": 2,
       "version_minor": 0
      },
      "text/plain": [
       "Querying PM:   0%|          | 0/2 [00:00<?, ?it/s]"
      ]
     },
     "metadata": {},
     "output_type": "display_data"
    },
    {
     "data": {
      "application/vnd.jupyter.widget-view+json": {
       "model_id": "84c39f10924e45e28963021e356d1d81",
       "version_major": 2,
       "version_minor": 0
      },
      "text/plain": [
       "Querying iQPS logic PM:   0%|          | 0/2 [00:00<?, ?it/s]"
      ]
     },
     "metadata": {},
     "output_type": "display_data"
    },
    {
     "name": "stdout",
     "output_type": "stream",
     "text": [
      "\tQuerying PM event timestamps for system: QPS, className: DQAMSNRB, source: UJ33.RB.A34 from 2021-04-03 18:28:30.360 to 2021-04-03 18:45:20.360\n",
      "\tQuerying PM event timestamps for system: QPS, className: DQAMSNRB, source: UA43.RB.A34 from 2021-04-03 18:28:30.360 to 2021-04-03 18:45:20.360\n",
      "\tQuerying PM event signal(s) UJ33.RB.A34:U_DUMP_RES for system: QPS, className: DQAMSNRB, source: UJ33.RB.A34 at 2021-04-03 18:28:40.434\n",
      "\tQuerying PM event signal(s) UA43.RB.A34:U_DUMP_RES for system: QPS, className: DQAMSNRB, source: UA43.RB.A34 at 2021-04-03 18:28:40.934\n",
      "\tQuerying PM event timestamps for system: QPS, className: DQAMCNMB_PMHSU, source: * from 2021-04-03 18:28:30.360 to 2021-04-03 18:37:00.360\n"
     ]
    },
    {
     "data": {
      "application/vnd.jupyter.widget-view+json": {
       "model_id": "8e8ef1e31165474fa576bec5f1328c48",
       "version_major": 2,
       "version_minor": 0
      },
      "text/plain": [
       "Querying PM:   0%|          | 0/4 [00:00<?, ?it/s]"
      ]
     },
     "metadata": {},
     "output_type": "display_data"
    },
    {
     "name": "stderr",
     "output_type": "stream",
     "text": [
      "\n",
      "A value is trying to be set on a copy of a slice from a DataFrame\n",
      "\n",
      "See the caveats in the documentation: https://pandas.pydata.org/pandas-docs/stable/user_guide/indexing.html#returning-a-view-versus-a-copy\n",
      "\n",
      "A value is trying to be set on a copy of a slice from a DataFrame\n",
      "\n",
      "See the caveats in the documentation: https://pandas.pydata.org/pandas-docs/stable/user_guide/indexing.html#returning-a-view-versus-a-copy\n",
      "\n",
      "A value is trying to be set on a copy of a slice from a DataFrame\n",
      "\n",
      "See the caveats in the documentation: https://pandas.pydata.org/pandas-docs/stable/user_guide/indexing.html#returning-a-view-versus-a-copy\n",
      "\n",
      "A value is trying to be set on a copy of a slice from a DataFrame\n",
      "\n",
      "See the caveats in the documentation: https://pandas.pydata.org/pandas-docs/stable/user_guide/indexing.html#returning-a-view-versus-a-copy\n",
      "\n",
      "A value is trying to be set on a copy of a slice from a DataFrame\n",
      "\n",
      "See the caveats in the documentation: https://pandas.pydata.org/pandas-docs/stable/user_guide/indexing.html#returning-a-view-versus-a-copy\n",
      "\n",
      "A value is trying to be set on a copy of a slice from a DataFrame\n",
      "\n",
      "See the caveats in the documentation: https://pandas.pydata.org/pandas-docs/stable/user_guide/indexing.html#returning-a-view-versus-a-copy\n",
      "\n",
      "A value is trying to be set on a copy of a slice from a DataFrame\n",
      "\n",
      "See the caveats in the documentation: https://pandas.pydata.org/pandas-docs/stable/user_guide/indexing.html#returning-a-view-versus-a-copy\n",
      "\n",
      "A value is trying to be set on a copy of a slice from a DataFrame\n",
      "\n",
      "See the caveats in the documentation: https://pandas.pydata.org/pandas-docs/stable/user_guide/indexing.html#returning-a-view-versus-a-copy\n",
      "\n",
      "A value is trying to be set on a copy of a slice from a DataFrame\n",
      "\n",
      "See the caveats in the documentation: https://pandas.pydata.org/pandas-docs/stable/user_guide/indexing.html#returning-a-view-versus-a-copy\n",
      "\n",
      "A value is trying to be set on a copy of a slice from a DataFrame\n",
      "\n",
      "See the caveats in the documentation: https://pandas.pydata.org/pandas-docs/stable/user_guide/indexing.html#returning-a-view-versus-a-copy\n",
      "\n",
      "A value is trying to be set on a copy of a slice from a DataFrame\n",
      "\n",
      "See the caveats in the documentation: https://pandas.pydata.org/pandas-docs/stable/user_guide/indexing.html#returning-a-view-versus-a-copy\n",
      "\n",
      "A value is trying to be set on a copy of a slice from a DataFrame\n",
      "\n",
      "See the caveats in the documentation: https://pandas.pydata.org/pandas-docs/stable/user_guide/indexing.html#returning-a-view-versus-a-copy\n",
      "\n",
      "A value is trying to be set on a copy of a slice from a DataFrame\n",
      "\n",
      "See the caveats in the documentation: https://pandas.pydata.org/pandas-docs/stable/user_guide/indexing.html#returning-a-view-versus-a-copy\n",
      "\n",
      "A value is trying to be set on a copy of a slice from a DataFrame\n",
      "\n",
      "See the caveats in the documentation: https://pandas.pydata.org/pandas-docs/stable/user_guide/indexing.html#returning-a-view-versus-a-copy\n",
      "\n",
      "A value is trying to be set on a copy of a slice from a DataFrame\n",
      "\n",
      "See the caveats in the documentation: https://pandas.pydata.org/pandas-docs/stable/user_guide/indexing.html#returning-a-view-versus-a-copy\n",
      "\n",
      "A value is trying to be set on a copy of a slice from a DataFrame\n",
      "\n",
      "See the caveats in the documentation: https://pandas.pydata.org/pandas-docs/stable/user_guide/indexing.html#returning-a-view-versus-a-copy\n",
      "\n",
      "A value is trying to be set on a copy of a slice from a DataFrame\n",
      "\n",
      "See the caveats in the documentation: https://pandas.pydata.org/pandas-docs/stable/user_guide/indexing.html#returning-a-view-versus-a-copy\n",
      "\n",
      "A value is trying to be set on a copy of a slice from a DataFrame\n",
      "\n",
      "See the caveats in the documentation: https://pandas.pydata.org/pandas-docs/stable/user_guide/indexing.html#returning-a-view-versus-a-copy\n",
      "\n",
      "A value is trying to be set on a copy of a slice from a DataFrame\n",
      "\n",
      "See the caveats in the documentation: https://pandas.pydata.org/pandas-docs/stable/user_guide/indexing.html#returning-a-view-versus-a-copy\n",
      "\n",
      "A value is trying to be set on a copy of a slice from a DataFrame\n",
      "\n",
      "See the caveats in the documentation: https://pandas.pydata.org/pandas-docs/stable/user_guide/indexing.html#returning-a-view-versus-a-copy\n",
      "\n",
      "A value is trying to be set on a copy of a slice from a DataFrame\n",
      "\n",
      "See the caveats in the documentation: https://pandas.pydata.org/pandas-docs/stable/user_guide/indexing.html#returning-a-view-versus-a-copy\n",
      "\n",
      "A value is trying to be set on a copy of a slice from a DataFrame\n",
      "\n",
      "See the caveats in the documentation: https://pandas.pydata.org/pandas-docs/stable/user_guide/indexing.html#returning-a-view-versus-a-copy\n",
      "\n",
      "A value is trying to be set on a copy of a slice from a DataFrame\n",
      "\n",
      "See the caveats in the documentation: https://pandas.pydata.org/pandas-docs/stable/user_guide/indexing.html#returning-a-view-versus-a-copy\n",
      "\n",
      "A value is trying to be set on a copy of a slice from a DataFrame\n",
      "\n",
      "See the caveats in the documentation: https://pandas.pydata.org/pandas-docs/stable/user_guide/indexing.html#returning-a-view-versus-a-copy\n"
     ]
    },
    {
     "name": "stdout",
     "output_type": "stream",
     "text": [
      "\tQuerying PM event signal(s) STATUS.I_MEAS, IAB.I_A, IEARTH.I_EARTH, STATUS.I_EARTH_PCNT, STATUS.I_REF for system: FGC, className: lhc_self_pmd, source: RPTE.UA83.RB.A78 at 2021-04-04 07:44:38.940\n",
      "\tQuerying NXCALS signal(s) MB.A8R7:U_DIODE_RB, MB.B8R7:U_DIODE_RB, MB.A9R7:U_DIODE_RB, MB.B9R7:U_DIODE_RB, MB.A10R7:U_DIODE_RB... from 2021-04-04 07:43:48.940 to 2021-04-04 07:52:58.940\n",
      "\tQuerying NXCALS signal(s) DFLAS.7R7.2:U_EARTH_RB, MB.B9R7:U_EARTH_RB, MB.A9R7:U_EARTH_RB, MB.B12R7:U_EARTH_RB, MB.A12R7:U_EARTH_RB... from 2021-04-04 07:43:48.940 to 2021-04-04 07:52:58.940\n",
      "\tQuerying PM event timestamps for system: QPS, className: DQAMGNSRB_PMREL, source: * from 2021-04-04 07:44:28.940 to 2021-04-04 07:51:18.940\n",
      "\tQuerying PM event timestamps for system: QPS, className: DQAMCNMB_PMSTD, source: * from 2021-04-04 07:44:28.940 to 2021-04-04 07:44:48.940\n"
     ]
    },
    {
     "data": {
      "application/vnd.jupyter.widget-view+json": {
       "model_id": "a018af77cd264003b8209b88845a9a03",
       "version_major": 2,
       "version_minor": 0
      },
      "text/plain": [
       "Querying PM:   0%|          | 0/4 [00:00<?, ?it/s]"
      ]
     },
     "metadata": {},
     "output_type": "display_data"
    },
    {
     "data": {
      "application/vnd.jupyter.widget-view+json": {
       "model_id": "0820306ca03a47098edb3181267508ba",
       "version_major": 2,
       "version_minor": 0
      },
      "text/plain": [
       "Querying iQPS logic PM:   0%|          | 0/4 [00:00<?, ?it/s]"
      ]
     },
     "metadata": {},
     "output_type": "display_data"
    },
    {
     "name": "stdout",
     "output_type": "stream",
     "text": [
      "\tQuerying PM event timestamps for system: QPS, className: DQAMSNRB, source: RR77.RB.A78 from 2021-04-04 07:44:28.940 to 2021-04-04 08:01:18.940\n",
      "\tQuerying PM event timestamps for system: QPS, className: DQAMSNRB, source: UA83.RB.A78 from 2021-04-04 07:44:28.940 to 2021-04-04 08:01:18.940\n",
      "\tQuerying PM event signal(s) RR77.RB.A78:U_DUMP_RES for system: QPS, className: DQAMSNRB, source: RR77.RB.A78 at 2021-04-04 07:44:39\n",
      "\tQuerying PM event signal(s) UA83.RB.A78:U_DUMP_RES for system: QPS, className: DQAMSNRB, source: UA83.RB.A78 at 2021-04-04 07:44:39.496\n",
      "\tQuerying PM event timestamps for system: QPS, className: DQAMCNMB_PMHSU, source: * from 2021-04-04 07:44:28.940 to 2021-04-04 07:52:58.940\n"
     ]
    },
    {
     "data": {
      "application/vnd.jupyter.widget-view+json": {
       "model_id": "01ea3fd603da44ab954e28331d26e08c",
       "version_major": 2,
       "version_minor": 0
      },
      "text/plain": [
       "Querying PM:   0%|          | 0/6 [00:00<?, ?it/s]"
      ]
     },
     "metadata": {},
     "output_type": "display_data"
    },
    {
     "name": "stderr",
     "output_type": "stream",
     "text": [
      "\n",
      "A value is trying to be set on a copy of a slice from a DataFrame\n",
      "\n",
      "See the caveats in the documentation: https://pandas.pydata.org/pandas-docs/stable/user_guide/indexing.html#returning-a-view-versus-a-copy\n",
      "\n",
      "A value is trying to be set on a copy of a slice from a DataFrame\n",
      "\n",
      "See the caveats in the documentation: https://pandas.pydata.org/pandas-docs/stable/user_guide/indexing.html#returning-a-view-versus-a-copy\n",
      "\n",
      "A value is trying to be set on a copy of a slice from a DataFrame\n",
      "\n",
      "See the caveats in the documentation: https://pandas.pydata.org/pandas-docs/stable/user_guide/indexing.html#returning-a-view-versus-a-copy\n",
      "\n",
      "A value is trying to be set on a copy of a slice from a DataFrame\n",
      "\n",
      "See the caveats in the documentation: https://pandas.pydata.org/pandas-docs/stable/user_guide/indexing.html#returning-a-view-versus-a-copy\n",
      "\n",
      "A value is trying to be set on a copy of a slice from a DataFrame\n",
      "\n",
      "See the caveats in the documentation: https://pandas.pydata.org/pandas-docs/stable/user_guide/indexing.html#returning-a-view-versus-a-copy\n",
      "\n",
      "A value is trying to be set on a copy of a slice from a DataFrame\n",
      "\n",
      "See the caveats in the documentation: https://pandas.pydata.org/pandas-docs/stable/user_guide/indexing.html#returning-a-view-versus-a-copy\n",
      "\n",
      "A value is trying to be set on a copy of a slice from a DataFrame\n",
      "\n",
      "See the caveats in the documentation: https://pandas.pydata.org/pandas-docs/stable/user_guide/indexing.html#returning-a-view-versus-a-copy\n",
      "\n",
      "A value is trying to be set on a copy of a slice from a DataFrame\n",
      "\n",
      "See the caveats in the documentation: https://pandas.pydata.org/pandas-docs/stable/user_guide/indexing.html#returning-a-view-versus-a-copy\n",
      "\n",
      "A value is trying to be set on a copy of a slice from a DataFrame\n",
      "\n",
      "See the caveats in the documentation: https://pandas.pydata.org/pandas-docs/stable/user_guide/indexing.html#returning-a-view-versus-a-copy\n",
      "\n",
      "A value is trying to be set on a copy of a slice from a DataFrame\n",
      "\n",
      "See the caveats in the documentation: https://pandas.pydata.org/pandas-docs/stable/user_guide/indexing.html#returning-a-view-versus-a-copy\n",
      "\n",
      "A value is trying to be set on a copy of a slice from a DataFrame\n",
      "\n",
      "See the caveats in the documentation: https://pandas.pydata.org/pandas-docs/stable/user_guide/indexing.html#returning-a-view-versus-a-copy\n",
      "\n",
      "A value is trying to be set on a copy of a slice from a DataFrame\n",
      "\n",
      "See the caveats in the documentation: https://pandas.pydata.org/pandas-docs/stable/user_guide/indexing.html#returning-a-view-versus-a-copy\n",
      "\n",
      "A value is trying to be set on a copy of a slice from a DataFrame\n",
      "\n",
      "See the caveats in the documentation: https://pandas.pydata.org/pandas-docs/stable/user_guide/indexing.html#returning-a-view-versus-a-copy\n",
      "\n",
      "A value is trying to be set on a copy of a slice from a DataFrame\n",
      "\n",
      "See the caveats in the documentation: https://pandas.pydata.org/pandas-docs/stable/user_guide/indexing.html#returning-a-view-versus-a-copy\n",
      "\n",
      "A value is trying to be set on a copy of a slice from a DataFrame\n",
      "\n",
      "See the caveats in the documentation: https://pandas.pydata.org/pandas-docs/stable/user_guide/indexing.html#returning-a-view-versus-a-copy\n",
      "\n",
      "A value is trying to be set on a copy of a slice from a DataFrame\n",
      "\n",
      "See the caveats in the documentation: https://pandas.pydata.org/pandas-docs/stable/user_guide/indexing.html#returning-a-view-versus-a-copy\n",
      "\n",
      "A value is trying to be set on a copy of a slice from a DataFrame\n",
      "\n",
      "See the caveats in the documentation: https://pandas.pydata.org/pandas-docs/stable/user_guide/indexing.html#returning-a-view-versus-a-copy\n",
      "\n",
      "A value is trying to be set on a copy of a slice from a DataFrame\n",
      "\n",
      "See the caveats in the documentation: https://pandas.pydata.org/pandas-docs/stable/user_guide/indexing.html#returning-a-view-versus-a-copy\n",
      "\n",
      "A value is trying to be set on a copy of a slice from a DataFrame\n",
      "\n",
      "See the caveats in the documentation: https://pandas.pydata.org/pandas-docs/stable/user_guide/indexing.html#returning-a-view-versus-a-copy\n",
      "\n",
      "A value is trying to be set on a copy of a slice from a DataFrame\n",
      "\n",
      "See the caveats in the documentation: https://pandas.pydata.org/pandas-docs/stable/user_guide/indexing.html#returning-a-view-versus-a-copy\n",
      "\n",
      "A value is trying to be set on a copy of a slice from a DataFrame\n",
      "\n",
      "See the caveats in the documentation: https://pandas.pydata.org/pandas-docs/stable/user_guide/indexing.html#returning-a-view-versus-a-copy\n",
      "\n",
      "A value is trying to be set on a copy of a slice from a DataFrame\n",
      "\n",
      "See the caveats in the documentation: https://pandas.pydata.org/pandas-docs/stable/user_guide/indexing.html#returning-a-view-versus-a-copy\n",
      "\n",
      "A value is trying to be set on a copy of a slice from a DataFrame\n",
      "\n",
      "See the caveats in the documentation: https://pandas.pydata.org/pandas-docs/stable/user_guide/indexing.html#returning-a-view-versus-a-copy\n",
      "\n",
      "A value is trying to be set on a copy of a slice from a DataFrame\n",
      "\n",
      "See the caveats in the documentation: https://pandas.pydata.org/pandas-docs/stable/user_guide/indexing.html#returning-a-view-versus-a-copy\n"
     ]
    },
    {
     "name": "stdout",
     "output_type": "stream",
     "text": [
      "\tQuerying PM event signal(s) STATUS.I_MEAS, IAB.I_A, IEARTH.I_EARTH, STATUS.I_EARTH_PCNT, STATUS.I_REF for system: FGC, className: lhc_self_pmd, source: RPTE.UA43.RB.A34 at 2021-04-04 08:36:50.920\n",
      "\tQuerying NXCALS signal(s) MB.A8R3:U_DIODE_RB, MB.B8R3:U_DIODE_RB, MB.A9R3:U_DIODE_RB, MB.B9R3:U_DIODE_RB, MB.A10R3:U_DIODE_RB... from 2021-04-04 08:36:00.920 to 2021-04-04 08:45:10.920\n"
     ]
    },
    {
     "ename": "KeyboardInterrupt",
     "evalue": "",
     "output_type": "error",
     "traceback": [
      "\u001b[0;31m---------------------------------------------------------------------------\u001b[0m",
      "\u001b[0;31mKeyboardInterrupt\u001b[0m                         Traceback (most recent call last)",
      "\u001b[0;32m<ipython-input-9-7957bef17ecb>\u001b[0m in \u001b[0;36m<module>\u001b[0;34m\u001b[0m\n\u001b[1;32m     10\u001b[0m         \u001b[0;32mfor\u001b[0m \u001b[0msignal_group\u001b[0m \u001b[0;32min\u001b[0m \u001b[0msignal_groups\u001b[0m\u001b[0;34m:\u001b[0m\u001b[0;34m\u001b[0m\u001b[0;34m\u001b[0m\u001b[0m\n\u001b[1;32m     11\u001b[0m             \u001b[0mgroup\u001b[0m \u001b[0;34m=\u001b[0m \u001b[0msignal_group\u001b[0m\u001b[0;34m(\u001b[0m\u001b[0;34m**\u001b[0m\u001b[0mfpa_identifier\u001b[0m\u001b[0;34m,\u001b[0m \u001b[0mspark\u001b[0m\u001b[0;34m=\u001b[0m\u001b[0mspark\u001b[0m\u001b[0;34m)\u001b[0m\u001b[0;34m\u001b[0m\u001b[0;34m\u001b[0m\u001b[0m\n\u001b[0;32m---> 12\u001b[0;31m             acquisition_to_hdf5(acquisition=group, \n\u001b[0m\u001b[1;32m     13\u001b[0m                                 \u001b[0mfile_dir\u001b[0m\u001b[0;34m=\u001b[0m\u001b[0mfile_dir\u001b[0m\u001b[0;34m,\u001b[0m\u001b[0;34m\u001b[0m\u001b[0;34m\u001b[0m\u001b[0m\n\u001b[1;32m     14\u001b[0m                                 \u001b[0mcontext_dir_name\u001b[0m\u001b[0;34m=\u001b[0m\u001b[0;34m\"20220707_context\"\u001b[0m\u001b[0;34m,\u001b[0m\u001b[0;34m\u001b[0m\u001b[0;34m\u001b[0m\u001b[0m\n",
      "\u001b[0;32m/eos/home-c/cobermai/SWAN_projects/lhc-anomaly-detection/src/utils/hdf_tools.py\u001b[0m in \u001b[0;36macquisition_to_hdf5\u001b[0;34m(acquisition, file_dir, context_dir_name, failed_queries_dir_name, data_dir_name)\u001b[0m\n\u001b[1;32m     37\u001b[0m \u001b[0;34m\u001b[0m\u001b[0m\n\u001b[1;32m     38\u001b[0m     \u001b[0;32mtry\u001b[0m\u001b[0;34m:\u001b[0m\u001b[0;34m\u001b[0m\u001b[0;34m\u001b[0m\u001b[0m\n\u001b[0;32m---> 39\u001b[0;31m         \u001b[0mlist_df\u001b[0m \u001b[0;34m=\u001b[0m \u001b[0macquisition\u001b[0m\u001b[0;34m.\u001b[0m\u001b[0mget_signal_data\u001b[0m\u001b[0;34m(\u001b[0m\u001b[0;34m)\u001b[0m\u001b[0;34m\u001b[0m\u001b[0;34m\u001b[0m\u001b[0m\n\u001b[0m\u001b[1;32m     40\u001b[0m \u001b[0;34m\u001b[0m\u001b[0m\n\u001b[1;32m     41\u001b[0m         \u001b[0;32mfor\u001b[0m \u001b[0mdf\u001b[0m \u001b[0;32min\u001b[0m \u001b[0mlist_df\u001b[0m\u001b[0;34m:\u001b[0m\u001b[0;34m\u001b[0m\u001b[0;34m\u001b[0m\u001b[0m\n",
      "\u001b[0;32m/eos/home-c/cobermai/SWAN_projects/lhc-anomaly-detection/src/acquisitions/voltage_nxcals.py\u001b[0m in \u001b[0;36mget_signal_data\u001b[0;34m(self)\u001b[0m\n\u001b[1;32m     33\u001b[0m     \u001b[0;32mdef\u001b[0m \u001b[0mget_signal_data\u001b[0m\u001b[0;34m(\u001b[0m\u001b[0mself\u001b[0m\u001b[0;34m)\u001b[0m \u001b[0;34m->\u001b[0m \u001b[0mlist\u001b[0m\u001b[0;34m:\u001b[0m\u001b[0;34m\u001b[0m\u001b[0;34m\u001b[0m\u001b[0m\n\u001b[1;32m     34\u001b[0m         \u001b[0;34m\"\"\" method to get selected signal with specified sigmon query builder and signal timestamp  \"\"\"\u001b[0m\u001b[0;34m\u001b[0m\u001b[0;34m\u001b[0m\u001b[0m\n\u001b[0;32m---> 35\u001b[0;31m         u_diode = self.query_builder.query_voltage_nxcals(\n\u001b[0m\u001b[1;32m     36\u001b[0m             \u001b[0mself\u001b[0m\u001b[0;34m.\u001b[0m\u001b[0msignal_names\u001b[0m\u001b[0;34m[\u001b[0m\u001b[0;36m0\u001b[0m\u001b[0;34m]\u001b[0m\u001b[0;34m[\u001b[0m\u001b[0;36m0\u001b[0m\u001b[0;34m]\u001b[0m\u001b[0;34m,\u001b[0m\u001b[0;34m\u001b[0m\u001b[0;34m\u001b[0m\u001b[0m\n\u001b[1;32m     37\u001b[0m             \u001b[0mself\u001b[0m\u001b[0;34m.\u001b[0m\u001b[0msignal_names\u001b[0m\u001b[0;34m[\u001b[0m\u001b[0;36m0\u001b[0m\u001b[0;34m]\u001b[0m\u001b[0;34m[\u001b[0m\u001b[0;36m1\u001b[0m\u001b[0;34m]\u001b[0m\u001b[0;34m,\u001b[0m\u001b[0;34m\u001b[0m\u001b[0;34m\u001b[0m\u001b[0m\n",
      "\u001b[0;32m/eos/project/l/lhcsm/venv/lhcsmapi/analysis/CircuitQuery.py\u001b[0m in \u001b[0;36mwrapper\u001b[0;34m(*args, **kw)\u001b[0m\n\u001b[1;32m     31\u001b[0m                               \u001b[0;34m%\u001b[0m \u001b[0;34m(\u001b[0m\u001b[0mquery\u001b[0m\u001b[0;34m.\u001b[0m\u001b[0mcircuit_name\u001b[0m\u001b[0;34m,\u001b[0m \u001b[0mfunc\u001b[0m\u001b[0;34m.\u001b[0m\u001b[0m__name__\u001b[0m\u001b[0;34m,\u001b[0m \u001b[0mquery\u001b[0m\u001b[0;34m.\u001b[0m\u001b[0mexecution_count\u001b[0m\u001b[0;34m,\u001b[0m \u001b[0mquery\u001b[0m\u001b[0;34m.\u001b[0m\u001b[0mmax_executions\u001b[0m\u001b[0;34m)\u001b[0m\u001b[0;34m\u001b[0m\u001b[0;34m\u001b[0m\u001b[0m\n\u001b[1;32m     32\u001b[0m                 \u001b[0mdisplay\u001b[0m\u001b[0;34m(\u001b[0m\u001b[0mHTML\u001b[0m\u001b[0;34m(\u001b[0m\u001b[0mcstr\u001b[0m\u001b[0;34m(\u001b[0m\u001b[0moutput_text\u001b[0m\u001b[0;34m,\u001b[0m \u001b[0;34m'blue'\u001b[0m\u001b[0;34m)\u001b[0m\u001b[0;34m)\u001b[0m\u001b[0;34m)\u001b[0m\u001b[0;34m\u001b[0m\u001b[0;34m\u001b[0m\u001b[0m\n\u001b[0;32m---> 33\u001b[0;31m             \u001b[0;32mreturn\u001b[0m \u001b[0mfunc\u001b[0m\u001b[0;34m(\u001b[0m\u001b[0;34m*\u001b[0m\u001b[0margs\u001b[0m\u001b[0;34m,\u001b[0m \u001b[0;34m**\u001b[0m\u001b[0mkw\u001b[0m\u001b[0;34m)\u001b[0m\u001b[0;34m\u001b[0m\u001b[0;34m\u001b[0m\u001b[0m\n\u001b[0m\u001b[1;32m     34\u001b[0m \u001b[0;34m\u001b[0m\u001b[0m\n\u001b[1;32m     35\u001b[0m         \u001b[0;32mreturn\u001b[0m \u001b[0mwrapper\u001b[0m\u001b[0;34m\u001b[0m\u001b[0;34m\u001b[0m\u001b[0m\n",
      "\u001b[0;32m/eos/project/l/lhcsm/venv/lhcsmapi/analysis/nqps/NqpsQuery.py\u001b[0m in \u001b[0;36mquery_voltage_nxcals\u001b[0;34m(self, system, signal, timestamp_sync, spark, duration)\u001b[0m\n\u001b[1;32m    118\u001b[0m             containing the raw query is returned)\n\u001b[1;32m    119\u001b[0m         \"\"\"\n\u001b[0;32m--> 120\u001b[0;31m         \u001b[0;32mreturn\u001b[0m \u001b[0mQueryBuilder\u001b[0m\u001b[0;34m(\u001b[0m\u001b[0;34m)\u001b[0m\u001b[0;34m.\u001b[0m\u001b[0mwith_nxcals\u001b[0m\u001b[0;34m(\u001b[0m\u001b[0mspark\u001b[0m\u001b[0;34m)\u001b[0m\u001b[0;31m \u001b[0m\u001b[0;31m\\\u001b[0m\u001b[0;34m\u001b[0m\u001b[0;34m\u001b[0m\u001b[0m\n\u001b[0m\u001b[1;32m    121\u001b[0m             \u001b[0;34m.\u001b[0m\u001b[0mwith_duration\u001b[0m\u001b[0;34m(\u001b[0m\u001b[0mt_start\u001b[0m\u001b[0;34m=\u001b[0m\u001b[0mtimestamp_sync\u001b[0m\u001b[0;34m,\u001b[0m \u001b[0mduration\u001b[0m\u001b[0;34m=\u001b[0m\u001b[0mduration\u001b[0m\u001b[0;34m)\u001b[0m\u001b[0;31m \u001b[0m\u001b[0;31m\\\u001b[0m\u001b[0;34m\u001b[0m\u001b[0;34m\u001b[0m\u001b[0m\n\u001b[1;32m    122\u001b[0m             \u001b[0;34m.\u001b[0m\u001b[0mwith_circuit_type\u001b[0m\u001b[0;34m(\u001b[0m\u001b[0mself\u001b[0m\u001b[0;34m.\u001b[0m\u001b[0mcircuit_type\u001b[0m\u001b[0;34m)\u001b[0m\u001b[0;31m \u001b[0m\u001b[0;31m\\\u001b[0m\u001b[0;34m\u001b[0m\u001b[0;34m\u001b[0m\u001b[0m\n",
      "\u001b[0;32m/eos/project/l/lhcsm/venv/lhcsmapi/api/processing.py\u001b[0m in \u001b[0;36mconvert_index_to_sec\u001b[0;34m(self)\u001b[0m\n\u001b[1;32m     94\u001b[0m         \"\"\"\n\u001b[1;32m     95\u001b[0m \u001b[0;34m\u001b[0m\u001b[0m\n\u001b[0;32m---> 96\u001b[0;31m         self._dataframes = [\n\u001b[0m\u001b[1;32m     97\u001b[0m             \u001b[0mSignalIndexConversion\u001b[0m\u001b[0;34m.\u001b[0m\u001b[0mconvert_indices_to_sec\u001b[0m\u001b[0;34m(\u001b[0m\u001b[0mdf\u001b[0m\u001b[0;34m)\u001b[0m \u001b[0;32mif\u001b[0m \u001b[0;32mnot\u001b[0m \u001b[0mdf\u001b[0m\u001b[0;34m.\u001b[0m\u001b[0mempty\u001b[0m \u001b[0;32melse\u001b[0m \u001b[0mdf\u001b[0m \u001b[0;32mfor\u001b[0m \u001b[0mdf\u001b[0m \u001b[0;32min\u001b[0m \u001b[0mself\u001b[0m\u001b[0;34m.\u001b[0m\u001b[0m_dataframes\u001b[0m\u001b[0;34m\u001b[0m\u001b[0;34m\u001b[0m\u001b[0m\n\u001b[1;32m     98\u001b[0m         ]\n",
      "\u001b[0;32m/eos/project/l/lhcsm/venv/lhcsmapi/api/processing.py\u001b[0m in \u001b[0;36m<listcomp>\u001b[0;34m(.0)\u001b[0m\n\u001b[1;32m     95\u001b[0m \u001b[0;34m\u001b[0m\u001b[0m\n\u001b[1;32m     96\u001b[0m         self._dataframes = [\n\u001b[0;32m---> 97\u001b[0;31m             \u001b[0mSignalIndexConversion\u001b[0m\u001b[0;34m.\u001b[0m\u001b[0mconvert_indices_to_sec\u001b[0m\u001b[0;34m(\u001b[0m\u001b[0mdf\u001b[0m\u001b[0;34m)\u001b[0m \u001b[0;32mif\u001b[0m \u001b[0;32mnot\u001b[0m \u001b[0mdf\u001b[0m\u001b[0;34m.\u001b[0m\u001b[0mempty\u001b[0m \u001b[0;32melse\u001b[0m \u001b[0mdf\u001b[0m \u001b[0;32mfor\u001b[0m \u001b[0mdf\u001b[0m \u001b[0;32min\u001b[0m \u001b[0mself\u001b[0m\u001b[0;34m.\u001b[0m\u001b[0m_dataframes\u001b[0m\u001b[0;34m\u001b[0m\u001b[0;34m\u001b[0m\u001b[0m\n\u001b[0m\u001b[1;32m     98\u001b[0m         ]\n\u001b[1;32m     99\u001b[0m         \u001b[0;32mreturn\u001b[0m \u001b[0mself\u001b[0m\u001b[0;34m\u001b[0m\u001b[0;34m\u001b[0m\u001b[0m\n",
      "\u001b[0;32m/eos/project/l/lhcsm/venv/lhcsmapi/pyedsl/dbsignal/SignalIndexConversion.py\u001b[0m in \u001b[0;36mconvert_indices_to_sec\u001b[0;34m(data_structure, unit, tz)\u001b[0m\n\u001b[1;32m     58\u001b[0m         \"\"\"\n\u001b[1;32m     59\u001b[0m \u001b[0;34m\u001b[0m\u001b[0m\n\u001b[0;32m---> 60\u001b[0;31m         \u001b[0;32mreturn\u001b[0m \u001b[0mSignalIndexConversion\u001b[0m\u001b[0;34m.\u001b[0m\u001b[0mconvert_indices\u001b[0m\u001b[0;34m(\u001b[0m\u001b[0mdata_structure\u001b[0m\u001b[0;34m,\u001b[0m \u001b[0mTime\u001b[0m\u001b[0;34m.\u001b[0m\u001b[0mto_unix_timestamp_in_sec\u001b[0m\u001b[0;34m,\u001b[0m \u001b[0munit\u001b[0m\u001b[0;34m,\u001b[0m \u001b[0mtz\u001b[0m\u001b[0;34m)\u001b[0m\u001b[0;34m\u001b[0m\u001b[0;34m\u001b[0m\u001b[0m\n\u001b[0m\u001b[1;32m     61\u001b[0m \u001b[0;34m\u001b[0m\u001b[0m\n\u001b[1;32m     62\u001b[0m     \u001b[0;34m@\u001b[0m\u001b[0mstaticmethod\u001b[0m\u001b[0;34m\u001b[0m\u001b[0;34m\u001b[0m\u001b[0m\n",
      "\u001b[0;32m/eos/project/l/lhcsm/venv/lhcsmapi/pyedsl/dbsignal/SignalIndexConversion.py\u001b[0m in \u001b[0;36mconvert_indices\u001b[0;34m(data_structure, conversion_function, unit, tz)\u001b[0m\n\u001b[1;32m     26\u001b[0m             \u001b[0;32mif\u001b[0m \u001b[0;32mnot\u001b[0m \u001b[0mdata_structure\u001b[0m\u001b[0;34m.\u001b[0m\u001b[0mempty\u001b[0m\u001b[0;34m:\u001b[0m\u001b[0;34m\u001b[0m\u001b[0;34m\u001b[0m\u001b[0m\n\u001b[1;32m     27\u001b[0m                 \u001b[0mindex\u001b[0m \u001b[0;34m=\u001b[0m \u001b[0mdata_structure\u001b[0m\u001b[0;34m.\u001b[0m\u001b[0mindex\u001b[0m\u001b[0;34m.\u001b[0m\u001b[0mtolist\u001b[0m\u001b[0;34m(\u001b[0m\u001b[0;34m)\u001b[0m\u001b[0;34m\u001b[0m\u001b[0;34m\u001b[0m\u001b[0m\n\u001b[0;32m---> 28\u001b[0;31m                 \u001b[0mnew_index\u001b[0m \u001b[0;34m=\u001b[0m \u001b[0;34m[\u001b[0m\u001b[0mconversion_function\u001b[0m\u001b[0;34m(\u001b[0m\u001b[0mt\u001b[0m\u001b[0;34m,\u001b[0m \u001b[0munit\u001b[0m\u001b[0;34m,\u001b[0m \u001b[0mtz\u001b[0m\u001b[0;34m)\u001b[0m \u001b[0;32mfor\u001b[0m \u001b[0mt\u001b[0m \u001b[0;32min\u001b[0m \u001b[0mindex\u001b[0m\u001b[0;34m]\u001b[0m\u001b[0;34m\u001b[0m\u001b[0;34m\u001b[0m\u001b[0m\n\u001b[0m\u001b[1;32m     29\u001b[0m                 \u001b[0mdata_structure\u001b[0m\u001b[0;34m.\u001b[0m\u001b[0mset_index\u001b[0m\u001b[0;34m(\u001b[0m\u001b[0;34m[\u001b[0m\u001b[0mnew_index\u001b[0m\u001b[0;34m]\u001b[0m\u001b[0;34m,\u001b[0m \u001b[0minplace\u001b[0m\u001b[0;34m=\u001b[0m\u001b[0;32mTrue\u001b[0m\u001b[0;34m)\u001b[0m\u001b[0;34m\u001b[0m\u001b[0;34m\u001b[0m\u001b[0m\n\u001b[1;32m     30\u001b[0m             \u001b[0;32mreturn\u001b[0m \u001b[0mdata_structure\u001b[0m\u001b[0;34m\u001b[0m\u001b[0;34m\u001b[0m\u001b[0m\n",
      "\u001b[0;32m/eos/project/l/lhcsm/venv/lhcsmapi/pyedsl/dbsignal/SignalIndexConversion.py\u001b[0m in \u001b[0;36m<listcomp>\u001b[0;34m(.0)\u001b[0m\n\u001b[1;32m     26\u001b[0m             \u001b[0;32mif\u001b[0m \u001b[0;32mnot\u001b[0m \u001b[0mdata_structure\u001b[0m\u001b[0;34m.\u001b[0m\u001b[0mempty\u001b[0m\u001b[0;34m:\u001b[0m\u001b[0;34m\u001b[0m\u001b[0;34m\u001b[0m\u001b[0m\n\u001b[1;32m     27\u001b[0m                 \u001b[0mindex\u001b[0m \u001b[0;34m=\u001b[0m \u001b[0mdata_structure\u001b[0m\u001b[0;34m.\u001b[0m\u001b[0mindex\u001b[0m\u001b[0;34m.\u001b[0m\u001b[0mtolist\u001b[0m\u001b[0;34m(\u001b[0m\u001b[0;34m)\u001b[0m\u001b[0;34m\u001b[0m\u001b[0;34m\u001b[0m\u001b[0m\n\u001b[0;32m---> 28\u001b[0;31m                 \u001b[0mnew_index\u001b[0m \u001b[0;34m=\u001b[0m \u001b[0;34m[\u001b[0m\u001b[0mconversion_function\u001b[0m\u001b[0;34m(\u001b[0m\u001b[0mt\u001b[0m\u001b[0;34m,\u001b[0m \u001b[0munit\u001b[0m\u001b[0;34m,\u001b[0m \u001b[0mtz\u001b[0m\u001b[0;34m)\u001b[0m \u001b[0;32mfor\u001b[0m \u001b[0mt\u001b[0m \u001b[0;32min\u001b[0m \u001b[0mindex\u001b[0m\u001b[0;34m]\u001b[0m\u001b[0;34m\u001b[0m\u001b[0;34m\u001b[0m\u001b[0m\n\u001b[0m\u001b[1;32m     29\u001b[0m                 \u001b[0mdata_structure\u001b[0m\u001b[0;34m.\u001b[0m\u001b[0mset_index\u001b[0m\u001b[0;34m(\u001b[0m\u001b[0;34m[\u001b[0m\u001b[0mnew_index\u001b[0m\u001b[0;34m]\u001b[0m\u001b[0;34m,\u001b[0m \u001b[0minplace\u001b[0m\u001b[0;34m=\u001b[0m\u001b[0;32mTrue\u001b[0m\u001b[0;34m)\u001b[0m\u001b[0;34m\u001b[0m\u001b[0;34m\u001b[0m\u001b[0m\n\u001b[1;32m     30\u001b[0m             \u001b[0;32mreturn\u001b[0m \u001b[0mdata_structure\u001b[0m\u001b[0;34m\u001b[0m\u001b[0;34m\u001b[0m\u001b[0m\n",
      "\u001b[0;32m/eos/project/l/lhcsm/venv/lhcsmapi/Time.py\u001b[0m in \u001b[0;36mto_unix_timestamp_in_sec\u001b[0;34m(date_time, unit, tz, warn)\u001b[0m\n\u001b[1;32m    385\u001b[0m         \"\"\"\n\u001b[1;32m    386\u001b[0m \u001b[0;34m\u001b[0m\u001b[0m\n\u001b[0;32m--> 387\u001b[0;31m         \u001b[0munix_time\u001b[0m \u001b[0;34m=\u001b[0m \u001b[0mTime\u001b[0m\u001b[0;34m.\u001b[0m\u001b[0mto_unix_timestamp\u001b[0m\u001b[0;34m(\u001b[0m\u001b[0mdate_time\u001b[0m\u001b[0;34m,\u001b[0m \u001b[0munit\u001b[0m\u001b[0;34m,\u001b[0m \u001b[0mtz\u001b[0m\u001b[0;34m)\u001b[0m\u001b[0;34m\u001b[0m\u001b[0;34m\u001b[0m\u001b[0m\n\u001b[0m\u001b[1;32m    388\u001b[0m         \u001b[0;32mreturn\u001b[0m \u001b[0mTime\u001b[0m\u001b[0;34m.\u001b[0m\u001b[0m__convert_unix_time_in_nanoseconds_to_seconds\u001b[0m\u001b[0;34m(\u001b[0m\u001b[0munix_time\u001b[0m\u001b[0;34m,\u001b[0m \u001b[0mwarn\u001b[0m\u001b[0;34m)\u001b[0m\u001b[0;34m\u001b[0m\u001b[0;34m\u001b[0m\u001b[0m\n\u001b[1;32m    389\u001b[0m \u001b[0;34m\u001b[0m\u001b[0m\n",
      "\u001b[0;32m/eos/project/l/lhcsm/venv/lhcsmapi/Time.py\u001b[0m in \u001b[0;36mto_unix_timestamp\u001b[0;34m(date_time, unit, tz)\u001b[0m\n\u001b[1;32m    106\u001b[0m                   \u001b[0mValueError\u001b[0m\u001b[0;34m:\u001b[0m \u001b[0mcannot\u001b[0m \u001b[0mcast\u001b[0m \u001b[0munit\u001b[0m \u001b[0mn\u001b[0m\u001b[0;34m\u001b[0m\u001b[0;34m\u001b[0m\u001b[0m\n\u001b[1;32m    107\u001b[0m         \"\"\"\n\u001b[0;32m--> 108\u001b[0;31m         \u001b[0mtime_converter\u001b[0m \u001b[0;34m=\u001b[0m \u001b[0mTime\u001b[0m\u001b[0;34m.\u001b[0m\u001b[0m__validate_conversion\u001b[0m\u001b[0;34m(\u001b[0m\u001b[0mdate_time\u001b[0m\u001b[0;34m,\u001b[0m \u001b[0;34m'unix'\u001b[0m\u001b[0;34m,\u001b[0m \u001b[0munit\u001b[0m\u001b[0;34m,\u001b[0m \u001b[0mtz\u001b[0m\u001b[0;34m)\u001b[0m\u001b[0;34m\u001b[0m\u001b[0;34m\u001b[0m\u001b[0m\n\u001b[0m\u001b[1;32m    109\u001b[0m         \u001b[0;32mreturn\u001b[0m \u001b[0mtime_converter\u001b[0m\u001b[0;34m.\u001b[0m\u001b[0munix_timestamp\u001b[0m\u001b[0;34m\u001b[0m\u001b[0;34m\u001b[0m\u001b[0m\n\u001b[1;32m    110\u001b[0m \u001b[0;34m\u001b[0m\u001b[0m\n",
      "\u001b[0;32m/eos/project/l/lhcsm/venv/lhcsmapi/Time.py\u001b[0m in \u001b[0;36m__validate_conversion\u001b[0;34m(date_time, conversion_type, unit, tz)\u001b[0m\n\u001b[1;32m    571\u001b[0m         \u001b[0;34m\"\"\"Method validates if time conversion can be performed\"\"\"\u001b[0m\u001b[0;34m\u001b[0m\u001b[0;34m\u001b[0m\u001b[0m\n\u001b[1;32m    572\u001b[0m         \u001b[0;32mtry\u001b[0m\u001b[0;34m:\u001b[0m\u001b[0;34m\u001b[0m\u001b[0;34m\u001b[0m\u001b[0m\n\u001b[0;32m--> 573\u001b[0;31m             \u001b[0;32mreturn\u001b[0m \u001b[0mTime\u001b[0m\u001b[0;34m(\u001b[0m\u001b[0mdate_time\u001b[0m\u001b[0;34m,\u001b[0m \u001b[0munit\u001b[0m\u001b[0;34m,\u001b[0m \u001b[0mtz\u001b[0m\u001b[0;34m)\u001b[0m\u001b[0;34m\u001b[0m\u001b[0;34m\u001b[0m\u001b[0m\n\u001b[0m\u001b[1;32m    574\u001b[0m         \u001b[0;32mexcept\u001b[0m \u001b[0mTypeError\u001b[0m\u001b[0;34m:\u001b[0m\u001b[0;34m\u001b[0m\u001b[0;34m\u001b[0m\u001b[0m\n\u001b[1;32m    575\u001b[0m             \u001b[0;32mraise\u001b[0m \u001b[0mTypeError\u001b[0m\u001b[0;34m(\u001b[0m\u001b[0;34m'Cannot convert input {} to {} timestamp'\u001b[0m\u001b[0;34m.\u001b[0m\u001b[0mformat\u001b[0m\u001b[0;34m(\u001b[0m\u001b[0mtype\u001b[0m\u001b[0;34m(\u001b[0m\u001b[0mdate_time\u001b[0m\u001b[0;34m)\u001b[0m\u001b[0;34m,\u001b[0m \u001b[0mconversion_type\u001b[0m\u001b[0;34m)\u001b[0m\u001b[0;34m)\u001b[0m\u001b[0;34m\u001b[0m\u001b[0;34m\u001b[0m\u001b[0m\n",
      "\u001b[0;32m/eos/project/l/lhcsm/venv/lhcsmapi/Time.py\u001b[0m in \u001b[0;36m__init__\u001b[0;34m(self, date_time, unit, tz)\u001b[0m\n\u001b[1;32m     28\u001b[0m \u001b[0;34m\u001b[0m\u001b[0m\n\u001b[1;32m     29\u001b[0m         \u001b[0;32mif\u001b[0m \u001b[0misinstance\u001b[0m\u001b[0;34m(\u001b[0m\u001b[0mdate_time\u001b[0m\u001b[0;34m,\u001b[0m \u001b[0;34m(\u001b[0m\u001b[0mint\u001b[0m\u001b[0;34m,\u001b[0m \u001b[0mfloat\u001b[0m\u001b[0;34m)\u001b[0m\u001b[0;34m)\u001b[0m \u001b[0;32mand\u001b[0m \u001b[0munit\u001b[0m \u001b[0;32min\u001b[0m \u001b[0mTime\u001b[0m\u001b[0;34m.\u001b[0m\u001b[0m__units\u001b[0m\u001b[0;34m.\u001b[0m\u001b[0mkeys\u001b[0m\u001b[0;34m(\u001b[0m\u001b[0;34m)\u001b[0m\u001b[0;34m:\u001b[0m\u001b[0;34m\u001b[0m\u001b[0;34m\u001b[0m\u001b[0m\n\u001b[0;32m---> 30\u001b[0;31m             \u001b[0mdate_time\u001b[0m \u001b[0;34m=\u001b[0m \u001b[0mTime\u001b[0m\u001b[0;34m.\u001b[0m\u001b[0m__convert_real_numbers_to_unix_time\u001b[0m\u001b[0;34m(\u001b[0m\u001b[0mdate_time\u001b[0m\u001b[0;34m,\u001b[0m \u001b[0mTime\u001b[0m\u001b[0;34m.\u001b[0m\u001b[0m__units\u001b[0m\u001b[0;34m[\u001b[0m\u001b[0munit\u001b[0m\u001b[0;34m]\u001b[0m\u001b[0;34m)\u001b[0m\u001b[0;34m\u001b[0m\u001b[0;34m\u001b[0m\u001b[0m\n\u001b[0m\u001b[1;32m     31\u001b[0m             \u001b[0munit\u001b[0m \u001b[0;34m=\u001b[0m \u001b[0;34m'ns'\u001b[0m\u001b[0;34m\u001b[0m\u001b[0;34m\u001b[0m\u001b[0m\n\u001b[1;32m     32\u001b[0m \u001b[0;34m\u001b[0m\u001b[0m\n",
      "\u001b[0;32m/eos/project/l/lhcsm/venv/lhcsmapi/Time.py\u001b[0m in \u001b[0;36m__convert_real_numbers_to_unix_time\u001b[0;34m(date_time, ratio)\u001b[0m\n\u001b[1;32m    578\u001b[0m     \u001b[0;32mdef\u001b[0m \u001b[0m__convert_real_numbers_to_unix_time\u001b[0m\u001b[0;34m(\u001b[0m\u001b[0mdate_time\u001b[0m\u001b[0;34m,\u001b[0m \u001b[0mratio\u001b[0m\u001b[0;34m)\u001b[0m\u001b[0;34m:\u001b[0m\u001b[0;34m\u001b[0m\u001b[0;34m\u001b[0m\u001b[0m\n\u001b[1;32m    579\u001b[0m         \u001b[0;34m\"\"\"Method converts input of int or float to unix time based on ratio\"\"\"\u001b[0m\u001b[0;34m\u001b[0m\u001b[0;34m\u001b[0m\u001b[0m\n\u001b[0;32m--> 580\u001b[0;31m         \u001b[0;32mwith\u001b[0m \u001b[0mmpmath\u001b[0m\u001b[0;34m.\u001b[0m\u001b[0mmp\u001b[0m\u001b[0;34m.\u001b[0m\u001b[0mworkdps\u001b[0m\u001b[0;34m(\u001b[0m\u001b[0;36m20\u001b[0m\u001b[0;34m)\u001b[0m\u001b[0;34m:\u001b[0m\u001b[0;34m\u001b[0m\u001b[0;34m\u001b[0m\u001b[0m\n\u001b[0m\u001b[1;32m    581\u001b[0m             \u001b[0minput_full\u001b[0m \u001b[0;34m=\u001b[0m \u001b[0mmpmath\u001b[0m\u001b[0;34m.\u001b[0m\u001b[0mmpf\u001b[0m\u001b[0;34m(\u001b[0m\u001b[0mstr\u001b[0m\u001b[0;34m(\u001b[0m\u001b[0mdate_time\u001b[0m\u001b[0;34m)\u001b[0m\u001b[0;34m)\u001b[0m\u001b[0;34m\u001b[0m\u001b[0;34m\u001b[0m\u001b[0m\n\u001b[1;32m    582\u001b[0m \u001b[0;34m\u001b[0m\u001b[0m\n",
      "\u001b[0;32m/cvmfs/sft.cern.ch/lcg/views/LCG_100_nxcals/x86_64-centos7-gcc9-opt/lib/python3.8/site-packages/mpmath/ctx_mp.py\u001b[0m in \u001b[0;36mworkdps\u001b[0;34m(ctx, n, normalize_output)\u001b[0m\n\u001b[1;32m    453\u001b[0m         \u001b[0mbut\u001b[0m \u001b[0mchanges\u001b[0m \u001b[0mthe\u001b[0m \u001b[0mdecimal\u001b[0m \u001b[0mprecision\u001b[0m \u001b[0minstead\u001b[0m \u001b[0mof\u001b[0m \u001b[0mthe\u001b[0m \u001b[0mnumber\u001b[0m \u001b[0mof\u001b[0m \u001b[0mbits\u001b[0m\u001b[0;34m.\u001b[0m\u001b[0;34m\u001b[0m\u001b[0;34m\u001b[0m\u001b[0m\n\u001b[1;32m    454\u001b[0m         \"\"\"\n\u001b[0;32m--> 455\u001b[0;31m         \u001b[0;32mreturn\u001b[0m \u001b[0mPrecisionManager\u001b[0m\u001b[0;34m(\u001b[0m\u001b[0mctx\u001b[0m\u001b[0;34m,\u001b[0m \u001b[0;32mNone\u001b[0m\u001b[0;34m,\u001b[0m \u001b[0;32mlambda\u001b[0m \u001b[0md\u001b[0m\u001b[0;34m:\u001b[0m \u001b[0mn\u001b[0m\u001b[0;34m,\u001b[0m \u001b[0mnormalize_output\u001b[0m\u001b[0;34m)\u001b[0m\u001b[0;34m\u001b[0m\u001b[0;34m\u001b[0m\u001b[0m\n\u001b[0m\u001b[1;32m    456\u001b[0m \u001b[0;34m\u001b[0m\u001b[0m\n\u001b[1;32m    457\u001b[0m     \u001b[0;32mdef\u001b[0m \u001b[0mautoprec\u001b[0m\u001b[0;34m(\u001b[0m\u001b[0mctx\u001b[0m\u001b[0;34m,\u001b[0m \u001b[0mf\u001b[0m\u001b[0;34m,\u001b[0m \u001b[0mmaxprec\u001b[0m\u001b[0;34m=\u001b[0m\u001b[0;32mNone\u001b[0m\u001b[0;34m,\u001b[0m \u001b[0mcatch\u001b[0m\u001b[0;34m=\u001b[0m\u001b[0;34m(\u001b[0m\u001b[0;34m)\u001b[0m\u001b[0;34m,\u001b[0m \u001b[0mverbose\u001b[0m\u001b[0;34m=\u001b[0m\u001b[0;32mFalse\u001b[0m\u001b[0;34m)\u001b[0m\u001b[0;34m:\u001b[0m\u001b[0;34m\u001b[0m\u001b[0;34m\u001b[0m\u001b[0m\n",
      "\u001b[0;32m/cvmfs/sft.cern.ch/lcg/views/LCG_100_nxcals/x86_64-centos7-gcc9-opt/lib/python3.8/site-packages/mpmath/ctx_mp.py\u001b[0m in \u001b[0;36m__init__\u001b[0;34m(self, ctx, precfun, dpsfun, normalize_output)\u001b[0m\n\u001b[1;32m   1304\u001b[0m         \u001b[0mself\u001b[0m\u001b[0;34m.\u001b[0m\u001b[0mprecfun\u001b[0m \u001b[0;34m=\u001b[0m \u001b[0mprecfun\u001b[0m\u001b[0;34m\u001b[0m\u001b[0;34m\u001b[0m\u001b[0m\n\u001b[1;32m   1305\u001b[0m         \u001b[0mself\u001b[0m\u001b[0;34m.\u001b[0m\u001b[0mdpsfun\u001b[0m \u001b[0;34m=\u001b[0m \u001b[0mdpsfun\u001b[0m\u001b[0;34m\u001b[0m\u001b[0;34m\u001b[0m\u001b[0m\n\u001b[0;32m-> 1306\u001b[0;31m         \u001b[0mself\u001b[0m\u001b[0;34m.\u001b[0m\u001b[0mnormalize_output\u001b[0m \u001b[0;34m=\u001b[0m \u001b[0mnormalize_output\u001b[0m\u001b[0;34m\u001b[0m\u001b[0;34m\u001b[0m\u001b[0m\n\u001b[0m\u001b[1;32m   1307\u001b[0m     \u001b[0;32mdef\u001b[0m \u001b[0m__call__\u001b[0m\u001b[0;34m(\u001b[0m\u001b[0mself\u001b[0m\u001b[0;34m,\u001b[0m \u001b[0mf\u001b[0m\u001b[0;34m)\u001b[0m\u001b[0;34m:\u001b[0m\u001b[0;34m\u001b[0m\u001b[0;34m\u001b[0m\u001b[0m\n\u001b[1;32m   1308\u001b[0m         \u001b[0;32mdef\u001b[0m \u001b[0mg\u001b[0m\u001b[0;34m(\u001b[0m\u001b[0;34m*\u001b[0m\u001b[0margs\u001b[0m\u001b[0;34m,\u001b[0m \u001b[0;34m**\u001b[0m\u001b[0mkwargs\u001b[0m\u001b[0;34m)\u001b[0m\u001b[0;34m:\u001b[0m\u001b[0;34m\u001b[0m\u001b[0;34m\u001b[0m\u001b[0m\n",
      "\u001b[0;31mKeyboardInterrupt\u001b[0m: "
     ]
    }
   ],
   "source": [
    "for index, row in mp3_fpa_df_period.iterrows():\n",
    "    \n",
    "    fpa_identifier = {'circuit_type': row['Circuit Family'],\n",
    "                      'circuit_name': row['Circuit Name'],\n",
    "                      'timestamp_fgc': int(row['timestamp_fgc'])}\n",
    "    file_name = f\"{fpa_identifier['circuit_type']}_{fpa_identifier['circuit_name']}_{fpa_identifier['timestamp_fgc']}.hdf5\"\n",
    "    Path(file_dir / Path('20220707_plots')).mkdir(parents=True, exist_ok=True)\n",
    "    \n",
    "    if not os.path.isfile(str(file_dir / Path('20220707_plots') / f\"{fpa_identifier['circuit_type']}_{fpa_identifier['circuit_name']}_{fpa_identifier['timestamp_fgc']}.png\")):\n",
    "        for signal_group in signal_groups:\n",
    "            group = signal_group(**fpa_identifier, spark=spark)\n",
    "            acquisition_to_hdf5(acquisition=group, \n",
    "                                file_dir=file_dir,\n",
    "                                context_dir_name=\"20220707_context\",\n",
    "                                failed_queries_dir_name=\"20220707_failed\",\n",
    "                                data_dir_name=\"20220707_data\")\n",
    "\n",
    "        #log_acquisition(identifier=fpa_identifier, log_data={\"download_complete\": True}, log_path=context_path)\n",
    "\n",
    "        file_path = file_dir / Path('20220707_data') / file_name\n",
    "        data = load_from_hdf_with_regex(file_path)\n",
    "        fig = plt.figure(figsize=(20, 15))\n",
    "        for i, s in enumerate(signals):\n",
    "            fig.add_subplot(4, 3, i+1)\n",
    "            n_signals = 0\n",
    "            for df in data:\n",
    "                if bool(re.search(s, df.columns.values[0])):\n",
    "                    plt.plot(df.index.values, df.values)\n",
    "                    n_signals += 1\n",
    "            plt.title(f\"{s} ({n_signals})\")\n",
    "\n",
    "        plt.savefig(str(file_dir / Path('20220707_plots') / f\"{fpa_identifier['circuit_type']}_{fpa_identifier['circuit_name']}_{fpa_identifier['timestamp_fgc']}.png\"))\n",
    "        plt.close()\n",
    "    else:\n",
    "        print(f\"done: {file_name}\")"
   ]
  },
  {
   "cell_type": "code",
   "execution_count": null,
   "id": "04f3e7a5",
   "metadata": {},
   "outputs": [],
   "source": []
  }
 ],
 "metadata": {
  "kernelspec": {
   "display_name": "Python 3",
   "language": "python",
   "name": "python3"
  },
  "language_info": {
   "codemirror_mode": {
    "name": "ipython",
    "version": 3
   },
   "file_extension": ".py",
   "mimetype": "text/x-python",
   "name": "python",
   "nbconvert_exporter": "python",
   "pygments_lexer": "ipython3",
   "version": "3.8.6"
  },
  "sparkconnect": {
   "bundled_options": [
    "NXCALS",
    "SparkMetrics"
   ],
   "list_of_options": []
  }
 },
 "nbformat": 4,
 "nbformat_minor": 5
}
