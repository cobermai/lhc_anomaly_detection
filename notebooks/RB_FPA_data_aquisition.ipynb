{
 "cells": [
  {
   "cell_type": "markdown",
   "id": "de62fb17",
   "metadata": {},
   "source": [
    "# Import libraries"
   ]
  },
  {
   "cell_type": "code",
   "execution_count": 1,
   "id": "28e55775",
   "metadata": {},
   "outputs": [],
   "source": [
    "import sys\n",
    "from pathlib import Path\n",
    "sys.path.insert(0,'..')\n",
    "import glob\n",
    "#!pip install openpyxl"
   ]
  },
  {
   "cell_type": "code",
   "execution_count": 2,
   "id": "c7662299",
   "metadata": {},
   "outputs": [
    {
     "name": "stderr",
     "output_type": "stream",
     "text": [
      "`np.float` is a deprecated alias for the builtin `float`. To silence this warning, use `float` by itself. Doing this will not modify any behavior and is safe. If you specifically wanted the numpy scalar type, use `np.float64` here.\n",
      "Deprecated in NumPy 1.20; for more details and guidance: https://numpy.org/devdocs/release/1.20.0-notes.html#deprecations\n",
      "`np.float` is a deprecated alias for the builtin `float`. To silence this warning, use `float` by itself. Doing this will not modify any behavior and is safe. If you specifically wanted the numpy scalar type, use `np.float64` here.\n",
      "Deprecated in NumPy 1.20; for more details and guidance: https://numpy.org/devdocs/release/1.20.0-notes.html#deprecations\n",
      "`np.float` is a deprecated alias for the builtin `float`. To silence this warning, use `float` by itself. Doing this will not modify any behavior and is safe. If you specifically wanted the numpy scalar type, use `np.float64` here.\n",
      "Deprecated in NumPy 1.20; for more details and guidance: https://numpy.org/devdocs/release/1.20.0-notes.html#deprecations\n",
      "`np.float` is a deprecated alias for the builtin `float`. To silence this warning, use `float` by itself. Doing this will not modify any behavior and is safe. If you specifically wanted the numpy scalar type, use `np.float64` here.\n",
      "Deprecated in NumPy 1.20; for more details and guidance: https://numpy.org/devdocs/release/1.20.0-notes.html#deprecations\n",
      "`np.float` is a deprecated alias for the builtin `float`. To silence this warning, use `float` by itself. Doing this will not modify any behavior and is safe. If you specifically wanted the numpy scalar type, use `np.float64` here.\n",
      "Deprecated in NumPy 1.20; for more details and guidance: https://numpy.org/devdocs/release/1.20.0-notes.html#deprecations\n",
      "`np.float` is a deprecated alias for the builtin `float`. To silence this warning, use `float` by itself. Doing this will not modify any behavior and is safe. If you specifically wanted the numpy scalar type, use `np.float64` here.\n",
      "Deprecated in NumPy 1.20; for more details and guidance: https://numpy.org/devdocs/release/1.20.0-notes.html#deprecations\n",
      "`np.float` is a deprecated alias for the builtin `float`. To silence this warning, use `float` by itself. Doing this will not modify any behavior and is safe. If you specifically wanted the numpy scalar type, use `np.float64` here.\n",
      "Deprecated in NumPy 1.20; for more details and guidance: https://numpy.org/devdocs/release/1.20.0-notes.html#deprecations\n",
      "`np.float` is a deprecated alias for the builtin `float`. To silence this warning, use `float` by itself. Doing this will not modify any behavior and is safe. If you specifically wanted the numpy scalar type, use `np.float64` here.\n",
      "Deprecated in NumPy 1.20; for more details and guidance: https://numpy.org/devdocs/release/1.20.0-notes.html#deprecations\n",
      "`np.float` is a deprecated alias for the builtin `float`. To silence this warning, use `float` by itself. Doing this will not modify any behavior and is safe. If you specifically wanted the numpy scalar type, use `np.float64` here.\n",
      "Deprecated in NumPy 1.20; for more details and guidance: https://numpy.org/devdocs/release/1.20.0-notes.html#deprecations\n"
     ]
    }
   ],
   "source": [
    "import os\n",
    "import sys\n",
    "import pandas as pd\n",
    "import numpy as np\n",
    "import pickle\n",
    "import matplotlib.pyplot as plt\n",
    "import h5py\n",
    "\n",
    "from functools import partial\n",
    "from multiprocessing import Pool\n",
    "\n",
    "from lhcsmapi.Time import Time\n",
    "from lhcsmapi.metadata import signal_metadata\n",
    "from lhcsmapi.pyedsl.dbsignal.post_mortem.PmDbRequest import PmDbRequest\n",
    "from lhcsmapi.analysis.RbCircuitQuery import RbCircuitQuery\n",
    "\n",
    "from src.acquisitions.current_voltage_diode_leads_nxcals import CurrentVoltageDiodeLeadsNXCALS\n",
    "from src.acquisitions.current_voltage_diode_leads_pm import CurrentVoltageDiodeLeadsPM\n",
    "from src.acquisitions.ee_t_res_pm import EETResPM\n",
    "from src.acquisitions.ee_u_dump_res_pm import EEUDumpResPM\n",
    "from src.acquisitions.leads import Leads\n",
    "from src.acquisitions.pc_pm import PCPM\n",
    "from src.acquisitions.qh_pm import QHPM\n",
    "from src.acquisitions.voltage_logic_iqps import VoltageLogicIQPS\n",
    "from src.acquisitions.voltage_nqps import VoltageNQPS\n",
    "from src.acquisitions.voltage_nxcals import VoltageNXCALS\n",
    "\n",
    "from src.utils.utils import log_acquisition\n",
    "from src.utils.hdf_tools import acquisition_to_hdf5, load_from_hdf_with_regex\n",
    "from src.utils.mp3_excel_processing import get_fgc_timestamp, get_fgc_timestamp_missing"
   ]
  },
  {
   "cell_type": "markdown",
   "id": "05fd1b1e",
   "metadata": {},
   "source": [
    "# Read the (clean) MP3 file"
   ]
  },
  {
   "cell_type": "code",
   "execution_count": 3,
   "id": "a399d8a9",
   "metadata": {},
   "outputs": [
    {
     "data": {
      "text/plain": [
       "4409"
      ]
     },
     "execution_count": 3,
     "metadata": {},
     "output_type": "execute_result"
    }
   ],
   "source": [
    "mp3_fpa_df_raw = pd.read_excel(\"../data/RB_TC_extract_2021_11_22.xlsx\")\n",
    "len(mp3_fpa_df_raw)"
   ]
  },
  {
   "cell_type": "code",
   "execution_count": 4,
   "id": "a8e46e55",
   "metadata": {},
   "outputs": [
    {
     "data": {
      "text/html": [
       "<div>\n",
       "<style scoped>\n",
       "    .dataframe tbody tr th:only-of-type {\n",
       "        vertical-align: middle;\n",
       "    }\n",
       "\n",
       "    .dataframe tbody tr th {\n",
       "        vertical-align: top;\n",
       "    }\n",
       "\n",
       "    .dataframe thead th {\n",
       "        text-align: right;\n",
       "    }\n",
       "</style>\n",
       "<table border=\"1\" class=\"dataframe\">\n",
       "  <thead>\n",
       "    <tr style=\"text-align: right;\">\n",
       "      <th></th>\n",
       "      <th>Circuit Name</th>\n",
       "      <th>Circuit Family</th>\n",
       "      <th>Period</th>\n",
       "      <th>Date (FGC)</th>\n",
       "      <th>Time (FGC)</th>\n",
       "      <th>FPA Reason</th>\n",
       "      <th>Timestamp_PIC</th>\n",
       "      <th>Delta_t(FGC-PIC)</th>\n",
       "      <th>Delta_t(EE_even-PIC)</th>\n",
       "      <th>Delta_t(EE_odd-PIC)</th>\n",
       "      <th>...</th>\n",
       "      <th>Outer cable type</th>\n",
       "      <th>I_Q_SM18</th>\n",
       "      <th>dI_Q_Acc</th>\n",
       "      <th>dI_Q_LHC</th>\n",
       "      <th>Comment</th>\n",
       "      <th>Analysis performed by</th>\n",
       "      <th>lhcsmapi version</th>\n",
       "      <th>lhcsm notebook version</th>\n",
       "      <th>Unnamed: 46</th>\n",
       "      <th>Unnamed: 47</th>\n",
       "    </tr>\n",
       "  </thead>\n",
       "  <tbody>\n",
       "    <tr>\n",
       "      <th>0</th>\n",
       "      <td>NaN</td>\n",
       "      <td>RB</td>\n",
       "      <td>NaN</td>\n",
       "      <td>2008-04-01 00:00:00</td>\n",
       "      <td>13:14:15</td>\n",
       "      <td>NaN</td>\n",
       "      <td>NaN</td>\n",
       "      <td>[ms]</td>\n",
       "      <td>[ms]</td>\n",
       "      <td>[ms]</td>\n",
       "      <td>...</td>\n",
       "      <td>NaN</td>\n",
       "      <td>[A]</td>\n",
       "      <td>[A]</td>\n",
       "      <td>[A]</td>\n",
       "      <td>NaN</td>\n",
       "      <td>NaN</td>\n",
       "      <td>NaN</td>\n",
       "      <td>NaN</td>\n",
       "      <td>NaN</td>\n",
       "      <td>NaN</td>\n",
       "    </tr>\n",
       "    <tr>\n",
       "      <th>1</th>\n",
       "      <td>RB.A12</td>\n",
       "      <td>RB</td>\n",
       "      <td>Before Notebooks</td>\n",
       "      <td>NaN</td>\n",
       "      <td>NaN</td>\n",
       "      <td>NaN</td>\n",
       "      <td>NaN</td>\n",
       "      <td>NaN</td>\n",
       "      <td>NaN</td>\n",
       "      <td>NaN</td>\n",
       "      <td>...</td>\n",
       "      <td>NaN</td>\n",
       "      <td>NaN</td>\n",
       "      <td>NaN</td>\n",
       "      <td>NaN</td>\n",
       "      <td>NaN</td>\n",
       "      <td>NaN</td>\n",
       "      <td>Before Notebooks</td>\n",
       "      <td>NaN</td>\n",
       "      <td>NaN</td>\n",
       "      <td>NaN</td>\n",
       "    </tr>\n",
       "    <tr>\n",
       "      <th>169</th>\n",
       "      <td>RB.A23</td>\n",
       "      <td>RB</td>\n",
       "      <td>Before Notebooks</td>\n",
       "      <td>NaN</td>\n",
       "      <td>NaN</td>\n",
       "      <td>NaN</td>\n",
       "      <td>NaN</td>\n",
       "      <td>NaN</td>\n",
       "      <td>NaN</td>\n",
       "      <td>NaN</td>\n",
       "      <td>...</td>\n",
       "      <td>NaN</td>\n",
       "      <td>NaN</td>\n",
       "      <td>NaN</td>\n",
       "      <td>NaN</td>\n",
       "      <td>NaN</td>\n",
       "      <td>NaN</td>\n",
       "      <td>Before Notebooks</td>\n",
       "      <td>NaN</td>\n",
       "      <td>NaN</td>\n",
       "      <td>NaN</td>\n",
       "    </tr>\n",
       "    <tr>\n",
       "      <th>264</th>\n",
       "      <td>RB.A34</td>\n",
       "      <td>RB</td>\n",
       "      <td>Before Notebooks</td>\n",
       "      <td>NaN</td>\n",
       "      <td>NaN</td>\n",
       "      <td>NaN</td>\n",
       "      <td>NaN</td>\n",
       "      <td>NaN</td>\n",
       "      <td>NaN</td>\n",
       "      <td>NaN</td>\n",
       "      <td>...</td>\n",
       "      <td>NaN</td>\n",
       "      <td>NaN</td>\n",
       "      <td>NaN</td>\n",
       "      <td>NaN</td>\n",
       "      <td>NaN</td>\n",
       "      <td>NaN</td>\n",
       "      <td>Before Notebooks</td>\n",
       "      <td>NaN</td>\n",
       "      <td>NaN</td>\n",
       "      <td>NaN</td>\n",
       "    </tr>\n",
       "    <tr>\n",
       "      <th>545</th>\n",
       "      <td>RB.A45</td>\n",
       "      <td>RB</td>\n",
       "      <td>Before Notebooks</td>\n",
       "      <td>NaN</td>\n",
       "      <td>NaN</td>\n",
       "      <td>NaN</td>\n",
       "      <td>NaN</td>\n",
       "      <td>NaN</td>\n",
       "      <td>NaN</td>\n",
       "      <td>NaN</td>\n",
       "      <td>...</td>\n",
       "      <td>NaN</td>\n",
       "      <td>NaN</td>\n",
       "      <td>NaN</td>\n",
       "      <td>NaN</td>\n",
       "      <td>NaN</td>\n",
       "      <td>NaN</td>\n",
       "      <td>Before Notebooks</td>\n",
       "      <td>NaN</td>\n",
       "      <td>NaN</td>\n",
       "      <td>NaN</td>\n",
       "    </tr>\n",
       "    <tr>\n",
       "      <th>897</th>\n",
       "      <td>RB.A56</td>\n",
       "      <td>RB</td>\n",
       "      <td>Before Notebooks</td>\n",
       "      <td>NaN</td>\n",
       "      <td>NaN</td>\n",
       "      <td>NaN</td>\n",
       "      <td>NaN</td>\n",
       "      <td>NaN</td>\n",
       "      <td>NaN</td>\n",
       "      <td>NaN</td>\n",
       "      <td>...</td>\n",
       "      <td>NaN</td>\n",
       "      <td>NaN</td>\n",
       "      <td>NaN</td>\n",
       "      <td>NaN</td>\n",
       "      <td>NaN</td>\n",
       "      <td>NaN</td>\n",
       "      <td>Before Notebooks</td>\n",
       "      <td>NaN</td>\n",
       "      <td>NaN</td>\n",
       "      <td>NaN</td>\n",
       "    </tr>\n",
       "    <tr>\n",
       "      <th>1146</th>\n",
       "      <td>RB.A67</td>\n",
       "      <td>RB</td>\n",
       "      <td>Before Notebooks</td>\n",
       "      <td>NaN</td>\n",
       "      <td>NaN</td>\n",
       "      <td>NaN</td>\n",
       "      <td>NaN</td>\n",
       "      <td>NaN</td>\n",
       "      <td>NaN</td>\n",
       "      <td>NaN</td>\n",
       "      <td>...</td>\n",
       "      <td>NaN</td>\n",
       "      <td>NaN</td>\n",
       "      <td>NaN</td>\n",
       "      <td>NaN</td>\n",
       "      <td>NaN</td>\n",
       "      <td>NaN</td>\n",
       "      <td>Before Notebooks</td>\n",
       "      <td>NaN</td>\n",
       "      <td>NaN</td>\n",
       "      <td>NaN</td>\n",
       "    </tr>\n",
       "    <tr>\n",
       "      <th>1268</th>\n",
       "      <td>RB.A78</td>\n",
       "      <td>RB</td>\n",
       "      <td>Before Notebooks</td>\n",
       "      <td>NaN</td>\n",
       "      <td>NaN</td>\n",
       "      <td>NaN</td>\n",
       "      <td>NaN</td>\n",
       "      <td>NaN</td>\n",
       "      <td>NaN</td>\n",
       "      <td>NaN</td>\n",
       "      <td>...</td>\n",
       "      <td>NaN</td>\n",
       "      <td>NaN</td>\n",
       "      <td>NaN</td>\n",
       "      <td>NaN</td>\n",
       "      <td>NaN</td>\n",
       "      <td>NaN</td>\n",
       "      <td>Before Notebooks</td>\n",
       "      <td>NaN</td>\n",
       "      <td>NaN</td>\n",
       "      <td>NaN</td>\n",
       "    </tr>\n",
       "    <tr>\n",
       "      <th>1430</th>\n",
       "      <td>RB.A81</td>\n",
       "      <td>RB</td>\n",
       "      <td>Before Notebooks</td>\n",
       "      <td>NaN</td>\n",
       "      <td>NaN</td>\n",
       "      <td>NaN</td>\n",
       "      <td>NaN</td>\n",
       "      <td>NaN</td>\n",
       "      <td>NaN</td>\n",
       "      <td>NaN</td>\n",
       "      <td>...</td>\n",
       "      <td>NaN</td>\n",
       "      <td>NaN</td>\n",
       "      <td>NaN</td>\n",
       "      <td>NaN</td>\n",
       "      <td>NaN</td>\n",
       "      <td>NaN</td>\n",
       "      <td>Before Notebooks</td>\n",
       "      <td>NaN</td>\n",
       "      <td>NaN</td>\n",
       "      <td>NaN</td>\n",
       "    </tr>\n",
       "    <tr>\n",
       "      <th>1581</th>\n",
       "      <td>NaN</td>\n",
       "      <td>RB</td>\n",
       "      <td>After Notebooks</td>\n",
       "      <td>NaN</td>\n",
       "      <td>NaN</td>\n",
       "      <td>NaN</td>\n",
       "      <td>NaN</td>\n",
       "      <td>NaN</td>\n",
       "      <td>NaN</td>\n",
       "      <td>NaN</td>\n",
       "      <td>...</td>\n",
       "      <td>NaN</td>\n",
       "      <td>NaN</td>\n",
       "      <td>NaN</td>\n",
       "      <td>NaN</td>\n",
       "      <td>NaN</td>\n",
       "      <td>NaN</td>\n",
       "      <td>After Notebooks</td>\n",
       "      <td>NaN</td>\n",
       "      <td>NaN</td>\n",
       "      <td>NaN</td>\n",
       "    </tr>\n",
       "  </tbody>\n",
       "</table>\n",
       "<p>10 rows × 48 columns</p>\n",
       "</div>"
      ],
      "text/plain": [
       "     Circuit Name Circuit Family            Period           Date (FGC)  \\\n",
       "0             NaN             RB               NaN  2008-04-01 00:00:00   \n",
       "1          RB.A12             RB  Before Notebooks                  NaN   \n",
       "169        RB.A23             RB  Before Notebooks                  NaN   \n",
       "264        RB.A34             RB  Before Notebooks                  NaN   \n",
       "545        RB.A45             RB  Before Notebooks                  NaN   \n",
       "897        RB.A56             RB  Before Notebooks                  NaN   \n",
       "1146       RB.A67             RB  Before Notebooks                  NaN   \n",
       "1268       RB.A78             RB  Before Notebooks                  NaN   \n",
       "1430       RB.A81             RB  Before Notebooks                  NaN   \n",
       "1581          NaN             RB   After Notebooks                  NaN   \n",
       "\n",
       "     Time (FGC) FPA Reason Timestamp_PIC Delta_t(FGC-PIC)  \\\n",
       "0      13:14:15        NaN           NaN             [ms]   \n",
       "1           NaN        NaN           NaN              NaN   \n",
       "169         NaN        NaN           NaN              NaN   \n",
       "264         NaN        NaN           NaN              NaN   \n",
       "545         NaN        NaN           NaN              NaN   \n",
       "897         NaN        NaN           NaN              NaN   \n",
       "1146        NaN        NaN           NaN              NaN   \n",
       "1268        NaN        NaN           NaN              NaN   \n",
       "1430        NaN        NaN           NaN              NaN   \n",
       "1581        NaN        NaN           NaN              NaN   \n",
       "\n",
       "     Delta_t(EE_even-PIC) Delta_t(EE_odd-PIC)  ... Outer cable type I_Q_SM18  \\\n",
       "0                    [ms]                [ms]  ...              NaN      [A]   \n",
       "1                     NaN                 NaN  ...              NaN      NaN   \n",
       "169                   NaN                 NaN  ...              NaN      NaN   \n",
       "264                   NaN                 NaN  ...              NaN      NaN   \n",
       "545                   NaN                 NaN  ...              NaN      NaN   \n",
       "897                   NaN                 NaN  ...              NaN      NaN   \n",
       "1146                  NaN                 NaN  ...              NaN      NaN   \n",
       "1268                  NaN                 NaN  ...              NaN      NaN   \n",
       "1430                  NaN                 NaN  ...              NaN      NaN   \n",
       "1581                  NaN                 NaN  ...              NaN      NaN   \n",
       "\n",
       "     dI_Q_Acc dI_Q_LHC Comment Analysis performed by  lhcsmapi version  \\\n",
       "0         [A]      [A]     NaN                   NaN               NaN   \n",
       "1         NaN      NaN     NaN                   NaN  Before Notebooks   \n",
       "169       NaN      NaN     NaN                   NaN  Before Notebooks   \n",
       "264       NaN      NaN     NaN                   NaN  Before Notebooks   \n",
       "545       NaN      NaN     NaN                   NaN  Before Notebooks   \n",
       "897       NaN      NaN     NaN                   NaN  Before Notebooks   \n",
       "1146      NaN      NaN     NaN                   NaN  Before Notebooks   \n",
       "1268      NaN      NaN     NaN                   NaN  Before Notebooks   \n",
       "1430      NaN      NaN     NaN                   NaN  Before Notebooks   \n",
       "1581      NaN      NaN     NaN                   NaN   After Notebooks   \n",
       "\n",
       "     lhcsm notebook version Unnamed: 46 Unnamed: 47  \n",
       "0                       NaN         NaN         NaN  \n",
       "1                       NaN         NaN         NaN  \n",
       "169                     NaN         NaN         NaN  \n",
       "264                     NaN         NaN         NaN  \n",
       "545                     NaN         NaN         NaN  \n",
       "897                     NaN         NaN         NaN  \n",
       "1146                    NaN         NaN         NaN  \n",
       "1268                    NaN         NaN         NaN  \n",
       "1430                    NaN         NaN         NaN  \n",
       "1581                    NaN         NaN         NaN  \n",
       "\n",
       "[10 rows x 48 columns]"
      ]
     },
     "execution_count": 4,
     "metadata": {},
     "output_type": "execute_result"
    }
   ],
   "source": [
    "# First row contains units, 9 rows contain only \"Before Notebooks\" and \"After Notebooks\" information, which need to be droped\n",
    "mp3_fpa_df = mp3_fpa_df_raw.dropna(subset = ['Date (FGC)', 'Circuit Name'])\n",
    "mp3_fpa_df_raw.iloc[~mp3_fpa_df_raw.index.isin(mp3_fpa_df.index)] #show droped rows"
   ]
  },
  {
   "cell_type": "markdown",
   "id": "5f89d2d1",
   "metadata": {},
   "source": [
    "# Find FGC timestamp for each FPA event in MP3 excel"
   ]
  },
  {
   "cell_type": "code",
   "execution_count": 5,
   "id": "efe61bf3",
   "metadata": {
    "scrolled": true
   },
   "outputs": [
    {
     "name": "stderr",
     "output_type": "stream",
     "text": [
      "\n",
      "A value is trying to be set on a copy of a slice from a DataFrame.\n",
      "Try using .loc[row_indexer,col_indexer] = value instead\n",
      "\n",
      "See the caveats in the documentation: https://pandas.pydata.org/pandas-docs/stable/user_guide/indexing.html#returning-a-view-versus-a-copy\n"
     ]
    }
   ],
   "source": [
    "mp3_fpa_df['timestamp_fgc'] = mp3_fpa_df.apply(get_fgc_timestamp, axis=1)"
   ]
  },
  {
   "cell_type": "markdown",
   "id": "3b4cb5d4",
   "metadata": {},
   "source": [
    "# Find missing fgc timestamps in mp3 file"
   ]
  },
  {
   "cell_type": "code",
   "execution_count": 6,
   "id": "10e173ff",
   "metadata": {},
   "outputs": [
    {
     "name": "stderr",
     "output_type": "stream",
     "text": [
      "\n",
      "A value is trying to be set on a copy of a slice from a DataFrame.\n",
      "Try using .loc[row_indexer,col_indexer] = value instead\n",
      "\n",
      "See the caveats in the documentation: https://pandas.pydata.org/pandas-docs/stable/user_guide/indexing.html#returning-a-view-versus-a-copy\n",
      "\n",
      "A value is trying to be set on a copy of a slice from a DataFrame.\n",
      "Try using .loc[row_indexer,col_indexer] = value instead\n",
      "\n",
      "See the caveats in the documentation: https://pandas.pydata.org/pandas-docs/stable/user_guide/indexing.html#returning-a-view-versus-a-copy\n"
     ]
    }
   ],
   "source": [
    "# some fgc timestamps have wrong hours\n",
    "mp3_fpa_df_primary_missing = mp3_fpa_df[(mp3_fpa_df.timestamp_fgc.isna()) & (mp3_fpa_df['Nr in Q event'] == 1)]\n",
    "mp3_fpa_df_primary_missing['timestamp_fgc'] = mp3_fpa_df_primary_missing.apply(get_fgc_timestamp_missing, axis=1)\n",
    "found_fgc_timestamps_df = mp3_fpa_df_primary_missing[\"timestamp_fgc\"].dropna()\n",
    "mp3_fpa_df.loc[found_fgc_timestamps_df.index, \"timestamp_fgc\"] = mp3_fpa_df_primary_missing[\"timestamp_fgc\"].dropna().values"
   ]
  },
  {
   "cell_type": "code",
   "execution_count": 7,
   "id": "0df3202f",
   "metadata": {},
   "outputs": [
    {
     "name": "stdout",
     "output_type": "stream",
     "text": [
      "4399 unique fgc events\n",
      "918 mp3 primary quench entries\n"
     ]
    }
   ],
   "source": [
    "print(f\"{len(mp3_fpa_df)} unique fgc events\") # 841 Primary quenches?\n",
    "print(f\"{len(mp3_fpa_df[mp3_fpa_df['Nr in Q event']==1])} mp3 primary quench entries\") # 834 primary quenches with correct notes"
   ]
  },
  {
   "cell_type": "markdown",
   "id": "cd937e9f",
   "metadata": {},
   "source": [
    "# Select events to download"
   ]
  },
  {
   "cell_type": "code",
   "execution_count": 8,
   "id": "be19fc57",
   "metadata": {},
   "outputs": [],
   "source": [
    "mp3_fpa_df_unique = mp3_fpa_df.drop_duplicates(subset=['timestamp_fgc', 'Circuit Name'])"
   ]
  },
  {
   "cell_type": "code",
   "execution_count": 9,
   "id": "6524a86a",
   "metadata": {},
   "outputs": [
    {
     "data": {
      "text/plain": [
       "828"
      ]
     },
     "execution_count": 9,
     "metadata": {},
     "output_type": "execute_result"
    }
   ],
   "source": [
    "# Time.to_string(1514761200000000000), Time.to_unix_timestamp('2018-01-01 00:00:00+01:00')\n",
    "mp3_fpa_df_period = mp3_fpa_df_unique[mp3_fpa_df_unique['timestamp_fgc'] >= 1388530800000000000].reset_index(drop=True) \n",
    "len(mp3_fpa_df_period)"
   ]
  },
  {
   "cell_type": "code",
   "execution_count": 10,
   "id": "3a4a09f6",
   "metadata": {},
   "outputs": [],
   "source": [
    "signal_groups = [PCPM, VoltageNXCALS, VoltageNQPS, VoltageLogicIQPS, EEUDumpResPM, QHPM]\n",
    "file_dir = Path('/eos/project/m/ml-for-alarm-system/private/RB_signals')"
   ]
  },
  {
   "cell_type": "markdown",
   "id": "d38ea646",
   "metadata": {},
   "source": [
    "## Test query"
   ]
  },
  {
   "cell_type": "code",
   "execution_count": 11,
   "id": "d2185d39",
   "metadata": {},
   "outputs": [],
   "source": [
    "context_path = file_dir / \"data_test\"\n",
    "fpa_identifier = {'circuit_type': 'RB',\n",
    "                 'circuit_name': 'RB.A78',\n",
    "                 'timestamp_fgc': 1616962174400000000}"
   ]
  },
  {
   "cell_type": "code",
   "execution_count": null,
   "id": "27819830",
   "metadata": {},
   "outputs": [],
   "source": [
    "for signal_group in signal_groups:\n",
    "    group = signal_group(**fpa_identifier, spark=spark)\n",
    "    acquisition_to_hdf5(acquisition=group, \n",
    "                        file_dir=file_dir, \n",
    "                        context_dir_name=\"context_test\",\n",
    "                        failed_queries_dir_name=\"failed_test\",\n",
    "                        data_dir_name=\"data_test\")\n",
    "        \n",
    "log_acquisition(identifier=fpa_identifier, log_data={\"download_complete\": True}, log_path=context_path)"
   ]
  },
  {
   "cell_type": "markdown",
   "id": "70688c74",
   "metadata": {},
   "source": [
    "## Load data"
   ]
  },
  {
   "cell_type": "code",
   "execution_count": null,
   "id": "fe0bc150",
   "metadata": {},
   "outputs": [],
   "source": [
    "file_name = f\"{fpa_identifier['circuit_type']}_{fpa_identifier['circuit_name']}_{fpa_identifier['timestamp_fgc']}.hdf5\"\n",
    "file_path = file_dir / Path('data_test') / file_name\n",
    "\n",
    "signals = ['I_MEAS','VoltageNQPS.*U_DIODE','VoltageNXCALS.*U_DIODE','I_EARTH_PCNT', 'IEARTH.I_EARTH','U_QS0','U_1','U_2','I_HDS', 'U_HDS','EEUDumpResPM']\n",
    "len(signals)"
   ]
  },
  {
   "cell_type": "code",
   "execution_count": null,
   "id": "5d1dc84d",
   "metadata": {},
   "outputs": [],
   "source": [
    "data = load_from_hdf_with_regex(file_path)"
   ]
  },
  {
   "cell_type": "code",
   "execution_count": null,
   "id": "6fb8d818",
   "metadata": {
    "scrolled": false
   },
   "outputs": [],
   "source": [
    "fig = plt.figure(figsize=(20, 15))\n",
    "for i, s in enumerate(signals):\n",
    "    fig.add_subplot(4, 3, i+1)\n",
    "    n_signals = 0\n",
    "    for df in data:\n",
    "        if bool(re.search(s, df.columns.values[0])):\n",
    "            plt.plot(df.index.values, df.values)\n",
    "            n_signals += 1\n",
    "    plt.title(f\"{s} ({n_signals})\")\n",
    "plt.show()"
   ]
  },
  {
   "cell_type": "markdown",
   "id": "9b1bf5b8",
   "metadata": {},
   "source": [
    "## Query all FGC events"
   ]
  },
  {
   "cell_type": "code",
   "execution_count": null,
   "id": "434809ed",
   "metadata": {
    "scrolled": true
   },
   "outputs": [],
   "source": [
    "for index, row in mp3_fpa_df_period.iterrows():\n",
    "    fpa_identifier = {'circuit_type': row['Circuit Family'],\n",
    "                      'circuit_name': row['Circuit Name'],\n",
    "                      'timestamp_fgc': int(row['timestamp_fgc'])}\n",
    "\n",
    "    for signal_group in signal_groups:\n",
    "        group = signal_group(**fpa_identifier, spark=spark)\n",
    "        acquisition_to_hdf5(acquisition=group, \n",
    "                            file_dir=file_dir)\n",
    "\n",
    "    log_acquisition(identifier=fpa_identifier, log_data={\"download_complete\": True}, log_path=context_path)"
   ]
  },
  {
   "cell_type": "code",
   "execution_count": null,
   "id": "a8f4cbf3",
   "metadata": {},
   "outputs": [],
   "source": []
  }
 ],
 "metadata": {
  "kernelspec": {
   "display_name": "Python 3",
   "language": "python",
   "name": "python3"
  },
  "language_info": {
   "codemirror_mode": {
    "name": "ipython",
    "version": 3
   },
   "file_extension": ".py",
   "mimetype": "text/x-python",
   "name": "python",
   "nbconvert_exporter": "python",
   "pygments_lexer": "ipython3",
   "version": "3.8.6"
  },
  "sparkconnect": {
   "bundled_options": [
    "NXCALS"
   ],
   "list_of_options": []
  }
 },
 "nbformat": 4,
 "nbformat_minor": 5
}
