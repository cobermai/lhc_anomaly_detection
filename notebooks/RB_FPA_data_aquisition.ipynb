{
 "cells": [
  {
   "cell_type": "markdown",
   "id": "de62fb17",
   "metadata": {},
   "source": [
    "# Import libraries"
   ]
  },
  {
   "cell_type": "code",
   "execution_count": 2,
   "id": "28e55775",
   "metadata": {},
   "outputs": [],
   "source": [
    "import sys\n",
    "from pathlib import Path\n",
    "sys.path.insert(0,'..')\n",
    "import glob\n",
    "#!pip install openpyxl"
   ]
  },
  {
   "cell_type": "code",
   "execution_count": 3,
   "id": "c7662299",
   "metadata": {},
   "outputs": [
    {
     "name": "stderr",
     "output_type": "stream",
     "text": [
      "`np.float` is a deprecated alias for the builtin `float`. To silence this warning, use `float` by itself. Doing this will not modify any behavior and is safe. If you specifically wanted the numpy scalar type, use `np.float64` here.\n",
      "Deprecated in NumPy 1.20; for more details and guidance: https://numpy.org/devdocs/release/1.20.0-notes.html#deprecations\n",
      "`np.float` is a deprecated alias for the builtin `float`. To silence this warning, use `float` by itself. Doing this will not modify any behavior and is safe. If you specifically wanted the numpy scalar type, use `np.float64` here.\n",
      "Deprecated in NumPy 1.20; for more details and guidance: https://numpy.org/devdocs/release/1.20.0-notes.html#deprecations\n",
      "`np.float` is a deprecated alias for the builtin `float`. To silence this warning, use `float` by itself. Doing this will not modify any behavior and is safe. If you specifically wanted the numpy scalar type, use `np.float64` here.\n",
      "Deprecated in NumPy 1.20; for more details and guidance: https://numpy.org/devdocs/release/1.20.0-notes.html#deprecations\n",
      "`np.float` is a deprecated alias for the builtin `float`. To silence this warning, use `float` by itself. Doing this will not modify any behavior and is safe. If you specifically wanted the numpy scalar type, use `np.float64` here.\n",
      "Deprecated in NumPy 1.20; for more details and guidance: https://numpy.org/devdocs/release/1.20.0-notes.html#deprecations\n",
      "`np.float` is a deprecated alias for the builtin `float`. To silence this warning, use `float` by itself. Doing this will not modify any behavior and is safe. If you specifically wanted the numpy scalar type, use `np.float64` here.\n",
      "Deprecated in NumPy 1.20; for more details and guidance: https://numpy.org/devdocs/release/1.20.0-notes.html#deprecations\n",
      "`np.float` is a deprecated alias for the builtin `float`. To silence this warning, use `float` by itself. Doing this will not modify any behavior and is safe. If you specifically wanted the numpy scalar type, use `np.float64` here.\n",
      "Deprecated in NumPy 1.20; for more details and guidance: https://numpy.org/devdocs/release/1.20.0-notes.html#deprecations\n",
      "`np.float` is a deprecated alias for the builtin `float`. To silence this warning, use `float` by itself. Doing this will not modify any behavior and is safe. If you specifically wanted the numpy scalar type, use `np.float64` here.\n",
      "Deprecated in NumPy 1.20; for more details and guidance: https://numpy.org/devdocs/release/1.20.0-notes.html#deprecations\n",
      "`np.float` is a deprecated alias for the builtin `float`. To silence this warning, use `float` by itself. Doing this will not modify any behavior and is safe. If you specifically wanted the numpy scalar type, use `np.float64` here.\n",
      "Deprecated in NumPy 1.20; for more details and guidance: https://numpy.org/devdocs/release/1.20.0-notes.html#deprecations\n",
      "`np.float` is a deprecated alias for the builtin `float`. To silence this warning, use `float` by itself. Doing this will not modify any behavior and is safe. If you specifically wanted the numpy scalar type, use `np.float64` here.\n",
      "Deprecated in NumPy 1.20; for more details and guidance: https://numpy.org/devdocs/release/1.20.0-notes.html#deprecations\n"
     ]
    }
   ],
   "source": [
    "import os\n",
    "import sys\n",
    "import pandas as pd\n",
    "import pickle\n",
    "import matplotlib.pyplot as plt\n",
    "import h5py\n",
    "\n",
    "from functools import partial\n",
    "from multiprocessing import Pool\n",
    "\n",
    "# sigmon env: /eos/project/l/lhcsm/public/1.5.20.sh\n",
    "from lhcsmapi.Time import Time\n",
    "from lhcsmapi.metadata.SignalMetadata import SignalMetadata\n",
    "from lhcsmapi.pyedsl.dbsignal.post_mortem.PmDbRequest import PmDbRequest\n",
    "from lhcsmapi.analysis.RbCircuitQuery import RbCircuitQuery\n",
    "\n",
    "from src.acquisitions.current_voltage_diode_leads_nxcals import CurrentVoltageDiodeLeadsPM\n",
    "from src.acquisitions.current_voltage_diode_leads_pm import CurrentVoltageDiodeLeadsNXCALS\n",
    "from src.acquisitions.ee_t_res_pm import EETResPM\n",
    "from src.acquisitions.ee_u_dump_res_pm import EEUDumpResPM\n",
    "from src.acquisitions.leads import Leads\n",
    "from src.acquisitions.pc_pm import PCPM\n",
    "from src.acquisitions.qh_pm import QHPM\n",
    "from src.acquisitions.voltage_logic_iqps import VoltageLogicIQPS\n",
    "from src.acquisitions.voltage_logic_nqps import VoltageLogicNQPS\n",
    "from src.acquisitions.voltage_nxcals import VoltageNXCALS"
   ]
  },
  {
   "cell_type": "markdown",
   "id": "05fd1b1e",
   "metadata": {},
   "source": [
    "# Read the (clean) MP3 file"
   ]
  },
  {
   "cell_type": "code",
   "execution_count": 4,
   "id": "a399d8a9",
   "metadata": {},
   "outputs": [
    {
     "data": {
      "text/plain": [
       "4409"
      ]
     },
     "execution_count": 4,
     "metadata": {},
     "output_type": "execute_result"
    }
   ],
   "source": [
    "mp3_fpa_df_raw = pd.read_excel(\"./RB_TC_extract_2021_11_22.xlsx\")\n",
    "len(mp3_fpa_df_raw)"
   ]
  },
  {
   "cell_type": "code",
   "execution_count": 5,
   "id": "a8e46e55",
   "metadata": {},
   "outputs": [
    {
     "data": {
      "text/html": [
       "<div>\n",
       "<style scoped>\n",
       "    .dataframe tbody tr th:only-of-type {\n",
       "        vertical-align: middle;\n",
       "    }\n",
       "\n",
       "    .dataframe tbody tr th {\n",
       "        vertical-align: top;\n",
       "    }\n",
       "\n",
       "    .dataframe thead th {\n",
       "        text-align: right;\n",
       "    }\n",
       "</style>\n",
       "<table border=\"1\" class=\"dataframe\">\n",
       "  <thead>\n",
       "    <tr style=\"text-align: right;\">\n",
       "      <th></th>\n",
       "      <th>Circuit Name</th>\n",
       "      <th>Circuit Family</th>\n",
       "      <th>Period</th>\n",
       "      <th>Date (FGC)</th>\n",
       "      <th>Time (FGC)</th>\n",
       "      <th>FPA Reason</th>\n",
       "      <th>Timestamp_PIC</th>\n",
       "      <th>Delta_t(FGC-PIC)</th>\n",
       "      <th>Delta_t(EE_even-PIC)</th>\n",
       "      <th>Delta_t(EE_odd-PIC)</th>\n",
       "      <th>...</th>\n",
       "      <th>Outer cable type</th>\n",
       "      <th>I_Q_SM18</th>\n",
       "      <th>dI_Q_Acc</th>\n",
       "      <th>dI_Q_LHC</th>\n",
       "      <th>Comment</th>\n",
       "      <th>Analysis performed by</th>\n",
       "      <th>lhcsmapi version</th>\n",
       "      <th>lhcsm notebook version</th>\n",
       "      <th>Unnamed: 46</th>\n",
       "      <th>Unnamed: 47</th>\n",
       "    </tr>\n",
       "  </thead>\n",
       "  <tbody>\n",
       "    <tr>\n",
       "      <th>0</th>\n",
       "      <td>NaN</td>\n",
       "      <td>RB</td>\n",
       "      <td>NaN</td>\n",
       "      <td>2008-04-01 00:00:00</td>\n",
       "      <td>13:14:15</td>\n",
       "      <td>NaN</td>\n",
       "      <td>NaN</td>\n",
       "      <td>[ms]</td>\n",
       "      <td>[ms]</td>\n",
       "      <td>[ms]</td>\n",
       "      <td>...</td>\n",
       "      <td>NaN</td>\n",
       "      <td>[A]</td>\n",
       "      <td>[A]</td>\n",
       "      <td>[A]</td>\n",
       "      <td>NaN</td>\n",
       "      <td>NaN</td>\n",
       "      <td>NaN</td>\n",
       "      <td>NaN</td>\n",
       "      <td>NaN</td>\n",
       "      <td>NaN</td>\n",
       "    </tr>\n",
       "    <tr>\n",
       "      <th>1</th>\n",
       "      <td>RB.A12</td>\n",
       "      <td>RB</td>\n",
       "      <td>Before Notebooks</td>\n",
       "      <td>NaN</td>\n",
       "      <td>NaN</td>\n",
       "      <td>NaN</td>\n",
       "      <td>NaN</td>\n",
       "      <td>NaN</td>\n",
       "      <td>NaN</td>\n",
       "      <td>NaN</td>\n",
       "      <td>...</td>\n",
       "      <td>NaN</td>\n",
       "      <td>NaN</td>\n",
       "      <td>NaN</td>\n",
       "      <td>NaN</td>\n",
       "      <td>NaN</td>\n",
       "      <td>NaN</td>\n",
       "      <td>Before Notebooks</td>\n",
       "      <td>NaN</td>\n",
       "      <td>NaN</td>\n",
       "      <td>NaN</td>\n",
       "    </tr>\n",
       "    <tr>\n",
       "      <th>169</th>\n",
       "      <td>RB.A23</td>\n",
       "      <td>RB</td>\n",
       "      <td>Before Notebooks</td>\n",
       "      <td>NaN</td>\n",
       "      <td>NaN</td>\n",
       "      <td>NaN</td>\n",
       "      <td>NaN</td>\n",
       "      <td>NaN</td>\n",
       "      <td>NaN</td>\n",
       "      <td>NaN</td>\n",
       "      <td>...</td>\n",
       "      <td>NaN</td>\n",
       "      <td>NaN</td>\n",
       "      <td>NaN</td>\n",
       "      <td>NaN</td>\n",
       "      <td>NaN</td>\n",
       "      <td>NaN</td>\n",
       "      <td>Before Notebooks</td>\n",
       "      <td>NaN</td>\n",
       "      <td>NaN</td>\n",
       "      <td>NaN</td>\n",
       "    </tr>\n",
       "    <tr>\n",
       "      <th>264</th>\n",
       "      <td>RB.A34</td>\n",
       "      <td>RB</td>\n",
       "      <td>Before Notebooks</td>\n",
       "      <td>NaN</td>\n",
       "      <td>NaN</td>\n",
       "      <td>NaN</td>\n",
       "      <td>NaN</td>\n",
       "      <td>NaN</td>\n",
       "      <td>NaN</td>\n",
       "      <td>NaN</td>\n",
       "      <td>...</td>\n",
       "      <td>NaN</td>\n",
       "      <td>NaN</td>\n",
       "      <td>NaN</td>\n",
       "      <td>NaN</td>\n",
       "      <td>NaN</td>\n",
       "      <td>NaN</td>\n",
       "      <td>Before Notebooks</td>\n",
       "      <td>NaN</td>\n",
       "      <td>NaN</td>\n",
       "      <td>NaN</td>\n",
       "    </tr>\n",
       "    <tr>\n",
       "      <th>545</th>\n",
       "      <td>RB.A45</td>\n",
       "      <td>RB</td>\n",
       "      <td>Before Notebooks</td>\n",
       "      <td>NaN</td>\n",
       "      <td>NaN</td>\n",
       "      <td>NaN</td>\n",
       "      <td>NaN</td>\n",
       "      <td>NaN</td>\n",
       "      <td>NaN</td>\n",
       "      <td>NaN</td>\n",
       "      <td>...</td>\n",
       "      <td>NaN</td>\n",
       "      <td>NaN</td>\n",
       "      <td>NaN</td>\n",
       "      <td>NaN</td>\n",
       "      <td>NaN</td>\n",
       "      <td>NaN</td>\n",
       "      <td>Before Notebooks</td>\n",
       "      <td>NaN</td>\n",
       "      <td>NaN</td>\n",
       "      <td>NaN</td>\n",
       "    </tr>\n",
       "    <tr>\n",
       "      <th>897</th>\n",
       "      <td>RB.A56</td>\n",
       "      <td>RB</td>\n",
       "      <td>Before Notebooks</td>\n",
       "      <td>NaN</td>\n",
       "      <td>NaN</td>\n",
       "      <td>NaN</td>\n",
       "      <td>NaN</td>\n",
       "      <td>NaN</td>\n",
       "      <td>NaN</td>\n",
       "      <td>NaN</td>\n",
       "      <td>...</td>\n",
       "      <td>NaN</td>\n",
       "      <td>NaN</td>\n",
       "      <td>NaN</td>\n",
       "      <td>NaN</td>\n",
       "      <td>NaN</td>\n",
       "      <td>NaN</td>\n",
       "      <td>Before Notebooks</td>\n",
       "      <td>NaN</td>\n",
       "      <td>NaN</td>\n",
       "      <td>NaN</td>\n",
       "    </tr>\n",
       "    <tr>\n",
       "      <th>1146</th>\n",
       "      <td>RB.A67</td>\n",
       "      <td>RB</td>\n",
       "      <td>Before Notebooks</td>\n",
       "      <td>NaN</td>\n",
       "      <td>NaN</td>\n",
       "      <td>NaN</td>\n",
       "      <td>NaN</td>\n",
       "      <td>NaN</td>\n",
       "      <td>NaN</td>\n",
       "      <td>NaN</td>\n",
       "      <td>...</td>\n",
       "      <td>NaN</td>\n",
       "      <td>NaN</td>\n",
       "      <td>NaN</td>\n",
       "      <td>NaN</td>\n",
       "      <td>NaN</td>\n",
       "      <td>NaN</td>\n",
       "      <td>Before Notebooks</td>\n",
       "      <td>NaN</td>\n",
       "      <td>NaN</td>\n",
       "      <td>NaN</td>\n",
       "    </tr>\n",
       "    <tr>\n",
       "      <th>1268</th>\n",
       "      <td>RB.A78</td>\n",
       "      <td>RB</td>\n",
       "      <td>Before Notebooks</td>\n",
       "      <td>NaN</td>\n",
       "      <td>NaN</td>\n",
       "      <td>NaN</td>\n",
       "      <td>NaN</td>\n",
       "      <td>NaN</td>\n",
       "      <td>NaN</td>\n",
       "      <td>NaN</td>\n",
       "      <td>...</td>\n",
       "      <td>NaN</td>\n",
       "      <td>NaN</td>\n",
       "      <td>NaN</td>\n",
       "      <td>NaN</td>\n",
       "      <td>NaN</td>\n",
       "      <td>NaN</td>\n",
       "      <td>Before Notebooks</td>\n",
       "      <td>NaN</td>\n",
       "      <td>NaN</td>\n",
       "      <td>NaN</td>\n",
       "    </tr>\n",
       "    <tr>\n",
       "      <th>1430</th>\n",
       "      <td>RB.A81</td>\n",
       "      <td>RB</td>\n",
       "      <td>Before Notebooks</td>\n",
       "      <td>NaN</td>\n",
       "      <td>NaN</td>\n",
       "      <td>NaN</td>\n",
       "      <td>NaN</td>\n",
       "      <td>NaN</td>\n",
       "      <td>NaN</td>\n",
       "      <td>NaN</td>\n",
       "      <td>...</td>\n",
       "      <td>NaN</td>\n",
       "      <td>NaN</td>\n",
       "      <td>NaN</td>\n",
       "      <td>NaN</td>\n",
       "      <td>NaN</td>\n",
       "      <td>NaN</td>\n",
       "      <td>Before Notebooks</td>\n",
       "      <td>NaN</td>\n",
       "      <td>NaN</td>\n",
       "      <td>NaN</td>\n",
       "    </tr>\n",
       "    <tr>\n",
       "      <th>1581</th>\n",
       "      <td>NaN</td>\n",
       "      <td>RB</td>\n",
       "      <td>After Notebooks</td>\n",
       "      <td>NaN</td>\n",
       "      <td>NaN</td>\n",
       "      <td>NaN</td>\n",
       "      <td>NaN</td>\n",
       "      <td>NaN</td>\n",
       "      <td>NaN</td>\n",
       "      <td>NaN</td>\n",
       "      <td>...</td>\n",
       "      <td>NaN</td>\n",
       "      <td>NaN</td>\n",
       "      <td>NaN</td>\n",
       "      <td>NaN</td>\n",
       "      <td>NaN</td>\n",
       "      <td>NaN</td>\n",
       "      <td>After Notebooks</td>\n",
       "      <td>NaN</td>\n",
       "      <td>NaN</td>\n",
       "      <td>NaN</td>\n",
       "    </tr>\n",
       "  </tbody>\n",
       "</table>\n",
       "<p>10 rows × 48 columns</p>\n",
       "</div>"
      ],
      "text/plain": [
       "     Circuit Name Circuit Family            Period           Date (FGC)  \\\n",
       "0             NaN             RB               NaN  2008-04-01 00:00:00   \n",
       "1          RB.A12             RB  Before Notebooks                  NaN   \n",
       "169        RB.A23             RB  Before Notebooks                  NaN   \n",
       "264        RB.A34             RB  Before Notebooks                  NaN   \n",
       "545        RB.A45             RB  Before Notebooks                  NaN   \n",
       "897        RB.A56             RB  Before Notebooks                  NaN   \n",
       "1146       RB.A67             RB  Before Notebooks                  NaN   \n",
       "1268       RB.A78             RB  Before Notebooks                  NaN   \n",
       "1430       RB.A81             RB  Before Notebooks                  NaN   \n",
       "1581          NaN             RB   After Notebooks                  NaN   \n",
       "\n",
       "     Time (FGC) FPA Reason Timestamp_PIC Delta_t(FGC-PIC)  \\\n",
       "0      13:14:15        NaN           NaN             [ms]   \n",
       "1           NaN        NaN           NaN              NaN   \n",
       "169         NaN        NaN           NaN              NaN   \n",
       "264         NaN        NaN           NaN              NaN   \n",
       "545         NaN        NaN           NaN              NaN   \n",
       "897         NaN        NaN           NaN              NaN   \n",
       "1146        NaN        NaN           NaN              NaN   \n",
       "1268        NaN        NaN           NaN              NaN   \n",
       "1430        NaN        NaN           NaN              NaN   \n",
       "1581        NaN        NaN           NaN              NaN   \n",
       "\n",
       "     Delta_t(EE_even-PIC) Delta_t(EE_odd-PIC)  ... Outer cable type I_Q_SM18  \\\n",
       "0                    [ms]                [ms]  ...              NaN      [A]   \n",
       "1                     NaN                 NaN  ...              NaN      NaN   \n",
       "169                   NaN                 NaN  ...              NaN      NaN   \n",
       "264                   NaN                 NaN  ...              NaN      NaN   \n",
       "545                   NaN                 NaN  ...              NaN      NaN   \n",
       "897                   NaN                 NaN  ...              NaN      NaN   \n",
       "1146                  NaN                 NaN  ...              NaN      NaN   \n",
       "1268                  NaN                 NaN  ...              NaN      NaN   \n",
       "1430                  NaN                 NaN  ...              NaN      NaN   \n",
       "1581                  NaN                 NaN  ...              NaN      NaN   \n",
       "\n",
       "     dI_Q_Acc dI_Q_LHC Comment Analysis performed by  lhcsmapi version  \\\n",
       "0         [A]      [A]     NaN                   NaN               NaN   \n",
       "1         NaN      NaN     NaN                   NaN  Before Notebooks   \n",
       "169       NaN      NaN     NaN                   NaN  Before Notebooks   \n",
       "264       NaN      NaN     NaN                   NaN  Before Notebooks   \n",
       "545       NaN      NaN     NaN                   NaN  Before Notebooks   \n",
       "897       NaN      NaN     NaN                   NaN  Before Notebooks   \n",
       "1146      NaN      NaN     NaN                   NaN  Before Notebooks   \n",
       "1268      NaN      NaN     NaN                   NaN  Before Notebooks   \n",
       "1430      NaN      NaN     NaN                   NaN  Before Notebooks   \n",
       "1581      NaN      NaN     NaN                   NaN   After Notebooks   \n",
       "\n",
       "     lhcsm notebook version Unnamed: 46 Unnamed: 47  \n",
       "0                       NaN         NaN         NaN  \n",
       "1                       NaN         NaN         NaN  \n",
       "169                     NaN         NaN         NaN  \n",
       "264                     NaN         NaN         NaN  \n",
       "545                     NaN         NaN         NaN  \n",
       "897                     NaN         NaN         NaN  \n",
       "1146                    NaN         NaN         NaN  \n",
       "1268                    NaN         NaN         NaN  \n",
       "1430                    NaN         NaN         NaN  \n",
       "1581                    NaN         NaN         NaN  \n",
       "\n",
       "[10 rows x 48 columns]"
      ]
     },
     "execution_count": 5,
     "metadata": {},
     "output_type": "execute_result"
    }
   ],
   "source": [
    "# First row contains units, 9 rows contain only \"Before Notebooks\" and \"After Notebooks\" information, which need to be droped\n",
    "mp3_fpa_df = mp3_fpa_df_raw.dropna(subset = ['Date (FGC)', 'Circuit Name'])\n",
    "mp3_fpa_df_raw.iloc[~mp3_fpa_df_raw.index.isin(mp3_fpa_df.index)] #show droped rows"
   ]
  },
  {
   "cell_type": "markdown",
   "id": "5f89d2d1",
   "metadata": {},
   "source": [
    "# Find FGC timestamp for each FPA event in MP3 excel"
   ]
  },
  {
   "cell_type": "code",
   "execution_count": 6,
   "id": "8807c573",
   "metadata": {},
   "outputs": [],
   "source": [
    "def find_real_fgc_timestamp(circuit_name, fgc_datetime):\n",
    "    \n",
    "    fgc_timestamp = Time.to_unix_timestamp(fgc_datetime)\n",
    "    metadata_fgc = SignalMetadata.get_circuit_signal_database_metadata(\n",
    "            'RB', circuit_name, 'PC', 'PM', timestamp_query=fgc_timestamp)\n",
    "\n",
    "    one_sec_in_ns = 1e9 \n",
    "    start_time = fgc_timestamp - one_sec_in_ns\n",
    "    end_time = fgc_timestamp + one_sec_in_ns\n",
    " \n",
    "    source_timestamp_fgc = PmDbRequest.find_events(metadata_fgc['source'],\n",
    "                                                   metadata_fgc['system'],\n",
    "                                                   metadata_fgc['className'],\n",
    "                                                   t_start=start_time,\n",
    "                                                   t_end=end_time)\n",
    "\n",
    "    return [(circuit_name, el[1]) for el in source_timestamp_fgc]\n",
    "\n",
    "# getting the list of timestamps\n",
    "def get_fgc_timestamp(d):\n",
    "    date_time_str = f\"{d['Date (FGC)']} {d['Time (FGC)']}\".replace(\"00:00:00 \",\"\")\n",
    "    \n",
    "    real_fgc_timestamps = find_real_fgc_timestamp(d['Circuit Name'], date_time_str)\n",
    "    if len(real_fgc_timestamps) > 1:\n",
    "        print(f\"Found more than one event for timestamp {date_time_str}\")\n",
    "    elif not real_fgc_timestamps:\n",
    "        print(f\"Found no event for timestamp {date_time_str}\")\n",
    "        return None\n",
    "    _, real_fgc_timestamp = real_fgc_timestamps[0]\n",
    "    return int(real_fgc_timestamp)"
   ]
  },
  {
   "cell_type": "code",
   "execution_count": 7,
   "id": "efe61bf3",
   "metadata": {
    "scrolled": true
   },
   "outputs": [
    {
     "name": "stdout",
     "output_type": "stream",
     "text": [
      "Found no event for timestamp 2008-08-19 12:13:28\n",
      "Found no event for timestamp 2008-08-19 18:53:12\n",
      "Found no event for timestamp 2008-08-19 20:15:07\n",
      "Found no event for timestamp 2008-08-19 20:15:07\n",
      "Found no event for timestamp 2008-08-20 18:41:36\n",
      "Found no event for timestamp 2008-08-22 09:59:25\n",
      "Found no event for timestamp 2008-08-22 09:59:25\n",
      "Found no event for timestamp 2008-08-22 09:59:25\n",
      "Found no event for timestamp 2008-07-08 08:30:10\n",
      "Found no event for timestamp 2008-07-08 14:39:16\n",
      "Found no event for timestamp 2008-07-09 17:14:45\n",
      "Found no event for timestamp 2008-07-11 14:42:00\n",
      "Found no event for timestamp 2008-07-15 21:20:30\n",
      "Found no event for timestamp 2008-07-15 21:20:30\n",
      "Found no event for timestamp 2008-07-15 21:20:30\n",
      "Found no event for timestamp 2008-07-15 21:20:30\n",
      "Found no event for timestamp 2008-07-15 21:20:30\n",
      "Found no event for timestamp 2008-08-09 02:19:48\n",
      "Found no event for timestamp 2008-09-07 17:34:03\n",
      "Found no event for timestamp 2009-12-04 11:19:48\n",
      "Found no event for timestamp 2008-09-03 19:49:06\n",
      "Found no event for timestamp 2008-09-04 17:28:47\n",
      "Found no event for timestamp 2008-09-05 13:04:53\n",
      "Found no event for timestamp 2008-09-05 13:04:53\n",
      "Found no event for timestamp 2008-09-05 13:04:53\n",
      "Found no event for timestamp 2008-09-05 21:43:11\n",
      "Found no event for timestamp 2008-09-16 19:12:51\n",
      "Found no event for timestamp 2008-09-16 19:12:51\n",
      "Found no event for timestamp 2008-09-16 19:12:51\n",
      "Found no event for timestamp 2008-09-16 19:12:51\n",
      "Found no event for timestamp 2008-09-16 19:12:51\n",
      "Found no event for timestamp 2008-09-19 11:18:36\n",
      "Found no event for timestamp 2008-09-19 11:18:36\n",
      "Found no event for timestamp 2008-09-19 11:18:36\n",
      "Found no event for timestamp 2008-09-19 11:18:36\n",
      "Found no event for timestamp 2008-09-19 11:18:36\n",
      "Found no event for timestamp 2008-09-19 11:18:36\n",
      "Found no event for timestamp 2008-09-19 11:18:36\n",
      "Found no event for timestamp 2008-09-19 11:18:36\n",
      "Found no event for timestamp 2008-09-19 11:18:36\n",
      "Found no event for timestamp 2008-09-19 11:18:36\n",
      "Found no event for timestamp 2008-09-19 11:18:36\n",
      "Found no event for timestamp 2008-09-19 11:18:36\n",
      "Found no event for timestamp 2008-09-19 11:18:36\n",
      "Found no event for timestamp 2008-09-19 11:18:36\n",
      "Found no event for timestamp 2008-09-19 11:18:36\n",
      "Found no event for timestamp 2008-09-19 11:18:36\n",
      "Found no event for timestamp 2008-09-19 11:18:36\n",
      "Found no event for timestamp 2008-09-19 11:18:36\n",
      "Found no event for timestamp 2008-09-19 11:18:36\n",
      "Found no event for timestamp 2008-09-19 11:18:36\n",
      "Found no event for timestamp 2008-09-19 11:18:36\n",
      "Found no event for timestamp 2008-09-19 11:18:36\n",
      "Found no event for timestamp 2008-09-19 11:18:36\n",
      "Found no event for timestamp 2008-09-19 11:18:36\n",
      "Found no event for timestamp 2008-09-19 11:18:36\n",
      "Found no event for timestamp 2008-09-19 11:18:36\n",
      "Found no event for timestamp 2008-09-19 11:18:36\n",
      "Found no event for timestamp 2008-09-19 11:18:36\n",
      "Found no event for timestamp 2008-09-19 11:18:36\n",
      "Found no event for timestamp 2008-09-19 11:18:36\n",
      "Found no event for timestamp 2008-09-19 11:18:36\n",
      "Found no event for timestamp 2008-09-19 11:18:36\n",
      "Found no event for timestamp 2008-09-19 11:18:36\n",
      "Found no event for timestamp 2008-09-19 11:18:36\n",
      "Found no event for timestamp 2008-09-19 11:18:36\n",
      "Found no event for timestamp 2008-09-19 11:18:36\n",
      "Found no event for timestamp 2008-09-19 11:18:36\n",
      "Found no event for timestamp 2008-09-19 11:18:36\n",
      "Found no event for timestamp 2008-09-19 11:18:36\n",
      "Found no event for timestamp 2008-09-19 11:18:36\n",
      "Found no event for timestamp 2008-09-19 11:18:36\n",
      "Found no event for timestamp 2008-09-19 11:18:36\n",
      "Found no event for timestamp 2008-09-19 11:18:36\n",
      "Found no event for timestamp 2008-09-19 11:18:36\n",
      "Found no event for timestamp 2008-09-19 11:18:36\n",
      "Found no event for timestamp 2008-09-19 11:18:36\n",
      "Found no event for timestamp 2008-09-19 11:18:36\n",
      "Found no event for timestamp 2008-09-19 11:18:36\n",
      "Found no event for timestamp 2008-09-19 11:18:36\n",
      "Found no event for timestamp 2008-09-19 11:18:36\n",
      "Found no event for timestamp 2008-09-19 11:18:36\n",
      "Found no event for timestamp 2008-09-19 11:18:36\n",
      "Found no event for timestamp 2008-09-19 11:18:36\n",
      "Found no event for timestamp 2008-09-19 11:18:36\n",
      "Found no event for timestamp 2008-09-19 11:18:36\n",
      "Found no event for timestamp 2008-09-19 11:18:36\n",
      "Found no event for timestamp 2008-09-19 11:18:36\n",
      "Found no event for timestamp 2008-09-19 11:18:36\n",
      "Found no event for timestamp 2008-09-19 11:18:36\n",
      "Found no event for timestamp 2008-09-19 11:18:36\n",
      "Found no event for timestamp 2008-09-19 11:18:36\n",
      "Found no event for timestamp 2008-09-19 11:18:36\n",
      "Found no event for timestamp 2008-09-19 11:18:36\n",
      "Found no event for timestamp 2008-09-19 11:18:36\n",
      "Found no event for timestamp 2008-09-19 11:18:36\n",
      "Found no event for timestamp 2008-09-19 11:18:36\n",
      "Found no event for timestamp 2008-09-19 11:18:36\n",
      "Found no event for timestamp 2008-09-19 11:18:36\n",
      "Found no event for timestamp 2008-09-19 11:18:36\n",
      "Found no event for timestamp 2008-09-19 11:18:36\n",
      "Found no event for timestamp 2008-09-19 11:18:36\n",
      "Found no event for timestamp 2008-09-19 11:18:36\n",
      "Found no event for timestamp 2008-09-19 11:18:36\n",
      "Found no event for timestamp 2008-09-19 11:18:36\n",
      "Found no event for timestamp 2008-09-19 11:18:36\n",
      "Found no event for timestamp 2008-09-19 11:18:36\n",
      "Found no event for timestamp 2008-09-19 11:18:36\n",
      "Found no event for timestamp 2008-09-19 11:18:36\n",
      "Found no event for timestamp 2008-09-19 11:18:36\n",
      "Found no event for timestamp 2008-09-19 11:18:36\n",
      "Found no event for timestamp 2008-09-19 11:18:36\n",
      "Found no event for timestamp 2008-09-19 11:18:36\n",
      "Found no event for timestamp 2008-09-19 11:18:36\n",
      "Found no event for timestamp 2008-09-19 11:18:36\n",
      "Found no event for timestamp 2008-09-19 11:18:36\n",
      "Found no event for timestamp 2008-09-19 11:18:36\n",
      "Found no event for timestamp 2008-09-19 11:18:36\n",
      "Found no event for timestamp 2008-09-19 11:18:36\n",
      "Found no event for timestamp 2008-09-19 11:18:36\n",
      "Found no event for timestamp 2008-09-19 11:18:36\n",
      "Found no event for timestamp 2008-09-19 11:18:36\n",
      "Found no event for timestamp 2008-09-19 11:18:36\n",
      "Found no event for timestamp 2008-09-19 11:18:36\n",
      "Found no event for timestamp 2008-09-19 11:18:36\n",
      "Found no event for timestamp 2008-09-19 11:18:36\n",
      "Found no event for timestamp 2008-09-19 11:18:36\n",
      "Found no event for timestamp 2008-09-19 11:18:36\n",
      "Found no event for timestamp 2008-09-19 11:18:36\n",
      "Found no event for timestamp 2008-09-19 11:18:36\n",
      "Found no event for timestamp 2007-12-18 10:10:35\n",
      "Found no event for timestamp 2007-12-18 18:19:06\n",
      "Found no event for timestamp 2007-12-19 11:22:00\n",
      "Found no event for timestamp 2008-01-23 18:18:08\n",
      "Found no event for timestamp 2008-01-23 18:18:08\n",
      "Found no event for timestamp 2008-01-23 18:18:08\n",
      "Found no event for timestamp 2008-01-23 18:18:08\n",
      "Found no event for timestamp 2008-01-24 15:54:27\n",
      "Found no event for timestamp 2008-01-24 16:57:37\n",
      "Found no event for timestamp 2008-01-24 16:57:37\n",
      "Found no event for timestamp 2008-01-24 16:57:37\n",
      "Found no event for timestamp 2008-01-25 16:50:34\n",
      "Found no event for timestamp 2008-01-25 16:50:34\n",
      "Found no event for timestamp 2008-01-25 16:50:34\n",
      "Found no event for timestamp 2008-01-25 16:50:34\n",
      "Found no event for timestamp 2008-01-25 16:50:34\n",
      "Found no event for timestamp 2008-01-31 13:44:37\n",
      "Found no event for timestamp 2008-01-31 13:44:37\n",
      "Found no event for timestamp 2008-01-31 13:44:37\n",
      "Found no event for timestamp 2008-01-31 13:44:37\n",
      "Found no event for timestamp 2008-01-31 13:44:37\n",
      "Found no event for timestamp 2008-01-31 13:44:37\n",
      "Found no event for timestamp 2008-09-05 12:21:01\n",
      "Found no event for timestamp 2015-03-12 09:52:07\n",
      "Found no event for timestamp 2015-03-12 09:52:07\n",
      "Found no event for timestamp 2015-03-12 09:52:07\n",
      "Found no event for timestamp 2008-04-14 12:37:09\n",
      "Found no event for timestamp 2008-04-14 18:54:05\n",
      "Found no event for timestamp 2008-04-15 21:10:53\n",
      "Found no event for timestamp 2008-04-15 21:10:53\n",
      "Found no event for timestamp 2008-04-15 21:10:53\n",
      "Found no event for timestamp 2008-04-28 09:59:06\n",
      "Found no event for timestamp 2008-04-28 09:59:06\n",
      "Found no event for timestamp 2008-04-28 09:59:06\n",
      "Found no event for timestamp 2008-04-28 09:59:06\n",
      "Found no event for timestamp 2008-04-28 09:59:06\n",
      "Found no event for timestamp 2008-04-28 09:59:06\n",
      "Found no event for timestamp 2008-04-28 09:59:06\n",
      "Found no event for timestamp 2008-04-28 09:59:06\n",
      "Found no event for timestamp 2008-04-28 17:08:50\n",
      "Found no event for timestamp 2008-04-28 17:08:50\n",
      "Found no event for timestamp 2008-04-28 17:08:50\n",
      "Found no event for timestamp 2008-04-29 16:42:45\n",
      "Found no event for timestamp 2008-04-29 16:42:45\n",
      "Found no event for timestamp 2008-04-29 16:42:45\n",
      "Found no event for timestamp 2008-04-29 16:42:45\n",
      "Found no event for timestamp 2008-04-30 09:02:32\n",
      "Found no event for timestamp 2008-04-30 09:02:32\n",
      "Found no event for timestamp 2008-04-30 09:02:32\n",
      "Found no event for timestamp 2008-04-30 09:02:32\n",
      "Found no event for timestamp 2008-04-30 09:02:32\n"
     ]
    },
    {
     "name": "stdout",
     "output_type": "stream",
     "text": [
      "Found no event for timestamp 2008-05-06 18:12:16\n",
      "Found no event for timestamp 2008-05-06 18:12:16\n",
      "Found no event for timestamp 2008-05-06 18:12:16\n",
      "Found no event for timestamp 2008-05-06 18:12:16\n",
      "Found no event for timestamp 2008-05-07 17:53:50\n",
      "Found no event for timestamp 2008-05-07 17:53:50\n",
      "Found no event for timestamp 2008-05-07 17:53:50\n",
      "Found no event for timestamp 2008-05-07 17:53:50\n",
      "Found no event for timestamp 2008-05-07 17:53:50\n",
      "Found no event for timestamp 2008-05-07 17:53:50\n",
      "Found no event for timestamp 2008-05-07 17:53:50\n",
      "Found no event for timestamp 2008-05-09 15:13:38\n",
      "Found no event for timestamp 2008-05-09 15:13:38\n",
      "Found no event for timestamp 2008-05-09 15:13:38\n",
      "Found no event for timestamp 2008-05-09 15:13:38\n",
      "Found no event for timestamp 2008-05-15 19:43:14\n",
      "Found no event for timestamp 2008-05-15 19:43:14\n",
      "Found no event for timestamp 2008-05-16 17:22:27\n",
      "Found no event for timestamp 2008-05-16 17:22:27\n",
      "Found no event for timestamp 2008-05-16 17:22:27\n",
      "Found no event for timestamp 2008-05-16 17:22:27\n",
      "Found no event for timestamp 2008-05-19 12:34:10\n",
      "Found no event for timestamp 2008-05-19 12:34:10\n",
      "Found no event for timestamp 2008-05-19 12:34:10\n",
      "Found no event for timestamp 2008-05-19 12:34:10\n",
      "Found no event for timestamp 2008-05-19 19:19:57\n",
      "Found no event for timestamp 2008-05-19 19:19:57\n",
      "Found no event for timestamp 2008-05-19 19:19:57\n",
      "Found no event for timestamp 2008-05-19 19:19:57\n",
      "Found no event for timestamp 2008-05-20 07:35:59\n",
      "Found no event for timestamp 2008-05-20 07:35:59\n",
      "Found no event for timestamp 2008-05-20 07:35:59\n",
      "Found no event for timestamp 2008-05-20 07:35:59\n",
      "Found no event for timestamp 2008-05-20 18:07:21\n",
      "Found no event for timestamp 2008-05-20 18:07:21\n",
      "Found no event for timestamp 2008-05-20 18:07:21\n",
      "Found no event for timestamp 2008-05-21 18:17:47\n",
      "Found no event for timestamp 2008-05-21 18:17:47\n",
      "Found no event for timestamp 2008-05-21 18:17:47\n",
      "Found no event for timestamp 2008-05-21 18:17:47\n",
      "Found no event for timestamp 2008-05-23 07:44:16\n",
      "Found no event for timestamp 2008-05-23 07:44:16\n",
      "Found no event for timestamp 2008-05-23 07:44:16\n",
      "Found no event for timestamp 2008-05-23 07:44:16\n",
      "Found no event for timestamp 2008-05-23 07:44:16\n",
      "Found no event for timestamp 2008-05-23 07:44:16\n",
      "Found no event for timestamp 2008-05-23 07:44:16\n",
      "Found no event for timestamp 2008-05-23 17:48:21\n",
      "Found no event for timestamp 2008-05-23 17:48:21\n",
      "Found no event for timestamp 2008-05-23 17:48:21\n",
      "Found no event for timestamp 2008-05-23 17:48:21\n",
      "Found no event for timestamp 2008-05-26 07:41:44\n",
      "Found no event for timestamp 2008-05-26 07:41:44\n",
      "Found no event for timestamp 2008-05-26 07:41:44\n",
      "Found no event for timestamp 2008-05-26 07:41:44\n",
      "Found no event for timestamp 2008-05-26 07:41:44\n",
      "Found no event for timestamp 2008-05-26 07:41:44\n",
      "Found no event for timestamp 2008-05-26 16:54:18\n",
      "Found no event for timestamp 2008-05-26 16:54:18\n",
      "Found no event for timestamp 2008-05-26 16:54:18\n",
      "Found no event for timestamp 2008-05-26 16:54:18\n",
      "Found no event for timestamp 2008-05-26 16:54:18\n",
      "Found no event for timestamp 2008-05-27 10:48:29\n",
      "Found no event for timestamp 2008-05-27 10:48:29\n",
      "Found no event for timestamp 2008-05-27 10:48:29\n",
      "Found no event for timestamp 2008-05-27 17:40:42\n",
      "Found no event for timestamp 2008-05-27 17:40:42\n",
      "Found no event for timestamp 2008-05-28 07:35:58\n",
      "Found no event for timestamp 2008-05-28 07:35:58\n",
      "Found no event for timestamp 2008-05-28 07:35:58\n",
      "Found no event for timestamp 2008-05-28 19:08:27\n",
      "Found no event for timestamp 2008-05-28 19:08:27\n",
      "Found no event for timestamp 2008-05-28 19:08:27\n",
      "Found no event for timestamp 2008-05-28 19:08:27\n",
      "Found no event for timestamp 2008-05-28 19:08:27\n",
      "Found no event for timestamp 2008-05-29 07:30:57\n",
      "Found no event for timestamp 2008-05-29 07:30:57\n",
      "Found no event for timestamp 2008-05-29 07:30:57\n",
      "Found no event for timestamp 2008-05-29 07:30:57\n",
      "Found no event for timestamp 2008-05-29 07:30:57\n",
      "Found no event for timestamp 2008-05-29 18:39:39\n",
      "Found no event for timestamp 2008-05-29 18:39:39\n",
      "Found no event for timestamp 2008-05-29 18:39:39\n",
      "Found no event for timestamp 2008-05-29 18:39:39\n",
      "Found no event for timestamp 2008-05-29 18:39:39\n",
      "Found no event for timestamp 2008-06-04 08:55:16\n",
      "Found no event for timestamp 2008-06-04 08:55:16\n",
      "Found no event for timestamp 2008-06-04 08:55:16\n",
      "Found no event for timestamp 2008-06-04 08:55:16\n",
      "Found no event for timestamp 2008-06-04 17:38:03\n",
      "Found no event for timestamp 2008-06-04 17:38:03\n",
      "Found no event for timestamp 2008-06-04 17:38:03\n",
      "Found no event for timestamp 2008-06-04 17:38:03\n",
      "Found no event for timestamp 2008-06-04 17:38:03\n",
      "Found no event for timestamp 2008-06-04 17:38:03\n",
      "Found no event for timestamp 2008-06-04 17:38:03\n",
      "Found no event for timestamp 2008-06-04 17:38:03\n",
      "Found no event for timestamp 2008-06-04 17:38:03\n",
      "Found no event for timestamp 2008-06-04 17:38:03\n",
      "Found no event for timestamp 2008-06-05 08:16:18\n",
      "Found no event for timestamp 2008-06-05 08:16:18\n",
      "Found no event for timestamp 2008-06-05 08:16:18\n",
      "Found no event for timestamp 2008-06-05 08:16:18\n",
      "Found no event for timestamp 2008-06-05 14:39:20\n",
      "Found no event for timestamp 2008-06-05 14:39:20\n",
      "Found no event for timestamp 2008-06-05 14:39:20\n",
      "Found no event for timestamp 2008-06-05 14:39:20\n",
      "Found no event for timestamp 2008-06-05 14:39:20\n",
      "Found no event for timestamp 2008-06-05 14:39:20\n",
      "Found no event for timestamp 2008-06-05 14:39:20\n",
      "Found no event for timestamp 2008-06-05 14:39:20\n",
      "Found no event for timestamp 2008-06-05 14:39:20\n",
      "Found no event for timestamp 2008-06-05 14:39:20\n",
      "Found no event for timestamp 2008-06-05 14:39:20\n",
      "Found no event for timestamp 2008-06-05 14:39:20\n",
      "Found no event for timestamp 2008-06-05 14:39:20\n",
      "Found no event for timestamp 2008-06-05 14:39:20\n",
      "Found no event for timestamp 2008-06-06 14:38:32\n",
      "Found no event for timestamp 2008-06-06 14:38:32\n",
      "Found no event for timestamp 2008-06-06 14:38:32\n",
      "Found no event for timestamp 18/06/2008 14:17:26\n",
      "Found no event for timestamp 2008-07-25 08:25:32\n",
      "Found no event for timestamp 2008-07-25 11:44:27\n",
      "Found no event for timestamp 2007-06-27 07:40:31\n",
      "Found no event for timestamp 2007-06-27 11:13:10\n",
      "Found no event for timestamp 2007-06-27 12:16:37\n",
      "Found no event for timestamp 2008-06-05 11:22:05\n",
      "Found no event for timestamp 2008-06-06 12:32:32\n",
      "Found no event for timestamp 2008-06-06 15:36:50\n",
      "Found no event for timestamp 2008-06-09 15:22:44\n",
      "Found no event for timestamp 2008-06-09 15:22:44\n",
      "Found no event for timestamp 2008-06-09 15:22:44\n",
      "Found no event for timestamp 2008-06-09 15:22:44\n",
      "Found no event for timestamp 2008-06-09 15:22:44\n",
      "Found no event for timestamp 2008-06-09 15:22:44\n",
      "Found no event for timestamp 2008-06-09 15:22:44\n",
      "Found no event for timestamp 2008-06-09 15:22:44\n",
      "Found no event for timestamp 2008-06-11 07:26:17\n",
      "Found no event for timestamp 2008-06-11 07:26:17\n",
      "Found no event for timestamp 2008-06-11 07:26:17\n",
      "Found no event for timestamp 2008-06-11 07:26:17\n",
      "Found no event for timestamp 2008-06-19 19:34:23\n",
      "Found no event for timestamp 2008-06-19 19:34:23\n",
      "Found no event for timestamp 2008-06-19 19:34:23\n",
      "Found no event for timestamp 2008-06-19 19:34:23\n",
      "Found no event for timestamp 2008-06-19 19:34:23\n",
      "Found no event for timestamp 2008-06-19 19:34:23\n",
      "Found no event for timestamp 2008-06-19 19:34:23\n",
      "Found no event for timestamp 2008-06-19 19:34:23\n",
      "Found no event for timestamp 2008-06-19 19:34:23\n",
      "Found no event for timestamp 2008-06-19 19:34:23\n",
      "Found no event for timestamp 2008-06-19 19:34:23\n",
      "Found no event for timestamp 2008-06-19 19:34:23\n",
      "Found no event for timestamp 2008-06-19 19:34:23\n",
      "Found no event for timestamp 2008-06-19 19:34:23\n",
      "Found no event for timestamp 2008-06-30 20:05:08\n",
      "Found no event for timestamp 2015-02-27 22:44:08\n",
      "Found no event for timestamp 2015-02-27 22:44:08\n",
      "Found no event for timestamp 2015-02-27 22:44:08\n",
      "Found no event for timestamp 2015-02-27 22:44:08\n",
      "Found no event for timestamp 2015-02-27 22:44:08\n",
      "Found no event for timestamp 2015-12-03 09:52:07\n",
      "Found no event for timestamp 2015-12-03 09:52:07\n",
      "Found no event for timestamp 2015-12-03 09:52:07\n",
      "Found no event for timestamp 2008-06-30 11:40:04\n",
      "Found no event for timestamp 2008-06-30 15:39:44\n",
      "Found no event for timestamp 2008-07-01 09:58:44\n",
      "Found no event for timestamp 2008-07-01 09:58:44\n",
      "Found no event for timestamp 2008-07-01 09:58:44\n",
      "Found no event for timestamp 2008-07-01 09:58:44\n",
      "Found no event for timestamp 2008-07-01 09:58:44\n",
      "Found no event for timestamp 2008-07-01 09:58:44\n"
     ]
    },
    {
     "name": "stdout",
     "output_type": "stream",
     "text": [
      "Found no event for timestamp 2021-05-22 00:43:20.100000\n",
      "Found no event for timestamp 2021-05-22 00:43:20.100000\n",
      "Found no event for timestamp 2021-05-22 00:43:20.100000\n",
      "Found no event for timestamp 2021-05-22 00:43:20.100000\n",
      "Found no event for timestamp 2021-05-22 00:43:20.100000\n",
      "Found no event for timestamp 2021-05-22 00:43:20.100000\n",
      "Found no event for timestamp 2021-05-22 00:58:40.300000\n",
      "Found no event for timestamp 2021-05-22 00:58:40.300000\n",
      "Found no event for timestamp 2021-05-22 00:58:40.300000\n",
      "Found no event for timestamp 2021-05-22 00:58:40.300000\n",
      "Found no event for timestamp 2021-05-22 00:58:40.300000\n",
      "Found no event for timestamp 2021-05-22 00:58:40.300000\n",
      "Found no event for timestamp 2021-06-15 00:10:53.600000\n",
      "Found no event for timestamp 2021-06-15 00:10:53.600000\n",
      "Found no event for timestamp 2021-06-15 00:10:53.600000\n",
      "Found no event for timestamp 2021-06-15 00:10:53.600000\n",
      "Found no event for timestamp 2021-06-15 00:10:53.600000\n",
      "Found no event for timestamp 2021-06-19 00:25:03.400000\n",
      "Found no event for timestamp 2021-06-19 00:25:03.400000\n",
      "Found no event for timestamp 2021-06-19 00:25:03.400000\n",
      "Found no event for timestamp 2021-06-19 00:25:03.400000\n",
      "Found no event for timestamp 2021-06-19 00:25:03.400000\n",
      "Found no event for timestamp 2021-06-19 00:25:03.400000\n"
     ]
    },
    {
     "name": "stderr",
     "output_type": "stream",
     "text": [
      "\n",
      "A value is trying to be set on a copy of a slice from a DataFrame.\n",
      "Try using .loc[row_indexer,col_indexer] = value instead\n",
      "\n",
      "See the caveats in the documentation: https://pandas.pydata.org/pandas-docs/stable/user_guide/indexing.html#returning-a-view-versus-a-copy\n"
     ]
    }
   ],
   "source": [
    "mp3_fpa_df['timestamp_fgc'] = mp3_fpa_df.apply(get_fgc_timestamp, axis=1)"
   ]
  },
  {
   "cell_type": "markdown",
   "id": "3b4cb5d4",
   "metadata": {},
   "source": [
    "# Find missing fgc timestamps in mp3 file"
   ]
  },
  {
   "cell_type": "code",
   "execution_count": 8,
   "id": "f68bc889",
   "metadata": {},
   "outputs": [
    {
     "name": "stdout",
     "output_type": "stream",
     "text": [
      "missing primary events: 88\n"
     ]
    },
    {
     "data": {
      "text/plain": [
       "HWC 2008    75\n",
       "HWC 2007     6\n",
       "HWC 2021     4\n",
       "HWC 2015     2\n",
       "HWC 2009     1\n",
       "Name: Period, dtype: int64"
      ]
     },
     "execution_count": 8,
     "metadata": {},
     "output_type": "execute_result"
    }
   ],
   "source": [
    "mp3_fpa_df_primary_missing = mp3_fpa_df[(mp3_fpa_df.timestamp_fgc.isna()) & (mp3_fpa_df['Nr in Q event']==1)]\n",
    "print(f\"missing primary events: {len(mp3_fpa_df_primary_missing)}\")\n",
    "mp3_fpa_df_primary_missing.Period.value_counts()"
   ]
  },
  {
   "cell_type": "code",
   "execution_count": 9,
   "id": "d0f0246a",
   "metadata": {},
   "outputs": [],
   "source": [
    "def get_fgc_timestamp_missing(d):\n",
    "    date_time_str = f\"{d['Date (FGC)']} {d['Time (FGC)']}\".replace(\"00:00:00\",\"\")\n",
    "    for t in range(6,24):\n",
    "        date_time_str_new = date_time_str.replace(\" 00:\",f\" {t}:\")\n",
    "        real_fgc_timestamps = find_real_fgc_timestamp(d['Circuit Name'], date_time_str_new)\n",
    "        if real_fgc_timestamps:\n",
    "            print(f\"Found event for timestamp {date_time_str_new}\")\n",
    "            _, real_fgc_timestamp = real_fgc_timestamps[0]\n",
    "            return int(real_fgc_timestamp)"
   ]
  },
  {
   "cell_type": "code",
   "execution_count": 10,
   "id": "8057df93",
   "metadata": {
    "scrolled": true
   },
   "outputs": [
    {
     "name": "stdout",
     "output_type": "stream",
     "text": [
      "Found event for timestamp 2021-05-22  8:43:20.100000\n",
      "Found event for timestamp 2021-05-22  9:58:40.300000\n",
      "Found event for timestamp 2021-06-15  14:10:53.600000\n",
      "Found event for timestamp 2021-06-19  7:25:03.400000\n"
     ]
    },
    {
     "name": "stderr",
     "output_type": "stream",
     "text": [
      "\n",
      "A value is trying to be set on a copy of a slice from a DataFrame.\n",
      "Try using .loc[row_indexer,col_indexer] = value instead\n",
      "\n",
      "See the caveats in the documentation: https://pandas.pydata.org/pandas-docs/stable/user_guide/indexing.html#returning-a-view-versus-a-copy\n"
     ]
    }
   ],
   "source": [
    "mp3_fpa_df_primary_missing['timestamp_fgc'] = mp3_fpa_df_primary_missing.apply(get_fgc_timestamp_missing, axis=1)"
   ]
  },
  {
   "cell_type": "code",
   "execution_count": 11,
   "id": "5a05e1d4",
   "metadata": {},
   "outputs": [
    {
     "name": "stdout",
     "output_type": "stream",
     "text": [
      "missing primary events: 84\n"
     ]
    },
    {
     "name": "stderr",
     "output_type": "stream",
     "text": [
      "\n",
      "A value is trying to be set on a copy of a slice from a DataFrame.\n",
      "Try using .loc[row_indexer,col_indexer] = value instead\n",
      "\n",
      "See the caveats in the documentation: https://pandas.pydata.org/pandas-docs/stable/user_guide/indexing.html#returning-a-view-versus-a-copy\n"
     ]
    },
    {
     "data": {
      "text/plain": [
       "HWC 2008    75\n",
       "HWC 2007     6\n",
       "HWC 2015     2\n",
       "HWC 2009     1\n",
       "Name: Period, dtype: int64"
      ]
     },
     "execution_count": 11,
     "metadata": {},
     "output_type": "execute_result"
    }
   ],
   "source": [
    "found_fgc_timestamps_df = mp3_fpa_df_primary_missing[\"timestamp_fgc\"].dropna()\n",
    "mp3_fpa_df.loc[found_fgc_timestamps_df.index, \"timestamp_fgc\"] = mp3_fpa_df_primary_missing[\"timestamp_fgc\"].dropna().values\n",
    "\n",
    "mp3_fpa_df_primary_missing = mp3_fpa_df[(mp3_fpa_df.timestamp_fgc.isna()) & (mp3_fpa_df['Nr in Q event']==1)]\n",
    "print(f\"missing primary events: {len(mp3_fpa_df_primary_missing)}\")\n",
    "mp3_fpa_df_primary_missing.Period.value_counts()"
   ]
  },
  {
   "cell_type": "code",
   "execution_count": 12,
   "id": "0df3202f",
   "metadata": {},
   "outputs": [
    {
     "name": "stdout",
     "output_type": "stream",
     "text": [
      "4399 mp3 excel file entries\n",
      "845 unique fgc events\n",
      "918 mp3 primary quench entries\n"
     ]
    }
   ],
   "source": [
    "# dropping duplicates of timestamps\n",
    "print(f\"{len(mp3_fpa_df['timestamp_fgc'])} mp3 excel file entries\")\n",
    "mp3_fpa_df_unique = mp3_fpa_df.drop_duplicates(subset=['timestamp_fgc', 'Circuit Name']) ### you need timestamp + circuit !!! \n",
    "\n",
    "print(f\"{len(mp3_fpa_df_unique)} unique fgc events\") # 841 Primary quenches?\n",
    "print(f\"{len(mp3_fpa_df[mp3_fpa_df['Nr in Q event']==1])} mp3 primary quench entries\") # 834 primary quenches with correct notes"
   ]
  },
  {
   "cell_type": "markdown",
   "id": "cd937e9f",
   "metadata": {},
   "source": [
    "# Select events to download"
   ]
  },
  {
   "cell_type": "code",
   "execution_count": 13,
   "id": "6524a86a",
   "metadata": {},
   "outputs": [
    {
     "data": {
      "text/plain": [
       "828"
      ]
     },
     "execution_count": 13,
     "metadata": {},
     "output_type": "execute_result"
    }
   ],
   "source": [
    "# Time.to_string(1514761200000000000), Time.to_unix_timestamp('2018-01-01 00:00:00+01:00')\n",
    "mp3_fpa_df_period = mp3_fpa_df_unique[mp3_fpa_df_unique['timestamp_fgc'] >= 1388530800000000000].reset_index(drop=True) \n",
    "len(mp3_fpa_df_period)"
   ]
  },
  {
   "cell_type": "code",
   "execution_count": 14,
   "id": "9eb611a2",
   "metadata": {
    "scrolled": true
   },
   "outputs": [
    {
     "data": {
      "text/plain": [
       "828"
      ]
     },
     "execution_count": 14,
     "metadata": {},
     "output_type": "execute_result"
    }
   ],
   "source": [
    "# use columns where download is not complete\n",
    "context_path = Path('/eos/project/m/ml-for-alarm-system/private/RB_signals/context_data.csv')\n",
    "if os.path.exists(context_path):\n",
    "    df_context = pd.read_csv(context_path)\n",
    "    dowloaded_fgc_ts = df_context[df_context.download_complete == True].timestamp_fgc.values\n",
    "\n",
    "    mp3_fpa_df_to_download = mp3_fpa_df_period[~mp3_fpa_df_period.timestamp_fgc.isin(dowloaded_fgc_ts)]\n",
    "else:\n",
    "    mp3_fpa_df_to_download = mp3_fpa_df_period\n",
    "len(mp3_fpa_df_to_download)"
   ]
  },
  {
   "cell_type": "code",
   "execution_count": 15,
   "id": "3a4a09f6",
   "metadata": {},
   "outputs": [],
   "source": [
    "signal_groups = [CurrentVoltageDiodeLeadsPM, CurrentVoltageDiodeLeadsNXCALS, EETResPM, EEUDumpResPM, Leads, PCPM, QHPM, VoltageLogicIQPS, VoltageLogicNQPS, VoltageNXCALS]\n",
    "\n",
    "file_dir = Path('/eos/project/m/ml-for-alarm-system/private/RB_signals')"
   ]
  },
  {
   "cell_type": "code",
   "execution_count": null,
   "id": "434809ed",
   "metadata": {
    "scrolled": true
   },
   "outputs": [
    {
     "name": "stdout",
     "output_type": "stream",
     "text": [
      "\tQuerying PM event signal(s) STATUS.I_MEAS, STATUS.I_EARTH_PCNT, STATUS.I_REF, IEARTH.IEARTH, IAB.I_A for system: RPTE.UA23.RB.A12, className: 51_self_pmd, source: FGC at 2014-12-11 21:45:14.580\n",
      "\tQuerying PM event timestamps for system: QPS, className: DQAMSNRB, source: UA23.RB.A12, RR17.RB.A12 from 2014-12-11 21:45:04.580 to 2014-12-11 22:01:54.580\n",
      "\tQuerying PM event signal(s) RR17.RB.A12:U_DUMP_RES, UA23.RB.A12:U_DUMP_RES for system: UA23.RB.A12, RR17.RB.A12, className: DQAMSNRB, source: QPS at 2014-12-11 21:45:14.877\n"
     ]
    },
    {
     "name": "stderr",
     "output_type": "stream",
     "text": [
      "Post Mortem returned no data for the following query: http://pm-api-pro/v2/pmdata/signal?system=QPS&className=DQAMSNRB&source=UA23.RB.A12&timestampInNanos=1418330714877000000&signal=UA23.RB.A12:U_DUMP_RES\n"
     ]
    },
    {
     "name": "stdout",
     "output_type": "stream",
     "text": [
      "\tQuerying PM event timestamps for system: QPS, className: DQAMSNRB, source: UA23.RB.A12, RR17.RB.A12 from 2014-12-11 21:45:04.580 to 2014-12-11 22:01:54.580\n",
      "\tQuerying PM event signal(s) RR17.RB.A12:T_RES_BODY_3, RR17.RB.A12:T_RES_BODY_2, UA23.RB.A12:T_RES_BODY_2, RR17.RB.A12:T_RES_BODY_1, UA23.RB.A12:T_RES_BODY_1... for system: UA23.RB.A12, RR17.RB.A12..., className: DQAMSNRB..., source: QPS... at 2014-12-11 21:45:14.877\n"
     ]
    },
    {
     "name": "stderr",
     "output_type": "stream",
     "text": [
      "Post Mortem returned no data for the following query: http://pm-api-pro/v2/pmdata/signal?system=QPS&className=DQAMSNRB&source=UA23.RB.A12&timestampInNanos=1418330714877000000&signal=UA23.RB.A12:T_RES_BODY_1\n",
      "Post Mortem returned no data for the following query: http://pm-api-pro/v2/pmdata/signal?system=QPS&className=DQAMSNRB&source=UA23.RB.A12&timestampInNanos=1418330714877000000&signal=UA23.RB.A12:T_RES_BODY_2\n",
      "Post Mortem returned no data for the following query: http://pm-api-pro/v2/pmdata/signal?system=QPS&className=DQAMSNRB&source=UA23.RB.A12&timestampInNanos=1418330714877000000&signal=UA23.RB.A12:T_RES_BODY_3\n"
     ]
    },
    {
     "name": "stdout",
     "output_type": "stream",
     "text": [
      "\tQuerying NXCALS signal(s) MB.A9R1:U_DIODE_RB, MB.A8R1:U_DIODE_RB, MB.B9R1:U_DIODE_RB, MB.B8R1:U_DIODE_RB, MB.A10R1:U_DIODE_RB... from 2014-12-11 21:44:24.580 to 2014-12-11 21:53:34.580\n",
      "\tQuerying NXCALS signal(s) MB.B8R1:U_EARTH_RB, MB.A10R1:U_EARTH_RB, MB.B11R1:U_EARTH_RB, MB.C12R1:U_EARTH_RB, MB.A8R1:U_EARTH_RB... from 2014-12-11 21:44:24.580 to 2014-12-11 21:53:34.580\n",
      "\tQuerying PM event timestamps for system: QPS, className: DQAMCNMB_PMSTD, source: * from 2014-12-11 21:44:24.580 to 2014-12-11 21:53:34.580\n"
     ]
    },
    {
     "data": {
      "application/vnd.jupyter.widget-view+json": {
       "model_id": "f5754473077c4d0096d17db3475617dc",
       "version_major": 2,
       "version_minor": 0
      },
      "text/plain": [
       "Querying iQPS logic PM:   0%|          | 0/1 [00:00<?, ?it/s]"
      ]
     },
     "metadata": {},
     "output_type": "display_data"
    },
    {
     "name": "stdout",
     "output_type": "stream",
     "text": [
      "\tQuerying PM event timestamps for system: QPS, className: DQAMCNMB_PMSTD, source: * from 2014-12-11 21:44:24.580 to 2014-12-11 21:53:34.580\n",
      "\tQuerying PM event timestamps for system: QPS, className: DQAMGNSRB_PMREL, source: * from 2014-12-11 21:45:04.580 to 2014-12-11 21:51:54.580\n",
      "\tQuerying PM event timestamps for system: QPS, className: DQAMCNMB_PMHSU, source: * from 2014-12-11 21:45:04.580 to 2014-12-11 21:53:34.580\n"
     ]
    },
    {
     "name": "stderr",
     "output_type": "stream",
     "text": [
      "Some nQPS PM buffers missing. ['B8R1', 'B9R1', 'B10R1', 'B11R1', 'B12R1', 'B13R1', 'B14R1', 'B15R1', 'B16R1', 'B17R1', 'B18R1', 'B19R1', 'B20R1', 'B21R1', 'B22R1', 'B23R1', 'B24R1', 'B25R1', 'B26R1', 'B27R1', 'B28R1', 'B29R1', 'B30R1', 'B31R1', 'B32R1', 'B33R1', 'B34R1', 'B34L2', 'B33L2', 'B32L2', 'B31L2', 'B30L2', 'B29L2', 'B28L2', 'B27L2', 'B26L2', 'B25L2', 'B24L2', 'B23L2', 'B22L2', 'B21L2', 'B20L2', 'B19L2', 'B18L2', 'B17L2', 'B16L2', 'B15L2', 'B14L2', 'B13L2', 'B12L2', 'B11L2', 'B10L2', 'B9L2', 'B8L2'] not found for RB.A12 within [(10, 's'), (400, 's')] around 1418330714580000000.\n",
      "At least one of the timestamps (nQPS or QDS) is missing, query skipped returning empty pd.DataFrame.\n"
     ]
    },
    {
     "data": {
      "application/vnd.jupyter.widget-view+json": {
       "model_id": "514d483387974dbeb4c39b51135a412e",
       "version_major": 2,
       "version_minor": 0
      },
      "text/plain": [
       "Querying PM:   0%|          | 0/1 [00:00<?, ?it/s]"
      ]
     },
     "metadata": {},
     "output_type": "display_data"
    },
    {
     "name": "stdout",
     "output_type": "stream",
     "text": [
      "\tQuerying PM event timestamps for system: QPS, className: DQAMCNMB_PMSTD, source: * from 2014-12-11 21:44:24.580 to 2014-12-11 21:53:34.580\n"
     ]
    },
    {
     "data": {
      "application/vnd.jupyter.widget-view+json": {
       "model_id": "a8861989c4e7495ca5903a1ed745a2ef",
       "version_major": 2,
       "version_minor": 0
      },
      "text/plain": [
       "Querying U, I Diode PM:   0%|          | 0/1 [00:00<?, ?it/s]"
      ]
     },
     "metadata": {},
     "output_type": "display_data"
    },
    {
     "name": "stdout",
     "output_type": "stream",
     "text": [
      "\tQuerying PM event timestamps for system: QPS, className: DQAMGNSRB_PMREL, source: B17R1 from 2014-12-11 21:35:14.533 to 2014-12-11 21:55:14.533\n",
      "\tQuerying PM event timestamps for system: QPS, className: DQAMCNMB_PMSTD, source: * from 2014-12-11 21:44:24.580 to 2014-12-11 21:51:04.580\n"
     ]
    },
    {
     "data": {
      "application/vnd.jupyter.widget-view+json": {
       "model_id": "818e96cb14bc41a5ad923b127ebc84bc",
       "version_major": 2,
       "version_minor": 0
      },
      "text/plain": [
       "Querying U, I Diode leads NXCALS:   0%|          | 0/1 [00:00<?, ?it/s]"
      ]
     },
     "metadata": {},
     "output_type": "display_data"
    },
    {
     "name": "stdout",
     "output_type": "stream",
     "text": [
      "\tQuerying PM event timestamps for system: QPS, className: DQAMGNDRBODD, DQAMGNDRBEVEN, source: RB.A12 from 2014-12-11 21:45:04.580 to 2014-12-11 21:51:54.580\n",
      "\tQuerying NXCALS signal(s) DFLAS.7R1.RB.A12.LD3:U_RES, DFLAS.7R1.RB.A12.LD3:U_HTS, DFLAS.7R1.RB.A12.LD4:U_HTS, DFLAS.7R1.RB.A12.LD4:U_RES, DFLAS.7L2.RB.A12.LD1:U_HTS... from 2014-12-11 21:44:44.580 to 2014-12-11 21:46:44.580\n",
      "\tQuerying PM event signal(s) STATUS.I_MEAS, STATUS.I_EARTH_PCNT, STATUS.I_REF, IEARTH.IEARTH, IAB.I_A for system: RPTE.UA23.RB.A12, className: 51_self_pmd, source: FGC at 2014-12-12 12:46:04.500\n",
      "\tQuerying PM event timestamps for system: QPS, className: DQAMSNRB, source: UA23.RB.A12, RR17.RB.A12 from 2014-12-12 12:45:54.500 to 2014-12-12 13:02:44.500\n",
      "\tQuerying PM event signal(s) RR17.RB.A12:U_DUMP_RES, UA23.RB.A12:U_DUMP_RES for system: UA23.RB.A12, RR17.RB.A12, className: DQAMSNRB, source: QPS at 2014-12-12 12:46:04.817\n"
     ]
    },
    {
     "name": "stderr",
     "output_type": "stream",
     "text": [
      "Post Mortem returned no data for the following query: http://pm-api-pro/v2/pmdata/signal?system=QPS&className=DQAMSNRB&source=UA23.RB.A12&timestampInNanos=1418384764817000000&signal=UA23.RB.A12:U_DUMP_RES\n"
     ]
    },
    {
     "name": "stdout",
     "output_type": "stream",
     "text": [
      "\tQuerying PM event timestamps for system: QPS, className: DQAMSNRB, source: UA23.RB.A12, RR17.RB.A12 from 2014-12-12 12:45:54.500 to 2014-12-12 13:02:44.500\n",
      "\tQuerying PM event signal(s) RR17.RB.A12:T_RES_BODY_3, RR17.RB.A12:T_RES_BODY_2, UA23.RB.A12:T_RES_BODY_2, RR17.RB.A12:T_RES_BODY_1, UA23.RB.A12:T_RES_BODY_1... for system: UA23.RB.A12, RR17.RB.A12..., className: DQAMSNRB..., source: QPS... at 2014-12-12 12:46:04.817\n"
     ]
    },
    {
     "name": "stderr",
     "output_type": "stream",
     "text": [
      "Post Mortem returned no data for the following query: http://pm-api-pro/v2/pmdata/signal?system=QPS&className=DQAMSNRB&source=UA23.RB.A12&timestampInNanos=1418384764817000000&signal=UA23.RB.A12:T_RES_BODY_1\n",
      "Post Mortem returned no data for the following query: http://pm-api-pro/v2/pmdata/signal?system=QPS&className=DQAMSNRB&source=UA23.RB.A12&timestampInNanos=1418384764817000000&signal=UA23.RB.A12:T_RES_BODY_2\n",
      "Post Mortem returned no data for the following query: http://pm-api-pro/v2/pmdata/signal?system=QPS&className=DQAMSNRB&source=UA23.RB.A12&timestampInNanos=1418384764817000000&signal=UA23.RB.A12:T_RES_BODY_3\n"
     ]
    },
    {
     "name": "stdout",
     "output_type": "stream",
     "text": [
      "\tQuerying NXCALS signal(s) MB.A9R1:U_DIODE_RB, MB.A8R1:U_DIODE_RB, MB.B9R1:U_DIODE_RB, MB.B8R1:U_DIODE_RB, MB.A10R1:U_DIODE_RB... from 2014-12-12 12:45:14.500 to 2014-12-12 12:54:24.500\n",
      "\tQuerying NXCALS signal(s) MB.B8R1:U_EARTH_RB, MB.A10R1:U_EARTH_RB, MB.B11R1:U_EARTH_RB, MB.C12R1:U_EARTH_RB, MB.A8R1:U_EARTH_RB... from 2014-12-12 12:45:14.500 to 2014-12-12 12:54:24.500\n",
      "\tQuerying PM event timestamps for system: QPS, className: DQAMCNMB_PMSTD, source: * from 2014-12-12 12:45:14.500 to 2014-12-12 12:54:24.500\n"
     ]
    },
    {
     "data": {
      "application/vnd.jupyter.widget-view+json": {
       "model_id": "3112a5064344470cbc0efe00cf1f703f",
       "version_major": 2,
       "version_minor": 0
      },
      "text/plain": [
       "Querying iQPS logic PM:   0%|          | 0/1 [00:00<?, ?it/s]"
      ]
     },
     "metadata": {},
     "output_type": "display_data"
    },
    {
     "name": "stdout",
     "output_type": "stream",
     "text": [
      "\tQuerying PM event timestamps for system: QPS, className: DQAMCNMB_PMSTD, source: * from 2014-12-12 12:45:14.500 to 2014-12-12 12:54:24.500\n",
      "\tQuerying PM event timestamps for system: QPS, className: DQAMGNSRB_PMREL, source: * from 2014-12-12 12:45:54.500 to 2014-12-12 12:52:44.500\n",
      "\tQuerying PM event timestamps for system: QPS, className: DQAMCNMB_PMHSU, source: * from 2014-12-12 12:45:54.500 to 2014-12-12 12:54:24.500\n"
     ]
    },
    {
     "name": "stderr",
     "output_type": "stream",
     "text": [
      "Some nQPS PM buffers missing. ['B8R1', 'B9R1', 'B10R1', 'B11R1', 'B12R1', 'B13R1', 'B14R1', 'B15R1', 'B16R1', 'B17R1', 'B18R1', 'B19R1', 'B20R1', 'B21R1', 'B22R1', 'B23R1', 'B24R1', 'B25R1', 'B26R1', 'B27R1', 'B28R1', 'B29R1', 'B30R1', 'B31R1', 'B32R1', 'B33R1', 'B34R1', 'B34L2', 'B33L2', 'B32L2', 'B31L2', 'B30L2', 'B29L2', 'B28L2', 'B27L2', 'B26L2', 'B25L2', 'B24L2', 'B23L2', 'B22L2', 'B21L2', 'B20L2', 'B19L2', 'B18L2', 'B17L2', 'B16L2', 'B15L2', 'B14L2', 'B13L2', 'B12L2', 'B11L2', 'B10L2', 'B9L2', 'B8L2'] not found for RB.A12 within [(10, 's'), (400, 's')] around 1418384764500000000.\n",
      "At least one of the timestamps (nQPS or QDS) is missing, query skipped returning empty pd.DataFrame.\n"
     ]
    },
    {
     "data": {
      "application/vnd.jupyter.widget-view+json": {
       "model_id": "f367bf4721724248a42b0746669937ac",
       "version_major": 2,
       "version_minor": 0
      },
      "text/plain": [
       "Querying PM:   0%|          | 0/1 [00:00<?, ?it/s]"
      ]
     },
     "metadata": {},
     "output_type": "display_data"
    },
    {
     "name": "stdout",
     "output_type": "stream",
     "text": [
      "\tQuerying PM event timestamps for system: QPS, className: DQAMCNMB_PMSTD, source: * from 2014-12-12 12:45:14.500 to 2014-12-12 12:54:24.500\n"
     ]
    },
    {
     "data": {
      "application/vnd.jupyter.widget-view+json": {
       "model_id": "a3c1c127e32741dabcb4dc26206d7127",
       "version_major": 2,
       "version_minor": 0
      },
      "text/plain": [
       "Querying U, I Diode PM:   0%|          | 0/1 [00:00<?, ?it/s]"
      ]
     },
     "metadata": {},
     "output_type": "display_data"
    },
    {
     "name": "stdout",
     "output_type": "stream",
     "text": [
      "\tQuerying PM event timestamps for system: QPS, className: DQAMGNSRB_PMREL, source: B26L2 from 2014-12-12 12:36:04.470 to 2014-12-12 12:56:04.470\n",
      "\tQuerying PM event timestamps for system: QPS, className: DQAMCNMB_PMSTD, source: * from 2014-12-12 12:45:14.500 to 2014-12-12 12:51:54.500\n"
     ]
    },
    {
     "data": {
      "application/vnd.jupyter.widget-view+json": {
       "model_id": "e5104867a5324bf0b567a523c9cd59c0",
       "version_major": 2,
       "version_minor": 0
      },
      "text/plain": [
       "Querying U, I Diode leads NXCALS:   0%|          | 0/1 [00:00<?, ?it/s]"
      ]
     },
     "metadata": {},
     "output_type": "display_data"
    },
    {
     "name": "stdout",
     "output_type": "stream",
     "text": [
      "\tQuerying PM event timestamps for system: QPS, className: DQAMGNDRBODD, DQAMGNDRBEVEN, source: RB.A12 from 2014-12-12 12:45:54.500 to 2014-12-12 12:52:44.500\n",
      "\tQuerying NXCALS signal(s) DFLAS.7R1.RB.A12.LD3:U_RES, DFLAS.7R1.RB.A12.LD3:U_HTS, DFLAS.7R1.RB.A12.LD4:U_HTS, DFLAS.7R1.RB.A12.LD4:U_RES, DFLAS.7L2.RB.A12.LD1:U_HTS... from 2014-12-12 12:45:34.500 to 2014-12-12 12:47:34.500\n",
      "\tQuerying PM event signal(s) STATUS.I_MEAS, STATUS.I_EARTH_PCNT, STATUS.I_REF, IEARTH.IEARTH, IAB.I_A for system: RPTE.UA23.RB.A12, className: 51_self_pmd, source: FGC at 2014-12-13 16:31:10.560\n",
      "\tQuerying PM event timestamps for system: QPS, className: DQAMSNRB, source: UA23.RB.A12, RR17.RB.A12 from 2014-12-13 16:31:00.560 to 2014-12-13 16:47:50.560\n",
      "\tQuerying PM event signal(s) RR17.RB.A12:U_DUMP_RES, UA23.RB.A12:U_DUMP_RES for system: UA23.RB.A12, RR17.RB.A12, className: DQAMSNRB, source: QPS at 2014-12-13 16:31:10.865\n"
     ]
    },
    {
     "name": "stderr",
     "output_type": "stream",
     "text": [
      "Post Mortem returned no data for the following query: http://pm-api-pro/v2/pmdata/signal?system=QPS&className=DQAMSNRB&source=UA23.RB.A12&timestampInNanos=1418484670865000000&signal=UA23.RB.A12:U_DUMP_RES\n"
     ]
    },
    {
     "name": "stdout",
     "output_type": "stream",
     "text": [
      "\tQuerying PM event timestamps for system: QPS, className: DQAMSNRB, source: UA23.RB.A12, RR17.RB.A12 from 2014-12-13 16:31:00.560 to 2014-12-13 16:47:50.560\n",
      "\tQuerying PM event signal(s) RR17.RB.A12:T_RES_BODY_3, RR17.RB.A12:T_RES_BODY_2, UA23.RB.A12:T_RES_BODY_2, RR17.RB.A12:T_RES_BODY_1, UA23.RB.A12:T_RES_BODY_1... for system: UA23.RB.A12, RR17.RB.A12..., className: DQAMSNRB..., source: QPS... at 2014-12-13 16:31:10.865\n"
     ]
    },
    {
     "name": "stderr",
     "output_type": "stream",
     "text": [
      "Post Mortem returned no data for the following query: http://pm-api-pro/v2/pmdata/signal?system=QPS&className=DQAMSNRB&source=UA23.RB.A12&timestampInNanos=1418484670865000000&signal=UA23.RB.A12:T_RES_BODY_1\n",
      "Post Mortem returned no data for the following query: http://pm-api-pro/v2/pmdata/signal?system=QPS&className=DQAMSNRB&source=UA23.RB.A12&timestampInNanos=1418484670865000000&signal=UA23.RB.A12:T_RES_BODY_2\n",
      "Post Mortem returned no data for the following query: http://pm-api-pro/v2/pmdata/signal?system=QPS&className=DQAMSNRB&source=UA23.RB.A12&timestampInNanos=1418484670865000000&signal=UA23.RB.A12:T_RES_BODY_3\n"
     ]
    },
    {
     "name": "stdout",
     "output_type": "stream",
     "text": [
      "\tQuerying NXCALS signal(s) MB.A9R1:U_DIODE_RB, MB.A8R1:U_DIODE_RB, MB.B9R1:U_DIODE_RB, MB.B8R1:U_DIODE_RB, MB.A10R1:U_DIODE_RB... from 2014-12-13 16:30:20.560 to 2014-12-13 16:39:30.560\n",
      "\tQuerying NXCALS signal(s) MB.B8R1:U_EARTH_RB, MB.A10R1:U_EARTH_RB, MB.B11R1:U_EARTH_RB, MB.C12R1:U_EARTH_RB, MB.A8R1:U_EARTH_RB... from 2014-12-13 16:30:20.560 to 2014-12-13 16:39:30.560\n",
      "\tQuerying PM event timestamps for system: QPS, className: DQAMCNMB_PMSTD, source: * from 2014-12-13 16:30:20.560 to 2014-12-13 16:39:30.560\n"
     ]
    },
    {
     "data": {
      "application/vnd.jupyter.widget-view+json": {
       "model_id": "233ed411cc054c37b998e81d98dddc9e",
       "version_major": 2,
       "version_minor": 0
      },
      "text/plain": [
       "Querying iQPS logic PM:   0%|          | 0/4 [00:00<?, ?it/s]"
      ]
     },
     "metadata": {},
     "output_type": "display_data"
    },
    {
     "name": "stdout",
     "output_type": "stream",
     "text": [
      "\tQuerying PM event timestamps for system: QPS, className: DQAMCNMB_PMSTD, source: * from 2014-12-13 16:30:20.560 to 2014-12-13 16:39:30.560\n",
      "\tQuerying PM event timestamps for system: QPS, className: DQAMGNSRB_PMREL, source: * from 2014-12-13 16:31:00.560 to 2014-12-13 16:37:50.560\n",
      "\tQuerying PM event timestamps for system: QPS, className: DQAMCNMB_PMHSU, source: * from 2014-12-13 16:31:00.560 to 2014-12-13 16:39:30.560\n"
     ]
    },
    {
     "name": "stderr",
     "output_type": "stream",
     "text": [
      "Some nQPS PM buffers missing. ['B8R1', 'B9R1', 'B10R1', 'B11R1', 'B12R1', 'B13R1', 'B14R1', 'B15R1', 'B16R1', 'B17R1', 'B18R1', 'B19R1', 'B20R1', 'B21R1', 'B22R1', 'B23R1', 'B24R1', 'B25R1', 'B26R1', 'B27R1', 'B28R1', 'B29R1', 'B30R1', 'B31R1', 'B32R1', 'B33R1', 'B34R1', 'B34L2', 'B33L2', 'B32L2', 'B31L2', 'B30L2', 'B29L2', 'B28L2', 'B27L2', 'B26L2', 'B25L2', 'B24L2', 'B23L2', 'B22L2', 'B21L2', 'B20L2', 'B19L2', 'B18L2', 'B17L2', 'B16L2', 'B15L2', 'B14L2', 'B13L2', 'B12L2', 'B11L2', 'B10L2', 'B9L2', 'B8L2'] not found for RB.A12 within [(10, 's'), (400, 's')] around 1418484670560000000.\n",
      "At least one of the timestamps (nQPS or QDS) is missing, query skipped returning empty pd.DataFrame.\n"
     ]
    },
    {
     "data": {
      "application/vnd.jupyter.widget-view+json": {
       "model_id": "7574047a10d04c0f8722ae66613fb6f1",
       "version_major": 2,
       "version_minor": 0
      },
      "text/plain": [
       "Querying PM:   0%|          | 0/4 [00:00<?, ?it/s]"
      ]
     },
     "metadata": {},
     "output_type": "display_data"
    },
    {
     "name": "stdout",
     "output_type": "stream",
     "text": [
      "\tQuerying PM event timestamps for system: QPS, className: DQAMCNMB_PMSTD, source: * from 2014-12-13 16:30:20.560 to 2014-12-13 16:39:30.560\n"
     ]
    },
    {
     "data": {
      "application/vnd.jupyter.widget-view+json": {
       "model_id": "74ad139a3d1d4b4f9e8d79c8b3f1d4df",
       "version_major": 2,
       "version_minor": 0
      },
      "text/plain": [
       "Querying U, I Diode PM:   0%|          | 0/4 [00:00<?, ?it/s]"
      ]
     },
     "metadata": {},
     "output_type": "display_data"
    },
    {
     "name": "stdout",
     "output_type": "stream",
     "text": [
      "\tQuerying PM event timestamps for system: QPS, className: DQAMGNSRB_PMREL, source: B27R1 from 2014-12-13 16:21:10.521 to 2014-12-13 16:41:10.521\n",
      "\tQuerying PM event timestamps for system: QPS, className: DQAMCNMB_PMSTD, source: * from 2014-12-13 16:30:20.560 to 2014-12-13 16:37:00.560\n"
     ]
    },
    {
     "data": {
      "application/vnd.jupyter.widget-view+json": {
       "model_id": "2e57d3df59f6413bb34151d153880b37",
       "version_major": 2,
       "version_minor": 0
      },
      "text/plain": [
       "Querying U, I Diode leads NXCALS:   0%|          | 0/4 [00:00<?, ?it/s]"
      ]
     },
     "metadata": {},
     "output_type": "display_data"
    },
    {
     "name": "stdout",
     "output_type": "stream",
     "text": [
      "\tQuerying PM event timestamps for system: QPS, className: DQAMGNDRBODD, DQAMGNDRBEVEN, source: RB.A12 from 2014-12-13 16:31:00.560 to 2014-12-13 16:37:50.560\n",
      "\tQuerying PM event signal(s) DFLAS.7R1.RB.A12.LD3:U_RES, DFLAS.7R1.RB.A12.LD3:U_HTS, DFLAS.7R1.RB.A12.LD4:U_HTS, DFLAS.7R1.RB.A12.LD4:U_RES, DFLAS.7L2.RB.A12.LD1:U_HTS... for system: RB.A12..., className: DQAMGNDRBODD, DQAMGNDRBEVEN..., source: QPS... at 2014-12-13 16:31:11.206\n"
     ]
    },
    {
     "name": "stderr",
     "output_type": "stream",
     "text": [
      "Post Mortem returned no data for the following query: http://pm-api-pro/v2/pmdata/signal?system=QPS&className=DQAMGNDRBEVEN&source=RB.A12&timestampInNanos=1418484671206000000&signal=DFLAS.7L2.RB.A12.LD1:U_HTS\n",
      "Post Mortem returned no data for the following query: http://pm-api-pro/v2/pmdata/signal?system=QPS&className=DQAMGNDRBEVEN&source=RB.A12&timestampInNanos=1418484671206000000&signal=DFLAS.7L2.RB.A12.LD2:U_HTS\n",
      "Post Mortem returned no data for the following query: http://pm-api-pro/v2/pmdata/signal?system=QPS&className=DQAMGNDRBEVEN&source=RB.A12&timestampInNanos=1418484671206000000&signal=DFLAS.7L2.RB.A12.LD1:U_RES\n",
      "Post Mortem returned no data for the following query: http://pm-api-pro/v2/pmdata/signal?system=QPS&className=DQAMGNDRBEVEN&source=RB.A12&timestampInNanos=1418484671206000000&signal=DFLAS.7L2.RB.A12.LD2:U_RES\n"
     ]
    },
    {
     "name": "stdout",
     "output_type": "stream",
     "text": [
      "\tQuerying PM event signal(s) STATUS.I_MEAS, STATUS.I_EARTH_PCNT, STATUS.I_REF, IEARTH.IEARTH, IAB.I_A for system: RPTE.UA23.RB.A12, className: 51_self_pmd, source: FGC at 2014-12-14 07:33:34.280\n",
      "\tQuerying PM event timestamps for system: QPS, className: DQAMSNRB, source: UA23.RB.A12, RR17.RB.A12 from 2014-12-14 07:33:24.280 to 2014-12-14 07:50:14.280\n",
      "\tQuerying PM event signal(s) RR17.RB.A12:U_DUMP_RES, UA23.RB.A12:U_DUMP_RES for system: UA23.RB.A12, RR17.RB.A12, className: DQAMSNRB, source: QPS at 2014-12-14 07:33:34.584\n"
     ]
    },
    {
     "name": "stderr",
     "output_type": "stream",
     "text": [
      "Post Mortem returned no data for the following query: http://pm-api-pro/v2/pmdata/signal?system=QPS&className=DQAMSNRB&source=UA23.RB.A12&timestampInNanos=1418538814584000000&signal=UA23.RB.A12:U_DUMP_RES\n"
     ]
    },
    {
     "name": "stdout",
     "output_type": "stream",
     "text": [
      "\tQuerying PM event timestamps for system: QPS, className: DQAMSNRB, source: UA23.RB.A12, RR17.RB.A12 from 2014-12-14 07:33:24.280 to 2014-12-14 07:50:14.280\n",
      "\tQuerying PM event signal(s) RR17.RB.A12:T_RES_BODY_3, RR17.RB.A12:T_RES_BODY_2, UA23.RB.A12:T_RES_BODY_2, RR17.RB.A12:T_RES_BODY_1, UA23.RB.A12:T_RES_BODY_1... for system: UA23.RB.A12, RR17.RB.A12..., className: DQAMSNRB..., source: QPS... at 2014-12-14 07:33:34.584\n"
     ]
    },
    {
     "name": "stderr",
     "output_type": "stream",
     "text": [
      "Post Mortem returned no data for the following query: http://pm-api-pro/v2/pmdata/signal?system=QPS&className=DQAMSNRB&source=UA23.RB.A12&timestampInNanos=1418538814584000000&signal=UA23.RB.A12:T_RES_BODY_1\n",
      "Post Mortem returned no data for the following query: http://pm-api-pro/v2/pmdata/signal?system=QPS&className=DQAMSNRB&source=UA23.RB.A12&timestampInNanos=1418538814584000000&signal=UA23.RB.A12:T_RES_BODY_2\n",
      "Post Mortem returned no data for the following query: http://pm-api-pro/v2/pmdata/signal?system=QPS&className=DQAMSNRB&source=UA23.RB.A12&timestampInNanos=1418538814584000000&signal=UA23.RB.A12:T_RES_BODY_3\n"
     ]
    },
    {
     "name": "stdout",
     "output_type": "stream",
     "text": [
      "\tQuerying NXCALS signal(s) MB.A9R1:U_DIODE_RB, MB.A8R1:U_DIODE_RB, MB.B9R1:U_DIODE_RB, MB.B8R1:U_DIODE_RB, MB.A10R1:U_DIODE_RB... from 2014-12-14 07:32:44.280 to 2014-12-14 07:41:54.280\n",
      "\tQuerying NXCALS signal(s) MB.B8R1:U_EARTH_RB, MB.A10R1:U_EARTH_RB, MB.B11R1:U_EARTH_RB, MB.C12R1:U_EARTH_RB, MB.A8R1:U_EARTH_RB... from 2014-12-14 07:32:44.280 to 2014-12-14 07:41:54.280\n",
      "\tQuerying PM event timestamps for system: QPS, className: DQAMCNMB_PMSTD, source: * from 2014-12-14 07:32:44.280 to 2014-12-14 07:41:54.280\n"
     ]
    },
    {
     "data": {
      "application/vnd.jupyter.widget-view+json": {
       "model_id": "eb62748d247e4090b434102b4dfd9c45",
       "version_major": 2,
       "version_minor": 0
      },
      "text/plain": [
       "Querying iQPS logic PM:   0%|          | 0/5 [00:00<?, ?it/s]"
      ]
     },
     "metadata": {},
     "output_type": "display_data"
    },
    {
     "name": "stdout",
     "output_type": "stream",
     "text": [
      "\tQuerying PM event timestamps for system: QPS, className: DQAMCNMB_PMSTD, source: * from 2014-12-14 07:32:44.280 to 2014-12-14 07:41:54.280\n",
      "\tQuerying PM event timestamps for system: QPS, className: DQAMGNSRB_PMREL, source: * from 2014-12-14 07:33:24.280 to 2014-12-14 07:40:14.280\n",
      "\tQuerying PM event timestamps for system: QPS, className: DQAMCNMB_PMHSU, source: * from 2014-12-14 07:33:24.280 to 2014-12-14 07:41:54.280\n"
     ]
    },
    {
     "name": "stderr",
     "output_type": "stream",
     "text": [
      "Some nQPS PM buffers missing. ['B8R1', 'B9R1', 'B10R1', 'B11R1', 'B12R1', 'B13R1', 'B14R1', 'B15R1', 'B16R1', 'B17R1', 'B18R1', 'B19R1', 'B20R1', 'B21R1', 'B22R1', 'B23R1', 'B24R1', 'B25R1', 'B26R1', 'B27R1', 'B28R1', 'B29R1', 'B30R1', 'B31R1', 'B32R1', 'B33R1', 'B34R1', 'B34L2', 'B33L2', 'B32L2', 'B31L2', 'B30L2', 'B29L2', 'B28L2', 'B27L2', 'B26L2', 'B25L2', 'B24L2', 'B23L2', 'B22L2', 'B21L2', 'B20L2', 'B19L2', 'B18L2', 'B17L2', 'B16L2', 'B15L2', 'B14L2', 'B13L2', 'B12L2', 'B11L2', 'B10L2', 'B9L2', 'B8L2'] not found for RB.A12 within [(10, 's'), (400, 's')] around 1418538814280000000.\n",
      "At least one of the timestamps (nQPS or QDS) is missing, query skipped returning empty pd.DataFrame.\n"
     ]
    },
    {
     "data": {
      "application/vnd.jupyter.widget-view+json": {
       "model_id": "9a6a0f6fa5de4b7c9179915ce923bfa1",
       "version_major": 2,
       "version_minor": 0
      },
      "text/plain": [
       "Querying PM:   0%|          | 0/5 [00:00<?, ?it/s]"
      ]
     },
     "metadata": {},
     "output_type": "display_data"
    },
    {
     "name": "stdout",
     "output_type": "stream",
     "text": [
      "\tQuerying PM event timestamps for system: QPS, className: DQAMCNMB_PMSTD, source: * from 2014-12-14 07:32:44.280 to 2014-12-14 07:41:54.280\n"
     ]
    },
    {
     "data": {
      "application/vnd.jupyter.widget-view+json": {
       "model_id": "fdb707f6e7c14ccc9926ebd64572fcb6",
       "version_major": 2,
       "version_minor": 0
      },
      "text/plain": [
       "Querying U, I Diode PM:   0%|          | 0/5 [00:00<?, ?it/s]"
      ]
     },
     "metadata": {},
     "output_type": "display_data"
    },
    {
     "name": "stdout",
     "output_type": "stream",
     "text": [
      "\tQuerying PM event timestamps for system: QPS, className: DQAMGNSRB_PMREL, source: B29R1 from 2014-12-14 07:23:34.237 to 2014-12-14 07:43:34.237\n",
      "\tQuerying PM event timestamps for system: QPS, className: DQAMCNMB_PMSTD, source: * from 2014-12-14 07:32:44.280 to 2014-12-14 07:39:24.280\n"
     ]
    },
    {
     "data": {
      "application/vnd.jupyter.widget-view+json": {
       "model_id": "a934a24e1e1e47989efd5078d08b4108",
       "version_major": 2,
       "version_minor": 0
      },
      "text/plain": [
       "Querying U, I Diode leads NXCALS:   0%|          | 0/4 [00:00<?, ?it/s]"
      ]
     },
     "metadata": {},
     "output_type": "display_data"
    },
    {
     "name": "stdout",
     "output_type": "stream",
     "text": [
      "\tQuerying PM event timestamps for system: QPS, className: DQAMGNDRBODD, DQAMGNDRBEVEN, source: RB.A12 from 2014-12-14 07:33:24.280 to 2014-12-14 07:40:14.280\n",
      "\tQuerying NXCALS signal(s) DFLAS.7R1.RB.A12.LD3:U_RES, DFLAS.7R1.RB.A12.LD3:U_HTS, DFLAS.7R1.RB.A12.LD4:U_HTS, DFLAS.7R1.RB.A12.LD4:U_RES, DFLAS.7L2.RB.A12.LD1:U_HTS... from 2014-12-14 07:33:04.280 to 2014-12-14 07:35:04.280\n",
      "\tQuerying PM event signal(s) STATUS.I_MEAS, STATUS.I_EARTH_PCNT, STATUS.I_REF, IEARTH.IEARTH, IAB.I_A for system: RPTE.UA23.RB.A12, className: 51_self_pmd, source: FGC at 2014-12-14 13:40:53.860\n",
      "\tQuerying PM event timestamps for system: QPS, className: DQAMSNRB, source: UA23.RB.A12, RR17.RB.A12 from 2014-12-14 13:40:43.860 to 2014-12-14 13:57:33.860\n",
      "\tQuerying PM event signal(s) RR17.RB.A12:U_DUMP_RES, UA23.RB.A12:U_DUMP_RES for system: UA23.RB.A12, RR17.RB.A12, className: DQAMSNRB, source: QPS at 2014-12-14 13:40:54.170\n"
     ]
    },
    {
     "name": "stderr",
     "output_type": "stream",
     "text": [
      "Post Mortem returned no data for the following query: http://pm-api-pro/v2/pmdata/signal?system=QPS&className=DQAMSNRB&source=UA23.RB.A12&timestampInNanos=1418560854170000000&signal=UA23.RB.A12:U_DUMP_RES\n"
     ]
    },
    {
     "name": "stdout",
     "output_type": "stream",
     "text": [
      "\tQuerying PM event timestamps for system: QPS, className: DQAMSNRB, source: UA23.RB.A12, RR17.RB.A12 from 2014-12-14 13:40:43.860 to 2014-12-14 13:57:33.860\n",
      "\tQuerying PM event signal(s) RR17.RB.A12:T_RES_BODY_3, RR17.RB.A12:T_RES_BODY_2, UA23.RB.A12:T_RES_BODY_2, RR17.RB.A12:T_RES_BODY_1, UA23.RB.A12:T_RES_BODY_1... for system: UA23.RB.A12, RR17.RB.A12..., className: DQAMSNRB..., source: QPS... at 2014-12-14 13:40:54.170\n"
     ]
    },
    {
     "name": "stderr",
     "output_type": "stream",
     "text": [
      "Post Mortem returned no data for the following query: http://pm-api-pro/v2/pmdata/signal?system=QPS&className=DQAMSNRB&source=UA23.RB.A12&timestampInNanos=1418560854170000000&signal=UA23.RB.A12:T_RES_BODY_1\n",
      "Post Mortem returned no data for the following query: http://pm-api-pro/v2/pmdata/signal?system=QPS&className=DQAMSNRB&source=UA23.RB.A12&timestampInNanos=1418560854170000000&signal=UA23.RB.A12:T_RES_BODY_2\n",
      "Post Mortem returned no data for the following query: http://pm-api-pro/v2/pmdata/signal?system=QPS&className=DQAMSNRB&source=UA23.RB.A12&timestampInNanos=1418560854170000000&signal=UA23.RB.A12:T_RES_BODY_3\n"
     ]
    },
    {
     "name": "stdout",
     "output_type": "stream",
     "text": [
      "\tQuerying NXCALS signal(s) MB.A9R1:U_DIODE_RB, MB.A8R1:U_DIODE_RB, MB.B9R1:U_DIODE_RB, MB.B8R1:U_DIODE_RB, MB.A10R1:U_DIODE_RB... from 2014-12-14 13:40:03.860 to 2014-12-14 13:49:13.860\n",
      "\tQuerying NXCALS signal(s) MB.B8R1:U_EARTH_RB, MB.A10R1:U_EARTH_RB, MB.B11R1:U_EARTH_RB, MB.C12R1:U_EARTH_RB, MB.A8R1:U_EARTH_RB... from 2014-12-14 13:40:03.860 to 2014-12-14 13:49:13.860\n",
      "\tQuerying PM event timestamps for system: QPS, className: DQAMCNMB_PMSTD, source: * from 2014-12-14 13:40:03.860 to 2014-12-14 13:49:13.860\n"
     ]
    },
    {
     "data": {
      "application/vnd.jupyter.widget-view+json": {
       "model_id": "0db30f06e58f48f5b1866f33eea01e58",
       "version_major": 2,
       "version_minor": 0
      },
      "text/plain": [
       "Querying iQPS logic PM:   0%|          | 0/4 [00:00<?, ?it/s]"
      ]
     },
     "metadata": {},
     "output_type": "display_data"
    },
    {
     "name": "stdout",
     "output_type": "stream",
     "text": [
      "\tQuerying PM event timestamps for system: QPS, className: DQAMCNMB_PMSTD, source: * from 2014-12-14 13:40:03.860 to 2014-12-14 13:49:13.860\n",
      "\tQuerying PM event timestamps for system: QPS, className: DQAMGNSRB_PMREL, source: * from 2014-12-14 13:40:43.860 to 2014-12-14 13:47:33.860\n",
      "\tQuerying PM event timestamps for system: QPS, className: DQAMCNMB_PMHSU, source: * from 2014-12-14 13:40:43.860 to 2014-12-14 13:49:13.860\n"
     ]
    },
    {
     "name": "stderr",
     "output_type": "stream",
     "text": [
      "Some nQPS PM buffers missing. ['B8R1', 'B9R1', 'B10R1', 'B11R1', 'B12R1', 'B13R1', 'B14R1', 'B15R1', 'B16R1', 'B17R1', 'B18R1', 'B19R1', 'B20R1', 'B21R1', 'B22R1', 'B23R1', 'B24R1', 'B25R1', 'B26R1', 'B27R1', 'B28R1', 'B29R1', 'B30R1', 'B31R1', 'B32R1', 'B33R1', 'B34R1', 'B34L2', 'B33L2', 'B32L2', 'B31L2', 'B30L2', 'B29L2', 'B28L2', 'B27L2', 'B26L2', 'B25L2', 'B24L2', 'B23L2', 'B22L2', 'B21L2', 'B20L2', 'B19L2', 'B18L2', 'B17L2', 'B16L2', 'B15L2', 'B14L2', 'B13L2', 'B12L2', 'B11L2', 'B10L2', 'B9L2', 'B8L2'] not found for RB.A12 within [(10, 's'), (400, 's')] around 1418560853860000000.\n",
      "At least one of the timestamps (nQPS or QDS) is missing, query skipped returning empty pd.DataFrame.\n"
     ]
    },
    {
     "data": {
      "application/vnd.jupyter.widget-view+json": {
       "model_id": "2b704229567049d6bfec105c4f0bb728",
       "version_major": 2,
       "version_minor": 0
      },
      "text/plain": [
       "Querying PM:   0%|          | 0/4 [00:00<?, ?it/s]"
      ]
     },
     "metadata": {},
     "output_type": "display_data"
    },
    {
     "name": "stdout",
     "output_type": "stream",
     "text": [
      "\tQuerying PM event timestamps for system: QPS, className: DQAMCNMB_PMSTD, source: * from 2014-12-14 13:40:03.860 to 2014-12-14 13:49:13.860\n"
     ]
    },
    {
     "data": {
      "application/vnd.jupyter.widget-view+json": {
       "model_id": "6b6c9caaa58d4c828c4d74864ff9af32",
       "version_major": 2,
       "version_minor": 0
      },
      "text/plain": [
       "Querying U, I Diode PM:   0%|          | 0/4 [00:00<?, ?it/s]"
      ]
     },
     "metadata": {},
     "output_type": "display_data"
    },
    {
     "name": "stdout",
     "output_type": "stream",
     "text": [
      "\tQuerying PM event timestamps for system: QPS, className: DQAMGNSRB_PMREL, source: B27R1 from 2014-12-14 13:30:53.823 to 2014-12-14 13:50:53.823\n",
      "\tQuerying PM event timestamps for system: QPS, className: DQAMCNMB_PMSTD, source: * from 2014-12-14 13:40:03.860 to 2014-12-14 13:46:43.860\n"
     ]
    },
    {
     "data": {
      "application/vnd.jupyter.widget-view+json": {
       "model_id": "88d3b2994a1547cab51b79b700027a88",
       "version_major": 2,
       "version_minor": 0
      },
      "text/plain": [
       "Querying U, I Diode leads NXCALS:   0%|          | 0/4 [00:00<?, ?it/s]"
      ]
     },
     "metadata": {},
     "output_type": "display_data"
    },
    {
     "name": "stdout",
     "output_type": "stream",
     "text": [
      "\tQuerying PM event timestamps for system: QPS, className: DQAMGNDRBODD, DQAMGNDRBEVEN, source: RB.A12 from 2014-12-14 13:40:43.860 to 2014-12-14 13:47:33.860\n",
      "\tQuerying NXCALS signal(s) DFLAS.7R1.RB.A12.LD3:U_RES, DFLAS.7R1.RB.A12.LD3:U_HTS, DFLAS.7R1.RB.A12.LD4:U_HTS, DFLAS.7R1.RB.A12.LD4:U_RES, DFLAS.7L2.RB.A12.LD1:U_HTS... from 2014-12-14 13:40:23.860 to 2014-12-14 13:42:23.860\n",
      "\tQuerying PM event signal(s) STATUS.I_MEAS, STATUS.I_EARTH_PCNT, STATUS.I_REF, IEARTH.IEARTH, IAB.I_A for system: RPTE.UA23.RB.A12, className: 51_self_pmd, source: FGC at 2014-12-14 22:49:09.920\n",
      "\tQuerying PM event timestamps for system: QPS, className: DQAMSNRB, source: UA23.RB.A12, RR17.RB.A12 from 2014-12-14 22:48:59.920 to 2014-12-14 23:05:49.920\n",
      "\tQuerying PM event signal(s) RR17.RB.A12:U_DUMP_RES, UA23.RB.A12:U_DUMP_RES for system: UA23.RB.A12, RR17.RB.A12, className: DQAMSNRB, source: QPS at 2014-12-14 22:49:10.221\n"
     ]
    },
    {
     "name": "stderr",
     "output_type": "stream",
     "text": [
      "Post Mortem returned no data for the following query: http://pm-api-pro/v2/pmdata/signal?system=QPS&className=DQAMSNRB&source=UA23.RB.A12&timestampInNanos=1418593750221000000&signal=UA23.RB.A12:U_DUMP_RES\n"
     ]
    },
    {
     "name": "stdout",
     "output_type": "stream",
     "text": [
      "\tQuerying PM event timestamps for system: QPS, className: DQAMSNRB, source: UA23.RB.A12, RR17.RB.A12 from 2014-12-14 22:48:59.920 to 2014-12-14 23:05:49.920\n",
      "\tQuerying PM event signal(s) RR17.RB.A12:T_RES_BODY_3, RR17.RB.A12:T_RES_BODY_2, UA23.RB.A12:T_RES_BODY_2, RR17.RB.A12:T_RES_BODY_1, UA23.RB.A12:T_RES_BODY_1... for system: UA23.RB.A12, RR17.RB.A12..., className: DQAMSNRB..., source: QPS... at 2014-12-14 22:49:10.221\n"
     ]
    },
    {
     "name": "stderr",
     "output_type": "stream",
     "text": [
      "Post Mortem returned no data for the following query: http://pm-api-pro/v2/pmdata/signal?system=QPS&className=DQAMSNRB&source=UA23.RB.A12&timestampInNanos=1418593750221000000&signal=UA23.RB.A12:T_RES_BODY_1\n",
      "Post Mortem returned no data for the following query: http://pm-api-pro/v2/pmdata/signal?system=QPS&className=DQAMSNRB&source=UA23.RB.A12&timestampInNanos=1418593750221000000&signal=UA23.RB.A12:T_RES_BODY_2\n",
      "Post Mortem returned no data for the following query: http://pm-api-pro/v2/pmdata/signal?system=QPS&className=DQAMSNRB&source=UA23.RB.A12&timestampInNanos=1418593750221000000&signal=UA23.RB.A12:T_RES_BODY_3\n"
     ]
    },
    {
     "name": "stdout",
     "output_type": "stream",
     "text": [
      "\tQuerying NXCALS signal(s) MB.A9R1:U_DIODE_RB, MB.A8R1:U_DIODE_RB, MB.B9R1:U_DIODE_RB, MB.B8R1:U_DIODE_RB, MB.A10R1:U_DIODE_RB... from 2014-12-14 22:48:19.920 to 2014-12-14 22:57:29.920\n",
      "\tQuerying NXCALS signal(s) MB.B8R1:U_EARTH_RB, MB.A10R1:U_EARTH_RB, MB.B11R1:U_EARTH_RB, MB.C12R1:U_EARTH_RB, MB.A8R1:U_EARTH_RB... from 2014-12-14 22:48:19.920 to 2014-12-14 22:57:29.920\n",
      "\tQuerying PM event timestamps for system: QPS, className: DQAMCNMB_PMSTD, source: * from 2014-12-14 22:48:19.920 to 2014-12-14 22:57:29.920\n"
     ]
    },
    {
     "data": {
      "application/vnd.jupyter.widget-view+json": {
       "model_id": "d016b3f2e3b6444bb47219815bf31dcf",
       "version_major": 2,
       "version_minor": 0
      },
      "text/plain": [
       "Querying iQPS logic PM:   0%|          | 0/4 [00:00<?, ?it/s]"
      ]
     },
     "metadata": {},
     "output_type": "display_data"
    },
    {
     "name": "stdout",
     "output_type": "stream",
     "text": [
      "\tQuerying PM event timestamps for system: QPS, className: DQAMCNMB_PMSTD, source: * from 2014-12-14 22:48:19.920 to 2014-12-14 22:57:29.920\n",
      "\tQuerying PM event timestamps for system: QPS, className: DQAMGNSRB_PMREL, source: * from 2014-12-14 22:48:59.920 to 2014-12-14 22:55:49.920\n",
      "\tQuerying PM event timestamps for system: QPS, className: DQAMCNMB_PMHSU, source: * from 2014-12-14 22:48:59.920 to 2014-12-14 22:57:29.920\n"
     ]
    },
    {
     "name": "stderr",
     "output_type": "stream",
     "text": [
      "Some nQPS PM buffers missing. ['B8R1', 'B9R1', 'B10R1', 'B11R1', 'B12R1', 'B13R1', 'B14R1', 'B15R1', 'B16R1', 'B17R1', 'B18R1', 'B19R1', 'B20R1', 'B21R1', 'B22R1', 'B23R1', 'B24R1', 'B25R1', 'B26R1', 'B27R1', 'B28R1', 'B29R1', 'B30R1', 'B31R1', 'B32R1', 'B33R1', 'B34R1', 'B34L2', 'B33L2', 'B32L2', 'B31L2', 'B30L2', 'B29L2', 'B28L2', 'B27L2', 'B26L2', 'B25L2', 'B24L2', 'B23L2', 'B22L2', 'B21L2', 'B20L2', 'B19L2', 'B18L2', 'B17L2', 'B16L2', 'B15L2', 'B14L2', 'B13L2', 'B12L2', 'B11L2', 'B10L2', 'B9L2', 'B8L2'] not found for RB.A12 within [(10, 's'), (400, 's')] around 1418593749920000000.\n",
      "At least one of the timestamps (nQPS or QDS) is missing, query skipped returning empty pd.DataFrame.\n"
     ]
    },
    {
     "data": {
      "application/vnd.jupyter.widget-view+json": {
       "model_id": "c289f3bde91a4023a7091787a1fae05c",
       "version_major": 2,
       "version_minor": 0
      },
      "text/plain": [
       "Querying PM:   0%|          | 0/4 [00:00<?, ?it/s]"
      ]
     },
     "metadata": {},
     "output_type": "display_data"
    },
    {
     "name": "stdout",
     "output_type": "stream",
     "text": [
      "\tQuerying PM event timestamps for system: QPS, className: DQAMCNMB_PMSTD, source: * from 2014-12-14 22:48:19.920 to 2014-12-14 22:57:29.920\n"
     ]
    },
    {
     "data": {
      "application/vnd.jupyter.widget-view+json": {
       "model_id": "08f78c804a6b4a0db118403a58872a0b",
       "version_major": 2,
       "version_minor": 0
      },
      "text/plain": [
       "Querying U, I Diode PM:   0%|          | 0/4 [00:00<?, ?it/s]"
      ]
     },
     "metadata": {},
     "output_type": "display_data"
    },
    {
     "name": "stdout",
     "output_type": "stream",
     "text": [
      "\tQuerying PM event timestamps for system: QPS, className: DQAMGNSRB_PMREL, source: B31L2 from 2014-12-14 22:39:09.878 to 2014-12-14 22:59:09.878\n",
      "\tQuerying PM event timestamps for system: QPS, className: DQAMCNMB_PMSTD, source: * from 2014-12-14 22:48:19.920 to 2014-12-14 22:54:59.920\n"
     ]
    },
    {
     "data": {
      "application/vnd.jupyter.widget-view+json": {
       "model_id": "6d89adcab03d4941a778fa11e07bdd9e",
       "version_major": 2,
       "version_minor": 0
      },
      "text/plain": [
       "Querying U, I Diode leads NXCALS:   0%|          | 0/4 [00:00<?, ?it/s]"
      ]
     },
     "metadata": {},
     "output_type": "display_data"
    },
    {
     "name": "stdout",
     "output_type": "stream",
     "text": [
      "\tQuerying PM event timestamps for system: QPS, className: DQAMGNDRBODD, DQAMGNDRBEVEN, source: RB.A12 from 2014-12-14 22:48:59.920 to 2014-12-14 22:55:49.920\n",
      "\tQuerying PM event signal(s) DFLAS.7R1.RB.A12.LD3:U_RES, DFLAS.7R1.RB.A12.LD3:U_HTS, DFLAS.7R1.RB.A12.LD4:U_HTS, DFLAS.7R1.RB.A12.LD4:U_RES, DFLAS.7L2.RB.A12.LD1:U_HTS... for system: RB.A12..., className: DQAMGNDRBODD, DQAMGNDRBEVEN..., source: QPS... at 2014-12-14 22:49:10.206\n"
     ]
    },
    {
     "name": "stderr",
     "output_type": "stream",
     "text": [
      "Post Mortem returned no data for the following query: http://pm-api-pro/v2/pmdata/signal?system=QPS&className=DQAMGNDRBEVEN&source=RB.A12&timestampInNanos=1418593750206000000&signal=DFLAS.7L2.RB.A12.LD1:U_HTS\n",
      "Post Mortem returned no data for the following query: http://pm-api-pro/v2/pmdata/signal?system=QPS&className=DQAMGNDRBEVEN&source=RB.A12&timestampInNanos=1418593750206000000&signal=DFLAS.7L2.RB.A12.LD2:U_HTS\n",
      "Post Mortem returned no data for the following query: http://pm-api-pro/v2/pmdata/signal?system=QPS&className=DQAMGNDRBEVEN&source=RB.A12&timestampInNanos=1418593750206000000&signal=DFLAS.7L2.RB.A12.LD1:U_RES\n",
      "Post Mortem returned no data for the following query: http://pm-api-pro/v2/pmdata/signal?system=QPS&className=DQAMGNDRBEVEN&source=RB.A12&timestampInNanos=1418593750206000000&signal=DFLAS.7L2.RB.A12.LD2:U_RES\n"
     ]
    },
    {
     "name": "stdout",
     "output_type": "stream",
     "text": [
      "\tQuerying PM event signal(s) STATUS.I_MEAS, STATUS.I_EARTH_PCNT, STATUS.I_REF, IEARTH.IEARTH, IAB.I_A for system: RPTE.UA23.RB.A12, className: 51_self_pmd, source: FGC at 2014-12-15 07:54:44.100\n",
      "\tQuerying PM event timestamps for system: QPS, className: DQAMSNRB, source: UA23.RB.A12, RR17.RB.A12 from 2014-12-15 07:54:34.100 to 2014-12-15 08:11:24.100\n",
      "\tQuerying PM event signal(s) RR17.RB.A12:U_DUMP_RES, UA23.RB.A12:U_DUMP_RES for system: UA23.RB.A12, RR17.RB.A12, className: DQAMSNRB, source: QPS at 2014-12-15 07:54:44.408\n"
     ]
    },
    {
     "name": "stderr",
     "output_type": "stream",
     "text": [
      "Post Mortem returned no data for the following query: http://pm-api-pro/v2/pmdata/signal?system=QPS&className=DQAMSNRB&source=UA23.RB.A12&timestampInNanos=1418626484408000000&signal=UA23.RB.A12:U_DUMP_RES\n"
     ]
    },
    {
     "name": "stdout",
     "output_type": "stream",
     "text": [
      "\tQuerying PM event timestamps for system: QPS, className: DQAMSNRB, source: UA23.RB.A12, RR17.RB.A12 from 2014-12-15 07:54:34.100 to 2014-12-15 08:11:24.100\n",
      "\tQuerying PM event signal(s) RR17.RB.A12:T_RES_BODY_3, RR17.RB.A12:T_RES_BODY_2, UA23.RB.A12:T_RES_BODY_2, RR17.RB.A12:T_RES_BODY_1, UA23.RB.A12:T_RES_BODY_1... for system: UA23.RB.A12, RR17.RB.A12..., className: DQAMSNRB..., source: QPS... at 2014-12-15 07:54:44.408\n"
     ]
    },
    {
     "name": "stderr",
     "output_type": "stream",
     "text": [
      "Post Mortem returned no data for the following query: http://pm-api-pro/v2/pmdata/signal?system=QPS&className=DQAMSNRB&source=UA23.RB.A12&timestampInNanos=1418626484408000000&signal=UA23.RB.A12:T_RES_BODY_1\n",
      "Post Mortem returned no data for the following query: http://pm-api-pro/v2/pmdata/signal?system=QPS&className=DQAMSNRB&source=UA23.RB.A12&timestampInNanos=1418626484408000000&signal=UA23.RB.A12:T_RES_BODY_2\n",
      "Post Mortem returned no data for the following query: http://pm-api-pro/v2/pmdata/signal?system=QPS&className=DQAMSNRB&source=UA23.RB.A12&timestampInNanos=1418626484408000000&signal=UA23.RB.A12:T_RES_BODY_3\n"
     ]
    },
    {
     "name": "stdout",
     "output_type": "stream",
     "text": [
      "\tQuerying NXCALS signal(s) MB.A9R1:U_DIODE_RB, MB.A8R1:U_DIODE_RB, MB.B9R1:U_DIODE_RB, MB.B8R1:U_DIODE_RB, MB.A10R1:U_DIODE_RB... from 2014-12-15 07:53:54.100 to 2014-12-15 08:03:04.100\n",
      "\tQuerying NXCALS signal(s) MB.B8R1:U_EARTH_RB, MB.A10R1:U_EARTH_RB, MB.B11R1:U_EARTH_RB, MB.C12R1:U_EARTH_RB, MB.A8R1:U_EARTH_RB... from 2014-12-15 07:53:54.100 to 2014-12-15 08:03:04.100\n",
      "\tQuerying PM event timestamps for system: QPS, className: DQAMCNMB_PMSTD, source: * from 2014-12-15 07:53:54.100 to 2014-12-15 08:03:04.100\n"
     ]
    },
    {
     "data": {
      "application/vnd.jupyter.widget-view+json": {
       "model_id": "a7da6c55401b4889b0217a0a7e6b6d5c",
       "version_major": 2,
       "version_minor": 0
      },
      "text/plain": [
       "Querying iQPS logic PM:   0%|          | 0/7 [00:00<?, ?it/s]"
      ]
     },
     "metadata": {},
     "output_type": "display_data"
    },
    {
     "name": "stdout",
     "output_type": "stream",
     "text": [
      "\tQuerying PM event timestamps for system: QPS, className: DQAMCNMB_PMSTD, source: * from 2014-12-15 07:53:54.100 to 2014-12-15 08:03:04.100\n",
      "\tQuerying PM event timestamps for system: QPS, className: DQAMGNSRB_PMREL, source: * from 2014-12-15 07:54:34.100 to 2014-12-15 08:01:24.100\n",
      "\tQuerying PM event timestamps for system: QPS, className: DQAMCNMB_PMHSU, source: * from 2014-12-15 07:54:34.100 to 2014-12-15 08:03:04.100\n"
     ]
    },
    {
     "name": "stderr",
     "output_type": "stream",
     "text": [
      "Some nQPS PM buffers missing. ['B8R1', 'B9R1', 'B10R1', 'B11R1', 'B12R1', 'B13R1', 'B14R1', 'B15R1', 'B16R1', 'B17R1', 'B18R1', 'B19R1', 'B20R1', 'B21R1', 'B22R1', 'B23R1', 'B24R1', 'B25R1', 'B26R1', 'B27R1', 'B28R1', 'B29R1', 'B30R1', 'B31R1', 'B32R1', 'B33R1', 'B34R1', 'B34L2', 'B33L2', 'B32L2', 'B31L2', 'B30L2', 'B29L2', 'B28L2', 'B27L2', 'B26L2', 'B25L2', 'B24L2', 'B23L2', 'B22L2', 'B21L2', 'B20L2', 'B19L2', 'B18L2', 'B17L2', 'B16L2', 'B15L2', 'B14L2', 'B13L2', 'B12L2', 'B11L2', 'B10L2', 'B9L2', 'B8L2'] not found for RB.A12 within [(10, 's'), (400, 's')] around 1418626484100000000.\n",
      "At least one of the timestamps (nQPS or QDS) is missing, query skipped returning empty pd.DataFrame.\n"
     ]
    },
    {
     "data": {
      "application/vnd.jupyter.widget-view+json": {
       "model_id": "1685664b584b4ddbb1b4e5f6467902b9",
       "version_major": 2,
       "version_minor": 0
      },
      "text/plain": [
       "Querying PM:   0%|          | 0/7 [00:00<?, ?it/s]"
      ]
     },
     "metadata": {},
     "output_type": "display_data"
    },
    {
     "name": "stdout",
     "output_type": "stream",
     "text": [
      "\tQuerying PM event timestamps for system: QPS, className: DQAMCNMB_PMSTD, source: * from 2014-12-15 07:53:54.100 to 2014-12-15 08:03:04.100\n"
     ]
    },
    {
     "data": {
      "application/vnd.jupyter.widget-view+json": {
       "model_id": "b6dd15b36bd3487996d9cbd95df8cd63",
       "version_major": 2,
       "version_minor": 0
      },
      "text/plain": [
       "Querying U, I Diode PM:   0%|          | 0/7 [00:00<?, ?it/s]"
      ]
     },
     "metadata": {},
     "output_type": "display_data"
    },
    {
     "name": "stdout",
     "output_type": "stream",
     "text": [
      "\tQuerying PM event timestamps for system: QPS, className: DQAMGNSRB_PMREL, source: B23R1 from 2014-12-15 07:44:44.064 to 2014-12-15 08:04:44.064\n",
      "\tQuerying PM event timestamps for system: QPS, className: DQAMGNSRB_PMREL, source: B22R1 from 2014-12-15 07:44:44.292 to 2014-12-15 08:04:44.292\n",
      "\tQuerying PM event timestamps for system: QPS, className: DQAMCNMB_PMSTD, source: * from 2014-12-15 07:53:54.100 to 2014-12-15 08:00:34.100\n"
     ]
    },
    {
     "data": {
      "application/vnd.jupyter.widget-view+json": {
       "model_id": "fe55ffa136864da29a16169b98d4e191",
       "version_major": 2,
       "version_minor": 0
      },
      "text/plain": [
       "Querying U, I Diode leads NXCALS:   0%|          | 0/7 [00:00<?, ?it/s]"
      ]
     },
     "metadata": {},
     "output_type": "display_data"
    },
    {
     "name": "stdout",
     "output_type": "stream",
     "text": [
      "\tQuerying PM event timestamps for system: QPS, className: DQAMGNDRBODD, DQAMGNDRBEVEN, source: RB.A12 from 2014-12-15 07:54:34.100 to 2014-12-15 08:01:24.100\n",
      "\tQuerying NXCALS signal(s) DFLAS.7R1.RB.A12.LD3:U_RES, DFLAS.7R1.RB.A12.LD3:U_HTS, DFLAS.7R1.RB.A12.LD4:U_HTS, DFLAS.7R1.RB.A12.LD4:U_RES, DFLAS.7L2.RB.A12.LD1:U_HTS... from 2014-12-15 07:54:14.100 to 2014-12-15 07:56:14.100\n",
      "\tQuerying PM event signal(s) STATUS.I_MEAS, STATUS.I_EARTH_PCNT, STATUS.I_REF, IEARTH.IEARTH, IAB.I_A for system: RPTE.UA23.RB.A12, className: 51_self_pmd, source: FGC at 2015-01-17 22:56:53.780\n",
      "\tQuerying PM event timestamps for system: QPS, className: DQAMSNRB, source: UA23.RB.A12, RR17.RB.A12 from 2015-01-17 22:56:43.780 to 2015-01-17 23:13:33.780\n",
      "\tQuerying PM event signal(s) RR17.RB.A12:U_DUMP_RES, UA23.RB.A12:U_DUMP_RES for system: UA23.RB.A12, RR17.RB.A12, className: DQAMSNRB, source: QPS at 2015-01-17 22:56:54.078\n"
     ]
    },
    {
     "name": "stderr",
     "output_type": "stream",
     "text": [
      "Post Mortem returned no data for the following query: http://pm-api-pro/v2/pmdata/signal?system=QPS&className=DQAMSNRB&source=UA23.RB.A12&timestampInNanos=1421531814078000000&signal=UA23.RB.A12:U_DUMP_RES\n"
     ]
    },
    {
     "name": "stdout",
     "output_type": "stream",
     "text": [
      "\tQuerying PM event timestamps for system: QPS, className: DQAMSNRB, source: UA23.RB.A12, RR17.RB.A12 from 2015-01-17 22:56:43.780 to 2015-01-17 23:13:33.780\n",
      "\tQuerying PM event signal(s) RR17.RB.A12:T_RES_BODY_3, RR17.RB.A12:T_RES_BODY_2, UA23.RB.A12:T_RES_BODY_2, RR17.RB.A12:T_RES_BODY_1, UA23.RB.A12:T_RES_BODY_1... for system: UA23.RB.A12, RR17.RB.A12..., className: DQAMSNRB..., source: QPS... at 2015-01-17 22:56:54.078\n"
     ]
    },
    {
     "name": "stderr",
     "output_type": "stream",
     "text": [
      "Post Mortem returned no data for the following query: http://pm-api-pro/v2/pmdata/signal?system=QPS&className=DQAMSNRB&source=UA23.RB.A12&timestampInNanos=1421531814078000000&signal=UA23.RB.A12:T_RES_BODY_1\n",
      "Post Mortem returned no data for the following query: http://pm-api-pro/v2/pmdata/signal?system=QPS&className=DQAMSNRB&source=UA23.RB.A12&timestampInNanos=1421531814078000000&signal=UA23.RB.A12:T_RES_BODY_2\n",
      "Post Mortem returned no data for the following query: http://pm-api-pro/v2/pmdata/signal?system=QPS&className=DQAMSNRB&source=UA23.RB.A12&timestampInNanos=1421531814078000000&signal=UA23.RB.A12:T_RES_BODY_3\n"
     ]
    },
    {
     "name": "stdout",
     "output_type": "stream",
     "text": [
      "\tQuerying NXCALS signal(s) MB.A9R1:U_DIODE_RB, MB.A8R1:U_DIODE_RB, MB.B9R1:U_DIODE_RB, MB.B8R1:U_DIODE_RB, MB.A10R1:U_DIODE_RB... from 2015-01-17 22:56:03.780 to 2015-01-17 23:05:13.780\n",
      "\tQuerying NXCALS signal(s) MB.B8R1:U_EARTH_RB, MB.A10R1:U_EARTH_RB, MB.B11R1:U_EARTH_RB, MB.C12R1:U_EARTH_RB, MB.A8R1:U_EARTH_RB... from 2015-01-17 22:56:03.780 to 2015-01-17 23:05:13.780\n",
      "\tQuerying PM event timestamps for system: QPS, className: DQAMCNMB_PMSTD, source: * from 2015-01-17 22:56:03.780 to 2015-01-17 23:05:13.780\n"
     ]
    },
    {
     "data": {
      "application/vnd.jupyter.widget-view+json": {
       "model_id": "4c0e5c4476d84623aa6c11e9ac716810",
       "version_major": 2,
       "version_minor": 0
      },
      "text/plain": [
       "Querying iQPS logic PM:   0%|          | 0/4 [00:00<?, ?it/s]"
      ]
     },
     "metadata": {},
     "output_type": "display_data"
    },
    {
     "name": "stdout",
     "output_type": "stream",
     "text": [
      "\tQuerying PM event timestamps for system: QPS, className: DQAMCNMB_PMSTD, source: * from 2015-01-17 22:56:03.780 to 2015-01-17 23:05:13.780\n",
      "\tQuerying PM event timestamps for system: QPS, className: DQAMGNSRB_PMREL, source: * from 2015-01-17 22:56:43.780 to 2015-01-17 23:03:33.780\n",
      "\tQuerying PM event timestamps for system: QPS, className: DQAMCNMB_PMHSU, source: * from 2015-01-17 22:56:43.780 to 2015-01-17 23:05:13.780\n"
     ]
    },
    {
     "name": "stderr",
     "output_type": "stream",
     "text": [
      "Some nQPS PM buffers missing. ['B8R1', 'B9R1', 'B10R1', 'B11R1', 'B12R1', 'B13R1', 'B14R1', 'B15R1', 'B16R1', 'B17R1', 'B18R1', 'B19R1', 'B20R1', 'B21R1', 'B22R1', 'B23R1', 'B24R1', 'B25R1', 'B26R1', 'B27R1', 'B28R1', 'B29R1', 'B30R1', 'B31R1', 'B32R1', 'B33R1', 'B34R1', 'B34L2', 'B33L2', 'B32L2', 'B31L2', 'B30L2', 'B29L2', 'B28L2', 'B27L2', 'B26L2', 'B25L2', 'B24L2', 'B23L2', 'B22L2', 'B21L2', 'B20L2', 'B19L2', 'B18L2', 'B17L2', 'B16L2', 'B15L2', 'B14L2', 'B13L2', 'B12L2', 'B11L2', 'B10L2', 'B9L2', 'B8L2'] not found for RB.A12 within [(10, 's'), (400, 's')] around 1421531813780000000.\n",
      "At least one of the timestamps (nQPS or QDS) is missing, query skipped returning empty pd.DataFrame.\n"
     ]
    },
    {
     "data": {
      "application/vnd.jupyter.widget-view+json": {
       "model_id": "3bd591051541445283acf9540fae88ce",
       "version_major": 2,
       "version_minor": 0
      },
      "text/plain": [
       "Querying PM:   0%|          | 0/4 [00:00<?, ?it/s]"
      ]
     },
     "metadata": {},
     "output_type": "display_data"
    },
    {
     "name": "stdout",
     "output_type": "stream",
     "text": [
      "\tQuerying PM event timestamps for system: QPS, className: DQAMCNMB_PMSTD, source: * from 2015-01-17 22:56:03.780 to 2015-01-17 23:05:13.780\n"
     ]
    },
    {
     "data": {
      "application/vnd.jupyter.widget-view+json": {
       "model_id": "5914196c9e5b4d258e69c22ee1eb28ca",
       "version_major": 2,
       "version_minor": 0
      },
      "text/plain": [
       "Querying U, I Diode PM:   0%|          | 0/4 [00:00<?, ?it/s]"
      ]
     },
     "metadata": {},
     "output_type": "display_data"
    },
    {
     "name": "stdout",
     "output_type": "stream",
     "text": [
      "\tQuerying PM event timestamps for system: QPS, className: DQAMGNSRB_PMREL, source: B21L2 from 2015-01-17 22:46:53.744 to 2015-01-17 23:06:53.744\n",
      "\tQuerying PM event timestamps for system: QPS, className: DQAMGNSRB_PMREL, source: B20L2 from 2015-01-17 22:46:53.953 to 2015-01-17 23:06:53.953\n",
      "\tQuerying PM event timestamps for system: QPS, className: DQAMCNMB_PMSTD, source: * from 2015-01-17 22:56:03.780 to 2015-01-17 23:02:43.780\n"
     ]
    },
    {
     "data": {
      "application/vnd.jupyter.widget-view+json": {
       "model_id": "f159d746dc864f47ad92433fd215d42e",
       "version_major": 2,
       "version_minor": 0
      },
      "text/plain": [
       "Querying U, I Diode leads NXCALS:   0%|          | 0/4 [00:00<?, ?it/s]"
      ]
     },
     "metadata": {},
     "output_type": "display_data"
    },
    {
     "name": "stdout",
     "output_type": "stream",
     "text": [
      "\tQuerying PM event timestamps for system: QPS, className: DQAMGNDRBODD, DQAMGNDRBEVEN, source: RB.A12 from 2015-01-17 22:56:43.780 to 2015-01-17 23:03:33.780\n",
      "\tQuerying PM event signal(s) DFLAS.7R1.RB.A12.LD3:U_RES, DFLAS.7R1.RB.A12.LD3:U_HTS, DFLAS.7R1.RB.A12.LD4:U_HTS, DFLAS.7R1.RB.A12.LD4:U_RES, DFLAS.7L2.RB.A12.LD1:U_HTS... for system: RB.A12..., className: DQAMGNDRBODD, DQAMGNDRBEVEN..., source: QPS... at 2015-01-17 22:56:54.807\n"
     ]
    },
    {
     "name": "stderr",
     "output_type": "stream",
     "text": [
      "Post Mortem returned no data for the following query: http://pm-api-pro/v2/pmdata/signal?system=QPS&className=DQAMGNDRBEVEN&source=RB.A12&timestampInNanos=1421531814807000000&signal=DFLAS.7L2.RB.A12.LD1:U_HTS\n",
      "Post Mortem returned no data for the following query: http://pm-api-pro/v2/pmdata/signal?system=QPS&className=DQAMGNDRBEVEN&source=RB.A12&timestampInNanos=1421531814807000000&signal=DFLAS.7L2.RB.A12.LD2:U_HTS\n",
      "Post Mortem returned no data for the following query: http://pm-api-pro/v2/pmdata/signal?system=QPS&className=DQAMGNDRBEVEN&source=RB.A12&timestampInNanos=1421531814807000000&signal=DFLAS.7L2.RB.A12.LD1:U_RES\n",
      "Post Mortem returned no data for the following query: http://pm-api-pro/v2/pmdata/signal?system=QPS&className=DQAMGNDRBEVEN&source=RB.A12&timestampInNanos=1421531814807000000&signal=DFLAS.7L2.RB.A12.LD2:U_RES\n"
     ]
    },
    {
     "name": "stdout",
     "output_type": "stream",
     "text": [
      "\tQuerying PM event signal(s) STATUS.I_MEAS, STATUS.I_EARTH_PCNT, STATUS.I_REF, IEARTH.IEARTH, IAB.I_A for system: RPTE.UA23.RB.A12, className: 51_self_pmd, source: FGC at 2015-01-18 12:28:59.680\n",
      "\tQuerying PM event timestamps for system: QPS, className: DQAMSNRB, source: UA23.RB.A12, RR17.RB.A12 from 2015-01-18 12:28:49.680 to 2015-01-18 12:45:39.680\n",
      "\tQuerying PM event signal(s) RR17.RB.A12:U_DUMP_RES, UA23.RB.A12:U_DUMP_RES for system: UA23.RB.A12, RR17.RB.A12, className: DQAMSNRB, source: QPS at 2015-01-18 12:28:59.975\n"
     ]
    },
    {
     "name": "stderr",
     "output_type": "stream",
     "text": [
      "Post Mortem returned no data for the following query: http://pm-api-pro/v2/pmdata/signal?system=QPS&className=DQAMSNRB&source=UA23.RB.A12&timestampInNanos=1421580539975000000&signal=UA23.RB.A12:U_DUMP_RES\n"
     ]
    },
    {
     "name": "stdout",
     "output_type": "stream",
     "text": [
      "\tQuerying PM event timestamps for system: QPS, className: DQAMSNRB, source: UA23.RB.A12, RR17.RB.A12 from 2015-01-18 12:28:49.680 to 2015-01-18 12:45:39.680\n",
      "\tQuerying PM event signal(s) RR17.RB.A12:T_RES_BODY_3, RR17.RB.A12:T_RES_BODY_2, UA23.RB.A12:T_RES_BODY_2, RR17.RB.A12:T_RES_BODY_1, UA23.RB.A12:T_RES_BODY_1... for system: UA23.RB.A12, RR17.RB.A12..., className: DQAMSNRB..., source: QPS... at 2015-01-18 12:28:59.975\n"
     ]
    },
    {
     "name": "stderr",
     "output_type": "stream",
     "text": [
      "Post Mortem returned no data for the following query: http://pm-api-pro/v2/pmdata/signal?system=QPS&className=DQAMSNRB&source=UA23.RB.A12&timestampInNanos=1421580539975000000&signal=UA23.RB.A12:T_RES_BODY_1\n",
      "Post Mortem returned no data for the following query: http://pm-api-pro/v2/pmdata/signal?system=QPS&className=DQAMSNRB&source=UA23.RB.A12&timestampInNanos=1421580539975000000&signal=UA23.RB.A12:T_RES_BODY_2\n",
      "Post Mortem returned no data for the following query: http://pm-api-pro/v2/pmdata/signal?system=QPS&className=DQAMSNRB&source=UA23.RB.A12&timestampInNanos=1421580539975000000&signal=UA23.RB.A12:T_RES_BODY_3\n"
     ]
    },
    {
     "name": "stdout",
     "output_type": "stream",
     "text": [
      "\tQuerying NXCALS signal(s) MB.A9R1:U_DIODE_RB, MB.A8R1:U_DIODE_RB, MB.B9R1:U_DIODE_RB, MB.B8R1:U_DIODE_RB, MB.A10R1:U_DIODE_RB... from 2015-01-18 12:28:09.680 to 2015-01-18 12:37:19.680\n",
      "\tQuerying NXCALS signal(s) MB.B8R1:U_EARTH_RB, MB.A10R1:U_EARTH_RB, MB.B11R1:U_EARTH_RB, MB.C12R1:U_EARTH_RB, MB.A8R1:U_EARTH_RB... from 2015-01-18 12:28:09.680 to 2015-01-18 12:37:19.680\n",
      "\tQuerying PM event timestamps for system: QPS, className: DQAMCNMB_PMSTD, source: * from 2015-01-18 12:28:09.680 to 2015-01-18 12:37:19.680\n"
     ]
    },
    {
     "data": {
      "application/vnd.jupyter.widget-view+json": {
       "model_id": "60734076e8a6435e98f6079a5bc12f4c",
       "version_major": 2,
       "version_minor": 0
      },
      "text/plain": [
       "Querying iQPS logic PM:   0%|          | 0/7 [00:00<?, ?it/s]"
      ]
     },
     "metadata": {},
     "output_type": "display_data"
    },
    {
     "name": "stdout",
     "output_type": "stream",
     "text": [
      "\tQuerying PM event timestamps for system: QPS, className: DQAMCNMB_PMSTD, source: * from 2015-01-18 12:28:09.680 to 2015-01-18 12:37:19.680\n",
      "\tQuerying PM event timestamps for system: QPS, className: DQAMGNSRB_PMREL, source: * from 2015-01-18 12:28:49.680 to 2015-01-18 12:35:39.680\n",
      "\tQuerying PM event timestamps for system: QPS, className: DQAMCNMB_PMHSU, source: * from 2015-01-18 12:28:49.680 to 2015-01-18 12:37:19.680\n"
     ]
    },
    {
     "name": "stderr",
     "output_type": "stream",
     "text": [
      "Some nQPS PM buffers missing. ['B8R1', 'B9R1', 'B10R1', 'B11R1', 'B12R1', 'B13R1', 'B14R1', 'B15R1', 'B16R1', 'B17R1', 'B18R1', 'B19R1', 'B20R1', 'B21R1', 'B22R1', 'B23R1', 'B24R1', 'B25R1', 'B26R1', 'B27R1', 'B28R1', 'B29R1', 'B30R1', 'B31R1', 'B32R1', 'B33R1', 'B34R1', 'B34L2', 'B33L2', 'B32L2', 'B31L2', 'B30L2', 'B29L2', 'B28L2', 'B27L2', 'B26L2', 'B25L2', 'B24L2', 'B23L2', 'B22L2', 'B21L2', 'B20L2', 'B19L2', 'B18L2', 'B17L2', 'B16L2', 'B15L2', 'B14L2', 'B13L2', 'B12L2', 'B11L2', 'B10L2', 'B9L2', 'B8L2'] not found for RB.A12 within [(10, 's'), (400, 's')] around 1421580539680000000.\n",
      "At least one of the timestamps (nQPS or QDS) is missing, query skipped returning empty pd.DataFrame.\n"
     ]
    },
    {
     "data": {
      "application/vnd.jupyter.widget-view+json": {
       "model_id": "8bb65da109194b90908c9fc648a0a4f7",
       "version_major": 2,
       "version_minor": 0
      },
      "text/plain": [
       "Querying PM:   0%|          | 0/7 [00:00<?, ?it/s]"
      ]
     },
     "metadata": {},
     "output_type": "display_data"
    },
    {
     "name": "stdout",
     "output_type": "stream",
     "text": [
      "\tQuerying PM event timestamps for system: QPS, className: DQAMCNMB_PMSTD, source: * from 2015-01-18 12:28:09.680 to 2015-01-18 12:37:19.680\n"
     ]
    },
    {
     "data": {
      "application/vnd.jupyter.widget-view+json": {
       "model_id": "648722051ea74ada8ea08bdfdf83e69c",
       "version_major": 2,
       "version_minor": 0
      },
      "text/plain": [
       "Querying U, I Diode PM:   0%|          | 0/7 [00:00<?, ?it/s]"
      ]
     },
     "metadata": {},
     "output_type": "display_data"
    },
    {
     "name": "stdout",
     "output_type": "stream",
     "text": [
      "\tQuerying PM event timestamps for system: QPS, className: DQAMGNSRB_PMREL, source: B19L2 from 2015-01-18 12:18:59.637 to 2015-01-18 12:38:59.637\n",
      "\tQuerying PM event timestamps for system: QPS, className: DQAMGNSRB_PMREL, source: B19L2 from 2015-01-18 12:18:59.871 to 2015-01-18 12:38:59.871\n",
      "\tQuerying PM event timestamps for system: QPS, className: DQAMGNSRB_PMREL, source: B18L2 from 2015-01-18 12:19:00.071 to 2015-01-18 12:39:00.071\n",
      "\tQuerying PM event timestamps for system: QPS, className: DQAMGNSRB_PMREL, source: B18L2 from 2015-01-18 12:19:00.277 to 2015-01-18 12:39:00.277\n",
      "\tQuerying PM event timestamps for system: QPS, className: DQAMCNMB_PMSTD, source: * from 2015-01-18 12:28:09.680 to 2015-01-18 12:34:49.680\n"
     ]
    },
    {
     "data": {
      "application/vnd.jupyter.widget-view+json": {
       "model_id": "a3fd2749dd3148ceb57c65c6312d838b",
       "version_major": 2,
       "version_minor": 0
      },
      "text/plain": [
       "Querying U, I Diode leads NXCALS:   0%|          | 0/6 [00:00<?, ?it/s]"
      ]
     },
     "metadata": {},
     "output_type": "display_data"
    },
    {
     "name": "stdout",
     "output_type": "stream",
     "text": [
      "\tQuerying PM event timestamps for system: QPS, className: DQAMGNDRBODD, DQAMGNDRBEVEN, source: RB.A12 from 2015-01-18 12:28:49.680 to 2015-01-18 12:35:39.680\n",
      "\tQuerying PM event signal(s) DFLAS.7R1.RB.A12.LD3:U_RES, DFLAS.7R1.RB.A12.LD3:U_HTS, DFLAS.7R1.RB.A12.LD4:U_HTS, DFLAS.7R1.RB.A12.LD4:U_RES, DFLAS.7L2.RB.A12.LD1:U_HTS... for system: RB.A12..., className: DQAMGNDRBODD, DQAMGNDRBEVEN..., source: QPS... at 2015-01-18 12:29:00.607\n"
     ]
    },
    {
     "name": "stderr",
     "output_type": "stream",
     "text": [
      "Post Mortem returned no data for the following query: http://pm-api-pro/v2/pmdata/signal?system=QPS&className=DQAMGNDRBEVEN&source=RB.A12&timestampInNanos=1421580540607000000&signal=DFLAS.7L2.RB.A12.LD1:U_HTS\n",
      "Post Mortem returned no data for the following query: http://pm-api-pro/v2/pmdata/signal?system=QPS&className=DQAMGNDRBEVEN&source=RB.A12&timestampInNanos=1421580540607000000&signal=DFLAS.7L2.RB.A12.LD2:U_HTS\n",
      "Post Mortem returned no data for the following query: http://pm-api-pro/v2/pmdata/signal?system=QPS&className=DQAMGNDRBEVEN&source=RB.A12&timestampInNanos=1421580540607000000&signal=DFLAS.7L2.RB.A12.LD1:U_RES\n",
      "Post Mortem returned no data for the following query: http://pm-api-pro/v2/pmdata/signal?system=QPS&className=DQAMGNDRBEVEN&source=RB.A12&timestampInNanos=1421580540607000000&signal=DFLAS.7L2.RB.A12.LD2:U_RES\n"
     ]
    },
    {
     "name": "stdout",
     "output_type": "stream",
     "text": [
      "\tQuerying PM event signal(s) STATUS.I_MEAS, STATUS.I_EARTH_PCNT, STATUS.I_REF, IEARTH.IEARTH, IAB.I_A for system: RPTE.UA23.RB.A12, className: 51_self_pmd, source: FGC at 2015-11-03 07:25:49.860\n",
      "\tQuerying PM event timestamps for system: QPS, className: DQAMSNRB, source: UA23.RB.A12, RR17.RB.A12 from 2015-11-03 07:25:39.860 to 2015-11-03 07:42:29.860\n",
      "\tQuerying PM event signal(s) RR17.RB.A12:U_DUMP_RES, UA23.RB.A12:U_DUMP_RES for system: UA23.RB.A12, RR17.RB.A12, className: DQAMSNRB, source: QPS at 2015-11-03 07:25:50.159\n"
     ]
    },
    {
     "name": "stderr",
     "output_type": "stream",
     "text": [
      "Post Mortem returned no data for the following query: http://pm-api-pro/v2/pmdata/signal?system=QPS&className=DQAMSNRB&source=UA23.RB.A12&timestampInNanos=1446531950159000000&signal=UA23.RB.A12:U_DUMP_RES\n"
     ]
    },
    {
     "name": "stdout",
     "output_type": "stream",
     "text": [
      "\tQuerying PM event timestamps for system: QPS, className: DQAMSNRB, source: UA23.RB.A12, RR17.RB.A12 from 2015-11-03 07:25:39.860 to 2015-11-03 07:42:29.860\n",
      "\tQuerying PM event signal(s) RR17.RB.A12:T_RES_BODY_3, RR17.RB.A12:T_RES_BODY_2, UA23.RB.A12:T_RES_BODY_2, RR17.RB.A12:T_RES_BODY_1, UA23.RB.A12:T_RES_BODY_1... for system: UA23.RB.A12, RR17.RB.A12..., className: DQAMSNRB..., source: QPS... at 2015-11-03 07:25:50.159\n"
     ]
    },
    {
     "name": "stderr",
     "output_type": "stream",
     "text": [
      "Post Mortem returned no data for the following query: http://pm-api-pro/v2/pmdata/signal?system=QPS&className=DQAMSNRB&source=UA23.RB.A12&timestampInNanos=1446531950159000000&signal=UA23.RB.A12:T_RES_BODY_1\n",
      "Post Mortem returned no data for the following query: http://pm-api-pro/v2/pmdata/signal?system=QPS&className=DQAMSNRB&source=UA23.RB.A12&timestampInNanos=1446531950159000000&signal=UA23.RB.A12:T_RES_BODY_2\n",
      "Post Mortem returned no data for the following query: http://pm-api-pro/v2/pmdata/signal?system=QPS&className=DQAMSNRB&source=UA23.RB.A12&timestampInNanos=1446531950159000000&signal=UA23.RB.A12:T_RES_BODY_3\n"
     ]
    },
    {
     "name": "stdout",
     "output_type": "stream",
     "text": [
      "\tQuerying NXCALS signal(s) MB.A9R1:U_DIODE_RB, MB.A8R1:U_DIODE_RB, MB.B9R1:U_DIODE_RB, MB.B8R1:U_DIODE_RB, MB.A10R1:U_DIODE_RB... from 2015-11-03 07:24:59.860 to 2015-11-03 07:34:09.860\n",
      "\tQuerying NXCALS signal(s) MB.B8R1:U_EARTH_RB, MB.A10R1:U_EARTH_RB, MB.B11R1:U_EARTH_RB, MB.C12R1:U_EARTH_RB, MB.A8R1:U_EARTH_RB... from 2015-11-03 07:24:59.860 to 2015-11-03 07:34:09.860\n",
      "\tQuerying PM event timestamps for system: QPS, className: DQAMCNMB_PMSTD, source: * from 2015-11-03 07:24:59.860 to 2015-11-03 07:34:09.860\n"
     ]
    },
    {
     "data": {
      "application/vnd.jupyter.widget-view+json": {
       "model_id": "14d6a0b2113a47048b934d402c8ee393",
       "version_major": 2,
       "version_minor": 0
      },
      "text/plain": [
       "Querying iQPS logic PM:   0%|          | 0/3 [00:00<?, ?it/s]"
      ]
     },
     "metadata": {},
     "output_type": "display_data"
    },
    {
     "name": "stdout",
     "output_type": "stream",
     "text": [
      "\tQuerying PM event timestamps for system: QPS, className: DQAMCNMB_PMSTD, source: * from 2015-11-03 07:24:59.860 to 2015-11-03 07:34:09.860\n",
      "\tQuerying PM event timestamps for system: QPS, className: DQAMGNSRB_PMREL, source: * from 2015-11-03 07:25:39.860 to 2015-11-03 07:32:29.860\n"
     ]
    },
    {
     "name": "stderr",
     "output_type": "stream",
     "text": [
      "Some nQPS PM buffers missing. ['B8R1', 'B9R1', 'B10R1', 'B11R1', 'B12R1', 'B13R1', 'B14R1', 'B15R1', 'B16R1', 'B17R1', 'B18R1', 'B19R1', 'B20R1', 'B21R1', 'B22R1', 'B23R1', 'B24R1', 'B25R1', 'B26R1', 'B27R1', 'B28R1', 'B29R1', 'B30R1', 'B31R1', 'B32R1', 'B33R1', 'B34R1', 'B34L2', 'B33L2', 'B32L2', 'B31L2', 'B30L2', 'B29L2', 'B28L2', 'B27L2', 'B26L2', 'B25L2', 'B21L2', 'B20L2', 'B19L2', 'B18L2', 'B17L2', 'B16L2', 'B15L2', 'B14L2', 'B10L2', 'B9L2', 'B8L2'] not found for RB.A12 within [(10, 's'), (400, 's')] around 1446531949860000000.\n"
     ]
    },
    {
     "data": {
      "application/vnd.jupyter.widget-view+json": {
       "model_id": "f2c7f025088d44aea5e8555ee6809388",
       "version_major": 2,
       "version_minor": 0
      },
      "text/plain": [
       "Querying PM/NXCALS U_DIODE_RB, U_REF_N1:   0%|          | 0/3 [00:00<?, ?it/s]"
      ]
     },
     "metadata": {},
     "output_type": "display_data"
    },
    {
     "name": "stderr",
     "output_type": "stream",
     "text": [
      "In function NqpsRbQuery._query_nqps_pm: Input timestamp is NaN, query skipped returning default return_type.\n"
     ]
    },
    {
     "data": {
      "application/vnd.jupyter.widget-view+json": {
       "model_id": "cee77a9f339744d78b050e8fecfc83bc",
       "version_major": 2,
       "version_minor": 0
      },
      "text/plain": [
       "Querying PM/NXCALS U_DIODE_RB, U_REF_N1:   0%|          | 0/3 [00:00<?, ?it/s]"
      ]
     },
     "metadata": {},
     "output_type": "display_data"
    },
    {
     "name": "stderr",
     "output_type": "stream",
     "text": [
      "In function NqpsRbQuery._query_nqps_pm: Input timestamp is NaN, query skipped returning default return_type.\n"
     ]
    },
    {
     "name": "stdout",
     "output_type": "stream",
     "text": [
      "\tQuerying PM event timestamps for system: QPS, className: DQAMCNMB_PMHSU, source: * from 2015-11-03 07:25:39.860 to 2015-11-03 07:34:09.860\n"
     ]
    },
    {
     "data": {
      "application/vnd.jupyter.widget-view+json": {
       "model_id": "66dfc11b3b234a8f8a7bcc651780defa",
       "version_major": 2,
       "version_minor": 0
      },
      "text/plain": [
       "Querying PM:   0%|          | 0/3 [00:00<?, ?it/s]"
      ]
     },
     "metadata": {},
     "output_type": "display_data"
    },
    {
     "name": "stdout",
     "output_type": "stream",
     "text": [
      "\tQuerying PM event timestamps for system: QPS, className: DQAMCNMB_PMSTD, source: * from 2015-11-03 07:24:59.860 to 2015-11-03 07:34:09.860\n"
     ]
    },
    {
     "data": {
      "application/vnd.jupyter.widget-view+json": {
       "model_id": "de9b4f13eeed4e128ac69f63968f50e7",
       "version_major": 2,
       "version_minor": 0
      },
      "text/plain": [
       "Querying U, I Diode PM:   0%|          | 0/3 [00:00<?, ?it/s]"
      ]
     },
     "metadata": {},
     "output_type": "display_data"
    },
    {
     "name": "stdout",
     "output_type": "stream",
     "text": [
      "\tQuerying PM event timestamps for system: QPS, className: DQAMGNSRB_PMREL, source: B32L2 from 2015-11-03 07:15:49.819 to 2015-11-03 07:35:49.819\n",
      "\tQuerying PM event timestamps for system: QPS, className: DQAMCNMB_PMSTD, source: * from 2015-11-03 07:24:59.860 to 2015-11-03 07:31:39.860\n"
     ]
    },
    {
     "data": {
      "application/vnd.jupyter.widget-view+json": {
       "model_id": "a10617008a034a3e85493e65703d4933",
       "version_major": 2,
       "version_minor": 0
      },
      "text/plain": [
       "Querying U, I Diode leads NXCALS:   0%|          | 0/3 [00:00<?, ?it/s]"
      ]
     },
     "metadata": {},
     "output_type": "display_data"
    },
    {
     "name": "stdout",
     "output_type": "stream",
     "text": [
      "\tQuerying PM event timestamps for system: QPS, className: DQAMGNDRBODD, DQAMGNDRBEVEN, source: RB.A12 from 2015-11-03 07:25:39.860 to 2015-11-03 07:32:29.860\n",
      "\tQuerying PM event signal(s) DFLAS.7R1.RB.A12.LD3:U_RES, DFLAS.7R1.RB.A12.LD3:U_HTS, DFLAS.7R1.RB.A12.LD4:U_HTS, DFLAS.7R1.RB.A12.LD4:U_RES, DFLAS.7L2.RB.A12.LD1:U_HTS... for system: RB.A12..., className: DQAMGNDRBODD, DQAMGNDRBEVEN..., source: QPS... at 2015-11-03 07:25:51.006\n"
     ]
    },
    {
     "name": "stderr",
     "output_type": "stream",
     "text": [
      "Post Mortem returned no data for the following query: http://pm-api-pro/v2/pmdata/signal?system=QPS&className=DQAMGNDRBEVEN&source=RB.A12&timestampInNanos=1446531951006000000&signal=DFLAS.7L2.RB.A12.LD1:U_HTS\n",
      "Post Mortem returned no data for the following query: http://pm-api-pro/v2/pmdata/signal?system=QPS&className=DQAMGNDRBEVEN&source=RB.A12&timestampInNanos=1446531951006000000&signal=DFLAS.7L2.RB.A12.LD2:U_HTS\n",
      "Post Mortem returned no data for the following query: http://pm-api-pro/v2/pmdata/signal?system=QPS&className=DQAMGNDRBEVEN&source=RB.A12&timestampInNanos=1446531951006000000&signal=DFLAS.7L2.RB.A12.LD1:U_RES\n",
      "Post Mortem returned no data for the following query: http://pm-api-pro/v2/pmdata/signal?system=QPS&className=DQAMGNDRBEVEN&source=RB.A12&timestampInNanos=1446531951006000000&signal=DFLAS.7L2.RB.A12.LD2:U_RES\n"
     ]
    },
    {
     "name": "stdout",
     "output_type": "stream",
     "text": [
      "\tQuerying PM event signal(s) STATUS.I_MEAS, STATUS.I_EARTH_PCNT, STATUS.I_REF, IEARTH.IEARTH, IAB.I_A for system: RPTE.UA23.RB.A12, className: 51_self_pmd, source: FGC at 2016-06-10 19:13:05.320\n",
      "\tQuerying PM event timestamps for system: QPS, className: DQAMSNRB, source: UA23.RB.A12, RR17.RB.A12 from 2016-06-10 19:12:55.320 to 2016-06-10 19:29:45.320\n",
      "\tQuerying PM event signal(s) RR17.RB.A12:U_DUMP_RES, UA23.RB.A12:U_DUMP_RES for system: UA23.RB.A12, RR17.RB.A12, className: DQAMSNRB, source: QPS at 2016-06-10 19:13:05.621\n"
     ]
    },
    {
     "name": "stderr",
     "output_type": "stream",
     "text": [
      "Post Mortem returned no data for the following query: http://pm-api-pro/v2/pmdata/signal?system=QPS&className=DQAMSNRB&source=UA23.RB.A12&timestampInNanos=1465578785621000000&signal=UA23.RB.A12:U_DUMP_RES\n"
     ]
    },
    {
     "name": "stdout",
     "output_type": "stream",
     "text": [
      "\tQuerying PM event timestamps for system: QPS, className: DQAMSNRB, source: UA23.RB.A12, RR17.RB.A12 from 2016-06-10 19:12:55.320 to 2016-06-10 19:29:45.320\n",
      "\tQuerying PM event signal(s) RR17.RB.A12:T_RES_BODY_3, RR17.RB.A12:T_RES_BODY_2, UA23.RB.A12:T_RES_BODY_2, RR17.RB.A12:T_RES_BODY_1, UA23.RB.A12:T_RES_BODY_1... for system: UA23.RB.A12, RR17.RB.A12..., className: DQAMSNRB..., source: QPS... at 2016-06-10 19:13:05.621\n"
     ]
    },
    {
     "name": "stderr",
     "output_type": "stream",
     "text": [
      "Post Mortem returned no data for the following query: http://pm-api-pro/v2/pmdata/signal?system=QPS&className=DQAMSNRB&source=UA23.RB.A12&timestampInNanos=1465578785621000000&signal=UA23.RB.A12:T_RES_BODY_1\n",
      "Post Mortem returned no data for the following query: http://pm-api-pro/v2/pmdata/signal?system=QPS&className=DQAMSNRB&source=UA23.RB.A12&timestampInNanos=1465578785621000000&signal=UA23.RB.A12:T_RES_BODY_2\n",
      "Post Mortem returned no data for the following query: http://pm-api-pro/v2/pmdata/signal?system=QPS&className=DQAMSNRB&source=UA23.RB.A12&timestampInNanos=1465578785621000000&signal=UA23.RB.A12:T_RES_BODY_3\n"
     ]
    },
    {
     "name": "stdout",
     "output_type": "stream",
     "text": [
      "\tQuerying NXCALS signal(s) MB.A9R1:U_DIODE_RB, MB.A8R1:U_DIODE_RB, MB.B9R1:U_DIODE_RB, MB.B8R1:U_DIODE_RB, MB.A10R1:U_DIODE_RB... from 2016-06-10 19:12:15.320 to 2016-06-10 19:21:25.320\n",
      "\tQuerying NXCALS signal(s) MB.B8R1:U_EARTH_RB, MB.A10R1:U_EARTH_RB, MB.B11R1:U_EARTH_RB, MB.C12R1:U_EARTH_RB, MB.A8R1:U_EARTH_RB... from 2016-06-10 19:12:15.320 to 2016-06-10 19:21:25.320\n",
      "\tQuerying PM event timestamps for system: QPS, className: DQAMCNMB_PMSTD, source: * from 2016-06-10 19:12:15.320 to 2016-06-10 19:21:25.320\n"
     ]
    },
    {
     "data": {
      "application/vnd.jupyter.widget-view+json": {
       "model_id": "23f7aa3e1813403c96db02d6337bb871",
       "version_major": 2,
       "version_minor": 0
      },
      "text/plain": [
       "Querying iQPS logic PM:   0%|          | 0/1 [00:00<?, ?it/s]"
      ]
     },
     "metadata": {},
     "output_type": "display_data"
    },
    {
     "name": "stdout",
     "output_type": "stream",
     "text": [
      "\tQuerying PM event timestamps for system: QPS, className: DQAMCNMB_PMSTD, source: * from 2016-06-10 19:12:15.320 to 2016-06-10 19:21:25.320\n",
      "\tQuerying PM event timestamps for system: QPS, className: DQAMGNSRB_PMREL, source: * from 2016-06-10 19:12:55.320 to 2016-06-10 19:19:45.320\n"
     ]
    },
    {
     "name": "stderr",
     "output_type": "stream",
     "text": [
      "Some nQPS PM buffers missing. ['B8R1', 'B9R1', 'B10R1', 'B11R1', 'B12R1', 'B13R1', 'B14R1', 'B15R1', 'B16R1', 'B17R1', 'B18R1', 'B19R1', 'B20R1', 'B21R1', 'B22R1', 'B23R1', 'B24R1', 'B25R1', 'B26R1', 'B27R1', 'B28R1', 'B29R1', 'B30R1', 'B31R1', 'B32R1', 'B33R1', 'B34R1', 'B34L2', 'B33L2', 'B32L2', 'B30L2', 'B29L2', 'B28L2', 'B27L2', 'B26L2', 'B25L2', 'B24L2', 'B23L2', 'B22L2', 'B21L2', 'B20L2', 'B19L2', 'B18L2', 'B17L2', 'B16L2', 'B15L2', 'B14L2', 'B13L2', 'B12L2', 'B11L2', 'B10L2', 'B9L2', 'B8L2'] not found for RB.A12 within [(10, 's'), (400, 's')] around 1465578785320000000.\n"
     ]
    },
    {
     "data": {
      "application/vnd.jupyter.widget-view+json": {
       "model_id": "2d7ffd2b50764abcbaa6b52a22eb6359",
       "version_major": 2,
       "version_minor": 0
      },
      "text/plain": [
       "Querying PM/NXCALS U_DIODE_RB, U_REF_N1:   0%|          | 0/1 [00:00<?, ?it/s]"
      ]
     },
     "metadata": {},
     "output_type": "display_data"
    },
    {
     "data": {
      "application/vnd.jupyter.widget-view+json": {
       "model_id": "31475879351748e08ca5326f7ba4740f",
       "version_major": 2,
       "version_minor": 0
      },
      "text/plain": [
       "Querying PM/NXCALS U_DIODE_RB, U_REF_N1:   0%|          | 0/1 [00:00<?, ?it/s]"
      ]
     },
     "metadata": {},
     "output_type": "display_data"
    },
    {
     "name": "stdout",
     "output_type": "stream",
     "text": [
      "\tQuerying PM event timestamps for system: QPS, className: DQAMCNMB_PMHSU, source: * from 2016-06-10 19:12:55.320 to 2016-06-10 19:21:25.320\n"
     ]
    },
    {
     "data": {
      "application/vnd.jupyter.widget-view+json": {
       "model_id": "566dacc553464e09a748acc7950fdb1a",
       "version_major": 2,
       "version_minor": 0
      },
      "text/plain": [
       "Querying PM:   0%|          | 0/1 [00:00<?, ?it/s]"
      ]
     },
     "metadata": {},
     "output_type": "display_data"
    },
    {
     "name": "stdout",
     "output_type": "stream",
     "text": [
      "\tQuerying PM event timestamps for system: QPS, className: DQAMCNMB_PMSTD, source: * from 2016-06-10 19:12:15.320 to 2016-06-10 19:21:25.320\n"
     ]
    },
    {
     "data": {
      "application/vnd.jupyter.widget-view+json": {
       "model_id": "dae8615d8cab4cd8b8fe9c7286992b1e",
       "version_major": 2,
       "version_minor": 0
      },
      "text/plain": [
       "Querying U, I Diode PM:   0%|          | 0/1 [00:00<?, ?it/s]"
      ]
     },
     "metadata": {},
     "output_type": "display_data"
    },
    {
     "name": "stdout",
     "output_type": "stream",
     "text": [
      "\tQuerying PM event timestamps for system: QPS, className: DQAMGNSRB_PMREL, source: B31L2 from 2016-06-10 19:03:05.287 to 2016-06-10 19:23:05.287\n",
      "\tQuerying PM event timestamps for system: QPS, className: DQAMCNMB_PMSTD, source: * from 2016-06-10 19:12:15.320 to 2016-06-10 19:18:55.320\n"
     ]
    },
    {
     "data": {
      "application/vnd.jupyter.widget-view+json": {
       "model_id": "8f926ae789d34c96a59a733238d23dcb",
       "version_major": 2,
       "version_minor": 0
      },
      "text/plain": [
       "Querying U, I Diode leads NXCALS:   0%|          | 0/1 [00:00<?, ?it/s]"
      ]
     },
     "metadata": {},
     "output_type": "display_data"
    },
    {
     "name": "stdout",
     "output_type": "stream",
     "text": [
      "\tQuerying PM event timestamps for system: QPS, className: DQAMGNDRBODD, DQAMGNDRBEVEN, source: RB.A12 from 2016-06-10 19:12:55.320 to 2016-06-10 19:19:45.320\n",
      "\tQuerying NXCALS signal(s) DFLAS.7R1.RB.A12.LD3:U_RES, DFLAS.7R1.RB.A12.LD3:U_HTS, DFLAS.7R1.RB.A12.LD4:U_HTS, DFLAS.7R1.RB.A12.LD4:U_RES, DFLAS.7L2.RB.A12.LD1:U_HTS... from 2016-06-10 19:12:35.320 to 2016-06-10 19:14:35.320\n",
      "\tQuerying PM event signal(s) STATUS.I_MEAS, STATUS.I_EARTH_PCNT, STATUS.I_REF, IEARTH.IEARTH, IAB.I_A for system: RPTE.UA23.RB.A12, className: 51_self_pmd, source: FGC at 2016-08-03 15:00:04.900\n",
      "\tQuerying PM event timestamps for system: QPS, className: DQAMSNRB, source: UA23.RB.A12, RR17.RB.A12 from 2016-08-03 14:59:54.900 to 2016-08-03 15:16:44.900\n",
      "\tQuerying PM event signal(s) RR17.RB.A12:U_DUMP_RES, UA23.RB.A12:U_DUMP_RES for system: UA23.RB.A12, RR17.RB.A12, className: DQAMSNRB, source: QPS at 2016-08-03 15:00:05.202\n"
     ]
    },
    {
     "name": "stderr",
     "output_type": "stream",
     "text": [
      "Post Mortem returned no data for the following query: http://pm-api-pro/v2/pmdata/signal?system=QPS&className=DQAMSNRB&source=UA23.RB.A12&timestampInNanos=1470229205202000000&signal=UA23.RB.A12:U_DUMP_RES\n"
     ]
    },
    {
     "name": "stdout",
     "output_type": "stream",
     "text": [
      "\tQuerying PM event timestamps for system: QPS, className: DQAMSNRB, source: UA23.RB.A12, RR17.RB.A12 from 2016-08-03 14:59:54.900 to 2016-08-03 15:16:44.900\n",
      "\tQuerying PM event signal(s) RR17.RB.A12:T_RES_BODY_3, RR17.RB.A12:T_RES_BODY_2, UA23.RB.A12:T_RES_BODY_2, RR17.RB.A12:T_RES_BODY_1, UA23.RB.A12:T_RES_BODY_1... for system: UA23.RB.A12, RR17.RB.A12..., className: DQAMSNRB..., source: QPS... at 2016-08-03 15:00:05.202\n"
     ]
    },
    {
     "name": "stderr",
     "output_type": "stream",
     "text": [
      "Post Mortem returned no data for the following query: http://pm-api-pro/v2/pmdata/signal?system=QPS&className=DQAMSNRB&source=UA23.RB.A12&timestampInNanos=1470229205202000000&signal=UA23.RB.A12:T_RES_BODY_1\n",
      "Post Mortem returned no data for the following query: http://pm-api-pro/v2/pmdata/signal?system=QPS&className=DQAMSNRB&source=UA23.RB.A12&timestampInNanos=1470229205202000000&signal=UA23.RB.A12:T_RES_BODY_2\n",
      "Post Mortem returned no data for the following query: http://pm-api-pro/v2/pmdata/signal?system=QPS&className=DQAMSNRB&source=UA23.RB.A12&timestampInNanos=1470229205202000000&signal=UA23.RB.A12:T_RES_BODY_3\n"
     ]
    },
    {
     "name": "stdout",
     "output_type": "stream",
     "text": [
      "\tQuerying NXCALS signal(s) MB.A9R1:U_DIODE_RB, MB.A8R1:U_DIODE_RB, MB.B9R1:U_DIODE_RB, MB.B8R1:U_DIODE_RB, MB.A10R1:U_DIODE_RB... from 2016-08-03 14:59:14.900 to 2016-08-03 15:08:24.900\n",
      "\tQuerying NXCALS signal(s) MB.B8R1:U_EARTH_RB, MB.A10R1:U_EARTH_RB, MB.B11R1:U_EARTH_RB, MB.C12R1:U_EARTH_RB, MB.A8R1:U_EARTH_RB... from 2016-08-03 14:59:14.900 to 2016-08-03 15:08:24.900\n",
      "\tQuerying PM event timestamps for system: QPS, className: DQAMCNMB_PMSTD, source: * from 2016-08-03 14:59:14.900 to 2016-08-03 15:08:24.900\n"
     ]
    },
    {
     "data": {
      "application/vnd.jupyter.widget-view+json": {
       "model_id": "884547f73be84697a662ba4a77848b15",
       "version_major": 2,
       "version_minor": 0
      },
      "text/plain": [
       "Querying iQPS logic PM:   0%|          | 0/1 [00:00<?, ?it/s]"
      ]
     },
     "metadata": {},
     "output_type": "display_data"
    },
    {
     "name": "stdout",
     "output_type": "stream",
     "text": [
      "\tQuerying PM event timestamps for system: QPS, className: DQAMCNMB_PMSTD, source: * from 2016-08-03 14:59:14.900 to 2016-08-03 15:08:24.900\n",
      "\tQuerying PM event timestamps for system: QPS, className: DQAMGNSRB_PMREL, source: * from 2016-08-03 14:59:54.900 to 2016-08-03 15:06:44.900\n"
     ]
    },
    {
     "name": "stderr",
     "output_type": "stream",
     "text": [
      "Some nQPS PM buffers missing. ['B8R1', 'B9R1', 'B10R1', 'B11R1', 'B12R1', 'B13R1', 'B14R1', 'B15R1', 'B16R1', 'B17R1', 'B18R1', 'B19R1', 'B20R1', 'B21R1', 'B22R1', 'B23R1', 'B24R1', 'B25R1', 'B26R1', 'B27R1', 'B28R1', 'B29R1', 'B30R1', 'B31R1', 'B32R1', 'B33R1', 'B34R1', 'B34L2', 'B33L2', 'B32L2', 'B30L2', 'B29L2', 'B28L2', 'B27L2', 'B26L2', 'B25L2', 'B24L2', 'B23L2', 'B22L2', 'B21L2', 'B20L2', 'B19L2', 'B18L2', 'B17L2', 'B16L2', 'B15L2', 'B14L2', 'B13L2', 'B12L2', 'B11L2', 'B10L2', 'B9L2', 'B8L2'] not found for RB.A12 within [(10, 's'), (400, 's')] around 1470229204900000000.\n"
     ]
    },
    {
     "data": {
      "application/vnd.jupyter.widget-view+json": {
       "model_id": "3f4c20e49f344f709f6123b7f475707e",
       "version_major": 2,
       "version_minor": 0
      },
      "text/plain": [
       "Querying PM/NXCALS U_DIODE_RB, U_REF_N1:   0%|          | 0/1 [00:00<?, ?it/s]"
      ]
     },
     "metadata": {},
     "output_type": "display_data"
    },
    {
     "data": {
      "application/vnd.jupyter.widget-view+json": {
       "model_id": "a38e98515c6640caa580995942292bba",
       "version_major": 2,
       "version_minor": 0
      },
      "text/plain": [
       "Querying PM/NXCALS U_DIODE_RB, U_REF_N1:   0%|          | 0/1 [00:00<?, ?it/s]"
      ]
     },
     "metadata": {},
     "output_type": "display_data"
    },
    {
     "name": "stdout",
     "output_type": "stream",
     "text": [
      "\tQuerying PM event timestamps for system: QPS, className: DQAMCNMB_PMHSU, source: * from 2016-08-03 14:59:54.900 to 2016-08-03 15:08:24.900\n"
     ]
    },
    {
     "data": {
      "application/vnd.jupyter.widget-view+json": {
       "model_id": "5248796a6c5d44e18c47cfcd549c7e64",
       "version_major": 2,
       "version_minor": 0
      },
      "text/plain": [
       "Querying PM:   0%|          | 0/1 [00:00<?, ?it/s]"
      ]
     },
     "metadata": {},
     "output_type": "display_data"
    },
    {
     "name": "stdout",
     "output_type": "stream",
     "text": [
      "\tQuerying PM event timestamps for system: QPS, className: DQAMCNMB_PMSTD, source: * from 2016-08-03 14:59:14.900 to 2016-08-03 15:08:24.900\n"
     ]
    },
    {
     "data": {
      "application/vnd.jupyter.widget-view+json": {
       "model_id": "58f2a63aca494750a9a343f43d2324bd",
       "version_major": 2,
       "version_minor": 0
      },
      "text/plain": [
       "Querying U, I Diode PM:   0%|          | 0/1 [00:00<?, ?it/s]"
      ]
     },
     "metadata": {},
     "output_type": "display_data"
    },
    {
     "name": "stdout",
     "output_type": "stream",
     "text": [
      "\tQuerying PM event timestamps for system: QPS, className: DQAMGNSRB_PMREL, source: B31L2 from 2016-08-03 14:50:04.869 to 2016-08-03 15:10:04.869\n",
      "\tQuerying PM event timestamps for system: QPS, className: DQAMCNMB_PMSTD, source: * from 2016-08-03 14:59:14.900 to 2016-08-03 15:05:54.900\n"
     ]
    },
    {
     "data": {
      "application/vnd.jupyter.widget-view+json": {
       "model_id": "c4a50e92cee64638a27bafdc0b5b0703",
       "version_major": 2,
       "version_minor": 0
      },
      "text/plain": [
       "Querying U, I Diode leads NXCALS:   0%|          | 0/1 [00:00<?, ?it/s]"
      ]
     },
     "metadata": {},
     "output_type": "display_data"
    },
    {
     "name": "stdout",
     "output_type": "stream",
     "text": [
      "\tQuerying PM event timestamps for system: QPS, className: DQAMGNDRBODD, DQAMGNDRBEVEN, source: RB.A12 from 2016-08-03 14:59:54.900 to 2016-08-03 15:06:44.900\n",
      "\tQuerying NXCALS signal(s) DFLAS.7R1.RB.A12.LD3:U_RES, DFLAS.7R1.RB.A12.LD3:U_HTS, DFLAS.7R1.RB.A12.LD4:U_HTS, DFLAS.7R1.RB.A12.LD4:U_RES, DFLAS.7L2.RB.A12.LD1:U_HTS... from 2016-08-03 14:59:34.900 to 2016-08-03 15:01:34.900\n",
      "\tQuerying PM event signal(s) STATUS.I_MEAS, STATUS.I_EARTH_PCNT, STATUS.I_REF, IEARTH.IEARTH, IAB.I_A for system: RPTE.UA23.RB.A12, className: 51_self_pmd, source: FGC at 2017-04-22 21:48:26.140\n",
      "\tQuerying PM event timestamps for system: QPS, className: DQAMSNRB, source: UA23.RB.A12, RR17.RB.A12 from 2017-04-22 21:48:16.140 to 2017-04-22 22:05:06.140\n",
      "\tQuerying PM event signal(s) RR17.RB.A12:U_DUMP_RES, UA23.RB.A12:U_DUMP_RES for system: UA23.RB.A12, RR17.RB.A12, className: DQAMSNRB, source: QPS at 2017-04-22 21:48:26.438\n"
     ]
    },
    {
     "name": "stderr",
     "output_type": "stream",
     "text": [
      "Post Mortem returned no data for the following query: http://pm-api-pro/v2/pmdata/signal?system=QPS&className=DQAMSNRB&source=UA23.RB.A12&timestampInNanos=1492890506438000000&signal=UA23.RB.A12:U_DUMP_RES\n"
     ]
    },
    {
     "name": "stdout",
     "output_type": "stream",
     "text": [
      "\tQuerying PM event timestamps for system: QPS, className: DQAMSNRB, source: UA23.RB.A12, RR17.RB.A12 from 2017-04-22 21:48:16.140 to 2017-04-22 22:05:06.140\n",
      "\tQuerying PM event signal(s) RR17.RB.A12:T_RES_BODY_3, RR17.RB.A12:T_RES_BODY_2, UA23.RB.A12:T_RES_BODY_2, RR17.RB.A12:T_RES_BODY_1, UA23.RB.A12:T_RES_BODY_1... for system: UA23.RB.A12, RR17.RB.A12..., className: DQAMSNRB..., source: QPS... at 2017-04-22 21:48:26.438\n"
     ]
    },
    {
     "name": "stderr",
     "output_type": "stream",
     "text": [
      "Post Mortem returned no data for the following query: http://pm-api-pro/v2/pmdata/signal?system=QPS&className=DQAMSNRB&source=UA23.RB.A12&timestampInNanos=1492890506438000000&signal=UA23.RB.A12:T_RES_BODY_1\n",
      "Post Mortem returned no data for the following query: http://pm-api-pro/v2/pmdata/signal?system=QPS&className=DQAMSNRB&source=UA23.RB.A12&timestampInNanos=1492890506438000000&signal=UA23.RB.A12:T_RES_BODY_2\n",
      "Post Mortem returned no data for the following query: http://pm-api-pro/v2/pmdata/signal?system=QPS&className=DQAMSNRB&source=UA23.RB.A12&timestampInNanos=1492890506438000000&signal=UA23.RB.A12:T_RES_BODY_3\n"
     ]
    },
    {
     "name": "stdout",
     "output_type": "stream",
     "text": [
      "\tQuerying NXCALS signal(s) MB.A9R1:U_DIODE_RB, MB.A8R1:U_DIODE_RB, MB.B9R1:U_DIODE_RB, MB.B8R1:U_DIODE_RB, MB.A10R1:U_DIODE_RB... from 2017-04-22 21:47:36.140 to 2017-04-22 21:56:46.140\n",
      "\tQuerying NXCALS signal(s) MB.B8R1:U_EARTH_RB, MB.A10R1:U_EARTH_RB, MB.B11R1:U_EARTH_RB, MB.C12R1:U_EARTH_RB, MB.A8R1:U_EARTH_RB... from 2017-04-22 21:47:36.140 to 2017-04-22 21:56:46.140\n",
      "\tQuerying PM event timestamps for system: QPS, className: DQAMCNMB_PMSTD, source: * from 2017-04-22 21:47:36.140 to 2017-04-22 21:56:46.140\n"
     ]
    },
    {
     "data": {
      "application/vnd.jupyter.widget-view+json": {
       "model_id": "17be60b2873e43368e1271038d09a417",
       "version_major": 2,
       "version_minor": 0
      },
      "text/plain": [
       "Querying iQPS logic PM:   0%|          | 0/6 [00:00<?, ?it/s]"
      ]
     },
     "metadata": {},
     "output_type": "display_data"
    },
    {
     "name": "stdout",
     "output_type": "stream",
     "text": [
      "\tQuerying PM event timestamps for system: QPS, className: DQAMCNMB_PMSTD, source: * from 2017-04-22 21:47:36.140 to 2017-04-22 21:56:46.140\n",
      "\tQuerying PM event timestamps for system: QPS, className: DQAMGNSRB_PMREL, source: * from 2017-04-22 21:48:16.140 to 2017-04-22 21:55:06.140\n"
     ]
    },
    {
     "data": {
      "application/vnd.jupyter.widget-view+json": {
       "model_id": "efd7cda3512947c2984f87d8d5f101ff",
       "version_major": 2,
       "version_minor": 0
      },
      "text/plain": [
       "Querying PM/NXCALS U_DIODE_RB, U_REF_N1:   0%|          | 0/6 [00:00<?, ?it/s]"
      ]
     },
     "metadata": {},
     "output_type": "display_data"
    },
    {
     "data": {
      "application/vnd.jupyter.widget-view+json": {
       "model_id": "47fd76c4dd1247a3aeb97fbd14226d74",
       "version_major": 2,
       "version_minor": 0
      },
      "text/plain": [
       "Querying PM/NXCALS U_DIODE_RB, U_REF_N1:   0%|          | 0/6 [00:00<?, ?it/s]"
      ]
     },
     "metadata": {},
     "output_type": "display_data"
    }
   ],
   "source": [
    "for index, row in mp3_fpa_df_to_download.iterrows():\n",
    "    circuit_type = row['Circuit Family']\n",
    "    circuit_name = row['Circuit Name']\n",
    "    timestamp_fgc = int(row['timestamp_fgc'])\n",
    "    \n",
    "    for signal_group in signal_groups:\n",
    "        group = signal_group(circuit_type, circuit_name, timestamp_fgc, spark=spark)\n",
    "        group.to_hdf5(file_dir=file_dir)\n",
    "        \n",
    "    group.log_acquisition(log_data={\"download_complete\": True}, log_path=context_path)"
   ]
  },
  {
   "cell_type": "code",
   "execution_count": null,
   "id": "a362071a",
   "metadata": {},
   "outputs": [],
   "source": []
  },
  {
   "cell_type": "code",
   "execution_count": null,
   "id": "3e64a773",
   "metadata": {},
   "outputs": [],
   "source": []
  }
 ],
 "metadata": {
  "kernelspec": {
   "display_name": "Python 3",
   "language": "python",
   "name": "python3"
  },
  "language_info": {
   "codemirror_mode": {
    "name": "ipython",
    "version": 3
   },
   "file_extension": ".py",
   "mimetype": "text/x-python",
   "name": "python",
   "nbconvert_exporter": "python",
   "pygments_lexer": "ipython3",
   "version": "3.8.6"
  },
  "sparkconnect": {
   "bundled_options": [
    "NXCALS"
   ],
   "list_of_options": []
  }
 },
 "nbformat": 4,
 "nbformat_minor": 5
}
